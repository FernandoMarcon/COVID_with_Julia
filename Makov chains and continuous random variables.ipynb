{
 "cells": [
  {
   "cell_type": "markdown",
   "metadata": {},
   "source": [
    "# Goals\n",
    "- Markov chains\n",
    "- Continuous limit\n",
    "- Continuous probability distributions\n",
    "- Probability density function"
   ]
  },
  {
   "cell_type": "markdown",
   "metadata": {},
   "source": [
    "# Markov chains\n",
    "- Let's think back to modelling recovery:\n",
    "- At each step, with probability *p* you recover\n",
    "- Call infected state 0, recovery state 1\n",
    "- Then have directed **transition graph** \n",
    "\n",
    "$0   \\underrightarrow{p}   1$"
   ]
  },
  {
   "cell_type": "markdown",
   "metadata": {},
   "source": [
    "Notations:\n",
    "- $X_n$ is state at time $n$\n",
    "- $X_0 = 0$ (infected)"
   ]
  },
  {
   "cell_type": "markdown",
   "metadata": {},
   "source": [
    "Let $P_i^{(n)}$ be $P(X_n = i)$ = probability that in state $i$ at time $n$"
   ]
  },
  {
   "cell_type": "markdown",
   "metadata": {},
   "source": [
    "Then"
   ]
  },
  {
   "cell_type": "markdown",
   "metadata": {},
   "source": [
    "$P_0^{n+1} = (1 - p) P_0^{(n)}$"
   ]
  },
  {
   "cell_type": "markdown",
   "metadata": {},
   "source": [
    "$P_1^{(n+1)} = p P_0^n + 1 P_1^{(n)}$"
   ]
  },
  {
   "cell_type": "markdown",
   "metadata": {},
   "source": [
    "Have"
   ]
  },
  {
   "cell_type": "markdown",
   "metadata": {},
   "source": [
    "$P_j^{(n+1)} = \\sum_{i} p_{i \\to j} P_i^{(n)}$"
   ]
  },
  {
   "cell_type": "markdown",
   "metadata": {},
   "source": [
    "\n",
    "Set **P**$_n := [ P_0^{(n)} P_1^{(n)} ]$ "
   ]
  },
  {
   "cell_type": "markdown",
   "metadata": {},
   "source": [
    "Then"
   ]
  },
  {
   "cell_type": "markdown",
   "metadata": {},
   "source": [
    "**P**$_n  = $ **P**$_n M$ "
   ]
  },
  {
   "cell_type": "markdown",
   "metadata": {},
   "source": [
    "With **transition matrix** $M := (p_{i \\to j})$"
   ]
  },
  {
   "cell_type": "markdown",
   "metadata": {},
   "source": [
    "We have a **stochastic matrix**"
   ]
  },
  {
   "cell_type": "markdown",
   "metadata": {},
   "source": [
    "$$\n",
    "M = \n",
    "\\begin{pmatrix}\n",
    "1 - p & p\\\\\n",
    "0 & 1\n",
    "\\end{pmatrix}\n",
    "$$"
   ]
  },
  {
   "cell_type": "markdown",
   "metadata": {},
   "source": [
    "Sum of entries in row $i = 1, \\forall i$"
   ]
  },
  {
   "cell_type": "markdown",
   "metadata": {},
   "source": [
    "$\\sum_{j} p(i \\to j) = 1, \\forall i$"
   ]
  },
  {
   "cell_type": "code",
   "execution_count": null,
   "metadata": {},
   "outputs": [],
   "source": []
  }
 ],
 "metadata": {
  "kernelspec": {
   "display_name": "Julia 1.6.0",
   "language": "julia",
   "name": "julia-1.6"
  },
  "language_info": {
   "file_extension": ".jl",
   "mimetype": "application/julia",
   "name": "julia",
   "version": "1.6.0"
  }
 },
 "nbformat": 4,
 "nbformat_minor": 4
}
