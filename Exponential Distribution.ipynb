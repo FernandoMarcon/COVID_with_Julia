{
 "cells": [
  {
   "cell_type": "markdown",
   "metadata": {},
   "source": [
    "# Continuous limit\n",
    "- Recall: geometric random variable\n",
    "- Jumps at times $t_n = n δ$ with probability $p(δ)$\n",
    "- Defined the **(cumulative) distribution function**\n",
    "$$F_x(t) := \\mathbb{P}(X \\leq t)$$\n",
    "- Showed that when $\\delta \\to 0$, have **convergence** of the geometric jumps\n",
    "- Need $p(\\delta) = \\lambda \\delta = O(\\delta^2)$\n",
    "- Basically given by **interpolatin**"
   ]
  },
  {
   "cell_type": "markdown",
   "metadata": {},
   "source": [
    "- Limiting distribution has\n",
    "$$F_Z(t) = 1 - exp(-\\lambda t)$$\n",
    "- This is an __exponential distribution__ with parameter $\\lambda$"
   ]
  },
  {
   "cell_type": "markdown",
   "metadata": {},
   "source": [
    "## Probability density function\n",
    "- Equivalent of probability mass function?\n",
    "- Replace sum in definition of distribution function by integral\n",
    "$$F_Z(t) = \\mathbb{P}(X \\leq t) = \\int_0^t f_Z(t)dt$$\n",
    "- $f_Z(t)$ is **probability density function**\n",
    "- $f_Z(t) dt$ is probability that $Z \\in [t,t+dt]$"
   ]
  },
  {
   "cell_type": "code",
   "execution_count": null,
   "metadata": {},
   "outputs": [],
   "source": []
  }
 ],
 "metadata": {
  "kernelspec": {
   "display_name": "Julia 1.6.0",
   "language": "julia",
   "name": "julia-1.6"
  },
  "language_info": {
   "file_extension": ".jl",
   "mimetype": "application/julia",
   "name": "julia",
   "version": "1.6.0"
  }
 },
 "nbformat": 4,
 "nbformat_minor": 4
}
