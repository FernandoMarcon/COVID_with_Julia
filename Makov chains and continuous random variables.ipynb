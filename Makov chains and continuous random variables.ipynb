{
 "cells": [
  {
   "cell_type": "markdown",
   "metadata": {},
   "source": [
    "# Goals\n",
    "- Markov chains\n",
    "- Continuous limit\n",
    "- Continuous probability distributions\n",
    "- Probability density function"
   ]
  },
  {
   "cell_type": "markdown",
   "metadata": {},
   "source": [
    "# Markov chains\n",
    "- Let's think back to modelling recovery:\n",
    "- At each step, with probability *p* you recover\n",
    "- Call infected state 0, recovery state 1\n",
    "- Then have directed **transition graph** \n",
    "\n",
    "$0   \\underrightarrow{p}   1$"
   ]
  },
  {
   "cell_type": "markdown",
   "metadata": {},
   "source": [
    "Notations:\n",
    "- $X_n$ is state at time $n$\n",
    "- $X_0 = 0$ (infected)"
   ]
  },
  {
   "cell_type": "markdown",
   "metadata": {},
   "source": [
    "Let $P_i^{(n)}$ be $P(X_n = i)$ = probability that in state $i$ at time $n$"
   ]
  },
  {
   "cell_type": "markdown",
   "metadata": {},
   "source": [
    "Then"
   ]
  },
  {
   "cell_type": "markdown",
   "metadata": {},
   "source": [
    "$P_0^{n+1} = (1 - p) P_0^{(n)}$"
   ]
  },
  {
   "cell_type": "markdown",
   "metadata": {},
   "source": [
    "$P_1^{(n+1)} = p P_0^n + 1 P_1^{(n)}$"
   ]
  },
  {
   "cell_type": "markdown",
   "metadata": {},
   "source": [
    "Have"
   ]
  },
  {
   "cell_type": "markdown",
   "metadata": {},
   "source": [
    "$P_j^{(n+1)} = \\sum_{i} p_{i \\to j} P_i^{(n)}$"
   ]
  },
  {
   "cell_type": "markdown",
   "metadata": {},
   "source": [
    "\n",
    "Set **P**$_n := [ P_0^{(n)} P_1^{(n)} ]$ "
   ]
  },
  {
   "cell_type": "markdown",
   "metadata": {},
   "source": [
    "Then"
   ]
  },
  {
   "cell_type": "markdown",
   "metadata": {},
   "source": [
    "**P**$_n  = $ **P**$_n M$ "
   ]
  },
  {
   "cell_type": "markdown",
   "metadata": {},
   "source": [
    "With **transition matrix** $M := (p_{i \\to j})$"
   ]
  },
  {
   "cell_type": "markdown",
   "metadata": {},
   "source": [
    "We have a **stochastic matrix**"
   ]
  },
  {
   "cell_type": "markdown",
   "metadata": {},
   "source": [
    "$$\n",
    "M = \n",
    "\\begin{pmatrix}\n",
    "1 - p & p\\\\\n",
    "0 & 1\n",
    "\\end{pmatrix}\n",
    "$$"
   ]
  },
  {
   "cell_type": "markdown",
   "metadata": {},
   "source": [
    "Sum of entries in row $i = 1, \\forall i$"
   ]
  },
  {
   "cell_type": "markdown",
   "metadata": {},
   "source": [
    "$\\sum_{j} p(i \\to j) = 1, \\forall i$"
   ]
  },
  {
   "cell_type": "code",
   "execution_count": 3,
   "metadata": {},
   "outputs": [
    {
     "data": {
      "text/plain": [
       "2×2 Matrix{Float64}:\n",
       " 0.9  0.1\n",
       " 0.0  1.0"
      ]
     },
     "execution_count": 3,
     "metadata": {},
     "output_type": "execute_result"
    }
   ],
   "source": [
    "p = 0.1\n",
    "\n",
    "M = [1-p p \n",
    "    0 1]"
   ]
  },
  {
   "cell_type": "code",
   "execution_count": 4,
   "metadata": {},
   "outputs": [
    {
     "data": {
      "text/plain": [
       "1×2 Matrix{Float64}:\n",
       " 1.0  0.0"
      ]
     },
     "execution_count": 4,
     "metadata": {},
     "output_type": "execute_result"
    }
   ],
   "source": [
    "P₀ = [1.0 0.0]"
   ]
  },
  {
   "cell_type": "code",
   "execution_count": 5,
   "metadata": {},
   "outputs": [
    {
     "data": {
      "text/plain": [
       "1×2 Matrix{Float64}:\n",
       " 0.9  0.1"
      ]
     },
     "execution_count": 5,
     "metadata": {},
     "output_type": "execute_result"
    }
   ],
   "source": [
    "P₁ = P₀ * M"
   ]
  },
  {
   "cell_type": "code",
   "execution_count": 6,
   "metadata": {},
   "outputs": [
    {
     "data": {
      "text/plain": [
       "1×2 Matrix{Float64}:\n",
       " 0.81  0.19"
      ]
     },
     "execution_count": 6,
     "metadata": {},
     "output_type": "execute_result"
    }
   ],
   "source": [
    "P₂ = P₁ * M"
   ]
  },
  {
   "cell_type": "code",
   "execution_count": 7,
   "metadata": {},
   "outputs": [
    {
     "data": {
      "text/plain": [
       "1×2 Matrix{Float64}:\n",
       " 0.729  0.271"
      ]
     },
     "execution_count": 7,
     "metadata": {},
     "output_type": "execute_result"
    }
   ],
   "source": [
    "P₃ = P₂ * M"
   ]
  },
  {
   "cell_type": "code",
   "execution_count": 8,
   "metadata": {},
   "outputs": [
    {
     "data": {
      "text/plain": [
       "dynamics (generic function with 1 method)"
      ]
     },
     "execution_count": 8,
     "metadata": {},
     "output_type": "execute_result"
    }
   ],
   "source": [
    "function dynamics(P₀, M, n)\n",
    "    P = copy(P₀)\n",
    "    \n",
    "    for i in 1:n\n",
    "        Pₙ = P * M\n",
    "        P, Pₙ = Pₙ, P # swaps \"pointers\" P and Pn\n",
    "    end\n",
    "    \n",
    "    return P\n",
    "end"
   ]
  },
  {
   "cell_type": "code",
   "execution_count": 9,
   "metadata": {},
   "outputs": [
    {
     "data": {
      "text/plain": [
       "1×2 Matrix{Float64}:\n",
       " 0.9  0.1"
      ]
     },
     "execution_count": 9,
     "metadata": {},
     "output_type": "execute_result"
    }
   ],
   "source": [
    "dynamics(P₀, M, 1)"
   ]
  },
  {
   "cell_type": "code",
   "execution_count": 10,
   "metadata": {},
   "outputs": [
    {
     "data": {
      "text/plain": [
       "1×2 Matrix{Float64}:\n",
       " 0.81  0.19"
      ]
     },
     "execution_count": 10,
     "metadata": {},
     "output_type": "execute_result"
    }
   ],
   "source": [
    "dynamics(P₀, M, 2)"
   ]
  },
  {
   "cell_type": "code",
   "execution_count": 11,
   "metadata": {},
   "outputs": [
    {
     "data": {
      "text/plain": [
       "1×2 Matrix{Float64}:\n",
       " 0.348678  0.651322"
      ]
     },
     "execution_count": 11,
     "metadata": {},
     "output_type": "execute_result"
    }
   ],
   "source": [
    "dynamics(P₀, M, 10)"
   ]
  },
  {
   "cell_type": "code",
   "execution_count": 12,
   "metadata": {},
   "outputs": [
    {
     "data": {
      "text/plain": [
       "1×2 Matrix{Float64}:\n",
       " 2.65614e-5  0.999973"
      ]
     },
     "execution_count": 12,
     "metadata": {},
     "output_type": "execute_result"
    }
   ],
   "source": [
    "dynamics(P₀, M, 100)"
   ]
  },
  {
   "cell_type": "code",
   "execution_count": 13,
   "metadata": {},
   "outputs": [
    {
     "data": {
      "text/plain": [
       "2.6561398887587544e-5"
      ]
     },
     "execution_count": 13,
     "metadata": {},
     "output_type": "execute_result"
    }
   ],
   "source": [
    "0.9^100"
   ]
  },
  {
   "cell_type": "markdown",
   "metadata": {},
   "source": [
    "$$P_0^{(n)} = (1 - p)^{(n-1)}$$"
   ]
  },
  {
   "cell_type": "markdown",
   "metadata": {},
   "source": [
    "Suppose small chance of re-infection after recovery"
   ]
  },
  {
   "cell_type": "code",
   "execution_count": 14,
   "metadata": {},
   "outputs": [
    {
     "data": {
      "text/plain": [
       "2×2 Matrix{Float64}:\n",
       " 0.9   0.1\n",
       " 0.01  0.99"
      ]
     },
     "execution_count": 14,
     "metadata": {},
     "output_type": "execute_result"
    }
   ],
   "source": [
    "M = [1-p p \n",
    "    0.01 0.99]"
   ]
  },
  {
   "cell_type": "code",
   "execution_count": 16,
   "metadata": {},
   "outputs": [
    {
     "data": {
      "text/plain": [
       "1000-element Vector{Matrix{Float64}}:\n",
       " [0.9 0.1]\n",
       " [0.811 0.189]\n",
       " [0.73179 0.26821]\n",
       " [0.6612931000000001 0.33870690000000003]\n",
       " [0.598550859 0.40144914100000006]\n",
       " [0.54271026451 0.45728973549000007]\n",
       " [0.49301213541390004 0.5069878645861001]\n",
       " [0.44878080051837105 0.5512191994816291]\n",
       " [0.40941491246135026 0.5905850875386499]\n",
       " [0.37437927209060173 0.6256207279093984]\n",
       " [0.3431975521606356 0.6568024478393646]\n",
       " [0.3154458214229657 0.6845541785770345]\n",
       " [0.2907467810664395 0.7092532189335607]\n",
       " ⋮\n",
       " [0.09090909090909075 0.9090909090909072]\n",
       " [0.09090909090909075 0.9090909090909072]\n",
       " [0.09090909090909075 0.9090909090909072]\n",
       " [0.09090909090909075 0.9090909090909072]\n",
       " [0.09090909090909075 0.9090909090909072]\n",
       " [0.09090909090909075 0.9090909090909072]\n",
       " [0.09090909090909075 0.9090909090909072]\n",
       " [0.09090909090909075 0.9090909090909072]\n",
       " [0.09090909090909075 0.9090909090909072]\n",
       " [0.09090909090909075 0.9090909090909072]\n",
       " [0.09090909090909075 0.9090909090909072]\n",
       " [0.09090909090909075 0.9090909090909072]"
      ]
     },
     "execution_count": 16,
     "metadata": {},
     "output_type": "execute_result"
    }
   ],
   "source": [
    "data = [dynamics(P₀, M, n) for n in 1:1000]"
   ]
  },
  {
   "cell_type": "markdown",
   "metadata": {},
   "source": [
    "**Stationary state**\n",
    "Unchanging probability vector $\\to$ **eigenvector** $v$ of the transition matrix:\n",
    "\n",
    "$$M v = \\lambda v$$"
   ]
  },
  {
   "cell_type": "code",
   "execution_count": 17,
   "metadata": {},
   "outputs": [
    {
     "data": {
      "text/plain": [
       "1×2 Matrix{Float64}:\n",
       " 0.0909091  0.909091"
      ]
     },
     "execution_count": 17,
     "metadata": {},
     "output_type": "execute_result"
    }
   ],
   "source": [
    "v = data[end]"
   ]
  },
  {
   "cell_type": "code",
   "execution_count": 18,
   "metadata": {},
   "outputs": [
    {
     "data": {
      "text/plain": [
       "1×2 Matrix{Float64}:\n",
       " 0.0909091  0.909091"
      ]
     },
     "execution_count": 18,
     "metadata": {},
     "output_type": "execute_result"
    }
   ],
   "source": [
    "v * M "
   ]
  },
  {
   "cell_type": "code",
   "execution_count": 19,
   "metadata": {},
   "outputs": [
    {
     "data": {
      "text/plain": [
       "true"
      ]
     },
     "execution_count": 19,
     "metadata": {},
     "output_type": "execute_result"
    }
   ],
   "source": [
    "v * M == v"
   ]
  },
  {
   "cell_type": "code",
   "execution_count": 20,
   "metadata": {},
   "outputs": [
    {
     "data": {
      "text/plain": [
       "true"
      ]
     },
     "execution_count": 20,
     "metadata": {},
     "output_type": "execute_result"
    }
   ],
   "source": [
    "v * M == 1.0 .* v # eigenvector with eigenvalue 1"
   ]
  },
  {
   "cell_type": "markdown",
   "metadata": {},
   "source": [
    "## Continuous limit"
   ]
  },
  {
   "cell_type": "markdown",
   "metadata": {},
   "source": [
    "Back to the recovery model. We have talking about the number of people that recover each *day*"
   ]
  },
  {
   "cell_type": "markdown",
   "metadata": {},
   "source": [
    "$A \\rightarrow B$"
   ]
  },
  {
   "cell_type": "markdown",
   "metadata": {},
   "source": [
    "Chemical reactions: **Continuous time**: $t \\in \\mathbb{R}$"
   ]
  },
  {
   "cell_type": "markdown",
   "metadata": {},
   "source": [
    "Probability of recovery at time $n$ is $p_n (1-p)^{n-1}$"
   ]
  },
  {
   "cell_type": "markdown",
   "metadata": {},
   "source": [
    "**Cumulative** Probability of having recovered at some time <= $n$:"
   ]
  },
  {
   "cell_type": "markdown",
   "metadata": {},
   "source": [
    "$s_N := \\sum_{n=1}^N p_n$"
   ]
  },
  {
   "cell_type": "code",
   "execution_count": 4,
   "metadata": {},
   "outputs": [
    {
     "data": {
      "text/plain": [
       "20-element Vector{Float64}:\n",
       " 0.1\n",
       " 0.09000000000000001\n",
       " 0.08100000000000002\n",
       " 0.0729\n",
       " 0.06561000000000002\n",
       " 0.05904900000000001\n",
       " 0.05314410000000001\n",
       " 0.04782969000000001\n",
       " 0.04304672100000001\n",
       " 0.03874204890000001\n",
       " 0.03486784401000001\n",
       " 0.031381059609000006\n",
       " 0.028242953648100012\n",
       " 0.02541865828329001\n",
       " 0.02287679245496101\n",
       " 0.02058911320946491\n",
       " 0.018530201888518418\n",
       " 0.016677181699666577\n",
       " 0.015009463529699918\n",
       " 0.013508517176729929"
      ]
     },
     "execution_count": 4,
     "metadata": {},
     "output_type": "execute_result"
    }
   ],
   "source": [
    "p = 0.1\n",
    "\n",
    "probs = [p .* (1 - p)^(n-1) for n in 1:20]"
   ]
  },
  {
   "cell_type": "code",
   "execution_count": 5,
   "metadata": {},
   "outputs": [
    {
     "data": {
      "text/plain": [
       "20-element Vector{Float64}:\n",
       " 0.1\n",
       " 0.19\n",
       " 0.271\n",
       " 0.3439000000000001\n",
       " 0.40951000000000004\n",
       " 0.46855900000000006\n",
       " 0.5217031000000001\n",
       " 0.5695327900000001\n",
       " 0.6125795110000002\n",
       " 0.6513215599000002\n",
       " 0.6861894039100002\n",
       " 0.7175704635190002\n",
       " 0.7458134171671003\n",
       " 0.7712320754503903\n",
       " 0.7941088679053513\n",
       " 0.8146979811148162\n",
       " 0.8332281830033346\n",
       " 0.8499053647030012\n",
       " 0.864914828232701\n",
       " 0.878423345409431"
      ]
     },
     "execution_count": 5,
     "metadata": {},
     "output_type": "execute_result"
    }
   ],
   "source": [
    "s = cumsum(probs)"
   ]
  },
  {
   "cell_type": "code",
   "execution_count": 6,
   "metadata": {},
   "outputs": [],
   "source": [
    "using Plots"
   ]
  },
  {
   "cell_type": "code",
   "execution_count": 7,
   "metadata": {},
   "outputs": [
    {
     "data": {
      "image/svg+xml": [
       "<?xml version=\"1.0\" encoding=\"utf-8\"?>\n",
       "<svg xmlns=\"http://www.w3.org/2000/svg\" xmlns:xlink=\"http://www.w3.org/1999/xlink\" width=\"600\" height=\"400\" viewBox=\"0 0 2400 1600\">\n",
       "<defs>\n",
       "  <clipPath id=\"clip550\">\n",
       "    <rect x=\"0\" y=\"0\" width=\"2400\" height=\"1600\"/>\n",
       "  </clipPath>\n",
       "</defs>\n",
       "<path clip-path=\"url(#clip550)\" d=\"\n",
       "M0 1600 L2400 1600 L2400 0 L0 0  Z\n",
       "  \" fill=\"#ffffff\" fill-rule=\"evenodd\" fill-opacity=\"1\"/>\n",
       "<defs>\n",
       "  <clipPath id=\"clip551\">\n",
       "    <rect x=\"480\" y=\"0\" width=\"1681\" height=\"1600\"/>\n",
       "  </clipPath>\n",
       "</defs>\n",
       "<path clip-path=\"url(#clip550)\" d=\"\n",
       "M148.334 1486.45 L2352.76 1486.45 L2352.76 47.2441 L148.334 47.2441  Z\n",
       "  \" fill=\"#ffffff\" fill-rule=\"evenodd\" fill-opacity=\"1\"/>\n",
       "<defs>\n",
       "  <clipPath id=\"clip552\">\n",
       "    <rect x=\"148\" y=\"47\" width=\"2205\" height=\"1440\"/>\n",
       "  </clipPath>\n",
       "</defs>\n",
       "<polyline clip-path=\"url(#clip552)\" style=\"stroke:#000000; stroke-width:2; stroke-opacity:0.1; fill:none\" points=\"\n",
       "  648.543,1486.45 648.543,47.2441 \n",
       "  \"/>\n",
       "<polyline clip-path=\"url(#clip552)\" style=\"stroke:#000000; stroke-width:2; stroke-opacity:0.1; fill:none\" points=\"\n",
       "  1195.82,1486.45 1195.82,47.2441 \n",
       "  \"/>\n",
       "<polyline clip-path=\"url(#clip552)\" style=\"stroke:#000000; stroke-width:2; stroke-opacity:0.1; fill:none\" points=\"\n",
       "  1743.09,1486.45 1743.09,47.2441 \n",
       "  \"/>\n",
       "<polyline clip-path=\"url(#clip552)\" style=\"stroke:#000000; stroke-width:2; stroke-opacity:0.1; fill:none\" points=\"\n",
       "  2290.37,1486.45 2290.37,47.2441 \n",
       "  \"/>\n",
       "<polyline clip-path=\"url(#clip550)\" style=\"stroke:#000000; stroke-width:4; stroke-opacity:1; fill:none\" points=\"\n",
       "  148.334,1486.45 2352.76,1486.45 \n",
       "  \"/>\n",
       "<polyline clip-path=\"url(#clip550)\" style=\"stroke:#000000; stroke-width:4; stroke-opacity:1; fill:none\" points=\"\n",
       "  648.543,1486.45 648.543,1469.18 \n",
       "  \"/>\n",
       "<polyline clip-path=\"url(#clip550)\" style=\"stroke:#000000; stroke-width:4; stroke-opacity:1; fill:none\" points=\"\n",
       "  1195.82,1486.45 1195.82,1469.18 \n",
       "  \"/>\n",
       "<polyline clip-path=\"url(#clip550)\" style=\"stroke:#000000; stroke-width:4; stroke-opacity:1; fill:none\" points=\"\n",
       "  1743.09,1486.45 1743.09,1469.18 \n",
       "  \"/>\n",
       "<polyline clip-path=\"url(#clip550)\" style=\"stroke:#000000; stroke-width:4; stroke-opacity:1; fill:none\" points=\"\n",
       "  2290.37,1486.45 2290.37,1469.18 \n",
       "  \"/>\n",
       "<path clip-path=\"url(#clip550)\" d=\"M 0 0 M638.821 1512.56 L657.177 1512.56 L657.177 1516.5 L643.103 1516.5 L643.103 1524.97 Q644.122 1524.62 645.14 1524.46 Q646.159 1524.27 647.178 1524.27 Q652.965 1524.27 656.344 1527.44 Q659.724 1530.62 659.724 1536.03 Q659.724 1541.61 656.252 1544.71 Q652.779 1547.79 646.46 1547.79 Q644.284 1547.79 642.016 1547.42 Q639.77 1547.05 637.363 1546.31 L637.363 1541.61 Q639.446 1542.74 641.668 1543.3 Q643.89 1543.86 646.367 1543.86 Q650.372 1543.86 652.71 1541.75 Q655.048 1539.64 655.048 1536.03 Q655.048 1532.42 652.71 1530.31 Q650.372 1528.21 646.367 1528.21 Q644.492 1528.21 642.617 1528.62 Q640.766 1529.04 638.821 1529.92 L638.821 1512.56 Z\" fill=\"#000000\" fill-rule=\"evenodd\" fill-opacity=\"1\" /><path clip-path=\"url(#clip550)\" d=\"M 0 0 M1172.69 1543.18 L1180.33 1543.18 L1180.33 1516.82 L1172.02 1518.49 L1172.02 1514.23 L1180.29 1512.56 L1184.96 1512.56 L1184.96 1543.18 L1192.6 1543.18 L1192.6 1547.12 L1172.69 1547.12 L1172.69 1543.18 Z\" fill=\"#000000\" fill-rule=\"evenodd\" fill-opacity=\"1\" /><path clip-path=\"url(#clip550)\" d=\"M 0 0 M1207.67 1515.64 Q1204.06 1515.64 1202.23 1519.2 Q1200.42 1522.75 1200.42 1529.87 Q1200.42 1536.98 1202.23 1540.55 Q1204.06 1544.09 1207.67 1544.09 Q1211.3 1544.09 1213.11 1540.55 Q1214.94 1536.98 1214.94 1529.87 Q1214.94 1522.75 1213.11 1519.2 Q1211.3 1515.64 1207.67 1515.64 M1207.67 1511.93 Q1213.48 1511.93 1216.54 1516.54 Q1219.61 1521.12 1219.61 1529.87 Q1219.61 1538.6 1216.54 1543.21 Q1213.48 1547.79 1207.67 1547.79 Q1201.86 1547.79 1198.78 1543.21 Q1195.73 1538.6 1195.73 1529.87 Q1195.73 1521.12 1198.78 1516.54 Q1201.86 1511.93 1207.67 1511.93 Z\" fill=\"#000000\" fill-rule=\"evenodd\" fill-opacity=\"1\" /><path clip-path=\"url(#clip550)\" d=\"M 0 0 M1720.46 1543.18 L1728.1 1543.18 L1728.1 1516.82 L1719.79 1518.49 L1719.79 1514.23 L1728.06 1512.56 L1732.73 1512.56 L1732.73 1543.18 L1740.37 1543.18 L1740.37 1547.12 L1720.46 1547.12 L1720.46 1543.18 Z\" fill=\"#000000\" fill-rule=\"evenodd\" fill-opacity=\"1\" /><path clip-path=\"url(#clip550)\" d=\"M 0 0 M1745.49 1512.56 L1763.84 1512.56 L1763.84 1516.5 L1749.77 1516.5 L1749.77 1524.97 Q1750.79 1524.62 1751.81 1524.46 Q1752.83 1524.27 1753.84 1524.27 Q1759.63 1524.27 1763.01 1527.44 Q1766.39 1530.62 1766.39 1536.03 Q1766.39 1541.61 1762.92 1544.71 Q1759.45 1547.79 1753.13 1547.79 Q1750.95 1547.79 1748.68 1547.42 Q1746.44 1547.05 1744.03 1546.31 L1744.03 1541.61 Q1746.11 1542.74 1748.34 1543.3 Q1750.56 1543.86 1753.03 1543.86 Q1757.04 1543.86 1759.38 1541.75 Q1761.71 1539.64 1761.71 1536.03 Q1761.71 1532.42 1759.38 1530.31 Q1757.04 1528.21 1753.03 1528.21 Q1751.16 1528.21 1749.28 1528.62 Q1747.43 1529.04 1745.49 1529.92 L1745.49 1512.56 Z\" fill=\"#000000\" fill-rule=\"evenodd\" fill-opacity=\"1\" /><path clip-path=\"url(#clip550)\" d=\"M 0 0 M2271.51 1543.18 L2287.83 1543.18 L2287.83 1547.12 L2265.89 1547.12 L2265.89 1543.18 Q2268.55 1540.43 2273.13 1535.8 Q2277.74 1531.15 2278.92 1529.81 Q2281.17 1527.28 2282.04 1525.55 Q2282.95 1523.79 2282.95 1522.1 Q2282.95 1519.34 2281 1517.61 Q2279.08 1515.87 2275.98 1515.87 Q2273.78 1515.87 2271.33 1516.63 Q2268.9 1517.4 2266.12 1518.95 L2266.12 1514.23 Q2268.94 1513.09 2271.4 1512.51 Q2273.85 1511.93 2275.89 1511.93 Q2281.26 1511.93 2284.45 1514.62 Q2287.65 1517.31 2287.65 1521.8 Q2287.65 1523.93 2286.84 1525.85 Q2286.05 1527.74 2283.94 1530.34 Q2283.36 1531.01 2280.26 1534.23 Q2277.16 1537.42 2271.51 1543.18 Z\" fill=\"#000000\" fill-rule=\"evenodd\" fill-opacity=\"1\" /><path clip-path=\"url(#clip550)\" d=\"M 0 0 M2302.9 1515.64 Q2299.29 1515.64 2297.46 1519.2 Q2295.66 1522.75 2295.66 1529.87 Q2295.66 1536.98 2297.46 1540.55 Q2299.29 1544.09 2302.9 1544.09 Q2306.54 1544.09 2308.34 1540.55 Q2310.17 1536.98 2310.17 1529.87 Q2310.17 1522.75 2308.34 1519.2 Q2306.54 1515.64 2302.9 1515.64 M2302.9 1511.93 Q2308.71 1511.93 2311.77 1516.54 Q2314.85 1521.12 2314.85 1529.87 Q2314.85 1538.6 2311.77 1543.21 Q2308.71 1547.79 2302.9 1547.79 Q2297.09 1547.79 2294.01 1543.21 Q2290.96 1538.6 2290.96 1529.87 Q2290.96 1521.12 2294.01 1516.54 Q2297.09 1511.93 2302.9 1511.93 Z\" fill=\"#000000\" fill-rule=\"evenodd\" fill-opacity=\"1\" /><polyline clip-path=\"url(#clip552)\" style=\"stroke:#000000; stroke-width:2; stroke-opacity:0.1; fill:none\" points=\"\n",
       "  148.334,1271.29 2352.76,1271.29 \n",
       "  \"/>\n",
       "<polyline clip-path=\"url(#clip552)\" style=\"stroke:#000000; stroke-width:2; stroke-opacity:0.1; fill:none\" points=\"\n",
       "  148.334,922.451 2352.76,922.451 \n",
       "  \"/>\n",
       "<polyline clip-path=\"url(#clip552)\" style=\"stroke:#000000; stroke-width:2; stroke-opacity:0.1; fill:none\" points=\"\n",
       "  148.334,573.607 2352.76,573.607 \n",
       "  \"/>\n",
       "<polyline clip-path=\"url(#clip552)\" style=\"stroke:#000000; stroke-width:2; stroke-opacity:0.1; fill:none\" points=\"\n",
       "  148.334,224.764 2352.76,224.764 \n",
       "  \"/>\n",
       "<polyline clip-path=\"url(#clip550)\" style=\"stroke:#000000; stroke-width:4; stroke-opacity:1; fill:none\" points=\"\n",
       "  148.334,1486.45 148.334,47.2441 \n",
       "  \"/>\n",
       "<polyline clip-path=\"url(#clip550)\" style=\"stroke:#000000; stroke-width:4; stroke-opacity:1; fill:none\" points=\"\n",
       "  148.334,1271.29 174.787,1271.29 \n",
       "  \"/>\n",
       "<polyline clip-path=\"url(#clip550)\" style=\"stroke:#000000; stroke-width:4; stroke-opacity:1; fill:none\" points=\"\n",
       "  148.334,922.451 174.787,922.451 \n",
       "  \"/>\n",
       "<polyline clip-path=\"url(#clip550)\" style=\"stroke:#000000; stroke-width:4; stroke-opacity:1; fill:none\" points=\"\n",
       "  148.334,573.607 174.787,573.607 \n",
       "  \"/>\n",
       "<polyline clip-path=\"url(#clip550)\" style=\"stroke:#000000; stroke-width:4; stroke-opacity:1; fill:none\" points=\"\n",
       "  148.334,224.764 174.787,224.764 \n",
       "  \"/>\n",
       "<path clip-path=\"url(#clip550)\" d=\"M 0 0 M65.0198 1257.09 Q61.4087 1257.09 59.58 1260.66 Q57.7745 1264.2 57.7745 1271.33 Q57.7745 1278.44 59.58 1282 Q61.4087 1285.54 65.0198 1285.54 Q68.6541 1285.54 70.4596 1282 Q72.2883 1278.44 72.2883 1271.33 Q72.2883 1264.2 70.4596 1260.66 Q68.6541 1257.09 65.0198 1257.09 M65.0198 1253.39 Q70.83 1253.39 73.8855 1258 Q76.9642 1262.58 76.9642 1271.33 Q76.9642 1280.06 73.8855 1284.66 Q70.83 1289.25 65.0198 1289.25 Q59.2097 1289.25 56.131 1284.66 Q53.0754 1280.06 53.0754 1271.33 Q53.0754 1262.58 56.131 1258 Q59.2097 1253.39 65.0198 1253.39 Z\" fill=\"#000000\" fill-rule=\"evenodd\" fill-opacity=\"1\" /><path clip-path=\"url(#clip550)\" d=\"M 0 0 M82.0336 1282.69 L86.9179 1282.69 L86.9179 1288.57 L82.0336 1288.57 L82.0336 1282.69 Z\" fill=\"#000000\" fill-rule=\"evenodd\" fill-opacity=\"1\" /><path clip-path=\"url(#clip550)\" d=\"M 0 0 M96.015 1284.64 L112.334 1284.64 L112.334 1288.57 L90.3901 1288.57 L90.3901 1284.64 Q93.0521 1281.88 97.6354 1277.25 Q102.242 1272.6 103.422 1271.26 Q105.668 1268.74 106.547 1267 Q107.45 1265.24 107.45 1263.55 Q107.45 1260.8 105.506 1259.06 Q103.584 1257.32 100.483 1257.32 Q98.2835 1257.32 95.8298 1258.09 Q93.3993 1258.85 90.6215 1260.4 L90.6215 1255.68 Q93.4456 1254.55 95.8993 1253.97 Q98.353 1253.39 100.39 1253.39 Q105.76 1253.39 108.955 1256.07 Q112.149 1258.76 112.149 1263.25 Q112.149 1265.38 111.339 1267.3 Q110.552 1269.2 108.446 1271.79 Q107.867 1272.46 104.765 1275.68 Q101.663 1278.87 96.015 1284.64 Z\" fill=\"#000000\" fill-rule=\"evenodd\" fill-opacity=\"1\" /><path clip-path=\"url(#clip550)\" d=\"M 0 0 M62.9365 908.249 Q59.3254 908.249 57.4967 911.814 Q55.6912 915.356 55.6912 922.485 Q55.6912 929.592 57.4967 933.156 Q59.3254 936.698 62.9365 936.698 Q66.5707 936.698 68.3763 933.156 Q70.205 929.592 70.205 922.485 Q70.205 915.356 68.3763 911.814 Q66.5707 908.249 62.9365 908.249 M62.9365 904.546 Q68.7467 904.546 71.8022 909.152 Q74.8809 913.735 74.8809 922.485 Q74.8809 931.212 71.8022 935.819 Q68.7467 940.402 62.9365 940.402 Q57.1264 940.402 54.0477 935.819 Q50.9921 931.212 50.9921 922.485 Q50.9921 913.735 54.0477 909.152 Q57.1264 904.546 62.9365 904.546 Z\" fill=\"#000000\" fill-rule=\"evenodd\" fill-opacity=\"1\" /><path clip-path=\"url(#clip550)\" d=\"M 0 0 M79.9503 933.851 L84.8345 933.851 L84.8345 939.731 L79.9503 939.731 L79.9503 933.851 Z\" fill=\"#000000\" fill-rule=\"evenodd\" fill-opacity=\"1\" /><path clip-path=\"url(#clip550)\" d=\"M 0 0 M102.751 909.245 L90.9456 927.694 L102.751 927.694 L102.751 909.245 M101.524 905.171 L107.404 905.171 L107.404 927.694 L112.334 927.694 L112.334 931.582 L107.404 931.582 L107.404 939.731 L102.751 939.731 L102.751 931.582 L87.1493 931.582 L87.1493 927.069 L101.524 905.171 Z\" fill=\"#000000\" fill-rule=\"evenodd\" fill-opacity=\"1\" /><path clip-path=\"url(#clip550)\" d=\"M 0 0 M63.2606 559.406 Q59.6495 559.406 57.8208 562.971 Q56.0152 566.512 56.0152 573.642 Q56.0152 580.748 57.8208 584.313 Q59.6495 587.855 63.2606 587.855 Q66.8948 587.855 68.7004 584.313 Q70.5291 580.748 70.5291 573.642 Q70.5291 566.512 68.7004 562.971 Q66.8948 559.406 63.2606 559.406 M63.2606 555.702 Q69.0707 555.702 72.1263 560.309 Q75.205 564.892 75.205 573.642 Q75.205 582.369 72.1263 586.975 Q69.0707 591.558 63.2606 591.558 Q57.4504 591.558 54.3717 586.975 Q51.3162 582.369 51.3162 573.642 Q51.3162 564.892 54.3717 560.309 Q57.4504 555.702 63.2606 555.702 Z\" fill=\"#000000\" fill-rule=\"evenodd\" fill-opacity=\"1\" /><path clip-path=\"url(#clip550)\" d=\"M 0 0 M80.2744 585.007 L85.1586 585.007 L85.1586 590.887 L80.2744 590.887 L80.2744 585.007 Z\" fill=\"#000000\" fill-rule=\"evenodd\" fill-opacity=\"1\" /><path clip-path=\"url(#clip550)\" d=\"M 0 0 M100.807 571.744 Q97.6585 571.744 95.8067 573.896 Q93.978 576.049 93.978 579.799 Q93.978 583.526 95.8067 585.702 Q97.6585 587.855 100.807 587.855 Q103.955 587.855 105.783 585.702 Q107.635 583.526 107.635 579.799 Q107.635 576.049 105.783 573.896 Q103.955 571.744 100.807 571.744 M110.089 557.091 L110.089 561.35 Q108.33 560.517 106.524 560.077 Q104.742 559.637 102.983 559.637 Q98.353 559.637 95.8993 562.762 Q93.4688 565.887 93.1215 572.207 Q94.4873 570.193 96.5474 569.128 Q98.6076 568.04 101.084 568.04 Q106.293 568.04 109.302 571.211 Q112.334 574.359 112.334 579.799 Q112.334 585.123 109.186 588.341 Q106.038 591.558 100.807 591.558 Q94.8113 591.558 91.6401 586.975 Q88.4688 582.369 88.4688 573.642 Q88.4688 565.447 92.3576 560.586 Q96.2465 555.702 102.797 555.702 Q104.557 555.702 106.339 556.049 Q108.145 556.397 110.089 557.091 Z\" fill=\"#000000\" fill-rule=\"evenodd\" fill-opacity=\"1\" /><path clip-path=\"url(#clip550)\" d=\"M 0 0 M63.5152 210.562 Q59.9041 210.562 58.0754 214.127 Q56.2699 217.669 56.2699 224.798 Q56.2699 231.905 58.0754 235.47 Q59.9041 239.011 63.5152 239.011 Q67.1494 239.011 68.955 235.47 Q70.7837 231.905 70.7837 224.798 Q70.7837 217.669 68.955 214.127 Q67.1494 210.562 63.5152 210.562 M63.5152 206.859 Q69.3254 206.859 72.3809 211.465 Q75.4596 216.048 75.4596 224.798 Q75.4596 233.525 72.3809 238.132 Q69.3254 242.715 63.5152 242.715 Q57.7051 242.715 54.6264 238.132 Q51.5708 233.525 51.5708 224.798 Q51.5708 216.048 54.6264 211.465 Q57.7051 206.859 63.5152 206.859 Z\" fill=\"#000000\" fill-rule=\"evenodd\" fill-opacity=\"1\" /><path clip-path=\"url(#clip550)\" d=\"M 0 0 M80.529 236.164 L85.4132 236.164 L85.4132 242.044 L80.529 242.044 L80.529 236.164 Z\" fill=\"#000000\" fill-rule=\"evenodd\" fill-opacity=\"1\" /><path clip-path=\"url(#clip550)\" d=\"M 0 0 M100.483 225.632 Q97.1493 225.632 95.228 227.414 Q93.3299 229.196 93.3299 232.321 Q93.3299 235.446 95.228 237.229 Q97.1493 239.011 100.483 239.011 Q103.816 239.011 105.737 237.229 Q107.658 235.423 107.658 232.321 Q107.658 229.196 105.737 227.414 Q103.839 225.632 100.483 225.632 M95.8067 223.641 Q92.7975 222.9 91.1077 220.84 Q89.441 218.78 89.441 215.817 Q89.441 211.673 92.3808 209.266 Q95.3437 206.859 100.483 206.859 Q105.645 206.859 108.584 209.266 Q111.524 211.673 111.524 215.817 Q111.524 218.78 109.834 220.84 Q108.168 222.9 105.182 223.641 Q108.561 224.428 110.436 226.72 Q112.334 229.011 112.334 232.321 Q112.334 237.345 109.256 240.03 Q106.2 242.715 100.483 242.715 Q94.765 242.715 91.6864 240.03 Q88.6308 237.345 88.6308 232.321 Q88.6308 229.011 90.529 226.72 Q92.4271 224.428 95.8067 223.641 M94.0937 216.257 Q94.0937 218.942 95.7604 220.447 Q97.4502 221.951 100.483 221.951 Q103.492 221.951 105.182 220.447 Q106.895 218.942 106.895 216.257 Q106.895 213.572 105.182 212.067 Q103.492 210.562 100.483 210.562 Q97.4502 210.562 95.7604 212.067 Q94.0937 213.572 94.0937 216.257 Z\" fill=\"#000000\" fill-rule=\"evenodd\" fill-opacity=\"1\" /><polyline clip-path=\"url(#clip552)\" style=\"stroke:#009af9; stroke-width:4; stroke-opacity:1; fill:none\" points=\"\n",
       "  210.724,1445.72 320.179,1288.74 429.633,1147.45 539.088,1020.3 648.543,905.863 757.998,802.869 867.453,710.174 976.908,626.749 1086.36,551.666 1195.82,484.091 \n",
       "  1305.27,423.274 1414.73,368.539 1524.18,319.277 1633.64,274.941 1743.09,235.039 1852.55,199.127 1962,166.806 2071.46,137.718 2180.91,111.538 2290.37,87.9763 \n",
       "  \n",
       "  \"/>\n",
       "<path clip-path=\"url(#clip552)\" d=\"M210.724 1461.72 L199.412 1457.03 L194.724 1445.72 L199.412 1434.4 L210.724 1429.72 L222.036 1434.4 L226.724 1445.72 L222.036 1457.03 Z\" fill=\"#009af9\" fill-rule=\"evenodd\" fill-opacity=\"1\" stroke=\"#000000\" stroke-opacity=\"1\" stroke-width=\"3.2\"/>\n",
       "<path clip-path=\"url(#clip552)\" d=\"M320.179 1304.74 L308.867 1300.05 L304.179 1288.74 L308.867 1277.42 L320.179 1272.74 L331.491 1277.42 L336.179 1288.74 L331.491 1300.05 Z\" fill=\"#009af9\" fill-rule=\"evenodd\" fill-opacity=\"1\" stroke=\"#000000\" stroke-opacity=\"1\" stroke-width=\"3.2\"/>\n",
       "<path clip-path=\"url(#clip552)\" d=\"M429.633 1163.45 L418.321 1158.77 L413.633 1147.45 L418.321 1136.14 L429.633 1131.45 L440.945 1136.14 L445.633 1147.45 L440.945 1158.77 Z\" fill=\"#009af9\" fill-rule=\"evenodd\" fill-opacity=\"1\" stroke=\"#000000\" stroke-opacity=\"1\" stroke-width=\"3.2\"/>\n",
       "<path clip-path=\"url(#clip552)\" d=\"M539.088 1036.3 L527.776 1031.61 L523.088 1020.3 L527.776 1008.99 L539.088 1004.3 L550.4 1008.99 L555.088 1020.3 L550.4 1031.61 Z\" fill=\"#009af9\" fill-rule=\"evenodd\" fill-opacity=\"1\" stroke=\"#000000\" stroke-opacity=\"1\" stroke-width=\"3.2\"/>\n",
       "<path clip-path=\"url(#clip552)\" d=\"M648.543 921.863 L637.231 917.175 L632.543 905.863 L637.231 894.551 L648.543 889.863 L659.855 894.551 L664.543 905.863 L659.855 917.175 Z\" fill=\"#009af9\" fill-rule=\"evenodd\" fill-opacity=\"1\" stroke=\"#000000\" stroke-opacity=\"1\" stroke-width=\"3.2\"/>\n",
       "<path clip-path=\"url(#clip552)\" d=\"M757.998 818.869 L746.686 814.181 L741.998 802.869 L746.686 791.557 L757.998 786.869 L769.31 791.557 L773.998 802.869 L769.31 814.181 Z\" fill=\"#009af9\" fill-rule=\"evenodd\" fill-opacity=\"1\" stroke=\"#000000\" stroke-opacity=\"1\" stroke-width=\"3.2\"/>\n",
       "<path clip-path=\"url(#clip552)\" d=\"M867.453 726.174 L856.141 721.486 L851.453 710.174 L856.141 698.862 L867.453 694.174 L878.765 698.862 L883.453 710.174 L878.765 721.486 Z\" fill=\"#009af9\" fill-rule=\"evenodd\" fill-opacity=\"1\" stroke=\"#000000\" stroke-opacity=\"1\" stroke-width=\"3.2\"/>\n",
       "<path clip-path=\"url(#clip552)\" d=\"M976.908 642.749 L965.596 638.061 L960.908 626.749 L965.596 615.437 L976.908 610.749 L988.22 615.437 L992.908 626.749 L988.22 638.061 Z\" fill=\"#009af9\" fill-rule=\"evenodd\" fill-opacity=\"1\" stroke=\"#000000\" stroke-opacity=\"1\" stroke-width=\"3.2\"/>\n",
       "<path clip-path=\"url(#clip552)\" d=\"M1086.36 567.666 L1075.05 562.978 L1070.36 551.666 L1075.05 540.354 L1086.36 535.666 L1097.67 540.354 L1102.36 551.666 L1097.67 562.978 Z\" fill=\"#009af9\" fill-rule=\"evenodd\" fill-opacity=\"1\" stroke=\"#000000\" stroke-opacity=\"1\" stroke-width=\"3.2\"/>\n",
       "<path clip-path=\"url(#clip552)\" d=\"M1195.82 500.091 L1184.51 495.403 L1179.82 484.091 L1184.51 472.779 L1195.82 468.091 L1207.13 472.779 L1211.82 484.091 L1207.13 495.403 Z\" fill=\"#009af9\" fill-rule=\"evenodd\" fill-opacity=\"1\" stroke=\"#000000\" stroke-opacity=\"1\" stroke-width=\"3.2\"/>\n",
       "<path clip-path=\"url(#clip552)\" d=\"M1305.27 439.274 L1293.96 434.586 L1289.27 423.274 L1293.96 411.962 L1305.27 407.274 L1316.58 411.962 L1321.27 423.274 L1316.58 434.586 Z\" fill=\"#009af9\" fill-rule=\"evenodd\" fill-opacity=\"1\" stroke=\"#000000\" stroke-opacity=\"1\" stroke-width=\"3.2\"/>\n",
       "<path clip-path=\"url(#clip552)\" d=\"M1414.73 384.539 L1403.42 379.851 L1398.73 368.539 L1403.42 357.227 L1414.73 352.539 L1426.04 357.227 L1430.73 368.539 L1426.04 379.851 Z\" fill=\"#009af9\" fill-rule=\"evenodd\" fill-opacity=\"1\" stroke=\"#000000\" stroke-opacity=\"1\" stroke-width=\"3.2\"/>\n",
       "<path clip-path=\"url(#clip552)\" d=\"M1524.18 335.277 L1512.87 330.589 L1508.18 319.277 L1512.87 307.965 L1524.18 303.277 L1535.49 307.965 L1540.18 319.277 L1535.49 330.589 Z\" fill=\"#009af9\" fill-rule=\"evenodd\" fill-opacity=\"1\" stroke=\"#000000\" stroke-opacity=\"1\" stroke-width=\"3.2\"/>\n",
       "<path clip-path=\"url(#clip552)\" d=\"M1633.64 290.941 L1622.33 286.253 L1617.64 274.941 L1622.33 263.629 L1633.64 258.941 L1644.95 263.629 L1649.64 274.941 L1644.95 286.253 Z\" fill=\"#009af9\" fill-rule=\"evenodd\" fill-opacity=\"1\" stroke=\"#000000\" stroke-opacity=\"1\" stroke-width=\"3.2\"/>\n",
       "<path clip-path=\"url(#clip552)\" d=\"M1743.09 251.039 L1731.78 246.351 L1727.09 235.039 L1731.78 223.727 L1743.09 219.039 L1754.4 223.727 L1759.09 235.039 L1754.4 246.351 Z\" fill=\"#009af9\" fill-rule=\"evenodd\" fill-opacity=\"1\" stroke=\"#000000\" stroke-opacity=\"1\" stroke-width=\"3.2\"/>\n",
       "<path clip-path=\"url(#clip552)\" d=\"M1852.55 215.127 L1841.24 210.439 L1836.55 199.127 L1841.24 187.815 L1852.55 183.127 L1863.86 187.815 L1868.55 199.127 L1863.86 210.439 Z\" fill=\"#009af9\" fill-rule=\"evenodd\" fill-opacity=\"1\" stroke=\"#000000\" stroke-opacity=\"1\" stroke-width=\"3.2\"/>\n",
       "<path clip-path=\"url(#clip552)\" d=\"M1962 182.806 L1950.69 178.118 L1946 166.806 L1950.69 155.494 L1962 150.806 L1973.31 155.494 L1978 166.806 L1973.31 178.118 Z\" fill=\"#009af9\" fill-rule=\"evenodd\" fill-opacity=\"1\" stroke=\"#000000\" stroke-opacity=\"1\" stroke-width=\"3.2\"/>\n",
       "<path clip-path=\"url(#clip552)\" d=\"M2071.46 153.718 L2060.14 149.03 L2055.46 137.718 L2060.14 126.406 L2071.46 121.718 L2082.77 126.406 L2087.46 137.718 L2082.77 149.03 Z\" fill=\"#009af9\" fill-rule=\"evenodd\" fill-opacity=\"1\" stroke=\"#000000\" stroke-opacity=\"1\" stroke-width=\"3.2\"/>\n",
       "<path clip-path=\"url(#clip552)\" d=\"M2180.91 127.538 L2169.6 122.85 L2164.91 111.538 L2169.6 100.226 L2180.91 95.5381 L2192.22 100.226 L2196.91 111.538 L2192.22 122.85 Z\" fill=\"#009af9\" fill-rule=\"evenodd\" fill-opacity=\"1\" stroke=\"#000000\" stroke-opacity=\"1\" stroke-width=\"3.2\"/>\n",
       "<path clip-path=\"url(#clip552)\" d=\"M2290.37 103.976 L2279.05 99.2883 L2274.37 87.9763 L2279.05 76.6643 L2290.37 71.9763 L2301.68 76.6643 L2306.37 87.9763 L2301.68 99.2883 Z\" fill=\"#009af9\" fill-rule=\"evenodd\" fill-opacity=\"1\" stroke=\"#000000\" stroke-opacity=\"1\" stroke-width=\"3.2\"/>\n",
       "</svg>\n"
      ]
     },
     "execution_count": 7,
     "metadata": {},
     "output_type": "execute_result"
    }
   ],
   "source": [
    "plot(s, m=:o, leg=false)"
   ]
  },
  {
   "cell_type": "code",
   "execution_count": 10,
   "metadata": {},
   "outputs": [
    {
     "data": {
      "text/plain": [
       "41-element Vector{Float64}:\n",
       " 0.0\n",
       " 0.0\n",
       " 0.1\n",
       " 0.1\n",
       " 0.19\n",
       " 0.19\n",
       " 0.271\n",
       " 0.271\n",
       " 0.3439000000000001\n",
       " 0.3439000000000001\n",
       " 0.40951000000000004\n",
       " 0.40951000000000004\n",
       " 0.46855900000000006\n",
       " ⋮\n",
       " 0.7712320754503903\n",
       " 0.7941088679053513\n",
       " 0.7941088679053513\n",
       " 0.8146979811148162\n",
       " 0.8146979811148162\n",
       " 0.8332281830033346\n",
       " 0.8332281830033346\n",
       " 0.8499053647030012\n",
       " 0.8499053647030012\n",
       " 0.864914828232701\n",
       " 0.864914828232701\n",
       " 0.878423345409431"
      ]
     },
     "execution_count": 10,
     "metadata": {},
     "output_type": "execute_result"
    }
   ],
   "source": [
    "ys = [0; reduce(vcat, [ [s[n],s[n]] for n in 1:20])];\n",
    "\n",
    "pop!(ys)\n",
    "pushfirst!(ys,0)"
   ]
  },
  {
   "cell_type": "code",
   "execution_count": 11,
   "metadata": {},
   "outputs": [],
   "source": [
    "xs = [0; reduce(vcat, [ [n,n] for n in 1:20])];"
   ]
  },
  {
   "cell_type": "code",
   "execution_count": 15,
   "metadata": {},
   "outputs": [
    {
     "data": {
      "image/svg+xml": [
       "<?xml version=\"1.0\" encoding=\"utf-8\"?>\n",
       "<svg xmlns=\"http://www.w3.org/2000/svg\" xmlns:xlink=\"http://www.w3.org/1999/xlink\" width=\"600\" height=\"400\" viewBox=\"0 0 2400 1600\">\n",
       "<defs>\n",
       "  <clipPath id=\"clip710\">\n",
       "    <rect x=\"0\" y=\"0\" width=\"2400\" height=\"1600\"/>\n",
       "  </clipPath>\n",
       "</defs>\n",
       "<path clip-path=\"url(#clip710)\" d=\"\n",
       "M0 1600 L2400 1600 L2400 0 L0 0  Z\n",
       "  \" fill=\"#ffffff\" fill-rule=\"evenodd\" fill-opacity=\"1\"/>\n",
       "<defs>\n",
       "  <clipPath id=\"clip711\">\n",
       "    <rect x=\"480\" y=\"0\" width=\"1681\" height=\"1600\"/>\n",
       "  </clipPath>\n",
       "</defs>\n",
       "<path clip-path=\"url(#clip710)\" d=\"\n",
       "M211.602 1423.18 L2352.76 1423.18 L2352.76 47.2441 L211.602 47.2441  Z\n",
       "  \" fill=\"#ffffff\" fill-rule=\"evenodd\" fill-opacity=\"1\"/>\n",
       "<defs>\n",
       "  <clipPath id=\"clip712\">\n",
       "    <rect x=\"211\" y=\"47\" width=\"2142\" height=\"1377\"/>\n",
       "  </clipPath>\n",
       "</defs>\n",
       "<polyline clip-path=\"url(#clip712)\" style=\"stroke:#000000; stroke-width:2; stroke-opacity:0.1; fill:none\" points=\"\n",
       "  272.201,1423.18 272.201,47.2441 \n",
       "  \"/>\n",
       "<polyline clip-path=\"url(#clip712)\" style=\"stroke:#000000; stroke-width:2; stroke-opacity:0.1; fill:none\" points=\"\n",
       "  777.19,1423.18 777.19,47.2441 \n",
       "  \"/>\n",
       "<polyline clip-path=\"url(#clip712)\" style=\"stroke:#000000; stroke-width:2; stroke-opacity:0.1; fill:none\" points=\"\n",
       "  1282.18,1423.18 1282.18,47.2441 \n",
       "  \"/>\n",
       "<polyline clip-path=\"url(#clip712)\" style=\"stroke:#000000; stroke-width:2; stroke-opacity:0.1; fill:none\" points=\"\n",
       "  1787.17,1423.18 1787.17,47.2441 \n",
       "  \"/>\n",
       "<polyline clip-path=\"url(#clip712)\" style=\"stroke:#000000; stroke-width:2; stroke-opacity:0.1; fill:none\" points=\"\n",
       "  2292.16,1423.18 2292.16,47.2441 \n",
       "  \"/>\n",
       "<polyline clip-path=\"url(#clip710)\" style=\"stroke:#000000; stroke-width:4; stroke-opacity:1; fill:none\" points=\"\n",
       "  211.602,1423.18 2352.76,1423.18 \n",
       "  \"/>\n",
       "<polyline clip-path=\"url(#clip710)\" style=\"stroke:#000000; stroke-width:4; stroke-opacity:1; fill:none\" points=\"\n",
       "  272.201,1423.18 272.201,1406.67 \n",
       "  \"/>\n",
       "<polyline clip-path=\"url(#clip710)\" style=\"stroke:#000000; stroke-width:4; stroke-opacity:1; fill:none\" points=\"\n",
       "  777.19,1423.18 777.19,1406.67 \n",
       "  \"/>\n",
       "<polyline clip-path=\"url(#clip710)\" style=\"stroke:#000000; stroke-width:4; stroke-opacity:1; fill:none\" points=\"\n",
       "  1282.18,1423.18 1282.18,1406.67 \n",
       "  \"/>\n",
       "<polyline clip-path=\"url(#clip710)\" style=\"stroke:#000000; stroke-width:4; stroke-opacity:1; fill:none\" points=\"\n",
       "  1787.17,1423.18 1787.17,1406.67 \n",
       "  \"/>\n",
       "<polyline clip-path=\"url(#clip710)\" style=\"stroke:#000000; stroke-width:4; stroke-opacity:1; fill:none\" points=\"\n",
       "  2292.16,1423.18 2292.16,1406.67 \n",
       "  \"/>\n",
       "<path clip-path=\"url(#clip710)\" d=\"M 0 0 M272.201 1452.37 Q268.59 1452.37 266.761 1455.94 Q264.956 1459.48 264.956 1466.61 Q264.956 1473.71 266.761 1477.28 Q268.59 1480.82 272.201 1480.82 Q275.835 1480.82 277.641 1477.28 Q279.47 1473.71 279.47 1466.61 Q279.47 1459.48 277.641 1455.94 Q275.835 1452.37 272.201 1452.37 M272.201 1448.67 Q278.011 1448.67 281.067 1453.27 Q284.145 1457.86 284.145 1466.61 Q284.145 1475.33 281.067 1479.94 Q278.011 1484.52 272.201 1484.52 Q266.391 1484.52 263.312 1479.94 Q260.257 1475.33 260.257 1466.61 Q260.257 1457.86 263.312 1453.27 Q266.391 1448.67 272.201 1448.67 Z\" fill=\"#000000\" fill-rule=\"evenodd\" fill-opacity=\"1\" /><path clip-path=\"url(#clip710)\" d=\"M 0 0 M767.468 1449.29 L785.824 1449.29 L785.824 1453.23 L771.75 1453.23 L771.75 1461.7 Q772.769 1461.35 773.787 1461.19 Q774.806 1461 775.824 1461 Q781.611 1461 784.991 1464.18 Q788.371 1467.35 788.371 1472.76 Q788.371 1478.34 784.898 1481.44 Q781.426 1484.52 775.107 1484.52 Q772.931 1484.52 770.662 1484.15 Q768.417 1483.78 766.01 1483.04 L766.01 1478.34 Q768.093 1479.48 770.315 1480.03 Q772.537 1480.59 775.014 1480.59 Q779.019 1480.59 781.357 1478.48 Q783.695 1476.38 783.695 1472.76 Q783.695 1469.15 781.357 1467.05 Q779.019 1464.94 775.014 1464.94 Q773.139 1464.94 771.264 1465.36 Q769.412 1465.77 767.468 1466.65 L767.468 1449.29 Z\" fill=\"#000000\" fill-rule=\"evenodd\" fill-opacity=\"1\" /><path clip-path=\"url(#clip710)\" d=\"M 0 0 M1259.05 1479.92 L1266.69 1479.92 L1266.69 1453.55 L1258.38 1455.22 L1258.38 1450.96 L1266.65 1449.29 L1271.32 1449.29 L1271.32 1479.92 L1278.96 1479.92 L1278.96 1483.85 L1259.05 1483.85 L1259.05 1479.92 Z\" fill=\"#000000\" fill-rule=\"evenodd\" fill-opacity=\"1\" /><path clip-path=\"url(#clip710)\" d=\"M 0 0 M1294.03 1452.37 Q1290.42 1452.37 1288.59 1455.94 Q1286.79 1459.48 1286.79 1466.61 Q1286.79 1473.71 1288.59 1477.28 Q1290.42 1480.82 1294.03 1480.82 Q1297.67 1480.82 1299.47 1477.28 Q1301.3 1473.71 1301.3 1466.61 Q1301.3 1459.48 1299.47 1455.94 Q1297.67 1452.37 1294.03 1452.37 M1294.03 1448.67 Q1299.84 1448.67 1302.9 1453.27 Q1305.98 1457.86 1305.98 1466.61 Q1305.98 1475.33 1302.9 1479.94 Q1299.84 1484.52 1294.03 1484.52 Q1288.22 1484.52 1285.14 1479.94 Q1282.09 1475.33 1282.09 1466.61 Q1282.09 1457.86 1285.14 1453.27 Q1288.22 1448.67 1294.03 1448.67 Z\" fill=\"#000000\" fill-rule=\"evenodd\" fill-opacity=\"1\" /><path clip-path=\"url(#clip710)\" d=\"M 0 0 M1764.54 1479.92 L1772.18 1479.92 L1772.18 1453.55 L1763.87 1455.22 L1763.87 1450.96 L1772.13 1449.29 L1776.81 1449.29 L1776.81 1479.92 L1784.45 1479.92 L1784.45 1483.85 L1764.54 1483.85 L1764.54 1479.92 Z\" fill=\"#000000\" fill-rule=\"evenodd\" fill-opacity=\"1\" /><path clip-path=\"url(#clip710)\" d=\"M 0 0 M1789.56 1449.29 L1807.92 1449.29 L1807.92 1453.23 L1793.85 1453.23 L1793.85 1461.7 Q1794.86 1461.35 1795.88 1461.19 Q1796.9 1461 1797.92 1461 Q1803.71 1461 1807.09 1464.18 Q1810.47 1467.35 1810.47 1472.76 Q1810.47 1478.34 1806.99 1481.44 Q1803.52 1484.52 1797.2 1484.52 Q1795.03 1484.52 1792.76 1484.15 Q1790.51 1483.78 1788.11 1483.04 L1788.11 1478.34 Q1790.19 1479.48 1792.41 1480.03 Q1794.63 1480.59 1797.11 1480.59 Q1801.11 1480.59 1803.45 1478.48 Q1805.79 1476.38 1805.79 1472.76 Q1805.79 1469.15 1803.45 1467.05 Q1801.11 1464.94 1797.11 1464.94 Q1795.24 1464.94 1793.36 1465.36 Q1791.51 1465.77 1789.56 1466.65 L1789.56 1449.29 Z\" fill=\"#000000\" fill-rule=\"evenodd\" fill-opacity=\"1\" /><path clip-path=\"url(#clip710)\" d=\"M 0 0 M2273.3 1479.92 L2289.62 1479.92 L2289.62 1483.85 L2267.68 1483.85 L2267.68 1479.92 Q2270.34 1477.16 2274.92 1472.53 Q2279.53 1467.88 2280.71 1466.54 Q2282.96 1464.01 2283.84 1462.28 Q2284.74 1460.52 2284.74 1458.83 Q2284.74 1456.07 2282.79 1454.34 Q2280.87 1452.6 2277.77 1452.6 Q2275.57 1452.6 2273.12 1453.37 Q2270.69 1454.13 2267.91 1455.68 L2267.91 1450.96 Q2270.73 1449.82 2273.19 1449.25 Q2275.64 1448.67 2277.68 1448.67 Q2283.05 1448.67 2286.24 1451.35 Q2289.44 1454.04 2289.44 1458.53 Q2289.44 1460.66 2288.63 1462.58 Q2287.84 1464.48 2285.73 1467.07 Q2285.15 1467.74 2282.05 1470.96 Q2278.95 1474.15 2273.3 1479.92 Z\" fill=\"#000000\" fill-rule=\"evenodd\" fill-opacity=\"1\" /><path clip-path=\"url(#clip710)\" d=\"M 0 0 M2304.69 1452.37 Q2301.08 1452.37 2299.25 1455.94 Q2297.45 1459.48 2297.45 1466.61 Q2297.45 1473.71 2299.25 1477.28 Q2301.08 1480.82 2304.69 1480.82 Q2308.33 1480.82 2310.13 1477.28 Q2311.96 1473.71 2311.96 1466.61 Q2311.96 1459.48 2310.13 1455.94 Q2308.33 1452.37 2304.69 1452.37 M2304.69 1448.67 Q2310.5 1448.67 2313.56 1453.27 Q2316.64 1457.86 2316.64 1466.61 Q2316.64 1475.33 2313.56 1479.94 Q2310.5 1484.52 2304.69 1484.52 Q2298.88 1484.52 2295.8 1479.94 Q2292.75 1475.33 2292.75 1466.61 Q2292.75 1457.86 2295.8 1453.27 Q2298.88 1448.67 2304.69 1448.67 Z\" fill=\"#000000\" fill-rule=\"evenodd\" fill-opacity=\"1\" /><path clip-path=\"url(#clip710)\" d=\"M 0 0 M1044.96 1546.53 L1044.96 1568.04 L1039.1 1568.04 L1039.1 1546.72 Q1039.1 1541.66 1037.13 1539.14 Q1035.16 1536.63 1031.21 1536.63 Q1026.47 1536.63 1023.73 1539.65 Q1020.99 1542.68 1020.99 1547.9 L1020.99 1568.04 L1015.11 1568.04 L1015.11 1532.4 L1020.99 1532.4 L1020.99 1537.93 Q1023.09 1534.72 1025.93 1533.13 Q1028.79 1531.54 1032.52 1531.54 Q1038.66 1531.54 1041.81 1535.36 Q1044.96 1539.14 1044.96 1546.53 Z\" fill=\"#000000\" fill-rule=\"evenodd\" fill-opacity=\"1\" /><path clip-path=\"url(#clip710)\" d=\"M 0 0 M1050.5 1553.98 L1050.5 1532.4 L1056.36 1532.4 L1056.36 1553.75 Q1056.36 1558.81 1058.33 1561.36 Q1060.3 1563.87 1064.25 1563.87 Q1068.99 1563.87 1071.73 1560.85 Q1074.5 1557.83 1074.5 1552.61 L1074.5 1532.4 L1080.35 1532.4 L1080.35 1568.04 L1074.5 1568.04 L1074.5 1562.57 Q1072.37 1565.82 1069.53 1567.41 Q1066.73 1568.97 1063.01 1568.97 Q1056.86 1568.97 1053.68 1565.15 Q1050.5 1561.33 1050.5 1553.98 M1065.24 1531.54 L1065.24 1531.54 Z\" fill=\"#000000\" fill-rule=\"evenodd\" fill-opacity=\"1\" /><path clip-path=\"url(#clip710)\" d=\"M 0 0 M1114.25 1539.24 Q1116.45 1535.29 1119.5 1533.41 Q1122.56 1531.54 1126.7 1531.54 Q1132.27 1531.54 1135.29 1535.45 Q1138.31 1539.33 1138.31 1546.53 L1138.31 1568.04 L1132.43 1568.04 L1132.43 1546.72 Q1132.43 1541.59 1130.61 1539.11 Q1128.8 1536.63 1125.07 1536.63 Q1120.52 1536.63 1117.88 1539.65 Q1115.24 1542.68 1115.24 1547.9 L1115.24 1568.04 L1109.35 1568.04 L1109.35 1546.72 Q1109.35 1541.56 1107.54 1539.11 Q1105.72 1536.63 1101.93 1536.63 Q1097.45 1536.63 1094.8 1539.68 Q1092.16 1542.71 1092.16 1547.9 L1092.16 1568.04 L1086.27 1568.04 L1086.27 1532.4 L1092.16 1532.4 L1092.16 1537.93 Q1094.17 1534.66 1096.97 1533.1 Q1099.77 1531.54 1103.62 1531.54 Q1107.5 1531.54 1110.21 1533.51 Q1112.95 1535.48 1114.25 1539.24 Z\" fill=\"#000000\" fill-rule=\"evenodd\" fill-opacity=\"1\" /><path clip-path=\"url(#clip710)\" d=\"M 0 0 M1170.05 1550.25 Q1170.05 1543.79 1167.37 1540.13 Q1164.73 1536.44 1160.08 1536.44 Q1155.44 1536.44 1152.76 1540.13 Q1150.12 1543.79 1150.12 1550.25 Q1150.12 1556.71 1152.76 1560.4 Q1155.44 1564.07 1160.08 1564.07 Q1164.73 1564.07 1167.37 1560.4 Q1170.05 1556.71 1170.05 1550.25 M1150.12 1537.81 Q1151.97 1534.62 1154.77 1533.1 Q1157.6 1531.54 1161.52 1531.54 Q1168.01 1531.54 1172.05 1536.69 Q1176.13 1541.85 1176.13 1550.25 Q1176.13 1558.65 1172.05 1563.81 Q1168.01 1568.97 1161.52 1568.97 Q1157.6 1568.97 1154.77 1567.44 Q1151.97 1565.88 1150.12 1562.7 L1150.12 1568.04 L1144.23 1568.04 L1144.23 1518.52 L1150.12 1518.52 L1150.12 1537.81 Z\" fill=\"#000000\" fill-rule=\"evenodd\" fill-opacity=\"1\" /><path clip-path=\"url(#clip710)\" d=\"M 0 0 M1212.76 1548.76 L1212.76 1551.62 L1185.83 1551.62 Q1186.22 1557.67 1189.46 1560.85 Q1192.74 1564 1198.57 1564 Q1201.94 1564 1205.09 1563.17 Q1208.27 1562.35 1211.39 1560.69 L1211.39 1566.23 Q1208.24 1567.57 1204.93 1568.27 Q1201.62 1568.97 1198.22 1568.97 Q1189.69 1568.97 1184.69 1564 Q1179.72 1559.04 1179.72 1550.57 Q1179.72 1541.82 1184.43 1536.69 Q1189.18 1531.54 1197.2 1531.54 Q1204.39 1531.54 1208.56 1536.18 Q1212.76 1540.8 1212.76 1548.76 M1206.9 1547.04 Q1206.84 1542.23 1204.2 1539.37 Q1201.59 1536.5 1197.26 1536.5 Q1192.36 1536.5 1189.4 1539.27 Q1186.47 1542.04 1186.03 1547.07 L1206.9 1547.04 Z\" fill=\"#000000\" fill-rule=\"evenodd\" fill-opacity=\"1\" /><path clip-path=\"url(#clip710)\" d=\"M 0 0 M1239.56 1537.87 Q1238.57 1537.3 1237.4 1537.04 Q1236.25 1536.76 1234.85 1536.76 Q1229.88 1536.76 1227.21 1540 Q1224.57 1543.22 1224.57 1549.27 L1224.57 1568.04 L1218.68 1568.04 L1218.68 1532.4 L1224.57 1532.4 L1224.57 1537.93 Q1226.42 1534.69 1229.38 1533.13 Q1232.34 1531.54 1236.57 1531.54 Q1237.17 1531.54 1237.91 1531.63 Q1238.64 1531.7 1239.53 1531.85 L1239.56 1537.87 Z\" fill=\"#000000\" fill-rule=\"evenodd\" fill-opacity=\"1\" /><path clip-path=\"url(#clip710)\" d=\"M 0 0 M1280.24 1536.5 Q1275.53 1536.5 1272.79 1540.19 Q1270.05 1543.85 1270.05 1550.25 Q1270.05 1556.65 1272.76 1560.34 Q1275.5 1564 1280.24 1564 Q1284.92 1564 1287.65 1560.31 Q1290.39 1556.62 1290.39 1550.25 Q1290.39 1543.92 1287.65 1540.23 Q1284.92 1536.5 1280.24 1536.5 M1280.24 1531.54 Q1287.88 1531.54 1292.24 1536.5 Q1296.6 1541.47 1296.6 1550.25 Q1296.6 1559 1292.24 1564 Q1287.88 1568.97 1280.24 1568.97 Q1272.57 1568.97 1268.21 1564 Q1263.88 1559 1263.88 1550.25 Q1263.88 1541.47 1268.21 1536.5 Q1272.57 1531.54 1280.24 1531.54 Z\" fill=\"#000000\" fill-rule=\"evenodd\" fill-opacity=\"1\" /><path clip-path=\"url(#clip710)\" d=\"M 0 0 M1320.79 1518.52 L1320.79 1523.39 L1315.19 1523.39 Q1312.03 1523.39 1310.79 1524.66 Q1309.58 1525.93 1309.58 1529.24 L1309.58 1532.4 L1319.23 1532.4 L1319.23 1536.95 L1309.58 1536.95 L1309.58 1568.04 L1303.7 1568.04 L1303.7 1536.95 L1298.09 1536.95 L1298.09 1532.4 L1303.7 1532.4 L1303.7 1529.91 Q1303.7 1523.96 1306.46 1521.26 Q1309.23 1518.52 1315.25 1518.52 L1320.79 1518.52 Z\" fill=\"#000000\" fill-rule=\"evenodd\" fill-opacity=\"1\" /><path clip-path=\"url(#clip710)\" d=\"M 0 0 M1371.11 1537.81 L1371.11 1518.52 L1376.96 1518.52 L1376.96 1568.04 L1371.11 1568.04 L1371.11 1562.7 Q1369.26 1565.88 1366.43 1567.44 Q1363.63 1568.97 1359.68 1568.97 Q1353.22 1568.97 1349.15 1563.81 Q1345.1 1558.65 1345.1 1550.25 Q1345.1 1541.85 1349.15 1536.69 Q1353.22 1531.54 1359.68 1531.54 Q1363.63 1531.54 1366.43 1533.1 Q1369.26 1534.62 1371.11 1537.81 M1351.15 1550.25 Q1351.15 1556.71 1353.79 1560.4 Q1356.47 1564.07 1361.11 1564.07 Q1365.76 1564.07 1368.43 1560.4 Q1371.11 1556.71 1371.11 1550.25 Q1371.11 1543.79 1368.43 1540.13 Q1365.76 1536.44 1361.11 1536.44 Q1356.47 1536.44 1353.79 1540.13 Q1351.15 1543.79 1351.15 1550.25 Z\" fill=\"#000000\" fill-rule=\"evenodd\" fill-opacity=\"1\" /><path clip-path=\"url(#clip710)\" d=\"M 0 0 M1399.31 1550.12 Q1392.21 1550.12 1389.47 1551.75 Q1386.74 1553.37 1386.74 1557.29 Q1386.74 1560.4 1388.77 1562.25 Q1390.84 1564.07 1394.37 1564.07 Q1399.24 1564.07 1402.17 1560.63 Q1405.13 1557.16 1405.13 1551.43 L1405.13 1550.12 L1399.31 1550.12 M1410.99 1547.71 L1410.99 1568.04 L1405.13 1568.04 L1405.13 1562.63 Q1403.13 1565.88 1400.14 1567.44 Q1397.14 1568.97 1392.82 1568.97 Q1387.34 1568.97 1384.09 1565.91 Q1380.88 1562.82 1380.88 1557.67 Q1380.88 1551.65 1384.89 1548.6 Q1388.93 1545.54 1396.92 1545.54 L1405.13 1545.54 L1405.13 1544.97 Q1405.13 1540.93 1402.46 1538.73 Q1399.82 1536.5 1395.01 1536.5 Q1391.96 1536.5 1389.06 1537.23 Q1386.16 1537.97 1383.49 1539.43 L1383.49 1534.02 Q1386.7 1532.78 1389.73 1532.17 Q1392.75 1531.54 1395.62 1531.54 Q1403.35 1531.54 1407.17 1535.55 Q1410.99 1539.56 1410.99 1547.71 Z\" fill=\"#000000\" fill-rule=\"evenodd\" fill-opacity=\"1\" /><path clip-path=\"url(#clip710)\" d=\"M 0 0 M1431.96 1571.35 Q1429.48 1577.72 1427.13 1579.66 Q1424.77 1581.6 1420.82 1581.6 L1416.15 1581.6 L1416.15 1576.7 L1419.58 1576.7 Q1422 1576.7 1423.34 1575.56 Q1424.68 1574.41 1426.3 1570.14 L1427.35 1567.47 L1412.93 1532.4 L1419.14 1532.4 L1430.28 1560.28 L1441.42 1532.4 L1447.62 1532.4 L1431.96 1571.35 Z\" fill=\"#000000\" fill-rule=\"evenodd\" fill-opacity=\"1\" /><path clip-path=\"url(#clip710)\" d=\"M 0 0 M1476.49 1533.45 L1476.49 1538.98 Q1474.01 1537.71 1471.34 1537.07 Q1468.66 1536.44 1465.8 1536.44 Q1461.44 1536.44 1459.24 1537.77 Q1457.08 1539.11 1457.08 1541.79 Q1457.08 1543.82 1458.64 1545 Q1460.2 1546.15 1464.91 1547.2 L1466.91 1547.64 Q1473.15 1548.98 1475.76 1551.43 Q1478.4 1553.85 1478.4 1558.21 Q1478.4 1563.17 1474.46 1566.07 Q1470.54 1568.97 1463.67 1568.97 Q1460.8 1568.97 1457.68 1568.39 Q1454.59 1567.85 1451.16 1566.74 L1451.16 1560.69 Q1454.4 1562.38 1457.55 1563.24 Q1460.71 1564.07 1463.79 1564.07 Q1467.93 1564.07 1470.16 1562.66 Q1472.39 1561.23 1472.39 1558.65 Q1472.39 1556.27 1470.76 1554.99 Q1469.17 1553.72 1463.73 1552.54 L1461.69 1552.07 Q1456.25 1550.92 1453.83 1548.56 Q1451.41 1546.18 1451.41 1542.04 Q1451.41 1537.01 1454.98 1534.27 Q1458.54 1531.54 1465.1 1531.54 Q1468.34 1531.54 1471.21 1532.01 Q1474.07 1532.49 1476.49 1533.45 Z\" fill=\"#000000\" fill-rule=\"evenodd\" fill-opacity=\"1\" /><path clip-path=\"url(#clip710)\" d=\"M 0 0 M1486.04 1559.96 L1492.76 1559.96 L1492.76 1565.43 L1487.54 1575.62 L1483.43 1575.62 L1486.04 1565.43 L1486.04 1559.96 Z\" fill=\"#000000\" fill-rule=\"evenodd\" fill-opacity=\"1\" /><path clip-path=\"url(#clip710)\" d=\"M 0 0 M1549.25 1546.53 L1549.25 1568.04 L1543.4 1568.04 L1543.4 1546.72 Q1543.4 1541.66 1541.42 1539.14 Q1539.45 1536.63 1535.5 1536.63 Q1530.76 1536.63 1528.02 1539.65 Q1525.29 1542.68 1525.29 1547.9 L1525.29 1568.04 L1519.4 1568.04 L1519.4 1532.4 L1525.29 1532.4 L1525.29 1537.93 Q1527.39 1534.72 1530.22 1533.13 Q1533.08 1531.54 1536.81 1531.54 Q1542.95 1531.54 1546.1 1535.36 Q1549.25 1539.14 1549.25 1546.53 Z\" fill=\"#000000\" fill-rule=\"evenodd\" fill-opacity=\"1\" /><polyline clip-path=\"url(#clip712)\" style=\"stroke:#000000; stroke-width:2; stroke-opacity:0.1; fill:none\" points=\"\n",
       "  211.602,1384.24 2352.76,1384.24 \n",
       "  \"/>\n",
       "<polyline clip-path=\"url(#clip712)\" style=\"stroke:#000000; stroke-width:2; stroke-opacity:0.1; fill:none\" points=\"\n",
       "  211.602,1088.7 2352.76,1088.7 \n",
       "  \"/>\n",
       "<polyline clip-path=\"url(#clip712)\" style=\"stroke:#000000; stroke-width:2; stroke-opacity:0.1; fill:none\" points=\"\n",
       "  211.602,793.155 2352.76,793.155 \n",
       "  \"/>\n",
       "<polyline clip-path=\"url(#clip712)\" style=\"stroke:#000000; stroke-width:2; stroke-opacity:0.1; fill:none\" points=\"\n",
       "  211.602,497.614 2352.76,497.614 \n",
       "  \"/>\n",
       "<polyline clip-path=\"url(#clip712)\" style=\"stroke:#000000; stroke-width:2; stroke-opacity:0.1; fill:none\" points=\"\n",
       "  211.602,202.072 2352.76,202.072 \n",
       "  \"/>\n",
       "<polyline clip-path=\"url(#clip710)\" style=\"stroke:#000000; stroke-width:4; stroke-opacity:1; fill:none\" points=\"\n",
       "  211.602,1423.18 211.602,47.2441 \n",
       "  \"/>\n",
       "<polyline clip-path=\"url(#clip710)\" style=\"stroke:#000000; stroke-width:4; stroke-opacity:1; fill:none\" points=\"\n",
       "  211.602,1384.24 237.296,1384.24 \n",
       "  \"/>\n",
       "<polyline clip-path=\"url(#clip710)\" style=\"stroke:#000000; stroke-width:4; stroke-opacity:1; fill:none\" points=\"\n",
       "  211.602,1088.7 237.296,1088.7 \n",
       "  \"/>\n",
       "<polyline clip-path=\"url(#clip710)\" style=\"stroke:#000000; stroke-width:4; stroke-opacity:1; fill:none\" points=\"\n",
       "  211.602,793.155 237.296,793.155 \n",
       "  \"/>\n",
       "<polyline clip-path=\"url(#clip710)\" style=\"stroke:#000000; stroke-width:4; stroke-opacity:1; fill:none\" points=\"\n",
       "  211.602,497.614 237.296,497.614 \n",
       "  \"/>\n",
       "<polyline clip-path=\"url(#clip710)\" style=\"stroke:#000000; stroke-width:4; stroke-opacity:1; fill:none\" points=\"\n",
       "  211.602,202.072 237.296,202.072 \n",
       "  \"/>\n",
       "<path clip-path=\"url(#clip710)\" d=\"M 0 0 M126.691 1370.04 Q123.08 1370.04 121.251 1373.6 Q119.445 1377.14 119.445 1384.27 Q119.445 1391.38 121.251 1394.94 Q123.08 1398.49 126.691 1398.49 Q130.325 1398.49 132.13 1394.94 Q133.959 1391.38 133.959 1384.27 Q133.959 1377.14 132.13 1373.6 Q130.325 1370.04 126.691 1370.04 M126.691 1366.33 Q132.501 1366.33 135.556 1370.94 Q138.635 1375.52 138.635 1384.27 Q138.635 1393 135.556 1397.61 Q132.501 1402.19 126.691 1402.19 Q120.88 1402.19 117.802 1397.61 Q114.746 1393 114.746 1384.27 Q114.746 1375.52 117.802 1370.94 Q120.88 1366.33 126.691 1366.33 Z\" fill=\"#000000\" fill-rule=\"evenodd\" fill-opacity=\"1\" /><path clip-path=\"url(#clip710)\" d=\"M 0 0 M143.704 1395.64 L148.589 1395.64 L148.589 1401.52 L143.704 1401.52 L143.704 1395.64 Z\" fill=\"#000000\" fill-rule=\"evenodd\" fill-opacity=\"1\" /><path clip-path=\"url(#clip710)\" d=\"M 0 0 M163.658 1370.04 Q160.047 1370.04 158.218 1373.6 Q156.413 1377.14 156.413 1384.27 Q156.413 1391.38 158.218 1394.94 Q160.047 1398.49 163.658 1398.49 Q167.292 1398.49 169.098 1394.94 Q170.927 1391.38 170.927 1384.27 Q170.927 1377.14 169.098 1373.6 Q167.292 1370.04 163.658 1370.04 M163.658 1366.33 Q169.468 1366.33 172.524 1370.94 Q175.602 1375.52 175.602 1384.27 Q175.602 1393 172.524 1397.61 Q169.468 1402.19 163.658 1402.19 Q157.848 1402.19 154.769 1397.61 Q151.714 1393 151.714 1384.27 Q151.714 1375.52 154.769 1370.94 Q157.848 1366.33 163.658 1366.33 Z\" fill=\"#000000\" fill-rule=\"evenodd\" fill-opacity=\"1\" /><path clip-path=\"url(#clip710)\" d=\"M 0 0 M128.288 1074.5 Q124.677 1074.5 122.848 1078.06 Q121.043 1081.6 121.043 1088.73 Q121.043 1095.84 122.848 1099.4 Q124.677 1102.94 128.288 1102.94 Q131.922 1102.94 133.728 1099.4 Q135.556 1095.84 135.556 1088.73 Q135.556 1081.6 133.728 1078.06 Q131.922 1074.5 128.288 1074.5 M128.288 1070.79 Q134.098 1070.79 137.154 1075.4 Q140.232 1079.98 140.232 1088.73 Q140.232 1097.46 137.154 1102.06 Q134.098 1106.65 128.288 1106.65 Q122.478 1106.65 119.399 1102.06 Q116.343 1097.46 116.343 1088.73 Q116.343 1079.98 119.399 1075.4 Q122.478 1070.79 128.288 1070.79 Z\" fill=\"#000000\" fill-rule=\"evenodd\" fill-opacity=\"1\" /><path clip-path=\"url(#clip710)\" d=\"M 0 0 M145.302 1100.1 L150.186 1100.1 L150.186 1105.98 L145.302 1105.98 L145.302 1100.1 Z\" fill=\"#000000\" fill-rule=\"evenodd\" fill-opacity=\"1\" /><path clip-path=\"url(#clip710)\" d=\"M 0 0 M159.283 1102.04 L175.602 1102.04 L175.602 1105.98 L153.658 1105.98 L153.658 1102.04 Q156.32 1099.29 160.903 1094.66 Q165.51 1090 166.69 1088.66 Q168.936 1086.14 169.815 1084.4 Q170.718 1082.64 170.718 1080.95 Q170.718 1078.2 168.774 1076.46 Q166.852 1074.73 163.751 1074.73 Q161.552 1074.73 159.098 1075.49 Q156.667 1076.25 153.89 1077.81 L153.89 1073.08 Q156.714 1071.95 159.167 1071.37 Q161.621 1070.79 163.658 1070.79 Q169.028 1070.79 172.223 1073.48 Q175.417 1076.16 175.417 1080.65 Q175.417 1082.78 174.607 1084.7 Q173.82 1086.6 171.714 1089.19 Q171.135 1089.87 168.033 1093.08 Q164.931 1096.28 159.283 1102.04 Z\" fill=\"#000000\" fill-rule=\"evenodd\" fill-opacity=\"1\" /><path clip-path=\"url(#clip710)\" d=\"M 0 0 M126.205 778.954 Q122.593 778.954 120.765 782.519 Q118.959 786.06 118.959 793.19 Q118.959 800.297 120.765 803.861 Q122.593 807.403 126.205 807.403 Q129.839 807.403 131.644 803.861 Q133.473 800.297 133.473 793.19 Q133.473 786.06 131.644 782.519 Q129.839 778.954 126.205 778.954 M126.205 775.25 Q132.015 775.25 135.07 779.857 Q138.149 784.44 138.149 793.19 Q138.149 801.917 135.07 806.523 Q132.015 811.107 126.205 811.107 Q120.394 811.107 117.316 806.523 Q114.26 801.917 114.26 793.19 Q114.26 784.44 117.316 779.857 Q120.394 775.25 126.205 775.25 Z\" fill=\"#000000\" fill-rule=\"evenodd\" fill-opacity=\"1\" /><path clip-path=\"url(#clip710)\" d=\"M 0 0 M143.218 804.556 L148.103 804.556 L148.103 810.435 L143.218 810.435 L143.218 804.556 Z\" fill=\"#000000\" fill-rule=\"evenodd\" fill-opacity=\"1\" /><path clip-path=\"url(#clip710)\" d=\"M 0 0 M166.019 779.949 L154.214 798.398 L166.019 798.398 L166.019 779.949 M164.792 775.875 L170.672 775.875 L170.672 798.398 L175.602 798.398 L175.602 802.287 L170.672 802.287 L170.672 810.435 L166.019 810.435 L166.019 802.287 L150.417 802.287 L150.417 797.773 L164.792 775.875 Z\" fill=\"#000000\" fill-rule=\"evenodd\" fill-opacity=\"1\" /><path clip-path=\"url(#clip710)\" d=\"M 0 0 M126.529 483.413 Q122.918 483.413 121.089 486.977 Q119.283 490.519 119.283 497.649 Q119.283 504.755 121.089 508.32 Q122.918 511.861 126.529 511.861 Q130.163 511.861 131.968 508.32 Q133.797 504.755 133.797 497.649 Q133.797 490.519 131.968 486.977 Q130.163 483.413 126.529 483.413 M126.529 479.709 Q132.339 479.709 135.394 484.315 Q138.473 488.899 138.473 497.649 Q138.473 506.375 135.394 510.982 Q132.339 515.565 126.529 515.565 Q120.718 515.565 117.64 510.982 Q114.584 506.375 114.584 497.649 Q114.584 488.899 117.64 484.315 Q120.718 479.709 126.529 479.709 Z\" fill=\"#000000\" fill-rule=\"evenodd\" fill-opacity=\"1\" /><path clip-path=\"url(#clip710)\" d=\"M 0 0 M143.542 509.014 L148.427 509.014 L148.427 514.894 L143.542 514.894 L143.542 509.014 Z\" fill=\"#000000\" fill-rule=\"evenodd\" fill-opacity=\"1\" /><path clip-path=\"url(#clip710)\" d=\"M 0 0 M164.075 495.75 Q160.927 495.75 159.075 497.903 Q157.246 500.056 157.246 503.806 Q157.246 507.533 159.075 509.709 Q160.927 511.861 164.075 511.861 Q167.223 511.861 169.052 509.709 Q170.903 507.533 170.903 503.806 Q170.903 500.056 169.052 497.903 Q167.223 495.75 164.075 495.75 M173.357 481.098 L173.357 485.357 Q171.598 484.524 169.792 484.084 Q168.01 483.644 166.251 483.644 Q161.621 483.644 159.167 486.769 Q156.737 489.894 156.39 496.213 Q157.755 494.2 159.815 493.135 Q161.876 492.047 164.352 492.047 Q169.561 492.047 172.57 495.218 Q175.602 498.366 175.602 503.806 Q175.602 509.13 172.454 512.348 Q169.306 515.565 164.075 515.565 Q158.079 515.565 154.908 510.982 Q151.737 506.375 151.737 497.649 Q151.737 489.454 155.626 484.593 Q159.515 479.709 166.065 479.709 Q167.825 479.709 169.607 480.056 Q171.413 480.403 173.357 481.098 Z\" fill=\"#000000\" fill-rule=\"evenodd\" fill-opacity=\"1\" /><path clip-path=\"url(#clip710)\" d=\"M 0 0 M126.783 187.871 Q123.172 187.871 121.343 191.436 Q119.538 194.978 119.538 202.107 Q119.538 209.214 121.343 212.778 Q123.172 216.32 126.783 216.32 Q130.417 216.32 132.223 212.778 Q134.052 209.214 134.052 202.107 Q134.052 194.978 132.223 191.436 Q130.417 187.871 126.783 187.871 M126.783 184.167 Q132.593 184.167 135.649 188.774 Q138.728 193.357 138.728 202.107 Q138.728 210.834 135.649 215.44 Q132.593 220.024 126.783 220.024 Q120.973 220.024 117.894 215.44 Q114.839 210.834 114.839 202.107 Q114.839 193.357 117.894 188.774 Q120.973 184.167 126.783 184.167 Z\" fill=\"#000000\" fill-rule=\"evenodd\" fill-opacity=\"1\" /><path clip-path=\"url(#clip710)\" d=\"M 0 0 M143.797 213.473 L148.681 213.473 L148.681 219.352 L143.797 219.352 L143.797 213.473 Z\" fill=\"#000000\" fill-rule=\"evenodd\" fill-opacity=\"1\" /><path clip-path=\"url(#clip710)\" d=\"M 0 0 M163.751 202.94 Q160.417 202.94 158.496 204.723 Q156.598 206.505 156.598 209.63 Q156.598 212.755 158.496 214.538 Q160.417 216.32 163.751 216.32 Q167.084 216.32 169.005 214.538 Q170.927 212.732 170.927 209.63 Q170.927 206.505 169.005 204.723 Q167.107 202.94 163.751 202.94 M159.075 200.95 Q156.065 200.209 154.376 198.149 Q152.709 196.089 152.709 193.126 Q152.709 188.982 155.649 186.575 Q158.612 184.167 163.751 184.167 Q168.913 184.167 171.852 186.575 Q174.792 188.982 174.792 193.126 Q174.792 196.089 173.102 198.149 Q171.436 200.209 168.45 200.95 Q171.829 201.737 173.704 204.028 Q175.602 206.32 175.602 209.63 Q175.602 214.653 172.524 217.339 Q169.468 220.024 163.751 220.024 Q158.033 220.024 154.954 217.339 Q151.899 214.653 151.899 209.63 Q151.899 206.32 153.797 204.028 Q155.695 201.737 159.075 200.95 M157.362 193.566 Q157.362 196.251 159.028 197.755 Q160.718 199.26 163.751 199.26 Q166.76 199.26 168.45 197.755 Q170.163 196.251 170.163 193.566 Q170.163 190.88 168.45 189.376 Q166.76 187.871 163.751 187.871 Q160.718 187.871 159.028 189.376 Q157.362 190.88 157.362 193.566 Z\" fill=\"#000000\" fill-rule=\"evenodd\" fill-opacity=\"1\" /><path clip-path=\"url(#clip710)\" d=\"M 0 0 M20.1444 1397.09 L26.9239 1397.09 Q23.9002 1400.33 22.4043 1404.02 Q20.9083 1407.69 20.9083 1411.82 Q20.9083 1419.97 25.9054 1424.3 Q30.8707 1428.63 40.2919 1428.63 Q49.6813 1428.63 54.6784 1424.3 Q59.6436 1419.97 59.6436 1411.82 Q59.6436 1407.69 58.1477 1404.02 Q56.6518 1400.33 53.6281 1397.09 L60.3439 1397.09 Q62.6355 1400.46 63.7814 1404.25 Q64.9272 1408 64.9272 1412.2 Q64.9272 1422.99 58.3387 1429.2 Q51.7183 1435.41 40.2919 1435.41 Q28.8336 1435.41 22.2451 1429.2 Q15.6248 1422.99 15.6248 1412.2 Q15.6248 1407.94 16.7706 1404.18 Q17.8846 1400.4 20.1444 1397.09 Z\" fill=\"#000000\" fill-rule=\"evenodd\" fill-opacity=\"1\" /><path clip-path=\"url(#clip710)\" d=\"M 0 0 M49.9359 1391.55 L28.3562 1391.55 L28.3562 1385.69 L49.7131 1385.69 Q54.7739 1385.69 57.3202 1383.72 Q59.8346 1381.74 59.8346 1377.8 Q59.8346 1373.06 56.8109 1370.32 Q53.7872 1367.55 48.5673 1367.55 L28.3562 1367.55 L28.3562 1361.69 L64.0042 1361.69 L64.0042 1367.55 L58.5296 1367.55 Q61.7762 1369.68 63.3676 1372.51 Q64.9272 1375.32 64.9272 1379.04 Q64.9272 1385.18 61.1078 1388.37 Q57.2883 1391.55 49.9359 1391.55 M27.4968 1376.81 L27.4968 1376.81 Z\" fill=\"#000000\" fill-rule=\"evenodd\" fill-opacity=\"1\" /><path clip-path=\"url(#clip710)\" d=\"M 0 0 M35.1993 1327.8 Q31.2526 1325.6 29.3747 1322.54 Q27.4968 1319.49 27.4968 1315.35 Q27.4968 1309.78 31.4117 1306.76 Q35.2948 1303.73 42.4881 1303.73 L64.0042 1303.73 L64.0042 1309.62 L42.679 1309.62 Q37.5546 1309.62 35.072 1311.44 Q32.5894 1313.25 32.5894 1316.97 Q32.5894 1321.53 35.6131 1324.17 Q38.6368 1326.81 43.8567 1326.81 L64.0042 1326.81 L64.0042 1332.7 L42.679 1332.7 Q37.5228 1332.7 35.072 1334.51 Q32.5894 1336.33 32.5894 1340.11 Q32.5894 1344.6 35.6449 1347.24 Q38.6686 1349.88 43.8567 1349.88 L64.0042 1349.88 L64.0042 1355.77 L28.3562 1355.77 L28.3562 1349.88 L33.8944 1349.88 Q30.616 1347.88 29.0564 1345.08 Q27.4968 1342.28 27.4968 1338.43 Q27.4968 1334.54 29.4702 1331.84 Q31.4436 1329.1 35.1993 1327.8 Z\" fill=\"#000000\" fill-rule=\"evenodd\" fill-opacity=\"1\" /><path clip-path=\"url(#clip710)\" d=\"M 0 0 M49.9359 1298.2 L28.3562 1298.2 L28.3562 1292.34 L49.7131 1292.34 Q54.7739 1292.34 57.3202 1290.37 Q59.8346 1288.39 59.8346 1284.45 Q59.8346 1279.7 56.8109 1276.97 Q53.7872 1274.2 48.5673 1274.2 L28.3562 1274.2 L28.3562 1268.34 L64.0042 1268.34 L64.0042 1274.2 L58.5296 1274.2 Q61.7762 1276.33 63.3676 1279.16 Q64.9272 1281.96 64.9272 1285.69 Q64.9272 1291.83 61.1078 1295.01 Q57.2883 1298.2 49.9359 1298.2 M27.4968 1283.46 L27.4968 1283.46 Z\" fill=\"#000000\" fill-rule=\"evenodd\" fill-opacity=\"1\" /><path clip-path=\"url(#clip710)\" d=\"M 0 0 M14.479 1262.2 L14.479 1256.34 L64.0042 1256.34 L64.0042 1262.2 L14.479 1262.2 Z\" fill=\"#000000\" fill-rule=\"evenodd\" fill-opacity=\"1\" /><path clip-path=\"url(#clip710)\" d=\"M 0 0 M46.0847 1234 Q46.0847 1241.09 47.7079 1243.83 Q49.3312 1246.57 53.2461 1246.57 Q56.3653 1246.57 58.2114 1244.53 Q60.0256 1242.46 60.0256 1238.93 Q60.0256 1234.06 56.5881 1231.13 Q53.1188 1228.17 47.3897 1228.17 L46.0847 1228.17 L46.0847 1234 M43.6657 1222.32 L64.0042 1222.32 L64.0042 1228.17 L58.5933 1228.17 Q61.8398 1230.18 63.3994 1233.17 Q64.9272 1236.16 64.9272 1240.49 Q64.9272 1245.96 61.8716 1249.21 Q58.7843 1252.43 53.6281 1252.43 Q47.6125 1252.43 44.5569 1248.42 Q41.5014 1244.37 41.5014 1236.38 L41.5014 1228.17 L40.9285 1228.17 Q36.8862 1228.17 34.6901 1230.85 Q32.4621 1233.49 32.4621 1238.29 Q32.4621 1241.35 33.1941 1244.25 Q33.9262 1247.14 35.3903 1249.82 L29.9795 1249.82 Q28.7381 1246.6 28.1334 1243.58 Q27.4968 1240.55 27.4968 1237.69 Q27.4968 1229.95 31.5072 1226.14 Q35.5176 1222.32 43.6657 1222.32 Z\" fill=\"#000000\" fill-rule=\"evenodd\" fill-opacity=\"1\" /><path clip-path=\"url(#clip710)\" d=\"M 0 0 M18.2347 1210.38 L28.3562 1210.38 L28.3562 1198.32 L32.9077 1198.32 L32.9077 1210.38 L52.2594 1210.38 Q56.6199 1210.38 57.8613 1209.2 Q59.1026 1207.99 59.1026 1204.33 L59.1026 1198.32 L64.0042 1198.32 L64.0042 1204.33 Q64.0042 1211.11 61.4897 1213.69 Q58.9434 1216.27 52.2594 1216.27 L32.9077 1216.27 L32.9077 1220.57 L28.3562 1220.57 L28.3562 1216.27 L18.2347 1216.27 L18.2347 1210.38 Z\" fill=\"#000000\" fill-rule=\"evenodd\" fill-opacity=\"1\" /><path clip-path=\"url(#clip710)\" d=\"M 0 0 M28.3562 1192.17 L28.3562 1186.32 L64.0042 1186.32 L64.0042 1192.17 L28.3562 1192.17 M14.479 1192.17 L14.479 1186.32 L21.895 1186.32 L21.895 1192.17 L14.479 1192.17 Z\" fill=\"#000000\" fill-rule=\"evenodd\" fill-opacity=\"1\" /><path clip-path=\"url(#clip710)\" d=\"M 0 0 M28.3562 1184.38 L28.3562 1178.17 L58.275 1167.03 L28.3562 1155.89 L28.3562 1149.68 L64.0042 1163.05 L64.0042 1171.01 L28.3562 1184.38 Z\" fill=\"#000000\" fill-rule=\"evenodd\" fill-opacity=\"1\" /><path clip-path=\"url(#clip710)\" d=\"M 0 0 M44.7161 1113.05 L47.5806 1113.05 L47.5806 1139.98 Q53.6281 1139.59 56.8109 1136.35 Q59.9619 1133.07 59.9619 1127.24 Q59.9619 1123.87 59.1344 1120.72 Q58.3069 1117.54 56.6518 1114.42 L62.1899 1114.42 Q63.5267 1117.57 64.227 1120.88 Q64.9272 1124.19 64.9272 1127.59 Q64.9272 1136.12 59.9619 1141.12 Q54.9967 1146.09 46.5303 1146.09 Q37.7774 1146.09 32.6531 1141.38 Q27.4968 1136.63 27.4968 1128.61 Q27.4968 1121.42 32.1438 1117.25 Q36.7589 1113.05 44.7161 1113.05 M42.9973 1118.9 Q38.1912 1118.97 35.3266 1121.61 Q32.4621 1124.22 32.4621 1128.55 Q32.4621 1133.45 35.2312 1136.41 Q38.0002 1139.34 43.0292 1139.78 L42.9973 1118.9 Z\" fill=\"#000000\" fill-rule=\"evenodd\" fill-opacity=\"1\" /><path clip-path=\"url(#clip710)\" d=\"M 0 0 M58.657 1080.52 L77.5631 1080.52 L77.5631 1086.41 L28.3562 1086.41 L28.3562 1080.52 L33.7671 1080.52 Q30.5842 1078.67 29.0564 1075.87 Q27.4968 1073.04 27.4968 1069.13 Q27.4968 1062.63 32.6531 1058.59 Q37.8093 1054.52 46.212 1054.52 Q54.6147 1054.52 59.771 1058.59 Q64.9272 1062.63 64.9272 1069.13 Q64.9272 1073.04 63.3994 1075.87 Q61.8398 1078.67 58.657 1080.52 M46.212 1060.6 Q39.7508 1060.6 36.0905 1063.27 Q32.3984 1065.91 32.3984 1070.56 Q32.3984 1075.2 36.0905 1077.88 Q39.7508 1080.52 46.212 1080.52 Q52.6732 1080.52 56.3653 1077.88 Q60.0256 1075.2 60.0256 1070.56 Q60.0256 1065.91 56.3653 1063.27 Q52.6732 1060.6 46.212 1060.6 Z\" fill=\"#000000\" fill-rule=\"evenodd\" fill-opacity=\"1\" /><path clip-path=\"url(#clip710)\" d=\"M 0 0 M33.8307 1027.72 Q33.2578 1028.7 33.0032 1029.88 Q32.7167 1031.03 32.7167 1032.43 Q32.7167 1037.39 35.9632 1040.07 Q39.1779 1042.71 45.2253 1042.71 L64.0042 1042.71 L64.0042 1048.6 L28.3562 1048.6 L28.3562 1042.71 L33.8944 1042.71 Q30.6479 1040.86 29.0883 1037.9 Q27.4968 1034.94 27.4968 1030.71 Q27.4968 1030.1 27.5923 1029.37 Q27.656 1028.64 27.8151 1027.75 L33.8307 1027.72 Z\" fill=\"#000000\" fill-rule=\"evenodd\" fill-opacity=\"1\" /><path clip-path=\"url(#clip710)\" d=\"M 0 0 M32.4621 1009.19 Q32.4621 1013.9 36.1542 1016.64 Q39.8145 1019.38 46.212 1019.38 Q52.6095 1019.38 56.3017 1016.67 Q59.9619 1013.93 59.9619 1009.19 Q59.9619 1004.51 56.2698 1001.78 Q52.5777 999.039 46.212 999.039 Q39.8781 999.039 36.186 1001.78 Q32.4621 1004.51 32.4621 1009.19 M27.4968 1009.19 Q27.4968 1001.55 32.4621 997.193 Q37.4273 992.832 46.212 992.832 Q54.9649 992.832 59.9619 997.193 Q64.9272 1001.55 64.9272 1009.19 Q64.9272 1016.86 59.9619 1021.22 Q54.9649 1025.55 46.212 1025.55 Q37.4273 1025.55 32.4621 1021.22 Q27.4968 1016.86 27.4968 1009.19 Z\" fill=\"#000000\" fill-rule=\"evenodd\" fill-opacity=\"1\" /><path clip-path=\"url(#clip710)\" d=\"M 0 0 M46.212 961.099 Q39.7508 961.099 36.0905 963.773 Q32.3984 966.414 32.3984 971.061 Q32.3984 975.708 36.0905 978.382 Q39.7508 981.024 46.212 981.024 Q52.6732 981.024 56.3653 978.382 Q60.0256 975.708 60.0256 971.061 Q60.0256 966.414 56.3653 963.773 Q52.6732 961.099 46.212 961.099 M33.7671 981.024 Q30.5842 979.178 29.0564 976.377 Q27.4968 973.544 27.4968 969.629 Q27.4968 963.136 32.6531 959.094 Q37.8093 955.02 46.212 955.02 Q54.6147 955.02 59.771 959.094 Q64.9272 963.136 64.9272 969.629 Q64.9272 973.544 63.3994 976.377 Q61.8398 979.178 58.657 981.024 L64.0042 981.024 L64.0042 986.912 L14.479 986.912 L14.479 981.024 L33.7671 981.024 Z\" fill=\"#000000\" fill-rule=\"evenodd\" fill-opacity=\"1\" /><path clip-path=\"url(#clip710)\" d=\"M 0 0 M46.0847 932.676 Q46.0847 939.774 47.7079 942.511 Q49.3312 945.248 53.2461 945.248 Q56.3653 945.248 58.2114 943.211 Q60.0256 941.143 60.0256 937.61 Q60.0256 932.74 56.5881 929.812 Q53.1188 926.852 47.3897 926.852 L46.0847 926.852 L46.0847 932.676 M43.6657 920.995 L64.0042 920.995 L64.0042 926.852 L58.5933 926.852 Q61.8398 928.857 63.3994 931.849 Q64.9272 934.841 64.9272 939.169 Q64.9272 944.644 61.8716 947.89 Q58.7843 951.105 53.6281 951.105 Q47.6125 951.105 44.5569 947.095 Q41.5014 943.052 41.5014 935.063 L41.5014 926.852 L40.9285 926.852 Q36.8862 926.852 34.6901 929.525 Q32.4621 932.167 32.4621 936.973 Q32.4621 940.029 33.1941 942.925 Q33.9262 945.821 35.3903 948.495 L29.9795 948.495 Q28.7381 945.28 28.1334 942.257 Q27.4968 939.233 27.4968 936.368 Q27.4968 928.634 31.5072 924.815 Q35.5176 920.995 43.6657 920.995 Z\" fill=\"#000000\" fill-rule=\"evenodd\" fill-opacity=\"1\" /><path clip-path=\"url(#clip710)\" d=\"M 0 0 M46.212 889.262 Q39.7508 889.262 36.0905 891.936 Q32.3984 894.577 32.3984 899.224 Q32.3984 903.871 36.0905 906.545 Q39.7508 909.187 46.212 909.187 Q52.6732 909.187 56.3653 906.545 Q60.0256 903.871 60.0256 899.224 Q60.0256 894.577 56.3653 891.936 Q52.6732 889.262 46.212 889.262 M33.7671 909.187 Q30.5842 907.341 29.0564 904.54 Q27.4968 901.707 27.4968 897.792 Q27.4968 891.299 32.6531 887.257 Q37.8093 883.183 46.212 883.183 Q54.6147 883.183 59.771 887.257 Q64.9272 891.299 64.9272 897.792 Q64.9272 901.707 63.3994 904.54 Q61.8398 907.341 58.657 909.187 L64.0042 909.187 L64.0042 915.075 L14.479 915.075 L14.479 909.187 L33.7671 909.187 Z\" fill=\"#000000\" fill-rule=\"evenodd\" fill-opacity=\"1\" /><path clip-path=\"url(#clip710)\" d=\"M 0 0 M28.3562 877.04 L28.3562 871.183 L64.0042 871.183 L64.0042 877.04 L28.3562 877.04 M14.479 877.04 L14.479 871.183 L21.895 871.183 L21.895 877.04 L14.479 877.04 Z\" fill=\"#000000\" fill-rule=\"evenodd\" fill-opacity=\"1\" /><path clip-path=\"url(#clip710)\" d=\"M 0 0 M14.479 865.041 L14.479 859.184 L64.0042 859.184 L64.0042 865.041 L14.479 865.041 Z\" fill=\"#000000\" fill-rule=\"evenodd\" fill-opacity=\"1\" /><path clip-path=\"url(#clip710)\" d=\"M 0 0 M28.3562 853.041 L28.3562 847.185 L64.0042 847.185 L64.0042 853.041 L28.3562 853.041 M14.479 853.041 L14.479 847.185 L21.895 847.185 L21.895 853.041 L14.479 853.041 Z\" fill=\"#000000\" fill-rule=\"evenodd\" fill-opacity=\"1\" /><path clip-path=\"url(#clip710)\" d=\"M 0 0 M18.2347 835.249 L28.3562 835.249 L28.3562 823.186 L32.9077 823.186 L32.9077 835.249 L52.2594 835.249 Q56.6199 835.249 57.8613 834.071 Q59.1026 832.862 59.1026 829.202 L59.1026 823.186 L64.0042 823.186 L64.0042 829.202 Q64.0042 835.981 61.4897 838.559 Q58.9434 841.137 52.2594 841.137 L32.9077 841.137 L32.9077 845.434 L28.3562 845.434 L28.3562 841.137 L18.2347 841.137 L18.2347 835.249 Z\" fill=\"#000000\" fill-rule=\"evenodd\" fill-opacity=\"1\" /><path clip-path=\"url(#clip710)\" d=\"M 0 0 M67.3143 802.211 Q73.68 804.694 75.6216 807.049 Q77.5631 809.404 77.5631 813.351 L77.5631 818.03 L72.6615 818.03 L72.6615 814.592 Q72.6615 812.173 71.5157 810.837 Q70.3699 809.5 66.1048 807.877 L63.4312 806.826 L28.3562 821.244 L28.3562 815.038 L56.238 803.898 L28.3562 792.758 L28.3562 786.551 L67.3143 802.211 Z\" fill=\"#000000\" fill-rule=\"evenodd\" fill-opacity=\"1\" /><path clip-path=\"url(#clip710)\" d=\"M 0 0 M32.4621 745.875 Q32.4621 750.585 36.1542 753.322 Q39.8145 756.06 46.212 756.06 Q52.6095 756.06 56.3017 753.354 Q59.9619 750.617 59.9619 745.875 Q59.9619 741.196 56.2698 738.458 Q52.5777 735.721 46.212 735.721 Q39.8781 735.721 36.186 738.458 Q32.4621 741.196 32.4621 745.875 M27.4968 745.875 Q27.4968 738.236 32.4621 733.875 Q37.4273 729.515 46.212 729.515 Q54.9649 729.515 59.9619 733.875 Q64.9272 738.236 64.9272 745.875 Q64.9272 753.545 59.9619 757.906 Q54.9649 762.234 46.212 762.234 Q37.4273 762.234 32.4621 757.906 Q27.4968 753.545 27.4968 745.875 Z\" fill=\"#000000\" fill-rule=\"evenodd\" fill-opacity=\"1\" /><path clip-path=\"url(#clip710)\" d=\"M 0 0 M14.479 705.325 L19.3487 705.325 L19.3487 710.927 Q19.3487 714.078 20.6219 715.319 Q21.895 716.529 25.2052 716.529 L28.3562 716.529 L28.3562 706.885 L32.9077 706.885 L32.9077 716.529 L64.0042 716.529 L64.0042 722.417 L32.9077 722.417 L32.9077 728.019 L28.3562 728.019 L28.3562 722.417 L25.8736 722.417 Q19.9216 722.417 17.2162 719.648 Q14.479 716.879 14.479 710.863 L14.479 705.325 Z\" fill=\"#000000\" fill-rule=\"evenodd\" fill-opacity=\"1\" /><path clip-path=\"url(#clip710)\" d=\"M 0 0 M33.8307 657.805 Q33.2578 658.792 33.0032 659.969 Q32.7167 661.115 32.7167 662.516 Q32.7167 667.481 35.9632 670.154 Q39.1779 672.796 45.2253 672.796 L64.0042 672.796 L64.0042 678.684 L28.3562 678.684 L28.3562 672.796 L33.8944 672.796 Q30.6479 670.95 29.0883 667.99 Q27.4968 665.03 27.4968 660.797 Q27.4968 660.192 27.5923 659.46 Q27.656 658.728 27.8151 657.837 L33.8307 657.805 Z\" fill=\"#000000\" fill-rule=\"evenodd\" fill-opacity=\"1\" /><path clip-path=\"url(#clip710)\" d=\"M 0 0 M44.7161 622.603 L47.5806 622.603 L47.5806 649.53 Q53.6281 649.148 56.8109 645.901 Q59.9619 642.623 59.9619 636.798 Q59.9619 633.424 59.1344 630.273 Q58.3069 627.09 56.6518 623.971 L62.1899 623.971 Q63.5267 627.122 64.227 630.432 Q64.9272 633.743 64.9272 637.148 Q64.9272 645.678 59.9619 650.675 Q54.9967 655.641 46.5303 655.641 Q37.7774 655.641 32.6531 650.93 Q27.4968 646.188 27.4968 638.167 Q27.4968 630.974 32.1438 626.804 Q36.7589 622.603 44.7161 622.603 M42.9973 628.459 Q38.1912 628.523 35.3266 631.164 Q32.4621 633.774 32.4621 638.103 Q32.4621 643.005 35.2312 645.965 Q38.0002 648.893 43.0292 649.339 L42.9973 628.459 Z\" fill=\"#000000\" fill-rule=\"evenodd\" fill-opacity=\"1\" /><path clip-path=\"url(#clip710)\" d=\"M 0 0 M29.7248 590.806 L35.1993 590.806 Q33.8307 593.289 33.1623 595.803 Q32.4621 598.286 32.4621 600.832 Q32.4621 606.529 36.0905 609.68 Q39.6872 612.831 46.212 612.831 Q52.7369 612.831 56.3653 609.68 Q59.9619 606.529 59.9619 600.832 Q59.9619 598.286 59.2935 595.803 Q58.5933 593.289 57.2247 590.806 L62.6355 590.806 Q63.7814 593.257 64.3543 595.898 Q64.9272 598.508 64.9272 601.468 Q64.9272 609.521 59.8664 614.264 Q54.8057 619.006 46.212 619.006 Q37.491 619.006 32.4939 614.232 Q27.4968 609.426 27.4968 601.087 Q27.4968 598.381 28.0697 595.803 Q28.6108 593.225 29.7248 590.806 Z\" fill=\"#000000\" fill-rule=\"evenodd\" fill-opacity=\"1\" /><path clip-path=\"url(#clip710)\" d=\"M 0 0 M32.4621 570.849 Q32.4621 575.56 36.1542 578.297 Q39.8145 581.035 46.212 581.035 Q52.6095 581.035 56.3017 578.329 Q59.9619 575.592 59.9619 570.849 Q59.9619 566.171 56.2698 563.433 Q52.5777 560.696 46.212 560.696 Q39.8781 560.696 36.186 563.433 Q32.4621 566.171 32.4621 570.849 M27.4968 570.849 Q27.4968 563.211 32.4621 558.85 Q37.4273 554.49 46.212 554.49 Q54.9649 554.49 59.9619 558.85 Q64.9272 563.211 64.9272 570.849 Q64.9272 578.52 59.9619 582.881 Q54.9649 587.209 46.212 587.209 Q37.4273 587.209 32.4621 582.881 Q27.4968 578.52 27.4968 570.849 Z\" fill=\"#000000\" fill-rule=\"evenodd\" fill-opacity=\"1\" /><path clip-path=\"url(#clip710)\" d=\"M 0 0 M28.3562 552.548 L28.3562 546.341 L58.275 535.201 L28.3562 524.061 L28.3562 517.855 L64.0042 531.223 L64.0042 539.18 L28.3562 552.548 Z\" fill=\"#000000\" fill-rule=\"evenodd\" fill-opacity=\"1\" /><path clip-path=\"url(#clip710)\" d=\"M 0 0 M44.7161 481.22 L47.5806 481.22 L47.5806 508.147 Q53.6281 507.765 56.8109 504.519 Q59.9619 501.24 59.9619 495.416 Q59.9619 492.042 59.1344 488.891 Q58.3069 485.708 56.6518 482.589 L62.1899 482.589 Q63.5267 485.74 64.227 489.05 Q64.9272 492.36 64.9272 495.766 Q64.9272 504.296 59.9619 509.293 Q54.9967 514.258 46.5303 514.258 Q37.7774 514.258 32.6531 509.548 Q27.4968 504.805 27.4968 496.784 Q27.4968 489.591 32.1438 485.422 Q36.7589 481.22 44.7161 481.22 M42.9973 487.077 Q38.1912 487.14 35.3266 489.782 Q32.4621 492.392 32.4621 496.721 Q32.4621 501.622 35.2312 504.582 Q38.0002 507.511 43.0292 507.956 L42.9973 487.077 Z\" fill=\"#000000\" fill-rule=\"evenodd\" fill-opacity=\"1\" /><path clip-path=\"url(#clip710)\" d=\"M 0 0 M33.8307 454.421 Q33.2578 455.407 33.0032 456.585 Q32.7167 457.731 32.7167 459.131 Q32.7167 464.097 35.9632 466.77 Q39.1779 469.412 45.2253 469.412 L64.0042 469.412 L64.0042 475.3 L28.3562 475.3 L28.3562 469.412 L33.8944 469.412 Q30.6479 467.566 29.0883 464.606 Q27.4968 461.646 27.4968 457.413 Q27.4968 456.808 27.5923 456.076 Q27.656 455.344 27.8151 454.452 L33.8307 454.421 Z\" fill=\"#000000\" fill-rule=\"evenodd\" fill-opacity=\"1\" /><path clip-path=\"url(#clip710)\" d=\"M 0 0 M67.3143 433.446 Q73.68 435.928 75.6216 438.284 Q77.5631 440.639 77.5631 444.586 L77.5631 449.264 L72.6615 449.264 L72.6615 445.827 Q72.6615 443.408 71.5157 442.071 Q70.3699 440.734 66.1048 439.111 L63.4312 438.061 L28.3562 452.479 L28.3562 446.273 L56.238 435.133 L28.3562 423.993 L28.3562 417.786 L67.3143 433.446 Z\" fill=\"#000000\" fill-rule=\"evenodd\" fill-opacity=\"1\" /><path clip-path=\"url(#clip710)\" d=\"M 0 0 M49.9359 391.527 L28.3562 391.527 L28.3562 385.671 L49.7131 385.671 Q54.7739 385.671 57.3202 383.698 Q59.8346 381.724 59.8346 377.778 Q59.8346 373.035 56.8109 370.298 Q53.7872 367.529 48.5673 367.529 L28.3562 367.529 L28.3562 361.672 L64.0042 361.672 L64.0042 367.529 L58.5296 367.529 Q61.7762 369.661 63.3676 372.494 Q64.9272 375.295 64.9272 379.019 Q64.9272 385.162 61.1078 388.345 Q57.2883 391.527 49.9359 391.527 M27.4968 376.791 L27.4968 376.791 Z\" fill=\"#000000\" fill-rule=\"evenodd\" fill-opacity=\"1\" /><path clip-path=\"url(#clip710)\" d=\"M 0 0 M58.657 349.864 L77.5631 349.864 L77.5631 355.752 L28.3562 355.752 L28.3562 349.864 L33.7671 349.864 Q30.5842 348.018 29.0564 345.217 Q27.4968 342.384 27.4968 338.469 Q27.4968 331.976 32.6531 327.934 Q37.8093 323.86 46.212 323.86 Q54.6147 323.86 59.771 327.934 Q64.9272 331.976 64.9272 338.469 Q64.9272 342.384 63.3994 345.217 Q61.8398 348.018 58.657 349.864 M46.212 329.939 Q39.7508 329.939 36.0905 332.613 Q32.3984 335.255 32.3984 339.902 Q32.3984 344.549 36.0905 347.222 Q39.7508 349.864 46.212 349.864 Q52.6732 349.864 56.3653 347.222 Q60.0256 344.549 60.0256 339.902 Q60.0256 335.255 56.3653 332.613 Q52.6732 329.939 46.212 329.939 Z\" fill=\"#000000\" fill-rule=\"evenodd\" fill-opacity=\"1\" /><path clip-path=\"url(#clip710)\" d=\"M 0 0 M18.2347 291.204 L28.3562 291.204 L28.3562 279.141 L32.9077 279.141 L32.9077 291.204 L52.2594 291.204 Q56.6199 291.204 57.8613 290.026 Q59.1026 288.817 59.1026 285.157 L59.1026 279.141 L64.0042 279.141 L64.0042 285.157 Q64.0042 291.936 61.4897 294.514 Q58.9434 297.092 52.2594 297.092 L32.9077 297.092 L32.9077 301.389 L28.3562 301.389 L28.3562 297.092 L18.2347 297.092 L18.2347 291.204 Z\" fill=\"#000000\" fill-rule=\"evenodd\" fill-opacity=\"1\" /><path clip-path=\"url(#clip710)\" d=\"M 0 0 M32.4621 259.184 Q32.4621 263.895 36.1542 266.632 Q39.8145 269.37 46.212 269.37 Q52.6095 269.37 56.3017 266.664 Q59.9619 263.927 59.9619 259.184 Q59.9619 254.506 56.2698 251.768 Q52.5777 249.031 46.212 249.031 Q39.8781 249.031 36.186 251.768 Q32.4621 254.506 32.4621 259.184 M27.4968 259.184 Q27.4968 251.546 32.4621 247.185 Q37.4273 242.825 46.212 242.825 Q54.9649 242.825 59.9619 247.185 Q64.9272 251.546 64.9272 259.184 Q64.9272 266.855 59.9619 271.216 Q54.9649 275.544 46.212 275.544 Q37.4273 275.544 32.4621 271.216 Q27.4968 266.855 27.4968 259.184 Z\" fill=\"#000000\" fill-rule=\"evenodd\" fill-opacity=\"1\" /><path clip-path=\"url(#clip710)\" d=\"M 0 0 M18.2347 210.168 L28.3562 210.168 L28.3562 198.105 L32.9077 198.105 L32.9077 210.168 L52.2594 210.168 Q56.6199 210.168 57.8613 208.991 Q59.1026 207.781 59.1026 204.121 L59.1026 198.105 L64.0042 198.105 L64.0042 204.121 Q64.0042 210.901 61.4897 213.479 Q58.9434 216.057 52.2594 216.057 L32.9077 216.057 L32.9077 220.354 L28.3562 220.354 L28.3562 216.057 L18.2347 216.057 L18.2347 210.168 Z\" fill=\"#000000\" fill-rule=\"evenodd\" fill-opacity=\"1\" /><path clip-path=\"url(#clip710)\" d=\"M 0 0 M28.3562 191.963 L28.3562 186.106 L64.0042 186.106 L64.0042 191.963 L28.3562 191.963 M14.479 191.963 L14.479 186.106 L21.895 186.106 L21.895 191.963 L14.479 191.963 Z\" fill=\"#000000\" fill-rule=\"evenodd\" fill-opacity=\"1\" /><path clip-path=\"url(#clip710)\" d=\"M 0 0 M35.1993 152.209 Q31.2526 150.013 29.3747 146.957 Q27.4968 143.901 27.4968 139.764 Q27.4968 134.194 31.4117 131.17 Q35.2948 128.146 42.4881 128.146 L64.0042 128.146 L64.0042 134.035 L42.679 134.035 Q37.5546 134.035 35.072 135.849 Q32.5894 137.663 32.5894 141.387 Q32.5894 145.939 35.6131 148.58 Q38.6368 151.222 43.8567 151.222 L64.0042 151.222 L64.0042 157.11 L42.679 157.11 Q37.5228 157.11 35.072 158.925 Q32.5894 160.739 32.5894 164.526 Q32.5894 169.014 35.6449 171.656 Q38.6686 174.298 43.8567 174.298 L64.0042 174.298 L64.0042 180.186 L28.3562 180.186 L28.3562 174.298 L33.8944 174.298 Q30.616 172.293 29.0564 169.492 Q27.4968 166.691 27.4968 162.839 Q27.4968 158.956 29.4702 156.251 Q31.4436 153.514 35.1993 152.209 Z\" fill=\"#000000\" fill-rule=\"evenodd\" fill-opacity=\"1\" /><path clip-path=\"url(#clip710)\" d=\"M 0 0 M44.7161 91.5117 L47.5806 91.5117 L47.5806 118.439 Q53.6281 118.057 56.8109 114.81 Q59.9619 111.532 59.9619 105.707 Q59.9619 102.333 59.1344 99.1824 Q58.3069 95.9995 56.6518 92.8803 L62.1899 92.8803 Q63.5267 96.0314 64.227 99.3415 Q64.9272 102.652 64.9272 106.057 Q64.9272 114.587 59.9619 119.584 Q54.9967 124.55 46.5303 124.55 Q37.7774 124.55 32.6531 119.839 Q27.4968 115.097 27.4968 107.076 Q27.4968 99.8826 32.1438 95.7131 Q36.7589 91.5117 44.7161 91.5117 M42.9973 97.3682 Q38.1912 97.4318 35.3266 100.074 Q32.4621 102.684 32.4621 107.012 Q32.4621 111.914 35.2312 114.874 Q38.0002 117.802 43.0292 118.248 L42.9973 97.3682 Z\" fill=\"#000000\" fill-rule=\"evenodd\" fill-opacity=\"1\" /><path clip-path=\"url(#clip710)\" d=\"M 0 0 M42.4881 35.0161 L64.0042 35.0161 L64.0042 40.8725 L42.679 40.8725 Q37.6183 40.8725 35.1038 42.8459 Q32.5894 44.8193 32.5894 48.766 Q32.5894 53.5084 35.6131 56.2457 Q38.6368 58.983 43.8567 58.983 L64.0042 58.983 L64.0042 64.8712 L28.3562 64.8712 L28.3562 58.983 L33.8944 58.983 Q30.6797 56.8823 29.0883 54.0495 Q27.4968 51.185 27.4968 47.461 Q27.4968 41.3181 31.3163 38.1671 Q35.1038 35.0161 42.4881 35.0161 Z\" fill=\"#000000\" fill-rule=\"evenodd\" fill-opacity=\"1\" /><polyline clip-path=\"url(#clip712)\" style=\"stroke:#009af9; stroke-width:4; stroke-opacity:1; fill:none\" points=\"\n",
       "  272.201,1384.24 373.199,1384.24 373.199,1236.47 474.197,1236.47 474.197,1103.47 575.195,1103.47 575.195,983.78 676.192,983.78 676.192,876.055 777.19,876.055 \n",
       "  777.19,779.102 878.188,779.102 878.188,691.845 979.186,691.845 979.186,613.314 1080.18,613.314 1080.18,542.636 1181.18,542.636 1181.18,479.025 1282.18,479.025 \n",
       "  1282.18,421.776 1383.18,421.776 1383.18,370.251 1484.17,370.251 1484.17,323.879 1585.17,323.879 1585.17,282.144 1686.17,282.144 1686.17,244.583 1787.17,244.583 \n",
       "  1787.17,210.778 1888.17,210.778 1888.17,180.353 1989.16,180.353 1989.16,152.971 2090.16,152.971 2090.16,128.327 2191.16,128.327 2191.16,106.147 2292.16,106.147 \n",
       "  2292.16,86.1857 \n",
       "  \"/>\n",
       "<circle clip-path=\"url(#clip712)\" cx=\"373.199\" cy=\"1236.47\" r=\"14\" fill=\"#e26f46\" fill-rule=\"evenodd\" fill-opacity=\"1\" stroke=\"#000000\" stroke-opacity=\"1\" stroke-width=\"3.2\"/>\n",
       "<circle clip-path=\"url(#clip712)\" cx=\"474.197\" cy=\"1103.47\" r=\"14\" fill=\"#e26f46\" fill-rule=\"evenodd\" fill-opacity=\"1\" stroke=\"#000000\" stroke-opacity=\"1\" stroke-width=\"3.2\"/>\n",
       "<circle clip-path=\"url(#clip712)\" cx=\"575.195\" cy=\"983.78\" r=\"14\" fill=\"#e26f46\" fill-rule=\"evenodd\" fill-opacity=\"1\" stroke=\"#000000\" stroke-opacity=\"1\" stroke-width=\"3.2\"/>\n",
       "<circle clip-path=\"url(#clip712)\" cx=\"676.192\" cy=\"876.055\" r=\"14\" fill=\"#e26f46\" fill-rule=\"evenodd\" fill-opacity=\"1\" stroke=\"#000000\" stroke-opacity=\"1\" stroke-width=\"3.2\"/>\n",
       "<circle clip-path=\"url(#clip712)\" cx=\"777.19\" cy=\"779.102\" r=\"14\" fill=\"#e26f46\" fill-rule=\"evenodd\" fill-opacity=\"1\" stroke=\"#000000\" stroke-opacity=\"1\" stroke-width=\"3.2\"/>\n",
       "<circle clip-path=\"url(#clip712)\" cx=\"878.188\" cy=\"691.845\" r=\"14\" fill=\"#e26f46\" fill-rule=\"evenodd\" fill-opacity=\"1\" stroke=\"#000000\" stroke-opacity=\"1\" stroke-width=\"3.2\"/>\n",
       "<circle clip-path=\"url(#clip712)\" cx=\"979.186\" cy=\"613.314\" r=\"14\" fill=\"#e26f46\" fill-rule=\"evenodd\" fill-opacity=\"1\" stroke=\"#000000\" stroke-opacity=\"1\" stroke-width=\"3.2\"/>\n",
       "<circle clip-path=\"url(#clip712)\" cx=\"1080.18\" cy=\"542.636\" r=\"14\" fill=\"#e26f46\" fill-rule=\"evenodd\" fill-opacity=\"1\" stroke=\"#000000\" stroke-opacity=\"1\" stroke-width=\"3.2\"/>\n",
       "<circle clip-path=\"url(#clip712)\" cx=\"1181.18\" cy=\"479.025\" r=\"14\" fill=\"#e26f46\" fill-rule=\"evenodd\" fill-opacity=\"1\" stroke=\"#000000\" stroke-opacity=\"1\" stroke-width=\"3.2\"/>\n",
       "<circle clip-path=\"url(#clip712)\" cx=\"1282.18\" cy=\"421.776\" r=\"14\" fill=\"#e26f46\" fill-rule=\"evenodd\" fill-opacity=\"1\" stroke=\"#000000\" stroke-opacity=\"1\" stroke-width=\"3.2\"/>\n",
       "<circle clip-path=\"url(#clip712)\" cx=\"1383.18\" cy=\"370.251\" r=\"14\" fill=\"#e26f46\" fill-rule=\"evenodd\" fill-opacity=\"1\" stroke=\"#000000\" stroke-opacity=\"1\" stroke-width=\"3.2\"/>\n",
       "<circle clip-path=\"url(#clip712)\" cx=\"1484.17\" cy=\"323.879\" r=\"14\" fill=\"#e26f46\" fill-rule=\"evenodd\" fill-opacity=\"1\" stroke=\"#000000\" stroke-opacity=\"1\" stroke-width=\"3.2\"/>\n",
       "<circle clip-path=\"url(#clip712)\" cx=\"1585.17\" cy=\"282.144\" r=\"14\" fill=\"#e26f46\" fill-rule=\"evenodd\" fill-opacity=\"1\" stroke=\"#000000\" stroke-opacity=\"1\" stroke-width=\"3.2\"/>\n",
       "<circle clip-path=\"url(#clip712)\" cx=\"1686.17\" cy=\"244.583\" r=\"14\" fill=\"#e26f46\" fill-rule=\"evenodd\" fill-opacity=\"1\" stroke=\"#000000\" stroke-opacity=\"1\" stroke-width=\"3.2\"/>\n",
       "<circle clip-path=\"url(#clip712)\" cx=\"1787.17\" cy=\"210.778\" r=\"14\" fill=\"#e26f46\" fill-rule=\"evenodd\" fill-opacity=\"1\" stroke=\"#000000\" stroke-opacity=\"1\" stroke-width=\"3.2\"/>\n",
       "<circle clip-path=\"url(#clip712)\" cx=\"1888.17\" cy=\"180.353\" r=\"14\" fill=\"#e26f46\" fill-rule=\"evenodd\" fill-opacity=\"1\" stroke=\"#000000\" stroke-opacity=\"1\" stroke-width=\"3.2\"/>\n",
       "<circle clip-path=\"url(#clip712)\" cx=\"1989.16\" cy=\"152.971\" r=\"14\" fill=\"#e26f46\" fill-rule=\"evenodd\" fill-opacity=\"1\" stroke=\"#000000\" stroke-opacity=\"1\" stroke-width=\"3.2\"/>\n",
       "<circle clip-path=\"url(#clip712)\" cx=\"2090.16\" cy=\"128.327\" r=\"14\" fill=\"#e26f46\" fill-rule=\"evenodd\" fill-opacity=\"1\" stroke=\"#000000\" stroke-opacity=\"1\" stroke-width=\"3.2\"/>\n",
       "<circle clip-path=\"url(#clip712)\" cx=\"2191.16\" cy=\"106.147\" r=\"14\" fill=\"#e26f46\" fill-rule=\"evenodd\" fill-opacity=\"1\" stroke=\"#000000\" stroke-opacity=\"1\" stroke-width=\"3.2\"/>\n",
       "<circle clip-path=\"url(#clip712)\" cx=\"2292.16\" cy=\"86.1857\" r=\"14\" fill=\"#e26f46\" fill-rule=\"evenodd\" fill-opacity=\"1\" stroke=\"#000000\" stroke-opacity=\"1\" stroke-width=\"3.2\"/>\n",
       "</svg>\n"
      ]
     },
     "execution_count": 15,
     "metadata": {},
     "output_type": "execute_result"
    }
   ],
   "source": [
    "plot(xs, ys, leg = false)\n",
    "scatter!(s)\n",
    "ylabel!(\"Cumulative probability of recovery up to time n\")\n",
    "xlabel!(\"number of days, n\")"
   ]
  },
  {
   "cell_type": "markdown",
   "metadata": {},
   "source": [
    "Think of our discrete-time process in steps, not of days, but of a time $\\delta$"
   ]
  },
  {
   "cell_type": "markdown",
   "metadata": {},
   "source": [
    "Instead of \"cumulative probability that we have decayed by day $n$\", want to talk about \"cumulative probability that we have decayed by day $n\\delta$\""
   ]
  },
  {
   "cell_type": "markdown",
   "metadata": {},
   "source": [
    "What is the probability $p(\\delta)$ of recovering in time $\\delta$"
   ]
  },
  {
   "cell_type": "code",
   "execution_count": null,
   "metadata": {},
   "outputs": [],
   "source": []
  }
 ],
 "metadata": {
  "kernelspec": {
   "display_name": "Julia 1.6.0",
   "language": "julia",
   "name": "julia-1.6"
  },
  "language_info": {
   "file_extension": ".jl",
   "mimetype": "application/julia",
   "name": "julia",
   "version": "1.6.0"
  }
 },
 "nbformat": 4,
 "nbformat_minor": 4
}
