{
 "cells": [
  {
   "cell_type": "markdown",
   "metadata": {},
   "source": [
    "# Goals for today\n",
    "- Continuous limit\n",
    "- Continuous probability distributions\n",
    "- Probability density function"
   ]
  },
  {
   "cell_type": "markdown",
   "metadata": {},
   "source": [
    "# Geometric random variable\n",
    "- Recall **geometric random variable** $X$\n",
    "- Integer time steps\n",
    "- Probability to decay / recover at each time step is $p$"
   ]
  },
  {
   "cell_type": "markdown",
   "metadata": {},
   "source": [
    "$\\mathbb{P}(X = n) = p(1-p)^{n-1}$ for $n = 1,2,...$"
   ]
  },
  {
   "cell_type": "markdown",
   "metadata": {},
   "source": [
    "# Probability mass function\n",
    "For a **discrete(-valued) random variable** $X$:\n",
    "- Define **probability mass function** $f_x$ as"
   ]
  },
  {
   "cell_type": "markdown",
   "metadata": {},
   "source": [
    "$$f_X(n) := \\mathbb{P}[X = n]$$"
   ]
  },
  {
   "cell_type": "markdown",
   "metadata": {},
   "source": [
    "i.e. the probability that X takes the value $n$"
   ]
  },
  {
   "cell_type": "markdown",
   "metadata": {},
   "source": [
    "For geometric random variable $X$ we have"
   ]
  },
  {
   "cell_type": "markdown",
   "metadata": {},
   "source": [
    "$$f_X(n) := p(1-p)^{n-1}$$"
   ]
  },
  {
   "cell_type": "markdown",
   "metadata": {},
   "source": [
    "Satisfies $\\sum_{n=1}^{\\infty} f_X(n) = 1$"
   ]
  },
  {
   "cell_type": "markdown",
   "metadata": {},
   "source": [
    "# Towards continuous time\n",
    "- suppose want jumps not only at integer times\n",
    "- Jump at times $t_n := n \\infty$ for $ n = 1,2,...$\n",
    "- e.g if $\\delta = \\frac{1}{2}$, jump twice per day\n",
    "- if we want to *reproduce* same dynamics, how shoud we choose decay probability *p*?\n",
    "- *p* must depend on $\\delta$, so call it $p(\\delta)$"
   ]
  },
  {
   "cell_type": "markdown",
   "metadata": {},
   "source": [
    "In order to caompare the two different processes, can't look at instantaneous jumps\n",
    "- Need to look at **cumulative distribution function**:\n",
    "$$F_X(n) := \\mathbb{P}[X \\leq n]$$\n",
    "- \"The probability that have decayed *by time $n$*\n",
    "- Actually now can talk about any *continuous* (real) time $t$:\n",
    "$$F_X(t) := \\mathbb{P}[X \\leq t]$$"
   ]
  },
  {
   "cell_type": "markdown",
   "metadata": {},
   "source": [
    "How can we write the cumulative distribution function in terms of $f_X$?"
   ]
  },
  {
   "cell_type": "markdown",
   "metadata": {},
   "source": [
    "- We need to find the largest integer value less then $t$\n",
    "- We obtain \n",
    "$$F_X(t) = \\sum_{j=1}^{\\lfloor t \\rfloor} f_X(j)$$ \n",
    "- $\\lfloor t \\rfloor$ is the **floor** function:\n",
    "- $\\lfloor t \\rfloor$ := largest integer $\\leq t$ \n",
    "- `floor(t)` in Julia"
   ]
  },
  {
   "cell_type": "markdown",
   "metadata": {},
   "source": [
    "Now think about jumps at times $t_n = n\\delta$\n",
    "- Call resulting process $Y_\\delta$\n",
    "- Also a discrete(-valued) random variable"
   ]
  },
  {
   "cell_type": "markdown",
   "metadata": {},
   "source": [
    "Its probability mass function is\n",
    "$$f_{Y_\\delta}(n) = p(\\delta)[1 - p(\\delta)]^{n-1}$$\n",
    "- This is the probability after $n$ *time-steps*\n",
    "- But now these *jumps* occur at *times* $"
   ]
  },
  {
   "cell_type": "markdown",
   "metadata": {},
   "source": []
  },
  {
   "cell_type": "code",
   "execution_count": null,
   "metadata": {},
   "outputs": [],
   "source": []
  }
 ],
 "metadata": {
  "kernelspec": {
   "display_name": "Julia 1.6.0",
   "language": "julia",
   "name": "julia-1.6"
  },
  "language_info": {
   "file_extension": ".jl",
   "mimetype": "application/julia",
   "name": "julia",
   "version": "1.6.0"
  }
 },
 "nbformat": 4,
 "nbformat_minor": 4
}
