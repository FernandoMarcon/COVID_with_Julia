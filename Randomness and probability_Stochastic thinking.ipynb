{
 "cells": [
  {
   "cell_type": "markdown",
   "metadata": {},
   "source": [
    "# Randomness and probability: Stochastic thinking"
   ]
  },
  {
   "cell_type": "markdown",
   "metadata": {},
   "source": [
    "Randomness &rarr; *unknown information* in dynamical processes"
   ]
  },
  {
   "cell_type": "markdown",
   "metadata": {},
   "source": [
    "## Recovery from infection"
   ]
  },
  {
   "cell_type": "markdown",
   "metadata": {},
   "source": [
    "Simple model of recovery from infection:\n",
    "   - Constant recovery \"rate\"\n",
    "   - Model as constant **probability** *p* to recover each day \n",
    "   - Models fact that peoples' immune systems behave differently\n",
    "   - Affected by temperature, nutrition, dust in house etc.   "
   ]
  },
  {
   "cell_type": "markdown",
   "metadata": {},
   "source": [
    "## Some relevant questions\n",
    "   - How simulate this **stochastic process**?\n",
    "   - How long will infection last?\n",
    "   - Does it make sense to talk about an *average* infection duration? \n",
    "   - Is this, in the end, a \"good model\"?\n",
    "   - Does it reproduce the data?"
   ]
  },
  {
   "cell_type": "markdown",
   "metadata": {},
   "source": [
    "## Computing using randomness\n",
    "How generate rendomness on computer?\n",
    "   - Computers are deterministic, so *we can't*! \n",
    "   - Start-upsequence of computer generates \"entropy\" = unpredictable bits \n",
    "   - Use real physical process, e.g. noise from electronic circuit or [atmospheric noise](www.random.org)\n",
    "   - Generate \"random-looking\" sequences using deterministic process, e.g. \"linear congruential generator\" (1970s)."
   ]
  },
  {
   "cell_type": "markdown",
   "metadata": {},
   "source": [
    "### Pseudo-random numbers\n",
    "- Uses sophisticated modern random number generator: Mersenne twister"
   ]
  },
  {
   "cell_type": "markdown",
   "metadata": {},
   "source": [
    "# Modelling the recovery process using probability"
   ]
  },
  {
   "cell_type": "markdown",
   "metadata": {},
   "source": [
    "Using previous model for $I_{n+1} = (1+c) I_n = \\lambda * I_n$:"
   ]
  },
  {
   "cell_type": "code",
   "execution_count": 1,
   "metadata": {},
   "outputs": [
    {
     "data": {
      "text/plain": [
       "run_infection (generic function with 2 methods)"
      ]
     },
     "execution_count": 1,
     "metadata": {},
     "output_type": "execute_result"
    }
   ],
   "source": [
    "function run_infection(I₀, λ, T=20)\n",
    "    \n",
    "    I = zeros(T)\n",
    "    I[1] = I₀\n",
    "    \n",
    "    for n in 1:T-1\n",
    "        I[n+1] = λ * I[n]\n",
    "    end\n",
    "\n",
    "    return I\n",
    "end"
   ]
  },
  {
   "cell_type": "code",
   "execution_count": 3,
   "metadata": {},
   "outputs": [
    {
     "data": {
      "text/plain": [
       "20-element Vector{Float64}:\n",
       " 1.0\n",
       " 0.1\n",
       " 0.010000000000000002\n",
       " 0.0010000000000000002\n",
       " 0.00010000000000000003\n",
       " 1.0000000000000004e-5\n",
       " 1.0000000000000004e-6\n",
       " 1.0000000000000005e-7\n",
       " 1.0000000000000005e-8\n",
       " 1.0000000000000005e-9\n",
       " 1.0000000000000006e-10\n",
       " 1.0000000000000006e-11\n",
       " 1.0000000000000006e-12\n",
       " 1.0000000000000007e-13\n",
       " 1.0000000000000008e-14\n",
       " 1.0000000000000009e-15\n",
       " 1.000000000000001e-16\n",
       " 1.000000000000001e-17\n",
       " 1.000000000000001e-18\n",
       " 1.000000000000001e-19"
      ]
     },
     "execution_count": 3,
     "metadata": {},
     "output_type": "execute_result"
    }
   ],
   "source": [
    "run_infection(1.,.1)"
   ]
  },
  {
   "cell_type": "markdown",
   "metadata": {},
   "source": [
    "## Adding new data to extend a vector"
   ]
  },
  {
   "cell_type": "code",
   "execution_count": 22,
   "metadata": {},
   "outputs": [
    {
     "data": {
      "text/plain": [
       "1-element Vector{Float64}:\n",
       " 1.0"
      ]
     },
     "execution_count": 22,
     "metadata": {},
     "output_type": "execute_result"
    }
   ],
   "source": [
    "v = [1.]"
   ]
  },
  {
   "cell_type": "code",
   "execution_count": 23,
   "metadata": {},
   "outputs": [
    {
     "data": {
      "text/plain": [
       "2-element Vector{Float64}:\n",
       " 1.0\n",
       " 7.0"
      ]
     },
     "execution_count": 23,
     "metadata": {},
     "output_type": "execute_result"
    }
   ],
   "source": [
    "push!(v, 7.0) # ! means: function `push!` modifies its first argument"
   ]
  },
  {
   "cell_type": "code",
   "execution_count": 24,
   "metadata": {},
   "outputs": [
    {
     "data": {
      "text/plain": [
       "2"
      ]
     },
     "execution_count": 24,
     "metadata": {},
     "output_type": "execute_result"
    }
   ],
   "source": [
    "length(v)"
   ]
  },
  {
   "cell_type": "code",
   "execution_count": 25,
   "metadata": {},
   "outputs": [
    {
     "data": {
      "text/plain": [
       "3-element Vector{Float64}:\n",
       " 8.0\n",
       " 1.0\n",
       " 7.0"
      ]
     },
     "execution_count": 25,
     "metadata": {},
     "output_type": "execute_result"
    }
   ],
   "source": [
    "pushfirst!(v, 8) # deque - double-ended queue"
   ]
  },
  {
   "cell_type": "code",
   "execution_count": 26,
   "metadata": {},
   "outputs": [
    {
     "data": {
      "text/plain": [
       "run_infection (generic function with 2 methods)"
      ]
     },
     "execution_count": 26,
     "metadata": {},
     "output_type": "execute_result"
    }
   ],
   "source": [
    "function run_infection(I₀, λ, T=20)\n",
    "    \n",
    "    Iₛ = [I₀]\n",
    "    I = I₀\n",
    "    \n",
    "    for n in 1:T-1\n",
    "        Iₙₑₓₜ = λ * I\n",
    "        push!(Iₛ, Iₙₑₓₜ)\n",
    "        I = Iₙₑₓₜ\n",
    "    end\n",
    "\n",
    "    return Iₛ\n",
    "end"
   ]
  },
  {
   "cell_type": "code",
   "execution_count": 27,
   "metadata": {},
   "outputs": [
    {
     "data": {
      "text/plain": [
       "20-element Vector{Float64}:\n",
       " 1.0\n",
       " 1.1\n",
       " 1.2100000000000002\n",
       " 1.3310000000000004\n",
       " 1.4641000000000006\n",
       " 1.6105100000000008\n",
       " 1.771561000000001\n",
       " 1.9487171000000014\n",
       " 2.1435888100000016\n",
       " 2.357947691000002\n",
       " 2.5937424601000023\n",
       " 2.853116706110003\n",
       " 3.1384283767210035\n",
       " 3.4522712143931042\n",
       " 3.797498335832415\n",
       " 4.177248169415656\n",
       " 4.594972986357222\n",
       " 5.054470284992944\n",
       " 5.559917313492239\n",
       " 6.115909044841463"
      ]
     },
     "execution_count": 27,
     "metadata": {},
     "output_type": "execute_result"
    }
   ],
   "source": [
    "run_infection(1.0,1.1)"
   ]
  },
  {
   "cell_type": "markdown",
   "metadata": {},
   "source": [
    "## Randomness"
   ]
  },
  {
   "cell_type": "code",
   "execution_count": 28,
   "metadata": {},
   "outputs": [],
   "source": [
    "using Random\n",
    "using Plots"
   ]
  },
  {
   "cell_type": "code",
   "execution_count": 30,
   "metadata": {},
   "outputs": [],
   "source": [
    "Random.seed!(3);"
   ]
  },
  {
   "cell_type": "code",
   "execution_count": 31,
   "metadata": {},
   "outputs": [],
   "source": [
    "r = rand(100);"
   ]
  },
  {
   "cell_type": "code",
   "execution_count": 32,
   "metadata": {},
   "outputs": [
    {
     "data": {
      "image/svg+xml": [
       "<?xml version=\"1.0\" encoding=\"utf-8\"?>\n",
       "<svg xmlns=\"http://www.w3.org/2000/svg\" xmlns:xlink=\"http://www.w3.org/1999/xlink\" width=\"600\" height=\"400\" viewBox=\"0 0 2400 1600\">\n",
       "<defs>\n",
       "  <clipPath id=\"clip360\">\n",
       "    <rect x=\"0\" y=\"0\" width=\"2400\" height=\"1600\"/>\n",
       "  </clipPath>\n",
       "</defs>\n",
       "<path clip-path=\"url(#clip360)\" d=\"\n",
       "M0 1600 L2400 1600 L2400 0 L0 0  Z\n",
       "  \" fill=\"#ffffff\" fill-rule=\"evenodd\" fill-opacity=\"1\"/>\n",
       "<defs>\n",
       "  <clipPath id=\"clip361\">\n",
       "    <rect x=\"480\" y=\"0\" width=\"1681\" height=\"1600\"/>\n",
       "  </clipPath>\n",
       "</defs>\n",
       "<path clip-path=\"url(#clip360)\" d=\"\n",
       "M174.862 1486.45 L2352.76 1486.45 L2352.76 47.2441 L174.862 47.2441  Z\n",
       "  \" fill=\"#ffffff\" fill-rule=\"evenodd\" fill-opacity=\"1\"/>\n",
       "<defs>\n",
       "  <clipPath id=\"clip362\">\n",
       "    <rect x=\"174\" y=\"47\" width=\"2179\" height=\"1440\"/>\n",
       "  </clipPath>\n",
       "</defs>\n",
       "<polyline clip-path=\"url(#clip362)\" style=\"stroke:#000000; stroke-width:2; stroke-opacity:0.1; fill:none\" points=\"\n",
       "  215.747,1486.45 215.747,47.2441 \n",
       "  \"/>\n",
       "<polyline clip-path=\"url(#clip362)\" style=\"stroke:#000000; stroke-width:2; stroke-opacity:0.1; fill:none\" points=\"\n",
       "  734.589,1486.45 734.589,47.2441 \n",
       "  \"/>\n",
       "<polyline clip-path=\"url(#clip362)\" style=\"stroke:#000000; stroke-width:2; stroke-opacity:0.1; fill:none\" points=\"\n",
       "  1253.43,1486.45 1253.43,47.2441 \n",
       "  \"/>\n",
       "<polyline clip-path=\"url(#clip362)\" style=\"stroke:#000000; stroke-width:2; stroke-opacity:0.1; fill:none\" points=\"\n",
       "  1772.27,1486.45 1772.27,47.2441 \n",
       "  \"/>\n",
       "<polyline clip-path=\"url(#clip362)\" style=\"stroke:#000000; stroke-width:2; stroke-opacity:0.1; fill:none\" points=\"\n",
       "  2291.12,1486.45 2291.12,47.2441 \n",
       "  \"/>\n",
       "<polyline clip-path=\"url(#clip360)\" style=\"stroke:#000000; stroke-width:4; stroke-opacity:1; fill:none\" points=\"\n",
       "  174.862,1486.45 2352.76,1486.45 \n",
       "  \"/>\n",
       "<polyline clip-path=\"url(#clip360)\" style=\"stroke:#000000; stroke-width:4; stroke-opacity:1; fill:none\" points=\"\n",
       "  215.747,1486.45 215.747,1469.18 \n",
       "  \"/>\n",
       "<polyline clip-path=\"url(#clip360)\" style=\"stroke:#000000; stroke-width:4; stroke-opacity:1; fill:none\" points=\"\n",
       "  734.589,1486.45 734.589,1469.18 \n",
       "  \"/>\n",
       "<polyline clip-path=\"url(#clip360)\" style=\"stroke:#000000; stroke-width:4; stroke-opacity:1; fill:none\" points=\"\n",
       "  1253.43,1486.45 1253.43,1469.18 \n",
       "  \"/>\n",
       "<polyline clip-path=\"url(#clip360)\" style=\"stroke:#000000; stroke-width:4; stroke-opacity:1; fill:none\" points=\"\n",
       "  1772.27,1486.45 1772.27,1469.18 \n",
       "  \"/>\n",
       "<polyline clip-path=\"url(#clip360)\" style=\"stroke:#000000; stroke-width:4; stroke-opacity:1; fill:none\" points=\"\n",
       "  2291.12,1486.45 2291.12,1469.18 \n",
       "  \"/>\n",
       "<path clip-path=\"url(#clip360)\" d=\"M 0 0 M215.747 1515.64 Q212.136 1515.64 210.307 1519.2 Q208.501 1522.75 208.501 1529.87 Q208.501 1536.98 210.307 1540.55 Q212.136 1544.09 215.747 1544.09 Q219.381 1544.09 221.187 1540.55 Q223.015 1536.98 223.015 1529.87 Q223.015 1522.75 221.187 1519.2 Q219.381 1515.64 215.747 1515.64 M215.747 1511.93 Q221.557 1511.93 224.613 1516.54 Q227.691 1521.12 227.691 1529.87 Q227.691 1538.6 224.613 1543.21 Q221.557 1547.79 215.747 1547.79 Q209.937 1547.79 206.858 1543.21 Q203.802 1538.6 203.802 1529.87 Q203.802 1521.12 206.858 1516.54 Q209.937 1511.93 215.747 1511.93 Z\" fill=\"#000000\" fill-rule=\"evenodd\" fill-opacity=\"1\" /><path clip-path=\"url(#clip360)\" d=\"M 0 0 M716.233 1543.18 L732.552 1543.18 L732.552 1547.12 L710.608 1547.12 L710.608 1543.18 Q713.27 1540.43 717.853 1535.8 Q722.46 1531.15 723.64 1529.81 Q725.886 1527.28 726.765 1525.55 Q727.668 1523.79 727.668 1522.1 Q727.668 1519.34 725.724 1517.61 Q723.802 1515.87 720.701 1515.87 Q718.502 1515.87 716.048 1516.63 Q713.617 1517.4 710.84 1518.95 L710.84 1514.23 Q713.664 1513.09 716.117 1512.51 Q718.571 1511.93 720.608 1511.93 Q725.978 1511.93 729.173 1514.62 Q732.367 1517.31 732.367 1521.8 Q732.367 1523.93 731.557 1525.85 Q730.77 1527.74 728.664 1530.34 Q728.085 1531.01 724.983 1534.23 Q721.881 1537.42 716.233 1543.18 Z\" fill=\"#000000\" fill-rule=\"evenodd\" fill-opacity=\"1\" /><path clip-path=\"url(#clip360)\" d=\"M 0 0 M737.668 1512.56 L756.025 1512.56 L756.025 1516.5 L741.951 1516.5 L741.951 1524.97 Q742.969 1524.62 743.988 1524.46 Q745.006 1524.27 746.025 1524.27 Q751.812 1524.27 755.191 1527.44 Q758.571 1530.62 758.571 1536.03 Q758.571 1541.61 755.099 1544.71 Q751.626 1547.79 745.307 1547.79 Q743.131 1547.79 740.863 1547.42 Q738.617 1547.05 736.21 1546.31 L736.21 1541.61 Q738.293 1542.74 740.515 1543.3 Q742.738 1543.86 745.214 1543.86 Q749.219 1543.86 751.557 1541.75 Q753.895 1539.64 753.895 1536.03 Q753.895 1532.42 751.557 1530.31 Q749.219 1528.21 745.214 1528.21 Q743.339 1528.21 741.464 1528.62 Q739.613 1529.04 737.668 1529.92 L737.668 1512.56 Z\" fill=\"#000000\" fill-rule=\"evenodd\" fill-opacity=\"1\" /><path clip-path=\"url(#clip360)\" d=\"M 0 0 M1230.2 1512.56 L1248.56 1512.56 L1248.56 1516.5 L1234.49 1516.5 L1234.49 1524.97 Q1235.5 1524.62 1236.52 1524.46 Q1237.54 1524.27 1238.56 1524.27 Q1244.35 1524.27 1247.73 1527.44 Q1251.11 1530.62 1251.11 1536.03 Q1251.11 1541.61 1247.63 1544.71 Q1244.16 1547.79 1237.84 1547.79 Q1235.67 1547.79 1233.4 1547.42 Q1231.15 1547.05 1228.74 1546.31 L1228.74 1541.61 Q1230.83 1542.74 1233.05 1543.3 Q1235.27 1543.86 1237.75 1543.86 Q1241.75 1543.86 1244.09 1541.75 Q1246.43 1539.64 1246.43 1536.03 Q1246.43 1532.42 1244.09 1530.31 Q1241.75 1528.21 1237.75 1528.21 Q1235.87 1528.21 1234 1528.62 Q1232.15 1529.04 1230.2 1529.92 L1230.2 1512.56 Z\" fill=\"#000000\" fill-rule=\"evenodd\" fill-opacity=\"1\" /><path clip-path=\"url(#clip360)\" d=\"M 0 0 M1266.18 1515.64 Q1262.56 1515.64 1260.74 1519.2 Q1258.93 1522.75 1258.93 1529.87 Q1258.93 1536.98 1260.74 1540.55 Q1262.56 1544.09 1266.18 1544.09 Q1269.81 1544.09 1271.61 1540.55 Q1273.44 1536.98 1273.44 1529.87 Q1273.44 1522.75 1271.61 1519.2 Q1269.81 1515.64 1266.18 1515.64 M1266.18 1511.93 Q1271.99 1511.93 1275.04 1516.54 Q1278.12 1521.12 1278.12 1529.87 Q1278.12 1538.6 1275.04 1543.21 Q1271.99 1547.79 1266.18 1547.79 Q1260.36 1547.79 1257.29 1543.21 Q1254.23 1538.6 1254.23 1529.87 Q1254.23 1521.12 1257.29 1516.54 Q1260.36 1511.93 1266.18 1511.93 Z\" fill=\"#000000\" fill-rule=\"evenodd\" fill-opacity=\"1\" /><path clip-path=\"url(#clip360)\" d=\"M 0 0 M1748.15 1512.56 L1770.38 1512.56 L1770.38 1514.55 L1757.83 1547.12 L1752.95 1547.12 L1764.75 1516.5 L1748.15 1516.5 L1748.15 1512.56 Z\" fill=\"#000000\" fill-rule=\"evenodd\" fill-opacity=\"1\" /><path clip-path=\"url(#clip360)\" d=\"M 0 0 M1775.49 1512.56 L1793.85 1512.56 L1793.85 1516.5 L1779.77 1516.5 L1779.77 1524.97 Q1780.79 1524.62 1781.81 1524.46 Q1782.83 1524.27 1783.85 1524.27 Q1789.64 1524.27 1793.02 1527.44 Q1796.39 1530.62 1796.39 1536.03 Q1796.39 1541.61 1792.92 1544.71 Q1789.45 1547.79 1783.13 1547.79 Q1780.96 1547.79 1778.69 1547.42 Q1776.44 1547.05 1774.03 1546.31 L1774.03 1541.61 Q1776.12 1542.74 1778.34 1543.3 Q1780.56 1543.86 1783.04 1543.86 Q1787.04 1543.86 1789.38 1541.75 Q1791.72 1539.64 1791.72 1536.03 Q1791.72 1532.42 1789.38 1530.31 Q1787.04 1528.21 1783.04 1528.21 Q1781.16 1528.21 1779.29 1528.62 Q1777.44 1529.04 1775.49 1529.92 L1775.49 1512.56 Z\" fill=\"#000000\" fill-rule=\"evenodd\" fill-opacity=\"1\" /><path clip-path=\"url(#clip360)\" d=\"M 0 0 M2254.49 1543.18 L2262.12 1543.18 L2262.12 1516.82 L2253.81 1518.49 L2253.81 1514.23 L2262.08 1512.56 L2266.75 1512.56 L2266.75 1543.18 L2274.39 1543.18 L2274.39 1547.12 L2254.49 1547.12 L2254.49 1543.18 Z\" fill=\"#000000\" fill-rule=\"evenodd\" fill-opacity=\"1\" /><path clip-path=\"url(#clip360)\" d=\"M 0 0 M2289.46 1515.64 Q2285.85 1515.64 2284.02 1519.2 Q2282.22 1522.75 2282.22 1529.87 Q2282.22 1536.98 2284.02 1540.55 Q2285.85 1544.09 2289.46 1544.09 Q2293.1 1544.09 2294.9 1540.55 Q2296.73 1536.98 2296.73 1529.87 Q2296.73 1522.75 2294.9 1519.2 Q2293.1 1515.64 2289.46 1515.64 M2289.46 1511.93 Q2295.27 1511.93 2298.33 1516.54 Q2301.41 1521.12 2301.41 1529.87 Q2301.41 1538.6 2298.33 1543.21 Q2295.27 1547.79 2289.46 1547.79 Q2283.65 1547.79 2280.57 1543.21 Q2277.52 1538.6 2277.52 1529.87 Q2277.52 1521.12 2280.57 1516.54 Q2283.65 1511.93 2289.46 1511.93 Z\" fill=\"#000000\" fill-rule=\"evenodd\" fill-opacity=\"1\" /><path clip-path=\"url(#clip360)\" d=\"M 0 0 M2316.48 1515.64 Q2312.86 1515.64 2311.04 1519.2 Q2309.23 1522.75 2309.23 1529.87 Q2309.23 1536.98 2311.04 1540.55 Q2312.86 1544.09 2316.48 1544.09 Q2320.11 1544.09 2321.92 1540.55 Q2323.74 1536.98 2323.74 1529.87 Q2323.74 1522.75 2321.92 1519.2 Q2320.11 1515.64 2316.48 1515.64 M2316.48 1511.93 Q2322.29 1511.93 2325.34 1516.54 Q2328.42 1521.12 2328.42 1529.87 Q2328.42 1538.6 2325.34 1543.21 Q2322.29 1547.79 2316.48 1547.79 Q2310.67 1547.79 2307.59 1543.21 Q2304.53 1538.6 2304.53 1529.87 Q2304.53 1521.12 2307.59 1516.54 Q2310.67 1511.93 2316.48 1511.93 Z\" fill=\"#000000\" fill-rule=\"evenodd\" fill-opacity=\"1\" /><polyline clip-path=\"url(#clip362)\" style=\"stroke:#000000; stroke-width:2; stroke-opacity:0.1; fill:none\" points=\"\n",
       "  174.862,1451.52 2352.76,1451.52 \n",
       "  \"/>\n",
       "<polyline clip-path=\"url(#clip362)\" style=\"stroke:#000000; stroke-width:2; stroke-opacity:0.1; fill:none\" points=\"\n",
       "  174.862,1110.47 2352.76,1110.47 \n",
       "  \"/>\n",
       "<polyline clip-path=\"url(#clip362)\" style=\"stroke:#000000; stroke-width:2; stroke-opacity:0.1; fill:none\" points=\"\n",
       "  174.862,769.415 2352.76,769.415 \n",
       "  \"/>\n",
       "<polyline clip-path=\"url(#clip362)\" style=\"stroke:#000000; stroke-width:2; stroke-opacity:0.1; fill:none\" points=\"\n",
       "  174.862,428.36 2352.76,428.36 \n",
       "  \"/>\n",
       "<polyline clip-path=\"url(#clip362)\" style=\"stroke:#000000; stroke-width:2; stroke-opacity:0.1; fill:none\" points=\"\n",
       "  174.862,87.3049 2352.76,87.3049 \n",
       "  \"/>\n",
       "<polyline clip-path=\"url(#clip360)\" style=\"stroke:#000000; stroke-width:4; stroke-opacity:1; fill:none\" points=\"\n",
       "  174.862,1486.45 174.862,47.2441 \n",
       "  \"/>\n",
       "<polyline clip-path=\"url(#clip360)\" style=\"stroke:#000000; stroke-width:4; stroke-opacity:1; fill:none\" points=\"\n",
       "  174.862,1451.52 200.997,1451.52 \n",
       "  \"/>\n",
       "<polyline clip-path=\"url(#clip360)\" style=\"stroke:#000000; stroke-width:4; stroke-opacity:1; fill:none\" points=\"\n",
       "  174.862,1110.47 200.997,1110.47 \n",
       "  \"/>\n",
       "<polyline clip-path=\"url(#clip360)\" style=\"stroke:#000000; stroke-width:4; stroke-opacity:1; fill:none\" points=\"\n",
       "  174.862,769.415 200.997,769.415 \n",
       "  \"/>\n",
       "<polyline clip-path=\"url(#clip360)\" style=\"stroke:#000000; stroke-width:4; stroke-opacity:1; fill:none\" points=\"\n",
       "  174.862,428.36 200.997,428.36 \n",
       "  \"/>\n",
       "<polyline clip-path=\"url(#clip360)\" style=\"stroke:#000000; stroke-width:4; stroke-opacity:1; fill:none\" points=\"\n",
       "  174.862,87.3049 200.997,87.3049 \n",
       "  \"/>\n",
       "<path clip-path=\"url(#clip360)\" d=\"M 0 0 M62.9365 1437.32 Q59.3254 1437.32 57.4967 1440.89 Q55.6912 1444.43 55.6912 1451.56 Q55.6912 1458.67 57.4967 1462.23 Q59.3254 1465.77 62.9365 1465.77 Q66.5707 1465.77 68.3763 1462.23 Q70.205 1458.67 70.205 1451.56 Q70.205 1444.43 68.3763 1440.89 Q66.5707 1437.32 62.9365 1437.32 M62.9365 1433.62 Q68.7467 1433.62 71.8022 1438.23 Q74.8809 1442.81 74.8809 1451.56 Q74.8809 1460.29 71.8022 1464.89 Q68.7467 1469.48 62.9365 1469.48 Q57.1264 1469.48 54.0477 1464.89 Q50.9921 1460.29 50.9921 1451.56 Q50.9921 1442.81 54.0477 1438.23 Q57.1264 1433.62 62.9365 1433.62 Z\" fill=\"#000000\" fill-rule=\"evenodd\" fill-opacity=\"1\" /><path clip-path=\"url(#clip360)\" d=\"M 0 0 M79.9503 1462.92 L84.8345 1462.92 L84.8345 1468.8 L79.9503 1468.8 L79.9503 1462.92 Z\" fill=\"#000000\" fill-rule=\"evenodd\" fill-opacity=\"1\" /><path clip-path=\"url(#clip360)\" d=\"M 0 0 M99.9039 1437.32 Q96.2928 1437.32 94.4641 1440.89 Q92.6586 1444.43 92.6586 1451.56 Q92.6586 1458.67 94.4641 1462.23 Q96.2928 1465.77 99.9039 1465.77 Q103.538 1465.77 105.344 1462.23 Q107.172 1458.67 107.172 1451.56 Q107.172 1444.43 105.344 1440.89 Q103.538 1437.32 99.9039 1437.32 M99.9039 1433.62 Q105.714 1433.62 108.77 1438.23 Q111.848 1442.81 111.848 1451.56 Q111.848 1460.29 108.77 1464.89 Q105.714 1469.48 99.9039 1469.48 Q94.0937 1469.48 91.0151 1464.89 Q87.9595 1460.29 87.9595 1451.56 Q87.9595 1442.81 91.0151 1438.23 Q94.0937 1433.62 99.9039 1433.62 Z\" fill=\"#000000\" fill-rule=\"evenodd\" fill-opacity=\"1\" /><path clip-path=\"url(#clip360)\" d=\"M 0 0 M126.918 1437.32 Q123.307 1437.32 121.478 1440.89 Q119.672 1444.43 119.672 1451.56 Q119.672 1458.67 121.478 1462.23 Q123.307 1465.77 126.918 1465.77 Q130.552 1465.77 132.357 1462.23 Q134.186 1458.67 134.186 1451.56 Q134.186 1444.43 132.357 1440.89 Q130.552 1437.32 126.918 1437.32 M126.918 1433.62 Q132.728 1433.62 135.783 1438.23 Q138.862 1442.81 138.862 1451.56 Q138.862 1460.29 135.783 1464.89 Q132.728 1469.48 126.918 1469.48 Q121.107 1469.48 118.029 1464.89 Q114.973 1460.29 114.973 1451.56 Q114.973 1442.81 118.029 1438.23 Q121.107 1433.62 126.918 1433.62 Z\" fill=\"#000000\" fill-rule=\"evenodd\" fill-opacity=\"1\" /><path clip-path=\"url(#clip360)\" d=\"M 0 0 M65.5291 1096.27 Q61.918 1096.27 60.0893 1099.83 Q58.2838 1103.37 58.2838 1110.5 Q58.2838 1117.61 60.0893 1121.18 Q61.918 1124.72 65.5291 1124.72 Q69.1633 1124.72 70.9689 1121.18 Q72.7976 1117.61 72.7976 1110.5 Q72.7976 1103.37 70.9689 1099.83 Q69.1633 1096.27 65.5291 1096.27 M65.5291 1092.56 Q71.3392 1092.56 74.3948 1097.17 Q77.4735 1101.75 77.4735 1110.5 Q77.4735 1119.23 74.3948 1123.84 Q71.3392 1128.42 65.5291 1128.42 Q59.7189 1128.42 56.6402 1123.84 Q53.5847 1119.23 53.5847 1110.5 Q53.5847 1101.75 56.6402 1097.17 Q59.7189 1092.56 65.5291 1092.56 Z\" fill=\"#000000\" fill-rule=\"evenodd\" fill-opacity=\"1\" /><path clip-path=\"url(#clip360)\" d=\"M 0 0 M82.5429 1121.87 L87.4271 1121.87 L87.4271 1127.75 L82.5429 1127.75 L82.5429 1121.87 Z\" fill=\"#000000\" fill-rule=\"evenodd\" fill-opacity=\"1\" /><path clip-path=\"url(#clip360)\" d=\"M 0 0 M96.5243 1123.81 L112.844 1123.81 L112.844 1127.75 L90.8993 1127.75 L90.8993 1123.81 Q93.5613 1121.06 98.1447 1116.43 Q102.751 1111.78 103.932 1110.43 Q106.177 1107.91 107.057 1106.18 Q107.959 1104.42 107.959 1102.73 Q107.959 1099.97 106.015 1098.24 Q104.094 1096.5 100.992 1096.5 Q98.7928 1096.5 96.3391 1097.26 Q93.9086 1098.03 91.1308 1099.58 L91.1308 1094.86 Q93.9549 1093.72 96.4085 1093.14 Q98.8622 1092.56 100.899 1092.56 Q106.27 1092.56 109.464 1095.25 Q112.658 1097.93 112.658 1102.43 Q112.658 1104.56 111.848 1106.48 Q111.061 1108.37 108.955 1110.97 Q108.376 1111.64 105.274 1114.86 Q102.172 1118.05 96.5243 1123.81 Z\" fill=\"#000000\" fill-rule=\"evenodd\" fill-opacity=\"1\" /><path clip-path=\"url(#clip360)\" d=\"M 0 0 M117.959 1093.19 L136.316 1093.19 L136.316 1097.12 L122.242 1097.12 L122.242 1105.6 Q123.26 1105.25 124.279 1105.09 Q125.297 1104.9 126.316 1104.9 Q132.103 1104.9 135.482 1108.07 Q138.862 1111.25 138.862 1116.66 Q138.862 1122.24 135.39 1125.34 Q131.918 1128.42 125.598 1128.42 Q123.422 1128.42 121.154 1128.05 Q118.908 1127.68 116.501 1126.94 L116.501 1122.24 Q118.584 1123.37 120.807 1123.93 Q123.029 1124.49 125.506 1124.49 Q129.51 1124.49 131.848 1122.38 Q134.186 1120.27 134.186 1116.66 Q134.186 1113.05 131.848 1110.94 Q129.51 1108.84 125.506 1108.84 Q123.631 1108.84 121.756 1109.25 Q119.904 1109.67 117.959 1110.55 L117.959 1093.19 Z\" fill=\"#000000\" fill-rule=\"evenodd\" fill-opacity=\"1\" /><path clip-path=\"url(#clip360)\" d=\"M 0 0 M63.9319 755.213 Q60.3208 755.213 58.4921 758.778 Q56.6865 762.32 56.6865 769.449 Q56.6865 776.556 58.4921 780.121 Q60.3208 783.662 63.9319 783.662 Q67.5661 783.662 69.3717 780.121 Q71.2004 776.556 71.2004 769.449 Q71.2004 762.32 69.3717 758.778 Q67.5661 755.213 63.9319 755.213 M63.9319 751.51 Q69.742 751.51 72.7976 756.116 Q75.8763 760.699 75.8763 769.449 Q75.8763 778.176 72.7976 782.783 Q69.742 787.366 63.9319 787.366 Q58.1217 787.366 55.043 782.783 Q51.9875 778.176 51.9875 769.449 Q51.9875 760.699 55.043 756.116 Q58.1217 751.51 63.9319 751.51 Z\" fill=\"#000000\" fill-rule=\"evenodd\" fill-opacity=\"1\" /><path clip-path=\"url(#clip360)\" d=\"M 0 0 M80.9457 780.815 L85.8299 780.815 L85.8299 786.695 L80.9457 786.695 L80.9457 780.815 Z\" fill=\"#000000\" fill-rule=\"evenodd\" fill-opacity=\"1\" /><path clip-path=\"url(#clip360)\" d=\"M 0 0 M90.9456 752.135 L109.302 752.135 L109.302 756.07 L95.228 756.07 L95.228 764.542 Q96.2465 764.195 97.265 764.033 Q98.2835 763.848 99.3021 763.848 Q105.089 763.848 108.469 767.019 Q111.848 770.19 111.848 775.607 Q111.848 781.185 108.376 784.287 Q104.904 787.366 98.5845 787.366 Q96.4085 787.366 94.14 786.996 Q91.8947 786.625 89.4873 785.885 L89.4873 781.185 Q91.5706 782.32 93.7928 782.875 Q96.015 783.431 98.4919 783.431 Q102.496 783.431 104.834 781.324 Q107.172 779.218 107.172 775.607 Q107.172 771.996 104.834 769.889 Q102.496 767.783 98.4919 767.783 Q96.6169 767.783 94.7419 768.199 Q92.89 768.616 90.9456 769.496 L90.9456 752.135 Z\" fill=\"#000000\" fill-rule=\"evenodd\" fill-opacity=\"1\" /><path clip-path=\"url(#clip360)\" d=\"M 0 0 M126.918 755.213 Q123.307 755.213 121.478 758.778 Q119.672 762.32 119.672 769.449 Q119.672 776.556 121.478 780.121 Q123.307 783.662 126.918 783.662 Q130.552 783.662 132.357 780.121 Q134.186 776.556 134.186 769.449 Q134.186 762.32 132.357 758.778 Q130.552 755.213 126.918 755.213 M126.918 751.51 Q132.728 751.51 135.783 756.116 Q138.862 760.699 138.862 769.449 Q138.862 778.176 135.783 782.783 Q132.728 787.366 126.918 787.366 Q121.107 787.366 118.029 782.783 Q114.973 778.176 114.973 769.449 Q114.973 760.699 118.029 756.116 Q121.107 751.51 126.918 751.51 Z\" fill=\"#000000\" fill-rule=\"evenodd\" fill-opacity=\"1\" /><path clip-path=\"url(#clip360)\" d=\"M 0 0 M64.8346 414.158 Q61.2236 414.158 59.3949 417.723 Q57.5893 421.265 57.5893 428.395 Q57.5893 435.501 59.3949 439.066 Q61.2236 442.607 64.8346 442.607 Q68.4689 442.607 70.2744 439.066 Q72.1031 435.501 72.1031 428.395 Q72.1031 421.265 70.2744 417.723 Q68.4689 414.158 64.8346 414.158 M64.8346 410.455 Q70.6448 410.455 73.7003 415.061 Q76.779 419.645 76.779 428.395 Q76.779 437.121 73.7003 441.728 Q70.6448 446.311 64.8346 446.311 Q59.0245 446.311 55.9458 441.728 Q52.8903 437.121 52.8903 428.395 Q52.8903 419.645 55.9458 415.061 Q59.0245 410.455 64.8346 410.455 Z\" fill=\"#000000\" fill-rule=\"evenodd\" fill-opacity=\"1\" /><path clip-path=\"url(#clip360)\" d=\"M 0 0 M81.8484 439.76 L86.7327 439.76 L86.7327 445.64 L81.8484 445.64 L81.8484 439.76 Z\" fill=\"#000000\" fill-rule=\"evenodd\" fill-opacity=\"1\" /><path clip-path=\"url(#clip360)\" d=\"M 0 0 M90.6215 411.08 L112.844 411.08 L112.844 413.071 L100.297 445.64 L95.4132 445.64 L107.219 415.015 L90.6215 415.015 L90.6215 411.08 Z\" fill=\"#000000\" fill-rule=\"evenodd\" fill-opacity=\"1\" /><path clip-path=\"url(#clip360)\" d=\"M 0 0 M117.959 411.08 L136.316 411.08 L136.316 415.015 L122.242 415.015 L122.242 423.487 Q123.26 423.14 124.279 422.978 Q125.297 422.793 126.316 422.793 Q132.103 422.793 135.482 425.964 Q138.862 429.135 138.862 434.552 Q138.862 440.131 135.39 443.232 Q131.918 446.311 125.598 446.311 Q123.422 446.311 121.154 445.941 Q118.908 445.57 116.501 444.83 L116.501 440.131 Q118.584 441.265 120.807 441.82 Q123.029 442.376 125.506 442.376 Q129.51 442.376 131.848 440.269 Q134.186 438.163 134.186 434.552 Q134.186 430.941 131.848 428.834 Q129.51 426.728 125.506 426.728 Q123.631 426.728 121.756 427.145 Q119.904 427.561 117.959 428.441 L117.959 411.08 Z\" fill=\"#000000\" fill-rule=\"evenodd\" fill-opacity=\"1\" /><path clip-path=\"url(#clip360)\" d=\"M 0 0 M54.9736 100.65 L62.6124 100.65 L62.6124 74.2842 L54.3023 75.9508 L54.3023 71.6916 L62.5661 70.0249 L67.242 70.0249 L67.242 100.65 L74.8809 100.65 L74.8809 104.585 L54.9736 104.585 L54.9736 100.65 Z\" fill=\"#000000\" fill-rule=\"evenodd\" fill-opacity=\"1\" /><path clip-path=\"url(#clip360)\" d=\"M 0 0 M79.9503 98.7053 L84.8345 98.7053 L84.8345 104.585 L79.9503 104.585 L79.9503 98.7053 Z\" fill=\"#000000\" fill-rule=\"evenodd\" fill-opacity=\"1\" /><path clip-path=\"url(#clip360)\" d=\"M 0 0 M99.9039 73.1036 Q96.2928 73.1036 94.4641 76.6684 Q92.6586 80.21 92.6586 87.3396 Q92.6586 94.4461 94.4641 98.0109 Q96.2928 101.553 99.9039 101.553 Q103.538 101.553 105.344 98.0109 Q107.172 94.4461 107.172 87.3396 Q107.172 80.21 105.344 76.6684 Q103.538 73.1036 99.9039 73.1036 M99.9039 69.3999 Q105.714 69.3999 108.77 74.0064 Q111.848 78.5897 111.848 87.3396 Q111.848 96.0664 108.77 100.673 Q105.714 105.256 99.9039 105.256 Q94.0937 105.256 91.0151 100.673 Q87.9595 96.0664 87.9595 87.3396 Q87.9595 78.5897 91.0151 74.0064 Q94.0937 69.3999 99.9039 69.3999 Z\" fill=\"#000000\" fill-rule=\"evenodd\" fill-opacity=\"1\" /><path clip-path=\"url(#clip360)\" d=\"M 0 0 M126.918 73.1036 Q123.307 73.1036 121.478 76.6684 Q119.672 80.21 119.672 87.3396 Q119.672 94.4461 121.478 98.0109 Q123.307 101.553 126.918 101.553 Q130.552 101.553 132.357 98.0109 Q134.186 94.4461 134.186 87.3396 Q134.186 80.21 132.357 76.6684 Q130.552 73.1036 126.918 73.1036 M126.918 69.3999 Q132.728 69.3999 135.783 74.0064 Q138.862 78.5897 138.862 87.3396 Q138.862 96.0664 135.783 100.673 Q132.728 105.256 126.918 105.256 Q121.107 105.256 118.029 100.673 Q114.973 96.0664 114.973 87.3396 Q114.973 78.5897 118.029 74.0064 Q121.107 69.3999 126.918 69.3999 Z\" fill=\"#000000\" fill-rule=\"evenodd\" fill-opacity=\"1\" /><circle clip-path=\"url(#clip362)\" cx=\"236.501\" cy=\"344.19\" r=\"14\" fill=\"#009af9\" fill-rule=\"evenodd\" fill-opacity=\"1\" stroke=\"#000000\" stroke-opacity=\"1\" stroke-width=\"3.2\"/>\n",
       "<circle clip-path=\"url(#clip362)\" cx=\"257.254\" cy=\"103.086\" r=\"14\" fill=\"#009af9\" fill-rule=\"evenodd\" fill-opacity=\"1\" stroke=\"#000000\" stroke-opacity=\"1\" stroke-width=\"3.2\"/>\n",
       "<circle clip-path=\"url(#clip362)\" cx=\"278.008\" cy=\"349.751\" r=\"14\" fill=\"#009af9\" fill-rule=\"evenodd\" fill-opacity=\"1\" stroke=\"#000000\" stroke-opacity=\"1\" stroke-width=\"3.2\"/>\n",
       "<circle clip-path=\"url(#clip362)\" cx=\"298.762\" cy=\"128.108\" r=\"14\" fill=\"#009af9\" fill-rule=\"evenodd\" fill-opacity=\"1\" stroke=\"#000000\" stroke-opacity=\"1\" stroke-width=\"3.2\"/>\n",
       "<circle clip-path=\"url(#clip362)\" cx=\"319.515\" cy=\"1260.45\" r=\"14\" fill=\"#009af9\" fill-rule=\"evenodd\" fill-opacity=\"1\" stroke=\"#000000\" stroke-opacity=\"1\" stroke-width=\"3.2\"/>\n",
       "<circle clip-path=\"url(#clip362)\" cx=\"340.269\" cy=\"756.531\" r=\"14\" fill=\"#009af9\" fill-rule=\"evenodd\" fill-opacity=\"1\" stroke=\"#000000\" stroke-opacity=\"1\" stroke-width=\"3.2\"/>\n",
       "<circle clip-path=\"url(#clip362)\" cx=\"361.023\" cy=\"1371.45\" r=\"14\" fill=\"#009af9\" fill-rule=\"evenodd\" fill-opacity=\"1\" stroke=\"#000000\" stroke-opacity=\"1\" stroke-width=\"3.2\"/>\n",
       "<circle clip-path=\"url(#clip362)\" cx=\"381.776\" cy=\"1445.72\" r=\"14\" fill=\"#009af9\" fill-rule=\"evenodd\" fill-opacity=\"1\" stroke=\"#000000\" stroke-opacity=\"1\" stroke-width=\"3.2\"/>\n",
       "<circle clip-path=\"url(#clip362)\" cx=\"402.53\" cy=\"121.904\" r=\"14\" fill=\"#009af9\" fill-rule=\"evenodd\" fill-opacity=\"1\" stroke=\"#000000\" stroke-opacity=\"1\" stroke-width=\"3.2\"/>\n",
       "<circle clip-path=\"url(#clip362)\" cx=\"423.284\" cy=\"691.347\" r=\"14\" fill=\"#009af9\" fill-rule=\"evenodd\" fill-opacity=\"1\" stroke=\"#000000\" stroke-opacity=\"1\" stroke-width=\"3.2\"/>\n",
       "<circle clip-path=\"url(#clip362)\" cx=\"444.038\" cy=\"817.951\" r=\"14\" fill=\"#009af9\" fill-rule=\"evenodd\" fill-opacity=\"1\" stroke=\"#000000\" stroke-opacity=\"1\" stroke-width=\"3.2\"/>\n",
       "<circle clip-path=\"url(#clip362)\" cx=\"464.791\" cy=\"1059.3\" r=\"14\" fill=\"#009af9\" fill-rule=\"evenodd\" fill-opacity=\"1\" stroke=\"#000000\" stroke-opacity=\"1\" stroke-width=\"3.2\"/>\n",
       "<circle clip-path=\"url(#clip362)\" cx=\"485.545\" cy=\"1046.8\" r=\"14\" fill=\"#009af9\" fill-rule=\"evenodd\" fill-opacity=\"1\" stroke=\"#000000\" stroke-opacity=\"1\" stroke-width=\"3.2\"/>\n",
       "<circle clip-path=\"url(#clip362)\" cx=\"506.299\" cy=\"1350.49\" r=\"14\" fill=\"#009af9\" fill-rule=\"evenodd\" fill-opacity=\"1\" stroke=\"#000000\" stroke-opacity=\"1\" stroke-width=\"3.2\"/>\n",
       "<circle clip-path=\"url(#clip362)\" cx=\"527.052\" cy=\"177.585\" r=\"14\" fill=\"#009af9\" fill-rule=\"evenodd\" fill-opacity=\"1\" stroke=\"#000000\" stroke-opacity=\"1\" stroke-width=\"3.2\"/>\n",
       "<circle clip-path=\"url(#clip362)\" cx=\"547.806\" cy=\"211.961\" r=\"14\" fill=\"#009af9\" fill-rule=\"evenodd\" fill-opacity=\"1\" stroke=\"#000000\" stroke-opacity=\"1\" stroke-width=\"3.2\"/>\n",
       "<circle clip-path=\"url(#clip362)\" cx=\"568.56\" cy=\"787.125\" r=\"14\" fill=\"#009af9\" fill-rule=\"evenodd\" fill-opacity=\"1\" stroke=\"#000000\" stroke-opacity=\"1\" stroke-width=\"3.2\"/>\n",
       "<circle clip-path=\"url(#clip362)\" cx=\"589.314\" cy=\"89.5742\" r=\"14\" fill=\"#009af9\" fill-rule=\"evenodd\" fill-opacity=\"1\" stroke=\"#000000\" stroke-opacity=\"1\" stroke-width=\"3.2\"/>\n",
       "<circle clip-path=\"url(#clip362)\" cx=\"610.067\" cy=\"389.236\" r=\"14\" fill=\"#009af9\" fill-rule=\"evenodd\" fill-opacity=\"1\" stroke=\"#000000\" stroke-opacity=\"1\" stroke-width=\"3.2\"/>\n",
       "<circle clip-path=\"url(#clip362)\" cx=\"630.821\" cy=\"887.234\" r=\"14\" fill=\"#009af9\" fill-rule=\"evenodd\" fill-opacity=\"1\" stroke=\"#000000\" stroke-opacity=\"1\" stroke-width=\"3.2\"/>\n",
       "<circle clip-path=\"url(#clip362)\" cx=\"651.575\" cy=\"832.299\" r=\"14\" fill=\"#009af9\" fill-rule=\"evenodd\" fill-opacity=\"1\" stroke=\"#000000\" stroke-opacity=\"1\" stroke-width=\"3.2\"/>\n",
       "<circle clip-path=\"url(#clip362)\" cx=\"672.328\" cy=\"970.016\" r=\"14\" fill=\"#009af9\" fill-rule=\"evenodd\" fill-opacity=\"1\" stroke=\"#000000\" stroke-opacity=\"1\" stroke-width=\"3.2\"/>\n",
       "<circle clip-path=\"url(#clip362)\" cx=\"693.082\" cy=\"918.56\" r=\"14\" fill=\"#009af9\" fill-rule=\"evenodd\" fill-opacity=\"1\" stroke=\"#000000\" stroke-opacity=\"1\" stroke-width=\"3.2\"/>\n",
       "<circle clip-path=\"url(#clip362)\" cx=\"713.836\" cy=\"693.547\" r=\"14\" fill=\"#009af9\" fill-rule=\"evenodd\" fill-opacity=\"1\" stroke=\"#000000\" stroke-opacity=\"1\" stroke-width=\"3.2\"/>\n",
       "<circle clip-path=\"url(#clip362)\" cx=\"734.589\" cy=\"87.9763\" r=\"14\" fill=\"#009af9\" fill-rule=\"evenodd\" fill-opacity=\"1\" stroke=\"#000000\" stroke-opacity=\"1\" stroke-width=\"3.2\"/>\n",
       "<circle clip-path=\"url(#clip362)\" cx=\"755.343\" cy=\"586.398\" r=\"14\" fill=\"#009af9\" fill-rule=\"evenodd\" fill-opacity=\"1\" stroke=\"#000000\" stroke-opacity=\"1\" stroke-width=\"3.2\"/>\n",
       "<circle clip-path=\"url(#clip362)\" cx=\"776.097\" cy=\"489.835\" r=\"14\" fill=\"#009af9\" fill-rule=\"evenodd\" fill-opacity=\"1\" stroke=\"#000000\" stroke-opacity=\"1\" stroke-width=\"3.2\"/>\n",
       "<circle clip-path=\"url(#clip362)\" cx=\"796.851\" cy=\"998.116\" r=\"14\" fill=\"#009af9\" fill-rule=\"evenodd\" fill-opacity=\"1\" stroke=\"#000000\" stroke-opacity=\"1\" stroke-width=\"3.2\"/>\n",
       "<circle clip-path=\"url(#clip362)\" cx=\"817.604\" cy=\"1168.11\" r=\"14\" fill=\"#009af9\" fill-rule=\"evenodd\" fill-opacity=\"1\" stroke=\"#000000\" stroke-opacity=\"1\" stroke-width=\"3.2\"/>\n",
       "<circle clip-path=\"url(#clip362)\" cx=\"838.358\" cy=\"745.854\" r=\"14\" fill=\"#009af9\" fill-rule=\"evenodd\" fill-opacity=\"1\" stroke=\"#000000\" stroke-opacity=\"1\" stroke-width=\"3.2\"/>\n",
       "<circle clip-path=\"url(#clip362)\" cx=\"859.112\" cy=\"947.866\" r=\"14\" fill=\"#009af9\" fill-rule=\"evenodd\" fill-opacity=\"1\" stroke=\"#000000\" stroke-opacity=\"1\" stroke-width=\"3.2\"/>\n",
       "<circle clip-path=\"url(#clip362)\" cx=\"879.865\" cy=\"331.482\" r=\"14\" fill=\"#009af9\" fill-rule=\"evenodd\" fill-opacity=\"1\" stroke=\"#000000\" stroke-opacity=\"1\" stroke-width=\"3.2\"/>\n",
       "<circle clip-path=\"url(#clip362)\" cx=\"900.619\" cy=\"1148.66\" r=\"14\" fill=\"#009af9\" fill-rule=\"evenodd\" fill-opacity=\"1\" stroke=\"#000000\" stroke-opacity=\"1\" stroke-width=\"3.2\"/>\n",
       "<circle clip-path=\"url(#clip362)\" cx=\"921.373\" cy=\"561.63\" r=\"14\" fill=\"#009af9\" fill-rule=\"evenodd\" fill-opacity=\"1\" stroke=\"#000000\" stroke-opacity=\"1\" stroke-width=\"3.2\"/>\n",
       "<circle clip-path=\"url(#clip362)\" cx=\"942.127\" cy=\"312.809\" r=\"14\" fill=\"#009af9\" fill-rule=\"evenodd\" fill-opacity=\"1\" stroke=\"#000000\" stroke-opacity=\"1\" stroke-width=\"3.2\"/>\n",
       "<circle clip-path=\"url(#clip362)\" cx=\"962.88\" cy=\"628.97\" r=\"14\" fill=\"#009af9\" fill-rule=\"evenodd\" fill-opacity=\"1\" stroke=\"#000000\" stroke-opacity=\"1\" stroke-width=\"3.2\"/>\n",
       "<circle clip-path=\"url(#clip362)\" cx=\"983.634\" cy=\"327.806\" r=\"14\" fill=\"#009af9\" fill-rule=\"evenodd\" fill-opacity=\"1\" stroke=\"#000000\" stroke-opacity=\"1\" stroke-width=\"3.2\"/>\n",
       "<circle clip-path=\"url(#clip362)\" cx=\"1004.39\" cy=\"1349.1\" r=\"14\" fill=\"#009af9\" fill-rule=\"evenodd\" fill-opacity=\"1\" stroke=\"#000000\" stroke-opacity=\"1\" stroke-width=\"3.2\"/>\n",
       "<circle clip-path=\"url(#clip362)\" cx=\"1025.14\" cy=\"567.446\" r=\"14\" fill=\"#009af9\" fill-rule=\"evenodd\" fill-opacity=\"1\" stroke=\"#000000\" stroke-opacity=\"1\" stroke-width=\"3.2\"/>\n",
       "<circle clip-path=\"url(#clip362)\" cx=\"1045.9\" cy=\"1257.8\" r=\"14\" fill=\"#009af9\" fill-rule=\"evenodd\" fill-opacity=\"1\" stroke=\"#000000\" stroke-opacity=\"1\" stroke-width=\"3.2\"/>\n",
       "<circle clip-path=\"url(#clip362)\" cx=\"1066.65\" cy=\"736.864\" r=\"14\" fill=\"#009af9\" fill-rule=\"evenodd\" fill-opacity=\"1\" stroke=\"#000000\" stroke-opacity=\"1\" stroke-width=\"3.2\"/>\n",
       "<circle clip-path=\"url(#clip362)\" cx=\"1087.4\" cy=\"613.843\" r=\"14\" fill=\"#009af9\" fill-rule=\"evenodd\" fill-opacity=\"1\" stroke=\"#000000\" stroke-opacity=\"1\" stroke-width=\"3.2\"/>\n",
       "<circle clip-path=\"url(#clip362)\" cx=\"1108.16\" cy=\"816.104\" r=\"14\" fill=\"#009af9\" fill-rule=\"evenodd\" fill-opacity=\"1\" stroke=\"#000000\" stroke-opacity=\"1\" stroke-width=\"3.2\"/>\n",
       "<circle clip-path=\"url(#clip362)\" cx=\"1128.91\" cy=\"279.471\" r=\"14\" fill=\"#009af9\" fill-rule=\"evenodd\" fill-opacity=\"1\" stroke=\"#000000\" stroke-opacity=\"1\" stroke-width=\"3.2\"/>\n",
       "<circle clip-path=\"url(#clip362)\" cx=\"1149.66\" cy=\"534.187\" r=\"14\" fill=\"#009af9\" fill-rule=\"evenodd\" fill-opacity=\"1\" stroke=\"#000000\" stroke-opacity=\"1\" stroke-width=\"3.2\"/>\n",
       "<circle clip-path=\"url(#clip362)\" cx=\"1170.42\" cy=\"254.212\" r=\"14\" fill=\"#009af9\" fill-rule=\"evenodd\" fill-opacity=\"1\" stroke=\"#000000\" stroke-opacity=\"1\" stroke-width=\"3.2\"/>\n",
       "<circle clip-path=\"url(#clip362)\" cx=\"1191.17\" cy=\"1211.21\" r=\"14\" fill=\"#009af9\" fill-rule=\"evenodd\" fill-opacity=\"1\" stroke=\"#000000\" stroke-opacity=\"1\" stroke-width=\"3.2\"/>\n",
       "<circle clip-path=\"url(#clip362)\" cx=\"1211.92\" cy=\"1158.35\" r=\"14\" fill=\"#009af9\" fill-rule=\"evenodd\" fill-opacity=\"1\" stroke=\"#000000\" stroke-opacity=\"1\" stroke-width=\"3.2\"/>\n",
       "<circle clip-path=\"url(#clip362)\" cx=\"1232.68\" cy=\"340.686\" r=\"14\" fill=\"#009af9\" fill-rule=\"evenodd\" fill-opacity=\"1\" stroke=\"#000000\" stroke-opacity=\"1\" stroke-width=\"3.2\"/>\n",
       "<circle clip-path=\"url(#clip362)\" cx=\"1253.43\" cy=\"815.955\" r=\"14\" fill=\"#009af9\" fill-rule=\"evenodd\" fill-opacity=\"1\" stroke=\"#000000\" stroke-opacity=\"1\" stroke-width=\"3.2\"/>\n",
       "<circle clip-path=\"url(#clip362)\" cx=\"1274.19\" cy=\"860.966\" r=\"14\" fill=\"#009af9\" fill-rule=\"evenodd\" fill-opacity=\"1\" stroke=\"#000000\" stroke-opacity=\"1\" stroke-width=\"3.2\"/>\n",
       "<circle clip-path=\"url(#clip362)\" cx=\"1294.94\" cy=\"287.242\" r=\"14\" fill=\"#009af9\" fill-rule=\"evenodd\" fill-opacity=\"1\" stroke=\"#000000\" stroke-opacity=\"1\" stroke-width=\"3.2\"/>\n",
       "<circle clip-path=\"url(#clip362)\" cx=\"1315.69\" cy=\"529.808\" r=\"14\" fill=\"#009af9\" fill-rule=\"evenodd\" fill-opacity=\"1\" stroke=\"#000000\" stroke-opacity=\"1\" stroke-width=\"3.2\"/>\n",
       "<circle clip-path=\"url(#clip362)\" cx=\"1336.45\" cy=\"1270.72\" r=\"14\" fill=\"#009af9\" fill-rule=\"evenodd\" fill-opacity=\"1\" stroke=\"#000000\" stroke-opacity=\"1\" stroke-width=\"3.2\"/>\n",
       "<circle clip-path=\"url(#clip362)\" cx=\"1357.2\" cy=\"669.886\" r=\"14\" fill=\"#009af9\" fill-rule=\"evenodd\" fill-opacity=\"1\" stroke=\"#000000\" stroke-opacity=\"1\" stroke-width=\"3.2\"/>\n",
       "<circle clip-path=\"url(#clip362)\" cx=\"1377.95\" cy=\"1040.33\" r=\"14\" fill=\"#009af9\" fill-rule=\"evenodd\" fill-opacity=\"1\" stroke=\"#000000\" stroke-opacity=\"1\" stroke-width=\"3.2\"/>\n",
       "<circle clip-path=\"url(#clip362)\" cx=\"1398.71\" cy=\"1255.41\" r=\"14\" fill=\"#009af9\" fill-rule=\"evenodd\" fill-opacity=\"1\" stroke=\"#000000\" stroke-opacity=\"1\" stroke-width=\"3.2\"/>\n",
       "<circle clip-path=\"url(#clip362)\" cx=\"1419.46\" cy=\"484.49\" r=\"14\" fill=\"#009af9\" fill-rule=\"evenodd\" fill-opacity=\"1\" stroke=\"#000000\" stroke-opacity=\"1\" stroke-width=\"3.2\"/>\n",
       "<circle clip-path=\"url(#clip362)\" cx=\"1440.22\" cy=\"291.241\" r=\"14\" fill=\"#009af9\" fill-rule=\"evenodd\" fill-opacity=\"1\" stroke=\"#000000\" stroke-opacity=\"1\" stroke-width=\"3.2\"/>\n",
       "<circle clip-path=\"url(#clip362)\" cx=\"1460.97\" cy=\"270.442\" r=\"14\" fill=\"#009af9\" fill-rule=\"evenodd\" fill-opacity=\"1\" stroke=\"#000000\" stroke-opacity=\"1\" stroke-width=\"3.2\"/>\n",
       "<circle clip-path=\"url(#clip362)\" cx=\"1481.72\" cy=\"1119.51\" r=\"14\" fill=\"#009af9\" fill-rule=\"evenodd\" fill-opacity=\"1\" stroke=\"#000000\" stroke-opacity=\"1\" stroke-width=\"3.2\"/>\n",
       "<circle clip-path=\"url(#clip362)\" cx=\"1502.48\" cy=\"1083.97\" r=\"14\" fill=\"#009af9\" fill-rule=\"evenodd\" fill-opacity=\"1\" stroke=\"#000000\" stroke-opacity=\"1\" stroke-width=\"3.2\"/>\n",
       "<circle clip-path=\"url(#clip362)\" cx=\"1523.23\" cy=\"1001.67\" r=\"14\" fill=\"#009af9\" fill-rule=\"evenodd\" fill-opacity=\"1\" stroke=\"#000000\" stroke-opacity=\"1\" stroke-width=\"3.2\"/>\n",
       "<circle clip-path=\"url(#clip362)\" cx=\"1543.98\" cy=\"444.326\" r=\"14\" fill=\"#009af9\" fill-rule=\"evenodd\" fill-opacity=\"1\" stroke=\"#000000\" stroke-opacity=\"1\" stroke-width=\"3.2\"/>\n",
       "<circle clip-path=\"url(#clip362)\" cx=\"1564.74\" cy=\"1103.43\" r=\"14\" fill=\"#009af9\" fill-rule=\"evenodd\" fill-opacity=\"1\" stroke=\"#000000\" stroke-opacity=\"1\" stroke-width=\"3.2\"/>\n",
       "<circle clip-path=\"url(#clip362)\" cx=\"1585.49\" cy=\"139.783\" r=\"14\" fill=\"#009af9\" fill-rule=\"evenodd\" fill-opacity=\"1\" stroke=\"#000000\" stroke-opacity=\"1\" stroke-width=\"3.2\"/>\n",
       "<circle clip-path=\"url(#clip362)\" cx=\"1606.25\" cy=\"1191.25\" r=\"14\" fill=\"#009af9\" fill-rule=\"evenodd\" fill-opacity=\"1\" stroke=\"#000000\" stroke-opacity=\"1\" stroke-width=\"3.2\"/>\n",
       "<circle clip-path=\"url(#clip362)\" cx=\"1627\" cy=\"376.012\" r=\"14\" fill=\"#009af9\" fill-rule=\"evenodd\" fill-opacity=\"1\" stroke=\"#000000\" stroke-opacity=\"1\" stroke-width=\"3.2\"/>\n",
       "<circle clip-path=\"url(#clip362)\" cx=\"1647.75\" cy=\"1003.98\" r=\"14\" fill=\"#009af9\" fill-rule=\"evenodd\" fill-opacity=\"1\" stroke=\"#000000\" stroke-opacity=\"1\" stroke-width=\"3.2\"/>\n",
       "<circle clip-path=\"url(#clip362)\" cx=\"1668.51\" cy=\"1023.32\" r=\"14\" fill=\"#009af9\" fill-rule=\"evenodd\" fill-opacity=\"1\" stroke=\"#000000\" stroke-opacity=\"1\" stroke-width=\"3.2\"/>\n",
       "<circle clip-path=\"url(#clip362)\" cx=\"1689.26\" cy=\"506.141\" r=\"14\" fill=\"#009af9\" fill-rule=\"evenodd\" fill-opacity=\"1\" stroke=\"#000000\" stroke-opacity=\"1\" stroke-width=\"3.2\"/>\n",
       "<circle clip-path=\"url(#clip362)\" cx=\"1710.01\" cy=\"1279.09\" r=\"14\" fill=\"#009af9\" fill-rule=\"evenodd\" fill-opacity=\"1\" stroke=\"#000000\" stroke-opacity=\"1\" stroke-width=\"3.2\"/>\n",
       "<circle clip-path=\"url(#clip362)\" cx=\"1730.77\" cy=\"192.501\" r=\"14\" fill=\"#009af9\" fill-rule=\"evenodd\" fill-opacity=\"1\" stroke=\"#000000\" stroke-opacity=\"1\" stroke-width=\"3.2\"/>\n",
       "<circle clip-path=\"url(#clip362)\" cx=\"1751.52\" cy=\"455.81\" r=\"14\" fill=\"#009af9\" fill-rule=\"evenodd\" fill-opacity=\"1\" stroke=\"#000000\" stroke-opacity=\"1\" stroke-width=\"3.2\"/>\n",
       "<circle clip-path=\"url(#clip362)\" cx=\"1772.27\" cy=\"332.026\" r=\"14\" fill=\"#009af9\" fill-rule=\"evenodd\" fill-opacity=\"1\" stroke=\"#000000\" stroke-opacity=\"1\" stroke-width=\"3.2\"/>\n",
       "<circle clip-path=\"url(#clip362)\" cx=\"1793.03\" cy=\"623.613\" r=\"14\" fill=\"#009af9\" fill-rule=\"evenodd\" fill-opacity=\"1\" stroke=\"#000000\" stroke-opacity=\"1\" stroke-width=\"3.2\"/>\n",
       "<circle clip-path=\"url(#clip362)\" cx=\"1813.78\" cy=\"101.379\" r=\"14\" fill=\"#009af9\" fill-rule=\"evenodd\" fill-opacity=\"1\" stroke=\"#000000\" stroke-opacity=\"1\" stroke-width=\"3.2\"/>\n",
       "<circle clip-path=\"url(#clip362)\" cx=\"1834.54\" cy=\"923.812\" r=\"14\" fill=\"#009af9\" fill-rule=\"evenodd\" fill-opacity=\"1\" stroke=\"#000000\" stroke-opacity=\"1\" stroke-width=\"3.2\"/>\n",
       "<circle clip-path=\"url(#clip362)\" cx=\"1855.29\" cy=\"885.6\" r=\"14\" fill=\"#009af9\" fill-rule=\"evenodd\" fill-opacity=\"1\" stroke=\"#000000\" stroke-opacity=\"1\" stroke-width=\"3.2\"/>\n",
       "<circle clip-path=\"url(#clip362)\" cx=\"1876.04\" cy=\"1417.05\" r=\"14\" fill=\"#009af9\" fill-rule=\"evenodd\" fill-opacity=\"1\" stroke=\"#000000\" stroke-opacity=\"1\" stroke-width=\"3.2\"/>\n",
       "<circle clip-path=\"url(#clip362)\" cx=\"1896.8\" cy=\"555.242\" r=\"14\" fill=\"#009af9\" fill-rule=\"evenodd\" fill-opacity=\"1\" stroke=\"#000000\" stroke-opacity=\"1\" stroke-width=\"3.2\"/>\n",
       "<circle clip-path=\"url(#clip362)\" cx=\"1917.55\" cy=\"1342.36\" r=\"14\" fill=\"#009af9\" fill-rule=\"evenodd\" fill-opacity=\"1\" stroke=\"#000000\" stroke-opacity=\"1\" stroke-width=\"3.2\"/>\n",
       "<circle clip-path=\"url(#clip362)\" cx=\"1938.3\" cy=\"1224.1\" r=\"14\" fill=\"#009af9\" fill-rule=\"evenodd\" fill-opacity=\"1\" stroke=\"#000000\" stroke-opacity=\"1\" stroke-width=\"3.2\"/>\n",
       "<circle clip-path=\"url(#clip362)\" cx=\"1959.06\" cy=\"1278.56\" r=\"14\" fill=\"#009af9\" fill-rule=\"evenodd\" fill-opacity=\"1\" stroke=\"#000000\" stroke-opacity=\"1\" stroke-width=\"3.2\"/>\n",
       "<circle clip-path=\"url(#clip362)\" cx=\"1979.81\" cy=\"695.798\" r=\"14\" fill=\"#009af9\" fill-rule=\"evenodd\" fill-opacity=\"1\" stroke=\"#000000\" stroke-opacity=\"1\" stroke-width=\"3.2\"/>\n",
       "<circle clip-path=\"url(#clip362)\" cx=\"2000.57\" cy=\"717.958\" r=\"14\" fill=\"#009af9\" fill-rule=\"evenodd\" fill-opacity=\"1\" stroke=\"#000000\" stroke-opacity=\"1\" stroke-width=\"3.2\"/>\n",
       "<circle clip-path=\"url(#clip362)\" cx=\"2021.32\" cy=\"489.625\" r=\"14\" fill=\"#009af9\" fill-rule=\"evenodd\" fill-opacity=\"1\" stroke=\"#000000\" stroke-opacity=\"1\" stroke-width=\"3.2\"/>\n",
       "<circle clip-path=\"url(#clip362)\" cx=\"2042.07\" cy=\"941.146\" r=\"14\" fill=\"#009af9\" fill-rule=\"evenodd\" fill-opacity=\"1\" stroke=\"#000000\" stroke-opacity=\"1\" stroke-width=\"3.2\"/>\n",
       "<circle clip-path=\"url(#clip362)\" cx=\"2062.83\" cy=\"502.844\" r=\"14\" fill=\"#009af9\" fill-rule=\"evenodd\" fill-opacity=\"1\" stroke=\"#000000\" stroke-opacity=\"1\" stroke-width=\"3.2\"/>\n",
       "<circle clip-path=\"url(#clip362)\" cx=\"2083.58\" cy=\"1388.75\" r=\"14\" fill=\"#009af9\" fill-rule=\"evenodd\" fill-opacity=\"1\" stroke=\"#000000\" stroke-opacity=\"1\" stroke-width=\"3.2\"/>\n",
       "<circle clip-path=\"url(#clip362)\" cx=\"2104.33\" cy=\"1280.14\" r=\"14\" fill=\"#009af9\" fill-rule=\"evenodd\" fill-opacity=\"1\" stroke=\"#000000\" stroke-opacity=\"1\" stroke-width=\"3.2\"/>\n",
       "<circle clip-path=\"url(#clip362)\" cx=\"2125.09\" cy=\"1039.86\" r=\"14\" fill=\"#009af9\" fill-rule=\"evenodd\" fill-opacity=\"1\" stroke=\"#000000\" stroke-opacity=\"1\" stroke-width=\"3.2\"/>\n",
       "<circle clip-path=\"url(#clip362)\" cx=\"2145.84\" cy=\"171.097\" r=\"14\" fill=\"#009af9\" fill-rule=\"evenodd\" fill-opacity=\"1\" stroke=\"#000000\" stroke-opacity=\"1\" stroke-width=\"3.2\"/>\n",
       "<circle clip-path=\"url(#clip362)\" cx=\"2166.6\" cy=\"802.422\" r=\"14\" fill=\"#009af9\" fill-rule=\"evenodd\" fill-opacity=\"1\" stroke=\"#000000\" stroke-opacity=\"1\" stroke-width=\"3.2\"/>\n",
       "<circle clip-path=\"url(#clip362)\" cx=\"2187.35\" cy=\"1144.62\" r=\"14\" fill=\"#009af9\" fill-rule=\"evenodd\" fill-opacity=\"1\" stroke=\"#000000\" stroke-opacity=\"1\" stroke-width=\"3.2\"/>\n",
       "<circle clip-path=\"url(#clip362)\" cx=\"2208.1\" cy=\"476.534\" r=\"14\" fill=\"#009af9\" fill-rule=\"evenodd\" fill-opacity=\"1\" stroke=\"#000000\" stroke-opacity=\"1\" stroke-width=\"3.2\"/>\n",
       "<circle clip-path=\"url(#clip362)\" cx=\"2228.86\" cy=\"1198.82\" r=\"14\" fill=\"#009af9\" fill-rule=\"evenodd\" fill-opacity=\"1\" stroke=\"#000000\" stroke-opacity=\"1\" stroke-width=\"3.2\"/>\n",
       "<circle clip-path=\"url(#clip362)\" cx=\"2249.61\" cy=\"650.77\" r=\"14\" fill=\"#009af9\" fill-rule=\"evenodd\" fill-opacity=\"1\" stroke=\"#000000\" stroke-opacity=\"1\" stroke-width=\"3.2\"/>\n",
       "<circle clip-path=\"url(#clip362)\" cx=\"2270.36\" cy=\"267.632\" r=\"14\" fill=\"#009af9\" fill-rule=\"evenodd\" fill-opacity=\"1\" stroke=\"#000000\" stroke-opacity=\"1\" stroke-width=\"3.2\"/>\n",
       "<circle clip-path=\"url(#clip362)\" cx=\"2291.12\" cy=\"272.009\" r=\"14\" fill=\"#009af9\" fill-rule=\"evenodd\" fill-opacity=\"1\" stroke=\"#000000\" stroke-opacity=\"1\" stroke-width=\"3.2\"/>\n",
       "<path clip-path=\"url(#clip360)\" d=\"\n",
       "M1987.15 216.178 L2280.16 216.178 L2280.16 95.2176 L1987.15 95.2176  Z\n",
       "  \" fill=\"#ffffff\" fill-rule=\"evenodd\" fill-opacity=\"1\"/>\n",
       "<polyline clip-path=\"url(#clip360)\" style=\"stroke:#000000; stroke-width:4; stroke-opacity:1; fill:none\" points=\"\n",
       "  1987.15,216.178 2280.16,216.178 2280.16,95.2176 1987.15,95.2176 1987.15,216.178 \n",
       "  \"/>\n",
       "<circle clip-path=\"url(#clip360)\" cx=\"2083.95\" cy=\"155.698\" r=\"23\" fill=\"#009af9\" fill-rule=\"evenodd\" fill-opacity=\"1\" stroke=\"#000000\" stroke-opacity=\"1\" stroke-width=\"5.12\"/>\n",
       "<path clip-path=\"url(#clip360)\" d=\"M 0 0 M2194.59 175.385 Q2192.78 180.015 2191.07 181.427 Q2189.35 182.839 2186.48 182.839 L2183.08 182.839 L2183.08 179.274 L2185.58 179.274 Q2187.34 179.274 2188.31 178.44 Q2189.29 177.607 2190.47 174.505 L2191.23 172.561 L2180.74 147.052 L2185.26 147.052 L2193.36 167.329 L2201.46 147.052 L2205.97 147.052 L2194.59 175.385 Z\" fill=\"#000000\" fill-rule=\"evenodd\" fill-opacity=\"1\" /><path clip-path=\"url(#clip360)\" d=\"M 0 0 M2211.85 169.042 L2219.49 169.042 L2219.49 142.677 L2211.18 144.343 L2211.18 140.084 L2219.45 138.418 L2224.12 138.418 L2224.12 169.042 L2231.76 169.042 L2231.76 172.978 L2211.85 172.978 L2211.85 169.042 Z\" fill=\"#000000\" fill-rule=\"evenodd\" fill-opacity=\"1\" /></svg>\n"
      ]
     },
     "execution_count": 32,
     "metadata": {},
     "output_type": "execute_result"
    }
   ],
   "source": [
    "scatter(r)"
   ]
  },
  {
   "cell_type": "code",
   "execution_count": 34,
   "metadata": {},
   "outputs": [
    {
     "data": {
      "image/svg+xml": [
       "<?xml version=\"1.0\" encoding=\"utf-8\"?>\n",
       "<svg xmlns=\"http://www.w3.org/2000/svg\" xmlns:xlink=\"http://www.w3.org/1999/xlink\" width=\"600\" height=\"400\" viewBox=\"0 0 2400 1600\">\n",
       "<defs>\n",
       "  <clipPath id=\"clip440\">\n",
       "    <rect x=\"0\" y=\"0\" width=\"2400\" height=\"1600\"/>\n",
       "  </clipPath>\n",
       "</defs>\n",
       "<path clip-path=\"url(#clip440)\" d=\"\n",
       "M0 1600 L2400 1600 L2400 0 L0 0  Z\n",
       "  \" fill=\"#ffffff\" fill-rule=\"evenodd\" fill-opacity=\"1\"/>\n",
       "<defs>\n",
       "  <clipPath id=\"clip441\">\n",
       "    <rect x=\"480\" y=\"0\" width=\"1681\" height=\"1600\"/>\n",
       "  </clipPath>\n",
       "</defs>\n",
       "<path clip-path=\"url(#clip440)\" d=\"\n",
       "M148.334 1486.45 L2352.76 1486.45 L2352.76 47.2441 L148.334 47.2441  Z\n",
       "  \" fill=\"#ffffff\" fill-rule=\"evenodd\" fill-opacity=\"1\"/>\n",
       "<defs>\n",
       "  <clipPath id=\"clip442\">\n",
       "    <rect x=\"148\" y=\"47\" width=\"2205\" height=\"1440\"/>\n",
       "  </clipPath>\n",
       "</defs>\n",
       "<polyline clip-path=\"url(#clip442)\" style=\"stroke:#000000; stroke-width:2; stroke-opacity:0.1; fill:none\" points=\"\n",
       "  201.826,1486.45 201.826,47.2441 \n",
       "  \"/>\n",
       "<polyline clip-path=\"url(#clip442)\" style=\"stroke:#000000; stroke-width:2; stroke-opacity:0.1; fill:none\" points=\"\n",
       "  724.219,1486.45 724.219,47.2441 \n",
       "  \"/>\n",
       "<polyline clip-path=\"url(#clip442)\" style=\"stroke:#000000; stroke-width:2; stroke-opacity:0.1; fill:none\" points=\"\n",
       "  1246.61,1486.45 1246.61,47.2441 \n",
       "  \"/>\n",
       "<polyline clip-path=\"url(#clip442)\" style=\"stroke:#000000; stroke-width:2; stroke-opacity:0.1; fill:none\" points=\"\n",
       "  1769,1486.45 1769,47.2441 \n",
       "  \"/>\n",
       "<polyline clip-path=\"url(#clip442)\" style=\"stroke:#000000; stroke-width:2; stroke-opacity:0.1; fill:none\" points=\"\n",
       "  2291.39,1486.45 2291.39,47.2441 \n",
       "  \"/>\n",
       "<polyline clip-path=\"url(#clip440)\" style=\"stroke:#000000; stroke-width:4; stroke-opacity:1; fill:none\" points=\"\n",
       "  148.334,1486.45 2352.76,1486.45 \n",
       "  \"/>\n",
       "<polyline clip-path=\"url(#clip440)\" style=\"stroke:#000000; stroke-width:4; stroke-opacity:1; fill:none\" points=\"\n",
       "  201.826,1486.45 201.826,1469.18 \n",
       "  \"/>\n",
       "<polyline clip-path=\"url(#clip440)\" style=\"stroke:#000000; stroke-width:4; stroke-opacity:1; fill:none\" points=\"\n",
       "  724.219,1486.45 724.219,1469.18 \n",
       "  \"/>\n",
       "<polyline clip-path=\"url(#clip440)\" style=\"stroke:#000000; stroke-width:4; stroke-opacity:1; fill:none\" points=\"\n",
       "  1246.61,1486.45 1246.61,1469.18 \n",
       "  \"/>\n",
       "<polyline clip-path=\"url(#clip440)\" style=\"stroke:#000000; stroke-width:4; stroke-opacity:1; fill:none\" points=\"\n",
       "  1769,1486.45 1769,1469.18 \n",
       "  \"/>\n",
       "<polyline clip-path=\"url(#clip440)\" style=\"stroke:#000000; stroke-width:4; stroke-opacity:1; fill:none\" points=\"\n",
       "  2291.39,1486.45 2291.39,1469.18 \n",
       "  \"/>\n",
       "<path clip-path=\"url(#clip440)\" d=\"M 0 0 M169.836 1515.64 Q166.225 1515.64 164.396 1519.2 Q162.59 1522.75 162.59 1529.87 Q162.59 1536.98 164.396 1540.55 Q166.225 1544.09 169.836 1544.09 Q173.47 1544.09 175.276 1540.55 Q177.104 1536.98 177.104 1529.87 Q177.104 1522.75 175.276 1519.2 Q173.47 1515.64 169.836 1515.64 M169.836 1511.93 Q175.646 1511.93 178.702 1516.54 Q181.78 1521.12 181.78 1529.87 Q181.78 1538.6 178.702 1543.21 Q175.646 1547.79 169.836 1547.79 Q164.026 1547.79 160.947 1543.21 Q157.891 1538.6 157.891 1529.87 Q157.891 1521.12 160.947 1516.54 Q164.026 1511.93 169.836 1511.93 Z\" fill=\"#000000\" fill-rule=\"evenodd\" fill-opacity=\"1\" /><path clip-path=\"url(#clip440)\" d=\"M 0 0 M186.85 1541.24 L191.734 1541.24 L191.734 1547.12 L186.85 1547.12 L186.85 1541.24 Z\" fill=\"#000000\" fill-rule=\"evenodd\" fill-opacity=\"1\" /><path clip-path=\"url(#clip440)\" d=\"M 0 0 M206.803 1515.64 Q203.192 1515.64 201.363 1519.2 Q199.558 1522.75 199.558 1529.87 Q199.558 1536.98 201.363 1540.55 Q203.192 1544.09 206.803 1544.09 Q210.437 1544.09 212.243 1540.55 Q214.072 1536.98 214.072 1529.87 Q214.072 1522.75 212.243 1519.2 Q210.437 1515.64 206.803 1515.64 M206.803 1511.93 Q212.613 1511.93 215.669 1516.54 Q218.748 1521.12 218.748 1529.87 Q218.748 1538.6 215.669 1543.21 Q212.613 1547.79 206.803 1547.79 Q200.993 1547.79 197.914 1543.21 Q194.859 1538.6 194.859 1529.87 Q194.859 1521.12 197.914 1516.54 Q200.993 1511.93 206.803 1511.93 Z\" fill=\"#000000\" fill-rule=\"evenodd\" fill-opacity=\"1\" /><path clip-path=\"url(#clip440)\" d=\"M 0 0 M233.817 1515.64 Q230.206 1515.64 228.377 1519.2 Q226.572 1522.75 226.572 1529.87 Q226.572 1536.98 228.377 1540.55 Q230.206 1544.09 233.817 1544.09 Q237.451 1544.09 239.257 1540.55 Q241.085 1536.98 241.085 1529.87 Q241.085 1522.75 239.257 1519.2 Q237.451 1515.64 233.817 1515.64 M233.817 1511.93 Q239.627 1511.93 242.683 1516.54 Q245.761 1521.12 245.761 1529.87 Q245.761 1538.6 242.683 1543.21 Q239.627 1547.79 233.817 1547.79 Q228.007 1547.79 224.928 1543.21 Q221.873 1538.6 221.873 1529.87 Q221.873 1521.12 224.928 1516.54 Q228.007 1511.93 233.817 1511.93 Z\" fill=\"#000000\" fill-rule=\"evenodd\" fill-opacity=\"1\" /><path clip-path=\"url(#clip440)\" d=\"M 0 0 M693.524 1515.64 Q689.913 1515.64 688.084 1519.2 Q686.279 1522.75 686.279 1529.87 Q686.279 1536.98 688.084 1540.55 Q689.913 1544.09 693.524 1544.09 Q697.158 1544.09 698.964 1540.55 Q700.793 1536.98 700.793 1529.87 Q700.793 1522.75 698.964 1519.2 Q697.158 1515.64 693.524 1515.64 M693.524 1511.93 Q699.334 1511.93 702.39 1516.54 Q705.469 1521.12 705.469 1529.87 Q705.469 1538.6 702.39 1543.21 Q699.334 1547.79 693.524 1547.79 Q687.714 1547.79 684.635 1543.21 Q681.58 1538.6 681.58 1529.87 Q681.58 1521.12 684.635 1516.54 Q687.714 1511.93 693.524 1511.93 Z\" fill=\"#000000\" fill-rule=\"evenodd\" fill-opacity=\"1\" /><path clip-path=\"url(#clip440)\" d=\"M 0 0 M710.538 1541.24 L715.422 1541.24 L715.422 1547.12 L710.538 1547.12 L710.538 1541.24 Z\" fill=\"#000000\" fill-rule=\"evenodd\" fill-opacity=\"1\" /><path clip-path=\"url(#clip440)\" d=\"M 0 0 M724.519 1543.18 L740.839 1543.18 L740.839 1547.12 L718.894 1547.12 L718.894 1543.18 Q721.556 1540.43 726.14 1535.8 Q730.746 1531.15 731.927 1529.81 Q734.172 1527.28 735.052 1525.55 Q735.955 1523.79 735.955 1522.1 Q735.955 1519.34 734.01 1517.61 Q732.089 1515.87 728.987 1515.87 Q726.788 1515.87 724.334 1516.63 Q721.904 1517.4 719.126 1518.95 L719.126 1514.23 Q721.95 1513.09 724.404 1512.51 Q726.857 1511.93 728.894 1511.93 Q734.265 1511.93 737.459 1514.62 Q740.654 1517.31 740.654 1521.8 Q740.654 1523.93 739.843 1525.85 Q739.056 1527.74 736.95 1530.34 Q736.371 1531.01 733.269 1534.23 Q730.168 1537.42 724.519 1543.18 Z\" fill=\"#000000\" fill-rule=\"evenodd\" fill-opacity=\"1\" /><path clip-path=\"url(#clip440)\" d=\"M 0 0 M745.955 1512.56 L764.311 1512.56 L764.311 1516.5 L750.237 1516.5 L750.237 1524.97 Q751.255 1524.62 752.274 1524.46 Q753.292 1524.27 754.311 1524.27 Q760.098 1524.27 763.478 1527.44 Q766.857 1530.62 766.857 1536.03 Q766.857 1541.61 763.385 1544.71 Q759.913 1547.79 753.593 1547.79 Q751.417 1547.79 749.149 1547.42 Q746.904 1547.05 744.496 1546.31 L744.496 1541.61 Q746.58 1542.74 748.802 1543.3 Q751.024 1543.86 753.501 1543.86 Q757.505 1543.86 759.843 1541.75 Q762.181 1539.64 762.181 1536.03 Q762.181 1532.42 759.843 1530.31 Q757.505 1528.21 753.501 1528.21 Q751.626 1528.21 749.751 1528.62 Q747.899 1529.04 745.955 1529.92 L745.955 1512.56 Z\" fill=\"#000000\" fill-rule=\"evenodd\" fill-opacity=\"1\" /><path clip-path=\"url(#clip440)\" d=\"M 0 0 M1215.12 1515.64 Q1211.51 1515.64 1209.68 1519.2 Q1207.87 1522.75 1207.87 1529.87 Q1207.87 1536.98 1209.68 1540.55 Q1211.51 1544.09 1215.12 1544.09 Q1218.75 1544.09 1220.56 1540.55 Q1222.39 1536.98 1222.39 1529.87 Q1222.39 1522.75 1220.56 1519.2 Q1218.75 1515.64 1215.12 1515.64 M1215.12 1511.93 Q1220.93 1511.93 1223.98 1516.54 Q1227.06 1521.12 1227.06 1529.87 Q1227.06 1538.6 1223.98 1543.21 Q1220.93 1547.79 1215.12 1547.79 Q1209.31 1547.79 1206.23 1543.21 Q1203.17 1538.6 1203.17 1529.87 Q1203.17 1521.12 1206.23 1516.54 Q1209.31 1511.93 1215.12 1511.93 Z\" fill=\"#000000\" fill-rule=\"evenodd\" fill-opacity=\"1\" /><path clip-path=\"url(#clip440)\" d=\"M 0 0 M1232.13 1541.24 L1237.02 1541.24 L1237.02 1547.12 L1232.13 1547.12 L1232.13 1541.24 Z\" fill=\"#000000\" fill-rule=\"evenodd\" fill-opacity=\"1\" /><path clip-path=\"url(#clip440)\" d=\"M 0 0 M1242.13 1512.56 L1260.49 1512.56 L1260.49 1516.5 L1246.41 1516.5 L1246.41 1524.97 Q1247.43 1524.62 1248.45 1524.46 Q1249.47 1524.27 1250.49 1524.27 Q1256.27 1524.27 1259.65 1527.44 Q1263.03 1530.62 1263.03 1536.03 Q1263.03 1541.61 1259.56 1544.71 Q1256.09 1547.79 1249.77 1547.79 Q1247.59 1547.79 1245.33 1547.42 Q1243.08 1547.05 1240.67 1546.31 L1240.67 1541.61 Q1242.76 1542.74 1244.98 1543.3 Q1247.2 1543.86 1249.68 1543.86 Q1253.68 1543.86 1256.02 1541.75 Q1258.36 1539.64 1258.36 1536.03 Q1258.36 1532.42 1256.02 1530.31 Q1253.68 1528.21 1249.68 1528.21 Q1247.8 1528.21 1245.93 1528.62 Q1244.08 1529.04 1242.13 1529.92 L1242.13 1512.56 Z\" fill=\"#000000\" fill-rule=\"evenodd\" fill-opacity=\"1\" /><path clip-path=\"url(#clip440)\" d=\"M 0 0 M1278.1 1515.64 Q1274.49 1515.64 1272.66 1519.2 Q1270.86 1522.75 1270.86 1529.87 Q1270.86 1536.98 1272.66 1540.55 Q1274.49 1544.09 1278.1 1544.09 Q1281.74 1544.09 1283.54 1540.55 Q1285.37 1536.98 1285.37 1529.87 Q1285.37 1522.75 1283.54 1519.2 Q1281.74 1515.64 1278.1 1515.64 M1278.1 1511.93 Q1283.91 1511.93 1286.97 1516.54 Q1290.05 1521.12 1290.05 1529.87 Q1290.05 1538.6 1286.97 1543.21 Q1283.91 1547.79 1278.1 1547.79 Q1272.29 1547.79 1269.21 1543.21 Q1266.16 1538.6 1266.16 1529.87 Q1266.16 1521.12 1269.21 1516.54 Q1272.29 1511.93 1278.1 1511.93 Z\" fill=\"#000000\" fill-rule=\"evenodd\" fill-opacity=\"1\" /><path clip-path=\"url(#clip440)\" d=\"M 0 0 M1737.96 1515.64 Q1734.35 1515.64 1732.52 1519.2 Q1730.72 1522.75 1730.72 1529.87 Q1730.72 1536.98 1732.52 1540.55 Q1734.35 1544.09 1737.96 1544.09 Q1741.6 1544.09 1743.4 1540.55 Q1745.23 1536.98 1745.23 1529.87 Q1745.23 1522.75 1743.4 1519.2 Q1741.6 1515.64 1737.96 1515.64 M1737.96 1511.93 Q1743.77 1511.93 1746.83 1516.54 Q1749.91 1521.12 1749.91 1529.87 Q1749.91 1538.6 1746.83 1543.21 Q1743.77 1547.79 1737.96 1547.79 Q1732.15 1547.79 1729.07 1543.21 Q1726.02 1538.6 1726.02 1529.87 Q1726.02 1521.12 1729.07 1516.54 Q1732.15 1511.93 1737.96 1511.93 Z\" fill=\"#000000\" fill-rule=\"evenodd\" fill-opacity=\"1\" /><path clip-path=\"url(#clip440)\" d=\"M 0 0 M1754.98 1541.24 L1759.86 1541.24 L1759.86 1547.12 L1754.98 1547.12 L1754.98 1541.24 Z\" fill=\"#000000\" fill-rule=\"evenodd\" fill-opacity=\"1\" /><path clip-path=\"url(#clip440)\" d=\"M 0 0 M1763.75 1512.56 L1785.97 1512.56 L1785.97 1514.55 L1773.42 1547.12 L1768.54 1547.12 L1780.35 1516.5 L1763.75 1516.5 L1763.75 1512.56 Z\" fill=\"#000000\" fill-rule=\"evenodd\" fill-opacity=\"1\" /><path clip-path=\"url(#clip440)\" d=\"M 0 0 M1791.09 1512.56 L1809.44 1512.56 L1809.44 1516.5 L1795.37 1516.5 L1795.37 1524.97 Q1796.39 1524.62 1797.41 1524.46 Q1798.42 1524.27 1799.44 1524.27 Q1805.23 1524.27 1808.61 1527.44 Q1811.99 1530.62 1811.99 1536.03 Q1811.99 1541.61 1808.52 1544.71 Q1805.04 1547.79 1798.72 1547.79 Q1796.55 1547.79 1794.28 1547.42 Q1792.04 1547.05 1789.63 1546.31 L1789.63 1541.61 Q1791.71 1542.74 1793.93 1543.3 Q1796.16 1543.86 1798.63 1543.86 Q1802.64 1543.86 1804.97 1541.75 Q1807.31 1539.64 1807.31 1536.03 Q1807.31 1532.42 1804.97 1530.31 Q1802.64 1528.21 1798.63 1528.21 Q1796.76 1528.21 1794.88 1528.62 Q1793.03 1529.04 1791.09 1529.92 L1791.09 1512.56 Z\" fill=\"#000000\" fill-rule=\"evenodd\" fill-opacity=\"1\" /><path clip-path=\"url(#clip440)\" d=\"M 0 0 M2249.79 1543.18 L2257.43 1543.18 L2257.43 1516.82 L2249.12 1518.49 L2249.12 1514.23 L2257.38 1512.56 L2262.05 1512.56 L2262.05 1543.18 L2269.69 1543.18 L2269.69 1547.12 L2249.79 1547.12 L2249.79 1543.18 Z\" fill=\"#000000\" fill-rule=\"evenodd\" fill-opacity=\"1\" /><path clip-path=\"url(#clip440)\" d=\"M 0 0 M2274.76 1541.24 L2279.65 1541.24 L2279.65 1547.12 L2274.76 1547.12 L2274.76 1541.24 Z\" fill=\"#000000\" fill-rule=\"evenodd\" fill-opacity=\"1\" /><path clip-path=\"url(#clip440)\" d=\"M 0 0 M2294.72 1515.64 Q2291.11 1515.64 2289.28 1519.2 Q2287.47 1522.75 2287.47 1529.87 Q2287.47 1536.98 2289.28 1540.55 Q2291.11 1544.09 2294.72 1544.09 Q2298.35 1544.09 2300.16 1540.55 Q2301.99 1536.98 2301.99 1529.87 Q2301.99 1522.75 2300.16 1519.2 Q2298.35 1515.64 2294.72 1515.64 M2294.72 1511.93 Q2300.53 1511.93 2303.58 1516.54 Q2306.66 1521.12 2306.66 1529.87 Q2306.66 1538.6 2303.58 1543.21 Q2300.53 1547.79 2294.72 1547.79 Q2288.91 1547.79 2285.83 1543.21 Q2282.77 1538.6 2282.77 1529.87 Q2282.77 1521.12 2285.83 1516.54 Q2288.91 1511.93 2294.72 1511.93 Z\" fill=\"#000000\" fill-rule=\"evenodd\" fill-opacity=\"1\" /><path clip-path=\"url(#clip440)\" d=\"M 0 0 M2321.73 1515.64 Q2318.12 1515.64 2316.29 1519.2 Q2314.49 1522.75 2314.49 1529.87 Q2314.49 1536.98 2316.29 1540.55 Q2318.12 1544.09 2321.73 1544.09 Q2325.36 1544.09 2327.17 1540.55 Q2329 1536.98 2329 1529.87 Q2329 1522.75 2327.17 1519.2 Q2325.36 1515.64 2321.73 1515.64 M2321.73 1511.93 Q2327.54 1511.93 2330.6 1516.54 Q2333.67 1521.12 2333.67 1529.87 Q2333.67 1538.6 2330.6 1543.21 Q2327.54 1547.79 2321.73 1547.79 Q2315.92 1547.79 2312.84 1543.21 Q2309.79 1538.6 2309.79 1529.87 Q2309.79 1521.12 2312.84 1516.54 Q2315.92 1511.93 2321.73 1511.93 Z\" fill=\"#000000\" fill-rule=\"evenodd\" fill-opacity=\"1\" /><polyline clip-path=\"url(#clip442)\" style=\"stroke:#000000; stroke-width:2; stroke-opacity:0.1; fill:none\" points=\"\n",
       "  148.334,1486.45 2352.76,1486.45 \n",
       "  \"/>\n",
       "<polyline clip-path=\"url(#clip442)\" style=\"stroke:#000000; stroke-width:2; stroke-opacity:0.1; fill:none\" points=\"\n",
       "  148.334,1198.61 2352.76,1198.61 \n",
       "  \"/>\n",
       "<polyline clip-path=\"url(#clip442)\" style=\"stroke:#000000; stroke-width:2; stroke-opacity:0.1; fill:none\" points=\"\n",
       "  148.334,910.766 2352.76,910.766 \n",
       "  \"/>\n",
       "<polyline clip-path=\"url(#clip442)\" style=\"stroke:#000000; stroke-width:2; stroke-opacity:0.1; fill:none\" points=\"\n",
       "  148.334,622.926 2352.76,622.926 \n",
       "  \"/>\n",
       "<polyline clip-path=\"url(#clip442)\" style=\"stroke:#000000; stroke-width:2; stroke-opacity:0.1; fill:none\" points=\"\n",
       "  148.334,335.085 2352.76,335.085 \n",
       "  \"/>\n",
       "<polyline clip-path=\"url(#clip442)\" style=\"stroke:#000000; stroke-width:2; stroke-opacity:0.1; fill:none\" points=\"\n",
       "  148.334,47.2441 2352.76,47.2441 \n",
       "  \"/>\n",
       "<polyline clip-path=\"url(#clip440)\" style=\"stroke:#000000; stroke-width:4; stroke-opacity:1; fill:none\" points=\"\n",
       "  148.334,1486.45 148.334,47.2441 \n",
       "  \"/>\n",
       "<polyline clip-path=\"url(#clip440)\" style=\"stroke:#000000; stroke-width:4; stroke-opacity:1; fill:none\" points=\"\n",
       "  148.334,1486.45 174.787,1486.45 \n",
       "  \"/>\n",
       "<polyline clip-path=\"url(#clip440)\" style=\"stroke:#000000; stroke-width:4; stroke-opacity:1; fill:none\" points=\"\n",
       "  148.334,1198.61 174.787,1198.61 \n",
       "  \"/>\n",
       "<polyline clip-path=\"url(#clip440)\" style=\"stroke:#000000; stroke-width:4; stroke-opacity:1; fill:none\" points=\"\n",
       "  148.334,910.766 174.787,910.766 \n",
       "  \"/>\n",
       "<polyline clip-path=\"url(#clip440)\" style=\"stroke:#000000; stroke-width:4; stroke-opacity:1; fill:none\" points=\"\n",
       "  148.334,622.926 174.787,622.926 \n",
       "  \"/>\n",
       "<polyline clip-path=\"url(#clip440)\" style=\"stroke:#000000; stroke-width:4; stroke-opacity:1; fill:none\" points=\"\n",
       "  148.334,335.085 174.787,335.085 \n",
       "  \"/>\n",
       "<polyline clip-path=\"url(#clip440)\" style=\"stroke:#000000; stroke-width:4; stroke-opacity:1; fill:none\" points=\"\n",
       "  148.334,47.2441 174.787,47.2441 \n",
       "  \"/>\n",
       "<path clip-path=\"url(#clip440)\" d=\"M 0 0 M63.4226 1472.25 Q59.8115 1472.25 57.9828 1475.81 Q56.1773 1479.35 56.1773 1486.48 Q56.1773 1493.59 57.9828 1497.15 Q59.8115 1500.7 63.4226 1500.7 Q67.0569 1500.7 68.8624 1497.15 Q70.6911 1493.59 70.6911 1486.48 Q70.6911 1479.35 68.8624 1475.81 Q67.0569 1472.25 63.4226 1472.25 M63.4226 1468.54 Q69.2328 1468.54 72.2883 1473.15 Q75.367 1477.73 75.367 1486.48 Q75.367 1495.21 72.2883 1499.82 Q69.2328 1504.4 63.4226 1504.4 Q57.6125 1504.4 54.5338 1499.82 Q51.4782 1495.21 51.4782 1486.48 Q51.4782 1477.73 54.5338 1473.15 Q57.6125 1468.54 63.4226 1468.54 Z\" fill=\"#000000\" fill-rule=\"evenodd\" fill-opacity=\"1\" /><path clip-path=\"url(#clip440)\" d=\"M 0 0 M80.4364 1497.85 L85.3206 1497.85 L85.3206 1503.73 L80.4364 1503.73 L80.4364 1497.85 Z\" fill=\"#000000\" fill-rule=\"evenodd\" fill-opacity=\"1\" /><path clip-path=\"url(#clip440)\" d=\"M 0 0 M100.39 1472.25 Q96.7789 1472.25 94.9502 1475.81 Q93.1447 1479.35 93.1447 1486.48 Q93.1447 1493.59 94.9502 1497.15 Q96.7789 1500.7 100.39 1500.7 Q104.024 1500.7 105.83 1497.15 Q107.658 1493.59 107.658 1486.48 Q107.658 1479.35 105.83 1475.81 Q104.024 1472.25 100.39 1472.25 M100.39 1468.54 Q106.2 1468.54 109.256 1473.15 Q112.334 1477.73 112.334 1486.48 Q112.334 1495.21 109.256 1499.82 Q106.2 1504.4 100.39 1504.4 Q94.5799 1504.4 91.5012 1499.82 Q88.4456 1495.21 88.4456 1486.48 Q88.4456 1477.73 91.5012 1473.15 Q94.5799 1468.54 100.39 1468.54 Z\" fill=\"#000000\" fill-rule=\"evenodd\" fill-opacity=\"1\" /><path clip-path=\"url(#clip440)\" d=\"M 0 0 M65.0198 1184.41 Q61.4087 1184.41 59.58 1187.97 Q57.7745 1191.51 57.7745 1198.64 Q57.7745 1205.75 59.58 1209.31 Q61.4087 1212.85 65.0198 1212.85 Q68.6541 1212.85 70.4596 1209.31 Q72.2883 1205.75 72.2883 1198.64 Q72.2883 1191.51 70.4596 1187.97 Q68.6541 1184.41 65.0198 1184.41 M65.0198 1180.7 Q70.83 1180.7 73.8855 1185.31 Q76.9642 1189.89 76.9642 1198.64 Q76.9642 1207.37 73.8855 1211.98 Q70.83 1216.56 65.0198 1216.56 Q59.2097 1216.56 56.131 1211.98 Q53.0754 1207.37 53.0754 1198.64 Q53.0754 1189.89 56.131 1185.31 Q59.2097 1180.7 65.0198 1180.7 Z\" fill=\"#000000\" fill-rule=\"evenodd\" fill-opacity=\"1\" /><path clip-path=\"url(#clip440)\" d=\"M 0 0 M82.0336 1210.01 L86.9179 1210.01 L86.9179 1215.89 L82.0336 1215.89 L82.0336 1210.01 Z\" fill=\"#000000\" fill-rule=\"evenodd\" fill-opacity=\"1\" /><path clip-path=\"url(#clip440)\" d=\"M 0 0 M96.015 1211.95 L112.334 1211.95 L112.334 1215.89 L90.3901 1215.89 L90.3901 1211.95 Q93.0521 1209.2 97.6354 1204.57 Q102.242 1199.91 103.422 1198.57 Q105.668 1196.05 106.547 1194.31 Q107.45 1192.55 107.45 1190.86 Q107.45 1188.11 105.506 1186.37 Q103.584 1184.64 100.483 1184.64 Q98.2835 1184.64 95.8298 1185.4 Q93.3993 1186.17 90.6215 1187.72 L90.6215 1182.99 Q93.4456 1181.86 95.8993 1181.28 Q98.353 1180.7 100.39 1180.7 Q105.76 1180.7 108.955 1183.39 Q112.149 1186.07 112.149 1190.56 Q112.149 1192.69 111.339 1194.61 Q110.552 1196.51 108.446 1199.1 Q107.867 1199.78 104.765 1202.99 Q101.663 1206.19 96.015 1211.95 Z\" fill=\"#000000\" fill-rule=\"evenodd\" fill-opacity=\"1\" /><path clip-path=\"url(#clip440)\" d=\"M 0 0 M62.9365 896.565 Q59.3254 896.565 57.4967 900.13 Q55.6912 903.671 55.6912 910.801 Q55.6912 917.908 57.4967 921.472 Q59.3254 925.014 62.9365 925.014 Q66.5707 925.014 68.3763 921.472 Q70.205 917.908 70.205 910.801 Q70.205 903.671 68.3763 900.13 Q66.5707 896.565 62.9365 896.565 M62.9365 892.861 Q68.7467 892.861 71.8022 897.468 Q74.8809 902.051 74.8809 910.801 Q74.8809 919.528 71.8022 924.134 Q68.7467 928.718 62.9365 928.718 Q57.1264 928.718 54.0477 924.134 Q50.9921 919.528 50.9921 910.801 Q50.9921 902.051 54.0477 897.468 Q57.1264 892.861 62.9365 892.861 Z\" fill=\"#000000\" fill-rule=\"evenodd\" fill-opacity=\"1\" /><path clip-path=\"url(#clip440)\" d=\"M 0 0 M79.9503 922.167 L84.8345 922.167 L84.8345 928.046 L79.9503 928.046 L79.9503 922.167 Z\" fill=\"#000000\" fill-rule=\"evenodd\" fill-opacity=\"1\" /><path clip-path=\"url(#clip440)\" d=\"M 0 0 M102.751 897.56 L90.9456 916.009 L102.751 916.009 L102.751 897.56 M101.524 893.486 L107.404 893.486 L107.404 916.009 L112.334 916.009 L112.334 919.898 L107.404 919.898 L107.404 928.046 L102.751 928.046 L102.751 919.898 L87.1493 919.898 L87.1493 915.384 L101.524 893.486 Z\" fill=\"#000000\" fill-rule=\"evenodd\" fill-opacity=\"1\" /><path clip-path=\"url(#clip440)\" d=\"M 0 0 M63.2606 608.724 Q59.6495 608.724 57.8208 612.289 Q56.0152 615.831 56.0152 622.96 Q56.0152 630.067 57.8208 633.632 Q59.6495 637.173 63.2606 637.173 Q66.8948 637.173 68.7004 633.632 Q70.5291 630.067 70.5291 622.96 Q70.5291 615.831 68.7004 612.289 Q66.8948 608.724 63.2606 608.724 M63.2606 605.021 Q69.0707 605.021 72.1263 609.627 Q75.205 614.21 75.205 622.96 Q75.205 631.687 72.1263 636.294 Q69.0707 640.877 63.2606 640.877 Q57.4504 640.877 54.3717 636.294 Q51.3162 631.687 51.3162 622.96 Q51.3162 614.21 54.3717 609.627 Q57.4504 605.021 63.2606 605.021 Z\" fill=\"#000000\" fill-rule=\"evenodd\" fill-opacity=\"1\" /><path clip-path=\"url(#clip440)\" d=\"M 0 0 M80.2744 634.326 L85.1586 634.326 L85.1586 640.206 L80.2744 640.206 L80.2744 634.326 Z\" fill=\"#000000\" fill-rule=\"evenodd\" fill-opacity=\"1\" /><path clip-path=\"url(#clip440)\" d=\"M 0 0 M100.807 621.062 Q97.6585 621.062 95.8067 623.215 Q93.978 625.368 93.978 629.118 Q93.978 632.845 95.8067 635.02 Q97.6585 637.173 100.807 637.173 Q103.955 637.173 105.783 635.02 Q107.635 632.845 107.635 629.118 Q107.635 625.368 105.783 623.215 Q103.955 621.062 100.807 621.062 M110.089 606.409 L110.089 610.669 Q108.33 609.835 106.524 609.396 Q104.742 608.956 102.983 608.956 Q98.353 608.956 95.8993 612.081 Q93.4688 615.206 93.1215 621.525 Q94.4873 619.511 96.5474 618.446 Q98.6076 617.359 101.084 617.359 Q106.293 617.359 109.302 620.53 Q112.334 623.678 112.334 629.118 Q112.334 634.442 109.186 637.659 Q106.038 640.877 100.807 640.877 Q94.8113 640.877 91.6401 636.294 Q88.4688 631.687 88.4688 622.96 Q88.4688 614.766 92.3576 609.905 Q96.2465 605.021 102.797 605.021 Q104.557 605.021 106.339 605.368 Q108.145 605.715 110.089 606.409 Z\" fill=\"#000000\" fill-rule=\"evenodd\" fill-opacity=\"1\" /><path clip-path=\"url(#clip440)\" d=\"M 0 0 M63.5152 320.884 Q59.9041 320.884 58.0754 324.448 Q56.2699 327.99 56.2699 335.12 Q56.2699 342.226 58.0754 345.791 Q59.9041 349.332 63.5152 349.332 Q67.1494 349.332 68.955 345.791 Q70.7837 342.226 70.7837 335.12 Q70.7837 327.99 68.955 324.448 Q67.1494 320.884 63.5152 320.884 M63.5152 317.18 Q69.3254 317.18 72.3809 321.786 Q75.4596 326.37 75.4596 335.12 Q75.4596 343.846 72.3809 348.453 Q69.3254 353.036 63.5152 353.036 Q57.7051 353.036 54.6264 348.453 Q51.5708 343.846 51.5708 335.12 Q51.5708 326.37 54.6264 321.786 Q57.7051 317.18 63.5152 317.18 Z\" fill=\"#000000\" fill-rule=\"evenodd\" fill-opacity=\"1\" /><path clip-path=\"url(#clip440)\" d=\"M 0 0 M80.529 346.485 L85.4132 346.485 L85.4132 352.365 L80.529 352.365 L80.529 346.485 Z\" fill=\"#000000\" fill-rule=\"evenodd\" fill-opacity=\"1\" /><path clip-path=\"url(#clip440)\" d=\"M 0 0 M100.483 335.953 Q97.1493 335.953 95.228 337.735 Q93.3299 339.518 93.3299 342.643 Q93.3299 345.768 95.228 347.55 Q97.1493 349.332 100.483 349.332 Q103.816 349.332 105.737 347.55 Q107.658 345.745 107.658 342.643 Q107.658 339.518 105.737 337.735 Q103.839 335.953 100.483 335.953 M95.8067 333.962 Q92.7975 333.221 91.1077 331.161 Q89.441 329.101 89.441 326.138 Q89.441 321.995 92.3808 319.587 Q95.3437 317.18 100.483 317.18 Q105.645 317.18 108.584 319.587 Q111.524 321.995 111.524 326.138 Q111.524 329.101 109.834 331.161 Q108.168 333.221 105.182 333.962 Q108.561 334.749 110.436 337.041 Q112.334 339.333 112.334 342.643 Q112.334 347.666 109.256 350.351 Q106.2 353.036 100.483 353.036 Q94.765 353.036 91.6864 350.351 Q88.6308 347.666 88.6308 342.643 Q88.6308 339.333 90.529 337.041 Q92.4271 334.749 95.8067 333.962 M94.0937 326.578 Q94.0937 329.263 95.7604 330.768 Q97.4502 332.272 100.483 332.272 Q103.492 332.272 105.182 330.768 Q106.895 329.263 106.895 326.578 Q106.895 323.893 105.182 322.388 Q103.492 320.884 100.483 320.884 Q97.4502 320.884 95.7604 322.388 Q94.0937 323.893 94.0937 326.578 Z\" fill=\"#000000\" fill-rule=\"evenodd\" fill-opacity=\"1\" /><path clip-path=\"url(#clip440)\" d=\"M 0 0 M55.4597 60.5889 L63.0985 60.5889 L63.0985 34.2233 L54.7884 35.89 L54.7884 31.6308 L63.0522 29.9641 L67.7281 29.9641 L67.7281 60.5889 L75.367 60.5889 L75.367 64.5241 L55.4597 64.5241 L55.4597 60.5889 Z\" fill=\"#000000\" fill-rule=\"evenodd\" fill-opacity=\"1\" /><path clip-path=\"url(#clip440)\" d=\"M 0 0 M80.4364 58.6445 L85.3206 58.6445 L85.3206 64.5241 L80.4364 64.5241 L80.4364 58.6445 Z\" fill=\"#000000\" fill-rule=\"evenodd\" fill-opacity=\"1\" /><path clip-path=\"url(#clip440)\" d=\"M 0 0 M100.39 33.0428 Q96.7789 33.0428 94.9502 36.6076 Q93.1447 40.1492 93.1447 47.2788 Q93.1447 54.3853 94.9502 57.9501 Q96.7789 61.4917 100.39 61.4917 Q104.024 61.4917 105.83 57.9501 Q107.658 54.3853 107.658 47.2788 Q107.658 40.1492 105.83 36.6076 Q104.024 33.0428 100.39 33.0428 M100.39 29.3391 Q106.2 29.3391 109.256 33.9456 Q112.334 38.5289 112.334 47.2788 Q112.334 56.0056 109.256 60.6121 Q106.2 65.1954 100.39 65.1954 Q94.5799 65.1954 91.5012 60.6121 Q88.4456 56.0056 88.4456 47.2788 Q88.4456 38.5289 91.5012 33.9456 Q94.5799 29.3391 100.39 29.3391 Z\" fill=\"#000000\" fill-rule=\"evenodd\" fill-opacity=\"1\" /><circle clip-path=\"url(#clip442)\" cx=\"1897.93\" cy=\"766.846\" r=\"14\" fill=\"#009af9\" fill-rule=\"evenodd\" fill-opacity=\"1\" stroke=\"#000000\" stroke-opacity=\"1\" stroke-width=\"3.2\"/>\n",
       "<circle clip-path=\"url(#clip442)\" cx=\"2267.22\" cy=\"766.846\" r=\"14\" fill=\"#009af9\" fill-rule=\"evenodd\" fill-opacity=\"1\" stroke=\"#000000\" stroke-opacity=\"1\" stroke-width=\"3.2\"/>\n",
       "<circle clip-path=\"url(#clip442)\" cx=\"1889.41\" cy=\"766.846\" r=\"14\" fill=\"#009af9\" fill-rule=\"evenodd\" fill-opacity=\"1\" stroke=\"#000000\" stroke-opacity=\"1\" stroke-width=\"3.2\"/>\n",
       "<circle clip-path=\"url(#clip442)\" cx=\"2228.9\" cy=\"766.846\" r=\"14\" fill=\"#009af9\" fill-rule=\"evenodd\" fill-opacity=\"1\" stroke=\"#000000\" stroke-opacity=\"1\" stroke-width=\"3.2\"/>\n",
       "<circle clip-path=\"url(#clip442)\" cx=\"494.494\" cy=\"766.846\" r=\"14\" fill=\"#009af9\" fill-rule=\"evenodd\" fill-opacity=\"1\" stroke=\"#000000\" stroke-opacity=\"1\" stroke-width=\"3.2\"/>\n",
       "<circle clip-path=\"url(#clip442)\" cx=\"1266.34\" cy=\"766.846\" r=\"14\" fill=\"#009af9\" fill-rule=\"evenodd\" fill-opacity=\"1\" stroke=\"#000000\" stroke-opacity=\"1\" stroke-width=\"3.2\"/>\n",
       "<circle clip-path=\"url(#clip442)\" cx=\"324.479\" cy=\"766.846\" r=\"14\" fill=\"#009af9\" fill-rule=\"evenodd\" fill-opacity=\"1\" stroke=\"#000000\" stroke-opacity=\"1\" stroke-width=\"3.2\"/>\n",
       "<circle clip-path=\"url(#clip442)\" cx=\"210.724\" cy=\"766.846\" r=\"14\" fill=\"#009af9\" fill-rule=\"evenodd\" fill-opacity=\"1\" stroke=\"#000000\" stroke-opacity=\"1\" stroke-width=\"3.2\"/>\n",
       "<circle clip-path=\"url(#clip442)\" cx=\"2238.4\" cy=\"766.846\" r=\"14\" fill=\"#009af9\" fill-rule=\"evenodd\" fill-opacity=\"1\" stroke=\"#000000\" stroke-opacity=\"1\" stroke-width=\"3.2\"/>\n",
       "<circle clip-path=\"url(#clip442)\" cx=\"1366.19\" cy=\"766.846\" r=\"14\" fill=\"#009af9\" fill-rule=\"evenodd\" fill-opacity=\"1\" stroke=\"#000000\" stroke-opacity=\"1\" stroke-width=\"3.2\"/>\n",
       "<circle clip-path=\"url(#clip442)\" cx=\"1172.27\" cy=\"766.846\" r=\"14\" fill=\"#009af9\" fill-rule=\"evenodd\" fill-opacity=\"1\" stroke=\"#000000\" stroke-opacity=\"1\" stroke-width=\"3.2\"/>\n",
       "<circle clip-path=\"url(#clip442)\" cx=\"802.596\" cy=\"766.846\" r=\"14\" fill=\"#009af9\" fill-rule=\"evenodd\" fill-opacity=\"1\" stroke=\"#000000\" stroke-opacity=\"1\" stroke-width=\"3.2\"/>\n",
       "<circle clip-path=\"url(#clip442)\" cx=\"821.748\" cy=\"766.846\" r=\"14\" fill=\"#009af9\" fill-rule=\"evenodd\" fill-opacity=\"1\" stroke=\"#000000\" stroke-opacity=\"1\" stroke-width=\"3.2\"/>\n",
       "<circle clip-path=\"url(#clip442)\" cx=\"356.583\" cy=\"766.846\" r=\"14\" fill=\"#009af9\" fill-rule=\"evenodd\" fill-opacity=\"1\" stroke=\"#000000\" stroke-opacity=\"1\" stroke-width=\"3.2\"/>\n",
       "<circle clip-path=\"url(#clip442)\" cx=\"2153.11\" cy=\"766.846\" r=\"14\" fill=\"#009af9\" fill-rule=\"evenodd\" fill-opacity=\"1\" stroke=\"#000000\" stroke-opacity=\"1\" stroke-width=\"3.2\"/>\n",
       "<circle clip-path=\"url(#clip442)\" cx=\"2100.46\" cy=\"766.846\" r=\"14\" fill=\"#009af9\" fill-rule=\"evenodd\" fill-opacity=\"1\" stroke=\"#000000\" stroke-opacity=\"1\" stroke-width=\"3.2\"/>\n",
       "<circle clip-path=\"url(#clip442)\" cx=\"1219.48\" cy=\"766.846\" r=\"14\" fill=\"#009af9\" fill-rule=\"evenodd\" fill-opacity=\"1\" stroke=\"#000000\" stroke-opacity=\"1\" stroke-width=\"3.2\"/>\n",
       "<circle clip-path=\"url(#clip442)\" cx=\"2287.92\" cy=\"766.846\" r=\"14\" fill=\"#009af9\" fill-rule=\"evenodd\" fill-opacity=\"1\" stroke=\"#000000\" stroke-opacity=\"1\" stroke-width=\"3.2\"/>\n",
       "<circle clip-path=\"url(#clip442)\" cx=\"1828.93\" cy=\"766.846\" r=\"14\" fill=\"#009af9\" fill-rule=\"evenodd\" fill-opacity=\"1\" stroke=\"#000000\" stroke-opacity=\"1\" stroke-width=\"3.2\"/>\n",
       "<circle clip-path=\"url(#clip442)\" cx=\"1066.15\" cy=\"766.846\" r=\"14\" fill=\"#009af9\" fill-rule=\"evenodd\" fill-opacity=\"1\" stroke=\"#000000\" stroke-opacity=\"1\" stroke-width=\"3.2\"/>\n",
       "<circle clip-path=\"url(#clip442)\" cx=\"1150.29\" cy=\"766.846\" r=\"14\" fill=\"#009af9\" fill-rule=\"evenodd\" fill-opacity=\"1\" stroke=\"#000000\" stroke-opacity=\"1\" stroke-width=\"3.2\"/>\n",
       "<circle clip-path=\"url(#clip442)\" cx=\"939.35\" cy=\"766.846\" r=\"14\" fill=\"#009af9\" fill-rule=\"evenodd\" fill-opacity=\"1\" stroke=\"#000000\" stroke-opacity=\"1\" stroke-width=\"3.2\"/>\n",
       "<circle clip-path=\"url(#clip442)\" cx=\"1018.17\" cy=\"766.846\" r=\"14\" fill=\"#009af9\" fill-rule=\"evenodd\" fill-opacity=\"1\" stroke=\"#000000\" stroke-opacity=\"1\" stroke-width=\"3.2\"/>\n",
       "<circle clip-path=\"url(#clip442)\" cx=\"1362.82\" cy=\"766.846\" r=\"14\" fill=\"#009af9\" fill-rule=\"evenodd\" fill-opacity=\"1\" stroke=\"#000000\" stroke-opacity=\"1\" stroke-width=\"3.2\"/>\n",
       "<circle clip-path=\"url(#clip442)\" cx=\"2290.37\" cy=\"766.846\" r=\"14\" fill=\"#009af9\" fill-rule=\"evenodd\" fill-opacity=\"1\" stroke=\"#000000\" stroke-opacity=\"1\" stroke-width=\"3.2\"/>\n",
       "<circle clip-path=\"url(#clip442)\" cx=\"1526.94\" cy=\"766.846\" r=\"14\" fill=\"#009af9\" fill-rule=\"evenodd\" fill-opacity=\"1\" stroke=\"#000000\" stroke-opacity=\"1\" stroke-width=\"3.2\"/>\n",
       "<circle clip-path=\"url(#clip442)\" cx=\"1674.84\" cy=\"766.846\" r=\"14\" fill=\"#009af9\" fill-rule=\"evenodd\" fill-opacity=\"1\" stroke=\"#000000\" stroke-opacity=\"1\" stroke-width=\"3.2\"/>\n",
       "<circle clip-path=\"url(#clip442)\" cx=\"896.31\" cy=\"766.846\" r=\"14\" fill=\"#009af9\" fill-rule=\"evenodd\" fill-opacity=\"1\" stroke=\"#000000\" stroke-opacity=\"1\" stroke-width=\"3.2\"/>\n",
       "<circle clip-path=\"url(#clip442)\" cx=\"635.925\" cy=\"766.846\" r=\"14\" fill=\"#009af9\" fill-rule=\"evenodd\" fill-opacity=\"1\" stroke=\"#000000\" stroke-opacity=\"1\" stroke-width=\"3.2\"/>\n",
       "<circle clip-path=\"url(#clip442)\" cx=\"1282.7\" cy=\"766.846\" r=\"14\" fill=\"#009af9\" fill-rule=\"evenodd\" fill-opacity=\"1\" stroke=\"#000000\" stroke-opacity=\"1\" stroke-width=\"3.2\"/>\n",
       "<circle clip-path=\"url(#clip442)\" cx=\"973.277\" cy=\"766.846\" r=\"14\" fill=\"#009af9\" fill-rule=\"evenodd\" fill-opacity=\"1\" stroke=\"#000000\" stroke-opacity=\"1\" stroke-width=\"3.2\"/>\n",
       "<circle clip-path=\"url(#clip442)\" cx=\"1917.39\" cy=\"766.846\" r=\"14\" fill=\"#009af9\" fill-rule=\"evenodd\" fill-opacity=\"1\" stroke=\"#000000\" stroke-opacity=\"1\" stroke-width=\"3.2\"/>\n",
       "<circle clip-path=\"url(#clip442)\" cx=\"665.717\" cy=\"766.846\" r=\"14\" fill=\"#009af9\" fill-rule=\"evenodd\" fill-opacity=\"1\" stroke=\"#000000\" stroke-opacity=\"1\" stroke-width=\"3.2\"/>\n",
       "<circle clip-path=\"url(#clip442)\" cx=\"1564.87\" cy=\"766.846\" r=\"14\" fill=\"#009af9\" fill-rule=\"evenodd\" fill-opacity=\"1\" stroke=\"#000000\" stroke-opacity=\"1\" stroke-width=\"3.2\"/>\n",
       "<circle clip-path=\"url(#clip442)\" cx=\"1945.99\" cy=\"766.846\" r=\"14\" fill=\"#009af9\" fill-rule=\"evenodd\" fill-opacity=\"1\" stroke=\"#000000\" stroke-opacity=\"1\" stroke-width=\"3.2\"/>\n",
       "<circle clip-path=\"url(#clip442)\" cx=\"1461.73\" cy=\"766.846\" r=\"14\" fill=\"#009af9\" fill-rule=\"evenodd\" fill-opacity=\"1\" stroke=\"#000000\" stroke-opacity=\"1\" stroke-width=\"3.2\"/>\n",
       "<circle clip-path=\"url(#clip442)\" cx=\"1923.02\" cy=\"766.846\" r=\"14\" fill=\"#009af9\" fill-rule=\"evenodd\" fill-opacity=\"1\" stroke=\"#000000\" stroke-opacity=\"1\" stroke-width=\"3.2\"/>\n",
       "<circle clip-path=\"url(#clip442)\" cx=\"358.715\" cy=\"766.846\" r=\"14\" fill=\"#009af9\" fill-rule=\"evenodd\" fill-opacity=\"1\" stroke=\"#000000\" stroke-opacity=\"1\" stroke-width=\"3.2\"/>\n",
       "<circle clip-path=\"url(#clip442)\" cx=\"1555.96\" cy=\"766.846\" r=\"14\" fill=\"#009af9\" fill-rule=\"evenodd\" fill-opacity=\"1\" stroke=\"#000000\" stroke-opacity=\"1\" stroke-width=\"3.2\"/>\n",
       "<circle clip-path=\"url(#clip442)\" cx=\"498.558\" cy=\"766.846\" r=\"14\" fill=\"#009af9\" fill-rule=\"evenodd\" fill-opacity=\"1\" stroke=\"#000000\" stroke-opacity=\"1\" stroke-width=\"3.2\"/>\n",
       "<circle clip-path=\"url(#clip442)\" cx=\"1296.47\" cy=\"766.846\" r=\"14\" fill=\"#009af9\" fill-rule=\"evenodd\" fill-opacity=\"1\" stroke=\"#000000\" stroke-opacity=\"1\" stroke-width=\"3.2\"/>\n",
       "<circle clip-path=\"url(#clip442)\" cx=\"1484.9\" cy=\"766.846\" r=\"14\" fill=\"#009af9\" fill-rule=\"evenodd\" fill-opacity=\"1\" stroke=\"#000000\" stroke-opacity=\"1\" stroke-width=\"3.2\"/>\n",
       "<circle clip-path=\"url(#clip442)\" cx=\"1175.1\" cy=\"766.846\" r=\"14\" fill=\"#009af9\" fill-rule=\"evenodd\" fill-opacity=\"1\" stroke=\"#000000\" stroke-opacity=\"1\" stroke-width=\"3.2\"/>\n",
       "<circle clip-path=\"url(#clip442)\" cx=\"1997.05\" cy=\"766.846\" r=\"14\" fill=\"#009af9\" fill-rule=\"evenodd\" fill-opacity=\"1\" stroke=\"#000000\" stroke-opacity=\"1\" stroke-width=\"3.2\"/>\n",
       "<circle clip-path=\"url(#clip442)\" cx=\"1606.91\" cy=\"766.846\" r=\"14\" fill=\"#009af9\" fill-rule=\"evenodd\" fill-opacity=\"1\" stroke=\"#000000\" stroke-opacity=\"1\" stroke-width=\"3.2\"/>\n",
       "<circle clip-path=\"url(#clip442)\" cx=\"2035.74\" cy=\"766.846\" r=\"14\" fill=\"#009af9\" fill-rule=\"evenodd\" fill-opacity=\"1\" stroke=\"#000000\" stroke-opacity=\"1\" stroke-width=\"3.2\"/>\n",
       "<circle clip-path=\"url(#clip442)\" cx=\"569.922\" cy=\"766.846\" r=\"14\" fill=\"#009af9\" fill-rule=\"evenodd\" fill-opacity=\"1\" stroke=\"#000000\" stroke-opacity=\"1\" stroke-width=\"3.2\"/>\n",
       "<circle clip-path=\"url(#clip442)\" cx=\"650.883\" cy=\"766.846\" r=\"14\" fill=\"#009af9\" fill-rule=\"evenodd\" fill-opacity=\"1\" stroke=\"#000000\" stroke-opacity=\"1\" stroke-width=\"3.2\"/>\n",
       "<circle clip-path=\"url(#clip442)\" cx=\"1903.29\" cy=\"766.846\" r=\"14\" fill=\"#009af9\" fill-rule=\"evenodd\" fill-opacity=\"1\" stroke=\"#000000\" stroke-opacity=\"1\" stroke-width=\"3.2\"/>\n",
       "<circle clip-path=\"url(#clip442)\" cx=\"1175.33\" cy=\"766.846\" r=\"14\" fill=\"#009af9\" fill-rule=\"evenodd\" fill-opacity=\"1\" stroke=\"#000000\" stroke-opacity=\"1\" stroke-width=\"3.2\"/>\n",
       "<circle clip-path=\"url(#clip442)\" cx=\"1106.38\" cy=\"766.846\" r=\"14\" fill=\"#009af9\" fill-rule=\"evenodd\" fill-opacity=\"1\" stroke=\"#000000\" stroke-opacity=\"1\" stroke-width=\"3.2\"/>\n",
       "<circle clip-path=\"url(#clip442)\" cx=\"1985.15\" cy=\"766.846\" r=\"14\" fill=\"#009af9\" fill-rule=\"evenodd\" fill-opacity=\"1\" stroke=\"#000000\" stroke-opacity=\"1\" stroke-width=\"3.2\"/>\n",
       "<circle clip-path=\"url(#clip442)\" cx=\"1613.61\" cy=\"766.846\" r=\"14\" fill=\"#009af9\" fill-rule=\"evenodd\" fill-opacity=\"1\" stroke=\"#000000\" stroke-opacity=\"1\" stroke-width=\"3.2\"/>\n",
       "<circle clip-path=\"url(#clip442)\" cx=\"478.763\" cy=\"766.846\" r=\"14\" fill=\"#009af9\" fill-rule=\"evenodd\" fill-opacity=\"1\" stroke=\"#000000\" stroke-opacity=\"1\" stroke-width=\"3.2\"/>\n",
       "<circle clip-path=\"url(#clip442)\" cx=\"1399.06\" cy=\"766.846\" r=\"14\" fill=\"#009af9\" fill-rule=\"evenodd\" fill-opacity=\"1\" stroke=\"#000000\" stroke-opacity=\"1\" stroke-width=\"3.2\"/>\n",
       "<circle clip-path=\"url(#clip442)\" cx=\"831.657\" cy=\"766.846\" r=\"14\" fill=\"#009af9\" fill-rule=\"evenodd\" fill-opacity=\"1\" stroke=\"#000000\" stroke-opacity=\"1\" stroke-width=\"3.2\"/>\n",
       "<circle clip-path=\"url(#clip442)\" cx=\"502.217\" cy=\"766.846\" r=\"14\" fill=\"#009af9\" fill-rule=\"evenodd\" fill-opacity=\"1\" stroke=\"#000000\" stroke-opacity=\"1\" stroke-width=\"3.2\"/>\n",
       "<circle clip-path=\"url(#clip442)\" cx=\"1683.03\" cy=\"766.846\" r=\"14\" fill=\"#009af9\" fill-rule=\"evenodd\" fill-opacity=\"1\" stroke=\"#000000\" stroke-opacity=\"1\" stroke-width=\"3.2\"/>\n",
       "<circle clip-path=\"url(#clip442)\" cx=\"1979.03\" cy=\"766.846\" r=\"14\" fill=\"#009af9\" fill-rule=\"evenodd\" fill-opacity=\"1\" stroke=\"#000000\" stroke-opacity=\"1\" stroke-width=\"3.2\"/>\n",
       "<circle clip-path=\"url(#clip442)\" cx=\"2010.88\" cy=\"766.846\" r=\"14\" fill=\"#009af9\" fill-rule=\"evenodd\" fill-opacity=\"1\" stroke=\"#000000\" stroke-opacity=\"1\" stroke-width=\"3.2\"/>\n",
       "<circle clip-path=\"url(#clip442)\" cx=\"710.369\" cy=\"766.846\" r=\"14\" fill=\"#009af9\" fill-rule=\"evenodd\" fill-opacity=\"1\" stroke=\"#000000\" stroke-opacity=\"1\" stroke-width=\"3.2\"/>\n",
       "<circle clip-path=\"url(#clip442)\" cx=\"764.8\" cy=\"766.846\" r=\"14\" fill=\"#009af9\" fill-rule=\"evenodd\" fill-opacity=\"1\" stroke=\"#000000\" stroke-opacity=\"1\" stroke-width=\"3.2\"/>\n",
       "<circle clip-path=\"url(#clip442)\" cx=\"890.871\" cy=\"766.846\" r=\"14\" fill=\"#009af9\" fill-rule=\"evenodd\" fill-opacity=\"1\" stroke=\"#000000\" stroke-opacity=\"1\" stroke-width=\"3.2\"/>\n",
       "<circle clip-path=\"url(#clip442)\" cx=\"1744.55\" cy=\"766.846\" r=\"14\" fill=\"#009af9\" fill-rule=\"evenodd\" fill-opacity=\"1\" stroke=\"#000000\" stroke-opacity=\"1\" stroke-width=\"3.2\"/>\n",
       "<circle clip-path=\"url(#clip442)\" cx=\"734.996\" cy=\"766.846\" r=\"14\" fill=\"#009af9\" fill-rule=\"evenodd\" fill-opacity=\"1\" stroke=\"#000000\" stroke-opacity=\"1\" stroke-width=\"3.2\"/>\n",
       "<circle clip-path=\"url(#clip442)\" cx=\"2211.01\" cy=\"766.846\" r=\"14\" fill=\"#009af9\" fill-rule=\"evenodd\" fill-opacity=\"1\" stroke=\"#000000\" stroke-opacity=\"1\" stroke-width=\"3.2\"/>\n",
       "<circle clip-path=\"url(#clip442)\" cx=\"600.481\" cy=\"766.846\" r=\"14\" fill=\"#009af9\" fill-rule=\"evenodd\" fill-opacity=\"1\" stroke=\"#000000\" stroke-opacity=\"1\" stroke-width=\"3.2\"/>\n",
       "<circle clip-path=\"url(#clip442)\" cx=\"1849.18\" cy=\"766.846\" r=\"14\" fill=\"#009af9\" fill-rule=\"evenodd\" fill-opacity=\"1\" stroke=\"#000000\" stroke-opacity=\"1\" stroke-width=\"3.2\"/>\n",
       "<circle clip-path=\"url(#clip442)\" cx=\"887.328\" cy=\"766.846\" r=\"14\" fill=\"#009af9\" fill-rule=\"evenodd\" fill-opacity=\"1\" stroke=\"#000000\" stroke-opacity=\"1\" stroke-width=\"3.2\"/>\n",
       "<circle clip-path=\"url(#clip442)\" cx=\"857.699\" cy=\"766.846\" r=\"14\" fill=\"#009af9\" fill-rule=\"evenodd\" fill-opacity=\"1\" stroke=\"#000000\" stroke-opacity=\"1\" stroke-width=\"3.2\"/>\n",
       "<circle clip-path=\"url(#clip442)\" cx=\"1649.87\" cy=\"766.846\" r=\"14\" fill=\"#009af9\" fill-rule=\"evenodd\" fill-opacity=\"1\" stroke=\"#000000\" stroke-opacity=\"1\" stroke-width=\"3.2\"/>\n",
       "<circle clip-path=\"url(#clip442)\" cx=\"465.945\" cy=\"766.846\" r=\"14\" fill=\"#009af9\" fill-rule=\"evenodd\" fill-opacity=\"1\" stroke=\"#000000\" stroke-opacity=\"1\" stroke-width=\"3.2\"/>\n",
       "<circle clip-path=\"url(#clip442)\" cx=\"2130.27\" cy=\"766.846\" r=\"14\" fill=\"#009af9\" fill-rule=\"evenodd\" fill-opacity=\"1\" stroke=\"#000000\" stroke-opacity=\"1\" stroke-width=\"3.2\"/>\n",
       "<circle clip-path=\"url(#clip442)\" cx=\"1726.96\" cy=\"766.846\" r=\"14\" fill=\"#009af9\" fill-rule=\"evenodd\" fill-opacity=\"1\" stroke=\"#000000\" stroke-opacity=\"1\" stroke-width=\"3.2\"/>\n",
       "<circle clip-path=\"url(#clip442)\" cx=\"1916.56\" cy=\"766.846\" r=\"14\" fill=\"#009af9\" fill-rule=\"evenodd\" fill-opacity=\"1\" stroke=\"#000000\" stroke-opacity=\"1\" stroke-width=\"3.2\"/>\n",
       "<circle clip-path=\"url(#clip442)\" cx=\"1469.93\" cy=\"766.846\" r=\"14\" fill=\"#009af9\" fill-rule=\"evenodd\" fill-opacity=\"1\" stroke=\"#000000\" stroke-opacity=\"1\" stroke-width=\"3.2\"/>\n",
       "<circle clip-path=\"url(#clip442)\" cx=\"2269.84\" cy=\"766.846\" r=\"14\" fill=\"#009af9\" fill-rule=\"evenodd\" fill-opacity=\"1\" stroke=\"#000000\" stroke-opacity=\"1\" stroke-width=\"3.2\"/>\n",
       "<circle clip-path=\"url(#clip442)\" cx=\"1010.12\" cy=\"766.846\" r=\"14\" fill=\"#009af9\" fill-rule=\"evenodd\" fill-opacity=\"1\" stroke=\"#000000\" stroke-opacity=\"1\" stroke-width=\"3.2\"/>\n",
       "<circle clip-path=\"url(#clip442)\" cx=\"1068.65\" cy=\"766.846\" r=\"14\" fill=\"#009af9\" fill-rule=\"evenodd\" fill-opacity=\"1\" stroke=\"#000000\" stroke-opacity=\"1\" stroke-width=\"3.2\"/>\n",
       "<circle clip-path=\"url(#clip442)\" cx=\"254.624\" cy=\"766.846\" r=\"14\" fill=\"#009af9\" fill-rule=\"evenodd\" fill-opacity=\"1\" stroke=\"#000000\" stroke-opacity=\"1\" stroke-width=\"3.2\"/>\n",
       "<circle clip-path=\"url(#clip442)\" cx=\"1574.66\" cy=\"766.846\" r=\"14\" fill=\"#009af9\" fill-rule=\"evenodd\" fill-opacity=\"1\" stroke=\"#000000\" stroke-opacity=\"1\" stroke-width=\"3.2\"/>\n",
       "<circle clip-path=\"url(#clip442)\" cx=\"369.037\" cy=\"766.846\" r=\"14\" fill=\"#009af9\" fill-rule=\"evenodd\" fill-opacity=\"1\" stroke=\"#000000\" stroke-opacity=\"1\" stroke-width=\"3.2\"/>\n",
       "<circle clip-path=\"url(#clip442)\" cx=\"550.171\" cy=\"766.846\" r=\"14\" fill=\"#009af9\" fill-rule=\"evenodd\" fill-opacity=\"1\" stroke=\"#000000\" stroke-opacity=\"1\" stroke-width=\"3.2\"/>\n",
       "<circle clip-path=\"url(#clip442)\" cx=\"466.758\" cy=\"766.846\" r=\"14\" fill=\"#009af9\" fill-rule=\"evenodd\" fill-opacity=\"1\" stroke=\"#000000\" stroke-opacity=\"1\" stroke-width=\"3.2\"/>\n",
       "<circle clip-path=\"url(#clip442)\" cx=\"1359.37\" cy=\"766.846\" r=\"14\" fill=\"#009af9\" fill-rule=\"evenodd\" fill-opacity=\"1\" stroke=\"#000000\" stroke-opacity=\"1\" stroke-width=\"3.2\"/>\n",
       "<circle clip-path=\"url(#clip442)\" cx=\"1325.43\" cy=\"766.846\" r=\"14\" fill=\"#009af9\" fill-rule=\"evenodd\" fill-opacity=\"1\" stroke=\"#000000\" stroke-opacity=\"1\" stroke-width=\"3.2\"/>\n",
       "<circle clip-path=\"url(#clip442)\" cx=\"1675.16\" cy=\"766.846\" r=\"14\" fill=\"#009af9\" fill-rule=\"evenodd\" fill-opacity=\"1\" stroke=\"#000000\" stroke-opacity=\"1\" stroke-width=\"3.2\"/>\n",
       "<circle clip-path=\"url(#clip442)\" cx=\"983.571\" cy=\"766.846\" r=\"14\" fill=\"#009af9\" fill-rule=\"evenodd\" fill-opacity=\"1\" stroke=\"#000000\" stroke-opacity=\"1\" stroke-width=\"3.2\"/>\n",
       "<circle clip-path=\"url(#clip442)\" cx=\"1654.92\" cy=\"766.846\" r=\"14\" fill=\"#009af9\" fill-rule=\"evenodd\" fill-opacity=\"1\" stroke=\"#000000\" stroke-opacity=\"1\" stroke-width=\"3.2\"/>\n",
       "<circle clip-path=\"url(#clip442)\" cx=\"297.981\" cy=\"766.846\" r=\"14\" fill=\"#009af9\" fill-rule=\"evenodd\" fill-opacity=\"1\" stroke=\"#000000\" stroke-opacity=\"1\" stroke-width=\"3.2\"/>\n",
       "<circle clip-path=\"url(#clip442)\" cx=\"464.329\" cy=\"766.846\" r=\"14\" fill=\"#009af9\" fill-rule=\"evenodd\" fill-opacity=\"1\" stroke=\"#000000\" stroke-opacity=\"1\" stroke-width=\"3.2\"/>\n",
       "<circle clip-path=\"url(#clip442)\" cx=\"832.376\" cy=\"766.846\" r=\"14\" fill=\"#009af9\" fill-rule=\"evenodd\" fill-opacity=\"1\" stroke=\"#000000\" stroke-opacity=\"1\" stroke-width=\"3.2\"/>\n",
       "<circle clip-path=\"url(#clip442)\" cx=\"2163.05\" cy=\"766.846\" r=\"14\" fill=\"#009af9\" fill-rule=\"evenodd\" fill-opacity=\"1\" stroke=\"#000000\" stroke-opacity=\"1\" stroke-width=\"3.2\"/>\n",
       "<circle clip-path=\"url(#clip442)\" cx=\"1196.05\" cy=\"766.846\" r=\"14\" fill=\"#009af9\" fill-rule=\"evenodd\" fill-opacity=\"1\" stroke=\"#000000\" stroke-opacity=\"1\" stroke-width=\"3.2\"/>\n",
       "<circle clip-path=\"url(#clip442)\" cx=\"671.916\" cy=\"766.846\" r=\"14\" fill=\"#009af9\" fill-rule=\"evenodd\" fill-opacity=\"1\" stroke=\"#000000\" stroke-opacity=\"1\" stroke-width=\"3.2\"/>\n",
       "<circle clip-path=\"url(#clip442)\" cx=\"1695.21\" cy=\"766.846\" r=\"14\" fill=\"#009af9\" fill-rule=\"evenodd\" fill-opacity=\"1\" stroke=\"#000000\" stroke-opacity=\"1\" stroke-width=\"3.2\"/>\n",
       "<circle clip-path=\"url(#clip442)\" cx=\"588.891\" cy=\"766.846\" r=\"14\" fill=\"#009af9\" fill-rule=\"evenodd\" fill-opacity=\"1\" stroke=\"#000000\" stroke-opacity=\"1\" stroke-width=\"3.2\"/>\n",
       "<circle clip-path=\"url(#clip442)\" cx=\"1428.34\" cy=\"766.846\" r=\"14\" fill=\"#009af9\" fill-rule=\"evenodd\" fill-opacity=\"1\" stroke=\"#000000\" stroke-opacity=\"1\" stroke-width=\"3.2\"/>\n",
       "<circle clip-path=\"url(#clip442)\" cx=\"2015.19\" cy=\"766.846\" r=\"14\" fill=\"#009af9\" fill-rule=\"evenodd\" fill-opacity=\"1\" stroke=\"#000000\" stroke-opacity=\"1\" stroke-width=\"3.2\"/>\n",
       "<circle clip-path=\"url(#clip442)\" cx=\"2008.48\" cy=\"766.846\" r=\"14\" fill=\"#009af9\" fill-rule=\"evenodd\" fill-opacity=\"1\" stroke=\"#000000\" stroke-opacity=\"1\" stroke-width=\"3.2\"/>\n",
       "<path clip-path=\"url(#clip440)\" d=\"\n",
       "M1983.32 216.178 L2279.28 216.178 L2279.28 95.2176 L1983.32 95.2176  Z\n",
       "  \" fill=\"#ffffff\" fill-rule=\"evenodd\" fill-opacity=\"1\"/>\n",
       "<polyline clip-path=\"url(#clip440)\" style=\"stroke:#000000; stroke-width:4; stroke-opacity:1; fill:none\" points=\"\n",
       "  1983.32,216.178 2279.28,216.178 2279.28,95.2176 1983.32,95.2176 1983.32,216.178 \n",
       "  \"/>\n",
       "<circle clip-path=\"url(#clip440)\" cx=\"2081.3\" cy=\"155.698\" r=\"23\" fill=\"#009af9\" fill-rule=\"evenodd\" fill-opacity=\"1\" stroke=\"#000000\" stroke-opacity=\"1\" stroke-width=\"5.12\"/>\n",
       "<path clip-path=\"url(#clip440)\" d=\"M 0 0 M2193.11 175.385 Q2191.31 180.015 2189.59 181.427 Q2187.88 182.839 2185.01 182.839 L2181.61 182.839 L2181.61 179.274 L2184.11 179.274 Q2185.87 179.274 2186.84 178.44 Q2187.81 177.607 2188.99 174.505 L2189.76 172.561 L2179.27 147.052 L2183.78 147.052 L2191.89 167.329 L2199.99 147.052 L2204.5 147.052 L2193.11 175.385 Z\" fill=\"#000000\" fill-rule=\"evenodd\" fill-opacity=\"1\" /><path clip-path=\"url(#clip440)\" d=\"M 0 0 M2210.38 169.042 L2218.02 169.042 L2218.02 142.677 L2209.71 144.343 L2209.71 140.084 L2217.97 138.418 L2222.65 138.418 L2222.65 169.042 L2230.29 169.042 L2230.29 172.978 L2210.38 172.978 L2210.38 169.042 Z\" fill=\"#000000\" fill-rule=\"evenodd\" fill-opacity=\"1\" /></svg>\n"
      ]
     },
     "execution_count": 34,
     "metadata": {},
     "output_type": "execute_result"
    }
   ],
   "source": [
    "scatter(r, 0.5 .* one.(r), ylim=(0,1))"
   ]
  },
  {
   "cell_type": "code",
   "execution_count": 35,
   "metadata": {},
   "outputs": [
    {
     "data": {
      "text/html": [
       "<script>\n",
       "// Immediately-invoked-function-expression to avoid global variables.\n",
       "(function() {\n",
       "    var warning_div = document.getElementById(\"webio-warning-12461224699422390548\");\n",
       "    var hide = function () {\n",
       "        var script = document.getElementById(\"webio-setup-7483321332472496021\");\n",
       "        var parent = script && script.parentElement;\n",
       "        var grandparent = parent && parent.parentElement;\n",
       "        if (grandparent) {\n",
       "            grandparent.style.display = \"none\";\n",
       "        }\n",
       "        warning_div.style.display = \"none\";\n",
       "    };\n",
       "    if (typeof Jupyter !== \"undefined\") {\n",
       "        console.log(\"WebIO detected Jupyter notebook environment.\");\n",
       "        // Jupyter notebook.\n",
       "        var extensions = (\n",
       "            Jupyter\n",
       "            && Jupyter.notebook.config.data\n",
       "            && Jupyter.notebook.config.data.load_extensions\n",
       "        );\n",
       "        if (extensions && extensions[\"webio-jupyter-notebook\"]) {\n",
       "            // Extension already loaded.\n",
       "            console.log(\"Jupyter WebIO nbextension detected; not loading ad-hoc.\");\n",
       "            hide();\n",
       "            return;\n",
       "        }\n",
       "    } else if (window.location.pathname.includes(\"/lab\")) {\n",
       "        // Guessing JupyterLa\n",
       "        console.log(\"Jupyter Lab detected; make sure the @webio/jupyter-lab-provider labextension is installed.\");\n",
       "        hide();\n",
       "        return;\n",
       "    }\n",
       "})();\n",
       "\n",
       "</script>\n",
       "<p\n",
       "    id=\"webio-warning-12461224699422390548\"\n",
       "    class=\"output_text output_stderr\"\n",
       "    style=\"padding: 1em; font-weight: bold;\"\n",
       ">\n",
       "    Unable to load WebIO. Please make sure WebIO works for your Jupyter client.\n",
       "    For troubleshooting, please see <a href=\"https://juliagizmos.github.io/WebIO.jl/latest/providers/ijulia/\">\n",
       "    the WebIO/IJulia documentation</a>.\n",
       "    <!-- TODO: link to installation docs. -->\n",
       "</p>\n"
      ],
      "text/plain": [
       "HTML{String}(\"<script>\\n// Immediately-invoked-function-expression to avoid global variables.\\n(function() {\\n    var warning_div = document.getElementById(\\\"webio-warning-12461224699422390548\\\");\\n    var hide = function () {\\n        var script = document.getElementById(\\\"webio-setup-7483321332472496021\\\");\\n        var parent = script && script.parentElement;\\n        var grandparent = parent && parent.parentElement;\\n        if (grandparent) {\\n            grandparent.style.display = \\\"none\\\";\\n        }\\n        warning_div.style.display = \\\"none\\\";\\n    };\\n    if (typeof Jupyter !== \\\"undefined\\\") {\\n        console.log(\\\"WebIO detected Jupyter notebook environment.\\\");\\n        // Jupyter notebook.\\n        var extensions = (\\n            Jupyter\\n            && Jupyter.notebook.config.data\\n            && Jupyter.notebook.config.data.load_extensions\\n        );\\n        if (extensions && extensions[\\\"webio-jupyter-notebook\\\"]) {\\n            // Extension already loaded.\\n            console.log(\\\"Jupyter WebIO nbextension detected; not loading ad-hoc.\\\");\\n            hide();\\n            return;\\n        }\\n    } else if (window.location.pathname.includes(\\\"/lab\\\")) {\\n        // Guessing JupyterLa\\n        console.log(\\\"Jupyter Lab detected; make sure the @webio/jupyter-lab-provider labextension is installed.\\\");\\n        hide();\\n        return;\\n    }\\n})();\\n\\n</script>\\n<p\\n    id=\\\"webio-warning-12461224699422390548\\\"\\n    class=\\\"output_text output_stderr\\\"\\n    style=\\\"padding: 1em; font-weight: bold;\\\"\\n>\\n    Unable to load WebIO. Please make sure WebIO works for your Jupyter client.\\n    For troubleshooting, please see <a href=\\\"https://juliagizmos.github.io/WebIO.jl/latest/providers/ijulia/\\\">\\n    the WebIO/IJulia documentation</a>.\\n    <!-- TODO: link to installation docs. -->\\n</p>\\n\")"
      ]
     },
     "metadata": {},
     "output_type": "display_data"
    }
   ],
   "source": [
    "using Interact"
   ]
  },
  {
   "cell_type": "code",
   "execution_count": 37,
   "metadata": {},
   "outputs": [
    {
     "data": {
      "application/vnd.webio.node+json": {
       "children": [
        {
         "children": [
          {
           "children": [
            {
             "children": [
              {
               "children": [
                {
                 "children": [
                  "n"
                 ],
                 "instanceArgs": {
                  "namespace": "html",
                  "tag": "label"
                 },
                 "nodeType": "DOM",
                 "props": {
                  "className": "interact ",
                  "style": {
                   "padding": "5px 10px 0px 10px"
                  }
                 },
                 "type": "node"
                }
               ],
               "instanceArgs": {
                "namespace": "html",
                "tag": "div"
               },
               "nodeType": "DOM",
               "props": {
                "className": "interact-flex-row-left"
               },
               "type": "node"
              },
              {
               "children": [
                {
                 "children": [],
                 "instanceArgs": {
                  "namespace": "html",
                  "tag": "input"
                 },
                 "nodeType": "DOM",
                 "props": {
                  "attributes": {
                   "data-bind": "numericValue: index, valueUpdate: 'input', event: {change: function (){this.changes(this.changes()+1)}}",
                   "orient": "horizontal",
                   "type": "range"
                  },
                  "className": "slider slider is-fullwidth",
                  "max": 100,
                  "min": 1,
                  "step": 1,
                  "style": {}
                 },
                 "type": "node"
                }
               ],
               "instanceArgs": {
                "namespace": "html",
                "tag": "div"
               },
               "nodeType": "DOM",
               "props": {
                "className": "interact-flex-row-center"
               },
               "type": "node"
              },
              {
               "children": [
                {
                 "children": [],
                 "instanceArgs": {
                  "namespace": "html",
                  "tag": "p"
                 },
                 "nodeType": "DOM",
                 "props": {
                  "attributes": {
                   "data-bind": "text: formatted_val"
                  }
                 },
                 "type": "node"
                }
               ],
               "instanceArgs": {
                "namespace": "html",
                "tag": "div"
               },
               "nodeType": "DOM",
               "props": {
                "className": "interact-flex-row-right"
               },
               "type": "node"
              }
             ],
             "instanceArgs": {
              "namespace": "html",
              "tag": "div"
             },
             "nodeType": "DOM",
             "props": {
              "className": "interact-flex-row interact-widget"
             },
             "type": "node"
            }
           ],
           "instanceArgs": {
            "handlers": {
             "changes": [
              "(function (val){return (val!=this.model[\"changes\"]()) ? (this.valueFromJulia[\"changes\"]=true, this.model[\"changes\"](val)) : undefined})"
             ],
             "index": [
              "(function (val){return (val!=this.model[\"index\"]()) ? (this.valueFromJulia[\"index\"]=true, this.model[\"index\"](val)) : undefined})"
             ]
            },
            "id": "817315128134509897",
            "imports": {
             "data": [
              {
               "name": "knockout",
               "type": "js",
               "url": "/assetserver/4e15ea8f38f5d33bf0b2930cb09c8089f78b114e-knockout.js"
              },
              {
               "name": "knockout_punches",
               "type": "js",
               "url": "/assetserver/6967e46b2259ea2e5c469b61c410326b52955db7-knockout_punches.js"
              },
              {
               "name": null,
               "type": "js",
               "url": "/assetserver/a643ec32b5fd67f0647ab1f378e6bc75a94bf7ef-all.js"
              },
              {
               "name": null,
               "type": "css",
               "url": "/assetserver/c4a428321098a6b37c6165665184ef1be8f91e08-style.css"
              },
              {
               "name": null,
               "type": "css",
               "url": "/assetserver/62690f06d5dfb4c711812ef88e307907ed9b059b-bulma_confined.min.css"
              }
             ],
             "type": "async_block"
            },
            "mount_callbacks": [
             "function () {\n    var handler = (function (ko, koPunches) {\n    ko.punches.enableAll();\n    ko.bindingHandlers.numericValue = {\n        init: function(element, valueAccessor, allBindings, data, context) {\n            var stringified = ko.observable(ko.unwrap(valueAccessor()));\n            stringified.subscribe(function(value) {\n                var val = parseFloat(value);\n                if (!isNaN(val)) {\n                    valueAccessor()(val);\n                }\n            });\n            valueAccessor().subscribe(function(value) {\n                var str = JSON.stringify(value);\n                if ((str == \"0\") && ([\"-0\", \"-0.\"].indexOf(stringified()) >= 0))\n                     return;\n                 if ([\"null\", \"\"].indexOf(str) >= 0)\n                     return;\n                stringified(str);\n            });\n            ko.applyBindingsToNode(\n                element,\n                {\n                    value: stringified,\n                    valueUpdate: allBindings.get('valueUpdate'),\n                },\n                context,\n            );\n        }\n    };\n    var json_data = {\"formatted_vals\":[\"1\",\"2\",\"3\",\"4\",\"5\",\"6\",\"7\",\"8\",\"9\",\"10\",\"11\",\"12\",\"13\",\"14\",\"15\",\"16\",\"17\",\"18\",\"19\",\"20\",\"21\",\"22\",\"23\",\"24\",\"25\",\"26\",\"27\",\"28\",\"29\",\"30\",\"31\",\"32\",\"33\",\"34\",\"35\",\"36\",\"37\",\"38\",\"39\",\"40\",\"41\",\"42\",\"43\",\"44\",\"45\",\"46\",\"47\",\"48\",\"49\",\"50\",\"51\",\"52\",\"53\",\"54\",\"55\",\"56\",\"57\",\"58\",\"59\",\"60\",\"61\",\"62\",\"63\",\"64\",\"65\",\"66\",\"67\",\"68\",\"69\",\"70\",\"71\",\"72\",\"73\",\"74\",\"75\",\"76\",\"77\",\"78\",\"79\",\"80\",\"81\",\"82\",\"83\",\"84\",\"85\",\"86\",\"87\",\"88\",\"89\",\"90\",\"91\",\"92\",\"93\",\"94\",\"95\",\"96\",\"97\",\"98\",\"99\",\"100\"],\"changes\":WebIO.getval({\"name\":\"changes\",\"scope\":\"817315128134509897\",\"id\":\"1242849836371122333\",\"type\":\"observable\"}),\"index\":WebIO.getval({\"name\":\"index\",\"scope\":\"817315128134509897\",\"id\":\"5689825914062061169\",\"type\":\"observable\"})};\n    var self = this;\n    function AppViewModel() {\n        for (var key in json_data) {\n            var el = json_data[key];\n            this[key] = Array.isArray(el) ? ko.observableArray(el) : ko.observable(el);\n        }\n        \n        [this[\"formatted_val\"]=ko.computed(    function(){\n        return this.formatted_vals()[parseInt(this.index())-(1)];\n    }\n,this)]\n        [this[\"changes\"].subscribe((function (val){!(this.valueFromJulia[\"changes\"]) ? (WebIO.setval({\"name\":\"changes\",\"scope\":\"817315128134509897\",\"id\":\"1242849836371122333\",\"type\":\"observable\"},val)) : undefined; return this.valueFromJulia[\"changes\"]=false}),self),this[\"index\"].subscribe((function (val){!(this.valueFromJulia[\"index\"]) ? (WebIO.setval({\"name\":\"index\",\"scope\":\"817315128134509897\",\"id\":\"5689825914062061169\",\"type\":\"observable\"},val)) : undefined; return this.valueFromJulia[\"index\"]=false}),self)]\n        \n    }\n    self.model = new AppViewModel();\n    self.valueFromJulia = {};\n    for (var key in json_data) {\n        self.valueFromJulia[key] = false;\n    }\n    ko.applyBindings(self.model, self.dom);\n}\n);\n    (WebIO.importBlock({\"data\":[{\"name\":\"knockout\",\"type\":\"js\",\"url\":\"/assetserver/4e15ea8f38f5d33bf0b2930cb09c8089f78b114e-knockout.js\"},{\"name\":\"knockout_punches\",\"type\":\"js\",\"url\":\"/assetserver/6967e46b2259ea2e5c469b61c410326b52955db7-knockout_punches.js\"}],\"type\":\"async_block\"})).then((imports) => handler.apply(this, imports));\n}\n"
            ],
            "observables": {
             "changes": {
              "id": "1242849836371122333",
              "sync": false,
              "value": 0
             },
             "index": {
              "id": "5689825914062061169",
              "sync": true,
              "value": 50
             }
            },
            "systemjs_options": null
           },
           "nodeType": "Scope",
           "props": {},
           "type": "node"
          }
         ],
         "instanceArgs": {
          "namespace": "html",
          "tag": "div"
         },
         "nodeType": "DOM",
         "props": {
          "className": "field interact-widget"
         },
         "type": "node"
        },
        {
         "children": [
          {
           "children": [],
           "instanceArgs": {
            "id": "7915036589278155652",
            "name": "obs-node"
           },
           "nodeType": "ObservableNode",
           "props": {},
           "type": "node"
          }
         ],
         "instanceArgs": {
          "handlers": {},
          "id": "10524807000948410453",
          "imports": {
           "data": [],
           "type": "async_block"
          },
          "mount_callbacks": [],
          "observables": {
           "obs-node": {
            "id": "7915036589278155652",
            "sync": false,
            "value": {
             "children": [
              {
               "children": [],
               "instanceArgs": {
                "namespace": "html",
                "tag": "div"
               },
               "nodeType": "DOM",
               "props": {
                "setInnerHtml": "<?xml version=\"1.0\" encoding=\"utf-8\"?>\n<svg xmlns=\"http://www.w3.org/2000/svg\" xmlns:xlink=\"http://www.w3.org/1999/xlink\" width=\"600\" height=\"400\" viewBox=\"0 0 2400 1600\">\n<defs>\n  <clipPath id=\"clip680\">\n    <rect x=\"0\" y=\"0\" width=\"2400\" height=\"1600\"/>\n  </clipPath>\n</defs>\n<path clip-path=\"url(#clip680)\" d=\"\nM0 1600 L2400 1600 L2400 0 L0 0  Z\n  \" fill=\"#ffffff\" fill-rule=\"evenodd\" fill-opacity=\"1\"/>\n<defs>\n  <clipPath id=\"clip681\">\n    <rect x=\"480\" y=\"0\" width=\"1681\" height=\"1600\"/>\n  </clipPath>\n</defs>\n<path clip-path=\"url(#clip680)\" d=\"\nM148.334 1486.45 L2352.76 1486.45 L2352.76 47.2441 L148.334 47.2441  Z\n  \" fill=\"#ffffff\" fill-rule=\"evenodd\" fill-opacity=\"1\"/>\n<defs>\n  <clipPath id=\"clip682\">\n    <rect x=\"148\" y=\"47\" width=\"2205\" height=\"1440\"/>\n  </clipPath>\n</defs>\n<polyline clip-path=\"url(#clip682)\" style=\"stroke:#000000; stroke-width:2; stroke-opacity:0.1; fill:none\" points=\"\n  148.334,1486.45 148.334,47.2441 \n  \"/>\n<polyline clip-path=\"url(#clip682)\" style=\"stroke:#000000; stroke-width:2; stroke-opacity:0.1; fill:none\" points=\"\n  589.219,1486.45 589.219,47.2441 \n  \"/>\n<polyline clip-path=\"url(#clip682)\" style=\"stroke:#000000; stroke-width:2; stroke-opacity:0.1; fill:none\" points=\"\n  1030.1,1486.45 1030.1,47.2441 \n  \"/>\n<polyline clip-path=\"url(#clip682)\" style=\"stroke:#000000; stroke-width:2; stroke-opacity:0.1; fill:none\" points=\"\n  1470.99,1486.45 1470.99,47.2441 \n  \"/>\n<polyline clip-path=\"url(#clip682)\" style=\"stroke:#000000; stroke-width:2; stroke-opacity:0.1; fill:none\" points=\"\n  1911.87,1486.45 1911.87,47.2441 \n  \"/>\n<polyline clip-path=\"url(#clip682)\" style=\"stroke:#000000; stroke-width:2; stroke-opacity:0.1; fill:none\" points=\"\n  2352.76,1486.45 2352.76,47.2441 \n  \"/>\n<polyline clip-path=\"url(#clip680)\" style=\"stroke:#000000; stroke-width:4; stroke-opacity:1; fill:none\" points=\"\n  148.334,1486.45 2352.76,1486.45 \n  \"/>\n<polyline clip-path=\"url(#clip680)\" style=\"stroke:#000000; stroke-width:4; stroke-opacity:1; fill:none\" points=\"\n  148.334,1486.45 148.334,1469.18 \n  \"/>\n<polyline clip-path=\"url(#clip680)\" style=\"stroke:#000000; stroke-width:4; stroke-opacity:1; fill:none\" points=\"\n  589.219,1486.45 589.219,1469.18 \n  \"/>\n<polyline clip-path=\"url(#clip680)\" style=\"stroke:#000000; stroke-width:4; stroke-opacity:1; fill:none\" points=\"\n  1030.1,1486.45 1030.1,1469.18 \n  \"/>\n<polyline clip-path=\"url(#clip680)\" style=\"stroke:#000000; stroke-width:4; stroke-opacity:1; fill:none\" points=\"\n  1470.99,1486.45 1470.99,1469.18 \n  \"/>\n<polyline clip-path=\"url(#clip680)\" style=\"stroke:#000000; stroke-width:4; stroke-opacity:1; fill:none\" points=\"\n  1911.87,1486.45 1911.87,1469.18 \n  \"/>\n<polyline clip-path=\"url(#clip680)\" style=\"stroke:#000000; stroke-width:4; stroke-opacity:1; fill:none\" points=\"\n  2352.76,1486.45 2352.76,1469.18 \n  \"/>\n<path clip-path=\"url(#clip680)\" d=\"M 0 0 M129.851 1515.64 Q126.24 1515.64 124.411 1519.2 Q122.605 1522.75 122.605 1529.87 Q122.605 1536.98 124.411 1540.55 Q126.24 1544.09 129.851 1544.09 Q133.485 1544.09 135.29 1540.55 Q137.119 1536.98 137.119 1529.87 Q137.119 1522.75 135.29 1519.2 Q133.485 1515.64 129.851 1515.64 M129.851 1511.93 Q135.661 1511.93 138.716 1516.54 Q141.795 1521.12 141.795 1529.87 Q141.795 1538.6 138.716 1543.21 Q135.661 1547.79 129.851 1547.79 Q124.041 1547.79 120.962 1543.21 Q117.906 1538.6 117.906 1529.87 Q117.906 1521.12 120.962 1516.54 Q124.041 1511.93 129.851 1511.93 Z\" fill=\"#000000\" fill-rule=\"evenodd\" fill-opacity=\"1\" /><path clip-path=\"url(#clip680)\" d=\"M 0 0 M146.864 1541.24 L151.749 1541.24 L151.749 1547.12 L146.864 1547.12 L146.864 1541.24 Z\" fill=\"#000000\" fill-rule=\"evenodd\" fill-opacity=\"1\" /><path clip-path=\"url(#clip680)\" d=\"M 0 0 M166.818 1515.64 Q163.207 1515.64 161.378 1519.2 Q159.573 1522.75 159.573 1529.87 Q159.573 1536.98 161.378 1540.55 Q163.207 1544.09 166.818 1544.09 Q170.452 1544.09 172.258 1540.55 Q174.087 1536.98 174.087 1529.87 Q174.087 1522.75 172.258 1519.2 Q170.452 1515.64 166.818 1515.64 M166.818 1511.93 Q172.628 1511.93 175.684 1516.54 Q178.762 1521.12 178.762 1529.87 Q178.762 1538.6 175.684 1543.21 Q172.628 1547.79 166.818 1547.79 Q161.008 1547.79 157.929 1543.21 Q154.874 1538.6 154.874 1529.87 Q154.874 1521.12 157.929 1516.54 Q161.008 1511.93 166.818 1511.93 Z\" fill=\"#000000\" fill-rule=\"evenodd\" fill-opacity=\"1\" /><path clip-path=\"url(#clip680)\" d=\"M 0 0 M571.534 1515.64 Q567.923 1515.64 566.094 1519.2 Q564.288 1522.75 564.288 1529.87 Q564.288 1536.98 566.094 1540.55 Q567.923 1544.09 571.534 1544.09 Q575.168 1544.09 576.973 1540.55 Q578.802 1536.98 578.802 1529.87 Q578.802 1522.75 576.973 1519.2 Q575.168 1515.64 571.534 1515.64 M571.534 1511.93 Q577.344 1511.93 580.399 1516.54 Q583.478 1521.12 583.478 1529.87 Q583.478 1538.6 580.399 1543.21 Q577.344 1547.79 571.534 1547.79 Q565.723 1547.79 562.645 1543.21 Q559.589 1538.6 559.589 1529.87 Q559.589 1521.12 562.645 1516.54 Q565.723 1511.93 571.534 1511.93 Z\" fill=\"#000000\" fill-rule=\"evenodd\" fill-opacity=\"1\" /><path clip-path=\"url(#clip680)\" d=\"M 0 0 M588.547 1541.24 L593.432 1541.24 L593.432 1547.12 L588.547 1547.12 L588.547 1541.24 Z\" fill=\"#000000\" fill-rule=\"evenodd\" fill-opacity=\"1\" /><path clip-path=\"url(#clip680)\" d=\"M 0 0 M602.529 1543.18 L618.848 1543.18 L618.848 1547.12 L596.904 1547.12 L596.904 1543.18 Q599.566 1540.43 604.149 1535.8 Q608.756 1531.15 609.936 1529.81 Q612.182 1527.28 613.061 1525.55 Q613.964 1523.79 613.964 1522.1 Q613.964 1519.34 612.019 1517.61 Q610.098 1515.87 606.996 1515.87 Q604.797 1515.87 602.344 1516.63 Q599.913 1517.4 597.135 1518.95 L597.135 1514.23 Q599.959 1513.09 602.413 1512.51 Q604.867 1511.93 606.904 1511.93 Q612.274 1511.93 615.469 1514.62 Q618.663 1517.31 618.663 1521.8 Q618.663 1523.93 617.853 1525.85 Q617.066 1527.74 614.959 1530.34 Q614.381 1531.01 611.279 1534.23 Q608.177 1537.42 602.529 1543.18 Z\" fill=\"#000000\" fill-rule=\"evenodd\" fill-opacity=\"1\" /><path clip-path=\"url(#clip680)\" d=\"M 0 0 M1011.38 1515.64 Q1007.77 1515.64 1005.94 1519.2 Q1004.13 1522.75 1004.13 1529.87 Q1004.13 1536.98 1005.94 1540.55 Q1007.77 1544.09 1011.38 1544.09 Q1015.01 1544.09 1016.82 1540.55 Q1018.64 1536.98 1018.64 1529.87 Q1018.64 1522.75 1016.82 1519.2 Q1015.01 1515.64 1011.38 1515.64 M1011.38 1511.93 Q1017.19 1511.93 1020.24 1516.54 Q1023.32 1521.12 1023.32 1529.87 Q1023.32 1538.6 1020.24 1543.21 Q1017.19 1547.79 1011.38 1547.79 Q1005.57 1547.79 1002.49 1543.21 Q999.432 1538.6 999.432 1529.87 Q999.432 1521.12 1002.49 1516.54 Q1005.57 1511.93 1011.38 1511.93 Z\" fill=\"#000000\" fill-rule=\"evenodd\" fill-opacity=\"1\" /><path clip-path=\"url(#clip680)\" d=\"M 0 0 M1028.39 1541.24 L1033.27 1541.24 L1033.27 1547.12 L1028.39 1547.12 L1028.39 1541.24 Z\" fill=\"#000000\" fill-rule=\"evenodd\" fill-opacity=\"1\" /><path clip-path=\"url(#clip680)\" d=\"M 0 0 M1051.19 1516.63 L1039.39 1535.08 L1051.19 1535.08 L1051.19 1516.63 M1049.96 1512.56 L1055.84 1512.56 L1055.84 1535.08 L1060.77 1535.08 L1060.77 1538.97 L1055.84 1538.97 L1055.84 1547.12 L1051.19 1547.12 L1051.19 1538.97 L1035.59 1538.97 L1035.59 1534.46 L1049.96 1512.56 Z\" fill=\"#000000\" fill-rule=\"evenodd\" fill-opacity=\"1\" /><path clip-path=\"url(#clip680)\" d=\"M 0 0 M1452.42 1515.64 Q1448.81 1515.64 1446.98 1519.2 Q1445.18 1522.75 1445.18 1529.87 Q1445.18 1536.98 1446.98 1540.55 Q1448.81 1544.09 1452.42 1544.09 Q1456.06 1544.09 1457.86 1540.55 Q1459.69 1536.98 1459.69 1529.87 Q1459.69 1522.75 1457.86 1519.2 Q1456.06 1515.64 1452.42 1515.64 M1452.42 1511.93 Q1458.23 1511.93 1461.29 1516.54 Q1464.37 1521.12 1464.37 1529.87 Q1464.37 1538.6 1461.29 1543.21 Q1458.23 1547.79 1452.42 1547.79 Q1446.61 1547.79 1443.53 1543.21 Q1440.48 1538.6 1440.48 1529.87 Q1440.48 1521.12 1443.53 1516.54 Q1446.61 1511.93 1452.42 1511.93 Z\" fill=\"#000000\" fill-rule=\"evenodd\" fill-opacity=\"1\" /><path clip-path=\"url(#clip680)\" d=\"M 0 0 M1469.44 1541.24 L1474.32 1541.24 L1474.32 1547.12 L1469.44 1547.12 L1469.44 1541.24 Z\" fill=\"#000000\" fill-rule=\"evenodd\" fill-opacity=\"1\" /><path clip-path=\"url(#clip680)\" d=\"M 0 0 M1489.97 1527.98 Q1486.82 1527.98 1484.97 1530.13 Q1483.14 1532.28 1483.14 1536.03 Q1483.14 1539.76 1484.97 1541.93 Q1486.82 1544.09 1489.97 1544.09 Q1493.12 1544.09 1494.95 1541.93 Q1496.8 1539.76 1496.8 1536.03 Q1496.8 1532.28 1494.95 1530.13 Q1493.12 1527.98 1489.97 1527.98 M1499.25 1513.32 L1499.25 1517.58 Q1497.49 1516.75 1495.69 1516.31 Q1493.9 1515.87 1492.14 1515.87 Q1487.51 1515.87 1485.06 1519 Q1482.63 1522.12 1482.28 1528.44 Q1483.65 1526.43 1485.71 1525.36 Q1487.77 1524.27 1490.25 1524.27 Q1495.45 1524.27 1498.46 1527.44 Q1501.5 1530.59 1501.5 1536.03 Q1501.5 1541.36 1498.35 1544.57 Q1495.2 1547.79 1489.97 1547.79 Q1483.97 1547.79 1480.8 1543.21 Q1477.63 1538.6 1477.63 1529.87 Q1477.63 1521.68 1481.52 1516.82 Q1485.41 1511.93 1491.96 1511.93 Q1493.72 1511.93 1495.5 1512.28 Q1497.31 1512.63 1499.25 1513.32 Z\" fill=\"#000000\" fill-rule=\"evenodd\" fill-opacity=\"1\" /><path clip-path=\"url(#clip680)\" d=\"M 0 0 M1893.43 1515.64 Q1889.82 1515.64 1887.99 1519.2 Q1886.19 1522.75 1886.19 1529.87 Q1886.19 1536.98 1887.99 1540.55 Q1889.82 1544.09 1893.43 1544.09 Q1897.07 1544.09 1898.87 1540.55 Q1900.7 1536.98 1900.7 1529.87 Q1900.7 1522.75 1898.87 1519.2 Q1897.07 1515.64 1893.43 1515.64 M1893.43 1511.93 Q1899.24 1511.93 1902.3 1516.54 Q1905.38 1521.12 1905.38 1529.87 Q1905.38 1538.6 1902.3 1543.21 Q1899.24 1547.79 1893.43 1547.79 Q1887.62 1547.79 1884.55 1543.21 Q1881.49 1538.6 1881.49 1529.87 Q1881.49 1521.12 1884.55 1516.54 Q1887.62 1511.93 1893.43 1511.93 Z\" fill=\"#000000\" fill-rule=\"evenodd\" fill-opacity=\"1\" /><path clip-path=\"url(#clip680)\" d=\"M 0 0 M1910.45 1541.24 L1915.33 1541.24 L1915.33 1547.12 L1910.45 1547.12 L1910.45 1541.24 Z\" fill=\"#000000\" fill-rule=\"evenodd\" fill-opacity=\"1\" /><path clip-path=\"url(#clip680)\" d=\"M 0 0 M1930.4 1530.71 Q1927.07 1530.71 1925.15 1532.49 Q1923.25 1534.27 1923.25 1537.4 Q1923.25 1540.52 1925.15 1542.31 Q1927.07 1544.09 1930.4 1544.09 Q1933.73 1544.09 1935.66 1542.31 Q1937.58 1540.5 1937.58 1537.4 Q1937.58 1534.27 1935.66 1532.49 Q1933.76 1530.71 1930.4 1530.71 M1925.73 1528.72 Q1922.72 1527.98 1921.03 1525.92 Q1919.36 1523.86 1919.36 1520.89 Q1919.36 1516.75 1922.3 1514.34 Q1925.26 1511.93 1930.4 1511.93 Q1935.56 1511.93 1938.5 1514.34 Q1941.44 1516.75 1941.44 1520.89 Q1941.44 1523.86 1939.75 1525.92 Q1938.09 1527.98 1935.1 1528.72 Q1938.48 1529.5 1940.36 1531.8 Q1942.25 1534.09 1942.25 1537.4 Q1942.25 1542.42 1939.17 1545.11 Q1936.12 1547.79 1930.4 1547.79 Q1924.68 1547.79 1921.61 1545.11 Q1918.55 1542.42 1918.55 1537.4 Q1918.55 1534.09 1920.45 1531.8 Q1922.35 1529.5 1925.73 1528.72 M1924.01 1521.33 Q1924.01 1524.02 1925.68 1525.52 Q1927.37 1527.03 1930.4 1527.03 Q1933.41 1527.03 1935.1 1525.52 Q1936.81 1524.02 1936.81 1521.33 Q1936.81 1518.65 1935.1 1517.14 Q1933.41 1515.64 1930.4 1515.64 Q1927.37 1515.64 1925.68 1517.14 Q1924.01 1518.65 1924.01 1521.33 Z\" fill=\"#000000\" fill-rule=\"evenodd\" fill-opacity=\"1\" /><path clip-path=\"url(#clip680)\" d=\"M 0 0 M2324.65 1543.18 L2332.29 1543.18 L2332.29 1516.82 L2323.98 1518.49 L2323.98 1514.23 L2332.25 1512.56 L2336.92 1512.56 L2336.92 1543.18 L2344.56 1543.18 L2344.56 1547.12 L2324.65 1547.12 L2324.65 1543.18 Z\" fill=\"#000000\" fill-rule=\"evenodd\" fill-opacity=\"1\" /><path clip-path=\"url(#clip680)\" d=\"M 0 0 M2349.63 1541.24 L2354.52 1541.24 L2354.52 1547.12 L2349.63 1547.12 L2349.63 1541.24 Z\" fill=\"#000000\" fill-rule=\"evenodd\" fill-opacity=\"1\" /><path clip-path=\"url(#clip680)\" d=\"M 0 0 M2369.58 1515.64 Q2365.97 1515.64 2364.14 1519.2 Q2362.34 1522.75 2362.34 1529.87 Q2362.34 1536.98 2364.14 1540.55 Q2365.97 1544.09 2369.58 1544.09 Q2373.22 1544.09 2375.02 1540.55 Q2376.85 1536.98 2376.85 1529.87 Q2376.85 1522.75 2375.02 1519.2 Q2373.22 1515.64 2369.58 1515.64 M2369.58 1511.93 Q2375.39 1511.93 2378.45 1516.54 Q2381.53 1521.12 2381.53 1529.87 Q2381.53 1538.6 2378.45 1543.21 Q2375.39 1547.79 2369.58 1547.79 Q2363.77 1547.79 2360.7 1543.21 Q2357.64 1538.6 2357.64 1529.87 Q2357.64 1521.12 2360.7 1516.54 Q2363.77 1511.93 2369.58 1511.93 Z\" fill=\"#000000\" fill-rule=\"evenodd\" fill-opacity=\"1\" /><polyline clip-path=\"url(#clip682)\" style=\"stroke:#000000; stroke-width:2; stroke-opacity:0.1; fill:none\" points=\"\n  148.334,1486.45 2352.76,1486.45 \n  \"/>\n<polyline clip-path=\"url(#clip682)\" style=\"stroke:#000000; stroke-width:2; stroke-opacity:0.1; fill:none\" points=\"\n  148.334,1198.61 2352.76,1198.61 \n  \"/>\n<polyline clip-path=\"url(#clip682)\" style=\"stroke:#000000; stroke-width:2; stroke-opacity:0.1; fill:none\" points=\"\n  148.334,910.766 2352.76,910.766 \n  \"/>\n<polyline clip-path=\"url(#clip682)\" style=\"stroke:#000000; stroke-width:2; stroke-opacity:0.1; fill:none\" points=\"\n  148.334,622.926 2352.76,622.926 \n  \"/>\n<polyline clip-path=\"url(#clip682)\" style=\"stroke:#000000; stroke-width:2; stroke-opacity:0.1; fill:none\" points=\"\n  148.334,335.085 2352.76,335.085 \n  \"/>\n<polyline clip-path=\"url(#clip682)\" style=\"stroke:#000000; stroke-width:2; stroke-opacity:0.1; fill:none\" points=\"\n  148.334,47.2441 2352.76,47.2441 \n  \"/>\n<polyline clip-path=\"url(#clip680)\" style=\"stroke:#000000; stroke-width:4; stroke-opacity:1; fill:none\" points=\"\n  148.334,1486.45 148.334,47.2441 \n  \"/>\n<polyline clip-path=\"url(#clip680)\" style=\"stroke:#000000; stroke-width:4; stroke-opacity:1; fill:none\" points=\"\n  148.334,1486.45 174.787,1486.45 \n  \"/>\n<polyline clip-path=\"url(#clip680)\" style=\"stroke:#000000; stroke-width:4; stroke-opacity:1; fill:none\" points=\"\n  148.334,1198.61 174.787,1198.61 \n  \"/>\n<polyline clip-path=\"url(#clip680)\" style=\"stroke:#000000; stroke-width:4; stroke-opacity:1; fill:none\" points=\"\n  148.334,910.766 174.787,910.766 \n  \"/>\n<polyline clip-path=\"url(#clip680)\" style=\"stroke:#000000; stroke-width:4; stroke-opacity:1; fill:none\" points=\"\n  148.334,622.926 174.787,622.926 \n  \"/>\n<polyline clip-path=\"url(#clip680)\" style=\"stroke:#000000; stroke-width:4; stroke-opacity:1; fill:none\" points=\"\n  148.334,335.085 174.787,335.085 \n  \"/>\n<polyline clip-path=\"url(#clip680)\" style=\"stroke:#000000; stroke-width:4; stroke-opacity:1; fill:none\" points=\"\n  148.334,47.2441 174.787,47.2441 \n  \"/>\n<path clip-path=\"url(#clip680)\" d=\"M 0 0 M63.4226 1472.25 Q59.8115 1472.25 57.9828 1475.81 Q56.1773 1479.35 56.1773 1486.48 Q56.1773 1493.59 57.9828 1497.15 Q59.8115 1500.7 63.4226 1500.7 Q67.0569 1500.7 68.8624 1497.15 Q70.6911 1493.59 70.6911 1486.48 Q70.6911 1479.35 68.8624 1475.81 Q67.0569 1472.25 63.4226 1472.25 M63.4226 1468.54 Q69.2328 1468.54 72.2883 1473.15 Q75.367 1477.73 75.367 1486.48 Q75.367 1495.21 72.2883 1499.82 Q69.2328 1504.4 63.4226 1504.4 Q57.6125 1504.4 54.5338 1499.82 Q51.4782 1495.21 51.4782 1486.48 Q51.4782 1477.73 54.5338 1473.15 Q57.6125 1468.54 63.4226 1468.54 Z\" fill=\"#000000\" fill-rule=\"evenodd\" fill-opacity=\"1\" /><path clip-path=\"url(#clip680)\" d=\"M 0 0 M80.4364 1497.85 L85.3206 1497.85 L85.3206 1503.73 L80.4364 1503.73 L80.4364 1497.85 Z\" fill=\"#000000\" fill-rule=\"evenodd\" fill-opacity=\"1\" /><path clip-path=\"url(#clip680)\" d=\"M 0 0 M100.39 1472.25 Q96.7789 1472.25 94.9502 1475.81 Q93.1447 1479.35 93.1447 1486.48 Q93.1447 1493.59 94.9502 1497.15 Q96.7789 1500.7 100.39 1500.7 Q104.024 1500.7 105.83 1497.15 Q107.658 1493.59 107.658 1486.48 Q107.658 1479.35 105.83 1475.81 Q104.024 1472.25 100.39 1472.25 M100.39 1468.54 Q106.2 1468.54 109.256 1473.15 Q112.334 1477.73 112.334 1486.48 Q112.334 1495.21 109.256 1499.82 Q106.2 1504.4 100.39 1504.4 Q94.5799 1504.4 91.5012 1499.82 Q88.4456 1495.21 88.4456 1486.48 Q88.4456 1477.73 91.5012 1473.15 Q94.5799 1468.54 100.39 1468.54 Z\" fill=\"#000000\" fill-rule=\"evenodd\" fill-opacity=\"1\" /><path clip-path=\"url(#clip680)\" d=\"M 0 0 M65.0198 1184.41 Q61.4087 1184.41 59.58 1187.97 Q57.7745 1191.51 57.7745 1198.64 Q57.7745 1205.75 59.58 1209.31 Q61.4087 1212.85 65.0198 1212.85 Q68.6541 1212.85 70.4596 1209.31 Q72.2883 1205.75 72.2883 1198.64 Q72.2883 1191.51 70.4596 1187.97 Q68.6541 1184.41 65.0198 1184.41 M65.0198 1180.7 Q70.83 1180.7 73.8855 1185.31 Q76.9642 1189.89 76.9642 1198.64 Q76.9642 1207.37 73.8855 1211.98 Q70.83 1216.56 65.0198 1216.56 Q59.2097 1216.56 56.131 1211.98 Q53.0754 1207.37 53.0754 1198.64 Q53.0754 1189.89 56.131 1185.31 Q59.2097 1180.7 65.0198 1180.7 Z\" fill=\"#000000\" fill-rule=\"evenodd\" fill-opacity=\"1\" /><path clip-path=\"url(#clip680)\" d=\"M 0 0 M82.0336 1210.01 L86.9179 1210.01 L86.9179 1215.89 L82.0336 1215.89 L82.0336 1210.01 Z\" fill=\"#000000\" fill-rule=\"evenodd\" fill-opacity=\"1\" /><path clip-path=\"url(#clip680)\" d=\"M 0 0 M96.015 1211.95 L112.334 1211.95 L112.334 1215.89 L90.3901 1215.89 L90.3901 1211.95 Q93.0521 1209.2 97.6354 1204.57 Q102.242 1199.91 103.422 1198.57 Q105.668 1196.05 106.547 1194.31 Q107.45 1192.55 107.45 1190.86 Q107.45 1188.11 105.506 1186.37 Q103.584 1184.64 100.483 1184.64 Q98.2835 1184.64 95.8298 1185.4 Q93.3993 1186.17 90.6215 1187.72 L90.6215 1182.99 Q93.4456 1181.86 95.8993 1181.28 Q98.353 1180.7 100.39 1180.7 Q105.76 1180.7 108.955 1183.39 Q112.149 1186.07 112.149 1190.56 Q112.149 1192.69 111.339 1194.61 Q110.552 1196.51 108.446 1199.1 Q107.867 1199.78 104.765 1202.99 Q101.663 1206.19 96.015 1211.95 Z\" fill=\"#000000\" fill-rule=\"evenodd\" fill-opacity=\"1\" /><path clip-path=\"url(#clip680)\" d=\"M 0 0 M62.9365 896.565 Q59.3254 896.565 57.4967 900.13 Q55.6912 903.671 55.6912 910.801 Q55.6912 917.908 57.4967 921.472 Q59.3254 925.014 62.9365 925.014 Q66.5707 925.014 68.3763 921.472 Q70.205 917.908 70.205 910.801 Q70.205 903.671 68.3763 900.13 Q66.5707 896.565 62.9365 896.565 M62.9365 892.861 Q68.7467 892.861 71.8022 897.468 Q74.8809 902.051 74.8809 910.801 Q74.8809 919.528 71.8022 924.134 Q68.7467 928.718 62.9365 928.718 Q57.1264 928.718 54.0477 924.134 Q50.9921 919.528 50.9921 910.801 Q50.9921 902.051 54.0477 897.468 Q57.1264 892.861 62.9365 892.861 Z\" fill=\"#000000\" fill-rule=\"evenodd\" fill-opacity=\"1\" /><path clip-path=\"url(#clip680)\" d=\"M 0 0 M79.9503 922.167 L84.8345 922.167 L84.8345 928.046 L79.9503 928.046 L79.9503 922.167 Z\" fill=\"#000000\" fill-rule=\"evenodd\" fill-opacity=\"1\" /><path clip-path=\"url(#clip680)\" d=\"M 0 0 M102.751 897.56 L90.9456 916.009 L102.751 916.009 L102.751 897.56 M101.524 893.486 L107.404 893.486 L107.404 916.009 L112.334 916.009 L112.334 919.898 L107.404 919.898 L107.404 928.046 L102.751 928.046 L102.751 919.898 L87.1493 919.898 L87.1493 915.384 L101.524 893.486 Z\" fill=\"#000000\" fill-rule=\"evenodd\" fill-opacity=\"1\" /><path clip-path=\"url(#clip680)\" d=\"M 0 0 M63.2606 608.724 Q59.6495 608.724 57.8208 612.289 Q56.0152 615.831 56.0152 622.96 Q56.0152 630.067 57.8208 633.632 Q59.6495 637.173 63.2606 637.173 Q66.8948 637.173 68.7004 633.632 Q70.5291 630.067 70.5291 622.96 Q70.5291 615.831 68.7004 612.289 Q66.8948 608.724 63.2606 608.724 M63.2606 605.021 Q69.0707 605.021 72.1263 609.627 Q75.205 614.21 75.205 622.96 Q75.205 631.687 72.1263 636.294 Q69.0707 640.877 63.2606 640.877 Q57.4504 640.877 54.3717 636.294 Q51.3162 631.687 51.3162 622.96 Q51.3162 614.21 54.3717 609.627 Q57.4504 605.021 63.2606 605.021 Z\" fill=\"#000000\" fill-rule=\"evenodd\" fill-opacity=\"1\" /><path clip-path=\"url(#clip680)\" d=\"M 0 0 M80.2744 634.326 L85.1586 634.326 L85.1586 640.206 L80.2744 640.206 L80.2744 634.326 Z\" fill=\"#000000\" fill-rule=\"evenodd\" fill-opacity=\"1\" /><path clip-path=\"url(#clip680)\" d=\"M 0 0 M100.807 621.062 Q97.6585 621.062 95.8067 623.215 Q93.978 625.368 93.978 629.118 Q93.978 632.845 95.8067 635.02 Q97.6585 637.173 100.807 637.173 Q103.955 637.173 105.783 635.02 Q107.635 632.845 107.635 629.118 Q107.635 625.368 105.783 623.215 Q103.955 621.062 100.807 621.062 M110.089 606.409 L110.089 610.669 Q108.33 609.835 106.524 609.396 Q104.742 608.956 102.983 608.956 Q98.353 608.956 95.8993 612.081 Q93.4688 615.206 93.1215 621.525 Q94.4873 619.511 96.5474 618.446 Q98.6076 617.359 101.084 617.359 Q106.293 617.359 109.302 620.53 Q112.334 623.678 112.334 629.118 Q112.334 634.442 109.186 637.659 Q106.038 640.877 100.807 640.877 Q94.8113 640.877 91.6401 636.294 Q88.4688 631.687 88.4688 622.96 Q88.4688 614.766 92.3576 609.905 Q96.2465 605.021 102.797 605.021 Q104.557 605.021 106.339 605.368 Q108.145 605.715 110.089 606.409 Z\" fill=\"#000000\" fill-rule=\"evenodd\" fill-opacity=\"1\" /><path clip-path=\"url(#clip680)\" d=\"M 0 0 M63.5152 320.884 Q59.9041 320.884 58.0754 324.448 Q56.2699 327.99 56.2699 335.12 Q56.2699 342.226 58.0754 345.791 Q59.9041 349.332 63.5152 349.332 Q67.1494 349.332 68.955 345.791 Q70.7837 342.226 70.7837 335.12 Q70.7837 327.99 68.955 324.448 Q67.1494 320.884 63.5152 320.884 M63.5152 317.18 Q69.3254 317.18 72.3809 321.786 Q75.4596 326.37 75.4596 335.12 Q75.4596 343.846 72.3809 348.453 Q69.3254 353.036 63.5152 353.036 Q57.7051 353.036 54.6264 348.453 Q51.5708 343.846 51.5708 335.12 Q51.5708 326.37 54.6264 321.786 Q57.7051 317.18 63.5152 317.18 Z\" fill=\"#000000\" fill-rule=\"evenodd\" fill-opacity=\"1\" /><path clip-path=\"url(#clip680)\" d=\"M 0 0 M80.529 346.485 L85.4132 346.485 L85.4132 352.365 L80.529 352.365 L80.529 346.485 Z\" fill=\"#000000\" fill-rule=\"evenodd\" fill-opacity=\"1\" /><path clip-path=\"url(#clip680)\" d=\"M 0 0 M100.483 335.953 Q97.1493 335.953 95.228 337.735 Q93.3299 339.518 93.3299 342.643 Q93.3299 345.768 95.228 347.55 Q97.1493 349.332 100.483 349.332 Q103.816 349.332 105.737 347.55 Q107.658 345.745 107.658 342.643 Q107.658 339.518 105.737 337.735 Q103.839 335.953 100.483 335.953 M95.8067 333.962 Q92.7975 333.221 91.1077 331.161 Q89.441 329.101 89.441 326.138 Q89.441 321.995 92.3808 319.587 Q95.3437 317.18 100.483 317.18 Q105.645 317.18 108.584 319.587 Q111.524 321.995 111.524 326.138 Q111.524 329.101 109.834 331.161 Q108.168 333.221 105.182 333.962 Q108.561 334.749 110.436 337.041 Q112.334 339.333 112.334 342.643 Q112.334 347.666 109.256 350.351 Q106.2 353.036 100.483 353.036 Q94.765 353.036 91.6864 350.351 Q88.6308 347.666 88.6308 342.643 Q88.6308 339.333 90.529 337.041 Q92.4271 334.749 95.8067 333.962 M94.0937 326.578 Q94.0937 329.263 95.7604 330.768 Q97.4502 332.272 100.483 332.272 Q103.492 332.272 105.182 330.768 Q106.895 329.263 106.895 326.578 Q106.895 323.893 105.182 322.388 Q103.492 320.884 100.483 320.884 Q97.4502 320.884 95.7604 322.388 Q94.0937 323.893 94.0937 326.578 Z\" fill=\"#000000\" fill-rule=\"evenodd\" fill-opacity=\"1\" /><path clip-path=\"url(#clip680)\" d=\"M 0 0 M55.4597 60.5889 L63.0985 60.5889 L63.0985 34.2233 L54.7884 35.89 L54.7884 31.6308 L63.0522 29.9641 L67.7281 29.9641 L67.7281 60.5889 L75.367 60.5889 L75.367 64.5241 L55.4597 64.5241 L55.4597 60.5889 Z\" fill=\"#000000\" fill-rule=\"evenodd\" fill-opacity=\"1\" /><path clip-path=\"url(#clip680)\" d=\"M 0 0 M80.4364 58.6445 L85.3206 58.6445 L85.3206 64.5241 L80.4364 64.5241 L80.4364 58.6445 Z\" fill=\"#000000\" fill-rule=\"evenodd\" fill-opacity=\"1\" /><path clip-path=\"url(#clip680)\" d=\"M 0 0 M100.39 33.0428 Q96.7789 33.0428 94.9502 36.6076 Q93.1447 40.1492 93.1447 47.2788 Q93.1447 54.3853 94.9502 57.9501 Q96.7789 61.4917 100.39 61.4917 Q104.024 61.4917 105.83 57.9501 Q107.658 54.3853 107.658 47.2788 Q107.658 40.1492 105.83 36.6076 Q104.024 33.0428 100.39 33.0428 M100.39 29.3391 Q106.2 29.3391 109.256 33.9456 Q112.334 38.5289 112.334 47.2788 Q112.334 56.0056 109.256 60.6121 Q106.2 65.1954 100.39 65.1954 Q94.5799 65.1954 91.5012 60.6121 Q88.4456 56.0056 88.4456 47.2788 Q88.4456 38.5289 91.5012 33.9456 Q94.5799 29.3391 100.39 29.3391 Z\" fill=\"#000000\" fill-rule=\"evenodd\" fill-opacity=\"1\" /><circle clip-path=\"url(#clip682)\" cx=\"919.281\" cy=\"766.846\" r=\"14\" fill=\"#009af9\" fill-rule=\"evenodd\" fill-opacity=\"1\" stroke=\"#000000\" stroke-opacity=\"1\" stroke-width=\"3.2\"/>\n<circle clip-path=\"url(#clip682)\" cx=\"1165.28\" cy=\"766.846\" r=\"14\" fill=\"#009af9\" fill-rule=\"evenodd\" fill-opacity=\"1\" stroke=\"#000000\" stroke-opacity=\"1\" stroke-width=\"3.2\"/>\n<circle clip-path=\"url(#clip682)\" cx=\"1018.4\" cy=\"766.846\" r=\"14\" fill=\"#009af9\" fill-rule=\"evenodd\" fill-opacity=\"1\" stroke=\"#000000\" stroke-opacity=\"1\" stroke-width=\"3.2\"/>\n<circle clip-path=\"url(#clip682)\" cx=\"614.654\" cy=\"766.846\" r=\"14\" fill=\"#009af9\" fill-rule=\"evenodd\" fill-opacity=\"1\" stroke=\"#000000\" stroke-opacity=\"1\" stroke-width=\"3.2\"/>\n<circle clip-path=\"url(#clip682)\" cx=\"186.63\" cy=\"766.846\" r=\"14\" fill=\"#009af9\" fill-rule=\"evenodd\" fill-opacity=\"1\" stroke=\"#000000\" stroke-opacity=\"1\" stroke-width=\"3.2\"/>\n<circle clip-path=\"url(#clip682)\" cx=\"875.345\" cy=\"766.846\" r=\"14\" fill=\"#009af9\" fill-rule=\"evenodd\" fill-opacity=\"1\" stroke=\"#000000\" stroke-opacity=\"1\" stroke-width=\"3.2\"/>\n<circle clip-path=\"url(#clip682)\" cx=\"323.106\" cy=\"766.846\" r=\"14\" fill=\"#009af9\" fill-rule=\"evenodd\" fill-opacity=\"1\" stroke=\"#000000\" stroke-opacity=\"1\" stroke-width=\"3.2\"/>\n<circle clip-path=\"url(#clip682)\" cx=\"1523.68\" cy=\"766.846\" r=\"14\" fill=\"#009af9\" fill-rule=\"evenodd\" fill-opacity=\"1\" stroke=\"#000000\" stroke-opacity=\"1\" stroke-width=\"3.2\"/>\n<circle clip-path=\"url(#clip682)\" cx=\"2133.77\" cy=\"766.846\" r=\"14\" fill=\"#009af9\" fill-rule=\"evenodd\" fill-opacity=\"1\" stroke=\"#000000\" stroke-opacity=\"1\" stroke-width=\"3.2\"/>\n<circle clip-path=\"url(#clip682)\" cx=\"1047.17\" cy=\"766.846\" r=\"14\" fill=\"#009af9\" fill-rule=\"evenodd\" fill-opacity=\"1\" stroke=\"#000000\" stroke-opacity=\"1\" stroke-width=\"3.2\"/>\n<circle clip-path=\"url(#clip682)\" cx=\"1970.94\" cy=\"766.846\" r=\"14\" fill=\"#009af9\" fill-rule=\"evenodd\" fill-opacity=\"1\" stroke=\"#000000\" stroke-opacity=\"1\" stroke-width=\"3.2\"/>\n<circle clip-path=\"url(#clip682)\" cx=\"1245.49\" cy=\"766.846\" r=\"14\" fill=\"#009af9\" fill-rule=\"evenodd\" fill-opacity=\"1\" stroke=\"#000000\" stroke-opacity=\"1\" stroke-width=\"3.2\"/>\n<circle clip-path=\"url(#clip682)\" cx=\"1561.25\" cy=\"766.846\" r=\"14\" fill=\"#009af9\" fill-rule=\"evenodd\" fill-opacity=\"1\" stroke=\"#000000\" stroke-opacity=\"1\" stroke-width=\"3.2\"/>\n<circle clip-path=\"url(#clip682)\" cx=\"1424.52\" cy=\"766.846\" r=\"14\" fill=\"#009af9\" fill-rule=\"evenodd\" fill-opacity=\"1\" stroke=\"#000000\" stroke-opacity=\"1\" stroke-width=\"3.2\"/>\n<circle clip-path=\"url(#clip682)\" cx=\"1423.3\" cy=\"766.846\" r=\"14\" fill=\"#009af9\" fill-rule=\"evenodd\" fill-opacity=\"1\" stroke=\"#000000\" stroke-opacity=\"1\" stroke-width=\"3.2\"/>\n<circle clip-path=\"url(#clip682)\" cx=\"950.878\" cy=\"766.846\" r=\"14\" fill=\"#009af9\" fill-rule=\"evenodd\" fill-opacity=\"1\" stroke=\"#000000\" stroke-opacity=\"1\" stroke-width=\"3.2\"/>\n<circle clip-path=\"url(#clip682)\" cx=\"1224.46\" cy=\"766.846\" r=\"14\" fill=\"#009af9\" fill-rule=\"evenodd\" fill-opacity=\"1\" stroke=\"#000000\" stroke-opacity=\"1\" stroke-width=\"3.2\"/>\n<circle clip-path=\"url(#clip682)\" cx=\"759.079\" cy=\"766.846\" r=\"14\" fill=\"#009af9\" fill-rule=\"evenodd\" fill-opacity=\"1\" stroke=\"#000000\" stroke-opacity=\"1\" stroke-width=\"3.2\"/>\n<circle clip-path=\"url(#clip682)\" cx=\"1783.14\" cy=\"766.846\" r=\"14\" fill=\"#009af9\" fill-rule=\"evenodd\" fill-opacity=\"1\" stroke=\"#000000\" stroke-opacity=\"1\" stroke-width=\"3.2\"/>\n<circle clip-path=\"url(#clip682)\" cx=\"886.461\" cy=\"766.846\" r=\"14\" fill=\"#009af9\" fill-rule=\"evenodd\" fill-opacity=\"1\" stroke=\"#000000\" stroke-opacity=\"1\" stroke-width=\"3.2\"/>\n<circle clip-path=\"url(#clip682)\" cx=\"1623.34\" cy=\"766.846\" r=\"14\" fill=\"#009af9\" fill-rule=\"evenodd\" fill-opacity=\"1\" stroke=\"#000000\" stroke-opacity=\"1\" stroke-width=\"3.2\"/>\n<circle clip-path=\"url(#clip682)\" cx=\"336.155\" cy=\"766.846\" r=\"14\" fill=\"#009af9\" fill-rule=\"evenodd\" fill-opacity=\"1\" stroke=\"#000000\" stroke-opacity=\"1\" stroke-width=\"3.2\"/>\n<circle clip-path=\"url(#clip682)\" cx=\"264.761\" cy=\"766.846\" r=\"14\" fill=\"#009af9\" fill-rule=\"evenodd\" fill-opacity=\"1\" stroke=\"#000000\" stroke-opacity=\"1\" stroke-width=\"3.2\"/>\n<circle clip-path=\"url(#clip682)\" cx=\"2172.48\" cy=\"766.846\" r=\"14\" fill=\"#009af9\" fill-rule=\"evenodd\" fill-opacity=\"1\" stroke=\"#000000\" stroke-opacity=\"1\" stroke-width=\"3.2\"/>\n<circle clip-path=\"url(#clip682)\" cx=\"1391.19\" cy=\"766.846\" r=\"14\" fill=\"#009af9\" fill-rule=\"evenodd\" fill-opacity=\"1\" stroke=\"#000000\" stroke-opacity=\"1\" stroke-width=\"3.2\"/>\n<circle clip-path=\"url(#clip682)\" cx=\"1970.93\" cy=\"766.846\" r=\"14\" fill=\"#009af9\" fill-rule=\"evenodd\" fill-opacity=\"1\" stroke=\"#000000\" stroke-opacity=\"1\" stroke-width=\"3.2\"/>\n<circle clip-path=\"url(#clip682)\" cx=\"281.409\" cy=\"766.846\" r=\"14\" fill=\"#009af9\" fill-rule=\"evenodd\" fill-opacity=\"1\" stroke=\"#000000\" stroke-opacity=\"1\" stroke-width=\"3.2\"/>\n<circle clip-path=\"url(#clip682)\" cx=\"478.291\" cy=\"766.846\" r=\"14\" fill=\"#009af9\" fill-rule=\"evenodd\" fill-opacity=\"1\" stroke=\"#000000\" stroke-opacity=\"1\" stroke-width=\"3.2\"/>\n<circle clip-path=\"url(#clip682)\" cx=\"903.804\" cy=\"766.846\" r=\"14\" fill=\"#009af9\" fill-rule=\"evenodd\" fill-opacity=\"1\" stroke=\"#000000\" stroke-opacity=\"1\" stroke-width=\"3.2\"/>\n<circle clip-path=\"url(#clip682)\" cx=\"2156.09\" cy=\"766.846\" r=\"14\" fill=\"#009af9\" fill-rule=\"evenodd\" fill-opacity=\"1\" stroke=\"#000000\" stroke-opacity=\"1\" stroke-width=\"3.2\"/>\n<circle clip-path=\"url(#clip682)\" cx=\"1815.44\" cy=\"766.846\" r=\"14\" fill=\"#009af9\" fill-rule=\"evenodd\" fill-opacity=\"1\" stroke=\"#000000\" stroke-opacity=\"1\" stroke-width=\"3.2\"/>\n<circle clip-path=\"url(#clip682)\" cx=\"2124.21\" cy=\"766.846\" r=\"14\" fill=\"#009af9\" fill-rule=\"evenodd\" fill-opacity=\"1\" stroke=\"#000000\" stroke-opacity=\"1\" stroke-width=\"3.2\"/>\n<circle clip-path=\"url(#clip682)\" cx=\"1674.69\" cy=\"766.846\" r=\"14\" fill=\"#009af9\" fill-rule=\"evenodd\" fill-opacity=\"1\" stroke=\"#000000\" stroke-opacity=\"1\" stroke-width=\"3.2\"/>\n<circle clip-path=\"url(#clip682)\" cx=\"1534.35\" cy=\"766.846\" r=\"14\" fill=\"#009af9\" fill-rule=\"evenodd\" fill-opacity=\"1\" stroke=\"#000000\" stroke-opacity=\"1\" stroke-width=\"3.2\"/>\n<circle clip-path=\"url(#clip682)\" cx=\"1857.72\" cy=\"766.846\" r=\"14\" fill=\"#009af9\" fill-rule=\"evenodd\" fill-opacity=\"1\" stroke=\"#000000\" stroke-opacity=\"1\" stroke-width=\"3.2\"/>\n<circle clip-path=\"url(#clip682)\" cx=\"1269.53\" cy=\"766.846\" r=\"14\" fill=\"#009af9\" fill-rule=\"evenodd\" fill-opacity=\"1\" stroke=\"#000000\" stroke-opacity=\"1\" stroke-width=\"3.2\"/>\n<circle clip-path=\"url(#clip682)\" cx=\"1090.26\" cy=\"766.846\" r=\"14\" fill=\"#009af9\" fill-rule=\"evenodd\" fill-opacity=\"1\" stroke=\"#000000\" stroke-opacity=\"1\" stroke-width=\"3.2\"/>\n<circle clip-path=\"url(#clip682)\" cx=\"1838.11\" cy=\"766.846\" r=\"14\" fill=\"#009af9\" fill-rule=\"evenodd\" fill-opacity=\"1\" stroke=\"#000000\" stroke-opacity=\"1\" stroke-width=\"3.2\"/>\n<circle clip-path=\"url(#clip682)\" cx=\"1839.2\" cy=\"766.846\" r=\"14\" fill=\"#009af9\" fill-rule=\"evenodd\" fill-opacity=\"1\" stroke=\"#000000\" stroke-opacity=\"1\" stroke-width=\"3.2\"/>\n<circle clip-path=\"url(#clip682)\" cx=\"762.855\" cy=\"766.846\" r=\"14\" fill=\"#009af9\" fill-rule=\"evenodd\" fill-opacity=\"1\" stroke=\"#000000\" stroke-opacity=\"1\" stroke-width=\"3.2\"/>\n<circle clip-path=\"url(#clip682)\" cx=\"1986.44\" cy=\"766.846\" r=\"14\" fill=\"#009af9\" fill-rule=\"evenodd\" fill-opacity=\"1\" stroke=\"#000000\" stroke-opacity=\"1\" stroke-width=\"3.2\"/>\n<circle clip-path=\"url(#clip682)\" cx=\"1763.9\" cy=\"766.846\" r=\"14\" fill=\"#009af9\" fill-rule=\"evenodd\" fill-opacity=\"1\" stroke=\"#000000\" stroke-opacity=\"1\" stroke-width=\"3.2\"/>\n<circle clip-path=\"url(#clip682)\" cx=\"672.122\" cy=\"766.846\" r=\"14\" fill=\"#009af9\" fill-rule=\"evenodd\" fill-opacity=\"1\" stroke=\"#000000\" stroke-opacity=\"1\" stroke-width=\"3.2\"/>\n<circle clip-path=\"url(#clip682)\" cx=\"794.155\" cy=\"766.846\" r=\"14\" fill=\"#009af9\" fill-rule=\"evenodd\" fill-opacity=\"1\" stroke=\"#000000\" stroke-opacity=\"1\" stroke-width=\"3.2\"/>\n<circle clip-path=\"url(#clip682)\" cx=\"1163.04\" cy=\"766.846\" r=\"14\" fill=\"#009af9\" fill-rule=\"evenodd\" fill-opacity=\"1\" stroke=\"#000000\" stroke-opacity=\"1\" stroke-width=\"3.2\"/>\n<circle clip-path=\"url(#clip682)\" cx=\"1155.95\" cy=\"766.846\" r=\"14\" fill=\"#009af9\" fill-rule=\"evenodd\" fill-opacity=\"1\" stroke=\"#000000\" stroke-opacity=\"1\" stroke-width=\"3.2\"/>\n<circle clip-path=\"url(#clip682)\" cx=\"1247.99\" cy=\"766.846\" r=\"14\" fill=\"#009af9\" fill-rule=\"evenodd\" fill-opacity=\"1\" stroke=\"#000000\" stroke-opacity=\"1\" stroke-width=\"3.2\"/>\n<circle clip-path=\"url(#clip682)\" cx=\"235.221\" cy=\"766.846\" r=\"14\" fill=\"#009af9\" fill-rule=\"evenodd\" fill-opacity=\"1\" stroke=\"#000000\" stroke-opacity=\"1\" stroke-width=\"3.2\"/>\n<circle clip-path=\"url(#clip682)\" cx=\"623.722\" cy=\"766.846\" r=\"14\" fill=\"#009af9\" fill-rule=\"evenodd\" fill-opacity=\"1\" stroke=\"#000000\" stroke-opacity=\"1\" stroke-width=\"3.2\"/>\n<circle clip-path=\"url(#clip682)\" cx=\"285.385\" cy=\"766.846\" r=\"14\" fill=\"#009af9\" fill-rule=\"evenodd\" fill-opacity=\"1\" stroke=\"#000000\" stroke-opacity=\"1\" stroke-width=\"3.2\"/>\n<path clip-path=\"url(#clip680)\" d=\"\nM1983.32 216.178 L2279.28 216.178 L2279.28 95.2176 L1983.32 95.2176  Z\n  \" fill=\"#ffffff\" fill-rule=\"evenodd\" fill-opacity=\"1\"/>\n<polyline clip-path=\"url(#clip680)\" style=\"stroke:#000000; stroke-width:4; stroke-opacity:1; fill:none\" points=\"\n  1983.32,216.178 2279.28,216.178 2279.28,95.2176 1983.32,95.2176 1983.32,216.178 \n  \"/>\n<circle clip-path=\"url(#clip680)\" cx=\"2081.3\" cy=\"155.698\" r=\"23\" fill=\"#009af9\" fill-rule=\"evenodd\" fill-opacity=\"1\" stroke=\"#000000\" stroke-opacity=\"1\" stroke-width=\"5.12\"/>\n<path clip-path=\"url(#clip680)\" d=\"M 0 0 M2193.11 175.385 Q2191.31 180.015 2189.59 181.427 Q2187.88 182.839 2185.01 182.839 L2181.61 182.839 L2181.61 179.274 L2184.11 179.274 Q2185.87 179.274 2186.84 178.44 Q2187.81 177.607 2188.99 174.505 L2189.76 172.561 L2179.27 147.052 L2183.78 147.052 L2191.89 167.329 L2199.99 147.052 L2204.5 147.052 L2193.11 175.385 Z\" fill=\"#000000\" fill-rule=\"evenodd\" fill-opacity=\"1\" /><path clip-path=\"url(#clip680)\" d=\"M 0 0 M2210.38 169.042 L2218.02 169.042 L2218.02 142.677 L2209.71 144.343 L2209.71 140.084 L2217.97 138.418 L2222.65 138.418 L2222.65 169.042 L2230.29 169.042 L2230.29 172.978 L2210.38 172.978 L2210.38 169.042 Z\" fill=\"#000000\" fill-rule=\"evenodd\" fill-opacity=\"1\" /></svg>\n"
               },
               "type": "node"
              }
             ],
             "instanceArgs": {
              "namespace": "html",
              "tag": "div"
             },
             "nodeType": "DOM",
             "props": {
              "className": "interact-flex-row interact-widget"
             },
             "type": "node"
            }
           }
          },
          "systemjs_options": null
         },
         "nodeType": "Scope",
         "props": {},
         "type": "node"
        }
       ],
       "instanceArgs": {
        "namespace": "html",
        "tag": "div"
       },
       "nodeType": "DOM",
       "props": {},
       "type": "node"
      },
      "text/html": [
       "<div\n",
       "    class=\"webio-mountpoint\"\n",
       "    data-webio-mountpoint=\"5037931127798398826\"\n",
       ">\n",
       "    <script>\n",
       "    if (window.require && require.defined && require.defined(\"nbextensions/webio-jupyter-notebook\")) {\n",
       "        console.log(\"Jupyter WebIO extension detected, not mounting.\");\n",
       "    } else if (window.WebIO) {\n",
       "        WebIO.mount(\n",
       "            document.querySelector('[data-webio-mountpoint=\"5037931127798398826\"]'),\n",
       "            {\"props\":{},\"nodeType\":\"DOM\",\"type\":\"node\",\"instanceArgs\":{\"namespace\":\"html\",\"tag\":\"div\"},\"children\":[{\"props\":{\"className\":\"field interact-widget\"},\"nodeType\":\"DOM\",\"type\":\"node\",\"instanceArgs\":{\"namespace\":\"html\",\"tag\":\"div\"},\"children\":[{\"props\":{},\"nodeType\":\"Scope\",\"type\":\"node\",\"instanceArgs\":{\"imports\":{\"data\":[{\"name\":\"knockout\",\"type\":\"js\",\"url\":\"\\/assetserver\\/4e15ea8f38f5d33bf0b2930cb09c8089f78b114e-knockout.js\"},{\"name\":\"knockout_punches\",\"type\":\"js\",\"url\":\"\\/assetserver\\/6967e46b2259ea2e5c469b61c410326b52955db7-knockout_punches.js\"},{\"name\":null,\"type\":\"js\",\"url\":\"\\/assetserver\\/a643ec32b5fd67f0647ab1f378e6bc75a94bf7ef-all.js\"},{\"name\":null,\"type\":\"css\",\"url\":\"\\/assetserver\\/c4a428321098a6b37c6165665184ef1be8f91e08-style.css\"},{\"name\":null,\"type\":\"css\",\"url\":\"\\/assetserver\\/62690f06d5dfb4c711812ef88e307907ed9b059b-bulma_confined.min.css\"}],\"type\":\"async_block\"},\"id\":\"817315128134509897\",\"handlers\":{\"changes\":[\"(function (val){return (val!=this.model[\\\"changes\\\"]()) ? (this.valueFromJulia[\\\"changes\\\"]=true, this.model[\\\"changes\\\"](val)) : undefined})\"],\"index\":[\"(function (val){return (val!=this.model[\\\"index\\\"]()) ? (this.valueFromJulia[\\\"index\\\"]=true, this.model[\\\"index\\\"](val)) : undefined})\"]},\"systemjs_options\":null,\"mount_callbacks\":[\"function () {\\n    var handler = (function (ko, koPunches) {\\n    ko.punches.enableAll();\\n    ko.bindingHandlers.numericValue = {\\n        init: function(element, valueAccessor, allBindings, data, context) {\\n            var stringified = ko.observable(ko.unwrap(valueAccessor()));\\n            stringified.subscribe(function(value) {\\n                var val = parseFloat(value);\\n                if (!isNaN(val)) {\\n                    valueAccessor()(val);\\n                }\\n            });\\n            valueAccessor().subscribe(function(value) {\\n                var str = JSON.stringify(value);\\n                if ((str == \\\"0\\\") && ([\\\"-0\\\", \\\"-0.\\\"].indexOf(stringified()) >= 0))\\n                     return;\\n                 if ([\\\"null\\\", \\\"\\\"].indexOf(str) >= 0)\\n                     return;\\n                stringified(str);\\n            });\\n            ko.applyBindingsToNode(\\n                element,\\n                {\\n                    value: stringified,\\n                    valueUpdate: allBindings.get('valueUpdate'),\\n                },\\n                context,\\n            );\\n        }\\n    };\\n    var json_data = {\\\"formatted_vals\\\":[\\\"1\\\",\\\"2\\\",\\\"3\\\",\\\"4\\\",\\\"5\\\",\\\"6\\\",\\\"7\\\",\\\"8\\\",\\\"9\\\",\\\"10\\\",\\\"11\\\",\\\"12\\\",\\\"13\\\",\\\"14\\\",\\\"15\\\",\\\"16\\\",\\\"17\\\",\\\"18\\\",\\\"19\\\",\\\"20\\\",\\\"21\\\",\\\"22\\\",\\\"23\\\",\\\"24\\\",\\\"25\\\",\\\"26\\\",\\\"27\\\",\\\"28\\\",\\\"29\\\",\\\"30\\\",\\\"31\\\",\\\"32\\\",\\\"33\\\",\\\"34\\\",\\\"35\\\",\\\"36\\\",\\\"37\\\",\\\"38\\\",\\\"39\\\",\\\"40\\\",\\\"41\\\",\\\"42\\\",\\\"43\\\",\\\"44\\\",\\\"45\\\",\\\"46\\\",\\\"47\\\",\\\"48\\\",\\\"49\\\",\\\"50\\\",\\\"51\\\",\\\"52\\\",\\\"53\\\",\\\"54\\\",\\\"55\\\",\\\"56\\\",\\\"57\\\",\\\"58\\\",\\\"59\\\",\\\"60\\\",\\\"61\\\",\\\"62\\\",\\\"63\\\",\\\"64\\\",\\\"65\\\",\\\"66\\\",\\\"67\\\",\\\"68\\\",\\\"69\\\",\\\"70\\\",\\\"71\\\",\\\"72\\\",\\\"73\\\",\\\"74\\\",\\\"75\\\",\\\"76\\\",\\\"77\\\",\\\"78\\\",\\\"79\\\",\\\"80\\\",\\\"81\\\",\\\"82\\\",\\\"83\\\",\\\"84\\\",\\\"85\\\",\\\"86\\\",\\\"87\\\",\\\"88\\\",\\\"89\\\",\\\"90\\\",\\\"91\\\",\\\"92\\\",\\\"93\\\",\\\"94\\\",\\\"95\\\",\\\"96\\\",\\\"97\\\",\\\"98\\\",\\\"99\\\",\\\"100\\\"],\\\"changes\\\":WebIO.getval({\\\"name\\\":\\\"changes\\\",\\\"scope\\\":\\\"817315128134509897\\\",\\\"id\\\":\\\"1242849836371122333\\\",\\\"type\\\":\\\"observable\\\"}),\\\"index\\\":WebIO.getval({\\\"name\\\":\\\"index\\\",\\\"scope\\\":\\\"817315128134509897\\\",\\\"id\\\":\\\"5689825914062061169\\\",\\\"type\\\":\\\"observable\\\"})};\\n    var self = this;\\n    function AppViewModel() {\\n        for (var key in json_data) {\\n            var el = json_data[key];\\n            this[key] = Array.isArray(el) ? ko.observableArray(el) : ko.observable(el);\\n        }\\n        \\n        [this[\\\"formatted_val\\\"]=ko.computed(    function(){\\n        return this.formatted_vals()[parseInt(this.index())-(1)];\\n    }\\n,this)]\\n        [this[\\\"changes\\\"].subscribe((function (val){!(this.valueFromJulia[\\\"changes\\\"]) ? (WebIO.setval({\\\"name\\\":\\\"changes\\\",\\\"scope\\\":\\\"817315128134509897\\\",\\\"id\\\":\\\"1242849836371122333\\\",\\\"type\\\":\\\"observable\\\"},val)) : undefined; return this.valueFromJulia[\\\"changes\\\"]=false}),self),this[\\\"index\\\"].subscribe((function (val){!(this.valueFromJulia[\\\"index\\\"]) ? (WebIO.setval({\\\"name\\\":\\\"index\\\",\\\"scope\\\":\\\"817315128134509897\\\",\\\"id\\\":\\\"5689825914062061169\\\",\\\"type\\\":\\\"observable\\\"},val)) : undefined; return this.valueFromJulia[\\\"index\\\"]=false}),self)]\\n        \\n    }\\n    self.model = new AppViewModel();\\n    self.valueFromJulia = {};\\n    for (var key in json_data) {\\n        self.valueFromJulia[key] = false;\\n    }\\n    ko.applyBindings(self.model, self.dom);\\n}\\n);\\n    (WebIO.importBlock({\\\"data\\\":[{\\\"name\\\":\\\"knockout\\\",\\\"type\\\":\\\"js\\\",\\\"url\\\":\\\"\\/assetserver\\/4e15ea8f38f5d33bf0b2930cb09c8089f78b114e-knockout.js\\\"},{\\\"name\\\":\\\"knockout_punches\\\",\\\"type\\\":\\\"js\\\",\\\"url\\\":\\\"\\/assetserver\\/6967e46b2259ea2e5c469b61c410326b52955db7-knockout_punches.js\\\"}],\\\"type\\\":\\\"async_block\\\"})).then((imports) => handler.apply(this, imports));\\n}\\n\"],\"observables\":{\"changes\":{\"sync\":false,\"id\":\"1242849836371122333\",\"value\":0},\"index\":{\"sync\":true,\"id\":\"5689825914062061169\",\"value\":50}}},\"children\":[{\"props\":{\"className\":\"interact-flex-row interact-widget\"},\"nodeType\":\"DOM\",\"type\":\"node\",\"instanceArgs\":{\"namespace\":\"html\",\"tag\":\"div\"},\"children\":[{\"props\":{\"className\":\"interact-flex-row-left\"},\"nodeType\":\"DOM\",\"type\":\"node\",\"instanceArgs\":{\"namespace\":\"html\",\"tag\":\"div\"},\"children\":[{\"props\":{\"className\":\"interact \",\"style\":{\"padding\":\"5px 10px 0px 10px\"}},\"nodeType\":\"DOM\",\"type\":\"node\",\"instanceArgs\":{\"namespace\":\"html\",\"tag\":\"label\"},\"children\":[\"n\"]}]},{\"props\":{\"className\":\"interact-flex-row-center\"},\"nodeType\":\"DOM\",\"type\":\"node\",\"instanceArgs\":{\"namespace\":\"html\",\"tag\":\"div\"},\"children\":[{\"props\":{\"max\":100,\"min\":1,\"attributes\":{\"type\":\"range\",\"data-bind\":\"numericValue: index, valueUpdate: 'input', event: {change: function (){this.changes(this.changes()+1)}}\",\"orient\":\"horizontal\"},\"step\":1,\"className\":\"slider slider is-fullwidth\",\"style\":{}},\"nodeType\":\"DOM\",\"type\":\"node\",\"instanceArgs\":{\"namespace\":\"html\",\"tag\":\"input\"},\"children\":[]}]},{\"props\":{\"className\":\"interact-flex-row-right\"},\"nodeType\":\"DOM\",\"type\":\"node\",\"instanceArgs\":{\"namespace\":\"html\",\"tag\":\"div\"},\"children\":[{\"props\":{\"attributes\":{\"data-bind\":\"text: formatted_val\"}},\"nodeType\":\"DOM\",\"type\":\"node\",\"instanceArgs\":{\"namespace\":\"html\",\"tag\":\"p\"},\"children\":[]}]}]}]}]},{\"props\":{},\"nodeType\":\"Scope\",\"type\":\"node\",\"instanceArgs\":{\"imports\":{\"data\":[],\"type\":\"async_block\"},\"id\":\"12492583875272748909\",\"handlers\":{},\"systemjs_options\":null,\"mount_callbacks\":[],\"observables\":{\"obs-node\":{\"sync\":false,\"id\":\"7305369333541488841\",\"value\":{\"props\":{\"className\":\"interact-flex-row interact-widget\"},\"nodeType\":\"DOM\",\"type\":\"node\",\"instanceArgs\":{\"namespace\":\"html\",\"tag\":\"div\"},\"children\":[{\"props\":{\"setInnerHtml\":\"<?xml version=\\\"1.0\\\" encoding=\\\"utf-8\\\"?>\\n<svg xmlns=\\\"http:\\/\\/www.w3.org\\/2000\\/svg\\\" xmlns:xlink=\\\"http:\\/\\/www.w3.org\\/1999\\/xlink\\\" width=\\\"600\\\" height=\\\"400\\\" viewBox=\\\"0 0 2400 1600\\\">\\n<defs>\\n  <clipPath id=\\\"clip640\\\">\\n    <rect x=\\\"0\\\" y=\\\"0\\\" width=\\\"2400\\\" height=\\\"1600\\\"\\/>\\n  <\\/clipPath>\\n<\\/defs>\\n<path clip-path=\\\"url(#clip640)\\\" d=\\\"\\nM0 1600 L2400 1600 L2400 0 L0 0  Z\\n  \\\" fill=\\\"#ffffff\\\" fill-rule=\\\"evenodd\\\" fill-opacity=\\\"1\\\"\\/>\\n<defs>\\n  <clipPath id=\\\"clip641\\\">\\n    <rect x=\\\"480\\\" y=\\\"0\\\" width=\\\"1681\\\" height=\\\"1600\\\"\\/>\\n  <\\/clipPath>\\n<\\/defs>\\n<path clip-path=\\\"url(#clip640)\\\" d=\\\"\\nM148.334 1486.45 L2352.76 1486.45 L2352.76 47.2441 L148.334 47.2441  Z\\n  \\\" fill=\\\"#ffffff\\\" fill-rule=\\\"evenodd\\\" fill-opacity=\\\"1\\\"\\/>\\n<defs>\\n  <clipPath id=\\\"clip642\\\">\\n    <rect x=\\\"148\\\" y=\\\"47\\\" width=\\\"2205\\\" height=\\\"1440\\\"\\/>\\n  <\\/clipPath>\\n<\\/defs>\\n<polyline clip-path=\\\"url(#clip642)\\\" style=\\\"stroke:#000000; stroke-width:2; stroke-opacity:0.1; fill:none\\\" points=\\\"\\n  148.334,1486.45 148.334,47.2441 \\n  \\\"\\/>\\n<polyline clip-path=\\\"url(#clip642)\\\" style=\\\"stroke:#000000; stroke-width:2; stroke-opacity:0.1; fill:none\\\" points=\\\"\\n  589.219,1486.45 589.219,47.2441 \\n  \\\"\\/>\\n<polyline clip-path=\\\"url(#clip642)\\\" style=\\\"stroke:#000000; stroke-width:2; stroke-opacity:0.1; fill:none\\\" points=\\\"\\n  1030.1,1486.45 1030.1,47.2441 \\n  \\\"\\/>\\n<polyline clip-path=\\\"url(#clip642)\\\" style=\\\"stroke:#000000; stroke-width:2; stroke-opacity:0.1; fill:none\\\" points=\\\"\\n  1470.99,1486.45 1470.99,47.2441 \\n  \\\"\\/>\\n<polyline clip-path=\\\"url(#clip642)\\\" style=\\\"stroke:#000000; stroke-width:2; stroke-opacity:0.1; fill:none\\\" points=\\\"\\n  1911.87,1486.45 1911.87,47.2441 \\n  \\\"\\/>\\n<polyline clip-path=\\\"url(#clip642)\\\" style=\\\"stroke:#000000; stroke-width:2; stroke-opacity:0.1; fill:none\\\" points=\\\"\\n  2352.76,1486.45 2352.76,47.2441 \\n  \\\"\\/>\\n<polyline clip-path=\\\"url(#clip640)\\\" style=\\\"stroke:#000000; stroke-width:4; stroke-opacity:1; fill:none\\\" points=\\\"\\n  148.334,1486.45 2352.76,1486.45 \\n  \\\"\\/>\\n<polyline clip-path=\\\"url(#clip640)\\\" style=\\\"stroke:#000000; stroke-width:4; stroke-opacity:1; fill:none\\\" points=\\\"\\n  148.334,1486.45 148.334,1469.18 \\n  \\\"\\/>\\n<polyline clip-path=\\\"url(#clip640)\\\" style=\\\"stroke:#000000; stroke-width:4; stroke-opacity:1; fill:none\\\" points=\\\"\\n  589.219,1486.45 589.219,1469.18 \\n  \\\"\\/>\\n<polyline clip-path=\\\"url(#clip640)\\\" style=\\\"stroke:#000000; stroke-width:4; stroke-opacity:1; fill:none\\\" points=\\\"\\n  1030.1,1486.45 1030.1,1469.18 \\n  \\\"\\/>\\n<polyline clip-path=\\\"url(#clip640)\\\" style=\\\"stroke:#000000; stroke-width:4; stroke-opacity:1; fill:none\\\" points=\\\"\\n  1470.99,1486.45 1470.99,1469.18 \\n  \\\"\\/>\\n<polyline clip-path=\\\"url(#clip640)\\\" style=\\\"stroke:#000000; stroke-width:4; stroke-opacity:1; fill:none\\\" points=\\\"\\n  1911.87,1486.45 1911.87,1469.18 \\n  \\\"\\/>\\n<polyline clip-path=\\\"url(#clip640)\\\" style=\\\"stroke:#000000; stroke-width:4; stroke-opacity:1; fill:none\\\" points=\\\"\\n  2352.76,1486.45 2352.76,1469.18 \\n  \\\"\\/>\\n<path clip-path=\\\"url(#clip640)\\\" d=\\\"M 0 0 M129.851 1515.64 Q126.24 1515.64 124.411 1519.2 Q122.605 1522.75 122.605 1529.87 Q122.605 1536.98 124.411 1540.55 Q126.24 1544.09 129.851 1544.09 Q133.485 1544.09 135.29 1540.55 Q137.119 1536.98 137.119 1529.87 Q137.119 1522.75 135.29 1519.2 Q133.485 1515.64 129.851 1515.64 M129.851 1511.93 Q135.661 1511.93 138.716 1516.54 Q141.795 1521.12 141.795 1529.87 Q141.795 1538.6 138.716 1543.21 Q135.661 1547.79 129.851 1547.79 Q124.041 1547.79 120.962 1543.21 Q117.906 1538.6 117.906 1529.87 Q117.906 1521.12 120.962 1516.54 Q124.041 1511.93 129.851 1511.93 Z\\\" fill=\\\"#000000\\\" fill-rule=\\\"evenodd\\\" fill-opacity=\\\"1\\\" \\/><path clip-path=\\\"url(#clip640)\\\" d=\\\"M 0 0 M146.864 1541.24 L151.749 1541.24 L151.749 1547.12 L146.864 1547.12 L146.864 1541.24 Z\\\" fill=\\\"#000000\\\" fill-rule=\\\"evenodd\\\" fill-opacity=\\\"1\\\" \\/><path clip-path=\\\"url(#clip640)\\\" d=\\\"M 0 0 M166.818 1515.64 Q163.207 1515.64 161.378 1519.2 Q159.573 1522.75 159.573 1529.87 Q159.573 1536.98 161.378 1540.55 Q163.207 1544.09 166.818 1544.09 Q170.452 1544.09 172.258 1540.55 Q174.087 1536.98 174.087 1529.87 Q174.087 1522.75 172.258 1519.2 Q170.452 1515.64 166.818 1515.64 M166.818 1511.93 Q172.628 1511.93 175.684 1516.54 Q178.762 1521.12 178.762 1529.87 Q178.762 1538.6 175.684 1543.21 Q172.628 1547.79 166.818 1547.79 Q161.008 1547.79 157.929 1543.21 Q154.874 1538.6 154.874 1529.87 Q154.874 1521.12 157.929 1516.54 Q161.008 1511.93 166.818 1511.93 Z\\\" fill=\\\"#000000\\\" fill-rule=\\\"evenodd\\\" fill-opacity=\\\"1\\\" \\/><path clip-path=\\\"url(#clip640)\\\" d=\\\"M 0 0 M571.534 1515.64 Q567.923 1515.64 566.094 1519.2 Q564.288 1522.75 564.288 1529.87 Q564.288 1536.98 566.094 1540.55 Q567.923 1544.09 571.534 1544.09 Q575.168 1544.09 576.973 1540.55 Q578.802 1536.98 578.802 1529.87 Q578.802 1522.75 576.973 1519.2 Q575.168 1515.64 571.534 1515.64 M571.534 1511.93 Q577.344 1511.93 580.399 1516.54 Q583.478 1521.12 583.478 1529.87 Q583.478 1538.6 580.399 1543.21 Q577.344 1547.79 571.534 1547.79 Q565.723 1547.79 562.645 1543.21 Q559.589 1538.6 559.589 1529.87 Q559.589 1521.12 562.645 1516.54 Q565.723 1511.93 571.534 1511.93 Z\\\" fill=\\\"#000000\\\" fill-rule=\\\"evenodd\\\" fill-opacity=\\\"1\\\" \\/><path clip-path=\\\"url(#clip640)\\\" d=\\\"M 0 0 M588.547 1541.24 L593.432 1541.24 L593.432 1547.12 L588.547 1547.12 L588.547 1541.24 Z\\\" fill=\\\"#000000\\\" fill-rule=\\\"evenodd\\\" fill-opacity=\\\"1\\\" \\/><path clip-path=\\\"url(#clip640)\\\" d=\\\"M 0 0 M602.529 1543.18 L618.848 1543.18 L618.848 1547.12 L596.904 1547.12 L596.904 1543.18 Q599.566 1540.43 604.149 1535.8 Q608.756 1531.15 609.936 1529.81 Q612.182 1527.28 613.061 1525.55 Q613.964 1523.79 613.964 1522.1 Q613.964 1519.34 612.019 1517.61 Q610.098 1515.87 606.996 1515.87 Q604.797 1515.87 602.344 1516.63 Q599.913 1517.4 597.135 1518.95 L597.135 1514.23 Q599.959 1513.09 602.413 1512.51 Q604.867 1511.93 606.904 1511.93 Q612.274 1511.93 615.469 1514.62 Q618.663 1517.31 618.663 1521.8 Q618.663 1523.93 617.853 1525.85 Q617.066 1527.74 614.959 1530.34 Q614.381 1531.01 611.279 1534.23 Q608.177 1537.42 602.529 1543.18 Z\\\" fill=\\\"#000000\\\" fill-rule=\\\"evenodd\\\" fill-opacity=\\\"1\\\" \\/><path clip-path=\\\"url(#clip640)\\\" d=\\\"M 0 0 M1011.38 1515.64 Q1007.77 1515.64 1005.94 1519.2 Q1004.13 1522.75 1004.13 1529.87 Q1004.13 1536.98 1005.94 1540.55 Q1007.77 1544.09 1011.38 1544.09 Q1015.01 1544.09 1016.82 1540.55 Q1018.64 1536.98 1018.64 1529.87 Q1018.64 1522.75 1016.82 1519.2 Q1015.01 1515.64 1011.38 1515.64 M1011.38 1511.93 Q1017.19 1511.93 1020.24 1516.54 Q1023.32 1521.12 1023.32 1529.87 Q1023.32 1538.6 1020.24 1543.21 Q1017.19 1547.79 1011.38 1547.79 Q1005.57 1547.79 1002.49 1543.21 Q999.432 1538.6 999.432 1529.87 Q999.432 1521.12 1002.49 1516.54 Q1005.57 1511.93 1011.38 1511.93 Z\\\" fill=\\\"#000000\\\" fill-rule=\\\"evenodd\\\" fill-opacity=\\\"1\\\" \\/><path clip-path=\\\"url(#clip640)\\\" d=\\\"M 0 0 M1028.39 1541.24 L1033.27 1541.24 L1033.27 1547.12 L1028.39 1547.12 L1028.39 1541.24 Z\\\" fill=\\\"#000000\\\" fill-rule=\\\"evenodd\\\" fill-opacity=\\\"1\\\" \\/><path clip-path=\\\"url(#clip640)\\\" d=\\\"M 0 0 M1051.19 1516.63 L1039.39 1535.08 L1051.19 1535.08 L1051.19 1516.63 M1049.96 1512.56 L1055.84 1512.56 L1055.84 1535.08 L1060.77 1535.08 L1060.77 1538.97 L1055.84 1538.97 L1055.84 1547.12 L1051.19 1547.12 L1051.19 1538.97 L1035.59 1538.97 L1035.59 1534.46 L1049.96 1512.56 Z\\\" fill=\\\"#000000\\\" fill-rule=\\\"evenodd\\\" fill-opacity=\\\"1\\\" \\/><path clip-path=\\\"url(#clip640)\\\" d=\\\"M 0 0 M1452.42 1515.64 Q1448.81 1515.64 1446.98 1519.2 Q1445.18 1522.75 1445.18 1529.87 Q1445.18 1536.98 1446.98 1540.55 Q1448.81 1544.09 1452.42 1544.09 Q1456.06 1544.09 1457.86 1540.55 Q1459.69 1536.98 1459.69 1529.87 Q1459.69 1522.75 1457.86 1519.2 Q1456.06 1515.64 1452.42 1515.64 M1452.42 1511.93 Q1458.23 1511.93 1461.29 1516.54 Q1464.37 1521.12 1464.37 1529.87 Q1464.37 1538.6 1461.29 1543.21 Q1458.23 1547.79 1452.42 1547.79 Q1446.61 1547.79 1443.53 1543.21 Q1440.48 1538.6 1440.48 1529.87 Q1440.48 1521.12 1443.53 1516.54 Q1446.61 1511.93 1452.42 1511.93 Z\\\" fill=\\\"#000000\\\" fill-rule=\\\"evenodd\\\" fill-opacity=\\\"1\\\" \\/><path clip-path=\\\"url(#clip640)\\\" d=\\\"M 0 0 M1469.44 1541.24 L1474.32 1541.24 L1474.32 1547.12 L1469.44 1547.12 L1469.44 1541.24 Z\\\" fill=\\\"#000000\\\" fill-rule=\\\"evenodd\\\" fill-opacity=\\\"1\\\" \\/><path clip-path=\\\"url(#clip640)\\\" d=\\\"M 0 0 M1489.97 1527.98 Q1486.82 1527.98 1484.97 1530.13 Q1483.14 1532.28 1483.14 1536.03 Q1483.14 1539.76 1484.97 1541.93 Q1486.82 1544.09 1489.97 1544.09 Q1493.12 1544.09 1494.95 1541.93 Q1496.8 1539.76 1496.8 1536.03 Q1496.8 1532.28 1494.95 1530.13 Q1493.12 1527.98 1489.97 1527.98 M1499.25 1513.32 L1499.25 1517.58 Q1497.49 1516.75 1495.69 1516.31 Q1493.9 1515.87 1492.14 1515.87 Q1487.51 1515.87 1485.06 1519 Q1482.63 1522.12 1482.28 1528.44 Q1483.65 1526.43 1485.71 1525.36 Q1487.77 1524.27 1490.25 1524.27 Q1495.45 1524.27 1498.46 1527.44 Q1501.5 1530.59 1501.5 1536.03 Q1501.5 1541.36 1498.35 1544.57 Q1495.2 1547.79 1489.97 1547.79 Q1483.97 1547.79 1480.8 1543.21 Q1477.63 1538.6 1477.63 1529.87 Q1477.63 1521.68 1481.52 1516.82 Q1485.41 1511.93 1491.96 1511.93 Q1493.72 1511.93 1495.5 1512.28 Q1497.31 1512.63 1499.25 1513.32 Z\\\" fill=\\\"#000000\\\" fill-rule=\\\"evenodd\\\" fill-opacity=\\\"1\\\" \\/><path clip-path=\\\"url(#clip640)\\\" d=\\\"M 0 0 M1893.43 1515.64 Q1889.82 1515.64 1887.99 1519.2 Q1886.19 1522.75 1886.19 1529.87 Q1886.19 1536.98 1887.99 1540.55 Q1889.82 1544.09 1893.43 1544.09 Q1897.07 1544.09 1898.87 1540.55 Q1900.7 1536.98 1900.7 1529.87 Q1900.7 1522.75 1898.87 1519.2 Q1897.07 1515.64 1893.43 1515.64 M1893.43 1511.93 Q1899.24 1511.93 1902.3 1516.54 Q1905.38 1521.12 1905.38 1529.87 Q1905.38 1538.6 1902.3 1543.21 Q1899.24 1547.79 1893.43 1547.79 Q1887.62 1547.79 1884.55 1543.21 Q1881.49 1538.6 1881.49 1529.87 Q1881.49 1521.12 1884.55 1516.54 Q1887.62 1511.93 1893.43 1511.93 Z\\\" fill=\\\"#000000\\\" fill-rule=\\\"evenodd\\\" fill-opacity=\\\"1\\\" \\/><path clip-path=\\\"url(#clip640)\\\" d=\\\"M 0 0 M1910.45 1541.24 L1915.33 1541.24 L1915.33 1547.12 L1910.45 1547.12 L1910.45 1541.24 Z\\\" fill=\\\"#000000\\\" fill-rule=\\\"evenodd\\\" fill-opacity=\\\"1\\\" \\/><path clip-path=\\\"url(#clip640)\\\" d=\\\"M 0 0 M1930.4 1530.71 Q1927.07 1530.71 1925.15 1532.49 Q1923.25 1534.27 1923.25 1537.4 Q1923.25 1540.52 1925.15 1542.31 Q1927.07 1544.09 1930.4 1544.09 Q1933.73 1544.09 1935.66 1542.31 Q1937.58 1540.5 1937.58 1537.4 Q1937.58 1534.27 1935.66 1532.49 Q1933.76 1530.71 1930.4 1530.71 M1925.73 1528.72 Q1922.72 1527.98 1921.03 1525.92 Q1919.36 1523.86 1919.36 1520.89 Q1919.36 1516.75 1922.3 1514.34 Q1925.26 1511.93 1930.4 1511.93 Q1935.56 1511.93 1938.5 1514.34 Q1941.44 1516.75 1941.44 1520.89 Q1941.44 1523.86 1939.75 1525.92 Q1938.09 1527.98 1935.1 1528.72 Q1938.48 1529.5 1940.36 1531.8 Q1942.25 1534.09 1942.25 1537.4 Q1942.25 1542.42 1939.17 1545.11 Q1936.12 1547.79 1930.4 1547.79 Q1924.68 1547.79 1921.61 1545.11 Q1918.55 1542.42 1918.55 1537.4 Q1918.55 1534.09 1920.45 1531.8 Q1922.35 1529.5 1925.73 1528.72 M1924.01 1521.33 Q1924.01 1524.02 1925.68 1525.52 Q1927.37 1527.03 1930.4 1527.03 Q1933.41 1527.03 1935.1 1525.52 Q1936.81 1524.02 1936.81 1521.33 Q1936.81 1518.65 1935.1 1517.14 Q1933.41 1515.64 1930.4 1515.64 Q1927.37 1515.64 1925.68 1517.14 Q1924.01 1518.65 1924.01 1521.33 Z\\\" fill=\\\"#000000\\\" fill-rule=\\\"evenodd\\\" fill-opacity=\\\"1\\\" \\/><path clip-path=\\\"url(#clip640)\\\" d=\\\"M 0 0 M2324.65 1543.18 L2332.29 1543.18 L2332.29 1516.82 L2323.98 1518.49 L2323.98 1514.23 L2332.25 1512.56 L2336.92 1512.56 L2336.92 1543.18 L2344.56 1543.18 L2344.56 1547.12 L2324.65 1547.12 L2324.65 1543.18 Z\\\" fill=\\\"#000000\\\" fill-rule=\\\"evenodd\\\" fill-opacity=\\\"1\\\" \\/><path clip-path=\\\"url(#clip640)\\\" d=\\\"M 0 0 M2349.63 1541.24 L2354.52 1541.24 L2354.52 1547.12 L2349.63 1547.12 L2349.63 1541.24 Z\\\" fill=\\\"#000000\\\" fill-rule=\\\"evenodd\\\" fill-opacity=\\\"1\\\" \\/><path clip-path=\\\"url(#clip640)\\\" d=\\\"M 0 0 M2369.58 1515.64 Q2365.97 1515.64 2364.14 1519.2 Q2362.34 1522.75 2362.34 1529.87 Q2362.34 1536.98 2364.14 1540.55 Q2365.97 1544.09 2369.58 1544.09 Q2373.22 1544.09 2375.02 1540.55 Q2376.85 1536.98 2376.85 1529.87 Q2376.85 1522.75 2375.02 1519.2 Q2373.22 1515.64 2369.58 1515.64 M2369.58 1511.93 Q2375.39 1511.93 2378.45 1516.54 Q2381.53 1521.12 2381.53 1529.87 Q2381.53 1538.6 2378.45 1543.21 Q2375.39 1547.79 2369.58 1547.79 Q2363.77 1547.79 2360.7 1543.21 Q2357.64 1538.6 2357.64 1529.87 Q2357.64 1521.12 2360.7 1516.54 Q2363.77 1511.93 2369.58 1511.93 Z\\\" fill=\\\"#000000\\\" fill-rule=\\\"evenodd\\\" fill-opacity=\\\"1\\\" \\/><polyline clip-path=\\\"url(#clip642)\\\" style=\\\"stroke:#000000; stroke-width:2; stroke-opacity:0.1; fill:none\\\" points=\\\"\\n  148.334,1486.45 2352.76,1486.45 \\n  \\\"\\/>\\n<polyline clip-path=\\\"url(#clip642)\\\" style=\\\"stroke:#000000; stroke-width:2; stroke-opacity:0.1; fill:none\\\" points=\\\"\\n  148.334,1198.61 2352.76,1198.61 \\n  \\\"\\/>\\n<polyline clip-path=\\\"url(#clip642)\\\" style=\\\"stroke:#000000; stroke-width:2; stroke-opacity:0.1; fill:none\\\" points=\\\"\\n  148.334,910.766 2352.76,910.766 \\n  \\\"\\/>\\n<polyline clip-path=\\\"url(#clip642)\\\" style=\\\"stroke:#000000; stroke-width:2; stroke-opacity:0.1; fill:none\\\" points=\\\"\\n  148.334,622.926 2352.76,622.926 \\n  \\\"\\/>\\n<polyline clip-path=\\\"url(#clip642)\\\" style=\\\"stroke:#000000; stroke-width:2; stroke-opacity:0.1; fill:none\\\" points=\\\"\\n  148.334,335.085 2352.76,335.085 \\n  \\\"\\/>\\n<polyline clip-path=\\\"url(#clip642)\\\" style=\\\"stroke:#000000; stroke-width:2; stroke-opacity:0.1; fill:none\\\" points=\\\"\\n  148.334,47.2441 2352.76,47.2441 \\n  \\\"\\/>\\n<polyline clip-path=\\\"url(#clip640)\\\" style=\\\"stroke:#000000; stroke-width:4; stroke-opacity:1; fill:none\\\" points=\\\"\\n  148.334,1486.45 148.334,47.2441 \\n  \\\"\\/>\\n<polyline clip-path=\\\"url(#clip640)\\\" style=\\\"stroke:#000000; stroke-width:4; stroke-opacity:1; fill:none\\\" points=\\\"\\n  148.334,1486.45 174.787,1486.45 \\n  \\\"\\/>\\n<polyline clip-path=\\\"url(#clip640)\\\" style=\\\"stroke:#000000; stroke-width:4; stroke-opacity:1; fill:none\\\" points=\\\"\\n  148.334,1198.61 174.787,1198.61 \\n  \\\"\\/>\\n<polyline clip-path=\\\"url(#clip640)\\\" style=\\\"stroke:#000000; stroke-width:4; stroke-opacity:1; fill:none\\\" points=\\\"\\n  148.334,910.766 174.787,910.766 \\n  \\\"\\/>\\n<polyline clip-path=\\\"url(#clip640)\\\" style=\\\"stroke:#000000; stroke-width:4; stroke-opacity:1; fill:none\\\" points=\\\"\\n  148.334,622.926 174.787,622.926 \\n  \\\"\\/>\\n<polyline clip-path=\\\"url(#clip640)\\\" style=\\\"stroke:#000000; stroke-width:4; stroke-opacity:1; fill:none\\\" points=\\\"\\n  148.334,335.085 174.787,335.085 \\n  \\\"\\/>\\n<polyline clip-path=\\\"url(#clip640)\\\" style=\\\"stroke:#000000; stroke-width:4; stroke-opacity:1; fill:none\\\" points=\\\"\\n  148.334,47.2441 174.787,47.2441 \\n  \\\"\\/>\\n<path clip-path=\\\"url(#clip640)\\\" d=\\\"M 0 0 M63.4226 1472.25 Q59.8115 1472.25 57.9828 1475.81 Q56.1773 1479.35 56.1773 1486.48 Q56.1773 1493.59 57.9828 1497.15 Q59.8115 1500.7 63.4226 1500.7 Q67.0569 1500.7 68.8624 1497.15 Q70.6911 1493.59 70.6911 1486.48 Q70.6911 1479.35 68.8624 1475.81 Q67.0569 1472.25 63.4226 1472.25 M63.4226 1468.54 Q69.2328 1468.54 72.2883 1473.15 Q75.367 1477.73 75.367 1486.48 Q75.367 1495.21 72.2883 1499.82 Q69.2328 1504.4 63.4226 1504.4 Q57.6125 1504.4 54.5338 1499.82 Q51.4782 1495.21 51.4782 1486.48 Q51.4782 1477.73 54.5338 1473.15 Q57.6125 1468.54 63.4226 1468.54 Z\\\" fill=\\\"#000000\\\" fill-rule=\\\"evenodd\\\" fill-opacity=\\\"1\\\" \\/><path clip-path=\\\"url(#clip640)\\\" d=\\\"M 0 0 M80.4364 1497.85 L85.3206 1497.85 L85.3206 1503.73 L80.4364 1503.73 L80.4364 1497.85 Z\\\" fill=\\\"#000000\\\" fill-rule=\\\"evenodd\\\" fill-opacity=\\\"1\\\" \\/><path clip-path=\\\"url(#clip640)\\\" d=\\\"M 0 0 M100.39 1472.25 Q96.7789 1472.25 94.9502 1475.81 Q93.1447 1479.35 93.1447 1486.48 Q93.1447 1493.59 94.9502 1497.15 Q96.7789 1500.7 100.39 1500.7 Q104.024 1500.7 105.83 1497.15 Q107.658 1493.59 107.658 1486.48 Q107.658 1479.35 105.83 1475.81 Q104.024 1472.25 100.39 1472.25 M100.39 1468.54 Q106.2 1468.54 109.256 1473.15 Q112.334 1477.73 112.334 1486.48 Q112.334 1495.21 109.256 1499.82 Q106.2 1504.4 100.39 1504.4 Q94.5799 1504.4 91.5012 1499.82 Q88.4456 1495.21 88.4456 1486.48 Q88.4456 1477.73 91.5012 1473.15 Q94.5799 1468.54 100.39 1468.54 Z\\\" fill=\\\"#000000\\\" fill-rule=\\\"evenodd\\\" fill-opacity=\\\"1\\\" \\/><path clip-path=\\\"url(#clip640)\\\" d=\\\"M 0 0 M65.0198 1184.41 Q61.4087 1184.41 59.58 1187.97 Q57.7745 1191.51 57.7745 1198.64 Q57.7745 1205.75 59.58 1209.31 Q61.4087 1212.85 65.0198 1212.85 Q68.6541 1212.85 70.4596 1209.31 Q72.2883 1205.75 72.2883 1198.64 Q72.2883 1191.51 70.4596 1187.97 Q68.6541 1184.41 65.0198 1184.41 M65.0198 1180.7 Q70.83 1180.7 73.8855 1185.31 Q76.9642 1189.89 76.9642 1198.64 Q76.9642 1207.37 73.8855 1211.98 Q70.83 1216.56 65.0198 1216.56 Q59.2097 1216.56 56.131 1211.98 Q53.0754 1207.37 53.0754 1198.64 Q53.0754 1189.89 56.131 1185.31 Q59.2097 1180.7 65.0198 1180.7 Z\\\" fill=\\\"#000000\\\" fill-rule=\\\"evenodd\\\" fill-opacity=\\\"1\\\" \\/><path clip-path=\\\"url(#clip640)\\\" d=\\\"M 0 0 M82.0336 1210.01 L86.9179 1210.01 L86.9179 1215.89 L82.0336 1215.89 L82.0336 1210.01 Z\\\" fill=\\\"#000000\\\" fill-rule=\\\"evenodd\\\" fill-opacity=\\\"1\\\" \\/><path clip-path=\\\"url(#clip640)\\\" d=\\\"M 0 0 M96.015 1211.95 L112.334 1211.95 L112.334 1215.89 L90.3901 1215.89 L90.3901 1211.95 Q93.0521 1209.2 97.6354 1204.57 Q102.242 1199.91 103.422 1198.57 Q105.668 1196.05 106.547 1194.31 Q107.45 1192.55 107.45 1190.86 Q107.45 1188.11 105.506 1186.37 Q103.584 1184.64 100.483 1184.64 Q98.2835 1184.64 95.8298 1185.4 Q93.3993 1186.17 90.6215 1187.72 L90.6215 1182.99 Q93.4456 1181.86 95.8993 1181.28 Q98.353 1180.7 100.39 1180.7 Q105.76 1180.7 108.955 1183.39 Q112.149 1186.07 112.149 1190.56 Q112.149 1192.69 111.339 1194.61 Q110.552 1196.51 108.446 1199.1 Q107.867 1199.78 104.765 1202.99 Q101.663 1206.19 96.015 1211.95 Z\\\" fill=\\\"#000000\\\" fill-rule=\\\"evenodd\\\" fill-opacity=\\\"1\\\" \\/><path clip-path=\\\"url(#clip640)\\\" d=\\\"M 0 0 M62.9365 896.565 Q59.3254 896.565 57.4967 900.13 Q55.6912 903.671 55.6912 910.801 Q55.6912 917.908 57.4967 921.472 Q59.3254 925.014 62.9365 925.014 Q66.5707 925.014 68.3763 921.472 Q70.205 917.908 70.205 910.801 Q70.205 903.671 68.3763 900.13 Q66.5707 896.565 62.9365 896.565 M62.9365 892.861 Q68.7467 892.861 71.8022 897.468 Q74.8809 902.051 74.8809 910.801 Q74.8809 919.528 71.8022 924.134 Q68.7467 928.718 62.9365 928.718 Q57.1264 928.718 54.0477 924.134 Q50.9921 919.528 50.9921 910.801 Q50.9921 902.051 54.0477 897.468 Q57.1264 892.861 62.9365 892.861 Z\\\" fill=\\\"#000000\\\" fill-rule=\\\"evenodd\\\" fill-opacity=\\\"1\\\" \\/><path clip-path=\\\"url(#clip640)\\\" d=\\\"M 0 0 M79.9503 922.167 L84.8345 922.167 L84.8345 928.046 L79.9503 928.046 L79.9503 922.167 Z\\\" fill=\\\"#000000\\\" fill-rule=\\\"evenodd\\\" fill-opacity=\\\"1\\\" \\/><path clip-path=\\\"url(#clip640)\\\" d=\\\"M 0 0 M102.751 897.56 L90.9456 916.009 L102.751 916.009 L102.751 897.56 M101.524 893.486 L107.404 893.486 L107.404 916.009 L112.334 916.009 L112.334 919.898 L107.404 919.898 L107.404 928.046 L102.751 928.046 L102.751 919.898 L87.1493 919.898 L87.1493 915.384 L101.524 893.486 Z\\\" fill=\\\"#000000\\\" fill-rule=\\\"evenodd\\\" fill-opacity=\\\"1\\\" \\/><path clip-path=\\\"url(#clip640)\\\" d=\\\"M 0 0 M63.2606 608.724 Q59.6495 608.724 57.8208 612.289 Q56.0152 615.831 56.0152 622.96 Q56.0152 630.067 57.8208 633.632 Q59.6495 637.173 63.2606 637.173 Q66.8948 637.173 68.7004 633.632 Q70.5291 630.067 70.5291 622.96 Q70.5291 615.831 68.7004 612.289 Q66.8948 608.724 63.2606 608.724 M63.2606 605.021 Q69.0707 605.021 72.1263 609.627 Q75.205 614.21 75.205 622.96 Q75.205 631.687 72.1263 636.294 Q69.0707 640.877 63.2606 640.877 Q57.4504 640.877 54.3717 636.294 Q51.3162 631.687 51.3162 622.96 Q51.3162 614.21 54.3717 609.627 Q57.4504 605.021 63.2606 605.021 Z\\\" fill=\\\"#000000\\\" fill-rule=\\\"evenodd\\\" fill-opacity=\\\"1\\\" \\/><path clip-path=\\\"url(#clip640)\\\" d=\\\"M 0 0 M80.2744 634.326 L85.1586 634.326 L85.1586 640.206 L80.2744 640.206 L80.2744 634.326 Z\\\" fill=\\\"#000000\\\" fill-rule=\\\"evenodd\\\" fill-opacity=\\\"1\\\" \\/><path clip-path=\\\"url(#clip640)\\\" d=\\\"M 0 0 M100.807 621.062 Q97.6585 621.062 95.8067 623.215 Q93.978 625.368 93.978 629.118 Q93.978 632.845 95.8067 635.02 Q97.6585 637.173 100.807 637.173 Q103.955 637.173 105.783 635.02 Q107.635 632.845 107.635 629.118 Q107.635 625.368 105.783 623.215 Q103.955 621.062 100.807 621.062 M110.089 606.409 L110.089 610.669 Q108.33 609.835 106.524 609.396 Q104.742 608.956 102.983 608.956 Q98.353 608.956 95.8993 612.081 Q93.4688 615.206 93.1215 621.525 Q94.4873 619.511 96.5474 618.446 Q98.6076 617.359 101.084 617.359 Q106.293 617.359 109.302 620.53 Q112.334 623.678 112.334 629.118 Q112.334 634.442 109.186 637.659 Q106.038 640.877 100.807 640.877 Q94.8113 640.877 91.6401 636.294 Q88.4688 631.687 88.4688 622.96 Q88.4688 614.766 92.3576 609.905 Q96.2465 605.021 102.797 605.021 Q104.557 605.021 106.339 605.368 Q108.145 605.715 110.089 606.409 Z\\\" fill=\\\"#000000\\\" fill-rule=\\\"evenodd\\\" fill-opacity=\\\"1\\\" \\/><path clip-path=\\\"url(#clip640)\\\" d=\\\"M 0 0 M63.5152 320.884 Q59.9041 320.884 58.0754 324.448 Q56.2699 327.99 56.2699 335.12 Q56.2699 342.226 58.0754 345.791 Q59.9041 349.332 63.5152 349.332 Q67.1494 349.332 68.955 345.791 Q70.7837 342.226 70.7837 335.12 Q70.7837 327.99 68.955 324.448 Q67.1494 320.884 63.5152 320.884 M63.5152 317.18 Q69.3254 317.18 72.3809 321.786 Q75.4596 326.37 75.4596 335.12 Q75.4596 343.846 72.3809 348.453 Q69.3254 353.036 63.5152 353.036 Q57.7051 353.036 54.6264 348.453 Q51.5708 343.846 51.5708 335.12 Q51.5708 326.37 54.6264 321.786 Q57.7051 317.18 63.5152 317.18 Z\\\" fill=\\\"#000000\\\" fill-rule=\\\"evenodd\\\" fill-opacity=\\\"1\\\" \\/><path clip-path=\\\"url(#clip640)\\\" d=\\\"M 0 0 M80.529 346.485 L85.4132 346.485 L85.4132 352.365 L80.529 352.365 L80.529 346.485 Z\\\" fill=\\\"#000000\\\" fill-rule=\\\"evenodd\\\" fill-opacity=\\\"1\\\" \\/><path clip-path=\\\"url(#clip640)\\\" d=\\\"M 0 0 M100.483 335.953 Q97.1493 335.953 95.228 337.735 Q93.3299 339.518 93.3299 342.643 Q93.3299 345.768 95.228 347.55 Q97.1493 349.332 100.483 349.332 Q103.816 349.332 105.737 347.55 Q107.658 345.745 107.658 342.643 Q107.658 339.518 105.737 337.735 Q103.839 335.953 100.483 335.953 M95.8067 333.962 Q92.7975 333.221 91.1077 331.161 Q89.441 329.101 89.441 326.138 Q89.441 321.995 92.3808 319.587 Q95.3437 317.18 100.483 317.18 Q105.645 317.18 108.584 319.587 Q111.524 321.995 111.524 326.138 Q111.524 329.101 109.834 331.161 Q108.168 333.221 105.182 333.962 Q108.561 334.749 110.436 337.041 Q112.334 339.333 112.334 342.643 Q112.334 347.666 109.256 350.351 Q106.2 353.036 100.483 353.036 Q94.765 353.036 91.6864 350.351 Q88.6308 347.666 88.6308 342.643 Q88.6308 339.333 90.529 337.041 Q92.4271 334.749 95.8067 333.962 M94.0937 326.578 Q94.0937 329.263 95.7604 330.768 Q97.4502 332.272 100.483 332.272 Q103.492 332.272 105.182 330.768 Q106.895 329.263 106.895 326.578 Q106.895 323.893 105.182 322.388 Q103.492 320.884 100.483 320.884 Q97.4502 320.884 95.7604 322.388 Q94.0937 323.893 94.0937 326.578 Z\\\" fill=\\\"#000000\\\" fill-rule=\\\"evenodd\\\" fill-opacity=\\\"1\\\" \\/><path clip-path=\\\"url(#clip640)\\\" d=\\\"M 0 0 M55.4597 60.5889 L63.0985 60.5889 L63.0985 34.2233 L54.7884 35.89 L54.7884 31.6308 L63.0522 29.9641 L67.7281 29.9641 L67.7281 60.5889 L75.367 60.5889 L75.367 64.5241 L55.4597 64.5241 L55.4597 60.5889 Z\\\" fill=\\\"#000000\\\" fill-rule=\\\"evenodd\\\" fill-opacity=\\\"1\\\" \\/><path clip-path=\\\"url(#clip640)\\\" d=\\\"M 0 0 M80.4364 58.6445 L85.3206 58.6445 L85.3206 64.5241 L80.4364 64.5241 L80.4364 58.6445 Z\\\" fill=\\\"#000000\\\" fill-rule=\\\"evenodd\\\" fill-opacity=\\\"1\\\" \\/><path clip-path=\\\"url(#clip640)\\\" d=\\\"M 0 0 M100.39 33.0428 Q96.7789 33.0428 94.9502 36.6076 Q93.1447 40.1492 93.1447 47.2788 Q93.1447 54.3853 94.9502 57.9501 Q96.7789 61.4917 100.39 61.4917 Q104.024 61.4917 105.83 57.9501 Q107.658 54.3853 107.658 47.2788 Q107.658 40.1492 105.83 36.6076 Q104.024 33.0428 100.39 33.0428 M100.39 29.3391 Q106.2 29.3391 109.256 33.9456 Q112.334 38.5289 112.334 47.2788 Q112.334 56.0056 109.256 60.6121 Q106.2 65.1954 100.39 65.1954 Q94.5799 65.1954 91.5012 60.6121 Q88.4456 56.0056 88.4456 47.2788 Q88.4456 38.5289 91.5012 33.9456 Q94.5799 29.3391 100.39 29.3391 Z\\\" fill=\\\"#000000\\\" fill-rule=\\\"evenodd\\\" fill-opacity=\\\"1\\\" \\/><circle clip-path=\\\"url(#clip642)\\\" cx=\\\"919.281\\\" cy=\\\"766.846\\\" r=\\\"14\\\" fill=\\\"#009af9\\\" fill-rule=\\\"evenodd\\\" fill-opacity=\\\"1\\\" stroke=\\\"#000000\\\" stroke-opacity=\\\"1\\\" stroke-width=\\\"3.2\\\"\\/>\\n<circle clip-path=\\\"url(#clip642)\\\" cx=\\\"1165.28\\\" cy=\\\"766.846\\\" r=\\\"14\\\" fill=\\\"#009af9\\\" fill-rule=\\\"evenodd\\\" fill-opacity=\\\"1\\\" stroke=\\\"#000000\\\" stroke-opacity=\\\"1\\\" stroke-width=\\\"3.2\\\"\\/>\\n<circle clip-path=\\\"url(#clip642)\\\" cx=\\\"1018.4\\\" cy=\\\"766.846\\\" r=\\\"14\\\" fill=\\\"#009af9\\\" fill-rule=\\\"evenodd\\\" fill-opacity=\\\"1\\\" stroke=\\\"#000000\\\" stroke-opacity=\\\"1\\\" stroke-width=\\\"3.2\\\"\\/>\\n<circle clip-path=\\\"url(#clip642)\\\" cx=\\\"614.654\\\" cy=\\\"766.846\\\" r=\\\"14\\\" fill=\\\"#009af9\\\" fill-rule=\\\"evenodd\\\" fill-opacity=\\\"1\\\" stroke=\\\"#000000\\\" stroke-opacity=\\\"1\\\" stroke-width=\\\"3.2\\\"\\/>\\n<circle clip-path=\\\"url(#clip642)\\\" cx=\\\"186.63\\\" cy=\\\"766.846\\\" r=\\\"14\\\" fill=\\\"#009af9\\\" fill-rule=\\\"evenodd\\\" fill-opacity=\\\"1\\\" stroke=\\\"#000000\\\" stroke-opacity=\\\"1\\\" stroke-width=\\\"3.2\\\"\\/>\\n<circle clip-path=\\\"url(#clip642)\\\" cx=\\\"875.345\\\" cy=\\\"766.846\\\" r=\\\"14\\\" fill=\\\"#009af9\\\" fill-rule=\\\"evenodd\\\" fill-opacity=\\\"1\\\" stroke=\\\"#000000\\\" stroke-opacity=\\\"1\\\" stroke-width=\\\"3.2\\\"\\/>\\n<circle clip-path=\\\"url(#clip642)\\\" cx=\\\"323.106\\\" cy=\\\"766.846\\\" r=\\\"14\\\" fill=\\\"#009af9\\\" fill-rule=\\\"evenodd\\\" fill-opacity=\\\"1\\\" stroke=\\\"#000000\\\" stroke-opacity=\\\"1\\\" stroke-width=\\\"3.2\\\"\\/>\\n<circle clip-path=\\\"url(#clip642)\\\" cx=\\\"1523.68\\\" cy=\\\"766.846\\\" r=\\\"14\\\" fill=\\\"#009af9\\\" fill-rule=\\\"evenodd\\\" fill-opacity=\\\"1\\\" stroke=\\\"#000000\\\" stroke-opacity=\\\"1\\\" stroke-width=\\\"3.2\\\"\\/>\\n<circle clip-path=\\\"url(#clip642)\\\" cx=\\\"2133.77\\\" cy=\\\"766.846\\\" r=\\\"14\\\" fill=\\\"#009af9\\\" fill-rule=\\\"evenodd\\\" fill-opacity=\\\"1\\\" stroke=\\\"#000000\\\" stroke-opacity=\\\"1\\\" stroke-width=\\\"3.2\\\"\\/>\\n<circle clip-path=\\\"url(#clip642)\\\" cx=\\\"1047.17\\\" cy=\\\"766.846\\\" r=\\\"14\\\" fill=\\\"#009af9\\\" fill-rule=\\\"evenodd\\\" fill-opacity=\\\"1\\\" stroke=\\\"#000000\\\" stroke-opacity=\\\"1\\\" stroke-width=\\\"3.2\\\"\\/>\\n<circle clip-path=\\\"url(#clip642)\\\" cx=\\\"1970.94\\\" cy=\\\"766.846\\\" r=\\\"14\\\" fill=\\\"#009af9\\\" fill-rule=\\\"evenodd\\\" fill-opacity=\\\"1\\\" stroke=\\\"#000000\\\" stroke-opacity=\\\"1\\\" stroke-width=\\\"3.2\\\"\\/>\\n<circle clip-path=\\\"url(#clip642)\\\" cx=\\\"1245.49\\\" cy=\\\"766.846\\\" r=\\\"14\\\" fill=\\\"#009af9\\\" fill-rule=\\\"evenodd\\\" fill-opacity=\\\"1\\\" stroke=\\\"#000000\\\" stroke-opacity=\\\"1\\\" stroke-width=\\\"3.2\\\"\\/>\\n<circle clip-path=\\\"url(#clip642)\\\" cx=\\\"1561.25\\\" cy=\\\"766.846\\\" r=\\\"14\\\" fill=\\\"#009af9\\\" fill-rule=\\\"evenodd\\\" fill-opacity=\\\"1\\\" stroke=\\\"#000000\\\" stroke-opacity=\\\"1\\\" stroke-width=\\\"3.2\\\"\\/>\\n<circle clip-path=\\\"url(#clip642)\\\" cx=\\\"1424.52\\\" cy=\\\"766.846\\\" r=\\\"14\\\" fill=\\\"#009af9\\\" fill-rule=\\\"evenodd\\\" fill-opacity=\\\"1\\\" stroke=\\\"#000000\\\" stroke-opacity=\\\"1\\\" stroke-width=\\\"3.2\\\"\\/>\\n<circle clip-path=\\\"url(#clip642)\\\" cx=\\\"1423.3\\\" cy=\\\"766.846\\\" r=\\\"14\\\" fill=\\\"#009af9\\\" fill-rule=\\\"evenodd\\\" fill-opacity=\\\"1\\\" stroke=\\\"#000000\\\" stroke-opacity=\\\"1\\\" stroke-width=\\\"3.2\\\"\\/>\\n<circle clip-path=\\\"url(#clip642)\\\" cx=\\\"950.878\\\" cy=\\\"766.846\\\" r=\\\"14\\\" fill=\\\"#009af9\\\" fill-rule=\\\"evenodd\\\" fill-opacity=\\\"1\\\" stroke=\\\"#000000\\\" stroke-opacity=\\\"1\\\" stroke-width=\\\"3.2\\\"\\/>\\n<circle clip-path=\\\"url(#clip642)\\\" cx=\\\"1224.46\\\" cy=\\\"766.846\\\" r=\\\"14\\\" fill=\\\"#009af9\\\" fill-rule=\\\"evenodd\\\" fill-opacity=\\\"1\\\" stroke=\\\"#000000\\\" stroke-opacity=\\\"1\\\" stroke-width=\\\"3.2\\\"\\/>\\n<circle clip-path=\\\"url(#clip642)\\\" cx=\\\"759.079\\\" cy=\\\"766.846\\\" r=\\\"14\\\" fill=\\\"#009af9\\\" fill-rule=\\\"evenodd\\\" fill-opacity=\\\"1\\\" stroke=\\\"#000000\\\" stroke-opacity=\\\"1\\\" stroke-width=\\\"3.2\\\"\\/>\\n<circle clip-path=\\\"url(#clip642)\\\" cx=\\\"1783.14\\\" cy=\\\"766.846\\\" r=\\\"14\\\" fill=\\\"#009af9\\\" fill-rule=\\\"evenodd\\\" fill-opacity=\\\"1\\\" stroke=\\\"#000000\\\" stroke-opacity=\\\"1\\\" stroke-width=\\\"3.2\\\"\\/>\\n<circle clip-path=\\\"url(#clip642)\\\" cx=\\\"886.461\\\" cy=\\\"766.846\\\" r=\\\"14\\\" fill=\\\"#009af9\\\" fill-rule=\\\"evenodd\\\" fill-opacity=\\\"1\\\" stroke=\\\"#000000\\\" stroke-opacity=\\\"1\\\" stroke-width=\\\"3.2\\\"\\/>\\n<circle clip-path=\\\"url(#clip642)\\\" cx=\\\"1623.34\\\" cy=\\\"766.846\\\" r=\\\"14\\\" fill=\\\"#009af9\\\" fill-rule=\\\"evenodd\\\" fill-opacity=\\\"1\\\" stroke=\\\"#000000\\\" stroke-opacity=\\\"1\\\" stroke-width=\\\"3.2\\\"\\/>\\n<circle clip-path=\\\"url(#clip642)\\\" cx=\\\"336.155\\\" cy=\\\"766.846\\\" r=\\\"14\\\" fill=\\\"#009af9\\\" fill-rule=\\\"evenodd\\\" fill-opacity=\\\"1\\\" stroke=\\\"#000000\\\" stroke-opacity=\\\"1\\\" stroke-width=\\\"3.2\\\"\\/>\\n<circle clip-path=\\\"url(#clip642)\\\" cx=\\\"264.761\\\" cy=\\\"766.846\\\" r=\\\"14\\\" fill=\\\"#009af9\\\" fill-rule=\\\"evenodd\\\" fill-opacity=\\\"1\\\" stroke=\\\"#000000\\\" stroke-opacity=\\\"1\\\" stroke-width=\\\"3.2\\\"\\/>\\n<circle clip-path=\\\"url(#clip642)\\\" cx=\\\"2172.48\\\" cy=\\\"766.846\\\" r=\\\"14\\\" fill=\\\"#009af9\\\" fill-rule=\\\"evenodd\\\" fill-opacity=\\\"1\\\" stroke=\\\"#000000\\\" stroke-opacity=\\\"1\\\" stroke-width=\\\"3.2\\\"\\/>\\n<circle clip-path=\\\"url(#clip642)\\\" cx=\\\"1391.19\\\" cy=\\\"766.846\\\" r=\\\"14\\\" fill=\\\"#009af9\\\" fill-rule=\\\"evenodd\\\" fill-opacity=\\\"1\\\" stroke=\\\"#000000\\\" stroke-opacity=\\\"1\\\" stroke-width=\\\"3.2\\\"\\/>\\n<circle clip-path=\\\"url(#clip642)\\\" cx=\\\"1970.93\\\" cy=\\\"766.846\\\" r=\\\"14\\\" fill=\\\"#009af9\\\" fill-rule=\\\"evenodd\\\" fill-opacity=\\\"1\\\" stroke=\\\"#000000\\\" stroke-opacity=\\\"1\\\" stroke-width=\\\"3.2\\\"\\/>\\n<circle clip-path=\\\"url(#clip642)\\\" cx=\\\"281.409\\\" cy=\\\"766.846\\\" r=\\\"14\\\" fill=\\\"#009af9\\\" fill-rule=\\\"evenodd\\\" fill-opacity=\\\"1\\\" stroke=\\\"#000000\\\" stroke-opacity=\\\"1\\\" stroke-width=\\\"3.2\\\"\\/>\\n<circle clip-path=\\\"url(#clip642)\\\" cx=\\\"478.291\\\" cy=\\\"766.846\\\" r=\\\"14\\\" fill=\\\"#009af9\\\" fill-rule=\\\"evenodd\\\" fill-opacity=\\\"1\\\" stroke=\\\"#000000\\\" stroke-opacity=\\\"1\\\" stroke-width=\\\"3.2\\\"\\/>\\n<circle clip-path=\\\"url(#clip642)\\\" cx=\\\"903.804\\\" cy=\\\"766.846\\\" r=\\\"14\\\" fill=\\\"#009af9\\\" fill-rule=\\\"evenodd\\\" fill-opacity=\\\"1\\\" stroke=\\\"#000000\\\" stroke-opacity=\\\"1\\\" stroke-width=\\\"3.2\\\"\\/>\\n<circle clip-path=\\\"url(#clip642)\\\" cx=\\\"2156.09\\\" cy=\\\"766.846\\\" r=\\\"14\\\" fill=\\\"#009af9\\\" fill-rule=\\\"evenodd\\\" fill-opacity=\\\"1\\\" stroke=\\\"#000000\\\" stroke-opacity=\\\"1\\\" stroke-width=\\\"3.2\\\"\\/>\\n<circle clip-path=\\\"url(#clip642)\\\" cx=\\\"1815.44\\\" cy=\\\"766.846\\\" r=\\\"14\\\" fill=\\\"#009af9\\\" fill-rule=\\\"evenodd\\\" fill-opacity=\\\"1\\\" stroke=\\\"#000000\\\" stroke-opacity=\\\"1\\\" stroke-width=\\\"3.2\\\"\\/>\\n<circle clip-path=\\\"url(#clip642)\\\" cx=\\\"2124.21\\\" cy=\\\"766.846\\\" r=\\\"14\\\" fill=\\\"#009af9\\\" fill-rule=\\\"evenodd\\\" fill-opacity=\\\"1\\\" stroke=\\\"#000000\\\" stroke-opacity=\\\"1\\\" stroke-width=\\\"3.2\\\"\\/>\\n<circle clip-path=\\\"url(#clip642)\\\" cx=\\\"1674.69\\\" cy=\\\"766.846\\\" r=\\\"14\\\" fill=\\\"#009af9\\\" fill-rule=\\\"evenodd\\\" fill-opacity=\\\"1\\\" stroke=\\\"#000000\\\" stroke-opacity=\\\"1\\\" stroke-width=\\\"3.2\\\"\\/>\\n<circle clip-path=\\\"url(#clip642)\\\" cx=\\\"1534.35\\\" cy=\\\"766.846\\\" r=\\\"14\\\" fill=\\\"#009af9\\\" fill-rule=\\\"evenodd\\\" fill-opacity=\\\"1\\\" stroke=\\\"#000000\\\" stroke-opacity=\\\"1\\\" stroke-width=\\\"3.2\\\"\\/>\\n<circle clip-path=\\\"url(#clip642)\\\" cx=\\\"1857.72\\\" cy=\\\"766.846\\\" r=\\\"14\\\" fill=\\\"#009af9\\\" fill-rule=\\\"evenodd\\\" fill-opacity=\\\"1\\\" stroke=\\\"#000000\\\" stroke-opacity=\\\"1\\\" stroke-width=\\\"3.2\\\"\\/>\\n<circle clip-path=\\\"url(#clip642)\\\" cx=\\\"1269.53\\\" cy=\\\"766.846\\\" r=\\\"14\\\" fill=\\\"#009af9\\\" fill-rule=\\\"evenodd\\\" fill-opacity=\\\"1\\\" stroke=\\\"#000000\\\" stroke-opacity=\\\"1\\\" stroke-width=\\\"3.2\\\"\\/>\\n<circle clip-path=\\\"url(#clip642)\\\" cx=\\\"1090.26\\\" cy=\\\"766.846\\\" r=\\\"14\\\" fill=\\\"#009af9\\\" fill-rule=\\\"evenodd\\\" fill-opacity=\\\"1\\\" stroke=\\\"#000000\\\" stroke-opacity=\\\"1\\\" stroke-width=\\\"3.2\\\"\\/>\\n<circle clip-path=\\\"url(#clip642)\\\" cx=\\\"1838.11\\\" cy=\\\"766.846\\\" r=\\\"14\\\" fill=\\\"#009af9\\\" fill-rule=\\\"evenodd\\\" fill-opacity=\\\"1\\\" stroke=\\\"#000000\\\" stroke-opacity=\\\"1\\\" stroke-width=\\\"3.2\\\"\\/>\\n<circle clip-path=\\\"url(#clip642)\\\" cx=\\\"1839.2\\\" cy=\\\"766.846\\\" r=\\\"14\\\" fill=\\\"#009af9\\\" fill-rule=\\\"evenodd\\\" fill-opacity=\\\"1\\\" stroke=\\\"#000000\\\" stroke-opacity=\\\"1\\\" stroke-width=\\\"3.2\\\"\\/>\\n<circle clip-path=\\\"url(#clip642)\\\" cx=\\\"762.855\\\" cy=\\\"766.846\\\" r=\\\"14\\\" fill=\\\"#009af9\\\" fill-rule=\\\"evenodd\\\" fill-opacity=\\\"1\\\" stroke=\\\"#000000\\\" stroke-opacity=\\\"1\\\" stroke-width=\\\"3.2\\\"\\/>\\n<circle clip-path=\\\"url(#clip642)\\\" cx=\\\"1986.44\\\" cy=\\\"766.846\\\" r=\\\"14\\\" fill=\\\"#009af9\\\" fill-rule=\\\"evenodd\\\" fill-opacity=\\\"1\\\" stroke=\\\"#000000\\\" stroke-opacity=\\\"1\\\" stroke-width=\\\"3.2\\\"\\/>\\n<circle clip-path=\\\"url(#clip642)\\\" cx=\\\"1763.9\\\" cy=\\\"766.846\\\" r=\\\"14\\\" fill=\\\"#009af9\\\" fill-rule=\\\"evenodd\\\" fill-opacity=\\\"1\\\" stroke=\\\"#000000\\\" stroke-opacity=\\\"1\\\" stroke-width=\\\"3.2\\\"\\/>\\n<circle clip-path=\\\"url(#clip642)\\\" cx=\\\"672.122\\\" cy=\\\"766.846\\\" r=\\\"14\\\" fill=\\\"#009af9\\\" fill-rule=\\\"evenodd\\\" fill-opacity=\\\"1\\\" stroke=\\\"#000000\\\" stroke-opacity=\\\"1\\\" stroke-width=\\\"3.2\\\"\\/>\\n<circle clip-path=\\\"url(#clip642)\\\" cx=\\\"794.155\\\" cy=\\\"766.846\\\" r=\\\"14\\\" fill=\\\"#009af9\\\" fill-rule=\\\"evenodd\\\" fill-opacity=\\\"1\\\" stroke=\\\"#000000\\\" stroke-opacity=\\\"1\\\" stroke-width=\\\"3.2\\\"\\/>\\n<circle clip-path=\\\"url(#clip642)\\\" cx=\\\"1163.04\\\" cy=\\\"766.846\\\" r=\\\"14\\\" fill=\\\"#009af9\\\" fill-rule=\\\"evenodd\\\" fill-opacity=\\\"1\\\" stroke=\\\"#000000\\\" stroke-opacity=\\\"1\\\" stroke-width=\\\"3.2\\\"\\/>\\n<circle clip-path=\\\"url(#clip642)\\\" cx=\\\"1155.95\\\" cy=\\\"766.846\\\" r=\\\"14\\\" fill=\\\"#009af9\\\" fill-rule=\\\"evenodd\\\" fill-opacity=\\\"1\\\" stroke=\\\"#000000\\\" stroke-opacity=\\\"1\\\" stroke-width=\\\"3.2\\\"\\/>\\n<circle clip-path=\\\"url(#clip642)\\\" cx=\\\"1247.99\\\" cy=\\\"766.846\\\" r=\\\"14\\\" fill=\\\"#009af9\\\" fill-rule=\\\"evenodd\\\" fill-opacity=\\\"1\\\" stroke=\\\"#000000\\\" stroke-opacity=\\\"1\\\" stroke-width=\\\"3.2\\\"\\/>\\n<circle clip-path=\\\"url(#clip642)\\\" cx=\\\"235.221\\\" cy=\\\"766.846\\\" r=\\\"14\\\" fill=\\\"#009af9\\\" fill-rule=\\\"evenodd\\\" fill-opacity=\\\"1\\\" stroke=\\\"#000000\\\" stroke-opacity=\\\"1\\\" stroke-width=\\\"3.2\\\"\\/>\\n<circle clip-path=\\\"url(#clip642)\\\" cx=\\\"623.722\\\" cy=\\\"766.846\\\" r=\\\"14\\\" fill=\\\"#009af9\\\" fill-rule=\\\"evenodd\\\" fill-opacity=\\\"1\\\" stroke=\\\"#000000\\\" stroke-opacity=\\\"1\\\" stroke-width=\\\"3.2\\\"\\/>\\n<circle clip-path=\\\"url(#clip642)\\\" cx=\\\"285.385\\\" cy=\\\"766.846\\\" r=\\\"14\\\" fill=\\\"#009af9\\\" fill-rule=\\\"evenodd\\\" fill-opacity=\\\"1\\\" stroke=\\\"#000000\\\" stroke-opacity=\\\"1\\\" stroke-width=\\\"3.2\\\"\\/>\\n<path clip-path=\\\"url(#clip640)\\\" d=\\\"\\nM1983.32 216.178 L2279.28 216.178 L2279.28 95.2176 L1983.32 95.2176  Z\\n  \\\" fill=\\\"#ffffff\\\" fill-rule=\\\"evenodd\\\" fill-opacity=\\\"1\\\"\\/>\\n<polyline clip-path=\\\"url(#clip640)\\\" style=\\\"stroke:#000000; stroke-width:4; stroke-opacity:1; fill:none\\\" points=\\\"\\n  1983.32,216.178 2279.28,216.178 2279.28,95.2176 1983.32,95.2176 1983.32,216.178 \\n  \\\"\\/>\\n<circle clip-path=\\\"url(#clip640)\\\" cx=\\\"2081.3\\\" cy=\\\"155.698\\\" r=\\\"23\\\" fill=\\\"#009af9\\\" fill-rule=\\\"evenodd\\\" fill-opacity=\\\"1\\\" stroke=\\\"#000000\\\" stroke-opacity=\\\"1\\\" stroke-width=\\\"5.12\\\"\\/>\\n<path clip-path=\\\"url(#clip640)\\\" d=\\\"M 0 0 M2193.11 175.385 Q2191.31 180.015 2189.59 181.427 Q2187.88 182.839 2185.01 182.839 L2181.61 182.839 L2181.61 179.274 L2184.11 179.274 Q2185.87 179.274 2186.84 178.44 Q2187.81 177.607 2188.99 174.505 L2189.76 172.561 L2179.27 147.052 L2183.78 147.052 L2191.89 167.329 L2199.99 147.052 L2204.5 147.052 L2193.11 175.385 Z\\\" fill=\\\"#000000\\\" fill-rule=\\\"evenodd\\\" fill-opacity=\\\"1\\\" \\/><path clip-path=\\\"url(#clip640)\\\" d=\\\"M 0 0 M2210.38 169.042 L2218.02 169.042 L2218.02 142.677 L2209.71 144.343 L2209.71 140.084 L2217.97 138.418 L2222.65 138.418 L2222.65 169.042 L2230.29 169.042 L2230.29 172.978 L2210.38 172.978 L2210.38 169.042 Z\\\" fill=\\\"#000000\\\" fill-rule=\\\"evenodd\\\" fill-opacity=\\\"1\\\" \\/><\\/svg>\\n\"},\"nodeType\":\"DOM\",\"type\":\"node\",\"instanceArgs\":{\"namespace\":\"html\",\"tag\":\"div\"},\"children\":[]}]}}}},\"children\":[{\"props\":{},\"nodeType\":\"ObservableNode\",\"type\":\"node\",\"instanceArgs\":{\"id\":\"7305369333541488841\",\"name\":\"obs-node\"},\"children\":[]}]}]},\n",
       "            window,\n",
       "        );\n",
       "    } else {\n",
       "        document\n",
       "            .querySelector('[data-webio-mountpoint=\"5037931127798398826\"]')\n",
       "            .innerHTML = (\n",
       "                '<div style=\"padding: 1em; background-color: #f8d6da; border: 1px solid #f5c6cb\">' +\n",
       "                '<p><strong>WebIO not detected.</strong></p>' +\n",
       "                '<p>Please read ' +\n",
       "                '<a href=\"https://juliagizmos.github.io/WebIO.jl/latest/troubleshooting/not-detected/\" target=\"_blank\">the troubleshooting guide</a> ' +\n",
       "                'for more information on how to resolve this issue.</p>' +\n",
       "                '<p><a href=\"https://juliagizmos.github.io/WebIO.jl/latest/troubleshooting/not-detected/\" target=\"_blank\">https://juliagizmos.github.io/WebIO.jl/latest/troubleshooting/not-detected/</a></p>' +\n",
       "                '</div>'\n",
       "            );\n",
       "    }\n",
       "    </script>\n",
       "</div>\n"
      ],
      "text/plain": [
       "Node{WebIO.DOM}(WebIO.DOM(:html, :div), Any[Node{WebIO.DOM}(WebIO.DOM(:html, :div), Any[Scope(Node{WebIO.DOM}(WebIO.DOM(:html, :div), Any[Node{WebIO.DOM}(WebIO.DOM(:html, :div), Any[Node{WebIO.DOM}(WebIO.DOM(:html, :label), Any[\"n\"], Dict{Symbol, Any}(:className => \"interact \", :style => Dict{Any, Any}(:padding => \"5px 10px 0px 10px\")))], Dict{Symbol, Any}(:className => \"interact-flex-row-left\")), Node{WebIO.DOM}(WebIO.DOM(:html, :div), Any[Node{WebIO.DOM}(WebIO.DOM(:html, :input), Any[], Dict{Symbol, Any}(:max => 100, :min => 1, :attributes => Dict{Any, Any}(:type => \"range\", Symbol(\"data-bind\") => \"numericValue: index, valueUpdate: 'input', event: {change: function (){this.changes(this.changes()+1)}}\", \"orient\" => \"horizontal\"), :step => 1, :className => \"slider slider is-fullwidth\", :style => Dict{Any, Any}()))], Dict{Symbol, Any}(:className => \"interact-flex-row-center\")), Node{WebIO.DOM}(WebIO.DOM(:html, :div), Any[Node{WebIO.DOM}(WebIO.DOM(:html, :p), Any[], Dict{Symbol, Any}(:attributes => Dict(\"data-bind\" => \"text: formatted_val\")))], Dict{Symbol, Any}(:className => \"interact-flex-row-right\"))], Dict{Symbol, Any}(:className => \"interact-flex-row interact-widget\")), Dict{String, Tuple{Observables.AbstractObservable, Union{Nothing, Bool}}}(\"changes\" => (Observable{Int64} with 1 listeners. Value:\n",
       "0, nothing), \"index\" => (Observable{Int64} with 2 listeners. Value:\n",
       "50, nothing)), Set{String}(), nothing, Asset[Asset(\"js\", \"knockout\", \"/home/marcon/.julia/packages/Knockout/IP1uR/src/../assets/knockout.js\"), Asset(\"js\", \"knockout_punches\", \"/home/marcon/.julia/packages/Knockout/IP1uR/src/../assets/knockout_punches.js\"), Asset(\"js\", nothing, \"/home/marcon/.julia/packages/InteractBase/Zfu5P/src/../assets/all.js\"), Asset(\"css\", nothing, \"/home/marcon/.julia/packages/InteractBase/Zfu5P/src/../assets/style.css\"), Asset(\"css\", nothing, \"/home/marcon/.julia/packages/Interact/SbgIk/src/../assets/bulma_confined.min.css\")], Dict{Any, Any}(\"changes\" => Any[WebIO.JSString(\"(function (val){return (val!=this.model[\\\"changes\\\"]()) ? (this.valueFromJulia[\\\"changes\\\"]=true, this.model[\\\"changes\\\"](val)) : undefined})\")], \"index\" => Any[WebIO.JSString(\"(function (val){return (val!=this.model[\\\"index\\\"]()) ? (this.valueFromJulia[\\\"index\\\"]=true, this.model[\\\"index\\\"](val)) : undefined})\")]), WebIO.ConnectionPool(Channel{Any}(32), Set{AbstractConnection}(), Condition(Base.InvasiveLinkedList{Task}(Task (runnable) @0x00007f1f05845510, Task (runnable) @0x00007f1f05845510), Base.AlwaysLockedST(1))), WebIO.JSString[WebIO.JSString(\"function () {\\n    var handler = (function (ko, koPunches) {\\n    ko.punches.enableAll();\\n    ko.bindingHandlers.numericValue = {\\n        init: function(element, valueAccessor, allBindings, data, context) {\\n            var stringified = ko.observable(ko.unwrap(valueAccessor()));\\n            stringified.subscribe(function(value) {\\n                var val = parseFloat(value);\\n                if (!isNaN(val)) {\\n                    valueAccessor()(val);\\n                }\\n            });\\n            valueAccessor().subscribe(function(value) {\\n                var str = JSON.stringify(value);\\n                if ((str == \\\"0\\\") && ([\\\"-0\\\", \\\"-0.\\\"].indexOf(stringified()) >= 0))\\n                     return;\\n                 if ([\\\"null\\\", \\\"\\\"].indexOf(str) >= 0)\\n                     return;\\n                stringified(str);\\n            });\\n            ko.applyBindingsToNode(\\n                element,\\n                {\\n                    value: stringified,\\n                    valueUpdate: allBindings.get('valueUpdate'),\\n                },\\n                context,\\n            );\\n        }\\n    };\\n    var json_data = {\\\"formatted_vals\\\":[\\\"1\\\",\\\"2\\\",\\\"3\\\",\\\"4\\\",\\\"5\\\",\\\"6\\\",\\\"7\\\",\\\"8\\\",\\\"9\\\",\\\"10\\\",\\\"11\\\",\\\"12\\\",\\\"13\\\",\\\"14\\\",\\\"15\\\",\\\"16\\\",\\\"17\\\",\\\"18\\\",\\\"19\\\",\\\"20\\\",\\\"21\\\",\\\"22\\\",\\\"23\\\",\\\"24\\\",\\\"25\\\",\\\"26\\\",\\\"27\\\",\\\"28\\\",\\\"29\\\",\\\"30\\\",\\\"31\\\",\\\"32\\\",\\\"33\\\",\\\"34\\\",\\\"35\\\",\\\"36\\\",\\\"37\\\",\\\"38\\\",\\\"39\\\",\\\"40\\\",\\\"41\\\",\\\"42\\\",\\\"43\\\",\\\"44\\\",\\\"45\\\",\\\"46\\\",\\\"47\\\",\\\"48\\\",\\\"49\\\",\\\"50\\\",\\\"51\\\",\\\"52\\\",\\\"53\\\",\\\"54\\\",\\\"55\\\",\\\"56\\\",\\\"57\\\",\\\"58\\\",\\\"59\\\",\\\"60\\\",\\\"61\\\",\\\"62\\\",\\\"63\\\",\\\"64\\\",\\\"65\\\",\\\"66\\\",\\\"67\\\",\\\"68\\\",\\\"69\\\",\\\"70\\\",\\\"71\\\",\\\"72\\\",\\\"73\\\",\\\"74\\\",\\\"75\\\",\\\"76\\\",\\\"77\\\",\\\"78\\\",\\\"79\\\",\\\"80\\\",\\\"81\\\",\\\"82\\\",\\\"83\\\",\\\"84\\\",\\\"85\\\",\\\"86\\\",\\\"87\\\",\\\"88\\\",\\\"89\\\",\\\"90\\\",\\\"91\\\",\\\"92\\\",\\\"93\\\",\\\"94\\\",\\\"95\\\",\\\"96\\\",\\\"97\\\",\\\"98\\\",\\\"99\\\",\\\"100\\\"],\\\"changes\\\":WebIO.getval({\\\"name\\\":\\\"changes\\\",\\\"scope\\\":\\\"817315128134509897\\\",\\\"id\\\":\\\"1242849836371122333\\\",\\\"type\\\":\\\"observable\\\"}),\\\"index\\\":WebIO.getval({\\\"name\\\":\\\"index\\\",\\\"scope\\\":\\\"817315128134509897\\\",\\\"id\\\":\\\"5689825914062061169\\\",\\\"type\\\":\\\"observable\\\"})};\\n    var self = this;\\n    function AppViewModel() {\\n        for (var key in json_data) {\\n            var el = json_data[key];\\n            this[key] = Array.isArray(el) ? ko.observableArray(el) : ko.observable(el);\\n        }\\n        \\n        [this[\\\"formatted_val\\\"]=ko.computed(    function(){\\n        return this.formatted_vals()[parseInt(this.index())-(1)];\\n    }\\n,this)]\\n        [this[\\\"changes\\\"].subscribe((function (val){!(this.valueFromJulia[\\\"changes\\\"]) ? (WebIO.setval({\\\"name\\\":\\\"changes\\\",\\\"scope\\\":\\\"817315128134509897\\\",\\\"id\\\":\\\"1242849836371122333\\\",\\\"type\\\":\\\"observable\\\"},val)) : undefined; return this.valueFromJulia[\\\"changes\\\"]=false}),self),this[\\\"index\\\"].subscribe((function (val){!(this.valueFromJulia[\\\"index\\\"]) ? (WebIO.setval({\\\"name\\\":\\\"index\\\",\\\"scope\\\":\\\"817315128134509897\\\",\\\"id\\\":\\\"5689825914062061169\\\",\\\"type\\\":\\\"observable\\\"},val)) : undefined; return this.valueFromJulia[\\\"index\\\"]=false}),self)]\\n        \\n    }\\n    self.model = new AppViewModel();\\n    self.valueFromJulia = {};\\n    for (var key in json_data) {\\n        self.valueFromJulia[key] = false;\\n    }\\n    ko.applyBindings(self.model, self.dom);\\n}\\n);\\n    (WebIO.importBlock({\\\"data\\\":[{\\\"name\\\":\\\"knockout\\\",\\\"type\\\":\\\"js\\\",\\\"url\\\":\\\"/assetserver/4e15ea8f38f5d33bf0b2930cb09c8089f78b114e-knockout.js\\\"},{\\\"name\\\":\\\"knockout_punches\\\",\\\"type\\\":\\\"js\\\",\\\"url\\\":\\\"/assetserver/6967e46b2259ea2e5c469b61c410326b52955db7-knockout_punches.js\\\"}],\\\"type\\\":\\\"async_block\\\"})).then((imports) => handler.apply(this, imports));\\n}\\n\")])], Dict{Symbol, Any}(:className => \"field interact-widget\")), Observable{Any} with 0 listeners. Value:\n",
       "Node{WebIO.DOM}(WebIO.DOM(:html, :div), Any[Plot{Plots.GRBackend() n=1}], Dict{Symbol, Any}(:className => \"interact-flex-row interact-widget\"))], Dict{Symbol, Any}())"
      ]
     },
     "execution_count": 37,
     "metadata": {
      "@webio": {
       "kernelId": "7fa8fe9e-41fc-430a-b33b-f0b95edc8e1b"
      }
     },
     "output_type": "execute_result"
    }
   ],
   "source": [
    "Nₚₒᵢₙₜₛ = 100\n",
    "r = rand(Nₚₒᵢₙₜₛ)\n",
    "\n",
    "@manipulate for n in 1:Nₚₒᵢₙₜₛ\n",
    "    scatter(r[1:n], 0.5 * one.(r[1:n]), ylim=(0,1), xlim=(0,1))\n",
    "end"
   ]
  },
  {
   "cell_type": "code",
   "execution_count": 38,
   "metadata": {},
   "outputs": [
    {
     "data": {
      "application/vnd.webio.node+json": {
       "children": [
        {
         "children": [
          {
           "children": [
            {
             "children": [
              {
               "children": [
                {
                 "children": [
                  "n"
                 ],
                 "instanceArgs": {
                  "namespace": "html",
                  "tag": "label"
                 },
                 "nodeType": "DOM",
                 "props": {
                  "className": "interact ",
                  "style": {
                   "padding": "5px 10px 0px 10px"
                  }
                 },
                 "type": "node"
                }
               ],
               "instanceArgs": {
                "namespace": "html",
                "tag": "div"
               },
               "nodeType": "DOM",
               "props": {
                "className": "interact-flex-row-left"
               },
               "type": "node"
              },
              {
               "children": [
                {
                 "children": [],
                 "instanceArgs": {
                  "namespace": "html",
                  "tag": "input"
                 },
                 "nodeType": "DOM",
                 "props": {
                  "attributes": {
                   "data-bind": "numericValue: index, valueUpdate: 'input', event: {change: function (){this.changes(this.changes()+1)}}",
                   "orient": "horizontal",
                   "type": "range"
                  },
                  "className": "slider slider is-fullwidth",
                  "max": 100,
                  "min": 1,
                  "step": 1,
                  "style": {}
                 },
                 "type": "node"
                }
               ],
               "instanceArgs": {
                "namespace": "html",
                "tag": "div"
               },
               "nodeType": "DOM",
               "props": {
                "className": "interact-flex-row-center"
               },
               "type": "node"
              },
              {
               "children": [
                {
                 "children": [],
                 "instanceArgs": {
                  "namespace": "html",
                  "tag": "p"
                 },
                 "nodeType": "DOM",
                 "props": {
                  "attributes": {
                   "data-bind": "text: formatted_val"
                  }
                 },
                 "type": "node"
                }
               ],
               "instanceArgs": {
                "namespace": "html",
                "tag": "div"
               },
               "nodeType": "DOM",
               "props": {
                "className": "interact-flex-row-right"
               },
               "type": "node"
              }
             ],
             "instanceArgs": {
              "namespace": "html",
              "tag": "div"
             },
             "nodeType": "DOM",
             "props": {
              "className": "interact-flex-row interact-widget"
             },
             "type": "node"
            }
           ],
           "instanceArgs": {
            "handlers": {
             "changes": [
              "(function (val){return (val!=this.model[\"changes\"]()) ? (this.valueFromJulia[\"changes\"]=true, this.model[\"changes\"](val)) : undefined})"
             ],
             "index": [
              "(function (val){return (val!=this.model[\"index\"]()) ? (this.valueFromJulia[\"index\"]=true, this.model[\"index\"](val)) : undefined})"
             ]
            },
            "id": "4812091332554349266",
            "imports": {
             "data": [
              {
               "name": "knockout",
               "type": "js",
               "url": "/assetserver/4e15ea8f38f5d33bf0b2930cb09c8089f78b114e-knockout.js"
              },
              {
               "name": "knockout_punches",
               "type": "js",
               "url": "/assetserver/6967e46b2259ea2e5c469b61c410326b52955db7-knockout_punches.js"
              },
              {
               "name": null,
               "type": "js",
               "url": "/assetserver/a643ec32b5fd67f0647ab1f378e6bc75a94bf7ef-all.js"
              },
              {
               "name": null,
               "type": "css",
               "url": "/assetserver/c4a428321098a6b37c6165665184ef1be8f91e08-style.css"
              },
              {
               "name": null,
               "type": "css",
               "url": "/assetserver/62690f06d5dfb4c711812ef88e307907ed9b059b-bulma_confined.min.css"
              }
             ],
             "type": "async_block"
            },
            "mount_callbacks": [
             "function () {\n    var handler = (function (ko, koPunches) {\n    ko.punches.enableAll();\n    ko.bindingHandlers.numericValue = {\n        init: function(element, valueAccessor, allBindings, data, context) {\n            var stringified = ko.observable(ko.unwrap(valueAccessor()));\n            stringified.subscribe(function(value) {\n                var val = parseFloat(value);\n                if (!isNaN(val)) {\n                    valueAccessor()(val);\n                }\n            });\n            valueAccessor().subscribe(function(value) {\n                var str = JSON.stringify(value);\n                if ((str == \"0\") && ([\"-0\", \"-0.\"].indexOf(stringified()) >= 0))\n                     return;\n                 if ([\"null\", \"\"].indexOf(str) >= 0)\n                     return;\n                stringified(str);\n            });\n            ko.applyBindingsToNode(\n                element,\n                {\n                    value: stringified,\n                    valueUpdate: allBindings.get('valueUpdate'),\n                },\n                context,\n            );\n        }\n    };\n    var json_data = {\"formatted_vals\":[\"1\",\"2\",\"3\",\"4\",\"5\",\"6\",\"7\",\"8\",\"9\",\"10\",\"11\",\"12\",\"13\",\"14\",\"15\",\"16\",\"17\",\"18\",\"19\",\"20\",\"21\",\"22\",\"23\",\"24\",\"25\",\"26\",\"27\",\"28\",\"29\",\"30\",\"31\",\"32\",\"33\",\"34\",\"35\",\"36\",\"37\",\"38\",\"39\",\"40\",\"41\",\"42\",\"43\",\"44\",\"45\",\"46\",\"47\",\"48\",\"49\",\"50\",\"51\",\"52\",\"53\",\"54\",\"55\",\"56\",\"57\",\"58\",\"59\",\"60\",\"61\",\"62\",\"63\",\"64\",\"65\",\"66\",\"67\",\"68\",\"69\",\"70\",\"71\",\"72\",\"73\",\"74\",\"75\",\"76\",\"77\",\"78\",\"79\",\"80\",\"81\",\"82\",\"83\",\"84\",\"85\",\"86\",\"87\",\"88\",\"89\",\"90\",\"91\",\"92\",\"93\",\"94\",\"95\",\"96\",\"97\",\"98\",\"99\",\"100\"],\"changes\":WebIO.getval({\"name\":\"changes\",\"scope\":\"4812091332554349266\",\"id\":\"15441355439567862143\",\"type\":\"observable\"}),\"index\":WebIO.getval({\"name\":\"index\",\"scope\":\"4812091332554349266\",\"id\":\"2810360115166225567\",\"type\":\"observable\"})};\n    var self = this;\n    function AppViewModel() {\n        for (var key in json_data) {\n            var el = json_data[key];\n            this[key] = Array.isArray(el) ? ko.observableArray(el) : ko.observable(el);\n        }\n        \n        [this[\"formatted_val\"]=ko.computed(    function(){\n        return this.formatted_vals()[parseInt(this.index())-(1)];\n    }\n,this)]\n        [this[\"changes\"].subscribe((function (val){!(this.valueFromJulia[\"changes\"]) ? (WebIO.setval({\"name\":\"changes\",\"scope\":\"4812091332554349266\",\"id\":\"15441355439567862143\",\"type\":\"observable\"},val)) : undefined; return this.valueFromJulia[\"changes\"]=false}),self),this[\"index\"].subscribe((function (val){!(this.valueFromJulia[\"index\"]) ? (WebIO.setval({\"name\":\"index\",\"scope\":\"4812091332554349266\",\"id\":\"2810360115166225567\",\"type\":\"observable\"},val)) : undefined; return this.valueFromJulia[\"index\"]=false}),self)]\n        \n    }\n    self.model = new AppViewModel();\n    self.valueFromJulia = {};\n    for (var key in json_data) {\n        self.valueFromJulia[key] = false;\n    }\n    ko.applyBindings(self.model, self.dom);\n}\n);\n    (WebIO.importBlock({\"data\":[{\"name\":\"knockout\",\"type\":\"js\",\"url\":\"/assetserver/4e15ea8f38f5d33bf0b2930cb09c8089f78b114e-knockout.js\"},{\"name\":\"knockout_punches\",\"type\":\"js\",\"url\":\"/assetserver/6967e46b2259ea2e5c469b61c410326b52955db7-knockout_punches.js\"}],\"type\":\"async_block\"})).then((imports) => handler.apply(this, imports));\n}\n"
            ],
            "observables": {
             "changes": {
              "id": "15441355439567862143",
              "sync": false,
              "value": 0
             },
             "index": {
              "id": "2810360115166225567",
              "sync": true,
              "value": 50
             }
            },
            "systemjs_options": null
           },
           "nodeType": "Scope",
           "props": {},
           "type": "node"
          }
         ],
         "instanceArgs": {
          "namespace": "html",
          "tag": "div"
         },
         "nodeType": "DOM",
         "props": {
          "className": "field interact-widget"
         },
         "type": "node"
        },
        {
         "children": [
          {
           "children": [],
           "instanceArgs": {
            "id": "1055035898779796401",
            "name": "obs-node"
           },
           "nodeType": "ObservableNode",
           "props": {},
           "type": "node"
          }
         ],
         "instanceArgs": {
          "handlers": {},
          "id": "5581014719494266060",
          "imports": {
           "data": [],
           "type": "async_block"
          },
          "mount_callbacks": [],
          "observables": {
           "obs-node": {
            "id": "1055035898779796401",
            "sync": false,
            "value": {
             "children": [
              {
               "children": [],
               "instanceArgs": {
                "namespace": "html",
                "tag": "div"
               },
               "nodeType": "DOM",
               "props": {
                "setInnerHtml": "<?xml version=\"1.0\" encoding=\"utf-8\"?>\n<svg xmlns=\"http://www.w3.org/2000/svg\" xmlns:xlink=\"http://www.w3.org/1999/xlink\" width=\"600\" height=\"400\" viewBox=\"0 0 2400 1600\">\n<defs>\n  <clipPath id=\"clip280\">\n    <rect x=\"0\" y=\"0\" width=\"2400\" height=\"1600\"/>\n  </clipPath>\n</defs>\n<path clip-path=\"url(#clip280)\" d=\"\nM0 1600 L2400 1600 L2400 0 L0 0  Z\n  \" fill=\"#ffffff\" fill-rule=\"evenodd\" fill-opacity=\"1\"/>\n<defs>\n  <clipPath id=\"clip281\">\n    <rect x=\"480\" y=\"0\" width=\"1681\" height=\"1600\"/>\n  </clipPath>\n</defs>\n<path clip-path=\"url(#clip280)\" d=\"\nM148.334 1486.45 L2352.76 1486.45 L2352.76 47.2441 L148.334 47.2441  Z\n  \" fill=\"#ffffff\" fill-rule=\"evenodd\" fill-opacity=\"1\"/>\n<defs>\n  <clipPath id=\"clip282\">\n    <rect x=\"148\" y=\"47\" width=\"2205\" height=\"1440\"/>\n  </clipPath>\n</defs>\n<polyline clip-path=\"url(#clip282)\" style=\"stroke:#000000; stroke-width:2; stroke-opacity:0.1; fill:none\" points=\"\n  148.334,1486.45 148.334,47.2441 \n  \"/>\n<polyline clip-path=\"url(#clip282)\" style=\"stroke:#000000; stroke-width:2; stroke-opacity:0.1; fill:none\" points=\"\n  589.219,1486.45 589.219,47.2441 \n  \"/>\n<polyline clip-path=\"url(#clip282)\" style=\"stroke:#000000; stroke-width:2; stroke-opacity:0.1; fill:none\" points=\"\n  1030.1,1486.45 1030.1,47.2441 \n  \"/>\n<polyline clip-path=\"url(#clip282)\" style=\"stroke:#000000; stroke-width:2; stroke-opacity:0.1; fill:none\" points=\"\n  1470.99,1486.45 1470.99,47.2441 \n  \"/>\n<polyline clip-path=\"url(#clip282)\" style=\"stroke:#000000; stroke-width:2; stroke-opacity:0.1; fill:none\" points=\"\n  1911.87,1486.45 1911.87,47.2441 \n  \"/>\n<polyline clip-path=\"url(#clip282)\" style=\"stroke:#000000; stroke-width:2; stroke-opacity:0.1; fill:none\" points=\"\n  2352.76,1486.45 2352.76,47.2441 \n  \"/>\n<polyline clip-path=\"url(#clip280)\" style=\"stroke:#000000; stroke-width:4; stroke-opacity:1; fill:none\" points=\"\n  148.334,1486.45 2352.76,1486.45 \n  \"/>\n<polyline clip-path=\"url(#clip280)\" style=\"stroke:#000000; stroke-width:4; stroke-opacity:1; fill:none\" points=\"\n  148.334,1486.45 148.334,1469.18 \n  \"/>\n<polyline clip-path=\"url(#clip280)\" style=\"stroke:#000000; stroke-width:4; stroke-opacity:1; fill:none\" points=\"\n  589.219,1486.45 589.219,1469.18 \n  \"/>\n<polyline clip-path=\"url(#clip280)\" style=\"stroke:#000000; stroke-width:4; stroke-opacity:1; fill:none\" points=\"\n  1030.1,1486.45 1030.1,1469.18 \n  \"/>\n<polyline clip-path=\"url(#clip280)\" style=\"stroke:#000000; stroke-width:4; stroke-opacity:1; fill:none\" points=\"\n  1470.99,1486.45 1470.99,1469.18 \n  \"/>\n<polyline clip-path=\"url(#clip280)\" style=\"stroke:#000000; stroke-width:4; stroke-opacity:1; fill:none\" points=\"\n  1911.87,1486.45 1911.87,1469.18 \n  \"/>\n<polyline clip-path=\"url(#clip280)\" style=\"stroke:#000000; stroke-width:4; stroke-opacity:1; fill:none\" points=\"\n  2352.76,1486.45 2352.76,1469.18 \n  \"/>\n<path clip-path=\"url(#clip280)\" d=\"M 0 0 M129.851 1515.64 Q126.24 1515.64 124.411 1519.2 Q122.605 1522.75 122.605 1529.87 Q122.605 1536.98 124.411 1540.55 Q126.24 1544.09 129.851 1544.09 Q133.485 1544.09 135.29 1540.55 Q137.119 1536.98 137.119 1529.87 Q137.119 1522.75 135.29 1519.2 Q133.485 1515.64 129.851 1515.64 M129.851 1511.93 Q135.661 1511.93 138.716 1516.54 Q141.795 1521.12 141.795 1529.87 Q141.795 1538.6 138.716 1543.21 Q135.661 1547.79 129.851 1547.79 Q124.041 1547.79 120.962 1543.21 Q117.906 1538.6 117.906 1529.87 Q117.906 1521.12 120.962 1516.54 Q124.041 1511.93 129.851 1511.93 Z\" fill=\"#000000\" fill-rule=\"evenodd\" fill-opacity=\"1\" /><path clip-path=\"url(#clip280)\" d=\"M 0 0 M146.864 1541.24 L151.749 1541.24 L151.749 1547.12 L146.864 1547.12 L146.864 1541.24 Z\" fill=\"#000000\" fill-rule=\"evenodd\" fill-opacity=\"1\" /><path clip-path=\"url(#clip280)\" d=\"M 0 0 M166.818 1515.64 Q163.207 1515.64 161.378 1519.2 Q159.573 1522.75 159.573 1529.87 Q159.573 1536.98 161.378 1540.55 Q163.207 1544.09 166.818 1544.09 Q170.452 1544.09 172.258 1540.55 Q174.087 1536.98 174.087 1529.87 Q174.087 1522.75 172.258 1519.2 Q170.452 1515.64 166.818 1515.64 M166.818 1511.93 Q172.628 1511.93 175.684 1516.54 Q178.762 1521.12 178.762 1529.87 Q178.762 1538.6 175.684 1543.21 Q172.628 1547.79 166.818 1547.79 Q161.008 1547.79 157.929 1543.21 Q154.874 1538.6 154.874 1529.87 Q154.874 1521.12 157.929 1516.54 Q161.008 1511.93 166.818 1511.93 Z\" fill=\"#000000\" fill-rule=\"evenodd\" fill-opacity=\"1\" /><path clip-path=\"url(#clip280)\" d=\"M 0 0 M571.534 1515.64 Q567.923 1515.64 566.094 1519.2 Q564.288 1522.75 564.288 1529.87 Q564.288 1536.98 566.094 1540.55 Q567.923 1544.09 571.534 1544.09 Q575.168 1544.09 576.973 1540.55 Q578.802 1536.98 578.802 1529.87 Q578.802 1522.75 576.973 1519.2 Q575.168 1515.64 571.534 1515.64 M571.534 1511.93 Q577.344 1511.93 580.399 1516.54 Q583.478 1521.12 583.478 1529.87 Q583.478 1538.6 580.399 1543.21 Q577.344 1547.79 571.534 1547.79 Q565.723 1547.79 562.645 1543.21 Q559.589 1538.6 559.589 1529.87 Q559.589 1521.12 562.645 1516.54 Q565.723 1511.93 571.534 1511.93 Z\" fill=\"#000000\" fill-rule=\"evenodd\" fill-opacity=\"1\" /><path clip-path=\"url(#clip280)\" d=\"M 0 0 M588.547 1541.24 L593.432 1541.24 L593.432 1547.12 L588.547 1547.12 L588.547 1541.24 Z\" fill=\"#000000\" fill-rule=\"evenodd\" fill-opacity=\"1\" /><path clip-path=\"url(#clip280)\" d=\"M 0 0 M602.529 1543.18 L618.848 1543.18 L618.848 1547.12 L596.904 1547.12 L596.904 1543.18 Q599.566 1540.43 604.149 1535.8 Q608.756 1531.15 609.936 1529.81 Q612.182 1527.28 613.061 1525.55 Q613.964 1523.79 613.964 1522.1 Q613.964 1519.34 612.019 1517.61 Q610.098 1515.87 606.996 1515.87 Q604.797 1515.87 602.344 1516.63 Q599.913 1517.4 597.135 1518.95 L597.135 1514.23 Q599.959 1513.09 602.413 1512.51 Q604.867 1511.93 606.904 1511.93 Q612.274 1511.93 615.469 1514.62 Q618.663 1517.31 618.663 1521.8 Q618.663 1523.93 617.853 1525.85 Q617.066 1527.74 614.959 1530.34 Q614.381 1531.01 611.279 1534.23 Q608.177 1537.42 602.529 1543.18 Z\" fill=\"#000000\" fill-rule=\"evenodd\" fill-opacity=\"1\" /><path clip-path=\"url(#clip280)\" d=\"M 0 0 M1011.38 1515.64 Q1007.77 1515.64 1005.94 1519.2 Q1004.13 1522.75 1004.13 1529.87 Q1004.13 1536.98 1005.94 1540.55 Q1007.77 1544.09 1011.38 1544.09 Q1015.01 1544.09 1016.82 1540.55 Q1018.64 1536.98 1018.64 1529.87 Q1018.64 1522.75 1016.82 1519.2 Q1015.01 1515.64 1011.38 1515.64 M1011.38 1511.93 Q1017.19 1511.93 1020.24 1516.54 Q1023.32 1521.12 1023.32 1529.87 Q1023.32 1538.6 1020.24 1543.21 Q1017.19 1547.79 1011.38 1547.79 Q1005.57 1547.79 1002.49 1543.21 Q999.432 1538.6 999.432 1529.87 Q999.432 1521.12 1002.49 1516.54 Q1005.57 1511.93 1011.38 1511.93 Z\" fill=\"#000000\" fill-rule=\"evenodd\" fill-opacity=\"1\" /><path clip-path=\"url(#clip280)\" d=\"M 0 0 M1028.39 1541.24 L1033.27 1541.24 L1033.27 1547.12 L1028.39 1547.12 L1028.39 1541.24 Z\" fill=\"#000000\" fill-rule=\"evenodd\" fill-opacity=\"1\" /><path clip-path=\"url(#clip280)\" d=\"M 0 0 M1051.19 1516.63 L1039.39 1535.08 L1051.19 1535.08 L1051.19 1516.63 M1049.96 1512.56 L1055.84 1512.56 L1055.84 1535.08 L1060.77 1535.08 L1060.77 1538.97 L1055.84 1538.97 L1055.84 1547.12 L1051.19 1547.12 L1051.19 1538.97 L1035.59 1538.97 L1035.59 1534.46 L1049.96 1512.56 Z\" fill=\"#000000\" fill-rule=\"evenodd\" fill-opacity=\"1\" /><path clip-path=\"url(#clip280)\" d=\"M 0 0 M1452.42 1515.64 Q1448.81 1515.64 1446.98 1519.2 Q1445.18 1522.75 1445.18 1529.87 Q1445.18 1536.98 1446.98 1540.55 Q1448.81 1544.09 1452.42 1544.09 Q1456.06 1544.09 1457.86 1540.55 Q1459.69 1536.98 1459.69 1529.87 Q1459.69 1522.75 1457.86 1519.2 Q1456.06 1515.64 1452.42 1515.64 M1452.42 1511.93 Q1458.23 1511.93 1461.29 1516.54 Q1464.37 1521.12 1464.37 1529.87 Q1464.37 1538.6 1461.29 1543.21 Q1458.23 1547.79 1452.42 1547.79 Q1446.61 1547.79 1443.53 1543.21 Q1440.48 1538.6 1440.48 1529.87 Q1440.48 1521.12 1443.53 1516.54 Q1446.61 1511.93 1452.42 1511.93 Z\" fill=\"#000000\" fill-rule=\"evenodd\" fill-opacity=\"1\" /><path clip-path=\"url(#clip280)\" d=\"M 0 0 M1469.44 1541.24 L1474.32 1541.24 L1474.32 1547.12 L1469.44 1547.12 L1469.44 1541.24 Z\" fill=\"#000000\" fill-rule=\"evenodd\" fill-opacity=\"1\" /><path clip-path=\"url(#clip280)\" d=\"M 0 0 M1489.97 1527.98 Q1486.82 1527.98 1484.97 1530.13 Q1483.14 1532.28 1483.14 1536.03 Q1483.14 1539.76 1484.97 1541.93 Q1486.82 1544.09 1489.97 1544.09 Q1493.12 1544.09 1494.95 1541.93 Q1496.8 1539.76 1496.8 1536.03 Q1496.8 1532.28 1494.95 1530.13 Q1493.12 1527.98 1489.97 1527.98 M1499.25 1513.32 L1499.25 1517.58 Q1497.49 1516.75 1495.69 1516.31 Q1493.9 1515.87 1492.14 1515.87 Q1487.51 1515.87 1485.06 1519 Q1482.63 1522.12 1482.28 1528.44 Q1483.65 1526.43 1485.71 1525.36 Q1487.77 1524.27 1490.25 1524.27 Q1495.45 1524.27 1498.46 1527.44 Q1501.5 1530.59 1501.5 1536.03 Q1501.5 1541.36 1498.35 1544.57 Q1495.2 1547.79 1489.97 1547.79 Q1483.97 1547.79 1480.8 1543.21 Q1477.63 1538.6 1477.63 1529.87 Q1477.63 1521.68 1481.52 1516.82 Q1485.41 1511.93 1491.96 1511.93 Q1493.72 1511.93 1495.5 1512.28 Q1497.31 1512.63 1499.25 1513.32 Z\" fill=\"#000000\" fill-rule=\"evenodd\" fill-opacity=\"1\" /><path clip-path=\"url(#clip280)\" d=\"M 0 0 M1893.43 1515.64 Q1889.82 1515.64 1887.99 1519.2 Q1886.19 1522.75 1886.19 1529.87 Q1886.19 1536.98 1887.99 1540.55 Q1889.82 1544.09 1893.43 1544.09 Q1897.07 1544.09 1898.87 1540.55 Q1900.7 1536.98 1900.7 1529.87 Q1900.7 1522.75 1898.87 1519.2 Q1897.07 1515.64 1893.43 1515.64 M1893.43 1511.93 Q1899.24 1511.93 1902.3 1516.54 Q1905.38 1521.12 1905.38 1529.87 Q1905.38 1538.6 1902.3 1543.21 Q1899.24 1547.79 1893.43 1547.79 Q1887.62 1547.79 1884.55 1543.21 Q1881.49 1538.6 1881.49 1529.87 Q1881.49 1521.12 1884.55 1516.54 Q1887.62 1511.93 1893.43 1511.93 Z\" fill=\"#000000\" fill-rule=\"evenodd\" fill-opacity=\"1\" /><path clip-path=\"url(#clip280)\" d=\"M 0 0 M1910.45 1541.24 L1915.33 1541.24 L1915.33 1547.12 L1910.45 1547.12 L1910.45 1541.24 Z\" fill=\"#000000\" fill-rule=\"evenodd\" fill-opacity=\"1\" /><path clip-path=\"url(#clip280)\" d=\"M 0 0 M1930.4 1530.71 Q1927.07 1530.71 1925.15 1532.49 Q1923.25 1534.27 1923.25 1537.4 Q1923.25 1540.52 1925.15 1542.31 Q1927.07 1544.09 1930.4 1544.09 Q1933.73 1544.09 1935.66 1542.31 Q1937.58 1540.5 1937.58 1537.4 Q1937.58 1534.27 1935.66 1532.49 Q1933.76 1530.71 1930.4 1530.71 M1925.73 1528.72 Q1922.72 1527.98 1921.03 1525.92 Q1919.36 1523.86 1919.36 1520.89 Q1919.36 1516.75 1922.3 1514.34 Q1925.26 1511.93 1930.4 1511.93 Q1935.56 1511.93 1938.5 1514.34 Q1941.44 1516.75 1941.44 1520.89 Q1941.44 1523.86 1939.75 1525.92 Q1938.09 1527.98 1935.1 1528.72 Q1938.48 1529.5 1940.36 1531.8 Q1942.25 1534.09 1942.25 1537.4 Q1942.25 1542.42 1939.17 1545.11 Q1936.12 1547.79 1930.4 1547.79 Q1924.68 1547.79 1921.61 1545.11 Q1918.55 1542.42 1918.55 1537.4 Q1918.55 1534.09 1920.45 1531.8 Q1922.35 1529.5 1925.73 1528.72 M1924.01 1521.33 Q1924.01 1524.02 1925.68 1525.52 Q1927.37 1527.03 1930.4 1527.03 Q1933.41 1527.03 1935.1 1525.52 Q1936.81 1524.02 1936.81 1521.33 Q1936.81 1518.65 1935.1 1517.14 Q1933.41 1515.64 1930.4 1515.64 Q1927.37 1515.64 1925.68 1517.14 Q1924.01 1518.65 1924.01 1521.33 Z\" fill=\"#000000\" fill-rule=\"evenodd\" fill-opacity=\"1\" /><path clip-path=\"url(#clip280)\" d=\"M 0 0 M2324.65 1543.18 L2332.29 1543.18 L2332.29 1516.82 L2323.98 1518.49 L2323.98 1514.23 L2332.25 1512.56 L2336.92 1512.56 L2336.92 1543.18 L2344.56 1543.18 L2344.56 1547.12 L2324.65 1547.12 L2324.65 1543.18 Z\" fill=\"#000000\" fill-rule=\"evenodd\" fill-opacity=\"1\" /><path clip-path=\"url(#clip280)\" d=\"M 0 0 M2349.63 1541.24 L2354.52 1541.24 L2354.52 1547.12 L2349.63 1547.12 L2349.63 1541.24 Z\" fill=\"#000000\" fill-rule=\"evenodd\" fill-opacity=\"1\" /><path clip-path=\"url(#clip280)\" d=\"M 0 0 M2369.58 1515.64 Q2365.97 1515.64 2364.14 1519.2 Q2362.34 1522.75 2362.34 1529.87 Q2362.34 1536.98 2364.14 1540.55 Q2365.97 1544.09 2369.58 1544.09 Q2373.22 1544.09 2375.02 1540.55 Q2376.85 1536.98 2376.85 1529.87 Q2376.85 1522.75 2375.02 1519.2 Q2373.22 1515.64 2369.58 1515.64 M2369.58 1511.93 Q2375.39 1511.93 2378.45 1516.54 Q2381.53 1521.12 2381.53 1529.87 Q2381.53 1538.6 2378.45 1543.21 Q2375.39 1547.79 2369.58 1547.79 Q2363.77 1547.79 2360.7 1543.21 Q2357.64 1538.6 2357.64 1529.87 Q2357.64 1521.12 2360.7 1516.54 Q2363.77 1511.93 2369.58 1511.93 Z\" fill=\"#000000\" fill-rule=\"evenodd\" fill-opacity=\"1\" /><polyline clip-path=\"url(#clip282)\" style=\"stroke:#000000; stroke-width:2; stroke-opacity:0.1; fill:none\" points=\"\n  148.334,1486.45 2352.76,1486.45 \n  \"/>\n<polyline clip-path=\"url(#clip282)\" style=\"stroke:#000000; stroke-width:2; stroke-opacity:0.1; fill:none\" points=\"\n  148.334,1198.61 2352.76,1198.61 \n  \"/>\n<polyline clip-path=\"url(#clip282)\" style=\"stroke:#000000; stroke-width:2; stroke-opacity:0.1; fill:none\" points=\"\n  148.334,910.766 2352.76,910.766 \n  \"/>\n<polyline clip-path=\"url(#clip282)\" style=\"stroke:#000000; stroke-width:2; stroke-opacity:0.1; fill:none\" points=\"\n  148.334,622.926 2352.76,622.926 \n  \"/>\n<polyline clip-path=\"url(#clip282)\" style=\"stroke:#000000; stroke-width:2; stroke-opacity:0.1; fill:none\" points=\"\n  148.334,335.085 2352.76,335.085 \n  \"/>\n<polyline clip-path=\"url(#clip282)\" style=\"stroke:#000000; stroke-width:2; stroke-opacity:0.1; fill:none\" points=\"\n  148.334,47.2441 2352.76,47.2441 \n  \"/>\n<polyline clip-path=\"url(#clip280)\" style=\"stroke:#000000; stroke-width:4; stroke-opacity:1; fill:none\" points=\"\n  148.334,1486.45 148.334,47.2441 \n  \"/>\n<polyline clip-path=\"url(#clip280)\" style=\"stroke:#000000; stroke-width:4; stroke-opacity:1; fill:none\" points=\"\n  148.334,1486.45 174.787,1486.45 \n  \"/>\n<polyline clip-path=\"url(#clip280)\" style=\"stroke:#000000; stroke-width:4; stroke-opacity:1; fill:none\" points=\"\n  148.334,1198.61 174.787,1198.61 \n  \"/>\n<polyline clip-path=\"url(#clip280)\" style=\"stroke:#000000; stroke-width:4; stroke-opacity:1; fill:none\" points=\"\n  148.334,910.766 174.787,910.766 \n  \"/>\n<polyline clip-path=\"url(#clip280)\" style=\"stroke:#000000; stroke-width:4; stroke-opacity:1; fill:none\" points=\"\n  148.334,622.926 174.787,622.926 \n  \"/>\n<polyline clip-path=\"url(#clip280)\" style=\"stroke:#000000; stroke-width:4; stroke-opacity:1; fill:none\" points=\"\n  148.334,335.085 174.787,335.085 \n  \"/>\n<polyline clip-path=\"url(#clip280)\" style=\"stroke:#000000; stroke-width:4; stroke-opacity:1; fill:none\" points=\"\n  148.334,47.2441 174.787,47.2441 \n  \"/>\n<path clip-path=\"url(#clip280)\" d=\"M 0 0 M63.4226 1472.25 Q59.8115 1472.25 57.9828 1475.81 Q56.1773 1479.35 56.1773 1486.48 Q56.1773 1493.59 57.9828 1497.15 Q59.8115 1500.7 63.4226 1500.7 Q67.0569 1500.7 68.8624 1497.15 Q70.6911 1493.59 70.6911 1486.48 Q70.6911 1479.35 68.8624 1475.81 Q67.0569 1472.25 63.4226 1472.25 M63.4226 1468.54 Q69.2328 1468.54 72.2883 1473.15 Q75.367 1477.73 75.367 1486.48 Q75.367 1495.21 72.2883 1499.82 Q69.2328 1504.4 63.4226 1504.4 Q57.6125 1504.4 54.5338 1499.82 Q51.4782 1495.21 51.4782 1486.48 Q51.4782 1477.73 54.5338 1473.15 Q57.6125 1468.54 63.4226 1468.54 Z\" fill=\"#000000\" fill-rule=\"evenodd\" fill-opacity=\"1\" /><path clip-path=\"url(#clip280)\" d=\"M 0 0 M80.4364 1497.85 L85.3206 1497.85 L85.3206 1503.73 L80.4364 1503.73 L80.4364 1497.85 Z\" fill=\"#000000\" fill-rule=\"evenodd\" fill-opacity=\"1\" /><path clip-path=\"url(#clip280)\" d=\"M 0 0 M100.39 1472.25 Q96.7789 1472.25 94.9502 1475.81 Q93.1447 1479.35 93.1447 1486.48 Q93.1447 1493.59 94.9502 1497.15 Q96.7789 1500.7 100.39 1500.7 Q104.024 1500.7 105.83 1497.15 Q107.658 1493.59 107.658 1486.48 Q107.658 1479.35 105.83 1475.81 Q104.024 1472.25 100.39 1472.25 M100.39 1468.54 Q106.2 1468.54 109.256 1473.15 Q112.334 1477.73 112.334 1486.48 Q112.334 1495.21 109.256 1499.82 Q106.2 1504.4 100.39 1504.4 Q94.5799 1504.4 91.5012 1499.82 Q88.4456 1495.21 88.4456 1486.48 Q88.4456 1477.73 91.5012 1473.15 Q94.5799 1468.54 100.39 1468.54 Z\" fill=\"#000000\" fill-rule=\"evenodd\" fill-opacity=\"1\" /><path clip-path=\"url(#clip280)\" d=\"M 0 0 M65.0198 1184.41 Q61.4087 1184.41 59.58 1187.97 Q57.7745 1191.51 57.7745 1198.64 Q57.7745 1205.75 59.58 1209.31 Q61.4087 1212.85 65.0198 1212.85 Q68.6541 1212.85 70.4596 1209.31 Q72.2883 1205.75 72.2883 1198.64 Q72.2883 1191.51 70.4596 1187.97 Q68.6541 1184.41 65.0198 1184.41 M65.0198 1180.7 Q70.83 1180.7 73.8855 1185.31 Q76.9642 1189.89 76.9642 1198.64 Q76.9642 1207.37 73.8855 1211.98 Q70.83 1216.56 65.0198 1216.56 Q59.2097 1216.56 56.131 1211.98 Q53.0754 1207.37 53.0754 1198.64 Q53.0754 1189.89 56.131 1185.31 Q59.2097 1180.7 65.0198 1180.7 Z\" fill=\"#000000\" fill-rule=\"evenodd\" fill-opacity=\"1\" /><path clip-path=\"url(#clip280)\" d=\"M 0 0 M82.0336 1210.01 L86.9179 1210.01 L86.9179 1215.89 L82.0336 1215.89 L82.0336 1210.01 Z\" fill=\"#000000\" fill-rule=\"evenodd\" fill-opacity=\"1\" /><path clip-path=\"url(#clip280)\" d=\"M 0 0 M96.015 1211.95 L112.334 1211.95 L112.334 1215.89 L90.3901 1215.89 L90.3901 1211.95 Q93.0521 1209.2 97.6354 1204.57 Q102.242 1199.91 103.422 1198.57 Q105.668 1196.05 106.547 1194.31 Q107.45 1192.55 107.45 1190.86 Q107.45 1188.11 105.506 1186.37 Q103.584 1184.64 100.483 1184.64 Q98.2835 1184.64 95.8298 1185.4 Q93.3993 1186.17 90.6215 1187.72 L90.6215 1182.99 Q93.4456 1181.86 95.8993 1181.28 Q98.353 1180.7 100.39 1180.7 Q105.76 1180.7 108.955 1183.39 Q112.149 1186.07 112.149 1190.56 Q112.149 1192.69 111.339 1194.61 Q110.552 1196.51 108.446 1199.1 Q107.867 1199.78 104.765 1202.99 Q101.663 1206.19 96.015 1211.95 Z\" fill=\"#000000\" fill-rule=\"evenodd\" fill-opacity=\"1\" /><path clip-path=\"url(#clip280)\" d=\"M 0 0 M62.9365 896.565 Q59.3254 896.565 57.4967 900.13 Q55.6912 903.671 55.6912 910.801 Q55.6912 917.908 57.4967 921.472 Q59.3254 925.014 62.9365 925.014 Q66.5707 925.014 68.3763 921.472 Q70.205 917.908 70.205 910.801 Q70.205 903.671 68.3763 900.13 Q66.5707 896.565 62.9365 896.565 M62.9365 892.861 Q68.7467 892.861 71.8022 897.468 Q74.8809 902.051 74.8809 910.801 Q74.8809 919.528 71.8022 924.134 Q68.7467 928.718 62.9365 928.718 Q57.1264 928.718 54.0477 924.134 Q50.9921 919.528 50.9921 910.801 Q50.9921 902.051 54.0477 897.468 Q57.1264 892.861 62.9365 892.861 Z\" fill=\"#000000\" fill-rule=\"evenodd\" fill-opacity=\"1\" /><path clip-path=\"url(#clip280)\" d=\"M 0 0 M79.9503 922.167 L84.8345 922.167 L84.8345 928.046 L79.9503 928.046 L79.9503 922.167 Z\" fill=\"#000000\" fill-rule=\"evenodd\" fill-opacity=\"1\" /><path clip-path=\"url(#clip280)\" d=\"M 0 0 M102.751 897.56 L90.9456 916.009 L102.751 916.009 L102.751 897.56 M101.524 893.486 L107.404 893.486 L107.404 916.009 L112.334 916.009 L112.334 919.898 L107.404 919.898 L107.404 928.046 L102.751 928.046 L102.751 919.898 L87.1493 919.898 L87.1493 915.384 L101.524 893.486 Z\" fill=\"#000000\" fill-rule=\"evenodd\" fill-opacity=\"1\" /><path clip-path=\"url(#clip280)\" d=\"M 0 0 M63.2606 608.724 Q59.6495 608.724 57.8208 612.289 Q56.0152 615.831 56.0152 622.96 Q56.0152 630.067 57.8208 633.632 Q59.6495 637.173 63.2606 637.173 Q66.8948 637.173 68.7004 633.632 Q70.5291 630.067 70.5291 622.96 Q70.5291 615.831 68.7004 612.289 Q66.8948 608.724 63.2606 608.724 M63.2606 605.021 Q69.0707 605.021 72.1263 609.627 Q75.205 614.21 75.205 622.96 Q75.205 631.687 72.1263 636.294 Q69.0707 640.877 63.2606 640.877 Q57.4504 640.877 54.3717 636.294 Q51.3162 631.687 51.3162 622.96 Q51.3162 614.21 54.3717 609.627 Q57.4504 605.021 63.2606 605.021 Z\" fill=\"#000000\" fill-rule=\"evenodd\" fill-opacity=\"1\" /><path clip-path=\"url(#clip280)\" d=\"M 0 0 M80.2744 634.326 L85.1586 634.326 L85.1586 640.206 L80.2744 640.206 L80.2744 634.326 Z\" fill=\"#000000\" fill-rule=\"evenodd\" fill-opacity=\"1\" /><path clip-path=\"url(#clip280)\" d=\"M 0 0 M100.807 621.062 Q97.6585 621.062 95.8067 623.215 Q93.978 625.368 93.978 629.118 Q93.978 632.845 95.8067 635.02 Q97.6585 637.173 100.807 637.173 Q103.955 637.173 105.783 635.02 Q107.635 632.845 107.635 629.118 Q107.635 625.368 105.783 623.215 Q103.955 621.062 100.807 621.062 M110.089 606.409 L110.089 610.669 Q108.33 609.835 106.524 609.396 Q104.742 608.956 102.983 608.956 Q98.353 608.956 95.8993 612.081 Q93.4688 615.206 93.1215 621.525 Q94.4873 619.511 96.5474 618.446 Q98.6076 617.359 101.084 617.359 Q106.293 617.359 109.302 620.53 Q112.334 623.678 112.334 629.118 Q112.334 634.442 109.186 637.659 Q106.038 640.877 100.807 640.877 Q94.8113 640.877 91.6401 636.294 Q88.4688 631.687 88.4688 622.96 Q88.4688 614.766 92.3576 609.905 Q96.2465 605.021 102.797 605.021 Q104.557 605.021 106.339 605.368 Q108.145 605.715 110.089 606.409 Z\" fill=\"#000000\" fill-rule=\"evenodd\" fill-opacity=\"1\" /><path clip-path=\"url(#clip280)\" d=\"M 0 0 M63.5152 320.884 Q59.9041 320.884 58.0754 324.448 Q56.2699 327.99 56.2699 335.12 Q56.2699 342.226 58.0754 345.791 Q59.9041 349.332 63.5152 349.332 Q67.1494 349.332 68.955 345.791 Q70.7837 342.226 70.7837 335.12 Q70.7837 327.99 68.955 324.448 Q67.1494 320.884 63.5152 320.884 M63.5152 317.18 Q69.3254 317.18 72.3809 321.786 Q75.4596 326.37 75.4596 335.12 Q75.4596 343.846 72.3809 348.453 Q69.3254 353.036 63.5152 353.036 Q57.7051 353.036 54.6264 348.453 Q51.5708 343.846 51.5708 335.12 Q51.5708 326.37 54.6264 321.786 Q57.7051 317.18 63.5152 317.18 Z\" fill=\"#000000\" fill-rule=\"evenodd\" fill-opacity=\"1\" /><path clip-path=\"url(#clip280)\" d=\"M 0 0 M80.529 346.485 L85.4132 346.485 L85.4132 352.365 L80.529 352.365 L80.529 346.485 Z\" fill=\"#000000\" fill-rule=\"evenodd\" fill-opacity=\"1\" /><path clip-path=\"url(#clip280)\" d=\"M 0 0 M100.483 335.953 Q97.1493 335.953 95.228 337.735 Q93.3299 339.518 93.3299 342.643 Q93.3299 345.768 95.228 347.55 Q97.1493 349.332 100.483 349.332 Q103.816 349.332 105.737 347.55 Q107.658 345.745 107.658 342.643 Q107.658 339.518 105.737 337.735 Q103.839 335.953 100.483 335.953 M95.8067 333.962 Q92.7975 333.221 91.1077 331.161 Q89.441 329.101 89.441 326.138 Q89.441 321.995 92.3808 319.587 Q95.3437 317.18 100.483 317.18 Q105.645 317.18 108.584 319.587 Q111.524 321.995 111.524 326.138 Q111.524 329.101 109.834 331.161 Q108.168 333.221 105.182 333.962 Q108.561 334.749 110.436 337.041 Q112.334 339.333 112.334 342.643 Q112.334 347.666 109.256 350.351 Q106.2 353.036 100.483 353.036 Q94.765 353.036 91.6864 350.351 Q88.6308 347.666 88.6308 342.643 Q88.6308 339.333 90.529 337.041 Q92.4271 334.749 95.8067 333.962 M94.0937 326.578 Q94.0937 329.263 95.7604 330.768 Q97.4502 332.272 100.483 332.272 Q103.492 332.272 105.182 330.768 Q106.895 329.263 106.895 326.578 Q106.895 323.893 105.182 322.388 Q103.492 320.884 100.483 320.884 Q97.4502 320.884 95.7604 322.388 Q94.0937 323.893 94.0937 326.578 Z\" fill=\"#000000\" fill-rule=\"evenodd\" fill-opacity=\"1\" /><path clip-path=\"url(#clip280)\" d=\"M 0 0 M55.4597 60.5889 L63.0985 60.5889 L63.0985 34.2233 L54.7884 35.89 L54.7884 31.6308 L63.0522 29.9641 L67.7281 29.9641 L67.7281 60.5889 L75.367 60.5889 L75.367 64.5241 L55.4597 64.5241 L55.4597 60.5889 Z\" fill=\"#000000\" fill-rule=\"evenodd\" fill-opacity=\"1\" /><path clip-path=\"url(#clip280)\" d=\"M 0 0 M80.4364 58.6445 L85.3206 58.6445 L85.3206 64.5241 L80.4364 64.5241 L80.4364 58.6445 Z\" fill=\"#000000\" fill-rule=\"evenodd\" fill-opacity=\"1\" /><path clip-path=\"url(#clip280)\" d=\"M 0 0 M100.39 33.0428 Q96.7789 33.0428 94.9502 36.6076 Q93.1447 40.1492 93.1447 47.2788 Q93.1447 54.3853 94.9502 57.9501 Q96.7789 61.4917 100.39 61.4917 Q104.024 61.4917 105.83 57.9501 Q107.658 54.3853 107.658 47.2788 Q107.658 40.1492 105.83 36.6076 Q104.024 33.0428 100.39 33.0428 M100.39 29.3391 Q106.2 29.3391 109.256 33.9456 Q112.334 38.5289 112.334 47.2788 Q112.334 56.0056 109.256 60.6121 Q106.2 65.1954 100.39 65.1954 Q94.5799 65.1954 91.5012 60.6121 Q88.4456 56.0056 88.4456 47.2788 Q88.4456 38.5289 91.5012 33.9456 Q94.5799 29.3391 100.39 29.3391 Z\" fill=\"#000000\" fill-rule=\"evenodd\" fill-opacity=\"1\" /><circle clip-path=\"url(#clip282)\" cx=\"919.281\" cy=\"766.846\" r=\"14\" fill=\"#009af9\" fill-rule=\"evenodd\" fill-opacity=\"1\" stroke=\"#000000\" stroke-opacity=\"1\" stroke-width=\"3.2\"/>\n<circle clip-path=\"url(#clip282)\" cx=\"1165.28\" cy=\"766.846\" r=\"14\" fill=\"#009af9\" fill-rule=\"evenodd\" fill-opacity=\"1\" stroke=\"#000000\" stroke-opacity=\"1\" stroke-width=\"3.2\"/>\n<circle clip-path=\"url(#clip282)\" cx=\"1018.4\" cy=\"766.846\" r=\"14\" fill=\"#009af9\" fill-rule=\"evenodd\" fill-opacity=\"1\" stroke=\"#000000\" stroke-opacity=\"1\" stroke-width=\"3.2\"/>\n<circle clip-path=\"url(#clip282)\" cx=\"614.654\" cy=\"766.846\" r=\"14\" fill=\"#009af9\" fill-rule=\"evenodd\" fill-opacity=\"1\" stroke=\"#000000\" stroke-opacity=\"1\" stroke-width=\"3.2\"/>\n<circle clip-path=\"url(#clip282)\" cx=\"186.63\" cy=\"766.846\" r=\"14\" fill=\"#009af9\" fill-rule=\"evenodd\" fill-opacity=\"1\" stroke=\"#000000\" stroke-opacity=\"1\" stroke-width=\"3.2\"/>\n<circle clip-path=\"url(#clip282)\" cx=\"875.345\" cy=\"766.846\" r=\"14\" fill=\"#009af9\" fill-rule=\"evenodd\" fill-opacity=\"1\" stroke=\"#000000\" stroke-opacity=\"1\" stroke-width=\"3.2\"/>\n<circle clip-path=\"url(#clip282)\" cx=\"323.106\" cy=\"766.846\" r=\"14\" fill=\"#009af9\" fill-rule=\"evenodd\" fill-opacity=\"1\" stroke=\"#000000\" stroke-opacity=\"1\" stroke-width=\"3.2\"/>\n<circle clip-path=\"url(#clip282)\" cx=\"1523.68\" cy=\"766.846\" r=\"14\" fill=\"#009af9\" fill-rule=\"evenodd\" fill-opacity=\"1\" stroke=\"#000000\" stroke-opacity=\"1\" stroke-width=\"3.2\"/>\n<circle clip-path=\"url(#clip282)\" cx=\"2133.77\" cy=\"766.846\" r=\"14\" fill=\"#009af9\" fill-rule=\"evenodd\" fill-opacity=\"1\" stroke=\"#000000\" stroke-opacity=\"1\" stroke-width=\"3.2\"/>\n<circle clip-path=\"url(#clip282)\" cx=\"1047.17\" cy=\"766.846\" r=\"14\" fill=\"#009af9\" fill-rule=\"evenodd\" fill-opacity=\"1\" stroke=\"#000000\" stroke-opacity=\"1\" stroke-width=\"3.2\"/>\n<circle clip-path=\"url(#clip282)\" cx=\"1970.94\" cy=\"766.846\" r=\"14\" fill=\"#009af9\" fill-rule=\"evenodd\" fill-opacity=\"1\" stroke=\"#000000\" stroke-opacity=\"1\" stroke-width=\"3.2\"/>\n<circle clip-path=\"url(#clip282)\" cx=\"1245.49\" cy=\"766.846\" r=\"14\" fill=\"#009af9\" fill-rule=\"evenodd\" fill-opacity=\"1\" stroke=\"#000000\" stroke-opacity=\"1\" stroke-width=\"3.2\"/>\n<circle clip-path=\"url(#clip282)\" cx=\"1561.25\" cy=\"766.846\" r=\"14\" fill=\"#009af9\" fill-rule=\"evenodd\" fill-opacity=\"1\" stroke=\"#000000\" stroke-opacity=\"1\" stroke-width=\"3.2\"/>\n<circle clip-path=\"url(#clip282)\" cx=\"1424.52\" cy=\"766.846\" r=\"14\" fill=\"#009af9\" fill-rule=\"evenodd\" fill-opacity=\"1\" stroke=\"#000000\" stroke-opacity=\"1\" stroke-width=\"3.2\"/>\n<circle clip-path=\"url(#clip282)\" cx=\"1423.3\" cy=\"766.846\" r=\"14\" fill=\"#009af9\" fill-rule=\"evenodd\" fill-opacity=\"1\" stroke=\"#000000\" stroke-opacity=\"1\" stroke-width=\"3.2\"/>\n<circle clip-path=\"url(#clip282)\" cx=\"950.878\" cy=\"766.846\" r=\"14\" fill=\"#009af9\" fill-rule=\"evenodd\" fill-opacity=\"1\" stroke=\"#000000\" stroke-opacity=\"1\" stroke-width=\"3.2\"/>\n<circle clip-path=\"url(#clip282)\" cx=\"1224.46\" cy=\"766.846\" r=\"14\" fill=\"#009af9\" fill-rule=\"evenodd\" fill-opacity=\"1\" stroke=\"#000000\" stroke-opacity=\"1\" stroke-width=\"3.2\"/>\n<circle clip-path=\"url(#clip282)\" cx=\"759.079\" cy=\"766.846\" r=\"14\" fill=\"#009af9\" fill-rule=\"evenodd\" fill-opacity=\"1\" stroke=\"#000000\" stroke-opacity=\"1\" stroke-width=\"3.2\"/>\n<circle clip-path=\"url(#clip282)\" cx=\"1783.14\" cy=\"766.846\" r=\"14\" fill=\"#009af9\" fill-rule=\"evenodd\" fill-opacity=\"1\" stroke=\"#000000\" stroke-opacity=\"1\" stroke-width=\"3.2\"/>\n<circle clip-path=\"url(#clip282)\" cx=\"886.461\" cy=\"766.846\" r=\"14\" fill=\"#009af9\" fill-rule=\"evenodd\" fill-opacity=\"1\" stroke=\"#000000\" stroke-opacity=\"1\" stroke-width=\"3.2\"/>\n<circle clip-path=\"url(#clip282)\" cx=\"1623.34\" cy=\"766.846\" r=\"14\" fill=\"#009af9\" fill-rule=\"evenodd\" fill-opacity=\"1\" stroke=\"#000000\" stroke-opacity=\"1\" stroke-width=\"3.2\"/>\n<circle clip-path=\"url(#clip282)\" cx=\"336.155\" cy=\"766.846\" r=\"14\" fill=\"#009af9\" fill-rule=\"evenodd\" fill-opacity=\"1\" stroke=\"#000000\" stroke-opacity=\"1\" stroke-width=\"3.2\"/>\n<circle clip-path=\"url(#clip282)\" cx=\"264.761\" cy=\"766.846\" r=\"14\" fill=\"#009af9\" fill-rule=\"evenodd\" fill-opacity=\"1\" stroke=\"#000000\" stroke-opacity=\"1\" stroke-width=\"3.2\"/>\n<circle clip-path=\"url(#clip282)\" cx=\"2172.48\" cy=\"766.846\" r=\"14\" fill=\"#009af9\" fill-rule=\"evenodd\" fill-opacity=\"1\" stroke=\"#000000\" stroke-opacity=\"1\" stroke-width=\"3.2\"/>\n<circle clip-path=\"url(#clip282)\" cx=\"1391.19\" cy=\"766.846\" r=\"14\" fill=\"#009af9\" fill-rule=\"evenodd\" fill-opacity=\"1\" stroke=\"#000000\" stroke-opacity=\"1\" stroke-width=\"3.2\"/>\n<circle clip-path=\"url(#clip282)\" cx=\"1970.93\" cy=\"766.846\" r=\"14\" fill=\"#009af9\" fill-rule=\"evenodd\" fill-opacity=\"1\" stroke=\"#000000\" stroke-opacity=\"1\" stroke-width=\"3.2\"/>\n<circle clip-path=\"url(#clip282)\" cx=\"281.409\" cy=\"766.846\" r=\"14\" fill=\"#009af9\" fill-rule=\"evenodd\" fill-opacity=\"1\" stroke=\"#000000\" stroke-opacity=\"1\" stroke-width=\"3.2\"/>\n<circle clip-path=\"url(#clip282)\" cx=\"478.291\" cy=\"766.846\" r=\"14\" fill=\"#009af9\" fill-rule=\"evenodd\" fill-opacity=\"1\" stroke=\"#000000\" stroke-opacity=\"1\" stroke-width=\"3.2\"/>\n<circle clip-path=\"url(#clip282)\" cx=\"903.804\" cy=\"766.846\" r=\"14\" fill=\"#009af9\" fill-rule=\"evenodd\" fill-opacity=\"1\" stroke=\"#000000\" stroke-opacity=\"1\" stroke-width=\"3.2\"/>\n<circle clip-path=\"url(#clip282)\" cx=\"2156.09\" cy=\"766.846\" r=\"14\" fill=\"#009af9\" fill-rule=\"evenodd\" fill-opacity=\"1\" stroke=\"#000000\" stroke-opacity=\"1\" stroke-width=\"3.2\"/>\n<circle clip-path=\"url(#clip282)\" cx=\"1815.44\" cy=\"766.846\" r=\"14\" fill=\"#009af9\" fill-rule=\"evenodd\" fill-opacity=\"1\" stroke=\"#000000\" stroke-opacity=\"1\" stroke-width=\"3.2\"/>\n<circle clip-path=\"url(#clip282)\" cx=\"2124.21\" cy=\"766.846\" r=\"14\" fill=\"#009af9\" fill-rule=\"evenodd\" fill-opacity=\"1\" stroke=\"#000000\" stroke-opacity=\"1\" stroke-width=\"3.2\"/>\n<circle clip-path=\"url(#clip282)\" cx=\"1674.69\" cy=\"766.846\" r=\"14\" fill=\"#009af9\" fill-rule=\"evenodd\" fill-opacity=\"1\" stroke=\"#000000\" stroke-opacity=\"1\" stroke-width=\"3.2\"/>\n<circle clip-path=\"url(#clip282)\" cx=\"1534.35\" cy=\"766.846\" r=\"14\" fill=\"#009af9\" fill-rule=\"evenodd\" fill-opacity=\"1\" stroke=\"#000000\" stroke-opacity=\"1\" stroke-width=\"3.2\"/>\n<circle clip-path=\"url(#clip282)\" cx=\"1857.72\" cy=\"766.846\" r=\"14\" fill=\"#009af9\" fill-rule=\"evenodd\" fill-opacity=\"1\" stroke=\"#000000\" stroke-opacity=\"1\" stroke-width=\"3.2\"/>\n<circle clip-path=\"url(#clip282)\" cx=\"1269.53\" cy=\"766.846\" r=\"14\" fill=\"#009af9\" fill-rule=\"evenodd\" fill-opacity=\"1\" stroke=\"#000000\" stroke-opacity=\"1\" stroke-width=\"3.2\"/>\n<circle clip-path=\"url(#clip282)\" cx=\"1090.26\" cy=\"766.846\" r=\"14\" fill=\"#009af9\" fill-rule=\"evenodd\" fill-opacity=\"1\" stroke=\"#000000\" stroke-opacity=\"1\" stroke-width=\"3.2\"/>\n<circle clip-path=\"url(#clip282)\" cx=\"1838.11\" cy=\"766.846\" r=\"14\" fill=\"#009af9\" fill-rule=\"evenodd\" fill-opacity=\"1\" stroke=\"#000000\" stroke-opacity=\"1\" stroke-width=\"3.2\"/>\n<circle clip-path=\"url(#clip282)\" cx=\"1839.2\" cy=\"766.846\" r=\"14\" fill=\"#009af9\" fill-rule=\"evenodd\" fill-opacity=\"1\" stroke=\"#000000\" stroke-opacity=\"1\" stroke-width=\"3.2\"/>\n<circle clip-path=\"url(#clip282)\" cx=\"762.855\" cy=\"766.846\" r=\"14\" fill=\"#009af9\" fill-rule=\"evenodd\" fill-opacity=\"1\" stroke=\"#000000\" stroke-opacity=\"1\" stroke-width=\"3.2\"/>\n<circle clip-path=\"url(#clip282)\" cx=\"1986.44\" cy=\"766.846\" r=\"14\" fill=\"#009af9\" fill-rule=\"evenodd\" fill-opacity=\"1\" stroke=\"#000000\" stroke-opacity=\"1\" stroke-width=\"3.2\"/>\n<circle clip-path=\"url(#clip282)\" cx=\"1763.9\" cy=\"766.846\" r=\"14\" fill=\"#009af9\" fill-rule=\"evenodd\" fill-opacity=\"1\" stroke=\"#000000\" stroke-opacity=\"1\" stroke-width=\"3.2\"/>\n<circle clip-path=\"url(#clip282)\" cx=\"672.122\" cy=\"766.846\" r=\"14\" fill=\"#009af9\" fill-rule=\"evenodd\" fill-opacity=\"1\" stroke=\"#000000\" stroke-opacity=\"1\" stroke-width=\"3.2\"/>\n<circle clip-path=\"url(#clip282)\" cx=\"794.155\" cy=\"766.846\" r=\"14\" fill=\"#009af9\" fill-rule=\"evenodd\" fill-opacity=\"1\" stroke=\"#000000\" stroke-opacity=\"1\" stroke-width=\"3.2\"/>\n<circle clip-path=\"url(#clip282)\" cx=\"1163.04\" cy=\"766.846\" r=\"14\" fill=\"#009af9\" fill-rule=\"evenodd\" fill-opacity=\"1\" stroke=\"#000000\" stroke-opacity=\"1\" stroke-width=\"3.2\"/>\n<circle clip-path=\"url(#clip282)\" cx=\"1155.95\" cy=\"766.846\" r=\"14\" fill=\"#009af9\" fill-rule=\"evenodd\" fill-opacity=\"1\" stroke=\"#000000\" stroke-opacity=\"1\" stroke-width=\"3.2\"/>\n<circle clip-path=\"url(#clip282)\" cx=\"1247.99\" cy=\"766.846\" r=\"14\" fill=\"#009af9\" fill-rule=\"evenodd\" fill-opacity=\"1\" stroke=\"#000000\" stroke-opacity=\"1\" stroke-width=\"3.2\"/>\n<circle clip-path=\"url(#clip282)\" cx=\"235.221\" cy=\"766.846\" r=\"14\" fill=\"#009af9\" fill-rule=\"evenodd\" fill-opacity=\"1\" stroke=\"#000000\" stroke-opacity=\"1\" stroke-width=\"3.2\"/>\n<circle clip-path=\"url(#clip282)\" cx=\"623.722\" cy=\"766.846\" r=\"14\" fill=\"#009af9\" fill-rule=\"evenodd\" fill-opacity=\"1\" stroke=\"#000000\" stroke-opacity=\"1\" stroke-width=\"3.2\"/>\n<circle clip-path=\"url(#clip282)\" cx=\"285.385\" cy=\"766.846\" r=\"14\" fill=\"#009af9\" fill-rule=\"evenodd\" fill-opacity=\"1\" stroke=\"#000000\" stroke-opacity=\"1\" stroke-width=\"3.2\"/>\n<path clip-path=\"url(#clip280)\" d=\"\nM1983.32 216.178 L2279.28 216.178 L2279.28 95.2176 L1983.32 95.2176  Z\n  \" fill=\"#ffffff\" fill-rule=\"evenodd\" fill-opacity=\"1\"/>\n<polyline clip-path=\"url(#clip280)\" style=\"stroke:#000000; stroke-width:4; stroke-opacity:1; fill:none\" points=\"\n  1983.32,216.178 2279.28,216.178 2279.28,95.2176 1983.32,95.2176 1983.32,216.178 \n  \"/>\n<circle clip-path=\"url(#clip280)\" cx=\"2081.3\" cy=\"155.698\" r=\"23\" fill=\"#009af9\" fill-rule=\"evenodd\" fill-opacity=\"1\" stroke=\"#000000\" stroke-opacity=\"1\" stroke-width=\"5.12\"/>\n<path clip-path=\"url(#clip280)\" d=\"M 0 0 M2193.11 175.385 Q2191.31 180.015 2189.59 181.427 Q2187.88 182.839 2185.01 182.839 L2181.61 182.839 L2181.61 179.274 L2184.11 179.274 Q2185.87 179.274 2186.84 178.44 Q2187.81 177.607 2188.99 174.505 L2189.76 172.561 L2179.27 147.052 L2183.78 147.052 L2191.89 167.329 L2199.99 147.052 L2204.5 147.052 L2193.11 175.385 Z\" fill=\"#000000\" fill-rule=\"evenodd\" fill-opacity=\"1\" /><path clip-path=\"url(#clip280)\" d=\"M 0 0 M2210.38 169.042 L2218.02 169.042 L2218.02 142.677 L2209.71 144.343 L2209.71 140.084 L2217.97 138.418 L2222.65 138.418 L2222.65 169.042 L2230.29 169.042 L2230.29 172.978 L2210.38 172.978 L2210.38 169.042 Z\" fill=\"#000000\" fill-rule=\"evenodd\" fill-opacity=\"1\" /></svg>\n"
               },
               "type": "node"
              }
             ],
             "instanceArgs": {
              "namespace": "html",
              "tag": "div"
             },
             "nodeType": "DOM",
             "props": {
              "className": "interact-flex-row interact-widget"
             },
             "type": "node"
            }
           }
          },
          "systemjs_options": null
         },
         "nodeType": "Scope",
         "props": {},
         "type": "node"
        }
       ],
       "instanceArgs": {
        "namespace": "html",
        "tag": "div"
       },
       "nodeType": "DOM",
       "props": {},
       "type": "node"
      },
      "text/html": [
       "<div\n",
       "    class=\"webio-mountpoint\"\n",
       "    data-webio-mountpoint=\"17019154236572754398\"\n",
       ">\n",
       "    <script>\n",
       "    if (window.require && require.defined && require.defined(\"nbextensions/webio-jupyter-notebook\")) {\n",
       "        console.log(\"Jupyter WebIO extension detected, not mounting.\");\n",
       "    } else if (window.WebIO) {\n",
       "        WebIO.mount(\n",
       "            document.querySelector('[data-webio-mountpoint=\"17019154236572754398\"]'),\n",
       "            {\"props\":{},\"nodeType\":\"DOM\",\"type\":\"node\",\"instanceArgs\":{\"namespace\":\"html\",\"tag\":\"div\"},\"children\":[{\"props\":{\"className\":\"field interact-widget\"},\"nodeType\":\"DOM\",\"type\":\"node\",\"instanceArgs\":{\"namespace\":\"html\",\"tag\":\"div\"},\"children\":[{\"props\":{},\"nodeType\":\"Scope\",\"type\":\"node\",\"instanceArgs\":{\"imports\":{\"data\":[{\"name\":\"knockout\",\"type\":\"js\",\"url\":\"\\/assetserver\\/4e15ea8f38f5d33bf0b2930cb09c8089f78b114e-knockout.js\"},{\"name\":\"knockout_punches\",\"type\":\"js\",\"url\":\"\\/assetserver\\/6967e46b2259ea2e5c469b61c410326b52955db7-knockout_punches.js\"},{\"name\":null,\"type\":\"js\",\"url\":\"\\/assetserver\\/a643ec32b5fd67f0647ab1f378e6bc75a94bf7ef-all.js\"},{\"name\":null,\"type\":\"css\",\"url\":\"\\/assetserver\\/c4a428321098a6b37c6165665184ef1be8f91e08-style.css\"},{\"name\":null,\"type\":\"css\",\"url\":\"\\/assetserver\\/62690f06d5dfb4c711812ef88e307907ed9b059b-bulma_confined.min.css\"}],\"type\":\"async_block\"},\"id\":\"4812091332554349266\",\"handlers\":{\"changes\":[\"(function (val){return (val!=this.model[\\\"changes\\\"]()) ? (this.valueFromJulia[\\\"changes\\\"]=true, this.model[\\\"changes\\\"](val)) : undefined})\"],\"index\":[\"(function (val){return (val!=this.model[\\\"index\\\"]()) ? (this.valueFromJulia[\\\"index\\\"]=true, this.model[\\\"index\\\"](val)) : undefined})\"]},\"systemjs_options\":null,\"mount_callbacks\":[\"function () {\\n    var handler = (function (ko, koPunches) {\\n    ko.punches.enableAll();\\n    ko.bindingHandlers.numericValue = {\\n        init: function(element, valueAccessor, allBindings, data, context) {\\n            var stringified = ko.observable(ko.unwrap(valueAccessor()));\\n            stringified.subscribe(function(value) {\\n                var val = parseFloat(value);\\n                if (!isNaN(val)) {\\n                    valueAccessor()(val);\\n                }\\n            });\\n            valueAccessor().subscribe(function(value) {\\n                var str = JSON.stringify(value);\\n                if ((str == \\\"0\\\") && ([\\\"-0\\\", \\\"-0.\\\"].indexOf(stringified()) >= 0))\\n                     return;\\n                 if ([\\\"null\\\", \\\"\\\"].indexOf(str) >= 0)\\n                     return;\\n                stringified(str);\\n            });\\n            ko.applyBindingsToNode(\\n                element,\\n                {\\n                    value: stringified,\\n                    valueUpdate: allBindings.get('valueUpdate'),\\n                },\\n                context,\\n            );\\n        }\\n    };\\n    var json_data = {\\\"formatted_vals\\\":[\\\"1\\\",\\\"2\\\",\\\"3\\\",\\\"4\\\",\\\"5\\\",\\\"6\\\",\\\"7\\\",\\\"8\\\",\\\"9\\\",\\\"10\\\",\\\"11\\\",\\\"12\\\",\\\"13\\\",\\\"14\\\",\\\"15\\\",\\\"16\\\",\\\"17\\\",\\\"18\\\",\\\"19\\\",\\\"20\\\",\\\"21\\\",\\\"22\\\",\\\"23\\\",\\\"24\\\",\\\"25\\\",\\\"26\\\",\\\"27\\\",\\\"28\\\",\\\"29\\\",\\\"30\\\",\\\"31\\\",\\\"32\\\",\\\"33\\\",\\\"34\\\",\\\"35\\\",\\\"36\\\",\\\"37\\\",\\\"38\\\",\\\"39\\\",\\\"40\\\",\\\"41\\\",\\\"42\\\",\\\"43\\\",\\\"44\\\",\\\"45\\\",\\\"46\\\",\\\"47\\\",\\\"48\\\",\\\"49\\\",\\\"50\\\",\\\"51\\\",\\\"52\\\",\\\"53\\\",\\\"54\\\",\\\"55\\\",\\\"56\\\",\\\"57\\\",\\\"58\\\",\\\"59\\\",\\\"60\\\",\\\"61\\\",\\\"62\\\",\\\"63\\\",\\\"64\\\",\\\"65\\\",\\\"66\\\",\\\"67\\\",\\\"68\\\",\\\"69\\\",\\\"70\\\",\\\"71\\\",\\\"72\\\",\\\"73\\\",\\\"74\\\",\\\"75\\\",\\\"76\\\",\\\"77\\\",\\\"78\\\",\\\"79\\\",\\\"80\\\",\\\"81\\\",\\\"82\\\",\\\"83\\\",\\\"84\\\",\\\"85\\\",\\\"86\\\",\\\"87\\\",\\\"88\\\",\\\"89\\\",\\\"90\\\",\\\"91\\\",\\\"92\\\",\\\"93\\\",\\\"94\\\",\\\"95\\\",\\\"96\\\",\\\"97\\\",\\\"98\\\",\\\"99\\\",\\\"100\\\"],\\\"changes\\\":WebIO.getval({\\\"name\\\":\\\"changes\\\",\\\"scope\\\":\\\"4812091332554349266\\\",\\\"id\\\":\\\"15441355439567862143\\\",\\\"type\\\":\\\"observable\\\"}),\\\"index\\\":WebIO.getval({\\\"name\\\":\\\"index\\\",\\\"scope\\\":\\\"4812091332554349266\\\",\\\"id\\\":\\\"2810360115166225567\\\",\\\"type\\\":\\\"observable\\\"})};\\n    var self = this;\\n    function AppViewModel() {\\n        for (var key in json_data) {\\n            var el = json_data[key];\\n            this[key] = Array.isArray(el) ? ko.observableArray(el) : ko.observable(el);\\n        }\\n        \\n        [this[\\\"formatted_val\\\"]=ko.computed(    function(){\\n        return this.formatted_vals()[parseInt(this.index())-(1)];\\n    }\\n,this)]\\n        [this[\\\"changes\\\"].subscribe((function (val){!(this.valueFromJulia[\\\"changes\\\"]) ? (WebIO.setval({\\\"name\\\":\\\"changes\\\",\\\"scope\\\":\\\"4812091332554349266\\\",\\\"id\\\":\\\"15441355439567862143\\\",\\\"type\\\":\\\"observable\\\"},val)) : undefined; return this.valueFromJulia[\\\"changes\\\"]=false}),self),this[\\\"index\\\"].subscribe((function (val){!(this.valueFromJulia[\\\"index\\\"]) ? (WebIO.setval({\\\"name\\\":\\\"index\\\",\\\"scope\\\":\\\"4812091332554349266\\\",\\\"id\\\":\\\"2810360115166225567\\\",\\\"type\\\":\\\"observable\\\"},val)) : undefined; return this.valueFromJulia[\\\"index\\\"]=false}),self)]\\n        \\n    }\\n    self.model = new AppViewModel();\\n    self.valueFromJulia = {};\\n    for (var key in json_data) {\\n        self.valueFromJulia[key] = false;\\n    }\\n    ko.applyBindings(self.model, self.dom);\\n}\\n);\\n    (WebIO.importBlock({\\\"data\\\":[{\\\"name\\\":\\\"knockout\\\",\\\"type\\\":\\\"js\\\",\\\"url\\\":\\\"\\/assetserver\\/4e15ea8f38f5d33bf0b2930cb09c8089f78b114e-knockout.js\\\"},{\\\"name\\\":\\\"knockout_punches\\\",\\\"type\\\":\\\"js\\\",\\\"url\\\":\\\"\\/assetserver\\/6967e46b2259ea2e5c469b61c410326b52955db7-knockout_punches.js\\\"}],\\\"type\\\":\\\"async_block\\\"})).then((imports) => handler.apply(this, imports));\\n}\\n\"],\"observables\":{\"changes\":{\"sync\":false,\"id\":\"15441355439567862143\",\"value\":0},\"index\":{\"sync\":true,\"id\":\"2810360115166225567\",\"value\":50}}},\"children\":[{\"props\":{\"className\":\"interact-flex-row interact-widget\"},\"nodeType\":\"DOM\",\"type\":\"node\",\"instanceArgs\":{\"namespace\":\"html\",\"tag\":\"div\"},\"children\":[{\"props\":{\"className\":\"interact-flex-row-left\"},\"nodeType\":\"DOM\",\"type\":\"node\",\"instanceArgs\":{\"namespace\":\"html\",\"tag\":\"div\"},\"children\":[{\"props\":{\"className\":\"interact \",\"style\":{\"padding\":\"5px 10px 0px 10px\"}},\"nodeType\":\"DOM\",\"type\":\"node\",\"instanceArgs\":{\"namespace\":\"html\",\"tag\":\"label\"},\"children\":[\"n\"]}]},{\"props\":{\"className\":\"interact-flex-row-center\"},\"nodeType\":\"DOM\",\"type\":\"node\",\"instanceArgs\":{\"namespace\":\"html\",\"tag\":\"div\"},\"children\":[{\"props\":{\"max\":100,\"min\":1,\"attributes\":{\"type\":\"range\",\"data-bind\":\"numericValue: index, valueUpdate: 'input', event: {change: function (){this.changes(this.changes()+1)}}\",\"orient\":\"horizontal\"},\"step\":1,\"className\":\"slider slider is-fullwidth\",\"style\":{}},\"nodeType\":\"DOM\",\"type\":\"node\",\"instanceArgs\":{\"namespace\":\"html\",\"tag\":\"input\"},\"children\":[]}]},{\"props\":{\"className\":\"interact-flex-row-right\"},\"nodeType\":\"DOM\",\"type\":\"node\",\"instanceArgs\":{\"namespace\":\"html\",\"tag\":\"div\"},\"children\":[{\"props\":{\"attributes\":{\"data-bind\":\"text: formatted_val\"}},\"nodeType\":\"DOM\",\"type\":\"node\",\"instanceArgs\":{\"namespace\":\"html\",\"tag\":\"p\"},\"children\":[]}]}]}]}]},{\"props\":{},\"nodeType\":\"Scope\",\"type\":\"node\",\"instanceArgs\":{\"imports\":{\"data\":[],\"type\":\"async_block\"},\"id\":\"15649565661833856767\",\"handlers\":{},\"systemjs_options\":null,\"mount_callbacks\":[],\"observables\":{\"obs-node\":{\"sync\":false,\"id\":\"13151221181823518577\",\"value\":{\"props\":{\"className\":\"interact-flex-row interact-widget\"},\"nodeType\":\"DOM\",\"type\":\"node\",\"instanceArgs\":{\"namespace\":\"html\",\"tag\":\"div\"},\"children\":[{\"props\":{\"setInnerHtml\":\"<?xml version=\\\"1.0\\\" encoding=\\\"utf-8\\\"?>\\n<svg xmlns=\\\"http:\\/\\/www.w3.org\\/2000\\/svg\\\" xmlns:xlink=\\\"http:\\/\\/www.w3.org\\/1999\\/xlink\\\" width=\\\"600\\\" height=\\\"400\\\" viewBox=\\\"0 0 2400 1600\\\">\\n<defs>\\n  <clipPath id=\\\"clip240\\\">\\n    <rect x=\\\"0\\\" y=\\\"0\\\" width=\\\"2400\\\" height=\\\"1600\\\"\\/>\\n  <\\/clipPath>\\n<\\/defs>\\n<path clip-path=\\\"url(#clip240)\\\" d=\\\"\\nM0 1600 L2400 1600 L2400 0 L0 0  Z\\n  \\\" fill=\\\"#ffffff\\\" fill-rule=\\\"evenodd\\\" fill-opacity=\\\"1\\\"\\/>\\n<defs>\\n  <clipPath id=\\\"clip241\\\">\\n    <rect x=\\\"480\\\" y=\\\"0\\\" width=\\\"1681\\\" height=\\\"1600\\\"\\/>\\n  <\\/clipPath>\\n<\\/defs>\\n<path clip-path=\\\"url(#clip240)\\\" d=\\\"\\nM148.334 1486.45 L2352.76 1486.45 L2352.76 47.2441 L148.334 47.2441  Z\\n  \\\" fill=\\\"#ffffff\\\" fill-rule=\\\"evenodd\\\" fill-opacity=\\\"1\\\"\\/>\\n<defs>\\n  <clipPath id=\\\"clip242\\\">\\n    <rect x=\\\"148\\\" y=\\\"47\\\" width=\\\"2205\\\" height=\\\"1440\\\"\\/>\\n  <\\/clipPath>\\n<\\/defs>\\n<polyline clip-path=\\\"url(#clip242)\\\" style=\\\"stroke:#000000; stroke-width:2; stroke-opacity:0.1; fill:none\\\" points=\\\"\\n  148.334,1486.45 148.334,47.2441 \\n  \\\"\\/>\\n<polyline clip-path=\\\"url(#clip242)\\\" style=\\\"stroke:#000000; stroke-width:2; stroke-opacity:0.1; fill:none\\\" points=\\\"\\n  589.219,1486.45 589.219,47.2441 \\n  \\\"\\/>\\n<polyline clip-path=\\\"url(#clip242)\\\" style=\\\"stroke:#000000; stroke-width:2; stroke-opacity:0.1; fill:none\\\" points=\\\"\\n  1030.1,1486.45 1030.1,47.2441 \\n  \\\"\\/>\\n<polyline clip-path=\\\"url(#clip242)\\\" style=\\\"stroke:#000000; stroke-width:2; stroke-opacity:0.1; fill:none\\\" points=\\\"\\n  1470.99,1486.45 1470.99,47.2441 \\n  \\\"\\/>\\n<polyline clip-path=\\\"url(#clip242)\\\" style=\\\"stroke:#000000; stroke-width:2; stroke-opacity:0.1; fill:none\\\" points=\\\"\\n  1911.87,1486.45 1911.87,47.2441 \\n  \\\"\\/>\\n<polyline clip-path=\\\"url(#clip242)\\\" style=\\\"stroke:#000000; stroke-width:2; stroke-opacity:0.1; fill:none\\\" points=\\\"\\n  2352.76,1486.45 2352.76,47.2441 \\n  \\\"\\/>\\n<polyline clip-path=\\\"url(#clip240)\\\" style=\\\"stroke:#000000; stroke-width:4; stroke-opacity:1; fill:none\\\" points=\\\"\\n  148.334,1486.45 2352.76,1486.45 \\n  \\\"\\/>\\n<polyline clip-path=\\\"url(#clip240)\\\" style=\\\"stroke:#000000; stroke-width:4; stroke-opacity:1; fill:none\\\" points=\\\"\\n  148.334,1486.45 148.334,1469.18 \\n  \\\"\\/>\\n<polyline clip-path=\\\"url(#clip240)\\\" style=\\\"stroke:#000000; stroke-width:4; stroke-opacity:1; fill:none\\\" points=\\\"\\n  589.219,1486.45 589.219,1469.18 \\n  \\\"\\/>\\n<polyline clip-path=\\\"url(#clip240)\\\" style=\\\"stroke:#000000; stroke-width:4; stroke-opacity:1; fill:none\\\" points=\\\"\\n  1030.1,1486.45 1030.1,1469.18 \\n  \\\"\\/>\\n<polyline clip-path=\\\"url(#clip240)\\\" style=\\\"stroke:#000000; stroke-width:4; stroke-opacity:1; fill:none\\\" points=\\\"\\n  1470.99,1486.45 1470.99,1469.18 \\n  \\\"\\/>\\n<polyline clip-path=\\\"url(#clip240)\\\" style=\\\"stroke:#000000; stroke-width:4; stroke-opacity:1; fill:none\\\" points=\\\"\\n  1911.87,1486.45 1911.87,1469.18 \\n  \\\"\\/>\\n<polyline clip-path=\\\"url(#clip240)\\\" style=\\\"stroke:#000000; stroke-width:4; stroke-opacity:1; fill:none\\\" points=\\\"\\n  2352.76,1486.45 2352.76,1469.18 \\n  \\\"\\/>\\n<path clip-path=\\\"url(#clip240)\\\" d=\\\"M 0 0 M129.851 1515.64 Q126.24 1515.64 124.411 1519.2 Q122.605 1522.75 122.605 1529.87 Q122.605 1536.98 124.411 1540.55 Q126.24 1544.09 129.851 1544.09 Q133.485 1544.09 135.29 1540.55 Q137.119 1536.98 137.119 1529.87 Q137.119 1522.75 135.29 1519.2 Q133.485 1515.64 129.851 1515.64 M129.851 1511.93 Q135.661 1511.93 138.716 1516.54 Q141.795 1521.12 141.795 1529.87 Q141.795 1538.6 138.716 1543.21 Q135.661 1547.79 129.851 1547.79 Q124.041 1547.79 120.962 1543.21 Q117.906 1538.6 117.906 1529.87 Q117.906 1521.12 120.962 1516.54 Q124.041 1511.93 129.851 1511.93 Z\\\" fill=\\\"#000000\\\" fill-rule=\\\"evenodd\\\" fill-opacity=\\\"1\\\" \\/><path clip-path=\\\"url(#clip240)\\\" d=\\\"M 0 0 M146.864 1541.24 L151.749 1541.24 L151.749 1547.12 L146.864 1547.12 L146.864 1541.24 Z\\\" fill=\\\"#000000\\\" fill-rule=\\\"evenodd\\\" fill-opacity=\\\"1\\\" \\/><path clip-path=\\\"url(#clip240)\\\" d=\\\"M 0 0 M166.818 1515.64 Q163.207 1515.64 161.378 1519.2 Q159.573 1522.75 159.573 1529.87 Q159.573 1536.98 161.378 1540.55 Q163.207 1544.09 166.818 1544.09 Q170.452 1544.09 172.258 1540.55 Q174.087 1536.98 174.087 1529.87 Q174.087 1522.75 172.258 1519.2 Q170.452 1515.64 166.818 1515.64 M166.818 1511.93 Q172.628 1511.93 175.684 1516.54 Q178.762 1521.12 178.762 1529.87 Q178.762 1538.6 175.684 1543.21 Q172.628 1547.79 166.818 1547.79 Q161.008 1547.79 157.929 1543.21 Q154.874 1538.6 154.874 1529.87 Q154.874 1521.12 157.929 1516.54 Q161.008 1511.93 166.818 1511.93 Z\\\" fill=\\\"#000000\\\" fill-rule=\\\"evenodd\\\" fill-opacity=\\\"1\\\" \\/><path clip-path=\\\"url(#clip240)\\\" d=\\\"M 0 0 M571.534 1515.64 Q567.923 1515.64 566.094 1519.2 Q564.288 1522.75 564.288 1529.87 Q564.288 1536.98 566.094 1540.55 Q567.923 1544.09 571.534 1544.09 Q575.168 1544.09 576.973 1540.55 Q578.802 1536.98 578.802 1529.87 Q578.802 1522.75 576.973 1519.2 Q575.168 1515.64 571.534 1515.64 M571.534 1511.93 Q577.344 1511.93 580.399 1516.54 Q583.478 1521.12 583.478 1529.87 Q583.478 1538.6 580.399 1543.21 Q577.344 1547.79 571.534 1547.79 Q565.723 1547.79 562.645 1543.21 Q559.589 1538.6 559.589 1529.87 Q559.589 1521.12 562.645 1516.54 Q565.723 1511.93 571.534 1511.93 Z\\\" fill=\\\"#000000\\\" fill-rule=\\\"evenodd\\\" fill-opacity=\\\"1\\\" \\/><path clip-path=\\\"url(#clip240)\\\" d=\\\"M 0 0 M588.547 1541.24 L593.432 1541.24 L593.432 1547.12 L588.547 1547.12 L588.547 1541.24 Z\\\" fill=\\\"#000000\\\" fill-rule=\\\"evenodd\\\" fill-opacity=\\\"1\\\" \\/><path clip-path=\\\"url(#clip240)\\\" d=\\\"M 0 0 M602.529 1543.18 L618.848 1543.18 L618.848 1547.12 L596.904 1547.12 L596.904 1543.18 Q599.566 1540.43 604.149 1535.8 Q608.756 1531.15 609.936 1529.81 Q612.182 1527.28 613.061 1525.55 Q613.964 1523.79 613.964 1522.1 Q613.964 1519.34 612.019 1517.61 Q610.098 1515.87 606.996 1515.87 Q604.797 1515.87 602.344 1516.63 Q599.913 1517.4 597.135 1518.95 L597.135 1514.23 Q599.959 1513.09 602.413 1512.51 Q604.867 1511.93 606.904 1511.93 Q612.274 1511.93 615.469 1514.62 Q618.663 1517.31 618.663 1521.8 Q618.663 1523.93 617.853 1525.85 Q617.066 1527.74 614.959 1530.34 Q614.381 1531.01 611.279 1534.23 Q608.177 1537.42 602.529 1543.18 Z\\\" fill=\\\"#000000\\\" fill-rule=\\\"evenodd\\\" fill-opacity=\\\"1\\\" \\/><path clip-path=\\\"url(#clip240)\\\" d=\\\"M 0 0 M1011.38 1515.64 Q1007.77 1515.64 1005.94 1519.2 Q1004.13 1522.75 1004.13 1529.87 Q1004.13 1536.98 1005.94 1540.55 Q1007.77 1544.09 1011.38 1544.09 Q1015.01 1544.09 1016.82 1540.55 Q1018.64 1536.98 1018.64 1529.87 Q1018.64 1522.75 1016.82 1519.2 Q1015.01 1515.64 1011.38 1515.64 M1011.38 1511.93 Q1017.19 1511.93 1020.24 1516.54 Q1023.32 1521.12 1023.32 1529.87 Q1023.32 1538.6 1020.24 1543.21 Q1017.19 1547.79 1011.38 1547.79 Q1005.57 1547.79 1002.49 1543.21 Q999.432 1538.6 999.432 1529.87 Q999.432 1521.12 1002.49 1516.54 Q1005.57 1511.93 1011.38 1511.93 Z\\\" fill=\\\"#000000\\\" fill-rule=\\\"evenodd\\\" fill-opacity=\\\"1\\\" \\/><path clip-path=\\\"url(#clip240)\\\" d=\\\"M 0 0 M1028.39 1541.24 L1033.27 1541.24 L1033.27 1547.12 L1028.39 1547.12 L1028.39 1541.24 Z\\\" fill=\\\"#000000\\\" fill-rule=\\\"evenodd\\\" fill-opacity=\\\"1\\\" \\/><path clip-path=\\\"url(#clip240)\\\" d=\\\"M 0 0 M1051.19 1516.63 L1039.39 1535.08 L1051.19 1535.08 L1051.19 1516.63 M1049.96 1512.56 L1055.84 1512.56 L1055.84 1535.08 L1060.77 1535.08 L1060.77 1538.97 L1055.84 1538.97 L1055.84 1547.12 L1051.19 1547.12 L1051.19 1538.97 L1035.59 1538.97 L1035.59 1534.46 L1049.96 1512.56 Z\\\" fill=\\\"#000000\\\" fill-rule=\\\"evenodd\\\" fill-opacity=\\\"1\\\" \\/><path clip-path=\\\"url(#clip240)\\\" d=\\\"M 0 0 M1452.42 1515.64 Q1448.81 1515.64 1446.98 1519.2 Q1445.18 1522.75 1445.18 1529.87 Q1445.18 1536.98 1446.98 1540.55 Q1448.81 1544.09 1452.42 1544.09 Q1456.06 1544.09 1457.86 1540.55 Q1459.69 1536.98 1459.69 1529.87 Q1459.69 1522.75 1457.86 1519.2 Q1456.06 1515.64 1452.42 1515.64 M1452.42 1511.93 Q1458.23 1511.93 1461.29 1516.54 Q1464.37 1521.12 1464.37 1529.87 Q1464.37 1538.6 1461.29 1543.21 Q1458.23 1547.79 1452.42 1547.79 Q1446.61 1547.79 1443.53 1543.21 Q1440.48 1538.6 1440.48 1529.87 Q1440.48 1521.12 1443.53 1516.54 Q1446.61 1511.93 1452.42 1511.93 Z\\\" fill=\\\"#000000\\\" fill-rule=\\\"evenodd\\\" fill-opacity=\\\"1\\\" \\/><path clip-path=\\\"url(#clip240)\\\" d=\\\"M 0 0 M1469.44 1541.24 L1474.32 1541.24 L1474.32 1547.12 L1469.44 1547.12 L1469.44 1541.24 Z\\\" fill=\\\"#000000\\\" fill-rule=\\\"evenodd\\\" fill-opacity=\\\"1\\\" \\/><path clip-path=\\\"url(#clip240)\\\" d=\\\"M 0 0 M1489.97 1527.98 Q1486.82 1527.98 1484.97 1530.13 Q1483.14 1532.28 1483.14 1536.03 Q1483.14 1539.76 1484.97 1541.93 Q1486.82 1544.09 1489.97 1544.09 Q1493.12 1544.09 1494.95 1541.93 Q1496.8 1539.76 1496.8 1536.03 Q1496.8 1532.28 1494.95 1530.13 Q1493.12 1527.98 1489.97 1527.98 M1499.25 1513.32 L1499.25 1517.58 Q1497.49 1516.75 1495.69 1516.31 Q1493.9 1515.87 1492.14 1515.87 Q1487.51 1515.87 1485.06 1519 Q1482.63 1522.12 1482.28 1528.44 Q1483.65 1526.43 1485.71 1525.36 Q1487.77 1524.27 1490.25 1524.27 Q1495.45 1524.27 1498.46 1527.44 Q1501.5 1530.59 1501.5 1536.03 Q1501.5 1541.36 1498.35 1544.57 Q1495.2 1547.79 1489.97 1547.79 Q1483.97 1547.79 1480.8 1543.21 Q1477.63 1538.6 1477.63 1529.87 Q1477.63 1521.68 1481.52 1516.82 Q1485.41 1511.93 1491.96 1511.93 Q1493.72 1511.93 1495.5 1512.28 Q1497.31 1512.63 1499.25 1513.32 Z\\\" fill=\\\"#000000\\\" fill-rule=\\\"evenodd\\\" fill-opacity=\\\"1\\\" \\/><path clip-path=\\\"url(#clip240)\\\" d=\\\"M 0 0 M1893.43 1515.64 Q1889.82 1515.64 1887.99 1519.2 Q1886.19 1522.75 1886.19 1529.87 Q1886.19 1536.98 1887.99 1540.55 Q1889.82 1544.09 1893.43 1544.09 Q1897.07 1544.09 1898.87 1540.55 Q1900.7 1536.98 1900.7 1529.87 Q1900.7 1522.75 1898.87 1519.2 Q1897.07 1515.64 1893.43 1515.64 M1893.43 1511.93 Q1899.24 1511.93 1902.3 1516.54 Q1905.38 1521.12 1905.38 1529.87 Q1905.38 1538.6 1902.3 1543.21 Q1899.24 1547.79 1893.43 1547.79 Q1887.62 1547.79 1884.55 1543.21 Q1881.49 1538.6 1881.49 1529.87 Q1881.49 1521.12 1884.55 1516.54 Q1887.62 1511.93 1893.43 1511.93 Z\\\" fill=\\\"#000000\\\" fill-rule=\\\"evenodd\\\" fill-opacity=\\\"1\\\" \\/><path clip-path=\\\"url(#clip240)\\\" d=\\\"M 0 0 M1910.45 1541.24 L1915.33 1541.24 L1915.33 1547.12 L1910.45 1547.12 L1910.45 1541.24 Z\\\" fill=\\\"#000000\\\" fill-rule=\\\"evenodd\\\" fill-opacity=\\\"1\\\" \\/><path clip-path=\\\"url(#clip240)\\\" d=\\\"M 0 0 M1930.4 1530.71 Q1927.07 1530.71 1925.15 1532.49 Q1923.25 1534.27 1923.25 1537.4 Q1923.25 1540.52 1925.15 1542.31 Q1927.07 1544.09 1930.4 1544.09 Q1933.73 1544.09 1935.66 1542.31 Q1937.58 1540.5 1937.58 1537.4 Q1937.58 1534.27 1935.66 1532.49 Q1933.76 1530.71 1930.4 1530.71 M1925.73 1528.72 Q1922.72 1527.98 1921.03 1525.92 Q1919.36 1523.86 1919.36 1520.89 Q1919.36 1516.75 1922.3 1514.34 Q1925.26 1511.93 1930.4 1511.93 Q1935.56 1511.93 1938.5 1514.34 Q1941.44 1516.75 1941.44 1520.89 Q1941.44 1523.86 1939.75 1525.92 Q1938.09 1527.98 1935.1 1528.72 Q1938.48 1529.5 1940.36 1531.8 Q1942.25 1534.09 1942.25 1537.4 Q1942.25 1542.42 1939.17 1545.11 Q1936.12 1547.79 1930.4 1547.79 Q1924.68 1547.79 1921.61 1545.11 Q1918.55 1542.42 1918.55 1537.4 Q1918.55 1534.09 1920.45 1531.8 Q1922.35 1529.5 1925.73 1528.72 M1924.01 1521.33 Q1924.01 1524.02 1925.68 1525.52 Q1927.37 1527.03 1930.4 1527.03 Q1933.41 1527.03 1935.1 1525.52 Q1936.81 1524.02 1936.81 1521.33 Q1936.81 1518.65 1935.1 1517.14 Q1933.41 1515.64 1930.4 1515.64 Q1927.37 1515.64 1925.68 1517.14 Q1924.01 1518.65 1924.01 1521.33 Z\\\" fill=\\\"#000000\\\" fill-rule=\\\"evenodd\\\" fill-opacity=\\\"1\\\" \\/><path clip-path=\\\"url(#clip240)\\\" d=\\\"M 0 0 M2324.65 1543.18 L2332.29 1543.18 L2332.29 1516.82 L2323.98 1518.49 L2323.98 1514.23 L2332.25 1512.56 L2336.92 1512.56 L2336.92 1543.18 L2344.56 1543.18 L2344.56 1547.12 L2324.65 1547.12 L2324.65 1543.18 Z\\\" fill=\\\"#000000\\\" fill-rule=\\\"evenodd\\\" fill-opacity=\\\"1\\\" \\/><path clip-path=\\\"url(#clip240)\\\" d=\\\"M 0 0 M2349.63 1541.24 L2354.52 1541.24 L2354.52 1547.12 L2349.63 1547.12 L2349.63 1541.24 Z\\\" fill=\\\"#000000\\\" fill-rule=\\\"evenodd\\\" fill-opacity=\\\"1\\\" \\/><path clip-path=\\\"url(#clip240)\\\" d=\\\"M 0 0 M2369.58 1515.64 Q2365.97 1515.64 2364.14 1519.2 Q2362.34 1522.75 2362.34 1529.87 Q2362.34 1536.98 2364.14 1540.55 Q2365.97 1544.09 2369.58 1544.09 Q2373.22 1544.09 2375.02 1540.55 Q2376.85 1536.98 2376.85 1529.87 Q2376.85 1522.75 2375.02 1519.2 Q2373.22 1515.64 2369.58 1515.64 M2369.58 1511.93 Q2375.39 1511.93 2378.45 1516.54 Q2381.53 1521.12 2381.53 1529.87 Q2381.53 1538.6 2378.45 1543.21 Q2375.39 1547.79 2369.58 1547.79 Q2363.77 1547.79 2360.7 1543.21 Q2357.64 1538.6 2357.64 1529.87 Q2357.64 1521.12 2360.7 1516.54 Q2363.77 1511.93 2369.58 1511.93 Z\\\" fill=\\\"#000000\\\" fill-rule=\\\"evenodd\\\" fill-opacity=\\\"1\\\" \\/><polyline clip-path=\\\"url(#clip242)\\\" style=\\\"stroke:#000000; stroke-width:2; stroke-opacity:0.1; fill:none\\\" points=\\\"\\n  148.334,1486.45 2352.76,1486.45 \\n  \\\"\\/>\\n<polyline clip-path=\\\"url(#clip242)\\\" style=\\\"stroke:#000000; stroke-width:2; stroke-opacity:0.1; fill:none\\\" points=\\\"\\n  148.334,1198.61 2352.76,1198.61 \\n  \\\"\\/>\\n<polyline clip-path=\\\"url(#clip242)\\\" style=\\\"stroke:#000000; stroke-width:2; stroke-opacity:0.1; fill:none\\\" points=\\\"\\n  148.334,910.766 2352.76,910.766 \\n  \\\"\\/>\\n<polyline clip-path=\\\"url(#clip242)\\\" style=\\\"stroke:#000000; stroke-width:2; stroke-opacity:0.1; fill:none\\\" points=\\\"\\n  148.334,622.926 2352.76,622.926 \\n  \\\"\\/>\\n<polyline clip-path=\\\"url(#clip242)\\\" style=\\\"stroke:#000000; stroke-width:2; stroke-opacity:0.1; fill:none\\\" points=\\\"\\n  148.334,335.085 2352.76,335.085 \\n  \\\"\\/>\\n<polyline clip-path=\\\"url(#clip242)\\\" style=\\\"stroke:#000000; stroke-width:2; stroke-opacity:0.1; fill:none\\\" points=\\\"\\n  148.334,47.2441 2352.76,47.2441 \\n  \\\"\\/>\\n<polyline clip-path=\\\"url(#clip240)\\\" style=\\\"stroke:#000000; stroke-width:4; stroke-opacity:1; fill:none\\\" points=\\\"\\n  148.334,1486.45 148.334,47.2441 \\n  \\\"\\/>\\n<polyline clip-path=\\\"url(#clip240)\\\" style=\\\"stroke:#000000; stroke-width:4; stroke-opacity:1; fill:none\\\" points=\\\"\\n  148.334,1486.45 174.787,1486.45 \\n  \\\"\\/>\\n<polyline clip-path=\\\"url(#clip240)\\\" style=\\\"stroke:#000000; stroke-width:4; stroke-opacity:1; fill:none\\\" points=\\\"\\n  148.334,1198.61 174.787,1198.61 \\n  \\\"\\/>\\n<polyline clip-path=\\\"url(#clip240)\\\" style=\\\"stroke:#000000; stroke-width:4; stroke-opacity:1; fill:none\\\" points=\\\"\\n  148.334,910.766 174.787,910.766 \\n  \\\"\\/>\\n<polyline clip-path=\\\"url(#clip240)\\\" style=\\\"stroke:#000000; stroke-width:4; stroke-opacity:1; fill:none\\\" points=\\\"\\n  148.334,622.926 174.787,622.926 \\n  \\\"\\/>\\n<polyline clip-path=\\\"url(#clip240)\\\" style=\\\"stroke:#000000; stroke-width:4; stroke-opacity:1; fill:none\\\" points=\\\"\\n  148.334,335.085 174.787,335.085 \\n  \\\"\\/>\\n<polyline clip-path=\\\"url(#clip240)\\\" style=\\\"stroke:#000000; stroke-width:4; stroke-opacity:1; fill:none\\\" points=\\\"\\n  148.334,47.2441 174.787,47.2441 \\n  \\\"\\/>\\n<path clip-path=\\\"url(#clip240)\\\" d=\\\"M 0 0 M63.4226 1472.25 Q59.8115 1472.25 57.9828 1475.81 Q56.1773 1479.35 56.1773 1486.48 Q56.1773 1493.59 57.9828 1497.15 Q59.8115 1500.7 63.4226 1500.7 Q67.0569 1500.7 68.8624 1497.15 Q70.6911 1493.59 70.6911 1486.48 Q70.6911 1479.35 68.8624 1475.81 Q67.0569 1472.25 63.4226 1472.25 M63.4226 1468.54 Q69.2328 1468.54 72.2883 1473.15 Q75.367 1477.73 75.367 1486.48 Q75.367 1495.21 72.2883 1499.82 Q69.2328 1504.4 63.4226 1504.4 Q57.6125 1504.4 54.5338 1499.82 Q51.4782 1495.21 51.4782 1486.48 Q51.4782 1477.73 54.5338 1473.15 Q57.6125 1468.54 63.4226 1468.54 Z\\\" fill=\\\"#000000\\\" fill-rule=\\\"evenodd\\\" fill-opacity=\\\"1\\\" \\/><path clip-path=\\\"url(#clip240)\\\" d=\\\"M 0 0 M80.4364 1497.85 L85.3206 1497.85 L85.3206 1503.73 L80.4364 1503.73 L80.4364 1497.85 Z\\\" fill=\\\"#000000\\\" fill-rule=\\\"evenodd\\\" fill-opacity=\\\"1\\\" \\/><path clip-path=\\\"url(#clip240)\\\" d=\\\"M 0 0 M100.39 1472.25 Q96.7789 1472.25 94.9502 1475.81 Q93.1447 1479.35 93.1447 1486.48 Q93.1447 1493.59 94.9502 1497.15 Q96.7789 1500.7 100.39 1500.7 Q104.024 1500.7 105.83 1497.15 Q107.658 1493.59 107.658 1486.48 Q107.658 1479.35 105.83 1475.81 Q104.024 1472.25 100.39 1472.25 M100.39 1468.54 Q106.2 1468.54 109.256 1473.15 Q112.334 1477.73 112.334 1486.48 Q112.334 1495.21 109.256 1499.82 Q106.2 1504.4 100.39 1504.4 Q94.5799 1504.4 91.5012 1499.82 Q88.4456 1495.21 88.4456 1486.48 Q88.4456 1477.73 91.5012 1473.15 Q94.5799 1468.54 100.39 1468.54 Z\\\" fill=\\\"#000000\\\" fill-rule=\\\"evenodd\\\" fill-opacity=\\\"1\\\" \\/><path clip-path=\\\"url(#clip240)\\\" d=\\\"M 0 0 M65.0198 1184.41 Q61.4087 1184.41 59.58 1187.97 Q57.7745 1191.51 57.7745 1198.64 Q57.7745 1205.75 59.58 1209.31 Q61.4087 1212.85 65.0198 1212.85 Q68.6541 1212.85 70.4596 1209.31 Q72.2883 1205.75 72.2883 1198.64 Q72.2883 1191.51 70.4596 1187.97 Q68.6541 1184.41 65.0198 1184.41 M65.0198 1180.7 Q70.83 1180.7 73.8855 1185.31 Q76.9642 1189.89 76.9642 1198.64 Q76.9642 1207.37 73.8855 1211.98 Q70.83 1216.56 65.0198 1216.56 Q59.2097 1216.56 56.131 1211.98 Q53.0754 1207.37 53.0754 1198.64 Q53.0754 1189.89 56.131 1185.31 Q59.2097 1180.7 65.0198 1180.7 Z\\\" fill=\\\"#000000\\\" fill-rule=\\\"evenodd\\\" fill-opacity=\\\"1\\\" \\/><path clip-path=\\\"url(#clip240)\\\" d=\\\"M 0 0 M82.0336 1210.01 L86.9179 1210.01 L86.9179 1215.89 L82.0336 1215.89 L82.0336 1210.01 Z\\\" fill=\\\"#000000\\\" fill-rule=\\\"evenodd\\\" fill-opacity=\\\"1\\\" \\/><path clip-path=\\\"url(#clip240)\\\" d=\\\"M 0 0 M96.015 1211.95 L112.334 1211.95 L112.334 1215.89 L90.3901 1215.89 L90.3901 1211.95 Q93.0521 1209.2 97.6354 1204.57 Q102.242 1199.91 103.422 1198.57 Q105.668 1196.05 106.547 1194.31 Q107.45 1192.55 107.45 1190.86 Q107.45 1188.11 105.506 1186.37 Q103.584 1184.64 100.483 1184.64 Q98.2835 1184.64 95.8298 1185.4 Q93.3993 1186.17 90.6215 1187.72 L90.6215 1182.99 Q93.4456 1181.86 95.8993 1181.28 Q98.353 1180.7 100.39 1180.7 Q105.76 1180.7 108.955 1183.39 Q112.149 1186.07 112.149 1190.56 Q112.149 1192.69 111.339 1194.61 Q110.552 1196.51 108.446 1199.1 Q107.867 1199.78 104.765 1202.99 Q101.663 1206.19 96.015 1211.95 Z\\\" fill=\\\"#000000\\\" fill-rule=\\\"evenodd\\\" fill-opacity=\\\"1\\\" \\/><path clip-path=\\\"url(#clip240)\\\" d=\\\"M 0 0 M62.9365 896.565 Q59.3254 896.565 57.4967 900.13 Q55.6912 903.671 55.6912 910.801 Q55.6912 917.908 57.4967 921.472 Q59.3254 925.014 62.9365 925.014 Q66.5707 925.014 68.3763 921.472 Q70.205 917.908 70.205 910.801 Q70.205 903.671 68.3763 900.13 Q66.5707 896.565 62.9365 896.565 M62.9365 892.861 Q68.7467 892.861 71.8022 897.468 Q74.8809 902.051 74.8809 910.801 Q74.8809 919.528 71.8022 924.134 Q68.7467 928.718 62.9365 928.718 Q57.1264 928.718 54.0477 924.134 Q50.9921 919.528 50.9921 910.801 Q50.9921 902.051 54.0477 897.468 Q57.1264 892.861 62.9365 892.861 Z\\\" fill=\\\"#000000\\\" fill-rule=\\\"evenodd\\\" fill-opacity=\\\"1\\\" \\/><path clip-path=\\\"url(#clip240)\\\" d=\\\"M 0 0 M79.9503 922.167 L84.8345 922.167 L84.8345 928.046 L79.9503 928.046 L79.9503 922.167 Z\\\" fill=\\\"#000000\\\" fill-rule=\\\"evenodd\\\" fill-opacity=\\\"1\\\" \\/><path clip-path=\\\"url(#clip240)\\\" d=\\\"M 0 0 M102.751 897.56 L90.9456 916.009 L102.751 916.009 L102.751 897.56 M101.524 893.486 L107.404 893.486 L107.404 916.009 L112.334 916.009 L112.334 919.898 L107.404 919.898 L107.404 928.046 L102.751 928.046 L102.751 919.898 L87.1493 919.898 L87.1493 915.384 L101.524 893.486 Z\\\" fill=\\\"#000000\\\" fill-rule=\\\"evenodd\\\" fill-opacity=\\\"1\\\" \\/><path clip-path=\\\"url(#clip240)\\\" d=\\\"M 0 0 M63.2606 608.724 Q59.6495 608.724 57.8208 612.289 Q56.0152 615.831 56.0152 622.96 Q56.0152 630.067 57.8208 633.632 Q59.6495 637.173 63.2606 637.173 Q66.8948 637.173 68.7004 633.632 Q70.5291 630.067 70.5291 622.96 Q70.5291 615.831 68.7004 612.289 Q66.8948 608.724 63.2606 608.724 M63.2606 605.021 Q69.0707 605.021 72.1263 609.627 Q75.205 614.21 75.205 622.96 Q75.205 631.687 72.1263 636.294 Q69.0707 640.877 63.2606 640.877 Q57.4504 640.877 54.3717 636.294 Q51.3162 631.687 51.3162 622.96 Q51.3162 614.21 54.3717 609.627 Q57.4504 605.021 63.2606 605.021 Z\\\" fill=\\\"#000000\\\" fill-rule=\\\"evenodd\\\" fill-opacity=\\\"1\\\" \\/><path clip-path=\\\"url(#clip240)\\\" d=\\\"M 0 0 M80.2744 634.326 L85.1586 634.326 L85.1586 640.206 L80.2744 640.206 L80.2744 634.326 Z\\\" fill=\\\"#000000\\\" fill-rule=\\\"evenodd\\\" fill-opacity=\\\"1\\\" \\/><path clip-path=\\\"url(#clip240)\\\" d=\\\"M 0 0 M100.807 621.062 Q97.6585 621.062 95.8067 623.215 Q93.978 625.368 93.978 629.118 Q93.978 632.845 95.8067 635.02 Q97.6585 637.173 100.807 637.173 Q103.955 637.173 105.783 635.02 Q107.635 632.845 107.635 629.118 Q107.635 625.368 105.783 623.215 Q103.955 621.062 100.807 621.062 M110.089 606.409 L110.089 610.669 Q108.33 609.835 106.524 609.396 Q104.742 608.956 102.983 608.956 Q98.353 608.956 95.8993 612.081 Q93.4688 615.206 93.1215 621.525 Q94.4873 619.511 96.5474 618.446 Q98.6076 617.359 101.084 617.359 Q106.293 617.359 109.302 620.53 Q112.334 623.678 112.334 629.118 Q112.334 634.442 109.186 637.659 Q106.038 640.877 100.807 640.877 Q94.8113 640.877 91.6401 636.294 Q88.4688 631.687 88.4688 622.96 Q88.4688 614.766 92.3576 609.905 Q96.2465 605.021 102.797 605.021 Q104.557 605.021 106.339 605.368 Q108.145 605.715 110.089 606.409 Z\\\" fill=\\\"#000000\\\" fill-rule=\\\"evenodd\\\" fill-opacity=\\\"1\\\" \\/><path clip-path=\\\"url(#clip240)\\\" d=\\\"M 0 0 M63.5152 320.884 Q59.9041 320.884 58.0754 324.448 Q56.2699 327.99 56.2699 335.12 Q56.2699 342.226 58.0754 345.791 Q59.9041 349.332 63.5152 349.332 Q67.1494 349.332 68.955 345.791 Q70.7837 342.226 70.7837 335.12 Q70.7837 327.99 68.955 324.448 Q67.1494 320.884 63.5152 320.884 M63.5152 317.18 Q69.3254 317.18 72.3809 321.786 Q75.4596 326.37 75.4596 335.12 Q75.4596 343.846 72.3809 348.453 Q69.3254 353.036 63.5152 353.036 Q57.7051 353.036 54.6264 348.453 Q51.5708 343.846 51.5708 335.12 Q51.5708 326.37 54.6264 321.786 Q57.7051 317.18 63.5152 317.18 Z\\\" fill=\\\"#000000\\\" fill-rule=\\\"evenodd\\\" fill-opacity=\\\"1\\\" \\/><path clip-path=\\\"url(#clip240)\\\" d=\\\"M 0 0 M80.529 346.485 L85.4132 346.485 L85.4132 352.365 L80.529 352.365 L80.529 346.485 Z\\\" fill=\\\"#000000\\\" fill-rule=\\\"evenodd\\\" fill-opacity=\\\"1\\\" \\/><path clip-path=\\\"url(#clip240)\\\" d=\\\"M 0 0 M100.483 335.953 Q97.1493 335.953 95.228 337.735 Q93.3299 339.518 93.3299 342.643 Q93.3299 345.768 95.228 347.55 Q97.1493 349.332 100.483 349.332 Q103.816 349.332 105.737 347.55 Q107.658 345.745 107.658 342.643 Q107.658 339.518 105.737 337.735 Q103.839 335.953 100.483 335.953 M95.8067 333.962 Q92.7975 333.221 91.1077 331.161 Q89.441 329.101 89.441 326.138 Q89.441 321.995 92.3808 319.587 Q95.3437 317.18 100.483 317.18 Q105.645 317.18 108.584 319.587 Q111.524 321.995 111.524 326.138 Q111.524 329.101 109.834 331.161 Q108.168 333.221 105.182 333.962 Q108.561 334.749 110.436 337.041 Q112.334 339.333 112.334 342.643 Q112.334 347.666 109.256 350.351 Q106.2 353.036 100.483 353.036 Q94.765 353.036 91.6864 350.351 Q88.6308 347.666 88.6308 342.643 Q88.6308 339.333 90.529 337.041 Q92.4271 334.749 95.8067 333.962 M94.0937 326.578 Q94.0937 329.263 95.7604 330.768 Q97.4502 332.272 100.483 332.272 Q103.492 332.272 105.182 330.768 Q106.895 329.263 106.895 326.578 Q106.895 323.893 105.182 322.388 Q103.492 320.884 100.483 320.884 Q97.4502 320.884 95.7604 322.388 Q94.0937 323.893 94.0937 326.578 Z\\\" fill=\\\"#000000\\\" fill-rule=\\\"evenodd\\\" fill-opacity=\\\"1\\\" \\/><path clip-path=\\\"url(#clip240)\\\" d=\\\"M 0 0 M55.4597 60.5889 L63.0985 60.5889 L63.0985 34.2233 L54.7884 35.89 L54.7884 31.6308 L63.0522 29.9641 L67.7281 29.9641 L67.7281 60.5889 L75.367 60.5889 L75.367 64.5241 L55.4597 64.5241 L55.4597 60.5889 Z\\\" fill=\\\"#000000\\\" fill-rule=\\\"evenodd\\\" fill-opacity=\\\"1\\\" \\/><path clip-path=\\\"url(#clip240)\\\" d=\\\"M 0 0 M80.4364 58.6445 L85.3206 58.6445 L85.3206 64.5241 L80.4364 64.5241 L80.4364 58.6445 Z\\\" fill=\\\"#000000\\\" fill-rule=\\\"evenodd\\\" fill-opacity=\\\"1\\\" \\/><path clip-path=\\\"url(#clip240)\\\" d=\\\"M 0 0 M100.39 33.0428 Q96.7789 33.0428 94.9502 36.6076 Q93.1447 40.1492 93.1447 47.2788 Q93.1447 54.3853 94.9502 57.9501 Q96.7789 61.4917 100.39 61.4917 Q104.024 61.4917 105.83 57.9501 Q107.658 54.3853 107.658 47.2788 Q107.658 40.1492 105.83 36.6076 Q104.024 33.0428 100.39 33.0428 M100.39 29.3391 Q106.2 29.3391 109.256 33.9456 Q112.334 38.5289 112.334 47.2788 Q112.334 56.0056 109.256 60.6121 Q106.2 65.1954 100.39 65.1954 Q94.5799 65.1954 91.5012 60.6121 Q88.4456 56.0056 88.4456 47.2788 Q88.4456 38.5289 91.5012 33.9456 Q94.5799 29.3391 100.39 29.3391 Z\\\" fill=\\\"#000000\\\" fill-rule=\\\"evenodd\\\" fill-opacity=\\\"1\\\" \\/><circle clip-path=\\\"url(#clip242)\\\" cx=\\\"919.281\\\" cy=\\\"766.846\\\" r=\\\"14\\\" fill=\\\"#009af9\\\" fill-rule=\\\"evenodd\\\" fill-opacity=\\\"1\\\" stroke=\\\"#000000\\\" stroke-opacity=\\\"1\\\" stroke-width=\\\"3.2\\\"\\/>\\n<circle clip-path=\\\"url(#clip242)\\\" cx=\\\"1165.28\\\" cy=\\\"766.846\\\" r=\\\"14\\\" fill=\\\"#009af9\\\" fill-rule=\\\"evenodd\\\" fill-opacity=\\\"1\\\" stroke=\\\"#000000\\\" stroke-opacity=\\\"1\\\" stroke-width=\\\"3.2\\\"\\/>\\n<circle clip-path=\\\"url(#clip242)\\\" cx=\\\"1018.4\\\" cy=\\\"766.846\\\" r=\\\"14\\\" fill=\\\"#009af9\\\" fill-rule=\\\"evenodd\\\" fill-opacity=\\\"1\\\" stroke=\\\"#000000\\\" stroke-opacity=\\\"1\\\" stroke-width=\\\"3.2\\\"\\/>\\n<circle clip-path=\\\"url(#clip242)\\\" cx=\\\"614.654\\\" cy=\\\"766.846\\\" r=\\\"14\\\" fill=\\\"#009af9\\\" fill-rule=\\\"evenodd\\\" fill-opacity=\\\"1\\\" stroke=\\\"#000000\\\" stroke-opacity=\\\"1\\\" stroke-width=\\\"3.2\\\"\\/>\\n<circle clip-path=\\\"url(#clip242)\\\" cx=\\\"186.63\\\" cy=\\\"766.846\\\" r=\\\"14\\\" fill=\\\"#009af9\\\" fill-rule=\\\"evenodd\\\" fill-opacity=\\\"1\\\" stroke=\\\"#000000\\\" stroke-opacity=\\\"1\\\" stroke-width=\\\"3.2\\\"\\/>\\n<circle clip-path=\\\"url(#clip242)\\\" cx=\\\"875.345\\\" cy=\\\"766.846\\\" r=\\\"14\\\" fill=\\\"#009af9\\\" fill-rule=\\\"evenodd\\\" fill-opacity=\\\"1\\\" stroke=\\\"#000000\\\" stroke-opacity=\\\"1\\\" stroke-width=\\\"3.2\\\"\\/>\\n<circle clip-path=\\\"url(#clip242)\\\" cx=\\\"323.106\\\" cy=\\\"766.846\\\" r=\\\"14\\\" fill=\\\"#009af9\\\" fill-rule=\\\"evenodd\\\" fill-opacity=\\\"1\\\" stroke=\\\"#000000\\\" stroke-opacity=\\\"1\\\" stroke-width=\\\"3.2\\\"\\/>\\n<circle clip-path=\\\"url(#clip242)\\\" cx=\\\"1523.68\\\" cy=\\\"766.846\\\" r=\\\"14\\\" fill=\\\"#009af9\\\" fill-rule=\\\"evenodd\\\" fill-opacity=\\\"1\\\" stroke=\\\"#000000\\\" stroke-opacity=\\\"1\\\" stroke-width=\\\"3.2\\\"\\/>\\n<circle clip-path=\\\"url(#clip242)\\\" cx=\\\"2133.77\\\" cy=\\\"766.846\\\" r=\\\"14\\\" fill=\\\"#009af9\\\" fill-rule=\\\"evenodd\\\" fill-opacity=\\\"1\\\" stroke=\\\"#000000\\\" stroke-opacity=\\\"1\\\" stroke-width=\\\"3.2\\\"\\/>\\n<circle clip-path=\\\"url(#clip242)\\\" cx=\\\"1047.17\\\" cy=\\\"766.846\\\" r=\\\"14\\\" fill=\\\"#009af9\\\" fill-rule=\\\"evenodd\\\" fill-opacity=\\\"1\\\" stroke=\\\"#000000\\\" stroke-opacity=\\\"1\\\" stroke-width=\\\"3.2\\\"\\/>\\n<circle clip-path=\\\"url(#clip242)\\\" cx=\\\"1970.94\\\" cy=\\\"766.846\\\" r=\\\"14\\\" fill=\\\"#009af9\\\" fill-rule=\\\"evenodd\\\" fill-opacity=\\\"1\\\" stroke=\\\"#000000\\\" stroke-opacity=\\\"1\\\" stroke-width=\\\"3.2\\\"\\/>\\n<circle clip-path=\\\"url(#clip242)\\\" cx=\\\"1245.49\\\" cy=\\\"766.846\\\" r=\\\"14\\\" fill=\\\"#009af9\\\" fill-rule=\\\"evenodd\\\" fill-opacity=\\\"1\\\" stroke=\\\"#000000\\\" stroke-opacity=\\\"1\\\" stroke-width=\\\"3.2\\\"\\/>\\n<circle clip-path=\\\"url(#clip242)\\\" cx=\\\"1561.25\\\" cy=\\\"766.846\\\" r=\\\"14\\\" fill=\\\"#009af9\\\" fill-rule=\\\"evenodd\\\" fill-opacity=\\\"1\\\" stroke=\\\"#000000\\\" stroke-opacity=\\\"1\\\" stroke-width=\\\"3.2\\\"\\/>\\n<circle clip-path=\\\"url(#clip242)\\\" cx=\\\"1424.52\\\" cy=\\\"766.846\\\" r=\\\"14\\\" fill=\\\"#009af9\\\" fill-rule=\\\"evenodd\\\" fill-opacity=\\\"1\\\" stroke=\\\"#000000\\\" stroke-opacity=\\\"1\\\" stroke-width=\\\"3.2\\\"\\/>\\n<circle clip-path=\\\"url(#clip242)\\\" cx=\\\"1423.3\\\" cy=\\\"766.846\\\" r=\\\"14\\\" fill=\\\"#009af9\\\" fill-rule=\\\"evenodd\\\" fill-opacity=\\\"1\\\" stroke=\\\"#000000\\\" stroke-opacity=\\\"1\\\" stroke-width=\\\"3.2\\\"\\/>\\n<circle clip-path=\\\"url(#clip242)\\\" cx=\\\"950.878\\\" cy=\\\"766.846\\\" r=\\\"14\\\" fill=\\\"#009af9\\\" fill-rule=\\\"evenodd\\\" fill-opacity=\\\"1\\\" stroke=\\\"#000000\\\" stroke-opacity=\\\"1\\\" stroke-width=\\\"3.2\\\"\\/>\\n<circle clip-path=\\\"url(#clip242)\\\" cx=\\\"1224.46\\\" cy=\\\"766.846\\\" r=\\\"14\\\" fill=\\\"#009af9\\\" fill-rule=\\\"evenodd\\\" fill-opacity=\\\"1\\\" stroke=\\\"#000000\\\" stroke-opacity=\\\"1\\\" stroke-width=\\\"3.2\\\"\\/>\\n<circle clip-path=\\\"url(#clip242)\\\" cx=\\\"759.079\\\" cy=\\\"766.846\\\" r=\\\"14\\\" fill=\\\"#009af9\\\" fill-rule=\\\"evenodd\\\" fill-opacity=\\\"1\\\" stroke=\\\"#000000\\\" stroke-opacity=\\\"1\\\" stroke-width=\\\"3.2\\\"\\/>\\n<circle clip-path=\\\"url(#clip242)\\\" cx=\\\"1783.14\\\" cy=\\\"766.846\\\" r=\\\"14\\\" fill=\\\"#009af9\\\" fill-rule=\\\"evenodd\\\" fill-opacity=\\\"1\\\" stroke=\\\"#000000\\\" stroke-opacity=\\\"1\\\" stroke-width=\\\"3.2\\\"\\/>\\n<circle clip-path=\\\"url(#clip242)\\\" cx=\\\"886.461\\\" cy=\\\"766.846\\\" r=\\\"14\\\" fill=\\\"#009af9\\\" fill-rule=\\\"evenodd\\\" fill-opacity=\\\"1\\\" stroke=\\\"#000000\\\" stroke-opacity=\\\"1\\\" stroke-width=\\\"3.2\\\"\\/>\\n<circle clip-path=\\\"url(#clip242)\\\" cx=\\\"1623.34\\\" cy=\\\"766.846\\\" r=\\\"14\\\" fill=\\\"#009af9\\\" fill-rule=\\\"evenodd\\\" fill-opacity=\\\"1\\\" stroke=\\\"#000000\\\" stroke-opacity=\\\"1\\\" stroke-width=\\\"3.2\\\"\\/>\\n<circle clip-path=\\\"url(#clip242)\\\" cx=\\\"336.155\\\" cy=\\\"766.846\\\" r=\\\"14\\\" fill=\\\"#009af9\\\" fill-rule=\\\"evenodd\\\" fill-opacity=\\\"1\\\" stroke=\\\"#000000\\\" stroke-opacity=\\\"1\\\" stroke-width=\\\"3.2\\\"\\/>\\n<circle clip-path=\\\"url(#clip242)\\\" cx=\\\"264.761\\\" cy=\\\"766.846\\\" r=\\\"14\\\" fill=\\\"#009af9\\\" fill-rule=\\\"evenodd\\\" fill-opacity=\\\"1\\\" stroke=\\\"#000000\\\" stroke-opacity=\\\"1\\\" stroke-width=\\\"3.2\\\"\\/>\\n<circle clip-path=\\\"url(#clip242)\\\" cx=\\\"2172.48\\\" cy=\\\"766.846\\\" r=\\\"14\\\" fill=\\\"#009af9\\\" fill-rule=\\\"evenodd\\\" fill-opacity=\\\"1\\\" stroke=\\\"#000000\\\" stroke-opacity=\\\"1\\\" stroke-width=\\\"3.2\\\"\\/>\\n<circle clip-path=\\\"url(#clip242)\\\" cx=\\\"1391.19\\\" cy=\\\"766.846\\\" r=\\\"14\\\" fill=\\\"#009af9\\\" fill-rule=\\\"evenodd\\\" fill-opacity=\\\"1\\\" stroke=\\\"#000000\\\" stroke-opacity=\\\"1\\\" stroke-width=\\\"3.2\\\"\\/>\\n<circle clip-path=\\\"url(#clip242)\\\" cx=\\\"1970.93\\\" cy=\\\"766.846\\\" r=\\\"14\\\" fill=\\\"#009af9\\\" fill-rule=\\\"evenodd\\\" fill-opacity=\\\"1\\\" stroke=\\\"#000000\\\" stroke-opacity=\\\"1\\\" stroke-width=\\\"3.2\\\"\\/>\\n<circle clip-path=\\\"url(#clip242)\\\" cx=\\\"281.409\\\" cy=\\\"766.846\\\" r=\\\"14\\\" fill=\\\"#009af9\\\" fill-rule=\\\"evenodd\\\" fill-opacity=\\\"1\\\" stroke=\\\"#000000\\\" stroke-opacity=\\\"1\\\" stroke-width=\\\"3.2\\\"\\/>\\n<circle clip-path=\\\"url(#clip242)\\\" cx=\\\"478.291\\\" cy=\\\"766.846\\\" r=\\\"14\\\" fill=\\\"#009af9\\\" fill-rule=\\\"evenodd\\\" fill-opacity=\\\"1\\\" stroke=\\\"#000000\\\" stroke-opacity=\\\"1\\\" stroke-width=\\\"3.2\\\"\\/>\\n<circle clip-path=\\\"url(#clip242)\\\" cx=\\\"903.804\\\" cy=\\\"766.846\\\" r=\\\"14\\\" fill=\\\"#009af9\\\" fill-rule=\\\"evenodd\\\" fill-opacity=\\\"1\\\" stroke=\\\"#000000\\\" stroke-opacity=\\\"1\\\" stroke-width=\\\"3.2\\\"\\/>\\n<circle clip-path=\\\"url(#clip242)\\\" cx=\\\"2156.09\\\" cy=\\\"766.846\\\" r=\\\"14\\\" fill=\\\"#009af9\\\" fill-rule=\\\"evenodd\\\" fill-opacity=\\\"1\\\" stroke=\\\"#000000\\\" stroke-opacity=\\\"1\\\" stroke-width=\\\"3.2\\\"\\/>\\n<circle clip-path=\\\"url(#clip242)\\\" cx=\\\"1815.44\\\" cy=\\\"766.846\\\" r=\\\"14\\\" fill=\\\"#009af9\\\" fill-rule=\\\"evenodd\\\" fill-opacity=\\\"1\\\" stroke=\\\"#000000\\\" stroke-opacity=\\\"1\\\" stroke-width=\\\"3.2\\\"\\/>\\n<circle clip-path=\\\"url(#clip242)\\\" cx=\\\"2124.21\\\" cy=\\\"766.846\\\" r=\\\"14\\\" fill=\\\"#009af9\\\" fill-rule=\\\"evenodd\\\" fill-opacity=\\\"1\\\" stroke=\\\"#000000\\\" stroke-opacity=\\\"1\\\" stroke-width=\\\"3.2\\\"\\/>\\n<circle clip-path=\\\"url(#clip242)\\\" cx=\\\"1674.69\\\" cy=\\\"766.846\\\" r=\\\"14\\\" fill=\\\"#009af9\\\" fill-rule=\\\"evenodd\\\" fill-opacity=\\\"1\\\" stroke=\\\"#000000\\\" stroke-opacity=\\\"1\\\" stroke-width=\\\"3.2\\\"\\/>\\n<circle clip-path=\\\"url(#clip242)\\\" cx=\\\"1534.35\\\" cy=\\\"766.846\\\" r=\\\"14\\\" fill=\\\"#009af9\\\" fill-rule=\\\"evenodd\\\" fill-opacity=\\\"1\\\" stroke=\\\"#000000\\\" stroke-opacity=\\\"1\\\" stroke-width=\\\"3.2\\\"\\/>\\n<circle clip-path=\\\"url(#clip242)\\\" cx=\\\"1857.72\\\" cy=\\\"766.846\\\" r=\\\"14\\\" fill=\\\"#009af9\\\" fill-rule=\\\"evenodd\\\" fill-opacity=\\\"1\\\" stroke=\\\"#000000\\\" stroke-opacity=\\\"1\\\" stroke-width=\\\"3.2\\\"\\/>\\n<circle clip-path=\\\"url(#clip242)\\\" cx=\\\"1269.53\\\" cy=\\\"766.846\\\" r=\\\"14\\\" fill=\\\"#009af9\\\" fill-rule=\\\"evenodd\\\" fill-opacity=\\\"1\\\" stroke=\\\"#000000\\\" stroke-opacity=\\\"1\\\" stroke-width=\\\"3.2\\\"\\/>\\n<circle clip-path=\\\"url(#clip242)\\\" cx=\\\"1090.26\\\" cy=\\\"766.846\\\" r=\\\"14\\\" fill=\\\"#009af9\\\" fill-rule=\\\"evenodd\\\" fill-opacity=\\\"1\\\" stroke=\\\"#000000\\\" stroke-opacity=\\\"1\\\" stroke-width=\\\"3.2\\\"\\/>\\n<circle clip-path=\\\"url(#clip242)\\\" cx=\\\"1838.11\\\" cy=\\\"766.846\\\" r=\\\"14\\\" fill=\\\"#009af9\\\" fill-rule=\\\"evenodd\\\" fill-opacity=\\\"1\\\" stroke=\\\"#000000\\\" stroke-opacity=\\\"1\\\" stroke-width=\\\"3.2\\\"\\/>\\n<circle clip-path=\\\"url(#clip242)\\\" cx=\\\"1839.2\\\" cy=\\\"766.846\\\" r=\\\"14\\\" fill=\\\"#009af9\\\" fill-rule=\\\"evenodd\\\" fill-opacity=\\\"1\\\" stroke=\\\"#000000\\\" stroke-opacity=\\\"1\\\" stroke-width=\\\"3.2\\\"\\/>\\n<circle clip-path=\\\"url(#clip242)\\\" cx=\\\"762.855\\\" cy=\\\"766.846\\\" r=\\\"14\\\" fill=\\\"#009af9\\\" fill-rule=\\\"evenodd\\\" fill-opacity=\\\"1\\\" stroke=\\\"#000000\\\" stroke-opacity=\\\"1\\\" stroke-width=\\\"3.2\\\"\\/>\\n<circle clip-path=\\\"url(#clip242)\\\" cx=\\\"1986.44\\\" cy=\\\"766.846\\\" r=\\\"14\\\" fill=\\\"#009af9\\\" fill-rule=\\\"evenodd\\\" fill-opacity=\\\"1\\\" stroke=\\\"#000000\\\" stroke-opacity=\\\"1\\\" stroke-width=\\\"3.2\\\"\\/>\\n<circle clip-path=\\\"url(#clip242)\\\" cx=\\\"1763.9\\\" cy=\\\"766.846\\\" r=\\\"14\\\" fill=\\\"#009af9\\\" fill-rule=\\\"evenodd\\\" fill-opacity=\\\"1\\\" stroke=\\\"#000000\\\" stroke-opacity=\\\"1\\\" stroke-width=\\\"3.2\\\"\\/>\\n<circle clip-path=\\\"url(#clip242)\\\" cx=\\\"672.122\\\" cy=\\\"766.846\\\" r=\\\"14\\\" fill=\\\"#009af9\\\" fill-rule=\\\"evenodd\\\" fill-opacity=\\\"1\\\" stroke=\\\"#000000\\\" stroke-opacity=\\\"1\\\" stroke-width=\\\"3.2\\\"\\/>\\n<circle clip-path=\\\"url(#clip242)\\\" cx=\\\"794.155\\\" cy=\\\"766.846\\\" r=\\\"14\\\" fill=\\\"#009af9\\\" fill-rule=\\\"evenodd\\\" fill-opacity=\\\"1\\\" stroke=\\\"#000000\\\" stroke-opacity=\\\"1\\\" stroke-width=\\\"3.2\\\"\\/>\\n<circle clip-path=\\\"url(#clip242)\\\" cx=\\\"1163.04\\\" cy=\\\"766.846\\\" r=\\\"14\\\" fill=\\\"#009af9\\\" fill-rule=\\\"evenodd\\\" fill-opacity=\\\"1\\\" stroke=\\\"#000000\\\" stroke-opacity=\\\"1\\\" stroke-width=\\\"3.2\\\"\\/>\\n<circle clip-path=\\\"url(#clip242)\\\" cx=\\\"1155.95\\\" cy=\\\"766.846\\\" r=\\\"14\\\" fill=\\\"#009af9\\\" fill-rule=\\\"evenodd\\\" fill-opacity=\\\"1\\\" stroke=\\\"#000000\\\" stroke-opacity=\\\"1\\\" stroke-width=\\\"3.2\\\"\\/>\\n<circle clip-path=\\\"url(#clip242)\\\" cx=\\\"1247.99\\\" cy=\\\"766.846\\\" r=\\\"14\\\" fill=\\\"#009af9\\\" fill-rule=\\\"evenodd\\\" fill-opacity=\\\"1\\\" stroke=\\\"#000000\\\" stroke-opacity=\\\"1\\\" stroke-width=\\\"3.2\\\"\\/>\\n<circle clip-path=\\\"url(#clip242)\\\" cx=\\\"235.221\\\" cy=\\\"766.846\\\" r=\\\"14\\\" fill=\\\"#009af9\\\" fill-rule=\\\"evenodd\\\" fill-opacity=\\\"1\\\" stroke=\\\"#000000\\\" stroke-opacity=\\\"1\\\" stroke-width=\\\"3.2\\\"\\/>\\n<circle clip-path=\\\"url(#clip242)\\\" cx=\\\"623.722\\\" cy=\\\"766.846\\\" r=\\\"14\\\" fill=\\\"#009af9\\\" fill-rule=\\\"evenodd\\\" fill-opacity=\\\"1\\\" stroke=\\\"#000000\\\" stroke-opacity=\\\"1\\\" stroke-width=\\\"3.2\\\"\\/>\\n<circle clip-path=\\\"url(#clip242)\\\" cx=\\\"285.385\\\" cy=\\\"766.846\\\" r=\\\"14\\\" fill=\\\"#009af9\\\" fill-rule=\\\"evenodd\\\" fill-opacity=\\\"1\\\" stroke=\\\"#000000\\\" stroke-opacity=\\\"1\\\" stroke-width=\\\"3.2\\\"\\/>\\n<path clip-path=\\\"url(#clip240)\\\" d=\\\"\\nM1983.32 216.178 L2279.28 216.178 L2279.28 95.2176 L1983.32 95.2176  Z\\n  \\\" fill=\\\"#ffffff\\\" fill-rule=\\\"evenodd\\\" fill-opacity=\\\"1\\\"\\/>\\n<polyline clip-path=\\\"url(#clip240)\\\" style=\\\"stroke:#000000; stroke-width:4; stroke-opacity:1; fill:none\\\" points=\\\"\\n  1983.32,216.178 2279.28,216.178 2279.28,95.2176 1983.32,95.2176 1983.32,216.178 \\n  \\\"\\/>\\n<circle clip-path=\\\"url(#clip240)\\\" cx=\\\"2081.3\\\" cy=\\\"155.698\\\" r=\\\"23\\\" fill=\\\"#009af9\\\" fill-rule=\\\"evenodd\\\" fill-opacity=\\\"1\\\" stroke=\\\"#000000\\\" stroke-opacity=\\\"1\\\" stroke-width=\\\"5.12\\\"\\/>\\n<path clip-path=\\\"url(#clip240)\\\" d=\\\"M 0 0 M2193.11 175.385 Q2191.31 180.015 2189.59 181.427 Q2187.88 182.839 2185.01 182.839 L2181.61 182.839 L2181.61 179.274 L2184.11 179.274 Q2185.87 179.274 2186.84 178.44 Q2187.81 177.607 2188.99 174.505 L2189.76 172.561 L2179.27 147.052 L2183.78 147.052 L2191.89 167.329 L2199.99 147.052 L2204.5 147.052 L2193.11 175.385 Z\\\" fill=\\\"#000000\\\" fill-rule=\\\"evenodd\\\" fill-opacity=\\\"1\\\" \\/><path clip-path=\\\"url(#clip240)\\\" d=\\\"M 0 0 M2210.38 169.042 L2218.02 169.042 L2218.02 142.677 L2209.71 144.343 L2209.71 140.084 L2217.97 138.418 L2222.65 138.418 L2222.65 169.042 L2230.29 169.042 L2230.29 172.978 L2210.38 172.978 L2210.38 169.042 Z\\\" fill=\\\"#000000\\\" fill-rule=\\\"evenodd\\\" fill-opacity=\\\"1\\\" \\/><\\/svg>\\n\"},\"nodeType\":\"DOM\",\"type\":\"node\",\"instanceArgs\":{\"namespace\":\"html\",\"tag\":\"div\"},\"children\":[]}]}}}},\"children\":[{\"props\":{},\"nodeType\":\"ObservableNode\",\"type\":\"node\",\"instanceArgs\":{\"id\":\"13151221181823518577\",\"name\":\"obs-node\"},\"children\":[]}]}]},\n",
       "            window,\n",
       "        );\n",
       "    } else {\n",
       "        document\n",
       "            .querySelector('[data-webio-mountpoint=\"17019154236572754398\"]')\n",
       "            .innerHTML = (\n",
       "                '<div style=\"padding: 1em; background-color: #f8d6da; border: 1px solid #f5c6cb\">' +\n",
       "                '<p><strong>WebIO not detected.</strong></p>' +\n",
       "                '<p>Please read ' +\n",
       "                '<a href=\"https://juliagizmos.github.io/WebIO.jl/latest/troubleshooting/not-detected/\" target=\"_blank\">the troubleshooting guide</a> ' +\n",
       "                'for more information on how to resolve this issue.</p>' +\n",
       "                '<p><a href=\"https://juliagizmos.github.io/WebIO.jl/latest/troubleshooting/not-detected/\" target=\"_blank\">https://juliagizmos.github.io/WebIO.jl/latest/troubleshooting/not-detected/</a></p>' +\n",
       "                '</div>'\n",
       "            );\n",
       "    }\n",
       "    </script>\n",
       "</div>\n"
      ],
      "text/plain": [
       "Node{WebIO.DOM}(WebIO.DOM(:html, :div), Any[Node{WebIO.DOM}(WebIO.DOM(:html, :div), Any[Scope(Node{WebIO.DOM}(WebIO.DOM(:html, :div), Any[Node{WebIO.DOM}(WebIO.DOM(:html, :div), Any[Node{WebIO.DOM}(WebIO.DOM(:html, :label), Any[\"n\"], Dict{Symbol, Any}(:className => \"interact \", :style => Dict{Any, Any}(:padding => \"5px 10px 0px 10px\")))], Dict{Symbol, Any}(:className => \"interact-flex-row-left\")), Node{WebIO.DOM}(WebIO.DOM(:html, :div), Any[Node{WebIO.DOM}(WebIO.DOM(:html, :input), Any[], Dict{Symbol, Any}(:max => 100, :min => 1, :attributes => Dict{Any, Any}(:type => \"range\", Symbol(\"data-bind\") => \"numericValue: index, valueUpdate: 'input', event: {change: function (){this.changes(this.changes()+1)}}\", \"orient\" => \"horizontal\"), :step => 1, :className => \"slider slider is-fullwidth\", :style => Dict{Any, Any}()))], Dict{Symbol, Any}(:className => \"interact-flex-row-center\")), Node{WebIO.DOM}(WebIO.DOM(:html, :div), Any[Node{WebIO.DOM}(WebIO.DOM(:html, :p), Any[], Dict{Symbol, Any}(:attributes => Dict(\"data-bind\" => \"text: formatted_val\")))], Dict{Symbol, Any}(:className => \"interact-flex-row-right\"))], Dict{Symbol, Any}(:className => \"interact-flex-row interact-widget\")), Dict{String, Tuple{Observables.AbstractObservable, Union{Nothing, Bool}}}(\"changes\" => (Observable{Int64} with 1 listeners. Value:\n",
       "0, nothing), \"index\" => (Observable{Int64} with 2 listeners. Value:\n",
       "50, nothing)), Set{String}(), nothing, Asset[Asset(\"js\", \"knockout\", \"/home/marcon/.julia/packages/Knockout/IP1uR/src/../assets/knockout.js\"), Asset(\"js\", \"knockout_punches\", \"/home/marcon/.julia/packages/Knockout/IP1uR/src/../assets/knockout_punches.js\"), Asset(\"js\", nothing, \"/home/marcon/.julia/packages/InteractBase/Zfu5P/src/../assets/all.js\"), Asset(\"css\", nothing, \"/home/marcon/.julia/packages/InteractBase/Zfu5P/src/../assets/style.css\"), Asset(\"css\", nothing, \"/home/marcon/.julia/packages/Interact/SbgIk/src/../assets/bulma_confined.min.css\")], Dict{Any, Any}(\"changes\" => Any[WebIO.JSString(\"(function (val){return (val!=this.model[\\\"changes\\\"]()) ? (this.valueFromJulia[\\\"changes\\\"]=true, this.model[\\\"changes\\\"](val)) : undefined})\")], \"index\" => Any[WebIO.JSString(\"(function (val){return (val!=this.model[\\\"index\\\"]()) ? (this.valueFromJulia[\\\"index\\\"]=true, this.model[\\\"index\\\"](val)) : undefined})\")]), WebIO.ConnectionPool(Channel{Any}(32), Set{AbstractConnection}(), Condition(Base.InvasiveLinkedList{Task}(Task (runnable) @0x00007f1f09a43490, Task (runnable) @0x00007f1f09a43490), Base.AlwaysLockedST(1))), WebIO.JSString[WebIO.JSString(\"function () {\\n    var handler = (function (ko, koPunches) {\\n    ko.punches.enableAll();\\n    ko.bindingHandlers.numericValue = {\\n        init: function(element, valueAccessor, allBindings, data, context) {\\n            var stringified = ko.observable(ko.unwrap(valueAccessor()));\\n            stringified.subscribe(function(value) {\\n                var val = parseFloat(value);\\n                if (!isNaN(val)) {\\n                    valueAccessor()(val);\\n                }\\n            });\\n            valueAccessor().subscribe(function(value) {\\n                var str = JSON.stringify(value);\\n                if ((str == \\\"0\\\") && ([\\\"-0\\\", \\\"-0.\\\"].indexOf(stringified()) >= 0))\\n                     return;\\n                 if ([\\\"null\\\", \\\"\\\"].indexOf(str) >= 0)\\n                     return;\\n                stringified(str);\\n            });\\n            ko.applyBindingsToNode(\\n                element,\\n                {\\n                    value: stringified,\\n                    valueUpdate: allBindings.get('valueUpdate'),\\n                },\\n                context,\\n            );\\n        }\\n    };\\n    var json_data = {\\\"formatted_vals\\\":[\\\"1\\\",\\\"2\\\",\\\"3\\\",\\\"4\\\",\\\"5\\\",\\\"6\\\",\\\"7\\\",\\\"8\\\",\\\"9\\\",\\\"10\\\",\\\"11\\\",\\\"12\\\",\\\"13\\\",\\\"14\\\",\\\"15\\\",\\\"16\\\",\\\"17\\\",\\\"18\\\",\\\"19\\\",\\\"20\\\",\\\"21\\\",\\\"22\\\",\\\"23\\\",\\\"24\\\",\\\"25\\\",\\\"26\\\",\\\"27\\\",\\\"28\\\",\\\"29\\\",\\\"30\\\",\\\"31\\\",\\\"32\\\",\\\"33\\\",\\\"34\\\",\\\"35\\\",\\\"36\\\",\\\"37\\\",\\\"38\\\",\\\"39\\\",\\\"40\\\",\\\"41\\\",\\\"42\\\",\\\"43\\\",\\\"44\\\",\\\"45\\\",\\\"46\\\",\\\"47\\\",\\\"48\\\",\\\"49\\\",\\\"50\\\",\\\"51\\\",\\\"52\\\",\\\"53\\\",\\\"54\\\",\\\"55\\\",\\\"56\\\",\\\"57\\\",\\\"58\\\",\\\"59\\\",\\\"60\\\",\\\"61\\\",\\\"62\\\",\\\"63\\\",\\\"64\\\",\\\"65\\\",\\\"66\\\",\\\"67\\\",\\\"68\\\",\\\"69\\\",\\\"70\\\",\\\"71\\\",\\\"72\\\",\\\"73\\\",\\\"74\\\",\\\"75\\\",\\\"76\\\",\\\"77\\\",\\\"78\\\",\\\"79\\\",\\\"80\\\",\\\"81\\\",\\\"82\\\",\\\"83\\\",\\\"84\\\",\\\"85\\\",\\\"86\\\",\\\"87\\\",\\\"88\\\",\\\"89\\\",\\\"90\\\",\\\"91\\\",\\\"92\\\",\\\"93\\\",\\\"94\\\",\\\"95\\\",\\\"96\\\",\\\"97\\\",\\\"98\\\",\\\"99\\\",\\\"100\\\"],\\\"changes\\\":WebIO.getval({\\\"name\\\":\\\"changes\\\",\\\"scope\\\":\\\"4812091332554349266\\\",\\\"id\\\":\\\"15441355439567862143\\\",\\\"type\\\":\\\"observable\\\"}),\\\"index\\\":WebIO.getval({\\\"name\\\":\\\"index\\\",\\\"scope\\\":\\\"4812091332554349266\\\",\\\"id\\\":\\\"2810360115166225567\\\",\\\"type\\\":\\\"observable\\\"})};\\n    var self = this;\\n    function AppViewModel() {\\n        for (var key in json_data) {\\n            var el = json_data[key];\\n            this[key] = Array.isArray(el) ? ko.observableArray(el) : ko.observable(el);\\n        }\\n        \\n        [this[\\\"formatted_val\\\"]=ko.computed(    function(){\\n        return this.formatted_vals()[parseInt(this.index())-(1)];\\n    }\\n,this)]\\n        [this[\\\"changes\\\"].subscribe((function (val){!(this.valueFromJulia[\\\"changes\\\"]) ? (WebIO.setval({\\\"name\\\":\\\"changes\\\",\\\"scope\\\":\\\"4812091332554349266\\\",\\\"id\\\":\\\"15441355439567862143\\\",\\\"type\\\":\\\"observable\\\"},val)) : undefined; return this.valueFromJulia[\\\"changes\\\"]=false}),self),this[\\\"index\\\"].subscribe((function (val){!(this.valueFromJulia[\\\"index\\\"]) ? (WebIO.setval({\\\"name\\\":\\\"index\\\",\\\"scope\\\":\\\"4812091332554349266\\\",\\\"id\\\":\\\"2810360115166225567\\\",\\\"type\\\":\\\"observable\\\"},val)) : undefined; return this.valueFromJulia[\\\"index\\\"]=false}),self)]\\n        \\n    }\\n    self.model = new AppViewModel();\\n    self.valueFromJulia = {};\\n    for (var key in json_data) {\\n        self.valueFromJulia[key] = false;\\n    }\\n    ko.applyBindings(self.model, self.dom);\\n}\\n);\\n    (WebIO.importBlock({\\\"data\\\":[{\\\"name\\\":\\\"knockout\\\",\\\"type\\\":\\\"js\\\",\\\"url\\\":\\\"/assetserver/4e15ea8f38f5d33bf0b2930cb09c8089f78b114e-knockout.js\\\"},{\\\"name\\\":\\\"knockout_punches\\\",\\\"type\\\":\\\"js\\\",\\\"url\\\":\\\"/assetserver/6967e46b2259ea2e5c469b61c410326b52955db7-knockout_punches.js\\\"}],\\\"type\\\":\\\"async_block\\\"})).then((imports) => handler.apply(this, imports));\\n}\\n\")])], Dict{Symbol, Any}(:className => \"field interact-widget\")), Observable{Any} with 0 listeners. Value:\n",
       "Node{WebIO.DOM}(WebIO.DOM(:html, :div), Any[Plot{Plots.GRBackend() n=1}], Dict{Symbol, Any}(:className => \"interact-flex-row interact-widget\"))], Dict{Symbol, Any}())"
      ]
     },
     "execution_count": 38,
     "metadata": {
      "@webio": {
       "kernelId": "7fa8fe9e-41fc-430a-b33b-f0b95edc8e1b"
      }
     },
     "output_type": "execute_result"
    }
   ],
   "source": [
    "@manipulate for n in 1:Nₚₒᵢₙₜₛ\n",
    "    scatter(r[1:n], 0.5 * one.(r[1:n]), ylim=(0,1), xlim=(0,1))\n",
    "    end"
   ]
  },
  {
   "cell_type": "markdown",
   "metadata": {},
   "source": [
    "## Event with probability *p*"
   ]
  },
  {
   "cell_type": "markdown",
   "metadata": {},
   "source": [
    "### Bernoulli Trials"
   ]
  },
  {
   "cell_type": "code",
   "execution_count": 41,
   "metadata": {},
   "outputs": [
    {
     "data": {
      "text/plain": [
       "bernoulli (generic function with 1 method)"
      ]
     },
     "execution_count": 41,
     "metadata": {},
     "output_type": "execute_result"
    }
   ],
   "source": [
    "function bernoulli(p)\n",
    "    \n",
    "    r = rand()\n",
    "    return r < p\n",
    "end"
   ]
  },
  {
   "cell_type": "code",
   "execution_count": 42,
   "metadata": {},
   "outputs": [
    {
     "data": {
      "text/plain": [
       "true"
      ]
     },
     "execution_count": 42,
     "metadata": {},
     "output_type": "execute_result"
    }
   ],
   "source": [
    "bernoulli(.5)"
   ]
  },
  {
   "cell_type": "code",
   "execution_count": 43,
   "metadata": {},
   "outputs": [],
   "source": [
    "p = 0.25\n",
    "trials = [bernoulli(p) for i in 1:100];"
   ]
  },
  {
   "cell_type": "code",
   "execution_count": 44,
   "metadata": {},
   "outputs": [
    {
     "data": {
      "image/svg+xml": [
       "<?xml version=\"1.0\" encoding=\"utf-8\"?>\n",
       "<svg xmlns=\"http://www.w3.org/2000/svg\" xmlns:xlink=\"http://www.w3.org/1999/xlink\" width=\"600\" height=\"400\" viewBox=\"0 0 2400 1600\">\n",
       "<defs>\n",
       "  <clipPath id=\"clip880\">\n",
       "    <rect x=\"0\" y=\"0\" width=\"2400\" height=\"1600\"/>\n",
       "  </clipPath>\n",
       "</defs>\n",
       "<path clip-path=\"url(#clip880)\" d=\"\n",
       "M0 1600 L2400 1600 L2400 0 L0 0  Z\n",
       "  \" fill=\"#ffffff\" fill-rule=\"evenodd\" fill-opacity=\"1\"/>\n",
       "<defs>\n",
       "  <clipPath id=\"clip881\">\n",
       "    <rect x=\"480\" y=\"0\" width=\"1681\" height=\"1600\"/>\n",
       "  </clipPath>\n",
       "</defs>\n",
       "<path clip-path=\"url(#clip880)\" d=\"\n",
       "M174.862 1486.45 L2352.76 1486.45 L2352.76 47.2441 L174.862 47.2441  Z\n",
       "  \" fill=\"#ffffff\" fill-rule=\"evenodd\" fill-opacity=\"1\"/>\n",
       "<defs>\n",
       "  <clipPath id=\"clip882\">\n",
       "    <rect x=\"174\" y=\"47\" width=\"2179\" height=\"1440\"/>\n",
       "  </clipPath>\n",
       "</defs>\n",
       "<polyline clip-path=\"url(#clip882)\" style=\"stroke:#000000; stroke-width:2; stroke-opacity:0.1; fill:none\" points=\"\n",
       "  215.747,1486.45 215.747,47.2441 \n",
       "  \"/>\n",
       "<polyline clip-path=\"url(#clip882)\" style=\"stroke:#000000; stroke-width:2; stroke-opacity:0.1; fill:none\" points=\"\n",
       "  734.589,1486.45 734.589,47.2441 \n",
       "  \"/>\n",
       "<polyline clip-path=\"url(#clip882)\" style=\"stroke:#000000; stroke-width:2; stroke-opacity:0.1; fill:none\" points=\"\n",
       "  1253.43,1486.45 1253.43,47.2441 \n",
       "  \"/>\n",
       "<polyline clip-path=\"url(#clip882)\" style=\"stroke:#000000; stroke-width:2; stroke-opacity:0.1; fill:none\" points=\"\n",
       "  1772.27,1486.45 1772.27,47.2441 \n",
       "  \"/>\n",
       "<polyline clip-path=\"url(#clip882)\" style=\"stroke:#000000; stroke-width:2; stroke-opacity:0.1; fill:none\" points=\"\n",
       "  2291.12,1486.45 2291.12,47.2441 \n",
       "  \"/>\n",
       "<polyline clip-path=\"url(#clip880)\" style=\"stroke:#000000; stroke-width:4; stroke-opacity:1; fill:none\" points=\"\n",
       "  174.862,1486.45 2352.76,1486.45 \n",
       "  \"/>\n",
       "<polyline clip-path=\"url(#clip880)\" style=\"stroke:#000000; stroke-width:4; stroke-opacity:1; fill:none\" points=\"\n",
       "  215.747,1486.45 215.747,1469.18 \n",
       "  \"/>\n",
       "<polyline clip-path=\"url(#clip880)\" style=\"stroke:#000000; stroke-width:4; stroke-opacity:1; fill:none\" points=\"\n",
       "  734.589,1486.45 734.589,1469.18 \n",
       "  \"/>\n",
       "<polyline clip-path=\"url(#clip880)\" style=\"stroke:#000000; stroke-width:4; stroke-opacity:1; fill:none\" points=\"\n",
       "  1253.43,1486.45 1253.43,1469.18 \n",
       "  \"/>\n",
       "<polyline clip-path=\"url(#clip880)\" style=\"stroke:#000000; stroke-width:4; stroke-opacity:1; fill:none\" points=\"\n",
       "  1772.27,1486.45 1772.27,1469.18 \n",
       "  \"/>\n",
       "<polyline clip-path=\"url(#clip880)\" style=\"stroke:#000000; stroke-width:4; stroke-opacity:1; fill:none\" points=\"\n",
       "  2291.12,1486.45 2291.12,1469.18 \n",
       "  \"/>\n",
       "<path clip-path=\"url(#clip880)\" d=\"M 0 0 M215.747 1515.64 Q212.136 1515.64 210.307 1519.2 Q208.501 1522.75 208.501 1529.87 Q208.501 1536.98 210.307 1540.55 Q212.136 1544.09 215.747 1544.09 Q219.381 1544.09 221.187 1540.55 Q223.015 1536.98 223.015 1529.87 Q223.015 1522.75 221.187 1519.2 Q219.381 1515.64 215.747 1515.64 M215.747 1511.93 Q221.557 1511.93 224.613 1516.54 Q227.691 1521.12 227.691 1529.87 Q227.691 1538.6 224.613 1543.21 Q221.557 1547.79 215.747 1547.79 Q209.937 1547.79 206.858 1543.21 Q203.802 1538.6 203.802 1529.87 Q203.802 1521.12 206.858 1516.54 Q209.937 1511.93 215.747 1511.93 Z\" fill=\"#000000\" fill-rule=\"evenodd\" fill-opacity=\"1\" /><path clip-path=\"url(#clip880)\" d=\"M 0 0 M716.233 1543.18 L732.552 1543.18 L732.552 1547.12 L710.608 1547.12 L710.608 1543.18 Q713.27 1540.43 717.853 1535.8 Q722.46 1531.15 723.64 1529.81 Q725.886 1527.28 726.765 1525.55 Q727.668 1523.79 727.668 1522.1 Q727.668 1519.34 725.724 1517.61 Q723.802 1515.87 720.701 1515.87 Q718.502 1515.87 716.048 1516.63 Q713.617 1517.4 710.84 1518.95 L710.84 1514.23 Q713.664 1513.09 716.117 1512.51 Q718.571 1511.93 720.608 1511.93 Q725.978 1511.93 729.173 1514.62 Q732.367 1517.31 732.367 1521.8 Q732.367 1523.93 731.557 1525.85 Q730.77 1527.74 728.664 1530.34 Q728.085 1531.01 724.983 1534.23 Q721.881 1537.42 716.233 1543.18 Z\" fill=\"#000000\" fill-rule=\"evenodd\" fill-opacity=\"1\" /><path clip-path=\"url(#clip880)\" d=\"M 0 0 M737.668 1512.56 L756.025 1512.56 L756.025 1516.5 L741.951 1516.5 L741.951 1524.97 Q742.969 1524.62 743.988 1524.46 Q745.006 1524.27 746.025 1524.27 Q751.812 1524.27 755.191 1527.44 Q758.571 1530.62 758.571 1536.03 Q758.571 1541.61 755.099 1544.71 Q751.626 1547.79 745.307 1547.79 Q743.131 1547.79 740.863 1547.42 Q738.617 1547.05 736.21 1546.31 L736.21 1541.61 Q738.293 1542.74 740.515 1543.3 Q742.738 1543.86 745.214 1543.86 Q749.219 1543.86 751.557 1541.75 Q753.895 1539.64 753.895 1536.03 Q753.895 1532.42 751.557 1530.31 Q749.219 1528.21 745.214 1528.21 Q743.339 1528.21 741.464 1528.62 Q739.613 1529.04 737.668 1529.92 L737.668 1512.56 Z\" fill=\"#000000\" fill-rule=\"evenodd\" fill-opacity=\"1\" /><path clip-path=\"url(#clip880)\" d=\"M 0 0 M1230.2 1512.56 L1248.56 1512.56 L1248.56 1516.5 L1234.49 1516.5 L1234.49 1524.97 Q1235.5 1524.62 1236.52 1524.46 Q1237.54 1524.27 1238.56 1524.27 Q1244.35 1524.27 1247.73 1527.44 Q1251.11 1530.62 1251.11 1536.03 Q1251.11 1541.61 1247.63 1544.71 Q1244.16 1547.79 1237.84 1547.79 Q1235.67 1547.79 1233.4 1547.42 Q1231.15 1547.05 1228.74 1546.31 L1228.74 1541.61 Q1230.83 1542.74 1233.05 1543.3 Q1235.27 1543.86 1237.75 1543.86 Q1241.75 1543.86 1244.09 1541.75 Q1246.43 1539.64 1246.43 1536.03 Q1246.43 1532.42 1244.09 1530.31 Q1241.75 1528.21 1237.75 1528.21 Q1235.87 1528.21 1234 1528.62 Q1232.15 1529.04 1230.2 1529.92 L1230.2 1512.56 Z\" fill=\"#000000\" fill-rule=\"evenodd\" fill-opacity=\"1\" /><path clip-path=\"url(#clip880)\" d=\"M 0 0 M1266.18 1515.64 Q1262.56 1515.64 1260.74 1519.2 Q1258.93 1522.75 1258.93 1529.87 Q1258.93 1536.98 1260.74 1540.55 Q1262.56 1544.09 1266.18 1544.09 Q1269.81 1544.09 1271.61 1540.55 Q1273.44 1536.98 1273.44 1529.87 Q1273.44 1522.75 1271.61 1519.2 Q1269.81 1515.64 1266.18 1515.64 M1266.18 1511.93 Q1271.99 1511.93 1275.04 1516.54 Q1278.12 1521.12 1278.12 1529.87 Q1278.12 1538.6 1275.04 1543.21 Q1271.99 1547.79 1266.18 1547.79 Q1260.36 1547.79 1257.29 1543.21 Q1254.23 1538.6 1254.23 1529.87 Q1254.23 1521.12 1257.29 1516.54 Q1260.36 1511.93 1266.18 1511.93 Z\" fill=\"#000000\" fill-rule=\"evenodd\" fill-opacity=\"1\" /><path clip-path=\"url(#clip880)\" d=\"M 0 0 M1748.15 1512.56 L1770.38 1512.56 L1770.38 1514.55 L1757.83 1547.12 L1752.95 1547.12 L1764.75 1516.5 L1748.15 1516.5 L1748.15 1512.56 Z\" fill=\"#000000\" fill-rule=\"evenodd\" fill-opacity=\"1\" /><path clip-path=\"url(#clip880)\" d=\"M 0 0 M1775.49 1512.56 L1793.85 1512.56 L1793.85 1516.5 L1779.77 1516.5 L1779.77 1524.97 Q1780.79 1524.62 1781.81 1524.46 Q1782.83 1524.27 1783.85 1524.27 Q1789.64 1524.27 1793.02 1527.44 Q1796.39 1530.62 1796.39 1536.03 Q1796.39 1541.61 1792.92 1544.71 Q1789.45 1547.79 1783.13 1547.79 Q1780.96 1547.79 1778.69 1547.42 Q1776.44 1547.05 1774.03 1546.31 L1774.03 1541.61 Q1776.12 1542.74 1778.34 1543.3 Q1780.56 1543.86 1783.04 1543.86 Q1787.04 1543.86 1789.38 1541.75 Q1791.72 1539.64 1791.72 1536.03 Q1791.72 1532.42 1789.38 1530.31 Q1787.04 1528.21 1783.04 1528.21 Q1781.16 1528.21 1779.29 1528.62 Q1777.44 1529.04 1775.49 1529.92 L1775.49 1512.56 Z\" fill=\"#000000\" fill-rule=\"evenodd\" fill-opacity=\"1\" /><path clip-path=\"url(#clip880)\" d=\"M 0 0 M2254.49 1543.18 L2262.12 1543.18 L2262.12 1516.82 L2253.81 1518.49 L2253.81 1514.23 L2262.08 1512.56 L2266.75 1512.56 L2266.75 1543.18 L2274.39 1543.18 L2274.39 1547.12 L2254.49 1547.12 L2254.49 1543.18 Z\" fill=\"#000000\" fill-rule=\"evenodd\" fill-opacity=\"1\" /><path clip-path=\"url(#clip880)\" d=\"M 0 0 M2289.46 1515.64 Q2285.85 1515.64 2284.02 1519.2 Q2282.22 1522.75 2282.22 1529.87 Q2282.22 1536.98 2284.02 1540.55 Q2285.85 1544.09 2289.46 1544.09 Q2293.1 1544.09 2294.9 1540.55 Q2296.73 1536.98 2296.73 1529.87 Q2296.73 1522.75 2294.9 1519.2 Q2293.1 1515.64 2289.46 1515.64 M2289.46 1511.93 Q2295.27 1511.93 2298.33 1516.54 Q2301.41 1521.12 2301.41 1529.87 Q2301.41 1538.6 2298.33 1543.21 Q2295.27 1547.79 2289.46 1547.79 Q2283.65 1547.79 2280.57 1543.21 Q2277.52 1538.6 2277.52 1529.87 Q2277.52 1521.12 2280.57 1516.54 Q2283.65 1511.93 2289.46 1511.93 Z\" fill=\"#000000\" fill-rule=\"evenodd\" fill-opacity=\"1\" /><path clip-path=\"url(#clip880)\" d=\"M 0 0 M2316.48 1515.64 Q2312.86 1515.64 2311.04 1519.2 Q2309.23 1522.75 2309.23 1529.87 Q2309.23 1536.98 2311.04 1540.55 Q2312.86 1544.09 2316.48 1544.09 Q2320.11 1544.09 2321.92 1540.55 Q2323.74 1536.98 2323.74 1529.87 Q2323.74 1522.75 2321.92 1519.2 Q2320.11 1515.64 2316.48 1515.64 M2316.48 1511.93 Q2322.29 1511.93 2325.34 1516.54 Q2328.42 1521.12 2328.42 1529.87 Q2328.42 1538.6 2325.34 1543.21 Q2322.29 1547.79 2316.48 1547.79 Q2310.67 1547.79 2307.59 1543.21 Q2304.53 1538.6 2304.53 1529.87 Q2304.53 1521.12 2307.59 1516.54 Q2310.67 1511.93 2316.48 1511.93 Z\" fill=\"#000000\" fill-rule=\"evenodd\" fill-opacity=\"1\" /><polyline clip-path=\"url(#clip882)\" style=\"stroke:#000000; stroke-width:2; stroke-opacity:0.1; fill:none\" points=\"\n",
       "  174.862,1445.72 2352.76,1445.72 \n",
       "  \"/>\n",
       "<polyline clip-path=\"url(#clip882)\" style=\"stroke:#000000; stroke-width:2; stroke-opacity:0.1; fill:none\" points=\"\n",
       "  174.862,1106.28 2352.76,1106.28 \n",
       "  \"/>\n",
       "<polyline clip-path=\"url(#clip882)\" style=\"stroke:#000000; stroke-width:2; stroke-opacity:0.1; fill:none\" points=\"\n",
       "  174.862,766.846 2352.76,766.846 \n",
       "  \"/>\n",
       "<polyline clip-path=\"url(#clip882)\" style=\"stroke:#000000; stroke-width:2; stroke-opacity:0.1; fill:none\" points=\"\n",
       "  174.862,427.411 2352.76,427.411 \n",
       "  \"/>\n",
       "<polyline clip-path=\"url(#clip882)\" style=\"stroke:#000000; stroke-width:2; stroke-opacity:0.1; fill:none\" points=\"\n",
       "  174.862,87.9763 2352.76,87.9763 \n",
       "  \"/>\n",
       "<polyline clip-path=\"url(#clip880)\" style=\"stroke:#000000; stroke-width:4; stroke-opacity:1; fill:none\" points=\"\n",
       "  174.862,1486.45 174.862,47.2441 \n",
       "  \"/>\n",
       "<polyline clip-path=\"url(#clip880)\" style=\"stroke:#000000; stroke-width:4; stroke-opacity:1; fill:none\" points=\"\n",
       "  174.862,1445.72 200.997,1445.72 \n",
       "  \"/>\n",
       "<polyline clip-path=\"url(#clip880)\" style=\"stroke:#000000; stroke-width:4; stroke-opacity:1; fill:none\" points=\"\n",
       "  174.862,1106.28 200.997,1106.28 \n",
       "  \"/>\n",
       "<polyline clip-path=\"url(#clip880)\" style=\"stroke:#000000; stroke-width:4; stroke-opacity:1; fill:none\" points=\"\n",
       "  174.862,766.846 200.997,766.846 \n",
       "  \"/>\n",
       "<polyline clip-path=\"url(#clip880)\" style=\"stroke:#000000; stroke-width:4; stroke-opacity:1; fill:none\" points=\"\n",
       "  174.862,427.411 200.997,427.411 \n",
       "  \"/>\n",
       "<polyline clip-path=\"url(#clip880)\" style=\"stroke:#000000; stroke-width:4; stroke-opacity:1; fill:none\" points=\"\n",
       "  174.862,87.9763 200.997,87.9763 \n",
       "  \"/>\n",
       "<path clip-path=\"url(#clip880)\" d=\"M 0 0 M62.9365 1431.51 Q59.3254 1431.51 57.4967 1435.08 Q55.6912 1438.62 55.6912 1445.75 Q55.6912 1452.86 57.4967 1456.42 Q59.3254 1459.96 62.9365 1459.96 Q66.5707 1459.96 68.3763 1456.42 Q70.205 1452.86 70.205 1445.75 Q70.205 1438.62 68.3763 1435.08 Q66.5707 1431.51 62.9365 1431.51 M62.9365 1427.81 Q68.7467 1427.81 71.8022 1432.42 Q74.8809 1437 74.8809 1445.75 Q74.8809 1454.48 71.8022 1459.08 Q68.7467 1463.67 62.9365 1463.67 Q57.1264 1463.67 54.0477 1459.08 Q50.9921 1454.48 50.9921 1445.75 Q50.9921 1437 54.0477 1432.42 Q57.1264 1427.81 62.9365 1427.81 Z\" fill=\"#000000\" fill-rule=\"evenodd\" fill-opacity=\"1\" /><path clip-path=\"url(#clip880)\" d=\"M 0 0 M79.9503 1457.12 L84.8345 1457.12 L84.8345 1463 L79.9503 1463 L79.9503 1457.12 Z\" fill=\"#000000\" fill-rule=\"evenodd\" fill-opacity=\"1\" /><path clip-path=\"url(#clip880)\" d=\"M 0 0 M99.9039 1431.51 Q96.2928 1431.51 94.4641 1435.08 Q92.6586 1438.62 92.6586 1445.75 Q92.6586 1452.86 94.4641 1456.42 Q96.2928 1459.96 99.9039 1459.96 Q103.538 1459.96 105.344 1456.42 Q107.172 1452.86 107.172 1445.75 Q107.172 1438.62 105.344 1435.08 Q103.538 1431.51 99.9039 1431.51 M99.9039 1427.81 Q105.714 1427.81 108.77 1432.42 Q111.848 1437 111.848 1445.75 Q111.848 1454.48 108.77 1459.08 Q105.714 1463.67 99.9039 1463.67 Q94.0937 1463.67 91.0151 1459.08 Q87.9595 1454.48 87.9595 1445.75 Q87.9595 1437 91.0151 1432.42 Q94.0937 1427.81 99.9039 1427.81 Z\" fill=\"#000000\" fill-rule=\"evenodd\" fill-opacity=\"1\" /><path clip-path=\"url(#clip880)\" d=\"M 0 0 M126.918 1431.51 Q123.307 1431.51 121.478 1435.08 Q119.672 1438.62 119.672 1445.75 Q119.672 1452.86 121.478 1456.42 Q123.307 1459.96 126.918 1459.96 Q130.552 1459.96 132.357 1456.42 Q134.186 1452.86 134.186 1445.75 Q134.186 1438.62 132.357 1435.08 Q130.552 1431.51 126.918 1431.51 M126.918 1427.81 Q132.728 1427.81 135.783 1432.42 Q138.862 1437 138.862 1445.75 Q138.862 1454.48 135.783 1459.08 Q132.728 1463.67 126.918 1463.67 Q121.107 1463.67 118.029 1459.08 Q114.973 1454.48 114.973 1445.75 Q114.973 1437 118.029 1432.42 Q121.107 1427.81 126.918 1427.81 Z\" fill=\"#000000\" fill-rule=\"evenodd\" fill-opacity=\"1\" /><path clip-path=\"url(#clip880)\" d=\"M 0 0 M65.5291 1092.08 Q61.918 1092.08 60.0893 1095.64 Q58.2838 1099.19 58.2838 1106.32 Q58.2838 1113.42 60.0893 1116.99 Q61.918 1120.53 65.5291 1120.53 Q69.1633 1120.53 70.9689 1116.99 Q72.7976 1113.42 72.7976 1106.32 Q72.7976 1099.19 70.9689 1095.64 Q69.1633 1092.08 65.5291 1092.08 M65.5291 1088.38 Q71.3392 1088.38 74.3948 1092.98 Q77.4735 1097.57 77.4735 1106.32 Q77.4735 1115.04 74.3948 1119.65 Q71.3392 1124.23 65.5291 1124.23 Q59.7189 1124.23 56.6402 1119.65 Q53.5847 1115.04 53.5847 1106.32 Q53.5847 1097.57 56.6402 1092.98 Q59.7189 1088.38 65.5291 1088.38 Z\" fill=\"#000000\" fill-rule=\"evenodd\" fill-opacity=\"1\" /><path clip-path=\"url(#clip880)\" d=\"M 0 0 M82.5429 1117.68 L87.4271 1117.68 L87.4271 1123.56 L82.5429 1123.56 L82.5429 1117.68 Z\" fill=\"#000000\" fill-rule=\"evenodd\" fill-opacity=\"1\" /><path clip-path=\"url(#clip880)\" d=\"M 0 0 M96.5243 1119.63 L112.844 1119.63 L112.844 1123.56 L90.8993 1123.56 L90.8993 1119.63 Q93.5613 1116.87 98.1447 1112.24 Q102.751 1107.59 103.932 1106.25 Q106.177 1103.72 107.057 1101.99 Q107.959 1100.23 107.959 1098.54 Q107.959 1095.78 106.015 1094.05 Q104.094 1092.31 100.992 1092.31 Q98.7928 1092.31 96.3391 1093.07 Q93.9086 1093.84 91.1308 1095.39 L91.1308 1090.67 Q93.9549 1089.53 96.4085 1088.95 Q98.8622 1088.38 100.899 1088.38 Q106.27 1088.38 109.464 1091.06 Q112.658 1093.75 112.658 1098.24 Q112.658 1100.37 111.848 1102.29 Q111.061 1104.19 108.955 1106.78 Q108.376 1107.45 105.274 1110.67 Q102.172 1113.86 96.5243 1119.63 Z\" fill=\"#000000\" fill-rule=\"evenodd\" fill-opacity=\"1\" /><path clip-path=\"url(#clip880)\" d=\"M 0 0 M117.959 1089 L136.316 1089 L136.316 1092.94 L122.242 1092.94 L122.242 1101.41 Q123.26 1101.06 124.279 1100.9 Q125.297 1100.71 126.316 1100.71 Q132.103 1100.71 135.482 1103.89 Q138.862 1107.06 138.862 1112.47 Q138.862 1118.05 135.39 1121.15 Q131.918 1124.23 125.598 1124.23 Q123.422 1124.23 121.154 1123.86 Q118.908 1123.49 116.501 1122.75 L116.501 1118.05 Q118.584 1119.19 120.807 1119.74 Q123.029 1120.3 125.506 1120.3 Q129.51 1120.3 131.848 1118.19 Q134.186 1116.08 134.186 1112.47 Q134.186 1108.86 131.848 1106.76 Q129.51 1104.65 125.506 1104.65 Q123.631 1104.65 121.756 1105.07 Q119.904 1105.48 117.959 1106.36 L117.959 1089 Z\" fill=\"#000000\" fill-rule=\"evenodd\" fill-opacity=\"1\" /><path clip-path=\"url(#clip880)\" d=\"M 0 0 M63.9319 752.645 Q60.3208 752.645 58.4921 756.209 Q56.6865 759.751 56.6865 766.881 Q56.6865 773.987 58.4921 777.552 Q60.3208 781.094 63.9319 781.094 Q67.5661 781.094 69.3717 777.552 Q71.2004 773.987 71.2004 766.881 Q71.2004 759.751 69.3717 756.209 Q67.5661 752.645 63.9319 752.645 M63.9319 748.941 Q69.742 748.941 72.7976 753.547 Q75.8763 758.131 75.8763 766.881 Q75.8763 775.608 72.7976 780.214 Q69.742 784.797 63.9319 784.797 Q58.1217 784.797 55.043 780.214 Q51.9875 775.608 51.9875 766.881 Q51.9875 758.131 55.043 753.547 Q58.1217 748.941 63.9319 748.941 Z\" fill=\"#000000\" fill-rule=\"evenodd\" fill-opacity=\"1\" /><path clip-path=\"url(#clip880)\" d=\"M 0 0 M80.9457 778.246 L85.8299 778.246 L85.8299 784.126 L80.9457 784.126 L80.9457 778.246 Z\" fill=\"#000000\" fill-rule=\"evenodd\" fill-opacity=\"1\" /><path clip-path=\"url(#clip880)\" d=\"M 0 0 M90.9456 749.566 L109.302 749.566 L109.302 753.501 L95.228 753.501 L95.228 761.973 Q96.2465 761.626 97.265 761.464 Q98.2835 761.279 99.3021 761.279 Q105.089 761.279 108.469 764.45 Q111.848 767.621 111.848 773.038 Q111.848 778.617 108.376 781.719 Q104.904 784.797 98.5845 784.797 Q96.4085 784.797 94.14 784.427 Q91.8947 784.057 89.4873 783.316 L89.4873 778.617 Q91.5706 779.751 93.7928 780.307 Q96.015 780.862 98.4919 780.862 Q102.496 780.862 104.834 778.756 Q107.172 776.649 107.172 773.038 Q107.172 769.427 104.834 767.321 Q102.496 765.214 98.4919 765.214 Q96.6169 765.214 94.7419 765.631 Q92.89 766.047 90.9456 766.927 L90.9456 749.566 Z\" fill=\"#000000\" fill-rule=\"evenodd\" fill-opacity=\"1\" /><path clip-path=\"url(#clip880)\" d=\"M 0 0 M126.918 752.645 Q123.307 752.645 121.478 756.209 Q119.672 759.751 119.672 766.881 Q119.672 773.987 121.478 777.552 Q123.307 781.094 126.918 781.094 Q130.552 781.094 132.357 777.552 Q134.186 773.987 134.186 766.881 Q134.186 759.751 132.357 756.209 Q130.552 752.645 126.918 752.645 M126.918 748.941 Q132.728 748.941 135.783 753.547 Q138.862 758.131 138.862 766.881 Q138.862 775.608 135.783 780.214 Q132.728 784.797 126.918 784.797 Q121.107 784.797 118.029 780.214 Q114.973 775.608 114.973 766.881 Q114.973 758.131 118.029 753.547 Q121.107 748.941 126.918 748.941 Z\" fill=\"#000000\" fill-rule=\"evenodd\" fill-opacity=\"1\" /><path clip-path=\"url(#clip880)\" d=\"M 0 0 M64.8346 413.21 Q61.2236 413.21 59.3949 416.775 Q57.5893 420.316 57.5893 427.446 Q57.5893 434.552 59.3949 438.117 Q61.2236 441.659 64.8346 441.659 Q68.4689 441.659 70.2744 438.117 Q72.1031 434.552 72.1031 427.446 Q72.1031 420.316 70.2744 416.775 Q68.4689 413.21 64.8346 413.21 M64.8346 409.506 Q70.6448 409.506 73.7003 414.113 Q76.779 418.696 76.779 427.446 Q76.779 436.173 73.7003 440.779 Q70.6448 445.362 64.8346 445.362 Q59.0245 445.362 55.9458 440.779 Q52.8903 436.173 52.8903 427.446 Q52.8903 418.696 55.9458 414.113 Q59.0245 409.506 64.8346 409.506 Z\" fill=\"#000000\" fill-rule=\"evenodd\" fill-opacity=\"1\" /><path clip-path=\"url(#clip880)\" d=\"M 0 0 M81.8484 438.812 L86.7327 438.812 L86.7327 444.691 L81.8484 444.691 L81.8484 438.812 Z\" fill=\"#000000\" fill-rule=\"evenodd\" fill-opacity=\"1\" /><path clip-path=\"url(#clip880)\" d=\"M 0 0 M90.6215 410.131 L112.844 410.131 L112.844 412.122 L100.297 444.691 L95.4132 444.691 L107.219 414.066 L90.6215 414.066 L90.6215 410.131 Z\" fill=\"#000000\" fill-rule=\"evenodd\" fill-opacity=\"1\" /><path clip-path=\"url(#clip880)\" d=\"M 0 0 M117.959 410.131 L136.316 410.131 L136.316 414.066 L122.242 414.066 L122.242 422.538 Q123.26 422.191 124.279 422.029 Q125.297 421.844 126.316 421.844 Q132.103 421.844 135.482 425.015 Q138.862 428.187 138.862 433.603 Q138.862 439.182 135.39 442.284 Q131.918 445.362 125.598 445.362 Q123.422 445.362 121.154 444.992 Q118.908 444.622 116.501 443.881 L116.501 439.182 Q118.584 440.316 120.807 440.872 Q123.029 441.427 125.506 441.427 Q129.51 441.427 131.848 439.321 Q134.186 437.214 134.186 433.603 Q134.186 429.992 131.848 427.886 Q129.51 425.779 125.506 425.779 Q123.631 425.779 121.756 426.196 Q119.904 426.613 117.959 427.492 L117.959 410.131 Z\" fill=\"#000000\" fill-rule=\"evenodd\" fill-opacity=\"1\" /><path clip-path=\"url(#clip880)\" d=\"M 0 0 M54.9736 101.321 L62.6124 101.321 L62.6124 74.9555 L54.3023 76.6222 L54.3023 72.3629 L62.5661 70.6963 L67.242 70.6963 L67.242 101.321 L74.8809 101.321 L74.8809 105.256 L54.9736 105.256 L54.9736 101.321 Z\" fill=\"#000000\" fill-rule=\"evenodd\" fill-opacity=\"1\" /><path clip-path=\"url(#clip880)\" d=\"M 0 0 M79.9503 99.3767 L84.8345 99.3767 L84.8345 105.256 L79.9503 105.256 L79.9503 99.3767 Z\" fill=\"#000000\" fill-rule=\"evenodd\" fill-opacity=\"1\" /><path clip-path=\"url(#clip880)\" d=\"M 0 0 M99.9039 73.775 Q96.2928 73.775 94.4641 77.3398 Q92.6586 80.8814 92.6586 88.011 Q92.6586 95.1174 94.4641 98.6822 Q96.2928 102.224 99.9039 102.224 Q103.538 102.224 105.344 98.6822 Q107.172 95.1174 107.172 88.011 Q107.172 80.8814 105.344 77.3398 Q103.538 73.775 99.9039 73.775 M99.9039 70.0713 Q105.714 70.0713 108.77 74.6777 Q111.848 79.261 111.848 88.011 Q111.848 96.7378 108.77 101.344 Q105.714 105.928 99.9039 105.928 Q94.0937 105.928 91.0151 101.344 Q87.9595 96.7378 87.9595 88.011 Q87.9595 79.261 91.0151 74.6777 Q94.0937 70.0713 99.9039 70.0713 Z\" fill=\"#000000\" fill-rule=\"evenodd\" fill-opacity=\"1\" /><path clip-path=\"url(#clip880)\" d=\"M 0 0 M126.918 73.775 Q123.307 73.775 121.478 77.3398 Q119.672 80.8814 119.672 88.011 Q119.672 95.1174 121.478 98.6822 Q123.307 102.224 126.918 102.224 Q130.552 102.224 132.357 98.6822 Q134.186 95.1174 134.186 88.011 Q134.186 80.8814 132.357 77.3398 Q130.552 73.775 126.918 73.775 M126.918 70.0713 Q132.728 70.0713 135.783 74.6777 Q138.862 79.261 138.862 88.011 Q138.862 96.7378 135.783 101.344 Q132.728 105.928 126.918 105.928 Q121.107 105.928 118.029 101.344 Q114.973 96.7378 114.973 88.011 Q114.973 79.261 118.029 74.6777 Q121.107 70.0713 126.918 70.0713 Z\" fill=\"#000000\" fill-rule=\"evenodd\" fill-opacity=\"1\" /><circle clip-path=\"url(#clip882)\" cx=\"236.501\" cy=\"87.9763\" r=\"14\" fill=\"#009af9\" fill-rule=\"evenodd\" fill-opacity=\"1\" stroke=\"#000000\" stroke-opacity=\"1\" stroke-width=\"3.2\"/>\n",
       "<circle clip-path=\"url(#clip882)\" cx=\"257.254\" cy=\"1445.72\" r=\"14\" fill=\"#009af9\" fill-rule=\"evenodd\" fill-opacity=\"1\" stroke=\"#000000\" stroke-opacity=\"1\" stroke-width=\"3.2\"/>\n",
       "<circle clip-path=\"url(#clip882)\" cx=\"278.008\" cy=\"87.9763\" r=\"14\" fill=\"#009af9\" fill-rule=\"evenodd\" fill-opacity=\"1\" stroke=\"#000000\" stroke-opacity=\"1\" stroke-width=\"3.2\"/>\n",
       "<circle clip-path=\"url(#clip882)\" cx=\"298.762\" cy=\"1445.72\" r=\"14\" fill=\"#009af9\" fill-rule=\"evenodd\" fill-opacity=\"1\" stroke=\"#000000\" stroke-opacity=\"1\" stroke-width=\"3.2\"/>\n",
       "<circle clip-path=\"url(#clip882)\" cx=\"319.515\" cy=\"1445.72\" r=\"14\" fill=\"#009af9\" fill-rule=\"evenodd\" fill-opacity=\"1\" stroke=\"#000000\" stroke-opacity=\"1\" stroke-width=\"3.2\"/>\n",
       "<circle clip-path=\"url(#clip882)\" cx=\"340.269\" cy=\"1445.72\" r=\"14\" fill=\"#009af9\" fill-rule=\"evenodd\" fill-opacity=\"1\" stroke=\"#000000\" stroke-opacity=\"1\" stroke-width=\"3.2\"/>\n",
       "<circle clip-path=\"url(#clip882)\" cx=\"361.023\" cy=\"1445.72\" r=\"14\" fill=\"#009af9\" fill-rule=\"evenodd\" fill-opacity=\"1\" stroke=\"#000000\" stroke-opacity=\"1\" stroke-width=\"3.2\"/>\n",
       "<circle clip-path=\"url(#clip882)\" cx=\"381.776\" cy=\"1445.72\" r=\"14\" fill=\"#009af9\" fill-rule=\"evenodd\" fill-opacity=\"1\" stroke=\"#000000\" stroke-opacity=\"1\" stroke-width=\"3.2\"/>\n",
       "<circle clip-path=\"url(#clip882)\" cx=\"402.53\" cy=\"87.9763\" r=\"14\" fill=\"#009af9\" fill-rule=\"evenodd\" fill-opacity=\"1\" stroke=\"#000000\" stroke-opacity=\"1\" stroke-width=\"3.2\"/>\n",
       "<circle clip-path=\"url(#clip882)\" cx=\"423.284\" cy=\"1445.72\" r=\"14\" fill=\"#009af9\" fill-rule=\"evenodd\" fill-opacity=\"1\" stroke=\"#000000\" stroke-opacity=\"1\" stroke-width=\"3.2\"/>\n",
       "<circle clip-path=\"url(#clip882)\" cx=\"444.038\" cy=\"87.9763\" r=\"14\" fill=\"#009af9\" fill-rule=\"evenodd\" fill-opacity=\"1\" stroke=\"#000000\" stroke-opacity=\"1\" stroke-width=\"3.2\"/>\n",
       "<circle clip-path=\"url(#clip882)\" cx=\"464.791\" cy=\"1445.72\" r=\"14\" fill=\"#009af9\" fill-rule=\"evenodd\" fill-opacity=\"1\" stroke=\"#000000\" stroke-opacity=\"1\" stroke-width=\"3.2\"/>\n",
       "<circle clip-path=\"url(#clip882)\" cx=\"485.545\" cy=\"1445.72\" r=\"14\" fill=\"#009af9\" fill-rule=\"evenodd\" fill-opacity=\"1\" stroke=\"#000000\" stroke-opacity=\"1\" stroke-width=\"3.2\"/>\n",
       "<circle clip-path=\"url(#clip882)\" cx=\"506.299\" cy=\"1445.72\" r=\"14\" fill=\"#009af9\" fill-rule=\"evenodd\" fill-opacity=\"1\" stroke=\"#000000\" stroke-opacity=\"1\" stroke-width=\"3.2\"/>\n",
       "<circle clip-path=\"url(#clip882)\" cx=\"527.052\" cy=\"1445.72\" r=\"14\" fill=\"#009af9\" fill-rule=\"evenodd\" fill-opacity=\"1\" stroke=\"#000000\" stroke-opacity=\"1\" stroke-width=\"3.2\"/>\n",
       "<circle clip-path=\"url(#clip882)\" cx=\"547.806\" cy=\"87.9763\" r=\"14\" fill=\"#009af9\" fill-rule=\"evenodd\" fill-opacity=\"1\" stroke=\"#000000\" stroke-opacity=\"1\" stroke-width=\"3.2\"/>\n",
       "<circle clip-path=\"url(#clip882)\" cx=\"568.56\" cy=\"1445.72\" r=\"14\" fill=\"#009af9\" fill-rule=\"evenodd\" fill-opacity=\"1\" stroke=\"#000000\" stroke-opacity=\"1\" stroke-width=\"3.2\"/>\n",
       "<circle clip-path=\"url(#clip882)\" cx=\"589.314\" cy=\"1445.72\" r=\"14\" fill=\"#009af9\" fill-rule=\"evenodd\" fill-opacity=\"1\" stroke=\"#000000\" stroke-opacity=\"1\" stroke-width=\"3.2\"/>\n",
       "<circle clip-path=\"url(#clip882)\" cx=\"610.067\" cy=\"1445.72\" r=\"14\" fill=\"#009af9\" fill-rule=\"evenodd\" fill-opacity=\"1\" stroke=\"#000000\" stroke-opacity=\"1\" stroke-width=\"3.2\"/>\n",
       "<circle clip-path=\"url(#clip882)\" cx=\"630.821\" cy=\"87.9763\" r=\"14\" fill=\"#009af9\" fill-rule=\"evenodd\" fill-opacity=\"1\" stroke=\"#000000\" stroke-opacity=\"1\" stroke-width=\"3.2\"/>\n",
       "<circle clip-path=\"url(#clip882)\" cx=\"651.575\" cy=\"1445.72\" r=\"14\" fill=\"#009af9\" fill-rule=\"evenodd\" fill-opacity=\"1\" stroke=\"#000000\" stroke-opacity=\"1\" stroke-width=\"3.2\"/>\n",
       "<circle clip-path=\"url(#clip882)\" cx=\"672.328\" cy=\"87.9763\" r=\"14\" fill=\"#009af9\" fill-rule=\"evenodd\" fill-opacity=\"1\" stroke=\"#000000\" stroke-opacity=\"1\" stroke-width=\"3.2\"/>\n",
       "<circle clip-path=\"url(#clip882)\" cx=\"693.082\" cy=\"1445.72\" r=\"14\" fill=\"#009af9\" fill-rule=\"evenodd\" fill-opacity=\"1\" stroke=\"#000000\" stroke-opacity=\"1\" stroke-width=\"3.2\"/>\n",
       "<circle clip-path=\"url(#clip882)\" cx=\"713.836\" cy=\"1445.72\" r=\"14\" fill=\"#009af9\" fill-rule=\"evenodd\" fill-opacity=\"1\" stroke=\"#000000\" stroke-opacity=\"1\" stroke-width=\"3.2\"/>\n",
       "<circle clip-path=\"url(#clip882)\" cx=\"734.589\" cy=\"87.9763\" r=\"14\" fill=\"#009af9\" fill-rule=\"evenodd\" fill-opacity=\"1\" stroke=\"#000000\" stroke-opacity=\"1\" stroke-width=\"3.2\"/>\n",
       "<circle clip-path=\"url(#clip882)\" cx=\"755.343\" cy=\"1445.72\" r=\"14\" fill=\"#009af9\" fill-rule=\"evenodd\" fill-opacity=\"1\" stroke=\"#000000\" stroke-opacity=\"1\" stroke-width=\"3.2\"/>\n",
       "<circle clip-path=\"url(#clip882)\" cx=\"776.097\" cy=\"1445.72\" r=\"14\" fill=\"#009af9\" fill-rule=\"evenodd\" fill-opacity=\"1\" stroke=\"#000000\" stroke-opacity=\"1\" stroke-width=\"3.2\"/>\n",
       "<circle clip-path=\"url(#clip882)\" cx=\"796.851\" cy=\"1445.72\" r=\"14\" fill=\"#009af9\" fill-rule=\"evenodd\" fill-opacity=\"1\" stroke=\"#000000\" stroke-opacity=\"1\" stroke-width=\"3.2\"/>\n",
       "<circle clip-path=\"url(#clip882)\" cx=\"817.604\" cy=\"87.9763\" r=\"14\" fill=\"#009af9\" fill-rule=\"evenodd\" fill-opacity=\"1\" stroke=\"#000000\" stroke-opacity=\"1\" stroke-width=\"3.2\"/>\n",
       "<circle clip-path=\"url(#clip882)\" cx=\"838.358\" cy=\"87.9763\" r=\"14\" fill=\"#009af9\" fill-rule=\"evenodd\" fill-opacity=\"1\" stroke=\"#000000\" stroke-opacity=\"1\" stroke-width=\"3.2\"/>\n",
       "<circle clip-path=\"url(#clip882)\" cx=\"859.112\" cy=\"1445.72\" r=\"14\" fill=\"#009af9\" fill-rule=\"evenodd\" fill-opacity=\"1\" stroke=\"#000000\" stroke-opacity=\"1\" stroke-width=\"3.2\"/>\n",
       "<circle clip-path=\"url(#clip882)\" cx=\"879.865\" cy=\"1445.72\" r=\"14\" fill=\"#009af9\" fill-rule=\"evenodd\" fill-opacity=\"1\" stroke=\"#000000\" stroke-opacity=\"1\" stroke-width=\"3.2\"/>\n",
       "<circle clip-path=\"url(#clip882)\" cx=\"900.619\" cy=\"1445.72\" r=\"14\" fill=\"#009af9\" fill-rule=\"evenodd\" fill-opacity=\"1\" stroke=\"#000000\" stroke-opacity=\"1\" stroke-width=\"3.2\"/>\n",
       "<circle clip-path=\"url(#clip882)\" cx=\"921.373\" cy=\"1445.72\" r=\"14\" fill=\"#009af9\" fill-rule=\"evenodd\" fill-opacity=\"1\" stroke=\"#000000\" stroke-opacity=\"1\" stroke-width=\"3.2\"/>\n",
       "<circle clip-path=\"url(#clip882)\" cx=\"942.127\" cy=\"1445.72\" r=\"14\" fill=\"#009af9\" fill-rule=\"evenodd\" fill-opacity=\"1\" stroke=\"#000000\" stroke-opacity=\"1\" stroke-width=\"3.2\"/>\n",
       "<circle clip-path=\"url(#clip882)\" cx=\"962.88\" cy=\"1445.72\" r=\"14\" fill=\"#009af9\" fill-rule=\"evenodd\" fill-opacity=\"1\" stroke=\"#000000\" stroke-opacity=\"1\" stroke-width=\"3.2\"/>\n",
       "<circle clip-path=\"url(#clip882)\" cx=\"983.634\" cy=\"87.9763\" r=\"14\" fill=\"#009af9\" fill-rule=\"evenodd\" fill-opacity=\"1\" stroke=\"#000000\" stroke-opacity=\"1\" stroke-width=\"3.2\"/>\n",
       "<circle clip-path=\"url(#clip882)\" cx=\"1004.39\" cy=\"1445.72\" r=\"14\" fill=\"#009af9\" fill-rule=\"evenodd\" fill-opacity=\"1\" stroke=\"#000000\" stroke-opacity=\"1\" stroke-width=\"3.2\"/>\n",
       "<circle clip-path=\"url(#clip882)\" cx=\"1025.14\" cy=\"1445.72\" r=\"14\" fill=\"#009af9\" fill-rule=\"evenodd\" fill-opacity=\"1\" stroke=\"#000000\" stroke-opacity=\"1\" stroke-width=\"3.2\"/>\n",
       "<circle clip-path=\"url(#clip882)\" cx=\"1045.9\" cy=\"87.9763\" r=\"14\" fill=\"#009af9\" fill-rule=\"evenodd\" fill-opacity=\"1\" stroke=\"#000000\" stroke-opacity=\"1\" stroke-width=\"3.2\"/>\n",
       "<circle clip-path=\"url(#clip882)\" cx=\"1066.65\" cy=\"1445.72\" r=\"14\" fill=\"#009af9\" fill-rule=\"evenodd\" fill-opacity=\"1\" stroke=\"#000000\" stroke-opacity=\"1\" stroke-width=\"3.2\"/>\n",
       "<circle clip-path=\"url(#clip882)\" cx=\"1087.4\" cy=\"1445.72\" r=\"14\" fill=\"#009af9\" fill-rule=\"evenodd\" fill-opacity=\"1\" stroke=\"#000000\" stroke-opacity=\"1\" stroke-width=\"3.2\"/>\n",
       "<circle clip-path=\"url(#clip882)\" cx=\"1108.16\" cy=\"1445.72\" r=\"14\" fill=\"#009af9\" fill-rule=\"evenodd\" fill-opacity=\"1\" stroke=\"#000000\" stroke-opacity=\"1\" stroke-width=\"3.2\"/>\n",
       "<circle clip-path=\"url(#clip882)\" cx=\"1128.91\" cy=\"1445.72\" r=\"14\" fill=\"#009af9\" fill-rule=\"evenodd\" fill-opacity=\"1\" stroke=\"#000000\" stroke-opacity=\"1\" stroke-width=\"3.2\"/>\n",
       "<circle clip-path=\"url(#clip882)\" cx=\"1149.66\" cy=\"1445.72\" r=\"14\" fill=\"#009af9\" fill-rule=\"evenodd\" fill-opacity=\"1\" stroke=\"#000000\" stroke-opacity=\"1\" stroke-width=\"3.2\"/>\n",
       "<circle clip-path=\"url(#clip882)\" cx=\"1170.42\" cy=\"87.9763\" r=\"14\" fill=\"#009af9\" fill-rule=\"evenodd\" fill-opacity=\"1\" stroke=\"#000000\" stroke-opacity=\"1\" stroke-width=\"3.2\"/>\n",
       "<circle clip-path=\"url(#clip882)\" cx=\"1191.17\" cy=\"1445.72\" r=\"14\" fill=\"#009af9\" fill-rule=\"evenodd\" fill-opacity=\"1\" stroke=\"#000000\" stroke-opacity=\"1\" stroke-width=\"3.2\"/>\n",
       "<circle clip-path=\"url(#clip882)\" cx=\"1211.92\" cy=\"1445.72\" r=\"14\" fill=\"#009af9\" fill-rule=\"evenodd\" fill-opacity=\"1\" stroke=\"#000000\" stroke-opacity=\"1\" stroke-width=\"3.2\"/>\n",
       "<circle clip-path=\"url(#clip882)\" cx=\"1232.68\" cy=\"1445.72\" r=\"14\" fill=\"#009af9\" fill-rule=\"evenodd\" fill-opacity=\"1\" stroke=\"#000000\" stroke-opacity=\"1\" stroke-width=\"3.2\"/>\n",
       "<circle clip-path=\"url(#clip882)\" cx=\"1253.43\" cy=\"1445.72\" r=\"14\" fill=\"#009af9\" fill-rule=\"evenodd\" fill-opacity=\"1\" stroke=\"#000000\" stroke-opacity=\"1\" stroke-width=\"3.2\"/>\n",
       "<circle clip-path=\"url(#clip882)\" cx=\"1274.19\" cy=\"1445.72\" r=\"14\" fill=\"#009af9\" fill-rule=\"evenodd\" fill-opacity=\"1\" stroke=\"#000000\" stroke-opacity=\"1\" stroke-width=\"3.2\"/>\n",
       "<circle clip-path=\"url(#clip882)\" cx=\"1294.94\" cy=\"1445.72\" r=\"14\" fill=\"#009af9\" fill-rule=\"evenodd\" fill-opacity=\"1\" stroke=\"#000000\" stroke-opacity=\"1\" stroke-width=\"3.2\"/>\n",
       "<circle clip-path=\"url(#clip882)\" cx=\"1315.69\" cy=\"1445.72\" r=\"14\" fill=\"#009af9\" fill-rule=\"evenodd\" fill-opacity=\"1\" stroke=\"#000000\" stroke-opacity=\"1\" stroke-width=\"3.2\"/>\n",
       "<circle clip-path=\"url(#clip882)\" cx=\"1336.45\" cy=\"87.9763\" r=\"14\" fill=\"#009af9\" fill-rule=\"evenodd\" fill-opacity=\"1\" stroke=\"#000000\" stroke-opacity=\"1\" stroke-width=\"3.2\"/>\n",
       "<circle clip-path=\"url(#clip882)\" cx=\"1357.2\" cy=\"1445.72\" r=\"14\" fill=\"#009af9\" fill-rule=\"evenodd\" fill-opacity=\"1\" stroke=\"#000000\" stroke-opacity=\"1\" stroke-width=\"3.2\"/>\n",
       "<circle clip-path=\"url(#clip882)\" cx=\"1377.95\" cy=\"1445.72\" r=\"14\" fill=\"#009af9\" fill-rule=\"evenodd\" fill-opacity=\"1\" stroke=\"#000000\" stroke-opacity=\"1\" stroke-width=\"3.2\"/>\n",
       "<circle clip-path=\"url(#clip882)\" cx=\"1398.71\" cy=\"87.9763\" r=\"14\" fill=\"#009af9\" fill-rule=\"evenodd\" fill-opacity=\"1\" stroke=\"#000000\" stroke-opacity=\"1\" stroke-width=\"3.2\"/>\n",
       "<circle clip-path=\"url(#clip882)\" cx=\"1419.46\" cy=\"1445.72\" r=\"14\" fill=\"#009af9\" fill-rule=\"evenodd\" fill-opacity=\"1\" stroke=\"#000000\" stroke-opacity=\"1\" stroke-width=\"3.2\"/>\n",
       "<circle clip-path=\"url(#clip882)\" cx=\"1440.22\" cy=\"1445.72\" r=\"14\" fill=\"#009af9\" fill-rule=\"evenodd\" fill-opacity=\"1\" stroke=\"#000000\" stroke-opacity=\"1\" stroke-width=\"3.2\"/>\n",
       "<circle clip-path=\"url(#clip882)\" cx=\"1460.97\" cy=\"1445.72\" r=\"14\" fill=\"#009af9\" fill-rule=\"evenodd\" fill-opacity=\"1\" stroke=\"#000000\" stroke-opacity=\"1\" stroke-width=\"3.2\"/>\n",
       "<circle clip-path=\"url(#clip882)\" cx=\"1481.72\" cy=\"1445.72\" r=\"14\" fill=\"#009af9\" fill-rule=\"evenodd\" fill-opacity=\"1\" stroke=\"#000000\" stroke-opacity=\"1\" stroke-width=\"3.2\"/>\n",
       "<circle clip-path=\"url(#clip882)\" cx=\"1502.48\" cy=\"1445.72\" r=\"14\" fill=\"#009af9\" fill-rule=\"evenodd\" fill-opacity=\"1\" stroke=\"#000000\" stroke-opacity=\"1\" stroke-width=\"3.2\"/>\n",
       "<circle clip-path=\"url(#clip882)\" cx=\"1523.23\" cy=\"1445.72\" r=\"14\" fill=\"#009af9\" fill-rule=\"evenodd\" fill-opacity=\"1\" stroke=\"#000000\" stroke-opacity=\"1\" stroke-width=\"3.2\"/>\n",
       "<circle clip-path=\"url(#clip882)\" cx=\"1543.98\" cy=\"1445.72\" r=\"14\" fill=\"#009af9\" fill-rule=\"evenodd\" fill-opacity=\"1\" stroke=\"#000000\" stroke-opacity=\"1\" stroke-width=\"3.2\"/>\n",
       "<circle clip-path=\"url(#clip882)\" cx=\"1564.74\" cy=\"87.9763\" r=\"14\" fill=\"#009af9\" fill-rule=\"evenodd\" fill-opacity=\"1\" stroke=\"#000000\" stroke-opacity=\"1\" stroke-width=\"3.2\"/>\n",
       "<circle clip-path=\"url(#clip882)\" cx=\"1585.49\" cy=\"1445.72\" r=\"14\" fill=\"#009af9\" fill-rule=\"evenodd\" fill-opacity=\"1\" stroke=\"#000000\" stroke-opacity=\"1\" stroke-width=\"3.2\"/>\n",
       "<circle clip-path=\"url(#clip882)\" cx=\"1606.25\" cy=\"1445.72\" r=\"14\" fill=\"#009af9\" fill-rule=\"evenodd\" fill-opacity=\"1\" stroke=\"#000000\" stroke-opacity=\"1\" stroke-width=\"3.2\"/>\n",
       "<circle clip-path=\"url(#clip882)\" cx=\"1627\" cy=\"1445.72\" r=\"14\" fill=\"#009af9\" fill-rule=\"evenodd\" fill-opacity=\"1\" stroke=\"#000000\" stroke-opacity=\"1\" stroke-width=\"3.2\"/>\n",
       "<circle clip-path=\"url(#clip882)\" cx=\"1647.75\" cy=\"87.9763\" r=\"14\" fill=\"#009af9\" fill-rule=\"evenodd\" fill-opacity=\"1\" stroke=\"#000000\" stroke-opacity=\"1\" stroke-width=\"3.2\"/>\n",
       "<circle clip-path=\"url(#clip882)\" cx=\"1668.51\" cy=\"1445.72\" r=\"14\" fill=\"#009af9\" fill-rule=\"evenodd\" fill-opacity=\"1\" stroke=\"#000000\" stroke-opacity=\"1\" stroke-width=\"3.2\"/>\n",
       "<circle clip-path=\"url(#clip882)\" cx=\"1689.26\" cy=\"1445.72\" r=\"14\" fill=\"#009af9\" fill-rule=\"evenodd\" fill-opacity=\"1\" stroke=\"#000000\" stroke-opacity=\"1\" stroke-width=\"3.2\"/>\n",
       "<circle clip-path=\"url(#clip882)\" cx=\"1710.01\" cy=\"1445.72\" r=\"14\" fill=\"#009af9\" fill-rule=\"evenodd\" fill-opacity=\"1\" stroke=\"#000000\" stroke-opacity=\"1\" stroke-width=\"3.2\"/>\n",
       "<circle clip-path=\"url(#clip882)\" cx=\"1730.77\" cy=\"1445.72\" r=\"14\" fill=\"#009af9\" fill-rule=\"evenodd\" fill-opacity=\"1\" stroke=\"#000000\" stroke-opacity=\"1\" stroke-width=\"3.2\"/>\n",
       "<circle clip-path=\"url(#clip882)\" cx=\"1751.52\" cy=\"1445.72\" r=\"14\" fill=\"#009af9\" fill-rule=\"evenodd\" fill-opacity=\"1\" stroke=\"#000000\" stroke-opacity=\"1\" stroke-width=\"3.2\"/>\n",
       "<circle clip-path=\"url(#clip882)\" cx=\"1772.27\" cy=\"1445.72\" r=\"14\" fill=\"#009af9\" fill-rule=\"evenodd\" fill-opacity=\"1\" stroke=\"#000000\" stroke-opacity=\"1\" stroke-width=\"3.2\"/>\n",
       "<circle clip-path=\"url(#clip882)\" cx=\"1793.03\" cy=\"1445.72\" r=\"14\" fill=\"#009af9\" fill-rule=\"evenodd\" fill-opacity=\"1\" stroke=\"#000000\" stroke-opacity=\"1\" stroke-width=\"3.2\"/>\n",
       "<circle clip-path=\"url(#clip882)\" cx=\"1813.78\" cy=\"1445.72\" r=\"14\" fill=\"#009af9\" fill-rule=\"evenodd\" fill-opacity=\"1\" stroke=\"#000000\" stroke-opacity=\"1\" stroke-width=\"3.2\"/>\n",
       "<circle clip-path=\"url(#clip882)\" cx=\"1834.54\" cy=\"1445.72\" r=\"14\" fill=\"#009af9\" fill-rule=\"evenodd\" fill-opacity=\"1\" stroke=\"#000000\" stroke-opacity=\"1\" stroke-width=\"3.2\"/>\n",
       "<circle clip-path=\"url(#clip882)\" cx=\"1855.29\" cy=\"1445.72\" r=\"14\" fill=\"#009af9\" fill-rule=\"evenodd\" fill-opacity=\"1\" stroke=\"#000000\" stroke-opacity=\"1\" stroke-width=\"3.2\"/>\n",
       "<circle clip-path=\"url(#clip882)\" cx=\"1876.04\" cy=\"87.9763\" r=\"14\" fill=\"#009af9\" fill-rule=\"evenodd\" fill-opacity=\"1\" stroke=\"#000000\" stroke-opacity=\"1\" stroke-width=\"3.2\"/>\n",
       "<circle clip-path=\"url(#clip882)\" cx=\"1896.8\" cy=\"87.9763\" r=\"14\" fill=\"#009af9\" fill-rule=\"evenodd\" fill-opacity=\"1\" stroke=\"#000000\" stroke-opacity=\"1\" stroke-width=\"3.2\"/>\n",
       "<circle clip-path=\"url(#clip882)\" cx=\"1917.55\" cy=\"1445.72\" r=\"14\" fill=\"#009af9\" fill-rule=\"evenodd\" fill-opacity=\"1\" stroke=\"#000000\" stroke-opacity=\"1\" stroke-width=\"3.2\"/>\n",
       "<circle clip-path=\"url(#clip882)\" cx=\"1938.3\" cy=\"1445.72\" r=\"14\" fill=\"#009af9\" fill-rule=\"evenodd\" fill-opacity=\"1\" stroke=\"#000000\" stroke-opacity=\"1\" stroke-width=\"3.2\"/>\n",
       "<circle clip-path=\"url(#clip882)\" cx=\"1959.06\" cy=\"1445.72\" r=\"14\" fill=\"#009af9\" fill-rule=\"evenodd\" fill-opacity=\"1\" stroke=\"#000000\" stroke-opacity=\"1\" stroke-width=\"3.2\"/>\n",
       "<circle clip-path=\"url(#clip882)\" cx=\"1979.81\" cy=\"87.9763\" r=\"14\" fill=\"#009af9\" fill-rule=\"evenodd\" fill-opacity=\"1\" stroke=\"#000000\" stroke-opacity=\"1\" stroke-width=\"3.2\"/>\n",
       "<circle clip-path=\"url(#clip882)\" cx=\"2000.57\" cy=\"1445.72\" r=\"14\" fill=\"#009af9\" fill-rule=\"evenodd\" fill-opacity=\"1\" stroke=\"#000000\" stroke-opacity=\"1\" stroke-width=\"3.2\"/>\n",
       "<circle clip-path=\"url(#clip882)\" cx=\"2021.32\" cy=\"1445.72\" r=\"14\" fill=\"#009af9\" fill-rule=\"evenodd\" fill-opacity=\"1\" stroke=\"#000000\" stroke-opacity=\"1\" stroke-width=\"3.2\"/>\n",
       "<circle clip-path=\"url(#clip882)\" cx=\"2042.07\" cy=\"1445.72\" r=\"14\" fill=\"#009af9\" fill-rule=\"evenodd\" fill-opacity=\"1\" stroke=\"#000000\" stroke-opacity=\"1\" stroke-width=\"3.2\"/>\n",
       "<circle clip-path=\"url(#clip882)\" cx=\"2062.83\" cy=\"87.9763\" r=\"14\" fill=\"#009af9\" fill-rule=\"evenodd\" fill-opacity=\"1\" stroke=\"#000000\" stroke-opacity=\"1\" stroke-width=\"3.2\"/>\n",
       "<circle clip-path=\"url(#clip882)\" cx=\"2083.58\" cy=\"87.9763\" r=\"14\" fill=\"#009af9\" fill-rule=\"evenodd\" fill-opacity=\"1\" stroke=\"#000000\" stroke-opacity=\"1\" stroke-width=\"3.2\"/>\n",
       "<circle clip-path=\"url(#clip882)\" cx=\"2104.33\" cy=\"1445.72\" r=\"14\" fill=\"#009af9\" fill-rule=\"evenodd\" fill-opacity=\"1\" stroke=\"#000000\" stroke-opacity=\"1\" stroke-width=\"3.2\"/>\n",
       "<circle clip-path=\"url(#clip882)\" cx=\"2125.09\" cy=\"1445.72\" r=\"14\" fill=\"#009af9\" fill-rule=\"evenodd\" fill-opacity=\"1\" stroke=\"#000000\" stroke-opacity=\"1\" stroke-width=\"3.2\"/>\n",
       "<circle clip-path=\"url(#clip882)\" cx=\"2145.84\" cy=\"1445.72\" r=\"14\" fill=\"#009af9\" fill-rule=\"evenodd\" fill-opacity=\"1\" stroke=\"#000000\" stroke-opacity=\"1\" stroke-width=\"3.2\"/>\n",
       "<circle clip-path=\"url(#clip882)\" cx=\"2166.6\" cy=\"1445.72\" r=\"14\" fill=\"#009af9\" fill-rule=\"evenodd\" fill-opacity=\"1\" stroke=\"#000000\" stroke-opacity=\"1\" stroke-width=\"3.2\"/>\n",
       "<circle clip-path=\"url(#clip882)\" cx=\"2187.35\" cy=\"87.9763\" r=\"14\" fill=\"#009af9\" fill-rule=\"evenodd\" fill-opacity=\"1\" stroke=\"#000000\" stroke-opacity=\"1\" stroke-width=\"3.2\"/>\n",
       "<circle clip-path=\"url(#clip882)\" cx=\"2208.1\" cy=\"1445.72\" r=\"14\" fill=\"#009af9\" fill-rule=\"evenodd\" fill-opacity=\"1\" stroke=\"#000000\" stroke-opacity=\"1\" stroke-width=\"3.2\"/>\n",
       "<circle clip-path=\"url(#clip882)\" cx=\"2228.86\" cy=\"1445.72\" r=\"14\" fill=\"#009af9\" fill-rule=\"evenodd\" fill-opacity=\"1\" stroke=\"#000000\" stroke-opacity=\"1\" stroke-width=\"3.2\"/>\n",
       "<circle clip-path=\"url(#clip882)\" cx=\"2249.61\" cy=\"1445.72\" r=\"14\" fill=\"#009af9\" fill-rule=\"evenodd\" fill-opacity=\"1\" stroke=\"#000000\" stroke-opacity=\"1\" stroke-width=\"3.2\"/>\n",
       "<circle clip-path=\"url(#clip882)\" cx=\"2270.36\" cy=\"1445.72\" r=\"14\" fill=\"#009af9\" fill-rule=\"evenodd\" fill-opacity=\"1\" stroke=\"#000000\" stroke-opacity=\"1\" stroke-width=\"3.2\"/>\n",
       "<circle clip-path=\"url(#clip882)\" cx=\"2291.12\" cy=\"87.9763\" r=\"14\" fill=\"#009af9\" fill-rule=\"evenodd\" fill-opacity=\"1\" stroke=\"#000000\" stroke-opacity=\"1\" stroke-width=\"3.2\"/>\n",
       "<path clip-path=\"url(#clip880)\" d=\"\n",
       "M1987.15 216.178 L2280.16 216.178 L2280.16 95.2176 L1987.15 95.2176  Z\n",
       "  \" fill=\"#ffffff\" fill-rule=\"evenodd\" fill-opacity=\"1\"/>\n",
       "<polyline clip-path=\"url(#clip880)\" style=\"stroke:#000000; stroke-width:4; stroke-opacity:1; fill:none\" points=\"\n",
       "  1987.15,216.178 2280.16,216.178 2280.16,95.2176 1987.15,95.2176 1987.15,216.178 \n",
       "  \"/>\n",
       "<circle clip-path=\"url(#clip880)\" cx=\"2083.95\" cy=\"155.698\" r=\"23\" fill=\"#009af9\" fill-rule=\"evenodd\" fill-opacity=\"1\" stroke=\"#000000\" stroke-opacity=\"1\" stroke-width=\"5.12\"/>\n",
       "<path clip-path=\"url(#clip880)\" d=\"M 0 0 M2194.59 175.385 Q2192.78 180.015 2191.07 181.427 Q2189.35 182.839 2186.48 182.839 L2183.08 182.839 L2183.08 179.274 L2185.58 179.274 Q2187.34 179.274 2188.31 178.44 Q2189.29 177.607 2190.47 174.505 L2191.23 172.561 L2180.74 147.052 L2185.26 147.052 L2193.36 167.329 L2201.46 147.052 L2205.97 147.052 L2194.59 175.385 Z\" fill=\"#000000\" fill-rule=\"evenodd\" fill-opacity=\"1\" /><path clip-path=\"url(#clip880)\" d=\"M 0 0 M2211.85 169.042 L2219.49 169.042 L2219.49 142.677 L2211.18 144.343 L2211.18 140.084 L2219.45 138.418 L2224.12 138.418 L2224.12 169.042 L2231.76 169.042 L2231.76 172.978 L2211.85 172.978 L2211.85 169.042 Z\" fill=\"#000000\" fill-rule=\"evenodd\" fill-opacity=\"1\" /></svg>\n"
      ]
     },
     "execution_count": 44,
     "metadata": {},
     "output_type": "execute_result"
    }
   ],
   "source": [
    "scatter(trials)"
   ]
  },
  {
   "cell_type": "code",
   "execution_count": 48,
   "metadata": {},
   "outputs": [
    {
     "data": {
      "text/plain": [
       "24"
      ]
     },
     "execution_count": 48,
     "metadata": {},
     "output_type": "execute_result"
    }
   ],
   "source": [
    "count(trials)"
   ]
  },
  {
   "cell_type": "code",
   "execution_count": 51,
   "metadata": {},
   "outputs": [
    {
     "data": {
      "text/plain": [
       "76"
      ]
     },
     "execution_count": 51,
     "metadata": {},
     "output_type": "execute_result"
    }
   ],
   "source": [
    "count(trials .== false)"
   ]
  },
  {
   "cell_type": "code",
   "execution_count": 53,
   "metadata": {},
   "outputs": [
    {
     "data": {
      "text/plain": [
       "76"
      ]
     },
     "execution_count": 53,
     "metadata": {},
     "output_type": "execute_result"
    }
   ],
   "source": [
    "count(.!(trials)) # ! is not"
   ]
  },
  {
   "cell_type": "code",
   "execution_count": 54,
   "metadata": {},
   "outputs": [
    {
     "data": {
      "text/plain": [
       "bernoulli_experiment (generic function with 2 methods)"
      ]
     },
     "execution_count": 54,
     "metadata": {},
     "output_type": "execute_result"
    }
   ],
   "source": [
    "function bernoulli_experiment(p, N=100)\n",
    "    trials = [bernoulli(p) for i in 1:N];\n",
    "    return count(trials)\n",
    "end"
   ]
  },
  {
   "cell_type": "code",
   "execution_count": 56,
   "metadata": {},
   "outputs": [
    {
     "data": {
      "text/plain": [
       "26"
      ]
     },
     "execution_count": 56,
     "metadata": {},
     "output_type": "execute_result"
    }
   ],
   "source": [
    "bernoulli_experiment(0.25)"
   ]
  },
  {
   "cell_type": "markdown",
   "metadata": {},
   "source": [
    "A function which has different **outcomes** in different runs is called a **random variable**"
   ]
  },
  {
   "cell_type": "markdown",
   "metadata": {},
   "source": [
    "## Monte Carlo Simulation\n",
    "\n",
    "Run the same random process a lot of times and look at the results"
   ]
  },
  {
   "cell_type": "code",
   "execution_count": 60,
   "metadata": {},
   "outputs": [
    {
     "data": {
      "image/svg+xml": [
       "<?xml version=\"1.0\" encoding=\"utf-8\"?>\n",
       "<svg xmlns=\"http://www.w3.org/2000/svg\" xmlns:xlink=\"http://www.w3.org/1999/xlink\" width=\"600\" height=\"400\" viewBox=\"0 0 2400 1600\">\n",
       "<defs>\n",
       "  <clipPath id=\"clip960\">\n",
       "    <rect x=\"0\" y=\"0\" width=\"2400\" height=\"1600\"/>\n",
       "  </clipPath>\n",
       "</defs>\n",
       "<path clip-path=\"url(#clip960)\" d=\"\n",
       "M0 1600 L2400 1600 L2400 0 L0 0  Z\n",
       "  \" fill=\"#ffffff\" fill-rule=\"evenodd\" fill-opacity=\"1\"/>\n",
       "<defs>\n",
       "  <clipPath id=\"clip961\">\n",
       "    <rect x=\"480\" y=\"0\" width=\"1681\" height=\"1600\"/>\n",
       "  </clipPath>\n",
       "</defs>\n",
       "<path clip-path=\"url(#clip960)\" d=\"\n",
       "M134.584 1486.45 L2352.76 1486.45 L2352.76 47.2441 L134.584 47.2441  Z\n",
       "  \" fill=\"#ffffff\" fill-rule=\"evenodd\" fill-opacity=\"1\"/>\n",
       "<defs>\n",
       "  <clipPath id=\"clip962\">\n",
       "    <rect x=\"134\" y=\"47\" width=\"2219\" height=\"1440\"/>\n",
       "  </clipPath>\n",
       "</defs>\n",
       "<polyline clip-path=\"url(#clip962)\" style=\"stroke:#000000; stroke-width:2; stroke-opacity:0.1; fill:none\" points=\"\n",
       "  195.268,1486.45 195.268,47.2441 \n",
       "  \"/>\n",
       "<polyline clip-path=\"url(#clip962)\" style=\"stroke:#000000; stroke-width:2; stroke-opacity:0.1; fill:none\" points=\"\n",
       "  718.946,1486.45 718.946,47.2441 \n",
       "  \"/>\n",
       "<polyline clip-path=\"url(#clip962)\" style=\"stroke:#000000; stroke-width:2; stroke-opacity:0.1; fill:none\" points=\"\n",
       "  1242.62,1486.45 1242.62,47.2441 \n",
       "  \"/>\n",
       "<polyline clip-path=\"url(#clip962)\" style=\"stroke:#000000; stroke-width:2; stroke-opacity:0.1; fill:none\" points=\"\n",
       "  1766.3,1486.45 1766.3,47.2441 \n",
       "  \"/>\n",
       "<polyline clip-path=\"url(#clip962)\" style=\"stroke:#000000; stroke-width:2; stroke-opacity:0.1; fill:none\" points=\"\n",
       "  2289.98,1486.45 2289.98,47.2441 \n",
       "  \"/>\n",
       "<polyline clip-path=\"url(#clip960)\" style=\"stroke:#000000; stroke-width:4; stroke-opacity:1; fill:none\" points=\"\n",
       "  134.584,1486.45 2352.76,1486.45 \n",
       "  \"/>\n",
       "<polyline clip-path=\"url(#clip960)\" style=\"stroke:#000000; stroke-width:4; stroke-opacity:1; fill:none\" points=\"\n",
       "  195.268,1486.45 195.268,1469.18 \n",
       "  \"/>\n",
       "<polyline clip-path=\"url(#clip960)\" style=\"stroke:#000000; stroke-width:4; stroke-opacity:1; fill:none\" points=\"\n",
       "  718.946,1486.45 718.946,1469.18 \n",
       "  \"/>\n",
       "<polyline clip-path=\"url(#clip960)\" style=\"stroke:#000000; stroke-width:4; stroke-opacity:1; fill:none\" points=\"\n",
       "  1242.62,1486.45 1242.62,1469.18 \n",
       "  \"/>\n",
       "<polyline clip-path=\"url(#clip960)\" style=\"stroke:#000000; stroke-width:4; stroke-opacity:1; fill:none\" points=\"\n",
       "  1766.3,1486.45 1766.3,1469.18 \n",
       "  \"/>\n",
       "<polyline clip-path=\"url(#clip960)\" style=\"stroke:#000000; stroke-width:4; stroke-opacity:1; fill:none\" points=\"\n",
       "  2289.98,1486.45 2289.98,1469.18 \n",
       "  \"/>\n",
       "<path clip-path=\"url(#clip960)\" d=\"M 0 0 M195.268 1515.64 Q191.657 1515.64 189.828 1519.2 Q188.023 1522.75 188.023 1529.87 Q188.023 1536.98 189.828 1540.55 Q191.657 1544.09 195.268 1544.09 Q198.902 1544.09 200.708 1540.55 Q202.537 1536.98 202.537 1529.87 Q202.537 1522.75 200.708 1519.2 Q198.902 1515.64 195.268 1515.64 M195.268 1511.93 Q201.078 1511.93 204.134 1516.54 Q207.213 1521.12 207.213 1529.87 Q207.213 1538.6 204.134 1543.21 Q201.078 1547.79 195.268 1547.79 Q189.458 1547.79 186.379 1543.21 Q183.324 1538.6 183.324 1529.87 Q183.324 1521.12 186.379 1516.54 Q189.458 1511.93 195.268 1511.93 Z\" fill=\"#000000\" fill-rule=\"evenodd\" fill-opacity=\"1\" /><path clip-path=\"url(#clip960)\" d=\"M 0 0 M687.082 1543.18 L703.402 1543.18 L703.402 1547.12 L681.457 1547.12 L681.457 1543.18 Q684.119 1540.43 688.703 1535.8 Q693.309 1531.15 694.49 1529.81 Q696.735 1527.28 697.615 1525.55 Q698.517 1523.79 698.517 1522.1 Q698.517 1519.34 696.573 1517.61 Q694.652 1515.87 691.55 1515.87 Q689.351 1515.87 686.897 1516.63 Q684.467 1517.4 681.689 1518.95 L681.689 1514.23 Q684.513 1513.09 686.967 1512.51 Q689.42 1511.93 691.457 1511.93 Q696.828 1511.93 700.022 1514.62 Q703.216 1517.31 703.216 1521.8 Q703.216 1523.93 702.406 1525.85 Q701.619 1527.74 699.513 1530.34 Q698.934 1531.01 695.832 1534.23 Q692.73 1537.42 687.082 1543.18 Z\" fill=\"#000000\" fill-rule=\"evenodd\" fill-opacity=\"1\" /><path clip-path=\"url(#clip960)\" d=\"M 0 0 M708.517 1512.56 L726.874 1512.56 L726.874 1516.5 L712.8 1516.5 L712.8 1524.97 Q713.818 1524.62 714.837 1524.46 Q715.855 1524.27 716.874 1524.27 Q722.661 1524.27 726.04 1527.44 Q729.42 1530.62 729.42 1536.03 Q729.42 1541.61 725.948 1544.71 Q722.476 1547.79 716.156 1547.79 Q713.98 1547.79 711.712 1547.42 Q709.466 1547.05 707.059 1546.31 L707.059 1541.61 Q709.142 1542.74 711.365 1543.3 Q713.587 1543.86 716.064 1543.86 Q720.068 1543.86 722.406 1541.75 Q724.744 1539.64 724.744 1536.03 Q724.744 1532.42 722.406 1530.31 Q720.068 1528.21 716.064 1528.21 Q714.189 1528.21 712.314 1528.62 Q710.462 1529.04 708.517 1529.92 L708.517 1512.56 Z\" fill=\"#000000\" fill-rule=\"evenodd\" fill-opacity=\"1\" /><path clip-path=\"url(#clip960)\" d=\"M 0 0 M744.489 1515.64 Q740.878 1515.64 739.05 1519.2 Q737.244 1522.75 737.244 1529.87 Q737.244 1536.98 739.05 1540.55 Q740.878 1544.09 744.489 1544.09 Q748.124 1544.09 749.929 1540.55 Q751.758 1536.98 751.758 1529.87 Q751.758 1522.75 749.929 1519.2 Q748.124 1515.64 744.489 1515.64 M744.489 1511.93 Q750.3 1511.93 753.355 1516.54 Q756.434 1521.12 756.434 1529.87 Q756.434 1538.6 753.355 1543.21 Q750.3 1547.79 744.489 1547.79 Q738.679 1547.79 735.601 1543.21 Q732.545 1538.6 732.545 1529.87 Q732.545 1521.12 735.601 1516.54 Q738.679 1511.93 744.489 1511.93 Z\" fill=\"#000000\" fill-rule=\"evenodd\" fill-opacity=\"1\" /><path clip-path=\"url(#clip960)\" d=\"M 0 0 M1205.89 1512.56 L1224.24 1512.56 L1224.24 1516.5 L1210.17 1516.5 L1210.17 1524.97 Q1211.19 1524.62 1212.21 1524.46 Q1213.22 1524.27 1214.24 1524.27 Q1220.03 1524.27 1223.41 1527.44 Q1226.79 1530.62 1226.79 1536.03 Q1226.79 1541.61 1223.32 1544.71 Q1219.85 1547.79 1213.53 1547.79 Q1211.35 1547.79 1209.08 1547.42 Q1206.84 1547.05 1204.43 1546.31 L1204.43 1541.61 Q1206.51 1542.74 1208.73 1543.3 Q1210.96 1543.86 1213.43 1543.86 Q1217.44 1543.86 1219.78 1541.75 Q1222.11 1539.64 1222.11 1536.03 Q1222.11 1532.42 1219.78 1530.31 Q1217.44 1528.21 1213.43 1528.21 Q1211.56 1528.21 1209.68 1528.62 Q1207.83 1529.04 1205.89 1529.92 L1205.89 1512.56 Z\" fill=\"#000000\" fill-rule=\"evenodd\" fill-opacity=\"1\" /><path clip-path=\"url(#clip960)\" d=\"M 0 0 M1241.86 1515.64 Q1238.25 1515.64 1236.42 1519.2 Q1234.61 1522.75 1234.61 1529.87 Q1234.61 1536.98 1236.42 1540.55 Q1238.25 1544.09 1241.86 1544.09 Q1245.49 1544.09 1247.3 1540.55 Q1249.13 1536.98 1249.13 1529.87 Q1249.13 1522.75 1247.3 1519.2 Q1245.49 1515.64 1241.86 1515.64 M1241.86 1511.93 Q1247.67 1511.93 1250.72 1516.54 Q1253.8 1521.12 1253.8 1529.87 Q1253.8 1538.6 1250.72 1543.21 Q1247.67 1547.79 1241.86 1547.79 Q1236.05 1547.79 1232.97 1543.21 Q1229.91 1538.6 1229.91 1529.87 Q1229.91 1521.12 1232.97 1516.54 Q1236.05 1511.93 1241.86 1511.93 Z\" fill=\"#000000\" fill-rule=\"evenodd\" fill-opacity=\"1\" /><path clip-path=\"url(#clip960)\" d=\"M 0 0 M1268.87 1515.64 Q1265.26 1515.64 1263.43 1519.2 Q1261.63 1522.75 1261.63 1529.87 Q1261.63 1536.98 1263.43 1540.55 Q1265.26 1544.09 1268.87 1544.09 Q1272.51 1544.09 1274.31 1540.55 Q1276.14 1536.98 1276.14 1529.87 Q1276.14 1522.75 1274.31 1519.2 Q1272.51 1515.64 1268.87 1515.64 M1268.87 1511.93 Q1274.68 1511.93 1277.74 1516.54 Q1280.82 1521.12 1280.82 1529.87 Q1280.82 1538.6 1277.74 1543.21 Q1274.68 1547.79 1268.87 1547.79 Q1263.06 1547.79 1259.98 1543.21 Q1256.93 1538.6 1256.93 1529.87 Q1256.93 1521.12 1259.98 1516.54 Q1263.06 1511.93 1268.87 1511.93 Z\" fill=\"#000000\" fill-rule=\"evenodd\" fill-opacity=\"1\" /><path clip-path=\"url(#clip960)\" d=\"M 0 0 M1728.67 1512.56 L1750.9 1512.56 L1750.9 1514.55 L1738.35 1547.12 L1733.46 1547.12 L1745.27 1516.5 L1728.67 1516.5 L1728.67 1512.56 Z\" fill=\"#000000\" fill-rule=\"evenodd\" fill-opacity=\"1\" /><path clip-path=\"url(#clip960)\" d=\"M 0 0 M1756.01 1512.56 L1774.37 1512.56 L1774.37 1516.5 L1760.29 1516.5 L1760.29 1524.97 Q1761.31 1524.62 1762.33 1524.46 Q1763.35 1524.27 1764.37 1524.27 Q1770.15 1524.27 1773.53 1527.44 Q1776.91 1530.62 1776.91 1536.03 Q1776.91 1541.61 1773.44 1544.71 Q1769.97 1547.79 1763.65 1547.79 Q1761.47 1547.79 1759.21 1547.42 Q1756.96 1547.05 1754.55 1546.31 L1754.55 1541.61 Q1756.64 1542.74 1758.86 1543.3 Q1761.08 1543.86 1763.56 1543.86 Q1767.56 1543.86 1769.9 1541.75 Q1772.24 1539.64 1772.24 1536.03 Q1772.24 1532.42 1769.9 1530.31 Q1767.56 1528.21 1763.56 1528.21 Q1761.68 1528.21 1759.81 1528.62 Q1757.96 1529.04 1756.01 1529.92 L1756.01 1512.56 Z\" fill=\"#000000\" fill-rule=\"evenodd\" fill-opacity=\"1\" /><path clip-path=\"url(#clip960)\" d=\"M 0 0 M1791.98 1515.64 Q1788.37 1515.64 1786.54 1519.2 Q1784.74 1522.75 1784.74 1529.87 Q1784.74 1536.98 1786.54 1540.55 Q1788.37 1544.09 1791.98 1544.09 Q1795.62 1544.09 1797.42 1540.55 Q1799.25 1536.98 1799.25 1529.87 Q1799.25 1522.75 1797.42 1519.2 Q1795.62 1515.64 1791.98 1515.64 M1791.98 1511.93 Q1797.79 1511.93 1800.85 1516.54 Q1803.93 1521.12 1803.93 1529.87 Q1803.93 1538.6 1800.85 1543.21 Q1797.79 1547.79 1791.98 1547.79 Q1786.17 1547.79 1783.09 1543.21 Q1780.04 1538.6 1780.04 1529.87 Q1780.04 1521.12 1783.09 1516.54 Q1786.17 1511.93 1791.98 1511.93 Z\" fill=\"#000000\" fill-rule=\"evenodd\" fill-opacity=\"1\" /><path clip-path=\"url(#clip960)\" d=\"M 0 0 M2239.84 1543.18 L2247.48 1543.18 L2247.48 1516.82 L2239.17 1518.49 L2239.17 1514.23 L2247.43 1512.56 L2252.11 1512.56 L2252.11 1543.18 L2259.75 1543.18 L2259.75 1547.12 L2239.84 1547.12 L2239.84 1543.18 Z\" fill=\"#000000\" fill-rule=\"evenodd\" fill-opacity=\"1\" /><path clip-path=\"url(#clip960)\" d=\"M 0 0 M2274.82 1515.64 Q2271.2 1515.64 2269.38 1519.2 Q2267.57 1522.75 2267.57 1529.87 Q2267.57 1536.98 2269.38 1540.55 Q2271.2 1544.09 2274.82 1544.09 Q2278.45 1544.09 2280.26 1540.55 Q2282.08 1536.98 2282.08 1529.87 Q2282.08 1522.75 2280.26 1519.2 Q2278.45 1515.64 2274.82 1515.64 M2274.82 1511.93 Q2280.63 1511.93 2283.68 1516.54 Q2286.76 1521.12 2286.76 1529.87 Q2286.76 1538.6 2283.68 1543.21 Q2280.63 1547.79 2274.82 1547.79 Q2269.01 1547.79 2265.93 1543.21 Q2262.87 1538.6 2262.87 1529.87 Q2262.87 1521.12 2265.93 1516.54 Q2269.01 1511.93 2274.82 1511.93 Z\" fill=\"#000000\" fill-rule=\"evenodd\" fill-opacity=\"1\" /><path clip-path=\"url(#clip960)\" d=\"M 0 0 M2301.83 1515.64 Q2298.22 1515.64 2296.39 1519.2 Q2294.58 1522.75 2294.58 1529.87 Q2294.58 1536.98 2296.39 1540.55 Q2298.22 1544.09 2301.83 1544.09 Q2305.46 1544.09 2307.27 1540.55 Q2309.1 1536.98 2309.1 1529.87 Q2309.1 1522.75 2307.27 1519.2 Q2305.46 1515.64 2301.83 1515.64 M2301.83 1511.93 Q2307.64 1511.93 2310.69 1516.54 Q2313.77 1521.12 2313.77 1529.87 Q2313.77 1538.6 2310.69 1543.21 Q2307.64 1547.79 2301.83 1547.79 Q2296.02 1547.79 2292.94 1543.21 Q2289.88 1538.6 2289.88 1529.87 Q2289.88 1521.12 2292.94 1516.54 Q2296.02 1511.93 2301.83 1511.93 Z\" fill=\"#000000\" fill-rule=\"evenodd\" fill-opacity=\"1\" /><path clip-path=\"url(#clip960)\" d=\"M 0 0 M2328.84 1515.64 Q2325.23 1515.64 2323.4 1519.2 Q2321.6 1522.75 2321.6 1529.87 Q2321.6 1536.98 2323.4 1540.55 Q2325.23 1544.09 2328.84 1544.09 Q2332.48 1544.09 2334.28 1540.55 Q2336.11 1536.98 2336.11 1529.87 Q2336.11 1522.75 2334.28 1519.2 Q2332.48 1515.64 2328.84 1515.64 M2328.84 1511.93 Q2334.65 1511.93 2337.71 1516.54 Q2340.79 1521.12 2340.79 1529.87 Q2340.79 1538.6 2337.71 1543.21 Q2334.65 1547.79 2328.84 1547.79 Q2323.03 1547.79 2319.95 1543.21 Q2316.9 1538.6 2316.9 1529.87 Q2316.9 1521.12 2319.95 1516.54 Q2323.03 1511.93 2328.84 1511.93 Z\" fill=\"#000000\" fill-rule=\"evenodd\" fill-opacity=\"1\" /><polyline clip-path=\"url(#clip962)\" style=\"stroke:#000000; stroke-width:2; stroke-opacity:0.1; fill:none\" points=\"\n",
       "  134.584,1445.72 2352.76,1445.72 \n",
       "  \"/>\n",
       "<polyline clip-path=\"url(#clip962)\" style=\"stroke:#000000; stroke-width:2; stroke-opacity:0.1; fill:none\" points=\"\n",
       "  134.584,1236.83 2352.76,1236.83 \n",
       "  \"/>\n",
       "<polyline clip-path=\"url(#clip962)\" style=\"stroke:#000000; stroke-width:2; stroke-opacity:0.1; fill:none\" points=\"\n",
       "  134.584,1027.95 2352.76,1027.95 \n",
       "  \"/>\n",
       "<polyline clip-path=\"url(#clip962)\" style=\"stroke:#000000; stroke-width:2; stroke-opacity:0.1; fill:none\" points=\"\n",
       "  134.584,819.067 2352.76,819.067 \n",
       "  \"/>\n",
       "<polyline clip-path=\"url(#clip962)\" style=\"stroke:#000000; stroke-width:2; stroke-opacity:0.1; fill:none\" points=\"\n",
       "  134.584,610.184 2352.76,610.184 \n",
       "  \"/>\n",
       "<polyline clip-path=\"url(#clip962)\" style=\"stroke:#000000; stroke-width:2; stroke-opacity:0.1; fill:none\" points=\"\n",
       "  134.584,401.301 2352.76,401.301 \n",
       "  \"/>\n",
       "<polyline clip-path=\"url(#clip962)\" style=\"stroke:#000000; stroke-width:2; stroke-opacity:0.1; fill:none\" points=\"\n",
       "  134.584,192.418 2352.76,192.418 \n",
       "  \"/>\n",
       "<polyline clip-path=\"url(#clip960)\" style=\"stroke:#000000; stroke-width:4; stroke-opacity:1; fill:none\" points=\"\n",
       "  134.584,1486.45 134.584,47.2441 \n",
       "  \"/>\n",
       "<polyline clip-path=\"url(#clip960)\" style=\"stroke:#000000; stroke-width:4; stroke-opacity:1; fill:none\" points=\"\n",
       "  134.584,1445.72 161.203,1445.72 \n",
       "  \"/>\n",
       "<polyline clip-path=\"url(#clip960)\" style=\"stroke:#000000; stroke-width:4; stroke-opacity:1; fill:none\" points=\"\n",
       "  134.584,1236.83 161.203,1236.83 \n",
       "  \"/>\n",
       "<polyline clip-path=\"url(#clip960)\" style=\"stroke:#000000; stroke-width:4; stroke-opacity:1; fill:none\" points=\"\n",
       "  134.584,1027.95 161.203,1027.95 \n",
       "  \"/>\n",
       "<polyline clip-path=\"url(#clip960)\" style=\"stroke:#000000; stroke-width:4; stroke-opacity:1; fill:none\" points=\"\n",
       "  134.584,819.067 161.203,819.067 \n",
       "  \"/>\n",
       "<polyline clip-path=\"url(#clip960)\" style=\"stroke:#000000; stroke-width:4; stroke-opacity:1; fill:none\" points=\"\n",
       "  134.584,610.184 161.203,610.184 \n",
       "  \"/>\n",
       "<polyline clip-path=\"url(#clip960)\" style=\"stroke:#000000; stroke-width:4; stroke-opacity:1; fill:none\" points=\"\n",
       "  134.584,401.301 161.203,401.301 \n",
       "  \"/>\n",
       "<polyline clip-path=\"url(#clip960)\" style=\"stroke:#000000; stroke-width:4; stroke-opacity:1; fill:none\" points=\"\n",
       "  134.584,192.418 161.203,192.418 \n",
       "  \"/>\n",
       "<path clip-path=\"url(#clip960)\" d=\"M 0 0 M86.6401 1431.51 Q83.029 1431.51 81.2003 1435.08 Q79.3948 1438.62 79.3948 1445.75 Q79.3948 1452.86 81.2003 1456.42 Q83.029 1459.96 86.6401 1459.96 Q90.2743 1459.96 92.0799 1456.42 Q93.9086 1452.86 93.9086 1445.75 Q93.9086 1438.62 92.0799 1435.08 Q90.2743 1431.51 86.6401 1431.51 M86.6401 1427.81 Q92.4502 1427.81 95.5058 1432.42 Q98.5845 1437 98.5845 1445.75 Q98.5845 1454.48 95.5058 1459.08 Q92.4502 1463.67 86.6401 1463.67 Q80.8299 1463.67 77.7512 1459.08 Q74.6957 1454.48 74.6957 1445.75 Q74.6957 1437 77.7512 1432.42 Q80.8299 1427.81 86.6401 1427.81 Z\" fill=\"#000000\" fill-rule=\"evenodd\" fill-opacity=\"1\" /><path clip-path=\"url(#clip960)\" d=\"M 0 0 M82.2651 1250.18 L98.5845 1250.18 L98.5845 1254.11 L76.6401 1254.11 L76.6401 1250.18 Q79.3022 1247.42 83.8855 1242.79 Q88.4919 1238.14 89.6725 1236.8 Q91.9178 1234.27 92.7975 1232.54 Q93.7002 1230.78 93.7002 1229.09 Q93.7002 1226.34 91.7558 1224.6 Q89.8345 1222.86 86.7327 1222.86 Q84.5336 1222.86 82.0799 1223.63 Q79.6494 1224.39 76.8716 1225.94 L76.8716 1221.22 Q79.6957 1220.09 82.1494 1219.51 Q84.6031 1218.93 86.6401 1218.93 Q92.0104 1218.93 95.2049 1221.61 Q98.3993 1224.3 98.3993 1228.79 Q98.3993 1230.92 97.5891 1232.84 Q96.8021 1234.74 94.6956 1237.33 Q94.1169 1238 91.0151 1241.22 Q87.9132 1244.41 82.2651 1250.18 Z\" fill=\"#000000\" fill-rule=\"evenodd\" fill-opacity=\"1\" /><path clip-path=\"url(#clip960)\" d=\"M 0 0 M89.0012 1014.74 L77.1957 1033.19 L89.0012 1033.19 L89.0012 1014.74 M87.7743 1010.67 L93.6539 1010.67 L93.6539 1033.19 L98.5845 1033.19 L98.5845 1037.08 L93.6539 1037.08 L93.6539 1045.23 L89.0012 1045.23 L89.0012 1037.08 L73.3994 1037.08 L73.3994 1032.57 L87.7743 1010.67 Z\" fill=\"#000000\" fill-rule=\"evenodd\" fill-opacity=\"1\" /><path clip-path=\"url(#clip960)\" d=\"M 0 0 M87.0567 817.203 Q83.9086 817.203 82.0568 819.356 Q80.2281 821.509 80.2281 825.259 Q80.2281 828.986 82.0568 831.162 Q83.9086 833.314 87.0567 833.314 Q90.2049 833.314 92.0336 831.162 Q93.8854 828.986 93.8854 825.259 Q93.8854 821.509 92.0336 819.356 Q90.2049 817.203 87.0567 817.203 M96.3391 802.551 L96.3391 806.81 Q94.5799 805.977 92.7743 805.537 Q90.9919 805.097 89.2327 805.097 Q84.6031 805.097 82.1494 808.222 Q79.7188 811.347 79.3716 817.666 Q80.7373 815.652 82.7975 814.588 Q84.8577 813.5 87.3345 813.5 Q92.5428 813.5 95.5521 816.671 Q98.5845 819.819 98.5845 825.259 Q98.5845 830.583 95.4363 833.8 Q92.2882 837.018 87.0567 837.018 Q81.0614 837.018 77.8901 832.435 Q74.7189 827.828 74.7189 819.101 Q74.7189 810.907 78.6077 806.046 Q82.4966 801.162 89.0475 801.162 Q90.8067 801.162 92.5891 801.509 Q94.3947 801.856 96.3391 802.551 Z\" fill=\"#000000\" fill-rule=\"evenodd\" fill-opacity=\"1\" /><path clip-path=\"url(#clip960)\" d=\"M 0 0 M86.7327 611.052 Q83.3994 611.052 81.4781 612.834 Q79.5799 614.617 79.5799 617.742 Q79.5799 620.867 81.4781 622.649 Q83.3994 624.431 86.7327 624.431 Q90.066 624.431 91.9873 622.649 Q93.9086 620.843 93.9086 617.742 Q93.9086 614.617 91.9873 612.834 Q90.0891 611.052 86.7327 611.052 M82.0568 609.061 Q79.0475 608.32 77.3577 606.26 Q75.6911 604.2 75.6911 601.237 Q75.6911 597.094 78.6309 594.686 Q81.5938 592.279 86.7327 592.279 Q91.8947 592.279 94.8345 594.686 Q97.7743 597.094 97.7743 601.237 Q97.7743 604.2 96.0845 606.26 Q94.4178 608.32 91.4317 609.061 Q94.8113 609.848 96.6863 612.14 Q98.5845 614.431 98.5845 617.742 Q98.5845 622.765 95.5058 625.45 Q92.4502 628.135 86.7327 628.135 Q81.0151 628.135 77.9364 625.45 Q74.8809 622.765 74.8809 617.742 Q74.8809 614.431 76.779 612.14 Q78.6772 609.848 82.0568 609.061 M80.3438 601.677 Q80.3438 604.362 82.0105 605.867 Q83.7003 607.371 86.7327 607.371 Q89.7419 607.371 91.4317 605.867 Q93.1447 604.362 93.1447 601.677 Q93.1447 598.992 91.4317 597.487 Q89.7419 595.982 86.7327 595.982 Q83.7003 595.982 82.0105 597.487 Q80.3438 598.992 80.3438 601.677 Z\" fill=\"#000000\" fill-rule=\"evenodd\" fill-opacity=\"1\" /><path clip-path=\"url(#clip960)\" d=\"M 0 0 M51.6634 414.646 L59.3023 414.646 L59.3023 388.28 L50.9921 389.947 L50.9921 385.687 L59.256 384.021 L63.9319 384.021 L63.9319 414.646 L71.5707 414.646 L71.5707 418.581 L51.6634 418.581 L51.6634 414.646 Z\" fill=\"#000000\" fill-rule=\"evenodd\" fill-opacity=\"1\" /><path clip-path=\"url(#clip960)\" d=\"M 0 0 M86.6401 387.099 Q83.029 387.099 81.2003 390.664 Q79.3948 394.206 79.3948 401.335 Q79.3948 408.442 81.2003 412.007 Q83.029 415.548 86.6401 415.548 Q90.2743 415.548 92.0799 412.007 Q93.9086 408.442 93.9086 401.335 Q93.9086 394.206 92.0799 390.664 Q90.2743 387.099 86.6401 387.099 M86.6401 383.396 Q92.4502 383.396 95.5058 388.002 Q98.5845 392.586 98.5845 401.335 Q98.5845 410.062 95.5058 414.669 Q92.4502 419.252 86.6401 419.252 Q80.8299 419.252 77.7512 414.669 Q74.6957 410.062 74.6957 401.335 Q74.6957 392.586 77.7512 388.002 Q80.8299 383.396 86.6401 383.396 Z\" fill=\"#000000\" fill-rule=\"evenodd\" fill-opacity=\"1\" /><path clip-path=\"url(#clip960)\" d=\"M 0 0 M53.2606 205.763 L60.8995 205.763 L60.8995 179.397 L52.5893 181.064 L52.5893 176.804 L60.8532 175.138 L65.5291 175.138 L65.5291 205.763 L73.1679 205.763 L73.1679 209.698 L53.2606 209.698 L53.2606 205.763 Z\" fill=\"#000000\" fill-rule=\"evenodd\" fill-opacity=\"1\" /><path clip-path=\"url(#clip960)\" d=\"M 0 0 M82.2651 205.763 L98.5845 205.763 L98.5845 209.698 L76.6401 209.698 L76.6401 205.763 Q79.3022 203.008 83.8855 198.378 Q88.4919 193.726 89.6725 192.383 Q91.9178 189.86 92.7975 188.124 Q93.7002 186.365 93.7002 184.675 Q93.7002 181.92 91.7558 180.184 Q89.8345 178.448 86.7327 178.448 Q84.5336 178.448 82.0799 179.212 Q79.6494 179.976 76.8716 181.527 L76.8716 176.804 Q79.6957 175.67 82.1494 175.091 Q84.6031 174.513 86.6401 174.513 Q92.0104 174.513 95.2049 177.198 Q98.3993 179.883 98.3993 184.374 Q98.3993 186.503 97.5891 188.425 Q96.8021 190.323 94.6956 192.915 Q94.1169 193.587 91.0151 196.804 Q87.9132 199.999 82.2651 205.763 Z\" fill=\"#000000\" fill-rule=\"evenodd\" fill-opacity=\"1\" /><circle clip-path=\"url(#clip962)\" cx=\"197.363\" cy=\"1027.95\" r=\"14\" fill=\"#009af9\" fill-rule=\"evenodd\" fill-opacity=\"1\" stroke=\"#000000\" stroke-opacity=\"1\" stroke-width=\"3.2\"/>\n",
       "<circle clip-path=\"url(#clip962)\" cx=\"199.458\" cy=\"923.508\" r=\"14\" fill=\"#009af9\" fill-rule=\"evenodd\" fill-opacity=\"1\" stroke=\"#000000\" stroke-opacity=\"1\" stroke-width=\"3.2\"/>\n",
       "<circle clip-path=\"url(#clip962)\" cx=\"201.552\" cy=\"610.184\" r=\"14\" fill=\"#009af9\" fill-rule=\"evenodd\" fill-opacity=\"1\" stroke=\"#000000\" stroke-opacity=\"1\" stroke-width=\"3.2\"/>\n",
       "<circle clip-path=\"url(#clip962)\" cx=\"203.647\" cy=\"1027.95\" r=\"14\" fill=\"#009af9\" fill-rule=\"evenodd\" fill-opacity=\"1\" stroke=\"#000000\" stroke-opacity=\"1\" stroke-width=\"3.2\"/>\n",
       "<circle clip-path=\"url(#clip962)\" cx=\"205.742\" cy=\"819.067\" r=\"14\" fill=\"#009af9\" fill-rule=\"evenodd\" fill-opacity=\"1\" stroke=\"#000000\" stroke-opacity=\"1\" stroke-width=\"3.2\"/>\n",
       "<circle clip-path=\"url(#clip962)\" cx=\"207.836\" cy=\"1236.83\" r=\"14\" fill=\"#009af9\" fill-rule=\"evenodd\" fill-opacity=\"1\" stroke=\"#000000\" stroke-opacity=\"1\" stroke-width=\"3.2\"/>\n",
       "<circle clip-path=\"url(#clip962)\" cx=\"209.931\" cy=\"505.742\" r=\"14\" fill=\"#009af9\" fill-rule=\"evenodd\" fill-opacity=\"1\" stroke=\"#000000\" stroke-opacity=\"1\" stroke-width=\"3.2\"/>\n",
       "<circle clip-path=\"url(#clip962)\" cx=\"212.026\" cy=\"401.301\" r=\"14\" fill=\"#009af9\" fill-rule=\"evenodd\" fill-opacity=\"1\" stroke=\"#000000\" stroke-opacity=\"1\" stroke-width=\"3.2\"/>\n",
       "<circle clip-path=\"url(#clip962)\" cx=\"214.121\" cy=\"714.625\" r=\"14\" fill=\"#009af9\" fill-rule=\"evenodd\" fill-opacity=\"1\" stroke=\"#000000\" stroke-opacity=\"1\" stroke-width=\"3.2\"/>\n",
       "<circle clip-path=\"url(#clip962)\" cx=\"216.215\" cy=\"819.067\" r=\"14\" fill=\"#009af9\" fill-rule=\"evenodd\" fill-opacity=\"1\" stroke=\"#000000\" stroke-opacity=\"1\" stroke-width=\"3.2\"/>\n",
       "<circle clip-path=\"url(#clip962)\" cx=\"218.31\" cy=\"819.067\" r=\"14\" fill=\"#009af9\" fill-rule=\"evenodd\" fill-opacity=\"1\" stroke=\"#000000\" stroke-opacity=\"1\" stroke-width=\"3.2\"/>\n",
       "<circle clip-path=\"url(#clip962)\" cx=\"220.405\" cy=\"1132.39\" r=\"14\" fill=\"#009af9\" fill-rule=\"evenodd\" fill-opacity=\"1\" stroke=\"#000000\" stroke-opacity=\"1\" stroke-width=\"3.2\"/>\n",
       "<circle clip-path=\"url(#clip962)\" cx=\"222.499\" cy=\"1027.95\" r=\"14\" fill=\"#009af9\" fill-rule=\"evenodd\" fill-opacity=\"1\" stroke=\"#000000\" stroke-opacity=\"1\" stroke-width=\"3.2\"/>\n",
       "<circle clip-path=\"url(#clip962)\" cx=\"224.594\" cy=\"1132.39\" r=\"14\" fill=\"#009af9\" fill-rule=\"evenodd\" fill-opacity=\"1\" stroke=\"#000000\" stroke-opacity=\"1\" stroke-width=\"3.2\"/>\n",
       "<circle clip-path=\"url(#clip962)\" cx=\"226.689\" cy=\"610.184\" r=\"14\" fill=\"#009af9\" fill-rule=\"evenodd\" fill-opacity=\"1\" stroke=\"#000000\" stroke-opacity=\"1\" stroke-width=\"3.2\"/>\n",
       "<circle clip-path=\"url(#clip962)\" cx=\"228.784\" cy=\"923.508\" r=\"14\" fill=\"#009af9\" fill-rule=\"evenodd\" fill-opacity=\"1\" stroke=\"#000000\" stroke-opacity=\"1\" stroke-width=\"3.2\"/>\n",
       "<circle clip-path=\"url(#clip962)\" cx=\"230.878\" cy=\"1027.95\" r=\"14\" fill=\"#009af9\" fill-rule=\"evenodd\" fill-opacity=\"1\" stroke=\"#000000\" stroke-opacity=\"1\" stroke-width=\"3.2\"/>\n",
       "<circle clip-path=\"url(#clip962)\" cx=\"232.973\" cy=\"923.508\" r=\"14\" fill=\"#009af9\" fill-rule=\"evenodd\" fill-opacity=\"1\" stroke=\"#000000\" stroke-opacity=\"1\" stroke-width=\"3.2\"/>\n",
       "<circle clip-path=\"url(#clip962)\" cx=\"235.068\" cy=\"1236.83\" r=\"14\" fill=\"#009af9\" fill-rule=\"evenodd\" fill-opacity=\"1\" stroke=\"#000000\" stroke-opacity=\"1\" stroke-width=\"3.2\"/>\n",
       "<circle clip-path=\"url(#clip962)\" cx=\"237.162\" cy=\"923.508\" r=\"14\" fill=\"#009af9\" fill-rule=\"evenodd\" fill-opacity=\"1\" stroke=\"#000000\" stroke-opacity=\"1\" stroke-width=\"3.2\"/>\n",
       "<circle clip-path=\"url(#clip962)\" cx=\"239.257\" cy=\"610.184\" r=\"14\" fill=\"#009af9\" fill-rule=\"evenodd\" fill-opacity=\"1\" stroke=\"#000000\" stroke-opacity=\"1\" stroke-width=\"3.2\"/>\n",
       "<circle clip-path=\"url(#clip962)\" cx=\"241.352\" cy=\"923.508\" r=\"14\" fill=\"#009af9\" fill-rule=\"evenodd\" fill-opacity=\"1\" stroke=\"#000000\" stroke-opacity=\"1\" stroke-width=\"3.2\"/>\n",
       "<circle clip-path=\"url(#clip962)\" cx=\"243.447\" cy=\"714.625\" r=\"14\" fill=\"#009af9\" fill-rule=\"evenodd\" fill-opacity=\"1\" stroke=\"#000000\" stroke-opacity=\"1\" stroke-width=\"3.2\"/>\n",
       "<circle clip-path=\"url(#clip962)\" cx=\"245.541\" cy=\"1027.95\" r=\"14\" fill=\"#009af9\" fill-rule=\"evenodd\" fill-opacity=\"1\" stroke=\"#000000\" stroke-opacity=\"1\" stroke-width=\"3.2\"/>\n",
       "<circle clip-path=\"url(#clip962)\" cx=\"247.636\" cy=\"1027.95\" r=\"14\" fill=\"#009af9\" fill-rule=\"evenodd\" fill-opacity=\"1\" stroke=\"#000000\" stroke-opacity=\"1\" stroke-width=\"3.2\"/>\n",
       "<circle clip-path=\"url(#clip962)\" cx=\"249.731\" cy=\"1027.95\" r=\"14\" fill=\"#009af9\" fill-rule=\"evenodd\" fill-opacity=\"1\" stroke=\"#000000\" stroke-opacity=\"1\" stroke-width=\"3.2\"/>\n",
       "<circle clip-path=\"url(#clip962)\" cx=\"251.825\" cy=\"1236.83\" r=\"14\" fill=\"#009af9\" fill-rule=\"evenodd\" fill-opacity=\"1\" stroke=\"#000000\" stroke-opacity=\"1\" stroke-width=\"3.2\"/>\n",
       "<circle clip-path=\"url(#clip962)\" cx=\"253.92\" cy=\"819.067\" r=\"14\" fill=\"#009af9\" fill-rule=\"evenodd\" fill-opacity=\"1\" stroke=\"#000000\" stroke-opacity=\"1\" stroke-width=\"3.2\"/>\n",
       "<circle clip-path=\"url(#clip962)\" cx=\"256.015\" cy=\"819.067\" r=\"14\" fill=\"#009af9\" fill-rule=\"evenodd\" fill-opacity=\"1\" stroke=\"#000000\" stroke-opacity=\"1\" stroke-width=\"3.2\"/>\n",
       "<circle clip-path=\"url(#clip962)\" cx=\"258.109\" cy=\"1236.83\" r=\"14\" fill=\"#009af9\" fill-rule=\"evenodd\" fill-opacity=\"1\" stroke=\"#000000\" stroke-opacity=\"1\" stroke-width=\"3.2\"/>\n",
       "<circle clip-path=\"url(#clip962)\" cx=\"260.204\" cy=\"1027.95\" r=\"14\" fill=\"#009af9\" fill-rule=\"evenodd\" fill-opacity=\"1\" stroke=\"#000000\" stroke-opacity=\"1\" stroke-width=\"3.2\"/>\n",
       "<circle clip-path=\"url(#clip962)\" cx=\"262.299\" cy=\"819.067\" r=\"14\" fill=\"#009af9\" fill-rule=\"evenodd\" fill-opacity=\"1\" stroke=\"#000000\" stroke-opacity=\"1\" stroke-width=\"3.2\"/>\n",
       "<circle clip-path=\"url(#clip962)\" cx=\"264.394\" cy=\"1132.39\" r=\"14\" fill=\"#009af9\" fill-rule=\"evenodd\" fill-opacity=\"1\" stroke=\"#000000\" stroke-opacity=\"1\" stroke-width=\"3.2\"/>\n",
       "<circle clip-path=\"url(#clip962)\" cx=\"266.488\" cy=\"401.301\" r=\"14\" fill=\"#009af9\" fill-rule=\"evenodd\" fill-opacity=\"1\" stroke=\"#000000\" stroke-opacity=\"1\" stroke-width=\"3.2\"/>\n",
       "<circle clip-path=\"url(#clip962)\" cx=\"268.583\" cy=\"923.508\" r=\"14\" fill=\"#009af9\" fill-rule=\"evenodd\" fill-opacity=\"1\" stroke=\"#000000\" stroke-opacity=\"1\" stroke-width=\"3.2\"/>\n",
       "<circle clip-path=\"url(#clip962)\" cx=\"270.678\" cy=\"505.742\" r=\"14\" fill=\"#009af9\" fill-rule=\"evenodd\" fill-opacity=\"1\" stroke=\"#000000\" stroke-opacity=\"1\" stroke-width=\"3.2\"/>\n",
       "<circle clip-path=\"url(#clip962)\" cx=\"272.772\" cy=\"923.508\" r=\"14\" fill=\"#009af9\" fill-rule=\"evenodd\" fill-opacity=\"1\" stroke=\"#000000\" stroke-opacity=\"1\" stroke-width=\"3.2\"/>\n",
       "<circle clip-path=\"url(#clip962)\" cx=\"274.867\" cy=\"1236.83\" r=\"14\" fill=\"#009af9\" fill-rule=\"evenodd\" fill-opacity=\"1\" stroke=\"#000000\" stroke-opacity=\"1\" stroke-width=\"3.2\"/>\n",
       "<circle clip-path=\"url(#clip962)\" cx=\"276.962\" cy=\"714.625\" r=\"14\" fill=\"#009af9\" fill-rule=\"evenodd\" fill-opacity=\"1\" stroke=\"#000000\" stroke-opacity=\"1\" stroke-width=\"3.2\"/>\n",
       "<circle clip-path=\"url(#clip962)\" cx=\"279.057\" cy=\"923.508\" r=\"14\" fill=\"#009af9\" fill-rule=\"evenodd\" fill-opacity=\"1\" stroke=\"#000000\" stroke-opacity=\"1\" stroke-width=\"3.2\"/>\n",
       "<circle clip-path=\"url(#clip962)\" cx=\"281.151\" cy=\"1132.39\" r=\"14\" fill=\"#009af9\" fill-rule=\"evenodd\" fill-opacity=\"1\" stroke=\"#000000\" stroke-opacity=\"1\" stroke-width=\"3.2\"/>\n",
       "<circle clip-path=\"url(#clip962)\" cx=\"283.246\" cy=\"1027.95\" r=\"14\" fill=\"#009af9\" fill-rule=\"evenodd\" fill-opacity=\"1\" stroke=\"#000000\" stroke-opacity=\"1\" stroke-width=\"3.2\"/>\n",
       "<circle clip-path=\"url(#clip962)\" cx=\"285.341\" cy=\"714.625\" r=\"14\" fill=\"#009af9\" fill-rule=\"evenodd\" fill-opacity=\"1\" stroke=\"#000000\" stroke-opacity=\"1\" stroke-width=\"3.2\"/>\n",
       "<circle clip-path=\"url(#clip962)\" cx=\"287.435\" cy=\"923.508\" r=\"14\" fill=\"#009af9\" fill-rule=\"evenodd\" fill-opacity=\"1\" stroke=\"#000000\" stroke-opacity=\"1\" stroke-width=\"3.2\"/>\n",
       "<circle clip-path=\"url(#clip962)\" cx=\"289.53\" cy=\"923.508\" r=\"14\" fill=\"#009af9\" fill-rule=\"evenodd\" fill-opacity=\"1\" stroke=\"#000000\" stroke-opacity=\"1\" stroke-width=\"3.2\"/>\n",
       "<circle clip-path=\"url(#clip962)\" cx=\"291.625\" cy=\"1027.95\" r=\"14\" fill=\"#009af9\" fill-rule=\"evenodd\" fill-opacity=\"1\" stroke=\"#000000\" stroke-opacity=\"1\" stroke-width=\"3.2\"/>\n",
       "<circle clip-path=\"url(#clip962)\" cx=\"293.72\" cy=\"1132.39\" r=\"14\" fill=\"#009af9\" fill-rule=\"evenodd\" fill-opacity=\"1\" stroke=\"#000000\" stroke-opacity=\"1\" stroke-width=\"3.2\"/>\n",
       "<circle clip-path=\"url(#clip962)\" cx=\"295.814\" cy=\"923.508\" r=\"14\" fill=\"#009af9\" fill-rule=\"evenodd\" fill-opacity=\"1\" stroke=\"#000000\" stroke-opacity=\"1\" stroke-width=\"3.2\"/>\n",
       "<circle clip-path=\"url(#clip962)\" cx=\"297.909\" cy=\"819.067\" r=\"14\" fill=\"#009af9\" fill-rule=\"evenodd\" fill-opacity=\"1\" stroke=\"#000000\" stroke-opacity=\"1\" stroke-width=\"3.2\"/>\n",
       "<circle clip-path=\"url(#clip962)\" cx=\"300.004\" cy=\"1132.39\" r=\"14\" fill=\"#009af9\" fill-rule=\"evenodd\" fill-opacity=\"1\" stroke=\"#000000\" stroke-opacity=\"1\" stroke-width=\"3.2\"/>\n",
       "<circle clip-path=\"url(#clip962)\" cx=\"302.098\" cy=\"714.625\" r=\"14\" fill=\"#009af9\" fill-rule=\"evenodd\" fill-opacity=\"1\" stroke=\"#000000\" stroke-opacity=\"1\" stroke-width=\"3.2\"/>\n",
       "<circle clip-path=\"url(#clip962)\" cx=\"304.193\" cy=\"1236.83\" r=\"14\" fill=\"#009af9\" fill-rule=\"evenodd\" fill-opacity=\"1\" stroke=\"#000000\" stroke-opacity=\"1\" stroke-width=\"3.2\"/>\n",
       "<circle clip-path=\"url(#clip962)\" cx=\"306.288\" cy=\"819.067\" r=\"14\" fill=\"#009af9\" fill-rule=\"evenodd\" fill-opacity=\"1\" stroke=\"#000000\" stroke-opacity=\"1\" stroke-width=\"3.2\"/>\n",
       "<circle clip-path=\"url(#clip962)\" cx=\"308.382\" cy=\"1132.39\" r=\"14\" fill=\"#009af9\" fill-rule=\"evenodd\" fill-opacity=\"1\" stroke=\"#000000\" stroke-opacity=\"1\" stroke-width=\"3.2\"/>\n",
       "<circle clip-path=\"url(#clip962)\" cx=\"310.477\" cy=\"923.508\" r=\"14\" fill=\"#009af9\" fill-rule=\"evenodd\" fill-opacity=\"1\" stroke=\"#000000\" stroke-opacity=\"1\" stroke-width=\"3.2\"/>\n",
       "<circle clip-path=\"url(#clip962)\" cx=\"312.572\" cy=\"819.067\" r=\"14\" fill=\"#009af9\" fill-rule=\"evenodd\" fill-opacity=\"1\" stroke=\"#000000\" stroke-opacity=\"1\" stroke-width=\"3.2\"/>\n",
       "<circle clip-path=\"url(#clip962)\" cx=\"314.667\" cy=\"923.508\" r=\"14\" fill=\"#009af9\" fill-rule=\"evenodd\" fill-opacity=\"1\" stroke=\"#000000\" stroke-opacity=\"1\" stroke-width=\"3.2\"/>\n",
       "<circle clip-path=\"url(#clip962)\" cx=\"316.761\" cy=\"1027.95\" r=\"14\" fill=\"#009af9\" fill-rule=\"evenodd\" fill-opacity=\"1\" stroke=\"#000000\" stroke-opacity=\"1\" stroke-width=\"3.2\"/>\n",
       "<circle clip-path=\"url(#clip962)\" cx=\"318.856\" cy=\"1236.83\" r=\"14\" fill=\"#009af9\" fill-rule=\"evenodd\" fill-opacity=\"1\" stroke=\"#000000\" stroke-opacity=\"1\" stroke-width=\"3.2\"/>\n",
       "<circle clip-path=\"url(#clip962)\" cx=\"320.951\" cy=\"819.067\" r=\"14\" fill=\"#009af9\" fill-rule=\"evenodd\" fill-opacity=\"1\" stroke=\"#000000\" stroke-opacity=\"1\" stroke-width=\"3.2\"/>\n",
       "<circle clip-path=\"url(#clip962)\" cx=\"323.045\" cy=\"1027.95\" r=\"14\" fill=\"#009af9\" fill-rule=\"evenodd\" fill-opacity=\"1\" stroke=\"#000000\" stroke-opacity=\"1\" stroke-width=\"3.2\"/>\n",
       "<circle clip-path=\"url(#clip962)\" cx=\"325.14\" cy=\"1132.39\" r=\"14\" fill=\"#009af9\" fill-rule=\"evenodd\" fill-opacity=\"1\" stroke=\"#000000\" stroke-opacity=\"1\" stroke-width=\"3.2\"/>\n",
       "<circle clip-path=\"url(#clip962)\" cx=\"327.235\" cy=\"1027.95\" r=\"14\" fill=\"#009af9\" fill-rule=\"evenodd\" fill-opacity=\"1\" stroke=\"#000000\" stroke-opacity=\"1\" stroke-width=\"3.2\"/>\n",
       "<circle clip-path=\"url(#clip962)\" cx=\"329.33\" cy=\"923.508\" r=\"14\" fill=\"#009af9\" fill-rule=\"evenodd\" fill-opacity=\"1\" stroke=\"#000000\" stroke-opacity=\"1\" stroke-width=\"3.2\"/>\n",
       "<circle clip-path=\"url(#clip962)\" cx=\"331.424\" cy=\"610.184\" r=\"14\" fill=\"#009af9\" fill-rule=\"evenodd\" fill-opacity=\"1\" stroke=\"#000000\" stroke-opacity=\"1\" stroke-width=\"3.2\"/>\n",
       "<circle clip-path=\"url(#clip962)\" cx=\"333.519\" cy=\"923.508\" r=\"14\" fill=\"#009af9\" fill-rule=\"evenodd\" fill-opacity=\"1\" stroke=\"#000000\" stroke-opacity=\"1\" stroke-width=\"3.2\"/>\n",
       "<circle clip-path=\"url(#clip962)\" cx=\"335.614\" cy=\"923.508\" r=\"14\" fill=\"#009af9\" fill-rule=\"evenodd\" fill-opacity=\"1\" stroke=\"#000000\" stroke-opacity=\"1\" stroke-width=\"3.2\"/>\n",
       "<circle clip-path=\"url(#clip962)\" cx=\"337.708\" cy=\"714.625\" r=\"14\" fill=\"#009af9\" fill-rule=\"evenodd\" fill-opacity=\"1\" stroke=\"#000000\" stroke-opacity=\"1\" stroke-width=\"3.2\"/>\n",
       "<circle clip-path=\"url(#clip962)\" cx=\"339.803\" cy=\"1027.95\" r=\"14\" fill=\"#009af9\" fill-rule=\"evenodd\" fill-opacity=\"1\" stroke=\"#000000\" stroke-opacity=\"1\" stroke-width=\"3.2\"/>\n",
       "<circle clip-path=\"url(#clip962)\" cx=\"341.898\" cy=\"819.067\" r=\"14\" fill=\"#009af9\" fill-rule=\"evenodd\" fill-opacity=\"1\" stroke=\"#000000\" stroke-opacity=\"1\" stroke-width=\"3.2\"/>\n",
       "<circle clip-path=\"url(#clip962)\" cx=\"343.993\" cy=\"923.508\" r=\"14\" fill=\"#009af9\" fill-rule=\"evenodd\" fill-opacity=\"1\" stroke=\"#000000\" stroke-opacity=\"1\" stroke-width=\"3.2\"/>\n",
       "<circle clip-path=\"url(#clip962)\" cx=\"346.087\" cy=\"1027.95\" r=\"14\" fill=\"#009af9\" fill-rule=\"evenodd\" fill-opacity=\"1\" stroke=\"#000000\" stroke-opacity=\"1\" stroke-width=\"3.2\"/>\n",
       "<circle clip-path=\"url(#clip962)\" cx=\"348.182\" cy=\"296.859\" r=\"14\" fill=\"#009af9\" fill-rule=\"evenodd\" fill-opacity=\"1\" stroke=\"#000000\" stroke-opacity=\"1\" stroke-width=\"3.2\"/>\n",
       "<circle clip-path=\"url(#clip962)\" cx=\"350.277\" cy=\"1027.95\" r=\"14\" fill=\"#009af9\" fill-rule=\"evenodd\" fill-opacity=\"1\" stroke=\"#000000\" stroke-opacity=\"1\" stroke-width=\"3.2\"/>\n",
       "<circle clip-path=\"url(#clip962)\" cx=\"352.371\" cy=\"819.067\" r=\"14\" fill=\"#009af9\" fill-rule=\"evenodd\" fill-opacity=\"1\" stroke=\"#000000\" stroke-opacity=\"1\" stroke-width=\"3.2\"/>\n",
       "<circle clip-path=\"url(#clip962)\" cx=\"354.466\" cy=\"714.625\" r=\"14\" fill=\"#009af9\" fill-rule=\"evenodd\" fill-opacity=\"1\" stroke=\"#000000\" stroke-opacity=\"1\" stroke-width=\"3.2\"/>\n",
       "<circle clip-path=\"url(#clip962)\" cx=\"356.561\" cy=\"1132.39\" r=\"14\" fill=\"#009af9\" fill-rule=\"evenodd\" fill-opacity=\"1\" stroke=\"#000000\" stroke-opacity=\"1\" stroke-width=\"3.2\"/>\n",
       "<circle clip-path=\"url(#clip962)\" cx=\"358.656\" cy=\"819.067\" r=\"14\" fill=\"#009af9\" fill-rule=\"evenodd\" fill-opacity=\"1\" stroke=\"#000000\" stroke-opacity=\"1\" stroke-width=\"3.2\"/>\n",
       "<circle clip-path=\"url(#clip962)\" cx=\"360.75\" cy=\"1132.39\" r=\"14\" fill=\"#009af9\" fill-rule=\"evenodd\" fill-opacity=\"1\" stroke=\"#000000\" stroke-opacity=\"1\" stroke-width=\"3.2\"/>\n",
       "<circle clip-path=\"url(#clip962)\" cx=\"362.845\" cy=\"923.508\" r=\"14\" fill=\"#009af9\" fill-rule=\"evenodd\" fill-opacity=\"1\" stroke=\"#000000\" stroke-opacity=\"1\" stroke-width=\"3.2\"/>\n",
       "<circle clip-path=\"url(#clip962)\" cx=\"364.94\" cy=\"1236.83\" r=\"14\" fill=\"#009af9\" fill-rule=\"evenodd\" fill-opacity=\"1\" stroke=\"#000000\" stroke-opacity=\"1\" stroke-width=\"3.2\"/>\n",
       "<circle clip-path=\"url(#clip962)\" cx=\"367.034\" cy=\"1132.39\" r=\"14\" fill=\"#009af9\" fill-rule=\"evenodd\" fill-opacity=\"1\" stroke=\"#000000\" stroke-opacity=\"1\" stroke-width=\"3.2\"/>\n",
       "<circle clip-path=\"url(#clip962)\" cx=\"369.129\" cy=\"1132.39\" r=\"14\" fill=\"#009af9\" fill-rule=\"evenodd\" fill-opacity=\"1\" stroke=\"#000000\" stroke-opacity=\"1\" stroke-width=\"3.2\"/>\n",
       "<circle clip-path=\"url(#clip962)\" cx=\"371.224\" cy=\"923.508\" r=\"14\" fill=\"#009af9\" fill-rule=\"evenodd\" fill-opacity=\"1\" stroke=\"#000000\" stroke-opacity=\"1\" stroke-width=\"3.2\"/>\n",
       "<circle clip-path=\"url(#clip962)\" cx=\"373.318\" cy=\"819.067\" r=\"14\" fill=\"#009af9\" fill-rule=\"evenodd\" fill-opacity=\"1\" stroke=\"#000000\" stroke-opacity=\"1\" stroke-width=\"3.2\"/>\n",
       "<circle clip-path=\"url(#clip962)\" cx=\"375.413\" cy=\"1132.39\" r=\"14\" fill=\"#009af9\" fill-rule=\"evenodd\" fill-opacity=\"1\" stroke=\"#000000\" stroke-opacity=\"1\" stroke-width=\"3.2\"/>\n",
       "<circle clip-path=\"url(#clip962)\" cx=\"377.508\" cy=\"714.625\" r=\"14\" fill=\"#009af9\" fill-rule=\"evenodd\" fill-opacity=\"1\" stroke=\"#000000\" stroke-opacity=\"1\" stroke-width=\"3.2\"/>\n",
       "<circle clip-path=\"url(#clip962)\" cx=\"379.603\" cy=\"1445.72\" r=\"14\" fill=\"#009af9\" fill-rule=\"evenodd\" fill-opacity=\"1\" stroke=\"#000000\" stroke-opacity=\"1\" stroke-width=\"3.2\"/>\n",
       "<circle clip-path=\"url(#clip962)\" cx=\"381.697\" cy=\"923.508\" r=\"14\" fill=\"#009af9\" fill-rule=\"evenodd\" fill-opacity=\"1\" stroke=\"#000000\" stroke-opacity=\"1\" stroke-width=\"3.2\"/>\n",
       "<circle clip-path=\"url(#clip962)\" cx=\"383.792\" cy=\"714.625\" r=\"14\" fill=\"#009af9\" fill-rule=\"evenodd\" fill-opacity=\"1\" stroke=\"#000000\" stroke-opacity=\"1\" stroke-width=\"3.2\"/>\n",
       "<circle clip-path=\"url(#clip962)\" cx=\"385.887\" cy=\"1027.95\" r=\"14\" fill=\"#009af9\" fill-rule=\"evenodd\" fill-opacity=\"1\" stroke=\"#000000\" stroke-opacity=\"1\" stroke-width=\"3.2\"/>\n",
       "<circle clip-path=\"url(#clip962)\" cx=\"387.981\" cy=\"819.067\" r=\"14\" fill=\"#009af9\" fill-rule=\"evenodd\" fill-opacity=\"1\" stroke=\"#000000\" stroke-opacity=\"1\" stroke-width=\"3.2\"/>\n",
       "<circle clip-path=\"url(#clip962)\" cx=\"390.076\" cy=\"1027.95\" r=\"14\" fill=\"#009af9\" fill-rule=\"evenodd\" fill-opacity=\"1\" stroke=\"#000000\" stroke-opacity=\"1\" stroke-width=\"3.2\"/>\n",
       "<circle clip-path=\"url(#clip962)\" cx=\"392.171\" cy=\"1236.83\" r=\"14\" fill=\"#009af9\" fill-rule=\"evenodd\" fill-opacity=\"1\" stroke=\"#000000\" stroke-opacity=\"1\" stroke-width=\"3.2\"/>\n",
       "<circle clip-path=\"url(#clip962)\" cx=\"394.266\" cy=\"1027.95\" r=\"14\" fill=\"#009af9\" fill-rule=\"evenodd\" fill-opacity=\"1\" stroke=\"#000000\" stroke-opacity=\"1\" stroke-width=\"3.2\"/>\n",
       "<circle clip-path=\"url(#clip962)\" cx=\"396.36\" cy=\"505.742\" r=\"14\" fill=\"#009af9\" fill-rule=\"evenodd\" fill-opacity=\"1\" stroke=\"#000000\" stroke-opacity=\"1\" stroke-width=\"3.2\"/>\n",
       "<circle clip-path=\"url(#clip962)\" cx=\"398.455\" cy=\"1027.95\" r=\"14\" fill=\"#009af9\" fill-rule=\"evenodd\" fill-opacity=\"1\" stroke=\"#000000\" stroke-opacity=\"1\" stroke-width=\"3.2\"/>\n",
       "<circle clip-path=\"url(#clip962)\" cx=\"400.55\" cy=\"819.067\" r=\"14\" fill=\"#009af9\" fill-rule=\"evenodd\" fill-opacity=\"1\" stroke=\"#000000\" stroke-opacity=\"1\" stroke-width=\"3.2\"/>\n",
       "<circle clip-path=\"url(#clip962)\" cx=\"402.644\" cy=\"1132.39\" r=\"14\" fill=\"#009af9\" fill-rule=\"evenodd\" fill-opacity=\"1\" stroke=\"#000000\" stroke-opacity=\"1\" stroke-width=\"3.2\"/>\n",
       "<circle clip-path=\"url(#clip962)\" cx=\"404.739\" cy=\"1236.83\" r=\"14\" fill=\"#009af9\" fill-rule=\"evenodd\" fill-opacity=\"1\" stroke=\"#000000\" stroke-opacity=\"1\" stroke-width=\"3.2\"/>\n",
       "<circle clip-path=\"url(#clip962)\" cx=\"406.834\" cy=\"819.067\" r=\"14\" fill=\"#009af9\" fill-rule=\"evenodd\" fill-opacity=\"1\" stroke=\"#000000\" stroke-opacity=\"1\" stroke-width=\"3.2\"/>\n",
       "<circle clip-path=\"url(#clip962)\" cx=\"408.929\" cy=\"819.067\" r=\"14\" fill=\"#009af9\" fill-rule=\"evenodd\" fill-opacity=\"1\" stroke=\"#000000\" stroke-opacity=\"1\" stroke-width=\"3.2\"/>\n",
       "<circle clip-path=\"url(#clip962)\" cx=\"411.023\" cy=\"1132.39\" r=\"14\" fill=\"#009af9\" fill-rule=\"evenodd\" fill-opacity=\"1\" stroke=\"#000000\" stroke-opacity=\"1\" stroke-width=\"3.2\"/>\n",
       "<circle clip-path=\"url(#clip962)\" cx=\"413.118\" cy=\"1236.83\" r=\"14\" fill=\"#009af9\" fill-rule=\"evenodd\" fill-opacity=\"1\" stroke=\"#000000\" stroke-opacity=\"1\" stroke-width=\"3.2\"/>\n",
       "<circle clip-path=\"url(#clip962)\" cx=\"415.213\" cy=\"1027.95\" r=\"14\" fill=\"#009af9\" fill-rule=\"evenodd\" fill-opacity=\"1\" stroke=\"#000000\" stroke-opacity=\"1\" stroke-width=\"3.2\"/>\n",
       "<circle clip-path=\"url(#clip962)\" cx=\"417.307\" cy=\"819.067\" r=\"14\" fill=\"#009af9\" fill-rule=\"evenodd\" fill-opacity=\"1\" stroke=\"#000000\" stroke-opacity=\"1\" stroke-width=\"3.2\"/>\n",
       "<circle clip-path=\"url(#clip962)\" cx=\"419.402\" cy=\"819.067\" r=\"14\" fill=\"#009af9\" fill-rule=\"evenodd\" fill-opacity=\"1\" stroke=\"#000000\" stroke-opacity=\"1\" stroke-width=\"3.2\"/>\n",
       "<circle clip-path=\"url(#clip962)\" cx=\"421.497\" cy=\"1027.95\" r=\"14\" fill=\"#009af9\" fill-rule=\"evenodd\" fill-opacity=\"1\" stroke=\"#000000\" stroke-opacity=\"1\" stroke-width=\"3.2\"/>\n",
       "<circle clip-path=\"url(#clip962)\" cx=\"423.592\" cy=\"923.508\" r=\"14\" fill=\"#009af9\" fill-rule=\"evenodd\" fill-opacity=\"1\" stroke=\"#000000\" stroke-opacity=\"1\" stroke-width=\"3.2\"/>\n",
       "<circle clip-path=\"url(#clip962)\" cx=\"425.686\" cy=\"505.742\" r=\"14\" fill=\"#009af9\" fill-rule=\"evenodd\" fill-opacity=\"1\" stroke=\"#000000\" stroke-opacity=\"1\" stroke-width=\"3.2\"/>\n",
       "<circle clip-path=\"url(#clip962)\" cx=\"427.781\" cy=\"610.184\" r=\"14\" fill=\"#009af9\" fill-rule=\"evenodd\" fill-opacity=\"1\" stroke=\"#000000\" stroke-opacity=\"1\" stroke-width=\"3.2\"/>\n",
       "<circle clip-path=\"url(#clip962)\" cx=\"429.876\" cy=\"1027.95\" r=\"14\" fill=\"#009af9\" fill-rule=\"evenodd\" fill-opacity=\"1\" stroke=\"#000000\" stroke-opacity=\"1\" stroke-width=\"3.2\"/>\n",
       "<circle clip-path=\"url(#clip962)\" cx=\"431.97\" cy=\"819.067\" r=\"14\" fill=\"#009af9\" fill-rule=\"evenodd\" fill-opacity=\"1\" stroke=\"#000000\" stroke-opacity=\"1\" stroke-width=\"3.2\"/>\n",
       "<circle clip-path=\"url(#clip962)\" cx=\"434.065\" cy=\"714.625\" r=\"14\" fill=\"#009af9\" fill-rule=\"evenodd\" fill-opacity=\"1\" stroke=\"#000000\" stroke-opacity=\"1\" stroke-width=\"3.2\"/>\n",
       "<circle clip-path=\"url(#clip962)\" cx=\"436.16\" cy=\"714.625\" r=\"14\" fill=\"#009af9\" fill-rule=\"evenodd\" fill-opacity=\"1\" stroke=\"#000000\" stroke-opacity=\"1\" stroke-width=\"3.2\"/>\n",
       "<circle clip-path=\"url(#clip962)\" cx=\"438.254\" cy=\"819.067\" r=\"14\" fill=\"#009af9\" fill-rule=\"evenodd\" fill-opacity=\"1\" stroke=\"#000000\" stroke-opacity=\"1\" stroke-width=\"3.2\"/>\n",
       "<circle clip-path=\"url(#clip962)\" cx=\"440.349\" cy=\"610.184\" r=\"14\" fill=\"#009af9\" fill-rule=\"evenodd\" fill-opacity=\"1\" stroke=\"#000000\" stroke-opacity=\"1\" stroke-width=\"3.2\"/>\n",
       "<circle clip-path=\"url(#clip962)\" cx=\"442.444\" cy=\"819.067\" r=\"14\" fill=\"#009af9\" fill-rule=\"evenodd\" fill-opacity=\"1\" stroke=\"#000000\" stroke-opacity=\"1\" stroke-width=\"3.2\"/>\n",
       "<circle clip-path=\"url(#clip962)\" cx=\"444.539\" cy=\"1027.95\" r=\"14\" fill=\"#009af9\" fill-rule=\"evenodd\" fill-opacity=\"1\" stroke=\"#000000\" stroke-opacity=\"1\" stroke-width=\"3.2\"/>\n",
       "<circle clip-path=\"url(#clip962)\" cx=\"446.633\" cy=\"1027.95\" r=\"14\" fill=\"#009af9\" fill-rule=\"evenodd\" fill-opacity=\"1\" stroke=\"#000000\" stroke-opacity=\"1\" stroke-width=\"3.2\"/>\n",
       "<circle clip-path=\"url(#clip962)\" cx=\"448.728\" cy=\"1027.95\" r=\"14\" fill=\"#009af9\" fill-rule=\"evenodd\" fill-opacity=\"1\" stroke=\"#000000\" stroke-opacity=\"1\" stroke-width=\"3.2\"/>\n",
       "<circle clip-path=\"url(#clip962)\" cx=\"450.823\" cy=\"819.067\" r=\"14\" fill=\"#009af9\" fill-rule=\"evenodd\" fill-opacity=\"1\" stroke=\"#000000\" stroke-opacity=\"1\" stroke-width=\"3.2\"/>\n",
       "<circle clip-path=\"url(#clip962)\" cx=\"452.917\" cy=\"1236.83\" r=\"14\" fill=\"#009af9\" fill-rule=\"evenodd\" fill-opacity=\"1\" stroke=\"#000000\" stroke-opacity=\"1\" stroke-width=\"3.2\"/>\n",
       "<circle clip-path=\"url(#clip962)\" cx=\"455.012\" cy=\"1027.95\" r=\"14\" fill=\"#009af9\" fill-rule=\"evenodd\" fill-opacity=\"1\" stroke=\"#000000\" stroke-opacity=\"1\" stroke-width=\"3.2\"/>\n",
       "<circle clip-path=\"url(#clip962)\" cx=\"457.107\" cy=\"819.067\" r=\"14\" fill=\"#009af9\" fill-rule=\"evenodd\" fill-opacity=\"1\" stroke=\"#000000\" stroke-opacity=\"1\" stroke-width=\"3.2\"/>\n",
       "<circle clip-path=\"url(#clip962)\" cx=\"459.202\" cy=\"923.508\" r=\"14\" fill=\"#009af9\" fill-rule=\"evenodd\" fill-opacity=\"1\" stroke=\"#000000\" stroke-opacity=\"1\" stroke-width=\"3.2\"/>\n",
       "<circle clip-path=\"url(#clip962)\" cx=\"461.296\" cy=\"1027.95\" r=\"14\" fill=\"#009af9\" fill-rule=\"evenodd\" fill-opacity=\"1\" stroke=\"#000000\" stroke-opacity=\"1\" stroke-width=\"3.2\"/>\n",
       "<circle clip-path=\"url(#clip962)\" cx=\"463.391\" cy=\"714.625\" r=\"14\" fill=\"#009af9\" fill-rule=\"evenodd\" fill-opacity=\"1\" stroke=\"#000000\" stroke-opacity=\"1\" stroke-width=\"3.2\"/>\n",
       "<circle clip-path=\"url(#clip962)\" cx=\"465.486\" cy=\"923.508\" r=\"14\" fill=\"#009af9\" fill-rule=\"evenodd\" fill-opacity=\"1\" stroke=\"#000000\" stroke-opacity=\"1\" stroke-width=\"3.2\"/>\n",
       "<circle clip-path=\"url(#clip962)\" cx=\"467.58\" cy=\"1027.95\" r=\"14\" fill=\"#009af9\" fill-rule=\"evenodd\" fill-opacity=\"1\" stroke=\"#000000\" stroke-opacity=\"1\" stroke-width=\"3.2\"/>\n",
       "<circle clip-path=\"url(#clip962)\" cx=\"469.675\" cy=\"714.625\" r=\"14\" fill=\"#009af9\" fill-rule=\"evenodd\" fill-opacity=\"1\" stroke=\"#000000\" stroke-opacity=\"1\" stroke-width=\"3.2\"/>\n",
       "<circle clip-path=\"url(#clip962)\" cx=\"471.77\" cy=\"923.508\" r=\"14\" fill=\"#009af9\" fill-rule=\"evenodd\" fill-opacity=\"1\" stroke=\"#000000\" stroke-opacity=\"1\" stroke-width=\"3.2\"/>\n",
       "<circle clip-path=\"url(#clip962)\" cx=\"473.865\" cy=\"714.625\" r=\"14\" fill=\"#009af9\" fill-rule=\"evenodd\" fill-opacity=\"1\" stroke=\"#000000\" stroke-opacity=\"1\" stroke-width=\"3.2\"/>\n",
       "<circle clip-path=\"url(#clip962)\" cx=\"475.959\" cy=\"1236.83\" r=\"14\" fill=\"#009af9\" fill-rule=\"evenodd\" fill-opacity=\"1\" stroke=\"#000000\" stroke-opacity=\"1\" stroke-width=\"3.2\"/>\n",
       "<circle clip-path=\"url(#clip962)\" cx=\"478.054\" cy=\"714.625\" r=\"14\" fill=\"#009af9\" fill-rule=\"evenodd\" fill-opacity=\"1\" stroke=\"#000000\" stroke-opacity=\"1\" stroke-width=\"3.2\"/>\n",
       "<circle clip-path=\"url(#clip962)\" cx=\"480.149\" cy=\"714.625\" r=\"14\" fill=\"#009af9\" fill-rule=\"evenodd\" fill-opacity=\"1\" stroke=\"#000000\" stroke-opacity=\"1\" stroke-width=\"3.2\"/>\n",
       "<circle clip-path=\"url(#clip962)\" cx=\"482.243\" cy=\"923.508\" r=\"14\" fill=\"#009af9\" fill-rule=\"evenodd\" fill-opacity=\"1\" stroke=\"#000000\" stroke-opacity=\"1\" stroke-width=\"3.2\"/>\n",
       "<circle clip-path=\"url(#clip962)\" cx=\"484.338\" cy=\"714.625\" r=\"14\" fill=\"#009af9\" fill-rule=\"evenodd\" fill-opacity=\"1\" stroke=\"#000000\" stroke-opacity=\"1\" stroke-width=\"3.2\"/>\n",
       "<circle clip-path=\"url(#clip962)\" cx=\"486.433\" cy=\"819.067\" r=\"14\" fill=\"#009af9\" fill-rule=\"evenodd\" fill-opacity=\"1\" stroke=\"#000000\" stroke-opacity=\"1\" stroke-width=\"3.2\"/>\n",
       "<circle clip-path=\"url(#clip962)\" cx=\"488.527\" cy=\"1132.39\" r=\"14\" fill=\"#009af9\" fill-rule=\"evenodd\" fill-opacity=\"1\" stroke=\"#000000\" stroke-opacity=\"1\" stroke-width=\"3.2\"/>\n",
       "<circle clip-path=\"url(#clip962)\" cx=\"490.622\" cy=\"1027.95\" r=\"14\" fill=\"#009af9\" fill-rule=\"evenodd\" fill-opacity=\"1\" stroke=\"#000000\" stroke-opacity=\"1\" stroke-width=\"3.2\"/>\n",
       "<circle clip-path=\"url(#clip962)\" cx=\"492.717\" cy=\"1027.95\" r=\"14\" fill=\"#009af9\" fill-rule=\"evenodd\" fill-opacity=\"1\" stroke=\"#000000\" stroke-opacity=\"1\" stroke-width=\"3.2\"/>\n",
       "<circle clip-path=\"url(#clip962)\" cx=\"494.812\" cy=\"923.508\" r=\"14\" fill=\"#009af9\" fill-rule=\"evenodd\" fill-opacity=\"1\" stroke=\"#000000\" stroke-opacity=\"1\" stroke-width=\"3.2\"/>\n",
       "<circle clip-path=\"url(#clip962)\" cx=\"496.906\" cy=\"923.508\" r=\"14\" fill=\"#009af9\" fill-rule=\"evenodd\" fill-opacity=\"1\" stroke=\"#000000\" stroke-opacity=\"1\" stroke-width=\"3.2\"/>\n",
       "<circle clip-path=\"url(#clip962)\" cx=\"499.001\" cy=\"1236.83\" r=\"14\" fill=\"#009af9\" fill-rule=\"evenodd\" fill-opacity=\"1\" stroke=\"#000000\" stroke-opacity=\"1\" stroke-width=\"3.2\"/>\n",
       "<circle clip-path=\"url(#clip962)\" cx=\"501.096\" cy=\"819.067\" r=\"14\" fill=\"#009af9\" fill-rule=\"evenodd\" fill-opacity=\"1\" stroke=\"#000000\" stroke-opacity=\"1\" stroke-width=\"3.2\"/>\n",
       "<circle clip-path=\"url(#clip962)\" cx=\"503.19\" cy=\"1027.95\" r=\"14\" fill=\"#009af9\" fill-rule=\"evenodd\" fill-opacity=\"1\" stroke=\"#000000\" stroke-opacity=\"1\" stroke-width=\"3.2\"/>\n",
       "<circle clip-path=\"url(#clip962)\" cx=\"505.285\" cy=\"610.184\" r=\"14\" fill=\"#009af9\" fill-rule=\"evenodd\" fill-opacity=\"1\" stroke=\"#000000\" stroke-opacity=\"1\" stroke-width=\"3.2\"/>\n",
       "<circle clip-path=\"url(#clip962)\" cx=\"507.38\" cy=\"923.508\" r=\"14\" fill=\"#009af9\" fill-rule=\"evenodd\" fill-opacity=\"1\" stroke=\"#000000\" stroke-opacity=\"1\" stroke-width=\"3.2\"/>\n",
       "<circle clip-path=\"url(#clip962)\" cx=\"509.475\" cy=\"1132.39\" r=\"14\" fill=\"#009af9\" fill-rule=\"evenodd\" fill-opacity=\"1\" stroke=\"#000000\" stroke-opacity=\"1\" stroke-width=\"3.2\"/>\n",
       "<circle clip-path=\"url(#clip962)\" cx=\"511.569\" cy=\"923.508\" r=\"14\" fill=\"#009af9\" fill-rule=\"evenodd\" fill-opacity=\"1\" stroke=\"#000000\" stroke-opacity=\"1\" stroke-width=\"3.2\"/>\n",
       "<circle clip-path=\"url(#clip962)\" cx=\"513.664\" cy=\"819.067\" r=\"14\" fill=\"#009af9\" fill-rule=\"evenodd\" fill-opacity=\"1\" stroke=\"#000000\" stroke-opacity=\"1\" stroke-width=\"3.2\"/>\n",
       "<circle clip-path=\"url(#clip962)\" cx=\"515.759\" cy=\"714.625\" r=\"14\" fill=\"#009af9\" fill-rule=\"evenodd\" fill-opacity=\"1\" stroke=\"#000000\" stroke-opacity=\"1\" stroke-width=\"3.2\"/>\n",
       "<circle clip-path=\"url(#clip962)\" cx=\"517.853\" cy=\"1132.39\" r=\"14\" fill=\"#009af9\" fill-rule=\"evenodd\" fill-opacity=\"1\" stroke=\"#000000\" stroke-opacity=\"1\" stroke-width=\"3.2\"/>\n",
       "<circle clip-path=\"url(#clip962)\" cx=\"519.948\" cy=\"1132.39\" r=\"14\" fill=\"#009af9\" fill-rule=\"evenodd\" fill-opacity=\"1\" stroke=\"#000000\" stroke-opacity=\"1\" stroke-width=\"3.2\"/>\n",
       "<circle clip-path=\"url(#clip962)\" cx=\"522.043\" cy=\"1132.39\" r=\"14\" fill=\"#009af9\" fill-rule=\"evenodd\" fill-opacity=\"1\" stroke=\"#000000\" stroke-opacity=\"1\" stroke-width=\"3.2\"/>\n",
       "<circle clip-path=\"url(#clip962)\" cx=\"524.138\" cy=\"714.625\" r=\"14\" fill=\"#009af9\" fill-rule=\"evenodd\" fill-opacity=\"1\" stroke=\"#000000\" stroke-opacity=\"1\" stroke-width=\"3.2\"/>\n",
       "<circle clip-path=\"url(#clip962)\" cx=\"526.232\" cy=\"923.508\" r=\"14\" fill=\"#009af9\" fill-rule=\"evenodd\" fill-opacity=\"1\" stroke=\"#000000\" stroke-opacity=\"1\" stroke-width=\"3.2\"/>\n",
       "<circle clip-path=\"url(#clip962)\" cx=\"528.327\" cy=\"819.067\" r=\"14\" fill=\"#009af9\" fill-rule=\"evenodd\" fill-opacity=\"1\" stroke=\"#000000\" stroke-opacity=\"1\" stroke-width=\"3.2\"/>\n",
       "<circle clip-path=\"url(#clip962)\" cx=\"530.422\" cy=\"192.418\" r=\"14\" fill=\"#009af9\" fill-rule=\"evenodd\" fill-opacity=\"1\" stroke=\"#000000\" stroke-opacity=\"1\" stroke-width=\"3.2\"/>\n",
       "<circle clip-path=\"url(#clip962)\" cx=\"532.516\" cy=\"923.508\" r=\"14\" fill=\"#009af9\" fill-rule=\"evenodd\" fill-opacity=\"1\" stroke=\"#000000\" stroke-opacity=\"1\" stroke-width=\"3.2\"/>\n",
       "<circle clip-path=\"url(#clip962)\" cx=\"534.611\" cy=\"923.508\" r=\"14\" fill=\"#009af9\" fill-rule=\"evenodd\" fill-opacity=\"1\" stroke=\"#000000\" stroke-opacity=\"1\" stroke-width=\"3.2\"/>\n",
       "<circle clip-path=\"url(#clip962)\" cx=\"536.706\" cy=\"1132.39\" r=\"14\" fill=\"#009af9\" fill-rule=\"evenodd\" fill-opacity=\"1\" stroke=\"#000000\" stroke-opacity=\"1\" stroke-width=\"3.2\"/>\n",
       "<circle clip-path=\"url(#clip962)\" cx=\"538.801\" cy=\"819.067\" r=\"14\" fill=\"#009af9\" fill-rule=\"evenodd\" fill-opacity=\"1\" stroke=\"#000000\" stroke-opacity=\"1\" stroke-width=\"3.2\"/>\n",
       "<circle clip-path=\"url(#clip962)\" cx=\"540.895\" cy=\"610.184\" r=\"14\" fill=\"#009af9\" fill-rule=\"evenodd\" fill-opacity=\"1\" stroke=\"#000000\" stroke-opacity=\"1\" stroke-width=\"3.2\"/>\n",
       "<circle clip-path=\"url(#clip962)\" cx=\"542.99\" cy=\"610.184\" r=\"14\" fill=\"#009af9\" fill-rule=\"evenodd\" fill-opacity=\"1\" stroke=\"#000000\" stroke-opacity=\"1\" stroke-width=\"3.2\"/>\n",
       "<circle clip-path=\"url(#clip962)\" cx=\"545.085\" cy=\"819.067\" r=\"14\" fill=\"#009af9\" fill-rule=\"evenodd\" fill-opacity=\"1\" stroke=\"#000000\" stroke-opacity=\"1\" stroke-width=\"3.2\"/>\n",
       "<circle clip-path=\"url(#clip962)\" cx=\"547.179\" cy=\"1132.39\" r=\"14\" fill=\"#009af9\" fill-rule=\"evenodd\" fill-opacity=\"1\" stroke=\"#000000\" stroke-opacity=\"1\" stroke-width=\"3.2\"/>\n",
       "<circle clip-path=\"url(#clip962)\" cx=\"549.274\" cy=\"1027.95\" r=\"14\" fill=\"#009af9\" fill-rule=\"evenodd\" fill-opacity=\"1\" stroke=\"#000000\" stroke-opacity=\"1\" stroke-width=\"3.2\"/>\n",
       "<circle clip-path=\"url(#clip962)\" cx=\"551.369\" cy=\"923.508\" r=\"14\" fill=\"#009af9\" fill-rule=\"evenodd\" fill-opacity=\"1\" stroke=\"#000000\" stroke-opacity=\"1\" stroke-width=\"3.2\"/>\n",
       "<circle clip-path=\"url(#clip962)\" cx=\"553.463\" cy=\"1027.95\" r=\"14\" fill=\"#009af9\" fill-rule=\"evenodd\" fill-opacity=\"1\" stroke=\"#000000\" stroke-opacity=\"1\" stroke-width=\"3.2\"/>\n",
       "<circle clip-path=\"url(#clip962)\" cx=\"555.558\" cy=\"923.508\" r=\"14\" fill=\"#009af9\" fill-rule=\"evenodd\" fill-opacity=\"1\" stroke=\"#000000\" stroke-opacity=\"1\" stroke-width=\"3.2\"/>\n",
       "<circle clip-path=\"url(#clip962)\" cx=\"557.653\" cy=\"714.625\" r=\"14\" fill=\"#009af9\" fill-rule=\"evenodd\" fill-opacity=\"1\" stroke=\"#000000\" stroke-opacity=\"1\" stroke-width=\"3.2\"/>\n",
       "<circle clip-path=\"url(#clip962)\" cx=\"559.748\" cy=\"923.508\" r=\"14\" fill=\"#009af9\" fill-rule=\"evenodd\" fill-opacity=\"1\" stroke=\"#000000\" stroke-opacity=\"1\" stroke-width=\"3.2\"/>\n",
       "<circle clip-path=\"url(#clip962)\" cx=\"561.842\" cy=\"1027.95\" r=\"14\" fill=\"#009af9\" fill-rule=\"evenodd\" fill-opacity=\"1\" stroke=\"#000000\" stroke-opacity=\"1\" stroke-width=\"3.2\"/>\n",
       "<circle clip-path=\"url(#clip962)\" cx=\"563.937\" cy=\"610.184\" r=\"14\" fill=\"#009af9\" fill-rule=\"evenodd\" fill-opacity=\"1\" stroke=\"#000000\" stroke-opacity=\"1\" stroke-width=\"3.2\"/>\n",
       "<circle clip-path=\"url(#clip962)\" cx=\"566.032\" cy=\"1027.95\" r=\"14\" fill=\"#009af9\" fill-rule=\"evenodd\" fill-opacity=\"1\" stroke=\"#000000\" stroke-opacity=\"1\" stroke-width=\"3.2\"/>\n",
       "<circle clip-path=\"url(#clip962)\" cx=\"568.126\" cy=\"610.184\" r=\"14\" fill=\"#009af9\" fill-rule=\"evenodd\" fill-opacity=\"1\" stroke=\"#000000\" stroke-opacity=\"1\" stroke-width=\"3.2\"/>\n",
       "<circle clip-path=\"url(#clip962)\" cx=\"570.221\" cy=\"1132.39\" r=\"14\" fill=\"#009af9\" fill-rule=\"evenodd\" fill-opacity=\"1\" stroke=\"#000000\" stroke-opacity=\"1\" stroke-width=\"3.2\"/>\n",
       "<circle clip-path=\"url(#clip962)\" cx=\"572.316\" cy=\"819.067\" r=\"14\" fill=\"#009af9\" fill-rule=\"evenodd\" fill-opacity=\"1\" stroke=\"#000000\" stroke-opacity=\"1\" stroke-width=\"3.2\"/>\n",
       "<circle clip-path=\"url(#clip962)\" cx=\"574.411\" cy=\"1236.83\" r=\"14\" fill=\"#009af9\" fill-rule=\"evenodd\" fill-opacity=\"1\" stroke=\"#000000\" stroke-opacity=\"1\" stroke-width=\"3.2\"/>\n",
       "<circle clip-path=\"url(#clip962)\" cx=\"576.505\" cy=\"819.067\" r=\"14\" fill=\"#009af9\" fill-rule=\"evenodd\" fill-opacity=\"1\" stroke=\"#000000\" stroke-opacity=\"1\" stroke-width=\"3.2\"/>\n",
       "<circle clip-path=\"url(#clip962)\" cx=\"578.6\" cy=\"923.508\" r=\"14\" fill=\"#009af9\" fill-rule=\"evenodd\" fill-opacity=\"1\" stroke=\"#000000\" stroke-opacity=\"1\" stroke-width=\"3.2\"/>\n",
       "<circle clip-path=\"url(#clip962)\" cx=\"580.695\" cy=\"923.508\" r=\"14\" fill=\"#009af9\" fill-rule=\"evenodd\" fill-opacity=\"1\" stroke=\"#000000\" stroke-opacity=\"1\" stroke-width=\"3.2\"/>\n",
       "<circle clip-path=\"url(#clip962)\" cx=\"582.789\" cy=\"1132.39\" r=\"14\" fill=\"#009af9\" fill-rule=\"evenodd\" fill-opacity=\"1\" stroke=\"#000000\" stroke-opacity=\"1\" stroke-width=\"3.2\"/>\n",
       "<circle clip-path=\"url(#clip962)\" cx=\"584.884\" cy=\"819.067\" r=\"14\" fill=\"#009af9\" fill-rule=\"evenodd\" fill-opacity=\"1\" stroke=\"#000000\" stroke-opacity=\"1\" stroke-width=\"3.2\"/>\n",
       "<circle clip-path=\"url(#clip962)\" cx=\"586.979\" cy=\"819.067\" r=\"14\" fill=\"#009af9\" fill-rule=\"evenodd\" fill-opacity=\"1\" stroke=\"#000000\" stroke-opacity=\"1\" stroke-width=\"3.2\"/>\n",
       "<circle clip-path=\"url(#clip962)\" cx=\"589.074\" cy=\"1236.83\" r=\"14\" fill=\"#009af9\" fill-rule=\"evenodd\" fill-opacity=\"1\" stroke=\"#000000\" stroke-opacity=\"1\" stroke-width=\"3.2\"/>\n",
       "<circle clip-path=\"url(#clip962)\" cx=\"591.168\" cy=\"819.067\" r=\"14\" fill=\"#009af9\" fill-rule=\"evenodd\" fill-opacity=\"1\" stroke=\"#000000\" stroke-opacity=\"1\" stroke-width=\"3.2\"/>\n",
       "<circle clip-path=\"url(#clip962)\" cx=\"593.263\" cy=\"1027.95\" r=\"14\" fill=\"#009af9\" fill-rule=\"evenodd\" fill-opacity=\"1\" stroke=\"#000000\" stroke-opacity=\"1\" stroke-width=\"3.2\"/>\n",
       "<circle clip-path=\"url(#clip962)\" cx=\"595.358\" cy=\"610.184\" r=\"14\" fill=\"#009af9\" fill-rule=\"evenodd\" fill-opacity=\"1\" stroke=\"#000000\" stroke-opacity=\"1\" stroke-width=\"3.2\"/>\n",
       "<circle clip-path=\"url(#clip962)\" cx=\"597.452\" cy=\"1027.95\" r=\"14\" fill=\"#009af9\" fill-rule=\"evenodd\" fill-opacity=\"1\" stroke=\"#000000\" stroke-opacity=\"1\" stroke-width=\"3.2\"/>\n",
       "<circle clip-path=\"url(#clip962)\" cx=\"599.547\" cy=\"1132.39\" r=\"14\" fill=\"#009af9\" fill-rule=\"evenodd\" fill-opacity=\"1\" stroke=\"#000000\" stroke-opacity=\"1\" stroke-width=\"3.2\"/>\n",
       "<circle clip-path=\"url(#clip962)\" cx=\"601.642\" cy=\"1027.95\" r=\"14\" fill=\"#009af9\" fill-rule=\"evenodd\" fill-opacity=\"1\" stroke=\"#000000\" stroke-opacity=\"1\" stroke-width=\"3.2\"/>\n",
       "<circle clip-path=\"url(#clip962)\" cx=\"603.737\" cy=\"610.184\" r=\"14\" fill=\"#009af9\" fill-rule=\"evenodd\" fill-opacity=\"1\" stroke=\"#000000\" stroke-opacity=\"1\" stroke-width=\"3.2\"/>\n",
       "<circle clip-path=\"url(#clip962)\" cx=\"605.831\" cy=\"819.067\" r=\"14\" fill=\"#009af9\" fill-rule=\"evenodd\" fill-opacity=\"1\" stroke=\"#000000\" stroke-opacity=\"1\" stroke-width=\"3.2\"/>\n",
       "<circle clip-path=\"url(#clip962)\" cx=\"607.926\" cy=\"1236.83\" r=\"14\" fill=\"#009af9\" fill-rule=\"evenodd\" fill-opacity=\"1\" stroke=\"#000000\" stroke-opacity=\"1\" stroke-width=\"3.2\"/>\n",
       "<circle clip-path=\"url(#clip962)\" cx=\"610.021\" cy=\"1341.27\" r=\"14\" fill=\"#009af9\" fill-rule=\"evenodd\" fill-opacity=\"1\" stroke=\"#000000\" stroke-opacity=\"1\" stroke-width=\"3.2\"/>\n",
       "<circle clip-path=\"url(#clip962)\" cx=\"612.115\" cy=\"1132.39\" r=\"14\" fill=\"#009af9\" fill-rule=\"evenodd\" fill-opacity=\"1\" stroke=\"#000000\" stroke-opacity=\"1\" stroke-width=\"3.2\"/>\n",
       "<circle clip-path=\"url(#clip962)\" cx=\"614.21\" cy=\"923.508\" r=\"14\" fill=\"#009af9\" fill-rule=\"evenodd\" fill-opacity=\"1\" stroke=\"#000000\" stroke-opacity=\"1\" stroke-width=\"3.2\"/>\n",
       "<circle clip-path=\"url(#clip962)\" cx=\"616.305\" cy=\"819.067\" r=\"14\" fill=\"#009af9\" fill-rule=\"evenodd\" fill-opacity=\"1\" stroke=\"#000000\" stroke-opacity=\"1\" stroke-width=\"3.2\"/>\n",
       "<circle clip-path=\"url(#clip962)\" cx=\"618.399\" cy=\"1027.95\" r=\"14\" fill=\"#009af9\" fill-rule=\"evenodd\" fill-opacity=\"1\" stroke=\"#000000\" stroke-opacity=\"1\" stroke-width=\"3.2\"/>\n",
       "<circle clip-path=\"url(#clip962)\" cx=\"620.494\" cy=\"923.508\" r=\"14\" fill=\"#009af9\" fill-rule=\"evenodd\" fill-opacity=\"1\" stroke=\"#000000\" stroke-opacity=\"1\" stroke-width=\"3.2\"/>\n",
       "<circle clip-path=\"url(#clip962)\" cx=\"622.589\" cy=\"401.301\" r=\"14\" fill=\"#009af9\" fill-rule=\"evenodd\" fill-opacity=\"1\" stroke=\"#000000\" stroke-opacity=\"1\" stroke-width=\"3.2\"/>\n",
       "<circle clip-path=\"url(#clip962)\" cx=\"624.684\" cy=\"819.067\" r=\"14\" fill=\"#009af9\" fill-rule=\"evenodd\" fill-opacity=\"1\" stroke=\"#000000\" stroke-opacity=\"1\" stroke-width=\"3.2\"/>\n",
       "<circle clip-path=\"url(#clip962)\" cx=\"626.778\" cy=\"819.067\" r=\"14\" fill=\"#009af9\" fill-rule=\"evenodd\" fill-opacity=\"1\" stroke=\"#000000\" stroke-opacity=\"1\" stroke-width=\"3.2\"/>\n",
       "<circle clip-path=\"url(#clip962)\" cx=\"628.873\" cy=\"923.508\" r=\"14\" fill=\"#009af9\" fill-rule=\"evenodd\" fill-opacity=\"1\" stroke=\"#000000\" stroke-opacity=\"1\" stroke-width=\"3.2\"/>\n",
       "<circle clip-path=\"url(#clip962)\" cx=\"630.968\" cy=\"1132.39\" r=\"14\" fill=\"#009af9\" fill-rule=\"evenodd\" fill-opacity=\"1\" stroke=\"#000000\" stroke-opacity=\"1\" stroke-width=\"3.2\"/>\n",
       "<circle clip-path=\"url(#clip962)\" cx=\"633.062\" cy=\"819.067\" r=\"14\" fill=\"#009af9\" fill-rule=\"evenodd\" fill-opacity=\"1\" stroke=\"#000000\" stroke-opacity=\"1\" stroke-width=\"3.2\"/>\n",
       "<circle clip-path=\"url(#clip962)\" cx=\"635.157\" cy=\"923.508\" r=\"14\" fill=\"#009af9\" fill-rule=\"evenodd\" fill-opacity=\"1\" stroke=\"#000000\" stroke-opacity=\"1\" stroke-width=\"3.2\"/>\n",
       "<circle clip-path=\"url(#clip962)\" cx=\"637.252\" cy=\"923.508\" r=\"14\" fill=\"#009af9\" fill-rule=\"evenodd\" fill-opacity=\"1\" stroke=\"#000000\" stroke-opacity=\"1\" stroke-width=\"3.2\"/>\n",
       "<circle clip-path=\"url(#clip962)\" cx=\"639.347\" cy=\"610.184\" r=\"14\" fill=\"#009af9\" fill-rule=\"evenodd\" fill-opacity=\"1\" stroke=\"#000000\" stroke-opacity=\"1\" stroke-width=\"3.2\"/>\n",
       "<circle clip-path=\"url(#clip962)\" cx=\"641.441\" cy=\"923.508\" r=\"14\" fill=\"#009af9\" fill-rule=\"evenodd\" fill-opacity=\"1\" stroke=\"#000000\" stroke-opacity=\"1\" stroke-width=\"3.2\"/>\n",
       "<circle clip-path=\"url(#clip962)\" cx=\"643.536\" cy=\"1027.95\" r=\"14\" fill=\"#009af9\" fill-rule=\"evenodd\" fill-opacity=\"1\" stroke=\"#000000\" stroke-opacity=\"1\" stroke-width=\"3.2\"/>\n",
       "<circle clip-path=\"url(#clip962)\" cx=\"645.631\" cy=\"1132.39\" r=\"14\" fill=\"#009af9\" fill-rule=\"evenodd\" fill-opacity=\"1\" stroke=\"#000000\" stroke-opacity=\"1\" stroke-width=\"3.2\"/>\n",
       "<circle clip-path=\"url(#clip962)\" cx=\"647.725\" cy=\"923.508\" r=\"14\" fill=\"#009af9\" fill-rule=\"evenodd\" fill-opacity=\"1\" stroke=\"#000000\" stroke-opacity=\"1\" stroke-width=\"3.2\"/>\n",
       "<circle clip-path=\"url(#clip962)\" cx=\"649.82\" cy=\"610.184\" r=\"14\" fill=\"#009af9\" fill-rule=\"evenodd\" fill-opacity=\"1\" stroke=\"#000000\" stroke-opacity=\"1\" stroke-width=\"3.2\"/>\n",
       "<circle clip-path=\"url(#clip962)\" cx=\"651.915\" cy=\"714.625\" r=\"14\" fill=\"#009af9\" fill-rule=\"evenodd\" fill-opacity=\"1\" stroke=\"#000000\" stroke-opacity=\"1\" stroke-width=\"3.2\"/>\n",
       "<circle clip-path=\"url(#clip962)\" cx=\"654.01\" cy=\"1132.39\" r=\"14\" fill=\"#009af9\" fill-rule=\"evenodd\" fill-opacity=\"1\" stroke=\"#000000\" stroke-opacity=\"1\" stroke-width=\"3.2\"/>\n",
       "<circle clip-path=\"url(#clip962)\" cx=\"656.104\" cy=\"1027.95\" r=\"14\" fill=\"#009af9\" fill-rule=\"evenodd\" fill-opacity=\"1\" stroke=\"#000000\" stroke-opacity=\"1\" stroke-width=\"3.2\"/>\n",
       "<circle clip-path=\"url(#clip962)\" cx=\"658.199\" cy=\"1132.39\" r=\"14\" fill=\"#009af9\" fill-rule=\"evenodd\" fill-opacity=\"1\" stroke=\"#000000\" stroke-opacity=\"1\" stroke-width=\"3.2\"/>\n",
       "<circle clip-path=\"url(#clip962)\" cx=\"660.294\" cy=\"923.508\" r=\"14\" fill=\"#009af9\" fill-rule=\"evenodd\" fill-opacity=\"1\" stroke=\"#000000\" stroke-opacity=\"1\" stroke-width=\"3.2\"/>\n",
       "<circle clip-path=\"url(#clip962)\" cx=\"662.388\" cy=\"1027.95\" r=\"14\" fill=\"#009af9\" fill-rule=\"evenodd\" fill-opacity=\"1\" stroke=\"#000000\" stroke-opacity=\"1\" stroke-width=\"3.2\"/>\n",
       "<circle clip-path=\"url(#clip962)\" cx=\"664.483\" cy=\"1027.95\" r=\"14\" fill=\"#009af9\" fill-rule=\"evenodd\" fill-opacity=\"1\" stroke=\"#000000\" stroke-opacity=\"1\" stroke-width=\"3.2\"/>\n",
       "<circle clip-path=\"url(#clip962)\" cx=\"666.578\" cy=\"714.625\" r=\"14\" fill=\"#009af9\" fill-rule=\"evenodd\" fill-opacity=\"1\" stroke=\"#000000\" stroke-opacity=\"1\" stroke-width=\"3.2\"/>\n",
       "<circle clip-path=\"url(#clip962)\" cx=\"668.672\" cy=\"1027.95\" r=\"14\" fill=\"#009af9\" fill-rule=\"evenodd\" fill-opacity=\"1\" stroke=\"#000000\" stroke-opacity=\"1\" stroke-width=\"3.2\"/>\n",
       "<circle clip-path=\"url(#clip962)\" cx=\"670.767\" cy=\"1027.95\" r=\"14\" fill=\"#009af9\" fill-rule=\"evenodd\" fill-opacity=\"1\" stroke=\"#000000\" stroke-opacity=\"1\" stroke-width=\"3.2\"/>\n",
       "<circle clip-path=\"url(#clip962)\" cx=\"672.862\" cy=\"1027.95\" r=\"14\" fill=\"#009af9\" fill-rule=\"evenodd\" fill-opacity=\"1\" stroke=\"#000000\" stroke-opacity=\"1\" stroke-width=\"3.2\"/>\n",
       "<circle clip-path=\"url(#clip962)\" cx=\"674.957\" cy=\"1132.39\" r=\"14\" fill=\"#009af9\" fill-rule=\"evenodd\" fill-opacity=\"1\" stroke=\"#000000\" stroke-opacity=\"1\" stroke-width=\"3.2\"/>\n",
       "<circle clip-path=\"url(#clip962)\" cx=\"677.051\" cy=\"1236.83\" r=\"14\" fill=\"#009af9\" fill-rule=\"evenodd\" fill-opacity=\"1\" stroke=\"#000000\" stroke-opacity=\"1\" stroke-width=\"3.2\"/>\n",
       "<circle clip-path=\"url(#clip962)\" cx=\"679.146\" cy=\"1027.95\" r=\"14\" fill=\"#009af9\" fill-rule=\"evenodd\" fill-opacity=\"1\" stroke=\"#000000\" stroke-opacity=\"1\" stroke-width=\"3.2\"/>\n",
       "<circle clip-path=\"url(#clip962)\" cx=\"681.241\" cy=\"923.508\" r=\"14\" fill=\"#009af9\" fill-rule=\"evenodd\" fill-opacity=\"1\" stroke=\"#000000\" stroke-opacity=\"1\" stroke-width=\"3.2\"/>\n",
       "<circle clip-path=\"url(#clip962)\" cx=\"683.335\" cy=\"1132.39\" r=\"14\" fill=\"#009af9\" fill-rule=\"evenodd\" fill-opacity=\"1\" stroke=\"#000000\" stroke-opacity=\"1\" stroke-width=\"3.2\"/>\n",
       "<circle clip-path=\"url(#clip962)\" cx=\"685.43\" cy=\"923.508\" r=\"14\" fill=\"#009af9\" fill-rule=\"evenodd\" fill-opacity=\"1\" stroke=\"#000000\" stroke-opacity=\"1\" stroke-width=\"3.2\"/>\n",
       "<circle clip-path=\"url(#clip962)\" cx=\"687.525\" cy=\"1236.83\" r=\"14\" fill=\"#009af9\" fill-rule=\"evenodd\" fill-opacity=\"1\" stroke=\"#000000\" stroke-opacity=\"1\" stroke-width=\"3.2\"/>\n",
       "<circle clip-path=\"url(#clip962)\" cx=\"689.62\" cy=\"1236.83\" r=\"14\" fill=\"#009af9\" fill-rule=\"evenodd\" fill-opacity=\"1\" stroke=\"#000000\" stroke-opacity=\"1\" stroke-width=\"3.2\"/>\n",
       "<circle clip-path=\"url(#clip962)\" cx=\"691.714\" cy=\"1236.83\" r=\"14\" fill=\"#009af9\" fill-rule=\"evenodd\" fill-opacity=\"1\" stroke=\"#000000\" stroke-opacity=\"1\" stroke-width=\"3.2\"/>\n",
       "<circle clip-path=\"url(#clip962)\" cx=\"693.809\" cy=\"1341.27\" r=\"14\" fill=\"#009af9\" fill-rule=\"evenodd\" fill-opacity=\"1\" stroke=\"#000000\" stroke-opacity=\"1\" stroke-width=\"3.2\"/>\n",
       "<circle clip-path=\"url(#clip962)\" cx=\"695.904\" cy=\"923.508\" r=\"14\" fill=\"#009af9\" fill-rule=\"evenodd\" fill-opacity=\"1\" stroke=\"#000000\" stroke-opacity=\"1\" stroke-width=\"3.2\"/>\n",
       "<circle clip-path=\"url(#clip962)\" cx=\"697.998\" cy=\"714.625\" r=\"14\" fill=\"#009af9\" fill-rule=\"evenodd\" fill-opacity=\"1\" stroke=\"#000000\" stroke-opacity=\"1\" stroke-width=\"3.2\"/>\n",
       "<circle clip-path=\"url(#clip962)\" cx=\"700.093\" cy=\"923.508\" r=\"14\" fill=\"#009af9\" fill-rule=\"evenodd\" fill-opacity=\"1\" stroke=\"#000000\" stroke-opacity=\"1\" stroke-width=\"3.2\"/>\n",
       "<circle clip-path=\"url(#clip962)\" cx=\"702.188\" cy=\"1445.72\" r=\"14\" fill=\"#009af9\" fill-rule=\"evenodd\" fill-opacity=\"1\" stroke=\"#000000\" stroke-opacity=\"1\" stroke-width=\"3.2\"/>\n",
       "<circle clip-path=\"url(#clip962)\" cx=\"704.283\" cy=\"819.067\" r=\"14\" fill=\"#009af9\" fill-rule=\"evenodd\" fill-opacity=\"1\" stroke=\"#000000\" stroke-opacity=\"1\" stroke-width=\"3.2\"/>\n",
       "<circle clip-path=\"url(#clip962)\" cx=\"706.377\" cy=\"610.184\" r=\"14\" fill=\"#009af9\" fill-rule=\"evenodd\" fill-opacity=\"1\" stroke=\"#000000\" stroke-opacity=\"1\" stroke-width=\"3.2\"/>\n",
       "<circle clip-path=\"url(#clip962)\" cx=\"708.472\" cy=\"1132.39\" r=\"14\" fill=\"#009af9\" fill-rule=\"evenodd\" fill-opacity=\"1\" stroke=\"#000000\" stroke-opacity=\"1\" stroke-width=\"3.2\"/>\n",
       "<circle clip-path=\"url(#clip962)\" cx=\"710.567\" cy=\"1236.83\" r=\"14\" fill=\"#009af9\" fill-rule=\"evenodd\" fill-opacity=\"1\" stroke=\"#000000\" stroke-opacity=\"1\" stroke-width=\"3.2\"/>\n",
       "<circle clip-path=\"url(#clip962)\" cx=\"712.661\" cy=\"1132.39\" r=\"14\" fill=\"#009af9\" fill-rule=\"evenodd\" fill-opacity=\"1\" stroke=\"#000000\" stroke-opacity=\"1\" stroke-width=\"3.2\"/>\n",
       "<circle clip-path=\"url(#clip962)\" cx=\"714.756\" cy=\"819.067\" r=\"14\" fill=\"#009af9\" fill-rule=\"evenodd\" fill-opacity=\"1\" stroke=\"#000000\" stroke-opacity=\"1\" stroke-width=\"3.2\"/>\n",
       "<circle clip-path=\"url(#clip962)\" cx=\"716.851\" cy=\"1027.95\" r=\"14\" fill=\"#009af9\" fill-rule=\"evenodd\" fill-opacity=\"1\" stroke=\"#000000\" stroke-opacity=\"1\" stroke-width=\"3.2\"/>\n",
       "<circle clip-path=\"url(#clip962)\" cx=\"718.946\" cy=\"610.184\" r=\"14\" fill=\"#009af9\" fill-rule=\"evenodd\" fill-opacity=\"1\" stroke=\"#000000\" stroke-opacity=\"1\" stroke-width=\"3.2\"/>\n",
       "<circle clip-path=\"url(#clip962)\" cx=\"721.04\" cy=\"1027.95\" r=\"14\" fill=\"#009af9\" fill-rule=\"evenodd\" fill-opacity=\"1\" stroke=\"#000000\" stroke-opacity=\"1\" stroke-width=\"3.2\"/>\n",
       "<circle clip-path=\"url(#clip962)\" cx=\"723.135\" cy=\"923.508\" r=\"14\" fill=\"#009af9\" fill-rule=\"evenodd\" fill-opacity=\"1\" stroke=\"#000000\" stroke-opacity=\"1\" stroke-width=\"3.2\"/>\n",
       "<circle clip-path=\"url(#clip962)\" cx=\"725.23\" cy=\"923.508\" r=\"14\" fill=\"#009af9\" fill-rule=\"evenodd\" fill-opacity=\"1\" stroke=\"#000000\" stroke-opacity=\"1\" stroke-width=\"3.2\"/>\n",
       "<circle clip-path=\"url(#clip962)\" cx=\"727.324\" cy=\"923.508\" r=\"14\" fill=\"#009af9\" fill-rule=\"evenodd\" fill-opacity=\"1\" stroke=\"#000000\" stroke-opacity=\"1\" stroke-width=\"3.2\"/>\n",
       "<circle clip-path=\"url(#clip962)\" cx=\"729.419\" cy=\"819.067\" r=\"14\" fill=\"#009af9\" fill-rule=\"evenodd\" fill-opacity=\"1\" stroke=\"#000000\" stroke-opacity=\"1\" stroke-width=\"3.2\"/>\n",
       "<circle clip-path=\"url(#clip962)\" cx=\"731.514\" cy=\"1027.95\" r=\"14\" fill=\"#009af9\" fill-rule=\"evenodd\" fill-opacity=\"1\" stroke=\"#000000\" stroke-opacity=\"1\" stroke-width=\"3.2\"/>\n",
       "<circle clip-path=\"url(#clip962)\" cx=\"733.608\" cy=\"819.067\" r=\"14\" fill=\"#009af9\" fill-rule=\"evenodd\" fill-opacity=\"1\" stroke=\"#000000\" stroke-opacity=\"1\" stroke-width=\"3.2\"/>\n",
       "<circle clip-path=\"url(#clip962)\" cx=\"735.703\" cy=\"714.625\" r=\"14\" fill=\"#009af9\" fill-rule=\"evenodd\" fill-opacity=\"1\" stroke=\"#000000\" stroke-opacity=\"1\" stroke-width=\"3.2\"/>\n",
       "<circle clip-path=\"url(#clip962)\" cx=\"737.798\" cy=\"1132.39\" r=\"14\" fill=\"#009af9\" fill-rule=\"evenodd\" fill-opacity=\"1\" stroke=\"#000000\" stroke-opacity=\"1\" stroke-width=\"3.2\"/>\n",
       "<circle clip-path=\"url(#clip962)\" cx=\"739.893\" cy=\"714.625\" r=\"14\" fill=\"#009af9\" fill-rule=\"evenodd\" fill-opacity=\"1\" stroke=\"#000000\" stroke-opacity=\"1\" stroke-width=\"3.2\"/>\n",
       "<circle clip-path=\"url(#clip962)\" cx=\"741.987\" cy=\"1027.95\" r=\"14\" fill=\"#009af9\" fill-rule=\"evenodd\" fill-opacity=\"1\" stroke=\"#000000\" stroke-opacity=\"1\" stroke-width=\"3.2\"/>\n",
       "<circle clip-path=\"url(#clip962)\" cx=\"744.082\" cy=\"1132.39\" r=\"14\" fill=\"#009af9\" fill-rule=\"evenodd\" fill-opacity=\"1\" stroke=\"#000000\" stroke-opacity=\"1\" stroke-width=\"3.2\"/>\n",
       "<circle clip-path=\"url(#clip962)\" cx=\"746.177\" cy=\"714.625\" r=\"14\" fill=\"#009af9\" fill-rule=\"evenodd\" fill-opacity=\"1\" stroke=\"#000000\" stroke-opacity=\"1\" stroke-width=\"3.2\"/>\n",
       "<circle clip-path=\"url(#clip962)\" cx=\"748.271\" cy=\"923.508\" r=\"14\" fill=\"#009af9\" fill-rule=\"evenodd\" fill-opacity=\"1\" stroke=\"#000000\" stroke-opacity=\"1\" stroke-width=\"3.2\"/>\n",
       "<circle clip-path=\"url(#clip962)\" cx=\"750.366\" cy=\"1236.83\" r=\"14\" fill=\"#009af9\" fill-rule=\"evenodd\" fill-opacity=\"1\" stroke=\"#000000\" stroke-opacity=\"1\" stroke-width=\"3.2\"/>\n",
       "<circle clip-path=\"url(#clip962)\" cx=\"752.461\" cy=\"1341.27\" r=\"14\" fill=\"#009af9\" fill-rule=\"evenodd\" fill-opacity=\"1\" stroke=\"#000000\" stroke-opacity=\"1\" stroke-width=\"3.2\"/>\n",
       "<circle clip-path=\"url(#clip962)\" cx=\"754.556\" cy=\"1027.95\" r=\"14\" fill=\"#009af9\" fill-rule=\"evenodd\" fill-opacity=\"1\" stroke=\"#000000\" stroke-opacity=\"1\" stroke-width=\"3.2\"/>\n",
       "<circle clip-path=\"url(#clip962)\" cx=\"756.65\" cy=\"923.508\" r=\"14\" fill=\"#009af9\" fill-rule=\"evenodd\" fill-opacity=\"1\" stroke=\"#000000\" stroke-opacity=\"1\" stroke-width=\"3.2\"/>\n",
       "<circle clip-path=\"url(#clip962)\" cx=\"758.745\" cy=\"1027.95\" r=\"14\" fill=\"#009af9\" fill-rule=\"evenodd\" fill-opacity=\"1\" stroke=\"#000000\" stroke-opacity=\"1\" stroke-width=\"3.2\"/>\n",
       "<circle clip-path=\"url(#clip962)\" cx=\"760.84\" cy=\"1027.95\" r=\"14\" fill=\"#009af9\" fill-rule=\"evenodd\" fill-opacity=\"1\" stroke=\"#000000\" stroke-opacity=\"1\" stroke-width=\"3.2\"/>\n",
       "<circle clip-path=\"url(#clip962)\" cx=\"762.934\" cy=\"819.067\" r=\"14\" fill=\"#009af9\" fill-rule=\"evenodd\" fill-opacity=\"1\" stroke=\"#000000\" stroke-opacity=\"1\" stroke-width=\"3.2\"/>\n",
       "<circle clip-path=\"url(#clip962)\" cx=\"765.029\" cy=\"1132.39\" r=\"14\" fill=\"#009af9\" fill-rule=\"evenodd\" fill-opacity=\"1\" stroke=\"#000000\" stroke-opacity=\"1\" stroke-width=\"3.2\"/>\n",
       "<circle clip-path=\"url(#clip962)\" cx=\"767.124\" cy=\"1132.39\" r=\"14\" fill=\"#009af9\" fill-rule=\"evenodd\" fill-opacity=\"1\" stroke=\"#000000\" stroke-opacity=\"1\" stroke-width=\"3.2\"/>\n",
       "<circle clip-path=\"url(#clip962)\" cx=\"769.219\" cy=\"923.508\" r=\"14\" fill=\"#009af9\" fill-rule=\"evenodd\" fill-opacity=\"1\" stroke=\"#000000\" stroke-opacity=\"1\" stroke-width=\"3.2\"/>\n",
       "<circle clip-path=\"url(#clip962)\" cx=\"771.313\" cy=\"923.508\" r=\"14\" fill=\"#009af9\" fill-rule=\"evenodd\" fill-opacity=\"1\" stroke=\"#000000\" stroke-opacity=\"1\" stroke-width=\"3.2\"/>\n",
       "<circle clip-path=\"url(#clip962)\" cx=\"773.408\" cy=\"714.625\" r=\"14\" fill=\"#009af9\" fill-rule=\"evenodd\" fill-opacity=\"1\" stroke=\"#000000\" stroke-opacity=\"1\" stroke-width=\"3.2\"/>\n",
       "<circle clip-path=\"url(#clip962)\" cx=\"775.503\" cy=\"714.625\" r=\"14\" fill=\"#009af9\" fill-rule=\"evenodd\" fill-opacity=\"1\" stroke=\"#000000\" stroke-opacity=\"1\" stroke-width=\"3.2\"/>\n",
       "<circle clip-path=\"url(#clip962)\" cx=\"777.597\" cy=\"714.625\" r=\"14\" fill=\"#009af9\" fill-rule=\"evenodd\" fill-opacity=\"1\" stroke=\"#000000\" stroke-opacity=\"1\" stroke-width=\"3.2\"/>\n",
       "<circle clip-path=\"url(#clip962)\" cx=\"779.692\" cy=\"923.508\" r=\"14\" fill=\"#009af9\" fill-rule=\"evenodd\" fill-opacity=\"1\" stroke=\"#000000\" stroke-opacity=\"1\" stroke-width=\"3.2\"/>\n",
       "<circle clip-path=\"url(#clip962)\" cx=\"781.787\" cy=\"819.067\" r=\"14\" fill=\"#009af9\" fill-rule=\"evenodd\" fill-opacity=\"1\" stroke=\"#000000\" stroke-opacity=\"1\" stroke-width=\"3.2\"/>\n",
       "<circle clip-path=\"url(#clip962)\" cx=\"783.881\" cy=\"610.184\" r=\"14\" fill=\"#009af9\" fill-rule=\"evenodd\" fill-opacity=\"1\" stroke=\"#000000\" stroke-opacity=\"1\" stroke-width=\"3.2\"/>\n",
       "<circle clip-path=\"url(#clip962)\" cx=\"785.976\" cy=\"923.508\" r=\"14\" fill=\"#009af9\" fill-rule=\"evenodd\" fill-opacity=\"1\" stroke=\"#000000\" stroke-opacity=\"1\" stroke-width=\"3.2\"/>\n",
       "<circle clip-path=\"url(#clip962)\" cx=\"788.071\" cy=\"1236.83\" r=\"14\" fill=\"#009af9\" fill-rule=\"evenodd\" fill-opacity=\"1\" stroke=\"#000000\" stroke-opacity=\"1\" stroke-width=\"3.2\"/>\n",
       "<circle clip-path=\"url(#clip962)\" cx=\"790.166\" cy=\"1236.83\" r=\"14\" fill=\"#009af9\" fill-rule=\"evenodd\" fill-opacity=\"1\" stroke=\"#000000\" stroke-opacity=\"1\" stroke-width=\"3.2\"/>\n",
       "<circle clip-path=\"url(#clip962)\" cx=\"792.26\" cy=\"1027.95\" r=\"14\" fill=\"#009af9\" fill-rule=\"evenodd\" fill-opacity=\"1\" stroke=\"#000000\" stroke-opacity=\"1\" stroke-width=\"3.2\"/>\n",
       "<circle clip-path=\"url(#clip962)\" cx=\"794.355\" cy=\"923.508\" r=\"14\" fill=\"#009af9\" fill-rule=\"evenodd\" fill-opacity=\"1\" stroke=\"#000000\" stroke-opacity=\"1\" stroke-width=\"3.2\"/>\n",
       "<circle clip-path=\"url(#clip962)\" cx=\"796.45\" cy=\"1027.95\" r=\"14\" fill=\"#009af9\" fill-rule=\"evenodd\" fill-opacity=\"1\" stroke=\"#000000\" stroke-opacity=\"1\" stroke-width=\"3.2\"/>\n",
       "<circle clip-path=\"url(#clip962)\" cx=\"798.544\" cy=\"1027.95\" r=\"14\" fill=\"#009af9\" fill-rule=\"evenodd\" fill-opacity=\"1\" stroke=\"#000000\" stroke-opacity=\"1\" stroke-width=\"3.2\"/>\n",
       "<circle clip-path=\"url(#clip962)\" cx=\"800.639\" cy=\"1132.39\" r=\"14\" fill=\"#009af9\" fill-rule=\"evenodd\" fill-opacity=\"1\" stroke=\"#000000\" stroke-opacity=\"1\" stroke-width=\"3.2\"/>\n",
       "<circle clip-path=\"url(#clip962)\" cx=\"802.734\" cy=\"923.508\" r=\"14\" fill=\"#009af9\" fill-rule=\"evenodd\" fill-opacity=\"1\" stroke=\"#000000\" stroke-opacity=\"1\" stroke-width=\"3.2\"/>\n",
       "<circle clip-path=\"url(#clip962)\" cx=\"804.829\" cy=\"923.508\" r=\"14\" fill=\"#009af9\" fill-rule=\"evenodd\" fill-opacity=\"1\" stroke=\"#000000\" stroke-opacity=\"1\" stroke-width=\"3.2\"/>\n",
       "<circle clip-path=\"url(#clip962)\" cx=\"806.923\" cy=\"714.625\" r=\"14\" fill=\"#009af9\" fill-rule=\"evenodd\" fill-opacity=\"1\" stroke=\"#000000\" stroke-opacity=\"1\" stroke-width=\"3.2\"/>\n",
       "<circle clip-path=\"url(#clip962)\" cx=\"809.018\" cy=\"923.508\" r=\"14\" fill=\"#009af9\" fill-rule=\"evenodd\" fill-opacity=\"1\" stroke=\"#000000\" stroke-opacity=\"1\" stroke-width=\"3.2\"/>\n",
       "<circle clip-path=\"url(#clip962)\" cx=\"811.113\" cy=\"714.625\" r=\"14\" fill=\"#009af9\" fill-rule=\"evenodd\" fill-opacity=\"1\" stroke=\"#000000\" stroke-opacity=\"1\" stroke-width=\"3.2\"/>\n",
       "<circle clip-path=\"url(#clip962)\" cx=\"813.207\" cy=\"1027.95\" r=\"14\" fill=\"#009af9\" fill-rule=\"evenodd\" fill-opacity=\"1\" stroke=\"#000000\" stroke-opacity=\"1\" stroke-width=\"3.2\"/>\n",
       "<circle clip-path=\"url(#clip962)\" cx=\"815.302\" cy=\"1027.95\" r=\"14\" fill=\"#009af9\" fill-rule=\"evenodd\" fill-opacity=\"1\" stroke=\"#000000\" stroke-opacity=\"1\" stroke-width=\"3.2\"/>\n",
       "<circle clip-path=\"url(#clip962)\" cx=\"817.397\" cy=\"819.067\" r=\"14\" fill=\"#009af9\" fill-rule=\"evenodd\" fill-opacity=\"1\" stroke=\"#000000\" stroke-opacity=\"1\" stroke-width=\"3.2\"/>\n",
       "<circle clip-path=\"url(#clip962)\" cx=\"819.492\" cy=\"923.508\" r=\"14\" fill=\"#009af9\" fill-rule=\"evenodd\" fill-opacity=\"1\" stroke=\"#000000\" stroke-opacity=\"1\" stroke-width=\"3.2\"/>\n",
       "<circle clip-path=\"url(#clip962)\" cx=\"821.586\" cy=\"1027.95\" r=\"14\" fill=\"#009af9\" fill-rule=\"evenodd\" fill-opacity=\"1\" stroke=\"#000000\" stroke-opacity=\"1\" stroke-width=\"3.2\"/>\n",
       "<circle clip-path=\"url(#clip962)\" cx=\"823.681\" cy=\"1027.95\" r=\"14\" fill=\"#009af9\" fill-rule=\"evenodd\" fill-opacity=\"1\" stroke=\"#000000\" stroke-opacity=\"1\" stroke-width=\"3.2\"/>\n",
       "<circle clip-path=\"url(#clip962)\" cx=\"825.776\" cy=\"819.067\" r=\"14\" fill=\"#009af9\" fill-rule=\"evenodd\" fill-opacity=\"1\" stroke=\"#000000\" stroke-opacity=\"1\" stroke-width=\"3.2\"/>\n",
       "<circle clip-path=\"url(#clip962)\" cx=\"827.87\" cy=\"1027.95\" r=\"14\" fill=\"#009af9\" fill-rule=\"evenodd\" fill-opacity=\"1\" stroke=\"#000000\" stroke-opacity=\"1\" stroke-width=\"3.2\"/>\n",
       "<circle clip-path=\"url(#clip962)\" cx=\"829.965\" cy=\"1236.83\" r=\"14\" fill=\"#009af9\" fill-rule=\"evenodd\" fill-opacity=\"1\" stroke=\"#000000\" stroke-opacity=\"1\" stroke-width=\"3.2\"/>\n",
       "<circle clip-path=\"url(#clip962)\" cx=\"832.06\" cy=\"819.067\" r=\"14\" fill=\"#009af9\" fill-rule=\"evenodd\" fill-opacity=\"1\" stroke=\"#000000\" stroke-opacity=\"1\" stroke-width=\"3.2\"/>\n",
       "<circle clip-path=\"url(#clip962)\" cx=\"834.155\" cy=\"923.508\" r=\"14\" fill=\"#009af9\" fill-rule=\"evenodd\" fill-opacity=\"1\" stroke=\"#000000\" stroke-opacity=\"1\" stroke-width=\"3.2\"/>\n",
       "<circle clip-path=\"url(#clip962)\" cx=\"836.249\" cy=\"1236.83\" r=\"14\" fill=\"#009af9\" fill-rule=\"evenodd\" fill-opacity=\"1\" stroke=\"#000000\" stroke-opacity=\"1\" stroke-width=\"3.2\"/>\n",
       "<circle clip-path=\"url(#clip962)\" cx=\"838.344\" cy=\"819.067\" r=\"14\" fill=\"#009af9\" fill-rule=\"evenodd\" fill-opacity=\"1\" stroke=\"#000000\" stroke-opacity=\"1\" stroke-width=\"3.2\"/>\n",
       "<circle clip-path=\"url(#clip962)\" cx=\"840.439\" cy=\"819.067\" r=\"14\" fill=\"#009af9\" fill-rule=\"evenodd\" fill-opacity=\"1\" stroke=\"#000000\" stroke-opacity=\"1\" stroke-width=\"3.2\"/>\n",
       "<circle clip-path=\"url(#clip962)\" cx=\"842.533\" cy=\"819.067\" r=\"14\" fill=\"#009af9\" fill-rule=\"evenodd\" fill-opacity=\"1\" stroke=\"#000000\" stroke-opacity=\"1\" stroke-width=\"3.2\"/>\n",
       "<circle clip-path=\"url(#clip962)\" cx=\"844.628\" cy=\"819.067\" r=\"14\" fill=\"#009af9\" fill-rule=\"evenodd\" fill-opacity=\"1\" stroke=\"#000000\" stroke-opacity=\"1\" stroke-width=\"3.2\"/>\n",
       "<circle clip-path=\"url(#clip962)\" cx=\"846.723\" cy=\"819.067\" r=\"14\" fill=\"#009af9\" fill-rule=\"evenodd\" fill-opacity=\"1\" stroke=\"#000000\" stroke-opacity=\"1\" stroke-width=\"3.2\"/>\n",
       "<circle clip-path=\"url(#clip962)\" cx=\"848.817\" cy=\"1236.83\" r=\"14\" fill=\"#009af9\" fill-rule=\"evenodd\" fill-opacity=\"1\" stroke=\"#000000\" stroke-opacity=\"1\" stroke-width=\"3.2\"/>\n",
       "<circle clip-path=\"url(#clip962)\" cx=\"850.912\" cy=\"819.067\" r=\"14\" fill=\"#009af9\" fill-rule=\"evenodd\" fill-opacity=\"1\" stroke=\"#000000\" stroke-opacity=\"1\" stroke-width=\"3.2\"/>\n",
       "<circle clip-path=\"url(#clip962)\" cx=\"853.007\" cy=\"1027.95\" r=\"14\" fill=\"#009af9\" fill-rule=\"evenodd\" fill-opacity=\"1\" stroke=\"#000000\" stroke-opacity=\"1\" stroke-width=\"3.2\"/>\n",
       "<circle clip-path=\"url(#clip962)\" cx=\"855.102\" cy=\"714.625\" r=\"14\" fill=\"#009af9\" fill-rule=\"evenodd\" fill-opacity=\"1\" stroke=\"#000000\" stroke-opacity=\"1\" stroke-width=\"3.2\"/>\n",
       "<circle clip-path=\"url(#clip962)\" cx=\"857.196\" cy=\"505.742\" r=\"14\" fill=\"#009af9\" fill-rule=\"evenodd\" fill-opacity=\"1\" stroke=\"#000000\" stroke-opacity=\"1\" stroke-width=\"3.2\"/>\n",
       "<circle clip-path=\"url(#clip962)\" cx=\"859.291\" cy=\"923.508\" r=\"14\" fill=\"#009af9\" fill-rule=\"evenodd\" fill-opacity=\"1\" stroke=\"#000000\" stroke-opacity=\"1\" stroke-width=\"3.2\"/>\n",
       "<circle clip-path=\"url(#clip962)\" cx=\"861.386\" cy=\"819.067\" r=\"14\" fill=\"#009af9\" fill-rule=\"evenodd\" fill-opacity=\"1\" stroke=\"#000000\" stroke-opacity=\"1\" stroke-width=\"3.2\"/>\n",
       "<circle clip-path=\"url(#clip962)\" cx=\"863.48\" cy=\"714.625\" r=\"14\" fill=\"#009af9\" fill-rule=\"evenodd\" fill-opacity=\"1\" stroke=\"#000000\" stroke-opacity=\"1\" stroke-width=\"3.2\"/>\n",
       "<circle clip-path=\"url(#clip962)\" cx=\"865.575\" cy=\"1027.95\" r=\"14\" fill=\"#009af9\" fill-rule=\"evenodd\" fill-opacity=\"1\" stroke=\"#000000\" stroke-opacity=\"1\" stroke-width=\"3.2\"/>\n",
       "<circle clip-path=\"url(#clip962)\" cx=\"867.67\" cy=\"819.067\" r=\"14\" fill=\"#009af9\" fill-rule=\"evenodd\" fill-opacity=\"1\" stroke=\"#000000\" stroke-opacity=\"1\" stroke-width=\"3.2\"/>\n",
       "<circle clip-path=\"url(#clip962)\" cx=\"869.765\" cy=\"1027.95\" r=\"14\" fill=\"#009af9\" fill-rule=\"evenodd\" fill-opacity=\"1\" stroke=\"#000000\" stroke-opacity=\"1\" stroke-width=\"3.2\"/>\n",
       "<circle clip-path=\"url(#clip962)\" cx=\"871.859\" cy=\"923.508\" r=\"14\" fill=\"#009af9\" fill-rule=\"evenodd\" fill-opacity=\"1\" stroke=\"#000000\" stroke-opacity=\"1\" stroke-width=\"3.2\"/>\n",
       "<circle clip-path=\"url(#clip962)\" cx=\"873.954\" cy=\"923.508\" r=\"14\" fill=\"#009af9\" fill-rule=\"evenodd\" fill-opacity=\"1\" stroke=\"#000000\" stroke-opacity=\"1\" stroke-width=\"3.2\"/>\n",
       "<circle clip-path=\"url(#clip962)\" cx=\"876.049\" cy=\"1236.83\" r=\"14\" fill=\"#009af9\" fill-rule=\"evenodd\" fill-opacity=\"1\" stroke=\"#000000\" stroke-opacity=\"1\" stroke-width=\"3.2\"/>\n",
       "<circle clip-path=\"url(#clip962)\" cx=\"878.143\" cy=\"1027.95\" r=\"14\" fill=\"#009af9\" fill-rule=\"evenodd\" fill-opacity=\"1\" stroke=\"#000000\" stroke-opacity=\"1\" stroke-width=\"3.2\"/>\n",
       "<circle clip-path=\"url(#clip962)\" cx=\"880.238\" cy=\"714.625\" r=\"14\" fill=\"#009af9\" fill-rule=\"evenodd\" fill-opacity=\"1\" stroke=\"#000000\" stroke-opacity=\"1\" stroke-width=\"3.2\"/>\n",
       "<circle clip-path=\"url(#clip962)\" cx=\"882.333\" cy=\"923.508\" r=\"14\" fill=\"#009af9\" fill-rule=\"evenodd\" fill-opacity=\"1\" stroke=\"#000000\" stroke-opacity=\"1\" stroke-width=\"3.2\"/>\n",
       "<circle clip-path=\"url(#clip962)\" cx=\"884.428\" cy=\"1027.95\" r=\"14\" fill=\"#009af9\" fill-rule=\"evenodd\" fill-opacity=\"1\" stroke=\"#000000\" stroke-opacity=\"1\" stroke-width=\"3.2\"/>\n",
       "<circle clip-path=\"url(#clip962)\" cx=\"886.522\" cy=\"401.301\" r=\"14\" fill=\"#009af9\" fill-rule=\"evenodd\" fill-opacity=\"1\" stroke=\"#000000\" stroke-opacity=\"1\" stroke-width=\"3.2\"/>\n",
       "<circle clip-path=\"url(#clip962)\" cx=\"888.617\" cy=\"1027.95\" r=\"14\" fill=\"#009af9\" fill-rule=\"evenodd\" fill-opacity=\"1\" stroke=\"#000000\" stroke-opacity=\"1\" stroke-width=\"3.2\"/>\n",
       "<circle clip-path=\"url(#clip962)\" cx=\"890.712\" cy=\"923.508\" r=\"14\" fill=\"#009af9\" fill-rule=\"evenodd\" fill-opacity=\"1\" stroke=\"#000000\" stroke-opacity=\"1\" stroke-width=\"3.2\"/>\n",
       "<circle clip-path=\"url(#clip962)\" cx=\"892.806\" cy=\"296.859\" r=\"14\" fill=\"#009af9\" fill-rule=\"evenodd\" fill-opacity=\"1\" stroke=\"#000000\" stroke-opacity=\"1\" stroke-width=\"3.2\"/>\n",
       "<circle clip-path=\"url(#clip962)\" cx=\"894.901\" cy=\"1132.39\" r=\"14\" fill=\"#009af9\" fill-rule=\"evenodd\" fill-opacity=\"1\" stroke=\"#000000\" stroke-opacity=\"1\" stroke-width=\"3.2\"/>\n",
       "<circle clip-path=\"url(#clip962)\" cx=\"896.996\" cy=\"1132.39\" r=\"14\" fill=\"#009af9\" fill-rule=\"evenodd\" fill-opacity=\"1\" stroke=\"#000000\" stroke-opacity=\"1\" stroke-width=\"3.2\"/>\n",
       "<circle clip-path=\"url(#clip962)\" cx=\"899.091\" cy=\"1027.95\" r=\"14\" fill=\"#009af9\" fill-rule=\"evenodd\" fill-opacity=\"1\" stroke=\"#000000\" stroke-opacity=\"1\" stroke-width=\"3.2\"/>\n",
       "<circle clip-path=\"url(#clip962)\" cx=\"901.185\" cy=\"1341.27\" r=\"14\" fill=\"#009af9\" fill-rule=\"evenodd\" fill-opacity=\"1\" stroke=\"#000000\" stroke-opacity=\"1\" stroke-width=\"3.2\"/>\n",
       "<circle clip-path=\"url(#clip962)\" cx=\"903.28\" cy=\"819.067\" r=\"14\" fill=\"#009af9\" fill-rule=\"evenodd\" fill-opacity=\"1\" stroke=\"#000000\" stroke-opacity=\"1\" stroke-width=\"3.2\"/>\n",
       "<circle clip-path=\"url(#clip962)\" cx=\"905.375\" cy=\"714.625\" r=\"14\" fill=\"#009af9\" fill-rule=\"evenodd\" fill-opacity=\"1\" stroke=\"#000000\" stroke-opacity=\"1\" stroke-width=\"3.2\"/>\n",
       "<circle clip-path=\"url(#clip962)\" cx=\"907.469\" cy=\"923.508\" r=\"14\" fill=\"#009af9\" fill-rule=\"evenodd\" fill-opacity=\"1\" stroke=\"#000000\" stroke-opacity=\"1\" stroke-width=\"3.2\"/>\n",
       "<circle clip-path=\"url(#clip962)\" cx=\"909.564\" cy=\"1132.39\" r=\"14\" fill=\"#009af9\" fill-rule=\"evenodd\" fill-opacity=\"1\" stroke=\"#000000\" stroke-opacity=\"1\" stroke-width=\"3.2\"/>\n",
       "<circle clip-path=\"url(#clip962)\" cx=\"911.659\" cy=\"923.508\" r=\"14\" fill=\"#009af9\" fill-rule=\"evenodd\" fill-opacity=\"1\" stroke=\"#000000\" stroke-opacity=\"1\" stroke-width=\"3.2\"/>\n",
       "<circle clip-path=\"url(#clip962)\" cx=\"913.753\" cy=\"1341.27\" r=\"14\" fill=\"#009af9\" fill-rule=\"evenodd\" fill-opacity=\"1\" stroke=\"#000000\" stroke-opacity=\"1\" stroke-width=\"3.2\"/>\n",
       "<circle clip-path=\"url(#clip962)\" cx=\"915.848\" cy=\"923.508\" r=\"14\" fill=\"#009af9\" fill-rule=\"evenodd\" fill-opacity=\"1\" stroke=\"#000000\" stroke-opacity=\"1\" stroke-width=\"3.2\"/>\n",
       "<circle clip-path=\"url(#clip962)\" cx=\"917.943\" cy=\"1027.95\" r=\"14\" fill=\"#009af9\" fill-rule=\"evenodd\" fill-opacity=\"1\" stroke=\"#000000\" stroke-opacity=\"1\" stroke-width=\"3.2\"/>\n",
       "<circle clip-path=\"url(#clip962)\" cx=\"920.038\" cy=\"714.625\" r=\"14\" fill=\"#009af9\" fill-rule=\"evenodd\" fill-opacity=\"1\" stroke=\"#000000\" stroke-opacity=\"1\" stroke-width=\"3.2\"/>\n",
       "<circle clip-path=\"url(#clip962)\" cx=\"922.132\" cy=\"819.067\" r=\"14\" fill=\"#009af9\" fill-rule=\"evenodd\" fill-opacity=\"1\" stroke=\"#000000\" stroke-opacity=\"1\" stroke-width=\"3.2\"/>\n",
       "<circle clip-path=\"url(#clip962)\" cx=\"924.227\" cy=\"1341.27\" r=\"14\" fill=\"#009af9\" fill-rule=\"evenodd\" fill-opacity=\"1\" stroke=\"#000000\" stroke-opacity=\"1\" stroke-width=\"3.2\"/>\n",
       "<circle clip-path=\"url(#clip962)\" cx=\"926.322\" cy=\"819.067\" r=\"14\" fill=\"#009af9\" fill-rule=\"evenodd\" fill-opacity=\"1\" stroke=\"#000000\" stroke-opacity=\"1\" stroke-width=\"3.2\"/>\n",
       "<circle clip-path=\"url(#clip962)\" cx=\"928.416\" cy=\"819.067\" r=\"14\" fill=\"#009af9\" fill-rule=\"evenodd\" fill-opacity=\"1\" stroke=\"#000000\" stroke-opacity=\"1\" stroke-width=\"3.2\"/>\n",
       "<circle clip-path=\"url(#clip962)\" cx=\"930.511\" cy=\"1236.83\" r=\"14\" fill=\"#009af9\" fill-rule=\"evenodd\" fill-opacity=\"1\" stroke=\"#000000\" stroke-opacity=\"1\" stroke-width=\"3.2\"/>\n",
       "<circle clip-path=\"url(#clip962)\" cx=\"932.606\" cy=\"923.508\" r=\"14\" fill=\"#009af9\" fill-rule=\"evenodd\" fill-opacity=\"1\" stroke=\"#000000\" stroke-opacity=\"1\" stroke-width=\"3.2\"/>\n",
       "<circle clip-path=\"url(#clip962)\" cx=\"934.701\" cy=\"1027.95\" r=\"14\" fill=\"#009af9\" fill-rule=\"evenodd\" fill-opacity=\"1\" stroke=\"#000000\" stroke-opacity=\"1\" stroke-width=\"3.2\"/>\n",
       "<circle clip-path=\"url(#clip962)\" cx=\"936.795\" cy=\"1027.95\" r=\"14\" fill=\"#009af9\" fill-rule=\"evenodd\" fill-opacity=\"1\" stroke=\"#000000\" stroke-opacity=\"1\" stroke-width=\"3.2\"/>\n",
       "<circle clip-path=\"url(#clip962)\" cx=\"938.89\" cy=\"1132.39\" r=\"14\" fill=\"#009af9\" fill-rule=\"evenodd\" fill-opacity=\"1\" stroke=\"#000000\" stroke-opacity=\"1\" stroke-width=\"3.2\"/>\n",
       "<circle clip-path=\"url(#clip962)\" cx=\"940.985\" cy=\"1132.39\" r=\"14\" fill=\"#009af9\" fill-rule=\"evenodd\" fill-opacity=\"1\" stroke=\"#000000\" stroke-opacity=\"1\" stroke-width=\"3.2\"/>\n",
       "<circle clip-path=\"url(#clip962)\" cx=\"943.079\" cy=\"819.067\" r=\"14\" fill=\"#009af9\" fill-rule=\"evenodd\" fill-opacity=\"1\" stroke=\"#000000\" stroke-opacity=\"1\" stroke-width=\"3.2\"/>\n",
       "<circle clip-path=\"url(#clip962)\" cx=\"945.174\" cy=\"1236.83\" r=\"14\" fill=\"#009af9\" fill-rule=\"evenodd\" fill-opacity=\"1\" stroke=\"#000000\" stroke-opacity=\"1\" stroke-width=\"3.2\"/>\n",
       "<circle clip-path=\"url(#clip962)\" cx=\"947.269\" cy=\"610.184\" r=\"14\" fill=\"#009af9\" fill-rule=\"evenodd\" fill-opacity=\"1\" stroke=\"#000000\" stroke-opacity=\"1\" stroke-width=\"3.2\"/>\n",
       "<circle clip-path=\"url(#clip962)\" cx=\"949.364\" cy=\"1027.95\" r=\"14\" fill=\"#009af9\" fill-rule=\"evenodd\" fill-opacity=\"1\" stroke=\"#000000\" stroke-opacity=\"1\" stroke-width=\"3.2\"/>\n",
       "<circle clip-path=\"url(#clip962)\" cx=\"951.458\" cy=\"610.184\" r=\"14\" fill=\"#009af9\" fill-rule=\"evenodd\" fill-opacity=\"1\" stroke=\"#000000\" stroke-opacity=\"1\" stroke-width=\"3.2\"/>\n",
       "<circle clip-path=\"url(#clip962)\" cx=\"953.553\" cy=\"1236.83\" r=\"14\" fill=\"#009af9\" fill-rule=\"evenodd\" fill-opacity=\"1\" stroke=\"#000000\" stroke-opacity=\"1\" stroke-width=\"3.2\"/>\n",
       "<circle clip-path=\"url(#clip962)\" cx=\"955.648\" cy=\"714.625\" r=\"14\" fill=\"#009af9\" fill-rule=\"evenodd\" fill-opacity=\"1\" stroke=\"#000000\" stroke-opacity=\"1\" stroke-width=\"3.2\"/>\n",
       "<circle clip-path=\"url(#clip962)\" cx=\"957.742\" cy=\"610.184\" r=\"14\" fill=\"#009af9\" fill-rule=\"evenodd\" fill-opacity=\"1\" stroke=\"#000000\" stroke-opacity=\"1\" stroke-width=\"3.2\"/>\n",
       "<circle clip-path=\"url(#clip962)\" cx=\"959.837\" cy=\"714.625\" r=\"14\" fill=\"#009af9\" fill-rule=\"evenodd\" fill-opacity=\"1\" stroke=\"#000000\" stroke-opacity=\"1\" stroke-width=\"3.2\"/>\n",
       "<circle clip-path=\"url(#clip962)\" cx=\"961.932\" cy=\"1236.83\" r=\"14\" fill=\"#009af9\" fill-rule=\"evenodd\" fill-opacity=\"1\" stroke=\"#000000\" stroke-opacity=\"1\" stroke-width=\"3.2\"/>\n",
       "<circle clip-path=\"url(#clip962)\" cx=\"964.026\" cy=\"1027.95\" r=\"14\" fill=\"#009af9\" fill-rule=\"evenodd\" fill-opacity=\"1\" stroke=\"#000000\" stroke-opacity=\"1\" stroke-width=\"3.2\"/>\n",
       "<circle clip-path=\"url(#clip962)\" cx=\"966.121\" cy=\"1236.83\" r=\"14\" fill=\"#009af9\" fill-rule=\"evenodd\" fill-opacity=\"1\" stroke=\"#000000\" stroke-opacity=\"1\" stroke-width=\"3.2\"/>\n",
       "<circle clip-path=\"url(#clip962)\" cx=\"968.216\" cy=\"1341.27\" r=\"14\" fill=\"#009af9\" fill-rule=\"evenodd\" fill-opacity=\"1\" stroke=\"#000000\" stroke-opacity=\"1\" stroke-width=\"3.2\"/>\n",
       "<circle clip-path=\"url(#clip962)\" cx=\"970.311\" cy=\"1132.39\" r=\"14\" fill=\"#009af9\" fill-rule=\"evenodd\" fill-opacity=\"1\" stroke=\"#000000\" stroke-opacity=\"1\" stroke-width=\"3.2\"/>\n",
       "<circle clip-path=\"url(#clip962)\" cx=\"972.405\" cy=\"923.508\" r=\"14\" fill=\"#009af9\" fill-rule=\"evenodd\" fill-opacity=\"1\" stroke=\"#000000\" stroke-opacity=\"1\" stroke-width=\"3.2\"/>\n",
       "<circle clip-path=\"url(#clip962)\" cx=\"974.5\" cy=\"1445.72\" r=\"14\" fill=\"#009af9\" fill-rule=\"evenodd\" fill-opacity=\"1\" stroke=\"#000000\" stroke-opacity=\"1\" stroke-width=\"3.2\"/>\n",
       "<circle clip-path=\"url(#clip962)\" cx=\"976.595\" cy=\"923.508\" r=\"14\" fill=\"#009af9\" fill-rule=\"evenodd\" fill-opacity=\"1\" stroke=\"#000000\" stroke-opacity=\"1\" stroke-width=\"3.2\"/>\n",
       "<circle clip-path=\"url(#clip962)\" cx=\"978.689\" cy=\"610.184\" r=\"14\" fill=\"#009af9\" fill-rule=\"evenodd\" fill-opacity=\"1\" stroke=\"#000000\" stroke-opacity=\"1\" stroke-width=\"3.2\"/>\n",
       "<circle clip-path=\"url(#clip962)\" cx=\"980.784\" cy=\"819.067\" r=\"14\" fill=\"#009af9\" fill-rule=\"evenodd\" fill-opacity=\"1\" stroke=\"#000000\" stroke-opacity=\"1\" stroke-width=\"3.2\"/>\n",
       "<circle clip-path=\"url(#clip962)\" cx=\"982.879\" cy=\"1027.95\" r=\"14\" fill=\"#009af9\" fill-rule=\"evenodd\" fill-opacity=\"1\" stroke=\"#000000\" stroke-opacity=\"1\" stroke-width=\"3.2\"/>\n",
       "<circle clip-path=\"url(#clip962)\" cx=\"984.974\" cy=\"610.184\" r=\"14\" fill=\"#009af9\" fill-rule=\"evenodd\" fill-opacity=\"1\" stroke=\"#000000\" stroke-opacity=\"1\" stroke-width=\"3.2\"/>\n",
       "<circle clip-path=\"url(#clip962)\" cx=\"987.068\" cy=\"610.184\" r=\"14\" fill=\"#009af9\" fill-rule=\"evenodd\" fill-opacity=\"1\" stroke=\"#000000\" stroke-opacity=\"1\" stroke-width=\"3.2\"/>\n",
       "<circle clip-path=\"url(#clip962)\" cx=\"989.163\" cy=\"923.508\" r=\"14\" fill=\"#009af9\" fill-rule=\"evenodd\" fill-opacity=\"1\" stroke=\"#000000\" stroke-opacity=\"1\" stroke-width=\"3.2\"/>\n",
       "<circle clip-path=\"url(#clip962)\" cx=\"991.258\" cy=\"1027.95\" r=\"14\" fill=\"#009af9\" fill-rule=\"evenodd\" fill-opacity=\"1\" stroke=\"#000000\" stroke-opacity=\"1\" stroke-width=\"3.2\"/>\n",
       "<circle clip-path=\"url(#clip962)\" cx=\"993.352\" cy=\"1236.83\" r=\"14\" fill=\"#009af9\" fill-rule=\"evenodd\" fill-opacity=\"1\" stroke=\"#000000\" stroke-opacity=\"1\" stroke-width=\"3.2\"/>\n",
       "<circle clip-path=\"url(#clip962)\" cx=\"995.447\" cy=\"819.067\" r=\"14\" fill=\"#009af9\" fill-rule=\"evenodd\" fill-opacity=\"1\" stroke=\"#000000\" stroke-opacity=\"1\" stroke-width=\"3.2\"/>\n",
       "<circle clip-path=\"url(#clip962)\" cx=\"997.542\" cy=\"1132.39\" r=\"14\" fill=\"#009af9\" fill-rule=\"evenodd\" fill-opacity=\"1\" stroke=\"#000000\" stroke-opacity=\"1\" stroke-width=\"3.2\"/>\n",
       "<circle clip-path=\"url(#clip962)\" cx=\"999.637\" cy=\"1132.39\" r=\"14\" fill=\"#009af9\" fill-rule=\"evenodd\" fill-opacity=\"1\" stroke=\"#000000\" stroke-opacity=\"1\" stroke-width=\"3.2\"/>\n",
       "<circle clip-path=\"url(#clip962)\" cx=\"1001.73\" cy=\"1027.95\" r=\"14\" fill=\"#009af9\" fill-rule=\"evenodd\" fill-opacity=\"1\" stroke=\"#000000\" stroke-opacity=\"1\" stroke-width=\"3.2\"/>\n",
       "<circle clip-path=\"url(#clip962)\" cx=\"1003.83\" cy=\"819.067\" r=\"14\" fill=\"#009af9\" fill-rule=\"evenodd\" fill-opacity=\"1\" stroke=\"#000000\" stroke-opacity=\"1\" stroke-width=\"3.2\"/>\n",
       "<circle clip-path=\"url(#clip962)\" cx=\"1005.92\" cy=\"819.067\" r=\"14\" fill=\"#009af9\" fill-rule=\"evenodd\" fill-opacity=\"1\" stroke=\"#000000\" stroke-opacity=\"1\" stroke-width=\"3.2\"/>\n",
       "<circle clip-path=\"url(#clip962)\" cx=\"1008.02\" cy=\"1236.83\" r=\"14\" fill=\"#009af9\" fill-rule=\"evenodd\" fill-opacity=\"1\" stroke=\"#000000\" stroke-opacity=\"1\" stroke-width=\"3.2\"/>\n",
       "<circle clip-path=\"url(#clip962)\" cx=\"1010.11\" cy=\"1236.83\" r=\"14\" fill=\"#009af9\" fill-rule=\"evenodd\" fill-opacity=\"1\" stroke=\"#000000\" stroke-opacity=\"1\" stroke-width=\"3.2\"/>\n",
       "<circle clip-path=\"url(#clip962)\" cx=\"1012.2\" cy=\"819.067\" r=\"14\" fill=\"#009af9\" fill-rule=\"evenodd\" fill-opacity=\"1\" stroke=\"#000000\" stroke-opacity=\"1\" stroke-width=\"3.2\"/>\n",
       "<circle clip-path=\"url(#clip962)\" cx=\"1014.3\" cy=\"923.508\" r=\"14\" fill=\"#009af9\" fill-rule=\"evenodd\" fill-opacity=\"1\" stroke=\"#000000\" stroke-opacity=\"1\" stroke-width=\"3.2\"/>\n",
       "<circle clip-path=\"url(#clip962)\" cx=\"1016.39\" cy=\"610.184\" r=\"14\" fill=\"#009af9\" fill-rule=\"evenodd\" fill-opacity=\"1\" stroke=\"#000000\" stroke-opacity=\"1\" stroke-width=\"3.2\"/>\n",
       "<circle clip-path=\"url(#clip962)\" cx=\"1018.49\" cy=\"819.067\" r=\"14\" fill=\"#009af9\" fill-rule=\"evenodd\" fill-opacity=\"1\" stroke=\"#000000\" stroke-opacity=\"1\" stroke-width=\"3.2\"/>\n",
       "<circle clip-path=\"url(#clip962)\" cx=\"1020.58\" cy=\"1341.27\" r=\"14\" fill=\"#009af9\" fill-rule=\"evenodd\" fill-opacity=\"1\" stroke=\"#000000\" stroke-opacity=\"1\" stroke-width=\"3.2\"/>\n",
       "<circle clip-path=\"url(#clip962)\" cx=\"1022.68\" cy=\"819.067\" r=\"14\" fill=\"#009af9\" fill-rule=\"evenodd\" fill-opacity=\"1\" stroke=\"#000000\" stroke-opacity=\"1\" stroke-width=\"3.2\"/>\n",
       "<circle clip-path=\"url(#clip962)\" cx=\"1024.77\" cy=\"819.067\" r=\"14\" fill=\"#009af9\" fill-rule=\"evenodd\" fill-opacity=\"1\" stroke=\"#000000\" stroke-opacity=\"1\" stroke-width=\"3.2\"/>\n",
       "<circle clip-path=\"url(#clip962)\" cx=\"1026.87\" cy=\"1236.83\" r=\"14\" fill=\"#009af9\" fill-rule=\"evenodd\" fill-opacity=\"1\" stroke=\"#000000\" stroke-opacity=\"1\" stroke-width=\"3.2\"/>\n",
       "<circle clip-path=\"url(#clip962)\" cx=\"1028.96\" cy=\"714.625\" r=\"14\" fill=\"#009af9\" fill-rule=\"evenodd\" fill-opacity=\"1\" stroke=\"#000000\" stroke-opacity=\"1\" stroke-width=\"3.2\"/>\n",
       "<circle clip-path=\"url(#clip962)\" cx=\"1031.06\" cy=\"401.301\" r=\"14\" fill=\"#009af9\" fill-rule=\"evenodd\" fill-opacity=\"1\" stroke=\"#000000\" stroke-opacity=\"1\" stroke-width=\"3.2\"/>\n",
       "<circle clip-path=\"url(#clip962)\" cx=\"1033.15\" cy=\"1027.95\" r=\"14\" fill=\"#009af9\" fill-rule=\"evenodd\" fill-opacity=\"1\" stroke=\"#000000\" stroke-opacity=\"1\" stroke-width=\"3.2\"/>\n",
       "<circle clip-path=\"url(#clip962)\" cx=\"1035.25\" cy=\"714.625\" r=\"14\" fill=\"#009af9\" fill-rule=\"evenodd\" fill-opacity=\"1\" stroke=\"#000000\" stroke-opacity=\"1\" stroke-width=\"3.2\"/>\n",
       "<circle clip-path=\"url(#clip962)\" cx=\"1037.34\" cy=\"714.625\" r=\"14\" fill=\"#009af9\" fill-rule=\"evenodd\" fill-opacity=\"1\" stroke=\"#000000\" stroke-opacity=\"1\" stroke-width=\"3.2\"/>\n",
       "<circle clip-path=\"url(#clip962)\" cx=\"1039.44\" cy=\"1027.95\" r=\"14\" fill=\"#009af9\" fill-rule=\"evenodd\" fill-opacity=\"1\" stroke=\"#000000\" stroke-opacity=\"1\" stroke-width=\"3.2\"/>\n",
       "<circle clip-path=\"url(#clip962)\" cx=\"1041.53\" cy=\"1132.39\" r=\"14\" fill=\"#009af9\" fill-rule=\"evenodd\" fill-opacity=\"1\" stroke=\"#000000\" stroke-opacity=\"1\" stroke-width=\"3.2\"/>\n",
       "<circle clip-path=\"url(#clip962)\" cx=\"1043.63\" cy=\"1236.83\" r=\"14\" fill=\"#009af9\" fill-rule=\"evenodd\" fill-opacity=\"1\" stroke=\"#000000\" stroke-opacity=\"1\" stroke-width=\"3.2\"/>\n",
       "<circle clip-path=\"url(#clip962)\" cx=\"1045.72\" cy=\"923.508\" r=\"14\" fill=\"#009af9\" fill-rule=\"evenodd\" fill-opacity=\"1\" stroke=\"#000000\" stroke-opacity=\"1\" stroke-width=\"3.2\"/>\n",
       "<circle clip-path=\"url(#clip962)\" cx=\"1047.81\" cy=\"1027.95\" r=\"14\" fill=\"#009af9\" fill-rule=\"evenodd\" fill-opacity=\"1\" stroke=\"#000000\" stroke-opacity=\"1\" stroke-width=\"3.2\"/>\n",
       "<circle clip-path=\"url(#clip962)\" cx=\"1049.91\" cy=\"1027.95\" r=\"14\" fill=\"#009af9\" fill-rule=\"evenodd\" fill-opacity=\"1\" stroke=\"#000000\" stroke-opacity=\"1\" stroke-width=\"3.2\"/>\n",
       "<circle clip-path=\"url(#clip962)\" cx=\"1052\" cy=\"923.508\" r=\"14\" fill=\"#009af9\" fill-rule=\"evenodd\" fill-opacity=\"1\" stroke=\"#000000\" stroke-opacity=\"1\" stroke-width=\"3.2\"/>\n",
       "<circle clip-path=\"url(#clip962)\" cx=\"1054.1\" cy=\"714.625\" r=\"14\" fill=\"#009af9\" fill-rule=\"evenodd\" fill-opacity=\"1\" stroke=\"#000000\" stroke-opacity=\"1\" stroke-width=\"3.2\"/>\n",
       "<circle clip-path=\"url(#clip962)\" cx=\"1056.19\" cy=\"819.067\" r=\"14\" fill=\"#009af9\" fill-rule=\"evenodd\" fill-opacity=\"1\" stroke=\"#000000\" stroke-opacity=\"1\" stroke-width=\"3.2\"/>\n",
       "<circle clip-path=\"url(#clip962)\" cx=\"1058.29\" cy=\"923.508\" r=\"14\" fill=\"#009af9\" fill-rule=\"evenodd\" fill-opacity=\"1\" stroke=\"#000000\" stroke-opacity=\"1\" stroke-width=\"3.2\"/>\n",
       "<circle clip-path=\"url(#clip962)\" cx=\"1060.38\" cy=\"923.508\" r=\"14\" fill=\"#009af9\" fill-rule=\"evenodd\" fill-opacity=\"1\" stroke=\"#000000\" stroke-opacity=\"1\" stroke-width=\"3.2\"/>\n",
       "<circle clip-path=\"url(#clip962)\" cx=\"1062.48\" cy=\"1341.27\" r=\"14\" fill=\"#009af9\" fill-rule=\"evenodd\" fill-opacity=\"1\" stroke=\"#000000\" stroke-opacity=\"1\" stroke-width=\"3.2\"/>\n",
       "<circle clip-path=\"url(#clip962)\" cx=\"1064.57\" cy=\"296.859\" r=\"14\" fill=\"#009af9\" fill-rule=\"evenodd\" fill-opacity=\"1\" stroke=\"#000000\" stroke-opacity=\"1\" stroke-width=\"3.2\"/>\n",
       "<circle clip-path=\"url(#clip962)\" cx=\"1066.67\" cy=\"819.067\" r=\"14\" fill=\"#009af9\" fill-rule=\"evenodd\" fill-opacity=\"1\" stroke=\"#000000\" stroke-opacity=\"1\" stroke-width=\"3.2\"/>\n",
       "<circle clip-path=\"url(#clip962)\" cx=\"1068.76\" cy=\"610.184\" r=\"14\" fill=\"#009af9\" fill-rule=\"evenodd\" fill-opacity=\"1\" stroke=\"#000000\" stroke-opacity=\"1\" stroke-width=\"3.2\"/>\n",
       "<circle clip-path=\"url(#clip962)\" cx=\"1070.86\" cy=\"1132.39\" r=\"14\" fill=\"#009af9\" fill-rule=\"evenodd\" fill-opacity=\"1\" stroke=\"#000000\" stroke-opacity=\"1\" stroke-width=\"3.2\"/>\n",
       "<circle clip-path=\"url(#clip962)\" cx=\"1072.95\" cy=\"1132.39\" r=\"14\" fill=\"#009af9\" fill-rule=\"evenodd\" fill-opacity=\"1\" stroke=\"#000000\" stroke-opacity=\"1\" stroke-width=\"3.2\"/>\n",
       "<circle clip-path=\"url(#clip962)\" cx=\"1075.05\" cy=\"1027.95\" r=\"14\" fill=\"#009af9\" fill-rule=\"evenodd\" fill-opacity=\"1\" stroke=\"#000000\" stroke-opacity=\"1\" stroke-width=\"3.2\"/>\n",
       "<circle clip-path=\"url(#clip962)\" cx=\"1077.14\" cy=\"714.625\" r=\"14\" fill=\"#009af9\" fill-rule=\"evenodd\" fill-opacity=\"1\" stroke=\"#000000\" stroke-opacity=\"1\" stroke-width=\"3.2\"/>\n",
       "<circle clip-path=\"url(#clip962)\" cx=\"1079.24\" cy=\"1132.39\" r=\"14\" fill=\"#009af9\" fill-rule=\"evenodd\" fill-opacity=\"1\" stroke=\"#000000\" stroke-opacity=\"1\" stroke-width=\"3.2\"/>\n",
       "<circle clip-path=\"url(#clip962)\" cx=\"1081.33\" cy=\"923.508\" r=\"14\" fill=\"#009af9\" fill-rule=\"evenodd\" fill-opacity=\"1\" stroke=\"#000000\" stroke-opacity=\"1\" stroke-width=\"3.2\"/>\n",
       "<circle clip-path=\"url(#clip962)\" cx=\"1083.42\" cy=\"923.508\" r=\"14\" fill=\"#009af9\" fill-rule=\"evenodd\" fill-opacity=\"1\" stroke=\"#000000\" stroke-opacity=\"1\" stroke-width=\"3.2\"/>\n",
       "<circle clip-path=\"url(#clip962)\" cx=\"1085.52\" cy=\"1027.95\" r=\"14\" fill=\"#009af9\" fill-rule=\"evenodd\" fill-opacity=\"1\" stroke=\"#000000\" stroke-opacity=\"1\" stroke-width=\"3.2\"/>\n",
       "<circle clip-path=\"url(#clip962)\" cx=\"1087.61\" cy=\"923.508\" r=\"14\" fill=\"#009af9\" fill-rule=\"evenodd\" fill-opacity=\"1\" stroke=\"#000000\" stroke-opacity=\"1\" stroke-width=\"3.2\"/>\n",
       "<circle clip-path=\"url(#clip962)\" cx=\"1089.71\" cy=\"1132.39\" r=\"14\" fill=\"#009af9\" fill-rule=\"evenodd\" fill-opacity=\"1\" stroke=\"#000000\" stroke-opacity=\"1\" stroke-width=\"3.2\"/>\n",
       "<circle clip-path=\"url(#clip962)\" cx=\"1091.8\" cy=\"923.508\" r=\"14\" fill=\"#009af9\" fill-rule=\"evenodd\" fill-opacity=\"1\" stroke=\"#000000\" stroke-opacity=\"1\" stroke-width=\"3.2\"/>\n",
       "<circle clip-path=\"url(#clip962)\" cx=\"1093.9\" cy=\"819.067\" r=\"14\" fill=\"#009af9\" fill-rule=\"evenodd\" fill-opacity=\"1\" stroke=\"#000000\" stroke-opacity=\"1\" stroke-width=\"3.2\"/>\n",
       "<circle clip-path=\"url(#clip962)\" cx=\"1095.99\" cy=\"923.508\" r=\"14\" fill=\"#009af9\" fill-rule=\"evenodd\" fill-opacity=\"1\" stroke=\"#000000\" stroke-opacity=\"1\" stroke-width=\"3.2\"/>\n",
       "<circle clip-path=\"url(#clip962)\" cx=\"1098.09\" cy=\"610.184\" r=\"14\" fill=\"#009af9\" fill-rule=\"evenodd\" fill-opacity=\"1\" stroke=\"#000000\" stroke-opacity=\"1\" stroke-width=\"3.2\"/>\n",
       "<circle clip-path=\"url(#clip962)\" cx=\"1100.18\" cy=\"1132.39\" r=\"14\" fill=\"#009af9\" fill-rule=\"evenodd\" fill-opacity=\"1\" stroke=\"#000000\" stroke-opacity=\"1\" stroke-width=\"3.2\"/>\n",
       "<circle clip-path=\"url(#clip962)\" cx=\"1102.28\" cy=\"1132.39\" r=\"14\" fill=\"#009af9\" fill-rule=\"evenodd\" fill-opacity=\"1\" stroke=\"#000000\" stroke-opacity=\"1\" stroke-width=\"3.2\"/>\n",
       "<circle clip-path=\"url(#clip962)\" cx=\"1104.37\" cy=\"819.067\" r=\"14\" fill=\"#009af9\" fill-rule=\"evenodd\" fill-opacity=\"1\" stroke=\"#000000\" stroke-opacity=\"1\" stroke-width=\"3.2\"/>\n",
       "<circle clip-path=\"url(#clip962)\" cx=\"1106.47\" cy=\"1132.39\" r=\"14\" fill=\"#009af9\" fill-rule=\"evenodd\" fill-opacity=\"1\" stroke=\"#000000\" stroke-opacity=\"1\" stroke-width=\"3.2\"/>\n",
       "<circle clip-path=\"url(#clip962)\" cx=\"1108.56\" cy=\"1027.95\" r=\"14\" fill=\"#009af9\" fill-rule=\"evenodd\" fill-opacity=\"1\" stroke=\"#000000\" stroke-opacity=\"1\" stroke-width=\"3.2\"/>\n",
       "<circle clip-path=\"url(#clip962)\" cx=\"1110.66\" cy=\"819.067\" r=\"14\" fill=\"#009af9\" fill-rule=\"evenodd\" fill-opacity=\"1\" stroke=\"#000000\" stroke-opacity=\"1\" stroke-width=\"3.2\"/>\n",
       "<circle clip-path=\"url(#clip962)\" cx=\"1112.75\" cy=\"819.067\" r=\"14\" fill=\"#009af9\" fill-rule=\"evenodd\" fill-opacity=\"1\" stroke=\"#000000\" stroke-opacity=\"1\" stroke-width=\"3.2\"/>\n",
       "<circle clip-path=\"url(#clip962)\" cx=\"1114.85\" cy=\"1236.83\" r=\"14\" fill=\"#009af9\" fill-rule=\"evenodd\" fill-opacity=\"1\" stroke=\"#000000\" stroke-opacity=\"1\" stroke-width=\"3.2\"/>\n",
       "<circle clip-path=\"url(#clip962)\" cx=\"1116.94\" cy=\"819.067\" r=\"14\" fill=\"#009af9\" fill-rule=\"evenodd\" fill-opacity=\"1\" stroke=\"#000000\" stroke-opacity=\"1\" stroke-width=\"3.2\"/>\n",
       "<circle clip-path=\"url(#clip962)\" cx=\"1119.03\" cy=\"923.508\" r=\"14\" fill=\"#009af9\" fill-rule=\"evenodd\" fill-opacity=\"1\" stroke=\"#000000\" stroke-opacity=\"1\" stroke-width=\"3.2\"/>\n",
       "<circle clip-path=\"url(#clip962)\" cx=\"1121.13\" cy=\"714.625\" r=\"14\" fill=\"#009af9\" fill-rule=\"evenodd\" fill-opacity=\"1\" stroke=\"#000000\" stroke-opacity=\"1\" stroke-width=\"3.2\"/>\n",
       "<circle clip-path=\"url(#clip962)\" cx=\"1123.22\" cy=\"1236.83\" r=\"14\" fill=\"#009af9\" fill-rule=\"evenodd\" fill-opacity=\"1\" stroke=\"#000000\" stroke-opacity=\"1\" stroke-width=\"3.2\"/>\n",
       "<circle clip-path=\"url(#clip962)\" cx=\"1125.32\" cy=\"819.067\" r=\"14\" fill=\"#009af9\" fill-rule=\"evenodd\" fill-opacity=\"1\" stroke=\"#000000\" stroke-opacity=\"1\" stroke-width=\"3.2\"/>\n",
       "<circle clip-path=\"url(#clip962)\" cx=\"1127.41\" cy=\"610.184\" r=\"14\" fill=\"#009af9\" fill-rule=\"evenodd\" fill-opacity=\"1\" stroke=\"#000000\" stroke-opacity=\"1\" stroke-width=\"3.2\"/>\n",
       "<circle clip-path=\"url(#clip962)\" cx=\"1129.51\" cy=\"610.184\" r=\"14\" fill=\"#009af9\" fill-rule=\"evenodd\" fill-opacity=\"1\" stroke=\"#000000\" stroke-opacity=\"1\" stroke-width=\"3.2\"/>\n",
       "<circle clip-path=\"url(#clip962)\" cx=\"1131.6\" cy=\"923.508\" r=\"14\" fill=\"#009af9\" fill-rule=\"evenodd\" fill-opacity=\"1\" stroke=\"#000000\" stroke-opacity=\"1\" stroke-width=\"3.2\"/>\n",
       "<circle clip-path=\"url(#clip962)\" cx=\"1133.7\" cy=\"1236.83\" r=\"14\" fill=\"#009af9\" fill-rule=\"evenodd\" fill-opacity=\"1\" stroke=\"#000000\" stroke-opacity=\"1\" stroke-width=\"3.2\"/>\n",
       "<circle clip-path=\"url(#clip962)\" cx=\"1135.79\" cy=\"1027.95\" r=\"14\" fill=\"#009af9\" fill-rule=\"evenodd\" fill-opacity=\"1\" stroke=\"#000000\" stroke-opacity=\"1\" stroke-width=\"3.2\"/>\n",
       "<circle clip-path=\"url(#clip962)\" cx=\"1137.89\" cy=\"923.508\" r=\"14\" fill=\"#009af9\" fill-rule=\"evenodd\" fill-opacity=\"1\" stroke=\"#000000\" stroke-opacity=\"1\" stroke-width=\"3.2\"/>\n",
       "<circle clip-path=\"url(#clip962)\" cx=\"1139.98\" cy=\"610.184\" r=\"14\" fill=\"#009af9\" fill-rule=\"evenodd\" fill-opacity=\"1\" stroke=\"#000000\" stroke-opacity=\"1\" stroke-width=\"3.2\"/>\n",
       "<circle clip-path=\"url(#clip962)\" cx=\"1142.08\" cy=\"1027.95\" r=\"14\" fill=\"#009af9\" fill-rule=\"evenodd\" fill-opacity=\"1\" stroke=\"#000000\" stroke-opacity=\"1\" stroke-width=\"3.2\"/>\n",
       "<circle clip-path=\"url(#clip962)\" cx=\"1144.17\" cy=\"505.742\" r=\"14\" fill=\"#009af9\" fill-rule=\"evenodd\" fill-opacity=\"1\" stroke=\"#000000\" stroke-opacity=\"1\" stroke-width=\"3.2\"/>\n",
       "<circle clip-path=\"url(#clip962)\" cx=\"1146.27\" cy=\"819.067\" r=\"14\" fill=\"#009af9\" fill-rule=\"evenodd\" fill-opacity=\"1\" stroke=\"#000000\" stroke-opacity=\"1\" stroke-width=\"3.2\"/>\n",
       "<circle clip-path=\"url(#clip962)\" cx=\"1148.36\" cy=\"923.508\" r=\"14\" fill=\"#009af9\" fill-rule=\"evenodd\" fill-opacity=\"1\" stroke=\"#000000\" stroke-opacity=\"1\" stroke-width=\"3.2\"/>\n",
       "<circle clip-path=\"url(#clip962)\" cx=\"1150.46\" cy=\"819.067\" r=\"14\" fill=\"#009af9\" fill-rule=\"evenodd\" fill-opacity=\"1\" stroke=\"#000000\" stroke-opacity=\"1\" stroke-width=\"3.2\"/>\n",
       "<circle clip-path=\"url(#clip962)\" cx=\"1152.55\" cy=\"923.508\" r=\"14\" fill=\"#009af9\" fill-rule=\"evenodd\" fill-opacity=\"1\" stroke=\"#000000\" stroke-opacity=\"1\" stroke-width=\"3.2\"/>\n",
       "<circle clip-path=\"url(#clip962)\" cx=\"1154.65\" cy=\"923.508\" r=\"14\" fill=\"#009af9\" fill-rule=\"evenodd\" fill-opacity=\"1\" stroke=\"#000000\" stroke-opacity=\"1\" stroke-width=\"3.2\"/>\n",
       "<circle clip-path=\"url(#clip962)\" cx=\"1156.74\" cy=\"1027.95\" r=\"14\" fill=\"#009af9\" fill-rule=\"evenodd\" fill-opacity=\"1\" stroke=\"#000000\" stroke-opacity=\"1\" stroke-width=\"3.2\"/>\n",
       "<circle clip-path=\"url(#clip962)\" cx=\"1158.83\" cy=\"819.067\" r=\"14\" fill=\"#009af9\" fill-rule=\"evenodd\" fill-opacity=\"1\" stroke=\"#000000\" stroke-opacity=\"1\" stroke-width=\"3.2\"/>\n",
       "<circle clip-path=\"url(#clip962)\" cx=\"1160.93\" cy=\"1027.95\" r=\"14\" fill=\"#009af9\" fill-rule=\"evenodd\" fill-opacity=\"1\" stroke=\"#000000\" stroke-opacity=\"1\" stroke-width=\"3.2\"/>\n",
       "<circle clip-path=\"url(#clip962)\" cx=\"1163.02\" cy=\"714.625\" r=\"14\" fill=\"#009af9\" fill-rule=\"evenodd\" fill-opacity=\"1\" stroke=\"#000000\" stroke-opacity=\"1\" stroke-width=\"3.2\"/>\n",
       "<circle clip-path=\"url(#clip962)\" cx=\"1165.12\" cy=\"714.625\" r=\"14\" fill=\"#009af9\" fill-rule=\"evenodd\" fill-opacity=\"1\" stroke=\"#000000\" stroke-opacity=\"1\" stroke-width=\"3.2\"/>\n",
       "<circle clip-path=\"url(#clip962)\" cx=\"1167.21\" cy=\"923.508\" r=\"14\" fill=\"#009af9\" fill-rule=\"evenodd\" fill-opacity=\"1\" stroke=\"#000000\" stroke-opacity=\"1\" stroke-width=\"3.2\"/>\n",
       "<circle clip-path=\"url(#clip962)\" cx=\"1169.31\" cy=\"1132.39\" r=\"14\" fill=\"#009af9\" fill-rule=\"evenodd\" fill-opacity=\"1\" stroke=\"#000000\" stroke-opacity=\"1\" stroke-width=\"3.2\"/>\n",
       "<circle clip-path=\"url(#clip962)\" cx=\"1171.4\" cy=\"923.508\" r=\"14\" fill=\"#009af9\" fill-rule=\"evenodd\" fill-opacity=\"1\" stroke=\"#000000\" stroke-opacity=\"1\" stroke-width=\"3.2\"/>\n",
       "<circle clip-path=\"url(#clip962)\" cx=\"1173.5\" cy=\"923.508\" r=\"14\" fill=\"#009af9\" fill-rule=\"evenodd\" fill-opacity=\"1\" stroke=\"#000000\" stroke-opacity=\"1\" stroke-width=\"3.2\"/>\n",
       "<circle clip-path=\"url(#clip962)\" cx=\"1175.59\" cy=\"1132.39\" r=\"14\" fill=\"#009af9\" fill-rule=\"evenodd\" fill-opacity=\"1\" stroke=\"#000000\" stroke-opacity=\"1\" stroke-width=\"3.2\"/>\n",
       "<circle clip-path=\"url(#clip962)\" cx=\"1177.69\" cy=\"1027.95\" r=\"14\" fill=\"#009af9\" fill-rule=\"evenodd\" fill-opacity=\"1\" stroke=\"#000000\" stroke-opacity=\"1\" stroke-width=\"3.2\"/>\n",
       "<circle clip-path=\"url(#clip962)\" cx=\"1179.78\" cy=\"1027.95\" r=\"14\" fill=\"#009af9\" fill-rule=\"evenodd\" fill-opacity=\"1\" stroke=\"#000000\" stroke-opacity=\"1\" stroke-width=\"3.2\"/>\n",
       "<circle clip-path=\"url(#clip962)\" cx=\"1181.88\" cy=\"1132.39\" r=\"14\" fill=\"#009af9\" fill-rule=\"evenodd\" fill-opacity=\"1\" stroke=\"#000000\" stroke-opacity=\"1\" stroke-width=\"3.2\"/>\n",
       "<circle clip-path=\"url(#clip962)\" cx=\"1183.97\" cy=\"1132.39\" r=\"14\" fill=\"#009af9\" fill-rule=\"evenodd\" fill-opacity=\"1\" stroke=\"#000000\" stroke-opacity=\"1\" stroke-width=\"3.2\"/>\n",
       "<circle clip-path=\"url(#clip962)\" cx=\"1186.07\" cy=\"819.067\" r=\"14\" fill=\"#009af9\" fill-rule=\"evenodd\" fill-opacity=\"1\" stroke=\"#000000\" stroke-opacity=\"1\" stroke-width=\"3.2\"/>\n",
       "<circle clip-path=\"url(#clip962)\" cx=\"1188.16\" cy=\"1027.95\" r=\"14\" fill=\"#009af9\" fill-rule=\"evenodd\" fill-opacity=\"1\" stroke=\"#000000\" stroke-opacity=\"1\" stroke-width=\"3.2\"/>\n",
       "<circle clip-path=\"url(#clip962)\" cx=\"1190.26\" cy=\"819.067\" r=\"14\" fill=\"#009af9\" fill-rule=\"evenodd\" fill-opacity=\"1\" stroke=\"#000000\" stroke-opacity=\"1\" stroke-width=\"3.2\"/>\n",
       "<circle clip-path=\"url(#clip962)\" cx=\"1192.35\" cy=\"819.067\" r=\"14\" fill=\"#009af9\" fill-rule=\"evenodd\" fill-opacity=\"1\" stroke=\"#000000\" stroke-opacity=\"1\" stroke-width=\"3.2\"/>\n",
       "<circle clip-path=\"url(#clip962)\" cx=\"1194.44\" cy=\"819.067\" r=\"14\" fill=\"#009af9\" fill-rule=\"evenodd\" fill-opacity=\"1\" stroke=\"#000000\" stroke-opacity=\"1\" stroke-width=\"3.2\"/>\n",
       "<circle clip-path=\"url(#clip962)\" cx=\"1196.54\" cy=\"819.067\" r=\"14\" fill=\"#009af9\" fill-rule=\"evenodd\" fill-opacity=\"1\" stroke=\"#000000\" stroke-opacity=\"1\" stroke-width=\"3.2\"/>\n",
       "<circle clip-path=\"url(#clip962)\" cx=\"1198.63\" cy=\"1236.83\" r=\"14\" fill=\"#009af9\" fill-rule=\"evenodd\" fill-opacity=\"1\" stroke=\"#000000\" stroke-opacity=\"1\" stroke-width=\"3.2\"/>\n",
       "<circle clip-path=\"url(#clip962)\" cx=\"1200.73\" cy=\"1027.95\" r=\"14\" fill=\"#009af9\" fill-rule=\"evenodd\" fill-opacity=\"1\" stroke=\"#000000\" stroke-opacity=\"1\" stroke-width=\"3.2\"/>\n",
       "<circle clip-path=\"url(#clip962)\" cx=\"1202.82\" cy=\"819.067\" r=\"14\" fill=\"#009af9\" fill-rule=\"evenodd\" fill-opacity=\"1\" stroke=\"#000000\" stroke-opacity=\"1\" stroke-width=\"3.2\"/>\n",
       "<circle clip-path=\"url(#clip962)\" cx=\"1204.92\" cy=\"714.625\" r=\"14\" fill=\"#009af9\" fill-rule=\"evenodd\" fill-opacity=\"1\" stroke=\"#000000\" stroke-opacity=\"1\" stroke-width=\"3.2\"/>\n",
       "<circle clip-path=\"url(#clip962)\" cx=\"1207.01\" cy=\"714.625\" r=\"14\" fill=\"#009af9\" fill-rule=\"evenodd\" fill-opacity=\"1\" stroke=\"#000000\" stroke-opacity=\"1\" stroke-width=\"3.2\"/>\n",
       "<circle clip-path=\"url(#clip962)\" cx=\"1209.11\" cy=\"505.742\" r=\"14\" fill=\"#009af9\" fill-rule=\"evenodd\" fill-opacity=\"1\" stroke=\"#000000\" stroke-opacity=\"1\" stroke-width=\"3.2\"/>\n",
       "<circle clip-path=\"url(#clip962)\" cx=\"1211.2\" cy=\"923.508\" r=\"14\" fill=\"#009af9\" fill-rule=\"evenodd\" fill-opacity=\"1\" stroke=\"#000000\" stroke-opacity=\"1\" stroke-width=\"3.2\"/>\n",
       "<circle clip-path=\"url(#clip962)\" cx=\"1213.3\" cy=\"714.625\" r=\"14\" fill=\"#009af9\" fill-rule=\"evenodd\" fill-opacity=\"1\" stroke=\"#000000\" stroke-opacity=\"1\" stroke-width=\"3.2\"/>\n",
       "<circle clip-path=\"url(#clip962)\" cx=\"1215.39\" cy=\"1236.83\" r=\"14\" fill=\"#009af9\" fill-rule=\"evenodd\" fill-opacity=\"1\" stroke=\"#000000\" stroke-opacity=\"1\" stroke-width=\"3.2\"/>\n",
       "<circle clip-path=\"url(#clip962)\" cx=\"1217.49\" cy=\"1132.39\" r=\"14\" fill=\"#009af9\" fill-rule=\"evenodd\" fill-opacity=\"1\" stroke=\"#000000\" stroke-opacity=\"1\" stroke-width=\"3.2\"/>\n",
       "<circle clip-path=\"url(#clip962)\" cx=\"1219.58\" cy=\"923.508\" r=\"14\" fill=\"#009af9\" fill-rule=\"evenodd\" fill-opacity=\"1\" stroke=\"#000000\" stroke-opacity=\"1\" stroke-width=\"3.2\"/>\n",
       "<circle clip-path=\"url(#clip962)\" cx=\"1221.68\" cy=\"1132.39\" r=\"14\" fill=\"#009af9\" fill-rule=\"evenodd\" fill-opacity=\"1\" stroke=\"#000000\" stroke-opacity=\"1\" stroke-width=\"3.2\"/>\n",
       "<circle clip-path=\"url(#clip962)\" cx=\"1223.77\" cy=\"1027.95\" r=\"14\" fill=\"#009af9\" fill-rule=\"evenodd\" fill-opacity=\"1\" stroke=\"#000000\" stroke-opacity=\"1\" stroke-width=\"3.2\"/>\n",
       "<circle clip-path=\"url(#clip962)\" cx=\"1225.87\" cy=\"1132.39\" r=\"14\" fill=\"#009af9\" fill-rule=\"evenodd\" fill-opacity=\"1\" stroke=\"#000000\" stroke-opacity=\"1\" stroke-width=\"3.2\"/>\n",
       "<circle clip-path=\"url(#clip962)\" cx=\"1227.96\" cy=\"1236.83\" r=\"14\" fill=\"#009af9\" fill-rule=\"evenodd\" fill-opacity=\"1\" stroke=\"#000000\" stroke-opacity=\"1\" stroke-width=\"3.2\"/>\n",
       "<circle clip-path=\"url(#clip962)\" cx=\"1230.05\" cy=\"1027.95\" r=\"14\" fill=\"#009af9\" fill-rule=\"evenodd\" fill-opacity=\"1\" stroke=\"#000000\" stroke-opacity=\"1\" stroke-width=\"3.2\"/>\n",
       "<circle clip-path=\"url(#clip962)\" cx=\"1232.15\" cy=\"923.508\" r=\"14\" fill=\"#009af9\" fill-rule=\"evenodd\" fill-opacity=\"1\" stroke=\"#000000\" stroke-opacity=\"1\" stroke-width=\"3.2\"/>\n",
       "<circle clip-path=\"url(#clip962)\" cx=\"1234.24\" cy=\"819.067\" r=\"14\" fill=\"#009af9\" fill-rule=\"evenodd\" fill-opacity=\"1\" stroke=\"#000000\" stroke-opacity=\"1\" stroke-width=\"3.2\"/>\n",
       "<circle clip-path=\"url(#clip962)\" cx=\"1236.34\" cy=\"1027.95\" r=\"14\" fill=\"#009af9\" fill-rule=\"evenodd\" fill-opacity=\"1\" stroke=\"#000000\" stroke-opacity=\"1\" stroke-width=\"3.2\"/>\n",
       "<circle clip-path=\"url(#clip962)\" cx=\"1238.43\" cy=\"714.625\" r=\"14\" fill=\"#009af9\" fill-rule=\"evenodd\" fill-opacity=\"1\" stroke=\"#000000\" stroke-opacity=\"1\" stroke-width=\"3.2\"/>\n",
       "<circle clip-path=\"url(#clip962)\" cx=\"1240.53\" cy=\"819.067\" r=\"14\" fill=\"#009af9\" fill-rule=\"evenodd\" fill-opacity=\"1\" stroke=\"#000000\" stroke-opacity=\"1\" stroke-width=\"3.2\"/>\n",
       "<circle clip-path=\"url(#clip962)\" cx=\"1242.62\" cy=\"819.067\" r=\"14\" fill=\"#009af9\" fill-rule=\"evenodd\" fill-opacity=\"1\" stroke=\"#000000\" stroke-opacity=\"1\" stroke-width=\"3.2\"/>\n",
       "<circle clip-path=\"url(#clip962)\" cx=\"1244.72\" cy=\"1027.95\" r=\"14\" fill=\"#009af9\" fill-rule=\"evenodd\" fill-opacity=\"1\" stroke=\"#000000\" stroke-opacity=\"1\" stroke-width=\"3.2\"/>\n",
       "<circle clip-path=\"url(#clip962)\" cx=\"1246.81\" cy=\"1132.39\" r=\"14\" fill=\"#009af9\" fill-rule=\"evenodd\" fill-opacity=\"1\" stroke=\"#000000\" stroke-opacity=\"1\" stroke-width=\"3.2\"/>\n",
       "<circle clip-path=\"url(#clip962)\" cx=\"1248.91\" cy=\"610.184\" r=\"14\" fill=\"#009af9\" fill-rule=\"evenodd\" fill-opacity=\"1\" stroke=\"#000000\" stroke-opacity=\"1\" stroke-width=\"3.2\"/>\n",
       "<circle clip-path=\"url(#clip962)\" cx=\"1251\" cy=\"1027.95\" r=\"14\" fill=\"#009af9\" fill-rule=\"evenodd\" fill-opacity=\"1\" stroke=\"#000000\" stroke-opacity=\"1\" stroke-width=\"3.2\"/>\n",
       "<circle clip-path=\"url(#clip962)\" cx=\"1253.1\" cy=\"1027.95\" r=\"14\" fill=\"#009af9\" fill-rule=\"evenodd\" fill-opacity=\"1\" stroke=\"#000000\" stroke-opacity=\"1\" stroke-width=\"3.2\"/>\n",
       "<circle clip-path=\"url(#clip962)\" cx=\"1255.19\" cy=\"1027.95\" r=\"14\" fill=\"#009af9\" fill-rule=\"evenodd\" fill-opacity=\"1\" stroke=\"#000000\" stroke-opacity=\"1\" stroke-width=\"3.2\"/>\n",
       "<circle clip-path=\"url(#clip962)\" cx=\"1257.29\" cy=\"1027.95\" r=\"14\" fill=\"#009af9\" fill-rule=\"evenodd\" fill-opacity=\"1\" stroke=\"#000000\" stroke-opacity=\"1\" stroke-width=\"3.2\"/>\n",
       "<circle clip-path=\"url(#clip962)\" cx=\"1259.38\" cy=\"1236.83\" r=\"14\" fill=\"#009af9\" fill-rule=\"evenodd\" fill-opacity=\"1\" stroke=\"#000000\" stroke-opacity=\"1\" stroke-width=\"3.2\"/>\n",
       "<circle clip-path=\"url(#clip962)\" cx=\"1261.48\" cy=\"1027.95\" r=\"14\" fill=\"#009af9\" fill-rule=\"evenodd\" fill-opacity=\"1\" stroke=\"#000000\" stroke-opacity=\"1\" stroke-width=\"3.2\"/>\n",
       "<circle clip-path=\"url(#clip962)\" cx=\"1263.57\" cy=\"87.9763\" r=\"14\" fill=\"#009af9\" fill-rule=\"evenodd\" fill-opacity=\"1\" stroke=\"#000000\" stroke-opacity=\"1\" stroke-width=\"3.2\"/>\n",
       "<circle clip-path=\"url(#clip962)\" cx=\"1265.66\" cy=\"819.067\" r=\"14\" fill=\"#009af9\" fill-rule=\"evenodd\" fill-opacity=\"1\" stroke=\"#000000\" stroke-opacity=\"1\" stroke-width=\"3.2\"/>\n",
       "<circle clip-path=\"url(#clip962)\" cx=\"1267.76\" cy=\"819.067\" r=\"14\" fill=\"#009af9\" fill-rule=\"evenodd\" fill-opacity=\"1\" stroke=\"#000000\" stroke-opacity=\"1\" stroke-width=\"3.2\"/>\n",
       "<circle clip-path=\"url(#clip962)\" cx=\"1269.85\" cy=\"714.625\" r=\"14\" fill=\"#009af9\" fill-rule=\"evenodd\" fill-opacity=\"1\" stroke=\"#000000\" stroke-opacity=\"1\" stroke-width=\"3.2\"/>\n",
       "<circle clip-path=\"url(#clip962)\" cx=\"1271.95\" cy=\"1341.27\" r=\"14\" fill=\"#009af9\" fill-rule=\"evenodd\" fill-opacity=\"1\" stroke=\"#000000\" stroke-opacity=\"1\" stroke-width=\"3.2\"/>\n",
       "<circle clip-path=\"url(#clip962)\" cx=\"1274.04\" cy=\"923.508\" r=\"14\" fill=\"#009af9\" fill-rule=\"evenodd\" fill-opacity=\"1\" stroke=\"#000000\" stroke-opacity=\"1\" stroke-width=\"3.2\"/>\n",
       "<circle clip-path=\"url(#clip962)\" cx=\"1276.14\" cy=\"819.067\" r=\"14\" fill=\"#009af9\" fill-rule=\"evenodd\" fill-opacity=\"1\" stroke=\"#000000\" stroke-opacity=\"1\" stroke-width=\"3.2\"/>\n",
       "<circle clip-path=\"url(#clip962)\" cx=\"1278.23\" cy=\"714.625\" r=\"14\" fill=\"#009af9\" fill-rule=\"evenodd\" fill-opacity=\"1\" stroke=\"#000000\" stroke-opacity=\"1\" stroke-width=\"3.2\"/>\n",
       "<circle clip-path=\"url(#clip962)\" cx=\"1280.33\" cy=\"1027.95\" r=\"14\" fill=\"#009af9\" fill-rule=\"evenodd\" fill-opacity=\"1\" stroke=\"#000000\" stroke-opacity=\"1\" stroke-width=\"3.2\"/>\n",
       "<circle clip-path=\"url(#clip962)\" cx=\"1282.42\" cy=\"1027.95\" r=\"14\" fill=\"#009af9\" fill-rule=\"evenodd\" fill-opacity=\"1\" stroke=\"#000000\" stroke-opacity=\"1\" stroke-width=\"3.2\"/>\n",
       "<circle clip-path=\"url(#clip962)\" cx=\"1284.52\" cy=\"1132.39\" r=\"14\" fill=\"#009af9\" fill-rule=\"evenodd\" fill-opacity=\"1\" stroke=\"#000000\" stroke-opacity=\"1\" stroke-width=\"3.2\"/>\n",
       "<circle clip-path=\"url(#clip962)\" cx=\"1286.61\" cy=\"1236.83\" r=\"14\" fill=\"#009af9\" fill-rule=\"evenodd\" fill-opacity=\"1\" stroke=\"#000000\" stroke-opacity=\"1\" stroke-width=\"3.2\"/>\n",
       "<circle clip-path=\"url(#clip962)\" cx=\"1288.71\" cy=\"1027.95\" r=\"14\" fill=\"#009af9\" fill-rule=\"evenodd\" fill-opacity=\"1\" stroke=\"#000000\" stroke-opacity=\"1\" stroke-width=\"3.2\"/>\n",
       "<circle clip-path=\"url(#clip962)\" cx=\"1290.8\" cy=\"923.508\" r=\"14\" fill=\"#009af9\" fill-rule=\"evenodd\" fill-opacity=\"1\" stroke=\"#000000\" stroke-opacity=\"1\" stroke-width=\"3.2\"/>\n",
       "<circle clip-path=\"url(#clip962)\" cx=\"1292.9\" cy=\"1236.83\" r=\"14\" fill=\"#009af9\" fill-rule=\"evenodd\" fill-opacity=\"1\" stroke=\"#000000\" stroke-opacity=\"1\" stroke-width=\"3.2\"/>\n",
       "<circle clip-path=\"url(#clip962)\" cx=\"1294.99\" cy=\"923.508\" r=\"14\" fill=\"#009af9\" fill-rule=\"evenodd\" fill-opacity=\"1\" stroke=\"#000000\" stroke-opacity=\"1\" stroke-width=\"3.2\"/>\n",
       "<circle clip-path=\"url(#clip962)\" cx=\"1297.09\" cy=\"401.301\" r=\"14\" fill=\"#009af9\" fill-rule=\"evenodd\" fill-opacity=\"1\" stroke=\"#000000\" stroke-opacity=\"1\" stroke-width=\"3.2\"/>\n",
       "<circle clip-path=\"url(#clip962)\" cx=\"1299.18\" cy=\"714.625\" r=\"14\" fill=\"#009af9\" fill-rule=\"evenodd\" fill-opacity=\"1\" stroke=\"#000000\" stroke-opacity=\"1\" stroke-width=\"3.2\"/>\n",
       "<circle clip-path=\"url(#clip962)\" cx=\"1301.27\" cy=\"819.067\" r=\"14\" fill=\"#009af9\" fill-rule=\"evenodd\" fill-opacity=\"1\" stroke=\"#000000\" stroke-opacity=\"1\" stroke-width=\"3.2\"/>\n",
       "<circle clip-path=\"url(#clip962)\" cx=\"1303.37\" cy=\"1027.95\" r=\"14\" fill=\"#009af9\" fill-rule=\"evenodd\" fill-opacity=\"1\" stroke=\"#000000\" stroke-opacity=\"1\" stroke-width=\"3.2\"/>\n",
       "<circle clip-path=\"url(#clip962)\" cx=\"1305.46\" cy=\"1027.95\" r=\"14\" fill=\"#009af9\" fill-rule=\"evenodd\" fill-opacity=\"1\" stroke=\"#000000\" stroke-opacity=\"1\" stroke-width=\"3.2\"/>\n",
       "<circle clip-path=\"url(#clip962)\" cx=\"1307.56\" cy=\"714.625\" r=\"14\" fill=\"#009af9\" fill-rule=\"evenodd\" fill-opacity=\"1\" stroke=\"#000000\" stroke-opacity=\"1\" stroke-width=\"3.2\"/>\n",
       "<circle clip-path=\"url(#clip962)\" cx=\"1309.65\" cy=\"1132.39\" r=\"14\" fill=\"#009af9\" fill-rule=\"evenodd\" fill-opacity=\"1\" stroke=\"#000000\" stroke-opacity=\"1\" stroke-width=\"3.2\"/>\n",
       "<circle clip-path=\"url(#clip962)\" cx=\"1311.75\" cy=\"1132.39\" r=\"14\" fill=\"#009af9\" fill-rule=\"evenodd\" fill-opacity=\"1\" stroke=\"#000000\" stroke-opacity=\"1\" stroke-width=\"3.2\"/>\n",
       "<circle clip-path=\"url(#clip962)\" cx=\"1313.84\" cy=\"819.067\" r=\"14\" fill=\"#009af9\" fill-rule=\"evenodd\" fill-opacity=\"1\" stroke=\"#000000\" stroke-opacity=\"1\" stroke-width=\"3.2\"/>\n",
       "<circle clip-path=\"url(#clip962)\" cx=\"1315.94\" cy=\"1132.39\" r=\"14\" fill=\"#009af9\" fill-rule=\"evenodd\" fill-opacity=\"1\" stroke=\"#000000\" stroke-opacity=\"1\" stroke-width=\"3.2\"/>\n",
       "<circle clip-path=\"url(#clip962)\" cx=\"1318.03\" cy=\"610.184\" r=\"14\" fill=\"#009af9\" fill-rule=\"evenodd\" fill-opacity=\"1\" stroke=\"#000000\" stroke-opacity=\"1\" stroke-width=\"3.2\"/>\n",
       "<circle clip-path=\"url(#clip962)\" cx=\"1320.13\" cy=\"819.067\" r=\"14\" fill=\"#009af9\" fill-rule=\"evenodd\" fill-opacity=\"1\" stroke=\"#000000\" stroke-opacity=\"1\" stroke-width=\"3.2\"/>\n",
       "<circle clip-path=\"url(#clip962)\" cx=\"1322.22\" cy=\"819.067\" r=\"14\" fill=\"#009af9\" fill-rule=\"evenodd\" fill-opacity=\"1\" stroke=\"#000000\" stroke-opacity=\"1\" stroke-width=\"3.2\"/>\n",
       "<circle clip-path=\"url(#clip962)\" cx=\"1324.32\" cy=\"505.742\" r=\"14\" fill=\"#009af9\" fill-rule=\"evenodd\" fill-opacity=\"1\" stroke=\"#000000\" stroke-opacity=\"1\" stroke-width=\"3.2\"/>\n",
       "<circle clip-path=\"url(#clip962)\" cx=\"1326.41\" cy=\"1027.95\" r=\"14\" fill=\"#009af9\" fill-rule=\"evenodd\" fill-opacity=\"1\" stroke=\"#000000\" stroke-opacity=\"1\" stroke-width=\"3.2\"/>\n",
       "<circle clip-path=\"url(#clip962)\" cx=\"1328.51\" cy=\"1027.95\" r=\"14\" fill=\"#009af9\" fill-rule=\"evenodd\" fill-opacity=\"1\" stroke=\"#000000\" stroke-opacity=\"1\" stroke-width=\"3.2\"/>\n",
       "<circle clip-path=\"url(#clip962)\" cx=\"1330.6\" cy=\"923.508\" r=\"14\" fill=\"#009af9\" fill-rule=\"evenodd\" fill-opacity=\"1\" stroke=\"#000000\" stroke-opacity=\"1\" stroke-width=\"3.2\"/>\n",
       "<circle clip-path=\"url(#clip962)\" cx=\"1332.7\" cy=\"1236.83\" r=\"14\" fill=\"#009af9\" fill-rule=\"evenodd\" fill-opacity=\"1\" stroke=\"#000000\" stroke-opacity=\"1\" stroke-width=\"3.2\"/>\n",
       "<circle clip-path=\"url(#clip962)\" cx=\"1334.79\" cy=\"1236.83\" r=\"14\" fill=\"#009af9\" fill-rule=\"evenodd\" fill-opacity=\"1\" stroke=\"#000000\" stroke-opacity=\"1\" stroke-width=\"3.2\"/>\n",
       "<circle clip-path=\"url(#clip962)\" cx=\"1336.88\" cy=\"714.625\" r=\"14\" fill=\"#009af9\" fill-rule=\"evenodd\" fill-opacity=\"1\" stroke=\"#000000\" stroke-opacity=\"1\" stroke-width=\"3.2\"/>\n",
       "<circle clip-path=\"url(#clip962)\" cx=\"1338.98\" cy=\"1027.95\" r=\"14\" fill=\"#009af9\" fill-rule=\"evenodd\" fill-opacity=\"1\" stroke=\"#000000\" stroke-opacity=\"1\" stroke-width=\"3.2\"/>\n",
       "<circle clip-path=\"url(#clip962)\" cx=\"1341.07\" cy=\"1027.95\" r=\"14\" fill=\"#009af9\" fill-rule=\"evenodd\" fill-opacity=\"1\" stroke=\"#000000\" stroke-opacity=\"1\" stroke-width=\"3.2\"/>\n",
       "<circle clip-path=\"url(#clip962)\" cx=\"1343.17\" cy=\"714.625\" r=\"14\" fill=\"#009af9\" fill-rule=\"evenodd\" fill-opacity=\"1\" stroke=\"#000000\" stroke-opacity=\"1\" stroke-width=\"3.2\"/>\n",
       "<circle clip-path=\"url(#clip962)\" cx=\"1345.26\" cy=\"1027.95\" r=\"14\" fill=\"#009af9\" fill-rule=\"evenodd\" fill-opacity=\"1\" stroke=\"#000000\" stroke-opacity=\"1\" stroke-width=\"3.2\"/>\n",
       "<circle clip-path=\"url(#clip962)\" cx=\"1347.36\" cy=\"1027.95\" r=\"14\" fill=\"#009af9\" fill-rule=\"evenodd\" fill-opacity=\"1\" stroke=\"#000000\" stroke-opacity=\"1\" stroke-width=\"3.2\"/>\n",
       "<circle clip-path=\"url(#clip962)\" cx=\"1349.45\" cy=\"819.067\" r=\"14\" fill=\"#009af9\" fill-rule=\"evenodd\" fill-opacity=\"1\" stroke=\"#000000\" stroke-opacity=\"1\" stroke-width=\"3.2\"/>\n",
       "<circle clip-path=\"url(#clip962)\" cx=\"1351.55\" cy=\"1132.39\" r=\"14\" fill=\"#009af9\" fill-rule=\"evenodd\" fill-opacity=\"1\" stroke=\"#000000\" stroke-opacity=\"1\" stroke-width=\"3.2\"/>\n",
       "<circle clip-path=\"url(#clip962)\" cx=\"1353.64\" cy=\"1027.95\" r=\"14\" fill=\"#009af9\" fill-rule=\"evenodd\" fill-opacity=\"1\" stroke=\"#000000\" stroke-opacity=\"1\" stroke-width=\"3.2\"/>\n",
       "<circle clip-path=\"url(#clip962)\" cx=\"1355.74\" cy=\"819.067\" r=\"14\" fill=\"#009af9\" fill-rule=\"evenodd\" fill-opacity=\"1\" stroke=\"#000000\" stroke-opacity=\"1\" stroke-width=\"3.2\"/>\n",
       "<circle clip-path=\"url(#clip962)\" cx=\"1357.83\" cy=\"1132.39\" r=\"14\" fill=\"#009af9\" fill-rule=\"evenodd\" fill-opacity=\"1\" stroke=\"#000000\" stroke-opacity=\"1\" stroke-width=\"3.2\"/>\n",
       "<circle clip-path=\"url(#clip962)\" cx=\"1359.93\" cy=\"923.508\" r=\"14\" fill=\"#009af9\" fill-rule=\"evenodd\" fill-opacity=\"1\" stroke=\"#000000\" stroke-opacity=\"1\" stroke-width=\"3.2\"/>\n",
       "<circle clip-path=\"url(#clip962)\" cx=\"1362.02\" cy=\"1027.95\" r=\"14\" fill=\"#009af9\" fill-rule=\"evenodd\" fill-opacity=\"1\" stroke=\"#000000\" stroke-opacity=\"1\" stroke-width=\"3.2\"/>\n",
       "<circle clip-path=\"url(#clip962)\" cx=\"1364.12\" cy=\"610.184\" r=\"14\" fill=\"#009af9\" fill-rule=\"evenodd\" fill-opacity=\"1\" stroke=\"#000000\" stroke-opacity=\"1\" stroke-width=\"3.2\"/>\n",
       "<circle clip-path=\"url(#clip962)\" cx=\"1366.21\" cy=\"1027.95\" r=\"14\" fill=\"#009af9\" fill-rule=\"evenodd\" fill-opacity=\"1\" stroke=\"#000000\" stroke-opacity=\"1\" stroke-width=\"3.2\"/>\n",
       "<circle clip-path=\"url(#clip962)\" cx=\"1368.31\" cy=\"923.508\" r=\"14\" fill=\"#009af9\" fill-rule=\"evenodd\" fill-opacity=\"1\" stroke=\"#000000\" stroke-opacity=\"1\" stroke-width=\"3.2\"/>\n",
       "<circle clip-path=\"url(#clip962)\" cx=\"1370.4\" cy=\"819.067\" r=\"14\" fill=\"#009af9\" fill-rule=\"evenodd\" fill-opacity=\"1\" stroke=\"#000000\" stroke-opacity=\"1\" stroke-width=\"3.2\"/>\n",
       "<circle clip-path=\"url(#clip962)\" cx=\"1372.49\" cy=\"819.067\" r=\"14\" fill=\"#009af9\" fill-rule=\"evenodd\" fill-opacity=\"1\" stroke=\"#000000\" stroke-opacity=\"1\" stroke-width=\"3.2\"/>\n",
       "<circle clip-path=\"url(#clip962)\" cx=\"1374.59\" cy=\"610.184\" r=\"14\" fill=\"#009af9\" fill-rule=\"evenodd\" fill-opacity=\"1\" stroke=\"#000000\" stroke-opacity=\"1\" stroke-width=\"3.2\"/>\n",
       "<circle clip-path=\"url(#clip962)\" cx=\"1376.68\" cy=\"819.067\" r=\"14\" fill=\"#009af9\" fill-rule=\"evenodd\" fill-opacity=\"1\" stroke=\"#000000\" stroke-opacity=\"1\" stroke-width=\"3.2\"/>\n",
       "<circle clip-path=\"url(#clip962)\" cx=\"1378.78\" cy=\"819.067\" r=\"14\" fill=\"#009af9\" fill-rule=\"evenodd\" fill-opacity=\"1\" stroke=\"#000000\" stroke-opacity=\"1\" stroke-width=\"3.2\"/>\n",
       "<circle clip-path=\"url(#clip962)\" cx=\"1380.87\" cy=\"505.742\" r=\"14\" fill=\"#009af9\" fill-rule=\"evenodd\" fill-opacity=\"1\" stroke=\"#000000\" stroke-opacity=\"1\" stroke-width=\"3.2\"/>\n",
       "<circle clip-path=\"url(#clip962)\" cx=\"1382.97\" cy=\"1132.39\" r=\"14\" fill=\"#009af9\" fill-rule=\"evenodd\" fill-opacity=\"1\" stroke=\"#000000\" stroke-opacity=\"1\" stroke-width=\"3.2\"/>\n",
       "<circle clip-path=\"url(#clip962)\" cx=\"1385.06\" cy=\"923.508\" r=\"14\" fill=\"#009af9\" fill-rule=\"evenodd\" fill-opacity=\"1\" stroke=\"#000000\" stroke-opacity=\"1\" stroke-width=\"3.2\"/>\n",
       "<circle clip-path=\"url(#clip962)\" cx=\"1387.16\" cy=\"610.184\" r=\"14\" fill=\"#009af9\" fill-rule=\"evenodd\" fill-opacity=\"1\" stroke=\"#000000\" stroke-opacity=\"1\" stroke-width=\"3.2\"/>\n",
       "<circle clip-path=\"url(#clip962)\" cx=\"1389.25\" cy=\"1236.83\" r=\"14\" fill=\"#009af9\" fill-rule=\"evenodd\" fill-opacity=\"1\" stroke=\"#000000\" stroke-opacity=\"1\" stroke-width=\"3.2\"/>\n",
       "<circle clip-path=\"url(#clip962)\" cx=\"1391.35\" cy=\"819.067\" r=\"14\" fill=\"#009af9\" fill-rule=\"evenodd\" fill-opacity=\"1\" stroke=\"#000000\" stroke-opacity=\"1\" stroke-width=\"3.2\"/>\n",
       "<circle clip-path=\"url(#clip962)\" cx=\"1393.44\" cy=\"1236.83\" r=\"14\" fill=\"#009af9\" fill-rule=\"evenodd\" fill-opacity=\"1\" stroke=\"#000000\" stroke-opacity=\"1\" stroke-width=\"3.2\"/>\n",
       "<circle clip-path=\"url(#clip962)\" cx=\"1395.54\" cy=\"819.067\" r=\"14\" fill=\"#009af9\" fill-rule=\"evenodd\" fill-opacity=\"1\" stroke=\"#000000\" stroke-opacity=\"1\" stroke-width=\"3.2\"/>\n",
       "<circle clip-path=\"url(#clip962)\" cx=\"1397.63\" cy=\"505.742\" r=\"14\" fill=\"#009af9\" fill-rule=\"evenodd\" fill-opacity=\"1\" stroke=\"#000000\" stroke-opacity=\"1\" stroke-width=\"3.2\"/>\n",
       "<circle clip-path=\"url(#clip962)\" cx=\"1399.73\" cy=\"1027.95\" r=\"14\" fill=\"#009af9\" fill-rule=\"evenodd\" fill-opacity=\"1\" stroke=\"#000000\" stroke-opacity=\"1\" stroke-width=\"3.2\"/>\n",
       "<circle clip-path=\"url(#clip962)\" cx=\"1401.82\" cy=\"923.508\" r=\"14\" fill=\"#009af9\" fill-rule=\"evenodd\" fill-opacity=\"1\" stroke=\"#000000\" stroke-opacity=\"1\" stroke-width=\"3.2\"/>\n",
       "<circle clip-path=\"url(#clip962)\" cx=\"1403.92\" cy=\"923.508\" r=\"14\" fill=\"#009af9\" fill-rule=\"evenodd\" fill-opacity=\"1\" stroke=\"#000000\" stroke-opacity=\"1\" stroke-width=\"3.2\"/>\n",
       "<circle clip-path=\"url(#clip962)\" cx=\"1406.01\" cy=\"819.067\" r=\"14\" fill=\"#009af9\" fill-rule=\"evenodd\" fill-opacity=\"1\" stroke=\"#000000\" stroke-opacity=\"1\" stroke-width=\"3.2\"/>\n",
       "<circle clip-path=\"url(#clip962)\" cx=\"1408.1\" cy=\"923.508\" r=\"14\" fill=\"#009af9\" fill-rule=\"evenodd\" fill-opacity=\"1\" stroke=\"#000000\" stroke-opacity=\"1\" stroke-width=\"3.2\"/>\n",
       "<circle clip-path=\"url(#clip962)\" cx=\"1410.2\" cy=\"1027.95\" r=\"14\" fill=\"#009af9\" fill-rule=\"evenodd\" fill-opacity=\"1\" stroke=\"#000000\" stroke-opacity=\"1\" stroke-width=\"3.2\"/>\n",
       "<circle clip-path=\"url(#clip962)\" cx=\"1412.29\" cy=\"1027.95\" r=\"14\" fill=\"#009af9\" fill-rule=\"evenodd\" fill-opacity=\"1\" stroke=\"#000000\" stroke-opacity=\"1\" stroke-width=\"3.2\"/>\n",
       "<circle clip-path=\"url(#clip962)\" cx=\"1414.39\" cy=\"1027.95\" r=\"14\" fill=\"#009af9\" fill-rule=\"evenodd\" fill-opacity=\"1\" stroke=\"#000000\" stroke-opacity=\"1\" stroke-width=\"3.2\"/>\n",
       "<circle clip-path=\"url(#clip962)\" cx=\"1416.48\" cy=\"610.184\" r=\"14\" fill=\"#009af9\" fill-rule=\"evenodd\" fill-opacity=\"1\" stroke=\"#000000\" stroke-opacity=\"1\" stroke-width=\"3.2\"/>\n",
       "<circle clip-path=\"url(#clip962)\" cx=\"1418.58\" cy=\"714.625\" r=\"14\" fill=\"#009af9\" fill-rule=\"evenodd\" fill-opacity=\"1\" stroke=\"#000000\" stroke-opacity=\"1\" stroke-width=\"3.2\"/>\n",
       "<circle clip-path=\"url(#clip962)\" cx=\"1420.67\" cy=\"819.067\" r=\"14\" fill=\"#009af9\" fill-rule=\"evenodd\" fill-opacity=\"1\" stroke=\"#000000\" stroke-opacity=\"1\" stroke-width=\"3.2\"/>\n",
       "<circle clip-path=\"url(#clip962)\" cx=\"1422.77\" cy=\"714.625\" r=\"14\" fill=\"#009af9\" fill-rule=\"evenodd\" fill-opacity=\"1\" stroke=\"#000000\" stroke-opacity=\"1\" stroke-width=\"3.2\"/>\n",
       "<circle clip-path=\"url(#clip962)\" cx=\"1424.86\" cy=\"1132.39\" r=\"14\" fill=\"#009af9\" fill-rule=\"evenodd\" fill-opacity=\"1\" stroke=\"#000000\" stroke-opacity=\"1\" stroke-width=\"3.2\"/>\n",
       "<circle clip-path=\"url(#clip962)\" cx=\"1426.96\" cy=\"923.508\" r=\"14\" fill=\"#009af9\" fill-rule=\"evenodd\" fill-opacity=\"1\" stroke=\"#000000\" stroke-opacity=\"1\" stroke-width=\"3.2\"/>\n",
       "<circle clip-path=\"url(#clip962)\" cx=\"1429.05\" cy=\"923.508\" r=\"14\" fill=\"#009af9\" fill-rule=\"evenodd\" fill-opacity=\"1\" stroke=\"#000000\" stroke-opacity=\"1\" stroke-width=\"3.2\"/>\n",
       "<circle clip-path=\"url(#clip962)\" cx=\"1431.15\" cy=\"819.067\" r=\"14\" fill=\"#009af9\" fill-rule=\"evenodd\" fill-opacity=\"1\" stroke=\"#000000\" stroke-opacity=\"1\" stroke-width=\"3.2\"/>\n",
       "<circle clip-path=\"url(#clip962)\" cx=\"1433.24\" cy=\"1236.83\" r=\"14\" fill=\"#009af9\" fill-rule=\"evenodd\" fill-opacity=\"1\" stroke=\"#000000\" stroke-opacity=\"1\" stroke-width=\"3.2\"/>\n",
       "<circle clip-path=\"url(#clip962)\" cx=\"1435.34\" cy=\"1236.83\" r=\"14\" fill=\"#009af9\" fill-rule=\"evenodd\" fill-opacity=\"1\" stroke=\"#000000\" stroke-opacity=\"1\" stroke-width=\"3.2\"/>\n",
       "<circle clip-path=\"url(#clip962)\" cx=\"1437.43\" cy=\"819.067\" r=\"14\" fill=\"#009af9\" fill-rule=\"evenodd\" fill-opacity=\"1\" stroke=\"#000000\" stroke-opacity=\"1\" stroke-width=\"3.2\"/>\n",
       "<circle clip-path=\"url(#clip962)\" cx=\"1439.53\" cy=\"1132.39\" r=\"14\" fill=\"#009af9\" fill-rule=\"evenodd\" fill-opacity=\"1\" stroke=\"#000000\" stroke-opacity=\"1\" stroke-width=\"3.2\"/>\n",
       "<circle clip-path=\"url(#clip962)\" cx=\"1441.62\" cy=\"923.508\" r=\"14\" fill=\"#009af9\" fill-rule=\"evenodd\" fill-opacity=\"1\" stroke=\"#000000\" stroke-opacity=\"1\" stroke-width=\"3.2\"/>\n",
       "<circle clip-path=\"url(#clip962)\" cx=\"1443.71\" cy=\"923.508\" r=\"14\" fill=\"#009af9\" fill-rule=\"evenodd\" fill-opacity=\"1\" stroke=\"#000000\" stroke-opacity=\"1\" stroke-width=\"3.2\"/>\n",
       "<circle clip-path=\"url(#clip962)\" cx=\"1445.81\" cy=\"923.508\" r=\"14\" fill=\"#009af9\" fill-rule=\"evenodd\" fill-opacity=\"1\" stroke=\"#000000\" stroke-opacity=\"1\" stroke-width=\"3.2\"/>\n",
       "<circle clip-path=\"url(#clip962)\" cx=\"1447.9\" cy=\"923.508\" r=\"14\" fill=\"#009af9\" fill-rule=\"evenodd\" fill-opacity=\"1\" stroke=\"#000000\" stroke-opacity=\"1\" stroke-width=\"3.2\"/>\n",
       "<circle clip-path=\"url(#clip962)\" cx=\"1450\" cy=\"401.301\" r=\"14\" fill=\"#009af9\" fill-rule=\"evenodd\" fill-opacity=\"1\" stroke=\"#000000\" stroke-opacity=\"1\" stroke-width=\"3.2\"/>\n",
       "<circle clip-path=\"url(#clip962)\" cx=\"1452.09\" cy=\"923.508\" r=\"14\" fill=\"#009af9\" fill-rule=\"evenodd\" fill-opacity=\"1\" stroke=\"#000000\" stroke-opacity=\"1\" stroke-width=\"3.2\"/>\n",
       "<circle clip-path=\"url(#clip962)\" cx=\"1454.19\" cy=\"714.625\" r=\"14\" fill=\"#009af9\" fill-rule=\"evenodd\" fill-opacity=\"1\" stroke=\"#000000\" stroke-opacity=\"1\" stroke-width=\"3.2\"/>\n",
       "<circle clip-path=\"url(#clip962)\" cx=\"1456.28\" cy=\"1132.39\" r=\"14\" fill=\"#009af9\" fill-rule=\"evenodd\" fill-opacity=\"1\" stroke=\"#000000\" stroke-opacity=\"1\" stroke-width=\"3.2\"/>\n",
       "<circle clip-path=\"url(#clip962)\" cx=\"1458.38\" cy=\"1027.95\" r=\"14\" fill=\"#009af9\" fill-rule=\"evenodd\" fill-opacity=\"1\" stroke=\"#000000\" stroke-opacity=\"1\" stroke-width=\"3.2\"/>\n",
       "<circle clip-path=\"url(#clip962)\" cx=\"1460.47\" cy=\"714.625\" r=\"14\" fill=\"#009af9\" fill-rule=\"evenodd\" fill-opacity=\"1\" stroke=\"#000000\" stroke-opacity=\"1\" stroke-width=\"3.2\"/>\n",
       "<circle clip-path=\"url(#clip962)\" cx=\"1462.57\" cy=\"923.508\" r=\"14\" fill=\"#009af9\" fill-rule=\"evenodd\" fill-opacity=\"1\" stroke=\"#000000\" stroke-opacity=\"1\" stroke-width=\"3.2\"/>\n",
       "<circle clip-path=\"url(#clip962)\" cx=\"1464.66\" cy=\"1027.95\" r=\"14\" fill=\"#009af9\" fill-rule=\"evenodd\" fill-opacity=\"1\" stroke=\"#000000\" stroke-opacity=\"1\" stroke-width=\"3.2\"/>\n",
       "<circle clip-path=\"url(#clip962)\" cx=\"1466.76\" cy=\"923.508\" r=\"14\" fill=\"#009af9\" fill-rule=\"evenodd\" fill-opacity=\"1\" stroke=\"#000000\" stroke-opacity=\"1\" stroke-width=\"3.2\"/>\n",
       "<circle clip-path=\"url(#clip962)\" cx=\"1468.85\" cy=\"819.067\" r=\"14\" fill=\"#009af9\" fill-rule=\"evenodd\" fill-opacity=\"1\" stroke=\"#000000\" stroke-opacity=\"1\" stroke-width=\"3.2\"/>\n",
       "<circle clip-path=\"url(#clip962)\" cx=\"1470.95\" cy=\"819.067\" r=\"14\" fill=\"#009af9\" fill-rule=\"evenodd\" fill-opacity=\"1\" stroke=\"#000000\" stroke-opacity=\"1\" stroke-width=\"3.2\"/>\n",
       "<circle clip-path=\"url(#clip962)\" cx=\"1473.04\" cy=\"1027.95\" r=\"14\" fill=\"#009af9\" fill-rule=\"evenodd\" fill-opacity=\"1\" stroke=\"#000000\" stroke-opacity=\"1\" stroke-width=\"3.2\"/>\n",
       "<circle clip-path=\"url(#clip962)\" cx=\"1475.14\" cy=\"923.508\" r=\"14\" fill=\"#009af9\" fill-rule=\"evenodd\" fill-opacity=\"1\" stroke=\"#000000\" stroke-opacity=\"1\" stroke-width=\"3.2\"/>\n",
       "<circle clip-path=\"url(#clip962)\" cx=\"1477.23\" cy=\"1027.95\" r=\"14\" fill=\"#009af9\" fill-rule=\"evenodd\" fill-opacity=\"1\" stroke=\"#000000\" stroke-opacity=\"1\" stroke-width=\"3.2\"/>\n",
       "<circle clip-path=\"url(#clip962)\" cx=\"1479.32\" cy=\"819.067\" r=\"14\" fill=\"#009af9\" fill-rule=\"evenodd\" fill-opacity=\"1\" stroke=\"#000000\" stroke-opacity=\"1\" stroke-width=\"3.2\"/>\n",
       "<circle clip-path=\"url(#clip962)\" cx=\"1481.42\" cy=\"610.184\" r=\"14\" fill=\"#009af9\" fill-rule=\"evenodd\" fill-opacity=\"1\" stroke=\"#000000\" stroke-opacity=\"1\" stroke-width=\"3.2\"/>\n",
       "<circle clip-path=\"url(#clip962)\" cx=\"1483.51\" cy=\"819.067\" r=\"14\" fill=\"#009af9\" fill-rule=\"evenodd\" fill-opacity=\"1\" stroke=\"#000000\" stroke-opacity=\"1\" stroke-width=\"3.2\"/>\n",
       "<circle clip-path=\"url(#clip962)\" cx=\"1485.61\" cy=\"923.508\" r=\"14\" fill=\"#009af9\" fill-rule=\"evenodd\" fill-opacity=\"1\" stroke=\"#000000\" stroke-opacity=\"1\" stroke-width=\"3.2\"/>\n",
       "<circle clip-path=\"url(#clip962)\" cx=\"1487.7\" cy=\"1027.95\" r=\"14\" fill=\"#009af9\" fill-rule=\"evenodd\" fill-opacity=\"1\" stroke=\"#000000\" stroke-opacity=\"1\" stroke-width=\"3.2\"/>\n",
       "<circle clip-path=\"url(#clip962)\" cx=\"1489.8\" cy=\"819.067\" r=\"14\" fill=\"#009af9\" fill-rule=\"evenodd\" fill-opacity=\"1\" stroke=\"#000000\" stroke-opacity=\"1\" stroke-width=\"3.2\"/>\n",
       "<circle clip-path=\"url(#clip962)\" cx=\"1491.89\" cy=\"1132.39\" r=\"14\" fill=\"#009af9\" fill-rule=\"evenodd\" fill-opacity=\"1\" stroke=\"#000000\" stroke-opacity=\"1\" stroke-width=\"3.2\"/>\n",
       "<circle clip-path=\"url(#clip962)\" cx=\"1493.99\" cy=\"1132.39\" r=\"14\" fill=\"#009af9\" fill-rule=\"evenodd\" fill-opacity=\"1\" stroke=\"#000000\" stroke-opacity=\"1\" stroke-width=\"3.2\"/>\n",
       "<circle clip-path=\"url(#clip962)\" cx=\"1496.08\" cy=\"1341.27\" r=\"14\" fill=\"#009af9\" fill-rule=\"evenodd\" fill-opacity=\"1\" stroke=\"#000000\" stroke-opacity=\"1\" stroke-width=\"3.2\"/>\n",
       "<circle clip-path=\"url(#clip962)\" cx=\"1498.18\" cy=\"1132.39\" r=\"14\" fill=\"#009af9\" fill-rule=\"evenodd\" fill-opacity=\"1\" stroke=\"#000000\" stroke-opacity=\"1\" stroke-width=\"3.2\"/>\n",
       "<circle clip-path=\"url(#clip962)\" cx=\"1500.27\" cy=\"923.508\" r=\"14\" fill=\"#009af9\" fill-rule=\"evenodd\" fill-opacity=\"1\" stroke=\"#000000\" stroke-opacity=\"1\" stroke-width=\"3.2\"/>\n",
       "<circle clip-path=\"url(#clip962)\" cx=\"1502.37\" cy=\"1027.95\" r=\"14\" fill=\"#009af9\" fill-rule=\"evenodd\" fill-opacity=\"1\" stroke=\"#000000\" stroke-opacity=\"1\" stroke-width=\"3.2\"/>\n",
       "<circle clip-path=\"url(#clip962)\" cx=\"1504.46\" cy=\"1027.95\" r=\"14\" fill=\"#009af9\" fill-rule=\"evenodd\" fill-opacity=\"1\" stroke=\"#000000\" stroke-opacity=\"1\" stroke-width=\"3.2\"/>\n",
       "<circle clip-path=\"url(#clip962)\" cx=\"1506.56\" cy=\"819.067\" r=\"14\" fill=\"#009af9\" fill-rule=\"evenodd\" fill-opacity=\"1\" stroke=\"#000000\" stroke-opacity=\"1\" stroke-width=\"3.2\"/>\n",
       "<circle clip-path=\"url(#clip962)\" cx=\"1508.65\" cy=\"1132.39\" r=\"14\" fill=\"#009af9\" fill-rule=\"evenodd\" fill-opacity=\"1\" stroke=\"#000000\" stroke-opacity=\"1\" stroke-width=\"3.2\"/>\n",
       "<circle clip-path=\"url(#clip962)\" cx=\"1510.75\" cy=\"610.184\" r=\"14\" fill=\"#009af9\" fill-rule=\"evenodd\" fill-opacity=\"1\" stroke=\"#000000\" stroke-opacity=\"1\" stroke-width=\"3.2\"/>\n",
       "<circle clip-path=\"url(#clip962)\" cx=\"1512.84\" cy=\"1027.95\" r=\"14\" fill=\"#009af9\" fill-rule=\"evenodd\" fill-opacity=\"1\" stroke=\"#000000\" stroke-opacity=\"1\" stroke-width=\"3.2\"/>\n",
       "<circle clip-path=\"url(#clip962)\" cx=\"1514.94\" cy=\"819.067\" r=\"14\" fill=\"#009af9\" fill-rule=\"evenodd\" fill-opacity=\"1\" stroke=\"#000000\" stroke-opacity=\"1\" stroke-width=\"3.2\"/>\n",
       "<circle clip-path=\"url(#clip962)\" cx=\"1517.03\" cy=\"1341.27\" r=\"14\" fill=\"#009af9\" fill-rule=\"evenodd\" fill-opacity=\"1\" stroke=\"#000000\" stroke-opacity=\"1\" stroke-width=\"3.2\"/>\n",
       "<circle clip-path=\"url(#clip962)\" cx=\"1519.12\" cy=\"1132.39\" r=\"14\" fill=\"#009af9\" fill-rule=\"evenodd\" fill-opacity=\"1\" stroke=\"#000000\" stroke-opacity=\"1\" stroke-width=\"3.2\"/>\n",
       "<circle clip-path=\"url(#clip962)\" cx=\"1521.22\" cy=\"505.742\" r=\"14\" fill=\"#009af9\" fill-rule=\"evenodd\" fill-opacity=\"1\" stroke=\"#000000\" stroke-opacity=\"1\" stroke-width=\"3.2\"/>\n",
       "<circle clip-path=\"url(#clip962)\" cx=\"1523.31\" cy=\"923.508\" r=\"14\" fill=\"#009af9\" fill-rule=\"evenodd\" fill-opacity=\"1\" stroke=\"#000000\" stroke-opacity=\"1\" stroke-width=\"3.2\"/>\n",
       "<circle clip-path=\"url(#clip962)\" cx=\"1525.41\" cy=\"1132.39\" r=\"14\" fill=\"#009af9\" fill-rule=\"evenodd\" fill-opacity=\"1\" stroke=\"#000000\" stroke-opacity=\"1\" stroke-width=\"3.2\"/>\n",
       "<circle clip-path=\"url(#clip962)\" cx=\"1527.5\" cy=\"819.067\" r=\"14\" fill=\"#009af9\" fill-rule=\"evenodd\" fill-opacity=\"1\" stroke=\"#000000\" stroke-opacity=\"1\" stroke-width=\"3.2\"/>\n",
       "<circle clip-path=\"url(#clip962)\" cx=\"1529.6\" cy=\"923.508\" r=\"14\" fill=\"#009af9\" fill-rule=\"evenodd\" fill-opacity=\"1\" stroke=\"#000000\" stroke-opacity=\"1\" stroke-width=\"3.2\"/>\n",
       "<circle clip-path=\"url(#clip962)\" cx=\"1531.69\" cy=\"819.067\" r=\"14\" fill=\"#009af9\" fill-rule=\"evenodd\" fill-opacity=\"1\" stroke=\"#000000\" stroke-opacity=\"1\" stroke-width=\"3.2\"/>\n",
       "<circle clip-path=\"url(#clip962)\" cx=\"1533.79\" cy=\"1132.39\" r=\"14\" fill=\"#009af9\" fill-rule=\"evenodd\" fill-opacity=\"1\" stroke=\"#000000\" stroke-opacity=\"1\" stroke-width=\"3.2\"/>\n",
       "<circle clip-path=\"url(#clip962)\" cx=\"1535.88\" cy=\"1236.83\" r=\"14\" fill=\"#009af9\" fill-rule=\"evenodd\" fill-opacity=\"1\" stroke=\"#000000\" stroke-opacity=\"1\" stroke-width=\"3.2\"/>\n",
       "<circle clip-path=\"url(#clip962)\" cx=\"1537.98\" cy=\"923.508\" r=\"14\" fill=\"#009af9\" fill-rule=\"evenodd\" fill-opacity=\"1\" stroke=\"#000000\" stroke-opacity=\"1\" stroke-width=\"3.2\"/>\n",
       "<circle clip-path=\"url(#clip962)\" cx=\"1540.07\" cy=\"714.625\" r=\"14\" fill=\"#009af9\" fill-rule=\"evenodd\" fill-opacity=\"1\" stroke=\"#000000\" stroke-opacity=\"1\" stroke-width=\"3.2\"/>\n",
       "<circle clip-path=\"url(#clip962)\" cx=\"1542.17\" cy=\"1132.39\" r=\"14\" fill=\"#009af9\" fill-rule=\"evenodd\" fill-opacity=\"1\" stroke=\"#000000\" stroke-opacity=\"1\" stroke-width=\"3.2\"/>\n",
       "<circle clip-path=\"url(#clip962)\" cx=\"1544.26\" cy=\"714.625\" r=\"14\" fill=\"#009af9\" fill-rule=\"evenodd\" fill-opacity=\"1\" stroke=\"#000000\" stroke-opacity=\"1\" stroke-width=\"3.2\"/>\n",
       "<circle clip-path=\"url(#clip962)\" cx=\"1546.36\" cy=\"819.067\" r=\"14\" fill=\"#009af9\" fill-rule=\"evenodd\" fill-opacity=\"1\" stroke=\"#000000\" stroke-opacity=\"1\" stroke-width=\"3.2\"/>\n",
       "<circle clip-path=\"url(#clip962)\" cx=\"1548.45\" cy=\"819.067\" r=\"14\" fill=\"#009af9\" fill-rule=\"evenodd\" fill-opacity=\"1\" stroke=\"#000000\" stroke-opacity=\"1\" stroke-width=\"3.2\"/>\n",
       "<circle clip-path=\"url(#clip962)\" cx=\"1550.55\" cy=\"505.742\" r=\"14\" fill=\"#009af9\" fill-rule=\"evenodd\" fill-opacity=\"1\" stroke=\"#000000\" stroke-opacity=\"1\" stroke-width=\"3.2\"/>\n",
       "<circle clip-path=\"url(#clip962)\" cx=\"1552.64\" cy=\"819.067\" r=\"14\" fill=\"#009af9\" fill-rule=\"evenodd\" fill-opacity=\"1\" stroke=\"#000000\" stroke-opacity=\"1\" stroke-width=\"3.2\"/>\n",
       "<circle clip-path=\"url(#clip962)\" cx=\"1554.73\" cy=\"505.742\" r=\"14\" fill=\"#009af9\" fill-rule=\"evenodd\" fill-opacity=\"1\" stroke=\"#000000\" stroke-opacity=\"1\" stroke-width=\"3.2\"/>\n",
       "<circle clip-path=\"url(#clip962)\" cx=\"1556.83\" cy=\"1236.83\" r=\"14\" fill=\"#009af9\" fill-rule=\"evenodd\" fill-opacity=\"1\" stroke=\"#000000\" stroke-opacity=\"1\" stroke-width=\"3.2\"/>\n",
       "<circle clip-path=\"url(#clip962)\" cx=\"1558.92\" cy=\"923.508\" r=\"14\" fill=\"#009af9\" fill-rule=\"evenodd\" fill-opacity=\"1\" stroke=\"#000000\" stroke-opacity=\"1\" stroke-width=\"3.2\"/>\n",
       "<circle clip-path=\"url(#clip962)\" cx=\"1561.02\" cy=\"819.067\" r=\"14\" fill=\"#009af9\" fill-rule=\"evenodd\" fill-opacity=\"1\" stroke=\"#000000\" stroke-opacity=\"1\" stroke-width=\"3.2\"/>\n",
       "<circle clip-path=\"url(#clip962)\" cx=\"1563.11\" cy=\"819.067\" r=\"14\" fill=\"#009af9\" fill-rule=\"evenodd\" fill-opacity=\"1\" stroke=\"#000000\" stroke-opacity=\"1\" stroke-width=\"3.2\"/>\n",
       "<circle clip-path=\"url(#clip962)\" cx=\"1565.21\" cy=\"1132.39\" r=\"14\" fill=\"#009af9\" fill-rule=\"evenodd\" fill-opacity=\"1\" stroke=\"#000000\" stroke-opacity=\"1\" stroke-width=\"3.2\"/>\n",
       "<circle clip-path=\"url(#clip962)\" cx=\"1567.3\" cy=\"1132.39\" r=\"14\" fill=\"#009af9\" fill-rule=\"evenodd\" fill-opacity=\"1\" stroke=\"#000000\" stroke-opacity=\"1\" stroke-width=\"3.2\"/>\n",
       "<circle clip-path=\"url(#clip962)\" cx=\"1569.4\" cy=\"1132.39\" r=\"14\" fill=\"#009af9\" fill-rule=\"evenodd\" fill-opacity=\"1\" stroke=\"#000000\" stroke-opacity=\"1\" stroke-width=\"3.2\"/>\n",
       "<circle clip-path=\"url(#clip962)\" cx=\"1571.49\" cy=\"505.742\" r=\"14\" fill=\"#009af9\" fill-rule=\"evenodd\" fill-opacity=\"1\" stroke=\"#000000\" stroke-opacity=\"1\" stroke-width=\"3.2\"/>\n",
       "<circle clip-path=\"url(#clip962)\" cx=\"1573.59\" cy=\"1132.39\" r=\"14\" fill=\"#009af9\" fill-rule=\"evenodd\" fill-opacity=\"1\" stroke=\"#000000\" stroke-opacity=\"1\" stroke-width=\"3.2\"/>\n",
       "<circle clip-path=\"url(#clip962)\" cx=\"1575.68\" cy=\"505.742\" r=\"14\" fill=\"#009af9\" fill-rule=\"evenodd\" fill-opacity=\"1\" stroke=\"#000000\" stroke-opacity=\"1\" stroke-width=\"3.2\"/>\n",
       "<circle clip-path=\"url(#clip962)\" cx=\"1577.78\" cy=\"923.508\" r=\"14\" fill=\"#009af9\" fill-rule=\"evenodd\" fill-opacity=\"1\" stroke=\"#000000\" stroke-opacity=\"1\" stroke-width=\"3.2\"/>\n",
       "<circle clip-path=\"url(#clip962)\" cx=\"1579.87\" cy=\"296.859\" r=\"14\" fill=\"#009af9\" fill-rule=\"evenodd\" fill-opacity=\"1\" stroke=\"#000000\" stroke-opacity=\"1\" stroke-width=\"3.2\"/>\n",
       "<circle clip-path=\"url(#clip962)\" cx=\"1581.97\" cy=\"714.625\" r=\"14\" fill=\"#009af9\" fill-rule=\"evenodd\" fill-opacity=\"1\" stroke=\"#000000\" stroke-opacity=\"1\" stroke-width=\"3.2\"/>\n",
       "<circle clip-path=\"url(#clip962)\" cx=\"1584.06\" cy=\"819.067\" r=\"14\" fill=\"#009af9\" fill-rule=\"evenodd\" fill-opacity=\"1\" stroke=\"#000000\" stroke-opacity=\"1\" stroke-width=\"3.2\"/>\n",
       "<circle clip-path=\"url(#clip962)\" cx=\"1586.16\" cy=\"923.508\" r=\"14\" fill=\"#009af9\" fill-rule=\"evenodd\" fill-opacity=\"1\" stroke=\"#000000\" stroke-opacity=\"1\" stroke-width=\"3.2\"/>\n",
       "<circle clip-path=\"url(#clip962)\" cx=\"1588.25\" cy=\"1132.39\" r=\"14\" fill=\"#009af9\" fill-rule=\"evenodd\" fill-opacity=\"1\" stroke=\"#000000\" stroke-opacity=\"1\" stroke-width=\"3.2\"/>\n",
       "<circle clip-path=\"url(#clip962)\" cx=\"1590.34\" cy=\"714.625\" r=\"14\" fill=\"#009af9\" fill-rule=\"evenodd\" fill-opacity=\"1\" stroke=\"#000000\" stroke-opacity=\"1\" stroke-width=\"3.2\"/>\n",
       "<circle clip-path=\"url(#clip962)\" cx=\"1592.44\" cy=\"923.508\" r=\"14\" fill=\"#009af9\" fill-rule=\"evenodd\" fill-opacity=\"1\" stroke=\"#000000\" stroke-opacity=\"1\" stroke-width=\"3.2\"/>\n",
       "<circle clip-path=\"url(#clip962)\" cx=\"1594.53\" cy=\"1027.95\" r=\"14\" fill=\"#009af9\" fill-rule=\"evenodd\" fill-opacity=\"1\" stroke=\"#000000\" stroke-opacity=\"1\" stroke-width=\"3.2\"/>\n",
       "<circle clip-path=\"url(#clip962)\" cx=\"1596.63\" cy=\"1027.95\" r=\"14\" fill=\"#009af9\" fill-rule=\"evenodd\" fill-opacity=\"1\" stroke=\"#000000\" stroke-opacity=\"1\" stroke-width=\"3.2\"/>\n",
       "<circle clip-path=\"url(#clip962)\" cx=\"1598.72\" cy=\"1341.27\" r=\"14\" fill=\"#009af9\" fill-rule=\"evenodd\" fill-opacity=\"1\" stroke=\"#000000\" stroke-opacity=\"1\" stroke-width=\"3.2\"/>\n",
       "<circle clip-path=\"url(#clip962)\" cx=\"1600.82\" cy=\"1132.39\" r=\"14\" fill=\"#009af9\" fill-rule=\"evenodd\" fill-opacity=\"1\" stroke=\"#000000\" stroke-opacity=\"1\" stroke-width=\"3.2\"/>\n",
       "<circle clip-path=\"url(#clip962)\" cx=\"1602.91\" cy=\"819.067\" r=\"14\" fill=\"#009af9\" fill-rule=\"evenodd\" fill-opacity=\"1\" stroke=\"#000000\" stroke-opacity=\"1\" stroke-width=\"3.2\"/>\n",
       "<circle clip-path=\"url(#clip962)\" cx=\"1605.01\" cy=\"714.625\" r=\"14\" fill=\"#009af9\" fill-rule=\"evenodd\" fill-opacity=\"1\" stroke=\"#000000\" stroke-opacity=\"1\" stroke-width=\"3.2\"/>\n",
       "<circle clip-path=\"url(#clip962)\" cx=\"1607.1\" cy=\"923.508\" r=\"14\" fill=\"#009af9\" fill-rule=\"evenodd\" fill-opacity=\"1\" stroke=\"#000000\" stroke-opacity=\"1\" stroke-width=\"3.2\"/>\n",
       "<circle clip-path=\"url(#clip962)\" cx=\"1609.2\" cy=\"505.742\" r=\"14\" fill=\"#009af9\" fill-rule=\"evenodd\" fill-opacity=\"1\" stroke=\"#000000\" stroke-opacity=\"1\" stroke-width=\"3.2\"/>\n",
       "<circle clip-path=\"url(#clip962)\" cx=\"1611.29\" cy=\"1027.95\" r=\"14\" fill=\"#009af9\" fill-rule=\"evenodd\" fill-opacity=\"1\" stroke=\"#000000\" stroke-opacity=\"1\" stroke-width=\"3.2\"/>\n",
       "<circle clip-path=\"url(#clip962)\" cx=\"1613.39\" cy=\"1027.95\" r=\"14\" fill=\"#009af9\" fill-rule=\"evenodd\" fill-opacity=\"1\" stroke=\"#000000\" stroke-opacity=\"1\" stroke-width=\"3.2\"/>\n",
       "<circle clip-path=\"url(#clip962)\" cx=\"1615.48\" cy=\"1027.95\" r=\"14\" fill=\"#009af9\" fill-rule=\"evenodd\" fill-opacity=\"1\" stroke=\"#000000\" stroke-opacity=\"1\" stroke-width=\"3.2\"/>\n",
       "<circle clip-path=\"url(#clip962)\" cx=\"1617.58\" cy=\"1341.27\" r=\"14\" fill=\"#009af9\" fill-rule=\"evenodd\" fill-opacity=\"1\" stroke=\"#000000\" stroke-opacity=\"1\" stroke-width=\"3.2\"/>\n",
       "<circle clip-path=\"url(#clip962)\" cx=\"1619.67\" cy=\"819.067\" r=\"14\" fill=\"#009af9\" fill-rule=\"evenodd\" fill-opacity=\"1\" stroke=\"#000000\" stroke-opacity=\"1\" stroke-width=\"3.2\"/>\n",
       "<circle clip-path=\"url(#clip962)\" cx=\"1621.77\" cy=\"1027.95\" r=\"14\" fill=\"#009af9\" fill-rule=\"evenodd\" fill-opacity=\"1\" stroke=\"#000000\" stroke-opacity=\"1\" stroke-width=\"3.2\"/>\n",
       "<circle clip-path=\"url(#clip962)\" cx=\"1623.86\" cy=\"1132.39\" r=\"14\" fill=\"#009af9\" fill-rule=\"evenodd\" fill-opacity=\"1\" stroke=\"#000000\" stroke-opacity=\"1\" stroke-width=\"3.2\"/>\n",
       "<circle clip-path=\"url(#clip962)\" cx=\"1625.95\" cy=\"714.625\" r=\"14\" fill=\"#009af9\" fill-rule=\"evenodd\" fill-opacity=\"1\" stroke=\"#000000\" stroke-opacity=\"1\" stroke-width=\"3.2\"/>\n",
       "<circle clip-path=\"url(#clip962)\" cx=\"1628.05\" cy=\"714.625\" r=\"14\" fill=\"#009af9\" fill-rule=\"evenodd\" fill-opacity=\"1\" stroke=\"#000000\" stroke-opacity=\"1\" stroke-width=\"3.2\"/>\n",
       "<circle clip-path=\"url(#clip962)\" cx=\"1630.14\" cy=\"610.184\" r=\"14\" fill=\"#009af9\" fill-rule=\"evenodd\" fill-opacity=\"1\" stroke=\"#000000\" stroke-opacity=\"1\" stroke-width=\"3.2\"/>\n",
       "<circle clip-path=\"url(#clip962)\" cx=\"1632.24\" cy=\"1236.83\" r=\"14\" fill=\"#009af9\" fill-rule=\"evenodd\" fill-opacity=\"1\" stroke=\"#000000\" stroke-opacity=\"1\" stroke-width=\"3.2\"/>\n",
       "<circle clip-path=\"url(#clip962)\" cx=\"1634.33\" cy=\"1027.95\" r=\"14\" fill=\"#009af9\" fill-rule=\"evenodd\" fill-opacity=\"1\" stroke=\"#000000\" stroke-opacity=\"1\" stroke-width=\"3.2\"/>\n",
       "<circle clip-path=\"url(#clip962)\" cx=\"1636.43\" cy=\"1132.39\" r=\"14\" fill=\"#009af9\" fill-rule=\"evenodd\" fill-opacity=\"1\" stroke=\"#000000\" stroke-opacity=\"1\" stroke-width=\"3.2\"/>\n",
       "<circle clip-path=\"url(#clip962)\" cx=\"1638.52\" cy=\"714.625\" r=\"14\" fill=\"#009af9\" fill-rule=\"evenodd\" fill-opacity=\"1\" stroke=\"#000000\" stroke-opacity=\"1\" stroke-width=\"3.2\"/>\n",
       "<circle clip-path=\"url(#clip962)\" cx=\"1640.62\" cy=\"923.508\" r=\"14\" fill=\"#009af9\" fill-rule=\"evenodd\" fill-opacity=\"1\" stroke=\"#000000\" stroke-opacity=\"1\" stroke-width=\"3.2\"/>\n",
       "<circle clip-path=\"url(#clip962)\" cx=\"1642.71\" cy=\"1027.95\" r=\"14\" fill=\"#009af9\" fill-rule=\"evenodd\" fill-opacity=\"1\" stroke=\"#000000\" stroke-opacity=\"1\" stroke-width=\"3.2\"/>\n",
       "<circle clip-path=\"url(#clip962)\" cx=\"1644.81\" cy=\"714.625\" r=\"14\" fill=\"#009af9\" fill-rule=\"evenodd\" fill-opacity=\"1\" stroke=\"#000000\" stroke-opacity=\"1\" stroke-width=\"3.2\"/>\n",
       "<circle clip-path=\"url(#clip962)\" cx=\"1646.9\" cy=\"923.508\" r=\"14\" fill=\"#009af9\" fill-rule=\"evenodd\" fill-opacity=\"1\" stroke=\"#000000\" stroke-opacity=\"1\" stroke-width=\"3.2\"/>\n",
       "<circle clip-path=\"url(#clip962)\" cx=\"1649\" cy=\"819.067\" r=\"14\" fill=\"#009af9\" fill-rule=\"evenodd\" fill-opacity=\"1\" stroke=\"#000000\" stroke-opacity=\"1\" stroke-width=\"3.2\"/>\n",
       "<circle clip-path=\"url(#clip962)\" cx=\"1651.09\" cy=\"714.625\" r=\"14\" fill=\"#009af9\" fill-rule=\"evenodd\" fill-opacity=\"1\" stroke=\"#000000\" stroke-opacity=\"1\" stroke-width=\"3.2\"/>\n",
       "<circle clip-path=\"url(#clip962)\" cx=\"1653.19\" cy=\"819.067\" r=\"14\" fill=\"#009af9\" fill-rule=\"evenodd\" fill-opacity=\"1\" stroke=\"#000000\" stroke-opacity=\"1\" stroke-width=\"3.2\"/>\n",
       "<circle clip-path=\"url(#clip962)\" cx=\"1655.28\" cy=\"1027.95\" r=\"14\" fill=\"#009af9\" fill-rule=\"evenodd\" fill-opacity=\"1\" stroke=\"#000000\" stroke-opacity=\"1\" stroke-width=\"3.2\"/>\n",
       "<circle clip-path=\"url(#clip962)\" cx=\"1657.38\" cy=\"1236.83\" r=\"14\" fill=\"#009af9\" fill-rule=\"evenodd\" fill-opacity=\"1\" stroke=\"#000000\" stroke-opacity=\"1\" stroke-width=\"3.2\"/>\n",
       "<circle clip-path=\"url(#clip962)\" cx=\"1659.47\" cy=\"1027.95\" r=\"14\" fill=\"#009af9\" fill-rule=\"evenodd\" fill-opacity=\"1\" stroke=\"#000000\" stroke-opacity=\"1\" stroke-width=\"3.2\"/>\n",
       "<circle clip-path=\"url(#clip962)\" cx=\"1661.56\" cy=\"1027.95\" r=\"14\" fill=\"#009af9\" fill-rule=\"evenodd\" fill-opacity=\"1\" stroke=\"#000000\" stroke-opacity=\"1\" stroke-width=\"3.2\"/>\n",
       "<circle clip-path=\"url(#clip962)\" cx=\"1663.66\" cy=\"819.067\" r=\"14\" fill=\"#009af9\" fill-rule=\"evenodd\" fill-opacity=\"1\" stroke=\"#000000\" stroke-opacity=\"1\" stroke-width=\"3.2\"/>\n",
       "<circle clip-path=\"url(#clip962)\" cx=\"1665.75\" cy=\"1132.39\" r=\"14\" fill=\"#009af9\" fill-rule=\"evenodd\" fill-opacity=\"1\" stroke=\"#000000\" stroke-opacity=\"1\" stroke-width=\"3.2\"/>\n",
       "<circle clip-path=\"url(#clip962)\" cx=\"1667.85\" cy=\"923.508\" r=\"14\" fill=\"#009af9\" fill-rule=\"evenodd\" fill-opacity=\"1\" stroke=\"#000000\" stroke-opacity=\"1\" stroke-width=\"3.2\"/>\n",
       "<circle clip-path=\"url(#clip962)\" cx=\"1669.94\" cy=\"819.067\" r=\"14\" fill=\"#009af9\" fill-rule=\"evenodd\" fill-opacity=\"1\" stroke=\"#000000\" stroke-opacity=\"1\" stroke-width=\"3.2\"/>\n",
       "<circle clip-path=\"url(#clip962)\" cx=\"1672.04\" cy=\"1132.39\" r=\"14\" fill=\"#009af9\" fill-rule=\"evenodd\" fill-opacity=\"1\" stroke=\"#000000\" stroke-opacity=\"1\" stroke-width=\"3.2\"/>\n",
       "<circle clip-path=\"url(#clip962)\" cx=\"1674.13\" cy=\"819.067\" r=\"14\" fill=\"#009af9\" fill-rule=\"evenodd\" fill-opacity=\"1\" stroke=\"#000000\" stroke-opacity=\"1\" stroke-width=\"3.2\"/>\n",
       "<circle clip-path=\"url(#clip962)\" cx=\"1676.23\" cy=\"1445.72\" r=\"14\" fill=\"#009af9\" fill-rule=\"evenodd\" fill-opacity=\"1\" stroke=\"#000000\" stroke-opacity=\"1\" stroke-width=\"3.2\"/>\n",
       "<circle clip-path=\"url(#clip962)\" cx=\"1678.32\" cy=\"610.184\" r=\"14\" fill=\"#009af9\" fill-rule=\"evenodd\" fill-opacity=\"1\" stroke=\"#000000\" stroke-opacity=\"1\" stroke-width=\"3.2\"/>\n",
       "<circle clip-path=\"url(#clip962)\" cx=\"1680.42\" cy=\"505.742\" r=\"14\" fill=\"#009af9\" fill-rule=\"evenodd\" fill-opacity=\"1\" stroke=\"#000000\" stroke-opacity=\"1\" stroke-width=\"3.2\"/>\n",
       "<circle clip-path=\"url(#clip962)\" cx=\"1682.51\" cy=\"1236.83\" r=\"14\" fill=\"#009af9\" fill-rule=\"evenodd\" fill-opacity=\"1\" stroke=\"#000000\" stroke-opacity=\"1\" stroke-width=\"3.2\"/>\n",
       "<circle clip-path=\"url(#clip962)\" cx=\"1684.61\" cy=\"819.067\" r=\"14\" fill=\"#009af9\" fill-rule=\"evenodd\" fill-opacity=\"1\" stroke=\"#000000\" stroke-opacity=\"1\" stroke-width=\"3.2\"/>\n",
       "<circle clip-path=\"url(#clip962)\" cx=\"1686.7\" cy=\"819.067\" r=\"14\" fill=\"#009af9\" fill-rule=\"evenodd\" fill-opacity=\"1\" stroke=\"#000000\" stroke-opacity=\"1\" stroke-width=\"3.2\"/>\n",
       "<circle clip-path=\"url(#clip962)\" cx=\"1688.8\" cy=\"1027.95\" r=\"14\" fill=\"#009af9\" fill-rule=\"evenodd\" fill-opacity=\"1\" stroke=\"#000000\" stroke-opacity=\"1\" stroke-width=\"3.2\"/>\n",
       "<circle clip-path=\"url(#clip962)\" cx=\"1690.89\" cy=\"923.508\" r=\"14\" fill=\"#009af9\" fill-rule=\"evenodd\" fill-opacity=\"1\" stroke=\"#000000\" stroke-opacity=\"1\" stroke-width=\"3.2\"/>\n",
       "<circle clip-path=\"url(#clip962)\" cx=\"1692.99\" cy=\"819.067\" r=\"14\" fill=\"#009af9\" fill-rule=\"evenodd\" fill-opacity=\"1\" stroke=\"#000000\" stroke-opacity=\"1\" stroke-width=\"3.2\"/>\n",
       "<circle clip-path=\"url(#clip962)\" cx=\"1695.08\" cy=\"1027.95\" r=\"14\" fill=\"#009af9\" fill-rule=\"evenodd\" fill-opacity=\"1\" stroke=\"#000000\" stroke-opacity=\"1\" stroke-width=\"3.2\"/>\n",
       "<circle clip-path=\"url(#clip962)\" cx=\"1697.17\" cy=\"1236.83\" r=\"14\" fill=\"#009af9\" fill-rule=\"evenodd\" fill-opacity=\"1\" stroke=\"#000000\" stroke-opacity=\"1\" stroke-width=\"3.2\"/>\n",
       "<circle clip-path=\"url(#clip962)\" cx=\"1699.27\" cy=\"1027.95\" r=\"14\" fill=\"#009af9\" fill-rule=\"evenodd\" fill-opacity=\"1\" stroke=\"#000000\" stroke-opacity=\"1\" stroke-width=\"3.2\"/>\n",
       "<circle clip-path=\"url(#clip962)\" cx=\"1701.36\" cy=\"923.508\" r=\"14\" fill=\"#009af9\" fill-rule=\"evenodd\" fill-opacity=\"1\" stroke=\"#000000\" stroke-opacity=\"1\" stroke-width=\"3.2\"/>\n",
       "<circle clip-path=\"url(#clip962)\" cx=\"1703.46\" cy=\"819.067\" r=\"14\" fill=\"#009af9\" fill-rule=\"evenodd\" fill-opacity=\"1\" stroke=\"#000000\" stroke-opacity=\"1\" stroke-width=\"3.2\"/>\n",
       "<circle clip-path=\"url(#clip962)\" cx=\"1705.55\" cy=\"1027.95\" r=\"14\" fill=\"#009af9\" fill-rule=\"evenodd\" fill-opacity=\"1\" stroke=\"#000000\" stroke-opacity=\"1\" stroke-width=\"3.2\"/>\n",
       "<circle clip-path=\"url(#clip962)\" cx=\"1707.65\" cy=\"1132.39\" r=\"14\" fill=\"#009af9\" fill-rule=\"evenodd\" fill-opacity=\"1\" stroke=\"#000000\" stroke-opacity=\"1\" stroke-width=\"3.2\"/>\n",
       "<circle clip-path=\"url(#clip962)\" cx=\"1709.74\" cy=\"714.625\" r=\"14\" fill=\"#009af9\" fill-rule=\"evenodd\" fill-opacity=\"1\" stroke=\"#000000\" stroke-opacity=\"1\" stroke-width=\"3.2\"/>\n",
       "<circle clip-path=\"url(#clip962)\" cx=\"1711.84\" cy=\"1027.95\" r=\"14\" fill=\"#009af9\" fill-rule=\"evenodd\" fill-opacity=\"1\" stroke=\"#000000\" stroke-opacity=\"1\" stroke-width=\"3.2\"/>\n",
       "<circle clip-path=\"url(#clip962)\" cx=\"1713.93\" cy=\"1027.95\" r=\"14\" fill=\"#009af9\" fill-rule=\"evenodd\" fill-opacity=\"1\" stroke=\"#000000\" stroke-opacity=\"1\" stroke-width=\"3.2\"/>\n",
       "<circle clip-path=\"url(#clip962)\" cx=\"1716.03\" cy=\"923.508\" r=\"14\" fill=\"#009af9\" fill-rule=\"evenodd\" fill-opacity=\"1\" stroke=\"#000000\" stroke-opacity=\"1\" stroke-width=\"3.2\"/>\n",
       "<circle clip-path=\"url(#clip962)\" cx=\"1718.12\" cy=\"819.067\" r=\"14\" fill=\"#009af9\" fill-rule=\"evenodd\" fill-opacity=\"1\" stroke=\"#000000\" stroke-opacity=\"1\" stroke-width=\"3.2\"/>\n",
       "<circle clip-path=\"url(#clip962)\" cx=\"1720.22\" cy=\"923.508\" r=\"14\" fill=\"#009af9\" fill-rule=\"evenodd\" fill-opacity=\"1\" stroke=\"#000000\" stroke-opacity=\"1\" stroke-width=\"3.2\"/>\n",
       "<circle clip-path=\"url(#clip962)\" cx=\"1722.31\" cy=\"1027.95\" r=\"14\" fill=\"#009af9\" fill-rule=\"evenodd\" fill-opacity=\"1\" stroke=\"#000000\" stroke-opacity=\"1\" stroke-width=\"3.2\"/>\n",
       "<circle clip-path=\"url(#clip962)\" cx=\"1724.41\" cy=\"714.625\" r=\"14\" fill=\"#009af9\" fill-rule=\"evenodd\" fill-opacity=\"1\" stroke=\"#000000\" stroke-opacity=\"1\" stroke-width=\"3.2\"/>\n",
       "<circle clip-path=\"url(#clip962)\" cx=\"1726.5\" cy=\"714.625\" r=\"14\" fill=\"#009af9\" fill-rule=\"evenodd\" fill-opacity=\"1\" stroke=\"#000000\" stroke-opacity=\"1\" stroke-width=\"3.2\"/>\n",
       "<circle clip-path=\"url(#clip962)\" cx=\"1728.6\" cy=\"819.067\" r=\"14\" fill=\"#009af9\" fill-rule=\"evenodd\" fill-opacity=\"1\" stroke=\"#000000\" stroke-opacity=\"1\" stroke-width=\"3.2\"/>\n",
       "<circle clip-path=\"url(#clip962)\" cx=\"1730.69\" cy=\"1132.39\" r=\"14\" fill=\"#009af9\" fill-rule=\"evenodd\" fill-opacity=\"1\" stroke=\"#000000\" stroke-opacity=\"1\" stroke-width=\"3.2\"/>\n",
       "<circle clip-path=\"url(#clip962)\" cx=\"1732.78\" cy=\"610.184\" r=\"14\" fill=\"#009af9\" fill-rule=\"evenodd\" fill-opacity=\"1\" stroke=\"#000000\" stroke-opacity=\"1\" stroke-width=\"3.2\"/>\n",
       "<circle clip-path=\"url(#clip962)\" cx=\"1734.88\" cy=\"610.184\" r=\"14\" fill=\"#009af9\" fill-rule=\"evenodd\" fill-opacity=\"1\" stroke=\"#000000\" stroke-opacity=\"1\" stroke-width=\"3.2\"/>\n",
       "<circle clip-path=\"url(#clip962)\" cx=\"1736.97\" cy=\"1027.95\" r=\"14\" fill=\"#009af9\" fill-rule=\"evenodd\" fill-opacity=\"1\" stroke=\"#000000\" stroke-opacity=\"1\" stroke-width=\"3.2\"/>\n",
       "<circle clip-path=\"url(#clip962)\" cx=\"1739.07\" cy=\"819.067\" r=\"14\" fill=\"#009af9\" fill-rule=\"evenodd\" fill-opacity=\"1\" stroke=\"#000000\" stroke-opacity=\"1\" stroke-width=\"3.2\"/>\n",
       "<circle clip-path=\"url(#clip962)\" cx=\"1741.16\" cy=\"1027.95\" r=\"14\" fill=\"#009af9\" fill-rule=\"evenodd\" fill-opacity=\"1\" stroke=\"#000000\" stroke-opacity=\"1\" stroke-width=\"3.2\"/>\n",
       "<circle clip-path=\"url(#clip962)\" cx=\"1743.26\" cy=\"923.508\" r=\"14\" fill=\"#009af9\" fill-rule=\"evenodd\" fill-opacity=\"1\" stroke=\"#000000\" stroke-opacity=\"1\" stroke-width=\"3.2\"/>\n",
       "<circle clip-path=\"url(#clip962)\" cx=\"1745.35\" cy=\"1341.27\" r=\"14\" fill=\"#009af9\" fill-rule=\"evenodd\" fill-opacity=\"1\" stroke=\"#000000\" stroke-opacity=\"1\" stroke-width=\"3.2\"/>\n",
       "<circle clip-path=\"url(#clip962)\" cx=\"1747.45\" cy=\"923.508\" r=\"14\" fill=\"#009af9\" fill-rule=\"evenodd\" fill-opacity=\"1\" stroke=\"#000000\" stroke-opacity=\"1\" stroke-width=\"3.2\"/>\n",
       "<circle clip-path=\"url(#clip962)\" cx=\"1749.54\" cy=\"1132.39\" r=\"14\" fill=\"#009af9\" fill-rule=\"evenodd\" fill-opacity=\"1\" stroke=\"#000000\" stroke-opacity=\"1\" stroke-width=\"3.2\"/>\n",
       "<circle clip-path=\"url(#clip962)\" cx=\"1751.64\" cy=\"923.508\" r=\"14\" fill=\"#009af9\" fill-rule=\"evenodd\" fill-opacity=\"1\" stroke=\"#000000\" stroke-opacity=\"1\" stroke-width=\"3.2\"/>\n",
       "<circle clip-path=\"url(#clip962)\" cx=\"1753.73\" cy=\"819.067\" r=\"14\" fill=\"#009af9\" fill-rule=\"evenodd\" fill-opacity=\"1\" stroke=\"#000000\" stroke-opacity=\"1\" stroke-width=\"3.2\"/>\n",
       "<circle clip-path=\"url(#clip962)\" cx=\"1755.83\" cy=\"819.067\" r=\"14\" fill=\"#009af9\" fill-rule=\"evenodd\" fill-opacity=\"1\" stroke=\"#000000\" stroke-opacity=\"1\" stroke-width=\"3.2\"/>\n",
       "<circle clip-path=\"url(#clip962)\" cx=\"1757.92\" cy=\"1027.95\" r=\"14\" fill=\"#009af9\" fill-rule=\"evenodd\" fill-opacity=\"1\" stroke=\"#000000\" stroke-opacity=\"1\" stroke-width=\"3.2\"/>\n",
       "<circle clip-path=\"url(#clip962)\" cx=\"1760.02\" cy=\"1236.83\" r=\"14\" fill=\"#009af9\" fill-rule=\"evenodd\" fill-opacity=\"1\" stroke=\"#000000\" stroke-opacity=\"1\" stroke-width=\"3.2\"/>\n",
       "<circle clip-path=\"url(#clip962)\" cx=\"1762.11\" cy=\"923.508\" r=\"14\" fill=\"#009af9\" fill-rule=\"evenodd\" fill-opacity=\"1\" stroke=\"#000000\" stroke-opacity=\"1\" stroke-width=\"3.2\"/>\n",
       "<circle clip-path=\"url(#clip962)\" cx=\"1764.21\" cy=\"923.508\" r=\"14\" fill=\"#009af9\" fill-rule=\"evenodd\" fill-opacity=\"1\" stroke=\"#000000\" stroke-opacity=\"1\" stroke-width=\"3.2\"/>\n",
       "<circle clip-path=\"url(#clip962)\" cx=\"1766.3\" cy=\"819.067\" r=\"14\" fill=\"#009af9\" fill-rule=\"evenodd\" fill-opacity=\"1\" stroke=\"#000000\" stroke-opacity=\"1\" stroke-width=\"3.2\"/>\n",
       "<circle clip-path=\"url(#clip962)\" cx=\"1768.39\" cy=\"1132.39\" r=\"14\" fill=\"#009af9\" fill-rule=\"evenodd\" fill-opacity=\"1\" stroke=\"#000000\" stroke-opacity=\"1\" stroke-width=\"3.2\"/>\n",
       "<circle clip-path=\"url(#clip962)\" cx=\"1770.49\" cy=\"1236.83\" r=\"14\" fill=\"#009af9\" fill-rule=\"evenodd\" fill-opacity=\"1\" stroke=\"#000000\" stroke-opacity=\"1\" stroke-width=\"3.2\"/>\n",
       "<circle clip-path=\"url(#clip962)\" cx=\"1772.58\" cy=\"714.625\" r=\"14\" fill=\"#009af9\" fill-rule=\"evenodd\" fill-opacity=\"1\" stroke=\"#000000\" stroke-opacity=\"1\" stroke-width=\"3.2\"/>\n",
       "<circle clip-path=\"url(#clip962)\" cx=\"1774.68\" cy=\"923.508\" r=\"14\" fill=\"#009af9\" fill-rule=\"evenodd\" fill-opacity=\"1\" stroke=\"#000000\" stroke-opacity=\"1\" stroke-width=\"3.2\"/>\n",
       "<circle clip-path=\"url(#clip962)\" cx=\"1776.77\" cy=\"1027.95\" r=\"14\" fill=\"#009af9\" fill-rule=\"evenodd\" fill-opacity=\"1\" stroke=\"#000000\" stroke-opacity=\"1\" stroke-width=\"3.2\"/>\n",
       "<circle clip-path=\"url(#clip962)\" cx=\"1778.87\" cy=\"1027.95\" r=\"14\" fill=\"#009af9\" fill-rule=\"evenodd\" fill-opacity=\"1\" stroke=\"#000000\" stroke-opacity=\"1\" stroke-width=\"3.2\"/>\n",
       "<circle clip-path=\"url(#clip962)\" cx=\"1780.96\" cy=\"819.067\" r=\"14\" fill=\"#009af9\" fill-rule=\"evenodd\" fill-opacity=\"1\" stroke=\"#000000\" stroke-opacity=\"1\" stroke-width=\"3.2\"/>\n",
       "<circle clip-path=\"url(#clip962)\" cx=\"1783.06\" cy=\"1027.95\" r=\"14\" fill=\"#009af9\" fill-rule=\"evenodd\" fill-opacity=\"1\" stroke=\"#000000\" stroke-opacity=\"1\" stroke-width=\"3.2\"/>\n",
       "<circle clip-path=\"url(#clip962)\" cx=\"1785.15\" cy=\"1027.95\" r=\"14\" fill=\"#009af9\" fill-rule=\"evenodd\" fill-opacity=\"1\" stroke=\"#000000\" stroke-opacity=\"1\" stroke-width=\"3.2\"/>\n",
       "<circle clip-path=\"url(#clip962)\" cx=\"1787.25\" cy=\"1027.95\" r=\"14\" fill=\"#009af9\" fill-rule=\"evenodd\" fill-opacity=\"1\" stroke=\"#000000\" stroke-opacity=\"1\" stroke-width=\"3.2\"/>\n",
       "<circle clip-path=\"url(#clip962)\" cx=\"1789.34\" cy=\"923.508\" r=\"14\" fill=\"#009af9\" fill-rule=\"evenodd\" fill-opacity=\"1\" stroke=\"#000000\" stroke-opacity=\"1\" stroke-width=\"3.2\"/>\n",
       "<circle clip-path=\"url(#clip962)\" cx=\"1791.44\" cy=\"819.067\" r=\"14\" fill=\"#009af9\" fill-rule=\"evenodd\" fill-opacity=\"1\" stroke=\"#000000\" stroke-opacity=\"1\" stroke-width=\"3.2\"/>\n",
       "<circle clip-path=\"url(#clip962)\" cx=\"1793.53\" cy=\"1027.95\" r=\"14\" fill=\"#009af9\" fill-rule=\"evenodd\" fill-opacity=\"1\" stroke=\"#000000\" stroke-opacity=\"1\" stroke-width=\"3.2\"/>\n",
       "<circle clip-path=\"url(#clip962)\" cx=\"1795.63\" cy=\"714.625\" r=\"14\" fill=\"#009af9\" fill-rule=\"evenodd\" fill-opacity=\"1\" stroke=\"#000000\" stroke-opacity=\"1\" stroke-width=\"3.2\"/>\n",
       "<circle clip-path=\"url(#clip962)\" cx=\"1797.72\" cy=\"714.625\" r=\"14\" fill=\"#009af9\" fill-rule=\"evenodd\" fill-opacity=\"1\" stroke=\"#000000\" stroke-opacity=\"1\" stroke-width=\"3.2\"/>\n",
       "<circle clip-path=\"url(#clip962)\" cx=\"1799.82\" cy=\"923.508\" r=\"14\" fill=\"#009af9\" fill-rule=\"evenodd\" fill-opacity=\"1\" stroke=\"#000000\" stroke-opacity=\"1\" stroke-width=\"3.2\"/>\n",
       "<circle clip-path=\"url(#clip962)\" cx=\"1801.91\" cy=\"819.067\" r=\"14\" fill=\"#009af9\" fill-rule=\"evenodd\" fill-opacity=\"1\" stroke=\"#000000\" stroke-opacity=\"1\" stroke-width=\"3.2\"/>\n",
       "<circle clip-path=\"url(#clip962)\" cx=\"1804\" cy=\"610.184\" r=\"14\" fill=\"#009af9\" fill-rule=\"evenodd\" fill-opacity=\"1\" stroke=\"#000000\" stroke-opacity=\"1\" stroke-width=\"3.2\"/>\n",
       "<circle clip-path=\"url(#clip962)\" cx=\"1806.1\" cy=\"1132.39\" r=\"14\" fill=\"#009af9\" fill-rule=\"evenodd\" fill-opacity=\"1\" stroke=\"#000000\" stroke-opacity=\"1\" stroke-width=\"3.2\"/>\n",
       "<circle clip-path=\"url(#clip962)\" cx=\"1808.19\" cy=\"714.625\" r=\"14\" fill=\"#009af9\" fill-rule=\"evenodd\" fill-opacity=\"1\" stroke=\"#000000\" stroke-opacity=\"1\" stroke-width=\"3.2\"/>\n",
       "<circle clip-path=\"url(#clip962)\" cx=\"1810.29\" cy=\"819.067\" r=\"14\" fill=\"#009af9\" fill-rule=\"evenodd\" fill-opacity=\"1\" stroke=\"#000000\" stroke-opacity=\"1\" stroke-width=\"3.2\"/>\n",
       "<circle clip-path=\"url(#clip962)\" cx=\"1812.38\" cy=\"610.184\" r=\"14\" fill=\"#009af9\" fill-rule=\"evenodd\" fill-opacity=\"1\" stroke=\"#000000\" stroke-opacity=\"1\" stroke-width=\"3.2\"/>\n",
       "<circle clip-path=\"url(#clip962)\" cx=\"1814.48\" cy=\"505.742\" r=\"14\" fill=\"#009af9\" fill-rule=\"evenodd\" fill-opacity=\"1\" stroke=\"#000000\" stroke-opacity=\"1\" stroke-width=\"3.2\"/>\n",
       "<circle clip-path=\"url(#clip962)\" cx=\"1816.57\" cy=\"505.742\" r=\"14\" fill=\"#009af9\" fill-rule=\"evenodd\" fill-opacity=\"1\" stroke=\"#000000\" stroke-opacity=\"1\" stroke-width=\"3.2\"/>\n",
       "<circle clip-path=\"url(#clip962)\" cx=\"1818.67\" cy=\"819.067\" r=\"14\" fill=\"#009af9\" fill-rule=\"evenodd\" fill-opacity=\"1\" stroke=\"#000000\" stroke-opacity=\"1\" stroke-width=\"3.2\"/>\n",
       "<circle clip-path=\"url(#clip962)\" cx=\"1820.76\" cy=\"1236.83\" r=\"14\" fill=\"#009af9\" fill-rule=\"evenodd\" fill-opacity=\"1\" stroke=\"#000000\" stroke-opacity=\"1\" stroke-width=\"3.2\"/>\n",
       "<circle clip-path=\"url(#clip962)\" cx=\"1822.86\" cy=\"819.067\" r=\"14\" fill=\"#009af9\" fill-rule=\"evenodd\" fill-opacity=\"1\" stroke=\"#000000\" stroke-opacity=\"1\" stroke-width=\"3.2\"/>\n",
       "<circle clip-path=\"url(#clip962)\" cx=\"1824.95\" cy=\"1027.95\" r=\"14\" fill=\"#009af9\" fill-rule=\"evenodd\" fill-opacity=\"1\" stroke=\"#000000\" stroke-opacity=\"1\" stroke-width=\"3.2\"/>\n",
       "<circle clip-path=\"url(#clip962)\" cx=\"1827.05\" cy=\"610.184\" r=\"14\" fill=\"#009af9\" fill-rule=\"evenodd\" fill-opacity=\"1\" stroke=\"#000000\" stroke-opacity=\"1\" stroke-width=\"3.2\"/>\n",
       "<circle clip-path=\"url(#clip962)\" cx=\"1829.14\" cy=\"1236.83\" r=\"14\" fill=\"#009af9\" fill-rule=\"evenodd\" fill-opacity=\"1\" stroke=\"#000000\" stroke-opacity=\"1\" stroke-width=\"3.2\"/>\n",
       "<circle clip-path=\"url(#clip962)\" cx=\"1831.24\" cy=\"923.508\" r=\"14\" fill=\"#009af9\" fill-rule=\"evenodd\" fill-opacity=\"1\" stroke=\"#000000\" stroke-opacity=\"1\" stroke-width=\"3.2\"/>\n",
       "<circle clip-path=\"url(#clip962)\" cx=\"1833.33\" cy=\"1132.39\" r=\"14\" fill=\"#009af9\" fill-rule=\"evenodd\" fill-opacity=\"1\" stroke=\"#000000\" stroke-opacity=\"1\" stroke-width=\"3.2\"/>\n",
       "<circle clip-path=\"url(#clip962)\" cx=\"1835.43\" cy=\"1027.95\" r=\"14\" fill=\"#009af9\" fill-rule=\"evenodd\" fill-opacity=\"1\" stroke=\"#000000\" stroke-opacity=\"1\" stroke-width=\"3.2\"/>\n",
       "<circle clip-path=\"url(#clip962)\" cx=\"1837.52\" cy=\"1236.83\" r=\"14\" fill=\"#009af9\" fill-rule=\"evenodd\" fill-opacity=\"1\" stroke=\"#000000\" stroke-opacity=\"1\" stroke-width=\"3.2\"/>\n",
       "<circle clip-path=\"url(#clip962)\" cx=\"1839.61\" cy=\"923.508\" r=\"14\" fill=\"#009af9\" fill-rule=\"evenodd\" fill-opacity=\"1\" stroke=\"#000000\" stroke-opacity=\"1\" stroke-width=\"3.2\"/>\n",
       "<circle clip-path=\"url(#clip962)\" cx=\"1841.71\" cy=\"1236.83\" r=\"14\" fill=\"#009af9\" fill-rule=\"evenodd\" fill-opacity=\"1\" stroke=\"#000000\" stroke-opacity=\"1\" stroke-width=\"3.2\"/>\n",
       "<circle clip-path=\"url(#clip962)\" cx=\"1843.8\" cy=\"1027.95\" r=\"14\" fill=\"#009af9\" fill-rule=\"evenodd\" fill-opacity=\"1\" stroke=\"#000000\" stroke-opacity=\"1\" stroke-width=\"3.2\"/>\n",
       "<circle clip-path=\"url(#clip962)\" cx=\"1845.9\" cy=\"819.067\" r=\"14\" fill=\"#009af9\" fill-rule=\"evenodd\" fill-opacity=\"1\" stroke=\"#000000\" stroke-opacity=\"1\" stroke-width=\"3.2\"/>\n",
       "<circle clip-path=\"url(#clip962)\" cx=\"1847.99\" cy=\"923.508\" r=\"14\" fill=\"#009af9\" fill-rule=\"evenodd\" fill-opacity=\"1\" stroke=\"#000000\" stroke-opacity=\"1\" stroke-width=\"3.2\"/>\n",
       "<circle clip-path=\"url(#clip962)\" cx=\"1850.09\" cy=\"610.184\" r=\"14\" fill=\"#009af9\" fill-rule=\"evenodd\" fill-opacity=\"1\" stroke=\"#000000\" stroke-opacity=\"1\" stroke-width=\"3.2\"/>\n",
       "<circle clip-path=\"url(#clip962)\" cx=\"1852.18\" cy=\"1027.95\" r=\"14\" fill=\"#009af9\" fill-rule=\"evenodd\" fill-opacity=\"1\" stroke=\"#000000\" stroke-opacity=\"1\" stroke-width=\"3.2\"/>\n",
       "<circle clip-path=\"url(#clip962)\" cx=\"1854.28\" cy=\"819.067\" r=\"14\" fill=\"#009af9\" fill-rule=\"evenodd\" fill-opacity=\"1\" stroke=\"#000000\" stroke-opacity=\"1\" stroke-width=\"3.2\"/>\n",
       "<circle clip-path=\"url(#clip962)\" cx=\"1856.37\" cy=\"714.625\" r=\"14\" fill=\"#009af9\" fill-rule=\"evenodd\" fill-opacity=\"1\" stroke=\"#000000\" stroke-opacity=\"1\" stroke-width=\"3.2\"/>\n",
       "<circle clip-path=\"url(#clip962)\" cx=\"1858.47\" cy=\"714.625\" r=\"14\" fill=\"#009af9\" fill-rule=\"evenodd\" fill-opacity=\"1\" stroke=\"#000000\" stroke-opacity=\"1\" stroke-width=\"3.2\"/>\n",
       "<circle clip-path=\"url(#clip962)\" cx=\"1860.56\" cy=\"1027.95\" r=\"14\" fill=\"#009af9\" fill-rule=\"evenodd\" fill-opacity=\"1\" stroke=\"#000000\" stroke-opacity=\"1\" stroke-width=\"3.2\"/>\n",
       "<circle clip-path=\"url(#clip962)\" cx=\"1862.66\" cy=\"923.508\" r=\"14\" fill=\"#009af9\" fill-rule=\"evenodd\" fill-opacity=\"1\" stroke=\"#000000\" stroke-opacity=\"1\" stroke-width=\"3.2\"/>\n",
       "<circle clip-path=\"url(#clip962)\" cx=\"1864.75\" cy=\"610.184\" r=\"14\" fill=\"#009af9\" fill-rule=\"evenodd\" fill-opacity=\"1\" stroke=\"#000000\" stroke-opacity=\"1\" stroke-width=\"3.2\"/>\n",
       "<circle clip-path=\"url(#clip962)\" cx=\"1866.85\" cy=\"1027.95\" r=\"14\" fill=\"#009af9\" fill-rule=\"evenodd\" fill-opacity=\"1\" stroke=\"#000000\" stroke-opacity=\"1\" stroke-width=\"3.2\"/>\n",
       "<circle clip-path=\"url(#clip962)\" cx=\"1868.94\" cy=\"505.742\" r=\"14\" fill=\"#009af9\" fill-rule=\"evenodd\" fill-opacity=\"1\" stroke=\"#000000\" stroke-opacity=\"1\" stroke-width=\"3.2\"/>\n",
       "<circle clip-path=\"url(#clip962)\" cx=\"1871.04\" cy=\"923.508\" r=\"14\" fill=\"#009af9\" fill-rule=\"evenodd\" fill-opacity=\"1\" stroke=\"#000000\" stroke-opacity=\"1\" stroke-width=\"3.2\"/>\n",
       "<circle clip-path=\"url(#clip962)\" cx=\"1873.13\" cy=\"714.625\" r=\"14\" fill=\"#009af9\" fill-rule=\"evenodd\" fill-opacity=\"1\" stroke=\"#000000\" stroke-opacity=\"1\" stroke-width=\"3.2\"/>\n",
       "<circle clip-path=\"url(#clip962)\" cx=\"1875.23\" cy=\"819.067\" r=\"14\" fill=\"#009af9\" fill-rule=\"evenodd\" fill-opacity=\"1\" stroke=\"#000000\" stroke-opacity=\"1\" stroke-width=\"3.2\"/>\n",
       "<circle clip-path=\"url(#clip962)\" cx=\"1877.32\" cy=\"1027.95\" r=\"14\" fill=\"#009af9\" fill-rule=\"evenodd\" fill-opacity=\"1\" stroke=\"#000000\" stroke-opacity=\"1\" stroke-width=\"3.2\"/>\n",
       "<circle clip-path=\"url(#clip962)\" cx=\"1879.41\" cy=\"819.067\" r=\"14\" fill=\"#009af9\" fill-rule=\"evenodd\" fill-opacity=\"1\" stroke=\"#000000\" stroke-opacity=\"1\" stroke-width=\"3.2\"/>\n",
       "<circle clip-path=\"url(#clip962)\" cx=\"1881.51\" cy=\"923.508\" r=\"14\" fill=\"#009af9\" fill-rule=\"evenodd\" fill-opacity=\"1\" stroke=\"#000000\" stroke-opacity=\"1\" stroke-width=\"3.2\"/>\n",
       "<circle clip-path=\"url(#clip962)\" cx=\"1883.6\" cy=\"819.067\" r=\"14\" fill=\"#009af9\" fill-rule=\"evenodd\" fill-opacity=\"1\" stroke=\"#000000\" stroke-opacity=\"1\" stroke-width=\"3.2\"/>\n",
       "<circle clip-path=\"url(#clip962)\" cx=\"1885.7\" cy=\"1132.39\" r=\"14\" fill=\"#009af9\" fill-rule=\"evenodd\" fill-opacity=\"1\" stroke=\"#000000\" stroke-opacity=\"1\" stroke-width=\"3.2\"/>\n",
       "<circle clip-path=\"url(#clip962)\" cx=\"1887.79\" cy=\"923.508\" r=\"14\" fill=\"#009af9\" fill-rule=\"evenodd\" fill-opacity=\"1\" stroke=\"#000000\" stroke-opacity=\"1\" stroke-width=\"3.2\"/>\n",
       "<circle clip-path=\"url(#clip962)\" cx=\"1889.89\" cy=\"1027.95\" r=\"14\" fill=\"#009af9\" fill-rule=\"evenodd\" fill-opacity=\"1\" stroke=\"#000000\" stroke-opacity=\"1\" stroke-width=\"3.2\"/>\n",
       "<circle clip-path=\"url(#clip962)\" cx=\"1891.98\" cy=\"192.418\" r=\"14\" fill=\"#009af9\" fill-rule=\"evenodd\" fill-opacity=\"1\" stroke=\"#000000\" stroke-opacity=\"1\" stroke-width=\"3.2\"/>\n",
       "<circle clip-path=\"url(#clip962)\" cx=\"1894.08\" cy=\"714.625\" r=\"14\" fill=\"#009af9\" fill-rule=\"evenodd\" fill-opacity=\"1\" stroke=\"#000000\" stroke-opacity=\"1\" stroke-width=\"3.2\"/>\n",
       "<circle clip-path=\"url(#clip962)\" cx=\"1896.17\" cy=\"923.508\" r=\"14\" fill=\"#009af9\" fill-rule=\"evenodd\" fill-opacity=\"1\" stroke=\"#000000\" stroke-opacity=\"1\" stroke-width=\"3.2\"/>\n",
       "<circle clip-path=\"url(#clip962)\" cx=\"1898.27\" cy=\"1236.83\" r=\"14\" fill=\"#009af9\" fill-rule=\"evenodd\" fill-opacity=\"1\" stroke=\"#000000\" stroke-opacity=\"1\" stroke-width=\"3.2\"/>\n",
       "<circle clip-path=\"url(#clip962)\" cx=\"1900.36\" cy=\"923.508\" r=\"14\" fill=\"#009af9\" fill-rule=\"evenodd\" fill-opacity=\"1\" stroke=\"#000000\" stroke-opacity=\"1\" stroke-width=\"3.2\"/>\n",
       "<circle clip-path=\"url(#clip962)\" cx=\"1902.46\" cy=\"819.067\" r=\"14\" fill=\"#009af9\" fill-rule=\"evenodd\" fill-opacity=\"1\" stroke=\"#000000\" stroke-opacity=\"1\" stroke-width=\"3.2\"/>\n",
       "<circle clip-path=\"url(#clip962)\" cx=\"1904.55\" cy=\"923.508\" r=\"14\" fill=\"#009af9\" fill-rule=\"evenodd\" fill-opacity=\"1\" stroke=\"#000000\" stroke-opacity=\"1\" stroke-width=\"3.2\"/>\n",
       "<circle clip-path=\"url(#clip962)\" cx=\"1906.65\" cy=\"714.625\" r=\"14\" fill=\"#009af9\" fill-rule=\"evenodd\" fill-opacity=\"1\" stroke=\"#000000\" stroke-opacity=\"1\" stroke-width=\"3.2\"/>\n",
       "<circle clip-path=\"url(#clip962)\" cx=\"1908.74\" cy=\"923.508\" r=\"14\" fill=\"#009af9\" fill-rule=\"evenodd\" fill-opacity=\"1\" stroke=\"#000000\" stroke-opacity=\"1\" stroke-width=\"3.2\"/>\n",
       "<circle clip-path=\"url(#clip962)\" cx=\"1910.84\" cy=\"1027.95\" r=\"14\" fill=\"#009af9\" fill-rule=\"evenodd\" fill-opacity=\"1\" stroke=\"#000000\" stroke-opacity=\"1\" stroke-width=\"3.2\"/>\n",
       "<circle clip-path=\"url(#clip962)\" cx=\"1912.93\" cy=\"1236.83\" r=\"14\" fill=\"#009af9\" fill-rule=\"evenodd\" fill-opacity=\"1\" stroke=\"#000000\" stroke-opacity=\"1\" stroke-width=\"3.2\"/>\n",
       "<circle clip-path=\"url(#clip962)\" cx=\"1915.02\" cy=\"923.508\" r=\"14\" fill=\"#009af9\" fill-rule=\"evenodd\" fill-opacity=\"1\" stroke=\"#000000\" stroke-opacity=\"1\" stroke-width=\"3.2\"/>\n",
       "<circle clip-path=\"url(#clip962)\" cx=\"1917.12\" cy=\"819.067\" r=\"14\" fill=\"#009af9\" fill-rule=\"evenodd\" fill-opacity=\"1\" stroke=\"#000000\" stroke-opacity=\"1\" stroke-width=\"3.2\"/>\n",
       "<circle clip-path=\"url(#clip962)\" cx=\"1919.21\" cy=\"714.625\" r=\"14\" fill=\"#009af9\" fill-rule=\"evenodd\" fill-opacity=\"1\" stroke=\"#000000\" stroke-opacity=\"1\" stroke-width=\"3.2\"/>\n",
       "<circle clip-path=\"url(#clip962)\" cx=\"1921.31\" cy=\"1341.27\" r=\"14\" fill=\"#009af9\" fill-rule=\"evenodd\" fill-opacity=\"1\" stroke=\"#000000\" stroke-opacity=\"1\" stroke-width=\"3.2\"/>\n",
       "<circle clip-path=\"url(#clip962)\" cx=\"1923.4\" cy=\"1132.39\" r=\"14\" fill=\"#009af9\" fill-rule=\"evenodd\" fill-opacity=\"1\" stroke=\"#000000\" stroke-opacity=\"1\" stroke-width=\"3.2\"/>\n",
       "<circle clip-path=\"url(#clip962)\" cx=\"1925.5\" cy=\"1027.95\" r=\"14\" fill=\"#009af9\" fill-rule=\"evenodd\" fill-opacity=\"1\" stroke=\"#000000\" stroke-opacity=\"1\" stroke-width=\"3.2\"/>\n",
       "<circle clip-path=\"url(#clip962)\" cx=\"1927.59\" cy=\"714.625\" r=\"14\" fill=\"#009af9\" fill-rule=\"evenodd\" fill-opacity=\"1\" stroke=\"#000000\" stroke-opacity=\"1\" stroke-width=\"3.2\"/>\n",
       "<circle clip-path=\"url(#clip962)\" cx=\"1929.69\" cy=\"1027.95\" r=\"14\" fill=\"#009af9\" fill-rule=\"evenodd\" fill-opacity=\"1\" stroke=\"#000000\" stroke-opacity=\"1\" stroke-width=\"3.2\"/>\n",
       "<circle clip-path=\"url(#clip962)\" cx=\"1931.78\" cy=\"1027.95\" r=\"14\" fill=\"#009af9\" fill-rule=\"evenodd\" fill-opacity=\"1\" stroke=\"#000000\" stroke-opacity=\"1\" stroke-width=\"3.2\"/>\n",
       "<circle clip-path=\"url(#clip962)\" cx=\"1933.88\" cy=\"1132.39\" r=\"14\" fill=\"#009af9\" fill-rule=\"evenodd\" fill-opacity=\"1\" stroke=\"#000000\" stroke-opacity=\"1\" stroke-width=\"3.2\"/>\n",
       "<circle clip-path=\"url(#clip962)\" cx=\"1935.97\" cy=\"819.067\" r=\"14\" fill=\"#009af9\" fill-rule=\"evenodd\" fill-opacity=\"1\" stroke=\"#000000\" stroke-opacity=\"1\" stroke-width=\"3.2\"/>\n",
       "<circle clip-path=\"url(#clip962)\" cx=\"1938.07\" cy=\"923.508\" r=\"14\" fill=\"#009af9\" fill-rule=\"evenodd\" fill-opacity=\"1\" stroke=\"#000000\" stroke-opacity=\"1\" stroke-width=\"3.2\"/>\n",
       "<circle clip-path=\"url(#clip962)\" cx=\"1940.16\" cy=\"1027.95\" r=\"14\" fill=\"#009af9\" fill-rule=\"evenodd\" fill-opacity=\"1\" stroke=\"#000000\" stroke-opacity=\"1\" stroke-width=\"3.2\"/>\n",
       "<circle clip-path=\"url(#clip962)\" cx=\"1942.26\" cy=\"714.625\" r=\"14\" fill=\"#009af9\" fill-rule=\"evenodd\" fill-opacity=\"1\" stroke=\"#000000\" stroke-opacity=\"1\" stroke-width=\"3.2\"/>\n",
       "<circle clip-path=\"url(#clip962)\" cx=\"1944.35\" cy=\"610.184\" r=\"14\" fill=\"#009af9\" fill-rule=\"evenodd\" fill-opacity=\"1\" stroke=\"#000000\" stroke-opacity=\"1\" stroke-width=\"3.2\"/>\n",
       "<circle clip-path=\"url(#clip962)\" cx=\"1946.45\" cy=\"923.508\" r=\"14\" fill=\"#009af9\" fill-rule=\"evenodd\" fill-opacity=\"1\" stroke=\"#000000\" stroke-opacity=\"1\" stroke-width=\"3.2\"/>\n",
       "<circle clip-path=\"url(#clip962)\" cx=\"1948.54\" cy=\"1236.83\" r=\"14\" fill=\"#009af9\" fill-rule=\"evenodd\" fill-opacity=\"1\" stroke=\"#000000\" stroke-opacity=\"1\" stroke-width=\"3.2\"/>\n",
       "<circle clip-path=\"url(#clip962)\" cx=\"1950.63\" cy=\"923.508\" r=\"14\" fill=\"#009af9\" fill-rule=\"evenodd\" fill-opacity=\"1\" stroke=\"#000000\" stroke-opacity=\"1\" stroke-width=\"3.2\"/>\n",
       "<circle clip-path=\"url(#clip962)\" cx=\"1952.73\" cy=\"1236.83\" r=\"14\" fill=\"#009af9\" fill-rule=\"evenodd\" fill-opacity=\"1\" stroke=\"#000000\" stroke-opacity=\"1\" stroke-width=\"3.2\"/>\n",
       "<circle clip-path=\"url(#clip962)\" cx=\"1954.82\" cy=\"1236.83\" r=\"14\" fill=\"#009af9\" fill-rule=\"evenodd\" fill-opacity=\"1\" stroke=\"#000000\" stroke-opacity=\"1\" stroke-width=\"3.2\"/>\n",
       "<circle clip-path=\"url(#clip962)\" cx=\"1956.92\" cy=\"923.508\" r=\"14\" fill=\"#009af9\" fill-rule=\"evenodd\" fill-opacity=\"1\" stroke=\"#000000\" stroke-opacity=\"1\" stroke-width=\"3.2\"/>\n",
       "<circle clip-path=\"url(#clip962)\" cx=\"1959.01\" cy=\"1027.95\" r=\"14\" fill=\"#009af9\" fill-rule=\"evenodd\" fill-opacity=\"1\" stroke=\"#000000\" stroke-opacity=\"1\" stroke-width=\"3.2\"/>\n",
       "<circle clip-path=\"url(#clip962)\" cx=\"1961.11\" cy=\"923.508\" r=\"14\" fill=\"#009af9\" fill-rule=\"evenodd\" fill-opacity=\"1\" stroke=\"#000000\" stroke-opacity=\"1\" stroke-width=\"3.2\"/>\n",
       "<circle clip-path=\"url(#clip962)\" cx=\"1963.2\" cy=\"1445.72\" r=\"14\" fill=\"#009af9\" fill-rule=\"evenodd\" fill-opacity=\"1\" stroke=\"#000000\" stroke-opacity=\"1\" stroke-width=\"3.2\"/>\n",
       "<circle clip-path=\"url(#clip962)\" cx=\"1965.3\" cy=\"1236.83\" r=\"14\" fill=\"#009af9\" fill-rule=\"evenodd\" fill-opacity=\"1\" stroke=\"#000000\" stroke-opacity=\"1\" stroke-width=\"3.2\"/>\n",
       "<circle clip-path=\"url(#clip962)\" cx=\"1967.39\" cy=\"923.508\" r=\"14\" fill=\"#009af9\" fill-rule=\"evenodd\" fill-opacity=\"1\" stroke=\"#000000\" stroke-opacity=\"1\" stroke-width=\"3.2\"/>\n",
       "<circle clip-path=\"url(#clip962)\" cx=\"1969.49\" cy=\"1132.39\" r=\"14\" fill=\"#009af9\" fill-rule=\"evenodd\" fill-opacity=\"1\" stroke=\"#000000\" stroke-opacity=\"1\" stroke-width=\"3.2\"/>\n",
       "<circle clip-path=\"url(#clip962)\" cx=\"1971.58\" cy=\"923.508\" r=\"14\" fill=\"#009af9\" fill-rule=\"evenodd\" fill-opacity=\"1\" stroke=\"#000000\" stroke-opacity=\"1\" stroke-width=\"3.2\"/>\n",
       "<circle clip-path=\"url(#clip962)\" cx=\"1973.68\" cy=\"819.067\" r=\"14\" fill=\"#009af9\" fill-rule=\"evenodd\" fill-opacity=\"1\" stroke=\"#000000\" stroke-opacity=\"1\" stroke-width=\"3.2\"/>\n",
       "<circle clip-path=\"url(#clip962)\" cx=\"1975.77\" cy=\"819.067\" r=\"14\" fill=\"#009af9\" fill-rule=\"evenodd\" fill-opacity=\"1\" stroke=\"#000000\" stroke-opacity=\"1\" stroke-width=\"3.2\"/>\n",
       "<circle clip-path=\"url(#clip962)\" cx=\"1977.87\" cy=\"1027.95\" r=\"14\" fill=\"#009af9\" fill-rule=\"evenodd\" fill-opacity=\"1\" stroke=\"#000000\" stroke-opacity=\"1\" stroke-width=\"3.2\"/>\n",
       "<circle clip-path=\"url(#clip962)\" cx=\"1979.96\" cy=\"610.184\" r=\"14\" fill=\"#009af9\" fill-rule=\"evenodd\" fill-opacity=\"1\" stroke=\"#000000\" stroke-opacity=\"1\" stroke-width=\"3.2\"/>\n",
       "<circle clip-path=\"url(#clip962)\" cx=\"1982.06\" cy=\"819.067\" r=\"14\" fill=\"#009af9\" fill-rule=\"evenodd\" fill-opacity=\"1\" stroke=\"#000000\" stroke-opacity=\"1\" stroke-width=\"3.2\"/>\n",
       "<circle clip-path=\"url(#clip962)\" cx=\"1984.15\" cy=\"1132.39\" r=\"14\" fill=\"#009af9\" fill-rule=\"evenodd\" fill-opacity=\"1\" stroke=\"#000000\" stroke-opacity=\"1\" stroke-width=\"3.2\"/>\n",
       "<circle clip-path=\"url(#clip962)\" cx=\"1986.24\" cy=\"819.067\" r=\"14\" fill=\"#009af9\" fill-rule=\"evenodd\" fill-opacity=\"1\" stroke=\"#000000\" stroke-opacity=\"1\" stroke-width=\"3.2\"/>\n",
       "<circle clip-path=\"url(#clip962)\" cx=\"1988.34\" cy=\"923.508\" r=\"14\" fill=\"#009af9\" fill-rule=\"evenodd\" fill-opacity=\"1\" stroke=\"#000000\" stroke-opacity=\"1\" stroke-width=\"3.2\"/>\n",
       "<circle clip-path=\"url(#clip962)\" cx=\"1990.43\" cy=\"819.067\" r=\"14\" fill=\"#009af9\" fill-rule=\"evenodd\" fill-opacity=\"1\" stroke=\"#000000\" stroke-opacity=\"1\" stroke-width=\"3.2\"/>\n",
       "<circle clip-path=\"url(#clip962)\" cx=\"1992.53\" cy=\"1236.83\" r=\"14\" fill=\"#009af9\" fill-rule=\"evenodd\" fill-opacity=\"1\" stroke=\"#000000\" stroke-opacity=\"1\" stroke-width=\"3.2\"/>\n",
       "<circle clip-path=\"url(#clip962)\" cx=\"1994.62\" cy=\"923.508\" r=\"14\" fill=\"#009af9\" fill-rule=\"evenodd\" fill-opacity=\"1\" stroke=\"#000000\" stroke-opacity=\"1\" stroke-width=\"3.2\"/>\n",
       "<circle clip-path=\"url(#clip962)\" cx=\"1996.72\" cy=\"610.184\" r=\"14\" fill=\"#009af9\" fill-rule=\"evenodd\" fill-opacity=\"1\" stroke=\"#000000\" stroke-opacity=\"1\" stroke-width=\"3.2\"/>\n",
       "<circle clip-path=\"url(#clip962)\" cx=\"1998.81\" cy=\"1132.39\" r=\"14\" fill=\"#009af9\" fill-rule=\"evenodd\" fill-opacity=\"1\" stroke=\"#000000\" stroke-opacity=\"1\" stroke-width=\"3.2\"/>\n",
       "<circle clip-path=\"url(#clip962)\" cx=\"2000.91\" cy=\"923.508\" r=\"14\" fill=\"#009af9\" fill-rule=\"evenodd\" fill-opacity=\"1\" stroke=\"#000000\" stroke-opacity=\"1\" stroke-width=\"3.2\"/>\n",
       "<circle clip-path=\"url(#clip962)\" cx=\"2003\" cy=\"1236.83\" r=\"14\" fill=\"#009af9\" fill-rule=\"evenodd\" fill-opacity=\"1\" stroke=\"#000000\" stroke-opacity=\"1\" stroke-width=\"3.2\"/>\n",
       "<circle clip-path=\"url(#clip962)\" cx=\"2005.1\" cy=\"923.508\" r=\"14\" fill=\"#009af9\" fill-rule=\"evenodd\" fill-opacity=\"1\" stroke=\"#000000\" stroke-opacity=\"1\" stroke-width=\"3.2\"/>\n",
       "<circle clip-path=\"url(#clip962)\" cx=\"2007.19\" cy=\"1236.83\" r=\"14\" fill=\"#009af9\" fill-rule=\"evenodd\" fill-opacity=\"1\" stroke=\"#000000\" stroke-opacity=\"1\" stroke-width=\"3.2\"/>\n",
       "<circle clip-path=\"url(#clip962)\" cx=\"2009.29\" cy=\"1027.95\" r=\"14\" fill=\"#009af9\" fill-rule=\"evenodd\" fill-opacity=\"1\" stroke=\"#000000\" stroke-opacity=\"1\" stroke-width=\"3.2\"/>\n",
       "<circle clip-path=\"url(#clip962)\" cx=\"2011.38\" cy=\"1027.95\" r=\"14\" fill=\"#009af9\" fill-rule=\"evenodd\" fill-opacity=\"1\" stroke=\"#000000\" stroke-opacity=\"1\" stroke-width=\"3.2\"/>\n",
       "<circle clip-path=\"url(#clip962)\" cx=\"2013.48\" cy=\"610.184\" r=\"14\" fill=\"#009af9\" fill-rule=\"evenodd\" fill-opacity=\"1\" stroke=\"#000000\" stroke-opacity=\"1\" stroke-width=\"3.2\"/>\n",
       "<circle clip-path=\"url(#clip962)\" cx=\"2015.57\" cy=\"819.067\" r=\"14\" fill=\"#009af9\" fill-rule=\"evenodd\" fill-opacity=\"1\" stroke=\"#000000\" stroke-opacity=\"1\" stroke-width=\"3.2\"/>\n",
       "<circle clip-path=\"url(#clip962)\" cx=\"2017.67\" cy=\"1236.83\" r=\"14\" fill=\"#009af9\" fill-rule=\"evenodd\" fill-opacity=\"1\" stroke=\"#000000\" stroke-opacity=\"1\" stroke-width=\"3.2\"/>\n",
       "<circle clip-path=\"url(#clip962)\" cx=\"2019.76\" cy=\"819.067\" r=\"14\" fill=\"#009af9\" fill-rule=\"evenodd\" fill-opacity=\"1\" stroke=\"#000000\" stroke-opacity=\"1\" stroke-width=\"3.2\"/>\n",
       "<circle clip-path=\"url(#clip962)\" cx=\"2021.85\" cy=\"819.067\" r=\"14\" fill=\"#009af9\" fill-rule=\"evenodd\" fill-opacity=\"1\" stroke=\"#000000\" stroke-opacity=\"1\" stroke-width=\"3.2\"/>\n",
       "<circle clip-path=\"url(#clip962)\" cx=\"2023.95\" cy=\"1027.95\" r=\"14\" fill=\"#009af9\" fill-rule=\"evenodd\" fill-opacity=\"1\" stroke=\"#000000\" stroke-opacity=\"1\" stroke-width=\"3.2\"/>\n",
       "<circle clip-path=\"url(#clip962)\" cx=\"2026.04\" cy=\"1445.72\" r=\"14\" fill=\"#009af9\" fill-rule=\"evenodd\" fill-opacity=\"1\" stroke=\"#000000\" stroke-opacity=\"1\" stroke-width=\"3.2\"/>\n",
       "<circle clip-path=\"url(#clip962)\" cx=\"2028.14\" cy=\"819.067\" r=\"14\" fill=\"#009af9\" fill-rule=\"evenodd\" fill-opacity=\"1\" stroke=\"#000000\" stroke-opacity=\"1\" stroke-width=\"3.2\"/>\n",
       "<circle clip-path=\"url(#clip962)\" cx=\"2030.23\" cy=\"1236.83\" r=\"14\" fill=\"#009af9\" fill-rule=\"evenodd\" fill-opacity=\"1\" stroke=\"#000000\" stroke-opacity=\"1\" stroke-width=\"3.2\"/>\n",
       "<circle clip-path=\"url(#clip962)\" cx=\"2032.33\" cy=\"923.508\" r=\"14\" fill=\"#009af9\" fill-rule=\"evenodd\" fill-opacity=\"1\" stroke=\"#000000\" stroke-opacity=\"1\" stroke-width=\"3.2\"/>\n",
       "<circle clip-path=\"url(#clip962)\" cx=\"2034.42\" cy=\"923.508\" r=\"14\" fill=\"#009af9\" fill-rule=\"evenodd\" fill-opacity=\"1\" stroke=\"#000000\" stroke-opacity=\"1\" stroke-width=\"3.2\"/>\n",
       "<circle clip-path=\"url(#clip962)\" cx=\"2036.52\" cy=\"819.067\" r=\"14\" fill=\"#009af9\" fill-rule=\"evenodd\" fill-opacity=\"1\" stroke=\"#000000\" stroke-opacity=\"1\" stroke-width=\"3.2\"/>\n",
       "<circle clip-path=\"url(#clip962)\" cx=\"2038.61\" cy=\"819.067\" r=\"14\" fill=\"#009af9\" fill-rule=\"evenodd\" fill-opacity=\"1\" stroke=\"#000000\" stroke-opacity=\"1\" stroke-width=\"3.2\"/>\n",
       "<circle clip-path=\"url(#clip962)\" cx=\"2040.71\" cy=\"819.067\" r=\"14\" fill=\"#009af9\" fill-rule=\"evenodd\" fill-opacity=\"1\" stroke=\"#000000\" stroke-opacity=\"1\" stroke-width=\"3.2\"/>\n",
       "<circle clip-path=\"url(#clip962)\" cx=\"2042.8\" cy=\"1027.95\" r=\"14\" fill=\"#009af9\" fill-rule=\"evenodd\" fill-opacity=\"1\" stroke=\"#000000\" stroke-opacity=\"1\" stroke-width=\"3.2\"/>\n",
       "<circle clip-path=\"url(#clip962)\" cx=\"2044.9\" cy=\"923.508\" r=\"14\" fill=\"#009af9\" fill-rule=\"evenodd\" fill-opacity=\"1\" stroke=\"#000000\" stroke-opacity=\"1\" stroke-width=\"3.2\"/>\n",
       "<circle clip-path=\"url(#clip962)\" cx=\"2046.99\" cy=\"1132.39\" r=\"14\" fill=\"#009af9\" fill-rule=\"evenodd\" fill-opacity=\"1\" stroke=\"#000000\" stroke-opacity=\"1\" stroke-width=\"3.2\"/>\n",
       "<circle clip-path=\"url(#clip962)\" cx=\"2049.09\" cy=\"1132.39\" r=\"14\" fill=\"#009af9\" fill-rule=\"evenodd\" fill-opacity=\"1\" stroke=\"#000000\" stroke-opacity=\"1\" stroke-width=\"3.2\"/>\n",
       "<circle clip-path=\"url(#clip962)\" cx=\"2051.18\" cy=\"819.067\" r=\"14\" fill=\"#009af9\" fill-rule=\"evenodd\" fill-opacity=\"1\" stroke=\"#000000\" stroke-opacity=\"1\" stroke-width=\"3.2\"/>\n",
       "<circle clip-path=\"url(#clip962)\" cx=\"2053.28\" cy=\"923.508\" r=\"14\" fill=\"#009af9\" fill-rule=\"evenodd\" fill-opacity=\"1\" stroke=\"#000000\" stroke-opacity=\"1\" stroke-width=\"3.2\"/>\n",
       "<circle clip-path=\"url(#clip962)\" cx=\"2055.37\" cy=\"1027.95\" r=\"14\" fill=\"#009af9\" fill-rule=\"evenodd\" fill-opacity=\"1\" stroke=\"#000000\" stroke-opacity=\"1\" stroke-width=\"3.2\"/>\n",
       "<circle clip-path=\"url(#clip962)\" cx=\"2057.46\" cy=\"923.508\" r=\"14\" fill=\"#009af9\" fill-rule=\"evenodd\" fill-opacity=\"1\" stroke=\"#000000\" stroke-opacity=\"1\" stroke-width=\"3.2\"/>\n",
       "<circle clip-path=\"url(#clip962)\" cx=\"2059.56\" cy=\"819.067\" r=\"14\" fill=\"#009af9\" fill-rule=\"evenodd\" fill-opacity=\"1\" stroke=\"#000000\" stroke-opacity=\"1\" stroke-width=\"3.2\"/>\n",
       "<circle clip-path=\"url(#clip962)\" cx=\"2061.65\" cy=\"923.508\" r=\"14\" fill=\"#009af9\" fill-rule=\"evenodd\" fill-opacity=\"1\" stroke=\"#000000\" stroke-opacity=\"1\" stroke-width=\"3.2\"/>\n",
       "<circle clip-path=\"url(#clip962)\" cx=\"2063.75\" cy=\"1132.39\" r=\"14\" fill=\"#009af9\" fill-rule=\"evenodd\" fill-opacity=\"1\" stroke=\"#000000\" stroke-opacity=\"1\" stroke-width=\"3.2\"/>\n",
       "<circle clip-path=\"url(#clip962)\" cx=\"2065.84\" cy=\"1236.83\" r=\"14\" fill=\"#009af9\" fill-rule=\"evenodd\" fill-opacity=\"1\" stroke=\"#000000\" stroke-opacity=\"1\" stroke-width=\"3.2\"/>\n",
       "<circle clip-path=\"url(#clip962)\" cx=\"2067.94\" cy=\"923.508\" r=\"14\" fill=\"#009af9\" fill-rule=\"evenodd\" fill-opacity=\"1\" stroke=\"#000000\" stroke-opacity=\"1\" stroke-width=\"3.2\"/>\n",
       "<circle clip-path=\"url(#clip962)\" cx=\"2070.03\" cy=\"714.625\" r=\"14\" fill=\"#009af9\" fill-rule=\"evenodd\" fill-opacity=\"1\" stroke=\"#000000\" stroke-opacity=\"1\" stroke-width=\"3.2\"/>\n",
       "<circle clip-path=\"url(#clip962)\" cx=\"2072.13\" cy=\"819.067\" r=\"14\" fill=\"#009af9\" fill-rule=\"evenodd\" fill-opacity=\"1\" stroke=\"#000000\" stroke-opacity=\"1\" stroke-width=\"3.2\"/>\n",
       "<circle clip-path=\"url(#clip962)\" cx=\"2074.22\" cy=\"610.184\" r=\"14\" fill=\"#009af9\" fill-rule=\"evenodd\" fill-opacity=\"1\" stroke=\"#000000\" stroke-opacity=\"1\" stroke-width=\"3.2\"/>\n",
       "<circle clip-path=\"url(#clip962)\" cx=\"2076.32\" cy=\"714.625\" r=\"14\" fill=\"#009af9\" fill-rule=\"evenodd\" fill-opacity=\"1\" stroke=\"#000000\" stroke-opacity=\"1\" stroke-width=\"3.2\"/>\n",
       "<circle clip-path=\"url(#clip962)\" cx=\"2078.41\" cy=\"819.067\" r=\"14\" fill=\"#009af9\" fill-rule=\"evenodd\" fill-opacity=\"1\" stroke=\"#000000\" stroke-opacity=\"1\" stroke-width=\"3.2\"/>\n",
       "<circle clip-path=\"url(#clip962)\" cx=\"2080.51\" cy=\"1132.39\" r=\"14\" fill=\"#009af9\" fill-rule=\"evenodd\" fill-opacity=\"1\" stroke=\"#000000\" stroke-opacity=\"1\" stroke-width=\"3.2\"/>\n",
       "<circle clip-path=\"url(#clip962)\" cx=\"2082.6\" cy=\"1132.39\" r=\"14\" fill=\"#009af9\" fill-rule=\"evenodd\" fill-opacity=\"1\" stroke=\"#000000\" stroke-opacity=\"1\" stroke-width=\"3.2\"/>\n",
       "<circle clip-path=\"url(#clip962)\" cx=\"2084.7\" cy=\"819.067\" r=\"14\" fill=\"#009af9\" fill-rule=\"evenodd\" fill-opacity=\"1\" stroke=\"#000000\" stroke-opacity=\"1\" stroke-width=\"3.2\"/>\n",
       "<circle clip-path=\"url(#clip962)\" cx=\"2086.79\" cy=\"1132.39\" r=\"14\" fill=\"#009af9\" fill-rule=\"evenodd\" fill-opacity=\"1\" stroke=\"#000000\" stroke-opacity=\"1\" stroke-width=\"3.2\"/>\n",
       "<circle clip-path=\"url(#clip962)\" cx=\"2088.89\" cy=\"1027.95\" r=\"14\" fill=\"#009af9\" fill-rule=\"evenodd\" fill-opacity=\"1\" stroke=\"#000000\" stroke-opacity=\"1\" stroke-width=\"3.2\"/>\n",
       "<circle clip-path=\"url(#clip962)\" cx=\"2090.98\" cy=\"819.067\" r=\"14\" fill=\"#009af9\" fill-rule=\"evenodd\" fill-opacity=\"1\" stroke=\"#000000\" stroke-opacity=\"1\" stroke-width=\"3.2\"/>\n",
       "<circle clip-path=\"url(#clip962)\" cx=\"2093.07\" cy=\"1027.95\" r=\"14\" fill=\"#009af9\" fill-rule=\"evenodd\" fill-opacity=\"1\" stroke=\"#000000\" stroke-opacity=\"1\" stroke-width=\"3.2\"/>\n",
       "<circle clip-path=\"url(#clip962)\" cx=\"2095.17\" cy=\"1027.95\" r=\"14\" fill=\"#009af9\" fill-rule=\"evenodd\" fill-opacity=\"1\" stroke=\"#000000\" stroke-opacity=\"1\" stroke-width=\"3.2\"/>\n",
       "<circle clip-path=\"url(#clip962)\" cx=\"2097.26\" cy=\"714.625\" r=\"14\" fill=\"#009af9\" fill-rule=\"evenodd\" fill-opacity=\"1\" stroke=\"#000000\" stroke-opacity=\"1\" stroke-width=\"3.2\"/>\n",
       "<circle clip-path=\"url(#clip962)\" cx=\"2099.36\" cy=\"1132.39\" r=\"14\" fill=\"#009af9\" fill-rule=\"evenodd\" fill-opacity=\"1\" stroke=\"#000000\" stroke-opacity=\"1\" stroke-width=\"3.2\"/>\n",
       "<circle clip-path=\"url(#clip962)\" cx=\"2101.45\" cy=\"1027.95\" r=\"14\" fill=\"#009af9\" fill-rule=\"evenodd\" fill-opacity=\"1\" stroke=\"#000000\" stroke-opacity=\"1\" stroke-width=\"3.2\"/>\n",
       "<circle clip-path=\"url(#clip962)\" cx=\"2103.55\" cy=\"1132.39\" r=\"14\" fill=\"#009af9\" fill-rule=\"evenodd\" fill-opacity=\"1\" stroke=\"#000000\" stroke-opacity=\"1\" stroke-width=\"3.2\"/>\n",
       "<circle clip-path=\"url(#clip962)\" cx=\"2105.64\" cy=\"1027.95\" r=\"14\" fill=\"#009af9\" fill-rule=\"evenodd\" fill-opacity=\"1\" stroke=\"#000000\" stroke-opacity=\"1\" stroke-width=\"3.2\"/>\n",
       "<circle clip-path=\"url(#clip962)\" cx=\"2107.74\" cy=\"923.508\" r=\"14\" fill=\"#009af9\" fill-rule=\"evenodd\" fill-opacity=\"1\" stroke=\"#000000\" stroke-opacity=\"1\" stroke-width=\"3.2\"/>\n",
       "<circle clip-path=\"url(#clip962)\" cx=\"2109.83\" cy=\"401.301\" r=\"14\" fill=\"#009af9\" fill-rule=\"evenodd\" fill-opacity=\"1\" stroke=\"#000000\" stroke-opacity=\"1\" stroke-width=\"3.2\"/>\n",
       "<circle clip-path=\"url(#clip962)\" cx=\"2111.93\" cy=\"819.067\" r=\"14\" fill=\"#009af9\" fill-rule=\"evenodd\" fill-opacity=\"1\" stroke=\"#000000\" stroke-opacity=\"1\" stroke-width=\"3.2\"/>\n",
       "<circle clip-path=\"url(#clip962)\" cx=\"2114.02\" cy=\"819.067\" r=\"14\" fill=\"#009af9\" fill-rule=\"evenodd\" fill-opacity=\"1\" stroke=\"#000000\" stroke-opacity=\"1\" stroke-width=\"3.2\"/>\n",
       "<circle clip-path=\"url(#clip962)\" cx=\"2116.12\" cy=\"923.508\" r=\"14\" fill=\"#009af9\" fill-rule=\"evenodd\" fill-opacity=\"1\" stroke=\"#000000\" stroke-opacity=\"1\" stroke-width=\"3.2\"/>\n",
       "<circle clip-path=\"url(#clip962)\" cx=\"2118.21\" cy=\"1132.39\" r=\"14\" fill=\"#009af9\" fill-rule=\"evenodd\" fill-opacity=\"1\" stroke=\"#000000\" stroke-opacity=\"1\" stroke-width=\"3.2\"/>\n",
       "<circle clip-path=\"url(#clip962)\" cx=\"2120.31\" cy=\"1027.95\" r=\"14\" fill=\"#009af9\" fill-rule=\"evenodd\" fill-opacity=\"1\" stroke=\"#000000\" stroke-opacity=\"1\" stroke-width=\"3.2\"/>\n",
       "<circle clip-path=\"url(#clip962)\" cx=\"2122.4\" cy=\"923.508\" r=\"14\" fill=\"#009af9\" fill-rule=\"evenodd\" fill-opacity=\"1\" stroke=\"#000000\" stroke-opacity=\"1\" stroke-width=\"3.2\"/>\n",
       "<circle clip-path=\"url(#clip962)\" cx=\"2124.5\" cy=\"610.184\" r=\"14\" fill=\"#009af9\" fill-rule=\"evenodd\" fill-opacity=\"1\" stroke=\"#000000\" stroke-opacity=\"1\" stroke-width=\"3.2\"/>\n",
       "<circle clip-path=\"url(#clip962)\" cx=\"2126.59\" cy=\"1027.95\" r=\"14\" fill=\"#009af9\" fill-rule=\"evenodd\" fill-opacity=\"1\" stroke=\"#000000\" stroke-opacity=\"1\" stroke-width=\"3.2\"/>\n",
       "<circle clip-path=\"url(#clip962)\" cx=\"2128.68\" cy=\"505.742\" r=\"14\" fill=\"#009af9\" fill-rule=\"evenodd\" fill-opacity=\"1\" stroke=\"#000000\" stroke-opacity=\"1\" stroke-width=\"3.2\"/>\n",
       "<circle clip-path=\"url(#clip962)\" cx=\"2130.78\" cy=\"923.508\" r=\"14\" fill=\"#009af9\" fill-rule=\"evenodd\" fill-opacity=\"1\" stroke=\"#000000\" stroke-opacity=\"1\" stroke-width=\"3.2\"/>\n",
       "<circle clip-path=\"url(#clip962)\" cx=\"2132.87\" cy=\"1027.95\" r=\"14\" fill=\"#009af9\" fill-rule=\"evenodd\" fill-opacity=\"1\" stroke=\"#000000\" stroke-opacity=\"1\" stroke-width=\"3.2\"/>\n",
       "<circle clip-path=\"url(#clip962)\" cx=\"2134.97\" cy=\"923.508\" r=\"14\" fill=\"#009af9\" fill-rule=\"evenodd\" fill-opacity=\"1\" stroke=\"#000000\" stroke-opacity=\"1\" stroke-width=\"3.2\"/>\n",
       "<circle clip-path=\"url(#clip962)\" cx=\"2137.06\" cy=\"923.508\" r=\"14\" fill=\"#009af9\" fill-rule=\"evenodd\" fill-opacity=\"1\" stroke=\"#000000\" stroke-opacity=\"1\" stroke-width=\"3.2\"/>\n",
       "<circle clip-path=\"url(#clip962)\" cx=\"2139.16\" cy=\"923.508\" r=\"14\" fill=\"#009af9\" fill-rule=\"evenodd\" fill-opacity=\"1\" stroke=\"#000000\" stroke-opacity=\"1\" stroke-width=\"3.2\"/>\n",
       "<circle clip-path=\"url(#clip962)\" cx=\"2141.25\" cy=\"714.625\" r=\"14\" fill=\"#009af9\" fill-rule=\"evenodd\" fill-opacity=\"1\" stroke=\"#000000\" stroke-opacity=\"1\" stroke-width=\"3.2\"/>\n",
       "<circle clip-path=\"url(#clip962)\" cx=\"2143.35\" cy=\"714.625\" r=\"14\" fill=\"#009af9\" fill-rule=\"evenodd\" fill-opacity=\"1\" stroke=\"#000000\" stroke-opacity=\"1\" stroke-width=\"3.2\"/>\n",
       "<circle clip-path=\"url(#clip962)\" cx=\"2145.44\" cy=\"1027.95\" r=\"14\" fill=\"#009af9\" fill-rule=\"evenodd\" fill-opacity=\"1\" stroke=\"#000000\" stroke-opacity=\"1\" stroke-width=\"3.2\"/>\n",
       "<circle clip-path=\"url(#clip962)\" cx=\"2147.54\" cy=\"296.859\" r=\"14\" fill=\"#009af9\" fill-rule=\"evenodd\" fill-opacity=\"1\" stroke=\"#000000\" stroke-opacity=\"1\" stroke-width=\"3.2\"/>\n",
       "<circle clip-path=\"url(#clip962)\" cx=\"2149.63\" cy=\"714.625\" r=\"14\" fill=\"#009af9\" fill-rule=\"evenodd\" fill-opacity=\"1\" stroke=\"#000000\" stroke-opacity=\"1\" stroke-width=\"3.2\"/>\n",
       "<circle clip-path=\"url(#clip962)\" cx=\"2151.73\" cy=\"1027.95\" r=\"14\" fill=\"#009af9\" fill-rule=\"evenodd\" fill-opacity=\"1\" stroke=\"#000000\" stroke-opacity=\"1\" stroke-width=\"3.2\"/>\n",
       "<circle clip-path=\"url(#clip962)\" cx=\"2153.82\" cy=\"1236.83\" r=\"14\" fill=\"#009af9\" fill-rule=\"evenodd\" fill-opacity=\"1\" stroke=\"#000000\" stroke-opacity=\"1\" stroke-width=\"3.2\"/>\n",
       "<circle clip-path=\"url(#clip962)\" cx=\"2155.92\" cy=\"1236.83\" r=\"14\" fill=\"#009af9\" fill-rule=\"evenodd\" fill-opacity=\"1\" stroke=\"#000000\" stroke-opacity=\"1\" stroke-width=\"3.2\"/>\n",
       "<circle clip-path=\"url(#clip962)\" cx=\"2158.01\" cy=\"923.508\" r=\"14\" fill=\"#009af9\" fill-rule=\"evenodd\" fill-opacity=\"1\" stroke=\"#000000\" stroke-opacity=\"1\" stroke-width=\"3.2\"/>\n",
       "<circle clip-path=\"url(#clip962)\" cx=\"2160.11\" cy=\"1132.39\" r=\"14\" fill=\"#009af9\" fill-rule=\"evenodd\" fill-opacity=\"1\" stroke=\"#000000\" stroke-opacity=\"1\" stroke-width=\"3.2\"/>\n",
       "<circle clip-path=\"url(#clip962)\" cx=\"2162.2\" cy=\"1132.39\" r=\"14\" fill=\"#009af9\" fill-rule=\"evenodd\" fill-opacity=\"1\" stroke=\"#000000\" stroke-opacity=\"1\" stroke-width=\"3.2\"/>\n",
       "<circle clip-path=\"url(#clip962)\" cx=\"2164.29\" cy=\"923.508\" r=\"14\" fill=\"#009af9\" fill-rule=\"evenodd\" fill-opacity=\"1\" stroke=\"#000000\" stroke-opacity=\"1\" stroke-width=\"3.2\"/>\n",
       "<circle clip-path=\"url(#clip962)\" cx=\"2166.39\" cy=\"714.625\" r=\"14\" fill=\"#009af9\" fill-rule=\"evenodd\" fill-opacity=\"1\" stroke=\"#000000\" stroke-opacity=\"1\" stroke-width=\"3.2\"/>\n",
       "<circle clip-path=\"url(#clip962)\" cx=\"2168.48\" cy=\"1236.83\" r=\"14\" fill=\"#009af9\" fill-rule=\"evenodd\" fill-opacity=\"1\" stroke=\"#000000\" stroke-opacity=\"1\" stroke-width=\"3.2\"/>\n",
       "<circle clip-path=\"url(#clip962)\" cx=\"2170.58\" cy=\"819.067\" r=\"14\" fill=\"#009af9\" fill-rule=\"evenodd\" fill-opacity=\"1\" stroke=\"#000000\" stroke-opacity=\"1\" stroke-width=\"3.2\"/>\n",
       "<circle clip-path=\"url(#clip962)\" cx=\"2172.67\" cy=\"819.067\" r=\"14\" fill=\"#009af9\" fill-rule=\"evenodd\" fill-opacity=\"1\" stroke=\"#000000\" stroke-opacity=\"1\" stroke-width=\"3.2\"/>\n",
       "<circle clip-path=\"url(#clip962)\" cx=\"2174.77\" cy=\"923.508\" r=\"14\" fill=\"#009af9\" fill-rule=\"evenodd\" fill-opacity=\"1\" stroke=\"#000000\" stroke-opacity=\"1\" stroke-width=\"3.2\"/>\n",
       "<circle clip-path=\"url(#clip962)\" cx=\"2176.86\" cy=\"1236.83\" r=\"14\" fill=\"#009af9\" fill-rule=\"evenodd\" fill-opacity=\"1\" stroke=\"#000000\" stroke-opacity=\"1\" stroke-width=\"3.2\"/>\n",
       "<circle clip-path=\"url(#clip962)\" cx=\"2178.96\" cy=\"1236.83\" r=\"14\" fill=\"#009af9\" fill-rule=\"evenodd\" fill-opacity=\"1\" stroke=\"#000000\" stroke-opacity=\"1\" stroke-width=\"3.2\"/>\n",
       "<circle clip-path=\"url(#clip962)\" cx=\"2181.05\" cy=\"1236.83\" r=\"14\" fill=\"#009af9\" fill-rule=\"evenodd\" fill-opacity=\"1\" stroke=\"#000000\" stroke-opacity=\"1\" stroke-width=\"3.2\"/>\n",
       "<circle clip-path=\"url(#clip962)\" cx=\"2183.15\" cy=\"714.625\" r=\"14\" fill=\"#009af9\" fill-rule=\"evenodd\" fill-opacity=\"1\" stroke=\"#000000\" stroke-opacity=\"1\" stroke-width=\"3.2\"/>\n",
       "<circle clip-path=\"url(#clip962)\" cx=\"2185.24\" cy=\"923.508\" r=\"14\" fill=\"#009af9\" fill-rule=\"evenodd\" fill-opacity=\"1\" stroke=\"#000000\" stroke-opacity=\"1\" stroke-width=\"3.2\"/>\n",
       "<circle clip-path=\"url(#clip962)\" cx=\"2187.34\" cy=\"1132.39\" r=\"14\" fill=\"#009af9\" fill-rule=\"evenodd\" fill-opacity=\"1\" stroke=\"#000000\" stroke-opacity=\"1\" stroke-width=\"3.2\"/>\n",
       "<circle clip-path=\"url(#clip962)\" cx=\"2189.43\" cy=\"1027.95\" r=\"14\" fill=\"#009af9\" fill-rule=\"evenodd\" fill-opacity=\"1\" stroke=\"#000000\" stroke-opacity=\"1\" stroke-width=\"3.2\"/>\n",
       "<circle clip-path=\"url(#clip962)\" cx=\"2191.53\" cy=\"1236.83\" r=\"14\" fill=\"#009af9\" fill-rule=\"evenodd\" fill-opacity=\"1\" stroke=\"#000000\" stroke-opacity=\"1\" stroke-width=\"3.2\"/>\n",
       "<circle clip-path=\"url(#clip962)\" cx=\"2193.62\" cy=\"923.508\" r=\"14\" fill=\"#009af9\" fill-rule=\"evenodd\" fill-opacity=\"1\" stroke=\"#000000\" stroke-opacity=\"1\" stroke-width=\"3.2\"/>\n",
       "<circle clip-path=\"url(#clip962)\" cx=\"2195.72\" cy=\"819.067\" r=\"14\" fill=\"#009af9\" fill-rule=\"evenodd\" fill-opacity=\"1\" stroke=\"#000000\" stroke-opacity=\"1\" stroke-width=\"3.2\"/>\n",
       "<circle clip-path=\"url(#clip962)\" cx=\"2197.81\" cy=\"714.625\" r=\"14\" fill=\"#009af9\" fill-rule=\"evenodd\" fill-opacity=\"1\" stroke=\"#000000\" stroke-opacity=\"1\" stroke-width=\"3.2\"/>\n",
       "<circle clip-path=\"url(#clip962)\" cx=\"2199.9\" cy=\"1132.39\" r=\"14\" fill=\"#009af9\" fill-rule=\"evenodd\" fill-opacity=\"1\" stroke=\"#000000\" stroke-opacity=\"1\" stroke-width=\"3.2\"/>\n",
       "<circle clip-path=\"url(#clip962)\" cx=\"2202\" cy=\"923.508\" r=\"14\" fill=\"#009af9\" fill-rule=\"evenodd\" fill-opacity=\"1\" stroke=\"#000000\" stroke-opacity=\"1\" stroke-width=\"3.2\"/>\n",
       "<circle clip-path=\"url(#clip962)\" cx=\"2204.09\" cy=\"819.067\" r=\"14\" fill=\"#009af9\" fill-rule=\"evenodd\" fill-opacity=\"1\" stroke=\"#000000\" stroke-opacity=\"1\" stroke-width=\"3.2\"/>\n",
       "<circle clip-path=\"url(#clip962)\" cx=\"2206.19\" cy=\"1027.95\" r=\"14\" fill=\"#009af9\" fill-rule=\"evenodd\" fill-opacity=\"1\" stroke=\"#000000\" stroke-opacity=\"1\" stroke-width=\"3.2\"/>\n",
       "<circle clip-path=\"url(#clip962)\" cx=\"2208.28\" cy=\"1027.95\" r=\"14\" fill=\"#009af9\" fill-rule=\"evenodd\" fill-opacity=\"1\" stroke=\"#000000\" stroke-opacity=\"1\" stroke-width=\"3.2\"/>\n",
       "<circle clip-path=\"url(#clip962)\" cx=\"2210.38\" cy=\"923.508\" r=\"14\" fill=\"#009af9\" fill-rule=\"evenodd\" fill-opacity=\"1\" stroke=\"#000000\" stroke-opacity=\"1\" stroke-width=\"3.2\"/>\n",
       "<circle clip-path=\"url(#clip962)\" cx=\"2212.47\" cy=\"1027.95\" r=\"14\" fill=\"#009af9\" fill-rule=\"evenodd\" fill-opacity=\"1\" stroke=\"#000000\" stroke-opacity=\"1\" stroke-width=\"3.2\"/>\n",
       "<circle clip-path=\"url(#clip962)\" cx=\"2214.57\" cy=\"923.508\" r=\"14\" fill=\"#009af9\" fill-rule=\"evenodd\" fill-opacity=\"1\" stroke=\"#000000\" stroke-opacity=\"1\" stroke-width=\"3.2\"/>\n",
       "<circle clip-path=\"url(#clip962)\" cx=\"2216.66\" cy=\"714.625\" r=\"14\" fill=\"#009af9\" fill-rule=\"evenodd\" fill-opacity=\"1\" stroke=\"#000000\" stroke-opacity=\"1\" stroke-width=\"3.2\"/>\n",
       "<circle clip-path=\"url(#clip962)\" cx=\"2218.76\" cy=\"923.508\" r=\"14\" fill=\"#009af9\" fill-rule=\"evenodd\" fill-opacity=\"1\" stroke=\"#000000\" stroke-opacity=\"1\" stroke-width=\"3.2\"/>\n",
       "<circle clip-path=\"url(#clip962)\" cx=\"2220.85\" cy=\"1027.95\" r=\"14\" fill=\"#009af9\" fill-rule=\"evenodd\" fill-opacity=\"1\" stroke=\"#000000\" stroke-opacity=\"1\" stroke-width=\"3.2\"/>\n",
       "<circle clip-path=\"url(#clip962)\" cx=\"2222.95\" cy=\"610.184\" r=\"14\" fill=\"#009af9\" fill-rule=\"evenodd\" fill-opacity=\"1\" stroke=\"#000000\" stroke-opacity=\"1\" stroke-width=\"3.2\"/>\n",
       "<circle clip-path=\"url(#clip962)\" cx=\"2225.04\" cy=\"923.508\" r=\"14\" fill=\"#009af9\" fill-rule=\"evenodd\" fill-opacity=\"1\" stroke=\"#000000\" stroke-opacity=\"1\" stroke-width=\"3.2\"/>\n",
       "<circle clip-path=\"url(#clip962)\" cx=\"2227.14\" cy=\"714.625\" r=\"14\" fill=\"#009af9\" fill-rule=\"evenodd\" fill-opacity=\"1\" stroke=\"#000000\" stroke-opacity=\"1\" stroke-width=\"3.2\"/>\n",
       "<circle clip-path=\"url(#clip962)\" cx=\"2229.23\" cy=\"610.184\" r=\"14\" fill=\"#009af9\" fill-rule=\"evenodd\" fill-opacity=\"1\" stroke=\"#000000\" stroke-opacity=\"1\" stroke-width=\"3.2\"/>\n",
       "<circle clip-path=\"url(#clip962)\" cx=\"2231.33\" cy=\"714.625\" r=\"14\" fill=\"#009af9\" fill-rule=\"evenodd\" fill-opacity=\"1\" stroke=\"#000000\" stroke-opacity=\"1\" stroke-width=\"3.2\"/>\n",
       "<circle clip-path=\"url(#clip962)\" cx=\"2233.42\" cy=\"923.508\" r=\"14\" fill=\"#009af9\" fill-rule=\"evenodd\" fill-opacity=\"1\" stroke=\"#000000\" stroke-opacity=\"1\" stroke-width=\"3.2\"/>\n",
       "<circle clip-path=\"url(#clip962)\" cx=\"2235.52\" cy=\"819.067\" r=\"14\" fill=\"#009af9\" fill-rule=\"evenodd\" fill-opacity=\"1\" stroke=\"#000000\" stroke-opacity=\"1\" stroke-width=\"3.2\"/>\n",
       "<circle clip-path=\"url(#clip962)\" cx=\"2237.61\" cy=\"610.184\" r=\"14\" fill=\"#009af9\" fill-rule=\"evenodd\" fill-opacity=\"1\" stroke=\"#000000\" stroke-opacity=\"1\" stroke-width=\"3.2\"/>\n",
       "<circle clip-path=\"url(#clip962)\" cx=\"2239.7\" cy=\"923.508\" r=\"14\" fill=\"#009af9\" fill-rule=\"evenodd\" fill-opacity=\"1\" stroke=\"#000000\" stroke-opacity=\"1\" stroke-width=\"3.2\"/>\n",
       "<circle clip-path=\"url(#clip962)\" cx=\"2241.8\" cy=\"819.067\" r=\"14\" fill=\"#009af9\" fill-rule=\"evenodd\" fill-opacity=\"1\" stroke=\"#000000\" stroke-opacity=\"1\" stroke-width=\"3.2\"/>\n",
       "<circle clip-path=\"url(#clip962)\" cx=\"2243.89\" cy=\"819.067\" r=\"14\" fill=\"#009af9\" fill-rule=\"evenodd\" fill-opacity=\"1\" stroke=\"#000000\" stroke-opacity=\"1\" stroke-width=\"3.2\"/>\n",
       "<circle clip-path=\"url(#clip962)\" cx=\"2245.99\" cy=\"923.508\" r=\"14\" fill=\"#009af9\" fill-rule=\"evenodd\" fill-opacity=\"1\" stroke=\"#000000\" stroke-opacity=\"1\" stroke-width=\"3.2\"/>\n",
       "<circle clip-path=\"url(#clip962)\" cx=\"2248.08\" cy=\"923.508\" r=\"14\" fill=\"#009af9\" fill-rule=\"evenodd\" fill-opacity=\"1\" stroke=\"#000000\" stroke-opacity=\"1\" stroke-width=\"3.2\"/>\n",
       "<circle clip-path=\"url(#clip962)\" cx=\"2250.18\" cy=\"923.508\" r=\"14\" fill=\"#009af9\" fill-rule=\"evenodd\" fill-opacity=\"1\" stroke=\"#000000\" stroke-opacity=\"1\" stroke-width=\"3.2\"/>\n",
       "<circle clip-path=\"url(#clip962)\" cx=\"2252.27\" cy=\"1132.39\" r=\"14\" fill=\"#009af9\" fill-rule=\"evenodd\" fill-opacity=\"1\" stroke=\"#000000\" stroke-opacity=\"1\" stroke-width=\"3.2\"/>\n",
       "<circle clip-path=\"url(#clip962)\" cx=\"2254.37\" cy=\"819.067\" r=\"14\" fill=\"#009af9\" fill-rule=\"evenodd\" fill-opacity=\"1\" stroke=\"#000000\" stroke-opacity=\"1\" stroke-width=\"3.2\"/>\n",
       "<circle clip-path=\"url(#clip962)\" cx=\"2256.46\" cy=\"1027.95\" r=\"14\" fill=\"#009af9\" fill-rule=\"evenodd\" fill-opacity=\"1\" stroke=\"#000000\" stroke-opacity=\"1\" stroke-width=\"3.2\"/>\n",
       "<circle clip-path=\"url(#clip962)\" cx=\"2258.56\" cy=\"610.184\" r=\"14\" fill=\"#009af9\" fill-rule=\"evenodd\" fill-opacity=\"1\" stroke=\"#000000\" stroke-opacity=\"1\" stroke-width=\"3.2\"/>\n",
       "<circle clip-path=\"url(#clip962)\" cx=\"2260.65\" cy=\"1341.27\" r=\"14\" fill=\"#009af9\" fill-rule=\"evenodd\" fill-opacity=\"1\" stroke=\"#000000\" stroke-opacity=\"1\" stroke-width=\"3.2\"/>\n",
       "<circle clip-path=\"url(#clip962)\" cx=\"2262.75\" cy=\"819.067\" r=\"14\" fill=\"#009af9\" fill-rule=\"evenodd\" fill-opacity=\"1\" stroke=\"#000000\" stroke-opacity=\"1\" stroke-width=\"3.2\"/>\n",
       "<circle clip-path=\"url(#clip962)\" cx=\"2264.84\" cy=\"819.067\" r=\"14\" fill=\"#009af9\" fill-rule=\"evenodd\" fill-opacity=\"1\" stroke=\"#000000\" stroke-opacity=\"1\" stroke-width=\"3.2\"/>\n",
       "<circle clip-path=\"url(#clip962)\" cx=\"2266.94\" cy=\"923.508\" r=\"14\" fill=\"#009af9\" fill-rule=\"evenodd\" fill-opacity=\"1\" stroke=\"#000000\" stroke-opacity=\"1\" stroke-width=\"3.2\"/>\n",
       "<circle clip-path=\"url(#clip962)\" cx=\"2269.03\" cy=\"714.625\" r=\"14\" fill=\"#009af9\" fill-rule=\"evenodd\" fill-opacity=\"1\" stroke=\"#000000\" stroke-opacity=\"1\" stroke-width=\"3.2\"/>\n",
       "<circle clip-path=\"url(#clip962)\" cx=\"2271.13\" cy=\"1132.39\" r=\"14\" fill=\"#009af9\" fill-rule=\"evenodd\" fill-opacity=\"1\" stroke=\"#000000\" stroke-opacity=\"1\" stroke-width=\"3.2\"/>\n",
       "<circle clip-path=\"url(#clip962)\" cx=\"2273.22\" cy=\"923.508\" r=\"14\" fill=\"#009af9\" fill-rule=\"evenodd\" fill-opacity=\"1\" stroke=\"#000000\" stroke-opacity=\"1\" stroke-width=\"3.2\"/>\n",
       "<circle clip-path=\"url(#clip962)\" cx=\"2275.31\" cy=\"401.301\" r=\"14\" fill=\"#009af9\" fill-rule=\"evenodd\" fill-opacity=\"1\" stroke=\"#000000\" stroke-opacity=\"1\" stroke-width=\"3.2\"/>\n",
       "<circle clip-path=\"url(#clip962)\" cx=\"2277.41\" cy=\"1132.39\" r=\"14\" fill=\"#009af9\" fill-rule=\"evenodd\" fill-opacity=\"1\" stroke=\"#000000\" stroke-opacity=\"1\" stroke-width=\"3.2\"/>\n",
       "<circle clip-path=\"url(#clip962)\" cx=\"2279.5\" cy=\"1027.95\" r=\"14\" fill=\"#009af9\" fill-rule=\"evenodd\" fill-opacity=\"1\" stroke=\"#000000\" stroke-opacity=\"1\" stroke-width=\"3.2\"/>\n",
       "<circle clip-path=\"url(#clip962)\" cx=\"2281.6\" cy=\"714.625\" r=\"14\" fill=\"#009af9\" fill-rule=\"evenodd\" fill-opacity=\"1\" stroke=\"#000000\" stroke-opacity=\"1\" stroke-width=\"3.2\"/>\n",
       "<circle clip-path=\"url(#clip962)\" cx=\"2283.69\" cy=\"1027.95\" r=\"14\" fill=\"#009af9\" fill-rule=\"evenodd\" fill-opacity=\"1\" stroke=\"#000000\" stroke-opacity=\"1\" stroke-width=\"3.2\"/>\n",
       "<circle clip-path=\"url(#clip962)\" cx=\"2285.79\" cy=\"1027.95\" r=\"14\" fill=\"#009af9\" fill-rule=\"evenodd\" fill-opacity=\"1\" stroke=\"#000000\" stroke-opacity=\"1\" stroke-width=\"3.2\"/>\n",
       "<circle clip-path=\"url(#clip962)\" cx=\"2287.88\" cy=\"1236.83\" r=\"14\" fill=\"#009af9\" fill-rule=\"evenodd\" fill-opacity=\"1\" stroke=\"#000000\" stroke-opacity=\"1\" stroke-width=\"3.2\"/>\n",
       "<circle clip-path=\"url(#clip962)\" cx=\"2289.98\" cy=\"923.508\" r=\"14\" fill=\"#009af9\" fill-rule=\"evenodd\" fill-opacity=\"1\" stroke=\"#000000\" stroke-opacity=\"1\" stroke-width=\"3.2\"/>\n",
       "<path clip-path=\"url(#clip960)\" d=\"\n",
       "M1981.34 216.178 L2278.82 216.178 L2278.82 95.2176 L1981.34 95.2176  Z\n",
       "  \" fill=\"#ffffff\" fill-rule=\"evenodd\" fill-opacity=\"1\"/>\n",
       "<polyline clip-path=\"url(#clip960)\" style=\"stroke:#000000; stroke-width:4; stroke-opacity:1; fill:none\" points=\"\n",
       "  1981.34,216.178 2278.82,216.178 2278.82,95.2176 1981.34,95.2176 1981.34,216.178 \n",
       "  \"/>\n",
       "<circle clip-path=\"url(#clip960)\" cx=\"2079.92\" cy=\"155.698\" r=\"23\" fill=\"#009af9\" fill-rule=\"evenodd\" fill-opacity=\"1\" stroke=\"#000000\" stroke-opacity=\"1\" stroke-width=\"5.12\"/>\n",
       "<path clip-path=\"url(#clip960)\" d=\"M 0 0 M2192.35 175.385 Q2190.54 180.015 2188.83 181.427 Q2187.12 182.839 2184.25 182.839 L2180.84 182.839 L2180.84 179.274 L2183.34 179.274 Q2185.1 179.274 2186.08 178.44 Q2187.05 177.607 2188.23 174.505 L2188.99 172.561 L2178.51 147.052 L2183.02 147.052 L2191.12 167.329 L2199.22 147.052 L2203.74 147.052 L2192.35 175.385 Z\" fill=\"#000000\" fill-rule=\"evenodd\" fill-opacity=\"1\" /><path clip-path=\"url(#clip960)\" d=\"M 0 0 M2209.62 169.042 L2217.26 169.042 L2217.26 142.677 L2208.95 144.343 L2208.95 140.084 L2217.21 138.418 L2221.89 138.418 L2221.89 169.042 L2229.52 169.042 L2229.52 172.978 L2209.62 172.978 L2209.62 169.042 Z\" fill=\"#000000\" fill-rule=\"evenodd\" fill-opacity=\"1\" /></svg>\n"
      ]
     },
     "execution_count": 60,
     "metadata": {},
     "output_type": "execute_result"
    }
   ],
   "source": [
    "p = 0.25\n",
    "Nₜᵣᵢₐₗₛ = 20\n",
    "Nₑₓₚₑᵣᵢₘₑₙₜₛ = 1000\n",
    "\n",
    "results = [bernoulli_experiment(p, Nₜᵣᵢₐₗₛ) for i in 1:Nₑₓₚₑᵣᵢₘₑₙₜₛ]\n",
    "scatter(results)"
   ]
  },
  {
   "cell_type": "markdown",
   "metadata": {},
   "source": [
    "$X$ = number of heads\n",
    "\n",
    "**Probability distribution** of a random variable $X$\n",
    "\n",
    "$\\text{Prob}(X = x)$"
   ]
  },
  {
   "cell_type": "markdown",
   "metadata": {},
   "source": [
    "Probability that $X = x$ = proportion of time that the result was $x$"
   ]
  },
  {
   "cell_type": "markdown",
   "metadata": {},
   "source": [
    "## Counting\n",
    "\n",
    "Need to count how many of th trials come out as 5"
   ]
  },
  {
   "cell_type": "markdown",
   "metadata": {},
   "source": [
    "Need data structure where we store the counts.\n",
    "- `Dict` (dictionary)\n",
    "- `Vector`"
   ]
  },
  {
   "cell_type": "code",
   "execution_count": 62,
   "metadata": {},
   "outputs": [
    {
     "data": {
      "text/plain": [
       "13"
      ]
     },
     "execution_count": 62,
     "metadata": {},
     "output_type": "execute_result"
    }
   ],
   "source": [
    "maximum(results)"
   ]
  },
  {
   "cell_type": "code",
   "execution_count": 63,
   "metadata": {},
   "outputs": [
    {
     "data": {
      "text/plain": [
       "0"
      ]
     },
     "execution_count": 63,
     "metadata": {},
     "output_type": "execute_result"
    }
   ],
   "source": [
    "minimum(results)"
   ]
  },
  {
   "cell_type": "code",
   "execution_count": 64,
   "metadata": {},
   "outputs": [
    {
     "data": {
      "text/plain": [
       "14"
      ]
     },
     "execution_count": 64,
     "metadata": {},
     "output_type": "execute_result"
    }
   ],
   "source": [
    "l = maximum(results) + 1"
   ]
  },
  {
   "cell_type": "code",
   "execution_count": 65,
   "metadata": {},
   "outputs": [],
   "source": [
    "counts = zeros(l);"
   ]
  },
  {
   "cell_type": "code",
   "execution_count": 66,
   "metadata": {},
   "outputs": [
    {
     "name": "stdout",
     "output_type": "stream",
     "text": [
      "score = 4\n",
      "score = 5\n",
      "score = 8\n",
      "score = 4\n",
      "score = 6\n",
      "score = 2\n",
      "score = 9\n",
      "score = 10\n",
      "score = 7\n",
      "score = 6\n"
     ]
    }
   ],
   "source": [
    "for score in results[1:10]\n",
    "    @show score\n",
    "end"
   ]
  },
  {
   "cell_type": "code",
   "execution_count": 67,
   "metadata": {},
   "outputs": [],
   "source": [
    "for score in results\n",
    "    counts[score + 1] += 1\n",
    "end"
   ]
  },
  {
   "cell_type": "code",
   "execution_count": 68,
   "metadata": {},
   "outputs": [
    {
     "data": {
      "text/plain": [
       "14-element Vector{Float64}:\n",
       "   6.0\n",
       "  17.0\n",
       "  86.0\n",
       " 119.0\n",
       " 194.0\n",
       " 198.0\n",
       " 186.0\n",
       "  99.0\n",
       "  57.0\n",
       "  21.0\n",
       "   9.0\n",
       "   5.0\n",
       "   2.0\n",
       "   1.0"
      ]
     },
     "execution_count": 68,
     "metadata": {},
     "output_type": "execute_result"
    }
   ],
   "source": [
    "counts"
   ]
  },
  {
   "cell_type": "code",
   "execution_count": 70,
   "metadata": {},
   "outputs": [],
   "source": [
    "coutns = zeros(Int, maximum(results) + 1)\n",
    "\n",
    "for score in results\n",
    "    counts[score + 1] += 1\n",
    "end"
   ]
  },
  {
   "cell_type": "code",
   "execution_count": 71,
   "metadata": {},
   "outputs": [
    {
     "data": {
      "text/plain": [
       "14-element Vector{Float64}:\n",
       "  18.0\n",
       "  51.0\n",
       " 258.0\n",
       " 357.0\n",
       " 582.0\n",
       " 594.0\n",
       " 558.0\n",
       " 297.0\n",
       " 171.0\n",
       "  63.0\n",
       "  27.0\n",
       "  15.0\n",
       "   6.0\n",
       "   3.0"
      ]
     },
     "execution_count": 71,
     "metadata": {},
     "output_type": "execute_result"
    }
   ],
   "source": [
    "counts"
   ]
  },
  {
   "cell_type": "code",
   "execution_count": 78,
   "metadata": {},
   "outputs": [
    {
     "name": "stderr",
     "output_type": "stream",
     "text": [
      "\u001b[32m\u001b[1m   Resolving\u001b[22m\u001b[39m package versions...\n",
      "\u001b[32m\u001b[1m    Updating\u001b[22m\u001b[39m `~/.julia/environments/v1.6/Project.toml`\n",
      " \u001b[90m [b964fa9f] \u001b[39m\u001b[92m+ LaTeXStrings v1.2.1\u001b[39m\n",
      "\u001b[32m\u001b[1m  No Changes\u001b[22m\u001b[39m to `~/.julia/environments/v1.6/Manifest.toml`\n"
     ]
    }
   ],
   "source": [
    "# ]add LaTeXStrings"
   ]
  },
  {
   "cell_type": "code",
   "execution_count": 79,
   "metadata": {},
   "outputs": [
    {
     "data": {
      "image/svg+xml": [
       "<?xml version=\"1.0\" encoding=\"utf-8\"?>\n",
       "<svg xmlns=\"http://www.w3.org/2000/svg\" xmlns:xlink=\"http://www.w3.org/1999/xlink\" width=\"600\" height=\"400\" viewBox=\"0 0 2400 1600\">\n",
       "<defs>\n",
       "  <clipPath id=\"clip080\">\n",
       "    <rect x=\"0\" y=\"0\" width=\"2400\" height=\"1600\"/>\n",
       "  </clipPath>\n",
       "</defs>\n",
       "<path clip-path=\"url(#clip080)\" d=\"\n",
       "M0 1600 L2400 1600 L2400 0 L0 0  Z\n",
       "  \" fill=\"#ffffff\" fill-rule=\"evenodd\" fill-opacity=\"1\"/>\n",
       "<defs>\n",
       "  <clipPath id=\"clip081\">\n",
       "    <rect x=\"480\" y=\"0\" width=\"1681\" height=\"1600\"/>\n",
       "  </clipPath>\n",
       "</defs>\n",
       "<defs>\n",
       "  <clipPath id=\"clip082\">\n",
       "    <rect x=\"229\" y=\"47\" width=\"2124\" height=\"1377\"/>\n",
       "  </clipPath>\n",
       "</defs>\n",
       "<path clip-path=\"url(#clip080)\" d=\"\n",
       "M229.473 1451.06 L2352.76 1451.06 L2352.76 47.2441 L229.473 47.2441  Z\n",
       "  \" fill=\"#ffffff\" fill-rule=\"evenodd\" fill-opacity=\"1\"/>\n",
       "<defs>\n",
       "  <clipPath id=\"clip083\">\n",
       "    <rect x=\"229\" y=\"47\" width=\"2124\" height=\"1405\"/>\n",
       "  </clipPath>\n",
       "</defs>\n",
       "<polyline clip-path=\"url(#clip083)\" style=\"stroke:#000000; stroke-width:2; stroke-opacity:0.1; fill:none\" points=\"\n",
       "  289.566,1451.06 289.566,47.2441 \n",
       "  \"/>\n",
       "<polyline clip-path=\"url(#clip083)\" style=\"stroke:#000000; stroke-width:2; stroke-opacity:0.1; fill:none\" points=\"\n",
       "  597.734,1451.06 597.734,47.2441 \n",
       "  \"/>\n",
       "<polyline clip-path=\"url(#clip083)\" style=\"stroke:#000000; stroke-width:2; stroke-opacity:0.1; fill:none\" points=\"\n",
       "  905.903,1451.06 905.903,47.2441 \n",
       "  \"/>\n",
       "<polyline clip-path=\"url(#clip083)\" style=\"stroke:#000000; stroke-width:2; stroke-opacity:0.1; fill:none\" points=\"\n",
       "  1214.07,1451.06 1214.07,47.2441 \n",
       "  \"/>\n",
       "<polyline clip-path=\"url(#clip083)\" style=\"stroke:#000000; stroke-width:2; stroke-opacity:0.1; fill:none\" points=\"\n",
       "  1522.24,1451.06 1522.24,47.2441 \n",
       "  \"/>\n",
       "<polyline clip-path=\"url(#clip083)\" style=\"stroke:#000000; stroke-width:2; stroke-opacity:0.1; fill:none\" points=\"\n",
       "  1830.41,1451.06 1830.41,47.2441 \n",
       "  \"/>\n",
       "<polyline clip-path=\"url(#clip083)\" style=\"stroke:#000000; stroke-width:2; stroke-opacity:0.1; fill:none\" points=\"\n",
       "  2138.58,1451.06 2138.58,47.2441 \n",
       "  \"/>\n",
       "<polyline clip-path=\"url(#clip080)\" style=\"stroke:#000000; stroke-width:4; stroke-opacity:1; fill:none\" points=\"\n",
       "  229.473,1451.06 2352.76,1451.06 \n",
       "  \"/>\n",
       "<polyline clip-path=\"url(#clip080)\" style=\"stroke:#000000; stroke-width:4; stroke-opacity:1; fill:none\" points=\"\n",
       "  289.566,1451.06 289.566,1434.22 \n",
       "  \"/>\n",
       "<polyline clip-path=\"url(#clip080)\" style=\"stroke:#000000; stroke-width:4; stroke-opacity:1; fill:none\" points=\"\n",
       "  597.734,1451.06 597.734,1434.22 \n",
       "  \"/>\n",
       "<polyline clip-path=\"url(#clip080)\" style=\"stroke:#000000; stroke-width:4; stroke-opacity:1; fill:none\" points=\"\n",
       "  905.903,1451.06 905.903,1434.22 \n",
       "  \"/>\n",
       "<polyline clip-path=\"url(#clip080)\" style=\"stroke:#000000; stroke-width:4; stroke-opacity:1; fill:none\" points=\"\n",
       "  1214.07,1451.06 1214.07,1434.22 \n",
       "  \"/>\n",
       "<polyline clip-path=\"url(#clip080)\" style=\"stroke:#000000; stroke-width:4; stroke-opacity:1; fill:none\" points=\"\n",
       "  1522.24,1451.06 1522.24,1434.22 \n",
       "  \"/>\n",
       "<polyline clip-path=\"url(#clip080)\" style=\"stroke:#000000; stroke-width:4; stroke-opacity:1; fill:none\" points=\"\n",
       "  1830.41,1451.06 1830.41,1434.22 \n",
       "  \"/>\n",
       "<polyline clip-path=\"url(#clip080)\" style=\"stroke:#000000; stroke-width:4; stroke-opacity:1; fill:none\" points=\"\n",
       "  2138.58,1451.06 2138.58,1434.22 \n",
       "  \"/>\n",
       "<path clip-path=\"url(#clip080)\" d=\"M 0 0 M289.566 1480.26 Q285.955 1480.26 284.126 1483.82 Q282.32 1487.36 282.32 1494.49 Q282.32 1501.6 284.126 1505.16 Q285.955 1508.7 289.566 1508.7 Q293.2 1508.7 295.005 1505.16 Q296.834 1501.6 296.834 1494.49 Q296.834 1487.36 295.005 1483.82 Q293.2 1480.26 289.566 1480.26 M289.566 1476.55 Q295.376 1476.55 298.431 1481.16 Q301.51 1485.74 301.51 1494.49 Q301.51 1503.22 298.431 1507.82 Q295.376 1512.41 289.566 1512.41 Q283.755 1512.41 280.677 1507.82 Q277.621 1503.22 277.621 1494.49 Q277.621 1485.74 280.677 1481.16 Q283.755 1476.55 289.566 1476.55 Z\" fill=\"#000000\" fill-rule=\"evenodd\" fill-opacity=\"1\" /><path clip-path=\"url(#clip080)\" d=\"M 0 0 M592.387 1507.8 L608.707 1507.8 L608.707 1511.74 L586.762 1511.74 L586.762 1507.8 Q589.424 1505.05 594.008 1500.42 Q598.614 1495.76 599.795 1494.42 Q602.04 1491.9 602.92 1490.16 Q603.822 1488.4 603.822 1486.71 Q603.822 1483.96 601.878 1482.22 Q599.957 1480.49 596.855 1480.49 Q594.656 1480.49 592.202 1481.25 Q589.772 1482.01 586.994 1483.57 L586.994 1478.84 Q589.818 1477.71 592.272 1477.13 Q594.725 1476.55 596.762 1476.55 Q602.133 1476.55 605.327 1479.24 Q608.521 1481.92 608.521 1486.41 Q608.521 1488.54 607.711 1490.46 Q606.924 1492.36 604.818 1494.95 Q604.239 1495.63 601.137 1498.84 Q598.035 1502.04 592.387 1507.8 Z\" fill=\"#000000\" fill-rule=\"evenodd\" fill-opacity=\"1\" /><path clip-path=\"url(#clip080)\" d=\"M 0 0 M908.913 1481.25 L897.107 1499.7 L908.913 1499.7 L908.913 1481.25 M907.686 1477.18 L913.565 1477.18 L913.565 1499.7 L918.496 1499.7 L918.496 1503.59 L913.565 1503.59 L913.565 1511.74 L908.913 1511.74 L908.913 1503.59 L893.311 1503.59 L893.311 1499.07 L907.686 1477.18 Z\" fill=\"#000000\" fill-rule=\"evenodd\" fill-opacity=\"1\" /><path clip-path=\"url(#clip080)\" d=\"M 0 0 M1214.48 1492.59 Q1211.33 1492.59 1209.48 1494.75 Q1207.65 1496.9 1207.65 1500.65 Q1207.65 1504.38 1209.48 1506.55 Q1211.33 1508.7 1214.48 1508.7 Q1217.63 1508.7 1219.45 1506.55 Q1221.31 1504.38 1221.31 1500.65 Q1221.31 1496.9 1219.45 1494.75 Q1217.63 1492.59 1214.48 1492.59 M1223.76 1477.94 L1223.76 1482.2 Q1222 1481.37 1220.19 1480.93 Q1218.41 1480.49 1216.65 1480.49 Q1212.02 1480.49 1209.57 1483.61 Q1207.14 1486.74 1206.79 1493.06 Q1208.16 1491.04 1210.22 1489.98 Q1212.28 1488.89 1214.75 1488.89 Q1219.96 1488.89 1222.97 1492.06 Q1226 1495.21 1226 1500.65 Q1226 1505.97 1222.86 1509.19 Q1219.71 1512.41 1214.48 1512.41 Q1208.48 1512.41 1205.31 1507.82 Q1202.14 1503.22 1202.14 1494.49 Q1202.14 1486.3 1206.03 1481.44 Q1209.92 1476.55 1216.47 1476.55 Q1218.23 1476.55 1220.01 1476.9 Q1221.82 1477.25 1223.76 1477.94 Z\" fill=\"#000000\" fill-rule=\"evenodd\" fill-opacity=\"1\" /><path clip-path=\"url(#clip080)\" d=\"M 0 0 M1522.24 1495.32 Q1518.91 1495.32 1516.99 1497.11 Q1515.09 1498.89 1515.09 1502.01 Q1515.09 1505.14 1516.99 1506.92 Q1518.91 1508.7 1522.24 1508.7 Q1525.57 1508.7 1527.5 1506.92 Q1529.42 1505.12 1529.42 1502.01 Q1529.42 1498.89 1527.5 1497.11 Q1525.6 1495.32 1522.24 1495.32 M1517.57 1493.33 Q1514.56 1492.59 1512.87 1490.53 Q1511.2 1488.47 1511.2 1485.51 Q1511.2 1481.37 1514.14 1478.96 Q1517.1 1476.55 1522.24 1476.55 Q1527.4 1476.55 1530.34 1478.96 Q1533.28 1481.37 1533.28 1485.51 Q1533.28 1488.47 1531.59 1490.53 Q1529.93 1492.59 1526.94 1493.33 Q1530.32 1494.12 1532.19 1496.41 Q1534.09 1498.7 1534.09 1502.01 Q1534.09 1507.04 1531.01 1509.72 Q1527.96 1512.41 1522.24 1512.41 Q1516.52 1512.41 1513.44 1509.72 Q1510.39 1507.04 1510.39 1502.01 Q1510.39 1498.7 1512.29 1496.41 Q1514.19 1494.12 1517.57 1493.33 M1515.85 1485.95 Q1515.85 1488.63 1517.52 1490.14 Q1519.21 1491.64 1522.24 1491.64 Q1525.25 1491.64 1526.94 1490.14 Q1528.65 1488.63 1528.65 1485.95 Q1528.65 1483.26 1526.94 1481.76 Q1525.25 1480.26 1522.24 1480.26 Q1519.21 1480.26 1517.52 1481.76 Q1515.85 1483.26 1515.85 1485.95 Z\" fill=\"#000000\" fill-rule=\"evenodd\" fill-opacity=\"1\" /><path clip-path=\"url(#clip080)\" d=\"M 0 0 M1807.28 1507.8 L1814.92 1507.8 L1814.92 1481.44 L1806.61 1483.1 L1806.61 1478.84 L1814.88 1477.18 L1819.55 1477.18 L1819.55 1507.8 L1827.19 1507.8 L1827.19 1511.74 L1807.28 1511.74 L1807.28 1507.8 Z\" fill=\"#000000\" fill-rule=\"evenodd\" fill-opacity=\"1\" /><path clip-path=\"url(#clip080)\" d=\"M 0 0 M1842.26 1480.26 Q1838.65 1480.26 1836.82 1483.82 Q1835.02 1487.36 1835.02 1494.49 Q1835.02 1501.6 1836.82 1505.16 Q1838.65 1508.7 1842.26 1508.7 Q1845.9 1508.7 1847.7 1505.16 Q1849.53 1501.6 1849.53 1494.49 Q1849.53 1487.36 1847.7 1483.82 Q1845.9 1480.26 1842.26 1480.26 M1842.26 1476.55 Q1848.07 1476.55 1851.13 1481.16 Q1854.21 1485.74 1854.21 1494.49 Q1854.21 1503.22 1851.13 1507.82 Q1848.07 1512.41 1842.26 1512.41 Q1836.45 1512.41 1833.37 1507.82 Q1830.32 1503.22 1830.32 1494.49 Q1830.32 1485.74 1833.37 1481.16 Q1836.45 1476.55 1842.26 1476.55 Z\" fill=\"#000000\" fill-rule=\"evenodd\" fill-opacity=\"1\" /><path clip-path=\"url(#clip080)\" d=\"M 0 0 M2116.25 1507.8 L2123.89 1507.8 L2123.89 1481.44 L2115.58 1483.1 L2115.58 1478.84 L2123.84 1477.18 L2128.52 1477.18 L2128.52 1507.8 L2136.16 1507.8 L2136.16 1511.74 L2116.25 1511.74 L2116.25 1507.8 Z\" fill=\"#000000\" fill-rule=\"evenodd\" fill-opacity=\"1\" /><path clip-path=\"url(#clip080)\" d=\"M 0 0 M2145.26 1507.8 L2161.58 1507.8 L2161.58 1511.74 L2139.63 1511.74 L2139.63 1507.8 Q2142.29 1505.05 2146.88 1500.42 Q2151.48 1495.76 2152.66 1494.42 Q2154.91 1491.9 2155.79 1490.16 Q2156.69 1488.4 2156.69 1486.71 Q2156.69 1483.96 2154.75 1482.22 Q2152.83 1480.49 2149.72 1480.49 Q2147.53 1480.49 2145.07 1481.25 Q2142.64 1482.01 2139.86 1483.57 L2139.86 1478.84 Q2142.69 1477.71 2145.14 1477.13 Q2147.59 1476.55 2149.63 1476.55 Q2155 1476.55 2158.2 1479.24 Q2161.39 1481.92 2161.39 1486.41 Q2161.39 1488.54 2160.58 1490.46 Q2159.79 1492.36 2157.69 1494.95 Q2157.11 1495.63 2154.01 1498.84 Q2150.9 1502.04 2145.26 1507.8 Z\" fill=\"#000000\" fill-rule=\"evenodd\" fill-opacity=\"1\" /><path clip-path=\"url(#clip080)\" d=\"M 0 0 M1307.26 1555.24 Q1307.26 1555.5 1306.97 1556.5 Q1306.68 1557.5 1305.97 1559.04 Q1305.3 1560.59 1304.36 1562 Q1303.43 1563.39 1301.88 1564.42 Q1300.37 1565.42 1298.63 1565.42 Q1296.31 1565.42 1294.77 1563.87 Q1293.22 1562.33 1293.22 1560.01 Q1293.22 1558.72 1293.9 1556.95 Q1298.18 1545.52 1298.18 1541.59 Q1298.18 1536.98 1294.61 1536.98 Q1292.83 1536.98 1291.16 1537.66 Q1289.52 1538.3 1288.39 1539.2 Q1287.26 1540.1 1286.23 1541.36 Q1285.23 1542.58 1284.72 1543.42 Q1284.24 1544.23 1283.85 1545.03 L1283.01 1548.32 Q1282.82 1549.22 1281.88 1552.73 L1280.44 1558.69 Q1279.41 1563.13 1279.18 1563.55 Q1278.86 1564.45 1278.15 1564.94 Q1277.44 1565.42 1276.73 1565.42 Q1275.93 1565.42 1275.38 1564.94 Q1274.83 1564.45 1274.83 1563.62 Q1274.83 1563.49 1274.93 1563 Q1275.03 1562.52 1275.19 1561.84 Q1275.35 1561.17 1275.41 1560.78 L1279.24 1545.55 Q1279.95 1542.78 1280.11 1541.91 Q1280.31 1541.01 1280.31 1540.01 Q1280.31 1536.98 1278.25 1536.98 Q1276.57 1536.98 1275.48 1538.98 Q1274.38 1540.97 1273.45 1544.84 Q1273.16 1545.9 1272.96 1546.13 Q1272.8 1546.35 1272.32 1546.35 Q1271.51 1546.32 1271.51 1545.68 Q1271.51 1545.52 1271.77 1544.45 Q1272.03 1543.39 1272.51 1541.88 Q1273.03 1540.33 1273.51 1539.3 Q1273.93 1538.53 1274.16 1538.17 Q1274.41 1537.79 1275.03 1537.05 Q1275.67 1536.27 1276.51 1535.92 Q1277.38 1535.53 1278.44 1535.53 Q1280.82 1535.53 1282.56 1537.08 Q1284.3 1538.59 1284.53 1541.26 Q1288.81 1535.53 1294.8 1535.53 Q1298.34 1535.53 1300.37 1537.4 Q1302.4 1539.27 1302.4 1542.58 Q1302.4 1543.36 1302.24 1544.36 Q1302.11 1545.32 1301.79 1546.55 Q1301.5 1547.77 1301.24 1548.7 Q1300.98 1549.64 1300.47 1551.15 Q1299.95 1552.63 1299.73 1553.28 Q1299.5 1553.92 1298.95 1555.43 Q1298.44 1556.92 1298.37 1557.08 Q1297.18 1560.07 1297.18 1561.78 Q1297.18 1562.91 1297.54 1563.42 Q1297.92 1563.94 1298.76 1563.94 Q1301.02 1563.94 1302.69 1561.71 Q1304.4 1559.46 1305.49 1555.79 Q1305.75 1554.98 1305.88 1554.79 Q1306.04 1554.6 1306.49 1554.6 Q1307.26 1554.6 1307.26 1555.24 Z\" fill=\"#000000\" fill-rule=\"evenodd\" fill-opacity=\"1\" /><polyline clip-path=\"url(#clip083)\" style=\"stroke:#000000; stroke-width:2; stroke-opacity:0.1; fill:none\" points=\"\n",
       "  229.473,1418.06 2352.76,1418.06 \n",
       "  \"/>\n",
       "<polyline clip-path=\"url(#clip083)\" style=\"stroke:#000000; stroke-width:2; stroke-opacity:0.1; fill:none\" points=\"\n",
       "  229.473,1193.97 2352.76,1193.97 \n",
       "  \"/>\n",
       "<polyline clip-path=\"url(#clip083)\" style=\"stroke:#000000; stroke-width:2; stroke-opacity:0.1; fill:none\" points=\"\n",
       "  229.473,969.881 2352.76,969.881 \n",
       "  \"/>\n",
       "<polyline clip-path=\"url(#clip083)\" style=\"stroke:#000000; stroke-width:2; stroke-opacity:0.1; fill:none\" points=\"\n",
       "  229.473,745.793 2352.76,745.793 \n",
       "  \"/>\n",
       "<polyline clip-path=\"url(#clip083)\" style=\"stroke:#000000; stroke-width:2; stroke-opacity:0.1; fill:none\" points=\"\n",
       "  229.473,521.705 2352.76,521.705 \n",
       "  \"/>\n",
       "<polyline clip-path=\"url(#clip083)\" style=\"stroke:#000000; stroke-width:2; stroke-opacity:0.1; fill:none\" points=\"\n",
       "  229.473,297.617 2352.76,297.617 \n",
       "  \"/>\n",
       "<polyline clip-path=\"url(#clip083)\" style=\"stroke:#000000; stroke-width:2; stroke-opacity:0.1; fill:none\" points=\"\n",
       "  229.473,73.5296 2352.76,73.5296 \n",
       "  \"/>\n",
       "<polyline clip-path=\"url(#clip080)\" style=\"stroke:#000000; stroke-width:4; stroke-opacity:1; fill:none\" points=\"\n",
       "  229.473,1451.06 229.473,47.2441 \n",
       "  \"/>\n",
       "<polyline clip-path=\"url(#clip080)\" style=\"stroke:#000000; stroke-width:4; stroke-opacity:1; fill:none\" points=\"\n",
       "  229.473,1418.06 254.952,1418.06 \n",
       "  \"/>\n",
       "<polyline clip-path=\"url(#clip080)\" style=\"stroke:#000000; stroke-width:4; stroke-opacity:1; fill:none\" points=\"\n",
       "  229.473,1193.97 254.952,1193.97 \n",
       "  \"/>\n",
       "<polyline clip-path=\"url(#clip080)\" style=\"stroke:#000000; stroke-width:4; stroke-opacity:1; fill:none\" points=\"\n",
       "  229.473,969.881 254.952,969.881 \n",
       "  \"/>\n",
       "<polyline clip-path=\"url(#clip080)\" style=\"stroke:#000000; stroke-width:4; stroke-opacity:1; fill:none\" points=\"\n",
       "  229.473,745.793 254.952,745.793 \n",
       "  \"/>\n",
       "<polyline clip-path=\"url(#clip080)\" style=\"stroke:#000000; stroke-width:4; stroke-opacity:1; fill:none\" points=\"\n",
       "  229.473,521.705 254.952,521.705 \n",
       "  \"/>\n",
       "<polyline clip-path=\"url(#clip080)\" style=\"stroke:#000000; stroke-width:4; stroke-opacity:1; fill:none\" points=\"\n",
       "  229.473,297.617 254.952,297.617 \n",
       "  \"/>\n",
       "<polyline clip-path=\"url(#clip080)\" style=\"stroke:#000000; stroke-width:4; stroke-opacity:1; fill:none\" points=\"\n",
       "  229.473,73.5296 254.952,73.5296 \n",
       "  \"/>\n",
       "<path clip-path=\"url(#clip080)\" d=\"M 0 0 M181.528 1403.85 Q177.917 1403.85 176.089 1407.42 Q174.283 1410.96 174.283 1418.09 Q174.283 1425.2 176.089 1428.76 Q177.917 1432.3 181.528 1432.3 Q185.163 1432.3 186.968 1428.76 Q188.797 1425.2 188.797 1418.09 Q188.797 1410.96 186.968 1407.42 Q185.163 1403.85 181.528 1403.85 M181.528 1400.15 Q187.338 1400.15 190.394 1404.76 Q193.473 1409.34 193.473 1418.09 Q193.473 1426.82 190.394 1431.42 Q187.338 1436.01 181.528 1436.01 Q175.718 1436.01 172.639 1431.42 Q169.584 1426.82 169.584 1418.09 Q169.584 1409.34 172.639 1404.76 Q175.718 1400.15 181.528 1400.15 Z\" fill=\"#000000\" fill-rule=\"evenodd\" fill-opacity=\"1\" /><path clip-path=\"url(#clip080)\" d=\"M 0 0 M119.538 1207.31 L127.177 1207.31 L127.177 1180.95 L118.867 1182.61 L118.867 1178.36 L127.13 1176.69 L131.806 1176.69 L131.806 1207.31 L139.445 1207.31 L139.445 1211.25 L119.538 1211.25 L119.538 1207.31 Z\" fill=\"#000000\" fill-rule=\"evenodd\" fill-opacity=\"1\" /><path clip-path=\"url(#clip080)\" d=\"M 0 0 M154.515 1179.77 Q150.903 1179.77 149.075 1183.33 Q147.269 1186.87 147.269 1194 Q147.269 1201.11 149.075 1204.67 Q150.903 1208.22 154.515 1208.22 Q158.149 1208.22 159.954 1204.67 Q161.783 1201.11 161.783 1194 Q161.783 1186.87 159.954 1183.33 Q158.149 1179.77 154.515 1179.77 M154.515 1176.06 Q160.325 1176.06 163.38 1180.67 Q166.459 1185.25 166.459 1194 Q166.459 1202.73 163.38 1207.34 Q160.325 1211.92 154.515 1211.92 Q148.704 1211.92 145.626 1207.34 Q142.57 1202.73 142.57 1194 Q142.57 1185.25 145.626 1180.67 Q148.704 1176.06 154.515 1176.06 Z\" fill=\"#000000\" fill-rule=\"evenodd\" fill-opacity=\"1\" /><path clip-path=\"url(#clip080)\" d=\"M 0 0 M181.528 1179.77 Q177.917 1179.77 176.089 1183.33 Q174.283 1186.87 174.283 1194 Q174.283 1201.11 176.089 1204.67 Q177.917 1208.22 181.528 1208.22 Q185.163 1208.22 186.968 1204.67 Q188.797 1201.11 188.797 1194 Q188.797 1186.87 186.968 1183.33 Q185.163 1179.77 181.528 1179.77 M181.528 1176.06 Q187.338 1176.06 190.394 1180.67 Q193.473 1185.25 193.473 1194 Q193.473 1202.73 190.394 1207.34 Q187.338 1211.92 181.528 1211.92 Q175.718 1211.92 172.639 1207.34 Q169.584 1202.73 169.584 1194 Q169.584 1185.25 172.639 1180.67 Q175.718 1176.06 181.528 1176.06 Z\" fill=\"#000000\" fill-rule=\"evenodd\" fill-opacity=\"1\" /><path clip-path=\"url(#clip080)\" d=\"M 0 0 M123.126 983.226 L139.445 983.226 L139.445 987.161 L117.501 987.161 L117.501 983.226 Q120.163 980.471 124.746 975.841 Q129.353 971.189 130.533 969.846 Q132.779 967.323 133.658 965.587 Q134.561 963.828 134.561 962.138 Q134.561 959.383 132.617 957.647 Q130.695 955.911 127.593 955.911 Q125.394 955.911 122.941 956.675 Q120.51 957.439 117.732 958.99 L117.732 954.267 Q120.556 953.133 123.01 952.554 Q125.464 951.976 127.501 951.976 Q132.871 951.976 136.066 954.661 Q139.26 957.346 139.26 961.837 Q139.26 963.966 138.45 965.888 Q137.663 967.786 135.556 970.378 Q134.978 971.05 131.876 974.267 Q128.774 977.462 123.126 983.226 Z\" fill=\"#000000\" fill-rule=\"evenodd\" fill-opacity=\"1\" /><path clip-path=\"url(#clip080)\" d=\"M 0 0 M154.515 955.679 Q150.903 955.679 149.075 959.244 Q147.269 962.786 147.269 969.915 Q147.269 977.022 149.075 980.587 Q150.903 984.128 154.515 984.128 Q158.149 984.128 159.954 980.587 Q161.783 977.022 161.783 969.915 Q161.783 962.786 159.954 959.244 Q158.149 955.679 154.515 955.679 M154.515 951.976 Q160.325 951.976 163.38 956.582 Q166.459 961.165 166.459 969.915 Q166.459 978.642 163.38 983.249 Q160.325 987.832 154.515 987.832 Q148.704 987.832 145.626 983.249 Q142.57 978.642 142.57 969.915 Q142.57 961.165 145.626 956.582 Q148.704 951.976 154.515 951.976 Z\" fill=\"#000000\" fill-rule=\"evenodd\" fill-opacity=\"1\" /><path clip-path=\"url(#clip080)\" d=\"M 0 0 M181.528 955.679 Q177.917 955.679 176.089 959.244 Q174.283 962.786 174.283 969.915 Q174.283 977.022 176.089 980.587 Q177.917 984.128 181.528 984.128 Q185.163 984.128 186.968 980.587 Q188.797 977.022 188.797 969.915 Q188.797 962.786 186.968 959.244 Q185.163 955.679 181.528 955.679 M181.528 951.976 Q187.338 951.976 190.394 956.582 Q193.473 961.165 193.473 969.915 Q193.473 978.642 190.394 983.249 Q187.338 987.832 181.528 987.832 Q175.718 987.832 172.639 983.249 Q169.584 978.642 169.584 969.915 Q169.584 961.165 172.639 956.582 Q175.718 951.976 181.528 951.976 Z\" fill=\"#000000\" fill-rule=\"evenodd\" fill-opacity=\"1\" /><path clip-path=\"url(#clip080)\" d=\"M 0 0 M132.316 744.439 Q135.672 745.156 137.547 747.425 Q139.445 749.693 139.445 753.027 Q139.445 758.142 135.927 760.943 Q132.408 763.744 125.927 763.744 Q123.751 763.744 121.436 763.304 Q119.144 762.888 116.691 762.031 L116.691 757.517 Q118.635 758.652 120.95 759.23 Q123.265 759.809 125.788 759.809 Q130.186 759.809 132.478 758.073 Q134.792 756.337 134.792 753.027 Q134.792 749.971 132.64 748.258 Q130.51 746.522 126.691 746.522 L122.663 746.522 L122.663 742.68 L126.876 742.68 Q130.325 742.68 132.154 741.314 Q133.982 739.925 133.982 737.332 Q133.982 734.67 132.084 733.258 Q130.209 731.823 126.691 731.823 Q124.769 731.823 122.57 732.24 Q120.371 732.656 117.732 733.536 L117.732 729.369 Q120.394 728.629 122.709 728.258 Q125.047 727.888 127.107 727.888 Q132.431 727.888 135.533 730.318 Q138.635 732.726 138.635 736.846 Q138.635 739.717 136.992 741.707 Q135.348 743.675 132.316 744.439 Z\" fill=\"#000000\" fill-rule=\"evenodd\" fill-opacity=\"1\" /><path clip-path=\"url(#clip080)\" d=\"M 0 0 M154.515 731.592 Q150.903 731.592 149.075 735.156 Q147.269 738.698 147.269 745.828 Q147.269 752.934 149.075 756.499 Q150.903 760.041 154.515 760.041 Q158.149 760.041 159.954 756.499 Q161.783 752.934 161.783 745.828 Q161.783 738.698 159.954 735.156 Q158.149 731.592 154.515 731.592 M154.515 727.888 Q160.325 727.888 163.38 732.494 Q166.459 737.078 166.459 745.828 Q166.459 754.554 163.38 759.161 Q160.325 763.744 154.515 763.744 Q148.704 763.744 145.626 759.161 Q142.57 754.554 142.57 745.828 Q142.57 737.078 145.626 732.494 Q148.704 727.888 154.515 727.888 Z\" fill=\"#000000\" fill-rule=\"evenodd\" fill-opacity=\"1\" /><path clip-path=\"url(#clip080)\" d=\"M 0 0 M181.528 731.592 Q177.917 731.592 176.089 735.156 Q174.283 738.698 174.283 745.828 Q174.283 752.934 176.089 756.499 Q177.917 760.041 181.528 760.041 Q185.163 760.041 186.968 756.499 Q188.797 752.934 188.797 745.828 Q188.797 738.698 186.968 735.156 Q185.163 731.592 181.528 731.592 M181.528 727.888 Q187.338 727.888 190.394 732.494 Q193.473 737.078 193.473 745.828 Q193.473 754.554 190.394 759.161 Q187.338 763.744 181.528 763.744 Q175.718 763.744 172.639 759.161 Q169.584 754.554 169.584 745.828 Q169.584 737.078 172.639 732.494 Q175.718 727.888 181.528 727.888 Z\" fill=\"#000000\" fill-rule=\"evenodd\" fill-opacity=\"1\" /><path clip-path=\"url(#clip080)\" d=\"M 0 0 M129.862 508.499 L118.056 526.948 L129.862 526.948 L129.862 508.499 M128.635 504.425 L134.515 504.425 L134.515 526.948 L139.445 526.948 L139.445 530.837 L134.515 530.837 L134.515 538.985 L129.862 538.985 L129.862 530.837 L114.26 530.837 L114.26 526.323 L128.635 504.425 Z\" fill=\"#000000\" fill-rule=\"evenodd\" fill-opacity=\"1\" /><path clip-path=\"url(#clip080)\" d=\"M 0 0 M154.515 507.504 Q150.903 507.504 149.075 511.069 Q147.269 514.61 147.269 521.74 Q147.269 528.846 149.075 532.411 Q150.903 535.953 154.515 535.953 Q158.149 535.953 159.954 532.411 Q161.783 528.846 161.783 521.74 Q161.783 514.61 159.954 511.069 Q158.149 507.504 154.515 507.504 M154.515 503.8 Q160.325 503.8 163.38 508.407 Q166.459 512.99 166.459 521.74 Q166.459 530.467 163.38 535.073 Q160.325 539.656 154.515 539.656 Q148.704 539.656 145.626 535.073 Q142.57 530.467 142.57 521.74 Q142.57 512.99 145.626 508.407 Q148.704 503.8 154.515 503.8 Z\" fill=\"#000000\" fill-rule=\"evenodd\" fill-opacity=\"1\" /><path clip-path=\"url(#clip080)\" d=\"M 0 0 M181.528 507.504 Q177.917 507.504 176.089 511.069 Q174.283 514.61 174.283 521.74 Q174.283 528.846 176.089 532.411 Q177.917 535.953 181.528 535.953 Q185.163 535.953 186.968 532.411 Q188.797 528.846 188.797 521.74 Q188.797 514.61 186.968 511.069 Q185.163 507.504 181.528 507.504 M181.528 503.8 Q187.338 503.8 190.394 508.407 Q193.473 512.99 193.473 521.74 Q193.473 530.467 190.394 535.073 Q187.338 539.656 181.528 539.656 Q175.718 539.656 172.639 535.073 Q169.584 530.467 169.584 521.74 Q169.584 512.99 172.639 508.407 Q175.718 503.8 181.528 503.8 Z\" fill=\"#000000\" fill-rule=\"evenodd\" fill-opacity=\"1\" /><path clip-path=\"url(#clip080)\" d=\"M 0 0 M118.543 280.337 L136.899 280.337 L136.899 284.273 L122.825 284.273 L122.825 292.745 Q123.843 292.397 124.862 292.235 Q125.88 292.05 126.899 292.05 Q132.686 292.05 136.066 295.222 Q139.445 298.393 139.445 303.809 Q139.445 309.388 135.973 312.49 Q132.501 315.569 126.181 315.569 Q124.005 315.569 121.737 315.198 Q119.492 314.828 117.084 314.087 L117.084 309.388 Q119.168 310.522 121.39 311.078 Q123.612 311.634 126.089 311.634 Q130.093 311.634 132.431 309.527 Q134.769 307.421 134.769 303.809 Q134.769 300.198 132.431 298.092 Q130.093 295.985 126.089 295.985 Q124.214 295.985 122.339 296.402 Q120.487 296.819 118.543 297.698 L118.543 280.337 Z\" fill=\"#000000\" fill-rule=\"evenodd\" fill-opacity=\"1\" /><path clip-path=\"url(#clip080)\" d=\"M 0 0 M154.515 283.416 Q150.903 283.416 149.075 286.981 Q147.269 290.523 147.269 297.652 Q147.269 304.759 149.075 308.323 Q150.903 311.865 154.515 311.865 Q158.149 311.865 159.954 308.323 Q161.783 304.759 161.783 297.652 Q161.783 290.523 159.954 286.981 Q158.149 283.416 154.515 283.416 M154.515 279.712 Q160.325 279.712 163.38 284.319 Q166.459 288.902 166.459 297.652 Q166.459 306.379 163.38 310.985 Q160.325 315.569 154.515 315.569 Q148.704 315.569 145.626 310.985 Q142.57 306.379 142.57 297.652 Q142.57 288.902 145.626 284.319 Q148.704 279.712 154.515 279.712 Z\" fill=\"#000000\" fill-rule=\"evenodd\" fill-opacity=\"1\" /><path clip-path=\"url(#clip080)\" d=\"M 0 0 M181.528 283.416 Q177.917 283.416 176.089 286.981 Q174.283 290.523 174.283 297.652 Q174.283 304.759 176.089 308.323 Q177.917 311.865 181.528 311.865 Q185.163 311.865 186.968 308.323 Q188.797 304.759 188.797 297.652 Q188.797 290.523 186.968 286.981 Q185.163 283.416 181.528 283.416 M181.528 279.712 Q187.338 279.712 190.394 284.319 Q193.473 288.902 193.473 297.652 Q193.473 306.379 190.394 310.985 Q187.338 315.569 181.528 315.569 Q175.718 315.569 172.639 310.985 Q169.584 306.379 169.584 297.652 Q169.584 288.902 172.639 284.319 Q175.718 279.712 181.528 279.712 Z\" fill=\"#000000\" fill-rule=\"evenodd\" fill-opacity=\"1\" /><path clip-path=\"url(#clip080)\" d=\"M 0 0 M127.917 71.6662 Q124.769 71.6662 122.918 73.8189 Q121.089 75.9717 121.089 79.7217 Q121.089 83.4485 122.918 85.6244 Q124.769 87.7772 127.917 87.7772 Q131.066 87.7772 132.894 85.6244 Q134.746 83.4485 134.746 79.7217 Q134.746 75.9717 132.894 73.8189 Q131.066 71.6662 127.917 71.6662 M137.2 57.0135 L137.2 61.2727 Q135.441 60.4394 133.635 59.9996 Q131.853 59.5598 130.093 59.5598 Q125.464 59.5598 123.01 62.6847 Q120.58 65.8097 120.232 72.1291 Q121.598 70.1153 123.658 69.0504 Q125.718 67.9625 128.195 67.9625 Q133.404 67.9625 136.413 71.1338 Q139.445 74.2819 139.445 79.7217 Q139.445 85.0457 136.297 88.2633 Q133.149 91.4809 127.917 91.4809 Q121.922 91.4809 118.751 86.8976 Q115.58 82.2911 115.58 73.5643 Q115.58 65.3699 119.468 60.5088 Q123.357 55.6246 129.908 55.6246 Q131.667 55.6246 133.45 55.9718 Q135.255 56.319 137.2 57.0135 Z\" fill=\"#000000\" fill-rule=\"evenodd\" fill-opacity=\"1\" /><path clip-path=\"url(#clip080)\" d=\"M 0 0 M154.515 59.3283 Q150.903 59.3283 149.075 62.8931 Q147.269 66.4347 147.269 73.5643 Q147.269 80.6708 149.075 84.2356 Q150.903 87.7772 154.515 87.7772 Q158.149 87.7772 159.954 84.2356 Q161.783 80.6708 161.783 73.5643 Q161.783 66.4347 159.954 62.8931 Q158.149 59.3283 154.515 59.3283 M154.515 55.6246 Q160.325 55.6246 163.38 60.2311 Q166.459 64.8144 166.459 73.5643 Q166.459 82.2911 163.38 86.8976 Q160.325 91.4809 154.515 91.4809 Q148.704 91.4809 145.626 86.8976 Q142.57 82.2911 142.57 73.5643 Q142.57 64.8144 145.626 60.2311 Q148.704 55.6246 154.515 55.6246 Z\" fill=\"#000000\" fill-rule=\"evenodd\" fill-opacity=\"1\" /><path clip-path=\"url(#clip080)\" d=\"M 0 0 M181.528 59.3283 Q177.917 59.3283 176.089 62.8931 Q174.283 66.4347 174.283 73.5643 Q174.283 80.6708 176.089 84.2356 Q177.917 87.7772 181.528 87.7772 Q185.163 87.7772 186.968 84.2356 Q188.797 80.6708 188.797 73.5643 Q188.797 66.4347 186.968 62.8931 Q185.163 59.3283 181.528 59.3283 M181.528 55.6246 Q187.338 55.6246 190.394 60.2311 Q193.473 64.8144 193.473 73.5643 Q193.473 82.2911 190.394 86.8976 Q187.338 91.4809 181.528 91.4809 Q175.718 91.4809 172.639 86.8976 Q169.584 82.2911 169.584 73.5643 Q169.584 64.8144 172.639 60.2311 Q175.718 55.6246 181.528 55.6246 Z\" fill=\"#000000\" fill-rule=\"evenodd\" fill-opacity=\"1\" /><path clip-path=\"url(#clip080)\" d=\"M 0 0 M16.4842 1168.03 L16.4842 1140.72 L21.895 1140.72 L21.895 1161.6 L35.8996 1161.6 L35.8996 1142.76 L41.3104 1142.76 L41.3104 1161.6 L64.0042 1161.6 L64.0042 1168.03 L16.4842 1168.03 Z\" fill=\"#000000\" fill-rule=\"evenodd\" fill-opacity=\"1\" /><path clip-path=\"url(#clip080)\" d=\"M 0 0 M33.8307 1118.67 Q33.2578 1119.65 33.0032 1120.83 Q32.7167 1121.98 32.7167 1123.38 Q32.7167 1128.34 35.9632 1131.02 Q39.1779 1133.66 45.2253 1133.66 L64.0042 1133.66 L64.0042 1139.55 L28.3562 1139.55 L28.3562 1133.66 L33.8944 1133.66 Q30.6479 1131.81 29.0883 1128.85 Q27.4968 1125.89 27.4968 1121.66 Q27.4968 1121.05 27.5923 1120.32 Q27.656 1119.59 27.8151 1118.7 L33.8307 1118.67 Z\" fill=\"#000000\" fill-rule=\"evenodd\" fill-opacity=\"1\" /><path clip-path=\"url(#clip080)\" d=\"M 0 0 M44.7161 1083.47 L47.5806 1083.47 L47.5806 1110.39 Q53.6281 1110.01 56.8109 1106.76 Q59.9619 1103.49 59.9619 1097.66 Q59.9619 1094.29 59.1344 1091.14 Q58.3069 1087.95 56.6518 1084.83 L62.1899 1084.83 Q63.5267 1087.98 64.227 1091.3 Q64.9272 1094.61 64.9272 1098.01 Q64.9272 1106.54 59.9619 1111.54 Q54.9967 1116.5 46.5303 1116.5 Q37.7774 1116.5 32.6531 1111.79 Q27.4968 1107.05 27.4968 1099.03 Q27.4968 1091.84 32.1438 1087.67 Q36.7589 1083.47 44.7161 1083.47 M42.9973 1089.32 Q38.1912 1089.39 35.3266 1092.03 Q32.4621 1094.64 32.4621 1098.97 Q32.4621 1103.87 35.2312 1106.83 Q38.0002 1109.76 43.0292 1110.2 L42.9973 1089.32 Z\" fill=\"#000000\" fill-rule=\"evenodd\" fill-opacity=\"1\" /><path clip-path=\"url(#clip080)\" d=\"M 0 0 M46.212 1073.82 Q52.6732 1073.82 56.3653 1071.18 Q60.0256 1068.51 60.0256 1063.86 Q60.0256 1059.21 56.3653 1056.54 Q52.6732 1053.86 46.212 1053.86 Q39.7508 1053.86 36.0905 1056.54 Q32.3984 1059.21 32.3984 1063.86 Q32.3984 1068.51 36.0905 1071.18 Q39.7508 1073.82 46.212 1073.82 M58.657 1053.86 Q61.8398 1055.71 63.3994 1058.54 Q64.9272 1061.34 64.9272 1065.29 Q64.9272 1071.75 59.771 1075.83 Q54.6147 1079.87 46.212 1079.87 Q37.8093 1079.87 32.6531 1075.83 Q27.4968 1071.75 27.4968 1065.29 Q27.4968 1061.34 29.0564 1058.54 Q30.5842 1055.71 33.7671 1053.86 L28.3562 1053.86 L28.3562 1048.01 L77.5631 1048.01 L77.5631 1053.86 L58.657 1053.86 Z\" fill=\"#000000\" fill-rule=\"evenodd\" fill-opacity=\"1\" /><path clip-path=\"url(#clip080)\" d=\"M 0 0 M49.9359 1042.47 L28.3562 1042.47 L28.3562 1036.61 L49.7131 1036.61 Q54.7739 1036.61 57.3202 1034.64 Q59.8346 1032.67 59.8346 1028.72 Q59.8346 1023.98 56.8109 1021.24 Q53.7872 1018.47 48.5673 1018.47 L28.3562 1018.47 L28.3562 1012.61 L64.0042 1012.61 L64.0042 1018.47 L58.5296 1018.47 Q61.7762 1020.6 63.3676 1023.44 Q64.9272 1026.24 64.9272 1029.96 Q64.9272 1036.1 61.1078 1039.29 Q57.2883 1042.47 49.9359 1042.47 M27.4968 1027.73 L27.4968 1027.73 Z\" fill=\"#000000\" fill-rule=\"evenodd\" fill-opacity=\"1\" /><path clip-path=\"url(#clip080)\" d=\"M 0 0 M44.7161 975.98 L47.5806 975.98 L47.5806 1002.91 Q53.6281 1002.53 56.8109 999.279 Q59.9619 996 59.9619 990.176 Q59.9619 986.802 59.1344 983.651 Q58.3069 980.468 56.6518 977.349 L62.1899 977.349 Q63.5267 980.5 64.227 983.81 Q64.9272 987.12 64.9272 990.526 Q64.9272 999.056 59.9619 1004.05 Q54.9967 1009.02 46.5303 1009.02 Q37.7774 1009.02 32.6531 1004.31 Q27.4968 999.565 27.4968 991.544 Q27.4968 984.351 32.1438 980.182 Q36.7589 975.98 44.7161 975.98 M42.9973 981.837 Q38.1912 981.9 35.3266 984.542 Q32.4621 987.152 32.4621 991.481 Q32.4621 996.382 35.2312 999.342 Q38.0002 1002.27 43.0292 1002.72 L42.9973 981.837 Z\" fill=\"#000000\" fill-rule=\"evenodd\" fill-opacity=\"1\" /><path clip-path=\"url(#clip080)\" d=\"M 0 0 M42.4881 940.205 L64.0042 940.205 L64.0042 946.061 L42.679 946.061 Q37.6183 946.061 35.1038 948.035 Q32.5894 950.008 32.5894 953.955 Q32.5894 958.697 35.6131 961.435 Q38.6368 964.172 43.8567 964.172 L64.0042 964.172 L64.0042 970.06 L28.3562 970.06 L28.3562 964.172 L33.8944 964.172 Q30.6797 962.071 29.0883 959.238 Q27.4968 956.374 27.4968 952.65 Q27.4968 946.507 31.3163 943.356 Q35.1038 940.205 42.4881 940.205 Z\" fill=\"#000000\" fill-rule=\"evenodd\" fill-opacity=\"1\" /><path clip-path=\"url(#clip080)\" d=\"M 0 0 M29.7248 908.408 L35.1993 908.408 Q33.8307 910.891 33.1623 913.405 Q32.4621 915.888 32.4621 918.434 Q32.4621 924.132 36.0905 927.283 Q39.6872 930.434 46.212 930.434 Q52.7369 930.434 56.3653 927.283 Q59.9619 924.132 59.9619 918.434 Q59.9619 915.888 59.2935 913.405 Q58.5933 910.891 57.2247 908.408 L62.6355 908.408 Q63.7814 910.859 64.3543 913.501 Q64.9272 916.111 64.9272 919.071 Q64.9272 927.124 59.8664 931.866 Q54.8057 936.608 46.212 936.608 Q37.491 936.608 32.4939 931.834 Q27.4968 927.028 27.4968 918.689 Q27.4968 915.984 28.0697 913.405 Q28.6108 910.827 29.7248 908.408 Z\" fill=\"#000000\" fill-rule=\"evenodd\" fill-opacity=\"1\" /><path clip-path=\"url(#clip080)\" d=\"M 0 0 M67.3143 887.433 Q73.68 889.916 75.6216 892.271 Q77.5631 894.627 77.5631 898.573 L77.5631 903.252 L72.6615 903.252 L72.6615 899.815 Q72.6615 897.396 71.5157 896.059 Q70.3699 894.722 66.1048 893.099 L63.4312 892.048 L28.3562 906.467 L28.3562 900.26 L56.238 889.12 L28.3562 877.98 L28.3562 871.774 L67.3143 887.433 Z\" fill=\"#000000\" fill-rule=\"evenodd\" fill-opacity=\"1\" /><path clip-path=\"url(#clip080)\" d=\"M 0 0 M32.4621 831.097 Q32.4621 835.807 36.1542 838.545 Q39.8145 841.282 46.212 841.282 Q52.6095 841.282 56.3017 838.577 Q59.9619 835.839 59.9619 831.097 Q59.9619 826.418 56.2698 823.681 Q52.5777 820.944 46.212 820.944 Q39.8781 820.944 36.186 823.681 Q32.4621 826.418 32.4621 831.097 M27.4968 831.097 Q27.4968 823.458 32.4621 819.097 Q37.4273 814.737 46.212 814.737 Q54.9649 814.737 59.9619 819.097 Q64.9272 823.458 64.9272 831.097 Q64.9272 838.767 59.9619 843.128 Q54.9649 847.457 46.212 847.457 Q37.4273 847.457 32.4621 843.128 Q27.4968 838.767 27.4968 831.097 Z\" fill=\"#000000\" fill-rule=\"evenodd\" fill-opacity=\"1\" /><path clip-path=\"url(#clip080)\" d=\"M 0 0 M14.479 790.547 L19.3487 790.547 L19.3487 796.149 Q19.3487 799.3 20.6219 800.541 Q21.895 801.751 25.2052 801.751 L28.3562 801.751 L28.3562 792.107 L32.9077 792.107 L32.9077 801.751 L64.0042 801.751 L64.0042 807.639 L32.9077 807.639 L32.9077 813.241 L28.3562 813.241 L28.3562 807.639 L25.8736 807.639 Q19.9216 807.639 17.2162 804.87 Q14.479 802.101 14.479 796.085 L14.479 790.547 Z\" fill=\"#000000\" fill-rule=\"evenodd\" fill-opacity=\"1\" /><path clip-path=\"url(#clip080)\" d=\"M 0 0 M42.4881 734.052 L64.0042 734.052 L64.0042 739.908 L42.679 739.908 Q37.6183 739.908 35.1038 741.881 Q32.5894 743.855 32.5894 747.802 Q32.5894 752.544 35.6131 755.281 Q38.6368 758.019 43.8567 758.019 L64.0042 758.019 L64.0042 763.907 L14.479 763.907 L14.479 758.019 L33.8944 758.019 Q30.6797 755.918 29.0883 753.085 Q27.4968 750.221 27.4968 746.497 Q27.4968 740.354 31.3163 737.203 Q35.1038 734.052 42.4881 734.052 Z\" fill=\"#000000\" fill-rule=\"evenodd\" fill-opacity=\"1\" /><path clip-path=\"url(#clip080)\" d=\"M 0 0 M46.0847 711.708 Q46.0847 718.806 47.7079 721.543 Q49.3312 724.28 53.2461 724.28 Q56.3653 724.28 58.2114 722.243 Q60.0256 720.174 60.0256 716.641 Q60.0256 711.772 56.5881 708.843 Q53.1188 705.883 47.3897 705.883 L46.0847 705.883 L46.0847 711.708 M43.6657 700.027 L64.0042 700.027 L64.0042 705.883 L58.5933 705.883 Q61.8398 707.889 63.3994 710.88 Q64.9272 713.872 64.9272 718.201 Q64.9272 723.676 61.8716 726.922 Q58.7843 730.137 53.6281 730.137 Q47.6125 730.137 44.5569 726.126 Q41.5014 722.084 41.5014 714.095 L41.5014 705.883 L40.9285 705.883 Q36.8862 705.883 34.6901 708.557 Q32.4621 711.199 32.4621 716.005 Q32.4621 719.06 33.1941 721.957 Q33.9262 724.853 35.3903 727.527 L29.9795 727.527 Q28.7381 724.312 28.1334 721.288 Q27.4968 718.265 27.4968 715.4 Q27.4968 707.666 31.5072 703.846 Q35.5176 700.027 43.6657 700.027 Z\" fill=\"#000000\" fill-rule=\"evenodd\" fill-opacity=\"1\" /><path clip-path=\"url(#clip080)\" d=\"M 0 0 M28.3562 698.085 L28.3562 691.879 L58.275 680.739 L28.3562 669.599 L28.3562 663.392 L64.0042 676.76 L64.0042 684.717 L28.3562 698.085 Z\" fill=\"#000000\" fill-rule=\"evenodd\" fill-opacity=\"1\" /><path clip-path=\"url(#clip080)\" d=\"M 0 0 M28.3562 657.249 L28.3562 651.393 L64.0042 651.393 L64.0042 657.249 L28.3562 657.249 M14.479 657.249 L14.479 651.393 L21.895 651.393 L21.895 657.249 L14.479 657.249 Z\" fill=\"#000000\" fill-rule=\"evenodd\" fill-opacity=\"1\" /><path clip-path=\"url(#clip080)\" d=\"M 0 0 M42.4881 615.618 L64.0042 615.618 L64.0042 621.474 L42.679 621.474 Q37.6183 621.474 35.1038 623.447 Q32.5894 625.421 32.5894 629.368 Q32.5894 634.11 35.6131 636.847 Q38.6368 639.585 43.8567 639.585 L64.0042 639.585 L64.0042 645.473 L28.3562 645.473 L28.3562 639.585 L33.8944 639.585 Q30.6797 637.484 29.0883 634.651 Q27.4968 631.787 27.4968 628.063 Q27.4968 621.92 31.3163 618.769 Q35.1038 615.618 42.4881 615.618 Z\" fill=\"#000000\" fill-rule=\"evenodd\" fill-opacity=\"1\" /><path clip-path=\"url(#clip080)\" d=\"M 0 0 M45.7664 586.017 Q39.4007 586.017 35.8996 588.659 Q32.3984 591.269 32.3984 596.011 Q32.3984 600.722 35.8996 603.364 Q39.4007 605.974 45.7664 605.974 Q52.1003 605.974 55.6014 603.364 Q59.1026 600.722 59.1026 596.011 Q59.1026 591.269 55.6014 588.659 Q52.1003 586.017 45.7664 586.017 M59.58 580.161 Q68.683 580.161 73.1071 584.203 Q77.5631 588.245 77.5631 596.584 Q77.5631 599.672 77.0857 602.409 Q76.6401 605.146 75.6852 607.724 L69.9879 607.724 Q71.3884 605.146 72.0568 602.632 Q72.7252 600.117 72.7252 597.507 Q72.7252 591.746 69.7015 588.882 Q66.7096 586.017 60.6303 586.017 L57.7339 586.017 Q60.885 587.831 62.4446 590.664 Q64.0042 593.497 64.0042 597.444 Q64.0042 604 59.0071 608.011 Q54.01 612.021 45.7664 612.021 Q37.491 612.021 32.4939 608.011 Q27.4968 604 27.4968 597.444 Q27.4968 593.497 29.0564 590.664 Q30.616 587.831 33.7671 586.017 L28.3562 586.017 L28.3562 580.161 L59.58 580.161 Z\" fill=\"#000000\" fill-rule=\"evenodd\" fill-opacity=\"1\" /><path clip-path=\"url(#clip080)\" d=\"M 0 0 M42.4881 523.665 L64.0042 523.665 L64.0042 529.521 L42.679 529.521 Q37.6183 529.521 35.1038 531.495 Q32.5894 533.468 32.5894 537.415 Q32.5894 542.157 35.6131 544.895 Q38.6368 547.632 43.8567 547.632 L64.0042 547.632 L64.0042 553.52 L28.3562 553.52 L28.3562 547.632 L33.8944 547.632 Q30.6797 545.531 29.0883 542.698 Q27.4968 539.834 27.4968 536.11 Q27.4968 529.967 31.3163 526.816 Q35.1038 523.665 42.4881 523.665 Z\" fill=\"#000000\" fill-rule=\"evenodd\" fill-opacity=\"1\" /><path clip-path=\"url(#clip080)\" d=\"M 0 0 M42.4881 467.169 L64.0042 467.169 L64.0042 473.026 L42.679 473.026 Q37.6183 473.026 35.1038 474.999 Q32.5894 476.973 32.5894 480.919 Q32.5894 485.662 35.6131 488.399 Q38.6368 491.136 43.8567 491.136 L64.0042 491.136 L64.0042 497.025 L14.479 497.025 L14.479 491.136 L33.8944 491.136 Q30.6797 489.036 29.0883 486.203 Q27.4968 483.338 27.4968 479.614 Q27.4968 473.471 31.3163 470.32 Q35.1038 467.169 42.4881 467.169 Z\" fill=\"#000000\" fill-rule=\"evenodd\" fill-opacity=\"1\" /><path clip-path=\"url(#clip080)\" d=\"M 0 0 M44.7161 430.535 L47.5806 430.535 L47.5806 457.462 Q53.6281 457.08 56.8109 453.833 Q59.9619 450.555 59.9619 444.73 Q59.9619 441.356 59.1344 438.205 Q58.3069 435.023 56.6518 431.903 L62.1899 431.903 Q63.5267 435.054 64.227 438.365 Q64.9272 441.675 64.9272 445.08 Q64.9272 453.61 59.9619 458.607 Q54.9967 463.573 46.5303 463.573 Q37.7774 463.573 32.6531 458.862 Q27.4968 454.12 27.4968 446.099 Q27.4968 438.906 32.1438 434.736 Q36.7589 430.535 44.7161 430.535 M42.9973 436.391 Q38.1912 436.455 35.3266 439.097 Q32.4621 441.707 32.4621 446.035 Q32.4621 450.937 35.2312 453.897 Q38.0002 456.825 43.0292 457.271 L42.9973 436.391 Z\" fill=\"#000000\" fill-rule=\"evenodd\" fill-opacity=\"1\" /><path clip-path=\"url(#clip080)\" d=\"M 0 0 M46.0847 408.191 Q46.0847 415.289 47.7079 418.026 Q49.3312 420.763 53.2461 420.763 Q56.3653 420.763 58.2114 418.726 Q60.0256 416.657 60.0256 413.125 Q60.0256 408.255 56.5881 405.327 Q53.1188 402.366 47.3897 402.366 L46.0847 402.366 L46.0847 408.191 M43.6657 396.51 L64.0042 396.51 L64.0042 402.366 L58.5933 402.366 Q61.8398 404.372 63.3994 407.364 Q64.9272 410.355 64.9272 414.684 Q64.9272 420.159 61.8716 423.405 Q58.7843 426.62 53.6281 426.62 Q47.6125 426.62 44.5569 422.609 Q41.5014 418.567 41.5014 410.578 L41.5014 402.366 L40.9285 402.366 Q36.8862 402.366 34.6901 405.04 Q32.4621 407.682 32.4621 412.488 Q32.4621 415.543 33.1941 418.44 Q33.9262 421.336 35.3903 424.01 L29.9795 424.01 Q28.7381 420.795 28.1334 417.771 Q27.4968 414.748 27.4968 411.883 Q27.4968 404.149 31.5072 400.329 Q35.5176 396.51 43.6657 396.51 Z\" fill=\"#000000\" fill-rule=\"evenodd\" fill-opacity=\"1\" /><path clip-path=\"url(#clip080)\" d=\"M 0 0 M33.7671 366.909 L14.479 366.909 L14.479 361.053 L64.0042 361.053 L64.0042 366.909 L58.657 366.909 Q61.8398 368.756 63.3994 371.588 Q64.9272 374.389 64.9272 378.336 Q64.9272 384.797 59.771 388.871 Q54.6147 392.913 46.212 392.913 Q37.8093 392.913 32.6531 388.871 Q27.4968 384.797 27.4968 378.336 Q27.4968 374.389 29.0564 371.588 Q30.5842 368.756 33.7671 366.909 M46.212 386.866 Q52.6732 386.866 56.3653 384.224 Q60.0256 381.551 60.0256 376.904 Q60.0256 372.257 56.3653 369.583 Q52.6732 366.909 46.212 366.909 Q39.7508 366.909 36.0905 369.583 Q32.3984 372.257 32.3984 376.904 Q32.3984 381.551 36.0905 384.224 Q39.7508 386.866 46.212 386.866 Z\" fill=\"#000000\" fill-rule=\"evenodd\" fill-opacity=\"1\" /><path clip-path=\"url(#clip080)\" d=\"M 0 0 M29.4065 332.185 L34.9447 332.185 Q33.6716 334.667 33.035 337.341 Q32.3984 340.014 32.3984 342.879 Q32.3984 347.239 33.7352 349.436 Q35.072 351.6 37.7456 351.6 Q39.7826 351.6 40.9603 350.04 Q42.1061 348.481 43.1565 343.77 L43.6021 341.765 Q44.9389 335.527 47.3897 332.917 Q49.8086 330.275 54.1691 330.275 Q59.1344 330.275 62.0308 334.222 Q64.9272 338.136 64.9272 345.011 Q64.9272 347.876 64.3543 350.995 Q63.8132 354.083 62.6992 357.52 L56.6518 357.52 Q58.3387 354.274 59.198 351.123 Q60.0256 347.972 60.0256 344.884 Q60.0256 340.746 58.6251 338.518 Q57.1929 336.29 54.6147 336.29 Q52.2276 336.29 50.9545 337.914 Q49.6813 339.505 48.5037 344.948 L48.0262 346.985 Q46.8804 352.428 44.5251 354.846 Q42.138 357.265 38.0002 357.265 Q32.9713 357.265 30.2341 353.701 Q27.4968 350.136 27.4968 343.579 Q27.4968 340.333 27.9743 337.468 Q28.4517 334.604 29.4065 332.185 Z\" fill=\"#000000\" fill-rule=\"evenodd\" fill-opacity=\"1\" /><polyline clip-path=\"url(#clip083)\" style=\"stroke:#009af9; stroke-width:4; stroke-opacity:1; fill:none\" points=\"\n",
       "  289.566,1377.72 443.65,1303.77 597.734,839.91 751.819,618.063 905.903,113.865 1059.99,86.9749 1214.07,167.646 1368.16,752.516 1522.24,1034.87 1676.33,1276.88 \n",
       "  1830.41,1357.55 1984.49,1384.44 2138.58,1404.61 2292.66,1411.33 \n",
       "  \"/>\n",
       "<path clip-path=\"url(#clip083)\" d=\"M289.566 1393.72 L278.254 1389.03 L273.566 1377.72 L278.254 1366.41 L289.566 1361.72 L300.878 1366.41 L305.566 1377.72 L300.878 1389.03 Z\" fill=\"#009af9\" fill-rule=\"evenodd\" fill-opacity=\"1\" stroke=\"#000000\" stroke-opacity=\"1\" stroke-width=\"3.2\"/>\n",
       "<path clip-path=\"url(#clip083)\" d=\"M443.65 1319.77 L432.338 1315.08 L427.65 1303.77 L432.338 1292.46 L443.65 1287.77 L454.962 1292.46 L459.65 1303.77 L454.962 1315.08 Z\" fill=\"#009af9\" fill-rule=\"evenodd\" fill-opacity=\"1\" stroke=\"#000000\" stroke-opacity=\"1\" stroke-width=\"3.2\"/>\n",
       "<path clip-path=\"url(#clip083)\" d=\"M597.734 855.91 L586.422 851.222 L581.734 839.91 L586.422 828.598 L597.734 823.91 L609.046 828.598 L613.734 839.91 L609.046 851.222 Z\" fill=\"#009af9\" fill-rule=\"evenodd\" fill-opacity=\"1\" stroke=\"#000000\" stroke-opacity=\"1\" stroke-width=\"3.2\"/>\n",
       "<path clip-path=\"url(#clip083)\" d=\"M751.819 634.063 L740.507 629.375 L735.819 618.063 L740.507 606.751 L751.819 602.063 L763.131 606.751 L767.819 618.063 L763.131 629.375 Z\" fill=\"#009af9\" fill-rule=\"evenodd\" fill-opacity=\"1\" stroke=\"#000000\" stroke-opacity=\"1\" stroke-width=\"3.2\"/>\n",
       "<path clip-path=\"url(#clip083)\" d=\"M905.903 129.865 L894.591 125.177 L889.903 113.865 L894.591 102.553 L905.903 97.8654 L917.215 102.553 L921.903 113.865 L917.215 125.177 Z\" fill=\"#009af9\" fill-rule=\"evenodd\" fill-opacity=\"1\" stroke=\"#000000\" stroke-opacity=\"1\" stroke-width=\"3.2\"/>\n",
       "<path clip-path=\"url(#clip083)\" d=\"M1059.99 102.975 L1048.68 98.2869 L1043.99 86.9749 L1048.68 75.6629 L1059.99 70.9749 L1071.3 75.6629 L1075.99 86.9749 L1071.3 98.2869 Z\" fill=\"#009af9\" fill-rule=\"evenodd\" fill-opacity=\"1\" stroke=\"#000000\" stroke-opacity=\"1\" stroke-width=\"3.2\"/>\n",
       "<path clip-path=\"url(#clip083)\" d=\"M1214.07 183.646 L1202.76 178.958 L1198.07 167.646 L1202.76 156.334 L1214.07 151.646 L1225.38 156.334 L1230.07 167.646 L1225.38 178.958 Z\" fill=\"#009af9\" fill-rule=\"evenodd\" fill-opacity=\"1\" stroke=\"#000000\" stroke-opacity=\"1\" stroke-width=\"3.2\"/>\n",
       "<path clip-path=\"url(#clip083)\" d=\"M1368.16 768.516 L1356.84 763.828 L1352.16 752.516 L1356.84 741.204 L1368.16 736.516 L1379.47 741.204 L1384.16 752.516 L1379.47 763.828 Z\" fill=\"#009af9\" fill-rule=\"evenodd\" fill-opacity=\"1\" stroke=\"#000000\" stroke-opacity=\"1\" stroke-width=\"3.2\"/>\n",
       "<path clip-path=\"url(#clip083)\" d=\"M1522.24 1050.87 L1510.93 1046.18 L1506.24 1034.87 L1510.93 1023.55 L1522.24 1018.87 L1533.55 1023.55 L1538.24 1034.87 L1533.55 1046.18 Z\" fill=\"#009af9\" fill-rule=\"evenodd\" fill-opacity=\"1\" stroke=\"#000000\" stroke-opacity=\"1\" stroke-width=\"3.2\"/>\n",
       "<path clip-path=\"url(#clip083)\" d=\"M1676.33 1292.88 L1665.01 1288.19 L1660.33 1276.88 L1665.01 1265.57 L1676.33 1260.88 L1687.64 1265.57 L1692.33 1276.88 L1687.64 1288.19 Z\" fill=\"#009af9\" fill-rule=\"evenodd\" fill-opacity=\"1\" stroke=\"#000000\" stroke-opacity=\"1\" stroke-width=\"3.2\"/>\n",
       "<path clip-path=\"url(#clip083)\" d=\"M1830.41 1373.55 L1819.1 1368.86 L1814.41 1357.55 L1819.1 1346.24 L1830.41 1341.55 L1841.72 1346.24 L1846.41 1357.55 L1841.72 1368.86 Z\" fill=\"#009af9\" fill-rule=\"evenodd\" fill-opacity=\"1\" stroke=\"#000000\" stroke-opacity=\"1\" stroke-width=\"3.2\"/>\n",
       "<path clip-path=\"url(#clip083)\" d=\"M1984.49 1400.44 L1973.18 1395.76 L1968.49 1384.44 L1973.18 1373.13 L1984.49 1368.44 L1995.81 1373.13 L2000.49 1384.44 L1995.81 1395.76 Z\" fill=\"#009af9\" fill-rule=\"evenodd\" fill-opacity=\"1\" stroke=\"#000000\" stroke-opacity=\"1\" stroke-width=\"3.2\"/>\n",
       "<path clip-path=\"url(#clip083)\" d=\"M2138.58 1420.61 L2127.27 1415.92 L2122.58 1404.61 L2127.27 1393.3 L2138.58 1388.61 L2149.89 1393.3 L2154.58 1404.61 L2149.89 1415.92 Z\" fill=\"#009af9\" fill-rule=\"evenodd\" fill-opacity=\"1\" stroke=\"#000000\" stroke-opacity=\"1\" stroke-width=\"3.2\"/>\n",
       "<path clip-path=\"url(#clip083)\" d=\"M2292.66 1427.33 L2281.35 1422.65 L2276.66 1411.33 L2281.35 1400.02 L2292.66 1395.33 L2303.97 1400.02 L2308.66 1411.33 L2303.97 1422.65 Z\" fill=\"#009af9\" fill-rule=\"evenodd\" fill-opacity=\"1\" stroke=\"#000000\" stroke-opacity=\"1\" stroke-width=\"3.2\"/>\n",
       "<path clip-path=\"url(#clip080)\" d=\"\n",
       "M1995.04 214.998 L2281.98 214.998 L2281.98 94.0381 L1995.04 94.0381  Z\n",
       "  \" fill=\"#ffffff\" fill-rule=\"evenodd\" fill-opacity=\"1\"/>\n",
       "<polyline clip-path=\"url(#clip080)\" style=\"stroke:#000000; stroke-width:4; stroke-opacity:1; fill:none\" points=\"\n",
       "  1995.04,214.998 2281.98,214.998 2281.98,94.0381 1995.04,94.0381 1995.04,214.998 \n",
       "  \"/>\n",
       "<polyline clip-path=\"url(#clip080)\" style=\"stroke:#009af9; stroke-width:4; stroke-opacity:1; fill:none\" points=\"\n",
       "  2018.63,154.518 2160.19,154.518 \n",
       "  \"/>\n",
       "<path clip-path=\"url(#clip080)\" d=\"M2089.41 180.118 L2071.31 172.617 L2063.81 154.518 L2071.31 136.419 L2089.41 128.918 L2107.51 136.419 L2115.01 154.518 L2107.51 172.617 Z\" fill=\"#009af9\" fill-rule=\"evenodd\" fill-opacity=\"1\" stroke=\"#000000\" stroke-opacity=\"1\" stroke-width=\"5.12\"/>\n",
       "<path clip-path=\"url(#clip080)\" d=\"M 0 0 M2197.62 174.206 Q2195.81 178.835 2194.1 180.247 Q2192.39 181.659 2189.52 181.659 L2186.12 181.659 L2186.12 178.094 L2188.62 178.094 Q2190.37 178.094 2191.35 177.261 Q2192.32 176.428 2193.5 173.326 L2194.26 171.381 L2183.78 145.872 L2188.29 145.872 L2196.39 166.15 L2204.49 145.872 L2209.01 145.872 L2197.62 174.206 Z\" fill=\"#000000\" fill-rule=\"evenodd\" fill-opacity=\"1\" /><path clip-path=\"url(#clip080)\" d=\"M 0 0 M2214.89 167.863 L2222.53 167.863 L2222.53 141.497 L2214.22 143.164 L2214.22 138.905 L2222.48 137.238 L2227.16 137.238 L2227.16 167.863 L2234.8 167.863 L2234.8 171.798 L2214.89 171.798 L2214.89 167.863 Z\" fill=\"#000000\" fill-rule=\"evenodd\" fill-opacity=\"1\" /></svg>\n"
      ]
     },
     "execution_count": 79,
     "metadata": {},
     "output_type": "execute_result"
    }
   ],
   "source": [
    "using LaTeXStrings\n",
    "\n",
    "plot(0:maximum(results), counts, m=:o)\n",
    "ylabel!(\"Frequency of having n heads\")\n",
    "xlabel!(L\"n\")"
   ]
  },
  {
   "cell_type": "code",
   "execution_count": 80,
   "metadata": {},
   "outputs": [
    {
     "data": {
      "text/plain": [
       "count_them (generic function with 1 method)"
      ]
     },
     "execution_count": 80,
     "metadata": {},
     "output_type": "execute_result"
    }
   ],
   "source": [
    "function count_them(results)\n",
    "    counts = zeros(Int, maximum(results) + 1)\n",
    "    \n",
    "    for score in results\n",
    "        counts[score + 1] += 1\n",
    "    end\n",
    "    \n",
    "    return counts\n",
    "end"
   ]
  },
  {
   "cell_type": "code",
   "execution_count": 81,
   "metadata": {},
   "outputs": [
    {
     "data": {
      "text/plain": [
       "run_experiments (generic function with 2 methods)"
      ]
     },
     "execution_count": 81,
     "metadata": {},
     "output_type": "execute_result"
    }
   ],
   "source": [
    "function run_experiments(p, N, Nₑₓₚₜₛ = 1000)\n",
    "    results = [bernoulli_experiment(p, N) for i in 1:Nₑₓₚₜₛ]\n",
    "end"
   ]
  },
  {
   "cell_type": "code",
   "execution_count": 83,
   "metadata": {},
   "outputs": [
    {
     "data": {
      "image/svg+xml": [
       "<?xml version=\"1.0\" encoding=\"utf-8\"?>\n",
       "<svg xmlns=\"http://www.w3.org/2000/svg\" xmlns:xlink=\"http://www.w3.org/1999/xlink\" width=\"600\" height=\"400\" viewBox=\"0 0 2400 1600\">\n",
       "<defs>\n",
       "  <clipPath id=\"clip140\">\n",
       "    <rect x=\"0\" y=\"0\" width=\"2400\" height=\"1600\"/>\n",
       "  </clipPath>\n",
       "</defs>\n",
       "<path clip-path=\"url(#clip140)\" d=\"\n",
       "M0 1600 L2400 1600 L2400 0 L0 0  Z\n",
       "  \" fill=\"#ffffff\" fill-rule=\"evenodd\" fill-opacity=\"1\"/>\n",
       "<defs>\n",
       "  <clipPath id=\"clip141\">\n",
       "    <rect x=\"480\" y=\"0\" width=\"1681\" height=\"1600\"/>\n",
       "  </clipPath>\n",
       "</defs>\n",
       "<path clip-path=\"url(#clip140)\" d=\"\n",
       "M189.978 1486.45 L2352.76 1486.45 L2352.76 47.2441 L189.978 47.2441  Z\n",
       "  \" fill=\"#ffffff\" fill-rule=\"evenodd\" fill-opacity=\"1\"/>\n",
       "<defs>\n",
       "  <clipPath id=\"clip142\">\n",
       "    <rect x=\"189\" y=\"47\" width=\"2164\" height=\"1440\"/>\n",
       "  </clipPath>\n",
       "</defs>\n",
       "<polyline clip-path=\"url(#clip142)\" style=\"stroke:#000000; stroke-width:2; stroke-opacity:0.1; fill:none\" points=\"\n",
       "  251.188,1486.45 251.188,47.2441 \n",
       "  \"/>\n",
       "<polyline clip-path=\"url(#clip142)\" style=\"stroke:#000000; stroke-width:2; stroke-opacity:0.1; fill:none\" points=\"\n",
       "  615.538,1486.45 615.538,47.2441 \n",
       "  \"/>\n",
       "<polyline clip-path=\"url(#clip142)\" style=\"stroke:#000000; stroke-width:2; stroke-opacity:0.1; fill:none\" points=\"\n",
       "  979.887,1486.45 979.887,47.2441 \n",
       "  \"/>\n",
       "<polyline clip-path=\"url(#clip142)\" style=\"stroke:#000000; stroke-width:2; stroke-opacity:0.1; fill:none\" points=\"\n",
       "  1344.24,1486.45 1344.24,47.2441 \n",
       "  \"/>\n",
       "<polyline clip-path=\"url(#clip142)\" style=\"stroke:#000000; stroke-width:2; stroke-opacity:0.1; fill:none\" points=\"\n",
       "  1708.59,1486.45 1708.59,47.2441 \n",
       "  \"/>\n",
       "<polyline clip-path=\"url(#clip142)\" style=\"stroke:#000000; stroke-width:2; stroke-opacity:0.1; fill:none\" points=\"\n",
       "  2072.94,1486.45 2072.94,47.2441 \n",
       "  \"/>\n",
       "<polyline clip-path=\"url(#clip140)\" style=\"stroke:#000000; stroke-width:4; stroke-opacity:1; fill:none\" points=\"\n",
       "  189.978,1486.45 2352.76,1486.45 \n",
       "  \"/>\n",
       "<polyline clip-path=\"url(#clip140)\" style=\"stroke:#000000; stroke-width:4; stroke-opacity:1; fill:none\" points=\"\n",
       "  251.188,1486.45 251.188,1469.18 \n",
       "  \"/>\n",
       "<polyline clip-path=\"url(#clip140)\" style=\"stroke:#000000; stroke-width:4; stroke-opacity:1; fill:none\" points=\"\n",
       "  615.538,1486.45 615.538,1469.18 \n",
       "  \"/>\n",
       "<polyline clip-path=\"url(#clip140)\" style=\"stroke:#000000; stroke-width:4; stroke-opacity:1; fill:none\" points=\"\n",
       "  979.887,1486.45 979.887,1469.18 \n",
       "  \"/>\n",
       "<polyline clip-path=\"url(#clip140)\" style=\"stroke:#000000; stroke-width:4; stroke-opacity:1; fill:none\" points=\"\n",
       "  1344.24,1486.45 1344.24,1469.18 \n",
       "  \"/>\n",
       "<polyline clip-path=\"url(#clip140)\" style=\"stroke:#000000; stroke-width:4; stroke-opacity:1; fill:none\" points=\"\n",
       "  1708.59,1486.45 1708.59,1469.18 \n",
       "  \"/>\n",
       "<polyline clip-path=\"url(#clip140)\" style=\"stroke:#000000; stroke-width:4; stroke-opacity:1; fill:none\" points=\"\n",
       "  2072.94,1486.45 2072.94,1469.18 \n",
       "  \"/>\n",
       "<path clip-path=\"url(#clip140)\" d=\"M 0 0 M232.705 1515.64 Q229.094 1515.64 227.265 1519.2 Q225.459 1522.75 225.459 1529.87 Q225.459 1536.98 227.265 1540.55 Q229.094 1544.09 232.705 1544.09 Q236.339 1544.09 238.144 1540.55 Q239.973 1536.98 239.973 1529.87 Q239.973 1522.75 238.144 1519.2 Q236.339 1515.64 232.705 1515.64 M232.705 1511.93 Q238.515 1511.93 241.57 1516.54 Q244.649 1521.12 244.649 1529.87 Q244.649 1538.6 241.57 1543.21 Q238.515 1547.79 232.705 1547.79 Q226.895 1547.79 223.816 1543.21 Q220.76 1538.6 220.76 1529.87 Q220.76 1521.12 223.816 1516.54 Q226.895 1511.93 232.705 1511.93 Z\" fill=\"#000000\" fill-rule=\"evenodd\" fill-opacity=\"1\" /><path clip-path=\"url(#clip140)\" d=\"M 0 0 M249.718 1541.24 L254.603 1541.24 L254.603 1547.12 L249.718 1547.12 L249.718 1541.24 Z\" fill=\"#000000\" fill-rule=\"evenodd\" fill-opacity=\"1\" /><path clip-path=\"url(#clip140)\" d=\"M 0 0 M269.672 1515.64 Q266.061 1515.64 264.232 1519.2 Q262.427 1522.75 262.427 1529.87 Q262.427 1536.98 264.232 1540.55 Q266.061 1544.09 269.672 1544.09 Q273.306 1544.09 275.112 1540.55 Q276.941 1536.98 276.941 1529.87 Q276.941 1522.75 275.112 1519.2 Q273.306 1515.64 269.672 1515.64 M269.672 1511.93 Q275.482 1511.93 278.538 1516.54 Q281.616 1521.12 281.616 1529.87 Q281.616 1538.6 278.538 1543.21 Q275.482 1547.79 269.672 1547.79 Q263.862 1547.79 260.783 1543.21 Q257.728 1538.6 257.728 1529.87 Q257.728 1521.12 260.783 1516.54 Q263.862 1511.93 269.672 1511.93 Z\" fill=\"#000000\" fill-rule=\"evenodd\" fill-opacity=\"1\" /><path clip-path=\"url(#clip140)\" d=\"M 0 0 M592.205 1543.18 L608.524 1543.18 L608.524 1547.12 L586.58 1547.12 L586.58 1543.18 Q589.242 1540.43 593.825 1535.8 Q598.431 1531.15 599.612 1529.81 Q601.857 1527.28 602.737 1525.55 Q603.64 1523.79 603.64 1522.1 Q603.64 1519.34 601.695 1517.61 Q599.774 1515.87 596.672 1515.87 Q594.473 1515.87 592.019 1516.63 Q589.589 1517.4 586.811 1518.95 L586.811 1514.23 Q589.635 1513.09 592.089 1512.51 Q594.543 1511.93 596.58 1511.93 Q601.95 1511.93 605.144 1514.62 Q608.339 1517.31 608.339 1521.8 Q608.339 1523.93 607.529 1525.85 Q606.742 1527.74 604.635 1530.34 Q604.056 1531.01 600.955 1534.23 Q597.853 1537.42 592.205 1543.18 Z\" fill=\"#000000\" fill-rule=\"evenodd\" fill-opacity=\"1\" /><path clip-path=\"url(#clip140)\" d=\"M 0 0 M613.593 1541.24 L618.478 1541.24 L618.478 1547.12 L613.593 1547.12 L613.593 1541.24 Z\" fill=\"#000000\" fill-rule=\"evenodd\" fill-opacity=\"1\" /><path clip-path=\"url(#clip140)\" d=\"M 0 0 M623.593 1512.56 L641.95 1512.56 L641.95 1516.5 L627.876 1516.5 L627.876 1524.97 Q628.894 1524.62 629.913 1524.46 Q630.931 1524.27 631.95 1524.27 Q637.737 1524.27 641.116 1527.44 Q644.496 1530.62 644.496 1536.03 Q644.496 1541.61 641.024 1544.71 Q637.552 1547.79 631.232 1547.79 Q629.056 1547.79 626.788 1547.42 Q624.542 1547.05 622.135 1546.31 L622.135 1541.61 Q624.218 1542.74 626.441 1543.3 Q628.663 1543.86 631.14 1543.86 Q635.144 1543.86 637.482 1541.75 Q639.82 1539.64 639.82 1536.03 Q639.82 1532.42 637.482 1530.31 Q635.144 1528.21 631.14 1528.21 Q629.265 1528.21 627.39 1528.62 Q625.538 1529.04 623.593 1529.92 L623.593 1512.56 Z\" fill=\"#000000\" fill-rule=\"evenodd\" fill-opacity=\"1\" /><path clip-path=\"url(#clip140)\" d=\"M 0 0 M951.681 1512.56 L970.038 1512.56 L970.038 1516.5 L955.964 1516.5 L955.964 1524.97 Q956.982 1524.62 958.001 1524.46 Q959.019 1524.27 960.038 1524.27 Q965.825 1524.27 969.204 1527.44 Q972.584 1530.62 972.584 1536.03 Q972.584 1541.61 969.112 1544.71 Q965.64 1547.79 959.32 1547.79 Q957.144 1547.79 954.876 1547.42 Q952.63 1547.05 950.223 1546.31 L950.223 1541.61 Q952.306 1542.74 954.529 1543.3 Q956.751 1543.86 959.228 1543.86 Q963.232 1543.86 965.57 1541.75 Q967.908 1539.64 967.908 1536.03 Q967.908 1532.42 965.57 1530.31 Q963.232 1528.21 959.228 1528.21 Q957.353 1528.21 955.478 1528.62 Q953.626 1529.04 951.681 1529.92 L951.681 1512.56 Z\" fill=\"#000000\" fill-rule=\"evenodd\" fill-opacity=\"1\" /><path clip-path=\"url(#clip140)\" d=\"M 0 0 M977.653 1541.24 L982.538 1541.24 L982.538 1547.12 L977.653 1547.12 L977.653 1541.24 Z\" fill=\"#000000\" fill-rule=\"evenodd\" fill-opacity=\"1\" /><path clip-path=\"url(#clip140)\" d=\"M 0 0 M997.607 1515.64 Q993.996 1515.64 992.167 1519.2 Q990.362 1522.75 990.362 1529.87 Q990.362 1536.98 992.167 1540.55 Q993.996 1544.09 997.607 1544.09 Q1001.24 1544.09 1003.05 1540.55 Q1004.88 1536.98 1004.88 1529.87 Q1004.88 1522.75 1003.05 1519.2 Q1001.24 1515.64 997.607 1515.64 M997.607 1511.93 Q1003.42 1511.93 1006.47 1516.54 Q1009.55 1521.12 1009.55 1529.87 Q1009.55 1538.6 1006.47 1543.21 Q1003.42 1547.79 997.607 1547.79 Q991.797 1547.79 988.718 1543.21 Q985.663 1538.6 985.663 1529.87 Q985.663 1521.12 988.718 1516.54 Q991.797 1511.93 997.607 1511.93 Z\" fill=\"#000000\" fill-rule=\"evenodd\" fill-opacity=\"1\" /><path clip-path=\"url(#clip140)\" d=\"M 0 0 M1315.14 1512.56 L1337.36 1512.56 L1337.36 1514.55 L1324.82 1547.12 L1319.93 1547.12 L1331.74 1516.5 L1315.14 1516.5 L1315.14 1512.56 Z\" fill=\"#000000\" fill-rule=\"evenodd\" fill-opacity=\"1\" /><path clip-path=\"url(#clip140)\" d=\"M 0 0 M1342.43 1541.24 L1347.32 1541.24 L1347.32 1547.12 L1342.43 1547.12 L1342.43 1541.24 Z\" fill=\"#000000\" fill-rule=\"evenodd\" fill-opacity=\"1\" /><path clip-path=\"url(#clip140)\" d=\"M 0 0 M1352.43 1512.56 L1370.79 1512.56 L1370.79 1516.5 L1356.71 1516.5 L1356.71 1524.97 Q1357.73 1524.62 1358.75 1524.46 Q1359.77 1524.27 1360.79 1524.27 Q1366.57 1524.27 1369.95 1527.44 Q1373.33 1530.62 1373.33 1536.03 Q1373.33 1541.61 1369.86 1544.71 Q1366.39 1547.79 1360.07 1547.79 Q1357.89 1547.79 1355.63 1547.42 Q1353.38 1547.05 1350.97 1546.31 L1350.97 1541.61 Q1353.06 1542.74 1355.28 1543.3 Q1357.5 1543.86 1359.98 1543.86 Q1363.98 1543.86 1366.32 1541.75 Q1368.66 1539.64 1368.66 1536.03 Q1368.66 1532.42 1366.32 1530.31 Q1363.98 1528.21 1359.98 1528.21 Q1358.1 1528.21 1356.23 1528.62 Q1354.38 1529.04 1352.43 1529.92 L1352.43 1512.56 Z\" fill=\"#000000\" fill-rule=\"evenodd\" fill-opacity=\"1\" /><path clip-path=\"url(#clip140)\" d=\"M 0 0 M1666.98 1543.18 L1674.62 1543.18 L1674.62 1516.82 L1666.31 1518.49 L1666.31 1514.23 L1674.57 1512.56 L1679.25 1512.56 L1679.25 1543.18 L1686.88 1543.18 L1686.88 1547.12 L1666.98 1547.12 L1666.98 1543.18 Z\" fill=\"#000000\" fill-rule=\"evenodd\" fill-opacity=\"1\" /><path clip-path=\"url(#clip140)\" d=\"M 0 0 M1701.95 1515.64 Q1698.34 1515.64 1696.51 1519.2 Q1694.71 1522.75 1694.71 1529.87 Q1694.71 1536.98 1696.51 1540.55 Q1698.34 1544.09 1701.95 1544.09 Q1705.59 1544.09 1707.39 1540.55 Q1709.22 1536.98 1709.22 1529.87 Q1709.22 1522.75 1707.39 1519.2 Q1705.59 1515.64 1701.95 1515.64 M1701.95 1511.93 Q1707.76 1511.93 1710.82 1516.54 Q1713.9 1521.12 1713.9 1529.87 Q1713.9 1538.6 1710.82 1543.21 Q1707.76 1547.79 1701.95 1547.79 Q1696.14 1547.79 1693.07 1543.21 Q1690.01 1538.6 1690.01 1529.87 Q1690.01 1521.12 1693.07 1516.54 Q1696.14 1511.93 1701.95 1511.93 Z\" fill=\"#000000\" fill-rule=\"evenodd\" fill-opacity=\"1\" /><path clip-path=\"url(#clip140)\" d=\"M 0 0 M1718.97 1541.24 L1723.85 1541.24 L1723.85 1547.12 L1718.97 1547.12 L1718.97 1541.24 Z\" fill=\"#000000\" fill-rule=\"evenodd\" fill-opacity=\"1\" /><path clip-path=\"url(#clip140)\" d=\"M 0 0 M1738.92 1515.64 Q1735.31 1515.64 1733.48 1519.2 Q1731.68 1522.75 1731.68 1529.87 Q1731.68 1536.98 1733.48 1540.55 Q1735.31 1544.09 1738.92 1544.09 Q1742.56 1544.09 1744.36 1540.55 Q1746.19 1536.98 1746.19 1529.87 Q1746.19 1522.75 1744.36 1519.2 Q1742.56 1515.64 1738.92 1515.64 M1738.92 1511.93 Q1744.73 1511.93 1747.79 1516.54 Q1750.87 1521.12 1750.87 1529.87 Q1750.87 1538.6 1747.79 1543.21 Q1744.73 1547.79 1738.92 1547.79 Q1733.11 1547.79 1730.03 1543.21 Q1726.98 1538.6 1726.98 1529.87 Q1726.98 1521.12 1730.03 1516.54 Q1733.11 1511.93 1738.92 1511.93 Z\" fill=\"#000000\" fill-rule=\"evenodd\" fill-opacity=\"1\" /><path clip-path=\"url(#clip140)\" d=\"M 0 0 M2032.62 1543.18 L2040.26 1543.18 L2040.26 1516.82 L2031.95 1518.49 L2031.95 1514.23 L2040.22 1512.56 L2044.89 1512.56 L2044.89 1543.18 L2052.53 1543.18 L2052.53 1547.12 L2032.62 1547.12 L2032.62 1543.18 Z\" fill=\"#000000\" fill-rule=\"evenodd\" fill-opacity=\"1\" /><path clip-path=\"url(#clip140)\" d=\"M 0 0 M2061.63 1543.18 L2077.95 1543.18 L2077.95 1547.12 L2056 1547.12 L2056 1543.18 Q2058.66 1540.43 2063.25 1535.8 Q2067.85 1531.15 2069.04 1529.81 Q2071.28 1527.28 2072.16 1525.55 Q2073.06 1523.79 2073.06 1522.1 Q2073.06 1519.34 2071.12 1517.61 Q2069.2 1515.87 2066.1 1515.87 Q2063.9 1515.87 2061.44 1516.63 Q2059.01 1517.4 2056.23 1518.95 L2056.23 1514.23 Q2059.06 1513.09 2061.51 1512.51 Q2063.97 1511.93 2066 1511.93 Q2071.37 1511.93 2074.57 1514.62 Q2077.76 1517.31 2077.76 1521.8 Q2077.76 1523.93 2076.95 1525.85 Q2076.16 1527.74 2074.06 1530.34 Q2073.48 1531.01 2070.38 1534.23 Q2067.28 1537.42 2061.63 1543.18 Z\" fill=\"#000000\" fill-rule=\"evenodd\" fill-opacity=\"1\" /><path clip-path=\"url(#clip140)\" d=\"M 0 0 M2083.02 1541.24 L2087.9 1541.24 L2087.9 1547.12 L2083.02 1547.12 L2083.02 1541.24 Z\" fill=\"#000000\" fill-rule=\"evenodd\" fill-opacity=\"1\" /><path clip-path=\"url(#clip140)\" d=\"M 0 0 M2093.02 1512.56 L2111.37 1512.56 L2111.37 1516.5 L2097.3 1516.5 L2097.3 1524.97 Q2098.32 1524.62 2099.34 1524.46 Q2100.35 1524.27 2101.37 1524.27 Q2107.16 1524.27 2110.54 1527.44 Q2113.92 1530.62 2113.92 1536.03 Q2113.92 1541.61 2110.45 1544.71 Q2106.97 1547.79 2100.66 1547.79 Q2098.48 1547.79 2096.21 1547.42 Q2093.97 1547.05 2091.56 1546.31 L2091.56 1541.61 Q2093.64 1542.74 2095.86 1543.3 Q2098.09 1543.86 2100.56 1543.86 Q2104.57 1543.86 2106.91 1541.75 Q2109.24 1539.64 2109.24 1536.03 Q2109.24 1532.42 2106.91 1530.31 Q2104.57 1528.21 2100.56 1528.21 Q2098.69 1528.21 2096.81 1528.62 Q2094.96 1529.04 2093.02 1529.92 L2093.02 1512.56 Z\" fill=\"#000000\" fill-rule=\"evenodd\" fill-opacity=\"1\" /><polyline clip-path=\"url(#clip142)\" style=\"stroke:#000000; stroke-width:2; stroke-opacity:0.1; fill:none\" points=\"\n",
       "  189.978,1446.37 2352.76,1446.37 \n",
       "  \"/>\n",
       "<polyline clip-path=\"url(#clip142)\" style=\"stroke:#000000; stroke-width:2; stroke-opacity:0.1; fill:none\" points=\"\n",
       "  189.978,1118.42 2352.76,1118.42 \n",
       "  \"/>\n",
       "<polyline clip-path=\"url(#clip142)\" style=\"stroke:#000000; stroke-width:2; stroke-opacity:0.1; fill:none\" points=\"\n",
       "  189.978,790.459 2352.76,790.459 \n",
       "  \"/>\n",
       "<polyline clip-path=\"url(#clip142)\" style=\"stroke:#000000; stroke-width:2; stroke-opacity:0.1; fill:none\" points=\"\n",
       "  189.978,462.502 2352.76,462.502 \n",
       "  \"/>\n",
       "<polyline clip-path=\"url(#clip142)\" style=\"stroke:#000000; stroke-width:2; stroke-opacity:0.1; fill:none\" points=\"\n",
       "  189.978,134.546 2352.76,134.546 \n",
       "  \"/>\n",
       "<polyline clip-path=\"url(#clip140)\" style=\"stroke:#000000; stroke-width:4; stroke-opacity:1; fill:none\" points=\"\n",
       "  189.978,1486.45 189.978,47.2441 \n",
       "  \"/>\n",
       "<polyline clip-path=\"url(#clip140)\" style=\"stroke:#000000; stroke-width:4; stroke-opacity:1; fill:none\" points=\"\n",
       "  189.978,1446.37 215.931,1446.37 \n",
       "  \"/>\n",
       "<polyline clip-path=\"url(#clip140)\" style=\"stroke:#000000; stroke-width:4; stroke-opacity:1; fill:none\" points=\"\n",
       "  189.978,1118.42 215.931,1118.42 \n",
       "  \"/>\n",
       "<polyline clip-path=\"url(#clip140)\" style=\"stroke:#000000; stroke-width:4; stroke-opacity:1; fill:none\" points=\"\n",
       "  189.978,790.459 215.931,790.459 \n",
       "  \"/>\n",
       "<polyline clip-path=\"url(#clip140)\" style=\"stroke:#000000; stroke-width:4; stroke-opacity:1; fill:none\" points=\"\n",
       "  189.978,462.502 215.931,462.502 \n",
       "  \"/>\n",
       "<polyline clip-path=\"url(#clip140)\" style=\"stroke:#000000; stroke-width:4; stroke-opacity:1; fill:none\" points=\"\n",
       "  189.978,134.546 215.931,134.546 \n",
       "  \"/>\n",
       "<path clip-path=\"url(#clip140)\" d=\"M 0 0 M142.033 1432.17 Q138.422 1432.17 136.594 1435.74 Q134.788 1439.28 134.788 1446.41 Q134.788 1453.51 136.594 1457.08 Q138.422 1460.62 142.033 1460.62 Q145.668 1460.62 147.473 1457.08 Q149.302 1453.51 149.302 1446.41 Q149.302 1439.28 147.473 1435.74 Q145.668 1432.17 142.033 1432.17 M142.033 1428.47 Q147.843 1428.47 150.899 1433.07 Q153.978 1437.66 153.978 1446.41 Q153.978 1455.13 150.899 1459.74 Q147.843 1464.32 142.033 1464.32 Q136.223 1464.32 133.144 1459.74 Q130.089 1455.13 130.089 1446.41 Q130.089 1437.66 133.144 1433.07 Q136.223 1428.47 142.033 1428.47 Z\" fill=\"#000000\" fill-rule=\"evenodd\" fill-opacity=\"1\" /><path clip-path=\"url(#clip140)\" d=\"M 0 0 M79.0475 1101.14 L97.4039 1101.14 L97.4039 1105.07 L83.3299 1105.07 L83.3299 1113.54 Q84.3484 1113.2 85.3669 1113.03 Q86.3855 1112.85 87.404 1112.85 Q93.191 1112.85 96.5706 1116.02 Q99.9502 1119.19 99.9502 1124.61 Q99.9502 1130.19 96.478 1133.29 Q93.0058 1136.37 86.6864 1136.37 Q84.5105 1136.37 82.242 1136 Q79.9966 1135.63 77.5892 1134.89 L77.5892 1130.19 Q79.6725 1131.32 81.8947 1131.88 Q84.1169 1132.43 86.5938 1132.43 Q90.5984 1132.43 92.9363 1130.32 Q95.2743 1128.22 95.2743 1124.61 Q95.2743 1121 92.9363 1118.89 Q90.5984 1116.78 86.5938 1116.78 Q84.7188 1116.78 82.8438 1117.2 Q80.992 1117.62 79.0475 1118.5 L79.0475 1101.14 Z\" fill=\"#000000\" fill-rule=\"evenodd\" fill-opacity=\"1\" /><path clip-path=\"url(#clip140)\" d=\"M 0 0 M115.02 1104.21 Q111.408 1104.21 109.58 1107.78 Q107.774 1111.32 107.774 1118.45 Q107.774 1125.56 109.58 1129.12 Q111.408 1132.66 115.02 1132.66 Q118.654 1132.66 120.459 1129.12 Q122.288 1125.56 122.288 1118.45 Q122.288 1111.32 120.459 1107.78 Q118.654 1104.21 115.02 1104.21 M115.02 1100.51 Q120.83 1100.51 123.885 1105.12 Q126.964 1109.7 126.964 1118.45 Q126.964 1127.18 123.885 1131.78 Q120.83 1136.37 115.02 1136.37 Q109.209 1136.37 106.131 1131.78 Q103.075 1127.18 103.075 1118.45 Q103.075 1109.7 106.131 1105.12 Q109.209 1100.51 115.02 1100.51 Z\" fill=\"#000000\" fill-rule=\"evenodd\" fill-opacity=\"1\" /><path clip-path=\"url(#clip140)\" d=\"M 0 0 M142.033 1104.21 Q138.422 1104.21 136.594 1107.78 Q134.788 1111.32 134.788 1118.45 Q134.788 1125.56 136.594 1129.12 Q138.422 1132.66 142.033 1132.66 Q145.668 1132.66 147.473 1129.12 Q149.302 1125.56 149.302 1118.45 Q149.302 1111.32 147.473 1107.78 Q145.668 1104.21 142.033 1104.21 M142.033 1100.51 Q147.843 1100.51 150.899 1105.12 Q153.978 1109.7 153.978 1118.45 Q153.978 1127.18 150.899 1131.78 Q147.843 1136.37 142.033 1136.37 Q136.223 1136.37 133.144 1131.78 Q130.089 1127.18 130.089 1118.45 Q130.089 1109.7 133.144 1105.12 Q136.223 1100.51 142.033 1100.51 Z\" fill=\"#000000\" fill-rule=\"evenodd\" fill-opacity=\"1\" /><path clip-path=\"url(#clip140)\" d=\"M 0 0 M53.0292 803.804 L60.668 803.804 L60.668 777.438 L52.3579 779.105 L52.3579 774.846 L60.6217 773.179 L65.2976 773.179 L65.2976 803.804 L72.9365 803.804 L72.9365 807.739 L53.0292 807.739 L53.0292 803.804 Z\" fill=\"#000000\" fill-rule=\"evenodd\" fill-opacity=\"1\" /><path clip-path=\"url(#clip140)\" d=\"M 0 0 M88.0058 776.258 Q84.3947 776.258 82.566 779.822 Q80.7605 783.364 80.7605 790.494 Q80.7605 797.6 82.566 801.165 Q84.3947 804.706 88.0058 804.706 Q91.6401 804.706 93.4456 801.165 Q95.2743 797.6 95.2743 790.494 Q95.2743 783.364 93.4456 779.822 Q91.6401 776.258 88.0058 776.258 M88.0058 772.554 Q93.816 772.554 96.8715 777.16 Q99.9502 781.744 99.9502 790.494 Q99.9502 799.22 96.8715 803.827 Q93.816 808.41 88.0058 808.41 Q82.1957 808.41 79.117 803.827 Q76.0614 799.22 76.0614 790.494 Q76.0614 781.744 79.117 777.16 Q82.1957 772.554 88.0058 772.554 Z\" fill=\"#000000\" fill-rule=\"evenodd\" fill-opacity=\"1\" /><path clip-path=\"url(#clip140)\" d=\"M 0 0 M115.02 776.258 Q111.408 776.258 109.58 779.822 Q107.774 783.364 107.774 790.494 Q107.774 797.6 109.58 801.165 Q111.408 804.706 115.02 804.706 Q118.654 804.706 120.459 801.165 Q122.288 797.6 122.288 790.494 Q122.288 783.364 120.459 779.822 Q118.654 776.258 115.02 776.258 M115.02 772.554 Q120.83 772.554 123.885 777.16 Q126.964 781.744 126.964 790.494 Q126.964 799.22 123.885 803.827 Q120.83 808.41 115.02 808.41 Q109.209 808.41 106.131 803.827 Q103.075 799.22 103.075 790.494 Q103.075 781.744 106.131 777.16 Q109.209 772.554 115.02 772.554 Z\" fill=\"#000000\" fill-rule=\"evenodd\" fill-opacity=\"1\" /><path clip-path=\"url(#clip140)\" d=\"M 0 0 M142.033 776.258 Q138.422 776.258 136.594 779.822 Q134.788 783.364 134.788 790.494 Q134.788 797.6 136.594 801.165 Q138.422 804.706 142.033 804.706 Q145.668 804.706 147.473 801.165 Q149.302 797.6 149.302 790.494 Q149.302 783.364 147.473 779.822 Q145.668 776.258 142.033 776.258 M142.033 772.554 Q147.843 772.554 150.899 777.16 Q153.978 781.744 153.978 790.494 Q153.978 799.22 150.899 803.827 Q147.843 808.41 142.033 808.41 Q136.223 808.41 133.144 803.827 Q130.089 799.22 130.089 790.494 Q130.089 781.744 133.144 777.16 Q136.223 772.554 142.033 772.554 Z\" fill=\"#000000\" fill-rule=\"evenodd\" fill-opacity=\"1\" /><path clip-path=\"url(#clip140)\" d=\"M 0 0 M54.0245 475.847 L61.6634 475.847 L61.6634 449.482 L53.3532 451.148 L53.3532 446.889 L61.6171 445.222 L66.293 445.222 L66.293 475.847 L73.9318 475.847 L73.9318 479.782 L54.0245 479.782 L54.0245 475.847 Z\" fill=\"#000000\" fill-rule=\"evenodd\" fill-opacity=\"1\" /><path clip-path=\"url(#clip140)\" d=\"M 0 0 M79.0475 445.222 L97.4039 445.222 L97.4039 449.158 L83.3299 449.158 L83.3299 457.63 Q84.3484 457.283 85.3669 457.121 Q86.3855 456.935 87.404 456.935 Q93.191 456.935 96.5706 460.107 Q99.9502 463.278 99.9502 468.695 Q99.9502 474.273 96.478 477.375 Q93.0058 480.454 86.6864 480.454 Q84.5105 480.454 82.242 480.083 Q79.9966 479.713 77.5892 478.972 L77.5892 474.273 Q79.6725 475.407 81.8947 475.963 Q84.1169 476.519 86.5938 476.519 Q90.5984 476.519 92.9363 474.412 Q95.2743 472.306 95.2743 468.695 Q95.2743 465.083 92.9363 462.977 Q90.5984 460.871 86.5938 460.871 Q84.7188 460.871 82.8438 461.287 Q80.992 461.704 79.0475 462.583 L79.0475 445.222 Z\" fill=\"#000000\" fill-rule=\"evenodd\" fill-opacity=\"1\" /><path clip-path=\"url(#clip140)\" d=\"M 0 0 M115.02 448.301 Q111.408 448.301 109.58 451.866 Q107.774 455.408 107.774 462.537 Q107.774 469.644 109.58 473.208 Q111.408 476.75 115.02 476.75 Q118.654 476.75 120.459 473.208 Q122.288 469.644 122.288 462.537 Q122.288 455.408 120.459 451.866 Q118.654 448.301 115.02 448.301 M115.02 444.597 Q120.83 444.597 123.885 449.204 Q126.964 453.787 126.964 462.537 Q126.964 471.264 123.885 475.87 Q120.83 480.454 115.02 480.454 Q109.209 480.454 106.131 475.87 Q103.075 471.264 103.075 462.537 Q103.075 453.787 106.131 449.204 Q109.209 444.597 115.02 444.597 Z\" fill=\"#000000\" fill-rule=\"evenodd\" fill-opacity=\"1\" /><path clip-path=\"url(#clip140)\" d=\"M 0 0 M142.033 448.301 Q138.422 448.301 136.594 451.866 Q134.788 455.408 134.788 462.537 Q134.788 469.644 136.594 473.208 Q138.422 476.75 142.033 476.75 Q145.668 476.75 147.473 473.208 Q149.302 469.644 149.302 462.537 Q149.302 455.408 147.473 451.866 Q145.668 448.301 142.033 448.301 M142.033 444.597 Q147.843 444.597 150.899 449.204 Q153.978 453.787 153.978 462.537 Q153.978 471.264 150.899 475.87 Q147.843 480.454 142.033 480.454 Q136.223 480.454 133.144 475.87 Q130.089 471.264 130.089 462.537 Q130.089 453.787 133.144 449.204 Q136.223 444.597 142.033 444.597 Z\" fill=\"#000000\" fill-rule=\"evenodd\" fill-opacity=\"1\" /><path clip-path=\"url(#clip140)\" d=\"M 0 0 M56.6171 147.891 L72.9365 147.891 L72.9365 151.826 L50.9921 151.826 L50.9921 147.891 Q53.6541 145.136 58.2375 140.507 Q62.8439 135.854 64.0245 134.511 Q66.2698 131.988 67.1494 130.252 Q68.0522 128.493 68.0522 126.803 Q68.0522 124.048 66.1078 122.312 Q64.1865 120.576 61.0847 120.576 Q58.8856 120.576 56.4319 121.34 Q54.0014 122.104 51.2236 123.655 L51.2236 118.933 Q54.0477 117.798 56.5014 117.22 Q58.955 116.641 60.9921 116.641 Q66.3624 116.641 69.5568 119.326 Q72.7513 122.011 72.7513 126.502 Q72.7513 128.632 71.9411 130.553 Q71.1541 132.451 69.0476 135.044 Q68.4689 135.715 65.367 138.933 Q62.2652 142.127 56.6171 147.891 Z\" fill=\"#000000\" fill-rule=\"evenodd\" fill-opacity=\"1\" /><path clip-path=\"url(#clip140)\" d=\"M 0 0 M88.0058 120.345 Q84.3947 120.345 82.566 123.91 Q80.7605 127.451 80.7605 134.581 Q80.7605 141.687 82.566 145.252 Q84.3947 148.794 88.0058 148.794 Q91.6401 148.794 93.4456 145.252 Q95.2743 141.687 95.2743 134.581 Q95.2743 127.451 93.4456 123.91 Q91.6401 120.345 88.0058 120.345 M88.0058 116.641 Q93.816 116.641 96.8715 121.248 Q99.9502 125.831 99.9502 134.581 Q99.9502 143.308 96.8715 147.914 Q93.816 152.497 88.0058 152.497 Q82.1957 152.497 79.117 147.914 Q76.0614 143.308 76.0614 134.581 Q76.0614 125.831 79.117 121.248 Q82.1957 116.641 88.0058 116.641 Z\" fill=\"#000000\" fill-rule=\"evenodd\" fill-opacity=\"1\" /><path clip-path=\"url(#clip140)\" d=\"M 0 0 M115.02 120.345 Q111.408 120.345 109.58 123.91 Q107.774 127.451 107.774 134.581 Q107.774 141.687 109.58 145.252 Q111.408 148.794 115.02 148.794 Q118.654 148.794 120.459 145.252 Q122.288 141.687 122.288 134.581 Q122.288 127.451 120.459 123.91 Q118.654 120.345 115.02 120.345 M115.02 116.641 Q120.83 116.641 123.885 121.248 Q126.964 125.831 126.964 134.581 Q126.964 143.308 123.885 147.914 Q120.83 152.497 115.02 152.497 Q109.209 152.497 106.131 147.914 Q103.075 143.308 103.075 134.581 Q103.075 125.831 106.131 121.248 Q109.209 116.641 115.02 116.641 Z\" fill=\"#000000\" fill-rule=\"evenodd\" fill-opacity=\"1\" /><path clip-path=\"url(#clip140)\" d=\"M 0 0 M142.033 120.345 Q138.422 120.345 136.594 123.91 Q134.788 127.451 134.788 134.581 Q134.788 141.687 136.594 145.252 Q138.422 148.794 142.033 148.794 Q145.668 148.794 147.473 145.252 Q149.302 141.687 149.302 134.581 Q149.302 127.451 147.473 123.91 Q145.668 120.345 142.033 120.345 M142.033 116.641 Q147.843 116.641 150.899 121.248 Q153.978 125.831 153.978 134.581 Q153.978 143.308 150.899 147.914 Q147.843 152.497 142.033 152.497 Q136.223 152.497 133.144 147.914 Q130.089 143.308 130.089 134.581 Q130.089 125.831 133.144 121.248 Q136.223 116.641 142.033 116.641 Z\" fill=\"#000000\" fill-rule=\"evenodd\" fill-opacity=\"1\" /><polyline clip-path=\"url(#clip142)\" style=\"stroke:#009af9; stroke-width:4; stroke-opacity:1; fill:none\" points=\"\n",
       "  251.188,1419.48 396.928,1306.66 542.668,1010.85 688.408,583.19 834.147,220.471 979.887,87.9763 1125.63,342.47 1271.37,717.653 1417.11,1035.77 1562.85,1272.55 \n",
       "  1708.59,1383.4 1854.33,1425.38 2000.07,1439.81 2145.81,1445.06 2291.55,1445.72 \n",
       "  \"/>\n",
       "<path clip-path=\"url(#clip142)\" d=\"M251.188 1435.48 L239.876 1430.79 L235.188 1419.48 L239.876 1408.17 L251.188 1403.48 L262.5 1408.17 L267.188 1419.48 L262.5 1430.79 Z\" fill=\"#009af9\" fill-rule=\"evenodd\" fill-opacity=\"1\" stroke=\"#000000\" stroke-opacity=\"1\" stroke-width=\"3.2\"/>\n",
       "<path clip-path=\"url(#clip142)\" d=\"M396.928 1322.66 L385.616 1317.97 L380.928 1306.66 L385.616 1295.35 L396.928 1290.66 L408.24 1295.35 L412.928 1306.66 L408.24 1317.97 Z\" fill=\"#009af9\" fill-rule=\"evenodd\" fill-opacity=\"1\" stroke=\"#000000\" stroke-opacity=\"1\" stroke-width=\"3.2\"/>\n",
       "<path clip-path=\"url(#clip142)\" d=\"M542.668 1026.85 L531.356 1022.16 L526.668 1010.85 L531.356 999.534 L542.668 994.846 L553.98 999.534 L558.668 1010.85 L553.98 1022.16 Z\" fill=\"#009af9\" fill-rule=\"evenodd\" fill-opacity=\"1\" stroke=\"#000000\" stroke-opacity=\"1\" stroke-width=\"3.2\"/>\n",
       "<path clip-path=\"url(#clip142)\" d=\"M688.408 599.19 L677.096 594.502 L672.408 583.19 L677.096 571.878 L688.408 567.19 L699.72 571.878 L704.408 583.19 L699.72 594.502 Z\" fill=\"#009af9\" fill-rule=\"evenodd\" fill-opacity=\"1\" stroke=\"#000000\" stroke-opacity=\"1\" stroke-width=\"3.2\"/>\n",
       "<path clip-path=\"url(#clip142)\" d=\"M834.147 236.471 L822.835 231.783 L818.147 220.471 L822.835 209.159 L834.147 204.471 L845.459 209.159 L850.147 220.471 L845.459 231.783 Z\" fill=\"#009af9\" fill-rule=\"evenodd\" fill-opacity=\"1\" stroke=\"#000000\" stroke-opacity=\"1\" stroke-width=\"3.2\"/>\n",
       "<path clip-path=\"url(#clip142)\" d=\"M979.887 103.976 L968.575 99.2883 L963.887 87.9763 L968.575 76.6643 L979.887 71.9763 L991.199 76.6643 L995.887 87.9763 L991.199 99.2883 Z\" fill=\"#009af9\" fill-rule=\"evenodd\" fill-opacity=\"1\" stroke=\"#000000\" stroke-opacity=\"1\" stroke-width=\"3.2\"/>\n",
       "<path clip-path=\"url(#clip142)\" d=\"M1125.63 358.47 L1114.32 353.782 L1109.63 342.47 L1114.32 331.158 L1125.63 326.47 L1136.94 331.158 L1141.63 342.47 L1136.94 353.782 Z\" fill=\"#009af9\" fill-rule=\"evenodd\" fill-opacity=\"1\" stroke=\"#000000\" stroke-opacity=\"1\" stroke-width=\"3.2\"/>\n",
       "<path clip-path=\"url(#clip142)\" d=\"M1271.37 733.653 L1260.05 728.965 L1255.37 717.653 L1260.05 706.341 L1271.37 701.653 L1282.68 706.341 L1287.37 717.653 L1282.68 728.965 Z\" fill=\"#009af9\" fill-rule=\"evenodd\" fill-opacity=\"1\" stroke=\"#000000\" stroke-opacity=\"1\" stroke-width=\"3.2\"/>\n",
       "<path clip-path=\"url(#clip142)\" d=\"M1417.11 1051.77 L1405.79 1047.08 L1401.11 1035.77 L1405.79 1024.46 L1417.11 1019.77 L1428.42 1024.46 L1433.11 1035.77 L1428.42 1047.08 Z\" fill=\"#009af9\" fill-rule=\"evenodd\" fill-opacity=\"1\" stroke=\"#000000\" stroke-opacity=\"1\" stroke-width=\"3.2\"/>\n",
       "<path clip-path=\"url(#clip142)\" d=\"M1562.85 1288.55 L1551.53 1283.87 L1546.85 1272.55 L1551.53 1261.24 L1562.85 1256.55 L1574.16 1261.24 L1578.85 1272.55 L1574.16 1283.87 Z\" fill=\"#009af9\" fill-rule=\"evenodd\" fill-opacity=\"1\" stroke=\"#000000\" stroke-opacity=\"1\" stroke-width=\"3.2\"/>\n",
       "<path clip-path=\"url(#clip142)\" d=\"M1708.59 1399.4 L1697.27 1394.72 L1692.59 1383.4 L1697.27 1372.09 L1708.59 1367.4 L1719.9 1372.09 L1724.59 1383.4 L1719.9 1394.72 Z\" fill=\"#009af9\" fill-rule=\"evenodd\" fill-opacity=\"1\" stroke=\"#000000\" stroke-opacity=\"1\" stroke-width=\"3.2\"/>\n",
       "<path clip-path=\"url(#clip142)\" d=\"M1854.33 1441.38 L1843.01 1436.69 L1838.33 1425.38 L1843.01 1414.07 L1854.33 1409.38 L1865.64 1414.07 L1870.33 1425.38 L1865.64 1436.69 Z\" fill=\"#009af9\" fill-rule=\"evenodd\" fill-opacity=\"1\" stroke=\"#000000\" stroke-opacity=\"1\" stroke-width=\"3.2\"/>\n",
       "<path clip-path=\"url(#clip142)\" d=\"M2000.07 1455.81 L1988.75 1451.12 L1984.07 1439.81 L1988.75 1428.5 L2000.07 1423.81 L2011.38 1428.5 L2016.07 1439.81 L2011.38 1451.12 Z\" fill=\"#009af9\" fill-rule=\"evenodd\" fill-opacity=\"1\" stroke=\"#000000\" stroke-opacity=\"1\" stroke-width=\"3.2\"/>\n",
       "<path clip-path=\"url(#clip142)\" d=\"M2145.81 1461.06 L2134.49 1456.37 L2129.81 1445.06 L2134.49 1433.75 L2145.81 1429.06 L2157.12 1433.75 L2161.81 1445.06 L2157.12 1456.37 Z\" fill=\"#009af9\" fill-rule=\"evenodd\" fill-opacity=\"1\" stroke=\"#000000\" stroke-opacity=\"1\" stroke-width=\"3.2\"/>\n",
       "<path clip-path=\"url(#clip142)\" d=\"M2291.55 1461.72 L2280.23 1457.03 L2275.55 1445.72 L2280.23 1434.4 L2291.55 1429.72 L2302.86 1434.4 L2307.55 1445.72 L2302.86 1457.03 Z\" fill=\"#009af9\" fill-rule=\"evenodd\" fill-opacity=\"1\" stroke=\"#000000\" stroke-opacity=\"1\" stroke-width=\"3.2\"/>\n",
       "<path clip-path=\"url(#clip140)\" d=\"\n",
       "M1989.34 216.178 L2280.66 216.178 L2280.66 95.2176 L1989.34 95.2176  Z\n",
       "  \" fill=\"#ffffff\" fill-rule=\"evenodd\" fill-opacity=\"1\"/>\n",
       "<polyline clip-path=\"url(#clip140)\" style=\"stroke:#000000; stroke-width:4; stroke-opacity:1; fill:none\" points=\"\n",
       "  1989.34,216.178 2280.66,216.178 2280.66,95.2176 1989.34,95.2176 1989.34,216.178 \n",
       "  \"/>\n",
       "<polyline clip-path=\"url(#clip140)\" style=\"stroke:#009af9; stroke-width:4; stroke-opacity:1; fill:none\" points=\"\n",
       "  2013.37,155.698 2157.55,155.698 \n",
       "  \"/>\n",
       "<path clip-path=\"url(#clip140)\" d=\"M2085.46 181.298 L2067.36 173.797 L2059.86 155.698 L2067.36 137.598 L2085.46 130.098 L2103.56 137.598 L2111.06 155.698 L2103.56 173.797 Z\" fill=\"#009af9\" fill-rule=\"evenodd\" fill-opacity=\"1\" stroke=\"#000000\" stroke-opacity=\"1\" stroke-width=\"5.12\"/>\n",
       "<path clip-path=\"url(#clip140)\" d=\"M 0 0 M2195.43 175.385 Q2193.62 180.015 2191.91 181.427 Q2190.19 182.839 2187.32 182.839 L2183.92 182.839 L2183.92 179.274 L2186.42 179.274 Q2188.18 179.274 2189.15 178.44 Q2190.12 177.607 2191.31 174.505 L2192.07 172.561 L2181.58 147.052 L2186.1 147.052 L2194.2 167.329 L2202.3 147.052 L2206.81 147.052 L2195.43 175.385 Z\" fill=\"#000000\" fill-rule=\"evenodd\" fill-opacity=\"1\" /><path clip-path=\"url(#clip140)\" d=\"M 0 0 M2212.69 169.042 L2220.33 169.042 L2220.33 142.677 L2212.02 144.343 L2212.02 140.084 L2220.29 138.418 L2224.96 138.418 L2224.96 169.042 L2232.6 169.042 L2232.6 172.978 L2212.69 172.978 L2212.69 169.042 Z\" fill=\"#000000\" fill-rule=\"evenodd\" fill-opacity=\"1\" /></svg>\n"
      ]
     },
     "execution_count": 83,
     "metadata": {},
     "output_type": "execute_result"
    }
   ],
   "source": [
    "data = count_them(run_experiments(0.25, 20, 10000))\n",
    "plot(0:length(data)-1, data, m=:o)"
   ]
  },
  {
   "cell_type": "markdown",
   "metadata": {},
   "source": [
    "## Probability distribution"
   ]
  },
  {
   "cell_type": "markdown",
   "metadata": {},
   "source": [
    "Probability = relative frequency\n",
    " \n",
    "Divide by the number of experiments:"
   ]
  },
  {
   "cell_type": "code",
   "execution_count": 86,
   "metadata": {},
   "outputs": [
    {
     "data": {
      "image/svg+xml": [
       "<?xml version=\"1.0\" encoding=\"utf-8\"?>\n",
       "<svg xmlns=\"http://www.w3.org/2000/svg\" xmlns:xlink=\"http://www.w3.org/1999/xlink\" width=\"600\" height=\"400\" viewBox=\"0 0 2400 1600\">\n",
       "<defs>\n",
       "  <clipPath id=\"clip260\">\n",
       "    <rect x=\"0\" y=\"0\" width=\"2400\" height=\"1600\"/>\n",
       "  </clipPath>\n",
       "</defs>\n",
       "<path clip-path=\"url(#clip260)\" d=\"\n",
       "M0 1600 L2400 1600 L2400 0 L0 0  Z\n",
       "  \" fill=\"#ffffff\" fill-rule=\"evenodd\" fill-opacity=\"1\"/>\n",
       "<defs>\n",
       "  <clipPath id=\"clip261\">\n",
       "    <rect x=\"480\" y=\"0\" width=\"1681\" height=\"1600\"/>\n",
       "  </clipPath>\n",
       "</defs>\n",
       "<path clip-path=\"url(#clip260)\" d=\"\n",
       "M174.862 1486.45 L2352.76 1486.45 L2352.76 47.2441 L174.862 47.2441  Z\n",
       "  \" fill=\"#ffffff\" fill-rule=\"evenodd\" fill-opacity=\"1\"/>\n",
       "<defs>\n",
       "  <clipPath id=\"clip262\">\n",
       "    <rect x=\"174\" y=\"47\" width=\"2179\" height=\"1440\"/>\n",
       "  </clipPath>\n",
       "</defs>\n",
       "<polyline clip-path=\"url(#clip262)\" style=\"stroke:#000000; stroke-width:2; stroke-opacity:0.1; fill:none\" points=\"\n",
       "  236.501,1486.45 236.501,47.2441 \n",
       "  \"/>\n",
       "<polyline clip-path=\"url(#clip262)\" style=\"stroke:#000000; stroke-width:2; stroke-opacity:0.1; fill:none\" points=\"\n",
       "  921.373,1486.45 921.373,47.2441 \n",
       "  \"/>\n",
       "<polyline clip-path=\"url(#clip262)\" style=\"stroke:#000000; stroke-width:2; stroke-opacity:0.1; fill:none\" points=\"\n",
       "  1606.25,1486.45 1606.25,47.2441 \n",
       "  \"/>\n",
       "<polyline clip-path=\"url(#clip262)\" style=\"stroke:#000000; stroke-width:2; stroke-opacity:0.1; fill:none\" points=\"\n",
       "  2291.12,1486.45 2291.12,47.2441 \n",
       "  \"/>\n",
       "<polyline clip-path=\"url(#clip260)\" style=\"stroke:#000000; stroke-width:4; stroke-opacity:1; fill:none\" points=\"\n",
       "  174.862,1486.45 2352.76,1486.45 \n",
       "  \"/>\n",
       "<polyline clip-path=\"url(#clip260)\" style=\"stroke:#000000; stroke-width:4; stroke-opacity:1; fill:none\" points=\"\n",
       "  236.501,1486.45 236.501,1469.18 \n",
       "  \"/>\n",
       "<polyline clip-path=\"url(#clip260)\" style=\"stroke:#000000; stroke-width:4; stroke-opacity:1; fill:none\" points=\"\n",
       "  921.373,1486.45 921.373,1469.18 \n",
       "  \"/>\n",
       "<polyline clip-path=\"url(#clip260)\" style=\"stroke:#000000; stroke-width:4; stroke-opacity:1; fill:none\" points=\"\n",
       "  1606.25,1486.45 1606.25,1469.18 \n",
       "  \"/>\n",
       "<polyline clip-path=\"url(#clip260)\" style=\"stroke:#000000; stroke-width:4; stroke-opacity:1; fill:none\" points=\"\n",
       "  2291.12,1486.45 2291.12,1469.18 \n",
       "  \"/>\n",
       "<path clip-path=\"url(#clip260)\" d=\"M 0 0 M236.501 1515.64 Q232.889 1515.64 231.061 1519.2 Q229.255 1522.75 229.255 1529.87 Q229.255 1536.98 231.061 1540.55 Q232.889 1544.09 236.501 1544.09 Q240.135 1544.09 241.94 1540.55 Q243.769 1536.98 243.769 1529.87 Q243.769 1522.75 241.94 1519.2 Q240.135 1515.64 236.501 1515.64 M236.501 1511.93 Q242.311 1511.93 245.366 1516.54 Q248.445 1521.12 248.445 1529.87 Q248.445 1538.6 245.366 1543.21 Q242.311 1547.79 236.501 1547.79 Q230.69 1547.79 227.612 1543.21 Q224.556 1538.6 224.556 1529.87 Q224.556 1521.12 227.612 1516.54 Q230.69 1511.93 236.501 1511.93 Z\" fill=\"#000000\" fill-rule=\"evenodd\" fill-opacity=\"1\" /><path clip-path=\"url(#clip260)\" d=\"M 0 0 M911.651 1512.56 L930.007 1512.56 L930.007 1516.5 L915.933 1516.5 L915.933 1524.97 Q916.952 1524.62 917.97 1524.46 Q918.989 1524.27 920.007 1524.27 Q925.794 1524.27 929.174 1527.44 Q932.553 1530.62 932.553 1536.03 Q932.553 1541.61 929.081 1544.71 Q925.609 1547.79 919.289 1547.79 Q917.114 1547.79 914.845 1547.42 Q912.6 1547.05 910.192 1546.31 L910.192 1541.61 Q912.276 1542.74 914.498 1543.3 Q916.72 1543.86 919.197 1543.86 Q923.202 1543.86 925.539 1541.75 Q927.877 1539.64 927.877 1536.03 Q927.877 1532.42 925.539 1530.31 Q923.202 1528.21 919.197 1528.21 Q917.322 1528.21 915.447 1528.62 Q913.595 1529.04 911.651 1529.92 L911.651 1512.56 Z\" fill=\"#000000\" fill-rule=\"evenodd\" fill-opacity=\"1\" /><path clip-path=\"url(#clip260)\" d=\"M 0 0 M1583.12 1543.18 L1590.76 1543.18 L1590.76 1516.82 L1582.45 1518.49 L1582.45 1514.23 L1590.71 1512.56 L1595.39 1512.56 L1595.39 1543.18 L1603.03 1543.18 L1603.03 1547.12 L1583.12 1547.12 L1583.12 1543.18 Z\" fill=\"#000000\" fill-rule=\"evenodd\" fill-opacity=\"1\" /><path clip-path=\"url(#clip260)\" d=\"M 0 0 M1618.1 1515.64 Q1614.49 1515.64 1612.66 1519.2 Q1610.85 1522.75 1610.85 1529.87 Q1610.85 1536.98 1612.66 1540.55 Q1614.49 1544.09 1618.1 1544.09 Q1621.73 1544.09 1623.54 1540.55 Q1625.37 1536.98 1625.37 1529.87 Q1625.37 1522.75 1623.54 1519.2 Q1621.73 1515.64 1618.1 1515.64 M1618.1 1511.93 Q1623.91 1511.93 1626.96 1516.54 Q1630.04 1521.12 1630.04 1529.87 Q1630.04 1538.6 1626.96 1543.21 Q1623.91 1547.79 1618.1 1547.79 Q1612.29 1547.79 1609.21 1543.21 Q1606.15 1538.6 1606.15 1529.87 Q1606.15 1521.12 1609.21 1516.54 Q1612.29 1511.93 1618.1 1511.93 Z\" fill=\"#000000\" fill-rule=\"evenodd\" fill-opacity=\"1\" /><path clip-path=\"url(#clip260)\" d=\"M 0 0 M2268.49 1543.18 L2276.13 1543.18 L2276.13 1516.82 L2267.82 1518.49 L2267.82 1514.23 L2276.08 1512.56 L2280.76 1512.56 L2280.76 1543.18 L2288.4 1543.18 L2288.4 1547.12 L2268.49 1547.12 L2268.49 1543.18 Z\" fill=\"#000000\" fill-rule=\"evenodd\" fill-opacity=\"1\" /><path clip-path=\"url(#clip260)\" d=\"M 0 0 M2293.51 1512.56 L2311.87 1512.56 L2311.87 1516.5 L2297.8 1516.5 L2297.8 1524.97 Q2298.81 1524.62 2299.83 1524.46 Q2300.85 1524.27 2301.87 1524.27 Q2307.66 1524.27 2311.04 1527.44 Q2314.42 1530.62 2314.42 1536.03 Q2314.42 1541.61 2310.94 1544.71 Q2307.47 1547.79 2301.15 1547.79 Q2298.98 1547.79 2296.71 1547.42 Q2294.46 1547.05 2292.05 1546.31 L2292.05 1541.61 Q2294.14 1542.74 2296.36 1543.3 Q2298.58 1543.86 2301.06 1543.86 Q2305.06 1543.86 2307.4 1541.75 Q2309.74 1539.64 2309.74 1536.03 Q2309.74 1532.42 2307.4 1530.31 Q2305.06 1528.21 2301.06 1528.21 Q2299.18 1528.21 2297.31 1528.62 Q2295.46 1529.04 2293.51 1529.92 L2293.51 1512.56 Z\" fill=\"#000000\" fill-rule=\"evenodd\" fill-opacity=\"1\" /><polyline clip-path=\"url(#clip262)\" style=\"stroke:#000000; stroke-width:2; stroke-opacity:0.1; fill:none\" points=\"\n",
       "  174.862,1445.78 2352.76,1445.78 \n",
       "  \"/>\n",
       "<polyline clip-path=\"url(#clip262)\" style=\"stroke:#000000; stroke-width:2; stroke-opacity:0.1; fill:none\" points=\"\n",
       "  174.862,1110.92 2352.76,1110.92 \n",
       "  \"/>\n",
       "<polyline clip-path=\"url(#clip262)\" style=\"stroke:#000000; stroke-width:2; stroke-opacity:0.1; fill:none\" points=\"\n",
       "  174.862,776.055 2352.76,776.055 \n",
       "  \"/>\n",
       "<polyline clip-path=\"url(#clip262)\" style=\"stroke:#000000; stroke-width:2; stroke-opacity:0.1; fill:none\" points=\"\n",
       "  174.862,441.191 2352.76,441.191 \n",
       "  \"/>\n",
       "<polyline clip-path=\"url(#clip262)\" style=\"stroke:#000000; stroke-width:2; stroke-opacity:0.1; fill:none\" points=\"\n",
       "  174.862,106.327 2352.76,106.327 \n",
       "  \"/>\n",
       "<polyline clip-path=\"url(#clip260)\" style=\"stroke:#000000; stroke-width:4; stroke-opacity:1; fill:none\" points=\"\n",
       "  174.862,1486.45 174.862,47.2441 \n",
       "  \"/>\n",
       "<polyline clip-path=\"url(#clip260)\" style=\"stroke:#000000; stroke-width:4; stroke-opacity:1; fill:none\" points=\"\n",
       "  174.862,1445.78 200.997,1445.78 \n",
       "  \"/>\n",
       "<polyline clip-path=\"url(#clip260)\" style=\"stroke:#000000; stroke-width:4; stroke-opacity:1; fill:none\" points=\"\n",
       "  174.862,1110.92 200.997,1110.92 \n",
       "  \"/>\n",
       "<polyline clip-path=\"url(#clip260)\" style=\"stroke:#000000; stroke-width:4; stroke-opacity:1; fill:none\" points=\"\n",
       "  174.862,776.055 200.997,776.055 \n",
       "  \"/>\n",
       "<polyline clip-path=\"url(#clip260)\" style=\"stroke:#000000; stroke-width:4; stroke-opacity:1; fill:none\" points=\"\n",
       "  174.862,441.191 200.997,441.191 \n",
       "  \"/>\n",
       "<polyline clip-path=\"url(#clip260)\" style=\"stroke:#000000; stroke-width:4; stroke-opacity:1; fill:none\" points=\"\n",
       "  174.862,106.327 200.997,106.327 \n",
       "  \"/>\n",
       "<path clip-path=\"url(#clip260)\" d=\"M 0 0 M62.9365 1431.58 Q59.3254 1431.58 57.4967 1435.15 Q55.6912 1438.69 55.6912 1445.82 Q55.6912 1452.92 57.4967 1456.49 Q59.3254 1460.03 62.9365 1460.03 Q66.5707 1460.03 68.3763 1456.49 Q70.205 1452.92 70.205 1445.82 Q70.205 1438.69 68.3763 1435.15 Q66.5707 1431.58 62.9365 1431.58 M62.9365 1427.88 Q68.7467 1427.88 71.8022 1432.48 Q74.8809 1437.07 74.8809 1445.82 Q74.8809 1454.54 71.8022 1459.15 Q68.7467 1463.73 62.9365 1463.73 Q57.1264 1463.73 54.0477 1459.15 Q50.9921 1454.54 50.9921 1445.82 Q50.9921 1437.07 54.0477 1432.48 Q57.1264 1427.88 62.9365 1427.88 Z\" fill=\"#000000\" fill-rule=\"evenodd\" fill-opacity=\"1\" /><path clip-path=\"url(#clip260)\" d=\"M 0 0 M79.9503 1457.18 L84.8345 1457.18 L84.8345 1463.06 L79.9503 1463.06 L79.9503 1457.18 Z\" fill=\"#000000\" fill-rule=\"evenodd\" fill-opacity=\"1\" /><path clip-path=\"url(#clip260)\" d=\"M 0 0 M99.9039 1431.58 Q96.2928 1431.58 94.4641 1435.15 Q92.6586 1438.69 92.6586 1445.82 Q92.6586 1452.92 94.4641 1456.49 Q96.2928 1460.03 99.9039 1460.03 Q103.538 1460.03 105.344 1456.49 Q107.172 1452.92 107.172 1445.82 Q107.172 1438.69 105.344 1435.15 Q103.538 1431.58 99.9039 1431.58 M99.9039 1427.88 Q105.714 1427.88 108.77 1432.48 Q111.848 1437.07 111.848 1445.82 Q111.848 1454.54 108.77 1459.15 Q105.714 1463.73 99.9039 1463.73 Q94.0937 1463.73 91.0151 1459.15 Q87.9595 1454.54 87.9595 1445.82 Q87.9595 1437.07 91.0151 1432.48 Q94.0937 1427.88 99.9039 1427.88 Z\" fill=\"#000000\" fill-rule=\"evenodd\" fill-opacity=\"1\" /><path clip-path=\"url(#clip260)\" d=\"M 0 0 M126.918 1431.58 Q123.307 1431.58 121.478 1435.15 Q119.672 1438.69 119.672 1445.82 Q119.672 1452.92 121.478 1456.49 Q123.307 1460.03 126.918 1460.03 Q130.552 1460.03 132.357 1456.49 Q134.186 1452.92 134.186 1445.82 Q134.186 1438.69 132.357 1435.15 Q130.552 1431.58 126.918 1431.58 M126.918 1427.88 Q132.728 1427.88 135.783 1432.48 Q138.862 1437.07 138.862 1445.82 Q138.862 1454.54 135.783 1459.15 Q132.728 1463.73 126.918 1463.73 Q121.107 1463.73 118.029 1459.15 Q114.973 1454.54 114.973 1445.82 Q114.973 1437.07 118.029 1432.48 Q121.107 1427.88 126.918 1427.88 Z\" fill=\"#000000\" fill-rule=\"evenodd\" fill-opacity=\"1\" /><path clip-path=\"url(#clip260)\" d=\"M 0 0 M63.9319 1096.72 Q60.3208 1096.72 58.4921 1100.28 Q56.6865 1103.82 56.6865 1110.95 Q56.6865 1118.06 58.4921 1121.62 Q60.3208 1125.17 63.9319 1125.17 Q67.5661 1125.17 69.3717 1121.62 Q71.2004 1118.06 71.2004 1110.95 Q71.2004 1103.82 69.3717 1100.28 Q67.5661 1096.72 63.9319 1096.72 M63.9319 1093.01 Q69.742 1093.01 72.7976 1097.62 Q75.8763 1102.2 75.8763 1110.95 Q75.8763 1119.68 72.7976 1124.29 Q69.742 1128.87 63.9319 1128.87 Q58.1217 1128.87 55.043 1124.29 Q51.9875 1119.68 51.9875 1110.95 Q51.9875 1102.2 55.043 1097.62 Q58.1217 1093.01 63.9319 1093.01 Z\" fill=\"#000000\" fill-rule=\"evenodd\" fill-opacity=\"1\" /><path clip-path=\"url(#clip260)\" d=\"M 0 0 M80.9457 1122.32 L85.8299 1122.32 L85.8299 1128.2 L80.9457 1128.2 L80.9457 1122.32 Z\" fill=\"#000000\" fill-rule=\"evenodd\" fill-opacity=\"1\" /><path clip-path=\"url(#clip260)\" d=\"M 0 0 M100.899 1096.72 Q97.2882 1096.72 95.4595 1100.28 Q93.6539 1103.82 93.6539 1110.95 Q93.6539 1118.06 95.4595 1121.62 Q97.2882 1125.17 100.899 1125.17 Q104.534 1125.17 106.339 1121.62 Q108.168 1118.06 108.168 1110.95 Q108.168 1103.82 106.339 1100.28 Q104.534 1096.72 100.899 1096.72 M100.899 1093.01 Q106.709 1093.01 109.765 1097.62 Q112.844 1102.2 112.844 1110.95 Q112.844 1119.68 109.765 1124.29 Q106.709 1128.87 100.899 1128.87 Q95.0891 1128.87 92.0104 1124.29 Q88.9549 1119.68 88.9549 1110.95 Q88.9549 1102.2 92.0104 1097.62 Q95.0891 1093.01 100.899 1093.01 Z\" fill=\"#000000\" fill-rule=\"evenodd\" fill-opacity=\"1\" /><path clip-path=\"url(#clip260)\" d=\"M 0 0 M117.959 1093.64 L136.316 1093.64 L136.316 1097.57 L122.242 1097.57 L122.242 1106.05 Q123.26 1105.7 124.279 1105.54 Q125.297 1105.35 126.316 1105.35 Q132.103 1105.35 135.482 1108.52 Q138.862 1111.69 138.862 1117.11 Q138.862 1122.69 135.39 1125.79 Q131.918 1128.87 125.598 1128.87 Q123.422 1128.87 121.154 1128.5 Q118.908 1128.13 116.501 1127.39 L116.501 1122.69 Q118.584 1123.82 120.807 1124.38 Q123.029 1124.93 125.506 1124.93 Q129.51 1124.93 131.848 1122.83 Q134.186 1120.72 134.186 1117.11 Q134.186 1113.5 131.848 1111.39 Q129.51 1109.29 125.506 1109.29 Q123.631 1109.29 121.756 1109.7 Q119.904 1110.12 117.959 1111 L117.959 1093.64 Z\" fill=\"#000000\" fill-rule=\"evenodd\" fill-opacity=\"1\" /><path clip-path=\"url(#clip260)\" d=\"M 0 0 M64.1634 761.853 Q60.5523 761.853 58.7236 765.418 Q56.918 768.96 56.918 776.089 Q56.918 783.196 58.7236 786.761 Q60.5523 790.302 64.1634 790.302 Q67.7976 790.302 69.6031 786.761 Q71.4318 783.196 71.4318 776.089 Q71.4318 768.96 69.6031 765.418 Q67.7976 761.853 64.1634 761.853 M64.1634 758.15 Q69.9735 758.15 73.029 762.756 Q76.1077 767.34 76.1077 776.089 Q76.1077 784.816 73.029 789.423 Q69.9735 794.006 64.1634 794.006 Q58.3532 794.006 55.2745 789.423 Q52.219 784.816 52.219 776.089 Q52.219 767.34 55.2745 762.756 Q58.3532 758.15 64.1634 758.15 Z\" fill=\"#000000\" fill-rule=\"evenodd\" fill-opacity=\"1\" /><path clip-path=\"url(#clip260)\" d=\"M 0 0 M81.1771 787.455 L86.0614 787.455 L86.0614 793.335 L81.1771 793.335 L81.1771 787.455 Z\" fill=\"#000000\" fill-rule=\"evenodd\" fill-opacity=\"1\" /><path clip-path=\"url(#clip260)\" d=\"M 0 0 M91.941 789.4 L99.5798 789.4 L99.5798 763.034 L91.2697 764.701 L91.2697 760.441 L99.5335 758.775 L104.209 758.775 L104.209 789.4 L111.848 789.4 L111.848 793.335 L91.941 793.335 L91.941 789.4 Z\" fill=\"#000000\" fill-rule=\"evenodd\" fill-opacity=\"1\" /><path clip-path=\"url(#clip260)\" d=\"M 0 0 M126.918 761.853 Q123.307 761.853 121.478 765.418 Q119.672 768.96 119.672 776.089 Q119.672 783.196 121.478 786.761 Q123.307 790.302 126.918 790.302 Q130.552 790.302 132.357 786.761 Q134.186 783.196 134.186 776.089 Q134.186 768.96 132.357 765.418 Q130.552 761.853 126.918 761.853 M126.918 758.15 Q132.728 758.15 135.783 762.756 Q138.862 767.34 138.862 776.089 Q138.862 784.816 135.783 789.423 Q132.728 794.006 126.918 794.006 Q121.107 794.006 118.029 789.423 Q114.973 784.816 114.973 776.089 Q114.973 767.34 118.029 762.756 Q121.107 758.15 126.918 758.15 Z\" fill=\"#000000\" fill-rule=\"evenodd\" fill-opacity=\"1\" /><path clip-path=\"url(#clip260)\" d=\"M 0 0 M65.1587 426.989 Q61.5476 426.989 59.7189 430.554 Q57.9134 434.096 57.9134 441.226 Q57.9134 448.332 59.7189 451.897 Q61.5476 455.438 65.1587 455.438 Q68.793 455.438 70.5985 451.897 Q72.4272 448.332 72.4272 441.226 Q72.4272 434.096 70.5985 430.554 Q68.793 426.989 65.1587 426.989 M65.1587 423.286 Q70.9689 423.286 74.0244 427.892 Q77.1031 432.476 77.1031 441.226 Q77.1031 449.952 74.0244 454.559 Q70.9689 459.142 65.1587 459.142 Q59.3486 459.142 56.2699 454.559 Q53.2143 449.952 53.2143 441.226 Q53.2143 432.476 56.2699 427.892 Q59.3486 423.286 65.1587 423.286 Z\" fill=\"#000000\" fill-rule=\"evenodd\" fill-opacity=\"1\" /><path clip-path=\"url(#clip260)\" d=\"M 0 0 M82.1725 452.591 L87.0567 452.591 L87.0567 458.471 L82.1725 458.471 L82.1725 452.591 Z\" fill=\"#000000\" fill-rule=\"evenodd\" fill-opacity=\"1\" /><path clip-path=\"url(#clip260)\" d=\"M 0 0 M92.9363 454.536 L100.575 454.536 L100.575 428.17 L92.2651 429.837 L92.2651 425.577 L100.529 423.911 L105.205 423.911 L105.205 454.536 L112.844 454.536 L112.844 458.471 L92.9363 458.471 L92.9363 454.536 Z\" fill=\"#000000\" fill-rule=\"evenodd\" fill-opacity=\"1\" /><path clip-path=\"url(#clip260)\" d=\"M 0 0 M117.959 423.911 L136.316 423.911 L136.316 427.846 L122.242 427.846 L122.242 436.318 Q123.26 435.971 124.279 435.809 Q125.297 435.624 126.316 435.624 Q132.103 435.624 135.482 438.795 Q138.862 441.966 138.862 447.383 Q138.862 452.962 135.39 456.063 Q131.918 459.142 125.598 459.142 Q123.422 459.142 121.154 458.772 Q118.908 458.401 116.501 457.661 L116.501 452.962 Q118.584 454.096 120.807 454.651 Q123.029 455.207 125.506 455.207 Q129.51 455.207 131.848 453.1 Q134.186 450.994 134.186 447.383 Q134.186 443.772 131.848 441.665 Q129.51 439.559 125.506 439.559 Q123.631 439.559 121.756 439.976 Q119.904 440.392 117.959 441.272 L117.959 423.911 Z\" fill=\"#000000\" fill-rule=\"evenodd\" fill-opacity=\"1\" /><path clip-path=\"url(#clip260)\" d=\"M 0 0 M64.5337 92.1255 Q60.9226 92.1255 59.0939 95.6903 Q57.2884 99.232 57.2884 106.362 Q57.2884 113.468 59.0939 117.033 Q60.9226 120.574 64.5337 120.574 Q68.168 120.574 69.9735 117.033 Q71.8022 113.468 71.8022 106.362 Q71.8022 99.232 69.9735 95.6903 Q68.168 92.1255 64.5337 92.1255 M64.5337 88.4218 Q70.3439 88.4218 73.3994 93.0283 Q76.4781 97.6116 76.4781 106.362 Q76.4781 115.088 73.3994 119.695 Q70.3439 124.278 64.5337 124.278 Q58.7236 124.278 55.6449 119.695 Q52.5893 115.088 52.5893 106.362 Q52.5893 97.6116 55.6449 93.0283 Q58.7236 88.4218 64.5337 88.4218 Z\" fill=\"#000000\" fill-rule=\"evenodd\" fill-opacity=\"1\" /><path clip-path=\"url(#clip260)\" d=\"M 0 0 M81.5475 117.727 L86.4318 117.727 L86.4318 123.607 L81.5475 123.607 L81.5475 117.727 Z\" fill=\"#000000\" fill-rule=\"evenodd\" fill-opacity=\"1\" /><path clip-path=\"url(#clip260)\" d=\"M 0 0 M95.5289 119.672 L111.848 119.672 L111.848 123.607 L89.904 123.607 L89.904 119.672 Q92.566 116.917 97.1493 112.287 Q101.756 107.635 102.936 106.292 Q105.182 103.769 106.061 102.033 Q106.964 100.274 106.964 98.5838 Q106.964 95.8292 105.02 94.0931 Q103.098 92.357 99.9965 92.357 Q97.7974 92.357 95.3437 93.1209 Q92.9132 93.8848 90.1354 95.4357 L90.1354 90.7135 Q92.9595 89.5792 95.4132 89.0005 Q97.8669 88.4218 99.9039 88.4218 Q105.274 88.4218 108.469 91.107 Q111.663 93.7922 111.663 98.2829 Q111.663 100.413 110.853 102.334 Q110.066 104.232 107.959 106.825 Q107.381 107.496 104.279 110.713 Q101.177 113.908 95.5289 119.672 Z\" fill=\"#000000\" fill-rule=\"evenodd\" fill-opacity=\"1\" /><path clip-path=\"url(#clip260)\" d=\"M 0 0 M126.918 92.1255 Q123.307 92.1255 121.478 95.6903 Q119.672 99.232 119.672 106.362 Q119.672 113.468 121.478 117.033 Q123.307 120.574 126.918 120.574 Q130.552 120.574 132.357 117.033 Q134.186 113.468 134.186 106.362 Q134.186 99.232 132.357 95.6903 Q130.552 92.1255 126.918 92.1255 M126.918 88.4218 Q132.728 88.4218 135.783 93.0283 Q138.862 97.6116 138.862 106.362 Q138.862 115.088 135.783 119.695 Q132.728 124.278 126.918 124.278 Q121.107 124.278 118.029 119.695 Q114.973 115.088 114.973 106.362 Q114.973 97.6116 118.029 93.0283 Q121.107 88.4218 126.918 88.4218 Z\" fill=\"#000000\" fill-rule=\"evenodd\" fill-opacity=\"1\" /><polyline clip-path=\"url(#clip262)\" style=\"stroke:#009af9; stroke-width:4; stroke-opacity:1; fill:none\" points=\"\n",
       "  236.501,1422.48 373.475,1308.49 510.449,988.76 647.424,552.232 784.398,173.768 921.373,87.9763 1058.35,323.118 1195.32,696.022 1332.3,1036.71 1469.27,1263.82 \n",
       "  1606.25,1378.21 1743.22,1426.63 1880.19,1441.36 2017.17,1444.58 2154.14,1445.38 2291.12,1445.72 \n",
       "  \"/>\n",
       "<path clip-path=\"url(#clip262)\" d=\"M236.501 1438.48 L225.189 1433.79 L220.501 1422.48 L225.189 1411.16 L236.501 1406.48 L247.813 1411.16 L252.501 1422.48 L247.813 1433.79 Z\" fill=\"#009af9\" fill-rule=\"evenodd\" fill-opacity=\"1\" stroke=\"#000000\" stroke-opacity=\"1\" stroke-width=\"3.2\"/>\n",
       "<path clip-path=\"url(#clip262)\" d=\"M373.475 1324.49 L362.163 1319.8 L357.475 1308.49 L362.163 1297.18 L373.475 1292.49 L384.787 1297.18 L389.475 1308.49 L384.787 1319.8 Z\" fill=\"#009af9\" fill-rule=\"evenodd\" fill-opacity=\"1\" stroke=\"#000000\" stroke-opacity=\"1\" stroke-width=\"3.2\"/>\n",
       "<path clip-path=\"url(#clip262)\" d=\"M510.449 1004.76 L499.137 1000.07 L494.449 988.76 L499.137 977.448 L510.449 972.76 L521.761 977.448 L526.449 988.76 L521.761 1000.07 Z\" fill=\"#009af9\" fill-rule=\"evenodd\" fill-opacity=\"1\" stroke=\"#000000\" stroke-opacity=\"1\" stroke-width=\"3.2\"/>\n",
       "<path clip-path=\"url(#clip262)\" d=\"M647.424 568.232 L636.112 563.544 L631.424 552.232 L636.112 540.92 L647.424 536.232 L658.736 540.92 L663.424 552.232 L658.736 563.544 Z\" fill=\"#009af9\" fill-rule=\"evenodd\" fill-opacity=\"1\" stroke=\"#000000\" stroke-opacity=\"1\" stroke-width=\"3.2\"/>\n",
       "<path clip-path=\"url(#clip262)\" d=\"M784.398 189.768 L773.086 185.08 L768.398 173.768 L773.086 162.456 L784.398 157.768 L795.71 162.456 L800.398 173.768 L795.71 185.08 Z\" fill=\"#009af9\" fill-rule=\"evenodd\" fill-opacity=\"1\" stroke=\"#000000\" stroke-opacity=\"1\" stroke-width=\"3.2\"/>\n",
       "<path clip-path=\"url(#clip262)\" d=\"M921.373 103.976 L910.061 99.2883 L905.373 87.9763 L910.061 76.6643 L921.373 71.9763 L932.685 76.6643 L937.373 87.9763 L932.685 99.2883 Z\" fill=\"#009af9\" fill-rule=\"evenodd\" fill-opacity=\"1\" stroke=\"#000000\" stroke-opacity=\"1\" stroke-width=\"3.2\"/>\n",
       "<path clip-path=\"url(#clip262)\" d=\"M1058.35 339.118 L1047.04 334.43 L1042.35 323.118 L1047.04 311.806 L1058.35 307.118 L1069.66 311.806 L1074.35 323.118 L1069.66 334.43 Z\" fill=\"#009af9\" fill-rule=\"evenodd\" fill-opacity=\"1\" stroke=\"#000000\" stroke-opacity=\"1\" stroke-width=\"3.2\"/>\n",
       "<path clip-path=\"url(#clip262)\" d=\"M1195.32 712.022 L1184.01 707.334 L1179.32 696.022 L1184.01 684.71 L1195.32 680.022 L1206.63 684.71 L1211.32 696.022 L1206.63 707.334 Z\" fill=\"#009af9\" fill-rule=\"evenodd\" fill-opacity=\"1\" stroke=\"#000000\" stroke-opacity=\"1\" stroke-width=\"3.2\"/>\n",
       "<path clip-path=\"url(#clip262)\" d=\"M1332.3 1052.71 L1320.98 1048.02 L1316.3 1036.71 L1320.98 1025.4 L1332.3 1020.71 L1343.61 1025.4 L1348.3 1036.71 L1343.61 1048.02 Z\" fill=\"#009af9\" fill-rule=\"evenodd\" fill-opacity=\"1\" stroke=\"#000000\" stroke-opacity=\"1\" stroke-width=\"3.2\"/>\n",
       "<path clip-path=\"url(#clip262)\" d=\"M1469.27 1279.82 L1457.96 1275.13 L1453.27 1263.82 L1457.96 1252.51 L1469.27 1247.82 L1480.58 1252.51 L1485.27 1263.82 L1480.58 1275.13 Z\" fill=\"#009af9\" fill-rule=\"evenodd\" fill-opacity=\"1\" stroke=\"#000000\" stroke-opacity=\"1\" stroke-width=\"3.2\"/>\n",
       "<path clip-path=\"url(#clip262)\" d=\"M1606.25 1394.21 L1594.93 1389.52 L1590.25 1378.21 L1594.93 1366.9 L1606.25 1362.21 L1617.56 1366.9 L1622.25 1378.21 L1617.56 1389.52 Z\" fill=\"#009af9\" fill-rule=\"evenodd\" fill-opacity=\"1\" stroke=\"#000000\" stroke-opacity=\"1\" stroke-width=\"3.2\"/>\n",
       "<path clip-path=\"url(#clip262)\" d=\"M1743.22 1442.63 L1731.91 1437.94 L1727.22 1426.63 L1731.91 1415.32 L1743.22 1410.63 L1754.53 1415.32 L1759.22 1426.63 L1754.53 1437.94 Z\" fill=\"#009af9\" fill-rule=\"evenodd\" fill-opacity=\"1\" stroke=\"#000000\" stroke-opacity=\"1\" stroke-width=\"3.2\"/>\n",
       "<path clip-path=\"url(#clip262)\" d=\"M1880.19 1457.36 L1868.88 1452.67 L1864.19 1441.36 L1868.88 1430.05 L1880.19 1425.36 L1891.51 1430.05 L1896.19 1441.36 L1891.51 1452.67 Z\" fill=\"#009af9\" fill-rule=\"evenodd\" fill-opacity=\"1\" stroke=\"#000000\" stroke-opacity=\"1\" stroke-width=\"3.2\"/>\n",
       "<path clip-path=\"url(#clip262)\" d=\"M2017.17 1460.58 L2005.86 1455.89 L2001.17 1444.58 L2005.86 1433.27 L2017.17 1428.58 L2028.48 1433.27 L2033.17 1444.58 L2028.48 1455.89 Z\" fill=\"#009af9\" fill-rule=\"evenodd\" fill-opacity=\"1\" stroke=\"#000000\" stroke-opacity=\"1\" stroke-width=\"3.2\"/>\n",
       "<path clip-path=\"url(#clip262)\" d=\"M2154.14 1461.38 L2142.83 1456.69 L2138.14 1445.38 L2142.83 1434.07 L2154.14 1429.38 L2165.45 1434.07 L2170.14 1445.38 L2165.45 1456.69 Z\" fill=\"#009af9\" fill-rule=\"evenodd\" fill-opacity=\"1\" stroke=\"#000000\" stroke-opacity=\"1\" stroke-width=\"3.2\"/>\n",
       "<path clip-path=\"url(#clip262)\" d=\"M2291.12 1461.72 L2279.81 1457.03 L2275.12 1445.72 L2279.81 1434.4 L2291.12 1429.72 L2302.43 1434.4 L2307.12 1445.72 L2302.43 1457.03 Z\" fill=\"#009af9\" fill-rule=\"evenodd\" fill-opacity=\"1\" stroke=\"#000000\" stroke-opacity=\"1\" stroke-width=\"3.2\"/>\n",
       "<path clip-path=\"url(#clip260)\" d=\"\n",
       "M1987.15 216.178 L2280.16 216.178 L2280.16 95.2176 L1987.15 95.2176  Z\n",
       "  \" fill=\"#ffffff\" fill-rule=\"evenodd\" fill-opacity=\"1\"/>\n",
       "<polyline clip-path=\"url(#clip260)\" style=\"stroke:#000000; stroke-width:4; stroke-opacity:1; fill:none\" points=\"\n",
       "  1987.15,216.178 2280.16,216.178 2280.16,95.2176 1987.15,95.2176 1987.15,216.178 \n",
       "  \"/>\n",
       "<polyline clip-path=\"url(#clip260)\" style=\"stroke:#009af9; stroke-width:4; stroke-opacity:1; fill:none\" points=\"\n",
       "  2011.35,155.698 2156.54,155.698 \n",
       "  \"/>\n",
       "<path clip-path=\"url(#clip260)\" d=\"M2083.95 181.298 L2065.85 173.797 L2058.35 155.698 L2065.85 137.598 L2083.95 130.098 L2102.05 137.598 L2109.55 155.698 L2102.05 173.797 Z\" fill=\"#009af9\" fill-rule=\"evenodd\" fill-opacity=\"1\" stroke=\"#000000\" stroke-opacity=\"1\" stroke-width=\"5.12\"/>\n",
       "<path clip-path=\"url(#clip260)\" d=\"M 0 0 M2194.59 175.385 Q2192.78 180.015 2191.07 181.427 Q2189.35 182.839 2186.48 182.839 L2183.08 182.839 L2183.08 179.274 L2185.58 179.274 Q2187.34 179.274 2188.31 178.44 Q2189.29 177.607 2190.47 174.505 L2191.23 172.561 L2180.74 147.052 L2185.26 147.052 L2193.36 167.329 L2201.46 147.052 L2205.97 147.052 L2194.59 175.385 Z\" fill=\"#000000\" fill-rule=\"evenodd\" fill-opacity=\"1\" /><path clip-path=\"url(#clip260)\" d=\"M 0 0 M2211.85 169.042 L2219.49 169.042 L2219.49 142.677 L2211.18 144.343 L2211.18 140.084 L2219.45 138.418 L2224.12 138.418 L2224.12 169.042 L2231.76 169.042 L2231.76 172.978 L2211.85 172.978 L2211.85 169.042 Z\" fill=\"#000000\" fill-rule=\"evenodd\" fill-opacity=\"1\" /></svg>\n"
      ]
     },
     "execution_count": 86,
     "metadata": {},
     "output_type": "execute_result"
    }
   ],
   "source": [
    "data = count_them(run_experiments(0.25, 20, 10^5))\n",
    "\n",
    "plot(0:length(data)-1, data ./ sum(data), m=:o)"
   ]
  },
  {
   "cell_type": "code",
   "execution_count": 87,
   "metadata": {},
   "outputs": [
    {
     "name": "stdout",
     "output_type": "stream",
     "text": [
      "  0.025842 seconds (100.00 k allocations: 11.444 MiB)\n"
     ]
    },
    {
     "data": {
      "text/plain": [
       "16-element Vector{Int64}:\n",
       "   317\n",
       "  2042\n",
       "  6691\n",
       " 13548\n",
       " 19262\n",
       " 20236\n",
       " 16802\n",
       " 11109\n",
       "  5958\n",
       "  2667\n",
       "   964\n",
       "   313\n",
       "    71\n",
       "    17\n",
       "     2\n",
       "     1"
      ]
     },
     "execution_count": 87,
     "metadata": {},
     "output_type": "execute_result"
    }
   ],
   "source": [
    "@time data = count_them(run_experiments(0.25, 20, 10^5))"
   ]
  },
  {
   "cell_type": "code",
   "execution_count": 88,
   "metadata": {},
   "outputs": [
    {
     "data": {
      "text/plain": [
       "15-element Vector{Float64}:\n",
       " 0.00313\n",
       " 0.02102\n",
       " 0.06891\n",
       " 0.13522\n",
       " 0.18802\n",
       " 0.20162\n",
       " 0.16734\n",
       " 0.1129\n",
       " 0.06135\n",
       " 0.02684\n",
       " 0.01002\n",
       " 0.00278\n",
       " 0.00067\n",
       " 0.00014\n",
       " 4.0e-5"
      ]
     },
     "execution_count": 88,
     "metadata": {},
     "output_type": "execute_result"
    }
   ],
   "source": [
    "Nₑₓₚₜₛ = 10^5\n",
    "data = count_them(run_experiments(0.25, 20, Nₑₓₚₜₛ))\n",
    "\n",
    "probs = data ./ Nₑₓₚₜₛ"
   ]
  },
  {
   "cell_type": "code",
   "execution_count": 89,
   "metadata": {},
   "outputs": [
    {
     "data": {
      "text/plain": [
       "1.0"
      ]
     },
     "execution_count": 89,
     "metadata": {},
     "output_type": "execute_result"
    }
   ],
   "source": [
    "sum(probs)"
   ]
  },
  {
   "cell_type": "code",
   "execution_count": 91,
   "metadata": {},
   "outputs": [
    {
     "data": {
      "text/plain": [
       "3//4"
      ]
     },
     "execution_count": 91,
     "metadata": {},
     "output_type": "execute_result"
    }
   ],
   "source": [
    "x = 3 // 4"
   ]
  },
  {
   "cell_type": "code",
   "execution_count": 92,
   "metadata": {},
   "outputs": [
    {
     "data": {
      "text/plain": [
       "Rational{Int64}"
      ]
     },
     "execution_count": 92,
     "metadata": {},
     "output_type": "execute_result"
    }
   ],
   "source": [
    "typeof(x)"
   ]
  },
  {
   "cell_type": "code",
   "execution_count": 93,
   "metadata": {},
   "outputs": [
    {
     "data": {
      "text/plain": [
       "3//2"
      ]
     },
     "execution_count": 93,
     "metadata": {},
     "output_type": "execute_result"
    }
   ],
   "source": [
    "x + x"
   ]
  },
  {
   "cell_type": "code",
   "execution_count": 94,
   "metadata": {},
   "outputs": [
    {
     "data": {
      "text/plain": [
       "15-element Vector{Rational{Int64}}:\n",
       "   313//100000\n",
       "  1051//50000\n",
       "  6891//100000\n",
       "  6761//50000\n",
       "  9401//50000\n",
       " 10081//50000\n",
       "  8367//50000\n",
       "  1129//10000\n",
       "  1227//20000\n",
       "   671//25000\n",
       "   501//50000\n",
       "   139//50000\n",
       "    67//100000\n",
       "     7//50000\n",
       "     1//25000"
      ]
     },
     "execution_count": 94,
     "metadata": {},
     "output_type": "execute_result"
    }
   ],
   "source": [
    "probs = data .// Nₑₓₚₜₛ"
   ]
  },
  {
   "cell_type": "code",
   "execution_count": 95,
   "metadata": {},
   "outputs": [
    {
     "data": {
      "text/plain": [
       "1//1"
      ]
     },
     "execution_count": 95,
     "metadata": {},
     "output_type": "execute_result"
    }
   ],
   "source": [
    "sum(probs)"
   ]
  },
  {
   "cell_type": "code",
   "execution_count": 96,
   "metadata": {},
   "outputs": [
    {
     "ename": "LoadError",
     "evalue": "UndefVarError: mean not defined",
     "output_type": "error",
     "traceback": [
      "UndefVarError: mean not defined",
      "",
      "Stacktrace:",
      " [1] top-level scope",
      "   @ In[96]:1",
      " [2] eval",
      "   @ ./boot.jl:360 [inlined]",
      " [3] include_string(mapexpr::typeof(REPL.softscope), mod::Module, code::String, filename::String)",
      "   @ Base ./loading.jl:1094"
     ]
    }
   ],
   "source": [
    "mean(data)"
   ]
  },
  {
   "cell_type": "code",
   "execution_count": 102,
   "metadata": {},
   "outputs": [
    {
     "data": {
      "text/plain": [
       "4.99452"
      ]
     },
     "execution_count": 102,
     "metadata": {},
     "output_type": "execute_result"
    }
   ],
   "source": [
    "using Statistics\n",
    "results = run_experiments(0.25, 20, 10^5)\n",
    "mean(results)"
   ]
  },
  {
   "cell_type": "markdown",
   "metadata": {},
   "source": [
    "Expected mean value = $N * p$"
   ]
  },
  {
   "cell_type": "code",
   "execution_count": null,
   "metadata": {},
   "outputs": [],
   "source": []
  }
 ],
 "metadata": {
  "@webio": {
   "lastCommId": "c271e973-bf14-41d5-a7ed-2577a6c32ff2",
   "lastKernelId": "7fa8fe9e-41fc-430a-b33b-f0b95edc8e1b"
  },
  "kernelspec": {
   "display_name": "Julia 1.6.0",
   "language": "julia",
   "name": "julia-1.6"
  },
  "language_info": {
   "file_extension": ".jl",
   "mimetype": "application/julia",
   "name": "julia",
   "version": "1.6.0"
  }
 },
 "nbformat": 4,
 "nbformat_minor": 4
}
