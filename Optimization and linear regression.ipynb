{
 "cells": [
  {
   "cell_type": "markdown",
   "metadata": {},
   "source": [
    "# SIR Model"
   ]
  },
  {
   "cell_type": "markdown",
   "metadata": {},
   "source": [
    "Reworked from http://epirecip.es/epicookbook/chapters/sir/julia"
   ]
  },
  {
   "cell_type": "markdown",
   "metadata": {},
   "source": [
    "- $S(t)$ = number of susceptible individuals at time $t$\n",
    "- $I(t)$ = number of infectious individuals at time $t$\n",
    "- $R(t)$ = number of recovered / removed individuals at time time $t$"
   ]
  },
  {
   "cell_type": "markdown",
   "metadata": {},
   "source": [
    "Satisfy $S + I + R = N$, total population"
   ]
  },
  {
   "cell_type": "markdown",
   "metadata": {},
   "source": [
    "Write in terms of the _proportions_ $S(t) / N$."
   ]
  },
  {
   "cell_type": "markdown",
   "metadata": {},
   "source": [
    "At each time $t > 0$ we have the following **system of ODEs**:"
   ]
  },
  {
   "cell_type": "markdown",
   "metadata": {},
   "source": [
    "$$\\frac{dS(t)}{dt} = - β S(t) I(t)$$\n",
    "$$\\frac{dI(t)}{dt} = + β S(t) I(t) - γ I(t)$$\n",
    "$$\\frac{dR(t)}{dt} = + γ I(t)$$"
   ]
  },
  {
   "cell_type": "markdown",
   "metadata": {},
   "source": [
    "$dS/t$ is the _rate of change_ of $S(t)$"
   ]
  },
  {
   "cell_type": "markdown",
   "metadata": {},
   "source": [
    "Simple: Rewrite without the explicit functions of $t$, and use notation $\\dot S := \\frac{dS}{dt}$"
   ]
  },
  {
   "cell_type": "markdown",
   "metadata": {},
   "source": [
    "$$\\dot S = - \\beta S I$$\n",
    "$$\\dot I = + \\beta S I - \\gamma I$$\n",
    "$$\\dot R = + \\gamma I$$"
   ]
  },
  {
   "cell_type": "markdown",
   "metadata": {},
   "source": [
    "We define a function to represent the right-hand side of the system of ODEs.  "
   ]
  },
  {
   "cell_type": "markdown",
   "metadata": {},
   "source": [
    "We need a dunction that accepts the vector `u` of the current values of all the variabloes $u = (S(t), I(t), R(t))$, as well as the time $t$ and the parameter values $p$.  "
   ]
  },
  {
   "cell_type": "markdown",
   "metadata": {},
   "source": [
    "It also accepts another variable $du$. This is another (pre-allocated) vector, where it will write the output. Note that you should *not* create a new vector yourself; you must write into the pre-existing vector `du`."
   ]
  },
  {
   "cell_type": "markdown",
   "metadata": {},
   "source": [
    "You must use this ordering of the arguments to the function in order to use that function with `DifferentialEquations.jl`"
   ]
  },
  {
   "cell_type": "code",
   "execution_count": 3,
   "metadata": {},
   "outputs": [],
   "source": [
    "using DifferentialEquations"
   ]
  },
  {
   "cell_type": "code",
   "execution_count": null,
   "metadata": {},
   "outputs": [],
   "source": [
    "function sir_ode!(du, u, p, t)"
   ]
  }
 ],
 "metadata": {
  "kernelspec": {
   "display_name": "Julia 1.6.0",
   "language": "julia",
   "name": "julia-1.6"
  },
  "language_info": {
   "file_extension": ".jl",
   "mimetype": "application/julia",
   "name": "julia",
   "version": "1.6.0"
  }
 },
 "nbformat": 4,
 "nbformat_minor": 4
}
