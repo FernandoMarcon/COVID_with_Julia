{
 "cells": [
  {
   "cell_type": "markdown",
   "metadata": {},
   "source": [
    "# Networks (or graphs)\n",
    "- In our simulations, agents move and touch each other\n",
    "- Contact via touch\n",
    "- Can abstract this by having contact represented _implicitly_\n",
    "- \"__Network__\" of contacts: who I may transmit infection to\n",
    "- E.g. Family, friends, people on campus, people in bank / nigthclub..."
   ]
  },
  {
   "cell_type": "markdown",
   "metadata": {},
   "source": [
    "How can we represent this on the computer?"
   ]
  },
  {
   "cell_type": "code",
   "execution_count": null,
   "metadata": {},
   "outputs": [],
   "source": []
  }
 ],
 "metadata": {
  "kernelspec": {
   "display_name": "Julia 1.6.0",
   "language": "julia",
   "name": "julia-1.6"
  },
  "language_info": {
   "file_extension": ".jl",
   "mimetype": "application/julia",
   "name": "julia",
   "version": "1.6.0"
  }
 },
 "nbformat": 4,
 "nbformat_minor": 4
}
