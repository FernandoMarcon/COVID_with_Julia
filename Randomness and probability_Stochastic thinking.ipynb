{
 "cells": [
  {
   "cell_type": "markdown",
   "metadata": {},
   "source": [
    "# Randomness and probability: Stochastic thinking"
   ]
  },
  {
   "cell_type": "markdown",
   "metadata": {},
   "source": [
    "Randomness &rarr; *unknown information* in dynamical processes"
   ]
  },
  {
   "cell_type": "markdown",
   "metadata": {},
   "source": [
    "## Recovery from infection"
   ]
  },
  {
   "cell_type": "markdown",
   "metadata": {},
   "source": [
    "Simple model of recovery from infection:\n",
    "   - Constant recovery \"rate\"\n",
    "   - Model as constant **probability** *p* to recover each day \n",
    "   - Models fact that peoples' immune systems behave differently\n",
    "   - Affected by temperature, nutrition, dust in house etc.   "
   ]
  },
  {
   "cell_type": "markdown",
   "metadata": {},
   "source": [
    "## Some relevant questions\n",
    "   - How simulate this **stochastic process**?\n",
    "   - How long will infection last?\n",
    "   - Does it make sense to talk about an *average* infection duration? \n",
    "   - Is this, in the end, a \"good model\"?\n",
    "   - Does it reproduce the data?"
   ]
  },
  {
   "cell_type": "markdown",
   "metadata": {},
   "source": [
    "## Computing using randomness\n",
    "How generate rendomness on computer?\n",
    "   - Computers are deterministic, so *we can't*! \n",
    "   - Start-upsequence of computer generates \"entropy\" = unpredictable bits \n",
    "   - Use real physical process, e.g. noise from electronic circuit or [atmospheric noise](www.random.org)\n",
    "   - Generate \"random-looking\" sequences using deterministic process, e.g. \"linear congruential generator\" (1970s)."
   ]
  },
  {
   "cell_type": "markdown",
   "metadata": {},
   "source": [
    "### Pseudo-random numbers\n",
    "- Uses sophisticated modern random number generator: Mersenne twister"
   ]
  },
  {
   "cell_type": "markdown",
   "metadata": {},
   "source": [
    "# Modelling the recovery process using probability"
   ]
  },
  {
   "cell_type": "markdown",
   "metadata": {},
   "source": [
    "Using previous model for $I_{n+1} = (1+c) I_n = \\lambda * I_n$:"
   ]
  },
  {
   "cell_type": "code",
   "execution_count": 1,
   "metadata": {},
   "outputs": [
    {
     "data": {
      "text/plain": [
       "run_infection (generic function with 2 methods)"
      ]
     },
     "execution_count": 1,
     "metadata": {},
     "output_type": "execute_result"
    }
   ],
   "source": [
    "function run_infection(I₀, λ, T=20)\n",
    "    \n",
    "    I = zeros(T)\n",
    "    I[1] = I₀\n",
    "    \n",
    "    for n in 1:T-1\n",
    "        I[n+1] = λ * I[n]\n",
    "    end\n",
    "\n",
    "    return I\n",
    "end"
   ]
  },
  {
   "cell_type": "code",
   "execution_count": 3,
   "metadata": {},
   "outputs": [
    {
     "data": {
      "text/plain": [
       "20-element Vector{Float64}:\n",
       " 1.0\n",
       " 0.1\n",
       " 0.010000000000000002\n",
       " 0.0010000000000000002\n",
       " 0.00010000000000000003\n",
       " 1.0000000000000004e-5\n",
       " 1.0000000000000004e-6\n",
       " 1.0000000000000005e-7\n",
       " 1.0000000000000005e-8\n",
       " 1.0000000000000005e-9\n",
       " 1.0000000000000006e-10\n",
       " 1.0000000000000006e-11\n",
       " 1.0000000000000006e-12\n",
       " 1.0000000000000007e-13\n",
       " 1.0000000000000008e-14\n",
       " 1.0000000000000009e-15\n",
       " 1.000000000000001e-16\n",
       " 1.000000000000001e-17\n",
       " 1.000000000000001e-18\n",
       " 1.000000000000001e-19"
      ]
     },
     "execution_count": 3,
     "metadata": {},
     "output_type": "execute_result"
    }
   ],
   "source": [
    "run_infection(1.,.1)"
   ]
  },
  {
   "cell_type": "markdown",
   "metadata": {},
   "source": [
    "## Adding new data to extend a vector"
   ]
  },
  {
   "cell_type": "code",
   "execution_count": 22,
   "metadata": {},
   "outputs": [
    {
     "data": {
      "text/plain": [
       "1-element Vector{Float64}:\n",
       " 1.0"
      ]
     },
     "execution_count": 22,
     "metadata": {},
     "output_type": "execute_result"
    }
   ],
   "source": [
    "v = [1.]"
   ]
  },
  {
   "cell_type": "code",
   "execution_count": 23,
   "metadata": {},
   "outputs": [
    {
     "data": {
      "text/plain": [
       "2-element Vector{Float64}:\n",
       " 1.0\n",
       " 7.0"
      ]
     },
     "execution_count": 23,
     "metadata": {},
     "output_type": "execute_result"
    }
   ],
   "source": [
    "push!(v, 7.0) # ! means: function `push!` modifies its first argument"
   ]
  },
  {
   "cell_type": "code",
   "execution_count": 24,
   "metadata": {},
   "outputs": [
    {
     "data": {
      "text/plain": [
       "2"
      ]
     },
     "execution_count": 24,
     "metadata": {},
     "output_type": "execute_result"
    }
   ],
   "source": [
    "length(v)"
   ]
  },
  {
   "cell_type": "code",
   "execution_count": 25,
   "metadata": {},
   "outputs": [
    {
     "data": {
      "text/plain": [
       "3-element Vector{Float64}:\n",
       " 8.0\n",
       " 1.0\n",
       " 7.0"
      ]
     },
     "execution_count": 25,
     "metadata": {},
     "output_type": "execute_result"
    }
   ],
   "source": [
    "pushfirst!(v, 8) # deque - double-ended queue"
   ]
  },
  {
   "cell_type": "code",
   "execution_count": 26,
   "metadata": {},
   "outputs": [
    {
     "data": {
      "text/plain": [
       "run_infection (generic function with 2 methods)"
      ]
     },
     "execution_count": 26,
     "metadata": {},
     "output_type": "execute_result"
    }
   ],
   "source": [
    "function run_infection(I₀, λ, T=20)\n",
    "    \n",
    "    Iₛ = [I₀]\n",
    "    I = I₀\n",
    "    \n",
    "    for n in 1:T-1\n",
    "        Iₙₑₓₜ = λ * I\n",
    "        push!(Iₛ, Iₙₑₓₜ)\n",
    "        I = Iₙₑₓₜ\n",
    "    end\n",
    "\n",
    "    return Iₛ\n",
    "end"
   ]
  },
  {
   "cell_type": "code",
   "execution_count": 27,
   "metadata": {},
   "outputs": [
    {
     "data": {
      "text/plain": [
       "20-element Vector{Float64}:\n",
       " 1.0\n",
       " 1.1\n",
       " 1.2100000000000002\n",
       " 1.3310000000000004\n",
       " 1.4641000000000006\n",
       " 1.6105100000000008\n",
       " 1.771561000000001\n",
       " 1.9487171000000014\n",
       " 2.1435888100000016\n",
       " 2.357947691000002\n",
       " 2.5937424601000023\n",
       " 2.853116706110003\n",
       " 3.1384283767210035\n",
       " 3.4522712143931042\n",
       " 3.797498335832415\n",
       " 4.177248169415656\n",
       " 4.594972986357222\n",
       " 5.054470284992944\n",
       " 5.559917313492239\n",
       " 6.115909044841463"
      ]
     },
     "execution_count": 27,
     "metadata": {},
     "output_type": "execute_result"
    }
   ],
   "source": [
    "run_infection(1.0,1.1)"
   ]
  },
  {
   "cell_type": "markdown",
   "metadata": {},
   "source": [
    "## Randomness"
   ]
  },
  {
   "cell_type": "code",
   "execution_count": 28,
   "metadata": {},
   "outputs": [],
   "source": [
    "using Random\n",
    "using Plots"
   ]
  },
  {
   "cell_type": "code",
   "execution_count": 30,
   "metadata": {},
   "outputs": [],
   "source": [
    "Random.seed!(3);"
   ]
  },
  {
   "cell_type": "code",
   "execution_count": 31,
   "metadata": {},
   "outputs": [],
   "source": [
    "r = rand(100);"
   ]
  },
  {
   "cell_type": "code",
   "execution_count": 32,
   "metadata": {},
   "outputs": [
    {
     "data": {
      "image/svg+xml": [
       "<?xml version=\"1.0\" encoding=\"utf-8\"?>\n",
       "<svg xmlns=\"http://www.w3.org/2000/svg\" xmlns:xlink=\"http://www.w3.org/1999/xlink\" width=\"600\" height=\"400\" viewBox=\"0 0 2400 1600\">\n",
       "<defs>\n",
       "  <clipPath id=\"clip360\">\n",
       "    <rect x=\"0\" y=\"0\" width=\"2400\" height=\"1600\"/>\n",
       "  </clipPath>\n",
       "</defs>\n",
       "<path clip-path=\"url(#clip360)\" d=\"\n",
       "M0 1600 L2400 1600 L2400 0 L0 0  Z\n",
       "  \" fill=\"#ffffff\" fill-rule=\"evenodd\" fill-opacity=\"1\"/>\n",
       "<defs>\n",
       "  <clipPath id=\"clip361\">\n",
       "    <rect x=\"480\" y=\"0\" width=\"1681\" height=\"1600\"/>\n",
       "  </clipPath>\n",
       "</defs>\n",
       "<path clip-path=\"url(#clip360)\" d=\"\n",
       "M174.862 1486.45 L2352.76 1486.45 L2352.76 47.2441 L174.862 47.2441  Z\n",
       "  \" fill=\"#ffffff\" fill-rule=\"evenodd\" fill-opacity=\"1\"/>\n",
       "<defs>\n",
       "  <clipPath id=\"clip362\">\n",
       "    <rect x=\"174\" y=\"47\" width=\"2179\" height=\"1440\"/>\n",
       "  </clipPath>\n",
       "</defs>\n",
       "<polyline clip-path=\"url(#clip362)\" style=\"stroke:#000000; stroke-width:2; stroke-opacity:0.1; fill:none\" points=\"\n",
       "  215.747,1486.45 215.747,47.2441 \n",
       "  \"/>\n",
       "<polyline clip-path=\"url(#clip362)\" style=\"stroke:#000000; stroke-width:2; stroke-opacity:0.1; fill:none\" points=\"\n",
       "  734.589,1486.45 734.589,47.2441 \n",
       "  \"/>\n",
       "<polyline clip-path=\"url(#clip362)\" style=\"stroke:#000000; stroke-width:2; stroke-opacity:0.1; fill:none\" points=\"\n",
       "  1253.43,1486.45 1253.43,47.2441 \n",
       "  \"/>\n",
       "<polyline clip-path=\"url(#clip362)\" style=\"stroke:#000000; stroke-width:2; stroke-opacity:0.1; fill:none\" points=\"\n",
       "  1772.27,1486.45 1772.27,47.2441 \n",
       "  \"/>\n",
       "<polyline clip-path=\"url(#clip362)\" style=\"stroke:#000000; stroke-width:2; stroke-opacity:0.1; fill:none\" points=\"\n",
       "  2291.12,1486.45 2291.12,47.2441 \n",
       "  \"/>\n",
       "<polyline clip-path=\"url(#clip360)\" style=\"stroke:#000000; stroke-width:4; stroke-opacity:1; fill:none\" points=\"\n",
       "  174.862,1486.45 2352.76,1486.45 \n",
       "  \"/>\n",
       "<polyline clip-path=\"url(#clip360)\" style=\"stroke:#000000; stroke-width:4; stroke-opacity:1; fill:none\" points=\"\n",
       "  215.747,1486.45 215.747,1469.18 \n",
       "  \"/>\n",
       "<polyline clip-path=\"url(#clip360)\" style=\"stroke:#000000; stroke-width:4; stroke-opacity:1; fill:none\" points=\"\n",
       "  734.589,1486.45 734.589,1469.18 \n",
       "  \"/>\n",
       "<polyline clip-path=\"url(#clip360)\" style=\"stroke:#000000; stroke-width:4; stroke-opacity:1; fill:none\" points=\"\n",
       "  1253.43,1486.45 1253.43,1469.18 \n",
       "  \"/>\n",
       "<polyline clip-path=\"url(#clip360)\" style=\"stroke:#000000; stroke-width:4; stroke-opacity:1; fill:none\" points=\"\n",
       "  1772.27,1486.45 1772.27,1469.18 \n",
       "  \"/>\n",
       "<polyline clip-path=\"url(#clip360)\" style=\"stroke:#000000; stroke-width:4; stroke-opacity:1; fill:none\" points=\"\n",
       "  2291.12,1486.45 2291.12,1469.18 \n",
       "  \"/>\n",
       "<path clip-path=\"url(#clip360)\" d=\"M 0 0 M215.747 1515.64 Q212.136 1515.64 210.307 1519.2 Q208.501 1522.75 208.501 1529.87 Q208.501 1536.98 210.307 1540.55 Q212.136 1544.09 215.747 1544.09 Q219.381 1544.09 221.187 1540.55 Q223.015 1536.98 223.015 1529.87 Q223.015 1522.75 221.187 1519.2 Q219.381 1515.64 215.747 1515.64 M215.747 1511.93 Q221.557 1511.93 224.613 1516.54 Q227.691 1521.12 227.691 1529.87 Q227.691 1538.6 224.613 1543.21 Q221.557 1547.79 215.747 1547.79 Q209.937 1547.79 206.858 1543.21 Q203.802 1538.6 203.802 1529.87 Q203.802 1521.12 206.858 1516.54 Q209.937 1511.93 215.747 1511.93 Z\" fill=\"#000000\" fill-rule=\"evenodd\" fill-opacity=\"1\" /><path clip-path=\"url(#clip360)\" d=\"M 0 0 M716.233 1543.18 L732.552 1543.18 L732.552 1547.12 L710.608 1547.12 L710.608 1543.18 Q713.27 1540.43 717.853 1535.8 Q722.46 1531.15 723.64 1529.81 Q725.886 1527.28 726.765 1525.55 Q727.668 1523.79 727.668 1522.1 Q727.668 1519.34 725.724 1517.61 Q723.802 1515.87 720.701 1515.87 Q718.502 1515.87 716.048 1516.63 Q713.617 1517.4 710.84 1518.95 L710.84 1514.23 Q713.664 1513.09 716.117 1512.51 Q718.571 1511.93 720.608 1511.93 Q725.978 1511.93 729.173 1514.62 Q732.367 1517.31 732.367 1521.8 Q732.367 1523.93 731.557 1525.85 Q730.77 1527.74 728.664 1530.34 Q728.085 1531.01 724.983 1534.23 Q721.881 1537.42 716.233 1543.18 Z\" fill=\"#000000\" fill-rule=\"evenodd\" fill-opacity=\"1\" /><path clip-path=\"url(#clip360)\" d=\"M 0 0 M737.668 1512.56 L756.025 1512.56 L756.025 1516.5 L741.951 1516.5 L741.951 1524.97 Q742.969 1524.62 743.988 1524.46 Q745.006 1524.27 746.025 1524.27 Q751.812 1524.27 755.191 1527.44 Q758.571 1530.62 758.571 1536.03 Q758.571 1541.61 755.099 1544.71 Q751.626 1547.79 745.307 1547.79 Q743.131 1547.79 740.863 1547.42 Q738.617 1547.05 736.21 1546.31 L736.21 1541.61 Q738.293 1542.74 740.515 1543.3 Q742.738 1543.86 745.214 1543.86 Q749.219 1543.86 751.557 1541.75 Q753.895 1539.64 753.895 1536.03 Q753.895 1532.42 751.557 1530.31 Q749.219 1528.21 745.214 1528.21 Q743.339 1528.21 741.464 1528.62 Q739.613 1529.04 737.668 1529.92 L737.668 1512.56 Z\" fill=\"#000000\" fill-rule=\"evenodd\" fill-opacity=\"1\" /><path clip-path=\"url(#clip360)\" d=\"M 0 0 M1230.2 1512.56 L1248.56 1512.56 L1248.56 1516.5 L1234.49 1516.5 L1234.49 1524.97 Q1235.5 1524.62 1236.52 1524.46 Q1237.54 1524.27 1238.56 1524.27 Q1244.35 1524.27 1247.73 1527.44 Q1251.11 1530.62 1251.11 1536.03 Q1251.11 1541.61 1247.63 1544.71 Q1244.16 1547.79 1237.84 1547.79 Q1235.67 1547.79 1233.4 1547.42 Q1231.15 1547.05 1228.74 1546.31 L1228.74 1541.61 Q1230.83 1542.74 1233.05 1543.3 Q1235.27 1543.86 1237.75 1543.86 Q1241.75 1543.86 1244.09 1541.75 Q1246.43 1539.64 1246.43 1536.03 Q1246.43 1532.42 1244.09 1530.31 Q1241.75 1528.21 1237.75 1528.21 Q1235.87 1528.21 1234 1528.62 Q1232.15 1529.04 1230.2 1529.92 L1230.2 1512.56 Z\" fill=\"#000000\" fill-rule=\"evenodd\" fill-opacity=\"1\" /><path clip-path=\"url(#clip360)\" d=\"M 0 0 M1266.18 1515.64 Q1262.56 1515.64 1260.74 1519.2 Q1258.93 1522.75 1258.93 1529.87 Q1258.93 1536.98 1260.74 1540.55 Q1262.56 1544.09 1266.18 1544.09 Q1269.81 1544.09 1271.61 1540.55 Q1273.44 1536.98 1273.44 1529.87 Q1273.44 1522.75 1271.61 1519.2 Q1269.81 1515.64 1266.18 1515.64 M1266.18 1511.93 Q1271.99 1511.93 1275.04 1516.54 Q1278.12 1521.12 1278.12 1529.87 Q1278.12 1538.6 1275.04 1543.21 Q1271.99 1547.79 1266.18 1547.79 Q1260.36 1547.79 1257.29 1543.21 Q1254.23 1538.6 1254.23 1529.87 Q1254.23 1521.12 1257.29 1516.54 Q1260.36 1511.93 1266.18 1511.93 Z\" fill=\"#000000\" fill-rule=\"evenodd\" fill-opacity=\"1\" /><path clip-path=\"url(#clip360)\" d=\"M 0 0 M1748.15 1512.56 L1770.38 1512.56 L1770.38 1514.55 L1757.83 1547.12 L1752.95 1547.12 L1764.75 1516.5 L1748.15 1516.5 L1748.15 1512.56 Z\" fill=\"#000000\" fill-rule=\"evenodd\" fill-opacity=\"1\" /><path clip-path=\"url(#clip360)\" d=\"M 0 0 M1775.49 1512.56 L1793.85 1512.56 L1793.85 1516.5 L1779.77 1516.5 L1779.77 1524.97 Q1780.79 1524.62 1781.81 1524.46 Q1782.83 1524.27 1783.85 1524.27 Q1789.64 1524.27 1793.02 1527.44 Q1796.39 1530.62 1796.39 1536.03 Q1796.39 1541.61 1792.92 1544.71 Q1789.45 1547.79 1783.13 1547.79 Q1780.96 1547.79 1778.69 1547.42 Q1776.44 1547.05 1774.03 1546.31 L1774.03 1541.61 Q1776.12 1542.74 1778.34 1543.3 Q1780.56 1543.86 1783.04 1543.86 Q1787.04 1543.86 1789.38 1541.75 Q1791.72 1539.64 1791.72 1536.03 Q1791.72 1532.42 1789.38 1530.31 Q1787.04 1528.21 1783.04 1528.21 Q1781.16 1528.21 1779.29 1528.62 Q1777.44 1529.04 1775.49 1529.92 L1775.49 1512.56 Z\" fill=\"#000000\" fill-rule=\"evenodd\" fill-opacity=\"1\" /><path clip-path=\"url(#clip360)\" d=\"M 0 0 M2254.49 1543.18 L2262.12 1543.18 L2262.12 1516.82 L2253.81 1518.49 L2253.81 1514.23 L2262.08 1512.56 L2266.75 1512.56 L2266.75 1543.18 L2274.39 1543.18 L2274.39 1547.12 L2254.49 1547.12 L2254.49 1543.18 Z\" fill=\"#000000\" fill-rule=\"evenodd\" fill-opacity=\"1\" /><path clip-path=\"url(#clip360)\" d=\"M 0 0 M2289.46 1515.64 Q2285.85 1515.64 2284.02 1519.2 Q2282.22 1522.75 2282.22 1529.87 Q2282.22 1536.98 2284.02 1540.55 Q2285.85 1544.09 2289.46 1544.09 Q2293.1 1544.09 2294.9 1540.55 Q2296.73 1536.98 2296.73 1529.87 Q2296.73 1522.75 2294.9 1519.2 Q2293.1 1515.64 2289.46 1515.64 M2289.46 1511.93 Q2295.27 1511.93 2298.33 1516.54 Q2301.41 1521.12 2301.41 1529.87 Q2301.41 1538.6 2298.33 1543.21 Q2295.27 1547.79 2289.46 1547.79 Q2283.65 1547.79 2280.57 1543.21 Q2277.52 1538.6 2277.52 1529.87 Q2277.52 1521.12 2280.57 1516.54 Q2283.65 1511.93 2289.46 1511.93 Z\" fill=\"#000000\" fill-rule=\"evenodd\" fill-opacity=\"1\" /><path clip-path=\"url(#clip360)\" d=\"M 0 0 M2316.48 1515.64 Q2312.86 1515.64 2311.04 1519.2 Q2309.23 1522.75 2309.23 1529.87 Q2309.23 1536.98 2311.04 1540.55 Q2312.86 1544.09 2316.48 1544.09 Q2320.11 1544.09 2321.92 1540.55 Q2323.74 1536.98 2323.74 1529.87 Q2323.74 1522.75 2321.92 1519.2 Q2320.11 1515.64 2316.48 1515.64 M2316.48 1511.93 Q2322.29 1511.93 2325.34 1516.54 Q2328.42 1521.12 2328.42 1529.87 Q2328.42 1538.6 2325.34 1543.21 Q2322.29 1547.79 2316.48 1547.79 Q2310.67 1547.79 2307.59 1543.21 Q2304.53 1538.6 2304.53 1529.87 Q2304.53 1521.12 2307.59 1516.54 Q2310.67 1511.93 2316.48 1511.93 Z\" fill=\"#000000\" fill-rule=\"evenodd\" fill-opacity=\"1\" /><polyline clip-path=\"url(#clip362)\" style=\"stroke:#000000; stroke-width:2; stroke-opacity:0.1; fill:none\" points=\"\n",
       "  174.862,1451.52 2352.76,1451.52 \n",
       "  \"/>\n",
       "<polyline clip-path=\"url(#clip362)\" style=\"stroke:#000000; stroke-width:2; stroke-opacity:0.1; fill:none\" points=\"\n",
       "  174.862,1110.47 2352.76,1110.47 \n",
       "  \"/>\n",
       "<polyline clip-path=\"url(#clip362)\" style=\"stroke:#000000; stroke-width:2; stroke-opacity:0.1; fill:none\" points=\"\n",
       "  174.862,769.415 2352.76,769.415 \n",
       "  \"/>\n",
       "<polyline clip-path=\"url(#clip362)\" style=\"stroke:#000000; stroke-width:2; stroke-opacity:0.1; fill:none\" points=\"\n",
       "  174.862,428.36 2352.76,428.36 \n",
       "  \"/>\n",
       "<polyline clip-path=\"url(#clip362)\" style=\"stroke:#000000; stroke-width:2; stroke-opacity:0.1; fill:none\" points=\"\n",
       "  174.862,87.3049 2352.76,87.3049 \n",
       "  \"/>\n",
       "<polyline clip-path=\"url(#clip360)\" style=\"stroke:#000000; stroke-width:4; stroke-opacity:1; fill:none\" points=\"\n",
       "  174.862,1486.45 174.862,47.2441 \n",
       "  \"/>\n",
       "<polyline clip-path=\"url(#clip360)\" style=\"stroke:#000000; stroke-width:4; stroke-opacity:1; fill:none\" points=\"\n",
       "  174.862,1451.52 200.997,1451.52 \n",
       "  \"/>\n",
       "<polyline clip-path=\"url(#clip360)\" style=\"stroke:#000000; stroke-width:4; stroke-opacity:1; fill:none\" points=\"\n",
       "  174.862,1110.47 200.997,1110.47 \n",
       "  \"/>\n",
       "<polyline clip-path=\"url(#clip360)\" style=\"stroke:#000000; stroke-width:4; stroke-opacity:1; fill:none\" points=\"\n",
       "  174.862,769.415 200.997,769.415 \n",
       "  \"/>\n",
       "<polyline clip-path=\"url(#clip360)\" style=\"stroke:#000000; stroke-width:4; stroke-opacity:1; fill:none\" points=\"\n",
       "  174.862,428.36 200.997,428.36 \n",
       "  \"/>\n",
       "<polyline clip-path=\"url(#clip360)\" style=\"stroke:#000000; stroke-width:4; stroke-opacity:1; fill:none\" points=\"\n",
       "  174.862,87.3049 200.997,87.3049 \n",
       "  \"/>\n",
       "<path clip-path=\"url(#clip360)\" d=\"M 0 0 M62.9365 1437.32 Q59.3254 1437.32 57.4967 1440.89 Q55.6912 1444.43 55.6912 1451.56 Q55.6912 1458.67 57.4967 1462.23 Q59.3254 1465.77 62.9365 1465.77 Q66.5707 1465.77 68.3763 1462.23 Q70.205 1458.67 70.205 1451.56 Q70.205 1444.43 68.3763 1440.89 Q66.5707 1437.32 62.9365 1437.32 M62.9365 1433.62 Q68.7467 1433.62 71.8022 1438.23 Q74.8809 1442.81 74.8809 1451.56 Q74.8809 1460.29 71.8022 1464.89 Q68.7467 1469.48 62.9365 1469.48 Q57.1264 1469.48 54.0477 1464.89 Q50.9921 1460.29 50.9921 1451.56 Q50.9921 1442.81 54.0477 1438.23 Q57.1264 1433.62 62.9365 1433.62 Z\" fill=\"#000000\" fill-rule=\"evenodd\" fill-opacity=\"1\" /><path clip-path=\"url(#clip360)\" d=\"M 0 0 M79.9503 1462.92 L84.8345 1462.92 L84.8345 1468.8 L79.9503 1468.8 L79.9503 1462.92 Z\" fill=\"#000000\" fill-rule=\"evenodd\" fill-opacity=\"1\" /><path clip-path=\"url(#clip360)\" d=\"M 0 0 M99.9039 1437.32 Q96.2928 1437.32 94.4641 1440.89 Q92.6586 1444.43 92.6586 1451.56 Q92.6586 1458.67 94.4641 1462.23 Q96.2928 1465.77 99.9039 1465.77 Q103.538 1465.77 105.344 1462.23 Q107.172 1458.67 107.172 1451.56 Q107.172 1444.43 105.344 1440.89 Q103.538 1437.32 99.9039 1437.32 M99.9039 1433.62 Q105.714 1433.62 108.77 1438.23 Q111.848 1442.81 111.848 1451.56 Q111.848 1460.29 108.77 1464.89 Q105.714 1469.48 99.9039 1469.48 Q94.0937 1469.48 91.0151 1464.89 Q87.9595 1460.29 87.9595 1451.56 Q87.9595 1442.81 91.0151 1438.23 Q94.0937 1433.62 99.9039 1433.62 Z\" fill=\"#000000\" fill-rule=\"evenodd\" fill-opacity=\"1\" /><path clip-path=\"url(#clip360)\" d=\"M 0 0 M126.918 1437.32 Q123.307 1437.32 121.478 1440.89 Q119.672 1444.43 119.672 1451.56 Q119.672 1458.67 121.478 1462.23 Q123.307 1465.77 126.918 1465.77 Q130.552 1465.77 132.357 1462.23 Q134.186 1458.67 134.186 1451.56 Q134.186 1444.43 132.357 1440.89 Q130.552 1437.32 126.918 1437.32 M126.918 1433.62 Q132.728 1433.62 135.783 1438.23 Q138.862 1442.81 138.862 1451.56 Q138.862 1460.29 135.783 1464.89 Q132.728 1469.48 126.918 1469.48 Q121.107 1469.48 118.029 1464.89 Q114.973 1460.29 114.973 1451.56 Q114.973 1442.81 118.029 1438.23 Q121.107 1433.62 126.918 1433.62 Z\" fill=\"#000000\" fill-rule=\"evenodd\" fill-opacity=\"1\" /><path clip-path=\"url(#clip360)\" d=\"M 0 0 M65.5291 1096.27 Q61.918 1096.27 60.0893 1099.83 Q58.2838 1103.37 58.2838 1110.5 Q58.2838 1117.61 60.0893 1121.18 Q61.918 1124.72 65.5291 1124.72 Q69.1633 1124.72 70.9689 1121.18 Q72.7976 1117.61 72.7976 1110.5 Q72.7976 1103.37 70.9689 1099.83 Q69.1633 1096.27 65.5291 1096.27 M65.5291 1092.56 Q71.3392 1092.56 74.3948 1097.17 Q77.4735 1101.75 77.4735 1110.5 Q77.4735 1119.23 74.3948 1123.84 Q71.3392 1128.42 65.5291 1128.42 Q59.7189 1128.42 56.6402 1123.84 Q53.5847 1119.23 53.5847 1110.5 Q53.5847 1101.75 56.6402 1097.17 Q59.7189 1092.56 65.5291 1092.56 Z\" fill=\"#000000\" fill-rule=\"evenodd\" fill-opacity=\"1\" /><path clip-path=\"url(#clip360)\" d=\"M 0 0 M82.5429 1121.87 L87.4271 1121.87 L87.4271 1127.75 L82.5429 1127.75 L82.5429 1121.87 Z\" fill=\"#000000\" fill-rule=\"evenodd\" fill-opacity=\"1\" /><path clip-path=\"url(#clip360)\" d=\"M 0 0 M96.5243 1123.81 L112.844 1123.81 L112.844 1127.75 L90.8993 1127.75 L90.8993 1123.81 Q93.5613 1121.06 98.1447 1116.43 Q102.751 1111.78 103.932 1110.43 Q106.177 1107.91 107.057 1106.18 Q107.959 1104.42 107.959 1102.73 Q107.959 1099.97 106.015 1098.24 Q104.094 1096.5 100.992 1096.5 Q98.7928 1096.5 96.3391 1097.26 Q93.9086 1098.03 91.1308 1099.58 L91.1308 1094.86 Q93.9549 1093.72 96.4085 1093.14 Q98.8622 1092.56 100.899 1092.56 Q106.27 1092.56 109.464 1095.25 Q112.658 1097.93 112.658 1102.43 Q112.658 1104.56 111.848 1106.48 Q111.061 1108.37 108.955 1110.97 Q108.376 1111.64 105.274 1114.86 Q102.172 1118.05 96.5243 1123.81 Z\" fill=\"#000000\" fill-rule=\"evenodd\" fill-opacity=\"1\" /><path clip-path=\"url(#clip360)\" d=\"M 0 0 M117.959 1093.19 L136.316 1093.19 L136.316 1097.12 L122.242 1097.12 L122.242 1105.6 Q123.26 1105.25 124.279 1105.09 Q125.297 1104.9 126.316 1104.9 Q132.103 1104.9 135.482 1108.07 Q138.862 1111.25 138.862 1116.66 Q138.862 1122.24 135.39 1125.34 Q131.918 1128.42 125.598 1128.42 Q123.422 1128.42 121.154 1128.05 Q118.908 1127.68 116.501 1126.94 L116.501 1122.24 Q118.584 1123.37 120.807 1123.93 Q123.029 1124.49 125.506 1124.49 Q129.51 1124.49 131.848 1122.38 Q134.186 1120.27 134.186 1116.66 Q134.186 1113.05 131.848 1110.94 Q129.51 1108.84 125.506 1108.84 Q123.631 1108.84 121.756 1109.25 Q119.904 1109.67 117.959 1110.55 L117.959 1093.19 Z\" fill=\"#000000\" fill-rule=\"evenodd\" fill-opacity=\"1\" /><path clip-path=\"url(#clip360)\" d=\"M 0 0 M63.9319 755.213 Q60.3208 755.213 58.4921 758.778 Q56.6865 762.32 56.6865 769.449 Q56.6865 776.556 58.4921 780.121 Q60.3208 783.662 63.9319 783.662 Q67.5661 783.662 69.3717 780.121 Q71.2004 776.556 71.2004 769.449 Q71.2004 762.32 69.3717 758.778 Q67.5661 755.213 63.9319 755.213 M63.9319 751.51 Q69.742 751.51 72.7976 756.116 Q75.8763 760.699 75.8763 769.449 Q75.8763 778.176 72.7976 782.783 Q69.742 787.366 63.9319 787.366 Q58.1217 787.366 55.043 782.783 Q51.9875 778.176 51.9875 769.449 Q51.9875 760.699 55.043 756.116 Q58.1217 751.51 63.9319 751.51 Z\" fill=\"#000000\" fill-rule=\"evenodd\" fill-opacity=\"1\" /><path clip-path=\"url(#clip360)\" d=\"M 0 0 M80.9457 780.815 L85.8299 780.815 L85.8299 786.695 L80.9457 786.695 L80.9457 780.815 Z\" fill=\"#000000\" fill-rule=\"evenodd\" fill-opacity=\"1\" /><path clip-path=\"url(#clip360)\" d=\"M 0 0 M90.9456 752.135 L109.302 752.135 L109.302 756.07 L95.228 756.07 L95.228 764.542 Q96.2465 764.195 97.265 764.033 Q98.2835 763.848 99.3021 763.848 Q105.089 763.848 108.469 767.019 Q111.848 770.19 111.848 775.607 Q111.848 781.185 108.376 784.287 Q104.904 787.366 98.5845 787.366 Q96.4085 787.366 94.14 786.996 Q91.8947 786.625 89.4873 785.885 L89.4873 781.185 Q91.5706 782.32 93.7928 782.875 Q96.015 783.431 98.4919 783.431 Q102.496 783.431 104.834 781.324 Q107.172 779.218 107.172 775.607 Q107.172 771.996 104.834 769.889 Q102.496 767.783 98.4919 767.783 Q96.6169 767.783 94.7419 768.199 Q92.89 768.616 90.9456 769.496 L90.9456 752.135 Z\" fill=\"#000000\" fill-rule=\"evenodd\" fill-opacity=\"1\" /><path clip-path=\"url(#clip360)\" d=\"M 0 0 M126.918 755.213 Q123.307 755.213 121.478 758.778 Q119.672 762.32 119.672 769.449 Q119.672 776.556 121.478 780.121 Q123.307 783.662 126.918 783.662 Q130.552 783.662 132.357 780.121 Q134.186 776.556 134.186 769.449 Q134.186 762.32 132.357 758.778 Q130.552 755.213 126.918 755.213 M126.918 751.51 Q132.728 751.51 135.783 756.116 Q138.862 760.699 138.862 769.449 Q138.862 778.176 135.783 782.783 Q132.728 787.366 126.918 787.366 Q121.107 787.366 118.029 782.783 Q114.973 778.176 114.973 769.449 Q114.973 760.699 118.029 756.116 Q121.107 751.51 126.918 751.51 Z\" fill=\"#000000\" fill-rule=\"evenodd\" fill-opacity=\"1\" /><path clip-path=\"url(#clip360)\" d=\"M 0 0 M64.8346 414.158 Q61.2236 414.158 59.3949 417.723 Q57.5893 421.265 57.5893 428.395 Q57.5893 435.501 59.3949 439.066 Q61.2236 442.607 64.8346 442.607 Q68.4689 442.607 70.2744 439.066 Q72.1031 435.501 72.1031 428.395 Q72.1031 421.265 70.2744 417.723 Q68.4689 414.158 64.8346 414.158 M64.8346 410.455 Q70.6448 410.455 73.7003 415.061 Q76.779 419.645 76.779 428.395 Q76.779 437.121 73.7003 441.728 Q70.6448 446.311 64.8346 446.311 Q59.0245 446.311 55.9458 441.728 Q52.8903 437.121 52.8903 428.395 Q52.8903 419.645 55.9458 415.061 Q59.0245 410.455 64.8346 410.455 Z\" fill=\"#000000\" fill-rule=\"evenodd\" fill-opacity=\"1\" /><path clip-path=\"url(#clip360)\" d=\"M 0 0 M81.8484 439.76 L86.7327 439.76 L86.7327 445.64 L81.8484 445.64 L81.8484 439.76 Z\" fill=\"#000000\" fill-rule=\"evenodd\" fill-opacity=\"1\" /><path clip-path=\"url(#clip360)\" d=\"M 0 0 M90.6215 411.08 L112.844 411.08 L112.844 413.071 L100.297 445.64 L95.4132 445.64 L107.219 415.015 L90.6215 415.015 L90.6215 411.08 Z\" fill=\"#000000\" fill-rule=\"evenodd\" fill-opacity=\"1\" /><path clip-path=\"url(#clip360)\" d=\"M 0 0 M117.959 411.08 L136.316 411.08 L136.316 415.015 L122.242 415.015 L122.242 423.487 Q123.26 423.14 124.279 422.978 Q125.297 422.793 126.316 422.793 Q132.103 422.793 135.482 425.964 Q138.862 429.135 138.862 434.552 Q138.862 440.131 135.39 443.232 Q131.918 446.311 125.598 446.311 Q123.422 446.311 121.154 445.941 Q118.908 445.57 116.501 444.83 L116.501 440.131 Q118.584 441.265 120.807 441.82 Q123.029 442.376 125.506 442.376 Q129.51 442.376 131.848 440.269 Q134.186 438.163 134.186 434.552 Q134.186 430.941 131.848 428.834 Q129.51 426.728 125.506 426.728 Q123.631 426.728 121.756 427.145 Q119.904 427.561 117.959 428.441 L117.959 411.08 Z\" fill=\"#000000\" fill-rule=\"evenodd\" fill-opacity=\"1\" /><path clip-path=\"url(#clip360)\" d=\"M 0 0 M54.9736 100.65 L62.6124 100.65 L62.6124 74.2842 L54.3023 75.9508 L54.3023 71.6916 L62.5661 70.0249 L67.242 70.0249 L67.242 100.65 L74.8809 100.65 L74.8809 104.585 L54.9736 104.585 L54.9736 100.65 Z\" fill=\"#000000\" fill-rule=\"evenodd\" fill-opacity=\"1\" /><path clip-path=\"url(#clip360)\" d=\"M 0 0 M79.9503 98.7053 L84.8345 98.7053 L84.8345 104.585 L79.9503 104.585 L79.9503 98.7053 Z\" fill=\"#000000\" fill-rule=\"evenodd\" fill-opacity=\"1\" /><path clip-path=\"url(#clip360)\" d=\"M 0 0 M99.9039 73.1036 Q96.2928 73.1036 94.4641 76.6684 Q92.6586 80.21 92.6586 87.3396 Q92.6586 94.4461 94.4641 98.0109 Q96.2928 101.553 99.9039 101.553 Q103.538 101.553 105.344 98.0109 Q107.172 94.4461 107.172 87.3396 Q107.172 80.21 105.344 76.6684 Q103.538 73.1036 99.9039 73.1036 M99.9039 69.3999 Q105.714 69.3999 108.77 74.0064 Q111.848 78.5897 111.848 87.3396 Q111.848 96.0664 108.77 100.673 Q105.714 105.256 99.9039 105.256 Q94.0937 105.256 91.0151 100.673 Q87.9595 96.0664 87.9595 87.3396 Q87.9595 78.5897 91.0151 74.0064 Q94.0937 69.3999 99.9039 69.3999 Z\" fill=\"#000000\" fill-rule=\"evenodd\" fill-opacity=\"1\" /><path clip-path=\"url(#clip360)\" d=\"M 0 0 M126.918 73.1036 Q123.307 73.1036 121.478 76.6684 Q119.672 80.21 119.672 87.3396 Q119.672 94.4461 121.478 98.0109 Q123.307 101.553 126.918 101.553 Q130.552 101.553 132.357 98.0109 Q134.186 94.4461 134.186 87.3396 Q134.186 80.21 132.357 76.6684 Q130.552 73.1036 126.918 73.1036 M126.918 69.3999 Q132.728 69.3999 135.783 74.0064 Q138.862 78.5897 138.862 87.3396 Q138.862 96.0664 135.783 100.673 Q132.728 105.256 126.918 105.256 Q121.107 105.256 118.029 100.673 Q114.973 96.0664 114.973 87.3396 Q114.973 78.5897 118.029 74.0064 Q121.107 69.3999 126.918 69.3999 Z\" fill=\"#000000\" fill-rule=\"evenodd\" fill-opacity=\"1\" /><circle clip-path=\"url(#clip362)\" cx=\"236.501\" cy=\"344.19\" r=\"14\" fill=\"#009af9\" fill-rule=\"evenodd\" fill-opacity=\"1\" stroke=\"#000000\" stroke-opacity=\"1\" stroke-width=\"3.2\"/>\n",
       "<circle clip-path=\"url(#clip362)\" cx=\"257.254\" cy=\"103.086\" r=\"14\" fill=\"#009af9\" fill-rule=\"evenodd\" fill-opacity=\"1\" stroke=\"#000000\" stroke-opacity=\"1\" stroke-width=\"3.2\"/>\n",
       "<circle clip-path=\"url(#clip362)\" cx=\"278.008\" cy=\"349.751\" r=\"14\" fill=\"#009af9\" fill-rule=\"evenodd\" fill-opacity=\"1\" stroke=\"#000000\" stroke-opacity=\"1\" stroke-width=\"3.2\"/>\n",
       "<circle clip-path=\"url(#clip362)\" cx=\"298.762\" cy=\"128.108\" r=\"14\" fill=\"#009af9\" fill-rule=\"evenodd\" fill-opacity=\"1\" stroke=\"#000000\" stroke-opacity=\"1\" stroke-width=\"3.2\"/>\n",
       "<circle clip-path=\"url(#clip362)\" cx=\"319.515\" cy=\"1260.45\" r=\"14\" fill=\"#009af9\" fill-rule=\"evenodd\" fill-opacity=\"1\" stroke=\"#000000\" stroke-opacity=\"1\" stroke-width=\"3.2\"/>\n",
       "<circle clip-path=\"url(#clip362)\" cx=\"340.269\" cy=\"756.531\" r=\"14\" fill=\"#009af9\" fill-rule=\"evenodd\" fill-opacity=\"1\" stroke=\"#000000\" stroke-opacity=\"1\" stroke-width=\"3.2\"/>\n",
       "<circle clip-path=\"url(#clip362)\" cx=\"361.023\" cy=\"1371.45\" r=\"14\" fill=\"#009af9\" fill-rule=\"evenodd\" fill-opacity=\"1\" stroke=\"#000000\" stroke-opacity=\"1\" stroke-width=\"3.2\"/>\n",
       "<circle clip-path=\"url(#clip362)\" cx=\"381.776\" cy=\"1445.72\" r=\"14\" fill=\"#009af9\" fill-rule=\"evenodd\" fill-opacity=\"1\" stroke=\"#000000\" stroke-opacity=\"1\" stroke-width=\"3.2\"/>\n",
       "<circle clip-path=\"url(#clip362)\" cx=\"402.53\" cy=\"121.904\" r=\"14\" fill=\"#009af9\" fill-rule=\"evenodd\" fill-opacity=\"1\" stroke=\"#000000\" stroke-opacity=\"1\" stroke-width=\"3.2\"/>\n",
       "<circle clip-path=\"url(#clip362)\" cx=\"423.284\" cy=\"691.347\" r=\"14\" fill=\"#009af9\" fill-rule=\"evenodd\" fill-opacity=\"1\" stroke=\"#000000\" stroke-opacity=\"1\" stroke-width=\"3.2\"/>\n",
       "<circle clip-path=\"url(#clip362)\" cx=\"444.038\" cy=\"817.951\" r=\"14\" fill=\"#009af9\" fill-rule=\"evenodd\" fill-opacity=\"1\" stroke=\"#000000\" stroke-opacity=\"1\" stroke-width=\"3.2\"/>\n",
       "<circle clip-path=\"url(#clip362)\" cx=\"464.791\" cy=\"1059.3\" r=\"14\" fill=\"#009af9\" fill-rule=\"evenodd\" fill-opacity=\"1\" stroke=\"#000000\" stroke-opacity=\"1\" stroke-width=\"3.2\"/>\n",
       "<circle clip-path=\"url(#clip362)\" cx=\"485.545\" cy=\"1046.8\" r=\"14\" fill=\"#009af9\" fill-rule=\"evenodd\" fill-opacity=\"1\" stroke=\"#000000\" stroke-opacity=\"1\" stroke-width=\"3.2\"/>\n",
       "<circle clip-path=\"url(#clip362)\" cx=\"506.299\" cy=\"1350.49\" r=\"14\" fill=\"#009af9\" fill-rule=\"evenodd\" fill-opacity=\"1\" stroke=\"#000000\" stroke-opacity=\"1\" stroke-width=\"3.2\"/>\n",
       "<circle clip-path=\"url(#clip362)\" cx=\"527.052\" cy=\"177.585\" r=\"14\" fill=\"#009af9\" fill-rule=\"evenodd\" fill-opacity=\"1\" stroke=\"#000000\" stroke-opacity=\"1\" stroke-width=\"3.2\"/>\n",
       "<circle clip-path=\"url(#clip362)\" cx=\"547.806\" cy=\"211.961\" r=\"14\" fill=\"#009af9\" fill-rule=\"evenodd\" fill-opacity=\"1\" stroke=\"#000000\" stroke-opacity=\"1\" stroke-width=\"3.2\"/>\n",
       "<circle clip-path=\"url(#clip362)\" cx=\"568.56\" cy=\"787.125\" r=\"14\" fill=\"#009af9\" fill-rule=\"evenodd\" fill-opacity=\"1\" stroke=\"#000000\" stroke-opacity=\"1\" stroke-width=\"3.2\"/>\n",
       "<circle clip-path=\"url(#clip362)\" cx=\"589.314\" cy=\"89.5742\" r=\"14\" fill=\"#009af9\" fill-rule=\"evenodd\" fill-opacity=\"1\" stroke=\"#000000\" stroke-opacity=\"1\" stroke-width=\"3.2\"/>\n",
       "<circle clip-path=\"url(#clip362)\" cx=\"610.067\" cy=\"389.236\" r=\"14\" fill=\"#009af9\" fill-rule=\"evenodd\" fill-opacity=\"1\" stroke=\"#000000\" stroke-opacity=\"1\" stroke-width=\"3.2\"/>\n",
       "<circle clip-path=\"url(#clip362)\" cx=\"630.821\" cy=\"887.234\" r=\"14\" fill=\"#009af9\" fill-rule=\"evenodd\" fill-opacity=\"1\" stroke=\"#000000\" stroke-opacity=\"1\" stroke-width=\"3.2\"/>\n",
       "<circle clip-path=\"url(#clip362)\" cx=\"651.575\" cy=\"832.299\" r=\"14\" fill=\"#009af9\" fill-rule=\"evenodd\" fill-opacity=\"1\" stroke=\"#000000\" stroke-opacity=\"1\" stroke-width=\"3.2\"/>\n",
       "<circle clip-path=\"url(#clip362)\" cx=\"672.328\" cy=\"970.016\" r=\"14\" fill=\"#009af9\" fill-rule=\"evenodd\" fill-opacity=\"1\" stroke=\"#000000\" stroke-opacity=\"1\" stroke-width=\"3.2\"/>\n",
       "<circle clip-path=\"url(#clip362)\" cx=\"693.082\" cy=\"918.56\" r=\"14\" fill=\"#009af9\" fill-rule=\"evenodd\" fill-opacity=\"1\" stroke=\"#000000\" stroke-opacity=\"1\" stroke-width=\"3.2\"/>\n",
       "<circle clip-path=\"url(#clip362)\" cx=\"713.836\" cy=\"693.547\" r=\"14\" fill=\"#009af9\" fill-rule=\"evenodd\" fill-opacity=\"1\" stroke=\"#000000\" stroke-opacity=\"1\" stroke-width=\"3.2\"/>\n",
       "<circle clip-path=\"url(#clip362)\" cx=\"734.589\" cy=\"87.9763\" r=\"14\" fill=\"#009af9\" fill-rule=\"evenodd\" fill-opacity=\"1\" stroke=\"#000000\" stroke-opacity=\"1\" stroke-width=\"3.2\"/>\n",
       "<circle clip-path=\"url(#clip362)\" cx=\"755.343\" cy=\"586.398\" r=\"14\" fill=\"#009af9\" fill-rule=\"evenodd\" fill-opacity=\"1\" stroke=\"#000000\" stroke-opacity=\"1\" stroke-width=\"3.2\"/>\n",
       "<circle clip-path=\"url(#clip362)\" cx=\"776.097\" cy=\"489.835\" r=\"14\" fill=\"#009af9\" fill-rule=\"evenodd\" fill-opacity=\"1\" stroke=\"#000000\" stroke-opacity=\"1\" stroke-width=\"3.2\"/>\n",
       "<circle clip-path=\"url(#clip362)\" cx=\"796.851\" cy=\"998.116\" r=\"14\" fill=\"#009af9\" fill-rule=\"evenodd\" fill-opacity=\"1\" stroke=\"#000000\" stroke-opacity=\"1\" stroke-width=\"3.2\"/>\n",
       "<circle clip-path=\"url(#clip362)\" cx=\"817.604\" cy=\"1168.11\" r=\"14\" fill=\"#009af9\" fill-rule=\"evenodd\" fill-opacity=\"1\" stroke=\"#000000\" stroke-opacity=\"1\" stroke-width=\"3.2\"/>\n",
       "<circle clip-path=\"url(#clip362)\" cx=\"838.358\" cy=\"745.854\" r=\"14\" fill=\"#009af9\" fill-rule=\"evenodd\" fill-opacity=\"1\" stroke=\"#000000\" stroke-opacity=\"1\" stroke-width=\"3.2\"/>\n",
       "<circle clip-path=\"url(#clip362)\" cx=\"859.112\" cy=\"947.866\" r=\"14\" fill=\"#009af9\" fill-rule=\"evenodd\" fill-opacity=\"1\" stroke=\"#000000\" stroke-opacity=\"1\" stroke-width=\"3.2\"/>\n",
       "<circle clip-path=\"url(#clip362)\" cx=\"879.865\" cy=\"331.482\" r=\"14\" fill=\"#009af9\" fill-rule=\"evenodd\" fill-opacity=\"1\" stroke=\"#000000\" stroke-opacity=\"1\" stroke-width=\"3.2\"/>\n",
       "<circle clip-path=\"url(#clip362)\" cx=\"900.619\" cy=\"1148.66\" r=\"14\" fill=\"#009af9\" fill-rule=\"evenodd\" fill-opacity=\"1\" stroke=\"#000000\" stroke-opacity=\"1\" stroke-width=\"3.2\"/>\n",
       "<circle clip-path=\"url(#clip362)\" cx=\"921.373\" cy=\"561.63\" r=\"14\" fill=\"#009af9\" fill-rule=\"evenodd\" fill-opacity=\"1\" stroke=\"#000000\" stroke-opacity=\"1\" stroke-width=\"3.2\"/>\n",
       "<circle clip-path=\"url(#clip362)\" cx=\"942.127\" cy=\"312.809\" r=\"14\" fill=\"#009af9\" fill-rule=\"evenodd\" fill-opacity=\"1\" stroke=\"#000000\" stroke-opacity=\"1\" stroke-width=\"3.2\"/>\n",
       "<circle clip-path=\"url(#clip362)\" cx=\"962.88\" cy=\"628.97\" r=\"14\" fill=\"#009af9\" fill-rule=\"evenodd\" fill-opacity=\"1\" stroke=\"#000000\" stroke-opacity=\"1\" stroke-width=\"3.2\"/>\n",
       "<circle clip-path=\"url(#clip362)\" cx=\"983.634\" cy=\"327.806\" r=\"14\" fill=\"#009af9\" fill-rule=\"evenodd\" fill-opacity=\"1\" stroke=\"#000000\" stroke-opacity=\"1\" stroke-width=\"3.2\"/>\n",
       "<circle clip-path=\"url(#clip362)\" cx=\"1004.39\" cy=\"1349.1\" r=\"14\" fill=\"#009af9\" fill-rule=\"evenodd\" fill-opacity=\"1\" stroke=\"#000000\" stroke-opacity=\"1\" stroke-width=\"3.2\"/>\n",
       "<circle clip-path=\"url(#clip362)\" cx=\"1025.14\" cy=\"567.446\" r=\"14\" fill=\"#009af9\" fill-rule=\"evenodd\" fill-opacity=\"1\" stroke=\"#000000\" stroke-opacity=\"1\" stroke-width=\"3.2\"/>\n",
       "<circle clip-path=\"url(#clip362)\" cx=\"1045.9\" cy=\"1257.8\" r=\"14\" fill=\"#009af9\" fill-rule=\"evenodd\" fill-opacity=\"1\" stroke=\"#000000\" stroke-opacity=\"1\" stroke-width=\"3.2\"/>\n",
       "<circle clip-path=\"url(#clip362)\" cx=\"1066.65\" cy=\"736.864\" r=\"14\" fill=\"#009af9\" fill-rule=\"evenodd\" fill-opacity=\"1\" stroke=\"#000000\" stroke-opacity=\"1\" stroke-width=\"3.2\"/>\n",
       "<circle clip-path=\"url(#clip362)\" cx=\"1087.4\" cy=\"613.843\" r=\"14\" fill=\"#009af9\" fill-rule=\"evenodd\" fill-opacity=\"1\" stroke=\"#000000\" stroke-opacity=\"1\" stroke-width=\"3.2\"/>\n",
       "<circle clip-path=\"url(#clip362)\" cx=\"1108.16\" cy=\"816.104\" r=\"14\" fill=\"#009af9\" fill-rule=\"evenodd\" fill-opacity=\"1\" stroke=\"#000000\" stroke-opacity=\"1\" stroke-width=\"3.2\"/>\n",
       "<circle clip-path=\"url(#clip362)\" cx=\"1128.91\" cy=\"279.471\" r=\"14\" fill=\"#009af9\" fill-rule=\"evenodd\" fill-opacity=\"1\" stroke=\"#000000\" stroke-opacity=\"1\" stroke-width=\"3.2\"/>\n",
       "<circle clip-path=\"url(#clip362)\" cx=\"1149.66\" cy=\"534.187\" r=\"14\" fill=\"#009af9\" fill-rule=\"evenodd\" fill-opacity=\"1\" stroke=\"#000000\" stroke-opacity=\"1\" stroke-width=\"3.2\"/>\n",
       "<circle clip-path=\"url(#clip362)\" cx=\"1170.42\" cy=\"254.212\" r=\"14\" fill=\"#009af9\" fill-rule=\"evenodd\" fill-opacity=\"1\" stroke=\"#000000\" stroke-opacity=\"1\" stroke-width=\"3.2\"/>\n",
       "<circle clip-path=\"url(#clip362)\" cx=\"1191.17\" cy=\"1211.21\" r=\"14\" fill=\"#009af9\" fill-rule=\"evenodd\" fill-opacity=\"1\" stroke=\"#000000\" stroke-opacity=\"1\" stroke-width=\"3.2\"/>\n",
       "<circle clip-path=\"url(#clip362)\" cx=\"1211.92\" cy=\"1158.35\" r=\"14\" fill=\"#009af9\" fill-rule=\"evenodd\" fill-opacity=\"1\" stroke=\"#000000\" stroke-opacity=\"1\" stroke-width=\"3.2\"/>\n",
       "<circle clip-path=\"url(#clip362)\" cx=\"1232.68\" cy=\"340.686\" r=\"14\" fill=\"#009af9\" fill-rule=\"evenodd\" fill-opacity=\"1\" stroke=\"#000000\" stroke-opacity=\"1\" stroke-width=\"3.2\"/>\n",
       "<circle clip-path=\"url(#clip362)\" cx=\"1253.43\" cy=\"815.955\" r=\"14\" fill=\"#009af9\" fill-rule=\"evenodd\" fill-opacity=\"1\" stroke=\"#000000\" stroke-opacity=\"1\" stroke-width=\"3.2\"/>\n",
       "<circle clip-path=\"url(#clip362)\" cx=\"1274.19\" cy=\"860.966\" r=\"14\" fill=\"#009af9\" fill-rule=\"evenodd\" fill-opacity=\"1\" stroke=\"#000000\" stroke-opacity=\"1\" stroke-width=\"3.2\"/>\n",
       "<circle clip-path=\"url(#clip362)\" cx=\"1294.94\" cy=\"287.242\" r=\"14\" fill=\"#009af9\" fill-rule=\"evenodd\" fill-opacity=\"1\" stroke=\"#000000\" stroke-opacity=\"1\" stroke-width=\"3.2\"/>\n",
       "<circle clip-path=\"url(#clip362)\" cx=\"1315.69\" cy=\"529.808\" r=\"14\" fill=\"#009af9\" fill-rule=\"evenodd\" fill-opacity=\"1\" stroke=\"#000000\" stroke-opacity=\"1\" stroke-width=\"3.2\"/>\n",
       "<circle clip-path=\"url(#clip362)\" cx=\"1336.45\" cy=\"1270.72\" r=\"14\" fill=\"#009af9\" fill-rule=\"evenodd\" fill-opacity=\"1\" stroke=\"#000000\" stroke-opacity=\"1\" stroke-width=\"3.2\"/>\n",
       "<circle clip-path=\"url(#clip362)\" cx=\"1357.2\" cy=\"669.886\" r=\"14\" fill=\"#009af9\" fill-rule=\"evenodd\" fill-opacity=\"1\" stroke=\"#000000\" stroke-opacity=\"1\" stroke-width=\"3.2\"/>\n",
       "<circle clip-path=\"url(#clip362)\" cx=\"1377.95\" cy=\"1040.33\" r=\"14\" fill=\"#009af9\" fill-rule=\"evenodd\" fill-opacity=\"1\" stroke=\"#000000\" stroke-opacity=\"1\" stroke-width=\"3.2\"/>\n",
       "<circle clip-path=\"url(#clip362)\" cx=\"1398.71\" cy=\"1255.41\" r=\"14\" fill=\"#009af9\" fill-rule=\"evenodd\" fill-opacity=\"1\" stroke=\"#000000\" stroke-opacity=\"1\" stroke-width=\"3.2\"/>\n",
       "<circle clip-path=\"url(#clip362)\" cx=\"1419.46\" cy=\"484.49\" r=\"14\" fill=\"#009af9\" fill-rule=\"evenodd\" fill-opacity=\"1\" stroke=\"#000000\" stroke-opacity=\"1\" stroke-width=\"3.2\"/>\n",
       "<circle clip-path=\"url(#clip362)\" cx=\"1440.22\" cy=\"291.241\" r=\"14\" fill=\"#009af9\" fill-rule=\"evenodd\" fill-opacity=\"1\" stroke=\"#000000\" stroke-opacity=\"1\" stroke-width=\"3.2\"/>\n",
       "<circle clip-path=\"url(#clip362)\" cx=\"1460.97\" cy=\"270.442\" r=\"14\" fill=\"#009af9\" fill-rule=\"evenodd\" fill-opacity=\"1\" stroke=\"#000000\" stroke-opacity=\"1\" stroke-width=\"3.2\"/>\n",
       "<circle clip-path=\"url(#clip362)\" cx=\"1481.72\" cy=\"1119.51\" r=\"14\" fill=\"#009af9\" fill-rule=\"evenodd\" fill-opacity=\"1\" stroke=\"#000000\" stroke-opacity=\"1\" stroke-width=\"3.2\"/>\n",
       "<circle clip-path=\"url(#clip362)\" cx=\"1502.48\" cy=\"1083.97\" r=\"14\" fill=\"#009af9\" fill-rule=\"evenodd\" fill-opacity=\"1\" stroke=\"#000000\" stroke-opacity=\"1\" stroke-width=\"3.2\"/>\n",
       "<circle clip-path=\"url(#clip362)\" cx=\"1523.23\" cy=\"1001.67\" r=\"14\" fill=\"#009af9\" fill-rule=\"evenodd\" fill-opacity=\"1\" stroke=\"#000000\" stroke-opacity=\"1\" stroke-width=\"3.2\"/>\n",
       "<circle clip-path=\"url(#clip362)\" cx=\"1543.98\" cy=\"444.326\" r=\"14\" fill=\"#009af9\" fill-rule=\"evenodd\" fill-opacity=\"1\" stroke=\"#000000\" stroke-opacity=\"1\" stroke-width=\"3.2\"/>\n",
       "<circle clip-path=\"url(#clip362)\" cx=\"1564.74\" cy=\"1103.43\" r=\"14\" fill=\"#009af9\" fill-rule=\"evenodd\" fill-opacity=\"1\" stroke=\"#000000\" stroke-opacity=\"1\" stroke-width=\"3.2\"/>\n",
       "<circle clip-path=\"url(#clip362)\" cx=\"1585.49\" cy=\"139.783\" r=\"14\" fill=\"#009af9\" fill-rule=\"evenodd\" fill-opacity=\"1\" stroke=\"#000000\" stroke-opacity=\"1\" stroke-width=\"3.2\"/>\n",
       "<circle clip-path=\"url(#clip362)\" cx=\"1606.25\" cy=\"1191.25\" r=\"14\" fill=\"#009af9\" fill-rule=\"evenodd\" fill-opacity=\"1\" stroke=\"#000000\" stroke-opacity=\"1\" stroke-width=\"3.2\"/>\n",
       "<circle clip-path=\"url(#clip362)\" cx=\"1627\" cy=\"376.012\" r=\"14\" fill=\"#009af9\" fill-rule=\"evenodd\" fill-opacity=\"1\" stroke=\"#000000\" stroke-opacity=\"1\" stroke-width=\"3.2\"/>\n",
       "<circle clip-path=\"url(#clip362)\" cx=\"1647.75\" cy=\"1003.98\" r=\"14\" fill=\"#009af9\" fill-rule=\"evenodd\" fill-opacity=\"1\" stroke=\"#000000\" stroke-opacity=\"1\" stroke-width=\"3.2\"/>\n",
       "<circle clip-path=\"url(#clip362)\" cx=\"1668.51\" cy=\"1023.32\" r=\"14\" fill=\"#009af9\" fill-rule=\"evenodd\" fill-opacity=\"1\" stroke=\"#000000\" stroke-opacity=\"1\" stroke-width=\"3.2\"/>\n",
       "<circle clip-path=\"url(#clip362)\" cx=\"1689.26\" cy=\"506.141\" r=\"14\" fill=\"#009af9\" fill-rule=\"evenodd\" fill-opacity=\"1\" stroke=\"#000000\" stroke-opacity=\"1\" stroke-width=\"3.2\"/>\n",
       "<circle clip-path=\"url(#clip362)\" cx=\"1710.01\" cy=\"1279.09\" r=\"14\" fill=\"#009af9\" fill-rule=\"evenodd\" fill-opacity=\"1\" stroke=\"#000000\" stroke-opacity=\"1\" stroke-width=\"3.2\"/>\n",
       "<circle clip-path=\"url(#clip362)\" cx=\"1730.77\" cy=\"192.501\" r=\"14\" fill=\"#009af9\" fill-rule=\"evenodd\" fill-opacity=\"1\" stroke=\"#000000\" stroke-opacity=\"1\" stroke-width=\"3.2\"/>\n",
       "<circle clip-path=\"url(#clip362)\" cx=\"1751.52\" cy=\"455.81\" r=\"14\" fill=\"#009af9\" fill-rule=\"evenodd\" fill-opacity=\"1\" stroke=\"#000000\" stroke-opacity=\"1\" stroke-width=\"3.2\"/>\n",
       "<circle clip-path=\"url(#clip362)\" cx=\"1772.27\" cy=\"332.026\" r=\"14\" fill=\"#009af9\" fill-rule=\"evenodd\" fill-opacity=\"1\" stroke=\"#000000\" stroke-opacity=\"1\" stroke-width=\"3.2\"/>\n",
       "<circle clip-path=\"url(#clip362)\" cx=\"1793.03\" cy=\"623.613\" r=\"14\" fill=\"#009af9\" fill-rule=\"evenodd\" fill-opacity=\"1\" stroke=\"#000000\" stroke-opacity=\"1\" stroke-width=\"3.2\"/>\n",
       "<circle clip-path=\"url(#clip362)\" cx=\"1813.78\" cy=\"101.379\" r=\"14\" fill=\"#009af9\" fill-rule=\"evenodd\" fill-opacity=\"1\" stroke=\"#000000\" stroke-opacity=\"1\" stroke-width=\"3.2\"/>\n",
       "<circle clip-path=\"url(#clip362)\" cx=\"1834.54\" cy=\"923.812\" r=\"14\" fill=\"#009af9\" fill-rule=\"evenodd\" fill-opacity=\"1\" stroke=\"#000000\" stroke-opacity=\"1\" stroke-width=\"3.2\"/>\n",
       "<circle clip-path=\"url(#clip362)\" cx=\"1855.29\" cy=\"885.6\" r=\"14\" fill=\"#009af9\" fill-rule=\"evenodd\" fill-opacity=\"1\" stroke=\"#000000\" stroke-opacity=\"1\" stroke-width=\"3.2\"/>\n",
       "<circle clip-path=\"url(#clip362)\" cx=\"1876.04\" cy=\"1417.05\" r=\"14\" fill=\"#009af9\" fill-rule=\"evenodd\" fill-opacity=\"1\" stroke=\"#000000\" stroke-opacity=\"1\" stroke-width=\"3.2\"/>\n",
       "<circle clip-path=\"url(#clip362)\" cx=\"1896.8\" cy=\"555.242\" r=\"14\" fill=\"#009af9\" fill-rule=\"evenodd\" fill-opacity=\"1\" stroke=\"#000000\" stroke-opacity=\"1\" stroke-width=\"3.2\"/>\n",
       "<circle clip-path=\"url(#clip362)\" cx=\"1917.55\" cy=\"1342.36\" r=\"14\" fill=\"#009af9\" fill-rule=\"evenodd\" fill-opacity=\"1\" stroke=\"#000000\" stroke-opacity=\"1\" stroke-width=\"3.2\"/>\n",
       "<circle clip-path=\"url(#clip362)\" cx=\"1938.3\" cy=\"1224.1\" r=\"14\" fill=\"#009af9\" fill-rule=\"evenodd\" fill-opacity=\"1\" stroke=\"#000000\" stroke-opacity=\"1\" stroke-width=\"3.2\"/>\n",
       "<circle clip-path=\"url(#clip362)\" cx=\"1959.06\" cy=\"1278.56\" r=\"14\" fill=\"#009af9\" fill-rule=\"evenodd\" fill-opacity=\"1\" stroke=\"#000000\" stroke-opacity=\"1\" stroke-width=\"3.2\"/>\n",
       "<circle clip-path=\"url(#clip362)\" cx=\"1979.81\" cy=\"695.798\" r=\"14\" fill=\"#009af9\" fill-rule=\"evenodd\" fill-opacity=\"1\" stroke=\"#000000\" stroke-opacity=\"1\" stroke-width=\"3.2\"/>\n",
       "<circle clip-path=\"url(#clip362)\" cx=\"2000.57\" cy=\"717.958\" r=\"14\" fill=\"#009af9\" fill-rule=\"evenodd\" fill-opacity=\"1\" stroke=\"#000000\" stroke-opacity=\"1\" stroke-width=\"3.2\"/>\n",
       "<circle clip-path=\"url(#clip362)\" cx=\"2021.32\" cy=\"489.625\" r=\"14\" fill=\"#009af9\" fill-rule=\"evenodd\" fill-opacity=\"1\" stroke=\"#000000\" stroke-opacity=\"1\" stroke-width=\"3.2\"/>\n",
       "<circle clip-path=\"url(#clip362)\" cx=\"2042.07\" cy=\"941.146\" r=\"14\" fill=\"#009af9\" fill-rule=\"evenodd\" fill-opacity=\"1\" stroke=\"#000000\" stroke-opacity=\"1\" stroke-width=\"3.2\"/>\n",
       "<circle clip-path=\"url(#clip362)\" cx=\"2062.83\" cy=\"502.844\" r=\"14\" fill=\"#009af9\" fill-rule=\"evenodd\" fill-opacity=\"1\" stroke=\"#000000\" stroke-opacity=\"1\" stroke-width=\"3.2\"/>\n",
       "<circle clip-path=\"url(#clip362)\" cx=\"2083.58\" cy=\"1388.75\" r=\"14\" fill=\"#009af9\" fill-rule=\"evenodd\" fill-opacity=\"1\" stroke=\"#000000\" stroke-opacity=\"1\" stroke-width=\"3.2\"/>\n",
       "<circle clip-path=\"url(#clip362)\" cx=\"2104.33\" cy=\"1280.14\" r=\"14\" fill=\"#009af9\" fill-rule=\"evenodd\" fill-opacity=\"1\" stroke=\"#000000\" stroke-opacity=\"1\" stroke-width=\"3.2\"/>\n",
       "<circle clip-path=\"url(#clip362)\" cx=\"2125.09\" cy=\"1039.86\" r=\"14\" fill=\"#009af9\" fill-rule=\"evenodd\" fill-opacity=\"1\" stroke=\"#000000\" stroke-opacity=\"1\" stroke-width=\"3.2\"/>\n",
       "<circle clip-path=\"url(#clip362)\" cx=\"2145.84\" cy=\"171.097\" r=\"14\" fill=\"#009af9\" fill-rule=\"evenodd\" fill-opacity=\"1\" stroke=\"#000000\" stroke-opacity=\"1\" stroke-width=\"3.2\"/>\n",
       "<circle clip-path=\"url(#clip362)\" cx=\"2166.6\" cy=\"802.422\" r=\"14\" fill=\"#009af9\" fill-rule=\"evenodd\" fill-opacity=\"1\" stroke=\"#000000\" stroke-opacity=\"1\" stroke-width=\"3.2\"/>\n",
       "<circle clip-path=\"url(#clip362)\" cx=\"2187.35\" cy=\"1144.62\" r=\"14\" fill=\"#009af9\" fill-rule=\"evenodd\" fill-opacity=\"1\" stroke=\"#000000\" stroke-opacity=\"1\" stroke-width=\"3.2\"/>\n",
       "<circle clip-path=\"url(#clip362)\" cx=\"2208.1\" cy=\"476.534\" r=\"14\" fill=\"#009af9\" fill-rule=\"evenodd\" fill-opacity=\"1\" stroke=\"#000000\" stroke-opacity=\"1\" stroke-width=\"3.2\"/>\n",
       "<circle clip-path=\"url(#clip362)\" cx=\"2228.86\" cy=\"1198.82\" r=\"14\" fill=\"#009af9\" fill-rule=\"evenodd\" fill-opacity=\"1\" stroke=\"#000000\" stroke-opacity=\"1\" stroke-width=\"3.2\"/>\n",
       "<circle clip-path=\"url(#clip362)\" cx=\"2249.61\" cy=\"650.77\" r=\"14\" fill=\"#009af9\" fill-rule=\"evenodd\" fill-opacity=\"1\" stroke=\"#000000\" stroke-opacity=\"1\" stroke-width=\"3.2\"/>\n",
       "<circle clip-path=\"url(#clip362)\" cx=\"2270.36\" cy=\"267.632\" r=\"14\" fill=\"#009af9\" fill-rule=\"evenodd\" fill-opacity=\"1\" stroke=\"#000000\" stroke-opacity=\"1\" stroke-width=\"3.2\"/>\n",
       "<circle clip-path=\"url(#clip362)\" cx=\"2291.12\" cy=\"272.009\" r=\"14\" fill=\"#009af9\" fill-rule=\"evenodd\" fill-opacity=\"1\" stroke=\"#000000\" stroke-opacity=\"1\" stroke-width=\"3.2\"/>\n",
       "<path clip-path=\"url(#clip360)\" d=\"\n",
       "M1987.15 216.178 L2280.16 216.178 L2280.16 95.2176 L1987.15 95.2176  Z\n",
       "  \" fill=\"#ffffff\" fill-rule=\"evenodd\" fill-opacity=\"1\"/>\n",
       "<polyline clip-path=\"url(#clip360)\" style=\"stroke:#000000; stroke-width:4; stroke-opacity:1; fill:none\" points=\"\n",
       "  1987.15,216.178 2280.16,216.178 2280.16,95.2176 1987.15,95.2176 1987.15,216.178 \n",
       "  \"/>\n",
       "<circle clip-path=\"url(#clip360)\" cx=\"2083.95\" cy=\"155.698\" r=\"23\" fill=\"#009af9\" fill-rule=\"evenodd\" fill-opacity=\"1\" stroke=\"#000000\" stroke-opacity=\"1\" stroke-width=\"5.12\"/>\n",
       "<path clip-path=\"url(#clip360)\" d=\"M 0 0 M2194.59 175.385 Q2192.78 180.015 2191.07 181.427 Q2189.35 182.839 2186.48 182.839 L2183.08 182.839 L2183.08 179.274 L2185.58 179.274 Q2187.34 179.274 2188.31 178.44 Q2189.29 177.607 2190.47 174.505 L2191.23 172.561 L2180.74 147.052 L2185.26 147.052 L2193.36 167.329 L2201.46 147.052 L2205.97 147.052 L2194.59 175.385 Z\" fill=\"#000000\" fill-rule=\"evenodd\" fill-opacity=\"1\" /><path clip-path=\"url(#clip360)\" d=\"M 0 0 M2211.85 169.042 L2219.49 169.042 L2219.49 142.677 L2211.18 144.343 L2211.18 140.084 L2219.45 138.418 L2224.12 138.418 L2224.12 169.042 L2231.76 169.042 L2231.76 172.978 L2211.85 172.978 L2211.85 169.042 Z\" fill=\"#000000\" fill-rule=\"evenodd\" fill-opacity=\"1\" /></svg>\n"
      ]
     },
     "execution_count": 32,
     "metadata": {},
     "output_type": "execute_result"
    }
   ],
   "source": [
    "scatter(r)"
   ]
  },
  {
   "cell_type": "code",
   "execution_count": 34,
   "metadata": {},
   "outputs": [
    {
     "data": {
      "image/svg+xml": [
       "<?xml version=\"1.0\" encoding=\"utf-8\"?>\n",
       "<svg xmlns=\"http://www.w3.org/2000/svg\" xmlns:xlink=\"http://www.w3.org/1999/xlink\" width=\"600\" height=\"400\" viewBox=\"0 0 2400 1600\">\n",
       "<defs>\n",
       "  <clipPath id=\"clip440\">\n",
       "    <rect x=\"0\" y=\"0\" width=\"2400\" height=\"1600\"/>\n",
       "  </clipPath>\n",
       "</defs>\n",
       "<path clip-path=\"url(#clip440)\" d=\"\n",
       "M0 1600 L2400 1600 L2400 0 L0 0  Z\n",
       "  \" fill=\"#ffffff\" fill-rule=\"evenodd\" fill-opacity=\"1\"/>\n",
       "<defs>\n",
       "  <clipPath id=\"clip441\">\n",
       "    <rect x=\"480\" y=\"0\" width=\"1681\" height=\"1600\"/>\n",
       "  </clipPath>\n",
       "</defs>\n",
       "<path clip-path=\"url(#clip440)\" d=\"\n",
       "M148.334 1486.45 L2352.76 1486.45 L2352.76 47.2441 L148.334 47.2441  Z\n",
       "  \" fill=\"#ffffff\" fill-rule=\"evenodd\" fill-opacity=\"1\"/>\n",
       "<defs>\n",
       "  <clipPath id=\"clip442\">\n",
       "    <rect x=\"148\" y=\"47\" width=\"2205\" height=\"1440\"/>\n",
       "  </clipPath>\n",
       "</defs>\n",
       "<polyline clip-path=\"url(#clip442)\" style=\"stroke:#000000; stroke-width:2; stroke-opacity:0.1; fill:none\" points=\"\n",
       "  201.826,1486.45 201.826,47.2441 \n",
       "  \"/>\n",
       "<polyline clip-path=\"url(#clip442)\" style=\"stroke:#000000; stroke-width:2; stroke-opacity:0.1; fill:none\" points=\"\n",
       "  724.219,1486.45 724.219,47.2441 \n",
       "  \"/>\n",
       "<polyline clip-path=\"url(#clip442)\" style=\"stroke:#000000; stroke-width:2; stroke-opacity:0.1; fill:none\" points=\"\n",
       "  1246.61,1486.45 1246.61,47.2441 \n",
       "  \"/>\n",
       "<polyline clip-path=\"url(#clip442)\" style=\"stroke:#000000; stroke-width:2; stroke-opacity:0.1; fill:none\" points=\"\n",
       "  1769,1486.45 1769,47.2441 \n",
       "  \"/>\n",
       "<polyline clip-path=\"url(#clip442)\" style=\"stroke:#000000; stroke-width:2; stroke-opacity:0.1; fill:none\" points=\"\n",
       "  2291.39,1486.45 2291.39,47.2441 \n",
       "  \"/>\n",
       "<polyline clip-path=\"url(#clip440)\" style=\"stroke:#000000; stroke-width:4; stroke-opacity:1; fill:none\" points=\"\n",
       "  148.334,1486.45 2352.76,1486.45 \n",
       "  \"/>\n",
       "<polyline clip-path=\"url(#clip440)\" style=\"stroke:#000000; stroke-width:4; stroke-opacity:1; fill:none\" points=\"\n",
       "  201.826,1486.45 201.826,1469.18 \n",
       "  \"/>\n",
       "<polyline clip-path=\"url(#clip440)\" style=\"stroke:#000000; stroke-width:4; stroke-opacity:1; fill:none\" points=\"\n",
       "  724.219,1486.45 724.219,1469.18 \n",
       "  \"/>\n",
       "<polyline clip-path=\"url(#clip440)\" style=\"stroke:#000000; stroke-width:4; stroke-opacity:1; fill:none\" points=\"\n",
       "  1246.61,1486.45 1246.61,1469.18 \n",
       "  \"/>\n",
       "<polyline clip-path=\"url(#clip440)\" style=\"stroke:#000000; stroke-width:4; stroke-opacity:1; fill:none\" points=\"\n",
       "  1769,1486.45 1769,1469.18 \n",
       "  \"/>\n",
       "<polyline clip-path=\"url(#clip440)\" style=\"stroke:#000000; stroke-width:4; stroke-opacity:1; fill:none\" points=\"\n",
       "  2291.39,1486.45 2291.39,1469.18 \n",
       "  \"/>\n",
       "<path clip-path=\"url(#clip440)\" d=\"M 0 0 M169.836 1515.64 Q166.225 1515.64 164.396 1519.2 Q162.59 1522.75 162.59 1529.87 Q162.59 1536.98 164.396 1540.55 Q166.225 1544.09 169.836 1544.09 Q173.47 1544.09 175.276 1540.55 Q177.104 1536.98 177.104 1529.87 Q177.104 1522.75 175.276 1519.2 Q173.47 1515.64 169.836 1515.64 M169.836 1511.93 Q175.646 1511.93 178.702 1516.54 Q181.78 1521.12 181.78 1529.87 Q181.78 1538.6 178.702 1543.21 Q175.646 1547.79 169.836 1547.79 Q164.026 1547.79 160.947 1543.21 Q157.891 1538.6 157.891 1529.87 Q157.891 1521.12 160.947 1516.54 Q164.026 1511.93 169.836 1511.93 Z\" fill=\"#000000\" fill-rule=\"evenodd\" fill-opacity=\"1\" /><path clip-path=\"url(#clip440)\" d=\"M 0 0 M186.85 1541.24 L191.734 1541.24 L191.734 1547.12 L186.85 1547.12 L186.85 1541.24 Z\" fill=\"#000000\" fill-rule=\"evenodd\" fill-opacity=\"1\" /><path clip-path=\"url(#clip440)\" d=\"M 0 0 M206.803 1515.64 Q203.192 1515.64 201.363 1519.2 Q199.558 1522.75 199.558 1529.87 Q199.558 1536.98 201.363 1540.55 Q203.192 1544.09 206.803 1544.09 Q210.437 1544.09 212.243 1540.55 Q214.072 1536.98 214.072 1529.87 Q214.072 1522.75 212.243 1519.2 Q210.437 1515.64 206.803 1515.64 M206.803 1511.93 Q212.613 1511.93 215.669 1516.54 Q218.748 1521.12 218.748 1529.87 Q218.748 1538.6 215.669 1543.21 Q212.613 1547.79 206.803 1547.79 Q200.993 1547.79 197.914 1543.21 Q194.859 1538.6 194.859 1529.87 Q194.859 1521.12 197.914 1516.54 Q200.993 1511.93 206.803 1511.93 Z\" fill=\"#000000\" fill-rule=\"evenodd\" fill-opacity=\"1\" /><path clip-path=\"url(#clip440)\" d=\"M 0 0 M233.817 1515.64 Q230.206 1515.64 228.377 1519.2 Q226.572 1522.75 226.572 1529.87 Q226.572 1536.98 228.377 1540.55 Q230.206 1544.09 233.817 1544.09 Q237.451 1544.09 239.257 1540.55 Q241.085 1536.98 241.085 1529.87 Q241.085 1522.75 239.257 1519.2 Q237.451 1515.64 233.817 1515.64 M233.817 1511.93 Q239.627 1511.93 242.683 1516.54 Q245.761 1521.12 245.761 1529.87 Q245.761 1538.6 242.683 1543.21 Q239.627 1547.79 233.817 1547.79 Q228.007 1547.79 224.928 1543.21 Q221.873 1538.6 221.873 1529.87 Q221.873 1521.12 224.928 1516.54 Q228.007 1511.93 233.817 1511.93 Z\" fill=\"#000000\" fill-rule=\"evenodd\" fill-opacity=\"1\" /><path clip-path=\"url(#clip440)\" d=\"M 0 0 M693.524 1515.64 Q689.913 1515.64 688.084 1519.2 Q686.279 1522.75 686.279 1529.87 Q686.279 1536.98 688.084 1540.55 Q689.913 1544.09 693.524 1544.09 Q697.158 1544.09 698.964 1540.55 Q700.793 1536.98 700.793 1529.87 Q700.793 1522.75 698.964 1519.2 Q697.158 1515.64 693.524 1515.64 M693.524 1511.93 Q699.334 1511.93 702.39 1516.54 Q705.469 1521.12 705.469 1529.87 Q705.469 1538.6 702.39 1543.21 Q699.334 1547.79 693.524 1547.79 Q687.714 1547.79 684.635 1543.21 Q681.58 1538.6 681.58 1529.87 Q681.58 1521.12 684.635 1516.54 Q687.714 1511.93 693.524 1511.93 Z\" fill=\"#000000\" fill-rule=\"evenodd\" fill-opacity=\"1\" /><path clip-path=\"url(#clip440)\" d=\"M 0 0 M710.538 1541.24 L715.422 1541.24 L715.422 1547.12 L710.538 1547.12 L710.538 1541.24 Z\" fill=\"#000000\" fill-rule=\"evenodd\" fill-opacity=\"1\" /><path clip-path=\"url(#clip440)\" d=\"M 0 0 M724.519 1543.18 L740.839 1543.18 L740.839 1547.12 L718.894 1547.12 L718.894 1543.18 Q721.556 1540.43 726.14 1535.8 Q730.746 1531.15 731.927 1529.81 Q734.172 1527.28 735.052 1525.55 Q735.955 1523.79 735.955 1522.1 Q735.955 1519.34 734.01 1517.61 Q732.089 1515.87 728.987 1515.87 Q726.788 1515.87 724.334 1516.63 Q721.904 1517.4 719.126 1518.95 L719.126 1514.23 Q721.95 1513.09 724.404 1512.51 Q726.857 1511.93 728.894 1511.93 Q734.265 1511.93 737.459 1514.62 Q740.654 1517.31 740.654 1521.8 Q740.654 1523.93 739.843 1525.85 Q739.056 1527.74 736.95 1530.34 Q736.371 1531.01 733.269 1534.23 Q730.168 1537.42 724.519 1543.18 Z\" fill=\"#000000\" fill-rule=\"evenodd\" fill-opacity=\"1\" /><path clip-path=\"url(#clip440)\" d=\"M 0 0 M745.955 1512.56 L764.311 1512.56 L764.311 1516.5 L750.237 1516.5 L750.237 1524.97 Q751.255 1524.62 752.274 1524.46 Q753.292 1524.27 754.311 1524.27 Q760.098 1524.27 763.478 1527.44 Q766.857 1530.62 766.857 1536.03 Q766.857 1541.61 763.385 1544.71 Q759.913 1547.79 753.593 1547.79 Q751.417 1547.79 749.149 1547.42 Q746.904 1547.05 744.496 1546.31 L744.496 1541.61 Q746.58 1542.74 748.802 1543.3 Q751.024 1543.86 753.501 1543.86 Q757.505 1543.86 759.843 1541.75 Q762.181 1539.64 762.181 1536.03 Q762.181 1532.42 759.843 1530.31 Q757.505 1528.21 753.501 1528.21 Q751.626 1528.21 749.751 1528.62 Q747.899 1529.04 745.955 1529.92 L745.955 1512.56 Z\" fill=\"#000000\" fill-rule=\"evenodd\" fill-opacity=\"1\" /><path clip-path=\"url(#clip440)\" d=\"M 0 0 M1215.12 1515.64 Q1211.51 1515.64 1209.68 1519.2 Q1207.87 1522.75 1207.87 1529.87 Q1207.87 1536.98 1209.68 1540.55 Q1211.51 1544.09 1215.12 1544.09 Q1218.75 1544.09 1220.56 1540.55 Q1222.39 1536.98 1222.39 1529.87 Q1222.39 1522.75 1220.56 1519.2 Q1218.75 1515.64 1215.12 1515.64 M1215.12 1511.93 Q1220.93 1511.93 1223.98 1516.54 Q1227.06 1521.12 1227.06 1529.87 Q1227.06 1538.6 1223.98 1543.21 Q1220.93 1547.79 1215.12 1547.79 Q1209.31 1547.79 1206.23 1543.21 Q1203.17 1538.6 1203.17 1529.87 Q1203.17 1521.12 1206.23 1516.54 Q1209.31 1511.93 1215.12 1511.93 Z\" fill=\"#000000\" fill-rule=\"evenodd\" fill-opacity=\"1\" /><path clip-path=\"url(#clip440)\" d=\"M 0 0 M1232.13 1541.24 L1237.02 1541.24 L1237.02 1547.12 L1232.13 1547.12 L1232.13 1541.24 Z\" fill=\"#000000\" fill-rule=\"evenodd\" fill-opacity=\"1\" /><path clip-path=\"url(#clip440)\" d=\"M 0 0 M1242.13 1512.56 L1260.49 1512.56 L1260.49 1516.5 L1246.41 1516.5 L1246.41 1524.97 Q1247.43 1524.62 1248.45 1524.46 Q1249.47 1524.27 1250.49 1524.27 Q1256.27 1524.27 1259.65 1527.44 Q1263.03 1530.62 1263.03 1536.03 Q1263.03 1541.61 1259.56 1544.71 Q1256.09 1547.79 1249.77 1547.79 Q1247.59 1547.79 1245.33 1547.42 Q1243.08 1547.05 1240.67 1546.31 L1240.67 1541.61 Q1242.76 1542.74 1244.98 1543.3 Q1247.2 1543.86 1249.68 1543.86 Q1253.68 1543.86 1256.02 1541.75 Q1258.36 1539.64 1258.36 1536.03 Q1258.36 1532.42 1256.02 1530.31 Q1253.68 1528.21 1249.68 1528.21 Q1247.8 1528.21 1245.93 1528.62 Q1244.08 1529.04 1242.13 1529.92 L1242.13 1512.56 Z\" fill=\"#000000\" fill-rule=\"evenodd\" fill-opacity=\"1\" /><path clip-path=\"url(#clip440)\" d=\"M 0 0 M1278.1 1515.64 Q1274.49 1515.64 1272.66 1519.2 Q1270.86 1522.75 1270.86 1529.87 Q1270.86 1536.98 1272.66 1540.55 Q1274.49 1544.09 1278.1 1544.09 Q1281.74 1544.09 1283.54 1540.55 Q1285.37 1536.98 1285.37 1529.87 Q1285.37 1522.75 1283.54 1519.2 Q1281.74 1515.64 1278.1 1515.64 M1278.1 1511.93 Q1283.91 1511.93 1286.97 1516.54 Q1290.05 1521.12 1290.05 1529.87 Q1290.05 1538.6 1286.97 1543.21 Q1283.91 1547.79 1278.1 1547.79 Q1272.29 1547.79 1269.21 1543.21 Q1266.16 1538.6 1266.16 1529.87 Q1266.16 1521.12 1269.21 1516.54 Q1272.29 1511.93 1278.1 1511.93 Z\" fill=\"#000000\" fill-rule=\"evenodd\" fill-opacity=\"1\" /><path clip-path=\"url(#clip440)\" d=\"M 0 0 M1737.96 1515.64 Q1734.35 1515.64 1732.52 1519.2 Q1730.72 1522.75 1730.72 1529.87 Q1730.72 1536.98 1732.52 1540.55 Q1734.35 1544.09 1737.96 1544.09 Q1741.6 1544.09 1743.4 1540.55 Q1745.23 1536.98 1745.23 1529.87 Q1745.23 1522.75 1743.4 1519.2 Q1741.6 1515.64 1737.96 1515.64 M1737.96 1511.93 Q1743.77 1511.93 1746.83 1516.54 Q1749.91 1521.12 1749.91 1529.87 Q1749.91 1538.6 1746.83 1543.21 Q1743.77 1547.79 1737.96 1547.79 Q1732.15 1547.79 1729.07 1543.21 Q1726.02 1538.6 1726.02 1529.87 Q1726.02 1521.12 1729.07 1516.54 Q1732.15 1511.93 1737.96 1511.93 Z\" fill=\"#000000\" fill-rule=\"evenodd\" fill-opacity=\"1\" /><path clip-path=\"url(#clip440)\" d=\"M 0 0 M1754.98 1541.24 L1759.86 1541.24 L1759.86 1547.12 L1754.98 1547.12 L1754.98 1541.24 Z\" fill=\"#000000\" fill-rule=\"evenodd\" fill-opacity=\"1\" /><path clip-path=\"url(#clip440)\" d=\"M 0 0 M1763.75 1512.56 L1785.97 1512.56 L1785.97 1514.55 L1773.42 1547.12 L1768.54 1547.12 L1780.35 1516.5 L1763.75 1516.5 L1763.75 1512.56 Z\" fill=\"#000000\" fill-rule=\"evenodd\" fill-opacity=\"1\" /><path clip-path=\"url(#clip440)\" d=\"M 0 0 M1791.09 1512.56 L1809.44 1512.56 L1809.44 1516.5 L1795.37 1516.5 L1795.37 1524.97 Q1796.39 1524.62 1797.41 1524.46 Q1798.42 1524.27 1799.44 1524.27 Q1805.23 1524.27 1808.61 1527.44 Q1811.99 1530.62 1811.99 1536.03 Q1811.99 1541.61 1808.52 1544.71 Q1805.04 1547.79 1798.72 1547.79 Q1796.55 1547.79 1794.28 1547.42 Q1792.04 1547.05 1789.63 1546.31 L1789.63 1541.61 Q1791.71 1542.74 1793.93 1543.3 Q1796.16 1543.86 1798.63 1543.86 Q1802.64 1543.86 1804.97 1541.75 Q1807.31 1539.64 1807.31 1536.03 Q1807.31 1532.42 1804.97 1530.31 Q1802.64 1528.21 1798.63 1528.21 Q1796.76 1528.21 1794.88 1528.62 Q1793.03 1529.04 1791.09 1529.92 L1791.09 1512.56 Z\" fill=\"#000000\" fill-rule=\"evenodd\" fill-opacity=\"1\" /><path clip-path=\"url(#clip440)\" d=\"M 0 0 M2249.79 1543.18 L2257.43 1543.18 L2257.43 1516.82 L2249.12 1518.49 L2249.12 1514.23 L2257.38 1512.56 L2262.05 1512.56 L2262.05 1543.18 L2269.69 1543.18 L2269.69 1547.12 L2249.79 1547.12 L2249.79 1543.18 Z\" fill=\"#000000\" fill-rule=\"evenodd\" fill-opacity=\"1\" /><path clip-path=\"url(#clip440)\" d=\"M 0 0 M2274.76 1541.24 L2279.65 1541.24 L2279.65 1547.12 L2274.76 1547.12 L2274.76 1541.24 Z\" fill=\"#000000\" fill-rule=\"evenodd\" fill-opacity=\"1\" /><path clip-path=\"url(#clip440)\" d=\"M 0 0 M2294.72 1515.64 Q2291.11 1515.64 2289.28 1519.2 Q2287.47 1522.75 2287.47 1529.87 Q2287.47 1536.98 2289.28 1540.55 Q2291.11 1544.09 2294.72 1544.09 Q2298.35 1544.09 2300.16 1540.55 Q2301.99 1536.98 2301.99 1529.87 Q2301.99 1522.75 2300.16 1519.2 Q2298.35 1515.64 2294.72 1515.64 M2294.72 1511.93 Q2300.53 1511.93 2303.58 1516.54 Q2306.66 1521.12 2306.66 1529.87 Q2306.66 1538.6 2303.58 1543.21 Q2300.53 1547.79 2294.72 1547.79 Q2288.91 1547.79 2285.83 1543.21 Q2282.77 1538.6 2282.77 1529.87 Q2282.77 1521.12 2285.83 1516.54 Q2288.91 1511.93 2294.72 1511.93 Z\" fill=\"#000000\" fill-rule=\"evenodd\" fill-opacity=\"1\" /><path clip-path=\"url(#clip440)\" d=\"M 0 0 M2321.73 1515.64 Q2318.12 1515.64 2316.29 1519.2 Q2314.49 1522.75 2314.49 1529.87 Q2314.49 1536.98 2316.29 1540.55 Q2318.12 1544.09 2321.73 1544.09 Q2325.36 1544.09 2327.17 1540.55 Q2329 1536.98 2329 1529.87 Q2329 1522.75 2327.17 1519.2 Q2325.36 1515.64 2321.73 1515.64 M2321.73 1511.93 Q2327.54 1511.93 2330.6 1516.54 Q2333.67 1521.12 2333.67 1529.87 Q2333.67 1538.6 2330.6 1543.21 Q2327.54 1547.79 2321.73 1547.79 Q2315.92 1547.79 2312.84 1543.21 Q2309.79 1538.6 2309.79 1529.87 Q2309.79 1521.12 2312.84 1516.54 Q2315.92 1511.93 2321.73 1511.93 Z\" fill=\"#000000\" fill-rule=\"evenodd\" fill-opacity=\"1\" /><polyline clip-path=\"url(#clip442)\" style=\"stroke:#000000; stroke-width:2; stroke-opacity:0.1; fill:none\" points=\"\n",
       "  148.334,1486.45 2352.76,1486.45 \n",
       "  \"/>\n",
       "<polyline clip-path=\"url(#clip442)\" style=\"stroke:#000000; stroke-width:2; stroke-opacity:0.1; fill:none\" points=\"\n",
       "  148.334,1198.61 2352.76,1198.61 \n",
       "  \"/>\n",
       "<polyline clip-path=\"url(#clip442)\" style=\"stroke:#000000; stroke-width:2; stroke-opacity:0.1; fill:none\" points=\"\n",
       "  148.334,910.766 2352.76,910.766 \n",
       "  \"/>\n",
       "<polyline clip-path=\"url(#clip442)\" style=\"stroke:#000000; stroke-width:2; stroke-opacity:0.1; fill:none\" points=\"\n",
       "  148.334,622.926 2352.76,622.926 \n",
       "  \"/>\n",
       "<polyline clip-path=\"url(#clip442)\" style=\"stroke:#000000; stroke-width:2; stroke-opacity:0.1; fill:none\" points=\"\n",
       "  148.334,335.085 2352.76,335.085 \n",
       "  \"/>\n",
       "<polyline clip-path=\"url(#clip442)\" style=\"stroke:#000000; stroke-width:2; stroke-opacity:0.1; fill:none\" points=\"\n",
       "  148.334,47.2441 2352.76,47.2441 \n",
       "  \"/>\n",
       "<polyline clip-path=\"url(#clip440)\" style=\"stroke:#000000; stroke-width:4; stroke-opacity:1; fill:none\" points=\"\n",
       "  148.334,1486.45 148.334,47.2441 \n",
       "  \"/>\n",
       "<polyline clip-path=\"url(#clip440)\" style=\"stroke:#000000; stroke-width:4; stroke-opacity:1; fill:none\" points=\"\n",
       "  148.334,1486.45 174.787,1486.45 \n",
       "  \"/>\n",
       "<polyline clip-path=\"url(#clip440)\" style=\"stroke:#000000; stroke-width:4; stroke-opacity:1; fill:none\" points=\"\n",
       "  148.334,1198.61 174.787,1198.61 \n",
       "  \"/>\n",
       "<polyline clip-path=\"url(#clip440)\" style=\"stroke:#000000; stroke-width:4; stroke-opacity:1; fill:none\" points=\"\n",
       "  148.334,910.766 174.787,910.766 \n",
       "  \"/>\n",
       "<polyline clip-path=\"url(#clip440)\" style=\"stroke:#000000; stroke-width:4; stroke-opacity:1; fill:none\" points=\"\n",
       "  148.334,622.926 174.787,622.926 \n",
       "  \"/>\n",
       "<polyline clip-path=\"url(#clip440)\" style=\"stroke:#000000; stroke-width:4; stroke-opacity:1; fill:none\" points=\"\n",
       "  148.334,335.085 174.787,335.085 \n",
       "  \"/>\n",
       "<polyline clip-path=\"url(#clip440)\" style=\"stroke:#000000; stroke-width:4; stroke-opacity:1; fill:none\" points=\"\n",
       "  148.334,47.2441 174.787,47.2441 \n",
       "  \"/>\n",
       "<path clip-path=\"url(#clip440)\" d=\"M 0 0 M63.4226 1472.25 Q59.8115 1472.25 57.9828 1475.81 Q56.1773 1479.35 56.1773 1486.48 Q56.1773 1493.59 57.9828 1497.15 Q59.8115 1500.7 63.4226 1500.7 Q67.0569 1500.7 68.8624 1497.15 Q70.6911 1493.59 70.6911 1486.48 Q70.6911 1479.35 68.8624 1475.81 Q67.0569 1472.25 63.4226 1472.25 M63.4226 1468.54 Q69.2328 1468.54 72.2883 1473.15 Q75.367 1477.73 75.367 1486.48 Q75.367 1495.21 72.2883 1499.82 Q69.2328 1504.4 63.4226 1504.4 Q57.6125 1504.4 54.5338 1499.82 Q51.4782 1495.21 51.4782 1486.48 Q51.4782 1477.73 54.5338 1473.15 Q57.6125 1468.54 63.4226 1468.54 Z\" fill=\"#000000\" fill-rule=\"evenodd\" fill-opacity=\"1\" /><path clip-path=\"url(#clip440)\" d=\"M 0 0 M80.4364 1497.85 L85.3206 1497.85 L85.3206 1503.73 L80.4364 1503.73 L80.4364 1497.85 Z\" fill=\"#000000\" fill-rule=\"evenodd\" fill-opacity=\"1\" /><path clip-path=\"url(#clip440)\" d=\"M 0 0 M100.39 1472.25 Q96.7789 1472.25 94.9502 1475.81 Q93.1447 1479.35 93.1447 1486.48 Q93.1447 1493.59 94.9502 1497.15 Q96.7789 1500.7 100.39 1500.7 Q104.024 1500.7 105.83 1497.15 Q107.658 1493.59 107.658 1486.48 Q107.658 1479.35 105.83 1475.81 Q104.024 1472.25 100.39 1472.25 M100.39 1468.54 Q106.2 1468.54 109.256 1473.15 Q112.334 1477.73 112.334 1486.48 Q112.334 1495.21 109.256 1499.82 Q106.2 1504.4 100.39 1504.4 Q94.5799 1504.4 91.5012 1499.82 Q88.4456 1495.21 88.4456 1486.48 Q88.4456 1477.73 91.5012 1473.15 Q94.5799 1468.54 100.39 1468.54 Z\" fill=\"#000000\" fill-rule=\"evenodd\" fill-opacity=\"1\" /><path clip-path=\"url(#clip440)\" d=\"M 0 0 M65.0198 1184.41 Q61.4087 1184.41 59.58 1187.97 Q57.7745 1191.51 57.7745 1198.64 Q57.7745 1205.75 59.58 1209.31 Q61.4087 1212.85 65.0198 1212.85 Q68.6541 1212.85 70.4596 1209.31 Q72.2883 1205.75 72.2883 1198.64 Q72.2883 1191.51 70.4596 1187.97 Q68.6541 1184.41 65.0198 1184.41 M65.0198 1180.7 Q70.83 1180.7 73.8855 1185.31 Q76.9642 1189.89 76.9642 1198.64 Q76.9642 1207.37 73.8855 1211.98 Q70.83 1216.56 65.0198 1216.56 Q59.2097 1216.56 56.131 1211.98 Q53.0754 1207.37 53.0754 1198.64 Q53.0754 1189.89 56.131 1185.31 Q59.2097 1180.7 65.0198 1180.7 Z\" fill=\"#000000\" fill-rule=\"evenodd\" fill-opacity=\"1\" /><path clip-path=\"url(#clip440)\" d=\"M 0 0 M82.0336 1210.01 L86.9179 1210.01 L86.9179 1215.89 L82.0336 1215.89 L82.0336 1210.01 Z\" fill=\"#000000\" fill-rule=\"evenodd\" fill-opacity=\"1\" /><path clip-path=\"url(#clip440)\" d=\"M 0 0 M96.015 1211.95 L112.334 1211.95 L112.334 1215.89 L90.3901 1215.89 L90.3901 1211.95 Q93.0521 1209.2 97.6354 1204.57 Q102.242 1199.91 103.422 1198.57 Q105.668 1196.05 106.547 1194.31 Q107.45 1192.55 107.45 1190.86 Q107.45 1188.11 105.506 1186.37 Q103.584 1184.64 100.483 1184.64 Q98.2835 1184.64 95.8298 1185.4 Q93.3993 1186.17 90.6215 1187.72 L90.6215 1182.99 Q93.4456 1181.86 95.8993 1181.28 Q98.353 1180.7 100.39 1180.7 Q105.76 1180.7 108.955 1183.39 Q112.149 1186.07 112.149 1190.56 Q112.149 1192.69 111.339 1194.61 Q110.552 1196.51 108.446 1199.1 Q107.867 1199.78 104.765 1202.99 Q101.663 1206.19 96.015 1211.95 Z\" fill=\"#000000\" fill-rule=\"evenodd\" fill-opacity=\"1\" /><path clip-path=\"url(#clip440)\" d=\"M 0 0 M62.9365 896.565 Q59.3254 896.565 57.4967 900.13 Q55.6912 903.671 55.6912 910.801 Q55.6912 917.908 57.4967 921.472 Q59.3254 925.014 62.9365 925.014 Q66.5707 925.014 68.3763 921.472 Q70.205 917.908 70.205 910.801 Q70.205 903.671 68.3763 900.13 Q66.5707 896.565 62.9365 896.565 M62.9365 892.861 Q68.7467 892.861 71.8022 897.468 Q74.8809 902.051 74.8809 910.801 Q74.8809 919.528 71.8022 924.134 Q68.7467 928.718 62.9365 928.718 Q57.1264 928.718 54.0477 924.134 Q50.9921 919.528 50.9921 910.801 Q50.9921 902.051 54.0477 897.468 Q57.1264 892.861 62.9365 892.861 Z\" fill=\"#000000\" fill-rule=\"evenodd\" fill-opacity=\"1\" /><path clip-path=\"url(#clip440)\" d=\"M 0 0 M79.9503 922.167 L84.8345 922.167 L84.8345 928.046 L79.9503 928.046 L79.9503 922.167 Z\" fill=\"#000000\" fill-rule=\"evenodd\" fill-opacity=\"1\" /><path clip-path=\"url(#clip440)\" d=\"M 0 0 M102.751 897.56 L90.9456 916.009 L102.751 916.009 L102.751 897.56 M101.524 893.486 L107.404 893.486 L107.404 916.009 L112.334 916.009 L112.334 919.898 L107.404 919.898 L107.404 928.046 L102.751 928.046 L102.751 919.898 L87.1493 919.898 L87.1493 915.384 L101.524 893.486 Z\" fill=\"#000000\" fill-rule=\"evenodd\" fill-opacity=\"1\" /><path clip-path=\"url(#clip440)\" d=\"M 0 0 M63.2606 608.724 Q59.6495 608.724 57.8208 612.289 Q56.0152 615.831 56.0152 622.96 Q56.0152 630.067 57.8208 633.632 Q59.6495 637.173 63.2606 637.173 Q66.8948 637.173 68.7004 633.632 Q70.5291 630.067 70.5291 622.96 Q70.5291 615.831 68.7004 612.289 Q66.8948 608.724 63.2606 608.724 M63.2606 605.021 Q69.0707 605.021 72.1263 609.627 Q75.205 614.21 75.205 622.96 Q75.205 631.687 72.1263 636.294 Q69.0707 640.877 63.2606 640.877 Q57.4504 640.877 54.3717 636.294 Q51.3162 631.687 51.3162 622.96 Q51.3162 614.21 54.3717 609.627 Q57.4504 605.021 63.2606 605.021 Z\" fill=\"#000000\" fill-rule=\"evenodd\" fill-opacity=\"1\" /><path clip-path=\"url(#clip440)\" d=\"M 0 0 M80.2744 634.326 L85.1586 634.326 L85.1586 640.206 L80.2744 640.206 L80.2744 634.326 Z\" fill=\"#000000\" fill-rule=\"evenodd\" fill-opacity=\"1\" /><path clip-path=\"url(#clip440)\" d=\"M 0 0 M100.807 621.062 Q97.6585 621.062 95.8067 623.215 Q93.978 625.368 93.978 629.118 Q93.978 632.845 95.8067 635.02 Q97.6585 637.173 100.807 637.173 Q103.955 637.173 105.783 635.02 Q107.635 632.845 107.635 629.118 Q107.635 625.368 105.783 623.215 Q103.955 621.062 100.807 621.062 M110.089 606.409 L110.089 610.669 Q108.33 609.835 106.524 609.396 Q104.742 608.956 102.983 608.956 Q98.353 608.956 95.8993 612.081 Q93.4688 615.206 93.1215 621.525 Q94.4873 619.511 96.5474 618.446 Q98.6076 617.359 101.084 617.359 Q106.293 617.359 109.302 620.53 Q112.334 623.678 112.334 629.118 Q112.334 634.442 109.186 637.659 Q106.038 640.877 100.807 640.877 Q94.8113 640.877 91.6401 636.294 Q88.4688 631.687 88.4688 622.96 Q88.4688 614.766 92.3576 609.905 Q96.2465 605.021 102.797 605.021 Q104.557 605.021 106.339 605.368 Q108.145 605.715 110.089 606.409 Z\" fill=\"#000000\" fill-rule=\"evenodd\" fill-opacity=\"1\" /><path clip-path=\"url(#clip440)\" d=\"M 0 0 M63.5152 320.884 Q59.9041 320.884 58.0754 324.448 Q56.2699 327.99 56.2699 335.12 Q56.2699 342.226 58.0754 345.791 Q59.9041 349.332 63.5152 349.332 Q67.1494 349.332 68.955 345.791 Q70.7837 342.226 70.7837 335.12 Q70.7837 327.99 68.955 324.448 Q67.1494 320.884 63.5152 320.884 M63.5152 317.18 Q69.3254 317.18 72.3809 321.786 Q75.4596 326.37 75.4596 335.12 Q75.4596 343.846 72.3809 348.453 Q69.3254 353.036 63.5152 353.036 Q57.7051 353.036 54.6264 348.453 Q51.5708 343.846 51.5708 335.12 Q51.5708 326.37 54.6264 321.786 Q57.7051 317.18 63.5152 317.18 Z\" fill=\"#000000\" fill-rule=\"evenodd\" fill-opacity=\"1\" /><path clip-path=\"url(#clip440)\" d=\"M 0 0 M80.529 346.485 L85.4132 346.485 L85.4132 352.365 L80.529 352.365 L80.529 346.485 Z\" fill=\"#000000\" fill-rule=\"evenodd\" fill-opacity=\"1\" /><path clip-path=\"url(#clip440)\" d=\"M 0 0 M100.483 335.953 Q97.1493 335.953 95.228 337.735 Q93.3299 339.518 93.3299 342.643 Q93.3299 345.768 95.228 347.55 Q97.1493 349.332 100.483 349.332 Q103.816 349.332 105.737 347.55 Q107.658 345.745 107.658 342.643 Q107.658 339.518 105.737 337.735 Q103.839 335.953 100.483 335.953 M95.8067 333.962 Q92.7975 333.221 91.1077 331.161 Q89.441 329.101 89.441 326.138 Q89.441 321.995 92.3808 319.587 Q95.3437 317.18 100.483 317.18 Q105.645 317.18 108.584 319.587 Q111.524 321.995 111.524 326.138 Q111.524 329.101 109.834 331.161 Q108.168 333.221 105.182 333.962 Q108.561 334.749 110.436 337.041 Q112.334 339.333 112.334 342.643 Q112.334 347.666 109.256 350.351 Q106.2 353.036 100.483 353.036 Q94.765 353.036 91.6864 350.351 Q88.6308 347.666 88.6308 342.643 Q88.6308 339.333 90.529 337.041 Q92.4271 334.749 95.8067 333.962 M94.0937 326.578 Q94.0937 329.263 95.7604 330.768 Q97.4502 332.272 100.483 332.272 Q103.492 332.272 105.182 330.768 Q106.895 329.263 106.895 326.578 Q106.895 323.893 105.182 322.388 Q103.492 320.884 100.483 320.884 Q97.4502 320.884 95.7604 322.388 Q94.0937 323.893 94.0937 326.578 Z\" fill=\"#000000\" fill-rule=\"evenodd\" fill-opacity=\"1\" /><path clip-path=\"url(#clip440)\" d=\"M 0 0 M55.4597 60.5889 L63.0985 60.5889 L63.0985 34.2233 L54.7884 35.89 L54.7884 31.6308 L63.0522 29.9641 L67.7281 29.9641 L67.7281 60.5889 L75.367 60.5889 L75.367 64.5241 L55.4597 64.5241 L55.4597 60.5889 Z\" fill=\"#000000\" fill-rule=\"evenodd\" fill-opacity=\"1\" /><path clip-path=\"url(#clip440)\" d=\"M 0 0 M80.4364 58.6445 L85.3206 58.6445 L85.3206 64.5241 L80.4364 64.5241 L80.4364 58.6445 Z\" fill=\"#000000\" fill-rule=\"evenodd\" fill-opacity=\"1\" /><path clip-path=\"url(#clip440)\" d=\"M 0 0 M100.39 33.0428 Q96.7789 33.0428 94.9502 36.6076 Q93.1447 40.1492 93.1447 47.2788 Q93.1447 54.3853 94.9502 57.9501 Q96.7789 61.4917 100.39 61.4917 Q104.024 61.4917 105.83 57.9501 Q107.658 54.3853 107.658 47.2788 Q107.658 40.1492 105.83 36.6076 Q104.024 33.0428 100.39 33.0428 M100.39 29.3391 Q106.2 29.3391 109.256 33.9456 Q112.334 38.5289 112.334 47.2788 Q112.334 56.0056 109.256 60.6121 Q106.2 65.1954 100.39 65.1954 Q94.5799 65.1954 91.5012 60.6121 Q88.4456 56.0056 88.4456 47.2788 Q88.4456 38.5289 91.5012 33.9456 Q94.5799 29.3391 100.39 29.3391 Z\" fill=\"#000000\" fill-rule=\"evenodd\" fill-opacity=\"1\" /><circle clip-path=\"url(#clip442)\" cx=\"1897.93\" cy=\"766.846\" r=\"14\" fill=\"#009af9\" fill-rule=\"evenodd\" fill-opacity=\"1\" stroke=\"#000000\" stroke-opacity=\"1\" stroke-width=\"3.2\"/>\n",
       "<circle clip-path=\"url(#clip442)\" cx=\"2267.22\" cy=\"766.846\" r=\"14\" fill=\"#009af9\" fill-rule=\"evenodd\" fill-opacity=\"1\" stroke=\"#000000\" stroke-opacity=\"1\" stroke-width=\"3.2\"/>\n",
       "<circle clip-path=\"url(#clip442)\" cx=\"1889.41\" cy=\"766.846\" r=\"14\" fill=\"#009af9\" fill-rule=\"evenodd\" fill-opacity=\"1\" stroke=\"#000000\" stroke-opacity=\"1\" stroke-width=\"3.2\"/>\n",
       "<circle clip-path=\"url(#clip442)\" cx=\"2228.9\" cy=\"766.846\" r=\"14\" fill=\"#009af9\" fill-rule=\"evenodd\" fill-opacity=\"1\" stroke=\"#000000\" stroke-opacity=\"1\" stroke-width=\"3.2\"/>\n",
       "<circle clip-path=\"url(#clip442)\" cx=\"494.494\" cy=\"766.846\" r=\"14\" fill=\"#009af9\" fill-rule=\"evenodd\" fill-opacity=\"1\" stroke=\"#000000\" stroke-opacity=\"1\" stroke-width=\"3.2\"/>\n",
       "<circle clip-path=\"url(#clip442)\" cx=\"1266.34\" cy=\"766.846\" r=\"14\" fill=\"#009af9\" fill-rule=\"evenodd\" fill-opacity=\"1\" stroke=\"#000000\" stroke-opacity=\"1\" stroke-width=\"3.2\"/>\n",
       "<circle clip-path=\"url(#clip442)\" cx=\"324.479\" cy=\"766.846\" r=\"14\" fill=\"#009af9\" fill-rule=\"evenodd\" fill-opacity=\"1\" stroke=\"#000000\" stroke-opacity=\"1\" stroke-width=\"3.2\"/>\n",
       "<circle clip-path=\"url(#clip442)\" cx=\"210.724\" cy=\"766.846\" r=\"14\" fill=\"#009af9\" fill-rule=\"evenodd\" fill-opacity=\"1\" stroke=\"#000000\" stroke-opacity=\"1\" stroke-width=\"3.2\"/>\n",
       "<circle clip-path=\"url(#clip442)\" cx=\"2238.4\" cy=\"766.846\" r=\"14\" fill=\"#009af9\" fill-rule=\"evenodd\" fill-opacity=\"1\" stroke=\"#000000\" stroke-opacity=\"1\" stroke-width=\"3.2\"/>\n",
       "<circle clip-path=\"url(#clip442)\" cx=\"1366.19\" cy=\"766.846\" r=\"14\" fill=\"#009af9\" fill-rule=\"evenodd\" fill-opacity=\"1\" stroke=\"#000000\" stroke-opacity=\"1\" stroke-width=\"3.2\"/>\n",
       "<circle clip-path=\"url(#clip442)\" cx=\"1172.27\" cy=\"766.846\" r=\"14\" fill=\"#009af9\" fill-rule=\"evenodd\" fill-opacity=\"1\" stroke=\"#000000\" stroke-opacity=\"1\" stroke-width=\"3.2\"/>\n",
       "<circle clip-path=\"url(#clip442)\" cx=\"802.596\" cy=\"766.846\" r=\"14\" fill=\"#009af9\" fill-rule=\"evenodd\" fill-opacity=\"1\" stroke=\"#000000\" stroke-opacity=\"1\" stroke-width=\"3.2\"/>\n",
       "<circle clip-path=\"url(#clip442)\" cx=\"821.748\" cy=\"766.846\" r=\"14\" fill=\"#009af9\" fill-rule=\"evenodd\" fill-opacity=\"1\" stroke=\"#000000\" stroke-opacity=\"1\" stroke-width=\"3.2\"/>\n",
       "<circle clip-path=\"url(#clip442)\" cx=\"356.583\" cy=\"766.846\" r=\"14\" fill=\"#009af9\" fill-rule=\"evenodd\" fill-opacity=\"1\" stroke=\"#000000\" stroke-opacity=\"1\" stroke-width=\"3.2\"/>\n",
       "<circle clip-path=\"url(#clip442)\" cx=\"2153.11\" cy=\"766.846\" r=\"14\" fill=\"#009af9\" fill-rule=\"evenodd\" fill-opacity=\"1\" stroke=\"#000000\" stroke-opacity=\"1\" stroke-width=\"3.2\"/>\n",
       "<circle clip-path=\"url(#clip442)\" cx=\"2100.46\" cy=\"766.846\" r=\"14\" fill=\"#009af9\" fill-rule=\"evenodd\" fill-opacity=\"1\" stroke=\"#000000\" stroke-opacity=\"1\" stroke-width=\"3.2\"/>\n",
       "<circle clip-path=\"url(#clip442)\" cx=\"1219.48\" cy=\"766.846\" r=\"14\" fill=\"#009af9\" fill-rule=\"evenodd\" fill-opacity=\"1\" stroke=\"#000000\" stroke-opacity=\"1\" stroke-width=\"3.2\"/>\n",
       "<circle clip-path=\"url(#clip442)\" cx=\"2287.92\" cy=\"766.846\" r=\"14\" fill=\"#009af9\" fill-rule=\"evenodd\" fill-opacity=\"1\" stroke=\"#000000\" stroke-opacity=\"1\" stroke-width=\"3.2\"/>\n",
       "<circle clip-path=\"url(#clip442)\" cx=\"1828.93\" cy=\"766.846\" r=\"14\" fill=\"#009af9\" fill-rule=\"evenodd\" fill-opacity=\"1\" stroke=\"#000000\" stroke-opacity=\"1\" stroke-width=\"3.2\"/>\n",
       "<circle clip-path=\"url(#clip442)\" cx=\"1066.15\" cy=\"766.846\" r=\"14\" fill=\"#009af9\" fill-rule=\"evenodd\" fill-opacity=\"1\" stroke=\"#000000\" stroke-opacity=\"1\" stroke-width=\"3.2\"/>\n",
       "<circle clip-path=\"url(#clip442)\" cx=\"1150.29\" cy=\"766.846\" r=\"14\" fill=\"#009af9\" fill-rule=\"evenodd\" fill-opacity=\"1\" stroke=\"#000000\" stroke-opacity=\"1\" stroke-width=\"3.2\"/>\n",
       "<circle clip-path=\"url(#clip442)\" cx=\"939.35\" cy=\"766.846\" r=\"14\" fill=\"#009af9\" fill-rule=\"evenodd\" fill-opacity=\"1\" stroke=\"#000000\" stroke-opacity=\"1\" stroke-width=\"3.2\"/>\n",
       "<circle clip-path=\"url(#clip442)\" cx=\"1018.17\" cy=\"766.846\" r=\"14\" fill=\"#009af9\" fill-rule=\"evenodd\" fill-opacity=\"1\" stroke=\"#000000\" stroke-opacity=\"1\" stroke-width=\"3.2\"/>\n",
       "<circle clip-path=\"url(#clip442)\" cx=\"1362.82\" cy=\"766.846\" r=\"14\" fill=\"#009af9\" fill-rule=\"evenodd\" fill-opacity=\"1\" stroke=\"#000000\" stroke-opacity=\"1\" stroke-width=\"3.2\"/>\n",
       "<circle clip-path=\"url(#clip442)\" cx=\"2290.37\" cy=\"766.846\" r=\"14\" fill=\"#009af9\" fill-rule=\"evenodd\" fill-opacity=\"1\" stroke=\"#000000\" stroke-opacity=\"1\" stroke-width=\"3.2\"/>\n",
       "<circle clip-path=\"url(#clip442)\" cx=\"1526.94\" cy=\"766.846\" r=\"14\" fill=\"#009af9\" fill-rule=\"evenodd\" fill-opacity=\"1\" stroke=\"#000000\" stroke-opacity=\"1\" stroke-width=\"3.2\"/>\n",
       "<circle clip-path=\"url(#clip442)\" cx=\"1674.84\" cy=\"766.846\" r=\"14\" fill=\"#009af9\" fill-rule=\"evenodd\" fill-opacity=\"1\" stroke=\"#000000\" stroke-opacity=\"1\" stroke-width=\"3.2\"/>\n",
       "<circle clip-path=\"url(#clip442)\" cx=\"896.31\" cy=\"766.846\" r=\"14\" fill=\"#009af9\" fill-rule=\"evenodd\" fill-opacity=\"1\" stroke=\"#000000\" stroke-opacity=\"1\" stroke-width=\"3.2\"/>\n",
       "<circle clip-path=\"url(#clip442)\" cx=\"635.925\" cy=\"766.846\" r=\"14\" fill=\"#009af9\" fill-rule=\"evenodd\" fill-opacity=\"1\" stroke=\"#000000\" stroke-opacity=\"1\" stroke-width=\"3.2\"/>\n",
       "<circle clip-path=\"url(#clip442)\" cx=\"1282.7\" cy=\"766.846\" r=\"14\" fill=\"#009af9\" fill-rule=\"evenodd\" fill-opacity=\"1\" stroke=\"#000000\" stroke-opacity=\"1\" stroke-width=\"3.2\"/>\n",
       "<circle clip-path=\"url(#clip442)\" cx=\"973.277\" cy=\"766.846\" r=\"14\" fill=\"#009af9\" fill-rule=\"evenodd\" fill-opacity=\"1\" stroke=\"#000000\" stroke-opacity=\"1\" stroke-width=\"3.2\"/>\n",
       "<circle clip-path=\"url(#clip442)\" cx=\"1917.39\" cy=\"766.846\" r=\"14\" fill=\"#009af9\" fill-rule=\"evenodd\" fill-opacity=\"1\" stroke=\"#000000\" stroke-opacity=\"1\" stroke-width=\"3.2\"/>\n",
       "<circle clip-path=\"url(#clip442)\" cx=\"665.717\" cy=\"766.846\" r=\"14\" fill=\"#009af9\" fill-rule=\"evenodd\" fill-opacity=\"1\" stroke=\"#000000\" stroke-opacity=\"1\" stroke-width=\"3.2\"/>\n",
       "<circle clip-path=\"url(#clip442)\" cx=\"1564.87\" cy=\"766.846\" r=\"14\" fill=\"#009af9\" fill-rule=\"evenodd\" fill-opacity=\"1\" stroke=\"#000000\" stroke-opacity=\"1\" stroke-width=\"3.2\"/>\n",
       "<circle clip-path=\"url(#clip442)\" cx=\"1945.99\" cy=\"766.846\" r=\"14\" fill=\"#009af9\" fill-rule=\"evenodd\" fill-opacity=\"1\" stroke=\"#000000\" stroke-opacity=\"1\" stroke-width=\"3.2\"/>\n",
       "<circle clip-path=\"url(#clip442)\" cx=\"1461.73\" cy=\"766.846\" r=\"14\" fill=\"#009af9\" fill-rule=\"evenodd\" fill-opacity=\"1\" stroke=\"#000000\" stroke-opacity=\"1\" stroke-width=\"3.2\"/>\n",
       "<circle clip-path=\"url(#clip442)\" cx=\"1923.02\" cy=\"766.846\" r=\"14\" fill=\"#009af9\" fill-rule=\"evenodd\" fill-opacity=\"1\" stroke=\"#000000\" stroke-opacity=\"1\" stroke-width=\"3.2\"/>\n",
       "<circle clip-path=\"url(#clip442)\" cx=\"358.715\" cy=\"766.846\" r=\"14\" fill=\"#009af9\" fill-rule=\"evenodd\" fill-opacity=\"1\" stroke=\"#000000\" stroke-opacity=\"1\" stroke-width=\"3.2\"/>\n",
       "<circle clip-path=\"url(#clip442)\" cx=\"1555.96\" cy=\"766.846\" r=\"14\" fill=\"#009af9\" fill-rule=\"evenodd\" fill-opacity=\"1\" stroke=\"#000000\" stroke-opacity=\"1\" stroke-width=\"3.2\"/>\n",
       "<circle clip-path=\"url(#clip442)\" cx=\"498.558\" cy=\"766.846\" r=\"14\" fill=\"#009af9\" fill-rule=\"evenodd\" fill-opacity=\"1\" stroke=\"#000000\" stroke-opacity=\"1\" stroke-width=\"3.2\"/>\n",
       "<circle clip-path=\"url(#clip442)\" cx=\"1296.47\" cy=\"766.846\" r=\"14\" fill=\"#009af9\" fill-rule=\"evenodd\" fill-opacity=\"1\" stroke=\"#000000\" stroke-opacity=\"1\" stroke-width=\"3.2\"/>\n",
       "<circle clip-path=\"url(#clip442)\" cx=\"1484.9\" cy=\"766.846\" r=\"14\" fill=\"#009af9\" fill-rule=\"evenodd\" fill-opacity=\"1\" stroke=\"#000000\" stroke-opacity=\"1\" stroke-width=\"3.2\"/>\n",
       "<circle clip-path=\"url(#clip442)\" cx=\"1175.1\" cy=\"766.846\" r=\"14\" fill=\"#009af9\" fill-rule=\"evenodd\" fill-opacity=\"1\" stroke=\"#000000\" stroke-opacity=\"1\" stroke-width=\"3.2\"/>\n",
       "<circle clip-path=\"url(#clip442)\" cx=\"1997.05\" cy=\"766.846\" r=\"14\" fill=\"#009af9\" fill-rule=\"evenodd\" fill-opacity=\"1\" stroke=\"#000000\" stroke-opacity=\"1\" stroke-width=\"3.2\"/>\n",
       "<circle clip-path=\"url(#clip442)\" cx=\"1606.91\" cy=\"766.846\" r=\"14\" fill=\"#009af9\" fill-rule=\"evenodd\" fill-opacity=\"1\" stroke=\"#000000\" stroke-opacity=\"1\" stroke-width=\"3.2\"/>\n",
       "<circle clip-path=\"url(#clip442)\" cx=\"2035.74\" cy=\"766.846\" r=\"14\" fill=\"#009af9\" fill-rule=\"evenodd\" fill-opacity=\"1\" stroke=\"#000000\" stroke-opacity=\"1\" stroke-width=\"3.2\"/>\n",
       "<circle clip-path=\"url(#clip442)\" cx=\"569.922\" cy=\"766.846\" r=\"14\" fill=\"#009af9\" fill-rule=\"evenodd\" fill-opacity=\"1\" stroke=\"#000000\" stroke-opacity=\"1\" stroke-width=\"3.2\"/>\n",
       "<circle clip-path=\"url(#clip442)\" cx=\"650.883\" cy=\"766.846\" r=\"14\" fill=\"#009af9\" fill-rule=\"evenodd\" fill-opacity=\"1\" stroke=\"#000000\" stroke-opacity=\"1\" stroke-width=\"3.2\"/>\n",
       "<circle clip-path=\"url(#clip442)\" cx=\"1903.29\" cy=\"766.846\" r=\"14\" fill=\"#009af9\" fill-rule=\"evenodd\" fill-opacity=\"1\" stroke=\"#000000\" stroke-opacity=\"1\" stroke-width=\"3.2\"/>\n",
       "<circle clip-path=\"url(#clip442)\" cx=\"1175.33\" cy=\"766.846\" r=\"14\" fill=\"#009af9\" fill-rule=\"evenodd\" fill-opacity=\"1\" stroke=\"#000000\" stroke-opacity=\"1\" stroke-width=\"3.2\"/>\n",
       "<circle clip-path=\"url(#clip442)\" cx=\"1106.38\" cy=\"766.846\" r=\"14\" fill=\"#009af9\" fill-rule=\"evenodd\" fill-opacity=\"1\" stroke=\"#000000\" stroke-opacity=\"1\" stroke-width=\"3.2\"/>\n",
       "<circle clip-path=\"url(#clip442)\" cx=\"1985.15\" cy=\"766.846\" r=\"14\" fill=\"#009af9\" fill-rule=\"evenodd\" fill-opacity=\"1\" stroke=\"#000000\" stroke-opacity=\"1\" stroke-width=\"3.2\"/>\n",
       "<circle clip-path=\"url(#clip442)\" cx=\"1613.61\" cy=\"766.846\" r=\"14\" fill=\"#009af9\" fill-rule=\"evenodd\" fill-opacity=\"1\" stroke=\"#000000\" stroke-opacity=\"1\" stroke-width=\"3.2\"/>\n",
       "<circle clip-path=\"url(#clip442)\" cx=\"478.763\" cy=\"766.846\" r=\"14\" fill=\"#009af9\" fill-rule=\"evenodd\" fill-opacity=\"1\" stroke=\"#000000\" stroke-opacity=\"1\" stroke-width=\"3.2\"/>\n",
       "<circle clip-path=\"url(#clip442)\" cx=\"1399.06\" cy=\"766.846\" r=\"14\" fill=\"#009af9\" fill-rule=\"evenodd\" fill-opacity=\"1\" stroke=\"#000000\" stroke-opacity=\"1\" stroke-width=\"3.2\"/>\n",
       "<circle clip-path=\"url(#clip442)\" cx=\"831.657\" cy=\"766.846\" r=\"14\" fill=\"#009af9\" fill-rule=\"evenodd\" fill-opacity=\"1\" stroke=\"#000000\" stroke-opacity=\"1\" stroke-width=\"3.2\"/>\n",
       "<circle clip-path=\"url(#clip442)\" cx=\"502.217\" cy=\"766.846\" r=\"14\" fill=\"#009af9\" fill-rule=\"evenodd\" fill-opacity=\"1\" stroke=\"#000000\" stroke-opacity=\"1\" stroke-width=\"3.2\"/>\n",
       "<circle clip-path=\"url(#clip442)\" cx=\"1683.03\" cy=\"766.846\" r=\"14\" fill=\"#009af9\" fill-rule=\"evenodd\" fill-opacity=\"1\" stroke=\"#000000\" stroke-opacity=\"1\" stroke-width=\"3.2\"/>\n",
       "<circle clip-path=\"url(#clip442)\" cx=\"1979.03\" cy=\"766.846\" r=\"14\" fill=\"#009af9\" fill-rule=\"evenodd\" fill-opacity=\"1\" stroke=\"#000000\" stroke-opacity=\"1\" stroke-width=\"3.2\"/>\n",
       "<circle clip-path=\"url(#clip442)\" cx=\"2010.88\" cy=\"766.846\" r=\"14\" fill=\"#009af9\" fill-rule=\"evenodd\" fill-opacity=\"1\" stroke=\"#000000\" stroke-opacity=\"1\" stroke-width=\"3.2\"/>\n",
       "<circle clip-path=\"url(#clip442)\" cx=\"710.369\" cy=\"766.846\" r=\"14\" fill=\"#009af9\" fill-rule=\"evenodd\" fill-opacity=\"1\" stroke=\"#000000\" stroke-opacity=\"1\" stroke-width=\"3.2\"/>\n",
       "<circle clip-path=\"url(#clip442)\" cx=\"764.8\" cy=\"766.846\" r=\"14\" fill=\"#009af9\" fill-rule=\"evenodd\" fill-opacity=\"1\" stroke=\"#000000\" stroke-opacity=\"1\" stroke-width=\"3.2\"/>\n",
       "<circle clip-path=\"url(#clip442)\" cx=\"890.871\" cy=\"766.846\" r=\"14\" fill=\"#009af9\" fill-rule=\"evenodd\" fill-opacity=\"1\" stroke=\"#000000\" stroke-opacity=\"1\" stroke-width=\"3.2\"/>\n",
       "<circle clip-path=\"url(#clip442)\" cx=\"1744.55\" cy=\"766.846\" r=\"14\" fill=\"#009af9\" fill-rule=\"evenodd\" fill-opacity=\"1\" stroke=\"#000000\" stroke-opacity=\"1\" stroke-width=\"3.2\"/>\n",
       "<circle clip-path=\"url(#clip442)\" cx=\"734.996\" cy=\"766.846\" r=\"14\" fill=\"#009af9\" fill-rule=\"evenodd\" fill-opacity=\"1\" stroke=\"#000000\" stroke-opacity=\"1\" stroke-width=\"3.2\"/>\n",
       "<circle clip-path=\"url(#clip442)\" cx=\"2211.01\" cy=\"766.846\" r=\"14\" fill=\"#009af9\" fill-rule=\"evenodd\" fill-opacity=\"1\" stroke=\"#000000\" stroke-opacity=\"1\" stroke-width=\"3.2\"/>\n",
       "<circle clip-path=\"url(#clip442)\" cx=\"600.481\" cy=\"766.846\" r=\"14\" fill=\"#009af9\" fill-rule=\"evenodd\" fill-opacity=\"1\" stroke=\"#000000\" stroke-opacity=\"1\" stroke-width=\"3.2\"/>\n",
       "<circle clip-path=\"url(#clip442)\" cx=\"1849.18\" cy=\"766.846\" r=\"14\" fill=\"#009af9\" fill-rule=\"evenodd\" fill-opacity=\"1\" stroke=\"#000000\" stroke-opacity=\"1\" stroke-width=\"3.2\"/>\n",
       "<circle clip-path=\"url(#clip442)\" cx=\"887.328\" cy=\"766.846\" r=\"14\" fill=\"#009af9\" fill-rule=\"evenodd\" fill-opacity=\"1\" stroke=\"#000000\" stroke-opacity=\"1\" stroke-width=\"3.2\"/>\n",
       "<circle clip-path=\"url(#clip442)\" cx=\"857.699\" cy=\"766.846\" r=\"14\" fill=\"#009af9\" fill-rule=\"evenodd\" fill-opacity=\"1\" stroke=\"#000000\" stroke-opacity=\"1\" stroke-width=\"3.2\"/>\n",
       "<circle clip-path=\"url(#clip442)\" cx=\"1649.87\" cy=\"766.846\" r=\"14\" fill=\"#009af9\" fill-rule=\"evenodd\" fill-opacity=\"1\" stroke=\"#000000\" stroke-opacity=\"1\" stroke-width=\"3.2\"/>\n",
       "<circle clip-path=\"url(#clip442)\" cx=\"465.945\" cy=\"766.846\" r=\"14\" fill=\"#009af9\" fill-rule=\"evenodd\" fill-opacity=\"1\" stroke=\"#000000\" stroke-opacity=\"1\" stroke-width=\"3.2\"/>\n",
       "<circle clip-path=\"url(#clip442)\" cx=\"2130.27\" cy=\"766.846\" r=\"14\" fill=\"#009af9\" fill-rule=\"evenodd\" fill-opacity=\"1\" stroke=\"#000000\" stroke-opacity=\"1\" stroke-width=\"3.2\"/>\n",
       "<circle clip-path=\"url(#clip442)\" cx=\"1726.96\" cy=\"766.846\" r=\"14\" fill=\"#009af9\" fill-rule=\"evenodd\" fill-opacity=\"1\" stroke=\"#000000\" stroke-opacity=\"1\" stroke-width=\"3.2\"/>\n",
       "<circle clip-path=\"url(#clip442)\" cx=\"1916.56\" cy=\"766.846\" r=\"14\" fill=\"#009af9\" fill-rule=\"evenodd\" fill-opacity=\"1\" stroke=\"#000000\" stroke-opacity=\"1\" stroke-width=\"3.2\"/>\n",
       "<circle clip-path=\"url(#clip442)\" cx=\"1469.93\" cy=\"766.846\" r=\"14\" fill=\"#009af9\" fill-rule=\"evenodd\" fill-opacity=\"1\" stroke=\"#000000\" stroke-opacity=\"1\" stroke-width=\"3.2\"/>\n",
       "<circle clip-path=\"url(#clip442)\" cx=\"2269.84\" cy=\"766.846\" r=\"14\" fill=\"#009af9\" fill-rule=\"evenodd\" fill-opacity=\"1\" stroke=\"#000000\" stroke-opacity=\"1\" stroke-width=\"3.2\"/>\n",
       "<circle clip-path=\"url(#clip442)\" cx=\"1010.12\" cy=\"766.846\" r=\"14\" fill=\"#009af9\" fill-rule=\"evenodd\" fill-opacity=\"1\" stroke=\"#000000\" stroke-opacity=\"1\" stroke-width=\"3.2\"/>\n",
       "<circle clip-path=\"url(#clip442)\" cx=\"1068.65\" cy=\"766.846\" r=\"14\" fill=\"#009af9\" fill-rule=\"evenodd\" fill-opacity=\"1\" stroke=\"#000000\" stroke-opacity=\"1\" stroke-width=\"3.2\"/>\n",
       "<circle clip-path=\"url(#clip442)\" cx=\"254.624\" cy=\"766.846\" r=\"14\" fill=\"#009af9\" fill-rule=\"evenodd\" fill-opacity=\"1\" stroke=\"#000000\" stroke-opacity=\"1\" stroke-width=\"3.2\"/>\n",
       "<circle clip-path=\"url(#clip442)\" cx=\"1574.66\" cy=\"766.846\" r=\"14\" fill=\"#009af9\" fill-rule=\"evenodd\" fill-opacity=\"1\" stroke=\"#000000\" stroke-opacity=\"1\" stroke-width=\"3.2\"/>\n",
       "<circle clip-path=\"url(#clip442)\" cx=\"369.037\" cy=\"766.846\" r=\"14\" fill=\"#009af9\" fill-rule=\"evenodd\" fill-opacity=\"1\" stroke=\"#000000\" stroke-opacity=\"1\" stroke-width=\"3.2\"/>\n",
       "<circle clip-path=\"url(#clip442)\" cx=\"550.171\" cy=\"766.846\" r=\"14\" fill=\"#009af9\" fill-rule=\"evenodd\" fill-opacity=\"1\" stroke=\"#000000\" stroke-opacity=\"1\" stroke-width=\"3.2\"/>\n",
       "<circle clip-path=\"url(#clip442)\" cx=\"466.758\" cy=\"766.846\" r=\"14\" fill=\"#009af9\" fill-rule=\"evenodd\" fill-opacity=\"1\" stroke=\"#000000\" stroke-opacity=\"1\" stroke-width=\"3.2\"/>\n",
       "<circle clip-path=\"url(#clip442)\" cx=\"1359.37\" cy=\"766.846\" r=\"14\" fill=\"#009af9\" fill-rule=\"evenodd\" fill-opacity=\"1\" stroke=\"#000000\" stroke-opacity=\"1\" stroke-width=\"3.2\"/>\n",
       "<circle clip-path=\"url(#clip442)\" cx=\"1325.43\" cy=\"766.846\" r=\"14\" fill=\"#009af9\" fill-rule=\"evenodd\" fill-opacity=\"1\" stroke=\"#000000\" stroke-opacity=\"1\" stroke-width=\"3.2\"/>\n",
       "<circle clip-path=\"url(#clip442)\" cx=\"1675.16\" cy=\"766.846\" r=\"14\" fill=\"#009af9\" fill-rule=\"evenodd\" fill-opacity=\"1\" stroke=\"#000000\" stroke-opacity=\"1\" stroke-width=\"3.2\"/>\n",
       "<circle clip-path=\"url(#clip442)\" cx=\"983.571\" cy=\"766.846\" r=\"14\" fill=\"#009af9\" fill-rule=\"evenodd\" fill-opacity=\"1\" stroke=\"#000000\" stroke-opacity=\"1\" stroke-width=\"3.2\"/>\n",
       "<circle clip-path=\"url(#clip442)\" cx=\"1654.92\" cy=\"766.846\" r=\"14\" fill=\"#009af9\" fill-rule=\"evenodd\" fill-opacity=\"1\" stroke=\"#000000\" stroke-opacity=\"1\" stroke-width=\"3.2\"/>\n",
       "<circle clip-path=\"url(#clip442)\" cx=\"297.981\" cy=\"766.846\" r=\"14\" fill=\"#009af9\" fill-rule=\"evenodd\" fill-opacity=\"1\" stroke=\"#000000\" stroke-opacity=\"1\" stroke-width=\"3.2\"/>\n",
       "<circle clip-path=\"url(#clip442)\" cx=\"464.329\" cy=\"766.846\" r=\"14\" fill=\"#009af9\" fill-rule=\"evenodd\" fill-opacity=\"1\" stroke=\"#000000\" stroke-opacity=\"1\" stroke-width=\"3.2\"/>\n",
       "<circle clip-path=\"url(#clip442)\" cx=\"832.376\" cy=\"766.846\" r=\"14\" fill=\"#009af9\" fill-rule=\"evenodd\" fill-opacity=\"1\" stroke=\"#000000\" stroke-opacity=\"1\" stroke-width=\"3.2\"/>\n",
       "<circle clip-path=\"url(#clip442)\" cx=\"2163.05\" cy=\"766.846\" r=\"14\" fill=\"#009af9\" fill-rule=\"evenodd\" fill-opacity=\"1\" stroke=\"#000000\" stroke-opacity=\"1\" stroke-width=\"3.2\"/>\n",
       "<circle clip-path=\"url(#clip442)\" cx=\"1196.05\" cy=\"766.846\" r=\"14\" fill=\"#009af9\" fill-rule=\"evenodd\" fill-opacity=\"1\" stroke=\"#000000\" stroke-opacity=\"1\" stroke-width=\"3.2\"/>\n",
       "<circle clip-path=\"url(#clip442)\" cx=\"671.916\" cy=\"766.846\" r=\"14\" fill=\"#009af9\" fill-rule=\"evenodd\" fill-opacity=\"1\" stroke=\"#000000\" stroke-opacity=\"1\" stroke-width=\"3.2\"/>\n",
       "<circle clip-path=\"url(#clip442)\" cx=\"1695.21\" cy=\"766.846\" r=\"14\" fill=\"#009af9\" fill-rule=\"evenodd\" fill-opacity=\"1\" stroke=\"#000000\" stroke-opacity=\"1\" stroke-width=\"3.2\"/>\n",
       "<circle clip-path=\"url(#clip442)\" cx=\"588.891\" cy=\"766.846\" r=\"14\" fill=\"#009af9\" fill-rule=\"evenodd\" fill-opacity=\"1\" stroke=\"#000000\" stroke-opacity=\"1\" stroke-width=\"3.2\"/>\n",
       "<circle clip-path=\"url(#clip442)\" cx=\"1428.34\" cy=\"766.846\" r=\"14\" fill=\"#009af9\" fill-rule=\"evenodd\" fill-opacity=\"1\" stroke=\"#000000\" stroke-opacity=\"1\" stroke-width=\"3.2\"/>\n",
       "<circle clip-path=\"url(#clip442)\" cx=\"2015.19\" cy=\"766.846\" r=\"14\" fill=\"#009af9\" fill-rule=\"evenodd\" fill-opacity=\"1\" stroke=\"#000000\" stroke-opacity=\"1\" stroke-width=\"3.2\"/>\n",
       "<circle clip-path=\"url(#clip442)\" cx=\"2008.48\" cy=\"766.846\" r=\"14\" fill=\"#009af9\" fill-rule=\"evenodd\" fill-opacity=\"1\" stroke=\"#000000\" stroke-opacity=\"1\" stroke-width=\"3.2\"/>\n",
       "<path clip-path=\"url(#clip440)\" d=\"\n",
       "M1983.32 216.178 L2279.28 216.178 L2279.28 95.2176 L1983.32 95.2176  Z\n",
       "  \" fill=\"#ffffff\" fill-rule=\"evenodd\" fill-opacity=\"1\"/>\n",
       "<polyline clip-path=\"url(#clip440)\" style=\"stroke:#000000; stroke-width:4; stroke-opacity:1; fill:none\" points=\"\n",
       "  1983.32,216.178 2279.28,216.178 2279.28,95.2176 1983.32,95.2176 1983.32,216.178 \n",
       "  \"/>\n",
       "<circle clip-path=\"url(#clip440)\" cx=\"2081.3\" cy=\"155.698\" r=\"23\" fill=\"#009af9\" fill-rule=\"evenodd\" fill-opacity=\"1\" stroke=\"#000000\" stroke-opacity=\"1\" stroke-width=\"5.12\"/>\n",
       "<path clip-path=\"url(#clip440)\" d=\"M 0 0 M2193.11 175.385 Q2191.31 180.015 2189.59 181.427 Q2187.88 182.839 2185.01 182.839 L2181.61 182.839 L2181.61 179.274 L2184.11 179.274 Q2185.87 179.274 2186.84 178.44 Q2187.81 177.607 2188.99 174.505 L2189.76 172.561 L2179.27 147.052 L2183.78 147.052 L2191.89 167.329 L2199.99 147.052 L2204.5 147.052 L2193.11 175.385 Z\" fill=\"#000000\" fill-rule=\"evenodd\" fill-opacity=\"1\" /><path clip-path=\"url(#clip440)\" d=\"M 0 0 M2210.38 169.042 L2218.02 169.042 L2218.02 142.677 L2209.71 144.343 L2209.71 140.084 L2217.97 138.418 L2222.65 138.418 L2222.65 169.042 L2230.29 169.042 L2230.29 172.978 L2210.38 172.978 L2210.38 169.042 Z\" fill=\"#000000\" fill-rule=\"evenodd\" fill-opacity=\"1\" /></svg>\n"
      ]
     },
     "execution_count": 34,
     "metadata": {},
     "output_type": "execute_result"
    }
   ],
   "source": [
    "scatter(r, 0.5 .* one.(r), ylim=(0,1))"
   ]
  },
  {
   "cell_type": "code",
   "execution_count": 35,
   "metadata": {},
   "outputs": [
    {
     "data": {
      "text/html": [
       "<script>\n",
       "// Immediately-invoked-function-expression to avoid global variables.\n",
       "(function() {\n",
       "    var warning_div = document.getElementById(\"webio-warning-12461224699422390548\");\n",
       "    var hide = function () {\n",
       "        var script = document.getElementById(\"webio-setup-7483321332472496021\");\n",
       "        var parent = script && script.parentElement;\n",
       "        var grandparent = parent && parent.parentElement;\n",
       "        if (grandparent) {\n",
       "            grandparent.style.display = \"none\";\n",
       "        }\n",
       "        warning_div.style.display = \"none\";\n",
       "    };\n",
       "    if (typeof Jupyter !== \"undefined\") {\n",
       "        console.log(\"WebIO detected Jupyter notebook environment.\");\n",
       "        // Jupyter notebook.\n",
       "        var extensions = (\n",
       "            Jupyter\n",
       "            && Jupyter.notebook.config.data\n",
       "            && Jupyter.notebook.config.data.load_extensions\n",
       "        );\n",
       "        if (extensions && extensions[\"webio-jupyter-notebook\"]) {\n",
       "            // Extension already loaded.\n",
       "            console.log(\"Jupyter WebIO nbextension detected; not loading ad-hoc.\");\n",
       "            hide();\n",
       "            return;\n",
       "        }\n",
       "    } else if (window.location.pathname.includes(\"/lab\")) {\n",
       "        // Guessing JupyterLa\n",
       "        console.log(\"Jupyter Lab detected; make sure the @webio/jupyter-lab-provider labextension is installed.\");\n",
       "        hide();\n",
       "        return;\n",
       "    }\n",
       "})();\n",
       "\n",
       "</script>\n",
       "<p\n",
       "    id=\"webio-warning-12461224699422390548\"\n",
       "    class=\"output_text output_stderr\"\n",
       "    style=\"padding: 1em; font-weight: bold;\"\n",
       ">\n",
       "    Unable to load WebIO. Please make sure WebIO works for your Jupyter client.\n",
       "    For troubleshooting, please see <a href=\"https://juliagizmos.github.io/WebIO.jl/latest/providers/ijulia/\">\n",
       "    the WebIO/IJulia documentation</a>.\n",
       "    <!-- TODO: link to installation docs. -->\n",
       "</p>\n"
      ],
      "text/plain": [
       "HTML{String}(\"<script>\\n// Immediately-invoked-function-expression to avoid global variables.\\n(function() {\\n    var warning_div = document.getElementById(\\\"webio-warning-12461224699422390548\\\");\\n    var hide = function () {\\n        var script = document.getElementById(\\\"webio-setup-7483321332472496021\\\");\\n        var parent = script && script.parentElement;\\n        var grandparent = parent && parent.parentElement;\\n        if (grandparent) {\\n            grandparent.style.display = \\\"none\\\";\\n        }\\n        warning_div.style.display = \\\"none\\\";\\n    };\\n    if (typeof Jupyter !== \\\"undefined\\\") {\\n        console.log(\\\"WebIO detected Jupyter notebook environment.\\\");\\n        // Jupyter notebook.\\n        var extensions = (\\n            Jupyter\\n            && Jupyter.notebook.config.data\\n            && Jupyter.notebook.config.data.load_extensions\\n        );\\n        if (extensions && extensions[\\\"webio-jupyter-notebook\\\"]) {\\n            // Extension already loaded.\\n            console.log(\\\"Jupyter WebIO nbextension detected; not loading ad-hoc.\\\");\\n            hide();\\n            return;\\n        }\\n    } else if (window.location.pathname.includes(\\\"/lab\\\")) {\\n        // Guessing JupyterLa\\n        console.log(\\\"Jupyter Lab detected; make sure the @webio/jupyter-lab-provider labextension is installed.\\\");\\n        hide();\\n        return;\\n    }\\n})();\\n\\n</script>\\n<p\\n    id=\\\"webio-warning-12461224699422390548\\\"\\n    class=\\\"output_text output_stderr\\\"\\n    style=\\\"padding: 1em; font-weight: bold;\\\"\\n>\\n    Unable to load WebIO. Please make sure WebIO works for your Jupyter client.\\n    For troubleshooting, please see <a href=\\\"https://juliagizmos.github.io/WebIO.jl/latest/providers/ijulia/\\\">\\n    the WebIO/IJulia documentation</a>.\\n    <!-- TODO: link to installation docs. -->\\n</p>\\n\")"
      ]
     },
     "metadata": {},
     "output_type": "display_data"
    }
   ],
   "source": [
    "using Interact"
   ]
  },
  {
   "cell_type": "code",
   "execution_count": 37,
   "metadata": {},
   "outputs": [
    {
     "data": {
      "application/vnd.webio.node+json": {
       "children": [
        {
         "children": [
          {
           "children": [
            {
             "children": [
              {
               "children": [
                {
                 "children": [
                  "n"
                 ],
                 "instanceArgs": {
                  "namespace": "html",
                  "tag": "label"
                 },
                 "nodeType": "DOM",
                 "props": {
                  "className": "interact ",
                  "style": {
                   "padding": "5px 10px 0px 10px"
                  }
                 },
                 "type": "node"
                }
               ],
               "instanceArgs": {
                "namespace": "html",
                "tag": "div"
               },
               "nodeType": "DOM",
               "props": {
                "className": "interact-flex-row-left"
               },
               "type": "node"
              },
              {
               "children": [
                {
                 "children": [],
                 "instanceArgs": {
                  "namespace": "html",
                  "tag": "input"
                 },
                 "nodeType": "DOM",
                 "props": {
                  "attributes": {
                   "data-bind": "numericValue: index, valueUpdate: 'input', event: {change: function (){this.changes(this.changes()+1)}}",
                   "orient": "horizontal",
                   "type": "range"
                  },
                  "className": "slider slider is-fullwidth",
                  "max": 100,
                  "min": 1,
                  "step": 1,
                  "style": {}
                 },
                 "type": "node"
                }
               ],
               "instanceArgs": {
                "namespace": "html",
                "tag": "div"
               },
               "nodeType": "DOM",
               "props": {
                "className": "interact-flex-row-center"
               },
               "type": "node"
              },
              {
               "children": [
                {
                 "children": [],
                 "instanceArgs": {
                  "namespace": "html",
                  "tag": "p"
                 },
                 "nodeType": "DOM",
                 "props": {
                  "attributes": {
                   "data-bind": "text: formatted_val"
                  }
                 },
                 "type": "node"
                }
               ],
               "instanceArgs": {
                "namespace": "html",
                "tag": "div"
               },
               "nodeType": "DOM",
               "props": {
                "className": "interact-flex-row-right"
               },
               "type": "node"
              }
             ],
             "instanceArgs": {
              "namespace": "html",
              "tag": "div"
             },
             "nodeType": "DOM",
             "props": {
              "className": "interact-flex-row interact-widget"
             },
             "type": "node"
            }
           ],
           "instanceArgs": {
            "handlers": {
             "changes": [
              "(function (val){return (val!=this.model[\"changes\"]()) ? (this.valueFromJulia[\"changes\"]=true, this.model[\"changes\"](val)) : undefined})"
             ],
             "index": [
              "(function (val){return (val!=this.model[\"index\"]()) ? (this.valueFromJulia[\"index\"]=true, this.model[\"index\"](val)) : undefined})"
             ]
            },
            "id": "817315128134509897",
            "imports": {
             "data": [
              {
               "name": "knockout",
               "type": "js",
               "url": "/assetserver/4e15ea8f38f5d33bf0b2930cb09c8089f78b114e-knockout.js"
              },
              {
               "name": "knockout_punches",
               "type": "js",
               "url": "/assetserver/6967e46b2259ea2e5c469b61c410326b52955db7-knockout_punches.js"
              },
              {
               "name": null,
               "type": "js",
               "url": "/assetserver/a643ec32b5fd67f0647ab1f378e6bc75a94bf7ef-all.js"
              },
              {
               "name": null,
               "type": "css",
               "url": "/assetserver/c4a428321098a6b37c6165665184ef1be8f91e08-style.css"
              },
              {
               "name": null,
               "type": "css",
               "url": "/assetserver/62690f06d5dfb4c711812ef88e307907ed9b059b-bulma_confined.min.css"
              }
             ],
             "type": "async_block"
            },
            "mount_callbacks": [
             "function () {\n    var handler = (function (ko, koPunches) {\n    ko.punches.enableAll();\n    ko.bindingHandlers.numericValue = {\n        init: function(element, valueAccessor, allBindings, data, context) {\n            var stringified = ko.observable(ko.unwrap(valueAccessor()));\n            stringified.subscribe(function(value) {\n                var val = parseFloat(value);\n                if (!isNaN(val)) {\n                    valueAccessor()(val);\n                }\n            });\n            valueAccessor().subscribe(function(value) {\n                var str = JSON.stringify(value);\n                if ((str == \"0\") && ([\"-0\", \"-0.\"].indexOf(stringified()) >= 0))\n                     return;\n                 if ([\"null\", \"\"].indexOf(str) >= 0)\n                     return;\n                stringified(str);\n            });\n            ko.applyBindingsToNode(\n                element,\n                {\n                    value: stringified,\n                    valueUpdate: allBindings.get('valueUpdate'),\n                },\n                context,\n            );\n        }\n    };\n    var json_data = {\"formatted_vals\":[\"1\",\"2\",\"3\",\"4\",\"5\",\"6\",\"7\",\"8\",\"9\",\"10\",\"11\",\"12\",\"13\",\"14\",\"15\",\"16\",\"17\",\"18\",\"19\",\"20\",\"21\",\"22\",\"23\",\"24\",\"25\",\"26\",\"27\",\"28\",\"29\",\"30\",\"31\",\"32\",\"33\",\"34\",\"35\",\"36\",\"37\",\"38\",\"39\",\"40\",\"41\",\"42\",\"43\",\"44\",\"45\",\"46\",\"47\",\"48\",\"49\",\"50\",\"51\",\"52\",\"53\",\"54\",\"55\",\"56\",\"57\",\"58\",\"59\",\"60\",\"61\",\"62\",\"63\",\"64\",\"65\",\"66\",\"67\",\"68\",\"69\",\"70\",\"71\",\"72\",\"73\",\"74\",\"75\",\"76\",\"77\",\"78\",\"79\",\"80\",\"81\",\"82\",\"83\",\"84\",\"85\",\"86\",\"87\",\"88\",\"89\",\"90\",\"91\",\"92\",\"93\",\"94\",\"95\",\"96\",\"97\",\"98\",\"99\",\"100\"],\"changes\":WebIO.getval({\"name\":\"changes\",\"scope\":\"817315128134509897\",\"id\":\"1242849836371122333\",\"type\":\"observable\"}),\"index\":WebIO.getval({\"name\":\"index\",\"scope\":\"817315128134509897\",\"id\":\"5689825914062061169\",\"type\":\"observable\"})};\n    var self = this;\n    function AppViewModel() {\n        for (var key in json_data) {\n            var el = json_data[key];\n            this[key] = Array.isArray(el) ? ko.observableArray(el) : ko.observable(el);\n        }\n        \n        [this[\"formatted_val\"]=ko.computed(    function(){\n        return this.formatted_vals()[parseInt(this.index())-(1)];\n    }\n,this)]\n        [this[\"changes\"].subscribe((function (val){!(this.valueFromJulia[\"changes\"]) ? (WebIO.setval({\"name\":\"changes\",\"scope\":\"817315128134509897\",\"id\":\"1242849836371122333\",\"type\":\"observable\"},val)) : undefined; return this.valueFromJulia[\"changes\"]=false}),self),this[\"index\"].subscribe((function (val){!(this.valueFromJulia[\"index\"]) ? (WebIO.setval({\"name\":\"index\",\"scope\":\"817315128134509897\",\"id\":\"5689825914062061169\",\"type\":\"observable\"},val)) : undefined; return this.valueFromJulia[\"index\"]=false}),self)]\n        \n    }\n    self.model = new AppViewModel();\n    self.valueFromJulia = {};\n    for (var key in json_data) {\n        self.valueFromJulia[key] = false;\n    }\n    ko.applyBindings(self.model, self.dom);\n}\n);\n    (WebIO.importBlock({\"data\":[{\"name\":\"knockout\",\"type\":\"js\",\"url\":\"/assetserver/4e15ea8f38f5d33bf0b2930cb09c8089f78b114e-knockout.js\"},{\"name\":\"knockout_punches\",\"type\":\"js\",\"url\":\"/assetserver/6967e46b2259ea2e5c469b61c410326b52955db7-knockout_punches.js\"}],\"type\":\"async_block\"})).then((imports) => handler.apply(this, imports));\n}\n"
            ],
            "observables": {
             "changes": {
              "id": "1242849836371122333",
              "sync": false,
              "value": 0
             },
             "index": {
              "id": "5689825914062061169",
              "sync": true,
              "value": 50
             }
            },
            "systemjs_options": null
           },
           "nodeType": "Scope",
           "props": {},
           "type": "node"
          }
         ],
         "instanceArgs": {
          "namespace": "html",
          "tag": "div"
         },
         "nodeType": "DOM",
         "props": {
          "className": "field interact-widget"
         },
         "type": "node"
        },
        {
         "children": [
          {
           "children": [],
           "instanceArgs": {
            "id": "7915036589278155652",
            "name": "obs-node"
           },
           "nodeType": "ObservableNode",
           "props": {},
           "type": "node"
          }
         ],
         "instanceArgs": {
          "handlers": {},
          "id": "10524807000948410453",
          "imports": {
           "data": [],
           "type": "async_block"
          },
          "mount_callbacks": [],
          "observables": {
           "obs-node": {
            "id": "7915036589278155652",
            "sync": false,
            "value": {
             "children": [
              {
               "children": [],
               "instanceArgs": {
                "namespace": "html",
                "tag": "div"
               },
               "nodeType": "DOM",
               "props": {
                "setInnerHtml": "<?xml version=\"1.0\" encoding=\"utf-8\"?>\n<svg xmlns=\"http://www.w3.org/2000/svg\" xmlns:xlink=\"http://www.w3.org/1999/xlink\" width=\"600\" height=\"400\" viewBox=\"0 0 2400 1600\">\n<defs>\n  <clipPath id=\"clip680\">\n    <rect x=\"0\" y=\"0\" width=\"2400\" height=\"1600\"/>\n  </clipPath>\n</defs>\n<path clip-path=\"url(#clip680)\" d=\"\nM0 1600 L2400 1600 L2400 0 L0 0  Z\n  \" fill=\"#ffffff\" fill-rule=\"evenodd\" fill-opacity=\"1\"/>\n<defs>\n  <clipPath id=\"clip681\">\n    <rect x=\"480\" y=\"0\" width=\"1681\" height=\"1600\"/>\n  </clipPath>\n</defs>\n<path clip-path=\"url(#clip680)\" d=\"\nM148.334 1486.45 L2352.76 1486.45 L2352.76 47.2441 L148.334 47.2441  Z\n  \" fill=\"#ffffff\" fill-rule=\"evenodd\" fill-opacity=\"1\"/>\n<defs>\n  <clipPath id=\"clip682\">\n    <rect x=\"148\" y=\"47\" width=\"2205\" height=\"1440\"/>\n  </clipPath>\n</defs>\n<polyline clip-path=\"url(#clip682)\" style=\"stroke:#000000; stroke-width:2; stroke-opacity:0.1; fill:none\" points=\"\n  148.334,1486.45 148.334,47.2441 \n  \"/>\n<polyline clip-path=\"url(#clip682)\" style=\"stroke:#000000; stroke-width:2; stroke-opacity:0.1; fill:none\" points=\"\n  589.219,1486.45 589.219,47.2441 \n  \"/>\n<polyline clip-path=\"url(#clip682)\" style=\"stroke:#000000; stroke-width:2; stroke-opacity:0.1; fill:none\" points=\"\n  1030.1,1486.45 1030.1,47.2441 \n  \"/>\n<polyline clip-path=\"url(#clip682)\" style=\"stroke:#000000; stroke-width:2; stroke-opacity:0.1; fill:none\" points=\"\n  1470.99,1486.45 1470.99,47.2441 \n  \"/>\n<polyline clip-path=\"url(#clip682)\" style=\"stroke:#000000; stroke-width:2; stroke-opacity:0.1; fill:none\" points=\"\n  1911.87,1486.45 1911.87,47.2441 \n  \"/>\n<polyline clip-path=\"url(#clip682)\" style=\"stroke:#000000; stroke-width:2; stroke-opacity:0.1; fill:none\" points=\"\n  2352.76,1486.45 2352.76,47.2441 \n  \"/>\n<polyline clip-path=\"url(#clip680)\" style=\"stroke:#000000; stroke-width:4; stroke-opacity:1; fill:none\" points=\"\n  148.334,1486.45 2352.76,1486.45 \n  \"/>\n<polyline clip-path=\"url(#clip680)\" style=\"stroke:#000000; stroke-width:4; stroke-opacity:1; fill:none\" points=\"\n  148.334,1486.45 148.334,1469.18 \n  \"/>\n<polyline clip-path=\"url(#clip680)\" style=\"stroke:#000000; stroke-width:4; stroke-opacity:1; fill:none\" points=\"\n  589.219,1486.45 589.219,1469.18 \n  \"/>\n<polyline clip-path=\"url(#clip680)\" style=\"stroke:#000000; stroke-width:4; stroke-opacity:1; fill:none\" points=\"\n  1030.1,1486.45 1030.1,1469.18 \n  \"/>\n<polyline clip-path=\"url(#clip680)\" style=\"stroke:#000000; stroke-width:4; stroke-opacity:1; fill:none\" points=\"\n  1470.99,1486.45 1470.99,1469.18 \n  \"/>\n<polyline clip-path=\"url(#clip680)\" style=\"stroke:#000000; stroke-width:4; stroke-opacity:1; fill:none\" points=\"\n  1911.87,1486.45 1911.87,1469.18 \n  \"/>\n<polyline clip-path=\"url(#clip680)\" style=\"stroke:#000000; stroke-width:4; stroke-opacity:1; fill:none\" points=\"\n  2352.76,1486.45 2352.76,1469.18 \n  \"/>\n<path clip-path=\"url(#clip680)\" d=\"M 0 0 M129.851 1515.64 Q126.24 1515.64 124.411 1519.2 Q122.605 1522.75 122.605 1529.87 Q122.605 1536.98 124.411 1540.55 Q126.24 1544.09 129.851 1544.09 Q133.485 1544.09 135.29 1540.55 Q137.119 1536.98 137.119 1529.87 Q137.119 1522.75 135.29 1519.2 Q133.485 1515.64 129.851 1515.64 M129.851 1511.93 Q135.661 1511.93 138.716 1516.54 Q141.795 1521.12 141.795 1529.87 Q141.795 1538.6 138.716 1543.21 Q135.661 1547.79 129.851 1547.79 Q124.041 1547.79 120.962 1543.21 Q117.906 1538.6 117.906 1529.87 Q117.906 1521.12 120.962 1516.54 Q124.041 1511.93 129.851 1511.93 Z\" fill=\"#000000\" fill-rule=\"evenodd\" fill-opacity=\"1\" /><path clip-path=\"url(#clip680)\" d=\"M 0 0 M146.864 1541.24 L151.749 1541.24 L151.749 1547.12 L146.864 1547.12 L146.864 1541.24 Z\" fill=\"#000000\" fill-rule=\"evenodd\" fill-opacity=\"1\" /><path clip-path=\"url(#clip680)\" d=\"M 0 0 M166.818 1515.64 Q163.207 1515.64 161.378 1519.2 Q159.573 1522.75 159.573 1529.87 Q159.573 1536.98 161.378 1540.55 Q163.207 1544.09 166.818 1544.09 Q170.452 1544.09 172.258 1540.55 Q174.087 1536.98 174.087 1529.87 Q174.087 1522.75 172.258 1519.2 Q170.452 1515.64 166.818 1515.64 M166.818 1511.93 Q172.628 1511.93 175.684 1516.54 Q178.762 1521.12 178.762 1529.87 Q178.762 1538.6 175.684 1543.21 Q172.628 1547.79 166.818 1547.79 Q161.008 1547.79 157.929 1543.21 Q154.874 1538.6 154.874 1529.87 Q154.874 1521.12 157.929 1516.54 Q161.008 1511.93 166.818 1511.93 Z\" fill=\"#000000\" fill-rule=\"evenodd\" fill-opacity=\"1\" /><path clip-path=\"url(#clip680)\" d=\"M 0 0 M571.534 1515.64 Q567.923 1515.64 566.094 1519.2 Q564.288 1522.75 564.288 1529.87 Q564.288 1536.98 566.094 1540.55 Q567.923 1544.09 571.534 1544.09 Q575.168 1544.09 576.973 1540.55 Q578.802 1536.98 578.802 1529.87 Q578.802 1522.75 576.973 1519.2 Q575.168 1515.64 571.534 1515.64 M571.534 1511.93 Q577.344 1511.93 580.399 1516.54 Q583.478 1521.12 583.478 1529.87 Q583.478 1538.6 580.399 1543.21 Q577.344 1547.79 571.534 1547.79 Q565.723 1547.79 562.645 1543.21 Q559.589 1538.6 559.589 1529.87 Q559.589 1521.12 562.645 1516.54 Q565.723 1511.93 571.534 1511.93 Z\" fill=\"#000000\" fill-rule=\"evenodd\" fill-opacity=\"1\" /><path clip-path=\"url(#clip680)\" d=\"M 0 0 M588.547 1541.24 L593.432 1541.24 L593.432 1547.12 L588.547 1547.12 L588.547 1541.24 Z\" fill=\"#000000\" fill-rule=\"evenodd\" fill-opacity=\"1\" /><path clip-path=\"url(#clip680)\" d=\"M 0 0 M602.529 1543.18 L618.848 1543.18 L618.848 1547.12 L596.904 1547.12 L596.904 1543.18 Q599.566 1540.43 604.149 1535.8 Q608.756 1531.15 609.936 1529.81 Q612.182 1527.28 613.061 1525.55 Q613.964 1523.79 613.964 1522.1 Q613.964 1519.34 612.019 1517.61 Q610.098 1515.87 606.996 1515.87 Q604.797 1515.87 602.344 1516.63 Q599.913 1517.4 597.135 1518.95 L597.135 1514.23 Q599.959 1513.09 602.413 1512.51 Q604.867 1511.93 606.904 1511.93 Q612.274 1511.93 615.469 1514.62 Q618.663 1517.31 618.663 1521.8 Q618.663 1523.93 617.853 1525.85 Q617.066 1527.74 614.959 1530.34 Q614.381 1531.01 611.279 1534.23 Q608.177 1537.42 602.529 1543.18 Z\" fill=\"#000000\" fill-rule=\"evenodd\" fill-opacity=\"1\" /><path clip-path=\"url(#clip680)\" d=\"M 0 0 M1011.38 1515.64 Q1007.77 1515.64 1005.94 1519.2 Q1004.13 1522.75 1004.13 1529.87 Q1004.13 1536.98 1005.94 1540.55 Q1007.77 1544.09 1011.38 1544.09 Q1015.01 1544.09 1016.82 1540.55 Q1018.64 1536.98 1018.64 1529.87 Q1018.64 1522.75 1016.82 1519.2 Q1015.01 1515.64 1011.38 1515.64 M1011.38 1511.93 Q1017.19 1511.93 1020.24 1516.54 Q1023.32 1521.12 1023.32 1529.87 Q1023.32 1538.6 1020.24 1543.21 Q1017.19 1547.79 1011.38 1547.79 Q1005.57 1547.79 1002.49 1543.21 Q999.432 1538.6 999.432 1529.87 Q999.432 1521.12 1002.49 1516.54 Q1005.57 1511.93 1011.38 1511.93 Z\" fill=\"#000000\" fill-rule=\"evenodd\" fill-opacity=\"1\" /><path clip-path=\"url(#clip680)\" d=\"M 0 0 M1028.39 1541.24 L1033.27 1541.24 L1033.27 1547.12 L1028.39 1547.12 L1028.39 1541.24 Z\" fill=\"#000000\" fill-rule=\"evenodd\" fill-opacity=\"1\" /><path clip-path=\"url(#clip680)\" d=\"M 0 0 M1051.19 1516.63 L1039.39 1535.08 L1051.19 1535.08 L1051.19 1516.63 M1049.96 1512.56 L1055.84 1512.56 L1055.84 1535.08 L1060.77 1535.08 L1060.77 1538.97 L1055.84 1538.97 L1055.84 1547.12 L1051.19 1547.12 L1051.19 1538.97 L1035.59 1538.97 L1035.59 1534.46 L1049.96 1512.56 Z\" fill=\"#000000\" fill-rule=\"evenodd\" fill-opacity=\"1\" /><path clip-path=\"url(#clip680)\" d=\"M 0 0 M1452.42 1515.64 Q1448.81 1515.64 1446.98 1519.2 Q1445.18 1522.75 1445.18 1529.87 Q1445.18 1536.98 1446.98 1540.55 Q1448.81 1544.09 1452.42 1544.09 Q1456.06 1544.09 1457.86 1540.55 Q1459.69 1536.98 1459.69 1529.87 Q1459.69 1522.75 1457.86 1519.2 Q1456.06 1515.64 1452.42 1515.64 M1452.42 1511.93 Q1458.23 1511.93 1461.29 1516.54 Q1464.37 1521.12 1464.37 1529.87 Q1464.37 1538.6 1461.29 1543.21 Q1458.23 1547.79 1452.42 1547.79 Q1446.61 1547.79 1443.53 1543.21 Q1440.48 1538.6 1440.48 1529.87 Q1440.48 1521.12 1443.53 1516.54 Q1446.61 1511.93 1452.42 1511.93 Z\" fill=\"#000000\" fill-rule=\"evenodd\" fill-opacity=\"1\" /><path clip-path=\"url(#clip680)\" d=\"M 0 0 M1469.44 1541.24 L1474.32 1541.24 L1474.32 1547.12 L1469.44 1547.12 L1469.44 1541.24 Z\" fill=\"#000000\" fill-rule=\"evenodd\" fill-opacity=\"1\" /><path clip-path=\"url(#clip680)\" d=\"M 0 0 M1489.97 1527.98 Q1486.82 1527.98 1484.97 1530.13 Q1483.14 1532.28 1483.14 1536.03 Q1483.14 1539.76 1484.97 1541.93 Q1486.82 1544.09 1489.97 1544.09 Q1493.12 1544.09 1494.95 1541.93 Q1496.8 1539.76 1496.8 1536.03 Q1496.8 1532.28 1494.95 1530.13 Q1493.12 1527.98 1489.97 1527.98 M1499.25 1513.32 L1499.25 1517.58 Q1497.49 1516.75 1495.69 1516.31 Q1493.9 1515.87 1492.14 1515.87 Q1487.51 1515.87 1485.06 1519 Q1482.63 1522.12 1482.28 1528.44 Q1483.65 1526.43 1485.71 1525.36 Q1487.77 1524.27 1490.25 1524.27 Q1495.45 1524.27 1498.46 1527.44 Q1501.5 1530.59 1501.5 1536.03 Q1501.5 1541.36 1498.35 1544.57 Q1495.2 1547.79 1489.97 1547.79 Q1483.97 1547.79 1480.8 1543.21 Q1477.63 1538.6 1477.63 1529.87 Q1477.63 1521.68 1481.52 1516.82 Q1485.41 1511.93 1491.96 1511.93 Q1493.72 1511.93 1495.5 1512.28 Q1497.31 1512.63 1499.25 1513.32 Z\" fill=\"#000000\" fill-rule=\"evenodd\" fill-opacity=\"1\" /><path clip-path=\"url(#clip680)\" d=\"M 0 0 M1893.43 1515.64 Q1889.82 1515.64 1887.99 1519.2 Q1886.19 1522.75 1886.19 1529.87 Q1886.19 1536.98 1887.99 1540.55 Q1889.82 1544.09 1893.43 1544.09 Q1897.07 1544.09 1898.87 1540.55 Q1900.7 1536.98 1900.7 1529.87 Q1900.7 1522.75 1898.87 1519.2 Q1897.07 1515.64 1893.43 1515.64 M1893.43 1511.93 Q1899.24 1511.93 1902.3 1516.54 Q1905.38 1521.12 1905.38 1529.87 Q1905.38 1538.6 1902.3 1543.21 Q1899.24 1547.79 1893.43 1547.79 Q1887.62 1547.79 1884.55 1543.21 Q1881.49 1538.6 1881.49 1529.87 Q1881.49 1521.12 1884.55 1516.54 Q1887.62 1511.93 1893.43 1511.93 Z\" fill=\"#000000\" fill-rule=\"evenodd\" fill-opacity=\"1\" /><path clip-path=\"url(#clip680)\" d=\"M 0 0 M1910.45 1541.24 L1915.33 1541.24 L1915.33 1547.12 L1910.45 1547.12 L1910.45 1541.24 Z\" fill=\"#000000\" fill-rule=\"evenodd\" fill-opacity=\"1\" /><path clip-path=\"url(#clip680)\" d=\"M 0 0 M1930.4 1530.71 Q1927.07 1530.71 1925.15 1532.49 Q1923.25 1534.27 1923.25 1537.4 Q1923.25 1540.52 1925.15 1542.31 Q1927.07 1544.09 1930.4 1544.09 Q1933.73 1544.09 1935.66 1542.31 Q1937.58 1540.5 1937.58 1537.4 Q1937.58 1534.27 1935.66 1532.49 Q1933.76 1530.71 1930.4 1530.71 M1925.73 1528.72 Q1922.72 1527.98 1921.03 1525.92 Q1919.36 1523.86 1919.36 1520.89 Q1919.36 1516.75 1922.3 1514.34 Q1925.26 1511.93 1930.4 1511.93 Q1935.56 1511.93 1938.5 1514.34 Q1941.44 1516.75 1941.44 1520.89 Q1941.44 1523.86 1939.75 1525.92 Q1938.09 1527.98 1935.1 1528.72 Q1938.48 1529.5 1940.36 1531.8 Q1942.25 1534.09 1942.25 1537.4 Q1942.25 1542.42 1939.17 1545.11 Q1936.12 1547.79 1930.4 1547.79 Q1924.68 1547.79 1921.61 1545.11 Q1918.55 1542.42 1918.55 1537.4 Q1918.55 1534.09 1920.45 1531.8 Q1922.35 1529.5 1925.73 1528.72 M1924.01 1521.33 Q1924.01 1524.02 1925.68 1525.52 Q1927.37 1527.03 1930.4 1527.03 Q1933.41 1527.03 1935.1 1525.52 Q1936.81 1524.02 1936.81 1521.33 Q1936.81 1518.65 1935.1 1517.14 Q1933.41 1515.64 1930.4 1515.64 Q1927.37 1515.64 1925.68 1517.14 Q1924.01 1518.65 1924.01 1521.33 Z\" fill=\"#000000\" fill-rule=\"evenodd\" fill-opacity=\"1\" /><path clip-path=\"url(#clip680)\" d=\"M 0 0 M2324.65 1543.18 L2332.29 1543.18 L2332.29 1516.82 L2323.98 1518.49 L2323.98 1514.23 L2332.25 1512.56 L2336.92 1512.56 L2336.92 1543.18 L2344.56 1543.18 L2344.56 1547.12 L2324.65 1547.12 L2324.65 1543.18 Z\" fill=\"#000000\" fill-rule=\"evenodd\" fill-opacity=\"1\" /><path clip-path=\"url(#clip680)\" d=\"M 0 0 M2349.63 1541.24 L2354.52 1541.24 L2354.52 1547.12 L2349.63 1547.12 L2349.63 1541.24 Z\" fill=\"#000000\" fill-rule=\"evenodd\" fill-opacity=\"1\" /><path clip-path=\"url(#clip680)\" d=\"M 0 0 M2369.58 1515.64 Q2365.97 1515.64 2364.14 1519.2 Q2362.34 1522.75 2362.34 1529.87 Q2362.34 1536.98 2364.14 1540.55 Q2365.97 1544.09 2369.58 1544.09 Q2373.22 1544.09 2375.02 1540.55 Q2376.85 1536.98 2376.85 1529.87 Q2376.85 1522.75 2375.02 1519.2 Q2373.22 1515.64 2369.58 1515.64 M2369.58 1511.93 Q2375.39 1511.93 2378.45 1516.54 Q2381.53 1521.12 2381.53 1529.87 Q2381.53 1538.6 2378.45 1543.21 Q2375.39 1547.79 2369.58 1547.79 Q2363.77 1547.79 2360.7 1543.21 Q2357.64 1538.6 2357.64 1529.87 Q2357.64 1521.12 2360.7 1516.54 Q2363.77 1511.93 2369.58 1511.93 Z\" fill=\"#000000\" fill-rule=\"evenodd\" fill-opacity=\"1\" /><polyline clip-path=\"url(#clip682)\" style=\"stroke:#000000; stroke-width:2; stroke-opacity:0.1; fill:none\" points=\"\n  148.334,1486.45 2352.76,1486.45 \n  \"/>\n<polyline clip-path=\"url(#clip682)\" style=\"stroke:#000000; stroke-width:2; stroke-opacity:0.1; fill:none\" points=\"\n  148.334,1198.61 2352.76,1198.61 \n  \"/>\n<polyline clip-path=\"url(#clip682)\" style=\"stroke:#000000; stroke-width:2; stroke-opacity:0.1; fill:none\" points=\"\n  148.334,910.766 2352.76,910.766 \n  \"/>\n<polyline clip-path=\"url(#clip682)\" style=\"stroke:#000000; stroke-width:2; stroke-opacity:0.1; fill:none\" points=\"\n  148.334,622.926 2352.76,622.926 \n  \"/>\n<polyline clip-path=\"url(#clip682)\" style=\"stroke:#000000; stroke-width:2; stroke-opacity:0.1; fill:none\" points=\"\n  148.334,335.085 2352.76,335.085 \n  \"/>\n<polyline clip-path=\"url(#clip682)\" style=\"stroke:#000000; stroke-width:2; stroke-opacity:0.1; fill:none\" points=\"\n  148.334,47.2441 2352.76,47.2441 \n  \"/>\n<polyline clip-path=\"url(#clip680)\" style=\"stroke:#000000; stroke-width:4; stroke-opacity:1; fill:none\" points=\"\n  148.334,1486.45 148.334,47.2441 \n  \"/>\n<polyline clip-path=\"url(#clip680)\" style=\"stroke:#000000; stroke-width:4; stroke-opacity:1; fill:none\" points=\"\n  148.334,1486.45 174.787,1486.45 \n  \"/>\n<polyline clip-path=\"url(#clip680)\" style=\"stroke:#000000; stroke-width:4; stroke-opacity:1; fill:none\" points=\"\n  148.334,1198.61 174.787,1198.61 \n  \"/>\n<polyline clip-path=\"url(#clip680)\" style=\"stroke:#000000; stroke-width:4; stroke-opacity:1; fill:none\" points=\"\n  148.334,910.766 174.787,910.766 \n  \"/>\n<polyline clip-path=\"url(#clip680)\" style=\"stroke:#000000; stroke-width:4; stroke-opacity:1; fill:none\" points=\"\n  148.334,622.926 174.787,622.926 \n  \"/>\n<polyline clip-path=\"url(#clip680)\" style=\"stroke:#000000; stroke-width:4; stroke-opacity:1; fill:none\" points=\"\n  148.334,335.085 174.787,335.085 \n  \"/>\n<polyline clip-path=\"url(#clip680)\" style=\"stroke:#000000; stroke-width:4; stroke-opacity:1; fill:none\" points=\"\n  148.334,47.2441 174.787,47.2441 \n  \"/>\n<path clip-path=\"url(#clip680)\" d=\"M 0 0 M63.4226 1472.25 Q59.8115 1472.25 57.9828 1475.81 Q56.1773 1479.35 56.1773 1486.48 Q56.1773 1493.59 57.9828 1497.15 Q59.8115 1500.7 63.4226 1500.7 Q67.0569 1500.7 68.8624 1497.15 Q70.6911 1493.59 70.6911 1486.48 Q70.6911 1479.35 68.8624 1475.81 Q67.0569 1472.25 63.4226 1472.25 M63.4226 1468.54 Q69.2328 1468.54 72.2883 1473.15 Q75.367 1477.73 75.367 1486.48 Q75.367 1495.21 72.2883 1499.82 Q69.2328 1504.4 63.4226 1504.4 Q57.6125 1504.4 54.5338 1499.82 Q51.4782 1495.21 51.4782 1486.48 Q51.4782 1477.73 54.5338 1473.15 Q57.6125 1468.54 63.4226 1468.54 Z\" fill=\"#000000\" fill-rule=\"evenodd\" fill-opacity=\"1\" /><path clip-path=\"url(#clip680)\" d=\"M 0 0 M80.4364 1497.85 L85.3206 1497.85 L85.3206 1503.73 L80.4364 1503.73 L80.4364 1497.85 Z\" fill=\"#000000\" fill-rule=\"evenodd\" fill-opacity=\"1\" /><path clip-path=\"url(#clip680)\" d=\"M 0 0 M100.39 1472.25 Q96.7789 1472.25 94.9502 1475.81 Q93.1447 1479.35 93.1447 1486.48 Q93.1447 1493.59 94.9502 1497.15 Q96.7789 1500.7 100.39 1500.7 Q104.024 1500.7 105.83 1497.15 Q107.658 1493.59 107.658 1486.48 Q107.658 1479.35 105.83 1475.81 Q104.024 1472.25 100.39 1472.25 M100.39 1468.54 Q106.2 1468.54 109.256 1473.15 Q112.334 1477.73 112.334 1486.48 Q112.334 1495.21 109.256 1499.82 Q106.2 1504.4 100.39 1504.4 Q94.5799 1504.4 91.5012 1499.82 Q88.4456 1495.21 88.4456 1486.48 Q88.4456 1477.73 91.5012 1473.15 Q94.5799 1468.54 100.39 1468.54 Z\" fill=\"#000000\" fill-rule=\"evenodd\" fill-opacity=\"1\" /><path clip-path=\"url(#clip680)\" d=\"M 0 0 M65.0198 1184.41 Q61.4087 1184.41 59.58 1187.97 Q57.7745 1191.51 57.7745 1198.64 Q57.7745 1205.75 59.58 1209.31 Q61.4087 1212.85 65.0198 1212.85 Q68.6541 1212.85 70.4596 1209.31 Q72.2883 1205.75 72.2883 1198.64 Q72.2883 1191.51 70.4596 1187.97 Q68.6541 1184.41 65.0198 1184.41 M65.0198 1180.7 Q70.83 1180.7 73.8855 1185.31 Q76.9642 1189.89 76.9642 1198.64 Q76.9642 1207.37 73.8855 1211.98 Q70.83 1216.56 65.0198 1216.56 Q59.2097 1216.56 56.131 1211.98 Q53.0754 1207.37 53.0754 1198.64 Q53.0754 1189.89 56.131 1185.31 Q59.2097 1180.7 65.0198 1180.7 Z\" fill=\"#000000\" fill-rule=\"evenodd\" fill-opacity=\"1\" /><path clip-path=\"url(#clip680)\" d=\"M 0 0 M82.0336 1210.01 L86.9179 1210.01 L86.9179 1215.89 L82.0336 1215.89 L82.0336 1210.01 Z\" fill=\"#000000\" fill-rule=\"evenodd\" fill-opacity=\"1\" /><path clip-path=\"url(#clip680)\" d=\"M 0 0 M96.015 1211.95 L112.334 1211.95 L112.334 1215.89 L90.3901 1215.89 L90.3901 1211.95 Q93.0521 1209.2 97.6354 1204.57 Q102.242 1199.91 103.422 1198.57 Q105.668 1196.05 106.547 1194.31 Q107.45 1192.55 107.45 1190.86 Q107.45 1188.11 105.506 1186.37 Q103.584 1184.64 100.483 1184.64 Q98.2835 1184.64 95.8298 1185.4 Q93.3993 1186.17 90.6215 1187.72 L90.6215 1182.99 Q93.4456 1181.86 95.8993 1181.28 Q98.353 1180.7 100.39 1180.7 Q105.76 1180.7 108.955 1183.39 Q112.149 1186.07 112.149 1190.56 Q112.149 1192.69 111.339 1194.61 Q110.552 1196.51 108.446 1199.1 Q107.867 1199.78 104.765 1202.99 Q101.663 1206.19 96.015 1211.95 Z\" fill=\"#000000\" fill-rule=\"evenodd\" fill-opacity=\"1\" /><path clip-path=\"url(#clip680)\" d=\"M 0 0 M62.9365 896.565 Q59.3254 896.565 57.4967 900.13 Q55.6912 903.671 55.6912 910.801 Q55.6912 917.908 57.4967 921.472 Q59.3254 925.014 62.9365 925.014 Q66.5707 925.014 68.3763 921.472 Q70.205 917.908 70.205 910.801 Q70.205 903.671 68.3763 900.13 Q66.5707 896.565 62.9365 896.565 M62.9365 892.861 Q68.7467 892.861 71.8022 897.468 Q74.8809 902.051 74.8809 910.801 Q74.8809 919.528 71.8022 924.134 Q68.7467 928.718 62.9365 928.718 Q57.1264 928.718 54.0477 924.134 Q50.9921 919.528 50.9921 910.801 Q50.9921 902.051 54.0477 897.468 Q57.1264 892.861 62.9365 892.861 Z\" fill=\"#000000\" fill-rule=\"evenodd\" fill-opacity=\"1\" /><path clip-path=\"url(#clip680)\" d=\"M 0 0 M79.9503 922.167 L84.8345 922.167 L84.8345 928.046 L79.9503 928.046 L79.9503 922.167 Z\" fill=\"#000000\" fill-rule=\"evenodd\" fill-opacity=\"1\" /><path clip-path=\"url(#clip680)\" d=\"M 0 0 M102.751 897.56 L90.9456 916.009 L102.751 916.009 L102.751 897.56 M101.524 893.486 L107.404 893.486 L107.404 916.009 L112.334 916.009 L112.334 919.898 L107.404 919.898 L107.404 928.046 L102.751 928.046 L102.751 919.898 L87.1493 919.898 L87.1493 915.384 L101.524 893.486 Z\" fill=\"#000000\" fill-rule=\"evenodd\" fill-opacity=\"1\" /><path clip-path=\"url(#clip680)\" d=\"M 0 0 M63.2606 608.724 Q59.6495 608.724 57.8208 612.289 Q56.0152 615.831 56.0152 622.96 Q56.0152 630.067 57.8208 633.632 Q59.6495 637.173 63.2606 637.173 Q66.8948 637.173 68.7004 633.632 Q70.5291 630.067 70.5291 622.96 Q70.5291 615.831 68.7004 612.289 Q66.8948 608.724 63.2606 608.724 M63.2606 605.021 Q69.0707 605.021 72.1263 609.627 Q75.205 614.21 75.205 622.96 Q75.205 631.687 72.1263 636.294 Q69.0707 640.877 63.2606 640.877 Q57.4504 640.877 54.3717 636.294 Q51.3162 631.687 51.3162 622.96 Q51.3162 614.21 54.3717 609.627 Q57.4504 605.021 63.2606 605.021 Z\" fill=\"#000000\" fill-rule=\"evenodd\" fill-opacity=\"1\" /><path clip-path=\"url(#clip680)\" d=\"M 0 0 M80.2744 634.326 L85.1586 634.326 L85.1586 640.206 L80.2744 640.206 L80.2744 634.326 Z\" fill=\"#000000\" fill-rule=\"evenodd\" fill-opacity=\"1\" /><path clip-path=\"url(#clip680)\" d=\"M 0 0 M100.807 621.062 Q97.6585 621.062 95.8067 623.215 Q93.978 625.368 93.978 629.118 Q93.978 632.845 95.8067 635.02 Q97.6585 637.173 100.807 637.173 Q103.955 637.173 105.783 635.02 Q107.635 632.845 107.635 629.118 Q107.635 625.368 105.783 623.215 Q103.955 621.062 100.807 621.062 M110.089 606.409 L110.089 610.669 Q108.33 609.835 106.524 609.396 Q104.742 608.956 102.983 608.956 Q98.353 608.956 95.8993 612.081 Q93.4688 615.206 93.1215 621.525 Q94.4873 619.511 96.5474 618.446 Q98.6076 617.359 101.084 617.359 Q106.293 617.359 109.302 620.53 Q112.334 623.678 112.334 629.118 Q112.334 634.442 109.186 637.659 Q106.038 640.877 100.807 640.877 Q94.8113 640.877 91.6401 636.294 Q88.4688 631.687 88.4688 622.96 Q88.4688 614.766 92.3576 609.905 Q96.2465 605.021 102.797 605.021 Q104.557 605.021 106.339 605.368 Q108.145 605.715 110.089 606.409 Z\" fill=\"#000000\" fill-rule=\"evenodd\" fill-opacity=\"1\" /><path clip-path=\"url(#clip680)\" d=\"M 0 0 M63.5152 320.884 Q59.9041 320.884 58.0754 324.448 Q56.2699 327.99 56.2699 335.12 Q56.2699 342.226 58.0754 345.791 Q59.9041 349.332 63.5152 349.332 Q67.1494 349.332 68.955 345.791 Q70.7837 342.226 70.7837 335.12 Q70.7837 327.99 68.955 324.448 Q67.1494 320.884 63.5152 320.884 M63.5152 317.18 Q69.3254 317.18 72.3809 321.786 Q75.4596 326.37 75.4596 335.12 Q75.4596 343.846 72.3809 348.453 Q69.3254 353.036 63.5152 353.036 Q57.7051 353.036 54.6264 348.453 Q51.5708 343.846 51.5708 335.12 Q51.5708 326.37 54.6264 321.786 Q57.7051 317.18 63.5152 317.18 Z\" fill=\"#000000\" fill-rule=\"evenodd\" fill-opacity=\"1\" /><path clip-path=\"url(#clip680)\" d=\"M 0 0 M80.529 346.485 L85.4132 346.485 L85.4132 352.365 L80.529 352.365 L80.529 346.485 Z\" fill=\"#000000\" fill-rule=\"evenodd\" fill-opacity=\"1\" /><path clip-path=\"url(#clip680)\" d=\"M 0 0 M100.483 335.953 Q97.1493 335.953 95.228 337.735 Q93.3299 339.518 93.3299 342.643 Q93.3299 345.768 95.228 347.55 Q97.1493 349.332 100.483 349.332 Q103.816 349.332 105.737 347.55 Q107.658 345.745 107.658 342.643 Q107.658 339.518 105.737 337.735 Q103.839 335.953 100.483 335.953 M95.8067 333.962 Q92.7975 333.221 91.1077 331.161 Q89.441 329.101 89.441 326.138 Q89.441 321.995 92.3808 319.587 Q95.3437 317.18 100.483 317.18 Q105.645 317.18 108.584 319.587 Q111.524 321.995 111.524 326.138 Q111.524 329.101 109.834 331.161 Q108.168 333.221 105.182 333.962 Q108.561 334.749 110.436 337.041 Q112.334 339.333 112.334 342.643 Q112.334 347.666 109.256 350.351 Q106.2 353.036 100.483 353.036 Q94.765 353.036 91.6864 350.351 Q88.6308 347.666 88.6308 342.643 Q88.6308 339.333 90.529 337.041 Q92.4271 334.749 95.8067 333.962 M94.0937 326.578 Q94.0937 329.263 95.7604 330.768 Q97.4502 332.272 100.483 332.272 Q103.492 332.272 105.182 330.768 Q106.895 329.263 106.895 326.578 Q106.895 323.893 105.182 322.388 Q103.492 320.884 100.483 320.884 Q97.4502 320.884 95.7604 322.388 Q94.0937 323.893 94.0937 326.578 Z\" fill=\"#000000\" fill-rule=\"evenodd\" fill-opacity=\"1\" /><path clip-path=\"url(#clip680)\" d=\"M 0 0 M55.4597 60.5889 L63.0985 60.5889 L63.0985 34.2233 L54.7884 35.89 L54.7884 31.6308 L63.0522 29.9641 L67.7281 29.9641 L67.7281 60.5889 L75.367 60.5889 L75.367 64.5241 L55.4597 64.5241 L55.4597 60.5889 Z\" fill=\"#000000\" fill-rule=\"evenodd\" fill-opacity=\"1\" /><path clip-path=\"url(#clip680)\" d=\"M 0 0 M80.4364 58.6445 L85.3206 58.6445 L85.3206 64.5241 L80.4364 64.5241 L80.4364 58.6445 Z\" fill=\"#000000\" fill-rule=\"evenodd\" fill-opacity=\"1\" /><path clip-path=\"url(#clip680)\" d=\"M 0 0 M100.39 33.0428 Q96.7789 33.0428 94.9502 36.6076 Q93.1447 40.1492 93.1447 47.2788 Q93.1447 54.3853 94.9502 57.9501 Q96.7789 61.4917 100.39 61.4917 Q104.024 61.4917 105.83 57.9501 Q107.658 54.3853 107.658 47.2788 Q107.658 40.1492 105.83 36.6076 Q104.024 33.0428 100.39 33.0428 M100.39 29.3391 Q106.2 29.3391 109.256 33.9456 Q112.334 38.5289 112.334 47.2788 Q112.334 56.0056 109.256 60.6121 Q106.2 65.1954 100.39 65.1954 Q94.5799 65.1954 91.5012 60.6121 Q88.4456 56.0056 88.4456 47.2788 Q88.4456 38.5289 91.5012 33.9456 Q94.5799 29.3391 100.39 29.3391 Z\" fill=\"#000000\" fill-rule=\"evenodd\" fill-opacity=\"1\" /><circle clip-path=\"url(#clip682)\" cx=\"919.281\" cy=\"766.846\" r=\"14\" fill=\"#009af9\" fill-rule=\"evenodd\" fill-opacity=\"1\" stroke=\"#000000\" stroke-opacity=\"1\" stroke-width=\"3.2\"/>\n<circle clip-path=\"url(#clip682)\" cx=\"1165.28\" cy=\"766.846\" r=\"14\" fill=\"#009af9\" fill-rule=\"evenodd\" fill-opacity=\"1\" stroke=\"#000000\" stroke-opacity=\"1\" stroke-width=\"3.2\"/>\n<circle clip-path=\"url(#clip682)\" cx=\"1018.4\" cy=\"766.846\" r=\"14\" fill=\"#009af9\" fill-rule=\"evenodd\" fill-opacity=\"1\" stroke=\"#000000\" stroke-opacity=\"1\" stroke-width=\"3.2\"/>\n<circle clip-path=\"url(#clip682)\" cx=\"614.654\" cy=\"766.846\" r=\"14\" fill=\"#009af9\" fill-rule=\"evenodd\" fill-opacity=\"1\" stroke=\"#000000\" stroke-opacity=\"1\" stroke-width=\"3.2\"/>\n<circle clip-path=\"url(#clip682)\" cx=\"186.63\" cy=\"766.846\" r=\"14\" fill=\"#009af9\" fill-rule=\"evenodd\" fill-opacity=\"1\" stroke=\"#000000\" stroke-opacity=\"1\" stroke-width=\"3.2\"/>\n<circle clip-path=\"url(#clip682)\" cx=\"875.345\" cy=\"766.846\" r=\"14\" fill=\"#009af9\" fill-rule=\"evenodd\" fill-opacity=\"1\" stroke=\"#000000\" stroke-opacity=\"1\" stroke-width=\"3.2\"/>\n<circle clip-path=\"url(#clip682)\" cx=\"323.106\" cy=\"766.846\" r=\"14\" fill=\"#009af9\" fill-rule=\"evenodd\" fill-opacity=\"1\" stroke=\"#000000\" stroke-opacity=\"1\" stroke-width=\"3.2\"/>\n<circle clip-path=\"url(#clip682)\" cx=\"1523.68\" cy=\"766.846\" r=\"14\" fill=\"#009af9\" fill-rule=\"evenodd\" fill-opacity=\"1\" stroke=\"#000000\" stroke-opacity=\"1\" stroke-width=\"3.2\"/>\n<circle clip-path=\"url(#clip682)\" cx=\"2133.77\" cy=\"766.846\" r=\"14\" fill=\"#009af9\" fill-rule=\"evenodd\" fill-opacity=\"1\" stroke=\"#000000\" stroke-opacity=\"1\" stroke-width=\"3.2\"/>\n<circle clip-path=\"url(#clip682)\" cx=\"1047.17\" cy=\"766.846\" r=\"14\" fill=\"#009af9\" fill-rule=\"evenodd\" fill-opacity=\"1\" stroke=\"#000000\" stroke-opacity=\"1\" stroke-width=\"3.2\"/>\n<circle clip-path=\"url(#clip682)\" cx=\"1970.94\" cy=\"766.846\" r=\"14\" fill=\"#009af9\" fill-rule=\"evenodd\" fill-opacity=\"1\" stroke=\"#000000\" stroke-opacity=\"1\" stroke-width=\"3.2\"/>\n<circle clip-path=\"url(#clip682)\" cx=\"1245.49\" cy=\"766.846\" r=\"14\" fill=\"#009af9\" fill-rule=\"evenodd\" fill-opacity=\"1\" stroke=\"#000000\" stroke-opacity=\"1\" stroke-width=\"3.2\"/>\n<circle clip-path=\"url(#clip682)\" cx=\"1561.25\" cy=\"766.846\" r=\"14\" fill=\"#009af9\" fill-rule=\"evenodd\" fill-opacity=\"1\" stroke=\"#000000\" stroke-opacity=\"1\" stroke-width=\"3.2\"/>\n<circle clip-path=\"url(#clip682)\" cx=\"1424.52\" cy=\"766.846\" r=\"14\" fill=\"#009af9\" fill-rule=\"evenodd\" fill-opacity=\"1\" stroke=\"#000000\" stroke-opacity=\"1\" stroke-width=\"3.2\"/>\n<circle clip-path=\"url(#clip682)\" cx=\"1423.3\" cy=\"766.846\" r=\"14\" fill=\"#009af9\" fill-rule=\"evenodd\" fill-opacity=\"1\" stroke=\"#000000\" stroke-opacity=\"1\" stroke-width=\"3.2\"/>\n<circle clip-path=\"url(#clip682)\" cx=\"950.878\" cy=\"766.846\" r=\"14\" fill=\"#009af9\" fill-rule=\"evenodd\" fill-opacity=\"1\" stroke=\"#000000\" stroke-opacity=\"1\" stroke-width=\"3.2\"/>\n<circle clip-path=\"url(#clip682)\" cx=\"1224.46\" cy=\"766.846\" r=\"14\" fill=\"#009af9\" fill-rule=\"evenodd\" fill-opacity=\"1\" stroke=\"#000000\" stroke-opacity=\"1\" stroke-width=\"3.2\"/>\n<circle clip-path=\"url(#clip682)\" cx=\"759.079\" cy=\"766.846\" r=\"14\" fill=\"#009af9\" fill-rule=\"evenodd\" fill-opacity=\"1\" stroke=\"#000000\" stroke-opacity=\"1\" stroke-width=\"3.2\"/>\n<circle clip-path=\"url(#clip682)\" cx=\"1783.14\" cy=\"766.846\" r=\"14\" fill=\"#009af9\" fill-rule=\"evenodd\" fill-opacity=\"1\" stroke=\"#000000\" stroke-opacity=\"1\" stroke-width=\"3.2\"/>\n<circle clip-path=\"url(#clip682)\" cx=\"886.461\" cy=\"766.846\" r=\"14\" fill=\"#009af9\" fill-rule=\"evenodd\" fill-opacity=\"1\" stroke=\"#000000\" stroke-opacity=\"1\" stroke-width=\"3.2\"/>\n<circle clip-path=\"url(#clip682)\" cx=\"1623.34\" cy=\"766.846\" r=\"14\" fill=\"#009af9\" fill-rule=\"evenodd\" fill-opacity=\"1\" stroke=\"#000000\" stroke-opacity=\"1\" stroke-width=\"3.2\"/>\n<circle clip-path=\"url(#clip682)\" cx=\"336.155\" cy=\"766.846\" r=\"14\" fill=\"#009af9\" fill-rule=\"evenodd\" fill-opacity=\"1\" stroke=\"#000000\" stroke-opacity=\"1\" stroke-width=\"3.2\"/>\n<circle clip-path=\"url(#clip682)\" cx=\"264.761\" cy=\"766.846\" r=\"14\" fill=\"#009af9\" fill-rule=\"evenodd\" fill-opacity=\"1\" stroke=\"#000000\" stroke-opacity=\"1\" stroke-width=\"3.2\"/>\n<circle clip-path=\"url(#clip682)\" cx=\"2172.48\" cy=\"766.846\" r=\"14\" fill=\"#009af9\" fill-rule=\"evenodd\" fill-opacity=\"1\" stroke=\"#000000\" stroke-opacity=\"1\" stroke-width=\"3.2\"/>\n<circle clip-path=\"url(#clip682)\" cx=\"1391.19\" cy=\"766.846\" r=\"14\" fill=\"#009af9\" fill-rule=\"evenodd\" fill-opacity=\"1\" stroke=\"#000000\" stroke-opacity=\"1\" stroke-width=\"3.2\"/>\n<circle clip-path=\"url(#clip682)\" cx=\"1970.93\" cy=\"766.846\" r=\"14\" fill=\"#009af9\" fill-rule=\"evenodd\" fill-opacity=\"1\" stroke=\"#000000\" stroke-opacity=\"1\" stroke-width=\"3.2\"/>\n<circle clip-path=\"url(#clip682)\" cx=\"281.409\" cy=\"766.846\" r=\"14\" fill=\"#009af9\" fill-rule=\"evenodd\" fill-opacity=\"1\" stroke=\"#000000\" stroke-opacity=\"1\" stroke-width=\"3.2\"/>\n<circle clip-path=\"url(#clip682)\" cx=\"478.291\" cy=\"766.846\" r=\"14\" fill=\"#009af9\" fill-rule=\"evenodd\" fill-opacity=\"1\" stroke=\"#000000\" stroke-opacity=\"1\" stroke-width=\"3.2\"/>\n<circle clip-path=\"url(#clip682)\" cx=\"903.804\" cy=\"766.846\" r=\"14\" fill=\"#009af9\" fill-rule=\"evenodd\" fill-opacity=\"1\" stroke=\"#000000\" stroke-opacity=\"1\" stroke-width=\"3.2\"/>\n<circle clip-path=\"url(#clip682)\" cx=\"2156.09\" cy=\"766.846\" r=\"14\" fill=\"#009af9\" fill-rule=\"evenodd\" fill-opacity=\"1\" stroke=\"#000000\" stroke-opacity=\"1\" stroke-width=\"3.2\"/>\n<circle clip-path=\"url(#clip682)\" cx=\"1815.44\" cy=\"766.846\" r=\"14\" fill=\"#009af9\" fill-rule=\"evenodd\" fill-opacity=\"1\" stroke=\"#000000\" stroke-opacity=\"1\" stroke-width=\"3.2\"/>\n<circle clip-path=\"url(#clip682)\" cx=\"2124.21\" cy=\"766.846\" r=\"14\" fill=\"#009af9\" fill-rule=\"evenodd\" fill-opacity=\"1\" stroke=\"#000000\" stroke-opacity=\"1\" stroke-width=\"3.2\"/>\n<circle clip-path=\"url(#clip682)\" cx=\"1674.69\" cy=\"766.846\" r=\"14\" fill=\"#009af9\" fill-rule=\"evenodd\" fill-opacity=\"1\" stroke=\"#000000\" stroke-opacity=\"1\" stroke-width=\"3.2\"/>\n<circle clip-path=\"url(#clip682)\" cx=\"1534.35\" cy=\"766.846\" r=\"14\" fill=\"#009af9\" fill-rule=\"evenodd\" fill-opacity=\"1\" stroke=\"#000000\" stroke-opacity=\"1\" stroke-width=\"3.2\"/>\n<circle clip-path=\"url(#clip682)\" cx=\"1857.72\" cy=\"766.846\" r=\"14\" fill=\"#009af9\" fill-rule=\"evenodd\" fill-opacity=\"1\" stroke=\"#000000\" stroke-opacity=\"1\" stroke-width=\"3.2\"/>\n<circle clip-path=\"url(#clip682)\" cx=\"1269.53\" cy=\"766.846\" r=\"14\" fill=\"#009af9\" fill-rule=\"evenodd\" fill-opacity=\"1\" stroke=\"#000000\" stroke-opacity=\"1\" stroke-width=\"3.2\"/>\n<circle clip-path=\"url(#clip682)\" cx=\"1090.26\" cy=\"766.846\" r=\"14\" fill=\"#009af9\" fill-rule=\"evenodd\" fill-opacity=\"1\" stroke=\"#000000\" stroke-opacity=\"1\" stroke-width=\"3.2\"/>\n<circle clip-path=\"url(#clip682)\" cx=\"1838.11\" cy=\"766.846\" r=\"14\" fill=\"#009af9\" fill-rule=\"evenodd\" fill-opacity=\"1\" stroke=\"#000000\" stroke-opacity=\"1\" stroke-width=\"3.2\"/>\n<circle clip-path=\"url(#clip682)\" cx=\"1839.2\" cy=\"766.846\" r=\"14\" fill=\"#009af9\" fill-rule=\"evenodd\" fill-opacity=\"1\" stroke=\"#000000\" stroke-opacity=\"1\" stroke-width=\"3.2\"/>\n<circle clip-path=\"url(#clip682)\" cx=\"762.855\" cy=\"766.846\" r=\"14\" fill=\"#009af9\" fill-rule=\"evenodd\" fill-opacity=\"1\" stroke=\"#000000\" stroke-opacity=\"1\" stroke-width=\"3.2\"/>\n<circle clip-path=\"url(#clip682)\" cx=\"1986.44\" cy=\"766.846\" r=\"14\" fill=\"#009af9\" fill-rule=\"evenodd\" fill-opacity=\"1\" stroke=\"#000000\" stroke-opacity=\"1\" stroke-width=\"3.2\"/>\n<circle clip-path=\"url(#clip682)\" cx=\"1763.9\" cy=\"766.846\" r=\"14\" fill=\"#009af9\" fill-rule=\"evenodd\" fill-opacity=\"1\" stroke=\"#000000\" stroke-opacity=\"1\" stroke-width=\"3.2\"/>\n<circle clip-path=\"url(#clip682)\" cx=\"672.122\" cy=\"766.846\" r=\"14\" fill=\"#009af9\" fill-rule=\"evenodd\" fill-opacity=\"1\" stroke=\"#000000\" stroke-opacity=\"1\" stroke-width=\"3.2\"/>\n<circle clip-path=\"url(#clip682)\" cx=\"794.155\" cy=\"766.846\" r=\"14\" fill=\"#009af9\" fill-rule=\"evenodd\" fill-opacity=\"1\" stroke=\"#000000\" stroke-opacity=\"1\" stroke-width=\"3.2\"/>\n<circle clip-path=\"url(#clip682)\" cx=\"1163.04\" cy=\"766.846\" r=\"14\" fill=\"#009af9\" fill-rule=\"evenodd\" fill-opacity=\"1\" stroke=\"#000000\" stroke-opacity=\"1\" stroke-width=\"3.2\"/>\n<circle clip-path=\"url(#clip682)\" cx=\"1155.95\" cy=\"766.846\" r=\"14\" fill=\"#009af9\" fill-rule=\"evenodd\" fill-opacity=\"1\" stroke=\"#000000\" stroke-opacity=\"1\" stroke-width=\"3.2\"/>\n<circle clip-path=\"url(#clip682)\" cx=\"1247.99\" cy=\"766.846\" r=\"14\" fill=\"#009af9\" fill-rule=\"evenodd\" fill-opacity=\"1\" stroke=\"#000000\" stroke-opacity=\"1\" stroke-width=\"3.2\"/>\n<circle clip-path=\"url(#clip682)\" cx=\"235.221\" cy=\"766.846\" r=\"14\" fill=\"#009af9\" fill-rule=\"evenodd\" fill-opacity=\"1\" stroke=\"#000000\" stroke-opacity=\"1\" stroke-width=\"3.2\"/>\n<circle clip-path=\"url(#clip682)\" cx=\"623.722\" cy=\"766.846\" r=\"14\" fill=\"#009af9\" fill-rule=\"evenodd\" fill-opacity=\"1\" stroke=\"#000000\" stroke-opacity=\"1\" stroke-width=\"3.2\"/>\n<circle clip-path=\"url(#clip682)\" cx=\"285.385\" cy=\"766.846\" r=\"14\" fill=\"#009af9\" fill-rule=\"evenodd\" fill-opacity=\"1\" stroke=\"#000000\" stroke-opacity=\"1\" stroke-width=\"3.2\"/>\n<path clip-path=\"url(#clip680)\" d=\"\nM1983.32 216.178 L2279.28 216.178 L2279.28 95.2176 L1983.32 95.2176  Z\n  \" fill=\"#ffffff\" fill-rule=\"evenodd\" fill-opacity=\"1\"/>\n<polyline clip-path=\"url(#clip680)\" style=\"stroke:#000000; stroke-width:4; stroke-opacity:1; fill:none\" points=\"\n  1983.32,216.178 2279.28,216.178 2279.28,95.2176 1983.32,95.2176 1983.32,216.178 \n  \"/>\n<circle clip-path=\"url(#clip680)\" cx=\"2081.3\" cy=\"155.698\" r=\"23\" fill=\"#009af9\" fill-rule=\"evenodd\" fill-opacity=\"1\" stroke=\"#000000\" stroke-opacity=\"1\" stroke-width=\"5.12\"/>\n<path clip-path=\"url(#clip680)\" d=\"M 0 0 M2193.11 175.385 Q2191.31 180.015 2189.59 181.427 Q2187.88 182.839 2185.01 182.839 L2181.61 182.839 L2181.61 179.274 L2184.11 179.274 Q2185.87 179.274 2186.84 178.44 Q2187.81 177.607 2188.99 174.505 L2189.76 172.561 L2179.27 147.052 L2183.78 147.052 L2191.89 167.329 L2199.99 147.052 L2204.5 147.052 L2193.11 175.385 Z\" fill=\"#000000\" fill-rule=\"evenodd\" fill-opacity=\"1\" /><path clip-path=\"url(#clip680)\" d=\"M 0 0 M2210.38 169.042 L2218.02 169.042 L2218.02 142.677 L2209.71 144.343 L2209.71 140.084 L2217.97 138.418 L2222.65 138.418 L2222.65 169.042 L2230.29 169.042 L2230.29 172.978 L2210.38 172.978 L2210.38 169.042 Z\" fill=\"#000000\" fill-rule=\"evenodd\" fill-opacity=\"1\" /></svg>\n"
               },
               "type": "node"
              }
             ],
             "instanceArgs": {
              "namespace": "html",
              "tag": "div"
             },
             "nodeType": "DOM",
             "props": {
              "className": "interact-flex-row interact-widget"
             },
             "type": "node"
            }
           }
          },
          "systemjs_options": null
         },
         "nodeType": "Scope",
         "props": {},
         "type": "node"
        }
       ],
       "instanceArgs": {
        "namespace": "html",
        "tag": "div"
       },
       "nodeType": "DOM",
       "props": {},
       "type": "node"
      },
      "text/html": [
       "<div\n",
       "    class=\"webio-mountpoint\"\n",
       "    data-webio-mountpoint=\"5037931127798398826\"\n",
       ">\n",
       "    <script>\n",
       "    if (window.require && require.defined && require.defined(\"nbextensions/webio-jupyter-notebook\")) {\n",
       "        console.log(\"Jupyter WebIO extension detected, not mounting.\");\n",
       "    } else if (window.WebIO) {\n",
       "        WebIO.mount(\n",
       "            document.querySelector('[data-webio-mountpoint=\"5037931127798398826\"]'),\n",
       "            {\"props\":{},\"nodeType\":\"DOM\",\"type\":\"node\",\"instanceArgs\":{\"namespace\":\"html\",\"tag\":\"div\"},\"children\":[{\"props\":{\"className\":\"field interact-widget\"},\"nodeType\":\"DOM\",\"type\":\"node\",\"instanceArgs\":{\"namespace\":\"html\",\"tag\":\"div\"},\"children\":[{\"props\":{},\"nodeType\":\"Scope\",\"type\":\"node\",\"instanceArgs\":{\"imports\":{\"data\":[{\"name\":\"knockout\",\"type\":\"js\",\"url\":\"\\/assetserver\\/4e15ea8f38f5d33bf0b2930cb09c8089f78b114e-knockout.js\"},{\"name\":\"knockout_punches\",\"type\":\"js\",\"url\":\"\\/assetserver\\/6967e46b2259ea2e5c469b61c410326b52955db7-knockout_punches.js\"},{\"name\":null,\"type\":\"js\",\"url\":\"\\/assetserver\\/a643ec32b5fd67f0647ab1f378e6bc75a94bf7ef-all.js\"},{\"name\":null,\"type\":\"css\",\"url\":\"\\/assetserver\\/c4a428321098a6b37c6165665184ef1be8f91e08-style.css\"},{\"name\":null,\"type\":\"css\",\"url\":\"\\/assetserver\\/62690f06d5dfb4c711812ef88e307907ed9b059b-bulma_confined.min.css\"}],\"type\":\"async_block\"},\"id\":\"817315128134509897\",\"handlers\":{\"changes\":[\"(function (val){return (val!=this.model[\\\"changes\\\"]()) ? (this.valueFromJulia[\\\"changes\\\"]=true, this.model[\\\"changes\\\"](val)) : undefined})\"],\"index\":[\"(function (val){return (val!=this.model[\\\"index\\\"]()) ? (this.valueFromJulia[\\\"index\\\"]=true, this.model[\\\"index\\\"](val)) : undefined})\"]},\"systemjs_options\":null,\"mount_callbacks\":[\"function () {\\n    var handler = (function (ko, koPunches) {\\n    ko.punches.enableAll();\\n    ko.bindingHandlers.numericValue = {\\n        init: function(element, valueAccessor, allBindings, data, context) {\\n            var stringified = ko.observable(ko.unwrap(valueAccessor()));\\n            stringified.subscribe(function(value) {\\n                var val = parseFloat(value);\\n                if (!isNaN(val)) {\\n                    valueAccessor()(val);\\n                }\\n            });\\n            valueAccessor().subscribe(function(value) {\\n                var str = JSON.stringify(value);\\n                if ((str == \\\"0\\\") && ([\\\"-0\\\", \\\"-0.\\\"].indexOf(stringified()) >= 0))\\n                     return;\\n                 if ([\\\"null\\\", \\\"\\\"].indexOf(str) >= 0)\\n                     return;\\n                stringified(str);\\n            });\\n            ko.applyBindingsToNode(\\n                element,\\n                {\\n                    value: stringified,\\n                    valueUpdate: allBindings.get('valueUpdate'),\\n                },\\n                context,\\n            );\\n        }\\n    };\\n    var json_data = {\\\"formatted_vals\\\":[\\\"1\\\",\\\"2\\\",\\\"3\\\",\\\"4\\\",\\\"5\\\",\\\"6\\\",\\\"7\\\",\\\"8\\\",\\\"9\\\",\\\"10\\\",\\\"11\\\",\\\"12\\\",\\\"13\\\",\\\"14\\\",\\\"15\\\",\\\"16\\\",\\\"17\\\",\\\"18\\\",\\\"19\\\",\\\"20\\\",\\\"21\\\",\\\"22\\\",\\\"23\\\",\\\"24\\\",\\\"25\\\",\\\"26\\\",\\\"27\\\",\\\"28\\\",\\\"29\\\",\\\"30\\\",\\\"31\\\",\\\"32\\\",\\\"33\\\",\\\"34\\\",\\\"35\\\",\\\"36\\\",\\\"37\\\",\\\"38\\\",\\\"39\\\",\\\"40\\\",\\\"41\\\",\\\"42\\\",\\\"43\\\",\\\"44\\\",\\\"45\\\",\\\"46\\\",\\\"47\\\",\\\"48\\\",\\\"49\\\",\\\"50\\\",\\\"51\\\",\\\"52\\\",\\\"53\\\",\\\"54\\\",\\\"55\\\",\\\"56\\\",\\\"57\\\",\\\"58\\\",\\\"59\\\",\\\"60\\\",\\\"61\\\",\\\"62\\\",\\\"63\\\",\\\"64\\\",\\\"65\\\",\\\"66\\\",\\\"67\\\",\\\"68\\\",\\\"69\\\",\\\"70\\\",\\\"71\\\",\\\"72\\\",\\\"73\\\",\\\"74\\\",\\\"75\\\",\\\"76\\\",\\\"77\\\",\\\"78\\\",\\\"79\\\",\\\"80\\\",\\\"81\\\",\\\"82\\\",\\\"83\\\",\\\"84\\\",\\\"85\\\",\\\"86\\\",\\\"87\\\",\\\"88\\\",\\\"89\\\",\\\"90\\\",\\\"91\\\",\\\"92\\\",\\\"93\\\",\\\"94\\\",\\\"95\\\",\\\"96\\\",\\\"97\\\",\\\"98\\\",\\\"99\\\",\\\"100\\\"],\\\"changes\\\":WebIO.getval({\\\"name\\\":\\\"changes\\\",\\\"scope\\\":\\\"817315128134509897\\\",\\\"id\\\":\\\"1242849836371122333\\\",\\\"type\\\":\\\"observable\\\"}),\\\"index\\\":WebIO.getval({\\\"name\\\":\\\"index\\\",\\\"scope\\\":\\\"817315128134509897\\\",\\\"id\\\":\\\"5689825914062061169\\\",\\\"type\\\":\\\"observable\\\"})};\\n    var self = this;\\n    function AppViewModel() {\\n        for (var key in json_data) {\\n            var el = json_data[key];\\n            this[key] = Array.isArray(el) ? ko.observableArray(el) : ko.observable(el);\\n        }\\n        \\n        [this[\\\"formatted_val\\\"]=ko.computed(    function(){\\n        return this.formatted_vals()[parseInt(this.index())-(1)];\\n    }\\n,this)]\\n        [this[\\\"changes\\\"].subscribe((function (val){!(this.valueFromJulia[\\\"changes\\\"]) ? (WebIO.setval({\\\"name\\\":\\\"changes\\\",\\\"scope\\\":\\\"817315128134509897\\\",\\\"id\\\":\\\"1242849836371122333\\\",\\\"type\\\":\\\"observable\\\"},val)) : undefined; return this.valueFromJulia[\\\"changes\\\"]=false}),self),this[\\\"index\\\"].subscribe((function (val){!(this.valueFromJulia[\\\"index\\\"]) ? (WebIO.setval({\\\"name\\\":\\\"index\\\",\\\"scope\\\":\\\"817315128134509897\\\",\\\"id\\\":\\\"5689825914062061169\\\",\\\"type\\\":\\\"observable\\\"},val)) : undefined; return this.valueFromJulia[\\\"index\\\"]=false}),self)]\\n        \\n    }\\n    self.model = new AppViewModel();\\n    self.valueFromJulia = {};\\n    for (var key in json_data) {\\n        self.valueFromJulia[key] = false;\\n    }\\n    ko.applyBindings(self.model, self.dom);\\n}\\n);\\n    (WebIO.importBlock({\\\"data\\\":[{\\\"name\\\":\\\"knockout\\\",\\\"type\\\":\\\"js\\\",\\\"url\\\":\\\"\\/assetserver\\/4e15ea8f38f5d33bf0b2930cb09c8089f78b114e-knockout.js\\\"},{\\\"name\\\":\\\"knockout_punches\\\",\\\"type\\\":\\\"js\\\",\\\"url\\\":\\\"\\/assetserver\\/6967e46b2259ea2e5c469b61c410326b52955db7-knockout_punches.js\\\"}],\\\"type\\\":\\\"async_block\\\"})).then((imports) => handler.apply(this, imports));\\n}\\n\"],\"observables\":{\"changes\":{\"sync\":false,\"id\":\"1242849836371122333\",\"value\":0},\"index\":{\"sync\":true,\"id\":\"5689825914062061169\",\"value\":50}}},\"children\":[{\"props\":{\"className\":\"interact-flex-row interact-widget\"},\"nodeType\":\"DOM\",\"type\":\"node\",\"instanceArgs\":{\"namespace\":\"html\",\"tag\":\"div\"},\"children\":[{\"props\":{\"className\":\"interact-flex-row-left\"},\"nodeType\":\"DOM\",\"type\":\"node\",\"instanceArgs\":{\"namespace\":\"html\",\"tag\":\"div\"},\"children\":[{\"props\":{\"className\":\"interact \",\"style\":{\"padding\":\"5px 10px 0px 10px\"}},\"nodeType\":\"DOM\",\"type\":\"node\",\"instanceArgs\":{\"namespace\":\"html\",\"tag\":\"label\"},\"children\":[\"n\"]}]},{\"props\":{\"className\":\"interact-flex-row-center\"},\"nodeType\":\"DOM\",\"type\":\"node\",\"instanceArgs\":{\"namespace\":\"html\",\"tag\":\"div\"},\"children\":[{\"props\":{\"max\":100,\"min\":1,\"attributes\":{\"type\":\"range\",\"data-bind\":\"numericValue: index, valueUpdate: 'input', event: {change: function (){this.changes(this.changes()+1)}}\",\"orient\":\"horizontal\"},\"step\":1,\"className\":\"slider slider is-fullwidth\",\"style\":{}},\"nodeType\":\"DOM\",\"type\":\"node\",\"instanceArgs\":{\"namespace\":\"html\",\"tag\":\"input\"},\"children\":[]}]},{\"props\":{\"className\":\"interact-flex-row-right\"},\"nodeType\":\"DOM\",\"type\":\"node\",\"instanceArgs\":{\"namespace\":\"html\",\"tag\":\"div\"},\"children\":[{\"props\":{\"attributes\":{\"data-bind\":\"text: formatted_val\"}},\"nodeType\":\"DOM\",\"type\":\"node\",\"instanceArgs\":{\"namespace\":\"html\",\"tag\":\"p\"},\"children\":[]}]}]}]}]},{\"props\":{},\"nodeType\":\"Scope\",\"type\":\"node\",\"instanceArgs\":{\"imports\":{\"data\":[],\"type\":\"async_block\"},\"id\":\"12492583875272748909\",\"handlers\":{},\"systemjs_options\":null,\"mount_callbacks\":[],\"observables\":{\"obs-node\":{\"sync\":false,\"id\":\"7305369333541488841\",\"value\":{\"props\":{\"className\":\"interact-flex-row interact-widget\"},\"nodeType\":\"DOM\",\"type\":\"node\",\"instanceArgs\":{\"namespace\":\"html\",\"tag\":\"div\"},\"children\":[{\"props\":{\"setInnerHtml\":\"<?xml version=\\\"1.0\\\" encoding=\\\"utf-8\\\"?>\\n<svg xmlns=\\\"http:\\/\\/www.w3.org\\/2000\\/svg\\\" xmlns:xlink=\\\"http:\\/\\/www.w3.org\\/1999\\/xlink\\\" width=\\\"600\\\" height=\\\"400\\\" viewBox=\\\"0 0 2400 1600\\\">\\n<defs>\\n  <clipPath id=\\\"clip640\\\">\\n    <rect x=\\\"0\\\" y=\\\"0\\\" width=\\\"2400\\\" height=\\\"1600\\\"\\/>\\n  <\\/clipPath>\\n<\\/defs>\\n<path clip-path=\\\"url(#clip640)\\\" d=\\\"\\nM0 1600 L2400 1600 L2400 0 L0 0  Z\\n  \\\" fill=\\\"#ffffff\\\" fill-rule=\\\"evenodd\\\" fill-opacity=\\\"1\\\"\\/>\\n<defs>\\n  <clipPath id=\\\"clip641\\\">\\n    <rect x=\\\"480\\\" y=\\\"0\\\" width=\\\"1681\\\" height=\\\"1600\\\"\\/>\\n  <\\/clipPath>\\n<\\/defs>\\n<path clip-path=\\\"url(#clip640)\\\" d=\\\"\\nM148.334 1486.45 L2352.76 1486.45 L2352.76 47.2441 L148.334 47.2441  Z\\n  \\\" fill=\\\"#ffffff\\\" fill-rule=\\\"evenodd\\\" fill-opacity=\\\"1\\\"\\/>\\n<defs>\\n  <clipPath id=\\\"clip642\\\">\\n    <rect x=\\\"148\\\" y=\\\"47\\\" width=\\\"2205\\\" height=\\\"1440\\\"\\/>\\n  <\\/clipPath>\\n<\\/defs>\\n<polyline clip-path=\\\"url(#clip642)\\\" style=\\\"stroke:#000000; stroke-width:2; stroke-opacity:0.1; fill:none\\\" points=\\\"\\n  148.334,1486.45 148.334,47.2441 \\n  \\\"\\/>\\n<polyline clip-path=\\\"url(#clip642)\\\" style=\\\"stroke:#000000; stroke-width:2; stroke-opacity:0.1; fill:none\\\" points=\\\"\\n  589.219,1486.45 589.219,47.2441 \\n  \\\"\\/>\\n<polyline clip-path=\\\"url(#clip642)\\\" style=\\\"stroke:#000000; stroke-width:2; stroke-opacity:0.1; fill:none\\\" points=\\\"\\n  1030.1,1486.45 1030.1,47.2441 \\n  \\\"\\/>\\n<polyline clip-path=\\\"url(#clip642)\\\" style=\\\"stroke:#000000; stroke-width:2; stroke-opacity:0.1; fill:none\\\" points=\\\"\\n  1470.99,1486.45 1470.99,47.2441 \\n  \\\"\\/>\\n<polyline clip-path=\\\"url(#clip642)\\\" style=\\\"stroke:#000000; stroke-width:2; stroke-opacity:0.1; fill:none\\\" points=\\\"\\n  1911.87,1486.45 1911.87,47.2441 \\n  \\\"\\/>\\n<polyline clip-path=\\\"url(#clip642)\\\" style=\\\"stroke:#000000; stroke-width:2; stroke-opacity:0.1; fill:none\\\" points=\\\"\\n  2352.76,1486.45 2352.76,47.2441 \\n  \\\"\\/>\\n<polyline clip-path=\\\"url(#clip640)\\\" style=\\\"stroke:#000000; stroke-width:4; stroke-opacity:1; fill:none\\\" points=\\\"\\n  148.334,1486.45 2352.76,1486.45 \\n  \\\"\\/>\\n<polyline clip-path=\\\"url(#clip640)\\\" style=\\\"stroke:#000000; stroke-width:4; stroke-opacity:1; fill:none\\\" points=\\\"\\n  148.334,1486.45 148.334,1469.18 \\n  \\\"\\/>\\n<polyline clip-path=\\\"url(#clip640)\\\" style=\\\"stroke:#000000; stroke-width:4; stroke-opacity:1; fill:none\\\" points=\\\"\\n  589.219,1486.45 589.219,1469.18 \\n  \\\"\\/>\\n<polyline clip-path=\\\"url(#clip640)\\\" style=\\\"stroke:#000000; stroke-width:4; stroke-opacity:1; fill:none\\\" points=\\\"\\n  1030.1,1486.45 1030.1,1469.18 \\n  \\\"\\/>\\n<polyline clip-path=\\\"url(#clip640)\\\" style=\\\"stroke:#000000; stroke-width:4; stroke-opacity:1; fill:none\\\" points=\\\"\\n  1470.99,1486.45 1470.99,1469.18 \\n  \\\"\\/>\\n<polyline clip-path=\\\"url(#clip640)\\\" style=\\\"stroke:#000000; stroke-width:4; stroke-opacity:1; fill:none\\\" points=\\\"\\n  1911.87,1486.45 1911.87,1469.18 \\n  \\\"\\/>\\n<polyline clip-path=\\\"url(#clip640)\\\" style=\\\"stroke:#000000; stroke-width:4; stroke-opacity:1; fill:none\\\" points=\\\"\\n  2352.76,1486.45 2352.76,1469.18 \\n  \\\"\\/>\\n<path clip-path=\\\"url(#clip640)\\\" d=\\\"M 0 0 M129.851 1515.64 Q126.24 1515.64 124.411 1519.2 Q122.605 1522.75 122.605 1529.87 Q122.605 1536.98 124.411 1540.55 Q126.24 1544.09 129.851 1544.09 Q133.485 1544.09 135.29 1540.55 Q137.119 1536.98 137.119 1529.87 Q137.119 1522.75 135.29 1519.2 Q133.485 1515.64 129.851 1515.64 M129.851 1511.93 Q135.661 1511.93 138.716 1516.54 Q141.795 1521.12 141.795 1529.87 Q141.795 1538.6 138.716 1543.21 Q135.661 1547.79 129.851 1547.79 Q124.041 1547.79 120.962 1543.21 Q117.906 1538.6 117.906 1529.87 Q117.906 1521.12 120.962 1516.54 Q124.041 1511.93 129.851 1511.93 Z\\\" fill=\\\"#000000\\\" fill-rule=\\\"evenodd\\\" fill-opacity=\\\"1\\\" \\/><path clip-path=\\\"url(#clip640)\\\" d=\\\"M 0 0 M146.864 1541.24 L151.749 1541.24 L151.749 1547.12 L146.864 1547.12 L146.864 1541.24 Z\\\" fill=\\\"#000000\\\" fill-rule=\\\"evenodd\\\" fill-opacity=\\\"1\\\" \\/><path clip-path=\\\"url(#clip640)\\\" d=\\\"M 0 0 M166.818 1515.64 Q163.207 1515.64 161.378 1519.2 Q159.573 1522.75 159.573 1529.87 Q159.573 1536.98 161.378 1540.55 Q163.207 1544.09 166.818 1544.09 Q170.452 1544.09 172.258 1540.55 Q174.087 1536.98 174.087 1529.87 Q174.087 1522.75 172.258 1519.2 Q170.452 1515.64 166.818 1515.64 M166.818 1511.93 Q172.628 1511.93 175.684 1516.54 Q178.762 1521.12 178.762 1529.87 Q178.762 1538.6 175.684 1543.21 Q172.628 1547.79 166.818 1547.79 Q161.008 1547.79 157.929 1543.21 Q154.874 1538.6 154.874 1529.87 Q154.874 1521.12 157.929 1516.54 Q161.008 1511.93 166.818 1511.93 Z\\\" fill=\\\"#000000\\\" fill-rule=\\\"evenodd\\\" fill-opacity=\\\"1\\\" \\/><path clip-path=\\\"url(#clip640)\\\" d=\\\"M 0 0 M571.534 1515.64 Q567.923 1515.64 566.094 1519.2 Q564.288 1522.75 564.288 1529.87 Q564.288 1536.98 566.094 1540.55 Q567.923 1544.09 571.534 1544.09 Q575.168 1544.09 576.973 1540.55 Q578.802 1536.98 578.802 1529.87 Q578.802 1522.75 576.973 1519.2 Q575.168 1515.64 571.534 1515.64 M571.534 1511.93 Q577.344 1511.93 580.399 1516.54 Q583.478 1521.12 583.478 1529.87 Q583.478 1538.6 580.399 1543.21 Q577.344 1547.79 571.534 1547.79 Q565.723 1547.79 562.645 1543.21 Q559.589 1538.6 559.589 1529.87 Q559.589 1521.12 562.645 1516.54 Q565.723 1511.93 571.534 1511.93 Z\\\" fill=\\\"#000000\\\" fill-rule=\\\"evenodd\\\" fill-opacity=\\\"1\\\" \\/><path clip-path=\\\"url(#clip640)\\\" d=\\\"M 0 0 M588.547 1541.24 L593.432 1541.24 L593.432 1547.12 L588.547 1547.12 L588.547 1541.24 Z\\\" fill=\\\"#000000\\\" fill-rule=\\\"evenodd\\\" fill-opacity=\\\"1\\\" \\/><path clip-path=\\\"url(#clip640)\\\" d=\\\"M 0 0 M602.529 1543.18 L618.848 1543.18 L618.848 1547.12 L596.904 1547.12 L596.904 1543.18 Q599.566 1540.43 604.149 1535.8 Q608.756 1531.15 609.936 1529.81 Q612.182 1527.28 613.061 1525.55 Q613.964 1523.79 613.964 1522.1 Q613.964 1519.34 612.019 1517.61 Q610.098 1515.87 606.996 1515.87 Q604.797 1515.87 602.344 1516.63 Q599.913 1517.4 597.135 1518.95 L597.135 1514.23 Q599.959 1513.09 602.413 1512.51 Q604.867 1511.93 606.904 1511.93 Q612.274 1511.93 615.469 1514.62 Q618.663 1517.31 618.663 1521.8 Q618.663 1523.93 617.853 1525.85 Q617.066 1527.74 614.959 1530.34 Q614.381 1531.01 611.279 1534.23 Q608.177 1537.42 602.529 1543.18 Z\\\" fill=\\\"#000000\\\" fill-rule=\\\"evenodd\\\" fill-opacity=\\\"1\\\" \\/><path clip-path=\\\"url(#clip640)\\\" d=\\\"M 0 0 M1011.38 1515.64 Q1007.77 1515.64 1005.94 1519.2 Q1004.13 1522.75 1004.13 1529.87 Q1004.13 1536.98 1005.94 1540.55 Q1007.77 1544.09 1011.38 1544.09 Q1015.01 1544.09 1016.82 1540.55 Q1018.64 1536.98 1018.64 1529.87 Q1018.64 1522.75 1016.82 1519.2 Q1015.01 1515.64 1011.38 1515.64 M1011.38 1511.93 Q1017.19 1511.93 1020.24 1516.54 Q1023.32 1521.12 1023.32 1529.87 Q1023.32 1538.6 1020.24 1543.21 Q1017.19 1547.79 1011.38 1547.79 Q1005.57 1547.79 1002.49 1543.21 Q999.432 1538.6 999.432 1529.87 Q999.432 1521.12 1002.49 1516.54 Q1005.57 1511.93 1011.38 1511.93 Z\\\" fill=\\\"#000000\\\" fill-rule=\\\"evenodd\\\" fill-opacity=\\\"1\\\" \\/><path clip-path=\\\"url(#clip640)\\\" d=\\\"M 0 0 M1028.39 1541.24 L1033.27 1541.24 L1033.27 1547.12 L1028.39 1547.12 L1028.39 1541.24 Z\\\" fill=\\\"#000000\\\" fill-rule=\\\"evenodd\\\" fill-opacity=\\\"1\\\" \\/><path clip-path=\\\"url(#clip640)\\\" d=\\\"M 0 0 M1051.19 1516.63 L1039.39 1535.08 L1051.19 1535.08 L1051.19 1516.63 M1049.96 1512.56 L1055.84 1512.56 L1055.84 1535.08 L1060.77 1535.08 L1060.77 1538.97 L1055.84 1538.97 L1055.84 1547.12 L1051.19 1547.12 L1051.19 1538.97 L1035.59 1538.97 L1035.59 1534.46 L1049.96 1512.56 Z\\\" fill=\\\"#000000\\\" fill-rule=\\\"evenodd\\\" fill-opacity=\\\"1\\\" \\/><path clip-path=\\\"url(#clip640)\\\" d=\\\"M 0 0 M1452.42 1515.64 Q1448.81 1515.64 1446.98 1519.2 Q1445.18 1522.75 1445.18 1529.87 Q1445.18 1536.98 1446.98 1540.55 Q1448.81 1544.09 1452.42 1544.09 Q1456.06 1544.09 1457.86 1540.55 Q1459.69 1536.98 1459.69 1529.87 Q1459.69 1522.75 1457.86 1519.2 Q1456.06 1515.64 1452.42 1515.64 M1452.42 1511.93 Q1458.23 1511.93 1461.29 1516.54 Q1464.37 1521.12 1464.37 1529.87 Q1464.37 1538.6 1461.29 1543.21 Q1458.23 1547.79 1452.42 1547.79 Q1446.61 1547.79 1443.53 1543.21 Q1440.48 1538.6 1440.48 1529.87 Q1440.48 1521.12 1443.53 1516.54 Q1446.61 1511.93 1452.42 1511.93 Z\\\" fill=\\\"#000000\\\" fill-rule=\\\"evenodd\\\" fill-opacity=\\\"1\\\" \\/><path clip-path=\\\"url(#clip640)\\\" d=\\\"M 0 0 M1469.44 1541.24 L1474.32 1541.24 L1474.32 1547.12 L1469.44 1547.12 L1469.44 1541.24 Z\\\" fill=\\\"#000000\\\" fill-rule=\\\"evenodd\\\" fill-opacity=\\\"1\\\" \\/><path clip-path=\\\"url(#clip640)\\\" d=\\\"M 0 0 M1489.97 1527.98 Q1486.82 1527.98 1484.97 1530.13 Q1483.14 1532.28 1483.14 1536.03 Q1483.14 1539.76 1484.97 1541.93 Q1486.82 1544.09 1489.97 1544.09 Q1493.12 1544.09 1494.95 1541.93 Q1496.8 1539.76 1496.8 1536.03 Q1496.8 1532.28 1494.95 1530.13 Q1493.12 1527.98 1489.97 1527.98 M1499.25 1513.32 L1499.25 1517.58 Q1497.49 1516.75 1495.69 1516.31 Q1493.9 1515.87 1492.14 1515.87 Q1487.51 1515.87 1485.06 1519 Q1482.63 1522.12 1482.28 1528.44 Q1483.65 1526.43 1485.71 1525.36 Q1487.77 1524.27 1490.25 1524.27 Q1495.45 1524.27 1498.46 1527.44 Q1501.5 1530.59 1501.5 1536.03 Q1501.5 1541.36 1498.35 1544.57 Q1495.2 1547.79 1489.97 1547.79 Q1483.97 1547.79 1480.8 1543.21 Q1477.63 1538.6 1477.63 1529.87 Q1477.63 1521.68 1481.52 1516.82 Q1485.41 1511.93 1491.96 1511.93 Q1493.72 1511.93 1495.5 1512.28 Q1497.31 1512.63 1499.25 1513.32 Z\\\" fill=\\\"#000000\\\" fill-rule=\\\"evenodd\\\" fill-opacity=\\\"1\\\" \\/><path clip-path=\\\"url(#clip640)\\\" d=\\\"M 0 0 M1893.43 1515.64 Q1889.82 1515.64 1887.99 1519.2 Q1886.19 1522.75 1886.19 1529.87 Q1886.19 1536.98 1887.99 1540.55 Q1889.82 1544.09 1893.43 1544.09 Q1897.07 1544.09 1898.87 1540.55 Q1900.7 1536.98 1900.7 1529.87 Q1900.7 1522.75 1898.87 1519.2 Q1897.07 1515.64 1893.43 1515.64 M1893.43 1511.93 Q1899.24 1511.93 1902.3 1516.54 Q1905.38 1521.12 1905.38 1529.87 Q1905.38 1538.6 1902.3 1543.21 Q1899.24 1547.79 1893.43 1547.79 Q1887.62 1547.79 1884.55 1543.21 Q1881.49 1538.6 1881.49 1529.87 Q1881.49 1521.12 1884.55 1516.54 Q1887.62 1511.93 1893.43 1511.93 Z\\\" fill=\\\"#000000\\\" fill-rule=\\\"evenodd\\\" fill-opacity=\\\"1\\\" \\/><path clip-path=\\\"url(#clip640)\\\" d=\\\"M 0 0 M1910.45 1541.24 L1915.33 1541.24 L1915.33 1547.12 L1910.45 1547.12 L1910.45 1541.24 Z\\\" fill=\\\"#000000\\\" fill-rule=\\\"evenodd\\\" fill-opacity=\\\"1\\\" \\/><path clip-path=\\\"url(#clip640)\\\" d=\\\"M 0 0 M1930.4 1530.71 Q1927.07 1530.71 1925.15 1532.49 Q1923.25 1534.27 1923.25 1537.4 Q1923.25 1540.52 1925.15 1542.31 Q1927.07 1544.09 1930.4 1544.09 Q1933.73 1544.09 1935.66 1542.31 Q1937.58 1540.5 1937.58 1537.4 Q1937.58 1534.27 1935.66 1532.49 Q1933.76 1530.71 1930.4 1530.71 M1925.73 1528.72 Q1922.72 1527.98 1921.03 1525.92 Q1919.36 1523.86 1919.36 1520.89 Q1919.36 1516.75 1922.3 1514.34 Q1925.26 1511.93 1930.4 1511.93 Q1935.56 1511.93 1938.5 1514.34 Q1941.44 1516.75 1941.44 1520.89 Q1941.44 1523.86 1939.75 1525.92 Q1938.09 1527.98 1935.1 1528.72 Q1938.48 1529.5 1940.36 1531.8 Q1942.25 1534.09 1942.25 1537.4 Q1942.25 1542.42 1939.17 1545.11 Q1936.12 1547.79 1930.4 1547.79 Q1924.68 1547.79 1921.61 1545.11 Q1918.55 1542.42 1918.55 1537.4 Q1918.55 1534.09 1920.45 1531.8 Q1922.35 1529.5 1925.73 1528.72 M1924.01 1521.33 Q1924.01 1524.02 1925.68 1525.52 Q1927.37 1527.03 1930.4 1527.03 Q1933.41 1527.03 1935.1 1525.52 Q1936.81 1524.02 1936.81 1521.33 Q1936.81 1518.65 1935.1 1517.14 Q1933.41 1515.64 1930.4 1515.64 Q1927.37 1515.64 1925.68 1517.14 Q1924.01 1518.65 1924.01 1521.33 Z\\\" fill=\\\"#000000\\\" fill-rule=\\\"evenodd\\\" fill-opacity=\\\"1\\\" \\/><path clip-path=\\\"url(#clip640)\\\" d=\\\"M 0 0 M2324.65 1543.18 L2332.29 1543.18 L2332.29 1516.82 L2323.98 1518.49 L2323.98 1514.23 L2332.25 1512.56 L2336.92 1512.56 L2336.92 1543.18 L2344.56 1543.18 L2344.56 1547.12 L2324.65 1547.12 L2324.65 1543.18 Z\\\" fill=\\\"#000000\\\" fill-rule=\\\"evenodd\\\" fill-opacity=\\\"1\\\" \\/><path clip-path=\\\"url(#clip640)\\\" d=\\\"M 0 0 M2349.63 1541.24 L2354.52 1541.24 L2354.52 1547.12 L2349.63 1547.12 L2349.63 1541.24 Z\\\" fill=\\\"#000000\\\" fill-rule=\\\"evenodd\\\" fill-opacity=\\\"1\\\" \\/><path clip-path=\\\"url(#clip640)\\\" d=\\\"M 0 0 M2369.58 1515.64 Q2365.97 1515.64 2364.14 1519.2 Q2362.34 1522.75 2362.34 1529.87 Q2362.34 1536.98 2364.14 1540.55 Q2365.97 1544.09 2369.58 1544.09 Q2373.22 1544.09 2375.02 1540.55 Q2376.85 1536.98 2376.85 1529.87 Q2376.85 1522.75 2375.02 1519.2 Q2373.22 1515.64 2369.58 1515.64 M2369.58 1511.93 Q2375.39 1511.93 2378.45 1516.54 Q2381.53 1521.12 2381.53 1529.87 Q2381.53 1538.6 2378.45 1543.21 Q2375.39 1547.79 2369.58 1547.79 Q2363.77 1547.79 2360.7 1543.21 Q2357.64 1538.6 2357.64 1529.87 Q2357.64 1521.12 2360.7 1516.54 Q2363.77 1511.93 2369.58 1511.93 Z\\\" fill=\\\"#000000\\\" fill-rule=\\\"evenodd\\\" fill-opacity=\\\"1\\\" \\/><polyline clip-path=\\\"url(#clip642)\\\" style=\\\"stroke:#000000; stroke-width:2; stroke-opacity:0.1; fill:none\\\" points=\\\"\\n  148.334,1486.45 2352.76,1486.45 \\n  \\\"\\/>\\n<polyline clip-path=\\\"url(#clip642)\\\" style=\\\"stroke:#000000; stroke-width:2; stroke-opacity:0.1; fill:none\\\" points=\\\"\\n  148.334,1198.61 2352.76,1198.61 \\n  \\\"\\/>\\n<polyline clip-path=\\\"url(#clip642)\\\" style=\\\"stroke:#000000; stroke-width:2; stroke-opacity:0.1; fill:none\\\" points=\\\"\\n  148.334,910.766 2352.76,910.766 \\n  \\\"\\/>\\n<polyline clip-path=\\\"url(#clip642)\\\" style=\\\"stroke:#000000; stroke-width:2; stroke-opacity:0.1; fill:none\\\" points=\\\"\\n  148.334,622.926 2352.76,622.926 \\n  \\\"\\/>\\n<polyline clip-path=\\\"url(#clip642)\\\" style=\\\"stroke:#000000; stroke-width:2; stroke-opacity:0.1; fill:none\\\" points=\\\"\\n  148.334,335.085 2352.76,335.085 \\n  \\\"\\/>\\n<polyline clip-path=\\\"url(#clip642)\\\" style=\\\"stroke:#000000; stroke-width:2; stroke-opacity:0.1; fill:none\\\" points=\\\"\\n  148.334,47.2441 2352.76,47.2441 \\n  \\\"\\/>\\n<polyline clip-path=\\\"url(#clip640)\\\" style=\\\"stroke:#000000; stroke-width:4; stroke-opacity:1; fill:none\\\" points=\\\"\\n  148.334,1486.45 148.334,47.2441 \\n  \\\"\\/>\\n<polyline clip-path=\\\"url(#clip640)\\\" style=\\\"stroke:#000000; stroke-width:4; stroke-opacity:1; fill:none\\\" points=\\\"\\n  148.334,1486.45 174.787,1486.45 \\n  \\\"\\/>\\n<polyline clip-path=\\\"url(#clip640)\\\" style=\\\"stroke:#000000; stroke-width:4; stroke-opacity:1; fill:none\\\" points=\\\"\\n  148.334,1198.61 174.787,1198.61 \\n  \\\"\\/>\\n<polyline clip-path=\\\"url(#clip640)\\\" style=\\\"stroke:#000000; stroke-width:4; stroke-opacity:1; fill:none\\\" points=\\\"\\n  148.334,910.766 174.787,910.766 \\n  \\\"\\/>\\n<polyline clip-path=\\\"url(#clip640)\\\" style=\\\"stroke:#000000; stroke-width:4; stroke-opacity:1; fill:none\\\" points=\\\"\\n  148.334,622.926 174.787,622.926 \\n  \\\"\\/>\\n<polyline clip-path=\\\"url(#clip640)\\\" style=\\\"stroke:#000000; stroke-width:4; stroke-opacity:1; fill:none\\\" points=\\\"\\n  148.334,335.085 174.787,335.085 \\n  \\\"\\/>\\n<polyline clip-path=\\\"url(#clip640)\\\" style=\\\"stroke:#000000; stroke-width:4; stroke-opacity:1; fill:none\\\" points=\\\"\\n  148.334,47.2441 174.787,47.2441 \\n  \\\"\\/>\\n<path clip-path=\\\"url(#clip640)\\\" d=\\\"M 0 0 M63.4226 1472.25 Q59.8115 1472.25 57.9828 1475.81 Q56.1773 1479.35 56.1773 1486.48 Q56.1773 1493.59 57.9828 1497.15 Q59.8115 1500.7 63.4226 1500.7 Q67.0569 1500.7 68.8624 1497.15 Q70.6911 1493.59 70.6911 1486.48 Q70.6911 1479.35 68.8624 1475.81 Q67.0569 1472.25 63.4226 1472.25 M63.4226 1468.54 Q69.2328 1468.54 72.2883 1473.15 Q75.367 1477.73 75.367 1486.48 Q75.367 1495.21 72.2883 1499.82 Q69.2328 1504.4 63.4226 1504.4 Q57.6125 1504.4 54.5338 1499.82 Q51.4782 1495.21 51.4782 1486.48 Q51.4782 1477.73 54.5338 1473.15 Q57.6125 1468.54 63.4226 1468.54 Z\\\" fill=\\\"#000000\\\" fill-rule=\\\"evenodd\\\" fill-opacity=\\\"1\\\" \\/><path clip-path=\\\"url(#clip640)\\\" d=\\\"M 0 0 M80.4364 1497.85 L85.3206 1497.85 L85.3206 1503.73 L80.4364 1503.73 L80.4364 1497.85 Z\\\" fill=\\\"#000000\\\" fill-rule=\\\"evenodd\\\" fill-opacity=\\\"1\\\" \\/><path clip-path=\\\"url(#clip640)\\\" d=\\\"M 0 0 M100.39 1472.25 Q96.7789 1472.25 94.9502 1475.81 Q93.1447 1479.35 93.1447 1486.48 Q93.1447 1493.59 94.9502 1497.15 Q96.7789 1500.7 100.39 1500.7 Q104.024 1500.7 105.83 1497.15 Q107.658 1493.59 107.658 1486.48 Q107.658 1479.35 105.83 1475.81 Q104.024 1472.25 100.39 1472.25 M100.39 1468.54 Q106.2 1468.54 109.256 1473.15 Q112.334 1477.73 112.334 1486.48 Q112.334 1495.21 109.256 1499.82 Q106.2 1504.4 100.39 1504.4 Q94.5799 1504.4 91.5012 1499.82 Q88.4456 1495.21 88.4456 1486.48 Q88.4456 1477.73 91.5012 1473.15 Q94.5799 1468.54 100.39 1468.54 Z\\\" fill=\\\"#000000\\\" fill-rule=\\\"evenodd\\\" fill-opacity=\\\"1\\\" \\/><path clip-path=\\\"url(#clip640)\\\" d=\\\"M 0 0 M65.0198 1184.41 Q61.4087 1184.41 59.58 1187.97 Q57.7745 1191.51 57.7745 1198.64 Q57.7745 1205.75 59.58 1209.31 Q61.4087 1212.85 65.0198 1212.85 Q68.6541 1212.85 70.4596 1209.31 Q72.2883 1205.75 72.2883 1198.64 Q72.2883 1191.51 70.4596 1187.97 Q68.6541 1184.41 65.0198 1184.41 M65.0198 1180.7 Q70.83 1180.7 73.8855 1185.31 Q76.9642 1189.89 76.9642 1198.64 Q76.9642 1207.37 73.8855 1211.98 Q70.83 1216.56 65.0198 1216.56 Q59.2097 1216.56 56.131 1211.98 Q53.0754 1207.37 53.0754 1198.64 Q53.0754 1189.89 56.131 1185.31 Q59.2097 1180.7 65.0198 1180.7 Z\\\" fill=\\\"#000000\\\" fill-rule=\\\"evenodd\\\" fill-opacity=\\\"1\\\" \\/><path clip-path=\\\"url(#clip640)\\\" d=\\\"M 0 0 M82.0336 1210.01 L86.9179 1210.01 L86.9179 1215.89 L82.0336 1215.89 L82.0336 1210.01 Z\\\" fill=\\\"#000000\\\" fill-rule=\\\"evenodd\\\" fill-opacity=\\\"1\\\" \\/><path clip-path=\\\"url(#clip640)\\\" d=\\\"M 0 0 M96.015 1211.95 L112.334 1211.95 L112.334 1215.89 L90.3901 1215.89 L90.3901 1211.95 Q93.0521 1209.2 97.6354 1204.57 Q102.242 1199.91 103.422 1198.57 Q105.668 1196.05 106.547 1194.31 Q107.45 1192.55 107.45 1190.86 Q107.45 1188.11 105.506 1186.37 Q103.584 1184.64 100.483 1184.64 Q98.2835 1184.64 95.8298 1185.4 Q93.3993 1186.17 90.6215 1187.72 L90.6215 1182.99 Q93.4456 1181.86 95.8993 1181.28 Q98.353 1180.7 100.39 1180.7 Q105.76 1180.7 108.955 1183.39 Q112.149 1186.07 112.149 1190.56 Q112.149 1192.69 111.339 1194.61 Q110.552 1196.51 108.446 1199.1 Q107.867 1199.78 104.765 1202.99 Q101.663 1206.19 96.015 1211.95 Z\\\" fill=\\\"#000000\\\" fill-rule=\\\"evenodd\\\" fill-opacity=\\\"1\\\" \\/><path clip-path=\\\"url(#clip640)\\\" d=\\\"M 0 0 M62.9365 896.565 Q59.3254 896.565 57.4967 900.13 Q55.6912 903.671 55.6912 910.801 Q55.6912 917.908 57.4967 921.472 Q59.3254 925.014 62.9365 925.014 Q66.5707 925.014 68.3763 921.472 Q70.205 917.908 70.205 910.801 Q70.205 903.671 68.3763 900.13 Q66.5707 896.565 62.9365 896.565 M62.9365 892.861 Q68.7467 892.861 71.8022 897.468 Q74.8809 902.051 74.8809 910.801 Q74.8809 919.528 71.8022 924.134 Q68.7467 928.718 62.9365 928.718 Q57.1264 928.718 54.0477 924.134 Q50.9921 919.528 50.9921 910.801 Q50.9921 902.051 54.0477 897.468 Q57.1264 892.861 62.9365 892.861 Z\\\" fill=\\\"#000000\\\" fill-rule=\\\"evenodd\\\" fill-opacity=\\\"1\\\" \\/><path clip-path=\\\"url(#clip640)\\\" d=\\\"M 0 0 M79.9503 922.167 L84.8345 922.167 L84.8345 928.046 L79.9503 928.046 L79.9503 922.167 Z\\\" fill=\\\"#000000\\\" fill-rule=\\\"evenodd\\\" fill-opacity=\\\"1\\\" \\/><path clip-path=\\\"url(#clip640)\\\" d=\\\"M 0 0 M102.751 897.56 L90.9456 916.009 L102.751 916.009 L102.751 897.56 M101.524 893.486 L107.404 893.486 L107.404 916.009 L112.334 916.009 L112.334 919.898 L107.404 919.898 L107.404 928.046 L102.751 928.046 L102.751 919.898 L87.1493 919.898 L87.1493 915.384 L101.524 893.486 Z\\\" fill=\\\"#000000\\\" fill-rule=\\\"evenodd\\\" fill-opacity=\\\"1\\\" \\/><path clip-path=\\\"url(#clip640)\\\" d=\\\"M 0 0 M63.2606 608.724 Q59.6495 608.724 57.8208 612.289 Q56.0152 615.831 56.0152 622.96 Q56.0152 630.067 57.8208 633.632 Q59.6495 637.173 63.2606 637.173 Q66.8948 637.173 68.7004 633.632 Q70.5291 630.067 70.5291 622.96 Q70.5291 615.831 68.7004 612.289 Q66.8948 608.724 63.2606 608.724 M63.2606 605.021 Q69.0707 605.021 72.1263 609.627 Q75.205 614.21 75.205 622.96 Q75.205 631.687 72.1263 636.294 Q69.0707 640.877 63.2606 640.877 Q57.4504 640.877 54.3717 636.294 Q51.3162 631.687 51.3162 622.96 Q51.3162 614.21 54.3717 609.627 Q57.4504 605.021 63.2606 605.021 Z\\\" fill=\\\"#000000\\\" fill-rule=\\\"evenodd\\\" fill-opacity=\\\"1\\\" \\/><path clip-path=\\\"url(#clip640)\\\" d=\\\"M 0 0 M80.2744 634.326 L85.1586 634.326 L85.1586 640.206 L80.2744 640.206 L80.2744 634.326 Z\\\" fill=\\\"#000000\\\" fill-rule=\\\"evenodd\\\" fill-opacity=\\\"1\\\" \\/><path clip-path=\\\"url(#clip640)\\\" d=\\\"M 0 0 M100.807 621.062 Q97.6585 621.062 95.8067 623.215 Q93.978 625.368 93.978 629.118 Q93.978 632.845 95.8067 635.02 Q97.6585 637.173 100.807 637.173 Q103.955 637.173 105.783 635.02 Q107.635 632.845 107.635 629.118 Q107.635 625.368 105.783 623.215 Q103.955 621.062 100.807 621.062 M110.089 606.409 L110.089 610.669 Q108.33 609.835 106.524 609.396 Q104.742 608.956 102.983 608.956 Q98.353 608.956 95.8993 612.081 Q93.4688 615.206 93.1215 621.525 Q94.4873 619.511 96.5474 618.446 Q98.6076 617.359 101.084 617.359 Q106.293 617.359 109.302 620.53 Q112.334 623.678 112.334 629.118 Q112.334 634.442 109.186 637.659 Q106.038 640.877 100.807 640.877 Q94.8113 640.877 91.6401 636.294 Q88.4688 631.687 88.4688 622.96 Q88.4688 614.766 92.3576 609.905 Q96.2465 605.021 102.797 605.021 Q104.557 605.021 106.339 605.368 Q108.145 605.715 110.089 606.409 Z\\\" fill=\\\"#000000\\\" fill-rule=\\\"evenodd\\\" fill-opacity=\\\"1\\\" \\/><path clip-path=\\\"url(#clip640)\\\" d=\\\"M 0 0 M63.5152 320.884 Q59.9041 320.884 58.0754 324.448 Q56.2699 327.99 56.2699 335.12 Q56.2699 342.226 58.0754 345.791 Q59.9041 349.332 63.5152 349.332 Q67.1494 349.332 68.955 345.791 Q70.7837 342.226 70.7837 335.12 Q70.7837 327.99 68.955 324.448 Q67.1494 320.884 63.5152 320.884 M63.5152 317.18 Q69.3254 317.18 72.3809 321.786 Q75.4596 326.37 75.4596 335.12 Q75.4596 343.846 72.3809 348.453 Q69.3254 353.036 63.5152 353.036 Q57.7051 353.036 54.6264 348.453 Q51.5708 343.846 51.5708 335.12 Q51.5708 326.37 54.6264 321.786 Q57.7051 317.18 63.5152 317.18 Z\\\" fill=\\\"#000000\\\" fill-rule=\\\"evenodd\\\" fill-opacity=\\\"1\\\" \\/><path clip-path=\\\"url(#clip640)\\\" d=\\\"M 0 0 M80.529 346.485 L85.4132 346.485 L85.4132 352.365 L80.529 352.365 L80.529 346.485 Z\\\" fill=\\\"#000000\\\" fill-rule=\\\"evenodd\\\" fill-opacity=\\\"1\\\" \\/><path clip-path=\\\"url(#clip640)\\\" d=\\\"M 0 0 M100.483 335.953 Q97.1493 335.953 95.228 337.735 Q93.3299 339.518 93.3299 342.643 Q93.3299 345.768 95.228 347.55 Q97.1493 349.332 100.483 349.332 Q103.816 349.332 105.737 347.55 Q107.658 345.745 107.658 342.643 Q107.658 339.518 105.737 337.735 Q103.839 335.953 100.483 335.953 M95.8067 333.962 Q92.7975 333.221 91.1077 331.161 Q89.441 329.101 89.441 326.138 Q89.441 321.995 92.3808 319.587 Q95.3437 317.18 100.483 317.18 Q105.645 317.18 108.584 319.587 Q111.524 321.995 111.524 326.138 Q111.524 329.101 109.834 331.161 Q108.168 333.221 105.182 333.962 Q108.561 334.749 110.436 337.041 Q112.334 339.333 112.334 342.643 Q112.334 347.666 109.256 350.351 Q106.2 353.036 100.483 353.036 Q94.765 353.036 91.6864 350.351 Q88.6308 347.666 88.6308 342.643 Q88.6308 339.333 90.529 337.041 Q92.4271 334.749 95.8067 333.962 M94.0937 326.578 Q94.0937 329.263 95.7604 330.768 Q97.4502 332.272 100.483 332.272 Q103.492 332.272 105.182 330.768 Q106.895 329.263 106.895 326.578 Q106.895 323.893 105.182 322.388 Q103.492 320.884 100.483 320.884 Q97.4502 320.884 95.7604 322.388 Q94.0937 323.893 94.0937 326.578 Z\\\" fill=\\\"#000000\\\" fill-rule=\\\"evenodd\\\" fill-opacity=\\\"1\\\" \\/><path clip-path=\\\"url(#clip640)\\\" d=\\\"M 0 0 M55.4597 60.5889 L63.0985 60.5889 L63.0985 34.2233 L54.7884 35.89 L54.7884 31.6308 L63.0522 29.9641 L67.7281 29.9641 L67.7281 60.5889 L75.367 60.5889 L75.367 64.5241 L55.4597 64.5241 L55.4597 60.5889 Z\\\" fill=\\\"#000000\\\" fill-rule=\\\"evenodd\\\" fill-opacity=\\\"1\\\" \\/><path clip-path=\\\"url(#clip640)\\\" d=\\\"M 0 0 M80.4364 58.6445 L85.3206 58.6445 L85.3206 64.5241 L80.4364 64.5241 L80.4364 58.6445 Z\\\" fill=\\\"#000000\\\" fill-rule=\\\"evenodd\\\" fill-opacity=\\\"1\\\" \\/><path clip-path=\\\"url(#clip640)\\\" d=\\\"M 0 0 M100.39 33.0428 Q96.7789 33.0428 94.9502 36.6076 Q93.1447 40.1492 93.1447 47.2788 Q93.1447 54.3853 94.9502 57.9501 Q96.7789 61.4917 100.39 61.4917 Q104.024 61.4917 105.83 57.9501 Q107.658 54.3853 107.658 47.2788 Q107.658 40.1492 105.83 36.6076 Q104.024 33.0428 100.39 33.0428 M100.39 29.3391 Q106.2 29.3391 109.256 33.9456 Q112.334 38.5289 112.334 47.2788 Q112.334 56.0056 109.256 60.6121 Q106.2 65.1954 100.39 65.1954 Q94.5799 65.1954 91.5012 60.6121 Q88.4456 56.0056 88.4456 47.2788 Q88.4456 38.5289 91.5012 33.9456 Q94.5799 29.3391 100.39 29.3391 Z\\\" fill=\\\"#000000\\\" fill-rule=\\\"evenodd\\\" fill-opacity=\\\"1\\\" \\/><circle clip-path=\\\"url(#clip642)\\\" cx=\\\"919.281\\\" cy=\\\"766.846\\\" r=\\\"14\\\" fill=\\\"#009af9\\\" fill-rule=\\\"evenodd\\\" fill-opacity=\\\"1\\\" stroke=\\\"#000000\\\" stroke-opacity=\\\"1\\\" stroke-width=\\\"3.2\\\"\\/>\\n<circle clip-path=\\\"url(#clip642)\\\" cx=\\\"1165.28\\\" cy=\\\"766.846\\\" r=\\\"14\\\" fill=\\\"#009af9\\\" fill-rule=\\\"evenodd\\\" fill-opacity=\\\"1\\\" stroke=\\\"#000000\\\" stroke-opacity=\\\"1\\\" stroke-width=\\\"3.2\\\"\\/>\\n<circle clip-path=\\\"url(#clip642)\\\" cx=\\\"1018.4\\\" cy=\\\"766.846\\\" r=\\\"14\\\" fill=\\\"#009af9\\\" fill-rule=\\\"evenodd\\\" fill-opacity=\\\"1\\\" stroke=\\\"#000000\\\" stroke-opacity=\\\"1\\\" stroke-width=\\\"3.2\\\"\\/>\\n<circle clip-path=\\\"url(#clip642)\\\" cx=\\\"614.654\\\" cy=\\\"766.846\\\" r=\\\"14\\\" fill=\\\"#009af9\\\" fill-rule=\\\"evenodd\\\" fill-opacity=\\\"1\\\" stroke=\\\"#000000\\\" stroke-opacity=\\\"1\\\" stroke-width=\\\"3.2\\\"\\/>\\n<circle clip-path=\\\"url(#clip642)\\\" cx=\\\"186.63\\\" cy=\\\"766.846\\\" r=\\\"14\\\" fill=\\\"#009af9\\\" fill-rule=\\\"evenodd\\\" fill-opacity=\\\"1\\\" stroke=\\\"#000000\\\" stroke-opacity=\\\"1\\\" stroke-width=\\\"3.2\\\"\\/>\\n<circle clip-path=\\\"url(#clip642)\\\" cx=\\\"875.345\\\" cy=\\\"766.846\\\" r=\\\"14\\\" fill=\\\"#009af9\\\" fill-rule=\\\"evenodd\\\" fill-opacity=\\\"1\\\" stroke=\\\"#000000\\\" stroke-opacity=\\\"1\\\" stroke-width=\\\"3.2\\\"\\/>\\n<circle clip-path=\\\"url(#clip642)\\\" cx=\\\"323.106\\\" cy=\\\"766.846\\\" r=\\\"14\\\" fill=\\\"#009af9\\\" fill-rule=\\\"evenodd\\\" fill-opacity=\\\"1\\\" stroke=\\\"#000000\\\" stroke-opacity=\\\"1\\\" stroke-width=\\\"3.2\\\"\\/>\\n<circle clip-path=\\\"url(#clip642)\\\" cx=\\\"1523.68\\\" cy=\\\"766.846\\\" r=\\\"14\\\" fill=\\\"#009af9\\\" fill-rule=\\\"evenodd\\\" fill-opacity=\\\"1\\\" stroke=\\\"#000000\\\" stroke-opacity=\\\"1\\\" stroke-width=\\\"3.2\\\"\\/>\\n<circle clip-path=\\\"url(#clip642)\\\" cx=\\\"2133.77\\\" cy=\\\"766.846\\\" r=\\\"14\\\" fill=\\\"#009af9\\\" fill-rule=\\\"evenodd\\\" fill-opacity=\\\"1\\\" stroke=\\\"#000000\\\" stroke-opacity=\\\"1\\\" stroke-width=\\\"3.2\\\"\\/>\\n<circle clip-path=\\\"url(#clip642)\\\" cx=\\\"1047.17\\\" cy=\\\"766.846\\\" r=\\\"14\\\" fill=\\\"#009af9\\\" fill-rule=\\\"evenodd\\\" fill-opacity=\\\"1\\\" stroke=\\\"#000000\\\" stroke-opacity=\\\"1\\\" stroke-width=\\\"3.2\\\"\\/>\\n<circle clip-path=\\\"url(#clip642)\\\" cx=\\\"1970.94\\\" cy=\\\"766.846\\\" r=\\\"14\\\" fill=\\\"#009af9\\\" fill-rule=\\\"evenodd\\\" fill-opacity=\\\"1\\\" stroke=\\\"#000000\\\" stroke-opacity=\\\"1\\\" stroke-width=\\\"3.2\\\"\\/>\\n<circle clip-path=\\\"url(#clip642)\\\" cx=\\\"1245.49\\\" cy=\\\"766.846\\\" r=\\\"14\\\" fill=\\\"#009af9\\\" fill-rule=\\\"evenodd\\\" fill-opacity=\\\"1\\\" stroke=\\\"#000000\\\" stroke-opacity=\\\"1\\\" stroke-width=\\\"3.2\\\"\\/>\\n<circle clip-path=\\\"url(#clip642)\\\" cx=\\\"1561.25\\\" cy=\\\"766.846\\\" r=\\\"14\\\" fill=\\\"#009af9\\\" fill-rule=\\\"evenodd\\\" fill-opacity=\\\"1\\\" stroke=\\\"#000000\\\" stroke-opacity=\\\"1\\\" stroke-width=\\\"3.2\\\"\\/>\\n<circle clip-path=\\\"url(#clip642)\\\" cx=\\\"1424.52\\\" cy=\\\"766.846\\\" r=\\\"14\\\" fill=\\\"#009af9\\\" fill-rule=\\\"evenodd\\\" fill-opacity=\\\"1\\\" stroke=\\\"#000000\\\" stroke-opacity=\\\"1\\\" stroke-width=\\\"3.2\\\"\\/>\\n<circle clip-path=\\\"url(#clip642)\\\" cx=\\\"1423.3\\\" cy=\\\"766.846\\\" r=\\\"14\\\" fill=\\\"#009af9\\\" fill-rule=\\\"evenodd\\\" fill-opacity=\\\"1\\\" stroke=\\\"#000000\\\" stroke-opacity=\\\"1\\\" stroke-width=\\\"3.2\\\"\\/>\\n<circle clip-path=\\\"url(#clip642)\\\" cx=\\\"950.878\\\" cy=\\\"766.846\\\" r=\\\"14\\\" fill=\\\"#009af9\\\" fill-rule=\\\"evenodd\\\" fill-opacity=\\\"1\\\" stroke=\\\"#000000\\\" stroke-opacity=\\\"1\\\" stroke-width=\\\"3.2\\\"\\/>\\n<circle clip-path=\\\"url(#clip642)\\\" cx=\\\"1224.46\\\" cy=\\\"766.846\\\" r=\\\"14\\\" fill=\\\"#009af9\\\" fill-rule=\\\"evenodd\\\" fill-opacity=\\\"1\\\" stroke=\\\"#000000\\\" stroke-opacity=\\\"1\\\" stroke-width=\\\"3.2\\\"\\/>\\n<circle clip-path=\\\"url(#clip642)\\\" cx=\\\"759.079\\\" cy=\\\"766.846\\\" r=\\\"14\\\" fill=\\\"#009af9\\\" fill-rule=\\\"evenodd\\\" fill-opacity=\\\"1\\\" stroke=\\\"#000000\\\" stroke-opacity=\\\"1\\\" stroke-width=\\\"3.2\\\"\\/>\\n<circle clip-path=\\\"url(#clip642)\\\" cx=\\\"1783.14\\\" cy=\\\"766.846\\\" r=\\\"14\\\" fill=\\\"#009af9\\\" fill-rule=\\\"evenodd\\\" fill-opacity=\\\"1\\\" stroke=\\\"#000000\\\" stroke-opacity=\\\"1\\\" stroke-width=\\\"3.2\\\"\\/>\\n<circle clip-path=\\\"url(#clip642)\\\" cx=\\\"886.461\\\" cy=\\\"766.846\\\" r=\\\"14\\\" fill=\\\"#009af9\\\" fill-rule=\\\"evenodd\\\" fill-opacity=\\\"1\\\" stroke=\\\"#000000\\\" stroke-opacity=\\\"1\\\" stroke-width=\\\"3.2\\\"\\/>\\n<circle clip-path=\\\"url(#clip642)\\\" cx=\\\"1623.34\\\" cy=\\\"766.846\\\" r=\\\"14\\\" fill=\\\"#009af9\\\" fill-rule=\\\"evenodd\\\" fill-opacity=\\\"1\\\" stroke=\\\"#000000\\\" stroke-opacity=\\\"1\\\" stroke-width=\\\"3.2\\\"\\/>\\n<circle clip-path=\\\"url(#clip642)\\\" cx=\\\"336.155\\\" cy=\\\"766.846\\\" r=\\\"14\\\" fill=\\\"#009af9\\\" fill-rule=\\\"evenodd\\\" fill-opacity=\\\"1\\\" stroke=\\\"#000000\\\" stroke-opacity=\\\"1\\\" stroke-width=\\\"3.2\\\"\\/>\\n<circle clip-path=\\\"url(#clip642)\\\" cx=\\\"264.761\\\" cy=\\\"766.846\\\" r=\\\"14\\\" fill=\\\"#009af9\\\" fill-rule=\\\"evenodd\\\" fill-opacity=\\\"1\\\" stroke=\\\"#000000\\\" stroke-opacity=\\\"1\\\" stroke-width=\\\"3.2\\\"\\/>\\n<circle clip-path=\\\"url(#clip642)\\\" cx=\\\"2172.48\\\" cy=\\\"766.846\\\" r=\\\"14\\\" fill=\\\"#009af9\\\" fill-rule=\\\"evenodd\\\" fill-opacity=\\\"1\\\" stroke=\\\"#000000\\\" stroke-opacity=\\\"1\\\" stroke-width=\\\"3.2\\\"\\/>\\n<circle clip-path=\\\"url(#clip642)\\\" cx=\\\"1391.19\\\" cy=\\\"766.846\\\" r=\\\"14\\\" fill=\\\"#009af9\\\" fill-rule=\\\"evenodd\\\" fill-opacity=\\\"1\\\" stroke=\\\"#000000\\\" stroke-opacity=\\\"1\\\" stroke-width=\\\"3.2\\\"\\/>\\n<circle clip-path=\\\"url(#clip642)\\\" cx=\\\"1970.93\\\" cy=\\\"766.846\\\" r=\\\"14\\\" fill=\\\"#009af9\\\" fill-rule=\\\"evenodd\\\" fill-opacity=\\\"1\\\" stroke=\\\"#000000\\\" stroke-opacity=\\\"1\\\" stroke-width=\\\"3.2\\\"\\/>\\n<circle clip-path=\\\"url(#clip642)\\\" cx=\\\"281.409\\\" cy=\\\"766.846\\\" r=\\\"14\\\" fill=\\\"#009af9\\\" fill-rule=\\\"evenodd\\\" fill-opacity=\\\"1\\\" stroke=\\\"#000000\\\" stroke-opacity=\\\"1\\\" stroke-width=\\\"3.2\\\"\\/>\\n<circle clip-path=\\\"url(#clip642)\\\" cx=\\\"478.291\\\" cy=\\\"766.846\\\" r=\\\"14\\\" fill=\\\"#009af9\\\" fill-rule=\\\"evenodd\\\" fill-opacity=\\\"1\\\" stroke=\\\"#000000\\\" stroke-opacity=\\\"1\\\" stroke-width=\\\"3.2\\\"\\/>\\n<circle clip-path=\\\"url(#clip642)\\\" cx=\\\"903.804\\\" cy=\\\"766.846\\\" r=\\\"14\\\" fill=\\\"#009af9\\\" fill-rule=\\\"evenodd\\\" fill-opacity=\\\"1\\\" stroke=\\\"#000000\\\" stroke-opacity=\\\"1\\\" stroke-width=\\\"3.2\\\"\\/>\\n<circle clip-path=\\\"url(#clip642)\\\" cx=\\\"2156.09\\\" cy=\\\"766.846\\\" r=\\\"14\\\" fill=\\\"#009af9\\\" fill-rule=\\\"evenodd\\\" fill-opacity=\\\"1\\\" stroke=\\\"#000000\\\" stroke-opacity=\\\"1\\\" stroke-width=\\\"3.2\\\"\\/>\\n<circle clip-path=\\\"url(#clip642)\\\" cx=\\\"1815.44\\\" cy=\\\"766.846\\\" r=\\\"14\\\" fill=\\\"#009af9\\\" fill-rule=\\\"evenodd\\\" fill-opacity=\\\"1\\\" stroke=\\\"#000000\\\" stroke-opacity=\\\"1\\\" stroke-width=\\\"3.2\\\"\\/>\\n<circle clip-path=\\\"url(#clip642)\\\" cx=\\\"2124.21\\\" cy=\\\"766.846\\\" r=\\\"14\\\" fill=\\\"#009af9\\\" fill-rule=\\\"evenodd\\\" fill-opacity=\\\"1\\\" stroke=\\\"#000000\\\" stroke-opacity=\\\"1\\\" stroke-width=\\\"3.2\\\"\\/>\\n<circle clip-path=\\\"url(#clip642)\\\" cx=\\\"1674.69\\\" cy=\\\"766.846\\\" r=\\\"14\\\" fill=\\\"#009af9\\\" fill-rule=\\\"evenodd\\\" fill-opacity=\\\"1\\\" stroke=\\\"#000000\\\" stroke-opacity=\\\"1\\\" stroke-width=\\\"3.2\\\"\\/>\\n<circle clip-path=\\\"url(#clip642)\\\" cx=\\\"1534.35\\\" cy=\\\"766.846\\\" r=\\\"14\\\" fill=\\\"#009af9\\\" fill-rule=\\\"evenodd\\\" fill-opacity=\\\"1\\\" stroke=\\\"#000000\\\" stroke-opacity=\\\"1\\\" stroke-width=\\\"3.2\\\"\\/>\\n<circle clip-path=\\\"url(#clip642)\\\" cx=\\\"1857.72\\\" cy=\\\"766.846\\\" r=\\\"14\\\" fill=\\\"#009af9\\\" fill-rule=\\\"evenodd\\\" fill-opacity=\\\"1\\\" stroke=\\\"#000000\\\" stroke-opacity=\\\"1\\\" stroke-width=\\\"3.2\\\"\\/>\\n<circle clip-path=\\\"url(#clip642)\\\" cx=\\\"1269.53\\\" cy=\\\"766.846\\\" r=\\\"14\\\" fill=\\\"#009af9\\\" fill-rule=\\\"evenodd\\\" fill-opacity=\\\"1\\\" stroke=\\\"#000000\\\" stroke-opacity=\\\"1\\\" stroke-width=\\\"3.2\\\"\\/>\\n<circle clip-path=\\\"url(#clip642)\\\" cx=\\\"1090.26\\\" cy=\\\"766.846\\\" r=\\\"14\\\" fill=\\\"#009af9\\\" fill-rule=\\\"evenodd\\\" fill-opacity=\\\"1\\\" stroke=\\\"#000000\\\" stroke-opacity=\\\"1\\\" stroke-width=\\\"3.2\\\"\\/>\\n<circle clip-path=\\\"url(#clip642)\\\" cx=\\\"1838.11\\\" cy=\\\"766.846\\\" r=\\\"14\\\" fill=\\\"#009af9\\\" fill-rule=\\\"evenodd\\\" fill-opacity=\\\"1\\\" stroke=\\\"#000000\\\" stroke-opacity=\\\"1\\\" stroke-width=\\\"3.2\\\"\\/>\\n<circle clip-path=\\\"url(#clip642)\\\" cx=\\\"1839.2\\\" cy=\\\"766.846\\\" r=\\\"14\\\" fill=\\\"#009af9\\\" fill-rule=\\\"evenodd\\\" fill-opacity=\\\"1\\\" stroke=\\\"#000000\\\" stroke-opacity=\\\"1\\\" stroke-width=\\\"3.2\\\"\\/>\\n<circle clip-path=\\\"url(#clip642)\\\" cx=\\\"762.855\\\" cy=\\\"766.846\\\" r=\\\"14\\\" fill=\\\"#009af9\\\" fill-rule=\\\"evenodd\\\" fill-opacity=\\\"1\\\" stroke=\\\"#000000\\\" stroke-opacity=\\\"1\\\" stroke-width=\\\"3.2\\\"\\/>\\n<circle clip-path=\\\"url(#clip642)\\\" cx=\\\"1986.44\\\" cy=\\\"766.846\\\" r=\\\"14\\\" fill=\\\"#009af9\\\" fill-rule=\\\"evenodd\\\" fill-opacity=\\\"1\\\" stroke=\\\"#000000\\\" stroke-opacity=\\\"1\\\" stroke-width=\\\"3.2\\\"\\/>\\n<circle clip-path=\\\"url(#clip642)\\\" cx=\\\"1763.9\\\" cy=\\\"766.846\\\" r=\\\"14\\\" fill=\\\"#009af9\\\" fill-rule=\\\"evenodd\\\" fill-opacity=\\\"1\\\" stroke=\\\"#000000\\\" stroke-opacity=\\\"1\\\" stroke-width=\\\"3.2\\\"\\/>\\n<circle clip-path=\\\"url(#clip642)\\\" cx=\\\"672.122\\\" cy=\\\"766.846\\\" r=\\\"14\\\" fill=\\\"#009af9\\\" fill-rule=\\\"evenodd\\\" fill-opacity=\\\"1\\\" stroke=\\\"#000000\\\" stroke-opacity=\\\"1\\\" stroke-width=\\\"3.2\\\"\\/>\\n<circle clip-path=\\\"url(#clip642)\\\" cx=\\\"794.155\\\" cy=\\\"766.846\\\" r=\\\"14\\\" fill=\\\"#009af9\\\" fill-rule=\\\"evenodd\\\" fill-opacity=\\\"1\\\" stroke=\\\"#000000\\\" stroke-opacity=\\\"1\\\" stroke-width=\\\"3.2\\\"\\/>\\n<circle clip-path=\\\"url(#clip642)\\\" cx=\\\"1163.04\\\" cy=\\\"766.846\\\" r=\\\"14\\\" fill=\\\"#009af9\\\" fill-rule=\\\"evenodd\\\" fill-opacity=\\\"1\\\" stroke=\\\"#000000\\\" stroke-opacity=\\\"1\\\" stroke-width=\\\"3.2\\\"\\/>\\n<circle clip-path=\\\"url(#clip642)\\\" cx=\\\"1155.95\\\" cy=\\\"766.846\\\" r=\\\"14\\\" fill=\\\"#009af9\\\" fill-rule=\\\"evenodd\\\" fill-opacity=\\\"1\\\" stroke=\\\"#000000\\\" stroke-opacity=\\\"1\\\" stroke-width=\\\"3.2\\\"\\/>\\n<circle clip-path=\\\"url(#clip642)\\\" cx=\\\"1247.99\\\" cy=\\\"766.846\\\" r=\\\"14\\\" fill=\\\"#009af9\\\" fill-rule=\\\"evenodd\\\" fill-opacity=\\\"1\\\" stroke=\\\"#000000\\\" stroke-opacity=\\\"1\\\" stroke-width=\\\"3.2\\\"\\/>\\n<circle clip-path=\\\"url(#clip642)\\\" cx=\\\"235.221\\\" cy=\\\"766.846\\\" r=\\\"14\\\" fill=\\\"#009af9\\\" fill-rule=\\\"evenodd\\\" fill-opacity=\\\"1\\\" stroke=\\\"#000000\\\" stroke-opacity=\\\"1\\\" stroke-width=\\\"3.2\\\"\\/>\\n<circle clip-path=\\\"url(#clip642)\\\" cx=\\\"623.722\\\" cy=\\\"766.846\\\" r=\\\"14\\\" fill=\\\"#009af9\\\" fill-rule=\\\"evenodd\\\" fill-opacity=\\\"1\\\" stroke=\\\"#000000\\\" stroke-opacity=\\\"1\\\" stroke-width=\\\"3.2\\\"\\/>\\n<circle clip-path=\\\"url(#clip642)\\\" cx=\\\"285.385\\\" cy=\\\"766.846\\\" r=\\\"14\\\" fill=\\\"#009af9\\\" fill-rule=\\\"evenodd\\\" fill-opacity=\\\"1\\\" stroke=\\\"#000000\\\" stroke-opacity=\\\"1\\\" stroke-width=\\\"3.2\\\"\\/>\\n<path clip-path=\\\"url(#clip640)\\\" d=\\\"\\nM1983.32 216.178 L2279.28 216.178 L2279.28 95.2176 L1983.32 95.2176  Z\\n  \\\" fill=\\\"#ffffff\\\" fill-rule=\\\"evenodd\\\" fill-opacity=\\\"1\\\"\\/>\\n<polyline clip-path=\\\"url(#clip640)\\\" style=\\\"stroke:#000000; stroke-width:4; stroke-opacity:1; fill:none\\\" points=\\\"\\n  1983.32,216.178 2279.28,216.178 2279.28,95.2176 1983.32,95.2176 1983.32,216.178 \\n  \\\"\\/>\\n<circle clip-path=\\\"url(#clip640)\\\" cx=\\\"2081.3\\\" cy=\\\"155.698\\\" r=\\\"23\\\" fill=\\\"#009af9\\\" fill-rule=\\\"evenodd\\\" fill-opacity=\\\"1\\\" stroke=\\\"#000000\\\" stroke-opacity=\\\"1\\\" stroke-width=\\\"5.12\\\"\\/>\\n<path clip-path=\\\"url(#clip640)\\\" d=\\\"M 0 0 M2193.11 175.385 Q2191.31 180.015 2189.59 181.427 Q2187.88 182.839 2185.01 182.839 L2181.61 182.839 L2181.61 179.274 L2184.11 179.274 Q2185.87 179.274 2186.84 178.44 Q2187.81 177.607 2188.99 174.505 L2189.76 172.561 L2179.27 147.052 L2183.78 147.052 L2191.89 167.329 L2199.99 147.052 L2204.5 147.052 L2193.11 175.385 Z\\\" fill=\\\"#000000\\\" fill-rule=\\\"evenodd\\\" fill-opacity=\\\"1\\\" \\/><path clip-path=\\\"url(#clip640)\\\" d=\\\"M 0 0 M2210.38 169.042 L2218.02 169.042 L2218.02 142.677 L2209.71 144.343 L2209.71 140.084 L2217.97 138.418 L2222.65 138.418 L2222.65 169.042 L2230.29 169.042 L2230.29 172.978 L2210.38 172.978 L2210.38 169.042 Z\\\" fill=\\\"#000000\\\" fill-rule=\\\"evenodd\\\" fill-opacity=\\\"1\\\" \\/><\\/svg>\\n\"},\"nodeType\":\"DOM\",\"type\":\"node\",\"instanceArgs\":{\"namespace\":\"html\",\"tag\":\"div\"},\"children\":[]}]}}}},\"children\":[{\"props\":{},\"nodeType\":\"ObservableNode\",\"type\":\"node\",\"instanceArgs\":{\"id\":\"7305369333541488841\",\"name\":\"obs-node\"},\"children\":[]}]}]},\n",
       "            window,\n",
       "        );\n",
       "    } else {\n",
       "        document\n",
       "            .querySelector('[data-webio-mountpoint=\"5037931127798398826\"]')\n",
       "            .innerHTML = (\n",
       "                '<div style=\"padding: 1em; background-color: #f8d6da; border: 1px solid #f5c6cb\">' +\n",
       "                '<p><strong>WebIO not detected.</strong></p>' +\n",
       "                '<p>Please read ' +\n",
       "                '<a href=\"https://juliagizmos.github.io/WebIO.jl/latest/troubleshooting/not-detected/\" target=\"_blank\">the troubleshooting guide</a> ' +\n",
       "                'for more information on how to resolve this issue.</p>' +\n",
       "                '<p><a href=\"https://juliagizmos.github.io/WebIO.jl/latest/troubleshooting/not-detected/\" target=\"_blank\">https://juliagizmos.github.io/WebIO.jl/latest/troubleshooting/not-detected/</a></p>' +\n",
       "                '</div>'\n",
       "            );\n",
       "    }\n",
       "    </script>\n",
       "</div>\n"
      ],
      "text/plain": [
       "Node{WebIO.DOM}(WebIO.DOM(:html, :div), Any[Node{WebIO.DOM}(WebIO.DOM(:html, :div), Any[Scope(Node{WebIO.DOM}(WebIO.DOM(:html, :div), Any[Node{WebIO.DOM}(WebIO.DOM(:html, :div), Any[Node{WebIO.DOM}(WebIO.DOM(:html, :label), Any[\"n\"], Dict{Symbol, Any}(:className => \"interact \", :style => Dict{Any, Any}(:padding => \"5px 10px 0px 10px\")))], Dict{Symbol, Any}(:className => \"interact-flex-row-left\")), Node{WebIO.DOM}(WebIO.DOM(:html, :div), Any[Node{WebIO.DOM}(WebIO.DOM(:html, :input), Any[], Dict{Symbol, Any}(:max => 100, :min => 1, :attributes => Dict{Any, Any}(:type => \"range\", Symbol(\"data-bind\") => \"numericValue: index, valueUpdate: 'input', event: {change: function (){this.changes(this.changes()+1)}}\", \"orient\" => \"horizontal\"), :step => 1, :className => \"slider slider is-fullwidth\", :style => Dict{Any, Any}()))], Dict{Symbol, Any}(:className => \"interact-flex-row-center\")), Node{WebIO.DOM}(WebIO.DOM(:html, :div), Any[Node{WebIO.DOM}(WebIO.DOM(:html, :p), Any[], Dict{Symbol, Any}(:attributes => Dict(\"data-bind\" => \"text: formatted_val\")))], Dict{Symbol, Any}(:className => \"interact-flex-row-right\"))], Dict{Symbol, Any}(:className => \"interact-flex-row interact-widget\")), Dict{String, Tuple{Observables.AbstractObservable, Union{Nothing, Bool}}}(\"changes\" => (Observable{Int64} with 1 listeners. Value:\n",
       "0, nothing), \"index\" => (Observable{Int64} with 2 listeners. Value:\n",
       "50, nothing)), Set{String}(), nothing, Asset[Asset(\"js\", \"knockout\", \"/home/marcon/.julia/packages/Knockout/IP1uR/src/../assets/knockout.js\"), Asset(\"js\", \"knockout_punches\", \"/home/marcon/.julia/packages/Knockout/IP1uR/src/../assets/knockout_punches.js\"), Asset(\"js\", nothing, \"/home/marcon/.julia/packages/InteractBase/Zfu5P/src/../assets/all.js\"), Asset(\"css\", nothing, \"/home/marcon/.julia/packages/InteractBase/Zfu5P/src/../assets/style.css\"), Asset(\"css\", nothing, \"/home/marcon/.julia/packages/Interact/SbgIk/src/../assets/bulma_confined.min.css\")], Dict{Any, Any}(\"changes\" => Any[WebIO.JSString(\"(function (val){return (val!=this.model[\\\"changes\\\"]()) ? (this.valueFromJulia[\\\"changes\\\"]=true, this.model[\\\"changes\\\"](val)) : undefined})\")], \"index\" => Any[WebIO.JSString(\"(function (val){return (val!=this.model[\\\"index\\\"]()) ? (this.valueFromJulia[\\\"index\\\"]=true, this.model[\\\"index\\\"](val)) : undefined})\")]), WebIO.ConnectionPool(Channel{Any}(32), Set{AbstractConnection}(), Condition(Base.InvasiveLinkedList{Task}(Task (runnable) @0x00007f1f05845510, Task (runnable) @0x00007f1f05845510), Base.AlwaysLockedST(1))), WebIO.JSString[WebIO.JSString(\"function () {\\n    var handler = (function (ko, koPunches) {\\n    ko.punches.enableAll();\\n    ko.bindingHandlers.numericValue = {\\n        init: function(element, valueAccessor, allBindings, data, context) {\\n            var stringified = ko.observable(ko.unwrap(valueAccessor()));\\n            stringified.subscribe(function(value) {\\n                var val = parseFloat(value);\\n                if (!isNaN(val)) {\\n                    valueAccessor()(val);\\n                }\\n            });\\n            valueAccessor().subscribe(function(value) {\\n                var str = JSON.stringify(value);\\n                if ((str == \\\"0\\\") && ([\\\"-0\\\", \\\"-0.\\\"].indexOf(stringified()) >= 0))\\n                     return;\\n                 if ([\\\"null\\\", \\\"\\\"].indexOf(str) >= 0)\\n                     return;\\n                stringified(str);\\n            });\\n            ko.applyBindingsToNode(\\n                element,\\n                {\\n                    value: stringified,\\n                    valueUpdate: allBindings.get('valueUpdate'),\\n                },\\n                context,\\n            );\\n        }\\n    };\\n    var json_data = {\\\"formatted_vals\\\":[\\\"1\\\",\\\"2\\\",\\\"3\\\",\\\"4\\\",\\\"5\\\",\\\"6\\\",\\\"7\\\",\\\"8\\\",\\\"9\\\",\\\"10\\\",\\\"11\\\",\\\"12\\\",\\\"13\\\",\\\"14\\\",\\\"15\\\",\\\"16\\\",\\\"17\\\",\\\"18\\\",\\\"19\\\",\\\"20\\\",\\\"21\\\",\\\"22\\\",\\\"23\\\",\\\"24\\\",\\\"25\\\",\\\"26\\\",\\\"27\\\",\\\"28\\\",\\\"29\\\",\\\"30\\\",\\\"31\\\",\\\"32\\\",\\\"33\\\",\\\"34\\\",\\\"35\\\",\\\"36\\\",\\\"37\\\",\\\"38\\\",\\\"39\\\",\\\"40\\\",\\\"41\\\",\\\"42\\\",\\\"43\\\",\\\"44\\\",\\\"45\\\",\\\"46\\\",\\\"47\\\",\\\"48\\\",\\\"49\\\",\\\"50\\\",\\\"51\\\",\\\"52\\\",\\\"53\\\",\\\"54\\\",\\\"55\\\",\\\"56\\\",\\\"57\\\",\\\"58\\\",\\\"59\\\",\\\"60\\\",\\\"61\\\",\\\"62\\\",\\\"63\\\",\\\"64\\\",\\\"65\\\",\\\"66\\\",\\\"67\\\",\\\"68\\\",\\\"69\\\",\\\"70\\\",\\\"71\\\",\\\"72\\\",\\\"73\\\",\\\"74\\\",\\\"75\\\",\\\"76\\\",\\\"77\\\",\\\"78\\\",\\\"79\\\",\\\"80\\\",\\\"81\\\",\\\"82\\\",\\\"83\\\",\\\"84\\\",\\\"85\\\",\\\"86\\\",\\\"87\\\",\\\"88\\\",\\\"89\\\",\\\"90\\\",\\\"91\\\",\\\"92\\\",\\\"93\\\",\\\"94\\\",\\\"95\\\",\\\"96\\\",\\\"97\\\",\\\"98\\\",\\\"99\\\",\\\"100\\\"],\\\"changes\\\":WebIO.getval({\\\"name\\\":\\\"changes\\\",\\\"scope\\\":\\\"817315128134509897\\\",\\\"id\\\":\\\"1242849836371122333\\\",\\\"type\\\":\\\"observable\\\"}),\\\"index\\\":WebIO.getval({\\\"name\\\":\\\"index\\\",\\\"scope\\\":\\\"817315128134509897\\\",\\\"id\\\":\\\"5689825914062061169\\\",\\\"type\\\":\\\"observable\\\"})};\\n    var self = this;\\n    function AppViewModel() {\\n        for (var key in json_data) {\\n            var el = json_data[key];\\n            this[key] = Array.isArray(el) ? ko.observableArray(el) : ko.observable(el);\\n        }\\n        \\n        [this[\\\"formatted_val\\\"]=ko.computed(    function(){\\n        return this.formatted_vals()[parseInt(this.index())-(1)];\\n    }\\n,this)]\\n        [this[\\\"changes\\\"].subscribe((function (val){!(this.valueFromJulia[\\\"changes\\\"]) ? (WebIO.setval({\\\"name\\\":\\\"changes\\\",\\\"scope\\\":\\\"817315128134509897\\\",\\\"id\\\":\\\"1242849836371122333\\\",\\\"type\\\":\\\"observable\\\"},val)) : undefined; return this.valueFromJulia[\\\"changes\\\"]=false}),self),this[\\\"index\\\"].subscribe((function (val){!(this.valueFromJulia[\\\"index\\\"]) ? (WebIO.setval({\\\"name\\\":\\\"index\\\",\\\"scope\\\":\\\"817315128134509897\\\",\\\"id\\\":\\\"5689825914062061169\\\",\\\"type\\\":\\\"observable\\\"},val)) : undefined; return this.valueFromJulia[\\\"index\\\"]=false}),self)]\\n        \\n    }\\n    self.model = new AppViewModel();\\n    self.valueFromJulia = {};\\n    for (var key in json_data) {\\n        self.valueFromJulia[key] = false;\\n    }\\n    ko.applyBindings(self.model, self.dom);\\n}\\n);\\n    (WebIO.importBlock({\\\"data\\\":[{\\\"name\\\":\\\"knockout\\\",\\\"type\\\":\\\"js\\\",\\\"url\\\":\\\"/assetserver/4e15ea8f38f5d33bf0b2930cb09c8089f78b114e-knockout.js\\\"},{\\\"name\\\":\\\"knockout_punches\\\",\\\"type\\\":\\\"js\\\",\\\"url\\\":\\\"/assetserver/6967e46b2259ea2e5c469b61c410326b52955db7-knockout_punches.js\\\"}],\\\"type\\\":\\\"async_block\\\"})).then((imports) => handler.apply(this, imports));\\n}\\n\")])], Dict{Symbol, Any}(:className => \"field interact-widget\")), Observable{Any} with 0 listeners. Value:\n",
       "Node{WebIO.DOM}(WebIO.DOM(:html, :div), Any[Plot{Plots.GRBackend() n=1}], Dict{Symbol, Any}(:className => \"interact-flex-row interact-widget\"))], Dict{Symbol, Any}())"
      ]
     },
     "execution_count": 37,
     "metadata": {
      "@webio": {
       "kernelId": "7fa8fe9e-41fc-430a-b33b-f0b95edc8e1b"
      }
     },
     "output_type": "execute_result"
    }
   ],
   "source": [
    "Nₚₒᵢₙₜₛ = 100\n",
    "r = rand(Nₚₒᵢₙₜₛ)\n",
    "\n",
    "@manipulate for n in 1:Nₚₒᵢₙₜₛ\n",
    "    scatter(r[1:n], 0.5 * one.(r[1:n]), ylim=(0,1), xlim=(0,1))\n",
    "end"
   ]
  },
  {
   "cell_type": "code",
   "execution_count": 38,
   "metadata": {},
   "outputs": [
    {
     "data": {
      "application/vnd.webio.node+json": {
       "children": [
        {
         "children": [
          {
           "children": [
            {
             "children": [
              {
               "children": [
                {
                 "children": [
                  "n"
                 ],
                 "instanceArgs": {
                  "namespace": "html",
                  "tag": "label"
                 },
                 "nodeType": "DOM",
                 "props": {
                  "className": "interact ",
                  "style": {
                   "padding": "5px 10px 0px 10px"
                  }
                 },
                 "type": "node"
                }
               ],
               "instanceArgs": {
                "namespace": "html",
                "tag": "div"
               },
               "nodeType": "DOM",
               "props": {
                "className": "interact-flex-row-left"
               },
               "type": "node"
              },
              {
               "children": [
                {
                 "children": [],
                 "instanceArgs": {
                  "namespace": "html",
                  "tag": "input"
                 },
                 "nodeType": "DOM",
                 "props": {
                  "attributes": {
                   "data-bind": "numericValue: index, valueUpdate: 'input', event: {change: function (){this.changes(this.changes()+1)}}",
                   "orient": "horizontal",
                   "type": "range"
                  },
                  "className": "slider slider is-fullwidth",
                  "max": 100,
                  "min": 1,
                  "step": 1,
                  "style": {}
                 },
                 "type": "node"
                }
               ],
               "instanceArgs": {
                "namespace": "html",
                "tag": "div"
               },
               "nodeType": "DOM",
               "props": {
                "className": "interact-flex-row-center"
               },
               "type": "node"
              },
              {
               "children": [
                {
                 "children": [],
                 "instanceArgs": {
                  "namespace": "html",
                  "tag": "p"
                 },
                 "nodeType": "DOM",
                 "props": {
                  "attributes": {
                   "data-bind": "text: formatted_val"
                  }
                 },
                 "type": "node"
                }
               ],
               "instanceArgs": {
                "namespace": "html",
                "tag": "div"
               },
               "nodeType": "DOM",
               "props": {
                "className": "interact-flex-row-right"
               },
               "type": "node"
              }
             ],
             "instanceArgs": {
              "namespace": "html",
              "tag": "div"
             },
             "nodeType": "DOM",
             "props": {
              "className": "interact-flex-row interact-widget"
             },
             "type": "node"
            }
           ],
           "instanceArgs": {
            "handlers": {
             "changes": [
              "(function (val){return (val!=this.model[\"changes\"]()) ? (this.valueFromJulia[\"changes\"]=true, this.model[\"changes\"](val)) : undefined})"
             ],
             "index": [
              "(function (val){return (val!=this.model[\"index\"]()) ? (this.valueFromJulia[\"index\"]=true, this.model[\"index\"](val)) : undefined})"
             ]
            },
            "id": "4812091332554349266",
            "imports": {
             "data": [
              {
               "name": "knockout",
               "type": "js",
               "url": "/assetserver/4e15ea8f38f5d33bf0b2930cb09c8089f78b114e-knockout.js"
              },
              {
               "name": "knockout_punches",
               "type": "js",
               "url": "/assetserver/6967e46b2259ea2e5c469b61c410326b52955db7-knockout_punches.js"
              },
              {
               "name": null,
               "type": "js",
               "url": "/assetserver/a643ec32b5fd67f0647ab1f378e6bc75a94bf7ef-all.js"
              },
              {
               "name": null,
               "type": "css",
               "url": "/assetserver/c4a428321098a6b37c6165665184ef1be8f91e08-style.css"
              },
              {
               "name": null,
               "type": "css",
               "url": "/assetserver/62690f06d5dfb4c711812ef88e307907ed9b059b-bulma_confined.min.css"
              }
             ],
             "type": "async_block"
            },
            "mount_callbacks": [
             "function () {\n    var handler = (function (ko, koPunches) {\n    ko.punches.enableAll();\n    ko.bindingHandlers.numericValue = {\n        init: function(element, valueAccessor, allBindings, data, context) {\n            var stringified = ko.observable(ko.unwrap(valueAccessor()));\n            stringified.subscribe(function(value) {\n                var val = parseFloat(value);\n                if (!isNaN(val)) {\n                    valueAccessor()(val);\n                }\n            });\n            valueAccessor().subscribe(function(value) {\n                var str = JSON.stringify(value);\n                if ((str == \"0\") && ([\"-0\", \"-0.\"].indexOf(stringified()) >= 0))\n                     return;\n                 if ([\"null\", \"\"].indexOf(str) >= 0)\n                     return;\n                stringified(str);\n            });\n            ko.applyBindingsToNode(\n                element,\n                {\n                    value: stringified,\n                    valueUpdate: allBindings.get('valueUpdate'),\n                },\n                context,\n            );\n        }\n    };\n    var json_data = {\"formatted_vals\":[\"1\",\"2\",\"3\",\"4\",\"5\",\"6\",\"7\",\"8\",\"9\",\"10\",\"11\",\"12\",\"13\",\"14\",\"15\",\"16\",\"17\",\"18\",\"19\",\"20\",\"21\",\"22\",\"23\",\"24\",\"25\",\"26\",\"27\",\"28\",\"29\",\"30\",\"31\",\"32\",\"33\",\"34\",\"35\",\"36\",\"37\",\"38\",\"39\",\"40\",\"41\",\"42\",\"43\",\"44\",\"45\",\"46\",\"47\",\"48\",\"49\",\"50\",\"51\",\"52\",\"53\",\"54\",\"55\",\"56\",\"57\",\"58\",\"59\",\"60\",\"61\",\"62\",\"63\",\"64\",\"65\",\"66\",\"67\",\"68\",\"69\",\"70\",\"71\",\"72\",\"73\",\"74\",\"75\",\"76\",\"77\",\"78\",\"79\",\"80\",\"81\",\"82\",\"83\",\"84\",\"85\",\"86\",\"87\",\"88\",\"89\",\"90\",\"91\",\"92\",\"93\",\"94\",\"95\",\"96\",\"97\",\"98\",\"99\",\"100\"],\"changes\":WebIO.getval({\"name\":\"changes\",\"scope\":\"4812091332554349266\",\"id\":\"15441355439567862143\",\"type\":\"observable\"}),\"index\":WebIO.getval({\"name\":\"index\",\"scope\":\"4812091332554349266\",\"id\":\"2810360115166225567\",\"type\":\"observable\"})};\n    var self = this;\n    function AppViewModel() {\n        for (var key in json_data) {\n            var el = json_data[key];\n            this[key] = Array.isArray(el) ? ko.observableArray(el) : ko.observable(el);\n        }\n        \n        [this[\"formatted_val\"]=ko.computed(    function(){\n        return this.formatted_vals()[parseInt(this.index())-(1)];\n    }\n,this)]\n        [this[\"changes\"].subscribe((function (val){!(this.valueFromJulia[\"changes\"]) ? (WebIO.setval({\"name\":\"changes\",\"scope\":\"4812091332554349266\",\"id\":\"15441355439567862143\",\"type\":\"observable\"},val)) : undefined; return this.valueFromJulia[\"changes\"]=false}),self),this[\"index\"].subscribe((function (val){!(this.valueFromJulia[\"index\"]) ? (WebIO.setval({\"name\":\"index\",\"scope\":\"4812091332554349266\",\"id\":\"2810360115166225567\",\"type\":\"observable\"},val)) : undefined; return this.valueFromJulia[\"index\"]=false}),self)]\n        \n    }\n    self.model = new AppViewModel();\n    self.valueFromJulia = {};\n    for (var key in json_data) {\n        self.valueFromJulia[key] = false;\n    }\n    ko.applyBindings(self.model, self.dom);\n}\n);\n    (WebIO.importBlock({\"data\":[{\"name\":\"knockout\",\"type\":\"js\",\"url\":\"/assetserver/4e15ea8f38f5d33bf0b2930cb09c8089f78b114e-knockout.js\"},{\"name\":\"knockout_punches\",\"type\":\"js\",\"url\":\"/assetserver/6967e46b2259ea2e5c469b61c410326b52955db7-knockout_punches.js\"}],\"type\":\"async_block\"})).then((imports) => handler.apply(this, imports));\n}\n"
            ],
            "observables": {
             "changes": {
              "id": "15441355439567862143",
              "sync": false,
              "value": 0
             },
             "index": {
              "id": "2810360115166225567",
              "sync": true,
              "value": 50
             }
            },
            "systemjs_options": null
           },
           "nodeType": "Scope",
           "props": {},
           "type": "node"
          }
         ],
         "instanceArgs": {
          "namespace": "html",
          "tag": "div"
         },
         "nodeType": "DOM",
         "props": {
          "className": "field interact-widget"
         },
         "type": "node"
        },
        {
         "children": [
          {
           "children": [],
           "instanceArgs": {
            "id": "1055035898779796401",
            "name": "obs-node"
           },
           "nodeType": "ObservableNode",
           "props": {},
           "type": "node"
          }
         ],
         "instanceArgs": {
          "handlers": {},
          "id": "5581014719494266060",
          "imports": {
           "data": [],
           "type": "async_block"
          },
          "mount_callbacks": [],
          "observables": {
           "obs-node": {
            "id": "1055035898779796401",
            "sync": false,
            "value": {
             "children": [
              {
               "children": [],
               "instanceArgs": {
                "namespace": "html",
                "tag": "div"
               },
               "nodeType": "DOM",
               "props": {
                "setInnerHtml": "<?xml version=\"1.0\" encoding=\"utf-8\"?>\n<svg xmlns=\"http://www.w3.org/2000/svg\" xmlns:xlink=\"http://www.w3.org/1999/xlink\" width=\"600\" height=\"400\" viewBox=\"0 0 2400 1600\">\n<defs>\n  <clipPath id=\"clip280\">\n    <rect x=\"0\" y=\"0\" width=\"2400\" height=\"1600\"/>\n  </clipPath>\n</defs>\n<path clip-path=\"url(#clip280)\" d=\"\nM0 1600 L2400 1600 L2400 0 L0 0  Z\n  \" fill=\"#ffffff\" fill-rule=\"evenodd\" fill-opacity=\"1\"/>\n<defs>\n  <clipPath id=\"clip281\">\n    <rect x=\"480\" y=\"0\" width=\"1681\" height=\"1600\"/>\n  </clipPath>\n</defs>\n<path clip-path=\"url(#clip280)\" d=\"\nM148.334 1486.45 L2352.76 1486.45 L2352.76 47.2441 L148.334 47.2441  Z\n  \" fill=\"#ffffff\" fill-rule=\"evenodd\" fill-opacity=\"1\"/>\n<defs>\n  <clipPath id=\"clip282\">\n    <rect x=\"148\" y=\"47\" width=\"2205\" height=\"1440\"/>\n  </clipPath>\n</defs>\n<polyline clip-path=\"url(#clip282)\" style=\"stroke:#000000; stroke-width:2; stroke-opacity:0.1; fill:none\" points=\"\n  148.334,1486.45 148.334,47.2441 \n  \"/>\n<polyline clip-path=\"url(#clip282)\" style=\"stroke:#000000; stroke-width:2; stroke-opacity:0.1; fill:none\" points=\"\n  589.219,1486.45 589.219,47.2441 \n  \"/>\n<polyline clip-path=\"url(#clip282)\" style=\"stroke:#000000; stroke-width:2; stroke-opacity:0.1; fill:none\" points=\"\n  1030.1,1486.45 1030.1,47.2441 \n  \"/>\n<polyline clip-path=\"url(#clip282)\" style=\"stroke:#000000; stroke-width:2; stroke-opacity:0.1; fill:none\" points=\"\n  1470.99,1486.45 1470.99,47.2441 \n  \"/>\n<polyline clip-path=\"url(#clip282)\" style=\"stroke:#000000; stroke-width:2; stroke-opacity:0.1; fill:none\" points=\"\n  1911.87,1486.45 1911.87,47.2441 \n  \"/>\n<polyline clip-path=\"url(#clip282)\" style=\"stroke:#000000; stroke-width:2; stroke-opacity:0.1; fill:none\" points=\"\n  2352.76,1486.45 2352.76,47.2441 \n  \"/>\n<polyline clip-path=\"url(#clip280)\" style=\"stroke:#000000; stroke-width:4; stroke-opacity:1; fill:none\" points=\"\n  148.334,1486.45 2352.76,1486.45 \n  \"/>\n<polyline clip-path=\"url(#clip280)\" style=\"stroke:#000000; stroke-width:4; stroke-opacity:1; fill:none\" points=\"\n  148.334,1486.45 148.334,1469.18 \n  \"/>\n<polyline clip-path=\"url(#clip280)\" style=\"stroke:#000000; stroke-width:4; stroke-opacity:1; fill:none\" points=\"\n  589.219,1486.45 589.219,1469.18 \n  \"/>\n<polyline clip-path=\"url(#clip280)\" style=\"stroke:#000000; stroke-width:4; stroke-opacity:1; fill:none\" points=\"\n  1030.1,1486.45 1030.1,1469.18 \n  \"/>\n<polyline clip-path=\"url(#clip280)\" style=\"stroke:#000000; stroke-width:4; stroke-opacity:1; fill:none\" points=\"\n  1470.99,1486.45 1470.99,1469.18 \n  \"/>\n<polyline clip-path=\"url(#clip280)\" style=\"stroke:#000000; stroke-width:4; stroke-opacity:1; fill:none\" points=\"\n  1911.87,1486.45 1911.87,1469.18 \n  \"/>\n<polyline clip-path=\"url(#clip280)\" style=\"stroke:#000000; stroke-width:4; stroke-opacity:1; fill:none\" points=\"\n  2352.76,1486.45 2352.76,1469.18 \n  \"/>\n<path clip-path=\"url(#clip280)\" d=\"M 0 0 M129.851 1515.64 Q126.24 1515.64 124.411 1519.2 Q122.605 1522.75 122.605 1529.87 Q122.605 1536.98 124.411 1540.55 Q126.24 1544.09 129.851 1544.09 Q133.485 1544.09 135.29 1540.55 Q137.119 1536.98 137.119 1529.87 Q137.119 1522.75 135.29 1519.2 Q133.485 1515.64 129.851 1515.64 M129.851 1511.93 Q135.661 1511.93 138.716 1516.54 Q141.795 1521.12 141.795 1529.87 Q141.795 1538.6 138.716 1543.21 Q135.661 1547.79 129.851 1547.79 Q124.041 1547.79 120.962 1543.21 Q117.906 1538.6 117.906 1529.87 Q117.906 1521.12 120.962 1516.54 Q124.041 1511.93 129.851 1511.93 Z\" fill=\"#000000\" fill-rule=\"evenodd\" fill-opacity=\"1\" /><path clip-path=\"url(#clip280)\" d=\"M 0 0 M146.864 1541.24 L151.749 1541.24 L151.749 1547.12 L146.864 1547.12 L146.864 1541.24 Z\" fill=\"#000000\" fill-rule=\"evenodd\" fill-opacity=\"1\" /><path clip-path=\"url(#clip280)\" d=\"M 0 0 M166.818 1515.64 Q163.207 1515.64 161.378 1519.2 Q159.573 1522.75 159.573 1529.87 Q159.573 1536.98 161.378 1540.55 Q163.207 1544.09 166.818 1544.09 Q170.452 1544.09 172.258 1540.55 Q174.087 1536.98 174.087 1529.87 Q174.087 1522.75 172.258 1519.2 Q170.452 1515.64 166.818 1515.64 M166.818 1511.93 Q172.628 1511.93 175.684 1516.54 Q178.762 1521.12 178.762 1529.87 Q178.762 1538.6 175.684 1543.21 Q172.628 1547.79 166.818 1547.79 Q161.008 1547.79 157.929 1543.21 Q154.874 1538.6 154.874 1529.87 Q154.874 1521.12 157.929 1516.54 Q161.008 1511.93 166.818 1511.93 Z\" fill=\"#000000\" fill-rule=\"evenodd\" fill-opacity=\"1\" /><path clip-path=\"url(#clip280)\" d=\"M 0 0 M571.534 1515.64 Q567.923 1515.64 566.094 1519.2 Q564.288 1522.75 564.288 1529.87 Q564.288 1536.98 566.094 1540.55 Q567.923 1544.09 571.534 1544.09 Q575.168 1544.09 576.973 1540.55 Q578.802 1536.98 578.802 1529.87 Q578.802 1522.75 576.973 1519.2 Q575.168 1515.64 571.534 1515.64 M571.534 1511.93 Q577.344 1511.93 580.399 1516.54 Q583.478 1521.12 583.478 1529.87 Q583.478 1538.6 580.399 1543.21 Q577.344 1547.79 571.534 1547.79 Q565.723 1547.79 562.645 1543.21 Q559.589 1538.6 559.589 1529.87 Q559.589 1521.12 562.645 1516.54 Q565.723 1511.93 571.534 1511.93 Z\" fill=\"#000000\" fill-rule=\"evenodd\" fill-opacity=\"1\" /><path clip-path=\"url(#clip280)\" d=\"M 0 0 M588.547 1541.24 L593.432 1541.24 L593.432 1547.12 L588.547 1547.12 L588.547 1541.24 Z\" fill=\"#000000\" fill-rule=\"evenodd\" fill-opacity=\"1\" /><path clip-path=\"url(#clip280)\" d=\"M 0 0 M602.529 1543.18 L618.848 1543.18 L618.848 1547.12 L596.904 1547.12 L596.904 1543.18 Q599.566 1540.43 604.149 1535.8 Q608.756 1531.15 609.936 1529.81 Q612.182 1527.28 613.061 1525.55 Q613.964 1523.79 613.964 1522.1 Q613.964 1519.34 612.019 1517.61 Q610.098 1515.87 606.996 1515.87 Q604.797 1515.87 602.344 1516.63 Q599.913 1517.4 597.135 1518.95 L597.135 1514.23 Q599.959 1513.09 602.413 1512.51 Q604.867 1511.93 606.904 1511.93 Q612.274 1511.93 615.469 1514.62 Q618.663 1517.31 618.663 1521.8 Q618.663 1523.93 617.853 1525.85 Q617.066 1527.74 614.959 1530.34 Q614.381 1531.01 611.279 1534.23 Q608.177 1537.42 602.529 1543.18 Z\" fill=\"#000000\" fill-rule=\"evenodd\" fill-opacity=\"1\" /><path clip-path=\"url(#clip280)\" d=\"M 0 0 M1011.38 1515.64 Q1007.77 1515.64 1005.94 1519.2 Q1004.13 1522.75 1004.13 1529.87 Q1004.13 1536.98 1005.94 1540.55 Q1007.77 1544.09 1011.38 1544.09 Q1015.01 1544.09 1016.82 1540.55 Q1018.64 1536.98 1018.64 1529.87 Q1018.64 1522.75 1016.82 1519.2 Q1015.01 1515.64 1011.38 1515.64 M1011.38 1511.93 Q1017.19 1511.93 1020.24 1516.54 Q1023.32 1521.12 1023.32 1529.87 Q1023.32 1538.6 1020.24 1543.21 Q1017.19 1547.79 1011.38 1547.79 Q1005.57 1547.79 1002.49 1543.21 Q999.432 1538.6 999.432 1529.87 Q999.432 1521.12 1002.49 1516.54 Q1005.57 1511.93 1011.38 1511.93 Z\" fill=\"#000000\" fill-rule=\"evenodd\" fill-opacity=\"1\" /><path clip-path=\"url(#clip280)\" d=\"M 0 0 M1028.39 1541.24 L1033.27 1541.24 L1033.27 1547.12 L1028.39 1547.12 L1028.39 1541.24 Z\" fill=\"#000000\" fill-rule=\"evenodd\" fill-opacity=\"1\" /><path clip-path=\"url(#clip280)\" d=\"M 0 0 M1051.19 1516.63 L1039.39 1535.08 L1051.19 1535.08 L1051.19 1516.63 M1049.96 1512.56 L1055.84 1512.56 L1055.84 1535.08 L1060.77 1535.08 L1060.77 1538.97 L1055.84 1538.97 L1055.84 1547.12 L1051.19 1547.12 L1051.19 1538.97 L1035.59 1538.97 L1035.59 1534.46 L1049.96 1512.56 Z\" fill=\"#000000\" fill-rule=\"evenodd\" fill-opacity=\"1\" /><path clip-path=\"url(#clip280)\" d=\"M 0 0 M1452.42 1515.64 Q1448.81 1515.64 1446.98 1519.2 Q1445.18 1522.75 1445.18 1529.87 Q1445.18 1536.98 1446.98 1540.55 Q1448.81 1544.09 1452.42 1544.09 Q1456.06 1544.09 1457.86 1540.55 Q1459.69 1536.98 1459.69 1529.87 Q1459.69 1522.75 1457.86 1519.2 Q1456.06 1515.64 1452.42 1515.64 M1452.42 1511.93 Q1458.23 1511.93 1461.29 1516.54 Q1464.37 1521.12 1464.37 1529.87 Q1464.37 1538.6 1461.29 1543.21 Q1458.23 1547.79 1452.42 1547.79 Q1446.61 1547.79 1443.53 1543.21 Q1440.48 1538.6 1440.48 1529.87 Q1440.48 1521.12 1443.53 1516.54 Q1446.61 1511.93 1452.42 1511.93 Z\" fill=\"#000000\" fill-rule=\"evenodd\" fill-opacity=\"1\" /><path clip-path=\"url(#clip280)\" d=\"M 0 0 M1469.44 1541.24 L1474.32 1541.24 L1474.32 1547.12 L1469.44 1547.12 L1469.44 1541.24 Z\" fill=\"#000000\" fill-rule=\"evenodd\" fill-opacity=\"1\" /><path clip-path=\"url(#clip280)\" d=\"M 0 0 M1489.97 1527.98 Q1486.82 1527.98 1484.97 1530.13 Q1483.14 1532.28 1483.14 1536.03 Q1483.14 1539.76 1484.97 1541.93 Q1486.82 1544.09 1489.97 1544.09 Q1493.12 1544.09 1494.95 1541.93 Q1496.8 1539.76 1496.8 1536.03 Q1496.8 1532.28 1494.95 1530.13 Q1493.12 1527.98 1489.97 1527.98 M1499.25 1513.32 L1499.25 1517.58 Q1497.49 1516.75 1495.69 1516.31 Q1493.9 1515.87 1492.14 1515.87 Q1487.51 1515.87 1485.06 1519 Q1482.63 1522.12 1482.28 1528.44 Q1483.65 1526.43 1485.71 1525.36 Q1487.77 1524.27 1490.25 1524.27 Q1495.45 1524.27 1498.46 1527.44 Q1501.5 1530.59 1501.5 1536.03 Q1501.5 1541.36 1498.35 1544.57 Q1495.2 1547.79 1489.97 1547.79 Q1483.97 1547.79 1480.8 1543.21 Q1477.63 1538.6 1477.63 1529.87 Q1477.63 1521.68 1481.52 1516.82 Q1485.41 1511.93 1491.96 1511.93 Q1493.72 1511.93 1495.5 1512.28 Q1497.31 1512.63 1499.25 1513.32 Z\" fill=\"#000000\" fill-rule=\"evenodd\" fill-opacity=\"1\" /><path clip-path=\"url(#clip280)\" d=\"M 0 0 M1893.43 1515.64 Q1889.82 1515.64 1887.99 1519.2 Q1886.19 1522.75 1886.19 1529.87 Q1886.19 1536.98 1887.99 1540.55 Q1889.82 1544.09 1893.43 1544.09 Q1897.07 1544.09 1898.87 1540.55 Q1900.7 1536.98 1900.7 1529.87 Q1900.7 1522.75 1898.87 1519.2 Q1897.07 1515.64 1893.43 1515.64 M1893.43 1511.93 Q1899.24 1511.93 1902.3 1516.54 Q1905.38 1521.12 1905.38 1529.87 Q1905.38 1538.6 1902.3 1543.21 Q1899.24 1547.79 1893.43 1547.79 Q1887.62 1547.79 1884.55 1543.21 Q1881.49 1538.6 1881.49 1529.87 Q1881.49 1521.12 1884.55 1516.54 Q1887.62 1511.93 1893.43 1511.93 Z\" fill=\"#000000\" fill-rule=\"evenodd\" fill-opacity=\"1\" /><path clip-path=\"url(#clip280)\" d=\"M 0 0 M1910.45 1541.24 L1915.33 1541.24 L1915.33 1547.12 L1910.45 1547.12 L1910.45 1541.24 Z\" fill=\"#000000\" fill-rule=\"evenodd\" fill-opacity=\"1\" /><path clip-path=\"url(#clip280)\" d=\"M 0 0 M1930.4 1530.71 Q1927.07 1530.71 1925.15 1532.49 Q1923.25 1534.27 1923.25 1537.4 Q1923.25 1540.52 1925.15 1542.31 Q1927.07 1544.09 1930.4 1544.09 Q1933.73 1544.09 1935.66 1542.31 Q1937.58 1540.5 1937.58 1537.4 Q1937.58 1534.27 1935.66 1532.49 Q1933.76 1530.71 1930.4 1530.71 M1925.73 1528.72 Q1922.72 1527.98 1921.03 1525.92 Q1919.36 1523.86 1919.36 1520.89 Q1919.36 1516.75 1922.3 1514.34 Q1925.26 1511.93 1930.4 1511.93 Q1935.56 1511.93 1938.5 1514.34 Q1941.44 1516.75 1941.44 1520.89 Q1941.44 1523.86 1939.75 1525.92 Q1938.09 1527.98 1935.1 1528.72 Q1938.48 1529.5 1940.36 1531.8 Q1942.25 1534.09 1942.25 1537.4 Q1942.25 1542.42 1939.17 1545.11 Q1936.12 1547.79 1930.4 1547.79 Q1924.68 1547.79 1921.61 1545.11 Q1918.55 1542.42 1918.55 1537.4 Q1918.55 1534.09 1920.45 1531.8 Q1922.35 1529.5 1925.73 1528.72 M1924.01 1521.33 Q1924.01 1524.02 1925.68 1525.52 Q1927.37 1527.03 1930.4 1527.03 Q1933.41 1527.03 1935.1 1525.52 Q1936.81 1524.02 1936.81 1521.33 Q1936.81 1518.65 1935.1 1517.14 Q1933.41 1515.64 1930.4 1515.64 Q1927.37 1515.64 1925.68 1517.14 Q1924.01 1518.65 1924.01 1521.33 Z\" fill=\"#000000\" fill-rule=\"evenodd\" fill-opacity=\"1\" /><path clip-path=\"url(#clip280)\" d=\"M 0 0 M2324.65 1543.18 L2332.29 1543.18 L2332.29 1516.82 L2323.98 1518.49 L2323.98 1514.23 L2332.25 1512.56 L2336.92 1512.56 L2336.92 1543.18 L2344.56 1543.18 L2344.56 1547.12 L2324.65 1547.12 L2324.65 1543.18 Z\" fill=\"#000000\" fill-rule=\"evenodd\" fill-opacity=\"1\" /><path clip-path=\"url(#clip280)\" d=\"M 0 0 M2349.63 1541.24 L2354.52 1541.24 L2354.52 1547.12 L2349.63 1547.12 L2349.63 1541.24 Z\" fill=\"#000000\" fill-rule=\"evenodd\" fill-opacity=\"1\" /><path clip-path=\"url(#clip280)\" d=\"M 0 0 M2369.58 1515.64 Q2365.97 1515.64 2364.14 1519.2 Q2362.34 1522.75 2362.34 1529.87 Q2362.34 1536.98 2364.14 1540.55 Q2365.97 1544.09 2369.58 1544.09 Q2373.22 1544.09 2375.02 1540.55 Q2376.85 1536.98 2376.85 1529.87 Q2376.85 1522.75 2375.02 1519.2 Q2373.22 1515.64 2369.58 1515.64 M2369.58 1511.93 Q2375.39 1511.93 2378.45 1516.54 Q2381.53 1521.12 2381.53 1529.87 Q2381.53 1538.6 2378.45 1543.21 Q2375.39 1547.79 2369.58 1547.79 Q2363.77 1547.79 2360.7 1543.21 Q2357.64 1538.6 2357.64 1529.87 Q2357.64 1521.12 2360.7 1516.54 Q2363.77 1511.93 2369.58 1511.93 Z\" fill=\"#000000\" fill-rule=\"evenodd\" fill-opacity=\"1\" /><polyline clip-path=\"url(#clip282)\" style=\"stroke:#000000; stroke-width:2; stroke-opacity:0.1; fill:none\" points=\"\n  148.334,1486.45 2352.76,1486.45 \n  \"/>\n<polyline clip-path=\"url(#clip282)\" style=\"stroke:#000000; stroke-width:2; stroke-opacity:0.1; fill:none\" points=\"\n  148.334,1198.61 2352.76,1198.61 \n  \"/>\n<polyline clip-path=\"url(#clip282)\" style=\"stroke:#000000; stroke-width:2; stroke-opacity:0.1; fill:none\" points=\"\n  148.334,910.766 2352.76,910.766 \n  \"/>\n<polyline clip-path=\"url(#clip282)\" style=\"stroke:#000000; stroke-width:2; stroke-opacity:0.1; fill:none\" points=\"\n  148.334,622.926 2352.76,622.926 \n  \"/>\n<polyline clip-path=\"url(#clip282)\" style=\"stroke:#000000; stroke-width:2; stroke-opacity:0.1; fill:none\" points=\"\n  148.334,335.085 2352.76,335.085 \n  \"/>\n<polyline clip-path=\"url(#clip282)\" style=\"stroke:#000000; stroke-width:2; stroke-opacity:0.1; fill:none\" points=\"\n  148.334,47.2441 2352.76,47.2441 \n  \"/>\n<polyline clip-path=\"url(#clip280)\" style=\"stroke:#000000; stroke-width:4; stroke-opacity:1; fill:none\" points=\"\n  148.334,1486.45 148.334,47.2441 \n  \"/>\n<polyline clip-path=\"url(#clip280)\" style=\"stroke:#000000; stroke-width:4; stroke-opacity:1; fill:none\" points=\"\n  148.334,1486.45 174.787,1486.45 \n  \"/>\n<polyline clip-path=\"url(#clip280)\" style=\"stroke:#000000; stroke-width:4; stroke-opacity:1; fill:none\" points=\"\n  148.334,1198.61 174.787,1198.61 \n  \"/>\n<polyline clip-path=\"url(#clip280)\" style=\"stroke:#000000; stroke-width:4; stroke-opacity:1; fill:none\" points=\"\n  148.334,910.766 174.787,910.766 \n  \"/>\n<polyline clip-path=\"url(#clip280)\" style=\"stroke:#000000; stroke-width:4; stroke-opacity:1; fill:none\" points=\"\n  148.334,622.926 174.787,622.926 \n  \"/>\n<polyline clip-path=\"url(#clip280)\" style=\"stroke:#000000; stroke-width:4; stroke-opacity:1; fill:none\" points=\"\n  148.334,335.085 174.787,335.085 \n  \"/>\n<polyline clip-path=\"url(#clip280)\" style=\"stroke:#000000; stroke-width:4; stroke-opacity:1; fill:none\" points=\"\n  148.334,47.2441 174.787,47.2441 \n  \"/>\n<path clip-path=\"url(#clip280)\" d=\"M 0 0 M63.4226 1472.25 Q59.8115 1472.25 57.9828 1475.81 Q56.1773 1479.35 56.1773 1486.48 Q56.1773 1493.59 57.9828 1497.15 Q59.8115 1500.7 63.4226 1500.7 Q67.0569 1500.7 68.8624 1497.15 Q70.6911 1493.59 70.6911 1486.48 Q70.6911 1479.35 68.8624 1475.81 Q67.0569 1472.25 63.4226 1472.25 M63.4226 1468.54 Q69.2328 1468.54 72.2883 1473.15 Q75.367 1477.73 75.367 1486.48 Q75.367 1495.21 72.2883 1499.82 Q69.2328 1504.4 63.4226 1504.4 Q57.6125 1504.4 54.5338 1499.82 Q51.4782 1495.21 51.4782 1486.48 Q51.4782 1477.73 54.5338 1473.15 Q57.6125 1468.54 63.4226 1468.54 Z\" fill=\"#000000\" fill-rule=\"evenodd\" fill-opacity=\"1\" /><path clip-path=\"url(#clip280)\" d=\"M 0 0 M80.4364 1497.85 L85.3206 1497.85 L85.3206 1503.73 L80.4364 1503.73 L80.4364 1497.85 Z\" fill=\"#000000\" fill-rule=\"evenodd\" fill-opacity=\"1\" /><path clip-path=\"url(#clip280)\" d=\"M 0 0 M100.39 1472.25 Q96.7789 1472.25 94.9502 1475.81 Q93.1447 1479.35 93.1447 1486.48 Q93.1447 1493.59 94.9502 1497.15 Q96.7789 1500.7 100.39 1500.7 Q104.024 1500.7 105.83 1497.15 Q107.658 1493.59 107.658 1486.48 Q107.658 1479.35 105.83 1475.81 Q104.024 1472.25 100.39 1472.25 M100.39 1468.54 Q106.2 1468.54 109.256 1473.15 Q112.334 1477.73 112.334 1486.48 Q112.334 1495.21 109.256 1499.82 Q106.2 1504.4 100.39 1504.4 Q94.5799 1504.4 91.5012 1499.82 Q88.4456 1495.21 88.4456 1486.48 Q88.4456 1477.73 91.5012 1473.15 Q94.5799 1468.54 100.39 1468.54 Z\" fill=\"#000000\" fill-rule=\"evenodd\" fill-opacity=\"1\" /><path clip-path=\"url(#clip280)\" d=\"M 0 0 M65.0198 1184.41 Q61.4087 1184.41 59.58 1187.97 Q57.7745 1191.51 57.7745 1198.64 Q57.7745 1205.75 59.58 1209.31 Q61.4087 1212.85 65.0198 1212.85 Q68.6541 1212.85 70.4596 1209.31 Q72.2883 1205.75 72.2883 1198.64 Q72.2883 1191.51 70.4596 1187.97 Q68.6541 1184.41 65.0198 1184.41 M65.0198 1180.7 Q70.83 1180.7 73.8855 1185.31 Q76.9642 1189.89 76.9642 1198.64 Q76.9642 1207.37 73.8855 1211.98 Q70.83 1216.56 65.0198 1216.56 Q59.2097 1216.56 56.131 1211.98 Q53.0754 1207.37 53.0754 1198.64 Q53.0754 1189.89 56.131 1185.31 Q59.2097 1180.7 65.0198 1180.7 Z\" fill=\"#000000\" fill-rule=\"evenodd\" fill-opacity=\"1\" /><path clip-path=\"url(#clip280)\" d=\"M 0 0 M82.0336 1210.01 L86.9179 1210.01 L86.9179 1215.89 L82.0336 1215.89 L82.0336 1210.01 Z\" fill=\"#000000\" fill-rule=\"evenodd\" fill-opacity=\"1\" /><path clip-path=\"url(#clip280)\" d=\"M 0 0 M96.015 1211.95 L112.334 1211.95 L112.334 1215.89 L90.3901 1215.89 L90.3901 1211.95 Q93.0521 1209.2 97.6354 1204.57 Q102.242 1199.91 103.422 1198.57 Q105.668 1196.05 106.547 1194.31 Q107.45 1192.55 107.45 1190.86 Q107.45 1188.11 105.506 1186.37 Q103.584 1184.64 100.483 1184.64 Q98.2835 1184.64 95.8298 1185.4 Q93.3993 1186.17 90.6215 1187.72 L90.6215 1182.99 Q93.4456 1181.86 95.8993 1181.28 Q98.353 1180.7 100.39 1180.7 Q105.76 1180.7 108.955 1183.39 Q112.149 1186.07 112.149 1190.56 Q112.149 1192.69 111.339 1194.61 Q110.552 1196.51 108.446 1199.1 Q107.867 1199.78 104.765 1202.99 Q101.663 1206.19 96.015 1211.95 Z\" fill=\"#000000\" fill-rule=\"evenodd\" fill-opacity=\"1\" /><path clip-path=\"url(#clip280)\" d=\"M 0 0 M62.9365 896.565 Q59.3254 896.565 57.4967 900.13 Q55.6912 903.671 55.6912 910.801 Q55.6912 917.908 57.4967 921.472 Q59.3254 925.014 62.9365 925.014 Q66.5707 925.014 68.3763 921.472 Q70.205 917.908 70.205 910.801 Q70.205 903.671 68.3763 900.13 Q66.5707 896.565 62.9365 896.565 M62.9365 892.861 Q68.7467 892.861 71.8022 897.468 Q74.8809 902.051 74.8809 910.801 Q74.8809 919.528 71.8022 924.134 Q68.7467 928.718 62.9365 928.718 Q57.1264 928.718 54.0477 924.134 Q50.9921 919.528 50.9921 910.801 Q50.9921 902.051 54.0477 897.468 Q57.1264 892.861 62.9365 892.861 Z\" fill=\"#000000\" fill-rule=\"evenodd\" fill-opacity=\"1\" /><path clip-path=\"url(#clip280)\" d=\"M 0 0 M79.9503 922.167 L84.8345 922.167 L84.8345 928.046 L79.9503 928.046 L79.9503 922.167 Z\" fill=\"#000000\" fill-rule=\"evenodd\" fill-opacity=\"1\" /><path clip-path=\"url(#clip280)\" d=\"M 0 0 M102.751 897.56 L90.9456 916.009 L102.751 916.009 L102.751 897.56 M101.524 893.486 L107.404 893.486 L107.404 916.009 L112.334 916.009 L112.334 919.898 L107.404 919.898 L107.404 928.046 L102.751 928.046 L102.751 919.898 L87.1493 919.898 L87.1493 915.384 L101.524 893.486 Z\" fill=\"#000000\" fill-rule=\"evenodd\" fill-opacity=\"1\" /><path clip-path=\"url(#clip280)\" d=\"M 0 0 M63.2606 608.724 Q59.6495 608.724 57.8208 612.289 Q56.0152 615.831 56.0152 622.96 Q56.0152 630.067 57.8208 633.632 Q59.6495 637.173 63.2606 637.173 Q66.8948 637.173 68.7004 633.632 Q70.5291 630.067 70.5291 622.96 Q70.5291 615.831 68.7004 612.289 Q66.8948 608.724 63.2606 608.724 M63.2606 605.021 Q69.0707 605.021 72.1263 609.627 Q75.205 614.21 75.205 622.96 Q75.205 631.687 72.1263 636.294 Q69.0707 640.877 63.2606 640.877 Q57.4504 640.877 54.3717 636.294 Q51.3162 631.687 51.3162 622.96 Q51.3162 614.21 54.3717 609.627 Q57.4504 605.021 63.2606 605.021 Z\" fill=\"#000000\" fill-rule=\"evenodd\" fill-opacity=\"1\" /><path clip-path=\"url(#clip280)\" d=\"M 0 0 M80.2744 634.326 L85.1586 634.326 L85.1586 640.206 L80.2744 640.206 L80.2744 634.326 Z\" fill=\"#000000\" fill-rule=\"evenodd\" fill-opacity=\"1\" /><path clip-path=\"url(#clip280)\" d=\"M 0 0 M100.807 621.062 Q97.6585 621.062 95.8067 623.215 Q93.978 625.368 93.978 629.118 Q93.978 632.845 95.8067 635.02 Q97.6585 637.173 100.807 637.173 Q103.955 637.173 105.783 635.02 Q107.635 632.845 107.635 629.118 Q107.635 625.368 105.783 623.215 Q103.955 621.062 100.807 621.062 M110.089 606.409 L110.089 610.669 Q108.33 609.835 106.524 609.396 Q104.742 608.956 102.983 608.956 Q98.353 608.956 95.8993 612.081 Q93.4688 615.206 93.1215 621.525 Q94.4873 619.511 96.5474 618.446 Q98.6076 617.359 101.084 617.359 Q106.293 617.359 109.302 620.53 Q112.334 623.678 112.334 629.118 Q112.334 634.442 109.186 637.659 Q106.038 640.877 100.807 640.877 Q94.8113 640.877 91.6401 636.294 Q88.4688 631.687 88.4688 622.96 Q88.4688 614.766 92.3576 609.905 Q96.2465 605.021 102.797 605.021 Q104.557 605.021 106.339 605.368 Q108.145 605.715 110.089 606.409 Z\" fill=\"#000000\" fill-rule=\"evenodd\" fill-opacity=\"1\" /><path clip-path=\"url(#clip280)\" d=\"M 0 0 M63.5152 320.884 Q59.9041 320.884 58.0754 324.448 Q56.2699 327.99 56.2699 335.12 Q56.2699 342.226 58.0754 345.791 Q59.9041 349.332 63.5152 349.332 Q67.1494 349.332 68.955 345.791 Q70.7837 342.226 70.7837 335.12 Q70.7837 327.99 68.955 324.448 Q67.1494 320.884 63.5152 320.884 M63.5152 317.18 Q69.3254 317.18 72.3809 321.786 Q75.4596 326.37 75.4596 335.12 Q75.4596 343.846 72.3809 348.453 Q69.3254 353.036 63.5152 353.036 Q57.7051 353.036 54.6264 348.453 Q51.5708 343.846 51.5708 335.12 Q51.5708 326.37 54.6264 321.786 Q57.7051 317.18 63.5152 317.18 Z\" fill=\"#000000\" fill-rule=\"evenodd\" fill-opacity=\"1\" /><path clip-path=\"url(#clip280)\" d=\"M 0 0 M80.529 346.485 L85.4132 346.485 L85.4132 352.365 L80.529 352.365 L80.529 346.485 Z\" fill=\"#000000\" fill-rule=\"evenodd\" fill-opacity=\"1\" /><path clip-path=\"url(#clip280)\" d=\"M 0 0 M100.483 335.953 Q97.1493 335.953 95.228 337.735 Q93.3299 339.518 93.3299 342.643 Q93.3299 345.768 95.228 347.55 Q97.1493 349.332 100.483 349.332 Q103.816 349.332 105.737 347.55 Q107.658 345.745 107.658 342.643 Q107.658 339.518 105.737 337.735 Q103.839 335.953 100.483 335.953 M95.8067 333.962 Q92.7975 333.221 91.1077 331.161 Q89.441 329.101 89.441 326.138 Q89.441 321.995 92.3808 319.587 Q95.3437 317.18 100.483 317.18 Q105.645 317.18 108.584 319.587 Q111.524 321.995 111.524 326.138 Q111.524 329.101 109.834 331.161 Q108.168 333.221 105.182 333.962 Q108.561 334.749 110.436 337.041 Q112.334 339.333 112.334 342.643 Q112.334 347.666 109.256 350.351 Q106.2 353.036 100.483 353.036 Q94.765 353.036 91.6864 350.351 Q88.6308 347.666 88.6308 342.643 Q88.6308 339.333 90.529 337.041 Q92.4271 334.749 95.8067 333.962 M94.0937 326.578 Q94.0937 329.263 95.7604 330.768 Q97.4502 332.272 100.483 332.272 Q103.492 332.272 105.182 330.768 Q106.895 329.263 106.895 326.578 Q106.895 323.893 105.182 322.388 Q103.492 320.884 100.483 320.884 Q97.4502 320.884 95.7604 322.388 Q94.0937 323.893 94.0937 326.578 Z\" fill=\"#000000\" fill-rule=\"evenodd\" fill-opacity=\"1\" /><path clip-path=\"url(#clip280)\" d=\"M 0 0 M55.4597 60.5889 L63.0985 60.5889 L63.0985 34.2233 L54.7884 35.89 L54.7884 31.6308 L63.0522 29.9641 L67.7281 29.9641 L67.7281 60.5889 L75.367 60.5889 L75.367 64.5241 L55.4597 64.5241 L55.4597 60.5889 Z\" fill=\"#000000\" fill-rule=\"evenodd\" fill-opacity=\"1\" /><path clip-path=\"url(#clip280)\" d=\"M 0 0 M80.4364 58.6445 L85.3206 58.6445 L85.3206 64.5241 L80.4364 64.5241 L80.4364 58.6445 Z\" fill=\"#000000\" fill-rule=\"evenodd\" fill-opacity=\"1\" /><path clip-path=\"url(#clip280)\" d=\"M 0 0 M100.39 33.0428 Q96.7789 33.0428 94.9502 36.6076 Q93.1447 40.1492 93.1447 47.2788 Q93.1447 54.3853 94.9502 57.9501 Q96.7789 61.4917 100.39 61.4917 Q104.024 61.4917 105.83 57.9501 Q107.658 54.3853 107.658 47.2788 Q107.658 40.1492 105.83 36.6076 Q104.024 33.0428 100.39 33.0428 M100.39 29.3391 Q106.2 29.3391 109.256 33.9456 Q112.334 38.5289 112.334 47.2788 Q112.334 56.0056 109.256 60.6121 Q106.2 65.1954 100.39 65.1954 Q94.5799 65.1954 91.5012 60.6121 Q88.4456 56.0056 88.4456 47.2788 Q88.4456 38.5289 91.5012 33.9456 Q94.5799 29.3391 100.39 29.3391 Z\" fill=\"#000000\" fill-rule=\"evenodd\" fill-opacity=\"1\" /><circle clip-path=\"url(#clip282)\" cx=\"919.281\" cy=\"766.846\" r=\"14\" fill=\"#009af9\" fill-rule=\"evenodd\" fill-opacity=\"1\" stroke=\"#000000\" stroke-opacity=\"1\" stroke-width=\"3.2\"/>\n<circle clip-path=\"url(#clip282)\" cx=\"1165.28\" cy=\"766.846\" r=\"14\" fill=\"#009af9\" fill-rule=\"evenodd\" fill-opacity=\"1\" stroke=\"#000000\" stroke-opacity=\"1\" stroke-width=\"3.2\"/>\n<circle clip-path=\"url(#clip282)\" cx=\"1018.4\" cy=\"766.846\" r=\"14\" fill=\"#009af9\" fill-rule=\"evenodd\" fill-opacity=\"1\" stroke=\"#000000\" stroke-opacity=\"1\" stroke-width=\"3.2\"/>\n<circle clip-path=\"url(#clip282)\" cx=\"614.654\" cy=\"766.846\" r=\"14\" fill=\"#009af9\" fill-rule=\"evenodd\" fill-opacity=\"1\" stroke=\"#000000\" stroke-opacity=\"1\" stroke-width=\"3.2\"/>\n<circle clip-path=\"url(#clip282)\" cx=\"186.63\" cy=\"766.846\" r=\"14\" fill=\"#009af9\" fill-rule=\"evenodd\" fill-opacity=\"1\" stroke=\"#000000\" stroke-opacity=\"1\" stroke-width=\"3.2\"/>\n<circle clip-path=\"url(#clip282)\" cx=\"875.345\" cy=\"766.846\" r=\"14\" fill=\"#009af9\" fill-rule=\"evenodd\" fill-opacity=\"1\" stroke=\"#000000\" stroke-opacity=\"1\" stroke-width=\"3.2\"/>\n<circle clip-path=\"url(#clip282)\" cx=\"323.106\" cy=\"766.846\" r=\"14\" fill=\"#009af9\" fill-rule=\"evenodd\" fill-opacity=\"1\" stroke=\"#000000\" stroke-opacity=\"1\" stroke-width=\"3.2\"/>\n<circle clip-path=\"url(#clip282)\" cx=\"1523.68\" cy=\"766.846\" r=\"14\" fill=\"#009af9\" fill-rule=\"evenodd\" fill-opacity=\"1\" stroke=\"#000000\" stroke-opacity=\"1\" stroke-width=\"3.2\"/>\n<circle clip-path=\"url(#clip282)\" cx=\"2133.77\" cy=\"766.846\" r=\"14\" fill=\"#009af9\" fill-rule=\"evenodd\" fill-opacity=\"1\" stroke=\"#000000\" stroke-opacity=\"1\" stroke-width=\"3.2\"/>\n<circle clip-path=\"url(#clip282)\" cx=\"1047.17\" cy=\"766.846\" r=\"14\" fill=\"#009af9\" fill-rule=\"evenodd\" fill-opacity=\"1\" stroke=\"#000000\" stroke-opacity=\"1\" stroke-width=\"3.2\"/>\n<circle clip-path=\"url(#clip282)\" cx=\"1970.94\" cy=\"766.846\" r=\"14\" fill=\"#009af9\" fill-rule=\"evenodd\" fill-opacity=\"1\" stroke=\"#000000\" stroke-opacity=\"1\" stroke-width=\"3.2\"/>\n<circle clip-path=\"url(#clip282)\" cx=\"1245.49\" cy=\"766.846\" r=\"14\" fill=\"#009af9\" fill-rule=\"evenodd\" fill-opacity=\"1\" stroke=\"#000000\" stroke-opacity=\"1\" stroke-width=\"3.2\"/>\n<circle clip-path=\"url(#clip282)\" cx=\"1561.25\" cy=\"766.846\" r=\"14\" fill=\"#009af9\" fill-rule=\"evenodd\" fill-opacity=\"1\" stroke=\"#000000\" stroke-opacity=\"1\" stroke-width=\"3.2\"/>\n<circle clip-path=\"url(#clip282)\" cx=\"1424.52\" cy=\"766.846\" r=\"14\" fill=\"#009af9\" fill-rule=\"evenodd\" fill-opacity=\"1\" stroke=\"#000000\" stroke-opacity=\"1\" stroke-width=\"3.2\"/>\n<circle clip-path=\"url(#clip282)\" cx=\"1423.3\" cy=\"766.846\" r=\"14\" fill=\"#009af9\" fill-rule=\"evenodd\" fill-opacity=\"1\" stroke=\"#000000\" stroke-opacity=\"1\" stroke-width=\"3.2\"/>\n<circle clip-path=\"url(#clip282)\" cx=\"950.878\" cy=\"766.846\" r=\"14\" fill=\"#009af9\" fill-rule=\"evenodd\" fill-opacity=\"1\" stroke=\"#000000\" stroke-opacity=\"1\" stroke-width=\"3.2\"/>\n<circle clip-path=\"url(#clip282)\" cx=\"1224.46\" cy=\"766.846\" r=\"14\" fill=\"#009af9\" fill-rule=\"evenodd\" fill-opacity=\"1\" stroke=\"#000000\" stroke-opacity=\"1\" stroke-width=\"3.2\"/>\n<circle clip-path=\"url(#clip282)\" cx=\"759.079\" cy=\"766.846\" r=\"14\" fill=\"#009af9\" fill-rule=\"evenodd\" fill-opacity=\"1\" stroke=\"#000000\" stroke-opacity=\"1\" stroke-width=\"3.2\"/>\n<circle clip-path=\"url(#clip282)\" cx=\"1783.14\" cy=\"766.846\" r=\"14\" fill=\"#009af9\" fill-rule=\"evenodd\" fill-opacity=\"1\" stroke=\"#000000\" stroke-opacity=\"1\" stroke-width=\"3.2\"/>\n<circle clip-path=\"url(#clip282)\" cx=\"886.461\" cy=\"766.846\" r=\"14\" fill=\"#009af9\" fill-rule=\"evenodd\" fill-opacity=\"1\" stroke=\"#000000\" stroke-opacity=\"1\" stroke-width=\"3.2\"/>\n<circle clip-path=\"url(#clip282)\" cx=\"1623.34\" cy=\"766.846\" r=\"14\" fill=\"#009af9\" fill-rule=\"evenodd\" fill-opacity=\"1\" stroke=\"#000000\" stroke-opacity=\"1\" stroke-width=\"3.2\"/>\n<circle clip-path=\"url(#clip282)\" cx=\"336.155\" cy=\"766.846\" r=\"14\" fill=\"#009af9\" fill-rule=\"evenodd\" fill-opacity=\"1\" stroke=\"#000000\" stroke-opacity=\"1\" stroke-width=\"3.2\"/>\n<circle clip-path=\"url(#clip282)\" cx=\"264.761\" cy=\"766.846\" r=\"14\" fill=\"#009af9\" fill-rule=\"evenodd\" fill-opacity=\"1\" stroke=\"#000000\" stroke-opacity=\"1\" stroke-width=\"3.2\"/>\n<circle clip-path=\"url(#clip282)\" cx=\"2172.48\" cy=\"766.846\" r=\"14\" fill=\"#009af9\" fill-rule=\"evenodd\" fill-opacity=\"1\" stroke=\"#000000\" stroke-opacity=\"1\" stroke-width=\"3.2\"/>\n<circle clip-path=\"url(#clip282)\" cx=\"1391.19\" cy=\"766.846\" r=\"14\" fill=\"#009af9\" fill-rule=\"evenodd\" fill-opacity=\"1\" stroke=\"#000000\" stroke-opacity=\"1\" stroke-width=\"3.2\"/>\n<circle clip-path=\"url(#clip282)\" cx=\"1970.93\" cy=\"766.846\" r=\"14\" fill=\"#009af9\" fill-rule=\"evenodd\" fill-opacity=\"1\" stroke=\"#000000\" stroke-opacity=\"1\" stroke-width=\"3.2\"/>\n<circle clip-path=\"url(#clip282)\" cx=\"281.409\" cy=\"766.846\" r=\"14\" fill=\"#009af9\" fill-rule=\"evenodd\" fill-opacity=\"1\" stroke=\"#000000\" stroke-opacity=\"1\" stroke-width=\"3.2\"/>\n<circle clip-path=\"url(#clip282)\" cx=\"478.291\" cy=\"766.846\" r=\"14\" fill=\"#009af9\" fill-rule=\"evenodd\" fill-opacity=\"1\" stroke=\"#000000\" stroke-opacity=\"1\" stroke-width=\"3.2\"/>\n<circle clip-path=\"url(#clip282)\" cx=\"903.804\" cy=\"766.846\" r=\"14\" fill=\"#009af9\" fill-rule=\"evenodd\" fill-opacity=\"1\" stroke=\"#000000\" stroke-opacity=\"1\" stroke-width=\"3.2\"/>\n<circle clip-path=\"url(#clip282)\" cx=\"2156.09\" cy=\"766.846\" r=\"14\" fill=\"#009af9\" fill-rule=\"evenodd\" fill-opacity=\"1\" stroke=\"#000000\" stroke-opacity=\"1\" stroke-width=\"3.2\"/>\n<circle clip-path=\"url(#clip282)\" cx=\"1815.44\" cy=\"766.846\" r=\"14\" fill=\"#009af9\" fill-rule=\"evenodd\" fill-opacity=\"1\" stroke=\"#000000\" stroke-opacity=\"1\" stroke-width=\"3.2\"/>\n<circle clip-path=\"url(#clip282)\" cx=\"2124.21\" cy=\"766.846\" r=\"14\" fill=\"#009af9\" fill-rule=\"evenodd\" fill-opacity=\"1\" stroke=\"#000000\" stroke-opacity=\"1\" stroke-width=\"3.2\"/>\n<circle clip-path=\"url(#clip282)\" cx=\"1674.69\" cy=\"766.846\" r=\"14\" fill=\"#009af9\" fill-rule=\"evenodd\" fill-opacity=\"1\" stroke=\"#000000\" stroke-opacity=\"1\" stroke-width=\"3.2\"/>\n<circle clip-path=\"url(#clip282)\" cx=\"1534.35\" cy=\"766.846\" r=\"14\" fill=\"#009af9\" fill-rule=\"evenodd\" fill-opacity=\"1\" stroke=\"#000000\" stroke-opacity=\"1\" stroke-width=\"3.2\"/>\n<circle clip-path=\"url(#clip282)\" cx=\"1857.72\" cy=\"766.846\" r=\"14\" fill=\"#009af9\" fill-rule=\"evenodd\" fill-opacity=\"1\" stroke=\"#000000\" stroke-opacity=\"1\" stroke-width=\"3.2\"/>\n<circle clip-path=\"url(#clip282)\" cx=\"1269.53\" cy=\"766.846\" r=\"14\" fill=\"#009af9\" fill-rule=\"evenodd\" fill-opacity=\"1\" stroke=\"#000000\" stroke-opacity=\"1\" stroke-width=\"3.2\"/>\n<circle clip-path=\"url(#clip282)\" cx=\"1090.26\" cy=\"766.846\" r=\"14\" fill=\"#009af9\" fill-rule=\"evenodd\" fill-opacity=\"1\" stroke=\"#000000\" stroke-opacity=\"1\" stroke-width=\"3.2\"/>\n<circle clip-path=\"url(#clip282)\" cx=\"1838.11\" cy=\"766.846\" r=\"14\" fill=\"#009af9\" fill-rule=\"evenodd\" fill-opacity=\"1\" stroke=\"#000000\" stroke-opacity=\"1\" stroke-width=\"3.2\"/>\n<circle clip-path=\"url(#clip282)\" cx=\"1839.2\" cy=\"766.846\" r=\"14\" fill=\"#009af9\" fill-rule=\"evenodd\" fill-opacity=\"1\" stroke=\"#000000\" stroke-opacity=\"1\" stroke-width=\"3.2\"/>\n<circle clip-path=\"url(#clip282)\" cx=\"762.855\" cy=\"766.846\" r=\"14\" fill=\"#009af9\" fill-rule=\"evenodd\" fill-opacity=\"1\" stroke=\"#000000\" stroke-opacity=\"1\" stroke-width=\"3.2\"/>\n<circle clip-path=\"url(#clip282)\" cx=\"1986.44\" cy=\"766.846\" r=\"14\" fill=\"#009af9\" fill-rule=\"evenodd\" fill-opacity=\"1\" stroke=\"#000000\" stroke-opacity=\"1\" stroke-width=\"3.2\"/>\n<circle clip-path=\"url(#clip282)\" cx=\"1763.9\" cy=\"766.846\" r=\"14\" fill=\"#009af9\" fill-rule=\"evenodd\" fill-opacity=\"1\" stroke=\"#000000\" stroke-opacity=\"1\" stroke-width=\"3.2\"/>\n<circle clip-path=\"url(#clip282)\" cx=\"672.122\" cy=\"766.846\" r=\"14\" fill=\"#009af9\" fill-rule=\"evenodd\" fill-opacity=\"1\" stroke=\"#000000\" stroke-opacity=\"1\" stroke-width=\"3.2\"/>\n<circle clip-path=\"url(#clip282)\" cx=\"794.155\" cy=\"766.846\" r=\"14\" fill=\"#009af9\" fill-rule=\"evenodd\" fill-opacity=\"1\" stroke=\"#000000\" stroke-opacity=\"1\" stroke-width=\"3.2\"/>\n<circle clip-path=\"url(#clip282)\" cx=\"1163.04\" cy=\"766.846\" r=\"14\" fill=\"#009af9\" fill-rule=\"evenodd\" fill-opacity=\"1\" stroke=\"#000000\" stroke-opacity=\"1\" stroke-width=\"3.2\"/>\n<circle clip-path=\"url(#clip282)\" cx=\"1155.95\" cy=\"766.846\" r=\"14\" fill=\"#009af9\" fill-rule=\"evenodd\" fill-opacity=\"1\" stroke=\"#000000\" stroke-opacity=\"1\" stroke-width=\"3.2\"/>\n<circle clip-path=\"url(#clip282)\" cx=\"1247.99\" cy=\"766.846\" r=\"14\" fill=\"#009af9\" fill-rule=\"evenodd\" fill-opacity=\"1\" stroke=\"#000000\" stroke-opacity=\"1\" stroke-width=\"3.2\"/>\n<circle clip-path=\"url(#clip282)\" cx=\"235.221\" cy=\"766.846\" r=\"14\" fill=\"#009af9\" fill-rule=\"evenodd\" fill-opacity=\"1\" stroke=\"#000000\" stroke-opacity=\"1\" stroke-width=\"3.2\"/>\n<circle clip-path=\"url(#clip282)\" cx=\"623.722\" cy=\"766.846\" r=\"14\" fill=\"#009af9\" fill-rule=\"evenodd\" fill-opacity=\"1\" stroke=\"#000000\" stroke-opacity=\"1\" stroke-width=\"3.2\"/>\n<circle clip-path=\"url(#clip282)\" cx=\"285.385\" cy=\"766.846\" r=\"14\" fill=\"#009af9\" fill-rule=\"evenodd\" fill-opacity=\"1\" stroke=\"#000000\" stroke-opacity=\"1\" stroke-width=\"3.2\"/>\n<path clip-path=\"url(#clip280)\" d=\"\nM1983.32 216.178 L2279.28 216.178 L2279.28 95.2176 L1983.32 95.2176  Z\n  \" fill=\"#ffffff\" fill-rule=\"evenodd\" fill-opacity=\"1\"/>\n<polyline clip-path=\"url(#clip280)\" style=\"stroke:#000000; stroke-width:4; stroke-opacity:1; fill:none\" points=\"\n  1983.32,216.178 2279.28,216.178 2279.28,95.2176 1983.32,95.2176 1983.32,216.178 \n  \"/>\n<circle clip-path=\"url(#clip280)\" cx=\"2081.3\" cy=\"155.698\" r=\"23\" fill=\"#009af9\" fill-rule=\"evenodd\" fill-opacity=\"1\" stroke=\"#000000\" stroke-opacity=\"1\" stroke-width=\"5.12\"/>\n<path clip-path=\"url(#clip280)\" d=\"M 0 0 M2193.11 175.385 Q2191.31 180.015 2189.59 181.427 Q2187.88 182.839 2185.01 182.839 L2181.61 182.839 L2181.61 179.274 L2184.11 179.274 Q2185.87 179.274 2186.84 178.44 Q2187.81 177.607 2188.99 174.505 L2189.76 172.561 L2179.27 147.052 L2183.78 147.052 L2191.89 167.329 L2199.99 147.052 L2204.5 147.052 L2193.11 175.385 Z\" fill=\"#000000\" fill-rule=\"evenodd\" fill-opacity=\"1\" /><path clip-path=\"url(#clip280)\" d=\"M 0 0 M2210.38 169.042 L2218.02 169.042 L2218.02 142.677 L2209.71 144.343 L2209.71 140.084 L2217.97 138.418 L2222.65 138.418 L2222.65 169.042 L2230.29 169.042 L2230.29 172.978 L2210.38 172.978 L2210.38 169.042 Z\" fill=\"#000000\" fill-rule=\"evenodd\" fill-opacity=\"1\" /></svg>\n"
               },
               "type": "node"
              }
             ],
             "instanceArgs": {
              "namespace": "html",
              "tag": "div"
             },
             "nodeType": "DOM",
             "props": {
              "className": "interact-flex-row interact-widget"
             },
             "type": "node"
            }
           }
          },
          "systemjs_options": null
         },
         "nodeType": "Scope",
         "props": {},
         "type": "node"
        }
       ],
       "instanceArgs": {
        "namespace": "html",
        "tag": "div"
       },
       "nodeType": "DOM",
       "props": {},
       "type": "node"
      },
      "text/html": [
       "<div\n",
       "    class=\"webio-mountpoint\"\n",
       "    data-webio-mountpoint=\"17019154236572754398\"\n",
       ">\n",
       "    <script>\n",
       "    if (window.require && require.defined && require.defined(\"nbextensions/webio-jupyter-notebook\")) {\n",
       "        console.log(\"Jupyter WebIO extension detected, not mounting.\");\n",
       "    } else if (window.WebIO) {\n",
       "        WebIO.mount(\n",
       "            document.querySelector('[data-webio-mountpoint=\"17019154236572754398\"]'),\n",
       "            {\"props\":{},\"nodeType\":\"DOM\",\"type\":\"node\",\"instanceArgs\":{\"namespace\":\"html\",\"tag\":\"div\"},\"children\":[{\"props\":{\"className\":\"field interact-widget\"},\"nodeType\":\"DOM\",\"type\":\"node\",\"instanceArgs\":{\"namespace\":\"html\",\"tag\":\"div\"},\"children\":[{\"props\":{},\"nodeType\":\"Scope\",\"type\":\"node\",\"instanceArgs\":{\"imports\":{\"data\":[{\"name\":\"knockout\",\"type\":\"js\",\"url\":\"\\/assetserver\\/4e15ea8f38f5d33bf0b2930cb09c8089f78b114e-knockout.js\"},{\"name\":\"knockout_punches\",\"type\":\"js\",\"url\":\"\\/assetserver\\/6967e46b2259ea2e5c469b61c410326b52955db7-knockout_punches.js\"},{\"name\":null,\"type\":\"js\",\"url\":\"\\/assetserver\\/a643ec32b5fd67f0647ab1f378e6bc75a94bf7ef-all.js\"},{\"name\":null,\"type\":\"css\",\"url\":\"\\/assetserver\\/c4a428321098a6b37c6165665184ef1be8f91e08-style.css\"},{\"name\":null,\"type\":\"css\",\"url\":\"\\/assetserver\\/62690f06d5dfb4c711812ef88e307907ed9b059b-bulma_confined.min.css\"}],\"type\":\"async_block\"},\"id\":\"4812091332554349266\",\"handlers\":{\"changes\":[\"(function (val){return (val!=this.model[\\\"changes\\\"]()) ? (this.valueFromJulia[\\\"changes\\\"]=true, this.model[\\\"changes\\\"](val)) : undefined})\"],\"index\":[\"(function (val){return (val!=this.model[\\\"index\\\"]()) ? (this.valueFromJulia[\\\"index\\\"]=true, this.model[\\\"index\\\"](val)) : undefined})\"]},\"systemjs_options\":null,\"mount_callbacks\":[\"function () {\\n    var handler = (function (ko, koPunches) {\\n    ko.punches.enableAll();\\n    ko.bindingHandlers.numericValue = {\\n        init: function(element, valueAccessor, allBindings, data, context) {\\n            var stringified = ko.observable(ko.unwrap(valueAccessor()));\\n            stringified.subscribe(function(value) {\\n                var val = parseFloat(value);\\n                if (!isNaN(val)) {\\n                    valueAccessor()(val);\\n                }\\n            });\\n            valueAccessor().subscribe(function(value) {\\n                var str = JSON.stringify(value);\\n                if ((str == \\\"0\\\") && ([\\\"-0\\\", \\\"-0.\\\"].indexOf(stringified()) >= 0))\\n                     return;\\n                 if ([\\\"null\\\", \\\"\\\"].indexOf(str) >= 0)\\n                     return;\\n                stringified(str);\\n            });\\n            ko.applyBindingsToNode(\\n                element,\\n                {\\n                    value: stringified,\\n                    valueUpdate: allBindings.get('valueUpdate'),\\n                },\\n                context,\\n            );\\n        }\\n    };\\n    var json_data = {\\\"formatted_vals\\\":[\\\"1\\\",\\\"2\\\",\\\"3\\\",\\\"4\\\",\\\"5\\\",\\\"6\\\",\\\"7\\\",\\\"8\\\",\\\"9\\\",\\\"10\\\",\\\"11\\\",\\\"12\\\",\\\"13\\\",\\\"14\\\",\\\"15\\\",\\\"16\\\",\\\"17\\\",\\\"18\\\",\\\"19\\\",\\\"20\\\",\\\"21\\\",\\\"22\\\",\\\"23\\\",\\\"24\\\",\\\"25\\\",\\\"26\\\",\\\"27\\\",\\\"28\\\",\\\"29\\\",\\\"30\\\",\\\"31\\\",\\\"32\\\",\\\"33\\\",\\\"34\\\",\\\"35\\\",\\\"36\\\",\\\"37\\\",\\\"38\\\",\\\"39\\\",\\\"40\\\",\\\"41\\\",\\\"42\\\",\\\"43\\\",\\\"44\\\",\\\"45\\\",\\\"46\\\",\\\"47\\\",\\\"48\\\",\\\"49\\\",\\\"50\\\",\\\"51\\\",\\\"52\\\",\\\"53\\\",\\\"54\\\",\\\"55\\\",\\\"56\\\",\\\"57\\\",\\\"58\\\",\\\"59\\\",\\\"60\\\",\\\"61\\\",\\\"62\\\",\\\"63\\\",\\\"64\\\",\\\"65\\\",\\\"66\\\",\\\"67\\\",\\\"68\\\",\\\"69\\\",\\\"70\\\",\\\"71\\\",\\\"72\\\",\\\"73\\\",\\\"74\\\",\\\"75\\\",\\\"76\\\",\\\"77\\\",\\\"78\\\",\\\"79\\\",\\\"80\\\",\\\"81\\\",\\\"82\\\",\\\"83\\\",\\\"84\\\",\\\"85\\\",\\\"86\\\",\\\"87\\\",\\\"88\\\",\\\"89\\\",\\\"90\\\",\\\"91\\\",\\\"92\\\",\\\"93\\\",\\\"94\\\",\\\"95\\\",\\\"96\\\",\\\"97\\\",\\\"98\\\",\\\"99\\\",\\\"100\\\"],\\\"changes\\\":WebIO.getval({\\\"name\\\":\\\"changes\\\",\\\"scope\\\":\\\"4812091332554349266\\\",\\\"id\\\":\\\"15441355439567862143\\\",\\\"type\\\":\\\"observable\\\"}),\\\"index\\\":WebIO.getval({\\\"name\\\":\\\"index\\\",\\\"scope\\\":\\\"4812091332554349266\\\",\\\"id\\\":\\\"2810360115166225567\\\",\\\"type\\\":\\\"observable\\\"})};\\n    var self = this;\\n    function AppViewModel() {\\n        for (var key in json_data) {\\n            var el = json_data[key];\\n            this[key] = Array.isArray(el) ? ko.observableArray(el) : ko.observable(el);\\n        }\\n        \\n        [this[\\\"formatted_val\\\"]=ko.computed(    function(){\\n        return this.formatted_vals()[parseInt(this.index())-(1)];\\n    }\\n,this)]\\n        [this[\\\"changes\\\"].subscribe((function (val){!(this.valueFromJulia[\\\"changes\\\"]) ? (WebIO.setval({\\\"name\\\":\\\"changes\\\",\\\"scope\\\":\\\"4812091332554349266\\\",\\\"id\\\":\\\"15441355439567862143\\\",\\\"type\\\":\\\"observable\\\"},val)) : undefined; return this.valueFromJulia[\\\"changes\\\"]=false}),self),this[\\\"index\\\"].subscribe((function (val){!(this.valueFromJulia[\\\"index\\\"]) ? (WebIO.setval({\\\"name\\\":\\\"index\\\",\\\"scope\\\":\\\"4812091332554349266\\\",\\\"id\\\":\\\"2810360115166225567\\\",\\\"type\\\":\\\"observable\\\"},val)) : undefined; return this.valueFromJulia[\\\"index\\\"]=false}),self)]\\n        \\n    }\\n    self.model = new AppViewModel();\\n    self.valueFromJulia = {};\\n    for (var key in json_data) {\\n        self.valueFromJulia[key] = false;\\n    }\\n    ko.applyBindings(self.model, self.dom);\\n}\\n);\\n    (WebIO.importBlock({\\\"data\\\":[{\\\"name\\\":\\\"knockout\\\",\\\"type\\\":\\\"js\\\",\\\"url\\\":\\\"\\/assetserver\\/4e15ea8f38f5d33bf0b2930cb09c8089f78b114e-knockout.js\\\"},{\\\"name\\\":\\\"knockout_punches\\\",\\\"type\\\":\\\"js\\\",\\\"url\\\":\\\"\\/assetserver\\/6967e46b2259ea2e5c469b61c410326b52955db7-knockout_punches.js\\\"}],\\\"type\\\":\\\"async_block\\\"})).then((imports) => handler.apply(this, imports));\\n}\\n\"],\"observables\":{\"changes\":{\"sync\":false,\"id\":\"15441355439567862143\",\"value\":0},\"index\":{\"sync\":true,\"id\":\"2810360115166225567\",\"value\":50}}},\"children\":[{\"props\":{\"className\":\"interact-flex-row interact-widget\"},\"nodeType\":\"DOM\",\"type\":\"node\",\"instanceArgs\":{\"namespace\":\"html\",\"tag\":\"div\"},\"children\":[{\"props\":{\"className\":\"interact-flex-row-left\"},\"nodeType\":\"DOM\",\"type\":\"node\",\"instanceArgs\":{\"namespace\":\"html\",\"tag\":\"div\"},\"children\":[{\"props\":{\"className\":\"interact \",\"style\":{\"padding\":\"5px 10px 0px 10px\"}},\"nodeType\":\"DOM\",\"type\":\"node\",\"instanceArgs\":{\"namespace\":\"html\",\"tag\":\"label\"},\"children\":[\"n\"]}]},{\"props\":{\"className\":\"interact-flex-row-center\"},\"nodeType\":\"DOM\",\"type\":\"node\",\"instanceArgs\":{\"namespace\":\"html\",\"tag\":\"div\"},\"children\":[{\"props\":{\"max\":100,\"min\":1,\"attributes\":{\"type\":\"range\",\"data-bind\":\"numericValue: index, valueUpdate: 'input', event: {change: function (){this.changes(this.changes()+1)}}\",\"orient\":\"horizontal\"},\"step\":1,\"className\":\"slider slider is-fullwidth\",\"style\":{}},\"nodeType\":\"DOM\",\"type\":\"node\",\"instanceArgs\":{\"namespace\":\"html\",\"tag\":\"input\"},\"children\":[]}]},{\"props\":{\"className\":\"interact-flex-row-right\"},\"nodeType\":\"DOM\",\"type\":\"node\",\"instanceArgs\":{\"namespace\":\"html\",\"tag\":\"div\"},\"children\":[{\"props\":{\"attributes\":{\"data-bind\":\"text: formatted_val\"}},\"nodeType\":\"DOM\",\"type\":\"node\",\"instanceArgs\":{\"namespace\":\"html\",\"tag\":\"p\"},\"children\":[]}]}]}]}]},{\"props\":{},\"nodeType\":\"Scope\",\"type\":\"node\",\"instanceArgs\":{\"imports\":{\"data\":[],\"type\":\"async_block\"},\"id\":\"15649565661833856767\",\"handlers\":{},\"systemjs_options\":null,\"mount_callbacks\":[],\"observables\":{\"obs-node\":{\"sync\":false,\"id\":\"13151221181823518577\",\"value\":{\"props\":{\"className\":\"interact-flex-row interact-widget\"},\"nodeType\":\"DOM\",\"type\":\"node\",\"instanceArgs\":{\"namespace\":\"html\",\"tag\":\"div\"},\"children\":[{\"props\":{\"setInnerHtml\":\"<?xml version=\\\"1.0\\\" encoding=\\\"utf-8\\\"?>\\n<svg xmlns=\\\"http:\\/\\/www.w3.org\\/2000\\/svg\\\" xmlns:xlink=\\\"http:\\/\\/www.w3.org\\/1999\\/xlink\\\" width=\\\"600\\\" height=\\\"400\\\" viewBox=\\\"0 0 2400 1600\\\">\\n<defs>\\n  <clipPath id=\\\"clip240\\\">\\n    <rect x=\\\"0\\\" y=\\\"0\\\" width=\\\"2400\\\" height=\\\"1600\\\"\\/>\\n  <\\/clipPath>\\n<\\/defs>\\n<path clip-path=\\\"url(#clip240)\\\" d=\\\"\\nM0 1600 L2400 1600 L2400 0 L0 0  Z\\n  \\\" fill=\\\"#ffffff\\\" fill-rule=\\\"evenodd\\\" fill-opacity=\\\"1\\\"\\/>\\n<defs>\\n  <clipPath id=\\\"clip241\\\">\\n    <rect x=\\\"480\\\" y=\\\"0\\\" width=\\\"1681\\\" height=\\\"1600\\\"\\/>\\n  <\\/clipPath>\\n<\\/defs>\\n<path clip-path=\\\"url(#clip240)\\\" d=\\\"\\nM148.334 1486.45 L2352.76 1486.45 L2352.76 47.2441 L148.334 47.2441  Z\\n  \\\" fill=\\\"#ffffff\\\" fill-rule=\\\"evenodd\\\" fill-opacity=\\\"1\\\"\\/>\\n<defs>\\n  <clipPath id=\\\"clip242\\\">\\n    <rect x=\\\"148\\\" y=\\\"47\\\" width=\\\"2205\\\" height=\\\"1440\\\"\\/>\\n  <\\/clipPath>\\n<\\/defs>\\n<polyline clip-path=\\\"url(#clip242)\\\" style=\\\"stroke:#000000; stroke-width:2; stroke-opacity:0.1; fill:none\\\" points=\\\"\\n  148.334,1486.45 148.334,47.2441 \\n  \\\"\\/>\\n<polyline clip-path=\\\"url(#clip242)\\\" style=\\\"stroke:#000000; stroke-width:2; stroke-opacity:0.1; fill:none\\\" points=\\\"\\n  589.219,1486.45 589.219,47.2441 \\n  \\\"\\/>\\n<polyline clip-path=\\\"url(#clip242)\\\" style=\\\"stroke:#000000; stroke-width:2; stroke-opacity:0.1; fill:none\\\" points=\\\"\\n  1030.1,1486.45 1030.1,47.2441 \\n  \\\"\\/>\\n<polyline clip-path=\\\"url(#clip242)\\\" style=\\\"stroke:#000000; stroke-width:2; stroke-opacity:0.1; fill:none\\\" points=\\\"\\n  1470.99,1486.45 1470.99,47.2441 \\n  \\\"\\/>\\n<polyline clip-path=\\\"url(#clip242)\\\" style=\\\"stroke:#000000; stroke-width:2; stroke-opacity:0.1; fill:none\\\" points=\\\"\\n  1911.87,1486.45 1911.87,47.2441 \\n  \\\"\\/>\\n<polyline clip-path=\\\"url(#clip242)\\\" style=\\\"stroke:#000000; stroke-width:2; stroke-opacity:0.1; fill:none\\\" points=\\\"\\n  2352.76,1486.45 2352.76,47.2441 \\n  \\\"\\/>\\n<polyline clip-path=\\\"url(#clip240)\\\" style=\\\"stroke:#000000; stroke-width:4; stroke-opacity:1; fill:none\\\" points=\\\"\\n  148.334,1486.45 2352.76,1486.45 \\n  \\\"\\/>\\n<polyline clip-path=\\\"url(#clip240)\\\" style=\\\"stroke:#000000; stroke-width:4; stroke-opacity:1; fill:none\\\" points=\\\"\\n  148.334,1486.45 148.334,1469.18 \\n  \\\"\\/>\\n<polyline clip-path=\\\"url(#clip240)\\\" style=\\\"stroke:#000000; stroke-width:4; stroke-opacity:1; fill:none\\\" points=\\\"\\n  589.219,1486.45 589.219,1469.18 \\n  \\\"\\/>\\n<polyline clip-path=\\\"url(#clip240)\\\" style=\\\"stroke:#000000; stroke-width:4; stroke-opacity:1; fill:none\\\" points=\\\"\\n  1030.1,1486.45 1030.1,1469.18 \\n  \\\"\\/>\\n<polyline clip-path=\\\"url(#clip240)\\\" style=\\\"stroke:#000000; stroke-width:4; stroke-opacity:1; fill:none\\\" points=\\\"\\n  1470.99,1486.45 1470.99,1469.18 \\n  \\\"\\/>\\n<polyline clip-path=\\\"url(#clip240)\\\" style=\\\"stroke:#000000; stroke-width:4; stroke-opacity:1; fill:none\\\" points=\\\"\\n  1911.87,1486.45 1911.87,1469.18 \\n  \\\"\\/>\\n<polyline clip-path=\\\"url(#clip240)\\\" style=\\\"stroke:#000000; stroke-width:4; stroke-opacity:1; fill:none\\\" points=\\\"\\n  2352.76,1486.45 2352.76,1469.18 \\n  \\\"\\/>\\n<path clip-path=\\\"url(#clip240)\\\" d=\\\"M 0 0 M129.851 1515.64 Q126.24 1515.64 124.411 1519.2 Q122.605 1522.75 122.605 1529.87 Q122.605 1536.98 124.411 1540.55 Q126.24 1544.09 129.851 1544.09 Q133.485 1544.09 135.29 1540.55 Q137.119 1536.98 137.119 1529.87 Q137.119 1522.75 135.29 1519.2 Q133.485 1515.64 129.851 1515.64 M129.851 1511.93 Q135.661 1511.93 138.716 1516.54 Q141.795 1521.12 141.795 1529.87 Q141.795 1538.6 138.716 1543.21 Q135.661 1547.79 129.851 1547.79 Q124.041 1547.79 120.962 1543.21 Q117.906 1538.6 117.906 1529.87 Q117.906 1521.12 120.962 1516.54 Q124.041 1511.93 129.851 1511.93 Z\\\" fill=\\\"#000000\\\" fill-rule=\\\"evenodd\\\" fill-opacity=\\\"1\\\" \\/><path clip-path=\\\"url(#clip240)\\\" d=\\\"M 0 0 M146.864 1541.24 L151.749 1541.24 L151.749 1547.12 L146.864 1547.12 L146.864 1541.24 Z\\\" fill=\\\"#000000\\\" fill-rule=\\\"evenodd\\\" fill-opacity=\\\"1\\\" \\/><path clip-path=\\\"url(#clip240)\\\" d=\\\"M 0 0 M166.818 1515.64 Q163.207 1515.64 161.378 1519.2 Q159.573 1522.75 159.573 1529.87 Q159.573 1536.98 161.378 1540.55 Q163.207 1544.09 166.818 1544.09 Q170.452 1544.09 172.258 1540.55 Q174.087 1536.98 174.087 1529.87 Q174.087 1522.75 172.258 1519.2 Q170.452 1515.64 166.818 1515.64 M166.818 1511.93 Q172.628 1511.93 175.684 1516.54 Q178.762 1521.12 178.762 1529.87 Q178.762 1538.6 175.684 1543.21 Q172.628 1547.79 166.818 1547.79 Q161.008 1547.79 157.929 1543.21 Q154.874 1538.6 154.874 1529.87 Q154.874 1521.12 157.929 1516.54 Q161.008 1511.93 166.818 1511.93 Z\\\" fill=\\\"#000000\\\" fill-rule=\\\"evenodd\\\" fill-opacity=\\\"1\\\" \\/><path clip-path=\\\"url(#clip240)\\\" d=\\\"M 0 0 M571.534 1515.64 Q567.923 1515.64 566.094 1519.2 Q564.288 1522.75 564.288 1529.87 Q564.288 1536.98 566.094 1540.55 Q567.923 1544.09 571.534 1544.09 Q575.168 1544.09 576.973 1540.55 Q578.802 1536.98 578.802 1529.87 Q578.802 1522.75 576.973 1519.2 Q575.168 1515.64 571.534 1515.64 M571.534 1511.93 Q577.344 1511.93 580.399 1516.54 Q583.478 1521.12 583.478 1529.87 Q583.478 1538.6 580.399 1543.21 Q577.344 1547.79 571.534 1547.79 Q565.723 1547.79 562.645 1543.21 Q559.589 1538.6 559.589 1529.87 Q559.589 1521.12 562.645 1516.54 Q565.723 1511.93 571.534 1511.93 Z\\\" fill=\\\"#000000\\\" fill-rule=\\\"evenodd\\\" fill-opacity=\\\"1\\\" \\/><path clip-path=\\\"url(#clip240)\\\" d=\\\"M 0 0 M588.547 1541.24 L593.432 1541.24 L593.432 1547.12 L588.547 1547.12 L588.547 1541.24 Z\\\" fill=\\\"#000000\\\" fill-rule=\\\"evenodd\\\" fill-opacity=\\\"1\\\" \\/><path clip-path=\\\"url(#clip240)\\\" d=\\\"M 0 0 M602.529 1543.18 L618.848 1543.18 L618.848 1547.12 L596.904 1547.12 L596.904 1543.18 Q599.566 1540.43 604.149 1535.8 Q608.756 1531.15 609.936 1529.81 Q612.182 1527.28 613.061 1525.55 Q613.964 1523.79 613.964 1522.1 Q613.964 1519.34 612.019 1517.61 Q610.098 1515.87 606.996 1515.87 Q604.797 1515.87 602.344 1516.63 Q599.913 1517.4 597.135 1518.95 L597.135 1514.23 Q599.959 1513.09 602.413 1512.51 Q604.867 1511.93 606.904 1511.93 Q612.274 1511.93 615.469 1514.62 Q618.663 1517.31 618.663 1521.8 Q618.663 1523.93 617.853 1525.85 Q617.066 1527.74 614.959 1530.34 Q614.381 1531.01 611.279 1534.23 Q608.177 1537.42 602.529 1543.18 Z\\\" fill=\\\"#000000\\\" fill-rule=\\\"evenodd\\\" fill-opacity=\\\"1\\\" \\/><path clip-path=\\\"url(#clip240)\\\" d=\\\"M 0 0 M1011.38 1515.64 Q1007.77 1515.64 1005.94 1519.2 Q1004.13 1522.75 1004.13 1529.87 Q1004.13 1536.98 1005.94 1540.55 Q1007.77 1544.09 1011.38 1544.09 Q1015.01 1544.09 1016.82 1540.55 Q1018.64 1536.98 1018.64 1529.87 Q1018.64 1522.75 1016.82 1519.2 Q1015.01 1515.64 1011.38 1515.64 M1011.38 1511.93 Q1017.19 1511.93 1020.24 1516.54 Q1023.32 1521.12 1023.32 1529.87 Q1023.32 1538.6 1020.24 1543.21 Q1017.19 1547.79 1011.38 1547.79 Q1005.57 1547.79 1002.49 1543.21 Q999.432 1538.6 999.432 1529.87 Q999.432 1521.12 1002.49 1516.54 Q1005.57 1511.93 1011.38 1511.93 Z\\\" fill=\\\"#000000\\\" fill-rule=\\\"evenodd\\\" fill-opacity=\\\"1\\\" \\/><path clip-path=\\\"url(#clip240)\\\" d=\\\"M 0 0 M1028.39 1541.24 L1033.27 1541.24 L1033.27 1547.12 L1028.39 1547.12 L1028.39 1541.24 Z\\\" fill=\\\"#000000\\\" fill-rule=\\\"evenodd\\\" fill-opacity=\\\"1\\\" \\/><path clip-path=\\\"url(#clip240)\\\" d=\\\"M 0 0 M1051.19 1516.63 L1039.39 1535.08 L1051.19 1535.08 L1051.19 1516.63 M1049.96 1512.56 L1055.84 1512.56 L1055.84 1535.08 L1060.77 1535.08 L1060.77 1538.97 L1055.84 1538.97 L1055.84 1547.12 L1051.19 1547.12 L1051.19 1538.97 L1035.59 1538.97 L1035.59 1534.46 L1049.96 1512.56 Z\\\" fill=\\\"#000000\\\" fill-rule=\\\"evenodd\\\" fill-opacity=\\\"1\\\" \\/><path clip-path=\\\"url(#clip240)\\\" d=\\\"M 0 0 M1452.42 1515.64 Q1448.81 1515.64 1446.98 1519.2 Q1445.18 1522.75 1445.18 1529.87 Q1445.18 1536.98 1446.98 1540.55 Q1448.81 1544.09 1452.42 1544.09 Q1456.06 1544.09 1457.86 1540.55 Q1459.69 1536.98 1459.69 1529.87 Q1459.69 1522.75 1457.86 1519.2 Q1456.06 1515.64 1452.42 1515.64 M1452.42 1511.93 Q1458.23 1511.93 1461.29 1516.54 Q1464.37 1521.12 1464.37 1529.87 Q1464.37 1538.6 1461.29 1543.21 Q1458.23 1547.79 1452.42 1547.79 Q1446.61 1547.79 1443.53 1543.21 Q1440.48 1538.6 1440.48 1529.87 Q1440.48 1521.12 1443.53 1516.54 Q1446.61 1511.93 1452.42 1511.93 Z\\\" fill=\\\"#000000\\\" fill-rule=\\\"evenodd\\\" fill-opacity=\\\"1\\\" \\/><path clip-path=\\\"url(#clip240)\\\" d=\\\"M 0 0 M1469.44 1541.24 L1474.32 1541.24 L1474.32 1547.12 L1469.44 1547.12 L1469.44 1541.24 Z\\\" fill=\\\"#000000\\\" fill-rule=\\\"evenodd\\\" fill-opacity=\\\"1\\\" \\/><path clip-path=\\\"url(#clip240)\\\" d=\\\"M 0 0 M1489.97 1527.98 Q1486.82 1527.98 1484.97 1530.13 Q1483.14 1532.28 1483.14 1536.03 Q1483.14 1539.76 1484.97 1541.93 Q1486.82 1544.09 1489.97 1544.09 Q1493.12 1544.09 1494.95 1541.93 Q1496.8 1539.76 1496.8 1536.03 Q1496.8 1532.28 1494.95 1530.13 Q1493.12 1527.98 1489.97 1527.98 M1499.25 1513.32 L1499.25 1517.58 Q1497.49 1516.75 1495.69 1516.31 Q1493.9 1515.87 1492.14 1515.87 Q1487.51 1515.87 1485.06 1519 Q1482.63 1522.12 1482.28 1528.44 Q1483.65 1526.43 1485.71 1525.36 Q1487.77 1524.27 1490.25 1524.27 Q1495.45 1524.27 1498.46 1527.44 Q1501.5 1530.59 1501.5 1536.03 Q1501.5 1541.36 1498.35 1544.57 Q1495.2 1547.79 1489.97 1547.79 Q1483.97 1547.79 1480.8 1543.21 Q1477.63 1538.6 1477.63 1529.87 Q1477.63 1521.68 1481.52 1516.82 Q1485.41 1511.93 1491.96 1511.93 Q1493.72 1511.93 1495.5 1512.28 Q1497.31 1512.63 1499.25 1513.32 Z\\\" fill=\\\"#000000\\\" fill-rule=\\\"evenodd\\\" fill-opacity=\\\"1\\\" \\/><path clip-path=\\\"url(#clip240)\\\" d=\\\"M 0 0 M1893.43 1515.64 Q1889.82 1515.64 1887.99 1519.2 Q1886.19 1522.75 1886.19 1529.87 Q1886.19 1536.98 1887.99 1540.55 Q1889.82 1544.09 1893.43 1544.09 Q1897.07 1544.09 1898.87 1540.55 Q1900.7 1536.98 1900.7 1529.87 Q1900.7 1522.75 1898.87 1519.2 Q1897.07 1515.64 1893.43 1515.64 M1893.43 1511.93 Q1899.24 1511.93 1902.3 1516.54 Q1905.38 1521.12 1905.38 1529.87 Q1905.38 1538.6 1902.3 1543.21 Q1899.24 1547.79 1893.43 1547.79 Q1887.62 1547.79 1884.55 1543.21 Q1881.49 1538.6 1881.49 1529.87 Q1881.49 1521.12 1884.55 1516.54 Q1887.62 1511.93 1893.43 1511.93 Z\\\" fill=\\\"#000000\\\" fill-rule=\\\"evenodd\\\" fill-opacity=\\\"1\\\" \\/><path clip-path=\\\"url(#clip240)\\\" d=\\\"M 0 0 M1910.45 1541.24 L1915.33 1541.24 L1915.33 1547.12 L1910.45 1547.12 L1910.45 1541.24 Z\\\" fill=\\\"#000000\\\" fill-rule=\\\"evenodd\\\" fill-opacity=\\\"1\\\" \\/><path clip-path=\\\"url(#clip240)\\\" d=\\\"M 0 0 M1930.4 1530.71 Q1927.07 1530.71 1925.15 1532.49 Q1923.25 1534.27 1923.25 1537.4 Q1923.25 1540.52 1925.15 1542.31 Q1927.07 1544.09 1930.4 1544.09 Q1933.73 1544.09 1935.66 1542.31 Q1937.58 1540.5 1937.58 1537.4 Q1937.58 1534.27 1935.66 1532.49 Q1933.76 1530.71 1930.4 1530.71 M1925.73 1528.72 Q1922.72 1527.98 1921.03 1525.92 Q1919.36 1523.86 1919.36 1520.89 Q1919.36 1516.75 1922.3 1514.34 Q1925.26 1511.93 1930.4 1511.93 Q1935.56 1511.93 1938.5 1514.34 Q1941.44 1516.75 1941.44 1520.89 Q1941.44 1523.86 1939.75 1525.92 Q1938.09 1527.98 1935.1 1528.72 Q1938.48 1529.5 1940.36 1531.8 Q1942.25 1534.09 1942.25 1537.4 Q1942.25 1542.42 1939.17 1545.11 Q1936.12 1547.79 1930.4 1547.79 Q1924.68 1547.79 1921.61 1545.11 Q1918.55 1542.42 1918.55 1537.4 Q1918.55 1534.09 1920.45 1531.8 Q1922.35 1529.5 1925.73 1528.72 M1924.01 1521.33 Q1924.01 1524.02 1925.68 1525.52 Q1927.37 1527.03 1930.4 1527.03 Q1933.41 1527.03 1935.1 1525.52 Q1936.81 1524.02 1936.81 1521.33 Q1936.81 1518.65 1935.1 1517.14 Q1933.41 1515.64 1930.4 1515.64 Q1927.37 1515.64 1925.68 1517.14 Q1924.01 1518.65 1924.01 1521.33 Z\\\" fill=\\\"#000000\\\" fill-rule=\\\"evenodd\\\" fill-opacity=\\\"1\\\" \\/><path clip-path=\\\"url(#clip240)\\\" d=\\\"M 0 0 M2324.65 1543.18 L2332.29 1543.18 L2332.29 1516.82 L2323.98 1518.49 L2323.98 1514.23 L2332.25 1512.56 L2336.92 1512.56 L2336.92 1543.18 L2344.56 1543.18 L2344.56 1547.12 L2324.65 1547.12 L2324.65 1543.18 Z\\\" fill=\\\"#000000\\\" fill-rule=\\\"evenodd\\\" fill-opacity=\\\"1\\\" \\/><path clip-path=\\\"url(#clip240)\\\" d=\\\"M 0 0 M2349.63 1541.24 L2354.52 1541.24 L2354.52 1547.12 L2349.63 1547.12 L2349.63 1541.24 Z\\\" fill=\\\"#000000\\\" fill-rule=\\\"evenodd\\\" fill-opacity=\\\"1\\\" \\/><path clip-path=\\\"url(#clip240)\\\" d=\\\"M 0 0 M2369.58 1515.64 Q2365.97 1515.64 2364.14 1519.2 Q2362.34 1522.75 2362.34 1529.87 Q2362.34 1536.98 2364.14 1540.55 Q2365.97 1544.09 2369.58 1544.09 Q2373.22 1544.09 2375.02 1540.55 Q2376.85 1536.98 2376.85 1529.87 Q2376.85 1522.75 2375.02 1519.2 Q2373.22 1515.64 2369.58 1515.64 M2369.58 1511.93 Q2375.39 1511.93 2378.45 1516.54 Q2381.53 1521.12 2381.53 1529.87 Q2381.53 1538.6 2378.45 1543.21 Q2375.39 1547.79 2369.58 1547.79 Q2363.77 1547.79 2360.7 1543.21 Q2357.64 1538.6 2357.64 1529.87 Q2357.64 1521.12 2360.7 1516.54 Q2363.77 1511.93 2369.58 1511.93 Z\\\" fill=\\\"#000000\\\" fill-rule=\\\"evenodd\\\" fill-opacity=\\\"1\\\" \\/><polyline clip-path=\\\"url(#clip242)\\\" style=\\\"stroke:#000000; stroke-width:2; stroke-opacity:0.1; fill:none\\\" points=\\\"\\n  148.334,1486.45 2352.76,1486.45 \\n  \\\"\\/>\\n<polyline clip-path=\\\"url(#clip242)\\\" style=\\\"stroke:#000000; stroke-width:2; stroke-opacity:0.1; fill:none\\\" points=\\\"\\n  148.334,1198.61 2352.76,1198.61 \\n  \\\"\\/>\\n<polyline clip-path=\\\"url(#clip242)\\\" style=\\\"stroke:#000000; stroke-width:2; stroke-opacity:0.1; fill:none\\\" points=\\\"\\n  148.334,910.766 2352.76,910.766 \\n  \\\"\\/>\\n<polyline clip-path=\\\"url(#clip242)\\\" style=\\\"stroke:#000000; stroke-width:2; stroke-opacity:0.1; fill:none\\\" points=\\\"\\n  148.334,622.926 2352.76,622.926 \\n  \\\"\\/>\\n<polyline clip-path=\\\"url(#clip242)\\\" style=\\\"stroke:#000000; stroke-width:2; stroke-opacity:0.1; fill:none\\\" points=\\\"\\n  148.334,335.085 2352.76,335.085 \\n  \\\"\\/>\\n<polyline clip-path=\\\"url(#clip242)\\\" style=\\\"stroke:#000000; stroke-width:2; stroke-opacity:0.1; fill:none\\\" points=\\\"\\n  148.334,47.2441 2352.76,47.2441 \\n  \\\"\\/>\\n<polyline clip-path=\\\"url(#clip240)\\\" style=\\\"stroke:#000000; stroke-width:4; stroke-opacity:1; fill:none\\\" points=\\\"\\n  148.334,1486.45 148.334,47.2441 \\n  \\\"\\/>\\n<polyline clip-path=\\\"url(#clip240)\\\" style=\\\"stroke:#000000; stroke-width:4; stroke-opacity:1; fill:none\\\" points=\\\"\\n  148.334,1486.45 174.787,1486.45 \\n  \\\"\\/>\\n<polyline clip-path=\\\"url(#clip240)\\\" style=\\\"stroke:#000000; stroke-width:4; stroke-opacity:1; fill:none\\\" points=\\\"\\n  148.334,1198.61 174.787,1198.61 \\n  \\\"\\/>\\n<polyline clip-path=\\\"url(#clip240)\\\" style=\\\"stroke:#000000; stroke-width:4; stroke-opacity:1; fill:none\\\" points=\\\"\\n  148.334,910.766 174.787,910.766 \\n  \\\"\\/>\\n<polyline clip-path=\\\"url(#clip240)\\\" style=\\\"stroke:#000000; stroke-width:4; stroke-opacity:1; fill:none\\\" points=\\\"\\n  148.334,622.926 174.787,622.926 \\n  \\\"\\/>\\n<polyline clip-path=\\\"url(#clip240)\\\" style=\\\"stroke:#000000; stroke-width:4; stroke-opacity:1; fill:none\\\" points=\\\"\\n  148.334,335.085 174.787,335.085 \\n  \\\"\\/>\\n<polyline clip-path=\\\"url(#clip240)\\\" style=\\\"stroke:#000000; stroke-width:4; stroke-opacity:1; fill:none\\\" points=\\\"\\n  148.334,47.2441 174.787,47.2441 \\n  \\\"\\/>\\n<path clip-path=\\\"url(#clip240)\\\" d=\\\"M 0 0 M63.4226 1472.25 Q59.8115 1472.25 57.9828 1475.81 Q56.1773 1479.35 56.1773 1486.48 Q56.1773 1493.59 57.9828 1497.15 Q59.8115 1500.7 63.4226 1500.7 Q67.0569 1500.7 68.8624 1497.15 Q70.6911 1493.59 70.6911 1486.48 Q70.6911 1479.35 68.8624 1475.81 Q67.0569 1472.25 63.4226 1472.25 M63.4226 1468.54 Q69.2328 1468.54 72.2883 1473.15 Q75.367 1477.73 75.367 1486.48 Q75.367 1495.21 72.2883 1499.82 Q69.2328 1504.4 63.4226 1504.4 Q57.6125 1504.4 54.5338 1499.82 Q51.4782 1495.21 51.4782 1486.48 Q51.4782 1477.73 54.5338 1473.15 Q57.6125 1468.54 63.4226 1468.54 Z\\\" fill=\\\"#000000\\\" fill-rule=\\\"evenodd\\\" fill-opacity=\\\"1\\\" \\/><path clip-path=\\\"url(#clip240)\\\" d=\\\"M 0 0 M80.4364 1497.85 L85.3206 1497.85 L85.3206 1503.73 L80.4364 1503.73 L80.4364 1497.85 Z\\\" fill=\\\"#000000\\\" fill-rule=\\\"evenodd\\\" fill-opacity=\\\"1\\\" \\/><path clip-path=\\\"url(#clip240)\\\" d=\\\"M 0 0 M100.39 1472.25 Q96.7789 1472.25 94.9502 1475.81 Q93.1447 1479.35 93.1447 1486.48 Q93.1447 1493.59 94.9502 1497.15 Q96.7789 1500.7 100.39 1500.7 Q104.024 1500.7 105.83 1497.15 Q107.658 1493.59 107.658 1486.48 Q107.658 1479.35 105.83 1475.81 Q104.024 1472.25 100.39 1472.25 M100.39 1468.54 Q106.2 1468.54 109.256 1473.15 Q112.334 1477.73 112.334 1486.48 Q112.334 1495.21 109.256 1499.82 Q106.2 1504.4 100.39 1504.4 Q94.5799 1504.4 91.5012 1499.82 Q88.4456 1495.21 88.4456 1486.48 Q88.4456 1477.73 91.5012 1473.15 Q94.5799 1468.54 100.39 1468.54 Z\\\" fill=\\\"#000000\\\" fill-rule=\\\"evenodd\\\" fill-opacity=\\\"1\\\" \\/><path clip-path=\\\"url(#clip240)\\\" d=\\\"M 0 0 M65.0198 1184.41 Q61.4087 1184.41 59.58 1187.97 Q57.7745 1191.51 57.7745 1198.64 Q57.7745 1205.75 59.58 1209.31 Q61.4087 1212.85 65.0198 1212.85 Q68.6541 1212.85 70.4596 1209.31 Q72.2883 1205.75 72.2883 1198.64 Q72.2883 1191.51 70.4596 1187.97 Q68.6541 1184.41 65.0198 1184.41 M65.0198 1180.7 Q70.83 1180.7 73.8855 1185.31 Q76.9642 1189.89 76.9642 1198.64 Q76.9642 1207.37 73.8855 1211.98 Q70.83 1216.56 65.0198 1216.56 Q59.2097 1216.56 56.131 1211.98 Q53.0754 1207.37 53.0754 1198.64 Q53.0754 1189.89 56.131 1185.31 Q59.2097 1180.7 65.0198 1180.7 Z\\\" fill=\\\"#000000\\\" fill-rule=\\\"evenodd\\\" fill-opacity=\\\"1\\\" \\/><path clip-path=\\\"url(#clip240)\\\" d=\\\"M 0 0 M82.0336 1210.01 L86.9179 1210.01 L86.9179 1215.89 L82.0336 1215.89 L82.0336 1210.01 Z\\\" fill=\\\"#000000\\\" fill-rule=\\\"evenodd\\\" fill-opacity=\\\"1\\\" \\/><path clip-path=\\\"url(#clip240)\\\" d=\\\"M 0 0 M96.015 1211.95 L112.334 1211.95 L112.334 1215.89 L90.3901 1215.89 L90.3901 1211.95 Q93.0521 1209.2 97.6354 1204.57 Q102.242 1199.91 103.422 1198.57 Q105.668 1196.05 106.547 1194.31 Q107.45 1192.55 107.45 1190.86 Q107.45 1188.11 105.506 1186.37 Q103.584 1184.64 100.483 1184.64 Q98.2835 1184.64 95.8298 1185.4 Q93.3993 1186.17 90.6215 1187.72 L90.6215 1182.99 Q93.4456 1181.86 95.8993 1181.28 Q98.353 1180.7 100.39 1180.7 Q105.76 1180.7 108.955 1183.39 Q112.149 1186.07 112.149 1190.56 Q112.149 1192.69 111.339 1194.61 Q110.552 1196.51 108.446 1199.1 Q107.867 1199.78 104.765 1202.99 Q101.663 1206.19 96.015 1211.95 Z\\\" fill=\\\"#000000\\\" fill-rule=\\\"evenodd\\\" fill-opacity=\\\"1\\\" \\/><path clip-path=\\\"url(#clip240)\\\" d=\\\"M 0 0 M62.9365 896.565 Q59.3254 896.565 57.4967 900.13 Q55.6912 903.671 55.6912 910.801 Q55.6912 917.908 57.4967 921.472 Q59.3254 925.014 62.9365 925.014 Q66.5707 925.014 68.3763 921.472 Q70.205 917.908 70.205 910.801 Q70.205 903.671 68.3763 900.13 Q66.5707 896.565 62.9365 896.565 M62.9365 892.861 Q68.7467 892.861 71.8022 897.468 Q74.8809 902.051 74.8809 910.801 Q74.8809 919.528 71.8022 924.134 Q68.7467 928.718 62.9365 928.718 Q57.1264 928.718 54.0477 924.134 Q50.9921 919.528 50.9921 910.801 Q50.9921 902.051 54.0477 897.468 Q57.1264 892.861 62.9365 892.861 Z\\\" fill=\\\"#000000\\\" fill-rule=\\\"evenodd\\\" fill-opacity=\\\"1\\\" \\/><path clip-path=\\\"url(#clip240)\\\" d=\\\"M 0 0 M79.9503 922.167 L84.8345 922.167 L84.8345 928.046 L79.9503 928.046 L79.9503 922.167 Z\\\" fill=\\\"#000000\\\" fill-rule=\\\"evenodd\\\" fill-opacity=\\\"1\\\" \\/><path clip-path=\\\"url(#clip240)\\\" d=\\\"M 0 0 M102.751 897.56 L90.9456 916.009 L102.751 916.009 L102.751 897.56 M101.524 893.486 L107.404 893.486 L107.404 916.009 L112.334 916.009 L112.334 919.898 L107.404 919.898 L107.404 928.046 L102.751 928.046 L102.751 919.898 L87.1493 919.898 L87.1493 915.384 L101.524 893.486 Z\\\" fill=\\\"#000000\\\" fill-rule=\\\"evenodd\\\" fill-opacity=\\\"1\\\" \\/><path clip-path=\\\"url(#clip240)\\\" d=\\\"M 0 0 M63.2606 608.724 Q59.6495 608.724 57.8208 612.289 Q56.0152 615.831 56.0152 622.96 Q56.0152 630.067 57.8208 633.632 Q59.6495 637.173 63.2606 637.173 Q66.8948 637.173 68.7004 633.632 Q70.5291 630.067 70.5291 622.96 Q70.5291 615.831 68.7004 612.289 Q66.8948 608.724 63.2606 608.724 M63.2606 605.021 Q69.0707 605.021 72.1263 609.627 Q75.205 614.21 75.205 622.96 Q75.205 631.687 72.1263 636.294 Q69.0707 640.877 63.2606 640.877 Q57.4504 640.877 54.3717 636.294 Q51.3162 631.687 51.3162 622.96 Q51.3162 614.21 54.3717 609.627 Q57.4504 605.021 63.2606 605.021 Z\\\" fill=\\\"#000000\\\" fill-rule=\\\"evenodd\\\" fill-opacity=\\\"1\\\" \\/><path clip-path=\\\"url(#clip240)\\\" d=\\\"M 0 0 M80.2744 634.326 L85.1586 634.326 L85.1586 640.206 L80.2744 640.206 L80.2744 634.326 Z\\\" fill=\\\"#000000\\\" fill-rule=\\\"evenodd\\\" fill-opacity=\\\"1\\\" \\/><path clip-path=\\\"url(#clip240)\\\" d=\\\"M 0 0 M100.807 621.062 Q97.6585 621.062 95.8067 623.215 Q93.978 625.368 93.978 629.118 Q93.978 632.845 95.8067 635.02 Q97.6585 637.173 100.807 637.173 Q103.955 637.173 105.783 635.02 Q107.635 632.845 107.635 629.118 Q107.635 625.368 105.783 623.215 Q103.955 621.062 100.807 621.062 M110.089 606.409 L110.089 610.669 Q108.33 609.835 106.524 609.396 Q104.742 608.956 102.983 608.956 Q98.353 608.956 95.8993 612.081 Q93.4688 615.206 93.1215 621.525 Q94.4873 619.511 96.5474 618.446 Q98.6076 617.359 101.084 617.359 Q106.293 617.359 109.302 620.53 Q112.334 623.678 112.334 629.118 Q112.334 634.442 109.186 637.659 Q106.038 640.877 100.807 640.877 Q94.8113 640.877 91.6401 636.294 Q88.4688 631.687 88.4688 622.96 Q88.4688 614.766 92.3576 609.905 Q96.2465 605.021 102.797 605.021 Q104.557 605.021 106.339 605.368 Q108.145 605.715 110.089 606.409 Z\\\" fill=\\\"#000000\\\" fill-rule=\\\"evenodd\\\" fill-opacity=\\\"1\\\" \\/><path clip-path=\\\"url(#clip240)\\\" d=\\\"M 0 0 M63.5152 320.884 Q59.9041 320.884 58.0754 324.448 Q56.2699 327.99 56.2699 335.12 Q56.2699 342.226 58.0754 345.791 Q59.9041 349.332 63.5152 349.332 Q67.1494 349.332 68.955 345.791 Q70.7837 342.226 70.7837 335.12 Q70.7837 327.99 68.955 324.448 Q67.1494 320.884 63.5152 320.884 M63.5152 317.18 Q69.3254 317.18 72.3809 321.786 Q75.4596 326.37 75.4596 335.12 Q75.4596 343.846 72.3809 348.453 Q69.3254 353.036 63.5152 353.036 Q57.7051 353.036 54.6264 348.453 Q51.5708 343.846 51.5708 335.12 Q51.5708 326.37 54.6264 321.786 Q57.7051 317.18 63.5152 317.18 Z\\\" fill=\\\"#000000\\\" fill-rule=\\\"evenodd\\\" fill-opacity=\\\"1\\\" \\/><path clip-path=\\\"url(#clip240)\\\" d=\\\"M 0 0 M80.529 346.485 L85.4132 346.485 L85.4132 352.365 L80.529 352.365 L80.529 346.485 Z\\\" fill=\\\"#000000\\\" fill-rule=\\\"evenodd\\\" fill-opacity=\\\"1\\\" \\/><path clip-path=\\\"url(#clip240)\\\" d=\\\"M 0 0 M100.483 335.953 Q97.1493 335.953 95.228 337.735 Q93.3299 339.518 93.3299 342.643 Q93.3299 345.768 95.228 347.55 Q97.1493 349.332 100.483 349.332 Q103.816 349.332 105.737 347.55 Q107.658 345.745 107.658 342.643 Q107.658 339.518 105.737 337.735 Q103.839 335.953 100.483 335.953 M95.8067 333.962 Q92.7975 333.221 91.1077 331.161 Q89.441 329.101 89.441 326.138 Q89.441 321.995 92.3808 319.587 Q95.3437 317.18 100.483 317.18 Q105.645 317.18 108.584 319.587 Q111.524 321.995 111.524 326.138 Q111.524 329.101 109.834 331.161 Q108.168 333.221 105.182 333.962 Q108.561 334.749 110.436 337.041 Q112.334 339.333 112.334 342.643 Q112.334 347.666 109.256 350.351 Q106.2 353.036 100.483 353.036 Q94.765 353.036 91.6864 350.351 Q88.6308 347.666 88.6308 342.643 Q88.6308 339.333 90.529 337.041 Q92.4271 334.749 95.8067 333.962 M94.0937 326.578 Q94.0937 329.263 95.7604 330.768 Q97.4502 332.272 100.483 332.272 Q103.492 332.272 105.182 330.768 Q106.895 329.263 106.895 326.578 Q106.895 323.893 105.182 322.388 Q103.492 320.884 100.483 320.884 Q97.4502 320.884 95.7604 322.388 Q94.0937 323.893 94.0937 326.578 Z\\\" fill=\\\"#000000\\\" fill-rule=\\\"evenodd\\\" fill-opacity=\\\"1\\\" \\/><path clip-path=\\\"url(#clip240)\\\" d=\\\"M 0 0 M55.4597 60.5889 L63.0985 60.5889 L63.0985 34.2233 L54.7884 35.89 L54.7884 31.6308 L63.0522 29.9641 L67.7281 29.9641 L67.7281 60.5889 L75.367 60.5889 L75.367 64.5241 L55.4597 64.5241 L55.4597 60.5889 Z\\\" fill=\\\"#000000\\\" fill-rule=\\\"evenodd\\\" fill-opacity=\\\"1\\\" \\/><path clip-path=\\\"url(#clip240)\\\" d=\\\"M 0 0 M80.4364 58.6445 L85.3206 58.6445 L85.3206 64.5241 L80.4364 64.5241 L80.4364 58.6445 Z\\\" fill=\\\"#000000\\\" fill-rule=\\\"evenodd\\\" fill-opacity=\\\"1\\\" \\/><path clip-path=\\\"url(#clip240)\\\" d=\\\"M 0 0 M100.39 33.0428 Q96.7789 33.0428 94.9502 36.6076 Q93.1447 40.1492 93.1447 47.2788 Q93.1447 54.3853 94.9502 57.9501 Q96.7789 61.4917 100.39 61.4917 Q104.024 61.4917 105.83 57.9501 Q107.658 54.3853 107.658 47.2788 Q107.658 40.1492 105.83 36.6076 Q104.024 33.0428 100.39 33.0428 M100.39 29.3391 Q106.2 29.3391 109.256 33.9456 Q112.334 38.5289 112.334 47.2788 Q112.334 56.0056 109.256 60.6121 Q106.2 65.1954 100.39 65.1954 Q94.5799 65.1954 91.5012 60.6121 Q88.4456 56.0056 88.4456 47.2788 Q88.4456 38.5289 91.5012 33.9456 Q94.5799 29.3391 100.39 29.3391 Z\\\" fill=\\\"#000000\\\" fill-rule=\\\"evenodd\\\" fill-opacity=\\\"1\\\" \\/><circle clip-path=\\\"url(#clip242)\\\" cx=\\\"919.281\\\" cy=\\\"766.846\\\" r=\\\"14\\\" fill=\\\"#009af9\\\" fill-rule=\\\"evenodd\\\" fill-opacity=\\\"1\\\" stroke=\\\"#000000\\\" stroke-opacity=\\\"1\\\" stroke-width=\\\"3.2\\\"\\/>\\n<circle clip-path=\\\"url(#clip242)\\\" cx=\\\"1165.28\\\" cy=\\\"766.846\\\" r=\\\"14\\\" fill=\\\"#009af9\\\" fill-rule=\\\"evenodd\\\" fill-opacity=\\\"1\\\" stroke=\\\"#000000\\\" stroke-opacity=\\\"1\\\" stroke-width=\\\"3.2\\\"\\/>\\n<circle clip-path=\\\"url(#clip242)\\\" cx=\\\"1018.4\\\" cy=\\\"766.846\\\" r=\\\"14\\\" fill=\\\"#009af9\\\" fill-rule=\\\"evenodd\\\" fill-opacity=\\\"1\\\" stroke=\\\"#000000\\\" stroke-opacity=\\\"1\\\" stroke-width=\\\"3.2\\\"\\/>\\n<circle clip-path=\\\"url(#clip242)\\\" cx=\\\"614.654\\\" cy=\\\"766.846\\\" r=\\\"14\\\" fill=\\\"#009af9\\\" fill-rule=\\\"evenodd\\\" fill-opacity=\\\"1\\\" stroke=\\\"#000000\\\" stroke-opacity=\\\"1\\\" stroke-width=\\\"3.2\\\"\\/>\\n<circle clip-path=\\\"url(#clip242)\\\" cx=\\\"186.63\\\" cy=\\\"766.846\\\" r=\\\"14\\\" fill=\\\"#009af9\\\" fill-rule=\\\"evenodd\\\" fill-opacity=\\\"1\\\" stroke=\\\"#000000\\\" stroke-opacity=\\\"1\\\" stroke-width=\\\"3.2\\\"\\/>\\n<circle clip-path=\\\"url(#clip242)\\\" cx=\\\"875.345\\\" cy=\\\"766.846\\\" r=\\\"14\\\" fill=\\\"#009af9\\\" fill-rule=\\\"evenodd\\\" fill-opacity=\\\"1\\\" stroke=\\\"#000000\\\" stroke-opacity=\\\"1\\\" stroke-width=\\\"3.2\\\"\\/>\\n<circle clip-path=\\\"url(#clip242)\\\" cx=\\\"323.106\\\" cy=\\\"766.846\\\" r=\\\"14\\\" fill=\\\"#009af9\\\" fill-rule=\\\"evenodd\\\" fill-opacity=\\\"1\\\" stroke=\\\"#000000\\\" stroke-opacity=\\\"1\\\" stroke-width=\\\"3.2\\\"\\/>\\n<circle clip-path=\\\"url(#clip242)\\\" cx=\\\"1523.68\\\" cy=\\\"766.846\\\" r=\\\"14\\\" fill=\\\"#009af9\\\" fill-rule=\\\"evenodd\\\" fill-opacity=\\\"1\\\" stroke=\\\"#000000\\\" stroke-opacity=\\\"1\\\" stroke-width=\\\"3.2\\\"\\/>\\n<circle clip-path=\\\"url(#clip242)\\\" cx=\\\"2133.77\\\" cy=\\\"766.846\\\" r=\\\"14\\\" fill=\\\"#009af9\\\" fill-rule=\\\"evenodd\\\" fill-opacity=\\\"1\\\" stroke=\\\"#000000\\\" stroke-opacity=\\\"1\\\" stroke-width=\\\"3.2\\\"\\/>\\n<circle clip-path=\\\"url(#clip242)\\\" cx=\\\"1047.17\\\" cy=\\\"766.846\\\" r=\\\"14\\\" fill=\\\"#009af9\\\" fill-rule=\\\"evenodd\\\" fill-opacity=\\\"1\\\" stroke=\\\"#000000\\\" stroke-opacity=\\\"1\\\" stroke-width=\\\"3.2\\\"\\/>\\n<circle clip-path=\\\"url(#clip242)\\\" cx=\\\"1970.94\\\" cy=\\\"766.846\\\" r=\\\"14\\\" fill=\\\"#009af9\\\" fill-rule=\\\"evenodd\\\" fill-opacity=\\\"1\\\" stroke=\\\"#000000\\\" stroke-opacity=\\\"1\\\" stroke-width=\\\"3.2\\\"\\/>\\n<circle clip-path=\\\"url(#clip242)\\\" cx=\\\"1245.49\\\" cy=\\\"766.846\\\" r=\\\"14\\\" fill=\\\"#009af9\\\" fill-rule=\\\"evenodd\\\" fill-opacity=\\\"1\\\" stroke=\\\"#000000\\\" stroke-opacity=\\\"1\\\" stroke-width=\\\"3.2\\\"\\/>\\n<circle clip-path=\\\"url(#clip242)\\\" cx=\\\"1561.25\\\" cy=\\\"766.846\\\" r=\\\"14\\\" fill=\\\"#009af9\\\" fill-rule=\\\"evenodd\\\" fill-opacity=\\\"1\\\" stroke=\\\"#000000\\\" stroke-opacity=\\\"1\\\" stroke-width=\\\"3.2\\\"\\/>\\n<circle clip-path=\\\"url(#clip242)\\\" cx=\\\"1424.52\\\" cy=\\\"766.846\\\" r=\\\"14\\\" fill=\\\"#009af9\\\" fill-rule=\\\"evenodd\\\" fill-opacity=\\\"1\\\" stroke=\\\"#000000\\\" stroke-opacity=\\\"1\\\" stroke-width=\\\"3.2\\\"\\/>\\n<circle clip-path=\\\"url(#clip242)\\\" cx=\\\"1423.3\\\" cy=\\\"766.846\\\" r=\\\"14\\\" fill=\\\"#009af9\\\" fill-rule=\\\"evenodd\\\" fill-opacity=\\\"1\\\" stroke=\\\"#000000\\\" stroke-opacity=\\\"1\\\" stroke-width=\\\"3.2\\\"\\/>\\n<circle clip-path=\\\"url(#clip242)\\\" cx=\\\"950.878\\\" cy=\\\"766.846\\\" r=\\\"14\\\" fill=\\\"#009af9\\\" fill-rule=\\\"evenodd\\\" fill-opacity=\\\"1\\\" stroke=\\\"#000000\\\" stroke-opacity=\\\"1\\\" stroke-width=\\\"3.2\\\"\\/>\\n<circle clip-path=\\\"url(#clip242)\\\" cx=\\\"1224.46\\\" cy=\\\"766.846\\\" r=\\\"14\\\" fill=\\\"#009af9\\\" fill-rule=\\\"evenodd\\\" fill-opacity=\\\"1\\\" stroke=\\\"#000000\\\" stroke-opacity=\\\"1\\\" stroke-width=\\\"3.2\\\"\\/>\\n<circle clip-path=\\\"url(#clip242)\\\" cx=\\\"759.079\\\" cy=\\\"766.846\\\" r=\\\"14\\\" fill=\\\"#009af9\\\" fill-rule=\\\"evenodd\\\" fill-opacity=\\\"1\\\" stroke=\\\"#000000\\\" stroke-opacity=\\\"1\\\" stroke-width=\\\"3.2\\\"\\/>\\n<circle clip-path=\\\"url(#clip242)\\\" cx=\\\"1783.14\\\" cy=\\\"766.846\\\" r=\\\"14\\\" fill=\\\"#009af9\\\" fill-rule=\\\"evenodd\\\" fill-opacity=\\\"1\\\" stroke=\\\"#000000\\\" stroke-opacity=\\\"1\\\" stroke-width=\\\"3.2\\\"\\/>\\n<circle clip-path=\\\"url(#clip242)\\\" cx=\\\"886.461\\\" cy=\\\"766.846\\\" r=\\\"14\\\" fill=\\\"#009af9\\\" fill-rule=\\\"evenodd\\\" fill-opacity=\\\"1\\\" stroke=\\\"#000000\\\" stroke-opacity=\\\"1\\\" stroke-width=\\\"3.2\\\"\\/>\\n<circle clip-path=\\\"url(#clip242)\\\" cx=\\\"1623.34\\\" cy=\\\"766.846\\\" r=\\\"14\\\" fill=\\\"#009af9\\\" fill-rule=\\\"evenodd\\\" fill-opacity=\\\"1\\\" stroke=\\\"#000000\\\" stroke-opacity=\\\"1\\\" stroke-width=\\\"3.2\\\"\\/>\\n<circle clip-path=\\\"url(#clip242)\\\" cx=\\\"336.155\\\" cy=\\\"766.846\\\" r=\\\"14\\\" fill=\\\"#009af9\\\" fill-rule=\\\"evenodd\\\" fill-opacity=\\\"1\\\" stroke=\\\"#000000\\\" stroke-opacity=\\\"1\\\" stroke-width=\\\"3.2\\\"\\/>\\n<circle clip-path=\\\"url(#clip242)\\\" cx=\\\"264.761\\\" cy=\\\"766.846\\\" r=\\\"14\\\" fill=\\\"#009af9\\\" fill-rule=\\\"evenodd\\\" fill-opacity=\\\"1\\\" stroke=\\\"#000000\\\" stroke-opacity=\\\"1\\\" stroke-width=\\\"3.2\\\"\\/>\\n<circle clip-path=\\\"url(#clip242)\\\" cx=\\\"2172.48\\\" cy=\\\"766.846\\\" r=\\\"14\\\" fill=\\\"#009af9\\\" fill-rule=\\\"evenodd\\\" fill-opacity=\\\"1\\\" stroke=\\\"#000000\\\" stroke-opacity=\\\"1\\\" stroke-width=\\\"3.2\\\"\\/>\\n<circle clip-path=\\\"url(#clip242)\\\" cx=\\\"1391.19\\\" cy=\\\"766.846\\\" r=\\\"14\\\" fill=\\\"#009af9\\\" fill-rule=\\\"evenodd\\\" fill-opacity=\\\"1\\\" stroke=\\\"#000000\\\" stroke-opacity=\\\"1\\\" stroke-width=\\\"3.2\\\"\\/>\\n<circle clip-path=\\\"url(#clip242)\\\" cx=\\\"1970.93\\\" cy=\\\"766.846\\\" r=\\\"14\\\" fill=\\\"#009af9\\\" fill-rule=\\\"evenodd\\\" fill-opacity=\\\"1\\\" stroke=\\\"#000000\\\" stroke-opacity=\\\"1\\\" stroke-width=\\\"3.2\\\"\\/>\\n<circle clip-path=\\\"url(#clip242)\\\" cx=\\\"281.409\\\" cy=\\\"766.846\\\" r=\\\"14\\\" fill=\\\"#009af9\\\" fill-rule=\\\"evenodd\\\" fill-opacity=\\\"1\\\" stroke=\\\"#000000\\\" stroke-opacity=\\\"1\\\" stroke-width=\\\"3.2\\\"\\/>\\n<circle clip-path=\\\"url(#clip242)\\\" cx=\\\"478.291\\\" cy=\\\"766.846\\\" r=\\\"14\\\" fill=\\\"#009af9\\\" fill-rule=\\\"evenodd\\\" fill-opacity=\\\"1\\\" stroke=\\\"#000000\\\" stroke-opacity=\\\"1\\\" stroke-width=\\\"3.2\\\"\\/>\\n<circle clip-path=\\\"url(#clip242)\\\" cx=\\\"903.804\\\" cy=\\\"766.846\\\" r=\\\"14\\\" fill=\\\"#009af9\\\" fill-rule=\\\"evenodd\\\" fill-opacity=\\\"1\\\" stroke=\\\"#000000\\\" stroke-opacity=\\\"1\\\" stroke-width=\\\"3.2\\\"\\/>\\n<circle clip-path=\\\"url(#clip242)\\\" cx=\\\"2156.09\\\" cy=\\\"766.846\\\" r=\\\"14\\\" fill=\\\"#009af9\\\" fill-rule=\\\"evenodd\\\" fill-opacity=\\\"1\\\" stroke=\\\"#000000\\\" stroke-opacity=\\\"1\\\" stroke-width=\\\"3.2\\\"\\/>\\n<circle clip-path=\\\"url(#clip242)\\\" cx=\\\"1815.44\\\" cy=\\\"766.846\\\" r=\\\"14\\\" fill=\\\"#009af9\\\" fill-rule=\\\"evenodd\\\" fill-opacity=\\\"1\\\" stroke=\\\"#000000\\\" stroke-opacity=\\\"1\\\" stroke-width=\\\"3.2\\\"\\/>\\n<circle clip-path=\\\"url(#clip242)\\\" cx=\\\"2124.21\\\" cy=\\\"766.846\\\" r=\\\"14\\\" fill=\\\"#009af9\\\" fill-rule=\\\"evenodd\\\" fill-opacity=\\\"1\\\" stroke=\\\"#000000\\\" stroke-opacity=\\\"1\\\" stroke-width=\\\"3.2\\\"\\/>\\n<circle clip-path=\\\"url(#clip242)\\\" cx=\\\"1674.69\\\" cy=\\\"766.846\\\" r=\\\"14\\\" fill=\\\"#009af9\\\" fill-rule=\\\"evenodd\\\" fill-opacity=\\\"1\\\" stroke=\\\"#000000\\\" stroke-opacity=\\\"1\\\" stroke-width=\\\"3.2\\\"\\/>\\n<circle clip-path=\\\"url(#clip242)\\\" cx=\\\"1534.35\\\" cy=\\\"766.846\\\" r=\\\"14\\\" fill=\\\"#009af9\\\" fill-rule=\\\"evenodd\\\" fill-opacity=\\\"1\\\" stroke=\\\"#000000\\\" stroke-opacity=\\\"1\\\" stroke-width=\\\"3.2\\\"\\/>\\n<circle clip-path=\\\"url(#clip242)\\\" cx=\\\"1857.72\\\" cy=\\\"766.846\\\" r=\\\"14\\\" fill=\\\"#009af9\\\" fill-rule=\\\"evenodd\\\" fill-opacity=\\\"1\\\" stroke=\\\"#000000\\\" stroke-opacity=\\\"1\\\" stroke-width=\\\"3.2\\\"\\/>\\n<circle clip-path=\\\"url(#clip242)\\\" cx=\\\"1269.53\\\" cy=\\\"766.846\\\" r=\\\"14\\\" fill=\\\"#009af9\\\" fill-rule=\\\"evenodd\\\" fill-opacity=\\\"1\\\" stroke=\\\"#000000\\\" stroke-opacity=\\\"1\\\" stroke-width=\\\"3.2\\\"\\/>\\n<circle clip-path=\\\"url(#clip242)\\\" cx=\\\"1090.26\\\" cy=\\\"766.846\\\" r=\\\"14\\\" fill=\\\"#009af9\\\" fill-rule=\\\"evenodd\\\" fill-opacity=\\\"1\\\" stroke=\\\"#000000\\\" stroke-opacity=\\\"1\\\" stroke-width=\\\"3.2\\\"\\/>\\n<circle clip-path=\\\"url(#clip242)\\\" cx=\\\"1838.11\\\" cy=\\\"766.846\\\" r=\\\"14\\\" fill=\\\"#009af9\\\" fill-rule=\\\"evenodd\\\" fill-opacity=\\\"1\\\" stroke=\\\"#000000\\\" stroke-opacity=\\\"1\\\" stroke-width=\\\"3.2\\\"\\/>\\n<circle clip-path=\\\"url(#clip242)\\\" cx=\\\"1839.2\\\" cy=\\\"766.846\\\" r=\\\"14\\\" fill=\\\"#009af9\\\" fill-rule=\\\"evenodd\\\" fill-opacity=\\\"1\\\" stroke=\\\"#000000\\\" stroke-opacity=\\\"1\\\" stroke-width=\\\"3.2\\\"\\/>\\n<circle clip-path=\\\"url(#clip242)\\\" cx=\\\"762.855\\\" cy=\\\"766.846\\\" r=\\\"14\\\" fill=\\\"#009af9\\\" fill-rule=\\\"evenodd\\\" fill-opacity=\\\"1\\\" stroke=\\\"#000000\\\" stroke-opacity=\\\"1\\\" stroke-width=\\\"3.2\\\"\\/>\\n<circle clip-path=\\\"url(#clip242)\\\" cx=\\\"1986.44\\\" cy=\\\"766.846\\\" r=\\\"14\\\" fill=\\\"#009af9\\\" fill-rule=\\\"evenodd\\\" fill-opacity=\\\"1\\\" stroke=\\\"#000000\\\" stroke-opacity=\\\"1\\\" stroke-width=\\\"3.2\\\"\\/>\\n<circle clip-path=\\\"url(#clip242)\\\" cx=\\\"1763.9\\\" cy=\\\"766.846\\\" r=\\\"14\\\" fill=\\\"#009af9\\\" fill-rule=\\\"evenodd\\\" fill-opacity=\\\"1\\\" stroke=\\\"#000000\\\" stroke-opacity=\\\"1\\\" stroke-width=\\\"3.2\\\"\\/>\\n<circle clip-path=\\\"url(#clip242)\\\" cx=\\\"672.122\\\" cy=\\\"766.846\\\" r=\\\"14\\\" fill=\\\"#009af9\\\" fill-rule=\\\"evenodd\\\" fill-opacity=\\\"1\\\" stroke=\\\"#000000\\\" stroke-opacity=\\\"1\\\" stroke-width=\\\"3.2\\\"\\/>\\n<circle clip-path=\\\"url(#clip242)\\\" cx=\\\"794.155\\\" cy=\\\"766.846\\\" r=\\\"14\\\" fill=\\\"#009af9\\\" fill-rule=\\\"evenodd\\\" fill-opacity=\\\"1\\\" stroke=\\\"#000000\\\" stroke-opacity=\\\"1\\\" stroke-width=\\\"3.2\\\"\\/>\\n<circle clip-path=\\\"url(#clip242)\\\" cx=\\\"1163.04\\\" cy=\\\"766.846\\\" r=\\\"14\\\" fill=\\\"#009af9\\\" fill-rule=\\\"evenodd\\\" fill-opacity=\\\"1\\\" stroke=\\\"#000000\\\" stroke-opacity=\\\"1\\\" stroke-width=\\\"3.2\\\"\\/>\\n<circle clip-path=\\\"url(#clip242)\\\" cx=\\\"1155.95\\\" cy=\\\"766.846\\\" r=\\\"14\\\" fill=\\\"#009af9\\\" fill-rule=\\\"evenodd\\\" fill-opacity=\\\"1\\\" stroke=\\\"#000000\\\" stroke-opacity=\\\"1\\\" stroke-width=\\\"3.2\\\"\\/>\\n<circle clip-path=\\\"url(#clip242)\\\" cx=\\\"1247.99\\\" cy=\\\"766.846\\\" r=\\\"14\\\" fill=\\\"#009af9\\\" fill-rule=\\\"evenodd\\\" fill-opacity=\\\"1\\\" stroke=\\\"#000000\\\" stroke-opacity=\\\"1\\\" stroke-width=\\\"3.2\\\"\\/>\\n<circle clip-path=\\\"url(#clip242)\\\" cx=\\\"235.221\\\" cy=\\\"766.846\\\" r=\\\"14\\\" fill=\\\"#009af9\\\" fill-rule=\\\"evenodd\\\" fill-opacity=\\\"1\\\" stroke=\\\"#000000\\\" stroke-opacity=\\\"1\\\" stroke-width=\\\"3.2\\\"\\/>\\n<circle clip-path=\\\"url(#clip242)\\\" cx=\\\"623.722\\\" cy=\\\"766.846\\\" r=\\\"14\\\" fill=\\\"#009af9\\\" fill-rule=\\\"evenodd\\\" fill-opacity=\\\"1\\\" stroke=\\\"#000000\\\" stroke-opacity=\\\"1\\\" stroke-width=\\\"3.2\\\"\\/>\\n<circle clip-path=\\\"url(#clip242)\\\" cx=\\\"285.385\\\" cy=\\\"766.846\\\" r=\\\"14\\\" fill=\\\"#009af9\\\" fill-rule=\\\"evenodd\\\" fill-opacity=\\\"1\\\" stroke=\\\"#000000\\\" stroke-opacity=\\\"1\\\" stroke-width=\\\"3.2\\\"\\/>\\n<path clip-path=\\\"url(#clip240)\\\" d=\\\"\\nM1983.32 216.178 L2279.28 216.178 L2279.28 95.2176 L1983.32 95.2176  Z\\n  \\\" fill=\\\"#ffffff\\\" fill-rule=\\\"evenodd\\\" fill-opacity=\\\"1\\\"\\/>\\n<polyline clip-path=\\\"url(#clip240)\\\" style=\\\"stroke:#000000; stroke-width:4; stroke-opacity:1; fill:none\\\" points=\\\"\\n  1983.32,216.178 2279.28,216.178 2279.28,95.2176 1983.32,95.2176 1983.32,216.178 \\n  \\\"\\/>\\n<circle clip-path=\\\"url(#clip240)\\\" cx=\\\"2081.3\\\" cy=\\\"155.698\\\" r=\\\"23\\\" fill=\\\"#009af9\\\" fill-rule=\\\"evenodd\\\" fill-opacity=\\\"1\\\" stroke=\\\"#000000\\\" stroke-opacity=\\\"1\\\" stroke-width=\\\"5.12\\\"\\/>\\n<path clip-path=\\\"url(#clip240)\\\" d=\\\"M 0 0 M2193.11 175.385 Q2191.31 180.015 2189.59 181.427 Q2187.88 182.839 2185.01 182.839 L2181.61 182.839 L2181.61 179.274 L2184.11 179.274 Q2185.87 179.274 2186.84 178.44 Q2187.81 177.607 2188.99 174.505 L2189.76 172.561 L2179.27 147.052 L2183.78 147.052 L2191.89 167.329 L2199.99 147.052 L2204.5 147.052 L2193.11 175.385 Z\\\" fill=\\\"#000000\\\" fill-rule=\\\"evenodd\\\" fill-opacity=\\\"1\\\" \\/><path clip-path=\\\"url(#clip240)\\\" d=\\\"M 0 0 M2210.38 169.042 L2218.02 169.042 L2218.02 142.677 L2209.71 144.343 L2209.71 140.084 L2217.97 138.418 L2222.65 138.418 L2222.65 169.042 L2230.29 169.042 L2230.29 172.978 L2210.38 172.978 L2210.38 169.042 Z\\\" fill=\\\"#000000\\\" fill-rule=\\\"evenodd\\\" fill-opacity=\\\"1\\\" \\/><\\/svg>\\n\"},\"nodeType\":\"DOM\",\"type\":\"node\",\"instanceArgs\":{\"namespace\":\"html\",\"tag\":\"div\"},\"children\":[]}]}}}},\"children\":[{\"props\":{},\"nodeType\":\"ObservableNode\",\"type\":\"node\",\"instanceArgs\":{\"id\":\"13151221181823518577\",\"name\":\"obs-node\"},\"children\":[]}]}]},\n",
       "            window,\n",
       "        );\n",
       "    } else {\n",
       "        document\n",
       "            .querySelector('[data-webio-mountpoint=\"17019154236572754398\"]')\n",
       "            .innerHTML = (\n",
       "                '<div style=\"padding: 1em; background-color: #f8d6da; border: 1px solid #f5c6cb\">' +\n",
       "                '<p><strong>WebIO not detected.</strong></p>' +\n",
       "                '<p>Please read ' +\n",
       "                '<a href=\"https://juliagizmos.github.io/WebIO.jl/latest/troubleshooting/not-detected/\" target=\"_blank\">the troubleshooting guide</a> ' +\n",
       "                'for more information on how to resolve this issue.</p>' +\n",
       "                '<p><a href=\"https://juliagizmos.github.io/WebIO.jl/latest/troubleshooting/not-detected/\" target=\"_blank\">https://juliagizmos.github.io/WebIO.jl/latest/troubleshooting/not-detected/</a></p>' +\n",
       "                '</div>'\n",
       "            );\n",
       "    }\n",
       "    </script>\n",
       "</div>\n"
      ],
      "text/plain": [
       "Node{WebIO.DOM}(WebIO.DOM(:html, :div), Any[Node{WebIO.DOM}(WebIO.DOM(:html, :div), Any[Scope(Node{WebIO.DOM}(WebIO.DOM(:html, :div), Any[Node{WebIO.DOM}(WebIO.DOM(:html, :div), Any[Node{WebIO.DOM}(WebIO.DOM(:html, :label), Any[\"n\"], Dict{Symbol, Any}(:className => \"interact \", :style => Dict{Any, Any}(:padding => \"5px 10px 0px 10px\")))], Dict{Symbol, Any}(:className => \"interact-flex-row-left\")), Node{WebIO.DOM}(WebIO.DOM(:html, :div), Any[Node{WebIO.DOM}(WebIO.DOM(:html, :input), Any[], Dict{Symbol, Any}(:max => 100, :min => 1, :attributes => Dict{Any, Any}(:type => \"range\", Symbol(\"data-bind\") => \"numericValue: index, valueUpdate: 'input', event: {change: function (){this.changes(this.changes()+1)}}\", \"orient\" => \"horizontal\"), :step => 1, :className => \"slider slider is-fullwidth\", :style => Dict{Any, Any}()))], Dict{Symbol, Any}(:className => \"interact-flex-row-center\")), Node{WebIO.DOM}(WebIO.DOM(:html, :div), Any[Node{WebIO.DOM}(WebIO.DOM(:html, :p), Any[], Dict{Symbol, Any}(:attributes => Dict(\"data-bind\" => \"text: formatted_val\")))], Dict{Symbol, Any}(:className => \"interact-flex-row-right\"))], Dict{Symbol, Any}(:className => \"interact-flex-row interact-widget\")), Dict{String, Tuple{Observables.AbstractObservable, Union{Nothing, Bool}}}(\"changes\" => (Observable{Int64} with 1 listeners. Value:\n",
       "0, nothing), \"index\" => (Observable{Int64} with 2 listeners. Value:\n",
       "50, nothing)), Set{String}(), nothing, Asset[Asset(\"js\", \"knockout\", \"/home/marcon/.julia/packages/Knockout/IP1uR/src/../assets/knockout.js\"), Asset(\"js\", \"knockout_punches\", \"/home/marcon/.julia/packages/Knockout/IP1uR/src/../assets/knockout_punches.js\"), Asset(\"js\", nothing, \"/home/marcon/.julia/packages/InteractBase/Zfu5P/src/../assets/all.js\"), Asset(\"css\", nothing, \"/home/marcon/.julia/packages/InteractBase/Zfu5P/src/../assets/style.css\"), Asset(\"css\", nothing, \"/home/marcon/.julia/packages/Interact/SbgIk/src/../assets/bulma_confined.min.css\")], Dict{Any, Any}(\"changes\" => Any[WebIO.JSString(\"(function (val){return (val!=this.model[\\\"changes\\\"]()) ? (this.valueFromJulia[\\\"changes\\\"]=true, this.model[\\\"changes\\\"](val)) : undefined})\")], \"index\" => Any[WebIO.JSString(\"(function (val){return (val!=this.model[\\\"index\\\"]()) ? (this.valueFromJulia[\\\"index\\\"]=true, this.model[\\\"index\\\"](val)) : undefined})\")]), WebIO.ConnectionPool(Channel{Any}(32), Set{AbstractConnection}(), Condition(Base.InvasiveLinkedList{Task}(Task (runnable) @0x00007f1f09a43490, Task (runnable) @0x00007f1f09a43490), Base.AlwaysLockedST(1))), WebIO.JSString[WebIO.JSString(\"function () {\\n    var handler = (function (ko, koPunches) {\\n    ko.punches.enableAll();\\n    ko.bindingHandlers.numericValue = {\\n        init: function(element, valueAccessor, allBindings, data, context) {\\n            var stringified = ko.observable(ko.unwrap(valueAccessor()));\\n            stringified.subscribe(function(value) {\\n                var val = parseFloat(value);\\n                if (!isNaN(val)) {\\n                    valueAccessor()(val);\\n                }\\n            });\\n            valueAccessor().subscribe(function(value) {\\n                var str = JSON.stringify(value);\\n                if ((str == \\\"0\\\") && ([\\\"-0\\\", \\\"-0.\\\"].indexOf(stringified()) >= 0))\\n                     return;\\n                 if ([\\\"null\\\", \\\"\\\"].indexOf(str) >= 0)\\n                     return;\\n                stringified(str);\\n            });\\n            ko.applyBindingsToNode(\\n                element,\\n                {\\n                    value: stringified,\\n                    valueUpdate: allBindings.get('valueUpdate'),\\n                },\\n                context,\\n            );\\n        }\\n    };\\n    var json_data = {\\\"formatted_vals\\\":[\\\"1\\\",\\\"2\\\",\\\"3\\\",\\\"4\\\",\\\"5\\\",\\\"6\\\",\\\"7\\\",\\\"8\\\",\\\"9\\\",\\\"10\\\",\\\"11\\\",\\\"12\\\",\\\"13\\\",\\\"14\\\",\\\"15\\\",\\\"16\\\",\\\"17\\\",\\\"18\\\",\\\"19\\\",\\\"20\\\",\\\"21\\\",\\\"22\\\",\\\"23\\\",\\\"24\\\",\\\"25\\\",\\\"26\\\",\\\"27\\\",\\\"28\\\",\\\"29\\\",\\\"30\\\",\\\"31\\\",\\\"32\\\",\\\"33\\\",\\\"34\\\",\\\"35\\\",\\\"36\\\",\\\"37\\\",\\\"38\\\",\\\"39\\\",\\\"40\\\",\\\"41\\\",\\\"42\\\",\\\"43\\\",\\\"44\\\",\\\"45\\\",\\\"46\\\",\\\"47\\\",\\\"48\\\",\\\"49\\\",\\\"50\\\",\\\"51\\\",\\\"52\\\",\\\"53\\\",\\\"54\\\",\\\"55\\\",\\\"56\\\",\\\"57\\\",\\\"58\\\",\\\"59\\\",\\\"60\\\",\\\"61\\\",\\\"62\\\",\\\"63\\\",\\\"64\\\",\\\"65\\\",\\\"66\\\",\\\"67\\\",\\\"68\\\",\\\"69\\\",\\\"70\\\",\\\"71\\\",\\\"72\\\",\\\"73\\\",\\\"74\\\",\\\"75\\\",\\\"76\\\",\\\"77\\\",\\\"78\\\",\\\"79\\\",\\\"80\\\",\\\"81\\\",\\\"82\\\",\\\"83\\\",\\\"84\\\",\\\"85\\\",\\\"86\\\",\\\"87\\\",\\\"88\\\",\\\"89\\\",\\\"90\\\",\\\"91\\\",\\\"92\\\",\\\"93\\\",\\\"94\\\",\\\"95\\\",\\\"96\\\",\\\"97\\\",\\\"98\\\",\\\"99\\\",\\\"100\\\"],\\\"changes\\\":WebIO.getval({\\\"name\\\":\\\"changes\\\",\\\"scope\\\":\\\"4812091332554349266\\\",\\\"id\\\":\\\"15441355439567862143\\\",\\\"type\\\":\\\"observable\\\"}),\\\"index\\\":WebIO.getval({\\\"name\\\":\\\"index\\\",\\\"scope\\\":\\\"4812091332554349266\\\",\\\"id\\\":\\\"2810360115166225567\\\",\\\"type\\\":\\\"observable\\\"})};\\n    var self = this;\\n    function AppViewModel() {\\n        for (var key in json_data) {\\n            var el = json_data[key];\\n            this[key] = Array.isArray(el) ? ko.observableArray(el) : ko.observable(el);\\n        }\\n        \\n        [this[\\\"formatted_val\\\"]=ko.computed(    function(){\\n        return this.formatted_vals()[parseInt(this.index())-(1)];\\n    }\\n,this)]\\n        [this[\\\"changes\\\"].subscribe((function (val){!(this.valueFromJulia[\\\"changes\\\"]) ? (WebIO.setval({\\\"name\\\":\\\"changes\\\",\\\"scope\\\":\\\"4812091332554349266\\\",\\\"id\\\":\\\"15441355439567862143\\\",\\\"type\\\":\\\"observable\\\"},val)) : undefined; return this.valueFromJulia[\\\"changes\\\"]=false}),self),this[\\\"index\\\"].subscribe((function (val){!(this.valueFromJulia[\\\"index\\\"]) ? (WebIO.setval({\\\"name\\\":\\\"index\\\",\\\"scope\\\":\\\"4812091332554349266\\\",\\\"id\\\":\\\"2810360115166225567\\\",\\\"type\\\":\\\"observable\\\"},val)) : undefined; return this.valueFromJulia[\\\"index\\\"]=false}),self)]\\n        \\n    }\\n    self.model = new AppViewModel();\\n    self.valueFromJulia = {};\\n    for (var key in json_data) {\\n        self.valueFromJulia[key] = false;\\n    }\\n    ko.applyBindings(self.model, self.dom);\\n}\\n);\\n    (WebIO.importBlock({\\\"data\\\":[{\\\"name\\\":\\\"knockout\\\",\\\"type\\\":\\\"js\\\",\\\"url\\\":\\\"/assetserver/4e15ea8f38f5d33bf0b2930cb09c8089f78b114e-knockout.js\\\"},{\\\"name\\\":\\\"knockout_punches\\\",\\\"type\\\":\\\"js\\\",\\\"url\\\":\\\"/assetserver/6967e46b2259ea2e5c469b61c410326b52955db7-knockout_punches.js\\\"}],\\\"type\\\":\\\"async_block\\\"})).then((imports) => handler.apply(this, imports));\\n}\\n\")])], Dict{Symbol, Any}(:className => \"field interact-widget\")), Observable{Any} with 0 listeners. Value:\n",
       "Node{WebIO.DOM}(WebIO.DOM(:html, :div), Any[Plot{Plots.GRBackend() n=1}], Dict{Symbol, Any}(:className => \"interact-flex-row interact-widget\"))], Dict{Symbol, Any}())"
      ]
     },
     "execution_count": 38,
     "metadata": {
      "@webio": {
       "kernelId": "7fa8fe9e-41fc-430a-b33b-f0b95edc8e1b"
      }
     },
     "output_type": "execute_result"
    }
   ],
   "source": [
    "@manipulate for n in 1:Nₚₒᵢₙₜₛ\n",
    "    scatter(r[1:n], 0.5 * one.(r[1:n]), ylim=(0,1), xlim=(0,1))\n",
    "    end"
   ]
  },
  {
   "cell_type": "markdown",
   "metadata": {},
   "source": [
    "## Event with probability *p*"
   ]
  },
  {
   "cell_type": "markdown",
   "metadata": {},
   "source": [
    "### Bernoulli Trials"
   ]
  },
  {
   "cell_type": "code",
   "execution_count": 41,
   "metadata": {},
   "outputs": [
    {
     "data": {
      "text/plain": [
       "bernoulli (generic function with 1 method)"
      ]
     },
     "execution_count": 41,
     "metadata": {},
     "output_type": "execute_result"
    }
   ],
   "source": [
    "function bernoulli(p)\n",
    "    \n",
    "    r = rand()\n",
    "    return r < p\n",
    "end"
   ]
  },
  {
   "cell_type": "code",
   "execution_count": 42,
   "metadata": {},
   "outputs": [
    {
     "data": {
      "text/plain": [
       "true"
      ]
     },
     "execution_count": 42,
     "metadata": {},
     "output_type": "execute_result"
    }
   ],
   "source": [
    "bernoulli(.5)"
   ]
  },
  {
   "cell_type": "code",
   "execution_count": 43,
   "metadata": {},
   "outputs": [],
   "source": [
    "p = 0.25\n",
    "trials = [bernoulli(p) for i in 1:100];"
   ]
  },
  {
   "cell_type": "code",
   "execution_count": 44,
   "metadata": {},
   "outputs": [
    {
     "data": {
      "image/svg+xml": [
       "<?xml version=\"1.0\" encoding=\"utf-8\"?>\n",
       "<svg xmlns=\"http://www.w3.org/2000/svg\" xmlns:xlink=\"http://www.w3.org/1999/xlink\" width=\"600\" height=\"400\" viewBox=\"0 0 2400 1600\">\n",
       "<defs>\n",
       "  <clipPath id=\"clip880\">\n",
       "    <rect x=\"0\" y=\"0\" width=\"2400\" height=\"1600\"/>\n",
       "  </clipPath>\n",
       "</defs>\n",
       "<path clip-path=\"url(#clip880)\" d=\"\n",
       "M0 1600 L2400 1600 L2400 0 L0 0  Z\n",
       "  \" fill=\"#ffffff\" fill-rule=\"evenodd\" fill-opacity=\"1\"/>\n",
       "<defs>\n",
       "  <clipPath id=\"clip881\">\n",
       "    <rect x=\"480\" y=\"0\" width=\"1681\" height=\"1600\"/>\n",
       "  </clipPath>\n",
       "</defs>\n",
       "<path clip-path=\"url(#clip880)\" d=\"\n",
       "M174.862 1486.45 L2352.76 1486.45 L2352.76 47.2441 L174.862 47.2441  Z\n",
       "  \" fill=\"#ffffff\" fill-rule=\"evenodd\" fill-opacity=\"1\"/>\n",
       "<defs>\n",
       "  <clipPath id=\"clip882\">\n",
       "    <rect x=\"174\" y=\"47\" width=\"2179\" height=\"1440\"/>\n",
       "  </clipPath>\n",
       "</defs>\n",
       "<polyline clip-path=\"url(#clip882)\" style=\"stroke:#000000; stroke-width:2; stroke-opacity:0.1; fill:none\" points=\"\n",
       "  215.747,1486.45 215.747,47.2441 \n",
       "  \"/>\n",
       "<polyline clip-path=\"url(#clip882)\" style=\"stroke:#000000; stroke-width:2; stroke-opacity:0.1; fill:none\" points=\"\n",
       "  734.589,1486.45 734.589,47.2441 \n",
       "  \"/>\n",
       "<polyline clip-path=\"url(#clip882)\" style=\"stroke:#000000; stroke-width:2; stroke-opacity:0.1; fill:none\" points=\"\n",
       "  1253.43,1486.45 1253.43,47.2441 \n",
       "  \"/>\n",
       "<polyline clip-path=\"url(#clip882)\" style=\"stroke:#000000; stroke-width:2; stroke-opacity:0.1; fill:none\" points=\"\n",
       "  1772.27,1486.45 1772.27,47.2441 \n",
       "  \"/>\n",
       "<polyline clip-path=\"url(#clip882)\" style=\"stroke:#000000; stroke-width:2; stroke-opacity:0.1; fill:none\" points=\"\n",
       "  2291.12,1486.45 2291.12,47.2441 \n",
       "  \"/>\n",
       "<polyline clip-path=\"url(#clip880)\" style=\"stroke:#000000; stroke-width:4; stroke-opacity:1; fill:none\" points=\"\n",
       "  174.862,1486.45 2352.76,1486.45 \n",
       "  \"/>\n",
       "<polyline clip-path=\"url(#clip880)\" style=\"stroke:#000000; stroke-width:4; stroke-opacity:1; fill:none\" points=\"\n",
       "  215.747,1486.45 215.747,1469.18 \n",
       "  \"/>\n",
       "<polyline clip-path=\"url(#clip880)\" style=\"stroke:#000000; stroke-width:4; stroke-opacity:1; fill:none\" points=\"\n",
       "  734.589,1486.45 734.589,1469.18 \n",
       "  \"/>\n",
       "<polyline clip-path=\"url(#clip880)\" style=\"stroke:#000000; stroke-width:4; stroke-opacity:1; fill:none\" points=\"\n",
       "  1253.43,1486.45 1253.43,1469.18 \n",
       "  \"/>\n",
       "<polyline clip-path=\"url(#clip880)\" style=\"stroke:#000000; stroke-width:4; stroke-opacity:1; fill:none\" points=\"\n",
       "  1772.27,1486.45 1772.27,1469.18 \n",
       "  \"/>\n",
       "<polyline clip-path=\"url(#clip880)\" style=\"stroke:#000000; stroke-width:4; stroke-opacity:1; fill:none\" points=\"\n",
       "  2291.12,1486.45 2291.12,1469.18 \n",
       "  \"/>\n",
       "<path clip-path=\"url(#clip880)\" d=\"M 0 0 M215.747 1515.64 Q212.136 1515.64 210.307 1519.2 Q208.501 1522.75 208.501 1529.87 Q208.501 1536.98 210.307 1540.55 Q212.136 1544.09 215.747 1544.09 Q219.381 1544.09 221.187 1540.55 Q223.015 1536.98 223.015 1529.87 Q223.015 1522.75 221.187 1519.2 Q219.381 1515.64 215.747 1515.64 M215.747 1511.93 Q221.557 1511.93 224.613 1516.54 Q227.691 1521.12 227.691 1529.87 Q227.691 1538.6 224.613 1543.21 Q221.557 1547.79 215.747 1547.79 Q209.937 1547.79 206.858 1543.21 Q203.802 1538.6 203.802 1529.87 Q203.802 1521.12 206.858 1516.54 Q209.937 1511.93 215.747 1511.93 Z\" fill=\"#000000\" fill-rule=\"evenodd\" fill-opacity=\"1\" /><path clip-path=\"url(#clip880)\" d=\"M 0 0 M716.233 1543.18 L732.552 1543.18 L732.552 1547.12 L710.608 1547.12 L710.608 1543.18 Q713.27 1540.43 717.853 1535.8 Q722.46 1531.15 723.64 1529.81 Q725.886 1527.28 726.765 1525.55 Q727.668 1523.79 727.668 1522.1 Q727.668 1519.34 725.724 1517.61 Q723.802 1515.87 720.701 1515.87 Q718.502 1515.87 716.048 1516.63 Q713.617 1517.4 710.84 1518.95 L710.84 1514.23 Q713.664 1513.09 716.117 1512.51 Q718.571 1511.93 720.608 1511.93 Q725.978 1511.93 729.173 1514.62 Q732.367 1517.31 732.367 1521.8 Q732.367 1523.93 731.557 1525.85 Q730.77 1527.74 728.664 1530.34 Q728.085 1531.01 724.983 1534.23 Q721.881 1537.42 716.233 1543.18 Z\" fill=\"#000000\" fill-rule=\"evenodd\" fill-opacity=\"1\" /><path clip-path=\"url(#clip880)\" d=\"M 0 0 M737.668 1512.56 L756.025 1512.56 L756.025 1516.5 L741.951 1516.5 L741.951 1524.97 Q742.969 1524.62 743.988 1524.46 Q745.006 1524.27 746.025 1524.27 Q751.812 1524.27 755.191 1527.44 Q758.571 1530.62 758.571 1536.03 Q758.571 1541.61 755.099 1544.71 Q751.626 1547.79 745.307 1547.79 Q743.131 1547.79 740.863 1547.42 Q738.617 1547.05 736.21 1546.31 L736.21 1541.61 Q738.293 1542.74 740.515 1543.3 Q742.738 1543.86 745.214 1543.86 Q749.219 1543.86 751.557 1541.75 Q753.895 1539.64 753.895 1536.03 Q753.895 1532.42 751.557 1530.31 Q749.219 1528.21 745.214 1528.21 Q743.339 1528.21 741.464 1528.62 Q739.613 1529.04 737.668 1529.92 L737.668 1512.56 Z\" fill=\"#000000\" fill-rule=\"evenodd\" fill-opacity=\"1\" /><path clip-path=\"url(#clip880)\" d=\"M 0 0 M1230.2 1512.56 L1248.56 1512.56 L1248.56 1516.5 L1234.49 1516.5 L1234.49 1524.97 Q1235.5 1524.62 1236.52 1524.46 Q1237.54 1524.27 1238.56 1524.27 Q1244.35 1524.27 1247.73 1527.44 Q1251.11 1530.62 1251.11 1536.03 Q1251.11 1541.61 1247.63 1544.71 Q1244.16 1547.79 1237.84 1547.79 Q1235.67 1547.79 1233.4 1547.42 Q1231.15 1547.05 1228.74 1546.31 L1228.74 1541.61 Q1230.83 1542.74 1233.05 1543.3 Q1235.27 1543.86 1237.75 1543.86 Q1241.75 1543.86 1244.09 1541.75 Q1246.43 1539.64 1246.43 1536.03 Q1246.43 1532.42 1244.09 1530.31 Q1241.75 1528.21 1237.75 1528.21 Q1235.87 1528.21 1234 1528.62 Q1232.15 1529.04 1230.2 1529.92 L1230.2 1512.56 Z\" fill=\"#000000\" fill-rule=\"evenodd\" fill-opacity=\"1\" /><path clip-path=\"url(#clip880)\" d=\"M 0 0 M1266.18 1515.64 Q1262.56 1515.64 1260.74 1519.2 Q1258.93 1522.75 1258.93 1529.87 Q1258.93 1536.98 1260.74 1540.55 Q1262.56 1544.09 1266.18 1544.09 Q1269.81 1544.09 1271.61 1540.55 Q1273.44 1536.98 1273.44 1529.87 Q1273.44 1522.75 1271.61 1519.2 Q1269.81 1515.64 1266.18 1515.64 M1266.18 1511.93 Q1271.99 1511.93 1275.04 1516.54 Q1278.12 1521.12 1278.12 1529.87 Q1278.12 1538.6 1275.04 1543.21 Q1271.99 1547.79 1266.18 1547.79 Q1260.36 1547.79 1257.29 1543.21 Q1254.23 1538.6 1254.23 1529.87 Q1254.23 1521.12 1257.29 1516.54 Q1260.36 1511.93 1266.18 1511.93 Z\" fill=\"#000000\" fill-rule=\"evenodd\" fill-opacity=\"1\" /><path clip-path=\"url(#clip880)\" d=\"M 0 0 M1748.15 1512.56 L1770.38 1512.56 L1770.38 1514.55 L1757.83 1547.12 L1752.95 1547.12 L1764.75 1516.5 L1748.15 1516.5 L1748.15 1512.56 Z\" fill=\"#000000\" fill-rule=\"evenodd\" fill-opacity=\"1\" /><path clip-path=\"url(#clip880)\" d=\"M 0 0 M1775.49 1512.56 L1793.85 1512.56 L1793.85 1516.5 L1779.77 1516.5 L1779.77 1524.97 Q1780.79 1524.62 1781.81 1524.46 Q1782.83 1524.27 1783.85 1524.27 Q1789.64 1524.27 1793.02 1527.44 Q1796.39 1530.62 1796.39 1536.03 Q1796.39 1541.61 1792.92 1544.71 Q1789.45 1547.79 1783.13 1547.79 Q1780.96 1547.79 1778.69 1547.42 Q1776.44 1547.05 1774.03 1546.31 L1774.03 1541.61 Q1776.12 1542.74 1778.34 1543.3 Q1780.56 1543.86 1783.04 1543.86 Q1787.04 1543.86 1789.38 1541.75 Q1791.72 1539.64 1791.72 1536.03 Q1791.72 1532.42 1789.38 1530.31 Q1787.04 1528.21 1783.04 1528.21 Q1781.16 1528.21 1779.29 1528.62 Q1777.44 1529.04 1775.49 1529.92 L1775.49 1512.56 Z\" fill=\"#000000\" fill-rule=\"evenodd\" fill-opacity=\"1\" /><path clip-path=\"url(#clip880)\" d=\"M 0 0 M2254.49 1543.18 L2262.12 1543.18 L2262.12 1516.82 L2253.81 1518.49 L2253.81 1514.23 L2262.08 1512.56 L2266.75 1512.56 L2266.75 1543.18 L2274.39 1543.18 L2274.39 1547.12 L2254.49 1547.12 L2254.49 1543.18 Z\" fill=\"#000000\" fill-rule=\"evenodd\" fill-opacity=\"1\" /><path clip-path=\"url(#clip880)\" d=\"M 0 0 M2289.46 1515.64 Q2285.85 1515.64 2284.02 1519.2 Q2282.22 1522.75 2282.22 1529.87 Q2282.22 1536.98 2284.02 1540.55 Q2285.85 1544.09 2289.46 1544.09 Q2293.1 1544.09 2294.9 1540.55 Q2296.73 1536.98 2296.73 1529.87 Q2296.73 1522.75 2294.9 1519.2 Q2293.1 1515.64 2289.46 1515.64 M2289.46 1511.93 Q2295.27 1511.93 2298.33 1516.54 Q2301.41 1521.12 2301.41 1529.87 Q2301.41 1538.6 2298.33 1543.21 Q2295.27 1547.79 2289.46 1547.79 Q2283.65 1547.79 2280.57 1543.21 Q2277.52 1538.6 2277.52 1529.87 Q2277.52 1521.12 2280.57 1516.54 Q2283.65 1511.93 2289.46 1511.93 Z\" fill=\"#000000\" fill-rule=\"evenodd\" fill-opacity=\"1\" /><path clip-path=\"url(#clip880)\" d=\"M 0 0 M2316.48 1515.64 Q2312.86 1515.64 2311.04 1519.2 Q2309.23 1522.75 2309.23 1529.87 Q2309.23 1536.98 2311.04 1540.55 Q2312.86 1544.09 2316.48 1544.09 Q2320.11 1544.09 2321.92 1540.55 Q2323.74 1536.98 2323.74 1529.87 Q2323.74 1522.75 2321.92 1519.2 Q2320.11 1515.64 2316.48 1515.64 M2316.48 1511.93 Q2322.29 1511.93 2325.34 1516.54 Q2328.42 1521.12 2328.42 1529.87 Q2328.42 1538.6 2325.34 1543.21 Q2322.29 1547.79 2316.48 1547.79 Q2310.67 1547.79 2307.59 1543.21 Q2304.53 1538.6 2304.53 1529.87 Q2304.53 1521.12 2307.59 1516.54 Q2310.67 1511.93 2316.48 1511.93 Z\" fill=\"#000000\" fill-rule=\"evenodd\" fill-opacity=\"1\" /><polyline clip-path=\"url(#clip882)\" style=\"stroke:#000000; stroke-width:2; stroke-opacity:0.1; fill:none\" points=\"\n",
       "  174.862,1445.72 2352.76,1445.72 \n",
       "  \"/>\n",
       "<polyline clip-path=\"url(#clip882)\" style=\"stroke:#000000; stroke-width:2; stroke-opacity:0.1; fill:none\" points=\"\n",
       "  174.862,1106.28 2352.76,1106.28 \n",
       "  \"/>\n",
       "<polyline clip-path=\"url(#clip882)\" style=\"stroke:#000000; stroke-width:2; stroke-opacity:0.1; fill:none\" points=\"\n",
       "  174.862,766.846 2352.76,766.846 \n",
       "  \"/>\n",
       "<polyline clip-path=\"url(#clip882)\" style=\"stroke:#000000; stroke-width:2; stroke-opacity:0.1; fill:none\" points=\"\n",
       "  174.862,427.411 2352.76,427.411 \n",
       "  \"/>\n",
       "<polyline clip-path=\"url(#clip882)\" style=\"stroke:#000000; stroke-width:2; stroke-opacity:0.1; fill:none\" points=\"\n",
       "  174.862,87.9763 2352.76,87.9763 \n",
       "  \"/>\n",
       "<polyline clip-path=\"url(#clip880)\" style=\"stroke:#000000; stroke-width:4; stroke-opacity:1; fill:none\" points=\"\n",
       "  174.862,1486.45 174.862,47.2441 \n",
       "  \"/>\n",
       "<polyline clip-path=\"url(#clip880)\" style=\"stroke:#000000; stroke-width:4; stroke-opacity:1; fill:none\" points=\"\n",
       "  174.862,1445.72 200.997,1445.72 \n",
       "  \"/>\n",
       "<polyline clip-path=\"url(#clip880)\" style=\"stroke:#000000; stroke-width:4; stroke-opacity:1; fill:none\" points=\"\n",
       "  174.862,1106.28 200.997,1106.28 \n",
       "  \"/>\n",
       "<polyline clip-path=\"url(#clip880)\" style=\"stroke:#000000; stroke-width:4; stroke-opacity:1; fill:none\" points=\"\n",
       "  174.862,766.846 200.997,766.846 \n",
       "  \"/>\n",
       "<polyline clip-path=\"url(#clip880)\" style=\"stroke:#000000; stroke-width:4; stroke-opacity:1; fill:none\" points=\"\n",
       "  174.862,427.411 200.997,427.411 \n",
       "  \"/>\n",
       "<polyline clip-path=\"url(#clip880)\" style=\"stroke:#000000; stroke-width:4; stroke-opacity:1; fill:none\" points=\"\n",
       "  174.862,87.9763 200.997,87.9763 \n",
       "  \"/>\n",
       "<path clip-path=\"url(#clip880)\" d=\"M 0 0 M62.9365 1431.51 Q59.3254 1431.51 57.4967 1435.08 Q55.6912 1438.62 55.6912 1445.75 Q55.6912 1452.86 57.4967 1456.42 Q59.3254 1459.96 62.9365 1459.96 Q66.5707 1459.96 68.3763 1456.42 Q70.205 1452.86 70.205 1445.75 Q70.205 1438.62 68.3763 1435.08 Q66.5707 1431.51 62.9365 1431.51 M62.9365 1427.81 Q68.7467 1427.81 71.8022 1432.42 Q74.8809 1437 74.8809 1445.75 Q74.8809 1454.48 71.8022 1459.08 Q68.7467 1463.67 62.9365 1463.67 Q57.1264 1463.67 54.0477 1459.08 Q50.9921 1454.48 50.9921 1445.75 Q50.9921 1437 54.0477 1432.42 Q57.1264 1427.81 62.9365 1427.81 Z\" fill=\"#000000\" fill-rule=\"evenodd\" fill-opacity=\"1\" /><path clip-path=\"url(#clip880)\" d=\"M 0 0 M79.9503 1457.12 L84.8345 1457.12 L84.8345 1463 L79.9503 1463 L79.9503 1457.12 Z\" fill=\"#000000\" fill-rule=\"evenodd\" fill-opacity=\"1\" /><path clip-path=\"url(#clip880)\" d=\"M 0 0 M99.9039 1431.51 Q96.2928 1431.51 94.4641 1435.08 Q92.6586 1438.62 92.6586 1445.75 Q92.6586 1452.86 94.4641 1456.42 Q96.2928 1459.96 99.9039 1459.96 Q103.538 1459.96 105.344 1456.42 Q107.172 1452.86 107.172 1445.75 Q107.172 1438.62 105.344 1435.08 Q103.538 1431.51 99.9039 1431.51 M99.9039 1427.81 Q105.714 1427.81 108.77 1432.42 Q111.848 1437 111.848 1445.75 Q111.848 1454.48 108.77 1459.08 Q105.714 1463.67 99.9039 1463.67 Q94.0937 1463.67 91.0151 1459.08 Q87.9595 1454.48 87.9595 1445.75 Q87.9595 1437 91.0151 1432.42 Q94.0937 1427.81 99.9039 1427.81 Z\" fill=\"#000000\" fill-rule=\"evenodd\" fill-opacity=\"1\" /><path clip-path=\"url(#clip880)\" d=\"M 0 0 M126.918 1431.51 Q123.307 1431.51 121.478 1435.08 Q119.672 1438.62 119.672 1445.75 Q119.672 1452.86 121.478 1456.42 Q123.307 1459.96 126.918 1459.96 Q130.552 1459.96 132.357 1456.42 Q134.186 1452.86 134.186 1445.75 Q134.186 1438.62 132.357 1435.08 Q130.552 1431.51 126.918 1431.51 M126.918 1427.81 Q132.728 1427.81 135.783 1432.42 Q138.862 1437 138.862 1445.75 Q138.862 1454.48 135.783 1459.08 Q132.728 1463.67 126.918 1463.67 Q121.107 1463.67 118.029 1459.08 Q114.973 1454.48 114.973 1445.75 Q114.973 1437 118.029 1432.42 Q121.107 1427.81 126.918 1427.81 Z\" fill=\"#000000\" fill-rule=\"evenodd\" fill-opacity=\"1\" /><path clip-path=\"url(#clip880)\" d=\"M 0 0 M65.5291 1092.08 Q61.918 1092.08 60.0893 1095.64 Q58.2838 1099.19 58.2838 1106.32 Q58.2838 1113.42 60.0893 1116.99 Q61.918 1120.53 65.5291 1120.53 Q69.1633 1120.53 70.9689 1116.99 Q72.7976 1113.42 72.7976 1106.32 Q72.7976 1099.19 70.9689 1095.64 Q69.1633 1092.08 65.5291 1092.08 M65.5291 1088.38 Q71.3392 1088.38 74.3948 1092.98 Q77.4735 1097.57 77.4735 1106.32 Q77.4735 1115.04 74.3948 1119.65 Q71.3392 1124.23 65.5291 1124.23 Q59.7189 1124.23 56.6402 1119.65 Q53.5847 1115.04 53.5847 1106.32 Q53.5847 1097.57 56.6402 1092.98 Q59.7189 1088.38 65.5291 1088.38 Z\" fill=\"#000000\" fill-rule=\"evenodd\" fill-opacity=\"1\" /><path clip-path=\"url(#clip880)\" d=\"M 0 0 M82.5429 1117.68 L87.4271 1117.68 L87.4271 1123.56 L82.5429 1123.56 L82.5429 1117.68 Z\" fill=\"#000000\" fill-rule=\"evenodd\" fill-opacity=\"1\" /><path clip-path=\"url(#clip880)\" d=\"M 0 0 M96.5243 1119.63 L112.844 1119.63 L112.844 1123.56 L90.8993 1123.56 L90.8993 1119.63 Q93.5613 1116.87 98.1447 1112.24 Q102.751 1107.59 103.932 1106.25 Q106.177 1103.72 107.057 1101.99 Q107.959 1100.23 107.959 1098.54 Q107.959 1095.78 106.015 1094.05 Q104.094 1092.31 100.992 1092.31 Q98.7928 1092.31 96.3391 1093.07 Q93.9086 1093.84 91.1308 1095.39 L91.1308 1090.67 Q93.9549 1089.53 96.4085 1088.95 Q98.8622 1088.38 100.899 1088.38 Q106.27 1088.38 109.464 1091.06 Q112.658 1093.75 112.658 1098.24 Q112.658 1100.37 111.848 1102.29 Q111.061 1104.19 108.955 1106.78 Q108.376 1107.45 105.274 1110.67 Q102.172 1113.86 96.5243 1119.63 Z\" fill=\"#000000\" fill-rule=\"evenodd\" fill-opacity=\"1\" /><path clip-path=\"url(#clip880)\" d=\"M 0 0 M117.959 1089 L136.316 1089 L136.316 1092.94 L122.242 1092.94 L122.242 1101.41 Q123.26 1101.06 124.279 1100.9 Q125.297 1100.71 126.316 1100.71 Q132.103 1100.71 135.482 1103.89 Q138.862 1107.06 138.862 1112.47 Q138.862 1118.05 135.39 1121.15 Q131.918 1124.23 125.598 1124.23 Q123.422 1124.23 121.154 1123.86 Q118.908 1123.49 116.501 1122.75 L116.501 1118.05 Q118.584 1119.19 120.807 1119.74 Q123.029 1120.3 125.506 1120.3 Q129.51 1120.3 131.848 1118.19 Q134.186 1116.08 134.186 1112.47 Q134.186 1108.86 131.848 1106.76 Q129.51 1104.65 125.506 1104.65 Q123.631 1104.65 121.756 1105.07 Q119.904 1105.48 117.959 1106.36 L117.959 1089 Z\" fill=\"#000000\" fill-rule=\"evenodd\" fill-opacity=\"1\" /><path clip-path=\"url(#clip880)\" d=\"M 0 0 M63.9319 752.645 Q60.3208 752.645 58.4921 756.209 Q56.6865 759.751 56.6865 766.881 Q56.6865 773.987 58.4921 777.552 Q60.3208 781.094 63.9319 781.094 Q67.5661 781.094 69.3717 777.552 Q71.2004 773.987 71.2004 766.881 Q71.2004 759.751 69.3717 756.209 Q67.5661 752.645 63.9319 752.645 M63.9319 748.941 Q69.742 748.941 72.7976 753.547 Q75.8763 758.131 75.8763 766.881 Q75.8763 775.608 72.7976 780.214 Q69.742 784.797 63.9319 784.797 Q58.1217 784.797 55.043 780.214 Q51.9875 775.608 51.9875 766.881 Q51.9875 758.131 55.043 753.547 Q58.1217 748.941 63.9319 748.941 Z\" fill=\"#000000\" fill-rule=\"evenodd\" fill-opacity=\"1\" /><path clip-path=\"url(#clip880)\" d=\"M 0 0 M80.9457 778.246 L85.8299 778.246 L85.8299 784.126 L80.9457 784.126 L80.9457 778.246 Z\" fill=\"#000000\" fill-rule=\"evenodd\" fill-opacity=\"1\" /><path clip-path=\"url(#clip880)\" d=\"M 0 0 M90.9456 749.566 L109.302 749.566 L109.302 753.501 L95.228 753.501 L95.228 761.973 Q96.2465 761.626 97.265 761.464 Q98.2835 761.279 99.3021 761.279 Q105.089 761.279 108.469 764.45 Q111.848 767.621 111.848 773.038 Q111.848 778.617 108.376 781.719 Q104.904 784.797 98.5845 784.797 Q96.4085 784.797 94.14 784.427 Q91.8947 784.057 89.4873 783.316 L89.4873 778.617 Q91.5706 779.751 93.7928 780.307 Q96.015 780.862 98.4919 780.862 Q102.496 780.862 104.834 778.756 Q107.172 776.649 107.172 773.038 Q107.172 769.427 104.834 767.321 Q102.496 765.214 98.4919 765.214 Q96.6169 765.214 94.7419 765.631 Q92.89 766.047 90.9456 766.927 L90.9456 749.566 Z\" fill=\"#000000\" fill-rule=\"evenodd\" fill-opacity=\"1\" /><path clip-path=\"url(#clip880)\" d=\"M 0 0 M126.918 752.645 Q123.307 752.645 121.478 756.209 Q119.672 759.751 119.672 766.881 Q119.672 773.987 121.478 777.552 Q123.307 781.094 126.918 781.094 Q130.552 781.094 132.357 777.552 Q134.186 773.987 134.186 766.881 Q134.186 759.751 132.357 756.209 Q130.552 752.645 126.918 752.645 M126.918 748.941 Q132.728 748.941 135.783 753.547 Q138.862 758.131 138.862 766.881 Q138.862 775.608 135.783 780.214 Q132.728 784.797 126.918 784.797 Q121.107 784.797 118.029 780.214 Q114.973 775.608 114.973 766.881 Q114.973 758.131 118.029 753.547 Q121.107 748.941 126.918 748.941 Z\" fill=\"#000000\" fill-rule=\"evenodd\" fill-opacity=\"1\" /><path clip-path=\"url(#clip880)\" d=\"M 0 0 M64.8346 413.21 Q61.2236 413.21 59.3949 416.775 Q57.5893 420.316 57.5893 427.446 Q57.5893 434.552 59.3949 438.117 Q61.2236 441.659 64.8346 441.659 Q68.4689 441.659 70.2744 438.117 Q72.1031 434.552 72.1031 427.446 Q72.1031 420.316 70.2744 416.775 Q68.4689 413.21 64.8346 413.21 M64.8346 409.506 Q70.6448 409.506 73.7003 414.113 Q76.779 418.696 76.779 427.446 Q76.779 436.173 73.7003 440.779 Q70.6448 445.362 64.8346 445.362 Q59.0245 445.362 55.9458 440.779 Q52.8903 436.173 52.8903 427.446 Q52.8903 418.696 55.9458 414.113 Q59.0245 409.506 64.8346 409.506 Z\" fill=\"#000000\" fill-rule=\"evenodd\" fill-opacity=\"1\" /><path clip-path=\"url(#clip880)\" d=\"M 0 0 M81.8484 438.812 L86.7327 438.812 L86.7327 444.691 L81.8484 444.691 L81.8484 438.812 Z\" fill=\"#000000\" fill-rule=\"evenodd\" fill-opacity=\"1\" /><path clip-path=\"url(#clip880)\" d=\"M 0 0 M90.6215 410.131 L112.844 410.131 L112.844 412.122 L100.297 444.691 L95.4132 444.691 L107.219 414.066 L90.6215 414.066 L90.6215 410.131 Z\" fill=\"#000000\" fill-rule=\"evenodd\" fill-opacity=\"1\" /><path clip-path=\"url(#clip880)\" d=\"M 0 0 M117.959 410.131 L136.316 410.131 L136.316 414.066 L122.242 414.066 L122.242 422.538 Q123.26 422.191 124.279 422.029 Q125.297 421.844 126.316 421.844 Q132.103 421.844 135.482 425.015 Q138.862 428.187 138.862 433.603 Q138.862 439.182 135.39 442.284 Q131.918 445.362 125.598 445.362 Q123.422 445.362 121.154 444.992 Q118.908 444.622 116.501 443.881 L116.501 439.182 Q118.584 440.316 120.807 440.872 Q123.029 441.427 125.506 441.427 Q129.51 441.427 131.848 439.321 Q134.186 437.214 134.186 433.603 Q134.186 429.992 131.848 427.886 Q129.51 425.779 125.506 425.779 Q123.631 425.779 121.756 426.196 Q119.904 426.613 117.959 427.492 L117.959 410.131 Z\" fill=\"#000000\" fill-rule=\"evenodd\" fill-opacity=\"1\" /><path clip-path=\"url(#clip880)\" d=\"M 0 0 M54.9736 101.321 L62.6124 101.321 L62.6124 74.9555 L54.3023 76.6222 L54.3023 72.3629 L62.5661 70.6963 L67.242 70.6963 L67.242 101.321 L74.8809 101.321 L74.8809 105.256 L54.9736 105.256 L54.9736 101.321 Z\" fill=\"#000000\" fill-rule=\"evenodd\" fill-opacity=\"1\" /><path clip-path=\"url(#clip880)\" d=\"M 0 0 M79.9503 99.3767 L84.8345 99.3767 L84.8345 105.256 L79.9503 105.256 L79.9503 99.3767 Z\" fill=\"#000000\" fill-rule=\"evenodd\" fill-opacity=\"1\" /><path clip-path=\"url(#clip880)\" d=\"M 0 0 M99.9039 73.775 Q96.2928 73.775 94.4641 77.3398 Q92.6586 80.8814 92.6586 88.011 Q92.6586 95.1174 94.4641 98.6822 Q96.2928 102.224 99.9039 102.224 Q103.538 102.224 105.344 98.6822 Q107.172 95.1174 107.172 88.011 Q107.172 80.8814 105.344 77.3398 Q103.538 73.775 99.9039 73.775 M99.9039 70.0713 Q105.714 70.0713 108.77 74.6777 Q111.848 79.261 111.848 88.011 Q111.848 96.7378 108.77 101.344 Q105.714 105.928 99.9039 105.928 Q94.0937 105.928 91.0151 101.344 Q87.9595 96.7378 87.9595 88.011 Q87.9595 79.261 91.0151 74.6777 Q94.0937 70.0713 99.9039 70.0713 Z\" fill=\"#000000\" fill-rule=\"evenodd\" fill-opacity=\"1\" /><path clip-path=\"url(#clip880)\" d=\"M 0 0 M126.918 73.775 Q123.307 73.775 121.478 77.3398 Q119.672 80.8814 119.672 88.011 Q119.672 95.1174 121.478 98.6822 Q123.307 102.224 126.918 102.224 Q130.552 102.224 132.357 98.6822 Q134.186 95.1174 134.186 88.011 Q134.186 80.8814 132.357 77.3398 Q130.552 73.775 126.918 73.775 M126.918 70.0713 Q132.728 70.0713 135.783 74.6777 Q138.862 79.261 138.862 88.011 Q138.862 96.7378 135.783 101.344 Q132.728 105.928 126.918 105.928 Q121.107 105.928 118.029 101.344 Q114.973 96.7378 114.973 88.011 Q114.973 79.261 118.029 74.6777 Q121.107 70.0713 126.918 70.0713 Z\" fill=\"#000000\" fill-rule=\"evenodd\" fill-opacity=\"1\" /><circle clip-path=\"url(#clip882)\" cx=\"236.501\" cy=\"87.9763\" r=\"14\" fill=\"#009af9\" fill-rule=\"evenodd\" fill-opacity=\"1\" stroke=\"#000000\" stroke-opacity=\"1\" stroke-width=\"3.2\"/>\n",
       "<circle clip-path=\"url(#clip882)\" cx=\"257.254\" cy=\"1445.72\" r=\"14\" fill=\"#009af9\" fill-rule=\"evenodd\" fill-opacity=\"1\" stroke=\"#000000\" stroke-opacity=\"1\" stroke-width=\"3.2\"/>\n",
       "<circle clip-path=\"url(#clip882)\" cx=\"278.008\" cy=\"87.9763\" r=\"14\" fill=\"#009af9\" fill-rule=\"evenodd\" fill-opacity=\"1\" stroke=\"#000000\" stroke-opacity=\"1\" stroke-width=\"3.2\"/>\n",
       "<circle clip-path=\"url(#clip882)\" cx=\"298.762\" cy=\"1445.72\" r=\"14\" fill=\"#009af9\" fill-rule=\"evenodd\" fill-opacity=\"1\" stroke=\"#000000\" stroke-opacity=\"1\" stroke-width=\"3.2\"/>\n",
       "<circle clip-path=\"url(#clip882)\" cx=\"319.515\" cy=\"1445.72\" r=\"14\" fill=\"#009af9\" fill-rule=\"evenodd\" fill-opacity=\"1\" stroke=\"#000000\" stroke-opacity=\"1\" stroke-width=\"3.2\"/>\n",
       "<circle clip-path=\"url(#clip882)\" cx=\"340.269\" cy=\"1445.72\" r=\"14\" fill=\"#009af9\" fill-rule=\"evenodd\" fill-opacity=\"1\" stroke=\"#000000\" stroke-opacity=\"1\" stroke-width=\"3.2\"/>\n",
       "<circle clip-path=\"url(#clip882)\" cx=\"361.023\" cy=\"1445.72\" r=\"14\" fill=\"#009af9\" fill-rule=\"evenodd\" fill-opacity=\"1\" stroke=\"#000000\" stroke-opacity=\"1\" stroke-width=\"3.2\"/>\n",
       "<circle clip-path=\"url(#clip882)\" cx=\"381.776\" cy=\"1445.72\" r=\"14\" fill=\"#009af9\" fill-rule=\"evenodd\" fill-opacity=\"1\" stroke=\"#000000\" stroke-opacity=\"1\" stroke-width=\"3.2\"/>\n",
       "<circle clip-path=\"url(#clip882)\" cx=\"402.53\" cy=\"87.9763\" r=\"14\" fill=\"#009af9\" fill-rule=\"evenodd\" fill-opacity=\"1\" stroke=\"#000000\" stroke-opacity=\"1\" stroke-width=\"3.2\"/>\n",
       "<circle clip-path=\"url(#clip882)\" cx=\"423.284\" cy=\"1445.72\" r=\"14\" fill=\"#009af9\" fill-rule=\"evenodd\" fill-opacity=\"1\" stroke=\"#000000\" stroke-opacity=\"1\" stroke-width=\"3.2\"/>\n",
       "<circle clip-path=\"url(#clip882)\" cx=\"444.038\" cy=\"87.9763\" r=\"14\" fill=\"#009af9\" fill-rule=\"evenodd\" fill-opacity=\"1\" stroke=\"#000000\" stroke-opacity=\"1\" stroke-width=\"3.2\"/>\n",
       "<circle clip-path=\"url(#clip882)\" cx=\"464.791\" cy=\"1445.72\" r=\"14\" fill=\"#009af9\" fill-rule=\"evenodd\" fill-opacity=\"1\" stroke=\"#000000\" stroke-opacity=\"1\" stroke-width=\"3.2\"/>\n",
       "<circle clip-path=\"url(#clip882)\" cx=\"485.545\" cy=\"1445.72\" r=\"14\" fill=\"#009af9\" fill-rule=\"evenodd\" fill-opacity=\"1\" stroke=\"#000000\" stroke-opacity=\"1\" stroke-width=\"3.2\"/>\n",
       "<circle clip-path=\"url(#clip882)\" cx=\"506.299\" cy=\"1445.72\" r=\"14\" fill=\"#009af9\" fill-rule=\"evenodd\" fill-opacity=\"1\" stroke=\"#000000\" stroke-opacity=\"1\" stroke-width=\"3.2\"/>\n",
       "<circle clip-path=\"url(#clip882)\" cx=\"527.052\" cy=\"1445.72\" r=\"14\" fill=\"#009af9\" fill-rule=\"evenodd\" fill-opacity=\"1\" stroke=\"#000000\" stroke-opacity=\"1\" stroke-width=\"3.2\"/>\n",
       "<circle clip-path=\"url(#clip882)\" cx=\"547.806\" cy=\"87.9763\" r=\"14\" fill=\"#009af9\" fill-rule=\"evenodd\" fill-opacity=\"1\" stroke=\"#000000\" stroke-opacity=\"1\" stroke-width=\"3.2\"/>\n",
       "<circle clip-path=\"url(#clip882)\" cx=\"568.56\" cy=\"1445.72\" r=\"14\" fill=\"#009af9\" fill-rule=\"evenodd\" fill-opacity=\"1\" stroke=\"#000000\" stroke-opacity=\"1\" stroke-width=\"3.2\"/>\n",
       "<circle clip-path=\"url(#clip882)\" cx=\"589.314\" cy=\"1445.72\" r=\"14\" fill=\"#009af9\" fill-rule=\"evenodd\" fill-opacity=\"1\" stroke=\"#000000\" stroke-opacity=\"1\" stroke-width=\"3.2\"/>\n",
       "<circle clip-path=\"url(#clip882)\" cx=\"610.067\" cy=\"1445.72\" r=\"14\" fill=\"#009af9\" fill-rule=\"evenodd\" fill-opacity=\"1\" stroke=\"#000000\" stroke-opacity=\"1\" stroke-width=\"3.2\"/>\n",
       "<circle clip-path=\"url(#clip882)\" cx=\"630.821\" cy=\"87.9763\" r=\"14\" fill=\"#009af9\" fill-rule=\"evenodd\" fill-opacity=\"1\" stroke=\"#000000\" stroke-opacity=\"1\" stroke-width=\"3.2\"/>\n",
       "<circle clip-path=\"url(#clip882)\" cx=\"651.575\" cy=\"1445.72\" r=\"14\" fill=\"#009af9\" fill-rule=\"evenodd\" fill-opacity=\"1\" stroke=\"#000000\" stroke-opacity=\"1\" stroke-width=\"3.2\"/>\n",
       "<circle clip-path=\"url(#clip882)\" cx=\"672.328\" cy=\"87.9763\" r=\"14\" fill=\"#009af9\" fill-rule=\"evenodd\" fill-opacity=\"1\" stroke=\"#000000\" stroke-opacity=\"1\" stroke-width=\"3.2\"/>\n",
       "<circle clip-path=\"url(#clip882)\" cx=\"693.082\" cy=\"1445.72\" r=\"14\" fill=\"#009af9\" fill-rule=\"evenodd\" fill-opacity=\"1\" stroke=\"#000000\" stroke-opacity=\"1\" stroke-width=\"3.2\"/>\n",
       "<circle clip-path=\"url(#clip882)\" cx=\"713.836\" cy=\"1445.72\" r=\"14\" fill=\"#009af9\" fill-rule=\"evenodd\" fill-opacity=\"1\" stroke=\"#000000\" stroke-opacity=\"1\" stroke-width=\"3.2\"/>\n",
       "<circle clip-path=\"url(#clip882)\" cx=\"734.589\" cy=\"87.9763\" r=\"14\" fill=\"#009af9\" fill-rule=\"evenodd\" fill-opacity=\"1\" stroke=\"#000000\" stroke-opacity=\"1\" stroke-width=\"3.2\"/>\n",
       "<circle clip-path=\"url(#clip882)\" cx=\"755.343\" cy=\"1445.72\" r=\"14\" fill=\"#009af9\" fill-rule=\"evenodd\" fill-opacity=\"1\" stroke=\"#000000\" stroke-opacity=\"1\" stroke-width=\"3.2\"/>\n",
       "<circle clip-path=\"url(#clip882)\" cx=\"776.097\" cy=\"1445.72\" r=\"14\" fill=\"#009af9\" fill-rule=\"evenodd\" fill-opacity=\"1\" stroke=\"#000000\" stroke-opacity=\"1\" stroke-width=\"3.2\"/>\n",
       "<circle clip-path=\"url(#clip882)\" cx=\"796.851\" cy=\"1445.72\" r=\"14\" fill=\"#009af9\" fill-rule=\"evenodd\" fill-opacity=\"1\" stroke=\"#000000\" stroke-opacity=\"1\" stroke-width=\"3.2\"/>\n",
       "<circle clip-path=\"url(#clip882)\" cx=\"817.604\" cy=\"87.9763\" r=\"14\" fill=\"#009af9\" fill-rule=\"evenodd\" fill-opacity=\"1\" stroke=\"#000000\" stroke-opacity=\"1\" stroke-width=\"3.2\"/>\n",
       "<circle clip-path=\"url(#clip882)\" cx=\"838.358\" cy=\"87.9763\" r=\"14\" fill=\"#009af9\" fill-rule=\"evenodd\" fill-opacity=\"1\" stroke=\"#000000\" stroke-opacity=\"1\" stroke-width=\"3.2\"/>\n",
       "<circle clip-path=\"url(#clip882)\" cx=\"859.112\" cy=\"1445.72\" r=\"14\" fill=\"#009af9\" fill-rule=\"evenodd\" fill-opacity=\"1\" stroke=\"#000000\" stroke-opacity=\"1\" stroke-width=\"3.2\"/>\n",
       "<circle clip-path=\"url(#clip882)\" cx=\"879.865\" cy=\"1445.72\" r=\"14\" fill=\"#009af9\" fill-rule=\"evenodd\" fill-opacity=\"1\" stroke=\"#000000\" stroke-opacity=\"1\" stroke-width=\"3.2\"/>\n",
       "<circle clip-path=\"url(#clip882)\" cx=\"900.619\" cy=\"1445.72\" r=\"14\" fill=\"#009af9\" fill-rule=\"evenodd\" fill-opacity=\"1\" stroke=\"#000000\" stroke-opacity=\"1\" stroke-width=\"3.2\"/>\n",
       "<circle clip-path=\"url(#clip882)\" cx=\"921.373\" cy=\"1445.72\" r=\"14\" fill=\"#009af9\" fill-rule=\"evenodd\" fill-opacity=\"1\" stroke=\"#000000\" stroke-opacity=\"1\" stroke-width=\"3.2\"/>\n",
       "<circle clip-path=\"url(#clip882)\" cx=\"942.127\" cy=\"1445.72\" r=\"14\" fill=\"#009af9\" fill-rule=\"evenodd\" fill-opacity=\"1\" stroke=\"#000000\" stroke-opacity=\"1\" stroke-width=\"3.2\"/>\n",
       "<circle clip-path=\"url(#clip882)\" cx=\"962.88\" cy=\"1445.72\" r=\"14\" fill=\"#009af9\" fill-rule=\"evenodd\" fill-opacity=\"1\" stroke=\"#000000\" stroke-opacity=\"1\" stroke-width=\"3.2\"/>\n",
       "<circle clip-path=\"url(#clip882)\" cx=\"983.634\" cy=\"87.9763\" r=\"14\" fill=\"#009af9\" fill-rule=\"evenodd\" fill-opacity=\"1\" stroke=\"#000000\" stroke-opacity=\"1\" stroke-width=\"3.2\"/>\n",
       "<circle clip-path=\"url(#clip882)\" cx=\"1004.39\" cy=\"1445.72\" r=\"14\" fill=\"#009af9\" fill-rule=\"evenodd\" fill-opacity=\"1\" stroke=\"#000000\" stroke-opacity=\"1\" stroke-width=\"3.2\"/>\n",
       "<circle clip-path=\"url(#clip882)\" cx=\"1025.14\" cy=\"1445.72\" r=\"14\" fill=\"#009af9\" fill-rule=\"evenodd\" fill-opacity=\"1\" stroke=\"#000000\" stroke-opacity=\"1\" stroke-width=\"3.2\"/>\n",
       "<circle clip-path=\"url(#clip882)\" cx=\"1045.9\" cy=\"87.9763\" r=\"14\" fill=\"#009af9\" fill-rule=\"evenodd\" fill-opacity=\"1\" stroke=\"#000000\" stroke-opacity=\"1\" stroke-width=\"3.2\"/>\n",
       "<circle clip-path=\"url(#clip882)\" cx=\"1066.65\" cy=\"1445.72\" r=\"14\" fill=\"#009af9\" fill-rule=\"evenodd\" fill-opacity=\"1\" stroke=\"#000000\" stroke-opacity=\"1\" stroke-width=\"3.2\"/>\n",
       "<circle clip-path=\"url(#clip882)\" cx=\"1087.4\" cy=\"1445.72\" r=\"14\" fill=\"#009af9\" fill-rule=\"evenodd\" fill-opacity=\"1\" stroke=\"#000000\" stroke-opacity=\"1\" stroke-width=\"3.2\"/>\n",
       "<circle clip-path=\"url(#clip882)\" cx=\"1108.16\" cy=\"1445.72\" r=\"14\" fill=\"#009af9\" fill-rule=\"evenodd\" fill-opacity=\"1\" stroke=\"#000000\" stroke-opacity=\"1\" stroke-width=\"3.2\"/>\n",
       "<circle clip-path=\"url(#clip882)\" cx=\"1128.91\" cy=\"1445.72\" r=\"14\" fill=\"#009af9\" fill-rule=\"evenodd\" fill-opacity=\"1\" stroke=\"#000000\" stroke-opacity=\"1\" stroke-width=\"3.2\"/>\n",
       "<circle clip-path=\"url(#clip882)\" cx=\"1149.66\" cy=\"1445.72\" r=\"14\" fill=\"#009af9\" fill-rule=\"evenodd\" fill-opacity=\"1\" stroke=\"#000000\" stroke-opacity=\"1\" stroke-width=\"3.2\"/>\n",
       "<circle clip-path=\"url(#clip882)\" cx=\"1170.42\" cy=\"87.9763\" r=\"14\" fill=\"#009af9\" fill-rule=\"evenodd\" fill-opacity=\"1\" stroke=\"#000000\" stroke-opacity=\"1\" stroke-width=\"3.2\"/>\n",
       "<circle clip-path=\"url(#clip882)\" cx=\"1191.17\" cy=\"1445.72\" r=\"14\" fill=\"#009af9\" fill-rule=\"evenodd\" fill-opacity=\"1\" stroke=\"#000000\" stroke-opacity=\"1\" stroke-width=\"3.2\"/>\n",
       "<circle clip-path=\"url(#clip882)\" cx=\"1211.92\" cy=\"1445.72\" r=\"14\" fill=\"#009af9\" fill-rule=\"evenodd\" fill-opacity=\"1\" stroke=\"#000000\" stroke-opacity=\"1\" stroke-width=\"3.2\"/>\n",
       "<circle clip-path=\"url(#clip882)\" cx=\"1232.68\" cy=\"1445.72\" r=\"14\" fill=\"#009af9\" fill-rule=\"evenodd\" fill-opacity=\"1\" stroke=\"#000000\" stroke-opacity=\"1\" stroke-width=\"3.2\"/>\n",
       "<circle clip-path=\"url(#clip882)\" cx=\"1253.43\" cy=\"1445.72\" r=\"14\" fill=\"#009af9\" fill-rule=\"evenodd\" fill-opacity=\"1\" stroke=\"#000000\" stroke-opacity=\"1\" stroke-width=\"3.2\"/>\n",
       "<circle clip-path=\"url(#clip882)\" cx=\"1274.19\" cy=\"1445.72\" r=\"14\" fill=\"#009af9\" fill-rule=\"evenodd\" fill-opacity=\"1\" stroke=\"#000000\" stroke-opacity=\"1\" stroke-width=\"3.2\"/>\n",
       "<circle clip-path=\"url(#clip882)\" cx=\"1294.94\" cy=\"1445.72\" r=\"14\" fill=\"#009af9\" fill-rule=\"evenodd\" fill-opacity=\"1\" stroke=\"#000000\" stroke-opacity=\"1\" stroke-width=\"3.2\"/>\n",
       "<circle clip-path=\"url(#clip882)\" cx=\"1315.69\" cy=\"1445.72\" r=\"14\" fill=\"#009af9\" fill-rule=\"evenodd\" fill-opacity=\"1\" stroke=\"#000000\" stroke-opacity=\"1\" stroke-width=\"3.2\"/>\n",
       "<circle clip-path=\"url(#clip882)\" cx=\"1336.45\" cy=\"87.9763\" r=\"14\" fill=\"#009af9\" fill-rule=\"evenodd\" fill-opacity=\"1\" stroke=\"#000000\" stroke-opacity=\"1\" stroke-width=\"3.2\"/>\n",
       "<circle clip-path=\"url(#clip882)\" cx=\"1357.2\" cy=\"1445.72\" r=\"14\" fill=\"#009af9\" fill-rule=\"evenodd\" fill-opacity=\"1\" stroke=\"#000000\" stroke-opacity=\"1\" stroke-width=\"3.2\"/>\n",
       "<circle clip-path=\"url(#clip882)\" cx=\"1377.95\" cy=\"1445.72\" r=\"14\" fill=\"#009af9\" fill-rule=\"evenodd\" fill-opacity=\"1\" stroke=\"#000000\" stroke-opacity=\"1\" stroke-width=\"3.2\"/>\n",
       "<circle clip-path=\"url(#clip882)\" cx=\"1398.71\" cy=\"87.9763\" r=\"14\" fill=\"#009af9\" fill-rule=\"evenodd\" fill-opacity=\"1\" stroke=\"#000000\" stroke-opacity=\"1\" stroke-width=\"3.2\"/>\n",
       "<circle clip-path=\"url(#clip882)\" cx=\"1419.46\" cy=\"1445.72\" r=\"14\" fill=\"#009af9\" fill-rule=\"evenodd\" fill-opacity=\"1\" stroke=\"#000000\" stroke-opacity=\"1\" stroke-width=\"3.2\"/>\n",
       "<circle clip-path=\"url(#clip882)\" cx=\"1440.22\" cy=\"1445.72\" r=\"14\" fill=\"#009af9\" fill-rule=\"evenodd\" fill-opacity=\"1\" stroke=\"#000000\" stroke-opacity=\"1\" stroke-width=\"3.2\"/>\n",
       "<circle clip-path=\"url(#clip882)\" cx=\"1460.97\" cy=\"1445.72\" r=\"14\" fill=\"#009af9\" fill-rule=\"evenodd\" fill-opacity=\"1\" stroke=\"#000000\" stroke-opacity=\"1\" stroke-width=\"3.2\"/>\n",
       "<circle clip-path=\"url(#clip882)\" cx=\"1481.72\" cy=\"1445.72\" r=\"14\" fill=\"#009af9\" fill-rule=\"evenodd\" fill-opacity=\"1\" stroke=\"#000000\" stroke-opacity=\"1\" stroke-width=\"3.2\"/>\n",
       "<circle clip-path=\"url(#clip882)\" cx=\"1502.48\" cy=\"1445.72\" r=\"14\" fill=\"#009af9\" fill-rule=\"evenodd\" fill-opacity=\"1\" stroke=\"#000000\" stroke-opacity=\"1\" stroke-width=\"3.2\"/>\n",
       "<circle clip-path=\"url(#clip882)\" cx=\"1523.23\" cy=\"1445.72\" r=\"14\" fill=\"#009af9\" fill-rule=\"evenodd\" fill-opacity=\"1\" stroke=\"#000000\" stroke-opacity=\"1\" stroke-width=\"3.2\"/>\n",
       "<circle clip-path=\"url(#clip882)\" cx=\"1543.98\" cy=\"1445.72\" r=\"14\" fill=\"#009af9\" fill-rule=\"evenodd\" fill-opacity=\"1\" stroke=\"#000000\" stroke-opacity=\"1\" stroke-width=\"3.2\"/>\n",
       "<circle clip-path=\"url(#clip882)\" cx=\"1564.74\" cy=\"87.9763\" r=\"14\" fill=\"#009af9\" fill-rule=\"evenodd\" fill-opacity=\"1\" stroke=\"#000000\" stroke-opacity=\"1\" stroke-width=\"3.2\"/>\n",
       "<circle clip-path=\"url(#clip882)\" cx=\"1585.49\" cy=\"1445.72\" r=\"14\" fill=\"#009af9\" fill-rule=\"evenodd\" fill-opacity=\"1\" stroke=\"#000000\" stroke-opacity=\"1\" stroke-width=\"3.2\"/>\n",
       "<circle clip-path=\"url(#clip882)\" cx=\"1606.25\" cy=\"1445.72\" r=\"14\" fill=\"#009af9\" fill-rule=\"evenodd\" fill-opacity=\"1\" stroke=\"#000000\" stroke-opacity=\"1\" stroke-width=\"3.2\"/>\n",
       "<circle clip-path=\"url(#clip882)\" cx=\"1627\" cy=\"1445.72\" r=\"14\" fill=\"#009af9\" fill-rule=\"evenodd\" fill-opacity=\"1\" stroke=\"#000000\" stroke-opacity=\"1\" stroke-width=\"3.2\"/>\n",
       "<circle clip-path=\"url(#clip882)\" cx=\"1647.75\" cy=\"87.9763\" r=\"14\" fill=\"#009af9\" fill-rule=\"evenodd\" fill-opacity=\"1\" stroke=\"#000000\" stroke-opacity=\"1\" stroke-width=\"3.2\"/>\n",
       "<circle clip-path=\"url(#clip882)\" cx=\"1668.51\" cy=\"1445.72\" r=\"14\" fill=\"#009af9\" fill-rule=\"evenodd\" fill-opacity=\"1\" stroke=\"#000000\" stroke-opacity=\"1\" stroke-width=\"3.2\"/>\n",
       "<circle clip-path=\"url(#clip882)\" cx=\"1689.26\" cy=\"1445.72\" r=\"14\" fill=\"#009af9\" fill-rule=\"evenodd\" fill-opacity=\"1\" stroke=\"#000000\" stroke-opacity=\"1\" stroke-width=\"3.2\"/>\n",
       "<circle clip-path=\"url(#clip882)\" cx=\"1710.01\" cy=\"1445.72\" r=\"14\" fill=\"#009af9\" fill-rule=\"evenodd\" fill-opacity=\"1\" stroke=\"#000000\" stroke-opacity=\"1\" stroke-width=\"3.2\"/>\n",
       "<circle clip-path=\"url(#clip882)\" cx=\"1730.77\" cy=\"1445.72\" r=\"14\" fill=\"#009af9\" fill-rule=\"evenodd\" fill-opacity=\"1\" stroke=\"#000000\" stroke-opacity=\"1\" stroke-width=\"3.2\"/>\n",
       "<circle clip-path=\"url(#clip882)\" cx=\"1751.52\" cy=\"1445.72\" r=\"14\" fill=\"#009af9\" fill-rule=\"evenodd\" fill-opacity=\"1\" stroke=\"#000000\" stroke-opacity=\"1\" stroke-width=\"3.2\"/>\n",
       "<circle clip-path=\"url(#clip882)\" cx=\"1772.27\" cy=\"1445.72\" r=\"14\" fill=\"#009af9\" fill-rule=\"evenodd\" fill-opacity=\"1\" stroke=\"#000000\" stroke-opacity=\"1\" stroke-width=\"3.2\"/>\n",
       "<circle clip-path=\"url(#clip882)\" cx=\"1793.03\" cy=\"1445.72\" r=\"14\" fill=\"#009af9\" fill-rule=\"evenodd\" fill-opacity=\"1\" stroke=\"#000000\" stroke-opacity=\"1\" stroke-width=\"3.2\"/>\n",
       "<circle clip-path=\"url(#clip882)\" cx=\"1813.78\" cy=\"1445.72\" r=\"14\" fill=\"#009af9\" fill-rule=\"evenodd\" fill-opacity=\"1\" stroke=\"#000000\" stroke-opacity=\"1\" stroke-width=\"3.2\"/>\n",
       "<circle clip-path=\"url(#clip882)\" cx=\"1834.54\" cy=\"1445.72\" r=\"14\" fill=\"#009af9\" fill-rule=\"evenodd\" fill-opacity=\"1\" stroke=\"#000000\" stroke-opacity=\"1\" stroke-width=\"3.2\"/>\n",
       "<circle clip-path=\"url(#clip882)\" cx=\"1855.29\" cy=\"1445.72\" r=\"14\" fill=\"#009af9\" fill-rule=\"evenodd\" fill-opacity=\"1\" stroke=\"#000000\" stroke-opacity=\"1\" stroke-width=\"3.2\"/>\n",
       "<circle clip-path=\"url(#clip882)\" cx=\"1876.04\" cy=\"87.9763\" r=\"14\" fill=\"#009af9\" fill-rule=\"evenodd\" fill-opacity=\"1\" stroke=\"#000000\" stroke-opacity=\"1\" stroke-width=\"3.2\"/>\n",
       "<circle clip-path=\"url(#clip882)\" cx=\"1896.8\" cy=\"87.9763\" r=\"14\" fill=\"#009af9\" fill-rule=\"evenodd\" fill-opacity=\"1\" stroke=\"#000000\" stroke-opacity=\"1\" stroke-width=\"3.2\"/>\n",
       "<circle clip-path=\"url(#clip882)\" cx=\"1917.55\" cy=\"1445.72\" r=\"14\" fill=\"#009af9\" fill-rule=\"evenodd\" fill-opacity=\"1\" stroke=\"#000000\" stroke-opacity=\"1\" stroke-width=\"3.2\"/>\n",
       "<circle clip-path=\"url(#clip882)\" cx=\"1938.3\" cy=\"1445.72\" r=\"14\" fill=\"#009af9\" fill-rule=\"evenodd\" fill-opacity=\"1\" stroke=\"#000000\" stroke-opacity=\"1\" stroke-width=\"3.2\"/>\n",
       "<circle clip-path=\"url(#clip882)\" cx=\"1959.06\" cy=\"1445.72\" r=\"14\" fill=\"#009af9\" fill-rule=\"evenodd\" fill-opacity=\"1\" stroke=\"#000000\" stroke-opacity=\"1\" stroke-width=\"3.2\"/>\n",
       "<circle clip-path=\"url(#clip882)\" cx=\"1979.81\" cy=\"87.9763\" r=\"14\" fill=\"#009af9\" fill-rule=\"evenodd\" fill-opacity=\"1\" stroke=\"#000000\" stroke-opacity=\"1\" stroke-width=\"3.2\"/>\n",
       "<circle clip-path=\"url(#clip882)\" cx=\"2000.57\" cy=\"1445.72\" r=\"14\" fill=\"#009af9\" fill-rule=\"evenodd\" fill-opacity=\"1\" stroke=\"#000000\" stroke-opacity=\"1\" stroke-width=\"3.2\"/>\n",
       "<circle clip-path=\"url(#clip882)\" cx=\"2021.32\" cy=\"1445.72\" r=\"14\" fill=\"#009af9\" fill-rule=\"evenodd\" fill-opacity=\"1\" stroke=\"#000000\" stroke-opacity=\"1\" stroke-width=\"3.2\"/>\n",
       "<circle clip-path=\"url(#clip882)\" cx=\"2042.07\" cy=\"1445.72\" r=\"14\" fill=\"#009af9\" fill-rule=\"evenodd\" fill-opacity=\"1\" stroke=\"#000000\" stroke-opacity=\"1\" stroke-width=\"3.2\"/>\n",
       "<circle clip-path=\"url(#clip882)\" cx=\"2062.83\" cy=\"87.9763\" r=\"14\" fill=\"#009af9\" fill-rule=\"evenodd\" fill-opacity=\"1\" stroke=\"#000000\" stroke-opacity=\"1\" stroke-width=\"3.2\"/>\n",
       "<circle clip-path=\"url(#clip882)\" cx=\"2083.58\" cy=\"87.9763\" r=\"14\" fill=\"#009af9\" fill-rule=\"evenodd\" fill-opacity=\"1\" stroke=\"#000000\" stroke-opacity=\"1\" stroke-width=\"3.2\"/>\n",
       "<circle clip-path=\"url(#clip882)\" cx=\"2104.33\" cy=\"1445.72\" r=\"14\" fill=\"#009af9\" fill-rule=\"evenodd\" fill-opacity=\"1\" stroke=\"#000000\" stroke-opacity=\"1\" stroke-width=\"3.2\"/>\n",
       "<circle clip-path=\"url(#clip882)\" cx=\"2125.09\" cy=\"1445.72\" r=\"14\" fill=\"#009af9\" fill-rule=\"evenodd\" fill-opacity=\"1\" stroke=\"#000000\" stroke-opacity=\"1\" stroke-width=\"3.2\"/>\n",
       "<circle clip-path=\"url(#clip882)\" cx=\"2145.84\" cy=\"1445.72\" r=\"14\" fill=\"#009af9\" fill-rule=\"evenodd\" fill-opacity=\"1\" stroke=\"#000000\" stroke-opacity=\"1\" stroke-width=\"3.2\"/>\n",
       "<circle clip-path=\"url(#clip882)\" cx=\"2166.6\" cy=\"1445.72\" r=\"14\" fill=\"#009af9\" fill-rule=\"evenodd\" fill-opacity=\"1\" stroke=\"#000000\" stroke-opacity=\"1\" stroke-width=\"3.2\"/>\n",
       "<circle clip-path=\"url(#clip882)\" cx=\"2187.35\" cy=\"87.9763\" r=\"14\" fill=\"#009af9\" fill-rule=\"evenodd\" fill-opacity=\"1\" stroke=\"#000000\" stroke-opacity=\"1\" stroke-width=\"3.2\"/>\n",
       "<circle clip-path=\"url(#clip882)\" cx=\"2208.1\" cy=\"1445.72\" r=\"14\" fill=\"#009af9\" fill-rule=\"evenodd\" fill-opacity=\"1\" stroke=\"#000000\" stroke-opacity=\"1\" stroke-width=\"3.2\"/>\n",
       "<circle clip-path=\"url(#clip882)\" cx=\"2228.86\" cy=\"1445.72\" r=\"14\" fill=\"#009af9\" fill-rule=\"evenodd\" fill-opacity=\"1\" stroke=\"#000000\" stroke-opacity=\"1\" stroke-width=\"3.2\"/>\n",
       "<circle clip-path=\"url(#clip882)\" cx=\"2249.61\" cy=\"1445.72\" r=\"14\" fill=\"#009af9\" fill-rule=\"evenodd\" fill-opacity=\"1\" stroke=\"#000000\" stroke-opacity=\"1\" stroke-width=\"3.2\"/>\n",
       "<circle clip-path=\"url(#clip882)\" cx=\"2270.36\" cy=\"1445.72\" r=\"14\" fill=\"#009af9\" fill-rule=\"evenodd\" fill-opacity=\"1\" stroke=\"#000000\" stroke-opacity=\"1\" stroke-width=\"3.2\"/>\n",
       "<circle clip-path=\"url(#clip882)\" cx=\"2291.12\" cy=\"87.9763\" r=\"14\" fill=\"#009af9\" fill-rule=\"evenodd\" fill-opacity=\"1\" stroke=\"#000000\" stroke-opacity=\"1\" stroke-width=\"3.2\"/>\n",
       "<path clip-path=\"url(#clip880)\" d=\"\n",
       "M1987.15 216.178 L2280.16 216.178 L2280.16 95.2176 L1987.15 95.2176  Z\n",
       "  \" fill=\"#ffffff\" fill-rule=\"evenodd\" fill-opacity=\"1\"/>\n",
       "<polyline clip-path=\"url(#clip880)\" style=\"stroke:#000000; stroke-width:4; stroke-opacity:1; fill:none\" points=\"\n",
       "  1987.15,216.178 2280.16,216.178 2280.16,95.2176 1987.15,95.2176 1987.15,216.178 \n",
       "  \"/>\n",
       "<circle clip-path=\"url(#clip880)\" cx=\"2083.95\" cy=\"155.698\" r=\"23\" fill=\"#009af9\" fill-rule=\"evenodd\" fill-opacity=\"1\" stroke=\"#000000\" stroke-opacity=\"1\" stroke-width=\"5.12\"/>\n",
       "<path clip-path=\"url(#clip880)\" d=\"M 0 0 M2194.59 175.385 Q2192.78 180.015 2191.07 181.427 Q2189.35 182.839 2186.48 182.839 L2183.08 182.839 L2183.08 179.274 L2185.58 179.274 Q2187.34 179.274 2188.31 178.44 Q2189.29 177.607 2190.47 174.505 L2191.23 172.561 L2180.74 147.052 L2185.26 147.052 L2193.36 167.329 L2201.46 147.052 L2205.97 147.052 L2194.59 175.385 Z\" fill=\"#000000\" fill-rule=\"evenodd\" fill-opacity=\"1\" /><path clip-path=\"url(#clip880)\" d=\"M 0 0 M2211.85 169.042 L2219.49 169.042 L2219.49 142.677 L2211.18 144.343 L2211.18 140.084 L2219.45 138.418 L2224.12 138.418 L2224.12 169.042 L2231.76 169.042 L2231.76 172.978 L2211.85 172.978 L2211.85 169.042 Z\" fill=\"#000000\" fill-rule=\"evenodd\" fill-opacity=\"1\" /></svg>\n"
      ]
     },
     "execution_count": 44,
     "metadata": {},
     "output_type": "execute_result"
    }
   ],
   "source": [
    "scatter(trials)"
   ]
  },
  {
   "cell_type": "code",
   "execution_count": 48,
   "metadata": {},
   "outputs": [
    {
     "data": {
      "text/plain": [
       "24"
      ]
     },
     "execution_count": 48,
     "metadata": {},
     "output_type": "execute_result"
    }
   ],
   "source": [
    "count(trials)"
   ]
  },
  {
   "cell_type": "code",
   "execution_count": 50,
   "metadata": {},
   "outputs": [
    {
     "data": {
      "text/plain": [
       "76"
      ]
     },
     "execution_count": 50,
     "metadata": {},
     "output_type": "execute_result"
    }
   ],
   "source": [
    "count(trials .== false)"
   ]
  },
  {
   "cell_type": "code",
   "execution_count": 46,
   "metadata": {},
   "outputs": [
    {
     "data": {
      "text/plain": [
       "bernoulli_experiment (generic function with 1 method)"
      ]
     },
     "execution_count": 46,
     "metadata": {},
     "output_type": "execute_result"
    }
   ],
   "source": [
    "function bernoulli_experiment(p, N)\n",
    "    trials = [bernoulli(p) for i in 1:N];\n",
    "    return count(trials)\n",
    "end"
   ]
  },
  {
   "cell_type": "code",
   "execution_count": null,
   "metadata": {},
   "outputs": [],
   "source": [
    "t"
   ]
  }
 ],
 "metadata": {
  "@webio": {
   "lastCommId": "c271e973-bf14-41d5-a7ed-2577a6c32ff2",
   "lastKernelId": "7fa8fe9e-41fc-430a-b33b-f0b95edc8e1b"
  },
  "kernelspec": {
   "display_name": "Julia 1.6.0",
   "language": "julia",
   "name": "julia-1.6"
  },
  "language_info": {
   "file_extension": ".jl",
   "mimetype": "application/julia",
   "name": "julia",
   "version": "1.6.0"
  }
 },
 "nbformat": 4,
 "nbformat_minor": 4
}
