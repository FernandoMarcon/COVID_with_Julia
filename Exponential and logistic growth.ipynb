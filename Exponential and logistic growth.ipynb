{
 "cells": [
  {
   "cell_type": "markdown",
   "metadata": {},
   "source": [
    "# Introduction to Modelling\n",
    "## Exponential and Logistic Growth\n",
    "\n",
    "Goals:\n",
    "- Simple models of dynamics of infection\n",
    "- Exponential and logistic growth\n",
    "- **Simulate** to produce **data**\n",
    "- Visualize for understanding"
   ]
  },
  {
   "cell_type": "markdown",
   "metadata": {},
   "source": [
    "## Dynamics\n",
    "\n",
    "*how system changes (**evolves**) over time"
   ]
  },
  {
   "cell_type": "markdown",
   "metadata": {},
   "source": [
    "## Modelling\n",
    "\n",
    "### What is a **model**?\n",
    "\n",
    "*Mathematical/computational description of the world*\n",
    "\n",
    "- Isolate effects of interest\n",
    "- Start simple, understand behaviour\n",
    "- Make more compliocated (add additional effects), understand how results change\n",
    "- Repeat!"
   ]
  },
  {
   "cell_type": "markdown",
   "metadata": {},
   "source": [
    "## Modeling Infections\n",
    "- Let's try to model infection spreading thourgh campus\n",
    "- Need to make assumptions to start modelling process\n",
    "- Assumptions must be **explicit**\n",
    " \n",
    "\n",
    "- **Suppose** no influence from outside\n",
    "- **Suppose** no births or deaths\n",
    "- **Suppose** infection is transmitted by proximity\n",
    "- **Suppose** stay infected once infected"
   ]
  },
  {
   "cell_type": "markdown",
   "metadata": {},
   "source": [
    "### Mathematical Model\n",
    "- **Mathematical model**: mathematical description of assumptions\n",
    "- Choose a model in **discrete time**: *n* = days\n",
    "- Notation: $I_n$ is number of **infectious** people on *n*th day\n",
    "- $S_n$ is number of **susceptible** people on *n*th day\n",
    " \n",
    " \n",
    " **Suppose** that everybody is either susceptible or infected:\n",
    "  \n",
    "  $S_n + I_n = N$ \n",
    " \n",
    " and total population $N$ is constant\n",
    " \n",
    " **Initial conditions**\n",
    " - Need to specify initial values at time *n* = 0 \n",
    "  \n",
    "      E.g. $I_0 = 1$ and $S_0 = N - 1$\n",
    "  \n",
    " - We will need hypotheses on dynamics of infection:\n",
    "  Specify how $I_{n+1}$ depends on $I_0, ..., I_n$ \n",
    "   \n",
    "   E.g. $I_{n+1} = f(I_n)$ &rarr; **deterministic** model\n",
    "    \n",
    "   or $I_{n+1} = f(I_n) + \\xi$ &rarr; **stochastic** model with random fluctuatinos $\\xi$\n",
    "   \n",
    "**Output of model**\n",
    "- The output of model will be a **time series**\n",
    " \n",
    " i.e. vectors of values of $S_n$ and $I_n$ at times $n = 0, ..., T$\n",
    "- Up to some final time $T$ \n",
    " \n",
    "- *Possible goal: Obtain time series that \"mimics\" real-world data*\n",
    "- *Posiible goal: Understand what effects must be included in model and which ones may not be relevant*"
   ]
  },
  {
   "cell_type": "markdown",
   "metadata": {},
   "source": [
    "## Simple model of infection\n",
    "Each individual infects *c* new people each day."
   ]
  },
  {
   "cell_type": "markdown",
   "metadata": {},
   "source": [
    "$I_{n+1} = I_n + (c I_n) = I_n(1 + c)$"
   ]
  },
  {
   "cell_type": "markdown",
   "metadata": {},
   "source": [
    "So"
   ]
  },
  {
   "cell_type": "markdown",
   "metadata": {},
   "source": [
    "$I_{n+1} = \\lambda I_n$, where $\\lambda$ := 1 + c -- **growth rate**\n",
    " \n",
    "and $I_0 = 1$"
   ]
  },
  {
   "cell_type": "code",
   "execution_count": 2,
   "metadata": {},
   "outputs": [
    {
     "data": {
      "text/plain": [
       "1"
      ]
     },
     "execution_count": 2,
     "metadata": {},
     "output_type": "execute_result"
    }
   ],
   "source": [
    "I₀ = 1"
   ]
  },
  {
   "cell_type": "code",
   "execution_count": 3,
   "metadata": {},
   "outputs": [
    {
     "data": {
      "text/plain": [
       "0.01"
      ]
     },
     "execution_count": 3,
     "metadata": {},
     "output_type": "execute_result"
    }
   ],
   "source": [
    "c = 0.01 # Every individual infects 0.01 new people every day"
   ]
  },
  {
   "cell_type": "code",
   "execution_count": 4,
   "metadata": {},
   "outputs": [
    {
     "data": {
      "text/plain": [
       "1.01"
      ]
     },
     "execution_count": 4,
     "metadata": {},
     "output_type": "execute_result"
    }
   ],
   "source": [
    "λ = 1 + c"
   ]
  },
  {
   "cell_type": "code",
   "execution_count": 5,
   "metadata": {},
   "outputs": [
    {
     "data": {
      "text/plain": [
       "1.01"
      ]
     },
     "execution_count": 5,
     "metadata": {},
     "output_type": "execute_result"
    }
   ],
   "source": [
    "I₁ = λ * I₀"
   ]
  },
  {
   "cell_type": "code",
   "execution_count": 6,
   "metadata": {},
   "outputs": [
    {
     "data": {
      "text/plain": [
       "1.0201"
      ]
     },
     "execution_count": 6,
     "metadata": {},
     "output_type": "execute_result"
    }
   ],
   "source": [
    "I₂ = λ * I₁"
   ]
  },
  {
   "cell_type": "code",
   "execution_count": 7,
   "metadata": {},
   "outputs": [
    {
     "data": {
      "text/plain": [
       "1.030301"
      ]
     },
     "execution_count": 7,
     "metadata": {},
     "output_type": "execute_result"
    }
   ],
   "source": [
    "I₃ = λ * I₂"
   ]
  },
  {
   "cell_type": "markdown",
   "metadata": {},
   "source": [
    "## Arrays"
   ]
  },
  {
   "cell_type": "code",
   "execution_count": 11,
   "metadata": {},
   "outputs": [
    {
     "data": {
      "text/plain": [
       "10-element Vector{Float64}:\n",
       " 0.0\n",
       " 0.0\n",
       " 0.0\n",
       " 0.0\n",
       " 0.0\n",
       " 0.0\n",
       " 0.0\n",
       " 0.0\n",
       " 0.0\n",
       " 0.0"
      ]
     },
     "execution_count": 11,
     "metadata": {},
     "output_type": "execute_result"
    }
   ],
   "source": [
    "T = 10 # final time\n",
    "\n",
    "I = zeros(T)"
   ]
  },
  {
   "cell_type": "code",
   "execution_count": 12,
   "metadata": {},
   "outputs": [
    {
     "data": {
      "text/plain": [
       "0.0"
      ]
     },
     "execution_count": 12,
     "metadata": {},
     "output_type": "execute_result"
    }
   ],
   "source": [
    "I[1]"
   ]
  },
  {
   "cell_type": "code",
   "execution_count": 13,
   "metadata": {},
   "outputs": [
    {
     "data": {
      "text/plain": [
       "3-element Vector{Float64}:\n",
       " 0.0\n",
       " 0.0\n",
       " 0.0"
      ]
     },
     "execution_count": 13,
     "metadata": {},
     "output_type": "execute_result"
    }
   ],
   "source": [
    "I[1:3]"
   ]
  },
  {
   "cell_type": "code",
   "execution_count": 14,
   "metadata": {},
   "outputs": [
    {
     "data": {
      "text/plain": [
       "10-element Vector{Int64}:\n",
       " 0\n",
       " 0\n",
       " 0\n",
       " 0\n",
       " 0\n",
       " 0\n",
       " 0\n",
       " 0\n",
       " 0\n",
       " 0"
      ]
     },
     "execution_count": 14,
     "metadata": {},
     "output_type": "execute_result"
    }
   ],
   "source": [
    "I = zeros(Int64, T)"
   ]
  },
  {
   "cell_type": "markdown",
   "metadata": {},
   "source": [
    "## Automate:"
   ]
  },
  {
   "cell_type": "code",
   "execution_count": 15,
   "metadata": {},
   "outputs": [
    {
     "data": {
      "text/plain": [
       "10-element Vector{Float64}:\n",
       " 0.0\n",
       " 0.0\n",
       " 0.0\n",
       " 0.0\n",
       " 0.0\n",
       " 0.0\n",
       " 0.0\n",
       " 0.0\n",
       " 0.0\n",
       " 0.0"
      ]
     },
     "execution_count": 15,
     "metadata": {},
     "output_type": "execute_result"
    }
   ],
   "source": [
    "I = zeros(T)"
   ]
  },
  {
   "cell_type": "code",
   "execution_count": 16,
   "metadata": {},
   "outputs": [
    {
     "data": {
      "text/plain": [
       "1"
      ]
     },
     "execution_count": 16,
     "metadata": {},
     "output_type": "execute_result"
    }
   ],
   "source": [
    "I[1] = I₀"
   ]
  },
  {
   "cell_type": "code",
   "execution_count": 22,
   "metadata": {},
   "outputs": [
    {
     "name": "stdout",
     "output_type": "stream",
     "text": [
      "(n, I[n]) = (1, 1.0)\n",
      "(n, I[n]) = (2, 1.01)\n",
      "(n, I[n]) = (3, 1.0201)\n",
      "(n, I[n]) = (4, 1.030301)\n",
      "(n, I[n]) = (5, 1.04060401)\n",
      "(n, I[n]) = (6, 1.0510100501)\n",
      "(n, I[n]) = (7, 1.061520150601)\n",
      "(n, I[n]) = (8, 1.0721353521070098)\n",
      "(n, I[n]) = (9, 1.08285670562808)\n"
     ]
    }
   ],
   "source": [
    "for n in 1:T-1\n",
    "    I[n+1] = λ * I[n]\n",
    "    @show n, I[n]\n",
    "end\n",
    "\n",
    "# for loops do not return anything"
   ]
  },
  {
   "cell_type": "code",
   "execution_count": 25,
   "metadata": {},
   "outputs": [],
   "source": [
    "using Plots"
   ]
  },
  {
   "cell_type": "code",
   "execution_count": 26,
   "metadata": {},
   "outputs": [
    {
     "data": {
      "image/svg+xml": [
       "<?xml version=\"1.0\" encoding=\"utf-8\"?>\n",
       "<svg xmlns=\"http://www.w3.org/2000/svg\" xmlns:xlink=\"http://www.w3.org/1999/xlink\" width=\"600\" height=\"400\" viewBox=\"0 0 2400 1600\">\n",
       "<defs>\n",
       "  <clipPath id=\"clip880\">\n",
       "    <rect x=\"0\" y=\"0\" width=\"2400\" height=\"1600\"/>\n",
       "  </clipPath>\n",
       "</defs>\n",
       "<path clip-path=\"url(#clip880)\" d=\"\n",
       "M0 1600 L2400 1600 L2400 0 L0 0  Z\n",
       "  \" fill=\"#ffffff\" fill-rule=\"evenodd\" fill-opacity=\"1\"/>\n",
       "<defs>\n",
       "  <clipPath id=\"clip881\">\n",
       "    <rect x=\"480\" y=\"0\" width=\"1681\" height=\"1600\"/>\n",
       "  </clipPath>\n",
       "</defs>\n",
       "<path clip-path=\"url(#clip880)\" d=\"\n",
       "M172.038 1486.45 L2352.76 1486.45 L2352.76 47.2441 L172.038 47.2441  Z\n",
       "  \" fill=\"#ffffff\" fill-rule=\"evenodd\" fill-opacity=\"1\"/>\n",
       "<defs>\n",
       "  <clipPath id=\"clip882\">\n",
       "    <rect x=\"172\" y=\"47\" width=\"2182\" height=\"1440\"/>\n",
       "  </clipPath>\n",
       "</defs>\n",
       "<polyline clip-path=\"url(#clip882)\" style=\"stroke:#000000; stroke-width:2; stroke-opacity:0.1; fill:none\" points=\"\n",
       "  462.343,1486.45 462.343,47.2441 \n",
       "  \"/>\n",
       "<polyline clip-path=\"url(#clip882)\" style=\"stroke:#000000; stroke-width:2; stroke-opacity:0.1; fill:none\" points=\"\n",
       "  919.517,1486.45 919.517,47.2441 \n",
       "  \"/>\n",
       "<polyline clip-path=\"url(#clip882)\" style=\"stroke:#000000; stroke-width:2; stroke-opacity:0.1; fill:none\" points=\"\n",
       "  1376.69,1486.45 1376.69,47.2441 \n",
       "  \"/>\n",
       "<polyline clip-path=\"url(#clip882)\" style=\"stroke:#000000; stroke-width:2; stroke-opacity:0.1; fill:none\" points=\"\n",
       "  1833.86,1486.45 1833.86,47.2441 \n",
       "  \"/>\n",
       "<polyline clip-path=\"url(#clip882)\" style=\"stroke:#000000; stroke-width:2; stroke-opacity:0.1; fill:none\" points=\"\n",
       "  2291.04,1486.45 2291.04,47.2441 \n",
       "  \"/>\n",
       "<polyline clip-path=\"url(#clip880)\" style=\"stroke:#000000; stroke-width:4; stroke-opacity:1; fill:none\" points=\"\n",
       "  172.038,1486.45 2352.76,1486.45 \n",
       "  \"/>\n",
       "<polyline clip-path=\"url(#clip880)\" style=\"stroke:#000000; stroke-width:4; stroke-opacity:1; fill:none\" points=\"\n",
       "  462.343,1486.45 462.343,1469.18 \n",
       "  \"/>\n",
       "<polyline clip-path=\"url(#clip880)\" style=\"stroke:#000000; stroke-width:4; stroke-opacity:1; fill:none\" points=\"\n",
       "  919.517,1486.45 919.517,1469.18 \n",
       "  \"/>\n",
       "<polyline clip-path=\"url(#clip880)\" style=\"stroke:#000000; stroke-width:4; stroke-opacity:1; fill:none\" points=\"\n",
       "  1376.69,1486.45 1376.69,1469.18 \n",
       "  \"/>\n",
       "<polyline clip-path=\"url(#clip880)\" style=\"stroke:#000000; stroke-width:4; stroke-opacity:1; fill:none\" points=\"\n",
       "  1833.86,1486.45 1833.86,1469.18 \n",
       "  \"/>\n",
       "<polyline clip-path=\"url(#clip880)\" style=\"stroke:#000000; stroke-width:4; stroke-opacity:1; fill:none\" points=\"\n",
       "  2291.04,1486.45 2291.04,1469.18 \n",
       "  \"/>\n",
       "<path clip-path=\"url(#clip880)\" d=\"M 0 0 M456.996 1543.18 L473.315 1543.18 L473.315 1547.12 L451.371 1547.12 L451.371 1543.18 Q454.033 1540.43 458.616 1535.8 Q463.223 1531.15 464.403 1529.81 Q466.649 1527.28 467.528 1525.55 Q468.431 1523.79 468.431 1522.1 Q468.431 1519.34 466.487 1517.61 Q464.565 1515.87 461.464 1515.87 Q459.264 1515.87 456.811 1516.63 Q454.38 1517.4 451.603 1518.95 L451.603 1514.23 Q454.427 1513.09 456.88 1512.51 Q459.334 1511.93 461.371 1511.93 Q466.741 1511.93 469.936 1514.62 Q473.13 1517.31 473.13 1521.8 Q473.13 1523.93 472.32 1525.85 Q471.533 1527.74 469.426 1530.34 Q468.848 1531.01 465.746 1534.23 Q462.644 1537.42 456.996 1543.18 Z\" fill=\"#000000\" fill-rule=\"evenodd\" fill-opacity=\"1\" /><path clip-path=\"url(#clip880)\" d=\"M 0 0 M922.526 1516.63 L910.721 1535.08 L922.526 1535.08 L922.526 1516.63 M921.299 1512.56 L927.179 1512.56 L927.179 1535.08 L932.109 1535.08 L932.109 1538.97 L927.179 1538.97 L927.179 1547.12 L922.526 1547.12 L922.526 1538.97 L906.924 1538.97 L906.924 1534.46 L921.299 1512.56 Z\" fill=\"#000000\" fill-rule=\"evenodd\" fill-opacity=\"1\" /><path clip-path=\"url(#clip880)\" d=\"M 0 0 M1377.1 1527.98 Q1373.95 1527.98 1372.1 1530.13 Q1370.27 1532.28 1370.27 1536.03 Q1370.27 1539.76 1372.1 1541.93 Q1373.95 1544.09 1377.1 1544.09 Q1380.24 1544.09 1382.07 1541.93 Q1383.92 1539.76 1383.92 1536.03 Q1383.92 1532.28 1382.07 1530.13 Q1380.24 1527.98 1377.1 1527.98 M1386.38 1513.32 L1386.38 1517.58 Q1384.62 1516.75 1382.81 1516.31 Q1381.03 1515.87 1379.27 1515.87 Q1374.64 1515.87 1372.19 1519 Q1369.76 1522.12 1369.41 1528.44 Q1370.78 1526.43 1372.84 1525.36 Q1374.9 1524.27 1377.37 1524.27 Q1382.58 1524.27 1385.59 1527.44 Q1388.62 1530.59 1388.62 1536.03 Q1388.62 1541.36 1385.48 1544.57 Q1382.33 1547.79 1377.1 1547.79 Q1371.1 1547.79 1367.93 1543.21 Q1364.76 1538.6 1364.76 1529.87 Q1364.76 1521.68 1368.65 1516.82 Q1372.54 1511.93 1379.09 1511.93 Q1380.85 1511.93 1382.63 1512.28 Q1384.43 1512.63 1386.38 1513.32 Z\" fill=\"#000000\" fill-rule=\"evenodd\" fill-opacity=\"1\" /><path clip-path=\"url(#clip880)\" d=\"M 0 0 M1833.86 1530.71 Q1830.53 1530.71 1828.61 1532.49 Q1826.71 1534.27 1826.71 1537.4 Q1826.71 1540.52 1828.61 1542.31 Q1830.53 1544.09 1833.86 1544.09 Q1837.2 1544.09 1839.12 1542.31 Q1841.04 1540.5 1841.04 1537.4 Q1841.04 1534.27 1839.12 1532.49 Q1837.22 1530.71 1833.86 1530.71 M1829.19 1528.72 Q1826.18 1527.98 1824.49 1525.92 Q1822.82 1523.86 1822.82 1520.89 Q1822.82 1516.75 1825.76 1514.34 Q1828.73 1511.93 1833.86 1511.93 Q1839.03 1511.93 1841.97 1514.34 Q1844.91 1516.75 1844.91 1520.89 Q1844.91 1523.86 1843.22 1525.92 Q1841.55 1527.98 1838.56 1528.72 Q1841.94 1529.5 1843.82 1531.8 Q1845.72 1534.09 1845.72 1537.4 Q1845.72 1542.42 1842.64 1545.11 Q1839.58 1547.79 1833.86 1547.79 Q1828.15 1547.79 1825.07 1545.11 Q1822.01 1542.42 1822.01 1537.4 Q1822.01 1534.09 1823.91 1531.8 Q1825.81 1529.5 1829.19 1528.72 M1827.48 1521.33 Q1827.48 1524.02 1829.14 1525.52 Q1830.83 1527.03 1833.86 1527.03 Q1836.87 1527.03 1838.56 1525.52 Q1840.28 1524.02 1840.28 1521.33 Q1840.28 1518.65 1838.56 1517.14 Q1836.87 1515.64 1833.86 1515.64 Q1830.83 1515.64 1829.14 1517.14 Q1827.48 1518.65 1827.48 1521.33 Z\" fill=\"#000000\" fill-rule=\"evenodd\" fill-opacity=\"1\" /><path clip-path=\"url(#clip880)\" d=\"M 0 0 M2267.91 1543.18 L2275.55 1543.18 L2275.55 1516.82 L2267.24 1518.49 L2267.24 1514.23 L2275.51 1512.56 L2280.18 1512.56 L2280.18 1543.18 L2287.82 1543.18 L2287.82 1547.12 L2267.91 1547.12 L2267.91 1543.18 Z\" fill=\"#000000\" fill-rule=\"evenodd\" fill-opacity=\"1\" /><path clip-path=\"url(#clip880)\" d=\"M 0 0 M2302.89 1515.64 Q2299.28 1515.64 2297.45 1519.2 Q2295.64 1522.75 2295.64 1529.87 Q2295.64 1536.98 2297.45 1540.55 Q2299.28 1544.09 2302.89 1544.09 Q2306.52 1544.09 2308.33 1540.55 Q2310.16 1536.98 2310.16 1529.87 Q2310.16 1522.75 2308.33 1519.2 Q2306.52 1515.64 2302.89 1515.64 M2302.89 1511.93 Q2308.7 1511.93 2311.75 1516.54 Q2314.83 1521.12 2314.83 1529.87 Q2314.83 1538.6 2311.75 1543.21 Q2308.7 1547.79 2302.89 1547.79 Q2297.08 1547.79 2294 1543.21 Q2290.94 1538.6 2290.94 1529.87 Q2290.94 1521.12 2294 1516.54 Q2297.08 1511.93 2302.89 1511.93 Z\" fill=\"#000000\" fill-rule=\"evenodd\" fill-opacity=\"1\" /><polyline clip-path=\"url(#clip882)\" style=\"stroke:#000000; stroke-width:2; stroke-opacity:0.1; fill:none\" points=\"\n",
       "  172.038,1445.72 2352.76,1445.72 \n",
       "  \"/>\n",
       "<polyline clip-path=\"url(#clip882)\" style=\"stroke:#000000; stroke-width:2; stroke-opacity:0.1; fill:none\" points=\"\n",
       "  172.038,1155.86 2352.76,1155.86 \n",
       "  \"/>\n",
       "<polyline clip-path=\"url(#clip882)\" style=\"stroke:#000000; stroke-width:2; stroke-opacity:0.1; fill:none\" points=\"\n",
       "  172.038,866.013 2352.76,866.013 \n",
       "  \"/>\n",
       "<polyline clip-path=\"url(#clip882)\" style=\"stroke:#000000; stroke-width:2; stroke-opacity:0.1; fill:none\" points=\"\n",
       "  172.038,576.162 2352.76,576.162 \n",
       "  \"/>\n",
       "<polyline clip-path=\"url(#clip882)\" style=\"stroke:#000000; stroke-width:2; stroke-opacity:0.1; fill:none\" points=\"\n",
       "  172.038,286.311 2352.76,286.311 \n",
       "  \"/>\n",
       "<polyline clip-path=\"url(#clip880)\" style=\"stroke:#000000; stroke-width:4; stroke-opacity:1; fill:none\" points=\"\n",
       "  172.038,1486.45 172.038,47.2441 \n",
       "  \"/>\n",
       "<polyline clip-path=\"url(#clip880)\" style=\"stroke:#000000; stroke-width:4; stroke-opacity:1; fill:none\" points=\"\n",
       "  172.038,1445.72 198.207,1445.72 \n",
       "  \"/>\n",
       "<polyline clip-path=\"url(#clip880)\" style=\"stroke:#000000; stroke-width:4; stroke-opacity:1; fill:none\" points=\"\n",
       "  172.038,1155.86 198.207,1155.86 \n",
       "  \"/>\n",
       "<polyline clip-path=\"url(#clip880)\" style=\"stroke:#000000; stroke-width:4; stroke-opacity:1; fill:none\" points=\"\n",
       "  172.038,866.013 198.207,866.013 \n",
       "  \"/>\n",
       "<polyline clip-path=\"url(#clip880)\" style=\"stroke:#000000; stroke-width:4; stroke-opacity:1; fill:none\" points=\"\n",
       "  172.038,576.162 198.207,576.162 \n",
       "  \"/>\n",
       "<polyline clip-path=\"url(#clip880)\" style=\"stroke:#000000; stroke-width:4; stroke-opacity:1; fill:none\" points=\"\n",
       "  172.038,286.311 198.207,286.311 \n",
       "  \"/>\n",
       "<path clip-path=\"url(#clip880)\" d=\"M 0 0 M52.1495 1459.06 L59.7884 1459.06 L59.7884 1432.69 L51.4782 1434.36 L51.4782 1430.1 L59.7421 1428.44 L64.418 1428.44 L64.418 1459.06 L72.0568 1459.06 L72.0568 1463 L52.1495 1463 L52.1495 1459.06 Z\" fill=\"#000000\" fill-rule=\"evenodd\" fill-opacity=\"1\" /><path clip-path=\"url(#clip880)\" d=\"M 0 0 M77.1262 1457.12 L82.0105 1457.12 L82.0105 1463 L77.1262 1463 L77.1262 1457.12 Z\" fill=\"#000000\" fill-rule=\"evenodd\" fill-opacity=\"1\" /><path clip-path=\"url(#clip880)\" d=\"M 0 0 M97.0798 1431.51 Q93.4688 1431.51 91.6401 1435.08 Q89.8345 1438.62 89.8345 1445.75 Q89.8345 1452.86 91.6401 1456.42 Q93.4688 1459.96 97.0798 1459.96 Q100.714 1459.96 102.52 1456.42 Q104.348 1452.86 104.348 1445.75 Q104.348 1438.62 102.52 1435.08 Q100.714 1431.51 97.0798 1431.51 M97.0798 1427.81 Q102.89 1427.81 105.946 1432.42 Q109.024 1437 109.024 1445.75 Q109.024 1454.48 105.946 1459.08 Q102.89 1463.67 97.0798 1463.67 Q91.2697 1463.67 88.191 1459.08 Q85.1355 1454.48 85.1355 1445.75 Q85.1355 1437 88.191 1432.42 Q91.2697 1427.81 97.0798 1427.81 Z\" fill=\"#000000\" fill-rule=\"evenodd\" fill-opacity=\"1\" /><path clip-path=\"url(#clip880)\" d=\"M 0 0 M124.094 1431.51 Q120.482 1431.51 118.654 1435.08 Q116.848 1438.62 116.848 1445.75 Q116.848 1452.86 118.654 1456.42 Q120.482 1459.96 124.094 1459.96 Q127.728 1459.96 129.533 1456.42 Q131.362 1452.86 131.362 1445.75 Q131.362 1438.62 129.533 1435.08 Q127.728 1431.51 124.094 1431.51 M124.094 1427.81 Q129.904 1427.81 132.959 1432.42 Q136.038 1437 136.038 1445.75 Q136.038 1454.48 132.959 1459.08 Q129.904 1463.67 124.094 1463.67 Q118.283 1463.67 115.205 1459.08 Q112.149 1454.48 112.149 1445.75 Q112.149 1437 115.205 1432.42 Q118.283 1427.81 124.094 1427.81 Z\" fill=\"#000000\" fill-rule=\"evenodd\" fill-opacity=\"1\" /><path clip-path=\"url(#clip880)\" d=\"M 0 0 M53.7467 1169.21 L61.3856 1169.21 L61.3856 1142.84 L53.0754 1144.51 L53.0754 1140.25 L61.3393 1138.58 L66.0152 1138.58 L66.0152 1169.21 L73.654 1169.21 L73.654 1173.14 L53.7467 1173.14 L53.7467 1169.21 Z\" fill=\"#000000\" fill-rule=\"evenodd\" fill-opacity=\"1\" /><path clip-path=\"url(#clip880)\" d=\"M 0 0 M78.7235 1167.26 L83.6077 1167.26 L83.6077 1173.14 L78.7235 1173.14 L78.7235 1167.26 Z\" fill=\"#000000\" fill-rule=\"evenodd\" fill-opacity=\"1\" /><path clip-path=\"url(#clip880)\" d=\"M 0 0 M98.6771 1141.66 Q95.066 1141.66 93.2373 1145.23 Q91.4317 1148.77 91.4317 1155.9 Q91.4317 1163.01 93.2373 1166.57 Q95.066 1170.11 98.6771 1170.11 Q102.311 1170.11 104.117 1166.57 Q105.946 1163.01 105.946 1155.9 Q105.946 1148.77 104.117 1145.23 Q102.311 1141.66 98.6771 1141.66 M98.6771 1137.96 Q104.487 1137.96 107.543 1142.57 Q110.621 1147.15 110.621 1155.9 Q110.621 1164.63 107.543 1169.23 Q104.487 1173.82 98.6771 1173.82 Q92.8669 1173.82 89.7882 1169.23 Q86.7327 1164.63 86.7327 1155.9 Q86.7327 1147.15 89.7882 1142.57 Q92.8669 1137.96 98.6771 1137.96 Z\" fill=\"#000000\" fill-rule=\"evenodd\" fill-opacity=\"1\" /><path clip-path=\"url(#clip880)\" d=\"M 0 0 M119.719 1169.21 L136.038 1169.21 L136.038 1173.14 L114.094 1173.14 L114.094 1169.21 Q116.756 1166.45 121.339 1161.83 Q125.945 1157.17 127.126 1155.83 Q129.371 1153.31 130.251 1151.57 Q131.154 1149.81 131.154 1148.12 Q131.154 1145.37 129.209 1143.63 Q127.288 1141.89 124.186 1141.89 Q121.987 1141.89 119.533 1142.66 Q117.103 1143.42 114.325 1144.97 L114.325 1140.25 Q117.149 1139.12 119.603 1138.54 Q122.057 1137.96 124.094 1137.96 Q129.464 1137.96 132.658 1140.64 Q135.853 1143.33 135.853 1147.82 Q135.853 1149.95 135.043 1151.87 Q134.256 1153.77 132.149 1156.36 Q131.57 1157.03 128.469 1160.25 Q125.367 1163.45 119.719 1169.21 Z\" fill=\"#000000\" fill-rule=\"evenodd\" fill-opacity=\"1\" /><path clip-path=\"url(#clip880)\" d=\"M 0 0 M51.6634 879.358 L59.3023 879.358 L59.3023 852.993 L50.9921 854.659 L50.9921 850.4 L59.256 848.733 L63.9319 848.733 L63.9319 879.358 L71.5707 879.358 L71.5707 883.293 L51.6634 883.293 L51.6634 879.358 Z\" fill=\"#000000\" fill-rule=\"evenodd\" fill-opacity=\"1\" /><path clip-path=\"url(#clip880)\" d=\"M 0 0 M76.6401 877.414 L81.5244 877.414 L81.5244 883.293 L76.6401 883.293 L76.6401 877.414 Z\" fill=\"#000000\" fill-rule=\"evenodd\" fill-opacity=\"1\" /><path clip-path=\"url(#clip880)\" d=\"M 0 0 M96.5937 851.812 Q92.9826 851.812 91.1539 855.377 Q89.3484 858.918 89.3484 866.048 Q89.3484 873.154 91.1539 876.719 Q92.9826 880.261 96.5937 880.261 Q100.228 880.261 102.034 876.719 Q103.862 873.154 103.862 866.048 Q103.862 858.918 102.034 855.377 Q100.228 851.812 96.5937 851.812 M96.5937 848.108 Q102.404 848.108 105.459 852.715 Q108.538 857.298 108.538 866.048 Q108.538 874.775 105.459 879.381 Q102.404 883.965 96.5937 883.965 Q90.7836 883.965 87.7049 879.381 Q84.6494 874.775 84.6494 866.048 Q84.6494 857.298 87.7049 852.715 Q90.7836 848.108 96.5937 848.108 Z\" fill=\"#000000\" fill-rule=\"evenodd\" fill-opacity=\"1\" /><path clip-path=\"url(#clip880)\" d=\"M 0 0 M126.455 852.807 L114.649 871.256 L126.455 871.256 L126.455 852.807 M125.228 848.733 L131.107 848.733 L131.107 871.256 L136.038 871.256 L136.038 875.145 L131.107 875.145 L131.107 883.293 L126.455 883.293 L126.455 875.145 L110.853 875.145 L110.853 870.631 L125.228 848.733 Z\" fill=\"#000000\" fill-rule=\"evenodd\" fill-opacity=\"1\" /><path clip-path=\"url(#clip880)\" d=\"M 0 0 M51.9875 589.507 L59.6263 589.507 L59.6263 563.141 L51.3162 564.808 L51.3162 560.549 L59.58 558.882 L64.2559 558.882 L64.2559 589.507 L71.8948 589.507 L71.8948 593.442 L51.9875 593.442 L51.9875 589.507 Z\" fill=\"#000000\" fill-rule=\"evenodd\" fill-opacity=\"1\" /><path clip-path=\"url(#clip880)\" d=\"M 0 0 M76.9642 587.563 L81.8484 587.563 L81.8484 593.442 L76.9642 593.442 L76.9642 587.563 Z\" fill=\"#000000\" fill-rule=\"evenodd\" fill-opacity=\"1\" /><path clip-path=\"url(#clip880)\" d=\"M 0 0 M96.9178 561.961 Q93.3067 561.961 91.478 565.526 Q89.6725 569.067 89.6725 576.197 Q89.6725 583.303 91.478 586.868 Q93.3067 590.41 96.9178 590.41 Q100.552 590.41 102.358 586.868 Q104.186 583.303 104.186 576.197 Q104.186 569.067 102.358 565.526 Q100.552 561.961 96.9178 561.961 M96.9178 558.257 Q102.728 558.257 105.783 562.864 Q108.862 567.447 108.862 576.197 Q108.862 584.924 105.783 589.53 Q102.728 594.113 96.9178 594.113 Q91.1077 594.113 88.029 589.53 Q84.9734 584.924 84.9734 576.197 Q84.9734 567.447 88.029 562.864 Q91.1077 558.257 96.9178 558.257 Z\" fill=\"#000000\" fill-rule=\"evenodd\" fill-opacity=\"1\" /><path clip-path=\"url(#clip880)\" d=\"M 0 0 M124.51 574.299 Q121.362 574.299 119.51 576.451 Q117.682 578.604 117.682 582.354 Q117.682 586.081 119.51 588.257 Q121.362 590.41 124.51 590.41 Q127.658 590.41 129.487 588.257 Q131.339 586.081 131.339 582.354 Q131.339 578.604 129.487 576.451 Q127.658 574.299 124.51 574.299 M133.793 559.646 L133.793 563.905 Q132.033 563.072 130.228 562.632 Q128.445 562.192 126.686 562.192 Q122.057 562.192 119.603 565.317 Q117.172 568.442 116.825 574.762 Q118.191 572.748 120.251 571.683 Q122.311 570.595 124.788 570.595 Q129.996 570.595 133.006 573.766 Q136.038 576.914 136.038 582.354 Q136.038 587.678 132.89 590.896 Q129.742 594.113 124.51 594.113 Q118.515 594.113 115.344 589.53 Q112.172 584.924 112.172 576.197 Q112.172 568.002 116.061 563.141 Q119.95 558.257 126.501 558.257 Q128.26 558.257 130.043 558.604 Q131.848 558.952 133.793 559.646 Z\" fill=\"#000000\" fill-rule=\"evenodd\" fill-opacity=\"1\" /><path clip-path=\"url(#clip880)\" d=\"M 0 0 M52.2421 299.656 L59.881 299.656 L59.881 273.29 L51.5708 274.957 L51.5708 270.698 L59.8347 269.031 L64.5106 269.031 L64.5106 299.656 L72.1494 299.656 L72.1494 303.591 L52.2421 303.591 L52.2421 299.656 Z\" fill=\"#000000\" fill-rule=\"evenodd\" fill-opacity=\"1\" /><path clip-path=\"url(#clip880)\" d=\"M 0 0 M77.2188 297.711 L82.1031 297.711 L82.1031 303.591 L77.2188 303.591 L77.2188 297.711 Z\" fill=\"#000000\" fill-rule=\"evenodd\" fill-opacity=\"1\" /><path clip-path=\"url(#clip880)\" d=\"M 0 0 M97.1724 272.11 Q93.5613 272.11 91.7326 275.674 Q89.9271 279.216 89.9271 286.346 Q89.9271 293.452 91.7326 297.017 Q93.5613 300.559 97.1724 300.559 Q100.807 300.559 102.612 297.017 Q104.441 293.452 104.441 286.346 Q104.441 279.216 102.612 275.674 Q100.807 272.11 97.1724 272.11 M97.1724 268.406 Q102.983 268.406 106.038 273.012 Q109.117 277.596 109.117 286.346 Q109.117 295.072 106.038 299.679 Q102.983 304.262 97.1724 304.262 Q91.3623 304.262 88.2836 299.679 Q85.2281 295.072 85.2281 286.346 Q85.2281 277.596 88.2836 273.012 Q91.3623 268.406 97.1724 268.406 Z\" fill=\"#000000\" fill-rule=\"evenodd\" fill-opacity=\"1\" /><path clip-path=\"url(#clip880)\" d=\"M 0 0 M124.186 287.179 Q120.853 287.179 118.932 288.961 Q117.033 290.744 117.033 293.869 Q117.033 296.994 118.932 298.776 Q120.853 300.559 124.186 300.559 Q127.519 300.559 129.441 298.776 Q131.362 296.971 131.362 293.869 Q131.362 290.744 129.441 288.961 Q127.543 287.179 124.186 287.179 M119.51 285.188 Q116.501 284.447 114.811 282.387 Q113.145 280.327 113.145 277.364 Q113.145 273.221 116.084 270.813 Q119.047 268.406 124.186 268.406 Q129.348 268.406 132.288 270.813 Q135.228 273.221 135.228 277.364 Q135.228 280.327 133.538 282.387 Q131.871 284.447 128.885 285.188 Q132.265 285.975 134.14 288.267 Q136.038 290.559 136.038 293.869 Q136.038 298.892 132.959 301.577 Q129.904 304.262 124.186 304.262 Q118.469 304.262 115.39 301.577 Q112.334 298.892 112.334 293.869 Q112.334 290.559 114.233 288.267 Q116.131 285.975 119.51 285.188 M117.797 277.804 Q117.797 280.489 119.464 281.994 Q121.154 283.498 124.186 283.498 Q127.195 283.498 128.885 281.994 Q130.598 280.489 130.598 277.804 Q130.598 275.119 128.885 273.614 Q127.195 272.11 124.186 272.11 Q121.154 272.11 119.464 273.614 Q117.797 275.119 117.797 277.804 Z\" fill=\"#000000\" fill-rule=\"evenodd\" fill-opacity=\"1\" /><polyline clip-path=\"url(#clip882)\" style=\"stroke:#009af9; stroke-width:4; stroke-opacity:1; fill:none\" points=\"\n",
       "  233.756,1445.72 462.343,1300.79 690.93,1154.42 919.517,1006.58 1148.1,857.26 1376.69,706.449 1605.28,554.131 1833.86,400.29 2062.45,244.91 2291.04,87.9763 \n",
       "  \n",
       "  \"/>\n",
       "<path clip-path=\"url(#clip882)\" d=\"M233.756 1461.72 L222.444 1457.03 L217.756 1445.72 L222.444 1434.4 L233.756 1429.72 L245.068 1434.4 L249.756 1445.72 L245.068 1457.03 Z\" fill=\"#009af9\" fill-rule=\"evenodd\" fill-opacity=\"1\" stroke=\"#000000\" stroke-opacity=\"1\" stroke-width=\"3.2\"/>\n",
       "<path clip-path=\"url(#clip882)\" d=\"M462.343 1316.79 L451.031 1312.1 L446.343 1300.79 L451.031 1289.48 L462.343 1284.79 L473.655 1289.48 L478.343 1300.79 L473.655 1312.1 Z\" fill=\"#009af9\" fill-rule=\"evenodd\" fill-opacity=\"1\" stroke=\"#000000\" stroke-opacity=\"1\" stroke-width=\"3.2\"/>\n",
       "<path clip-path=\"url(#clip882)\" d=\"M690.93 1170.42 L679.618 1165.73 L674.93 1154.42 L679.618 1143.1 L690.93 1138.42 L702.242 1143.1 L706.93 1154.42 L702.242 1165.73 Z\" fill=\"#009af9\" fill-rule=\"evenodd\" fill-opacity=\"1\" stroke=\"#000000\" stroke-opacity=\"1\" stroke-width=\"3.2\"/>\n",
       "<path clip-path=\"url(#clip882)\" d=\"M919.517 1022.58 L908.205 1017.89 L903.517 1006.58 L908.205 995.265 L919.517 990.577 L930.829 995.265 L935.517 1006.58 L930.829 1017.89 Z\" fill=\"#009af9\" fill-rule=\"evenodd\" fill-opacity=\"1\" stroke=\"#000000\" stroke-opacity=\"1\" stroke-width=\"3.2\"/>\n",
       "<path clip-path=\"url(#clip882)\" d=\"M1148.1 873.26 L1136.79 868.572 L1132.1 857.26 L1136.79 845.948 L1148.1 841.26 L1159.42 845.948 L1164.1 857.26 L1159.42 868.572 Z\" fill=\"#009af9\" fill-rule=\"evenodd\" fill-opacity=\"1\" stroke=\"#000000\" stroke-opacity=\"1\" stroke-width=\"3.2\"/>\n",
       "<path clip-path=\"url(#clip882)\" d=\"M1376.69 722.449 L1365.38 717.761 L1360.69 706.449 L1365.38 695.137 L1376.69 690.449 L1388 695.137 L1392.69 706.449 L1388 717.761 Z\" fill=\"#009af9\" fill-rule=\"evenodd\" fill-opacity=\"1\" stroke=\"#000000\" stroke-opacity=\"1\" stroke-width=\"3.2\"/>\n",
       "<path clip-path=\"url(#clip882)\" d=\"M1605.28 570.131 L1593.97 565.443 L1589.28 554.131 L1593.97 542.819 L1605.28 538.131 L1616.59 542.819 L1621.28 554.131 L1616.59 565.443 Z\" fill=\"#009af9\" fill-rule=\"evenodd\" fill-opacity=\"1\" stroke=\"#000000\" stroke-opacity=\"1\" stroke-width=\"3.2\"/>\n",
       "<path clip-path=\"url(#clip882)\" d=\"M1833.86 416.29 L1822.55 411.602 L1817.86 400.29 L1822.55 388.978 L1833.86 384.29 L1845.18 388.978 L1849.86 400.29 L1845.18 411.602 Z\" fill=\"#009af9\" fill-rule=\"evenodd\" fill-opacity=\"1\" stroke=\"#000000\" stroke-opacity=\"1\" stroke-width=\"3.2\"/>\n",
       "<path clip-path=\"url(#clip882)\" d=\"M2062.45 260.91 L2051.14 256.222 L2046.45 244.91 L2051.14 233.598 L2062.45 228.91 L2073.76 233.598 L2078.45 244.91 L2073.76 256.222 Z\" fill=\"#009af9\" fill-rule=\"evenodd\" fill-opacity=\"1\" stroke=\"#000000\" stroke-opacity=\"1\" stroke-width=\"3.2\"/>\n",
       "<path clip-path=\"url(#clip882)\" d=\"M2291.04 103.976 L2279.73 99.2883 L2275.04 87.9763 L2279.73 76.6643 L2291.04 71.9763 L2302.35 76.6643 L2307.04 87.9763 L2302.35 99.2883 Z\" fill=\"#009af9\" fill-rule=\"evenodd\" fill-opacity=\"1\" stroke=\"#000000\" stroke-opacity=\"1\" stroke-width=\"3.2\"/>\n",
       "<path clip-path=\"url(#clip880)\" d=\"\n",
       "M244.729 216.178 L546.035 216.178 L546.035 95.2176 L244.729 95.2176  Z\n",
       "  \" fill=\"#ffffff\" fill-rule=\"evenodd\" fill-opacity=\"1\"/>\n",
       "<polyline clip-path=\"url(#clip880)\" style=\"stroke:#000000; stroke-width:4; stroke-opacity:1; fill:none\" points=\"\n",
       "  244.729,216.178 546.035,216.178 546.035,95.2176 244.729,95.2176 244.729,216.178 \n",
       "  \"/>\n",
       "<polyline clip-path=\"url(#clip880)\" style=\"stroke:#009af9; stroke-width:4; stroke-opacity:1; fill:none\" points=\"\n",
       "  268.959,155.698 414.34,155.698 \n",
       "  \"/>\n",
       "<path clip-path=\"url(#clip880)\" d=\"M341.649 181.298 L323.55 173.797 L316.049 155.698 L323.55 137.598 L341.649 130.098 L359.749 137.598 L367.249 155.698 L359.749 173.797 Z\" fill=\"#009af9\" fill-rule=\"evenodd\" fill-opacity=\"1\" stroke=\"#000000\" stroke-opacity=\"1\" stroke-width=\"5.12\"/>\n",
       "<path clip-path=\"url(#clip880)\" d=\"M 0 0 M438.57 138.418 L443.246 138.418 L443.246 172.978 L438.57 172.978 L438.57 138.418 Z\" fill=\"#000000\" fill-rule=\"evenodd\" fill-opacity=\"1\" /><path clip-path=\"url(#clip880)\" d=\"M 0 0 M447.32 136.959 L457.135 136.959 L457.135 140.269 L451.579 140.269 L451.579 175.917 L457.135 175.917 L457.135 179.228 L447.32 179.228 L447.32 136.959 Z\" fill=\"#000000\" fill-rule=\"evenodd\" fill-opacity=\"1\" /><path clip-path=\"url(#clip880)\" d=\"M 0 0 M483.153 157.329 L483.153 172.978 L478.894 172.978 L478.894 157.468 Q478.894 153.788 477.459 151.959 Q476.024 150.13 473.153 150.13 Q469.704 150.13 467.714 152.33 Q465.723 154.529 465.723 158.325 L465.723 172.978 L461.44 172.978 L461.44 147.052 L465.723 147.052 L465.723 151.08 Q467.251 148.742 469.311 147.584 Q471.394 146.427 474.102 146.427 Q478.57 146.427 480.862 149.205 Q483.153 151.959 483.153 157.329 Z\" fill=\"#000000\" fill-rule=\"evenodd\" fill-opacity=\"1\" /><path clip-path=\"url(#clip880)\" d=\"M 0 0 M497.574 136.959 L497.574 179.228 L487.76 179.228 L487.76 175.917 L493.292 175.917 L493.292 140.269 L487.76 140.269 L487.76 136.959 L497.574 136.959 Z\" fill=\"#000000\" fill-rule=\"evenodd\" fill-opacity=\"1\" /></svg>\n"
      ]
     },
     "execution_count": 26,
     "metadata": {},
     "output_type": "execute_result"
    }
   ],
   "source": [
    "plot(I, m=:o, label=\"I[n]\", legend=:topleft)"
   ]
  },
  {
   "cell_type": "code",
   "execution_count": 29,
   "metadata": {},
   "outputs": [
    {
     "data": {
      "image/svg+xml": [
       "<?xml version=\"1.0\" encoding=\"utf-8\"?>\n",
       "<svg xmlns=\"http://www.w3.org/2000/svg\" xmlns:xlink=\"http://www.w3.org/1999/xlink\" width=\"600\" height=\"400\" viewBox=\"0 0 2400 1600\">\n",
       "<defs>\n",
       "  <clipPath id=\"clip920\">\n",
       "    <rect x=\"0\" y=\"0\" width=\"2400\" height=\"1600\"/>\n",
       "  </clipPath>\n",
       "</defs>\n",
       "<path clip-path=\"url(#clip920)\" d=\"\n",
       "M0 1600 L2400 1600 L2400 0 L0 0  Z\n",
       "  \" fill=\"#ffffff\" fill-rule=\"evenodd\" fill-opacity=\"1\"/>\n",
       "<defs>\n",
       "  <clipPath id=\"clip921\">\n",
       "    <rect x=\"480\" y=\"0\" width=\"1681\" height=\"1600\"/>\n",
       "  </clipPath>\n",
       "</defs>\n",
       "<path clip-path=\"url(#clip920)\" d=\"\n",
       "M171.552 1486.45 L2352.76 1486.45 L2352.76 47.2441 L171.552 47.2441  Z\n",
       "  \" fill=\"#ffffff\" fill-rule=\"evenodd\" fill-opacity=\"1\"/>\n",
       "<defs>\n",
       "  <clipPath id=\"clip922\">\n",
       "    <rect x=\"171\" y=\"47\" width=\"2182\" height=\"1440\"/>\n",
       "  </clipPath>\n",
       "</defs>\n",
       "<polyline clip-path=\"url(#clip922)\" style=\"stroke:#000000; stroke-width:2; stroke-opacity:0.1; fill:none\" points=\"\n",
       "  666.492,1486.45 666.492,47.2441 \n",
       "  \"/>\n",
       "<polyline clip-path=\"url(#clip922)\" style=\"stroke:#000000; stroke-width:2; stroke-opacity:0.1; fill:none\" points=\"\n",
       "  1208,1486.45 1208,47.2441 \n",
       "  \"/>\n",
       "<polyline clip-path=\"url(#clip922)\" style=\"stroke:#000000; stroke-width:2; stroke-opacity:0.1; fill:none\" points=\"\n",
       "  1749.51,1486.45 1749.51,47.2441 \n",
       "  \"/>\n",
       "<polyline clip-path=\"url(#clip922)\" style=\"stroke:#000000; stroke-width:2; stroke-opacity:0.1; fill:none\" points=\"\n",
       "  2291.02,1486.45 2291.02,47.2441 \n",
       "  \"/>\n",
       "<polyline clip-path=\"url(#clip920)\" style=\"stroke:#000000; stroke-width:4; stroke-opacity:1; fill:none\" points=\"\n",
       "  171.552,1486.45 2352.76,1486.45 \n",
       "  \"/>\n",
       "<polyline clip-path=\"url(#clip920)\" style=\"stroke:#000000; stroke-width:4; stroke-opacity:1; fill:none\" points=\"\n",
       "  666.492,1486.45 666.492,1469.18 \n",
       "  \"/>\n",
       "<polyline clip-path=\"url(#clip920)\" style=\"stroke:#000000; stroke-width:4; stroke-opacity:1; fill:none\" points=\"\n",
       "  1208,1486.45 1208,1469.18 \n",
       "  \"/>\n",
       "<polyline clip-path=\"url(#clip920)\" style=\"stroke:#000000; stroke-width:4; stroke-opacity:1; fill:none\" points=\"\n",
       "  1749.51,1486.45 1749.51,1469.18 \n",
       "  \"/>\n",
       "<polyline clip-path=\"url(#clip920)\" style=\"stroke:#000000; stroke-width:4; stroke-opacity:1; fill:none\" points=\"\n",
       "  2291.02,1486.45 2291.02,1469.18 \n",
       "  \"/>\n",
       "<path clip-path=\"url(#clip920)\" d=\"M 0 0 M656.77 1512.56 L675.127 1512.56 L675.127 1516.5 L661.053 1516.5 L661.053 1524.97 Q662.071 1524.62 663.09 1524.46 Q664.108 1524.27 665.127 1524.27 Q670.914 1524.27 674.293 1527.44 Q677.673 1530.62 677.673 1536.03 Q677.673 1541.61 674.201 1544.71 Q670.728 1547.79 664.409 1547.79 Q662.233 1547.79 659.965 1547.42 Q657.719 1547.05 655.312 1546.31 L655.312 1541.61 Q657.395 1542.74 659.617 1543.3 Q661.84 1543.86 664.316 1543.86 Q668.321 1543.86 670.659 1541.75 Q672.997 1539.64 672.997 1536.03 Q672.997 1532.42 670.659 1530.31 Q668.321 1528.21 664.316 1528.21 Q662.441 1528.21 660.567 1528.62 Q658.715 1529.04 656.77 1529.92 L656.77 1512.56 Z\" fill=\"#000000\" fill-rule=\"evenodd\" fill-opacity=\"1\" /><path clip-path=\"url(#clip920)\" d=\"M 0 0 M1184.88 1543.18 L1192.52 1543.18 L1192.52 1516.82 L1184.21 1518.49 L1184.21 1514.23 L1192.47 1512.56 L1197.15 1512.56 L1197.15 1543.18 L1204.79 1543.18 L1204.79 1547.12 L1184.88 1547.12 L1184.88 1543.18 Z\" fill=\"#000000\" fill-rule=\"evenodd\" fill-opacity=\"1\" /><path clip-path=\"url(#clip920)\" d=\"M 0 0 M1219.85 1515.64 Q1216.24 1515.64 1214.41 1519.2 Q1212.61 1522.75 1212.61 1529.87 Q1212.61 1536.98 1214.41 1540.55 Q1216.24 1544.09 1219.85 1544.09 Q1223.49 1544.09 1225.29 1540.55 Q1227.12 1536.98 1227.12 1529.87 Q1227.12 1522.75 1225.29 1519.2 Q1223.49 1515.64 1219.85 1515.64 M1219.85 1511.93 Q1225.66 1511.93 1228.72 1516.54 Q1231.8 1521.12 1231.8 1529.87 Q1231.8 1538.6 1228.72 1543.21 Q1225.66 1547.79 1219.85 1547.79 Q1214.04 1547.79 1210.97 1543.21 Q1207.91 1538.6 1207.91 1529.87 Q1207.91 1521.12 1210.97 1516.54 Q1214.04 1511.93 1219.85 1511.93 Z\" fill=\"#000000\" fill-rule=\"evenodd\" fill-opacity=\"1\" /><path clip-path=\"url(#clip920)\" d=\"M 0 0 M1726.89 1543.18 L1734.52 1543.18 L1734.52 1516.82 L1726.21 1518.49 L1726.21 1514.23 L1734.48 1512.56 L1739.15 1512.56 L1739.15 1543.18 L1746.79 1543.18 L1746.79 1547.12 L1726.89 1547.12 L1726.89 1543.18 Z\" fill=\"#000000\" fill-rule=\"evenodd\" fill-opacity=\"1\" /><path clip-path=\"url(#clip920)\" d=\"M 0 0 M1751.91 1512.56 L1770.27 1512.56 L1770.27 1516.5 L1756.19 1516.5 L1756.19 1524.97 Q1757.21 1524.62 1758.23 1524.46 Q1759.25 1524.27 1760.27 1524.27 Q1766.05 1524.27 1769.43 1527.44 Q1772.81 1530.62 1772.81 1536.03 Q1772.81 1541.61 1769.34 1544.71 Q1765.87 1547.79 1759.55 1547.79 Q1757.37 1547.79 1755.1 1547.42 Q1752.86 1547.05 1750.45 1546.31 L1750.45 1541.61 Q1752.53 1542.74 1754.76 1543.3 Q1756.98 1543.86 1759.46 1543.86 Q1763.46 1543.86 1765.8 1541.75 Q1768.14 1539.64 1768.14 1536.03 Q1768.14 1532.42 1765.8 1530.31 Q1763.46 1528.21 1759.46 1528.21 Q1757.58 1528.21 1755.71 1528.62 Q1753.85 1529.04 1751.91 1529.92 L1751.91 1512.56 Z\" fill=\"#000000\" fill-rule=\"evenodd\" fill-opacity=\"1\" /><path clip-path=\"url(#clip920)\" d=\"M 0 0 M2272.17 1543.18 L2288.49 1543.18 L2288.49 1547.12 L2266.54 1547.12 L2266.54 1543.18 Q2269.21 1540.43 2273.79 1535.8 Q2278.4 1531.15 2279.58 1529.81 Q2281.82 1527.28 2282.7 1525.55 Q2283.6 1523.79 2283.6 1522.1 Q2283.6 1519.34 2281.66 1517.61 Q2279.74 1515.87 2276.64 1515.87 Q2274.44 1515.87 2271.98 1516.63 Q2269.55 1517.4 2266.78 1518.95 L2266.78 1514.23 Q2269.6 1513.09 2272.05 1512.51 Q2274.51 1511.93 2276.54 1511.93 Q2281.91 1511.93 2285.11 1514.62 Q2288.3 1517.31 2288.3 1521.8 Q2288.3 1523.93 2287.49 1525.85 Q2286.71 1527.74 2284.6 1530.34 Q2284.02 1531.01 2280.92 1534.23 Q2277.82 1537.42 2272.17 1543.18 Z\" fill=\"#000000\" fill-rule=\"evenodd\" fill-opacity=\"1\" /><path clip-path=\"url(#clip920)\" d=\"M 0 0 M2303.56 1515.64 Q2299.95 1515.64 2298.12 1519.2 Q2296.31 1522.75 2296.31 1529.87 Q2296.31 1536.98 2298.12 1540.55 Q2299.95 1544.09 2303.56 1544.09 Q2307.19 1544.09 2309 1540.55 Q2310.83 1536.98 2310.83 1529.87 Q2310.83 1522.75 2309 1519.2 Q2307.19 1515.64 2303.56 1515.64 M2303.56 1511.93 Q2309.37 1511.93 2312.42 1516.54 Q2315.5 1521.12 2315.5 1529.87 Q2315.5 1538.6 2312.42 1543.21 Q2309.37 1547.79 2303.56 1547.79 Q2297.75 1547.79 2294.67 1543.21 Q2291.61 1538.6 2291.61 1529.87 Q2291.61 1521.12 2294.67 1516.54 Q2297.75 1511.93 2303.56 1511.93 Z\" fill=\"#000000\" fill-rule=\"evenodd\" fill-opacity=\"1\" /><polyline clip-path=\"url(#clip922)\" style=\"stroke:#000000; stroke-width:2; stroke-opacity:0.1; fill:none\" points=\"\n",
       "  171.552,1445.72 2352.76,1445.72 \n",
       "  \"/>\n",
       "<polyline clip-path=\"url(#clip922)\" style=\"stroke:#000000; stroke-width:2; stroke-opacity:0.1; fill:none\" points=\"\n",
       "  171.552,1119.51 2352.76,1119.51 \n",
       "  \"/>\n",
       "<polyline clip-path=\"url(#clip922)\" style=\"stroke:#000000; stroke-width:2; stroke-opacity:0.1; fill:none\" points=\"\n",
       "  171.552,793.298 2352.76,793.298 \n",
       "  \"/>\n",
       "<polyline clip-path=\"url(#clip922)\" style=\"stroke:#000000; stroke-width:2; stroke-opacity:0.1; fill:none\" points=\"\n",
       "  171.552,467.089 2352.76,467.089 \n",
       "  \"/>\n",
       "<polyline clip-path=\"url(#clip922)\" style=\"stroke:#000000; stroke-width:2; stroke-opacity:0.1; fill:none\" points=\"\n",
       "  171.552,140.88 2352.76,140.88 \n",
       "  \"/>\n",
       "<polyline clip-path=\"url(#clip920)\" style=\"stroke:#000000; stroke-width:4; stroke-opacity:1; fill:none\" points=\"\n",
       "  171.552,1486.45 171.552,47.2441 \n",
       "  \"/>\n",
       "<polyline clip-path=\"url(#clip920)\" style=\"stroke:#000000; stroke-width:4; stroke-opacity:1; fill:none\" points=\"\n",
       "  171.552,1445.72 197.726,1445.72 \n",
       "  \"/>\n",
       "<polyline clip-path=\"url(#clip920)\" style=\"stroke:#000000; stroke-width:4; stroke-opacity:1; fill:none\" points=\"\n",
       "  171.552,1119.51 197.726,1119.51 \n",
       "  \"/>\n",
       "<polyline clip-path=\"url(#clip920)\" style=\"stroke:#000000; stroke-width:4; stroke-opacity:1; fill:none\" points=\"\n",
       "  171.552,793.298 197.726,793.298 \n",
       "  \"/>\n",
       "<polyline clip-path=\"url(#clip920)\" style=\"stroke:#000000; stroke-width:4; stroke-opacity:1; fill:none\" points=\"\n",
       "  171.552,467.089 197.726,467.089 \n",
       "  \"/>\n",
       "<polyline clip-path=\"url(#clip920)\" style=\"stroke:#000000; stroke-width:4; stroke-opacity:1; fill:none\" points=\"\n",
       "  171.552,140.88 197.726,140.88 \n",
       "  \"/>\n",
       "<path clip-path=\"url(#clip920)\" d=\"M 0 0 M51.6634 1459.06 L59.3023 1459.06 L59.3023 1432.69 L50.9921 1434.36 L50.9921 1430.1 L59.256 1428.44 L63.9319 1428.44 L63.9319 1459.06 L71.5707 1459.06 L71.5707 1463 L51.6634 1463 L51.6634 1459.06 Z\" fill=\"#000000\" fill-rule=\"evenodd\" fill-opacity=\"1\" /><path clip-path=\"url(#clip920)\" d=\"M 0 0 M76.6401 1457.12 L81.5244 1457.12 L81.5244 1463 L76.6401 1463 L76.6401 1457.12 Z\" fill=\"#000000\" fill-rule=\"evenodd\" fill-opacity=\"1\" /><path clip-path=\"url(#clip920)\" d=\"M 0 0 M96.5937 1431.51 Q92.9826 1431.51 91.1539 1435.08 Q89.3484 1438.62 89.3484 1445.75 Q89.3484 1452.86 91.1539 1456.42 Q92.9826 1459.96 96.5937 1459.96 Q100.228 1459.96 102.034 1456.42 Q103.862 1452.86 103.862 1445.75 Q103.862 1438.62 102.034 1435.08 Q100.228 1431.51 96.5937 1431.51 M96.5937 1427.81 Q102.404 1427.81 105.459 1432.42 Q108.538 1437 108.538 1445.75 Q108.538 1454.48 105.459 1459.08 Q102.404 1463.67 96.5937 1463.67 Q90.7836 1463.67 87.7049 1459.08 Q84.6494 1454.48 84.6494 1445.75 Q84.6494 1437 87.7049 1432.42 Q90.7836 1427.81 96.5937 1427.81 Z\" fill=\"#000000\" fill-rule=\"evenodd\" fill-opacity=\"1\" /><path clip-path=\"url(#clip920)\" d=\"M 0 0 M123.607 1431.51 Q119.996 1431.51 118.168 1435.08 Q116.362 1438.62 116.362 1445.75 Q116.362 1452.86 118.168 1456.42 Q119.996 1459.96 123.607 1459.96 Q127.242 1459.96 129.047 1456.42 Q130.876 1452.86 130.876 1445.75 Q130.876 1438.62 129.047 1435.08 Q127.242 1431.51 123.607 1431.51 M123.607 1427.81 Q129.418 1427.81 132.473 1432.42 Q135.552 1437 135.552 1445.75 Q135.552 1454.48 132.473 1459.08 Q129.418 1463.67 123.607 1463.67 Q117.797 1463.67 114.719 1459.08 Q111.663 1454.48 111.663 1445.75 Q111.663 1437 114.719 1432.42 Q117.797 1427.81 123.607 1427.81 Z\" fill=\"#000000\" fill-rule=\"evenodd\" fill-opacity=\"1\" /><path clip-path=\"url(#clip920)\" d=\"M 0 0 M52.6588 1132.85 L60.2976 1132.85 L60.2976 1106.49 L51.9875 1108.15 L51.9875 1103.89 L60.2513 1102.23 L64.9272 1102.23 L64.9272 1132.85 L72.5661 1132.85 L72.5661 1136.79 L52.6588 1136.79 L52.6588 1132.85 Z\" fill=\"#000000\" fill-rule=\"evenodd\" fill-opacity=\"1\" /><path clip-path=\"url(#clip920)\" d=\"M 0 0 M77.6355 1130.91 L82.5197 1130.91 L82.5197 1136.79 L77.6355 1136.79 L77.6355 1130.91 Z\" fill=\"#000000\" fill-rule=\"evenodd\" fill-opacity=\"1\" /><path clip-path=\"url(#clip920)\" d=\"M 0 0 M97.5891 1105.31 Q93.978 1105.31 92.1493 1108.87 Q90.3438 1112.41 90.3438 1119.54 Q90.3438 1126.65 92.1493 1130.21 Q93.978 1133.75 97.5891 1133.75 Q101.223 1133.75 103.029 1130.21 Q104.858 1126.65 104.858 1119.54 Q104.858 1112.41 103.029 1108.87 Q101.223 1105.31 97.5891 1105.31 M97.5891 1101.6 Q103.399 1101.6 106.455 1106.21 Q109.533 1110.79 109.533 1119.54 Q109.533 1128.27 106.455 1132.87 Q103.399 1137.46 97.5891 1137.46 Q91.7789 1137.46 88.7003 1132.87 Q85.6447 1128.27 85.6447 1119.54 Q85.6447 1110.79 88.7003 1106.21 Q91.7789 1101.6 97.5891 1101.6 Z\" fill=\"#000000\" fill-rule=\"evenodd\" fill-opacity=\"1\" /><path clip-path=\"url(#clip920)\" d=\"M 0 0 M114.649 1102.23 L133.006 1102.23 L133.006 1106.16 L118.932 1106.16 L118.932 1114.63 Q119.95 1114.29 120.969 1114.12 Q121.987 1113.94 123.006 1113.94 Q128.793 1113.94 132.172 1117.11 Q135.552 1120.28 135.552 1125.7 Q135.552 1131.28 132.08 1134.38 Q128.607 1137.46 122.288 1137.46 Q120.112 1137.46 117.844 1137.09 Q115.598 1136.72 113.191 1135.98 L113.191 1131.28 Q115.274 1132.41 117.496 1132.97 Q119.719 1133.52 122.195 1133.52 Q126.2 1133.52 128.538 1131.42 Q130.876 1129.31 130.876 1125.7 Q130.876 1122.09 128.538 1119.98 Q126.2 1117.87 122.195 1117.87 Q120.32 1117.87 118.445 1118.29 Q116.594 1118.71 114.649 1119.59 L114.649 1102.23 Z\" fill=\"#000000\" fill-rule=\"evenodd\" fill-opacity=\"1\" /><path clip-path=\"url(#clip920)\" d=\"M 0 0 M52.8903 806.643 L60.5291 806.643 L60.5291 780.277 L52.219 781.944 L52.219 777.685 L60.4828 776.018 L65.1587 776.018 L65.1587 806.643 L72.7976 806.643 L72.7976 810.578 L52.8903 810.578 L52.8903 806.643 Z\" fill=\"#000000\" fill-rule=\"evenodd\" fill-opacity=\"1\" /><path clip-path=\"url(#clip920)\" d=\"M 0 0 M77.867 804.698 L82.7512 804.698 L82.7512 810.578 L77.867 810.578 L77.867 804.698 Z\" fill=\"#000000\" fill-rule=\"evenodd\" fill-opacity=\"1\" /><path clip-path=\"url(#clip920)\" d=\"M 0 0 M88.6308 806.643 L96.2697 806.643 L96.2697 780.277 L87.9595 781.944 L87.9595 777.685 L96.2234 776.018 L100.899 776.018 L100.899 806.643 L108.538 806.643 L108.538 810.578 L88.6308 810.578 L88.6308 806.643 Z\" fill=\"#000000\" fill-rule=\"evenodd\" fill-opacity=\"1\" /><path clip-path=\"url(#clip920)\" d=\"M 0 0 M123.607 779.097 Q119.996 779.097 118.168 782.662 Q116.362 786.203 116.362 793.333 Q116.362 800.439 118.168 804.004 Q119.996 807.546 123.607 807.546 Q127.242 807.546 129.047 804.004 Q130.876 800.439 130.876 793.333 Q130.876 786.203 129.047 782.662 Q127.242 779.097 123.607 779.097 M123.607 775.393 Q129.418 775.393 132.473 780 Q135.552 784.583 135.552 793.333 Q135.552 802.06 132.473 806.666 Q129.418 811.249 123.607 811.249 Q117.797 811.249 114.719 806.666 Q111.663 802.06 111.663 793.333 Q111.663 784.583 114.719 780 Q117.797 775.393 123.607 775.393 Z\" fill=\"#000000\" fill-rule=\"evenodd\" fill-opacity=\"1\" /><path clip-path=\"url(#clip920)\" d=\"M 0 0 M53.8856 480.434 L61.5245 480.434 L61.5245 454.069 L53.2143 455.735 L53.2143 451.476 L61.4782 449.809 L66.1541 449.809 L66.1541 480.434 L73.7929 480.434 L73.7929 484.369 L53.8856 484.369 L53.8856 480.434 Z\" fill=\"#000000\" fill-rule=\"evenodd\" fill-opacity=\"1\" /><path clip-path=\"url(#clip920)\" d=\"M 0 0 M78.8623 478.49 L83.7466 478.49 L83.7466 484.369 L78.8623 484.369 L78.8623 478.49 Z\" fill=\"#000000\" fill-rule=\"evenodd\" fill-opacity=\"1\" /><path clip-path=\"url(#clip920)\" d=\"M 0 0 M89.6262 480.434 L97.265 480.434 L97.265 454.069 L88.9549 455.735 L88.9549 451.476 L97.2187 449.809 L101.895 449.809 L101.895 480.434 L109.533 480.434 L109.533 484.369 L89.6262 484.369 L89.6262 480.434 Z\" fill=\"#000000\" fill-rule=\"evenodd\" fill-opacity=\"1\" /><path clip-path=\"url(#clip920)\" d=\"M 0 0 M114.649 449.809 L133.006 449.809 L133.006 453.744 L118.932 453.744 L118.932 462.217 Q119.95 461.869 120.969 461.707 Q121.987 461.522 123.006 461.522 Q128.793 461.522 132.172 464.693 Q135.552 467.865 135.552 473.281 Q135.552 478.86 132.08 481.962 Q128.607 485.041 122.288 485.041 Q120.112 485.041 117.844 484.67 Q115.598 484.3 113.191 483.559 L113.191 478.86 Q115.274 479.994 117.496 480.55 Q119.719 481.105 122.195 481.105 Q126.2 481.105 128.538 478.999 Q130.876 476.892 130.876 473.281 Q130.876 469.67 128.538 467.564 Q126.2 465.457 122.195 465.457 Q120.32 465.457 118.445 465.874 Q116.594 466.291 114.649 467.17 L114.649 449.809 Z\" fill=\"#000000\" fill-rule=\"evenodd\" fill-opacity=\"1\" /><path clip-path=\"url(#clip920)\" d=\"M 0 0 M53.2606 154.225 L60.8995 154.225 L60.8995 127.86 L52.5893 129.526 L52.5893 125.267 L60.8532 123.6 L65.5291 123.6 L65.5291 154.225 L73.1679 154.225 L73.1679 158.16 L53.2606 158.16 L53.2606 154.225 Z\" fill=\"#000000\" fill-rule=\"evenodd\" fill-opacity=\"1\" /><path clip-path=\"url(#clip920)\" d=\"M 0 0 M78.2374 152.281 L83.1216 152.281 L83.1216 158.16 L78.2374 158.16 L78.2374 152.281 Z\" fill=\"#000000\" fill-rule=\"evenodd\" fill-opacity=\"1\" /><path clip-path=\"url(#clip920)\" d=\"M 0 0 M92.2188 154.225 L108.538 154.225 L108.538 158.16 L86.5938 158.16 L86.5938 154.225 Q89.2558 151.471 93.8391 146.841 Q98.4456 142.188 99.6261 140.846 Q101.871 138.323 102.751 136.587 Q103.654 134.827 103.654 133.137 Q103.654 130.383 101.709 128.647 Q99.7882 126.911 96.6863 126.911 Q94.4873 126.911 92.0336 127.675 Q89.603 128.438 86.8253 129.989 L86.8253 125.267 Q89.6493 124.133 92.103 123.554 Q94.5567 122.975 96.5937 122.975 Q101.964 122.975 105.159 125.661 Q108.353 128.346 108.353 132.837 Q108.353 134.966 107.543 136.887 Q106.756 138.786 104.649 141.378 Q104.071 142.049 100.969 145.267 Q97.8669 148.461 92.2188 154.225 Z\" fill=\"#000000\" fill-rule=\"evenodd\" fill-opacity=\"1\" /><path clip-path=\"url(#clip920)\" d=\"M 0 0 M123.607 126.679 Q119.996 126.679 118.168 130.244 Q116.362 133.786 116.362 140.915 Q116.362 148.022 118.168 151.586 Q119.996 155.128 123.607 155.128 Q127.242 155.128 129.047 151.586 Q130.876 148.022 130.876 140.915 Q130.876 133.786 129.047 130.244 Q127.242 126.679 123.607 126.679 M123.607 122.975 Q129.418 122.975 132.473 127.582 Q135.552 132.165 135.552 140.915 Q135.552 149.642 132.473 154.248 Q129.418 158.832 123.607 158.832 Q117.797 158.832 114.719 154.248 Q111.663 149.642 111.663 140.915 Q111.663 132.165 114.719 127.582 Q117.797 122.975 123.607 122.975 Z\" fill=\"#000000\" fill-rule=\"evenodd\" fill-opacity=\"1\" /><polyline clip-path=\"url(#clip922)\" style=\"stroke:#009af9; stroke-width:4; stroke-opacity:1; fill:none\" points=\"\n",
       "  233.284,1445.72 341.586,1380.47 449.888,1314.58 558.19,1248.03 666.492,1180.81 774.794,1112.92 883.097,1044.35 991.399,975.092 1099.7,905.144 1208,834.496 \n",
       "  1316.3,763.143 1424.61,691.075 1532.91,618.287 1641.21,544.771 1749.51,470.52 1857.82,395.526 1966.12,319.782 2074.42,243.281 2182.72,166.015 2291.02,87.9763 \n",
       "  \n",
       "  \"/>\n",
       "<path clip-path=\"url(#clip920)\" d=\"\n",
       "M1986.67 216.178 L2280.05 216.178 L2280.05 95.2176 L1986.67 95.2176  Z\n",
       "  \" fill=\"#ffffff\" fill-rule=\"evenodd\" fill-opacity=\"1\"/>\n",
       "<polyline clip-path=\"url(#clip920)\" style=\"stroke:#000000; stroke-width:4; stroke-opacity:1; fill:none\" points=\"\n",
       "  1986.67,216.178 2280.05,216.178 2280.05,95.2176 1986.67,95.2176 1986.67,216.178 \n",
       "  \"/>\n",
       "<polyline clip-path=\"url(#clip920)\" style=\"stroke:#009af9; stroke-width:4; stroke-opacity:1; fill:none\" points=\"\n",
       "  2010.91,155.698 2156.32,155.698 \n",
       "  \"/>\n",
       "<path clip-path=\"url(#clip920)\" d=\"M 0 0 M2194.4 175.385 Q2192.6 180.015 2190.88 181.427 Q2189.17 182.839 2186.3 182.839 L2182.9 182.839 L2182.9 179.274 L2185.4 179.274 Q2187.16 179.274 2188.13 178.44 Q2189.1 177.607 2190.28 174.505 L2191.05 172.561 L2180.56 147.052 L2185.07 147.052 L2193.18 167.329 L2201.28 147.052 L2205.79 147.052 L2194.4 175.385 Z\" fill=\"#000000\" fill-rule=\"evenodd\" fill-opacity=\"1\" /><path clip-path=\"url(#clip920)\" d=\"M 0 0 M2211.67 169.042 L2219.31 169.042 L2219.31 142.677 L2211 144.343 L2211 140.084 L2219.26 138.418 L2223.94 138.418 L2223.94 169.042 L2231.58 169.042 L2231.58 172.978 L2211.67 172.978 L2211.67 169.042 Z\" fill=\"#000000\" fill-rule=\"evenodd\" fill-opacity=\"1\" /></svg>\n"
      ]
     },
     "execution_count": 29,
     "metadata": {},
     "output_type": "execute_result"
    }
   ],
   "source": [
    "T = 20\n",
    "\n",
    "I = zeros(T)\n",
    "I[1] = I₀\n",
    "\n",
    "for n in 1:T-1\n",
    "    I[n+1] = λ * I[n]\n",
    "#     @show n, I[n]\n",
    "end\n",
    "\n",
    "plot(I)"
   ]
  },
  {
   "cell_type": "markdown",
   "metadata": {},
   "source": [
    "## Functions"
   ]
  },
  {
   "cell_type": "code",
   "execution_count": 35,
   "metadata": {},
   "outputs": [
    {
     "data": {
      "text/plain": [
       "run_infection (generic function with 2 methods)"
      ]
     },
     "execution_count": 35,
     "metadata": {},
     "output_type": "execute_result"
    }
   ],
   "source": [
    "function run_infection(T=20)    \n",
    "    I = zeros(T)\n",
    "    I[1] = I₀\n",
    "    \n",
    "    for n in 1:T-1\n",
    "        I[n+1] = λ * I[n]\n",
    "    end\n",
    "    \n",
    "    return(I)\n",
    "end"
   ]
  },
  {
   "cell_type": "code",
   "execution_count": 36,
   "metadata": {},
   "outputs": [
    {
     "data": {
      "text/plain": [
       "20-element Vector{Float64}:\n",
       " 1.0\n",
       " 1.01\n",
       " 1.0201\n",
       " 1.030301\n",
       " 1.04060401\n",
       " 1.0510100501\n",
       " 1.061520150601\n",
       " 1.0721353521070098\n",
       " 1.08285670562808\n",
       " 1.0936852726843609\n",
       " 1.1046221254112045\n",
       " 1.1156683466653166\n",
       " 1.1268250301319698\n",
       " 1.1380932804332895\n",
       " 1.1494742132376223\n",
       " 1.1609689553699987\n",
       " 1.1725786449236986\n",
       " 1.1843044313729356\n",
       " 1.196147475686665\n",
       " 1.2081089504435316"
      ]
     },
     "execution_count": 36,
     "metadata": {},
     "output_type": "execute_result"
    }
   ],
   "source": [
    "run_infection()"
   ]
  },
  {
   "cell_type": "code",
   "execution_count": 34,
   "metadata": {},
   "outputs": [
    {
     "data": {
      "text/html": [
       "# 2 methods for generic function <b>run_infection</b>:<ul><li> run_infection() in Main at In[32]:1</li> <li> run_infection(T) in Main at In[32]:1</li> </ul>"
      ],
      "text/plain": [
       "# 2 methods for generic function \"run_infection\":\n",
       "[1] run_infection() in Main at In[32]:1\n",
       "[2] run_infection(T) in Main at In[32]:1"
      ]
     },
     "execution_count": 34,
     "metadata": {},
     "output_type": "execute_result"
    }
   ],
   "source": [
    "methods(run_infection)"
   ]
  },
  {
   "cell_type": "code",
   "execution_count": 37,
   "metadata": {},
   "outputs": [
    {
     "data": {
      "text/plain": [
       "10-element Vector{Float64}:\n",
       " 1.0\n",
       " 1.01\n",
       " 1.0201\n",
       " 1.030301\n",
       " 1.04060401\n",
       " 1.0510100501\n",
       " 1.061520150601\n",
       " 1.0721353521070098\n",
       " 1.08285670562808\n",
       " 1.0936852726843609"
      ]
     },
     "execution_count": 37,
     "metadata": {},
     "output_type": "execute_result"
    }
   ],
   "source": [
    "I_result = run_infection(10)"
   ]
  },
  {
   "cell_type": "code",
   "execution_count": 38,
   "metadata": {},
   "outputs": [
    {
     "data": {
      "image/svg+xml": [
       "<?xml version=\"1.0\" encoding=\"utf-8\"?>\n",
       "<svg xmlns=\"http://www.w3.org/2000/svg\" xmlns:xlink=\"http://www.w3.org/1999/xlink\" width=\"600\" height=\"400\" viewBox=\"0 0 2400 1600\">\n",
       "<defs>\n",
       "  <clipPath id=\"clip000\">\n",
       "    <rect x=\"0\" y=\"0\" width=\"2400\" height=\"1600\"/>\n",
       "  </clipPath>\n",
       "</defs>\n",
       "<path clip-path=\"url(#clip000)\" d=\"\n",
       "M0 1600 L2400 1600 L2400 0 L0 0  Z\n",
       "  \" fill=\"#ffffff\" fill-rule=\"evenodd\" fill-opacity=\"1\"/>\n",
       "<defs>\n",
       "  <clipPath id=\"clip001\">\n",
       "    <rect x=\"480\" y=\"0\" width=\"1681\" height=\"1600\"/>\n",
       "  </clipPath>\n",
       "</defs>\n",
       "<path clip-path=\"url(#clip000)\" d=\"\n",
       "M172.038 1486.45 L2352.76 1486.45 L2352.76 47.2441 L172.038 47.2441  Z\n",
       "  \" fill=\"#ffffff\" fill-rule=\"evenodd\" fill-opacity=\"1\"/>\n",
       "<defs>\n",
       "  <clipPath id=\"clip002\">\n",
       "    <rect x=\"172\" y=\"47\" width=\"2182\" height=\"1440\"/>\n",
       "  </clipPath>\n",
       "</defs>\n",
       "<polyline clip-path=\"url(#clip002)\" style=\"stroke:#000000; stroke-width:2; stroke-opacity:0.1; fill:none\" points=\"\n",
       "  462.343,1486.45 462.343,47.2441 \n",
       "  \"/>\n",
       "<polyline clip-path=\"url(#clip002)\" style=\"stroke:#000000; stroke-width:2; stroke-opacity:0.1; fill:none\" points=\"\n",
       "  919.517,1486.45 919.517,47.2441 \n",
       "  \"/>\n",
       "<polyline clip-path=\"url(#clip002)\" style=\"stroke:#000000; stroke-width:2; stroke-opacity:0.1; fill:none\" points=\"\n",
       "  1376.69,1486.45 1376.69,47.2441 \n",
       "  \"/>\n",
       "<polyline clip-path=\"url(#clip002)\" style=\"stroke:#000000; stroke-width:2; stroke-opacity:0.1; fill:none\" points=\"\n",
       "  1833.86,1486.45 1833.86,47.2441 \n",
       "  \"/>\n",
       "<polyline clip-path=\"url(#clip002)\" style=\"stroke:#000000; stroke-width:2; stroke-opacity:0.1; fill:none\" points=\"\n",
       "  2291.04,1486.45 2291.04,47.2441 \n",
       "  \"/>\n",
       "<polyline clip-path=\"url(#clip000)\" style=\"stroke:#000000; stroke-width:4; stroke-opacity:1; fill:none\" points=\"\n",
       "  172.038,1486.45 2352.76,1486.45 \n",
       "  \"/>\n",
       "<polyline clip-path=\"url(#clip000)\" style=\"stroke:#000000; stroke-width:4; stroke-opacity:1; fill:none\" points=\"\n",
       "  462.343,1486.45 462.343,1469.18 \n",
       "  \"/>\n",
       "<polyline clip-path=\"url(#clip000)\" style=\"stroke:#000000; stroke-width:4; stroke-opacity:1; fill:none\" points=\"\n",
       "  919.517,1486.45 919.517,1469.18 \n",
       "  \"/>\n",
       "<polyline clip-path=\"url(#clip000)\" style=\"stroke:#000000; stroke-width:4; stroke-opacity:1; fill:none\" points=\"\n",
       "  1376.69,1486.45 1376.69,1469.18 \n",
       "  \"/>\n",
       "<polyline clip-path=\"url(#clip000)\" style=\"stroke:#000000; stroke-width:4; stroke-opacity:1; fill:none\" points=\"\n",
       "  1833.86,1486.45 1833.86,1469.18 \n",
       "  \"/>\n",
       "<polyline clip-path=\"url(#clip000)\" style=\"stroke:#000000; stroke-width:4; stroke-opacity:1; fill:none\" points=\"\n",
       "  2291.04,1486.45 2291.04,1469.18 \n",
       "  \"/>\n",
       "<path clip-path=\"url(#clip000)\" d=\"M 0 0 M456.996 1543.18 L473.315 1543.18 L473.315 1547.12 L451.371 1547.12 L451.371 1543.18 Q454.033 1540.43 458.616 1535.8 Q463.223 1531.15 464.403 1529.81 Q466.649 1527.28 467.528 1525.55 Q468.431 1523.79 468.431 1522.1 Q468.431 1519.34 466.487 1517.61 Q464.565 1515.87 461.464 1515.87 Q459.264 1515.87 456.811 1516.63 Q454.38 1517.4 451.603 1518.95 L451.603 1514.23 Q454.427 1513.09 456.88 1512.51 Q459.334 1511.93 461.371 1511.93 Q466.741 1511.93 469.936 1514.62 Q473.13 1517.31 473.13 1521.8 Q473.13 1523.93 472.32 1525.85 Q471.533 1527.74 469.426 1530.34 Q468.848 1531.01 465.746 1534.23 Q462.644 1537.42 456.996 1543.18 Z\" fill=\"#000000\" fill-rule=\"evenodd\" fill-opacity=\"1\" /><path clip-path=\"url(#clip000)\" d=\"M 0 0 M922.526 1516.63 L910.721 1535.08 L922.526 1535.08 L922.526 1516.63 M921.299 1512.56 L927.179 1512.56 L927.179 1535.08 L932.109 1535.08 L932.109 1538.97 L927.179 1538.97 L927.179 1547.12 L922.526 1547.12 L922.526 1538.97 L906.924 1538.97 L906.924 1534.46 L921.299 1512.56 Z\" fill=\"#000000\" fill-rule=\"evenodd\" fill-opacity=\"1\" /><path clip-path=\"url(#clip000)\" d=\"M 0 0 M1377.1 1527.98 Q1373.95 1527.98 1372.1 1530.13 Q1370.27 1532.28 1370.27 1536.03 Q1370.27 1539.76 1372.1 1541.93 Q1373.95 1544.09 1377.1 1544.09 Q1380.24 1544.09 1382.07 1541.93 Q1383.92 1539.76 1383.92 1536.03 Q1383.92 1532.28 1382.07 1530.13 Q1380.24 1527.98 1377.1 1527.98 M1386.38 1513.32 L1386.38 1517.58 Q1384.62 1516.75 1382.81 1516.31 Q1381.03 1515.87 1379.27 1515.87 Q1374.64 1515.87 1372.19 1519 Q1369.76 1522.12 1369.41 1528.44 Q1370.78 1526.43 1372.84 1525.36 Q1374.9 1524.27 1377.37 1524.27 Q1382.58 1524.27 1385.59 1527.44 Q1388.62 1530.59 1388.62 1536.03 Q1388.62 1541.36 1385.48 1544.57 Q1382.33 1547.79 1377.1 1547.79 Q1371.1 1547.79 1367.93 1543.21 Q1364.76 1538.6 1364.76 1529.87 Q1364.76 1521.68 1368.65 1516.82 Q1372.54 1511.93 1379.09 1511.93 Q1380.85 1511.93 1382.63 1512.28 Q1384.43 1512.63 1386.38 1513.32 Z\" fill=\"#000000\" fill-rule=\"evenodd\" fill-opacity=\"1\" /><path clip-path=\"url(#clip000)\" d=\"M 0 0 M1833.86 1530.71 Q1830.53 1530.71 1828.61 1532.49 Q1826.71 1534.27 1826.71 1537.4 Q1826.71 1540.52 1828.61 1542.31 Q1830.53 1544.09 1833.86 1544.09 Q1837.2 1544.09 1839.12 1542.31 Q1841.04 1540.5 1841.04 1537.4 Q1841.04 1534.27 1839.12 1532.49 Q1837.22 1530.71 1833.86 1530.71 M1829.19 1528.72 Q1826.18 1527.98 1824.49 1525.92 Q1822.82 1523.86 1822.82 1520.89 Q1822.82 1516.75 1825.76 1514.34 Q1828.73 1511.93 1833.86 1511.93 Q1839.03 1511.93 1841.97 1514.34 Q1844.91 1516.75 1844.91 1520.89 Q1844.91 1523.86 1843.22 1525.92 Q1841.55 1527.98 1838.56 1528.72 Q1841.94 1529.5 1843.82 1531.8 Q1845.72 1534.09 1845.72 1537.4 Q1845.72 1542.42 1842.64 1545.11 Q1839.58 1547.79 1833.86 1547.79 Q1828.15 1547.79 1825.07 1545.11 Q1822.01 1542.42 1822.01 1537.4 Q1822.01 1534.09 1823.91 1531.8 Q1825.81 1529.5 1829.19 1528.72 M1827.48 1521.33 Q1827.48 1524.02 1829.14 1525.52 Q1830.83 1527.03 1833.86 1527.03 Q1836.87 1527.03 1838.56 1525.52 Q1840.28 1524.02 1840.28 1521.33 Q1840.28 1518.65 1838.56 1517.14 Q1836.87 1515.64 1833.86 1515.64 Q1830.83 1515.64 1829.14 1517.14 Q1827.48 1518.65 1827.48 1521.33 Z\" fill=\"#000000\" fill-rule=\"evenodd\" fill-opacity=\"1\" /><path clip-path=\"url(#clip000)\" d=\"M 0 0 M2267.91 1543.18 L2275.55 1543.18 L2275.55 1516.82 L2267.24 1518.49 L2267.24 1514.23 L2275.51 1512.56 L2280.18 1512.56 L2280.18 1543.18 L2287.82 1543.18 L2287.82 1547.12 L2267.91 1547.12 L2267.91 1543.18 Z\" fill=\"#000000\" fill-rule=\"evenodd\" fill-opacity=\"1\" /><path clip-path=\"url(#clip000)\" d=\"M 0 0 M2302.89 1515.64 Q2299.28 1515.64 2297.45 1519.2 Q2295.64 1522.75 2295.64 1529.87 Q2295.64 1536.98 2297.45 1540.55 Q2299.28 1544.09 2302.89 1544.09 Q2306.52 1544.09 2308.33 1540.55 Q2310.16 1536.98 2310.16 1529.87 Q2310.16 1522.75 2308.33 1519.2 Q2306.52 1515.64 2302.89 1515.64 M2302.89 1511.93 Q2308.7 1511.93 2311.75 1516.54 Q2314.83 1521.12 2314.83 1529.87 Q2314.83 1538.6 2311.75 1543.21 Q2308.7 1547.79 2302.89 1547.79 Q2297.08 1547.79 2294 1543.21 Q2290.94 1538.6 2290.94 1529.87 Q2290.94 1521.12 2294 1516.54 Q2297.08 1511.93 2302.89 1511.93 Z\" fill=\"#000000\" fill-rule=\"evenodd\" fill-opacity=\"1\" /><polyline clip-path=\"url(#clip002)\" style=\"stroke:#000000; stroke-width:2; stroke-opacity:0.1; fill:none\" points=\"\n",
       "  172.038,1445.72 2352.76,1445.72 \n",
       "  \"/>\n",
       "<polyline clip-path=\"url(#clip002)\" style=\"stroke:#000000; stroke-width:2; stroke-opacity:0.1; fill:none\" points=\"\n",
       "  172.038,1155.86 2352.76,1155.86 \n",
       "  \"/>\n",
       "<polyline clip-path=\"url(#clip002)\" style=\"stroke:#000000; stroke-width:2; stroke-opacity:0.1; fill:none\" points=\"\n",
       "  172.038,866.013 2352.76,866.013 \n",
       "  \"/>\n",
       "<polyline clip-path=\"url(#clip002)\" style=\"stroke:#000000; stroke-width:2; stroke-opacity:0.1; fill:none\" points=\"\n",
       "  172.038,576.162 2352.76,576.162 \n",
       "  \"/>\n",
       "<polyline clip-path=\"url(#clip002)\" style=\"stroke:#000000; stroke-width:2; stroke-opacity:0.1; fill:none\" points=\"\n",
       "  172.038,286.311 2352.76,286.311 \n",
       "  \"/>\n",
       "<polyline clip-path=\"url(#clip000)\" style=\"stroke:#000000; stroke-width:4; stroke-opacity:1; fill:none\" points=\"\n",
       "  172.038,1486.45 172.038,47.2441 \n",
       "  \"/>\n",
       "<polyline clip-path=\"url(#clip000)\" style=\"stroke:#000000; stroke-width:4; stroke-opacity:1; fill:none\" points=\"\n",
       "  172.038,1445.72 198.207,1445.72 \n",
       "  \"/>\n",
       "<polyline clip-path=\"url(#clip000)\" style=\"stroke:#000000; stroke-width:4; stroke-opacity:1; fill:none\" points=\"\n",
       "  172.038,1155.86 198.207,1155.86 \n",
       "  \"/>\n",
       "<polyline clip-path=\"url(#clip000)\" style=\"stroke:#000000; stroke-width:4; stroke-opacity:1; fill:none\" points=\"\n",
       "  172.038,866.013 198.207,866.013 \n",
       "  \"/>\n",
       "<polyline clip-path=\"url(#clip000)\" style=\"stroke:#000000; stroke-width:4; stroke-opacity:1; fill:none\" points=\"\n",
       "  172.038,576.162 198.207,576.162 \n",
       "  \"/>\n",
       "<polyline clip-path=\"url(#clip000)\" style=\"stroke:#000000; stroke-width:4; stroke-opacity:1; fill:none\" points=\"\n",
       "  172.038,286.311 198.207,286.311 \n",
       "  \"/>\n",
       "<path clip-path=\"url(#clip000)\" d=\"M 0 0 M52.1495 1459.06 L59.7884 1459.06 L59.7884 1432.69 L51.4782 1434.36 L51.4782 1430.1 L59.7421 1428.44 L64.418 1428.44 L64.418 1459.06 L72.0568 1459.06 L72.0568 1463 L52.1495 1463 L52.1495 1459.06 Z\" fill=\"#000000\" fill-rule=\"evenodd\" fill-opacity=\"1\" /><path clip-path=\"url(#clip000)\" d=\"M 0 0 M77.1262 1457.12 L82.0105 1457.12 L82.0105 1463 L77.1262 1463 L77.1262 1457.12 Z\" fill=\"#000000\" fill-rule=\"evenodd\" fill-opacity=\"1\" /><path clip-path=\"url(#clip000)\" d=\"M 0 0 M97.0798 1431.51 Q93.4688 1431.51 91.6401 1435.08 Q89.8345 1438.62 89.8345 1445.75 Q89.8345 1452.86 91.6401 1456.42 Q93.4688 1459.96 97.0798 1459.96 Q100.714 1459.96 102.52 1456.42 Q104.348 1452.86 104.348 1445.75 Q104.348 1438.62 102.52 1435.08 Q100.714 1431.51 97.0798 1431.51 M97.0798 1427.81 Q102.89 1427.81 105.946 1432.42 Q109.024 1437 109.024 1445.75 Q109.024 1454.48 105.946 1459.08 Q102.89 1463.67 97.0798 1463.67 Q91.2697 1463.67 88.191 1459.08 Q85.1355 1454.48 85.1355 1445.75 Q85.1355 1437 88.191 1432.42 Q91.2697 1427.81 97.0798 1427.81 Z\" fill=\"#000000\" fill-rule=\"evenodd\" fill-opacity=\"1\" /><path clip-path=\"url(#clip000)\" d=\"M 0 0 M124.094 1431.51 Q120.482 1431.51 118.654 1435.08 Q116.848 1438.62 116.848 1445.75 Q116.848 1452.86 118.654 1456.42 Q120.482 1459.96 124.094 1459.96 Q127.728 1459.96 129.533 1456.42 Q131.362 1452.86 131.362 1445.75 Q131.362 1438.62 129.533 1435.08 Q127.728 1431.51 124.094 1431.51 M124.094 1427.81 Q129.904 1427.81 132.959 1432.42 Q136.038 1437 136.038 1445.75 Q136.038 1454.48 132.959 1459.08 Q129.904 1463.67 124.094 1463.67 Q118.283 1463.67 115.205 1459.08 Q112.149 1454.48 112.149 1445.75 Q112.149 1437 115.205 1432.42 Q118.283 1427.81 124.094 1427.81 Z\" fill=\"#000000\" fill-rule=\"evenodd\" fill-opacity=\"1\" /><path clip-path=\"url(#clip000)\" d=\"M 0 0 M53.7467 1169.21 L61.3856 1169.21 L61.3856 1142.84 L53.0754 1144.51 L53.0754 1140.25 L61.3393 1138.58 L66.0152 1138.58 L66.0152 1169.21 L73.654 1169.21 L73.654 1173.14 L53.7467 1173.14 L53.7467 1169.21 Z\" fill=\"#000000\" fill-rule=\"evenodd\" fill-opacity=\"1\" /><path clip-path=\"url(#clip000)\" d=\"M 0 0 M78.7235 1167.26 L83.6077 1167.26 L83.6077 1173.14 L78.7235 1173.14 L78.7235 1167.26 Z\" fill=\"#000000\" fill-rule=\"evenodd\" fill-opacity=\"1\" /><path clip-path=\"url(#clip000)\" d=\"M 0 0 M98.6771 1141.66 Q95.066 1141.66 93.2373 1145.23 Q91.4317 1148.77 91.4317 1155.9 Q91.4317 1163.01 93.2373 1166.57 Q95.066 1170.11 98.6771 1170.11 Q102.311 1170.11 104.117 1166.57 Q105.946 1163.01 105.946 1155.9 Q105.946 1148.77 104.117 1145.23 Q102.311 1141.66 98.6771 1141.66 M98.6771 1137.96 Q104.487 1137.96 107.543 1142.57 Q110.621 1147.15 110.621 1155.9 Q110.621 1164.63 107.543 1169.23 Q104.487 1173.82 98.6771 1173.82 Q92.8669 1173.82 89.7882 1169.23 Q86.7327 1164.63 86.7327 1155.9 Q86.7327 1147.15 89.7882 1142.57 Q92.8669 1137.96 98.6771 1137.96 Z\" fill=\"#000000\" fill-rule=\"evenodd\" fill-opacity=\"1\" /><path clip-path=\"url(#clip000)\" d=\"M 0 0 M119.719 1169.21 L136.038 1169.21 L136.038 1173.14 L114.094 1173.14 L114.094 1169.21 Q116.756 1166.45 121.339 1161.83 Q125.945 1157.17 127.126 1155.83 Q129.371 1153.31 130.251 1151.57 Q131.154 1149.81 131.154 1148.12 Q131.154 1145.37 129.209 1143.63 Q127.288 1141.89 124.186 1141.89 Q121.987 1141.89 119.533 1142.66 Q117.103 1143.42 114.325 1144.97 L114.325 1140.25 Q117.149 1139.12 119.603 1138.54 Q122.057 1137.96 124.094 1137.96 Q129.464 1137.96 132.658 1140.64 Q135.853 1143.33 135.853 1147.82 Q135.853 1149.95 135.043 1151.87 Q134.256 1153.77 132.149 1156.36 Q131.57 1157.03 128.469 1160.25 Q125.367 1163.45 119.719 1169.21 Z\" fill=\"#000000\" fill-rule=\"evenodd\" fill-opacity=\"1\" /><path clip-path=\"url(#clip000)\" d=\"M 0 0 M51.6634 879.358 L59.3023 879.358 L59.3023 852.993 L50.9921 854.659 L50.9921 850.4 L59.256 848.733 L63.9319 848.733 L63.9319 879.358 L71.5707 879.358 L71.5707 883.293 L51.6634 883.293 L51.6634 879.358 Z\" fill=\"#000000\" fill-rule=\"evenodd\" fill-opacity=\"1\" /><path clip-path=\"url(#clip000)\" d=\"M 0 0 M76.6401 877.414 L81.5244 877.414 L81.5244 883.293 L76.6401 883.293 L76.6401 877.414 Z\" fill=\"#000000\" fill-rule=\"evenodd\" fill-opacity=\"1\" /><path clip-path=\"url(#clip000)\" d=\"M 0 0 M96.5937 851.812 Q92.9826 851.812 91.1539 855.377 Q89.3484 858.918 89.3484 866.048 Q89.3484 873.154 91.1539 876.719 Q92.9826 880.261 96.5937 880.261 Q100.228 880.261 102.034 876.719 Q103.862 873.154 103.862 866.048 Q103.862 858.918 102.034 855.377 Q100.228 851.812 96.5937 851.812 M96.5937 848.108 Q102.404 848.108 105.459 852.715 Q108.538 857.298 108.538 866.048 Q108.538 874.775 105.459 879.381 Q102.404 883.965 96.5937 883.965 Q90.7836 883.965 87.7049 879.381 Q84.6494 874.775 84.6494 866.048 Q84.6494 857.298 87.7049 852.715 Q90.7836 848.108 96.5937 848.108 Z\" fill=\"#000000\" fill-rule=\"evenodd\" fill-opacity=\"1\" /><path clip-path=\"url(#clip000)\" d=\"M 0 0 M126.455 852.807 L114.649 871.256 L126.455 871.256 L126.455 852.807 M125.228 848.733 L131.107 848.733 L131.107 871.256 L136.038 871.256 L136.038 875.145 L131.107 875.145 L131.107 883.293 L126.455 883.293 L126.455 875.145 L110.853 875.145 L110.853 870.631 L125.228 848.733 Z\" fill=\"#000000\" fill-rule=\"evenodd\" fill-opacity=\"1\" /><path clip-path=\"url(#clip000)\" d=\"M 0 0 M51.9875 589.507 L59.6263 589.507 L59.6263 563.141 L51.3162 564.808 L51.3162 560.549 L59.58 558.882 L64.2559 558.882 L64.2559 589.507 L71.8948 589.507 L71.8948 593.442 L51.9875 593.442 L51.9875 589.507 Z\" fill=\"#000000\" fill-rule=\"evenodd\" fill-opacity=\"1\" /><path clip-path=\"url(#clip000)\" d=\"M 0 0 M76.9642 587.563 L81.8484 587.563 L81.8484 593.442 L76.9642 593.442 L76.9642 587.563 Z\" fill=\"#000000\" fill-rule=\"evenodd\" fill-opacity=\"1\" /><path clip-path=\"url(#clip000)\" d=\"M 0 0 M96.9178 561.961 Q93.3067 561.961 91.478 565.526 Q89.6725 569.067 89.6725 576.197 Q89.6725 583.303 91.478 586.868 Q93.3067 590.41 96.9178 590.41 Q100.552 590.41 102.358 586.868 Q104.186 583.303 104.186 576.197 Q104.186 569.067 102.358 565.526 Q100.552 561.961 96.9178 561.961 M96.9178 558.257 Q102.728 558.257 105.783 562.864 Q108.862 567.447 108.862 576.197 Q108.862 584.924 105.783 589.53 Q102.728 594.113 96.9178 594.113 Q91.1077 594.113 88.029 589.53 Q84.9734 584.924 84.9734 576.197 Q84.9734 567.447 88.029 562.864 Q91.1077 558.257 96.9178 558.257 Z\" fill=\"#000000\" fill-rule=\"evenodd\" fill-opacity=\"1\" /><path clip-path=\"url(#clip000)\" d=\"M 0 0 M124.51 574.299 Q121.362 574.299 119.51 576.451 Q117.682 578.604 117.682 582.354 Q117.682 586.081 119.51 588.257 Q121.362 590.41 124.51 590.41 Q127.658 590.41 129.487 588.257 Q131.339 586.081 131.339 582.354 Q131.339 578.604 129.487 576.451 Q127.658 574.299 124.51 574.299 M133.793 559.646 L133.793 563.905 Q132.033 563.072 130.228 562.632 Q128.445 562.192 126.686 562.192 Q122.057 562.192 119.603 565.317 Q117.172 568.442 116.825 574.762 Q118.191 572.748 120.251 571.683 Q122.311 570.595 124.788 570.595 Q129.996 570.595 133.006 573.766 Q136.038 576.914 136.038 582.354 Q136.038 587.678 132.89 590.896 Q129.742 594.113 124.51 594.113 Q118.515 594.113 115.344 589.53 Q112.172 584.924 112.172 576.197 Q112.172 568.002 116.061 563.141 Q119.95 558.257 126.501 558.257 Q128.26 558.257 130.043 558.604 Q131.848 558.952 133.793 559.646 Z\" fill=\"#000000\" fill-rule=\"evenodd\" fill-opacity=\"1\" /><path clip-path=\"url(#clip000)\" d=\"M 0 0 M52.2421 299.656 L59.881 299.656 L59.881 273.29 L51.5708 274.957 L51.5708 270.698 L59.8347 269.031 L64.5106 269.031 L64.5106 299.656 L72.1494 299.656 L72.1494 303.591 L52.2421 303.591 L52.2421 299.656 Z\" fill=\"#000000\" fill-rule=\"evenodd\" fill-opacity=\"1\" /><path clip-path=\"url(#clip000)\" d=\"M 0 0 M77.2188 297.711 L82.1031 297.711 L82.1031 303.591 L77.2188 303.591 L77.2188 297.711 Z\" fill=\"#000000\" fill-rule=\"evenodd\" fill-opacity=\"1\" /><path clip-path=\"url(#clip000)\" d=\"M 0 0 M97.1724 272.11 Q93.5613 272.11 91.7326 275.674 Q89.9271 279.216 89.9271 286.346 Q89.9271 293.452 91.7326 297.017 Q93.5613 300.559 97.1724 300.559 Q100.807 300.559 102.612 297.017 Q104.441 293.452 104.441 286.346 Q104.441 279.216 102.612 275.674 Q100.807 272.11 97.1724 272.11 M97.1724 268.406 Q102.983 268.406 106.038 273.012 Q109.117 277.596 109.117 286.346 Q109.117 295.072 106.038 299.679 Q102.983 304.262 97.1724 304.262 Q91.3623 304.262 88.2836 299.679 Q85.2281 295.072 85.2281 286.346 Q85.2281 277.596 88.2836 273.012 Q91.3623 268.406 97.1724 268.406 Z\" fill=\"#000000\" fill-rule=\"evenodd\" fill-opacity=\"1\" /><path clip-path=\"url(#clip000)\" d=\"M 0 0 M124.186 287.179 Q120.853 287.179 118.932 288.961 Q117.033 290.744 117.033 293.869 Q117.033 296.994 118.932 298.776 Q120.853 300.559 124.186 300.559 Q127.519 300.559 129.441 298.776 Q131.362 296.971 131.362 293.869 Q131.362 290.744 129.441 288.961 Q127.543 287.179 124.186 287.179 M119.51 285.188 Q116.501 284.447 114.811 282.387 Q113.145 280.327 113.145 277.364 Q113.145 273.221 116.084 270.813 Q119.047 268.406 124.186 268.406 Q129.348 268.406 132.288 270.813 Q135.228 273.221 135.228 277.364 Q135.228 280.327 133.538 282.387 Q131.871 284.447 128.885 285.188 Q132.265 285.975 134.14 288.267 Q136.038 290.559 136.038 293.869 Q136.038 298.892 132.959 301.577 Q129.904 304.262 124.186 304.262 Q118.469 304.262 115.39 301.577 Q112.334 298.892 112.334 293.869 Q112.334 290.559 114.233 288.267 Q116.131 285.975 119.51 285.188 M117.797 277.804 Q117.797 280.489 119.464 281.994 Q121.154 283.498 124.186 283.498 Q127.195 283.498 128.885 281.994 Q130.598 280.489 130.598 277.804 Q130.598 275.119 128.885 273.614 Q127.195 272.11 124.186 272.11 Q121.154 272.11 119.464 273.614 Q117.797 275.119 117.797 277.804 Z\" fill=\"#000000\" fill-rule=\"evenodd\" fill-opacity=\"1\" /><polyline clip-path=\"url(#clip002)\" style=\"stroke:#009af9; stroke-width:4; stroke-opacity:1; fill:none\" points=\"\n",
       "  233.756,1445.72 462.343,1300.79 690.93,1154.42 919.517,1006.58 1148.1,857.26 1376.69,706.449 1605.28,554.131 1833.86,400.29 2062.45,244.91 2291.04,87.9763 \n",
       "  \n",
       "  \"/>\n",
       "<path clip-path=\"url(#clip000)\" d=\"\n",
       "M1986.75 216.178 L2280.07 216.178 L2280.07 95.2176 L1986.75 95.2176  Z\n",
       "  \" fill=\"#ffffff\" fill-rule=\"evenodd\" fill-opacity=\"1\"/>\n",
       "<polyline clip-path=\"url(#clip000)\" style=\"stroke:#000000; stroke-width:4; stroke-opacity:1; fill:none\" points=\"\n",
       "  1986.75,216.178 2280.07,216.178 2280.07,95.2176 1986.75,95.2176 1986.75,216.178 \n",
       "  \"/>\n",
       "<polyline clip-path=\"url(#clip000)\" style=\"stroke:#009af9; stroke-width:4; stroke-opacity:1; fill:none\" points=\"\n",
       "  2010.98,155.698 2156.36,155.698 \n",
       "  \"/>\n",
       "<path clip-path=\"url(#clip000)\" d=\"M 0 0 M2194.43 175.385 Q2192.62 180.015 2190.91 181.427 Q2189.2 182.839 2186.33 182.839 L2182.92 182.839 L2182.92 179.274 L2185.42 179.274 Q2187.18 179.274 2188.16 178.44 Q2189.13 177.607 2190.31 174.505 L2191.07 172.561 L2180.59 147.052 L2185.1 147.052 L2193.2 167.329 L2201.3 147.052 L2205.82 147.052 L2194.43 175.385 Z\" fill=\"#000000\" fill-rule=\"evenodd\" fill-opacity=\"1\" /><path clip-path=\"url(#clip000)\" d=\"M 0 0 M2211.7 169.042 L2219.34 169.042 L2219.34 142.677 L2211.03 144.343 L2211.03 140.084 L2219.29 138.418 L2223.97 138.418 L2223.97 169.042 L2231.6 169.042 L2231.6 172.978 L2211.7 172.978 L2211.7 169.042 Z\" fill=\"#000000\" fill-rule=\"evenodd\" fill-opacity=\"1\" /></svg>\n"
      ]
     },
     "execution_count": 38,
     "metadata": {},
     "output_type": "execute_result"
    }
   ],
   "source": [
    "plot(I_result)"
   ]
  },
  {
   "cell_type": "code",
   "execution_count": 39,
   "metadata": {},
   "outputs": [
    {
     "data": {
      "image/svg+xml": [
       "<?xml version=\"1.0\" encoding=\"utf-8\"?>\n",
       "<svg xmlns=\"http://www.w3.org/2000/svg\" xmlns:xlink=\"http://www.w3.org/1999/xlink\" width=\"600\" height=\"400\" viewBox=\"0 0 2400 1600\">\n",
       "<defs>\n",
       "  <clipPath id=\"clip040\">\n",
       "    <rect x=\"0\" y=\"0\" width=\"2400\" height=\"1600\"/>\n",
       "  </clipPath>\n",
       "</defs>\n",
       "<path clip-path=\"url(#clip040)\" d=\"\n",
       "M0 1600 L2400 1600 L2400 0 L0 0  Z\n",
       "  \" fill=\"#ffffff\" fill-rule=\"evenodd\" fill-opacity=\"1\"/>\n",
       "<defs>\n",
       "  <clipPath id=\"clip041\">\n",
       "    <rect x=\"480\" y=\"0\" width=\"1681\" height=\"1600\"/>\n",
       "  </clipPath>\n",
       "</defs>\n",
       "<path clip-path=\"url(#clip040)\" d=\"\n",
       "M171.552 1486.45 L2352.76 1486.45 L2352.76 47.2441 L171.552 47.2441  Z\n",
       "  \" fill=\"#ffffff\" fill-rule=\"evenodd\" fill-opacity=\"1\"/>\n",
       "<defs>\n",
       "  <clipPath id=\"clip042\">\n",
       "    <rect x=\"171\" y=\"47\" width=\"2182\" height=\"1440\"/>\n",
       "  </clipPath>\n",
       "</defs>\n",
       "<polyline clip-path=\"url(#clip042)\" style=\"stroke:#000000; stroke-width:2; stroke-opacity:0.1; fill:none\" points=\"\n",
       "  666.492,1486.45 666.492,47.2441 \n",
       "  \"/>\n",
       "<polyline clip-path=\"url(#clip042)\" style=\"stroke:#000000; stroke-width:2; stroke-opacity:0.1; fill:none\" points=\"\n",
       "  1208,1486.45 1208,47.2441 \n",
       "  \"/>\n",
       "<polyline clip-path=\"url(#clip042)\" style=\"stroke:#000000; stroke-width:2; stroke-opacity:0.1; fill:none\" points=\"\n",
       "  1749.51,1486.45 1749.51,47.2441 \n",
       "  \"/>\n",
       "<polyline clip-path=\"url(#clip042)\" style=\"stroke:#000000; stroke-width:2; stroke-opacity:0.1; fill:none\" points=\"\n",
       "  2291.02,1486.45 2291.02,47.2441 \n",
       "  \"/>\n",
       "<polyline clip-path=\"url(#clip040)\" style=\"stroke:#000000; stroke-width:4; stroke-opacity:1; fill:none\" points=\"\n",
       "  171.552,1486.45 2352.76,1486.45 \n",
       "  \"/>\n",
       "<polyline clip-path=\"url(#clip040)\" style=\"stroke:#000000; stroke-width:4; stroke-opacity:1; fill:none\" points=\"\n",
       "  666.492,1486.45 666.492,1469.18 \n",
       "  \"/>\n",
       "<polyline clip-path=\"url(#clip040)\" style=\"stroke:#000000; stroke-width:4; stroke-opacity:1; fill:none\" points=\"\n",
       "  1208,1486.45 1208,1469.18 \n",
       "  \"/>\n",
       "<polyline clip-path=\"url(#clip040)\" style=\"stroke:#000000; stroke-width:4; stroke-opacity:1; fill:none\" points=\"\n",
       "  1749.51,1486.45 1749.51,1469.18 \n",
       "  \"/>\n",
       "<polyline clip-path=\"url(#clip040)\" style=\"stroke:#000000; stroke-width:4; stroke-opacity:1; fill:none\" points=\"\n",
       "  2291.02,1486.45 2291.02,1469.18 \n",
       "  \"/>\n",
       "<path clip-path=\"url(#clip040)\" d=\"M 0 0 M656.77 1512.56 L675.127 1512.56 L675.127 1516.5 L661.053 1516.5 L661.053 1524.97 Q662.071 1524.62 663.09 1524.46 Q664.108 1524.27 665.127 1524.27 Q670.914 1524.27 674.293 1527.44 Q677.673 1530.62 677.673 1536.03 Q677.673 1541.61 674.201 1544.71 Q670.728 1547.79 664.409 1547.79 Q662.233 1547.79 659.965 1547.42 Q657.719 1547.05 655.312 1546.31 L655.312 1541.61 Q657.395 1542.74 659.617 1543.3 Q661.84 1543.86 664.316 1543.86 Q668.321 1543.86 670.659 1541.75 Q672.997 1539.64 672.997 1536.03 Q672.997 1532.42 670.659 1530.31 Q668.321 1528.21 664.316 1528.21 Q662.441 1528.21 660.567 1528.62 Q658.715 1529.04 656.77 1529.92 L656.77 1512.56 Z\" fill=\"#000000\" fill-rule=\"evenodd\" fill-opacity=\"1\" /><path clip-path=\"url(#clip040)\" d=\"M 0 0 M1184.88 1543.18 L1192.52 1543.18 L1192.52 1516.82 L1184.21 1518.49 L1184.21 1514.23 L1192.47 1512.56 L1197.15 1512.56 L1197.15 1543.18 L1204.79 1543.18 L1204.79 1547.12 L1184.88 1547.12 L1184.88 1543.18 Z\" fill=\"#000000\" fill-rule=\"evenodd\" fill-opacity=\"1\" /><path clip-path=\"url(#clip040)\" d=\"M 0 0 M1219.85 1515.64 Q1216.24 1515.64 1214.41 1519.2 Q1212.61 1522.75 1212.61 1529.87 Q1212.61 1536.98 1214.41 1540.55 Q1216.24 1544.09 1219.85 1544.09 Q1223.49 1544.09 1225.29 1540.55 Q1227.12 1536.98 1227.12 1529.87 Q1227.12 1522.75 1225.29 1519.2 Q1223.49 1515.64 1219.85 1515.64 M1219.85 1511.93 Q1225.66 1511.93 1228.72 1516.54 Q1231.8 1521.12 1231.8 1529.87 Q1231.8 1538.6 1228.72 1543.21 Q1225.66 1547.79 1219.85 1547.79 Q1214.04 1547.79 1210.97 1543.21 Q1207.91 1538.6 1207.91 1529.87 Q1207.91 1521.12 1210.97 1516.54 Q1214.04 1511.93 1219.85 1511.93 Z\" fill=\"#000000\" fill-rule=\"evenodd\" fill-opacity=\"1\" /><path clip-path=\"url(#clip040)\" d=\"M 0 0 M1726.89 1543.18 L1734.52 1543.18 L1734.52 1516.82 L1726.21 1518.49 L1726.21 1514.23 L1734.48 1512.56 L1739.15 1512.56 L1739.15 1543.18 L1746.79 1543.18 L1746.79 1547.12 L1726.89 1547.12 L1726.89 1543.18 Z\" fill=\"#000000\" fill-rule=\"evenodd\" fill-opacity=\"1\" /><path clip-path=\"url(#clip040)\" d=\"M 0 0 M1751.91 1512.56 L1770.27 1512.56 L1770.27 1516.5 L1756.19 1516.5 L1756.19 1524.97 Q1757.21 1524.62 1758.23 1524.46 Q1759.25 1524.27 1760.27 1524.27 Q1766.05 1524.27 1769.43 1527.44 Q1772.81 1530.62 1772.81 1536.03 Q1772.81 1541.61 1769.34 1544.71 Q1765.87 1547.79 1759.55 1547.79 Q1757.37 1547.79 1755.1 1547.42 Q1752.86 1547.05 1750.45 1546.31 L1750.45 1541.61 Q1752.53 1542.74 1754.76 1543.3 Q1756.98 1543.86 1759.46 1543.86 Q1763.46 1543.86 1765.8 1541.75 Q1768.14 1539.64 1768.14 1536.03 Q1768.14 1532.42 1765.8 1530.31 Q1763.46 1528.21 1759.46 1528.21 Q1757.58 1528.21 1755.71 1528.62 Q1753.85 1529.04 1751.91 1529.92 L1751.91 1512.56 Z\" fill=\"#000000\" fill-rule=\"evenodd\" fill-opacity=\"1\" /><path clip-path=\"url(#clip040)\" d=\"M 0 0 M2272.17 1543.18 L2288.49 1543.18 L2288.49 1547.12 L2266.54 1547.12 L2266.54 1543.18 Q2269.21 1540.43 2273.79 1535.8 Q2278.4 1531.15 2279.58 1529.81 Q2281.82 1527.28 2282.7 1525.55 Q2283.6 1523.79 2283.6 1522.1 Q2283.6 1519.34 2281.66 1517.61 Q2279.74 1515.87 2276.64 1515.87 Q2274.44 1515.87 2271.98 1516.63 Q2269.55 1517.4 2266.78 1518.95 L2266.78 1514.23 Q2269.6 1513.09 2272.05 1512.51 Q2274.51 1511.93 2276.54 1511.93 Q2281.91 1511.93 2285.11 1514.62 Q2288.3 1517.31 2288.3 1521.8 Q2288.3 1523.93 2287.49 1525.85 Q2286.71 1527.74 2284.6 1530.34 Q2284.02 1531.01 2280.92 1534.23 Q2277.82 1537.42 2272.17 1543.18 Z\" fill=\"#000000\" fill-rule=\"evenodd\" fill-opacity=\"1\" /><path clip-path=\"url(#clip040)\" d=\"M 0 0 M2303.56 1515.64 Q2299.95 1515.64 2298.12 1519.2 Q2296.31 1522.75 2296.31 1529.87 Q2296.31 1536.98 2298.12 1540.55 Q2299.95 1544.09 2303.56 1544.09 Q2307.19 1544.09 2309 1540.55 Q2310.83 1536.98 2310.83 1529.87 Q2310.83 1522.75 2309 1519.2 Q2307.19 1515.64 2303.56 1515.64 M2303.56 1511.93 Q2309.37 1511.93 2312.42 1516.54 Q2315.5 1521.12 2315.5 1529.87 Q2315.5 1538.6 2312.42 1543.21 Q2309.37 1547.79 2303.56 1547.79 Q2297.75 1547.79 2294.67 1543.21 Q2291.61 1538.6 2291.61 1529.87 Q2291.61 1521.12 2294.67 1516.54 Q2297.75 1511.93 2303.56 1511.93 Z\" fill=\"#000000\" fill-rule=\"evenodd\" fill-opacity=\"1\" /><polyline clip-path=\"url(#clip042)\" style=\"stroke:#000000; stroke-width:2; stroke-opacity:0.1; fill:none\" points=\"\n",
       "  171.552,1445.72 2352.76,1445.72 \n",
       "  \"/>\n",
       "<polyline clip-path=\"url(#clip042)\" style=\"stroke:#000000; stroke-width:2; stroke-opacity:0.1; fill:none\" points=\"\n",
       "  171.552,1119.51 2352.76,1119.51 \n",
       "  \"/>\n",
       "<polyline clip-path=\"url(#clip042)\" style=\"stroke:#000000; stroke-width:2; stroke-opacity:0.1; fill:none\" points=\"\n",
       "  171.552,793.298 2352.76,793.298 \n",
       "  \"/>\n",
       "<polyline clip-path=\"url(#clip042)\" style=\"stroke:#000000; stroke-width:2; stroke-opacity:0.1; fill:none\" points=\"\n",
       "  171.552,467.089 2352.76,467.089 \n",
       "  \"/>\n",
       "<polyline clip-path=\"url(#clip042)\" style=\"stroke:#000000; stroke-width:2; stroke-opacity:0.1; fill:none\" points=\"\n",
       "  171.552,140.88 2352.76,140.88 \n",
       "  \"/>\n",
       "<polyline clip-path=\"url(#clip040)\" style=\"stroke:#000000; stroke-width:4; stroke-opacity:1; fill:none\" points=\"\n",
       "  171.552,1486.45 171.552,47.2441 \n",
       "  \"/>\n",
       "<polyline clip-path=\"url(#clip040)\" style=\"stroke:#000000; stroke-width:4; stroke-opacity:1; fill:none\" points=\"\n",
       "  171.552,1445.72 197.726,1445.72 \n",
       "  \"/>\n",
       "<polyline clip-path=\"url(#clip040)\" style=\"stroke:#000000; stroke-width:4; stroke-opacity:1; fill:none\" points=\"\n",
       "  171.552,1119.51 197.726,1119.51 \n",
       "  \"/>\n",
       "<polyline clip-path=\"url(#clip040)\" style=\"stroke:#000000; stroke-width:4; stroke-opacity:1; fill:none\" points=\"\n",
       "  171.552,793.298 197.726,793.298 \n",
       "  \"/>\n",
       "<polyline clip-path=\"url(#clip040)\" style=\"stroke:#000000; stroke-width:4; stroke-opacity:1; fill:none\" points=\"\n",
       "  171.552,467.089 197.726,467.089 \n",
       "  \"/>\n",
       "<polyline clip-path=\"url(#clip040)\" style=\"stroke:#000000; stroke-width:4; stroke-opacity:1; fill:none\" points=\"\n",
       "  171.552,140.88 197.726,140.88 \n",
       "  \"/>\n",
       "<path clip-path=\"url(#clip040)\" d=\"M 0 0 M51.6634 1459.06 L59.3023 1459.06 L59.3023 1432.69 L50.9921 1434.36 L50.9921 1430.1 L59.256 1428.44 L63.9319 1428.44 L63.9319 1459.06 L71.5707 1459.06 L71.5707 1463 L51.6634 1463 L51.6634 1459.06 Z\" fill=\"#000000\" fill-rule=\"evenodd\" fill-opacity=\"1\" /><path clip-path=\"url(#clip040)\" d=\"M 0 0 M76.6401 1457.12 L81.5244 1457.12 L81.5244 1463 L76.6401 1463 L76.6401 1457.12 Z\" fill=\"#000000\" fill-rule=\"evenodd\" fill-opacity=\"1\" /><path clip-path=\"url(#clip040)\" d=\"M 0 0 M96.5937 1431.51 Q92.9826 1431.51 91.1539 1435.08 Q89.3484 1438.62 89.3484 1445.75 Q89.3484 1452.86 91.1539 1456.42 Q92.9826 1459.96 96.5937 1459.96 Q100.228 1459.96 102.034 1456.42 Q103.862 1452.86 103.862 1445.75 Q103.862 1438.62 102.034 1435.08 Q100.228 1431.51 96.5937 1431.51 M96.5937 1427.81 Q102.404 1427.81 105.459 1432.42 Q108.538 1437 108.538 1445.75 Q108.538 1454.48 105.459 1459.08 Q102.404 1463.67 96.5937 1463.67 Q90.7836 1463.67 87.7049 1459.08 Q84.6494 1454.48 84.6494 1445.75 Q84.6494 1437 87.7049 1432.42 Q90.7836 1427.81 96.5937 1427.81 Z\" fill=\"#000000\" fill-rule=\"evenodd\" fill-opacity=\"1\" /><path clip-path=\"url(#clip040)\" d=\"M 0 0 M123.607 1431.51 Q119.996 1431.51 118.168 1435.08 Q116.362 1438.62 116.362 1445.75 Q116.362 1452.86 118.168 1456.42 Q119.996 1459.96 123.607 1459.96 Q127.242 1459.96 129.047 1456.42 Q130.876 1452.86 130.876 1445.75 Q130.876 1438.62 129.047 1435.08 Q127.242 1431.51 123.607 1431.51 M123.607 1427.81 Q129.418 1427.81 132.473 1432.42 Q135.552 1437 135.552 1445.75 Q135.552 1454.48 132.473 1459.08 Q129.418 1463.67 123.607 1463.67 Q117.797 1463.67 114.719 1459.08 Q111.663 1454.48 111.663 1445.75 Q111.663 1437 114.719 1432.42 Q117.797 1427.81 123.607 1427.81 Z\" fill=\"#000000\" fill-rule=\"evenodd\" fill-opacity=\"1\" /><path clip-path=\"url(#clip040)\" d=\"M 0 0 M52.6588 1132.85 L60.2976 1132.85 L60.2976 1106.49 L51.9875 1108.15 L51.9875 1103.89 L60.2513 1102.23 L64.9272 1102.23 L64.9272 1132.85 L72.5661 1132.85 L72.5661 1136.79 L52.6588 1136.79 L52.6588 1132.85 Z\" fill=\"#000000\" fill-rule=\"evenodd\" fill-opacity=\"1\" /><path clip-path=\"url(#clip040)\" d=\"M 0 0 M77.6355 1130.91 L82.5197 1130.91 L82.5197 1136.79 L77.6355 1136.79 L77.6355 1130.91 Z\" fill=\"#000000\" fill-rule=\"evenodd\" fill-opacity=\"1\" /><path clip-path=\"url(#clip040)\" d=\"M 0 0 M97.5891 1105.31 Q93.978 1105.31 92.1493 1108.87 Q90.3438 1112.41 90.3438 1119.54 Q90.3438 1126.65 92.1493 1130.21 Q93.978 1133.75 97.5891 1133.75 Q101.223 1133.75 103.029 1130.21 Q104.858 1126.65 104.858 1119.54 Q104.858 1112.41 103.029 1108.87 Q101.223 1105.31 97.5891 1105.31 M97.5891 1101.6 Q103.399 1101.6 106.455 1106.21 Q109.533 1110.79 109.533 1119.54 Q109.533 1128.27 106.455 1132.87 Q103.399 1137.46 97.5891 1137.46 Q91.7789 1137.46 88.7003 1132.87 Q85.6447 1128.27 85.6447 1119.54 Q85.6447 1110.79 88.7003 1106.21 Q91.7789 1101.6 97.5891 1101.6 Z\" fill=\"#000000\" fill-rule=\"evenodd\" fill-opacity=\"1\" /><path clip-path=\"url(#clip040)\" d=\"M 0 0 M114.649 1102.23 L133.006 1102.23 L133.006 1106.16 L118.932 1106.16 L118.932 1114.63 Q119.95 1114.29 120.969 1114.12 Q121.987 1113.94 123.006 1113.94 Q128.793 1113.94 132.172 1117.11 Q135.552 1120.28 135.552 1125.7 Q135.552 1131.28 132.08 1134.38 Q128.607 1137.46 122.288 1137.46 Q120.112 1137.46 117.844 1137.09 Q115.598 1136.72 113.191 1135.98 L113.191 1131.28 Q115.274 1132.41 117.496 1132.97 Q119.719 1133.52 122.195 1133.52 Q126.2 1133.52 128.538 1131.42 Q130.876 1129.31 130.876 1125.7 Q130.876 1122.09 128.538 1119.98 Q126.2 1117.87 122.195 1117.87 Q120.32 1117.87 118.445 1118.29 Q116.594 1118.71 114.649 1119.59 L114.649 1102.23 Z\" fill=\"#000000\" fill-rule=\"evenodd\" fill-opacity=\"1\" /><path clip-path=\"url(#clip040)\" d=\"M 0 0 M52.8903 806.643 L60.5291 806.643 L60.5291 780.277 L52.219 781.944 L52.219 777.685 L60.4828 776.018 L65.1587 776.018 L65.1587 806.643 L72.7976 806.643 L72.7976 810.578 L52.8903 810.578 L52.8903 806.643 Z\" fill=\"#000000\" fill-rule=\"evenodd\" fill-opacity=\"1\" /><path clip-path=\"url(#clip040)\" d=\"M 0 0 M77.867 804.698 L82.7512 804.698 L82.7512 810.578 L77.867 810.578 L77.867 804.698 Z\" fill=\"#000000\" fill-rule=\"evenodd\" fill-opacity=\"1\" /><path clip-path=\"url(#clip040)\" d=\"M 0 0 M88.6308 806.643 L96.2697 806.643 L96.2697 780.277 L87.9595 781.944 L87.9595 777.685 L96.2234 776.018 L100.899 776.018 L100.899 806.643 L108.538 806.643 L108.538 810.578 L88.6308 810.578 L88.6308 806.643 Z\" fill=\"#000000\" fill-rule=\"evenodd\" fill-opacity=\"1\" /><path clip-path=\"url(#clip040)\" d=\"M 0 0 M123.607 779.097 Q119.996 779.097 118.168 782.662 Q116.362 786.203 116.362 793.333 Q116.362 800.439 118.168 804.004 Q119.996 807.546 123.607 807.546 Q127.242 807.546 129.047 804.004 Q130.876 800.439 130.876 793.333 Q130.876 786.203 129.047 782.662 Q127.242 779.097 123.607 779.097 M123.607 775.393 Q129.418 775.393 132.473 780 Q135.552 784.583 135.552 793.333 Q135.552 802.06 132.473 806.666 Q129.418 811.249 123.607 811.249 Q117.797 811.249 114.719 806.666 Q111.663 802.06 111.663 793.333 Q111.663 784.583 114.719 780 Q117.797 775.393 123.607 775.393 Z\" fill=\"#000000\" fill-rule=\"evenodd\" fill-opacity=\"1\" /><path clip-path=\"url(#clip040)\" d=\"M 0 0 M53.8856 480.434 L61.5245 480.434 L61.5245 454.069 L53.2143 455.735 L53.2143 451.476 L61.4782 449.809 L66.1541 449.809 L66.1541 480.434 L73.7929 480.434 L73.7929 484.369 L53.8856 484.369 L53.8856 480.434 Z\" fill=\"#000000\" fill-rule=\"evenodd\" fill-opacity=\"1\" /><path clip-path=\"url(#clip040)\" d=\"M 0 0 M78.8623 478.49 L83.7466 478.49 L83.7466 484.369 L78.8623 484.369 L78.8623 478.49 Z\" fill=\"#000000\" fill-rule=\"evenodd\" fill-opacity=\"1\" /><path clip-path=\"url(#clip040)\" d=\"M 0 0 M89.6262 480.434 L97.265 480.434 L97.265 454.069 L88.9549 455.735 L88.9549 451.476 L97.2187 449.809 L101.895 449.809 L101.895 480.434 L109.533 480.434 L109.533 484.369 L89.6262 484.369 L89.6262 480.434 Z\" fill=\"#000000\" fill-rule=\"evenodd\" fill-opacity=\"1\" /><path clip-path=\"url(#clip040)\" d=\"M 0 0 M114.649 449.809 L133.006 449.809 L133.006 453.744 L118.932 453.744 L118.932 462.217 Q119.95 461.869 120.969 461.707 Q121.987 461.522 123.006 461.522 Q128.793 461.522 132.172 464.693 Q135.552 467.865 135.552 473.281 Q135.552 478.86 132.08 481.962 Q128.607 485.041 122.288 485.041 Q120.112 485.041 117.844 484.67 Q115.598 484.3 113.191 483.559 L113.191 478.86 Q115.274 479.994 117.496 480.55 Q119.719 481.105 122.195 481.105 Q126.2 481.105 128.538 478.999 Q130.876 476.892 130.876 473.281 Q130.876 469.67 128.538 467.564 Q126.2 465.457 122.195 465.457 Q120.32 465.457 118.445 465.874 Q116.594 466.291 114.649 467.17 L114.649 449.809 Z\" fill=\"#000000\" fill-rule=\"evenodd\" fill-opacity=\"1\" /><path clip-path=\"url(#clip040)\" d=\"M 0 0 M53.2606 154.225 L60.8995 154.225 L60.8995 127.86 L52.5893 129.526 L52.5893 125.267 L60.8532 123.6 L65.5291 123.6 L65.5291 154.225 L73.1679 154.225 L73.1679 158.16 L53.2606 158.16 L53.2606 154.225 Z\" fill=\"#000000\" fill-rule=\"evenodd\" fill-opacity=\"1\" /><path clip-path=\"url(#clip040)\" d=\"M 0 0 M78.2374 152.281 L83.1216 152.281 L83.1216 158.16 L78.2374 158.16 L78.2374 152.281 Z\" fill=\"#000000\" fill-rule=\"evenodd\" fill-opacity=\"1\" /><path clip-path=\"url(#clip040)\" d=\"M 0 0 M92.2188 154.225 L108.538 154.225 L108.538 158.16 L86.5938 158.16 L86.5938 154.225 Q89.2558 151.471 93.8391 146.841 Q98.4456 142.188 99.6261 140.846 Q101.871 138.323 102.751 136.587 Q103.654 134.827 103.654 133.137 Q103.654 130.383 101.709 128.647 Q99.7882 126.911 96.6863 126.911 Q94.4873 126.911 92.0336 127.675 Q89.603 128.438 86.8253 129.989 L86.8253 125.267 Q89.6493 124.133 92.103 123.554 Q94.5567 122.975 96.5937 122.975 Q101.964 122.975 105.159 125.661 Q108.353 128.346 108.353 132.837 Q108.353 134.966 107.543 136.887 Q106.756 138.786 104.649 141.378 Q104.071 142.049 100.969 145.267 Q97.8669 148.461 92.2188 154.225 Z\" fill=\"#000000\" fill-rule=\"evenodd\" fill-opacity=\"1\" /><path clip-path=\"url(#clip040)\" d=\"M 0 0 M123.607 126.679 Q119.996 126.679 118.168 130.244 Q116.362 133.786 116.362 140.915 Q116.362 148.022 118.168 151.586 Q119.996 155.128 123.607 155.128 Q127.242 155.128 129.047 151.586 Q130.876 148.022 130.876 140.915 Q130.876 133.786 129.047 130.244 Q127.242 126.679 123.607 126.679 M123.607 122.975 Q129.418 122.975 132.473 127.582 Q135.552 132.165 135.552 140.915 Q135.552 149.642 132.473 154.248 Q129.418 158.832 123.607 158.832 Q117.797 158.832 114.719 154.248 Q111.663 149.642 111.663 140.915 Q111.663 132.165 114.719 127.582 Q117.797 122.975 123.607 122.975 Z\" fill=\"#000000\" fill-rule=\"evenodd\" fill-opacity=\"1\" /><polyline clip-path=\"url(#clip042)\" style=\"stroke:#009af9; stroke-width:4; stroke-opacity:1; fill:none\" points=\"\n",
       "  233.284,1445.72 341.586,1380.47 449.888,1314.58 558.19,1248.03 666.492,1180.81 774.794,1112.92 883.097,1044.35 991.399,975.092 1099.7,905.144 1208,834.496 \n",
       "  1316.3,763.143 1424.61,691.075 1532.91,618.287 1641.21,544.771 1749.51,470.52 1857.82,395.526 1966.12,319.782 2074.42,243.281 2182.72,166.015 2291.02,87.9763 \n",
       "  \n",
       "  \"/>\n",
       "<path clip-path=\"url(#clip042)\" d=\"M233.284 1461.72 L221.972 1457.03 L217.284 1445.72 L221.972 1434.4 L233.284 1429.72 L244.596 1434.4 L249.284 1445.72 L244.596 1457.03 Z\" fill=\"#009af9\" fill-rule=\"evenodd\" fill-opacity=\"1\" stroke=\"#000000\" stroke-opacity=\"1\" stroke-width=\"3.2\"/>\n",
       "<path clip-path=\"url(#clip042)\" d=\"M341.586 1396.47 L330.274 1391.79 L325.586 1380.47 L330.274 1369.16 L341.586 1364.47 L352.898 1369.16 L357.586 1380.47 L352.898 1391.79 Z\" fill=\"#009af9\" fill-rule=\"evenodd\" fill-opacity=\"1\" stroke=\"#000000\" stroke-opacity=\"1\" stroke-width=\"3.2\"/>\n",
       "<path clip-path=\"url(#clip042)\" d=\"M449.888 1330.58 L438.576 1325.89 L433.888 1314.58 L438.576 1303.27 L449.888 1298.58 L461.2 1303.27 L465.888 1314.58 L461.2 1325.89 Z\" fill=\"#009af9\" fill-rule=\"evenodd\" fill-opacity=\"1\" stroke=\"#000000\" stroke-opacity=\"1\" stroke-width=\"3.2\"/>\n",
       "<path clip-path=\"url(#clip042)\" d=\"M558.19 1264.03 L546.878 1259.34 L542.19 1248.03 L546.878 1236.71 L558.19 1232.03 L569.502 1236.71 L574.19 1248.03 L569.502 1259.34 Z\" fill=\"#009af9\" fill-rule=\"evenodd\" fill-opacity=\"1\" stroke=\"#000000\" stroke-opacity=\"1\" stroke-width=\"3.2\"/>\n",
       "<path clip-path=\"url(#clip042)\" d=\"M666.492 1196.81 L655.18 1192.12 L650.492 1180.81 L655.18 1169.5 L666.492 1164.81 L677.804 1169.5 L682.492 1180.81 L677.804 1192.12 Z\" fill=\"#009af9\" fill-rule=\"evenodd\" fill-opacity=\"1\" stroke=\"#000000\" stroke-opacity=\"1\" stroke-width=\"3.2\"/>\n",
       "<path clip-path=\"url(#clip042)\" d=\"M774.794 1128.92 L763.482 1124.23 L758.794 1112.92 L763.482 1101.61 L774.794 1096.92 L786.106 1101.61 L790.794 1112.92 L786.106 1124.23 Z\" fill=\"#009af9\" fill-rule=\"evenodd\" fill-opacity=\"1\" stroke=\"#000000\" stroke-opacity=\"1\" stroke-width=\"3.2\"/>\n",
       "<path clip-path=\"url(#clip042)\" d=\"M883.097 1060.35 L871.785 1055.66 L867.097 1044.35 L871.785 1033.04 L883.097 1028.35 L894.409 1033.04 L899.097 1044.35 L894.409 1055.66 Z\" fill=\"#009af9\" fill-rule=\"evenodd\" fill-opacity=\"1\" stroke=\"#000000\" stroke-opacity=\"1\" stroke-width=\"3.2\"/>\n",
       "<path clip-path=\"url(#clip042)\" d=\"M991.399 991.092 L980.087 986.404 L975.399 975.092 L980.087 963.78 L991.399 959.092 L1002.71 963.78 L1007.4 975.092 L1002.71 986.404 Z\" fill=\"#009af9\" fill-rule=\"evenodd\" fill-opacity=\"1\" stroke=\"#000000\" stroke-opacity=\"1\" stroke-width=\"3.2\"/>\n",
       "<path clip-path=\"url(#clip042)\" d=\"M1099.7 921.144 L1088.39 916.456 L1083.7 905.144 L1088.39 893.832 L1099.7 889.144 L1111.01 893.832 L1115.7 905.144 L1111.01 916.456 Z\" fill=\"#009af9\" fill-rule=\"evenodd\" fill-opacity=\"1\" stroke=\"#000000\" stroke-opacity=\"1\" stroke-width=\"3.2\"/>\n",
       "<path clip-path=\"url(#clip042)\" d=\"M1208 850.496 L1196.69 845.808 L1192 834.496 L1196.69 823.184 L1208 818.496 L1219.31 823.184 L1224 834.496 L1219.31 845.808 Z\" fill=\"#009af9\" fill-rule=\"evenodd\" fill-opacity=\"1\" stroke=\"#000000\" stroke-opacity=\"1\" stroke-width=\"3.2\"/>\n",
       "<path clip-path=\"url(#clip042)\" d=\"M1316.3 779.143 L1304.99 774.455 L1300.3 763.143 L1304.99 751.831 L1316.3 747.143 L1327.62 751.831 L1332.3 763.143 L1327.62 774.455 Z\" fill=\"#009af9\" fill-rule=\"evenodd\" fill-opacity=\"1\" stroke=\"#000000\" stroke-opacity=\"1\" stroke-width=\"3.2\"/>\n",
       "<path clip-path=\"url(#clip042)\" d=\"M1424.61 707.075 L1413.3 702.387 L1408.61 691.075 L1413.3 679.763 L1424.61 675.075 L1435.92 679.763 L1440.61 691.075 L1435.92 702.387 Z\" fill=\"#009af9\" fill-rule=\"evenodd\" fill-opacity=\"1\" stroke=\"#000000\" stroke-opacity=\"1\" stroke-width=\"3.2\"/>\n",
       "<path clip-path=\"url(#clip042)\" d=\"M1532.91 634.287 L1521.6 629.599 L1516.91 618.287 L1521.6 606.975 L1532.91 602.287 L1544.22 606.975 L1548.91 618.287 L1544.22 629.599 Z\" fill=\"#009af9\" fill-rule=\"evenodd\" fill-opacity=\"1\" stroke=\"#000000\" stroke-opacity=\"1\" stroke-width=\"3.2\"/>\n",
       "<path clip-path=\"url(#clip042)\" d=\"M1641.21 560.771 L1629.9 556.083 L1625.21 544.771 L1629.9 533.459 L1641.21 528.771 L1652.52 533.459 L1657.21 544.771 L1652.52 556.083 Z\" fill=\"#009af9\" fill-rule=\"evenodd\" fill-opacity=\"1\" stroke=\"#000000\" stroke-opacity=\"1\" stroke-width=\"3.2\"/>\n",
       "<path clip-path=\"url(#clip042)\" d=\"M1749.51 486.52 L1738.2 481.832 L1733.51 470.52 L1738.2 459.208 L1749.51 454.52 L1760.83 459.208 L1765.51 470.52 L1760.83 481.832 Z\" fill=\"#009af9\" fill-rule=\"evenodd\" fill-opacity=\"1\" stroke=\"#000000\" stroke-opacity=\"1\" stroke-width=\"3.2\"/>\n",
       "<path clip-path=\"url(#clip042)\" d=\"M1857.82 411.526 L1846.5 406.838 L1841.82 395.526 L1846.5 384.214 L1857.82 379.526 L1869.13 384.214 L1873.82 395.526 L1869.13 406.838 Z\" fill=\"#009af9\" fill-rule=\"evenodd\" fill-opacity=\"1\" stroke=\"#000000\" stroke-opacity=\"1\" stroke-width=\"3.2\"/>\n",
       "<path clip-path=\"url(#clip042)\" d=\"M1966.12 335.782 L1954.81 331.094 L1950.12 319.782 L1954.81 308.47 L1966.12 303.782 L1977.43 308.47 L1982.12 319.782 L1977.43 331.094 Z\" fill=\"#009af9\" fill-rule=\"evenodd\" fill-opacity=\"1\" stroke=\"#000000\" stroke-opacity=\"1\" stroke-width=\"3.2\"/>\n",
       "<path clip-path=\"url(#clip042)\" d=\"M2074.42 259.281 L2063.11 254.593 L2058.42 243.281 L2063.11 231.969 L2074.42 227.281 L2085.73 231.969 L2090.42 243.281 L2085.73 254.593 Z\" fill=\"#009af9\" fill-rule=\"evenodd\" fill-opacity=\"1\" stroke=\"#000000\" stroke-opacity=\"1\" stroke-width=\"3.2\"/>\n",
       "<path clip-path=\"url(#clip042)\" d=\"M2182.72 182.015 L2171.41 177.327 L2166.72 166.015 L2171.41 154.703 L2182.72 150.015 L2194.03 154.703 L2198.72 166.015 L2194.03 177.327 Z\" fill=\"#009af9\" fill-rule=\"evenodd\" fill-opacity=\"1\" stroke=\"#000000\" stroke-opacity=\"1\" stroke-width=\"3.2\"/>\n",
       "<path clip-path=\"url(#clip042)\" d=\"M2291.02 103.976 L2279.71 99.2883 L2275.02 87.9763 L2279.71 76.6643 L2291.02 71.9763 L2302.34 76.6643 L2307.02 87.9763 L2302.34 99.2883 Z\" fill=\"#009af9\" fill-rule=\"evenodd\" fill-opacity=\"1\" stroke=\"#000000\" stroke-opacity=\"1\" stroke-width=\"3.2\"/>\n",
       "<path clip-path=\"url(#clip040)\" d=\"\n",
       "M1986.67 216.178 L2280.05 216.178 L2280.05 95.2176 L1986.67 95.2176  Z\n",
       "  \" fill=\"#ffffff\" fill-rule=\"evenodd\" fill-opacity=\"1\"/>\n",
       "<polyline clip-path=\"url(#clip040)\" style=\"stroke:#000000; stroke-width:4; stroke-opacity:1; fill:none\" points=\"\n",
       "  1986.67,216.178 2280.05,216.178 2280.05,95.2176 1986.67,95.2176 1986.67,216.178 \n",
       "  \"/>\n",
       "<polyline clip-path=\"url(#clip040)\" style=\"stroke:#009af9; stroke-width:4; stroke-opacity:1; fill:none\" points=\"\n",
       "  2010.91,155.698 2156.32,155.698 \n",
       "  \"/>\n",
       "<path clip-path=\"url(#clip040)\" d=\"M2083.62 181.298 L2065.52 173.797 L2058.02 155.698 L2065.52 137.598 L2083.62 130.098 L2101.72 137.598 L2109.22 155.698 L2101.72 173.797 Z\" fill=\"#009af9\" fill-rule=\"evenodd\" fill-opacity=\"1\" stroke=\"#000000\" stroke-opacity=\"1\" stroke-width=\"5.12\"/>\n",
       "<path clip-path=\"url(#clip040)\" d=\"M 0 0 M2194.4 175.385 Q2192.6 180.015 2190.88 181.427 Q2189.17 182.839 2186.3 182.839 L2182.9 182.839 L2182.9 179.274 L2185.4 179.274 Q2187.16 179.274 2188.13 178.44 Q2189.1 177.607 2190.28 174.505 L2191.05 172.561 L2180.56 147.052 L2185.07 147.052 L2193.18 167.329 L2201.28 147.052 L2205.79 147.052 L2194.4 175.385 Z\" fill=\"#000000\" fill-rule=\"evenodd\" fill-opacity=\"1\" /><path clip-path=\"url(#clip040)\" d=\"M 0 0 M2211.67 169.042 L2219.31 169.042 L2219.31 142.677 L2211 144.343 L2211 140.084 L2219.26 138.418 L2223.94 138.418 L2223.94 169.042 L2231.58 169.042 L2231.58 172.978 L2211.67 172.978 L2211.67 169.042 Z\" fill=\"#000000\" fill-rule=\"evenodd\" fill-opacity=\"1\" /></svg>\n"
      ]
     },
     "execution_count": 39,
     "metadata": {},
     "output_type": "execute_result"
    }
   ],
   "source": [
    "plot(run_infection(20), m=:o) "
   ]
  },
  {
   "cell_type": "code",
   "execution_count": 40,
   "metadata": {},
   "outputs": [
    {
     "data": {
      "text/html": [
       "<script>\n",
       "// Immediately-invoked-function-expression to avoid global variables.\n",
       "(function() {\n",
       "    var warning_div = document.getElementById(\"webio-warning-2984267527063446675\");\n",
       "    var hide = function () {\n",
       "        var script = document.getElementById(\"webio-setup-9278961802529998064\");\n",
       "        var parent = script && script.parentElement;\n",
       "        var grandparent = parent && parent.parentElement;\n",
       "        if (grandparent) {\n",
       "            grandparent.style.display = \"none\";\n",
       "        }\n",
       "        warning_div.style.display = \"none\";\n",
       "    };\n",
       "    if (typeof Jupyter !== \"undefined\") {\n",
       "        console.log(\"WebIO detected Jupyter notebook environment.\");\n",
       "        // Jupyter notebook.\n",
       "        var extensions = (\n",
       "            Jupyter\n",
       "            && Jupyter.notebook.config.data\n",
       "            && Jupyter.notebook.config.data.load_extensions\n",
       "        );\n",
       "        if (extensions && extensions[\"webio-jupyter-notebook\"]) {\n",
       "            // Extension already loaded.\n",
       "            console.log(\"Jupyter WebIO nbextension detected; not loading ad-hoc.\");\n",
       "            hide();\n",
       "            return;\n",
       "        }\n",
       "    } else if (window.location.pathname.includes(\"/lab\")) {\n",
       "        // Guessing JupyterLa\n",
       "        console.log(\"Jupyter Lab detected; make sure the @webio/jupyter-lab-provider labextension is installed.\");\n",
       "        hide();\n",
       "        return;\n",
       "    }\n",
       "})();\n",
       "\n",
       "</script>\n",
       "<p\n",
       "    id=\"webio-warning-2984267527063446675\"\n",
       "    class=\"output_text output_stderr\"\n",
       "    style=\"padding: 1em; font-weight: bold;\"\n",
       ">\n",
       "    Unable to load WebIO. Please make sure WebIO works for your Jupyter client.\n",
       "    For troubleshooting, please see <a href=\"https://juliagizmos.github.io/WebIO.jl/latest/providers/ijulia/\">\n",
       "    the WebIO/IJulia documentation</a>.\n",
       "    <!-- TODO: link to installation docs. -->\n",
       "</p>\n"
      ],
      "text/plain": [
       "HTML{String}(\"<script>\\n// Immediately-invoked-function-expression to avoid global variables.\\n(function() {\\n    var warning_div = document.getElementById(\\\"webio-warning-2984267527063446675\\\");\\n    var hide = function () {\\n        var script = document.getElementById(\\\"webio-setup-9278961802529998064\\\");\\n        var parent = script && script.parentElement;\\n        var grandparent = parent && parent.parentElement;\\n        if (grandparent) {\\n            grandparent.style.display = \\\"none\\\";\\n        }\\n        warning_div.style.display = \\\"none\\\";\\n    };\\n    if (typeof Jupyter !== \\\"undefined\\\") {\\n        console.log(\\\"WebIO detected Jupyter notebook environment.\\\");\\n        // Jupyter notebook.\\n        var extensions = (\\n            Jupyter\\n            && Jupyter.notebook.config.data\\n            && Jupyter.notebook.config.data.load_extensions\\n        );\\n        if (extensions && extensions[\\\"webio-jupyter-notebook\\\"]) {\\n            // Extension already loaded.\\n            console.log(\\\"Jupyter WebIO nbextension detected; not loading ad-hoc.\\\");\\n            hide();\\n            return;\\n        }\\n    } else if (window.location.pathname.includes(\\\"/lab\\\")) {\\n        // Guessing JupyterLa\\n        console.log(\\\"Jupyter Lab detected; make sure the @webio/jupyter-lab-provider labextension is installed.\\\");\\n        hide();\\n        return;\\n    }\\n})();\\n\\n</script>\\n<p\\n    id=\\\"webio-warning-2984267527063446675\\\"\\n    class=\\\"output_text output_stderr\\\"\\n    style=\\\"padding: 1em; font-weight: bold;\\\"\\n>\\n    Unable to load WebIO. Please make sure WebIO works for your Jupyter client.\\n    For troubleshooting, please see <a href=\\\"https://juliagizmos.github.io/WebIO.jl/latest/providers/ijulia/\\\">\\n    the WebIO/IJulia documentation</a>.\\n    <!-- TODO: link to installation docs. -->\\n</p>\\n\")"
      ]
     },
     "metadata": {},
     "output_type": "display_data"
    }
   ],
   "source": [
    "using Interact"
   ]
  },
  {
   "cell_type": "code",
   "execution_count": 45,
   "metadata": {},
   "outputs": [
    {
     "data": {
      "application/vnd.webio.node+json": {
       "children": [
        {
         "children": [
          {
           "children": [
            {
             "children": [
              {
               "children": [
                {
                 "children": [
                  ""
                 ],
                 "instanceArgs": {
                  "namespace": "html",
                  "tag": "label"
                 },
                 "nodeType": "DOM",
                 "props": {
                  "className": "interact ",
                  "style": {
                   "padding": "5px 10px 0px 10px"
                  }
                 },
                 "type": "node"
                }
               ],
               "instanceArgs": {
                "namespace": "html",
                "tag": "div"
               },
               "nodeType": "DOM",
               "props": {
                "className": "interact-flex-row-left"
               },
               "type": "node"
              },
              {
               "children": [
                {
                 "children": [],
                 "instanceArgs": {
                  "namespace": "html",
                  "tag": "input"
                 },
                 "nodeType": "DOM",
                 "props": {
                  "attributes": {
                   "data-bind": "numericValue: index, valueUpdate: 'input', event: {change: function (){this.changes(this.changes()+1)}}",
                   "orient": "horizontal",
                   "type": "range"
                  },
                  "className": "slider slider is-fullwidth",
                  "max": 1000,
                  "min": 1,
                  "step": 1,
                  "style": {}
                 },
                 "type": "node"
                }
               ],
               "instanceArgs": {
                "namespace": "html",
                "tag": "div"
               },
               "nodeType": "DOM",
               "props": {
                "className": "interact-flex-row-center"
               },
               "type": "node"
              },
              {
               "children": [
                {
                 "children": [],
                 "instanceArgs": {
                  "namespace": "html",
                  "tag": "p"
                 },
                 "nodeType": "DOM",
                 "props": {
                  "attributes": {
                   "data-bind": "text: formatted_val"
                  }
                 },
                 "type": "node"
                }
               ],
               "instanceArgs": {
                "namespace": "html",
                "tag": "div"
               },
               "nodeType": "DOM",
               "props": {
                "className": "interact-flex-row-right"
               },
               "type": "node"
              }
             ],
             "instanceArgs": {
              "namespace": "html",
              "tag": "div"
             },
             "nodeType": "DOM",
             "props": {
              "className": "interact-flex-row interact-widget"
             },
             "type": "node"
            }
           ],
           "instanceArgs": {
            "handlers": {
             "changes": [
              "(function (val){return (val!=this.model[\"changes\"]()) ? (this.valueFromJulia[\"changes\"]=true, this.model[\"changes\"](val)) : undefined})"
             ],
             "index": [
              "(function (val){return (val!=this.model[\"index\"]()) ? (this.valueFromJulia[\"index\"]=true, this.model[\"index\"](val)) : undefined})"
             ]
            },
            "id": "14721937422247612075",
            "imports": {
             "data": [
              {
               "name": "knockout",
               "type": "js",
               "url": "/assetserver/4e15ea8f38f5d33bf0b2930cb09c8089f78b114e-knockout.js"
              },
              {
               "name": "knockout_punches",
               "type": "js",
               "url": "/assetserver/6967e46b2259ea2e5c469b61c410326b52955db7-knockout_punches.js"
              },
              {
               "name": null,
               "type": "js",
               "url": "/assetserver/a643ec32b5fd67f0647ab1f378e6bc75a94bf7ef-all.js"
              },
              {
               "name": null,
               "type": "css",
               "url": "/assetserver/c4a428321098a6b37c6165665184ef1be8f91e08-style.css"
              },
              {
               "name": null,
               "type": "css",
               "url": "/assetserver/62690f06d5dfb4c711812ef88e307907ed9b059b-bulma_confined.min.css"
              }
             ],
             "type": "async_block"
            },
            "mount_callbacks": [
             "function () {\n    var handler = (function (ko, koPunches) {\n    ko.punches.enableAll();\n    ko.bindingHandlers.numericValue = {\n        init: function(element, valueAccessor, allBindings, data, context) {\n            var stringified = ko.observable(ko.unwrap(valueAccessor()));\n            stringified.subscribe(function(value) {\n                var val = parseFloat(value);\n                if (!isNaN(val)) {\n                    valueAccessor()(val);\n                }\n            });\n            valueAccessor().subscribe(function(value) {\n                var str = JSON.stringify(value);\n                if ((str == \"0\") && ([\"-0\", \"-0.\"].indexOf(stringified()) >= 0))\n                     return;\n                 if ([\"null\", \"\"].indexOf(str) >= 0)\n                     return;\n                stringified(str);\n            });\n            ko.applyBindingsToNode(\n                element,\n                {\n                    value: stringified,\n                    valueUpdate: allBindings.get('valueUpdate'),\n                },\n                context,\n            );\n        }\n    };\n    var json_data = {\"formatted_vals\":[\"1\",\"2\",\"3\",\"4\",\"5\",\"6\",\"7\",\"8\",\"9\",\"10\",\"11\",\"12\",\"13\",\"14\",\"15\",\"16\",\"17\",\"18\",\"19\",\"20\",\"21\",\"22\",\"23\",\"24\",\"25\",\"26\",\"27\",\"28\",\"29\",\"30\",\"31\",\"32\",\"33\",\"34\",\"35\",\"36\",\"37\",\"38\",\"39\",\"40\",\"41\",\"42\",\"43\",\"44\",\"45\",\"46\",\"47\",\"48\",\"49\",\"50\",\"51\",\"52\",\"53\",\"54\",\"55\",\"56\",\"57\",\"58\",\"59\",\"60\",\"61\",\"62\",\"63\",\"64\",\"65\",\"66\",\"67\",\"68\",\"69\",\"70\",\"71\",\"72\",\"73\",\"74\",\"75\",\"76\",\"77\",\"78\",\"79\",\"80\",\"81\",\"82\",\"83\",\"84\",\"85\",\"86\",\"87\",\"88\",\"89\",\"90\",\"91\",\"92\",\"93\",\"94\",\"95\",\"96\",\"97\",\"98\",\"99\",\"100\",\"101\",\"102\",\"103\",\"104\",\"105\",\"106\",\"107\",\"108\",\"109\",\"110\",\"111\",\"112\",\"113\",\"114\",\"115\",\"116\",\"117\",\"118\",\"119\",\"120\",\"121\",\"122\",\"123\",\"124\",\"125\",\"126\",\"127\",\"128\",\"129\",\"130\",\"131\",\"132\",\"133\",\"134\",\"135\",\"136\",\"137\",\"138\",\"139\",\"140\",\"141\",\"142\",\"143\",\"144\",\"145\",\"146\",\"147\",\"148\",\"149\",\"150\",\"151\",\"152\",\"153\",\"154\",\"155\",\"156\",\"157\",\"158\",\"159\",\"160\",\"161\",\"162\",\"163\",\"164\",\"165\",\"166\",\"167\",\"168\",\"169\",\"170\",\"171\",\"172\",\"173\",\"174\",\"175\",\"176\",\"177\",\"178\",\"179\",\"180\",\"181\",\"182\",\"183\",\"184\",\"185\",\"186\",\"187\",\"188\",\"189\",\"190\",\"191\",\"192\",\"193\",\"194\",\"195\",\"196\",\"197\",\"198\",\"199\",\"200\",\"201\",\"202\",\"203\",\"204\",\"205\",\"206\",\"207\",\"208\",\"209\",\"210\",\"211\",\"212\",\"213\",\"214\",\"215\",\"216\",\"217\",\"218\",\"219\",\"220\",\"221\",\"222\",\"223\",\"224\",\"225\",\"226\",\"227\",\"228\",\"229\",\"230\",\"231\",\"232\",\"233\",\"234\",\"235\",\"236\",\"237\",\"238\",\"239\",\"240\",\"241\",\"242\",\"243\",\"244\",\"245\",\"246\",\"247\",\"248\",\"249\",\"250\",\"251\",\"252\",\"253\",\"254\",\"255\",\"256\",\"257\",\"258\",\"259\",\"260\",\"261\",\"262\",\"263\",\"264\",\"265\",\"266\",\"267\",\"268\",\"269\",\"270\",\"271\",\"272\",\"273\",\"274\",\"275\",\"276\",\"277\",\"278\",\"279\",\"280\",\"281\",\"282\",\"283\",\"284\",\"285\",\"286\",\"287\",\"288\",\"289\",\"290\",\"291\",\"292\",\"293\",\"294\",\"295\",\"296\",\"297\",\"298\",\"299\",\"300\",\"301\",\"302\",\"303\",\"304\",\"305\",\"306\",\"307\",\"308\",\"309\",\"310\",\"311\",\"312\",\"313\",\"314\",\"315\",\"316\",\"317\",\"318\",\"319\",\"320\",\"321\",\"322\",\"323\",\"324\",\"325\",\"326\",\"327\",\"328\",\"329\",\"330\",\"331\",\"332\",\"333\",\"334\",\"335\",\"336\",\"337\",\"338\",\"339\",\"340\",\"341\",\"342\",\"343\",\"344\",\"345\",\"346\",\"347\",\"348\",\"349\",\"350\",\"351\",\"352\",\"353\",\"354\",\"355\",\"356\",\"357\",\"358\",\"359\",\"360\",\"361\",\"362\",\"363\",\"364\",\"365\",\"366\",\"367\",\"368\",\"369\",\"370\",\"371\",\"372\",\"373\",\"374\",\"375\",\"376\",\"377\",\"378\",\"379\",\"380\",\"381\",\"382\",\"383\",\"384\",\"385\",\"386\",\"387\",\"388\",\"389\",\"390\",\"391\",\"392\",\"393\",\"394\",\"395\",\"396\",\"397\",\"398\",\"399\",\"400\",\"401\",\"402\",\"403\",\"404\",\"405\",\"406\",\"407\",\"408\",\"409\",\"410\",\"411\",\"412\",\"413\",\"414\",\"415\",\"416\",\"417\",\"418\",\"419\",\"420\",\"421\",\"422\",\"423\",\"424\",\"425\",\"426\",\"427\",\"428\",\"429\",\"430\",\"431\",\"432\",\"433\",\"434\",\"435\",\"436\",\"437\",\"438\",\"439\",\"440\",\"441\",\"442\",\"443\",\"444\",\"445\",\"446\",\"447\",\"448\",\"449\",\"450\",\"451\",\"452\",\"453\",\"454\",\"455\",\"456\",\"457\",\"458\",\"459\",\"460\",\"461\",\"462\",\"463\",\"464\",\"465\",\"466\",\"467\",\"468\",\"469\",\"470\",\"471\",\"472\",\"473\",\"474\",\"475\",\"476\",\"477\",\"478\",\"479\",\"480\",\"481\",\"482\",\"483\",\"484\",\"485\",\"486\",\"487\",\"488\",\"489\",\"490\",\"491\",\"492\",\"493\",\"494\",\"495\",\"496\",\"497\",\"498\",\"499\",\"500\",\"501\",\"502\",\"503\",\"504\",\"505\",\"506\",\"507\",\"508\",\"509\",\"510\",\"511\",\"512\",\"513\",\"514\",\"515\",\"516\",\"517\",\"518\",\"519\",\"520\",\"521\",\"522\",\"523\",\"524\",\"525\",\"526\",\"527\",\"528\",\"529\",\"530\",\"531\",\"532\",\"533\",\"534\",\"535\",\"536\",\"537\",\"538\",\"539\",\"540\",\"541\",\"542\",\"543\",\"544\",\"545\",\"546\",\"547\",\"548\",\"549\",\"550\",\"551\",\"552\",\"553\",\"554\",\"555\",\"556\",\"557\",\"558\",\"559\",\"560\",\"561\",\"562\",\"563\",\"564\",\"565\",\"566\",\"567\",\"568\",\"569\",\"570\",\"571\",\"572\",\"573\",\"574\",\"575\",\"576\",\"577\",\"578\",\"579\",\"580\",\"581\",\"582\",\"583\",\"584\",\"585\",\"586\",\"587\",\"588\",\"589\",\"590\",\"591\",\"592\",\"593\",\"594\",\"595\",\"596\",\"597\",\"598\",\"599\",\"600\",\"601\",\"602\",\"603\",\"604\",\"605\",\"606\",\"607\",\"608\",\"609\",\"610\",\"611\",\"612\",\"613\",\"614\",\"615\",\"616\",\"617\",\"618\",\"619\",\"620\",\"621\",\"622\",\"623\",\"624\",\"625\",\"626\",\"627\",\"628\",\"629\",\"630\",\"631\",\"632\",\"633\",\"634\",\"635\",\"636\",\"637\",\"638\",\"639\",\"640\",\"641\",\"642\",\"643\",\"644\",\"645\",\"646\",\"647\",\"648\",\"649\",\"650\",\"651\",\"652\",\"653\",\"654\",\"655\",\"656\",\"657\",\"658\",\"659\",\"660\",\"661\",\"662\",\"663\",\"664\",\"665\",\"666\",\"667\",\"668\",\"669\",\"670\",\"671\",\"672\",\"673\",\"674\",\"675\",\"676\",\"677\",\"678\",\"679\",\"680\",\"681\",\"682\",\"683\",\"684\",\"685\",\"686\",\"687\",\"688\",\"689\",\"690\",\"691\",\"692\",\"693\",\"694\",\"695\",\"696\",\"697\",\"698\",\"699\",\"700\",\"701\",\"702\",\"703\",\"704\",\"705\",\"706\",\"707\",\"708\",\"709\",\"710\",\"711\",\"712\",\"713\",\"714\",\"715\",\"716\",\"717\",\"718\",\"719\",\"720\",\"721\",\"722\",\"723\",\"724\",\"725\",\"726\",\"727\",\"728\",\"729\",\"730\",\"731\",\"732\",\"733\",\"734\",\"735\",\"736\",\"737\",\"738\",\"739\",\"740\",\"741\",\"742\",\"743\",\"744\",\"745\",\"746\",\"747\",\"748\",\"749\",\"750\",\"751\",\"752\",\"753\",\"754\",\"755\",\"756\",\"757\",\"758\",\"759\",\"760\",\"761\",\"762\",\"763\",\"764\",\"765\",\"766\",\"767\",\"768\",\"769\",\"770\",\"771\",\"772\",\"773\",\"774\",\"775\",\"776\",\"777\",\"778\",\"779\",\"780\",\"781\",\"782\",\"783\",\"784\",\"785\",\"786\",\"787\",\"788\",\"789\",\"790\",\"791\",\"792\",\"793\",\"794\",\"795\",\"796\",\"797\",\"798\",\"799\",\"800\",\"801\",\"802\",\"803\",\"804\",\"805\",\"806\",\"807\",\"808\",\"809\",\"810\",\"811\",\"812\",\"813\",\"814\",\"815\",\"816\",\"817\",\"818\",\"819\",\"820\",\"821\",\"822\",\"823\",\"824\",\"825\",\"826\",\"827\",\"828\",\"829\",\"830\",\"831\",\"832\",\"833\",\"834\",\"835\",\"836\",\"837\",\"838\",\"839\",\"840\",\"841\",\"842\",\"843\",\"844\",\"845\",\"846\",\"847\",\"848\",\"849\",\"850\",\"851\",\"852\",\"853\",\"854\",\"855\",\"856\",\"857\",\"858\",\"859\",\"860\",\"861\",\"862\",\"863\",\"864\",\"865\",\"866\",\"867\",\"868\",\"869\",\"870\",\"871\",\"872\",\"873\",\"874\",\"875\",\"876\",\"877\",\"878\",\"879\",\"880\",\"881\",\"882\",\"883\",\"884\",\"885\",\"886\",\"887\",\"888\",\"889\",\"890\",\"891\",\"892\",\"893\",\"894\",\"895\",\"896\",\"897\",\"898\",\"899\",\"900\",\"901\",\"902\",\"903\",\"904\",\"905\",\"906\",\"907\",\"908\",\"909\",\"910\",\"911\",\"912\",\"913\",\"914\",\"915\",\"916\",\"917\",\"918\",\"919\",\"920\",\"921\",\"922\",\"923\",\"924\",\"925\",\"926\",\"927\",\"928\",\"929\",\"930\",\"931\",\"932\",\"933\",\"934\",\"935\",\"936\",\"937\",\"938\",\"939\",\"940\",\"941\",\"942\",\"943\",\"944\",\"945\",\"946\",\"947\",\"948\",\"949\",\"950\",\"951\",\"952\",\"953\",\"954\",\"955\",\"956\",\"957\",\"958\",\"959\",\"960\",\"961\",\"962\",\"963\",\"964\",\"965\",\"966\",\"967\",\"968\",\"969\",\"970\",\"971\",\"972\",\"973\",\"974\",\"975\",\"976\",\"977\",\"978\",\"979\",\"980\",\"981\",\"982\",\"983\",\"984\",\"985\",\"986\",\"987\",\"988\",\"989\",\"990\",\"991\",\"992\",\"993\",\"994\",\"995\",\"996\",\"997\",\"998\",\"999\",\"1000\"],\"changes\":WebIO.getval({\"name\":\"changes\",\"scope\":\"14721937422247612075\",\"id\":\"18421728926803028525\",\"type\":\"observable\"}),\"index\":WebIO.getval({\"name\":\"index\",\"scope\":\"14721937422247612075\",\"id\":\"13697678738429543450\",\"type\":\"observable\"})};\n    var self = this;\n    function AppViewModel() {\n        for (var key in json_data) {\n            var el = json_data[key];\n            this[key] = Array.isArray(el) ? ko.observableArray(el) : ko.observable(el);\n        }\n        \n        [this[\"formatted_val\"]=ko.computed(    function(){\n        return this.formatted_vals()[parseInt(this.index())-(1)];\n    }\n,this)]\n        [this[\"changes\"].subscribe((function (val){!(this.valueFromJulia[\"changes\"]) ? (WebIO.setval({\"name\":\"changes\",\"scope\":\"14721937422247612075\",\"id\":\"18421728926803028525\",\"type\":\"observable\"},val)) : undefined; return this.valueFromJulia[\"changes\"]=false}),self),this[\"index\"].subscribe((function (val){!(this.valueFromJulia[\"index\"]) ? (WebIO.setval({\"name\":\"index\",\"scope\":\"14721937422247612075\",\"id\":\"13697678738429543450\",\"type\":\"observable\"},val)) : undefined; return this.valueFromJulia[\"index\"]=false}),self)]\n        \n    }\n    self.model = new AppViewModel();\n    self.valueFromJulia = {};\n    for (var key in json_data) {\n        self.valueFromJulia[key] = false;\n    }\n    ko.applyBindings(self.model, self.dom);\n}\n);\n    (WebIO.importBlock({\"data\":[{\"name\":\"knockout\",\"type\":\"js\",\"url\":\"/assetserver/4e15ea8f38f5d33bf0b2930cb09c8089f78b114e-knockout.js\"},{\"name\":\"knockout_punches\",\"type\":\"js\",\"url\":\"/assetserver/6967e46b2259ea2e5c469b61c410326b52955db7-knockout_punches.js\"}],\"type\":\"async_block\"})).then((imports) => handler.apply(this, imports));\n}\n"
            ],
            "observables": {
             "changes": {
              "id": "18421728926803028525",
              "sync": false,
              "value": 0
             },
             "index": {
              "id": "13697678738429543450",
              "sync": true,
              "value": 1
             }
            },
            "systemjs_options": null
           },
           "nodeType": "Scope",
           "props": {},
           "type": "node"
          }
         ],
         "instanceArgs": {
          "namespace": "html",
          "tag": "div"
         },
         "nodeType": "DOM",
         "props": {
          "className": "field interact-widget"
         },
         "type": "node"
        },
        {
         "children": [
          {
           "children": [],
           "instanceArgs": {
            "id": "530637358498661086",
            "name": "obs-node"
           },
           "nodeType": "ObservableNode",
           "props": {},
           "type": "node"
          }
         ],
         "instanceArgs": {
          "handlers": {},
          "id": "9141706316117726684",
          "imports": {
           "data": [],
           "type": "async_block"
          },
          "mount_callbacks": [],
          "observables": {
           "obs-node": {
            "id": "530637358498661086",
            "sync": false,
            "value": {
             "children": [
              {
               "children": [],
               "instanceArgs": {
                "namespace": "html",
                "tag": "div"
               },
               "nodeType": "DOM",
               "props": {
                "setInnerHtml": "<?xml version=\"1.0\" encoding=\"utf-8\"?>\n<svg xmlns=\"http://www.w3.org/2000/svg\" xmlns:xlink=\"http://www.w3.org/1999/xlink\" width=\"600\" height=\"400\" viewBox=\"0 0 2400 1600\">\n<defs>\n  <clipPath id=\"clip880\">\n    <rect x=\"0\" y=\"0\" width=\"2400\" height=\"1600\"/>\n  </clipPath>\n</defs>\n<path clip-path=\"url(#clip880)\" d=\"\nM0 1600 L2400 1600 L2400 0 L0 0  Z\n  \" fill=\"#ffffff\" fill-rule=\"evenodd\" fill-opacity=\"1\"/>\n<defs>\n  <clipPath id=\"clip881\">\n    <rect x=\"480\" y=\"0\" width=\"1681\" height=\"1600\"/>\n  </clipPath>\n</defs>\n<path clip-path=\"url(#clip880)\" d=\"\nM134.584 1486.45 L2352.76 1486.45 L2352.76 47.2441 L134.584 47.2441  Z\n  \" fill=\"#ffffff\" fill-rule=\"evenodd\" fill-opacity=\"1\"/>\n<defs>\n  <clipPath id=\"clip882\">\n    <rect x=\"134\" y=\"47\" width=\"2219\" height=\"1440\"/>\n  </clipPath>\n</defs>\n<polyline clip-path=\"url(#clip882)\" style=\"stroke:#000000; stroke-width:2; stroke-opacity:0.1; fill:none\" points=\"\n  134.584,1486.45 134.584,47.2441 \n  \"/>\n<polyline clip-path=\"url(#clip882)\" style=\"stroke:#000000; stroke-width:2; stroke-opacity:0.1; fill:none\" points=\"\n  578.219,1486.45 578.219,47.2441 \n  \"/>\n<polyline clip-path=\"url(#clip882)\" style=\"stroke:#000000; stroke-width:2; stroke-opacity:0.1; fill:none\" points=\"\n  1021.85,1486.45 1021.85,47.2441 \n  \"/>\n<polyline clip-path=\"url(#clip882)\" style=\"stroke:#000000; stroke-width:2; stroke-opacity:0.1; fill:none\" points=\"\n  1465.49,1486.45 1465.49,47.2441 \n  \"/>\n<polyline clip-path=\"url(#clip882)\" style=\"stroke:#000000; stroke-width:2; stroke-opacity:0.1; fill:none\" points=\"\n  1909.12,1486.45 1909.12,47.2441 \n  \"/>\n<polyline clip-path=\"url(#clip882)\" style=\"stroke:#000000; stroke-width:2; stroke-opacity:0.1; fill:none\" points=\"\n  2352.76,1486.45 2352.76,47.2441 \n  \"/>\n<polyline clip-path=\"url(#clip880)\" style=\"stroke:#000000; stroke-width:4; stroke-opacity:1; fill:none\" points=\"\n  134.584,1486.45 2352.76,1486.45 \n  \"/>\n<polyline clip-path=\"url(#clip880)\" style=\"stroke:#000000; stroke-width:4; stroke-opacity:1; fill:none\" points=\"\n  134.584,1486.45 134.584,1469.18 \n  \"/>\n<polyline clip-path=\"url(#clip880)\" style=\"stroke:#000000; stroke-width:4; stroke-opacity:1; fill:none\" points=\"\n  578.219,1486.45 578.219,1469.18 \n  \"/>\n<polyline clip-path=\"url(#clip880)\" style=\"stroke:#000000; stroke-width:4; stroke-opacity:1; fill:none\" points=\"\n  1021.85,1486.45 1021.85,1469.18 \n  \"/>\n<polyline clip-path=\"url(#clip880)\" style=\"stroke:#000000; stroke-width:4; stroke-opacity:1; fill:none\" points=\"\n  1465.49,1486.45 1465.49,1469.18 \n  \"/>\n<polyline clip-path=\"url(#clip880)\" style=\"stroke:#000000; stroke-width:4; stroke-opacity:1; fill:none\" points=\"\n  1909.12,1486.45 1909.12,1469.18 \n  \"/>\n<polyline clip-path=\"url(#clip880)\" style=\"stroke:#000000; stroke-width:4; stroke-opacity:1; fill:none\" points=\"\n  2352.76,1486.45 2352.76,1469.18 \n  \"/>\n<path clip-path=\"url(#clip880)\" d=\"M 0 0 M134.584 1515.64 Q130.973 1515.64 129.145 1519.2 Q127.339 1522.75 127.339 1529.87 Q127.339 1536.98 129.145 1540.55 Q130.973 1544.09 134.584 1544.09 Q138.219 1544.09 140.024 1540.55 Q141.853 1536.98 141.853 1529.87 Q141.853 1522.75 140.024 1519.2 Q138.219 1515.64 134.584 1515.64 M134.584 1511.93 Q140.395 1511.93 143.45 1516.54 Q146.529 1521.12 146.529 1529.87 Q146.529 1538.6 143.45 1543.21 Q140.395 1547.79 134.584 1547.79 Q128.774 1547.79 125.696 1543.21 Q122.64 1538.6 122.64 1529.87 Q122.64 1521.12 125.696 1516.54 Q128.774 1511.93 134.584 1511.93 Z\" fill=\"#000000\" fill-rule=\"evenodd\" fill-opacity=\"1\" /><path clip-path=\"url(#clip880)\" d=\"M 0 0 M545.858 1543.18 L562.177 1543.18 L562.177 1547.12 L540.233 1547.12 L540.233 1543.18 Q542.895 1540.43 547.478 1535.8 Q552.085 1531.15 553.265 1529.81 Q555.511 1527.28 556.39 1525.55 Q557.293 1523.79 557.293 1522.1 Q557.293 1519.34 555.349 1517.61 Q553.427 1515.87 550.325 1515.87 Q548.126 1515.87 545.673 1516.63 Q543.242 1517.4 540.464 1518.95 L540.464 1514.23 Q543.288 1513.09 545.742 1512.51 Q548.196 1511.93 550.233 1511.93 Q555.603 1511.93 558.798 1514.62 Q561.992 1517.31 561.992 1521.8 Q561.992 1523.93 561.182 1525.85 Q560.395 1527.74 558.288 1530.34 Q557.71 1531.01 554.608 1534.23 Q551.506 1537.42 545.858 1543.18 Z\" fill=\"#000000\" fill-rule=\"evenodd\" fill-opacity=\"1\" /><path clip-path=\"url(#clip880)\" d=\"M 0 0 M577.247 1515.64 Q573.635 1515.64 571.807 1519.2 Q570.001 1522.75 570.001 1529.87 Q570.001 1536.98 571.807 1540.55 Q573.635 1544.09 577.247 1544.09 Q580.881 1544.09 582.686 1540.55 Q584.515 1536.98 584.515 1529.87 Q584.515 1522.75 582.686 1519.2 Q580.881 1515.64 577.247 1515.64 M577.247 1511.93 Q583.057 1511.93 586.112 1516.54 Q589.191 1521.12 589.191 1529.87 Q589.191 1538.6 586.112 1543.21 Q583.057 1547.79 577.247 1547.79 Q571.436 1547.79 568.358 1543.21 Q565.302 1538.6 565.302 1529.87 Q565.302 1521.12 568.358 1516.54 Q571.436 1511.93 577.247 1511.93 Z\" fill=\"#000000\" fill-rule=\"evenodd\" fill-opacity=\"1\" /><path clip-path=\"url(#clip880)\" d=\"M 0 0 M604.26 1515.64 Q600.649 1515.64 598.82 1519.2 Q597.015 1522.75 597.015 1529.87 Q597.015 1536.98 598.82 1540.55 Q600.649 1544.09 604.26 1544.09 Q607.895 1544.09 609.7 1540.55 Q611.529 1536.98 611.529 1529.87 Q611.529 1522.75 609.7 1519.2 Q607.895 1515.64 604.26 1515.64 M604.26 1511.93 Q610.07 1511.93 613.126 1516.54 Q616.205 1521.12 616.205 1529.87 Q616.205 1538.6 613.126 1543.21 Q610.07 1547.79 604.26 1547.79 Q598.45 1547.79 595.371 1543.21 Q592.316 1538.6 592.316 1529.87 Q592.316 1521.12 595.371 1516.54 Q598.45 1511.93 604.26 1511.93 Z\" fill=\"#000000\" fill-rule=\"evenodd\" fill-opacity=\"1\" /><path clip-path=\"url(#clip880)\" d=\"M 0 0 M997.849 1516.63 L986.043 1535.08 L997.849 1535.08 L997.849 1516.63 M996.622 1512.56 L1002.5 1512.56 L1002.5 1535.08 L1007.43 1535.08 L1007.43 1538.97 L1002.5 1538.97 L1002.5 1547.12 L997.849 1547.12 L997.849 1538.97 L982.247 1538.97 L982.247 1534.46 L996.622 1512.56 Z\" fill=\"#000000\" fill-rule=\"evenodd\" fill-opacity=\"1\" /><path clip-path=\"url(#clip880)\" d=\"M 0 0 M1022.5 1515.64 Q1018.89 1515.64 1017.06 1519.2 Q1015.26 1522.75 1015.26 1529.87 Q1015.26 1536.98 1017.06 1540.55 Q1018.89 1544.09 1022.5 1544.09 Q1026.14 1544.09 1027.94 1540.55 Q1029.77 1536.98 1029.77 1529.87 Q1029.77 1522.75 1027.94 1519.2 Q1026.14 1515.64 1022.5 1515.64 M1022.5 1511.93 Q1028.31 1511.93 1031.37 1516.54 Q1034.45 1521.12 1034.45 1529.87 Q1034.45 1538.6 1031.37 1543.21 Q1028.31 1547.79 1022.5 1547.79 Q1016.69 1547.79 1013.61 1543.21 Q1010.56 1538.6 1010.56 1529.87 Q1010.56 1521.12 1013.61 1516.54 Q1016.69 1511.93 1022.5 1511.93 Z\" fill=\"#000000\" fill-rule=\"evenodd\" fill-opacity=\"1\" /><path clip-path=\"url(#clip880)\" d=\"M 0 0 M1049.51 1515.64 Q1045.9 1515.64 1044.08 1519.2 Q1042.27 1522.75 1042.27 1529.87 Q1042.27 1536.98 1044.08 1540.55 Q1045.9 1544.09 1049.51 1544.09 Q1053.15 1544.09 1054.95 1540.55 Q1056.78 1536.98 1056.78 1529.87 Q1056.78 1522.75 1054.95 1519.2 Q1053.15 1515.64 1049.51 1515.64 M1049.51 1511.93 Q1055.33 1511.93 1058.38 1516.54 Q1061.46 1521.12 1061.46 1529.87 Q1061.46 1538.6 1058.38 1543.21 Q1055.33 1547.79 1049.51 1547.79 Q1043.7 1547.79 1040.63 1543.21 Q1037.57 1538.6 1037.57 1529.87 Q1037.57 1521.12 1040.63 1516.54 Q1043.7 1511.93 1049.51 1511.93 Z\" fill=\"#000000\" fill-rule=\"evenodd\" fill-opacity=\"1\" /><path clip-path=\"url(#clip880)\" d=\"M 0 0 M1438.88 1527.98 Q1435.73 1527.98 1433.88 1530.13 Q1432.05 1532.28 1432.05 1536.03 Q1432.05 1539.76 1433.88 1541.93 Q1435.73 1544.09 1438.88 1544.09 Q1442.03 1544.09 1443.86 1541.93 Q1445.71 1539.76 1445.71 1536.03 Q1445.71 1532.28 1443.86 1530.13 Q1442.03 1527.98 1438.88 1527.98 M1448.16 1513.32 L1448.16 1517.58 Q1446.4 1516.75 1444.6 1516.31 Q1442.81 1515.87 1441.05 1515.87 Q1436.42 1515.87 1433.97 1519 Q1431.54 1522.12 1431.19 1528.44 Q1432.56 1526.43 1434.62 1525.36 Q1436.68 1524.27 1439.16 1524.27 Q1444.36 1524.27 1447.37 1527.44 Q1450.41 1530.59 1450.41 1536.03 Q1450.41 1541.36 1447.26 1544.57 Q1444.11 1547.79 1438.88 1547.79 Q1432.88 1547.79 1429.71 1543.21 Q1426.54 1538.6 1426.54 1529.87 Q1426.54 1521.68 1430.43 1516.82 Q1434.32 1511.93 1440.87 1511.93 Q1442.63 1511.93 1444.41 1512.28 Q1446.22 1512.63 1448.16 1513.32 Z\" fill=\"#000000\" fill-rule=\"evenodd\" fill-opacity=\"1\" /><path clip-path=\"url(#clip880)\" d=\"M 0 0 M1465.48 1515.64 Q1461.86 1515.64 1460.04 1519.2 Q1458.23 1522.75 1458.23 1529.87 Q1458.23 1536.98 1460.04 1540.55 Q1461.86 1544.09 1465.48 1544.09 Q1469.11 1544.09 1470.92 1540.55 Q1472.74 1536.98 1472.74 1529.87 Q1472.74 1522.75 1470.92 1519.2 Q1469.11 1515.64 1465.48 1515.64 M1465.48 1511.93 Q1471.29 1511.93 1474.34 1516.54 Q1477.42 1521.12 1477.42 1529.87 Q1477.42 1538.6 1474.34 1543.21 Q1471.29 1547.79 1465.48 1547.79 Q1459.67 1547.79 1456.59 1543.21 Q1453.53 1538.6 1453.53 1529.87 Q1453.53 1521.12 1456.59 1516.54 Q1459.67 1511.93 1465.48 1511.93 Z\" fill=\"#000000\" fill-rule=\"evenodd\" fill-opacity=\"1\" /><path clip-path=\"url(#clip880)\" d=\"M 0 0 M1492.49 1515.64 Q1488.88 1515.64 1487.05 1519.2 Q1485.24 1522.75 1485.24 1529.87 Q1485.24 1536.98 1487.05 1540.55 Q1488.88 1544.09 1492.49 1544.09 Q1496.12 1544.09 1497.93 1540.55 Q1499.76 1536.98 1499.76 1529.87 Q1499.76 1522.75 1497.93 1519.2 Q1496.12 1515.64 1492.49 1515.64 M1492.49 1511.93 Q1498.3 1511.93 1501.36 1516.54 Q1504.43 1521.12 1504.43 1529.87 Q1504.43 1538.6 1501.36 1543.21 Q1498.3 1547.79 1492.49 1547.79 Q1486.68 1547.79 1483.6 1543.21 Q1480.55 1538.6 1480.55 1529.87 Q1480.55 1521.12 1483.6 1516.54 Q1486.68 1511.93 1492.49 1511.93 Z\" fill=\"#000000\" fill-rule=\"evenodd\" fill-opacity=\"1\" /><path clip-path=\"url(#clip880)\" d=\"M 0 0 M1882.11 1530.71 Q1878.77 1530.71 1876.85 1532.49 Q1874.96 1534.27 1874.96 1537.4 Q1874.96 1540.52 1876.85 1542.31 Q1878.77 1544.09 1882.11 1544.09 Q1885.44 1544.09 1887.36 1542.31 Q1889.28 1540.5 1889.28 1537.4 Q1889.28 1534.27 1887.36 1532.49 Q1885.46 1530.71 1882.11 1530.71 M1877.43 1528.72 Q1874.42 1527.98 1872.73 1525.92 Q1871.07 1523.86 1871.07 1520.89 Q1871.07 1516.75 1874.01 1514.34 Q1876.97 1511.93 1882.11 1511.93 Q1887.27 1511.93 1890.21 1514.34 Q1893.15 1516.75 1893.15 1520.89 Q1893.15 1523.86 1891.46 1525.92 Q1889.79 1527.98 1886.81 1528.72 Q1890.19 1529.5 1892.06 1531.8 Q1893.96 1534.09 1893.96 1537.4 Q1893.96 1542.42 1890.88 1545.11 Q1887.83 1547.79 1882.11 1547.79 Q1876.39 1547.79 1873.31 1545.11 Q1870.26 1542.42 1870.26 1537.4 Q1870.26 1534.09 1872.15 1531.8 Q1874.05 1529.5 1877.43 1528.72 M1875.72 1521.33 Q1875.72 1524.02 1877.39 1525.52 Q1879.08 1527.03 1882.11 1527.03 Q1885.12 1527.03 1886.81 1525.52 Q1888.52 1524.02 1888.52 1521.33 Q1888.52 1518.65 1886.81 1517.14 Q1885.12 1515.64 1882.11 1515.64 Q1879.08 1515.64 1877.39 1517.14 Q1875.72 1518.65 1875.72 1521.33 Z\" fill=\"#000000\" fill-rule=\"evenodd\" fill-opacity=\"1\" /><path clip-path=\"url(#clip880)\" d=\"M 0 0 M1909.03 1515.64 Q1905.42 1515.64 1903.59 1519.2 Q1901.78 1522.75 1901.78 1529.87 Q1901.78 1536.98 1903.59 1540.55 Q1905.42 1544.09 1909.03 1544.09 Q1912.66 1544.09 1914.47 1540.55 Q1916.3 1536.98 1916.3 1529.87 Q1916.3 1522.75 1914.47 1519.2 Q1912.66 1515.64 1909.03 1515.64 M1909.03 1511.93 Q1914.84 1511.93 1917.89 1516.54 Q1920.97 1521.12 1920.97 1529.87 Q1920.97 1538.6 1917.89 1543.21 Q1914.84 1547.79 1909.03 1547.79 Q1903.22 1547.79 1900.14 1543.21 Q1897.08 1538.6 1897.08 1529.87 Q1897.08 1521.12 1900.14 1516.54 Q1903.22 1511.93 1909.03 1511.93 Z\" fill=\"#000000\" fill-rule=\"evenodd\" fill-opacity=\"1\" /><path clip-path=\"url(#clip880)\" d=\"M 0 0 M1936.04 1515.64 Q1932.43 1515.64 1930.6 1519.2 Q1928.8 1522.75 1928.8 1529.87 Q1928.8 1536.98 1930.6 1540.55 Q1932.43 1544.09 1936.04 1544.09 Q1939.68 1544.09 1941.48 1540.55 Q1943.31 1536.98 1943.31 1529.87 Q1943.31 1522.75 1941.48 1519.2 Q1939.68 1515.64 1936.04 1515.64 M1936.04 1511.93 Q1941.85 1511.93 1944.91 1516.54 Q1947.99 1521.12 1947.99 1529.87 Q1947.99 1538.6 1944.91 1543.21 Q1941.85 1547.79 1936.04 1547.79 Q1930.23 1547.79 1927.15 1543.21 Q1924.1 1538.6 1924.1 1529.87 Q1924.1 1521.12 1927.15 1516.54 Q1930.23 1511.93 1936.04 1511.93 Z\" fill=\"#000000\" fill-rule=\"evenodd\" fill-opacity=\"1\" /><path clip-path=\"url(#clip880)\" d=\"M 0 0 M2302.62 1543.18 L2310.26 1543.18 L2310.26 1516.82 L2301.95 1518.49 L2301.95 1514.23 L2310.21 1512.56 L2314.89 1512.56 L2314.89 1543.18 L2322.52 1543.18 L2322.52 1547.12 L2302.62 1547.12 L2302.62 1543.18 Z\" fill=\"#000000\" fill-rule=\"evenodd\" fill-opacity=\"1\" /><path clip-path=\"url(#clip880)\" d=\"M 0 0 M2337.59 1515.64 Q2333.98 1515.64 2332.15 1519.2 Q2330.35 1522.75 2330.35 1529.87 Q2330.35 1536.98 2332.15 1540.55 Q2333.98 1544.09 2337.59 1544.09 Q2341.23 1544.09 2343.03 1540.55 Q2344.86 1536.98 2344.86 1529.87 Q2344.86 1522.75 2343.03 1519.2 Q2341.23 1515.64 2337.59 1515.64 M2337.59 1511.93 Q2343.4 1511.93 2346.46 1516.54 Q2349.54 1521.12 2349.54 1529.87 Q2349.54 1538.6 2346.46 1543.21 Q2343.4 1547.79 2337.59 1547.79 Q2331.78 1547.79 2328.71 1543.21 Q2325.65 1538.6 2325.65 1529.87 Q2325.65 1521.12 2328.71 1516.54 Q2331.78 1511.93 2337.59 1511.93 Z\" fill=\"#000000\" fill-rule=\"evenodd\" fill-opacity=\"1\" /><path clip-path=\"url(#clip880)\" d=\"M 0 0 M2364.61 1515.64 Q2361 1515.64 2359.17 1519.2 Q2357.36 1522.75 2357.36 1529.87 Q2357.36 1536.98 2359.17 1540.55 Q2361 1544.09 2364.61 1544.09 Q2368.24 1544.09 2370.05 1540.55 Q2371.88 1536.98 2371.88 1529.87 Q2371.88 1522.75 2370.05 1519.2 Q2368.24 1515.64 2364.61 1515.64 M2364.61 1511.93 Q2370.42 1511.93 2373.47 1516.54 Q2376.55 1521.12 2376.55 1529.87 Q2376.55 1538.6 2373.47 1543.21 Q2370.42 1547.79 2364.61 1547.79 Q2358.8 1547.79 2355.72 1543.21 Q2352.66 1538.6 2352.66 1529.87 Q2352.66 1521.12 2355.72 1516.54 Q2358.8 1511.93 2364.61 1511.93 Z\" fill=\"#000000\" fill-rule=\"evenodd\" fill-opacity=\"1\" /><path clip-path=\"url(#clip880)\" d=\"M 0 0 M2391.62 1515.64 Q2388.01 1515.64 2386.18 1519.2 Q2384.38 1522.75 2384.38 1529.87 Q2384.38 1536.98 2386.18 1540.55 Q2388.01 1544.09 2391.62 1544.09 Q2395.26 1544.09 2397.06 1540.55 Q2398.89 1536.98 2398.89 1529.87 Q2398.89 1522.75 2397.06 1519.2 Q2395.26 1515.64 2391.62 1515.64 M2391.62 1511.93 Q2397.43 1511.93 2400.49 1516.54 Q2403.57 1521.12 2403.57 1529.87 Q2403.57 1538.6 2400.49 1543.21 Q2397.43 1547.79 2391.62 1547.79 Q2385.81 1547.79 2382.73 1543.21 Q2379.68 1538.6 2379.68 1529.87 Q2379.68 1521.12 2382.73 1516.54 Q2385.81 1511.93 2391.62 1511.93 Z\" fill=\"#000000\" fill-rule=\"evenodd\" fill-opacity=\"1\" /><polyline clip-path=\"url(#clip882)\" style=\"stroke:#000000; stroke-width:2; stroke-opacity:0.1; fill:none\" points=\"\n  134.584,1486.45 2352.76,1486.45 \n  \"/>\n<polyline clip-path=\"url(#clip882)\" style=\"stroke:#000000; stroke-width:2; stroke-opacity:0.1; fill:none\" points=\"\n  134.584,1198.61 2352.76,1198.61 \n  \"/>\n<polyline clip-path=\"url(#clip882)\" style=\"stroke:#000000; stroke-width:2; stroke-opacity:0.1; fill:none\" points=\"\n  134.584,910.766 2352.76,910.766 \n  \"/>\n<polyline clip-path=\"url(#clip882)\" style=\"stroke:#000000; stroke-width:2; stroke-opacity:0.1; fill:none\" points=\"\n  134.584,622.926 2352.76,622.926 \n  \"/>\n<polyline clip-path=\"url(#clip882)\" style=\"stroke:#000000; stroke-width:2; stroke-opacity:0.1; fill:none\" points=\"\n  134.584,335.085 2352.76,335.085 \n  \"/>\n<polyline clip-path=\"url(#clip882)\" style=\"stroke:#000000; stroke-width:2; stroke-opacity:0.1; fill:none\" points=\"\n  134.584,47.2441 2352.76,47.2441 \n  \"/>\n<polyline clip-path=\"url(#clip880)\" style=\"stroke:#000000; stroke-width:4; stroke-opacity:1; fill:none\" points=\"\n  134.584,1486.45 134.584,47.2441 \n  \"/>\n<polyline clip-path=\"url(#clip880)\" style=\"stroke:#000000; stroke-width:4; stroke-opacity:1; fill:none\" points=\"\n  134.584,1486.45 161.203,1486.45 \n  \"/>\n<polyline clip-path=\"url(#clip880)\" style=\"stroke:#000000; stroke-width:4; stroke-opacity:1; fill:none\" points=\"\n  134.584,1198.61 161.203,1198.61 \n  \"/>\n<polyline clip-path=\"url(#clip880)\" style=\"stroke:#000000; stroke-width:4; stroke-opacity:1; fill:none\" points=\"\n  134.584,910.766 161.203,910.766 \n  \"/>\n<polyline clip-path=\"url(#clip880)\" style=\"stroke:#000000; stroke-width:4; stroke-opacity:1; fill:none\" points=\"\n  134.584,622.926 161.203,622.926 \n  \"/>\n<polyline clip-path=\"url(#clip880)\" style=\"stroke:#000000; stroke-width:4; stroke-opacity:1; fill:none\" points=\"\n  134.584,335.085 161.203,335.085 \n  \"/>\n<polyline clip-path=\"url(#clip880)\" style=\"stroke:#000000; stroke-width:4; stroke-opacity:1; fill:none\" points=\"\n  134.584,47.2441 161.203,47.2441 \n  \"/>\n<path clip-path=\"url(#clip880)\" d=\"M 0 0 M86.6401 1472.25 Q83.029 1472.25 81.2003 1475.81 Q79.3948 1479.35 79.3948 1486.48 Q79.3948 1493.59 81.2003 1497.15 Q83.029 1500.7 86.6401 1500.7 Q90.2743 1500.7 92.0799 1497.15 Q93.9086 1493.59 93.9086 1486.48 Q93.9086 1479.35 92.0799 1475.81 Q90.2743 1472.25 86.6401 1472.25 M86.6401 1468.54 Q92.4502 1468.54 95.5058 1473.15 Q98.5845 1477.73 98.5845 1486.48 Q98.5845 1495.21 95.5058 1499.82 Q92.4502 1504.4 86.6401 1504.4 Q80.8299 1504.4 77.7512 1499.82 Q74.6957 1495.21 74.6957 1486.48 Q74.6957 1477.73 77.7512 1473.15 Q80.8299 1468.54 86.6401 1468.54 Z\" fill=\"#000000\" fill-rule=\"evenodd\" fill-opacity=\"1\" /><path clip-path=\"url(#clip880)\" d=\"M 0 0 M82.2651 1211.95 L98.5845 1211.95 L98.5845 1215.89 L76.6401 1215.89 L76.6401 1211.95 Q79.3022 1209.2 83.8855 1204.57 Q88.4919 1199.91 89.6725 1198.57 Q91.9178 1196.05 92.7975 1194.31 Q93.7002 1192.55 93.7002 1190.86 Q93.7002 1188.11 91.7558 1186.37 Q89.8345 1184.64 86.7327 1184.64 Q84.5336 1184.64 82.0799 1185.4 Q79.6494 1186.17 76.8716 1187.72 L76.8716 1182.99 Q79.6957 1181.86 82.1494 1181.28 Q84.6031 1180.7 86.6401 1180.7 Q92.0104 1180.7 95.2049 1183.39 Q98.3993 1186.07 98.3993 1190.56 Q98.3993 1192.69 97.5891 1194.61 Q96.8021 1196.51 94.6956 1199.1 Q94.1169 1199.78 91.0151 1202.99 Q87.9132 1206.19 82.2651 1211.95 Z\" fill=\"#000000\" fill-rule=\"evenodd\" fill-opacity=\"1\" /><path clip-path=\"url(#clip880)\" d=\"M 0 0 M89.0012 897.56 L77.1957 916.009 L89.0012 916.009 L89.0012 897.56 M87.7743 893.486 L93.6539 893.486 L93.6539 916.009 L98.5845 916.009 L98.5845 919.898 L93.6539 919.898 L93.6539 928.046 L89.0012 928.046 L89.0012 919.898 L73.3994 919.898 L73.3994 915.384 L87.7743 893.486 Z\" fill=\"#000000\" fill-rule=\"evenodd\" fill-opacity=\"1\" /><path clip-path=\"url(#clip880)\" d=\"M 0 0 M87.0567 621.062 Q83.9086 621.062 82.0568 623.215 Q80.2281 625.368 80.2281 629.118 Q80.2281 632.845 82.0568 635.02 Q83.9086 637.173 87.0567 637.173 Q90.2049 637.173 92.0336 635.02 Q93.8854 632.845 93.8854 629.118 Q93.8854 625.368 92.0336 623.215 Q90.2049 621.062 87.0567 621.062 M96.3391 606.409 L96.3391 610.669 Q94.5799 609.835 92.7743 609.396 Q90.9919 608.956 89.2327 608.956 Q84.6031 608.956 82.1494 612.081 Q79.7188 615.206 79.3716 621.525 Q80.7373 619.511 82.7975 618.446 Q84.8577 617.359 87.3345 617.359 Q92.5428 617.359 95.5521 620.53 Q98.5845 623.678 98.5845 629.118 Q98.5845 634.442 95.4363 637.659 Q92.2882 640.877 87.0567 640.877 Q81.0614 640.877 77.8901 636.294 Q74.7189 631.687 74.7189 622.96 Q74.7189 614.766 78.6077 609.905 Q82.4966 605.021 89.0475 605.021 Q90.8067 605.021 92.5891 605.368 Q94.3947 605.715 96.3391 606.409 Z\" fill=\"#000000\" fill-rule=\"evenodd\" fill-opacity=\"1\" /><path clip-path=\"url(#clip880)\" d=\"M 0 0 M86.7327 335.953 Q83.3994 335.953 81.4781 337.735 Q79.5799 339.518 79.5799 342.643 Q79.5799 345.768 81.4781 347.55 Q83.3994 349.332 86.7327 349.332 Q90.066 349.332 91.9873 347.55 Q93.9086 345.745 93.9086 342.643 Q93.9086 339.518 91.9873 337.735 Q90.0891 335.953 86.7327 335.953 M82.0568 333.962 Q79.0475 333.221 77.3577 331.161 Q75.6911 329.101 75.6911 326.138 Q75.6911 321.995 78.6309 319.587 Q81.5938 317.18 86.7327 317.18 Q91.8947 317.18 94.8345 319.587 Q97.7743 321.995 97.7743 326.138 Q97.7743 329.101 96.0845 331.161 Q94.4178 333.221 91.4317 333.962 Q94.8113 334.749 96.6863 337.041 Q98.5845 339.333 98.5845 342.643 Q98.5845 347.666 95.5058 350.351 Q92.4502 353.036 86.7327 353.036 Q81.0151 353.036 77.9364 350.351 Q74.8809 347.666 74.8809 342.643 Q74.8809 339.333 76.779 337.041 Q78.6772 334.749 82.0568 333.962 M80.3438 326.578 Q80.3438 329.263 82.0105 330.768 Q83.7003 332.272 86.7327 332.272 Q89.7419 332.272 91.4317 330.768 Q93.1447 329.263 93.1447 326.578 Q93.1447 323.893 91.4317 322.388 Q89.7419 320.884 86.7327 320.884 Q83.7003 320.884 82.0105 322.388 Q80.3438 323.893 80.3438 326.578 Z\" fill=\"#000000\" fill-rule=\"evenodd\" fill-opacity=\"1\" /><path clip-path=\"url(#clip880)\" d=\"M 0 0 M51.6634 60.5889 L59.3023 60.5889 L59.3023 34.2233 L50.9921 35.89 L50.9921 31.6308 L59.256 29.9641 L63.9319 29.9641 L63.9319 60.5889 L71.5707 60.5889 L71.5707 64.5241 L51.6634 64.5241 L51.6634 60.5889 Z\" fill=\"#000000\" fill-rule=\"evenodd\" fill-opacity=\"1\" /><path clip-path=\"url(#clip880)\" d=\"M 0 0 M86.6401 33.0428 Q83.029 33.0428 81.2003 36.6076 Q79.3948 40.1492 79.3948 47.2788 Q79.3948 54.3853 81.2003 57.9501 Q83.029 61.4917 86.6401 61.4917 Q90.2743 61.4917 92.0799 57.9501 Q93.9086 54.3853 93.9086 47.2788 Q93.9086 40.1492 92.0799 36.6076 Q90.2743 33.0428 86.6401 33.0428 M86.6401 29.3391 Q92.4502 29.3391 95.5058 33.9456 Q98.5845 38.5289 98.5845 47.2788 Q98.5845 56.0056 95.5058 60.6121 Q92.4502 65.1954 86.6401 65.1954 Q80.8299 65.1954 77.7512 60.6121 Q74.6957 56.0056 74.6957 47.2788 Q74.6957 38.5289 77.7512 33.9456 Q80.8299 29.3391 86.6401 29.3391 Z\" fill=\"#000000\" fill-rule=\"evenodd\" fill-opacity=\"1\" /><path clip-path=\"url(#clip882)\" d=\"M136.803 1358.53 L125.491 1353.84 L120.803 1342.53 L125.491 1331.22 L136.803 1326.53 L148.115 1331.22 L152.803 1342.53 L148.115 1353.84 Z\" fill=\"#009af9\" fill-rule=\"evenodd\" fill-opacity=\"1\" stroke=\"#000000\" stroke-opacity=\"1\" stroke-width=\"3.2\"/>\n<path clip-path=\"url(#clip880)\" d=\"\nM1981.34 216.178 L2278.82 216.178 L2278.82 95.2176 L1981.34 95.2176  Z\n  \" fill=\"#ffffff\" fill-rule=\"evenodd\" fill-opacity=\"1\"/>\n<polyline clip-path=\"url(#clip880)\" style=\"stroke:#000000; stroke-width:4; stroke-opacity:1; fill:none\" points=\"\n  1981.34,216.178 2278.82,216.178 2278.82,95.2176 1981.34,95.2176 1981.34,216.178 \n  \"/>\n<polyline clip-path=\"url(#clip880)\" style=\"stroke:#009af9; stroke-width:4; stroke-opacity:1; fill:none\" points=\"\n  2005.98,155.698 2153.86,155.698 \n  \"/>\n<path clip-path=\"url(#clip880)\" d=\"M2079.92 181.298 L2061.82 173.797 L2054.32 155.698 L2061.82 137.598 L2079.92 130.098 L2098.02 137.598 L2105.52 155.698 L2098.02 173.797 Z\" fill=\"#009af9\" fill-rule=\"evenodd\" fill-opacity=\"1\" stroke=\"#000000\" stroke-opacity=\"1\" stroke-width=\"5.12\"/>\n<path clip-path=\"url(#clip880)\" d=\"M 0 0 M2192.35 175.385 Q2190.54 180.015 2188.83 181.427 Q2187.12 182.839 2184.25 182.839 L2180.84 182.839 L2180.84 179.274 L2183.34 179.274 Q2185.1 179.274 2186.08 178.44 Q2187.05 177.607 2188.23 174.505 L2188.99 172.561 L2178.51 147.052 L2183.02 147.052 L2191.12 167.329 L2199.22 147.052 L2203.74 147.052 L2192.35 175.385 Z\" fill=\"#000000\" fill-rule=\"evenodd\" fill-opacity=\"1\" /><path clip-path=\"url(#clip880)\" d=\"M 0 0 M2209.62 169.042 L2217.26 169.042 L2217.26 142.677 L2208.95 144.343 L2208.95 140.084 L2217.21 138.418 L2221.89 138.418 L2221.89 169.042 L2229.52 169.042 L2229.52 172.978 L2209.62 172.978 L2209.62 169.042 Z\" fill=\"#000000\" fill-rule=\"evenodd\" fill-opacity=\"1\" /></svg>\n"
               },
               "type": "node"
              }
             ],
             "instanceArgs": {
              "namespace": "html",
              "tag": "div"
             },
             "nodeType": "DOM",
             "props": {
              "className": "interact-flex-row interact-widget"
             },
             "type": "node"
            }
           }
          },
          "systemjs_options": null
         },
         "nodeType": "Scope",
         "props": {},
         "type": "node"
        }
       ],
       "instanceArgs": {
        "namespace": "html",
        "tag": "div"
       },
       "nodeType": "DOM",
       "props": {},
       "type": "node"
      },
      "text/html": [
       "<div\n",
       "    class=\"webio-mountpoint\"\n",
       "    data-webio-mountpoint=\"16984921841167028805\"\n",
       ">\n",
       "    <script>\n",
       "    if (window.require && require.defined && require.defined(\"nbextensions/webio-jupyter-notebook\")) {\n",
       "        console.log(\"Jupyter WebIO extension detected, not mounting.\");\n",
       "    } else if (window.WebIO) {\n",
       "        WebIO.mount(\n",
       "            document.querySelector('[data-webio-mountpoint=\"16984921841167028805\"]'),\n",
       "            {\"props\":{},\"nodeType\":\"DOM\",\"type\":\"node\",\"instanceArgs\":{\"namespace\":\"html\",\"tag\":\"div\"},\"children\":[{\"props\":{\"className\":\"field interact-widget\"},\"nodeType\":\"DOM\",\"type\":\"node\",\"instanceArgs\":{\"namespace\":\"html\",\"tag\":\"div\"},\"children\":[{\"props\":{},\"nodeType\":\"Scope\",\"type\":\"node\",\"instanceArgs\":{\"imports\":{\"data\":[{\"name\":\"knockout\",\"type\":\"js\",\"url\":\"\\/assetserver\\/4e15ea8f38f5d33bf0b2930cb09c8089f78b114e-knockout.js\"},{\"name\":\"knockout_punches\",\"type\":\"js\",\"url\":\"\\/assetserver\\/6967e46b2259ea2e5c469b61c410326b52955db7-knockout_punches.js\"},{\"name\":null,\"type\":\"js\",\"url\":\"\\/assetserver\\/a643ec32b5fd67f0647ab1f378e6bc75a94bf7ef-all.js\"},{\"name\":null,\"type\":\"css\",\"url\":\"\\/assetserver\\/c4a428321098a6b37c6165665184ef1be8f91e08-style.css\"},{\"name\":null,\"type\":\"css\",\"url\":\"\\/assetserver\\/62690f06d5dfb4c711812ef88e307907ed9b059b-bulma_confined.min.css\"}],\"type\":\"async_block\"},\"id\":\"14721937422247612075\",\"handlers\":{\"changes\":[\"(function (val){return (val!=this.model[\\\"changes\\\"]()) ? (this.valueFromJulia[\\\"changes\\\"]=true, this.model[\\\"changes\\\"](val)) : undefined})\"],\"index\":[\"(function (val){return (val!=this.model[\\\"index\\\"]()) ? (this.valueFromJulia[\\\"index\\\"]=true, this.model[\\\"index\\\"](val)) : undefined})\"]},\"systemjs_options\":null,\"mount_callbacks\":[\"function () {\\n    var handler = (function (ko, koPunches) {\\n    ko.punches.enableAll();\\n    ko.bindingHandlers.numericValue = {\\n        init: function(element, valueAccessor, allBindings, data, context) {\\n            var stringified = ko.observable(ko.unwrap(valueAccessor()));\\n            stringified.subscribe(function(value) {\\n                var val = parseFloat(value);\\n                if (!isNaN(val)) {\\n                    valueAccessor()(val);\\n                }\\n            });\\n            valueAccessor().subscribe(function(value) {\\n                var str = JSON.stringify(value);\\n                if ((str == \\\"0\\\") && ([\\\"-0\\\", \\\"-0.\\\"].indexOf(stringified()) >= 0))\\n                     return;\\n                 if ([\\\"null\\\", \\\"\\\"].indexOf(str) >= 0)\\n                     return;\\n                stringified(str);\\n            });\\n            ko.applyBindingsToNode(\\n                element,\\n                {\\n                    value: stringified,\\n                    valueUpdate: allBindings.get('valueUpdate'),\\n                },\\n                context,\\n            );\\n        }\\n    };\\n    var json_data = {\\\"formatted_vals\\\":[\\\"1\\\",\\\"2\\\",\\\"3\\\",\\\"4\\\",\\\"5\\\",\\\"6\\\",\\\"7\\\",\\\"8\\\",\\\"9\\\",\\\"10\\\",\\\"11\\\",\\\"12\\\",\\\"13\\\",\\\"14\\\",\\\"15\\\",\\\"16\\\",\\\"17\\\",\\\"18\\\",\\\"19\\\",\\\"20\\\",\\\"21\\\",\\\"22\\\",\\\"23\\\",\\\"24\\\",\\\"25\\\",\\\"26\\\",\\\"27\\\",\\\"28\\\",\\\"29\\\",\\\"30\\\",\\\"31\\\",\\\"32\\\",\\\"33\\\",\\\"34\\\",\\\"35\\\",\\\"36\\\",\\\"37\\\",\\\"38\\\",\\\"39\\\",\\\"40\\\",\\\"41\\\",\\\"42\\\",\\\"43\\\",\\\"44\\\",\\\"45\\\",\\\"46\\\",\\\"47\\\",\\\"48\\\",\\\"49\\\",\\\"50\\\",\\\"51\\\",\\\"52\\\",\\\"53\\\",\\\"54\\\",\\\"55\\\",\\\"56\\\",\\\"57\\\",\\\"58\\\",\\\"59\\\",\\\"60\\\",\\\"61\\\",\\\"62\\\",\\\"63\\\",\\\"64\\\",\\\"65\\\",\\\"66\\\",\\\"67\\\",\\\"68\\\",\\\"69\\\",\\\"70\\\",\\\"71\\\",\\\"72\\\",\\\"73\\\",\\\"74\\\",\\\"75\\\",\\\"76\\\",\\\"77\\\",\\\"78\\\",\\\"79\\\",\\\"80\\\",\\\"81\\\",\\\"82\\\",\\\"83\\\",\\\"84\\\",\\\"85\\\",\\\"86\\\",\\\"87\\\",\\\"88\\\",\\\"89\\\",\\\"90\\\",\\\"91\\\",\\\"92\\\",\\\"93\\\",\\\"94\\\",\\\"95\\\",\\\"96\\\",\\\"97\\\",\\\"98\\\",\\\"99\\\",\\\"100\\\",\\\"101\\\",\\\"102\\\",\\\"103\\\",\\\"104\\\",\\\"105\\\",\\\"106\\\",\\\"107\\\",\\\"108\\\",\\\"109\\\",\\\"110\\\",\\\"111\\\",\\\"112\\\",\\\"113\\\",\\\"114\\\",\\\"115\\\",\\\"116\\\",\\\"117\\\",\\\"118\\\",\\\"119\\\",\\\"120\\\",\\\"121\\\",\\\"122\\\",\\\"123\\\",\\\"124\\\",\\\"125\\\",\\\"126\\\",\\\"127\\\",\\\"128\\\",\\\"129\\\",\\\"130\\\",\\\"131\\\",\\\"132\\\",\\\"133\\\",\\\"134\\\",\\\"135\\\",\\\"136\\\",\\\"137\\\",\\\"138\\\",\\\"139\\\",\\\"140\\\",\\\"141\\\",\\\"142\\\",\\\"143\\\",\\\"144\\\",\\\"145\\\",\\\"146\\\",\\\"147\\\",\\\"148\\\",\\\"149\\\",\\\"150\\\",\\\"151\\\",\\\"152\\\",\\\"153\\\",\\\"154\\\",\\\"155\\\",\\\"156\\\",\\\"157\\\",\\\"158\\\",\\\"159\\\",\\\"160\\\",\\\"161\\\",\\\"162\\\",\\\"163\\\",\\\"164\\\",\\\"165\\\",\\\"166\\\",\\\"167\\\",\\\"168\\\",\\\"169\\\",\\\"170\\\",\\\"171\\\",\\\"172\\\",\\\"173\\\",\\\"174\\\",\\\"175\\\",\\\"176\\\",\\\"177\\\",\\\"178\\\",\\\"179\\\",\\\"180\\\",\\\"181\\\",\\\"182\\\",\\\"183\\\",\\\"184\\\",\\\"185\\\",\\\"186\\\",\\\"187\\\",\\\"188\\\",\\\"189\\\",\\\"190\\\",\\\"191\\\",\\\"192\\\",\\\"193\\\",\\\"194\\\",\\\"195\\\",\\\"196\\\",\\\"197\\\",\\\"198\\\",\\\"199\\\",\\\"200\\\",\\\"201\\\",\\\"202\\\",\\\"203\\\",\\\"204\\\",\\\"205\\\",\\\"206\\\",\\\"207\\\",\\\"208\\\",\\\"209\\\",\\\"210\\\",\\\"211\\\",\\\"212\\\",\\\"213\\\",\\\"214\\\",\\\"215\\\",\\\"216\\\",\\\"217\\\",\\\"218\\\",\\\"219\\\",\\\"220\\\",\\\"221\\\",\\\"222\\\",\\\"223\\\",\\\"224\\\",\\\"225\\\",\\\"226\\\",\\\"227\\\",\\\"228\\\",\\\"229\\\",\\\"230\\\",\\\"231\\\",\\\"232\\\",\\\"233\\\",\\\"234\\\",\\\"235\\\",\\\"236\\\",\\\"237\\\",\\\"238\\\",\\\"239\\\",\\\"240\\\",\\\"241\\\",\\\"242\\\",\\\"243\\\",\\\"244\\\",\\\"245\\\",\\\"246\\\",\\\"247\\\",\\\"248\\\",\\\"249\\\",\\\"250\\\",\\\"251\\\",\\\"252\\\",\\\"253\\\",\\\"254\\\",\\\"255\\\",\\\"256\\\",\\\"257\\\",\\\"258\\\",\\\"259\\\",\\\"260\\\",\\\"261\\\",\\\"262\\\",\\\"263\\\",\\\"264\\\",\\\"265\\\",\\\"266\\\",\\\"267\\\",\\\"268\\\",\\\"269\\\",\\\"270\\\",\\\"271\\\",\\\"272\\\",\\\"273\\\",\\\"274\\\",\\\"275\\\",\\\"276\\\",\\\"277\\\",\\\"278\\\",\\\"279\\\",\\\"280\\\",\\\"281\\\",\\\"282\\\",\\\"283\\\",\\\"284\\\",\\\"285\\\",\\\"286\\\",\\\"287\\\",\\\"288\\\",\\\"289\\\",\\\"290\\\",\\\"291\\\",\\\"292\\\",\\\"293\\\",\\\"294\\\",\\\"295\\\",\\\"296\\\",\\\"297\\\",\\\"298\\\",\\\"299\\\",\\\"300\\\",\\\"301\\\",\\\"302\\\",\\\"303\\\",\\\"304\\\",\\\"305\\\",\\\"306\\\",\\\"307\\\",\\\"308\\\",\\\"309\\\",\\\"310\\\",\\\"311\\\",\\\"312\\\",\\\"313\\\",\\\"314\\\",\\\"315\\\",\\\"316\\\",\\\"317\\\",\\\"318\\\",\\\"319\\\",\\\"320\\\",\\\"321\\\",\\\"322\\\",\\\"323\\\",\\\"324\\\",\\\"325\\\",\\\"326\\\",\\\"327\\\",\\\"328\\\",\\\"329\\\",\\\"330\\\",\\\"331\\\",\\\"332\\\",\\\"333\\\",\\\"334\\\",\\\"335\\\",\\\"336\\\",\\\"337\\\",\\\"338\\\",\\\"339\\\",\\\"340\\\",\\\"341\\\",\\\"342\\\",\\\"343\\\",\\\"344\\\",\\\"345\\\",\\\"346\\\",\\\"347\\\",\\\"348\\\",\\\"349\\\",\\\"350\\\",\\\"351\\\",\\\"352\\\",\\\"353\\\",\\\"354\\\",\\\"355\\\",\\\"356\\\",\\\"357\\\",\\\"358\\\",\\\"359\\\",\\\"360\\\",\\\"361\\\",\\\"362\\\",\\\"363\\\",\\\"364\\\",\\\"365\\\",\\\"366\\\",\\\"367\\\",\\\"368\\\",\\\"369\\\",\\\"370\\\",\\\"371\\\",\\\"372\\\",\\\"373\\\",\\\"374\\\",\\\"375\\\",\\\"376\\\",\\\"377\\\",\\\"378\\\",\\\"379\\\",\\\"380\\\",\\\"381\\\",\\\"382\\\",\\\"383\\\",\\\"384\\\",\\\"385\\\",\\\"386\\\",\\\"387\\\",\\\"388\\\",\\\"389\\\",\\\"390\\\",\\\"391\\\",\\\"392\\\",\\\"393\\\",\\\"394\\\",\\\"395\\\",\\\"396\\\",\\\"397\\\",\\\"398\\\",\\\"399\\\",\\\"400\\\",\\\"401\\\",\\\"402\\\",\\\"403\\\",\\\"404\\\",\\\"405\\\",\\\"406\\\",\\\"407\\\",\\\"408\\\",\\\"409\\\",\\\"410\\\",\\\"411\\\",\\\"412\\\",\\\"413\\\",\\\"414\\\",\\\"415\\\",\\\"416\\\",\\\"417\\\",\\\"418\\\",\\\"419\\\",\\\"420\\\",\\\"421\\\",\\\"422\\\",\\\"423\\\",\\\"424\\\",\\\"425\\\",\\\"426\\\",\\\"427\\\",\\\"428\\\",\\\"429\\\",\\\"430\\\",\\\"431\\\",\\\"432\\\",\\\"433\\\",\\\"434\\\",\\\"435\\\",\\\"436\\\",\\\"437\\\",\\\"438\\\",\\\"439\\\",\\\"440\\\",\\\"441\\\",\\\"442\\\",\\\"443\\\",\\\"444\\\",\\\"445\\\",\\\"446\\\",\\\"447\\\",\\\"448\\\",\\\"449\\\",\\\"450\\\",\\\"451\\\",\\\"452\\\",\\\"453\\\",\\\"454\\\",\\\"455\\\",\\\"456\\\",\\\"457\\\",\\\"458\\\",\\\"459\\\",\\\"460\\\",\\\"461\\\",\\\"462\\\",\\\"463\\\",\\\"464\\\",\\\"465\\\",\\\"466\\\",\\\"467\\\",\\\"468\\\",\\\"469\\\",\\\"470\\\",\\\"471\\\",\\\"472\\\",\\\"473\\\",\\\"474\\\",\\\"475\\\",\\\"476\\\",\\\"477\\\",\\\"478\\\",\\\"479\\\",\\\"480\\\",\\\"481\\\",\\\"482\\\",\\\"483\\\",\\\"484\\\",\\\"485\\\",\\\"486\\\",\\\"487\\\",\\\"488\\\",\\\"489\\\",\\\"490\\\",\\\"491\\\",\\\"492\\\",\\\"493\\\",\\\"494\\\",\\\"495\\\",\\\"496\\\",\\\"497\\\",\\\"498\\\",\\\"499\\\",\\\"500\\\",\\\"501\\\",\\\"502\\\",\\\"503\\\",\\\"504\\\",\\\"505\\\",\\\"506\\\",\\\"507\\\",\\\"508\\\",\\\"509\\\",\\\"510\\\",\\\"511\\\",\\\"512\\\",\\\"513\\\",\\\"514\\\",\\\"515\\\",\\\"516\\\",\\\"517\\\",\\\"518\\\",\\\"519\\\",\\\"520\\\",\\\"521\\\",\\\"522\\\",\\\"523\\\",\\\"524\\\",\\\"525\\\",\\\"526\\\",\\\"527\\\",\\\"528\\\",\\\"529\\\",\\\"530\\\",\\\"531\\\",\\\"532\\\",\\\"533\\\",\\\"534\\\",\\\"535\\\",\\\"536\\\",\\\"537\\\",\\\"538\\\",\\\"539\\\",\\\"540\\\",\\\"541\\\",\\\"542\\\",\\\"543\\\",\\\"544\\\",\\\"545\\\",\\\"546\\\",\\\"547\\\",\\\"548\\\",\\\"549\\\",\\\"550\\\",\\\"551\\\",\\\"552\\\",\\\"553\\\",\\\"554\\\",\\\"555\\\",\\\"556\\\",\\\"557\\\",\\\"558\\\",\\\"559\\\",\\\"560\\\",\\\"561\\\",\\\"562\\\",\\\"563\\\",\\\"564\\\",\\\"565\\\",\\\"566\\\",\\\"567\\\",\\\"568\\\",\\\"569\\\",\\\"570\\\",\\\"571\\\",\\\"572\\\",\\\"573\\\",\\\"574\\\",\\\"575\\\",\\\"576\\\",\\\"577\\\",\\\"578\\\",\\\"579\\\",\\\"580\\\",\\\"581\\\",\\\"582\\\",\\\"583\\\",\\\"584\\\",\\\"585\\\",\\\"586\\\",\\\"587\\\",\\\"588\\\",\\\"589\\\",\\\"590\\\",\\\"591\\\",\\\"592\\\",\\\"593\\\",\\\"594\\\",\\\"595\\\",\\\"596\\\",\\\"597\\\",\\\"598\\\",\\\"599\\\",\\\"600\\\",\\\"601\\\",\\\"602\\\",\\\"603\\\",\\\"604\\\",\\\"605\\\",\\\"606\\\",\\\"607\\\",\\\"608\\\",\\\"609\\\",\\\"610\\\",\\\"611\\\",\\\"612\\\",\\\"613\\\",\\\"614\\\",\\\"615\\\",\\\"616\\\",\\\"617\\\",\\\"618\\\",\\\"619\\\",\\\"620\\\",\\\"621\\\",\\\"622\\\",\\\"623\\\",\\\"624\\\",\\\"625\\\",\\\"626\\\",\\\"627\\\",\\\"628\\\",\\\"629\\\",\\\"630\\\",\\\"631\\\",\\\"632\\\",\\\"633\\\",\\\"634\\\",\\\"635\\\",\\\"636\\\",\\\"637\\\",\\\"638\\\",\\\"639\\\",\\\"640\\\",\\\"641\\\",\\\"642\\\",\\\"643\\\",\\\"644\\\",\\\"645\\\",\\\"646\\\",\\\"647\\\",\\\"648\\\",\\\"649\\\",\\\"650\\\",\\\"651\\\",\\\"652\\\",\\\"653\\\",\\\"654\\\",\\\"655\\\",\\\"656\\\",\\\"657\\\",\\\"658\\\",\\\"659\\\",\\\"660\\\",\\\"661\\\",\\\"662\\\",\\\"663\\\",\\\"664\\\",\\\"665\\\",\\\"666\\\",\\\"667\\\",\\\"668\\\",\\\"669\\\",\\\"670\\\",\\\"671\\\",\\\"672\\\",\\\"673\\\",\\\"674\\\",\\\"675\\\",\\\"676\\\",\\\"677\\\",\\\"678\\\",\\\"679\\\",\\\"680\\\",\\\"681\\\",\\\"682\\\",\\\"683\\\",\\\"684\\\",\\\"685\\\",\\\"686\\\",\\\"687\\\",\\\"688\\\",\\\"689\\\",\\\"690\\\",\\\"691\\\",\\\"692\\\",\\\"693\\\",\\\"694\\\",\\\"695\\\",\\\"696\\\",\\\"697\\\",\\\"698\\\",\\\"699\\\",\\\"700\\\",\\\"701\\\",\\\"702\\\",\\\"703\\\",\\\"704\\\",\\\"705\\\",\\\"706\\\",\\\"707\\\",\\\"708\\\",\\\"709\\\",\\\"710\\\",\\\"711\\\",\\\"712\\\",\\\"713\\\",\\\"714\\\",\\\"715\\\",\\\"716\\\",\\\"717\\\",\\\"718\\\",\\\"719\\\",\\\"720\\\",\\\"721\\\",\\\"722\\\",\\\"723\\\",\\\"724\\\",\\\"725\\\",\\\"726\\\",\\\"727\\\",\\\"728\\\",\\\"729\\\",\\\"730\\\",\\\"731\\\",\\\"732\\\",\\\"733\\\",\\\"734\\\",\\\"735\\\",\\\"736\\\",\\\"737\\\",\\\"738\\\",\\\"739\\\",\\\"740\\\",\\\"741\\\",\\\"742\\\",\\\"743\\\",\\\"744\\\",\\\"745\\\",\\\"746\\\",\\\"747\\\",\\\"748\\\",\\\"749\\\",\\\"750\\\",\\\"751\\\",\\\"752\\\",\\\"753\\\",\\\"754\\\",\\\"755\\\",\\\"756\\\",\\\"757\\\",\\\"758\\\",\\\"759\\\",\\\"760\\\",\\\"761\\\",\\\"762\\\",\\\"763\\\",\\\"764\\\",\\\"765\\\",\\\"766\\\",\\\"767\\\",\\\"768\\\",\\\"769\\\",\\\"770\\\",\\\"771\\\",\\\"772\\\",\\\"773\\\",\\\"774\\\",\\\"775\\\",\\\"776\\\",\\\"777\\\",\\\"778\\\",\\\"779\\\",\\\"780\\\",\\\"781\\\",\\\"782\\\",\\\"783\\\",\\\"784\\\",\\\"785\\\",\\\"786\\\",\\\"787\\\",\\\"788\\\",\\\"789\\\",\\\"790\\\",\\\"791\\\",\\\"792\\\",\\\"793\\\",\\\"794\\\",\\\"795\\\",\\\"796\\\",\\\"797\\\",\\\"798\\\",\\\"799\\\",\\\"800\\\",\\\"801\\\",\\\"802\\\",\\\"803\\\",\\\"804\\\",\\\"805\\\",\\\"806\\\",\\\"807\\\",\\\"808\\\",\\\"809\\\",\\\"810\\\",\\\"811\\\",\\\"812\\\",\\\"813\\\",\\\"814\\\",\\\"815\\\",\\\"816\\\",\\\"817\\\",\\\"818\\\",\\\"819\\\",\\\"820\\\",\\\"821\\\",\\\"822\\\",\\\"823\\\",\\\"824\\\",\\\"825\\\",\\\"826\\\",\\\"827\\\",\\\"828\\\",\\\"829\\\",\\\"830\\\",\\\"831\\\",\\\"832\\\",\\\"833\\\",\\\"834\\\",\\\"835\\\",\\\"836\\\",\\\"837\\\",\\\"838\\\",\\\"839\\\",\\\"840\\\",\\\"841\\\",\\\"842\\\",\\\"843\\\",\\\"844\\\",\\\"845\\\",\\\"846\\\",\\\"847\\\",\\\"848\\\",\\\"849\\\",\\\"850\\\",\\\"851\\\",\\\"852\\\",\\\"853\\\",\\\"854\\\",\\\"855\\\",\\\"856\\\",\\\"857\\\",\\\"858\\\",\\\"859\\\",\\\"860\\\",\\\"861\\\",\\\"862\\\",\\\"863\\\",\\\"864\\\",\\\"865\\\",\\\"866\\\",\\\"867\\\",\\\"868\\\",\\\"869\\\",\\\"870\\\",\\\"871\\\",\\\"872\\\",\\\"873\\\",\\\"874\\\",\\\"875\\\",\\\"876\\\",\\\"877\\\",\\\"878\\\",\\\"879\\\",\\\"880\\\",\\\"881\\\",\\\"882\\\",\\\"883\\\",\\\"884\\\",\\\"885\\\",\\\"886\\\",\\\"887\\\",\\\"888\\\",\\\"889\\\",\\\"890\\\",\\\"891\\\",\\\"892\\\",\\\"893\\\",\\\"894\\\",\\\"895\\\",\\\"896\\\",\\\"897\\\",\\\"898\\\",\\\"899\\\",\\\"900\\\",\\\"901\\\",\\\"902\\\",\\\"903\\\",\\\"904\\\",\\\"905\\\",\\\"906\\\",\\\"907\\\",\\\"908\\\",\\\"909\\\",\\\"910\\\",\\\"911\\\",\\\"912\\\",\\\"913\\\",\\\"914\\\",\\\"915\\\",\\\"916\\\",\\\"917\\\",\\\"918\\\",\\\"919\\\",\\\"920\\\",\\\"921\\\",\\\"922\\\",\\\"923\\\",\\\"924\\\",\\\"925\\\",\\\"926\\\",\\\"927\\\",\\\"928\\\",\\\"929\\\",\\\"930\\\",\\\"931\\\",\\\"932\\\",\\\"933\\\",\\\"934\\\",\\\"935\\\",\\\"936\\\",\\\"937\\\",\\\"938\\\",\\\"939\\\",\\\"940\\\",\\\"941\\\",\\\"942\\\",\\\"943\\\",\\\"944\\\",\\\"945\\\",\\\"946\\\",\\\"947\\\",\\\"948\\\",\\\"949\\\",\\\"950\\\",\\\"951\\\",\\\"952\\\",\\\"953\\\",\\\"954\\\",\\\"955\\\",\\\"956\\\",\\\"957\\\",\\\"958\\\",\\\"959\\\",\\\"960\\\",\\\"961\\\",\\\"962\\\",\\\"963\\\",\\\"964\\\",\\\"965\\\",\\\"966\\\",\\\"967\\\",\\\"968\\\",\\\"969\\\",\\\"970\\\",\\\"971\\\",\\\"972\\\",\\\"973\\\",\\\"974\\\",\\\"975\\\",\\\"976\\\",\\\"977\\\",\\\"978\\\",\\\"979\\\",\\\"980\\\",\\\"981\\\",\\\"982\\\",\\\"983\\\",\\\"984\\\",\\\"985\\\",\\\"986\\\",\\\"987\\\",\\\"988\\\",\\\"989\\\",\\\"990\\\",\\\"991\\\",\\\"992\\\",\\\"993\\\",\\\"994\\\",\\\"995\\\",\\\"996\\\",\\\"997\\\",\\\"998\\\",\\\"999\\\",\\\"1000\\\"],\\\"changes\\\":WebIO.getval({\\\"name\\\":\\\"changes\\\",\\\"scope\\\":\\\"14721937422247612075\\\",\\\"id\\\":\\\"18421728926803028525\\\",\\\"type\\\":\\\"observable\\\"}),\\\"index\\\":WebIO.getval({\\\"name\\\":\\\"index\\\",\\\"scope\\\":\\\"14721937422247612075\\\",\\\"id\\\":\\\"13697678738429543450\\\",\\\"type\\\":\\\"observable\\\"})};\\n    var self = this;\\n    function AppViewModel() {\\n        for (var key in json_data) {\\n            var el = json_data[key];\\n            this[key] = Array.isArray(el) ? ko.observableArray(el) : ko.observable(el);\\n        }\\n        \\n        [this[\\\"formatted_val\\\"]=ko.computed(    function(){\\n        return this.formatted_vals()[parseInt(this.index())-(1)];\\n    }\\n,this)]\\n        [this[\\\"changes\\\"].subscribe((function (val){!(this.valueFromJulia[\\\"changes\\\"]) ? (WebIO.setval({\\\"name\\\":\\\"changes\\\",\\\"scope\\\":\\\"14721937422247612075\\\",\\\"id\\\":\\\"18421728926803028525\\\",\\\"type\\\":\\\"observable\\\"},val)) : undefined; return this.valueFromJulia[\\\"changes\\\"]=false}),self),this[\\\"index\\\"].subscribe((function (val){!(this.valueFromJulia[\\\"index\\\"]) ? (WebIO.setval({\\\"name\\\":\\\"index\\\",\\\"scope\\\":\\\"14721937422247612075\\\",\\\"id\\\":\\\"13697678738429543450\\\",\\\"type\\\":\\\"observable\\\"},val)) : undefined; return this.valueFromJulia[\\\"index\\\"]=false}),self)]\\n        \\n    }\\n    self.model = new AppViewModel();\\n    self.valueFromJulia = {};\\n    for (var key in json_data) {\\n        self.valueFromJulia[key] = false;\\n    }\\n    ko.applyBindings(self.model, self.dom);\\n}\\n);\\n    (WebIO.importBlock({\\\"data\\\":[{\\\"name\\\":\\\"knockout\\\",\\\"type\\\":\\\"js\\\",\\\"url\\\":\\\"\\/assetserver\\/4e15ea8f38f5d33bf0b2930cb09c8089f78b114e-knockout.js\\\"},{\\\"name\\\":\\\"knockout_punches\\\",\\\"type\\\":\\\"js\\\",\\\"url\\\":\\\"\\/assetserver\\/6967e46b2259ea2e5c469b61c410326b52955db7-knockout_punches.js\\\"}],\\\"type\\\":\\\"async_block\\\"})).then((imports) => handler.apply(this, imports));\\n}\\n\"],\"observables\":{\"changes\":{\"sync\":false,\"id\":\"18421728926803028525\",\"value\":0},\"index\":{\"sync\":true,\"id\":\"13697678738429543450\",\"value\":1}}},\"children\":[{\"props\":{\"className\":\"interact-flex-row interact-widget\"},\"nodeType\":\"DOM\",\"type\":\"node\",\"instanceArgs\":{\"namespace\":\"html\",\"tag\":\"div\"},\"children\":[{\"props\":{\"className\":\"interact-flex-row-left\"},\"nodeType\":\"DOM\",\"type\":\"node\",\"instanceArgs\":{\"namespace\":\"html\",\"tag\":\"div\"},\"children\":[{\"props\":{\"className\":\"interact \",\"style\":{\"padding\":\"5px 10px 0px 10px\"}},\"nodeType\":\"DOM\",\"type\":\"node\",\"instanceArgs\":{\"namespace\":\"html\",\"tag\":\"label\"},\"children\":[\"\"]}]},{\"props\":{\"className\":\"interact-flex-row-center\"},\"nodeType\":\"DOM\",\"type\":\"node\",\"instanceArgs\":{\"namespace\":\"html\",\"tag\":\"div\"},\"children\":[{\"props\":{\"max\":1000,\"min\":1,\"attributes\":{\"type\":\"range\",\"data-bind\":\"numericValue: index, valueUpdate: 'input', event: {change: function (){this.changes(this.changes()+1)}}\",\"orient\":\"horizontal\"},\"step\":1,\"className\":\"slider slider is-fullwidth\",\"style\":{}},\"nodeType\":\"DOM\",\"type\":\"node\",\"instanceArgs\":{\"namespace\":\"html\",\"tag\":\"input\"},\"children\":[]}]},{\"props\":{\"className\":\"interact-flex-row-right\"},\"nodeType\":\"DOM\",\"type\":\"node\",\"instanceArgs\":{\"namespace\":\"html\",\"tag\":\"div\"},\"children\":[{\"props\":{\"attributes\":{\"data-bind\":\"text: formatted_val\"}},\"nodeType\":\"DOM\",\"type\":\"node\",\"instanceArgs\":{\"namespace\":\"html\",\"tag\":\"p\"},\"children\":[]}]}]}]}]},{\"props\":{},\"nodeType\":\"Scope\",\"type\":\"node\",\"instanceArgs\":{\"imports\":{\"data\":[],\"type\":\"async_block\"},\"id\":\"11710235627355659925\",\"handlers\":{},\"systemjs_options\":null,\"mount_callbacks\":[],\"observables\":{\"obs-node\":{\"sync\":false,\"id\":\"10495457760526852048\",\"value\":{\"props\":{\"className\":\"interact-flex-row interact-widget\"},\"nodeType\":\"DOM\",\"type\":\"node\",\"instanceArgs\":{\"namespace\":\"html\",\"tag\":\"div\"},\"children\":[{\"props\":{\"setInnerHtml\":\"<?xml version=\\\"1.0\\\" encoding=\\\"utf-8\\\"?>\\n<svg xmlns=\\\"http:\\/\\/www.w3.org\\/2000\\/svg\\\" xmlns:xlink=\\\"http:\\/\\/www.w3.org\\/1999\\/xlink\\\" width=\\\"600\\\" height=\\\"400\\\" viewBox=\\\"0 0 2400 1600\\\">\\n<defs>\\n  <clipPath id=\\\"clip840\\\">\\n    <rect x=\\\"0\\\" y=\\\"0\\\" width=\\\"2400\\\" height=\\\"1600\\\"\\/>\\n  <\\/clipPath>\\n<\\/defs>\\n<path clip-path=\\\"url(#clip840)\\\" d=\\\"\\nM0 1600 L2400 1600 L2400 0 L0 0  Z\\n  \\\" fill=\\\"#ffffff\\\" fill-rule=\\\"evenodd\\\" fill-opacity=\\\"1\\\"\\/>\\n<defs>\\n  <clipPath id=\\\"clip841\\\">\\n    <rect x=\\\"480\\\" y=\\\"0\\\" width=\\\"1681\\\" height=\\\"1600\\\"\\/>\\n  <\\/clipPath>\\n<\\/defs>\\n<path clip-path=\\\"url(#clip840)\\\" d=\\\"\\nM134.584 1486.45 L2352.76 1486.45 L2352.76 47.2441 L134.584 47.2441  Z\\n  \\\" fill=\\\"#ffffff\\\" fill-rule=\\\"evenodd\\\" fill-opacity=\\\"1\\\"\\/>\\n<defs>\\n  <clipPath id=\\\"clip842\\\">\\n    <rect x=\\\"134\\\" y=\\\"47\\\" width=\\\"2219\\\" height=\\\"1440\\\"\\/>\\n  <\\/clipPath>\\n<\\/defs>\\n<polyline clip-path=\\\"url(#clip842)\\\" style=\\\"stroke:#000000; stroke-width:2; stroke-opacity:0.1; fill:none\\\" points=\\\"\\n  134.584,1486.45 134.584,47.2441 \\n  \\\"\\/>\\n<polyline clip-path=\\\"url(#clip842)\\\" style=\\\"stroke:#000000; stroke-width:2; stroke-opacity:0.1; fill:none\\\" points=\\\"\\n  578.219,1486.45 578.219,47.2441 \\n  \\\"\\/>\\n<polyline clip-path=\\\"url(#clip842)\\\" style=\\\"stroke:#000000; stroke-width:2; stroke-opacity:0.1; fill:none\\\" points=\\\"\\n  1021.85,1486.45 1021.85,47.2441 \\n  \\\"\\/>\\n<polyline clip-path=\\\"url(#clip842)\\\" style=\\\"stroke:#000000; stroke-width:2; stroke-opacity:0.1; fill:none\\\" points=\\\"\\n  1465.49,1486.45 1465.49,47.2441 \\n  \\\"\\/>\\n<polyline clip-path=\\\"url(#clip842)\\\" style=\\\"stroke:#000000; stroke-width:2; stroke-opacity:0.1; fill:none\\\" points=\\\"\\n  1909.12,1486.45 1909.12,47.2441 \\n  \\\"\\/>\\n<polyline clip-path=\\\"url(#clip842)\\\" style=\\\"stroke:#000000; stroke-width:2; stroke-opacity:0.1; fill:none\\\" points=\\\"\\n  2352.76,1486.45 2352.76,47.2441 \\n  \\\"\\/>\\n<polyline clip-path=\\\"url(#clip840)\\\" style=\\\"stroke:#000000; stroke-width:4; stroke-opacity:1; fill:none\\\" points=\\\"\\n  134.584,1486.45 2352.76,1486.45 \\n  \\\"\\/>\\n<polyline clip-path=\\\"url(#clip840)\\\" style=\\\"stroke:#000000; stroke-width:4; stroke-opacity:1; fill:none\\\" points=\\\"\\n  134.584,1486.45 134.584,1469.18 \\n  \\\"\\/>\\n<polyline clip-path=\\\"url(#clip840)\\\" style=\\\"stroke:#000000; stroke-width:4; stroke-opacity:1; fill:none\\\" points=\\\"\\n  578.219,1486.45 578.219,1469.18 \\n  \\\"\\/>\\n<polyline clip-path=\\\"url(#clip840)\\\" style=\\\"stroke:#000000; stroke-width:4; stroke-opacity:1; fill:none\\\" points=\\\"\\n  1021.85,1486.45 1021.85,1469.18 \\n  \\\"\\/>\\n<polyline clip-path=\\\"url(#clip840)\\\" style=\\\"stroke:#000000; stroke-width:4; stroke-opacity:1; fill:none\\\" points=\\\"\\n  1465.49,1486.45 1465.49,1469.18 \\n  \\\"\\/>\\n<polyline clip-path=\\\"url(#clip840)\\\" style=\\\"stroke:#000000; stroke-width:4; stroke-opacity:1; fill:none\\\" points=\\\"\\n  1909.12,1486.45 1909.12,1469.18 \\n  \\\"\\/>\\n<polyline clip-path=\\\"url(#clip840)\\\" style=\\\"stroke:#000000; stroke-width:4; stroke-opacity:1; fill:none\\\" points=\\\"\\n  2352.76,1486.45 2352.76,1469.18 \\n  \\\"\\/>\\n<path clip-path=\\\"url(#clip840)\\\" d=\\\"M 0 0 M134.584 1515.64 Q130.973 1515.64 129.145 1519.2 Q127.339 1522.75 127.339 1529.87 Q127.339 1536.98 129.145 1540.55 Q130.973 1544.09 134.584 1544.09 Q138.219 1544.09 140.024 1540.55 Q141.853 1536.98 141.853 1529.87 Q141.853 1522.75 140.024 1519.2 Q138.219 1515.64 134.584 1515.64 M134.584 1511.93 Q140.395 1511.93 143.45 1516.54 Q146.529 1521.12 146.529 1529.87 Q146.529 1538.6 143.45 1543.21 Q140.395 1547.79 134.584 1547.79 Q128.774 1547.79 125.696 1543.21 Q122.64 1538.6 122.64 1529.87 Q122.64 1521.12 125.696 1516.54 Q128.774 1511.93 134.584 1511.93 Z\\\" fill=\\\"#000000\\\" fill-rule=\\\"evenodd\\\" fill-opacity=\\\"1\\\" \\/><path clip-path=\\\"url(#clip840)\\\" d=\\\"M 0 0 M545.858 1543.18 L562.177 1543.18 L562.177 1547.12 L540.233 1547.12 L540.233 1543.18 Q542.895 1540.43 547.478 1535.8 Q552.085 1531.15 553.265 1529.81 Q555.511 1527.28 556.39 1525.55 Q557.293 1523.79 557.293 1522.1 Q557.293 1519.34 555.349 1517.61 Q553.427 1515.87 550.325 1515.87 Q548.126 1515.87 545.673 1516.63 Q543.242 1517.4 540.464 1518.95 L540.464 1514.23 Q543.288 1513.09 545.742 1512.51 Q548.196 1511.93 550.233 1511.93 Q555.603 1511.93 558.798 1514.62 Q561.992 1517.31 561.992 1521.8 Q561.992 1523.93 561.182 1525.85 Q560.395 1527.74 558.288 1530.34 Q557.71 1531.01 554.608 1534.23 Q551.506 1537.42 545.858 1543.18 Z\\\" fill=\\\"#000000\\\" fill-rule=\\\"evenodd\\\" fill-opacity=\\\"1\\\" \\/><path clip-path=\\\"url(#clip840)\\\" d=\\\"M 0 0 M577.247 1515.64 Q573.635 1515.64 571.807 1519.2 Q570.001 1522.75 570.001 1529.87 Q570.001 1536.98 571.807 1540.55 Q573.635 1544.09 577.247 1544.09 Q580.881 1544.09 582.686 1540.55 Q584.515 1536.98 584.515 1529.87 Q584.515 1522.75 582.686 1519.2 Q580.881 1515.64 577.247 1515.64 M577.247 1511.93 Q583.057 1511.93 586.112 1516.54 Q589.191 1521.12 589.191 1529.87 Q589.191 1538.6 586.112 1543.21 Q583.057 1547.79 577.247 1547.79 Q571.436 1547.79 568.358 1543.21 Q565.302 1538.6 565.302 1529.87 Q565.302 1521.12 568.358 1516.54 Q571.436 1511.93 577.247 1511.93 Z\\\" fill=\\\"#000000\\\" fill-rule=\\\"evenodd\\\" fill-opacity=\\\"1\\\" \\/><path clip-path=\\\"url(#clip840)\\\" d=\\\"M 0 0 M604.26 1515.64 Q600.649 1515.64 598.82 1519.2 Q597.015 1522.75 597.015 1529.87 Q597.015 1536.98 598.82 1540.55 Q600.649 1544.09 604.26 1544.09 Q607.895 1544.09 609.7 1540.55 Q611.529 1536.98 611.529 1529.87 Q611.529 1522.75 609.7 1519.2 Q607.895 1515.64 604.26 1515.64 M604.26 1511.93 Q610.07 1511.93 613.126 1516.54 Q616.205 1521.12 616.205 1529.87 Q616.205 1538.6 613.126 1543.21 Q610.07 1547.79 604.26 1547.79 Q598.45 1547.79 595.371 1543.21 Q592.316 1538.6 592.316 1529.87 Q592.316 1521.12 595.371 1516.54 Q598.45 1511.93 604.26 1511.93 Z\\\" fill=\\\"#000000\\\" fill-rule=\\\"evenodd\\\" fill-opacity=\\\"1\\\" \\/><path clip-path=\\\"url(#clip840)\\\" d=\\\"M 0 0 M997.849 1516.63 L986.043 1535.08 L997.849 1535.08 L997.849 1516.63 M996.622 1512.56 L1002.5 1512.56 L1002.5 1535.08 L1007.43 1535.08 L1007.43 1538.97 L1002.5 1538.97 L1002.5 1547.12 L997.849 1547.12 L997.849 1538.97 L982.247 1538.97 L982.247 1534.46 L996.622 1512.56 Z\\\" fill=\\\"#000000\\\" fill-rule=\\\"evenodd\\\" fill-opacity=\\\"1\\\" \\/><path clip-path=\\\"url(#clip840)\\\" d=\\\"M 0 0 M1022.5 1515.64 Q1018.89 1515.64 1017.06 1519.2 Q1015.26 1522.75 1015.26 1529.87 Q1015.26 1536.98 1017.06 1540.55 Q1018.89 1544.09 1022.5 1544.09 Q1026.14 1544.09 1027.94 1540.55 Q1029.77 1536.98 1029.77 1529.87 Q1029.77 1522.75 1027.94 1519.2 Q1026.14 1515.64 1022.5 1515.64 M1022.5 1511.93 Q1028.31 1511.93 1031.37 1516.54 Q1034.45 1521.12 1034.45 1529.87 Q1034.45 1538.6 1031.37 1543.21 Q1028.31 1547.79 1022.5 1547.79 Q1016.69 1547.79 1013.61 1543.21 Q1010.56 1538.6 1010.56 1529.87 Q1010.56 1521.12 1013.61 1516.54 Q1016.69 1511.93 1022.5 1511.93 Z\\\" fill=\\\"#000000\\\" fill-rule=\\\"evenodd\\\" fill-opacity=\\\"1\\\" \\/><path clip-path=\\\"url(#clip840)\\\" d=\\\"M 0 0 M1049.51 1515.64 Q1045.9 1515.64 1044.08 1519.2 Q1042.27 1522.75 1042.27 1529.87 Q1042.27 1536.98 1044.08 1540.55 Q1045.9 1544.09 1049.51 1544.09 Q1053.15 1544.09 1054.95 1540.55 Q1056.78 1536.98 1056.78 1529.87 Q1056.78 1522.75 1054.95 1519.2 Q1053.15 1515.64 1049.51 1515.64 M1049.51 1511.93 Q1055.33 1511.93 1058.38 1516.54 Q1061.46 1521.12 1061.46 1529.87 Q1061.46 1538.6 1058.38 1543.21 Q1055.33 1547.79 1049.51 1547.79 Q1043.7 1547.79 1040.63 1543.21 Q1037.57 1538.6 1037.57 1529.87 Q1037.57 1521.12 1040.63 1516.54 Q1043.7 1511.93 1049.51 1511.93 Z\\\" fill=\\\"#000000\\\" fill-rule=\\\"evenodd\\\" fill-opacity=\\\"1\\\" \\/><path clip-path=\\\"url(#clip840)\\\" d=\\\"M 0 0 M1438.88 1527.98 Q1435.73 1527.98 1433.88 1530.13 Q1432.05 1532.28 1432.05 1536.03 Q1432.05 1539.76 1433.88 1541.93 Q1435.73 1544.09 1438.88 1544.09 Q1442.03 1544.09 1443.86 1541.93 Q1445.71 1539.76 1445.71 1536.03 Q1445.71 1532.28 1443.86 1530.13 Q1442.03 1527.98 1438.88 1527.98 M1448.16 1513.32 L1448.16 1517.58 Q1446.4 1516.75 1444.6 1516.31 Q1442.81 1515.87 1441.05 1515.87 Q1436.42 1515.87 1433.97 1519 Q1431.54 1522.12 1431.19 1528.44 Q1432.56 1526.43 1434.62 1525.36 Q1436.68 1524.27 1439.16 1524.27 Q1444.36 1524.27 1447.37 1527.44 Q1450.41 1530.59 1450.41 1536.03 Q1450.41 1541.36 1447.26 1544.57 Q1444.11 1547.79 1438.88 1547.79 Q1432.88 1547.79 1429.71 1543.21 Q1426.54 1538.6 1426.54 1529.87 Q1426.54 1521.68 1430.43 1516.82 Q1434.32 1511.93 1440.87 1511.93 Q1442.63 1511.93 1444.41 1512.28 Q1446.22 1512.63 1448.16 1513.32 Z\\\" fill=\\\"#000000\\\" fill-rule=\\\"evenodd\\\" fill-opacity=\\\"1\\\" \\/><path clip-path=\\\"url(#clip840)\\\" d=\\\"M 0 0 M1465.48 1515.64 Q1461.86 1515.64 1460.04 1519.2 Q1458.23 1522.75 1458.23 1529.87 Q1458.23 1536.98 1460.04 1540.55 Q1461.86 1544.09 1465.48 1544.09 Q1469.11 1544.09 1470.92 1540.55 Q1472.74 1536.98 1472.74 1529.87 Q1472.74 1522.75 1470.92 1519.2 Q1469.11 1515.64 1465.48 1515.64 M1465.48 1511.93 Q1471.29 1511.93 1474.34 1516.54 Q1477.42 1521.12 1477.42 1529.87 Q1477.42 1538.6 1474.34 1543.21 Q1471.29 1547.79 1465.48 1547.79 Q1459.67 1547.79 1456.59 1543.21 Q1453.53 1538.6 1453.53 1529.87 Q1453.53 1521.12 1456.59 1516.54 Q1459.67 1511.93 1465.48 1511.93 Z\\\" fill=\\\"#000000\\\" fill-rule=\\\"evenodd\\\" fill-opacity=\\\"1\\\" \\/><path clip-path=\\\"url(#clip840)\\\" d=\\\"M 0 0 M1492.49 1515.64 Q1488.88 1515.64 1487.05 1519.2 Q1485.24 1522.75 1485.24 1529.87 Q1485.24 1536.98 1487.05 1540.55 Q1488.88 1544.09 1492.49 1544.09 Q1496.12 1544.09 1497.93 1540.55 Q1499.76 1536.98 1499.76 1529.87 Q1499.76 1522.75 1497.93 1519.2 Q1496.12 1515.64 1492.49 1515.64 M1492.49 1511.93 Q1498.3 1511.93 1501.36 1516.54 Q1504.43 1521.12 1504.43 1529.87 Q1504.43 1538.6 1501.36 1543.21 Q1498.3 1547.79 1492.49 1547.79 Q1486.68 1547.79 1483.6 1543.21 Q1480.55 1538.6 1480.55 1529.87 Q1480.55 1521.12 1483.6 1516.54 Q1486.68 1511.93 1492.49 1511.93 Z\\\" fill=\\\"#000000\\\" fill-rule=\\\"evenodd\\\" fill-opacity=\\\"1\\\" \\/><path clip-path=\\\"url(#clip840)\\\" d=\\\"M 0 0 M1882.11 1530.71 Q1878.77 1530.71 1876.85 1532.49 Q1874.96 1534.27 1874.96 1537.4 Q1874.96 1540.52 1876.85 1542.31 Q1878.77 1544.09 1882.11 1544.09 Q1885.44 1544.09 1887.36 1542.31 Q1889.28 1540.5 1889.28 1537.4 Q1889.28 1534.27 1887.36 1532.49 Q1885.46 1530.71 1882.11 1530.71 M1877.43 1528.72 Q1874.42 1527.98 1872.73 1525.92 Q1871.07 1523.86 1871.07 1520.89 Q1871.07 1516.75 1874.01 1514.34 Q1876.97 1511.93 1882.11 1511.93 Q1887.27 1511.93 1890.21 1514.34 Q1893.15 1516.75 1893.15 1520.89 Q1893.15 1523.86 1891.46 1525.92 Q1889.79 1527.98 1886.81 1528.72 Q1890.19 1529.5 1892.06 1531.8 Q1893.96 1534.09 1893.96 1537.4 Q1893.96 1542.42 1890.88 1545.11 Q1887.83 1547.79 1882.11 1547.79 Q1876.39 1547.79 1873.31 1545.11 Q1870.26 1542.42 1870.26 1537.4 Q1870.26 1534.09 1872.15 1531.8 Q1874.05 1529.5 1877.43 1528.72 M1875.72 1521.33 Q1875.72 1524.02 1877.39 1525.52 Q1879.08 1527.03 1882.11 1527.03 Q1885.12 1527.03 1886.81 1525.52 Q1888.52 1524.02 1888.52 1521.33 Q1888.52 1518.65 1886.81 1517.14 Q1885.12 1515.64 1882.11 1515.64 Q1879.08 1515.64 1877.39 1517.14 Q1875.72 1518.65 1875.72 1521.33 Z\\\" fill=\\\"#000000\\\" fill-rule=\\\"evenodd\\\" fill-opacity=\\\"1\\\" \\/><path clip-path=\\\"url(#clip840)\\\" d=\\\"M 0 0 M1909.03 1515.64 Q1905.42 1515.64 1903.59 1519.2 Q1901.78 1522.75 1901.78 1529.87 Q1901.78 1536.98 1903.59 1540.55 Q1905.42 1544.09 1909.03 1544.09 Q1912.66 1544.09 1914.47 1540.55 Q1916.3 1536.98 1916.3 1529.87 Q1916.3 1522.75 1914.47 1519.2 Q1912.66 1515.64 1909.03 1515.64 M1909.03 1511.93 Q1914.84 1511.93 1917.89 1516.54 Q1920.97 1521.12 1920.97 1529.87 Q1920.97 1538.6 1917.89 1543.21 Q1914.84 1547.79 1909.03 1547.79 Q1903.22 1547.79 1900.14 1543.21 Q1897.08 1538.6 1897.08 1529.87 Q1897.08 1521.12 1900.14 1516.54 Q1903.22 1511.93 1909.03 1511.93 Z\\\" fill=\\\"#000000\\\" fill-rule=\\\"evenodd\\\" fill-opacity=\\\"1\\\" \\/><path clip-path=\\\"url(#clip840)\\\" d=\\\"M 0 0 M1936.04 1515.64 Q1932.43 1515.64 1930.6 1519.2 Q1928.8 1522.75 1928.8 1529.87 Q1928.8 1536.98 1930.6 1540.55 Q1932.43 1544.09 1936.04 1544.09 Q1939.68 1544.09 1941.48 1540.55 Q1943.31 1536.98 1943.31 1529.87 Q1943.31 1522.75 1941.48 1519.2 Q1939.68 1515.64 1936.04 1515.64 M1936.04 1511.93 Q1941.85 1511.93 1944.91 1516.54 Q1947.99 1521.12 1947.99 1529.87 Q1947.99 1538.6 1944.91 1543.21 Q1941.85 1547.79 1936.04 1547.79 Q1930.23 1547.79 1927.15 1543.21 Q1924.1 1538.6 1924.1 1529.87 Q1924.1 1521.12 1927.15 1516.54 Q1930.23 1511.93 1936.04 1511.93 Z\\\" fill=\\\"#000000\\\" fill-rule=\\\"evenodd\\\" fill-opacity=\\\"1\\\" \\/><path clip-path=\\\"url(#clip840)\\\" d=\\\"M 0 0 M2302.62 1543.18 L2310.26 1543.18 L2310.26 1516.82 L2301.95 1518.49 L2301.95 1514.23 L2310.21 1512.56 L2314.89 1512.56 L2314.89 1543.18 L2322.52 1543.18 L2322.52 1547.12 L2302.62 1547.12 L2302.62 1543.18 Z\\\" fill=\\\"#000000\\\" fill-rule=\\\"evenodd\\\" fill-opacity=\\\"1\\\" \\/><path clip-path=\\\"url(#clip840)\\\" d=\\\"M 0 0 M2337.59 1515.64 Q2333.98 1515.64 2332.15 1519.2 Q2330.35 1522.75 2330.35 1529.87 Q2330.35 1536.98 2332.15 1540.55 Q2333.98 1544.09 2337.59 1544.09 Q2341.23 1544.09 2343.03 1540.55 Q2344.86 1536.98 2344.86 1529.87 Q2344.86 1522.75 2343.03 1519.2 Q2341.23 1515.64 2337.59 1515.64 M2337.59 1511.93 Q2343.4 1511.93 2346.46 1516.54 Q2349.54 1521.12 2349.54 1529.87 Q2349.54 1538.6 2346.46 1543.21 Q2343.4 1547.79 2337.59 1547.79 Q2331.78 1547.79 2328.71 1543.21 Q2325.65 1538.6 2325.65 1529.87 Q2325.65 1521.12 2328.71 1516.54 Q2331.78 1511.93 2337.59 1511.93 Z\\\" fill=\\\"#000000\\\" fill-rule=\\\"evenodd\\\" fill-opacity=\\\"1\\\" \\/><path clip-path=\\\"url(#clip840)\\\" d=\\\"M 0 0 M2364.61 1515.64 Q2361 1515.64 2359.17 1519.2 Q2357.36 1522.75 2357.36 1529.87 Q2357.36 1536.98 2359.17 1540.55 Q2361 1544.09 2364.61 1544.09 Q2368.24 1544.09 2370.05 1540.55 Q2371.88 1536.98 2371.88 1529.87 Q2371.88 1522.75 2370.05 1519.2 Q2368.24 1515.64 2364.61 1515.64 M2364.61 1511.93 Q2370.42 1511.93 2373.47 1516.54 Q2376.55 1521.12 2376.55 1529.87 Q2376.55 1538.6 2373.47 1543.21 Q2370.42 1547.79 2364.61 1547.79 Q2358.8 1547.79 2355.72 1543.21 Q2352.66 1538.6 2352.66 1529.87 Q2352.66 1521.12 2355.72 1516.54 Q2358.8 1511.93 2364.61 1511.93 Z\\\" fill=\\\"#000000\\\" fill-rule=\\\"evenodd\\\" fill-opacity=\\\"1\\\" \\/><path clip-path=\\\"url(#clip840)\\\" d=\\\"M 0 0 M2391.62 1515.64 Q2388.01 1515.64 2386.18 1519.2 Q2384.38 1522.75 2384.38 1529.87 Q2384.38 1536.98 2386.18 1540.55 Q2388.01 1544.09 2391.62 1544.09 Q2395.26 1544.09 2397.06 1540.55 Q2398.89 1536.98 2398.89 1529.87 Q2398.89 1522.75 2397.06 1519.2 Q2395.26 1515.64 2391.62 1515.64 M2391.62 1511.93 Q2397.43 1511.93 2400.49 1516.54 Q2403.57 1521.12 2403.57 1529.87 Q2403.57 1538.6 2400.49 1543.21 Q2397.43 1547.79 2391.62 1547.79 Q2385.81 1547.79 2382.73 1543.21 Q2379.68 1538.6 2379.68 1529.87 Q2379.68 1521.12 2382.73 1516.54 Q2385.81 1511.93 2391.62 1511.93 Z\\\" fill=\\\"#000000\\\" fill-rule=\\\"evenodd\\\" fill-opacity=\\\"1\\\" \\/><polyline clip-path=\\\"url(#clip842)\\\" style=\\\"stroke:#000000; stroke-width:2; stroke-opacity:0.1; fill:none\\\" points=\\\"\\n  134.584,1486.45 2352.76,1486.45 \\n  \\\"\\/>\\n<polyline clip-path=\\\"url(#clip842)\\\" style=\\\"stroke:#000000; stroke-width:2; stroke-opacity:0.1; fill:none\\\" points=\\\"\\n  134.584,1198.61 2352.76,1198.61 \\n  \\\"\\/>\\n<polyline clip-path=\\\"url(#clip842)\\\" style=\\\"stroke:#000000; stroke-width:2; stroke-opacity:0.1; fill:none\\\" points=\\\"\\n  134.584,910.766 2352.76,910.766 \\n  \\\"\\/>\\n<polyline clip-path=\\\"url(#clip842)\\\" style=\\\"stroke:#000000; stroke-width:2; stroke-opacity:0.1; fill:none\\\" points=\\\"\\n  134.584,622.926 2352.76,622.926 \\n  \\\"\\/>\\n<polyline clip-path=\\\"url(#clip842)\\\" style=\\\"stroke:#000000; stroke-width:2; stroke-opacity:0.1; fill:none\\\" points=\\\"\\n  134.584,335.085 2352.76,335.085 \\n  \\\"\\/>\\n<polyline clip-path=\\\"url(#clip842)\\\" style=\\\"stroke:#000000; stroke-width:2; stroke-opacity:0.1; fill:none\\\" points=\\\"\\n  134.584,47.2441 2352.76,47.2441 \\n  \\\"\\/>\\n<polyline clip-path=\\\"url(#clip840)\\\" style=\\\"stroke:#000000; stroke-width:4; stroke-opacity:1; fill:none\\\" points=\\\"\\n  134.584,1486.45 134.584,47.2441 \\n  \\\"\\/>\\n<polyline clip-path=\\\"url(#clip840)\\\" style=\\\"stroke:#000000; stroke-width:4; stroke-opacity:1; fill:none\\\" points=\\\"\\n  134.584,1486.45 161.203,1486.45 \\n  \\\"\\/>\\n<polyline clip-path=\\\"url(#clip840)\\\" style=\\\"stroke:#000000; stroke-width:4; stroke-opacity:1; fill:none\\\" points=\\\"\\n  134.584,1198.61 161.203,1198.61 \\n  \\\"\\/>\\n<polyline clip-path=\\\"url(#clip840)\\\" style=\\\"stroke:#000000; stroke-width:4; stroke-opacity:1; fill:none\\\" points=\\\"\\n  134.584,910.766 161.203,910.766 \\n  \\\"\\/>\\n<polyline clip-path=\\\"url(#clip840)\\\" style=\\\"stroke:#000000; stroke-width:4; stroke-opacity:1; fill:none\\\" points=\\\"\\n  134.584,622.926 161.203,622.926 \\n  \\\"\\/>\\n<polyline clip-path=\\\"url(#clip840)\\\" style=\\\"stroke:#000000; stroke-width:4; stroke-opacity:1; fill:none\\\" points=\\\"\\n  134.584,335.085 161.203,335.085 \\n  \\\"\\/>\\n<polyline clip-path=\\\"url(#clip840)\\\" style=\\\"stroke:#000000; stroke-width:4; stroke-opacity:1; fill:none\\\" points=\\\"\\n  134.584,47.2441 161.203,47.2441 \\n  \\\"\\/>\\n<path clip-path=\\\"url(#clip840)\\\" d=\\\"M 0 0 M86.6401 1472.25 Q83.029 1472.25 81.2003 1475.81 Q79.3948 1479.35 79.3948 1486.48 Q79.3948 1493.59 81.2003 1497.15 Q83.029 1500.7 86.6401 1500.7 Q90.2743 1500.7 92.0799 1497.15 Q93.9086 1493.59 93.9086 1486.48 Q93.9086 1479.35 92.0799 1475.81 Q90.2743 1472.25 86.6401 1472.25 M86.6401 1468.54 Q92.4502 1468.54 95.5058 1473.15 Q98.5845 1477.73 98.5845 1486.48 Q98.5845 1495.21 95.5058 1499.82 Q92.4502 1504.4 86.6401 1504.4 Q80.8299 1504.4 77.7512 1499.82 Q74.6957 1495.21 74.6957 1486.48 Q74.6957 1477.73 77.7512 1473.15 Q80.8299 1468.54 86.6401 1468.54 Z\\\" fill=\\\"#000000\\\" fill-rule=\\\"evenodd\\\" fill-opacity=\\\"1\\\" \\/><path clip-path=\\\"url(#clip840)\\\" d=\\\"M 0 0 M82.2651 1211.95 L98.5845 1211.95 L98.5845 1215.89 L76.6401 1215.89 L76.6401 1211.95 Q79.3022 1209.2 83.8855 1204.57 Q88.4919 1199.91 89.6725 1198.57 Q91.9178 1196.05 92.7975 1194.31 Q93.7002 1192.55 93.7002 1190.86 Q93.7002 1188.11 91.7558 1186.37 Q89.8345 1184.64 86.7327 1184.64 Q84.5336 1184.64 82.0799 1185.4 Q79.6494 1186.17 76.8716 1187.72 L76.8716 1182.99 Q79.6957 1181.86 82.1494 1181.28 Q84.6031 1180.7 86.6401 1180.7 Q92.0104 1180.7 95.2049 1183.39 Q98.3993 1186.07 98.3993 1190.56 Q98.3993 1192.69 97.5891 1194.61 Q96.8021 1196.51 94.6956 1199.1 Q94.1169 1199.78 91.0151 1202.99 Q87.9132 1206.19 82.2651 1211.95 Z\\\" fill=\\\"#000000\\\" fill-rule=\\\"evenodd\\\" fill-opacity=\\\"1\\\" \\/><path clip-path=\\\"url(#clip840)\\\" d=\\\"M 0 0 M89.0012 897.56 L77.1957 916.009 L89.0012 916.009 L89.0012 897.56 M87.7743 893.486 L93.6539 893.486 L93.6539 916.009 L98.5845 916.009 L98.5845 919.898 L93.6539 919.898 L93.6539 928.046 L89.0012 928.046 L89.0012 919.898 L73.3994 919.898 L73.3994 915.384 L87.7743 893.486 Z\\\" fill=\\\"#000000\\\" fill-rule=\\\"evenodd\\\" fill-opacity=\\\"1\\\" \\/><path clip-path=\\\"url(#clip840)\\\" d=\\\"M 0 0 M87.0567 621.062 Q83.9086 621.062 82.0568 623.215 Q80.2281 625.368 80.2281 629.118 Q80.2281 632.845 82.0568 635.02 Q83.9086 637.173 87.0567 637.173 Q90.2049 637.173 92.0336 635.02 Q93.8854 632.845 93.8854 629.118 Q93.8854 625.368 92.0336 623.215 Q90.2049 621.062 87.0567 621.062 M96.3391 606.409 L96.3391 610.669 Q94.5799 609.835 92.7743 609.396 Q90.9919 608.956 89.2327 608.956 Q84.6031 608.956 82.1494 612.081 Q79.7188 615.206 79.3716 621.525 Q80.7373 619.511 82.7975 618.446 Q84.8577 617.359 87.3345 617.359 Q92.5428 617.359 95.5521 620.53 Q98.5845 623.678 98.5845 629.118 Q98.5845 634.442 95.4363 637.659 Q92.2882 640.877 87.0567 640.877 Q81.0614 640.877 77.8901 636.294 Q74.7189 631.687 74.7189 622.96 Q74.7189 614.766 78.6077 609.905 Q82.4966 605.021 89.0475 605.021 Q90.8067 605.021 92.5891 605.368 Q94.3947 605.715 96.3391 606.409 Z\\\" fill=\\\"#000000\\\" fill-rule=\\\"evenodd\\\" fill-opacity=\\\"1\\\" \\/><path clip-path=\\\"url(#clip840)\\\" d=\\\"M 0 0 M86.7327 335.953 Q83.3994 335.953 81.4781 337.735 Q79.5799 339.518 79.5799 342.643 Q79.5799 345.768 81.4781 347.55 Q83.3994 349.332 86.7327 349.332 Q90.066 349.332 91.9873 347.55 Q93.9086 345.745 93.9086 342.643 Q93.9086 339.518 91.9873 337.735 Q90.0891 335.953 86.7327 335.953 M82.0568 333.962 Q79.0475 333.221 77.3577 331.161 Q75.6911 329.101 75.6911 326.138 Q75.6911 321.995 78.6309 319.587 Q81.5938 317.18 86.7327 317.18 Q91.8947 317.18 94.8345 319.587 Q97.7743 321.995 97.7743 326.138 Q97.7743 329.101 96.0845 331.161 Q94.4178 333.221 91.4317 333.962 Q94.8113 334.749 96.6863 337.041 Q98.5845 339.333 98.5845 342.643 Q98.5845 347.666 95.5058 350.351 Q92.4502 353.036 86.7327 353.036 Q81.0151 353.036 77.9364 350.351 Q74.8809 347.666 74.8809 342.643 Q74.8809 339.333 76.779 337.041 Q78.6772 334.749 82.0568 333.962 M80.3438 326.578 Q80.3438 329.263 82.0105 330.768 Q83.7003 332.272 86.7327 332.272 Q89.7419 332.272 91.4317 330.768 Q93.1447 329.263 93.1447 326.578 Q93.1447 323.893 91.4317 322.388 Q89.7419 320.884 86.7327 320.884 Q83.7003 320.884 82.0105 322.388 Q80.3438 323.893 80.3438 326.578 Z\\\" fill=\\\"#000000\\\" fill-rule=\\\"evenodd\\\" fill-opacity=\\\"1\\\" \\/><path clip-path=\\\"url(#clip840)\\\" d=\\\"M 0 0 M51.6634 60.5889 L59.3023 60.5889 L59.3023 34.2233 L50.9921 35.89 L50.9921 31.6308 L59.256 29.9641 L63.9319 29.9641 L63.9319 60.5889 L71.5707 60.5889 L71.5707 64.5241 L51.6634 64.5241 L51.6634 60.5889 Z\\\" fill=\\\"#000000\\\" fill-rule=\\\"evenodd\\\" fill-opacity=\\\"1\\\" \\/><path clip-path=\\\"url(#clip840)\\\" d=\\\"M 0 0 M86.6401 33.0428 Q83.029 33.0428 81.2003 36.6076 Q79.3948 40.1492 79.3948 47.2788 Q79.3948 54.3853 81.2003 57.9501 Q83.029 61.4917 86.6401 61.4917 Q90.2743 61.4917 92.0799 57.9501 Q93.9086 54.3853 93.9086 47.2788 Q93.9086 40.1492 92.0799 36.6076 Q90.2743 33.0428 86.6401 33.0428 M86.6401 29.3391 Q92.4502 29.3391 95.5058 33.9456 Q98.5845 38.5289 98.5845 47.2788 Q98.5845 56.0056 95.5058 60.6121 Q92.4502 65.1954 86.6401 65.1954 Q80.8299 65.1954 77.7512 60.6121 Q74.6957 56.0056 74.6957 47.2788 Q74.6957 38.5289 77.7512 33.9456 Q80.8299 29.3391 86.6401 29.3391 Z\\\" fill=\\\"#000000\\\" fill-rule=\\\"evenodd\\\" fill-opacity=\\\"1\\\" \\/><path clip-path=\\\"url(#clip842)\\\" d=\\\"M136.803 1358.53 L125.491 1353.84 L120.803 1342.53 L125.491 1331.22 L136.803 1326.53 L148.115 1331.22 L152.803 1342.53 L148.115 1353.84 Z\\\" fill=\\\"#009af9\\\" fill-rule=\\\"evenodd\\\" fill-opacity=\\\"1\\\" stroke=\\\"#000000\\\" stroke-opacity=\\\"1\\\" stroke-width=\\\"3.2\\\"\\/>\\n<path clip-path=\\\"url(#clip840)\\\" d=\\\"\\nM1981.34 216.178 L2278.82 216.178 L2278.82 95.2176 L1981.34 95.2176  Z\\n  \\\" fill=\\\"#ffffff\\\" fill-rule=\\\"evenodd\\\" fill-opacity=\\\"1\\\"\\/>\\n<polyline clip-path=\\\"url(#clip840)\\\" style=\\\"stroke:#000000; stroke-width:4; stroke-opacity:1; fill:none\\\" points=\\\"\\n  1981.34,216.178 2278.82,216.178 2278.82,95.2176 1981.34,95.2176 1981.34,216.178 \\n  \\\"\\/>\\n<polyline clip-path=\\\"url(#clip840)\\\" style=\\\"stroke:#009af9; stroke-width:4; stroke-opacity:1; fill:none\\\" points=\\\"\\n  2005.98,155.698 2153.86,155.698 \\n  \\\"\\/>\\n<path clip-path=\\\"url(#clip840)\\\" d=\\\"M2079.92 181.298 L2061.82 173.797 L2054.32 155.698 L2061.82 137.598 L2079.92 130.098 L2098.02 137.598 L2105.52 155.698 L2098.02 173.797 Z\\\" fill=\\\"#009af9\\\" fill-rule=\\\"evenodd\\\" fill-opacity=\\\"1\\\" stroke=\\\"#000000\\\" stroke-opacity=\\\"1\\\" stroke-width=\\\"5.12\\\"\\/>\\n<path clip-path=\\\"url(#clip840)\\\" d=\\\"M 0 0 M2192.35 175.385 Q2190.54 180.015 2188.83 181.427 Q2187.12 182.839 2184.25 182.839 L2180.84 182.839 L2180.84 179.274 L2183.34 179.274 Q2185.1 179.274 2186.08 178.44 Q2187.05 177.607 2188.23 174.505 L2188.99 172.561 L2178.51 147.052 L2183.02 147.052 L2191.12 167.329 L2199.22 147.052 L2203.74 147.052 L2192.35 175.385 Z\\\" fill=\\\"#000000\\\" fill-rule=\\\"evenodd\\\" fill-opacity=\\\"1\\\" \\/><path clip-path=\\\"url(#clip840)\\\" d=\\\"M 0 0 M2209.62 169.042 L2217.26 169.042 L2217.26 142.677 L2208.95 144.343 L2208.95 140.084 L2217.21 138.418 L2221.89 138.418 L2221.89 169.042 L2229.52 169.042 L2229.52 172.978 L2209.62 172.978 L2209.62 169.042 Z\\\" fill=\\\"#000000\\\" fill-rule=\\\"evenodd\\\" fill-opacity=\\\"1\\\" \\/><\\/svg>\\n\"},\"nodeType\":\"DOM\",\"type\":\"node\",\"instanceArgs\":{\"namespace\":\"html\",\"tag\":\"div\"},\"children\":[]}]}}}},\"children\":[{\"props\":{},\"nodeType\":\"ObservableNode\",\"type\":\"node\",\"instanceArgs\":{\"id\":\"10495457760526852048\",\"name\":\"obs-node\"},\"children\":[]}]}]},\n",
       "            window,\n",
       "        );\n",
       "    } else {\n",
       "        document\n",
       "            .querySelector('[data-webio-mountpoint=\"16984921841167028805\"]')\n",
       "            .innerHTML = (\n",
       "                '<div style=\"padding: 1em; background-color: #f8d6da; border: 1px solid #f5c6cb\">' +\n",
       "                '<p><strong>WebIO not detected.</strong></p>' +\n",
       "                '<p>Please read ' +\n",
       "                '<a href=\"https://juliagizmos.github.io/WebIO.jl/latest/troubleshooting/not-detected/\" target=\"_blank\">the troubleshooting guide</a> ' +\n",
       "                'for more information on how to resolve this issue.</p>' +\n",
       "                '<p><a href=\"https://juliagizmos.github.io/WebIO.jl/latest/troubleshooting/not-detected/\" target=\"_blank\">https://juliagizmos.github.io/WebIO.jl/latest/troubleshooting/not-detected/</a></p>' +\n",
       "                '</div>'\n",
       "            );\n",
       "    }\n",
       "    </script>\n",
       "</div>\n"
      ],
      "text/plain": [
       "Node{WebIO.DOM}(WebIO.DOM(:html, :div), Any[Node{WebIO.DOM}(WebIO.DOM(:html, :div), Any[Scope(Node{WebIO.DOM}(WebIO.DOM(:html, :div), Any[Node{WebIO.DOM}(WebIO.DOM(:html, :div), Any[Node{WebIO.DOM}(WebIO.DOM(:html, :label), Any[nothing], Dict{Symbol, Any}(:className => \"interact \", :style => Dict{Any, Any}(:padding => \"5px 10px 0px 10px\")))], Dict{Symbol, Any}(:className => \"interact-flex-row-left\")), Node{WebIO.DOM}(WebIO.DOM(:html, :div), Any[Node{WebIO.DOM}(WebIO.DOM(:html, :input), Any[], Dict{Symbol, Any}(:max => 1000, :min => 1, :attributes => Dict{Any, Any}(:type => \"range\", Symbol(\"data-bind\") => \"numericValue: index, valueUpdate: 'input', event: {change: function (){this.changes(this.changes()+1)}}\", \"orient\" => \"horizontal\"), :step => 1, :className => \"slider slider is-fullwidth\", :style => Dict{Any, Any}()))], Dict{Symbol, Any}(:className => \"interact-flex-row-center\")), Node{WebIO.DOM}(WebIO.DOM(:html, :div), Any[Node{WebIO.DOM}(WebIO.DOM(:html, :p), Any[], Dict{Symbol, Any}(:attributes => Dict(\"data-bind\" => \"text: formatted_val\")))], Dict{Symbol, Any}(:className => \"interact-flex-row-right\"))], Dict{Symbol, Any}(:className => \"interact-flex-row interact-widget\")), Dict{String, Tuple{Observables.AbstractObservable, Union{Nothing, Bool}}}(\"changes\" => (Observable{Int64} with 1 listeners. Value:\n",
       "0, nothing), \"index\" => (Observable{Int64} with 2 listeners. Value:\n",
       "1, nothing)), Set{String}(), nothing, Asset[Asset(\"js\", \"knockout\", \"/home/marcon/.julia/packages/Knockout/IP1uR/src/../assets/knockout.js\"), Asset(\"js\", \"knockout_punches\", \"/home/marcon/.julia/packages/Knockout/IP1uR/src/../assets/knockout_punches.js\"), Asset(\"js\", nothing, \"/home/marcon/.julia/packages/InteractBase/Zfu5P/src/../assets/all.js\"), Asset(\"css\", nothing, \"/home/marcon/.julia/packages/InteractBase/Zfu5P/src/../assets/style.css\"), Asset(\"css\", nothing, \"/home/marcon/.julia/packages/Interact/SbgIk/src/../assets/bulma_confined.min.css\")], Dict{Any, Any}(\"changes\" => Any[WebIO.JSString(\"(function (val){return (val!=this.model[\\\"changes\\\"]()) ? (this.valueFromJulia[\\\"changes\\\"]=true, this.model[\\\"changes\\\"](val)) : undefined})\")], \"index\" => Any[WebIO.JSString(\"(function (val){return (val!=this.model[\\\"index\\\"]()) ? (this.valueFromJulia[\\\"index\\\"]=true, this.model[\\\"index\\\"](val)) : undefined})\")]), WebIO.ConnectionPool(Channel{Any}(32), Set{AbstractConnection}(), Condition(Base.InvasiveLinkedList{Task}(Task (runnable) @0x00007f80e94af730, Task (runnable) @0x00007f80e94af730), Base.AlwaysLockedST(1))), WebIO.JSString[WebIO.JSString(\"function () {\\n    var handler = (function (ko, koPunches) {\\n    ko.punches.enableAll();\\n    ko.bindingHandlers.numericValue = {\\n        init: function(element, valueAccessor, allBindings, data, context) {\\n            var stringified = ko.observable(ko.unwrap(valueAccessor()));\\n            stringified.subscribe(function(value) {\\n                var val = parseFloat(value);\\n                if (!isNaN(val)) {\\n                    valueAccessor()(val);\\n                }\\n            });\\n            valueAccessor().subscribe(function(value) {\\n                var str = JSON.stringify(value);\\n                if ((str == \\\"0\\\") && ([\\\"-0\\\", \\\"-0.\\\"].indexOf(stringified()) >= 0))\\n                     return;\\n                 if ([\\\"null\\\", \\\"\\\"].indexOf(str) >= 0)\\n                     return;\\n                stringified(str);\\n            });\\n            ko.applyBindingsToNode(\\n                element,\\n                {\\n                    value: stringified,\\n                    valueUpdate: allBindings.get('valueUpdate'),\\n                },\\n                context,\\n            );\\n        }\\n    };\\n    var json_data = {\\\"formatted_vals\\\":[\\\"1\\\",\\\"2\\\",\\\"3\\\",\\\"4\\\",\\\"5\\\",\\\"6\\\",\\\"7\\\",\\\"8\\\",\\\"9\\\",\\\"10\\\",\\\"11\\\",\\\"12\\\",\\\"13\\\",\\\"14\\\",\\\"15\\\",\\\"16\\\",\\\"17\\\",\\\"18\\\",\\\"19\\\",\\\"20\\\",\\\"21\\\",\\\"22\\\",\\\"23\\\",\\\"24\\\",\\\"25\\\",\\\"26\\\",\\\"27\\\",\\\"28\\\",\\\"29\\\",\\\"30\\\",\\\"31\\\",\\\"32\\\",\\\"33\\\",\\\"34\\\",\\\"35\\\",\\\"36\\\",\\\"37\\\",\\\"38\\\",\\\"39\\\",\\\"40\\\",\\\"41\\\",\\\"42\\\",\\\"43\\\",\\\"44\\\",\\\"45\\\",\\\"46\\\",\\\"47\\\",\\\"48\\\",\\\"49\\\",\\\"50\\\",\\\"51\\\",\\\"52\\\",\\\"53\\\",\\\"54\\\",\\\"55\\\",\\\"56\\\",\\\"57\\\",\\\"58\\\",\\\"59\\\",\\\"60\\\",\\\"61\\\",\\\"62\\\",\\\"63\\\",\\\"64\\\",\\\"65\\\",\\\"66\\\",\\\"67\\\",\\\"68\\\",\\\"69\\\",\\\"70\\\",\\\"71\\\",\\\"72\\\",\\\"73\\\",\\\"74\\\",\\\"75\\\",\\\"76\\\",\\\"77\\\",\\\"78\\\",\\\"79\\\",\\\"80\\\",\\\"81\\\",\\\"82\\\",\\\"83\\\",\\\"84\\\",\\\"85\\\",\\\"86\\\",\\\"87\\\",\\\"88\\\",\\\"89\\\",\\\"90\\\",\\\"91\\\",\\\"92\\\",\\\"93\\\",\\\"94\\\",\\\"95\\\",\\\"96\\\",\\\"97\\\",\\\"98\\\",\\\"99\\\",\\\"100\\\",\\\"101\\\",\\\"102\\\",\\\"103\\\",\\\"104\\\",\\\"105\\\",\\\"106\\\",\\\"107\\\",\\\"108\\\",\\\"109\\\",\\\"110\\\",\\\"111\\\",\\\"112\\\",\\\"113\\\",\\\"114\\\",\\\"115\\\",\\\"116\\\",\\\"117\\\",\\\"118\\\",\\\"119\\\",\\\"120\\\",\\\"121\\\",\\\"122\\\",\\\"123\\\",\\\"124\\\",\\\"125\\\",\\\"126\\\",\\\"127\\\",\\\"128\\\",\\\"129\\\",\\\"130\\\",\\\"131\\\",\\\"132\\\",\\\"133\\\",\\\"134\\\",\\\"135\\\",\\\"136\\\",\\\"137\\\",\\\"138\\\",\\\"139\\\",\\\"140\\\",\\\"141\\\",\\\"142\\\",\\\"143\\\",\\\"144\\\",\\\"145\\\",\\\"146\\\",\\\"147\\\",\\\"148\\\",\\\"149\\\",\\\"150\\\",\\\"151\\\",\\\"152\\\",\\\"153\\\",\\\"154\\\",\\\"155\\\",\\\"156\\\",\\\"157\\\",\\\"158\\\",\\\"159\\\",\\\"160\\\",\\\"161\\\",\\\"162\\\",\\\"163\\\",\\\"164\\\",\\\"165\\\",\\\"166\\\",\\\"167\\\",\\\"168\\\",\\\"169\\\",\\\"170\\\",\\\"171\\\",\\\"172\\\",\\\"173\\\",\\\"174\\\",\\\"175\\\",\\\"176\\\",\\\"177\\\",\\\"178\\\",\\\"179\\\",\\\"180\\\",\\\"181\\\",\\\"182\\\",\\\"183\\\",\\\"184\\\",\\\"185\\\",\\\"186\\\",\\\"187\\\",\\\"188\\\",\\\"189\\\",\\\"190\\\",\\\"191\\\",\\\"192\\\",\\\"193\\\",\\\"194\\\",\\\"195\\\",\\\"196\\\",\\\"197\\\",\\\"198\\\",\\\"199\\\",\\\"200\\\",\\\"201\\\",\\\"202\\\",\\\"203\\\",\\\"204\\\",\\\"205\\\",\\\"206\\\",\\\"207\\\",\\\"208\\\",\\\"209\\\",\\\"210\\\",\\\"211\\\",\\\"212\\\",\\\"213\\\",\\\"214\\\",\\\"215\\\",\\\"216\\\",\\\"217\\\",\\\"218\\\",\\\"219\\\",\\\"220\\\",\\\"221\\\",\\\"222\\\",\\\"223\\\",\\\"224\\\",\\\"225\\\",\\\"226\\\",\\\"227\\\",\\\"228\\\",\\\"229\\\",\\\"230\\\",\\\"231\\\",\\\"232\\\",\\\"233\\\",\\\"234\\\",\\\"235\\\",\\\"236\\\",\\\"237\\\",\\\"238\\\",\\\"239\\\",\\\"240\\\",\\\"241\\\",\\\"242\\\",\\\"243\\\",\\\"244\\\",\\\"245\\\",\\\"246\\\",\\\"247\\\",\\\"248\\\",\\\"249\\\",\\\"250\\\",\\\"251\\\",\\\"252\\\",\\\"253\\\",\\\"254\\\",\\\"255\\\",\\\"256\\\",\\\"257\\\",\\\"258\\\",\\\"259\\\",\\\"260\\\",\\\"261\\\",\\\"262\\\",\\\"263\\\",\\\"264\\\",\\\"265\\\",\\\"266\\\",\\\"267\\\",\\\"268\\\",\\\"269\\\",\\\"270\\\",\\\"271\\\",\\\"272\\\",\\\"273\\\",\\\"274\\\",\\\"275\\\",\\\"276\\\",\\\"277\\\",\\\"278\\\",\\\"279\\\",\\\"280\\\",\\\"281\\\",\\\"282\\\",\\\"283\\\",\\\"284\\\",\\\"285\\\",\\\"286\\\",\\\"287\\\",\\\"288\\\",\\\"289\\\",\\\"290\\\",\\\"291\\\",\\\"292\\\",\\\"293\\\",\\\"294\\\",\\\"295\\\",\\\"296\\\",\\\"297\\\",\\\"298\\\",\\\"299\\\",\\\"300\\\",\\\"301\\\",\\\"302\\\",\\\"303\\\",\\\"304\\\",\\\"305\\\",\\\"306\\\",\\\"307\\\",\\\"308\\\",\\\"309\\\",\\\"310\\\",\\\"311\\\",\\\"312\\\",\\\"313\\\",\\\"314\\\",\\\"315\\\",\\\"316\\\",\\\"317\\\",\\\"318\\\",\\\"319\\\",\\\"320\\\",\\\"321\\\",\\\"322\\\",\\\"323\\\",\\\"324\\\",\\\"325\\\",\\\"326\\\",\\\"327\\\",\\\"328\\\",\\\"329\\\",\\\"330\\\",\\\"331\\\",\\\"332\\\",\\\"333\\\",\\\"334\\\",\\\"335\\\",\\\"336\\\",\\\"337\\\",\\\"338\\\",\\\"339\\\",\\\"340\\\",\\\"341\\\",\\\"342\\\",\\\"343\\\",\\\"344\\\",\\\"345\\\",\\\"346\\\",\\\"347\\\",\\\"348\\\",\\\"349\\\",\\\"350\\\",\\\"351\\\",\\\"352\\\",\\\"353\\\",\\\"354\\\",\\\"355\\\",\\\"356\\\",\\\"357\\\",\\\"358\\\",\\\"359\\\",\\\"360\\\",\\\"361\\\",\\\"362\\\",\\\"363\\\",\\\"364\\\",\\\"365\\\",\\\"366\\\",\\\"367\\\",\\\"368\\\",\\\"369\\\",\\\"370\\\",\\\"371\\\",\\\"372\\\",\\\"373\\\",\\\"374\\\",\\\"375\\\",\\\"376\\\",\\\"377\\\",\\\"378\\\",\\\"379\\\",\\\"380\\\",\\\"381\\\",\\\"382\\\",\\\"383\\\",\\\"384\\\",\\\"385\\\",\\\"386\\\",\\\"387\\\",\\\"388\\\",\\\"389\\\",\\\"390\\\",\\\"391\\\",\\\"392\\\",\\\"393\\\",\\\"394\\\",\\\"395\\\",\\\"396\\\",\\\"397\\\",\\\"398\\\",\\\"399\\\",\\\"400\\\",\\\"401\\\",\\\"402\\\",\\\"403\\\",\\\"404\\\",\\\"405\\\",\\\"406\\\",\\\"407\\\",\\\"408\\\",\\\"409\\\",\\\"410\\\",\\\"411\\\",\\\"412\\\",\\\"413\\\",\\\"414\\\",\\\"415\\\",\\\"416\\\",\\\"417\\\",\\\"418\\\",\\\"419\\\",\\\"420\\\",\\\"421\\\",\\\"422\\\",\\\"423\\\",\\\"424\\\",\\\"425\\\",\\\"426\\\",\\\"427\\\",\\\"428\\\",\\\"429\\\",\\\"430\\\",\\\"431\\\",\\\"432\\\",\\\"433\\\",\\\"434\\\",\\\"435\\\",\\\"436\\\",\\\"437\\\",\\\"438\\\",\\\"439\\\",\\\"440\\\",\\\"441\\\",\\\"442\\\",\\\"443\\\",\\\"444\\\",\\\"445\\\",\\\"446\\\",\\\"447\\\",\\\"448\\\",\\\"449\\\",\\\"450\\\",\\\"451\\\",\\\"452\\\",\\\"453\\\",\\\"454\\\",\\\"455\\\",\\\"456\\\",\\\"457\\\",\\\"458\\\",\\\"459\\\",\\\"460\\\",\\\"461\\\",\\\"462\\\",\\\"463\\\",\\\"464\\\",\\\"465\\\",\\\"466\\\",\\\"467\\\",\\\"468\\\",\\\"469\\\",\\\"470\\\",\\\"471\\\",\\\"472\\\",\\\"473\\\",\\\"474\\\",\\\"475\\\",\\\"476\\\",\\\"477\\\",\\\"478\\\",\\\"479\\\",\\\"480\\\",\\\"481\\\",\\\"482\\\",\\\"483\\\",\\\"484\\\",\\\"485\\\",\\\"486\\\",\\\"487\\\",\\\"488\\\",\\\"489\\\",\\\"490\\\",\\\"491\\\",\\\"492\\\",\\\"493\\\",\\\"494\\\",\\\"495\\\",\\\"496\\\",\\\"497\\\",\\\"498\\\",\\\"499\\\",\\\"500\\\",\\\"501\\\",\\\"502\\\",\\\"503\\\",\\\"504\\\",\\\"505\\\",\\\"506\\\",\\\"507\\\",\\\"508\\\",\\\"509\\\",\\\"510\\\",\\\"511\\\",\\\"512\\\",\\\"513\\\",\\\"514\\\",\\\"515\\\",\\\"516\\\",\\\"517\\\",\\\"518\\\",\\\"519\\\",\\\"520\\\",\\\"521\\\",\\\"522\\\",\\\"523\\\",\\\"524\\\",\\\"525\\\",\\\"526\\\",\\\"527\\\",\\\"528\\\",\\\"529\\\",\\\"530\\\",\\\"531\\\",\\\"532\\\",\\\"533\\\",\\\"534\\\",\\\"535\\\",\\\"536\\\",\\\"537\\\",\\\"538\\\",\\\"539\\\",\\\"540\\\",\\\"541\\\",\\\"542\\\",\\\"543\\\",\\\"544\\\",\\\"545\\\",\\\"546\\\",\\\"547\\\",\\\"548\\\",\\\"549\\\",\\\"550\\\",\\\"551\\\",\\\"552\\\",\\\"553\\\",\\\"554\\\",\\\"555\\\",\\\"556\\\",\\\"557\\\",\\\"558\\\",\\\"559\\\",\\\"560\\\",\\\"561\\\",\\\"562\\\",\\\"563\\\",\\\"564\\\",\\\"565\\\",\\\"566\\\",\\\"567\\\",\\\"568\\\",\\\"569\\\",\\\"570\\\",\\\"571\\\",\\\"572\\\",\\\"573\\\",\\\"574\\\",\\\"575\\\",\\\"576\\\",\\\"577\\\",\\\"578\\\",\\\"579\\\",\\\"580\\\",\\\"581\\\",\\\"582\\\",\\\"583\\\",\\\"584\\\",\\\"585\\\",\\\"586\\\",\\\"587\\\",\\\"588\\\",\\\"589\\\",\\\"590\\\",\\\"591\\\",\\\"592\\\",\\\"593\\\",\\\"594\\\",\\\"595\\\",\\\"596\\\",\\\"597\\\",\\\"598\\\",\\\"599\\\",\\\"600\\\",\\\"601\\\",\\\"602\\\",\\\"603\\\",\\\"604\\\",\\\"605\\\",\\\"606\\\",\\\"607\\\",\\\"608\\\",\\\"609\\\",\\\"610\\\",\\\"611\\\",\\\"612\\\",\\\"613\\\",\\\"614\\\",\\\"615\\\",\\\"616\\\",\\\"617\\\",\\\"618\\\",\\\"619\\\",\\\"620\\\",\\\"621\\\",\\\"622\\\",\\\"623\\\",\\\"624\\\",\\\"625\\\",\\\"626\\\",\\\"627\\\",\\\"628\\\",\\\"629\\\",\\\"630\\\",\\\"631\\\",\\\"632\\\",\\\"633\\\",\\\"634\\\",\\\"635\\\",\\\"636\\\",\\\"637\\\",\\\"638\\\",\\\"639\\\",\\\"640\\\",\\\"641\\\",\\\"642\\\",\\\"643\\\",\\\"644\\\",\\\"645\\\",\\\"646\\\",\\\"647\\\",\\\"648\\\",\\\"649\\\",\\\"650\\\",\\\"651\\\",\\\"652\\\",\\\"653\\\",\\\"654\\\",\\\"655\\\",\\\"656\\\",\\\"657\\\",\\\"658\\\",\\\"659\\\",\\\"660\\\",\\\"661\\\",\\\"662\\\",\\\"663\\\",\\\"664\\\",\\\"665\\\",\\\"666\\\",\\\"667\\\",\\\"668\\\",\\\"669\\\",\\\"670\\\",\\\"671\\\",\\\"672\\\",\\\"673\\\",\\\"674\\\",\\\"675\\\",\\\"676\\\",\\\"677\\\",\\\"678\\\",\\\"679\\\",\\\"680\\\",\\\"681\\\",\\\"682\\\",\\\"683\\\",\\\"684\\\",\\\"685\\\",\\\"686\\\",\\\"687\\\",\\\"688\\\",\\\"689\\\",\\\"690\\\",\\\"691\\\",\\\"692\\\",\\\"693\\\",\\\"694\\\",\\\"695\\\",\\\"696\\\",\\\"697\\\",\\\"698\\\",\\\"699\\\",\\\"700\\\",\\\"701\\\",\\\"702\\\",\\\"703\\\",\\\"704\\\",\\\"705\\\",\\\"706\\\",\\\"707\\\",\\\"708\\\",\\\"709\\\",\\\"710\\\",\\\"711\\\",\\\"712\\\",\\\"713\\\",\\\"714\\\",\\\"715\\\",\\\"716\\\",\\\"717\\\",\\\"718\\\",\\\"719\\\",\\\"720\\\",\\\"721\\\",\\\"722\\\",\\\"723\\\",\\\"724\\\",\\\"725\\\",\\\"726\\\",\\\"727\\\",\\\"728\\\",\\\"729\\\",\\\"730\\\",\\\"731\\\",\\\"732\\\",\\\"733\\\",\\\"734\\\",\\\"735\\\",\\\"736\\\",\\\"737\\\",\\\"738\\\",\\\"739\\\",\\\"740\\\",\\\"741\\\",\\\"742\\\",\\\"743\\\",\\\"744\\\",\\\"745\\\",\\\"746\\\",\\\"747\\\",\\\"748\\\",\\\"749\\\",\\\"750\\\",\\\"751\\\",\\\"752\\\",\\\"753\\\",\\\"754\\\",\\\"755\\\",\\\"756\\\",\\\"757\\\",\\\"758\\\",\\\"759\\\",\\\"760\\\",\\\"761\\\",\\\"762\\\",\\\"763\\\",\\\"764\\\",\\\"765\\\",\\\"766\\\",\\\"767\\\",\\\"768\\\",\\\"769\\\",\\\"770\\\",\\\"771\\\",\\\"772\\\",\\\"773\\\",\\\"774\\\",\\\"775\\\",\\\"776\\\",\\\"777\\\",\\\"778\\\",\\\"779\\\",\\\"780\\\",\\\"781\\\",\\\"782\\\",\\\"783\\\",\\\"784\\\",\\\"785\\\",\\\"786\\\",\\\"787\\\",\\\"788\\\",\\\"789\\\",\\\"790\\\",\\\"791\\\",\\\"792\\\",\\\"793\\\",\\\"794\\\",\\\"795\\\",\\\"796\\\",\\\"797\\\",\\\"798\\\",\\\"799\\\",\\\"800\\\",\\\"801\\\",\\\"802\\\",\\\"803\\\",\\\"804\\\",\\\"805\\\",\\\"806\\\",\\\"807\\\",\\\"808\\\",\\\"809\\\",\\\"810\\\",\\\"811\\\",\\\"812\\\",\\\"813\\\",\\\"814\\\",\\\"815\\\",\\\"816\\\",\\\"817\\\",\\\"818\\\",\\\"819\\\",\\\"820\\\",\\\"821\\\",\\\"822\\\",\\\"823\\\",\\\"824\\\",\\\"825\\\",\\\"826\\\",\\\"827\\\",\\\"828\\\",\\\"829\\\",\\\"830\\\",\\\"831\\\",\\\"832\\\",\\\"833\\\",\\\"834\\\",\\\"835\\\",\\\"836\\\",\\\"837\\\",\\\"838\\\",\\\"839\\\",\\\"840\\\",\\\"841\\\",\\\"842\\\",\\\"843\\\",\\\"844\\\",\\\"845\\\",\\\"846\\\",\\\"847\\\",\\\"848\\\",\\\"849\\\",\\\"850\\\",\\\"851\\\",\\\"852\\\",\\\"853\\\",\\\"854\\\",\\\"855\\\",\\\"856\\\",\\\"857\\\",\\\"858\\\",\\\"859\\\",\\\"860\\\",\\\"861\\\",\\\"862\\\",\\\"863\\\",\\\"864\\\",\\\"865\\\",\\\"866\\\",\\\"867\\\",\\\"868\\\",\\\"869\\\",\\\"870\\\",\\\"871\\\",\\\"872\\\",\\\"873\\\",\\\"874\\\",\\\"875\\\",\\\"876\\\",\\\"877\\\",\\\"878\\\",\\\"879\\\",\\\"880\\\",\\\"881\\\",\\\"882\\\",\\\"883\\\",\\\"884\\\",\\\"885\\\",\\\"886\\\",\\\"887\\\",\\\"888\\\",\\\"889\\\",\\\"890\\\",\\\"891\\\",\\\"892\\\",\\\"893\\\",\\\"894\\\",\\\"895\\\",\\\"896\\\",\\\"897\\\",\\\"898\\\",\\\"899\\\",\\\"900\\\",\\\"901\\\",\\\"902\\\",\\\"903\\\",\\\"904\\\",\\\"905\\\",\\\"906\\\",\\\"907\\\",\\\"908\\\",\\\"909\\\",\\\"910\\\",\\\"911\\\",\\\"912\\\",\\\"913\\\",\\\"914\\\",\\\"915\\\",\\\"916\\\",\\\"917\\\",\\\"918\\\",\\\"919\\\",\\\"920\\\",\\\"921\\\",\\\"922\\\",\\\"923\\\",\\\"924\\\",\\\"925\\\",\\\"926\\\",\\\"927\\\",\\\"928\\\",\\\"929\\\",\\\"930\\\",\\\"931\\\",\\\"932\\\",\\\"933\\\",\\\"934\\\",\\\"935\\\",\\\"936\\\",\\\"937\\\",\\\"938\\\",\\\"939\\\",\\\"940\\\",\\\"941\\\",\\\"942\\\",\\\"943\\\",\\\"944\\\",\\\"945\\\",\\\"946\\\",\\\"947\\\",\\\"948\\\",\\\"949\\\",\\\"950\\\",\\\"951\\\",\\\"952\\\",\\\"953\\\",\\\"954\\\",\\\"955\\\",\\\"956\\\",\\\"957\\\",\\\"958\\\",\\\"959\\\",\\\"960\\\",\\\"961\\\",\\\"962\\\",\\\"963\\\",\\\"964\\\",\\\"965\\\",\\\"966\\\",\\\"967\\\",\\\"968\\\",\\\"969\\\",\\\"970\\\",\\\"971\\\",\\\"972\\\",\\\"973\\\",\\\"974\\\",\\\"975\\\",\\\"976\\\",\\\"977\\\",\\\"978\\\",\\\"979\\\",\\\"980\\\",\\\"981\\\",\\\"982\\\",\\\"983\\\",\\\"984\\\",\\\"985\\\",\\\"986\\\",\\\"987\\\",\\\"988\\\",\\\"989\\\",\\\"990\\\",\\\"991\\\",\\\"992\\\",\\\"993\\\",\\\"994\\\",\\\"995\\\",\\\"996\\\",\\\"997\\\",\\\"998\\\",\\\"999\\\",\\\"1000\\\"],\\\"changes\\\":WebIO.getval({\\\"name\\\":\\\"changes\\\",\\\"scope\\\":\\\"14721937422247612075\\\",\\\"id\\\":\\\"18421728926803028525\\\",\\\"type\\\":\\\"observable\\\"}),\\\"index\\\":WebIO.getval({\\\"name\\\":\\\"index\\\",\\\"scope\\\":\\\"14721937422247612075\\\",\\\"id\\\":\\\"13697678738429543450\\\",\\\"type\\\":\\\"observable\\\"})};\\n    var self = this;\\n    function AppViewModel() {\\n        for (var key in json_data) {\\n            var el = json_data[key];\\n            this[key] = Array.isArray(el) ? ko.observableArray(el) : ko.observable(el);\\n        }\\n        \\n        [this[\\\"formatted_val\\\"]=ko.computed(    function(){\\n        return this.formatted_vals()[parseInt(this.index())-(1)];\\n    }\\n,this)]\\n        [this[\\\"changes\\\"].subscribe((function (val){!(this.valueFromJulia[\\\"changes\\\"]) ? (WebIO.setval({\\\"name\\\":\\\"changes\\\",\\\"scope\\\":\\\"14721937422247612075\\\",\\\"id\\\":\\\"18421728926803028525\\\",\\\"type\\\":\\\"observable\\\"},val)) : undefined; return this.valueFromJulia[\\\"changes\\\"]=false}),self),this[\\\"index\\\"].subscribe((function (val){!(this.valueFromJulia[\\\"index\\\"]) ? (WebIO.setval({\\\"name\\\":\\\"index\\\",\\\"scope\\\":\\\"14721937422247612075\\\",\\\"id\\\":\\\"13697678738429543450\\\",\\\"type\\\":\\\"observable\\\"},val)) : undefined; return this.valueFromJulia[\\\"index\\\"]=false}),self)]\\n        \\n    }\\n    self.model = new AppViewModel();\\n    self.valueFromJulia = {};\\n    for (var key in json_data) {\\n        self.valueFromJulia[key] = false;\\n    }\\n    ko.applyBindings(self.model, self.dom);\\n}\\n);\\n    (WebIO.importBlock({\\\"data\\\":[{\\\"name\\\":\\\"knockout\\\",\\\"type\\\":\\\"js\\\",\\\"url\\\":\\\"/assetserver/4e15ea8f38f5d33bf0b2930cb09c8089f78b114e-knockout.js\\\"},{\\\"name\\\":\\\"knockout_punches\\\",\\\"type\\\":\\\"js\\\",\\\"url\\\":\\\"/assetserver/6967e46b2259ea2e5c469b61c410326b52955db7-knockout_punches.js\\\"}],\\\"type\\\":\\\"async_block\\\"})).then((imports) => handler.apply(this, imports));\\n}\\n\")])], Dict{Symbol, Any}(:className => \"field interact-widget\")), Observable{Any} with 0 listeners. Value:\n",
       "Node{WebIO.DOM}(WebIO.DOM(:html, :div), Any[Plot{Plots.GRBackend() n=1}], Dict{Symbol, Any}(:className => \"interact-flex-row interact-widget\"))], Dict{Symbol, Any}())"
      ]
     },
     "execution_count": 45,
     "metadata": {
      "@webio": {
       "kernelId": "4fe35d73-4234-4d9b-9302-78f461ba68d7"
      }
     },
     "output_type": "execute_result"
    }
   ],
   "source": [
    "end_T = 1000\n",
    "@manipulate for T in slider(1:end_T, value=1) \n",
    "    I_result = run_infection(T)\n",
    "    \n",
    "    plot(I_result, m=:o)\n",
    "    \n",
    "    xlims!(0,end_T)\n",
    "    ylims!(0,10)\n",
    "end"
   ]
  },
  {
   "cell_type": "markdown",
   "metadata": {},
   "source": [
    "## Exponential Growth"
   ]
  },
  {
   "cell_type": "code",
   "execution_count": 46,
   "metadata": {},
   "outputs": [
    {
     "data": {
      "image/svg+xml": [
       "<?xml version=\"1.0\" encoding=\"utf-8\"?>\n",
       "<svg xmlns=\"http://www.w3.org/2000/svg\" xmlns:xlink=\"http://www.w3.org/1999/xlink\" width=\"600\" height=\"400\" viewBox=\"0 0 2400 1600\">\n",
       "<defs>\n",
       "  <clipPath id=\"clip120\">\n",
       "    <rect x=\"0\" y=\"0\" width=\"2400\" height=\"1600\"/>\n",
       "  </clipPath>\n",
       "</defs>\n",
       "<path clip-path=\"url(#clip120)\" d=\"\n",
       "M0 1600 L2400 1600 L2400 0 L0 0  Z\n",
       "  \" fill=\"#ffffff\" fill-rule=\"evenodd\" fill-opacity=\"1\"/>\n",
       "<defs>\n",
       "  <clipPath id=\"clip121\">\n",
       "    <rect x=\"480\" y=\"0\" width=\"1681\" height=\"1600\"/>\n",
       "  </clipPath>\n",
       "</defs>\n",
       "<path clip-path=\"url(#clip120)\" d=\"\n",
       "M279.422 1486.45 L2352.76 1486.45 L2352.76 47.2441 L279.422 47.2441  Z\n",
       "  \" fill=\"#ffffff\" fill-rule=\"evenodd\" fill-opacity=\"1\"/>\n",
       "<defs>\n",
       "  <clipPath id=\"clip122\">\n",
       "    <rect x=\"279\" y=\"47\" width=\"2074\" height=\"1440\"/>\n",
       "  </clipPath>\n",
       "</defs>\n",
       "<polyline clip-path=\"url(#clip122)\" style=\"stroke:#000000; stroke-width:2; stroke-opacity:0.1; fill:none\" points=\"\n",
       "  336.143,1486.45 336.143,47.2441 \n",
       "  \"/>\n",
       "<polyline clip-path=\"url(#clip122)\" style=\"stroke:#000000; stroke-width:2; stroke-opacity:0.1; fill:none\" points=\"\n",
       "  825.626,1486.45 825.626,47.2441 \n",
       "  \"/>\n",
       "<polyline clip-path=\"url(#clip122)\" style=\"stroke:#000000; stroke-width:2; stroke-opacity:0.1; fill:none\" points=\"\n",
       "  1315.11,1486.45 1315.11,47.2441 \n",
       "  \"/>\n",
       "<polyline clip-path=\"url(#clip122)\" style=\"stroke:#000000; stroke-width:2; stroke-opacity:0.1; fill:none\" points=\"\n",
       "  1804.59,1486.45 1804.59,47.2441 \n",
       "  \"/>\n",
       "<polyline clip-path=\"url(#clip122)\" style=\"stroke:#000000; stroke-width:2; stroke-opacity:0.1; fill:none\" points=\"\n",
       "  2294.08,1486.45 2294.08,47.2441 \n",
       "  \"/>\n",
       "<polyline clip-path=\"url(#clip120)\" style=\"stroke:#000000; stroke-width:4; stroke-opacity:1; fill:none\" points=\"\n",
       "  279.422,1486.45 2352.76,1486.45 \n",
       "  \"/>\n",
       "<polyline clip-path=\"url(#clip120)\" style=\"stroke:#000000; stroke-width:4; stroke-opacity:1; fill:none\" points=\"\n",
       "  336.143,1486.45 336.143,1469.18 \n",
       "  \"/>\n",
       "<polyline clip-path=\"url(#clip120)\" style=\"stroke:#000000; stroke-width:4; stroke-opacity:1; fill:none\" points=\"\n",
       "  825.626,1486.45 825.626,1469.18 \n",
       "  \"/>\n",
       "<polyline clip-path=\"url(#clip120)\" style=\"stroke:#000000; stroke-width:4; stroke-opacity:1; fill:none\" points=\"\n",
       "  1315.11,1486.45 1315.11,1469.18 \n",
       "  \"/>\n",
       "<polyline clip-path=\"url(#clip120)\" style=\"stroke:#000000; stroke-width:4; stroke-opacity:1; fill:none\" points=\"\n",
       "  1804.59,1486.45 1804.59,1469.18 \n",
       "  \"/>\n",
       "<polyline clip-path=\"url(#clip120)\" style=\"stroke:#000000; stroke-width:4; stroke-opacity:1; fill:none\" points=\"\n",
       "  2294.08,1486.45 2294.08,1469.18 \n",
       "  \"/>\n",
       "<path clip-path=\"url(#clip120)\" d=\"M 0 0 M336.143 1515.64 Q332.532 1515.64 330.703 1519.2 Q328.898 1522.75 328.898 1529.87 Q328.898 1536.98 330.703 1540.55 Q332.532 1544.09 336.143 1544.09 Q339.777 1544.09 341.583 1540.55 Q343.411 1536.98 343.411 1529.87 Q343.411 1522.75 341.583 1519.2 Q339.777 1515.64 336.143 1515.64 M336.143 1511.93 Q341.953 1511.93 345.009 1516.54 Q348.087 1521.12 348.087 1529.87 Q348.087 1538.6 345.009 1543.21 Q341.953 1547.79 336.143 1547.79 Q330.333 1547.79 327.254 1543.21 Q324.199 1538.6 324.199 1529.87 Q324.199 1521.12 327.254 1516.54 Q330.333 1511.93 336.143 1511.93 Z\" fill=\"#000000\" fill-rule=\"evenodd\" fill-opacity=\"1\" /><path clip-path=\"url(#clip120)\" d=\"M 0 0 M793.763 1543.18 L810.083 1543.18 L810.083 1547.12 L788.138 1547.12 L788.138 1543.18 Q790.8 1540.43 795.384 1535.8 Q799.99 1531.15 801.171 1529.81 Q803.416 1527.28 804.295 1525.55 Q805.198 1523.79 805.198 1522.1 Q805.198 1519.34 803.254 1517.61 Q801.333 1515.87 798.231 1515.87 Q796.032 1515.87 793.578 1516.63 Q791.147 1517.4 788.37 1518.95 L788.37 1514.23 Q791.194 1513.09 793.647 1512.51 Q796.101 1511.93 798.138 1511.93 Q803.508 1511.93 806.703 1514.62 Q809.897 1517.31 809.897 1521.8 Q809.897 1523.93 809.087 1525.85 Q808.3 1527.74 806.194 1530.34 Q805.615 1531.01 802.513 1534.23 Q799.411 1537.42 793.763 1543.18 Z\" fill=\"#000000\" fill-rule=\"evenodd\" fill-opacity=\"1\" /><path clip-path=\"url(#clip120)\" d=\"M 0 0 M815.198 1512.56 L833.555 1512.56 L833.555 1516.5 L819.481 1516.5 L819.481 1524.97 Q820.499 1524.62 821.518 1524.46 Q822.536 1524.27 823.555 1524.27 Q829.342 1524.27 832.721 1527.44 Q836.101 1530.62 836.101 1536.03 Q836.101 1541.61 832.629 1544.71 Q829.156 1547.79 822.837 1547.79 Q820.661 1547.79 818.393 1547.42 Q816.147 1547.05 813.74 1546.31 L813.74 1541.61 Q815.823 1542.74 818.045 1543.3 Q820.268 1543.86 822.744 1543.86 Q826.749 1543.86 829.087 1541.75 Q831.425 1539.64 831.425 1536.03 Q831.425 1532.42 829.087 1530.31 Q826.749 1528.21 822.744 1528.21 Q820.869 1528.21 818.994 1528.62 Q817.143 1529.04 815.198 1529.92 L815.198 1512.56 Z\" fill=\"#000000\" fill-rule=\"evenodd\" fill-opacity=\"1\" /><path clip-path=\"url(#clip120)\" d=\"M 0 0 M851.17 1515.64 Q847.559 1515.64 845.73 1519.2 Q843.925 1522.75 843.925 1529.87 Q843.925 1536.98 845.73 1540.55 Q847.559 1544.09 851.17 1544.09 Q854.804 1544.09 856.61 1540.55 Q858.439 1536.98 858.439 1529.87 Q858.439 1522.75 856.61 1519.2 Q854.804 1515.64 851.17 1515.64 M851.17 1511.93 Q856.98 1511.93 860.036 1516.54 Q863.115 1521.12 863.115 1529.87 Q863.115 1538.6 860.036 1543.21 Q856.98 1547.79 851.17 1547.79 Q845.36 1547.79 842.281 1543.21 Q839.226 1538.6 839.226 1529.87 Q839.226 1521.12 842.281 1516.54 Q845.36 1511.93 851.17 1511.93 Z\" fill=\"#000000\" fill-rule=\"evenodd\" fill-opacity=\"1\" /><path clip-path=\"url(#clip120)\" d=\"M 0 0 M1278.37 1512.56 L1296.73 1512.56 L1296.73 1516.5 L1282.66 1516.5 L1282.66 1524.97 Q1283.67 1524.62 1284.69 1524.46 Q1285.71 1524.27 1286.73 1524.27 Q1292.52 1524.27 1295.9 1527.44 Q1299.28 1530.62 1299.28 1536.03 Q1299.28 1541.61 1295.8 1544.71 Q1292.33 1547.79 1286.01 1547.79 Q1283.84 1547.79 1281.57 1547.42 Q1279.32 1547.05 1276.92 1546.31 L1276.92 1541.61 Q1279 1542.74 1281.22 1543.3 Q1283.44 1543.86 1285.92 1543.86 Q1289.92 1543.86 1292.26 1541.75 Q1294.6 1539.64 1294.6 1536.03 Q1294.6 1532.42 1292.26 1530.31 Q1289.92 1528.21 1285.92 1528.21 Q1284.05 1528.21 1282.17 1528.62 Q1280.32 1529.04 1278.37 1529.92 L1278.37 1512.56 Z\" fill=\"#000000\" fill-rule=\"evenodd\" fill-opacity=\"1\" /><path clip-path=\"url(#clip120)\" d=\"M 0 0 M1314.35 1515.64 Q1310.73 1515.64 1308.91 1519.2 Q1307.1 1522.75 1307.1 1529.87 Q1307.1 1536.98 1308.91 1540.55 Q1310.73 1544.09 1314.35 1544.09 Q1317.98 1544.09 1319.79 1540.55 Q1321.61 1536.98 1321.61 1529.87 Q1321.61 1522.75 1319.79 1519.2 Q1317.98 1515.64 1314.35 1515.64 M1314.35 1511.93 Q1320.16 1511.93 1323.21 1516.54 Q1326.29 1521.12 1326.29 1529.87 Q1326.29 1538.6 1323.21 1543.21 Q1320.16 1547.79 1314.35 1547.79 Q1308.54 1547.79 1305.46 1543.21 Q1302.4 1538.6 1302.4 1529.87 Q1302.4 1521.12 1305.46 1516.54 Q1308.54 1511.93 1314.35 1511.93 Z\" fill=\"#000000\" fill-rule=\"evenodd\" fill-opacity=\"1\" /><path clip-path=\"url(#clip120)\" d=\"M 0 0 M1341.36 1515.64 Q1337.75 1515.64 1335.92 1519.2 Q1334.11 1522.75 1334.11 1529.87 Q1334.11 1536.98 1335.92 1540.55 Q1337.75 1544.09 1341.36 1544.09 Q1344.99 1544.09 1346.8 1540.55 Q1348.63 1536.98 1348.63 1529.87 Q1348.63 1522.75 1346.8 1519.2 Q1344.99 1515.64 1341.36 1515.64 M1341.36 1511.93 Q1347.17 1511.93 1350.23 1516.54 Q1353.3 1521.12 1353.3 1529.87 Q1353.3 1538.6 1350.23 1543.21 Q1347.17 1547.79 1341.36 1547.79 Q1335.55 1547.79 1332.47 1543.21 Q1329.42 1538.6 1329.42 1529.87 Q1329.42 1521.12 1332.47 1516.54 Q1335.55 1511.93 1341.36 1511.93 Z\" fill=\"#000000\" fill-rule=\"evenodd\" fill-opacity=\"1\" /><path clip-path=\"url(#clip120)\" d=\"M 0 0 M1766.97 1512.56 L1789.19 1512.56 L1789.19 1514.55 L1776.64 1547.12 L1771.76 1547.12 L1783.56 1516.5 L1766.97 1516.5 L1766.97 1512.56 Z\" fill=\"#000000\" fill-rule=\"evenodd\" fill-opacity=\"1\" /><path clip-path=\"url(#clip120)\" d=\"M 0 0 M1794.3 1512.56 L1812.66 1512.56 L1812.66 1516.5 L1798.59 1516.5 L1798.59 1524.97 Q1799.6 1524.62 1800.62 1524.46 Q1801.64 1524.27 1802.66 1524.27 Q1808.45 1524.27 1811.83 1527.44 Q1815.21 1530.62 1815.21 1536.03 Q1815.21 1541.61 1811.73 1544.71 Q1808.26 1547.79 1801.94 1547.79 Q1799.77 1547.79 1797.5 1547.42 Q1795.25 1547.05 1792.85 1546.31 L1792.85 1541.61 Q1794.93 1542.74 1797.15 1543.3 Q1799.37 1543.86 1801.85 1543.86 Q1805.85 1543.86 1808.19 1541.75 Q1810.53 1539.64 1810.53 1536.03 Q1810.53 1532.42 1808.19 1530.31 Q1805.85 1528.21 1801.85 1528.21 Q1799.98 1528.21 1798.1 1528.62 Q1796.25 1529.04 1794.3 1529.92 L1794.3 1512.56 Z\" fill=\"#000000\" fill-rule=\"evenodd\" fill-opacity=\"1\" /><path clip-path=\"url(#clip120)\" d=\"M 0 0 M1830.28 1515.64 Q1826.66 1515.64 1824.84 1519.2 Q1823.03 1522.75 1823.03 1529.87 Q1823.03 1536.98 1824.84 1540.55 Q1826.66 1544.09 1830.28 1544.09 Q1833.91 1544.09 1835.72 1540.55 Q1837.54 1536.98 1837.54 1529.87 Q1837.54 1522.75 1835.72 1519.2 Q1833.91 1515.64 1830.28 1515.64 M1830.28 1511.93 Q1836.09 1511.93 1839.14 1516.54 Q1842.22 1521.12 1842.22 1529.87 Q1842.22 1538.6 1839.14 1543.21 Q1836.09 1547.79 1830.28 1547.79 Q1824.47 1547.79 1821.39 1543.21 Q1818.33 1538.6 1818.33 1529.87 Q1818.33 1521.12 1821.39 1516.54 Q1824.47 1511.93 1830.28 1511.93 Z\" fill=\"#000000\" fill-rule=\"evenodd\" fill-opacity=\"1\" /><path clip-path=\"url(#clip120)\" d=\"M 0 0 M2243.94 1543.18 L2251.58 1543.18 L2251.58 1516.82 L2243.27 1518.49 L2243.27 1514.23 L2251.53 1512.56 L2256.21 1512.56 L2256.21 1543.18 L2263.85 1543.18 L2263.85 1547.12 L2243.94 1547.12 L2243.94 1543.18 Z\" fill=\"#000000\" fill-rule=\"evenodd\" fill-opacity=\"1\" /><path clip-path=\"url(#clip120)\" d=\"M 0 0 M2278.91 1515.64 Q2275.3 1515.64 2273.47 1519.2 Q2271.67 1522.75 2271.67 1529.87 Q2271.67 1536.98 2273.47 1540.55 Q2275.3 1544.09 2278.91 1544.09 Q2282.55 1544.09 2284.35 1540.55 Q2286.18 1536.98 2286.18 1529.87 Q2286.18 1522.75 2284.35 1519.2 Q2282.55 1515.64 2278.91 1515.64 M2278.91 1511.93 Q2284.72 1511.93 2287.78 1516.54 Q2290.86 1521.12 2290.86 1529.87 Q2290.86 1538.6 2287.78 1543.21 Q2284.72 1547.79 2278.91 1547.79 Q2273.1 1547.79 2270.03 1543.21 Q2266.97 1538.6 2266.97 1529.87 Q2266.97 1521.12 2270.03 1516.54 Q2273.1 1511.93 2278.91 1511.93 Z\" fill=\"#000000\" fill-rule=\"evenodd\" fill-opacity=\"1\" /><path clip-path=\"url(#clip120)\" d=\"M 0 0 M2305.93 1515.64 Q2302.32 1515.64 2300.49 1519.2 Q2298.68 1522.75 2298.68 1529.87 Q2298.68 1536.98 2300.49 1540.55 Q2302.32 1544.09 2305.93 1544.09 Q2309.56 1544.09 2311.37 1540.55 Q2313.2 1536.98 2313.2 1529.87 Q2313.2 1522.75 2311.37 1519.2 Q2309.56 1515.64 2305.93 1515.64 M2305.93 1511.93 Q2311.74 1511.93 2314.79 1516.54 Q2317.87 1521.12 2317.87 1529.87 Q2317.87 1538.6 2314.79 1543.21 Q2311.74 1547.79 2305.93 1547.79 Q2300.12 1547.79 2297.04 1543.21 Q2293.98 1538.6 2293.98 1529.87 Q2293.98 1521.12 2297.04 1516.54 Q2300.12 1511.93 2305.93 1511.93 Z\" fill=\"#000000\" fill-rule=\"evenodd\" fill-opacity=\"1\" /><path clip-path=\"url(#clip120)\" d=\"M 0 0 M2332.94 1515.64 Q2329.33 1515.64 2327.5 1519.2 Q2325.7 1522.75 2325.7 1529.87 Q2325.7 1536.98 2327.5 1540.55 Q2329.33 1544.09 2332.94 1544.09 Q2336.58 1544.09 2338.38 1540.55 Q2340.21 1536.98 2340.21 1529.87 Q2340.21 1522.75 2338.38 1519.2 Q2336.58 1515.64 2332.94 1515.64 M2332.94 1511.93 Q2338.75 1511.93 2341.81 1516.54 Q2344.89 1521.12 2344.89 1529.87 Q2344.89 1538.6 2341.81 1543.21 Q2338.75 1547.79 2332.94 1547.79 Q2327.13 1547.79 2324.05 1543.21 Q2321 1538.6 2321 1529.87 Q2321 1521.12 2324.05 1516.54 Q2327.13 1511.93 2332.94 1511.93 Z\" fill=\"#000000\" fill-rule=\"evenodd\" fill-opacity=\"1\" /><polyline clip-path=\"url(#clip122)\" style=\"stroke:#000000; stroke-width:2; stroke-opacity:0.1; fill:none\" points=\"\n",
       "  279.422,1445.78 2352.76,1445.78 \n",
       "  \"/>\n",
       "<polyline clip-path=\"url(#clip122)\" style=\"stroke:#000000; stroke-width:2; stroke-opacity:0.1; fill:none\" points=\"\n",
       "  279.422,1118.63 2352.76,1118.63 \n",
       "  \"/>\n",
       "<polyline clip-path=\"url(#clip122)\" style=\"stroke:#000000; stroke-width:2; stroke-opacity:0.1; fill:none\" points=\"\n",
       "  279.422,791.469 2352.76,791.469 \n",
       "  \"/>\n",
       "<polyline clip-path=\"url(#clip122)\" style=\"stroke:#000000; stroke-width:2; stroke-opacity:0.1; fill:none\" points=\"\n",
       "  279.422,464.313 2352.76,464.313 \n",
       "  \"/>\n",
       "<polyline clip-path=\"url(#clip122)\" style=\"stroke:#000000; stroke-width:2; stroke-opacity:0.1; fill:none\" points=\"\n",
       "  279.422,137.157 2352.76,137.157 \n",
       "  \"/>\n",
       "<polyline clip-path=\"url(#clip120)\" style=\"stroke:#000000; stroke-width:4; stroke-opacity:1; fill:none\" points=\"\n",
       "  279.422,1486.45 279.422,47.2441 \n",
       "  \"/>\n",
       "<polyline clip-path=\"url(#clip120)\" style=\"stroke:#000000; stroke-width:4; stroke-opacity:1; fill:none\" points=\"\n",
       "  279.422,1445.78 304.302,1445.78 \n",
       "  \"/>\n",
       "<polyline clip-path=\"url(#clip120)\" style=\"stroke:#000000; stroke-width:4; stroke-opacity:1; fill:none\" points=\"\n",
       "  279.422,1118.63 304.302,1118.63 \n",
       "  \"/>\n",
       "<polyline clip-path=\"url(#clip120)\" style=\"stroke:#000000; stroke-width:4; stroke-opacity:1; fill:none\" points=\"\n",
       "  279.422,791.469 304.302,791.469 \n",
       "  \"/>\n",
       "<polyline clip-path=\"url(#clip120)\" style=\"stroke:#000000; stroke-width:4; stroke-opacity:1; fill:none\" points=\"\n",
       "  279.422,464.313 304.302,464.313 \n",
       "  \"/>\n",
       "<polyline clip-path=\"url(#clip120)\" style=\"stroke:#000000; stroke-width:4; stroke-opacity:1; fill:none\" points=\"\n",
       "  279.422,137.157 304.302,137.157 \n",
       "  \"/>\n",
       "<path clip-path=\"url(#clip120)\" d=\"M 0 0 M231.477 1431.58 Q227.866 1431.58 226.037 1435.14 Q224.232 1438.69 224.232 1445.82 Q224.232 1452.92 226.037 1456.49 Q227.866 1460.03 231.477 1460.03 Q235.112 1460.03 236.917 1456.49 Q238.746 1452.92 238.746 1445.82 Q238.746 1438.69 236.917 1435.14 Q235.112 1431.58 231.477 1431.58 M231.477 1427.88 Q237.287 1427.88 240.343 1432.48 Q243.422 1437.07 243.422 1445.82 Q243.422 1454.54 240.343 1459.15 Q237.287 1463.73 231.477 1463.73 Q225.667 1463.73 222.588 1459.15 Q219.533 1454.54 219.533 1445.82 Q219.533 1437.07 222.588 1432.48 Q225.667 1427.88 231.477 1427.88 Z\" fill=\"#000000\" fill-rule=\"evenodd\" fill-opacity=\"1\" /><path clip-path=\"url(#clip120)\" d=\"M 0 0 M54.0086 1107.79 L72.365 1107.79 L72.365 1111.73 L58.291 1111.73 L58.291 1120.2 Q59.3095 1119.85 60.328 1119.69 Q61.3465 1119.51 62.365 1119.51 Q68.152 1119.51 71.5317 1122.68 Q74.9113 1125.85 74.9113 1131.26 Q74.9113 1136.84 71.4391 1139.95 Q67.9669 1143.02 61.6475 1143.02 Q59.4715 1143.02 57.203 1142.65 Q54.9577 1142.28 52.5503 1141.54 L52.5503 1136.84 Q54.6336 1137.98 56.8558 1138.53 Q59.078 1139.09 61.5549 1139.09 Q65.5595 1139.09 67.8974 1136.98 Q70.2354 1134.88 70.2354 1131.26 Q70.2354 1127.65 67.8974 1125.55 Q65.5595 1123.44 61.5549 1123.44 Q59.6799 1123.44 57.8049 1123.86 Q55.953 1124.27 54.0086 1125.15 L54.0086 1107.79 Z\" fill=\"#000000\" fill-rule=\"evenodd\" fill-opacity=\"1\" /><path clip-path=\"url(#clip120)\" d=\"M 0 0 M79.9807 1136.47 L84.8649 1136.47 L84.8649 1142.35 L79.9807 1142.35 L79.9807 1136.47 Z\" fill=\"#000000\" fill-rule=\"evenodd\" fill-opacity=\"1\" /><path clip-path=\"url(#clip120)\" d=\"M 0 0 M99.9343 1110.87 Q96.3232 1110.87 94.4945 1114.44 Q92.689 1117.98 92.689 1125.11 Q92.689 1132.21 94.4945 1135.78 Q96.3232 1139.32 99.9343 1139.32 Q103.569 1139.32 105.374 1135.78 Q107.203 1132.21 107.203 1125.11 Q107.203 1117.98 105.374 1114.44 Q103.569 1110.87 99.9343 1110.87 M99.9343 1107.17 Q105.744 1107.17 108.8 1111.77 Q111.879 1116.36 111.879 1125.11 Q111.879 1133.83 108.8 1138.44 Q105.744 1143.02 99.9343 1143.02 Q94.1241 1143.02 91.0454 1138.44 Q87.9899 1133.83 87.9899 1125.11 Q87.9899 1116.36 91.0454 1111.77 Q94.1241 1107.17 99.9343 1107.17 Z\" fill=\"#000000\" fill-rule=\"evenodd\" fill-opacity=\"1\" /><path clip-path=\"url(#clip120)\" d=\"M 0 0 M126.948 1110.87 Q123.337 1110.87 121.508 1114.44 Q119.703 1117.98 119.703 1125.11 Q119.703 1132.21 121.508 1135.78 Q123.337 1139.32 126.948 1139.32 Q130.582 1139.32 132.388 1135.78 Q134.217 1132.21 134.217 1125.11 Q134.217 1117.98 132.388 1114.44 Q130.582 1110.87 126.948 1110.87 M126.948 1107.17 Q132.758 1107.17 135.814 1111.77 Q138.892 1116.36 138.892 1125.11 Q138.892 1133.83 135.814 1138.44 Q132.758 1143.02 126.948 1143.02 Q121.138 1143.02 118.059 1138.44 Q115.004 1133.83 115.004 1125.11 Q115.004 1116.36 118.059 1111.77 Q121.138 1107.17 126.948 1107.17 Z\" fill=\"#000000\" fill-rule=\"evenodd\" fill-opacity=\"1\" /><path clip-path=\"url(#clip120)\" d=\"M 0 0 M172.133 1116.89 L161.554 1127.51 L172.133 1138.09 L169.378 1140.89 L158.753 1130.27 L148.128 1140.89 L145.397 1138.09 L155.953 1127.51 L145.397 1116.89 L148.128 1114.09 L158.753 1124.71 L169.378 1114.09 L172.133 1116.89 Z\" fill=\"#000000\" fill-rule=\"evenodd\" fill-opacity=\"1\" /><path clip-path=\"url(#clip120)\" d=\"M 0 0 M178.013 1138.42 L185.651 1138.42 L185.651 1112.05 L177.341 1113.72 L177.341 1109.46 L185.605 1107.79 L190.281 1107.79 L190.281 1138.42 L197.92 1138.42 L197.92 1142.35 L178.013 1142.35 L178.013 1138.42 Z\" fill=\"#000000\" fill-rule=\"evenodd\" fill-opacity=\"1\" /><path clip-path=\"url(#clip120)\" d=\"M 0 0 M212.989 1110.87 Q209.378 1110.87 207.549 1114.44 Q205.744 1117.98 205.744 1125.11 Q205.744 1132.21 207.549 1135.78 Q209.378 1139.32 212.989 1139.32 Q216.623 1139.32 218.429 1135.78 Q220.258 1132.21 220.258 1125.11 Q220.258 1117.98 218.429 1114.44 Q216.623 1110.87 212.989 1110.87 M212.989 1107.17 Q218.799 1107.17 221.855 1111.77 Q224.934 1116.36 224.934 1125.11 Q224.934 1133.83 221.855 1138.44 Q218.799 1143.02 212.989 1143.02 Q207.179 1143.02 204.1 1138.44 Q201.045 1133.83 201.045 1125.11 Q201.045 1116.36 204.1 1111.77 Q207.179 1107.17 212.989 1107.17 Z\" fill=\"#000000\" fill-rule=\"evenodd\" fill-opacity=\"1\" /><path clip-path=\"url(#clip120)\" d=\"M 0 0 M237.629 1099.8 Q240.356 1100.39 241.879 1102.23 Q243.422 1104.07 243.422 1106.78 Q243.422 1110.94 240.563 1113.21 Q237.704 1115.49 232.438 1115.49 Q230.67 1115.49 228.789 1115.13 Q226.927 1114.79 224.934 1114.1 L224.934 1110.43 Q226.513 1111.35 228.394 1111.82 Q230.275 1112.29 232.325 1112.29 Q235.899 1112.29 237.761 1110.88 Q239.641 1109.47 239.641 1106.78 Q239.641 1104.3 237.892 1102.91 Q236.162 1101.49 233.059 1101.49 L229.786 1101.49 L229.786 1098.37 L233.209 1098.37 Q236.011 1098.37 237.497 1097.26 Q238.983 1096.13 238.983 1094.03 Q238.983 1091.87 237.441 1090.72 Q235.917 1089.55 233.059 1089.55 Q231.498 1089.55 229.711 1089.89 Q227.924 1090.23 225.78 1090.94 L225.78 1087.56 Q227.943 1086.96 229.824 1086.66 Q231.723 1086.35 233.397 1086.35 Q237.723 1086.35 240.243 1088.33 Q242.763 1090.29 242.763 1093.63 Q242.763 1095.97 241.428 1097.58 Q240.093 1099.18 237.629 1099.8 Z\" fill=\"#000000\" fill-rule=\"evenodd\" fill-opacity=\"1\" /><path clip-path=\"url(#clip120)\" d=\"M 0 0 M53.0292 811.261 L60.668 811.261 L60.668 784.896 L52.3579 786.563 L52.3579 782.303 L60.6217 780.637 L65.2976 780.637 L65.2976 811.261 L72.9365 811.261 L72.9365 815.197 L53.0292 815.197 L53.0292 811.261 Z\" fill=\"#000000\" fill-rule=\"evenodd\" fill-opacity=\"1\" /><path clip-path=\"url(#clip120)\" d=\"M 0 0 M78.0059 809.317 L82.8901 809.317 L82.8901 815.197 L78.0059 815.197 L78.0059 809.317 Z\" fill=\"#000000\" fill-rule=\"evenodd\" fill-opacity=\"1\" /><path clip-path=\"url(#clip120)\" d=\"M 0 0 M97.9595 783.715 Q94.3484 783.715 92.5197 787.28 Q90.7141 790.822 90.7141 797.951 Q90.7141 805.058 92.5197 808.623 Q94.3484 812.164 97.9595 812.164 Q101.594 812.164 103.399 808.623 Q105.228 805.058 105.228 797.951 Q105.228 790.822 103.399 787.28 Q101.594 783.715 97.9595 783.715 M97.9595 780.012 Q103.77 780.012 106.825 784.618 Q109.904 789.201 109.904 797.951 Q109.904 806.678 106.825 811.285 Q103.77 815.868 97.9595 815.868 Q92.1493 815.868 89.0706 811.285 Q86.0151 806.678 86.0151 797.951 Q86.0151 789.201 89.0706 784.618 Q92.1493 780.012 97.9595 780.012 Z\" fill=\"#000000\" fill-rule=\"evenodd\" fill-opacity=\"1\" /><path clip-path=\"url(#clip120)\" d=\"M 0 0 M124.973 783.715 Q121.362 783.715 119.533 787.28 Q117.728 790.822 117.728 797.951 Q117.728 805.058 119.533 808.623 Q121.362 812.164 124.973 812.164 Q128.607 812.164 130.413 808.623 Q132.242 805.058 132.242 797.951 Q132.242 790.822 130.413 787.28 Q128.607 783.715 124.973 783.715 M124.973 780.012 Q130.783 780.012 133.839 784.618 Q136.918 789.201 136.918 797.951 Q136.918 806.678 133.839 811.285 Q130.783 815.868 124.973 815.868 Q119.163 815.868 116.084 811.285 Q113.029 806.678 113.029 797.951 Q113.029 789.201 116.084 784.618 Q119.163 780.012 124.973 780.012 Z\" fill=\"#000000\" fill-rule=\"evenodd\" fill-opacity=\"1\" /><path clip-path=\"url(#clip120)\" d=\"M 0 0 M170.158 789.734 L159.58 800.359 L170.158 810.937 L167.404 813.738 L156.779 803.113 L146.154 813.738 L143.422 810.937 L153.978 800.359 L143.422 789.734 L146.154 786.933 L156.779 797.558 L167.404 786.933 L170.158 789.734 Z\" fill=\"#000000\" fill-rule=\"evenodd\" fill-opacity=\"1\" /><path clip-path=\"url(#clip120)\" d=\"M 0 0 M176.038 811.261 L183.677 811.261 L183.677 784.896 L175.366 786.563 L175.366 782.303 L183.63 780.637 L188.306 780.637 L188.306 811.261 L195.945 811.261 L195.945 815.197 L176.038 815.197 L176.038 811.261 Z\" fill=\"#000000\" fill-rule=\"evenodd\" fill-opacity=\"1\" /><path clip-path=\"url(#clip120)\" d=\"M 0 0 M211.014 783.715 Q207.403 783.715 205.575 787.28 Q203.769 790.822 203.769 797.951 Q203.769 805.058 205.575 808.623 Q207.403 812.164 211.014 812.164 Q214.649 812.164 216.454 808.623 Q218.283 805.058 218.283 797.951 Q218.283 790.822 216.454 787.28 Q214.649 783.715 211.014 783.715 M211.014 780.012 Q216.825 780.012 219.88 784.618 Q222.959 789.201 222.959 797.951 Q222.959 806.678 219.88 811.285 Q216.825 815.868 211.014 815.868 Q205.204 815.868 202.126 811.285 Q199.07 806.678 199.07 797.951 Q199.07 789.201 202.126 784.618 Q205.204 780.012 211.014 780.012 Z\" fill=\"#000000\" fill-rule=\"evenodd\" fill-opacity=\"1\" /><path clip-path=\"url(#clip120)\" d=\"M 0 0 M235.635 763.016 L226.043 778.006 L235.635 778.006 L235.635 763.016 M234.638 759.706 L239.416 759.706 L239.416 778.006 L243.422 778.006 L243.422 781.166 L239.416 781.166 L239.416 787.786 L235.635 787.786 L235.635 781.166 L222.959 781.166 L222.959 777.498 L234.638 759.706 Z\" fill=\"#000000\" fill-rule=\"evenodd\" fill-opacity=\"1\" /><path clip-path=\"url(#clip120)\" d=\"M 0 0 M54.0245 484.105 L61.6634 484.105 L61.6634 457.74 L53.3532 459.406 L53.3532 455.147 L61.6171 453.481 L66.293 453.481 L66.293 484.105 L73.9318 484.105 L73.9318 488.041 L54.0245 488.041 L54.0245 484.105 Z\" fill=\"#000000\" fill-rule=\"evenodd\" fill-opacity=\"1\" /><path clip-path=\"url(#clip120)\" d=\"M 0 0 M79.0012 482.161 L83.8855 482.161 L83.8855 488.041 L79.0012 488.041 L79.0012 482.161 Z\" fill=\"#000000\" fill-rule=\"evenodd\" fill-opacity=\"1\" /><path clip-path=\"url(#clip120)\" d=\"M 0 0 M89.0012 453.481 L107.358 453.481 L107.358 457.416 L93.2836 457.416 L93.2836 465.888 Q94.3021 465.541 95.3206 465.379 Q96.3391 465.193 97.3576 465.193 Q103.145 465.193 106.524 468.365 Q109.904 471.536 109.904 476.953 Q109.904 482.531 106.432 485.633 Q102.959 488.712 96.64 488.712 Q94.4641 488.712 92.1956 488.342 Q89.9503 487.971 87.5429 487.23 L87.5429 482.531 Q89.6262 483.666 91.8484 484.221 Q94.0706 484.777 96.5474 484.777 Q100.552 484.777 102.89 482.67 Q105.228 480.564 105.228 476.953 Q105.228 473.342 102.89 471.235 Q100.552 469.129 96.5474 469.129 Q94.6724 469.129 92.7975 469.545 Q90.9456 469.962 89.0012 470.842 L89.0012 453.481 Z\" fill=\"#000000\" fill-rule=\"evenodd\" fill-opacity=\"1\" /><path clip-path=\"url(#clip120)\" d=\"M 0 0 M124.973 456.559 Q121.362 456.559 119.533 460.124 Q117.728 463.666 117.728 470.795 Q117.728 477.902 119.533 481.467 Q121.362 485.008 124.973 485.008 Q128.607 485.008 130.413 481.467 Q132.242 477.902 132.242 470.795 Q132.242 463.666 130.413 460.124 Q128.607 456.559 124.973 456.559 M124.973 452.856 Q130.783 452.856 133.839 457.462 Q136.918 462.045 136.918 470.795 Q136.918 479.522 133.839 484.129 Q130.783 488.712 124.973 488.712 Q119.163 488.712 116.084 484.129 Q113.029 479.522 113.029 470.795 Q113.029 462.045 116.084 457.462 Q119.163 452.856 124.973 452.856 Z\" fill=\"#000000\" fill-rule=\"evenodd\" fill-opacity=\"1\" /><path clip-path=\"url(#clip120)\" d=\"M 0 0 M170.158 462.578 L159.58 473.203 L170.158 483.781 L167.404 486.582 L156.779 475.957 L146.154 486.582 L143.422 483.781 L153.978 473.203 L143.422 462.578 L146.154 459.777 L156.779 470.402 L167.404 459.777 L170.158 462.578 Z\" fill=\"#000000\" fill-rule=\"evenodd\" fill-opacity=\"1\" /><path clip-path=\"url(#clip120)\" d=\"M 0 0 M176.038 484.105 L183.677 484.105 L183.677 457.74 L175.366 459.406 L175.366 455.147 L183.63 453.481 L188.306 453.481 L188.306 484.105 L195.945 484.105 L195.945 488.041 L176.038 488.041 L176.038 484.105 Z\" fill=\"#000000\" fill-rule=\"evenodd\" fill-opacity=\"1\" /><path clip-path=\"url(#clip120)\" d=\"M 0 0 M211.014 456.559 Q207.403 456.559 205.575 460.124 Q203.769 463.666 203.769 470.795 Q203.769 477.902 205.575 481.467 Q207.403 485.008 211.014 485.008 Q214.649 485.008 216.454 481.467 Q218.283 477.902 218.283 470.795 Q218.283 463.666 216.454 460.124 Q214.649 456.559 211.014 456.559 M211.014 452.856 Q216.825 452.856 219.88 457.462 Q222.959 462.045 222.959 470.795 Q222.959 479.522 219.88 484.129 Q216.825 488.712 211.014 488.712 Q205.204 488.712 202.126 484.129 Q199.07 479.522 199.07 470.795 Q199.07 462.045 202.126 457.462 Q205.204 452.856 211.014 452.856 Z\" fill=\"#000000\" fill-rule=\"evenodd\" fill-opacity=\"1\" /><path clip-path=\"url(#clip120)\" d=\"M 0 0 M235.635 435.86 L226.043 450.85 L235.635 450.85 L235.635 435.86 M234.638 432.55 L239.416 432.55 L239.416 450.85 L243.422 450.85 L243.422 454.01 L239.416 454.01 L239.416 460.63 L235.635 460.63 L235.635 454.01 L222.959 454.01 L222.959 450.342 L234.638 432.55 Z\" fill=\"#000000\" fill-rule=\"evenodd\" fill-opacity=\"1\" /><path clip-path=\"url(#clip120)\" d=\"M 0 0 M56.6171 156.949 L72.9365 156.949 L72.9365 160.885 L50.9921 160.885 L50.9921 156.949 Q53.6541 154.195 58.2375 149.565 Q62.8439 144.912 64.0245 143.57 Q66.2698 141.047 67.1494 139.311 Q68.0522 137.551 68.0522 135.862 Q68.0522 133.107 66.1078 131.371 Q64.1865 129.635 61.0847 129.635 Q58.8856 129.635 56.4319 130.399 Q54.0014 131.162 51.2236 132.713 L51.2236 127.991 Q54.0477 126.857 56.5014 126.278 Q58.955 125.7 60.9921 125.7 Q66.3624 125.7 69.5568 128.385 Q72.7513 131.07 72.7513 135.561 Q72.7513 137.69 71.9411 139.612 Q71.1541 141.51 69.0476 144.102 Q68.4689 144.774 65.367 147.991 Q62.2652 151.186 56.6171 156.949 Z\" fill=\"#000000\" fill-rule=\"evenodd\" fill-opacity=\"1\" /><path clip-path=\"url(#clip120)\" d=\"M 0 0 M78.0059 155.005 L82.8901 155.005 L82.8901 160.885 L78.0059 160.885 L78.0059 155.005 Z\" fill=\"#000000\" fill-rule=\"evenodd\" fill-opacity=\"1\" /><path clip-path=\"url(#clip120)\" d=\"M 0 0 M97.9595 129.403 Q94.3484 129.403 92.5197 132.968 Q90.7141 136.51 90.7141 143.639 Q90.7141 150.746 92.5197 154.311 Q94.3484 157.852 97.9595 157.852 Q101.594 157.852 103.399 154.311 Q105.228 150.746 105.228 143.639 Q105.228 136.51 103.399 132.968 Q101.594 129.403 97.9595 129.403 M97.9595 125.7 Q103.77 125.7 106.825 130.306 Q109.904 134.889 109.904 143.639 Q109.904 152.366 106.825 156.973 Q103.77 161.556 97.9595 161.556 Q92.1493 161.556 89.0706 156.973 Q86.0151 152.366 86.0151 143.639 Q86.0151 134.889 89.0706 130.306 Q92.1493 125.7 97.9595 125.7 Z\" fill=\"#000000\" fill-rule=\"evenodd\" fill-opacity=\"1\" /><path clip-path=\"url(#clip120)\" d=\"M 0 0 M124.973 129.403 Q121.362 129.403 119.533 132.968 Q117.728 136.51 117.728 143.639 Q117.728 150.746 119.533 154.311 Q121.362 157.852 124.973 157.852 Q128.607 157.852 130.413 154.311 Q132.242 150.746 132.242 143.639 Q132.242 136.51 130.413 132.968 Q128.607 129.403 124.973 129.403 M124.973 125.7 Q130.783 125.7 133.839 130.306 Q136.918 134.889 136.918 143.639 Q136.918 152.366 133.839 156.973 Q130.783 161.556 124.973 161.556 Q119.163 161.556 116.084 156.973 Q113.029 152.366 113.029 143.639 Q113.029 134.889 116.084 130.306 Q119.163 125.7 124.973 125.7 Z\" fill=\"#000000\" fill-rule=\"evenodd\" fill-opacity=\"1\" /><path clip-path=\"url(#clip120)\" d=\"M 0 0 M170.158 135.422 L159.58 146.047 L170.158 156.625 L167.404 159.426 L156.779 148.801 L146.154 159.426 L143.422 156.625 L153.978 146.047 L143.422 135.422 L146.154 132.621 L156.779 143.246 L167.404 132.621 L170.158 135.422 Z\" fill=\"#000000\" fill-rule=\"evenodd\" fill-opacity=\"1\" /><path clip-path=\"url(#clip120)\" d=\"M 0 0 M176.038 156.949 L183.677 156.949 L183.677 130.584 L175.366 132.25 L175.366 127.991 L183.63 126.325 L188.306 126.325 L188.306 156.949 L195.945 156.949 L195.945 160.885 L176.038 160.885 L176.038 156.949 Z\" fill=\"#000000\" fill-rule=\"evenodd\" fill-opacity=\"1\" /><path clip-path=\"url(#clip120)\" d=\"M 0 0 M211.014 129.403 Q207.403 129.403 205.575 132.968 Q203.769 136.51 203.769 143.639 Q203.769 150.746 205.575 154.311 Q207.403 157.852 211.014 157.852 Q214.649 157.852 216.454 154.311 Q218.283 150.746 218.283 143.639 Q218.283 136.51 216.454 132.968 Q214.649 129.403 211.014 129.403 M211.014 125.7 Q216.825 125.7 219.88 130.306 Q222.959 134.889 222.959 143.639 Q222.959 152.366 219.88 156.973 Q216.825 161.556 211.014 161.556 Q205.204 161.556 202.126 156.973 Q199.07 152.366 199.07 143.639 Q199.07 134.889 202.126 130.306 Q205.204 125.7 211.014 125.7 Z\" fill=\"#000000\" fill-rule=\"evenodd\" fill-opacity=\"1\" /><path clip-path=\"url(#clip120)\" d=\"M 0 0 M235.635 108.704 L226.043 123.694 L235.635 123.694 L235.635 108.704 M234.638 105.394 L239.416 105.394 L239.416 123.694 L243.422 123.694 L243.422 126.854 L239.416 126.854 L239.416 133.474 L235.635 133.474 L235.635 126.854 L222.959 126.854 L222.959 123.186 L234.638 105.394 Z\" fill=\"#000000\" fill-rule=\"evenodd\" fill-opacity=\"1\" /><polyline clip-path=\"url(#clip122)\" style=\"stroke:#009af9; stroke-width:4; stroke-opacity:1; fill:none\" points=\"\n",
       "  338.101,1445.72 340.059,1445.72 342.017,1445.71 343.975,1445.71 345.933,1445.71 347.891,1445.71 349.849,1445.71 351.806,1445.71 353.764,1445.71 355.722,1445.71 \n",
       "  357.68,1445.71 359.638,1445.71 361.596,1445.71 363.554,1445.71 365.512,1445.71 367.47,1445.71 369.428,1445.7 371.386,1445.7 373.344,1445.7 375.302,1445.7 \n",
       "  377.26,1445.7 379.218,1445.7 381.175,1445.7 383.133,1445.7 385.091,1445.7 387.049,1445.7 389.007,1445.7 390.965,1445.7 392.923,1445.69 394.881,1445.69 \n",
       "  396.839,1445.69 398.797,1445.69 400.755,1445.69 402.713,1445.69 404.671,1445.69 406.629,1445.69 408.587,1445.69 410.544,1445.69 412.502,1445.69 414.46,1445.68 \n",
       "  416.418,1445.68 418.376,1445.68 420.334,1445.68 422.292,1445.68 424.25,1445.68 426.208,1445.68 428.166,1445.68 430.124,1445.68 432.082,1445.68 434.04,1445.67 \n",
       "  435.998,1445.67 437.956,1445.67 439.913,1445.67 441.871,1445.67 443.829,1445.67 445.787,1445.67 447.745,1445.67 449.703,1445.67 451.661,1445.66 453.619,1445.66 \n",
       "  455.577,1445.66 457.535,1445.66 459.493,1445.66 461.451,1445.66 463.409,1445.66 465.367,1445.66 467.325,1445.65 469.282,1445.65 471.24,1445.65 473.198,1445.65 \n",
       "  475.156,1445.65 477.114,1445.65 479.072,1445.65 481.03,1445.65 482.988,1445.64 484.946,1445.64 486.904,1445.64 488.862,1445.64 490.82,1445.64 492.778,1445.64 \n",
       "  494.736,1445.64 496.694,1445.63 498.651,1445.63 500.609,1445.63 502.567,1445.63 504.525,1445.63 506.483,1445.63 508.441,1445.63 510.399,1445.62 512.357,1445.62 \n",
       "  514.315,1445.62 516.273,1445.62 518.231,1445.62 520.189,1445.62 522.147,1445.61 524.105,1445.61 526.063,1445.61 528.02,1445.61 529.978,1445.61 531.936,1445.61 \n",
       "  533.894,1445.6 535.852,1445.6 537.81,1445.6 539.768,1445.6 541.726,1445.6 543.684,1445.6 545.642,1445.59 547.6,1445.59 549.558,1445.59 551.516,1445.59 \n",
       "  553.474,1445.59 555.432,1445.58 557.389,1445.58 559.347,1445.58 561.305,1445.58 563.263,1445.58 565.221,1445.57 567.179,1445.57 569.137,1445.57 571.095,1445.57 \n",
       "  573.053,1445.57 575.011,1445.56 576.969,1445.56 578.927,1445.56 580.885,1445.56 582.843,1445.55 584.801,1445.55 586.758,1445.55 588.716,1445.55 590.674,1445.54 \n",
       "  592.632,1445.54 594.59,1445.54 596.548,1445.54 598.506,1445.54 600.464,1445.53 602.422,1445.53 604.38,1445.53 606.338,1445.53 608.296,1445.52 610.254,1445.52 \n",
       "  612.212,1445.52 614.17,1445.51 616.127,1445.51 618.085,1445.51 620.043,1445.51 622.001,1445.5 623.959,1445.5 625.917,1445.5 627.875,1445.5 629.833,1445.49 \n",
       "  631.791,1445.49 633.749,1445.49 635.707,1445.48 637.665,1445.48 639.623,1445.48 641.581,1445.48 643.539,1445.47 645.497,1445.47 647.454,1445.47 649.412,1445.46 \n",
       "  651.37,1445.46 653.328,1445.46 655.286,1445.45 657.244,1445.45 659.202,1445.45 661.16,1445.44 663.118,1445.44 665.076,1445.44 667.034,1445.43 668.992,1445.43 \n",
       "  670.95,1445.43 672.908,1445.42 674.866,1445.42 676.823,1445.42 678.781,1445.41 680.739,1445.41 682.697,1445.4 684.655,1445.4 686.613,1445.4 688.571,1445.39 \n",
       "  690.529,1445.39 692.487,1445.38 694.445,1445.38 696.403,1445.38 698.361,1445.37 700.319,1445.37 702.277,1445.36 704.235,1445.36 706.192,1445.36 708.15,1445.35 \n",
       "  710.108,1445.35 712.066,1445.34 714.024,1445.34 715.982,1445.33 717.94,1445.33 719.898,1445.33 721.856,1445.32 723.814,1445.32 725.772,1445.31 727.73,1445.31 \n",
       "  729.688,1445.3 731.646,1445.3 733.604,1445.29 735.561,1445.29 737.519,1445.28 739.477,1445.28 741.435,1445.27 743.393,1445.27 745.351,1445.26 747.309,1445.26 \n",
       "  749.267,1445.25 751.225,1445.25 753.183,1445.24 755.141,1445.24 757.099,1445.23 759.057,1445.23 761.015,1445.22 762.973,1445.21 764.93,1445.21 766.888,1445.2 \n",
       "  768.846,1445.2 770.804,1445.19 772.762,1445.19 774.72,1445.18 776.678,1445.17 778.636,1445.17 780.594,1445.16 782.552,1445.15 784.51,1445.15 786.468,1445.14 \n",
       "  788.426,1445.14 790.384,1445.13 792.342,1445.12 794.299,1445.12 796.257,1445.11 798.215,1445.1 800.173,1445.1 802.131,1445.09 804.089,1445.08 806.047,1445.08 \n",
       "  808.005,1445.07 809.963,1445.06 811.921,1445.05 813.879,1445.05 815.837,1445.04 817.795,1445.03 819.753,1445.02 821.711,1445.02 823.668,1445.01 825.626,1445 \n",
       "  827.584,1444.99 829.542,1444.99 831.5,1444.98 833.458,1444.97 835.416,1444.96 837.374,1444.95 839.332,1444.95 841.29,1444.94 843.248,1444.93 845.206,1444.92 \n",
       "  847.164,1444.91 849.122,1444.9 851.08,1444.89 853.037,1444.89 854.995,1444.88 856.953,1444.87 858.911,1444.86 860.869,1444.85 862.827,1444.84 864.785,1444.83 \n",
       "  866.743,1444.82 868.701,1444.81 870.659,1444.8 872.617,1444.79 874.575,1444.78 876.533,1444.77 878.491,1444.76 880.449,1444.75 882.406,1444.74 884.364,1444.73 \n",
       "  886.322,1444.72 888.28,1444.71 890.238,1444.7 892.196,1444.69 894.154,1444.68 896.112,1444.67 898.07,1444.65 900.028,1444.64 901.986,1444.63 903.944,1444.62 \n",
       "  905.902,1444.61 907.86,1444.6 909.818,1444.59 911.775,1444.57 913.733,1444.56 915.691,1444.55 917.649,1444.54 919.607,1444.52 921.565,1444.51 923.523,1444.5 \n",
       "  925.481,1444.49 927.439,1444.47 929.397,1444.46 931.355,1444.45 933.313,1444.43 935.271,1444.42 937.229,1444.41 939.187,1444.39 941.144,1444.38 943.102,1444.37 \n",
       "  945.06,1444.35 947.018,1444.34 948.976,1444.32 950.934,1444.31 952.892,1444.29 954.85,1444.28 956.808,1444.26 958.766,1444.25 960.724,1444.23 962.682,1444.22 \n",
       "  964.64,1444.2 966.598,1444.19 968.556,1444.17 970.513,1444.15 972.471,1444.14 974.429,1444.12 976.387,1444.1 978.345,1444.09 980.303,1444.07 982.261,1444.05 \n",
       "  984.219,1444.04 986.177,1444.02 988.135,1444 990.093,1443.98 992.051,1443.97 994.009,1443.95 995.967,1443.93 997.925,1443.91 999.882,1443.89 1001.84,1443.87 \n",
       "  1003.8,1443.85 1005.76,1443.83 1007.71,1443.81 1009.67,1443.79 1011.63,1443.78 1013.59,1443.76 1015.55,1443.73 1017.5,1443.71 1019.46,1443.69 1021.42,1443.67 \n",
       "  1023.38,1443.65 1025.34,1443.63 1027.29,1443.61 1029.25,1443.59 1031.21,1443.57 1033.17,1443.54 1035.13,1443.52 1037.08,1443.5 1039.04,1443.48 1041,1443.45 \n",
       "  1042.96,1443.43 1044.91,1443.41 1046.87,1443.38 1048.83,1443.36 1050.79,1443.33 1052.75,1443.31 1054.7,1443.28 1056.66,1443.26 1058.62,1443.23 1060.58,1443.21 \n",
       "  1062.54,1443.18 1064.49,1443.16 1066.45,1443.13 1068.41,1443.1 1070.37,1443.08 1072.33,1443.05 1074.28,1443.02 1076.24,1443 1078.2,1442.97 1080.16,1442.94 \n",
       "  1082.12,1442.91 1084.07,1442.88 1086.03,1442.85 1087.99,1442.82 1089.95,1442.79 1091.91,1442.76 1093.86,1442.73 1095.82,1442.7 1097.78,1442.67 1099.74,1442.64 \n",
       "  1101.7,1442.61 1103.65,1442.58 1105.61,1442.55 1107.57,1442.51 1109.53,1442.48 1111.48,1442.45 1113.44,1442.42 1115.4,1442.38 1117.36,1442.35 1119.32,1442.31 \n",
       "  1121.27,1442.28 1123.23,1442.24 1125.19,1442.21 1127.15,1442.17 1129.11,1442.14 1131.06,1442.1 1133.02,1442.06 1134.98,1442.03 1136.94,1441.99 1138.9,1441.95 \n",
       "  1140.85,1441.91 1142.81,1441.87 1144.77,1441.83 1146.73,1441.8 1148.69,1441.76 1150.64,1441.72 1152.6,1441.67 1154.56,1441.63 1156.52,1441.59 1158.48,1441.55 \n",
       "  1160.43,1441.51 1162.39,1441.47 1164.35,1441.42 1166.31,1441.38 1168.26,1441.33 1170.22,1441.29 1172.18,1441.24 1174.14,1441.2 1176.1,1441.15 1178.05,1441.11 \n",
       "  1180.01,1441.06 1181.97,1441.01 1183.93,1440.97 1185.89,1440.92 1187.84,1440.87 1189.8,1440.82 1191.76,1440.77 1193.72,1440.72 1195.68,1440.67 1197.63,1440.62 \n",
       "  1199.59,1440.57 1201.55,1440.51 1203.51,1440.46 1205.47,1440.41 1207.42,1440.36 1209.38,1440.3 1211.34,1440.25 1213.3,1440.19 1215.26,1440.13 1217.21,1440.08 \n",
       "  1219.17,1440.02 1221.13,1439.96 1223.09,1439.91 1225.04,1439.85 1227,1439.79 1228.96,1439.73 1230.92,1439.67 1232.88,1439.61 1234.83,1439.54 1236.79,1439.48 \n",
       "  1238.75,1439.42 1240.71,1439.36 1242.67,1439.29 1244.62,1439.23 1246.58,1439.16 1248.54,1439.09 1250.5,1439.03 1252.46,1438.96 1254.41,1438.89 1256.37,1438.82 \n",
       "  1258.33,1438.75 1260.29,1438.68 1262.25,1438.61 1264.2,1438.54 1266.16,1438.47 1268.12,1438.39 1270.08,1438.32 1272.04,1438.25 1273.99,1438.17 1275.95,1438.09 \n",
       "  1277.91,1438.02 1279.87,1437.94 1281.82,1437.86 1283.78,1437.78 1285.74,1437.7 1287.7,1437.62 1289.66,1437.54 1291.61,1437.46 1293.57,1437.37 1295.53,1437.29 \n",
       "  1297.49,1437.21 1299.45,1437.12 1301.4,1437.03 1303.36,1436.95 1305.32,1436.86 1307.28,1436.77 1309.24,1436.68 1311.19,1436.59 1313.15,1436.5 1315.11,1436.4 \n",
       "  1317.07,1436.31 1319.03,1436.21 1320.98,1436.12 1322.94,1436.02 1324.9,1435.92 1326.86,1435.83 1328.82,1435.73 1330.77,1435.63 1332.73,1435.52 1334.69,1435.42 \n",
       "  1336.65,1435.32 1338.61,1435.21 1340.56,1435.11 1342.52,1435 1344.48,1434.89 1346.44,1434.78 1348.39,1434.67 1350.35,1434.56 1352.31,1434.45 1354.27,1434.34 \n",
       "  1356.23,1434.22 1358.18,1434.11 1360.14,1433.99 1362.1,1433.87 1364.06,1433.75 1366.02,1433.63 1367.97,1433.51 1369.93,1433.39 1371.89,1433.26 1373.85,1433.14 \n",
       "  1375.81,1433.01 1377.76,1432.89 1379.72,1432.76 1381.68,1432.63 1383.64,1432.49 1385.6,1432.36 1387.55,1432.23 1389.51,1432.09 1391.47,1431.96 1393.43,1431.82 \n",
       "  1395.39,1431.68 1397.34,1431.54 1399.3,1431.39 1401.26,1431.25 1403.22,1431.1 1405.17,1430.96 1407.13,1430.81 1409.09,1430.66 1411.05,1430.51 1413.01,1430.36 \n",
       "  1414.96,1430.2 1416.92,1430.05 1418.88,1429.89 1420.84,1429.73 1422.8,1429.57 1424.75,1429.41 1426.71,1429.24 1428.67,1429.08 1430.63,1428.91 1432.59,1428.74 \n",
       "  1434.54,1428.57 1436.5,1428.4 1438.46,1428.23 1440.42,1428.05 1442.38,1427.87 1444.33,1427.69 1446.29,1427.51 1448.25,1427.33 1450.21,1427.15 1452.17,1426.96 \n",
       "  1454.12,1426.77 1456.08,1426.58 1458.04,1426.39 1460,1426.2 1461.95,1426 1463.91,1425.8 1465.87,1425.6 1467.83,1425.4 1469.79,1425.2 1471.74,1424.99 \n",
       "  1473.7,1424.78 1475.66,1424.57 1477.62,1424.36 1479.58,1424.15 1481.53,1423.93 1483.49,1423.71 1485.45,1423.49 1487.41,1423.27 1489.37,1423.04 1491.32,1422.82 \n",
       "  1493.28,1422.59 1495.24,1422.35 1497.2,1422.12 1499.16,1421.88 1501.11,1421.64 1503.07,1421.4 1505.03,1421.16 1506.99,1420.91 1508.95,1420.66 1510.9,1420.41 \n",
       "  1512.86,1420.16 1514.82,1419.9 1516.78,1419.64 1518.73,1419.38 1520.69,1419.12 1522.65,1418.85 1524.61,1418.58 1526.57,1418.31 1528.52,1418.04 1530.48,1417.76 \n",
       "  1532.44,1417.48 1534.4,1417.2 1536.36,1416.91 1538.31,1416.62 1540.27,1416.33 1542.23,1416.04 1544.19,1415.74 1546.15,1415.44 1548.1,1415.13 1550.06,1414.83 \n",
       "  1552.02,1414.52 1553.98,1414.21 1555.94,1413.89 1557.89,1413.57 1559.85,1413.25 1561.81,1412.92 1563.77,1412.59 1565.73,1412.26 1567.68,1411.93 1569.64,1411.59 \n",
       "  1571.6,1411.25 1573.56,1410.9 1575.51,1410.55 1577.47,1410.2 1579.43,1409.84 1581.39,1409.49 1583.35,1409.12 1585.3,1408.76 1587.26,1408.39 1589.22,1408.01 \n",
       "  1591.18,1407.63 1593.14,1407.25 1595.09,1406.87 1597.05,1406.48 1599.01,1406.08 1600.97,1405.69 1602.93,1405.29 1604.88,1404.88 1606.84,1404.47 1608.8,1404.06 \n",
       "  1610.76,1403.64 1612.72,1403.22 1614.67,1402.8 1616.63,1402.37 1618.59,1401.93 1620.55,1401.49 1622.51,1401.05 1624.46,1400.6 1626.42,1400.15 1628.38,1399.69 \n",
       "  1630.34,1399.23 1632.3,1398.77 1634.25,1398.3 1636.21,1397.82 1638.17,1397.34 1640.13,1396.86 1642.08,1396.37 1644.04,1395.88 1646,1395.38 1647.96,1394.87 \n",
       "  1649.92,1394.36 1651.87,1393.85 1653.83,1393.33 1655.79,1392.81 1657.75,1392.28 1659.71,1391.74 1661.66,1391.2 1663.62,1390.66 1665.58,1390.1 1667.54,1389.55 \n",
       "  1669.5,1388.98 1671.45,1388.42 1673.41,1387.84 1675.37,1387.26 1677.33,1386.68 1679.29,1386.09 1681.24,1385.49 1683.2,1384.89 1685.16,1384.28 1687.12,1383.66 \n",
       "  1689.08,1383.04 1691.03,1382.42 1692.99,1381.78 1694.95,1381.14 1696.91,1380.5 1698.86,1379.84 1700.82,1379.18 1702.78,1378.52 1704.74,1377.84 1706.7,1377.17 \n",
       "  1708.65,1376.48 1710.61,1375.79 1712.57,1375.09 1714.53,1374.38 1716.49,1373.67 1718.44,1372.94 1720.4,1372.22 1722.36,1371.48 1724.32,1370.74 1726.28,1369.99 \n",
       "  1728.23,1369.23 1730.19,1368.46 1732.15,1367.69 1734.11,1366.91 1736.07,1366.12 1738.02,1365.32 1739.98,1364.52 1741.94,1363.71 1743.9,1362.89 1745.86,1362.06 \n",
       "  1747.81,1361.22 1749.77,1360.37 1751.73,1359.52 1753.69,1358.66 1755.64,1357.79 1757.6,1356.91 1759.56,1356.02 1761.52,1355.12 1763.48,1354.21 1765.43,1353.3 \n",
       "  1767.39,1352.37 1769.35,1351.44 1771.31,1350.49 1773.27,1349.54 1775.22,1348.58 1777.18,1347.61 1779.14,1346.63 1781.1,1345.63 1783.06,1344.63 1785.01,1343.62 \n",
       "  1786.97,1342.6 1788.93,1341.57 1790.89,1340.53 1792.85,1339.47 1794.8,1338.41 1796.76,1337.34 1798.72,1336.25 1800.68,1335.16 1802.64,1334.05 1804.59,1332.93 \n",
       "  1806.55,1331.8 1808.51,1330.66 1810.47,1329.51 1812.42,1328.35 1814.38,1327.18 1816.34,1325.99 1818.3,1324.79 1820.26,1323.58 1822.21,1322.36 1824.17,1321.13 \n",
       "  1826.13,1319.88 1828.09,1318.62 1830.05,1317.35 1832,1316.07 1833.96,1314.77 1835.92,1313.46 1837.88,1312.13 1839.84,1310.8 1841.79,1309.45 1843.75,1308.09 \n",
       "  1845.71,1306.71 1847.67,1305.32 1849.63,1303.91 1851.58,1302.49 1853.54,1301.06 1855.5,1299.61 1857.46,1298.15 1859.42,1296.68 1861.37,1295.19 1863.33,1293.68 \n",
       "  1865.29,1292.16 1867.25,1290.62 1869.21,1289.07 1871.16,1287.5 1873.12,1285.92 1875.08,1284.32 1877.04,1282.71 1878.99,1281.08 1880.95,1279.43 1882.91,1277.77 \n",
       "  1884.87,1276.09 1886.83,1274.39 1888.78,1272.67 1890.74,1270.94 1892.7,1269.2 1894.66,1267.43 1896.62,1265.65 1898.57,1263.84 1900.53,1262.03 1902.49,1260.19 \n",
       "  1904.45,1258.33 1906.41,1256.46 1908.36,1254.56 1910.32,1252.65 1912.28,1250.72 1914.24,1248.77 1916.2,1246.8 1918.15,1244.81 1920.11,1242.8 1922.07,1240.77 \n",
       "  1924.03,1238.72 1925.99,1236.65 1927.94,1234.56 1929.9,1232.45 1931.86,1230.31 1933.82,1228.16 1935.77,1225.98 1937.73,1223.78 1939.69,1221.56 1941.65,1219.32 \n",
       "  1943.61,1217.06 1945.56,1214.77 1947.52,1212.46 1949.48,1210.13 1951.44,1207.77 1953.4,1205.39 1955.35,1202.99 1957.31,1200.56 1959.27,1198.11 1961.23,1195.63 \n",
       "  1963.19,1193.13 1965.14,1190.6 1967.1,1188.05 1969.06,1185.47 1971.02,1182.87 1972.98,1180.24 1974.93,1177.58 1976.89,1174.9 1978.85,1172.19 1980.81,1169.46 \n",
       "  1982.77,1166.69 1984.72,1163.9 1986.68,1161.08 1988.64,1158.24 1990.6,1155.36 1992.55,1152.46 1994.51,1149.53 1996.47,1146.56 1998.43,1143.57 2000.39,1140.55 \n",
       "  2002.34,1137.5 2004.3,1134.41 2006.26,1131.3 2008.22,1128.15 2010.18,1124.98 2012.13,1121.77 2014.09,1118.53 2016.05,1115.26 2018.01,1111.95 2019.97,1108.61 \n",
       "  2021.92,1105.24 2023.88,1101.84 2025.84,1098.4 2027.8,1094.92 2029.76,1091.42 2031.71,1087.87 2033.67,1084.29 2035.63,1080.68 2037.59,1077.03 2039.55,1073.34 \n",
       "  2041.5,1069.61 2043.46,1065.85 2045.42,1062.05 2047.38,1058.22 2049.33,1054.34 2051.29,1050.43 2053.25,1046.47 2055.21,1042.48 2057.17,1038.45 2059.12,1034.37 \n",
       "  2061.08,1030.26 2063.04,1026.1 2065,1021.91 2066.96,1017.67 2068.91,1013.39 2070.87,1009.06 2072.83,1004.7 2074.79,1000.29 2076.75,995.83 2078.7,991.331 \n",
       "  2080.66,986.786 2082.62,982.197 2084.58,977.561 2086.54,972.878 2088.49,968.149 2090.45,963.373 2092.41,958.549 2094.37,953.677 2096.33,948.756 2098.28,943.785 \n",
       "  2100.24,938.765 2102.2,933.695 2104.16,928.574 2106.12,923.402 2108.07,918.179 2110.03,912.903 2111.99,907.574 2113.95,902.192 2115.9,896.756 2117.86,891.266 \n",
       "  2119.82,885.72 2121.78,880.12 2123.74,874.463 2125.69,868.75 2127.65,862.98 2129.61,857.152 2131.57,851.265 2133.53,845.32 2135.48,839.316 2137.44,833.251 \n",
       "  2139.4,827.126 2141.36,820.939 2143.32,814.691 2145.27,808.38 2147.23,802.006 2149.19,795.568 2151.15,789.066 2153.11,782.499 2155.06,775.866 2157.02,769.167 \n",
       "  2158.98,762.401 2160.94,755.567 2162.9,748.665 2164.85,741.694 2166.81,734.653 2168.77,727.541 2170.73,720.359 2172.68,713.105 2174.64,705.778 2176.6,698.378 \n",
       "  2178.56,690.904 2180.52,683.355 2182.47,675.731 2184.43,668.03 2186.39,660.253 2188.35,652.398 2190.31,644.464 2192.26,636.451 2194.22,628.357 2196.18,620.183 \n",
       "  2198.14,611.927 2200.1,603.589 2202.05,595.167 2204.01,586.66 2205.97,578.069 2207.93,569.392 2209.89,560.628 2211.84,551.777 2213.8,542.837 2215.76,533.807 \n",
       "  2217.72,524.687 2219.68,515.477 2221.63,506.174 2223.59,496.777 2225.55,487.287 2227.51,477.702 2229.46,468.022 2231.42,458.244 2233.38,448.369 2235.34,438.395 \n",
       "  2237.3,428.321 2239.25,418.146 2241.21,407.87 2243.17,397.491 2245.13,387.008 2247.09,376.42 2249.04,365.726 2251,354.926 2252.96,344.017 2254.92,333 \n",
       "  2256.88,321.872 2258.83,310.633 2260.79,299.281 2262.75,287.816 2264.71,276.237 2266.67,264.541 2268.62,252.729 2270.58,240.798 2272.54,228.748 2274.5,216.578 \n",
       "  2276.46,204.286 2278.41,191.871 2280.37,179.332 2282.33,166.668 2284.29,153.876 2286.24,140.957 2288.2,127.909 2290.16,114.73 2292.12,101.42 2294.08,87.9763 \n",
       "  \n",
       "  \"/>\n",
       "<path clip-path=\"url(#clip120)\" d=\"\n",
       "M2002.26 216.178 L2283.64 216.178 L2283.64 95.2176 L2002.26 95.2176  Z\n",
       "  \" fill=\"#ffffff\" fill-rule=\"evenodd\" fill-opacity=\"1\"/>\n",
       "<polyline clip-path=\"url(#clip120)\" style=\"stroke:#000000; stroke-width:4; stroke-opacity:1; fill:none\" points=\"\n",
       "  2002.26,216.178 2283.64,216.178 2283.64,95.2176 2002.26,95.2176 2002.26,216.178 \n",
       "  \"/>\n",
       "<polyline clip-path=\"url(#clip120)\" style=\"stroke:#009af9; stroke-width:4; stroke-opacity:1; fill:none\" points=\"\n",
       "  2025.29,155.698 2163.52,155.698 \n",
       "  \"/>\n",
       "<path clip-path=\"url(#clip120)\" d=\"M 0 0 M2200.39 175.385 Q2198.59 180.015 2196.88 181.427 Q2195.16 182.839 2192.29 182.839 L2188.89 182.839 L2188.89 179.274 L2191.39 179.274 Q2193.15 179.274 2194.12 178.44 Q2195.09 177.607 2196.27 174.505 L2197.04 172.561 L2186.55 147.052 L2191.07 147.052 L2199.17 167.329 L2207.27 147.052 L2211.78 147.052 L2200.39 175.385 Z\" fill=\"#000000\" fill-rule=\"evenodd\" fill-opacity=\"1\" /><path clip-path=\"url(#clip120)\" d=\"M 0 0 M2217.66 169.042 L2225.3 169.042 L2225.3 142.677 L2216.99 144.343 L2216.99 140.084 L2225.26 138.418 L2229.93 138.418 L2229.93 169.042 L2237.57 169.042 L2237.57 172.978 L2217.66 172.978 L2217.66 169.042 Z\" fill=\"#000000\" fill-rule=\"evenodd\" fill-opacity=\"1\" /></svg>\n"
      ]
     },
     "execution_count": 46,
     "metadata": {},
     "output_type": "execute_result"
    }
   ],
   "source": [
    "plot(run_infection(1000))"
   ]
  },
  {
   "cell_type": "code",
   "execution_count": 47,
   "metadata": {},
   "outputs": [
    {
     "data": {
      "image/svg+xml": [
       "<?xml version=\"1.0\" encoding=\"utf-8\"?>\n",
       "<svg xmlns=\"http://www.w3.org/2000/svg\" xmlns:xlink=\"http://www.w3.org/1999/xlink\" width=\"600\" height=\"400\" viewBox=\"0 0 2400 1600\">\n",
       "<defs>\n",
       "  <clipPath id=\"clip160\">\n",
       "    <rect x=\"0\" y=\"0\" width=\"2400\" height=\"1600\"/>\n",
       "  </clipPath>\n",
       "</defs>\n",
       "<path clip-path=\"url(#clip160)\" d=\"\n",
       "M0 1600 L2400 1600 L2400 0 L0 0  Z\n",
       "  \" fill=\"#ffffff\" fill-rule=\"evenodd\" fill-opacity=\"1\"/>\n",
       "<defs>\n",
       "  <clipPath id=\"clip161\">\n",
       "    <rect x=\"480\" y=\"0\" width=\"1681\" height=\"1600\"/>\n",
       "  </clipPath>\n",
       "</defs>\n",
       "<path clip-path=\"url(#clip160)\" d=\"\n",
       "M155.047 1486.45 L2352.76 1486.45 L2352.76 47.2441 L155.047 47.2441  Z\n",
       "  \" fill=\"#ffffff\" fill-rule=\"evenodd\" fill-opacity=\"1\"/>\n",
       "<defs>\n",
       "  <clipPath id=\"clip162\">\n",
       "    <rect x=\"155\" y=\"47\" width=\"2199\" height=\"1440\"/>\n",
       "  </clipPath>\n",
       "</defs>\n",
       "<polyline clip-path=\"url(#clip162)\" style=\"stroke:#000000; stroke-width:2; stroke-opacity:0.1; fill:none\" points=\"\n",
       "  215.171,1486.45 215.171,47.2441 \n",
       "  \"/>\n",
       "<polyline clip-path=\"url(#clip162)\" style=\"stroke:#000000; stroke-width:2; stroke-opacity:0.1; fill:none\" points=\"\n",
       "  734.018,1486.45 734.018,47.2441 \n",
       "  \"/>\n",
       "<polyline clip-path=\"url(#clip162)\" style=\"stroke:#000000; stroke-width:2; stroke-opacity:0.1; fill:none\" points=\"\n",
       "  1252.86,1486.45 1252.86,47.2441 \n",
       "  \"/>\n",
       "<polyline clip-path=\"url(#clip162)\" style=\"stroke:#000000; stroke-width:2; stroke-opacity:0.1; fill:none\" points=\"\n",
       "  1771.71,1486.45 1771.71,47.2441 \n",
       "  \"/>\n",
       "<polyline clip-path=\"url(#clip162)\" style=\"stroke:#000000; stroke-width:2; stroke-opacity:0.1; fill:none\" points=\"\n",
       "  2290.56,1486.45 2290.56,47.2441 \n",
       "  \"/>\n",
       "<polyline clip-path=\"url(#clip160)\" style=\"stroke:#000000; stroke-width:4; stroke-opacity:1; fill:none\" points=\"\n",
       "  155.047,1486.45 2352.76,1486.45 \n",
       "  \"/>\n",
       "<polyline clip-path=\"url(#clip160)\" style=\"stroke:#000000; stroke-width:4; stroke-opacity:1; fill:none\" points=\"\n",
       "  215.171,1486.45 215.171,1469.18 \n",
       "  \"/>\n",
       "<polyline clip-path=\"url(#clip160)\" style=\"stroke:#000000; stroke-width:4; stroke-opacity:1; fill:none\" points=\"\n",
       "  734.018,1486.45 734.018,1469.18 \n",
       "  \"/>\n",
       "<polyline clip-path=\"url(#clip160)\" style=\"stroke:#000000; stroke-width:4; stroke-opacity:1; fill:none\" points=\"\n",
       "  1252.86,1486.45 1252.86,1469.18 \n",
       "  \"/>\n",
       "<polyline clip-path=\"url(#clip160)\" style=\"stroke:#000000; stroke-width:4; stroke-opacity:1; fill:none\" points=\"\n",
       "  1771.71,1486.45 1771.71,1469.18 \n",
       "  \"/>\n",
       "<polyline clip-path=\"url(#clip160)\" style=\"stroke:#000000; stroke-width:4; stroke-opacity:1; fill:none\" points=\"\n",
       "  2290.56,1486.45 2290.56,1469.18 \n",
       "  \"/>\n",
       "<path clip-path=\"url(#clip160)\" d=\"M 0 0 M215.171 1515.64 Q211.56 1515.64 209.731 1519.2 Q207.926 1522.75 207.926 1529.87 Q207.926 1536.98 209.731 1540.55 Q211.56 1544.09 215.171 1544.09 Q218.805 1544.09 220.611 1540.55 Q222.44 1536.98 222.44 1529.87 Q222.44 1522.75 220.611 1519.2 Q218.805 1515.64 215.171 1515.64 M215.171 1511.93 Q220.981 1511.93 224.037 1516.54 Q227.116 1521.12 227.116 1529.87 Q227.116 1538.6 224.037 1543.21 Q220.981 1547.79 215.171 1547.79 Q209.361 1547.79 206.282 1543.21 Q203.227 1538.6 203.227 1529.87 Q203.227 1521.12 206.282 1516.54 Q209.361 1511.93 215.171 1511.93 Z\" fill=\"#000000\" fill-rule=\"evenodd\" fill-opacity=\"1\" /><path clip-path=\"url(#clip160)\" d=\"M 0 0 M702.154 1543.18 L718.474 1543.18 L718.474 1547.12 L696.529 1547.12 L696.529 1543.18 Q699.191 1540.43 703.775 1535.8 Q708.381 1531.15 709.562 1529.81 Q711.807 1527.28 712.687 1525.55 Q713.589 1523.79 713.589 1522.1 Q713.589 1519.34 711.645 1517.61 Q709.724 1515.87 706.622 1515.87 Q704.423 1515.87 701.969 1516.63 Q699.539 1517.4 696.761 1518.95 L696.761 1514.23 Q699.585 1513.09 702.039 1512.51 Q704.492 1511.93 706.529 1511.93 Q711.9 1511.93 715.094 1514.62 Q718.288 1517.31 718.288 1521.8 Q718.288 1523.93 717.478 1525.85 Q716.691 1527.74 714.585 1530.34 Q714.006 1531.01 710.904 1534.23 Q707.802 1537.42 702.154 1543.18 Z\" fill=\"#000000\" fill-rule=\"evenodd\" fill-opacity=\"1\" /><path clip-path=\"url(#clip160)\" d=\"M 0 0 M723.589 1512.56 L741.946 1512.56 L741.946 1516.5 L727.872 1516.5 L727.872 1524.97 Q728.89 1524.62 729.909 1524.46 Q730.927 1524.27 731.946 1524.27 Q737.733 1524.27 741.112 1527.44 Q744.492 1530.62 744.492 1536.03 Q744.492 1541.61 741.02 1544.71 Q737.548 1547.79 731.228 1547.79 Q729.052 1547.79 726.784 1547.42 Q724.538 1547.05 722.131 1546.31 L722.131 1541.61 Q724.214 1542.74 726.437 1543.3 Q728.659 1543.86 731.136 1543.86 Q735.14 1543.86 737.478 1541.75 Q739.816 1539.64 739.816 1536.03 Q739.816 1532.42 737.478 1530.31 Q735.14 1528.21 731.136 1528.21 Q729.261 1528.21 727.386 1528.62 Q725.534 1529.04 723.589 1529.92 L723.589 1512.56 Z\" fill=\"#000000\" fill-rule=\"evenodd\" fill-opacity=\"1\" /><path clip-path=\"url(#clip160)\" d=\"M 0 0 M759.561 1515.64 Q755.95 1515.64 754.122 1519.2 Q752.316 1522.75 752.316 1529.87 Q752.316 1536.98 754.122 1540.55 Q755.95 1544.09 759.561 1544.09 Q763.196 1544.09 765.001 1540.55 Q766.83 1536.98 766.83 1529.87 Q766.83 1522.75 765.001 1519.2 Q763.196 1515.64 759.561 1515.64 M759.561 1511.93 Q765.372 1511.93 768.427 1516.54 Q771.506 1521.12 771.506 1529.87 Q771.506 1538.6 768.427 1543.21 Q765.372 1547.79 759.561 1547.79 Q753.751 1547.79 750.673 1543.21 Q747.617 1538.6 747.617 1529.87 Q747.617 1521.12 750.673 1516.54 Q753.751 1511.93 759.561 1511.93 Z\" fill=\"#000000\" fill-rule=\"evenodd\" fill-opacity=\"1\" /><path clip-path=\"url(#clip160)\" d=\"M 0 0 M1216.13 1512.56 L1234.48 1512.56 L1234.48 1516.5 L1220.41 1516.5 L1220.41 1524.97 Q1221.43 1524.62 1222.45 1524.46 Q1223.47 1524.27 1224.48 1524.27 Q1230.27 1524.27 1233.65 1527.44 Q1237.03 1530.62 1237.03 1536.03 Q1237.03 1541.61 1233.56 1544.71 Q1230.09 1547.79 1223.77 1547.79 Q1221.59 1547.79 1219.32 1547.42 Q1217.08 1547.05 1214.67 1546.31 L1214.67 1541.61 Q1216.75 1542.74 1218.98 1543.3 Q1221.2 1543.86 1223.67 1543.86 Q1227.68 1543.86 1230.02 1541.75 Q1232.35 1539.64 1232.35 1536.03 Q1232.35 1532.42 1230.02 1530.31 Q1227.68 1528.21 1223.67 1528.21 Q1221.8 1528.21 1219.92 1528.62 Q1218.07 1529.04 1216.13 1529.92 L1216.13 1512.56 Z\" fill=\"#000000\" fill-rule=\"evenodd\" fill-opacity=\"1\" /><path clip-path=\"url(#clip160)\" d=\"M 0 0 M1252.1 1515.64 Q1248.49 1515.64 1246.66 1519.2 Q1244.85 1522.75 1244.85 1529.87 Q1244.85 1536.98 1246.66 1540.55 Q1248.49 1544.09 1252.1 1544.09 Q1255.73 1544.09 1257.54 1540.55 Q1259.37 1536.98 1259.37 1529.87 Q1259.37 1522.75 1257.54 1519.2 Q1255.73 1515.64 1252.1 1515.64 M1252.1 1511.93 Q1257.91 1511.93 1260.97 1516.54 Q1264.04 1521.12 1264.04 1529.87 Q1264.04 1538.6 1260.97 1543.21 Q1257.91 1547.79 1252.1 1547.79 Q1246.29 1547.79 1243.21 1543.21 Q1240.16 1538.6 1240.16 1529.87 Q1240.16 1521.12 1243.21 1516.54 Q1246.29 1511.93 1252.1 1511.93 Z\" fill=\"#000000\" fill-rule=\"evenodd\" fill-opacity=\"1\" /><path clip-path=\"url(#clip160)\" d=\"M 0 0 M1279.11 1515.64 Q1275.5 1515.64 1273.67 1519.2 Q1271.87 1522.75 1271.87 1529.87 Q1271.87 1536.98 1273.67 1540.55 Q1275.5 1544.09 1279.11 1544.09 Q1282.75 1544.09 1284.55 1540.55 Q1286.38 1536.98 1286.38 1529.87 Q1286.38 1522.75 1284.55 1519.2 Q1282.75 1515.64 1279.11 1515.64 M1279.11 1511.93 Q1284.92 1511.93 1287.98 1516.54 Q1291.06 1521.12 1291.06 1529.87 Q1291.06 1538.6 1287.98 1543.21 Q1284.92 1547.79 1279.11 1547.79 Q1273.3 1547.79 1270.22 1543.21 Q1267.17 1538.6 1267.17 1529.87 Q1267.17 1521.12 1270.22 1516.54 Q1273.3 1511.93 1279.11 1511.93 Z\" fill=\"#000000\" fill-rule=\"evenodd\" fill-opacity=\"1\" /><path clip-path=\"url(#clip160)\" d=\"M 0 0 M1734.08 1512.56 L1756.31 1512.56 L1756.31 1514.55 L1743.76 1547.12 L1738.87 1547.12 L1750.68 1516.5 L1734.08 1516.5 L1734.08 1512.56 Z\" fill=\"#000000\" fill-rule=\"evenodd\" fill-opacity=\"1\" /><path clip-path=\"url(#clip160)\" d=\"M 0 0 M1761.42 1512.56 L1779.78 1512.56 L1779.78 1516.5 L1765.7 1516.5 L1765.7 1524.97 Q1766.72 1524.62 1767.74 1524.46 Q1768.76 1524.27 1769.78 1524.27 Q1775.56 1524.27 1778.94 1527.44 Q1782.32 1530.62 1782.32 1536.03 Q1782.32 1541.61 1778.85 1544.71 Q1775.38 1547.79 1769.06 1547.79 Q1766.88 1547.79 1764.62 1547.42 Q1762.37 1547.05 1759.96 1546.31 L1759.96 1541.61 Q1762.05 1542.74 1764.27 1543.3 Q1766.49 1543.86 1768.97 1543.86 Q1772.97 1543.86 1775.31 1541.75 Q1777.65 1539.64 1777.65 1536.03 Q1777.65 1532.42 1775.31 1530.31 Q1772.97 1528.21 1768.97 1528.21 Q1767.09 1528.21 1765.22 1528.62 Q1763.37 1529.04 1761.42 1529.92 L1761.42 1512.56 Z\" fill=\"#000000\" fill-rule=\"evenodd\" fill-opacity=\"1\" /><path clip-path=\"url(#clip160)\" d=\"M 0 0 M1797.39 1515.64 Q1793.78 1515.64 1791.95 1519.2 Q1790.15 1522.75 1790.15 1529.87 Q1790.15 1536.98 1791.95 1540.55 Q1793.78 1544.09 1797.39 1544.09 Q1801.03 1544.09 1802.83 1540.55 Q1804.66 1536.98 1804.66 1529.87 Q1804.66 1522.75 1802.83 1519.2 Q1801.03 1515.64 1797.39 1515.64 M1797.39 1511.93 Q1803.2 1511.93 1806.26 1516.54 Q1809.34 1521.12 1809.34 1529.87 Q1809.34 1538.6 1806.26 1543.21 Q1803.2 1547.79 1797.39 1547.79 Q1791.58 1547.79 1788.5 1543.21 Q1785.45 1538.6 1785.45 1529.87 Q1785.45 1521.12 1788.5 1516.54 Q1791.58 1511.93 1797.39 1511.93 Z\" fill=\"#000000\" fill-rule=\"evenodd\" fill-opacity=\"1\" /><path clip-path=\"url(#clip160)\" d=\"M 0 0 M2240.42 1543.18 L2248.06 1543.18 L2248.06 1516.82 L2239.75 1518.49 L2239.75 1514.23 L2248.01 1512.56 L2252.69 1512.56 L2252.69 1543.18 L2260.33 1543.18 L2260.33 1547.12 L2240.42 1547.12 L2240.42 1543.18 Z\" fill=\"#000000\" fill-rule=\"evenodd\" fill-opacity=\"1\" /><path clip-path=\"url(#clip160)\" d=\"M 0 0 M2275.39 1515.64 Q2271.78 1515.64 2269.95 1519.2 Q2268.15 1522.75 2268.15 1529.87 Q2268.15 1536.98 2269.95 1540.55 Q2271.78 1544.09 2275.39 1544.09 Q2279.03 1544.09 2280.83 1540.55 Q2282.66 1536.98 2282.66 1529.87 Q2282.66 1522.75 2280.83 1519.2 Q2279.03 1515.64 2275.39 1515.64 M2275.39 1511.93 Q2281.2 1511.93 2284.26 1516.54 Q2287.34 1521.12 2287.34 1529.87 Q2287.34 1538.6 2284.26 1543.21 Q2281.2 1547.79 2275.39 1547.79 Q2269.58 1547.79 2266.51 1543.21 Q2263.45 1538.6 2263.45 1529.87 Q2263.45 1521.12 2266.51 1516.54 Q2269.58 1511.93 2275.39 1511.93 Z\" fill=\"#000000\" fill-rule=\"evenodd\" fill-opacity=\"1\" /><path clip-path=\"url(#clip160)\" d=\"M 0 0 M2302.41 1515.64 Q2298.8 1515.64 2296.97 1519.2 Q2295.16 1522.75 2295.16 1529.87 Q2295.16 1536.98 2296.97 1540.55 Q2298.8 1544.09 2302.41 1544.09 Q2306.04 1544.09 2307.85 1540.55 Q2309.68 1536.98 2309.68 1529.87 Q2309.68 1522.75 2307.85 1519.2 Q2306.04 1515.64 2302.41 1515.64 M2302.41 1511.93 Q2308.22 1511.93 2311.27 1516.54 Q2314.35 1521.12 2314.35 1529.87 Q2314.35 1538.6 2311.27 1543.21 Q2308.22 1547.79 2302.41 1547.79 Q2296.6 1547.79 2293.52 1543.21 Q2290.46 1538.6 2290.46 1529.87 Q2290.46 1521.12 2293.52 1516.54 Q2296.6 1511.93 2302.41 1511.93 Z\" fill=\"#000000\" fill-rule=\"evenodd\" fill-opacity=\"1\" /><path clip-path=\"url(#clip160)\" d=\"M 0 0 M2329.42 1515.64 Q2325.81 1515.64 2323.98 1519.2 Q2322.18 1522.75 2322.18 1529.87 Q2322.18 1536.98 2323.98 1540.55 Q2325.81 1544.09 2329.42 1544.09 Q2333.06 1544.09 2334.86 1540.55 Q2336.69 1536.98 2336.69 1529.87 Q2336.69 1522.75 2334.86 1519.2 Q2333.06 1515.64 2329.42 1515.64 M2329.42 1511.93 Q2335.23 1511.93 2338.29 1516.54 Q2341.37 1521.12 2341.37 1529.87 Q2341.37 1538.6 2338.29 1543.21 Q2335.23 1547.79 2329.42 1547.79 Q2323.61 1547.79 2320.53 1543.21 Q2317.48 1538.6 2317.48 1529.87 Q2317.48 1521.12 2320.53 1516.54 Q2323.61 1511.93 2329.42 1511.93 Z\" fill=\"#000000\" fill-rule=\"evenodd\" fill-opacity=\"1\" /><polyline clip-path=\"url(#clip162)\" style=\"stroke:#000000; stroke-width:2; stroke-opacity:0.1; fill:none\" points=\"\n",
       "  155.047,1445.72 2352.76,1445.72 \n",
       "  \"/>\n",
       "<polyline clip-path=\"url(#clip162)\" style=\"stroke:#000000; stroke-width:2; stroke-opacity:0.1; fill:none\" points=\"\n",
       "  155.047,1131.21 2352.76,1131.21 \n",
       "  \"/>\n",
       "<polyline clip-path=\"url(#clip162)\" style=\"stroke:#000000; stroke-width:2; stroke-opacity:0.1; fill:none\" points=\"\n",
       "  155.047,816.703 2352.76,816.703 \n",
       "  \"/>\n",
       "<polyline clip-path=\"url(#clip162)\" style=\"stroke:#000000; stroke-width:2; stroke-opacity:0.1; fill:none\" points=\"\n",
       "  155.047,502.197 2352.76,502.197 \n",
       "  \"/>\n",
       "<polyline clip-path=\"url(#clip162)\" style=\"stroke:#000000; stroke-width:2; stroke-opacity:0.1; fill:none\" points=\"\n",
       "  155.047,187.691 2352.76,187.691 \n",
       "  \"/>\n",
       "<polyline clip-path=\"url(#clip160)\" style=\"stroke:#000000; stroke-width:4; stroke-opacity:1; fill:none\" points=\"\n",
       "  155.047,1486.45 155.047,47.2441 \n",
       "  \"/>\n",
       "<polyline clip-path=\"url(#clip160)\" style=\"stroke:#000000; stroke-width:4; stroke-opacity:1; fill:none\" points=\"\n",
       "  155.047,1445.72 181.42,1445.72 \n",
       "  \"/>\n",
       "<polyline clip-path=\"url(#clip160)\" style=\"stroke:#000000; stroke-width:4; stroke-opacity:1; fill:none\" points=\"\n",
       "  155.047,1131.21 181.42,1131.21 \n",
       "  \"/>\n",
       "<polyline clip-path=\"url(#clip160)\" style=\"stroke:#000000; stroke-width:4; stroke-opacity:1; fill:none\" points=\"\n",
       "  155.047,816.703 181.42,816.703 \n",
       "  \"/>\n",
       "<polyline clip-path=\"url(#clip160)\" style=\"stroke:#000000; stroke-width:4; stroke-opacity:1; fill:none\" points=\"\n",
       "  155.047,502.197 181.42,502.197 \n",
       "  \"/>\n",
       "<polyline clip-path=\"url(#clip160)\" style=\"stroke:#000000; stroke-width:4; stroke-opacity:1; fill:none\" points=\"\n",
       "  155.047,187.691 181.42,187.691 \n",
       "  \"/>\n",
       "<path clip-path=\"url(#clip160)\" d=\"M 0 0 M52.7167 1465.51 L60.3555 1465.51 L60.3555 1439.14 L52.0454 1440.81 L52.0454 1436.55 L60.3092 1434.88 L64.9851 1434.88 L64.9851 1465.51 L72.624 1465.51 L72.624 1469.44 L52.7167 1469.44 L52.7167 1465.51 Z\" fill=\"#000000\" fill-rule=\"evenodd\" fill-opacity=\"1\" /><path clip-path=\"url(#clip160)\" d=\"M 0 0 M87.6933 1437.96 Q84.0822 1437.96 82.2535 1441.53 Q80.448 1445.07 80.448 1452.2 Q80.448 1459.3 82.2535 1462.87 Q84.0822 1466.41 87.6933 1466.41 Q91.3276 1466.41 93.1331 1462.87 Q94.9618 1459.3 94.9618 1452.2 Q94.9618 1445.07 93.1331 1441.53 Q91.3276 1437.96 87.6933 1437.96 M87.6933 1434.26 Q93.5035 1434.26 96.559 1438.86 Q99.6377 1443.45 99.6377 1452.2 Q99.6377 1460.92 96.559 1465.53 Q93.5035 1470.11 87.6933 1470.11 Q81.8832 1470.11 78.8045 1465.53 Q75.7489 1460.92 75.7489 1452.2 Q75.7489 1443.45 78.8045 1438.86 Q81.8832 1434.26 87.6933 1434.26 Z\" fill=\"#000000\" fill-rule=\"evenodd\" fill-opacity=\"1\" /><path clip-path=\"url(#clip160)\" d=\"M 0 0 M109.343 1416.45 Q106.408 1416.45 104.923 1419.35 Q103.456 1422.23 103.456 1428.02 Q103.456 1433.8 104.923 1436.69 Q106.408 1439.57 109.343 1439.57 Q112.295 1439.57 113.762 1436.69 Q115.248 1433.8 115.248 1428.02 Q115.248 1422.23 113.762 1419.35 Q112.295 1416.45 109.343 1416.45 M109.343 1413.45 Q114.063 1413.45 116.546 1417.19 Q119.047 1420.91 119.047 1428.02 Q119.047 1435.11 116.546 1438.85 Q114.063 1442.58 109.343 1442.58 Q104.622 1442.58 102.12 1438.85 Q99.6377 1435.11 99.6377 1428.02 Q99.6377 1420.91 102.12 1417.19 Q104.622 1413.45 109.343 1413.45 Z\" fill=\"#000000\" fill-rule=\"evenodd\" fill-opacity=\"1\" /><path clip-path=\"url(#clip160)\" d=\"M 0 0 M55.4062 1151 L63.045 1151 L63.045 1124.64 L54.7349 1126.3 L54.7349 1122.04 L62.9987 1120.38 L67.6746 1120.38 L67.6746 1151 L75.3135 1151 L75.3135 1154.94 L55.4062 1154.94 L55.4062 1151 Z\" fill=\"#000000\" fill-rule=\"evenodd\" fill-opacity=\"1\" /><path clip-path=\"url(#clip160)\" d=\"M 0 0 M90.3828 1123.46 Q86.7717 1123.46 84.943 1127.02 Q83.1375 1130.56 83.1375 1137.69 Q83.1375 1144.8 84.943 1148.36 Q86.7717 1151.9 90.3828 1151.9 Q94.0171 1151.9 95.8226 1148.36 Q97.6513 1144.8 97.6513 1137.69 Q97.6513 1130.56 95.8226 1127.02 Q94.0171 1123.46 90.3828 1123.46 M90.3828 1119.75 Q96.193 1119.75 99.2485 1124.36 Q102.327 1128.94 102.327 1137.69 Q102.327 1146.42 99.2485 1151.03 Q96.193 1155.61 90.3828 1155.61 Q84.5727 1155.61 81.494 1151.03 Q78.4384 1146.42 78.4384 1137.69 Q78.4384 1128.94 81.494 1124.36 Q84.5727 1119.75 90.3828 1119.75 Z\" fill=\"#000000\" fill-rule=\"evenodd\" fill-opacity=\"1\" /><path clip-path=\"url(#clip160)\" d=\"M 0 0 M102.873 1124.33 L109.079 1124.33 L109.079 1102.91 L102.327 1104.26 L102.327 1100.8 L109.042 1099.45 L112.841 1099.45 L112.841 1124.33 L119.047 1124.33 L119.047 1127.53 L102.873 1127.53 L102.873 1124.33 Z\" fill=\"#000000\" fill-rule=\"evenodd\" fill-opacity=\"1\" /><path clip-path=\"url(#clip160)\" d=\"M 0 0 M54.2965 836.496 L61.9354 836.496 L61.9354 810.13 L53.6252 811.797 L53.6252 807.538 L61.8891 805.871 L66.565 805.871 L66.565 836.496 L74.2038 836.496 L74.2038 840.431 L54.2965 840.431 L54.2965 836.496 Z\" fill=\"#000000\" fill-rule=\"evenodd\" fill-opacity=\"1\" /><path clip-path=\"url(#clip160)\" d=\"M 0 0 M89.2732 808.95 Q85.6621 808.95 83.8334 812.515 Q82.0278 816.056 82.0278 823.186 Q82.0278 830.292 83.8334 833.857 Q85.6621 837.399 89.2732 837.399 Q92.9074 837.399 94.713 833.857 Q96.5417 830.292 96.5417 823.186 Q96.5417 816.056 94.713 812.515 Q92.9074 808.95 89.2732 808.95 M89.2732 805.246 Q95.0833 805.246 98.1389 809.853 Q101.218 814.436 101.218 823.186 Q101.218 831.913 98.1389 836.519 Q95.0833 841.102 89.2732 841.102 Q83.463 841.102 80.3843 836.519 Q77.3288 831.913 77.3288 823.186 Q77.3288 814.436 80.3843 809.853 Q83.463 805.246 89.2732 805.246 Z\" fill=\"#000000\" fill-rule=\"evenodd\" fill-opacity=\"1\" /><path clip-path=\"url(#clip160)\" d=\"M 0 0 M105.788 809.823 L119.047 809.823 L119.047 813.021 L101.218 813.021 L101.218 809.823 Q103.38 807.585 107.104 803.824 Q110.847 800.043 111.806 798.952 Q113.631 796.902 114.345 795.492 Q115.079 794.062 115.079 792.689 Q115.079 790.451 113.499 789.041 Q111.938 787.63 109.418 787.63 Q107.631 787.63 105.637 788.251 Q103.663 788.871 101.406 790.132 L101.406 786.295 Q103.7 785.373 105.694 784.903 Q107.687 784.433 109.343 784.433 Q113.706 784.433 116.301 786.615 Q118.897 788.796 118.897 792.445 Q118.897 794.175 118.239 795.736 Q117.599 797.279 115.888 799.385 Q115.417 799.93 112.897 802.545 Q110.377 805.14 105.788 809.823 Z\" fill=\"#000000\" fill-rule=\"evenodd\" fill-opacity=\"1\" /><path clip-path=\"url(#clip160)\" d=\"M 0 0 M53.6382 521.99 L61.2771 521.99 L61.2771 495.624 L52.9669 497.291 L52.9669 493.032 L61.2308 491.365 L65.9067 491.365 L65.9067 521.99 L73.5455 521.99 L73.5455 525.925 L53.6382 525.925 L53.6382 521.99 Z\" fill=\"#000000\" fill-rule=\"evenodd\" fill-opacity=\"1\" /><path clip-path=\"url(#clip160)\" d=\"M 0 0 M88.6149 494.444 Q85.0038 494.444 83.1751 498.008 Q81.3696 501.55 81.3696 508.68 Q81.3696 515.786 83.1751 519.351 Q85.0038 522.893 88.6149 522.893 Q92.2491 522.893 94.0547 519.351 Q95.8834 515.786 95.8834 508.68 Q95.8834 501.55 94.0547 498.008 Q92.2491 494.444 88.6149 494.444 M88.6149 490.74 Q94.4251 490.74 97.4806 495.346 Q100.559 499.93 100.559 508.68 Q100.559 517.406 97.4806 522.013 Q94.4251 526.596 88.6149 526.596 Q82.8047 526.596 79.7261 522.013 Q76.6705 517.406 76.6705 508.68 Q76.6705 499.93 79.7261 495.346 Q82.8047 490.74 88.6149 490.74 Z\" fill=\"#000000\" fill-rule=\"evenodd\" fill-opacity=\"1\" /><path clip-path=\"url(#clip160)\" d=\"M 0 0 M113.255 483.374 Q115.982 483.957 117.505 485.8 Q119.047 487.644 119.047 490.352 Q119.047 494.508 116.189 496.784 Q113.33 499.06 108.064 499.06 Q106.296 499.06 104.415 498.703 Q102.553 498.364 100.559 497.668 L100.559 494.001 Q102.139 494.922 104.02 495.392 Q105.901 495.863 107.951 495.863 Q111.524 495.863 113.386 494.452 Q115.267 493.041 115.267 490.352 Q115.267 487.869 113.518 486.478 Q111.788 485.067 108.684 485.067 L105.412 485.067 L105.412 481.945 L108.835 481.945 Q111.637 481.945 113.123 480.835 Q114.609 479.707 114.609 477.6 Q114.609 475.437 113.066 474.29 Q111.543 473.124 108.684 473.124 Q107.123 473.124 105.336 473.463 Q103.55 473.801 101.406 474.516 L101.406 471.13 Q103.569 470.529 105.449 470.228 Q107.349 469.927 109.023 469.927 Q113.349 469.927 115.869 471.902 Q118.389 473.858 118.389 477.205 Q118.389 479.537 117.054 481.155 Q115.718 482.754 113.255 483.374 Z\" fill=\"#000000\" fill-rule=\"evenodd\" fill-opacity=\"1\" /><path clip-path=\"url(#clip160)\" d=\"M 0 0 M51.6634 207.484 L59.3023 207.484 L59.3023 181.118 L50.9921 182.785 L50.9921 178.525 L59.256 176.859 L63.9319 176.859 L63.9319 207.484 L71.5707 207.484 L71.5707 211.419 L51.6634 211.419 L51.6634 207.484 Z\" fill=\"#000000\" fill-rule=\"evenodd\" fill-opacity=\"1\" /><path clip-path=\"url(#clip160)\" d=\"M 0 0 M86.6401 179.937 Q83.029 179.937 81.2003 183.502 Q79.3948 187.044 79.3948 194.174 Q79.3948 201.28 81.2003 204.845 Q83.029 208.386 86.6401 208.386 Q90.2743 208.386 92.0799 204.845 Q93.9086 201.28 93.9086 194.174 Q93.9086 187.044 92.0799 183.502 Q90.2743 179.937 86.6401 179.937 M86.6401 176.234 Q92.4502 176.234 95.5058 180.84 Q98.5845 185.424 98.5845 194.174 Q98.5845 202.9 95.5058 207.507 Q92.4502 212.09 86.6401 212.09 Q80.8299 212.09 77.7512 207.507 Q74.6957 202.9 74.6957 194.174 Q74.6957 185.424 77.7512 180.84 Q80.8299 176.234 86.6401 176.234 Z\" fill=\"#000000\" fill-rule=\"evenodd\" fill-opacity=\"1\" /><path clip-path=\"url(#clip160)\" d=\"M 0 0 M111.261 159.239 L101.669 174.228 L111.261 174.228 L111.261 159.239 M110.264 155.928 L115.041 155.928 L115.041 174.228 L119.047 174.228 L119.047 177.388 L115.041 177.388 L115.041 184.008 L111.261 184.008 L111.261 177.388 L98.5845 177.388 L98.5845 173.721 L110.264 155.928 Z\" fill=\"#000000\" fill-rule=\"evenodd\" fill-opacity=\"1\" /><polyline clip-path=\"url(#clip162)\" style=\"stroke:#009af9; stroke-width:4; stroke-opacity:1; fill:none\" points=\"\n",
       "  217.247,1445.72 219.322,1444.36 221.397,1443 223.473,1441.64 225.548,1440.28 227.624,1438.92 229.699,1437.56 231.774,1436.2 233.85,1434.84 235.925,1433.48 \n",
       "  238,1432.12 240.076,1430.77 242.151,1429.41 244.227,1428.05 246.302,1426.69 248.377,1425.33 250.453,1423.97 252.528,1422.61 254.604,1421.25 256.679,1419.89 \n",
       "  258.754,1418.53 260.83,1417.17 262.905,1415.82 264.98,1414.46 267.056,1413.1 269.131,1411.74 271.207,1410.38 273.282,1409.02 275.357,1407.66 277.433,1406.3 \n",
       "  279.508,1404.94 281.584,1403.58 283.659,1402.22 285.734,1400.87 287.81,1399.51 289.885,1398.15 291.96,1396.79 294.036,1395.43 296.111,1394.07 298.187,1392.71 \n",
       "  300.262,1391.35 302.337,1389.99 304.413,1388.63 306.488,1387.27 308.564,1385.92 310.639,1384.56 312.714,1383.2 314.79,1381.84 316.865,1380.48 318.94,1379.12 \n",
       "  321.016,1377.76 323.091,1376.4 325.167,1375.04 327.242,1373.68 329.317,1372.32 331.393,1370.97 333.468,1369.61 335.544,1368.25 337.619,1366.89 339.694,1365.53 \n",
       "  341.77,1364.17 343.845,1362.81 345.921,1361.45 347.996,1360.09 350.071,1358.73 352.147,1357.37 354.222,1356.02 356.297,1354.66 358.373,1353.3 360.448,1351.94 \n",
       "  362.524,1350.58 364.599,1349.22 366.674,1347.86 368.75,1346.5 370.825,1345.14 372.901,1343.78 374.976,1342.42 377.051,1341.07 379.127,1339.71 381.202,1338.35 \n",
       "  383.277,1336.99 385.353,1335.63 387.428,1334.27 389.504,1332.91 391.579,1331.55 393.654,1330.19 395.73,1328.83 397.805,1327.47 399.881,1326.12 401.956,1324.76 \n",
       "  404.031,1323.4 406.107,1322.04 408.182,1320.68 410.257,1319.32 412.333,1317.96 414.408,1316.6 416.484,1315.24 418.559,1313.88 420.634,1312.52 422.71,1311.16 \n",
       "  424.785,1309.81 426.861,1308.45 428.936,1307.09 431.011,1305.73 433.087,1304.37 435.162,1303.01 437.237,1301.65 439.313,1300.29 441.388,1298.93 443.464,1297.57 \n",
       "  445.539,1296.21 447.614,1294.86 449.69,1293.5 451.765,1292.14 453.841,1290.78 455.916,1289.42 457.991,1288.06 460.067,1286.7 462.142,1285.34 464.217,1283.98 \n",
       "  466.293,1282.62 468.368,1281.26 470.444,1279.91 472.519,1278.55 474.594,1277.19 476.67,1275.83 478.745,1274.47 480.821,1273.11 482.896,1271.75 484.971,1270.39 \n",
       "  487.047,1269.03 489.122,1267.67 491.197,1266.31 493.273,1264.96 495.348,1263.6 497.424,1262.24 499.499,1260.88 501.574,1259.52 503.65,1258.16 505.725,1256.8 \n",
       "  507.801,1255.44 509.876,1254.08 511.951,1252.72 514.027,1251.36 516.102,1250.01 518.177,1248.65 520.253,1247.29 522.328,1245.93 524.404,1244.57 526.479,1243.21 \n",
       "  528.554,1241.85 530.63,1240.49 532.705,1239.13 534.781,1237.77 536.856,1236.41 538.931,1235.06 541.007,1233.7 543.082,1232.34 545.158,1230.98 547.233,1229.62 \n",
       "  549.308,1228.26 551.384,1226.9 553.459,1225.54 555.534,1224.18 557.61,1222.82 559.685,1221.46 561.761,1220.11 563.836,1218.75 565.911,1217.39 567.987,1216.03 \n",
       "  570.062,1214.67 572.138,1213.31 574.213,1211.95 576.288,1210.59 578.364,1209.23 580.439,1207.87 582.514,1206.51 584.59,1205.16 586.665,1203.8 588.741,1202.44 \n",
       "  590.816,1201.08 592.891,1199.72 594.967,1198.36 597.042,1197 599.118,1195.64 601.193,1194.28 603.268,1192.92 605.344,1191.56 607.419,1190.21 609.494,1188.85 \n",
       "  611.57,1187.49 613.645,1186.13 615.721,1184.77 617.796,1183.41 619.871,1182.05 621.947,1180.69 624.022,1179.33 626.098,1177.97 628.173,1176.61 630.248,1175.26 \n",
       "  632.324,1173.9 634.399,1172.54 636.474,1171.18 638.55,1169.82 640.625,1168.46 642.701,1167.1 644.776,1165.74 646.851,1164.38 648.927,1163.02 651.002,1161.66 \n",
       "  653.078,1160.31 655.153,1158.95 657.228,1157.59 659.304,1156.23 661.379,1154.87 663.454,1153.51 665.53,1152.15 667.605,1150.79 669.681,1149.43 671.756,1148.07 \n",
       "  673.831,1146.71 675.907,1145.35 677.982,1144 680.058,1142.64 682.133,1141.28 684.208,1139.92 686.284,1138.56 688.359,1137.2 690.434,1135.84 692.51,1134.48 \n",
       "  694.585,1133.12 696.661,1131.76 698.736,1130.4 700.811,1129.05 702.887,1127.69 704.962,1126.33 707.038,1124.97 709.113,1123.61 711.188,1122.25 713.264,1120.89 \n",
       "  715.339,1119.53 717.414,1118.17 719.49,1116.81 721.565,1115.45 723.641,1114.1 725.716,1112.74 727.791,1111.38 729.867,1110.02 731.942,1108.66 734.018,1107.3 \n",
       "  736.093,1105.94 738.168,1104.58 740.244,1103.22 742.319,1101.86 744.395,1100.5 746.47,1099.15 748.545,1097.79 750.621,1096.43 752.696,1095.07 754.771,1093.71 \n",
       "  756.847,1092.35 758.922,1090.99 760.998,1089.63 763.073,1088.27 765.148,1086.91 767.224,1085.55 769.299,1084.2 771.375,1082.84 773.45,1081.48 775.525,1080.12 \n",
       "  777.601,1078.76 779.676,1077.4 781.751,1076.04 783.827,1074.68 785.902,1073.32 787.978,1071.96 790.053,1070.6 792.128,1069.25 794.204,1067.89 796.279,1066.53 \n",
       "  798.355,1065.17 800.43,1063.81 802.505,1062.45 804.581,1061.09 806.656,1059.73 808.731,1058.37 810.807,1057.01 812.882,1055.65 814.958,1054.3 817.033,1052.94 \n",
       "  819.108,1051.58 821.184,1050.22 823.259,1048.86 825.335,1047.5 827.41,1046.14 829.485,1044.78 831.561,1043.42 833.636,1042.06 835.711,1040.7 837.787,1039.35 \n",
       "  839.862,1037.99 841.938,1036.63 844.013,1035.27 846.088,1033.91 848.164,1032.55 850.239,1031.19 852.315,1029.83 854.39,1028.47 856.465,1027.11 858.541,1025.75 \n",
       "  860.616,1024.4 862.691,1023.04 864.767,1021.68 866.842,1020.32 868.918,1018.96 870.993,1017.6 873.068,1016.24 875.144,1014.88 877.219,1013.52 879.295,1012.16 \n",
       "  881.37,1010.8 883.445,1009.45 885.521,1008.09 887.596,1006.73 889.671,1005.37 891.747,1004.01 893.822,1002.65 895.898,1001.29 897.973,999.931 900.048,998.572 \n",
       "  902.124,997.213 904.199,995.854 906.275,994.495 908.35,993.136 910.425,991.777 912.501,990.418 914.576,989.059 916.651,987.699 918.727,986.34 920.802,984.981 \n",
       "  922.878,983.622 924.953,982.263 927.028,980.904 929.104,979.545 931.179,978.186 933.255,976.827 935.33,975.468 937.405,974.109 939.481,972.749 941.556,971.39 \n",
       "  943.631,970.031 945.707,968.672 947.782,967.313 949.858,965.954 951.933,964.595 954.008,963.236 956.084,961.877 958.159,960.518 960.235,959.158 962.31,957.799 \n",
       "  964.385,956.44 966.461,955.081 968.536,953.722 970.612,952.363 972.687,951.004 974.762,949.645 976.838,948.286 978.913,946.927 980.988,945.567 983.064,944.208 \n",
       "  985.139,942.849 987.215,941.49 989.29,940.131 991.365,938.772 993.441,937.413 995.516,936.054 997.592,934.695 999.667,933.336 1001.74,931.976 1003.82,930.617 \n",
       "  1005.89,929.258 1007.97,927.899 1010.04,926.54 1012.12,925.181 1014.19,923.822 1016.27,922.463 1018.35,921.104 1020.42,919.745 1022.5,918.385 1024.57,917.026 \n",
       "  1026.65,915.667 1028.72,914.308 1030.8,912.949 1032.87,911.59 1034.95,910.231 1037.02,908.872 1039.1,907.513 1041.17,906.154 1043.25,904.794 1045.33,903.435 \n",
       "  1047.4,902.076 1049.48,900.717 1051.55,899.358 1053.63,897.999 1055.7,896.64 1057.78,895.281 1059.85,893.922 1061.93,892.563 1064,891.203 1066.08,889.844 \n",
       "  1068.15,888.485 1070.23,887.126 1072.31,885.767 1074.38,884.408 1076.46,883.049 1078.53,881.69 1080.61,880.331 1082.68,878.972 1084.76,877.613 1086.83,876.253 \n",
       "  1088.91,874.894 1090.98,873.535 1093.06,872.176 1095.13,870.817 1097.21,869.458 1099.29,868.099 1101.36,866.74 1103.44,865.381 1105.51,864.022 1107.59,862.662 \n",
       "  1109.66,861.303 1111.74,859.944 1113.81,858.585 1115.89,857.226 1117.96,855.867 1120.04,854.508 1122.11,853.149 1124.19,851.79 1126.27,850.431 1128.34,849.071 \n",
       "  1130.42,847.712 1132.49,846.353 1134.57,844.994 1136.64,843.635 1138.72,842.276 1140.79,840.917 1142.87,839.558 1144.94,838.199 1147.02,836.84 1149.09,835.48 \n",
       "  1151.17,834.121 1153.25,832.762 1155.32,831.403 1157.4,830.044 1159.47,828.685 1161.55,827.326 1163.62,825.967 1165.7,824.608 1167.77,823.249 1169.85,821.889 \n",
       "  1171.92,820.53 1174,819.171 1176.07,817.812 1178.15,816.453 1180.23,815.094 1182.3,813.735 1184.38,812.376 1186.45,811.017 1188.53,809.658 1190.6,808.298 \n",
       "  1192.68,806.939 1194.75,805.58 1196.83,804.221 1198.9,802.862 1200.98,801.503 1203.05,800.144 1205.13,798.785 1207.21,797.426 1209.28,796.067 1211.36,794.708 \n",
       "  1213.43,793.348 1215.51,791.989 1217.58,790.63 1219.66,789.271 1221.73,787.912 1223.81,786.553 1225.88,785.194 1227.96,783.835 1230.03,782.476 1232.11,781.117 \n",
       "  1234.19,779.757 1236.26,778.398 1238.34,777.039 1240.41,775.68 1242.49,774.321 1244.56,772.962 1246.64,771.603 1248.71,770.244 1250.79,768.885 1252.86,767.526 \n",
       "  1254.94,766.166 1257.01,764.807 1259.09,763.448 1261.17,762.089 1263.24,760.73 1265.32,759.371 1267.39,758.012 1269.47,756.653 1271.54,755.294 1273.62,753.935 \n",
       "  1275.69,752.575 1277.77,751.216 1279.84,749.857 1281.92,748.498 1283.99,747.139 1286.07,745.78 1288.15,744.421 1290.22,743.062 1292.3,741.703 1294.37,740.344 \n",
       "  1296.45,738.984 1298.52,737.625 1300.6,736.266 1302.67,734.907 1304.75,733.548 1306.82,732.189 1308.9,730.83 1310.97,729.471 1313.05,728.112 1315.13,726.753 \n",
       "  1317.2,725.393 1319.28,724.034 1321.35,722.675 1323.43,721.316 1325.5,719.957 1327.58,718.598 1329.65,717.239 1331.73,715.88 1333.8,714.521 1335.88,713.162 \n",
       "  1337.95,711.802 1340.03,710.443 1342.11,709.084 1344.18,707.725 1346.26,706.366 1348.33,705.007 1350.41,703.648 1352.48,702.289 1354.56,700.93 1356.63,699.571 \n",
       "  1358.71,698.212 1360.78,696.852 1362.86,695.493 1364.93,694.134 1367.01,692.775 1369.09,691.416 1371.16,690.057 1373.24,688.698 1375.31,687.339 1377.39,685.98 \n",
       "  1379.46,684.621 1381.54,683.261 1383.61,681.902 1385.69,680.543 1387.76,679.184 1389.84,677.825 1391.91,676.466 1393.99,675.107 1396.07,673.748 1398.14,672.389 \n",
       "  1400.22,671.03 1402.29,669.67 1404.37,668.311 1406.44,666.952 1408.52,665.593 1410.59,664.234 1412.67,662.875 1414.74,661.516 1416.82,660.157 1418.89,658.798 \n",
       "  1420.97,657.439 1423.05,656.079 1425.12,654.72 1427.2,653.361 1429.27,652.002 1431.35,650.643 1433.42,649.284 1435.5,647.925 1437.57,646.566 1439.65,645.207 \n",
       "  1441.72,643.848 1443.8,642.488 1445.87,641.129 1447.95,639.77 1450.03,638.411 1452.1,637.052 1454.18,635.693 1456.25,634.334 1458.33,632.975 1460.4,631.616 \n",
       "  1462.48,630.257 1464.55,628.897 1466.63,627.538 1468.7,626.179 1470.78,624.82 1472.85,623.461 1474.93,622.102 1477.01,620.743 1479.08,619.384 1481.16,618.025 \n",
       "  1483.23,616.666 1485.31,615.307 1487.38,613.947 1489.46,612.588 1491.53,611.229 1493.61,609.87 1495.68,608.511 1497.76,607.152 1499.83,605.793 1501.91,604.434 \n",
       "  1503.99,603.075 1506.06,601.716 1508.14,600.356 1510.21,598.997 1512.29,597.638 1514.36,596.279 1516.44,594.92 1518.51,593.561 1520.59,592.202 1522.66,590.843 \n",
       "  1524.74,589.484 1526.81,588.125 1528.89,586.765 1530.97,585.406 1533.04,584.047 1535.12,582.688 1537.19,581.329 1539.27,579.97 1541.34,578.611 1543.42,577.252 \n",
       "  1545.49,575.893 1547.57,574.534 1549.64,573.174 1551.72,571.815 1553.79,570.456 1555.87,569.097 1557.95,567.738 1560.02,566.379 1562.1,565.02 1564.17,563.661 \n",
       "  1566.25,562.302 1568.32,560.943 1570.4,559.583 1572.47,558.224 1574.55,556.865 1576.62,555.506 1578.7,554.147 1580.77,552.788 1582.85,551.429 1584.93,550.07 \n",
       "  1587,548.711 1589.08,547.352 1591.15,545.992 1593.23,544.633 1595.3,543.274 1597.38,541.915 1599.45,540.556 1601.53,539.197 1603.6,537.838 1605.68,536.479 \n",
       "  1607.75,535.12 1609.83,533.761 1611.91,532.401 1613.98,531.042 1616.06,529.683 1618.13,528.324 1620.21,526.965 1622.28,525.606 1624.36,524.247 1626.43,522.888 \n",
       "  1628.51,521.529 1630.58,520.17 1632.66,518.811 1634.73,517.451 1636.81,516.092 1638.89,514.733 1640.96,513.374 1643.04,512.015 1645.11,510.656 1647.19,509.297 \n",
       "  1649.26,507.938 1651.34,506.579 1653.41,505.22 1655.49,503.86 1657.56,502.501 1659.64,501.142 1661.71,499.783 1663.79,498.424 1665.87,497.065 1667.94,495.706 \n",
       "  1670.02,494.347 1672.09,492.988 1674.17,491.629 1676.24,490.269 1678.32,488.91 1680.39,487.551 1682.47,486.192 1684.54,484.833 1686.62,483.474 1688.69,482.115 \n",
       "  1690.77,480.756 1692.85,479.397 1694.92,478.038 1697,476.678 1699.07,475.319 1701.15,473.96 1703.22,472.601 1705.3,471.242 1707.37,469.883 1709.45,468.524 \n",
       "  1711.52,467.165 1713.6,465.806 1715.67,464.447 1717.75,463.087 1719.83,461.728 1721.9,460.369 1723.98,459.01 1726.05,457.651 1728.13,456.292 1730.2,454.933 \n",
       "  1732.28,453.574 1734.35,452.215 1736.43,450.856 1738.5,449.496 1740.58,448.137 1742.65,446.778 1744.73,445.419 1746.81,444.06 1748.88,442.701 1750.96,441.342 \n",
       "  1753.03,439.983 1755.11,438.624 1757.18,437.265 1759.26,435.905 1761.33,434.546 1763.41,433.187 1765.48,431.828 1767.56,430.469 1769.63,429.11 1771.71,427.751 \n",
       "  1773.79,426.392 1775.86,425.033 1777.94,423.674 1780.01,422.315 1782.09,420.955 1784.16,419.596 1786.24,418.237 1788.31,416.878 1790.39,415.519 1792.46,414.16 \n",
       "  1794.54,412.801 1796.61,411.442 1798.69,410.083 1800.77,408.724 1802.84,407.364 1804.92,406.005 1806.99,404.646 1809.07,403.287 1811.14,401.928 1813.22,400.569 \n",
       "  1815.29,399.21 1817.37,397.851 1819.44,396.492 1821.52,395.133 1823.59,393.773 1825.67,392.414 1827.75,391.055 1829.82,389.696 1831.9,388.337 1833.97,386.978 \n",
       "  1836.05,385.619 1838.12,384.26 1840.2,382.901 1842.27,381.542 1844.35,380.182 1846.42,378.823 1848.5,377.464 1850.57,376.105 1852.65,374.746 1854.73,373.387 \n",
       "  1856.8,372.028 1858.88,370.669 1860.95,369.31 1863.03,367.951 1865.1,366.591 1867.18,365.232 1869.25,363.873 1871.33,362.514 1873.4,361.155 1875.48,359.796 \n",
       "  1877.55,358.437 1879.63,357.078 1881.71,355.719 1883.78,354.36 1885.86,353 1887.93,351.641 1890.01,350.282 1892.08,348.923 1894.16,347.564 1896.23,346.205 \n",
       "  1898.31,344.846 1900.38,343.487 1902.46,342.128 1904.53,340.769 1906.61,339.41 1908.69,338.05 1910.76,336.691 1912.84,335.332 1914.91,333.973 1916.99,332.614 \n",
       "  1919.06,331.255 1921.14,329.896 1923.21,328.537 1925.29,327.178 1927.36,325.819 1929.44,324.459 1931.51,323.1 1933.59,321.741 1935.67,320.382 1937.74,319.023 \n",
       "  1939.82,317.664 1941.89,316.305 1943.97,314.946 1946.04,313.587 1948.12,312.228 1950.19,310.868 1952.27,309.509 1954.34,308.15 1956.42,306.791 1958.49,305.432 \n",
       "  1960.57,304.073 1962.65,302.714 1964.72,301.355 1966.8,299.996 1968.87,298.637 1970.95,297.277 1973.02,295.918 1975.1,294.559 1977.17,293.2 1979.25,291.841 \n",
       "  1981.32,290.482 1983.4,289.123 1985.47,287.764 1987.55,286.405 1989.63,285.046 1991.7,283.686 1993.78,282.327 1995.85,280.968 1997.93,279.609 2000,278.25 \n",
       "  2002.08,276.891 2004.15,275.532 2006.23,274.173 2008.3,272.814 2010.38,271.455 2012.45,270.095 2014.53,268.736 2016.61,267.377 2018.68,266.018 2020.76,264.659 \n",
       "  2022.83,263.3 2024.91,261.941 2026.98,260.582 2029.06,259.223 2031.13,257.864 2033.21,256.504 2035.28,255.145 2037.36,253.786 2039.43,252.427 2041.51,251.068 \n",
       "  2043.59,249.709 2045.66,248.35 2047.74,246.991 2049.81,245.632 2051.89,244.273 2053.96,242.914 2056.04,241.554 2058.11,240.195 2060.19,238.836 2062.26,237.477 \n",
       "  2064.34,236.118 2066.41,234.759 2068.49,233.4 2070.57,232.041 2072.64,230.682 2074.72,229.323 2076.79,227.963 2078.87,226.604 2080.94,225.245 2083.02,223.886 \n",
       "  2085.09,222.527 2087.17,221.168 2089.24,219.809 2091.32,218.45 2093.39,217.091 2095.47,215.732 2097.55,214.372 2099.62,213.013 2101.7,211.654 2103.77,210.295 \n",
       "  2105.85,208.936 2107.92,207.577 2110,206.218 2112.07,204.859 2114.15,203.5 2116.22,202.141 2118.3,200.781 2120.38,199.422 2122.45,198.063 2124.53,196.704 \n",
       "  2126.6,195.345 2128.68,193.986 2130.75,192.627 2132.83,191.268 2134.9,189.909 2136.98,188.55 2139.05,187.19 2141.13,185.831 2143.2,184.472 2145.28,183.113 \n",
       "  2147.36,181.754 2149.43,180.395 2151.51,179.036 2153.58,177.677 2155.66,176.318 2157.73,174.959 2159.81,173.599 2161.88,172.24 2163.96,170.881 2166.03,169.522 \n",
       "  2168.11,168.163 2170.18,166.804 2172.26,165.445 2174.34,164.086 2176.41,162.727 2178.49,161.368 2180.56,160.008 2182.64,158.649 2184.71,157.29 2186.79,155.931 \n",
       "  2188.86,154.572 2190.94,153.213 2193.01,151.854 2195.09,150.495 2197.16,149.136 2199.24,147.777 2201.32,146.418 2203.39,145.058 2205.47,143.699 2207.54,142.34 \n",
       "  2209.62,140.981 2211.69,139.622 2213.77,138.263 2215.84,136.904 2217.92,135.545 2219.99,134.186 2222.07,132.827 2224.14,131.467 2226.22,130.108 2228.3,128.749 \n",
       "  2230.37,127.39 2232.45,126.031 2234.52,124.672 2236.6,123.313 2238.67,121.954 2240.75,120.595 2242.82,119.236 2244.9,117.876 2246.97,116.517 2249.05,115.158 \n",
       "  2251.12,113.799 2253.2,112.44 2255.28,111.081 2257.35,109.722 2259.43,108.363 2261.5,107.004 2263.58,105.645 2265.65,104.285 2267.73,102.926 2269.8,101.567 \n",
       "  2271.88,100.208 2273.95,98.8491 2276.03,97.49 2278.1,96.1309 2280.18,94.7718 2282.26,93.4127 2284.33,92.0536 2286.41,90.6945 2288.48,89.3354 2290.56,87.9763 \n",
       "  \n",
       "  \"/>\n",
       "<path clip-path=\"url(#clip160)\" d=\"\n",
       "M1984.29 216.178 L2279.5 216.178 L2279.5 95.2176 L1984.29 95.2176  Z\n",
       "  \" fill=\"#ffffff\" fill-rule=\"evenodd\" fill-opacity=\"1\"/>\n",
       "<polyline clip-path=\"url(#clip160)\" style=\"stroke:#000000; stroke-width:4; stroke-opacity:1; fill:none\" points=\"\n",
       "  1984.29,216.178 2279.5,216.178 2279.5,95.2176 1984.29,95.2176 1984.29,216.178 \n",
       "  \"/>\n",
       "<polyline clip-path=\"url(#clip160)\" style=\"stroke:#009af9; stroke-width:4; stroke-opacity:1; fill:none\" points=\"\n",
       "  2008.71,155.698 2155.22,155.698 \n",
       "  \"/>\n",
       "<path clip-path=\"url(#clip160)\" d=\"M 0 0 M2193.49 175.385 Q2191.68 180.015 2189.97 181.427 Q2188.25 182.839 2185.38 182.839 L2181.98 182.839 L2181.98 179.274 L2184.48 179.274 Q2186.24 179.274 2187.21 178.44 Q2188.18 177.607 2189.36 174.505 L2190.13 172.561 L2179.64 147.052 L2184.16 147.052 L2192.26 167.329 L2200.36 147.052 L2204.87 147.052 L2193.49 175.385 Z\" fill=\"#000000\" fill-rule=\"evenodd\" fill-opacity=\"1\" /><path clip-path=\"url(#clip160)\" d=\"M 0 0 M2210.75 169.042 L2218.39 169.042 L2218.39 142.677 L2210.08 144.343 L2210.08 140.084 L2218.35 138.418 L2223.02 138.418 L2223.02 169.042 L2230.66 169.042 L2230.66 172.978 L2210.75 172.978 L2210.75 169.042 Z\" fill=\"#000000\" fill-rule=\"evenodd\" fill-opacity=\"1\" /></svg>\n"
      ]
     },
     "execution_count": 47,
     "metadata": {},
     "output_type": "execute_result"
    }
   ],
   "source": [
    "plot(run_infection(1000), yscale=:log10)"
   ]
  },
  {
   "cell_type": "code",
   "execution_count": null,
   "metadata": {},
   "outputs": [],
   "source": []
  }
 ],
 "metadata": {
  "@webio": {
   "lastCommId": "df1c1227-31bd-4432-8183-f4fa5cf8f889",
   "lastKernelId": "4fe35d73-4234-4d9b-9302-78f461ba68d7"
  },
  "kernelspec": {
   "display_name": "Julia 1.6.0",
   "language": "julia",
   "name": "julia-1.6"
  },
  "language_info": {
   "file_extension": ".jl",
   "mimetype": "application/julia",
   "name": "julia",
   "version": "1.6.0"
  }
 },
 "nbformat": 4,
 "nbformat_minor": 4
}
