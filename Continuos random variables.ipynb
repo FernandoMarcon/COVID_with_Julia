{
 "cells": [
  {
   "cell_type": "markdown",
   "metadata": {},
   "source": [
    "# Goals for today\n",
    "- Continuous limit\n",
    "- Continuous probability distributions\n",
    "- Probability density function"
   ]
  },
  {
   "cell_type": "markdown",
   "metadata": {},
   "source": [
    "# Geometric random variable\n",
    "- Recall **geometric random variable** $X$\n",
    "- Integer time steps\n",
    "- Probability to decay / recover at each time step is $p$"
   ]
  },
  {
   "cell_type": "markdown",
   "metadata": {},
   "source": [
    "$\\mathbb{P}(X = n) = p(1-p)^{n-1}$ for $n = 1,2,...$"
   ]
  },
  {
   "cell_type": "markdown",
   "metadata": {},
   "source": [
    "# Probability mass function\n",
    "For a **discrete(-valued) random variable** $X$:\n",
    "- Define **probability mass function** $f_x$ as"
   ]
  },
  {
   "cell_type": "markdown",
   "metadata": {},
   "source": [
    "$$f_X(n) := \\mathbb{P}[X = n]$$"
   ]
  },
  {
   "cell_type": "markdown",
   "metadata": {},
   "source": [
    "i.e. the probability that X takes the value $n$"
   ]
  },
  {
   "cell_type": "markdown",
   "metadata": {},
   "source": [
    "For geometric random variable $X$ we have"
   ]
  },
  {
   "cell_type": "markdown",
   "metadata": {},
   "source": [
    "$$f_X(n) := p(1-p)^{n-1}$$"
   ]
  },
  {
   "cell_type": "markdown",
   "metadata": {},
   "source": [
    "Satisfies $\\sum_{n=1}^{\\infty} f_X(n) = 1$"
   ]
  },
  {
   "cell_type": "markdown",
   "metadata": {},
   "source": [
    "# Towards continuous time\n",
    "- suppose want jumps not only at integer times\n",
    "- Jump at times $t_n := n \\infty$ for $ n = 1,2,...$\n",
    "- e.g if $\\delta = \\frac{1}{2}$, jump twice per day\n",
    "- if we want to *reproduce* same dynamics, how shoud we choose decay probability *p*?\n",
    "- *p* must depend on $\\delta$, so call it $p(\\delta)$"
   ]
  },
  {
   "cell_type": "markdown",
   "metadata": {},
   "source": [
    "In order to caompare the two different processes, can't look at instantaneous jumps\n",
    "- Need to look at **cumulative distribution function**:\n",
    "$$F_X(n) := \\mathbb{P}[X \\leq n]$$\n",
    "- \"The probability that have decayed *by time $n$*\n",
    "- Actually now can talk about any *continuous* (real) time $t$:\n",
    "$$F_X(t) := \\mathbb{P}[X \\leq t]$$"
   ]
  },
  {
   "cell_type": "markdown",
   "metadata": {},
   "source": [
    "How can we write the cumulative distribution function in terms of $f_X$?"
   ]
  },
  {
   "cell_type": "markdown",
   "metadata": {},
   "source": [
    "- We need to find the largest integer value less then $t$\n",
    "- We obtain \n",
    "$$F_X(t) = \\sum_{j=1}^{\\lfloor t \\rfloor} f_X(j)$$ \n",
    "- $\\lfloor t \\rfloor$ is the **floor** function:\n",
    "- $\\lfloor t \\rfloor$ := largest integer $\\leq t$ \n",
    "- `floor(t)` in Julia"
   ]
  },
  {
   "cell_type": "markdown",
   "metadata": {},
   "source": [
    "Now think about jumps at times $t_n = n\\delta$\n",
    "- Call resulting process $Y_\\delta$\n",
    "- Also a discrete(-valued) random variable"
   ]
  },
  {
   "cell_type": "markdown",
   "metadata": {},
   "source": [
    "Its probability mass function is\n",
    "$$f_{Y_\\delta}(n) = p(\\delta)[1 - p(\\delta)]^{n-1}$$\n",
    "- This is the probability after $n$ *time-steps*\n",
    "- But now these *jumps* occur at *times* $n\\delta$\n",
    "- We need $F_{Y_\\delta}(t)$\n",
    "- Probability that $Y_\\delta$ has decayed by *time* $t$"
   ]
  },
  {
   "cell_type": "markdown",
   "metadata": {},
   "source": [
    "## Cumulative distribution of some geometric distribution"
   ]
  },
  {
   "cell_type": "markdown",
   "metadata": {},
   "source": [
    "Probability that we have recovered at or before time $N$"
   ]
  },
  {
   "cell_type": "code",
   "execution_count": 13,
   "metadata": {},
   "outputs": [
    {
     "data": {
      "text/plain": [
       "plot_cumulative!"
      ]
     },
     "execution_count": 13,
     "metadata": {},
     "output_type": "execute_result"
    }
   ],
   "source": [
    "\"\"\"\n",
    "    plot_cumulative!(p, N, δ = 1) \n",
    " \n",
    "- `p` is prob to decay at each time step\n",
    "- `N` is total number of time steps\n",
    "- `δ` is time between steps\n",
    " \n",
    "Prob mass function is ``f_X(n) = p (1 - p)^{n-1}``\n",
    "\"\"\"\n",
    "function plot_cumulative!(p, N, δ = 1;label=\"\")\n",
    "    ps = [p * (1 - p)^(n-1) for n in 1:N]\n",
    "    cumulative = cumsum(ps)\n",
    "    \n",
    "    ys = [0; reduce(vcat, [ [cumulative[n], cumulative[n] ] for n in 1:N])]\n",
    "    \n",
    "    pop!(ys)\n",
    "    pushfirst!(ys, 0)\n",
    "    \n",
    "    xs = [0; reduce(vcat, [ [n*δ, n*δ] for n in 1:N ])];\n",
    "    \n",
    "    plot!(xs, ys, label=\"\")\n",
    "    scatter!([n*δ for n in 1:N], cumulative, label=label)\n",
    "end"
   ]
  },
  {
   "cell_type": "code",
   "execution_count": 2,
   "metadata": {},
   "outputs": [
    {
     "name": "stdout",
     "output_type": "stream",
     "text": [
      "search: \u001b[0m\u001b[1mp\u001b[22m\u001b[0m\u001b[1ml\u001b[22m\u001b[0m\u001b[1mo\u001b[22m\u001b[0m\u001b[1mt\u001b[22m\u001b[0m\u001b[1m_\u001b[22m\u001b[0m\u001b[1mc\u001b[22m\u001b[0m\u001b[1mu\u001b[22m\u001b[0m\u001b[1mm\u001b[22m\u001b[0m\u001b[1mu\u001b[22m\u001b[0m\u001b[1ml\u001b[22m\u001b[0m\u001b[1ma\u001b[22m\u001b[0m\u001b[1mt\u001b[22m\u001b[0m\u001b[1mi\u001b[22m\u001b[0m\u001b[1mv\u001b[22m\u001b[0m\u001b[1me\u001b[22m\u001b[0m\u001b[1m!\u001b[22m\n",
      "\n"
     ]
    },
    {
     "data": {
      "text/latex": [
       "\\begin{verbatim}\n",
       "plot_cumulative!(p, N, δ = 1)\n",
       "\\end{verbatim}\n",
       "\\begin{itemize}\n",
       "\\item \\texttt{p} is prob to decay at each time step\n",
       "\n",
       "\n",
       "\\item \\texttt{N} is total number of time steps\n",
       "\n",
       "\n",
       "\\item \\texttt{δ} is time between steps\n",
       "\n",
       "\\end{itemize}\n",
       "Prob mass function is $f_X(n) = p (1 - p)^{n-1}$\n",
       "\n"
      ],
      "text/markdown": [
       "```\n",
       "plot_cumulative!(p, N, δ = 1)\n",
       "```\n",
       "\n",
       "  * `p` is prob to decay at each time step\n",
       "  * `N` is total number of time steps\n",
       "  * `δ` is time between steps\n",
       "\n",
       "Prob mass function is $f_X(n) = p (1 - p)^{n-1}$\n"
      ],
      "text/plain": [
       "\u001b[36m  plot_cumulative!(p, N, δ = 1)\u001b[39m\n",
       "\n",
       "    •  \u001b[36mp\u001b[39m is prob to decay at each time step\n",
       "\n",
       "    •  \u001b[36mN\u001b[39m is total number of time steps\n",
       "\n",
       "    •  \u001b[36mδ\u001b[39m is time between steps\n",
       "\n",
       "  Prob mass function is \u001b[35mf_X(n) = p (1 - p)^{n-1}\u001b[39m"
      ]
     },
     "execution_count": 2,
     "metadata": {},
     "output_type": "execute_result"
    }
   ],
   "source": [
    "?plot_cumulative!"
   ]
  },
  {
   "cell_type": "code",
   "execution_count": 3,
   "metadata": {},
   "outputs": [],
   "source": [
    "using Plots"
   ]
  },
  {
   "cell_type": "code",
   "execution_count": 4,
   "metadata": {},
   "outputs": [
    {
     "data": {
      "image/svg+xml": [
       "<?xml version=\"1.0\" encoding=\"utf-8\"?>\n",
       "<svg xmlns=\"http://www.w3.org/2000/svg\" xmlns:xlink=\"http://www.w3.org/1999/xlink\" width=\"600\" height=\"400\" viewBox=\"0 0 2400 1600\">\n",
       "<defs>\n",
       "  <clipPath id=\"clip720\">\n",
       "    <rect x=\"0\" y=\"0\" width=\"2400\" height=\"1600\"/>\n",
       "  </clipPath>\n",
       "</defs>\n",
       "<path clip-path=\"url(#clip720)\" d=\"\n",
       "M0 1600 L2400 1600 L2400 0 L0 0  Z\n",
       "  \" fill=\"#ffffff\" fill-rule=\"evenodd\" fill-opacity=\"1\"/>\n",
       "<defs>\n",
       "  <clipPath id=\"clip721\">\n",
       "    <rect x=\"480\" y=\"0\" width=\"1681\" height=\"1600\"/>\n",
       "  </clipPath>\n",
       "</defs>\n",
       "<path clip-path=\"url(#clip720)\" d=\"\n",
       "M211.602 1423.18 L2352.76 1423.18 L2352.76 47.2441 L211.602 47.2441  Z\n",
       "  \" fill=\"#ffffff\" fill-rule=\"evenodd\" fill-opacity=\"1\"/>\n",
       "<defs>\n",
       "  <clipPath id=\"clip722\">\n",
       "    <rect x=\"211\" y=\"47\" width=\"2142\" height=\"1377\"/>\n",
       "  </clipPath>\n",
       "</defs>\n",
       "<polyline clip-path=\"url(#clip722)\" style=\"stroke:#000000; stroke-width:2; stroke-opacity:0.1; fill:none\" points=\"\n",
       "  272.201,1423.18 272.201,47.2441 \n",
       "  \"/>\n",
       "<polyline clip-path=\"url(#clip722)\" style=\"stroke:#000000; stroke-width:2; stroke-opacity:0.1; fill:none\" points=\"\n",
       "  777.19,1423.18 777.19,47.2441 \n",
       "  \"/>\n",
       "<polyline clip-path=\"url(#clip722)\" style=\"stroke:#000000; stroke-width:2; stroke-opacity:0.1; fill:none\" points=\"\n",
       "  1282.18,1423.18 1282.18,47.2441 \n",
       "  \"/>\n",
       "<polyline clip-path=\"url(#clip722)\" style=\"stroke:#000000; stroke-width:2; stroke-opacity:0.1; fill:none\" points=\"\n",
       "  1787.17,1423.18 1787.17,47.2441 \n",
       "  \"/>\n",
       "<polyline clip-path=\"url(#clip722)\" style=\"stroke:#000000; stroke-width:2; stroke-opacity:0.1; fill:none\" points=\"\n",
       "  2292.16,1423.18 2292.16,47.2441 \n",
       "  \"/>\n",
       "<polyline clip-path=\"url(#clip720)\" style=\"stroke:#000000; stroke-width:4; stroke-opacity:1; fill:none\" points=\"\n",
       "  211.602,1423.18 2352.76,1423.18 \n",
       "  \"/>\n",
       "<polyline clip-path=\"url(#clip720)\" style=\"stroke:#000000; stroke-width:4; stroke-opacity:1; fill:none\" points=\"\n",
       "  272.201,1423.18 272.201,1406.67 \n",
       "  \"/>\n",
       "<polyline clip-path=\"url(#clip720)\" style=\"stroke:#000000; stroke-width:4; stroke-opacity:1; fill:none\" points=\"\n",
       "  777.19,1423.18 777.19,1406.67 \n",
       "  \"/>\n",
       "<polyline clip-path=\"url(#clip720)\" style=\"stroke:#000000; stroke-width:4; stroke-opacity:1; fill:none\" points=\"\n",
       "  1282.18,1423.18 1282.18,1406.67 \n",
       "  \"/>\n",
       "<polyline clip-path=\"url(#clip720)\" style=\"stroke:#000000; stroke-width:4; stroke-opacity:1; fill:none\" points=\"\n",
       "  1787.17,1423.18 1787.17,1406.67 \n",
       "  \"/>\n",
       "<polyline clip-path=\"url(#clip720)\" style=\"stroke:#000000; stroke-width:4; stroke-opacity:1; fill:none\" points=\"\n",
       "  2292.16,1423.18 2292.16,1406.67 \n",
       "  \"/>\n",
       "<path clip-path=\"url(#clip720)\" d=\"M 0 0 M272.201 1452.37 Q268.59 1452.37 266.761 1455.94 Q264.956 1459.48 264.956 1466.61 Q264.956 1473.71 266.761 1477.28 Q268.59 1480.82 272.201 1480.82 Q275.835 1480.82 277.641 1477.28 Q279.47 1473.71 279.47 1466.61 Q279.47 1459.48 277.641 1455.94 Q275.835 1452.37 272.201 1452.37 M272.201 1448.67 Q278.011 1448.67 281.067 1453.27 Q284.145 1457.86 284.145 1466.61 Q284.145 1475.33 281.067 1479.94 Q278.011 1484.52 272.201 1484.52 Q266.391 1484.52 263.312 1479.94 Q260.257 1475.33 260.257 1466.61 Q260.257 1457.86 263.312 1453.27 Q266.391 1448.67 272.201 1448.67 Z\" fill=\"#000000\" fill-rule=\"evenodd\" fill-opacity=\"1\" /><path clip-path=\"url(#clip720)\" d=\"M 0 0 M767.468 1449.29 L785.824 1449.29 L785.824 1453.23 L771.75 1453.23 L771.75 1461.7 Q772.769 1461.35 773.787 1461.19 Q774.806 1461 775.824 1461 Q781.611 1461 784.991 1464.18 Q788.371 1467.35 788.371 1472.76 Q788.371 1478.34 784.898 1481.44 Q781.426 1484.52 775.107 1484.52 Q772.931 1484.52 770.662 1484.15 Q768.417 1483.78 766.01 1483.04 L766.01 1478.34 Q768.093 1479.48 770.315 1480.03 Q772.537 1480.59 775.014 1480.59 Q779.019 1480.59 781.357 1478.48 Q783.695 1476.38 783.695 1472.76 Q783.695 1469.15 781.357 1467.05 Q779.019 1464.94 775.014 1464.94 Q773.139 1464.94 771.264 1465.36 Q769.412 1465.77 767.468 1466.65 L767.468 1449.29 Z\" fill=\"#000000\" fill-rule=\"evenodd\" fill-opacity=\"1\" /><path clip-path=\"url(#clip720)\" d=\"M 0 0 M1259.05 1479.92 L1266.69 1479.92 L1266.69 1453.55 L1258.38 1455.22 L1258.38 1450.96 L1266.65 1449.29 L1271.32 1449.29 L1271.32 1479.92 L1278.96 1479.92 L1278.96 1483.85 L1259.05 1483.85 L1259.05 1479.92 Z\" fill=\"#000000\" fill-rule=\"evenodd\" fill-opacity=\"1\" /><path clip-path=\"url(#clip720)\" d=\"M 0 0 M1294.03 1452.37 Q1290.42 1452.37 1288.59 1455.94 Q1286.79 1459.48 1286.79 1466.61 Q1286.79 1473.71 1288.59 1477.28 Q1290.42 1480.82 1294.03 1480.82 Q1297.67 1480.82 1299.47 1477.28 Q1301.3 1473.71 1301.3 1466.61 Q1301.3 1459.48 1299.47 1455.94 Q1297.67 1452.37 1294.03 1452.37 M1294.03 1448.67 Q1299.84 1448.67 1302.9 1453.27 Q1305.98 1457.86 1305.98 1466.61 Q1305.98 1475.33 1302.9 1479.94 Q1299.84 1484.52 1294.03 1484.52 Q1288.22 1484.52 1285.14 1479.94 Q1282.09 1475.33 1282.09 1466.61 Q1282.09 1457.86 1285.14 1453.27 Q1288.22 1448.67 1294.03 1448.67 Z\" fill=\"#000000\" fill-rule=\"evenodd\" fill-opacity=\"1\" /><path clip-path=\"url(#clip720)\" d=\"M 0 0 M1764.54 1479.92 L1772.18 1479.92 L1772.18 1453.55 L1763.87 1455.22 L1763.87 1450.96 L1772.13 1449.29 L1776.81 1449.29 L1776.81 1479.92 L1784.45 1479.92 L1784.45 1483.85 L1764.54 1483.85 L1764.54 1479.92 Z\" fill=\"#000000\" fill-rule=\"evenodd\" fill-opacity=\"1\" /><path clip-path=\"url(#clip720)\" d=\"M 0 0 M1789.56 1449.29 L1807.92 1449.29 L1807.92 1453.23 L1793.85 1453.23 L1793.85 1461.7 Q1794.86 1461.35 1795.88 1461.19 Q1796.9 1461 1797.92 1461 Q1803.71 1461 1807.09 1464.18 Q1810.47 1467.35 1810.47 1472.76 Q1810.47 1478.34 1806.99 1481.44 Q1803.52 1484.52 1797.2 1484.52 Q1795.03 1484.52 1792.76 1484.15 Q1790.51 1483.78 1788.11 1483.04 L1788.11 1478.34 Q1790.19 1479.48 1792.41 1480.03 Q1794.63 1480.59 1797.11 1480.59 Q1801.11 1480.59 1803.45 1478.48 Q1805.79 1476.38 1805.79 1472.76 Q1805.79 1469.15 1803.45 1467.05 Q1801.11 1464.94 1797.11 1464.94 Q1795.24 1464.94 1793.36 1465.36 Q1791.51 1465.77 1789.56 1466.65 L1789.56 1449.29 Z\" fill=\"#000000\" fill-rule=\"evenodd\" fill-opacity=\"1\" /><path clip-path=\"url(#clip720)\" d=\"M 0 0 M2273.3 1479.92 L2289.62 1479.92 L2289.62 1483.85 L2267.68 1483.85 L2267.68 1479.92 Q2270.34 1477.16 2274.92 1472.53 Q2279.53 1467.88 2280.71 1466.54 Q2282.96 1464.01 2283.84 1462.28 Q2284.74 1460.52 2284.74 1458.83 Q2284.74 1456.07 2282.79 1454.34 Q2280.87 1452.6 2277.77 1452.6 Q2275.57 1452.6 2273.12 1453.37 Q2270.69 1454.13 2267.91 1455.68 L2267.91 1450.96 Q2270.73 1449.82 2273.19 1449.25 Q2275.64 1448.67 2277.68 1448.67 Q2283.05 1448.67 2286.24 1451.35 Q2289.44 1454.04 2289.44 1458.53 Q2289.44 1460.66 2288.63 1462.58 Q2287.84 1464.48 2285.73 1467.07 Q2285.15 1467.74 2282.05 1470.96 Q2278.95 1474.15 2273.3 1479.92 Z\" fill=\"#000000\" fill-rule=\"evenodd\" fill-opacity=\"1\" /><path clip-path=\"url(#clip720)\" d=\"M 0 0 M2304.69 1452.37 Q2301.08 1452.37 2299.25 1455.94 Q2297.45 1459.48 2297.45 1466.61 Q2297.45 1473.71 2299.25 1477.28 Q2301.08 1480.82 2304.69 1480.82 Q2308.33 1480.82 2310.13 1477.28 Q2311.96 1473.71 2311.96 1466.61 Q2311.96 1459.48 2310.13 1455.94 Q2308.33 1452.37 2304.69 1452.37 M2304.69 1448.67 Q2310.5 1448.67 2313.56 1453.27 Q2316.64 1457.86 2316.64 1466.61 Q2316.64 1475.33 2313.56 1479.94 Q2310.5 1484.52 2304.69 1484.52 Q2298.88 1484.52 2295.8 1479.94 Q2292.75 1475.33 2292.75 1466.61 Q2292.75 1457.86 2295.8 1453.27 Q2298.88 1448.67 2304.69 1448.67 Z\" fill=\"#000000\" fill-rule=\"evenodd\" fill-opacity=\"1\" /><path clip-path=\"url(#clip720)\" d=\"M 0 0 M1297.11 1546.53 L1297.11 1568.04 L1291.25 1568.04 L1291.25 1546.72 Q1291.25 1541.66 1289.28 1539.14 Q1287.3 1536.63 1283.36 1536.63 Q1278.61 1536.63 1275.88 1539.65 Q1273.14 1542.68 1273.14 1547.9 L1273.14 1568.04 L1267.25 1568.04 L1267.25 1532.4 L1273.14 1532.4 L1273.14 1537.93 Q1275.24 1534.72 1278.07 1533.13 Q1280.94 1531.54 1284.66 1531.54 Q1290.8 1531.54 1293.96 1535.36 Q1297.11 1539.14 1297.11 1546.53 Z\" fill=\"#000000\" fill-rule=\"evenodd\" fill-opacity=\"1\" /><polyline clip-path=\"url(#clip722)\" style=\"stroke:#000000; stroke-width:2; stroke-opacity:0.1; fill:none\" points=\"\n",
       "  211.602,1384.24 2352.76,1384.24 \n",
       "  \"/>\n",
       "<polyline clip-path=\"url(#clip722)\" style=\"stroke:#000000; stroke-width:2; stroke-opacity:0.1; fill:none\" points=\"\n",
       "  211.602,1088.7 2352.76,1088.7 \n",
       "  \"/>\n",
       "<polyline clip-path=\"url(#clip722)\" style=\"stroke:#000000; stroke-width:2; stroke-opacity:0.1; fill:none\" points=\"\n",
       "  211.602,793.155 2352.76,793.155 \n",
       "  \"/>\n",
       "<polyline clip-path=\"url(#clip722)\" style=\"stroke:#000000; stroke-width:2; stroke-opacity:0.1; fill:none\" points=\"\n",
       "  211.602,497.614 2352.76,497.614 \n",
       "  \"/>\n",
       "<polyline clip-path=\"url(#clip722)\" style=\"stroke:#000000; stroke-width:2; stroke-opacity:0.1; fill:none\" points=\"\n",
       "  211.602,202.072 2352.76,202.072 \n",
       "  \"/>\n",
       "<polyline clip-path=\"url(#clip720)\" style=\"stroke:#000000; stroke-width:4; stroke-opacity:1; fill:none\" points=\"\n",
       "  211.602,1423.18 211.602,47.2441 \n",
       "  \"/>\n",
       "<polyline clip-path=\"url(#clip720)\" style=\"stroke:#000000; stroke-width:4; stroke-opacity:1; fill:none\" points=\"\n",
       "  211.602,1384.24 237.296,1384.24 \n",
       "  \"/>\n",
       "<polyline clip-path=\"url(#clip720)\" style=\"stroke:#000000; stroke-width:4; stroke-opacity:1; fill:none\" points=\"\n",
       "  211.602,1088.7 237.296,1088.7 \n",
       "  \"/>\n",
       "<polyline clip-path=\"url(#clip720)\" style=\"stroke:#000000; stroke-width:4; stroke-opacity:1; fill:none\" points=\"\n",
       "  211.602,793.155 237.296,793.155 \n",
       "  \"/>\n",
       "<polyline clip-path=\"url(#clip720)\" style=\"stroke:#000000; stroke-width:4; stroke-opacity:1; fill:none\" points=\"\n",
       "  211.602,497.614 237.296,497.614 \n",
       "  \"/>\n",
       "<polyline clip-path=\"url(#clip720)\" style=\"stroke:#000000; stroke-width:4; stroke-opacity:1; fill:none\" points=\"\n",
       "  211.602,202.072 237.296,202.072 \n",
       "  \"/>\n",
       "<path clip-path=\"url(#clip720)\" d=\"M 0 0 M126.691 1370.04 Q123.08 1370.04 121.251 1373.6 Q119.445 1377.14 119.445 1384.27 Q119.445 1391.38 121.251 1394.94 Q123.08 1398.49 126.691 1398.49 Q130.325 1398.49 132.13 1394.94 Q133.959 1391.38 133.959 1384.27 Q133.959 1377.14 132.13 1373.6 Q130.325 1370.04 126.691 1370.04 M126.691 1366.33 Q132.501 1366.33 135.556 1370.94 Q138.635 1375.52 138.635 1384.27 Q138.635 1393 135.556 1397.61 Q132.501 1402.19 126.691 1402.19 Q120.88 1402.19 117.802 1397.61 Q114.746 1393 114.746 1384.27 Q114.746 1375.52 117.802 1370.94 Q120.88 1366.33 126.691 1366.33 Z\" fill=\"#000000\" fill-rule=\"evenodd\" fill-opacity=\"1\" /><path clip-path=\"url(#clip720)\" d=\"M 0 0 M143.704 1395.64 L148.589 1395.64 L148.589 1401.52 L143.704 1401.52 L143.704 1395.64 Z\" fill=\"#000000\" fill-rule=\"evenodd\" fill-opacity=\"1\" /><path clip-path=\"url(#clip720)\" d=\"M 0 0 M163.658 1370.04 Q160.047 1370.04 158.218 1373.6 Q156.413 1377.14 156.413 1384.27 Q156.413 1391.38 158.218 1394.94 Q160.047 1398.49 163.658 1398.49 Q167.292 1398.49 169.098 1394.94 Q170.927 1391.38 170.927 1384.27 Q170.927 1377.14 169.098 1373.6 Q167.292 1370.04 163.658 1370.04 M163.658 1366.33 Q169.468 1366.33 172.524 1370.94 Q175.602 1375.52 175.602 1384.27 Q175.602 1393 172.524 1397.61 Q169.468 1402.19 163.658 1402.19 Q157.848 1402.19 154.769 1397.61 Q151.714 1393 151.714 1384.27 Q151.714 1375.52 154.769 1370.94 Q157.848 1366.33 163.658 1366.33 Z\" fill=\"#000000\" fill-rule=\"evenodd\" fill-opacity=\"1\" /><path clip-path=\"url(#clip720)\" d=\"M 0 0 M128.288 1074.5 Q124.677 1074.5 122.848 1078.06 Q121.043 1081.6 121.043 1088.73 Q121.043 1095.84 122.848 1099.4 Q124.677 1102.94 128.288 1102.94 Q131.922 1102.94 133.728 1099.4 Q135.556 1095.84 135.556 1088.73 Q135.556 1081.6 133.728 1078.06 Q131.922 1074.5 128.288 1074.5 M128.288 1070.79 Q134.098 1070.79 137.154 1075.4 Q140.232 1079.98 140.232 1088.73 Q140.232 1097.46 137.154 1102.06 Q134.098 1106.65 128.288 1106.65 Q122.478 1106.65 119.399 1102.06 Q116.343 1097.46 116.343 1088.73 Q116.343 1079.98 119.399 1075.4 Q122.478 1070.79 128.288 1070.79 Z\" fill=\"#000000\" fill-rule=\"evenodd\" fill-opacity=\"1\" /><path clip-path=\"url(#clip720)\" d=\"M 0 0 M145.302 1100.1 L150.186 1100.1 L150.186 1105.98 L145.302 1105.98 L145.302 1100.1 Z\" fill=\"#000000\" fill-rule=\"evenodd\" fill-opacity=\"1\" /><path clip-path=\"url(#clip720)\" d=\"M 0 0 M159.283 1102.04 L175.602 1102.04 L175.602 1105.98 L153.658 1105.98 L153.658 1102.04 Q156.32 1099.29 160.903 1094.66 Q165.51 1090 166.69 1088.66 Q168.936 1086.14 169.815 1084.4 Q170.718 1082.64 170.718 1080.95 Q170.718 1078.2 168.774 1076.46 Q166.852 1074.73 163.751 1074.73 Q161.552 1074.73 159.098 1075.49 Q156.667 1076.25 153.89 1077.81 L153.89 1073.08 Q156.714 1071.95 159.167 1071.37 Q161.621 1070.79 163.658 1070.79 Q169.028 1070.79 172.223 1073.48 Q175.417 1076.16 175.417 1080.65 Q175.417 1082.78 174.607 1084.7 Q173.82 1086.6 171.714 1089.19 Q171.135 1089.87 168.033 1093.08 Q164.931 1096.28 159.283 1102.04 Z\" fill=\"#000000\" fill-rule=\"evenodd\" fill-opacity=\"1\" /><path clip-path=\"url(#clip720)\" d=\"M 0 0 M126.205 778.954 Q122.593 778.954 120.765 782.519 Q118.959 786.06 118.959 793.19 Q118.959 800.297 120.765 803.861 Q122.593 807.403 126.205 807.403 Q129.839 807.403 131.644 803.861 Q133.473 800.297 133.473 793.19 Q133.473 786.06 131.644 782.519 Q129.839 778.954 126.205 778.954 M126.205 775.25 Q132.015 775.25 135.07 779.857 Q138.149 784.44 138.149 793.19 Q138.149 801.917 135.07 806.523 Q132.015 811.107 126.205 811.107 Q120.394 811.107 117.316 806.523 Q114.26 801.917 114.26 793.19 Q114.26 784.44 117.316 779.857 Q120.394 775.25 126.205 775.25 Z\" fill=\"#000000\" fill-rule=\"evenodd\" fill-opacity=\"1\" /><path clip-path=\"url(#clip720)\" d=\"M 0 0 M143.218 804.556 L148.103 804.556 L148.103 810.435 L143.218 810.435 L143.218 804.556 Z\" fill=\"#000000\" fill-rule=\"evenodd\" fill-opacity=\"1\" /><path clip-path=\"url(#clip720)\" d=\"M 0 0 M166.019 779.949 L154.214 798.398 L166.019 798.398 L166.019 779.949 M164.792 775.875 L170.672 775.875 L170.672 798.398 L175.602 798.398 L175.602 802.287 L170.672 802.287 L170.672 810.435 L166.019 810.435 L166.019 802.287 L150.417 802.287 L150.417 797.773 L164.792 775.875 Z\" fill=\"#000000\" fill-rule=\"evenodd\" fill-opacity=\"1\" /><path clip-path=\"url(#clip720)\" d=\"M 0 0 M126.529 483.413 Q122.918 483.413 121.089 486.977 Q119.283 490.519 119.283 497.649 Q119.283 504.755 121.089 508.32 Q122.918 511.861 126.529 511.861 Q130.163 511.861 131.968 508.32 Q133.797 504.755 133.797 497.649 Q133.797 490.519 131.968 486.977 Q130.163 483.413 126.529 483.413 M126.529 479.709 Q132.339 479.709 135.394 484.315 Q138.473 488.899 138.473 497.649 Q138.473 506.375 135.394 510.982 Q132.339 515.565 126.529 515.565 Q120.718 515.565 117.64 510.982 Q114.584 506.375 114.584 497.649 Q114.584 488.899 117.64 484.315 Q120.718 479.709 126.529 479.709 Z\" fill=\"#000000\" fill-rule=\"evenodd\" fill-opacity=\"1\" /><path clip-path=\"url(#clip720)\" d=\"M 0 0 M143.542 509.014 L148.427 509.014 L148.427 514.894 L143.542 514.894 L143.542 509.014 Z\" fill=\"#000000\" fill-rule=\"evenodd\" fill-opacity=\"1\" /><path clip-path=\"url(#clip720)\" d=\"M 0 0 M164.075 495.75 Q160.927 495.75 159.075 497.903 Q157.246 500.056 157.246 503.806 Q157.246 507.533 159.075 509.709 Q160.927 511.861 164.075 511.861 Q167.223 511.861 169.052 509.709 Q170.903 507.533 170.903 503.806 Q170.903 500.056 169.052 497.903 Q167.223 495.75 164.075 495.75 M173.357 481.098 L173.357 485.357 Q171.598 484.524 169.792 484.084 Q168.01 483.644 166.251 483.644 Q161.621 483.644 159.167 486.769 Q156.737 489.894 156.39 496.213 Q157.755 494.2 159.815 493.135 Q161.876 492.047 164.352 492.047 Q169.561 492.047 172.57 495.218 Q175.602 498.366 175.602 503.806 Q175.602 509.13 172.454 512.348 Q169.306 515.565 164.075 515.565 Q158.079 515.565 154.908 510.982 Q151.737 506.375 151.737 497.649 Q151.737 489.454 155.626 484.593 Q159.515 479.709 166.065 479.709 Q167.825 479.709 169.607 480.056 Q171.413 480.403 173.357 481.098 Z\" fill=\"#000000\" fill-rule=\"evenodd\" fill-opacity=\"1\" /><path clip-path=\"url(#clip720)\" d=\"M 0 0 M126.783 187.871 Q123.172 187.871 121.343 191.436 Q119.538 194.978 119.538 202.107 Q119.538 209.214 121.343 212.778 Q123.172 216.32 126.783 216.32 Q130.417 216.32 132.223 212.778 Q134.052 209.214 134.052 202.107 Q134.052 194.978 132.223 191.436 Q130.417 187.871 126.783 187.871 M126.783 184.167 Q132.593 184.167 135.649 188.774 Q138.728 193.357 138.728 202.107 Q138.728 210.834 135.649 215.44 Q132.593 220.024 126.783 220.024 Q120.973 220.024 117.894 215.44 Q114.839 210.834 114.839 202.107 Q114.839 193.357 117.894 188.774 Q120.973 184.167 126.783 184.167 Z\" fill=\"#000000\" fill-rule=\"evenodd\" fill-opacity=\"1\" /><path clip-path=\"url(#clip720)\" d=\"M 0 0 M143.797 213.473 L148.681 213.473 L148.681 219.352 L143.797 219.352 L143.797 213.473 Z\" fill=\"#000000\" fill-rule=\"evenodd\" fill-opacity=\"1\" /><path clip-path=\"url(#clip720)\" d=\"M 0 0 M163.751 202.94 Q160.417 202.94 158.496 204.723 Q156.598 206.505 156.598 209.63 Q156.598 212.755 158.496 214.538 Q160.417 216.32 163.751 216.32 Q167.084 216.32 169.005 214.538 Q170.927 212.732 170.927 209.63 Q170.927 206.505 169.005 204.723 Q167.107 202.94 163.751 202.94 M159.075 200.95 Q156.065 200.209 154.376 198.149 Q152.709 196.089 152.709 193.126 Q152.709 188.982 155.649 186.575 Q158.612 184.167 163.751 184.167 Q168.913 184.167 171.852 186.575 Q174.792 188.982 174.792 193.126 Q174.792 196.089 173.102 198.149 Q171.436 200.209 168.45 200.95 Q171.829 201.737 173.704 204.028 Q175.602 206.32 175.602 209.63 Q175.602 214.653 172.524 217.339 Q169.468 220.024 163.751 220.024 Q158.033 220.024 154.954 217.339 Q151.899 214.653 151.899 209.63 Q151.899 206.32 153.797 204.028 Q155.695 201.737 159.075 200.95 M157.362 193.566 Q157.362 196.251 159.028 197.755 Q160.718 199.26 163.751 199.26 Q166.76 199.26 168.45 197.755 Q170.163 196.251 170.163 193.566 Q170.163 190.88 168.45 189.376 Q166.76 187.871 163.751 187.871 Q160.718 187.871 159.028 189.376 Q157.362 190.88 157.362 193.566 Z\" fill=\"#000000\" fill-rule=\"evenodd\" fill-opacity=\"1\" /><path clip-path=\"url(#clip720)\" d=\"M 0 0 M29.7248 946.808 L35.1993 946.808 Q33.8307 949.291 33.1623 951.805 Q32.4621 954.288 32.4621 956.834 Q32.4621 962.531 36.0905 965.682 Q39.6872 968.833 46.212 968.833 Q52.7369 968.833 56.3653 965.682 Q59.9619 962.531 59.9619 956.834 Q59.9619 954.288 59.2935 951.805 Q58.5933 949.291 57.2247 946.808 L62.6355 946.808 Q63.7814 949.259 64.3543 951.901 Q64.9272 954.511 64.9272 957.471 Q64.9272 965.523 59.8664 970.266 Q54.8057 975.008 46.212 975.008 Q37.491 975.008 32.4939 970.234 Q27.4968 965.428 27.4968 957.089 Q27.4968 954.383 28.0697 951.805 Q28.6108 949.227 29.7248 946.808 Z\" fill=\"#000000\" fill-rule=\"evenodd\" fill-opacity=\"1\" /><path clip-path=\"url(#clip720)\" d=\"M 0 0 M49.9359 941.27 L28.3562 941.27 L28.3562 935.413 L49.7131 935.413 Q54.7739 935.413 57.3202 933.44 Q59.8346 931.467 59.8346 927.52 Q59.8346 922.778 56.8109 920.04 Q53.7872 917.271 48.5673 917.271 L28.3562 917.271 L28.3562 911.415 L64.0042 911.415 L64.0042 917.271 L58.5296 917.271 Q61.7762 919.404 63.3676 922.236 Q64.9272 925.037 64.9272 928.761 Q64.9272 934.904 61.1078 938.087 Q57.2883 941.27 49.9359 941.27 M27.4968 926.533 L27.4968 926.533 Z\" fill=\"#000000\" fill-rule=\"evenodd\" fill-opacity=\"1\" /><path clip-path=\"url(#clip720)\" d=\"M 0 0 M35.1993 877.517 Q31.2526 875.321 29.3747 872.266 Q27.4968 869.21 27.4968 865.072 Q27.4968 859.502 31.4117 856.479 Q35.2948 853.455 42.4881 853.455 L64.0042 853.455 L64.0042 859.343 L42.679 859.343 Q37.5546 859.343 35.072 861.157 Q32.5894 862.972 32.5894 866.696 Q32.5894 871.247 35.6131 873.889 Q38.6368 876.531 43.8567 876.531 L64.0042 876.531 L64.0042 882.419 L42.679 882.419 Q37.5228 882.419 35.072 884.233 Q32.5894 886.047 32.5894 889.835 Q32.5894 894.323 35.6449 896.965 Q38.6686 899.606 43.8567 899.606 L64.0042 899.606 L64.0042 905.495 L28.3562 905.495 L28.3562 899.606 L33.8944 899.606 Q30.616 897.601 29.0564 894.8 Q27.4968 891.999 27.4968 888.148 Q27.4968 884.265 29.4702 881.56 Q31.4436 878.822 35.1993 877.517 Z\" fill=\"#000000\" fill-rule=\"evenodd\" fill-opacity=\"1\" /><path clip-path=\"url(#clip720)\" d=\"M 0 0 M55.9197 846.485 L55.9197 839.769 L64.0042 839.769 L64.0042 846.485 L55.9197 846.485 Z\" fill=\"#000000\" fill-rule=\"evenodd\" fill-opacity=\"1\" /><path clip-path=\"url(#clip720)\" d=\"M 0 0 M58.657 807.24 L77.5631 807.24 L77.5631 813.128 L28.3562 813.128 L28.3562 807.24 L33.7671 807.24 Q30.5842 805.394 29.0564 802.593 Q27.4968 799.76 27.4968 795.845 Q27.4968 789.352 32.6531 785.31 Q37.8093 781.236 46.212 781.236 Q54.6147 781.236 59.771 785.31 Q64.9272 789.352 64.9272 795.845 Q64.9272 799.76 63.3994 802.593 Q61.8398 805.394 58.657 807.24 M46.212 787.315 Q39.7508 787.315 36.0905 789.989 Q32.3984 792.631 32.3984 797.278 Q32.3984 801.925 36.0905 804.598 Q39.7508 807.24 46.212 807.24 Q52.6732 807.24 56.3653 804.598 Q60.0256 801.925 60.0256 797.278 Q60.0256 792.631 56.3653 789.989 Q52.6732 787.315 46.212 787.315 Z\" fill=\"#000000\" fill-rule=\"evenodd\" fill-opacity=\"1\" /><path clip-path=\"url(#clip720)\" d=\"M 0 0 M33.8307 754.436 Q33.2578 755.423 33.0032 756.601 Q32.7167 757.747 32.7167 759.147 Q32.7167 764.112 35.9632 766.786 Q39.1779 769.428 45.2253 769.428 L64.0042 769.428 L64.0042 775.316 L28.3562 775.316 L28.3562 769.428 L33.8944 769.428 Q30.6479 767.582 29.0883 764.622 Q27.4968 761.661 27.4968 757.428 Q27.4968 756.824 27.5923 756.091 Q27.656 755.359 27.8151 754.468 L33.8307 754.436 Z\" fill=\"#000000\" fill-rule=\"evenodd\" fill-opacity=\"1\" /><path clip-path=\"url(#clip720)\" d=\"M 0 0 M32.4621 735.912 Q32.4621 740.623 36.1542 743.36 Q39.8145 746.097 46.212 746.097 Q52.6095 746.097 56.3017 743.392 Q59.9619 740.655 59.9619 735.912 Q59.9619 731.233 56.2698 728.496 Q52.5777 725.759 46.212 725.759 Q39.8781 725.759 36.186 728.496 Q32.4621 731.233 32.4621 735.912 M27.4968 735.912 Q27.4968 728.273 32.4621 723.913 Q37.4273 719.552 46.212 719.552 Q54.9649 719.552 59.9619 723.913 Q64.9272 728.273 64.9272 735.912 Q64.9272 743.583 59.9619 747.943 Q54.9649 752.272 46.212 752.272 Q37.4273 752.272 32.4621 747.943 Q27.4968 743.583 27.4968 735.912 Z\" fill=\"#000000\" fill-rule=\"evenodd\" fill-opacity=\"1\" /><path clip-path=\"url(#clip720)\" d=\"M 0 0 M46.212 687.819 Q39.7508 687.819 36.0905 690.493 Q32.3984 693.135 32.3984 697.782 Q32.3984 702.429 36.0905 705.102 Q39.7508 707.744 46.212 707.744 Q52.6732 707.744 56.3653 705.102 Q60.0256 702.429 60.0256 697.782 Q60.0256 693.135 56.3653 690.493 Q52.6732 687.819 46.212 687.819 M33.7671 707.744 Q30.5842 705.898 29.0564 703.097 Q27.4968 700.264 27.4968 696.349 Q27.4968 689.856 32.6531 685.814 Q37.8093 681.74 46.212 681.74 Q54.6147 681.74 59.771 685.814 Q64.9272 689.856 64.9272 696.349 Q64.9272 700.264 63.3994 703.097 Q61.8398 705.898 58.657 707.744 L64.0042 707.744 L64.0042 713.632 L14.479 713.632 L14.479 707.744 L33.7671 707.744 Z\" fill=\"#000000\" fill-rule=\"evenodd\" fill-opacity=\"1\" /><path clip-path=\"url(#clip720)\" d=\"M 0 0 M55.9197 674.77 L55.9197 668.054 L64.0042 668.054 L64.0042 674.77 L55.9197 674.77 Z\" fill=\"#000000\" fill-rule=\"evenodd\" fill-opacity=\"1\" /><path clip-path=\"url(#clip720)\" d=\"M 0 0 M31.921 599.622 L43.6021 632.469 L55.2195 599.622 L61.0123 599.622 L46.212 640.427 L40.9285 640.427 L26.1282 599.622 L31.921 599.622 Z\" fill=\"#000000\" fill-rule=\"evenodd\" fill-opacity=\"1\" /><path clip-path=\"url(#clip720)\" d=\"M 0 0 M34.4036 592.716 L34.4036 551.911 L39.7508 551.911 L39.7508 592.716 L34.4036 592.716 M47.3897 592.716 L47.3897 551.911 L52.8005 551.911 L52.8005 592.716 L47.3897 592.716 Z\" fill=\"#000000\" fill-rule=\"evenodd\" fill-opacity=\"1\" /><path clip-path=\"url(#clip720)\" d=\"M 0 0 M42.4881 495.416 L64.0042 495.416 L64.0042 501.272 L42.679 501.272 Q37.6183 501.272 35.1038 503.246 Q32.5894 505.219 32.5894 509.166 Q32.5894 513.908 35.6131 516.645 Q38.6368 519.383 43.8567 519.383 L64.0042 519.383 L64.0042 525.271 L28.3562 525.271 L28.3562 519.383 L33.8944 519.383 Q30.6797 517.282 29.0883 514.449 Q27.4968 511.585 27.4968 507.861 Q27.4968 501.718 31.3163 498.567 Q35.1038 495.416 42.4881 495.416 Z\" fill=\"#000000\" fill-rule=\"evenodd\" fill-opacity=\"1\" /><polyline clip-path=\"url(#clip722)\" style=\"stroke:#009af9; stroke-width:4; stroke-opacity:1; fill:none\" points=\"\n",
       "  272.201,1384.24 373.199,1384.24 373.199,1236.47 474.197,1236.47 474.197,1103.47 575.195,1103.47 575.195,983.78 676.192,983.78 676.192,876.055 777.19,876.055 \n",
       "  777.19,779.102 878.188,779.102 878.188,691.845 979.186,691.845 979.186,613.314 1080.18,613.314 1080.18,542.636 1181.18,542.636 1181.18,479.025 1282.18,479.025 \n",
       "  1282.18,421.776 1383.18,421.776 1383.18,370.251 1484.17,370.251 1484.17,323.879 1585.17,323.879 1585.17,282.144 1686.17,282.144 1686.17,244.583 1787.17,244.583 \n",
       "  1787.17,210.778 1888.17,210.778 1888.17,180.353 1989.16,180.353 1989.16,152.971 2090.16,152.971 2090.16,128.327 2191.16,128.327 2191.16,106.147 2292.16,106.147 \n",
       "  2292.16,86.1857 \n",
       "  \"/>\n",
       "<circle clip-path=\"url(#clip722)\" cx=\"373.199\" cy=\"1236.47\" r=\"14\" fill=\"#e26f46\" fill-rule=\"evenodd\" fill-opacity=\"1\" stroke=\"#000000\" stroke-opacity=\"1\" stroke-width=\"3.2\"/>\n",
       "<circle clip-path=\"url(#clip722)\" cx=\"474.197\" cy=\"1103.47\" r=\"14\" fill=\"#e26f46\" fill-rule=\"evenodd\" fill-opacity=\"1\" stroke=\"#000000\" stroke-opacity=\"1\" stroke-width=\"3.2\"/>\n",
       "<circle clip-path=\"url(#clip722)\" cx=\"575.195\" cy=\"983.78\" r=\"14\" fill=\"#e26f46\" fill-rule=\"evenodd\" fill-opacity=\"1\" stroke=\"#000000\" stroke-opacity=\"1\" stroke-width=\"3.2\"/>\n",
       "<circle clip-path=\"url(#clip722)\" cx=\"676.192\" cy=\"876.055\" r=\"14\" fill=\"#e26f46\" fill-rule=\"evenodd\" fill-opacity=\"1\" stroke=\"#000000\" stroke-opacity=\"1\" stroke-width=\"3.2\"/>\n",
       "<circle clip-path=\"url(#clip722)\" cx=\"777.19\" cy=\"779.102\" r=\"14\" fill=\"#e26f46\" fill-rule=\"evenodd\" fill-opacity=\"1\" stroke=\"#000000\" stroke-opacity=\"1\" stroke-width=\"3.2\"/>\n",
       "<circle clip-path=\"url(#clip722)\" cx=\"878.188\" cy=\"691.845\" r=\"14\" fill=\"#e26f46\" fill-rule=\"evenodd\" fill-opacity=\"1\" stroke=\"#000000\" stroke-opacity=\"1\" stroke-width=\"3.2\"/>\n",
       "<circle clip-path=\"url(#clip722)\" cx=\"979.186\" cy=\"613.314\" r=\"14\" fill=\"#e26f46\" fill-rule=\"evenodd\" fill-opacity=\"1\" stroke=\"#000000\" stroke-opacity=\"1\" stroke-width=\"3.2\"/>\n",
       "<circle clip-path=\"url(#clip722)\" cx=\"1080.18\" cy=\"542.636\" r=\"14\" fill=\"#e26f46\" fill-rule=\"evenodd\" fill-opacity=\"1\" stroke=\"#000000\" stroke-opacity=\"1\" stroke-width=\"3.2\"/>\n",
       "<circle clip-path=\"url(#clip722)\" cx=\"1181.18\" cy=\"479.025\" r=\"14\" fill=\"#e26f46\" fill-rule=\"evenodd\" fill-opacity=\"1\" stroke=\"#000000\" stroke-opacity=\"1\" stroke-width=\"3.2\"/>\n",
       "<circle clip-path=\"url(#clip722)\" cx=\"1282.18\" cy=\"421.776\" r=\"14\" fill=\"#e26f46\" fill-rule=\"evenodd\" fill-opacity=\"1\" stroke=\"#000000\" stroke-opacity=\"1\" stroke-width=\"3.2\"/>\n",
       "<circle clip-path=\"url(#clip722)\" cx=\"1383.18\" cy=\"370.251\" r=\"14\" fill=\"#e26f46\" fill-rule=\"evenodd\" fill-opacity=\"1\" stroke=\"#000000\" stroke-opacity=\"1\" stroke-width=\"3.2\"/>\n",
       "<circle clip-path=\"url(#clip722)\" cx=\"1484.17\" cy=\"323.879\" r=\"14\" fill=\"#e26f46\" fill-rule=\"evenodd\" fill-opacity=\"1\" stroke=\"#000000\" stroke-opacity=\"1\" stroke-width=\"3.2\"/>\n",
       "<circle clip-path=\"url(#clip722)\" cx=\"1585.17\" cy=\"282.144\" r=\"14\" fill=\"#e26f46\" fill-rule=\"evenodd\" fill-opacity=\"1\" stroke=\"#000000\" stroke-opacity=\"1\" stroke-width=\"3.2\"/>\n",
       "<circle clip-path=\"url(#clip722)\" cx=\"1686.17\" cy=\"244.583\" r=\"14\" fill=\"#e26f46\" fill-rule=\"evenodd\" fill-opacity=\"1\" stroke=\"#000000\" stroke-opacity=\"1\" stroke-width=\"3.2\"/>\n",
       "<circle clip-path=\"url(#clip722)\" cx=\"1787.17\" cy=\"210.778\" r=\"14\" fill=\"#e26f46\" fill-rule=\"evenodd\" fill-opacity=\"1\" stroke=\"#000000\" stroke-opacity=\"1\" stroke-width=\"3.2\"/>\n",
       "<circle clip-path=\"url(#clip722)\" cx=\"1888.17\" cy=\"180.353\" r=\"14\" fill=\"#e26f46\" fill-rule=\"evenodd\" fill-opacity=\"1\" stroke=\"#000000\" stroke-opacity=\"1\" stroke-width=\"3.2\"/>\n",
       "<circle clip-path=\"url(#clip722)\" cx=\"1989.16\" cy=\"152.971\" r=\"14\" fill=\"#e26f46\" fill-rule=\"evenodd\" fill-opacity=\"1\" stroke=\"#000000\" stroke-opacity=\"1\" stroke-width=\"3.2\"/>\n",
       "<circle clip-path=\"url(#clip722)\" cx=\"2090.16\" cy=\"128.327\" r=\"14\" fill=\"#e26f46\" fill-rule=\"evenodd\" fill-opacity=\"1\" stroke=\"#000000\" stroke-opacity=\"1\" stroke-width=\"3.2\"/>\n",
       "<circle clip-path=\"url(#clip722)\" cx=\"2191.16\" cy=\"106.147\" r=\"14\" fill=\"#e26f46\" fill-rule=\"evenodd\" fill-opacity=\"1\" stroke=\"#000000\" stroke-opacity=\"1\" stroke-width=\"3.2\"/>\n",
       "<circle clip-path=\"url(#clip722)\" cx=\"2292.16\" cy=\"86.1857\" r=\"14\" fill=\"#e26f46\" fill-rule=\"evenodd\" fill-opacity=\"1\" stroke=\"#000000\" stroke-opacity=\"1\" stroke-width=\"3.2\"/>\n",
       "</svg>\n"
      ]
     },
     "execution_count": 4,
     "metadata": {},
     "output_type": "execute_result"
    }
   ],
   "source": [
    "plot_cumulative!(0.1, 20)\n",
    "xlabel!(\"n\")\n",
    "ylabel!(\"cum. prob. <= n\")"
   ]
  },
  {
   "cell_type": "code",
   "execution_count": 18,
   "metadata": {},
   "outputs": [
    {
     "data": {
      "image/svg+xml": [
       "<?xml version=\"1.0\" encoding=\"utf-8\"?>\n",
       "<svg xmlns=\"http://www.w3.org/2000/svg\" xmlns:xlink=\"http://www.w3.org/1999/xlink\" width=\"600\" height=\"400\" viewBox=\"0 0 2400 1600\">\n",
       "<defs>\n",
       "  <clipPath id=\"clip000\">\n",
       "    <rect x=\"0\" y=\"0\" width=\"2400\" height=\"1600\"/>\n",
       "  </clipPath>\n",
       "</defs>\n",
       "<path clip-path=\"url(#clip000)\" d=\"\n",
       "M0 1600 L2400 1600 L2400 0 L0 0  Z\n",
       "  \" fill=\"#ffffff\" fill-rule=\"evenodd\" fill-opacity=\"1\"/>\n",
       "<defs>\n",
       "  <clipPath id=\"clip001\">\n",
       "    <rect x=\"480\" y=\"0\" width=\"1681\" height=\"1600\"/>\n",
       "  </clipPath>\n",
       "</defs>\n",
       "<path clip-path=\"url(#clip000)\" d=\"\n",
       "M174.862 1486.45 L2352.76 1486.45 L2352.76 47.2441 L174.862 47.2441  Z\n",
       "  \" fill=\"#ffffff\" fill-rule=\"evenodd\" fill-opacity=\"1\"/>\n",
       "<defs>\n",
       "  <clipPath id=\"clip002\">\n",
       "    <rect x=\"174\" y=\"47\" width=\"2179\" height=\"1440\"/>\n",
       "  </clipPath>\n",
       "</defs>\n",
       "<polyline clip-path=\"url(#clip002)\" style=\"stroke:#000000; stroke-width:2; stroke-opacity:0.1; fill:none\" points=\"\n",
       "  236.501,1486.45 236.501,47.2441 \n",
       "  \"/>\n",
       "<polyline clip-path=\"url(#clip002)\" style=\"stroke:#000000; stroke-width:2; stroke-opacity:0.1; fill:none\" points=\"\n",
       "  647.424,1486.45 647.424,47.2441 \n",
       "  \"/>\n",
       "<polyline clip-path=\"url(#clip002)\" style=\"stroke:#000000; stroke-width:2; stroke-opacity:0.1; fill:none\" points=\"\n",
       "  1058.35,1486.45 1058.35,47.2441 \n",
       "  \"/>\n",
       "<polyline clip-path=\"url(#clip002)\" style=\"stroke:#000000; stroke-width:2; stroke-opacity:0.1; fill:none\" points=\"\n",
       "  1469.27,1486.45 1469.27,47.2441 \n",
       "  \"/>\n",
       "<polyline clip-path=\"url(#clip002)\" style=\"stroke:#000000; stroke-width:2; stroke-opacity:0.1; fill:none\" points=\"\n",
       "  1880.19,1486.45 1880.19,47.2441 \n",
       "  \"/>\n",
       "<polyline clip-path=\"url(#clip002)\" style=\"stroke:#000000; stroke-width:2; stroke-opacity:0.1; fill:none\" points=\"\n",
       "  2291.12,1486.45 2291.12,47.2441 \n",
       "  \"/>\n",
       "<polyline clip-path=\"url(#clip000)\" style=\"stroke:#000000; stroke-width:4; stroke-opacity:1; fill:none\" points=\"\n",
       "  174.862,1486.45 2352.76,1486.45 \n",
       "  \"/>\n",
       "<polyline clip-path=\"url(#clip000)\" style=\"stroke:#000000; stroke-width:4; stroke-opacity:1; fill:none\" points=\"\n",
       "  236.501,1486.45 236.501,1469.18 \n",
       "  \"/>\n",
       "<polyline clip-path=\"url(#clip000)\" style=\"stroke:#000000; stroke-width:4; stroke-opacity:1; fill:none\" points=\"\n",
       "  647.424,1486.45 647.424,1469.18 \n",
       "  \"/>\n",
       "<polyline clip-path=\"url(#clip000)\" style=\"stroke:#000000; stroke-width:4; stroke-opacity:1; fill:none\" points=\"\n",
       "  1058.35,1486.45 1058.35,1469.18 \n",
       "  \"/>\n",
       "<polyline clip-path=\"url(#clip000)\" style=\"stroke:#000000; stroke-width:4; stroke-opacity:1; fill:none\" points=\"\n",
       "  1469.27,1486.45 1469.27,1469.18 \n",
       "  \"/>\n",
       "<polyline clip-path=\"url(#clip000)\" style=\"stroke:#000000; stroke-width:4; stroke-opacity:1; fill:none\" points=\"\n",
       "  1880.19,1486.45 1880.19,1469.18 \n",
       "  \"/>\n",
       "<polyline clip-path=\"url(#clip000)\" style=\"stroke:#000000; stroke-width:4; stroke-opacity:1; fill:none\" points=\"\n",
       "  2291.12,1486.45 2291.12,1469.18 \n",
       "  \"/>\n",
       "<path clip-path=\"url(#clip000)\" d=\"M 0 0 M236.501 1515.64 Q232.889 1515.64 231.061 1519.2 Q229.255 1522.75 229.255 1529.87 Q229.255 1536.98 231.061 1540.55 Q232.889 1544.09 236.501 1544.09 Q240.135 1544.09 241.94 1540.55 Q243.769 1536.98 243.769 1529.87 Q243.769 1522.75 241.94 1519.2 Q240.135 1515.64 236.501 1515.64 M236.501 1511.93 Q242.311 1511.93 245.366 1516.54 Q248.445 1521.12 248.445 1529.87 Q248.445 1538.6 245.366 1543.21 Q242.311 1547.79 236.501 1547.79 Q230.69 1547.79 227.612 1543.21 Q224.556 1538.6 224.556 1529.87 Q224.556 1521.12 227.612 1516.54 Q230.69 1511.93 236.501 1511.93 Z\" fill=\"#000000\" fill-rule=\"evenodd\" fill-opacity=\"1\" /><path clip-path=\"url(#clip000)\" d=\"M 0 0 M624.299 1543.18 L631.938 1543.18 L631.938 1516.82 L623.628 1518.49 L623.628 1514.23 L631.892 1512.56 L636.567 1512.56 L636.567 1543.18 L644.206 1543.18 L644.206 1547.12 L624.299 1547.12 L624.299 1543.18 Z\" fill=\"#000000\" fill-rule=\"evenodd\" fill-opacity=\"1\" /><path clip-path=\"url(#clip000)\" d=\"M 0 0 M659.276 1515.64 Q655.665 1515.64 653.836 1519.2 Q652.03 1522.75 652.03 1529.87 Q652.03 1536.98 653.836 1540.55 Q655.665 1544.09 659.276 1544.09 Q662.91 1544.09 664.715 1540.55 Q666.544 1536.98 666.544 1529.87 Q666.544 1522.75 664.715 1519.2 Q662.91 1515.64 659.276 1515.64 M659.276 1511.93 Q665.086 1511.93 668.141 1516.54 Q671.22 1521.12 671.22 1529.87 Q671.22 1538.6 668.141 1543.21 Q665.086 1547.79 659.276 1547.79 Q653.466 1547.79 650.387 1543.21 Q647.331 1538.6 647.331 1529.87 Q647.331 1521.12 650.387 1516.54 Q653.466 1511.93 659.276 1511.93 Z\" fill=\"#000000\" fill-rule=\"evenodd\" fill-opacity=\"1\" /><path clip-path=\"url(#clip000)\" d=\"M 0 0 M1039.49 1543.18 L1055.81 1543.18 L1055.81 1547.12 L1033.87 1547.12 L1033.87 1543.18 Q1036.53 1540.43 1041.11 1535.8 Q1045.72 1531.15 1046.9 1529.81 Q1049.15 1527.28 1050.03 1525.55 Q1050.93 1523.79 1050.93 1522.1 Q1050.93 1519.34 1048.98 1517.61 Q1047.06 1515.87 1043.96 1515.87 Q1041.76 1515.87 1039.31 1516.63 Q1036.88 1517.4 1034.1 1518.95 L1034.1 1514.23 Q1036.92 1513.09 1039.38 1512.51 Q1041.83 1511.93 1043.87 1511.93 Q1049.24 1511.93 1052.43 1514.62 Q1055.63 1517.31 1055.63 1521.8 Q1055.63 1523.93 1054.82 1525.85 Q1054.03 1527.74 1051.92 1530.34 Q1051.35 1531.01 1048.24 1534.23 Q1045.14 1537.42 1039.49 1543.18 Z\" fill=\"#000000\" fill-rule=\"evenodd\" fill-opacity=\"1\" /><path clip-path=\"url(#clip000)\" d=\"M 0 0 M1070.88 1515.64 Q1067.27 1515.64 1065.44 1519.2 Q1063.64 1522.75 1063.64 1529.87 Q1063.64 1536.98 1065.44 1540.55 Q1067.27 1544.09 1070.88 1544.09 Q1074.52 1544.09 1076.32 1540.55 Q1078.15 1536.98 1078.15 1529.87 Q1078.15 1522.75 1076.32 1519.2 Q1074.52 1515.64 1070.88 1515.64 M1070.88 1511.93 Q1076.69 1511.93 1079.75 1516.54 Q1082.83 1521.12 1082.83 1529.87 Q1082.83 1538.6 1079.75 1543.21 Q1076.69 1547.79 1070.88 1547.79 Q1065.07 1547.79 1061.99 1543.21 Q1058.94 1538.6 1058.94 1529.87 Q1058.94 1521.12 1061.99 1516.54 Q1065.07 1511.93 1070.88 1511.93 Z\" fill=\"#000000\" fill-rule=\"evenodd\" fill-opacity=\"1\" /><path clip-path=\"url(#clip000)\" d=\"M 0 0 M1460.01 1528.49 Q1463.37 1529.2 1465.24 1531.47 Q1467.14 1533.74 1467.14 1537.07 Q1467.14 1542.19 1463.62 1544.99 Q1460.1 1547.79 1453.62 1547.79 Q1451.45 1547.79 1449.13 1547.35 Q1446.84 1546.93 1444.39 1546.08 L1444.39 1541.56 Q1446.33 1542.7 1448.65 1543.28 Q1450.96 1543.86 1453.48 1543.86 Q1457.88 1543.86 1460.17 1542.12 Q1462.49 1540.38 1462.49 1537.07 Q1462.49 1534.02 1460.34 1532.31 Q1458.21 1530.57 1454.39 1530.57 L1450.36 1530.57 L1450.36 1526.73 L1454.57 1526.73 Q1458.02 1526.73 1459.85 1525.36 Q1461.68 1523.97 1461.68 1521.38 Q1461.68 1518.72 1459.78 1517.31 Q1457.9 1515.87 1454.39 1515.87 Q1452.47 1515.87 1450.27 1516.29 Q1448.07 1516.7 1445.43 1517.58 L1445.43 1513.42 Q1448.09 1512.68 1450.41 1512.31 Q1452.74 1511.93 1454.8 1511.93 Q1460.13 1511.93 1463.23 1514.37 Q1466.33 1516.77 1466.33 1520.89 Q1466.33 1523.76 1464.69 1525.75 Q1463.04 1527.72 1460.01 1528.49 Z\" fill=\"#000000\" fill-rule=\"evenodd\" fill-opacity=\"1\" /><path clip-path=\"url(#clip000)\" d=\"M 0 0 M1482.21 1515.64 Q1478.6 1515.64 1476.77 1519.2 Q1474.97 1522.75 1474.97 1529.87 Q1474.97 1536.98 1476.77 1540.55 Q1478.6 1544.09 1482.21 1544.09 Q1485.84 1544.09 1487.65 1540.55 Q1489.48 1536.98 1489.48 1529.87 Q1489.48 1522.75 1487.65 1519.2 Q1485.84 1515.64 1482.21 1515.64 M1482.21 1511.93 Q1488.02 1511.93 1491.08 1516.54 Q1494.15 1521.12 1494.15 1529.87 Q1494.15 1538.6 1491.08 1543.21 Q1488.02 1547.79 1482.21 1547.79 Q1476.4 1547.79 1473.32 1543.21 Q1470.27 1538.6 1470.27 1529.87 Q1470.27 1521.12 1473.32 1516.54 Q1476.4 1511.93 1482.21 1511.93 Z\" fill=\"#000000\" fill-rule=\"evenodd\" fill-opacity=\"1\" /><path clip-path=\"url(#clip000)\" d=\"M 0 0 M1869.7 1516.63 L1857.89 1535.08 L1869.7 1535.08 L1869.7 1516.63 M1868.47 1512.56 L1874.35 1512.56 L1874.35 1535.08 L1879.28 1535.08 L1879.28 1538.97 L1874.35 1538.97 L1874.35 1547.12 L1869.7 1547.12 L1869.7 1538.97 L1854.09 1538.97 L1854.09 1534.46 L1868.47 1512.56 Z\" fill=\"#000000\" fill-rule=\"evenodd\" fill-opacity=\"1\" /><path clip-path=\"url(#clip000)\" d=\"M 0 0 M1894.35 1515.64 Q1890.74 1515.64 1888.91 1519.2 Q1887.1 1522.75 1887.1 1529.87 Q1887.1 1536.98 1888.91 1540.55 Q1890.74 1544.09 1894.35 1544.09 Q1897.98 1544.09 1899.79 1540.55 Q1901.62 1536.98 1901.62 1529.87 Q1901.62 1522.75 1899.79 1519.2 Q1897.98 1515.64 1894.35 1515.64 M1894.35 1511.93 Q1900.16 1511.93 1903.21 1516.54 Q1906.29 1521.12 1906.29 1529.87 Q1906.29 1538.6 1903.21 1543.21 Q1900.16 1547.79 1894.35 1547.79 Q1888.54 1547.79 1885.46 1543.21 Q1882.4 1538.6 1882.4 1529.87 Q1882.4 1521.12 1885.46 1516.54 Q1888.54 1511.93 1894.35 1511.93 Z\" fill=\"#000000\" fill-rule=\"evenodd\" fill-opacity=\"1\" /><path clip-path=\"url(#clip000)\" d=\"M 0 0 M2267.89 1512.56 L2286.24 1512.56 L2286.24 1516.5 L2272.17 1516.5 L2272.17 1524.97 Q2273.19 1524.62 2274.21 1524.46 Q2275.23 1524.27 2276.24 1524.27 Q2282.03 1524.27 2285.41 1527.44 Q2288.79 1530.62 2288.79 1536.03 Q2288.79 1541.61 2285.32 1544.71 Q2281.85 1547.79 2275.53 1547.79 Q2273.35 1547.79 2271.08 1547.42 Q2268.84 1547.05 2266.43 1546.31 L2266.43 1541.61 Q2268.51 1542.74 2270.74 1543.3 Q2272.96 1543.86 2275.43 1543.86 Q2279.44 1543.86 2281.78 1541.75 Q2284.12 1539.64 2284.12 1536.03 Q2284.12 1532.42 2281.78 1530.31 Q2279.44 1528.21 2275.43 1528.21 Q2273.56 1528.21 2271.68 1528.62 Q2269.83 1529.04 2267.89 1529.92 L2267.89 1512.56 Z\" fill=\"#000000\" fill-rule=\"evenodd\" fill-opacity=\"1\" /><path clip-path=\"url(#clip000)\" d=\"M 0 0 M2303.86 1515.64 Q2300.25 1515.64 2298.42 1519.2 Q2296.62 1522.75 2296.62 1529.87 Q2296.62 1536.98 2298.42 1540.55 Q2300.25 1544.09 2303.86 1544.09 Q2307.49 1544.09 2309.3 1540.55 Q2311.13 1536.98 2311.13 1529.87 Q2311.13 1522.75 2309.3 1519.2 Q2307.49 1515.64 2303.86 1515.64 M2303.86 1511.93 Q2309.67 1511.93 2312.73 1516.54 Q2315.8 1521.12 2315.8 1529.87 Q2315.8 1538.6 2312.73 1543.21 Q2309.67 1547.79 2303.86 1547.79 Q2298.05 1547.79 2294.97 1543.21 Q2291.92 1538.6 2291.92 1529.87 Q2291.92 1521.12 2294.97 1516.54 Q2298.05 1511.93 2303.86 1511.93 Z\" fill=\"#000000\" fill-rule=\"evenodd\" fill-opacity=\"1\" /><polyline clip-path=\"url(#clip002)\" style=\"stroke:#000000; stroke-width:2; stroke-opacity:0.1; fill:none\" points=\"\n",
       "  174.862,1445.72 2352.76,1445.72 \n",
       "  \"/>\n",
       "<polyline clip-path=\"url(#clip002)\" style=\"stroke:#000000; stroke-width:2; stroke-opacity:0.1; fill:none\" points=\"\n",
       "  174.862,1104.52 2352.76,1104.52 \n",
       "  \"/>\n",
       "<polyline clip-path=\"url(#clip002)\" style=\"stroke:#000000; stroke-width:2; stroke-opacity:0.1; fill:none\" points=\"\n",
       "  174.862,763.329 2352.76,763.329 \n",
       "  \"/>\n",
       "<polyline clip-path=\"url(#clip002)\" style=\"stroke:#000000; stroke-width:2; stroke-opacity:0.1; fill:none\" points=\"\n",
       "  174.862,422.136 2352.76,422.136 \n",
       "  \"/>\n",
       "<polyline clip-path=\"url(#clip002)\" style=\"stroke:#000000; stroke-width:2; stroke-opacity:0.1; fill:none\" points=\"\n",
       "  174.862,80.9425 2352.76,80.9425 \n",
       "  \"/>\n",
       "<polyline clip-path=\"url(#clip000)\" style=\"stroke:#000000; stroke-width:4; stroke-opacity:1; fill:none\" points=\"\n",
       "  174.862,1486.45 174.862,47.2441 \n",
       "  \"/>\n",
       "<polyline clip-path=\"url(#clip000)\" style=\"stroke:#000000; stroke-width:4; stroke-opacity:1; fill:none\" points=\"\n",
       "  174.862,1445.72 200.997,1445.72 \n",
       "  \"/>\n",
       "<polyline clip-path=\"url(#clip000)\" style=\"stroke:#000000; stroke-width:4; stroke-opacity:1; fill:none\" points=\"\n",
       "  174.862,1104.52 200.997,1104.52 \n",
       "  \"/>\n",
       "<polyline clip-path=\"url(#clip000)\" style=\"stroke:#000000; stroke-width:4; stroke-opacity:1; fill:none\" points=\"\n",
       "  174.862,763.329 200.997,763.329 \n",
       "  \"/>\n",
       "<polyline clip-path=\"url(#clip000)\" style=\"stroke:#000000; stroke-width:4; stroke-opacity:1; fill:none\" points=\"\n",
       "  174.862,422.136 200.997,422.136 \n",
       "  \"/>\n",
       "<polyline clip-path=\"url(#clip000)\" style=\"stroke:#000000; stroke-width:4; stroke-opacity:1; fill:none\" points=\"\n",
       "  174.862,80.9425 200.997,80.9425 \n",
       "  \"/>\n",
       "<path clip-path=\"url(#clip000)\" d=\"M 0 0 M62.9365 1431.51 Q59.3254 1431.51 57.4967 1435.08 Q55.6912 1438.62 55.6912 1445.75 Q55.6912 1452.86 57.4967 1456.42 Q59.3254 1459.96 62.9365 1459.96 Q66.5707 1459.96 68.3763 1456.42 Q70.205 1452.86 70.205 1445.75 Q70.205 1438.62 68.3763 1435.08 Q66.5707 1431.51 62.9365 1431.51 M62.9365 1427.81 Q68.7467 1427.81 71.8022 1432.42 Q74.8809 1437 74.8809 1445.75 Q74.8809 1454.48 71.8022 1459.08 Q68.7467 1463.67 62.9365 1463.67 Q57.1264 1463.67 54.0477 1459.08 Q50.9921 1454.48 50.9921 1445.75 Q50.9921 1437 54.0477 1432.42 Q57.1264 1427.81 62.9365 1427.81 Z\" fill=\"#000000\" fill-rule=\"evenodd\" fill-opacity=\"1\" /><path clip-path=\"url(#clip000)\" d=\"M 0 0 M79.9503 1457.12 L84.8345 1457.12 L84.8345 1463 L79.9503 1463 L79.9503 1457.12 Z\" fill=\"#000000\" fill-rule=\"evenodd\" fill-opacity=\"1\" /><path clip-path=\"url(#clip000)\" d=\"M 0 0 M99.9039 1431.51 Q96.2928 1431.51 94.4641 1435.08 Q92.6586 1438.62 92.6586 1445.75 Q92.6586 1452.86 94.4641 1456.42 Q96.2928 1459.96 99.9039 1459.96 Q103.538 1459.96 105.344 1456.42 Q107.172 1452.86 107.172 1445.75 Q107.172 1438.62 105.344 1435.08 Q103.538 1431.51 99.9039 1431.51 M99.9039 1427.81 Q105.714 1427.81 108.77 1432.42 Q111.848 1437 111.848 1445.75 Q111.848 1454.48 108.77 1459.08 Q105.714 1463.67 99.9039 1463.67 Q94.0937 1463.67 91.0151 1459.08 Q87.9595 1454.48 87.9595 1445.75 Q87.9595 1437 91.0151 1432.42 Q94.0937 1427.81 99.9039 1427.81 Z\" fill=\"#000000\" fill-rule=\"evenodd\" fill-opacity=\"1\" /><path clip-path=\"url(#clip000)\" d=\"M 0 0 M126.918 1431.51 Q123.307 1431.51 121.478 1435.08 Q119.672 1438.62 119.672 1445.75 Q119.672 1452.86 121.478 1456.42 Q123.307 1459.96 126.918 1459.96 Q130.552 1459.96 132.357 1456.42 Q134.186 1452.86 134.186 1445.75 Q134.186 1438.62 132.357 1435.08 Q130.552 1431.51 126.918 1431.51 M126.918 1427.81 Q132.728 1427.81 135.783 1432.42 Q138.862 1437 138.862 1445.75 Q138.862 1454.48 135.783 1459.08 Q132.728 1463.67 126.918 1463.67 Q121.107 1463.67 118.029 1459.08 Q114.973 1454.48 114.973 1445.75 Q114.973 1437 118.029 1432.42 Q121.107 1427.81 126.918 1427.81 Z\" fill=\"#000000\" fill-rule=\"evenodd\" fill-opacity=\"1\" /><path clip-path=\"url(#clip000)\" d=\"M 0 0 M65.5291 1090.32 Q61.918 1090.32 60.0893 1093.89 Q58.2838 1097.43 58.2838 1104.56 Q58.2838 1111.66 60.0893 1115.23 Q61.918 1118.77 65.5291 1118.77 Q69.1633 1118.77 70.9689 1115.23 Q72.7976 1111.66 72.7976 1104.56 Q72.7976 1097.43 70.9689 1093.89 Q69.1633 1090.32 65.5291 1090.32 M65.5291 1086.62 Q71.3392 1086.62 74.3948 1091.22 Q77.4735 1095.81 77.4735 1104.56 Q77.4735 1113.28 74.3948 1117.89 Q71.3392 1122.47 65.5291 1122.47 Q59.7189 1122.47 56.6402 1117.89 Q53.5847 1113.28 53.5847 1104.56 Q53.5847 1095.81 56.6402 1091.22 Q59.7189 1086.62 65.5291 1086.62 Z\" fill=\"#000000\" fill-rule=\"evenodd\" fill-opacity=\"1\" /><path clip-path=\"url(#clip000)\" d=\"M 0 0 M82.5429 1115.92 L87.4271 1115.92 L87.4271 1121.8 L82.5429 1121.8 L82.5429 1115.92 Z\" fill=\"#000000\" fill-rule=\"evenodd\" fill-opacity=\"1\" /><path clip-path=\"url(#clip000)\" d=\"M 0 0 M96.5243 1117.87 L112.844 1117.87 L112.844 1121.8 L90.8993 1121.8 L90.8993 1117.87 Q93.5613 1115.11 98.1447 1110.48 Q102.751 1105.83 103.932 1104.49 Q106.177 1101.96 107.057 1100.23 Q107.959 1098.47 107.959 1096.78 Q107.959 1094.02 106.015 1092.29 Q104.094 1090.55 100.992 1090.55 Q98.7928 1090.55 96.3391 1091.32 Q93.9086 1092.08 91.1308 1093.63 L91.1308 1088.91 Q93.9549 1087.77 96.4085 1087.2 Q98.8622 1086.62 100.899 1086.62 Q106.27 1086.62 109.464 1089.3 Q112.658 1091.99 112.658 1096.48 Q112.658 1098.61 111.848 1100.53 Q111.061 1102.43 108.955 1105.02 Q108.376 1105.69 105.274 1108.91 Q102.172 1112.1 96.5243 1117.87 Z\" fill=\"#000000\" fill-rule=\"evenodd\" fill-opacity=\"1\" /><path clip-path=\"url(#clip000)\" d=\"M 0 0 M117.959 1087.24 L136.316 1087.24 L136.316 1091.18 L122.242 1091.18 L122.242 1099.65 Q123.26 1099.3 124.279 1099.14 Q125.297 1098.96 126.316 1098.96 Q132.103 1098.96 135.482 1102.13 Q138.862 1105.3 138.862 1110.71 Q138.862 1116.29 135.39 1119.4 Q131.918 1122.47 125.598 1122.47 Q123.422 1122.47 121.154 1122.1 Q118.908 1121.73 116.501 1120.99 L116.501 1116.29 Q118.584 1117.43 120.807 1117.98 Q123.029 1118.54 125.506 1118.54 Q129.51 1118.54 131.848 1116.43 Q134.186 1114.33 134.186 1110.71 Q134.186 1107.1 131.848 1105 Q129.51 1102.89 125.506 1102.89 Q123.631 1102.89 121.756 1103.31 Q119.904 1103.72 117.959 1104.6 L117.959 1087.24 Z\" fill=\"#000000\" fill-rule=\"evenodd\" fill-opacity=\"1\" /><path clip-path=\"url(#clip000)\" d=\"M 0 0 M63.9319 749.128 Q60.3208 749.128 58.4921 752.693 Q56.6865 756.234 56.6865 763.364 Q56.6865 770.47 58.4921 774.035 Q60.3208 777.577 63.9319 777.577 Q67.5661 777.577 69.3717 774.035 Q71.2004 770.47 71.2004 763.364 Q71.2004 756.234 69.3717 752.693 Q67.5661 749.128 63.9319 749.128 M63.9319 745.424 Q69.742 745.424 72.7976 750.031 Q75.8763 754.614 75.8763 763.364 Q75.8763 772.091 72.7976 776.697 Q69.742 781.28 63.9319 781.28 Q58.1217 781.28 55.043 776.697 Q51.9875 772.091 51.9875 763.364 Q51.9875 754.614 55.043 750.031 Q58.1217 745.424 63.9319 745.424 Z\" fill=\"#000000\" fill-rule=\"evenodd\" fill-opacity=\"1\" /><path clip-path=\"url(#clip000)\" d=\"M 0 0 M80.9457 774.73 L85.8299 774.73 L85.8299 780.609 L80.9457 780.609 L80.9457 774.73 Z\" fill=\"#000000\" fill-rule=\"evenodd\" fill-opacity=\"1\" /><path clip-path=\"url(#clip000)\" d=\"M 0 0 M90.9456 746.049 L109.302 746.049 L109.302 749.984 L95.228 749.984 L95.228 758.456 Q96.2465 758.109 97.265 757.947 Q98.2835 757.762 99.3021 757.762 Q105.089 757.762 108.469 760.933 Q111.848 764.105 111.848 769.521 Q111.848 775.1 108.376 778.202 Q104.904 781.28 98.5845 781.28 Q96.4085 781.28 94.14 780.91 Q91.8947 780.54 89.4873 779.799 L89.4873 775.1 Q91.5706 776.234 93.7928 776.79 Q96.015 777.345 98.4919 777.345 Q102.496 777.345 104.834 775.239 Q107.172 773.132 107.172 769.521 Q107.172 765.91 104.834 763.804 Q102.496 761.697 98.4919 761.697 Q96.6169 761.697 94.7419 762.114 Q92.89 762.531 90.9456 763.41 L90.9456 746.049 Z\" fill=\"#000000\" fill-rule=\"evenodd\" fill-opacity=\"1\" /><path clip-path=\"url(#clip000)\" d=\"M 0 0 M126.918 749.128 Q123.307 749.128 121.478 752.693 Q119.672 756.234 119.672 763.364 Q119.672 770.47 121.478 774.035 Q123.307 777.577 126.918 777.577 Q130.552 777.577 132.357 774.035 Q134.186 770.47 134.186 763.364 Q134.186 756.234 132.357 752.693 Q130.552 749.128 126.918 749.128 M126.918 745.424 Q132.728 745.424 135.783 750.031 Q138.862 754.614 138.862 763.364 Q138.862 772.091 135.783 776.697 Q132.728 781.28 126.918 781.28 Q121.107 781.28 118.029 776.697 Q114.973 772.091 114.973 763.364 Q114.973 754.614 118.029 750.031 Q121.107 745.424 126.918 745.424 Z\" fill=\"#000000\" fill-rule=\"evenodd\" fill-opacity=\"1\" /><path clip-path=\"url(#clip000)\" d=\"M 0 0 M64.8346 407.935 Q61.2236 407.935 59.3949 411.499 Q57.5893 415.041 57.5893 422.171 Q57.5893 429.277 59.3949 432.842 Q61.2236 436.383 64.8346 436.383 Q68.4689 436.383 70.2744 432.842 Q72.1031 429.277 72.1031 422.171 Q72.1031 415.041 70.2744 411.499 Q68.4689 407.935 64.8346 407.935 M64.8346 404.231 Q70.6448 404.231 73.7003 408.837 Q76.779 413.421 76.779 422.171 Q76.779 430.897 73.7003 435.504 Q70.6448 440.087 64.8346 440.087 Q59.0245 440.087 55.9458 435.504 Q52.8903 430.897 52.8903 422.171 Q52.8903 413.421 55.9458 408.837 Q59.0245 404.231 64.8346 404.231 Z\" fill=\"#000000\" fill-rule=\"evenodd\" fill-opacity=\"1\" /><path clip-path=\"url(#clip000)\" d=\"M 0 0 M81.8484 433.536 L86.7327 433.536 L86.7327 439.416 L81.8484 439.416 L81.8484 433.536 Z\" fill=\"#000000\" fill-rule=\"evenodd\" fill-opacity=\"1\" /><path clip-path=\"url(#clip000)\" d=\"M 0 0 M90.6215 404.856 L112.844 404.856 L112.844 406.847 L100.297 439.416 L95.4132 439.416 L107.219 408.791 L90.6215 408.791 L90.6215 404.856 Z\" fill=\"#000000\" fill-rule=\"evenodd\" fill-opacity=\"1\" /><path clip-path=\"url(#clip000)\" d=\"M 0 0 M117.959 404.856 L136.316 404.856 L136.316 408.791 L122.242 408.791 L122.242 417.263 Q123.26 416.916 124.279 416.754 Q125.297 416.569 126.316 416.569 Q132.103 416.569 135.482 419.74 Q138.862 422.911 138.862 428.328 Q138.862 433.907 135.39 437.008 Q131.918 440.087 125.598 440.087 Q123.422 440.087 121.154 439.717 Q118.908 439.346 116.501 438.606 L116.501 433.907 Q118.584 435.041 120.807 435.596 Q123.029 436.152 125.506 436.152 Q129.51 436.152 131.848 434.045 Q134.186 431.939 134.186 428.328 Q134.186 424.717 131.848 422.61 Q129.51 420.504 125.506 420.504 Q123.631 420.504 121.756 420.921 Q119.904 421.337 117.959 422.217 L117.959 404.856 Z\" fill=\"#000000\" fill-rule=\"evenodd\" fill-opacity=\"1\" /><path clip-path=\"url(#clip000)\" d=\"M 0 0 M54.9736 94.2874 L62.6124 94.2874 L62.6124 67.9218 L54.3023 69.5884 L54.3023 65.3292 L62.5661 63.6625 L67.242 63.6625 L67.242 94.2874 L74.8809 94.2874 L74.8809 98.2225 L54.9736 98.2225 L54.9736 94.2874 Z\" fill=\"#000000\" fill-rule=\"evenodd\" fill-opacity=\"1\" /><path clip-path=\"url(#clip000)\" d=\"M 0 0 M79.9503 92.3429 L84.8345 92.3429 L84.8345 98.2225 L79.9503 98.2225 L79.9503 92.3429 Z\" fill=\"#000000\" fill-rule=\"evenodd\" fill-opacity=\"1\" /><path clip-path=\"url(#clip000)\" d=\"M 0 0 M99.9039 66.7412 Q96.2928 66.7412 94.4641 70.306 Q92.6586 73.8477 92.6586 80.9773 Q92.6586 88.0837 94.4641 91.6485 Q96.2928 95.1902 99.9039 95.1902 Q103.538 95.1902 105.344 91.6485 Q107.172 88.0837 107.172 80.9773 Q107.172 73.8477 105.344 70.306 Q103.538 66.7412 99.9039 66.7412 M99.9039 63.0375 Q105.714 63.0375 108.77 67.644 Q111.848 72.2273 111.848 80.9773 Q111.848 89.7041 108.77 94.3105 Q105.714 98.8938 99.9039 98.8938 Q94.0937 98.8938 91.0151 94.3105 Q87.9595 89.7041 87.9595 80.9773 Q87.9595 72.2273 91.0151 67.644 Q94.0937 63.0375 99.9039 63.0375 Z\" fill=\"#000000\" fill-rule=\"evenodd\" fill-opacity=\"1\" /><path clip-path=\"url(#clip000)\" d=\"M 0 0 M126.918 66.7412 Q123.307 66.7412 121.478 70.306 Q119.672 73.8477 119.672 80.9773 Q119.672 88.0837 121.478 91.6485 Q123.307 95.1902 126.918 95.1902 Q130.552 95.1902 132.357 91.6485 Q134.186 88.0837 134.186 80.9773 Q134.186 73.8477 132.357 70.306 Q130.552 66.7412 126.918 66.7412 M126.918 63.0375 Q132.728 63.0375 135.783 67.644 Q138.862 72.2273 138.862 80.9773 Q138.862 89.7041 135.783 94.3105 Q132.728 98.8938 126.918 98.8938 Q121.107 98.8938 118.029 94.3105 Q114.973 89.7041 114.973 80.9773 Q114.973 72.2273 118.029 67.644 Q121.107 63.0375 126.918 63.0375 Z\" fill=\"#000000\" fill-rule=\"evenodd\" fill-opacity=\"1\" /><polyline clip-path=\"url(#clip002)\" style=\"stroke:#009af9; stroke-width:4; stroke-opacity:1; fill:none\" points=\"\n",
       "  236.501,1445.72 277.593,1445.72 277.593,1309.24 318.685,1309.24 318.685,1186.41 359.778,1186.41 359.778,1075.86 400.87,1075.86 400.87,976.37 441.962,976.37 \n",
       "  441.962,886.827 483.055,886.827 483.055,806.239 524.147,806.239 524.147,733.709 565.239,733.709 565.239,668.433 606.332,668.433 606.332,609.684 647.424,609.684 \n",
       "  647.424,556.81 688.516,556.81 688.516,509.223 729.609,509.223 729.609,466.395 770.701,466.395 770.701,427.85 811.793,427.85 811.793,393.159 852.886,393.159 \n",
       "  852.886,361.937 893.978,361.937 893.978,333.838 935.07,333.838 935.07,308.548 976.163,308.548 976.163,285.788 1017.25,285.788 1017.25,265.303 1058.35,265.303 \n",
       "  1058.35,246.867 1099.44,246.867 1099.44,230.275 1140.53,230.275 1140.53,215.341 1181.62,215.341 1181.62,201.902 1222.72,201.902 1222.72,189.806 1263.81,189.806 \n",
       "  1263.81,178.919 1304.9,178.919 1304.9,169.122 1345.99,169.122 1345.99,160.304 1387.09,160.304 1387.09,152.368 1428.18,152.368 1428.18,145.225 1469.27,145.225 \n",
       "  1469.27,138.797 1510.36,138.797 1510.36,133.011 1551.46,133.011 1551.46,127.805 1592.55,127.805 1592.55,123.118 1633.64,123.118 1633.64,118.901 1674.73,118.901 \n",
       "  1674.73,115.105 1715.82,115.105 1715.82,111.689 1756.92,111.689 1756.92,108.614 1798.01,108.614 1798.01,105.847 1839.1,105.847 1839.1,103.356 1880.19,103.356 \n",
       "  1880.19,101.115 1921.29,101.115 1921.29,99.0978 1962.38,99.0978 1962.38,97.2823 2003.47,97.2823 2003.47,95.6483 2044.56,95.6483 2044.56,94.1778 2085.66,94.1778 \n",
       "  2085.66,92.8542 2126.75,92.8542 2126.75,91.6631 2167.84,91.6631 2167.84,90.591 2208.93,90.591 2208.93,89.6262 2250.03,89.6262 2250.03,88.7578 2291.12,88.7578 \n",
       "  2291.12,87.9763 \n",
       "  \"/>\n",
       "<circle clip-path=\"url(#clip002)\" cx=\"277.593\" cy=\"1309.24\" r=\"14\" fill=\"#e26f46\" fill-rule=\"evenodd\" fill-opacity=\"1\" stroke=\"#000000\" stroke-opacity=\"1\" stroke-width=\"3.2\"/>\n",
       "<circle clip-path=\"url(#clip002)\" cx=\"318.685\" cy=\"1186.41\" r=\"14\" fill=\"#e26f46\" fill-rule=\"evenodd\" fill-opacity=\"1\" stroke=\"#000000\" stroke-opacity=\"1\" stroke-width=\"3.2\"/>\n",
       "<circle clip-path=\"url(#clip002)\" cx=\"359.778\" cy=\"1075.86\" r=\"14\" fill=\"#e26f46\" fill-rule=\"evenodd\" fill-opacity=\"1\" stroke=\"#000000\" stroke-opacity=\"1\" stroke-width=\"3.2\"/>\n",
       "<circle clip-path=\"url(#clip002)\" cx=\"400.87\" cy=\"976.37\" r=\"14\" fill=\"#e26f46\" fill-rule=\"evenodd\" fill-opacity=\"1\" stroke=\"#000000\" stroke-opacity=\"1\" stroke-width=\"3.2\"/>\n",
       "<circle clip-path=\"url(#clip002)\" cx=\"441.962\" cy=\"886.827\" r=\"14\" fill=\"#e26f46\" fill-rule=\"evenodd\" fill-opacity=\"1\" stroke=\"#000000\" stroke-opacity=\"1\" stroke-width=\"3.2\"/>\n",
       "<circle clip-path=\"url(#clip002)\" cx=\"483.055\" cy=\"806.239\" r=\"14\" fill=\"#e26f46\" fill-rule=\"evenodd\" fill-opacity=\"1\" stroke=\"#000000\" stroke-opacity=\"1\" stroke-width=\"3.2\"/>\n",
       "<circle clip-path=\"url(#clip002)\" cx=\"524.147\" cy=\"733.709\" r=\"14\" fill=\"#e26f46\" fill-rule=\"evenodd\" fill-opacity=\"1\" stroke=\"#000000\" stroke-opacity=\"1\" stroke-width=\"3.2\"/>\n",
       "<circle clip-path=\"url(#clip002)\" cx=\"565.239\" cy=\"668.433\" r=\"14\" fill=\"#e26f46\" fill-rule=\"evenodd\" fill-opacity=\"1\" stroke=\"#000000\" stroke-opacity=\"1\" stroke-width=\"3.2\"/>\n",
       "<circle clip-path=\"url(#clip002)\" cx=\"606.332\" cy=\"609.684\" r=\"14\" fill=\"#e26f46\" fill-rule=\"evenodd\" fill-opacity=\"1\" stroke=\"#000000\" stroke-opacity=\"1\" stroke-width=\"3.2\"/>\n",
       "<circle clip-path=\"url(#clip002)\" cx=\"647.424\" cy=\"556.81\" r=\"14\" fill=\"#e26f46\" fill-rule=\"evenodd\" fill-opacity=\"1\" stroke=\"#000000\" stroke-opacity=\"1\" stroke-width=\"3.2\"/>\n",
       "<circle clip-path=\"url(#clip002)\" cx=\"688.516\" cy=\"509.223\" r=\"14\" fill=\"#e26f46\" fill-rule=\"evenodd\" fill-opacity=\"1\" stroke=\"#000000\" stroke-opacity=\"1\" stroke-width=\"3.2\"/>\n",
       "<circle clip-path=\"url(#clip002)\" cx=\"729.609\" cy=\"466.395\" r=\"14\" fill=\"#e26f46\" fill-rule=\"evenodd\" fill-opacity=\"1\" stroke=\"#000000\" stroke-opacity=\"1\" stroke-width=\"3.2\"/>\n",
       "<circle clip-path=\"url(#clip002)\" cx=\"770.701\" cy=\"427.85\" r=\"14\" fill=\"#e26f46\" fill-rule=\"evenodd\" fill-opacity=\"1\" stroke=\"#000000\" stroke-opacity=\"1\" stroke-width=\"3.2\"/>\n",
       "<circle clip-path=\"url(#clip002)\" cx=\"811.793\" cy=\"393.159\" r=\"14\" fill=\"#e26f46\" fill-rule=\"evenodd\" fill-opacity=\"1\" stroke=\"#000000\" stroke-opacity=\"1\" stroke-width=\"3.2\"/>\n",
       "<circle clip-path=\"url(#clip002)\" cx=\"852.886\" cy=\"361.937\" r=\"14\" fill=\"#e26f46\" fill-rule=\"evenodd\" fill-opacity=\"1\" stroke=\"#000000\" stroke-opacity=\"1\" stroke-width=\"3.2\"/>\n",
       "<circle clip-path=\"url(#clip002)\" cx=\"893.978\" cy=\"333.838\" r=\"14\" fill=\"#e26f46\" fill-rule=\"evenodd\" fill-opacity=\"1\" stroke=\"#000000\" stroke-opacity=\"1\" stroke-width=\"3.2\"/>\n",
       "<circle clip-path=\"url(#clip002)\" cx=\"935.07\" cy=\"308.548\" r=\"14\" fill=\"#e26f46\" fill-rule=\"evenodd\" fill-opacity=\"1\" stroke=\"#000000\" stroke-opacity=\"1\" stroke-width=\"3.2\"/>\n",
       "<circle clip-path=\"url(#clip002)\" cx=\"976.163\" cy=\"285.788\" r=\"14\" fill=\"#e26f46\" fill-rule=\"evenodd\" fill-opacity=\"1\" stroke=\"#000000\" stroke-opacity=\"1\" stroke-width=\"3.2\"/>\n",
       "<circle clip-path=\"url(#clip002)\" cx=\"1017.25\" cy=\"265.303\" r=\"14\" fill=\"#e26f46\" fill-rule=\"evenodd\" fill-opacity=\"1\" stroke=\"#000000\" stroke-opacity=\"1\" stroke-width=\"3.2\"/>\n",
       "<circle clip-path=\"url(#clip002)\" cx=\"1058.35\" cy=\"246.867\" r=\"14\" fill=\"#e26f46\" fill-rule=\"evenodd\" fill-opacity=\"1\" stroke=\"#000000\" stroke-opacity=\"1\" stroke-width=\"3.2\"/>\n",
       "<circle clip-path=\"url(#clip002)\" cx=\"1099.44\" cy=\"230.275\" r=\"14\" fill=\"#e26f46\" fill-rule=\"evenodd\" fill-opacity=\"1\" stroke=\"#000000\" stroke-opacity=\"1\" stroke-width=\"3.2\"/>\n",
       "<circle clip-path=\"url(#clip002)\" cx=\"1140.53\" cy=\"215.341\" r=\"14\" fill=\"#e26f46\" fill-rule=\"evenodd\" fill-opacity=\"1\" stroke=\"#000000\" stroke-opacity=\"1\" stroke-width=\"3.2\"/>\n",
       "<circle clip-path=\"url(#clip002)\" cx=\"1181.62\" cy=\"201.902\" r=\"14\" fill=\"#e26f46\" fill-rule=\"evenodd\" fill-opacity=\"1\" stroke=\"#000000\" stroke-opacity=\"1\" stroke-width=\"3.2\"/>\n",
       "<circle clip-path=\"url(#clip002)\" cx=\"1222.72\" cy=\"189.806\" r=\"14\" fill=\"#e26f46\" fill-rule=\"evenodd\" fill-opacity=\"1\" stroke=\"#000000\" stroke-opacity=\"1\" stroke-width=\"3.2\"/>\n",
       "<circle clip-path=\"url(#clip002)\" cx=\"1263.81\" cy=\"178.919\" r=\"14\" fill=\"#e26f46\" fill-rule=\"evenodd\" fill-opacity=\"1\" stroke=\"#000000\" stroke-opacity=\"1\" stroke-width=\"3.2\"/>\n",
       "<circle clip-path=\"url(#clip002)\" cx=\"1304.9\" cy=\"169.122\" r=\"14\" fill=\"#e26f46\" fill-rule=\"evenodd\" fill-opacity=\"1\" stroke=\"#000000\" stroke-opacity=\"1\" stroke-width=\"3.2\"/>\n",
       "<circle clip-path=\"url(#clip002)\" cx=\"1345.99\" cy=\"160.304\" r=\"14\" fill=\"#e26f46\" fill-rule=\"evenodd\" fill-opacity=\"1\" stroke=\"#000000\" stroke-opacity=\"1\" stroke-width=\"3.2\"/>\n",
       "<circle clip-path=\"url(#clip002)\" cx=\"1387.09\" cy=\"152.368\" r=\"14\" fill=\"#e26f46\" fill-rule=\"evenodd\" fill-opacity=\"1\" stroke=\"#000000\" stroke-opacity=\"1\" stroke-width=\"3.2\"/>\n",
       "<circle clip-path=\"url(#clip002)\" cx=\"1428.18\" cy=\"145.225\" r=\"14\" fill=\"#e26f46\" fill-rule=\"evenodd\" fill-opacity=\"1\" stroke=\"#000000\" stroke-opacity=\"1\" stroke-width=\"3.2\"/>\n",
       "<circle clip-path=\"url(#clip002)\" cx=\"1469.27\" cy=\"138.797\" r=\"14\" fill=\"#e26f46\" fill-rule=\"evenodd\" fill-opacity=\"1\" stroke=\"#000000\" stroke-opacity=\"1\" stroke-width=\"3.2\"/>\n",
       "<circle clip-path=\"url(#clip002)\" cx=\"1510.36\" cy=\"133.011\" r=\"14\" fill=\"#e26f46\" fill-rule=\"evenodd\" fill-opacity=\"1\" stroke=\"#000000\" stroke-opacity=\"1\" stroke-width=\"3.2\"/>\n",
       "<circle clip-path=\"url(#clip002)\" cx=\"1551.46\" cy=\"127.805\" r=\"14\" fill=\"#e26f46\" fill-rule=\"evenodd\" fill-opacity=\"1\" stroke=\"#000000\" stroke-opacity=\"1\" stroke-width=\"3.2\"/>\n",
       "<circle clip-path=\"url(#clip002)\" cx=\"1592.55\" cy=\"123.118\" r=\"14\" fill=\"#e26f46\" fill-rule=\"evenodd\" fill-opacity=\"1\" stroke=\"#000000\" stroke-opacity=\"1\" stroke-width=\"3.2\"/>\n",
       "<circle clip-path=\"url(#clip002)\" cx=\"1633.64\" cy=\"118.901\" r=\"14\" fill=\"#e26f46\" fill-rule=\"evenodd\" fill-opacity=\"1\" stroke=\"#000000\" stroke-opacity=\"1\" stroke-width=\"3.2\"/>\n",
       "<circle clip-path=\"url(#clip002)\" cx=\"1674.73\" cy=\"115.105\" r=\"14\" fill=\"#e26f46\" fill-rule=\"evenodd\" fill-opacity=\"1\" stroke=\"#000000\" stroke-opacity=\"1\" stroke-width=\"3.2\"/>\n",
       "<circle clip-path=\"url(#clip002)\" cx=\"1715.82\" cy=\"111.689\" r=\"14\" fill=\"#e26f46\" fill-rule=\"evenodd\" fill-opacity=\"1\" stroke=\"#000000\" stroke-opacity=\"1\" stroke-width=\"3.2\"/>\n",
       "<circle clip-path=\"url(#clip002)\" cx=\"1756.92\" cy=\"108.614\" r=\"14\" fill=\"#e26f46\" fill-rule=\"evenodd\" fill-opacity=\"1\" stroke=\"#000000\" stroke-opacity=\"1\" stroke-width=\"3.2\"/>\n",
       "<circle clip-path=\"url(#clip002)\" cx=\"1798.01\" cy=\"105.847\" r=\"14\" fill=\"#e26f46\" fill-rule=\"evenodd\" fill-opacity=\"1\" stroke=\"#000000\" stroke-opacity=\"1\" stroke-width=\"3.2\"/>\n",
       "<circle clip-path=\"url(#clip002)\" cx=\"1839.1\" cy=\"103.356\" r=\"14\" fill=\"#e26f46\" fill-rule=\"evenodd\" fill-opacity=\"1\" stroke=\"#000000\" stroke-opacity=\"1\" stroke-width=\"3.2\"/>\n",
       "<circle clip-path=\"url(#clip002)\" cx=\"1880.19\" cy=\"101.115\" r=\"14\" fill=\"#e26f46\" fill-rule=\"evenodd\" fill-opacity=\"1\" stroke=\"#000000\" stroke-opacity=\"1\" stroke-width=\"3.2\"/>\n",
       "<circle clip-path=\"url(#clip002)\" cx=\"1921.29\" cy=\"99.0978\" r=\"14\" fill=\"#e26f46\" fill-rule=\"evenodd\" fill-opacity=\"1\" stroke=\"#000000\" stroke-opacity=\"1\" stroke-width=\"3.2\"/>\n",
       "<circle clip-path=\"url(#clip002)\" cx=\"1962.38\" cy=\"97.2823\" r=\"14\" fill=\"#e26f46\" fill-rule=\"evenodd\" fill-opacity=\"1\" stroke=\"#000000\" stroke-opacity=\"1\" stroke-width=\"3.2\"/>\n",
       "<circle clip-path=\"url(#clip002)\" cx=\"2003.47\" cy=\"95.6483\" r=\"14\" fill=\"#e26f46\" fill-rule=\"evenodd\" fill-opacity=\"1\" stroke=\"#000000\" stroke-opacity=\"1\" stroke-width=\"3.2\"/>\n",
       "<circle clip-path=\"url(#clip002)\" cx=\"2044.56\" cy=\"94.1778\" r=\"14\" fill=\"#e26f46\" fill-rule=\"evenodd\" fill-opacity=\"1\" stroke=\"#000000\" stroke-opacity=\"1\" stroke-width=\"3.2\"/>\n",
       "<circle clip-path=\"url(#clip002)\" cx=\"2085.66\" cy=\"92.8542\" r=\"14\" fill=\"#e26f46\" fill-rule=\"evenodd\" fill-opacity=\"1\" stroke=\"#000000\" stroke-opacity=\"1\" stroke-width=\"3.2\"/>\n",
       "<circle clip-path=\"url(#clip002)\" cx=\"2126.75\" cy=\"91.6631\" r=\"14\" fill=\"#e26f46\" fill-rule=\"evenodd\" fill-opacity=\"1\" stroke=\"#000000\" stroke-opacity=\"1\" stroke-width=\"3.2\"/>\n",
       "<circle clip-path=\"url(#clip002)\" cx=\"2167.84\" cy=\"90.591\" r=\"14\" fill=\"#e26f46\" fill-rule=\"evenodd\" fill-opacity=\"1\" stroke=\"#000000\" stroke-opacity=\"1\" stroke-width=\"3.2\"/>\n",
       "<circle clip-path=\"url(#clip002)\" cx=\"2208.93\" cy=\"89.6262\" r=\"14\" fill=\"#e26f46\" fill-rule=\"evenodd\" fill-opacity=\"1\" stroke=\"#000000\" stroke-opacity=\"1\" stroke-width=\"3.2\"/>\n",
       "<circle clip-path=\"url(#clip002)\" cx=\"2250.03\" cy=\"88.7578\" r=\"14\" fill=\"#e26f46\" fill-rule=\"evenodd\" fill-opacity=\"1\" stroke=\"#000000\" stroke-opacity=\"1\" stroke-width=\"3.2\"/>\n",
       "<circle clip-path=\"url(#clip002)\" cx=\"2291.12\" cy=\"87.9763\" r=\"14\" fill=\"#e26f46\" fill-rule=\"evenodd\" fill-opacity=\"1\" stroke=\"#000000\" stroke-opacity=\"1\" stroke-width=\"3.2\"/>\n",
       "<polyline clip-path=\"url(#clip002)\" style=\"stroke:#3da44d; stroke-width:4; stroke-opacity:1; fill:none\" points=\"\n",
       "  236.501,1445.72 257.047,1445.72 257.047,1309.24 277.593,1309.24 277.593,1186.41 298.139,1186.41 298.139,1075.86 318.685,1075.86 318.685,976.37 339.231,976.37 \n",
       "  339.231,886.827 359.778,886.827 359.778,806.239 380.324,806.239 380.324,733.709 400.87,733.709 400.87,668.433 421.416,668.433 421.416,609.684 441.962,609.684 \n",
       "  441.962,556.81 462.508,556.81 462.508,509.223 483.055,509.223 483.055,466.395 503.601,466.395 503.601,427.85 524.147,427.85 524.147,393.159 544.693,393.159 \n",
       "  544.693,361.937 565.239,361.937 565.239,333.838 585.785,333.838 585.785,308.548 606.332,308.548 606.332,285.788 626.878,285.788 626.878,265.303 647.424,265.303 \n",
       "  647.424,246.867 667.97,246.867 667.97,230.275 688.516,230.275 688.516,215.341 709.062,215.341 709.062,201.902 729.609,201.902 729.609,189.806 750.155,189.806 \n",
       "  750.155,178.919 770.701,178.919 770.701,169.122 791.247,169.122 791.247,160.304 811.793,160.304 811.793,152.368 832.339,152.368 832.339,145.225 852.886,145.225 \n",
       "  852.886,138.797 873.432,138.797 873.432,133.011 893.978,133.011 893.978,127.805 914.524,127.805 914.524,123.118 935.07,123.118 935.07,118.901 955.616,118.901 \n",
       "  955.616,115.105 976.163,115.105 976.163,111.689 996.709,111.689 996.709,108.614 1017.25,108.614 1017.25,105.847 1037.8,105.847 1037.8,103.356 1058.35,103.356 \n",
       "  1058.35,101.115 1078.89,101.115 1078.89,99.0978 1099.44,99.0978 1099.44,97.2823 1119.99,97.2823 1119.99,95.6483 1140.53,95.6483 1140.53,94.1778 1161.08,94.1778 \n",
       "  1161.08,92.8542 1181.62,92.8542 1181.62,91.6631 1202.17,91.6631 1202.17,90.591 1222.72,90.591 1222.72,89.6262 1243.26,89.6262 1243.26,88.7578 1263.81,88.7578 \n",
       "  1263.81,87.9763 \n",
       "  \"/>\n",
       "<circle clip-path=\"url(#clip002)\" cx=\"257.047\" cy=\"1309.24\" r=\"14\" fill=\"#c271d2\" fill-rule=\"evenodd\" fill-opacity=\"1\" stroke=\"#000000\" stroke-opacity=\"1\" stroke-width=\"3.2\"/>\n",
       "<circle clip-path=\"url(#clip002)\" cx=\"277.593\" cy=\"1186.41\" r=\"14\" fill=\"#c271d2\" fill-rule=\"evenodd\" fill-opacity=\"1\" stroke=\"#000000\" stroke-opacity=\"1\" stroke-width=\"3.2\"/>\n",
       "<circle clip-path=\"url(#clip002)\" cx=\"298.139\" cy=\"1075.86\" r=\"14\" fill=\"#c271d2\" fill-rule=\"evenodd\" fill-opacity=\"1\" stroke=\"#000000\" stroke-opacity=\"1\" stroke-width=\"3.2\"/>\n",
       "<circle clip-path=\"url(#clip002)\" cx=\"318.685\" cy=\"976.37\" r=\"14\" fill=\"#c271d2\" fill-rule=\"evenodd\" fill-opacity=\"1\" stroke=\"#000000\" stroke-opacity=\"1\" stroke-width=\"3.2\"/>\n",
       "<circle clip-path=\"url(#clip002)\" cx=\"339.231\" cy=\"886.827\" r=\"14\" fill=\"#c271d2\" fill-rule=\"evenodd\" fill-opacity=\"1\" stroke=\"#000000\" stroke-opacity=\"1\" stroke-width=\"3.2\"/>\n",
       "<circle clip-path=\"url(#clip002)\" cx=\"359.778\" cy=\"806.239\" r=\"14\" fill=\"#c271d2\" fill-rule=\"evenodd\" fill-opacity=\"1\" stroke=\"#000000\" stroke-opacity=\"1\" stroke-width=\"3.2\"/>\n",
       "<circle clip-path=\"url(#clip002)\" cx=\"380.324\" cy=\"733.709\" r=\"14\" fill=\"#c271d2\" fill-rule=\"evenodd\" fill-opacity=\"1\" stroke=\"#000000\" stroke-opacity=\"1\" stroke-width=\"3.2\"/>\n",
       "<circle clip-path=\"url(#clip002)\" cx=\"400.87\" cy=\"668.433\" r=\"14\" fill=\"#c271d2\" fill-rule=\"evenodd\" fill-opacity=\"1\" stroke=\"#000000\" stroke-opacity=\"1\" stroke-width=\"3.2\"/>\n",
       "<circle clip-path=\"url(#clip002)\" cx=\"421.416\" cy=\"609.684\" r=\"14\" fill=\"#c271d2\" fill-rule=\"evenodd\" fill-opacity=\"1\" stroke=\"#000000\" stroke-opacity=\"1\" stroke-width=\"3.2\"/>\n",
       "<circle clip-path=\"url(#clip002)\" cx=\"441.962\" cy=\"556.81\" r=\"14\" fill=\"#c271d2\" fill-rule=\"evenodd\" fill-opacity=\"1\" stroke=\"#000000\" stroke-opacity=\"1\" stroke-width=\"3.2\"/>\n",
       "<circle clip-path=\"url(#clip002)\" cx=\"462.508\" cy=\"509.223\" r=\"14\" fill=\"#c271d2\" fill-rule=\"evenodd\" fill-opacity=\"1\" stroke=\"#000000\" stroke-opacity=\"1\" stroke-width=\"3.2\"/>\n",
       "<circle clip-path=\"url(#clip002)\" cx=\"483.055\" cy=\"466.395\" r=\"14\" fill=\"#c271d2\" fill-rule=\"evenodd\" fill-opacity=\"1\" stroke=\"#000000\" stroke-opacity=\"1\" stroke-width=\"3.2\"/>\n",
       "<circle clip-path=\"url(#clip002)\" cx=\"503.601\" cy=\"427.85\" r=\"14\" fill=\"#c271d2\" fill-rule=\"evenodd\" fill-opacity=\"1\" stroke=\"#000000\" stroke-opacity=\"1\" stroke-width=\"3.2\"/>\n",
       "<circle clip-path=\"url(#clip002)\" cx=\"524.147\" cy=\"393.159\" r=\"14\" fill=\"#c271d2\" fill-rule=\"evenodd\" fill-opacity=\"1\" stroke=\"#000000\" stroke-opacity=\"1\" stroke-width=\"3.2\"/>\n",
       "<circle clip-path=\"url(#clip002)\" cx=\"544.693\" cy=\"361.937\" r=\"14\" fill=\"#c271d2\" fill-rule=\"evenodd\" fill-opacity=\"1\" stroke=\"#000000\" stroke-opacity=\"1\" stroke-width=\"3.2\"/>\n",
       "<circle clip-path=\"url(#clip002)\" cx=\"565.239\" cy=\"333.838\" r=\"14\" fill=\"#c271d2\" fill-rule=\"evenodd\" fill-opacity=\"1\" stroke=\"#000000\" stroke-opacity=\"1\" stroke-width=\"3.2\"/>\n",
       "<circle clip-path=\"url(#clip002)\" cx=\"585.785\" cy=\"308.548\" r=\"14\" fill=\"#c271d2\" fill-rule=\"evenodd\" fill-opacity=\"1\" stroke=\"#000000\" stroke-opacity=\"1\" stroke-width=\"3.2\"/>\n",
       "<circle clip-path=\"url(#clip002)\" cx=\"606.332\" cy=\"285.788\" r=\"14\" fill=\"#c271d2\" fill-rule=\"evenodd\" fill-opacity=\"1\" stroke=\"#000000\" stroke-opacity=\"1\" stroke-width=\"3.2\"/>\n",
       "<circle clip-path=\"url(#clip002)\" cx=\"626.878\" cy=\"265.303\" r=\"14\" fill=\"#c271d2\" fill-rule=\"evenodd\" fill-opacity=\"1\" stroke=\"#000000\" stroke-opacity=\"1\" stroke-width=\"3.2\"/>\n",
       "<circle clip-path=\"url(#clip002)\" cx=\"647.424\" cy=\"246.867\" r=\"14\" fill=\"#c271d2\" fill-rule=\"evenodd\" fill-opacity=\"1\" stroke=\"#000000\" stroke-opacity=\"1\" stroke-width=\"3.2\"/>\n",
       "<circle clip-path=\"url(#clip002)\" cx=\"667.97\" cy=\"230.275\" r=\"14\" fill=\"#c271d2\" fill-rule=\"evenodd\" fill-opacity=\"1\" stroke=\"#000000\" stroke-opacity=\"1\" stroke-width=\"3.2\"/>\n",
       "<circle clip-path=\"url(#clip002)\" cx=\"688.516\" cy=\"215.341\" r=\"14\" fill=\"#c271d2\" fill-rule=\"evenodd\" fill-opacity=\"1\" stroke=\"#000000\" stroke-opacity=\"1\" stroke-width=\"3.2\"/>\n",
       "<circle clip-path=\"url(#clip002)\" cx=\"709.062\" cy=\"201.902\" r=\"14\" fill=\"#c271d2\" fill-rule=\"evenodd\" fill-opacity=\"1\" stroke=\"#000000\" stroke-opacity=\"1\" stroke-width=\"3.2\"/>\n",
       "<circle clip-path=\"url(#clip002)\" cx=\"729.609\" cy=\"189.806\" r=\"14\" fill=\"#c271d2\" fill-rule=\"evenodd\" fill-opacity=\"1\" stroke=\"#000000\" stroke-opacity=\"1\" stroke-width=\"3.2\"/>\n",
       "<circle clip-path=\"url(#clip002)\" cx=\"750.155\" cy=\"178.919\" r=\"14\" fill=\"#c271d2\" fill-rule=\"evenodd\" fill-opacity=\"1\" stroke=\"#000000\" stroke-opacity=\"1\" stroke-width=\"3.2\"/>\n",
       "<circle clip-path=\"url(#clip002)\" cx=\"770.701\" cy=\"169.122\" r=\"14\" fill=\"#c271d2\" fill-rule=\"evenodd\" fill-opacity=\"1\" stroke=\"#000000\" stroke-opacity=\"1\" stroke-width=\"3.2\"/>\n",
       "<circle clip-path=\"url(#clip002)\" cx=\"791.247\" cy=\"160.304\" r=\"14\" fill=\"#c271d2\" fill-rule=\"evenodd\" fill-opacity=\"1\" stroke=\"#000000\" stroke-opacity=\"1\" stroke-width=\"3.2\"/>\n",
       "<circle clip-path=\"url(#clip002)\" cx=\"811.793\" cy=\"152.368\" r=\"14\" fill=\"#c271d2\" fill-rule=\"evenodd\" fill-opacity=\"1\" stroke=\"#000000\" stroke-opacity=\"1\" stroke-width=\"3.2\"/>\n",
       "<circle clip-path=\"url(#clip002)\" cx=\"832.339\" cy=\"145.225\" r=\"14\" fill=\"#c271d2\" fill-rule=\"evenodd\" fill-opacity=\"1\" stroke=\"#000000\" stroke-opacity=\"1\" stroke-width=\"3.2\"/>\n",
       "<circle clip-path=\"url(#clip002)\" cx=\"852.886\" cy=\"138.797\" r=\"14\" fill=\"#c271d2\" fill-rule=\"evenodd\" fill-opacity=\"1\" stroke=\"#000000\" stroke-opacity=\"1\" stroke-width=\"3.2\"/>\n",
       "<circle clip-path=\"url(#clip002)\" cx=\"873.432\" cy=\"133.011\" r=\"14\" fill=\"#c271d2\" fill-rule=\"evenodd\" fill-opacity=\"1\" stroke=\"#000000\" stroke-opacity=\"1\" stroke-width=\"3.2\"/>\n",
       "<circle clip-path=\"url(#clip002)\" cx=\"893.978\" cy=\"127.805\" r=\"14\" fill=\"#c271d2\" fill-rule=\"evenodd\" fill-opacity=\"1\" stroke=\"#000000\" stroke-opacity=\"1\" stroke-width=\"3.2\"/>\n",
       "<circle clip-path=\"url(#clip002)\" cx=\"914.524\" cy=\"123.118\" r=\"14\" fill=\"#c271d2\" fill-rule=\"evenodd\" fill-opacity=\"1\" stroke=\"#000000\" stroke-opacity=\"1\" stroke-width=\"3.2\"/>\n",
       "<circle clip-path=\"url(#clip002)\" cx=\"935.07\" cy=\"118.901\" r=\"14\" fill=\"#c271d2\" fill-rule=\"evenodd\" fill-opacity=\"1\" stroke=\"#000000\" stroke-opacity=\"1\" stroke-width=\"3.2\"/>\n",
       "<circle clip-path=\"url(#clip002)\" cx=\"955.616\" cy=\"115.105\" r=\"14\" fill=\"#c271d2\" fill-rule=\"evenodd\" fill-opacity=\"1\" stroke=\"#000000\" stroke-opacity=\"1\" stroke-width=\"3.2\"/>\n",
       "<circle clip-path=\"url(#clip002)\" cx=\"976.163\" cy=\"111.689\" r=\"14\" fill=\"#c271d2\" fill-rule=\"evenodd\" fill-opacity=\"1\" stroke=\"#000000\" stroke-opacity=\"1\" stroke-width=\"3.2\"/>\n",
       "<circle clip-path=\"url(#clip002)\" cx=\"996.709\" cy=\"108.614\" r=\"14\" fill=\"#c271d2\" fill-rule=\"evenodd\" fill-opacity=\"1\" stroke=\"#000000\" stroke-opacity=\"1\" stroke-width=\"3.2\"/>\n",
       "<circle clip-path=\"url(#clip002)\" cx=\"1017.25\" cy=\"105.847\" r=\"14\" fill=\"#c271d2\" fill-rule=\"evenodd\" fill-opacity=\"1\" stroke=\"#000000\" stroke-opacity=\"1\" stroke-width=\"3.2\"/>\n",
       "<circle clip-path=\"url(#clip002)\" cx=\"1037.8\" cy=\"103.356\" r=\"14\" fill=\"#c271d2\" fill-rule=\"evenodd\" fill-opacity=\"1\" stroke=\"#000000\" stroke-opacity=\"1\" stroke-width=\"3.2\"/>\n",
       "<circle clip-path=\"url(#clip002)\" cx=\"1058.35\" cy=\"101.115\" r=\"14\" fill=\"#c271d2\" fill-rule=\"evenodd\" fill-opacity=\"1\" stroke=\"#000000\" stroke-opacity=\"1\" stroke-width=\"3.2\"/>\n",
       "<circle clip-path=\"url(#clip002)\" cx=\"1078.89\" cy=\"99.0978\" r=\"14\" fill=\"#c271d2\" fill-rule=\"evenodd\" fill-opacity=\"1\" stroke=\"#000000\" stroke-opacity=\"1\" stroke-width=\"3.2\"/>\n",
       "<circle clip-path=\"url(#clip002)\" cx=\"1099.44\" cy=\"97.2823\" r=\"14\" fill=\"#c271d2\" fill-rule=\"evenodd\" fill-opacity=\"1\" stroke=\"#000000\" stroke-opacity=\"1\" stroke-width=\"3.2\"/>\n",
       "<circle clip-path=\"url(#clip002)\" cx=\"1119.99\" cy=\"95.6483\" r=\"14\" fill=\"#c271d2\" fill-rule=\"evenodd\" fill-opacity=\"1\" stroke=\"#000000\" stroke-opacity=\"1\" stroke-width=\"3.2\"/>\n",
       "<circle clip-path=\"url(#clip002)\" cx=\"1140.53\" cy=\"94.1778\" r=\"14\" fill=\"#c271d2\" fill-rule=\"evenodd\" fill-opacity=\"1\" stroke=\"#000000\" stroke-opacity=\"1\" stroke-width=\"3.2\"/>\n",
       "<circle clip-path=\"url(#clip002)\" cx=\"1161.08\" cy=\"92.8542\" r=\"14\" fill=\"#c271d2\" fill-rule=\"evenodd\" fill-opacity=\"1\" stroke=\"#000000\" stroke-opacity=\"1\" stroke-width=\"3.2\"/>\n",
       "<circle clip-path=\"url(#clip002)\" cx=\"1181.62\" cy=\"91.6631\" r=\"14\" fill=\"#c271d2\" fill-rule=\"evenodd\" fill-opacity=\"1\" stroke=\"#000000\" stroke-opacity=\"1\" stroke-width=\"3.2\"/>\n",
       "<circle clip-path=\"url(#clip002)\" cx=\"1202.17\" cy=\"90.591\" r=\"14\" fill=\"#c271d2\" fill-rule=\"evenodd\" fill-opacity=\"1\" stroke=\"#000000\" stroke-opacity=\"1\" stroke-width=\"3.2\"/>\n",
       "<circle clip-path=\"url(#clip002)\" cx=\"1222.72\" cy=\"89.6262\" r=\"14\" fill=\"#c271d2\" fill-rule=\"evenodd\" fill-opacity=\"1\" stroke=\"#000000\" stroke-opacity=\"1\" stroke-width=\"3.2\"/>\n",
       "<circle clip-path=\"url(#clip002)\" cx=\"1243.26\" cy=\"88.7578\" r=\"14\" fill=\"#c271d2\" fill-rule=\"evenodd\" fill-opacity=\"1\" stroke=\"#000000\" stroke-opacity=\"1\" stroke-width=\"3.2\"/>\n",
       "<circle clip-path=\"url(#clip002)\" cx=\"1263.81\" cy=\"87.9763\" r=\"14\" fill=\"#c271d2\" fill-rule=\"evenodd\" fill-opacity=\"1\" stroke=\"#000000\" stroke-opacity=\"1\" stroke-width=\"3.2\"/>\n",
       "<path clip-path=\"url(#clip000)\" d=\"\n",
       "M1886.55 276.658 L2280.16 276.658 L2280.16 95.2176 L1886.55 95.2176  Z\n",
       "  \" fill=\"#ffffff\" fill-rule=\"evenodd\" fill-opacity=\"1\"/>\n",
       "<polyline clip-path=\"url(#clip000)\" style=\"stroke:#000000; stroke-width:4; stroke-opacity:1; fill:none\" points=\"\n",
       "  1886.55,276.658 2280.16,276.658 2280.16,95.2176 1886.55,95.2176 1886.55,276.658 \n",
       "  \"/>\n",
       "<circle clip-path=\"url(#clip000)\" cx=\"1983.35\" cy=\"155.698\" r=\"23\" fill=\"#e26f46\" fill-rule=\"evenodd\" fill-opacity=\"1\" stroke=\"#000000\" stroke-opacity=\"1\" stroke-width=\"5.12\"/>\n",
       "<path clip-path=\"url(#clip000)\" d=\"M 0 0 M2100.77 142.955 Q2098.41 141.334 2092.87 141.334 Q2087.02 141.334 2087.02 144.043 Q2087.02 146.172 2093.13 147.283 Q2097.94 148.14 2100.65 150.732 Q2103.94 153.857 2103.94 160.269 Q2103.94 166.404 2100.77 170.015 Q2097.6 173.649 2092.04 173.649 Q2086.51 173.649 2083.31 170.015 Q2080.14 166.404 2080.14 160.038 Q2080.14 155.316 2083.31 151.496 Q2084.54 150.015 2086.28 149.181 Q2082.67 147.353 2082.67 144.089 Q2082.67 137.793 2092.87 137.793 Q2097.99 137.793 2100.77 139.413 L2100.77 142.955 M2089.47 150.339 Q2087.9 151.01 2086.62 152.7 Q2084.63 155.316 2084.63 160.038 Q2084.63 164.737 2086.6 167.376 Q2088.59 170.038 2092.04 170.038 Q2095.44 170.038 2097.43 167.353 Q2099.42 164.667 2099.42 160.269 Q2099.42 155.663 2097.32 153.441 Q2095.07 151.056 2092.16 150.802 Q2090.67 150.663 2089.47 150.339 Z\" fill=\"#000000\" fill-rule=\"evenodd\" fill-opacity=\"1\" /><path clip-path=\"url(#clip000)\" d=\"M 0 0 M2124.03 151.45 L2153.71 151.45 L2153.71 155.339 L2124.03 155.339 L2124.03 151.45 M2124.03 160.894 L2153.71 160.894 L2153.71 164.829 L2124.03 164.829 L2124.03 160.894 Z\" fill=\"#000000\" fill-rule=\"evenodd\" fill-opacity=\"1\" /><path clip-path=\"url(#clip000)\" d=\"M 0 0 M2174.66 169.042 L2182.29 169.042 L2182.29 142.677 L2173.98 144.343 L2173.98 140.084 L2182.25 138.418 L2186.92 138.418 L2186.92 169.042 L2194.56 169.042 L2194.56 172.978 L2174.66 172.978 L2174.66 169.042 Z\" fill=\"#000000\" fill-rule=\"evenodd\" fill-opacity=\"1\" /><circle clip-path=\"url(#clip000)\" cx=\"1983.35\" cy=\"216.178\" r=\"23\" fill=\"#c271d2\" fill-rule=\"evenodd\" fill-opacity=\"1\" stroke=\"#000000\" stroke-opacity=\"1\" stroke-width=\"5.12\"/>\n",
       "<path clip-path=\"url(#clip000)\" d=\"M 0 0 M2100.77 203.435 Q2098.41 201.814 2092.87 201.814 Q2087.02 201.814 2087.02 204.523 Q2087.02 206.652 2093.13 207.763 Q2097.94 208.62 2100.65 211.212 Q2103.94 214.337 2103.94 220.749 Q2103.94 226.884 2100.77 230.495 Q2097.6 234.129 2092.04 234.129 Q2086.51 234.129 2083.31 230.495 Q2080.14 226.884 2080.14 220.518 Q2080.14 215.796 2083.31 211.976 Q2084.54 210.495 2086.28 209.661 Q2082.67 207.833 2082.67 204.569 Q2082.67 198.273 2092.87 198.273 Q2097.99 198.273 2100.77 199.893 L2100.77 203.435 M2089.47 210.819 Q2087.9 211.49 2086.62 213.18 Q2084.63 215.796 2084.63 220.518 Q2084.63 225.217 2086.6 227.856 Q2088.59 230.518 2092.04 230.518 Q2095.44 230.518 2097.43 227.833 Q2099.42 225.147 2099.42 220.749 Q2099.42 216.143 2097.32 213.921 Q2095.07 211.536 2092.16 211.282 Q2090.67 211.143 2089.47 210.819 Z\" fill=\"#000000\" fill-rule=\"evenodd\" fill-opacity=\"1\" /><path clip-path=\"url(#clip000)\" d=\"M 0 0 M2124.03 211.93 L2153.71 211.93 L2153.71 215.819 L2124.03 215.819 L2124.03 211.93 M2124.03 221.374 L2153.71 221.374 L2153.71 225.309 L2124.03 225.309 L2124.03 221.374 Z\" fill=\"#000000\" fill-rule=\"evenodd\" fill-opacity=\"1\" /><path clip-path=\"url(#clip000)\" d=\"M 0 0 M2183.85 201.976 Q2180.23 201.976 2178.41 205.541 Q2176.6 209.083 2176.6 216.212 Q2176.6 223.319 2178.41 226.884 Q2180.23 230.425 2183.85 230.425 Q2187.48 230.425 2189.29 226.884 Q2191.11 223.319 2191.11 216.212 Q2191.11 209.083 2189.29 205.541 Q2187.48 201.976 2183.85 201.976 M2183.85 198.273 Q2189.66 198.273 2192.71 202.879 Q2195.79 207.462 2195.79 216.212 Q2195.79 224.939 2192.71 229.546 Q2189.66 234.129 2183.85 234.129 Q2178.04 234.129 2174.96 229.546 Q2171.9 224.939 2171.9 216.212 Q2171.9 207.462 2174.96 202.879 Q2178.04 198.273 2183.85 198.273 Z\" fill=\"#000000\" fill-rule=\"evenodd\" fill-opacity=\"1\" /><path clip-path=\"url(#clip000)\" d=\"M 0 0 M2200.86 227.578 L2205.74 227.578 L2205.74 233.458 L2200.86 233.458 L2200.86 227.578 Z\" fill=\"#000000\" fill-rule=\"evenodd\" fill-opacity=\"1\" /><path clip-path=\"url(#clip000)\" d=\"M 0 0 M2210.86 198.898 L2229.22 198.898 L2229.22 202.833 L2215.14 202.833 L2215.14 211.305 Q2216.16 210.958 2217.18 210.796 Q2218.2 210.61 2219.22 210.61 Q2225 210.61 2228.38 213.782 Q2231.76 216.953 2231.76 222.37 Q2231.76 227.948 2228.29 231.05 Q2224.82 234.129 2218.5 234.129 Q2216.32 234.129 2214.05 233.758 Q2211.81 233.388 2209.4 232.647 L2209.4 227.948 Q2211.48 229.083 2213.71 229.638 Q2215.93 230.194 2218.41 230.194 Q2222.41 230.194 2224.75 228.087 Q2227.09 225.981 2227.09 222.37 Q2227.09 218.759 2224.75 216.652 Q2222.41 214.546 2218.41 214.546 Q2216.53 214.546 2214.66 214.962 Q2212.8 215.379 2210.86 216.259 L2210.86 198.898 Z\" fill=\"#000000\" fill-rule=\"evenodd\" fill-opacity=\"1\" /></svg>\n"
      ]
     },
     "execution_count": 18,
     "metadata": {},
     "output_type": "execute_result"
    }
   ],
   "source": [
    "p = 0.1\n",
    "N = 50\n",
    "δ = 0.5\n",
    "\n",
    "plot()\n",
    "plot_cumulative!(p, N, 1.0, label=\"δ = 1\")\n",
    "plot_cumulative!(p, N, δ, label=\"δ = $(δ)\")"
   ]
  },
  {
   "cell_type": "code",
   "execution_count": 19,
   "metadata": {},
   "outputs": [
    {
     "data": {
      "text/html": [
       "<script>\n",
       "// Immediately-invoked-function-expression to avoid global variables.\n",
       "(function() {\n",
       "    var warning_div = document.getElementById(\"webio-warning-11283549513745776253\");\n",
       "    var hide = function () {\n",
       "        var script = document.getElementById(\"webio-setup-4134278438810833328\");\n",
       "        var parent = script && script.parentElement;\n",
       "        var grandparent = parent && parent.parentElement;\n",
       "        if (grandparent) {\n",
       "            grandparent.style.display = \"none\";\n",
       "        }\n",
       "        warning_div.style.display = \"none\";\n",
       "    };\n",
       "    if (typeof Jupyter !== \"undefined\") {\n",
       "        console.log(\"WebIO detected Jupyter notebook environment.\");\n",
       "        // Jupyter notebook.\n",
       "        var extensions = (\n",
       "            Jupyter\n",
       "            && Jupyter.notebook.config.data\n",
       "            && Jupyter.notebook.config.data.load_extensions\n",
       "        );\n",
       "        if (extensions && extensions[\"webio-jupyter-notebook\"]) {\n",
       "            // Extension already loaded.\n",
       "            console.log(\"Jupyter WebIO nbextension detected; not loading ad-hoc.\");\n",
       "            hide();\n",
       "            return;\n",
       "        }\n",
       "    } else if (window.location.pathname.includes(\"/lab\")) {\n",
       "        // Guessing JupyterLa\n",
       "        console.log(\"Jupyter Lab detected; make sure the @webio/jupyter-lab-provider labextension is installed.\");\n",
       "        hide();\n",
       "        return;\n",
       "    }\n",
       "})();\n",
       "\n",
       "</script>\n",
       "<p\n",
       "    id=\"webio-warning-11283549513745776253\"\n",
       "    class=\"output_text output_stderr\"\n",
       "    style=\"padding: 1em; font-weight: bold;\"\n",
       ">\n",
       "    Unable to load WebIO. Please make sure WebIO works for your Jupyter client.\n",
       "    For troubleshooting, please see <a href=\"https://juliagizmos.github.io/WebIO.jl/latest/providers/ijulia/\">\n",
       "    the WebIO/IJulia documentation</a>.\n",
       "    <!-- TODO: link to installation docs. -->\n",
       "</p>\n"
      ],
      "text/plain": [
       "HTML{String}(\"<script>\\n// Immediately-invoked-function-expression to avoid global variables.\\n(function() {\\n    var warning_div = document.getElementById(\\\"webio-warning-11283549513745776253\\\");\\n    var hide = function () {\\n        var script = document.getElementById(\\\"webio-setup-4134278438810833328\\\");\\n        var parent = script && script.parentElement;\\n        var grandparent = parent && parent.parentElement;\\n        if (grandparent) {\\n            grandparent.style.display = \\\"none\\\";\\n        }\\n        warning_div.style.display = \\\"none\\\";\\n    };\\n    if (typeof Jupyter !== \\\"undefined\\\") {\\n        console.log(\\\"WebIO detected Jupyter notebook environment.\\\");\\n        // Jupyter notebook.\\n        var extensions = (\\n            Jupyter\\n            && Jupyter.notebook.config.data\\n            && Jupyter.notebook.config.data.load_extensions\\n        );\\n        if (extensions && extensions[\\\"webio-jupyter-notebook\\\"]) {\\n            // Extension already loaded.\\n            console.log(\\\"Jupyter WebIO nbextension detected; not loading ad-hoc.\\\");\\n            hide();\\n            return;\\n        }\\n    } else if (window.location.pathname.includes(\\\"/lab\\\")) {\\n        // Guessing JupyterLa\\n        console.log(\\\"Jupyter Lab detected; make sure the @webio/jupyter-lab-provider labextension is installed.\\\");\\n        hide();\\n        return;\\n    }\\n})();\\n\\n</script>\\n<p\\n    id=\\\"webio-warning-11283549513745776253\\\"\\n    class=\\\"output_text output_stderr\\\"\\n    style=\\\"padding: 1em; font-weight: bold;\\\"\\n>\\n    Unable to load WebIO. Please make sure WebIO works for your Jupyter client.\\n    For troubleshooting, please see <a href=\\\"https://juliagizmos.github.io/WebIO.jl/latest/providers/ijulia/\\\">\\n    the WebIO/IJulia documentation</a>.\\n    <!-- TODO: link to installation docs. -->\\n</p>\\n\")"
      ]
     },
     "metadata": {},
     "output_type": "display_data"
    }
   ],
   "source": [
    "using Interact"
   ]
  },
  {
   "cell_type": "code",
   "execution_count": 22,
   "metadata": {},
   "outputs": [
    {
     "data": {
      "application/vnd.webio.node+json": {
       "children": [
        {
         "children": [
          {
           "children": [
            {
             "children": [
              {
               "children": [
                {
                 "children": [
                  "p₂"
                 ],
                 "instanceArgs": {
                  "namespace": "html",
                  "tag": "label"
                 },
                 "nodeType": "DOM",
                 "props": {
                  "className": "interact ",
                  "style": {
                   "padding": "5px 10px 0px 10px"
                  }
                 },
                 "type": "node"
                }
               ],
               "instanceArgs": {
                "namespace": "html",
                "tag": "div"
               },
               "nodeType": "DOM",
               "props": {
                "className": "interact-flex-row-left"
               },
               "type": "node"
              },
              {
               "children": [
                {
                 "children": [],
                 "instanceArgs": {
                  "namespace": "html",
                  "tag": "input"
                 },
                 "nodeType": "DOM",
                 "props": {
                  "attributes": {
                   "data-bind": "numericValue: index, valueUpdate: 'input', event: {change: function (){this.changes(this.changes()+1)}}",
                   "orient": "horizontal",
                   "type": "range"
                  },
                  "className": "slider slider is-fullwidth",
                  "max": 100,
                  "min": 1,
                  "step": 1,
                  "style": {}
                 },
                 "type": "node"
                }
               ],
               "instanceArgs": {
                "namespace": "html",
                "tag": "div"
               },
               "nodeType": "DOM",
               "props": {
                "className": "interact-flex-row-center"
               },
               "type": "node"
              },
              {
               "children": [
                {
                 "children": [],
                 "instanceArgs": {
                  "namespace": "html",
                  "tag": "p"
                 },
                 "nodeType": "DOM",
                 "props": {
                  "attributes": {
                   "data-bind": "text: formatted_val"
                  }
                 },
                 "type": "node"
                }
               ],
               "instanceArgs": {
                "namespace": "html",
                "tag": "div"
               },
               "nodeType": "DOM",
               "props": {
                "className": "interact-flex-row-right"
               },
               "type": "node"
              }
             ],
             "instanceArgs": {
              "namespace": "html",
              "tag": "div"
             },
             "nodeType": "DOM",
             "props": {
              "className": "interact-flex-row interact-widget"
             },
             "type": "node"
            }
           ],
           "instanceArgs": {
            "handlers": {
             "changes": [
              "(function (val){return (val!=this.model[\"changes\"]()) ? (this.valueFromJulia[\"changes\"]=true, this.model[\"changes\"](val)) : undefined})"
             ],
             "index": [
              "(function (val){return (val!=this.model[\"index\"]()) ? (this.valueFromJulia[\"index\"]=true, this.model[\"index\"](val)) : undefined})"
             ]
            },
            "id": "11501610703138888992",
            "imports": {
             "data": [
              {
               "name": "knockout",
               "type": "js",
               "url": "/assetserver/4e15ea8f38f5d33bf0b2930cb09c8089f78b114e-knockout.js"
              },
              {
               "name": "knockout_punches",
               "type": "js",
               "url": "/assetserver/6967e46b2259ea2e5c469b61c410326b52955db7-knockout_punches.js"
              },
              {
               "name": null,
               "type": "js",
               "url": "/assetserver/a643ec32b5fd67f0647ab1f378e6bc75a94bf7ef-all.js"
              },
              {
               "name": null,
               "type": "css",
               "url": "/assetserver/c4a428321098a6b37c6165665184ef1be8f91e08-style.css"
              },
              {
               "name": null,
               "type": "css",
               "url": "/assetserver/62690f06d5dfb4c711812ef88e307907ed9b059b-bulma_confined.min.css"
              }
             ],
             "type": "async_block"
            },
            "mount_callbacks": [
             "function () {\n    var handler = (function (ko, koPunches) {\n    ko.punches.enableAll();\n    ko.bindingHandlers.numericValue = {\n        init: function(element, valueAccessor, allBindings, data, context) {\n            var stringified = ko.observable(ko.unwrap(valueAccessor()));\n            stringified.subscribe(function(value) {\n                var val = parseFloat(value);\n                if (!isNaN(val)) {\n                    valueAccessor()(val);\n                }\n            });\n            valueAccessor().subscribe(function(value) {\n                var str = JSON.stringify(value);\n                if ((str == \"0\") && ([\"-0\", \"-0.\"].indexOf(stringified()) >= 0))\n                     return;\n                 if ([\"null\", \"\"].indexOf(str) >= 0)\n                     return;\n                stringified(str);\n            });\n            ko.applyBindingsToNode(\n                element,\n                {\n                    value: stringified,\n                    valueUpdate: allBindings.get('valueUpdate'),\n                },\n                context,\n            );\n        }\n    };\n    var json_data = {\"formatted_vals\":[\"0.01\",\"0.02\",\"0.03\",\"0.04\",\"0.05\",\"0.06\",\"0.07\",\"0.08\",\"0.09\",\"0.1\",\"0.11\",\"0.12\",\"0.13\",\"0.14\",\"0.15\",\"0.16\",\"0.17\",\"0.18\",\"0.19\",\"0.2\",\"0.21\",\"0.22\",\"0.23\",\"0.24\",\"0.25\",\"0.26\",\"0.27\",\"0.28\",\"0.29\",\"0.3\",\"0.31\",\"0.32\",\"0.33\",\"0.34\",\"0.35\",\"0.36\",\"0.37\",\"0.38\",\"0.39\",\"0.4\",\"0.41\",\"0.42\",\"0.43\",\"0.44\",\"0.45\",\"0.46\",\"0.47\",\"0.48\",\"0.49\",\"0.5\",\"0.51\",\"0.52\",\"0.53\",\"0.54\",\"0.55\",\"0.56\",\"0.57\",\"0.58\",\"0.59\",\"0.6\",\"0.61\",\"0.62\",\"0.63\",\"0.64\",\"0.65\",\"0.66\",\"0.67\",\"0.68\",\"0.69\",\"0.7\",\"0.71\",\"0.72\",\"0.73\",\"0.74\",\"0.75\",\"0.76\",\"0.77\",\"0.78\",\"0.79\",\"0.8\",\"0.81\",\"0.82\",\"0.83\",\"0.84\",\"0.85\",\"0.86\",\"0.87\",\"0.88\",\"0.89\",\"0.9\",\"0.91\",\"0.92\",\"0.93\",\"0.94\",\"0.95\",\"0.96\",\"0.97\",\"0.98\",\"0.99\",\"1.0\"],\"changes\":WebIO.getval({\"name\":\"changes\",\"scope\":\"11501610703138888992\",\"id\":\"11749936742132412495\",\"type\":\"observable\"}),\"index\":WebIO.getval({\"name\":\"index\",\"scope\":\"11501610703138888992\",\"id\":\"606534905107729669\",\"type\":\"observable\"})};\n    var self = this;\n    function AppViewModel() {\n        for (var key in json_data) {\n            var el = json_data[key];\n            this[key] = Array.isArray(el) ? ko.observableArray(el) : ko.observable(el);\n        }\n        \n        [this[\"formatted_val\"]=ko.computed(    function(){\n        return this.formatted_vals()[parseInt(this.index())-(1)];\n    }\n,this)]\n        [this[\"changes\"].subscribe((function (val){!(this.valueFromJulia[\"changes\"]) ? (WebIO.setval({\"name\":\"changes\",\"scope\":\"11501610703138888992\",\"id\":\"11749936742132412495\",\"type\":\"observable\"},val)) : undefined; return this.valueFromJulia[\"changes\"]=false}),self),this[\"index\"].subscribe((function (val){!(this.valueFromJulia[\"index\"]) ? (WebIO.setval({\"name\":\"index\",\"scope\":\"11501610703138888992\",\"id\":\"606534905107729669\",\"type\":\"observable\"},val)) : undefined; return this.valueFromJulia[\"index\"]=false}),self)]\n        \n    }\n    self.model = new AppViewModel();\n    self.valueFromJulia = {};\n    for (var key in json_data) {\n        self.valueFromJulia[key] = false;\n    }\n    ko.applyBindings(self.model, self.dom);\n}\n);\n    (WebIO.importBlock({\"data\":[{\"name\":\"knockout\",\"type\":\"js\",\"url\":\"/assetserver/4e15ea8f38f5d33bf0b2930cb09c8089f78b114e-knockout.js\"},{\"name\":\"knockout_punches\",\"type\":\"js\",\"url\":\"/assetserver/6967e46b2259ea2e5c469b61c410326b52955db7-knockout_punches.js\"}],\"type\":\"async_block\"})).then((imports) => handler.apply(this, imports));\n}\n"
            ],
            "observables": {
             "changes": {
              "id": "11749936742132412495",
              "sync": false,
              "value": 0
             },
             "index": {
              "id": "606534905107729669",
              "sync": true,
              "value": 50
             }
            },
            "systemjs_options": null
           },
           "nodeType": "Scope",
           "props": {},
           "type": "node"
          }
         ],
         "instanceArgs": {
          "namespace": "html",
          "tag": "div"
         },
         "nodeType": "DOM",
         "props": {
          "className": "field interact-widget"
         },
         "type": "node"
        },
        {
         "children": [
          {
           "children": [],
           "instanceArgs": {
            "id": "1810060632024411611",
            "name": "obs-node"
           },
           "nodeType": "ObservableNode",
           "props": {},
           "type": "node"
          }
         ],
         "instanceArgs": {
          "handlers": {},
          "id": "1420080010711266006",
          "imports": {
           "data": [],
           "type": "async_block"
          },
          "mount_callbacks": [],
          "observables": {
           "obs-node": {
            "id": "1810060632024411611",
            "sync": false,
            "value": {
             "children": [
              {
               "children": [],
               "instanceArgs": {
                "namespace": "html",
                "tag": "div"
               },
               "nodeType": "DOM",
               "props": {
                "setInnerHtml": "<?xml version=\"1.0\" encoding=\"utf-8\"?>\n<svg xmlns=\"http://www.w3.org/2000/svg\" xmlns:xlink=\"http://www.w3.org/1999/xlink\" width=\"600\" height=\"400\" viewBox=\"0 0 2400 1600\">\n<defs>\n  <clipPath id=\"clip600\">\n    <rect x=\"0\" y=\"0\" width=\"2400\" height=\"1600\"/>\n  </clipPath>\n</defs>\n<path clip-path=\"url(#clip600)\" d=\"\nM0 1600 L2400 1600 L2400 0 L0 0  Z\n  \" fill=\"#ffffff\" fill-rule=\"evenodd\" fill-opacity=\"1\"/>\n<defs>\n  <clipPath id=\"clip601\">\n    <rect x=\"480\" y=\"0\" width=\"1681\" height=\"1600\"/>\n  </clipPath>\n</defs>\n<path clip-path=\"url(#clip600)\" d=\"\nM148.334 1486.45 L2352.76 1486.45 L2352.76 47.2441 L148.334 47.2441  Z\n  \" fill=\"#ffffff\" fill-rule=\"evenodd\" fill-opacity=\"1\"/>\n<defs>\n  <clipPath id=\"clip602\">\n    <rect x=\"148\" y=\"47\" width=\"2205\" height=\"1440\"/>\n  </clipPath>\n</defs>\n<polyline clip-path=\"url(#clip602)\" style=\"stroke:#000000; stroke-width:2; stroke-opacity:0.1; fill:none\" points=\"\n  148.334,1486.45 148.334,47.2441 \n  \"/>\n<polyline clip-path=\"url(#clip602)\" style=\"stroke:#000000; stroke-width:2; stroke-opacity:0.1; fill:none\" points=\"\n  699.44,1486.45 699.44,47.2441 \n  \"/>\n<polyline clip-path=\"url(#clip602)\" style=\"stroke:#000000; stroke-width:2; stroke-opacity:0.1; fill:none\" points=\"\n  1250.55,1486.45 1250.55,47.2441 \n  \"/>\n<polyline clip-path=\"url(#clip602)\" style=\"stroke:#000000; stroke-width:2; stroke-opacity:0.1; fill:none\" points=\"\n  1801.65,1486.45 1801.65,47.2441 \n  \"/>\n<polyline clip-path=\"url(#clip602)\" style=\"stroke:#000000; stroke-width:2; stroke-opacity:0.1; fill:none\" points=\"\n  2352.76,1486.45 2352.76,47.2441 \n  \"/>\n<polyline clip-path=\"url(#clip600)\" style=\"stroke:#000000; stroke-width:4; stroke-opacity:1; fill:none\" points=\"\n  148.334,1486.45 2352.76,1486.45 \n  \"/>\n<polyline clip-path=\"url(#clip600)\" style=\"stroke:#000000; stroke-width:4; stroke-opacity:1; fill:none\" points=\"\n  148.334,1486.45 148.334,1469.18 \n  \"/>\n<polyline clip-path=\"url(#clip600)\" style=\"stroke:#000000; stroke-width:4; stroke-opacity:1; fill:none\" points=\"\n  699.44,1486.45 699.44,1469.18 \n  \"/>\n<polyline clip-path=\"url(#clip600)\" style=\"stroke:#000000; stroke-width:4; stroke-opacity:1; fill:none\" points=\"\n  1250.55,1486.45 1250.55,1469.18 \n  \"/>\n<polyline clip-path=\"url(#clip600)\" style=\"stroke:#000000; stroke-width:4; stroke-opacity:1; fill:none\" points=\"\n  1801.65,1486.45 1801.65,1469.18 \n  \"/>\n<polyline clip-path=\"url(#clip600)\" style=\"stroke:#000000; stroke-width:4; stroke-opacity:1; fill:none\" points=\"\n  2352.76,1486.45 2352.76,1469.18 \n  \"/>\n<path clip-path=\"url(#clip600)\" d=\"M 0 0 M148.334 1515.64 Q144.723 1515.64 142.895 1519.2 Q141.089 1522.75 141.089 1529.87 Q141.089 1536.98 142.895 1540.55 Q144.723 1544.09 148.334 1544.09 Q151.969 1544.09 153.774 1540.55 Q155.603 1536.98 155.603 1529.87 Q155.603 1522.75 153.774 1519.2 Q151.969 1515.64 148.334 1515.64 M148.334 1511.93 Q154.145 1511.93 157.2 1516.54 Q160.279 1521.12 160.279 1529.87 Q160.279 1538.6 157.2 1543.21 Q154.145 1547.79 148.334 1547.79 Q142.524 1547.79 139.446 1543.21 Q136.39 1538.6 136.39 1529.87 Q136.39 1521.12 139.446 1516.54 Q142.524 1511.93 148.334 1511.93 Z\" fill=\"#000000\" fill-rule=\"evenodd\" fill-opacity=\"1\" /><path clip-path=\"url(#clip600)\" d=\"M 0 0 M676.315 1543.18 L683.954 1543.18 L683.954 1516.82 L675.644 1518.49 L675.644 1514.23 L683.907 1512.56 L688.583 1512.56 L688.583 1543.18 L696.222 1543.18 L696.222 1547.12 L676.315 1547.12 L676.315 1543.18 Z\" fill=\"#000000\" fill-rule=\"evenodd\" fill-opacity=\"1\" /><path clip-path=\"url(#clip600)\" d=\"M 0 0 M711.292 1515.64 Q707.68 1515.64 705.852 1519.2 Q704.046 1522.75 704.046 1529.87 Q704.046 1536.98 705.852 1540.55 Q707.68 1544.09 711.292 1544.09 Q714.926 1544.09 716.731 1540.55 Q718.56 1536.98 718.56 1529.87 Q718.56 1522.75 716.731 1519.2 Q714.926 1515.64 711.292 1515.64 M711.292 1511.93 Q717.102 1511.93 720.157 1516.54 Q723.236 1521.12 723.236 1529.87 Q723.236 1538.6 720.157 1543.21 Q717.102 1547.79 711.292 1547.79 Q705.481 1547.79 702.403 1543.21 Q699.347 1538.6 699.347 1529.87 Q699.347 1521.12 702.403 1516.54 Q705.481 1511.93 711.292 1511.93 Z\" fill=\"#000000\" fill-rule=\"evenodd\" fill-opacity=\"1\" /><path clip-path=\"url(#clip600)\" d=\"M 0 0 M1231.69 1543.18 L1248.01 1543.18 L1248.01 1547.12 L1226.07 1547.12 L1226.07 1543.18 Q1228.73 1540.43 1233.31 1535.8 Q1237.92 1531.15 1239.1 1529.81 Q1241.34 1527.28 1242.22 1525.55 Q1243.13 1523.79 1243.13 1522.1 Q1243.13 1519.34 1241.18 1517.61 Q1239.26 1515.87 1236.16 1515.87 Q1233.96 1515.87 1231.51 1516.63 Q1229.08 1517.4 1226.3 1518.95 L1226.3 1514.23 Q1229.12 1513.09 1231.58 1512.51 Q1234.03 1511.93 1236.07 1511.93 Q1241.44 1511.93 1244.63 1514.62 Q1247.83 1517.31 1247.83 1521.8 Q1247.83 1523.93 1247.02 1525.85 Q1246.23 1527.74 1244.12 1530.34 Q1243.54 1531.01 1240.44 1534.23 Q1237.34 1537.42 1231.69 1543.18 Z\" fill=\"#000000\" fill-rule=\"evenodd\" fill-opacity=\"1\" /><path clip-path=\"url(#clip600)\" d=\"M 0 0 M1263.08 1515.64 Q1259.47 1515.64 1257.64 1519.2 Q1255.83 1522.75 1255.83 1529.87 Q1255.83 1536.98 1257.64 1540.55 Q1259.47 1544.09 1263.08 1544.09 Q1266.71 1544.09 1268.52 1540.55 Q1270.35 1536.98 1270.35 1529.87 Q1270.35 1522.75 1268.52 1519.2 Q1266.71 1515.64 1263.08 1515.64 M1263.08 1511.93 Q1268.89 1511.93 1271.95 1516.54 Q1275.02 1521.12 1275.02 1529.87 Q1275.02 1538.6 1271.95 1543.21 Q1268.89 1547.79 1263.08 1547.79 Q1257.27 1547.79 1254.19 1543.21 Q1251.14 1538.6 1251.14 1529.87 Q1251.14 1521.12 1254.19 1516.54 Q1257.27 1511.93 1263.08 1511.93 Z\" fill=\"#000000\" fill-rule=\"evenodd\" fill-opacity=\"1\" /><path clip-path=\"url(#clip600)\" d=\"M 0 0 M1792.39 1528.49 Q1795.75 1529.2 1797.62 1531.47 Q1799.52 1533.74 1799.52 1537.07 Q1799.52 1542.19 1796 1544.99 Q1792.48 1547.79 1786 1547.79 Q1783.83 1547.79 1781.51 1547.35 Q1779.22 1546.93 1776.77 1546.08 L1776.77 1541.56 Q1778.71 1542.7 1781.03 1543.28 Q1783.34 1543.86 1785.86 1543.86 Q1790.26 1543.86 1792.55 1542.12 Q1794.87 1540.38 1794.87 1537.07 Q1794.87 1534.02 1792.72 1532.31 Q1790.59 1530.57 1786.77 1530.57 L1782.74 1530.57 L1782.74 1526.73 L1786.95 1526.73 Q1790.4 1526.73 1792.23 1525.36 Q1794.06 1523.97 1794.06 1521.38 Q1794.06 1518.72 1792.16 1517.31 Q1790.28 1515.87 1786.77 1515.87 Q1784.85 1515.87 1782.65 1516.29 Q1780.45 1516.7 1777.81 1517.58 L1777.81 1513.42 Q1780.47 1512.68 1782.78 1512.31 Q1785.12 1511.93 1787.18 1511.93 Q1792.51 1511.93 1795.61 1514.37 Q1798.71 1516.77 1798.71 1520.89 Q1798.71 1523.76 1797.07 1525.75 Q1795.42 1527.72 1792.39 1528.49 Z\" fill=\"#000000\" fill-rule=\"evenodd\" fill-opacity=\"1\" /><path clip-path=\"url(#clip600)\" d=\"M 0 0 M1814.59 1515.64 Q1810.98 1515.64 1809.15 1519.2 Q1807.34 1522.75 1807.34 1529.87 Q1807.34 1536.98 1809.15 1540.55 Q1810.98 1544.09 1814.59 1544.09 Q1818.22 1544.09 1820.03 1540.55 Q1821.86 1536.98 1821.86 1529.87 Q1821.86 1522.75 1820.03 1519.2 Q1818.22 1515.64 1814.59 1515.64 M1814.59 1511.93 Q1820.4 1511.93 1823.46 1516.54 Q1826.53 1521.12 1826.53 1529.87 Q1826.53 1538.6 1823.46 1543.21 Q1820.4 1547.79 1814.59 1547.79 Q1808.78 1547.79 1805.7 1543.21 Q1802.65 1538.6 1802.65 1529.87 Q1802.65 1521.12 1805.7 1516.54 Q1808.78 1511.93 1814.59 1511.93 Z\" fill=\"#000000\" fill-rule=\"evenodd\" fill-opacity=\"1\" /><path clip-path=\"url(#clip600)\" d=\"M 0 0 M2342.26 1516.63 L2330.45 1535.08 L2342.26 1535.08 L2342.26 1516.63 M2341.03 1512.56 L2346.91 1512.56 L2346.91 1535.08 L2351.84 1535.08 L2351.84 1538.97 L2346.91 1538.97 L2346.91 1547.12 L2342.26 1547.12 L2342.26 1538.97 L2326.66 1538.97 L2326.66 1534.46 L2341.03 1512.56 Z\" fill=\"#000000\" fill-rule=\"evenodd\" fill-opacity=\"1\" /><path clip-path=\"url(#clip600)\" d=\"M 0 0 M2366.91 1515.64 Q2363.3 1515.64 2361.47 1519.2 Q2359.67 1522.75 2359.67 1529.87 Q2359.67 1536.98 2361.47 1540.55 Q2363.3 1544.09 2366.91 1544.09 Q2370.55 1544.09 2372.35 1540.55 Q2374.18 1536.98 2374.18 1529.87 Q2374.18 1522.75 2372.35 1519.2 Q2370.55 1515.64 2366.91 1515.64 M2366.91 1511.93 Q2372.72 1511.93 2375.78 1516.54 Q2378.86 1521.12 2378.86 1529.87 Q2378.86 1538.6 2375.78 1543.21 Q2372.72 1547.79 2366.91 1547.79 Q2361.1 1547.79 2358.02 1543.21 Q2354.97 1538.6 2354.97 1529.87 Q2354.97 1521.12 2358.02 1516.54 Q2361.1 1511.93 2366.91 1511.93 Z\" fill=\"#000000\" fill-rule=\"evenodd\" fill-opacity=\"1\" /><polyline clip-path=\"url(#clip602)\" style=\"stroke:#000000; stroke-width:2; stroke-opacity:0.1; fill:none\" points=\"\n  148.334,1486.45 2352.76,1486.45 \n  \"/>\n<polyline clip-path=\"url(#clip602)\" style=\"stroke:#000000; stroke-width:2; stroke-opacity:0.1; fill:none\" points=\"\n  148.334,1198.61 2352.76,1198.61 \n  \"/>\n<polyline clip-path=\"url(#clip602)\" style=\"stroke:#000000; stroke-width:2; stroke-opacity:0.1; fill:none\" points=\"\n  148.334,910.766 2352.76,910.766 \n  \"/>\n<polyline clip-path=\"url(#clip602)\" style=\"stroke:#000000; stroke-width:2; stroke-opacity:0.1; fill:none\" points=\"\n  148.334,622.926 2352.76,622.926 \n  \"/>\n<polyline clip-path=\"url(#clip602)\" style=\"stroke:#000000; stroke-width:2; stroke-opacity:0.1; fill:none\" points=\"\n  148.334,335.085 2352.76,335.085 \n  \"/>\n<polyline clip-path=\"url(#clip602)\" style=\"stroke:#000000; stroke-width:2; stroke-opacity:0.1; fill:none\" points=\"\n  148.334,47.2441 2352.76,47.2441 \n  \"/>\n<polyline clip-path=\"url(#clip600)\" style=\"stroke:#000000; stroke-width:4; stroke-opacity:1; fill:none\" points=\"\n  148.334,1486.45 148.334,47.2441 \n  \"/>\n<polyline clip-path=\"url(#clip600)\" style=\"stroke:#000000; stroke-width:4; stroke-opacity:1; fill:none\" points=\"\n  148.334,1486.45 174.787,1486.45 \n  \"/>\n<polyline clip-path=\"url(#clip600)\" style=\"stroke:#000000; stroke-width:4; stroke-opacity:1; fill:none\" points=\"\n  148.334,1198.61 174.787,1198.61 \n  \"/>\n<polyline clip-path=\"url(#clip600)\" style=\"stroke:#000000; stroke-width:4; stroke-opacity:1; fill:none\" points=\"\n  148.334,910.766 174.787,910.766 \n  \"/>\n<polyline clip-path=\"url(#clip600)\" style=\"stroke:#000000; stroke-width:4; stroke-opacity:1; fill:none\" points=\"\n  148.334,622.926 174.787,622.926 \n  \"/>\n<polyline clip-path=\"url(#clip600)\" style=\"stroke:#000000; stroke-width:4; stroke-opacity:1; fill:none\" points=\"\n  148.334,335.085 174.787,335.085 \n  \"/>\n<polyline clip-path=\"url(#clip600)\" style=\"stroke:#000000; stroke-width:4; stroke-opacity:1; fill:none\" points=\"\n  148.334,47.2441 174.787,47.2441 \n  \"/>\n<path clip-path=\"url(#clip600)\" d=\"M 0 0 M63.4226 1472.25 Q59.8115 1472.25 57.9828 1475.81 Q56.1773 1479.35 56.1773 1486.48 Q56.1773 1493.59 57.9828 1497.15 Q59.8115 1500.7 63.4226 1500.7 Q67.0569 1500.7 68.8624 1497.15 Q70.6911 1493.59 70.6911 1486.48 Q70.6911 1479.35 68.8624 1475.81 Q67.0569 1472.25 63.4226 1472.25 M63.4226 1468.54 Q69.2328 1468.54 72.2883 1473.15 Q75.367 1477.73 75.367 1486.48 Q75.367 1495.21 72.2883 1499.82 Q69.2328 1504.4 63.4226 1504.4 Q57.6125 1504.4 54.5338 1499.82 Q51.4782 1495.21 51.4782 1486.48 Q51.4782 1477.73 54.5338 1473.15 Q57.6125 1468.54 63.4226 1468.54 Z\" fill=\"#000000\" fill-rule=\"evenodd\" fill-opacity=\"1\" /><path clip-path=\"url(#clip600)\" d=\"M 0 0 M80.4364 1497.85 L85.3206 1497.85 L85.3206 1503.73 L80.4364 1503.73 L80.4364 1497.85 Z\" fill=\"#000000\" fill-rule=\"evenodd\" fill-opacity=\"1\" /><path clip-path=\"url(#clip600)\" d=\"M 0 0 M100.39 1472.25 Q96.7789 1472.25 94.9502 1475.81 Q93.1447 1479.35 93.1447 1486.48 Q93.1447 1493.59 94.9502 1497.15 Q96.7789 1500.7 100.39 1500.7 Q104.024 1500.7 105.83 1497.15 Q107.658 1493.59 107.658 1486.48 Q107.658 1479.35 105.83 1475.81 Q104.024 1472.25 100.39 1472.25 M100.39 1468.54 Q106.2 1468.54 109.256 1473.15 Q112.334 1477.73 112.334 1486.48 Q112.334 1495.21 109.256 1499.82 Q106.2 1504.4 100.39 1504.4 Q94.5799 1504.4 91.5012 1499.82 Q88.4456 1495.21 88.4456 1486.48 Q88.4456 1477.73 91.5012 1473.15 Q94.5799 1468.54 100.39 1468.54 Z\" fill=\"#000000\" fill-rule=\"evenodd\" fill-opacity=\"1\" /><path clip-path=\"url(#clip600)\" d=\"M 0 0 M65.0198 1184.41 Q61.4087 1184.41 59.58 1187.97 Q57.7745 1191.51 57.7745 1198.64 Q57.7745 1205.75 59.58 1209.31 Q61.4087 1212.85 65.0198 1212.85 Q68.6541 1212.85 70.4596 1209.31 Q72.2883 1205.75 72.2883 1198.64 Q72.2883 1191.51 70.4596 1187.97 Q68.6541 1184.41 65.0198 1184.41 M65.0198 1180.7 Q70.83 1180.7 73.8855 1185.31 Q76.9642 1189.89 76.9642 1198.64 Q76.9642 1207.37 73.8855 1211.98 Q70.83 1216.56 65.0198 1216.56 Q59.2097 1216.56 56.131 1211.98 Q53.0754 1207.37 53.0754 1198.64 Q53.0754 1189.89 56.131 1185.31 Q59.2097 1180.7 65.0198 1180.7 Z\" fill=\"#000000\" fill-rule=\"evenodd\" fill-opacity=\"1\" /><path clip-path=\"url(#clip600)\" d=\"M 0 0 M82.0336 1210.01 L86.9179 1210.01 L86.9179 1215.89 L82.0336 1215.89 L82.0336 1210.01 Z\" fill=\"#000000\" fill-rule=\"evenodd\" fill-opacity=\"1\" /><path clip-path=\"url(#clip600)\" d=\"M 0 0 M96.015 1211.95 L112.334 1211.95 L112.334 1215.89 L90.3901 1215.89 L90.3901 1211.95 Q93.0521 1209.2 97.6354 1204.57 Q102.242 1199.91 103.422 1198.57 Q105.668 1196.05 106.547 1194.31 Q107.45 1192.55 107.45 1190.86 Q107.45 1188.11 105.506 1186.37 Q103.584 1184.64 100.483 1184.64 Q98.2835 1184.64 95.8298 1185.4 Q93.3993 1186.17 90.6215 1187.72 L90.6215 1182.99 Q93.4456 1181.86 95.8993 1181.28 Q98.353 1180.7 100.39 1180.7 Q105.76 1180.7 108.955 1183.39 Q112.149 1186.07 112.149 1190.56 Q112.149 1192.69 111.339 1194.61 Q110.552 1196.51 108.446 1199.1 Q107.867 1199.78 104.765 1202.99 Q101.663 1206.19 96.015 1211.95 Z\" fill=\"#000000\" fill-rule=\"evenodd\" fill-opacity=\"1\" /><path clip-path=\"url(#clip600)\" d=\"M 0 0 M62.9365 896.565 Q59.3254 896.565 57.4967 900.13 Q55.6912 903.671 55.6912 910.801 Q55.6912 917.908 57.4967 921.472 Q59.3254 925.014 62.9365 925.014 Q66.5707 925.014 68.3763 921.472 Q70.205 917.908 70.205 910.801 Q70.205 903.671 68.3763 900.13 Q66.5707 896.565 62.9365 896.565 M62.9365 892.861 Q68.7467 892.861 71.8022 897.468 Q74.8809 902.051 74.8809 910.801 Q74.8809 919.528 71.8022 924.134 Q68.7467 928.718 62.9365 928.718 Q57.1264 928.718 54.0477 924.134 Q50.9921 919.528 50.9921 910.801 Q50.9921 902.051 54.0477 897.468 Q57.1264 892.861 62.9365 892.861 Z\" fill=\"#000000\" fill-rule=\"evenodd\" fill-opacity=\"1\" /><path clip-path=\"url(#clip600)\" d=\"M 0 0 M79.9503 922.167 L84.8345 922.167 L84.8345 928.046 L79.9503 928.046 L79.9503 922.167 Z\" fill=\"#000000\" fill-rule=\"evenodd\" fill-opacity=\"1\" /><path clip-path=\"url(#clip600)\" d=\"M 0 0 M102.751 897.56 L90.9456 916.009 L102.751 916.009 L102.751 897.56 M101.524 893.486 L107.404 893.486 L107.404 916.009 L112.334 916.009 L112.334 919.898 L107.404 919.898 L107.404 928.046 L102.751 928.046 L102.751 919.898 L87.1493 919.898 L87.1493 915.384 L101.524 893.486 Z\" fill=\"#000000\" fill-rule=\"evenodd\" fill-opacity=\"1\" /><path clip-path=\"url(#clip600)\" d=\"M 0 0 M63.2606 608.724 Q59.6495 608.724 57.8208 612.289 Q56.0152 615.831 56.0152 622.96 Q56.0152 630.067 57.8208 633.632 Q59.6495 637.173 63.2606 637.173 Q66.8948 637.173 68.7004 633.632 Q70.5291 630.067 70.5291 622.96 Q70.5291 615.831 68.7004 612.289 Q66.8948 608.724 63.2606 608.724 M63.2606 605.021 Q69.0707 605.021 72.1263 609.627 Q75.205 614.21 75.205 622.96 Q75.205 631.687 72.1263 636.294 Q69.0707 640.877 63.2606 640.877 Q57.4504 640.877 54.3717 636.294 Q51.3162 631.687 51.3162 622.96 Q51.3162 614.21 54.3717 609.627 Q57.4504 605.021 63.2606 605.021 Z\" fill=\"#000000\" fill-rule=\"evenodd\" fill-opacity=\"1\" /><path clip-path=\"url(#clip600)\" d=\"M 0 0 M80.2744 634.326 L85.1586 634.326 L85.1586 640.206 L80.2744 640.206 L80.2744 634.326 Z\" fill=\"#000000\" fill-rule=\"evenodd\" fill-opacity=\"1\" /><path clip-path=\"url(#clip600)\" d=\"M 0 0 M100.807 621.062 Q97.6585 621.062 95.8067 623.215 Q93.978 625.368 93.978 629.118 Q93.978 632.845 95.8067 635.02 Q97.6585 637.173 100.807 637.173 Q103.955 637.173 105.783 635.02 Q107.635 632.845 107.635 629.118 Q107.635 625.368 105.783 623.215 Q103.955 621.062 100.807 621.062 M110.089 606.409 L110.089 610.669 Q108.33 609.835 106.524 609.396 Q104.742 608.956 102.983 608.956 Q98.353 608.956 95.8993 612.081 Q93.4688 615.206 93.1215 621.525 Q94.4873 619.511 96.5474 618.446 Q98.6076 617.359 101.084 617.359 Q106.293 617.359 109.302 620.53 Q112.334 623.678 112.334 629.118 Q112.334 634.442 109.186 637.659 Q106.038 640.877 100.807 640.877 Q94.8113 640.877 91.6401 636.294 Q88.4688 631.687 88.4688 622.96 Q88.4688 614.766 92.3576 609.905 Q96.2465 605.021 102.797 605.021 Q104.557 605.021 106.339 605.368 Q108.145 605.715 110.089 606.409 Z\" fill=\"#000000\" fill-rule=\"evenodd\" fill-opacity=\"1\" /><path clip-path=\"url(#clip600)\" d=\"M 0 0 M63.5152 320.884 Q59.9041 320.884 58.0754 324.448 Q56.2699 327.99 56.2699 335.12 Q56.2699 342.226 58.0754 345.791 Q59.9041 349.332 63.5152 349.332 Q67.1494 349.332 68.955 345.791 Q70.7837 342.226 70.7837 335.12 Q70.7837 327.99 68.955 324.448 Q67.1494 320.884 63.5152 320.884 M63.5152 317.18 Q69.3254 317.18 72.3809 321.786 Q75.4596 326.37 75.4596 335.12 Q75.4596 343.846 72.3809 348.453 Q69.3254 353.036 63.5152 353.036 Q57.7051 353.036 54.6264 348.453 Q51.5708 343.846 51.5708 335.12 Q51.5708 326.37 54.6264 321.786 Q57.7051 317.18 63.5152 317.18 Z\" fill=\"#000000\" fill-rule=\"evenodd\" fill-opacity=\"1\" /><path clip-path=\"url(#clip600)\" d=\"M 0 0 M80.529 346.485 L85.4132 346.485 L85.4132 352.365 L80.529 352.365 L80.529 346.485 Z\" fill=\"#000000\" fill-rule=\"evenodd\" fill-opacity=\"1\" /><path clip-path=\"url(#clip600)\" d=\"M 0 0 M100.483 335.953 Q97.1493 335.953 95.228 337.735 Q93.3299 339.518 93.3299 342.643 Q93.3299 345.768 95.228 347.55 Q97.1493 349.332 100.483 349.332 Q103.816 349.332 105.737 347.55 Q107.658 345.745 107.658 342.643 Q107.658 339.518 105.737 337.735 Q103.839 335.953 100.483 335.953 M95.8067 333.962 Q92.7975 333.221 91.1077 331.161 Q89.441 329.101 89.441 326.138 Q89.441 321.995 92.3808 319.587 Q95.3437 317.18 100.483 317.18 Q105.645 317.18 108.584 319.587 Q111.524 321.995 111.524 326.138 Q111.524 329.101 109.834 331.161 Q108.168 333.221 105.182 333.962 Q108.561 334.749 110.436 337.041 Q112.334 339.333 112.334 342.643 Q112.334 347.666 109.256 350.351 Q106.2 353.036 100.483 353.036 Q94.765 353.036 91.6864 350.351 Q88.6308 347.666 88.6308 342.643 Q88.6308 339.333 90.529 337.041 Q92.4271 334.749 95.8067 333.962 M94.0937 326.578 Q94.0937 329.263 95.7604 330.768 Q97.4502 332.272 100.483 332.272 Q103.492 332.272 105.182 330.768 Q106.895 329.263 106.895 326.578 Q106.895 323.893 105.182 322.388 Q103.492 320.884 100.483 320.884 Q97.4502 320.884 95.7604 322.388 Q94.0937 323.893 94.0937 326.578 Z\" fill=\"#000000\" fill-rule=\"evenodd\" fill-opacity=\"1\" /><path clip-path=\"url(#clip600)\" d=\"M 0 0 M55.4597 60.5889 L63.0985 60.5889 L63.0985 34.2233 L54.7884 35.89 L54.7884 31.6308 L63.0522 29.9641 L67.7281 29.9641 L67.7281 60.5889 L75.367 60.5889 L75.367 64.5241 L55.4597 64.5241 L55.4597 60.5889 Z\" fill=\"#000000\" fill-rule=\"evenodd\" fill-opacity=\"1\" /><path clip-path=\"url(#clip600)\" d=\"M 0 0 M80.4364 58.6445 L85.3206 58.6445 L85.3206 64.5241 L80.4364 64.5241 L80.4364 58.6445 Z\" fill=\"#000000\" fill-rule=\"evenodd\" fill-opacity=\"1\" /><path clip-path=\"url(#clip600)\" d=\"M 0 0 M100.39 33.0428 Q96.7789 33.0428 94.9502 36.6076 Q93.1447 40.1492 93.1447 47.2788 Q93.1447 54.3853 94.9502 57.9501 Q96.7789 61.4917 100.39 61.4917 Q104.024 61.4917 105.83 57.9501 Q107.658 54.3853 107.658 47.2788 Q107.658 40.1492 105.83 36.6076 Q104.024 33.0428 100.39 33.0428 M100.39 29.3391 Q106.2 29.3391 109.256 33.9456 Q112.334 38.5289 112.334 47.2788 Q112.334 56.0056 109.256 60.6121 Q106.2 65.1954 100.39 65.1954 Q94.5799 65.1954 91.5012 60.6121 Q88.4456 56.0056 88.4456 47.2788 Q88.4456 38.5289 91.5012 33.9456 Q94.5799 29.3391 100.39 29.3391 Z\" fill=\"#000000\" fill-rule=\"evenodd\" fill-opacity=\"1\" /><polyline clip-path=\"url(#clip602)\" style=\"stroke:#009af9; stroke-width:4; stroke-opacity:1; fill:none\" points=\"\n  148.334,1486.45 203.445,1486.45 203.445,1342.53 258.555,1342.53 258.555,1213 313.666,1213 313.666,1096.42 368.777,1096.42 368.777,991.506 423.887,991.506 \n  423.887,897.08 478.998,897.08 478.998,812.096 534.108,812.096 534.108,735.611 589.219,735.611 589.219,666.774 644.329,666.774 644.329,604.821 699.44,604.821 \n  699.44,549.063 754.55,549.063 754.55,498.881 809.661,498.881 809.661,453.718 864.771,453.718 864.771,413.07 919.882,413.07 919.882,376.488 974.992,376.488 \n  974.992,343.563 1030.1,343.563 1030.1,313.931 1085.21,313.931 1085.21,287.263 1140.32,287.263 1140.32,263.261 1195.43,263.261 1195.43,241.659 1250.55,241.659 \n  1250.55,222.218 1305.66,222.218 1305.66,204.72 1360.77,204.72 1360.77,188.973 1415.88,188.973 1415.88,174.8 1470.99,174.8 1470.99,162.044 1526.1,162.044 \n  1526.1,150.564 1581.21,150.564 1581.21,140.232 1636.32,140.232 1636.32,130.933 1691.43,130.933 1691.43,122.564 1746.54,122.564 1746.54,115.032 1801.65,115.032 \n  1801.65,108.254 1856.76,108.254 1856.76,102.153 1911.87,102.153 1911.87,96.6618 1966.98,96.6618 1966.98,91.72 2022.09,91.72 2022.09,87.2724 2077.2,87.2724 \n  2077.2,83.2696 2132.31,83.2696 2132.31,79.6671 2187.42,79.6671 2187.42,76.4248 2242.53,76.4248 2242.53,73.5067 2297.65,73.5067 2297.65,70.8804 2352.76,70.8804 \n  2352.76,68.5168 \n  \"/>\n<circle clip-path=\"url(#clip602)\" cx=\"203.445\" cy=\"1342.53\" r=\"14\" fill=\"#e26f46\" fill-rule=\"evenodd\" fill-opacity=\"1\" stroke=\"#000000\" stroke-opacity=\"1\" stroke-width=\"3.2\"/>\n<circle clip-path=\"url(#clip602)\" cx=\"258.555\" cy=\"1213\" r=\"14\" fill=\"#e26f46\" fill-rule=\"evenodd\" fill-opacity=\"1\" stroke=\"#000000\" stroke-opacity=\"1\" stroke-width=\"3.2\"/>\n<circle clip-path=\"url(#clip602)\" cx=\"313.666\" cy=\"1096.42\" r=\"14\" fill=\"#e26f46\" fill-rule=\"evenodd\" fill-opacity=\"1\" stroke=\"#000000\" stroke-opacity=\"1\" stroke-width=\"3.2\"/>\n<circle clip-path=\"url(#clip602)\" cx=\"368.777\" cy=\"991.506\" r=\"14\" fill=\"#e26f46\" fill-rule=\"evenodd\" fill-opacity=\"1\" stroke=\"#000000\" stroke-opacity=\"1\" stroke-width=\"3.2\"/>\n<circle clip-path=\"url(#clip602)\" cx=\"423.887\" cy=\"897.08\" r=\"14\" fill=\"#e26f46\" fill-rule=\"evenodd\" fill-opacity=\"1\" stroke=\"#000000\" stroke-opacity=\"1\" stroke-width=\"3.2\"/>\n<circle clip-path=\"url(#clip602)\" cx=\"478.998\" cy=\"812.096\" r=\"14\" fill=\"#e26f46\" fill-rule=\"evenodd\" fill-opacity=\"1\" stroke=\"#000000\" stroke-opacity=\"1\" stroke-width=\"3.2\"/>\n<circle clip-path=\"url(#clip602)\" cx=\"534.108\" cy=\"735.611\" r=\"14\" fill=\"#e26f46\" fill-rule=\"evenodd\" fill-opacity=\"1\" stroke=\"#000000\" stroke-opacity=\"1\" stroke-width=\"3.2\"/>\n<circle clip-path=\"url(#clip602)\" cx=\"589.219\" cy=\"666.774\" r=\"14\" fill=\"#e26f46\" fill-rule=\"evenodd\" fill-opacity=\"1\" stroke=\"#000000\" stroke-opacity=\"1\" stroke-width=\"3.2\"/>\n<circle clip-path=\"url(#clip602)\" cx=\"644.329\" cy=\"604.821\" r=\"14\" fill=\"#e26f46\" fill-rule=\"evenodd\" fill-opacity=\"1\" stroke=\"#000000\" stroke-opacity=\"1\" stroke-width=\"3.2\"/>\n<circle clip-path=\"url(#clip602)\" cx=\"699.44\" cy=\"549.063\" r=\"14\" fill=\"#e26f46\" fill-rule=\"evenodd\" fill-opacity=\"1\" stroke=\"#000000\" stroke-opacity=\"1\" stroke-width=\"3.2\"/>\n<circle clip-path=\"url(#clip602)\" cx=\"754.55\" cy=\"498.881\" r=\"14\" fill=\"#e26f46\" fill-rule=\"evenodd\" fill-opacity=\"1\" stroke=\"#000000\" stroke-opacity=\"1\" stroke-width=\"3.2\"/>\n<circle clip-path=\"url(#clip602)\" cx=\"809.661\" cy=\"453.718\" r=\"14\" fill=\"#e26f46\" fill-rule=\"evenodd\" fill-opacity=\"1\" stroke=\"#000000\" stroke-opacity=\"1\" stroke-width=\"3.2\"/>\n<circle clip-path=\"url(#clip602)\" cx=\"864.771\" cy=\"413.07\" r=\"14\" fill=\"#e26f46\" fill-rule=\"evenodd\" fill-opacity=\"1\" stroke=\"#000000\" stroke-opacity=\"1\" stroke-width=\"3.2\"/>\n<circle clip-path=\"url(#clip602)\" cx=\"919.882\" cy=\"376.488\" r=\"14\" fill=\"#e26f46\" fill-rule=\"evenodd\" fill-opacity=\"1\" stroke=\"#000000\" stroke-opacity=\"1\" stroke-width=\"3.2\"/>\n<circle clip-path=\"url(#clip602)\" cx=\"974.992\" cy=\"343.563\" r=\"14\" fill=\"#e26f46\" fill-rule=\"evenodd\" fill-opacity=\"1\" stroke=\"#000000\" stroke-opacity=\"1\" stroke-width=\"3.2\"/>\n<circle clip-path=\"url(#clip602)\" cx=\"1030.1\" cy=\"313.931\" r=\"14\" fill=\"#e26f46\" fill-rule=\"evenodd\" fill-opacity=\"1\" stroke=\"#000000\" stroke-opacity=\"1\" stroke-width=\"3.2\"/>\n<circle clip-path=\"url(#clip602)\" cx=\"1085.21\" cy=\"287.263\" r=\"14\" fill=\"#e26f46\" fill-rule=\"evenodd\" fill-opacity=\"1\" stroke=\"#000000\" stroke-opacity=\"1\" stroke-width=\"3.2\"/>\n<circle clip-path=\"url(#clip602)\" cx=\"1140.32\" cy=\"263.261\" r=\"14\" fill=\"#e26f46\" fill-rule=\"evenodd\" fill-opacity=\"1\" stroke=\"#000000\" stroke-opacity=\"1\" stroke-width=\"3.2\"/>\n<circle clip-path=\"url(#clip602)\" cx=\"1195.43\" cy=\"241.659\" r=\"14\" fill=\"#e26f46\" fill-rule=\"evenodd\" fill-opacity=\"1\" stroke=\"#000000\" stroke-opacity=\"1\" stroke-width=\"3.2\"/>\n<circle clip-path=\"url(#clip602)\" cx=\"1250.55\" cy=\"222.218\" r=\"14\" fill=\"#e26f46\" fill-rule=\"evenodd\" fill-opacity=\"1\" stroke=\"#000000\" stroke-opacity=\"1\" stroke-width=\"3.2\"/>\n<circle clip-path=\"url(#clip602)\" cx=\"1305.66\" cy=\"204.72\" r=\"14\" fill=\"#e26f46\" fill-rule=\"evenodd\" fill-opacity=\"1\" stroke=\"#000000\" stroke-opacity=\"1\" stroke-width=\"3.2\"/>\n<circle clip-path=\"url(#clip602)\" cx=\"1360.77\" cy=\"188.973\" r=\"14\" fill=\"#e26f46\" fill-rule=\"evenodd\" fill-opacity=\"1\" stroke=\"#000000\" stroke-opacity=\"1\" stroke-width=\"3.2\"/>\n<circle clip-path=\"url(#clip602)\" cx=\"1415.88\" cy=\"174.8\" r=\"14\" fill=\"#e26f46\" fill-rule=\"evenodd\" fill-opacity=\"1\" stroke=\"#000000\" stroke-opacity=\"1\" stroke-width=\"3.2\"/>\n<circle clip-path=\"url(#clip602)\" cx=\"1470.99\" cy=\"162.044\" r=\"14\" fill=\"#e26f46\" fill-rule=\"evenodd\" fill-opacity=\"1\" stroke=\"#000000\" stroke-opacity=\"1\" stroke-width=\"3.2\"/>\n<circle clip-path=\"url(#clip602)\" cx=\"1526.1\" cy=\"150.564\" r=\"14\" fill=\"#e26f46\" fill-rule=\"evenodd\" fill-opacity=\"1\" stroke=\"#000000\" stroke-opacity=\"1\" stroke-width=\"3.2\"/>\n<circle clip-path=\"url(#clip602)\" cx=\"1581.21\" cy=\"140.232\" r=\"14\" fill=\"#e26f46\" fill-rule=\"evenodd\" fill-opacity=\"1\" stroke=\"#000000\" stroke-opacity=\"1\" stroke-width=\"3.2\"/>\n<circle clip-path=\"url(#clip602)\" cx=\"1636.32\" cy=\"130.933\" r=\"14\" fill=\"#e26f46\" fill-rule=\"evenodd\" fill-opacity=\"1\" stroke=\"#000000\" stroke-opacity=\"1\" stroke-width=\"3.2\"/>\n<circle clip-path=\"url(#clip602)\" cx=\"1691.43\" cy=\"122.564\" r=\"14\" fill=\"#e26f46\" fill-rule=\"evenodd\" fill-opacity=\"1\" stroke=\"#000000\" stroke-opacity=\"1\" stroke-width=\"3.2\"/>\n<circle clip-path=\"url(#clip602)\" cx=\"1746.54\" cy=\"115.032\" r=\"14\" fill=\"#e26f46\" fill-rule=\"evenodd\" fill-opacity=\"1\" stroke=\"#000000\" stroke-opacity=\"1\" stroke-width=\"3.2\"/>\n<circle clip-path=\"url(#clip602)\" cx=\"1801.65\" cy=\"108.254\" r=\"14\" fill=\"#e26f46\" fill-rule=\"evenodd\" fill-opacity=\"1\" stroke=\"#000000\" stroke-opacity=\"1\" stroke-width=\"3.2\"/>\n<circle clip-path=\"url(#clip602)\" cx=\"1856.76\" cy=\"102.153\" r=\"14\" fill=\"#e26f46\" fill-rule=\"evenodd\" fill-opacity=\"1\" stroke=\"#000000\" stroke-opacity=\"1\" stroke-width=\"3.2\"/>\n<circle clip-path=\"url(#clip602)\" cx=\"1911.87\" cy=\"96.6618\" r=\"14\" fill=\"#e26f46\" fill-rule=\"evenodd\" fill-opacity=\"1\" stroke=\"#000000\" stroke-opacity=\"1\" stroke-width=\"3.2\"/>\n<circle clip-path=\"url(#clip602)\" cx=\"1966.98\" cy=\"91.72\" r=\"14\" fill=\"#e26f46\" fill-rule=\"evenodd\" fill-opacity=\"1\" stroke=\"#000000\" stroke-opacity=\"1\" stroke-width=\"3.2\"/>\n<circle clip-path=\"url(#clip602)\" cx=\"2022.09\" cy=\"87.2724\" r=\"14\" fill=\"#e26f46\" fill-rule=\"evenodd\" fill-opacity=\"1\" stroke=\"#000000\" stroke-opacity=\"1\" stroke-width=\"3.2\"/>\n<circle clip-path=\"url(#clip602)\" cx=\"2077.2\" cy=\"83.2696\" r=\"14\" fill=\"#e26f46\" fill-rule=\"evenodd\" fill-opacity=\"1\" stroke=\"#000000\" stroke-opacity=\"1\" stroke-width=\"3.2\"/>\n<circle clip-path=\"url(#clip602)\" cx=\"2132.31\" cy=\"79.6671\" r=\"14\" fill=\"#e26f46\" fill-rule=\"evenodd\" fill-opacity=\"1\" stroke=\"#000000\" stroke-opacity=\"1\" stroke-width=\"3.2\"/>\n<circle clip-path=\"url(#clip602)\" cx=\"2187.42\" cy=\"76.4248\" r=\"14\" fill=\"#e26f46\" fill-rule=\"evenodd\" fill-opacity=\"1\" stroke=\"#000000\" stroke-opacity=\"1\" stroke-width=\"3.2\"/>\n<circle clip-path=\"url(#clip602)\" cx=\"2242.53\" cy=\"73.5067\" r=\"14\" fill=\"#e26f46\" fill-rule=\"evenodd\" fill-opacity=\"1\" stroke=\"#000000\" stroke-opacity=\"1\" stroke-width=\"3.2\"/>\n<circle clip-path=\"url(#clip602)\" cx=\"2297.65\" cy=\"70.8804\" r=\"14\" fill=\"#e26f46\" fill-rule=\"evenodd\" fill-opacity=\"1\" stroke=\"#000000\" stroke-opacity=\"1\" stroke-width=\"3.2\"/>\n<circle clip-path=\"url(#clip602)\" cx=\"2352.76\" cy=\"68.5168\" r=\"14\" fill=\"#e26f46\" fill-rule=\"evenodd\" fill-opacity=\"1\" stroke=\"#000000\" stroke-opacity=\"1\" stroke-width=\"3.2\"/>\n<polyline clip-path=\"url(#clip602)\" style=\"stroke:#3da44d; stroke-width:4; stroke-opacity:1; fill:none\" points=\"\n  148.334,1486.45 175.89,1486.45 175.89,766.846 203.445,766.846 203.445,407.045 231,407.045 231,227.145 258.555,227.145 258.555,137.194 286.111,137.194 \n  286.111,92.2192 313.666,92.2192 313.666,69.7317 341.221,69.7317 341.221,58.4879 368.777,58.4879 368.777,52.866 396.332,52.866 396.332,50.055 423.887,50.055 \n  423.887,48.6496 451.442,48.6496 451.442,47.9468 478.998,47.9468 478.998,47.5955 506.553,47.5955 506.553,47.4198 534.108,47.4198 534.108,47.3319 561.663,47.3319 \n  561.663,47.288 589.219,47.288 589.219,47.2661 616.774,47.2661 616.774,47.2551 644.329,47.2551 644.329,47.2496 671.884,47.2496 671.884,47.2468 699.44,47.2468 \n  699.44,47.2455 726.995,47.2455 726.995,47.2448 754.55,47.2448 754.55,47.2444 782.106,47.2444 782.106,47.2443 809.661,47.2443 809.661,47.2442 837.216,47.2442 \n  837.216,47.2441 864.771,47.2441 864.771,47.2441 892.327,47.2441 892.327,47.2441 919.882,47.2441 919.882,47.2441 947.437,47.2441 947.437,47.2441 974.992,47.2441 \n  974.992,47.2441 1002.55,47.2441 1002.55,47.2441 1030.1,47.2441 1030.1,47.2441 1057.66,47.2441 1057.66,47.2441 1085.21,47.2441 1085.21,47.2441 1112.77,47.2441 \n  1112.77,47.2441 1140.32,47.2441 1140.32,47.2441 1167.88,47.2441 1167.88,47.2441 1195.43,47.2441 1195.43,47.2441 1222.99,47.2441 1222.99,47.2441 1250.55,47.2441 \n  1250.55,47.2441 1278.1,47.2441 1278.1,47.2441 1305.66,47.2441 1305.66,47.2441 1333.21,47.2441 1333.21,47.2441 1360.77,47.2441 1360.77,47.2441 1388.32,47.2441 \n  1388.32,47.2441 1415.88,47.2441 1415.88,47.2441 1443.43,47.2441 1443.43,47.2441 1470.99,47.2441 1470.99,47.2441 1498.54,47.2441 1498.54,47.2441 1526.1,47.2441 \n  1526.1,47.2441 1553.65,47.2441 1553.65,47.2441 1581.21,47.2441 1581.21,47.2441 1608.76,47.2441 1636.32,47.2441 1636.32,47.2441 1663.87,47.2441 \n  1691.43,47.2441 1718.98,47.2441 1746.54,47.2441 1774.1,47.2441 1801.65,47.2441 \n  1829.21,47.2441 1856.76,47.2441 1884.32,47.2441 1911.87,47.2441 1939.43,47.2441 \n  1966.98,47.2441 1994.54,47.2441 2022.09,47.2441 2049.65,47.2441 2077.2,47.2441 \n  2104.76,47.2441 2132.31,47.2441 2159.87,47.2441 2187.42,47.2441 2214.98,47.2441 \n  2242.53,47.2441 2270.09,47.2441 2297.65,47.2441 2325.2,47.2441 2352.76,47.2441 \n  2380.31,47.2441 2407.87,47.2441 2435.42,47.2441 2462.98,47.2441 2490.53,47.2441 \n  2518.09,47.2441 2545.64,47.2441 2573.2,47.2441 2600.75,47.2441 2628.31,47.2441 \n  2655.86,47.2441 2683.42,47.2441 2710.97,47.2441 2738.53,47.2441 2766.08,47.2441 \n  2793.64,47.2441 2821.2,47.2441 2848.75,47.2441 2876.31,47.2441 2903.86,47.2441 \n  \n  \"/>\n<circle clip-path=\"url(#clip602)\" cx=\"175.89\" cy=\"766.846\" r=\"14\" fill=\"#c271d2\" fill-rule=\"evenodd\" fill-opacity=\"1\" stroke=\"#000000\" stroke-opacity=\"1\" stroke-width=\"3.2\"/>\n<circle clip-path=\"url(#clip602)\" cx=\"203.445\" cy=\"407.045\" r=\"14\" fill=\"#c271d2\" fill-rule=\"evenodd\" fill-opacity=\"1\" stroke=\"#000000\" stroke-opacity=\"1\" stroke-width=\"3.2\"/>\n<circle clip-path=\"url(#clip602)\" cx=\"231\" cy=\"227.145\" r=\"14\" fill=\"#c271d2\" fill-rule=\"evenodd\" fill-opacity=\"1\" stroke=\"#000000\" stroke-opacity=\"1\" stroke-width=\"3.2\"/>\n<circle clip-path=\"url(#clip602)\" cx=\"258.555\" cy=\"137.194\" r=\"14\" fill=\"#c271d2\" fill-rule=\"evenodd\" fill-opacity=\"1\" stroke=\"#000000\" stroke-opacity=\"1\" stroke-width=\"3.2\"/>\n<circle clip-path=\"url(#clip602)\" cx=\"286.111\" cy=\"92.2192\" r=\"14\" fill=\"#c271d2\" fill-rule=\"evenodd\" fill-opacity=\"1\" stroke=\"#000000\" stroke-opacity=\"1\" stroke-width=\"3.2\"/>\n<circle clip-path=\"url(#clip602)\" cx=\"313.666\" cy=\"69.7317\" r=\"14\" fill=\"#c271d2\" fill-rule=\"evenodd\" fill-opacity=\"1\" stroke=\"#000000\" stroke-opacity=\"1\" stroke-width=\"3.2\"/>\n<circle clip-path=\"url(#clip602)\" cx=\"341.221\" cy=\"58.4879\" r=\"14\" fill=\"#c271d2\" fill-rule=\"evenodd\" fill-opacity=\"1\" stroke=\"#000000\" stroke-opacity=\"1\" stroke-width=\"3.2\"/>\n<circle clip-path=\"url(#clip602)\" cx=\"368.777\" cy=\"52.866\" r=\"14\" fill=\"#c271d2\" fill-rule=\"evenodd\" fill-opacity=\"1\" stroke=\"#000000\" stroke-opacity=\"1\" stroke-width=\"3.2\"/>\n<circle clip-path=\"url(#clip602)\" cx=\"396.332\" cy=\"50.055\" r=\"14\" fill=\"#c271d2\" fill-rule=\"evenodd\" fill-opacity=\"1\" stroke=\"#000000\" stroke-opacity=\"1\" stroke-width=\"3.2\"/>\n<circle clip-path=\"url(#clip602)\" cx=\"423.887\" cy=\"48.6496\" r=\"14\" fill=\"#c271d2\" fill-rule=\"evenodd\" fill-opacity=\"1\" stroke=\"#000000\" stroke-opacity=\"1\" stroke-width=\"3.2\"/>\n<circle clip-path=\"url(#clip602)\" cx=\"451.442\" cy=\"47.9468\" r=\"14\" fill=\"#c271d2\" fill-rule=\"evenodd\" fill-opacity=\"1\" stroke=\"#000000\" stroke-opacity=\"1\" stroke-width=\"3.2\"/>\n<circle clip-path=\"url(#clip602)\" cx=\"478.998\" cy=\"47.5955\" r=\"14\" fill=\"#c271d2\" fill-rule=\"evenodd\" fill-opacity=\"1\" stroke=\"#000000\" stroke-opacity=\"1\" stroke-width=\"3.2\"/>\n<circle clip-path=\"url(#clip602)\" cx=\"506.553\" cy=\"47.4198\" r=\"14\" fill=\"#c271d2\" fill-rule=\"evenodd\" fill-opacity=\"1\" stroke=\"#000000\" stroke-opacity=\"1\" stroke-width=\"3.2\"/>\n<circle clip-path=\"url(#clip602)\" cx=\"534.108\" cy=\"47.3319\" r=\"14\" fill=\"#c271d2\" fill-rule=\"evenodd\" fill-opacity=\"1\" stroke=\"#000000\" stroke-opacity=\"1\" stroke-width=\"3.2\"/>\n<circle clip-path=\"url(#clip602)\" cx=\"561.663\" cy=\"47.288\" r=\"14\" fill=\"#c271d2\" fill-rule=\"evenodd\" fill-opacity=\"1\" stroke=\"#000000\" stroke-opacity=\"1\" stroke-width=\"3.2\"/>\n<circle clip-path=\"url(#clip602)\" cx=\"589.219\" cy=\"47.2661\" r=\"14\" fill=\"#c271d2\" fill-rule=\"evenodd\" fill-opacity=\"1\" stroke=\"#000000\" stroke-opacity=\"1\" stroke-width=\"3.2\"/>\n<circle clip-path=\"url(#clip602)\" cx=\"616.774\" cy=\"47.2551\" r=\"14\" fill=\"#c271d2\" fill-rule=\"evenodd\" fill-opacity=\"1\" stroke=\"#000000\" stroke-opacity=\"1\" stroke-width=\"3.2\"/>\n<circle clip-path=\"url(#clip602)\" cx=\"644.329\" cy=\"47.2496\" r=\"14\" fill=\"#c271d2\" fill-rule=\"evenodd\" fill-opacity=\"1\" stroke=\"#000000\" stroke-opacity=\"1\" stroke-width=\"3.2\"/>\n<circle clip-path=\"url(#clip602)\" cx=\"671.884\" cy=\"47.2468\" r=\"14\" fill=\"#c271d2\" fill-rule=\"evenodd\" fill-opacity=\"1\" stroke=\"#000000\" stroke-opacity=\"1\" stroke-width=\"3.2\"/>\n<circle clip-path=\"url(#clip602)\" cx=\"699.44\" cy=\"47.2455\" r=\"14\" fill=\"#c271d2\" fill-rule=\"evenodd\" fill-opacity=\"1\" stroke=\"#000000\" stroke-opacity=\"1\" stroke-width=\"3.2\"/>\n<circle clip-path=\"url(#clip602)\" cx=\"726.995\" cy=\"47.2448\" r=\"14\" fill=\"#c271d2\" fill-rule=\"evenodd\" fill-opacity=\"1\" stroke=\"#000000\" stroke-opacity=\"1\" stroke-width=\"3.2\"/>\n<circle clip-path=\"url(#clip602)\" cx=\"754.55\" cy=\"47.2444\" r=\"14\" fill=\"#c271d2\" fill-rule=\"evenodd\" fill-opacity=\"1\" stroke=\"#000000\" stroke-opacity=\"1\" stroke-width=\"3.2\"/>\n<circle clip-path=\"url(#clip602)\" cx=\"782.106\" cy=\"47.2443\" r=\"14\" fill=\"#c271d2\" fill-rule=\"evenodd\" fill-opacity=\"1\" stroke=\"#000000\" stroke-opacity=\"1\" stroke-width=\"3.2\"/>\n<circle clip-path=\"url(#clip602)\" cx=\"809.661\" cy=\"47.2442\" r=\"14\" fill=\"#c271d2\" fill-rule=\"evenodd\" fill-opacity=\"1\" stroke=\"#000000\" stroke-opacity=\"1\" stroke-width=\"3.2\"/>\n<circle clip-path=\"url(#clip602)\" cx=\"837.216\" cy=\"47.2441\" r=\"14\" fill=\"#c271d2\" fill-rule=\"evenodd\" fill-opacity=\"1\" stroke=\"#000000\" stroke-opacity=\"1\" stroke-width=\"3.2\"/>\n<circle clip-path=\"url(#clip602)\" cx=\"864.771\" cy=\"47.2441\" r=\"14\" fill=\"#c271d2\" fill-rule=\"evenodd\" fill-opacity=\"1\" stroke=\"#000000\" stroke-opacity=\"1\" stroke-width=\"3.2\"/>\n<circle clip-path=\"url(#clip602)\" cx=\"892.327\" cy=\"47.2441\" r=\"14\" fill=\"#c271d2\" fill-rule=\"evenodd\" fill-opacity=\"1\" stroke=\"#000000\" stroke-opacity=\"1\" stroke-width=\"3.2\"/>\n<circle clip-path=\"url(#clip602)\" cx=\"919.882\" cy=\"47.2441\" r=\"14\" fill=\"#c271d2\" fill-rule=\"evenodd\" fill-opacity=\"1\" stroke=\"#000000\" stroke-opacity=\"1\" stroke-width=\"3.2\"/>\n<circle clip-path=\"url(#clip602)\" cx=\"947.437\" cy=\"47.2441\" r=\"14\" fill=\"#c271d2\" fill-rule=\"evenodd\" fill-opacity=\"1\" stroke=\"#000000\" stroke-opacity=\"1\" stroke-width=\"3.2\"/>\n<circle clip-path=\"url(#clip602)\" cx=\"974.992\" cy=\"47.2441\" r=\"14\" fill=\"#c271d2\" fill-rule=\"evenodd\" fill-opacity=\"1\" stroke=\"#000000\" stroke-opacity=\"1\" stroke-width=\"3.2\"/>\n<circle clip-path=\"url(#clip602)\" cx=\"1002.55\" cy=\"47.2441\" r=\"14\" fill=\"#c271d2\" fill-rule=\"evenodd\" fill-opacity=\"1\" stroke=\"#000000\" stroke-opacity=\"1\" stroke-width=\"3.2\"/>\n<circle clip-path=\"url(#clip602)\" cx=\"1030.1\" cy=\"47.2441\" r=\"14\" fill=\"#c271d2\" fill-rule=\"evenodd\" fill-opacity=\"1\" stroke=\"#000000\" stroke-opacity=\"1\" stroke-width=\"3.2\"/>\n<circle clip-path=\"url(#clip602)\" cx=\"1057.66\" cy=\"47.2441\" r=\"14\" fill=\"#c271d2\" fill-rule=\"evenodd\" fill-opacity=\"1\" stroke=\"#000000\" stroke-opacity=\"1\" stroke-width=\"3.2\"/>\n<circle clip-path=\"url(#clip602)\" cx=\"1085.21\" cy=\"47.2441\" r=\"14\" fill=\"#c271d2\" fill-rule=\"evenodd\" fill-opacity=\"1\" stroke=\"#000000\" stroke-opacity=\"1\" stroke-width=\"3.2\"/>\n<circle clip-path=\"url(#clip602)\" cx=\"1112.77\" cy=\"47.2441\" r=\"14\" fill=\"#c271d2\" fill-rule=\"evenodd\" fill-opacity=\"1\" stroke=\"#000000\" stroke-opacity=\"1\" stroke-width=\"3.2\"/>\n<circle clip-path=\"url(#clip602)\" cx=\"1140.32\" cy=\"47.2441\" r=\"14\" fill=\"#c271d2\" fill-rule=\"evenodd\" fill-opacity=\"1\" stroke=\"#000000\" stroke-opacity=\"1\" stroke-width=\"3.2\"/>\n<circle clip-path=\"url(#clip602)\" cx=\"1167.88\" cy=\"47.2441\" r=\"14\" fill=\"#c271d2\" fill-rule=\"evenodd\" fill-opacity=\"1\" stroke=\"#000000\" stroke-opacity=\"1\" stroke-width=\"3.2\"/>\n<circle clip-path=\"url(#clip602)\" cx=\"1195.43\" cy=\"47.2441\" r=\"14\" fill=\"#c271d2\" fill-rule=\"evenodd\" fill-opacity=\"1\" stroke=\"#000000\" stroke-opacity=\"1\" stroke-width=\"3.2\"/>\n<circle clip-path=\"url(#clip602)\" cx=\"1222.99\" cy=\"47.2441\" r=\"14\" fill=\"#c271d2\" fill-rule=\"evenodd\" fill-opacity=\"1\" stroke=\"#000000\" stroke-opacity=\"1\" stroke-width=\"3.2\"/>\n<circle clip-path=\"url(#clip602)\" cx=\"1250.55\" cy=\"47.2441\" r=\"14\" fill=\"#c271d2\" fill-rule=\"evenodd\" fill-opacity=\"1\" stroke=\"#000000\" stroke-opacity=\"1\" stroke-width=\"3.2\"/>\n<circle clip-path=\"url(#clip602)\" cx=\"1278.1\" cy=\"47.2441\" r=\"14\" fill=\"#c271d2\" fill-rule=\"evenodd\" fill-opacity=\"1\" stroke=\"#000000\" stroke-opacity=\"1\" stroke-width=\"3.2\"/>\n<circle clip-path=\"url(#clip602)\" cx=\"1305.66\" cy=\"47.2441\" r=\"14\" fill=\"#c271d2\" fill-rule=\"evenodd\" fill-opacity=\"1\" stroke=\"#000000\" stroke-opacity=\"1\" stroke-width=\"3.2\"/>\n<circle clip-path=\"url(#clip602)\" cx=\"1333.21\" cy=\"47.2441\" r=\"14\" fill=\"#c271d2\" fill-rule=\"evenodd\" fill-opacity=\"1\" stroke=\"#000000\" stroke-opacity=\"1\" stroke-width=\"3.2\"/>\n<circle clip-path=\"url(#clip602)\" cx=\"1360.77\" cy=\"47.2441\" r=\"14\" fill=\"#c271d2\" fill-rule=\"evenodd\" fill-opacity=\"1\" stroke=\"#000000\" stroke-opacity=\"1\" stroke-width=\"3.2\"/>\n<circle clip-path=\"url(#clip602)\" cx=\"1388.32\" cy=\"47.2441\" r=\"14\" fill=\"#c271d2\" fill-rule=\"evenodd\" fill-opacity=\"1\" stroke=\"#000000\" stroke-opacity=\"1\" stroke-width=\"3.2\"/>\n<circle clip-path=\"url(#clip602)\" cx=\"1415.88\" cy=\"47.2441\" r=\"14\" fill=\"#c271d2\" fill-rule=\"evenodd\" fill-opacity=\"1\" stroke=\"#000000\" stroke-opacity=\"1\" stroke-width=\"3.2\"/>\n<circle clip-path=\"url(#clip602)\" cx=\"1443.43\" cy=\"47.2441\" r=\"14\" fill=\"#c271d2\" fill-rule=\"evenodd\" fill-opacity=\"1\" stroke=\"#000000\" stroke-opacity=\"1\" stroke-width=\"3.2\"/>\n<circle clip-path=\"url(#clip602)\" cx=\"1470.99\" cy=\"47.2441\" r=\"14\" fill=\"#c271d2\" fill-rule=\"evenodd\" fill-opacity=\"1\" stroke=\"#000000\" stroke-opacity=\"1\" stroke-width=\"3.2\"/>\n<circle clip-path=\"url(#clip602)\" cx=\"1498.54\" cy=\"47.2441\" r=\"14\" fill=\"#c271d2\" fill-rule=\"evenodd\" fill-opacity=\"1\" stroke=\"#000000\" stroke-opacity=\"1\" stroke-width=\"3.2\"/>\n<circle clip-path=\"url(#clip602)\" cx=\"1526.1\" cy=\"47.2441\" r=\"14\" fill=\"#c271d2\" fill-rule=\"evenodd\" fill-opacity=\"1\" stroke=\"#000000\" stroke-opacity=\"1\" stroke-width=\"3.2\"/>\n<circle clip-path=\"url(#clip602)\" cx=\"1553.65\" cy=\"47.2441\" r=\"14\" fill=\"#c271d2\" fill-rule=\"evenodd\" fill-opacity=\"1\" stroke=\"#000000\" stroke-opacity=\"1\" stroke-width=\"3.2\"/>\n<circle clip-path=\"url(#clip602)\" cx=\"1581.21\" cy=\"47.2441\" r=\"14\" fill=\"#c271d2\" fill-rule=\"evenodd\" fill-opacity=\"1\" stroke=\"#000000\" stroke-opacity=\"1\" stroke-width=\"3.2\"/>\n<circle clip-path=\"url(#clip602)\" cx=\"1608.76\" cy=\"47.2441\" r=\"14\" fill=\"#c271d2\" fill-rule=\"evenodd\" fill-opacity=\"1\" stroke=\"#000000\" stroke-opacity=\"1\" stroke-width=\"3.2\"/>\n<circle clip-path=\"url(#clip602)\" cx=\"1636.32\" cy=\"47.2441\" r=\"14\" fill=\"#c271d2\" fill-rule=\"evenodd\" fill-opacity=\"1\" stroke=\"#000000\" stroke-opacity=\"1\" stroke-width=\"3.2\"/>\n<circle clip-path=\"url(#clip602)\" cx=\"1663.87\" cy=\"47.2441\" r=\"14\" fill=\"#c271d2\" fill-rule=\"evenodd\" fill-opacity=\"1\" stroke=\"#000000\" stroke-opacity=\"1\" stroke-width=\"3.2\"/>\n<circle clip-path=\"url(#clip602)\" cx=\"1691.43\" cy=\"47.2441\" r=\"14\" fill=\"#c271d2\" fill-rule=\"evenodd\" fill-opacity=\"1\" stroke=\"#000000\" stroke-opacity=\"1\" stroke-width=\"3.2\"/>\n<circle clip-path=\"url(#clip602)\" cx=\"1718.98\" cy=\"47.2441\" r=\"14\" fill=\"#c271d2\" fill-rule=\"evenodd\" fill-opacity=\"1\" stroke=\"#000000\" stroke-opacity=\"1\" stroke-width=\"3.2\"/>\n<circle clip-path=\"url(#clip602)\" cx=\"1746.54\" cy=\"47.2441\" r=\"14\" fill=\"#c271d2\" fill-rule=\"evenodd\" fill-opacity=\"1\" stroke=\"#000000\" stroke-opacity=\"1\" stroke-width=\"3.2\"/>\n<circle clip-path=\"url(#clip602)\" cx=\"1774.1\" cy=\"47.2441\" r=\"14\" fill=\"#c271d2\" fill-rule=\"evenodd\" fill-opacity=\"1\" stroke=\"#000000\" stroke-opacity=\"1\" stroke-width=\"3.2\"/>\n<circle clip-path=\"url(#clip602)\" cx=\"1801.65\" cy=\"47.2441\" r=\"14\" fill=\"#c271d2\" fill-rule=\"evenodd\" fill-opacity=\"1\" stroke=\"#000000\" stroke-opacity=\"1\" stroke-width=\"3.2\"/>\n<circle clip-path=\"url(#clip602)\" cx=\"1829.21\" cy=\"47.2441\" r=\"14\" fill=\"#c271d2\" fill-rule=\"evenodd\" fill-opacity=\"1\" stroke=\"#000000\" stroke-opacity=\"1\" stroke-width=\"3.2\"/>\n<circle clip-path=\"url(#clip602)\" cx=\"1856.76\" cy=\"47.2441\" r=\"14\" fill=\"#c271d2\" fill-rule=\"evenodd\" fill-opacity=\"1\" stroke=\"#000000\" stroke-opacity=\"1\" stroke-width=\"3.2\"/>\n<circle clip-path=\"url(#clip602)\" cx=\"1884.32\" cy=\"47.2441\" r=\"14\" fill=\"#c271d2\" fill-rule=\"evenodd\" fill-opacity=\"1\" stroke=\"#000000\" stroke-opacity=\"1\" stroke-width=\"3.2\"/>\n<circle clip-path=\"url(#clip602)\" cx=\"1911.87\" cy=\"47.2441\" r=\"14\" fill=\"#c271d2\" fill-rule=\"evenodd\" fill-opacity=\"1\" stroke=\"#000000\" stroke-opacity=\"1\" stroke-width=\"3.2\"/>\n<circle clip-path=\"url(#clip602)\" cx=\"1939.43\" cy=\"47.2441\" r=\"14\" fill=\"#c271d2\" fill-rule=\"evenodd\" fill-opacity=\"1\" stroke=\"#000000\" stroke-opacity=\"1\" stroke-width=\"3.2\"/>\n<circle clip-path=\"url(#clip602)\" cx=\"1966.98\" cy=\"47.2441\" r=\"14\" fill=\"#c271d2\" fill-rule=\"evenodd\" fill-opacity=\"1\" stroke=\"#000000\" stroke-opacity=\"1\" stroke-width=\"3.2\"/>\n<circle clip-path=\"url(#clip602)\" cx=\"1994.54\" cy=\"47.2441\" r=\"14\" fill=\"#c271d2\" fill-rule=\"evenodd\" fill-opacity=\"1\" stroke=\"#000000\" stroke-opacity=\"1\" stroke-width=\"3.2\"/>\n<circle clip-path=\"url(#clip602)\" cx=\"2022.09\" cy=\"47.2441\" r=\"14\" fill=\"#c271d2\" fill-rule=\"evenodd\" fill-opacity=\"1\" stroke=\"#000000\" stroke-opacity=\"1\" stroke-width=\"3.2\"/>\n<circle clip-path=\"url(#clip602)\" cx=\"2049.65\" cy=\"47.2441\" r=\"14\" fill=\"#c271d2\" fill-rule=\"evenodd\" fill-opacity=\"1\" stroke=\"#000000\" stroke-opacity=\"1\" stroke-width=\"3.2\"/>\n<circle clip-path=\"url(#clip602)\" cx=\"2077.2\" cy=\"47.2441\" r=\"14\" fill=\"#c271d2\" fill-rule=\"evenodd\" fill-opacity=\"1\" stroke=\"#000000\" stroke-opacity=\"1\" stroke-width=\"3.2\"/>\n<circle clip-path=\"url(#clip602)\" cx=\"2104.76\" cy=\"47.2441\" r=\"14\" fill=\"#c271d2\" fill-rule=\"evenodd\" fill-opacity=\"1\" stroke=\"#000000\" stroke-opacity=\"1\" stroke-width=\"3.2\"/>\n<circle clip-path=\"url(#clip602)\" cx=\"2132.31\" cy=\"47.2441\" r=\"14\" fill=\"#c271d2\" fill-rule=\"evenodd\" fill-opacity=\"1\" stroke=\"#000000\" stroke-opacity=\"1\" stroke-width=\"3.2\"/>\n<circle clip-path=\"url(#clip602)\" cx=\"2159.87\" cy=\"47.2441\" r=\"14\" fill=\"#c271d2\" fill-rule=\"evenodd\" fill-opacity=\"1\" stroke=\"#000000\" stroke-opacity=\"1\" stroke-width=\"3.2\"/>\n<circle clip-path=\"url(#clip602)\" cx=\"2187.42\" cy=\"47.2441\" r=\"14\" fill=\"#c271d2\" fill-rule=\"evenodd\" fill-opacity=\"1\" stroke=\"#000000\" stroke-opacity=\"1\" stroke-width=\"3.2\"/>\n<circle clip-path=\"url(#clip602)\" cx=\"2214.98\" cy=\"47.2441\" r=\"14\" fill=\"#c271d2\" fill-rule=\"evenodd\" fill-opacity=\"1\" stroke=\"#000000\" stroke-opacity=\"1\" stroke-width=\"3.2\"/>\n<circle clip-path=\"url(#clip602)\" cx=\"2242.53\" cy=\"47.2441\" r=\"14\" fill=\"#c271d2\" fill-rule=\"evenodd\" fill-opacity=\"1\" stroke=\"#000000\" stroke-opacity=\"1\" stroke-width=\"3.2\"/>\n<circle clip-path=\"url(#clip602)\" cx=\"2270.09\" cy=\"47.2441\" r=\"14\" fill=\"#c271d2\" fill-rule=\"evenodd\" fill-opacity=\"1\" stroke=\"#000000\" stroke-opacity=\"1\" stroke-width=\"3.2\"/>\n<circle clip-path=\"url(#clip602)\" cx=\"2297.65\" cy=\"47.2441\" r=\"14\" fill=\"#c271d2\" fill-rule=\"evenodd\" fill-opacity=\"1\" stroke=\"#000000\" stroke-opacity=\"1\" stroke-width=\"3.2\"/>\n<circle clip-path=\"url(#clip602)\" cx=\"2325.2\" cy=\"47.2441\" r=\"14\" fill=\"#c271d2\" fill-rule=\"evenodd\" fill-opacity=\"1\" stroke=\"#000000\" stroke-opacity=\"1\" stroke-width=\"3.2\"/>\n<circle clip-path=\"url(#clip602)\" cx=\"2352.76\" cy=\"47.2441\" r=\"14\" fill=\"#c271d2\" fill-rule=\"evenodd\" fill-opacity=\"1\" stroke=\"#000000\" stroke-opacity=\"1\" stroke-width=\"3.2\"/>\n<path clip-path=\"url(#clip600)\" d=\"\nM1882.72 276.658 L2279.28 276.658 L2279.28 95.2176 L1882.72 95.2176  Z\n  \" fill=\"#ffffff\" fill-rule=\"evenodd\" fill-opacity=\"1\"/>\n<polyline clip-path=\"url(#clip600)\" style=\"stroke:#000000; stroke-width:4; stroke-opacity:1; fill:none\" points=\"\n  1882.72,276.658 2279.28,276.658 2279.28,95.2176 1882.72,95.2176 1882.72,276.658 \n  \"/>\n<circle clip-path=\"url(#clip600)\" cx=\"1980.69\" cy=\"155.698\" r=\"23\" fill=\"#e26f46\" fill-rule=\"evenodd\" fill-opacity=\"1\" stroke=\"#000000\" stroke-opacity=\"1\" stroke-width=\"5.12\"/>\n<path clip-path=\"url(#clip600)\" d=\"M 0 0 M2099.29 142.955 Q2096.93 141.334 2091.4 141.334 Q2085.54 141.334 2085.54 144.043 Q2085.54 146.172 2091.65 147.283 Q2096.47 148.14 2099.18 150.732 Q2102.46 153.857 2102.46 160.269 Q2102.46 166.404 2099.29 170.015 Q2096.12 173.649 2090.57 173.649 Q2085.03 173.649 2081.84 170.015 Q2078.67 166.404 2078.67 160.038 Q2078.67 155.316 2081.84 151.496 Q2083.07 150.015 2084.8 149.181 Q2081.19 147.353 2081.19 144.089 Q2081.19 137.793 2091.4 137.793 Q2096.52 137.793 2099.29 139.413 L2099.29 142.955 M2088 150.339 Q2086.42 151.01 2085.15 152.7 Q2083.16 155.316 2083.16 160.038 Q2083.16 164.737 2085.13 167.376 Q2087.12 170.038 2090.57 170.038 Q2093.97 170.038 2095.96 167.353 Q2097.95 164.667 2097.95 160.269 Q2097.95 155.663 2095.84 153.441 Q2093.6 151.056 2090.68 150.802 Q2089.2 150.663 2088 150.339 Z\" fill=\"#000000\" fill-rule=\"evenodd\" fill-opacity=\"1\" /><path clip-path=\"url(#clip600)\" d=\"M 0 0 M2122.56 151.45 L2152.23 151.45 L2152.23 155.339 L2122.56 155.339 L2122.56 151.45 M2122.56 160.894 L2152.23 160.894 L2152.23 164.829 L2122.56 164.829 L2122.56 160.894 Z\" fill=\"#000000\" fill-rule=\"evenodd\" fill-opacity=\"1\" /><path clip-path=\"url(#clip600)\" d=\"M 0 0 M2173.18 169.042 L2180.82 169.042 L2180.82 142.677 L2172.51 144.343 L2172.51 140.084 L2180.77 138.418 L2185.45 138.418 L2185.45 169.042 L2193.09 169.042 L2193.09 172.978 L2173.18 172.978 L2173.18 169.042 Z\" fill=\"#000000\" fill-rule=\"evenodd\" fill-opacity=\"1\" /><circle clip-path=\"url(#clip600)\" cx=\"1980.69\" cy=\"216.178\" r=\"23\" fill=\"#c271d2\" fill-rule=\"evenodd\" fill-opacity=\"1\" stroke=\"#000000\" stroke-opacity=\"1\" stroke-width=\"5.12\"/>\n<path clip-path=\"url(#clip600)\" d=\"M 0 0 M2099.29 203.435 Q2096.93 201.814 2091.4 201.814 Q2085.54 201.814 2085.54 204.523 Q2085.54 206.652 2091.65 207.763 Q2096.47 208.62 2099.18 211.212 Q2102.46 214.337 2102.46 220.749 Q2102.46 226.884 2099.29 230.495 Q2096.12 234.129 2090.57 234.129 Q2085.03 234.129 2081.84 230.495 Q2078.67 226.884 2078.67 220.518 Q2078.67 215.796 2081.84 211.976 Q2083.07 210.495 2084.8 209.661 Q2081.19 207.833 2081.19 204.569 Q2081.19 198.273 2091.4 198.273 Q2096.52 198.273 2099.29 199.893 L2099.29 203.435 M2088 210.819 Q2086.42 211.49 2085.15 213.18 Q2083.16 215.796 2083.16 220.518 Q2083.16 225.217 2085.13 227.856 Q2087.12 230.518 2090.57 230.518 Q2093.97 230.518 2095.96 227.833 Q2097.95 225.147 2097.95 220.749 Q2097.95 216.143 2095.84 213.921 Q2093.6 211.536 2090.68 211.282 Q2089.2 211.143 2088 210.819 Z\" fill=\"#000000\" fill-rule=\"evenodd\" fill-opacity=\"1\" /><path clip-path=\"url(#clip600)\" d=\"M 0 0 M2122.56 211.93 L2152.23 211.93 L2152.23 215.819 L2122.56 215.819 L2122.56 211.93 M2122.56 221.374 L2152.23 221.374 L2152.23 225.309 L2122.56 225.309 L2122.56 221.374 Z\" fill=\"#000000\" fill-rule=\"evenodd\" fill-opacity=\"1\" /><path clip-path=\"url(#clip600)\" d=\"M 0 0 M2182.37 201.976 Q2178.76 201.976 2176.93 205.541 Q2175.13 209.083 2175.13 216.212 Q2175.13 223.319 2176.93 226.884 Q2178.76 230.425 2182.37 230.425 Q2186.01 230.425 2187.81 226.884 Q2189.64 223.319 2189.64 216.212 Q2189.64 209.083 2187.81 205.541 Q2186.01 201.976 2182.37 201.976 M2182.37 198.273 Q2188.18 198.273 2191.24 202.879 Q2194.32 207.462 2194.32 216.212 Q2194.32 224.939 2191.24 229.546 Q2188.18 234.129 2182.37 234.129 Q2176.56 234.129 2173.48 229.546 Q2170.43 224.939 2170.43 216.212 Q2170.43 207.462 2173.48 202.879 Q2176.56 198.273 2182.37 198.273 Z\" fill=\"#000000\" fill-rule=\"evenodd\" fill-opacity=\"1\" /><path clip-path=\"url(#clip600)\" d=\"M 0 0 M2199.39 227.578 L2204.27 227.578 L2204.27 233.458 L2199.39 233.458 L2199.39 227.578 Z\" fill=\"#000000\" fill-rule=\"evenodd\" fill-opacity=\"1\" /><path clip-path=\"url(#clip600)\" d=\"M 0 0 M2209.39 198.898 L2227.74 198.898 L2227.74 202.833 L2213.67 202.833 L2213.67 211.305 Q2214.69 210.958 2215.7 210.796 Q2216.72 210.61 2217.74 210.61 Q2223.53 210.61 2226.91 213.782 Q2230.29 216.953 2230.29 222.37 Q2230.29 227.948 2226.82 231.05 Q2223.34 234.129 2217.02 234.129 Q2214.85 234.129 2212.58 233.758 Q2210.33 233.388 2207.93 232.647 L2207.93 227.948 Q2210.01 229.083 2212.23 229.638 Q2214.45 230.194 2216.93 230.194 Q2220.94 230.194 2223.27 228.087 Q2225.61 225.981 2225.61 222.37 Q2225.61 218.759 2223.27 216.652 Q2220.94 214.546 2216.93 214.546 Q2215.06 214.546 2213.18 214.962 Q2211.33 215.379 2209.39 216.259 L2209.39 198.898 Z\" fill=\"#000000\" fill-rule=\"evenodd\" fill-opacity=\"1\" /></svg>\n"
               },
               "type": "node"
              }
             ],
             "instanceArgs": {
              "namespace": "html",
              "tag": "div"
             },
             "nodeType": "DOM",
             "props": {
              "className": "interact-flex-row interact-widget"
             },
             "type": "node"
            }
           }
          },
          "systemjs_options": null
         },
         "nodeType": "Scope",
         "props": {},
         "type": "node"
        }
       ],
       "instanceArgs": {
        "namespace": "html",
        "tag": "div"
       },
       "nodeType": "DOM",
       "props": {},
       "type": "node"
      },
      "text/html": [
       "<div\n",
       "    class=\"webio-mountpoint\"\n",
       "    data-webio-mountpoint=\"12026215540447750397\"\n",
       ">\n",
       "    <script>\n",
       "    if (window.require && require.defined && require.defined(\"nbextensions/webio-jupyter-notebook\")) {\n",
       "        console.log(\"Jupyter WebIO extension detected, not mounting.\");\n",
       "    } else if (window.WebIO) {\n",
       "        WebIO.mount(\n",
       "            document.querySelector('[data-webio-mountpoint=\"12026215540447750397\"]'),\n",
       "            {\"props\":{},\"nodeType\":\"DOM\",\"type\":\"node\",\"instanceArgs\":{\"namespace\":\"html\",\"tag\":\"div\"},\"children\":[{\"props\":{\"className\":\"field interact-widget\"},\"nodeType\":\"DOM\",\"type\":\"node\",\"instanceArgs\":{\"namespace\":\"html\",\"tag\":\"div\"},\"children\":[{\"props\":{},\"nodeType\":\"Scope\",\"type\":\"node\",\"instanceArgs\":{\"imports\":{\"data\":[{\"name\":\"knockout\",\"type\":\"js\",\"url\":\"\\/assetserver\\/4e15ea8f38f5d33bf0b2930cb09c8089f78b114e-knockout.js\"},{\"name\":\"knockout_punches\",\"type\":\"js\",\"url\":\"\\/assetserver\\/6967e46b2259ea2e5c469b61c410326b52955db7-knockout_punches.js\"},{\"name\":null,\"type\":\"js\",\"url\":\"\\/assetserver\\/a643ec32b5fd67f0647ab1f378e6bc75a94bf7ef-all.js\"},{\"name\":null,\"type\":\"css\",\"url\":\"\\/assetserver\\/c4a428321098a6b37c6165665184ef1be8f91e08-style.css\"},{\"name\":null,\"type\":\"css\",\"url\":\"\\/assetserver\\/62690f06d5dfb4c711812ef88e307907ed9b059b-bulma_confined.min.css\"}],\"type\":\"async_block\"},\"id\":\"11501610703138888992\",\"handlers\":{\"changes\":[\"(function (val){return (val!=this.model[\\\"changes\\\"]()) ? (this.valueFromJulia[\\\"changes\\\"]=true, this.model[\\\"changes\\\"](val)) : undefined})\"],\"index\":[\"(function (val){return (val!=this.model[\\\"index\\\"]()) ? (this.valueFromJulia[\\\"index\\\"]=true, this.model[\\\"index\\\"](val)) : undefined})\"]},\"systemjs_options\":null,\"mount_callbacks\":[\"function () {\\n    var handler = (function (ko, koPunches) {\\n    ko.punches.enableAll();\\n    ko.bindingHandlers.numericValue = {\\n        init: function(element, valueAccessor, allBindings, data, context) {\\n            var stringified = ko.observable(ko.unwrap(valueAccessor()));\\n            stringified.subscribe(function(value) {\\n                var val = parseFloat(value);\\n                if (!isNaN(val)) {\\n                    valueAccessor()(val);\\n                }\\n            });\\n            valueAccessor().subscribe(function(value) {\\n                var str = JSON.stringify(value);\\n                if ((str == \\\"0\\\") && ([\\\"-0\\\", \\\"-0.\\\"].indexOf(stringified()) >= 0))\\n                     return;\\n                 if ([\\\"null\\\", \\\"\\\"].indexOf(str) >= 0)\\n                     return;\\n                stringified(str);\\n            });\\n            ko.applyBindingsToNode(\\n                element,\\n                {\\n                    value: stringified,\\n                    valueUpdate: allBindings.get('valueUpdate'),\\n                },\\n                context,\\n            );\\n        }\\n    };\\n    var json_data = {\\\"formatted_vals\\\":[\\\"0.01\\\",\\\"0.02\\\",\\\"0.03\\\",\\\"0.04\\\",\\\"0.05\\\",\\\"0.06\\\",\\\"0.07\\\",\\\"0.08\\\",\\\"0.09\\\",\\\"0.1\\\",\\\"0.11\\\",\\\"0.12\\\",\\\"0.13\\\",\\\"0.14\\\",\\\"0.15\\\",\\\"0.16\\\",\\\"0.17\\\",\\\"0.18\\\",\\\"0.19\\\",\\\"0.2\\\",\\\"0.21\\\",\\\"0.22\\\",\\\"0.23\\\",\\\"0.24\\\",\\\"0.25\\\",\\\"0.26\\\",\\\"0.27\\\",\\\"0.28\\\",\\\"0.29\\\",\\\"0.3\\\",\\\"0.31\\\",\\\"0.32\\\",\\\"0.33\\\",\\\"0.34\\\",\\\"0.35\\\",\\\"0.36\\\",\\\"0.37\\\",\\\"0.38\\\",\\\"0.39\\\",\\\"0.4\\\",\\\"0.41\\\",\\\"0.42\\\",\\\"0.43\\\",\\\"0.44\\\",\\\"0.45\\\",\\\"0.46\\\",\\\"0.47\\\",\\\"0.48\\\",\\\"0.49\\\",\\\"0.5\\\",\\\"0.51\\\",\\\"0.52\\\",\\\"0.53\\\",\\\"0.54\\\",\\\"0.55\\\",\\\"0.56\\\",\\\"0.57\\\",\\\"0.58\\\",\\\"0.59\\\",\\\"0.6\\\",\\\"0.61\\\",\\\"0.62\\\",\\\"0.63\\\",\\\"0.64\\\",\\\"0.65\\\",\\\"0.66\\\",\\\"0.67\\\",\\\"0.68\\\",\\\"0.69\\\",\\\"0.7\\\",\\\"0.71\\\",\\\"0.72\\\",\\\"0.73\\\",\\\"0.74\\\",\\\"0.75\\\",\\\"0.76\\\",\\\"0.77\\\",\\\"0.78\\\",\\\"0.79\\\",\\\"0.8\\\",\\\"0.81\\\",\\\"0.82\\\",\\\"0.83\\\",\\\"0.84\\\",\\\"0.85\\\",\\\"0.86\\\",\\\"0.87\\\",\\\"0.88\\\",\\\"0.89\\\",\\\"0.9\\\",\\\"0.91\\\",\\\"0.92\\\",\\\"0.93\\\",\\\"0.94\\\",\\\"0.95\\\",\\\"0.96\\\",\\\"0.97\\\",\\\"0.98\\\",\\\"0.99\\\",\\\"1.0\\\"],\\\"changes\\\":WebIO.getval({\\\"name\\\":\\\"changes\\\",\\\"scope\\\":\\\"11501610703138888992\\\",\\\"id\\\":\\\"11749936742132412495\\\",\\\"type\\\":\\\"observable\\\"}),\\\"index\\\":WebIO.getval({\\\"name\\\":\\\"index\\\",\\\"scope\\\":\\\"11501610703138888992\\\",\\\"id\\\":\\\"606534905107729669\\\",\\\"type\\\":\\\"observable\\\"})};\\n    var self = this;\\n    function AppViewModel() {\\n        for (var key in json_data) {\\n            var el = json_data[key];\\n            this[key] = Array.isArray(el) ? ko.observableArray(el) : ko.observable(el);\\n        }\\n        \\n        [this[\\\"formatted_val\\\"]=ko.computed(    function(){\\n        return this.formatted_vals()[parseInt(this.index())-(1)];\\n    }\\n,this)]\\n        [this[\\\"changes\\\"].subscribe((function (val){!(this.valueFromJulia[\\\"changes\\\"]) ? (WebIO.setval({\\\"name\\\":\\\"changes\\\",\\\"scope\\\":\\\"11501610703138888992\\\",\\\"id\\\":\\\"11749936742132412495\\\",\\\"type\\\":\\\"observable\\\"},val)) : undefined; return this.valueFromJulia[\\\"changes\\\"]=false}),self),this[\\\"index\\\"].subscribe((function (val){!(this.valueFromJulia[\\\"index\\\"]) ? (WebIO.setval({\\\"name\\\":\\\"index\\\",\\\"scope\\\":\\\"11501610703138888992\\\",\\\"id\\\":\\\"606534905107729669\\\",\\\"type\\\":\\\"observable\\\"},val)) : undefined; return this.valueFromJulia[\\\"index\\\"]=false}),self)]\\n        \\n    }\\n    self.model = new AppViewModel();\\n    self.valueFromJulia = {};\\n    for (var key in json_data) {\\n        self.valueFromJulia[key] = false;\\n    }\\n    ko.applyBindings(self.model, self.dom);\\n}\\n);\\n    (WebIO.importBlock({\\\"data\\\":[{\\\"name\\\":\\\"knockout\\\",\\\"type\\\":\\\"js\\\",\\\"url\\\":\\\"\\/assetserver\\/4e15ea8f38f5d33bf0b2930cb09c8089f78b114e-knockout.js\\\"},{\\\"name\\\":\\\"knockout_punches\\\",\\\"type\\\":\\\"js\\\",\\\"url\\\":\\\"\\/assetserver\\/6967e46b2259ea2e5c469b61c410326b52955db7-knockout_punches.js\\\"}],\\\"type\\\":\\\"async_block\\\"})).then((imports) => handler.apply(this, imports));\\n}\\n\"],\"observables\":{\"changes\":{\"sync\":false,\"id\":\"11749936742132412495\",\"value\":0},\"index\":{\"sync\":true,\"id\":\"606534905107729669\",\"value\":50}}},\"children\":[{\"props\":{\"className\":\"interact-flex-row interact-widget\"},\"nodeType\":\"DOM\",\"type\":\"node\",\"instanceArgs\":{\"namespace\":\"html\",\"tag\":\"div\"},\"children\":[{\"props\":{\"className\":\"interact-flex-row-left\"},\"nodeType\":\"DOM\",\"type\":\"node\",\"instanceArgs\":{\"namespace\":\"html\",\"tag\":\"div\"},\"children\":[{\"props\":{\"className\":\"interact \",\"style\":{\"padding\":\"5px 10px 0px 10px\"}},\"nodeType\":\"DOM\",\"type\":\"node\",\"instanceArgs\":{\"namespace\":\"html\",\"tag\":\"label\"},\"children\":[\"p₂\"]}]},{\"props\":{\"className\":\"interact-flex-row-center\"},\"nodeType\":\"DOM\",\"type\":\"node\",\"instanceArgs\":{\"namespace\":\"html\",\"tag\":\"div\"},\"children\":[{\"props\":{\"max\":100,\"min\":1,\"attributes\":{\"type\":\"range\",\"data-bind\":\"numericValue: index, valueUpdate: 'input', event: {change: function (){this.changes(this.changes()+1)}}\",\"orient\":\"horizontal\"},\"step\":1,\"className\":\"slider slider is-fullwidth\",\"style\":{}},\"nodeType\":\"DOM\",\"type\":\"node\",\"instanceArgs\":{\"namespace\":\"html\",\"tag\":\"input\"},\"children\":[]}]},{\"props\":{\"className\":\"interact-flex-row-right\"},\"nodeType\":\"DOM\",\"type\":\"node\",\"instanceArgs\":{\"namespace\":\"html\",\"tag\":\"div\"},\"children\":[{\"props\":{\"attributes\":{\"data-bind\":\"text: formatted_val\"}},\"nodeType\":\"DOM\",\"type\":\"node\",\"instanceArgs\":{\"namespace\":\"html\",\"tag\":\"p\"},\"children\":[]}]}]}]}]},{\"props\":{},\"nodeType\":\"Scope\",\"type\":\"node\",\"instanceArgs\":{\"imports\":{\"data\":[],\"type\":\"async_block\"},\"id\":\"15256395127765510712\",\"handlers\":{},\"systemjs_options\":null,\"mount_callbacks\":[],\"observables\":{\"obs-node\":{\"sync\":false,\"id\":\"1209377760690694632\",\"value\":{\"props\":{\"className\":\"interact-flex-row interact-widget\"},\"nodeType\":\"DOM\",\"type\":\"node\",\"instanceArgs\":{\"namespace\":\"html\",\"tag\":\"div\"},\"children\":[{\"props\":{\"setInnerHtml\":\"<?xml version=\\\"1.0\\\" encoding=\\\"utf-8\\\"?>\\n<svg xmlns=\\\"http:\\/\\/www.w3.org\\/2000\\/svg\\\" xmlns:xlink=\\\"http:\\/\\/www.w3.org\\/1999\\/xlink\\\" width=\\\"600\\\" height=\\\"400\\\" viewBox=\\\"0 0 2400 1600\\\">\\n<defs>\\n  <clipPath id=\\\"clip560\\\">\\n    <rect x=\\\"0\\\" y=\\\"0\\\" width=\\\"2400\\\" height=\\\"1600\\\"\\/>\\n  <\\/clipPath>\\n<\\/defs>\\n<path clip-path=\\\"url(#clip560)\\\" d=\\\"\\nM0 1600 L2400 1600 L2400 0 L0 0  Z\\n  \\\" fill=\\\"#ffffff\\\" fill-rule=\\\"evenodd\\\" fill-opacity=\\\"1\\\"\\/>\\n<defs>\\n  <clipPath id=\\\"clip561\\\">\\n    <rect x=\\\"480\\\" y=\\\"0\\\" width=\\\"1681\\\" height=\\\"1600\\\"\\/>\\n  <\\/clipPath>\\n<\\/defs>\\n<path clip-path=\\\"url(#clip560)\\\" d=\\\"\\nM148.334 1486.45 L2352.76 1486.45 L2352.76 47.2441 L148.334 47.2441  Z\\n  \\\" fill=\\\"#ffffff\\\" fill-rule=\\\"evenodd\\\" fill-opacity=\\\"1\\\"\\/>\\n<defs>\\n  <clipPath id=\\\"clip562\\\">\\n    <rect x=\\\"148\\\" y=\\\"47\\\" width=\\\"2205\\\" height=\\\"1440\\\"\\/>\\n  <\\/clipPath>\\n<\\/defs>\\n<polyline clip-path=\\\"url(#clip562)\\\" style=\\\"stroke:#000000; stroke-width:2; stroke-opacity:0.1; fill:none\\\" points=\\\"\\n  148.334,1486.45 148.334,47.2441 \\n  \\\"\\/>\\n<polyline clip-path=\\\"url(#clip562)\\\" style=\\\"stroke:#000000; stroke-width:2; stroke-opacity:0.1; fill:none\\\" points=\\\"\\n  699.44,1486.45 699.44,47.2441 \\n  \\\"\\/>\\n<polyline clip-path=\\\"url(#clip562)\\\" style=\\\"stroke:#000000; stroke-width:2; stroke-opacity:0.1; fill:none\\\" points=\\\"\\n  1250.55,1486.45 1250.55,47.2441 \\n  \\\"\\/>\\n<polyline clip-path=\\\"url(#clip562)\\\" style=\\\"stroke:#000000; stroke-width:2; stroke-opacity:0.1; fill:none\\\" points=\\\"\\n  1801.65,1486.45 1801.65,47.2441 \\n  \\\"\\/>\\n<polyline clip-path=\\\"url(#clip562)\\\" style=\\\"stroke:#000000; stroke-width:2; stroke-opacity:0.1; fill:none\\\" points=\\\"\\n  2352.76,1486.45 2352.76,47.2441 \\n  \\\"\\/>\\n<polyline clip-path=\\\"url(#clip560)\\\" style=\\\"stroke:#000000; stroke-width:4; stroke-opacity:1; fill:none\\\" points=\\\"\\n  148.334,1486.45 2352.76,1486.45 \\n  \\\"\\/>\\n<polyline clip-path=\\\"url(#clip560)\\\" style=\\\"stroke:#000000; stroke-width:4; stroke-opacity:1; fill:none\\\" points=\\\"\\n  148.334,1486.45 148.334,1469.18 \\n  \\\"\\/>\\n<polyline clip-path=\\\"url(#clip560)\\\" style=\\\"stroke:#000000; stroke-width:4; stroke-opacity:1; fill:none\\\" points=\\\"\\n  699.44,1486.45 699.44,1469.18 \\n  \\\"\\/>\\n<polyline clip-path=\\\"url(#clip560)\\\" style=\\\"stroke:#000000; stroke-width:4; stroke-opacity:1; fill:none\\\" points=\\\"\\n  1250.55,1486.45 1250.55,1469.18 \\n  \\\"\\/>\\n<polyline clip-path=\\\"url(#clip560)\\\" style=\\\"stroke:#000000; stroke-width:4; stroke-opacity:1; fill:none\\\" points=\\\"\\n  1801.65,1486.45 1801.65,1469.18 \\n  \\\"\\/>\\n<polyline clip-path=\\\"url(#clip560)\\\" style=\\\"stroke:#000000; stroke-width:4; stroke-opacity:1; fill:none\\\" points=\\\"\\n  2352.76,1486.45 2352.76,1469.18 \\n  \\\"\\/>\\n<path clip-path=\\\"url(#clip560)\\\" d=\\\"M 0 0 M148.334 1515.64 Q144.723 1515.64 142.895 1519.2 Q141.089 1522.75 141.089 1529.87 Q141.089 1536.98 142.895 1540.55 Q144.723 1544.09 148.334 1544.09 Q151.969 1544.09 153.774 1540.55 Q155.603 1536.98 155.603 1529.87 Q155.603 1522.75 153.774 1519.2 Q151.969 1515.64 148.334 1515.64 M148.334 1511.93 Q154.145 1511.93 157.2 1516.54 Q160.279 1521.12 160.279 1529.87 Q160.279 1538.6 157.2 1543.21 Q154.145 1547.79 148.334 1547.79 Q142.524 1547.79 139.446 1543.21 Q136.39 1538.6 136.39 1529.87 Q136.39 1521.12 139.446 1516.54 Q142.524 1511.93 148.334 1511.93 Z\\\" fill=\\\"#000000\\\" fill-rule=\\\"evenodd\\\" fill-opacity=\\\"1\\\" \\/><path clip-path=\\\"url(#clip560)\\\" d=\\\"M 0 0 M676.315 1543.18 L683.954 1543.18 L683.954 1516.82 L675.644 1518.49 L675.644 1514.23 L683.907 1512.56 L688.583 1512.56 L688.583 1543.18 L696.222 1543.18 L696.222 1547.12 L676.315 1547.12 L676.315 1543.18 Z\\\" fill=\\\"#000000\\\" fill-rule=\\\"evenodd\\\" fill-opacity=\\\"1\\\" \\/><path clip-path=\\\"url(#clip560)\\\" d=\\\"M 0 0 M711.292 1515.64 Q707.68 1515.64 705.852 1519.2 Q704.046 1522.75 704.046 1529.87 Q704.046 1536.98 705.852 1540.55 Q707.68 1544.09 711.292 1544.09 Q714.926 1544.09 716.731 1540.55 Q718.56 1536.98 718.56 1529.87 Q718.56 1522.75 716.731 1519.2 Q714.926 1515.64 711.292 1515.64 M711.292 1511.93 Q717.102 1511.93 720.157 1516.54 Q723.236 1521.12 723.236 1529.87 Q723.236 1538.6 720.157 1543.21 Q717.102 1547.79 711.292 1547.79 Q705.481 1547.79 702.403 1543.21 Q699.347 1538.6 699.347 1529.87 Q699.347 1521.12 702.403 1516.54 Q705.481 1511.93 711.292 1511.93 Z\\\" fill=\\\"#000000\\\" fill-rule=\\\"evenodd\\\" fill-opacity=\\\"1\\\" \\/><path clip-path=\\\"url(#clip560)\\\" d=\\\"M 0 0 M1231.69 1543.18 L1248.01 1543.18 L1248.01 1547.12 L1226.07 1547.12 L1226.07 1543.18 Q1228.73 1540.43 1233.31 1535.8 Q1237.92 1531.15 1239.1 1529.81 Q1241.34 1527.28 1242.22 1525.55 Q1243.13 1523.79 1243.13 1522.1 Q1243.13 1519.34 1241.18 1517.61 Q1239.26 1515.87 1236.16 1515.87 Q1233.96 1515.87 1231.51 1516.63 Q1229.08 1517.4 1226.3 1518.95 L1226.3 1514.23 Q1229.12 1513.09 1231.58 1512.51 Q1234.03 1511.93 1236.07 1511.93 Q1241.44 1511.93 1244.63 1514.62 Q1247.83 1517.31 1247.83 1521.8 Q1247.83 1523.93 1247.02 1525.85 Q1246.23 1527.74 1244.12 1530.34 Q1243.54 1531.01 1240.44 1534.23 Q1237.34 1537.42 1231.69 1543.18 Z\\\" fill=\\\"#000000\\\" fill-rule=\\\"evenodd\\\" fill-opacity=\\\"1\\\" \\/><path clip-path=\\\"url(#clip560)\\\" d=\\\"M 0 0 M1263.08 1515.64 Q1259.47 1515.64 1257.64 1519.2 Q1255.83 1522.75 1255.83 1529.87 Q1255.83 1536.98 1257.64 1540.55 Q1259.47 1544.09 1263.08 1544.09 Q1266.71 1544.09 1268.52 1540.55 Q1270.35 1536.98 1270.35 1529.87 Q1270.35 1522.75 1268.52 1519.2 Q1266.71 1515.64 1263.08 1515.64 M1263.08 1511.93 Q1268.89 1511.93 1271.95 1516.54 Q1275.02 1521.12 1275.02 1529.87 Q1275.02 1538.6 1271.95 1543.21 Q1268.89 1547.79 1263.08 1547.79 Q1257.27 1547.79 1254.19 1543.21 Q1251.14 1538.6 1251.14 1529.87 Q1251.14 1521.12 1254.19 1516.54 Q1257.27 1511.93 1263.08 1511.93 Z\\\" fill=\\\"#000000\\\" fill-rule=\\\"evenodd\\\" fill-opacity=\\\"1\\\" \\/><path clip-path=\\\"url(#clip560)\\\" d=\\\"M 0 0 M1792.39 1528.49 Q1795.75 1529.2 1797.62 1531.47 Q1799.52 1533.74 1799.52 1537.07 Q1799.52 1542.19 1796 1544.99 Q1792.48 1547.79 1786 1547.79 Q1783.83 1547.79 1781.51 1547.35 Q1779.22 1546.93 1776.77 1546.08 L1776.77 1541.56 Q1778.71 1542.7 1781.03 1543.28 Q1783.34 1543.86 1785.86 1543.86 Q1790.26 1543.86 1792.55 1542.12 Q1794.87 1540.38 1794.87 1537.07 Q1794.87 1534.02 1792.72 1532.31 Q1790.59 1530.57 1786.77 1530.57 L1782.74 1530.57 L1782.74 1526.73 L1786.95 1526.73 Q1790.4 1526.73 1792.23 1525.36 Q1794.06 1523.97 1794.06 1521.38 Q1794.06 1518.72 1792.16 1517.31 Q1790.28 1515.87 1786.77 1515.87 Q1784.85 1515.87 1782.65 1516.29 Q1780.45 1516.7 1777.81 1517.58 L1777.81 1513.42 Q1780.47 1512.68 1782.78 1512.31 Q1785.12 1511.93 1787.18 1511.93 Q1792.51 1511.93 1795.61 1514.37 Q1798.71 1516.77 1798.71 1520.89 Q1798.71 1523.76 1797.07 1525.75 Q1795.42 1527.72 1792.39 1528.49 Z\\\" fill=\\\"#000000\\\" fill-rule=\\\"evenodd\\\" fill-opacity=\\\"1\\\" \\/><path clip-path=\\\"url(#clip560)\\\" d=\\\"M 0 0 M1814.59 1515.64 Q1810.98 1515.64 1809.15 1519.2 Q1807.34 1522.75 1807.34 1529.87 Q1807.34 1536.98 1809.15 1540.55 Q1810.98 1544.09 1814.59 1544.09 Q1818.22 1544.09 1820.03 1540.55 Q1821.86 1536.98 1821.86 1529.87 Q1821.86 1522.75 1820.03 1519.2 Q1818.22 1515.64 1814.59 1515.64 M1814.59 1511.93 Q1820.4 1511.93 1823.46 1516.54 Q1826.53 1521.12 1826.53 1529.87 Q1826.53 1538.6 1823.46 1543.21 Q1820.4 1547.79 1814.59 1547.79 Q1808.78 1547.79 1805.7 1543.21 Q1802.65 1538.6 1802.65 1529.87 Q1802.65 1521.12 1805.7 1516.54 Q1808.78 1511.93 1814.59 1511.93 Z\\\" fill=\\\"#000000\\\" fill-rule=\\\"evenodd\\\" fill-opacity=\\\"1\\\" \\/><path clip-path=\\\"url(#clip560)\\\" d=\\\"M 0 0 M2342.26 1516.63 L2330.45 1535.08 L2342.26 1535.08 L2342.26 1516.63 M2341.03 1512.56 L2346.91 1512.56 L2346.91 1535.08 L2351.84 1535.08 L2351.84 1538.97 L2346.91 1538.97 L2346.91 1547.12 L2342.26 1547.12 L2342.26 1538.97 L2326.66 1538.97 L2326.66 1534.46 L2341.03 1512.56 Z\\\" fill=\\\"#000000\\\" fill-rule=\\\"evenodd\\\" fill-opacity=\\\"1\\\" \\/><path clip-path=\\\"url(#clip560)\\\" d=\\\"M 0 0 M2366.91 1515.64 Q2363.3 1515.64 2361.47 1519.2 Q2359.67 1522.75 2359.67 1529.87 Q2359.67 1536.98 2361.47 1540.55 Q2363.3 1544.09 2366.91 1544.09 Q2370.55 1544.09 2372.35 1540.55 Q2374.18 1536.98 2374.18 1529.87 Q2374.18 1522.75 2372.35 1519.2 Q2370.55 1515.64 2366.91 1515.64 M2366.91 1511.93 Q2372.72 1511.93 2375.78 1516.54 Q2378.86 1521.12 2378.86 1529.87 Q2378.86 1538.6 2375.78 1543.21 Q2372.72 1547.79 2366.91 1547.79 Q2361.1 1547.79 2358.02 1543.21 Q2354.97 1538.6 2354.97 1529.87 Q2354.97 1521.12 2358.02 1516.54 Q2361.1 1511.93 2366.91 1511.93 Z\\\" fill=\\\"#000000\\\" fill-rule=\\\"evenodd\\\" fill-opacity=\\\"1\\\" \\/><polyline clip-path=\\\"url(#clip562)\\\" style=\\\"stroke:#000000; stroke-width:2; stroke-opacity:0.1; fill:none\\\" points=\\\"\\n  148.334,1486.45 2352.76,1486.45 \\n  \\\"\\/>\\n<polyline clip-path=\\\"url(#clip562)\\\" style=\\\"stroke:#000000; stroke-width:2; stroke-opacity:0.1; fill:none\\\" points=\\\"\\n  148.334,1198.61 2352.76,1198.61 \\n  \\\"\\/>\\n<polyline clip-path=\\\"url(#clip562)\\\" style=\\\"stroke:#000000; stroke-width:2; stroke-opacity:0.1; fill:none\\\" points=\\\"\\n  148.334,910.766 2352.76,910.766 \\n  \\\"\\/>\\n<polyline clip-path=\\\"url(#clip562)\\\" style=\\\"stroke:#000000; stroke-width:2; stroke-opacity:0.1; fill:none\\\" points=\\\"\\n  148.334,622.926 2352.76,622.926 \\n  \\\"\\/>\\n<polyline clip-path=\\\"url(#clip562)\\\" style=\\\"stroke:#000000; stroke-width:2; stroke-opacity:0.1; fill:none\\\" points=\\\"\\n  148.334,335.085 2352.76,335.085 \\n  \\\"\\/>\\n<polyline clip-path=\\\"url(#clip562)\\\" style=\\\"stroke:#000000; stroke-width:2; stroke-opacity:0.1; fill:none\\\" points=\\\"\\n  148.334,47.2441 2352.76,47.2441 \\n  \\\"\\/>\\n<polyline clip-path=\\\"url(#clip560)\\\" style=\\\"stroke:#000000; stroke-width:4; stroke-opacity:1; fill:none\\\" points=\\\"\\n  148.334,1486.45 148.334,47.2441 \\n  \\\"\\/>\\n<polyline clip-path=\\\"url(#clip560)\\\" style=\\\"stroke:#000000; stroke-width:4; stroke-opacity:1; fill:none\\\" points=\\\"\\n  148.334,1486.45 174.787,1486.45 \\n  \\\"\\/>\\n<polyline clip-path=\\\"url(#clip560)\\\" style=\\\"stroke:#000000; stroke-width:4; stroke-opacity:1; fill:none\\\" points=\\\"\\n  148.334,1198.61 174.787,1198.61 \\n  \\\"\\/>\\n<polyline clip-path=\\\"url(#clip560)\\\" style=\\\"stroke:#000000; stroke-width:4; stroke-opacity:1; fill:none\\\" points=\\\"\\n  148.334,910.766 174.787,910.766 \\n  \\\"\\/>\\n<polyline clip-path=\\\"url(#clip560)\\\" style=\\\"stroke:#000000; stroke-width:4; stroke-opacity:1; fill:none\\\" points=\\\"\\n  148.334,622.926 174.787,622.926 \\n  \\\"\\/>\\n<polyline clip-path=\\\"url(#clip560)\\\" style=\\\"stroke:#000000; stroke-width:4; stroke-opacity:1; fill:none\\\" points=\\\"\\n  148.334,335.085 174.787,335.085 \\n  \\\"\\/>\\n<polyline clip-path=\\\"url(#clip560)\\\" style=\\\"stroke:#000000; stroke-width:4; stroke-opacity:1; fill:none\\\" points=\\\"\\n  148.334,47.2441 174.787,47.2441 \\n  \\\"\\/>\\n<path clip-path=\\\"url(#clip560)\\\" d=\\\"M 0 0 M63.4226 1472.25 Q59.8115 1472.25 57.9828 1475.81 Q56.1773 1479.35 56.1773 1486.48 Q56.1773 1493.59 57.9828 1497.15 Q59.8115 1500.7 63.4226 1500.7 Q67.0569 1500.7 68.8624 1497.15 Q70.6911 1493.59 70.6911 1486.48 Q70.6911 1479.35 68.8624 1475.81 Q67.0569 1472.25 63.4226 1472.25 M63.4226 1468.54 Q69.2328 1468.54 72.2883 1473.15 Q75.367 1477.73 75.367 1486.48 Q75.367 1495.21 72.2883 1499.82 Q69.2328 1504.4 63.4226 1504.4 Q57.6125 1504.4 54.5338 1499.82 Q51.4782 1495.21 51.4782 1486.48 Q51.4782 1477.73 54.5338 1473.15 Q57.6125 1468.54 63.4226 1468.54 Z\\\" fill=\\\"#000000\\\" fill-rule=\\\"evenodd\\\" fill-opacity=\\\"1\\\" \\/><path clip-path=\\\"url(#clip560)\\\" d=\\\"M 0 0 M80.4364 1497.85 L85.3206 1497.85 L85.3206 1503.73 L80.4364 1503.73 L80.4364 1497.85 Z\\\" fill=\\\"#000000\\\" fill-rule=\\\"evenodd\\\" fill-opacity=\\\"1\\\" \\/><path clip-path=\\\"url(#clip560)\\\" d=\\\"M 0 0 M100.39 1472.25 Q96.7789 1472.25 94.9502 1475.81 Q93.1447 1479.35 93.1447 1486.48 Q93.1447 1493.59 94.9502 1497.15 Q96.7789 1500.7 100.39 1500.7 Q104.024 1500.7 105.83 1497.15 Q107.658 1493.59 107.658 1486.48 Q107.658 1479.35 105.83 1475.81 Q104.024 1472.25 100.39 1472.25 M100.39 1468.54 Q106.2 1468.54 109.256 1473.15 Q112.334 1477.73 112.334 1486.48 Q112.334 1495.21 109.256 1499.82 Q106.2 1504.4 100.39 1504.4 Q94.5799 1504.4 91.5012 1499.82 Q88.4456 1495.21 88.4456 1486.48 Q88.4456 1477.73 91.5012 1473.15 Q94.5799 1468.54 100.39 1468.54 Z\\\" fill=\\\"#000000\\\" fill-rule=\\\"evenodd\\\" fill-opacity=\\\"1\\\" \\/><path clip-path=\\\"url(#clip560)\\\" d=\\\"M 0 0 M65.0198 1184.41 Q61.4087 1184.41 59.58 1187.97 Q57.7745 1191.51 57.7745 1198.64 Q57.7745 1205.75 59.58 1209.31 Q61.4087 1212.85 65.0198 1212.85 Q68.6541 1212.85 70.4596 1209.31 Q72.2883 1205.75 72.2883 1198.64 Q72.2883 1191.51 70.4596 1187.97 Q68.6541 1184.41 65.0198 1184.41 M65.0198 1180.7 Q70.83 1180.7 73.8855 1185.31 Q76.9642 1189.89 76.9642 1198.64 Q76.9642 1207.37 73.8855 1211.98 Q70.83 1216.56 65.0198 1216.56 Q59.2097 1216.56 56.131 1211.98 Q53.0754 1207.37 53.0754 1198.64 Q53.0754 1189.89 56.131 1185.31 Q59.2097 1180.7 65.0198 1180.7 Z\\\" fill=\\\"#000000\\\" fill-rule=\\\"evenodd\\\" fill-opacity=\\\"1\\\" \\/><path clip-path=\\\"url(#clip560)\\\" d=\\\"M 0 0 M82.0336 1210.01 L86.9179 1210.01 L86.9179 1215.89 L82.0336 1215.89 L82.0336 1210.01 Z\\\" fill=\\\"#000000\\\" fill-rule=\\\"evenodd\\\" fill-opacity=\\\"1\\\" \\/><path clip-path=\\\"url(#clip560)\\\" d=\\\"M 0 0 M96.015 1211.95 L112.334 1211.95 L112.334 1215.89 L90.3901 1215.89 L90.3901 1211.95 Q93.0521 1209.2 97.6354 1204.57 Q102.242 1199.91 103.422 1198.57 Q105.668 1196.05 106.547 1194.31 Q107.45 1192.55 107.45 1190.86 Q107.45 1188.11 105.506 1186.37 Q103.584 1184.64 100.483 1184.64 Q98.2835 1184.64 95.8298 1185.4 Q93.3993 1186.17 90.6215 1187.72 L90.6215 1182.99 Q93.4456 1181.86 95.8993 1181.28 Q98.353 1180.7 100.39 1180.7 Q105.76 1180.7 108.955 1183.39 Q112.149 1186.07 112.149 1190.56 Q112.149 1192.69 111.339 1194.61 Q110.552 1196.51 108.446 1199.1 Q107.867 1199.78 104.765 1202.99 Q101.663 1206.19 96.015 1211.95 Z\\\" fill=\\\"#000000\\\" fill-rule=\\\"evenodd\\\" fill-opacity=\\\"1\\\" \\/><path clip-path=\\\"url(#clip560)\\\" d=\\\"M 0 0 M62.9365 896.565 Q59.3254 896.565 57.4967 900.13 Q55.6912 903.671 55.6912 910.801 Q55.6912 917.908 57.4967 921.472 Q59.3254 925.014 62.9365 925.014 Q66.5707 925.014 68.3763 921.472 Q70.205 917.908 70.205 910.801 Q70.205 903.671 68.3763 900.13 Q66.5707 896.565 62.9365 896.565 M62.9365 892.861 Q68.7467 892.861 71.8022 897.468 Q74.8809 902.051 74.8809 910.801 Q74.8809 919.528 71.8022 924.134 Q68.7467 928.718 62.9365 928.718 Q57.1264 928.718 54.0477 924.134 Q50.9921 919.528 50.9921 910.801 Q50.9921 902.051 54.0477 897.468 Q57.1264 892.861 62.9365 892.861 Z\\\" fill=\\\"#000000\\\" fill-rule=\\\"evenodd\\\" fill-opacity=\\\"1\\\" \\/><path clip-path=\\\"url(#clip560)\\\" d=\\\"M 0 0 M79.9503 922.167 L84.8345 922.167 L84.8345 928.046 L79.9503 928.046 L79.9503 922.167 Z\\\" fill=\\\"#000000\\\" fill-rule=\\\"evenodd\\\" fill-opacity=\\\"1\\\" \\/><path clip-path=\\\"url(#clip560)\\\" d=\\\"M 0 0 M102.751 897.56 L90.9456 916.009 L102.751 916.009 L102.751 897.56 M101.524 893.486 L107.404 893.486 L107.404 916.009 L112.334 916.009 L112.334 919.898 L107.404 919.898 L107.404 928.046 L102.751 928.046 L102.751 919.898 L87.1493 919.898 L87.1493 915.384 L101.524 893.486 Z\\\" fill=\\\"#000000\\\" fill-rule=\\\"evenodd\\\" fill-opacity=\\\"1\\\" \\/><path clip-path=\\\"url(#clip560)\\\" d=\\\"M 0 0 M63.2606 608.724 Q59.6495 608.724 57.8208 612.289 Q56.0152 615.831 56.0152 622.96 Q56.0152 630.067 57.8208 633.632 Q59.6495 637.173 63.2606 637.173 Q66.8948 637.173 68.7004 633.632 Q70.5291 630.067 70.5291 622.96 Q70.5291 615.831 68.7004 612.289 Q66.8948 608.724 63.2606 608.724 M63.2606 605.021 Q69.0707 605.021 72.1263 609.627 Q75.205 614.21 75.205 622.96 Q75.205 631.687 72.1263 636.294 Q69.0707 640.877 63.2606 640.877 Q57.4504 640.877 54.3717 636.294 Q51.3162 631.687 51.3162 622.96 Q51.3162 614.21 54.3717 609.627 Q57.4504 605.021 63.2606 605.021 Z\\\" fill=\\\"#000000\\\" fill-rule=\\\"evenodd\\\" fill-opacity=\\\"1\\\" \\/><path clip-path=\\\"url(#clip560)\\\" d=\\\"M 0 0 M80.2744 634.326 L85.1586 634.326 L85.1586 640.206 L80.2744 640.206 L80.2744 634.326 Z\\\" fill=\\\"#000000\\\" fill-rule=\\\"evenodd\\\" fill-opacity=\\\"1\\\" \\/><path clip-path=\\\"url(#clip560)\\\" d=\\\"M 0 0 M100.807 621.062 Q97.6585 621.062 95.8067 623.215 Q93.978 625.368 93.978 629.118 Q93.978 632.845 95.8067 635.02 Q97.6585 637.173 100.807 637.173 Q103.955 637.173 105.783 635.02 Q107.635 632.845 107.635 629.118 Q107.635 625.368 105.783 623.215 Q103.955 621.062 100.807 621.062 M110.089 606.409 L110.089 610.669 Q108.33 609.835 106.524 609.396 Q104.742 608.956 102.983 608.956 Q98.353 608.956 95.8993 612.081 Q93.4688 615.206 93.1215 621.525 Q94.4873 619.511 96.5474 618.446 Q98.6076 617.359 101.084 617.359 Q106.293 617.359 109.302 620.53 Q112.334 623.678 112.334 629.118 Q112.334 634.442 109.186 637.659 Q106.038 640.877 100.807 640.877 Q94.8113 640.877 91.6401 636.294 Q88.4688 631.687 88.4688 622.96 Q88.4688 614.766 92.3576 609.905 Q96.2465 605.021 102.797 605.021 Q104.557 605.021 106.339 605.368 Q108.145 605.715 110.089 606.409 Z\\\" fill=\\\"#000000\\\" fill-rule=\\\"evenodd\\\" fill-opacity=\\\"1\\\" \\/><path clip-path=\\\"url(#clip560)\\\" d=\\\"M 0 0 M63.5152 320.884 Q59.9041 320.884 58.0754 324.448 Q56.2699 327.99 56.2699 335.12 Q56.2699 342.226 58.0754 345.791 Q59.9041 349.332 63.5152 349.332 Q67.1494 349.332 68.955 345.791 Q70.7837 342.226 70.7837 335.12 Q70.7837 327.99 68.955 324.448 Q67.1494 320.884 63.5152 320.884 M63.5152 317.18 Q69.3254 317.18 72.3809 321.786 Q75.4596 326.37 75.4596 335.12 Q75.4596 343.846 72.3809 348.453 Q69.3254 353.036 63.5152 353.036 Q57.7051 353.036 54.6264 348.453 Q51.5708 343.846 51.5708 335.12 Q51.5708 326.37 54.6264 321.786 Q57.7051 317.18 63.5152 317.18 Z\\\" fill=\\\"#000000\\\" fill-rule=\\\"evenodd\\\" fill-opacity=\\\"1\\\" \\/><path clip-path=\\\"url(#clip560)\\\" d=\\\"M 0 0 M80.529 346.485 L85.4132 346.485 L85.4132 352.365 L80.529 352.365 L80.529 346.485 Z\\\" fill=\\\"#000000\\\" fill-rule=\\\"evenodd\\\" fill-opacity=\\\"1\\\" \\/><path clip-path=\\\"url(#clip560)\\\" d=\\\"M 0 0 M100.483 335.953 Q97.1493 335.953 95.228 337.735 Q93.3299 339.518 93.3299 342.643 Q93.3299 345.768 95.228 347.55 Q97.1493 349.332 100.483 349.332 Q103.816 349.332 105.737 347.55 Q107.658 345.745 107.658 342.643 Q107.658 339.518 105.737 337.735 Q103.839 335.953 100.483 335.953 M95.8067 333.962 Q92.7975 333.221 91.1077 331.161 Q89.441 329.101 89.441 326.138 Q89.441 321.995 92.3808 319.587 Q95.3437 317.18 100.483 317.18 Q105.645 317.18 108.584 319.587 Q111.524 321.995 111.524 326.138 Q111.524 329.101 109.834 331.161 Q108.168 333.221 105.182 333.962 Q108.561 334.749 110.436 337.041 Q112.334 339.333 112.334 342.643 Q112.334 347.666 109.256 350.351 Q106.2 353.036 100.483 353.036 Q94.765 353.036 91.6864 350.351 Q88.6308 347.666 88.6308 342.643 Q88.6308 339.333 90.529 337.041 Q92.4271 334.749 95.8067 333.962 M94.0937 326.578 Q94.0937 329.263 95.7604 330.768 Q97.4502 332.272 100.483 332.272 Q103.492 332.272 105.182 330.768 Q106.895 329.263 106.895 326.578 Q106.895 323.893 105.182 322.388 Q103.492 320.884 100.483 320.884 Q97.4502 320.884 95.7604 322.388 Q94.0937 323.893 94.0937 326.578 Z\\\" fill=\\\"#000000\\\" fill-rule=\\\"evenodd\\\" fill-opacity=\\\"1\\\" \\/><path clip-path=\\\"url(#clip560)\\\" d=\\\"M 0 0 M55.4597 60.5889 L63.0985 60.5889 L63.0985 34.2233 L54.7884 35.89 L54.7884 31.6308 L63.0522 29.9641 L67.7281 29.9641 L67.7281 60.5889 L75.367 60.5889 L75.367 64.5241 L55.4597 64.5241 L55.4597 60.5889 Z\\\" fill=\\\"#000000\\\" fill-rule=\\\"evenodd\\\" fill-opacity=\\\"1\\\" \\/><path clip-path=\\\"url(#clip560)\\\" d=\\\"M 0 0 M80.4364 58.6445 L85.3206 58.6445 L85.3206 64.5241 L80.4364 64.5241 L80.4364 58.6445 Z\\\" fill=\\\"#000000\\\" fill-rule=\\\"evenodd\\\" fill-opacity=\\\"1\\\" \\/><path clip-path=\\\"url(#clip560)\\\" d=\\\"M 0 0 M100.39 33.0428 Q96.7789 33.0428 94.9502 36.6076 Q93.1447 40.1492 93.1447 47.2788 Q93.1447 54.3853 94.9502 57.9501 Q96.7789 61.4917 100.39 61.4917 Q104.024 61.4917 105.83 57.9501 Q107.658 54.3853 107.658 47.2788 Q107.658 40.1492 105.83 36.6076 Q104.024 33.0428 100.39 33.0428 M100.39 29.3391 Q106.2 29.3391 109.256 33.9456 Q112.334 38.5289 112.334 47.2788 Q112.334 56.0056 109.256 60.6121 Q106.2 65.1954 100.39 65.1954 Q94.5799 65.1954 91.5012 60.6121 Q88.4456 56.0056 88.4456 47.2788 Q88.4456 38.5289 91.5012 33.9456 Q94.5799 29.3391 100.39 29.3391 Z\\\" fill=\\\"#000000\\\" fill-rule=\\\"evenodd\\\" fill-opacity=\\\"1\\\" \\/><polyline clip-path=\\\"url(#clip562)\\\" style=\\\"stroke:#009af9; stroke-width:4; stroke-opacity:1; fill:none\\\" points=\\\"\\n  148.334,1486.45 203.445,1486.45 203.445,1342.53 258.555,1342.53 258.555,1213 313.666,1213 313.666,1096.42 368.777,1096.42 368.777,991.506 423.887,991.506 \\n  423.887,897.08 478.998,897.08 478.998,812.096 534.108,812.096 534.108,735.611 589.219,735.611 589.219,666.774 644.329,666.774 644.329,604.821 699.44,604.821 \\n  699.44,549.063 754.55,549.063 754.55,498.881 809.661,498.881 809.661,453.718 864.771,453.718 864.771,413.07 919.882,413.07 919.882,376.488 974.992,376.488 \\n  974.992,343.563 1030.1,343.563 1030.1,313.931 1085.21,313.931 1085.21,287.263 1140.32,287.263 1140.32,263.261 1195.43,263.261 1195.43,241.659 1250.55,241.659 \\n  1250.55,222.218 1305.66,222.218 1305.66,204.72 1360.77,204.72 1360.77,188.973 1415.88,188.973 1415.88,174.8 1470.99,174.8 1470.99,162.044 1526.1,162.044 \\n  1526.1,150.564 1581.21,150.564 1581.21,140.232 1636.32,140.232 1636.32,130.933 1691.43,130.933 1691.43,122.564 1746.54,122.564 1746.54,115.032 1801.65,115.032 \\n  1801.65,108.254 1856.76,108.254 1856.76,102.153 1911.87,102.153 1911.87,96.6618 1966.98,96.6618 1966.98,91.72 2022.09,91.72 2022.09,87.2724 2077.2,87.2724 \\n  2077.2,83.2696 2132.31,83.2696 2132.31,79.6671 2187.42,79.6671 2187.42,76.4248 2242.53,76.4248 2242.53,73.5067 2297.65,73.5067 2297.65,70.8804 2352.76,70.8804 \\n  2352.76,68.5168 \\n  \\\"\\/>\\n<circle clip-path=\\\"url(#clip562)\\\" cx=\\\"203.445\\\" cy=\\\"1342.53\\\" r=\\\"14\\\" fill=\\\"#e26f46\\\" fill-rule=\\\"evenodd\\\" fill-opacity=\\\"1\\\" stroke=\\\"#000000\\\" stroke-opacity=\\\"1\\\" stroke-width=\\\"3.2\\\"\\/>\\n<circle clip-path=\\\"url(#clip562)\\\" cx=\\\"258.555\\\" cy=\\\"1213\\\" r=\\\"14\\\" fill=\\\"#e26f46\\\" fill-rule=\\\"evenodd\\\" fill-opacity=\\\"1\\\" stroke=\\\"#000000\\\" stroke-opacity=\\\"1\\\" stroke-width=\\\"3.2\\\"\\/>\\n<circle clip-path=\\\"url(#clip562)\\\" cx=\\\"313.666\\\" cy=\\\"1096.42\\\" r=\\\"14\\\" fill=\\\"#e26f46\\\" fill-rule=\\\"evenodd\\\" fill-opacity=\\\"1\\\" stroke=\\\"#000000\\\" stroke-opacity=\\\"1\\\" stroke-width=\\\"3.2\\\"\\/>\\n<circle clip-path=\\\"url(#clip562)\\\" cx=\\\"368.777\\\" cy=\\\"991.506\\\" r=\\\"14\\\" fill=\\\"#e26f46\\\" fill-rule=\\\"evenodd\\\" fill-opacity=\\\"1\\\" stroke=\\\"#000000\\\" stroke-opacity=\\\"1\\\" stroke-width=\\\"3.2\\\"\\/>\\n<circle clip-path=\\\"url(#clip562)\\\" cx=\\\"423.887\\\" cy=\\\"897.08\\\" r=\\\"14\\\" fill=\\\"#e26f46\\\" fill-rule=\\\"evenodd\\\" fill-opacity=\\\"1\\\" stroke=\\\"#000000\\\" stroke-opacity=\\\"1\\\" stroke-width=\\\"3.2\\\"\\/>\\n<circle clip-path=\\\"url(#clip562)\\\" cx=\\\"478.998\\\" cy=\\\"812.096\\\" r=\\\"14\\\" fill=\\\"#e26f46\\\" fill-rule=\\\"evenodd\\\" fill-opacity=\\\"1\\\" stroke=\\\"#000000\\\" stroke-opacity=\\\"1\\\" stroke-width=\\\"3.2\\\"\\/>\\n<circle clip-path=\\\"url(#clip562)\\\" cx=\\\"534.108\\\" cy=\\\"735.611\\\" r=\\\"14\\\" fill=\\\"#e26f46\\\" fill-rule=\\\"evenodd\\\" fill-opacity=\\\"1\\\" stroke=\\\"#000000\\\" stroke-opacity=\\\"1\\\" stroke-width=\\\"3.2\\\"\\/>\\n<circle clip-path=\\\"url(#clip562)\\\" cx=\\\"589.219\\\" cy=\\\"666.774\\\" r=\\\"14\\\" fill=\\\"#e26f46\\\" fill-rule=\\\"evenodd\\\" fill-opacity=\\\"1\\\" stroke=\\\"#000000\\\" stroke-opacity=\\\"1\\\" stroke-width=\\\"3.2\\\"\\/>\\n<circle clip-path=\\\"url(#clip562)\\\" cx=\\\"644.329\\\" cy=\\\"604.821\\\" r=\\\"14\\\" fill=\\\"#e26f46\\\" fill-rule=\\\"evenodd\\\" fill-opacity=\\\"1\\\" stroke=\\\"#000000\\\" stroke-opacity=\\\"1\\\" stroke-width=\\\"3.2\\\"\\/>\\n<circle clip-path=\\\"url(#clip562)\\\" cx=\\\"699.44\\\" cy=\\\"549.063\\\" r=\\\"14\\\" fill=\\\"#e26f46\\\" fill-rule=\\\"evenodd\\\" fill-opacity=\\\"1\\\" stroke=\\\"#000000\\\" stroke-opacity=\\\"1\\\" stroke-width=\\\"3.2\\\"\\/>\\n<circle clip-path=\\\"url(#clip562)\\\" cx=\\\"754.55\\\" cy=\\\"498.881\\\" r=\\\"14\\\" fill=\\\"#e26f46\\\" fill-rule=\\\"evenodd\\\" fill-opacity=\\\"1\\\" stroke=\\\"#000000\\\" stroke-opacity=\\\"1\\\" stroke-width=\\\"3.2\\\"\\/>\\n<circle clip-path=\\\"url(#clip562)\\\" cx=\\\"809.661\\\" cy=\\\"453.718\\\" r=\\\"14\\\" fill=\\\"#e26f46\\\" fill-rule=\\\"evenodd\\\" fill-opacity=\\\"1\\\" stroke=\\\"#000000\\\" stroke-opacity=\\\"1\\\" stroke-width=\\\"3.2\\\"\\/>\\n<circle clip-path=\\\"url(#clip562)\\\" cx=\\\"864.771\\\" cy=\\\"413.07\\\" r=\\\"14\\\" fill=\\\"#e26f46\\\" fill-rule=\\\"evenodd\\\" fill-opacity=\\\"1\\\" stroke=\\\"#000000\\\" stroke-opacity=\\\"1\\\" stroke-width=\\\"3.2\\\"\\/>\\n<circle clip-path=\\\"url(#clip562)\\\" cx=\\\"919.882\\\" cy=\\\"376.488\\\" r=\\\"14\\\" fill=\\\"#e26f46\\\" fill-rule=\\\"evenodd\\\" fill-opacity=\\\"1\\\" stroke=\\\"#000000\\\" stroke-opacity=\\\"1\\\" stroke-width=\\\"3.2\\\"\\/>\\n<circle clip-path=\\\"url(#clip562)\\\" cx=\\\"974.992\\\" cy=\\\"343.563\\\" r=\\\"14\\\" fill=\\\"#e26f46\\\" fill-rule=\\\"evenodd\\\" fill-opacity=\\\"1\\\" stroke=\\\"#000000\\\" stroke-opacity=\\\"1\\\" stroke-width=\\\"3.2\\\"\\/>\\n<circle clip-path=\\\"url(#clip562)\\\" cx=\\\"1030.1\\\" cy=\\\"313.931\\\" r=\\\"14\\\" fill=\\\"#e26f46\\\" fill-rule=\\\"evenodd\\\" fill-opacity=\\\"1\\\" stroke=\\\"#000000\\\" stroke-opacity=\\\"1\\\" stroke-width=\\\"3.2\\\"\\/>\\n<circle clip-path=\\\"url(#clip562)\\\" cx=\\\"1085.21\\\" cy=\\\"287.263\\\" r=\\\"14\\\" fill=\\\"#e26f46\\\" fill-rule=\\\"evenodd\\\" fill-opacity=\\\"1\\\" stroke=\\\"#000000\\\" stroke-opacity=\\\"1\\\" stroke-width=\\\"3.2\\\"\\/>\\n<circle clip-path=\\\"url(#clip562)\\\" cx=\\\"1140.32\\\" cy=\\\"263.261\\\" r=\\\"14\\\" fill=\\\"#e26f46\\\" fill-rule=\\\"evenodd\\\" fill-opacity=\\\"1\\\" stroke=\\\"#000000\\\" stroke-opacity=\\\"1\\\" stroke-width=\\\"3.2\\\"\\/>\\n<circle clip-path=\\\"url(#clip562)\\\" cx=\\\"1195.43\\\" cy=\\\"241.659\\\" r=\\\"14\\\" fill=\\\"#e26f46\\\" fill-rule=\\\"evenodd\\\" fill-opacity=\\\"1\\\" stroke=\\\"#000000\\\" stroke-opacity=\\\"1\\\" stroke-width=\\\"3.2\\\"\\/>\\n<circle clip-path=\\\"url(#clip562)\\\" cx=\\\"1250.55\\\" cy=\\\"222.218\\\" r=\\\"14\\\" fill=\\\"#e26f46\\\" fill-rule=\\\"evenodd\\\" fill-opacity=\\\"1\\\" stroke=\\\"#000000\\\" stroke-opacity=\\\"1\\\" stroke-width=\\\"3.2\\\"\\/>\\n<circle clip-path=\\\"url(#clip562)\\\" cx=\\\"1305.66\\\" cy=\\\"204.72\\\" r=\\\"14\\\" fill=\\\"#e26f46\\\" fill-rule=\\\"evenodd\\\" fill-opacity=\\\"1\\\" stroke=\\\"#000000\\\" stroke-opacity=\\\"1\\\" stroke-width=\\\"3.2\\\"\\/>\\n<circle clip-path=\\\"url(#clip562)\\\" cx=\\\"1360.77\\\" cy=\\\"188.973\\\" r=\\\"14\\\" fill=\\\"#e26f46\\\" fill-rule=\\\"evenodd\\\" fill-opacity=\\\"1\\\" stroke=\\\"#000000\\\" stroke-opacity=\\\"1\\\" stroke-width=\\\"3.2\\\"\\/>\\n<circle clip-path=\\\"url(#clip562)\\\" cx=\\\"1415.88\\\" cy=\\\"174.8\\\" r=\\\"14\\\" fill=\\\"#e26f46\\\" fill-rule=\\\"evenodd\\\" fill-opacity=\\\"1\\\" stroke=\\\"#000000\\\" stroke-opacity=\\\"1\\\" stroke-width=\\\"3.2\\\"\\/>\\n<circle clip-path=\\\"url(#clip562)\\\" cx=\\\"1470.99\\\" cy=\\\"162.044\\\" r=\\\"14\\\" fill=\\\"#e26f46\\\" fill-rule=\\\"evenodd\\\" fill-opacity=\\\"1\\\" stroke=\\\"#000000\\\" stroke-opacity=\\\"1\\\" stroke-width=\\\"3.2\\\"\\/>\\n<circle clip-path=\\\"url(#clip562)\\\" cx=\\\"1526.1\\\" cy=\\\"150.564\\\" r=\\\"14\\\" fill=\\\"#e26f46\\\" fill-rule=\\\"evenodd\\\" fill-opacity=\\\"1\\\" stroke=\\\"#000000\\\" stroke-opacity=\\\"1\\\" stroke-width=\\\"3.2\\\"\\/>\\n<circle clip-path=\\\"url(#clip562)\\\" cx=\\\"1581.21\\\" cy=\\\"140.232\\\" r=\\\"14\\\" fill=\\\"#e26f46\\\" fill-rule=\\\"evenodd\\\" fill-opacity=\\\"1\\\" stroke=\\\"#000000\\\" stroke-opacity=\\\"1\\\" stroke-width=\\\"3.2\\\"\\/>\\n<circle clip-path=\\\"url(#clip562)\\\" cx=\\\"1636.32\\\" cy=\\\"130.933\\\" r=\\\"14\\\" fill=\\\"#e26f46\\\" fill-rule=\\\"evenodd\\\" fill-opacity=\\\"1\\\" stroke=\\\"#000000\\\" stroke-opacity=\\\"1\\\" stroke-width=\\\"3.2\\\"\\/>\\n<circle clip-path=\\\"url(#clip562)\\\" cx=\\\"1691.43\\\" cy=\\\"122.564\\\" r=\\\"14\\\" fill=\\\"#e26f46\\\" fill-rule=\\\"evenodd\\\" fill-opacity=\\\"1\\\" stroke=\\\"#000000\\\" stroke-opacity=\\\"1\\\" stroke-width=\\\"3.2\\\"\\/>\\n<circle clip-path=\\\"url(#clip562)\\\" cx=\\\"1746.54\\\" cy=\\\"115.032\\\" r=\\\"14\\\" fill=\\\"#e26f46\\\" fill-rule=\\\"evenodd\\\" fill-opacity=\\\"1\\\" stroke=\\\"#000000\\\" stroke-opacity=\\\"1\\\" stroke-width=\\\"3.2\\\"\\/>\\n<circle clip-path=\\\"url(#clip562)\\\" cx=\\\"1801.65\\\" cy=\\\"108.254\\\" r=\\\"14\\\" fill=\\\"#e26f46\\\" fill-rule=\\\"evenodd\\\" fill-opacity=\\\"1\\\" stroke=\\\"#000000\\\" stroke-opacity=\\\"1\\\" stroke-width=\\\"3.2\\\"\\/>\\n<circle clip-path=\\\"url(#clip562)\\\" cx=\\\"1856.76\\\" cy=\\\"102.153\\\" r=\\\"14\\\" fill=\\\"#e26f46\\\" fill-rule=\\\"evenodd\\\" fill-opacity=\\\"1\\\" stroke=\\\"#000000\\\" stroke-opacity=\\\"1\\\" stroke-width=\\\"3.2\\\"\\/>\\n<circle clip-path=\\\"url(#clip562)\\\" cx=\\\"1911.87\\\" cy=\\\"96.6618\\\" r=\\\"14\\\" fill=\\\"#e26f46\\\" fill-rule=\\\"evenodd\\\" fill-opacity=\\\"1\\\" stroke=\\\"#000000\\\" stroke-opacity=\\\"1\\\" stroke-width=\\\"3.2\\\"\\/>\\n<circle clip-path=\\\"url(#clip562)\\\" cx=\\\"1966.98\\\" cy=\\\"91.72\\\" r=\\\"14\\\" fill=\\\"#e26f46\\\" fill-rule=\\\"evenodd\\\" fill-opacity=\\\"1\\\" stroke=\\\"#000000\\\" stroke-opacity=\\\"1\\\" stroke-width=\\\"3.2\\\"\\/>\\n<circle clip-path=\\\"url(#clip562)\\\" cx=\\\"2022.09\\\" cy=\\\"87.2724\\\" r=\\\"14\\\" fill=\\\"#e26f46\\\" fill-rule=\\\"evenodd\\\" fill-opacity=\\\"1\\\" stroke=\\\"#000000\\\" stroke-opacity=\\\"1\\\" stroke-width=\\\"3.2\\\"\\/>\\n<circle clip-path=\\\"url(#clip562)\\\" cx=\\\"2077.2\\\" cy=\\\"83.2696\\\" r=\\\"14\\\" fill=\\\"#e26f46\\\" fill-rule=\\\"evenodd\\\" fill-opacity=\\\"1\\\" stroke=\\\"#000000\\\" stroke-opacity=\\\"1\\\" stroke-width=\\\"3.2\\\"\\/>\\n<circle clip-path=\\\"url(#clip562)\\\" cx=\\\"2132.31\\\" cy=\\\"79.6671\\\" r=\\\"14\\\" fill=\\\"#e26f46\\\" fill-rule=\\\"evenodd\\\" fill-opacity=\\\"1\\\" stroke=\\\"#000000\\\" stroke-opacity=\\\"1\\\" stroke-width=\\\"3.2\\\"\\/>\\n<circle clip-path=\\\"url(#clip562)\\\" cx=\\\"2187.42\\\" cy=\\\"76.4248\\\" r=\\\"14\\\" fill=\\\"#e26f46\\\" fill-rule=\\\"evenodd\\\" fill-opacity=\\\"1\\\" stroke=\\\"#000000\\\" stroke-opacity=\\\"1\\\" stroke-width=\\\"3.2\\\"\\/>\\n<circle clip-path=\\\"url(#clip562)\\\" cx=\\\"2242.53\\\" cy=\\\"73.5067\\\" r=\\\"14\\\" fill=\\\"#e26f46\\\" fill-rule=\\\"evenodd\\\" fill-opacity=\\\"1\\\" stroke=\\\"#000000\\\" stroke-opacity=\\\"1\\\" stroke-width=\\\"3.2\\\"\\/>\\n<circle clip-path=\\\"url(#clip562)\\\" cx=\\\"2297.65\\\" cy=\\\"70.8804\\\" r=\\\"14\\\" fill=\\\"#e26f46\\\" fill-rule=\\\"evenodd\\\" fill-opacity=\\\"1\\\" stroke=\\\"#000000\\\" stroke-opacity=\\\"1\\\" stroke-width=\\\"3.2\\\"\\/>\\n<circle clip-path=\\\"url(#clip562)\\\" cx=\\\"2352.76\\\" cy=\\\"68.5168\\\" r=\\\"14\\\" fill=\\\"#e26f46\\\" fill-rule=\\\"evenodd\\\" fill-opacity=\\\"1\\\" stroke=\\\"#000000\\\" stroke-opacity=\\\"1\\\" stroke-width=\\\"3.2\\\"\\/>\\n<polyline clip-path=\\\"url(#clip562)\\\" style=\\\"stroke:#3da44d; stroke-width:4; stroke-opacity:1; fill:none\\\" points=\\\"\\n  148.334,1486.45 175.89,1486.45 175.89,766.846 203.445,766.846 203.445,407.045 231,407.045 231,227.145 258.555,227.145 258.555,137.194 286.111,137.194 \\n  286.111,92.2192 313.666,92.2192 313.666,69.7317 341.221,69.7317 341.221,58.4879 368.777,58.4879 368.777,52.866 396.332,52.866 396.332,50.055 423.887,50.055 \\n  423.887,48.6496 451.442,48.6496 451.442,47.9468 478.998,47.9468 478.998,47.5955 506.553,47.5955 506.553,47.4198 534.108,47.4198 534.108,47.3319 561.663,47.3319 \\n  561.663,47.288 589.219,47.288 589.219,47.2661 616.774,47.2661 616.774,47.2551 644.329,47.2551 644.329,47.2496 671.884,47.2496 671.884,47.2468 699.44,47.2468 \\n  699.44,47.2455 726.995,47.2455 726.995,47.2448 754.55,47.2448 754.55,47.2444 782.106,47.2444 782.106,47.2443 809.661,47.2443 809.661,47.2442 837.216,47.2442 \\n  837.216,47.2441 864.771,47.2441 864.771,47.2441 892.327,47.2441 892.327,47.2441 919.882,47.2441 919.882,47.2441 947.437,47.2441 947.437,47.2441 974.992,47.2441 \\n  974.992,47.2441 1002.55,47.2441 1002.55,47.2441 1030.1,47.2441 1030.1,47.2441 1057.66,47.2441 1057.66,47.2441 1085.21,47.2441 1085.21,47.2441 1112.77,47.2441 \\n  1112.77,47.2441 1140.32,47.2441 1140.32,47.2441 1167.88,47.2441 1167.88,47.2441 1195.43,47.2441 1195.43,47.2441 1222.99,47.2441 1222.99,47.2441 1250.55,47.2441 \\n  1250.55,47.2441 1278.1,47.2441 1278.1,47.2441 1305.66,47.2441 1305.66,47.2441 1333.21,47.2441 1333.21,47.2441 1360.77,47.2441 1360.77,47.2441 1388.32,47.2441 \\n  1388.32,47.2441 1415.88,47.2441 1415.88,47.2441 1443.43,47.2441 1443.43,47.2441 1470.99,47.2441 1470.99,47.2441 1498.54,47.2441 1498.54,47.2441 1526.1,47.2441 \\n  1526.1,47.2441 1553.65,47.2441 1553.65,47.2441 1581.21,47.2441 1581.21,47.2441 1608.76,47.2441 1636.32,47.2441 1636.32,47.2441 1663.87,47.2441 \\n  1691.43,47.2441 1718.98,47.2441 1746.54,47.2441 1774.1,47.2441 1801.65,47.2441 \\n  1829.21,47.2441 1856.76,47.2441 1884.32,47.2441 1911.87,47.2441 1939.43,47.2441 \\n  1966.98,47.2441 1994.54,47.2441 2022.09,47.2441 2049.65,47.2441 2077.2,47.2441 \\n  2104.76,47.2441 2132.31,47.2441 2159.87,47.2441 2187.42,47.2441 2214.98,47.2441 \\n  2242.53,47.2441 2270.09,47.2441 2297.65,47.2441 2325.2,47.2441 2352.76,47.2441 \\n  2380.31,47.2441 2407.87,47.2441 2435.42,47.2441 2462.98,47.2441 2490.53,47.2441 \\n  2518.09,47.2441 2545.64,47.2441 2573.2,47.2441 2600.75,47.2441 2628.31,47.2441 \\n  2655.86,47.2441 2683.42,47.2441 2710.97,47.2441 2738.53,47.2441 2766.08,47.2441 \\n  2793.64,47.2441 2821.2,47.2441 2848.75,47.2441 2876.31,47.2441 2903.86,47.2441 \\n  \\n  \\\"\\/>\\n<circle clip-path=\\\"url(#clip562)\\\" cx=\\\"175.89\\\" cy=\\\"766.846\\\" r=\\\"14\\\" fill=\\\"#c271d2\\\" fill-rule=\\\"evenodd\\\" fill-opacity=\\\"1\\\" stroke=\\\"#000000\\\" stroke-opacity=\\\"1\\\" stroke-width=\\\"3.2\\\"\\/>\\n<circle clip-path=\\\"url(#clip562)\\\" cx=\\\"203.445\\\" cy=\\\"407.045\\\" r=\\\"14\\\" fill=\\\"#c271d2\\\" fill-rule=\\\"evenodd\\\" fill-opacity=\\\"1\\\" stroke=\\\"#000000\\\" stroke-opacity=\\\"1\\\" stroke-width=\\\"3.2\\\"\\/>\\n<circle clip-path=\\\"url(#clip562)\\\" cx=\\\"231\\\" cy=\\\"227.145\\\" r=\\\"14\\\" fill=\\\"#c271d2\\\" fill-rule=\\\"evenodd\\\" fill-opacity=\\\"1\\\" stroke=\\\"#000000\\\" stroke-opacity=\\\"1\\\" stroke-width=\\\"3.2\\\"\\/>\\n<circle clip-path=\\\"url(#clip562)\\\" cx=\\\"258.555\\\" cy=\\\"137.194\\\" r=\\\"14\\\" fill=\\\"#c271d2\\\" fill-rule=\\\"evenodd\\\" fill-opacity=\\\"1\\\" stroke=\\\"#000000\\\" stroke-opacity=\\\"1\\\" stroke-width=\\\"3.2\\\"\\/>\\n<circle clip-path=\\\"url(#clip562)\\\" cx=\\\"286.111\\\" cy=\\\"92.2192\\\" r=\\\"14\\\" fill=\\\"#c271d2\\\" fill-rule=\\\"evenodd\\\" fill-opacity=\\\"1\\\" stroke=\\\"#000000\\\" stroke-opacity=\\\"1\\\" stroke-width=\\\"3.2\\\"\\/>\\n<circle clip-path=\\\"url(#clip562)\\\" cx=\\\"313.666\\\" cy=\\\"69.7317\\\" r=\\\"14\\\" fill=\\\"#c271d2\\\" fill-rule=\\\"evenodd\\\" fill-opacity=\\\"1\\\" stroke=\\\"#000000\\\" stroke-opacity=\\\"1\\\" stroke-width=\\\"3.2\\\"\\/>\\n<circle clip-path=\\\"url(#clip562)\\\" cx=\\\"341.221\\\" cy=\\\"58.4879\\\" r=\\\"14\\\" fill=\\\"#c271d2\\\" fill-rule=\\\"evenodd\\\" fill-opacity=\\\"1\\\" stroke=\\\"#000000\\\" stroke-opacity=\\\"1\\\" stroke-width=\\\"3.2\\\"\\/>\\n<circle clip-path=\\\"url(#clip562)\\\" cx=\\\"368.777\\\" cy=\\\"52.866\\\" r=\\\"14\\\" fill=\\\"#c271d2\\\" fill-rule=\\\"evenodd\\\" fill-opacity=\\\"1\\\" stroke=\\\"#000000\\\" stroke-opacity=\\\"1\\\" stroke-width=\\\"3.2\\\"\\/>\\n<circle clip-path=\\\"url(#clip562)\\\" cx=\\\"396.332\\\" cy=\\\"50.055\\\" r=\\\"14\\\" fill=\\\"#c271d2\\\" fill-rule=\\\"evenodd\\\" fill-opacity=\\\"1\\\" stroke=\\\"#000000\\\" stroke-opacity=\\\"1\\\" stroke-width=\\\"3.2\\\"\\/>\\n<circle clip-path=\\\"url(#clip562)\\\" cx=\\\"423.887\\\" cy=\\\"48.6496\\\" r=\\\"14\\\" fill=\\\"#c271d2\\\" fill-rule=\\\"evenodd\\\" fill-opacity=\\\"1\\\" stroke=\\\"#000000\\\" stroke-opacity=\\\"1\\\" stroke-width=\\\"3.2\\\"\\/>\\n<circle clip-path=\\\"url(#clip562)\\\" cx=\\\"451.442\\\" cy=\\\"47.9468\\\" r=\\\"14\\\" fill=\\\"#c271d2\\\" fill-rule=\\\"evenodd\\\" fill-opacity=\\\"1\\\" stroke=\\\"#000000\\\" stroke-opacity=\\\"1\\\" stroke-width=\\\"3.2\\\"\\/>\\n<circle clip-path=\\\"url(#clip562)\\\" cx=\\\"478.998\\\" cy=\\\"47.5955\\\" r=\\\"14\\\" fill=\\\"#c271d2\\\" fill-rule=\\\"evenodd\\\" fill-opacity=\\\"1\\\" stroke=\\\"#000000\\\" stroke-opacity=\\\"1\\\" stroke-width=\\\"3.2\\\"\\/>\\n<circle clip-path=\\\"url(#clip562)\\\" cx=\\\"506.553\\\" cy=\\\"47.4198\\\" r=\\\"14\\\" fill=\\\"#c271d2\\\" fill-rule=\\\"evenodd\\\" fill-opacity=\\\"1\\\" stroke=\\\"#000000\\\" stroke-opacity=\\\"1\\\" stroke-width=\\\"3.2\\\"\\/>\\n<circle clip-path=\\\"url(#clip562)\\\" cx=\\\"534.108\\\" cy=\\\"47.3319\\\" r=\\\"14\\\" fill=\\\"#c271d2\\\" fill-rule=\\\"evenodd\\\" fill-opacity=\\\"1\\\" stroke=\\\"#000000\\\" stroke-opacity=\\\"1\\\" stroke-width=\\\"3.2\\\"\\/>\\n<circle clip-path=\\\"url(#clip562)\\\" cx=\\\"561.663\\\" cy=\\\"47.288\\\" r=\\\"14\\\" fill=\\\"#c271d2\\\" fill-rule=\\\"evenodd\\\" fill-opacity=\\\"1\\\" stroke=\\\"#000000\\\" stroke-opacity=\\\"1\\\" stroke-width=\\\"3.2\\\"\\/>\\n<circle clip-path=\\\"url(#clip562)\\\" cx=\\\"589.219\\\" cy=\\\"47.2661\\\" r=\\\"14\\\" fill=\\\"#c271d2\\\" fill-rule=\\\"evenodd\\\" fill-opacity=\\\"1\\\" stroke=\\\"#000000\\\" stroke-opacity=\\\"1\\\" stroke-width=\\\"3.2\\\"\\/>\\n<circle clip-path=\\\"url(#clip562)\\\" cx=\\\"616.774\\\" cy=\\\"47.2551\\\" r=\\\"14\\\" fill=\\\"#c271d2\\\" fill-rule=\\\"evenodd\\\" fill-opacity=\\\"1\\\" stroke=\\\"#000000\\\" stroke-opacity=\\\"1\\\" stroke-width=\\\"3.2\\\"\\/>\\n<circle clip-path=\\\"url(#clip562)\\\" cx=\\\"644.329\\\" cy=\\\"47.2496\\\" r=\\\"14\\\" fill=\\\"#c271d2\\\" fill-rule=\\\"evenodd\\\" fill-opacity=\\\"1\\\" stroke=\\\"#000000\\\" stroke-opacity=\\\"1\\\" stroke-width=\\\"3.2\\\"\\/>\\n<circle clip-path=\\\"url(#clip562)\\\" cx=\\\"671.884\\\" cy=\\\"47.2468\\\" r=\\\"14\\\" fill=\\\"#c271d2\\\" fill-rule=\\\"evenodd\\\" fill-opacity=\\\"1\\\" stroke=\\\"#000000\\\" stroke-opacity=\\\"1\\\" stroke-width=\\\"3.2\\\"\\/>\\n<circle clip-path=\\\"url(#clip562)\\\" cx=\\\"699.44\\\" cy=\\\"47.2455\\\" r=\\\"14\\\" fill=\\\"#c271d2\\\" fill-rule=\\\"evenodd\\\" fill-opacity=\\\"1\\\" stroke=\\\"#000000\\\" stroke-opacity=\\\"1\\\" stroke-width=\\\"3.2\\\"\\/>\\n<circle clip-path=\\\"url(#clip562)\\\" cx=\\\"726.995\\\" cy=\\\"47.2448\\\" r=\\\"14\\\" fill=\\\"#c271d2\\\" fill-rule=\\\"evenodd\\\" fill-opacity=\\\"1\\\" stroke=\\\"#000000\\\" stroke-opacity=\\\"1\\\" stroke-width=\\\"3.2\\\"\\/>\\n<circle clip-path=\\\"url(#clip562)\\\" cx=\\\"754.55\\\" cy=\\\"47.2444\\\" r=\\\"14\\\" fill=\\\"#c271d2\\\" fill-rule=\\\"evenodd\\\" fill-opacity=\\\"1\\\" stroke=\\\"#000000\\\" stroke-opacity=\\\"1\\\" stroke-width=\\\"3.2\\\"\\/>\\n<circle clip-path=\\\"url(#clip562)\\\" cx=\\\"782.106\\\" cy=\\\"47.2443\\\" r=\\\"14\\\" fill=\\\"#c271d2\\\" fill-rule=\\\"evenodd\\\" fill-opacity=\\\"1\\\" stroke=\\\"#000000\\\" stroke-opacity=\\\"1\\\" stroke-width=\\\"3.2\\\"\\/>\\n<circle clip-path=\\\"url(#clip562)\\\" cx=\\\"809.661\\\" cy=\\\"47.2442\\\" r=\\\"14\\\" fill=\\\"#c271d2\\\" fill-rule=\\\"evenodd\\\" fill-opacity=\\\"1\\\" stroke=\\\"#000000\\\" stroke-opacity=\\\"1\\\" stroke-width=\\\"3.2\\\"\\/>\\n<circle clip-path=\\\"url(#clip562)\\\" cx=\\\"837.216\\\" cy=\\\"47.2441\\\" r=\\\"14\\\" fill=\\\"#c271d2\\\" fill-rule=\\\"evenodd\\\" fill-opacity=\\\"1\\\" stroke=\\\"#000000\\\" stroke-opacity=\\\"1\\\" stroke-width=\\\"3.2\\\"\\/>\\n<circle clip-path=\\\"url(#clip562)\\\" cx=\\\"864.771\\\" cy=\\\"47.2441\\\" r=\\\"14\\\" fill=\\\"#c271d2\\\" fill-rule=\\\"evenodd\\\" fill-opacity=\\\"1\\\" stroke=\\\"#000000\\\" stroke-opacity=\\\"1\\\" stroke-width=\\\"3.2\\\"\\/>\\n<circle clip-path=\\\"url(#clip562)\\\" cx=\\\"892.327\\\" cy=\\\"47.2441\\\" r=\\\"14\\\" fill=\\\"#c271d2\\\" fill-rule=\\\"evenodd\\\" fill-opacity=\\\"1\\\" stroke=\\\"#000000\\\" stroke-opacity=\\\"1\\\" stroke-width=\\\"3.2\\\"\\/>\\n<circle clip-path=\\\"url(#clip562)\\\" cx=\\\"919.882\\\" cy=\\\"47.2441\\\" r=\\\"14\\\" fill=\\\"#c271d2\\\" fill-rule=\\\"evenodd\\\" fill-opacity=\\\"1\\\" stroke=\\\"#000000\\\" stroke-opacity=\\\"1\\\" stroke-width=\\\"3.2\\\"\\/>\\n<circle clip-path=\\\"url(#clip562)\\\" cx=\\\"947.437\\\" cy=\\\"47.2441\\\" r=\\\"14\\\" fill=\\\"#c271d2\\\" fill-rule=\\\"evenodd\\\" fill-opacity=\\\"1\\\" stroke=\\\"#000000\\\" stroke-opacity=\\\"1\\\" stroke-width=\\\"3.2\\\"\\/>\\n<circle clip-path=\\\"url(#clip562)\\\" cx=\\\"974.992\\\" cy=\\\"47.2441\\\" r=\\\"14\\\" fill=\\\"#c271d2\\\" fill-rule=\\\"evenodd\\\" fill-opacity=\\\"1\\\" stroke=\\\"#000000\\\" stroke-opacity=\\\"1\\\" stroke-width=\\\"3.2\\\"\\/>\\n<circle clip-path=\\\"url(#clip562)\\\" cx=\\\"1002.55\\\" cy=\\\"47.2441\\\" r=\\\"14\\\" fill=\\\"#c271d2\\\" fill-rule=\\\"evenodd\\\" fill-opacity=\\\"1\\\" stroke=\\\"#000000\\\" stroke-opacity=\\\"1\\\" stroke-width=\\\"3.2\\\"\\/>\\n<circle clip-path=\\\"url(#clip562)\\\" cx=\\\"1030.1\\\" cy=\\\"47.2441\\\" r=\\\"14\\\" fill=\\\"#c271d2\\\" fill-rule=\\\"evenodd\\\" fill-opacity=\\\"1\\\" stroke=\\\"#000000\\\" stroke-opacity=\\\"1\\\" stroke-width=\\\"3.2\\\"\\/>\\n<circle clip-path=\\\"url(#clip562)\\\" cx=\\\"1057.66\\\" cy=\\\"47.2441\\\" r=\\\"14\\\" fill=\\\"#c271d2\\\" fill-rule=\\\"evenodd\\\" fill-opacity=\\\"1\\\" stroke=\\\"#000000\\\" stroke-opacity=\\\"1\\\" stroke-width=\\\"3.2\\\"\\/>\\n<circle clip-path=\\\"url(#clip562)\\\" cx=\\\"1085.21\\\" cy=\\\"47.2441\\\" r=\\\"14\\\" fill=\\\"#c271d2\\\" fill-rule=\\\"evenodd\\\" fill-opacity=\\\"1\\\" stroke=\\\"#000000\\\" stroke-opacity=\\\"1\\\" stroke-width=\\\"3.2\\\"\\/>\\n<circle clip-path=\\\"url(#clip562)\\\" cx=\\\"1112.77\\\" cy=\\\"47.2441\\\" r=\\\"14\\\" fill=\\\"#c271d2\\\" fill-rule=\\\"evenodd\\\" fill-opacity=\\\"1\\\" stroke=\\\"#000000\\\" stroke-opacity=\\\"1\\\" stroke-width=\\\"3.2\\\"\\/>\\n<circle clip-path=\\\"url(#clip562)\\\" cx=\\\"1140.32\\\" cy=\\\"47.2441\\\" r=\\\"14\\\" fill=\\\"#c271d2\\\" fill-rule=\\\"evenodd\\\" fill-opacity=\\\"1\\\" stroke=\\\"#000000\\\" stroke-opacity=\\\"1\\\" stroke-width=\\\"3.2\\\"\\/>\\n<circle clip-path=\\\"url(#clip562)\\\" cx=\\\"1167.88\\\" cy=\\\"47.2441\\\" r=\\\"14\\\" fill=\\\"#c271d2\\\" fill-rule=\\\"evenodd\\\" fill-opacity=\\\"1\\\" stroke=\\\"#000000\\\" stroke-opacity=\\\"1\\\" stroke-width=\\\"3.2\\\"\\/>\\n<circle clip-path=\\\"url(#clip562)\\\" cx=\\\"1195.43\\\" cy=\\\"47.2441\\\" r=\\\"14\\\" fill=\\\"#c271d2\\\" fill-rule=\\\"evenodd\\\" fill-opacity=\\\"1\\\" stroke=\\\"#000000\\\" stroke-opacity=\\\"1\\\" stroke-width=\\\"3.2\\\"\\/>\\n<circle clip-path=\\\"url(#clip562)\\\" cx=\\\"1222.99\\\" cy=\\\"47.2441\\\" r=\\\"14\\\" fill=\\\"#c271d2\\\" fill-rule=\\\"evenodd\\\" fill-opacity=\\\"1\\\" stroke=\\\"#000000\\\" stroke-opacity=\\\"1\\\" stroke-width=\\\"3.2\\\"\\/>\\n<circle clip-path=\\\"url(#clip562)\\\" cx=\\\"1250.55\\\" cy=\\\"47.2441\\\" r=\\\"14\\\" fill=\\\"#c271d2\\\" fill-rule=\\\"evenodd\\\" fill-opacity=\\\"1\\\" stroke=\\\"#000000\\\" stroke-opacity=\\\"1\\\" stroke-width=\\\"3.2\\\"\\/>\\n<circle clip-path=\\\"url(#clip562)\\\" cx=\\\"1278.1\\\" cy=\\\"47.2441\\\" r=\\\"14\\\" fill=\\\"#c271d2\\\" fill-rule=\\\"evenodd\\\" fill-opacity=\\\"1\\\" stroke=\\\"#000000\\\" stroke-opacity=\\\"1\\\" stroke-width=\\\"3.2\\\"\\/>\\n<circle clip-path=\\\"url(#clip562)\\\" cx=\\\"1305.66\\\" cy=\\\"47.2441\\\" r=\\\"14\\\" fill=\\\"#c271d2\\\" fill-rule=\\\"evenodd\\\" fill-opacity=\\\"1\\\" stroke=\\\"#000000\\\" stroke-opacity=\\\"1\\\" stroke-width=\\\"3.2\\\"\\/>\\n<circle clip-path=\\\"url(#clip562)\\\" cx=\\\"1333.21\\\" cy=\\\"47.2441\\\" r=\\\"14\\\" fill=\\\"#c271d2\\\" fill-rule=\\\"evenodd\\\" fill-opacity=\\\"1\\\" stroke=\\\"#000000\\\" stroke-opacity=\\\"1\\\" stroke-width=\\\"3.2\\\"\\/>\\n<circle clip-path=\\\"url(#clip562)\\\" cx=\\\"1360.77\\\" cy=\\\"47.2441\\\" r=\\\"14\\\" fill=\\\"#c271d2\\\" fill-rule=\\\"evenodd\\\" fill-opacity=\\\"1\\\" stroke=\\\"#000000\\\" stroke-opacity=\\\"1\\\" stroke-width=\\\"3.2\\\"\\/>\\n<circle clip-path=\\\"url(#clip562)\\\" cx=\\\"1388.32\\\" cy=\\\"47.2441\\\" r=\\\"14\\\" fill=\\\"#c271d2\\\" fill-rule=\\\"evenodd\\\" fill-opacity=\\\"1\\\" stroke=\\\"#000000\\\" stroke-opacity=\\\"1\\\" stroke-width=\\\"3.2\\\"\\/>\\n<circle clip-path=\\\"url(#clip562)\\\" cx=\\\"1415.88\\\" cy=\\\"47.2441\\\" r=\\\"14\\\" fill=\\\"#c271d2\\\" fill-rule=\\\"evenodd\\\" fill-opacity=\\\"1\\\" stroke=\\\"#000000\\\" stroke-opacity=\\\"1\\\" stroke-width=\\\"3.2\\\"\\/>\\n<circle clip-path=\\\"url(#clip562)\\\" cx=\\\"1443.43\\\" cy=\\\"47.2441\\\" r=\\\"14\\\" fill=\\\"#c271d2\\\" fill-rule=\\\"evenodd\\\" fill-opacity=\\\"1\\\" stroke=\\\"#000000\\\" stroke-opacity=\\\"1\\\" stroke-width=\\\"3.2\\\"\\/>\\n<circle clip-path=\\\"url(#clip562)\\\" cx=\\\"1470.99\\\" cy=\\\"47.2441\\\" r=\\\"14\\\" fill=\\\"#c271d2\\\" fill-rule=\\\"evenodd\\\" fill-opacity=\\\"1\\\" stroke=\\\"#000000\\\" stroke-opacity=\\\"1\\\" stroke-width=\\\"3.2\\\"\\/>\\n<circle clip-path=\\\"url(#clip562)\\\" cx=\\\"1498.54\\\" cy=\\\"47.2441\\\" r=\\\"14\\\" fill=\\\"#c271d2\\\" fill-rule=\\\"evenodd\\\" fill-opacity=\\\"1\\\" stroke=\\\"#000000\\\" stroke-opacity=\\\"1\\\" stroke-width=\\\"3.2\\\"\\/>\\n<circle clip-path=\\\"url(#clip562)\\\" cx=\\\"1526.1\\\" cy=\\\"47.2441\\\" r=\\\"14\\\" fill=\\\"#c271d2\\\" fill-rule=\\\"evenodd\\\" fill-opacity=\\\"1\\\" stroke=\\\"#000000\\\" stroke-opacity=\\\"1\\\" stroke-width=\\\"3.2\\\"\\/>\\n<circle clip-path=\\\"url(#clip562)\\\" cx=\\\"1553.65\\\" cy=\\\"47.2441\\\" r=\\\"14\\\" fill=\\\"#c271d2\\\" fill-rule=\\\"evenodd\\\" fill-opacity=\\\"1\\\" stroke=\\\"#000000\\\" stroke-opacity=\\\"1\\\" stroke-width=\\\"3.2\\\"\\/>\\n<circle clip-path=\\\"url(#clip562)\\\" cx=\\\"1581.21\\\" cy=\\\"47.2441\\\" r=\\\"14\\\" fill=\\\"#c271d2\\\" fill-rule=\\\"evenodd\\\" fill-opacity=\\\"1\\\" stroke=\\\"#000000\\\" stroke-opacity=\\\"1\\\" stroke-width=\\\"3.2\\\"\\/>\\n<circle clip-path=\\\"url(#clip562)\\\" cx=\\\"1608.76\\\" cy=\\\"47.2441\\\" r=\\\"14\\\" fill=\\\"#c271d2\\\" fill-rule=\\\"evenodd\\\" fill-opacity=\\\"1\\\" stroke=\\\"#000000\\\" stroke-opacity=\\\"1\\\" stroke-width=\\\"3.2\\\"\\/>\\n<circle clip-path=\\\"url(#clip562)\\\" cx=\\\"1636.32\\\" cy=\\\"47.2441\\\" r=\\\"14\\\" fill=\\\"#c271d2\\\" fill-rule=\\\"evenodd\\\" fill-opacity=\\\"1\\\" stroke=\\\"#000000\\\" stroke-opacity=\\\"1\\\" stroke-width=\\\"3.2\\\"\\/>\\n<circle clip-path=\\\"url(#clip562)\\\" cx=\\\"1663.87\\\" cy=\\\"47.2441\\\" r=\\\"14\\\" fill=\\\"#c271d2\\\" fill-rule=\\\"evenodd\\\" fill-opacity=\\\"1\\\" stroke=\\\"#000000\\\" stroke-opacity=\\\"1\\\" stroke-width=\\\"3.2\\\"\\/>\\n<circle clip-path=\\\"url(#clip562)\\\" cx=\\\"1691.43\\\" cy=\\\"47.2441\\\" r=\\\"14\\\" fill=\\\"#c271d2\\\" fill-rule=\\\"evenodd\\\" fill-opacity=\\\"1\\\" stroke=\\\"#000000\\\" stroke-opacity=\\\"1\\\" stroke-width=\\\"3.2\\\"\\/>\\n<circle clip-path=\\\"url(#clip562)\\\" cx=\\\"1718.98\\\" cy=\\\"47.2441\\\" r=\\\"14\\\" fill=\\\"#c271d2\\\" fill-rule=\\\"evenodd\\\" fill-opacity=\\\"1\\\" stroke=\\\"#000000\\\" stroke-opacity=\\\"1\\\" stroke-width=\\\"3.2\\\"\\/>\\n<circle clip-path=\\\"url(#clip562)\\\" cx=\\\"1746.54\\\" cy=\\\"47.2441\\\" r=\\\"14\\\" fill=\\\"#c271d2\\\" fill-rule=\\\"evenodd\\\" fill-opacity=\\\"1\\\" stroke=\\\"#000000\\\" stroke-opacity=\\\"1\\\" stroke-width=\\\"3.2\\\"\\/>\\n<circle clip-path=\\\"url(#clip562)\\\" cx=\\\"1774.1\\\" cy=\\\"47.2441\\\" r=\\\"14\\\" fill=\\\"#c271d2\\\" fill-rule=\\\"evenodd\\\" fill-opacity=\\\"1\\\" stroke=\\\"#000000\\\" stroke-opacity=\\\"1\\\" stroke-width=\\\"3.2\\\"\\/>\\n<circle clip-path=\\\"url(#clip562)\\\" cx=\\\"1801.65\\\" cy=\\\"47.2441\\\" r=\\\"14\\\" fill=\\\"#c271d2\\\" fill-rule=\\\"evenodd\\\" fill-opacity=\\\"1\\\" stroke=\\\"#000000\\\" stroke-opacity=\\\"1\\\" stroke-width=\\\"3.2\\\"\\/>\\n<circle clip-path=\\\"url(#clip562)\\\" cx=\\\"1829.21\\\" cy=\\\"47.2441\\\" r=\\\"14\\\" fill=\\\"#c271d2\\\" fill-rule=\\\"evenodd\\\" fill-opacity=\\\"1\\\" stroke=\\\"#000000\\\" stroke-opacity=\\\"1\\\" stroke-width=\\\"3.2\\\"\\/>\\n<circle clip-path=\\\"url(#clip562)\\\" cx=\\\"1856.76\\\" cy=\\\"47.2441\\\" r=\\\"14\\\" fill=\\\"#c271d2\\\" fill-rule=\\\"evenodd\\\" fill-opacity=\\\"1\\\" stroke=\\\"#000000\\\" stroke-opacity=\\\"1\\\" stroke-width=\\\"3.2\\\"\\/>\\n<circle clip-path=\\\"url(#clip562)\\\" cx=\\\"1884.32\\\" cy=\\\"47.2441\\\" r=\\\"14\\\" fill=\\\"#c271d2\\\" fill-rule=\\\"evenodd\\\" fill-opacity=\\\"1\\\" stroke=\\\"#000000\\\" stroke-opacity=\\\"1\\\" stroke-width=\\\"3.2\\\"\\/>\\n<circle clip-path=\\\"url(#clip562)\\\" cx=\\\"1911.87\\\" cy=\\\"47.2441\\\" r=\\\"14\\\" fill=\\\"#c271d2\\\" fill-rule=\\\"evenodd\\\" fill-opacity=\\\"1\\\" stroke=\\\"#000000\\\" stroke-opacity=\\\"1\\\" stroke-width=\\\"3.2\\\"\\/>\\n<circle clip-path=\\\"url(#clip562)\\\" cx=\\\"1939.43\\\" cy=\\\"47.2441\\\" r=\\\"14\\\" fill=\\\"#c271d2\\\" fill-rule=\\\"evenodd\\\" fill-opacity=\\\"1\\\" stroke=\\\"#000000\\\" stroke-opacity=\\\"1\\\" stroke-width=\\\"3.2\\\"\\/>\\n<circle clip-path=\\\"url(#clip562)\\\" cx=\\\"1966.98\\\" cy=\\\"47.2441\\\" r=\\\"14\\\" fill=\\\"#c271d2\\\" fill-rule=\\\"evenodd\\\" fill-opacity=\\\"1\\\" stroke=\\\"#000000\\\" stroke-opacity=\\\"1\\\" stroke-width=\\\"3.2\\\"\\/>\\n<circle clip-path=\\\"url(#clip562)\\\" cx=\\\"1994.54\\\" cy=\\\"47.2441\\\" r=\\\"14\\\" fill=\\\"#c271d2\\\" fill-rule=\\\"evenodd\\\" fill-opacity=\\\"1\\\" stroke=\\\"#000000\\\" stroke-opacity=\\\"1\\\" stroke-width=\\\"3.2\\\"\\/>\\n<circle clip-path=\\\"url(#clip562)\\\" cx=\\\"2022.09\\\" cy=\\\"47.2441\\\" r=\\\"14\\\" fill=\\\"#c271d2\\\" fill-rule=\\\"evenodd\\\" fill-opacity=\\\"1\\\" stroke=\\\"#000000\\\" stroke-opacity=\\\"1\\\" stroke-width=\\\"3.2\\\"\\/>\\n<circle clip-path=\\\"url(#clip562)\\\" cx=\\\"2049.65\\\" cy=\\\"47.2441\\\" r=\\\"14\\\" fill=\\\"#c271d2\\\" fill-rule=\\\"evenodd\\\" fill-opacity=\\\"1\\\" stroke=\\\"#000000\\\" stroke-opacity=\\\"1\\\" stroke-width=\\\"3.2\\\"\\/>\\n<circle clip-path=\\\"url(#clip562)\\\" cx=\\\"2077.2\\\" cy=\\\"47.2441\\\" r=\\\"14\\\" fill=\\\"#c271d2\\\" fill-rule=\\\"evenodd\\\" fill-opacity=\\\"1\\\" stroke=\\\"#000000\\\" stroke-opacity=\\\"1\\\" stroke-width=\\\"3.2\\\"\\/>\\n<circle clip-path=\\\"url(#clip562)\\\" cx=\\\"2104.76\\\" cy=\\\"47.2441\\\" r=\\\"14\\\" fill=\\\"#c271d2\\\" fill-rule=\\\"evenodd\\\" fill-opacity=\\\"1\\\" stroke=\\\"#000000\\\" stroke-opacity=\\\"1\\\" stroke-width=\\\"3.2\\\"\\/>\\n<circle clip-path=\\\"url(#clip562)\\\" cx=\\\"2132.31\\\" cy=\\\"47.2441\\\" r=\\\"14\\\" fill=\\\"#c271d2\\\" fill-rule=\\\"evenodd\\\" fill-opacity=\\\"1\\\" stroke=\\\"#000000\\\" stroke-opacity=\\\"1\\\" stroke-width=\\\"3.2\\\"\\/>\\n<circle clip-path=\\\"url(#clip562)\\\" cx=\\\"2159.87\\\" cy=\\\"47.2441\\\" r=\\\"14\\\" fill=\\\"#c271d2\\\" fill-rule=\\\"evenodd\\\" fill-opacity=\\\"1\\\" stroke=\\\"#000000\\\" stroke-opacity=\\\"1\\\" stroke-width=\\\"3.2\\\"\\/>\\n<circle clip-path=\\\"url(#clip562)\\\" cx=\\\"2187.42\\\" cy=\\\"47.2441\\\" r=\\\"14\\\" fill=\\\"#c271d2\\\" fill-rule=\\\"evenodd\\\" fill-opacity=\\\"1\\\" stroke=\\\"#000000\\\" stroke-opacity=\\\"1\\\" stroke-width=\\\"3.2\\\"\\/>\\n<circle clip-path=\\\"url(#clip562)\\\" cx=\\\"2214.98\\\" cy=\\\"47.2441\\\" r=\\\"14\\\" fill=\\\"#c271d2\\\" fill-rule=\\\"evenodd\\\" fill-opacity=\\\"1\\\" stroke=\\\"#000000\\\" stroke-opacity=\\\"1\\\" stroke-width=\\\"3.2\\\"\\/>\\n<circle clip-path=\\\"url(#clip562)\\\" cx=\\\"2242.53\\\" cy=\\\"47.2441\\\" r=\\\"14\\\" fill=\\\"#c271d2\\\" fill-rule=\\\"evenodd\\\" fill-opacity=\\\"1\\\" stroke=\\\"#000000\\\" stroke-opacity=\\\"1\\\" stroke-width=\\\"3.2\\\"\\/>\\n<circle clip-path=\\\"url(#clip562)\\\" cx=\\\"2270.09\\\" cy=\\\"47.2441\\\" r=\\\"14\\\" fill=\\\"#c271d2\\\" fill-rule=\\\"evenodd\\\" fill-opacity=\\\"1\\\" stroke=\\\"#000000\\\" stroke-opacity=\\\"1\\\" stroke-width=\\\"3.2\\\"\\/>\\n<circle clip-path=\\\"url(#clip562)\\\" cx=\\\"2297.65\\\" cy=\\\"47.2441\\\" r=\\\"14\\\" fill=\\\"#c271d2\\\" fill-rule=\\\"evenodd\\\" fill-opacity=\\\"1\\\" stroke=\\\"#000000\\\" stroke-opacity=\\\"1\\\" stroke-width=\\\"3.2\\\"\\/>\\n<circle clip-path=\\\"url(#clip562)\\\" cx=\\\"2325.2\\\" cy=\\\"47.2441\\\" r=\\\"14\\\" fill=\\\"#c271d2\\\" fill-rule=\\\"evenodd\\\" fill-opacity=\\\"1\\\" stroke=\\\"#000000\\\" stroke-opacity=\\\"1\\\" stroke-width=\\\"3.2\\\"\\/>\\n<circle clip-path=\\\"url(#clip562)\\\" cx=\\\"2352.76\\\" cy=\\\"47.2441\\\" r=\\\"14\\\" fill=\\\"#c271d2\\\" fill-rule=\\\"evenodd\\\" fill-opacity=\\\"1\\\" stroke=\\\"#000000\\\" stroke-opacity=\\\"1\\\" stroke-width=\\\"3.2\\\"\\/>\\n<path clip-path=\\\"url(#clip560)\\\" d=\\\"\\nM1882.72 276.658 L2279.28 276.658 L2279.28 95.2176 L1882.72 95.2176  Z\\n  \\\" fill=\\\"#ffffff\\\" fill-rule=\\\"evenodd\\\" fill-opacity=\\\"1\\\"\\/>\\n<polyline clip-path=\\\"url(#clip560)\\\" style=\\\"stroke:#000000; stroke-width:4; stroke-opacity:1; fill:none\\\" points=\\\"\\n  1882.72,276.658 2279.28,276.658 2279.28,95.2176 1882.72,95.2176 1882.72,276.658 \\n  \\\"\\/>\\n<circle clip-path=\\\"url(#clip560)\\\" cx=\\\"1980.69\\\" cy=\\\"155.698\\\" r=\\\"23\\\" fill=\\\"#e26f46\\\" fill-rule=\\\"evenodd\\\" fill-opacity=\\\"1\\\" stroke=\\\"#000000\\\" stroke-opacity=\\\"1\\\" stroke-width=\\\"5.12\\\"\\/>\\n<path clip-path=\\\"url(#clip560)\\\" d=\\\"M 0 0 M2099.29 142.955 Q2096.93 141.334 2091.4 141.334 Q2085.54 141.334 2085.54 144.043 Q2085.54 146.172 2091.65 147.283 Q2096.47 148.14 2099.18 150.732 Q2102.46 153.857 2102.46 160.269 Q2102.46 166.404 2099.29 170.015 Q2096.12 173.649 2090.57 173.649 Q2085.03 173.649 2081.84 170.015 Q2078.67 166.404 2078.67 160.038 Q2078.67 155.316 2081.84 151.496 Q2083.07 150.015 2084.8 149.181 Q2081.19 147.353 2081.19 144.089 Q2081.19 137.793 2091.4 137.793 Q2096.52 137.793 2099.29 139.413 L2099.29 142.955 M2088 150.339 Q2086.42 151.01 2085.15 152.7 Q2083.16 155.316 2083.16 160.038 Q2083.16 164.737 2085.13 167.376 Q2087.12 170.038 2090.57 170.038 Q2093.97 170.038 2095.96 167.353 Q2097.95 164.667 2097.95 160.269 Q2097.95 155.663 2095.84 153.441 Q2093.6 151.056 2090.68 150.802 Q2089.2 150.663 2088 150.339 Z\\\" fill=\\\"#000000\\\" fill-rule=\\\"evenodd\\\" fill-opacity=\\\"1\\\" \\/><path clip-path=\\\"url(#clip560)\\\" d=\\\"M 0 0 M2122.56 151.45 L2152.23 151.45 L2152.23 155.339 L2122.56 155.339 L2122.56 151.45 M2122.56 160.894 L2152.23 160.894 L2152.23 164.829 L2122.56 164.829 L2122.56 160.894 Z\\\" fill=\\\"#000000\\\" fill-rule=\\\"evenodd\\\" fill-opacity=\\\"1\\\" \\/><path clip-path=\\\"url(#clip560)\\\" d=\\\"M 0 0 M2173.18 169.042 L2180.82 169.042 L2180.82 142.677 L2172.51 144.343 L2172.51 140.084 L2180.77 138.418 L2185.45 138.418 L2185.45 169.042 L2193.09 169.042 L2193.09 172.978 L2173.18 172.978 L2173.18 169.042 Z\\\" fill=\\\"#000000\\\" fill-rule=\\\"evenodd\\\" fill-opacity=\\\"1\\\" \\/><circle clip-path=\\\"url(#clip560)\\\" cx=\\\"1980.69\\\" cy=\\\"216.178\\\" r=\\\"23\\\" fill=\\\"#c271d2\\\" fill-rule=\\\"evenodd\\\" fill-opacity=\\\"1\\\" stroke=\\\"#000000\\\" stroke-opacity=\\\"1\\\" stroke-width=\\\"5.12\\\"\\/>\\n<path clip-path=\\\"url(#clip560)\\\" d=\\\"M 0 0 M2099.29 203.435 Q2096.93 201.814 2091.4 201.814 Q2085.54 201.814 2085.54 204.523 Q2085.54 206.652 2091.65 207.763 Q2096.47 208.62 2099.18 211.212 Q2102.46 214.337 2102.46 220.749 Q2102.46 226.884 2099.29 230.495 Q2096.12 234.129 2090.57 234.129 Q2085.03 234.129 2081.84 230.495 Q2078.67 226.884 2078.67 220.518 Q2078.67 215.796 2081.84 211.976 Q2083.07 210.495 2084.8 209.661 Q2081.19 207.833 2081.19 204.569 Q2081.19 198.273 2091.4 198.273 Q2096.52 198.273 2099.29 199.893 L2099.29 203.435 M2088 210.819 Q2086.42 211.49 2085.15 213.18 Q2083.16 215.796 2083.16 220.518 Q2083.16 225.217 2085.13 227.856 Q2087.12 230.518 2090.57 230.518 Q2093.97 230.518 2095.96 227.833 Q2097.95 225.147 2097.95 220.749 Q2097.95 216.143 2095.84 213.921 Q2093.6 211.536 2090.68 211.282 Q2089.2 211.143 2088 210.819 Z\\\" fill=\\\"#000000\\\" fill-rule=\\\"evenodd\\\" fill-opacity=\\\"1\\\" \\/><path clip-path=\\\"url(#clip560)\\\" d=\\\"M 0 0 M2122.56 211.93 L2152.23 211.93 L2152.23 215.819 L2122.56 215.819 L2122.56 211.93 M2122.56 221.374 L2152.23 221.374 L2152.23 225.309 L2122.56 225.309 L2122.56 221.374 Z\\\" fill=\\\"#000000\\\" fill-rule=\\\"evenodd\\\" fill-opacity=\\\"1\\\" \\/><path clip-path=\\\"url(#clip560)\\\" d=\\\"M 0 0 M2182.37 201.976 Q2178.76 201.976 2176.93 205.541 Q2175.13 209.083 2175.13 216.212 Q2175.13 223.319 2176.93 226.884 Q2178.76 230.425 2182.37 230.425 Q2186.01 230.425 2187.81 226.884 Q2189.64 223.319 2189.64 216.212 Q2189.64 209.083 2187.81 205.541 Q2186.01 201.976 2182.37 201.976 M2182.37 198.273 Q2188.18 198.273 2191.24 202.879 Q2194.32 207.462 2194.32 216.212 Q2194.32 224.939 2191.24 229.546 Q2188.18 234.129 2182.37 234.129 Q2176.56 234.129 2173.48 229.546 Q2170.43 224.939 2170.43 216.212 Q2170.43 207.462 2173.48 202.879 Q2176.56 198.273 2182.37 198.273 Z\\\" fill=\\\"#000000\\\" fill-rule=\\\"evenodd\\\" fill-opacity=\\\"1\\\" \\/><path clip-path=\\\"url(#clip560)\\\" d=\\\"M 0 0 M2199.39 227.578 L2204.27 227.578 L2204.27 233.458 L2199.39 233.458 L2199.39 227.578 Z\\\" fill=\\\"#000000\\\" fill-rule=\\\"evenodd\\\" fill-opacity=\\\"1\\\" \\/><path clip-path=\\\"url(#clip560)\\\" d=\\\"M 0 0 M2209.39 198.898 L2227.74 198.898 L2227.74 202.833 L2213.67 202.833 L2213.67 211.305 Q2214.69 210.958 2215.7 210.796 Q2216.72 210.61 2217.74 210.61 Q2223.53 210.61 2226.91 213.782 Q2230.29 216.953 2230.29 222.37 Q2230.29 227.948 2226.82 231.05 Q2223.34 234.129 2217.02 234.129 Q2214.85 234.129 2212.58 233.758 Q2210.33 233.388 2207.93 232.647 L2207.93 227.948 Q2210.01 229.083 2212.23 229.638 Q2214.45 230.194 2216.93 230.194 Q2220.94 230.194 2223.27 228.087 Q2225.61 225.981 2225.61 222.37 Q2225.61 218.759 2223.27 216.652 Q2220.94 214.546 2216.93 214.546 Q2215.06 214.546 2213.18 214.962 Q2211.33 215.379 2209.39 216.259 L2209.39 198.898 Z\\\" fill=\\\"#000000\\\" fill-rule=\\\"evenodd\\\" fill-opacity=\\\"1\\\" \\/><\\/svg>\\n\"},\"nodeType\":\"DOM\",\"type\":\"node\",\"instanceArgs\":{\"namespace\":\"html\",\"tag\":\"div\"},\"children\":[]}]}}}},\"children\":[{\"props\":{},\"nodeType\":\"ObservableNode\",\"type\":\"node\",\"instanceArgs\":{\"id\":\"1209377760690694632\",\"name\":\"obs-node\"},\"children\":[]}]}]},\n",
       "            window,\n",
       "        );\n",
       "    } else {\n",
       "        document\n",
       "            .querySelector('[data-webio-mountpoint=\"12026215540447750397\"]')\n",
       "            .innerHTML = (\n",
       "                '<div style=\"padding: 1em; background-color: #f8d6da; border: 1px solid #f5c6cb\">' +\n",
       "                '<p><strong>WebIO not detected.</strong></p>' +\n",
       "                '<p>Please read ' +\n",
       "                '<a href=\"https://juliagizmos.github.io/WebIO.jl/latest/troubleshooting/not-detected/\" target=\"_blank\">the troubleshooting guide</a> ' +\n",
       "                'for more information on how to resolve this issue.</p>' +\n",
       "                '<p><a href=\"https://juliagizmos.github.io/WebIO.jl/latest/troubleshooting/not-detected/\" target=\"_blank\">https://juliagizmos.github.io/WebIO.jl/latest/troubleshooting/not-detected/</a></p>' +\n",
       "                '</div>'\n",
       "            );\n",
       "    }\n",
       "    </script>\n",
       "</div>\n"
      ],
      "text/plain": [
       "Node{WebIO.DOM}(WebIO.DOM(:html, :div), Any[Node{WebIO.DOM}(WebIO.DOM(:html, :div), Any[Scope(Node{WebIO.DOM}(WebIO.DOM(:html, :div), Any[Node{WebIO.DOM}(WebIO.DOM(:html, :div), Any[Node{WebIO.DOM}(WebIO.DOM(:html, :label), Any[\"p₂\"], Dict{Symbol, Any}(:className => \"interact \", :style => Dict{Any, Any}(:padding => \"5px 10px 0px 10px\")))], Dict{Symbol, Any}(:className => \"interact-flex-row-left\")), Node{WebIO.DOM}(WebIO.DOM(:html, :div), Any[Node{WebIO.DOM}(WebIO.DOM(:html, :input), Any[], Dict{Symbol, Any}(:max => 100, :min => 1, :attributes => Dict{Any, Any}(:type => \"range\", Symbol(\"data-bind\") => \"numericValue: index, valueUpdate: 'input', event: {change: function (){this.changes(this.changes()+1)}}\", \"orient\" => \"horizontal\"), :step => 1, :className => \"slider slider is-fullwidth\", :style => Dict{Any, Any}()))], Dict{Symbol, Any}(:className => \"interact-flex-row-center\")), Node{WebIO.DOM}(WebIO.DOM(:html, :div), Any[Node{WebIO.DOM}(WebIO.DOM(:html, :p), Any[], Dict{Symbol, Any}(:attributes => Dict(\"data-bind\" => \"text: formatted_val\")))], Dict{Symbol, Any}(:className => \"interact-flex-row-right\"))], Dict{Symbol, Any}(:className => \"interact-flex-row interact-widget\")), Dict{String, Tuple{Observables.AbstractObservable, Union{Nothing, Bool}}}(\"changes\" => (Observable{Int64} with 1 listeners. Value:\n",
       "0, nothing), \"index\" => (Observable{Any} with 2 listeners. Value:\n",
       "50, nothing)), Set{String}(), nothing, Asset[Asset(\"js\", \"knockout\", \"/home/marcon/.julia/packages/Knockout/IP1uR/src/../assets/knockout.js\"), Asset(\"js\", \"knockout_punches\", \"/home/marcon/.julia/packages/Knockout/IP1uR/src/../assets/knockout_punches.js\"), Asset(\"js\", nothing, \"/home/marcon/.julia/packages/InteractBase/Zfu5P/src/../assets/all.js\"), Asset(\"css\", nothing, \"/home/marcon/.julia/packages/InteractBase/Zfu5P/src/../assets/style.css\"), Asset(\"css\", nothing, \"/home/marcon/.julia/packages/Interact/SbgIk/src/../assets/bulma_confined.min.css\")], Dict{Any, Any}(\"changes\" => Any[WebIO.JSString(\"(function (val){return (val!=this.model[\\\"changes\\\"]()) ? (this.valueFromJulia[\\\"changes\\\"]=true, this.model[\\\"changes\\\"](val)) : undefined})\")], \"index\" => Any[WebIO.JSString(\"(function (val){return (val!=this.model[\\\"index\\\"]()) ? (this.valueFromJulia[\\\"index\\\"]=true, this.model[\\\"index\\\"](val)) : undefined})\")]), WebIO.ConnectionPool(Channel{Any}(32), Set{AbstractConnection}(), Condition(Base.InvasiveLinkedList{Task}(Task (runnable) @0x00007face0e23dc0, Task (runnable) @0x00007face0e23dc0), Base.AlwaysLockedST(1))), WebIO.JSString[WebIO.JSString(\"function () {\\n    var handler = (function (ko, koPunches) {\\n    ko.punches.enableAll();\\n    ko.bindingHandlers.numericValue = {\\n        init: function(element, valueAccessor, allBindings, data, context) {\\n            var stringified = ko.observable(ko.unwrap(valueAccessor()));\\n            stringified.subscribe(function(value) {\\n                var val = parseFloat(value);\\n                if (!isNaN(val)) {\\n                    valueAccessor()(val);\\n                }\\n            });\\n            valueAccessor().subscribe(function(value) {\\n                var str = JSON.stringify(value);\\n                if ((str == \\\"0\\\") && ([\\\"-0\\\", \\\"-0.\\\"].indexOf(stringified()) >= 0))\\n                     return;\\n                 if ([\\\"null\\\", \\\"\\\"].indexOf(str) >= 0)\\n                     return;\\n                stringified(str);\\n            });\\n            ko.applyBindingsToNode(\\n                element,\\n                {\\n                    value: stringified,\\n                    valueUpdate: allBindings.get('valueUpdate'),\\n                },\\n                context,\\n            );\\n        }\\n    };\\n    var json_data = {\\\"formatted_vals\\\":[\\\"0.01\\\",\\\"0.02\\\",\\\"0.03\\\",\\\"0.04\\\",\\\"0.05\\\",\\\"0.06\\\",\\\"0.07\\\",\\\"0.08\\\",\\\"0.09\\\",\\\"0.1\\\",\\\"0.11\\\",\\\"0.12\\\",\\\"0.13\\\",\\\"0.14\\\",\\\"0.15\\\",\\\"0.16\\\",\\\"0.17\\\",\\\"0.18\\\",\\\"0.19\\\",\\\"0.2\\\",\\\"0.21\\\",\\\"0.22\\\",\\\"0.23\\\",\\\"0.24\\\",\\\"0.25\\\",\\\"0.26\\\",\\\"0.27\\\",\\\"0.28\\\",\\\"0.29\\\",\\\"0.3\\\",\\\"0.31\\\",\\\"0.32\\\",\\\"0.33\\\",\\\"0.34\\\",\\\"0.35\\\",\\\"0.36\\\",\\\"0.37\\\",\\\"0.38\\\",\\\"0.39\\\",\\\"0.4\\\",\\\"0.41\\\",\\\"0.42\\\",\\\"0.43\\\",\\\"0.44\\\",\\\"0.45\\\",\\\"0.46\\\",\\\"0.47\\\",\\\"0.48\\\",\\\"0.49\\\",\\\"0.5\\\",\\\"0.51\\\",\\\"0.52\\\",\\\"0.53\\\",\\\"0.54\\\",\\\"0.55\\\",\\\"0.56\\\",\\\"0.57\\\",\\\"0.58\\\",\\\"0.59\\\",\\\"0.6\\\",\\\"0.61\\\",\\\"0.62\\\",\\\"0.63\\\",\\\"0.64\\\",\\\"0.65\\\",\\\"0.66\\\",\\\"0.67\\\",\\\"0.68\\\",\\\"0.69\\\",\\\"0.7\\\",\\\"0.71\\\",\\\"0.72\\\",\\\"0.73\\\",\\\"0.74\\\",\\\"0.75\\\",\\\"0.76\\\",\\\"0.77\\\",\\\"0.78\\\",\\\"0.79\\\",\\\"0.8\\\",\\\"0.81\\\",\\\"0.82\\\",\\\"0.83\\\",\\\"0.84\\\",\\\"0.85\\\",\\\"0.86\\\",\\\"0.87\\\",\\\"0.88\\\",\\\"0.89\\\",\\\"0.9\\\",\\\"0.91\\\",\\\"0.92\\\",\\\"0.93\\\",\\\"0.94\\\",\\\"0.95\\\",\\\"0.96\\\",\\\"0.97\\\",\\\"0.98\\\",\\\"0.99\\\",\\\"1.0\\\"],\\\"changes\\\":WebIO.getval({\\\"name\\\":\\\"changes\\\",\\\"scope\\\":\\\"11501610703138888992\\\",\\\"id\\\":\\\"11749936742132412495\\\",\\\"type\\\":\\\"observable\\\"}),\\\"index\\\":WebIO.getval({\\\"name\\\":\\\"index\\\",\\\"scope\\\":\\\"11501610703138888992\\\",\\\"id\\\":\\\"606534905107729669\\\",\\\"type\\\":\\\"observable\\\"})};\\n    var self = this;\\n    function AppViewModel() {\\n        for (var key in json_data) {\\n            var el = json_data[key];\\n            this[key] = Array.isArray(el) ? ko.observableArray(el) : ko.observable(el);\\n        }\\n        \\n        [this[\\\"formatted_val\\\"]=ko.computed(    function(){\\n        return this.formatted_vals()[parseInt(this.index())-(1)];\\n    }\\n,this)]\\n        [this[\\\"changes\\\"].subscribe((function (val){!(this.valueFromJulia[\\\"changes\\\"]) ? (WebIO.setval({\\\"name\\\":\\\"changes\\\",\\\"scope\\\":\\\"11501610703138888992\\\",\\\"id\\\":\\\"11749936742132412495\\\",\\\"type\\\":\\\"observable\\\"},val)) : undefined; return this.valueFromJulia[\\\"changes\\\"]=false}),self),this[\\\"index\\\"].subscribe((function (val){!(this.valueFromJulia[\\\"index\\\"]) ? (WebIO.setval({\\\"name\\\":\\\"index\\\",\\\"scope\\\":\\\"11501610703138888992\\\",\\\"id\\\":\\\"606534905107729669\\\",\\\"type\\\":\\\"observable\\\"},val)) : undefined; return this.valueFromJulia[\\\"index\\\"]=false}),self)]\\n        \\n    }\\n    self.model = new AppViewModel();\\n    self.valueFromJulia = {};\\n    for (var key in json_data) {\\n        self.valueFromJulia[key] = false;\\n    }\\n    ko.applyBindings(self.model, self.dom);\\n}\\n);\\n    (WebIO.importBlock({\\\"data\\\":[{\\\"name\\\":\\\"knockout\\\",\\\"type\\\":\\\"js\\\",\\\"url\\\":\\\"/assetserver/4e15ea8f38f5d33bf0b2930cb09c8089f78b114e-knockout.js\\\"},{\\\"name\\\":\\\"knockout_punches\\\",\\\"type\\\":\\\"js\\\",\\\"url\\\":\\\"/assetserver/6967e46b2259ea2e5c469b61c410326b52955db7-knockout_punches.js\\\"}],\\\"type\\\":\\\"async_block\\\"})).then((imports) => handler.apply(this, imports));\\n}\\n\")])], Dict{Symbol, Any}(:className => \"field interact-widget\")), Observable{Any} with 0 listeners. Value:\n",
       "Node{WebIO.DOM}(WebIO.DOM(:html, :div), Any[Plot{Plots.GRBackend() n=4}], Dict{Symbol, Any}(:className => \"interact-flex-row interact-widget\"))], Dict{Symbol, Any}())"
      ]
     },
     "execution_count": 22,
     "metadata": {
      "@webio": {
       "kernelId": "e43e53c4-e928-4d05-945c-e764a03fb515"
      }
     },
     "output_type": "execute_result"
    }
   ],
   "source": [
    "p = 0.1\n",
    "N = 100\n",
    "δ = 0.5\n",
    "\n",
    "@manipulate for p₂ in 0.01:0.01:1.0\n",
    "    plot()\n",
    "    plot_cumulative!(p, 40, 1.0, label=\"δ = 1\")\n",
    "    plot_cumulative!(p₂, N, δ, label=\"δ = $(δ)\")\n",
    "    \n",
    "    xlims!(0, 40)\n",
    "    ylims!(0, 1)\n",
    "end"
   ]
  },
  {
   "cell_type": "markdown",
   "metadata": {},
   "source": [
    "Cumulative distribution function for geometric random variable $X \\sim \\text{Geom}(p)$\n",
    "$$F_X(n) = 1 - (1 - p)^n$$"
   ]
  },
  {
   "cell_type": "markdown",
   "metadata": {},
   "source": [
    "$$F_{Y_\\delta}(n) = 1 - [1 - p(\\delta)]^n$$"
   ]
  },
  {
   "cell_type": "markdown",
   "metadata": {},
   "source": [
    "Fix time $t = n$. Find $p(\\delta)$ such that probabilities are the same at time $t$.  \n",
    "$t = n\\delta$  \n",
    "So $n = t / \\delta$"
   ]
  },
  {
   "cell_type": "markdown",
   "metadata": {},
   "source": [
    "$$1 - [1 - p(\\delta)]^{t / \\delta} = 1 - (1 - p)^t$$"
   ]
  },
  {
   "cell_type": "markdown",
   "metadata": {},
   "source": [
    "## Continuous limit\n",
    "Limit $\\delta \\to 0$  \n",
    "Need $p(\\delta) \\to 0$"
   ]
  },
  {
   "cell_type": "markdown",
   "metadata": {},
   "source": [
    "If $x$ is small, $1 - x \\simeq \\exp(-x)$"
   ]
  },
  {
   "cell_type": "markdown",
   "metadata": {},
   "source": [
    "$$\\exp(x) = 1 + x + \\frac{1}{2} x^2 + \\frac{1}{3!} x^3 + \\cdots + \\frac{1}{n!} x^n$$"
   ]
  },
  {
   "cell_type": "markdown",
   "metadata": {},
   "source": [
    "$$\\exp(x) = \\sum_{n=0}^\\infty \\frac{1}{n!} x^n$$"
   ]
  },
  {
   "cell_type": "markdown",
   "metadata": {},
   "source": [
    "Define $\\exp$ as the function which is equal to its derivative and suppose that I can write as a power series in $x$"
   ]
  },
  {
   "cell_type": "markdown",
   "metadata": {},
   "source": [
    "$$1 - [1 - p(\\delta)]t/\\delta \\simeq 1 - \\{ \\exp[-p(\\delta)] \\}^{t/\\delta}$$"
   ]
  },
  {
   "cell_type": "markdown",
   "metadata": {},
   "source": [
    "$$1-exp \\left[ -p(\\delta) \\frac{t}{\\delta} \\right]$$"
   ]
  },
  {
   "cell_type": "markdown",
   "metadata": {},
   "source": [
    "Need $p(\\delta)/\\delta \\to$ when $\\delta \\to 0$"
   ]
  },
  {
   "cell_type": "markdown",
   "metadata": {},
   "source": [
    "End result: $F(t) = 1 - \\exp[-\\lambda t]$"
   ]
  },
  {
   "cell_type": "markdown",
   "metadata": {},
   "source": [
    "$\\lambda$ is **rate** -- probability per unit time"
   ]
  },
  {
   "cell_type": "markdown",
   "metadata": {},
   "source": [
    "$$1 - (1 - p)^t$$"
   ]
  },
  {
   "cell_type": "markdown",
   "metadata": {},
   "source": [
    "Choose $\\lambda$ such that $1 - p = exp(-\\lambda)$"
   ]
  },
  {
   "cell_type": "code",
   "execution_count": 32,
   "metadata": {},
   "outputs": [
    {
     "data": {
      "image/svg+xml": [
       "<?xml version=\"1.0\" encoding=\"utf-8\"?>\n",
       "<svg xmlns=\"http://www.w3.org/2000/svg\" xmlns:xlink=\"http://www.w3.org/1999/xlink\" width=\"600\" height=\"400\" viewBox=\"0 0 2400 1600\">\n",
       "<defs>\n",
       "  <clipPath id=\"clip000\">\n",
       "    <rect x=\"0\" y=\"0\" width=\"2400\" height=\"1600\"/>\n",
       "  </clipPath>\n",
       "</defs>\n",
       "<path clip-path=\"url(#clip000)\" d=\"\n",
       "M0 1600 L2400 1600 L2400 0 L0 0  Z\n",
       "  \" fill=\"#ffffff\" fill-rule=\"evenodd\" fill-opacity=\"1\"/>\n",
       "<defs>\n",
       "  <clipPath id=\"clip001\">\n",
       "    <rect x=\"480\" y=\"0\" width=\"1681\" height=\"1600\"/>\n",
       "  </clipPath>\n",
       "</defs>\n",
       "<path clip-path=\"url(#clip000)\" d=\"\n",
       "M174.862 1486.45 L2352.76 1486.45 L2352.76 47.2441 L174.862 47.2441  Z\n",
       "  \" fill=\"#ffffff\" fill-rule=\"evenodd\" fill-opacity=\"1\"/>\n",
       "<defs>\n",
       "  <clipPath id=\"clip002\">\n",
       "    <rect x=\"174\" y=\"47\" width=\"2179\" height=\"1440\"/>\n",
       "  </clipPath>\n",
       "</defs>\n",
       "<polyline clip-path=\"url(#clip002)\" style=\"stroke:#000000; stroke-width:2; stroke-opacity:0.1; fill:none\" points=\"\n",
       "  236.501,1486.45 236.501,47.2441 \n",
       "  \"/>\n",
       "<polyline clip-path=\"url(#clip002)\" style=\"stroke:#000000; stroke-width:2; stroke-opacity:0.1; fill:none\" points=\"\n",
       "  647.424,1486.45 647.424,47.2441 \n",
       "  \"/>\n",
       "<polyline clip-path=\"url(#clip002)\" style=\"stroke:#000000; stroke-width:2; stroke-opacity:0.1; fill:none\" points=\"\n",
       "  1058.35,1486.45 1058.35,47.2441 \n",
       "  \"/>\n",
       "<polyline clip-path=\"url(#clip002)\" style=\"stroke:#000000; stroke-width:2; stroke-opacity:0.1; fill:none\" points=\"\n",
       "  1469.27,1486.45 1469.27,47.2441 \n",
       "  \"/>\n",
       "<polyline clip-path=\"url(#clip002)\" style=\"stroke:#000000; stroke-width:2; stroke-opacity:0.1; fill:none\" points=\"\n",
       "  1880.19,1486.45 1880.19,47.2441 \n",
       "  \"/>\n",
       "<polyline clip-path=\"url(#clip002)\" style=\"stroke:#000000; stroke-width:2; stroke-opacity:0.1; fill:none\" points=\"\n",
       "  2291.12,1486.45 2291.12,47.2441 \n",
       "  \"/>\n",
       "<polyline clip-path=\"url(#clip000)\" style=\"stroke:#000000; stroke-width:4; stroke-opacity:1; fill:none\" points=\"\n",
       "  174.862,1486.45 2352.76,1486.45 \n",
       "  \"/>\n",
       "<polyline clip-path=\"url(#clip000)\" style=\"stroke:#000000; stroke-width:4; stroke-opacity:1; fill:none\" points=\"\n",
       "  236.501,1486.45 236.501,1469.18 \n",
       "  \"/>\n",
       "<polyline clip-path=\"url(#clip000)\" style=\"stroke:#000000; stroke-width:4; stroke-opacity:1; fill:none\" points=\"\n",
       "  647.424,1486.45 647.424,1469.18 \n",
       "  \"/>\n",
       "<polyline clip-path=\"url(#clip000)\" style=\"stroke:#000000; stroke-width:4; stroke-opacity:1; fill:none\" points=\"\n",
       "  1058.35,1486.45 1058.35,1469.18 \n",
       "  \"/>\n",
       "<polyline clip-path=\"url(#clip000)\" style=\"stroke:#000000; stroke-width:4; stroke-opacity:1; fill:none\" points=\"\n",
       "  1469.27,1486.45 1469.27,1469.18 \n",
       "  \"/>\n",
       "<polyline clip-path=\"url(#clip000)\" style=\"stroke:#000000; stroke-width:4; stroke-opacity:1; fill:none\" points=\"\n",
       "  1880.19,1486.45 1880.19,1469.18 \n",
       "  \"/>\n",
       "<polyline clip-path=\"url(#clip000)\" style=\"stroke:#000000; stroke-width:4; stroke-opacity:1; fill:none\" points=\"\n",
       "  2291.12,1486.45 2291.12,1469.18 \n",
       "  \"/>\n",
       "<path clip-path=\"url(#clip000)\" d=\"M 0 0 M236.501 1515.64 Q232.889 1515.64 231.061 1519.2 Q229.255 1522.75 229.255 1529.87 Q229.255 1536.98 231.061 1540.55 Q232.889 1544.09 236.501 1544.09 Q240.135 1544.09 241.94 1540.55 Q243.769 1536.98 243.769 1529.87 Q243.769 1522.75 241.94 1519.2 Q240.135 1515.64 236.501 1515.64 M236.501 1511.93 Q242.311 1511.93 245.366 1516.54 Q248.445 1521.12 248.445 1529.87 Q248.445 1538.6 245.366 1543.21 Q242.311 1547.79 236.501 1547.79 Q230.69 1547.79 227.612 1543.21 Q224.556 1538.6 224.556 1529.87 Q224.556 1521.12 227.612 1516.54 Q230.69 1511.93 236.501 1511.93 Z\" fill=\"#000000\" fill-rule=\"evenodd\" fill-opacity=\"1\" /><path clip-path=\"url(#clip000)\" d=\"M 0 0 M624.299 1543.18 L631.938 1543.18 L631.938 1516.82 L623.628 1518.49 L623.628 1514.23 L631.892 1512.56 L636.567 1512.56 L636.567 1543.18 L644.206 1543.18 L644.206 1547.12 L624.299 1547.12 L624.299 1543.18 Z\" fill=\"#000000\" fill-rule=\"evenodd\" fill-opacity=\"1\" /><path clip-path=\"url(#clip000)\" d=\"M 0 0 M659.276 1515.64 Q655.665 1515.64 653.836 1519.2 Q652.03 1522.75 652.03 1529.87 Q652.03 1536.98 653.836 1540.55 Q655.665 1544.09 659.276 1544.09 Q662.91 1544.09 664.715 1540.55 Q666.544 1536.98 666.544 1529.87 Q666.544 1522.75 664.715 1519.2 Q662.91 1515.64 659.276 1515.64 M659.276 1511.93 Q665.086 1511.93 668.141 1516.54 Q671.22 1521.12 671.22 1529.87 Q671.22 1538.6 668.141 1543.21 Q665.086 1547.79 659.276 1547.79 Q653.466 1547.79 650.387 1543.21 Q647.331 1538.6 647.331 1529.87 Q647.331 1521.12 650.387 1516.54 Q653.466 1511.93 659.276 1511.93 Z\" fill=\"#000000\" fill-rule=\"evenodd\" fill-opacity=\"1\" /><path clip-path=\"url(#clip000)\" d=\"M 0 0 M1039.49 1543.18 L1055.81 1543.18 L1055.81 1547.12 L1033.87 1547.12 L1033.87 1543.18 Q1036.53 1540.43 1041.11 1535.8 Q1045.72 1531.15 1046.9 1529.81 Q1049.15 1527.28 1050.03 1525.55 Q1050.93 1523.79 1050.93 1522.1 Q1050.93 1519.34 1048.98 1517.61 Q1047.06 1515.87 1043.96 1515.87 Q1041.76 1515.87 1039.31 1516.63 Q1036.88 1517.4 1034.1 1518.95 L1034.1 1514.23 Q1036.92 1513.09 1039.38 1512.51 Q1041.83 1511.93 1043.87 1511.93 Q1049.24 1511.93 1052.43 1514.62 Q1055.63 1517.31 1055.63 1521.8 Q1055.63 1523.93 1054.82 1525.85 Q1054.03 1527.74 1051.92 1530.34 Q1051.35 1531.01 1048.24 1534.23 Q1045.14 1537.42 1039.49 1543.18 Z\" fill=\"#000000\" fill-rule=\"evenodd\" fill-opacity=\"1\" /><path clip-path=\"url(#clip000)\" d=\"M 0 0 M1070.88 1515.64 Q1067.27 1515.64 1065.44 1519.2 Q1063.64 1522.75 1063.64 1529.87 Q1063.64 1536.98 1065.44 1540.55 Q1067.27 1544.09 1070.88 1544.09 Q1074.52 1544.09 1076.32 1540.55 Q1078.15 1536.98 1078.15 1529.87 Q1078.15 1522.75 1076.32 1519.2 Q1074.52 1515.64 1070.88 1515.64 M1070.88 1511.93 Q1076.69 1511.93 1079.75 1516.54 Q1082.83 1521.12 1082.83 1529.87 Q1082.83 1538.6 1079.75 1543.21 Q1076.69 1547.79 1070.88 1547.79 Q1065.07 1547.79 1061.99 1543.21 Q1058.94 1538.6 1058.94 1529.87 Q1058.94 1521.12 1061.99 1516.54 Q1065.07 1511.93 1070.88 1511.93 Z\" fill=\"#000000\" fill-rule=\"evenodd\" fill-opacity=\"1\" /><path clip-path=\"url(#clip000)\" d=\"M 0 0 M1460.01 1528.49 Q1463.37 1529.2 1465.24 1531.47 Q1467.14 1533.74 1467.14 1537.07 Q1467.14 1542.19 1463.62 1544.99 Q1460.1 1547.79 1453.62 1547.79 Q1451.45 1547.79 1449.13 1547.35 Q1446.84 1546.93 1444.39 1546.08 L1444.39 1541.56 Q1446.33 1542.7 1448.65 1543.28 Q1450.96 1543.86 1453.48 1543.86 Q1457.88 1543.86 1460.17 1542.12 Q1462.49 1540.38 1462.49 1537.07 Q1462.49 1534.02 1460.34 1532.31 Q1458.21 1530.57 1454.39 1530.57 L1450.36 1530.57 L1450.36 1526.73 L1454.57 1526.73 Q1458.02 1526.73 1459.85 1525.36 Q1461.68 1523.97 1461.68 1521.38 Q1461.68 1518.72 1459.78 1517.31 Q1457.9 1515.87 1454.39 1515.87 Q1452.47 1515.87 1450.27 1516.29 Q1448.07 1516.7 1445.43 1517.58 L1445.43 1513.42 Q1448.09 1512.68 1450.41 1512.31 Q1452.74 1511.93 1454.8 1511.93 Q1460.13 1511.93 1463.23 1514.37 Q1466.33 1516.77 1466.33 1520.89 Q1466.33 1523.76 1464.69 1525.75 Q1463.04 1527.72 1460.01 1528.49 Z\" fill=\"#000000\" fill-rule=\"evenodd\" fill-opacity=\"1\" /><path clip-path=\"url(#clip000)\" d=\"M 0 0 M1482.21 1515.64 Q1478.6 1515.64 1476.77 1519.2 Q1474.97 1522.75 1474.97 1529.87 Q1474.97 1536.98 1476.77 1540.55 Q1478.6 1544.09 1482.21 1544.09 Q1485.84 1544.09 1487.65 1540.55 Q1489.48 1536.98 1489.48 1529.87 Q1489.48 1522.75 1487.65 1519.2 Q1485.84 1515.64 1482.21 1515.64 M1482.21 1511.93 Q1488.02 1511.93 1491.08 1516.54 Q1494.15 1521.12 1494.15 1529.87 Q1494.15 1538.6 1491.08 1543.21 Q1488.02 1547.79 1482.21 1547.79 Q1476.4 1547.79 1473.32 1543.21 Q1470.27 1538.6 1470.27 1529.87 Q1470.27 1521.12 1473.32 1516.54 Q1476.4 1511.93 1482.21 1511.93 Z\" fill=\"#000000\" fill-rule=\"evenodd\" fill-opacity=\"1\" /><path clip-path=\"url(#clip000)\" d=\"M 0 0 M1869.7 1516.63 L1857.89 1535.08 L1869.7 1535.08 L1869.7 1516.63 M1868.47 1512.56 L1874.35 1512.56 L1874.35 1535.08 L1879.28 1535.08 L1879.28 1538.97 L1874.35 1538.97 L1874.35 1547.12 L1869.7 1547.12 L1869.7 1538.97 L1854.09 1538.97 L1854.09 1534.46 L1868.47 1512.56 Z\" fill=\"#000000\" fill-rule=\"evenodd\" fill-opacity=\"1\" /><path clip-path=\"url(#clip000)\" d=\"M 0 0 M1894.35 1515.64 Q1890.74 1515.64 1888.91 1519.2 Q1887.1 1522.75 1887.1 1529.87 Q1887.1 1536.98 1888.91 1540.55 Q1890.74 1544.09 1894.35 1544.09 Q1897.98 1544.09 1899.79 1540.55 Q1901.62 1536.98 1901.62 1529.87 Q1901.62 1522.75 1899.79 1519.2 Q1897.98 1515.64 1894.35 1515.64 M1894.35 1511.93 Q1900.16 1511.93 1903.21 1516.54 Q1906.29 1521.12 1906.29 1529.87 Q1906.29 1538.6 1903.21 1543.21 Q1900.16 1547.79 1894.35 1547.79 Q1888.54 1547.79 1885.46 1543.21 Q1882.4 1538.6 1882.4 1529.87 Q1882.4 1521.12 1885.46 1516.54 Q1888.54 1511.93 1894.35 1511.93 Z\" fill=\"#000000\" fill-rule=\"evenodd\" fill-opacity=\"1\" /><path clip-path=\"url(#clip000)\" d=\"M 0 0 M2267.89 1512.56 L2286.24 1512.56 L2286.24 1516.5 L2272.17 1516.5 L2272.17 1524.97 Q2273.19 1524.62 2274.21 1524.46 Q2275.23 1524.27 2276.24 1524.27 Q2282.03 1524.27 2285.41 1527.44 Q2288.79 1530.62 2288.79 1536.03 Q2288.79 1541.61 2285.32 1544.71 Q2281.85 1547.79 2275.53 1547.79 Q2273.35 1547.79 2271.08 1547.42 Q2268.84 1547.05 2266.43 1546.31 L2266.43 1541.61 Q2268.51 1542.74 2270.74 1543.3 Q2272.96 1543.86 2275.43 1543.86 Q2279.44 1543.86 2281.78 1541.75 Q2284.12 1539.64 2284.12 1536.03 Q2284.12 1532.42 2281.78 1530.31 Q2279.44 1528.21 2275.43 1528.21 Q2273.56 1528.21 2271.68 1528.62 Q2269.83 1529.04 2267.89 1529.92 L2267.89 1512.56 Z\" fill=\"#000000\" fill-rule=\"evenodd\" fill-opacity=\"1\" /><path clip-path=\"url(#clip000)\" d=\"M 0 0 M2303.86 1515.64 Q2300.25 1515.64 2298.42 1519.2 Q2296.62 1522.75 2296.62 1529.87 Q2296.62 1536.98 2298.42 1540.55 Q2300.25 1544.09 2303.86 1544.09 Q2307.49 1544.09 2309.3 1540.55 Q2311.13 1536.98 2311.13 1529.87 Q2311.13 1522.75 2309.3 1519.2 Q2307.49 1515.64 2303.86 1515.64 M2303.86 1511.93 Q2309.67 1511.93 2312.73 1516.54 Q2315.8 1521.12 2315.8 1529.87 Q2315.8 1538.6 2312.73 1543.21 Q2309.67 1547.79 2303.86 1547.79 Q2298.05 1547.79 2294.97 1543.21 Q2291.92 1538.6 2291.92 1529.87 Q2291.92 1521.12 2294.97 1516.54 Q2298.05 1511.93 2303.86 1511.93 Z\" fill=\"#000000\" fill-rule=\"evenodd\" fill-opacity=\"1\" /><polyline clip-path=\"url(#clip002)\" style=\"stroke:#000000; stroke-width:2; stroke-opacity:0.1; fill:none\" points=\"\n",
       "  174.862,1445.72 2352.76,1445.72 \n",
       "  \"/>\n",
       "<polyline clip-path=\"url(#clip002)\" style=\"stroke:#000000; stroke-width:2; stroke-opacity:0.1; fill:none\" points=\"\n",
       "  174.862,1106.28 2352.76,1106.28 \n",
       "  \"/>\n",
       "<polyline clip-path=\"url(#clip002)\" style=\"stroke:#000000; stroke-width:2; stroke-opacity:0.1; fill:none\" points=\"\n",
       "  174.862,766.846 2352.76,766.846 \n",
       "  \"/>\n",
       "<polyline clip-path=\"url(#clip002)\" style=\"stroke:#000000; stroke-width:2; stroke-opacity:0.1; fill:none\" points=\"\n",
       "  174.862,427.411 2352.76,427.411 \n",
       "  \"/>\n",
       "<polyline clip-path=\"url(#clip002)\" style=\"stroke:#000000; stroke-width:2; stroke-opacity:0.1; fill:none\" points=\"\n",
       "  174.862,87.9763 2352.76,87.9763 \n",
       "  \"/>\n",
       "<polyline clip-path=\"url(#clip000)\" style=\"stroke:#000000; stroke-width:4; stroke-opacity:1; fill:none\" points=\"\n",
       "  174.862,1486.45 174.862,47.2441 \n",
       "  \"/>\n",
       "<polyline clip-path=\"url(#clip000)\" style=\"stroke:#000000; stroke-width:4; stroke-opacity:1; fill:none\" points=\"\n",
       "  174.862,1445.72 200.997,1445.72 \n",
       "  \"/>\n",
       "<polyline clip-path=\"url(#clip000)\" style=\"stroke:#000000; stroke-width:4; stroke-opacity:1; fill:none\" points=\"\n",
       "  174.862,1106.28 200.997,1106.28 \n",
       "  \"/>\n",
       "<polyline clip-path=\"url(#clip000)\" style=\"stroke:#000000; stroke-width:4; stroke-opacity:1; fill:none\" points=\"\n",
       "  174.862,766.846 200.997,766.846 \n",
       "  \"/>\n",
       "<polyline clip-path=\"url(#clip000)\" style=\"stroke:#000000; stroke-width:4; stroke-opacity:1; fill:none\" points=\"\n",
       "  174.862,427.411 200.997,427.411 \n",
       "  \"/>\n",
       "<polyline clip-path=\"url(#clip000)\" style=\"stroke:#000000; stroke-width:4; stroke-opacity:1; fill:none\" points=\"\n",
       "  174.862,87.9763 200.997,87.9763 \n",
       "  \"/>\n",
       "<path clip-path=\"url(#clip000)\" d=\"M 0 0 M62.9365 1431.51 Q59.3254 1431.51 57.4967 1435.08 Q55.6912 1438.62 55.6912 1445.75 Q55.6912 1452.86 57.4967 1456.42 Q59.3254 1459.96 62.9365 1459.96 Q66.5707 1459.96 68.3763 1456.42 Q70.205 1452.86 70.205 1445.75 Q70.205 1438.62 68.3763 1435.08 Q66.5707 1431.51 62.9365 1431.51 M62.9365 1427.81 Q68.7467 1427.81 71.8022 1432.42 Q74.8809 1437 74.8809 1445.75 Q74.8809 1454.48 71.8022 1459.08 Q68.7467 1463.67 62.9365 1463.67 Q57.1264 1463.67 54.0477 1459.08 Q50.9921 1454.48 50.9921 1445.75 Q50.9921 1437 54.0477 1432.42 Q57.1264 1427.81 62.9365 1427.81 Z\" fill=\"#000000\" fill-rule=\"evenodd\" fill-opacity=\"1\" /><path clip-path=\"url(#clip000)\" d=\"M 0 0 M79.9503 1457.12 L84.8345 1457.12 L84.8345 1463 L79.9503 1463 L79.9503 1457.12 Z\" fill=\"#000000\" fill-rule=\"evenodd\" fill-opacity=\"1\" /><path clip-path=\"url(#clip000)\" d=\"M 0 0 M99.9039 1431.51 Q96.2928 1431.51 94.4641 1435.08 Q92.6586 1438.62 92.6586 1445.75 Q92.6586 1452.86 94.4641 1456.42 Q96.2928 1459.96 99.9039 1459.96 Q103.538 1459.96 105.344 1456.42 Q107.172 1452.86 107.172 1445.75 Q107.172 1438.62 105.344 1435.08 Q103.538 1431.51 99.9039 1431.51 M99.9039 1427.81 Q105.714 1427.81 108.77 1432.42 Q111.848 1437 111.848 1445.75 Q111.848 1454.48 108.77 1459.08 Q105.714 1463.67 99.9039 1463.67 Q94.0937 1463.67 91.0151 1459.08 Q87.9595 1454.48 87.9595 1445.75 Q87.9595 1437 91.0151 1432.42 Q94.0937 1427.81 99.9039 1427.81 Z\" fill=\"#000000\" fill-rule=\"evenodd\" fill-opacity=\"1\" /><path clip-path=\"url(#clip000)\" d=\"M 0 0 M126.918 1431.51 Q123.307 1431.51 121.478 1435.08 Q119.672 1438.62 119.672 1445.75 Q119.672 1452.86 121.478 1456.42 Q123.307 1459.96 126.918 1459.96 Q130.552 1459.96 132.357 1456.42 Q134.186 1452.86 134.186 1445.75 Q134.186 1438.62 132.357 1435.08 Q130.552 1431.51 126.918 1431.51 M126.918 1427.81 Q132.728 1427.81 135.783 1432.42 Q138.862 1437 138.862 1445.75 Q138.862 1454.48 135.783 1459.08 Q132.728 1463.67 126.918 1463.67 Q121.107 1463.67 118.029 1459.08 Q114.973 1454.48 114.973 1445.75 Q114.973 1437 118.029 1432.42 Q121.107 1427.81 126.918 1427.81 Z\" fill=\"#000000\" fill-rule=\"evenodd\" fill-opacity=\"1\" /><path clip-path=\"url(#clip000)\" d=\"M 0 0 M65.5291 1092.08 Q61.918 1092.08 60.0893 1095.64 Q58.2838 1099.19 58.2838 1106.32 Q58.2838 1113.42 60.0893 1116.99 Q61.918 1120.53 65.5291 1120.53 Q69.1633 1120.53 70.9689 1116.99 Q72.7976 1113.42 72.7976 1106.32 Q72.7976 1099.19 70.9689 1095.64 Q69.1633 1092.08 65.5291 1092.08 M65.5291 1088.38 Q71.3392 1088.38 74.3948 1092.98 Q77.4735 1097.57 77.4735 1106.32 Q77.4735 1115.04 74.3948 1119.65 Q71.3392 1124.23 65.5291 1124.23 Q59.7189 1124.23 56.6402 1119.65 Q53.5847 1115.04 53.5847 1106.32 Q53.5847 1097.57 56.6402 1092.98 Q59.7189 1088.38 65.5291 1088.38 Z\" fill=\"#000000\" fill-rule=\"evenodd\" fill-opacity=\"1\" /><path clip-path=\"url(#clip000)\" d=\"M 0 0 M82.5429 1117.68 L87.4271 1117.68 L87.4271 1123.56 L82.5429 1123.56 L82.5429 1117.68 Z\" fill=\"#000000\" fill-rule=\"evenodd\" fill-opacity=\"1\" /><path clip-path=\"url(#clip000)\" d=\"M 0 0 M96.5243 1119.63 L112.844 1119.63 L112.844 1123.56 L90.8993 1123.56 L90.8993 1119.63 Q93.5613 1116.87 98.1447 1112.24 Q102.751 1107.59 103.932 1106.25 Q106.177 1103.72 107.057 1101.99 Q107.959 1100.23 107.959 1098.54 Q107.959 1095.78 106.015 1094.05 Q104.094 1092.31 100.992 1092.31 Q98.7928 1092.31 96.3391 1093.07 Q93.9086 1093.84 91.1308 1095.39 L91.1308 1090.67 Q93.9549 1089.53 96.4085 1088.95 Q98.8622 1088.38 100.899 1088.38 Q106.27 1088.38 109.464 1091.06 Q112.658 1093.75 112.658 1098.24 Q112.658 1100.37 111.848 1102.29 Q111.061 1104.19 108.955 1106.78 Q108.376 1107.45 105.274 1110.67 Q102.172 1113.86 96.5243 1119.63 Z\" fill=\"#000000\" fill-rule=\"evenodd\" fill-opacity=\"1\" /><path clip-path=\"url(#clip000)\" d=\"M 0 0 M117.959 1089 L136.316 1089 L136.316 1092.94 L122.242 1092.94 L122.242 1101.41 Q123.26 1101.06 124.279 1100.9 Q125.297 1100.71 126.316 1100.71 Q132.103 1100.71 135.482 1103.89 Q138.862 1107.06 138.862 1112.47 Q138.862 1118.05 135.39 1121.15 Q131.918 1124.23 125.598 1124.23 Q123.422 1124.23 121.154 1123.86 Q118.908 1123.49 116.501 1122.75 L116.501 1118.05 Q118.584 1119.19 120.807 1119.74 Q123.029 1120.3 125.506 1120.3 Q129.51 1120.3 131.848 1118.19 Q134.186 1116.08 134.186 1112.47 Q134.186 1108.86 131.848 1106.76 Q129.51 1104.65 125.506 1104.65 Q123.631 1104.65 121.756 1105.07 Q119.904 1105.48 117.959 1106.36 L117.959 1089 Z\" fill=\"#000000\" fill-rule=\"evenodd\" fill-opacity=\"1\" /><path clip-path=\"url(#clip000)\" d=\"M 0 0 M63.9319 752.645 Q60.3208 752.645 58.4921 756.209 Q56.6865 759.751 56.6865 766.881 Q56.6865 773.987 58.4921 777.552 Q60.3208 781.094 63.9319 781.094 Q67.5661 781.094 69.3717 777.552 Q71.2004 773.987 71.2004 766.881 Q71.2004 759.751 69.3717 756.209 Q67.5661 752.645 63.9319 752.645 M63.9319 748.941 Q69.742 748.941 72.7976 753.547 Q75.8763 758.131 75.8763 766.881 Q75.8763 775.608 72.7976 780.214 Q69.742 784.797 63.9319 784.797 Q58.1217 784.797 55.043 780.214 Q51.9875 775.608 51.9875 766.881 Q51.9875 758.131 55.043 753.547 Q58.1217 748.941 63.9319 748.941 Z\" fill=\"#000000\" fill-rule=\"evenodd\" fill-opacity=\"1\" /><path clip-path=\"url(#clip000)\" d=\"M 0 0 M80.9457 778.246 L85.8299 778.246 L85.8299 784.126 L80.9457 784.126 L80.9457 778.246 Z\" fill=\"#000000\" fill-rule=\"evenodd\" fill-opacity=\"1\" /><path clip-path=\"url(#clip000)\" d=\"M 0 0 M90.9456 749.566 L109.302 749.566 L109.302 753.501 L95.228 753.501 L95.228 761.973 Q96.2465 761.626 97.265 761.464 Q98.2835 761.279 99.3021 761.279 Q105.089 761.279 108.469 764.45 Q111.848 767.621 111.848 773.038 Q111.848 778.617 108.376 781.719 Q104.904 784.797 98.5845 784.797 Q96.4085 784.797 94.14 784.427 Q91.8947 784.057 89.4873 783.316 L89.4873 778.617 Q91.5706 779.751 93.7928 780.307 Q96.015 780.862 98.4919 780.862 Q102.496 780.862 104.834 778.756 Q107.172 776.649 107.172 773.038 Q107.172 769.427 104.834 767.321 Q102.496 765.214 98.4919 765.214 Q96.6169 765.214 94.7419 765.631 Q92.89 766.047 90.9456 766.927 L90.9456 749.566 Z\" fill=\"#000000\" fill-rule=\"evenodd\" fill-opacity=\"1\" /><path clip-path=\"url(#clip000)\" d=\"M 0 0 M126.918 752.645 Q123.307 752.645 121.478 756.209 Q119.672 759.751 119.672 766.881 Q119.672 773.987 121.478 777.552 Q123.307 781.094 126.918 781.094 Q130.552 781.094 132.357 777.552 Q134.186 773.987 134.186 766.881 Q134.186 759.751 132.357 756.209 Q130.552 752.645 126.918 752.645 M126.918 748.941 Q132.728 748.941 135.783 753.547 Q138.862 758.131 138.862 766.881 Q138.862 775.608 135.783 780.214 Q132.728 784.797 126.918 784.797 Q121.107 784.797 118.029 780.214 Q114.973 775.608 114.973 766.881 Q114.973 758.131 118.029 753.547 Q121.107 748.941 126.918 748.941 Z\" fill=\"#000000\" fill-rule=\"evenodd\" fill-opacity=\"1\" /><path clip-path=\"url(#clip000)\" d=\"M 0 0 M64.8346 413.21 Q61.2236 413.21 59.3949 416.775 Q57.5893 420.316 57.5893 427.446 Q57.5893 434.552 59.3949 438.117 Q61.2236 441.659 64.8346 441.659 Q68.4689 441.659 70.2744 438.117 Q72.1031 434.552 72.1031 427.446 Q72.1031 420.316 70.2744 416.775 Q68.4689 413.21 64.8346 413.21 M64.8346 409.506 Q70.6448 409.506 73.7003 414.113 Q76.779 418.696 76.779 427.446 Q76.779 436.173 73.7003 440.779 Q70.6448 445.362 64.8346 445.362 Q59.0245 445.362 55.9458 440.779 Q52.8903 436.173 52.8903 427.446 Q52.8903 418.696 55.9458 414.113 Q59.0245 409.506 64.8346 409.506 Z\" fill=\"#000000\" fill-rule=\"evenodd\" fill-opacity=\"1\" /><path clip-path=\"url(#clip000)\" d=\"M 0 0 M81.8484 438.812 L86.7327 438.812 L86.7327 444.691 L81.8484 444.691 L81.8484 438.812 Z\" fill=\"#000000\" fill-rule=\"evenodd\" fill-opacity=\"1\" /><path clip-path=\"url(#clip000)\" d=\"M 0 0 M90.6215 410.131 L112.844 410.131 L112.844 412.122 L100.297 444.691 L95.4132 444.691 L107.219 414.066 L90.6215 414.066 L90.6215 410.131 Z\" fill=\"#000000\" fill-rule=\"evenodd\" fill-opacity=\"1\" /><path clip-path=\"url(#clip000)\" d=\"M 0 0 M117.959 410.131 L136.316 410.131 L136.316 414.066 L122.242 414.066 L122.242 422.538 Q123.26 422.191 124.279 422.029 Q125.297 421.844 126.316 421.844 Q132.103 421.844 135.482 425.015 Q138.862 428.187 138.862 433.603 Q138.862 439.182 135.39 442.284 Q131.918 445.362 125.598 445.362 Q123.422 445.362 121.154 444.992 Q118.908 444.622 116.501 443.881 L116.501 439.182 Q118.584 440.316 120.807 440.872 Q123.029 441.427 125.506 441.427 Q129.51 441.427 131.848 439.321 Q134.186 437.214 134.186 433.603 Q134.186 429.992 131.848 427.886 Q129.51 425.779 125.506 425.779 Q123.631 425.779 121.756 426.196 Q119.904 426.613 117.959 427.492 L117.959 410.131 Z\" fill=\"#000000\" fill-rule=\"evenodd\" fill-opacity=\"1\" /><path clip-path=\"url(#clip000)\" d=\"M 0 0 M54.9736 101.321 L62.6124 101.321 L62.6124 74.9555 L54.3023 76.6222 L54.3023 72.3629 L62.5661 70.6963 L67.242 70.6963 L67.242 101.321 L74.8809 101.321 L74.8809 105.256 L54.9736 105.256 L54.9736 101.321 Z\" fill=\"#000000\" fill-rule=\"evenodd\" fill-opacity=\"1\" /><path clip-path=\"url(#clip000)\" d=\"M 0 0 M79.9503 99.3767 L84.8345 99.3767 L84.8345 105.256 L79.9503 105.256 L79.9503 99.3767 Z\" fill=\"#000000\" fill-rule=\"evenodd\" fill-opacity=\"1\" /><path clip-path=\"url(#clip000)\" d=\"M 0 0 M99.9039 73.775 Q96.2928 73.775 94.4641 77.3398 Q92.6586 80.8814 92.6586 88.011 Q92.6586 95.1174 94.4641 98.6822 Q96.2928 102.224 99.9039 102.224 Q103.538 102.224 105.344 98.6822 Q107.172 95.1174 107.172 88.011 Q107.172 80.8814 105.344 77.3398 Q103.538 73.775 99.9039 73.775 M99.9039 70.0713 Q105.714 70.0713 108.77 74.6777 Q111.848 79.261 111.848 88.011 Q111.848 96.7378 108.77 101.344 Q105.714 105.928 99.9039 105.928 Q94.0937 105.928 91.0151 101.344 Q87.9595 96.7378 87.9595 88.011 Q87.9595 79.261 91.0151 74.6777 Q94.0937 70.0713 99.9039 70.0713 Z\" fill=\"#000000\" fill-rule=\"evenodd\" fill-opacity=\"1\" /><path clip-path=\"url(#clip000)\" d=\"M 0 0 M126.918 73.775 Q123.307 73.775 121.478 77.3398 Q119.672 80.8814 119.672 88.011 Q119.672 95.1174 121.478 98.6822 Q123.307 102.224 126.918 102.224 Q130.552 102.224 132.357 98.6822 Q134.186 95.1174 134.186 88.011 Q134.186 80.8814 132.357 77.3398 Q130.552 73.775 126.918 73.775 M126.918 70.0713 Q132.728 70.0713 135.783 74.6777 Q138.862 79.261 138.862 88.011 Q138.862 96.7378 135.783 101.344 Q132.728 105.928 126.918 105.928 Q121.107 105.928 118.029 101.344 Q114.973 96.7378 114.973 88.011 Q114.973 79.261 118.029 74.6777 Q121.107 70.0713 126.918 70.0713 Z\" fill=\"#000000\" fill-rule=\"evenodd\" fill-opacity=\"1\" /><polyline clip-path=\"url(#clip002)\" style=\"stroke:#009af9; stroke-width:4; stroke-opacity:1; fill:none\" points=\"\n",
       "  236.501,1445.72 277.593,1445.72 277.593,1309.94 318.685,1309.94 318.685,1187.75 359.778,1187.75 359.778,1077.77 400.87,1077.77 400.87,978.789 441.962,978.789 \n",
       "  441.962,889.708 483.055,889.708 483.055,809.535 524.147,809.535 524.147,737.379 565.239,737.379 565.239,672.439 606.332,672.439 606.332,613.992 647.424,613.992 \n",
       "  647.424,561.391 688.516,561.391 688.516,514.049 729.609,514.049 729.609,471.442 770.701,471.442 770.701,433.095 811.793,433.095 811.793,398.584 852.886,398.584 \n",
       "  852.886,367.523 893.978,367.523 893.978,339.568 935.07,339.568 935.07,314.409 976.163,314.409 976.163,291.766 1017.25,291.766 1017.25,271.387 1058.35,271.387 \n",
       "  1058.35,253.046 1099.44,253.046 1099.44,236.539 1140.53,236.539 1140.53,221.683 1181.62,221.683 1181.62,208.312 1222.72,208.312 1222.72,196.278 1263.81,196.278 \n",
       "  1263.81,185.448 1304.9,185.448 1304.9,175.701 1345.99,175.701 1345.99,166.928 1387.09,166.928 1387.09,159.033 1428.18,159.033 1428.18,151.928 1469.27,151.928 \n",
       "  1469.27,145.532 1510.36,145.532 1510.36,139.777 1551.46,139.777 1551.46,134.597 1592.55,134.597 1592.55,129.935 1633.64,129.935 1633.64,125.739 1674.73,125.739 \n",
       "  1674.73,121.963 1715.82,121.963 1715.82,118.564 1756.92,118.564 1756.92,115.505 1798.01,115.505 1798.01,112.752 1839.1,112.752 1839.1,110.275 1880.19,110.275 \n",
       "  1880.19,108.045 1921.29,108.045 1921.29,106.038 1962.38,106.038 1962.38,104.232 2003.47,104.232 2003.47,102.606 2044.56,102.606 2044.56,101.143 2085.66,101.143 \n",
       "  2085.66,99.8266 2126.75,99.8266 2126.75,98.6415 2167.84,98.6415 2167.84,97.575 2208.93,97.575 2208.93,96.6151 2250.03,96.6151 2250.03,95.7513 2291.12,95.7513 \n",
       "  2291.12,94.9738 \n",
       "  \"/>\n",
       "<circle clip-path=\"url(#clip002)\" cx=\"277.593\" cy=\"1309.94\" r=\"14\" fill=\"#e26f46\" fill-rule=\"evenodd\" fill-opacity=\"1\" stroke=\"#000000\" stroke-opacity=\"1\" stroke-width=\"3.2\"/>\n",
       "<circle clip-path=\"url(#clip002)\" cx=\"318.685\" cy=\"1187.75\" r=\"14\" fill=\"#e26f46\" fill-rule=\"evenodd\" fill-opacity=\"1\" stroke=\"#000000\" stroke-opacity=\"1\" stroke-width=\"3.2\"/>\n",
       "<circle clip-path=\"url(#clip002)\" cx=\"359.778\" cy=\"1077.77\" r=\"14\" fill=\"#e26f46\" fill-rule=\"evenodd\" fill-opacity=\"1\" stroke=\"#000000\" stroke-opacity=\"1\" stroke-width=\"3.2\"/>\n",
       "<circle clip-path=\"url(#clip002)\" cx=\"400.87\" cy=\"978.789\" r=\"14\" fill=\"#e26f46\" fill-rule=\"evenodd\" fill-opacity=\"1\" stroke=\"#000000\" stroke-opacity=\"1\" stroke-width=\"3.2\"/>\n",
       "<circle clip-path=\"url(#clip002)\" cx=\"441.962\" cy=\"889.708\" r=\"14\" fill=\"#e26f46\" fill-rule=\"evenodd\" fill-opacity=\"1\" stroke=\"#000000\" stroke-opacity=\"1\" stroke-width=\"3.2\"/>\n",
       "<circle clip-path=\"url(#clip002)\" cx=\"483.055\" cy=\"809.535\" r=\"14\" fill=\"#e26f46\" fill-rule=\"evenodd\" fill-opacity=\"1\" stroke=\"#000000\" stroke-opacity=\"1\" stroke-width=\"3.2\"/>\n",
       "<circle clip-path=\"url(#clip002)\" cx=\"524.147\" cy=\"737.379\" r=\"14\" fill=\"#e26f46\" fill-rule=\"evenodd\" fill-opacity=\"1\" stroke=\"#000000\" stroke-opacity=\"1\" stroke-width=\"3.2\"/>\n",
       "<circle clip-path=\"url(#clip002)\" cx=\"565.239\" cy=\"672.439\" r=\"14\" fill=\"#e26f46\" fill-rule=\"evenodd\" fill-opacity=\"1\" stroke=\"#000000\" stroke-opacity=\"1\" stroke-width=\"3.2\"/>\n",
       "<circle clip-path=\"url(#clip002)\" cx=\"606.332\" cy=\"613.992\" r=\"14\" fill=\"#e26f46\" fill-rule=\"evenodd\" fill-opacity=\"1\" stroke=\"#000000\" stroke-opacity=\"1\" stroke-width=\"3.2\"/>\n",
       "<circle clip-path=\"url(#clip002)\" cx=\"647.424\" cy=\"561.391\" r=\"14\" fill=\"#e26f46\" fill-rule=\"evenodd\" fill-opacity=\"1\" stroke=\"#000000\" stroke-opacity=\"1\" stroke-width=\"3.2\"/>\n",
       "<circle clip-path=\"url(#clip002)\" cx=\"688.516\" cy=\"514.049\" r=\"14\" fill=\"#e26f46\" fill-rule=\"evenodd\" fill-opacity=\"1\" stroke=\"#000000\" stroke-opacity=\"1\" stroke-width=\"3.2\"/>\n",
       "<circle clip-path=\"url(#clip002)\" cx=\"729.609\" cy=\"471.442\" r=\"14\" fill=\"#e26f46\" fill-rule=\"evenodd\" fill-opacity=\"1\" stroke=\"#000000\" stroke-opacity=\"1\" stroke-width=\"3.2\"/>\n",
       "<circle clip-path=\"url(#clip002)\" cx=\"770.701\" cy=\"433.095\" r=\"14\" fill=\"#e26f46\" fill-rule=\"evenodd\" fill-opacity=\"1\" stroke=\"#000000\" stroke-opacity=\"1\" stroke-width=\"3.2\"/>\n",
       "<circle clip-path=\"url(#clip002)\" cx=\"811.793\" cy=\"398.584\" r=\"14\" fill=\"#e26f46\" fill-rule=\"evenodd\" fill-opacity=\"1\" stroke=\"#000000\" stroke-opacity=\"1\" stroke-width=\"3.2\"/>\n",
       "<circle clip-path=\"url(#clip002)\" cx=\"852.886\" cy=\"367.523\" r=\"14\" fill=\"#e26f46\" fill-rule=\"evenodd\" fill-opacity=\"1\" stroke=\"#000000\" stroke-opacity=\"1\" stroke-width=\"3.2\"/>\n",
       "<circle clip-path=\"url(#clip002)\" cx=\"893.978\" cy=\"339.568\" r=\"14\" fill=\"#e26f46\" fill-rule=\"evenodd\" fill-opacity=\"1\" stroke=\"#000000\" stroke-opacity=\"1\" stroke-width=\"3.2\"/>\n",
       "<circle clip-path=\"url(#clip002)\" cx=\"935.07\" cy=\"314.409\" r=\"14\" fill=\"#e26f46\" fill-rule=\"evenodd\" fill-opacity=\"1\" stroke=\"#000000\" stroke-opacity=\"1\" stroke-width=\"3.2\"/>\n",
       "<circle clip-path=\"url(#clip002)\" cx=\"976.163\" cy=\"291.766\" r=\"14\" fill=\"#e26f46\" fill-rule=\"evenodd\" fill-opacity=\"1\" stroke=\"#000000\" stroke-opacity=\"1\" stroke-width=\"3.2\"/>\n",
       "<circle clip-path=\"url(#clip002)\" cx=\"1017.25\" cy=\"271.387\" r=\"14\" fill=\"#e26f46\" fill-rule=\"evenodd\" fill-opacity=\"1\" stroke=\"#000000\" stroke-opacity=\"1\" stroke-width=\"3.2\"/>\n",
       "<circle clip-path=\"url(#clip002)\" cx=\"1058.35\" cy=\"253.046\" r=\"14\" fill=\"#e26f46\" fill-rule=\"evenodd\" fill-opacity=\"1\" stroke=\"#000000\" stroke-opacity=\"1\" stroke-width=\"3.2\"/>\n",
       "<circle clip-path=\"url(#clip002)\" cx=\"1099.44\" cy=\"236.539\" r=\"14\" fill=\"#e26f46\" fill-rule=\"evenodd\" fill-opacity=\"1\" stroke=\"#000000\" stroke-opacity=\"1\" stroke-width=\"3.2\"/>\n",
       "<circle clip-path=\"url(#clip002)\" cx=\"1140.53\" cy=\"221.683\" r=\"14\" fill=\"#e26f46\" fill-rule=\"evenodd\" fill-opacity=\"1\" stroke=\"#000000\" stroke-opacity=\"1\" stroke-width=\"3.2\"/>\n",
       "<circle clip-path=\"url(#clip002)\" cx=\"1181.62\" cy=\"208.312\" r=\"14\" fill=\"#e26f46\" fill-rule=\"evenodd\" fill-opacity=\"1\" stroke=\"#000000\" stroke-opacity=\"1\" stroke-width=\"3.2\"/>\n",
       "<circle clip-path=\"url(#clip002)\" cx=\"1222.72\" cy=\"196.278\" r=\"14\" fill=\"#e26f46\" fill-rule=\"evenodd\" fill-opacity=\"1\" stroke=\"#000000\" stroke-opacity=\"1\" stroke-width=\"3.2\"/>\n",
       "<circle clip-path=\"url(#clip002)\" cx=\"1263.81\" cy=\"185.448\" r=\"14\" fill=\"#e26f46\" fill-rule=\"evenodd\" fill-opacity=\"1\" stroke=\"#000000\" stroke-opacity=\"1\" stroke-width=\"3.2\"/>\n",
       "<circle clip-path=\"url(#clip002)\" cx=\"1304.9\" cy=\"175.701\" r=\"14\" fill=\"#e26f46\" fill-rule=\"evenodd\" fill-opacity=\"1\" stroke=\"#000000\" stroke-opacity=\"1\" stroke-width=\"3.2\"/>\n",
       "<circle clip-path=\"url(#clip002)\" cx=\"1345.99\" cy=\"166.928\" r=\"14\" fill=\"#e26f46\" fill-rule=\"evenodd\" fill-opacity=\"1\" stroke=\"#000000\" stroke-opacity=\"1\" stroke-width=\"3.2\"/>\n",
       "<circle clip-path=\"url(#clip002)\" cx=\"1387.09\" cy=\"159.033\" r=\"14\" fill=\"#e26f46\" fill-rule=\"evenodd\" fill-opacity=\"1\" stroke=\"#000000\" stroke-opacity=\"1\" stroke-width=\"3.2\"/>\n",
       "<circle clip-path=\"url(#clip002)\" cx=\"1428.18\" cy=\"151.928\" r=\"14\" fill=\"#e26f46\" fill-rule=\"evenodd\" fill-opacity=\"1\" stroke=\"#000000\" stroke-opacity=\"1\" stroke-width=\"3.2\"/>\n",
       "<circle clip-path=\"url(#clip002)\" cx=\"1469.27\" cy=\"145.532\" r=\"14\" fill=\"#e26f46\" fill-rule=\"evenodd\" fill-opacity=\"1\" stroke=\"#000000\" stroke-opacity=\"1\" stroke-width=\"3.2\"/>\n",
       "<circle clip-path=\"url(#clip002)\" cx=\"1510.36\" cy=\"139.777\" r=\"14\" fill=\"#e26f46\" fill-rule=\"evenodd\" fill-opacity=\"1\" stroke=\"#000000\" stroke-opacity=\"1\" stroke-width=\"3.2\"/>\n",
       "<circle clip-path=\"url(#clip002)\" cx=\"1551.46\" cy=\"134.597\" r=\"14\" fill=\"#e26f46\" fill-rule=\"evenodd\" fill-opacity=\"1\" stroke=\"#000000\" stroke-opacity=\"1\" stroke-width=\"3.2\"/>\n",
       "<circle clip-path=\"url(#clip002)\" cx=\"1592.55\" cy=\"129.935\" r=\"14\" fill=\"#e26f46\" fill-rule=\"evenodd\" fill-opacity=\"1\" stroke=\"#000000\" stroke-opacity=\"1\" stroke-width=\"3.2\"/>\n",
       "<circle clip-path=\"url(#clip002)\" cx=\"1633.64\" cy=\"125.739\" r=\"14\" fill=\"#e26f46\" fill-rule=\"evenodd\" fill-opacity=\"1\" stroke=\"#000000\" stroke-opacity=\"1\" stroke-width=\"3.2\"/>\n",
       "<circle clip-path=\"url(#clip002)\" cx=\"1674.73\" cy=\"121.963\" r=\"14\" fill=\"#e26f46\" fill-rule=\"evenodd\" fill-opacity=\"1\" stroke=\"#000000\" stroke-opacity=\"1\" stroke-width=\"3.2\"/>\n",
       "<circle clip-path=\"url(#clip002)\" cx=\"1715.82\" cy=\"118.564\" r=\"14\" fill=\"#e26f46\" fill-rule=\"evenodd\" fill-opacity=\"1\" stroke=\"#000000\" stroke-opacity=\"1\" stroke-width=\"3.2\"/>\n",
       "<circle clip-path=\"url(#clip002)\" cx=\"1756.92\" cy=\"115.505\" r=\"14\" fill=\"#e26f46\" fill-rule=\"evenodd\" fill-opacity=\"1\" stroke=\"#000000\" stroke-opacity=\"1\" stroke-width=\"3.2\"/>\n",
       "<circle clip-path=\"url(#clip002)\" cx=\"1798.01\" cy=\"112.752\" r=\"14\" fill=\"#e26f46\" fill-rule=\"evenodd\" fill-opacity=\"1\" stroke=\"#000000\" stroke-opacity=\"1\" stroke-width=\"3.2\"/>\n",
       "<circle clip-path=\"url(#clip002)\" cx=\"1839.1\" cy=\"110.275\" r=\"14\" fill=\"#e26f46\" fill-rule=\"evenodd\" fill-opacity=\"1\" stroke=\"#000000\" stroke-opacity=\"1\" stroke-width=\"3.2\"/>\n",
       "<circle clip-path=\"url(#clip002)\" cx=\"1880.19\" cy=\"108.045\" r=\"14\" fill=\"#e26f46\" fill-rule=\"evenodd\" fill-opacity=\"1\" stroke=\"#000000\" stroke-opacity=\"1\" stroke-width=\"3.2\"/>\n",
       "<circle clip-path=\"url(#clip002)\" cx=\"1921.29\" cy=\"106.038\" r=\"14\" fill=\"#e26f46\" fill-rule=\"evenodd\" fill-opacity=\"1\" stroke=\"#000000\" stroke-opacity=\"1\" stroke-width=\"3.2\"/>\n",
       "<circle clip-path=\"url(#clip002)\" cx=\"1962.38\" cy=\"104.232\" r=\"14\" fill=\"#e26f46\" fill-rule=\"evenodd\" fill-opacity=\"1\" stroke=\"#000000\" stroke-opacity=\"1\" stroke-width=\"3.2\"/>\n",
       "<circle clip-path=\"url(#clip002)\" cx=\"2003.47\" cy=\"102.606\" r=\"14\" fill=\"#e26f46\" fill-rule=\"evenodd\" fill-opacity=\"1\" stroke=\"#000000\" stroke-opacity=\"1\" stroke-width=\"3.2\"/>\n",
       "<circle clip-path=\"url(#clip002)\" cx=\"2044.56\" cy=\"101.143\" r=\"14\" fill=\"#e26f46\" fill-rule=\"evenodd\" fill-opacity=\"1\" stroke=\"#000000\" stroke-opacity=\"1\" stroke-width=\"3.2\"/>\n",
       "<circle clip-path=\"url(#clip002)\" cx=\"2085.66\" cy=\"99.8266\" r=\"14\" fill=\"#e26f46\" fill-rule=\"evenodd\" fill-opacity=\"1\" stroke=\"#000000\" stroke-opacity=\"1\" stroke-width=\"3.2\"/>\n",
       "<circle clip-path=\"url(#clip002)\" cx=\"2126.75\" cy=\"98.6415\" r=\"14\" fill=\"#e26f46\" fill-rule=\"evenodd\" fill-opacity=\"1\" stroke=\"#000000\" stroke-opacity=\"1\" stroke-width=\"3.2\"/>\n",
       "<circle clip-path=\"url(#clip002)\" cx=\"2167.84\" cy=\"97.575\" r=\"14\" fill=\"#e26f46\" fill-rule=\"evenodd\" fill-opacity=\"1\" stroke=\"#000000\" stroke-opacity=\"1\" stroke-width=\"3.2\"/>\n",
       "<circle clip-path=\"url(#clip002)\" cx=\"2208.93\" cy=\"96.6151\" r=\"14\" fill=\"#e26f46\" fill-rule=\"evenodd\" fill-opacity=\"1\" stroke=\"#000000\" stroke-opacity=\"1\" stroke-width=\"3.2\"/>\n",
       "<circle clip-path=\"url(#clip002)\" cx=\"2250.03\" cy=\"95.7513\" r=\"14\" fill=\"#e26f46\" fill-rule=\"evenodd\" fill-opacity=\"1\" stroke=\"#000000\" stroke-opacity=\"1\" stroke-width=\"3.2\"/>\n",
       "<circle clip-path=\"url(#clip002)\" cx=\"2291.12\" cy=\"94.9738\" r=\"14\" fill=\"#e26f46\" fill-rule=\"evenodd\" fill-opacity=\"1\" stroke=\"#000000\" stroke-opacity=\"1\" stroke-width=\"3.2\"/>\n",
       "<polyline clip-path=\"url(#clip002)\" style=\"stroke:#3da44d; stroke-width:12; stroke-opacity:1; fill:none\" points=\"\n",
       "  236.501,1445.72 236.911,1444.36 237.322,1443 237.733,1441.65 238.144,1440.3 238.555,1438.94 238.966,1437.59 239.377,1436.24 239.788,1434.9 240.199,1433.55 \n",
       "  240.61,1432.21 241.021,1430.86 241.432,1429.52 241.843,1428.18 242.253,1426.84 242.664,1425.5 243.075,1424.16 243.486,1422.83 243.897,1421.5 244.308,1420.16 \n",
       "  244.719,1418.83 245.13,1417.5 245.541,1416.17 245.952,1414.84 246.363,1413.52 246.774,1412.19 247.185,1410.87 247.595,1409.55 248.006,1408.23 248.417,1406.91 \n",
       "  248.828,1405.59 249.239,1404.27 249.65,1402.96 250.061,1401.64 250.472,1400.33 250.883,1399.02 251.294,1397.71 251.705,1396.4 252.116,1395.09 252.527,1393.78 \n",
       "  252.937,1392.48 253.348,1391.17 253.759,1389.87 254.17,1388.57 254.581,1387.27 254.992,1385.97 255.403,1384.67 255.814,1383.38 256.225,1382.08 256.636,1380.79 \n",
       "  257.047,1379.5 257.458,1378.21 257.869,1376.92 258.279,1375.63 258.69,1374.34 259.101,1373.06 259.512,1371.77 259.923,1370.49 260.334,1369.21 260.745,1367.93 \n",
       "  261.156,1366.65 261.567,1365.37 261.978,1364.09 262.389,1362.82 262.8,1361.54 263.211,1360.27 263.621,1359 264.032,1357.73 264.443,1356.46 264.854,1355.19 \n",
       "  265.265,1353.92 265.676,1352.66 266.087,1351.39 266.498,1350.13 266.909,1348.87 267.32,1347.61 267.731,1346.35 268.142,1345.09 268.553,1343.84 268.963,1342.58 \n",
       "  269.374,1341.33 269.785,1340.07 270.196,1338.82 270.607,1337.57 271.018,1336.32 271.429,1335.08 271.84,1333.83 272.251,1332.58 272.662,1331.34 273.073,1330.1 \n",
       "  273.484,1328.86 273.895,1327.62 274.305,1326.38 274.716,1325.14 275.127,1323.9 275.538,1322.67 275.949,1321.43 276.36,1320.2 276.771,1318.97 277.182,1317.74 \n",
       "  277.593,1316.51 278.004,1315.28 278.415,1314.06 278.826,1312.83 279.237,1311.61 279.647,1310.38 280.058,1309.16 280.469,1307.94 280.88,1306.72 281.291,1305.5 \n",
       "  281.702,1304.29 282.113,1303.07 282.524,1301.86 282.935,1300.64 283.346,1299.43 283.757,1298.22 284.168,1297.01 284.579,1295.8 284.989,1294.59 285.4,1293.39 \n",
       "  285.811,1292.18 286.222,1290.98 286.633,1289.78 287.044,1288.58 287.455,1287.38 287.866,1286.18 288.277,1284.98 288.688,1283.78 289.099,1282.59 289.51,1281.39 \n",
       "  289.921,1280.2 290.331,1279.01 290.742,1277.82 291.153,1276.63 291.564,1275.44 291.975,1274.25 292.386,1273.07 292.797,1271.88 293.208,1270.7 293.619,1269.52 \n",
       "  294.03,1268.34 294.441,1267.16 294.852,1265.98 295.263,1264.8 295.673,1263.63 296.084,1262.45 296.495,1261.28 296.906,1260.1 297.317,1258.93 297.728,1257.76 \n",
       "  298.139,1256.59 298.55,1255.43 298.961,1254.26 299.372,1253.09 299.783,1251.93 300.194,1250.76 300.605,1249.6 301.016,1248.44 301.426,1247.28 301.837,1246.12 \n",
       "  302.248,1244.97 302.659,1243.81 303.07,1242.65 303.481,1241.5 303.892,1240.35 304.303,1239.19 304.714,1238.04 305.125,1236.89 305.536,1235.75 305.947,1234.6 \n",
       "  306.358,1233.45 306.768,1232.31 307.179,1231.16 307.59,1230.02 308.001,1228.88 308.412,1227.74 308.823,1226.6 309.234,1225.46 309.645,1224.33 310.056,1223.19 \n",
       "  310.467,1222.06 310.878,1220.92 311.289,1219.79 311.7,1218.66 312.11,1217.53 312.521,1216.4 312.932,1215.27 313.343,1214.14 313.754,1213.02 314.165,1211.89 \n",
       "  314.576,1210.77 314.987,1209.65 315.398,1208.53 315.809,1207.41 316.22,1206.29 316.631,1205.17 317.042,1204.05 317.452,1202.94 317.863,1201.82 318.274,1200.71 \n",
       "  318.685,1199.6 319.096,1198.49 319.507,1197.38 319.918,1196.27 320.329,1195.16 320.74,1194.06 321.151,1192.95 321.562,1191.85 321.973,1190.74 322.384,1189.64 \n",
       "  322.794,1188.54 323.205,1187.44 323.616,1186.34 324.027,1185.24 324.438,1184.15 324.849,1183.05 325.26,1181.95 325.671,1180.86 326.082,1179.77 326.493,1178.68 \n",
       "  326.904,1177.59 327.315,1176.5 327.726,1175.41 328.136,1174.32 328.547,1173.24 328.958,1172.15 329.369,1171.07 329.78,1169.99 330.191,1168.91 330.602,1167.83 \n",
       "  331.013,1166.75 331.424,1165.67 331.835,1164.59 332.246,1163.51 332.657,1162.44 333.068,1161.37 333.478,1160.29 333.889,1159.22 334.3,1158.15 334.711,1157.08 \n",
       "  335.122,1156.01 335.533,1154.94 335.944,1153.88 336.355,1152.81 336.766,1151.75 337.177,1150.69 337.588,1149.62 337.999,1148.56 338.41,1147.5 338.82,1146.44 \n",
       "  339.231,1145.38 339.642,1144.33 340.053,1143.27 340.464,1142.22 340.875,1141.16 341.286,1140.11 341.697,1139.06 342.108,1138.01 342.519,1136.96 342.93,1135.91 \n",
       "  343.341,1134.86 343.752,1133.82 344.162,1132.77 344.573,1131.73 344.984,1130.68 345.395,1129.64 345.806,1128.6 346.217,1127.56 346.628,1126.52 347.039,1125.48 \n",
       "  347.45,1124.45 347.861,1123.41 348.272,1122.38 348.683,1121.34 349.094,1120.31 349.504,1119.28 349.915,1118.25 350.326,1117.22 350.737,1116.19 351.148,1115.16 \n",
       "  351.559,1114.13 351.97,1113.11 352.381,1112.08 352.792,1111.06 353.203,1110.04 353.614,1109.02 354.025,1108 354.436,1106.98 354.846,1105.96 355.257,1104.94 \n",
       "  355.668,1103.92 356.079,1102.91 356.49,1101.89 356.901,1100.88 357.312,1099.87 357.723,1098.86 358.134,1097.85 358.545,1096.84 358.956,1095.83 359.367,1094.82 \n",
       "  359.778,1093.81 360.188,1092.81 360.599,1091.8 361.01,1090.8 361.421,1089.8 361.832,1088.8 362.243,1087.8 362.654,1086.8 363.065,1085.8 363.476,1084.8 \n",
       "  363.887,1083.81 364.298,1082.81 364.709,1081.82 365.12,1080.82 365.53,1079.83 365.941,1078.84 366.352,1077.85 366.763,1076.86 367.174,1075.87 367.585,1074.88 \n",
       "  367.996,1073.9 368.407,1072.91 368.818,1071.93 369.229,1070.94 369.64,1069.96 370.051,1068.98 370.462,1068 370.872,1067.02 371.283,1066.04 371.694,1065.06 \n",
       "  372.105,1064.09 372.516,1063.11 372.927,1062.14 373.338,1061.16 373.749,1060.19 374.16,1059.22 374.571,1058.25 374.982,1057.28 375.393,1056.31 375.804,1055.34 \n",
       "  376.214,1054.37 376.625,1053.41 377.036,1052.44 377.447,1051.48 377.858,1050.52 378.269,1049.55 378.68,1048.59 379.091,1047.63 379.502,1046.67 379.913,1045.72 \n",
       "  380.324,1044.76 380.735,1043.8 381.146,1042.85 381.556,1041.89 381.967,1040.94 382.378,1039.99 382.789,1039.04 383.2,1038.08 383.611,1037.14 384.022,1036.19 \n",
       "  384.433,1035.24 384.844,1034.29 385.255,1033.35 385.666,1032.4 386.077,1031.46 386.488,1030.51 386.898,1029.57 387.309,1028.63 387.72,1027.69 388.131,1026.75 \n",
       "  388.542,1025.81 388.953,1024.88 389.364,1023.94 389.775,1023 390.186,1022.07 390.597,1021.14 391.008,1020.2 391.419,1019.27 391.83,1018.34 392.24,1017.41 \n",
       "  392.651,1016.48 393.062,1015.55 393.473,1014.63 393.884,1013.7 394.295,1012.78 394.706,1011.85 395.117,1010.93 395.528,1010.01 395.939,1009.08 396.35,1008.16 \n",
       "  396.761,1007.24 397.172,1006.32 397.582,1005.41 397.993,1004.49 398.404,1003.57 398.815,1002.66 399.226,1001.74 399.637,1000.83 400.048,999.918 400.459,999.007 \n",
       "  400.87,998.096 401.281,997.187 401.692,996.278 402.103,995.37 402.514,994.463 402.924,993.557 403.335,992.652 403.746,991.748 404.157,990.844 404.568,989.942 \n",
       "  404.979,989.04 405.39,988.14 405.801,987.24 406.212,986.341 406.623,985.443 407.034,984.546 407.445,983.65 407.856,982.755 408.267,981.861 408.677,980.967 \n",
       "  409.088,980.075 409.499,979.183 409.91,978.292 410.321,977.402 410.732,976.513 411.143,975.625 411.554,974.738 411.965,973.852 412.376,972.966 412.787,972.082 \n",
       "  413.198,971.198 413.609,970.315 414.019,969.433 414.43,968.552 414.841,967.672 415.252,966.793 415.663,965.915 416.074,965.037 416.485,964.161 416.896,963.285 \n",
       "  417.307,962.41 417.718,961.536 418.129,960.663 418.54,959.791 418.951,958.919 419.361,958.049 419.772,957.179 420.183,956.31 420.594,955.442 421.005,954.575 \n",
       "  421.416,953.709 421.827,952.844 422.238,951.979 422.649,951.116 423.06,950.253 423.471,949.391 423.882,948.53 424.293,947.67 424.703,946.811 425.114,945.953 \n",
       "  425.525,945.095 425.936,944.238 426.347,943.382 426.758,942.527 427.169,941.673 427.58,940.82 427.991,939.968 428.402,939.116 428.813,938.265 429.224,937.416 \n",
       "  429.635,936.566 430.045,935.718 430.456,934.871 430.867,934.025 431.278,933.179 431.689,932.334 432.1,931.49 432.511,930.647 432.922,929.805 433.333,928.963 \n",
       "  433.744,928.123 434.155,927.283 434.566,926.444 434.977,925.606 435.387,924.769 435.798,923.933 436.209,923.097 436.62,922.262 437.031,921.429 437.442,920.595 \n",
       "  437.853,919.763 438.264,918.932 438.675,918.101 439.086,917.272 439.497,916.443 439.908,915.615 440.319,914.787 440.729,913.961 441.14,913.136 441.551,912.311 \n",
       "  441.962,911.487 442.373,910.664 442.784,909.841 443.195,909.02 443.606,908.199 444.017,907.38 444.428,906.561 444.839,905.742 445.25,904.925 445.661,904.109 \n",
       "  446.071,903.293 446.482,902.478 446.893,901.664 447.304,900.851 447.715,900.038 448.126,899.226 448.537,898.416 448.948,897.606 449.359,896.796 449.77,895.988 \n",
       "  450.181,895.18 450.592,894.373 451.003,893.567 451.413,892.762 451.824,891.958 452.235,891.154 452.646,890.352 453.057,889.55 453.468,888.748 453.879,887.948 \n",
       "  454.29,887.148 454.701,886.35 455.112,885.552 455.523,884.755 455.934,883.958 456.345,883.163 456.755,882.368 457.166,881.574 457.577,880.781 457.988,879.988 \n",
       "  458.399,879.197 458.81,878.406 459.221,877.616 459.632,876.826 460.043,876.038 460.454,875.25 460.865,874.463 461.276,873.677 461.687,872.892 462.097,872.108 \n",
       "  462.508,871.324 462.919,870.541 463.33,869.759 463.741,868.977 464.152,868.197 464.563,867.417 464.974,866.638 465.385,865.859 465.796,865.082 466.207,864.305 \n",
       "  466.618,863.529 467.029,862.754 467.439,861.98 467.85,861.206 468.261,860.433 468.672,859.661 469.083,858.89 469.494,858.119 469.905,857.35 470.316,856.581 \n",
       "  470.727,855.812 471.138,855.045 471.549,854.278 471.96,853.512 472.371,852.747 472.781,851.983 473.192,851.219 473.603,850.456 474.014,849.694 474.425,848.933 \n",
       "  474.836,848.172 475.247,847.413 475.658,846.653 476.069,845.895 476.48,845.138 476.891,844.381 477.302,843.625 477.713,842.87 478.123,842.115 478.534,841.361 \n",
       "  478.945,840.608 479.356,839.856 479.767,839.105 480.178,838.354 480.589,837.604 481,836.855 481.411,836.106 481.822,835.358 482.233,834.611 482.644,833.865 \n",
       "  483.055,833.119 483.465,832.375 483.876,831.631 484.287,830.887 484.698,830.145 485.109,829.403 485.52,828.662 485.931,827.922 486.342,827.182 486.753,826.443 \n",
       "  487.164,825.705 487.575,824.968 487.986,824.231 488.397,823.495 488.807,822.76 489.218,822.026 489.629,821.292 490.04,820.559 490.451,819.827 490.862,819.095 \n",
       "  491.273,818.365 491.684,817.635 492.095,816.905 492.506,816.177 492.917,815.449 493.328,814.722 493.739,813.995 494.149,813.27 494.56,812.545 494.971,811.821 \n",
       "  495.382,811.097 495.793,810.374 496.204,809.652 496.615,808.931 497.026,808.21 497.437,807.491 497.848,806.771 498.259,806.053 498.67,805.335 499.081,804.618 \n",
       "  499.491,803.902 499.902,803.186 500.313,802.472 500.724,801.757 501.135,801.044 501.546,800.331 501.957,799.619 502.368,798.908 502.779,798.197 503.19,797.488 \n",
       "  503.601,796.778 504.012,796.07 504.423,795.362 504.833,794.655 505.244,793.949 505.655,793.243 506.066,792.538 506.477,791.834 506.888,791.131 507.299,790.428 \n",
       "  507.71,789.726 508.121,789.024 508.532,788.324 508.943,787.624 509.354,786.924 509.765,786.226 510.175,785.528 510.586,784.831 510.997,784.134 511.408,783.438 \n",
       "  511.819,782.743 512.23,782.049 512.641,781.355 513.052,780.662 513.463,779.97 513.874,779.278 514.285,778.587 514.696,777.897 515.107,777.207 515.518,776.518 \n",
       "  515.928,775.83 516.339,775.143 516.75,774.456 517.161,773.77 517.572,773.084 517.983,772.399 518.394,771.715 518.805,771.032 519.216,770.349 519.627,769.667 \n",
       "  520.038,768.986 520.449,768.305 520.86,767.625 521.27,766.946 521.681,766.267 522.092,765.589 522.503,764.912 522.914,764.235 523.325,763.56 523.736,762.884 \n",
       "  524.147,762.21 524.558,761.536 524.969,760.863 525.38,760.19 525.791,759.518 526.202,758.847 526.612,758.176 527.023,757.507 527.434,756.837 527.845,756.169 \n",
       "  528.256,755.501 528.667,754.834 529.078,754.167 529.489,753.501 529.9,752.836 530.311,752.172 530.722,751.508 531.133,750.845 531.544,750.182 531.954,749.52 \n",
       "  532.365,748.859 532.776,748.198 533.187,747.539 533.598,746.879 534.009,746.221 534.42,745.563 534.831,744.906 535.242,744.249 535.653,743.593 536.064,742.938 \n",
       "  536.475,742.283 536.886,741.629 537.296,740.976 537.707,740.323 538.118,739.671 538.529,739.02 538.94,738.369 539.351,737.719 539.762,737.07 540.173,736.421 \n",
       "  540.584,735.773 540.995,735.125 541.406,734.478 541.817,733.832 542.228,733.187 542.638,732.542 543.049,731.898 543.46,731.254 543.871,730.611 544.282,729.969 \n",
       "  544.693,729.327 545.104,728.686 545.515,728.046 545.926,727.406 546.337,726.767 546.748,726.128 547.159,725.49 547.57,724.853 547.98,724.217 548.391,723.581 \n",
       "  548.802,722.945 549.213,722.311 549.624,721.677 550.035,721.043 550.446,720.411 550.857,719.778 551.268,719.147 551.679,718.516 552.09,717.886 552.501,717.256 \n",
       "  552.912,716.627 553.322,715.999 553.733,715.371 554.144,714.744 554.555,714.118 554.966,713.492 555.377,712.867 555.788,712.242 556.199,711.618 556.61,710.995 \n",
       "  557.021,710.372 557.432,709.75 557.843,709.129 558.254,708.508 558.664,707.888 559.075,707.268 559.486,706.649 559.897,706.031 560.308,705.413 560.719,704.796 \n",
       "  561.13,704.179 561.541,703.563 561.952,702.948 562.363,702.333 562.774,701.719 563.185,701.106 563.596,700.493 564.006,699.881 564.417,699.269 564.828,698.658 \n",
       "  565.239,698.048 565.65,697.438 566.061,696.829 566.472,696.22 566.883,695.613 567.294,695.005 567.705,694.398 568.116,693.792 568.527,693.187 568.938,692.582 \n",
       "  569.348,691.978 569.759,691.374 570.17,690.771 570.581,690.168 570.992,689.566 571.403,688.965 571.814,688.364 572.225,687.764 572.636,687.165 573.047,686.566 \n",
       "  573.458,685.968 573.869,685.37 574.28,684.773 574.69,684.176 575.101,683.581 575.512,682.985 575.923,682.39 576.334,681.796 576.745,681.203 577.156,680.61 \n",
       "  577.567,680.018 577.978,679.426 578.389,678.835 578.8,678.244 579.211,677.654 579.622,677.065 580.032,676.476 580.443,675.888 580.854,675.3 581.265,674.713 \n",
       "  581.676,674.127 582.087,673.541 582.498,672.956 582.909,672.371 583.32,671.787 583.731,671.203 584.142,670.62 584.553,670.038 584.964,669.456 585.374,668.875 \n",
       "  585.785,668.294 586.196,667.714 586.607,667.135 587.018,666.556 587.429,665.978 587.84,665.4 588.251,664.823 588.662,664.246 589.073,663.67 589.484,663.095 \n",
       "  589.895,662.52 590.306,661.946 590.716,661.372 591.127,660.799 591.538,660.227 591.949,659.655 592.36,659.083 592.771,658.512 593.182,657.942 593.593,657.372 \n",
       "  594.004,656.803 594.415,656.235 594.826,655.667 595.237,655.099 595.648,654.533 596.058,653.966 596.469,653.401 596.88,652.835 597.291,652.271 597.702,651.707 \n",
       "  598.113,651.143 598.524,650.58 598.935,650.018 599.346,649.456 599.757,648.895 600.168,648.335 600.579,647.774 600.99,647.215 601.4,646.656 601.811,646.098 \n",
       "  602.222,645.54 602.633,644.982 603.044,644.426 603.455,643.87 603.866,643.314 604.277,642.759 604.688,642.204 605.099,641.65 605.51,641.097 605.921,640.544 \n",
       "  606.332,639.992 606.742,639.44 607.153,638.889 607.564,638.338 607.975,637.788 608.386,637.239 608.797,636.69 609.208,636.141 609.619,635.593 610.03,635.046 \n",
       "  610.441,634.499 610.852,633.953 611.263,633.407 611.674,632.862 612.084,632.318 612.495,631.773 612.906,631.23 613.317,630.687 613.728,630.145 614.139,629.603 \n",
       "  614.55,629.061 614.961,628.52 615.372,627.98 615.783,627.44 616.194,626.901 616.605,626.363 617.016,625.824 617.426,625.287 617.837,624.75 618.248,624.213 \n",
       "  618.659,623.677 619.07,623.142 619.481,622.607 619.892,622.073 620.303,621.539 620.714,621.006 621.125,620.473 621.536,619.941 621.947,619.409 622.358,618.878 \n",
       "  622.769,618.347 623.179,617.817 623.59,617.287 624.001,616.758 624.412,616.23 624.823,615.702 625.234,615.174 625.645,614.647 626.056,614.121 626.467,613.595 \n",
       "  626.878,613.07 627.289,612.545 627.7,612.021 628.111,611.497 628.521,610.974 628.932,610.451 629.343,609.929 629.754,609.407 630.165,608.886 630.576,608.365 \n",
       "  630.987,607.845 631.398,607.325 631.809,606.806 632.22,606.288 632.631,605.77 633.042,605.252 633.453,604.735 633.863,604.219 634.274,603.703 634.685,603.187 \n",
       "  635.096,602.672 635.507,602.158 635.918,601.644 636.329,601.13 636.74,600.618 637.151,600.105 637.562,599.593 637.973,599.082 638.384,598.571 638.795,598.061 \n",
       "  639.205,597.551 639.616,597.042 640.027,596.533 640.438,596.025 640.849,595.517 641.26,595.009 641.671,594.503 642.082,593.996 642.493,593.491 642.904,592.985 \n",
       "  643.315,592.481 643.726,591.976 644.137,591.473 644.547,590.969 644.958,590.467 645.369,589.964 645.78,589.463 646.191,588.961 646.602,588.461 647.013,587.96 \n",
       "  647.424,587.461 647.835,586.961 648.246,586.463 648.657,585.964 649.068,585.467 649.479,584.97 649.889,584.473 650.3,583.977 650.711,583.481 651.122,582.986 \n",
       "  651.533,582.491 651.944,581.996 652.355,581.503 652.766,581.009 653.177,580.517 653.588,580.024 653.999,579.533 654.41,579.041 654.821,578.55 655.231,578.06 \n",
       "  655.642,577.57 656.053,577.081 656.464,576.592 656.875,576.104 657.286,575.616 657.697,575.128 658.108,574.641 658.519,574.155 658.93,573.669 659.341,573.184 \n",
       "  659.752,572.699 660.163,572.214 660.573,571.73 660.984,571.247 661.395,570.764 661.806,570.281 662.217,569.799 662.628,569.317 663.039,568.836 663.45,568.356 \n",
       "  663.861,567.876 664.272,567.396 664.683,566.917 665.094,566.438 665.505,565.96 665.915,565.482 666.326,565.005 666.737,564.528 667.148,564.052 667.559,563.576 \n",
       "  667.97,563.101 668.381,562.626 668.792,562.151 669.203,561.677 669.614,561.204 670.025,560.731 670.436,560.258 670.847,559.786 671.257,559.315 671.668,558.844 \n",
       "  672.079,558.373 672.49,557.903 672.901,557.433 673.312,556.964 673.723,556.495 674.134,556.027 674.545,555.559 674.956,555.092 675.367,554.625 675.778,554.158 \n",
       "  676.189,553.692 676.599,553.227 677.01,552.762 677.421,552.297 677.832,551.833 678.243,551.37 678.654,550.907 679.065,550.444 679.476,549.982 679.887,549.52 \n",
       "  680.298,549.059 680.709,548.598 681.12,548.137 681.531,547.677 681.941,547.218 682.352,546.759 682.763,546.3 683.174,545.842 683.585,545.385 683.996,544.927 \n",
       "  684.407,544.471 684.818,544.014 685.229,543.559 685.64,543.103 686.051,542.648 686.462,542.194 686.873,541.74 687.283,541.286 687.694,540.833 688.105,540.381 \n",
       "  688.516,539.928 688.927,539.477 689.338,539.025 689.749,538.575 690.16,538.124 690.571,537.674 690.982,537.225 691.393,536.776 691.804,536.327 692.215,535.879 \n",
       "  692.625,535.431 693.036,534.984 693.447,534.537 693.858,534.091 694.269,533.645 694.68,533.2 695.091,532.755 695.502,532.31 695.913,531.866 696.324,531.422 \n",
       "  696.735,530.979 697.146,530.536 697.557,530.094 697.967,529.652 698.378,529.211 698.789,528.77 699.2,528.329 699.611,527.889 700.022,527.449 700.433,527.01 \n",
       "  700.844,526.571 701.255,526.133 701.666,525.695 702.077,525.257 702.488,524.82 702.899,524.384 703.309,523.948 703.72,523.512 704.131,523.076 704.542,522.642 \n",
       "  704.953,522.207 705.364,521.773 705.775,521.34 706.186,520.906 706.597,520.474 707.008,520.041 707.419,519.61 707.83,519.178 708.241,518.747 708.651,518.317 \n",
       "  709.062,517.886 709.473,517.457 709.884,517.028 710.295,516.599 710.706,516.17 711.117,515.742 711.528,515.315 711.939,514.888 712.35,514.461 712.761,514.035 \n",
       "  713.172,513.609 713.583,513.183 713.993,512.758 714.404,512.334 714.815,511.91 715.226,511.486 715.637,511.063 716.048,510.64 716.459,510.217 716.87,509.795 \n",
       "  717.281,509.374 717.692,508.953 718.103,508.532 718.514,508.111 718.925,507.691 719.335,507.272 719.746,506.853 720.157,506.434 720.568,506.016 720.979,505.598 \n",
       "  721.39,505.181 721.801,504.764 722.212,504.347 722.623,503.931 723.034,503.515 723.445,503.1 723.856,502.685 724.267,502.27 724.677,501.856 725.088,501.443 \n",
       "  725.499,501.029 725.91,500.617 726.321,500.204 726.732,499.792 727.143,499.381 727.554,498.969 727.965,498.559 728.376,498.148 728.787,497.738 729.198,497.329 \n",
       "  729.609,496.92 730.02,496.511 730.43,496.102 730.841,495.695 731.252,495.287 731.663,494.88 732.074,494.473 732.485,494.067 732.896,493.661 733.307,493.256 \n",
       "  733.718,492.85 734.129,492.446 734.54,492.042 734.951,491.638 735.362,491.234 735.772,490.831 736.183,490.429 736.594,490.026 737.005,489.624 737.416,489.223 \n",
       "  737.827,488.822 738.238,488.421 738.649,488.021 739.06,487.621 739.471,487.222 739.882,486.823 740.293,486.424 740.704,486.026 741.114,485.628 741.525,485.23 \n",
       "  741.936,484.833 742.347,484.437 742.758,484.041 743.169,483.645 743.58,483.249 743.991,482.854 744.402,482.459 744.813,482.065 745.224,481.671 745.635,481.278 \n",
       "  746.046,480.885 746.456,480.492 746.867,480.1 747.278,479.708 747.689,479.316 748.1,478.925 748.511,478.534 748.922,478.144 749.333,477.754 749.744,477.364 \n",
       "  750.155,476.975 750.566,476.586 750.977,476.198 751.388,475.81 751.798,475.422 752.209,475.035 752.62,474.648 753.031,474.262 753.442,473.876 753.853,473.49 \n",
       "  754.264,473.105 754.675,472.72 755.086,472.335 755.497,471.951 755.908,471.567 756.319,471.184 756.73,470.801 757.14,470.418 757.551,470.036 757.962,469.654 \n",
       "  758.373,469.272 758.784,468.891 759.195,468.511 759.606,468.13 760.017,467.75 760.428,467.371 760.839,466.992 761.25,466.613 761.661,466.234 762.072,465.856 \n",
       "  762.482,465.478 762.893,465.101 763.304,464.724 763.715,464.348 764.126,463.971 764.537,463.596 764.948,463.22 765.359,462.845 765.77,462.471 766.181,462.096 \n",
       "  766.592,461.722 767.003,461.349 767.414,460.976 767.824,460.603 768.235,460.23 768.646,459.858 769.057,459.487 769.468,459.115 769.879,458.744 770.29,458.374 \n",
       "  770.701,458.003 771.112,457.634 771.523,457.264 771.934,456.895 772.345,456.526 772.756,456.158 773.166,455.79 773.577,455.422 773.988,455.055 774.399,454.688 \n",
       "  774.81,454.322 775.221,453.955 775.632,453.59 776.043,453.224 776.454,452.859 776.865,452.494 777.276,452.13 777.687,451.766 778.098,451.403 778.508,451.039 \n",
       "  778.919,450.676 779.33,450.314 779.741,449.952 780.152,449.59 780.563,449.229 780.974,448.867 781.385,448.507 781.796,448.146 782.207,447.786 782.618,447.427 \n",
       "  783.029,447.067 783.44,446.709 783.85,446.35 784.261,445.992 784.672,445.634 785.083,445.277 785.494,444.919 785.905,444.563 786.316,444.206 786.727,443.85 \n",
       "  787.138,443.494 787.549,443.139 787.96,442.784 788.371,442.43 788.782,442.075 789.192,441.721 789.603,441.368 790.014,441.015 790.425,440.662 790.836,440.309 \n",
       "  791.247,439.957 791.658,439.605 792.069,439.254 792.48,438.903 792.891,438.552 793.302,438.201 793.713,437.851 794.124,437.502 794.534,437.152 794.945,436.803 \n",
       "  795.356,436.455 795.767,436.106 796.178,435.758 796.589,435.411 797,435.064 797.411,434.717 797.822,434.37 798.233,434.024 798.644,433.678 799.055,433.332 \n",
       "  799.466,432.987 799.876,432.642 800.287,432.298 800.698,431.954 801.109,431.61 801.52,431.267 801.931,430.923 802.342,430.581 802.753,430.238 803.164,429.896 \n",
       "  803.575,429.554 803.986,429.213 804.397,428.872 804.808,428.531 805.218,428.191 805.629,427.851 806.04,427.511 806.451,427.172 806.862,426.833 807.273,426.494 \n",
       "  807.684,426.156 808.095,425.818 808.506,425.48 808.917,425.143 809.328,424.806 809.739,424.469 810.15,424.133 810.56,423.797 810.971,423.461 811.382,423.126 \n",
       "  811.793,422.791 812.204,422.456 812.615,422.122 813.026,421.788 813.437,421.454 813.848,421.121 814.259,420.788 814.67,420.455 815.081,420.123 815.492,419.791 \n",
       "  815.902,419.459 816.313,419.128 816.724,418.797 817.135,418.466 817.546,418.136 817.957,417.806 818.368,417.476 818.779,417.147 819.19,416.818 819.601,416.489 \n",
       "  820.012,416.161 820.423,415.833 820.834,415.505 821.244,415.178 821.655,414.851 822.066,414.524 822.477,414.198 822.888,413.872 823.299,413.546 823.71,413.221 \n",
       "  824.121,412.895 824.532,412.571 824.943,412.246 825.354,411.922 825.765,411.598 826.176,411.275 826.586,410.952 826.997,410.629 827.408,410.306 827.819,409.984 \n",
       "  828.23,409.662 828.641,409.341 829.052,409.02 829.463,408.699 829.874,408.378 830.285,408.058 830.696,407.738 831.107,407.418 831.518,407.099 831.928,406.78 \n",
       "  832.339,406.462 832.75,406.143 833.161,405.825 833.572,405.508 833.983,405.19 834.394,404.873 834.805,404.556 835.216,404.24 835.627,403.924 836.038,403.608 \n",
       "  836.449,403.293 836.86,402.977 837.271,402.663 837.681,402.348 838.092,402.034 838.503,401.72 838.914,401.406 839.325,401.093 839.736,400.78 840.147,400.468 \n",
       "  840.558,400.155 840.969,399.843 841.38,399.531 841.791,399.22 842.202,398.909 842.613,398.598 843.023,398.288 843.434,397.978 843.845,397.668 844.256,397.358 \n",
       "  844.667,397.049 845.078,396.74 845.489,396.431 845.9,396.123 846.311,395.815 846.722,395.507 847.133,395.2 847.544,394.893 847.955,394.586 848.365,394.28 \n",
       "  848.776,393.974 849.187,393.668 849.598,393.362 850.009,393.057 850.42,392.752 850.831,392.447 851.242,392.143 851.653,391.839 852.064,391.535 852.475,391.232 \n",
       "  852.886,390.929 853.297,390.626 853.707,390.324 854.118,390.021 854.529,389.719 854.94,389.418 855.351,389.117 855.762,388.816 856.173,388.515 856.584,388.215 \n",
       "  856.995,387.914 857.406,387.615 857.817,387.315 858.228,387.016 858.639,386.717 859.049,386.419 859.46,386.12 859.871,385.822 860.282,385.525 860.693,385.227 \n",
       "  861.104,384.93 861.515,384.633 861.926,384.337 862.337,384.041 862.748,383.745 863.159,383.449 863.57,383.154 863.981,382.859 864.391,382.564 864.802,382.269 \n",
       "  865.213,381.975 865.624,381.681 866.035,381.388 866.446,381.095 866.857,380.802 867.268,380.509 867.679,380.217 868.09,379.924 868.501,379.633 868.912,379.341 \n",
       "  869.323,379.05 869.733,378.759 870.144,378.468 870.555,378.178 870.966,377.888 871.377,377.598 871.788,377.309 872.199,377.02 872.61,376.731 873.021,376.442 \n",
       "  873.432,376.154 873.843,375.866 874.254,375.578 874.665,375.29 875.075,375.003 875.486,374.716 875.897,374.43 876.308,374.144 876.719,373.857 877.13,373.572 \n",
       "  877.541,373.286 877.952,373.001 878.363,372.716 878.774,372.432 879.185,372.147 879.596,371.863 880.007,371.58 880.417,371.296 880.828,371.013 881.239,370.73 \n",
       "  881.65,370.447 882.061,370.165 882.472,369.883 882.883,369.601 883.294,369.32 883.705,369.039 884.116,368.758 884.527,368.477 884.938,368.197 885.349,367.917 \n",
       "  885.759,367.637 886.17,367.357 886.581,367.078 886.992,366.799 887.403,366.52 887.814,366.242 888.225,365.964 888.636,365.686 889.047,365.408 889.458,365.131 \n",
       "  889.869,364.854 890.28,364.577 890.691,364.301 891.101,364.025 891.512,363.749 891.923,363.473 892.334,363.198 892.745,362.923 893.156,362.648 893.567,362.373 \n",
       "  893.978,362.099 894.389,361.825 894.8,361.551 895.211,361.278 895.622,361.005 896.033,360.732 896.443,360.459 896.854,360.187 897.265,359.915 897.676,359.643 \n",
       "  898.087,359.372 898.498,359.1 898.909,358.829 899.32,358.559 899.731,358.288 900.142,358.018 900.553,357.748 900.964,357.478 901.375,357.209 901.785,356.94 \n",
       "  902.196,356.671 902.607,356.403 903.018,356.134 903.429,355.866 903.84,355.599 904.251,355.331 904.662,355.064 905.073,354.797 905.484,354.53 905.895,354.264 \n",
       "  906.306,353.998 906.717,353.732 907.127,353.466 907.538,353.201 907.949,352.936 908.36,352.671 908.771,352.406 909.182,352.142 909.593,351.878 910.004,351.614 \n",
       "  910.415,351.351 910.826,351.087 911.237,350.824 911.648,350.562 912.059,350.299 912.469,350.037 912.88,349.775 913.291,349.513 913.702,349.252 914.113,348.991 \n",
       "  914.524,348.73 914.935,348.469 915.346,348.209 915.757,347.949 916.168,347.689 916.579,347.429 916.99,347.17 917.401,346.911 917.811,346.652 918.222,346.394 \n",
       "  918.633,346.135 919.044,345.877 919.455,345.62 919.866,345.362 920.277,345.105 920.688,344.848 921.099,344.591 921.51,344.335 921.921,344.078 922.332,343.822 \n",
       "  922.743,343.567 923.153,343.311 923.564,343.056 923.975,342.801 924.386,342.546 924.797,342.292 925.208,342.038 925.619,341.784 926.03,341.53 926.441,341.277 \n",
       "  926.852,341.024 927.263,340.771 927.674,340.518 928.085,340.266 928.495,340.013 928.906,339.761 929.317,339.51 929.728,339.258 930.139,339.007 930.55,338.756 \n",
       "  930.961,338.506 931.372,338.255 931.783,338.005 932.194,337.755 932.605,337.506 933.016,337.256 933.427,337.007 933.837,336.758 934.248,336.509 934.659,336.261 \n",
       "  935.07,336.013 935.481,335.765 935.892,335.517 936.303,335.27 936.714,335.023 937.125,334.776 937.536,334.529 937.947,334.283 938.358,334.037 938.769,333.791 \n",
       "  939.18,333.545 939.59,333.299 940.001,333.054 940.412,332.809 940.823,332.565 941.234,332.32 941.645,332.076 942.056,331.832 942.467,331.588 942.878,331.345 \n",
       "  943.289,331.101 943.7,330.858 944.111,330.616 944.522,330.373 944.932,330.131 945.343,329.889 945.754,329.647 946.165,329.406 946.576,329.164 946.987,328.923 \n",
       "  947.398,328.682 947.809,328.442 948.22,328.201 948.631,327.961 949.042,327.721 949.453,327.482 949.864,327.242 950.274,327.003 950.685,326.764 951.096,326.526 \n",
       "  951.507,326.287 951.918,326.049 952.329,325.811 952.74,325.573 953.151,325.336 953.562,325.099 953.973,324.862 954.384,324.625 954.795,324.388 955.206,324.152 \n",
       "  955.616,323.916 956.027,323.68 956.438,323.445 956.849,323.209 957.26,322.974 957.671,322.739 958.082,322.505 958.493,322.27 958.904,322.036 959.315,321.802 \n",
       "  959.726,321.568 960.137,321.335 960.548,321.102 960.958,320.869 961.369,320.636 961.78,320.403 962.191,320.171 962.602,319.939 963.013,319.707 963.424,319.475 \n",
       "  963.835,319.244 964.246,319.013 964.657,318.782 965.068,318.551 965.479,318.321 965.89,318.091 966.3,317.861 966.711,317.631 967.122,317.401 967.533,317.172 \n",
       "  967.944,316.943 968.355,316.714 968.766,316.485 969.177,316.257 969.588,316.029 969.999,315.801 970.41,315.573 970.821,315.346 971.232,315.119 971.642,314.891 \n",
       "  972.053,314.665 972.464,314.438 972.875,314.212 973.286,313.986 973.697,313.76 974.108,313.534 974.519,313.309 974.93,313.083 975.341,312.858 975.752,312.634 \n",
       "  976.163,312.409 976.574,312.185 976.984,311.961 977.395,311.737 977.806,311.513 978.217,311.29 978.628,311.067 979.039,310.844 979.45,310.621 979.861,310.398 \n",
       "  980.272,310.176 980.683,309.954 981.094,309.732 981.505,309.51 981.916,309.289 982.326,309.068 982.737,308.847 983.148,308.626 983.559,308.405 983.97,308.185 \n",
       "  984.381,307.965 984.792,307.745 985.203,307.525 985.614,307.306 986.025,307.087 986.436,306.868 986.847,306.649 987.258,306.43 987.668,306.212 988.079,305.994 \n",
       "  988.49,305.776 988.901,305.558 989.312,305.341 989.723,305.124 990.134,304.907 990.545,304.69 990.956,304.473 991.367,304.257 991.778,304.041 992.189,303.825 \n",
       "  992.6,303.609 993.01,303.393 993.421,303.178 993.832,302.963 994.243,302.748 994.654,302.533 995.065,302.319 995.476,302.105 995.887,301.891 996.298,301.677 \n",
       "  996.709,301.463 997.12,301.25 997.531,301.037 997.942,300.824 998.352,300.611 998.763,300.399 999.174,300.186 999.585,299.974 999.996,299.762 1000.41,299.551 \n",
       "  1000.82,299.339 1001.23,299.128 1001.64,298.917 1002.05,298.706 1002.46,298.495 1002.87,298.285 1003.28,298.075 1003.69,297.865 1004.11,297.655 1004.52,297.445 \n",
       "  1004.93,297.236 1005.34,297.027 1005.75,296.818 1006.16,296.609 1006.57,296.401 1006.98,296.192 1007.39,295.984 1007.8,295.776 1008.21,295.569 1008.63,295.361 \n",
       "  1009.04,295.154 1009.45,294.947 1009.86,294.74 1010.27,294.533 1010.68,294.327 1011.09,294.121 1011.5,293.915 1011.91,293.709 1012.32,293.503 1012.73,293.298 \n",
       "  1013.15,293.092 1013.56,292.887 1013.97,292.683 1014.38,292.478 1014.79,292.274 1015.2,292.069 1015.61,291.865 1016.02,291.662 1016.43,291.458 1016.84,291.255 \n",
       "  1017.25,291.051 1017.67,290.849 1018.08,290.646 1018.49,290.443 1018.9,290.241 1019.31,290.039 1019.72,289.837 1020.13,289.635 1020.54,289.433 1020.95,289.232 \n",
       "  1021.36,289.031 1021.78,288.83 1022.19,288.629 1022.6,288.429 1023.01,288.228 1023.42,288.028 1023.83,287.828 1024.24,287.628 1024.65,287.429 1025.06,287.229 \n",
       "  1025.47,287.03 1025.88,286.831 1026.3,286.633 1026.71,286.434 1027.12,286.236 1027.53,286.038 1027.94,285.84 1028.35,285.642 1028.76,285.444 1029.17,285.247 \n",
       "  1029.58,285.05 1029.99,284.853 1030.4,284.656 1030.82,284.459 1031.23,284.263 1031.64,284.067 1032.05,283.871 1032.46,283.675 1032.87,283.479 1033.28,283.284 \n",
       "  1033.69,283.089 1034.1,282.894 1034.51,282.699 1034.92,282.504 1035.34,282.31 1035.75,282.116 1036.16,281.922 1036.57,281.728 1036.98,281.534 1037.39,281.341 \n",
       "  1037.8,281.147 1038.21,280.954 1038.62,280.761 1039.03,280.569 1039.44,280.376 1039.86,280.184 1040.27,279.992 1040.68,279.8 1041.09,279.608 1041.5,279.417 \n",
       "  1041.91,279.225 1042.32,279.034 1042.73,278.843 1043.14,278.652 1043.55,278.462 1043.96,278.271 1044.38,278.081 1044.79,277.891 1045.2,277.701 1045.61,277.512 \n",
       "  1046.02,277.322 1046.43,277.133 1046.84,276.944 1047.25,276.755 1047.66,276.566 1048.07,276.378 1048.49,276.19 1048.9,276.002 1049.31,275.814 1049.72,275.626 \n",
       "  1050.13,275.438 1050.54,275.251 1050.95,275.064 1051.36,274.877 1051.77,274.69 1052.18,274.503 1052.59,274.317 1053.01,274.131 1053.42,273.945 1053.83,273.759 \n",
       "  1054.24,273.573 1054.65,273.388 1055.06,273.202 1055.47,273.017 1055.88,272.832 1056.29,272.647 1056.7,272.463 1057.11,272.278 1057.53,272.094 1057.94,271.91 \n",
       "  1058.35,271.726 \n",
       "  \"/>\n",
       "<polyline clip-path=\"url(#clip002)\" style=\"stroke:#c271d2; stroke-width:4; stroke-opacity:1; fill:none\" points=\"\n",
       "  236.501,1445.72 277.593,1445.72 277.593,766.846 318.685,766.846 318.685,427.411 359.778,427.411 359.778,257.694 400.87,257.694 400.87,172.835 441.962,172.835 \n",
       "  441.962,130.406 483.055,130.406 483.055,109.191 524.147,109.191 524.147,98.5836 565.239,98.5836 565.239,93.2799 606.332,93.2799 606.332,90.6281 647.424,90.6281 \n",
       "  647.424,89.3022 688.516,89.3022 688.516,88.6392 729.609,88.6392 729.609,88.3078 770.701,88.3078 770.701,88.142 811.793,88.142 811.793,88.0591 852.886,88.0591 \n",
       "  852.886,88.0177 893.978,88.0177 893.978,87.997 935.07,87.997 935.07,87.9866 976.163,87.9866 976.163,87.9815 1017.25,87.9815 1017.25,87.9789 1058.35,87.9789 \n",
       "  1058.35,87.9776 1099.44,87.9776 1099.44,87.9769 1140.53,87.9769 1140.53,87.9766 1181.62,87.9766 1181.62,87.9764 1222.72,87.9764 1222.72,87.9764 1263.81,87.9764 \n",
       "  1263.81,87.9763 1304.9,87.9763 1304.9,87.9763 1345.99,87.9763 1345.99,87.9763 1387.09,87.9763 1387.09,87.9763 1428.18,87.9763 1428.18,87.9763 1469.27,87.9763 \n",
       "  1469.27,87.9763 1510.36,87.9763 1510.36,87.9763 1551.46,87.9763 1551.46,87.9763 1592.55,87.9763 1592.55,87.9763 1633.64,87.9763 1633.64,87.9763 1674.73,87.9763 \n",
       "  1674.73,87.9763 1715.82,87.9763 1715.82,87.9763 1756.92,87.9763 1756.92,87.9763 1798.01,87.9763 1798.01,87.9763 1839.1,87.9763 1839.1,87.9763 1880.19,87.9763 \n",
       "  1880.19,87.9763 1921.29,87.9763 1921.29,87.9763 1962.38,87.9763 1962.38,87.9763 2003.47,87.9763 2003.47,87.9763 2044.56,87.9763 2044.56,87.9763 2085.66,87.9763 \n",
       "  2085.66,87.9763 2126.75,87.9763 2126.75,87.9763 2167.84,87.9763 2167.84,87.9763 2208.93,87.9763 2208.93,87.9763 2250.03,87.9763 2250.03,87.9763 2291.12,87.9763 \n",
       "  2291.12,87.9763 \n",
       "  \"/>\n",
       "<circle clip-path=\"url(#clip002)\" cx=\"277.593\" cy=\"766.846\" r=\"14\" fill=\"#ac8d18\" fill-rule=\"evenodd\" fill-opacity=\"1\" stroke=\"#000000\" stroke-opacity=\"1\" stroke-width=\"3.2\"/>\n",
       "<circle clip-path=\"url(#clip002)\" cx=\"318.685\" cy=\"427.411\" r=\"14\" fill=\"#ac8d18\" fill-rule=\"evenodd\" fill-opacity=\"1\" stroke=\"#000000\" stroke-opacity=\"1\" stroke-width=\"3.2\"/>\n",
       "<circle clip-path=\"url(#clip002)\" cx=\"359.778\" cy=\"257.694\" r=\"14\" fill=\"#ac8d18\" fill-rule=\"evenodd\" fill-opacity=\"1\" stroke=\"#000000\" stroke-opacity=\"1\" stroke-width=\"3.2\"/>\n",
       "<circle clip-path=\"url(#clip002)\" cx=\"400.87\" cy=\"172.835\" r=\"14\" fill=\"#ac8d18\" fill-rule=\"evenodd\" fill-opacity=\"1\" stroke=\"#000000\" stroke-opacity=\"1\" stroke-width=\"3.2\"/>\n",
       "<circle clip-path=\"url(#clip002)\" cx=\"441.962\" cy=\"130.406\" r=\"14\" fill=\"#ac8d18\" fill-rule=\"evenodd\" fill-opacity=\"1\" stroke=\"#000000\" stroke-opacity=\"1\" stroke-width=\"3.2\"/>\n",
       "<circle clip-path=\"url(#clip002)\" cx=\"483.055\" cy=\"109.191\" r=\"14\" fill=\"#ac8d18\" fill-rule=\"evenodd\" fill-opacity=\"1\" stroke=\"#000000\" stroke-opacity=\"1\" stroke-width=\"3.2\"/>\n",
       "<circle clip-path=\"url(#clip002)\" cx=\"524.147\" cy=\"98.5836\" r=\"14\" fill=\"#ac8d18\" fill-rule=\"evenodd\" fill-opacity=\"1\" stroke=\"#000000\" stroke-opacity=\"1\" stroke-width=\"3.2\"/>\n",
       "<circle clip-path=\"url(#clip002)\" cx=\"565.239\" cy=\"93.2799\" r=\"14\" fill=\"#ac8d18\" fill-rule=\"evenodd\" fill-opacity=\"1\" stroke=\"#000000\" stroke-opacity=\"1\" stroke-width=\"3.2\"/>\n",
       "<circle clip-path=\"url(#clip002)\" cx=\"606.332\" cy=\"90.6281\" r=\"14\" fill=\"#ac8d18\" fill-rule=\"evenodd\" fill-opacity=\"1\" stroke=\"#000000\" stroke-opacity=\"1\" stroke-width=\"3.2\"/>\n",
       "<circle clip-path=\"url(#clip002)\" cx=\"647.424\" cy=\"89.3022\" r=\"14\" fill=\"#ac8d18\" fill-rule=\"evenodd\" fill-opacity=\"1\" stroke=\"#000000\" stroke-opacity=\"1\" stroke-width=\"3.2\"/>\n",
       "<circle clip-path=\"url(#clip002)\" cx=\"688.516\" cy=\"88.6392\" r=\"14\" fill=\"#ac8d18\" fill-rule=\"evenodd\" fill-opacity=\"1\" stroke=\"#000000\" stroke-opacity=\"1\" stroke-width=\"3.2\"/>\n",
       "<circle clip-path=\"url(#clip002)\" cx=\"729.609\" cy=\"88.3078\" r=\"14\" fill=\"#ac8d18\" fill-rule=\"evenodd\" fill-opacity=\"1\" stroke=\"#000000\" stroke-opacity=\"1\" stroke-width=\"3.2\"/>\n",
       "<circle clip-path=\"url(#clip002)\" cx=\"770.701\" cy=\"88.142\" r=\"14\" fill=\"#ac8d18\" fill-rule=\"evenodd\" fill-opacity=\"1\" stroke=\"#000000\" stroke-opacity=\"1\" stroke-width=\"3.2\"/>\n",
       "<circle clip-path=\"url(#clip002)\" cx=\"811.793\" cy=\"88.0591\" r=\"14\" fill=\"#ac8d18\" fill-rule=\"evenodd\" fill-opacity=\"1\" stroke=\"#000000\" stroke-opacity=\"1\" stroke-width=\"3.2\"/>\n",
       "<circle clip-path=\"url(#clip002)\" cx=\"852.886\" cy=\"88.0177\" r=\"14\" fill=\"#ac8d18\" fill-rule=\"evenodd\" fill-opacity=\"1\" stroke=\"#000000\" stroke-opacity=\"1\" stroke-width=\"3.2\"/>\n",
       "<circle clip-path=\"url(#clip002)\" cx=\"893.978\" cy=\"87.997\" r=\"14\" fill=\"#ac8d18\" fill-rule=\"evenodd\" fill-opacity=\"1\" stroke=\"#000000\" stroke-opacity=\"1\" stroke-width=\"3.2\"/>\n",
       "<circle clip-path=\"url(#clip002)\" cx=\"935.07\" cy=\"87.9866\" r=\"14\" fill=\"#ac8d18\" fill-rule=\"evenodd\" fill-opacity=\"1\" stroke=\"#000000\" stroke-opacity=\"1\" stroke-width=\"3.2\"/>\n",
       "<circle clip-path=\"url(#clip002)\" cx=\"976.163\" cy=\"87.9815\" r=\"14\" fill=\"#ac8d18\" fill-rule=\"evenodd\" fill-opacity=\"1\" stroke=\"#000000\" stroke-opacity=\"1\" stroke-width=\"3.2\"/>\n",
       "<circle clip-path=\"url(#clip002)\" cx=\"1017.25\" cy=\"87.9789\" r=\"14\" fill=\"#ac8d18\" fill-rule=\"evenodd\" fill-opacity=\"1\" stroke=\"#000000\" stroke-opacity=\"1\" stroke-width=\"3.2\"/>\n",
       "<circle clip-path=\"url(#clip002)\" cx=\"1058.35\" cy=\"87.9776\" r=\"14\" fill=\"#ac8d18\" fill-rule=\"evenodd\" fill-opacity=\"1\" stroke=\"#000000\" stroke-opacity=\"1\" stroke-width=\"3.2\"/>\n",
       "<circle clip-path=\"url(#clip002)\" cx=\"1099.44\" cy=\"87.9769\" r=\"14\" fill=\"#ac8d18\" fill-rule=\"evenodd\" fill-opacity=\"1\" stroke=\"#000000\" stroke-opacity=\"1\" stroke-width=\"3.2\"/>\n",
       "<circle clip-path=\"url(#clip002)\" cx=\"1140.53\" cy=\"87.9766\" r=\"14\" fill=\"#ac8d18\" fill-rule=\"evenodd\" fill-opacity=\"1\" stroke=\"#000000\" stroke-opacity=\"1\" stroke-width=\"3.2\"/>\n",
       "<circle clip-path=\"url(#clip002)\" cx=\"1181.62\" cy=\"87.9764\" r=\"14\" fill=\"#ac8d18\" fill-rule=\"evenodd\" fill-opacity=\"1\" stroke=\"#000000\" stroke-opacity=\"1\" stroke-width=\"3.2\"/>\n",
       "<circle clip-path=\"url(#clip002)\" cx=\"1222.72\" cy=\"87.9764\" r=\"14\" fill=\"#ac8d18\" fill-rule=\"evenodd\" fill-opacity=\"1\" stroke=\"#000000\" stroke-opacity=\"1\" stroke-width=\"3.2\"/>\n",
       "<circle clip-path=\"url(#clip002)\" cx=\"1263.81\" cy=\"87.9763\" r=\"14\" fill=\"#ac8d18\" fill-rule=\"evenodd\" fill-opacity=\"1\" stroke=\"#000000\" stroke-opacity=\"1\" stroke-width=\"3.2\"/>\n",
       "<circle clip-path=\"url(#clip002)\" cx=\"1304.9\" cy=\"87.9763\" r=\"14\" fill=\"#ac8d18\" fill-rule=\"evenodd\" fill-opacity=\"1\" stroke=\"#000000\" stroke-opacity=\"1\" stroke-width=\"3.2\"/>\n",
       "<circle clip-path=\"url(#clip002)\" cx=\"1345.99\" cy=\"87.9763\" r=\"14\" fill=\"#ac8d18\" fill-rule=\"evenodd\" fill-opacity=\"1\" stroke=\"#000000\" stroke-opacity=\"1\" stroke-width=\"3.2\"/>\n",
       "<circle clip-path=\"url(#clip002)\" cx=\"1387.09\" cy=\"87.9763\" r=\"14\" fill=\"#ac8d18\" fill-rule=\"evenodd\" fill-opacity=\"1\" stroke=\"#000000\" stroke-opacity=\"1\" stroke-width=\"3.2\"/>\n",
       "<circle clip-path=\"url(#clip002)\" cx=\"1428.18\" cy=\"87.9763\" r=\"14\" fill=\"#ac8d18\" fill-rule=\"evenodd\" fill-opacity=\"1\" stroke=\"#000000\" stroke-opacity=\"1\" stroke-width=\"3.2\"/>\n",
       "<circle clip-path=\"url(#clip002)\" cx=\"1469.27\" cy=\"87.9763\" r=\"14\" fill=\"#ac8d18\" fill-rule=\"evenodd\" fill-opacity=\"1\" stroke=\"#000000\" stroke-opacity=\"1\" stroke-width=\"3.2\"/>\n",
       "<circle clip-path=\"url(#clip002)\" cx=\"1510.36\" cy=\"87.9763\" r=\"14\" fill=\"#ac8d18\" fill-rule=\"evenodd\" fill-opacity=\"1\" stroke=\"#000000\" stroke-opacity=\"1\" stroke-width=\"3.2\"/>\n",
       "<circle clip-path=\"url(#clip002)\" cx=\"1551.46\" cy=\"87.9763\" r=\"14\" fill=\"#ac8d18\" fill-rule=\"evenodd\" fill-opacity=\"1\" stroke=\"#000000\" stroke-opacity=\"1\" stroke-width=\"3.2\"/>\n",
       "<circle clip-path=\"url(#clip002)\" cx=\"1592.55\" cy=\"87.9763\" r=\"14\" fill=\"#ac8d18\" fill-rule=\"evenodd\" fill-opacity=\"1\" stroke=\"#000000\" stroke-opacity=\"1\" stroke-width=\"3.2\"/>\n",
       "<circle clip-path=\"url(#clip002)\" cx=\"1633.64\" cy=\"87.9763\" r=\"14\" fill=\"#ac8d18\" fill-rule=\"evenodd\" fill-opacity=\"1\" stroke=\"#000000\" stroke-opacity=\"1\" stroke-width=\"3.2\"/>\n",
       "<circle clip-path=\"url(#clip002)\" cx=\"1674.73\" cy=\"87.9763\" r=\"14\" fill=\"#ac8d18\" fill-rule=\"evenodd\" fill-opacity=\"1\" stroke=\"#000000\" stroke-opacity=\"1\" stroke-width=\"3.2\"/>\n",
       "<circle clip-path=\"url(#clip002)\" cx=\"1715.82\" cy=\"87.9763\" r=\"14\" fill=\"#ac8d18\" fill-rule=\"evenodd\" fill-opacity=\"1\" stroke=\"#000000\" stroke-opacity=\"1\" stroke-width=\"3.2\"/>\n",
       "<circle clip-path=\"url(#clip002)\" cx=\"1756.92\" cy=\"87.9763\" r=\"14\" fill=\"#ac8d18\" fill-rule=\"evenodd\" fill-opacity=\"1\" stroke=\"#000000\" stroke-opacity=\"1\" stroke-width=\"3.2\"/>\n",
       "<circle clip-path=\"url(#clip002)\" cx=\"1798.01\" cy=\"87.9763\" r=\"14\" fill=\"#ac8d18\" fill-rule=\"evenodd\" fill-opacity=\"1\" stroke=\"#000000\" stroke-opacity=\"1\" stroke-width=\"3.2\"/>\n",
       "<circle clip-path=\"url(#clip002)\" cx=\"1839.1\" cy=\"87.9763\" r=\"14\" fill=\"#ac8d18\" fill-rule=\"evenodd\" fill-opacity=\"1\" stroke=\"#000000\" stroke-opacity=\"1\" stroke-width=\"3.2\"/>\n",
       "<circle clip-path=\"url(#clip002)\" cx=\"1880.19\" cy=\"87.9763\" r=\"14\" fill=\"#ac8d18\" fill-rule=\"evenodd\" fill-opacity=\"1\" stroke=\"#000000\" stroke-opacity=\"1\" stroke-width=\"3.2\"/>\n",
       "<circle clip-path=\"url(#clip002)\" cx=\"1921.29\" cy=\"87.9763\" r=\"14\" fill=\"#ac8d18\" fill-rule=\"evenodd\" fill-opacity=\"1\" stroke=\"#000000\" stroke-opacity=\"1\" stroke-width=\"3.2\"/>\n",
       "<circle clip-path=\"url(#clip002)\" cx=\"1962.38\" cy=\"87.9763\" r=\"14\" fill=\"#ac8d18\" fill-rule=\"evenodd\" fill-opacity=\"1\" stroke=\"#000000\" stroke-opacity=\"1\" stroke-width=\"3.2\"/>\n",
       "<circle clip-path=\"url(#clip002)\" cx=\"2003.47\" cy=\"87.9763\" r=\"14\" fill=\"#ac8d18\" fill-rule=\"evenodd\" fill-opacity=\"1\" stroke=\"#000000\" stroke-opacity=\"1\" stroke-width=\"3.2\"/>\n",
       "<circle clip-path=\"url(#clip002)\" cx=\"2044.56\" cy=\"87.9763\" r=\"14\" fill=\"#ac8d18\" fill-rule=\"evenodd\" fill-opacity=\"1\" stroke=\"#000000\" stroke-opacity=\"1\" stroke-width=\"3.2\"/>\n",
       "<circle clip-path=\"url(#clip002)\" cx=\"2085.66\" cy=\"87.9763\" r=\"14\" fill=\"#ac8d18\" fill-rule=\"evenodd\" fill-opacity=\"1\" stroke=\"#000000\" stroke-opacity=\"1\" stroke-width=\"3.2\"/>\n",
       "<circle clip-path=\"url(#clip002)\" cx=\"2126.75\" cy=\"87.9763\" r=\"14\" fill=\"#ac8d18\" fill-rule=\"evenodd\" fill-opacity=\"1\" stroke=\"#000000\" stroke-opacity=\"1\" stroke-width=\"3.2\"/>\n",
       "<circle clip-path=\"url(#clip002)\" cx=\"2167.84\" cy=\"87.9763\" r=\"14\" fill=\"#ac8d18\" fill-rule=\"evenodd\" fill-opacity=\"1\" stroke=\"#000000\" stroke-opacity=\"1\" stroke-width=\"3.2\"/>\n",
       "<circle clip-path=\"url(#clip002)\" cx=\"2208.93\" cy=\"87.9763\" r=\"14\" fill=\"#ac8d18\" fill-rule=\"evenodd\" fill-opacity=\"1\" stroke=\"#000000\" stroke-opacity=\"1\" stroke-width=\"3.2\"/>\n",
       "<circle clip-path=\"url(#clip002)\" cx=\"2250.03\" cy=\"87.9763\" r=\"14\" fill=\"#ac8d18\" fill-rule=\"evenodd\" fill-opacity=\"1\" stroke=\"#000000\" stroke-opacity=\"1\" stroke-width=\"3.2\"/>\n",
       "<circle clip-path=\"url(#clip002)\" cx=\"2291.12\" cy=\"87.9763\" r=\"14\" fill=\"#ac8d18\" fill-rule=\"evenodd\" fill-opacity=\"1\" stroke=\"#000000\" stroke-opacity=\"1\" stroke-width=\"3.2\"/>\n",
       "<path clip-path=\"url(#clip000)\" d=\"\n",
       "M1986.57 216.178 L2280.16 216.178 L2280.16 95.2176 L1986.57 95.2176  Z\n",
       "  \" fill=\"#ffffff\" fill-rule=\"evenodd\" fill-opacity=\"1\"/>\n",
       "<polyline clip-path=\"url(#clip000)\" style=\"stroke:#000000; stroke-width:4; stroke-opacity:1; fill:none\" points=\"\n",
       "  1986.57,216.178 2280.16,216.178 2280.16,95.2176 1986.57,95.2176 1986.57,216.178 \n",
       "  \"/>\n",
       "<polyline clip-path=\"url(#clip000)\" style=\"stroke:#3da44d; stroke-width:4; stroke-opacity:1; fill:none\" points=\"\n",
       "  2010.77,155.698 2155.97,155.698 \n",
       "  \"/>\n",
       "<path clip-path=\"url(#clip000)\" d=\"M 0 0 M2194.01 175.385 Q2192.2 180.015 2190.49 181.427 Q2188.78 182.839 2185.91 182.839 L2182.5 182.839 L2182.5 179.274 L2185 179.274 Q2186.76 179.274 2187.73 178.44 Q2188.71 177.607 2189.89 174.505 L2190.65 172.561 L2180.16 147.052 L2184.68 147.052 L2192.78 167.329 L2200.88 147.052 L2205.4 147.052 L2194.01 175.385 Z\" fill=\"#000000\" fill-rule=\"evenodd\" fill-opacity=\"1\" /><path clip-path=\"url(#clip000)\" d=\"M 0 0 M2224.63 154.343 Q2227.99 155.061 2229.86 157.329 Q2231.76 159.598 2231.76 162.931 Q2231.76 168.047 2228.24 170.848 Q2224.72 173.649 2218.24 173.649 Q2216.07 173.649 2213.75 173.209 Q2211.46 172.792 2209.01 171.936 L2209.01 167.422 Q2210.95 168.556 2213.27 169.135 Q2215.58 169.714 2218.1 169.714 Q2222.5 169.714 2224.79 167.978 Q2227.11 166.241 2227.11 162.931 Q2227.11 159.876 2224.96 158.163 Q2222.83 156.427 2219.01 156.427 L2214.98 156.427 L2214.98 152.584 L2219.19 152.584 Q2222.64 152.584 2224.47 151.218 Q2226.3 149.83 2226.3 147.237 Q2226.3 144.575 2224.4 143.163 Q2222.53 141.728 2219.01 141.728 Q2217.09 141.728 2214.89 142.144 Q2212.69 142.561 2210.05 143.441 L2210.05 139.274 Q2212.71 138.533 2215.03 138.163 Q2217.36 137.793 2219.42 137.793 Q2224.75 137.793 2227.85 140.223 Q2230.95 142.63 2230.95 146.751 Q2230.95 149.621 2229.31 151.612 Q2227.66 153.58 2224.63 154.343 Z\" fill=\"#000000\" fill-rule=\"evenodd\" fill-opacity=\"1\" /></svg>\n"
      ]
     },
     "execution_count": 32,
     "metadata": {},
     "output_type": "execute_result"
    }
   ],
   "source": [
    "plot()\n",
    "plot_cumulative!(0.1, 50)\n",
    "\n",
    "λ =0.1\n",
    "plot!(0:0.01:20, t -> 1 - exp(-λ*t), lw=3)\n",
    "\n",
    "p = 0.5\n",
    "λ = -log(1 - p)\n",
    "plot_cumulative!(p, 50)"
   ]
  },
  {
   "cell_type": "markdown",
   "metadata": {},
   "source": [
    "**Exponential random variable** $Z$"
   ]
  },
  {
   "cell_type": "markdown",
   "metadata": {},
   "source": [
    "$F_Z(t) = \\mathbb{P}(Z \\le t)$"
   ]
  },
  {
   "cell_type": "code",
   "execution_count": null,
   "metadata": {},
   "outputs": [],
   "source": []
  }
 ],
 "metadata": {
  "@webio": {
   "lastCommId": "269bad5c-8148-4ae9-a35f-dac5da34567e",
   "lastKernelId": "e43e53c4-e928-4d05-945c-e764a03fb515"
  },
  "kernelspec": {
   "display_name": "Julia 1.6.0",
   "language": "julia",
   "name": "julia-1.6"
  },
  "language_info": {
   "file_extension": ".jl",
   "mimetype": "application/julia",
   "name": "julia",
   "version": "1.6.0"
  }
 },
 "nbformat": 4,
 "nbformat_minor": 4
}
