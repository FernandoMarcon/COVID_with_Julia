{
 "cells": [
  {
   "cell_type": "markdown",
   "metadata": {},
   "source": [
    "# Introduction to Modelling\n",
    "## Exponential and Logistic Growth\n",
    "\n",
    "Goals:\n",
    "- Simple models of dynamics of infection\n",
    "- Exponential and logistic growth\n",
    "- **Simulate** to produce **data**\n",
    "- Visualize for understanding"
   ]
  },
  {
   "cell_type": "markdown",
   "metadata": {},
   "source": [
    "## Dynamics\n",
    "\n",
    "*how system changes (**evolves**) over time"
   ]
  },
  {
   "cell_type": "markdown",
   "metadata": {},
   "source": [
    "## Modelling\n",
    "\n",
    "### What is a **model**?\n",
    "\n",
    "*Mathematical/computational description of the world*\n",
    "\n",
    "- Isolate effects of interest\n",
    "- Start simple, understand behaviour\n",
    "- Make more compliocated (add additional effects), understand how results change\n",
    "- Repeat!"
   ]
  },
  {
   "cell_type": "markdown",
   "metadata": {},
   "source": [
    "## Modeling Infections\n",
    "- Let's try to model infection spreading thourgh campus\n",
    "- Need to make assumptions to start modelling process\n",
    "- Assumptions must be **explicit**\n",
    " \n",
    "\n",
    "- **Suppose** no influence from outside\n",
    "- **Suppose** no births or deaths\n",
    "- **Suppose** infection is transmitted by proximity\n",
    "- **Suppose** stay infected once infected"
   ]
  },
  {
   "cell_type": "markdown",
   "metadata": {},
   "source": [
    "### Mathematical Model\n",
    "- **Mathematical model**: mathematical description of assumptions\n",
    "- Choose a model in **discrete time**: *n* = days\n",
    "- Notation: $I_n$ is number of **infectious** people on *n*th day\n",
    "- $S_n$ is number of **susceptible** people on *n*th day\n",
    " \n",
    " \n",
    " **Suppose** that everybody is either susceptible or infected:\n",
    "  \n",
    "  $S_n + I_n = N$ \n",
    " \n",
    " and total population $N$ is constant\n",
    " \n",
    " **Initial conditions**\n",
    " - Need to specify initial values at time *n* = 0 \n",
    "  \n",
    "      E.g. $I_0 = 1$ and $S_0 = N - 1$\n",
    "  \n",
    " - We will need hypotheses on dynamics of infection:\n",
    "  Specify how $I_{n+1}$ depends on $I_0, ..., I_n$ \n",
    "   \n",
    "   E.g. $I_{n+1} = f(I_n)$ &rarr; **deterministic** model\n",
    "    \n",
    "   or $I_{n+1} = f(I_n) + \\xi$ &rarr; **stochastic** model with random fluctuatinos $\\xi$\n",
    "   \n",
    "**Output of model**\n",
    "- The output of model will be a **time series**\n",
    " \n",
    " i.e. vectors of values of $S_n$ and $I_n$ at times $n = 0, ..., T$\n",
    "- Up to some final time $T$ \n",
    " \n",
    "- *Possible goal: Obtain time series that \"mimics\" real-world data*\n",
    "- *Posiible goal: Understand what effects must be included in model and which ones may not be relevant*"
   ]
  },
  {
   "cell_type": "markdown",
   "metadata": {},
   "source": [
    "## Simple model of infection\n",
    "Each individual infects *c* new people each day."
   ]
  },
  {
   "cell_type": "markdown",
   "metadata": {},
   "source": [
    "$I_{n+1} = I_n + (c I_n) = I_n(1 + c)$"
   ]
  },
  {
   "cell_type": "markdown",
   "metadata": {},
   "source": [
    "So"
   ]
  },
  {
   "cell_type": "markdown",
   "metadata": {},
   "source": [
    "$I_{n+1} = \\lambda I_n$, where $\\lambda$ := 1 + c -- **growth rate**\n",
    " \n",
    "and $I_0 = 1$"
   ]
  },
  {
   "cell_type": "code",
   "execution_count": 2,
   "metadata": {},
   "outputs": [
    {
     "data": {
      "text/plain": [
       "1"
      ]
     },
     "execution_count": 2,
     "metadata": {},
     "output_type": "execute_result"
    }
   ],
   "source": [
    "I₀ = 1"
   ]
  },
  {
   "cell_type": "code",
   "execution_count": 3,
   "metadata": {},
   "outputs": [
    {
     "data": {
      "text/plain": [
       "0.01"
      ]
     },
     "execution_count": 3,
     "metadata": {},
     "output_type": "execute_result"
    }
   ],
   "source": [
    "c = 0.01 # Every individual infects 0.01 new people every day"
   ]
  },
  {
   "cell_type": "code",
   "execution_count": 4,
   "metadata": {},
   "outputs": [
    {
     "data": {
      "text/plain": [
       "1.01"
      ]
     },
     "execution_count": 4,
     "metadata": {},
     "output_type": "execute_result"
    }
   ],
   "source": [
    "λ = 1 + c"
   ]
  },
  {
   "cell_type": "code",
   "execution_count": 5,
   "metadata": {},
   "outputs": [
    {
     "data": {
      "text/plain": [
       "1.01"
      ]
     },
     "execution_count": 5,
     "metadata": {},
     "output_type": "execute_result"
    }
   ],
   "source": [
    "I₁ = λ * I₀"
   ]
  },
  {
   "cell_type": "code",
   "execution_count": 6,
   "metadata": {},
   "outputs": [
    {
     "data": {
      "text/plain": [
       "1.0201"
      ]
     },
     "execution_count": 6,
     "metadata": {},
     "output_type": "execute_result"
    }
   ],
   "source": [
    "I₂ = λ * I₁"
   ]
  },
  {
   "cell_type": "code",
   "execution_count": 7,
   "metadata": {},
   "outputs": [
    {
     "data": {
      "text/plain": [
       "1.030301"
      ]
     },
     "execution_count": 7,
     "metadata": {},
     "output_type": "execute_result"
    }
   ],
   "source": [
    "I₃ = λ * I₂"
   ]
  },
  {
   "cell_type": "markdown",
   "metadata": {},
   "source": [
    "## Arrays"
   ]
  },
  {
   "cell_type": "code",
   "execution_count": 11,
   "metadata": {},
   "outputs": [
    {
     "data": {
      "text/plain": [
       "10-element Vector{Float64}:\n",
       " 0.0\n",
       " 0.0\n",
       " 0.0\n",
       " 0.0\n",
       " 0.0\n",
       " 0.0\n",
       " 0.0\n",
       " 0.0\n",
       " 0.0\n",
       " 0.0"
      ]
     },
     "execution_count": 11,
     "metadata": {},
     "output_type": "execute_result"
    }
   ],
   "source": [
    "T = 10 # final time\n",
    "\n",
    "I = zeros(T)"
   ]
  },
  {
   "cell_type": "code",
   "execution_count": 12,
   "metadata": {},
   "outputs": [
    {
     "data": {
      "text/plain": [
       "0.0"
      ]
     },
     "execution_count": 12,
     "metadata": {},
     "output_type": "execute_result"
    }
   ],
   "source": [
    "I[1]"
   ]
  },
  {
   "cell_type": "code",
   "execution_count": 13,
   "metadata": {},
   "outputs": [
    {
     "data": {
      "text/plain": [
       "3-element Vector{Float64}:\n",
       " 0.0\n",
       " 0.0\n",
       " 0.0"
      ]
     },
     "execution_count": 13,
     "metadata": {},
     "output_type": "execute_result"
    }
   ],
   "source": [
    "I[1:3]"
   ]
  },
  {
   "cell_type": "code",
   "execution_count": 14,
   "metadata": {},
   "outputs": [
    {
     "data": {
      "text/plain": [
       "10-element Vector{Int64}:\n",
       " 0\n",
       " 0\n",
       " 0\n",
       " 0\n",
       " 0\n",
       " 0\n",
       " 0\n",
       " 0\n",
       " 0\n",
       " 0"
      ]
     },
     "execution_count": 14,
     "metadata": {},
     "output_type": "execute_result"
    }
   ],
   "source": [
    "I = zeros(Int64, T)"
   ]
  },
  {
   "cell_type": "markdown",
   "metadata": {},
   "source": [
    "## Automate:"
   ]
  },
  {
   "cell_type": "code",
   "execution_count": 15,
   "metadata": {},
   "outputs": [
    {
     "data": {
      "text/plain": [
       "10-element Vector{Float64}:\n",
       " 0.0\n",
       " 0.0\n",
       " 0.0\n",
       " 0.0\n",
       " 0.0\n",
       " 0.0\n",
       " 0.0\n",
       " 0.0\n",
       " 0.0\n",
       " 0.0"
      ]
     },
     "execution_count": 15,
     "metadata": {},
     "output_type": "execute_result"
    }
   ],
   "source": [
    "I = zeros(T)"
   ]
  },
  {
   "cell_type": "code",
   "execution_count": 16,
   "metadata": {},
   "outputs": [
    {
     "data": {
      "text/plain": [
       "1"
      ]
     },
     "execution_count": 16,
     "metadata": {},
     "output_type": "execute_result"
    }
   ],
   "source": [
    "I[1] = I₀"
   ]
  },
  {
   "cell_type": "code",
   "execution_count": 22,
   "metadata": {},
   "outputs": [
    {
     "name": "stdout",
     "output_type": "stream",
     "text": [
      "(n, I[n]) = (1, 1.0)\n",
      "(n, I[n]) = (2, 1.01)\n",
      "(n, I[n]) = (3, 1.0201)\n",
      "(n, I[n]) = (4, 1.030301)\n",
      "(n, I[n]) = (5, 1.04060401)\n",
      "(n, I[n]) = (6, 1.0510100501)\n",
      "(n, I[n]) = (7, 1.061520150601)\n",
      "(n, I[n]) = (8, 1.0721353521070098)\n",
      "(n, I[n]) = (9, 1.08285670562808)\n"
     ]
    }
   ],
   "source": [
    "for n in 1:T-1\n",
    "    I[n+1] = λ * I[n]\n",
    "    @show n, I[n]\n",
    "end\n",
    "\n",
    "# for loops do not return anything"
   ]
  },
  {
   "cell_type": "code",
   "execution_count": 25,
   "metadata": {},
   "outputs": [],
   "source": [
    "using Plots"
   ]
  },
  {
   "cell_type": "code",
   "execution_count": 26,
   "metadata": {},
   "outputs": [
    {
     "data": {
      "image/svg+xml": [
       "<?xml version=\"1.0\" encoding=\"utf-8\"?>\n",
       "<svg xmlns=\"http://www.w3.org/2000/svg\" xmlns:xlink=\"http://www.w3.org/1999/xlink\" width=\"600\" height=\"400\" viewBox=\"0 0 2400 1600\">\n",
       "<defs>\n",
       "  <clipPath id=\"clip880\">\n",
       "    <rect x=\"0\" y=\"0\" width=\"2400\" height=\"1600\"/>\n",
       "  </clipPath>\n",
       "</defs>\n",
       "<path clip-path=\"url(#clip880)\" d=\"\n",
       "M0 1600 L2400 1600 L2400 0 L0 0  Z\n",
       "  \" fill=\"#ffffff\" fill-rule=\"evenodd\" fill-opacity=\"1\"/>\n",
       "<defs>\n",
       "  <clipPath id=\"clip881\">\n",
       "    <rect x=\"480\" y=\"0\" width=\"1681\" height=\"1600\"/>\n",
       "  </clipPath>\n",
       "</defs>\n",
       "<path clip-path=\"url(#clip880)\" d=\"\n",
       "M172.038 1486.45 L2352.76 1486.45 L2352.76 47.2441 L172.038 47.2441  Z\n",
       "  \" fill=\"#ffffff\" fill-rule=\"evenodd\" fill-opacity=\"1\"/>\n",
       "<defs>\n",
       "  <clipPath id=\"clip882\">\n",
       "    <rect x=\"172\" y=\"47\" width=\"2182\" height=\"1440\"/>\n",
       "  </clipPath>\n",
       "</defs>\n",
       "<polyline clip-path=\"url(#clip882)\" style=\"stroke:#000000; stroke-width:2; stroke-opacity:0.1; fill:none\" points=\"\n",
       "  462.343,1486.45 462.343,47.2441 \n",
       "  \"/>\n",
       "<polyline clip-path=\"url(#clip882)\" style=\"stroke:#000000; stroke-width:2; stroke-opacity:0.1; fill:none\" points=\"\n",
       "  919.517,1486.45 919.517,47.2441 \n",
       "  \"/>\n",
       "<polyline clip-path=\"url(#clip882)\" style=\"stroke:#000000; stroke-width:2; stroke-opacity:0.1; fill:none\" points=\"\n",
       "  1376.69,1486.45 1376.69,47.2441 \n",
       "  \"/>\n",
       "<polyline clip-path=\"url(#clip882)\" style=\"stroke:#000000; stroke-width:2; stroke-opacity:0.1; fill:none\" points=\"\n",
       "  1833.86,1486.45 1833.86,47.2441 \n",
       "  \"/>\n",
       "<polyline clip-path=\"url(#clip882)\" style=\"stroke:#000000; stroke-width:2; stroke-opacity:0.1; fill:none\" points=\"\n",
       "  2291.04,1486.45 2291.04,47.2441 \n",
       "  \"/>\n",
       "<polyline clip-path=\"url(#clip880)\" style=\"stroke:#000000; stroke-width:4; stroke-opacity:1; fill:none\" points=\"\n",
       "  172.038,1486.45 2352.76,1486.45 \n",
       "  \"/>\n",
       "<polyline clip-path=\"url(#clip880)\" style=\"stroke:#000000; stroke-width:4; stroke-opacity:1; fill:none\" points=\"\n",
       "  462.343,1486.45 462.343,1469.18 \n",
       "  \"/>\n",
       "<polyline clip-path=\"url(#clip880)\" style=\"stroke:#000000; stroke-width:4; stroke-opacity:1; fill:none\" points=\"\n",
       "  919.517,1486.45 919.517,1469.18 \n",
       "  \"/>\n",
       "<polyline clip-path=\"url(#clip880)\" style=\"stroke:#000000; stroke-width:4; stroke-opacity:1; fill:none\" points=\"\n",
       "  1376.69,1486.45 1376.69,1469.18 \n",
       "  \"/>\n",
       "<polyline clip-path=\"url(#clip880)\" style=\"stroke:#000000; stroke-width:4; stroke-opacity:1; fill:none\" points=\"\n",
       "  1833.86,1486.45 1833.86,1469.18 \n",
       "  \"/>\n",
       "<polyline clip-path=\"url(#clip880)\" style=\"stroke:#000000; stroke-width:4; stroke-opacity:1; fill:none\" points=\"\n",
       "  2291.04,1486.45 2291.04,1469.18 \n",
       "  \"/>\n",
       "<path clip-path=\"url(#clip880)\" d=\"M 0 0 M456.996 1543.18 L473.315 1543.18 L473.315 1547.12 L451.371 1547.12 L451.371 1543.18 Q454.033 1540.43 458.616 1535.8 Q463.223 1531.15 464.403 1529.81 Q466.649 1527.28 467.528 1525.55 Q468.431 1523.79 468.431 1522.1 Q468.431 1519.34 466.487 1517.61 Q464.565 1515.87 461.464 1515.87 Q459.264 1515.87 456.811 1516.63 Q454.38 1517.4 451.603 1518.95 L451.603 1514.23 Q454.427 1513.09 456.88 1512.51 Q459.334 1511.93 461.371 1511.93 Q466.741 1511.93 469.936 1514.62 Q473.13 1517.31 473.13 1521.8 Q473.13 1523.93 472.32 1525.85 Q471.533 1527.74 469.426 1530.34 Q468.848 1531.01 465.746 1534.23 Q462.644 1537.42 456.996 1543.18 Z\" fill=\"#000000\" fill-rule=\"evenodd\" fill-opacity=\"1\" /><path clip-path=\"url(#clip880)\" d=\"M 0 0 M922.526 1516.63 L910.721 1535.08 L922.526 1535.08 L922.526 1516.63 M921.299 1512.56 L927.179 1512.56 L927.179 1535.08 L932.109 1535.08 L932.109 1538.97 L927.179 1538.97 L927.179 1547.12 L922.526 1547.12 L922.526 1538.97 L906.924 1538.97 L906.924 1534.46 L921.299 1512.56 Z\" fill=\"#000000\" fill-rule=\"evenodd\" fill-opacity=\"1\" /><path clip-path=\"url(#clip880)\" d=\"M 0 0 M1377.1 1527.98 Q1373.95 1527.98 1372.1 1530.13 Q1370.27 1532.28 1370.27 1536.03 Q1370.27 1539.76 1372.1 1541.93 Q1373.95 1544.09 1377.1 1544.09 Q1380.24 1544.09 1382.07 1541.93 Q1383.92 1539.76 1383.92 1536.03 Q1383.92 1532.28 1382.07 1530.13 Q1380.24 1527.98 1377.1 1527.98 M1386.38 1513.32 L1386.38 1517.58 Q1384.62 1516.75 1382.81 1516.31 Q1381.03 1515.87 1379.27 1515.87 Q1374.64 1515.87 1372.19 1519 Q1369.76 1522.12 1369.41 1528.44 Q1370.78 1526.43 1372.84 1525.36 Q1374.9 1524.27 1377.37 1524.27 Q1382.58 1524.27 1385.59 1527.44 Q1388.62 1530.59 1388.62 1536.03 Q1388.62 1541.36 1385.48 1544.57 Q1382.33 1547.79 1377.1 1547.79 Q1371.1 1547.79 1367.93 1543.21 Q1364.76 1538.6 1364.76 1529.87 Q1364.76 1521.68 1368.65 1516.82 Q1372.54 1511.93 1379.09 1511.93 Q1380.85 1511.93 1382.63 1512.28 Q1384.43 1512.63 1386.38 1513.32 Z\" fill=\"#000000\" fill-rule=\"evenodd\" fill-opacity=\"1\" /><path clip-path=\"url(#clip880)\" d=\"M 0 0 M1833.86 1530.71 Q1830.53 1530.71 1828.61 1532.49 Q1826.71 1534.27 1826.71 1537.4 Q1826.71 1540.52 1828.61 1542.31 Q1830.53 1544.09 1833.86 1544.09 Q1837.2 1544.09 1839.12 1542.31 Q1841.04 1540.5 1841.04 1537.4 Q1841.04 1534.27 1839.12 1532.49 Q1837.22 1530.71 1833.86 1530.71 M1829.19 1528.72 Q1826.18 1527.98 1824.49 1525.92 Q1822.82 1523.86 1822.82 1520.89 Q1822.82 1516.75 1825.76 1514.34 Q1828.73 1511.93 1833.86 1511.93 Q1839.03 1511.93 1841.97 1514.34 Q1844.91 1516.75 1844.91 1520.89 Q1844.91 1523.86 1843.22 1525.92 Q1841.55 1527.98 1838.56 1528.72 Q1841.94 1529.5 1843.82 1531.8 Q1845.72 1534.09 1845.72 1537.4 Q1845.72 1542.42 1842.64 1545.11 Q1839.58 1547.79 1833.86 1547.79 Q1828.15 1547.79 1825.07 1545.11 Q1822.01 1542.42 1822.01 1537.4 Q1822.01 1534.09 1823.91 1531.8 Q1825.81 1529.5 1829.19 1528.72 M1827.48 1521.33 Q1827.48 1524.02 1829.14 1525.52 Q1830.83 1527.03 1833.86 1527.03 Q1836.87 1527.03 1838.56 1525.52 Q1840.28 1524.02 1840.28 1521.33 Q1840.28 1518.65 1838.56 1517.14 Q1836.87 1515.64 1833.86 1515.64 Q1830.83 1515.64 1829.14 1517.14 Q1827.48 1518.65 1827.48 1521.33 Z\" fill=\"#000000\" fill-rule=\"evenodd\" fill-opacity=\"1\" /><path clip-path=\"url(#clip880)\" d=\"M 0 0 M2267.91 1543.18 L2275.55 1543.18 L2275.55 1516.82 L2267.24 1518.49 L2267.24 1514.23 L2275.51 1512.56 L2280.18 1512.56 L2280.18 1543.18 L2287.82 1543.18 L2287.82 1547.12 L2267.91 1547.12 L2267.91 1543.18 Z\" fill=\"#000000\" fill-rule=\"evenodd\" fill-opacity=\"1\" /><path clip-path=\"url(#clip880)\" d=\"M 0 0 M2302.89 1515.64 Q2299.28 1515.64 2297.45 1519.2 Q2295.64 1522.75 2295.64 1529.87 Q2295.64 1536.98 2297.45 1540.55 Q2299.28 1544.09 2302.89 1544.09 Q2306.52 1544.09 2308.33 1540.55 Q2310.16 1536.98 2310.16 1529.87 Q2310.16 1522.75 2308.33 1519.2 Q2306.52 1515.64 2302.89 1515.64 M2302.89 1511.93 Q2308.7 1511.93 2311.75 1516.54 Q2314.83 1521.12 2314.83 1529.87 Q2314.83 1538.6 2311.75 1543.21 Q2308.7 1547.79 2302.89 1547.79 Q2297.08 1547.79 2294 1543.21 Q2290.94 1538.6 2290.94 1529.87 Q2290.94 1521.12 2294 1516.54 Q2297.08 1511.93 2302.89 1511.93 Z\" fill=\"#000000\" fill-rule=\"evenodd\" fill-opacity=\"1\" /><polyline clip-path=\"url(#clip882)\" style=\"stroke:#000000; stroke-width:2; stroke-opacity:0.1; fill:none\" points=\"\n",
       "  172.038,1445.72 2352.76,1445.72 \n",
       "  \"/>\n",
       "<polyline clip-path=\"url(#clip882)\" style=\"stroke:#000000; stroke-width:2; stroke-opacity:0.1; fill:none\" points=\"\n",
       "  172.038,1155.86 2352.76,1155.86 \n",
       "  \"/>\n",
       "<polyline clip-path=\"url(#clip882)\" style=\"stroke:#000000; stroke-width:2; stroke-opacity:0.1; fill:none\" points=\"\n",
       "  172.038,866.013 2352.76,866.013 \n",
       "  \"/>\n",
       "<polyline clip-path=\"url(#clip882)\" style=\"stroke:#000000; stroke-width:2; stroke-opacity:0.1; fill:none\" points=\"\n",
       "  172.038,576.162 2352.76,576.162 \n",
       "  \"/>\n",
       "<polyline clip-path=\"url(#clip882)\" style=\"stroke:#000000; stroke-width:2; stroke-opacity:0.1; fill:none\" points=\"\n",
       "  172.038,286.311 2352.76,286.311 \n",
       "  \"/>\n",
       "<polyline clip-path=\"url(#clip880)\" style=\"stroke:#000000; stroke-width:4; stroke-opacity:1; fill:none\" points=\"\n",
       "  172.038,1486.45 172.038,47.2441 \n",
       "  \"/>\n",
       "<polyline clip-path=\"url(#clip880)\" style=\"stroke:#000000; stroke-width:4; stroke-opacity:1; fill:none\" points=\"\n",
       "  172.038,1445.72 198.207,1445.72 \n",
       "  \"/>\n",
       "<polyline clip-path=\"url(#clip880)\" style=\"stroke:#000000; stroke-width:4; stroke-opacity:1; fill:none\" points=\"\n",
       "  172.038,1155.86 198.207,1155.86 \n",
       "  \"/>\n",
       "<polyline clip-path=\"url(#clip880)\" style=\"stroke:#000000; stroke-width:4; stroke-opacity:1; fill:none\" points=\"\n",
       "  172.038,866.013 198.207,866.013 \n",
       "  \"/>\n",
       "<polyline clip-path=\"url(#clip880)\" style=\"stroke:#000000; stroke-width:4; stroke-opacity:1; fill:none\" points=\"\n",
       "  172.038,576.162 198.207,576.162 \n",
       "  \"/>\n",
       "<polyline clip-path=\"url(#clip880)\" style=\"stroke:#000000; stroke-width:4; stroke-opacity:1; fill:none\" points=\"\n",
       "  172.038,286.311 198.207,286.311 \n",
       "  \"/>\n",
       "<path clip-path=\"url(#clip880)\" d=\"M 0 0 M52.1495 1459.06 L59.7884 1459.06 L59.7884 1432.69 L51.4782 1434.36 L51.4782 1430.1 L59.7421 1428.44 L64.418 1428.44 L64.418 1459.06 L72.0568 1459.06 L72.0568 1463 L52.1495 1463 L52.1495 1459.06 Z\" fill=\"#000000\" fill-rule=\"evenodd\" fill-opacity=\"1\" /><path clip-path=\"url(#clip880)\" d=\"M 0 0 M77.1262 1457.12 L82.0105 1457.12 L82.0105 1463 L77.1262 1463 L77.1262 1457.12 Z\" fill=\"#000000\" fill-rule=\"evenodd\" fill-opacity=\"1\" /><path clip-path=\"url(#clip880)\" d=\"M 0 0 M97.0798 1431.51 Q93.4688 1431.51 91.6401 1435.08 Q89.8345 1438.62 89.8345 1445.75 Q89.8345 1452.86 91.6401 1456.42 Q93.4688 1459.96 97.0798 1459.96 Q100.714 1459.96 102.52 1456.42 Q104.348 1452.86 104.348 1445.75 Q104.348 1438.62 102.52 1435.08 Q100.714 1431.51 97.0798 1431.51 M97.0798 1427.81 Q102.89 1427.81 105.946 1432.42 Q109.024 1437 109.024 1445.75 Q109.024 1454.48 105.946 1459.08 Q102.89 1463.67 97.0798 1463.67 Q91.2697 1463.67 88.191 1459.08 Q85.1355 1454.48 85.1355 1445.75 Q85.1355 1437 88.191 1432.42 Q91.2697 1427.81 97.0798 1427.81 Z\" fill=\"#000000\" fill-rule=\"evenodd\" fill-opacity=\"1\" /><path clip-path=\"url(#clip880)\" d=\"M 0 0 M124.094 1431.51 Q120.482 1431.51 118.654 1435.08 Q116.848 1438.62 116.848 1445.75 Q116.848 1452.86 118.654 1456.42 Q120.482 1459.96 124.094 1459.96 Q127.728 1459.96 129.533 1456.42 Q131.362 1452.86 131.362 1445.75 Q131.362 1438.62 129.533 1435.08 Q127.728 1431.51 124.094 1431.51 M124.094 1427.81 Q129.904 1427.81 132.959 1432.42 Q136.038 1437 136.038 1445.75 Q136.038 1454.48 132.959 1459.08 Q129.904 1463.67 124.094 1463.67 Q118.283 1463.67 115.205 1459.08 Q112.149 1454.48 112.149 1445.75 Q112.149 1437 115.205 1432.42 Q118.283 1427.81 124.094 1427.81 Z\" fill=\"#000000\" fill-rule=\"evenodd\" fill-opacity=\"1\" /><path clip-path=\"url(#clip880)\" d=\"M 0 0 M53.7467 1169.21 L61.3856 1169.21 L61.3856 1142.84 L53.0754 1144.51 L53.0754 1140.25 L61.3393 1138.58 L66.0152 1138.58 L66.0152 1169.21 L73.654 1169.21 L73.654 1173.14 L53.7467 1173.14 L53.7467 1169.21 Z\" fill=\"#000000\" fill-rule=\"evenodd\" fill-opacity=\"1\" /><path clip-path=\"url(#clip880)\" d=\"M 0 0 M78.7235 1167.26 L83.6077 1167.26 L83.6077 1173.14 L78.7235 1173.14 L78.7235 1167.26 Z\" fill=\"#000000\" fill-rule=\"evenodd\" fill-opacity=\"1\" /><path clip-path=\"url(#clip880)\" d=\"M 0 0 M98.6771 1141.66 Q95.066 1141.66 93.2373 1145.23 Q91.4317 1148.77 91.4317 1155.9 Q91.4317 1163.01 93.2373 1166.57 Q95.066 1170.11 98.6771 1170.11 Q102.311 1170.11 104.117 1166.57 Q105.946 1163.01 105.946 1155.9 Q105.946 1148.77 104.117 1145.23 Q102.311 1141.66 98.6771 1141.66 M98.6771 1137.96 Q104.487 1137.96 107.543 1142.57 Q110.621 1147.15 110.621 1155.9 Q110.621 1164.63 107.543 1169.23 Q104.487 1173.82 98.6771 1173.82 Q92.8669 1173.82 89.7882 1169.23 Q86.7327 1164.63 86.7327 1155.9 Q86.7327 1147.15 89.7882 1142.57 Q92.8669 1137.96 98.6771 1137.96 Z\" fill=\"#000000\" fill-rule=\"evenodd\" fill-opacity=\"1\" /><path clip-path=\"url(#clip880)\" d=\"M 0 0 M119.719 1169.21 L136.038 1169.21 L136.038 1173.14 L114.094 1173.14 L114.094 1169.21 Q116.756 1166.45 121.339 1161.83 Q125.945 1157.17 127.126 1155.83 Q129.371 1153.31 130.251 1151.57 Q131.154 1149.81 131.154 1148.12 Q131.154 1145.37 129.209 1143.63 Q127.288 1141.89 124.186 1141.89 Q121.987 1141.89 119.533 1142.66 Q117.103 1143.42 114.325 1144.97 L114.325 1140.25 Q117.149 1139.12 119.603 1138.54 Q122.057 1137.96 124.094 1137.96 Q129.464 1137.96 132.658 1140.64 Q135.853 1143.33 135.853 1147.82 Q135.853 1149.95 135.043 1151.87 Q134.256 1153.77 132.149 1156.36 Q131.57 1157.03 128.469 1160.25 Q125.367 1163.45 119.719 1169.21 Z\" fill=\"#000000\" fill-rule=\"evenodd\" fill-opacity=\"1\" /><path clip-path=\"url(#clip880)\" d=\"M 0 0 M51.6634 879.358 L59.3023 879.358 L59.3023 852.993 L50.9921 854.659 L50.9921 850.4 L59.256 848.733 L63.9319 848.733 L63.9319 879.358 L71.5707 879.358 L71.5707 883.293 L51.6634 883.293 L51.6634 879.358 Z\" fill=\"#000000\" fill-rule=\"evenodd\" fill-opacity=\"1\" /><path clip-path=\"url(#clip880)\" d=\"M 0 0 M76.6401 877.414 L81.5244 877.414 L81.5244 883.293 L76.6401 883.293 L76.6401 877.414 Z\" fill=\"#000000\" fill-rule=\"evenodd\" fill-opacity=\"1\" /><path clip-path=\"url(#clip880)\" d=\"M 0 0 M96.5937 851.812 Q92.9826 851.812 91.1539 855.377 Q89.3484 858.918 89.3484 866.048 Q89.3484 873.154 91.1539 876.719 Q92.9826 880.261 96.5937 880.261 Q100.228 880.261 102.034 876.719 Q103.862 873.154 103.862 866.048 Q103.862 858.918 102.034 855.377 Q100.228 851.812 96.5937 851.812 M96.5937 848.108 Q102.404 848.108 105.459 852.715 Q108.538 857.298 108.538 866.048 Q108.538 874.775 105.459 879.381 Q102.404 883.965 96.5937 883.965 Q90.7836 883.965 87.7049 879.381 Q84.6494 874.775 84.6494 866.048 Q84.6494 857.298 87.7049 852.715 Q90.7836 848.108 96.5937 848.108 Z\" fill=\"#000000\" fill-rule=\"evenodd\" fill-opacity=\"1\" /><path clip-path=\"url(#clip880)\" d=\"M 0 0 M126.455 852.807 L114.649 871.256 L126.455 871.256 L126.455 852.807 M125.228 848.733 L131.107 848.733 L131.107 871.256 L136.038 871.256 L136.038 875.145 L131.107 875.145 L131.107 883.293 L126.455 883.293 L126.455 875.145 L110.853 875.145 L110.853 870.631 L125.228 848.733 Z\" fill=\"#000000\" fill-rule=\"evenodd\" fill-opacity=\"1\" /><path clip-path=\"url(#clip880)\" d=\"M 0 0 M51.9875 589.507 L59.6263 589.507 L59.6263 563.141 L51.3162 564.808 L51.3162 560.549 L59.58 558.882 L64.2559 558.882 L64.2559 589.507 L71.8948 589.507 L71.8948 593.442 L51.9875 593.442 L51.9875 589.507 Z\" fill=\"#000000\" fill-rule=\"evenodd\" fill-opacity=\"1\" /><path clip-path=\"url(#clip880)\" d=\"M 0 0 M76.9642 587.563 L81.8484 587.563 L81.8484 593.442 L76.9642 593.442 L76.9642 587.563 Z\" fill=\"#000000\" fill-rule=\"evenodd\" fill-opacity=\"1\" /><path clip-path=\"url(#clip880)\" d=\"M 0 0 M96.9178 561.961 Q93.3067 561.961 91.478 565.526 Q89.6725 569.067 89.6725 576.197 Q89.6725 583.303 91.478 586.868 Q93.3067 590.41 96.9178 590.41 Q100.552 590.41 102.358 586.868 Q104.186 583.303 104.186 576.197 Q104.186 569.067 102.358 565.526 Q100.552 561.961 96.9178 561.961 M96.9178 558.257 Q102.728 558.257 105.783 562.864 Q108.862 567.447 108.862 576.197 Q108.862 584.924 105.783 589.53 Q102.728 594.113 96.9178 594.113 Q91.1077 594.113 88.029 589.53 Q84.9734 584.924 84.9734 576.197 Q84.9734 567.447 88.029 562.864 Q91.1077 558.257 96.9178 558.257 Z\" fill=\"#000000\" fill-rule=\"evenodd\" fill-opacity=\"1\" /><path clip-path=\"url(#clip880)\" d=\"M 0 0 M124.51 574.299 Q121.362 574.299 119.51 576.451 Q117.682 578.604 117.682 582.354 Q117.682 586.081 119.51 588.257 Q121.362 590.41 124.51 590.41 Q127.658 590.41 129.487 588.257 Q131.339 586.081 131.339 582.354 Q131.339 578.604 129.487 576.451 Q127.658 574.299 124.51 574.299 M133.793 559.646 L133.793 563.905 Q132.033 563.072 130.228 562.632 Q128.445 562.192 126.686 562.192 Q122.057 562.192 119.603 565.317 Q117.172 568.442 116.825 574.762 Q118.191 572.748 120.251 571.683 Q122.311 570.595 124.788 570.595 Q129.996 570.595 133.006 573.766 Q136.038 576.914 136.038 582.354 Q136.038 587.678 132.89 590.896 Q129.742 594.113 124.51 594.113 Q118.515 594.113 115.344 589.53 Q112.172 584.924 112.172 576.197 Q112.172 568.002 116.061 563.141 Q119.95 558.257 126.501 558.257 Q128.26 558.257 130.043 558.604 Q131.848 558.952 133.793 559.646 Z\" fill=\"#000000\" fill-rule=\"evenodd\" fill-opacity=\"1\" /><path clip-path=\"url(#clip880)\" d=\"M 0 0 M52.2421 299.656 L59.881 299.656 L59.881 273.29 L51.5708 274.957 L51.5708 270.698 L59.8347 269.031 L64.5106 269.031 L64.5106 299.656 L72.1494 299.656 L72.1494 303.591 L52.2421 303.591 L52.2421 299.656 Z\" fill=\"#000000\" fill-rule=\"evenodd\" fill-opacity=\"1\" /><path clip-path=\"url(#clip880)\" d=\"M 0 0 M77.2188 297.711 L82.1031 297.711 L82.1031 303.591 L77.2188 303.591 L77.2188 297.711 Z\" fill=\"#000000\" fill-rule=\"evenodd\" fill-opacity=\"1\" /><path clip-path=\"url(#clip880)\" d=\"M 0 0 M97.1724 272.11 Q93.5613 272.11 91.7326 275.674 Q89.9271 279.216 89.9271 286.346 Q89.9271 293.452 91.7326 297.017 Q93.5613 300.559 97.1724 300.559 Q100.807 300.559 102.612 297.017 Q104.441 293.452 104.441 286.346 Q104.441 279.216 102.612 275.674 Q100.807 272.11 97.1724 272.11 M97.1724 268.406 Q102.983 268.406 106.038 273.012 Q109.117 277.596 109.117 286.346 Q109.117 295.072 106.038 299.679 Q102.983 304.262 97.1724 304.262 Q91.3623 304.262 88.2836 299.679 Q85.2281 295.072 85.2281 286.346 Q85.2281 277.596 88.2836 273.012 Q91.3623 268.406 97.1724 268.406 Z\" fill=\"#000000\" fill-rule=\"evenodd\" fill-opacity=\"1\" /><path clip-path=\"url(#clip880)\" d=\"M 0 0 M124.186 287.179 Q120.853 287.179 118.932 288.961 Q117.033 290.744 117.033 293.869 Q117.033 296.994 118.932 298.776 Q120.853 300.559 124.186 300.559 Q127.519 300.559 129.441 298.776 Q131.362 296.971 131.362 293.869 Q131.362 290.744 129.441 288.961 Q127.543 287.179 124.186 287.179 M119.51 285.188 Q116.501 284.447 114.811 282.387 Q113.145 280.327 113.145 277.364 Q113.145 273.221 116.084 270.813 Q119.047 268.406 124.186 268.406 Q129.348 268.406 132.288 270.813 Q135.228 273.221 135.228 277.364 Q135.228 280.327 133.538 282.387 Q131.871 284.447 128.885 285.188 Q132.265 285.975 134.14 288.267 Q136.038 290.559 136.038 293.869 Q136.038 298.892 132.959 301.577 Q129.904 304.262 124.186 304.262 Q118.469 304.262 115.39 301.577 Q112.334 298.892 112.334 293.869 Q112.334 290.559 114.233 288.267 Q116.131 285.975 119.51 285.188 M117.797 277.804 Q117.797 280.489 119.464 281.994 Q121.154 283.498 124.186 283.498 Q127.195 283.498 128.885 281.994 Q130.598 280.489 130.598 277.804 Q130.598 275.119 128.885 273.614 Q127.195 272.11 124.186 272.11 Q121.154 272.11 119.464 273.614 Q117.797 275.119 117.797 277.804 Z\" fill=\"#000000\" fill-rule=\"evenodd\" fill-opacity=\"1\" /><polyline clip-path=\"url(#clip882)\" style=\"stroke:#009af9; stroke-width:4; stroke-opacity:1; fill:none\" points=\"\n",
       "  233.756,1445.72 462.343,1300.79 690.93,1154.42 919.517,1006.58 1148.1,857.26 1376.69,706.449 1605.28,554.131 1833.86,400.29 2062.45,244.91 2291.04,87.9763 \n",
       "  \n",
       "  \"/>\n",
       "<path clip-path=\"url(#clip882)\" d=\"M233.756 1461.72 L222.444 1457.03 L217.756 1445.72 L222.444 1434.4 L233.756 1429.72 L245.068 1434.4 L249.756 1445.72 L245.068 1457.03 Z\" fill=\"#009af9\" fill-rule=\"evenodd\" fill-opacity=\"1\" stroke=\"#000000\" stroke-opacity=\"1\" stroke-width=\"3.2\"/>\n",
       "<path clip-path=\"url(#clip882)\" d=\"M462.343 1316.79 L451.031 1312.1 L446.343 1300.79 L451.031 1289.48 L462.343 1284.79 L473.655 1289.48 L478.343 1300.79 L473.655 1312.1 Z\" fill=\"#009af9\" fill-rule=\"evenodd\" fill-opacity=\"1\" stroke=\"#000000\" stroke-opacity=\"1\" stroke-width=\"3.2\"/>\n",
       "<path clip-path=\"url(#clip882)\" d=\"M690.93 1170.42 L679.618 1165.73 L674.93 1154.42 L679.618 1143.1 L690.93 1138.42 L702.242 1143.1 L706.93 1154.42 L702.242 1165.73 Z\" fill=\"#009af9\" fill-rule=\"evenodd\" fill-opacity=\"1\" stroke=\"#000000\" stroke-opacity=\"1\" stroke-width=\"3.2\"/>\n",
       "<path clip-path=\"url(#clip882)\" d=\"M919.517 1022.58 L908.205 1017.89 L903.517 1006.58 L908.205 995.265 L919.517 990.577 L930.829 995.265 L935.517 1006.58 L930.829 1017.89 Z\" fill=\"#009af9\" fill-rule=\"evenodd\" fill-opacity=\"1\" stroke=\"#000000\" stroke-opacity=\"1\" stroke-width=\"3.2\"/>\n",
       "<path clip-path=\"url(#clip882)\" d=\"M1148.1 873.26 L1136.79 868.572 L1132.1 857.26 L1136.79 845.948 L1148.1 841.26 L1159.42 845.948 L1164.1 857.26 L1159.42 868.572 Z\" fill=\"#009af9\" fill-rule=\"evenodd\" fill-opacity=\"1\" stroke=\"#000000\" stroke-opacity=\"1\" stroke-width=\"3.2\"/>\n",
       "<path clip-path=\"url(#clip882)\" d=\"M1376.69 722.449 L1365.38 717.761 L1360.69 706.449 L1365.38 695.137 L1376.69 690.449 L1388 695.137 L1392.69 706.449 L1388 717.761 Z\" fill=\"#009af9\" fill-rule=\"evenodd\" fill-opacity=\"1\" stroke=\"#000000\" stroke-opacity=\"1\" stroke-width=\"3.2\"/>\n",
       "<path clip-path=\"url(#clip882)\" d=\"M1605.28 570.131 L1593.97 565.443 L1589.28 554.131 L1593.97 542.819 L1605.28 538.131 L1616.59 542.819 L1621.28 554.131 L1616.59 565.443 Z\" fill=\"#009af9\" fill-rule=\"evenodd\" fill-opacity=\"1\" stroke=\"#000000\" stroke-opacity=\"1\" stroke-width=\"3.2\"/>\n",
       "<path clip-path=\"url(#clip882)\" d=\"M1833.86 416.29 L1822.55 411.602 L1817.86 400.29 L1822.55 388.978 L1833.86 384.29 L1845.18 388.978 L1849.86 400.29 L1845.18 411.602 Z\" fill=\"#009af9\" fill-rule=\"evenodd\" fill-opacity=\"1\" stroke=\"#000000\" stroke-opacity=\"1\" stroke-width=\"3.2\"/>\n",
       "<path clip-path=\"url(#clip882)\" d=\"M2062.45 260.91 L2051.14 256.222 L2046.45 244.91 L2051.14 233.598 L2062.45 228.91 L2073.76 233.598 L2078.45 244.91 L2073.76 256.222 Z\" fill=\"#009af9\" fill-rule=\"evenodd\" fill-opacity=\"1\" stroke=\"#000000\" stroke-opacity=\"1\" stroke-width=\"3.2\"/>\n",
       "<path clip-path=\"url(#clip882)\" d=\"M2291.04 103.976 L2279.73 99.2883 L2275.04 87.9763 L2279.73 76.6643 L2291.04 71.9763 L2302.35 76.6643 L2307.04 87.9763 L2302.35 99.2883 Z\" fill=\"#009af9\" fill-rule=\"evenodd\" fill-opacity=\"1\" stroke=\"#000000\" stroke-opacity=\"1\" stroke-width=\"3.2\"/>\n",
       "<path clip-path=\"url(#clip880)\" d=\"\n",
       "M244.729 216.178 L546.035 216.178 L546.035 95.2176 L244.729 95.2176  Z\n",
       "  \" fill=\"#ffffff\" fill-rule=\"evenodd\" fill-opacity=\"1\"/>\n",
       "<polyline clip-path=\"url(#clip880)\" style=\"stroke:#000000; stroke-width:4; stroke-opacity:1; fill:none\" points=\"\n",
       "  244.729,216.178 546.035,216.178 546.035,95.2176 244.729,95.2176 244.729,216.178 \n",
       "  \"/>\n",
       "<polyline clip-path=\"url(#clip880)\" style=\"stroke:#009af9; stroke-width:4; stroke-opacity:1; fill:none\" points=\"\n",
       "  268.959,155.698 414.34,155.698 \n",
       "  \"/>\n",
       "<path clip-path=\"url(#clip880)\" d=\"M341.649 181.298 L323.55 173.797 L316.049 155.698 L323.55 137.598 L341.649 130.098 L359.749 137.598 L367.249 155.698 L359.749 173.797 Z\" fill=\"#009af9\" fill-rule=\"evenodd\" fill-opacity=\"1\" stroke=\"#000000\" stroke-opacity=\"1\" stroke-width=\"5.12\"/>\n",
       "<path clip-path=\"url(#clip880)\" d=\"M 0 0 M438.57 138.418 L443.246 138.418 L443.246 172.978 L438.57 172.978 L438.57 138.418 Z\" fill=\"#000000\" fill-rule=\"evenodd\" fill-opacity=\"1\" /><path clip-path=\"url(#clip880)\" d=\"M 0 0 M447.32 136.959 L457.135 136.959 L457.135 140.269 L451.579 140.269 L451.579 175.917 L457.135 175.917 L457.135 179.228 L447.32 179.228 L447.32 136.959 Z\" fill=\"#000000\" fill-rule=\"evenodd\" fill-opacity=\"1\" /><path clip-path=\"url(#clip880)\" d=\"M 0 0 M483.153 157.329 L483.153 172.978 L478.894 172.978 L478.894 157.468 Q478.894 153.788 477.459 151.959 Q476.024 150.13 473.153 150.13 Q469.704 150.13 467.714 152.33 Q465.723 154.529 465.723 158.325 L465.723 172.978 L461.44 172.978 L461.44 147.052 L465.723 147.052 L465.723 151.08 Q467.251 148.742 469.311 147.584 Q471.394 146.427 474.102 146.427 Q478.57 146.427 480.862 149.205 Q483.153 151.959 483.153 157.329 Z\" fill=\"#000000\" fill-rule=\"evenodd\" fill-opacity=\"1\" /><path clip-path=\"url(#clip880)\" d=\"M 0 0 M497.574 136.959 L497.574 179.228 L487.76 179.228 L487.76 175.917 L493.292 175.917 L493.292 140.269 L487.76 140.269 L487.76 136.959 L497.574 136.959 Z\" fill=\"#000000\" fill-rule=\"evenodd\" fill-opacity=\"1\" /></svg>\n"
      ]
     },
     "execution_count": 26,
     "metadata": {},
     "output_type": "execute_result"
    }
   ],
   "source": [
    "plot(I, m=:o, label=\"I[n]\", legend=:topleft)"
   ]
  },
  {
   "cell_type": "code",
   "execution_count": 29,
   "metadata": {},
   "outputs": [
    {
     "data": {
      "image/svg+xml": [
       "<?xml version=\"1.0\" encoding=\"utf-8\"?>\n",
       "<svg xmlns=\"http://www.w3.org/2000/svg\" xmlns:xlink=\"http://www.w3.org/1999/xlink\" width=\"600\" height=\"400\" viewBox=\"0 0 2400 1600\">\n",
       "<defs>\n",
       "  <clipPath id=\"clip920\">\n",
       "    <rect x=\"0\" y=\"0\" width=\"2400\" height=\"1600\"/>\n",
       "  </clipPath>\n",
       "</defs>\n",
       "<path clip-path=\"url(#clip920)\" d=\"\n",
       "M0 1600 L2400 1600 L2400 0 L0 0  Z\n",
       "  \" fill=\"#ffffff\" fill-rule=\"evenodd\" fill-opacity=\"1\"/>\n",
       "<defs>\n",
       "  <clipPath id=\"clip921\">\n",
       "    <rect x=\"480\" y=\"0\" width=\"1681\" height=\"1600\"/>\n",
       "  </clipPath>\n",
       "</defs>\n",
       "<path clip-path=\"url(#clip920)\" d=\"\n",
       "M171.552 1486.45 L2352.76 1486.45 L2352.76 47.2441 L171.552 47.2441  Z\n",
       "  \" fill=\"#ffffff\" fill-rule=\"evenodd\" fill-opacity=\"1\"/>\n",
       "<defs>\n",
       "  <clipPath id=\"clip922\">\n",
       "    <rect x=\"171\" y=\"47\" width=\"2182\" height=\"1440\"/>\n",
       "  </clipPath>\n",
       "</defs>\n",
       "<polyline clip-path=\"url(#clip922)\" style=\"stroke:#000000; stroke-width:2; stroke-opacity:0.1; fill:none\" points=\"\n",
       "  666.492,1486.45 666.492,47.2441 \n",
       "  \"/>\n",
       "<polyline clip-path=\"url(#clip922)\" style=\"stroke:#000000; stroke-width:2; stroke-opacity:0.1; fill:none\" points=\"\n",
       "  1208,1486.45 1208,47.2441 \n",
       "  \"/>\n",
       "<polyline clip-path=\"url(#clip922)\" style=\"stroke:#000000; stroke-width:2; stroke-opacity:0.1; fill:none\" points=\"\n",
       "  1749.51,1486.45 1749.51,47.2441 \n",
       "  \"/>\n",
       "<polyline clip-path=\"url(#clip922)\" style=\"stroke:#000000; stroke-width:2; stroke-opacity:0.1; fill:none\" points=\"\n",
       "  2291.02,1486.45 2291.02,47.2441 \n",
       "  \"/>\n",
       "<polyline clip-path=\"url(#clip920)\" style=\"stroke:#000000; stroke-width:4; stroke-opacity:1; fill:none\" points=\"\n",
       "  171.552,1486.45 2352.76,1486.45 \n",
       "  \"/>\n",
       "<polyline clip-path=\"url(#clip920)\" style=\"stroke:#000000; stroke-width:4; stroke-opacity:1; fill:none\" points=\"\n",
       "  666.492,1486.45 666.492,1469.18 \n",
       "  \"/>\n",
       "<polyline clip-path=\"url(#clip920)\" style=\"stroke:#000000; stroke-width:4; stroke-opacity:1; fill:none\" points=\"\n",
       "  1208,1486.45 1208,1469.18 \n",
       "  \"/>\n",
       "<polyline clip-path=\"url(#clip920)\" style=\"stroke:#000000; stroke-width:4; stroke-opacity:1; fill:none\" points=\"\n",
       "  1749.51,1486.45 1749.51,1469.18 \n",
       "  \"/>\n",
       "<polyline clip-path=\"url(#clip920)\" style=\"stroke:#000000; stroke-width:4; stroke-opacity:1; fill:none\" points=\"\n",
       "  2291.02,1486.45 2291.02,1469.18 \n",
       "  \"/>\n",
       "<path clip-path=\"url(#clip920)\" d=\"M 0 0 M656.77 1512.56 L675.127 1512.56 L675.127 1516.5 L661.053 1516.5 L661.053 1524.97 Q662.071 1524.62 663.09 1524.46 Q664.108 1524.27 665.127 1524.27 Q670.914 1524.27 674.293 1527.44 Q677.673 1530.62 677.673 1536.03 Q677.673 1541.61 674.201 1544.71 Q670.728 1547.79 664.409 1547.79 Q662.233 1547.79 659.965 1547.42 Q657.719 1547.05 655.312 1546.31 L655.312 1541.61 Q657.395 1542.74 659.617 1543.3 Q661.84 1543.86 664.316 1543.86 Q668.321 1543.86 670.659 1541.75 Q672.997 1539.64 672.997 1536.03 Q672.997 1532.42 670.659 1530.31 Q668.321 1528.21 664.316 1528.21 Q662.441 1528.21 660.567 1528.62 Q658.715 1529.04 656.77 1529.92 L656.77 1512.56 Z\" fill=\"#000000\" fill-rule=\"evenodd\" fill-opacity=\"1\" /><path clip-path=\"url(#clip920)\" d=\"M 0 0 M1184.88 1543.18 L1192.52 1543.18 L1192.52 1516.82 L1184.21 1518.49 L1184.21 1514.23 L1192.47 1512.56 L1197.15 1512.56 L1197.15 1543.18 L1204.79 1543.18 L1204.79 1547.12 L1184.88 1547.12 L1184.88 1543.18 Z\" fill=\"#000000\" fill-rule=\"evenodd\" fill-opacity=\"1\" /><path clip-path=\"url(#clip920)\" d=\"M 0 0 M1219.85 1515.64 Q1216.24 1515.64 1214.41 1519.2 Q1212.61 1522.75 1212.61 1529.87 Q1212.61 1536.98 1214.41 1540.55 Q1216.24 1544.09 1219.85 1544.09 Q1223.49 1544.09 1225.29 1540.55 Q1227.12 1536.98 1227.12 1529.87 Q1227.12 1522.75 1225.29 1519.2 Q1223.49 1515.64 1219.85 1515.64 M1219.85 1511.93 Q1225.66 1511.93 1228.72 1516.54 Q1231.8 1521.12 1231.8 1529.87 Q1231.8 1538.6 1228.72 1543.21 Q1225.66 1547.79 1219.85 1547.79 Q1214.04 1547.79 1210.97 1543.21 Q1207.91 1538.6 1207.91 1529.87 Q1207.91 1521.12 1210.97 1516.54 Q1214.04 1511.93 1219.85 1511.93 Z\" fill=\"#000000\" fill-rule=\"evenodd\" fill-opacity=\"1\" /><path clip-path=\"url(#clip920)\" d=\"M 0 0 M1726.89 1543.18 L1734.52 1543.18 L1734.52 1516.82 L1726.21 1518.49 L1726.21 1514.23 L1734.48 1512.56 L1739.15 1512.56 L1739.15 1543.18 L1746.79 1543.18 L1746.79 1547.12 L1726.89 1547.12 L1726.89 1543.18 Z\" fill=\"#000000\" fill-rule=\"evenodd\" fill-opacity=\"1\" /><path clip-path=\"url(#clip920)\" d=\"M 0 0 M1751.91 1512.56 L1770.27 1512.56 L1770.27 1516.5 L1756.19 1516.5 L1756.19 1524.97 Q1757.21 1524.62 1758.23 1524.46 Q1759.25 1524.27 1760.27 1524.27 Q1766.05 1524.27 1769.43 1527.44 Q1772.81 1530.62 1772.81 1536.03 Q1772.81 1541.61 1769.34 1544.71 Q1765.87 1547.79 1759.55 1547.79 Q1757.37 1547.79 1755.1 1547.42 Q1752.86 1547.05 1750.45 1546.31 L1750.45 1541.61 Q1752.53 1542.74 1754.76 1543.3 Q1756.98 1543.86 1759.46 1543.86 Q1763.46 1543.86 1765.8 1541.75 Q1768.14 1539.64 1768.14 1536.03 Q1768.14 1532.42 1765.8 1530.31 Q1763.46 1528.21 1759.46 1528.21 Q1757.58 1528.21 1755.71 1528.62 Q1753.85 1529.04 1751.91 1529.92 L1751.91 1512.56 Z\" fill=\"#000000\" fill-rule=\"evenodd\" fill-opacity=\"1\" /><path clip-path=\"url(#clip920)\" d=\"M 0 0 M2272.17 1543.18 L2288.49 1543.18 L2288.49 1547.12 L2266.54 1547.12 L2266.54 1543.18 Q2269.21 1540.43 2273.79 1535.8 Q2278.4 1531.15 2279.58 1529.81 Q2281.82 1527.28 2282.7 1525.55 Q2283.6 1523.79 2283.6 1522.1 Q2283.6 1519.34 2281.66 1517.61 Q2279.74 1515.87 2276.64 1515.87 Q2274.44 1515.87 2271.98 1516.63 Q2269.55 1517.4 2266.78 1518.95 L2266.78 1514.23 Q2269.6 1513.09 2272.05 1512.51 Q2274.51 1511.93 2276.54 1511.93 Q2281.91 1511.93 2285.11 1514.62 Q2288.3 1517.31 2288.3 1521.8 Q2288.3 1523.93 2287.49 1525.85 Q2286.71 1527.74 2284.6 1530.34 Q2284.02 1531.01 2280.92 1534.23 Q2277.82 1537.42 2272.17 1543.18 Z\" fill=\"#000000\" fill-rule=\"evenodd\" fill-opacity=\"1\" /><path clip-path=\"url(#clip920)\" d=\"M 0 0 M2303.56 1515.64 Q2299.95 1515.64 2298.12 1519.2 Q2296.31 1522.75 2296.31 1529.87 Q2296.31 1536.98 2298.12 1540.55 Q2299.95 1544.09 2303.56 1544.09 Q2307.19 1544.09 2309 1540.55 Q2310.83 1536.98 2310.83 1529.87 Q2310.83 1522.75 2309 1519.2 Q2307.19 1515.64 2303.56 1515.64 M2303.56 1511.93 Q2309.37 1511.93 2312.42 1516.54 Q2315.5 1521.12 2315.5 1529.87 Q2315.5 1538.6 2312.42 1543.21 Q2309.37 1547.79 2303.56 1547.79 Q2297.75 1547.79 2294.67 1543.21 Q2291.61 1538.6 2291.61 1529.87 Q2291.61 1521.12 2294.67 1516.54 Q2297.75 1511.93 2303.56 1511.93 Z\" fill=\"#000000\" fill-rule=\"evenodd\" fill-opacity=\"1\" /><polyline clip-path=\"url(#clip922)\" style=\"stroke:#000000; stroke-width:2; stroke-opacity:0.1; fill:none\" points=\"\n",
       "  171.552,1445.72 2352.76,1445.72 \n",
       "  \"/>\n",
       "<polyline clip-path=\"url(#clip922)\" style=\"stroke:#000000; stroke-width:2; stroke-opacity:0.1; fill:none\" points=\"\n",
       "  171.552,1119.51 2352.76,1119.51 \n",
       "  \"/>\n",
       "<polyline clip-path=\"url(#clip922)\" style=\"stroke:#000000; stroke-width:2; stroke-opacity:0.1; fill:none\" points=\"\n",
       "  171.552,793.298 2352.76,793.298 \n",
       "  \"/>\n",
       "<polyline clip-path=\"url(#clip922)\" style=\"stroke:#000000; stroke-width:2; stroke-opacity:0.1; fill:none\" points=\"\n",
       "  171.552,467.089 2352.76,467.089 \n",
       "  \"/>\n",
       "<polyline clip-path=\"url(#clip922)\" style=\"stroke:#000000; stroke-width:2; stroke-opacity:0.1; fill:none\" points=\"\n",
       "  171.552,140.88 2352.76,140.88 \n",
       "  \"/>\n",
       "<polyline clip-path=\"url(#clip920)\" style=\"stroke:#000000; stroke-width:4; stroke-opacity:1; fill:none\" points=\"\n",
       "  171.552,1486.45 171.552,47.2441 \n",
       "  \"/>\n",
       "<polyline clip-path=\"url(#clip920)\" style=\"stroke:#000000; stroke-width:4; stroke-opacity:1; fill:none\" points=\"\n",
       "  171.552,1445.72 197.726,1445.72 \n",
       "  \"/>\n",
       "<polyline clip-path=\"url(#clip920)\" style=\"stroke:#000000; stroke-width:4; stroke-opacity:1; fill:none\" points=\"\n",
       "  171.552,1119.51 197.726,1119.51 \n",
       "  \"/>\n",
       "<polyline clip-path=\"url(#clip920)\" style=\"stroke:#000000; stroke-width:4; stroke-opacity:1; fill:none\" points=\"\n",
       "  171.552,793.298 197.726,793.298 \n",
       "  \"/>\n",
       "<polyline clip-path=\"url(#clip920)\" style=\"stroke:#000000; stroke-width:4; stroke-opacity:1; fill:none\" points=\"\n",
       "  171.552,467.089 197.726,467.089 \n",
       "  \"/>\n",
       "<polyline clip-path=\"url(#clip920)\" style=\"stroke:#000000; stroke-width:4; stroke-opacity:1; fill:none\" points=\"\n",
       "  171.552,140.88 197.726,140.88 \n",
       "  \"/>\n",
       "<path clip-path=\"url(#clip920)\" d=\"M 0 0 M51.6634 1459.06 L59.3023 1459.06 L59.3023 1432.69 L50.9921 1434.36 L50.9921 1430.1 L59.256 1428.44 L63.9319 1428.44 L63.9319 1459.06 L71.5707 1459.06 L71.5707 1463 L51.6634 1463 L51.6634 1459.06 Z\" fill=\"#000000\" fill-rule=\"evenodd\" fill-opacity=\"1\" /><path clip-path=\"url(#clip920)\" d=\"M 0 0 M76.6401 1457.12 L81.5244 1457.12 L81.5244 1463 L76.6401 1463 L76.6401 1457.12 Z\" fill=\"#000000\" fill-rule=\"evenodd\" fill-opacity=\"1\" /><path clip-path=\"url(#clip920)\" d=\"M 0 0 M96.5937 1431.51 Q92.9826 1431.51 91.1539 1435.08 Q89.3484 1438.62 89.3484 1445.75 Q89.3484 1452.86 91.1539 1456.42 Q92.9826 1459.96 96.5937 1459.96 Q100.228 1459.96 102.034 1456.42 Q103.862 1452.86 103.862 1445.75 Q103.862 1438.62 102.034 1435.08 Q100.228 1431.51 96.5937 1431.51 M96.5937 1427.81 Q102.404 1427.81 105.459 1432.42 Q108.538 1437 108.538 1445.75 Q108.538 1454.48 105.459 1459.08 Q102.404 1463.67 96.5937 1463.67 Q90.7836 1463.67 87.7049 1459.08 Q84.6494 1454.48 84.6494 1445.75 Q84.6494 1437 87.7049 1432.42 Q90.7836 1427.81 96.5937 1427.81 Z\" fill=\"#000000\" fill-rule=\"evenodd\" fill-opacity=\"1\" /><path clip-path=\"url(#clip920)\" d=\"M 0 0 M123.607 1431.51 Q119.996 1431.51 118.168 1435.08 Q116.362 1438.62 116.362 1445.75 Q116.362 1452.86 118.168 1456.42 Q119.996 1459.96 123.607 1459.96 Q127.242 1459.96 129.047 1456.42 Q130.876 1452.86 130.876 1445.75 Q130.876 1438.62 129.047 1435.08 Q127.242 1431.51 123.607 1431.51 M123.607 1427.81 Q129.418 1427.81 132.473 1432.42 Q135.552 1437 135.552 1445.75 Q135.552 1454.48 132.473 1459.08 Q129.418 1463.67 123.607 1463.67 Q117.797 1463.67 114.719 1459.08 Q111.663 1454.48 111.663 1445.75 Q111.663 1437 114.719 1432.42 Q117.797 1427.81 123.607 1427.81 Z\" fill=\"#000000\" fill-rule=\"evenodd\" fill-opacity=\"1\" /><path clip-path=\"url(#clip920)\" d=\"M 0 0 M52.6588 1132.85 L60.2976 1132.85 L60.2976 1106.49 L51.9875 1108.15 L51.9875 1103.89 L60.2513 1102.23 L64.9272 1102.23 L64.9272 1132.85 L72.5661 1132.85 L72.5661 1136.79 L52.6588 1136.79 L52.6588 1132.85 Z\" fill=\"#000000\" fill-rule=\"evenodd\" fill-opacity=\"1\" /><path clip-path=\"url(#clip920)\" d=\"M 0 0 M77.6355 1130.91 L82.5197 1130.91 L82.5197 1136.79 L77.6355 1136.79 L77.6355 1130.91 Z\" fill=\"#000000\" fill-rule=\"evenodd\" fill-opacity=\"1\" /><path clip-path=\"url(#clip920)\" d=\"M 0 0 M97.5891 1105.31 Q93.978 1105.31 92.1493 1108.87 Q90.3438 1112.41 90.3438 1119.54 Q90.3438 1126.65 92.1493 1130.21 Q93.978 1133.75 97.5891 1133.75 Q101.223 1133.75 103.029 1130.21 Q104.858 1126.65 104.858 1119.54 Q104.858 1112.41 103.029 1108.87 Q101.223 1105.31 97.5891 1105.31 M97.5891 1101.6 Q103.399 1101.6 106.455 1106.21 Q109.533 1110.79 109.533 1119.54 Q109.533 1128.27 106.455 1132.87 Q103.399 1137.46 97.5891 1137.46 Q91.7789 1137.46 88.7003 1132.87 Q85.6447 1128.27 85.6447 1119.54 Q85.6447 1110.79 88.7003 1106.21 Q91.7789 1101.6 97.5891 1101.6 Z\" fill=\"#000000\" fill-rule=\"evenodd\" fill-opacity=\"1\" /><path clip-path=\"url(#clip920)\" d=\"M 0 0 M114.649 1102.23 L133.006 1102.23 L133.006 1106.16 L118.932 1106.16 L118.932 1114.63 Q119.95 1114.29 120.969 1114.12 Q121.987 1113.94 123.006 1113.94 Q128.793 1113.94 132.172 1117.11 Q135.552 1120.28 135.552 1125.7 Q135.552 1131.28 132.08 1134.38 Q128.607 1137.46 122.288 1137.46 Q120.112 1137.46 117.844 1137.09 Q115.598 1136.72 113.191 1135.98 L113.191 1131.28 Q115.274 1132.41 117.496 1132.97 Q119.719 1133.52 122.195 1133.52 Q126.2 1133.52 128.538 1131.42 Q130.876 1129.31 130.876 1125.7 Q130.876 1122.09 128.538 1119.98 Q126.2 1117.87 122.195 1117.87 Q120.32 1117.87 118.445 1118.29 Q116.594 1118.71 114.649 1119.59 L114.649 1102.23 Z\" fill=\"#000000\" fill-rule=\"evenodd\" fill-opacity=\"1\" /><path clip-path=\"url(#clip920)\" d=\"M 0 0 M52.8903 806.643 L60.5291 806.643 L60.5291 780.277 L52.219 781.944 L52.219 777.685 L60.4828 776.018 L65.1587 776.018 L65.1587 806.643 L72.7976 806.643 L72.7976 810.578 L52.8903 810.578 L52.8903 806.643 Z\" fill=\"#000000\" fill-rule=\"evenodd\" fill-opacity=\"1\" /><path clip-path=\"url(#clip920)\" d=\"M 0 0 M77.867 804.698 L82.7512 804.698 L82.7512 810.578 L77.867 810.578 L77.867 804.698 Z\" fill=\"#000000\" fill-rule=\"evenodd\" fill-opacity=\"1\" /><path clip-path=\"url(#clip920)\" d=\"M 0 0 M88.6308 806.643 L96.2697 806.643 L96.2697 780.277 L87.9595 781.944 L87.9595 777.685 L96.2234 776.018 L100.899 776.018 L100.899 806.643 L108.538 806.643 L108.538 810.578 L88.6308 810.578 L88.6308 806.643 Z\" fill=\"#000000\" fill-rule=\"evenodd\" fill-opacity=\"1\" /><path clip-path=\"url(#clip920)\" d=\"M 0 0 M123.607 779.097 Q119.996 779.097 118.168 782.662 Q116.362 786.203 116.362 793.333 Q116.362 800.439 118.168 804.004 Q119.996 807.546 123.607 807.546 Q127.242 807.546 129.047 804.004 Q130.876 800.439 130.876 793.333 Q130.876 786.203 129.047 782.662 Q127.242 779.097 123.607 779.097 M123.607 775.393 Q129.418 775.393 132.473 780 Q135.552 784.583 135.552 793.333 Q135.552 802.06 132.473 806.666 Q129.418 811.249 123.607 811.249 Q117.797 811.249 114.719 806.666 Q111.663 802.06 111.663 793.333 Q111.663 784.583 114.719 780 Q117.797 775.393 123.607 775.393 Z\" fill=\"#000000\" fill-rule=\"evenodd\" fill-opacity=\"1\" /><path clip-path=\"url(#clip920)\" d=\"M 0 0 M53.8856 480.434 L61.5245 480.434 L61.5245 454.069 L53.2143 455.735 L53.2143 451.476 L61.4782 449.809 L66.1541 449.809 L66.1541 480.434 L73.7929 480.434 L73.7929 484.369 L53.8856 484.369 L53.8856 480.434 Z\" fill=\"#000000\" fill-rule=\"evenodd\" fill-opacity=\"1\" /><path clip-path=\"url(#clip920)\" d=\"M 0 0 M78.8623 478.49 L83.7466 478.49 L83.7466 484.369 L78.8623 484.369 L78.8623 478.49 Z\" fill=\"#000000\" fill-rule=\"evenodd\" fill-opacity=\"1\" /><path clip-path=\"url(#clip920)\" d=\"M 0 0 M89.6262 480.434 L97.265 480.434 L97.265 454.069 L88.9549 455.735 L88.9549 451.476 L97.2187 449.809 L101.895 449.809 L101.895 480.434 L109.533 480.434 L109.533 484.369 L89.6262 484.369 L89.6262 480.434 Z\" fill=\"#000000\" fill-rule=\"evenodd\" fill-opacity=\"1\" /><path clip-path=\"url(#clip920)\" d=\"M 0 0 M114.649 449.809 L133.006 449.809 L133.006 453.744 L118.932 453.744 L118.932 462.217 Q119.95 461.869 120.969 461.707 Q121.987 461.522 123.006 461.522 Q128.793 461.522 132.172 464.693 Q135.552 467.865 135.552 473.281 Q135.552 478.86 132.08 481.962 Q128.607 485.041 122.288 485.041 Q120.112 485.041 117.844 484.67 Q115.598 484.3 113.191 483.559 L113.191 478.86 Q115.274 479.994 117.496 480.55 Q119.719 481.105 122.195 481.105 Q126.2 481.105 128.538 478.999 Q130.876 476.892 130.876 473.281 Q130.876 469.67 128.538 467.564 Q126.2 465.457 122.195 465.457 Q120.32 465.457 118.445 465.874 Q116.594 466.291 114.649 467.17 L114.649 449.809 Z\" fill=\"#000000\" fill-rule=\"evenodd\" fill-opacity=\"1\" /><path clip-path=\"url(#clip920)\" d=\"M 0 0 M53.2606 154.225 L60.8995 154.225 L60.8995 127.86 L52.5893 129.526 L52.5893 125.267 L60.8532 123.6 L65.5291 123.6 L65.5291 154.225 L73.1679 154.225 L73.1679 158.16 L53.2606 158.16 L53.2606 154.225 Z\" fill=\"#000000\" fill-rule=\"evenodd\" fill-opacity=\"1\" /><path clip-path=\"url(#clip920)\" d=\"M 0 0 M78.2374 152.281 L83.1216 152.281 L83.1216 158.16 L78.2374 158.16 L78.2374 152.281 Z\" fill=\"#000000\" fill-rule=\"evenodd\" fill-opacity=\"1\" /><path clip-path=\"url(#clip920)\" d=\"M 0 0 M92.2188 154.225 L108.538 154.225 L108.538 158.16 L86.5938 158.16 L86.5938 154.225 Q89.2558 151.471 93.8391 146.841 Q98.4456 142.188 99.6261 140.846 Q101.871 138.323 102.751 136.587 Q103.654 134.827 103.654 133.137 Q103.654 130.383 101.709 128.647 Q99.7882 126.911 96.6863 126.911 Q94.4873 126.911 92.0336 127.675 Q89.603 128.438 86.8253 129.989 L86.8253 125.267 Q89.6493 124.133 92.103 123.554 Q94.5567 122.975 96.5937 122.975 Q101.964 122.975 105.159 125.661 Q108.353 128.346 108.353 132.837 Q108.353 134.966 107.543 136.887 Q106.756 138.786 104.649 141.378 Q104.071 142.049 100.969 145.267 Q97.8669 148.461 92.2188 154.225 Z\" fill=\"#000000\" fill-rule=\"evenodd\" fill-opacity=\"1\" /><path clip-path=\"url(#clip920)\" d=\"M 0 0 M123.607 126.679 Q119.996 126.679 118.168 130.244 Q116.362 133.786 116.362 140.915 Q116.362 148.022 118.168 151.586 Q119.996 155.128 123.607 155.128 Q127.242 155.128 129.047 151.586 Q130.876 148.022 130.876 140.915 Q130.876 133.786 129.047 130.244 Q127.242 126.679 123.607 126.679 M123.607 122.975 Q129.418 122.975 132.473 127.582 Q135.552 132.165 135.552 140.915 Q135.552 149.642 132.473 154.248 Q129.418 158.832 123.607 158.832 Q117.797 158.832 114.719 154.248 Q111.663 149.642 111.663 140.915 Q111.663 132.165 114.719 127.582 Q117.797 122.975 123.607 122.975 Z\" fill=\"#000000\" fill-rule=\"evenodd\" fill-opacity=\"1\" /><polyline clip-path=\"url(#clip922)\" style=\"stroke:#009af9; stroke-width:4; stroke-opacity:1; fill:none\" points=\"\n",
       "  233.284,1445.72 341.586,1380.47 449.888,1314.58 558.19,1248.03 666.492,1180.81 774.794,1112.92 883.097,1044.35 991.399,975.092 1099.7,905.144 1208,834.496 \n",
       "  1316.3,763.143 1424.61,691.075 1532.91,618.287 1641.21,544.771 1749.51,470.52 1857.82,395.526 1966.12,319.782 2074.42,243.281 2182.72,166.015 2291.02,87.9763 \n",
       "  \n",
       "  \"/>\n",
       "<path clip-path=\"url(#clip920)\" d=\"\n",
       "M1986.67 216.178 L2280.05 216.178 L2280.05 95.2176 L1986.67 95.2176  Z\n",
       "  \" fill=\"#ffffff\" fill-rule=\"evenodd\" fill-opacity=\"1\"/>\n",
       "<polyline clip-path=\"url(#clip920)\" style=\"stroke:#000000; stroke-width:4; stroke-opacity:1; fill:none\" points=\"\n",
       "  1986.67,216.178 2280.05,216.178 2280.05,95.2176 1986.67,95.2176 1986.67,216.178 \n",
       "  \"/>\n",
       "<polyline clip-path=\"url(#clip920)\" style=\"stroke:#009af9; stroke-width:4; stroke-opacity:1; fill:none\" points=\"\n",
       "  2010.91,155.698 2156.32,155.698 \n",
       "  \"/>\n",
       "<path clip-path=\"url(#clip920)\" d=\"M 0 0 M2194.4 175.385 Q2192.6 180.015 2190.88 181.427 Q2189.17 182.839 2186.3 182.839 L2182.9 182.839 L2182.9 179.274 L2185.4 179.274 Q2187.16 179.274 2188.13 178.44 Q2189.1 177.607 2190.28 174.505 L2191.05 172.561 L2180.56 147.052 L2185.07 147.052 L2193.18 167.329 L2201.28 147.052 L2205.79 147.052 L2194.4 175.385 Z\" fill=\"#000000\" fill-rule=\"evenodd\" fill-opacity=\"1\" /><path clip-path=\"url(#clip920)\" d=\"M 0 0 M2211.67 169.042 L2219.31 169.042 L2219.31 142.677 L2211 144.343 L2211 140.084 L2219.26 138.418 L2223.94 138.418 L2223.94 169.042 L2231.58 169.042 L2231.58 172.978 L2211.67 172.978 L2211.67 169.042 Z\" fill=\"#000000\" fill-rule=\"evenodd\" fill-opacity=\"1\" /></svg>\n"
      ]
     },
     "execution_count": 29,
     "metadata": {},
     "output_type": "execute_result"
    }
   ],
   "source": [
    "T = 20\n",
    "\n",
    "I = zeros(T)\n",
    "I[1] = I₀\n",
    "\n",
    "for n in 1:T-1\n",
    "    I[n+1] = λ * I[n]\n",
    "#     @show n, I[n]\n",
    "end\n",
    "\n",
    "plot(I)"
   ]
  },
  {
   "cell_type": "markdown",
   "metadata": {},
   "source": [
    "## Functions"
   ]
  },
  {
   "cell_type": "code",
   "execution_count": 35,
   "metadata": {},
   "outputs": [
    {
     "data": {
      "text/plain": [
       "run_infection (generic function with 2 methods)"
      ]
     },
     "execution_count": 35,
     "metadata": {},
     "output_type": "execute_result"
    }
   ],
   "source": [
    "function run_infection(T=20)    \n",
    "    I = zeros(T)\n",
    "    I[1] = I₀\n",
    "    \n",
    "    for n in 1:T-1\n",
    "        I[n+1] = λ * I[n]\n",
    "    end\n",
    "    \n",
    "    return(I)\n",
    "end"
   ]
  },
  {
   "cell_type": "code",
   "execution_count": 36,
   "metadata": {},
   "outputs": [
    {
     "data": {
      "text/plain": [
       "20-element Vector{Float64}:\n",
       " 1.0\n",
       " 1.01\n",
       " 1.0201\n",
       " 1.030301\n",
       " 1.04060401\n",
       " 1.0510100501\n",
       " 1.061520150601\n",
       " 1.0721353521070098\n",
       " 1.08285670562808\n",
       " 1.0936852726843609\n",
       " 1.1046221254112045\n",
       " 1.1156683466653166\n",
       " 1.1268250301319698\n",
       " 1.1380932804332895\n",
       " 1.1494742132376223\n",
       " 1.1609689553699987\n",
       " 1.1725786449236986\n",
       " 1.1843044313729356\n",
       " 1.196147475686665\n",
       " 1.2081089504435316"
      ]
     },
     "execution_count": 36,
     "metadata": {},
     "output_type": "execute_result"
    }
   ],
   "source": [
    "run_infection()"
   ]
  },
  {
   "cell_type": "code",
   "execution_count": 34,
   "metadata": {},
   "outputs": [
    {
     "data": {
      "text/html": [
       "# 2 methods for generic function <b>run_infection</b>:<ul><li> run_infection() in Main at In[32]:1</li> <li> run_infection(T) in Main at In[32]:1</li> </ul>"
      ],
      "text/plain": [
       "# 2 methods for generic function \"run_infection\":\n",
       "[1] run_infection() in Main at In[32]:1\n",
       "[2] run_infection(T) in Main at In[32]:1"
      ]
     },
     "execution_count": 34,
     "metadata": {},
     "output_type": "execute_result"
    }
   ],
   "source": [
    "methods(run_infection)"
   ]
  },
  {
   "cell_type": "code",
   "execution_count": 37,
   "metadata": {},
   "outputs": [
    {
     "data": {
      "text/plain": [
       "10-element Vector{Float64}:\n",
       " 1.0\n",
       " 1.01\n",
       " 1.0201\n",
       " 1.030301\n",
       " 1.04060401\n",
       " 1.0510100501\n",
       " 1.061520150601\n",
       " 1.0721353521070098\n",
       " 1.08285670562808\n",
       " 1.0936852726843609"
      ]
     },
     "execution_count": 37,
     "metadata": {},
     "output_type": "execute_result"
    }
   ],
   "source": [
    "I_result = run_infection(10)"
   ]
  },
  {
   "cell_type": "code",
   "execution_count": 38,
   "metadata": {},
   "outputs": [
    {
     "data": {
      "image/svg+xml": [
       "<?xml version=\"1.0\" encoding=\"utf-8\"?>\n",
       "<svg xmlns=\"http://www.w3.org/2000/svg\" xmlns:xlink=\"http://www.w3.org/1999/xlink\" width=\"600\" height=\"400\" viewBox=\"0 0 2400 1600\">\n",
       "<defs>\n",
       "  <clipPath id=\"clip000\">\n",
       "    <rect x=\"0\" y=\"0\" width=\"2400\" height=\"1600\"/>\n",
       "  </clipPath>\n",
       "</defs>\n",
       "<path clip-path=\"url(#clip000)\" d=\"\n",
       "M0 1600 L2400 1600 L2400 0 L0 0  Z\n",
       "  \" fill=\"#ffffff\" fill-rule=\"evenodd\" fill-opacity=\"1\"/>\n",
       "<defs>\n",
       "  <clipPath id=\"clip001\">\n",
       "    <rect x=\"480\" y=\"0\" width=\"1681\" height=\"1600\"/>\n",
       "  </clipPath>\n",
       "</defs>\n",
       "<path clip-path=\"url(#clip000)\" d=\"\n",
       "M172.038 1486.45 L2352.76 1486.45 L2352.76 47.2441 L172.038 47.2441  Z\n",
       "  \" fill=\"#ffffff\" fill-rule=\"evenodd\" fill-opacity=\"1\"/>\n",
       "<defs>\n",
       "  <clipPath id=\"clip002\">\n",
       "    <rect x=\"172\" y=\"47\" width=\"2182\" height=\"1440\"/>\n",
       "  </clipPath>\n",
       "</defs>\n",
       "<polyline clip-path=\"url(#clip002)\" style=\"stroke:#000000; stroke-width:2; stroke-opacity:0.1; fill:none\" points=\"\n",
       "  462.343,1486.45 462.343,47.2441 \n",
       "  \"/>\n",
       "<polyline clip-path=\"url(#clip002)\" style=\"stroke:#000000; stroke-width:2; stroke-opacity:0.1; fill:none\" points=\"\n",
       "  919.517,1486.45 919.517,47.2441 \n",
       "  \"/>\n",
       "<polyline clip-path=\"url(#clip002)\" style=\"stroke:#000000; stroke-width:2; stroke-opacity:0.1; fill:none\" points=\"\n",
       "  1376.69,1486.45 1376.69,47.2441 \n",
       "  \"/>\n",
       "<polyline clip-path=\"url(#clip002)\" style=\"stroke:#000000; stroke-width:2; stroke-opacity:0.1; fill:none\" points=\"\n",
       "  1833.86,1486.45 1833.86,47.2441 \n",
       "  \"/>\n",
       "<polyline clip-path=\"url(#clip002)\" style=\"stroke:#000000; stroke-width:2; stroke-opacity:0.1; fill:none\" points=\"\n",
       "  2291.04,1486.45 2291.04,47.2441 \n",
       "  \"/>\n",
       "<polyline clip-path=\"url(#clip000)\" style=\"stroke:#000000; stroke-width:4; stroke-opacity:1; fill:none\" points=\"\n",
       "  172.038,1486.45 2352.76,1486.45 \n",
       "  \"/>\n",
       "<polyline clip-path=\"url(#clip000)\" style=\"stroke:#000000; stroke-width:4; stroke-opacity:1; fill:none\" points=\"\n",
       "  462.343,1486.45 462.343,1469.18 \n",
       "  \"/>\n",
       "<polyline clip-path=\"url(#clip000)\" style=\"stroke:#000000; stroke-width:4; stroke-opacity:1; fill:none\" points=\"\n",
       "  919.517,1486.45 919.517,1469.18 \n",
       "  \"/>\n",
       "<polyline clip-path=\"url(#clip000)\" style=\"stroke:#000000; stroke-width:4; stroke-opacity:1; fill:none\" points=\"\n",
       "  1376.69,1486.45 1376.69,1469.18 \n",
       "  \"/>\n",
       "<polyline clip-path=\"url(#clip000)\" style=\"stroke:#000000; stroke-width:4; stroke-opacity:1; fill:none\" points=\"\n",
       "  1833.86,1486.45 1833.86,1469.18 \n",
       "  \"/>\n",
       "<polyline clip-path=\"url(#clip000)\" style=\"stroke:#000000; stroke-width:4; stroke-opacity:1; fill:none\" points=\"\n",
       "  2291.04,1486.45 2291.04,1469.18 \n",
       "  \"/>\n",
       "<path clip-path=\"url(#clip000)\" d=\"M 0 0 M456.996 1543.18 L473.315 1543.18 L473.315 1547.12 L451.371 1547.12 L451.371 1543.18 Q454.033 1540.43 458.616 1535.8 Q463.223 1531.15 464.403 1529.81 Q466.649 1527.28 467.528 1525.55 Q468.431 1523.79 468.431 1522.1 Q468.431 1519.34 466.487 1517.61 Q464.565 1515.87 461.464 1515.87 Q459.264 1515.87 456.811 1516.63 Q454.38 1517.4 451.603 1518.95 L451.603 1514.23 Q454.427 1513.09 456.88 1512.51 Q459.334 1511.93 461.371 1511.93 Q466.741 1511.93 469.936 1514.62 Q473.13 1517.31 473.13 1521.8 Q473.13 1523.93 472.32 1525.85 Q471.533 1527.74 469.426 1530.34 Q468.848 1531.01 465.746 1534.23 Q462.644 1537.42 456.996 1543.18 Z\" fill=\"#000000\" fill-rule=\"evenodd\" fill-opacity=\"1\" /><path clip-path=\"url(#clip000)\" d=\"M 0 0 M922.526 1516.63 L910.721 1535.08 L922.526 1535.08 L922.526 1516.63 M921.299 1512.56 L927.179 1512.56 L927.179 1535.08 L932.109 1535.08 L932.109 1538.97 L927.179 1538.97 L927.179 1547.12 L922.526 1547.12 L922.526 1538.97 L906.924 1538.97 L906.924 1534.46 L921.299 1512.56 Z\" fill=\"#000000\" fill-rule=\"evenodd\" fill-opacity=\"1\" /><path clip-path=\"url(#clip000)\" d=\"M 0 0 M1377.1 1527.98 Q1373.95 1527.98 1372.1 1530.13 Q1370.27 1532.28 1370.27 1536.03 Q1370.27 1539.76 1372.1 1541.93 Q1373.95 1544.09 1377.1 1544.09 Q1380.24 1544.09 1382.07 1541.93 Q1383.92 1539.76 1383.92 1536.03 Q1383.92 1532.28 1382.07 1530.13 Q1380.24 1527.98 1377.1 1527.98 M1386.38 1513.32 L1386.38 1517.58 Q1384.62 1516.75 1382.81 1516.31 Q1381.03 1515.87 1379.27 1515.87 Q1374.64 1515.87 1372.19 1519 Q1369.76 1522.12 1369.41 1528.44 Q1370.78 1526.43 1372.84 1525.36 Q1374.9 1524.27 1377.37 1524.27 Q1382.58 1524.27 1385.59 1527.44 Q1388.62 1530.59 1388.62 1536.03 Q1388.62 1541.36 1385.48 1544.57 Q1382.33 1547.79 1377.1 1547.79 Q1371.1 1547.79 1367.93 1543.21 Q1364.76 1538.6 1364.76 1529.87 Q1364.76 1521.68 1368.65 1516.82 Q1372.54 1511.93 1379.09 1511.93 Q1380.85 1511.93 1382.63 1512.28 Q1384.43 1512.63 1386.38 1513.32 Z\" fill=\"#000000\" fill-rule=\"evenodd\" fill-opacity=\"1\" /><path clip-path=\"url(#clip000)\" d=\"M 0 0 M1833.86 1530.71 Q1830.53 1530.71 1828.61 1532.49 Q1826.71 1534.27 1826.71 1537.4 Q1826.71 1540.52 1828.61 1542.31 Q1830.53 1544.09 1833.86 1544.09 Q1837.2 1544.09 1839.12 1542.31 Q1841.04 1540.5 1841.04 1537.4 Q1841.04 1534.27 1839.12 1532.49 Q1837.22 1530.71 1833.86 1530.71 M1829.19 1528.72 Q1826.18 1527.98 1824.49 1525.92 Q1822.82 1523.86 1822.82 1520.89 Q1822.82 1516.75 1825.76 1514.34 Q1828.73 1511.93 1833.86 1511.93 Q1839.03 1511.93 1841.97 1514.34 Q1844.91 1516.75 1844.91 1520.89 Q1844.91 1523.86 1843.22 1525.92 Q1841.55 1527.98 1838.56 1528.72 Q1841.94 1529.5 1843.82 1531.8 Q1845.72 1534.09 1845.72 1537.4 Q1845.72 1542.42 1842.64 1545.11 Q1839.58 1547.79 1833.86 1547.79 Q1828.15 1547.79 1825.07 1545.11 Q1822.01 1542.42 1822.01 1537.4 Q1822.01 1534.09 1823.91 1531.8 Q1825.81 1529.5 1829.19 1528.72 M1827.48 1521.33 Q1827.48 1524.02 1829.14 1525.52 Q1830.83 1527.03 1833.86 1527.03 Q1836.87 1527.03 1838.56 1525.52 Q1840.28 1524.02 1840.28 1521.33 Q1840.28 1518.65 1838.56 1517.14 Q1836.87 1515.64 1833.86 1515.64 Q1830.83 1515.64 1829.14 1517.14 Q1827.48 1518.65 1827.48 1521.33 Z\" fill=\"#000000\" fill-rule=\"evenodd\" fill-opacity=\"1\" /><path clip-path=\"url(#clip000)\" d=\"M 0 0 M2267.91 1543.18 L2275.55 1543.18 L2275.55 1516.82 L2267.24 1518.49 L2267.24 1514.23 L2275.51 1512.56 L2280.18 1512.56 L2280.18 1543.18 L2287.82 1543.18 L2287.82 1547.12 L2267.91 1547.12 L2267.91 1543.18 Z\" fill=\"#000000\" fill-rule=\"evenodd\" fill-opacity=\"1\" /><path clip-path=\"url(#clip000)\" d=\"M 0 0 M2302.89 1515.64 Q2299.28 1515.64 2297.45 1519.2 Q2295.64 1522.75 2295.64 1529.87 Q2295.64 1536.98 2297.45 1540.55 Q2299.28 1544.09 2302.89 1544.09 Q2306.52 1544.09 2308.33 1540.55 Q2310.16 1536.98 2310.16 1529.87 Q2310.16 1522.75 2308.33 1519.2 Q2306.52 1515.64 2302.89 1515.64 M2302.89 1511.93 Q2308.7 1511.93 2311.75 1516.54 Q2314.83 1521.12 2314.83 1529.87 Q2314.83 1538.6 2311.75 1543.21 Q2308.7 1547.79 2302.89 1547.79 Q2297.08 1547.79 2294 1543.21 Q2290.94 1538.6 2290.94 1529.87 Q2290.94 1521.12 2294 1516.54 Q2297.08 1511.93 2302.89 1511.93 Z\" fill=\"#000000\" fill-rule=\"evenodd\" fill-opacity=\"1\" /><polyline clip-path=\"url(#clip002)\" style=\"stroke:#000000; stroke-width:2; stroke-opacity:0.1; fill:none\" points=\"\n",
       "  172.038,1445.72 2352.76,1445.72 \n",
       "  \"/>\n",
       "<polyline clip-path=\"url(#clip002)\" style=\"stroke:#000000; stroke-width:2; stroke-opacity:0.1; fill:none\" points=\"\n",
       "  172.038,1155.86 2352.76,1155.86 \n",
       "  \"/>\n",
       "<polyline clip-path=\"url(#clip002)\" style=\"stroke:#000000; stroke-width:2; stroke-opacity:0.1; fill:none\" points=\"\n",
       "  172.038,866.013 2352.76,866.013 \n",
       "  \"/>\n",
       "<polyline clip-path=\"url(#clip002)\" style=\"stroke:#000000; stroke-width:2; stroke-opacity:0.1; fill:none\" points=\"\n",
       "  172.038,576.162 2352.76,576.162 \n",
       "  \"/>\n",
       "<polyline clip-path=\"url(#clip002)\" style=\"stroke:#000000; stroke-width:2; stroke-opacity:0.1; fill:none\" points=\"\n",
       "  172.038,286.311 2352.76,286.311 \n",
       "  \"/>\n",
       "<polyline clip-path=\"url(#clip000)\" style=\"stroke:#000000; stroke-width:4; stroke-opacity:1; fill:none\" points=\"\n",
       "  172.038,1486.45 172.038,47.2441 \n",
       "  \"/>\n",
       "<polyline clip-path=\"url(#clip000)\" style=\"stroke:#000000; stroke-width:4; stroke-opacity:1; fill:none\" points=\"\n",
       "  172.038,1445.72 198.207,1445.72 \n",
       "  \"/>\n",
       "<polyline clip-path=\"url(#clip000)\" style=\"stroke:#000000; stroke-width:4; stroke-opacity:1; fill:none\" points=\"\n",
       "  172.038,1155.86 198.207,1155.86 \n",
       "  \"/>\n",
       "<polyline clip-path=\"url(#clip000)\" style=\"stroke:#000000; stroke-width:4; stroke-opacity:1; fill:none\" points=\"\n",
       "  172.038,866.013 198.207,866.013 \n",
       "  \"/>\n",
       "<polyline clip-path=\"url(#clip000)\" style=\"stroke:#000000; stroke-width:4; stroke-opacity:1; fill:none\" points=\"\n",
       "  172.038,576.162 198.207,576.162 \n",
       "  \"/>\n",
       "<polyline clip-path=\"url(#clip000)\" style=\"stroke:#000000; stroke-width:4; stroke-opacity:1; fill:none\" points=\"\n",
       "  172.038,286.311 198.207,286.311 \n",
       "  \"/>\n",
       "<path clip-path=\"url(#clip000)\" d=\"M 0 0 M52.1495 1459.06 L59.7884 1459.06 L59.7884 1432.69 L51.4782 1434.36 L51.4782 1430.1 L59.7421 1428.44 L64.418 1428.44 L64.418 1459.06 L72.0568 1459.06 L72.0568 1463 L52.1495 1463 L52.1495 1459.06 Z\" fill=\"#000000\" fill-rule=\"evenodd\" fill-opacity=\"1\" /><path clip-path=\"url(#clip000)\" d=\"M 0 0 M77.1262 1457.12 L82.0105 1457.12 L82.0105 1463 L77.1262 1463 L77.1262 1457.12 Z\" fill=\"#000000\" fill-rule=\"evenodd\" fill-opacity=\"1\" /><path clip-path=\"url(#clip000)\" d=\"M 0 0 M97.0798 1431.51 Q93.4688 1431.51 91.6401 1435.08 Q89.8345 1438.62 89.8345 1445.75 Q89.8345 1452.86 91.6401 1456.42 Q93.4688 1459.96 97.0798 1459.96 Q100.714 1459.96 102.52 1456.42 Q104.348 1452.86 104.348 1445.75 Q104.348 1438.62 102.52 1435.08 Q100.714 1431.51 97.0798 1431.51 M97.0798 1427.81 Q102.89 1427.81 105.946 1432.42 Q109.024 1437 109.024 1445.75 Q109.024 1454.48 105.946 1459.08 Q102.89 1463.67 97.0798 1463.67 Q91.2697 1463.67 88.191 1459.08 Q85.1355 1454.48 85.1355 1445.75 Q85.1355 1437 88.191 1432.42 Q91.2697 1427.81 97.0798 1427.81 Z\" fill=\"#000000\" fill-rule=\"evenodd\" fill-opacity=\"1\" /><path clip-path=\"url(#clip000)\" d=\"M 0 0 M124.094 1431.51 Q120.482 1431.51 118.654 1435.08 Q116.848 1438.62 116.848 1445.75 Q116.848 1452.86 118.654 1456.42 Q120.482 1459.96 124.094 1459.96 Q127.728 1459.96 129.533 1456.42 Q131.362 1452.86 131.362 1445.75 Q131.362 1438.62 129.533 1435.08 Q127.728 1431.51 124.094 1431.51 M124.094 1427.81 Q129.904 1427.81 132.959 1432.42 Q136.038 1437 136.038 1445.75 Q136.038 1454.48 132.959 1459.08 Q129.904 1463.67 124.094 1463.67 Q118.283 1463.67 115.205 1459.08 Q112.149 1454.48 112.149 1445.75 Q112.149 1437 115.205 1432.42 Q118.283 1427.81 124.094 1427.81 Z\" fill=\"#000000\" fill-rule=\"evenodd\" fill-opacity=\"1\" /><path clip-path=\"url(#clip000)\" d=\"M 0 0 M53.7467 1169.21 L61.3856 1169.21 L61.3856 1142.84 L53.0754 1144.51 L53.0754 1140.25 L61.3393 1138.58 L66.0152 1138.58 L66.0152 1169.21 L73.654 1169.21 L73.654 1173.14 L53.7467 1173.14 L53.7467 1169.21 Z\" fill=\"#000000\" fill-rule=\"evenodd\" fill-opacity=\"1\" /><path clip-path=\"url(#clip000)\" d=\"M 0 0 M78.7235 1167.26 L83.6077 1167.26 L83.6077 1173.14 L78.7235 1173.14 L78.7235 1167.26 Z\" fill=\"#000000\" fill-rule=\"evenodd\" fill-opacity=\"1\" /><path clip-path=\"url(#clip000)\" d=\"M 0 0 M98.6771 1141.66 Q95.066 1141.66 93.2373 1145.23 Q91.4317 1148.77 91.4317 1155.9 Q91.4317 1163.01 93.2373 1166.57 Q95.066 1170.11 98.6771 1170.11 Q102.311 1170.11 104.117 1166.57 Q105.946 1163.01 105.946 1155.9 Q105.946 1148.77 104.117 1145.23 Q102.311 1141.66 98.6771 1141.66 M98.6771 1137.96 Q104.487 1137.96 107.543 1142.57 Q110.621 1147.15 110.621 1155.9 Q110.621 1164.63 107.543 1169.23 Q104.487 1173.82 98.6771 1173.82 Q92.8669 1173.82 89.7882 1169.23 Q86.7327 1164.63 86.7327 1155.9 Q86.7327 1147.15 89.7882 1142.57 Q92.8669 1137.96 98.6771 1137.96 Z\" fill=\"#000000\" fill-rule=\"evenodd\" fill-opacity=\"1\" /><path clip-path=\"url(#clip000)\" d=\"M 0 0 M119.719 1169.21 L136.038 1169.21 L136.038 1173.14 L114.094 1173.14 L114.094 1169.21 Q116.756 1166.45 121.339 1161.83 Q125.945 1157.17 127.126 1155.83 Q129.371 1153.31 130.251 1151.57 Q131.154 1149.81 131.154 1148.12 Q131.154 1145.37 129.209 1143.63 Q127.288 1141.89 124.186 1141.89 Q121.987 1141.89 119.533 1142.66 Q117.103 1143.42 114.325 1144.97 L114.325 1140.25 Q117.149 1139.12 119.603 1138.54 Q122.057 1137.96 124.094 1137.96 Q129.464 1137.96 132.658 1140.64 Q135.853 1143.33 135.853 1147.82 Q135.853 1149.95 135.043 1151.87 Q134.256 1153.77 132.149 1156.36 Q131.57 1157.03 128.469 1160.25 Q125.367 1163.45 119.719 1169.21 Z\" fill=\"#000000\" fill-rule=\"evenodd\" fill-opacity=\"1\" /><path clip-path=\"url(#clip000)\" d=\"M 0 0 M51.6634 879.358 L59.3023 879.358 L59.3023 852.993 L50.9921 854.659 L50.9921 850.4 L59.256 848.733 L63.9319 848.733 L63.9319 879.358 L71.5707 879.358 L71.5707 883.293 L51.6634 883.293 L51.6634 879.358 Z\" fill=\"#000000\" fill-rule=\"evenodd\" fill-opacity=\"1\" /><path clip-path=\"url(#clip000)\" d=\"M 0 0 M76.6401 877.414 L81.5244 877.414 L81.5244 883.293 L76.6401 883.293 L76.6401 877.414 Z\" fill=\"#000000\" fill-rule=\"evenodd\" fill-opacity=\"1\" /><path clip-path=\"url(#clip000)\" d=\"M 0 0 M96.5937 851.812 Q92.9826 851.812 91.1539 855.377 Q89.3484 858.918 89.3484 866.048 Q89.3484 873.154 91.1539 876.719 Q92.9826 880.261 96.5937 880.261 Q100.228 880.261 102.034 876.719 Q103.862 873.154 103.862 866.048 Q103.862 858.918 102.034 855.377 Q100.228 851.812 96.5937 851.812 M96.5937 848.108 Q102.404 848.108 105.459 852.715 Q108.538 857.298 108.538 866.048 Q108.538 874.775 105.459 879.381 Q102.404 883.965 96.5937 883.965 Q90.7836 883.965 87.7049 879.381 Q84.6494 874.775 84.6494 866.048 Q84.6494 857.298 87.7049 852.715 Q90.7836 848.108 96.5937 848.108 Z\" fill=\"#000000\" fill-rule=\"evenodd\" fill-opacity=\"1\" /><path clip-path=\"url(#clip000)\" d=\"M 0 0 M126.455 852.807 L114.649 871.256 L126.455 871.256 L126.455 852.807 M125.228 848.733 L131.107 848.733 L131.107 871.256 L136.038 871.256 L136.038 875.145 L131.107 875.145 L131.107 883.293 L126.455 883.293 L126.455 875.145 L110.853 875.145 L110.853 870.631 L125.228 848.733 Z\" fill=\"#000000\" fill-rule=\"evenodd\" fill-opacity=\"1\" /><path clip-path=\"url(#clip000)\" d=\"M 0 0 M51.9875 589.507 L59.6263 589.507 L59.6263 563.141 L51.3162 564.808 L51.3162 560.549 L59.58 558.882 L64.2559 558.882 L64.2559 589.507 L71.8948 589.507 L71.8948 593.442 L51.9875 593.442 L51.9875 589.507 Z\" fill=\"#000000\" fill-rule=\"evenodd\" fill-opacity=\"1\" /><path clip-path=\"url(#clip000)\" d=\"M 0 0 M76.9642 587.563 L81.8484 587.563 L81.8484 593.442 L76.9642 593.442 L76.9642 587.563 Z\" fill=\"#000000\" fill-rule=\"evenodd\" fill-opacity=\"1\" /><path clip-path=\"url(#clip000)\" d=\"M 0 0 M96.9178 561.961 Q93.3067 561.961 91.478 565.526 Q89.6725 569.067 89.6725 576.197 Q89.6725 583.303 91.478 586.868 Q93.3067 590.41 96.9178 590.41 Q100.552 590.41 102.358 586.868 Q104.186 583.303 104.186 576.197 Q104.186 569.067 102.358 565.526 Q100.552 561.961 96.9178 561.961 M96.9178 558.257 Q102.728 558.257 105.783 562.864 Q108.862 567.447 108.862 576.197 Q108.862 584.924 105.783 589.53 Q102.728 594.113 96.9178 594.113 Q91.1077 594.113 88.029 589.53 Q84.9734 584.924 84.9734 576.197 Q84.9734 567.447 88.029 562.864 Q91.1077 558.257 96.9178 558.257 Z\" fill=\"#000000\" fill-rule=\"evenodd\" fill-opacity=\"1\" /><path clip-path=\"url(#clip000)\" d=\"M 0 0 M124.51 574.299 Q121.362 574.299 119.51 576.451 Q117.682 578.604 117.682 582.354 Q117.682 586.081 119.51 588.257 Q121.362 590.41 124.51 590.41 Q127.658 590.41 129.487 588.257 Q131.339 586.081 131.339 582.354 Q131.339 578.604 129.487 576.451 Q127.658 574.299 124.51 574.299 M133.793 559.646 L133.793 563.905 Q132.033 563.072 130.228 562.632 Q128.445 562.192 126.686 562.192 Q122.057 562.192 119.603 565.317 Q117.172 568.442 116.825 574.762 Q118.191 572.748 120.251 571.683 Q122.311 570.595 124.788 570.595 Q129.996 570.595 133.006 573.766 Q136.038 576.914 136.038 582.354 Q136.038 587.678 132.89 590.896 Q129.742 594.113 124.51 594.113 Q118.515 594.113 115.344 589.53 Q112.172 584.924 112.172 576.197 Q112.172 568.002 116.061 563.141 Q119.95 558.257 126.501 558.257 Q128.26 558.257 130.043 558.604 Q131.848 558.952 133.793 559.646 Z\" fill=\"#000000\" fill-rule=\"evenodd\" fill-opacity=\"1\" /><path clip-path=\"url(#clip000)\" d=\"M 0 0 M52.2421 299.656 L59.881 299.656 L59.881 273.29 L51.5708 274.957 L51.5708 270.698 L59.8347 269.031 L64.5106 269.031 L64.5106 299.656 L72.1494 299.656 L72.1494 303.591 L52.2421 303.591 L52.2421 299.656 Z\" fill=\"#000000\" fill-rule=\"evenodd\" fill-opacity=\"1\" /><path clip-path=\"url(#clip000)\" d=\"M 0 0 M77.2188 297.711 L82.1031 297.711 L82.1031 303.591 L77.2188 303.591 L77.2188 297.711 Z\" fill=\"#000000\" fill-rule=\"evenodd\" fill-opacity=\"1\" /><path clip-path=\"url(#clip000)\" d=\"M 0 0 M97.1724 272.11 Q93.5613 272.11 91.7326 275.674 Q89.9271 279.216 89.9271 286.346 Q89.9271 293.452 91.7326 297.017 Q93.5613 300.559 97.1724 300.559 Q100.807 300.559 102.612 297.017 Q104.441 293.452 104.441 286.346 Q104.441 279.216 102.612 275.674 Q100.807 272.11 97.1724 272.11 M97.1724 268.406 Q102.983 268.406 106.038 273.012 Q109.117 277.596 109.117 286.346 Q109.117 295.072 106.038 299.679 Q102.983 304.262 97.1724 304.262 Q91.3623 304.262 88.2836 299.679 Q85.2281 295.072 85.2281 286.346 Q85.2281 277.596 88.2836 273.012 Q91.3623 268.406 97.1724 268.406 Z\" fill=\"#000000\" fill-rule=\"evenodd\" fill-opacity=\"1\" /><path clip-path=\"url(#clip000)\" d=\"M 0 0 M124.186 287.179 Q120.853 287.179 118.932 288.961 Q117.033 290.744 117.033 293.869 Q117.033 296.994 118.932 298.776 Q120.853 300.559 124.186 300.559 Q127.519 300.559 129.441 298.776 Q131.362 296.971 131.362 293.869 Q131.362 290.744 129.441 288.961 Q127.543 287.179 124.186 287.179 M119.51 285.188 Q116.501 284.447 114.811 282.387 Q113.145 280.327 113.145 277.364 Q113.145 273.221 116.084 270.813 Q119.047 268.406 124.186 268.406 Q129.348 268.406 132.288 270.813 Q135.228 273.221 135.228 277.364 Q135.228 280.327 133.538 282.387 Q131.871 284.447 128.885 285.188 Q132.265 285.975 134.14 288.267 Q136.038 290.559 136.038 293.869 Q136.038 298.892 132.959 301.577 Q129.904 304.262 124.186 304.262 Q118.469 304.262 115.39 301.577 Q112.334 298.892 112.334 293.869 Q112.334 290.559 114.233 288.267 Q116.131 285.975 119.51 285.188 M117.797 277.804 Q117.797 280.489 119.464 281.994 Q121.154 283.498 124.186 283.498 Q127.195 283.498 128.885 281.994 Q130.598 280.489 130.598 277.804 Q130.598 275.119 128.885 273.614 Q127.195 272.11 124.186 272.11 Q121.154 272.11 119.464 273.614 Q117.797 275.119 117.797 277.804 Z\" fill=\"#000000\" fill-rule=\"evenodd\" fill-opacity=\"1\" /><polyline clip-path=\"url(#clip002)\" style=\"stroke:#009af9; stroke-width:4; stroke-opacity:1; fill:none\" points=\"\n",
       "  233.756,1445.72 462.343,1300.79 690.93,1154.42 919.517,1006.58 1148.1,857.26 1376.69,706.449 1605.28,554.131 1833.86,400.29 2062.45,244.91 2291.04,87.9763 \n",
       "  \n",
       "  \"/>\n",
       "<path clip-path=\"url(#clip000)\" d=\"\n",
       "M1986.75 216.178 L2280.07 216.178 L2280.07 95.2176 L1986.75 95.2176  Z\n",
       "  \" fill=\"#ffffff\" fill-rule=\"evenodd\" fill-opacity=\"1\"/>\n",
       "<polyline clip-path=\"url(#clip000)\" style=\"stroke:#000000; stroke-width:4; stroke-opacity:1; fill:none\" points=\"\n",
       "  1986.75,216.178 2280.07,216.178 2280.07,95.2176 1986.75,95.2176 1986.75,216.178 \n",
       "  \"/>\n",
       "<polyline clip-path=\"url(#clip000)\" style=\"stroke:#009af9; stroke-width:4; stroke-opacity:1; fill:none\" points=\"\n",
       "  2010.98,155.698 2156.36,155.698 \n",
       "  \"/>\n",
       "<path clip-path=\"url(#clip000)\" d=\"M 0 0 M2194.43 175.385 Q2192.62 180.015 2190.91 181.427 Q2189.2 182.839 2186.33 182.839 L2182.92 182.839 L2182.92 179.274 L2185.42 179.274 Q2187.18 179.274 2188.16 178.44 Q2189.13 177.607 2190.31 174.505 L2191.07 172.561 L2180.59 147.052 L2185.1 147.052 L2193.2 167.329 L2201.3 147.052 L2205.82 147.052 L2194.43 175.385 Z\" fill=\"#000000\" fill-rule=\"evenodd\" fill-opacity=\"1\" /><path clip-path=\"url(#clip000)\" d=\"M 0 0 M2211.7 169.042 L2219.34 169.042 L2219.34 142.677 L2211.03 144.343 L2211.03 140.084 L2219.29 138.418 L2223.97 138.418 L2223.97 169.042 L2231.6 169.042 L2231.6 172.978 L2211.7 172.978 L2211.7 169.042 Z\" fill=\"#000000\" fill-rule=\"evenodd\" fill-opacity=\"1\" /></svg>\n"
      ]
     },
     "execution_count": 38,
     "metadata": {},
     "output_type": "execute_result"
    }
   ],
   "source": [
    "plot(I_result)"
   ]
  },
  {
   "cell_type": "code",
   "execution_count": 39,
   "metadata": {},
   "outputs": [
    {
     "data": {
      "image/svg+xml": [
       "<?xml version=\"1.0\" encoding=\"utf-8\"?>\n",
       "<svg xmlns=\"http://www.w3.org/2000/svg\" xmlns:xlink=\"http://www.w3.org/1999/xlink\" width=\"600\" height=\"400\" viewBox=\"0 0 2400 1600\">\n",
       "<defs>\n",
       "  <clipPath id=\"clip040\">\n",
       "    <rect x=\"0\" y=\"0\" width=\"2400\" height=\"1600\"/>\n",
       "  </clipPath>\n",
       "</defs>\n",
       "<path clip-path=\"url(#clip040)\" d=\"\n",
       "M0 1600 L2400 1600 L2400 0 L0 0  Z\n",
       "  \" fill=\"#ffffff\" fill-rule=\"evenodd\" fill-opacity=\"1\"/>\n",
       "<defs>\n",
       "  <clipPath id=\"clip041\">\n",
       "    <rect x=\"480\" y=\"0\" width=\"1681\" height=\"1600\"/>\n",
       "  </clipPath>\n",
       "</defs>\n",
       "<path clip-path=\"url(#clip040)\" d=\"\n",
       "M171.552 1486.45 L2352.76 1486.45 L2352.76 47.2441 L171.552 47.2441  Z\n",
       "  \" fill=\"#ffffff\" fill-rule=\"evenodd\" fill-opacity=\"1\"/>\n",
       "<defs>\n",
       "  <clipPath id=\"clip042\">\n",
       "    <rect x=\"171\" y=\"47\" width=\"2182\" height=\"1440\"/>\n",
       "  </clipPath>\n",
       "</defs>\n",
       "<polyline clip-path=\"url(#clip042)\" style=\"stroke:#000000; stroke-width:2; stroke-opacity:0.1; fill:none\" points=\"\n",
       "  666.492,1486.45 666.492,47.2441 \n",
       "  \"/>\n",
       "<polyline clip-path=\"url(#clip042)\" style=\"stroke:#000000; stroke-width:2; stroke-opacity:0.1; fill:none\" points=\"\n",
       "  1208,1486.45 1208,47.2441 \n",
       "  \"/>\n",
       "<polyline clip-path=\"url(#clip042)\" style=\"stroke:#000000; stroke-width:2; stroke-opacity:0.1; fill:none\" points=\"\n",
       "  1749.51,1486.45 1749.51,47.2441 \n",
       "  \"/>\n",
       "<polyline clip-path=\"url(#clip042)\" style=\"stroke:#000000; stroke-width:2; stroke-opacity:0.1; fill:none\" points=\"\n",
       "  2291.02,1486.45 2291.02,47.2441 \n",
       "  \"/>\n",
       "<polyline clip-path=\"url(#clip040)\" style=\"stroke:#000000; stroke-width:4; stroke-opacity:1; fill:none\" points=\"\n",
       "  171.552,1486.45 2352.76,1486.45 \n",
       "  \"/>\n",
       "<polyline clip-path=\"url(#clip040)\" style=\"stroke:#000000; stroke-width:4; stroke-opacity:1; fill:none\" points=\"\n",
       "  666.492,1486.45 666.492,1469.18 \n",
       "  \"/>\n",
       "<polyline clip-path=\"url(#clip040)\" style=\"stroke:#000000; stroke-width:4; stroke-opacity:1; fill:none\" points=\"\n",
       "  1208,1486.45 1208,1469.18 \n",
       "  \"/>\n",
       "<polyline clip-path=\"url(#clip040)\" style=\"stroke:#000000; stroke-width:4; stroke-opacity:1; fill:none\" points=\"\n",
       "  1749.51,1486.45 1749.51,1469.18 \n",
       "  \"/>\n",
       "<polyline clip-path=\"url(#clip040)\" style=\"stroke:#000000; stroke-width:4; stroke-opacity:1; fill:none\" points=\"\n",
       "  2291.02,1486.45 2291.02,1469.18 \n",
       "  \"/>\n",
       "<path clip-path=\"url(#clip040)\" d=\"M 0 0 M656.77 1512.56 L675.127 1512.56 L675.127 1516.5 L661.053 1516.5 L661.053 1524.97 Q662.071 1524.62 663.09 1524.46 Q664.108 1524.27 665.127 1524.27 Q670.914 1524.27 674.293 1527.44 Q677.673 1530.62 677.673 1536.03 Q677.673 1541.61 674.201 1544.71 Q670.728 1547.79 664.409 1547.79 Q662.233 1547.79 659.965 1547.42 Q657.719 1547.05 655.312 1546.31 L655.312 1541.61 Q657.395 1542.74 659.617 1543.3 Q661.84 1543.86 664.316 1543.86 Q668.321 1543.86 670.659 1541.75 Q672.997 1539.64 672.997 1536.03 Q672.997 1532.42 670.659 1530.31 Q668.321 1528.21 664.316 1528.21 Q662.441 1528.21 660.567 1528.62 Q658.715 1529.04 656.77 1529.92 L656.77 1512.56 Z\" fill=\"#000000\" fill-rule=\"evenodd\" fill-opacity=\"1\" /><path clip-path=\"url(#clip040)\" d=\"M 0 0 M1184.88 1543.18 L1192.52 1543.18 L1192.52 1516.82 L1184.21 1518.49 L1184.21 1514.23 L1192.47 1512.56 L1197.15 1512.56 L1197.15 1543.18 L1204.79 1543.18 L1204.79 1547.12 L1184.88 1547.12 L1184.88 1543.18 Z\" fill=\"#000000\" fill-rule=\"evenodd\" fill-opacity=\"1\" /><path clip-path=\"url(#clip040)\" d=\"M 0 0 M1219.85 1515.64 Q1216.24 1515.64 1214.41 1519.2 Q1212.61 1522.75 1212.61 1529.87 Q1212.61 1536.98 1214.41 1540.55 Q1216.24 1544.09 1219.85 1544.09 Q1223.49 1544.09 1225.29 1540.55 Q1227.12 1536.98 1227.12 1529.87 Q1227.12 1522.75 1225.29 1519.2 Q1223.49 1515.64 1219.85 1515.64 M1219.85 1511.93 Q1225.66 1511.93 1228.72 1516.54 Q1231.8 1521.12 1231.8 1529.87 Q1231.8 1538.6 1228.72 1543.21 Q1225.66 1547.79 1219.85 1547.79 Q1214.04 1547.79 1210.97 1543.21 Q1207.91 1538.6 1207.91 1529.87 Q1207.91 1521.12 1210.97 1516.54 Q1214.04 1511.93 1219.85 1511.93 Z\" fill=\"#000000\" fill-rule=\"evenodd\" fill-opacity=\"1\" /><path clip-path=\"url(#clip040)\" d=\"M 0 0 M1726.89 1543.18 L1734.52 1543.18 L1734.52 1516.82 L1726.21 1518.49 L1726.21 1514.23 L1734.48 1512.56 L1739.15 1512.56 L1739.15 1543.18 L1746.79 1543.18 L1746.79 1547.12 L1726.89 1547.12 L1726.89 1543.18 Z\" fill=\"#000000\" fill-rule=\"evenodd\" fill-opacity=\"1\" /><path clip-path=\"url(#clip040)\" d=\"M 0 0 M1751.91 1512.56 L1770.27 1512.56 L1770.27 1516.5 L1756.19 1516.5 L1756.19 1524.97 Q1757.21 1524.62 1758.23 1524.46 Q1759.25 1524.27 1760.27 1524.27 Q1766.05 1524.27 1769.43 1527.44 Q1772.81 1530.62 1772.81 1536.03 Q1772.81 1541.61 1769.34 1544.71 Q1765.87 1547.79 1759.55 1547.79 Q1757.37 1547.79 1755.1 1547.42 Q1752.86 1547.05 1750.45 1546.31 L1750.45 1541.61 Q1752.53 1542.74 1754.76 1543.3 Q1756.98 1543.86 1759.46 1543.86 Q1763.46 1543.86 1765.8 1541.75 Q1768.14 1539.64 1768.14 1536.03 Q1768.14 1532.42 1765.8 1530.31 Q1763.46 1528.21 1759.46 1528.21 Q1757.58 1528.21 1755.71 1528.62 Q1753.85 1529.04 1751.91 1529.92 L1751.91 1512.56 Z\" fill=\"#000000\" fill-rule=\"evenodd\" fill-opacity=\"1\" /><path clip-path=\"url(#clip040)\" d=\"M 0 0 M2272.17 1543.18 L2288.49 1543.18 L2288.49 1547.12 L2266.54 1547.12 L2266.54 1543.18 Q2269.21 1540.43 2273.79 1535.8 Q2278.4 1531.15 2279.58 1529.81 Q2281.82 1527.28 2282.7 1525.55 Q2283.6 1523.79 2283.6 1522.1 Q2283.6 1519.34 2281.66 1517.61 Q2279.74 1515.87 2276.64 1515.87 Q2274.44 1515.87 2271.98 1516.63 Q2269.55 1517.4 2266.78 1518.95 L2266.78 1514.23 Q2269.6 1513.09 2272.05 1512.51 Q2274.51 1511.93 2276.54 1511.93 Q2281.91 1511.93 2285.11 1514.62 Q2288.3 1517.31 2288.3 1521.8 Q2288.3 1523.93 2287.49 1525.85 Q2286.71 1527.74 2284.6 1530.34 Q2284.02 1531.01 2280.92 1534.23 Q2277.82 1537.42 2272.17 1543.18 Z\" fill=\"#000000\" fill-rule=\"evenodd\" fill-opacity=\"1\" /><path clip-path=\"url(#clip040)\" d=\"M 0 0 M2303.56 1515.64 Q2299.95 1515.64 2298.12 1519.2 Q2296.31 1522.75 2296.31 1529.87 Q2296.31 1536.98 2298.12 1540.55 Q2299.95 1544.09 2303.56 1544.09 Q2307.19 1544.09 2309 1540.55 Q2310.83 1536.98 2310.83 1529.87 Q2310.83 1522.75 2309 1519.2 Q2307.19 1515.64 2303.56 1515.64 M2303.56 1511.93 Q2309.37 1511.93 2312.42 1516.54 Q2315.5 1521.12 2315.5 1529.87 Q2315.5 1538.6 2312.42 1543.21 Q2309.37 1547.79 2303.56 1547.79 Q2297.75 1547.79 2294.67 1543.21 Q2291.61 1538.6 2291.61 1529.87 Q2291.61 1521.12 2294.67 1516.54 Q2297.75 1511.93 2303.56 1511.93 Z\" fill=\"#000000\" fill-rule=\"evenodd\" fill-opacity=\"1\" /><polyline clip-path=\"url(#clip042)\" style=\"stroke:#000000; stroke-width:2; stroke-opacity:0.1; fill:none\" points=\"\n",
       "  171.552,1445.72 2352.76,1445.72 \n",
       "  \"/>\n",
       "<polyline clip-path=\"url(#clip042)\" style=\"stroke:#000000; stroke-width:2; stroke-opacity:0.1; fill:none\" points=\"\n",
       "  171.552,1119.51 2352.76,1119.51 \n",
       "  \"/>\n",
       "<polyline clip-path=\"url(#clip042)\" style=\"stroke:#000000; stroke-width:2; stroke-opacity:0.1; fill:none\" points=\"\n",
       "  171.552,793.298 2352.76,793.298 \n",
       "  \"/>\n",
       "<polyline clip-path=\"url(#clip042)\" style=\"stroke:#000000; stroke-width:2; stroke-opacity:0.1; fill:none\" points=\"\n",
       "  171.552,467.089 2352.76,467.089 \n",
       "  \"/>\n",
       "<polyline clip-path=\"url(#clip042)\" style=\"stroke:#000000; stroke-width:2; stroke-opacity:0.1; fill:none\" points=\"\n",
       "  171.552,140.88 2352.76,140.88 \n",
       "  \"/>\n",
       "<polyline clip-path=\"url(#clip040)\" style=\"stroke:#000000; stroke-width:4; stroke-opacity:1; fill:none\" points=\"\n",
       "  171.552,1486.45 171.552,47.2441 \n",
       "  \"/>\n",
       "<polyline clip-path=\"url(#clip040)\" style=\"stroke:#000000; stroke-width:4; stroke-opacity:1; fill:none\" points=\"\n",
       "  171.552,1445.72 197.726,1445.72 \n",
       "  \"/>\n",
       "<polyline clip-path=\"url(#clip040)\" style=\"stroke:#000000; stroke-width:4; stroke-opacity:1; fill:none\" points=\"\n",
       "  171.552,1119.51 197.726,1119.51 \n",
       "  \"/>\n",
       "<polyline clip-path=\"url(#clip040)\" style=\"stroke:#000000; stroke-width:4; stroke-opacity:1; fill:none\" points=\"\n",
       "  171.552,793.298 197.726,793.298 \n",
       "  \"/>\n",
       "<polyline clip-path=\"url(#clip040)\" style=\"stroke:#000000; stroke-width:4; stroke-opacity:1; fill:none\" points=\"\n",
       "  171.552,467.089 197.726,467.089 \n",
       "  \"/>\n",
       "<polyline clip-path=\"url(#clip040)\" style=\"stroke:#000000; stroke-width:4; stroke-opacity:1; fill:none\" points=\"\n",
       "  171.552,140.88 197.726,140.88 \n",
       "  \"/>\n",
       "<path clip-path=\"url(#clip040)\" d=\"M 0 0 M51.6634 1459.06 L59.3023 1459.06 L59.3023 1432.69 L50.9921 1434.36 L50.9921 1430.1 L59.256 1428.44 L63.9319 1428.44 L63.9319 1459.06 L71.5707 1459.06 L71.5707 1463 L51.6634 1463 L51.6634 1459.06 Z\" fill=\"#000000\" fill-rule=\"evenodd\" fill-opacity=\"1\" /><path clip-path=\"url(#clip040)\" d=\"M 0 0 M76.6401 1457.12 L81.5244 1457.12 L81.5244 1463 L76.6401 1463 L76.6401 1457.12 Z\" fill=\"#000000\" fill-rule=\"evenodd\" fill-opacity=\"1\" /><path clip-path=\"url(#clip040)\" d=\"M 0 0 M96.5937 1431.51 Q92.9826 1431.51 91.1539 1435.08 Q89.3484 1438.62 89.3484 1445.75 Q89.3484 1452.86 91.1539 1456.42 Q92.9826 1459.96 96.5937 1459.96 Q100.228 1459.96 102.034 1456.42 Q103.862 1452.86 103.862 1445.75 Q103.862 1438.62 102.034 1435.08 Q100.228 1431.51 96.5937 1431.51 M96.5937 1427.81 Q102.404 1427.81 105.459 1432.42 Q108.538 1437 108.538 1445.75 Q108.538 1454.48 105.459 1459.08 Q102.404 1463.67 96.5937 1463.67 Q90.7836 1463.67 87.7049 1459.08 Q84.6494 1454.48 84.6494 1445.75 Q84.6494 1437 87.7049 1432.42 Q90.7836 1427.81 96.5937 1427.81 Z\" fill=\"#000000\" fill-rule=\"evenodd\" fill-opacity=\"1\" /><path clip-path=\"url(#clip040)\" d=\"M 0 0 M123.607 1431.51 Q119.996 1431.51 118.168 1435.08 Q116.362 1438.62 116.362 1445.75 Q116.362 1452.86 118.168 1456.42 Q119.996 1459.96 123.607 1459.96 Q127.242 1459.96 129.047 1456.42 Q130.876 1452.86 130.876 1445.75 Q130.876 1438.62 129.047 1435.08 Q127.242 1431.51 123.607 1431.51 M123.607 1427.81 Q129.418 1427.81 132.473 1432.42 Q135.552 1437 135.552 1445.75 Q135.552 1454.48 132.473 1459.08 Q129.418 1463.67 123.607 1463.67 Q117.797 1463.67 114.719 1459.08 Q111.663 1454.48 111.663 1445.75 Q111.663 1437 114.719 1432.42 Q117.797 1427.81 123.607 1427.81 Z\" fill=\"#000000\" fill-rule=\"evenodd\" fill-opacity=\"1\" /><path clip-path=\"url(#clip040)\" d=\"M 0 0 M52.6588 1132.85 L60.2976 1132.85 L60.2976 1106.49 L51.9875 1108.15 L51.9875 1103.89 L60.2513 1102.23 L64.9272 1102.23 L64.9272 1132.85 L72.5661 1132.85 L72.5661 1136.79 L52.6588 1136.79 L52.6588 1132.85 Z\" fill=\"#000000\" fill-rule=\"evenodd\" fill-opacity=\"1\" /><path clip-path=\"url(#clip040)\" d=\"M 0 0 M77.6355 1130.91 L82.5197 1130.91 L82.5197 1136.79 L77.6355 1136.79 L77.6355 1130.91 Z\" fill=\"#000000\" fill-rule=\"evenodd\" fill-opacity=\"1\" /><path clip-path=\"url(#clip040)\" d=\"M 0 0 M97.5891 1105.31 Q93.978 1105.31 92.1493 1108.87 Q90.3438 1112.41 90.3438 1119.54 Q90.3438 1126.65 92.1493 1130.21 Q93.978 1133.75 97.5891 1133.75 Q101.223 1133.75 103.029 1130.21 Q104.858 1126.65 104.858 1119.54 Q104.858 1112.41 103.029 1108.87 Q101.223 1105.31 97.5891 1105.31 M97.5891 1101.6 Q103.399 1101.6 106.455 1106.21 Q109.533 1110.79 109.533 1119.54 Q109.533 1128.27 106.455 1132.87 Q103.399 1137.46 97.5891 1137.46 Q91.7789 1137.46 88.7003 1132.87 Q85.6447 1128.27 85.6447 1119.54 Q85.6447 1110.79 88.7003 1106.21 Q91.7789 1101.6 97.5891 1101.6 Z\" fill=\"#000000\" fill-rule=\"evenodd\" fill-opacity=\"1\" /><path clip-path=\"url(#clip040)\" d=\"M 0 0 M114.649 1102.23 L133.006 1102.23 L133.006 1106.16 L118.932 1106.16 L118.932 1114.63 Q119.95 1114.29 120.969 1114.12 Q121.987 1113.94 123.006 1113.94 Q128.793 1113.94 132.172 1117.11 Q135.552 1120.28 135.552 1125.7 Q135.552 1131.28 132.08 1134.38 Q128.607 1137.46 122.288 1137.46 Q120.112 1137.46 117.844 1137.09 Q115.598 1136.72 113.191 1135.98 L113.191 1131.28 Q115.274 1132.41 117.496 1132.97 Q119.719 1133.52 122.195 1133.52 Q126.2 1133.52 128.538 1131.42 Q130.876 1129.31 130.876 1125.7 Q130.876 1122.09 128.538 1119.98 Q126.2 1117.87 122.195 1117.87 Q120.32 1117.87 118.445 1118.29 Q116.594 1118.71 114.649 1119.59 L114.649 1102.23 Z\" fill=\"#000000\" fill-rule=\"evenodd\" fill-opacity=\"1\" /><path clip-path=\"url(#clip040)\" d=\"M 0 0 M52.8903 806.643 L60.5291 806.643 L60.5291 780.277 L52.219 781.944 L52.219 777.685 L60.4828 776.018 L65.1587 776.018 L65.1587 806.643 L72.7976 806.643 L72.7976 810.578 L52.8903 810.578 L52.8903 806.643 Z\" fill=\"#000000\" fill-rule=\"evenodd\" fill-opacity=\"1\" /><path clip-path=\"url(#clip040)\" d=\"M 0 0 M77.867 804.698 L82.7512 804.698 L82.7512 810.578 L77.867 810.578 L77.867 804.698 Z\" fill=\"#000000\" fill-rule=\"evenodd\" fill-opacity=\"1\" /><path clip-path=\"url(#clip040)\" d=\"M 0 0 M88.6308 806.643 L96.2697 806.643 L96.2697 780.277 L87.9595 781.944 L87.9595 777.685 L96.2234 776.018 L100.899 776.018 L100.899 806.643 L108.538 806.643 L108.538 810.578 L88.6308 810.578 L88.6308 806.643 Z\" fill=\"#000000\" fill-rule=\"evenodd\" fill-opacity=\"1\" /><path clip-path=\"url(#clip040)\" d=\"M 0 0 M123.607 779.097 Q119.996 779.097 118.168 782.662 Q116.362 786.203 116.362 793.333 Q116.362 800.439 118.168 804.004 Q119.996 807.546 123.607 807.546 Q127.242 807.546 129.047 804.004 Q130.876 800.439 130.876 793.333 Q130.876 786.203 129.047 782.662 Q127.242 779.097 123.607 779.097 M123.607 775.393 Q129.418 775.393 132.473 780 Q135.552 784.583 135.552 793.333 Q135.552 802.06 132.473 806.666 Q129.418 811.249 123.607 811.249 Q117.797 811.249 114.719 806.666 Q111.663 802.06 111.663 793.333 Q111.663 784.583 114.719 780 Q117.797 775.393 123.607 775.393 Z\" fill=\"#000000\" fill-rule=\"evenodd\" fill-opacity=\"1\" /><path clip-path=\"url(#clip040)\" d=\"M 0 0 M53.8856 480.434 L61.5245 480.434 L61.5245 454.069 L53.2143 455.735 L53.2143 451.476 L61.4782 449.809 L66.1541 449.809 L66.1541 480.434 L73.7929 480.434 L73.7929 484.369 L53.8856 484.369 L53.8856 480.434 Z\" fill=\"#000000\" fill-rule=\"evenodd\" fill-opacity=\"1\" /><path clip-path=\"url(#clip040)\" d=\"M 0 0 M78.8623 478.49 L83.7466 478.49 L83.7466 484.369 L78.8623 484.369 L78.8623 478.49 Z\" fill=\"#000000\" fill-rule=\"evenodd\" fill-opacity=\"1\" /><path clip-path=\"url(#clip040)\" d=\"M 0 0 M89.6262 480.434 L97.265 480.434 L97.265 454.069 L88.9549 455.735 L88.9549 451.476 L97.2187 449.809 L101.895 449.809 L101.895 480.434 L109.533 480.434 L109.533 484.369 L89.6262 484.369 L89.6262 480.434 Z\" fill=\"#000000\" fill-rule=\"evenodd\" fill-opacity=\"1\" /><path clip-path=\"url(#clip040)\" d=\"M 0 0 M114.649 449.809 L133.006 449.809 L133.006 453.744 L118.932 453.744 L118.932 462.217 Q119.95 461.869 120.969 461.707 Q121.987 461.522 123.006 461.522 Q128.793 461.522 132.172 464.693 Q135.552 467.865 135.552 473.281 Q135.552 478.86 132.08 481.962 Q128.607 485.041 122.288 485.041 Q120.112 485.041 117.844 484.67 Q115.598 484.3 113.191 483.559 L113.191 478.86 Q115.274 479.994 117.496 480.55 Q119.719 481.105 122.195 481.105 Q126.2 481.105 128.538 478.999 Q130.876 476.892 130.876 473.281 Q130.876 469.67 128.538 467.564 Q126.2 465.457 122.195 465.457 Q120.32 465.457 118.445 465.874 Q116.594 466.291 114.649 467.17 L114.649 449.809 Z\" fill=\"#000000\" fill-rule=\"evenodd\" fill-opacity=\"1\" /><path clip-path=\"url(#clip040)\" d=\"M 0 0 M53.2606 154.225 L60.8995 154.225 L60.8995 127.86 L52.5893 129.526 L52.5893 125.267 L60.8532 123.6 L65.5291 123.6 L65.5291 154.225 L73.1679 154.225 L73.1679 158.16 L53.2606 158.16 L53.2606 154.225 Z\" fill=\"#000000\" fill-rule=\"evenodd\" fill-opacity=\"1\" /><path clip-path=\"url(#clip040)\" d=\"M 0 0 M78.2374 152.281 L83.1216 152.281 L83.1216 158.16 L78.2374 158.16 L78.2374 152.281 Z\" fill=\"#000000\" fill-rule=\"evenodd\" fill-opacity=\"1\" /><path clip-path=\"url(#clip040)\" d=\"M 0 0 M92.2188 154.225 L108.538 154.225 L108.538 158.16 L86.5938 158.16 L86.5938 154.225 Q89.2558 151.471 93.8391 146.841 Q98.4456 142.188 99.6261 140.846 Q101.871 138.323 102.751 136.587 Q103.654 134.827 103.654 133.137 Q103.654 130.383 101.709 128.647 Q99.7882 126.911 96.6863 126.911 Q94.4873 126.911 92.0336 127.675 Q89.603 128.438 86.8253 129.989 L86.8253 125.267 Q89.6493 124.133 92.103 123.554 Q94.5567 122.975 96.5937 122.975 Q101.964 122.975 105.159 125.661 Q108.353 128.346 108.353 132.837 Q108.353 134.966 107.543 136.887 Q106.756 138.786 104.649 141.378 Q104.071 142.049 100.969 145.267 Q97.8669 148.461 92.2188 154.225 Z\" fill=\"#000000\" fill-rule=\"evenodd\" fill-opacity=\"1\" /><path clip-path=\"url(#clip040)\" d=\"M 0 0 M123.607 126.679 Q119.996 126.679 118.168 130.244 Q116.362 133.786 116.362 140.915 Q116.362 148.022 118.168 151.586 Q119.996 155.128 123.607 155.128 Q127.242 155.128 129.047 151.586 Q130.876 148.022 130.876 140.915 Q130.876 133.786 129.047 130.244 Q127.242 126.679 123.607 126.679 M123.607 122.975 Q129.418 122.975 132.473 127.582 Q135.552 132.165 135.552 140.915 Q135.552 149.642 132.473 154.248 Q129.418 158.832 123.607 158.832 Q117.797 158.832 114.719 154.248 Q111.663 149.642 111.663 140.915 Q111.663 132.165 114.719 127.582 Q117.797 122.975 123.607 122.975 Z\" fill=\"#000000\" fill-rule=\"evenodd\" fill-opacity=\"1\" /><polyline clip-path=\"url(#clip042)\" style=\"stroke:#009af9; stroke-width:4; stroke-opacity:1; fill:none\" points=\"\n",
       "  233.284,1445.72 341.586,1380.47 449.888,1314.58 558.19,1248.03 666.492,1180.81 774.794,1112.92 883.097,1044.35 991.399,975.092 1099.7,905.144 1208,834.496 \n",
       "  1316.3,763.143 1424.61,691.075 1532.91,618.287 1641.21,544.771 1749.51,470.52 1857.82,395.526 1966.12,319.782 2074.42,243.281 2182.72,166.015 2291.02,87.9763 \n",
       "  \n",
       "  \"/>\n",
       "<path clip-path=\"url(#clip042)\" d=\"M233.284 1461.72 L221.972 1457.03 L217.284 1445.72 L221.972 1434.4 L233.284 1429.72 L244.596 1434.4 L249.284 1445.72 L244.596 1457.03 Z\" fill=\"#009af9\" fill-rule=\"evenodd\" fill-opacity=\"1\" stroke=\"#000000\" stroke-opacity=\"1\" stroke-width=\"3.2\"/>\n",
       "<path clip-path=\"url(#clip042)\" d=\"M341.586 1396.47 L330.274 1391.79 L325.586 1380.47 L330.274 1369.16 L341.586 1364.47 L352.898 1369.16 L357.586 1380.47 L352.898 1391.79 Z\" fill=\"#009af9\" fill-rule=\"evenodd\" fill-opacity=\"1\" stroke=\"#000000\" stroke-opacity=\"1\" stroke-width=\"3.2\"/>\n",
       "<path clip-path=\"url(#clip042)\" d=\"M449.888 1330.58 L438.576 1325.89 L433.888 1314.58 L438.576 1303.27 L449.888 1298.58 L461.2 1303.27 L465.888 1314.58 L461.2 1325.89 Z\" fill=\"#009af9\" fill-rule=\"evenodd\" fill-opacity=\"1\" stroke=\"#000000\" stroke-opacity=\"1\" stroke-width=\"3.2\"/>\n",
       "<path clip-path=\"url(#clip042)\" d=\"M558.19 1264.03 L546.878 1259.34 L542.19 1248.03 L546.878 1236.71 L558.19 1232.03 L569.502 1236.71 L574.19 1248.03 L569.502 1259.34 Z\" fill=\"#009af9\" fill-rule=\"evenodd\" fill-opacity=\"1\" stroke=\"#000000\" stroke-opacity=\"1\" stroke-width=\"3.2\"/>\n",
       "<path clip-path=\"url(#clip042)\" d=\"M666.492 1196.81 L655.18 1192.12 L650.492 1180.81 L655.18 1169.5 L666.492 1164.81 L677.804 1169.5 L682.492 1180.81 L677.804 1192.12 Z\" fill=\"#009af9\" fill-rule=\"evenodd\" fill-opacity=\"1\" stroke=\"#000000\" stroke-opacity=\"1\" stroke-width=\"3.2\"/>\n",
       "<path clip-path=\"url(#clip042)\" d=\"M774.794 1128.92 L763.482 1124.23 L758.794 1112.92 L763.482 1101.61 L774.794 1096.92 L786.106 1101.61 L790.794 1112.92 L786.106 1124.23 Z\" fill=\"#009af9\" fill-rule=\"evenodd\" fill-opacity=\"1\" stroke=\"#000000\" stroke-opacity=\"1\" stroke-width=\"3.2\"/>\n",
       "<path clip-path=\"url(#clip042)\" d=\"M883.097 1060.35 L871.785 1055.66 L867.097 1044.35 L871.785 1033.04 L883.097 1028.35 L894.409 1033.04 L899.097 1044.35 L894.409 1055.66 Z\" fill=\"#009af9\" fill-rule=\"evenodd\" fill-opacity=\"1\" stroke=\"#000000\" stroke-opacity=\"1\" stroke-width=\"3.2\"/>\n",
       "<path clip-path=\"url(#clip042)\" d=\"M991.399 991.092 L980.087 986.404 L975.399 975.092 L980.087 963.78 L991.399 959.092 L1002.71 963.78 L1007.4 975.092 L1002.71 986.404 Z\" fill=\"#009af9\" fill-rule=\"evenodd\" fill-opacity=\"1\" stroke=\"#000000\" stroke-opacity=\"1\" stroke-width=\"3.2\"/>\n",
       "<path clip-path=\"url(#clip042)\" d=\"M1099.7 921.144 L1088.39 916.456 L1083.7 905.144 L1088.39 893.832 L1099.7 889.144 L1111.01 893.832 L1115.7 905.144 L1111.01 916.456 Z\" fill=\"#009af9\" fill-rule=\"evenodd\" fill-opacity=\"1\" stroke=\"#000000\" stroke-opacity=\"1\" stroke-width=\"3.2\"/>\n",
       "<path clip-path=\"url(#clip042)\" d=\"M1208 850.496 L1196.69 845.808 L1192 834.496 L1196.69 823.184 L1208 818.496 L1219.31 823.184 L1224 834.496 L1219.31 845.808 Z\" fill=\"#009af9\" fill-rule=\"evenodd\" fill-opacity=\"1\" stroke=\"#000000\" stroke-opacity=\"1\" stroke-width=\"3.2\"/>\n",
       "<path clip-path=\"url(#clip042)\" d=\"M1316.3 779.143 L1304.99 774.455 L1300.3 763.143 L1304.99 751.831 L1316.3 747.143 L1327.62 751.831 L1332.3 763.143 L1327.62 774.455 Z\" fill=\"#009af9\" fill-rule=\"evenodd\" fill-opacity=\"1\" stroke=\"#000000\" stroke-opacity=\"1\" stroke-width=\"3.2\"/>\n",
       "<path clip-path=\"url(#clip042)\" d=\"M1424.61 707.075 L1413.3 702.387 L1408.61 691.075 L1413.3 679.763 L1424.61 675.075 L1435.92 679.763 L1440.61 691.075 L1435.92 702.387 Z\" fill=\"#009af9\" fill-rule=\"evenodd\" fill-opacity=\"1\" stroke=\"#000000\" stroke-opacity=\"1\" stroke-width=\"3.2\"/>\n",
       "<path clip-path=\"url(#clip042)\" d=\"M1532.91 634.287 L1521.6 629.599 L1516.91 618.287 L1521.6 606.975 L1532.91 602.287 L1544.22 606.975 L1548.91 618.287 L1544.22 629.599 Z\" fill=\"#009af9\" fill-rule=\"evenodd\" fill-opacity=\"1\" stroke=\"#000000\" stroke-opacity=\"1\" stroke-width=\"3.2\"/>\n",
       "<path clip-path=\"url(#clip042)\" d=\"M1641.21 560.771 L1629.9 556.083 L1625.21 544.771 L1629.9 533.459 L1641.21 528.771 L1652.52 533.459 L1657.21 544.771 L1652.52 556.083 Z\" fill=\"#009af9\" fill-rule=\"evenodd\" fill-opacity=\"1\" stroke=\"#000000\" stroke-opacity=\"1\" stroke-width=\"3.2\"/>\n",
       "<path clip-path=\"url(#clip042)\" d=\"M1749.51 486.52 L1738.2 481.832 L1733.51 470.52 L1738.2 459.208 L1749.51 454.52 L1760.83 459.208 L1765.51 470.52 L1760.83 481.832 Z\" fill=\"#009af9\" fill-rule=\"evenodd\" fill-opacity=\"1\" stroke=\"#000000\" stroke-opacity=\"1\" stroke-width=\"3.2\"/>\n",
       "<path clip-path=\"url(#clip042)\" d=\"M1857.82 411.526 L1846.5 406.838 L1841.82 395.526 L1846.5 384.214 L1857.82 379.526 L1869.13 384.214 L1873.82 395.526 L1869.13 406.838 Z\" fill=\"#009af9\" fill-rule=\"evenodd\" fill-opacity=\"1\" stroke=\"#000000\" stroke-opacity=\"1\" stroke-width=\"3.2\"/>\n",
       "<path clip-path=\"url(#clip042)\" d=\"M1966.12 335.782 L1954.81 331.094 L1950.12 319.782 L1954.81 308.47 L1966.12 303.782 L1977.43 308.47 L1982.12 319.782 L1977.43 331.094 Z\" fill=\"#009af9\" fill-rule=\"evenodd\" fill-opacity=\"1\" stroke=\"#000000\" stroke-opacity=\"1\" stroke-width=\"3.2\"/>\n",
       "<path clip-path=\"url(#clip042)\" d=\"M2074.42 259.281 L2063.11 254.593 L2058.42 243.281 L2063.11 231.969 L2074.42 227.281 L2085.73 231.969 L2090.42 243.281 L2085.73 254.593 Z\" fill=\"#009af9\" fill-rule=\"evenodd\" fill-opacity=\"1\" stroke=\"#000000\" stroke-opacity=\"1\" stroke-width=\"3.2\"/>\n",
       "<path clip-path=\"url(#clip042)\" d=\"M2182.72 182.015 L2171.41 177.327 L2166.72 166.015 L2171.41 154.703 L2182.72 150.015 L2194.03 154.703 L2198.72 166.015 L2194.03 177.327 Z\" fill=\"#009af9\" fill-rule=\"evenodd\" fill-opacity=\"1\" stroke=\"#000000\" stroke-opacity=\"1\" stroke-width=\"3.2\"/>\n",
       "<path clip-path=\"url(#clip042)\" d=\"M2291.02 103.976 L2279.71 99.2883 L2275.02 87.9763 L2279.71 76.6643 L2291.02 71.9763 L2302.34 76.6643 L2307.02 87.9763 L2302.34 99.2883 Z\" fill=\"#009af9\" fill-rule=\"evenodd\" fill-opacity=\"1\" stroke=\"#000000\" stroke-opacity=\"1\" stroke-width=\"3.2\"/>\n",
       "<path clip-path=\"url(#clip040)\" d=\"\n",
       "M1986.67 216.178 L2280.05 216.178 L2280.05 95.2176 L1986.67 95.2176  Z\n",
       "  \" fill=\"#ffffff\" fill-rule=\"evenodd\" fill-opacity=\"1\"/>\n",
       "<polyline clip-path=\"url(#clip040)\" style=\"stroke:#000000; stroke-width:4; stroke-opacity:1; fill:none\" points=\"\n",
       "  1986.67,216.178 2280.05,216.178 2280.05,95.2176 1986.67,95.2176 1986.67,216.178 \n",
       "  \"/>\n",
       "<polyline clip-path=\"url(#clip040)\" style=\"stroke:#009af9; stroke-width:4; stroke-opacity:1; fill:none\" points=\"\n",
       "  2010.91,155.698 2156.32,155.698 \n",
       "  \"/>\n",
       "<path clip-path=\"url(#clip040)\" d=\"M2083.62 181.298 L2065.52 173.797 L2058.02 155.698 L2065.52 137.598 L2083.62 130.098 L2101.72 137.598 L2109.22 155.698 L2101.72 173.797 Z\" fill=\"#009af9\" fill-rule=\"evenodd\" fill-opacity=\"1\" stroke=\"#000000\" stroke-opacity=\"1\" stroke-width=\"5.12\"/>\n",
       "<path clip-path=\"url(#clip040)\" d=\"M 0 0 M2194.4 175.385 Q2192.6 180.015 2190.88 181.427 Q2189.17 182.839 2186.3 182.839 L2182.9 182.839 L2182.9 179.274 L2185.4 179.274 Q2187.16 179.274 2188.13 178.44 Q2189.1 177.607 2190.28 174.505 L2191.05 172.561 L2180.56 147.052 L2185.07 147.052 L2193.18 167.329 L2201.28 147.052 L2205.79 147.052 L2194.4 175.385 Z\" fill=\"#000000\" fill-rule=\"evenodd\" fill-opacity=\"1\" /><path clip-path=\"url(#clip040)\" d=\"M 0 0 M2211.67 169.042 L2219.31 169.042 L2219.31 142.677 L2211 144.343 L2211 140.084 L2219.26 138.418 L2223.94 138.418 L2223.94 169.042 L2231.58 169.042 L2231.58 172.978 L2211.67 172.978 L2211.67 169.042 Z\" fill=\"#000000\" fill-rule=\"evenodd\" fill-opacity=\"1\" /></svg>\n"
      ]
     },
     "execution_count": 39,
     "metadata": {},
     "output_type": "execute_result"
    }
   ],
   "source": [
    "plot(run_infection(20), m=:o) "
   ]
  },
  {
   "cell_type": "code",
   "execution_count": 40,
   "metadata": {},
   "outputs": [
    {
     "data": {
      "text/html": [
       "<script>\n",
       "// Immediately-invoked-function-expression to avoid global variables.\n",
       "(function() {\n",
       "    var warning_div = document.getElementById(\"webio-warning-2984267527063446675\");\n",
       "    var hide = function () {\n",
       "        var script = document.getElementById(\"webio-setup-9278961802529998064\");\n",
       "        var parent = script && script.parentElement;\n",
       "        var grandparent = parent && parent.parentElement;\n",
       "        if (grandparent) {\n",
       "            grandparent.style.display = \"none\";\n",
       "        }\n",
       "        warning_div.style.display = \"none\";\n",
       "    };\n",
       "    if (typeof Jupyter !== \"undefined\") {\n",
       "        console.log(\"WebIO detected Jupyter notebook environment.\");\n",
       "        // Jupyter notebook.\n",
       "        var extensions = (\n",
       "            Jupyter\n",
       "            && Jupyter.notebook.config.data\n",
       "            && Jupyter.notebook.config.data.load_extensions\n",
       "        );\n",
       "        if (extensions && extensions[\"webio-jupyter-notebook\"]) {\n",
       "            // Extension already loaded.\n",
       "            console.log(\"Jupyter WebIO nbextension detected; not loading ad-hoc.\");\n",
       "            hide();\n",
       "            return;\n",
       "        }\n",
       "    } else if (window.location.pathname.includes(\"/lab\")) {\n",
       "        // Guessing JupyterLa\n",
       "        console.log(\"Jupyter Lab detected; make sure the @webio/jupyter-lab-provider labextension is installed.\");\n",
       "        hide();\n",
       "        return;\n",
       "    }\n",
       "})();\n",
       "\n",
       "</script>\n",
       "<p\n",
       "    id=\"webio-warning-2984267527063446675\"\n",
       "    class=\"output_text output_stderr\"\n",
       "    style=\"padding: 1em; font-weight: bold;\"\n",
       ">\n",
       "    Unable to load WebIO. Please make sure WebIO works for your Jupyter client.\n",
       "    For troubleshooting, please see <a href=\"https://juliagizmos.github.io/WebIO.jl/latest/providers/ijulia/\">\n",
       "    the WebIO/IJulia documentation</a>.\n",
       "    <!-- TODO: link to installation docs. -->\n",
       "</p>\n"
      ],
      "text/plain": [
       "HTML{String}(\"<script>\\n// Immediately-invoked-function-expression to avoid global variables.\\n(function() {\\n    var warning_div = document.getElementById(\\\"webio-warning-2984267527063446675\\\");\\n    var hide = function () {\\n        var script = document.getElementById(\\\"webio-setup-9278961802529998064\\\");\\n        var parent = script && script.parentElement;\\n        var grandparent = parent && parent.parentElement;\\n        if (grandparent) {\\n            grandparent.style.display = \\\"none\\\";\\n        }\\n        warning_div.style.display = \\\"none\\\";\\n    };\\n    if (typeof Jupyter !== \\\"undefined\\\") {\\n        console.log(\\\"WebIO detected Jupyter notebook environment.\\\");\\n        // Jupyter notebook.\\n        var extensions = (\\n            Jupyter\\n            && Jupyter.notebook.config.data\\n            && Jupyter.notebook.config.data.load_extensions\\n        );\\n        if (extensions && extensions[\\\"webio-jupyter-notebook\\\"]) {\\n            // Extension already loaded.\\n            console.log(\\\"Jupyter WebIO nbextension detected; not loading ad-hoc.\\\");\\n            hide();\\n            return;\\n        }\\n    } else if (window.location.pathname.includes(\\\"/lab\\\")) {\\n        // Guessing JupyterLa\\n        console.log(\\\"Jupyter Lab detected; make sure the @webio/jupyter-lab-provider labextension is installed.\\\");\\n        hide();\\n        return;\\n    }\\n})();\\n\\n</script>\\n<p\\n    id=\\\"webio-warning-2984267527063446675\\\"\\n    class=\\\"output_text output_stderr\\\"\\n    style=\\\"padding: 1em; font-weight: bold;\\\"\\n>\\n    Unable to load WebIO. Please make sure WebIO works for your Jupyter client.\\n    For troubleshooting, please see <a href=\\\"https://juliagizmos.github.io/WebIO.jl/latest/providers/ijulia/\\\">\\n    the WebIO/IJulia documentation</a>.\\n    <!-- TODO: link to installation docs. -->\\n</p>\\n\")"
      ]
     },
     "metadata": {},
     "output_type": "display_data"
    }
   ],
   "source": [
    "using Interact"
   ]
  },
  {
   "cell_type": "code",
   "execution_count": 45,
   "metadata": {},
   "outputs": [
    {
     "data": {
      "application/vnd.webio.node+json": {
       "children": [
        {
         "children": [
          {
           "children": [
            {
             "children": [
              {
               "children": [
                {
                 "children": [
                  ""
                 ],
                 "instanceArgs": {
                  "namespace": "html",
                  "tag": "label"
                 },
                 "nodeType": "DOM",
                 "props": {
                  "className": "interact ",
                  "style": {
                   "padding": "5px 10px 0px 10px"
                  }
                 },
                 "type": "node"
                }
               ],
               "instanceArgs": {
                "namespace": "html",
                "tag": "div"
               },
               "nodeType": "DOM",
               "props": {
                "className": "interact-flex-row-left"
               },
               "type": "node"
              },
              {
               "children": [
                {
                 "children": [],
                 "instanceArgs": {
                  "namespace": "html",
                  "tag": "input"
                 },
                 "nodeType": "DOM",
                 "props": {
                  "attributes": {
                   "data-bind": "numericValue: index, valueUpdate: 'input', event: {change: function (){this.changes(this.changes()+1)}}",
                   "orient": "horizontal",
                   "type": "range"
                  },
                  "className": "slider slider is-fullwidth",
                  "max": 1000,
                  "min": 1,
                  "step": 1,
                  "style": {}
                 },
                 "type": "node"
                }
               ],
               "instanceArgs": {
                "namespace": "html",
                "tag": "div"
               },
               "nodeType": "DOM",
               "props": {
                "className": "interact-flex-row-center"
               },
               "type": "node"
              },
              {
               "children": [
                {
                 "children": [],
                 "instanceArgs": {
                  "namespace": "html",
                  "tag": "p"
                 },
                 "nodeType": "DOM",
                 "props": {
                  "attributes": {
                   "data-bind": "text: formatted_val"
                  }
                 },
                 "type": "node"
                }
               ],
               "instanceArgs": {
                "namespace": "html",
                "tag": "div"
               },
               "nodeType": "DOM",
               "props": {
                "className": "interact-flex-row-right"
               },
               "type": "node"
              }
             ],
             "instanceArgs": {
              "namespace": "html",
              "tag": "div"
             },
             "nodeType": "DOM",
             "props": {
              "className": "interact-flex-row interact-widget"
             },
             "type": "node"
            }
           ],
           "instanceArgs": {
            "handlers": {
             "changes": [
              "(function (val){return (val!=this.model[\"changes\"]()) ? (this.valueFromJulia[\"changes\"]=true, this.model[\"changes\"](val)) : undefined})"
             ],
             "index": [
              "(function (val){return (val!=this.model[\"index\"]()) ? (this.valueFromJulia[\"index\"]=true, this.model[\"index\"](val)) : undefined})"
             ]
            },
            "id": "14721937422247612075",
            "imports": {
             "data": [
              {
               "name": "knockout",
               "type": "js",
               "url": "/assetserver/4e15ea8f38f5d33bf0b2930cb09c8089f78b114e-knockout.js"
              },
              {
               "name": "knockout_punches",
               "type": "js",
               "url": "/assetserver/6967e46b2259ea2e5c469b61c410326b52955db7-knockout_punches.js"
              },
              {
               "name": null,
               "type": "js",
               "url": "/assetserver/a643ec32b5fd67f0647ab1f378e6bc75a94bf7ef-all.js"
              },
              {
               "name": null,
               "type": "css",
               "url": "/assetserver/c4a428321098a6b37c6165665184ef1be8f91e08-style.css"
              },
              {
               "name": null,
               "type": "css",
               "url": "/assetserver/62690f06d5dfb4c711812ef88e307907ed9b059b-bulma_confined.min.css"
              }
             ],
             "type": "async_block"
            },
            "mount_callbacks": [
             "function () {\n    var handler = (function (ko, koPunches) {\n    ko.punches.enableAll();\n    ko.bindingHandlers.numericValue = {\n        init: function(element, valueAccessor, allBindings, data, context) {\n            var stringified = ko.observable(ko.unwrap(valueAccessor()));\n            stringified.subscribe(function(value) {\n                var val = parseFloat(value);\n                if (!isNaN(val)) {\n                    valueAccessor()(val);\n                }\n            });\n            valueAccessor().subscribe(function(value) {\n                var str = JSON.stringify(value);\n                if ((str == \"0\") && ([\"-0\", \"-0.\"].indexOf(stringified()) >= 0))\n                     return;\n                 if ([\"null\", \"\"].indexOf(str) >= 0)\n                     return;\n                stringified(str);\n            });\n            ko.applyBindingsToNode(\n                element,\n                {\n                    value: stringified,\n                    valueUpdate: allBindings.get('valueUpdate'),\n                },\n                context,\n            );\n        }\n    };\n    var json_data = {\"formatted_vals\":[\"1\",\"2\",\"3\",\"4\",\"5\",\"6\",\"7\",\"8\",\"9\",\"10\",\"11\",\"12\",\"13\",\"14\",\"15\",\"16\",\"17\",\"18\",\"19\",\"20\",\"21\",\"22\",\"23\",\"24\",\"25\",\"26\",\"27\",\"28\",\"29\",\"30\",\"31\",\"32\",\"33\",\"34\",\"35\",\"36\",\"37\",\"38\",\"39\",\"40\",\"41\",\"42\",\"43\",\"44\",\"45\",\"46\",\"47\",\"48\",\"49\",\"50\",\"51\",\"52\",\"53\",\"54\",\"55\",\"56\",\"57\",\"58\",\"59\",\"60\",\"61\",\"62\",\"63\",\"64\",\"65\",\"66\",\"67\",\"68\",\"69\",\"70\",\"71\",\"72\",\"73\",\"74\",\"75\",\"76\",\"77\",\"78\",\"79\",\"80\",\"81\",\"82\",\"83\",\"84\",\"85\",\"86\",\"87\",\"88\",\"89\",\"90\",\"91\",\"92\",\"93\",\"94\",\"95\",\"96\",\"97\",\"98\",\"99\",\"100\",\"101\",\"102\",\"103\",\"104\",\"105\",\"106\",\"107\",\"108\",\"109\",\"110\",\"111\",\"112\",\"113\",\"114\",\"115\",\"116\",\"117\",\"118\",\"119\",\"120\",\"121\",\"122\",\"123\",\"124\",\"125\",\"126\",\"127\",\"128\",\"129\",\"130\",\"131\",\"132\",\"133\",\"134\",\"135\",\"136\",\"137\",\"138\",\"139\",\"140\",\"141\",\"142\",\"143\",\"144\",\"145\",\"146\",\"147\",\"148\",\"149\",\"150\",\"151\",\"152\",\"153\",\"154\",\"155\",\"156\",\"157\",\"158\",\"159\",\"160\",\"161\",\"162\",\"163\",\"164\",\"165\",\"166\",\"167\",\"168\",\"169\",\"170\",\"171\",\"172\",\"173\",\"174\",\"175\",\"176\",\"177\",\"178\",\"179\",\"180\",\"181\",\"182\",\"183\",\"184\",\"185\",\"186\",\"187\",\"188\",\"189\",\"190\",\"191\",\"192\",\"193\",\"194\",\"195\",\"196\",\"197\",\"198\",\"199\",\"200\",\"201\",\"202\",\"203\",\"204\",\"205\",\"206\",\"207\",\"208\",\"209\",\"210\",\"211\",\"212\",\"213\",\"214\",\"215\",\"216\",\"217\",\"218\",\"219\",\"220\",\"221\",\"222\",\"223\",\"224\",\"225\",\"226\",\"227\",\"228\",\"229\",\"230\",\"231\",\"232\",\"233\",\"234\",\"235\",\"236\",\"237\",\"238\",\"239\",\"240\",\"241\",\"242\",\"243\",\"244\",\"245\",\"246\",\"247\",\"248\",\"249\",\"250\",\"251\",\"252\",\"253\",\"254\",\"255\",\"256\",\"257\",\"258\",\"259\",\"260\",\"261\",\"262\",\"263\",\"264\",\"265\",\"266\",\"267\",\"268\",\"269\",\"270\",\"271\",\"272\",\"273\",\"274\",\"275\",\"276\",\"277\",\"278\",\"279\",\"280\",\"281\",\"282\",\"283\",\"284\",\"285\",\"286\",\"287\",\"288\",\"289\",\"290\",\"291\",\"292\",\"293\",\"294\",\"295\",\"296\",\"297\",\"298\",\"299\",\"300\",\"301\",\"302\",\"303\",\"304\",\"305\",\"306\",\"307\",\"308\",\"309\",\"310\",\"311\",\"312\",\"313\",\"314\",\"315\",\"316\",\"317\",\"318\",\"319\",\"320\",\"321\",\"322\",\"323\",\"324\",\"325\",\"326\",\"327\",\"328\",\"329\",\"330\",\"331\",\"332\",\"333\",\"334\",\"335\",\"336\",\"337\",\"338\",\"339\",\"340\",\"341\",\"342\",\"343\",\"344\",\"345\",\"346\",\"347\",\"348\",\"349\",\"350\",\"351\",\"352\",\"353\",\"354\",\"355\",\"356\",\"357\",\"358\",\"359\",\"360\",\"361\",\"362\",\"363\",\"364\",\"365\",\"366\",\"367\",\"368\",\"369\",\"370\",\"371\",\"372\",\"373\",\"374\",\"375\",\"376\",\"377\",\"378\",\"379\",\"380\",\"381\",\"382\",\"383\",\"384\",\"385\",\"386\",\"387\",\"388\",\"389\",\"390\",\"391\",\"392\",\"393\",\"394\",\"395\",\"396\",\"397\",\"398\",\"399\",\"400\",\"401\",\"402\",\"403\",\"404\",\"405\",\"406\",\"407\",\"408\",\"409\",\"410\",\"411\",\"412\",\"413\",\"414\",\"415\",\"416\",\"417\",\"418\",\"419\",\"420\",\"421\",\"422\",\"423\",\"424\",\"425\",\"426\",\"427\",\"428\",\"429\",\"430\",\"431\",\"432\",\"433\",\"434\",\"435\",\"436\",\"437\",\"438\",\"439\",\"440\",\"441\",\"442\",\"443\",\"444\",\"445\",\"446\",\"447\",\"448\",\"449\",\"450\",\"451\",\"452\",\"453\",\"454\",\"455\",\"456\",\"457\",\"458\",\"459\",\"460\",\"461\",\"462\",\"463\",\"464\",\"465\",\"466\",\"467\",\"468\",\"469\",\"470\",\"471\",\"472\",\"473\",\"474\",\"475\",\"476\",\"477\",\"478\",\"479\",\"480\",\"481\",\"482\",\"483\",\"484\",\"485\",\"486\",\"487\",\"488\",\"489\",\"490\",\"491\",\"492\",\"493\",\"494\",\"495\",\"496\",\"497\",\"498\",\"499\",\"500\",\"501\",\"502\",\"503\",\"504\",\"505\",\"506\",\"507\",\"508\",\"509\",\"510\",\"511\",\"512\",\"513\",\"514\",\"515\",\"516\",\"517\",\"518\",\"519\",\"520\",\"521\",\"522\",\"523\",\"524\",\"525\",\"526\",\"527\",\"528\",\"529\",\"530\",\"531\",\"532\",\"533\",\"534\",\"535\",\"536\",\"537\",\"538\",\"539\",\"540\",\"541\",\"542\",\"543\",\"544\",\"545\",\"546\",\"547\",\"548\",\"549\",\"550\",\"551\",\"552\",\"553\",\"554\",\"555\",\"556\",\"557\",\"558\",\"559\",\"560\",\"561\",\"562\",\"563\",\"564\",\"565\",\"566\",\"567\",\"568\",\"569\",\"570\",\"571\",\"572\",\"573\",\"574\",\"575\",\"576\",\"577\",\"578\",\"579\",\"580\",\"581\",\"582\",\"583\",\"584\",\"585\",\"586\",\"587\",\"588\",\"589\",\"590\",\"591\",\"592\",\"593\",\"594\",\"595\",\"596\",\"597\",\"598\",\"599\",\"600\",\"601\",\"602\",\"603\",\"604\",\"605\",\"606\",\"607\",\"608\",\"609\",\"610\",\"611\",\"612\",\"613\",\"614\",\"615\",\"616\",\"617\",\"618\",\"619\",\"620\",\"621\",\"622\",\"623\",\"624\",\"625\",\"626\",\"627\",\"628\",\"629\",\"630\",\"631\",\"632\",\"633\",\"634\",\"635\",\"636\",\"637\",\"638\",\"639\",\"640\",\"641\",\"642\",\"643\",\"644\",\"645\",\"646\",\"647\",\"648\",\"649\",\"650\",\"651\",\"652\",\"653\",\"654\",\"655\",\"656\",\"657\",\"658\",\"659\",\"660\",\"661\",\"662\",\"663\",\"664\",\"665\",\"666\",\"667\",\"668\",\"669\",\"670\",\"671\",\"672\",\"673\",\"674\",\"675\",\"676\",\"677\",\"678\",\"679\",\"680\",\"681\",\"682\",\"683\",\"684\",\"685\",\"686\",\"687\",\"688\",\"689\",\"690\",\"691\",\"692\",\"693\",\"694\",\"695\",\"696\",\"697\",\"698\",\"699\",\"700\",\"701\",\"702\",\"703\",\"704\",\"705\",\"706\",\"707\",\"708\",\"709\",\"710\",\"711\",\"712\",\"713\",\"714\",\"715\",\"716\",\"717\",\"718\",\"719\",\"720\",\"721\",\"722\",\"723\",\"724\",\"725\",\"726\",\"727\",\"728\",\"729\",\"730\",\"731\",\"732\",\"733\",\"734\",\"735\",\"736\",\"737\",\"738\",\"739\",\"740\",\"741\",\"742\",\"743\",\"744\",\"745\",\"746\",\"747\",\"748\",\"749\",\"750\",\"751\",\"752\",\"753\",\"754\",\"755\",\"756\",\"757\",\"758\",\"759\",\"760\",\"761\",\"762\",\"763\",\"764\",\"765\",\"766\",\"767\",\"768\",\"769\",\"770\",\"771\",\"772\",\"773\",\"774\",\"775\",\"776\",\"777\",\"778\",\"779\",\"780\",\"781\",\"782\",\"783\",\"784\",\"785\",\"786\",\"787\",\"788\",\"789\",\"790\",\"791\",\"792\",\"793\",\"794\",\"795\",\"796\",\"797\",\"798\",\"799\",\"800\",\"801\",\"802\",\"803\",\"804\",\"805\",\"806\",\"807\",\"808\",\"809\",\"810\",\"811\",\"812\",\"813\",\"814\",\"815\",\"816\",\"817\",\"818\",\"819\",\"820\",\"821\",\"822\",\"823\",\"824\",\"825\",\"826\",\"827\",\"828\",\"829\",\"830\",\"831\",\"832\",\"833\",\"834\",\"835\",\"836\",\"837\",\"838\",\"839\",\"840\",\"841\",\"842\",\"843\",\"844\",\"845\",\"846\",\"847\",\"848\",\"849\",\"850\",\"851\",\"852\",\"853\",\"854\",\"855\",\"856\",\"857\",\"858\",\"859\",\"860\",\"861\",\"862\",\"863\",\"864\",\"865\",\"866\",\"867\",\"868\",\"869\",\"870\",\"871\",\"872\",\"873\",\"874\",\"875\",\"876\",\"877\",\"878\",\"879\",\"880\",\"881\",\"882\",\"883\",\"884\",\"885\",\"886\",\"887\",\"888\",\"889\",\"890\",\"891\",\"892\",\"893\",\"894\",\"895\",\"896\",\"897\",\"898\",\"899\",\"900\",\"901\",\"902\",\"903\",\"904\",\"905\",\"906\",\"907\",\"908\",\"909\",\"910\",\"911\",\"912\",\"913\",\"914\",\"915\",\"916\",\"917\",\"918\",\"919\",\"920\",\"921\",\"922\",\"923\",\"924\",\"925\",\"926\",\"927\",\"928\",\"929\",\"930\",\"931\",\"932\",\"933\",\"934\",\"935\",\"936\",\"937\",\"938\",\"939\",\"940\",\"941\",\"942\",\"943\",\"944\",\"945\",\"946\",\"947\",\"948\",\"949\",\"950\",\"951\",\"952\",\"953\",\"954\",\"955\",\"956\",\"957\",\"958\",\"959\",\"960\",\"961\",\"962\",\"963\",\"964\",\"965\",\"966\",\"967\",\"968\",\"969\",\"970\",\"971\",\"972\",\"973\",\"974\",\"975\",\"976\",\"977\",\"978\",\"979\",\"980\",\"981\",\"982\",\"983\",\"984\",\"985\",\"986\",\"987\",\"988\",\"989\",\"990\",\"991\",\"992\",\"993\",\"994\",\"995\",\"996\",\"997\",\"998\",\"999\",\"1000\"],\"changes\":WebIO.getval({\"name\":\"changes\",\"scope\":\"14721937422247612075\",\"id\":\"18421728926803028525\",\"type\":\"observable\"}),\"index\":WebIO.getval({\"name\":\"index\",\"scope\":\"14721937422247612075\",\"id\":\"13697678738429543450\",\"type\":\"observable\"})};\n    var self = this;\n    function AppViewModel() {\n        for (var key in json_data) {\n            var el = json_data[key];\n            this[key] = Array.isArray(el) ? ko.observableArray(el) : ko.observable(el);\n        }\n        \n        [this[\"formatted_val\"]=ko.computed(    function(){\n        return this.formatted_vals()[parseInt(this.index())-(1)];\n    }\n,this)]\n        [this[\"changes\"].subscribe((function (val){!(this.valueFromJulia[\"changes\"]) ? (WebIO.setval({\"name\":\"changes\",\"scope\":\"14721937422247612075\",\"id\":\"18421728926803028525\",\"type\":\"observable\"},val)) : undefined; return this.valueFromJulia[\"changes\"]=false}),self),this[\"index\"].subscribe((function (val){!(this.valueFromJulia[\"index\"]) ? (WebIO.setval({\"name\":\"index\",\"scope\":\"14721937422247612075\",\"id\":\"13697678738429543450\",\"type\":\"observable\"},val)) : undefined; return this.valueFromJulia[\"index\"]=false}),self)]\n        \n    }\n    self.model = new AppViewModel();\n    self.valueFromJulia = {};\n    for (var key in json_data) {\n        self.valueFromJulia[key] = false;\n    }\n    ko.applyBindings(self.model, self.dom);\n}\n);\n    (WebIO.importBlock({\"data\":[{\"name\":\"knockout\",\"type\":\"js\",\"url\":\"/assetserver/4e15ea8f38f5d33bf0b2930cb09c8089f78b114e-knockout.js\"},{\"name\":\"knockout_punches\",\"type\":\"js\",\"url\":\"/assetserver/6967e46b2259ea2e5c469b61c410326b52955db7-knockout_punches.js\"}],\"type\":\"async_block\"})).then((imports) => handler.apply(this, imports));\n}\n"
            ],
            "observables": {
             "changes": {
              "id": "18421728926803028525",
              "sync": false,
              "value": 0
             },
             "index": {
              "id": "13697678738429543450",
              "sync": true,
              "value": 1
             }
            },
            "systemjs_options": null
           },
           "nodeType": "Scope",
           "props": {},
           "type": "node"
          }
         ],
         "instanceArgs": {
          "namespace": "html",
          "tag": "div"
         },
         "nodeType": "DOM",
         "props": {
          "className": "field interact-widget"
         },
         "type": "node"
        },
        {
         "children": [
          {
           "children": [],
           "instanceArgs": {
            "id": "530637358498661086",
            "name": "obs-node"
           },
           "nodeType": "ObservableNode",
           "props": {},
           "type": "node"
          }
         ],
         "instanceArgs": {
          "handlers": {},
          "id": "9141706316117726684",
          "imports": {
           "data": [],
           "type": "async_block"
          },
          "mount_callbacks": [],
          "observables": {
           "obs-node": {
            "id": "530637358498661086",
            "sync": false,
            "value": {
             "children": [
              {
               "children": [],
               "instanceArgs": {
                "namespace": "html",
                "tag": "div"
               },
               "nodeType": "DOM",
               "props": {
                "setInnerHtml": "<?xml version=\"1.0\" encoding=\"utf-8\"?>\n<svg xmlns=\"http://www.w3.org/2000/svg\" xmlns:xlink=\"http://www.w3.org/1999/xlink\" width=\"600\" height=\"400\" viewBox=\"0 0 2400 1600\">\n<defs>\n  <clipPath id=\"clip880\">\n    <rect x=\"0\" y=\"0\" width=\"2400\" height=\"1600\"/>\n  </clipPath>\n</defs>\n<path clip-path=\"url(#clip880)\" d=\"\nM0 1600 L2400 1600 L2400 0 L0 0  Z\n  \" fill=\"#ffffff\" fill-rule=\"evenodd\" fill-opacity=\"1\"/>\n<defs>\n  <clipPath id=\"clip881\">\n    <rect x=\"480\" y=\"0\" width=\"1681\" height=\"1600\"/>\n  </clipPath>\n</defs>\n<path clip-path=\"url(#clip880)\" d=\"\nM134.584 1486.45 L2352.76 1486.45 L2352.76 47.2441 L134.584 47.2441  Z\n  \" fill=\"#ffffff\" fill-rule=\"evenodd\" fill-opacity=\"1\"/>\n<defs>\n  <clipPath id=\"clip882\">\n    <rect x=\"134\" y=\"47\" width=\"2219\" height=\"1440\"/>\n  </clipPath>\n</defs>\n<polyline clip-path=\"url(#clip882)\" style=\"stroke:#000000; stroke-width:2; stroke-opacity:0.1; fill:none\" points=\"\n  134.584,1486.45 134.584,47.2441 \n  \"/>\n<polyline clip-path=\"url(#clip882)\" style=\"stroke:#000000; stroke-width:2; stroke-opacity:0.1; fill:none\" points=\"\n  578.219,1486.45 578.219,47.2441 \n  \"/>\n<polyline clip-path=\"url(#clip882)\" style=\"stroke:#000000; stroke-width:2; stroke-opacity:0.1; fill:none\" points=\"\n  1021.85,1486.45 1021.85,47.2441 \n  \"/>\n<polyline clip-path=\"url(#clip882)\" style=\"stroke:#000000; stroke-width:2; stroke-opacity:0.1; fill:none\" points=\"\n  1465.49,1486.45 1465.49,47.2441 \n  \"/>\n<polyline clip-path=\"url(#clip882)\" style=\"stroke:#000000; stroke-width:2; stroke-opacity:0.1; fill:none\" points=\"\n  1909.12,1486.45 1909.12,47.2441 \n  \"/>\n<polyline clip-path=\"url(#clip882)\" style=\"stroke:#000000; stroke-width:2; stroke-opacity:0.1; fill:none\" points=\"\n  2352.76,1486.45 2352.76,47.2441 \n  \"/>\n<polyline clip-path=\"url(#clip880)\" style=\"stroke:#000000; stroke-width:4; stroke-opacity:1; fill:none\" points=\"\n  134.584,1486.45 2352.76,1486.45 \n  \"/>\n<polyline clip-path=\"url(#clip880)\" style=\"stroke:#000000; stroke-width:4; stroke-opacity:1; fill:none\" points=\"\n  134.584,1486.45 134.584,1469.18 \n  \"/>\n<polyline clip-path=\"url(#clip880)\" style=\"stroke:#000000; stroke-width:4; stroke-opacity:1; fill:none\" points=\"\n  578.219,1486.45 578.219,1469.18 \n  \"/>\n<polyline clip-path=\"url(#clip880)\" style=\"stroke:#000000; stroke-width:4; stroke-opacity:1; fill:none\" points=\"\n  1021.85,1486.45 1021.85,1469.18 \n  \"/>\n<polyline clip-path=\"url(#clip880)\" style=\"stroke:#000000; stroke-width:4; stroke-opacity:1; fill:none\" points=\"\n  1465.49,1486.45 1465.49,1469.18 \n  \"/>\n<polyline clip-path=\"url(#clip880)\" style=\"stroke:#000000; stroke-width:4; stroke-opacity:1; fill:none\" points=\"\n  1909.12,1486.45 1909.12,1469.18 \n  \"/>\n<polyline clip-path=\"url(#clip880)\" style=\"stroke:#000000; stroke-width:4; stroke-opacity:1; fill:none\" points=\"\n  2352.76,1486.45 2352.76,1469.18 \n  \"/>\n<path clip-path=\"url(#clip880)\" d=\"M 0 0 M134.584 1515.64 Q130.973 1515.64 129.145 1519.2 Q127.339 1522.75 127.339 1529.87 Q127.339 1536.98 129.145 1540.55 Q130.973 1544.09 134.584 1544.09 Q138.219 1544.09 140.024 1540.55 Q141.853 1536.98 141.853 1529.87 Q141.853 1522.75 140.024 1519.2 Q138.219 1515.64 134.584 1515.64 M134.584 1511.93 Q140.395 1511.93 143.45 1516.54 Q146.529 1521.12 146.529 1529.87 Q146.529 1538.6 143.45 1543.21 Q140.395 1547.79 134.584 1547.79 Q128.774 1547.79 125.696 1543.21 Q122.64 1538.6 122.64 1529.87 Q122.64 1521.12 125.696 1516.54 Q128.774 1511.93 134.584 1511.93 Z\" fill=\"#000000\" fill-rule=\"evenodd\" fill-opacity=\"1\" /><path clip-path=\"url(#clip880)\" d=\"M 0 0 M545.858 1543.18 L562.177 1543.18 L562.177 1547.12 L540.233 1547.12 L540.233 1543.18 Q542.895 1540.43 547.478 1535.8 Q552.085 1531.15 553.265 1529.81 Q555.511 1527.28 556.39 1525.55 Q557.293 1523.79 557.293 1522.1 Q557.293 1519.34 555.349 1517.61 Q553.427 1515.87 550.325 1515.87 Q548.126 1515.87 545.673 1516.63 Q543.242 1517.4 540.464 1518.95 L540.464 1514.23 Q543.288 1513.09 545.742 1512.51 Q548.196 1511.93 550.233 1511.93 Q555.603 1511.93 558.798 1514.62 Q561.992 1517.31 561.992 1521.8 Q561.992 1523.93 561.182 1525.85 Q560.395 1527.74 558.288 1530.34 Q557.71 1531.01 554.608 1534.23 Q551.506 1537.42 545.858 1543.18 Z\" fill=\"#000000\" fill-rule=\"evenodd\" fill-opacity=\"1\" /><path clip-path=\"url(#clip880)\" d=\"M 0 0 M577.247 1515.64 Q573.635 1515.64 571.807 1519.2 Q570.001 1522.75 570.001 1529.87 Q570.001 1536.98 571.807 1540.55 Q573.635 1544.09 577.247 1544.09 Q580.881 1544.09 582.686 1540.55 Q584.515 1536.98 584.515 1529.87 Q584.515 1522.75 582.686 1519.2 Q580.881 1515.64 577.247 1515.64 M577.247 1511.93 Q583.057 1511.93 586.112 1516.54 Q589.191 1521.12 589.191 1529.87 Q589.191 1538.6 586.112 1543.21 Q583.057 1547.79 577.247 1547.79 Q571.436 1547.79 568.358 1543.21 Q565.302 1538.6 565.302 1529.87 Q565.302 1521.12 568.358 1516.54 Q571.436 1511.93 577.247 1511.93 Z\" fill=\"#000000\" fill-rule=\"evenodd\" fill-opacity=\"1\" /><path clip-path=\"url(#clip880)\" d=\"M 0 0 M604.26 1515.64 Q600.649 1515.64 598.82 1519.2 Q597.015 1522.75 597.015 1529.87 Q597.015 1536.98 598.82 1540.55 Q600.649 1544.09 604.26 1544.09 Q607.895 1544.09 609.7 1540.55 Q611.529 1536.98 611.529 1529.87 Q611.529 1522.75 609.7 1519.2 Q607.895 1515.64 604.26 1515.64 M604.26 1511.93 Q610.07 1511.93 613.126 1516.54 Q616.205 1521.12 616.205 1529.87 Q616.205 1538.6 613.126 1543.21 Q610.07 1547.79 604.26 1547.79 Q598.45 1547.79 595.371 1543.21 Q592.316 1538.6 592.316 1529.87 Q592.316 1521.12 595.371 1516.54 Q598.45 1511.93 604.26 1511.93 Z\" fill=\"#000000\" fill-rule=\"evenodd\" fill-opacity=\"1\" /><path clip-path=\"url(#clip880)\" d=\"M 0 0 M997.849 1516.63 L986.043 1535.08 L997.849 1535.08 L997.849 1516.63 M996.622 1512.56 L1002.5 1512.56 L1002.5 1535.08 L1007.43 1535.08 L1007.43 1538.97 L1002.5 1538.97 L1002.5 1547.12 L997.849 1547.12 L997.849 1538.97 L982.247 1538.97 L982.247 1534.46 L996.622 1512.56 Z\" fill=\"#000000\" fill-rule=\"evenodd\" fill-opacity=\"1\" /><path clip-path=\"url(#clip880)\" d=\"M 0 0 M1022.5 1515.64 Q1018.89 1515.64 1017.06 1519.2 Q1015.26 1522.75 1015.26 1529.87 Q1015.26 1536.98 1017.06 1540.55 Q1018.89 1544.09 1022.5 1544.09 Q1026.14 1544.09 1027.94 1540.55 Q1029.77 1536.98 1029.77 1529.87 Q1029.77 1522.75 1027.94 1519.2 Q1026.14 1515.64 1022.5 1515.64 M1022.5 1511.93 Q1028.31 1511.93 1031.37 1516.54 Q1034.45 1521.12 1034.45 1529.87 Q1034.45 1538.6 1031.37 1543.21 Q1028.31 1547.79 1022.5 1547.79 Q1016.69 1547.79 1013.61 1543.21 Q1010.56 1538.6 1010.56 1529.87 Q1010.56 1521.12 1013.61 1516.54 Q1016.69 1511.93 1022.5 1511.93 Z\" fill=\"#000000\" fill-rule=\"evenodd\" fill-opacity=\"1\" /><path clip-path=\"url(#clip880)\" d=\"M 0 0 M1049.51 1515.64 Q1045.9 1515.64 1044.08 1519.2 Q1042.27 1522.75 1042.27 1529.87 Q1042.27 1536.98 1044.08 1540.55 Q1045.9 1544.09 1049.51 1544.09 Q1053.15 1544.09 1054.95 1540.55 Q1056.78 1536.98 1056.78 1529.87 Q1056.78 1522.75 1054.95 1519.2 Q1053.15 1515.64 1049.51 1515.64 M1049.51 1511.93 Q1055.33 1511.93 1058.38 1516.54 Q1061.46 1521.12 1061.46 1529.87 Q1061.46 1538.6 1058.38 1543.21 Q1055.33 1547.79 1049.51 1547.79 Q1043.7 1547.79 1040.63 1543.21 Q1037.57 1538.6 1037.57 1529.87 Q1037.57 1521.12 1040.63 1516.54 Q1043.7 1511.93 1049.51 1511.93 Z\" fill=\"#000000\" fill-rule=\"evenodd\" fill-opacity=\"1\" /><path clip-path=\"url(#clip880)\" d=\"M 0 0 M1438.88 1527.98 Q1435.73 1527.98 1433.88 1530.13 Q1432.05 1532.28 1432.05 1536.03 Q1432.05 1539.76 1433.88 1541.93 Q1435.73 1544.09 1438.88 1544.09 Q1442.03 1544.09 1443.86 1541.93 Q1445.71 1539.76 1445.71 1536.03 Q1445.71 1532.28 1443.86 1530.13 Q1442.03 1527.98 1438.88 1527.98 M1448.16 1513.32 L1448.16 1517.58 Q1446.4 1516.75 1444.6 1516.31 Q1442.81 1515.87 1441.05 1515.87 Q1436.42 1515.87 1433.97 1519 Q1431.54 1522.12 1431.19 1528.44 Q1432.56 1526.43 1434.62 1525.36 Q1436.68 1524.27 1439.16 1524.27 Q1444.36 1524.27 1447.37 1527.44 Q1450.41 1530.59 1450.41 1536.03 Q1450.41 1541.36 1447.26 1544.57 Q1444.11 1547.79 1438.88 1547.79 Q1432.88 1547.79 1429.71 1543.21 Q1426.54 1538.6 1426.54 1529.87 Q1426.54 1521.68 1430.43 1516.82 Q1434.32 1511.93 1440.87 1511.93 Q1442.63 1511.93 1444.41 1512.28 Q1446.22 1512.63 1448.16 1513.32 Z\" fill=\"#000000\" fill-rule=\"evenodd\" fill-opacity=\"1\" /><path clip-path=\"url(#clip880)\" d=\"M 0 0 M1465.48 1515.64 Q1461.86 1515.64 1460.04 1519.2 Q1458.23 1522.75 1458.23 1529.87 Q1458.23 1536.98 1460.04 1540.55 Q1461.86 1544.09 1465.48 1544.09 Q1469.11 1544.09 1470.92 1540.55 Q1472.74 1536.98 1472.74 1529.87 Q1472.74 1522.75 1470.92 1519.2 Q1469.11 1515.64 1465.48 1515.64 M1465.48 1511.93 Q1471.29 1511.93 1474.34 1516.54 Q1477.42 1521.12 1477.42 1529.87 Q1477.42 1538.6 1474.34 1543.21 Q1471.29 1547.79 1465.48 1547.79 Q1459.67 1547.79 1456.59 1543.21 Q1453.53 1538.6 1453.53 1529.87 Q1453.53 1521.12 1456.59 1516.54 Q1459.67 1511.93 1465.48 1511.93 Z\" fill=\"#000000\" fill-rule=\"evenodd\" fill-opacity=\"1\" /><path clip-path=\"url(#clip880)\" d=\"M 0 0 M1492.49 1515.64 Q1488.88 1515.64 1487.05 1519.2 Q1485.24 1522.75 1485.24 1529.87 Q1485.24 1536.98 1487.05 1540.55 Q1488.88 1544.09 1492.49 1544.09 Q1496.12 1544.09 1497.93 1540.55 Q1499.76 1536.98 1499.76 1529.87 Q1499.76 1522.75 1497.93 1519.2 Q1496.12 1515.64 1492.49 1515.64 M1492.49 1511.93 Q1498.3 1511.93 1501.36 1516.54 Q1504.43 1521.12 1504.43 1529.87 Q1504.43 1538.6 1501.36 1543.21 Q1498.3 1547.79 1492.49 1547.79 Q1486.68 1547.79 1483.6 1543.21 Q1480.55 1538.6 1480.55 1529.87 Q1480.55 1521.12 1483.6 1516.54 Q1486.68 1511.93 1492.49 1511.93 Z\" fill=\"#000000\" fill-rule=\"evenodd\" fill-opacity=\"1\" /><path clip-path=\"url(#clip880)\" d=\"M 0 0 M1882.11 1530.71 Q1878.77 1530.71 1876.85 1532.49 Q1874.96 1534.27 1874.96 1537.4 Q1874.96 1540.52 1876.85 1542.31 Q1878.77 1544.09 1882.11 1544.09 Q1885.44 1544.09 1887.36 1542.31 Q1889.28 1540.5 1889.28 1537.4 Q1889.28 1534.27 1887.36 1532.49 Q1885.46 1530.71 1882.11 1530.71 M1877.43 1528.72 Q1874.42 1527.98 1872.73 1525.92 Q1871.07 1523.86 1871.07 1520.89 Q1871.07 1516.75 1874.01 1514.34 Q1876.97 1511.93 1882.11 1511.93 Q1887.27 1511.93 1890.21 1514.34 Q1893.15 1516.75 1893.15 1520.89 Q1893.15 1523.86 1891.46 1525.92 Q1889.79 1527.98 1886.81 1528.72 Q1890.19 1529.5 1892.06 1531.8 Q1893.96 1534.09 1893.96 1537.4 Q1893.96 1542.42 1890.88 1545.11 Q1887.83 1547.79 1882.11 1547.79 Q1876.39 1547.79 1873.31 1545.11 Q1870.26 1542.42 1870.26 1537.4 Q1870.26 1534.09 1872.15 1531.8 Q1874.05 1529.5 1877.43 1528.72 M1875.72 1521.33 Q1875.72 1524.02 1877.39 1525.52 Q1879.08 1527.03 1882.11 1527.03 Q1885.12 1527.03 1886.81 1525.52 Q1888.52 1524.02 1888.52 1521.33 Q1888.52 1518.65 1886.81 1517.14 Q1885.12 1515.64 1882.11 1515.64 Q1879.08 1515.64 1877.39 1517.14 Q1875.72 1518.65 1875.72 1521.33 Z\" fill=\"#000000\" fill-rule=\"evenodd\" fill-opacity=\"1\" /><path clip-path=\"url(#clip880)\" d=\"M 0 0 M1909.03 1515.64 Q1905.42 1515.64 1903.59 1519.2 Q1901.78 1522.75 1901.78 1529.87 Q1901.78 1536.98 1903.59 1540.55 Q1905.42 1544.09 1909.03 1544.09 Q1912.66 1544.09 1914.47 1540.55 Q1916.3 1536.98 1916.3 1529.87 Q1916.3 1522.75 1914.47 1519.2 Q1912.66 1515.64 1909.03 1515.64 M1909.03 1511.93 Q1914.84 1511.93 1917.89 1516.54 Q1920.97 1521.12 1920.97 1529.87 Q1920.97 1538.6 1917.89 1543.21 Q1914.84 1547.79 1909.03 1547.79 Q1903.22 1547.79 1900.14 1543.21 Q1897.08 1538.6 1897.08 1529.87 Q1897.08 1521.12 1900.14 1516.54 Q1903.22 1511.93 1909.03 1511.93 Z\" fill=\"#000000\" fill-rule=\"evenodd\" fill-opacity=\"1\" /><path clip-path=\"url(#clip880)\" d=\"M 0 0 M1936.04 1515.64 Q1932.43 1515.64 1930.6 1519.2 Q1928.8 1522.75 1928.8 1529.87 Q1928.8 1536.98 1930.6 1540.55 Q1932.43 1544.09 1936.04 1544.09 Q1939.68 1544.09 1941.48 1540.55 Q1943.31 1536.98 1943.31 1529.87 Q1943.31 1522.75 1941.48 1519.2 Q1939.68 1515.64 1936.04 1515.64 M1936.04 1511.93 Q1941.85 1511.93 1944.91 1516.54 Q1947.99 1521.12 1947.99 1529.87 Q1947.99 1538.6 1944.91 1543.21 Q1941.85 1547.79 1936.04 1547.79 Q1930.23 1547.79 1927.15 1543.21 Q1924.1 1538.6 1924.1 1529.87 Q1924.1 1521.12 1927.15 1516.54 Q1930.23 1511.93 1936.04 1511.93 Z\" fill=\"#000000\" fill-rule=\"evenodd\" fill-opacity=\"1\" /><path clip-path=\"url(#clip880)\" d=\"M 0 0 M2302.62 1543.18 L2310.26 1543.18 L2310.26 1516.82 L2301.95 1518.49 L2301.95 1514.23 L2310.21 1512.56 L2314.89 1512.56 L2314.89 1543.18 L2322.52 1543.18 L2322.52 1547.12 L2302.62 1547.12 L2302.62 1543.18 Z\" fill=\"#000000\" fill-rule=\"evenodd\" fill-opacity=\"1\" /><path clip-path=\"url(#clip880)\" d=\"M 0 0 M2337.59 1515.64 Q2333.98 1515.64 2332.15 1519.2 Q2330.35 1522.75 2330.35 1529.87 Q2330.35 1536.98 2332.15 1540.55 Q2333.98 1544.09 2337.59 1544.09 Q2341.23 1544.09 2343.03 1540.55 Q2344.86 1536.98 2344.86 1529.87 Q2344.86 1522.75 2343.03 1519.2 Q2341.23 1515.64 2337.59 1515.64 M2337.59 1511.93 Q2343.4 1511.93 2346.46 1516.54 Q2349.54 1521.12 2349.54 1529.87 Q2349.54 1538.6 2346.46 1543.21 Q2343.4 1547.79 2337.59 1547.79 Q2331.78 1547.79 2328.71 1543.21 Q2325.65 1538.6 2325.65 1529.87 Q2325.65 1521.12 2328.71 1516.54 Q2331.78 1511.93 2337.59 1511.93 Z\" fill=\"#000000\" fill-rule=\"evenodd\" fill-opacity=\"1\" /><path clip-path=\"url(#clip880)\" d=\"M 0 0 M2364.61 1515.64 Q2361 1515.64 2359.17 1519.2 Q2357.36 1522.75 2357.36 1529.87 Q2357.36 1536.98 2359.17 1540.55 Q2361 1544.09 2364.61 1544.09 Q2368.24 1544.09 2370.05 1540.55 Q2371.88 1536.98 2371.88 1529.87 Q2371.88 1522.75 2370.05 1519.2 Q2368.24 1515.64 2364.61 1515.64 M2364.61 1511.93 Q2370.42 1511.93 2373.47 1516.54 Q2376.55 1521.12 2376.55 1529.87 Q2376.55 1538.6 2373.47 1543.21 Q2370.42 1547.79 2364.61 1547.79 Q2358.8 1547.79 2355.72 1543.21 Q2352.66 1538.6 2352.66 1529.87 Q2352.66 1521.12 2355.72 1516.54 Q2358.8 1511.93 2364.61 1511.93 Z\" fill=\"#000000\" fill-rule=\"evenodd\" fill-opacity=\"1\" /><path clip-path=\"url(#clip880)\" d=\"M 0 0 M2391.62 1515.64 Q2388.01 1515.64 2386.18 1519.2 Q2384.38 1522.75 2384.38 1529.87 Q2384.38 1536.98 2386.18 1540.55 Q2388.01 1544.09 2391.62 1544.09 Q2395.26 1544.09 2397.06 1540.55 Q2398.89 1536.98 2398.89 1529.87 Q2398.89 1522.75 2397.06 1519.2 Q2395.26 1515.64 2391.62 1515.64 M2391.62 1511.93 Q2397.43 1511.93 2400.49 1516.54 Q2403.57 1521.12 2403.57 1529.87 Q2403.57 1538.6 2400.49 1543.21 Q2397.43 1547.79 2391.62 1547.79 Q2385.81 1547.79 2382.73 1543.21 Q2379.68 1538.6 2379.68 1529.87 Q2379.68 1521.12 2382.73 1516.54 Q2385.81 1511.93 2391.62 1511.93 Z\" fill=\"#000000\" fill-rule=\"evenodd\" fill-opacity=\"1\" /><polyline clip-path=\"url(#clip882)\" style=\"stroke:#000000; stroke-width:2; stroke-opacity:0.1; fill:none\" points=\"\n  134.584,1486.45 2352.76,1486.45 \n  \"/>\n<polyline clip-path=\"url(#clip882)\" style=\"stroke:#000000; stroke-width:2; stroke-opacity:0.1; fill:none\" points=\"\n  134.584,1198.61 2352.76,1198.61 \n  \"/>\n<polyline clip-path=\"url(#clip882)\" style=\"stroke:#000000; stroke-width:2; stroke-opacity:0.1; fill:none\" points=\"\n  134.584,910.766 2352.76,910.766 \n  \"/>\n<polyline clip-path=\"url(#clip882)\" style=\"stroke:#000000; stroke-width:2; stroke-opacity:0.1; fill:none\" points=\"\n  134.584,622.926 2352.76,622.926 \n  \"/>\n<polyline clip-path=\"url(#clip882)\" style=\"stroke:#000000; stroke-width:2; stroke-opacity:0.1; fill:none\" points=\"\n  134.584,335.085 2352.76,335.085 \n  \"/>\n<polyline clip-path=\"url(#clip882)\" style=\"stroke:#000000; stroke-width:2; stroke-opacity:0.1; fill:none\" points=\"\n  134.584,47.2441 2352.76,47.2441 \n  \"/>\n<polyline clip-path=\"url(#clip880)\" style=\"stroke:#000000; stroke-width:4; stroke-opacity:1; fill:none\" points=\"\n  134.584,1486.45 134.584,47.2441 \n  \"/>\n<polyline clip-path=\"url(#clip880)\" style=\"stroke:#000000; stroke-width:4; stroke-opacity:1; fill:none\" points=\"\n  134.584,1486.45 161.203,1486.45 \n  \"/>\n<polyline clip-path=\"url(#clip880)\" style=\"stroke:#000000; stroke-width:4; stroke-opacity:1; fill:none\" points=\"\n  134.584,1198.61 161.203,1198.61 \n  \"/>\n<polyline clip-path=\"url(#clip880)\" style=\"stroke:#000000; stroke-width:4; stroke-opacity:1; fill:none\" points=\"\n  134.584,910.766 161.203,910.766 \n  \"/>\n<polyline clip-path=\"url(#clip880)\" style=\"stroke:#000000; stroke-width:4; stroke-opacity:1; fill:none\" points=\"\n  134.584,622.926 161.203,622.926 \n  \"/>\n<polyline clip-path=\"url(#clip880)\" style=\"stroke:#000000; stroke-width:4; stroke-opacity:1; fill:none\" points=\"\n  134.584,335.085 161.203,335.085 \n  \"/>\n<polyline clip-path=\"url(#clip880)\" style=\"stroke:#000000; stroke-width:4; stroke-opacity:1; fill:none\" points=\"\n  134.584,47.2441 161.203,47.2441 \n  \"/>\n<path clip-path=\"url(#clip880)\" d=\"M 0 0 M86.6401 1472.25 Q83.029 1472.25 81.2003 1475.81 Q79.3948 1479.35 79.3948 1486.48 Q79.3948 1493.59 81.2003 1497.15 Q83.029 1500.7 86.6401 1500.7 Q90.2743 1500.7 92.0799 1497.15 Q93.9086 1493.59 93.9086 1486.48 Q93.9086 1479.35 92.0799 1475.81 Q90.2743 1472.25 86.6401 1472.25 M86.6401 1468.54 Q92.4502 1468.54 95.5058 1473.15 Q98.5845 1477.73 98.5845 1486.48 Q98.5845 1495.21 95.5058 1499.82 Q92.4502 1504.4 86.6401 1504.4 Q80.8299 1504.4 77.7512 1499.82 Q74.6957 1495.21 74.6957 1486.48 Q74.6957 1477.73 77.7512 1473.15 Q80.8299 1468.54 86.6401 1468.54 Z\" fill=\"#000000\" fill-rule=\"evenodd\" fill-opacity=\"1\" /><path clip-path=\"url(#clip880)\" d=\"M 0 0 M82.2651 1211.95 L98.5845 1211.95 L98.5845 1215.89 L76.6401 1215.89 L76.6401 1211.95 Q79.3022 1209.2 83.8855 1204.57 Q88.4919 1199.91 89.6725 1198.57 Q91.9178 1196.05 92.7975 1194.31 Q93.7002 1192.55 93.7002 1190.86 Q93.7002 1188.11 91.7558 1186.37 Q89.8345 1184.64 86.7327 1184.64 Q84.5336 1184.64 82.0799 1185.4 Q79.6494 1186.17 76.8716 1187.72 L76.8716 1182.99 Q79.6957 1181.86 82.1494 1181.28 Q84.6031 1180.7 86.6401 1180.7 Q92.0104 1180.7 95.2049 1183.39 Q98.3993 1186.07 98.3993 1190.56 Q98.3993 1192.69 97.5891 1194.61 Q96.8021 1196.51 94.6956 1199.1 Q94.1169 1199.78 91.0151 1202.99 Q87.9132 1206.19 82.2651 1211.95 Z\" fill=\"#000000\" fill-rule=\"evenodd\" fill-opacity=\"1\" /><path clip-path=\"url(#clip880)\" d=\"M 0 0 M89.0012 897.56 L77.1957 916.009 L89.0012 916.009 L89.0012 897.56 M87.7743 893.486 L93.6539 893.486 L93.6539 916.009 L98.5845 916.009 L98.5845 919.898 L93.6539 919.898 L93.6539 928.046 L89.0012 928.046 L89.0012 919.898 L73.3994 919.898 L73.3994 915.384 L87.7743 893.486 Z\" fill=\"#000000\" fill-rule=\"evenodd\" fill-opacity=\"1\" /><path clip-path=\"url(#clip880)\" d=\"M 0 0 M87.0567 621.062 Q83.9086 621.062 82.0568 623.215 Q80.2281 625.368 80.2281 629.118 Q80.2281 632.845 82.0568 635.02 Q83.9086 637.173 87.0567 637.173 Q90.2049 637.173 92.0336 635.02 Q93.8854 632.845 93.8854 629.118 Q93.8854 625.368 92.0336 623.215 Q90.2049 621.062 87.0567 621.062 M96.3391 606.409 L96.3391 610.669 Q94.5799 609.835 92.7743 609.396 Q90.9919 608.956 89.2327 608.956 Q84.6031 608.956 82.1494 612.081 Q79.7188 615.206 79.3716 621.525 Q80.7373 619.511 82.7975 618.446 Q84.8577 617.359 87.3345 617.359 Q92.5428 617.359 95.5521 620.53 Q98.5845 623.678 98.5845 629.118 Q98.5845 634.442 95.4363 637.659 Q92.2882 640.877 87.0567 640.877 Q81.0614 640.877 77.8901 636.294 Q74.7189 631.687 74.7189 622.96 Q74.7189 614.766 78.6077 609.905 Q82.4966 605.021 89.0475 605.021 Q90.8067 605.021 92.5891 605.368 Q94.3947 605.715 96.3391 606.409 Z\" fill=\"#000000\" fill-rule=\"evenodd\" fill-opacity=\"1\" /><path clip-path=\"url(#clip880)\" d=\"M 0 0 M86.7327 335.953 Q83.3994 335.953 81.4781 337.735 Q79.5799 339.518 79.5799 342.643 Q79.5799 345.768 81.4781 347.55 Q83.3994 349.332 86.7327 349.332 Q90.066 349.332 91.9873 347.55 Q93.9086 345.745 93.9086 342.643 Q93.9086 339.518 91.9873 337.735 Q90.0891 335.953 86.7327 335.953 M82.0568 333.962 Q79.0475 333.221 77.3577 331.161 Q75.6911 329.101 75.6911 326.138 Q75.6911 321.995 78.6309 319.587 Q81.5938 317.18 86.7327 317.18 Q91.8947 317.18 94.8345 319.587 Q97.7743 321.995 97.7743 326.138 Q97.7743 329.101 96.0845 331.161 Q94.4178 333.221 91.4317 333.962 Q94.8113 334.749 96.6863 337.041 Q98.5845 339.333 98.5845 342.643 Q98.5845 347.666 95.5058 350.351 Q92.4502 353.036 86.7327 353.036 Q81.0151 353.036 77.9364 350.351 Q74.8809 347.666 74.8809 342.643 Q74.8809 339.333 76.779 337.041 Q78.6772 334.749 82.0568 333.962 M80.3438 326.578 Q80.3438 329.263 82.0105 330.768 Q83.7003 332.272 86.7327 332.272 Q89.7419 332.272 91.4317 330.768 Q93.1447 329.263 93.1447 326.578 Q93.1447 323.893 91.4317 322.388 Q89.7419 320.884 86.7327 320.884 Q83.7003 320.884 82.0105 322.388 Q80.3438 323.893 80.3438 326.578 Z\" fill=\"#000000\" fill-rule=\"evenodd\" fill-opacity=\"1\" /><path clip-path=\"url(#clip880)\" d=\"M 0 0 M51.6634 60.5889 L59.3023 60.5889 L59.3023 34.2233 L50.9921 35.89 L50.9921 31.6308 L59.256 29.9641 L63.9319 29.9641 L63.9319 60.5889 L71.5707 60.5889 L71.5707 64.5241 L51.6634 64.5241 L51.6634 60.5889 Z\" fill=\"#000000\" fill-rule=\"evenodd\" fill-opacity=\"1\" /><path clip-path=\"url(#clip880)\" d=\"M 0 0 M86.6401 33.0428 Q83.029 33.0428 81.2003 36.6076 Q79.3948 40.1492 79.3948 47.2788 Q79.3948 54.3853 81.2003 57.9501 Q83.029 61.4917 86.6401 61.4917 Q90.2743 61.4917 92.0799 57.9501 Q93.9086 54.3853 93.9086 47.2788 Q93.9086 40.1492 92.0799 36.6076 Q90.2743 33.0428 86.6401 33.0428 M86.6401 29.3391 Q92.4502 29.3391 95.5058 33.9456 Q98.5845 38.5289 98.5845 47.2788 Q98.5845 56.0056 95.5058 60.6121 Q92.4502 65.1954 86.6401 65.1954 Q80.8299 65.1954 77.7512 60.6121 Q74.6957 56.0056 74.6957 47.2788 Q74.6957 38.5289 77.7512 33.9456 Q80.8299 29.3391 86.6401 29.3391 Z\" fill=\"#000000\" fill-rule=\"evenodd\" fill-opacity=\"1\" /><path clip-path=\"url(#clip882)\" d=\"M136.803 1358.53 L125.491 1353.84 L120.803 1342.53 L125.491 1331.22 L136.803 1326.53 L148.115 1331.22 L152.803 1342.53 L148.115 1353.84 Z\" fill=\"#009af9\" fill-rule=\"evenodd\" fill-opacity=\"1\" stroke=\"#000000\" stroke-opacity=\"1\" stroke-width=\"3.2\"/>\n<path clip-path=\"url(#clip880)\" d=\"\nM1981.34 216.178 L2278.82 216.178 L2278.82 95.2176 L1981.34 95.2176  Z\n  \" fill=\"#ffffff\" fill-rule=\"evenodd\" fill-opacity=\"1\"/>\n<polyline clip-path=\"url(#clip880)\" style=\"stroke:#000000; stroke-width:4; stroke-opacity:1; fill:none\" points=\"\n  1981.34,216.178 2278.82,216.178 2278.82,95.2176 1981.34,95.2176 1981.34,216.178 \n  \"/>\n<polyline clip-path=\"url(#clip880)\" style=\"stroke:#009af9; stroke-width:4; stroke-opacity:1; fill:none\" points=\"\n  2005.98,155.698 2153.86,155.698 \n  \"/>\n<path clip-path=\"url(#clip880)\" d=\"M2079.92 181.298 L2061.82 173.797 L2054.32 155.698 L2061.82 137.598 L2079.92 130.098 L2098.02 137.598 L2105.52 155.698 L2098.02 173.797 Z\" fill=\"#009af9\" fill-rule=\"evenodd\" fill-opacity=\"1\" stroke=\"#000000\" stroke-opacity=\"1\" stroke-width=\"5.12\"/>\n<path clip-path=\"url(#clip880)\" d=\"M 0 0 M2192.35 175.385 Q2190.54 180.015 2188.83 181.427 Q2187.12 182.839 2184.25 182.839 L2180.84 182.839 L2180.84 179.274 L2183.34 179.274 Q2185.1 179.274 2186.08 178.44 Q2187.05 177.607 2188.23 174.505 L2188.99 172.561 L2178.51 147.052 L2183.02 147.052 L2191.12 167.329 L2199.22 147.052 L2203.74 147.052 L2192.35 175.385 Z\" fill=\"#000000\" fill-rule=\"evenodd\" fill-opacity=\"1\" /><path clip-path=\"url(#clip880)\" d=\"M 0 0 M2209.62 169.042 L2217.26 169.042 L2217.26 142.677 L2208.95 144.343 L2208.95 140.084 L2217.21 138.418 L2221.89 138.418 L2221.89 169.042 L2229.52 169.042 L2229.52 172.978 L2209.62 172.978 L2209.62 169.042 Z\" fill=\"#000000\" fill-rule=\"evenodd\" fill-opacity=\"1\" /></svg>\n"
               },
               "type": "node"
              }
             ],
             "instanceArgs": {
              "namespace": "html",
              "tag": "div"
             },
             "nodeType": "DOM",
             "props": {
              "className": "interact-flex-row interact-widget"
             },
             "type": "node"
            }
           }
          },
          "systemjs_options": null
         },
         "nodeType": "Scope",
         "props": {},
         "type": "node"
        }
       ],
       "instanceArgs": {
        "namespace": "html",
        "tag": "div"
       },
       "nodeType": "DOM",
       "props": {},
       "type": "node"
      },
      "text/html": [
       "<div\n",
       "    class=\"webio-mountpoint\"\n",
       "    data-webio-mountpoint=\"16984921841167028805\"\n",
       ">\n",
       "    <script>\n",
       "    if (window.require && require.defined && require.defined(\"nbextensions/webio-jupyter-notebook\")) {\n",
       "        console.log(\"Jupyter WebIO extension detected, not mounting.\");\n",
       "    } else if (window.WebIO) {\n",
       "        WebIO.mount(\n",
       "            document.querySelector('[data-webio-mountpoint=\"16984921841167028805\"]'),\n",
       "            {\"props\":{},\"nodeType\":\"DOM\",\"type\":\"node\",\"instanceArgs\":{\"namespace\":\"html\",\"tag\":\"div\"},\"children\":[{\"props\":{\"className\":\"field interact-widget\"},\"nodeType\":\"DOM\",\"type\":\"node\",\"instanceArgs\":{\"namespace\":\"html\",\"tag\":\"div\"},\"children\":[{\"props\":{},\"nodeType\":\"Scope\",\"type\":\"node\",\"instanceArgs\":{\"imports\":{\"data\":[{\"name\":\"knockout\",\"type\":\"js\",\"url\":\"\\/assetserver\\/4e15ea8f38f5d33bf0b2930cb09c8089f78b114e-knockout.js\"},{\"name\":\"knockout_punches\",\"type\":\"js\",\"url\":\"\\/assetserver\\/6967e46b2259ea2e5c469b61c410326b52955db7-knockout_punches.js\"},{\"name\":null,\"type\":\"js\",\"url\":\"\\/assetserver\\/a643ec32b5fd67f0647ab1f378e6bc75a94bf7ef-all.js\"},{\"name\":null,\"type\":\"css\",\"url\":\"\\/assetserver\\/c4a428321098a6b37c6165665184ef1be8f91e08-style.css\"},{\"name\":null,\"type\":\"css\",\"url\":\"\\/assetserver\\/62690f06d5dfb4c711812ef88e307907ed9b059b-bulma_confined.min.css\"}],\"type\":\"async_block\"},\"id\":\"14721937422247612075\",\"handlers\":{\"changes\":[\"(function (val){return (val!=this.model[\\\"changes\\\"]()) ? (this.valueFromJulia[\\\"changes\\\"]=true, this.model[\\\"changes\\\"](val)) : undefined})\"],\"index\":[\"(function (val){return (val!=this.model[\\\"index\\\"]()) ? (this.valueFromJulia[\\\"index\\\"]=true, this.model[\\\"index\\\"](val)) : undefined})\"]},\"systemjs_options\":null,\"mount_callbacks\":[\"function () {\\n    var handler = (function (ko, koPunches) {\\n    ko.punches.enableAll();\\n    ko.bindingHandlers.numericValue = {\\n        init: function(element, valueAccessor, allBindings, data, context) {\\n            var stringified = ko.observable(ko.unwrap(valueAccessor()));\\n            stringified.subscribe(function(value) {\\n                var val = parseFloat(value);\\n                if (!isNaN(val)) {\\n                    valueAccessor()(val);\\n                }\\n            });\\n            valueAccessor().subscribe(function(value) {\\n                var str = JSON.stringify(value);\\n                if ((str == \\\"0\\\") && ([\\\"-0\\\", \\\"-0.\\\"].indexOf(stringified()) >= 0))\\n                     return;\\n                 if ([\\\"null\\\", \\\"\\\"].indexOf(str) >= 0)\\n                     return;\\n                stringified(str);\\n            });\\n            ko.applyBindingsToNode(\\n                element,\\n                {\\n                    value: stringified,\\n                    valueUpdate: allBindings.get('valueUpdate'),\\n                },\\n                context,\\n            );\\n        }\\n    };\\n    var json_data = {\\\"formatted_vals\\\":[\\\"1\\\",\\\"2\\\",\\\"3\\\",\\\"4\\\",\\\"5\\\",\\\"6\\\",\\\"7\\\",\\\"8\\\",\\\"9\\\",\\\"10\\\",\\\"11\\\",\\\"12\\\",\\\"13\\\",\\\"14\\\",\\\"15\\\",\\\"16\\\",\\\"17\\\",\\\"18\\\",\\\"19\\\",\\\"20\\\",\\\"21\\\",\\\"22\\\",\\\"23\\\",\\\"24\\\",\\\"25\\\",\\\"26\\\",\\\"27\\\",\\\"28\\\",\\\"29\\\",\\\"30\\\",\\\"31\\\",\\\"32\\\",\\\"33\\\",\\\"34\\\",\\\"35\\\",\\\"36\\\",\\\"37\\\",\\\"38\\\",\\\"39\\\",\\\"40\\\",\\\"41\\\",\\\"42\\\",\\\"43\\\",\\\"44\\\",\\\"45\\\",\\\"46\\\",\\\"47\\\",\\\"48\\\",\\\"49\\\",\\\"50\\\",\\\"51\\\",\\\"52\\\",\\\"53\\\",\\\"54\\\",\\\"55\\\",\\\"56\\\",\\\"57\\\",\\\"58\\\",\\\"59\\\",\\\"60\\\",\\\"61\\\",\\\"62\\\",\\\"63\\\",\\\"64\\\",\\\"65\\\",\\\"66\\\",\\\"67\\\",\\\"68\\\",\\\"69\\\",\\\"70\\\",\\\"71\\\",\\\"72\\\",\\\"73\\\",\\\"74\\\",\\\"75\\\",\\\"76\\\",\\\"77\\\",\\\"78\\\",\\\"79\\\",\\\"80\\\",\\\"81\\\",\\\"82\\\",\\\"83\\\",\\\"84\\\",\\\"85\\\",\\\"86\\\",\\\"87\\\",\\\"88\\\",\\\"89\\\",\\\"90\\\",\\\"91\\\",\\\"92\\\",\\\"93\\\",\\\"94\\\",\\\"95\\\",\\\"96\\\",\\\"97\\\",\\\"98\\\",\\\"99\\\",\\\"100\\\",\\\"101\\\",\\\"102\\\",\\\"103\\\",\\\"104\\\",\\\"105\\\",\\\"106\\\",\\\"107\\\",\\\"108\\\",\\\"109\\\",\\\"110\\\",\\\"111\\\",\\\"112\\\",\\\"113\\\",\\\"114\\\",\\\"115\\\",\\\"116\\\",\\\"117\\\",\\\"118\\\",\\\"119\\\",\\\"120\\\",\\\"121\\\",\\\"122\\\",\\\"123\\\",\\\"124\\\",\\\"125\\\",\\\"126\\\",\\\"127\\\",\\\"128\\\",\\\"129\\\",\\\"130\\\",\\\"131\\\",\\\"132\\\",\\\"133\\\",\\\"134\\\",\\\"135\\\",\\\"136\\\",\\\"137\\\",\\\"138\\\",\\\"139\\\",\\\"140\\\",\\\"141\\\",\\\"142\\\",\\\"143\\\",\\\"144\\\",\\\"145\\\",\\\"146\\\",\\\"147\\\",\\\"148\\\",\\\"149\\\",\\\"150\\\",\\\"151\\\",\\\"152\\\",\\\"153\\\",\\\"154\\\",\\\"155\\\",\\\"156\\\",\\\"157\\\",\\\"158\\\",\\\"159\\\",\\\"160\\\",\\\"161\\\",\\\"162\\\",\\\"163\\\",\\\"164\\\",\\\"165\\\",\\\"166\\\",\\\"167\\\",\\\"168\\\",\\\"169\\\",\\\"170\\\",\\\"171\\\",\\\"172\\\",\\\"173\\\",\\\"174\\\",\\\"175\\\",\\\"176\\\",\\\"177\\\",\\\"178\\\",\\\"179\\\",\\\"180\\\",\\\"181\\\",\\\"182\\\",\\\"183\\\",\\\"184\\\",\\\"185\\\",\\\"186\\\",\\\"187\\\",\\\"188\\\",\\\"189\\\",\\\"190\\\",\\\"191\\\",\\\"192\\\",\\\"193\\\",\\\"194\\\",\\\"195\\\",\\\"196\\\",\\\"197\\\",\\\"198\\\",\\\"199\\\",\\\"200\\\",\\\"201\\\",\\\"202\\\",\\\"203\\\",\\\"204\\\",\\\"205\\\",\\\"206\\\",\\\"207\\\",\\\"208\\\",\\\"209\\\",\\\"210\\\",\\\"211\\\",\\\"212\\\",\\\"213\\\",\\\"214\\\",\\\"215\\\",\\\"216\\\",\\\"217\\\",\\\"218\\\",\\\"219\\\",\\\"220\\\",\\\"221\\\",\\\"222\\\",\\\"223\\\",\\\"224\\\",\\\"225\\\",\\\"226\\\",\\\"227\\\",\\\"228\\\",\\\"229\\\",\\\"230\\\",\\\"231\\\",\\\"232\\\",\\\"233\\\",\\\"234\\\",\\\"235\\\",\\\"236\\\",\\\"237\\\",\\\"238\\\",\\\"239\\\",\\\"240\\\",\\\"241\\\",\\\"242\\\",\\\"243\\\",\\\"244\\\",\\\"245\\\",\\\"246\\\",\\\"247\\\",\\\"248\\\",\\\"249\\\",\\\"250\\\",\\\"251\\\",\\\"252\\\",\\\"253\\\",\\\"254\\\",\\\"255\\\",\\\"256\\\",\\\"257\\\",\\\"258\\\",\\\"259\\\",\\\"260\\\",\\\"261\\\",\\\"262\\\",\\\"263\\\",\\\"264\\\",\\\"265\\\",\\\"266\\\",\\\"267\\\",\\\"268\\\",\\\"269\\\",\\\"270\\\",\\\"271\\\",\\\"272\\\",\\\"273\\\",\\\"274\\\",\\\"275\\\",\\\"276\\\",\\\"277\\\",\\\"278\\\",\\\"279\\\",\\\"280\\\",\\\"281\\\",\\\"282\\\",\\\"283\\\",\\\"284\\\",\\\"285\\\",\\\"286\\\",\\\"287\\\",\\\"288\\\",\\\"289\\\",\\\"290\\\",\\\"291\\\",\\\"292\\\",\\\"293\\\",\\\"294\\\",\\\"295\\\",\\\"296\\\",\\\"297\\\",\\\"298\\\",\\\"299\\\",\\\"300\\\",\\\"301\\\",\\\"302\\\",\\\"303\\\",\\\"304\\\",\\\"305\\\",\\\"306\\\",\\\"307\\\",\\\"308\\\",\\\"309\\\",\\\"310\\\",\\\"311\\\",\\\"312\\\",\\\"313\\\",\\\"314\\\",\\\"315\\\",\\\"316\\\",\\\"317\\\",\\\"318\\\",\\\"319\\\",\\\"320\\\",\\\"321\\\",\\\"322\\\",\\\"323\\\",\\\"324\\\",\\\"325\\\",\\\"326\\\",\\\"327\\\",\\\"328\\\",\\\"329\\\",\\\"330\\\",\\\"331\\\",\\\"332\\\",\\\"333\\\",\\\"334\\\",\\\"335\\\",\\\"336\\\",\\\"337\\\",\\\"338\\\",\\\"339\\\",\\\"340\\\",\\\"341\\\",\\\"342\\\",\\\"343\\\",\\\"344\\\",\\\"345\\\",\\\"346\\\",\\\"347\\\",\\\"348\\\",\\\"349\\\",\\\"350\\\",\\\"351\\\",\\\"352\\\",\\\"353\\\",\\\"354\\\",\\\"355\\\",\\\"356\\\",\\\"357\\\",\\\"358\\\",\\\"359\\\",\\\"360\\\",\\\"361\\\",\\\"362\\\",\\\"363\\\",\\\"364\\\",\\\"365\\\",\\\"366\\\",\\\"367\\\",\\\"368\\\",\\\"369\\\",\\\"370\\\",\\\"371\\\",\\\"372\\\",\\\"373\\\",\\\"374\\\",\\\"375\\\",\\\"376\\\",\\\"377\\\",\\\"378\\\",\\\"379\\\",\\\"380\\\",\\\"381\\\",\\\"382\\\",\\\"383\\\",\\\"384\\\",\\\"385\\\",\\\"386\\\",\\\"387\\\",\\\"388\\\",\\\"389\\\",\\\"390\\\",\\\"391\\\",\\\"392\\\",\\\"393\\\",\\\"394\\\",\\\"395\\\",\\\"396\\\",\\\"397\\\",\\\"398\\\",\\\"399\\\",\\\"400\\\",\\\"401\\\",\\\"402\\\",\\\"403\\\",\\\"404\\\",\\\"405\\\",\\\"406\\\",\\\"407\\\",\\\"408\\\",\\\"409\\\",\\\"410\\\",\\\"411\\\",\\\"412\\\",\\\"413\\\",\\\"414\\\",\\\"415\\\",\\\"416\\\",\\\"417\\\",\\\"418\\\",\\\"419\\\",\\\"420\\\",\\\"421\\\",\\\"422\\\",\\\"423\\\",\\\"424\\\",\\\"425\\\",\\\"426\\\",\\\"427\\\",\\\"428\\\",\\\"429\\\",\\\"430\\\",\\\"431\\\",\\\"432\\\",\\\"433\\\",\\\"434\\\",\\\"435\\\",\\\"436\\\",\\\"437\\\",\\\"438\\\",\\\"439\\\",\\\"440\\\",\\\"441\\\",\\\"442\\\",\\\"443\\\",\\\"444\\\",\\\"445\\\",\\\"446\\\",\\\"447\\\",\\\"448\\\",\\\"449\\\",\\\"450\\\",\\\"451\\\",\\\"452\\\",\\\"453\\\",\\\"454\\\",\\\"455\\\",\\\"456\\\",\\\"457\\\",\\\"458\\\",\\\"459\\\",\\\"460\\\",\\\"461\\\",\\\"462\\\",\\\"463\\\",\\\"464\\\",\\\"465\\\",\\\"466\\\",\\\"467\\\",\\\"468\\\",\\\"469\\\",\\\"470\\\",\\\"471\\\",\\\"472\\\",\\\"473\\\",\\\"474\\\",\\\"475\\\",\\\"476\\\",\\\"477\\\",\\\"478\\\",\\\"479\\\",\\\"480\\\",\\\"481\\\",\\\"482\\\",\\\"483\\\",\\\"484\\\",\\\"485\\\",\\\"486\\\",\\\"487\\\",\\\"488\\\",\\\"489\\\",\\\"490\\\",\\\"491\\\",\\\"492\\\",\\\"493\\\",\\\"494\\\",\\\"495\\\",\\\"496\\\",\\\"497\\\",\\\"498\\\",\\\"499\\\",\\\"500\\\",\\\"501\\\",\\\"502\\\",\\\"503\\\",\\\"504\\\",\\\"505\\\",\\\"506\\\",\\\"507\\\",\\\"508\\\",\\\"509\\\",\\\"510\\\",\\\"511\\\",\\\"512\\\",\\\"513\\\",\\\"514\\\",\\\"515\\\",\\\"516\\\",\\\"517\\\",\\\"518\\\",\\\"519\\\",\\\"520\\\",\\\"521\\\",\\\"522\\\",\\\"523\\\",\\\"524\\\",\\\"525\\\",\\\"526\\\",\\\"527\\\",\\\"528\\\",\\\"529\\\",\\\"530\\\",\\\"531\\\",\\\"532\\\",\\\"533\\\",\\\"534\\\",\\\"535\\\",\\\"536\\\",\\\"537\\\",\\\"538\\\",\\\"539\\\",\\\"540\\\",\\\"541\\\",\\\"542\\\",\\\"543\\\",\\\"544\\\",\\\"545\\\",\\\"546\\\",\\\"547\\\",\\\"548\\\",\\\"549\\\",\\\"550\\\",\\\"551\\\",\\\"552\\\",\\\"553\\\",\\\"554\\\",\\\"555\\\",\\\"556\\\",\\\"557\\\",\\\"558\\\",\\\"559\\\",\\\"560\\\",\\\"561\\\",\\\"562\\\",\\\"563\\\",\\\"564\\\",\\\"565\\\",\\\"566\\\",\\\"567\\\",\\\"568\\\",\\\"569\\\",\\\"570\\\",\\\"571\\\",\\\"572\\\",\\\"573\\\",\\\"574\\\",\\\"575\\\",\\\"576\\\",\\\"577\\\",\\\"578\\\",\\\"579\\\",\\\"580\\\",\\\"581\\\",\\\"582\\\",\\\"583\\\",\\\"584\\\",\\\"585\\\",\\\"586\\\",\\\"587\\\",\\\"588\\\",\\\"589\\\",\\\"590\\\",\\\"591\\\",\\\"592\\\",\\\"593\\\",\\\"594\\\",\\\"595\\\",\\\"596\\\",\\\"597\\\",\\\"598\\\",\\\"599\\\",\\\"600\\\",\\\"601\\\",\\\"602\\\",\\\"603\\\",\\\"604\\\",\\\"605\\\",\\\"606\\\",\\\"607\\\",\\\"608\\\",\\\"609\\\",\\\"610\\\",\\\"611\\\",\\\"612\\\",\\\"613\\\",\\\"614\\\",\\\"615\\\",\\\"616\\\",\\\"617\\\",\\\"618\\\",\\\"619\\\",\\\"620\\\",\\\"621\\\",\\\"622\\\",\\\"623\\\",\\\"624\\\",\\\"625\\\",\\\"626\\\",\\\"627\\\",\\\"628\\\",\\\"629\\\",\\\"630\\\",\\\"631\\\",\\\"632\\\",\\\"633\\\",\\\"634\\\",\\\"635\\\",\\\"636\\\",\\\"637\\\",\\\"638\\\",\\\"639\\\",\\\"640\\\",\\\"641\\\",\\\"642\\\",\\\"643\\\",\\\"644\\\",\\\"645\\\",\\\"646\\\",\\\"647\\\",\\\"648\\\",\\\"649\\\",\\\"650\\\",\\\"651\\\",\\\"652\\\",\\\"653\\\",\\\"654\\\",\\\"655\\\",\\\"656\\\",\\\"657\\\",\\\"658\\\",\\\"659\\\",\\\"660\\\",\\\"661\\\",\\\"662\\\",\\\"663\\\",\\\"664\\\",\\\"665\\\",\\\"666\\\",\\\"667\\\",\\\"668\\\",\\\"669\\\",\\\"670\\\",\\\"671\\\",\\\"672\\\",\\\"673\\\",\\\"674\\\",\\\"675\\\",\\\"676\\\",\\\"677\\\",\\\"678\\\",\\\"679\\\",\\\"680\\\",\\\"681\\\",\\\"682\\\",\\\"683\\\",\\\"684\\\",\\\"685\\\",\\\"686\\\",\\\"687\\\",\\\"688\\\",\\\"689\\\",\\\"690\\\",\\\"691\\\",\\\"692\\\",\\\"693\\\",\\\"694\\\",\\\"695\\\",\\\"696\\\",\\\"697\\\",\\\"698\\\",\\\"699\\\",\\\"700\\\",\\\"701\\\",\\\"702\\\",\\\"703\\\",\\\"704\\\",\\\"705\\\",\\\"706\\\",\\\"707\\\",\\\"708\\\",\\\"709\\\",\\\"710\\\",\\\"711\\\",\\\"712\\\",\\\"713\\\",\\\"714\\\",\\\"715\\\",\\\"716\\\",\\\"717\\\",\\\"718\\\",\\\"719\\\",\\\"720\\\",\\\"721\\\",\\\"722\\\",\\\"723\\\",\\\"724\\\",\\\"725\\\",\\\"726\\\",\\\"727\\\",\\\"728\\\",\\\"729\\\",\\\"730\\\",\\\"731\\\",\\\"732\\\",\\\"733\\\",\\\"734\\\",\\\"735\\\",\\\"736\\\",\\\"737\\\",\\\"738\\\",\\\"739\\\",\\\"740\\\",\\\"741\\\",\\\"742\\\",\\\"743\\\",\\\"744\\\",\\\"745\\\",\\\"746\\\",\\\"747\\\",\\\"748\\\",\\\"749\\\",\\\"750\\\",\\\"751\\\",\\\"752\\\",\\\"753\\\",\\\"754\\\",\\\"755\\\",\\\"756\\\",\\\"757\\\",\\\"758\\\",\\\"759\\\",\\\"760\\\",\\\"761\\\",\\\"762\\\",\\\"763\\\",\\\"764\\\",\\\"765\\\",\\\"766\\\",\\\"767\\\",\\\"768\\\",\\\"769\\\",\\\"770\\\",\\\"771\\\",\\\"772\\\",\\\"773\\\",\\\"774\\\",\\\"775\\\",\\\"776\\\",\\\"777\\\",\\\"778\\\",\\\"779\\\",\\\"780\\\",\\\"781\\\",\\\"782\\\",\\\"783\\\",\\\"784\\\",\\\"785\\\",\\\"786\\\",\\\"787\\\",\\\"788\\\",\\\"789\\\",\\\"790\\\",\\\"791\\\",\\\"792\\\",\\\"793\\\",\\\"794\\\",\\\"795\\\",\\\"796\\\",\\\"797\\\",\\\"798\\\",\\\"799\\\",\\\"800\\\",\\\"801\\\",\\\"802\\\",\\\"803\\\",\\\"804\\\",\\\"805\\\",\\\"806\\\",\\\"807\\\",\\\"808\\\",\\\"809\\\",\\\"810\\\",\\\"811\\\",\\\"812\\\",\\\"813\\\",\\\"814\\\",\\\"815\\\",\\\"816\\\",\\\"817\\\",\\\"818\\\",\\\"819\\\",\\\"820\\\",\\\"821\\\",\\\"822\\\",\\\"823\\\",\\\"824\\\",\\\"825\\\",\\\"826\\\",\\\"827\\\",\\\"828\\\",\\\"829\\\",\\\"830\\\",\\\"831\\\",\\\"832\\\",\\\"833\\\",\\\"834\\\",\\\"835\\\",\\\"836\\\",\\\"837\\\",\\\"838\\\",\\\"839\\\",\\\"840\\\",\\\"841\\\",\\\"842\\\",\\\"843\\\",\\\"844\\\",\\\"845\\\",\\\"846\\\",\\\"847\\\",\\\"848\\\",\\\"849\\\",\\\"850\\\",\\\"851\\\",\\\"852\\\",\\\"853\\\",\\\"854\\\",\\\"855\\\",\\\"856\\\",\\\"857\\\",\\\"858\\\",\\\"859\\\",\\\"860\\\",\\\"861\\\",\\\"862\\\",\\\"863\\\",\\\"864\\\",\\\"865\\\",\\\"866\\\",\\\"867\\\",\\\"868\\\",\\\"869\\\",\\\"870\\\",\\\"871\\\",\\\"872\\\",\\\"873\\\",\\\"874\\\",\\\"875\\\",\\\"876\\\",\\\"877\\\",\\\"878\\\",\\\"879\\\",\\\"880\\\",\\\"881\\\",\\\"882\\\",\\\"883\\\",\\\"884\\\",\\\"885\\\",\\\"886\\\",\\\"887\\\",\\\"888\\\",\\\"889\\\",\\\"890\\\",\\\"891\\\",\\\"892\\\",\\\"893\\\",\\\"894\\\",\\\"895\\\",\\\"896\\\",\\\"897\\\",\\\"898\\\",\\\"899\\\",\\\"900\\\",\\\"901\\\",\\\"902\\\",\\\"903\\\",\\\"904\\\",\\\"905\\\",\\\"906\\\",\\\"907\\\",\\\"908\\\",\\\"909\\\",\\\"910\\\",\\\"911\\\",\\\"912\\\",\\\"913\\\",\\\"914\\\",\\\"915\\\",\\\"916\\\",\\\"917\\\",\\\"918\\\",\\\"919\\\",\\\"920\\\",\\\"921\\\",\\\"922\\\",\\\"923\\\",\\\"924\\\",\\\"925\\\",\\\"926\\\",\\\"927\\\",\\\"928\\\",\\\"929\\\",\\\"930\\\",\\\"931\\\",\\\"932\\\",\\\"933\\\",\\\"934\\\",\\\"935\\\",\\\"936\\\",\\\"937\\\",\\\"938\\\",\\\"939\\\",\\\"940\\\",\\\"941\\\",\\\"942\\\",\\\"943\\\",\\\"944\\\",\\\"945\\\",\\\"946\\\",\\\"947\\\",\\\"948\\\",\\\"949\\\",\\\"950\\\",\\\"951\\\",\\\"952\\\",\\\"953\\\",\\\"954\\\",\\\"955\\\",\\\"956\\\",\\\"957\\\",\\\"958\\\",\\\"959\\\",\\\"960\\\",\\\"961\\\",\\\"962\\\",\\\"963\\\",\\\"964\\\",\\\"965\\\",\\\"966\\\",\\\"967\\\",\\\"968\\\",\\\"969\\\",\\\"970\\\",\\\"971\\\",\\\"972\\\",\\\"973\\\",\\\"974\\\",\\\"975\\\",\\\"976\\\",\\\"977\\\",\\\"978\\\",\\\"979\\\",\\\"980\\\",\\\"981\\\",\\\"982\\\",\\\"983\\\",\\\"984\\\",\\\"985\\\",\\\"986\\\",\\\"987\\\",\\\"988\\\",\\\"989\\\",\\\"990\\\",\\\"991\\\",\\\"992\\\",\\\"993\\\",\\\"994\\\",\\\"995\\\",\\\"996\\\",\\\"997\\\",\\\"998\\\",\\\"999\\\",\\\"1000\\\"],\\\"changes\\\":WebIO.getval({\\\"name\\\":\\\"changes\\\",\\\"scope\\\":\\\"14721937422247612075\\\",\\\"id\\\":\\\"18421728926803028525\\\",\\\"type\\\":\\\"observable\\\"}),\\\"index\\\":WebIO.getval({\\\"name\\\":\\\"index\\\",\\\"scope\\\":\\\"14721937422247612075\\\",\\\"id\\\":\\\"13697678738429543450\\\",\\\"type\\\":\\\"observable\\\"})};\\n    var self = this;\\n    function AppViewModel() {\\n        for (var key in json_data) {\\n            var el = json_data[key];\\n            this[key] = Array.isArray(el) ? ko.observableArray(el) : ko.observable(el);\\n        }\\n        \\n        [this[\\\"formatted_val\\\"]=ko.computed(    function(){\\n        return this.formatted_vals()[parseInt(this.index())-(1)];\\n    }\\n,this)]\\n        [this[\\\"changes\\\"].subscribe((function (val){!(this.valueFromJulia[\\\"changes\\\"]) ? (WebIO.setval({\\\"name\\\":\\\"changes\\\",\\\"scope\\\":\\\"14721937422247612075\\\",\\\"id\\\":\\\"18421728926803028525\\\",\\\"type\\\":\\\"observable\\\"},val)) : undefined; return this.valueFromJulia[\\\"changes\\\"]=false}),self),this[\\\"index\\\"].subscribe((function (val){!(this.valueFromJulia[\\\"index\\\"]) ? (WebIO.setval({\\\"name\\\":\\\"index\\\",\\\"scope\\\":\\\"14721937422247612075\\\",\\\"id\\\":\\\"13697678738429543450\\\",\\\"type\\\":\\\"observable\\\"},val)) : undefined; return this.valueFromJulia[\\\"index\\\"]=false}),self)]\\n        \\n    }\\n    self.model = new AppViewModel();\\n    self.valueFromJulia = {};\\n    for (var key in json_data) {\\n        self.valueFromJulia[key] = false;\\n    }\\n    ko.applyBindings(self.model, self.dom);\\n}\\n);\\n    (WebIO.importBlock({\\\"data\\\":[{\\\"name\\\":\\\"knockout\\\",\\\"type\\\":\\\"js\\\",\\\"url\\\":\\\"\\/assetserver\\/4e15ea8f38f5d33bf0b2930cb09c8089f78b114e-knockout.js\\\"},{\\\"name\\\":\\\"knockout_punches\\\",\\\"type\\\":\\\"js\\\",\\\"url\\\":\\\"\\/assetserver\\/6967e46b2259ea2e5c469b61c410326b52955db7-knockout_punches.js\\\"}],\\\"type\\\":\\\"async_block\\\"})).then((imports) => handler.apply(this, imports));\\n}\\n\"],\"observables\":{\"changes\":{\"sync\":false,\"id\":\"18421728926803028525\",\"value\":0},\"index\":{\"sync\":true,\"id\":\"13697678738429543450\",\"value\":1}}},\"children\":[{\"props\":{\"className\":\"interact-flex-row interact-widget\"},\"nodeType\":\"DOM\",\"type\":\"node\",\"instanceArgs\":{\"namespace\":\"html\",\"tag\":\"div\"},\"children\":[{\"props\":{\"className\":\"interact-flex-row-left\"},\"nodeType\":\"DOM\",\"type\":\"node\",\"instanceArgs\":{\"namespace\":\"html\",\"tag\":\"div\"},\"children\":[{\"props\":{\"className\":\"interact \",\"style\":{\"padding\":\"5px 10px 0px 10px\"}},\"nodeType\":\"DOM\",\"type\":\"node\",\"instanceArgs\":{\"namespace\":\"html\",\"tag\":\"label\"},\"children\":[\"\"]}]},{\"props\":{\"className\":\"interact-flex-row-center\"},\"nodeType\":\"DOM\",\"type\":\"node\",\"instanceArgs\":{\"namespace\":\"html\",\"tag\":\"div\"},\"children\":[{\"props\":{\"max\":1000,\"min\":1,\"attributes\":{\"type\":\"range\",\"data-bind\":\"numericValue: index, valueUpdate: 'input', event: {change: function (){this.changes(this.changes()+1)}}\",\"orient\":\"horizontal\"},\"step\":1,\"className\":\"slider slider is-fullwidth\",\"style\":{}},\"nodeType\":\"DOM\",\"type\":\"node\",\"instanceArgs\":{\"namespace\":\"html\",\"tag\":\"input\"},\"children\":[]}]},{\"props\":{\"className\":\"interact-flex-row-right\"},\"nodeType\":\"DOM\",\"type\":\"node\",\"instanceArgs\":{\"namespace\":\"html\",\"tag\":\"div\"},\"children\":[{\"props\":{\"attributes\":{\"data-bind\":\"text: formatted_val\"}},\"nodeType\":\"DOM\",\"type\":\"node\",\"instanceArgs\":{\"namespace\":\"html\",\"tag\":\"p\"},\"children\":[]}]}]}]}]},{\"props\":{},\"nodeType\":\"Scope\",\"type\":\"node\",\"instanceArgs\":{\"imports\":{\"data\":[],\"type\":\"async_block\"},\"id\":\"11710235627355659925\",\"handlers\":{},\"systemjs_options\":null,\"mount_callbacks\":[],\"observables\":{\"obs-node\":{\"sync\":false,\"id\":\"10495457760526852048\",\"value\":{\"props\":{\"className\":\"interact-flex-row interact-widget\"},\"nodeType\":\"DOM\",\"type\":\"node\",\"instanceArgs\":{\"namespace\":\"html\",\"tag\":\"div\"},\"children\":[{\"props\":{\"setInnerHtml\":\"<?xml version=\\\"1.0\\\" encoding=\\\"utf-8\\\"?>\\n<svg xmlns=\\\"http:\\/\\/www.w3.org\\/2000\\/svg\\\" xmlns:xlink=\\\"http:\\/\\/www.w3.org\\/1999\\/xlink\\\" width=\\\"600\\\" height=\\\"400\\\" viewBox=\\\"0 0 2400 1600\\\">\\n<defs>\\n  <clipPath id=\\\"clip840\\\">\\n    <rect x=\\\"0\\\" y=\\\"0\\\" width=\\\"2400\\\" height=\\\"1600\\\"\\/>\\n  <\\/clipPath>\\n<\\/defs>\\n<path clip-path=\\\"url(#clip840)\\\" d=\\\"\\nM0 1600 L2400 1600 L2400 0 L0 0  Z\\n  \\\" fill=\\\"#ffffff\\\" fill-rule=\\\"evenodd\\\" fill-opacity=\\\"1\\\"\\/>\\n<defs>\\n  <clipPath id=\\\"clip841\\\">\\n    <rect x=\\\"480\\\" y=\\\"0\\\" width=\\\"1681\\\" height=\\\"1600\\\"\\/>\\n  <\\/clipPath>\\n<\\/defs>\\n<path clip-path=\\\"url(#clip840)\\\" d=\\\"\\nM134.584 1486.45 L2352.76 1486.45 L2352.76 47.2441 L134.584 47.2441  Z\\n  \\\" fill=\\\"#ffffff\\\" fill-rule=\\\"evenodd\\\" fill-opacity=\\\"1\\\"\\/>\\n<defs>\\n  <clipPath id=\\\"clip842\\\">\\n    <rect x=\\\"134\\\" y=\\\"47\\\" width=\\\"2219\\\" height=\\\"1440\\\"\\/>\\n  <\\/clipPath>\\n<\\/defs>\\n<polyline clip-path=\\\"url(#clip842)\\\" style=\\\"stroke:#000000; stroke-width:2; stroke-opacity:0.1; fill:none\\\" points=\\\"\\n  134.584,1486.45 134.584,47.2441 \\n  \\\"\\/>\\n<polyline clip-path=\\\"url(#clip842)\\\" style=\\\"stroke:#000000; stroke-width:2; stroke-opacity:0.1; fill:none\\\" points=\\\"\\n  578.219,1486.45 578.219,47.2441 \\n  \\\"\\/>\\n<polyline clip-path=\\\"url(#clip842)\\\" style=\\\"stroke:#000000; stroke-width:2; stroke-opacity:0.1; fill:none\\\" points=\\\"\\n  1021.85,1486.45 1021.85,47.2441 \\n  \\\"\\/>\\n<polyline clip-path=\\\"url(#clip842)\\\" style=\\\"stroke:#000000; stroke-width:2; stroke-opacity:0.1; fill:none\\\" points=\\\"\\n  1465.49,1486.45 1465.49,47.2441 \\n  \\\"\\/>\\n<polyline clip-path=\\\"url(#clip842)\\\" style=\\\"stroke:#000000; stroke-width:2; stroke-opacity:0.1; fill:none\\\" points=\\\"\\n  1909.12,1486.45 1909.12,47.2441 \\n  \\\"\\/>\\n<polyline clip-path=\\\"url(#clip842)\\\" style=\\\"stroke:#000000; stroke-width:2; stroke-opacity:0.1; fill:none\\\" points=\\\"\\n  2352.76,1486.45 2352.76,47.2441 \\n  \\\"\\/>\\n<polyline clip-path=\\\"url(#clip840)\\\" style=\\\"stroke:#000000; stroke-width:4; stroke-opacity:1; fill:none\\\" points=\\\"\\n  134.584,1486.45 2352.76,1486.45 \\n  \\\"\\/>\\n<polyline clip-path=\\\"url(#clip840)\\\" style=\\\"stroke:#000000; stroke-width:4; stroke-opacity:1; fill:none\\\" points=\\\"\\n  134.584,1486.45 134.584,1469.18 \\n  \\\"\\/>\\n<polyline clip-path=\\\"url(#clip840)\\\" style=\\\"stroke:#000000; stroke-width:4; stroke-opacity:1; fill:none\\\" points=\\\"\\n  578.219,1486.45 578.219,1469.18 \\n  \\\"\\/>\\n<polyline clip-path=\\\"url(#clip840)\\\" style=\\\"stroke:#000000; stroke-width:4; stroke-opacity:1; fill:none\\\" points=\\\"\\n  1021.85,1486.45 1021.85,1469.18 \\n  \\\"\\/>\\n<polyline clip-path=\\\"url(#clip840)\\\" style=\\\"stroke:#000000; stroke-width:4; stroke-opacity:1; fill:none\\\" points=\\\"\\n  1465.49,1486.45 1465.49,1469.18 \\n  \\\"\\/>\\n<polyline clip-path=\\\"url(#clip840)\\\" style=\\\"stroke:#000000; stroke-width:4; stroke-opacity:1; fill:none\\\" points=\\\"\\n  1909.12,1486.45 1909.12,1469.18 \\n  \\\"\\/>\\n<polyline clip-path=\\\"url(#clip840)\\\" style=\\\"stroke:#000000; stroke-width:4; stroke-opacity:1; fill:none\\\" points=\\\"\\n  2352.76,1486.45 2352.76,1469.18 \\n  \\\"\\/>\\n<path clip-path=\\\"url(#clip840)\\\" d=\\\"M 0 0 M134.584 1515.64 Q130.973 1515.64 129.145 1519.2 Q127.339 1522.75 127.339 1529.87 Q127.339 1536.98 129.145 1540.55 Q130.973 1544.09 134.584 1544.09 Q138.219 1544.09 140.024 1540.55 Q141.853 1536.98 141.853 1529.87 Q141.853 1522.75 140.024 1519.2 Q138.219 1515.64 134.584 1515.64 M134.584 1511.93 Q140.395 1511.93 143.45 1516.54 Q146.529 1521.12 146.529 1529.87 Q146.529 1538.6 143.45 1543.21 Q140.395 1547.79 134.584 1547.79 Q128.774 1547.79 125.696 1543.21 Q122.64 1538.6 122.64 1529.87 Q122.64 1521.12 125.696 1516.54 Q128.774 1511.93 134.584 1511.93 Z\\\" fill=\\\"#000000\\\" fill-rule=\\\"evenodd\\\" fill-opacity=\\\"1\\\" \\/><path clip-path=\\\"url(#clip840)\\\" d=\\\"M 0 0 M545.858 1543.18 L562.177 1543.18 L562.177 1547.12 L540.233 1547.12 L540.233 1543.18 Q542.895 1540.43 547.478 1535.8 Q552.085 1531.15 553.265 1529.81 Q555.511 1527.28 556.39 1525.55 Q557.293 1523.79 557.293 1522.1 Q557.293 1519.34 555.349 1517.61 Q553.427 1515.87 550.325 1515.87 Q548.126 1515.87 545.673 1516.63 Q543.242 1517.4 540.464 1518.95 L540.464 1514.23 Q543.288 1513.09 545.742 1512.51 Q548.196 1511.93 550.233 1511.93 Q555.603 1511.93 558.798 1514.62 Q561.992 1517.31 561.992 1521.8 Q561.992 1523.93 561.182 1525.85 Q560.395 1527.74 558.288 1530.34 Q557.71 1531.01 554.608 1534.23 Q551.506 1537.42 545.858 1543.18 Z\\\" fill=\\\"#000000\\\" fill-rule=\\\"evenodd\\\" fill-opacity=\\\"1\\\" \\/><path clip-path=\\\"url(#clip840)\\\" d=\\\"M 0 0 M577.247 1515.64 Q573.635 1515.64 571.807 1519.2 Q570.001 1522.75 570.001 1529.87 Q570.001 1536.98 571.807 1540.55 Q573.635 1544.09 577.247 1544.09 Q580.881 1544.09 582.686 1540.55 Q584.515 1536.98 584.515 1529.87 Q584.515 1522.75 582.686 1519.2 Q580.881 1515.64 577.247 1515.64 M577.247 1511.93 Q583.057 1511.93 586.112 1516.54 Q589.191 1521.12 589.191 1529.87 Q589.191 1538.6 586.112 1543.21 Q583.057 1547.79 577.247 1547.79 Q571.436 1547.79 568.358 1543.21 Q565.302 1538.6 565.302 1529.87 Q565.302 1521.12 568.358 1516.54 Q571.436 1511.93 577.247 1511.93 Z\\\" fill=\\\"#000000\\\" fill-rule=\\\"evenodd\\\" fill-opacity=\\\"1\\\" \\/><path clip-path=\\\"url(#clip840)\\\" d=\\\"M 0 0 M604.26 1515.64 Q600.649 1515.64 598.82 1519.2 Q597.015 1522.75 597.015 1529.87 Q597.015 1536.98 598.82 1540.55 Q600.649 1544.09 604.26 1544.09 Q607.895 1544.09 609.7 1540.55 Q611.529 1536.98 611.529 1529.87 Q611.529 1522.75 609.7 1519.2 Q607.895 1515.64 604.26 1515.64 M604.26 1511.93 Q610.07 1511.93 613.126 1516.54 Q616.205 1521.12 616.205 1529.87 Q616.205 1538.6 613.126 1543.21 Q610.07 1547.79 604.26 1547.79 Q598.45 1547.79 595.371 1543.21 Q592.316 1538.6 592.316 1529.87 Q592.316 1521.12 595.371 1516.54 Q598.45 1511.93 604.26 1511.93 Z\\\" fill=\\\"#000000\\\" fill-rule=\\\"evenodd\\\" fill-opacity=\\\"1\\\" \\/><path clip-path=\\\"url(#clip840)\\\" d=\\\"M 0 0 M997.849 1516.63 L986.043 1535.08 L997.849 1535.08 L997.849 1516.63 M996.622 1512.56 L1002.5 1512.56 L1002.5 1535.08 L1007.43 1535.08 L1007.43 1538.97 L1002.5 1538.97 L1002.5 1547.12 L997.849 1547.12 L997.849 1538.97 L982.247 1538.97 L982.247 1534.46 L996.622 1512.56 Z\\\" fill=\\\"#000000\\\" fill-rule=\\\"evenodd\\\" fill-opacity=\\\"1\\\" \\/><path clip-path=\\\"url(#clip840)\\\" d=\\\"M 0 0 M1022.5 1515.64 Q1018.89 1515.64 1017.06 1519.2 Q1015.26 1522.75 1015.26 1529.87 Q1015.26 1536.98 1017.06 1540.55 Q1018.89 1544.09 1022.5 1544.09 Q1026.14 1544.09 1027.94 1540.55 Q1029.77 1536.98 1029.77 1529.87 Q1029.77 1522.75 1027.94 1519.2 Q1026.14 1515.64 1022.5 1515.64 M1022.5 1511.93 Q1028.31 1511.93 1031.37 1516.54 Q1034.45 1521.12 1034.45 1529.87 Q1034.45 1538.6 1031.37 1543.21 Q1028.31 1547.79 1022.5 1547.79 Q1016.69 1547.79 1013.61 1543.21 Q1010.56 1538.6 1010.56 1529.87 Q1010.56 1521.12 1013.61 1516.54 Q1016.69 1511.93 1022.5 1511.93 Z\\\" fill=\\\"#000000\\\" fill-rule=\\\"evenodd\\\" fill-opacity=\\\"1\\\" \\/><path clip-path=\\\"url(#clip840)\\\" d=\\\"M 0 0 M1049.51 1515.64 Q1045.9 1515.64 1044.08 1519.2 Q1042.27 1522.75 1042.27 1529.87 Q1042.27 1536.98 1044.08 1540.55 Q1045.9 1544.09 1049.51 1544.09 Q1053.15 1544.09 1054.95 1540.55 Q1056.78 1536.98 1056.78 1529.87 Q1056.78 1522.75 1054.95 1519.2 Q1053.15 1515.64 1049.51 1515.64 M1049.51 1511.93 Q1055.33 1511.93 1058.38 1516.54 Q1061.46 1521.12 1061.46 1529.87 Q1061.46 1538.6 1058.38 1543.21 Q1055.33 1547.79 1049.51 1547.79 Q1043.7 1547.79 1040.63 1543.21 Q1037.57 1538.6 1037.57 1529.87 Q1037.57 1521.12 1040.63 1516.54 Q1043.7 1511.93 1049.51 1511.93 Z\\\" fill=\\\"#000000\\\" fill-rule=\\\"evenodd\\\" fill-opacity=\\\"1\\\" \\/><path clip-path=\\\"url(#clip840)\\\" d=\\\"M 0 0 M1438.88 1527.98 Q1435.73 1527.98 1433.88 1530.13 Q1432.05 1532.28 1432.05 1536.03 Q1432.05 1539.76 1433.88 1541.93 Q1435.73 1544.09 1438.88 1544.09 Q1442.03 1544.09 1443.86 1541.93 Q1445.71 1539.76 1445.71 1536.03 Q1445.71 1532.28 1443.86 1530.13 Q1442.03 1527.98 1438.88 1527.98 M1448.16 1513.32 L1448.16 1517.58 Q1446.4 1516.75 1444.6 1516.31 Q1442.81 1515.87 1441.05 1515.87 Q1436.42 1515.87 1433.97 1519 Q1431.54 1522.12 1431.19 1528.44 Q1432.56 1526.43 1434.62 1525.36 Q1436.68 1524.27 1439.16 1524.27 Q1444.36 1524.27 1447.37 1527.44 Q1450.41 1530.59 1450.41 1536.03 Q1450.41 1541.36 1447.26 1544.57 Q1444.11 1547.79 1438.88 1547.79 Q1432.88 1547.79 1429.71 1543.21 Q1426.54 1538.6 1426.54 1529.87 Q1426.54 1521.68 1430.43 1516.82 Q1434.32 1511.93 1440.87 1511.93 Q1442.63 1511.93 1444.41 1512.28 Q1446.22 1512.63 1448.16 1513.32 Z\\\" fill=\\\"#000000\\\" fill-rule=\\\"evenodd\\\" fill-opacity=\\\"1\\\" \\/><path clip-path=\\\"url(#clip840)\\\" d=\\\"M 0 0 M1465.48 1515.64 Q1461.86 1515.64 1460.04 1519.2 Q1458.23 1522.75 1458.23 1529.87 Q1458.23 1536.98 1460.04 1540.55 Q1461.86 1544.09 1465.48 1544.09 Q1469.11 1544.09 1470.92 1540.55 Q1472.74 1536.98 1472.74 1529.87 Q1472.74 1522.75 1470.92 1519.2 Q1469.11 1515.64 1465.48 1515.64 M1465.48 1511.93 Q1471.29 1511.93 1474.34 1516.54 Q1477.42 1521.12 1477.42 1529.87 Q1477.42 1538.6 1474.34 1543.21 Q1471.29 1547.79 1465.48 1547.79 Q1459.67 1547.79 1456.59 1543.21 Q1453.53 1538.6 1453.53 1529.87 Q1453.53 1521.12 1456.59 1516.54 Q1459.67 1511.93 1465.48 1511.93 Z\\\" fill=\\\"#000000\\\" fill-rule=\\\"evenodd\\\" fill-opacity=\\\"1\\\" \\/><path clip-path=\\\"url(#clip840)\\\" d=\\\"M 0 0 M1492.49 1515.64 Q1488.88 1515.64 1487.05 1519.2 Q1485.24 1522.75 1485.24 1529.87 Q1485.24 1536.98 1487.05 1540.55 Q1488.88 1544.09 1492.49 1544.09 Q1496.12 1544.09 1497.93 1540.55 Q1499.76 1536.98 1499.76 1529.87 Q1499.76 1522.75 1497.93 1519.2 Q1496.12 1515.64 1492.49 1515.64 M1492.49 1511.93 Q1498.3 1511.93 1501.36 1516.54 Q1504.43 1521.12 1504.43 1529.87 Q1504.43 1538.6 1501.36 1543.21 Q1498.3 1547.79 1492.49 1547.79 Q1486.68 1547.79 1483.6 1543.21 Q1480.55 1538.6 1480.55 1529.87 Q1480.55 1521.12 1483.6 1516.54 Q1486.68 1511.93 1492.49 1511.93 Z\\\" fill=\\\"#000000\\\" fill-rule=\\\"evenodd\\\" fill-opacity=\\\"1\\\" \\/><path clip-path=\\\"url(#clip840)\\\" d=\\\"M 0 0 M1882.11 1530.71 Q1878.77 1530.71 1876.85 1532.49 Q1874.96 1534.27 1874.96 1537.4 Q1874.96 1540.52 1876.85 1542.31 Q1878.77 1544.09 1882.11 1544.09 Q1885.44 1544.09 1887.36 1542.31 Q1889.28 1540.5 1889.28 1537.4 Q1889.28 1534.27 1887.36 1532.49 Q1885.46 1530.71 1882.11 1530.71 M1877.43 1528.72 Q1874.42 1527.98 1872.73 1525.92 Q1871.07 1523.86 1871.07 1520.89 Q1871.07 1516.75 1874.01 1514.34 Q1876.97 1511.93 1882.11 1511.93 Q1887.27 1511.93 1890.21 1514.34 Q1893.15 1516.75 1893.15 1520.89 Q1893.15 1523.86 1891.46 1525.92 Q1889.79 1527.98 1886.81 1528.72 Q1890.19 1529.5 1892.06 1531.8 Q1893.96 1534.09 1893.96 1537.4 Q1893.96 1542.42 1890.88 1545.11 Q1887.83 1547.79 1882.11 1547.79 Q1876.39 1547.79 1873.31 1545.11 Q1870.26 1542.42 1870.26 1537.4 Q1870.26 1534.09 1872.15 1531.8 Q1874.05 1529.5 1877.43 1528.72 M1875.72 1521.33 Q1875.72 1524.02 1877.39 1525.52 Q1879.08 1527.03 1882.11 1527.03 Q1885.12 1527.03 1886.81 1525.52 Q1888.52 1524.02 1888.52 1521.33 Q1888.52 1518.65 1886.81 1517.14 Q1885.12 1515.64 1882.11 1515.64 Q1879.08 1515.64 1877.39 1517.14 Q1875.72 1518.65 1875.72 1521.33 Z\\\" fill=\\\"#000000\\\" fill-rule=\\\"evenodd\\\" fill-opacity=\\\"1\\\" \\/><path clip-path=\\\"url(#clip840)\\\" d=\\\"M 0 0 M1909.03 1515.64 Q1905.42 1515.64 1903.59 1519.2 Q1901.78 1522.75 1901.78 1529.87 Q1901.78 1536.98 1903.59 1540.55 Q1905.42 1544.09 1909.03 1544.09 Q1912.66 1544.09 1914.47 1540.55 Q1916.3 1536.98 1916.3 1529.87 Q1916.3 1522.75 1914.47 1519.2 Q1912.66 1515.64 1909.03 1515.64 M1909.03 1511.93 Q1914.84 1511.93 1917.89 1516.54 Q1920.97 1521.12 1920.97 1529.87 Q1920.97 1538.6 1917.89 1543.21 Q1914.84 1547.79 1909.03 1547.79 Q1903.22 1547.79 1900.14 1543.21 Q1897.08 1538.6 1897.08 1529.87 Q1897.08 1521.12 1900.14 1516.54 Q1903.22 1511.93 1909.03 1511.93 Z\\\" fill=\\\"#000000\\\" fill-rule=\\\"evenodd\\\" fill-opacity=\\\"1\\\" \\/><path clip-path=\\\"url(#clip840)\\\" d=\\\"M 0 0 M1936.04 1515.64 Q1932.43 1515.64 1930.6 1519.2 Q1928.8 1522.75 1928.8 1529.87 Q1928.8 1536.98 1930.6 1540.55 Q1932.43 1544.09 1936.04 1544.09 Q1939.68 1544.09 1941.48 1540.55 Q1943.31 1536.98 1943.31 1529.87 Q1943.31 1522.75 1941.48 1519.2 Q1939.68 1515.64 1936.04 1515.64 M1936.04 1511.93 Q1941.85 1511.93 1944.91 1516.54 Q1947.99 1521.12 1947.99 1529.87 Q1947.99 1538.6 1944.91 1543.21 Q1941.85 1547.79 1936.04 1547.79 Q1930.23 1547.79 1927.15 1543.21 Q1924.1 1538.6 1924.1 1529.87 Q1924.1 1521.12 1927.15 1516.54 Q1930.23 1511.93 1936.04 1511.93 Z\\\" fill=\\\"#000000\\\" fill-rule=\\\"evenodd\\\" fill-opacity=\\\"1\\\" \\/><path clip-path=\\\"url(#clip840)\\\" d=\\\"M 0 0 M2302.62 1543.18 L2310.26 1543.18 L2310.26 1516.82 L2301.95 1518.49 L2301.95 1514.23 L2310.21 1512.56 L2314.89 1512.56 L2314.89 1543.18 L2322.52 1543.18 L2322.52 1547.12 L2302.62 1547.12 L2302.62 1543.18 Z\\\" fill=\\\"#000000\\\" fill-rule=\\\"evenodd\\\" fill-opacity=\\\"1\\\" \\/><path clip-path=\\\"url(#clip840)\\\" d=\\\"M 0 0 M2337.59 1515.64 Q2333.98 1515.64 2332.15 1519.2 Q2330.35 1522.75 2330.35 1529.87 Q2330.35 1536.98 2332.15 1540.55 Q2333.98 1544.09 2337.59 1544.09 Q2341.23 1544.09 2343.03 1540.55 Q2344.86 1536.98 2344.86 1529.87 Q2344.86 1522.75 2343.03 1519.2 Q2341.23 1515.64 2337.59 1515.64 M2337.59 1511.93 Q2343.4 1511.93 2346.46 1516.54 Q2349.54 1521.12 2349.54 1529.87 Q2349.54 1538.6 2346.46 1543.21 Q2343.4 1547.79 2337.59 1547.79 Q2331.78 1547.79 2328.71 1543.21 Q2325.65 1538.6 2325.65 1529.87 Q2325.65 1521.12 2328.71 1516.54 Q2331.78 1511.93 2337.59 1511.93 Z\\\" fill=\\\"#000000\\\" fill-rule=\\\"evenodd\\\" fill-opacity=\\\"1\\\" \\/><path clip-path=\\\"url(#clip840)\\\" d=\\\"M 0 0 M2364.61 1515.64 Q2361 1515.64 2359.17 1519.2 Q2357.36 1522.75 2357.36 1529.87 Q2357.36 1536.98 2359.17 1540.55 Q2361 1544.09 2364.61 1544.09 Q2368.24 1544.09 2370.05 1540.55 Q2371.88 1536.98 2371.88 1529.87 Q2371.88 1522.75 2370.05 1519.2 Q2368.24 1515.64 2364.61 1515.64 M2364.61 1511.93 Q2370.42 1511.93 2373.47 1516.54 Q2376.55 1521.12 2376.55 1529.87 Q2376.55 1538.6 2373.47 1543.21 Q2370.42 1547.79 2364.61 1547.79 Q2358.8 1547.79 2355.72 1543.21 Q2352.66 1538.6 2352.66 1529.87 Q2352.66 1521.12 2355.72 1516.54 Q2358.8 1511.93 2364.61 1511.93 Z\\\" fill=\\\"#000000\\\" fill-rule=\\\"evenodd\\\" fill-opacity=\\\"1\\\" \\/><path clip-path=\\\"url(#clip840)\\\" d=\\\"M 0 0 M2391.62 1515.64 Q2388.01 1515.64 2386.18 1519.2 Q2384.38 1522.75 2384.38 1529.87 Q2384.38 1536.98 2386.18 1540.55 Q2388.01 1544.09 2391.62 1544.09 Q2395.26 1544.09 2397.06 1540.55 Q2398.89 1536.98 2398.89 1529.87 Q2398.89 1522.75 2397.06 1519.2 Q2395.26 1515.64 2391.62 1515.64 M2391.62 1511.93 Q2397.43 1511.93 2400.49 1516.54 Q2403.57 1521.12 2403.57 1529.87 Q2403.57 1538.6 2400.49 1543.21 Q2397.43 1547.79 2391.62 1547.79 Q2385.81 1547.79 2382.73 1543.21 Q2379.68 1538.6 2379.68 1529.87 Q2379.68 1521.12 2382.73 1516.54 Q2385.81 1511.93 2391.62 1511.93 Z\\\" fill=\\\"#000000\\\" fill-rule=\\\"evenodd\\\" fill-opacity=\\\"1\\\" \\/><polyline clip-path=\\\"url(#clip842)\\\" style=\\\"stroke:#000000; stroke-width:2; stroke-opacity:0.1; fill:none\\\" points=\\\"\\n  134.584,1486.45 2352.76,1486.45 \\n  \\\"\\/>\\n<polyline clip-path=\\\"url(#clip842)\\\" style=\\\"stroke:#000000; stroke-width:2; stroke-opacity:0.1; fill:none\\\" points=\\\"\\n  134.584,1198.61 2352.76,1198.61 \\n  \\\"\\/>\\n<polyline clip-path=\\\"url(#clip842)\\\" style=\\\"stroke:#000000; stroke-width:2; stroke-opacity:0.1; fill:none\\\" points=\\\"\\n  134.584,910.766 2352.76,910.766 \\n  \\\"\\/>\\n<polyline clip-path=\\\"url(#clip842)\\\" style=\\\"stroke:#000000; stroke-width:2; stroke-opacity:0.1; fill:none\\\" points=\\\"\\n  134.584,622.926 2352.76,622.926 \\n  \\\"\\/>\\n<polyline clip-path=\\\"url(#clip842)\\\" style=\\\"stroke:#000000; stroke-width:2; stroke-opacity:0.1; fill:none\\\" points=\\\"\\n  134.584,335.085 2352.76,335.085 \\n  \\\"\\/>\\n<polyline clip-path=\\\"url(#clip842)\\\" style=\\\"stroke:#000000; stroke-width:2; stroke-opacity:0.1; fill:none\\\" points=\\\"\\n  134.584,47.2441 2352.76,47.2441 \\n  \\\"\\/>\\n<polyline clip-path=\\\"url(#clip840)\\\" style=\\\"stroke:#000000; stroke-width:4; stroke-opacity:1; fill:none\\\" points=\\\"\\n  134.584,1486.45 134.584,47.2441 \\n  \\\"\\/>\\n<polyline clip-path=\\\"url(#clip840)\\\" style=\\\"stroke:#000000; stroke-width:4; stroke-opacity:1; fill:none\\\" points=\\\"\\n  134.584,1486.45 161.203,1486.45 \\n  \\\"\\/>\\n<polyline clip-path=\\\"url(#clip840)\\\" style=\\\"stroke:#000000; stroke-width:4; stroke-opacity:1; fill:none\\\" points=\\\"\\n  134.584,1198.61 161.203,1198.61 \\n  \\\"\\/>\\n<polyline clip-path=\\\"url(#clip840)\\\" style=\\\"stroke:#000000; stroke-width:4; stroke-opacity:1; fill:none\\\" points=\\\"\\n  134.584,910.766 161.203,910.766 \\n  \\\"\\/>\\n<polyline clip-path=\\\"url(#clip840)\\\" style=\\\"stroke:#000000; stroke-width:4; stroke-opacity:1; fill:none\\\" points=\\\"\\n  134.584,622.926 161.203,622.926 \\n  \\\"\\/>\\n<polyline clip-path=\\\"url(#clip840)\\\" style=\\\"stroke:#000000; stroke-width:4; stroke-opacity:1; fill:none\\\" points=\\\"\\n  134.584,335.085 161.203,335.085 \\n  \\\"\\/>\\n<polyline clip-path=\\\"url(#clip840)\\\" style=\\\"stroke:#000000; stroke-width:4; stroke-opacity:1; fill:none\\\" points=\\\"\\n  134.584,47.2441 161.203,47.2441 \\n  \\\"\\/>\\n<path clip-path=\\\"url(#clip840)\\\" d=\\\"M 0 0 M86.6401 1472.25 Q83.029 1472.25 81.2003 1475.81 Q79.3948 1479.35 79.3948 1486.48 Q79.3948 1493.59 81.2003 1497.15 Q83.029 1500.7 86.6401 1500.7 Q90.2743 1500.7 92.0799 1497.15 Q93.9086 1493.59 93.9086 1486.48 Q93.9086 1479.35 92.0799 1475.81 Q90.2743 1472.25 86.6401 1472.25 M86.6401 1468.54 Q92.4502 1468.54 95.5058 1473.15 Q98.5845 1477.73 98.5845 1486.48 Q98.5845 1495.21 95.5058 1499.82 Q92.4502 1504.4 86.6401 1504.4 Q80.8299 1504.4 77.7512 1499.82 Q74.6957 1495.21 74.6957 1486.48 Q74.6957 1477.73 77.7512 1473.15 Q80.8299 1468.54 86.6401 1468.54 Z\\\" fill=\\\"#000000\\\" fill-rule=\\\"evenodd\\\" fill-opacity=\\\"1\\\" \\/><path clip-path=\\\"url(#clip840)\\\" d=\\\"M 0 0 M82.2651 1211.95 L98.5845 1211.95 L98.5845 1215.89 L76.6401 1215.89 L76.6401 1211.95 Q79.3022 1209.2 83.8855 1204.57 Q88.4919 1199.91 89.6725 1198.57 Q91.9178 1196.05 92.7975 1194.31 Q93.7002 1192.55 93.7002 1190.86 Q93.7002 1188.11 91.7558 1186.37 Q89.8345 1184.64 86.7327 1184.64 Q84.5336 1184.64 82.0799 1185.4 Q79.6494 1186.17 76.8716 1187.72 L76.8716 1182.99 Q79.6957 1181.86 82.1494 1181.28 Q84.6031 1180.7 86.6401 1180.7 Q92.0104 1180.7 95.2049 1183.39 Q98.3993 1186.07 98.3993 1190.56 Q98.3993 1192.69 97.5891 1194.61 Q96.8021 1196.51 94.6956 1199.1 Q94.1169 1199.78 91.0151 1202.99 Q87.9132 1206.19 82.2651 1211.95 Z\\\" fill=\\\"#000000\\\" fill-rule=\\\"evenodd\\\" fill-opacity=\\\"1\\\" \\/><path clip-path=\\\"url(#clip840)\\\" d=\\\"M 0 0 M89.0012 897.56 L77.1957 916.009 L89.0012 916.009 L89.0012 897.56 M87.7743 893.486 L93.6539 893.486 L93.6539 916.009 L98.5845 916.009 L98.5845 919.898 L93.6539 919.898 L93.6539 928.046 L89.0012 928.046 L89.0012 919.898 L73.3994 919.898 L73.3994 915.384 L87.7743 893.486 Z\\\" fill=\\\"#000000\\\" fill-rule=\\\"evenodd\\\" fill-opacity=\\\"1\\\" \\/><path clip-path=\\\"url(#clip840)\\\" d=\\\"M 0 0 M87.0567 621.062 Q83.9086 621.062 82.0568 623.215 Q80.2281 625.368 80.2281 629.118 Q80.2281 632.845 82.0568 635.02 Q83.9086 637.173 87.0567 637.173 Q90.2049 637.173 92.0336 635.02 Q93.8854 632.845 93.8854 629.118 Q93.8854 625.368 92.0336 623.215 Q90.2049 621.062 87.0567 621.062 M96.3391 606.409 L96.3391 610.669 Q94.5799 609.835 92.7743 609.396 Q90.9919 608.956 89.2327 608.956 Q84.6031 608.956 82.1494 612.081 Q79.7188 615.206 79.3716 621.525 Q80.7373 619.511 82.7975 618.446 Q84.8577 617.359 87.3345 617.359 Q92.5428 617.359 95.5521 620.53 Q98.5845 623.678 98.5845 629.118 Q98.5845 634.442 95.4363 637.659 Q92.2882 640.877 87.0567 640.877 Q81.0614 640.877 77.8901 636.294 Q74.7189 631.687 74.7189 622.96 Q74.7189 614.766 78.6077 609.905 Q82.4966 605.021 89.0475 605.021 Q90.8067 605.021 92.5891 605.368 Q94.3947 605.715 96.3391 606.409 Z\\\" fill=\\\"#000000\\\" fill-rule=\\\"evenodd\\\" fill-opacity=\\\"1\\\" \\/><path clip-path=\\\"url(#clip840)\\\" d=\\\"M 0 0 M86.7327 335.953 Q83.3994 335.953 81.4781 337.735 Q79.5799 339.518 79.5799 342.643 Q79.5799 345.768 81.4781 347.55 Q83.3994 349.332 86.7327 349.332 Q90.066 349.332 91.9873 347.55 Q93.9086 345.745 93.9086 342.643 Q93.9086 339.518 91.9873 337.735 Q90.0891 335.953 86.7327 335.953 M82.0568 333.962 Q79.0475 333.221 77.3577 331.161 Q75.6911 329.101 75.6911 326.138 Q75.6911 321.995 78.6309 319.587 Q81.5938 317.18 86.7327 317.18 Q91.8947 317.18 94.8345 319.587 Q97.7743 321.995 97.7743 326.138 Q97.7743 329.101 96.0845 331.161 Q94.4178 333.221 91.4317 333.962 Q94.8113 334.749 96.6863 337.041 Q98.5845 339.333 98.5845 342.643 Q98.5845 347.666 95.5058 350.351 Q92.4502 353.036 86.7327 353.036 Q81.0151 353.036 77.9364 350.351 Q74.8809 347.666 74.8809 342.643 Q74.8809 339.333 76.779 337.041 Q78.6772 334.749 82.0568 333.962 M80.3438 326.578 Q80.3438 329.263 82.0105 330.768 Q83.7003 332.272 86.7327 332.272 Q89.7419 332.272 91.4317 330.768 Q93.1447 329.263 93.1447 326.578 Q93.1447 323.893 91.4317 322.388 Q89.7419 320.884 86.7327 320.884 Q83.7003 320.884 82.0105 322.388 Q80.3438 323.893 80.3438 326.578 Z\\\" fill=\\\"#000000\\\" fill-rule=\\\"evenodd\\\" fill-opacity=\\\"1\\\" \\/><path clip-path=\\\"url(#clip840)\\\" d=\\\"M 0 0 M51.6634 60.5889 L59.3023 60.5889 L59.3023 34.2233 L50.9921 35.89 L50.9921 31.6308 L59.256 29.9641 L63.9319 29.9641 L63.9319 60.5889 L71.5707 60.5889 L71.5707 64.5241 L51.6634 64.5241 L51.6634 60.5889 Z\\\" fill=\\\"#000000\\\" fill-rule=\\\"evenodd\\\" fill-opacity=\\\"1\\\" \\/><path clip-path=\\\"url(#clip840)\\\" d=\\\"M 0 0 M86.6401 33.0428 Q83.029 33.0428 81.2003 36.6076 Q79.3948 40.1492 79.3948 47.2788 Q79.3948 54.3853 81.2003 57.9501 Q83.029 61.4917 86.6401 61.4917 Q90.2743 61.4917 92.0799 57.9501 Q93.9086 54.3853 93.9086 47.2788 Q93.9086 40.1492 92.0799 36.6076 Q90.2743 33.0428 86.6401 33.0428 M86.6401 29.3391 Q92.4502 29.3391 95.5058 33.9456 Q98.5845 38.5289 98.5845 47.2788 Q98.5845 56.0056 95.5058 60.6121 Q92.4502 65.1954 86.6401 65.1954 Q80.8299 65.1954 77.7512 60.6121 Q74.6957 56.0056 74.6957 47.2788 Q74.6957 38.5289 77.7512 33.9456 Q80.8299 29.3391 86.6401 29.3391 Z\\\" fill=\\\"#000000\\\" fill-rule=\\\"evenodd\\\" fill-opacity=\\\"1\\\" \\/><path clip-path=\\\"url(#clip842)\\\" d=\\\"M136.803 1358.53 L125.491 1353.84 L120.803 1342.53 L125.491 1331.22 L136.803 1326.53 L148.115 1331.22 L152.803 1342.53 L148.115 1353.84 Z\\\" fill=\\\"#009af9\\\" fill-rule=\\\"evenodd\\\" fill-opacity=\\\"1\\\" stroke=\\\"#000000\\\" stroke-opacity=\\\"1\\\" stroke-width=\\\"3.2\\\"\\/>\\n<path clip-path=\\\"url(#clip840)\\\" d=\\\"\\nM1981.34 216.178 L2278.82 216.178 L2278.82 95.2176 L1981.34 95.2176  Z\\n  \\\" fill=\\\"#ffffff\\\" fill-rule=\\\"evenodd\\\" fill-opacity=\\\"1\\\"\\/>\\n<polyline clip-path=\\\"url(#clip840)\\\" style=\\\"stroke:#000000; stroke-width:4; stroke-opacity:1; fill:none\\\" points=\\\"\\n  1981.34,216.178 2278.82,216.178 2278.82,95.2176 1981.34,95.2176 1981.34,216.178 \\n  \\\"\\/>\\n<polyline clip-path=\\\"url(#clip840)\\\" style=\\\"stroke:#009af9; stroke-width:4; stroke-opacity:1; fill:none\\\" points=\\\"\\n  2005.98,155.698 2153.86,155.698 \\n  \\\"\\/>\\n<path clip-path=\\\"url(#clip840)\\\" d=\\\"M2079.92 181.298 L2061.82 173.797 L2054.32 155.698 L2061.82 137.598 L2079.92 130.098 L2098.02 137.598 L2105.52 155.698 L2098.02 173.797 Z\\\" fill=\\\"#009af9\\\" fill-rule=\\\"evenodd\\\" fill-opacity=\\\"1\\\" stroke=\\\"#000000\\\" stroke-opacity=\\\"1\\\" stroke-width=\\\"5.12\\\"\\/>\\n<path clip-path=\\\"url(#clip840)\\\" d=\\\"M 0 0 M2192.35 175.385 Q2190.54 180.015 2188.83 181.427 Q2187.12 182.839 2184.25 182.839 L2180.84 182.839 L2180.84 179.274 L2183.34 179.274 Q2185.1 179.274 2186.08 178.44 Q2187.05 177.607 2188.23 174.505 L2188.99 172.561 L2178.51 147.052 L2183.02 147.052 L2191.12 167.329 L2199.22 147.052 L2203.74 147.052 L2192.35 175.385 Z\\\" fill=\\\"#000000\\\" fill-rule=\\\"evenodd\\\" fill-opacity=\\\"1\\\" \\/><path clip-path=\\\"url(#clip840)\\\" d=\\\"M 0 0 M2209.62 169.042 L2217.26 169.042 L2217.26 142.677 L2208.95 144.343 L2208.95 140.084 L2217.21 138.418 L2221.89 138.418 L2221.89 169.042 L2229.52 169.042 L2229.52 172.978 L2209.62 172.978 L2209.62 169.042 Z\\\" fill=\\\"#000000\\\" fill-rule=\\\"evenodd\\\" fill-opacity=\\\"1\\\" \\/><\\/svg>\\n\"},\"nodeType\":\"DOM\",\"type\":\"node\",\"instanceArgs\":{\"namespace\":\"html\",\"tag\":\"div\"},\"children\":[]}]}}}},\"children\":[{\"props\":{},\"nodeType\":\"ObservableNode\",\"type\":\"node\",\"instanceArgs\":{\"id\":\"10495457760526852048\",\"name\":\"obs-node\"},\"children\":[]}]}]},\n",
       "            window,\n",
       "        );\n",
       "    } else {\n",
       "        document\n",
       "            .querySelector('[data-webio-mountpoint=\"16984921841167028805\"]')\n",
       "            .innerHTML = (\n",
       "                '<div style=\"padding: 1em; background-color: #f8d6da; border: 1px solid #f5c6cb\">' +\n",
       "                '<p><strong>WebIO not detected.</strong></p>' +\n",
       "                '<p>Please read ' +\n",
       "                '<a href=\"https://juliagizmos.github.io/WebIO.jl/latest/troubleshooting/not-detected/\" target=\"_blank\">the troubleshooting guide</a> ' +\n",
       "                'for more information on how to resolve this issue.</p>' +\n",
       "                '<p><a href=\"https://juliagizmos.github.io/WebIO.jl/latest/troubleshooting/not-detected/\" target=\"_blank\">https://juliagizmos.github.io/WebIO.jl/latest/troubleshooting/not-detected/</a></p>' +\n",
       "                '</div>'\n",
       "            );\n",
       "    }\n",
       "    </script>\n",
       "</div>\n"
      ],
      "text/plain": [
       "Node{WebIO.DOM}(WebIO.DOM(:html, :div), Any[Node{WebIO.DOM}(WebIO.DOM(:html, :div), Any[Scope(Node{WebIO.DOM}(WebIO.DOM(:html, :div), Any[Node{WebIO.DOM}(WebIO.DOM(:html, :div), Any[Node{WebIO.DOM}(WebIO.DOM(:html, :label), Any[nothing], Dict{Symbol, Any}(:className => \"interact \", :style => Dict{Any, Any}(:padding => \"5px 10px 0px 10px\")))], Dict{Symbol, Any}(:className => \"interact-flex-row-left\")), Node{WebIO.DOM}(WebIO.DOM(:html, :div), Any[Node{WebIO.DOM}(WebIO.DOM(:html, :input), Any[], Dict{Symbol, Any}(:max => 1000, :min => 1, :attributes => Dict{Any, Any}(:type => \"range\", Symbol(\"data-bind\") => \"numericValue: index, valueUpdate: 'input', event: {change: function (){this.changes(this.changes()+1)}}\", \"orient\" => \"horizontal\"), :step => 1, :className => \"slider slider is-fullwidth\", :style => Dict{Any, Any}()))], Dict{Symbol, Any}(:className => \"interact-flex-row-center\")), Node{WebIO.DOM}(WebIO.DOM(:html, :div), Any[Node{WebIO.DOM}(WebIO.DOM(:html, :p), Any[], Dict{Symbol, Any}(:attributes => Dict(\"data-bind\" => \"text: formatted_val\")))], Dict{Symbol, Any}(:className => \"interact-flex-row-right\"))], Dict{Symbol, Any}(:className => \"interact-flex-row interact-widget\")), Dict{String, Tuple{Observables.AbstractObservable, Union{Nothing, Bool}}}(\"changes\" => (Observable{Int64} with 1 listeners. Value:\n",
       "0, nothing), \"index\" => (Observable{Int64} with 2 listeners. Value:\n",
       "1, nothing)), Set{String}(), nothing, Asset[Asset(\"js\", \"knockout\", \"/home/marcon/.julia/packages/Knockout/IP1uR/src/../assets/knockout.js\"), Asset(\"js\", \"knockout_punches\", \"/home/marcon/.julia/packages/Knockout/IP1uR/src/../assets/knockout_punches.js\"), Asset(\"js\", nothing, \"/home/marcon/.julia/packages/InteractBase/Zfu5P/src/../assets/all.js\"), Asset(\"css\", nothing, \"/home/marcon/.julia/packages/InteractBase/Zfu5P/src/../assets/style.css\"), Asset(\"css\", nothing, \"/home/marcon/.julia/packages/Interact/SbgIk/src/../assets/bulma_confined.min.css\")], Dict{Any, Any}(\"changes\" => Any[WebIO.JSString(\"(function (val){return (val!=this.model[\\\"changes\\\"]()) ? (this.valueFromJulia[\\\"changes\\\"]=true, this.model[\\\"changes\\\"](val)) : undefined})\")], \"index\" => Any[WebIO.JSString(\"(function (val){return (val!=this.model[\\\"index\\\"]()) ? (this.valueFromJulia[\\\"index\\\"]=true, this.model[\\\"index\\\"](val)) : undefined})\")]), WebIO.ConnectionPool(Channel{Any}(32), Set{AbstractConnection}(), Condition(Base.InvasiveLinkedList{Task}(Task (runnable) @0x00007f80e94af730, Task (runnable) @0x00007f80e94af730), Base.AlwaysLockedST(1))), WebIO.JSString[WebIO.JSString(\"function () {\\n    var handler = (function (ko, koPunches) {\\n    ko.punches.enableAll();\\n    ko.bindingHandlers.numericValue = {\\n        init: function(element, valueAccessor, allBindings, data, context) {\\n            var stringified = ko.observable(ko.unwrap(valueAccessor()));\\n            stringified.subscribe(function(value) {\\n                var val = parseFloat(value);\\n                if (!isNaN(val)) {\\n                    valueAccessor()(val);\\n                }\\n            });\\n            valueAccessor().subscribe(function(value) {\\n                var str = JSON.stringify(value);\\n                if ((str == \\\"0\\\") && ([\\\"-0\\\", \\\"-0.\\\"].indexOf(stringified()) >= 0))\\n                     return;\\n                 if ([\\\"null\\\", \\\"\\\"].indexOf(str) >= 0)\\n                     return;\\n                stringified(str);\\n            });\\n            ko.applyBindingsToNode(\\n                element,\\n                {\\n                    value: stringified,\\n                    valueUpdate: allBindings.get('valueUpdate'),\\n                },\\n                context,\\n            );\\n        }\\n    };\\n    var json_data = {\\\"formatted_vals\\\":[\\\"1\\\",\\\"2\\\",\\\"3\\\",\\\"4\\\",\\\"5\\\",\\\"6\\\",\\\"7\\\",\\\"8\\\",\\\"9\\\",\\\"10\\\",\\\"11\\\",\\\"12\\\",\\\"13\\\",\\\"14\\\",\\\"15\\\",\\\"16\\\",\\\"17\\\",\\\"18\\\",\\\"19\\\",\\\"20\\\",\\\"21\\\",\\\"22\\\",\\\"23\\\",\\\"24\\\",\\\"25\\\",\\\"26\\\",\\\"27\\\",\\\"28\\\",\\\"29\\\",\\\"30\\\",\\\"31\\\",\\\"32\\\",\\\"33\\\",\\\"34\\\",\\\"35\\\",\\\"36\\\",\\\"37\\\",\\\"38\\\",\\\"39\\\",\\\"40\\\",\\\"41\\\",\\\"42\\\",\\\"43\\\",\\\"44\\\",\\\"45\\\",\\\"46\\\",\\\"47\\\",\\\"48\\\",\\\"49\\\",\\\"50\\\",\\\"51\\\",\\\"52\\\",\\\"53\\\",\\\"54\\\",\\\"55\\\",\\\"56\\\",\\\"57\\\",\\\"58\\\",\\\"59\\\",\\\"60\\\",\\\"61\\\",\\\"62\\\",\\\"63\\\",\\\"64\\\",\\\"65\\\",\\\"66\\\",\\\"67\\\",\\\"68\\\",\\\"69\\\",\\\"70\\\",\\\"71\\\",\\\"72\\\",\\\"73\\\",\\\"74\\\",\\\"75\\\",\\\"76\\\",\\\"77\\\",\\\"78\\\",\\\"79\\\",\\\"80\\\",\\\"81\\\",\\\"82\\\",\\\"83\\\",\\\"84\\\",\\\"85\\\",\\\"86\\\",\\\"87\\\",\\\"88\\\",\\\"89\\\",\\\"90\\\",\\\"91\\\",\\\"92\\\",\\\"93\\\",\\\"94\\\",\\\"95\\\",\\\"96\\\",\\\"97\\\",\\\"98\\\",\\\"99\\\",\\\"100\\\",\\\"101\\\",\\\"102\\\",\\\"103\\\",\\\"104\\\",\\\"105\\\",\\\"106\\\",\\\"107\\\",\\\"108\\\",\\\"109\\\",\\\"110\\\",\\\"111\\\",\\\"112\\\",\\\"113\\\",\\\"114\\\",\\\"115\\\",\\\"116\\\",\\\"117\\\",\\\"118\\\",\\\"119\\\",\\\"120\\\",\\\"121\\\",\\\"122\\\",\\\"123\\\",\\\"124\\\",\\\"125\\\",\\\"126\\\",\\\"127\\\",\\\"128\\\",\\\"129\\\",\\\"130\\\",\\\"131\\\",\\\"132\\\",\\\"133\\\",\\\"134\\\",\\\"135\\\",\\\"136\\\",\\\"137\\\",\\\"138\\\",\\\"139\\\",\\\"140\\\",\\\"141\\\",\\\"142\\\",\\\"143\\\",\\\"144\\\",\\\"145\\\",\\\"146\\\",\\\"147\\\",\\\"148\\\",\\\"149\\\",\\\"150\\\",\\\"151\\\",\\\"152\\\",\\\"153\\\",\\\"154\\\",\\\"155\\\",\\\"156\\\",\\\"157\\\",\\\"158\\\",\\\"159\\\",\\\"160\\\",\\\"161\\\",\\\"162\\\",\\\"163\\\",\\\"164\\\",\\\"165\\\",\\\"166\\\",\\\"167\\\",\\\"168\\\",\\\"169\\\",\\\"170\\\",\\\"171\\\",\\\"172\\\",\\\"173\\\",\\\"174\\\",\\\"175\\\",\\\"176\\\",\\\"177\\\",\\\"178\\\",\\\"179\\\",\\\"180\\\",\\\"181\\\",\\\"182\\\",\\\"183\\\",\\\"184\\\",\\\"185\\\",\\\"186\\\",\\\"187\\\",\\\"188\\\",\\\"189\\\",\\\"190\\\",\\\"191\\\",\\\"192\\\",\\\"193\\\",\\\"194\\\",\\\"195\\\",\\\"196\\\",\\\"197\\\",\\\"198\\\",\\\"199\\\",\\\"200\\\",\\\"201\\\",\\\"202\\\",\\\"203\\\",\\\"204\\\",\\\"205\\\",\\\"206\\\",\\\"207\\\",\\\"208\\\",\\\"209\\\",\\\"210\\\",\\\"211\\\",\\\"212\\\",\\\"213\\\",\\\"214\\\",\\\"215\\\",\\\"216\\\",\\\"217\\\",\\\"218\\\",\\\"219\\\",\\\"220\\\",\\\"221\\\",\\\"222\\\",\\\"223\\\",\\\"224\\\",\\\"225\\\",\\\"226\\\",\\\"227\\\",\\\"228\\\",\\\"229\\\",\\\"230\\\",\\\"231\\\",\\\"232\\\",\\\"233\\\",\\\"234\\\",\\\"235\\\",\\\"236\\\",\\\"237\\\",\\\"238\\\",\\\"239\\\",\\\"240\\\",\\\"241\\\",\\\"242\\\",\\\"243\\\",\\\"244\\\",\\\"245\\\",\\\"246\\\",\\\"247\\\",\\\"248\\\",\\\"249\\\",\\\"250\\\",\\\"251\\\",\\\"252\\\",\\\"253\\\",\\\"254\\\",\\\"255\\\",\\\"256\\\",\\\"257\\\",\\\"258\\\",\\\"259\\\",\\\"260\\\",\\\"261\\\",\\\"262\\\",\\\"263\\\",\\\"264\\\",\\\"265\\\",\\\"266\\\",\\\"267\\\",\\\"268\\\",\\\"269\\\",\\\"270\\\",\\\"271\\\",\\\"272\\\",\\\"273\\\",\\\"274\\\",\\\"275\\\",\\\"276\\\",\\\"277\\\",\\\"278\\\",\\\"279\\\",\\\"280\\\",\\\"281\\\",\\\"282\\\",\\\"283\\\",\\\"284\\\",\\\"285\\\",\\\"286\\\",\\\"287\\\",\\\"288\\\",\\\"289\\\",\\\"290\\\",\\\"291\\\",\\\"292\\\",\\\"293\\\",\\\"294\\\",\\\"295\\\",\\\"296\\\",\\\"297\\\",\\\"298\\\",\\\"299\\\",\\\"300\\\",\\\"301\\\",\\\"302\\\",\\\"303\\\",\\\"304\\\",\\\"305\\\",\\\"306\\\",\\\"307\\\",\\\"308\\\",\\\"309\\\",\\\"310\\\",\\\"311\\\",\\\"312\\\",\\\"313\\\",\\\"314\\\",\\\"315\\\",\\\"316\\\",\\\"317\\\",\\\"318\\\",\\\"319\\\",\\\"320\\\",\\\"321\\\",\\\"322\\\",\\\"323\\\",\\\"324\\\",\\\"325\\\",\\\"326\\\",\\\"327\\\",\\\"328\\\",\\\"329\\\",\\\"330\\\",\\\"331\\\",\\\"332\\\",\\\"333\\\",\\\"334\\\",\\\"335\\\",\\\"336\\\",\\\"337\\\",\\\"338\\\",\\\"339\\\",\\\"340\\\",\\\"341\\\",\\\"342\\\",\\\"343\\\",\\\"344\\\",\\\"345\\\",\\\"346\\\",\\\"347\\\",\\\"348\\\",\\\"349\\\",\\\"350\\\",\\\"351\\\",\\\"352\\\",\\\"353\\\",\\\"354\\\",\\\"355\\\",\\\"356\\\",\\\"357\\\",\\\"358\\\",\\\"359\\\",\\\"360\\\",\\\"361\\\",\\\"362\\\",\\\"363\\\",\\\"364\\\",\\\"365\\\",\\\"366\\\",\\\"367\\\",\\\"368\\\",\\\"369\\\",\\\"370\\\",\\\"371\\\",\\\"372\\\",\\\"373\\\",\\\"374\\\",\\\"375\\\",\\\"376\\\",\\\"377\\\",\\\"378\\\",\\\"379\\\",\\\"380\\\",\\\"381\\\",\\\"382\\\",\\\"383\\\",\\\"384\\\",\\\"385\\\",\\\"386\\\",\\\"387\\\",\\\"388\\\",\\\"389\\\",\\\"390\\\",\\\"391\\\",\\\"392\\\",\\\"393\\\",\\\"394\\\",\\\"395\\\",\\\"396\\\",\\\"397\\\",\\\"398\\\",\\\"399\\\",\\\"400\\\",\\\"401\\\",\\\"402\\\",\\\"403\\\",\\\"404\\\",\\\"405\\\",\\\"406\\\",\\\"407\\\",\\\"408\\\",\\\"409\\\",\\\"410\\\",\\\"411\\\",\\\"412\\\",\\\"413\\\",\\\"414\\\",\\\"415\\\",\\\"416\\\",\\\"417\\\",\\\"418\\\",\\\"419\\\",\\\"420\\\",\\\"421\\\",\\\"422\\\",\\\"423\\\",\\\"424\\\",\\\"425\\\",\\\"426\\\",\\\"427\\\",\\\"428\\\",\\\"429\\\",\\\"430\\\",\\\"431\\\",\\\"432\\\",\\\"433\\\",\\\"434\\\",\\\"435\\\",\\\"436\\\",\\\"437\\\",\\\"438\\\",\\\"439\\\",\\\"440\\\",\\\"441\\\",\\\"442\\\",\\\"443\\\",\\\"444\\\",\\\"445\\\",\\\"446\\\",\\\"447\\\",\\\"448\\\",\\\"449\\\",\\\"450\\\",\\\"451\\\",\\\"452\\\",\\\"453\\\",\\\"454\\\",\\\"455\\\",\\\"456\\\",\\\"457\\\",\\\"458\\\",\\\"459\\\",\\\"460\\\",\\\"461\\\",\\\"462\\\",\\\"463\\\",\\\"464\\\",\\\"465\\\",\\\"466\\\",\\\"467\\\",\\\"468\\\",\\\"469\\\",\\\"470\\\",\\\"471\\\",\\\"472\\\",\\\"473\\\",\\\"474\\\",\\\"475\\\",\\\"476\\\",\\\"477\\\",\\\"478\\\",\\\"479\\\",\\\"480\\\",\\\"481\\\",\\\"482\\\",\\\"483\\\",\\\"484\\\",\\\"485\\\",\\\"486\\\",\\\"487\\\",\\\"488\\\",\\\"489\\\",\\\"490\\\",\\\"491\\\",\\\"492\\\",\\\"493\\\",\\\"494\\\",\\\"495\\\",\\\"496\\\",\\\"497\\\",\\\"498\\\",\\\"499\\\",\\\"500\\\",\\\"501\\\",\\\"502\\\",\\\"503\\\",\\\"504\\\",\\\"505\\\",\\\"506\\\",\\\"507\\\",\\\"508\\\",\\\"509\\\",\\\"510\\\",\\\"511\\\",\\\"512\\\",\\\"513\\\",\\\"514\\\",\\\"515\\\",\\\"516\\\",\\\"517\\\",\\\"518\\\",\\\"519\\\",\\\"520\\\",\\\"521\\\",\\\"522\\\",\\\"523\\\",\\\"524\\\",\\\"525\\\",\\\"526\\\",\\\"527\\\",\\\"528\\\",\\\"529\\\",\\\"530\\\",\\\"531\\\",\\\"532\\\",\\\"533\\\",\\\"534\\\",\\\"535\\\",\\\"536\\\",\\\"537\\\",\\\"538\\\",\\\"539\\\",\\\"540\\\",\\\"541\\\",\\\"542\\\",\\\"543\\\",\\\"544\\\",\\\"545\\\",\\\"546\\\",\\\"547\\\",\\\"548\\\",\\\"549\\\",\\\"550\\\",\\\"551\\\",\\\"552\\\",\\\"553\\\",\\\"554\\\",\\\"555\\\",\\\"556\\\",\\\"557\\\",\\\"558\\\",\\\"559\\\",\\\"560\\\",\\\"561\\\",\\\"562\\\",\\\"563\\\",\\\"564\\\",\\\"565\\\",\\\"566\\\",\\\"567\\\",\\\"568\\\",\\\"569\\\",\\\"570\\\",\\\"571\\\",\\\"572\\\",\\\"573\\\",\\\"574\\\",\\\"575\\\",\\\"576\\\",\\\"577\\\",\\\"578\\\",\\\"579\\\",\\\"580\\\",\\\"581\\\",\\\"582\\\",\\\"583\\\",\\\"584\\\",\\\"585\\\",\\\"586\\\",\\\"587\\\",\\\"588\\\",\\\"589\\\",\\\"590\\\",\\\"591\\\",\\\"592\\\",\\\"593\\\",\\\"594\\\",\\\"595\\\",\\\"596\\\",\\\"597\\\",\\\"598\\\",\\\"599\\\",\\\"600\\\",\\\"601\\\",\\\"602\\\",\\\"603\\\",\\\"604\\\",\\\"605\\\",\\\"606\\\",\\\"607\\\",\\\"608\\\",\\\"609\\\",\\\"610\\\",\\\"611\\\",\\\"612\\\",\\\"613\\\",\\\"614\\\",\\\"615\\\",\\\"616\\\",\\\"617\\\",\\\"618\\\",\\\"619\\\",\\\"620\\\",\\\"621\\\",\\\"622\\\",\\\"623\\\",\\\"624\\\",\\\"625\\\",\\\"626\\\",\\\"627\\\",\\\"628\\\",\\\"629\\\",\\\"630\\\",\\\"631\\\",\\\"632\\\",\\\"633\\\",\\\"634\\\",\\\"635\\\",\\\"636\\\",\\\"637\\\",\\\"638\\\",\\\"639\\\",\\\"640\\\",\\\"641\\\",\\\"642\\\",\\\"643\\\",\\\"644\\\",\\\"645\\\",\\\"646\\\",\\\"647\\\",\\\"648\\\",\\\"649\\\",\\\"650\\\",\\\"651\\\",\\\"652\\\",\\\"653\\\",\\\"654\\\",\\\"655\\\",\\\"656\\\",\\\"657\\\",\\\"658\\\",\\\"659\\\",\\\"660\\\",\\\"661\\\",\\\"662\\\",\\\"663\\\",\\\"664\\\",\\\"665\\\",\\\"666\\\",\\\"667\\\",\\\"668\\\",\\\"669\\\",\\\"670\\\",\\\"671\\\",\\\"672\\\",\\\"673\\\",\\\"674\\\",\\\"675\\\",\\\"676\\\",\\\"677\\\",\\\"678\\\",\\\"679\\\",\\\"680\\\",\\\"681\\\",\\\"682\\\",\\\"683\\\",\\\"684\\\",\\\"685\\\",\\\"686\\\",\\\"687\\\",\\\"688\\\",\\\"689\\\",\\\"690\\\",\\\"691\\\",\\\"692\\\",\\\"693\\\",\\\"694\\\",\\\"695\\\",\\\"696\\\",\\\"697\\\",\\\"698\\\",\\\"699\\\",\\\"700\\\",\\\"701\\\",\\\"702\\\",\\\"703\\\",\\\"704\\\",\\\"705\\\",\\\"706\\\",\\\"707\\\",\\\"708\\\",\\\"709\\\",\\\"710\\\",\\\"711\\\",\\\"712\\\",\\\"713\\\",\\\"714\\\",\\\"715\\\",\\\"716\\\",\\\"717\\\",\\\"718\\\",\\\"719\\\",\\\"720\\\",\\\"721\\\",\\\"722\\\",\\\"723\\\",\\\"724\\\",\\\"725\\\",\\\"726\\\",\\\"727\\\",\\\"728\\\",\\\"729\\\",\\\"730\\\",\\\"731\\\",\\\"732\\\",\\\"733\\\",\\\"734\\\",\\\"735\\\",\\\"736\\\",\\\"737\\\",\\\"738\\\",\\\"739\\\",\\\"740\\\",\\\"741\\\",\\\"742\\\",\\\"743\\\",\\\"744\\\",\\\"745\\\",\\\"746\\\",\\\"747\\\",\\\"748\\\",\\\"749\\\",\\\"750\\\",\\\"751\\\",\\\"752\\\",\\\"753\\\",\\\"754\\\",\\\"755\\\",\\\"756\\\",\\\"757\\\",\\\"758\\\",\\\"759\\\",\\\"760\\\",\\\"761\\\",\\\"762\\\",\\\"763\\\",\\\"764\\\",\\\"765\\\",\\\"766\\\",\\\"767\\\",\\\"768\\\",\\\"769\\\",\\\"770\\\",\\\"771\\\",\\\"772\\\",\\\"773\\\",\\\"774\\\",\\\"775\\\",\\\"776\\\",\\\"777\\\",\\\"778\\\",\\\"779\\\",\\\"780\\\",\\\"781\\\",\\\"782\\\",\\\"783\\\",\\\"784\\\",\\\"785\\\",\\\"786\\\",\\\"787\\\",\\\"788\\\",\\\"789\\\",\\\"790\\\",\\\"791\\\",\\\"792\\\",\\\"793\\\",\\\"794\\\",\\\"795\\\",\\\"796\\\",\\\"797\\\",\\\"798\\\",\\\"799\\\",\\\"800\\\",\\\"801\\\",\\\"802\\\",\\\"803\\\",\\\"804\\\",\\\"805\\\",\\\"806\\\",\\\"807\\\",\\\"808\\\",\\\"809\\\",\\\"810\\\",\\\"811\\\",\\\"812\\\",\\\"813\\\",\\\"814\\\",\\\"815\\\",\\\"816\\\",\\\"817\\\",\\\"818\\\",\\\"819\\\",\\\"820\\\",\\\"821\\\",\\\"822\\\",\\\"823\\\",\\\"824\\\",\\\"825\\\",\\\"826\\\",\\\"827\\\",\\\"828\\\",\\\"829\\\",\\\"830\\\",\\\"831\\\",\\\"832\\\",\\\"833\\\",\\\"834\\\",\\\"835\\\",\\\"836\\\",\\\"837\\\",\\\"838\\\",\\\"839\\\",\\\"840\\\",\\\"841\\\",\\\"842\\\",\\\"843\\\",\\\"844\\\",\\\"845\\\",\\\"846\\\",\\\"847\\\",\\\"848\\\",\\\"849\\\",\\\"850\\\",\\\"851\\\",\\\"852\\\",\\\"853\\\",\\\"854\\\",\\\"855\\\",\\\"856\\\",\\\"857\\\",\\\"858\\\",\\\"859\\\",\\\"860\\\",\\\"861\\\",\\\"862\\\",\\\"863\\\",\\\"864\\\",\\\"865\\\",\\\"866\\\",\\\"867\\\",\\\"868\\\",\\\"869\\\",\\\"870\\\",\\\"871\\\",\\\"872\\\",\\\"873\\\",\\\"874\\\",\\\"875\\\",\\\"876\\\",\\\"877\\\",\\\"878\\\",\\\"879\\\",\\\"880\\\",\\\"881\\\",\\\"882\\\",\\\"883\\\",\\\"884\\\",\\\"885\\\",\\\"886\\\",\\\"887\\\",\\\"888\\\",\\\"889\\\",\\\"890\\\",\\\"891\\\",\\\"892\\\",\\\"893\\\",\\\"894\\\",\\\"895\\\",\\\"896\\\",\\\"897\\\",\\\"898\\\",\\\"899\\\",\\\"900\\\",\\\"901\\\",\\\"902\\\",\\\"903\\\",\\\"904\\\",\\\"905\\\",\\\"906\\\",\\\"907\\\",\\\"908\\\",\\\"909\\\",\\\"910\\\",\\\"911\\\",\\\"912\\\",\\\"913\\\",\\\"914\\\",\\\"915\\\",\\\"916\\\",\\\"917\\\",\\\"918\\\",\\\"919\\\",\\\"920\\\",\\\"921\\\",\\\"922\\\",\\\"923\\\",\\\"924\\\",\\\"925\\\",\\\"926\\\",\\\"927\\\",\\\"928\\\",\\\"929\\\",\\\"930\\\",\\\"931\\\",\\\"932\\\",\\\"933\\\",\\\"934\\\",\\\"935\\\",\\\"936\\\",\\\"937\\\",\\\"938\\\",\\\"939\\\",\\\"940\\\",\\\"941\\\",\\\"942\\\",\\\"943\\\",\\\"944\\\",\\\"945\\\",\\\"946\\\",\\\"947\\\",\\\"948\\\",\\\"949\\\",\\\"950\\\",\\\"951\\\",\\\"952\\\",\\\"953\\\",\\\"954\\\",\\\"955\\\",\\\"956\\\",\\\"957\\\",\\\"958\\\",\\\"959\\\",\\\"960\\\",\\\"961\\\",\\\"962\\\",\\\"963\\\",\\\"964\\\",\\\"965\\\",\\\"966\\\",\\\"967\\\",\\\"968\\\",\\\"969\\\",\\\"970\\\",\\\"971\\\",\\\"972\\\",\\\"973\\\",\\\"974\\\",\\\"975\\\",\\\"976\\\",\\\"977\\\",\\\"978\\\",\\\"979\\\",\\\"980\\\",\\\"981\\\",\\\"982\\\",\\\"983\\\",\\\"984\\\",\\\"985\\\",\\\"986\\\",\\\"987\\\",\\\"988\\\",\\\"989\\\",\\\"990\\\",\\\"991\\\",\\\"992\\\",\\\"993\\\",\\\"994\\\",\\\"995\\\",\\\"996\\\",\\\"997\\\",\\\"998\\\",\\\"999\\\",\\\"1000\\\"],\\\"changes\\\":WebIO.getval({\\\"name\\\":\\\"changes\\\",\\\"scope\\\":\\\"14721937422247612075\\\",\\\"id\\\":\\\"18421728926803028525\\\",\\\"type\\\":\\\"observable\\\"}),\\\"index\\\":WebIO.getval({\\\"name\\\":\\\"index\\\",\\\"scope\\\":\\\"14721937422247612075\\\",\\\"id\\\":\\\"13697678738429543450\\\",\\\"type\\\":\\\"observable\\\"})};\\n    var self = this;\\n    function AppViewModel() {\\n        for (var key in json_data) {\\n            var el = json_data[key];\\n            this[key] = Array.isArray(el) ? ko.observableArray(el) : ko.observable(el);\\n        }\\n        \\n        [this[\\\"formatted_val\\\"]=ko.computed(    function(){\\n        return this.formatted_vals()[parseInt(this.index())-(1)];\\n    }\\n,this)]\\n        [this[\\\"changes\\\"].subscribe((function (val){!(this.valueFromJulia[\\\"changes\\\"]) ? (WebIO.setval({\\\"name\\\":\\\"changes\\\",\\\"scope\\\":\\\"14721937422247612075\\\",\\\"id\\\":\\\"18421728926803028525\\\",\\\"type\\\":\\\"observable\\\"},val)) : undefined; return this.valueFromJulia[\\\"changes\\\"]=false}),self),this[\\\"index\\\"].subscribe((function (val){!(this.valueFromJulia[\\\"index\\\"]) ? (WebIO.setval({\\\"name\\\":\\\"index\\\",\\\"scope\\\":\\\"14721937422247612075\\\",\\\"id\\\":\\\"13697678738429543450\\\",\\\"type\\\":\\\"observable\\\"},val)) : undefined; return this.valueFromJulia[\\\"index\\\"]=false}),self)]\\n        \\n    }\\n    self.model = new AppViewModel();\\n    self.valueFromJulia = {};\\n    for (var key in json_data) {\\n        self.valueFromJulia[key] = false;\\n    }\\n    ko.applyBindings(self.model, self.dom);\\n}\\n);\\n    (WebIO.importBlock({\\\"data\\\":[{\\\"name\\\":\\\"knockout\\\",\\\"type\\\":\\\"js\\\",\\\"url\\\":\\\"/assetserver/4e15ea8f38f5d33bf0b2930cb09c8089f78b114e-knockout.js\\\"},{\\\"name\\\":\\\"knockout_punches\\\",\\\"type\\\":\\\"js\\\",\\\"url\\\":\\\"/assetserver/6967e46b2259ea2e5c469b61c410326b52955db7-knockout_punches.js\\\"}],\\\"type\\\":\\\"async_block\\\"})).then((imports) => handler.apply(this, imports));\\n}\\n\")])], Dict{Symbol, Any}(:className => \"field interact-widget\")), Observable{Any} with 0 listeners. Value:\n",
       "Node{WebIO.DOM}(WebIO.DOM(:html, :div), Any[Plot{Plots.GRBackend() n=1}], Dict{Symbol, Any}(:className => \"interact-flex-row interact-widget\"))], Dict{Symbol, Any}())"
      ]
     },
     "execution_count": 45,
     "metadata": {
      "@webio": {
       "kernelId": "4fe35d73-4234-4d9b-9302-78f461ba68d7"
      }
     },
     "output_type": "execute_result"
    }
   ],
   "source": [
    "end_T = 1000\n",
    "@manipulate for T in slider(1:end_T, value=1) \n",
    "    I_result = run_infection(T)\n",
    "    \n",
    "    plot(I_result, m=:o)\n",
    "    \n",
    "    xlims!(0,end_T)\n",
    "    ylims!(0,10)\n",
    "end"
   ]
  },
  {
   "cell_type": "markdown",
   "metadata": {},
   "source": [
    "## Exponential Growth"
   ]
  },
  {
   "cell_type": "code",
   "execution_count": 46,
   "metadata": {},
   "outputs": [
    {
     "data": {
      "image/svg+xml": [
       "<?xml version=\"1.0\" encoding=\"utf-8\"?>\n",
       "<svg xmlns=\"http://www.w3.org/2000/svg\" xmlns:xlink=\"http://www.w3.org/1999/xlink\" width=\"600\" height=\"400\" viewBox=\"0 0 2400 1600\">\n",
       "<defs>\n",
       "  <clipPath id=\"clip120\">\n",
       "    <rect x=\"0\" y=\"0\" width=\"2400\" height=\"1600\"/>\n",
       "  </clipPath>\n",
       "</defs>\n",
       "<path clip-path=\"url(#clip120)\" d=\"\n",
       "M0 1600 L2400 1600 L2400 0 L0 0  Z\n",
       "  \" fill=\"#ffffff\" fill-rule=\"evenodd\" fill-opacity=\"1\"/>\n",
       "<defs>\n",
       "  <clipPath id=\"clip121\">\n",
       "    <rect x=\"480\" y=\"0\" width=\"1681\" height=\"1600\"/>\n",
       "  </clipPath>\n",
       "</defs>\n",
       "<path clip-path=\"url(#clip120)\" d=\"\n",
       "M279.422 1486.45 L2352.76 1486.45 L2352.76 47.2441 L279.422 47.2441  Z\n",
       "  \" fill=\"#ffffff\" fill-rule=\"evenodd\" fill-opacity=\"1\"/>\n",
       "<defs>\n",
       "  <clipPath id=\"clip122\">\n",
       "    <rect x=\"279\" y=\"47\" width=\"2074\" height=\"1440\"/>\n",
       "  </clipPath>\n",
       "</defs>\n",
       "<polyline clip-path=\"url(#clip122)\" style=\"stroke:#000000; stroke-width:2; stroke-opacity:0.1; fill:none\" points=\"\n",
       "  336.143,1486.45 336.143,47.2441 \n",
       "  \"/>\n",
       "<polyline clip-path=\"url(#clip122)\" style=\"stroke:#000000; stroke-width:2; stroke-opacity:0.1; fill:none\" points=\"\n",
       "  825.626,1486.45 825.626,47.2441 \n",
       "  \"/>\n",
       "<polyline clip-path=\"url(#clip122)\" style=\"stroke:#000000; stroke-width:2; stroke-opacity:0.1; fill:none\" points=\"\n",
       "  1315.11,1486.45 1315.11,47.2441 \n",
       "  \"/>\n",
       "<polyline clip-path=\"url(#clip122)\" style=\"stroke:#000000; stroke-width:2; stroke-opacity:0.1; fill:none\" points=\"\n",
       "  1804.59,1486.45 1804.59,47.2441 \n",
       "  \"/>\n",
       "<polyline clip-path=\"url(#clip122)\" style=\"stroke:#000000; stroke-width:2; stroke-opacity:0.1; fill:none\" points=\"\n",
       "  2294.08,1486.45 2294.08,47.2441 \n",
       "  \"/>\n",
       "<polyline clip-path=\"url(#clip120)\" style=\"stroke:#000000; stroke-width:4; stroke-opacity:1; fill:none\" points=\"\n",
       "  279.422,1486.45 2352.76,1486.45 \n",
       "  \"/>\n",
       "<polyline clip-path=\"url(#clip120)\" style=\"stroke:#000000; stroke-width:4; stroke-opacity:1; fill:none\" points=\"\n",
       "  336.143,1486.45 336.143,1469.18 \n",
       "  \"/>\n",
       "<polyline clip-path=\"url(#clip120)\" style=\"stroke:#000000; stroke-width:4; stroke-opacity:1; fill:none\" points=\"\n",
       "  825.626,1486.45 825.626,1469.18 \n",
       "  \"/>\n",
       "<polyline clip-path=\"url(#clip120)\" style=\"stroke:#000000; stroke-width:4; stroke-opacity:1; fill:none\" points=\"\n",
       "  1315.11,1486.45 1315.11,1469.18 \n",
       "  \"/>\n",
       "<polyline clip-path=\"url(#clip120)\" style=\"stroke:#000000; stroke-width:4; stroke-opacity:1; fill:none\" points=\"\n",
       "  1804.59,1486.45 1804.59,1469.18 \n",
       "  \"/>\n",
       "<polyline clip-path=\"url(#clip120)\" style=\"stroke:#000000; stroke-width:4; stroke-opacity:1; fill:none\" points=\"\n",
       "  2294.08,1486.45 2294.08,1469.18 \n",
       "  \"/>\n",
       "<path clip-path=\"url(#clip120)\" d=\"M 0 0 M336.143 1515.64 Q332.532 1515.64 330.703 1519.2 Q328.898 1522.75 328.898 1529.87 Q328.898 1536.98 330.703 1540.55 Q332.532 1544.09 336.143 1544.09 Q339.777 1544.09 341.583 1540.55 Q343.411 1536.98 343.411 1529.87 Q343.411 1522.75 341.583 1519.2 Q339.777 1515.64 336.143 1515.64 M336.143 1511.93 Q341.953 1511.93 345.009 1516.54 Q348.087 1521.12 348.087 1529.87 Q348.087 1538.6 345.009 1543.21 Q341.953 1547.79 336.143 1547.79 Q330.333 1547.79 327.254 1543.21 Q324.199 1538.6 324.199 1529.87 Q324.199 1521.12 327.254 1516.54 Q330.333 1511.93 336.143 1511.93 Z\" fill=\"#000000\" fill-rule=\"evenodd\" fill-opacity=\"1\" /><path clip-path=\"url(#clip120)\" d=\"M 0 0 M793.763 1543.18 L810.083 1543.18 L810.083 1547.12 L788.138 1547.12 L788.138 1543.18 Q790.8 1540.43 795.384 1535.8 Q799.99 1531.15 801.171 1529.81 Q803.416 1527.28 804.295 1525.55 Q805.198 1523.79 805.198 1522.1 Q805.198 1519.34 803.254 1517.61 Q801.333 1515.87 798.231 1515.87 Q796.032 1515.87 793.578 1516.63 Q791.147 1517.4 788.37 1518.95 L788.37 1514.23 Q791.194 1513.09 793.647 1512.51 Q796.101 1511.93 798.138 1511.93 Q803.508 1511.93 806.703 1514.62 Q809.897 1517.31 809.897 1521.8 Q809.897 1523.93 809.087 1525.85 Q808.3 1527.74 806.194 1530.34 Q805.615 1531.01 802.513 1534.23 Q799.411 1537.42 793.763 1543.18 Z\" fill=\"#000000\" fill-rule=\"evenodd\" fill-opacity=\"1\" /><path clip-path=\"url(#clip120)\" d=\"M 0 0 M815.198 1512.56 L833.555 1512.56 L833.555 1516.5 L819.481 1516.5 L819.481 1524.97 Q820.499 1524.62 821.518 1524.46 Q822.536 1524.27 823.555 1524.27 Q829.342 1524.27 832.721 1527.44 Q836.101 1530.62 836.101 1536.03 Q836.101 1541.61 832.629 1544.71 Q829.156 1547.79 822.837 1547.79 Q820.661 1547.79 818.393 1547.42 Q816.147 1547.05 813.74 1546.31 L813.74 1541.61 Q815.823 1542.74 818.045 1543.3 Q820.268 1543.86 822.744 1543.86 Q826.749 1543.86 829.087 1541.75 Q831.425 1539.64 831.425 1536.03 Q831.425 1532.42 829.087 1530.31 Q826.749 1528.21 822.744 1528.21 Q820.869 1528.21 818.994 1528.62 Q817.143 1529.04 815.198 1529.92 L815.198 1512.56 Z\" fill=\"#000000\" fill-rule=\"evenodd\" fill-opacity=\"1\" /><path clip-path=\"url(#clip120)\" d=\"M 0 0 M851.17 1515.64 Q847.559 1515.64 845.73 1519.2 Q843.925 1522.75 843.925 1529.87 Q843.925 1536.98 845.73 1540.55 Q847.559 1544.09 851.17 1544.09 Q854.804 1544.09 856.61 1540.55 Q858.439 1536.98 858.439 1529.87 Q858.439 1522.75 856.61 1519.2 Q854.804 1515.64 851.17 1515.64 M851.17 1511.93 Q856.98 1511.93 860.036 1516.54 Q863.115 1521.12 863.115 1529.87 Q863.115 1538.6 860.036 1543.21 Q856.98 1547.79 851.17 1547.79 Q845.36 1547.79 842.281 1543.21 Q839.226 1538.6 839.226 1529.87 Q839.226 1521.12 842.281 1516.54 Q845.36 1511.93 851.17 1511.93 Z\" fill=\"#000000\" fill-rule=\"evenodd\" fill-opacity=\"1\" /><path clip-path=\"url(#clip120)\" d=\"M 0 0 M1278.37 1512.56 L1296.73 1512.56 L1296.73 1516.5 L1282.66 1516.5 L1282.66 1524.97 Q1283.67 1524.62 1284.69 1524.46 Q1285.71 1524.27 1286.73 1524.27 Q1292.52 1524.27 1295.9 1527.44 Q1299.28 1530.62 1299.28 1536.03 Q1299.28 1541.61 1295.8 1544.71 Q1292.33 1547.79 1286.01 1547.79 Q1283.84 1547.79 1281.57 1547.42 Q1279.32 1547.05 1276.92 1546.31 L1276.92 1541.61 Q1279 1542.74 1281.22 1543.3 Q1283.44 1543.86 1285.92 1543.86 Q1289.92 1543.86 1292.26 1541.75 Q1294.6 1539.64 1294.6 1536.03 Q1294.6 1532.42 1292.26 1530.31 Q1289.92 1528.21 1285.92 1528.21 Q1284.05 1528.21 1282.17 1528.62 Q1280.32 1529.04 1278.37 1529.92 L1278.37 1512.56 Z\" fill=\"#000000\" fill-rule=\"evenodd\" fill-opacity=\"1\" /><path clip-path=\"url(#clip120)\" d=\"M 0 0 M1314.35 1515.64 Q1310.73 1515.64 1308.91 1519.2 Q1307.1 1522.75 1307.1 1529.87 Q1307.1 1536.98 1308.91 1540.55 Q1310.73 1544.09 1314.35 1544.09 Q1317.98 1544.09 1319.79 1540.55 Q1321.61 1536.98 1321.61 1529.87 Q1321.61 1522.75 1319.79 1519.2 Q1317.98 1515.64 1314.35 1515.64 M1314.35 1511.93 Q1320.16 1511.93 1323.21 1516.54 Q1326.29 1521.12 1326.29 1529.87 Q1326.29 1538.6 1323.21 1543.21 Q1320.16 1547.79 1314.35 1547.79 Q1308.54 1547.79 1305.46 1543.21 Q1302.4 1538.6 1302.4 1529.87 Q1302.4 1521.12 1305.46 1516.54 Q1308.54 1511.93 1314.35 1511.93 Z\" fill=\"#000000\" fill-rule=\"evenodd\" fill-opacity=\"1\" /><path clip-path=\"url(#clip120)\" d=\"M 0 0 M1341.36 1515.64 Q1337.75 1515.64 1335.92 1519.2 Q1334.11 1522.75 1334.11 1529.87 Q1334.11 1536.98 1335.92 1540.55 Q1337.75 1544.09 1341.36 1544.09 Q1344.99 1544.09 1346.8 1540.55 Q1348.63 1536.98 1348.63 1529.87 Q1348.63 1522.75 1346.8 1519.2 Q1344.99 1515.64 1341.36 1515.64 M1341.36 1511.93 Q1347.17 1511.93 1350.23 1516.54 Q1353.3 1521.12 1353.3 1529.87 Q1353.3 1538.6 1350.23 1543.21 Q1347.17 1547.79 1341.36 1547.79 Q1335.55 1547.79 1332.47 1543.21 Q1329.42 1538.6 1329.42 1529.87 Q1329.42 1521.12 1332.47 1516.54 Q1335.55 1511.93 1341.36 1511.93 Z\" fill=\"#000000\" fill-rule=\"evenodd\" fill-opacity=\"1\" /><path clip-path=\"url(#clip120)\" d=\"M 0 0 M1766.97 1512.56 L1789.19 1512.56 L1789.19 1514.55 L1776.64 1547.12 L1771.76 1547.12 L1783.56 1516.5 L1766.97 1516.5 L1766.97 1512.56 Z\" fill=\"#000000\" fill-rule=\"evenodd\" fill-opacity=\"1\" /><path clip-path=\"url(#clip120)\" d=\"M 0 0 M1794.3 1512.56 L1812.66 1512.56 L1812.66 1516.5 L1798.59 1516.5 L1798.59 1524.97 Q1799.6 1524.62 1800.62 1524.46 Q1801.64 1524.27 1802.66 1524.27 Q1808.45 1524.27 1811.83 1527.44 Q1815.21 1530.62 1815.21 1536.03 Q1815.21 1541.61 1811.73 1544.71 Q1808.26 1547.79 1801.94 1547.79 Q1799.77 1547.79 1797.5 1547.42 Q1795.25 1547.05 1792.85 1546.31 L1792.85 1541.61 Q1794.93 1542.74 1797.15 1543.3 Q1799.37 1543.86 1801.85 1543.86 Q1805.85 1543.86 1808.19 1541.75 Q1810.53 1539.64 1810.53 1536.03 Q1810.53 1532.42 1808.19 1530.31 Q1805.85 1528.21 1801.85 1528.21 Q1799.98 1528.21 1798.1 1528.62 Q1796.25 1529.04 1794.3 1529.92 L1794.3 1512.56 Z\" fill=\"#000000\" fill-rule=\"evenodd\" fill-opacity=\"1\" /><path clip-path=\"url(#clip120)\" d=\"M 0 0 M1830.28 1515.64 Q1826.66 1515.64 1824.84 1519.2 Q1823.03 1522.75 1823.03 1529.87 Q1823.03 1536.98 1824.84 1540.55 Q1826.66 1544.09 1830.28 1544.09 Q1833.91 1544.09 1835.72 1540.55 Q1837.54 1536.98 1837.54 1529.87 Q1837.54 1522.75 1835.72 1519.2 Q1833.91 1515.64 1830.28 1515.64 M1830.28 1511.93 Q1836.09 1511.93 1839.14 1516.54 Q1842.22 1521.12 1842.22 1529.87 Q1842.22 1538.6 1839.14 1543.21 Q1836.09 1547.79 1830.28 1547.79 Q1824.47 1547.79 1821.39 1543.21 Q1818.33 1538.6 1818.33 1529.87 Q1818.33 1521.12 1821.39 1516.54 Q1824.47 1511.93 1830.28 1511.93 Z\" fill=\"#000000\" fill-rule=\"evenodd\" fill-opacity=\"1\" /><path clip-path=\"url(#clip120)\" d=\"M 0 0 M2243.94 1543.18 L2251.58 1543.18 L2251.58 1516.82 L2243.27 1518.49 L2243.27 1514.23 L2251.53 1512.56 L2256.21 1512.56 L2256.21 1543.18 L2263.85 1543.18 L2263.85 1547.12 L2243.94 1547.12 L2243.94 1543.18 Z\" fill=\"#000000\" fill-rule=\"evenodd\" fill-opacity=\"1\" /><path clip-path=\"url(#clip120)\" d=\"M 0 0 M2278.91 1515.64 Q2275.3 1515.64 2273.47 1519.2 Q2271.67 1522.75 2271.67 1529.87 Q2271.67 1536.98 2273.47 1540.55 Q2275.3 1544.09 2278.91 1544.09 Q2282.55 1544.09 2284.35 1540.55 Q2286.18 1536.98 2286.18 1529.87 Q2286.18 1522.75 2284.35 1519.2 Q2282.55 1515.64 2278.91 1515.64 M2278.91 1511.93 Q2284.72 1511.93 2287.78 1516.54 Q2290.86 1521.12 2290.86 1529.87 Q2290.86 1538.6 2287.78 1543.21 Q2284.72 1547.79 2278.91 1547.79 Q2273.1 1547.79 2270.03 1543.21 Q2266.97 1538.6 2266.97 1529.87 Q2266.97 1521.12 2270.03 1516.54 Q2273.1 1511.93 2278.91 1511.93 Z\" fill=\"#000000\" fill-rule=\"evenodd\" fill-opacity=\"1\" /><path clip-path=\"url(#clip120)\" d=\"M 0 0 M2305.93 1515.64 Q2302.32 1515.64 2300.49 1519.2 Q2298.68 1522.75 2298.68 1529.87 Q2298.68 1536.98 2300.49 1540.55 Q2302.32 1544.09 2305.93 1544.09 Q2309.56 1544.09 2311.37 1540.55 Q2313.2 1536.98 2313.2 1529.87 Q2313.2 1522.75 2311.37 1519.2 Q2309.56 1515.64 2305.93 1515.64 M2305.93 1511.93 Q2311.74 1511.93 2314.79 1516.54 Q2317.87 1521.12 2317.87 1529.87 Q2317.87 1538.6 2314.79 1543.21 Q2311.74 1547.79 2305.93 1547.79 Q2300.12 1547.79 2297.04 1543.21 Q2293.98 1538.6 2293.98 1529.87 Q2293.98 1521.12 2297.04 1516.54 Q2300.12 1511.93 2305.93 1511.93 Z\" fill=\"#000000\" fill-rule=\"evenodd\" fill-opacity=\"1\" /><path clip-path=\"url(#clip120)\" d=\"M 0 0 M2332.94 1515.64 Q2329.33 1515.64 2327.5 1519.2 Q2325.7 1522.75 2325.7 1529.87 Q2325.7 1536.98 2327.5 1540.55 Q2329.33 1544.09 2332.94 1544.09 Q2336.58 1544.09 2338.38 1540.55 Q2340.21 1536.98 2340.21 1529.87 Q2340.21 1522.75 2338.38 1519.2 Q2336.58 1515.64 2332.94 1515.64 M2332.94 1511.93 Q2338.75 1511.93 2341.81 1516.54 Q2344.89 1521.12 2344.89 1529.87 Q2344.89 1538.6 2341.81 1543.21 Q2338.75 1547.79 2332.94 1547.79 Q2327.13 1547.79 2324.05 1543.21 Q2321 1538.6 2321 1529.87 Q2321 1521.12 2324.05 1516.54 Q2327.13 1511.93 2332.94 1511.93 Z\" fill=\"#000000\" fill-rule=\"evenodd\" fill-opacity=\"1\" /><polyline clip-path=\"url(#clip122)\" style=\"stroke:#000000; stroke-width:2; stroke-opacity:0.1; fill:none\" points=\"\n",
       "  279.422,1445.78 2352.76,1445.78 \n",
       "  \"/>\n",
       "<polyline clip-path=\"url(#clip122)\" style=\"stroke:#000000; stroke-width:2; stroke-opacity:0.1; fill:none\" points=\"\n",
       "  279.422,1118.63 2352.76,1118.63 \n",
       "  \"/>\n",
       "<polyline clip-path=\"url(#clip122)\" style=\"stroke:#000000; stroke-width:2; stroke-opacity:0.1; fill:none\" points=\"\n",
       "  279.422,791.469 2352.76,791.469 \n",
       "  \"/>\n",
       "<polyline clip-path=\"url(#clip122)\" style=\"stroke:#000000; stroke-width:2; stroke-opacity:0.1; fill:none\" points=\"\n",
       "  279.422,464.313 2352.76,464.313 \n",
       "  \"/>\n",
       "<polyline clip-path=\"url(#clip122)\" style=\"stroke:#000000; stroke-width:2; stroke-opacity:0.1; fill:none\" points=\"\n",
       "  279.422,137.157 2352.76,137.157 \n",
       "  \"/>\n",
       "<polyline clip-path=\"url(#clip120)\" style=\"stroke:#000000; stroke-width:4; stroke-opacity:1; fill:none\" points=\"\n",
       "  279.422,1486.45 279.422,47.2441 \n",
       "  \"/>\n",
       "<polyline clip-path=\"url(#clip120)\" style=\"stroke:#000000; stroke-width:4; stroke-opacity:1; fill:none\" points=\"\n",
       "  279.422,1445.78 304.302,1445.78 \n",
       "  \"/>\n",
       "<polyline clip-path=\"url(#clip120)\" style=\"stroke:#000000; stroke-width:4; stroke-opacity:1; fill:none\" points=\"\n",
       "  279.422,1118.63 304.302,1118.63 \n",
       "  \"/>\n",
       "<polyline clip-path=\"url(#clip120)\" style=\"stroke:#000000; stroke-width:4; stroke-opacity:1; fill:none\" points=\"\n",
       "  279.422,791.469 304.302,791.469 \n",
       "  \"/>\n",
       "<polyline clip-path=\"url(#clip120)\" style=\"stroke:#000000; stroke-width:4; stroke-opacity:1; fill:none\" points=\"\n",
       "  279.422,464.313 304.302,464.313 \n",
       "  \"/>\n",
       "<polyline clip-path=\"url(#clip120)\" style=\"stroke:#000000; stroke-width:4; stroke-opacity:1; fill:none\" points=\"\n",
       "  279.422,137.157 304.302,137.157 \n",
       "  \"/>\n",
       "<path clip-path=\"url(#clip120)\" d=\"M 0 0 M231.477 1431.58 Q227.866 1431.58 226.037 1435.14 Q224.232 1438.69 224.232 1445.82 Q224.232 1452.92 226.037 1456.49 Q227.866 1460.03 231.477 1460.03 Q235.112 1460.03 236.917 1456.49 Q238.746 1452.92 238.746 1445.82 Q238.746 1438.69 236.917 1435.14 Q235.112 1431.58 231.477 1431.58 M231.477 1427.88 Q237.287 1427.88 240.343 1432.48 Q243.422 1437.07 243.422 1445.82 Q243.422 1454.54 240.343 1459.15 Q237.287 1463.73 231.477 1463.73 Q225.667 1463.73 222.588 1459.15 Q219.533 1454.54 219.533 1445.82 Q219.533 1437.07 222.588 1432.48 Q225.667 1427.88 231.477 1427.88 Z\" fill=\"#000000\" fill-rule=\"evenodd\" fill-opacity=\"1\" /><path clip-path=\"url(#clip120)\" d=\"M 0 0 M54.0086 1107.79 L72.365 1107.79 L72.365 1111.73 L58.291 1111.73 L58.291 1120.2 Q59.3095 1119.85 60.328 1119.69 Q61.3465 1119.51 62.365 1119.51 Q68.152 1119.51 71.5317 1122.68 Q74.9113 1125.85 74.9113 1131.26 Q74.9113 1136.84 71.4391 1139.95 Q67.9669 1143.02 61.6475 1143.02 Q59.4715 1143.02 57.203 1142.65 Q54.9577 1142.28 52.5503 1141.54 L52.5503 1136.84 Q54.6336 1137.98 56.8558 1138.53 Q59.078 1139.09 61.5549 1139.09 Q65.5595 1139.09 67.8974 1136.98 Q70.2354 1134.88 70.2354 1131.26 Q70.2354 1127.65 67.8974 1125.55 Q65.5595 1123.44 61.5549 1123.44 Q59.6799 1123.44 57.8049 1123.86 Q55.953 1124.27 54.0086 1125.15 L54.0086 1107.79 Z\" fill=\"#000000\" fill-rule=\"evenodd\" fill-opacity=\"1\" /><path clip-path=\"url(#clip120)\" d=\"M 0 0 M79.9807 1136.47 L84.8649 1136.47 L84.8649 1142.35 L79.9807 1142.35 L79.9807 1136.47 Z\" fill=\"#000000\" fill-rule=\"evenodd\" fill-opacity=\"1\" /><path clip-path=\"url(#clip120)\" d=\"M 0 0 M99.9343 1110.87 Q96.3232 1110.87 94.4945 1114.44 Q92.689 1117.98 92.689 1125.11 Q92.689 1132.21 94.4945 1135.78 Q96.3232 1139.32 99.9343 1139.32 Q103.569 1139.32 105.374 1135.78 Q107.203 1132.21 107.203 1125.11 Q107.203 1117.98 105.374 1114.44 Q103.569 1110.87 99.9343 1110.87 M99.9343 1107.17 Q105.744 1107.17 108.8 1111.77 Q111.879 1116.36 111.879 1125.11 Q111.879 1133.83 108.8 1138.44 Q105.744 1143.02 99.9343 1143.02 Q94.1241 1143.02 91.0454 1138.44 Q87.9899 1133.83 87.9899 1125.11 Q87.9899 1116.36 91.0454 1111.77 Q94.1241 1107.17 99.9343 1107.17 Z\" fill=\"#000000\" fill-rule=\"evenodd\" fill-opacity=\"1\" /><path clip-path=\"url(#clip120)\" d=\"M 0 0 M126.948 1110.87 Q123.337 1110.87 121.508 1114.44 Q119.703 1117.98 119.703 1125.11 Q119.703 1132.21 121.508 1135.78 Q123.337 1139.32 126.948 1139.32 Q130.582 1139.32 132.388 1135.78 Q134.217 1132.21 134.217 1125.11 Q134.217 1117.98 132.388 1114.44 Q130.582 1110.87 126.948 1110.87 M126.948 1107.17 Q132.758 1107.17 135.814 1111.77 Q138.892 1116.36 138.892 1125.11 Q138.892 1133.83 135.814 1138.44 Q132.758 1143.02 126.948 1143.02 Q121.138 1143.02 118.059 1138.44 Q115.004 1133.83 115.004 1125.11 Q115.004 1116.36 118.059 1111.77 Q121.138 1107.17 126.948 1107.17 Z\" fill=\"#000000\" fill-rule=\"evenodd\" fill-opacity=\"1\" /><path clip-path=\"url(#clip120)\" d=\"M 0 0 M172.133 1116.89 L161.554 1127.51 L172.133 1138.09 L169.378 1140.89 L158.753 1130.27 L148.128 1140.89 L145.397 1138.09 L155.953 1127.51 L145.397 1116.89 L148.128 1114.09 L158.753 1124.71 L169.378 1114.09 L172.133 1116.89 Z\" fill=\"#000000\" fill-rule=\"evenodd\" fill-opacity=\"1\" /><path clip-path=\"url(#clip120)\" d=\"M 0 0 M178.013 1138.42 L185.651 1138.42 L185.651 1112.05 L177.341 1113.72 L177.341 1109.46 L185.605 1107.79 L190.281 1107.79 L190.281 1138.42 L197.92 1138.42 L197.92 1142.35 L178.013 1142.35 L178.013 1138.42 Z\" fill=\"#000000\" fill-rule=\"evenodd\" fill-opacity=\"1\" /><path clip-path=\"url(#clip120)\" d=\"M 0 0 M212.989 1110.87 Q209.378 1110.87 207.549 1114.44 Q205.744 1117.98 205.744 1125.11 Q205.744 1132.21 207.549 1135.78 Q209.378 1139.32 212.989 1139.32 Q216.623 1139.32 218.429 1135.78 Q220.258 1132.21 220.258 1125.11 Q220.258 1117.98 218.429 1114.44 Q216.623 1110.87 212.989 1110.87 M212.989 1107.17 Q218.799 1107.17 221.855 1111.77 Q224.934 1116.36 224.934 1125.11 Q224.934 1133.83 221.855 1138.44 Q218.799 1143.02 212.989 1143.02 Q207.179 1143.02 204.1 1138.44 Q201.045 1133.83 201.045 1125.11 Q201.045 1116.36 204.1 1111.77 Q207.179 1107.17 212.989 1107.17 Z\" fill=\"#000000\" fill-rule=\"evenodd\" fill-opacity=\"1\" /><path clip-path=\"url(#clip120)\" d=\"M 0 0 M237.629 1099.8 Q240.356 1100.39 241.879 1102.23 Q243.422 1104.07 243.422 1106.78 Q243.422 1110.94 240.563 1113.21 Q237.704 1115.49 232.438 1115.49 Q230.67 1115.49 228.789 1115.13 Q226.927 1114.79 224.934 1114.1 L224.934 1110.43 Q226.513 1111.35 228.394 1111.82 Q230.275 1112.29 232.325 1112.29 Q235.899 1112.29 237.761 1110.88 Q239.641 1109.47 239.641 1106.78 Q239.641 1104.3 237.892 1102.91 Q236.162 1101.49 233.059 1101.49 L229.786 1101.49 L229.786 1098.37 L233.209 1098.37 Q236.011 1098.37 237.497 1097.26 Q238.983 1096.13 238.983 1094.03 Q238.983 1091.87 237.441 1090.72 Q235.917 1089.55 233.059 1089.55 Q231.498 1089.55 229.711 1089.89 Q227.924 1090.23 225.78 1090.94 L225.78 1087.56 Q227.943 1086.96 229.824 1086.66 Q231.723 1086.35 233.397 1086.35 Q237.723 1086.35 240.243 1088.33 Q242.763 1090.29 242.763 1093.63 Q242.763 1095.97 241.428 1097.58 Q240.093 1099.18 237.629 1099.8 Z\" fill=\"#000000\" fill-rule=\"evenodd\" fill-opacity=\"1\" /><path clip-path=\"url(#clip120)\" d=\"M 0 0 M53.0292 811.261 L60.668 811.261 L60.668 784.896 L52.3579 786.563 L52.3579 782.303 L60.6217 780.637 L65.2976 780.637 L65.2976 811.261 L72.9365 811.261 L72.9365 815.197 L53.0292 815.197 L53.0292 811.261 Z\" fill=\"#000000\" fill-rule=\"evenodd\" fill-opacity=\"1\" /><path clip-path=\"url(#clip120)\" d=\"M 0 0 M78.0059 809.317 L82.8901 809.317 L82.8901 815.197 L78.0059 815.197 L78.0059 809.317 Z\" fill=\"#000000\" fill-rule=\"evenodd\" fill-opacity=\"1\" /><path clip-path=\"url(#clip120)\" d=\"M 0 0 M97.9595 783.715 Q94.3484 783.715 92.5197 787.28 Q90.7141 790.822 90.7141 797.951 Q90.7141 805.058 92.5197 808.623 Q94.3484 812.164 97.9595 812.164 Q101.594 812.164 103.399 808.623 Q105.228 805.058 105.228 797.951 Q105.228 790.822 103.399 787.28 Q101.594 783.715 97.9595 783.715 M97.9595 780.012 Q103.77 780.012 106.825 784.618 Q109.904 789.201 109.904 797.951 Q109.904 806.678 106.825 811.285 Q103.77 815.868 97.9595 815.868 Q92.1493 815.868 89.0706 811.285 Q86.0151 806.678 86.0151 797.951 Q86.0151 789.201 89.0706 784.618 Q92.1493 780.012 97.9595 780.012 Z\" fill=\"#000000\" fill-rule=\"evenodd\" fill-opacity=\"1\" /><path clip-path=\"url(#clip120)\" d=\"M 0 0 M124.973 783.715 Q121.362 783.715 119.533 787.28 Q117.728 790.822 117.728 797.951 Q117.728 805.058 119.533 808.623 Q121.362 812.164 124.973 812.164 Q128.607 812.164 130.413 808.623 Q132.242 805.058 132.242 797.951 Q132.242 790.822 130.413 787.28 Q128.607 783.715 124.973 783.715 M124.973 780.012 Q130.783 780.012 133.839 784.618 Q136.918 789.201 136.918 797.951 Q136.918 806.678 133.839 811.285 Q130.783 815.868 124.973 815.868 Q119.163 815.868 116.084 811.285 Q113.029 806.678 113.029 797.951 Q113.029 789.201 116.084 784.618 Q119.163 780.012 124.973 780.012 Z\" fill=\"#000000\" fill-rule=\"evenodd\" fill-opacity=\"1\" /><path clip-path=\"url(#clip120)\" d=\"M 0 0 M170.158 789.734 L159.58 800.359 L170.158 810.937 L167.404 813.738 L156.779 803.113 L146.154 813.738 L143.422 810.937 L153.978 800.359 L143.422 789.734 L146.154 786.933 L156.779 797.558 L167.404 786.933 L170.158 789.734 Z\" fill=\"#000000\" fill-rule=\"evenodd\" fill-opacity=\"1\" /><path clip-path=\"url(#clip120)\" d=\"M 0 0 M176.038 811.261 L183.677 811.261 L183.677 784.896 L175.366 786.563 L175.366 782.303 L183.63 780.637 L188.306 780.637 L188.306 811.261 L195.945 811.261 L195.945 815.197 L176.038 815.197 L176.038 811.261 Z\" fill=\"#000000\" fill-rule=\"evenodd\" fill-opacity=\"1\" /><path clip-path=\"url(#clip120)\" d=\"M 0 0 M211.014 783.715 Q207.403 783.715 205.575 787.28 Q203.769 790.822 203.769 797.951 Q203.769 805.058 205.575 808.623 Q207.403 812.164 211.014 812.164 Q214.649 812.164 216.454 808.623 Q218.283 805.058 218.283 797.951 Q218.283 790.822 216.454 787.28 Q214.649 783.715 211.014 783.715 M211.014 780.012 Q216.825 780.012 219.88 784.618 Q222.959 789.201 222.959 797.951 Q222.959 806.678 219.88 811.285 Q216.825 815.868 211.014 815.868 Q205.204 815.868 202.126 811.285 Q199.07 806.678 199.07 797.951 Q199.07 789.201 202.126 784.618 Q205.204 780.012 211.014 780.012 Z\" fill=\"#000000\" fill-rule=\"evenodd\" fill-opacity=\"1\" /><path clip-path=\"url(#clip120)\" d=\"M 0 0 M235.635 763.016 L226.043 778.006 L235.635 778.006 L235.635 763.016 M234.638 759.706 L239.416 759.706 L239.416 778.006 L243.422 778.006 L243.422 781.166 L239.416 781.166 L239.416 787.786 L235.635 787.786 L235.635 781.166 L222.959 781.166 L222.959 777.498 L234.638 759.706 Z\" fill=\"#000000\" fill-rule=\"evenodd\" fill-opacity=\"1\" /><path clip-path=\"url(#clip120)\" d=\"M 0 0 M54.0245 484.105 L61.6634 484.105 L61.6634 457.74 L53.3532 459.406 L53.3532 455.147 L61.6171 453.481 L66.293 453.481 L66.293 484.105 L73.9318 484.105 L73.9318 488.041 L54.0245 488.041 L54.0245 484.105 Z\" fill=\"#000000\" fill-rule=\"evenodd\" fill-opacity=\"1\" /><path clip-path=\"url(#clip120)\" d=\"M 0 0 M79.0012 482.161 L83.8855 482.161 L83.8855 488.041 L79.0012 488.041 L79.0012 482.161 Z\" fill=\"#000000\" fill-rule=\"evenodd\" fill-opacity=\"1\" /><path clip-path=\"url(#clip120)\" d=\"M 0 0 M89.0012 453.481 L107.358 453.481 L107.358 457.416 L93.2836 457.416 L93.2836 465.888 Q94.3021 465.541 95.3206 465.379 Q96.3391 465.193 97.3576 465.193 Q103.145 465.193 106.524 468.365 Q109.904 471.536 109.904 476.953 Q109.904 482.531 106.432 485.633 Q102.959 488.712 96.64 488.712 Q94.4641 488.712 92.1956 488.342 Q89.9503 487.971 87.5429 487.23 L87.5429 482.531 Q89.6262 483.666 91.8484 484.221 Q94.0706 484.777 96.5474 484.777 Q100.552 484.777 102.89 482.67 Q105.228 480.564 105.228 476.953 Q105.228 473.342 102.89 471.235 Q100.552 469.129 96.5474 469.129 Q94.6724 469.129 92.7975 469.545 Q90.9456 469.962 89.0012 470.842 L89.0012 453.481 Z\" fill=\"#000000\" fill-rule=\"evenodd\" fill-opacity=\"1\" /><path clip-path=\"url(#clip120)\" d=\"M 0 0 M124.973 456.559 Q121.362 456.559 119.533 460.124 Q117.728 463.666 117.728 470.795 Q117.728 477.902 119.533 481.467 Q121.362 485.008 124.973 485.008 Q128.607 485.008 130.413 481.467 Q132.242 477.902 132.242 470.795 Q132.242 463.666 130.413 460.124 Q128.607 456.559 124.973 456.559 M124.973 452.856 Q130.783 452.856 133.839 457.462 Q136.918 462.045 136.918 470.795 Q136.918 479.522 133.839 484.129 Q130.783 488.712 124.973 488.712 Q119.163 488.712 116.084 484.129 Q113.029 479.522 113.029 470.795 Q113.029 462.045 116.084 457.462 Q119.163 452.856 124.973 452.856 Z\" fill=\"#000000\" fill-rule=\"evenodd\" fill-opacity=\"1\" /><path clip-path=\"url(#clip120)\" d=\"M 0 0 M170.158 462.578 L159.58 473.203 L170.158 483.781 L167.404 486.582 L156.779 475.957 L146.154 486.582 L143.422 483.781 L153.978 473.203 L143.422 462.578 L146.154 459.777 L156.779 470.402 L167.404 459.777 L170.158 462.578 Z\" fill=\"#000000\" fill-rule=\"evenodd\" fill-opacity=\"1\" /><path clip-path=\"url(#clip120)\" d=\"M 0 0 M176.038 484.105 L183.677 484.105 L183.677 457.74 L175.366 459.406 L175.366 455.147 L183.63 453.481 L188.306 453.481 L188.306 484.105 L195.945 484.105 L195.945 488.041 L176.038 488.041 L176.038 484.105 Z\" fill=\"#000000\" fill-rule=\"evenodd\" fill-opacity=\"1\" /><path clip-path=\"url(#clip120)\" d=\"M 0 0 M211.014 456.559 Q207.403 456.559 205.575 460.124 Q203.769 463.666 203.769 470.795 Q203.769 477.902 205.575 481.467 Q207.403 485.008 211.014 485.008 Q214.649 485.008 216.454 481.467 Q218.283 477.902 218.283 470.795 Q218.283 463.666 216.454 460.124 Q214.649 456.559 211.014 456.559 M211.014 452.856 Q216.825 452.856 219.88 457.462 Q222.959 462.045 222.959 470.795 Q222.959 479.522 219.88 484.129 Q216.825 488.712 211.014 488.712 Q205.204 488.712 202.126 484.129 Q199.07 479.522 199.07 470.795 Q199.07 462.045 202.126 457.462 Q205.204 452.856 211.014 452.856 Z\" fill=\"#000000\" fill-rule=\"evenodd\" fill-opacity=\"1\" /><path clip-path=\"url(#clip120)\" d=\"M 0 0 M235.635 435.86 L226.043 450.85 L235.635 450.85 L235.635 435.86 M234.638 432.55 L239.416 432.55 L239.416 450.85 L243.422 450.85 L243.422 454.01 L239.416 454.01 L239.416 460.63 L235.635 460.63 L235.635 454.01 L222.959 454.01 L222.959 450.342 L234.638 432.55 Z\" fill=\"#000000\" fill-rule=\"evenodd\" fill-opacity=\"1\" /><path clip-path=\"url(#clip120)\" d=\"M 0 0 M56.6171 156.949 L72.9365 156.949 L72.9365 160.885 L50.9921 160.885 L50.9921 156.949 Q53.6541 154.195 58.2375 149.565 Q62.8439 144.912 64.0245 143.57 Q66.2698 141.047 67.1494 139.311 Q68.0522 137.551 68.0522 135.862 Q68.0522 133.107 66.1078 131.371 Q64.1865 129.635 61.0847 129.635 Q58.8856 129.635 56.4319 130.399 Q54.0014 131.162 51.2236 132.713 L51.2236 127.991 Q54.0477 126.857 56.5014 126.278 Q58.955 125.7 60.9921 125.7 Q66.3624 125.7 69.5568 128.385 Q72.7513 131.07 72.7513 135.561 Q72.7513 137.69 71.9411 139.612 Q71.1541 141.51 69.0476 144.102 Q68.4689 144.774 65.367 147.991 Q62.2652 151.186 56.6171 156.949 Z\" fill=\"#000000\" fill-rule=\"evenodd\" fill-opacity=\"1\" /><path clip-path=\"url(#clip120)\" d=\"M 0 0 M78.0059 155.005 L82.8901 155.005 L82.8901 160.885 L78.0059 160.885 L78.0059 155.005 Z\" fill=\"#000000\" fill-rule=\"evenodd\" fill-opacity=\"1\" /><path clip-path=\"url(#clip120)\" d=\"M 0 0 M97.9595 129.403 Q94.3484 129.403 92.5197 132.968 Q90.7141 136.51 90.7141 143.639 Q90.7141 150.746 92.5197 154.311 Q94.3484 157.852 97.9595 157.852 Q101.594 157.852 103.399 154.311 Q105.228 150.746 105.228 143.639 Q105.228 136.51 103.399 132.968 Q101.594 129.403 97.9595 129.403 M97.9595 125.7 Q103.77 125.7 106.825 130.306 Q109.904 134.889 109.904 143.639 Q109.904 152.366 106.825 156.973 Q103.77 161.556 97.9595 161.556 Q92.1493 161.556 89.0706 156.973 Q86.0151 152.366 86.0151 143.639 Q86.0151 134.889 89.0706 130.306 Q92.1493 125.7 97.9595 125.7 Z\" fill=\"#000000\" fill-rule=\"evenodd\" fill-opacity=\"1\" /><path clip-path=\"url(#clip120)\" d=\"M 0 0 M124.973 129.403 Q121.362 129.403 119.533 132.968 Q117.728 136.51 117.728 143.639 Q117.728 150.746 119.533 154.311 Q121.362 157.852 124.973 157.852 Q128.607 157.852 130.413 154.311 Q132.242 150.746 132.242 143.639 Q132.242 136.51 130.413 132.968 Q128.607 129.403 124.973 129.403 M124.973 125.7 Q130.783 125.7 133.839 130.306 Q136.918 134.889 136.918 143.639 Q136.918 152.366 133.839 156.973 Q130.783 161.556 124.973 161.556 Q119.163 161.556 116.084 156.973 Q113.029 152.366 113.029 143.639 Q113.029 134.889 116.084 130.306 Q119.163 125.7 124.973 125.7 Z\" fill=\"#000000\" fill-rule=\"evenodd\" fill-opacity=\"1\" /><path clip-path=\"url(#clip120)\" d=\"M 0 0 M170.158 135.422 L159.58 146.047 L170.158 156.625 L167.404 159.426 L156.779 148.801 L146.154 159.426 L143.422 156.625 L153.978 146.047 L143.422 135.422 L146.154 132.621 L156.779 143.246 L167.404 132.621 L170.158 135.422 Z\" fill=\"#000000\" fill-rule=\"evenodd\" fill-opacity=\"1\" /><path clip-path=\"url(#clip120)\" d=\"M 0 0 M176.038 156.949 L183.677 156.949 L183.677 130.584 L175.366 132.25 L175.366 127.991 L183.63 126.325 L188.306 126.325 L188.306 156.949 L195.945 156.949 L195.945 160.885 L176.038 160.885 L176.038 156.949 Z\" fill=\"#000000\" fill-rule=\"evenodd\" fill-opacity=\"1\" /><path clip-path=\"url(#clip120)\" d=\"M 0 0 M211.014 129.403 Q207.403 129.403 205.575 132.968 Q203.769 136.51 203.769 143.639 Q203.769 150.746 205.575 154.311 Q207.403 157.852 211.014 157.852 Q214.649 157.852 216.454 154.311 Q218.283 150.746 218.283 143.639 Q218.283 136.51 216.454 132.968 Q214.649 129.403 211.014 129.403 M211.014 125.7 Q216.825 125.7 219.88 130.306 Q222.959 134.889 222.959 143.639 Q222.959 152.366 219.88 156.973 Q216.825 161.556 211.014 161.556 Q205.204 161.556 202.126 156.973 Q199.07 152.366 199.07 143.639 Q199.07 134.889 202.126 130.306 Q205.204 125.7 211.014 125.7 Z\" fill=\"#000000\" fill-rule=\"evenodd\" fill-opacity=\"1\" /><path clip-path=\"url(#clip120)\" d=\"M 0 0 M235.635 108.704 L226.043 123.694 L235.635 123.694 L235.635 108.704 M234.638 105.394 L239.416 105.394 L239.416 123.694 L243.422 123.694 L243.422 126.854 L239.416 126.854 L239.416 133.474 L235.635 133.474 L235.635 126.854 L222.959 126.854 L222.959 123.186 L234.638 105.394 Z\" fill=\"#000000\" fill-rule=\"evenodd\" fill-opacity=\"1\" /><polyline clip-path=\"url(#clip122)\" style=\"stroke:#009af9; stroke-width:4; stroke-opacity:1; fill:none\" points=\"\n",
       "  338.101,1445.72 340.059,1445.72 342.017,1445.71 343.975,1445.71 345.933,1445.71 347.891,1445.71 349.849,1445.71 351.806,1445.71 353.764,1445.71 355.722,1445.71 \n",
       "  357.68,1445.71 359.638,1445.71 361.596,1445.71 363.554,1445.71 365.512,1445.71 367.47,1445.71 369.428,1445.7 371.386,1445.7 373.344,1445.7 375.302,1445.7 \n",
       "  377.26,1445.7 379.218,1445.7 381.175,1445.7 383.133,1445.7 385.091,1445.7 387.049,1445.7 389.007,1445.7 390.965,1445.7 392.923,1445.69 394.881,1445.69 \n",
       "  396.839,1445.69 398.797,1445.69 400.755,1445.69 402.713,1445.69 404.671,1445.69 406.629,1445.69 408.587,1445.69 410.544,1445.69 412.502,1445.69 414.46,1445.68 \n",
       "  416.418,1445.68 418.376,1445.68 420.334,1445.68 422.292,1445.68 424.25,1445.68 426.208,1445.68 428.166,1445.68 430.124,1445.68 432.082,1445.68 434.04,1445.67 \n",
       "  435.998,1445.67 437.956,1445.67 439.913,1445.67 441.871,1445.67 443.829,1445.67 445.787,1445.67 447.745,1445.67 449.703,1445.67 451.661,1445.66 453.619,1445.66 \n",
       "  455.577,1445.66 457.535,1445.66 459.493,1445.66 461.451,1445.66 463.409,1445.66 465.367,1445.66 467.325,1445.65 469.282,1445.65 471.24,1445.65 473.198,1445.65 \n",
       "  475.156,1445.65 477.114,1445.65 479.072,1445.65 481.03,1445.65 482.988,1445.64 484.946,1445.64 486.904,1445.64 488.862,1445.64 490.82,1445.64 492.778,1445.64 \n",
       "  494.736,1445.64 496.694,1445.63 498.651,1445.63 500.609,1445.63 502.567,1445.63 504.525,1445.63 506.483,1445.63 508.441,1445.63 510.399,1445.62 512.357,1445.62 \n",
       "  514.315,1445.62 516.273,1445.62 518.231,1445.62 520.189,1445.62 522.147,1445.61 524.105,1445.61 526.063,1445.61 528.02,1445.61 529.978,1445.61 531.936,1445.61 \n",
       "  533.894,1445.6 535.852,1445.6 537.81,1445.6 539.768,1445.6 541.726,1445.6 543.684,1445.6 545.642,1445.59 547.6,1445.59 549.558,1445.59 551.516,1445.59 \n",
       "  553.474,1445.59 555.432,1445.58 557.389,1445.58 559.347,1445.58 561.305,1445.58 563.263,1445.58 565.221,1445.57 567.179,1445.57 569.137,1445.57 571.095,1445.57 \n",
       "  573.053,1445.57 575.011,1445.56 576.969,1445.56 578.927,1445.56 580.885,1445.56 582.843,1445.55 584.801,1445.55 586.758,1445.55 588.716,1445.55 590.674,1445.54 \n",
       "  592.632,1445.54 594.59,1445.54 596.548,1445.54 598.506,1445.54 600.464,1445.53 602.422,1445.53 604.38,1445.53 606.338,1445.53 608.296,1445.52 610.254,1445.52 \n",
       "  612.212,1445.52 614.17,1445.51 616.127,1445.51 618.085,1445.51 620.043,1445.51 622.001,1445.5 623.959,1445.5 625.917,1445.5 627.875,1445.5 629.833,1445.49 \n",
       "  631.791,1445.49 633.749,1445.49 635.707,1445.48 637.665,1445.48 639.623,1445.48 641.581,1445.48 643.539,1445.47 645.497,1445.47 647.454,1445.47 649.412,1445.46 \n",
       "  651.37,1445.46 653.328,1445.46 655.286,1445.45 657.244,1445.45 659.202,1445.45 661.16,1445.44 663.118,1445.44 665.076,1445.44 667.034,1445.43 668.992,1445.43 \n",
       "  670.95,1445.43 672.908,1445.42 674.866,1445.42 676.823,1445.42 678.781,1445.41 680.739,1445.41 682.697,1445.4 684.655,1445.4 686.613,1445.4 688.571,1445.39 \n",
       "  690.529,1445.39 692.487,1445.38 694.445,1445.38 696.403,1445.38 698.361,1445.37 700.319,1445.37 702.277,1445.36 704.235,1445.36 706.192,1445.36 708.15,1445.35 \n",
       "  710.108,1445.35 712.066,1445.34 714.024,1445.34 715.982,1445.33 717.94,1445.33 719.898,1445.33 721.856,1445.32 723.814,1445.32 725.772,1445.31 727.73,1445.31 \n",
       "  729.688,1445.3 731.646,1445.3 733.604,1445.29 735.561,1445.29 737.519,1445.28 739.477,1445.28 741.435,1445.27 743.393,1445.27 745.351,1445.26 747.309,1445.26 \n",
       "  749.267,1445.25 751.225,1445.25 753.183,1445.24 755.141,1445.24 757.099,1445.23 759.057,1445.23 761.015,1445.22 762.973,1445.21 764.93,1445.21 766.888,1445.2 \n",
       "  768.846,1445.2 770.804,1445.19 772.762,1445.19 774.72,1445.18 776.678,1445.17 778.636,1445.17 780.594,1445.16 782.552,1445.15 784.51,1445.15 786.468,1445.14 \n",
       "  788.426,1445.14 790.384,1445.13 792.342,1445.12 794.299,1445.12 796.257,1445.11 798.215,1445.1 800.173,1445.1 802.131,1445.09 804.089,1445.08 806.047,1445.08 \n",
       "  808.005,1445.07 809.963,1445.06 811.921,1445.05 813.879,1445.05 815.837,1445.04 817.795,1445.03 819.753,1445.02 821.711,1445.02 823.668,1445.01 825.626,1445 \n",
       "  827.584,1444.99 829.542,1444.99 831.5,1444.98 833.458,1444.97 835.416,1444.96 837.374,1444.95 839.332,1444.95 841.29,1444.94 843.248,1444.93 845.206,1444.92 \n",
       "  847.164,1444.91 849.122,1444.9 851.08,1444.89 853.037,1444.89 854.995,1444.88 856.953,1444.87 858.911,1444.86 860.869,1444.85 862.827,1444.84 864.785,1444.83 \n",
       "  866.743,1444.82 868.701,1444.81 870.659,1444.8 872.617,1444.79 874.575,1444.78 876.533,1444.77 878.491,1444.76 880.449,1444.75 882.406,1444.74 884.364,1444.73 \n",
       "  886.322,1444.72 888.28,1444.71 890.238,1444.7 892.196,1444.69 894.154,1444.68 896.112,1444.67 898.07,1444.65 900.028,1444.64 901.986,1444.63 903.944,1444.62 \n",
       "  905.902,1444.61 907.86,1444.6 909.818,1444.59 911.775,1444.57 913.733,1444.56 915.691,1444.55 917.649,1444.54 919.607,1444.52 921.565,1444.51 923.523,1444.5 \n",
       "  925.481,1444.49 927.439,1444.47 929.397,1444.46 931.355,1444.45 933.313,1444.43 935.271,1444.42 937.229,1444.41 939.187,1444.39 941.144,1444.38 943.102,1444.37 \n",
       "  945.06,1444.35 947.018,1444.34 948.976,1444.32 950.934,1444.31 952.892,1444.29 954.85,1444.28 956.808,1444.26 958.766,1444.25 960.724,1444.23 962.682,1444.22 \n",
       "  964.64,1444.2 966.598,1444.19 968.556,1444.17 970.513,1444.15 972.471,1444.14 974.429,1444.12 976.387,1444.1 978.345,1444.09 980.303,1444.07 982.261,1444.05 \n",
       "  984.219,1444.04 986.177,1444.02 988.135,1444 990.093,1443.98 992.051,1443.97 994.009,1443.95 995.967,1443.93 997.925,1443.91 999.882,1443.89 1001.84,1443.87 \n",
       "  1003.8,1443.85 1005.76,1443.83 1007.71,1443.81 1009.67,1443.79 1011.63,1443.78 1013.59,1443.76 1015.55,1443.73 1017.5,1443.71 1019.46,1443.69 1021.42,1443.67 \n",
       "  1023.38,1443.65 1025.34,1443.63 1027.29,1443.61 1029.25,1443.59 1031.21,1443.57 1033.17,1443.54 1035.13,1443.52 1037.08,1443.5 1039.04,1443.48 1041,1443.45 \n",
       "  1042.96,1443.43 1044.91,1443.41 1046.87,1443.38 1048.83,1443.36 1050.79,1443.33 1052.75,1443.31 1054.7,1443.28 1056.66,1443.26 1058.62,1443.23 1060.58,1443.21 \n",
       "  1062.54,1443.18 1064.49,1443.16 1066.45,1443.13 1068.41,1443.1 1070.37,1443.08 1072.33,1443.05 1074.28,1443.02 1076.24,1443 1078.2,1442.97 1080.16,1442.94 \n",
       "  1082.12,1442.91 1084.07,1442.88 1086.03,1442.85 1087.99,1442.82 1089.95,1442.79 1091.91,1442.76 1093.86,1442.73 1095.82,1442.7 1097.78,1442.67 1099.74,1442.64 \n",
       "  1101.7,1442.61 1103.65,1442.58 1105.61,1442.55 1107.57,1442.51 1109.53,1442.48 1111.48,1442.45 1113.44,1442.42 1115.4,1442.38 1117.36,1442.35 1119.32,1442.31 \n",
       "  1121.27,1442.28 1123.23,1442.24 1125.19,1442.21 1127.15,1442.17 1129.11,1442.14 1131.06,1442.1 1133.02,1442.06 1134.98,1442.03 1136.94,1441.99 1138.9,1441.95 \n",
       "  1140.85,1441.91 1142.81,1441.87 1144.77,1441.83 1146.73,1441.8 1148.69,1441.76 1150.64,1441.72 1152.6,1441.67 1154.56,1441.63 1156.52,1441.59 1158.48,1441.55 \n",
       "  1160.43,1441.51 1162.39,1441.47 1164.35,1441.42 1166.31,1441.38 1168.26,1441.33 1170.22,1441.29 1172.18,1441.24 1174.14,1441.2 1176.1,1441.15 1178.05,1441.11 \n",
       "  1180.01,1441.06 1181.97,1441.01 1183.93,1440.97 1185.89,1440.92 1187.84,1440.87 1189.8,1440.82 1191.76,1440.77 1193.72,1440.72 1195.68,1440.67 1197.63,1440.62 \n",
       "  1199.59,1440.57 1201.55,1440.51 1203.51,1440.46 1205.47,1440.41 1207.42,1440.36 1209.38,1440.3 1211.34,1440.25 1213.3,1440.19 1215.26,1440.13 1217.21,1440.08 \n",
       "  1219.17,1440.02 1221.13,1439.96 1223.09,1439.91 1225.04,1439.85 1227,1439.79 1228.96,1439.73 1230.92,1439.67 1232.88,1439.61 1234.83,1439.54 1236.79,1439.48 \n",
       "  1238.75,1439.42 1240.71,1439.36 1242.67,1439.29 1244.62,1439.23 1246.58,1439.16 1248.54,1439.09 1250.5,1439.03 1252.46,1438.96 1254.41,1438.89 1256.37,1438.82 \n",
       "  1258.33,1438.75 1260.29,1438.68 1262.25,1438.61 1264.2,1438.54 1266.16,1438.47 1268.12,1438.39 1270.08,1438.32 1272.04,1438.25 1273.99,1438.17 1275.95,1438.09 \n",
       "  1277.91,1438.02 1279.87,1437.94 1281.82,1437.86 1283.78,1437.78 1285.74,1437.7 1287.7,1437.62 1289.66,1437.54 1291.61,1437.46 1293.57,1437.37 1295.53,1437.29 \n",
       "  1297.49,1437.21 1299.45,1437.12 1301.4,1437.03 1303.36,1436.95 1305.32,1436.86 1307.28,1436.77 1309.24,1436.68 1311.19,1436.59 1313.15,1436.5 1315.11,1436.4 \n",
       "  1317.07,1436.31 1319.03,1436.21 1320.98,1436.12 1322.94,1436.02 1324.9,1435.92 1326.86,1435.83 1328.82,1435.73 1330.77,1435.63 1332.73,1435.52 1334.69,1435.42 \n",
       "  1336.65,1435.32 1338.61,1435.21 1340.56,1435.11 1342.52,1435 1344.48,1434.89 1346.44,1434.78 1348.39,1434.67 1350.35,1434.56 1352.31,1434.45 1354.27,1434.34 \n",
       "  1356.23,1434.22 1358.18,1434.11 1360.14,1433.99 1362.1,1433.87 1364.06,1433.75 1366.02,1433.63 1367.97,1433.51 1369.93,1433.39 1371.89,1433.26 1373.85,1433.14 \n",
       "  1375.81,1433.01 1377.76,1432.89 1379.72,1432.76 1381.68,1432.63 1383.64,1432.49 1385.6,1432.36 1387.55,1432.23 1389.51,1432.09 1391.47,1431.96 1393.43,1431.82 \n",
       "  1395.39,1431.68 1397.34,1431.54 1399.3,1431.39 1401.26,1431.25 1403.22,1431.1 1405.17,1430.96 1407.13,1430.81 1409.09,1430.66 1411.05,1430.51 1413.01,1430.36 \n",
       "  1414.96,1430.2 1416.92,1430.05 1418.88,1429.89 1420.84,1429.73 1422.8,1429.57 1424.75,1429.41 1426.71,1429.24 1428.67,1429.08 1430.63,1428.91 1432.59,1428.74 \n",
       "  1434.54,1428.57 1436.5,1428.4 1438.46,1428.23 1440.42,1428.05 1442.38,1427.87 1444.33,1427.69 1446.29,1427.51 1448.25,1427.33 1450.21,1427.15 1452.17,1426.96 \n",
       "  1454.12,1426.77 1456.08,1426.58 1458.04,1426.39 1460,1426.2 1461.95,1426 1463.91,1425.8 1465.87,1425.6 1467.83,1425.4 1469.79,1425.2 1471.74,1424.99 \n",
       "  1473.7,1424.78 1475.66,1424.57 1477.62,1424.36 1479.58,1424.15 1481.53,1423.93 1483.49,1423.71 1485.45,1423.49 1487.41,1423.27 1489.37,1423.04 1491.32,1422.82 \n",
       "  1493.28,1422.59 1495.24,1422.35 1497.2,1422.12 1499.16,1421.88 1501.11,1421.64 1503.07,1421.4 1505.03,1421.16 1506.99,1420.91 1508.95,1420.66 1510.9,1420.41 \n",
       "  1512.86,1420.16 1514.82,1419.9 1516.78,1419.64 1518.73,1419.38 1520.69,1419.12 1522.65,1418.85 1524.61,1418.58 1526.57,1418.31 1528.52,1418.04 1530.48,1417.76 \n",
       "  1532.44,1417.48 1534.4,1417.2 1536.36,1416.91 1538.31,1416.62 1540.27,1416.33 1542.23,1416.04 1544.19,1415.74 1546.15,1415.44 1548.1,1415.13 1550.06,1414.83 \n",
       "  1552.02,1414.52 1553.98,1414.21 1555.94,1413.89 1557.89,1413.57 1559.85,1413.25 1561.81,1412.92 1563.77,1412.59 1565.73,1412.26 1567.68,1411.93 1569.64,1411.59 \n",
       "  1571.6,1411.25 1573.56,1410.9 1575.51,1410.55 1577.47,1410.2 1579.43,1409.84 1581.39,1409.49 1583.35,1409.12 1585.3,1408.76 1587.26,1408.39 1589.22,1408.01 \n",
       "  1591.18,1407.63 1593.14,1407.25 1595.09,1406.87 1597.05,1406.48 1599.01,1406.08 1600.97,1405.69 1602.93,1405.29 1604.88,1404.88 1606.84,1404.47 1608.8,1404.06 \n",
       "  1610.76,1403.64 1612.72,1403.22 1614.67,1402.8 1616.63,1402.37 1618.59,1401.93 1620.55,1401.49 1622.51,1401.05 1624.46,1400.6 1626.42,1400.15 1628.38,1399.69 \n",
       "  1630.34,1399.23 1632.3,1398.77 1634.25,1398.3 1636.21,1397.82 1638.17,1397.34 1640.13,1396.86 1642.08,1396.37 1644.04,1395.88 1646,1395.38 1647.96,1394.87 \n",
       "  1649.92,1394.36 1651.87,1393.85 1653.83,1393.33 1655.79,1392.81 1657.75,1392.28 1659.71,1391.74 1661.66,1391.2 1663.62,1390.66 1665.58,1390.1 1667.54,1389.55 \n",
       "  1669.5,1388.98 1671.45,1388.42 1673.41,1387.84 1675.37,1387.26 1677.33,1386.68 1679.29,1386.09 1681.24,1385.49 1683.2,1384.89 1685.16,1384.28 1687.12,1383.66 \n",
       "  1689.08,1383.04 1691.03,1382.42 1692.99,1381.78 1694.95,1381.14 1696.91,1380.5 1698.86,1379.84 1700.82,1379.18 1702.78,1378.52 1704.74,1377.84 1706.7,1377.17 \n",
       "  1708.65,1376.48 1710.61,1375.79 1712.57,1375.09 1714.53,1374.38 1716.49,1373.67 1718.44,1372.94 1720.4,1372.22 1722.36,1371.48 1724.32,1370.74 1726.28,1369.99 \n",
       "  1728.23,1369.23 1730.19,1368.46 1732.15,1367.69 1734.11,1366.91 1736.07,1366.12 1738.02,1365.32 1739.98,1364.52 1741.94,1363.71 1743.9,1362.89 1745.86,1362.06 \n",
       "  1747.81,1361.22 1749.77,1360.37 1751.73,1359.52 1753.69,1358.66 1755.64,1357.79 1757.6,1356.91 1759.56,1356.02 1761.52,1355.12 1763.48,1354.21 1765.43,1353.3 \n",
       "  1767.39,1352.37 1769.35,1351.44 1771.31,1350.49 1773.27,1349.54 1775.22,1348.58 1777.18,1347.61 1779.14,1346.63 1781.1,1345.63 1783.06,1344.63 1785.01,1343.62 \n",
       "  1786.97,1342.6 1788.93,1341.57 1790.89,1340.53 1792.85,1339.47 1794.8,1338.41 1796.76,1337.34 1798.72,1336.25 1800.68,1335.16 1802.64,1334.05 1804.59,1332.93 \n",
       "  1806.55,1331.8 1808.51,1330.66 1810.47,1329.51 1812.42,1328.35 1814.38,1327.18 1816.34,1325.99 1818.3,1324.79 1820.26,1323.58 1822.21,1322.36 1824.17,1321.13 \n",
       "  1826.13,1319.88 1828.09,1318.62 1830.05,1317.35 1832,1316.07 1833.96,1314.77 1835.92,1313.46 1837.88,1312.13 1839.84,1310.8 1841.79,1309.45 1843.75,1308.09 \n",
       "  1845.71,1306.71 1847.67,1305.32 1849.63,1303.91 1851.58,1302.49 1853.54,1301.06 1855.5,1299.61 1857.46,1298.15 1859.42,1296.68 1861.37,1295.19 1863.33,1293.68 \n",
       "  1865.29,1292.16 1867.25,1290.62 1869.21,1289.07 1871.16,1287.5 1873.12,1285.92 1875.08,1284.32 1877.04,1282.71 1878.99,1281.08 1880.95,1279.43 1882.91,1277.77 \n",
       "  1884.87,1276.09 1886.83,1274.39 1888.78,1272.67 1890.74,1270.94 1892.7,1269.2 1894.66,1267.43 1896.62,1265.65 1898.57,1263.84 1900.53,1262.03 1902.49,1260.19 \n",
       "  1904.45,1258.33 1906.41,1256.46 1908.36,1254.56 1910.32,1252.65 1912.28,1250.72 1914.24,1248.77 1916.2,1246.8 1918.15,1244.81 1920.11,1242.8 1922.07,1240.77 \n",
       "  1924.03,1238.72 1925.99,1236.65 1927.94,1234.56 1929.9,1232.45 1931.86,1230.31 1933.82,1228.16 1935.77,1225.98 1937.73,1223.78 1939.69,1221.56 1941.65,1219.32 \n",
       "  1943.61,1217.06 1945.56,1214.77 1947.52,1212.46 1949.48,1210.13 1951.44,1207.77 1953.4,1205.39 1955.35,1202.99 1957.31,1200.56 1959.27,1198.11 1961.23,1195.63 \n",
       "  1963.19,1193.13 1965.14,1190.6 1967.1,1188.05 1969.06,1185.47 1971.02,1182.87 1972.98,1180.24 1974.93,1177.58 1976.89,1174.9 1978.85,1172.19 1980.81,1169.46 \n",
       "  1982.77,1166.69 1984.72,1163.9 1986.68,1161.08 1988.64,1158.24 1990.6,1155.36 1992.55,1152.46 1994.51,1149.53 1996.47,1146.56 1998.43,1143.57 2000.39,1140.55 \n",
       "  2002.34,1137.5 2004.3,1134.41 2006.26,1131.3 2008.22,1128.15 2010.18,1124.98 2012.13,1121.77 2014.09,1118.53 2016.05,1115.26 2018.01,1111.95 2019.97,1108.61 \n",
       "  2021.92,1105.24 2023.88,1101.84 2025.84,1098.4 2027.8,1094.92 2029.76,1091.42 2031.71,1087.87 2033.67,1084.29 2035.63,1080.68 2037.59,1077.03 2039.55,1073.34 \n",
       "  2041.5,1069.61 2043.46,1065.85 2045.42,1062.05 2047.38,1058.22 2049.33,1054.34 2051.29,1050.43 2053.25,1046.47 2055.21,1042.48 2057.17,1038.45 2059.12,1034.37 \n",
       "  2061.08,1030.26 2063.04,1026.1 2065,1021.91 2066.96,1017.67 2068.91,1013.39 2070.87,1009.06 2072.83,1004.7 2074.79,1000.29 2076.75,995.83 2078.7,991.331 \n",
       "  2080.66,986.786 2082.62,982.197 2084.58,977.561 2086.54,972.878 2088.49,968.149 2090.45,963.373 2092.41,958.549 2094.37,953.677 2096.33,948.756 2098.28,943.785 \n",
       "  2100.24,938.765 2102.2,933.695 2104.16,928.574 2106.12,923.402 2108.07,918.179 2110.03,912.903 2111.99,907.574 2113.95,902.192 2115.9,896.756 2117.86,891.266 \n",
       "  2119.82,885.72 2121.78,880.12 2123.74,874.463 2125.69,868.75 2127.65,862.98 2129.61,857.152 2131.57,851.265 2133.53,845.32 2135.48,839.316 2137.44,833.251 \n",
       "  2139.4,827.126 2141.36,820.939 2143.32,814.691 2145.27,808.38 2147.23,802.006 2149.19,795.568 2151.15,789.066 2153.11,782.499 2155.06,775.866 2157.02,769.167 \n",
       "  2158.98,762.401 2160.94,755.567 2162.9,748.665 2164.85,741.694 2166.81,734.653 2168.77,727.541 2170.73,720.359 2172.68,713.105 2174.64,705.778 2176.6,698.378 \n",
       "  2178.56,690.904 2180.52,683.355 2182.47,675.731 2184.43,668.03 2186.39,660.253 2188.35,652.398 2190.31,644.464 2192.26,636.451 2194.22,628.357 2196.18,620.183 \n",
       "  2198.14,611.927 2200.1,603.589 2202.05,595.167 2204.01,586.66 2205.97,578.069 2207.93,569.392 2209.89,560.628 2211.84,551.777 2213.8,542.837 2215.76,533.807 \n",
       "  2217.72,524.687 2219.68,515.477 2221.63,506.174 2223.59,496.777 2225.55,487.287 2227.51,477.702 2229.46,468.022 2231.42,458.244 2233.38,448.369 2235.34,438.395 \n",
       "  2237.3,428.321 2239.25,418.146 2241.21,407.87 2243.17,397.491 2245.13,387.008 2247.09,376.42 2249.04,365.726 2251,354.926 2252.96,344.017 2254.92,333 \n",
       "  2256.88,321.872 2258.83,310.633 2260.79,299.281 2262.75,287.816 2264.71,276.237 2266.67,264.541 2268.62,252.729 2270.58,240.798 2272.54,228.748 2274.5,216.578 \n",
       "  2276.46,204.286 2278.41,191.871 2280.37,179.332 2282.33,166.668 2284.29,153.876 2286.24,140.957 2288.2,127.909 2290.16,114.73 2292.12,101.42 2294.08,87.9763 \n",
       "  \n",
       "  \"/>\n",
       "<path clip-path=\"url(#clip120)\" d=\"\n",
       "M2002.26 216.178 L2283.64 216.178 L2283.64 95.2176 L2002.26 95.2176  Z\n",
       "  \" fill=\"#ffffff\" fill-rule=\"evenodd\" fill-opacity=\"1\"/>\n",
       "<polyline clip-path=\"url(#clip120)\" style=\"stroke:#000000; stroke-width:4; stroke-opacity:1; fill:none\" points=\"\n",
       "  2002.26,216.178 2283.64,216.178 2283.64,95.2176 2002.26,95.2176 2002.26,216.178 \n",
       "  \"/>\n",
       "<polyline clip-path=\"url(#clip120)\" style=\"stroke:#009af9; stroke-width:4; stroke-opacity:1; fill:none\" points=\"\n",
       "  2025.29,155.698 2163.52,155.698 \n",
       "  \"/>\n",
       "<path clip-path=\"url(#clip120)\" d=\"M 0 0 M2200.39 175.385 Q2198.59 180.015 2196.88 181.427 Q2195.16 182.839 2192.29 182.839 L2188.89 182.839 L2188.89 179.274 L2191.39 179.274 Q2193.15 179.274 2194.12 178.44 Q2195.09 177.607 2196.27 174.505 L2197.04 172.561 L2186.55 147.052 L2191.07 147.052 L2199.17 167.329 L2207.27 147.052 L2211.78 147.052 L2200.39 175.385 Z\" fill=\"#000000\" fill-rule=\"evenodd\" fill-opacity=\"1\" /><path clip-path=\"url(#clip120)\" d=\"M 0 0 M2217.66 169.042 L2225.3 169.042 L2225.3 142.677 L2216.99 144.343 L2216.99 140.084 L2225.26 138.418 L2229.93 138.418 L2229.93 169.042 L2237.57 169.042 L2237.57 172.978 L2217.66 172.978 L2217.66 169.042 Z\" fill=\"#000000\" fill-rule=\"evenodd\" fill-opacity=\"1\" /></svg>\n"
      ]
     },
     "execution_count": 46,
     "metadata": {},
     "output_type": "execute_result"
    }
   ],
   "source": [
    "plot(run_infection(1000))"
   ]
  },
  {
   "cell_type": "code",
   "execution_count": 47,
   "metadata": {},
   "outputs": [
    {
     "data": {
      "image/svg+xml": [
       "<?xml version=\"1.0\" encoding=\"utf-8\"?>\n",
       "<svg xmlns=\"http://www.w3.org/2000/svg\" xmlns:xlink=\"http://www.w3.org/1999/xlink\" width=\"600\" height=\"400\" viewBox=\"0 0 2400 1600\">\n",
       "<defs>\n",
       "  <clipPath id=\"clip160\">\n",
       "    <rect x=\"0\" y=\"0\" width=\"2400\" height=\"1600\"/>\n",
       "  </clipPath>\n",
       "</defs>\n",
       "<path clip-path=\"url(#clip160)\" d=\"\n",
       "M0 1600 L2400 1600 L2400 0 L0 0  Z\n",
       "  \" fill=\"#ffffff\" fill-rule=\"evenodd\" fill-opacity=\"1\"/>\n",
       "<defs>\n",
       "  <clipPath id=\"clip161\">\n",
       "    <rect x=\"480\" y=\"0\" width=\"1681\" height=\"1600\"/>\n",
       "  </clipPath>\n",
       "</defs>\n",
       "<path clip-path=\"url(#clip160)\" d=\"\n",
       "M155.047 1486.45 L2352.76 1486.45 L2352.76 47.2441 L155.047 47.2441  Z\n",
       "  \" fill=\"#ffffff\" fill-rule=\"evenodd\" fill-opacity=\"1\"/>\n",
       "<defs>\n",
       "  <clipPath id=\"clip162\">\n",
       "    <rect x=\"155\" y=\"47\" width=\"2199\" height=\"1440\"/>\n",
       "  </clipPath>\n",
       "</defs>\n",
       "<polyline clip-path=\"url(#clip162)\" style=\"stroke:#000000; stroke-width:2; stroke-opacity:0.1; fill:none\" points=\"\n",
       "  215.171,1486.45 215.171,47.2441 \n",
       "  \"/>\n",
       "<polyline clip-path=\"url(#clip162)\" style=\"stroke:#000000; stroke-width:2; stroke-opacity:0.1; fill:none\" points=\"\n",
       "  734.018,1486.45 734.018,47.2441 \n",
       "  \"/>\n",
       "<polyline clip-path=\"url(#clip162)\" style=\"stroke:#000000; stroke-width:2; stroke-opacity:0.1; fill:none\" points=\"\n",
       "  1252.86,1486.45 1252.86,47.2441 \n",
       "  \"/>\n",
       "<polyline clip-path=\"url(#clip162)\" style=\"stroke:#000000; stroke-width:2; stroke-opacity:0.1; fill:none\" points=\"\n",
       "  1771.71,1486.45 1771.71,47.2441 \n",
       "  \"/>\n",
       "<polyline clip-path=\"url(#clip162)\" style=\"stroke:#000000; stroke-width:2; stroke-opacity:0.1; fill:none\" points=\"\n",
       "  2290.56,1486.45 2290.56,47.2441 \n",
       "  \"/>\n",
       "<polyline clip-path=\"url(#clip160)\" style=\"stroke:#000000; stroke-width:4; stroke-opacity:1; fill:none\" points=\"\n",
       "  155.047,1486.45 2352.76,1486.45 \n",
       "  \"/>\n",
       "<polyline clip-path=\"url(#clip160)\" style=\"stroke:#000000; stroke-width:4; stroke-opacity:1; fill:none\" points=\"\n",
       "  215.171,1486.45 215.171,1469.18 \n",
       "  \"/>\n",
       "<polyline clip-path=\"url(#clip160)\" style=\"stroke:#000000; stroke-width:4; stroke-opacity:1; fill:none\" points=\"\n",
       "  734.018,1486.45 734.018,1469.18 \n",
       "  \"/>\n",
       "<polyline clip-path=\"url(#clip160)\" style=\"stroke:#000000; stroke-width:4; stroke-opacity:1; fill:none\" points=\"\n",
       "  1252.86,1486.45 1252.86,1469.18 \n",
       "  \"/>\n",
       "<polyline clip-path=\"url(#clip160)\" style=\"stroke:#000000; stroke-width:4; stroke-opacity:1; fill:none\" points=\"\n",
       "  1771.71,1486.45 1771.71,1469.18 \n",
       "  \"/>\n",
       "<polyline clip-path=\"url(#clip160)\" style=\"stroke:#000000; stroke-width:4; stroke-opacity:1; fill:none\" points=\"\n",
       "  2290.56,1486.45 2290.56,1469.18 \n",
       "  \"/>\n",
       "<path clip-path=\"url(#clip160)\" d=\"M 0 0 M215.171 1515.64 Q211.56 1515.64 209.731 1519.2 Q207.926 1522.75 207.926 1529.87 Q207.926 1536.98 209.731 1540.55 Q211.56 1544.09 215.171 1544.09 Q218.805 1544.09 220.611 1540.55 Q222.44 1536.98 222.44 1529.87 Q222.44 1522.75 220.611 1519.2 Q218.805 1515.64 215.171 1515.64 M215.171 1511.93 Q220.981 1511.93 224.037 1516.54 Q227.116 1521.12 227.116 1529.87 Q227.116 1538.6 224.037 1543.21 Q220.981 1547.79 215.171 1547.79 Q209.361 1547.79 206.282 1543.21 Q203.227 1538.6 203.227 1529.87 Q203.227 1521.12 206.282 1516.54 Q209.361 1511.93 215.171 1511.93 Z\" fill=\"#000000\" fill-rule=\"evenodd\" fill-opacity=\"1\" /><path clip-path=\"url(#clip160)\" d=\"M 0 0 M702.154 1543.18 L718.474 1543.18 L718.474 1547.12 L696.529 1547.12 L696.529 1543.18 Q699.191 1540.43 703.775 1535.8 Q708.381 1531.15 709.562 1529.81 Q711.807 1527.28 712.687 1525.55 Q713.589 1523.79 713.589 1522.1 Q713.589 1519.34 711.645 1517.61 Q709.724 1515.87 706.622 1515.87 Q704.423 1515.87 701.969 1516.63 Q699.539 1517.4 696.761 1518.95 L696.761 1514.23 Q699.585 1513.09 702.039 1512.51 Q704.492 1511.93 706.529 1511.93 Q711.9 1511.93 715.094 1514.62 Q718.288 1517.31 718.288 1521.8 Q718.288 1523.93 717.478 1525.85 Q716.691 1527.74 714.585 1530.34 Q714.006 1531.01 710.904 1534.23 Q707.802 1537.42 702.154 1543.18 Z\" fill=\"#000000\" fill-rule=\"evenodd\" fill-opacity=\"1\" /><path clip-path=\"url(#clip160)\" d=\"M 0 0 M723.589 1512.56 L741.946 1512.56 L741.946 1516.5 L727.872 1516.5 L727.872 1524.97 Q728.89 1524.62 729.909 1524.46 Q730.927 1524.27 731.946 1524.27 Q737.733 1524.27 741.112 1527.44 Q744.492 1530.62 744.492 1536.03 Q744.492 1541.61 741.02 1544.71 Q737.548 1547.79 731.228 1547.79 Q729.052 1547.79 726.784 1547.42 Q724.538 1547.05 722.131 1546.31 L722.131 1541.61 Q724.214 1542.74 726.437 1543.3 Q728.659 1543.86 731.136 1543.86 Q735.14 1543.86 737.478 1541.75 Q739.816 1539.64 739.816 1536.03 Q739.816 1532.42 737.478 1530.31 Q735.14 1528.21 731.136 1528.21 Q729.261 1528.21 727.386 1528.62 Q725.534 1529.04 723.589 1529.92 L723.589 1512.56 Z\" fill=\"#000000\" fill-rule=\"evenodd\" fill-opacity=\"1\" /><path clip-path=\"url(#clip160)\" d=\"M 0 0 M759.561 1515.64 Q755.95 1515.64 754.122 1519.2 Q752.316 1522.75 752.316 1529.87 Q752.316 1536.98 754.122 1540.55 Q755.95 1544.09 759.561 1544.09 Q763.196 1544.09 765.001 1540.55 Q766.83 1536.98 766.83 1529.87 Q766.83 1522.75 765.001 1519.2 Q763.196 1515.64 759.561 1515.64 M759.561 1511.93 Q765.372 1511.93 768.427 1516.54 Q771.506 1521.12 771.506 1529.87 Q771.506 1538.6 768.427 1543.21 Q765.372 1547.79 759.561 1547.79 Q753.751 1547.79 750.673 1543.21 Q747.617 1538.6 747.617 1529.87 Q747.617 1521.12 750.673 1516.54 Q753.751 1511.93 759.561 1511.93 Z\" fill=\"#000000\" fill-rule=\"evenodd\" fill-opacity=\"1\" /><path clip-path=\"url(#clip160)\" d=\"M 0 0 M1216.13 1512.56 L1234.48 1512.56 L1234.48 1516.5 L1220.41 1516.5 L1220.41 1524.97 Q1221.43 1524.62 1222.45 1524.46 Q1223.47 1524.27 1224.48 1524.27 Q1230.27 1524.27 1233.65 1527.44 Q1237.03 1530.62 1237.03 1536.03 Q1237.03 1541.61 1233.56 1544.71 Q1230.09 1547.79 1223.77 1547.79 Q1221.59 1547.79 1219.32 1547.42 Q1217.08 1547.05 1214.67 1546.31 L1214.67 1541.61 Q1216.75 1542.74 1218.98 1543.3 Q1221.2 1543.86 1223.67 1543.86 Q1227.68 1543.86 1230.02 1541.75 Q1232.35 1539.64 1232.35 1536.03 Q1232.35 1532.42 1230.02 1530.31 Q1227.68 1528.21 1223.67 1528.21 Q1221.8 1528.21 1219.92 1528.62 Q1218.07 1529.04 1216.13 1529.92 L1216.13 1512.56 Z\" fill=\"#000000\" fill-rule=\"evenodd\" fill-opacity=\"1\" /><path clip-path=\"url(#clip160)\" d=\"M 0 0 M1252.1 1515.64 Q1248.49 1515.64 1246.66 1519.2 Q1244.85 1522.75 1244.85 1529.87 Q1244.85 1536.98 1246.66 1540.55 Q1248.49 1544.09 1252.1 1544.09 Q1255.73 1544.09 1257.54 1540.55 Q1259.37 1536.98 1259.37 1529.87 Q1259.37 1522.75 1257.54 1519.2 Q1255.73 1515.64 1252.1 1515.64 M1252.1 1511.93 Q1257.91 1511.93 1260.97 1516.54 Q1264.04 1521.12 1264.04 1529.87 Q1264.04 1538.6 1260.97 1543.21 Q1257.91 1547.79 1252.1 1547.79 Q1246.29 1547.79 1243.21 1543.21 Q1240.16 1538.6 1240.16 1529.87 Q1240.16 1521.12 1243.21 1516.54 Q1246.29 1511.93 1252.1 1511.93 Z\" fill=\"#000000\" fill-rule=\"evenodd\" fill-opacity=\"1\" /><path clip-path=\"url(#clip160)\" d=\"M 0 0 M1279.11 1515.64 Q1275.5 1515.64 1273.67 1519.2 Q1271.87 1522.75 1271.87 1529.87 Q1271.87 1536.98 1273.67 1540.55 Q1275.5 1544.09 1279.11 1544.09 Q1282.75 1544.09 1284.55 1540.55 Q1286.38 1536.98 1286.38 1529.87 Q1286.38 1522.75 1284.55 1519.2 Q1282.75 1515.64 1279.11 1515.64 M1279.11 1511.93 Q1284.92 1511.93 1287.98 1516.54 Q1291.06 1521.12 1291.06 1529.87 Q1291.06 1538.6 1287.98 1543.21 Q1284.92 1547.79 1279.11 1547.79 Q1273.3 1547.79 1270.22 1543.21 Q1267.17 1538.6 1267.17 1529.87 Q1267.17 1521.12 1270.22 1516.54 Q1273.3 1511.93 1279.11 1511.93 Z\" fill=\"#000000\" fill-rule=\"evenodd\" fill-opacity=\"1\" /><path clip-path=\"url(#clip160)\" d=\"M 0 0 M1734.08 1512.56 L1756.31 1512.56 L1756.31 1514.55 L1743.76 1547.12 L1738.87 1547.12 L1750.68 1516.5 L1734.08 1516.5 L1734.08 1512.56 Z\" fill=\"#000000\" fill-rule=\"evenodd\" fill-opacity=\"1\" /><path clip-path=\"url(#clip160)\" d=\"M 0 0 M1761.42 1512.56 L1779.78 1512.56 L1779.78 1516.5 L1765.7 1516.5 L1765.7 1524.97 Q1766.72 1524.62 1767.74 1524.46 Q1768.76 1524.27 1769.78 1524.27 Q1775.56 1524.27 1778.94 1527.44 Q1782.32 1530.62 1782.32 1536.03 Q1782.32 1541.61 1778.85 1544.71 Q1775.38 1547.79 1769.06 1547.79 Q1766.88 1547.79 1764.62 1547.42 Q1762.37 1547.05 1759.96 1546.31 L1759.96 1541.61 Q1762.05 1542.74 1764.27 1543.3 Q1766.49 1543.86 1768.97 1543.86 Q1772.97 1543.86 1775.31 1541.75 Q1777.65 1539.64 1777.65 1536.03 Q1777.65 1532.42 1775.31 1530.31 Q1772.97 1528.21 1768.97 1528.21 Q1767.09 1528.21 1765.22 1528.62 Q1763.37 1529.04 1761.42 1529.92 L1761.42 1512.56 Z\" fill=\"#000000\" fill-rule=\"evenodd\" fill-opacity=\"1\" /><path clip-path=\"url(#clip160)\" d=\"M 0 0 M1797.39 1515.64 Q1793.78 1515.64 1791.95 1519.2 Q1790.15 1522.75 1790.15 1529.87 Q1790.15 1536.98 1791.95 1540.55 Q1793.78 1544.09 1797.39 1544.09 Q1801.03 1544.09 1802.83 1540.55 Q1804.66 1536.98 1804.66 1529.87 Q1804.66 1522.75 1802.83 1519.2 Q1801.03 1515.64 1797.39 1515.64 M1797.39 1511.93 Q1803.2 1511.93 1806.26 1516.54 Q1809.34 1521.12 1809.34 1529.87 Q1809.34 1538.6 1806.26 1543.21 Q1803.2 1547.79 1797.39 1547.79 Q1791.58 1547.79 1788.5 1543.21 Q1785.45 1538.6 1785.45 1529.87 Q1785.45 1521.12 1788.5 1516.54 Q1791.58 1511.93 1797.39 1511.93 Z\" fill=\"#000000\" fill-rule=\"evenodd\" fill-opacity=\"1\" /><path clip-path=\"url(#clip160)\" d=\"M 0 0 M2240.42 1543.18 L2248.06 1543.18 L2248.06 1516.82 L2239.75 1518.49 L2239.75 1514.23 L2248.01 1512.56 L2252.69 1512.56 L2252.69 1543.18 L2260.33 1543.18 L2260.33 1547.12 L2240.42 1547.12 L2240.42 1543.18 Z\" fill=\"#000000\" fill-rule=\"evenodd\" fill-opacity=\"1\" /><path clip-path=\"url(#clip160)\" d=\"M 0 0 M2275.39 1515.64 Q2271.78 1515.64 2269.95 1519.2 Q2268.15 1522.75 2268.15 1529.87 Q2268.15 1536.98 2269.95 1540.55 Q2271.78 1544.09 2275.39 1544.09 Q2279.03 1544.09 2280.83 1540.55 Q2282.66 1536.98 2282.66 1529.87 Q2282.66 1522.75 2280.83 1519.2 Q2279.03 1515.64 2275.39 1515.64 M2275.39 1511.93 Q2281.2 1511.93 2284.26 1516.54 Q2287.34 1521.12 2287.34 1529.87 Q2287.34 1538.6 2284.26 1543.21 Q2281.2 1547.79 2275.39 1547.79 Q2269.58 1547.79 2266.51 1543.21 Q2263.45 1538.6 2263.45 1529.87 Q2263.45 1521.12 2266.51 1516.54 Q2269.58 1511.93 2275.39 1511.93 Z\" fill=\"#000000\" fill-rule=\"evenodd\" fill-opacity=\"1\" /><path clip-path=\"url(#clip160)\" d=\"M 0 0 M2302.41 1515.64 Q2298.8 1515.64 2296.97 1519.2 Q2295.16 1522.75 2295.16 1529.87 Q2295.16 1536.98 2296.97 1540.55 Q2298.8 1544.09 2302.41 1544.09 Q2306.04 1544.09 2307.85 1540.55 Q2309.68 1536.98 2309.68 1529.87 Q2309.68 1522.75 2307.85 1519.2 Q2306.04 1515.64 2302.41 1515.64 M2302.41 1511.93 Q2308.22 1511.93 2311.27 1516.54 Q2314.35 1521.12 2314.35 1529.87 Q2314.35 1538.6 2311.27 1543.21 Q2308.22 1547.79 2302.41 1547.79 Q2296.6 1547.79 2293.52 1543.21 Q2290.46 1538.6 2290.46 1529.87 Q2290.46 1521.12 2293.52 1516.54 Q2296.6 1511.93 2302.41 1511.93 Z\" fill=\"#000000\" fill-rule=\"evenodd\" fill-opacity=\"1\" /><path clip-path=\"url(#clip160)\" d=\"M 0 0 M2329.42 1515.64 Q2325.81 1515.64 2323.98 1519.2 Q2322.18 1522.75 2322.18 1529.87 Q2322.18 1536.98 2323.98 1540.55 Q2325.81 1544.09 2329.42 1544.09 Q2333.06 1544.09 2334.86 1540.55 Q2336.69 1536.98 2336.69 1529.87 Q2336.69 1522.75 2334.86 1519.2 Q2333.06 1515.64 2329.42 1515.64 M2329.42 1511.93 Q2335.23 1511.93 2338.29 1516.54 Q2341.37 1521.12 2341.37 1529.87 Q2341.37 1538.6 2338.29 1543.21 Q2335.23 1547.79 2329.42 1547.79 Q2323.61 1547.79 2320.53 1543.21 Q2317.48 1538.6 2317.48 1529.87 Q2317.48 1521.12 2320.53 1516.54 Q2323.61 1511.93 2329.42 1511.93 Z\" fill=\"#000000\" fill-rule=\"evenodd\" fill-opacity=\"1\" /><polyline clip-path=\"url(#clip162)\" style=\"stroke:#000000; stroke-width:2; stroke-opacity:0.1; fill:none\" points=\"\n",
       "  155.047,1445.72 2352.76,1445.72 \n",
       "  \"/>\n",
       "<polyline clip-path=\"url(#clip162)\" style=\"stroke:#000000; stroke-width:2; stroke-opacity:0.1; fill:none\" points=\"\n",
       "  155.047,1131.21 2352.76,1131.21 \n",
       "  \"/>\n",
       "<polyline clip-path=\"url(#clip162)\" style=\"stroke:#000000; stroke-width:2; stroke-opacity:0.1; fill:none\" points=\"\n",
       "  155.047,816.703 2352.76,816.703 \n",
       "  \"/>\n",
       "<polyline clip-path=\"url(#clip162)\" style=\"stroke:#000000; stroke-width:2; stroke-opacity:0.1; fill:none\" points=\"\n",
       "  155.047,502.197 2352.76,502.197 \n",
       "  \"/>\n",
       "<polyline clip-path=\"url(#clip162)\" style=\"stroke:#000000; stroke-width:2; stroke-opacity:0.1; fill:none\" points=\"\n",
       "  155.047,187.691 2352.76,187.691 \n",
       "  \"/>\n",
       "<polyline clip-path=\"url(#clip160)\" style=\"stroke:#000000; stroke-width:4; stroke-opacity:1; fill:none\" points=\"\n",
       "  155.047,1486.45 155.047,47.2441 \n",
       "  \"/>\n",
       "<polyline clip-path=\"url(#clip160)\" style=\"stroke:#000000; stroke-width:4; stroke-opacity:1; fill:none\" points=\"\n",
       "  155.047,1445.72 181.42,1445.72 \n",
       "  \"/>\n",
       "<polyline clip-path=\"url(#clip160)\" style=\"stroke:#000000; stroke-width:4; stroke-opacity:1; fill:none\" points=\"\n",
       "  155.047,1131.21 181.42,1131.21 \n",
       "  \"/>\n",
       "<polyline clip-path=\"url(#clip160)\" style=\"stroke:#000000; stroke-width:4; stroke-opacity:1; fill:none\" points=\"\n",
       "  155.047,816.703 181.42,816.703 \n",
       "  \"/>\n",
       "<polyline clip-path=\"url(#clip160)\" style=\"stroke:#000000; stroke-width:4; stroke-opacity:1; fill:none\" points=\"\n",
       "  155.047,502.197 181.42,502.197 \n",
       "  \"/>\n",
       "<polyline clip-path=\"url(#clip160)\" style=\"stroke:#000000; stroke-width:4; stroke-opacity:1; fill:none\" points=\"\n",
       "  155.047,187.691 181.42,187.691 \n",
       "  \"/>\n",
       "<path clip-path=\"url(#clip160)\" d=\"M 0 0 M52.7167 1465.51 L60.3555 1465.51 L60.3555 1439.14 L52.0454 1440.81 L52.0454 1436.55 L60.3092 1434.88 L64.9851 1434.88 L64.9851 1465.51 L72.624 1465.51 L72.624 1469.44 L52.7167 1469.44 L52.7167 1465.51 Z\" fill=\"#000000\" fill-rule=\"evenodd\" fill-opacity=\"1\" /><path clip-path=\"url(#clip160)\" d=\"M 0 0 M87.6933 1437.96 Q84.0822 1437.96 82.2535 1441.53 Q80.448 1445.07 80.448 1452.2 Q80.448 1459.3 82.2535 1462.87 Q84.0822 1466.41 87.6933 1466.41 Q91.3276 1466.41 93.1331 1462.87 Q94.9618 1459.3 94.9618 1452.2 Q94.9618 1445.07 93.1331 1441.53 Q91.3276 1437.96 87.6933 1437.96 M87.6933 1434.26 Q93.5035 1434.26 96.559 1438.86 Q99.6377 1443.45 99.6377 1452.2 Q99.6377 1460.92 96.559 1465.53 Q93.5035 1470.11 87.6933 1470.11 Q81.8832 1470.11 78.8045 1465.53 Q75.7489 1460.92 75.7489 1452.2 Q75.7489 1443.45 78.8045 1438.86 Q81.8832 1434.26 87.6933 1434.26 Z\" fill=\"#000000\" fill-rule=\"evenodd\" fill-opacity=\"1\" /><path clip-path=\"url(#clip160)\" d=\"M 0 0 M109.343 1416.45 Q106.408 1416.45 104.923 1419.35 Q103.456 1422.23 103.456 1428.02 Q103.456 1433.8 104.923 1436.69 Q106.408 1439.57 109.343 1439.57 Q112.295 1439.57 113.762 1436.69 Q115.248 1433.8 115.248 1428.02 Q115.248 1422.23 113.762 1419.35 Q112.295 1416.45 109.343 1416.45 M109.343 1413.45 Q114.063 1413.45 116.546 1417.19 Q119.047 1420.91 119.047 1428.02 Q119.047 1435.11 116.546 1438.85 Q114.063 1442.58 109.343 1442.58 Q104.622 1442.58 102.12 1438.85 Q99.6377 1435.11 99.6377 1428.02 Q99.6377 1420.91 102.12 1417.19 Q104.622 1413.45 109.343 1413.45 Z\" fill=\"#000000\" fill-rule=\"evenodd\" fill-opacity=\"1\" /><path clip-path=\"url(#clip160)\" d=\"M 0 0 M55.4062 1151 L63.045 1151 L63.045 1124.64 L54.7349 1126.3 L54.7349 1122.04 L62.9987 1120.38 L67.6746 1120.38 L67.6746 1151 L75.3135 1151 L75.3135 1154.94 L55.4062 1154.94 L55.4062 1151 Z\" fill=\"#000000\" fill-rule=\"evenodd\" fill-opacity=\"1\" /><path clip-path=\"url(#clip160)\" d=\"M 0 0 M90.3828 1123.46 Q86.7717 1123.46 84.943 1127.02 Q83.1375 1130.56 83.1375 1137.69 Q83.1375 1144.8 84.943 1148.36 Q86.7717 1151.9 90.3828 1151.9 Q94.0171 1151.9 95.8226 1148.36 Q97.6513 1144.8 97.6513 1137.69 Q97.6513 1130.56 95.8226 1127.02 Q94.0171 1123.46 90.3828 1123.46 M90.3828 1119.75 Q96.193 1119.75 99.2485 1124.36 Q102.327 1128.94 102.327 1137.69 Q102.327 1146.42 99.2485 1151.03 Q96.193 1155.61 90.3828 1155.61 Q84.5727 1155.61 81.494 1151.03 Q78.4384 1146.42 78.4384 1137.69 Q78.4384 1128.94 81.494 1124.36 Q84.5727 1119.75 90.3828 1119.75 Z\" fill=\"#000000\" fill-rule=\"evenodd\" fill-opacity=\"1\" /><path clip-path=\"url(#clip160)\" d=\"M 0 0 M102.873 1124.33 L109.079 1124.33 L109.079 1102.91 L102.327 1104.26 L102.327 1100.8 L109.042 1099.45 L112.841 1099.45 L112.841 1124.33 L119.047 1124.33 L119.047 1127.53 L102.873 1127.53 L102.873 1124.33 Z\" fill=\"#000000\" fill-rule=\"evenodd\" fill-opacity=\"1\" /><path clip-path=\"url(#clip160)\" d=\"M 0 0 M54.2965 836.496 L61.9354 836.496 L61.9354 810.13 L53.6252 811.797 L53.6252 807.538 L61.8891 805.871 L66.565 805.871 L66.565 836.496 L74.2038 836.496 L74.2038 840.431 L54.2965 840.431 L54.2965 836.496 Z\" fill=\"#000000\" fill-rule=\"evenodd\" fill-opacity=\"1\" /><path clip-path=\"url(#clip160)\" d=\"M 0 0 M89.2732 808.95 Q85.6621 808.95 83.8334 812.515 Q82.0278 816.056 82.0278 823.186 Q82.0278 830.292 83.8334 833.857 Q85.6621 837.399 89.2732 837.399 Q92.9074 837.399 94.713 833.857 Q96.5417 830.292 96.5417 823.186 Q96.5417 816.056 94.713 812.515 Q92.9074 808.95 89.2732 808.95 M89.2732 805.246 Q95.0833 805.246 98.1389 809.853 Q101.218 814.436 101.218 823.186 Q101.218 831.913 98.1389 836.519 Q95.0833 841.102 89.2732 841.102 Q83.463 841.102 80.3843 836.519 Q77.3288 831.913 77.3288 823.186 Q77.3288 814.436 80.3843 809.853 Q83.463 805.246 89.2732 805.246 Z\" fill=\"#000000\" fill-rule=\"evenodd\" fill-opacity=\"1\" /><path clip-path=\"url(#clip160)\" d=\"M 0 0 M105.788 809.823 L119.047 809.823 L119.047 813.021 L101.218 813.021 L101.218 809.823 Q103.38 807.585 107.104 803.824 Q110.847 800.043 111.806 798.952 Q113.631 796.902 114.345 795.492 Q115.079 794.062 115.079 792.689 Q115.079 790.451 113.499 789.041 Q111.938 787.63 109.418 787.63 Q107.631 787.63 105.637 788.251 Q103.663 788.871 101.406 790.132 L101.406 786.295 Q103.7 785.373 105.694 784.903 Q107.687 784.433 109.343 784.433 Q113.706 784.433 116.301 786.615 Q118.897 788.796 118.897 792.445 Q118.897 794.175 118.239 795.736 Q117.599 797.279 115.888 799.385 Q115.417 799.93 112.897 802.545 Q110.377 805.14 105.788 809.823 Z\" fill=\"#000000\" fill-rule=\"evenodd\" fill-opacity=\"1\" /><path clip-path=\"url(#clip160)\" d=\"M 0 0 M53.6382 521.99 L61.2771 521.99 L61.2771 495.624 L52.9669 497.291 L52.9669 493.032 L61.2308 491.365 L65.9067 491.365 L65.9067 521.99 L73.5455 521.99 L73.5455 525.925 L53.6382 525.925 L53.6382 521.99 Z\" fill=\"#000000\" fill-rule=\"evenodd\" fill-opacity=\"1\" /><path clip-path=\"url(#clip160)\" d=\"M 0 0 M88.6149 494.444 Q85.0038 494.444 83.1751 498.008 Q81.3696 501.55 81.3696 508.68 Q81.3696 515.786 83.1751 519.351 Q85.0038 522.893 88.6149 522.893 Q92.2491 522.893 94.0547 519.351 Q95.8834 515.786 95.8834 508.68 Q95.8834 501.55 94.0547 498.008 Q92.2491 494.444 88.6149 494.444 M88.6149 490.74 Q94.4251 490.74 97.4806 495.346 Q100.559 499.93 100.559 508.68 Q100.559 517.406 97.4806 522.013 Q94.4251 526.596 88.6149 526.596 Q82.8047 526.596 79.7261 522.013 Q76.6705 517.406 76.6705 508.68 Q76.6705 499.93 79.7261 495.346 Q82.8047 490.74 88.6149 490.74 Z\" fill=\"#000000\" fill-rule=\"evenodd\" fill-opacity=\"1\" /><path clip-path=\"url(#clip160)\" d=\"M 0 0 M113.255 483.374 Q115.982 483.957 117.505 485.8 Q119.047 487.644 119.047 490.352 Q119.047 494.508 116.189 496.784 Q113.33 499.06 108.064 499.06 Q106.296 499.06 104.415 498.703 Q102.553 498.364 100.559 497.668 L100.559 494.001 Q102.139 494.922 104.02 495.392 Q105.901 495.863 107.951 495.863 Q111.524 495.863 113.386 494.452 Q115.267 493.041 115.267 490.352 Q115.267 487.869 113.518 486.478 Q111.788 485.067 108.684 485.067 L105.412 485.067 L105.412 481.945 L108.835 481.945 Q111.637 481.945 113.123 480.835 Q114.609 479.707 114.609 477.6 Q114.609 475.437 113.066 474.29 Q111.543 473.124 108.684 473.124 Q107.123 473.124 105.336 473.463 Q103.55 473.801 101.406 474.516 L101.406 471.13 Q103.569 470.529 105.449 470.228 Q107.349 469.927 109.023 469.927 Q113.349 469.927 115.869 471.902 Q118.389 473.858 118.389 477.205 Q118.389 479.537 117.054 481.155 Q115.718 482.754 113.255 483.374 Z\" fill=\"#000000\" fill-rule=\"evenodd\" fill-opacity=\"1\" /><path clip-path=\"url(#clip160)\" d=\"M 0 0 M51.6634 207.484 L59.3023 207.484 L59.3023 181.118 L50.9921 182.785 L50.9921 178.525 L59.256 176.859 L63.9319 176.859 L63.9319 207.484 L71.5707 207.484 L71.5707 211.419 L51.6634 211.419 L51.6634 207.484 Z\" fill=\"#000000\" fill-rule=\"evenodd\" fill-opacity=\"1\" /><path clip-path=\"url(#clip160)\" d=\"M 0 0 M86.6401 179.937 Q83.029 179.937 81.2003 183.502 Q79.3948 187.044 79.3948 194.174 Q79.3948 201.28 81.2003 204.845 Q83.029 208.386 86.6401 208.386 Q90.2743 208.386 92.0799 204.845 Q93.9086 201.28 93.9086 194.174 Q93.9086 187.044 92.0799 183.502 Q90.2743 179.937 86.6401 179.937 M86.6401 176.234 Q92.4502 176.234 95.5058 180.84 Q98.5845 185.424 98.5845 194.174 Q98.5845 202.9 95.5058 207.507 Q92.4502 212.09 86.6401 212.09 Q80.8299 212.09 77.7512 207.507 Q74.6957 202.9 74.6957 194.174 Q74.6957 185.424 77.7512 180.84 Q80.8299 176.234 86.6401 176.234 Z\" fill=\"#000000\" fill-rule=\"evenodd\" fill-opacity=\"1\" /><path clip-path=\"url(#clip160)\" d=\"M 0 0 M111.261 159.239 L101.669 174.228 L111.261 174.228 L111.261 159.239 M110.264 155.928 L115.041 155.928 L115.041 174.228 L119.047 174.228 L119.047 177.388 L115.041 177.388 L115.041 184.008 L111.261 184.008 L111.261 177.388 L98.5845 177.388 L98.5845 173.721 L110.264 155.928 Z\" fill=\"#000000\" fill-rule=\"evenodd\" fill-opacity=\"1\" /><polyline clip-path=\"url(#clip162)\" style=\"stroke:#009af9; stroke-width:4; stroke-opacity:1; fill:none\" points=\"\n",
       "  217.247,1445.72 219.322,1444.36 221.397,1443 223.473,1441.64 225.548,1440.28 227.624,1438.92 229.699,1437.56 231.774,1436.2 233.85,1434.84 235.925,1433.48 \n",
       "  238,1432.12 240.076,1430.77 242.151,1429.41 244.227,1428.05 246.302,1426.69 248.377,1425.33 250.453,1423.97 252.528,1422.61 254.604,1421.25 256.679,1419.89 \n",
       "  258.754,1418.53 260.83,1417.17 262.905,1415.82 264.98,1414.46 267.056,1413.1 269.131,1411.74 271.207,1410.38 273.282,1409.02 275.357,1407.66 277.433,1406.3 \n",
       "  279.508,1404.94 281.584,1403.58 283.659,1402.22 285.734,1400.87 287.81,1399.51 289.885,1398.15 291.96,1396.79 294.036,1395.43 296.111,1394.07 298.187,1392.71 \n",
       "  300.262,1391.35 302.337,1389.99 304.413,1388.63 306.488,1387.27 308.564,1385.92 310.639,1384.56 312.714,1383.2 314.79,1381.84 316.865,1380.48 318.94,1379.12 \n",
       "  321.016,1377.76 323.091,1376.4 325.167,1375.04 327.242,1373.68 329.317,1372.32 331.393,1370.97 333.468,1369.61 335.544,1368.25 337.619,1366.89 339.694,1365.53 \n",
       "  341.77,1364.17 343.845,1362.81 345.921,1361.45 347.996,1360.09 350.071,1358.73 352.147,1357.37 354.222,1356.02 356.297,1354.66 358.373,1353.3 360.448,1351.94 \n",
       "  362.524,1350.58 364.599,1349.22 366.674,1347.86 368.75,1346.5 370.825,1345.14 372.901,1343.78 374.976,1342.42 377.051,1341.07 379.127,1339.71 381.202,1338.35 \n",
       "  383.277,1336.99 385.353,1335.63 387.428,1334.27 389.504,1332.91 391.579,1331.55 393.654,1330.19 395.73,1328.83 397.805,1327.47 399.881,1326.12 401.956,1324.76 \n",
       "  404.031,1323.4 406.107,1322.04 408.182,1320.68 410.257,1319.32 412.333,1317.96 414.408,1316.6 416.484,1315.24 418.559,1313.88 420.634,1312.52 422.71,1311.16 \n",
       "  424.785,1309.81 426.861,1308.45 428.936,1307.09 431.011,1305.73 433.087,1304.37 435.162,1303.01 437.237,1301.65 439.313,1300.29 441.388,1298.93 443.464,1297.57 \n",
       "  445.539,1296.21 447.614,1294.86 449.69,1293.5 451.765,1292.14 453.841,1290.78 455.916,1289.42 457.991,1288.06 460.067,1286.7 462.142,1285.34 464.217,1283.98 \n",
       "  466.293,1282.62 468.368,1281.26 470.444,1279.91 472.519,1278.55 474.594,1277.19 476.67,1275.83 478.745,1274.47 480.821,1273.11 482.896,1271.75 484.971,1270.39 \n",
       "  487.047,1269.03 489.122,1267.67 491.197,1266.31 493.273,1264.96 495.348,1263.6 497.424,1262.24 499.499,1260.88 501.574,1259.52 503.65,1258.16 505.725,1256.8 \n",
       "  507.801,1255.44 509.876,1254.08 511.951,1252.72 514.027,1251.36 516.102,1250.01 518.177,1248.65 520.253,1247.29 522.328,1245.93 524.404,1244.57 526.479,1243.21 \n",
       "  528.554,1241.85 530.63,1240.49 532.705,1239.13 534.781,1237.77 536.856,1236.41 538.931,1235.06 541.007,1233.7 543.082,1232.34 545.158,1230.98 547.233,1229.62 \n",
       "  549.308,1228.26 551.384,1226.9 553.459,1225.54 555.534,1224.18 557.61,1222.82 559.685,1221.46 561.761,1220.11 563.836,1218.75 565.911,1217.39 567.987,1216.03 \n",
       "  570.062,1214.67 572.138,1213.31 574.213,1211.95 576.288,1210.59 578.364,1209.23 580.439,1207.87 582.514,1206.51 584.59,1205.16 586.665,1203.8 588.741,1202.44 \n",
       "  590.816,1201.08 592.891,1199.72 594.967,1198.36 597.042,1197 599.118,1195.64 601.193,1194.28 603.268,1192.92 605.344,1191.56 607.419,1190.21 609.494,1188.85 \n",
       "  611.57,1187.49 613.645,1186.13 615.721,1184.77 617.796,1183.41 619.871,1182.05 621.947,1180.69 624.022,1179.33 626.098,1177.97 628.173,1176.61 630.248,1175.26 \n",
       "  632.324,1173.9 634.399,1172.54 636.474,1171.18 638.55,1169.82 640.625,1168.46 642.701,1167.1 644.776,1165.74 646.851,1164.38 648.927,1163.02 651.002,1161.66 \n",
       "  653.078,1160.31 655.153,1158.95 657.228,1157.59 659.304,1156.23 661.379,1154.87 663.454,1153.51 665.53,1152.15 667.605,1150.79 669.681,1149.43 671.756,1148.07 \n",
       "  673.831,1146.71 675.907,1145.35 677.982,1144 680.058,1142.64 682.133,1141.28 684.208,1139.92 686.284,1138.56 688.359,1137.2 690.434,1135.84 692.51,1134.48 \n",
       "  694.585,1133.12 696.661,1131.76 698.736,1130.4 700.811,1129.05 702.887,1127.69 704.962,1126.33 707.038,1124.97 709.113,1123.61 711.188,1122.25 713.264,1120.89 \n",
       "  715.339,1119.53 717.414,1118.17 719.49,1116.81 721.565,1115.45 723.641,1114.1 725.716,1112.74 727.791,1111.38 729.867,1110.02 731.942,1108.66 734.018,1107.3 \n",
       "  736.093,1105.94 738.168,1104.58 740.244,1103.22 742.319,1101.86 744.395,1100.5 746.47,1099.15 748.545,1097.79 750.621,1096.43 752.696,1095.07 754.771,1093.71 \n",
       "  756.847,1092.35 758.922,1090.99 760.998,1089.63 763.073,1088.27 765.148,1086.91 767.224,1085.55 769.299,1084.2 771.375,1082.84 773.45,1081.48 775.525,1080.12 \n",
       "  777.601,1078.76 779.676,1077.4 781.751,1076.04 783.827,1074.68 785.902,1073.32 787.978,1071.96 790.053,1070.6 792.128,1069.25 794.204,1067.89 796.279,1066.53 \n",
       "  798.355,1065.17 800.43,1063.81 802.505,1062.45 804.581,1061.09 806.656,1059.73 808.731,1058.37 810.807,1057.01 812.882,1055.65 814.958,1054.3 817.033,1052.94 \n",
       "  819.108,1051.58 821.184,1050.22 823.259,1048.86 825.335,1047.5 827.41,1046.14 829.485,1044.78 831.561,1043.42 833.636,1042.06 835.711,1040.7 837.787,1039.35 \n",
       "  839.862,1037.99 841.938,1036.63 844.013,1035.27 846.088,1033.91 848.164,1032.55 850.239,1031.19 852.315,1029.83 854.39,1028.47 856.465,1027.11 858.541,1025.75 \n",
       "  860.616,1024.4 862.691,1023.04 864.767,1021.68 866.842,1020.32 868.918,1018.96 870.993,1017.6 873.068,1016.24 875.144,1014.88 877.219,1013.52 879.295,1012.16 \n",
       "  881.37,1010.8 883.445,1009.45 885.521,1008.09 887.596,1006.73 889.671,1005.37 891.747,1004.01 893.822,1002.65 895.898,1001.29 897.973,999.931 900.048,998.572 \n",
       "  902.124,997.213 904.199,995.854 906.275,994.495 908.35,993.136 910.425,991.777 912.501,990.418 914.576,989.059 916.651,987.699 918.727,986.34 920.802,984.981 \n",
       "  922.878,983.622 924.953,982.263 927.028,980.904 929.104,979.545 931.179,978.186 933.255,976.827 935.33,975.468 937.405,974.109 939.481,972.749 941.556,971.39 \n",
       "  943.631,970.031 945.707,968.672 947.782,967.313 949.858,965.954 951.933,964.595 954.008,963.236 956.084,961.877 958.159,960.518 960.235,959.158 962.31,957.799 \n",
       "  964.385,956.44 966.461,955.081 968.536,953.722 970.612,952.363 972.687,951.004 974.762,949.645 976.838,948.286 978.913,946.927 980.988,945.567 983.064,944.208 \n",
       "  985.139,942.849 987.215,941.49 989.29,940.131 991.365,938.772 993.441,937.413 995.516,936.054 997.592,934.695 999.667,933.336 1001.74,931.976 1003.82,930.617 \n",
       "  1005.89,929.258 1007.97,927.899 1010.04,926.54 1012.12,925.181 1014.19,923.822 1016.27,922.463 1018.35,921.104 1020.42,919.745 1022.5,918.385 1024.57,917.026 \n",
       "  1026.65,915.667 1028.72,914.308 1030.8,912.949 1032.87,911.59 1034.95,910.231 1037.02,908.872 1039.1,907.513 1041.17,906.154 1043.25,904.794 1045.33,903.435 \n",
       "  1047.4,902.076 1049.48,900.717 1051.55,899.358 1053.63,897.999 1055.7,896.64 1057.78,895.281 1059.85,893.922 1061.93,892.563 1064,891.203 1066.08,889.844 \n",
       "  1068.15,888.485 1070.23,887.126 1072.31,885.767 1074.38,884.408 1076.46,883.049 1078.53,881.69 1080.61,880.331 1082.68,878.972 1084.76,877.613 1086.83,876.253 \n",
       "  1088.91,874.894 1090.98,873.535 1093.06,872.176 1095.13,870.817 1097.21,869.458 1099.29,868.099 1101.36,866.74 1103.44,865.381 1105.51,864.022 1107.59,862.662 \n",
       "  1109.66,861.303 1111.74,859.944 1113.81,858.585 1115.89,857.226 1117.96,855.867 1120.04,854.508 1122.11,853.149 1124.19,851.79 1126.27,850.431 1128.34,849.071 \n",
       "  1130.42,847.712 1132.49,846.353 1134.57,844.994 1136.64,843.635 1138.72,842.276 1140.79,840.917 1142.87,839.558 1144.94,838.199 1147.02,836.84 1149.09,835.48 \n",
       "  1151.17,834.121 1153.25,832.762 1155.32,831.403 1157.4,830.044 1159.47,828.685 1161.55,827.326 1163.62,825.967 1165.7,824.608 1167.77,823.249 1169.85,821.889 \n",
       "  1171.92,820.53 1174,819.171 1176.07,817.812 1178.15,816.453 1180.23,815.094 1182.3,813.735 1184.38,812.376 1186.45,811.017 1188.53,809.658 1190.6,808.298 \n",
       "  1192.68,806.939 1194.75,805.58 1196.83,804.221 1198.9,802.862 1200.98,801.503 1203.05,800.144 1205.13,798.785 1207.21,797.426 1209.28,796.067 1211.36,794.708 \n",
       "  1213.43,793.348 1215.51,791.989 1217.58,790.63 1219.66,789.271 1221.73,787.912 1223.81,786.553 1225.88,785.194 1227.96,783.835 1230.03,782.476 1232.11,781.117 \n",
       "  1234.19,779.757 1236.26,778.398 1238.34,777.039 1240.41,775.68 1242.49,774.321 1244.56,772.962 1246.64,771.603 1248.71,770.244 1250.79,768.885 1252.86,767.526 \n",
       "  1254.94,766.166 1257.01,764.807 1259.09,763.448 1261.17,762.089 1263.24,760.73 1265.32,759.371 1267.39,758.012 1269.47,756.653 1271.54,755.294 1273.62,753.935 \n",
       "  1275.69,752.575 1277.77,751.216 1279.84,749.857 1281.92,748.498 1283.99,747.139 1286.07,745.78 1288.15,744.421 1290.22,743.062 1292.3,741.703 1294.37,740.344 \n",
       "  1296.45,738.984 1298.52,737.625 1300.6,736.266 1302.67,734.907 1304.75,733.548 1306.82,732.189 1308.9,730.83 1310.97,729.471 1313.05,728.112 1315.13,726.753 \n",
       "  1317.2,725.393 1319.28,724.034 1321.35,722.675 1323.43,721.316 1325.5,719.957 1327.58,718.598 1329.65,717.239 1331.73,715.88 1333.8,714.521 1335.88,713.162 \n",
       "  1337.95,711.802 1340.03,710.443 1342.11,709.084 1344.18,707.725 1346.26,706.366 1348.33,705.007 1350.41,703.648 1352.48,702.289 1354.56,700.93 1356.63,699.571 \n",
       "  1358.71,698.212 1360.78,696.852 1362.86,695.493 1364.93,694.134 1367.01,692.775 1369.09,691.416 1371.16,690.057 1373.24,688.698 1375.31,687.339 1377.39,685.98 \n",
       "  1379.46,684.621 1381.54,683.261 1383.61,681.902 1385.69,680.543 1387.76,679.184 1389.84,677.825 1391.91,676.466 1393.99,675.107 1396.07,673.748 1398.14,672.389 \n",
       "  1400.22,671.03 1402.29,669.67 1404.37,668.311 1406.44,666.952 1408.52,665.593 1410.59,664.234 1412.67,662.875 1414.74,661.516 1416.82,660.157 1418.89,658.798 \n",
       "  1420.97,657.439 1423.05,656.079 1425.12,654.72 1427.2,653.361 1429.27,652.002 1431.35,650.643 1433.42,649.284 1435.5,647.925 1437.57,646.566 1439.65,645.207 \n",
       "  1441.72,643.848 1443.8,642.488 1445.87,641.129 1447.95,639.77 1450.03,638.411 1452.1,637.052 1454.18,635.693 1456.25,634.334 1458.33,632.975 1460.4,631.616 \n",
       "  1462.48,630.257 1464.55,628.897 1466.63,627.538 1468.7,626.179 1470.78,624.82 1472.85,623.461 1474.93,622.102 1477.01,620.743 1479.08,619.384 1481.16,618.025 \n",
       "  1483.23,616.666 1485.31,615.307 1487.38,613.947 1489.46,612.588 1491.53,611.229 1493.61,609.87 1495.68,608.511 1497.76,607.152 1499.83,605.793 1501.91,604.434 \n",
       "  1503.99,603.075 1506.06,601.716 1508.14,600.356 1510.21,598.997 1512.29,597.638 1514.36,596.279 1516.44,594.92 1518.51,593.561 1520.59,592.202 1522.66,590.843 \n",
       "  1524.74,589.484 1526.81,588.125 1528.89,586.765 1530.97,585.406 1533.04,584.047 1535.12,582.688 1537.19,581.329 1539.27,579.97 1541.34,578.611 1543.42,577.252 \n",
       "  1545.49,575.893 1547.57,574.534 1549.64,573.174 1551.72,571.815 1553.79,570.456 1555.87,569.097 1557.95,567.738 1560.02,566.379 1562.1,565.02 1564.17,563.661 \n",
       "  1566.25,562.302 1568.32,560.943 1570.4,559.583 1572.47,558.224 1574.55,556.865 1576.62,555.506 1578.7,554.147 1580.77,552.788 1582.85,551.429 1584.93,550.07 \n",
       "  1587,548.711 1589.08,547.352 1591.15,545.992 1593.23,544.633 1595.3,543.274 1597.38,541.915 1599.45,540.556 1601.53,539.197 1603.6,537.838 1605.68,536.479 \n",
       "  1607.75,535.12 1609.83,533.761 1611.91,532.401 1613.98,531.042 1616.06,529.683 1618.13,528.324 1620.21,526.965 1622.28,525.606 1624.36,524.247 1626.43,522.888 \n",
       "  1628.51,521.529 1630.58,520.17 1632.66,518.811 1634.73,517.451 1636.81,516.092 1638.89,514.733 1640.96,513.374 1643.04,512.015 1645.11,510.656 1647.19,509.297 \n",
       "  1649.26,507.938 1651.34,506.579 1653.41,505.22 1655.49,503.86 1657.56,502.501 1659.64,501.142 1661.71,499.783 1663.79,498.424 1665.87,497.065 1667.94,495.706 \n",
       "  1670.02,494.347 1672.09,492.988 1674.17,491.629 1676.24,490.269 1678.32,488.91 1680.39,487.551 1682.47,486.192 1684.54,484.833 1686.62,483.474 1688.69,482.115 \n",
       "  1690.77,480.756 1692.85,479.397 1694.92,478.038 1697,476.678 1699.07,475.319 1701.15,473.96 1703.22,472.601 1705.3,471.242 1707.37,469.883 1709.45,468.524 \n",
       "  1711.52,467.165 1713.6,465.806 1715.67,464.447 1717.75,463.087 1719.83,461.728 1721.9,460.369 1723.98,459.01 1726.05,457.651 1728.13,456.292 1730.2,454.933 \n",
       "  1732.28,453.574 1734.35,452.215 1736.43,450.856 1738.5,449.496 1740.58,448.137 1742.65,446.778 1744.73,445.419 1746.81,444.06 1748.88,442.701 1750.96,441.342 \n",
       "  1753.03,439.983 1755.11,438.624 1757.18,437.265 1759.26,435.905 1761.33,434.546 1763.41,433.187 1765.48,431.828 1767.56,430.469 1769.63,429.11 1771.71,427.751 \n",
       "  1773.79,426.392 1775.86,425.033 1777.94,423.674 1780.01,422.315 1782.09,420.955 1784.16,419.596 1786.24,418.237 1788.31,416.878 1790.39,415.519 1792.46,414.16 \n",
       "  1794.54,412.801 1796.61,411.442 1798.69,410.083 1800.77,408.724 1802.84,407.364 1804.92,406.005 1806.99,404.646 1809.07,403.287 1811.14,401.928 1813.22,400.569 \n",
       "  1815.29,399.21 1817.37,397.851 1819.44,396.492 1821.52,395.133 1823.59,393.773 1825.67,392.414 1827.75,391.055 1829.82,389.696 1831.9,388.337 1833.97,386.978 \n",
       "  1836.05,385.619 1838.12,384.26 1840.2,382.901 1842.27,381.542 1844.35,380.182 1846.42,378.823 1848.5,377.464 1850.57,376.105 1852.65,374.746 1854.73,373.387 \n",
       "  1856.8,372.028 1858.88,370.669 1860.95,369.31 1863.03,367.951 1865.1,366.591 1867.18,365.232 1869.25,363.873 1871.33,362.514 1873.4,361.155 1875.48,359.796 \n",
       "  1877.55,358.437 1879.63,357.078 1881.71,355.719 1883.78,354.36 1885.86,353 1887.93,351.641 1890.01,350.282 1892.08,348.923 1894.16,347.564 1896.23,346.205 \n",
       "  1898.31,344.846 1900.38,343.487 1902.46,342.128 1904.53,340.769 1906.61,339.41 1908.69,338.05 1910.76,336.691 1912.84,335.332 1914.91,333.973 1916.99,332.614 \n",
       "  1919.06,331.255 1921.14,329.896 1923.21,328.537 1925.29,327.178 1927.36,325.819 1929.44,324.459 1931.51,323.1 1933.59,321.741 1935.67,320.382 1937.74,319.023 \n",
       "  1939.82,317.664 1941.89,316.305 1943.97,314.946 1946.04,313.587 1948.12,312.228 1950.19,310.868 1952.27,309.509 1954.34,308.15 1956.42,306.791 1958.49,305.432 \n",
       "  1960.57,304.073 1962.65,302.714 1964.72,301.355 1966.8,299.996 1968.87,298.637 1970.95,297.277 1973.02,295.918 1975.1,294.559 1977.17,293.2 1979.25,291.841 \n",
       "  1981.32,290.482 1983.4,289.123 1985.47,287.764 1987.55,286.405 1989.63,285.046 1991.7,283.686 1993.78,282.327 1995.85,280.968 1997.93,279.609 2000,278.25 \n",
       "  2002.08,276.891 2004.15,275.532 2006.23,274.173 2008.3,272.814 2010.38,271.455 2012.45,270.095 2014.53,268.736 2016.61,267.377 2018.68,266.018 2020.76,264.659 \n",
       "  2022.83,263.3 2024.91,261.941 2026.98,260.582 2029.06,259.223 2031.13,257.864 2033.21,256.504 2035.28,255.145 2037.36,253.786 2039.43,252.427 2041.51,251.068 \n",
       "  2043.59,249.709 2045.66,248.35 2047.74,246.991 2049.81,245.632 2051.89,244.273 2053.96,242.914 2056.04,241.554 2058.11,240.195 2060.19,238.836 2062.26,237.477 \n",
       "  2064.34,236.118 2066.41,234.759 2068.49,233.4 2070.57,232.041 2072.64,230.682 2074.72,229.323 2076.79,227.963 2078.87,226.604 2080.94,225.245 2083.02,223.886 \n",
       "  2085.09,222.527 2087.17,221.168 2089.24,219.809 2091.32,218.45 2093.39,217.091 2095.47,215.732 2097.55,214.372 2099.62,213.013 2101.7,211.654 2103.77,210.295 \n",
       "  2105.85,208.936 2107.92,207.577 2110,206.218 2112.07,204.859 2114.15,203.5 2116.22,202.141 2118.3,200.781 2120.38,199.422 2122.45,198.063 2124.53,196.704 \n",
       "  2126.6,195.345 2128.68,193.986 2130.75,192.627 2132.83,191.268 2134.9,189.909 2136.98,188.55 2139.05,187.19 2141.13,185.831 2143.2,184.472 2145.28,183.113 \n",
       "  2147.36,181.754 2149.43,180.395 2151.51,179.036 2153.58,177.677 2155.66,176.318 2157.73,174.959 2159.81,173.599 2161.88,172.24 2163.96,170.881 2166.03,169.522 \n",
       "  2168.11,168.163 2170.18,166.804 2172.26,165.445 2174.34,164.086 2176.41,162.727 2178.49,161.368 2180.56,160.008 2182.64,158.649 2184.71,157.29 2186.79,155.931 \n",
       "  2188.86,154.572 2190.94,153.213 2193.01,151.854 2195.09,150.495 2197.16,149.136 2199.24,147.777 2201.32,146.418 2203.39,145.058 2205.47,143.699 2207.54,142.34 \n",
       "  2209.62,140.981 2211.69,139.622 2213.77,138.263 2215.84,136.904 2217.92,135.545 2219.99,134.186 2222.07,132.827 2224.14,131.467 2226.22,130.108 2228.3,128.749 \n",
       "  2230.37,127.39 2232.45,126.031 2234.52,124.672 2236.6,123.313 2238.67,121.954 2240.75,120.595 2242.82,119.236 2244.9,117.876 2246.97,116.517 2249.05,115.158 \n",
       "  2251.12,113.799 2253.2,112.44 2255.28,111.081 2257.35,109.722 2259.43,108.363 2261.5,107.004 2263.58,105.645 2265.65,104.285 2267.73,102.926 2269.8,101.567 \n",
       "  2271.88,100.208 2273.95,98.8491 2276.03,97.49 2278.1,96.1309 2280.18,94.7718 2282.26,93.4127 2284.33,92.0536 2286.41,90.6945 2288.48,89.3354 2290.56,87.9763 \n",
       "  \n",
       "  \"/>\n",
       "<path clip-path=\"url(#clip160)\" d=\"\n",
       "M1984.29 216.178 L2279.5 216.178 L2279.5 95.2176 L1984.29 95.2176  Z\n",
       "  \" fill=\"#ffffff\" fill-rule=\"evenodd\" fill-opacity=\"1\"/>\n",
       "<polyline clip-path=\"url(#clip160)\" style=\"stroke:#000000; stroke-width:4; stroke-opacity:1; fill:none\" points=\"\n",
       "  1984.29,216.178 2279.5,216.178 2279.5,95.2176 1984.29,95.2176 1984.29,216.178 \n",
       "  \"/>\n",
       "<polyline clip-path=\"url(#clip160)\" style=\"stroke:#009af9; stroke-width:4; stroke-opacity:1; fill:none\" points=\"\n",
       "  2008.71,155.698 2155.22,155.698 \n",
       "  \"/>\n",
       "<path clip-path=\"url(#clip160)\" d=\"M 0 0 M2193.49 175.385 Q2191.68 180.015 2189.97 181.427 Q2188.25 182.839 2185.38 182.839 L2181.98 182.839 L2181.98 179.274 L2184.48 179.274 Q2186.24 179.274 2187.21 178.44 Q2188.18 177.607 2189.36 174.505 L2190.13 172.561 L2179.64 147.052 L2184.16 147.052 L2192.26 167.329 L2200.36 147.052 L2204.87 147.052 L2193.49 175.385 Z\" fill=\"#000000\" fill-rule=\"evenodd\" fill-opacity=\"1\" /><path clip-path=\"url(#clip160)\" d=\"M 0 0 M2210.75 169.042 L2218.39 169.042 L2218.39 142.677 L2210.08 144.343 L2210.08 140.084 L2218.35 138.418 L2223.02 138.418 L2223.02 169.042 L2230.66 169.042 L2230.66 172.978 L2210.75 172.978 L2210.75 169.042 Z\" fill=\"#000000\" fill-rule=\"evenodd\" fill-opacity=\"1\" /></svg>\n"
      ]
     },
     "execution_count": 47,
     "metadata": {},
     "output_type": "execute_result"
    }
   ],
   "source": [
    "plot(run_infection(1000), yscale=:log10)"
   ]
  },
  {
   "cell_type": "code",
   "execution_count": 52,
   "metadata": {},
   "outputs": [
    {
     "data": {
      "image/svg+xml": [
       "<?xml version=\"1.0\" encoding=\"utf-8\"?>\n",
       "<svg xmlns=\"http://www.w3.org/2000/svg\" xmlns:xlink=\"http://www.w3.org/1999/xlink\" width=\"600\" height=\"400\" viewBox=\"0 0 2400 1600\">\n",
       "<defs>\n",
       "  <clipPath id=\"clip280\">\n",
       "    <rect x=\"0\" y=\"0\" width=\"2400\" height=\"1600\"/>\n",
       "  </clipPath>\n",
       "</defs>\n",
       "<path clip-path=\"url(#clip280)\" d=\"\n",
       "M0 1600 L2400 1600 L2400 0 L0 0  Z\n",
       "  \" fill=\"#ffffff\" fill-rule=\"evenodd\" fill-opacity=\"1\"/>\n",
       "<defs>\n",
       "  <clipPath id=\"clip281\">\n",
       "    <rect x=\"480\" y=\"0\" width=\"1681\" height=\"1600\"/>\n",
       "  </clipPath>\n",
       "</defs>\n",
       "<path clip-path=\"url(#clip280)\" d=\"\n",
       "M175.445 1486.45 L2352.76 1486.45 L2352.76 47.2441 L175.445 47.2441  Z\n",
       "  \" fill=\"#ffffff\" fill-rule=\"evenodd\" fill-opacity=\"1\"/>\n",
       "<defs>\n",
       "  <clipPath id=\"clip282\">\n",
       "    <rect x=\"175\" y=\"47\" width=\"2178\" height=\"1440\"/>\n",
       "  </clipPath>\n",
       "</defs>\n",
       "<polyline clip-path=\"url(#clip282)\" style=\"stroke:#000000; stroke-width:2; stroke-opacity:0.1; fill:none\" points=\"\n",
       "  235.011,1486.45 235.011,47.2441 \n",
       "  \"/>\n",
       "<polyline clip-path=\"url(#clip282)\" style=\"stroke:#000000; stroke-width:2; stroke-opacity:0.1; fill:none\" points=\"\n",
       "  749.042,1486.45 749.042,47.2441 \n",
       "  \"/>\n",
       "<polyline clip-path=\"url(#clip282)\" style=\"stroke:#000000; stroke-width:2; stroke-opacity:0.1; fill:none\" points=\"\n",
       "  1263.07,1486.45 1263.07,47.2441 \n",
       "  \"/>\n",
       "<polyline clip-path=\"url(#clip282)\" style=\"stroke:#000000; stroke-width:2; stroke-opacity:0.1; fill:none\" points=\"\n",
       "  1777.1,1486.45 1777.1,47.2441 \n",
       "  \"/>\n",
       "<polyline clip-path=\"url(#clip282)\" style=\"stroke:#000000; stroke-width:2; stroke-opacity:0.1; fill:none\" points=\"\n",
       "  2291.13,1486.45 2291.13,47.2441 \n",
       "  \"/>\n",
       "<polyline clip-path=\"url(#clip280)\" style=\"stroke:#000000; stroke-width:4; stroke-opacity:1; fill:none\" points=\"\n",
       "  175.445,1486.45 2352.76,1486.45 \n",
       "  \"/>\n",
       "<polyline clip-path=\"url(#clip280)\" style=\"stroke:#000000; stroke-width:4; stroke-opacity:1; fill:none\" points=\"\n",
       "  235.011,1486.45 235.011,1469.18 \n",
       "  \"/>\n",
       "<polyline clip-path=\"url(#clip280)\" style=\"stroke:#000000; stroke-width:4; stroke-opacity:1; fill:none\" points=\"\n",
       "  749.042,1486.45 749.042,1469.18 \n",
       "  \"/>\n",
       "<polyline clip-path=\"url(#clip280)\" style=\"stroke:#000000; stroke-width:4; stroke-opacity:1; fill:none\" points=\"\n",
       "  1263.07,1486.45 1263.07,1469.18 \n",
       "  \"/>\n",
       "<polyline clip-path=\"url(#clip280)\" style=\"stroke:#000000; stroke-width:4; stroke-opacity:1; fill:none\" points=\"\n",
       "  1777.1,1486.45 1777.1,1469.18 \n",
       "  \"/>\n",
       "<polyline clip-path=\"url(#clip280)\" style=\"stroke:#000000; stroke-width:4; stroke-opacity:1; fill:none\" points=\"\n",
       "  2291.13,1486.45 2291.13,1469.18 \n",
       "  \"/>\n",
       "<path clip-path=\"url(#clip280)\" d=\"M 0 0 M235.011 1515.64 Q231.4 1515.64 229.571 1519.2 Q227.766 1522.75 227.766 1529.87 Q227.766 1536.98 229.571 1540.55 Q231.4 1544.09 235.011 1544.09 Q238.645 1544.09 240.451 1540.55 Q242.28 1536.98 242.28 1529.87 Q242.28 1522.75 240.451 1519.2 Q238.645 1515.64 235.011 1515.64 M235.011 1511.93 Q240.821 1511.93 243.877 1516.54 Q246.955 1521.12 246.955 1529.87 Q246.955 1538.6 243.877 1543.21 Q240.821 1547.79 235.011 1547.79 Q229.201 1547.79 226.122 1543.21 Q223.067 1538.6 223.067 1529.87 Q223.067 1521.12 226.122 1516.54 Q229.201 1511.93 235.011 1511.93 Z\" fill=\"#000000\" fill-rule=\"evenodd\" fill-opacity=\"1\" /><path clip-path=\"url(#clip280)\" d=\"M 0 0 M717.179 1543.18 L733.498 1543.18 L733.498 1547.12 L711.554 1547.12 L711.554 1543.18 Q714.216 1540.43 718.799 1535.8 Q723.405 1531.15 724.586 1529.81 Q726.831 1527.28 727.711 1525.55 Q728.614 1523.79 728.614 1522.1 Q728.614 1519.34 726.669 1517.61 Q724.748 1515.87 721.646 1515.87 Q719.447 1515.87 716.993 1516.63 Q714.563 1517.4 711.785 1518.95 L711.785 1514.23 Q714.609 1513.09 717.063 1512.51 Q719.516 1511.93 721.554 1511.93 Q726.924 1511.93 730.118 1514.62 Q733.313 1517.31 733.313 1521.8 Q733.313 1523.93 732.503 1525.85 Q731.715 1527.74 729.609 1530.34 Q729.03 1531.01 725.928 1534.23 Q722.827 1537.42 717.179 1543.18 Z\" fill=\"#000000\" fill-rule=\"evenodd\" fill-opacity=\"1\" /><path clip-path=\"url(#clip280)\" d=\"M 0 0 M738.614 1512.56 L756.97 1512.56 L756.97 1516.5 L742.896 1516.5 L742.896 1524.97 Q743.915 1524.62 744.933 1524.46 Q745.952 1524.27 746.97 1524.27 Q752.757 1524.27 756.137 1527.44 Q759.516 1530.62 759.516 1536.03 Q759.516 1541.61 756.044 1544.71 Q752.572 1547.79 746.252 1547.79 Q744.077 1547.79 741.808 1547.42 Q739.563 1547.05 737.155 1546.31 L737.155 1541.61 Q739.239 1542.74 741.461 1543.3 Q743.683 1543.86 746.16 1543.86 Q750.164 1543.86 752.502 1541.75 Q754.84 1539.64 754.84 1536.03 Q754.84 1532.42 752.502 1530.31 Q750.164 1528.21 746.16 1528.21 Q744.285 1528.21 742.41 1528.62 Q740.558 1529.04 738.614 1529.92 L738.614 1512.56 Z\" fill=\"#000000\" fill-rule=\"evenodd\" fill-opacity=\"1\" /><path clip-path=\"url(#clip280)\" d=\"M 0 0 M774.586 1515.64 Q770.975 1515.64 769.146 1519.2 Q767.34 1522.75 767.34 1529.87 Q767.34 1536.98 769.146 1540.55 Q770.975 1544.09 774.586 1544.09 Q778.22 1544.09 780.025 1540.55 Q781.854 1536.98 781.854 1529.87 Q781.854 1522.75 780.025 1519.2 Q778.22 1515.64 774.586 1515.64 M774.586 1511.93 Q780.396 1511.93 783.451 1516.54 Q786.53 1521.12 786.53 1529.87 Q786.53 1538.6 783.451 1543.21 Q780.396 1547.79 774.586 1547.79 Q768.775 1547.79 765.697 1543.21 Q762.641 1538.6 762.641 1529.87 Q762.641 1521.12 765.697 1516.54 Q768.775 1511.93 774.586 1511.93 Z\" fill=\"#000000\" fill-rule=\"evenodd\" fill-opacity=\"1\" /><path clip-path=\"url(#clip280)\" d=\"M 0 0 M1226.34 1512.56 L1244.69 1512.56 L1244.69 1516.5 L1230.62 1516.5 L1230.62 1524.97 Q1231.64 1524.62 1232.66 1524.46 Q1233.67 1524.27 1234.69 1524.27 Q1240.48 1524.27 1243.86 1527.44 Q1247.24 1530.62 1247.24 1536.03 Q1247.24 1541.61 1243.77 1544.71 Q1240.29 1547.79 1233.98 1547.79 Q1231.8 1547.79 1229.53 1547.42 Q1227.29 1547.05 1224.88 1546.31 L1224.88 1541.61 Q1226.96 1542.74 1229.18 1543.3 Q1231.41 1543.86 1233.88 1543.86 Q1237.89 1543.86 1240.23 1541.75 Q1242.56 1539.64 1242.56 1536.03 Q1242.56 1532.42 1240.23 1530.31 Q1237.89 1528.21 1233.88 1528.21 Q1232.01 1528.21 1230.13 1528.62 Q1228.28 1529.04 1226.34 1529.92 L1226.34 1512.56 Z\" fill=\"#000000\" fill-rule=\"evenodd\" fill-opacity=\"1\" /><path clip-path=\"url(#clip280)\" d=\"M 0 0 M1262.31 1515.64 Q1258.7 1515.64 1256.87 1519.2 Q1255.06 1522.75 1255.06 1529.87 Q1255.06 1536.98 1256.87 1540.55 Q1258.7 1544.09 1262.31 1544.09 Q1265.94 1544.09 1267.75 1540.55 Q1269.58 1536.98 1269.58 1529.87 Q1269.58 1522.75 1267.75 1519.2 Q1265.94 1515.64 1262.31 1515.64 M1262.31 1511.93 Q1268.12 1511.93 1271.17 1516.54 Q1274.25 1521.12 1274.25 1529.87 Q1274.25 1538.6 1271.17 1543.21 Q1268.12 1547.79 1262.31 1547.79 Q1256.5 1547.79 1253.42 1543.21 Q1250.36 1538.6 1250.36 1529.87 Q1250.36 1521.12 1253.42 1516.54 Q1256.5 1511.93 1262.31 1511.93 Z\" fill=\"#000000\" fill-rule=\"evenodd\" fill-opacity=\"1\" /><path clip-path=\"url(#clip280)\" d=\"M 0 0 M1289.32 1515.64 Q1285.71 1515.64 1283.88 1519.2 Q1282.08 1522.75 1282.08 1529.87 Q1282.08 1536.98 1283.88 1540.55 Q1285.71 1544.09 1289.32 1544.09 Q1292.96 1544.09 1294.76 1540.55 Q1296.59 1536.98 1296.59 1529.87 Q1296.59 1522.75 1294.76 1519.2 Q1292.96 1515.64 1289.32 1515.64 M1289.32 1511.93 Q1295.13 1511.93 1298.19 1516.54 Q1301.27 1521.12 1301.27 1529.87 Q1301.27 1538.6 1298.19 1543.21 Q1295.13 1547.79 1289.32 1547.79 Q1283.51 1547.79 1280.43 1543.21 Q1277.38 1538.6 1277.38 1529.87 Q1277.38 1521.12 1280.43 1516.54 Q1283.51 1511.93 1289.32 1511.93 Z\" fill=\"#000000\" fill-rule=\"evenodd\" fill-opacity=\"1\" /><path clip-path=\"url(#clip280)\" d=\"M 0 0 M1739.48 1512.56 L1761.7 1512.56 L1761.7 1514.55 L1749.15 1547.12 L1744.27 1547.12 L1756.07 1516.5 L1739.48 1516.5 L1739.48 1512.56 Z\" fill=\"#000000\" fill-rule=\"evenodd\" fill-opacity=\"1\" /><path clip-path=\"url(#clip280)\" d=\"M 0 0 M1766.81 1512.56 L1785.17 1512.56 L1785.17 1516.5 L1771.1 1516.5 L1771.1 1524.97 Q1772.11 1524.62 1773.13 1524.46 Q1774.15 1524.27 1775.17 1524.27 Q1780.96 1524.27 1784.34 1527.44 Q1787.72 1530.62 1787.72 1536.03 Q1787.72 1541.61 1784.24 1544.71 Q1780.77 1547.79 1774.45 1547.79 Q1772.28 1547.79 1770.01 1547.42 Q1767.76 1547.05 1765.36 1546.31 L1765.36 1541.61 Q1767.44 1542.74 1769.66 1543.3 Q1771.88 1543.86 1774.36 1543.86 Q1778.36 1543.86 1780.7 1541.75 Q1783.04 1539.64 1783.04 1536.03 Q1783.04 1532.42 1780.7 1530.31 Q1778.36 1528.21 1774.36 1528.21 Q1772.49 1528.21 1770.61 1528.62 Q1768.76 1529.04 1766.81 1529.92 L1766.81 1512.56 Z\" fill=\"#000000\" fill-rule=\"evenodd\" fill-opacity=\"1\" /><path clip-path=\"url(#clip280)\" d=\"M 0 0 M1802.79 1515.64 Q1799.17 1515.64 1797.35 1519.2 Q1795.54 1522.75 1795.54 1529.87 Q1795.54 1536.98 1797.35 1540.55 Q1799.17 1544.09 1802.79 1544.09 Q1806.42 1544.09 1808.23 1540.55 Q1810.05 1536.98 1810.05 1529.87 Q1810.05 1522.75 1808.23 1519.2 Q1806.42 1515.64 1802.79 1515.64 M1802.79 1511.93 Q1808.6 1511.93 1811.65 1516.54 Q1814.73 1521.12 1814.73 1529.87 Q1814.73 1538.6 1811.65 1543.21 Q1808.6 1547.79 1802.79 1547.79 Q1796.98 1547.79 1793.9 1543.21 Q1790.84 1538.6 1790.84 1529.87 Q1790.84 1521.12 1793.9 1516.54 Q1796.98 1511.93 1802.79 1511.93 Z\" fill=\"#000000\" fill-rule=\"evenodd\" fill-opacity=\"1\" /><path clip-path=\"url(#clip280)\" d=\"M 0 0 M2241 1543.18 L2248.63 1543.18 L2248.63 1516.82 L2240.32 1518.49 L2240.32 1514.23 L2248.59 1512.56 L2253.26 1512.56 L2253.26 1543.18 L2260.9 1543.18 L2260.9 1547.12 L2241 1547.12 L2241 1543.18 Z\" fill=\"#000000\" fill-rule=\"evenodd\" fill-opacity=\"1\" /><path clip-path=\"url(#clip280)\" d=\"M 0 0 M2275.97 1515.64 Q2272.36 1515.64 2270.53 1519.2 Q2268.73 1522.75 2268.73 1529.87 Q2268.73 1536.98 2270.53 1540.55 Q2272.36 1544.09 2275.97 1544.09 Q2279.61 1544.09 2281.41 1540.55 Q2283.24 1536.98 2283.24 1529.87 Q2283.24 1522.75 2281.41 1519.2 Q2279.61 1515.64 2275.97 1515.64 M2275.97 1511.93 Q2281.78 1511.93 2284.84 1516.54 Q2287.92 1521.12 2287.92 1529.87 Q2287.92 1538.6 2284.84 1543.21 Q2281.78 1547.79 2275.97 1547.79 Q2270.16 1547.79 2267.08 1543.21 Q2264.03 1538.6 2264.03 1529.87 Q2264.03 1521.12 2267.08 1516.54 Q2270.16 1511.93 2275.97 1511.93 Z\" fill=\"#000000\" fill-rule=\"evenodd\" fill-opacity=\"1\" /><path clip-path=\"url(#clip280)\" d=\"M 0 0 M2302.99 1515.64 Q2299.37 1515.64 2297.55 1519.2 Q2295.74 1522.75 2295.74 1529.87 Q2295.74 1536.98 2297.55 1540.55 Q2299.37 1544.09 2302.99 1544.09 Q2306.62 1544.09 2308.43 1540.55 Q2310.25 1536.98 2310.25 1529.87 Q2310.25 1522.75 2308.43 1519.2 Q2306.62 1515.64 2302.99 1515.64 M2302.99 1511.93 Q2308.8 1511.93 2311.85 1516.54 Q2314.93 1521.12 2314.93 1529.87 Q2314.93 1538.6 2311.85 1543.21 Q2308.8 1547.79 2302.99 1547.79 Q2297.18 1547.79 2294.1 1543.21 Q2291.04 1538.6 2291.04 1529.87 Q2291.04 1521.12 2294.1 1516.54 Q2297.18 1511.93 2302.99 1511.93 Z\" fill=\"#000000\" fill-rule=\"evenodd\" fill-opacity=\"1\" /><path clip-path=\"url(#clip280)\" d=\"M 0 0 M2330 1515.64 Q2326.39 1515.64 2324.56 1519.2 Q2322.75 1522.75 2322.75 1529.87 Q2322.75 1536.98 2324.56 1540.55 Q2326.39 1544.09 2330 1544.09 Q2333.63 1544.09 2335.44 1540.55 Q2337.27 1536.98 2337.27 1529.87 Q2337.27 1522.75 2335.44 1519.2 Q2333.63 1515.64 2330 1515.64 M2330 1511.93 Q2335.81 1511.93 2338.87 1516.54 Q2341.94 1521.12 2341.94 1529.87 Q2341.94 1538.6 2338.87 1543.21 Q2335.81 1547.79 2330 1547.79 Q2324.19 1547.79 2321.11 1543.21 Q2318.06 1538.6 2318.06 1529.87 Q2318.06 1521.12 2321.11 1516.54 Q2324.19 1511.93 2330 1511.93 Z\" fill=\"#000000\" fill-rule=\"evenodd\" fill-opacity=\"1\" /><polyline clip-path=\"url(#clip282)\" style=\"stroke:#000000; stroke-width:2; stroke-opacity:0.1; fill:none\" points=\"\n",
       "  175.445,1445.72 2352.76,1445.72 \n",
       "  \"/>\n",
       "<polyline clip-path=\"url(#clip282)\" style=\"stroke:#000000; stroke-width:2; stroke-opacity:0.1; fill:none\" points=\"\n",
       "  175.445,1131.21 2352.76,1131.21 \n",
       "  \"/>\n",
       "<polyline clip-path=\"url(#clip282)\" style=\"stroke:#000000; stroke-width:2; stroke-opacity:0.1; fill:none\" points=\"\n",
       "  175.445,816.703 2352.76,816.703 \n",
       "  \"/>\n",
       "<polyline clip-path=\"url(#clip282)\" style=\"stroke:#000000; stroke-width:2; stroke-opacity:0.1; fill:none\" points=\"\n",
       "  175.445,502.197 2352.76,502.197 \n",
       "  \"/>\n",
       "<polyline clip-path=\"url(#clip282)\" style=\"stroke:#000000; stroke-width:2; stroke-opacity:0.1; fill:none\" points=\"\n",
       "  175.445,187.691 2352.76,187.691 \n",
       "  \"/>\n",
       "<polyline clip-path=\"url(#clip280)\" style=\"stroke:#000000; stroke-width:4; stroke-opacity:1; fill:none\" points=\"\n",
       "  175.445,1486.45 175.445,47.2441 \n",
       "  \"/>\n",
       "<polyline clip-path=\"url(#clip280)\" style=\"stroke:#000000; stroke-width:4; stroke-opacity:1; fill:none\" points=\"\n",
       "  175.445,1445.72 201.573,1445.72 \n",
       "  \"/>\n",
       "<polyline clip-path=\"url(#clip280)\" style=\"stroke:#000000; stroke-width:4; stroke-opacity:1; fill:none\" points=\"\n",
       "  175.445,1131.21 201.573,1131.21 \n",
       "  \"/>\n",
       "<polyline clip-path=\"url(#clip280)\" style=\"stroke:#000000; stroke-width:4; stroke-opacity:1; fill:none\" points=\"\n",
       "  175.445,816.703 201.573,816.703 \n",
       "  \"/>\n",
       "<polyline clip-path=\"url(#clip280)\" style=\"stroke:#000000; stroke-width:4; stroke-opacity:1; fill:none\" points=\"\n",
       "  175.445,502.197 201.573,502.197 \n",
       "  \"/>\n",
       "<polyline clip-path=\"url(#clip280)\" style=\"stroke:#000000; stroke-width:4; stroke-opacity:1; fill:none\" points=\"\n",
       "  175.445,187.691 201.573,187.691 \n",
       "  \"/>\n",
       "<path clip-path=\"url(#clip280)\" d=\"M 0 0 M127.501 1431.51 Q123.89 1431.51 122.061 1435.08 Q120.255 1438.62 120.255 1445.75 Q120.255 1452.86 122.061 1456.42 Q123.89 1459.96 127.501 1459.96 Q131.135 1459.96 132.941 1456.42 Q134.769 1452.86 134.769 1445.75 Q134.769 1438.62 132.941 1435.08 Q131.135 1431.51 127.501 1431.51 M127.501 1427.81 Q133.311 1427.81 136.367 1432.42 Q139.445 1437 139.445 1445.75 Q139.445 1454.48 136.367 1459.08 Q133.311 1463.67 127.501 1463.67 Q121.691 1463.67 118.612 1459.08 Q115.556 1454.48 115.556 1445.75 Q115.556 1437 118.612 1432.42 Q121.691 1427.81 127.501 1427.81 Z\" fill=\"#000000\" fill-rule=\"evenodd\" fill-opacity=\"1\" /><path clip-path=\"url(#clip280)\" d=\"M 0 0 M119.538 1144.55 L127.177 1144.55 L127.177 1118.19 L118.867 1119.86 L118.867 1115.6 L127.13 1113.93 L131.806 1113.93 L131.806 1144.55 L139.445 1144.55 L139.445 1148.49 L119.538 1148.49 L119.538 1144.55 Z\" fill=\"#000000\" fill-rule=\"evenodd\" fill-opacity=\"1\" /><path clip-path=\"url(#clip280)\" d=\"M 0 0 M123.126 830.048 L139.445 830.048 L139.445 833.983 L117.501 833.983 L117.501 830.048 Q120.163 827.294 124.746 822.664 Q129.353 818.011 130.533 816.669 Q132.779 814.146 133.658 812.409 Q134.561 810.65 134.561 808.96 Q134.561 806.206 132.617 804.47 Q130.695 802.734 127.593 802.734 Q125.394 802.734 122.941 803.497 Q120.51 804.261 117.732 805.812 L117.732 801.09 Q120.556 799.956 123.01 799.377 Q125.464 798.798 127.501 798.798 Q132.871 798.798 136.066 801.484 Q139.26 804.169 139.26 808.66 Q139.26 810.789 138.45 812.71 Q137.663 814.609 135.556 817.201 Q134.978 817.872 131.876 821.09 Q128.774 824.284 123.126 830.048 Z\" fill=\"#000000\" fill-rule=\"evenodd\" fill-opacity=\"1\" /><path clip-path=\"url(#clip280)\" d=\"M 0 0 M132.316 500.843 Q135.672 501.561 137.547 503.829 Q139.445 506.098 139.445 509.431 Q139.445 514.547 135.927 517.348 Q132.408 520.149 125.927 520.149 Q123.751 520.149 121.436 519.709 Q119.144 519.292 116.691 518.436 L116.691 513.922 Q118.635 515.056 120.95 515.635 Q123.265 516.213 125.788 516.213 Q130.186 516.213 132.478 514.477 Q134.792 512.741 134.792 509.431 Q134.792 506.376 132.64 504.663 Q130.51 502.926 126.691 502.926 L122.663 502.926 L122.663 499.084 L126.876 499.084 Q130.325 499.084 132.154 497.718 Q133.982 496.329 133.982 493.737 Q133.982 491.075 132.084 489.663 Q130.209 488.227 126.691 488.227 Q124.769 488.227 122.57 488.644 Q120.371 489.061 117.732 489.94 L117.732 485.774 Q120.394 485.033 122.709 484.663 Q125.047 484.292 127.107 484.292 Q132.431 484.292 135.533 486.723 Q138.635 489.13 138.635 493.251 Q138.635 496.121 136.992 498.112 Q135.348 500.079 132.316 500.843 Z\" fill=\"#000000\" fill-rule=\"evenodd\" fill-opacity=\"1\" /><path clip-path=\"url(#clip280)\" d=\"M 0 0 M129.862 174.485 L118.056 192.934 L129.862 192.934 L129.862 174.485 M128.635 170.411 L134.515 170.411 L134.515 192.934 L139.445 192.934 L139.445 196.823 L134.515 196.823 L134.515 204.971 L129.862 204.971 L129.862 196.823 L114.26 196.823 L114.26 192.309 L128.635 170.411 Z\" fill=\"#000000\" fill-rule=\"evenodd\" fill-opacity=\"1\" /><path clip-path=\"url(#clip280)\" d=\"M 0 0 M14.479 866.597 L14.479 860.74 L64.0042 860.74 L64.0042 866.597 L14.479 866.597 Z\" fill=\"#000000\" fill-rule=\"evenodd\" fill-opacity=\"1\" /><path clip-path=\"url(#clip280)\" d=\"M 0 0 M32.4621 840.784 Q32.4621 845.494 36.1542 848.232 Q39.8145 850.969 46.212 850.969 Q52.6095 850.969 56.3017 848.263 Q59.9619 845.526 59.9619 840.784 Q59.9619 836.105 56.2698 833.368 Q52.5777 830.63 46.212 830.63 Q39.8781 830.63 36.186 833.368 Q32.4621 836.105 32.4621 840.784 M27.4968 840.784 Q27.4968 833.145 32.4621 828.784 Q37.4273 824.424 46.212 824.424 Q54.9649 824.424 59.9619 828.784 Q64.9272 833.145 64.9272 840.784 Q64.9272 848.454 59.9619 852.815 Q54.9649 857.144 46.212 857.144 Q37.4273 857.144 32.4621 852.815 Q27.4968 848.454 27.4968 840.784 Z\" fill=\"#000000\" fill-rule=\"evenodd\" fill-opacity=\"1\" /><path clip-path=\"url(#clip280)\" d=\"M 0 0 M45.7664 794.823 Q39.4007 794.823 35.8996 797.465 Q32.3984 800.075 32.3984 804.817 Q32.3984 809.528 35.8996 812.17 Q39.4007 814.78 45.7664 814.78 Q52.1003 814.78 55.6014 812.17 Q59.1026 809.528 59.1026 804.817 Q59.1026 800.075 55.6014 797.465 Q52.1003 794.823 45.7664 794.823 M59.58 788.967 Q68.683 788.967 73.1071 793.009 Q77.5631 797.051 77.5631 805.39 Q77.5631 808.478 77.0857 811.215 Q76.6401 813.952 75.6852 816.53 L69.9879 816.53 Q71.3884 813.952 72.0568 811.438 Q72.7252 808.923 72.7252 806.313 Q72.7252 800.552 69.7015 797.688 Q66.7096 794.823 60.6303 794.823 L57.7339 794.823 Q60.885 796.637 62.4446 799.47 Q64.0042 802.303 64.0042 806.25 Q64.0042 812.806 59.0071 816.817 Q54.01 820.827 45.7664 820.827 Q37.491 820.827 32.4939 816.817 Q27.4968 812.806 27.4968 806.25 Q27.4968 802.303 29.0564 799.47 Q30.616 796.637 33.7671 794.823 L28.3562 794.823 L28.3562 788.967 L59.58 788.967 Z\" fill=\"#000000\" fill-rule=\"evenodd\" fill-opacity=\"1\" /><path clip-path=\"url(#clip280)\" d=\"M 0 0 M14.5426 768.756 Q21.8632 773.021 29.0246 775.09 Q36.186 777.158 43.5384 777.158 Q50.8908 777.158 58.1159 775.09 Q65.3091 772.989 72.5979 768.756 L72.5979 773.848 Q65.1182 778.623 57.8931 781.01 Q50.668 783.365 43.5384 783.365 Q36.4406 783.365 29.2474 781.01 Q22.0542 778.654 14.5426 773.848 L14.5426 768.756 Z\" fill=\"#000000\" fill-rule=\"evenodd\" fill-opacity=\"1\" /><path clip-path=\"url(#clip280)\" d=\"M 0 0 M16.4842 762.358 L16.4842 755.929 L64.0042 755.929 L64.0042 762.358 L16.4842 762.358 Z\" fill=\"#000000\" fill-rule=\"evenodd\" fill-opacity=\"1\" /><path clip-path=\"url(#clip280)\" d=\"M 0 0 M74.8259 722.7 L79.3773 722.7 L79.3773 756.565 L74.8259 756.565 L74.8259 722.7 Z\" fill=\"#000000\" fill-rule=\"evenodd\" fill-opacity=\"1\" /><path clip-path=\"url(#clip280)\" d=\"M 0 0 M42.4881 686.925 L64.0042 686.925 L64.0042 692.781 L42.679 692.781 Q37.6183 692.781 35.1038 694.754 Q32.5894 696.728 32.5894 700.674 Q32.5894 705.417 35.6131 708.154 Q38.6368 710.891 43.8567 710.891 L64.0042 710.891 L64.0042 716.78 L28.3562 716.78 L28.3562 710.891 L33.8944 710.891 Q30.6797 708.791 29.0883 705.958 Q27.4968 703.093 27.4968 699.369 Q27.4968 693.227 31.3163 690.076 Q35.1038 686.925 42.4881 686.925 Z\" fill=\"#000000\" fill-rule=\"evenodd\" fill-opacity=\"1\" /><path clip-path=\"url(#clip280)\" d=\"M 0 0 M14.5426 681.705 L14.5426 676.612 Q22.0542 671.838 29.2474 669.483 Q36.4406 667.095 43.5384 667.095 Q50.668 667.095 57.8931 669.483 Q65.1182 671.838 72.5979 676.612 L72.5979 681.705 Q65.3091 677.471 58.1159 675.403 Q50.8908 673.302 43.5384 673.302 Q36.186 673.302 29.0246 675.403 Q21.8632 677.471 14.5426 681.705 Z\" fill=\"#000000\" fill-rule=\"evenodd\" fill-opacity=\"1\" /><polyline clip-path=\"url(#clip282)\" style=\"stroke:#009af9; stroke-width:4; stroke-opacity:1; fill:none\" points=\"\n",
       "  237.067,1445.72 239.123,1444.36 241.179,1443 243.236,1441.64 245.292,1440.28 247.348,1438.92 249.404,1437.56 251.46,1436.2 253.516,1434.84 255.572,1433.48 \n",
       "  257.628,1432.12 259.685,1430.77 261.741,1429.41 263.797,1428.05 265.853,1426.69 267.909,1425.33 269.965,1423.97 272.021,1422.61 274.077,1421.25 276.134,1419.89 \n",
       "  278.19,1418.53 280.246,1417.17 282.302,1415.82 284.358,1414.46 286.414,1413.1 288.47,1411.74 290.526,1410.38 292.583,1409.02 294.639,1407.66 296.695,1406.3 \n",
       "  298.751,1404.94 300.807,1403.58 302.863,1402.22 304.919,1400.87 306.975,1399.51 309.032,1398.15 311.088,1396.79 313.144,1395.43 315.2,1394.07 317.256,1392.71 \n",
       "  319.312,1391.35 321.368,1389.99 323.424,1388.63 325.48,1387.27 327.537,1385.92 329.593,1384.56 331.649,1383.2 333.705,1381.84 335.761,1380.48 337.817,1379.12 \n",
       "  339.873,1377.76 341.929,1376.4 343.986,1375.04 346.042,1373.68 348.098,1372.32 350.154,1370.97 352.21,1369.61 354.266,1368.25 356.322,1366.89 358.378,1365.53 \n",
       "  360.435,1364.17 362.491,1362.81 364.547,1361.45 366.603,1360.09 368.659,1358.73 370.715,1357.37 372.771,1356.02 374.827,1354.66 376.884,1353.3 378.94,1351.94 \n",
       "  380.996,1350.58 383.052,1349.22 385.108,1347.86 387.164,1346.5 389.22,1345.14 391.276,1343.78 393.333,1342.42 395.389,1341.07 397.445,1339.71 399.501,1338.35 \n",
       "  401.557,1336.99 403.613,1335.63 405.669,1334.27 407.725,1332.91 409.782,1331.55 411.838,1330.19 413.894,1328.83 415.95,1327.47 418.006,1326.12 420.062,1324.76 \n",
       "  422.118,1323.4 424.174,1322.04 426.231,1320.68 428.287,1319.32 430.343,1317.96 432.399,1316.6 434.455,1315.24 436.511,1313.88 438.567,1312.52 440.623,1311.16 \n",
       "  442.679,1309.81 444.736,1308.45 446.792,1307.09 448.848,1305.73 450.904,1304.37 452.96,1303.01 455.016,1301.65 457.072,1300.29 459.128,1298.93 461.185,1297.57 \n",
       "  463.241,1296.21 465.297,1294.86 467.353,1293.5 469.409,1292.14 471.465,1290.78 473.521,1289.42 475.577,1288.06 477.634,1286.7 479.69,1285.34 481.746,1283.98 \n",
       "  483.802,1282.62 485.858,1281.26 487.914,1279.91 489.97,1278.55 492.026,1277.19 494.083,1275.83 496.139,1274.47 498.195,1273.11 500.251,1271.75 502.307,1270.39 \n",
       "  504.363,1269.03 506.419,1267.67 508.475,1266.31 510.532,1264.96 512.588,1263.6 514.644,1262.24 516.7,1260.88 518.756,1259.52 520.812,1258.16 522.868,1256.8 \n",
       "  524.924,1255.44 526.981,1254.08 529.037,1252.72 531.093,1251.36 533.149,1250.01 535.205,1248.65 537.261,1247.29 539.317,1245.93 541.373,1244.57 543.43,1243.21 \n",
       "  545.486,1241.85 547.542,1240.49 549.598,1239.13 551.654,1237.77 553.71,1236.41 555.766,1235.06 557.822,1233.7 559.878,1232.34 561.935,1230.98 563.991,1229.62 \n",
       "  566.047,1228.26 568.103,1226.9 570.159,1225.54 572.215,1224.18 574.271,1222.82 576.327,1221.46 578.384,1220.11 580.44,1218.75 582.496,1217.39 584.552,1216.03 \n",
       "  586.608,1214.67 588.664,1213.31 590.72,1211.95 592.776,1210.59 594.833,1209.23 596.889,1207.87 598.945,1206.51 601.001,1205.16 603.057,1203.8 605.113,1202.44 \n",
       "  607.169,1201.08 609.225,1199.72 611.282,1198.36 613.338,1197 615.394,1195.64 617.45,1194.28 619.506,1192.92 621.562,1191.56 623.618,1190.21 625.674,1188.85 \n",
       "  627.731,1187.49 629.787,1186.13 631.843,1184.77 633.899,1183.41 635.955,1182.05 638.011,1180.69 640.067,1179.33 642.123,1177.97 644.18,1176.61 646.236,1175.26 \n",
       "  648.292,1173.9 650.348,1172.54 652.404,1171.18 654.46,1169.82 656.516,1168.46 658.572,1167.1 660.629,1165.74 662.685,1164.38 664.741,1163.02 666.797,1161.66 \n",
       "  668.853,1160.31 670.909,1158.95 672.965,1157.59 675.021,1156.23 677.077,1154.87 679.134,1153.51 681.19,1152.15 683.246,1150.79 685.302,1149.43 687.358,1148.07 \n",
       "  689.414,1146.71 691.47,1145.35 693.526,1144 695.583,1142.64 697.639,1141.28 699.695,1139.92 701.751,1138.56 703.807,1137.2 705.863,1135.84 707.919,1134.48 \n",
       "  709.975,1133.12 712.032,1131.76 714.088,1130.4 716.144,1129.05 718.2,1127.69 720.256,1126.33 722.312,1124.97 724.368,1123.61 726.424,1122.25 728.481,1120.89 \n",
       "  730.537,1119.53 732.593,1118.17 734.649,1116.81 736.705,1115.45 738.761,1114.1 740.817,1112.74 742.873,1111.38 744.93,1110.02 746.986,1108.66 749.042,1107.3 \n",
       "  751.098,1105.94 753.154,1104.58 755.21,1103.22 757.266,1101.86 759.322,1100.5 761.379,1099.15 763.435,1097.79 765.491,1096.43 767.547,1095.07 769.603,1093.71 \n",
       "  771.659,1092.35 773.715,1090.99 775.771,1089.63 777.828,1088.27 779.884,1086.91 781.94,1085.55 783.996,1084.2 786.052,1082.84 788.108,1081.48 790.164,1080.12 \n",
       "  792.22,1078.76 794.276,1077.4 796.333,1076.04 798.389,1074.68 800.445,1073.32 802.501,1071.96 804.557,1070.6 806.613,1069.25 808.669,1067.89 810.725,1066.53 \n",
       "  812.782,1065.17 814.838,1063.81 816.894,1062.45 818.95,1061.09 821.006,1059.73 823.062,1058.37 825.118,1057.01 827.174,1055.65 829.231,1054.3 831.287,1052.94 \n",
       "  833.343,1051.58 835.399,1050.22 837.455,1048.86 839.511,1047.5 841.567,1046.14 843.623,1044.78 845.68,1043.42 847.736,1042.06 849.792,1040.7 851.848,1039.35 \n",
       "  853.904,1037.99 855.96,1036.63 858.016,1035.27 860.072,1033.91 862.129,1032.55 864.185,1031.19 866.241,1029.83 868.297,1028.47 870.353,1027.11 872.409,1025.75 \n",
       "  874.465,1024.4 876.521,1023.04 878.578,1021.68 880.634,1020.32 882.69,1018.96 884.746,1017.6 886.802,1016.24 888.858,1014.88 890.914,1013.52 892.97,1012.16 \n",
       "  895.027,1010.8 897.083,1009.45 899.139,1008.09 901.195,1006.73 903.251,1005.37 905.307,1004.01 907.363,1002.65 909.419,1001.29 911.475,999.931 913.532,998.572 \n",
       "  915.588,997.213 917.644,995.854 919.7,994.495 921.756,993.136 923.812,991.777 925.868,990.418 927.924,989.059 929.981,987.699 932.037,986.34 934.093,984.981 \n",
       "  936.149,983.622 938.205,982.263 940.261,980.904 942.317,979.545 944.373,978.186 946.43,976.827 948.486,975.468 950.542,974.109 952.598,972.749 954.654,971.39 \n",
       "  956.71,970.031 958.766,968.672 960.822,967.313 962.879,965.954 964.935,964.595 966.991,963.236 969.047,961.877 971.103,960.518 973.159,959.158 975.215,957.799 \n",
       "  977.271,956.44 979.328,955.081 981.384,953.722 983.44,952.363 985.496,951.004 987.552,949.645 989.608,948.286 991.664,946.927 993.72,945.567 995.777,944.208 \n",
       "  997.833,942.849 999.889,941.49 1001.94,940.131 1004,938.772 1006.06,937.413 1008.11,936.054 1010.17,934.695 1012.23,933.336 1014.28,931.976 1016.34,930.617 \n",
       "  1018.39,929.258 1020.45,927.899 1022.51,926.54 1024.56,925.181 1026.62,923.822 1028.67,922.463 1030.73,921.104 1032.79,919.745 1034.84,918.385 1036.9,917.026 \n",
       "  1038.96,915.667 1041.01,914.308 1043.07,912.949 1045.12,911.59 1047.18,910.231 1049.24,908.872 1051.29,907.513 1053.35,906.154 1055.4,904.794 1057.46,903.435 \n",
       "  1059.52,902.076 1061.57,900.717 1063.63,899.358 1065.68,897.999 1067.74,896.64 1069.8,895.281 1071.85,893.922 1073.91,892.563 1075.97,891.203 1078.02,889.844 \n",
       "  1080.08,888.485 1082.13,887.126 1084.19,885.767 1086.25,884.408 1088.3,883.049 1090.36,881.69 1092.41,880.331 1094.47,878.972 1096.53,877.613 1098.58,876.253 \n",
       "  1100.64,874.894 1102.69,873.535 1104.75,872.176 1106.81,870.817 1108.86,869.458 1110.92,868.099 1112.98,866.74 1115.03,865.381 1117.09,864.022 1119.14,862.662 \n",
       "  1121.2,861.303 1123.26,859.944 1125.31,858.585 1127.37,857.226 1129.42,855.867 1131.48,854.508 1133.54,853.149 1135.59,851.79 1137.65,850.431 1139.71,849.071 \n",
       "  1141.76,847.712 1143.82,846.353 1145.87,844.994 1147.93,843.635 1149.99,842.276 1152.04,840.917 1154.1,839.558 1156.15,838.199 1158.21,836.84 1160.27,835.48 \n",
       "  1162.32,834.121 1164.38,832.762 1166.43,831.403 1168.49,830.044 1170.55,828.685 1172.6,827.326 1174.66,825.967 1176.72,824.608 1178.77,823.249 1180.83,821.889 \n",
       "  1182.88,820.53 1184.94,819.171 1187,817.812 1189.05,816.453 1191.11,815.094 1193.16,813.735 1195.22,812.376 1197.28,811.017 1199.33,809.658 1201.39,808.298 \n",
       "  1203.44,806.939 1205.5,805.58 1207.56,804.221 1209.61,802.862 1211.67,801.503 1213.73,800.144 1215.78,798.785 1217.84,797.426 1219.89,796.067 1221.95,794.708 \n",
       "  1224.01,793.348 1226.06,791.989 1228.12,790.63 1230.17,789.271 1232.23,787.912 1234.29,786.553 1236.34,785.194 1238.4,783.835 1240.46,782.476 1242.51,781.117 \n",
       "  1244.57,779.757 1246.62,778.398 1248.68,777.039 1250.74,775.68 1252.79,774.321 1254.85,772.962 1256.9,771.603 1258.96,770.244 1261.02,768.885 1263.07,767.526 \n",
       "  1265.13,766.166 1267.18,764.807 1269.24,763.448 1271.3,762.089 1273.35,760.73 1275.41,759.371 1277.47,758.012 1279.52,756.653 1281.58,755.294 1283.63,753.935 \n",
       "  1285.69,752.575 1287.75,751.216 1289.8,749.857 1291.86,748.498 1293.91,747.139 1295.97,745.78 1298.03,744.421 1300.08,743.062 1302.14,741.703 1304.19,740.344 \n",
       "  1306.25,738.984 1308.31,737.625 1310.36,736.266 1312.42,734.907 1314.48,733.548 1316.53,732.189 1318.59,730.83 1320.64,729.471 1322.7,728.112 1324.76,726.753 \n",
       "  1326.81,725.393 1328.87,724.034 1330.92,722.675 1332.98,721.316 1335.04,719.957 1337.09,718.598 1339.15,717.239 1341.21,715.88 1343.26,714.521 1345.32,713.162 \n",
       "  1347.37,711.802 1349.43,710.443 1351.49,709.084 1353.54,707.725 1355.6,706.366 1357.65,705.007 1359.71,703.648 1361.77,702.289 1363.82,700.93 1365.88,699.571 \n",
       "  1367.93,698.212 1369.99,696.852 1372.05,695.493 1374.1,694.134 1376.16,692.775 1378.22,691.416 1380.27,690.057 1382.33,688.698 1384.38,687.339 1386.44,685.98 \n",
       "  1388.5,684.621 1390.55,683.261 1392.61,681.902 1394.66,680.543 1396.72,679.184 1398.78,677.825 1400.83,676.466 1402.89,675.107 1404.94,673.748 1407,672.389 \n",
       "  1409.06,671.03 1411.11,669.67 1413.17,668.311 1415.23,666.952 1417.28,665.593 1419.34,664.234 1421.39,662.875 1423.45,661.516 1425.51,660.157 1427.56,658.798 \n",
       "  1429.62,657.439 1431.67,656.079 1433.73,654.72 1435.79,653.361 1437.84,652.002 1439.9,650.643 1441.96,649.284 1444.01,647.925 1446.07,646.566 1448.12,645.207 \n",
       "  1450.18,643.848 1452.24,642.488 1454.29,641.129 1456.35,639.77 1458.4,638.411 1460.46,637.052 1462.52,635.693 1464.57,634.334 1466.63,632.975 1468.68,631.616 \n",
       "  1470.74,630.257 1472.8,628.897 1474.85,627.538 1476.91,626.179 1478.97,624.82 1481.02,623.461 1483.08,622.102 1485.13,620.743 1487.19,619.384 1489.25,618.025 \n",
       "  1491.3,616.666 1493.36,615.307 1495.41,613.947 1497.47,612.588 1499.53,611.229 1501.58,609.87 1503.64,608.511 1505.69,607.152 1507.75,605.793 1509.81,604.434 \n",
       "  1511.86,603.075 1513.92,601.716 1515.98,600.356 1518.03,598.997 1520.09,597.638 1522.14,596.279 1524.2,594.92 1526.26,593.561 1528.31,592.202 1530.37,590.843 \n",
       "  1532.42,589.484 1534.48,588.125 1536.54,586.765 1538.59,585.406 1540.65,584.047 1542.71,582.688 1544.76,581.329 1546.82,579.97 1548.87,578.611 1550.93,577.252 \n",
       "  1552.99,575.893 1555.04,574.534 1557.1,573.174 1559.15,571.815 1561.21,570.456 1563.27,569.097 1565.32,567.738 1567.38,566.379 1569.43,565.02 1571.49,563.661 \n",
       "  1573.55,562.302 1575.6,560.943 1577.66,559.583 1579.72,558.224 1581.77,556.865 1583.83,555.506 1585.88,554.147 1587.94,552.788 1590,551.429 1592.05,550.07 \n",
       "  1594.11,548.711 1596.16,547.352 1598.22,545.992 1600.28,544.633 1602.33,543.274 1604.39,541.915 1606.45,540.556 1608.5,539.197 1610.56,537.838 1612.61,536.479 \n",
       "  1614.67,535.12 1616.73,533.761 1618.78,532.401 1620.84,531.042 1622.89,529.683 1624.95,528.324 1627.01,526.965 1629.06,525.606 1631.12,524.247 1633.17,522.888 \n",
       "  1635.23,521.529 1637.29,520.17 1639.34,518.811 1641.4,517.451 1643.46,516.092 1645.51,514.733 1647.57,513.374 1649.62,512.015 1651.68,510.656 1653.74,509.297 \n",
       "  1655.79,507.938 1657.85,506.579 1659.9,505.22 1661.96,503.86 1664.02,502.501 1666.07,501.142 1668.13,499.783 1670.18,498.424 1672.24,497.065 1674.3,495.706 \n",
       "  1676.35,494.347 1678.41,492.988 1680.47,491.629 1682.52,490.269 1684.58,488.91 1686.63,487.551 1688.69,486.192 1690.75,484.833 1692.8,483.474 1694.86,482.115 \n",
       "  1696.91,480.756 1698.97,479.397 1701.03,478.038 1703.08,476.678 1705.14,475.319 1707.2,473.96 1709.25,472.601 1711.31,471.242 1713.36,469.883 1715.42,468.524 \n",
       "  1717.48,467.165 1719.53,465.806 1721.59,464.447 1723.64,463.087 1725.7,461.728 1727.76,460.369 1729.81,459.01 1731.87,457.651 1733.92,456.292 1735.98,454.933 \n",
       "  1738.04,453.574 1740.09,452.215 1742.15,450.856 1744.21,449.496 1746.26,448.137 1748.32,446.778 1750.37,445.419 1752.43,444.06 1754.49,442.701 1756.54,441.342 \n",
       "  1758.6,439.983 1760.65,438.624 1762.71,437.265 1764.77,435.905 1766.82,434.546 1768.88,433.187 1770.93,431.828 1772.99,430.469 1775.05,429.11 1777.1,427.751 \n",
       "  1779.16,426.392 1781.22,425.033 1783.27,423.674 1785.33,422.315 1787.38,420.955 1789.44,419.596 1791.5,418.237 1793.55,416.878 1795.61,415.519 1797.66,414.16 \n",
       "  1799.72,412.801 1801.78,411.442 1803.83,410.083 1805.89,408.724 1807.95,407.364 1810,406.005 1812.06,404.646 1814.11,403.287 1816.17,401.928 1818.23,400.569 \n",
       "  1820.28,399.21 1822.34,397.851 1824.39,396.492 1826.45,395.133 1828.51,393.773 1830.56,392.414 1832.62,391.055 1834.67,389.696 1836.73,388.337 1838.79,386.978 \n",
       "  1840.84,385.619 1842.9,384.26 1844.96,382.901 1847.01,381.542 1849.07,380.182 1851.12,378.823 1853.18,377.464 1855.24,376.105 1857.29,374.746 1859.35,373.387 \n",
       "  1861.4,372.028 1863.46,370.669 1865.52,369.31 1867.57,367.951 1869.63,366.591 1871.68,365.232 1873.74,363.873 1875.8,362.514 1877.85,361.155 1879.91,359.796 \n",
       "  1881.97,358.437 1884.02,357.078 1886.08,355.719 1888.13,354.36 1890.19,353 1892.25,351.641 1894.3,350.282 1896.36,348.923 1898.41,347.564 1900.47,346.205 \n",
       "  1902.53,344.846 1904.58,343.487 1906.64,342.128 1908.7,340.769 1910.75,339.41 1912.81,338.05 1914.86,336.691 1916.92,335.332 1918.98,333.973 1921.03,332.614 \n",
       "  1923.09,331.255 1925.14,329.896 1927.2,328.537 1929.26,327.178 1931.31,325.819 1933.37,324.459 1935.42,323.1 1937.48,321.741 1939.54,320.382 1941.59,319.023 \n",
       "  1943.65,317.664 1945.71,316.305 1947.76,314.946 1949.82,313.587 1951.87,312.228 1953.93,310.868 1955.99,309.509 1958.04,308.15 1960.1,306.791 1962.15,305.432 \n",
       "  1964.21,304.073 1966.27,302.714 1968.32,301.355 1970.38,299.996 1972.43,298.637 1974.49,297.277 1976.55,295.918 1978.6,294.559 1980.66,293.2 1982.72,291.841 \n",
       "  1984.77,290.482 1986.83,289.123 1988.88,287.764 1990.94,286.405 1993,285.046 1995.05,283.686 1997.11,282.327 1999.16,280.968 2001.22,279.609 2003.28,278.25 \n",
       "  2005.33,276.891 2007.39,275.532 2009.45,274.173 2011.5,272.814 2013.56,271.455 2015.61,270.095 2017.67,268.736 2019.73,267.377 2021.78,266.018 2023.84,264.659 \n",
       "  2025.89,263.3 2027.95,261.941 2030.01,260.582 2032.06,259.223 2034.12,257.864 2036.17,256.504 2038.23,255.145 2040.29,253.786 2042.34,252.427 2044.4,251.068 \n",
       "  2046.46,249.709 2048.51,248.35 2050.57,246.991 2052.62,245.632 2054.68,244.273 2056.74,242.914 2058.79,241.554 2060.85,240.195 2062.9,238.836 2064.96,237.477 \n",
       "  2067.02,236.118 2069.07,234.759 2071.13,233.4 2073.18,232.041 2075.24,230.682 2077.3,229.323 2079.35,227.963 2081.41,226.604 2083.47,225.245 2085.52,223.886 \n",
       "  2087.58,222.527 2089.63,221.168 2091.69,219.809 2093.75,218.45 2095.8,217.091 2097.86,215.732 2099.91,214.372 2101.97,213.013 2104.03,211.654 2106.08,210.295 \n",
       "  2108.14,208.936 2110.2,207.577 2112.25,206.218 2114.31,204.859 2116.36,203.5 2118.42,202.141 2120.48,200.781 2122.53,199.422 2124.59,198.063 2126.64,196.704 \n",
       "  2128.7,195.345 2130.76,193.986 2132.81,192.627 2134.87,191.268 2136.92,189.909 2138.98,188.55 2141.04,187.19 2143.09,185.831 2145.15,184.472 2147.21,183.113 \n",
       "  2149.26,181.754 2151.32,180.395 2153.37,179.036 2155.43,177.677 2157.49,176.318 2159.54,174.959 2161.6,173.599 2163.65,172.24 2165.71,170.881 2167.77,169.522 \n",
       "  2169.82,168.163 2171.88,166.804 2173.93,165.445 2175.99,164.086 2178.05,162.727 2180.1,161.368 2182.16,160.008 2184.22,158.649 2186.27,157.29 2188.33,155.931 \n",
       "  2190.38,154.572 2192.44,153.213 2194.5,151.854 2196.55,150.495 2198.61,149.136 2200.66,147.777 2202.72,146.418 2204.78,145.058 2206.83,143.699 2208.89,142.34 \n",
       "  2210.95,140.981 2213,139.622 2215.06,138.263 2217.11,136.904 2219.17,135.545 2221.23,134.186 2223.28,132.827 2225.34,131.467 2227.39,130.108 2229.45,128.749 \n",
       "  2231.51,127.39 2233.56,126.031 2235.62,124.672 2237.67,123.313 2239.73,121.954 2241.79,120.595 2243.84,119.236 2245.9,117.876 2247.96,116.517 2250.01,115.158 \n",
       "  2252.07,113.799 2254.12,112.44 2256.18,111.081 2258.24,109.722 2260.29,108.363 2262.35,107.004 2264.4,105.645 2266.46,104.285 2268.52,102.926 2270.57,101.567 \n",
       "  2272.63,100.208 2274.68,98.8491 2276.74,97.49 2278.8,96.1309 2280.85,94.7718 2282.91,93.4127 2284.97,92.0536 2287.02,90.6945 2289.08,89.3354 2291.13,87.9763 \n",
       "  \n",
       "  \"/>\n",
       "<path clip-path=\"url(#clip280)\" d=\"\n",
       "M1987.24 216.178 L2280.18 216.178 L2280.18 95.2176 L1987.24 95.2176  Z\n",
       "  \" fill=\"#ffffff\" fill-rule=\"evenodd\" fill-opacity=\"1\"/>\n",
       "<polyline clip-path=\"url(#clip280)\" style=\"stroke:#000000; stroke-width:4; stroke-opacity:1; fill:none\" points=\"\n",
       "  1987.24,216.178 2280.18,216.178 2280.18,95.2176 1987.24,95.2176 1987.24,216.178 \n",
       "  \"/>\n",
       "<polyline clip-path=\"url(#clip280)\" style=\"stroke:#009af9; stroke-width:4; stroke-opacity:1; fill:none\" points=\"\n",
       "  2011.43,155.698 2156.58,155.698 \n",
       "  \"/>\n",
       "<path clip-path=\"url(#clip280)\" d=\"M 0 0 M2194.62 175.385 Q2192.81 180.015 2191.1 181.427 Q2189.39 182.839 2186.52 182.839 L2183.11 182.839 L2183.11 179.274 L2185.61 179.274 Q2187.37 179.274 2188.35 178.44 Q2189.32 177.607 2190.5 174.505 L2191.26 172.561 L2180.78 147.052 L2185.29 147.052 L2193.39 167.329 L2201.49 147.052 L2206.01 147.052 L2194.62 175.385 Z\" fill=\"#000000\" fill-rule=\"evenodd\" fill-opacity=\"1\" /><path clip-path=\"url(#clip280)\" d=\"M 0 0 M2211.89 169.042 L2219.53 169.042 L2219.53 142.677 L2211.22 144.343 L2211.22 140.084 L2219.48 138.418 L2224.16 138.418 L2224.16 169.042 L2231.79 169.042 L2231.79 172.978 L2211.89 172.978 L2211.89 169.042 Z\" fill=\"#000000\" fill-rule=\"evenodd\" fill-opacity=\"1\" /></svg>\n"
      ]
     },
     "execution_count": 52,
     "metadata": {},
     "output_type": "execute_result"
    }
   ],
   "source": [
    "I_result = run_infection(1000)\n",
    "\n",
    "plot(log10.(I_result)) # log of each element in I_result\n",
    "ylabel!(\"log(I_n)\")"
   ]
  },
  {
   "cell_type": "markdown",
   "metadata": {},
   "source": [
    "$\\log(I_n) = a n + b$"
   ]
  },
  {
   "cell_type": "markdown",
   "metadata": {},
   "source": [
    "Take exponentials of 10 of both sides:"
   ]
  },
  {
   "cell_type": "markdown",
   "metadata": {},
   "source": [
    "$I_n = \\exp(an + b) = C e^{an}$"
   ]
  },
  {
   "cell_type": "markdown",
   "metadata": {},
   "source": [
    "Solve $I_{n+1} = \\lambda I_n$:"
   ]
  },
  {
   "cell_type": "markdown",
   "metadata": {},
   "source": [
    "$I_n = \\lambda^n I_0$"
   ]
  },
  {
   "cell_type": "markdown",
   "metadata": {},
   "source": [
    "$\\log(\\lambda^n) = n \\log(\\lambda)$"
   ]
  },
  {
   "cell_type": "markdown",
   "metadata": {},
   "source": [
    "## Logistic Growth"
   ]
  },
  {
   "cell_type": "markdown",
   "metadata": {},
   "source": [
    "> Exponential growth is unrealistic: Assumes that there are always more people to infect &rarr; wrong (finite population)."
   ]
  },
  {
   "cell_type": "markdown",
   "metadata": {},
   "source": [
    "$I_{n+1} = I_n + c I_n$"
   ]
  },
  {
   "cell_type": "markdown",
   "metadata": {},
   "source": [
    "Each individual will be in contact with a fraction $\\alpha$ of the population. At each contact whtere will be a probability $p$ that you infect each person.\n",
    "\n",
    "So $c = p \\alpha$"
   ]
  },
  {
   "cell_type": "markdown",
   "metadata": {},
   "source": [
    "Original model:\n",
    " \n",
    "$I_{n+1} = I_n + (p \\alpha N) I_n$ &rarr; good approxiamtion when almost everybody still susceptible"
   ]
  },
  {
   "cell_type": "markdown",
   "metadata": {},
   "source": [
    "New model:\n",
    " \n",
    "Can only infect uninfected people!"
   ]
  },
  {
   "cell_type": "markdown",
   "metadata": {},
   "source": [
    "$I_{n+1} = I_n + (p \\alpha S_n) I_n$"
   ]
  },
  {
   "cell_type": "markdown",
   "metadata": {},
   "source": [
    "$I_{n+1} = I_n + [p \\alpha (N - I_n)] I_n = f(I_n)$\n",
    "\n",
    "\n",
    "$I_{n+1} = I_n + \\beta(I_n,S_n) I_n = f(I_n)$ &rarr; $\\beta$ is the rate of contact"
   ]
  },
  {
   "cell_type": "code",
   "execution_count": 74,
   "metadata": {},
   "outputs": [
    {
     "data": {
      "text/plain": [
       "run_infection (generic function with 2 methods)"
      ]
     },
     "execution_count": 74,
     "metadata": {},
     "output_type": "execute_result"
    }
   ],
   "source": [
    "p = 0.02\n",
    "α = 0.01\n",
    "N = 1000\n",
    "\n",
    "β(I,S) = p * α * (N - I)\n",
    "\n",
    "function run_infection(T=20)    \n",
    "    \n",
    "    I = zeros(T)\n",
    "    I[1] = I₀\n",
    "    \n",
    "    for n in 1:T-1\n",
    "        I[n+1] = I[n] + β(I[n], N - I[n]) * I[n]\n",
    "    end\n",
    "    \n",
    "    return I\n",
    "end"
   ]
  },
  {
   "cell_type": "code",
   "execution_count": 75,
   "metadata": {},
   "outputs": [
    {
     "data": {
      "text/plain": [
       "20-element Vector{Float64}:\n",
       "  1.0\n",
       "  1.1998\n",
       "  1.439472095992\n",
       "  1.7269520992073721\n",
       "  2.071746046338255\n",
       "  2.4852368292698026\n",
       "  2.9810489147042514\n",
       "  3.57548136711873\n",
       "  4.288020827141153\n",
       "  5.141947568046585\n",
       "  6.165049156697394\n",
       "  7.390457421815974\n",
       "  8.857625133998434\n",
       " 10.613458656195233\n",
       " 12.713621286504926\n",
       " 15.224018310562577\n",
       " 18.222467825971023\n",
       " 21.80054972443152\n",
       " 26.065606875660343\n",
       " 31.14284507843312"
      ]
     },
     "execution_count": 75,
     "metadata": {},
     "output_type": "execute_result"
    }
   ],
   "source": [
    "I = run_infection(20)"
   ]
  },
  {
   "cell_type": "code",
   "execution_count": 77,
   "metadata": {},
   "outputs": [
    {
     "data": {
      "image/svg+xml": [
       "<?xml version=\"1.0\" encoding=\"utf-8\"?>\n",
       "<svg xmlns=\"http://www.w3.org/2000/svg\" xmlns:xlink=\"http://www.w3.org/1999/xlink\" width=\"600\" height=\"400\" viewBox=\"0 0 2400 1600\">\n",
       "<defs>\n",
       "  <clipPath id=\"clip520\">\n",
       "    <rect x=\"0\" y=\"0\" width=\"2400\" height=\"1600\"/>\n",
       "  </clipPath>\n",
       "</defs>\n",
       "<path clip-path=\"url(#clip520)\" d=\"\n",
       "M0 1600 L2400 1600 L2400 0 L0 0  Z\n",
       "  \" fill=\"#ffffff\" fill-rule=\"evenodd\" fill-opacity=\"1\"/>\n",
       "<defs>\n",
       "  <clipPath id=\"clip521\">\n",
       "    <rect x=\"480\" y=\"0\" width=\"1681\" height=\"1600\"/>\n",
       "  </clipPath>\n",
       "</defs>\n",
       "<path clip-path=\"url(#clip520)\" d=\"\n",
       "M136.76 1486.45 L2352.76 1486.45 L2352.76 47.2441 L136.76 47.2441  Z\n",
       "  \" fill=\"#ffffff\" fill-rule=\"evenodd\" fill-opacity=\"1\"/>\n",
       "<defs>\n",
       "  <clipPath id=\"clip522\">\n",
       "    <rect x=\"136\" y=\"47\" width=\"2217\" height=\"1440\"/>\n",
       "  </clipPath>\n",
       "</defs>\n",
       "<polyline clip-path=\"url(#clip522)\" style=\"stroke:#000000; stroke-width:2; stroke-opacity:0.1; fill:none\" points=\"\n",
       "  639.596,1486.45 639.596,47.2441 \n",
       "  \"/>\n",
       "<polyline clip-path=\"url(#clip522)\" style=\"stroke:#000000; stroke-width:2; stroke-opacity:0.1; fill:none\" points=\"\n",
       "  1189.74,1486.45 1189.74,47.2441 \n",
       "  \"/>\n",
       "<polyline clip-path=\"url(#clip522)\" style=\"stroke:#000000; stroke-width:2; stroke-opacity:0.1; fill:none\" points=\"\n",
       "  1739.89,1486.45 1739.89,47.2441 \n",
       "  \"/>\n",
       "<polyline clip-path=\"url(#clip522)\" style=\"stroke:#000000; stroke-width:2; stroke-opacity:0.1; fill:none\" points=\"\n",
       "  2290.04,1486.45 2290.04,47.2441 \n",
       "  \"/>\n",
       "<polyline clip-path=\"url(#clip520)\" style=\"stroke:#000000; stroke-width:4; stroke-opacity:1; fill:none\" points=\"\n",
       "  136.76,1486.45 2352.76,1486.45 \n",
       "  \"/>\n",
       "<polyline clip-path=\"url(#clip520)\" style=\"stroke:#000000; stroke-width:4; stroke-opacity:1; fill:none\" points=\"\n",
       "  639.596,1486.45 639.596,1469.18 \n",
       "  \"/>\n",
       "<polyline clip-path=\"url(#clip520)\" style=\"stroke:#000000; stroke-width:4; stroke-opacity:1; fill:none\" points=\"\n",
       "  1189.74,1486.45 1189.74,1469.18 \n",
       "  \"/>\n",
       "<polyline clip-path=\"url(#clip520)\" style=\"stroke:#000000; stroke-width:4; stroke-opacity:1; fill:none\" points=\"\n",
       "  1739.89,1486.45 1739.89,1469.18 \n",
       "  \"/>\n",
       "<polyline clip-path=\"url(#clip520)\" style=\"stroke:#000000; stroke-width:4; stroke-opacity:1; fill:none\" points=\"\n",
       "  2290.04,1486.45 2290.04,1469.18 \n",
       "  \"/>\n",
       "<path clip-path=\"url(#clip520)\" d=\"M 0 0 M629.873 1512.56 L648.23 1512.56 L648.23 1516.5 L634.156 1516.5 L634.156 1524.97 Q635.174 1524.62 636.193 1524.46 Q637.211 1524.27 638.23 1524.27 Q644.017 1524.27 647.396 1527.44 Q650.776 1530.62 650.776 1536.03 Q650.776 1541.61 647.304 1544.71 Q643.832 1547.79 637.512 1547.79 Q635.336 1547.79 633.068 1547.42 Q630.822 1547.05 628.415 1546.31 L628.415 1541.61 Q630.498 1542.74 632.721 1543.3 Q634.943 1543.86 637.42 1543.86 Q641.424 1543.86 643.762 1541.75 Q646.1 1539.64 646.1 1536.03 Q646.1 1532.42 643.762 1530.31 Q641.424 1528.21 637.42 1528.21 Q635.545 1528.21 633.67 1528.62 Q631.818 1529.04 629.873 1529.92 L629.873 1512.56 Z\" fill=\"#000000\" fill-rule=\"evenodd\" fill-opacity=\"1\" /><path clip-path=\"url(#clip520)\" d=\"M 0 0 M1166.62 1543.18 L1174.26 1543.18 L1174.26 1516.82 L1165.95 1518.49 L1165.95 1514.23 L1174.21 1512.56 L1178.89 1512.56 L1178.89 1543.18 L1186.53 1543.18 L1186.53 1547.12 L1166.62 1547.12 L1166.62 1543.18 Z\" fill=\"#000000\" fill-rule=\"evenodd\" fill-opacity=\"1\" /><path clip-path=\"url(#clip520)\" d=\"M 0 0 M1201.6 1515.64 Q1197.98 1515.64 1196.16 1519.2 Q1194.35 1522.75 1194.35 1529.87 Q1194.35 1536.98 1196.16 1540.55 Q1197.98 1544.09 1201.6 1544.09 Q1205.23 1544.09 1207.03 1540.55 Q1208.86 1536.98 1208.86 1529.87 Q1208.86 1522.75 1207.03 1519.2 Q1205.23 1515.64 1201.6 1515.64 M1201.6 1511.93 Q1207.41 1511.93 1210.46 1516.54 Q1213.54 1521.12 1213.54 1529.87 Q1213.54 1538.6 1210.46 1543.21 Q1207.41 1547.79 1201.6 1547.79 Q1195.78 1547.79 1192.71 1543.21 Q1189.65 1538.6 1189.65 1529.87 Q1189.65 1521.12 1192.71 1516.54 Q1195.78 1511.93 1201.6 1511.93 Z\" fill=\"#000000\" fill-rule=\"evenodd\" fill-opacity=\"1\" /><path clip-path=\"url(#clip520)\" d=\"M 0 0 M1717.26 1543.18 L1724.9 1543.18 L1724.9 1516.82 L1716.59 1518.49 L1716.59 1514.23 L1724.86 1512.56 L1729.53 1512.56 L1729.53 1543.18 L1737.17 1543.18 L1737.17 1547.12 L1717.26 1547.12 L1717.26 1543.18 Z\" fill=\"#000000\" fill-rule=\"evenodd\" fill-opacity=\"1\" /><path clip-path=\"url(#clip520)\" d=\"M 0 0 M1742.29 1512.56 L1760.64 1512.56 L1760.64 1516.5 L1746.57 1516.5 L1746.57 1524.97 Q1747.59 1524.62 1748.61 1524.46 Q1749.62 1524.27 1750.64 1524.27 Q1756.43 1524.27 1759.81 1527.44 Q1763.19 1530.62 1763.19 1536.03 Q1763.19 1541.61 1759.72 1544.71 Q1756.25 1547.79 1749.93 1547.79 Q1747.75 1547.79 1745.48 1547.42 Q1743.24 1547.05 1740.83 1546.31 L1740.83 1541.61 Q1742.91 1542.74 1745.13 1543.3 Q1747.36 1543.86 1749.83 1543.86 Q1753.84 1543.86 1756.18 1541.75 Q1758.51 1539.64 1758.51 1536.03 Q1758.51 1532.42 1756.18 1530.31 Q1753.84 1528.21 1749.83 1528.21 Q1747.96 1528.21 1746.08 1528.62 Q1744.23 1529.04 1742.29 1529.92 L1742.29 1512.56 Z\" fill=\"#000000\" fill-rule=\"evenodd\" fill-opacity=\"1\" /><path clip-path=\"url(#clip520)\" d=\"M 0 0 M2271.18 1543.18 L2287.5 1543.18 L2287.5 1547.12 L2265.56 1547.12 L2265.56 1543.18 Q2268.22 1540.43 2272.81 1535.8 Q2277.41 1531.15 2278.59 1529.81 Q2280.84 1527.28 2281.72 1525.55 Q2282.62 1523.79 2282.62 1522.1 Q2282.62 1519.34 2280.68 1517.61 Q2278.75 1515.87 2275.65 1515.87 Q2273.45 1515.87 2271 1516.63 Q2268.57 1517.4 2265.79 1518.95 L2265.79 1514.23 Q2268.62 1513.09 2271.07 1512.51 Q2273.52 1511.93 2275.56 1511.93 Q2280.93 1511.93 2284.12 1514.62 Q2287.32 1517.31 2287.32 1521.8 Q2287.32 1523.93 2286.51 1525.85 Q2285.72 1527.74 2283.62 1530.34 Q2283.04 1531.01 2279.93 1534.23 Q2276.83 1537.42 2271.18 1543.18 Z\" fill=\"#000000\" fill-rule=\"evenodd\" fill-opacity=\"1\" /><path clip-path=\"url(#clip520)\" d=\"M 0 0 M2302.57 1515.64 Q2298.96 1515.64 2297.13 1519.2 Q2295.33 1522.75 2295.33 1529.87 Q2295.33 1536.98 2297.13 1540.55 Q2298.96 1544.09 2302.57 1544.09 Q2306.21 1544.09 2308.01 1540.55 Q2309.84 1536.98 2309.84 1529.87 Q2309.84 1522.75 2308.01 1519.2 Q2306.21 1515.64 2302.57 1515.64 M2302.57 1511.93 Q2308.38 1511.93 2311.44 1516.54 Q2314.52 1521.12 2314.52 1529.87 Q2314.52 1538.6 2311.44 1543.21 Q2308.38 1547.79 2302.57 1547.79 Q2296.76 1547.79 2293.68 1543.21 Q2290.63 1538.6 2290.63 1529.87 Q2290.63 1521.12 2293.68 1516.54 Q2296.76 1511.93 2302.57 1511.93 Z\" fill=\"#000000\" fill-rule=\"evenodd\" fill-opacity=\"1\" /><polyline clip-path=\"url(#clip522)\" style=\"stroke:#000000; stroke-width:2; stroke-opacity:0.1; fill:none\" points=\"\n",
       "  136.76,1265.54 2352.76,1265.54 \n",
       "  \"/>\n",
       "<polyline clip-path=\"url(#clip522)\" style=\"stroke:#000000; stroke-width:2; stroke-opacity:0.1; fill:none\" points=\"\n",
       "  136.76,1040.32 2352.76,1040.32 \n",
       "  \"/>\n",
       "<polyline clip-path=\"url(#clip522)\" style=\"stroke:#000000; stroke-width:2; stroke-opacity:0.1; fill:none\" points=\"\n",
       "  136.76,815.107 2352.76,815.107 \n",
       "  \"/>\n",
       "<polyline clip-path=\"url(#clip522)\" style=\"stroke:#000000; stroke-width:2; stroke-opacity:0.1; fill:none\" points=\"\n",
       "  136.76,589.889 2352.76,589.889 \n",
       "  \"/>\n",
       "<polyline clip-path=\"url(#clip522)\" style=\"stroke:#000000; stroke-width:2; stroke-opacity:0.1; fill:none\" points=\"\n",
       "  136.76,364.672 2352.76,364.672 \n",
       "  \"/>\n",
       "<polyline clip-path=\"url(#clip522)\" style=\"stroke:#000000; stroke-width:2; stroke-opacity:0.1; fill:none\" points=\"\n",
       "  136.76,139.454 2352.76,139.454 \n",
       "  \"/>\n",
       "<polyline clip-path=\"url(#clip520)\" style=\"stroke:#000000; stroke-width:4; stroke-opacity:1; fill:none\" points=\"\n",
       "  136.76,1486.45 136.76,47.2441 \n",
       "  \"/>\n",
       "<polyline clip-path=\"url(#clip520)\" style=\"stroke:#000000; stroke-width:4; stroke-opacity:1; fill:none\" points=\"\n",
       "  136.76,1265.54 163.352,1265.54 \n",
       "  \"/>\n",
       "<polyline clip-path=\"url(#clip520)\" style=\"stroke:#000000; stroke-width:4; stroke-opacity:1; fill:none\" points=\"\n",
       "  136.76,1040.32 163.352,1040.32 \n",
       "  \"/>\n",
       "<polyline clip-path=\"url(#clip520)\" style=\"stroke:#000000; stroke-width:4; stroke-opacity:1; fill:none\" points=\"\n",
       "  136.76,815.107 163.352,815.107 \n",
       "  \"/>\n",
       "<polyline clip-path=\"url(#clip520)\" style=\"stroke:#000000; stroke-width:4; stroke-opacity:1; fill:none\" points=\"\n",
       "  136.76,589.889 163.352,589.889 \n",
       "  \"/>\n",
       "<polyline clip-path=\"url(#clip520)\" style=\"stroke:#000000; stroke-width:4; stroke-opacity:1; fill:none\" points=\"\n",
       "  136.76,364.672 163.352,364.672 \n",
       "  \"/>\n",
       "<polyline clip-path=\"url(#clip520)\" style=\"stroke:#000000; stroke-width:4; stroke-opacity:1; fill:none\" points=\"\n",
       "  136.76,139.454 163.352,139.454 \n",
       "  \"/>\n",
       "<path clip-path=\"url(#clip520)\" d=\"M 0 0 M79.8577 1248.26 L98.2141 1248.26 L98.2141 1252.2 L84.1401 1252.2 L84.1401 1260.67 Q85.1586 1260.32 86.1771 1260.16 Q87.1956 1259.97 88.2141 1259.97 Q94.0012 1259.97 97.3808 1263.15 Q100.76 1266.32 100.76 1271.73 Q100.76 1277.31 97.2882 1280.41 Q93.816 1283.49 87.4966 1283.49 Q85.3206 1283.49 83.0521 1283.12 Q80.8068 1282.75 78.3994 1282.01 L78.3994 1277.31 Q80.4827 1278.45 82.7049 1279 Q84.9271 1279.56 87.404 1279.56 Q91.4086 1279.56 93.7465 1277.45 Q96.0845 1275.34 96.0845 1271.73 Q96.0845 1268.12 93.7465 1266.02 Q91.4086 1263.91 87.404 1263.91 Q85.529 1263.91 83.654 1264.33 Q81.8021 1264.74 79.8577 1265.62 L79.8577 1248.26 Z\" fill=\"#000000\" fill-rule=\"evenodd\" fill-opacity=\"1\" /><path clip-path=\"url(#clip520)\" d=\"M 0 0 M53.8393 1053.67 L61.4782 1053.67 L61.4782 1027.3 L53.168 1028.97 L53.168 1024.71 L61.4319 1023.04 L66.1078 1023.04 L66.1078 1053.67 L73.7466 1053.67 L73.7466 1057.6 L53.8393 1057.6 L53.8393 1053.67 Z\" fill=\"#000000\" fill-rule=\"evenodd\" fill-opacity=\"1\" /><path clip-path=\"url(#clip520)\" d=\"M 0 0 M88.816 1026.12 Q85.2049 1026.12 83.3762 1029.69 Q81.5707 1033.23 81.5707 1040.36 Q81.5707 1047.47 83.3762 1051.03 Q85.2049 1054.57 88.816 1054.57 Q92.4502 1054.57 94.2558 1051.03 Q96.0845 1047.47 96.0845 1040.36 Q96.0845 1033.23 94.2558 1029.69 Q92.4502 1026.12 88.816 1026.12 M88.816 1022.42 Q94.6262 1022.42 97.6817 1027.03 Q100.76 1031.61 100.76 1040.36 Q100.76 1049.09 97.6817 1053.69 Q94.6262 1058.28 88.816 1058.28 Q83.0058 1058.28 79.9272 1053.69 Q76.8716 1049.09 76.8716 1040.36 Q76.8716 1031.61 79.9272 1027.03 Q83.0058 1022.42 88.816 1022.42 Z\" fill=\"#000000\" fill-rule=\"evenodd\" fill-opacity=\"1\" /><path clip-path=\"url(#clip520)\" d=\"M 0 0 M54.8347 828.451 L62.4735 828.451 L62.4735 802.086 L54.1634 803.753 L54.1634 799.493 L62.4272 797.827 L67.1032 797.827 L67.1032 828.451 L74.742 828.451 L74.742 832.387 L54.8347 832.387 L54.8347 828.451 Z\" fill=\"#000000\" fill-rule=\"evenodd\" fill-opacity=\"1\" /><path clip-path=\"url(#clip520)\" d=\"M 0 0 M79.8577 797.827 L98.2141 797.827 L98.2141 801.762 L84.1401 801.762 L84.1401 810.234 Q85.1586 809.887 86.1771 809.725 Q87.1956 809.54 88.2141 809.54 Q94.0012 809.54 97.3808 812.711 Q100.76 815.882 100.76 821.299 Q100.76 826.877 97.2882 829.979 Q93.816 833.058 87.4966 833.058 Q85.3206 833.058 83.0521 832.688 Q80.8068 832.317 78.3994 831.576 L78.3994 826.877 Q80.4827 828.012 82.7049 828.567 Q84.9271 829.123 87.404 829.123 Q91.4086 829.123 93.7465 827.016 Q96.0845 824.91 96.0845 821.299 Q96.0845 817.688 93.7465 815.581 Q91.4086 813.475 87.404 813.475 Q85.529 813.475 83.654 813.891 Q81.8021 814.308 79.8577 815.188 L79.8577 797.827 Z\" fill=\"#000000\" fill-rule=\"evenodd\" fill-opacity=\"1\" /><path clip-path=\"url(#clip520)\" d=\"M 0 0 M57.4273 603.234 L73.7466 603.234 L73.7466 607.169 L51.8023 607.169 L51.8023 603.234 Q54.4643 600.479 59.0476 595.85 Q63.6541 591.197 64.8346 589.854 Q67.08 587.331 67.9596 585.595 Q68.8624 583.836 68.8624 582.146 Q68.8624 579.391 66.918 577.655 Q64.9967 575.919 61.8948 575.919 Q59.6958 575.919 57.2421 576.683 Q54.8115 577.447 52.0338 578.998 L52.0338 574.276 Q54.8578 573.141 57.3115 572.563 Q59.7652 571.984 61.8023 571.984 Q67.1726 571.984 70.367 574.669 Q73.5614 577.354 73.5614 581.845 Q73.5614 583.975 72.7513 585.896 Q71.9642 587.794 69.8578 590.387 Q69.2791 591.058 66.1772 594.276 Q63.0754 597.47 57.4273 603.234 Z\" fill=\"#000000\" fill-rule=\"evenodd\" fill-opacity=\"1\" /><path clip-path=\"url(#clip520)\" d=\"M 0 0 M88.816 575.688 Q85.2049 575.688 83.3762 579.253 Q81.5707 582.794 81.5707 589.924 Q81.5707 597.03 83.3762 600.595 Q85.2049 604.137 88.816 604.137 Q92.4502 604.137 94.2558 600.595 Q96.0845 597.03 96.0845 589.924 Q96.0845 582.794 94.2558 579.253 Q92.4502 575.688 88.816 575.688 M88.816 571.984 Q94.6262 571.984 97.6817 576.591 Q100.76 581.174 100.76 589.924 Q100.76 598.651 97.6817 603.257 Q94.6262 607.84 88.816 607.84 Q83.0058 607.84 79.9272 603.257 Q76.8716 598.651 76.8716 589.924 Q76.8716 581.174 79.9272 576.591 Q83.0058 571.984 88.816 571.984 Z\" fill=\"#000000\" fill-rule=\"evenodd\" fill-opacity=\"1\" /><path clip-path=\"url(#clip520)\" d=\"M 0 0 M58.4226 378.016 L74.742 378.016 L74.742 381.952 L52.7977 381.952 L52.7977 378.016 Q55.4597 375.262 60.043 370.632 Q64.6495 365.979 65.83 364.637 Q68.0754 362.114 68.955 360.378 Q69.8578 358.618 69.8578 356.929 Q69.8578 354.174 67.9133 352.438 Q65.992 350.702 62.8902 350.702 Q60.6911 350.702 58.2375 351.466 Q55.8069 352.229 53.0292 353.78 L53.0292 349.058 Q55.8532 347.924 58.3069 347.345 Q60.7606 346.767 62.7976 346.767 Q68.168 346.767 71.3624 349.452 Q74.5568 352.137 74.5568 356.628 Q74.5568 358.757 73.7466 360.679 Q72.9596 362.577 70.8531 365.169 Q70.2744 365.841 67.1726 369.058 Q64.0708 372.253 58.4226 378.016 Z\" fill=\"#000000\" fill-rule=\"evenodd\" fill-opacity=\"1\" /><path clip-path=\"url(#clip520)\" d=\"M 0 0 M79.8577 347.392 L98.2141 347.392 L98.2141 351.327 L84.1401 351.327 L84.1401 359.799 Q85.1586 359.452 86.1771 359.29 Q87.1956 359.104 88.2141 359.104 Q94.0012 359.104 97.3808 362.276 Q100.76 365.447 100.76 370.864 Q100.76 376.442 97.2882 379.544 Q93.816 382.623 87.4966 382.623 Q85.3206 382.623 83.0521 382.252 Q80.8068 381.882 78.3994 381.141 L78.3994 376.442 Q80.4827 377.577 82.7049 378.132 Q84.9271 378.688 87.404 378.688 Q91.4086 378.688 93.7465 376.581 Q96.0845 374.475 96.0845 370.864 Q96.0845 367.253 93.7465 365.146 Q91.4086 363.04 87.404 363.04 Q85.529 363.04 83.654 363.456 Q81.8021 363.873 79.8577 364.753 L79.8577 347.392 Z\" fill=\"#000000\" fill-rule=\"evenodd\" fill-opacity=\"1\" /><path clip-path=\"url(#clip520)\" d=\"M 0 0 M66.617 138.1 Q69.9735 138.817 71.8485 141.086 Q73.7466 143.354 73.7466 146.688 Q73.7466 151.803 70.2281 154.604 Q66.7096 157.405 60.2282 157.405 Q58.0523 157.405 55.7375 156.966 Q53.4458 156.549 50.9921 155.692 L50.9921 151.178 Q52.9366 152.313 55.2514 152.891 Q57.5662 153.47 60.0893 153.47 Q64.4874 153.47 66.7791 151.734 Q69.0939 149.998 69.0939 146.688 Q69.0939 143.632 66.9411 141.919 Q64.8115 140.183 60.9921 140.183 L56.9643 140.183 L56.9643 136.341 L61.1773 136.341 Q64.6263 136.341 66.455 134.975 Q68.2837 133.586 68.2837 130.993 Q68.2837 128.331 66.3856 126.919 Q64.5106 125.484 60.9921 125.484 Q59.0708 125.484 56.8717 125.901 Q54.6727 126.318 52.0338 127.197 L52.0338 123.031 Q54.6958 122.29 57.0106 121.919 Q59.3486 121.549 61.4087 121.549 Q66.7328 121.549 69.8346 123.98 Q72.9365 126.387 72.9365 130.507 Q72.9365 133.378 71.2929 135.368 Q69.6494 137.336 66.617 138.1 Z\" fill=\"#000000\" fill-rule=\"evenodd\" fill-opacity=\"1\" /><path clip-path=\"url(#clip520)\" d=\"M 0 0 M88.816 125.253 Q85.2049 125.253 83.3762 128.818 Q81.5707 132.359 81.5707 139.489 Q81.5707 146.595 83.3762 150.16 Q85.2049 153.702 88.816 153.702 Q92.4502 153.702 94.2558 150.16 Q96.0845 146.595 96.0845 139.489 Q96.0845 132.359 94.2558 128.818 Q92.4502 125.253 88.816 125.253 M88.816 121.549 Q94.6262 121.549 97.6817 126.155 Q100.76 130.739 100.76 139.489 Q100.76 148.216 97.6817 152.822 Q94.6262 157.405 88.816 157.405 Q83.0058 157.405 79.9272 152.822 Q76.8716 148.216 76.8716 139.489 Q76.8716 130.739 79.9272 126.155 Q83.0058 121.549 88.816 121.549 Z\" fill=\"#000000\" fill-rule=\"evenodd\" fill-opacity=\"1\" /><polyline clip-path=\"url(#clip522)\" style=\"stroke:#009af9; stroke-width:4; stroke-opacity:1; fill:none\" points=\"\n",
       "  199.477,1445.72 309.507,1436.72 419.536,1425.92 529.566,1412.97 639.596,1397.44 749.625,1378.82 859.655,1356.48 969.684,1329.71 1079.71,1297.61 1189.74,1259.15 \n",
       "  1299.77,1213.06 1409.8,1157.87 1519.83,1091.78 1629.86,1012.69 1739.89,918.093 1849.92,805.016 1959.95,669.955 2069.98,508.786 2180.01,316.673 2290.04,87.9763 \n",
       "  \n",
       "  \"/>\n",
       "<path clip-path=\"url(#clip522)\" d=\"M199.477 1461.72 L188.165 1457.03 L183.477 1445.72 L188.165 1434.4 L199.477 1429.72 L210.789 1434.4 L215.477 1445.72 L210.789 1457.03 Z\" fill=\"#009af9\" fill-rule=\"evenodd\" fill-opacity=\"1\" stroke=\"#000000\" stroke-opacity=\"1\" stroke-width=\"3.2\"/>\n",
       "<path clip-path=\"url(#clip522)\" d=\"M309.507 1452.72 L298.195 1448.03 L293.507 1436.72 L298.195 1425.4 L309.507 1420.72 L320.819 1425.4 L325.507 1436.72 L320.819 1448.03 Z\" fill=\"#009af9\" fill-rule=\"evenodd\" fill-opacity=\"1\" stroke=\"#000000\" stroke-opacity=\"1\" stroke-width=\"3.2\"/>\n",
       "<path clip-path=\"url(#clip522)\" d=\"M419.536 1441.92 L408.224 1437.23 L403.536 1425.92 L408.224 1414.61 L419.536 1409.92 L430.848 1414.61 L435.536 1425.92 L430.848 1437.23 Z\" fill=\"#009af9\" fill-rule=\"evenodd\" fill-opacity=\"1\" stroke=\"#000000\" stroke-opacity=\"1\" stroke-width=\"3.2\"/>\n",
       "<path clip-path=\"url(#clip522)\" d=\"M529.566 1428.97 L518.254 1424.28 L513.566 1412.97 L518.254 1401.66 L529.566 1396.97 L540.878 1401.66 L545.566 1412.97 L540.878 1424.28 Z\" fill=\"#009af9\" fill-rule=\"evenodd\" fill-opacity=\"1\" stroke=\"#000000\" stroke-opacity=\"1\" stroke-width=\"3.2\"/>\n",
       "<path clip-path=\"url(#clip522)\" d=\"M639.596 1413.44 L628.284 1408.75 L623.596 1397.44 L628.284 1386.13 L639.596 1381.44 L650.908 1386.13 L655.596 1397.44 L650.908 1408.75 Z\" fill=\"#009af9\" fill-rule=\"evenodd\" fill-opacity=\"1\" stroke=\"#000000\" stroke-opacity=\"1\" stroke-width=\"3.2\"/>\n",
       "<path clip-path=\"url(#clip522)\" d=\"M749.625 1394.82 L738.313 1390.13 L733.625 1378.82 L738.313 1367.5 L749.625 1362.82 L760.937 1367.5 L765.625 1378.82 L760.937 1390.13 Z\" fill=\"#009af9\" fill-rule=\"evenodd\" fill-opacity=\"1\" stroke=\"#000000\" stroke-opacity=\"1\" stroke-width=\"3.2\"/>\n",
       "<path clip-path=\"url(#clip522)\" d=\"M859.655 1372.48 L848.343 1367.79 L843.655 1356.48 L848.343 1345.17 L859.655 1340.48 L870.967 1345.17 L875.655 1356.48 L870.967 1367.79 Z\" fill=\"#009af9\" fill-rule=\"evenodd\" fill-opacity=\"1\" stroke=\"#000000\" stroke-opacity=\"1\" stroke-width=\"3.2\"/>\n",
       "<path clip-path=\"url(#clip522)\" d=\"M969.684 1345.71 L958.372 1341.02 L953.684 1329.71 L958.372 1318.39 L969.684 1313.71 L980.996 1318.39 L985.684 1329.71 L980.996 1341.02 Z\" fill=\"#009af9\" fill-rule=\"evenodd\" fill-opacity=\"1\" stroke=\"#000000\" stroke-opacity=\"1\" stroke-width=\"3.2\"/>\n",
       "<path clip-path=\"url(#clip522)\" d=\"M1079.71 1313.61 L1068.4 1308.92 L1063.71 1297.61 L1068.4 1286.3 L1079.71 1281.61 L1091.03 1286.3 L1095.71 1297.61 L1091.03 1308.92 Z\" fill=\"#009af9\" fill-rule=\"evenodd\" fill-opacity=\"1\" stroke=\"#000000\" stroke-opacity=\"1\" stroke-width=\"3.2\"/>\n",
       "<path clip-path=\"url(#clip522)\" d=\"M1189.74 1275.15 L1178.43 1270.46 L1173.74 1259.15 L1178.43 1247.84 L1189.74 1243.15 L1201.06 1247.84 L1205.74 1259.15 L1201.06 1270.46 Z\" fill=\"#009af9\" fill-rule=\"evenodd\" fill-opacity=\"1\" stroke=\"#000000\" stroke-opacity=\"1\" stroke-width=\"3.2\"/>\n",
       "<path clip-path=\"url(#clip522)\" d=\"M1299.77 1229.06 L1288.46 1224.38 L1283.77 1213.06 L1288.46 1201.75 L1299.77 1197.06 L1311.08 1201.75 L1315.77 1213.06 L1311.08 1224.38 Z\" fill=\"#009af9\" fill-rule=\"evenodd\" fill-opacity=\"1\" stroke=\"#000000\" stroke-opacity=\"1\" stroke-width=\"3.2\"/>\n",
       "<path clip-path=\"url(#clip522)\" d=\"M1409.8 1173.87 L1398.49 1169.18 L1393.8 1157.87 L1398.49 1146.56 L1409.8 1141.87 L1421.11 1146.56 L1425.8 1157.87 L1421.11 1169.18 Z\" fill=\"#009af9\" fill-rule=\"evenodd\" fill-opacity=\"1\" stroke=\"#000000\" stroke-opacity=\"1\" stroke-width=\"3.2\"/>\n",
       "<path clip-path=\"url(#clip522)\" d=\"M1519.83 1107.78 L1508.52 1103.09 L1503.83 1091.78 L1508.52 1080.47 L1519.83 1075.78 L1531.14 1080.47 L1535.83 1091.78 L1531.14 1103.09 Z\" fill=\"#009af9\" fill-rule=\"evenodd\" fill-opacity=\"1\" stroke=\"#000000\" stroke-opacity=\"1\" stroke-width=\"3.2\"/>\n",
       "<path clip-path=\"url(#clip522)\" d=\"M1629.86 1028.69 L1618.55 1024 L1613.86 1012.69 L1618.55 1001.38 L1629.86 996.692 L1641.17 1001.38 L1645.86 1012.69 L1641.17 1024 Z\" fill=\"#009af9\" fill-rule=\"evenodd\" fill-opacity=\"1\" stroke=\"#000000\" stroke-opacity=\"1\" stroke-width=\"3.2\"/>\n",
       "<path clip-path=\"url(#clip522)\" d=\"M1739.89 934.093 L1728.58 929.405 L1723.89 918.093 L1728.58 906.781 L1739.89 902.093 L1751.2 906.781 L1755.89 918.093 L1751.2 929.405 Z\" fill=\"#009af9\" fill-rule=\"evenodd\" fill-opacity=\"1\" stroke=\"#000000\" stroke-opacity=\"1\" stroke-width=\"3.2\"/>\n",
       "<path clip-path=\"url(#clip522)\" d=\"M1849.92 821.016 L1838.61 816.328 L1833.92 805.016 L1838.61 793.704 L1849.92 789.016 L1861.23 793.704 L1865.92 805.016 L1861.23 816.328 Z\" fill=\"#009af9\" fill-rule=\"evenodd\" fill-opacity=\"1\" stroke=\"#000000\" stroke-opacity=\"1\" stroke-width=\"3.2\"/>\n",
       "<path clip-path=\"url(#clip522)\" d=\"M1959.95 685.955 L1948.64 681.267 L1943.95 669.955 L1948.64 658.643 L1959.95 653.955 L1971.26 658.643 L1975.95 669.955 L1971.26 681.267 Z\" fill=\"#009af9\" fill-rule=\"evenodd\" fill-opacity=\"1\" stroke=\"#000000\" stroke-opacity=\"1\" stroke-width=\"3.2\"/>\n",
       "<path clip-path=\"url(#clip522)\" d=\"M2069.98 524.786 L2058.67 520.098 L2053.98 508.786 L2058.67 497.474 L2069.98 492.786 L2081.29 497.474 L2085.98 508.786 L2081.29 520.098 Z\" fill=\"#009af9\" fill-rule=\"evenodd\" fill-opacity=\"1\" stroke=\"#000000\" stroke-opacity=\"1\" stroke-width=\"3.2\"/>\n",
       "<path clip-path=\"url(#clip522)\" d=\"M2180.01 332.673 L2168.7 327.985 L2164.01 316.673 L2168.7 305.361 L2180.01 300.673 L2191.32 305.361 L2196.01 316.673 L2191.32 327.985 Z\" fill=\"#009af9\" fill-rule=\"evenodd\" fill-opacity=\"1\" stroke=\"#000000\" stroke-opacity=\"1\" stroke-width=\"3.2\"/>\n",
       "<path clip-path=\"url(#clip522)\" d=\"M2290.04 103.976 L2278.73 99.2883 L2274.04 87.9763 L2278.73 76.6643 L2290.04 71.9763 L2301.35 76.6643 L2306.04 87.9763 L2301.35 99.2883 Z\" fill=\"#009af9\" fill-rule=\"evenodd\" fill-opacity=\"1\" stroke=\"#000000\" stroke-opacity=\"1\" stroke-width=\"3.2\"/>\n",
       "<path clip-path=\"url(#clip520)\" d=\"\n",
       "M1981.65 216.178 L2278.89 216.178 L2278.89 95.2176 L1981.65 95.2176  Z\n",
       "  \" fill=\"#ffffff\" fill-rule=\"evenodd\" fill-opacity=\"1\"/>\n",
       "<polyline clip-path=\"url(#clip520)\" style=\"stroke:#000000; stroke-width:4; stroke-opacity:1; fill:none\" points=\"\n",
       "  1981.65,216.178 2278.89,216.178 2278.89,95.2176 1981.65,95.2176 1981.65,216.178 \n",
       "  \"/>\n",
       "<polyline clip-path=\"url(#clip520)\" style=\"stroke:#009af9; stroke-width:4; stroke-opacity:1; fill:none\" points=\"\n",
       "  2006.27,155.698 2154,155.698 \n",
       "  \"/>\n",
       "<path clip-path=\"url(#clip520)\" d=\"M2080.14 181.298 L2062.04 173.797 L2054.54 155.698 L2062.04 137.598 L2080.14 130.098 L2098.24 137.598 L2105.74 155.698 L2098.24 173.797 Z\" fill=\"#009af9\" fill-rule=\"evenodd\" fill-opacity=\"1\" stroke=\"#000000\" stroke-opacity=\"1\" stroke-width=\"5.12\"/>\n",
       "<path clip-path=\"url(#clip520)\" d=\"M 0 0 M2192.47 175.385 Q2190.66 180.015 2188.95 181.427 Q2187.24 182.839 2184.37 182.839 L2180.96 182.839 L2180.96 179.274 L2183.46 179.274 Q2185.22 179.274 2186.2 178.44 Q2187.17 177.607 2188.35 174.505 L2189.11 172.561 L2178.63 147.052 L2183.14 147.052 L2191.24 167.329 L2199.34 147.052 L2203.86 147.052 L2192.47 175.385 Z\" fill=\"#000000\" fill-rule=\"evenodd\" fill-opacity=\"1\" /><path clip-path=\"url(#clip520)\" d=\"M 0 0 M2209.74 169.042 L2217.38 169.042 L2217.38 142.677 L2209.07 144.343 L2209.07 140.084 L2217.33 138.418 L2222.01 138.418 L2222.01 169.042 L2229.65 169.042 L2229.65 172.978 L2209.74 172.978 L2209.74 169.042 Z\" fill=\"#000000\" fill-rule=\"evenodd\" fill-opacity=\"1\" /></svg>\n"
      ]
     },
     "execution_count": 77,
     "metadata": {},
     "output_type": "execute_result"
    }
   ],
   "source": [
    "plot(I, m=:o)"
   ]
  },
  {
   "cell_type": "code",
   "execution_count": 78,
   "metadata": {},
   "outputs": [
    {
     "data": {
      "image/svg+xml": [
       "<?xml version=\"1.0\" encoding=\"utf-8\"?>\n",
       "<svg xmlns=\"http://www.w3.org/2000/svg\" xmlns:xlink=\"http://www.w3.org/1999/xlink\" width=\"600\" height=\"400\" viewBox=\"0 0 2400 1600\">\n",
       "<defs>\n",
       "  <clipPath id=\"clip560\">\n",
       "    <rect x=\"0\" y=\"0\" width=\"2400\" height=\"1600\"/>\n",
       "  </clipPath>\n",
       "</defs>\n",
       "<path clip-path=\"url(#clip560)\" d=\"\n",
       "M0 1600 L2400 1600 L2400 0 L0 0  Z\n",
       "  \" fill=\"#ffffff\" fill-rule=\"evenodd\" fill-opacity=\"1\"/>\n",
       "<defs>\n",
       "  <clipPath id=\"clip561\">\n",
       "    <rect x=\"480\" y=\"0\" width=\"1681\" height=\"1600\"/>\n",
       "  </clipPath>\n",
       "</defs>\n",
       "<path clip-path=\"url(#clip560)\" d=\"\n",
       "M184.03 1486.45 L2352.76 1486.45 L2352.76 47.2441 L184.03 47.2441  Z\n",
       "  \" fill=\"#ffffff\" fill-rule=\"evenodd\" fill-opacity=\"1\"/>\n",
       "<defs>\n",
       "  <clipPath id=\"clip562\">\n",
       "    <rect x=\"184\" y=\"47\" width=\"2170\" height=\"1440\"/>\n",
       "  </clipPath>\n",
       "</defs>\n",
       "<polyline clip-path=\"url(#clip562)\" style=\"stroke:#000000; stroke-width:2; stroke-opacity:0.1; fill:none\" points=\"\n",
       "  676.139,1486.45 676.139,47.2441 \n",
       "  \"/>\n",
       "<polyline clip-path=\"url(#clip562)\" style=\"stroke:#000000; stroke-width:2; stroke-opacity:0.1; fill:none\" points=\"\n",
       "  1214.55,1486.45 1214.55,47.2441 \n",
       "  \"/>\n",
       "<polyline clip-path=\"url(#clip562)\" style=\"stroke:#000000; stroke-width:2; stroke-opacity:0.1; fill:none\" points=\"\n",
       "  1752.96,1486.45 1752.96,47.2441 \n",
       "  \"/>\n",
       "<polyline clip-path=\"url(#clip562)\" style=\"stroke:#000000; stroke-width:2; stroke-opacity:0.1; fill:none\" points=\"\n",
       "  2291.38,1486.45 2291.38,47.2441 \n",
       "  \"/>\n",
       "<polyline clip-path=\"url(#clip560)\" style=\"stroke:#000000; stroke-width:4; stroke-opacity:1; fill:none\" points=\"\n",
       "  184.03,1486.45 2352.76,1486.45 \n",
       "  \"/>\n",
       "<polyline clip-path=\"url(#clip560)\" style=\"stroke:#000000; stroke-width:4; stroke-opacity:1; fill:none\" points=\"\n",
       "  676.139,1486.45 676.139,1469.18 \n",
       "  \"/>\n",
       "<polyline clip-path=\"url(#clip560)\" style=\"stroke:#000000; stroke-width:4; stroke-opacity:1; fill:none\" points=\"\n",
       "  1214.55,1486.45 1214.55,1469.18 \n",
       "  \"/>\n",
       "<polyline clip-path=\"url(#clip560)\" style=\"stroke:#000000; stroke-width:4; stroke-opacity:1; fill:none\" points=\"\n",
       "  1752.96,1486.45 1752.96,1469.18 \n",
       "  \"/>\n",
       "<polyline clip-path=\"url(#clip560)\" style=\"stroke:#000000; stroke-width:4; stroke-opacity:1; fill:none\" points=\"\n",
       "  2291.38,1486.45 2291.38,1469.18 \n",
       "  \"/>\n",
       "<path clip-path=\"url(#clip560)\" d=\"M 0 0 M666.417 1512.56 L684.773 1512.56 L684.773 1516.5 L670.699 1516.5 L670.699 1524.97 Q671.718 1524.62 672.736 1524.46 Q673.755 1524.27 674.773 1524.27 Q680.56 1524.27 683.94 1527.44 Q687.32 1530.62 687.32 1536.03 Q687.32 1541.61 683.847 1544.71 Q680.375 1547.79 674.056 1547.79 Q671.88 1547.79 669.611 1547.42 Q667.366 1547.05 664.959 1546.31 L664.959 1541.61 Q667.042 1542.74 669.264 1543.3 Q671.486 1543.86 673.963 1543.86 Q677.968 1543.86 680.306 1541.75 Q682.644 1539.64 682.644 1536.03 Q682.644 1532.42 680.306 1530.31 Q677.968 1528.21 673.963 1528.21 Q672.088 1528.21 670.213 1528.62 Q668.361 1529.04 666.417 1529.92 L666.417 1512.56 Z\" fill=\"#000000\" fill-rule=\"evenodd\" fill-opacity=\"1\" /><path clip-path=\"url(#clip560)\" d=\"M 0 0 M1191.43 1543.18 L1199.07 1543.18 L1199.07 1516.82 L1190.76 1518.49 L1190.76 1514.23 L1199.02 1512.56 L1203.7 1512.56 L1203.7 1543.18 L1211.33 1543.18 L1211.33 1547.12 L1191.43 1547.12 L1191.43 1543.18 Z\" fill=\"#000000\" fill-rule=\"evenodd\" fill-opacity=\"1\" /><path clip-path=\"url(#clip560)\" d=\"M 0 0 M1226.4 1515.64 Q1222.79 1515.64 1220.96 1519.2 Q1219.16 1522.75 1219.16 1529.87 Q1219.16 1536.98 1220.96 1540.55 Q1222.79 1544.09 1226.4 1544.09 Q1230.04 1544.09 1231.84 1540.55 Q1233.67 1536.98 1233.67 1529.87 Q1233.67 1522.75 1231.84 1519.2 Q1230.04 1515.64 1226.4 1515.64 M1226.4 1511.93 Q1232.21 1511.93 1235.27 1516.54 Q1238.35 1521.12 1238.35 1529.87 Q1238.35 1538.6 1235.27 1543.21 Q1232.21 1547.79 1226.4 1547.79 Q1220.59 1547.79 1217.51 1543.21 Q1214.46 1538.6 1214.46 1529.87 Q1214.46 1521.12 1217.51 1516.54 Q1220.59 1511.93 1226.4 1511.93 Z\" fill=\"#000000\" fill-rule=\"evenodd\" fill-opacity=\"1\" /><path clip-path=\"url(#clip560)\" d=\"M 0 0 M1730.34 1543.18 L1737.98 1543.18 L1737.98 1516.82 L1729.67 1518.49 L1729.67 1514.23 L1737.93 1512.56 L1742.61 1512.56 L1742.61 1543.18 L1750.24 1543.18 L1750.24 1547.12 L1730.34 1547.12 L1730.34 1543.18 Z\" fill=\"#000000\" fill-rule=\"evenodd\" fill-opacity=\"1\" /><path clip-path=\"url(#clip560)\" d=\"M 0 0 M1755.36 1512.56 L1773.72 1512.56 L1773.72 1516.5 L1759.64 1516.5 L1759.64 1524.97 Q1760.66 1524.62 1761.68 1524.46 Q1762.7 1524.27 1763.72 1524.27 Q1769.5 1524.27 1772.88 1527.44 Q1776.26 1530.62 1776.26 1536.03 Q1776.26 1541.61 1772.79 1544.71 Q1769.32 1547.79 1763 1547.79 Q1760.82 1547.79 1758.55 1547.42 Q1756.31 1547.05 1753.9 1546.31 L1753.9 1541.61 Q1755.99 1542.74 1758.21 1543.3 Q1760.43 1543.86 1762.91 1543.86 Q1766.91 1543.86 1769.25 1541.75 Q1771.59 1539.64 1771.59 1536.03 Q1771.59 1532.42 1769.25 1530.31 Q1766.91 1528.21 1762.91 1528.21 Q1761.03 1528.21 1759.16 1528.62 Q1757.3 1529.04 1755.36 1529.92 L1755.36 1512.56 Z\" fill=\"#000000\" fill-rule=\"evenodd\" fill-opacity=\"1\" /><path clip-path=\"url(#clip560)\" d=\"M 0 0 M2272.52 1543.18 L2288.84 1543.18 L2288.84 1547.12 L2266.9 1547.12 L2266.9 1543.18 Q2269.56 1540.43 2274.14 1535.8 Q2278.75 1531.15 2279.93 1529.81 Q2282.18 1527.28 2283.06 1525.55 Q2283.96 1523.79 2283.96 1522.1 Q2283.96 1519.34 2282.01 1517.61 Q2280.09 1515.87 2276.99 1515.87 Q2274.79 1515.87 2272.34 1516.63 Q2269.91 1517.4 2267.13 1518.95 L2267.13 1514.23 Q2269.95 1513.09 2272.41 1512.51 Q2274.86 1511.93 2276.9 1511.93 Q2282.27 1511.93 2285.46 1514.62 Q2288.66 1517.31 2288.66 1521.8 Q2288.66 1523.93 2287.85 1525.85 Q2287.06 1527.74 2284.95 1530.34 Q2284.37 1531.01 2281.27 1534.23 Q2278.17 1537.42 2272.52 1543.18 Z\" fill=\"#000000\" fill-rule=\"evenodd\" fill-opacity=\"1\" /><path clip-path=\"url(#clip560)\" d=\"M 0 0 M2303.91 1515.64 Q2300.3 1515.64 2298.47 1519.2 Q2296.67 1522.75 2296.67 1529.87 Q2296.67 1536.98 2298.47 1540.55 Q2300.3 1544.09 2303.91 1544.09 Q2307.55 1544.09 2309.35 1540.55 Q2311.18 1536.98 2311.18 1529.87 Q2311.18 1522.75 2309.35 1519.2 Q2307.55 1515.64 2303.91 1515.64 M2303.91 1511.93 Q2309.72 1511.93 2312.78 1516.54 Q2315.86 1521.12 2315.86 1529.87 Q2315.86 1538.6 2312.78 1543.21 Q2309.72 1547.79 2303.91 1547.79 Q2298.1 1547.79 2295.02 1543.21 Q2291.97 1538.6 2291.97 1529.87 Q2291.97 1521.12 2295.02 1516.54 Q2298.1 1511.93 2303.91 1511.93 Z\" fill=\"#000000\" fill-rule=\"evenodd\" fill-opacity=\"1\" /><polyline clip-path=\"url(#clip562)\" style=\"stroke:#000000; stroke-width:2; stroke-opacity:0.1; fill:none\" points=\"\n",
       "  184.03,1445.72 2352.76,1445.72 \n",
       "  \"/>\n",
       "<polyline clip-path=\"url(#clip562)\" style=\"stroke:#000000; stroke-width:2; stroke-opacity:0.1; fill:none\" points=\"\n",
       "  184.03,991.123 2352.76,991.123 \n",
       "  \"/>\n",
       "<polyline clip-path=\"url(#clip562)\" style=\"stroke:#000000; stroke-width:2; stroke-opacity:0.1; fill:none\" points=\"\n",
       "  184.03,536.53 2352.76,536.53 \n",
       "  \"/>\n",
       "<polyline clip-path=\"url(#clip562)\" style=\"stroke:#000000; stroke-width:2; stroke-opacity:0.1; fill:none\" points=\"\n",
       "  184.03,81.9377 2352.76,81.9377 \n",
       "  \"/>\n",
       "<polyline clip-path=\"url(#clip560)\" style=\"stroke:#000000; stroke-width:4; stroke-opacity:1; fill:none\" points=\"\n",
       "  184.03,1486.45 184.03,47.2441 \n",
       "  \"/>\n",
       "<polyline clip-path=\"url(#clip560)\" style=\"stroke:#000000; stroke-width:4; stroke-opacity:1; fill:none\" points=\"\n",
       "  184.03,1445.72 210.055,1445.72 \n",
       "  \"/>\n",
       "<polyline clip-path=\"url(#clip560)\" style=\"stroke:#000000; stroke-width:4; stroke-opacity:1; fill:none\" points=\"\n",
       "  184.03,991.123 210.055,991.123 \n",
       "  \"/>\n",
       "<polyline clip-path=\"url(#clip560)\" style=\"stroke:#000000; stroke-width:4; stroke-opacity:1; fill:none\" points=\"\n",
       "  184.03,536.53 210.055,536.53 \n",
       "  \"/>\n",
       "<polyline clip-path=\"url(#clip560)\" style=\"stroke:#000000; stroke-width:4; stroke-opacity:1; fill:none\" points=\"\n",
       "  184.03,81.9377 210.055,81.9377 \n",
       "  \"/>\n",
       "<path clip-path=\"url(#clip560)\" d=\"M 0 0 M51.6634 1465.51 L59.3023 1465.51 L59.3023 1439.14 L50.9921 1440.81 L50.9921 1436.55 L59.256 1434.88 L63.9319 1434.88 L63.9319 1465.51 L71.5707 1465.51 L71.5707 1469.44 L51.6634 1469.44 L51.6634 1465.51 Z\" fill=\"#000000\" fill-rule=\"evenodd\" fill-opacity=\"1\" /><path clip-path=\"url(#clip560)\" d=\"M 0 0 M86.6401 1437.96 Q83.029 1437.96 81.2003 1441.53 Q79.3948 1445.07 79.3948 1452.2 Q79.3948 1459.3 81.2003 1462.87 Q83.029 1466.41 86.6401 1466.41 Q90.2743 1466.41 92.0799 1462.87 Q93.9086 1459.3 93.9086 1452.2 Q93.9086 1445.07 92.0799 1441.53 Q90.2743 1437.96 86.6401 1437.96 M86.6401 1434.26 Q92.4502 1434.26 95.5058 1438.86 Q98.5845 1443.45 98.5845 1452.2 Q98.5845 1460.92 95.5058 1465.53 Q92.4502 1470.11 86.6401 1470.11 Q80.8299 1470.11 77.7512 1465.53 Q74.6957 1460.92 74.6957 1452.2 Q74.6957 1443.45 77.7512 1438.86 Q80.8299 1434.26 86.6401 1434.26 Z\" fill=\"#000000\" fill-rule=\"evenodd\" fill-opacity=\"1\" /><path clip-path=\"url(#clip560)\" d=\"M 0 0 M108.289 1416.45 Q105.355 1416.45 103.869 1419.35 Q102.402 1422.23 102.402 1428.02 Q102.402 1433.8 103.869 1436.69 Q105.355 1439.57 108.289 1439.57 Q111.242 1439.57 112.709 1436.69 Q114.195 1433.8 114.195 1428.02 Q114.195 1422.23 112.709 1419.35 Q111.242 1416.45 108.289 1416.45 M108.289 1413.45 Q113.01 1413.45 115.493 1417.19 Q117.994 1420.91 117.994 1428.02 Q117.994 1435.11 115.493 1438.85 Q113.01 1442.58 108.289 1442.58 Q103.569 1442.58 101.067 1438.85 Q98.5845 1435.11 98.5845 1428.02 Q98.5845 1420.91 101.067 1417.19 Q103.569 1413.45 108.289 1413.45 Z\" fill=\"#000000\" fill-rule=\"evenodd\" fill-opacity=\"1\" /><path clip-path=\"url(#clip560)\" d=\"M 0 0 M122.113 1437.26 L126.081 1437.26 L126.081 1442.03 L122.113 1442.03 L122.113 1437.26 Z\" fill=\"#000000\" fill-rule=\"evenodd\" fill-opacity=\"1\" /><path clip-path=\"url(#clip560)\" d=\"M 0 0 M138.325 1416.45 Q135.391 1416.45 133.905 1419.35 Q132.438 1422.23 132.438 1428.02 Q132.438 1433.8 133.905 1436.69 Q135.391 1439.57 138.325 1439.57 Q141.278 1439.57 142.745 1436.69 Q144.231 1433.8 144.231 1428.02 Q144.231 1422.23 142.745 1419.35 Q141.278 1416.45 138.325 1416.45 M138.325 1413.45 Q143.046 1413.45 145.529 1417.19 Q148.03 1420.91 148.03 1428.02 Q148.03 1435.11 145.529 1438.85 Q143.046 1442.58 138.325 1442.58 Q133.605 1442.58 131.103 1438.85 Q128.62 1435.11 128.62 1428.02 Q128.62 1420.91 131.103 1417.19 Q133.605 1413.45 138.325 1413.45 Z\" fill=\"#000000\" fill-rule=\"evenodd\" fill-opacity=\"1\" /><path clip-path=\"url(#clip560)\" d=\"M 0 0 M52.4722 1010.92 L60.111 1010.92 L60.111 984.55 L51.8009 986.217 L51.8009 981.957 L60.0647 980.291 L64.7406 980.291 L64.7406 1010.92 L72.3795 1010.92 L72.3795 1014.85 L52.4722 1014.85 L52.4722 1010.92 Z\" fill=\"#000000\" fill-rule=\"evenodd\" fill-opacity=\"1\" /><path clip-path=\"url(#clip560)\" d=\"M 0 0 M87.4488 983.369 Q83.8377 983.369 82.009 986.934 Q80.2035 990.476 80.2035 997.605 Q80.2035 1004.71 82.009 1008.28 Q83.8377 1011.82 87.4488 1011.82 Q91.0831 1011.82 92.8886 1008.28 Q94.7173 1004.71 94.7173 997.605 Q94.7173 990.476 92.8886 986.934 Q91.0831 983.369 87.4488 983.369 M87.4488 979.666 Q93.259 979.666 96.3145 984.272 Q99.3932 988.855 99.3932 997.605 Q99.3932 1006.33 96.3145 1010.94 Q93.259 1015.52 87.4488 1015.52 Q81.6387 1015.52 78.56 1010.94 Q75.5044 1006.33 75.5044 997.605 Q75.5044 988.855 78.56 984.272 Q81.6387 979.666 87.4488 979.666 Z\" fill=\"#000000\" fill-rule=\"evenodd\" fill-opacity=\"1\" /><path clip-path=\"url(#clip560)\" d=\"M 0 0 M109.098 961.862 Q106.164 961.862 104.678 964.758 Q103.211 967.636 103.211 973.428 Q103.211 979.202 104.678 982.099 Q106.164 984.976 109.098 984.976 Q112.051 984.976 113.518 982.099 Q115.004 979.202 115.004 973.428 Q115.004 967.636 113.518 964.758 Q112.051 961.862 109.098 961.862 M109.098 958.852 Q113.819 958.852 116.301 962.595 Q118.803 966.319 118.803 973.428 Q118.803 980.519 116.301 984.262 Q113.819 987.986 109.098 987.986 Q104.377 987.986 101.876 984.262 Q99.3932 980.519 99.3932 973.428 Q99.3932 966.319 101.876 962.595 Q104.377 958.852 109.098 958.852 Z\" fill=\"#000000\" fill-rule=\"evenodd\" fill-opacity=\"1\" /><path clip-path=\"url(#clip560)\" d=\"M 0 0 M122.922 982.663 L126.89 982.663 L126.89 987.44 L122.922 987.44 L122.922 982.663 Z\" fill=\"#000000\" fill-rule=\"evenodd\" fill-opacity=\"1\" /><path clip-path=\"url(#clip560)\" d=\"M 0 0 M131.047 959.36 L145.961 959.36 L145.961 962.558 L134.526 962.558 L134.526 969.441 Q135.354 969.159 136.181 969.027 Q137.009 968.877 137.836 968.877 Q142.538 968.877 145.284 971.454 Q148.03 974.03 148.03 978.431 Q148.03 982.964 145.209 985.484 Q142.388 987.986 137.253 987.986 Q135.485 987.986 133.642 987.685 Q131.818 987.384 129.862 986.782 L129.862 982.964 Q131.554 983.886 133.36 984.337 Q135.166 984.788 137.178 984.788 Q140.432 984.788 142.331 983.077 Q144.231 981.365 144.231 978.431 Q144.231 975.497 142.331 973.786 Q140.432 972.074 137.178 972.074 Q135.655 972.074 134.131 972.413 Q132.627 972.751 131.047 973.466 L131.047 959.36 Z\" fill=\"#000000\" fill-rule=\"evenodd\" fill-opacity=\"1\" /><path clip-path=\"url(#clip560)\" d=\"M 0 0 M54.3529 556.323 L61.9918 556.323 L61.9918 529.957 L53.6816 531.624 L53.6816 527.365 L61.9455 525.698 L66.6214 525.698 L66.6214 556.323 L74.2602 556.323 L74.2602 560.258 L54.3529 560.258 L54.3529 556.323 Z\" fill=\"#000000\" fill-rule=\"evenodd\" fill-opacity=\"1\" /><path clip-path=\"url(#clip560)\" d=\"M 0 0 M89.3296 528.777 Q85.7185 528.777 83.8898 532.341 Q82.0843 535.883 82.0843 543.013 Q82.0843 550.119 83.8898 553.684 Q85.7185 557.226 89.3296 557.226 Q92.9638 557.226 94.7694 553.684 Q96.5981 550.119 96.5981 543.013 Q96.5981 535.883 94.7694 532.341 Q92.9638 528.777 89.3296 528.777 M89.3296 525.073 Q95.1397 525.073 98.1953 529.679 Q101.274 534.263 101.274 543.013 Q101.274 551.74 98.1953 556.346 Q95.1397 560.929 89.3296 560.929 Q83.5194 560.929 80.4408 556.346 Q77.3852 551.74 77.3852 543.013 Q77.3852 534.263 80.4408 529.679 Q83.5194 525.073 89.3296 525.073 Z\" fill=\"#000000\" fill-rule=\"evenodd\" fill-opacity=\"1\" /><path clip-path=\"url(#clip560)\" d=\"M 0 0 M101.819 529.65 L108.026 529.65 L108.026 508.228 L101.274 509.582 L101.274 506.122 L107.988 504.768 L111.788 504.768 L111.788 529.65 L117.994 529.65 L117.994 532.848 L101.819 532.848 L101.819 529.65 Z\" fill=\"#000000\" fill-rule=\"evenodd\" fill-opacity=\"1\" /><path clip-path=\"url(#clip560)\" d=\"M 0 0 M122.113 528.07 L126.081 528.07 L126.081 532.848 L122.113 532.848 L122.113 528.07 Z\" fill=\"#000000\" fill-rule=\"evenodd\" fill-opacity=\"1\" /><path clip-path=\"url(#clip560)\" d=\"M 0 0 M138.325 507.269 Q135.391 507.269 133.905 510.165 Q132.438 513.043 132.438 518.836 Q132.438 524.61 133.905 527.506 Q135.391 530.384 138.325 530.384 Q141.278 530.384 142.745 527.506 Q144.231 524.61 144.231 518.836 Q144.231 513.043 142.745 510.165 Q141.278 507.269 138.325 507.269 M138.325 504.26 Q143.046 504.26 145.529 508.003 Q148.03 511.726 148.03 518.836 Q148.03 525.926 145.529 529.669 Q143.046 533.393 138.325 533.393 Q133.605 533.393 131.103 529.669 Q128.62 525.926 128.62 518.836 Q128.62 511.726 131.103 508.003 Q133.605 504.26 138.325 504.26 Z\" fill=\"#000000\" fill-rule=\"evenodd\" fill-opacity=\"1\" /><path clip-path=\"url(#clip560)\" d=\"M 0 0 M55.1617 101.73 L62.8005 101.73 L62.8005 75.3646 L54.4904 77.0312 L54.4904 72.772 L62.7542 71.1053 L67.4301 71.1053 L67.4301 101.73 L75.069 101.73 L75.069 105.665 L55.1617 105.665 L55.1617 101.73 Z\" fill=\"#000000\" fill-rule=\"evenodd\" fill-opacity=\"1\" /><path clip-path=\"url(#clip560)\" d=\"M 0 0 M90.1383 74.184 Q86.5272 74.184 84.6985 77.7488 Q82.893 81.2905 82.893 88.42 Q82.893 95.5265 84.6985 99.0913 Q86.5272 102.633 90.1383 102.633 Q93.7726 102.633 95.5781 99.0913 Q97.4068 95.5265 97.4068 88.42 Q97.4068 81.2905 95.5781 77.7488 Q93.7726 74.184 90.1383 74.184 M90.1383 70.4803 Q95.9485 70.4803 99.004 75.0868 Q102.083 79.6701 102.083 88.42 Q102.083 97.1469 99.004 101.753 Q95.9485 106.337 90.1383 106.337 Q84.3282 106.337 81.2495 101.753 Q78.1939 97.1469 78.1939 88.42 Q78.1939 79.6701 81.2495 75.0868 Q84.3282 70.4803 90.1383 70.4803 Z\" fill=\"#000000\" fill-rule=\"evenodd\" fill-opacity=\"1\" /><path clip-path=\"url(#clip560)\" d=\"M 0 0 M102.628 75.0576 L108.835 75.0576 L108.835 53.6356 L102.083 54.9897 L102.083 51.5291 L108.797 50.1749 L112.596 50.1749 L112.596 75.0576 L118.803 75.0576 L118.803 78.2549 L102.628 78.2549 L102.628 75.0576 Z\" fill=\"#000000\" fill-rule=\"evenodd\" fill-opacity=\"1\" /><path clip-path=\"url(#clip560)\" d=\"M 0 0 M122.922 73.4778 L126.89 73.4778 L126.89 78.2549 L122.922 78.2549 L122.922 73.4778 Z\" fill=\"#000000\" fill-rule=\"evenodd\" fill-opacity=\"1\" /><path clip-path=\"url(#clip560)\" d=\"M 0 0 M131.047 50.1749 L145.961 50.1749 L145.961 53.3722 L134.526 53.3722 L134.526 60.2559 Q135.354 59.9738 136.181 59.8421 Q137.009 59.6917 137.836 59.6917 Q142.538 59.6917 145.284 62.2683 Q148.03 64.845 148.03 69.246 Q148.03 73.7787 145.209 76.2989 Q142.388 78.8004 137.253 78.8004 Q135.485 78.8004 133.642 78.4994 Q131.818 78.1985 129.862 77.5967 L129.862 73.7787 Q131.554 74.7003 133.36 75.1516 Q135.166 75.603 137.178 75.603 Q140.432 75.603 142.331 73.8915 Q144.231 72.18 144.231 69.246 Q144.231 66.312 142.331 64.6005 Q140.432 62.889 137.178 62.889 Q135.655 62.889 134.131 63.2275 Q132.627 63.5661 131.047 64.2808 L131.047 50.1749 Z\" fill=\"#000000\" fill-rule=\"evenodd\" fill-opacity=\"1\" /><polyline clip-path=\"url(#clip562)\" style=\"stroke:#009af9; stroke-width:4; stroke-opacity:1; fill:none\" points=\"\n",
       "  245.409,1445.72 353.092,1373.79 460.774,1301.88 568.457,1229.98 676.139,1158.11 783.822,1086.25 891.504,1014.43 999.187,942.632 1106.87,870.877 1214.55,799.169 \n",
       "  1322.23,727.517 1429.92,655.932 1537.6,584.429 1645.28,513.022 1752.96,441.73 1860.65,370.577 1968.33,299.59 2076.01,228.801 2183.69,158.248 2291.38,87.9763 \n",
       "  \n",
       "  \"/>\n",
       "<path clip-path=\"url(#clip562)\" d=\"M245.409 1461.72 L234.097 1457.03 L229.409 1445.72 L234.097 1434.4 L245.409 1429.72 L256.721 1434.4 L261.409 1445.72 L256.721 1457.03 Z\" fill=\"#009af9\" fill-rule=\"evenodd\" fill-opacity=\"1\" stroke=\"#000000\" stroke-opacity=\"1\" stroke-width=\"3.2\"/>\n",
       "<path clip-path=\"url(#clip562)\" d=\"M353.092 1389.79 L341.78 1385.1 L337.092 1373.79 L341.78 1362.48 L353.092 1357.79 L364.404 1362.48 L369.092 1373.79 L364.404 1385.1 Z\" fill=\"#009af9\" fill-rule=\"evenodd\" fill-opacity=\"1\" stroke=\"#000000\" stroke-opacity=\"1\" stroke-width=\"3.2\"/>\n",
       "<path clip-path=\"url(#clip562)\" d=\"M460.774 1317.88 L449.462 1313.19 L444.774 1301.88 L449.462 1290.57 L460.774 1285.88 L472.086 1290.57 L476.774 1301.88 L472.086 1313.19 Z\" fill=\"#009af9\" fill-rule=\"evenodd\" fill-opacity=\"1\" stroke=\"#000000\" stroke-opacity=\"1\" stroke-width=\"3.2\"/>\n",
       "<path clip-path=\"url(#clip562)\" d=\"M568.457 1245.98 L557.145 1241.3 L552.457 1229.98 L557.145 1218.67 L568.457 1213.98 L579.769 1218.67 L584.457 1229.98 L579.769 1241.3 Z\" fill=\"#009af9\" fill-rule=\"evenodd\" fill-opacity=\"1\" stroke=\"#000000\" stroke-opacity=\"1\" stroke-width=\"3.2\"/>\n",
       "<path clip-path=\"url(#clip562)\" d=\"M676.139 1174.11 L664.827 1169.42 L660.139 1158.11 L664.827 1146.8 L676.139 1142.11 L687.451 1146.8 L692.139 1158.11 L687.451 1169.42 Z\" fill=\"#009af9\" fill-rule=\"evenodd\" fill-opacity=\"1\" stroke=\"#000000\" stroke-opacity=\"1\" stroke-width=\"3.2\"/>\n",
       "<path clip-path=\"url(#clip562)\" d=\"M783.822 1102.25 L772.51 1097.57 L767.822 1086.25 L772.51 1074.94 L783.822 1070.25 L795.134 1074.94 L799.822 1086.25 L795.134 1097.57 Z\" fill=\"#009af9\" fill-rule=\"evenodd\" fill-opacity=\"1\" stroke=\"#000000\" stroke-opacity=\"1\" stroke-width=\"3.2\"/>\n",
       "<path clip-path=\"url(#clip562)\" d=\"M891.504 1030.43 L880.192 1025.74 L875.504 1014.43 L880.192 1003.11 L891.504 998.426 L902.816 1003.11 L907.504 1014.43 L902.816 1025.74 Z\" fill=\"#009af9\" fill-rule=\"evenodd\" fill-opacity=\"1\" stroke=\"#000000\" stroke-opacity=\"1\" stroke-width=\"3.2\"/>\n",
       "<path clip-path=\"url(#clip562)\" d=\"M999.187 958.632 L987.875 953.944 L983.187 942.632 L987.875 931.32 L999.187 926.632 L1010.5 931.32 L1015.19 942.632 L1010.5 953.944 Z\" fill=\"#009af9\" fill-rule=\"evenodd\" fill-opacity=\"1\" stroke=\"#000000\" stroke-opacity=\"1\" stroke-width=\"3.2\"/>\n",
       "<path clip-path=\"url(#clip562)\" d=\"M1106.87 886.877 L1095.56 882.189 L1090.87 870.877 L1095.56 859.565 L1106.87 854.877 L1118.18 859.565 L1122.87 870.877 L1118.18 882.189 Z\" fill=\"#009af9\" fill-rule=\"evenodd\" fill-opacity=\"1\" stroke=\"#000000\" stroke-opacity=\"1\" stroke-width=\"3.2\"/>\n",
       "<path clip-path=\"url(#clip562)\" d=\"M1214.55 815.169 L1203.24 810.481 L1198.55 799.169 L1203.24 787.857 L1214.55 783.169 L1225.86 787.857 L1230.55 799.169 L1225.86 810.481 Z\" fill=\"#009af9\" fill-rule=\"evenodd\" fill-opacity=\"1\" stroke=\"#000000\" stroke-opacity=\"1\" stroke-width=\"3.2\"/>\n",
       "<path clip-path=\"url(#clip562)\" d=\"M1322.23 743.517 L1310.92 738.829 L1306.23 727.517 L1310.92 716.205 L1322.23 711.517 L1333.55 716.205 L1338.23 727.517 L1333.55 738.829 Z\" fill=\"#009af9\" fill-rule=\"evenodd\" fill-opacity=\"1\" stroke=\"#000000\" stroke-opacity=\"1\" stroke-width=\"3.2\"/>\n",
       "<path clip-path=\"url(#clip562)\" d=\"M1429.92 671.932 L1418.6 667.244 L1413.92 655.932 L1418.6 644.62 L1429.92 639.932 L1441.23 644.62 L1445.92 655.932 L1441.23 667.244 Z\" fill=\"#009af9\" fill-rule=\"evenodd\" fill-opacity=\"1\" stroke=\"#000000\" stroke-opacity=\"1\" stroke-width=\"3.2\"/>\n",
       "<path clip-path=\"url(#clip562)\" d=\"M1537.6 600.429 L1526.29 595.741 L1521.6 584.429 L1526.29 573.117 L1537.6 568.429 L1548.91 573.117 L1553.6 584.429 L1548.91 595.741 Z\" fill=\"#009af9\" fill-rule=\"evenodd\" fill-opacity=\"1\" stroke=\"#000000\" stroke-opacity=\"1\" stroke-width=\"3.2\"/>\n",
       "<path clip-path=\"url(#clip562)\" d=\"M1645.28 529.022 L1633.97 524.334 L1629.28 513.022 L1633.97 501.71 L1645.28 497.022 L1656.59 501.71 L1661.28 513.022 L1656.59 524.334 Z\" fill=\"#009af9\" fill-rule=\"evenodd\" fill-opacity=\"1\" stroke=\"#000000\" stroke-opacity=\"1\" stroke-width=\"3.2\"/>\n",
       "<path clip-path=\"url(#clip562)\" d=\"M1752.96 457.73 L1741.65 453.042 L1736.96 441.73 L1741.65 430.418 L1752.96 425.73 L1764.28 430.418 L1768.96 441.73 L1764.28 453.042 Z\" fill=\"#009af9\" fill-rule=\"evenodd\" fill-opacity=\"1\" stroke=\"#000000\" stroke-opacity=\"1\" stroke-width=\"3.2\"/>\n",
       "<path clip-path=\"url(#clip562)\" d=\"M1860.65 386.577 L1849.33 381.889 L1844.65 370.577 L1849.33 359.265 L1860.65 354.577 L1871.96 359.265 L1876.65 370.577 L1871.96 381.889 Z\" fill=\"#009af9\" fill-rule=\"evenodd\" fill-opacity=\"1\" stroke=\"#000000\" stroke-opacity=\"1\" stroke-width=\"3.2\"/>\n",
       "<path clip-path=\"url(#clip562)\" d=\"M1968.33 315.59 L1957.02 310.902 L1952.33 299.59 L1957.02 288.278 L1968.33 283.59 L1979.64 288.278 L1984.33 299.59 L1979.64 310.902 Z\" fill=\"#009af9\" fill-rule=\"evenodd\" fill-opacity=\"1\" stroke=\"#000000\" stroke-opacity=\"1\" stroke-width=\"3.2\"/>\n",
       "<path clip-path=\"url(#clip562)\" d=\"M2076.01 244.801 L2064.7 240.113 L2060.01 228.801 L2064.7 217.489 L2076.01 212.801 L2087.32 217.489 L2092.01 228.801 L2087.32 240.113 Z\" fill=\"#009af9\" fill-rule=\"evenodd\" fill-opacity=\"1\" stroke=\"#000000\" stroke-opacity=\"1\" stroke-width=\"3.2\"/>\n",
       "<path clip-path=\"url(#clip562)\" d=\"M2183.69 174.248 L2172.38 169.56 L2167.69 158.248 L2172.38 146.936 L2183.69 142.248 L2195.01 146.936 L2199.69 158.248 L2195.01 169.56 Z\" fill=\"#009af9\" fill-rule=\"evenodd\" fill-opacity=\"1\" stroke=\"#000000\" stroke-opacity=\"1\" stroke-width=\"3.2\"/>\n",
       "<path clip-path=\"url(#clip562)\" d=\"M2291.38 103.976 L2280.06 99.2883 L2275.38 87.9763 L2280.06 76.6643 L2291.38 71.9763 L2302.69 76.6643 L2307.38 87.9763 L2302.69 99.2883 Z\" fill=\"#009af9\" fill-rule=\"evenodd\" fill-opacity=\"1\" stroke=\"#000000\" stroke-opacity=\"1\" stroke-width=\"3.2\"/>\n",
       "<path clip-path=\"url(#clip560)\" d=\"\n",
       "M1988.48 216.178 L2280.47 216.178 L2280.47 95.2176 L1988.48 95.2176  Z\n",
       "  \" fill=\"#ffffff\" fill-rule=\"evenodd\" fill-opacity=\"1\"/>\n",
       "<polyline clip-path=\"url(#clip560)\" style=\"stroke:#000000; stroke-width:4; stroke-opacity:1; fill:none\" points=\"\n",
       "  1988.48,216.178 2280.47,216.178 2280.47,95.2176 1988.48,95.2176 1988.48,216.178 \n",
       "  \"/>\n",
       "<polyline clip-path=\"url(#clip560)\" style=\"stroke:#009af9; stroke-width:4; stroke-opacity:1; fill:none\" points=\"\n",
       "  2012.57,155.698 2157.16,155.698 \n",
       "  \"/>\n",
       "<path clip-path=\"url(#clip560)\" d=\"M2084.87 181.298 L2066.77 173.797 L2059.27 155.698 L2066.77 137.598 L2084.87 130.098 L2102.96 137.598 L2110.47 155.698 L2102.96 173.797 Z\" fill=\"#009af9\" fill-rule=\"evenodd\" fill-opacity=\"1\" stroke=\"#000000\" stroke-opacity=\"1\" stroke-width=\"5.12\"/>\n",
       "<path clip-path=\"url(#clip560)\" d=\"M 0 0 M2195.1 175.385 Q2193.29 180.015 2191.58 181.427 Q2189.86 182.839 2186.99 182.839 L2183.59 182.839 L2183.59 179.274 L2186.09 179.274 Q2187.85 179.274 2188.82 178.44 Q2189.79 177.607 2190.98 174.505 L2191.74 172.561 L2181.25 147.052 L2185.77 147.052 L2193.87 167.329 L2201.97 147.052 L2206.48 147.052 L2195.1 175.385 Z\" fill=\"#000000\" fill-rule=\"evenodd\" fill-opacity=\"1\" /><path clip-path=\"url(#clip560)\" d=\"M 0 0 M2212.36 169.042 L2220 169.042 L2220 142.677 L2211.69 144.343 L2211.69 140.084 L2219.96 138.418 L2224.63 138.418 L2224.63 169.042 L2232.27 169.042 L2232.27 172.978 L2212.36 172.978 L2212.36 169.042 Z\" fill=\"#000000\" fill-rule=\"evenodd\" fill-opacity=\"1\" /></svg>\n"
      ]
     },
     "execution_count": 78,
     "metadata": {},
     "output_type": "execute_result"
    }
   ],
   "source": [
    "plot(I, m=:o, yscale=:log10)"
   ]
  },
  {
   "cell_type": "code",
   "execution_count": 79,
   "metadata": {},
   "outputs": [
    {
     "data": {
      "image/svg+xml": [
       "<?xml version=\"1.0\" encoding=\"utf-8\"?>\n",
       "<svg xmlns=\"http://www.w3.org/2000/svg\" xmlns:xlink=\"http://www.w3.org/1999/xlink\" width=\"600\" height=\"400\" viewBox=\"0 0 2400 1600\">\n",
       "<defs>\n",
       "  <clipPath id=\"clip600\">\n",
       "    <rect x=\"0\" y=\"0\" width=\"2400\" height=\"1600\"/>\n",
       "  </clipPath>\n",
       "</defs>\n",
       "<path clip-path=\"url(#clip600)\" d=\"\n",
       "M0 1600 L2400 1600 L2400 0 L0 0  Z\n",
       "  \" fill=\"#ffffff\" fill-rule=\"evenodd\" fill-opacity=\"1\"/>\n",
       "<defs>\n",
       "  <clipPath id=\"clip601\">\n",
       "    <rect x=\"480\" y=\"0\" width=\"1681\" height=\"1600\"/>\n",
       "  </clipPath>\n",
       "</defs>\n",
       "<path clip-path=\"url(#clip600)\" d=\"\n",
       "M153.994 1486.45 L2352.76 1486.45 L2352.76 47.2441 L153.994 47.2441  Z\n",
       "  \" fill=\"#ffffff\" fill-rule=\"evenodd\" fill-opacity=\"1\"/>\n",
       "<defs>\n",
       "  <clipPath id=\"clip602\">\n",
       "    <rect x=\"153\" y=\"47\" width=\"2200\" height=\"1440\"/>\n",
       "  </clipPath>\n",
       "</defs>\n",
       "<polyline clip-path=\"url(#clip602)\" style=\"stroke:#000000; stroke-width:2; stroke-opacity:0.1; fill:none\" points=\"\n",
       "  195.271,1486.45 195.271,47.2441 \n",
       "  \"/>\n",
       "<polyline clip-path=\"url(#clip602)\" style=\"stroke:#000000; stroke-width:2; stroke-opacity:0.1; fill:none\" points=\"\n",
       "  719.085,1486.45 719.085,47.2441 \n",
       "  \"/>\n",
       "<polyline clip-path=\"url(#clip602)\" style=\"stroke:#000000; stroke-width:2; stroke-opacity:0.1; fill:none\" points=\"\n",
       "  1242.9,1486.45 1242.9,47.2441 \n",
       "  \"/>\n",
       "<polyline clip-path=\"url(#clip602)\" style=\"stroke:#000000; stroke-width:2; stroke-opacity:0.1; fill:none\" points=\"\n",
       "  1766.71,1486.45 1766.71,47.2441 \n",
       "  \"/>\n",
       "<polyline clip-path=\"url(#clip602)\" style=\"stroke:#000000; stroke-width:2; stroke-opacity:0.1; fill:none\" points=\"\n",
       "  2290.53,1486.45 2290.53,47.2441 \n",
       "  \"/>\n",
       "<polyline clip-path=\"url(#clip600)\" style=\"stroke:#000000; stroke-width:4; stroke-opacity:1; fill:none\" points=\"\n",
       "  153.994,1486.45 2352.76,1486.45 \n",
       "  \"/>\n",
       "<polyline clip-path=\"url(#clip600)\" style=\"stroke:#000000; stroke-width:4; stroke-opacity:1; fill:none\" points=\"\n",
       "  195.271,1486.45 195.271,1469.18 \n",
       "  \"/>\n",
       "<polyline clip-path=\"url(#clip600)\" style=\"stroke:#000000; stroke-width:4; stroke-opacity:1; fill:none\" points=\"\n",
       "  719.085,1486.45 719.085,1469.18 \n",
       "  \"/>\n",
       "<polyline clip-path=\"url(#clip600)\" style=\"stroke:#000000; stroke-width:4; stroke-opacity:1; fill:none\" points=\"\n",
       "  1242.9,1486.45 1242.9,1469.18 \n",
       "  \"/>\n",
       "<polyline clip-path=\"url(#clip600)\" style=\"stroke:#000000; stroke-width:4; stroke-opacity:1; fill:none\" points=\"\n",
       "  1766.71,1486.45 1766.71,1469.18 \n",
       "  \"/>\n",
       "<polyline clip-path=\"url(#clip600)\" style=\"stroke:#000000; stroke-width:4; stroke-opacity:1; fill:none\" points=\"\n",
       "  2290.53,1486.45 2290.53,1469.18 \n",
       "  \"/>\n",
       "<path clip-path=\"url(#clip600)\" d=\"M 0 0 M195.271 1515.64 Q191.66 1515.64 189.831 1519.2 Q188.025 1522.75 188.025 1529.87 Q188.025 1536.98 189.831 1540.55 Q191.66 1544.09 195.271 1544.09 Q198.905 1544.09 200.71 1540.55 Q202.539 1536.98 202.539 1529.87 Q202.539 1522.75 200.71 1519.2 Q198.905 1515.64 195.271 1515.64 M195.271 1511.93 Q201.081 1511.93 204.136 1516.54 Q207.215 1521.12 207.215 1529.87 Q207.215 1538.6 204.136 1543.21 Q201.081 1547.79 195.271 1547.79 Q189.46 1547.79 186.382 1543.21 Q183.326 1538.6 183.326 1529.87 Q183.326 1521.12 186.382 1516.54 Q189.46 1511.93 195.271 1511.93 Z\" fill=\"#000000\" fill-rule=\"evenodd\" fill-opacity=\"1\" /><path clip-path=\"url(#clip600)\" d=\"M 0 0 M700.728 1543.18 L717.048 1543.18 L717.048 1547.12 L695.103 1547.12 L695.103 1543.18 Q697.765 1540.43 702.349 1535.8 Q706.955 1531.15 708.136 1529.81 Q710.381 1527.28 711.261 1525.55 Q712.163 1523.79 712.163 1522.1 Q712.163 1519.34 710.219 1517.61 Q708.298 1515.87 705.196 1515.87 Q702.997 1515.87 700.543 1516.63 Q698.113 1517.4 695.335 1518.95 L695.335 1514.23 Q698.159 1513.09 700.613 1512.51 Q703.066 1511.93 705.103 1511.93 Q710.474 1511.93 713.668 1514.62 Q716.862 1517.31 716.862 1521.8 Q716.862 1523.93 716.052 1525.85 Q715.265 1527.74 713.159 1530.34 Q712.58 1531.01 709.478 1534.23 Q706.376 1537.42 700.728 1543.18 Z\" fill=\"#000000\" fill-rule=\"evenodd\" fill-opacity=\"1\" /><path clip-path=\"url(#clip600)\" d=\"M 0 0 M722.163 1512.56 L740.52 1512.56 L740.52 1516.5 L726.446 1516.5 L726.446 1524.97 Q727.464 1524.62 728.483 1524.46 Q729.501 1524.27 730.52 1524.27 Q736.307 1524.27 739.686 1527.44 Q743.066 1530.62 743.066 1536.03 Q743.066 1541.61 739.594 1544.71 Q736.122 1547.79 729.802 1547.79 Q727.626 1547.79 725.358 1547.42 Q723.112 1547.05 720.705 1546.31 L720.705 1541.61 Q722.788 1542.74 725.011 1543.3 Q727.233 1543.86 729.71 1543.86 Q733.714 1543.86 736.052 1541.75 Q738.39 1539.64 738.39 1536.03 Q738.39 1532.42 736.052 1530.31 Q733.714 1528.21 729.71 1528.21 Q727.835 1528.21 725.96 1528.62 Q724.108 1529.04 722.163 1529.92 L722.163 1512.56 Z\" fill=\"#000000\" fill-rule=\"evenodd\" fill-opacity=\"1\" /><path clip-path=\"url(#clip600)\" d=\"M 0 0 M1219.67 1512.56 L1238.03 1512.56 L1238.03 1516.5 L1223.95 1516.5 L1223.95 1524.97 Q1224.97 1524.62 1225.99 1524.46 Q1227.01 1524.27 1228.03 1524.27 Q1233.81 1524.27 1237.19 1527.44 Q1240.57 1530.62 1240.57 1536.03 Q1240.57 1541.61 1237.1 1544.71 Q1233.63 1547.79 1227.31 1547.79 Q1225.13 1547.79 1222.86 1547.42 Q1220.62 1547.05 1218.21 1546.31 L1218.21 1541.61 Q1220.29 1542.74 1222.52 1543.3 Q1224.74 1543.86 1227.22 1543.86 Q1231.22 1543.86 1233.56 1541.75 Q1235.9 1539.64 1235.9 1536.03 Q1235.9 1532.42 1233.56 1530.31 Q1231.22 1528.21 1227.22 1528.21 Q1225.34 1528.21 1223.47 1528.62 Q1221.61 1529.04 1219.67 1529.92 L1219.67 1512.56 Z\" fill=\"#000000\" fill-rule=\"evenodd\" fill-opacity=\"1\" /><path clip-path=\"url(#clip600)\" d=\"M 0 0 M1255.64 1515.64 Q1252.03 1515.64 1250.2 1519.2 Q1248.4 1522.75 1248.4 1529.87 Q1248.4 1536.98 1250.2 1540.55 Q1252.03 1544.09 1255.64 1544.09 Q1259.28 1544.09 1261.08 1540.55 Q1262.91 1536.98 1262.91 1529.87 Q1262.91 1522.75 1261.08 1519.2 Q1259.28 1515.64 1255.64 1515.64 M1255.64 1511.93 Q1261.45 1511.93 1264.51 1516.54 Q1267.59 1521.12 1267.59 1529.87 Q1267.59 1538.6 1264.51 1543.21 Q1261.45 1547.79 1255.64 1547.79 Q1249.83 1547.79 1246.75 1543.21 Q1243.7 1538.6 1243.7 1529.87 Q1243.7 1521.12 1246.75 1516.54 Q1249.83 1511.93 1255.64 1511.93 Z\" fill=\"#000000\" fill-rule=\"evenodd\" fill-opacity=\"1\" /><path clip-path=\"url(#clip600)\" d=\"M 0 0 M1742.59 1512.56 L1764.81 1512.56 L1764.81 1514.55 L1752.27 1547.12 L1747.38 1547.12 L1759.19 1516.5 L1742.59 1516.5 L1742.59 1512.56 Z\" fill=\"#000000\" fill-rule=\"evenodd\" fill-opacity=\"1\" /><path clip-path=\"url(#clip600)\" d=\"M 0 0 M1769.93 1512.56 L1788.29 1512.56 L1788.29 1516.5 L1774.21 1516.5 L1774.21 1524.97 Q1775.23 1524.62 1776.25 1524.46 Q1777.27 1524.27 1778.29 1524.27 Q1784.07 1524.27 1787.45 1527.44 Q1790.83 1530.62 1790.83 1536.03 Q1790.83 1541.61 1787.36 1544.71 Q1783.89 1547.79 1777.57 1547.79 Q1775.39 1547.79 1773.12 1547.42 Q1770.88 1547.05 1768.47 1546.31 L1768.47 1541.61 Q1770.56 1542.74 1772.78 1543.3 Q1775 1543.86 1777.48 1543.86 Q1781.48 1543.86 1783.82 1541.75 Q1786.16 1539.64 1786.16 1536.03 Q1786.16 1532.42 1783.82 1530.31 Q1781.48 1528.21 1777.48 1528.21 Q1775.6 1528.21 1773.73 1528.62 Q1771.87 1529.04 1769.93 1529.92 L1769.93 1512.56 Z\" fill=\"#000000\" fill-rule=\"evenodd\" fill-opacity=\"1\" /><path clip-path=\"url(#clip600)\" d=\"M 0 0 M2253.9 1543.18 L2261.53 1543.18 L2261.53 1516.82 L2253.22 1518.49 L2253.22 1514.23 L2261.49 1512.56 L2266.16 1512.56 L2266.16 1543.18 L2273.8 1543.18 L2273.8 1547.12 L2253.9 1547.12 L2253.9 1543.18 Z\" fill=\"#000000\" fill-rule=\"evenodd\" fill-opacity=\"1\" /><path clip-path=\"url(#clip600)\" d=\"M 0 0 M2288.87 1515.64 Q2285.26 1515.64 2283.43 1519.2 Q2281.63 1522.75 2281.63 1529.87 Q2281.63 1536.98 2283.43 1540.55 Q2285.26 1544.09 2288.87 1544.09 Q2292.51 1544.09 2294.31 1540.55 Q2296.14 1536.98 2296.14 1529.87 Q2296.14 1522.75 2294.31 1519.2 Q2292.51 1515.64 2288.87 1515.64 M2288.87 1511.93 Q2294.68 1511.93 2297.74 1516.54 Q2300.82 1521.12 2300.82 1529.87 Q2300.82 1538.6 2297.74 1543.21 Q2294.68 1547.79 2288.87 1547.79 Q2283.06 1547.79 2279.98 1543.21 Q2276.93 1538.6 2276.93 1529.87 Q2276.93 1521.12 2279.98 1516.54 Q2283.06 1511.93 2288.87 1511.93 Z\" fill=\"#000000\" fill-rule=\"evenodd\" fill-opacity=\"1\" /><path clip-path=\"url(#clip600)\" d=\"M 0 0 M2315.89 1515.64 Q2312.27 1515.64 2310.45 1519.2 Q2308.64 1522.75 2308.64 1529.87 Q2308.64 1536.98 2310.45 1540.55 Q2312.27 1544.09 2315.89 1544.09 Q2319.52 1544.09 2321.33 1540.55 Q2323.15 1536.98 2323.15 1529.87 Q2323.15 1522.75 2321.33 1519.2 Q2319.52 1515.64 2315.89 1515.64 M2315.89 1511.93 Q2321.7 1511.93 2324.75 1516.54 Q2327.83 1521.12 2327.83 1529.87 Q2327.83 1538.6 2324.75 1543.21 Q2321.7 1547.79 2315.89 1547.79 Q2310.08 1547.79 2307 1543.21 Q2303.94 1538.6 2303.94 1529.87 Q2303.94 1521.12 2307 1516.54 Q2310.08 1511.93 2315.89 1511.93 Z\" fill=\"#000000\" fill-rule=\"evenodd\" fill-opacity=\"1\" /><polyline clip-path=\"url(#clip602)\" style=\"stroke:#000000; stroke-width:2; stroke-opacity:0.1; fill:none\" points=\"\n",
       "  153.994,1445.72 2352.76,1445.72 \n",
       "  \"/>\n",
       "<polyline clip-path=\"url(#clip602)\" style=\"stroke:#000000; stroke-width:2; stroke-opacity:0.1; fill:none\" points=\"\n",
       "  153.994,993.136 2352.76,993.136 \n",
       "  \"/>\n",
       "<polyline clip-path=\"url(#clip602)\" style=\"stroke:#000000; stroke-width:2; stroke-opacity:0.1; fill:none\" points=\"\n",
       "  153.994,540.556 2352.76,540.556 \n",
       "  \"/>\n",
       "<polyline clip-path=\"url(#clip602)\" style=\"stroke:#000000; stroke-width:2; stroke-opacity:0.1; fill:none\" points=\"\n",
       "  153.994,87.976 2352.76,87.976 \n",
       "  \"/>\n",
       "<polyline clip-path=\"url(#clip600)\" style=\"stroke:#000000; stroke-width:4; stroke-opacity:1; fill:none\" points=\"\n",
       "  153.994,1486.45 153.994,47.2441 \n",
       "  \"/>\n",
       "<polyline clip-path=\"url(#clip600)\" style=\"stroke:#000000; stroke-width:4; stroke-opacity:1; fill:none\" points=\"\n",
       "  153.994,1445.72 180.379,1445.72 \n",
       "  \"/>\n",
       "<polyline clip-path=\"url(#clip600)\" style=\"stroke:#000000; stroke-width:4; stroke-opacity:1; fill:none\" points=\"\n",
       "  153.994,993.136 180.379,993.136 \n",
       "  \"/>\n",
       "<polyline clip-path=\"url(#clip600)\" style=\"stroke:#000000; stroke-width:4; stroke-opacity:1; fill:none\" points=\"\n",
       "  153.994,540.556 180.379,540.556 \n",
       "  \"/>\n",
       "<polyline clip-path=\"url(#clip600)\" style=\"stroke:#000000; stroke-width:4; stroke-opacity:1; fill:none\" points=\"\n",
       "  153.994,87.976 180.379,87.976 \n",
       "  \"/>\n",
       "<path clip-path=\"url(#clip600)\" d=\"M 0 0 M51.6634 1465.51 L59.3023 1465.51 L59.3023 1439.14 L50.9921 1440.81 L50.9921 1436.55 L59.256 1434.88 L63.9319 1434.88 L63.9319 1465.51 L71.5707 1465.51 L71.5707 1469.44 L51.6634 1469.44 L51.6634 1465.51 Z\" fill=\"#000000\" fill-rule=\"evenodd\" fill-opacity=\"1\" /><path clip-path=\"url(#clip600)\" d=\"M 0 0 M86.6401 1437.96 Q83.029 1437.96 81.2003 1441.53 Q79.3948 1445.07 79.3948 1452.2 Q79.3948 1459.3 81.2003 1462.87 Q83.029 1466.41 86.6401 1466.41 Q90.2743 1466.41 92.0799 1462.87 Q93.9086 1459.3 93.9086 1452.2 Q93.9086 1445.07 92.0799 1441.53 Q90.2743 1437.96 86.6401 1437.96 M86.6401 1434.26 Q92.4502 1434.26 95.5058 1438.86 Q98.5845 1443.45 98.5845 1452.2 Q98.5845 1460.92 95.5058 1465.53 Q92.4502 1470.11 86.6401 1470.11 Q80.8299 1470.11 77.7512 1465.53 Q74.6957 1460.92 74.6957 1452.2 Q74.6957 1443.45 77.7512 1438.86 Q80.8299 1434.26 86.6401 1434.26 Z\" fill=\"#000000\" fill-rule=\"evenodd\" fill-opacity=\"1\" /><path clip-path=\"url(#clip600)\" d=\"M 0 0 M108.289 1416.45 Q105.355 1416.45 103.869 1419.35 Q102.402 1422.23 102.402 1428.02 Q102.402 1433.8 103.869 1436.69 Q105.355 1439.57 108.289 1439.57 Q111.242 1439.57 112.709 1436.69 Q114.195 1433.8 114.195 1428.02 Q114.195 1422.23 112.709 1419.35 Q111.242 1416.45 108.289 1416.45 M108.289 1413.45 Q113.01 1413.45 115.493 1417.19 Q117.994 1420.91 117.994 1428.02 Q117.994 1435.11 115.493 1438.85 Q113.01 1442.58 108.289 1442.58 Q103.569 1442.58 101.067 1438.85 Q98.5845 1435.11 98.5845 1428.02 Q98.5845 1420.91 101.067 1417.19 Q103.569 1413.45 108.289 1413.45 Z\" fill=\"#000000\" fill-rule=\"evenodd\" fill-opacity=\"1\" /><path clip-path=\"url(#clip600)\" d=\"M 0 0 M54.3529 1012.93 L61.9918 1012.93 L61.9918 986.563 L53.6816 988.229 L53.6816 983.97 L61.9455 982.303 L66.6214 982.303 L66.6214 1012.93 L74.2602 1012.93 L74.2602 1016.86 L54.3529 1016.86 L54.3529 1012.93 Z\" fill=\"#000000\" fill-rule=\"evenodd\" fill-opacity=\"1\" /><path clip-path=\"url(#clip600)\" d=\"M 0 0 M89.3296 985.382 Q85.7185 985.382 83.8898 988.947 Q82.0843 992.489 82.0843 999.618 Q82.0843 1006.72 83.8898 1010.29 Q85.7185 1013.83 89.3296 1013.83 Q92.9638 1013.83 94.7694 1010.29 Q96.5981 1006.72 96.5981 999.618 Q96.5981 992.489 94.7694 988.947 Q92.9638 985.382 89.3296 985.382 M89.3296 981.678 Q95.1397 981.678 98.1953 986.285 Q101.274 990.868 101.274 999.618 Q101.274 1008.34 98.1953 1012.95 Q95.1397 1017.53 89.3296 1017.53 Q83.5194 1017.53 80.4408 1012.95 Q77.3852 1008.34 77.3852 999.618 Q77.3852 990.868 80.4408 986.285 Q83.5194 981.678 89.3296 981.678 Z\" fill=\"#000000\" fill-rule=\"evenodd\" fill-opacity=\"1\" /><path clip-path=\"url(#clip600)\" d=\"M 0 0 M101.819 986.256 L108.026 986.256 L108.026 964.834 L101.274 966.188 L101.274 962.727 L107.988 961.373 L111.788 961.373 L111.788 986.256 L117.994 986.256 L117.994 989.453 L101.819 989.453 L101.819 986.256 Z\" fill=\"#000000\" fill-rule=\"evenodd\" fill-opacity=\"1\" /><path clip-path=\"url(#clip600)\" d=\"M 0 0 M53.2433 560.348 L60.8821 560.348 L60.8821 533.983 L52.572 535.649 L52.572 531.39 L60.8358 529.724 L65.5117 529.724 L65.5117 560.348 L73.1506 560.348 L73.1506 564.284 L53.2433 564.284 L53.2433 560.348 Z\" fill=\"#000000\" fill-rule=\"evenodd\" fill-opacity=\"1\" /><path clip-path=\"url(#clip600)\" d=\"M 0 0 M88.2199 532.802 Q84.6088 532.802 82.7802 536.367 Q80.9746 539.909 80.9746 547.038 Q80.9746 554.145 82.7802 557.709 Q84.6088 561.251 88.2199 561.251 Q91.8542 561.251 93.6597 557.709 Q95.4884 554.145 95.4884 547.038 Q95.4884 539.909 93.6597 536.367 Q91.8542 532.802 88.2199 532.802 M88.2199 529.099 Q94.0301 529.099 97.0856 533.705 Q100.164 538.288 100.164 547.038 Q100.164 555.765 97.0856 560.372 Q94.0301 564.955 88.2199 564.955 Q82.4098 564.955 79.3311 560.372 Q76.2756 555.765 76.2756 547.038 Q76.2756 538.288 79.3311 533.705 Q82.4098 529.099 88.2199 529.099 Z\" fill=\"#000000\" fill-rule=\"evenodd\" fill-opacity=\"1\" /><path clip-path=\"url(#clip600)\" d=\"M 0 0 M104.735 533.676 L117.994 533.676 L117.994 536.873 L100.164 536.873 L100.164 533.676 Q102.327 531.438 106.051 527.676 Q109.794 523.896 110.753 522.805 Q112.577 520.755 113.292 519.344 Q114.026 517.915 114.026 516.542 Q114.026 514.304 112.446 512.893 Q110.885 511.483 108.365 511.483 Q106.578 511.483 104.584 512.103 Q102.609 512.724 100.352 513.984 L100.352 510.147 Q102.647 509.226 104.641 508.756 Q106.634 508.285 108.289 508.285 Q112.653 508.285 115.248 510.467 Q117.844 512.649 117.844 516.297 Q117.844 518.028 117.185 519.589 Q116.546 521.131 114.834 523.237 Q114.364 523.783 111.844 526.397 Q109.324 528.993 104.735 533.676 Z\" fill=\"#000000\" fill-rule=\"evenodd\" fill-opacity=\"1\" /><path clip-path=\"url(#clip600)\" d=\"M 0 0 M52.585 107.768 L60.2238 107.768 L60.2238 81.4029 L51.9137 83.0695 L51.9137 78.8103 L60.1776 77.1436 L64.8535 77.1436 L64.8535 107.768 L72.4923 107.768 L72.4923 111.704 L52.585 111.704 L52.585 107.768 Z\" fill=\"#000000\" fill-rule=\"evenodd\" fill-opacity=\"1\" /><path clip-path=\"url(#clip600)\" d=\"M 0 0 M87.5617 80.2223 Q83.9506 80.2223 82.1219 83.7871 Q80.3163 87.3288 80.3163 94.4584 Q80.3163 101.565 82.1219 105.13 Q83.9506 108.671 87.5617 108.671 Q91.1959 108.671 93.0014 105.13 Q94.8301 101.565 94.8301 94.4584 Q94.8301 87.3288 93.0014 83.7871 Q91.1959 80.2223 87.5617 80.2223 M87.5617 76.5186 Q93.3718 76.5186 96.4274 81.1251 Q99.506 85.7084 99.506 94.4584 Q99.506 103.185 96.4274 107.792 Q93.3718 112.375 87.5617 112.375 Q81.7515 112.375 78.6728 107.792 Q75.6173 103.185 75.6173 94.4584 Q75.6173 85.7084 78.6728 81.1251 Q81.7515 76.5186 87.5617 76.5186 Z\" fill=\"#000000\" fill-rule=\"evenodd\" fill-opacity=\"1\" /><path clip-path=\"url(#clip600)\" d=\"M 0 0 M112.201 69.153 Q114.928 69.736 116.452 71.5792 Q117.994 73.4223 117.994 76.1307 Q117.994 80.2872 115.135 82.5629 Q112.277 84.8387 107.01 84.8387 Q105.242 84.8387 103.362 84.4813 Q101.5 84.1428 99.506 83.4469 L99.506 79.7794 Q101.086 80.701 102.967 81.1711 Q104.847 81.6413 106.897 81.6413 Q110.471 81.6413 112.333 80.2308 Q114.214 78.8202 114.214 76.1307 Q114.214 73.648 112.465 72.2563 Q110.734 70.8457 107.631 70.8457 L104.358 70.8457 L104.358 67.7236 L107.781 67.7236 Q110.584 67.7236 112.07 66.6139 Q113.555 65.4855 113.555 63.379 Q113.555 61.2161 112.013 60.0688 Q110.49 58.9027 107.631 58.9027 Q106.07 58.9027 104.283 59.2413 Q102.496 59.5798 100.352 60.2945 L100.352 56.9091 Q102.515 56.3073 104.396 56.0064 Q106.296 55.7054 107.97 55.7054 Q112.295 55.7054 114.816 57.6802 Q117.336 59.6363 117.336 62.984 Q117.336 65.3162 116 66.9337 Q114.665 68.5323 112.201 69.153 Z\" fill=\"#000000\" fill-rule=\"evenodd\" fill-opacity=\"1\" /><polyline clip-path=\"url(#clip602)\" style=\"stroke:#009af9; stroke-width:4; stroke-opacity:1; fill:none\" points=\"\n",
       "  216.223,1445.72 237.176,1409.91 258.128,1374.12 279.081,1338.33 300.033,1302.55 320.986,1266.78 341.939,1231.03 362.891,1195.29 383.844,1159.57 404.796,1123.87 \n",
       "  425.749,1088.21 446.701,1052.57 467.654,1016.98 488.606,981.433 509.559,945.946 530.512,910.527 551.464,875.19 572.417,839.952 593.369,804.832 614.322,769.852 \n",
       "  635.274,735.039 656.227,700.425 677.18,666.047 698.132,631.948 719.085,598.181 740.037,564.804 760.99,531.885 781.942,499.503 802.895,467.746 823.847,436.713 \n",
       "  844.8,406.514 865.753,377.266 886.705,349.096 907.658,322.135 928.61,296.512 949.563,272.355 970.515,249.778 991.468,228.877 1012.42,209.726 1033.37,192.364 \n",
       "  1054.33,176.799 1075.28,163.002 1096.23,150.909 1117.18,140.423 1138.14,131.426 1159.09,123.78 1180.04,117.34 1200.99,111.959 1221.95,107.495 1242.9,103.813 \n",
       "  1263.85,100.793 1284.8,98.3272 1305.76,96.3208 1326.71,94.6936 1347.66,93.3772 1368.61,92.3145 1389.57,91.4582 1410.52,90.7691 1431.47,90.2152 1452.42,89.7704 \n",
       "  1473.38,89.4135 1494.33,89.1273 1515.28,88.8978 1536.23,88.714 1557.19,88.5667 1578.14,88.4488 1599.09,88.3544 1620.04,88.2788 1641,88.2183 1661.95,88.1699 \n",
       "  1682.9,88.1311 1703.86,88.1001 1724.81,88.0753 1745.76,88.0555 1766.71,88.0396 1787.67,88.0269 1808.62,88.0167 1829.57,88.0086 1850.52,88.0021 1871.48,87.9969 \n",
       "  1892.43,87.9927 1913.38,87.9894 1934.33,87.9867 1955.29,87.9846 1976.24,87.9829 1997.19,87.9815 2018.14,87.9804 2039.1,87.9795 2060.05,87.9788 2081,87.9783 \n",
       "  2101.95,87.9778 2122.91,87.9775 2143.86,87.9772 2164.81,87.977 2185.76,87.9768 2206.72,87.9766 2227.67,87.9765 2248.62,87.9764 2269.57,87.9763 2290.53,87.9763 \n",
       "  \n",
       "  \"/>\n",
       "<path clip-path=\"url(#clip602)\" d=\"M216.223 1461.72 L204.911 1457.03 L200.223 1445.72 L204.911 1434.4 L216.223 1429.72 L227.535 1434.4 L232.223 1445.72 L227.535 1457.03 Z\" fill=\"#009af9\" fill-rule=\"evenodd\" fill-opacity=\"1\" stroke=\"#000000\" stroke-opacity=\"1\" stroke-width=\"3.2\"/>\n",
       "<path clip-path=\"url(#clip602)\" d=\"M237.176 1425.91 L225.864 1421.22 L221.176 1409.91 L225.864 1398.6 L237.176 1393.91 L248.488 1398.6 L253.176 1409.91 L248.488 1421.22 Z\" fill=\"#009af9\" fill-rule=\"evenodd\" fill-opacity=\"1\" stroke=\"#000000\" stroke-opacity=\"1\" stroke-width=\"3.2\"/>\n",
       "<path clip-path=\"url(#clip602)\" d=\"M258.128 1390.12 L246.816 1385.43 L242.128 1374.12 L246.816 1362.8 L258.128 1358.12 L269.44 1362.8 L274.128 1374.12 L269.44 1385.43 Z\" fill=\"#009af9\" fill-rule=\"evenodd\" fill-opacity=\"1\" stroke=\"#000000\" stroke-opacity=\"1\" stroke-width=\"3.2\"/>\n",
       "<path clip-path=\"url(#clip602)\" d=\"M279.081 1354.33 L267.769 1349.64 L263.081 1338.33 L267.769 1327.02 L279.081 1322.33 L290.393 1327.02 L295.081 1338.33 L290.393 1349.64 Z\" fill=\"#009af9\" fill-rule=\"evenodd\" fill-opacity=\"1\" stroke=\"#000000\" stroke-opacity=\"1\" stroke-width=\"3.2\"/>\n",
       "<path clip-path=\"url(#clip602)\" d=\"M300.033 1318.55 L288.721 1313.86 L284.033 1302.55 L288.721 1291.24 L300.033 1286.55 L311.345 1291.24 L316.033 1302.55 L311.345 1313.86 Z\" fill=\"#009af9\" fill-rule=\"evenodd\" fill-opacity=\"1\" stroke=\"#000000\" stroke-opacity=\"1\" stroke-width=\"3.2\"/>\n",
       "<path clip-path=\"url(#clip602)\" d=\"M320.986 1282.78 L309.674 1278.09 L304.986 1266.78 L309.674 1255.47 L320.986 1250.78 L332.298 1255.47 L336.986 1266.78 L332.298 1278.09 Z\" fill=\"#009af9\" fill-rule=\"evenodd\" fill-opacity=\"1\" stroke=\"#000000\" stroke-opacity=\"1\" stroke-width=\"3.2\"/>\n",
       "<path clip-path=\"url(#clip602)\" d=\"M341.939 1247.03 L330.627 1242.34 L325.939 1231.03 L330.627 1219.71 L341.939 1215.03 L353.251 1219.71 L357.939 1231.03 L353.251 1242.34 Z\" fill=\"#009af9\" fill-rule=\"evenodd\" fill-opacity=\"1\" stroke=\"#000000\" stroke-opacity=\"1\" stroke-width=\"3.2\"/>\n",
       "<path clip-path=\"url(#clip602)\" d=\"M362.891 1211.29 L351.579 1206.6 L346.891 1195.29 L351.579 1183.98 L362.891 1179.29 L374.203 1183.98 L378.891 1195.29 L374.203 1206.6 Z\" fill=\"#009af9\" fill-rule=\"evenodd\" fill-opacity=\"1\" stroke=\"#000000\" stroke-opacity=\"1\" stroke-width=\"3.2\"/>\n",
       "<path clip-path=\"url(#clip602)\" d=\"M383.844 1175.57 L372.532 1170.88 L367.844 1159.57 L372.532 1148.26 L383.844 1143.57 L395.156 1148.26 L399.844 1159.57 L395.156 1170.88 Z\" fill=\"#009af9\" fill-rule=\"evenodd\" fill-opacity=\"1\" stroke=\"#000000\" stroke-opacity=\"1\" stroke-width=\"3.2\"/>\n",
       "<path clip-path=\"url(#clip602)\" d=\"M404.796 1139.87 L393.484 1135.19 L388.796 1123.87 L393.484 1112.56 L404.796 1107.87 L416.108 1112.56 L420.796 1123.87 L416.108 1135.19 Z\" fill=\"#009af9\" fill-rule=\"evenodd\" fill-opacity=\"1\" stroke=\"#000000\" stroke-opacity=\"1\" stroke-width=\"3.2\"/>\n",
       "<path clip-path=\"url(#clip602)\" d=\"M425.749 1104.21 L414.437 1099.52 L409.749 1088.21 L414.437 1076.89 L425.749 1072.21 L437.061 1076.89 L441.749 1088.21 L437.061 1099.52 Z\" fill=\"#009af9\" fill-rule=\"evenodd\" fill-opacity=\"1\" stroke=\"#000000\" stroke-opacity=\"1\" stroke-width=\"3.2\"/>\n",
       "<path clip-path=\"url(#clip602)\" d=\"M446.701 1068.57 L435.389 1063.88 L430.701 1052.57 L435.389 1041.26 L446.701 1036.57 L458.013 1041.26 L462.701 1052.57 L458.013 1063.88 Z\" fill=\"#009af9\" fill-rule=\"evenodd\" fill-opacity=\"1\" stroke=\"#000000\" stroke-opacity=\"1\" stroke-width=\"3.2\"/>\n",
       "<path clip-path=\"url(#clip602)\" d=\"M467.654 1032.98 L456.342 1028.29 L451.654 1016.98 L456.342 1005.67 L467.654 1000.98 L478.966 1005.67 L483.654 1016.98 L478.966 1028.29 Z\" fill=\"#009af9\" fill-rule=\"evenodd\" fill-opacity=\"1\" stroke=\"#000000\" stroke-opacity=\"1\" stroke-width=\"3.2\"/>\n",
       "<path clip-path=\"url(#clip602)\" d=\"M488.606 997.433 L477.294 992.745 L472.606 981.433 L477.294 970.121 L488.606 965.433 L499.918 970.121 L504.606 981.433 L499.918 992.745 Z\" fill=\"#009af9\" fill-rule=\"evenodd\" fill-opacity=\"1\" stroke=\"#000000\" stroke-opacity=\"1\" stroke-width=\"3.2\"/>\n",
       "<path clip-path=\"url(#clip602)\" d=\"M509.559 961.946 L498.247 957.258 L493.559 945.946 L498.247 934.634 L509.559 929.946 L520.871 934.634 L525.559 945.946 L520.871 957.258 Z\" fill=\"#009af9\" fill-rule=\"evenodd\" fill-opacity=\"1\" stroke=\"#000000\" stroke-opacity=\"1\" stroke-width=\"3.2\"/>\n",
       "<path clip-path=\"url(#clip602)\" d=\"M530.512 926.527 L519.2 921.839 L514.512 910.527 L519.2 899.215 L530.512 894.527 L541.824 899.215 L546.512 910.527 L541.824 921.839 Z\" fill=\"#009af9\" fill-rule=\"evenodd\" fill-opacity=\"1\" stroke=\"#000000\" stroke-opacity=\"1\" stroke-width=\"3.2\"/>\n",
       "<path clip-path=\"url(#clip602)\" d=\"M551.464 891.19 L540.152 886.502 L535.464 875.19 L540.152 863.878 L551.464 859.19 L562.776 863.878 L567.464 875.19 L562.776 886.502 Z\" fill=\"#009af9\" fill-rule=\"evenodd\" fill-opacity=\"1\" stroke=\"#000000\" stroke-opacity=\"1\" stroke-width=\"3.2\"/>\n",
       "<path clip-path=\"url(#clip602)\" d=\"M572.417 855.952 L561.105 851.264 L556.417 839.952 L561.105 828.64 L572.417 823.952 L583.729 828.64 L588.417 839.952 L583.729 851.264 Z\" fill=\"#009af9\" fill-rule=\"evenodd\" fill-opacity=\"1\" stroke=\"#000000\" stroke-opacity=\"1\" stroke-width=\"3.2\"/>\n",
       "<path clip-path=\"url(#clip602)\" d=\"M593.369 820.832 L582.057 816.144 L577.369 804.832 L582.057 793.52 L593.369 788.832 L604.681 793.52 L609.369 804.832 L604.681 816.144 Z\" fill=\"#009af9\" fill-rule=\"evenodd\" fill-opacity=\"1\" stroke=\"#000000\" stroke-opacity=\"1\" stroke-width=\"3.2\"/>\n",
       "<path clip-path=\"url(#clip602)\" d=\"M614.322 785.852 L603.01 781.164 L598.322 769.852 L603.01 758.54 L614.322 753.852 L625.634 758.54 L630.322 769.852 L625.634 781.164 Z\" fill=\"#009af9\" fill-rule=\"evenodd\" fill-opacity=\"1\" stroke=\"#000000\" stroke-opacity=\"1\" stroke-width=\"3.2\"/>\n",
       "<path clip-path=\"url(#clip602)\" d=\"M635.274 751.039 L623.962 746.351 L619.274 735.039 L623.962 723.727 L635.274 719.039 L646.586 723.727 L651.274 735.039 L646.586 746.351 Z\" fill=\"#009af9\" fill-rule=\"evenodd\" fill-opacity=\"1\" stroke=\"#000000\" stroke-opacity=\"1\" stroke-width=\"3.2\"/>\n",
       "<path clip-path=\"url(#clip602)\" d=\"M656.227 716.425 L644.915 711.737 L640.227 700.425 L644.915 689.113 L656.227 684.425 L667.539 689.113 L672.227 700.425 L667.539 711.737 Z\" fill=\"#009af9\" fill-rule=\"evenodd\" fill-opacity=\"1\" stroke=\"#000000\" stroke-opacity=\"1\" stroke-width=\"3.2\"/>\n",
       "<path clip-path=\"url(#clip602)\" d=\"M677.18 682.047 L665.868 677.359 L661.18 666.047 L665.868 654.735 L677.18 650.047 L688.492 654.735 L693.18 666.047 L688.492 677.359 Z\" fill=\"#009af9\" fill-rule=\"evenodd\" fill-opacity=\"1\" stroke=\"#000000\" stroke-opacity=\"1\" stroke-width=\"3.2\"/>\n",
       "<path clip-path=\"url(#clip602)\" d=\"M698.132 647.948 L686.82 643.26 L682.132 631.948 L686.82 620.636 L698.132 615.948 L709.444 620.636 L714.132 631.948 L709.444 643.26 Z\" fill=\"#009af9\" fill-rule=\"evenodd\" fill-opacity=\"1\" stroke=\"#000000\" stroke-opacity=\"1\" stroke-width=\"3.2\"/>\n",
       "<path clip-path=\"url(#clip602)\" d=\"M719.085 614.181 L707.773 609.493 L703.085 598.181 L707.773 586.869 L719.085 582.181 L730.397 586.869 L735.085 598.181 L730.397 609.493 Z\" fill=\"#009af9\" fill-rule=\"evenodd\" fill-opacity=\"1\" stroke=\"#000000\" stroke-opacity=\"1\" stroke-width=\"3.2\"/>\n",
       "<path clip-path=\"url(#clip602)\" d=\"M740.037 580.804 L728.725 576.116 L724.037 564.804 L728.725 553.492 L740.037 548.804 L751.349 553.492 L756.037 564.804 L751.349 576.116 Z\" fill=\"#009af9\" fill-rule=\"evenodd\" fill-opacity=\"1\" stroke=\"#000000\" stroke-opacity=\"1\" stroke-width=\"3.2\"/>\n",
       "<path clip-path=\"url(#clip602)\" d=\"M760.99 547.885 L749.678 543.197 L744.99 531.885 L749.678 520.573 L760.99 515.885 L772.302 520.573 L776.99 531.885 L772.302 543.197 Z\" fill=\"#009af9\" fill-rule=\"evenodd\" fill-opacity=\"1\" stroke=\"#000000\" stroke-opacity=\"1\" stroke-width=\"3.2\"/>\n",
       "<path clip-path=\"url(#clip602)\" d=\"M781.942 515.503 L770.63 510.815 L765.942 499.503 L770.63 488.191 L781.942 483.503 L793.254 488.191 L797.942 499.503 L793.254 510.815 Z\" fill=\"#009af9\" fill-rule=\"evenodd\" fill-opacity=\"1\" stroke=\"#000000\" stroke-opacity=\"1\" stroke-width=\"3.2\"/>\n",
       "<path clip-path=\"url(#clip602)\" d=\"M802.895 483.746 L791.583 479.058 L786.895 467.746 L791.583 456.434 L802.895 451.746 L814.207 456.434 L818.895 467.746 L814.207 479.058 Z\" fill=\"#009af9\" fill-rule=\"evenodd\" fill-opacity=\"1\" stroke=\"#000000\" stroke-opacity=\"1\" stroke-width=\"3.2\"/>\n",
       "<path clip-path=\"url(#clip602)\" d=\"M823.847 452.713 L812.535 448.025 L807.847 436.713 L812.535 425.401 L823.847 420.713 L835.159 425.401 L839.847 436.713 L835.159 448.025 Z\" fill=\"#009af9\" fill-rule=\"evenodd\" fill-opacity=\"1\" stroke=\"#000000\" stroke-opacity=\"1\" stroke-width=\"3.2\"/>\n",
       "<path clip-path=\"url(#clip602)\" d=\"M844.8 422.514 L833.488 417.826 L828.8 406.514 L833.488 395.202 L844.8 390.514 L856.112 395.202 L860.8 406.514 L856.112 417.826 Z\" fill=\"#009af9\" fill-rule=\"evenodd\" fill-opacity=\"1\" stroke=\"#000000\" stroke-opacity=\"1\" stroke-width=\"3.2\"/>\n",
       "<path clip-path=\"url(#clip602)\" d=\"M865.753 393.266 L854.441 388.578 L849.753 377.266 L854.441 365.954 L865.753 361.266 L877.065 365.954 L881.753 377.266 L877.065 388.578 Z\" fill=\"#009af9\" fill-rule=\"evenodd\" fill-opacity=\"1\" stroke=\"#000000\" stroke-opacity=\"1\" stroke-width=\"3.2\"/>\n",
       "<path clip-path=\"url(#clip602)\" d=\"M886.705 365.096 L875.393 360.408 L870.705 349.096 L875.393 337.784 L886.705 333.096 L898.017 337.784 L902.705 349.096 L898.017 360.408 Z\" fill=\"#009af9\" fill-rule=\"evenodd\" fill-opacity=\"1\" stroke=\"#000000\" stroke-opacity=\"1\" stroke-width=\"3.2\"/>\n",
       "<path clip-path=\"url(#clip602)\" d=\"M907.658 338.135 L896.346 333.447 L891.658 322.135 L896.346 310.823 L907.658 306.135 L918.97 310.823 L923.658 322.135 L918.97 333.447 Z\" fill=\"#009af9\" fill-rule=\"evenodd\" fill-opacity=\"1\" stroke=\"#000000\" stroke-opacity=\"1\" stroke-width=\"3.2\"/>\n",
       "<path clip-path=\"url(#clip602)\" d=\"M928.61 312.512 L917.298 307.824 L912.61 296.512 L917.298 285.2 L928.61 280.512 L939.922 285.2 L944.61 296.512 L939.922 307.824 Z\" fill=\"#009af9\" fill-rule=\"evenodd\" fill-opacity=\"1\" stroke=\"#000000\" stroke-opacity=\"1\" stroke-width=\"3.2\"/>\n",
       "<path clip-path=\"url(#clip602)\" d=\"M949.563 288.355 L938.251 283.667 L933.563 272.355 L938.251 261.043 L949.563 256.355 L960.875 261.043 L965.563 272.355 L960.875 283.667 Z\" fill=\"#009af9\" fill-rule=\"evenodd\" fill-opacity=\"1\" stroke=\"#000000\" stroke-opacity=\"1\" stroke-width=\"3.2\"/>\n",
       "<path clip-path=\"url(#clip602)\" d=\"M970.515 265.778 L959.203 261.09 L954.515 249.778 L959.203 238.466 L970.515 233.778 L981.827 238.466 L986.515 249.778 L981.827 261.09 Z\" fill=\"#009af9\" fill-rule=\"evenodd\" fill-opacity=\"1\" stroke=\"#000000\" stroke-opacity=\"1\" stroke-width=\"3.2\"/>\n",
       "<path clip-path=\"url(#clip602)\" d=\"M991.468 244.877 L980.156 240.189 L975.468 228.877 L980.156 217.565 L991.468 212.877 L1002.78 217.565 L1007.47 228.877 L1002.78 240.189 Z\" fill=\"#009af9\" fill-rule=\"evenodd\" fill-opacity=\"1\" stroke=\"#000000\" stroke-opacity=\"1\" stroke-width=\"3.2\"/>\n",
       "<path clip-path=\"url(#clip602)\" d=\"M1012.42 225.726 L1001.11 221.038 L996.421 209.726 L1001.11 198.414 L1012.42 193.726 L1023.73 198.414 L1028.42 209.726 L1023.73 221.038 Z\" fill=\"#009af9\" fill-rule=\"evenodd\" fill-opacity=\"1\" stroke=\"#000000\" stroke-opacity=\"1\" stroke-width=\"3.2\"/>\n",
       "<path clip-path=\"url(#clip602)\" d=\"M1033.37 208.364 L1022.06 203.676 L1017.37 192.364 L1022.06 181.052 L1033.37 176.364 L1044.69 181.052 L1049.37 192.364 L1044.69 203.676 Z\" fill=\"#009af9\" fill-rule=\"evenodd\" fill-opacity=\"1\" stroke=\"#000000\" stroke-opacity=\"1\" stroke-width=\"3.2\"/>\n",
       "<path clip-path=\"url(#clip602)\" d=\"M1054.33 192.799 L1043.01 188.111 L1038.33 176.799 L1043.01 165.487 L1054.33 160.799 L1065.64 165.487 L1070.33 176.799 L1065.64 188.111 Z\" fill=\"#009af9\" fill-rule=\"evenodd\" fill-opacity=\"1\" stroke=\"#000000\" stroke-opacity=\"1\" stroke-width=\"3.2\"/>\n",
       "<path clip-path=\"url(#clip602)\" d=\"M1075.28 179.002 L1063.97 174.314 L1059.28 163.002 L1063.97 151.69 L1075.28 147.002 L1086.59 151.69 L1091.28 163.002 L1086.59 174.314 Z\" fill=\"#009af9\" fill-rule=\"evenodd\" fill-opacity=\"1\" stroke=\"#000000\" stroke-opacity=\"1\" stroke-width=\"3.2\"/>\n",
       "<path clip-path=\"url(#clip602)\" d=\"M1096.23 166.909 L1084.92 162.221 L1080.23 150.909 L1084.92 139.597 L1096.23 134.909 L1107.54 139.597 L1112.23 150.909 L1107.54 162.221 Z\" fill=\"#009af9\" fill-rule=\"evenodd\" fill-opacity=\"1\" stroke=\"#000000\" stroke-opacity=\"1\" stroke-width=\"3.2\"/>\n",
       "<path clip-path=\"url(#clip602)\" d=\"M1117.18 156.423 L1105.87 151.735 L1101.18 140.423 L1105.87 129.111 L1117.18 124.423 L1128.5 129.111 L1133.18 140.423 L1128.5 151.735 Z\" fill=\"#009af9\" fill-rule=\"evenodd\" fill-opacity=\"1\" stroke=\"#000000\" stroke-opacity=\"1\" stroke-width=\"3.2\"/>\n",
       "<path clip-path=\"url(#clip602)\" d=\"M1138.14 147.426 L1126.82 142.738 L1122.14 131.426 L1126.82 120.114 L1138.14 115.426 L1149.45 120.114 L1154.14 131.426 L1149.45 142.738 Z\" fill=\"#009af9\" fill-rule=\"evenodd\" fill-opacity=\"1\" stroke=\"#000000\" stroke-opacity=\"1\" stroke-width=\"3.2\"/>\n",
       "<path clip-path=\"url(#clip602)\" d=\"M1159.09 139.78 L1147.78 135.092 L1143.09 123.78 L1147.78 112.468 L1159.09 107.78 L1170.4 112.468 L1175.09 123.78 L1170.4 135.092 Z\" fill=\"#009af9\" fill-rule=\"evenodd\" fill-opacity=\"1\" stroke=\"#000000\" stroke-opacity=\"1\" stroke-width=\"3.2\"/>\n",
       "<path clip-path=\"url(#clip602)\" d=\"M1180.04 133.34 L1168.73 128.652 L1164.04 117.34 L1168.73 106.028 L1180.04 101.34 L1191.35 106.028 L1196.04 117.34 L1191.35 128.652 Z\" fill=\"#009af9\" fill-rule=\"evenodd\" fill-opacity=\"1\" stroke=\"#000000\" stroke-opacity=\"1\" stroke-width=\"3.2\"/>\n",
       "<path clip-path=\"url(#clip602)\" d=\"M1200.99 127.959 L1189.68 123.271 L1184.99 111.959 L1189.68 100.647 L1200.99 95.9592 L1212.31 100.647 L1216.99 111.959 L1212.31 123.271 Z\" fill=\"#009af9\" fill-rule=\"evenodd\" fill-opacity=\"1\" stroke=\"#000000\" stroke-opacity=\"1\" stroke-width=\"3.2\"/>\n",
       "<path clip-path=\"url(#clip602)\" d=\"M1221.95 123.495 L1210.63 118.807 L1205.95 107.495 L1210.63 96.1827 L1221.95 91.4947 L1233.26 96.1827 L1237.95 107.495 L1233.26 118.807 Z\" fill=\"#009af9\" fill-rule=\"evenodd\" fill-opacity=\"1\" stroke=\"#000000\" stroke-opacity=\"1\" stroke-width=\"3.2\"/>\n",
       "<path clip-path=\"url(#clip602)\" d=\"M1242.9 119.813 L1231.59 115.125 L1226.9 103.813 L1231.59 92.5013 L1242.9 87.8133 L1254.21 92.5013 L1258.9 103.813 L1254.21 115.125 Z\" fill=\"#009af9\" fill-rule=\"evenodd\" fill-opacity=\"1\" stroke=\"#000000\" stroke-opacity=\"1\" stroke-width=\"3.2\"/>\n",
       "<path clip-path=\"url(#clip602)\" d=\"M1263.85 116.793 L1252.54 112.105 L1247.85 100.793 L1252.54 89.4814 L1263.85 84.7934 L1275.16 89.4814 L1279.85 100.793 L1275.16 112.105 Z\" fill=\"#009af9\" fill-rule=\"evenodd\" fill-opacity=\"1\" stroke=\"#000000\" stroke-opacity=\"1\" stroke-width=\"3.2\"/>\n",
       "<path clip-path=\"url(#clip602)\" d=\"M1284.8 114.327 L1273.49 109.639 L1268.8 98.3272 L1273.49 87.0152 L1284.8 82.3272 L1296.12 87.0152 L1300.8 98.3272 L1296.12 109.639 Z\" fill=\"#009af9\" fill-rule=\"evenodd\" fill-opacity=\"1\" stroke=\"#000000\" stroke-opacity=\"1\" stroke-width=\"3.2\"/>\n",
       "<path clip-path=\"url(#clip602)\" d=\"M1305.76 112.321 L1294.44 107.633 L1289.76 96.3208 L1294.44 85.0088 L1305.76 80.3208 L1317.07 85.0088 L1321.76 96.3208 L1317.07 107.633 Z\" fill=\"#009af9\" fill-rule=\"evenodd\" fill-opacity=\"1\" stroke=\"#000000\" stroke-opacity=\"1\" stroke-width=\"3.2\"/>\n",
       "<path clip-path=\"url(#clip602)\" d=\"M1326.71 110.694 L1315.4 106.006 L1310.71 94.6936 L1315.4 83.3816 L1326.71 78.6936 L1338.02 83.3816 L1342.71 94.6936 L1338.02 106.006 Z\" fill=\"#009af9\" fill-rule=\"evenodd\" fill-opacity=\"1\" stroke=\"#000000\" stroke-opacity=\"1\" stroke-width=\"3.2\"/>\n",
       "<path clip-path=\"url(#clip602)\" d=\"M1347.66 109.377 L1336.35 104.689 L1331.66 93.3772 L1336.35 82.0652 L1347.66 77.3772 L1358.97 82.0652 L1363.66 93.3772 L1358.97 104.689 Z\" fill=\"#009af9\" fill-rule=\"evenodd\" fill-opacity=\"1\" stroke=\"#000000\" stroke-opacity=\"1\" stroke-width=\"3.2\"/>\n",
       "<path clip-path=\"url(#clip602)\" d=\"M1368.61 108.315 L1357.3 103.627 L1352.61 92.3145 L1357.3 81.0025 L1368.61 76.3145 L1379.93 81.0025 L1384.61 92.3145 L1379.93 103.627 Z\" fill=\"#009af9\" fill-rule=\"evenodd\" fill-opacity=\"1\" stroke=\"#000000\" stroke-opacity=\"1\" stroke-width=\"3.2\"/>\n",
       "<path clip-path=\"url(#clip602)\" d=\"M1389.57 107.458 L1378.25 102.77 L1373.57 91.4582 L1378.25 80.1462 L1389.57 75.4582 L1400.88 80.1462 L1405.57 91.4582 L1400.88 102.77 Z\" fill=\"#009af9\" fill-rule=\"evenodd\" fill-opacity=\"1\" stroke=\"#000000\" stroke-opacity=\"1\" stroke-width=\"3.2\"/>\n",
       "<path clip-path=\"url(#clip602)\" d=\"M1410.52 106.769 L1399.21 102.081 L1394.52 90.7691 L1399.21 79.4571 L1410.52 74.7691 L1421.83 79.4571 L1426.52 90.7691 L1421.83 102.081 Z\" fill=\"#009af9\" fill-rule=\"evenodd\" fill-opacity=\"1\" stroke=\"#000000\" stroke-opacity=\"1\" stroke-width=\"3.2\"/>\n",
       "<path clip-path=\"url(#clip602)\" d=\"M1431.47 106.215 L1420.16 101.527 L1415.47 90.2152 L1420.16 78.9032 L1431.47 74.2152 L1442.78 78.9032 L1447.47 90.2152 L1442.78 101.527 Z\" fill=\"#009af9\" fill-rule=\"evenodd\" fill-opacity=\"1\" stroke=\"#000000\" stroke-opacity=\"1\" stroke-width=\"3.2\"/>\n",
       "<path clip-path=\"url(#clip602)\" d=\"M1452.42 105.77 L1441.11 101.082 L1436.42 89.7704 L1441.11 78.4584 L1452.42 73.7704 L1463.74 78.4584 L1468.42 89.7704 L1463.74 101.082 Z\" fill=\"#009af9\" fill-rule=\"evenodd\" fill-opacity=\"1\" stroke=\"#000000\" stroke-opacity=\"1\" stroke-width=\"3.2\"/>\n",
       "<path clip-path=\"url(#clip602)\" d=\"M1473.38 105.414 L1462.06 100.726 L1457.38 89.4135 L1462.06 78.1015 L1473.38 73.4135 L1484.69 78.1015 L1489.38 89.4135 L1484.69 100.726 Z\" fill=\"#009af9\" fill-rule=\"evenodd\" fill-opacity=\"1\" stroke=\"#000000\" stroke-opacity=\"1\" stroke-width=\"3.2\"/>\n",
       "<path clip-path=\"url(#clip602)\" d=\"M1494.33 105.127 L1483.02 100.439 L1478.33 89.1273 L1483.02 77.8153 L1494.33 73.1273 L1505.64 77.8153 L1510.33 89.1273 L1505.64 100.439 Z\" fill=\"#009af9\" fill-rule=\"evenodd\" fill-opacity=\"1\" stroke=\"#000000\" stroke-opacity=\"1\" stroke-width=\"3.2\"/>\n",
       "<path clip-path=\"url(#clip602)\" d=\"M1515.28 104.898 L1503.97 100.21 L1499.28 88.8978 L1503.97 77.5858 L1515.28 72.8978 L1526.59 77.5858 L1531.28 88.8978 L1526.59 100.21 Z\" fill=\"#009af9\" fill-rule=\"evenodd\" fill-opacity=\"1\" stroke=\"#000000\" stroke-opacity=\"1\" stroke-width=\"3.2\"/>\n",
       "<path clip-path=\"url(#clip602)\" d=\"M1536.23 104.714 L1524.92 100.026 L1520.23 88.714 L1524.92 77.402 L1536.23 72.714 L1547.55 77.402 L1552.23 88.714 L1547.55 100.026 Z\" fill=\"#009af9\" fill-rule=\"evenodd\" fill-opacity=\"1\" stroke=\"#000000\" stroke-opacity=\"1\" stroke-width=\"3.2\"/>\n",
       "<path clip-path=\"url(#clip602)\" d=\"M1557.19 104.567 L1545.88 99.8787 L1541.19 88.5667 L1545.88 77.2547 L1557.19 72.5667 L1568.5 77.2547 L1573.19 88.5667 L1568.5 99.8787 Z\" fill=\"#009af9\" fill-rule=\"evenodd\" fill-opacity=\"1\" stroke=\"#000000\" stroke-opacity=\"1\" stroke-width=\"3.2\"/>\n",
       "<path clip-path=\"url(#clip602)\" d=\"M1578.14 104.449 L1566.83 99.7608 L1562.14 88.4488 L1566.83 77.1368 L1578.14 72.4488 L1589.45 77.1368 L1594.14 88.4488 L1589.45 99.7608 Z\" fill=\"#009af9\" fill-rule=\"evenodd\" fill-opacity=\"1\" stroke=\"#000000\" stroke-opacity=\"1\" stroke-width=\"3.2\"/>\n",
       "<path clip-path=\"url(#clip602)\" d=\"M1599.09 104.354 L1587.78 99.6664 L1583.09 88.3544 L1587.78 77.0424 L1599.09 72.3544 L1610.4 77.0424 L1615.09 88.3544 L1610.4 99.6664 Z\" fill=\"#009af9\" fill-rule=\"evenodd\" fill-opacity=\"1\" stroke=\"#000000\" stroke-opacity=\"1\" stroke-width=\"3.2\"/>\n",
       "<path clip-path=\"url(#clip602)\" d=\"M1620.04 104.279 L1608.73 99.5908 L1604.04 88.2788 L1608.73 76.9668 L1620.04 72.2788 L1631.36 76.9668 L1636.04 88.2788 L1631.36 99.5908 Z\" fill=\"#009af9\" fill-rule=\"evenodd\" fill-opacity=\"1\" stroke=\"#000000\" stroke-opacity=\"1\" stroke-width=\"3.2\"/>\n",
       "<path clip-path=\"url(#clip602)\" d=\"M1641 104.218 L1629.69 99.5303 L1625 88.2183 L1629.69 76.9063 L1641 72.2183 L1652.31 76.9063 L1657 88.2183 L1652.31 99.5303 Z\" fill=\"#009af9\" fill-rule=\"evenodd\" fill-opacity=\"1\" stroke=\"#000000\" stroke-opacity=\"1\" stroke-width=\"3.2\"/>\n",
       "<path clip-path=\"url(#clip602)\" d=\"M1661.95 104.17 L1650.64 99.4819 L1645.95 88.1699 L1650.64 76.8579 L1661.95 72.1699 L1673.26 76.8579 L1677.95 88.1699 L1673.26 99.4819 Z\" fill=\"#009af9\" fill-rule=\"evenodd\" fill-opacity=\"1\" stroke=\"#000000\" stroke-opacity=\"1\" stroke-width=\"3.2\"/>\n",
       "<path clip-path=\"url(#clip602)\" d=\"M1682.9 104.131 L1671.59 99.4431 L1666.9 88.1311 L1671.59 76.8191 L1682.9 72.1311 L1694.21 76.8191 L1698.9 88.1311 L1694.21 99.4431 Z\" fill=\"#009af9\" fill-rule=\"evenodd\" fill-opacity=\"1\" stroke=\"#000000\" stroke-opacity=\"1\" stroke-width=\"3.2\"/>\n",
       "<path clip-path=\"url(#clip602)\" d=\"M1703.86 104.1 L1692.54 99.4121 L1687.86 88.1001 L1692.54 76.7881 L1703.86 72.1001 L1715.17 76.7881 L1719.86 88.1001 L1715.17 99.4121 Z\" fill=\"#009af9\" fill-rule=\"evenodd\" fill-opacity=\"1\" stroke=\"#000000\" stroke-opacity=\"1\" stroke-width=\"3.2\"/>\n",
       "<path clip-path=\"url(#clip602)\" d=\"M1724.81 104.075 L1713.5 99.3873 L1708.81 88.0753 L1713.5 76.7633 L1724.81 72.0753 L1736.12 76.7633 L1740.81 88.0753 L1736.12 99.3873 Z\" fill=\"#009af9\" fill-rule=\"evenodd\" fill-opacity=\"1\" stroke=\"#000000\" stroke-opacity=\"1\" stroke-width=\"3.2\"/>\n",
       "<path clip-path=\"url(#clip602)\" d=\"M1745.76 104.055 L1734.45 99.3675 L1729.76 88.0555 L1734.45 76.7435 L1745.76 72.0555 L1757.07 76.7435 L1761.76 88.0555 L1757.07 99.3675 Z\" fill=\"#009af9\" fill-rule=\"evenodd\" fill-opacity=\"1\" stroke=\"#000000\" stroke-opacity=\"1\" stroke-width=\"3.2\"/>\n",
       "<path clip-path=\"url(#clip602)\" d=\"M1766.71 104.04 L1755.4 99.3516 L1750.71 88.0396 L1755.4 76.7276 L1766.71 72.0396 L1778.02 76.7276 L1782.71 88.0396 L1778.02 99.3516 Z\" fill=\"#009af9\" fill-rule=\"evenodd\" fill-opacity=\"1\" stroke=\"#000000\" stroke-opacity=\"1\" stroke-width=\"3.2\"/>\n",
       "<path clip-path=\"url(#clip602)\" d=\"M1787.67 104.027 L1776.35 99.3389 L1771.67 88.0269 L1776.35 76.7149 L1787.67 72.0269 L1798.98 76.7149 L1803.67 88.0269 L1798.98 99.3389 Z\" fill=\"#009af9\" fill-rule=\"evenodd\" fill-opacity=\"1\" stroke=\"#000000\" stroke-opacity=\"1\" stroke-width=\"3.2\"/>\n",
       "<path clip-path=\"url(#clip602)\" d=\"M1808.62 104.017 L1797.31 99.3287 L1792.62 88.0167 L1797.31 76.7047 L1808.62 72.0167 L1819.93 76.7047 L1824.62 88.0167 L1819.93 99.3287 Z\" fill=\"#009af9\" fill-rule=\"evenodd\" fill-opacity=\"1\" stroke=\"#000000\" stroke-opacity=\"1\" stroke-width=\"3.2\"/>\n",
       "<path clip-path=\"url(#clip602)\" d=\"M1829.57 104.009 L1818.26 99.3206 L1813.57 88.0086 L1818.26 76.6966 L1829.57 72.0086 L1840.88 76.6966 L1845.57 88.0086 L1840.88 99.3206 Z\" fill=\"#009af9\" fill-rule=\"evenodd\" fill-opacity=\"1\" stroke=\"#000000\" stroke-opacity=\"1\" stroke-width=\"3.2\"/>\n",
       "<path clip-path=\"url(#clip602)\" d=\"M1850.52 104.002 L1839.21 99.3141 L1834.52 88.0021 L1839.21 76.6901 L1850.52 72.0021 L1861.84 76.6901 L1866.52 88.0021 L1861.84 99.3141 Z\" fill=\"#009af9\" fill-rule=\"evenodd\" fill-opacity=\"1\" stroke=\"#000000\" stroke-opacity=\"1\" stroke-width=\"3.2\"/>\n",
       "<path clip-path=\"url(#clip602)\" d=\"M1871.48 103.997 L1860.16 99.3089 L1855.48 87.9969 L1860.16 76.6849 L1871.48 71.9969 L1882.79 76.6849 L1887.48 87.9969 L1882.79 99.3089 Z\" fill=\"#009af9\" fill-rule=\"evenodd\" fill-opacity=\"1\" stroke=\"#000000\" stroke-opacity=\"1\" stroke-width=\"3.2\"/>\n",
       "<path clip-path=\"url(#clip602)\" d=\"M1892.43 103.993 L1881.12 99.3047 L1876.43 87.9927 L1881.12 76.6807 L1892.43 71.9927 L1903.74 76.6807 L1908.43 87.9927 L1903.74 99.3047 Z\" fill=\"#009af9\" fill-rule=\"evenodd\" fill-opacity=\"1\" stroke=\"#000000\" stroke-opacity=\"1\" stroke-width=\"3.2\"/>\n",
       "<path clip-path=\"url(#clip602)\" d=\"M1913.38 103.989 L1902.07 99.3014 L1897.38 87.9894 L1902.07 76.6774 L1913.38 71.9894 L1924.69 76.6774 L1929.38 87.9894 L1924.69 99.3014 Z\" fill=\"#009af9\" fill-rule=\"evenodd\" fill-opacity=\"1\" stroke=\"#000000\" stroke-opacity=\"1\" stroke-width=\"3.2\"/>\n",
       "<path clip-path=\"url(#clip602)\" d=\"M1934.33 103.987 L1923.02 99.2987 L1918.33 87.9867 L1923.02 76.6747 L1934.33 71.9867 L1945.65 76.6747 L1950.33 87.9867 L1945.65 99.2987 Z\" fill=\"#009af9\" fill-rule=\"evenodd\" fill-opacity=\"1\" stroke=\"#000000\" stroke-opacity=\"1\" stroke-width=\"3.2\"/>\n",
       "<path clip-path=\"url(#clip602)\" d=\"M1955.29 103.985 L1943.97 99.2966 L1939.29 87.9846 L1943.97 76.6726 L1955.29 71.9846 L1966.6 76.6726 L1971.29 87.9846 L1966.6 99.2966 Z\" fill=\"#009af9\" fill-rule=\"evenodd\" fill-opacity=\"1\" stroke=\"#000000\" stroke-opacity=\"1\" stroke-width=\"3.2\"/>\n",
       "<path clip-path=\"url(#clip602)\" d=\"M1976.24 103.983 L1964.93 99.2949 L1960.24 87.9829 L1964.93 76.6709 L1976.24 71.9829 L1987.55 76.6709 L1992.24 87.9829 L1987.55 99.2949 Z\" fill=\"#009af9\" fill-rule=\"evenodd\" fill-opacity=\"1\" stroke=\"#000000\" stroke-opacity=\"1\" stroke-width=\"3.2\"/>\n",
       "<path clip-path=\"url(#clip602)\" d=\"M1997.19 103.981 L1985.88 99.2935 L1981.19 87.9815 L1985.88 76.6695 L1997.19 71.9815 L2008.5 76.6695 L2013.19 87.9815 L2008.5 99.2935 Z\" fill=\"#009af9\" fill-rule=\"evenodd\" fill-opacity=\"1\" stroke=\"#000000\" stroke-opacity=\"1\" stroke-width=\"3.2\"/>\n",
       "<path clip-path=\"url(#clip602)\" d=\"M2018.14 103.98 L2006.83 99.2924 L2002.14 87.9804 L2006.83 76.6684 L2018.14 71.9804 L2029.46 76.6684 L2034.14 87.9804 L2029.46 99.2924 Z\" fill=\"#009af9\" fill-rule=\"evenodd\" fill-opacity=\"1\" stroke=\"#000000\" stroke-opacity=\"1\" stroke-width=\"3.2\"/>\n",
       "<path clip-path=\"url(#clip602)\" d=\"M2039.1 103.98 L2027.78 99.2915 L2023.1 87.9795 L2027.78 76.6675 L2039.1 71.9795 L2050.41 76.6675 L2055.1 87.9795 L2050.41 99.2915 Z\" fill=\"#009af9\" fill-rule=\"evenodd\" fill-opacity=\"1\" stroke=\"#000000\" stroke-opacity=\"1\" stroke-width=\"3.2\"/>\n",
       "<path clip-path=\"url(#clip602)\" d=\"M2060.05 103.979 L2048.74 99.2908 L2044.05 87.9788 L2048.74 76.6668 L2060.05 71.9788 L2071.36 76.6668 L2076.05 87.9788 L2071.36 99.2908 Z\" fill=\"#009af9\" fill-rule=\"evenodd\" fill-opacity=\"1\" stroke=\"#000000\" stroke-opacity=\"1\" stroke-width=\"3.2\"/>\n",
       "<path clip-path=\"url(#clip602)\" d=\"M2081 103.978 L2069.69 99.2903 L2065 87.9783 L2069.69 76.6663 L2081 71.9783 L2092.31 76.6663 L2097 87.9783 L2092.31 99.2903 Z\" fill=\"#009af9\" fill-rule=\"evenodd\" fill-opacity=\"1\" stroke=\"#000000\" stroke-opacity=\"1\" stroke-width=\"3.2\"/>\n",
       "<path clip-path=\"url(#clip602)\" d=\"M2101.95 103.978 L2090.64 99.2898 L2085.95 87.9778 L2090.64 76.6658 L2101.95 71.9778 L2113.27 76.6658 L2117.95 87.9778 L2113.27 99.2898 Z\" fill=\"#009af9\" fill-rule=\"evenodd\" fill-opacity=\"1\" stroke=\"#000000\" stroke-opacity=\"1\" stroke-width=\"3.2\"/>\n",
       "<path clip-path=\"url(#clip602)\" d=\"M2122.91 103.977 L2111.59 99.2895 L2106.91 87.9775 L2111.59 76.6655 L2122.91 71.9775 L2134.22 76.6655 L2138.91 87.9775 L2134.22 99.2895 Z\" fill=\"#009af9\" fill-rule=\"evenodd\" fill-opacity=\"1\" stroke=\"#000000\" stroke-opacity=\"1\" stroke-width=\"3.2\"/>\n",
       "<path clip-path=\"url(#clip602)\" d=\"M2143.86 103.977 L2132.55 99.2892 L2127.86 87.9772 L2132.55 76.6652 L2143.86 71.9772 L2155.17 76.6652 L2159.86 87.9772 L2155.17 99.2892 Z\" fill=\"#009af9\" fill-rule=\"evenodd\" fill-opacity=\"1\" stroke=\"#000000\" stroke-opacity=\"1\" stroke-width=\"3.2\"/>\n",
       "<path clip-path=\"url(#clip602)\" d=\"M2164.81 103.977 L2153.5 99.289 L2148.81 87.977 L2153.5 76.665 L2164.81 71.977 L2176.12 76.665 L2180.81 87.977 L2176.12 99.289 Z\" fill=\"#009af9\" fill-rule=\"evenodd\" fill-opacity=\"1\" stroke=\"#000000\" stroke-opacity=\"1\" stroke-width=\"3.2\"/>\n",
       "<path clip-path=\"url(#clip602)\" d=\"M2185.76 103.977 L2174.45 99.2888 L2169.76 87.9768 L2174.45 76.6648 L2185.76 71.9768 L2197.08 76.6648 L2201.76 87.9768 L2197.08 99.2888 Z\" fill=\"#009af9\" fill-rule=\"evenodd\" fill-opacity=\"1\" stroke=\"#000000\" stroke-opacity=\"1\" stroke-width=\"3.2\"/>\n",
       "<path clip-path=\"url(#clip602)\" d=\"M2206.72 103.977 L2195.4 99.2886 L2190.72 87.9766 L2195.4 76.6646 L2206.72 71.9766 L2218.03 76.6646 L2222.72 87.9766 L2218.03 99.2886 Z\" fill=\"#009af9\" fill-rule=\"evenodd\" fill-opacity=\"1\" stroke=\"#000000\" stroke-opacity=\"1\" stroke-width=\"3.2\"/>\n",
       "<path clip-path=\"url(#clip602)\" d=\"M2227.67 103.977 L2216.36 99.2885 L2211.67 87.9765 L2216.36 76.6645 L2227.67 71.9765 L2238.98 76.6645 L2243.67 87.9765 L2238.98 99.2885 Z\" fill=\"#009af9\" fill-rule=\"evenodd\" fill-opacity=\"1\" stroke=\"#000000\" stroke-opacity=\"1\" stroke-width=\"3.2\"/>\n",
       "<path clip-path=\"url(#clip602)\" d=\"M2248.62 103.976 L2237.31 99.2884 L2232.62 87.9764 L2237.31 76.6644 L2248.62 71.9764 L2259.93 76.6644 L2264.62 87.9764 L2259.93 99.2884 Z\" fill=\"#009af9\" fill-rule=\"evenodd\" fill-opacity=\"1\" stroke=\"#000000\" stroke-opacity=\"1\" stroke-width=\"3.2\"/>\n",
       "<path clip-path=\"url(#clip602)\" d=\"M2269.57 103.976 L2258.26 99.2883 L2253.57 87.9763 L2258.26 76.6643 L2269.57 71.9763 L2280.89 76.6643 L2285.57 87.9763 L2280.89 99.2883 Z\" fill=\"#009af9\" fill-rule=\"evenodd\" fill-opacity=\"1\" stroke=\"#000000\" stroke-opacity=\"1\" stroke-width=\"3.2\"/>\n",
       "<path clip-path=\"url(#clip602)\" d=\"M2290.53 103.976 L2279.21 99.2883 L2274.53 87.9763 L2279.21 76.6643 L2290.53 71.9763 L2301.84 76.6643 L2306.53 87.9763 L2301.84 99.2883 Z\" fill=\"#009af9\" fill-rule=\"evenodd\" fill-opacity=\"1\" stroke=\"#000000\" stroke-opacity=\"1\" stroke-width=\"3.2\"/>\n",
       "<path clip-path=\"url(#clip600)\" d=\"\n",
       "M1984.14 216.178 L2279.46 216.178 L2279.46 95.2176 L1984.14 95.2176  Z\n",
       "  \" fill=\"#ffffff\" fill-rule=\"evenodd\" fill-opacity=\"1\"/>\n",
       "<polyline clip-path=\"url(#clip600)\" style=\"stroke:#000000; stroke-width:4; stroke-opacity:1; fill:none\" points=\"\n",
       "  1984.14,216.178 2279.46,216.178 2279.46,95.2176 1984.14,95.2176 1984.14,216.178 \n",
       "  \"/>\n",
       "<polyline clip-path=\"url(#clip600)\" style=\"stroke:#009af9; stroke-width:4; stroke-opacity:1; fill:none\" points=\"\n",
       "  2008.57,155.698 2155.15,155.698 \n",
       "  \"/>\n",
       "<path clip-path=\"url(#clip600)\" d=\"M2081.86 181.298 L2063.76 173.797 L2056.26 155.698 L2063.76 137.598 L2081.86 130.098 L2099.96 137.598 L2107.46 155.698 L2099.96 173.797 Z\" fill=\"#009af9\" fill-rule=\"evenodd\" fill-opacity=\"1\" stroke=\"#000000\" stroke-opacity=\"1\" stroke-width=\"5.12\"/>\n",
       "<path clip-path=\"url(#clip600)\" d=\"M 0 0 M2193.43 175.385 Q2191.62 180.015 2189.91 181.427 Q2188.2 182.839 2185.32 182.839 L2181.92 182.839 L2181.92 179.274 L2184.42 179.274 Q2186.18 179.274 2187.15 178.44 Q2188.13 177.607 2189.31 174.505 L2190.07 172.561 L2179.58 147.052 L2184.1 147.052 L2192.2 167.329 L2200.3 147.052 L2204.82 147.052 L2193.43 175.385 Z\" fill=\"#000000\" fill-rule=\"evenodd\" fill-opacity=\"1\" /><path clip-path=\"url(#clip600)\" d=\"M 0 0 M2210.7 169.042 L2218.33 169.042 L2218.33 142.677 L2210.02 144.343 L2210.02 140.084 L2218.29 138.418 L2222.96 138.418 L2222.96 169.042 L2230.6 169.042 L2230.6 172.978 L2210.7 172.978 L2210.7 169.042 Z\" fill=\"#000000\" fill-rule=\"evenodd\" fill-opacity=\"1\" /></svg>\n"
      ]
     },
     "execution_count": 79,
     "metadata": {},
     "output_type": "execute_result"
    }
   ],
   "source": [
    "I = run_infection(100)\n",
    "plot(I, m=:o, yscale=:log10)"
   ]
  },
  {
   "cell_type": "code",
   "execution_count": 81,
   "metadata": {},
   "outputs": [
    {
     "data": {
      "image/svg+xml": [
       "<?xml version=\"1.0\" encoding=\"utf-8\"?>\n",
       "<svg xmlns=\"http://www.w3.org/2000/svg\" xmlns:xlink=\"http://www.w3.org/1999/xlink\" width=\"600\" height=\"400\" viewBox=\"0 0 2400 1600\">\n",
       "<defs>\n",
       "  <clipPath id=\"clip680\">\n",
       "    <rect x=\"0\" y=\"0\" width=\"2400\" height=\"1600\"/>\n",
       "  </clipPath>\n",
       "</defs>\n",
       "<path clip-path=\"url(#clip680)\" d=\"\n",
       "M0 1600 L2400 1600 L2400 0 L0 0  Z\n",
       "  \" fill=\"#ffffff\" fill-rule=\"evenodd\" fill-opacity=\"1\"/>\n",
       "<defs>\n",
       "  <clipPath id=\"clip681\">\n",
       "    <rect x=\"480\" y=\"0\" width=\"1681\" height=\"1600\"/>\n",
       "  </clipPath>\n",
       "</defs>\n",
       "<path clip-path=\"url(#clip680)\" d=\"\n",
       "M161.598 1486.45 L2352.76 1486.45 L2352.76 123.472 L161.598 123.472  Z\n",
       "  \" fill=\"#ffffff\" fill-rule=\"evenodd\" fill-opacity=\"1\"/>\n",
       "<defs>\n",
       "  <clipPath id=\"clip682\">\n",
       "    <rect x=\"161\" y=\"123\" width=\"2192\" height=\"1364\"/>\n",
       "  </clipPath>\n",
       "</defs>\n",
       "<polyline clip-path=\"url(#clip682)\" style=\"stroke:#000000; stroke-width:2; stroke-opacity:0.1; fill:none\" points=\"\n",
       "  202.732,1486.45 202.732,123.472 \n",
       "  \"/>\n",
       "<polyline clip-path=\"url(#clip682)\" style=\"stroke:#000000; stroke-width:2; stroke-opacity:0.1; fill:none\" points=\"\n",
       "  724.735,1486.45 724.735,123.472 \n",
       "  \"/>\n",
       "<polyline clip-path=\"url(#clip682)\" style=\"stroke:#000000; stroke-width:2; stroke-opacity:0.1; fill:none\" points=\"\n",
       "  1246.74,1486.45 1246.74,123.472 \n",
       "  \"/>\n",
       "<polyline clip-path=\"url(#clip682)\" style=\"stroke:#000000; stroke-width:2; stroke-opacity:0.1; fill:none\" points=\"\n",
       "  1768.74,1486.45 1768.74,123.472 \n",
       "  \"/>\n",
       "<polyline clip-path=\"url(#clip682)\" style=\"stroke:#000000; stroke-width:2; stroke-opacity:0.1; fill:none\" points=\"\n",
       "  2290.74,1486.45 2290.74,123.472 \n",
       "  \"/>\n",
       "<polyline clip-path=\"url(#clip680)\" style=\"stroke:#000000; stroke-width:4; stroke-opacity:1; fill:none\" points=\"\n",
       "  161.598,1486.45 2352.76,1486.45 \n",
       "  \"/>\n",
       "<polyline clip-path=\"url(#clip680)\" style=\"stroke:#000000; stroke-width:4; stroke-opacity:1; fill:none\" points=\"\n",
       "  202.732,1486.45 202.732,1470.09 \n",
       "  \"/>\n",
       "<polyline clip-path=\"url(#clip680)\" style=\"stroke:#000000; stroke-width:4; stroke-opacity:1; fill:none\" points=\"\n",
       "  724.735,1486.45 724.735,1470.09 \n",
       "  \"/>\n",
       "<polyline clip-path=\"url(#clip680)\" style=\"stroke:#000000; stroke-width:4; stroke-opacity:1; fill:none\" points=\"\n",
       "  1246.74,1486.45 1246.74,1470.09 \n",
       "  \"/>\n",
       "<polyline clip-path=\"url(#clip680)\" style=\"stroke:#000000; stroke-width:4; stroke-opacity:1; fill:none\" points=\"\n",
       "  1768.74,1486.45 1768.74,1470.09 \n",
       "  \"/>\n",
       "<polyline clip-path=\"url(#clip680)\" style=\"stroke:#000000; stroke-width:4; stroke-opacity:1; fill:none\" points=\"\n",
       "  2290.74,1486.45 2290.74,1470.09 \n",
       "  \"/>\n",
       "<path clip-path=\"url(#clip680)\" d=\"M 0 0 M202.732 1515.64 Q199.121 1515.64 197.292 1519.2 Q195.487 1522.75 195.487 1529.87 Q195.487 1536.98 197.292 1540.55 Q199.121 1544.09 202.732 1544.09 Q206.366 1544.09 208.172 1540.55 Q210 1536.98 210 1529.87 Q210 1522.75 208.172 1519.2 Q206.366 1515.64 202.732 1515.64 M202.732 1511.93 Q208.542 1511.93 211.598 1516.54 Q214.676 1521.12 214.676 1529.87 Q214.676 1538.6 211.598 1543.21 Q208.542 1547.79 202.732 1547.79 Q196.922 1547.79 193.843 1543.21 Q190.788 1538.6 190.788 1529.87 Q190.788 1521.12 193.843 1516.54 Q196.922 1511.93 202.732 1511.93 Z\" fill=\"#000000\" fill-rule=\"evenodd\" fill-opacity=\"1\" /><path clip-path=\"url(#clip680)\" d=\"M 0 0 M706.378 1543.18 L722.697 1543.18 L722.697 1547.12 L700.753 1547.12 L700.753 1543.18 Q703.415 1540.43 707.998 1535.8 Q712.605 1531.15 713.785 1529.81 Q716.031 1527.28 716.91 1525.55 Q717.813 1523.79 717.813 1522.1 Q717.813 1519.34 715.869 1517.61 Q713.948 1515.87 710.846 1515.87 Q708.647 1515.87 706.193 1516.63 Q703.762 1517.4 700.985 1518.95 L700.985 1514.23 Q703.809 1513.09 706.262 1512.51 Q708.716 1511.93 710.753 1511.93 Q716.123 1511.93 719.318 1514.62 Q722.512 1517.31 722.512 1521.8 Q722.512 1523.93 721.702 1525.85 Q720.915 1527.74 718.809 1530.34 Q718.23 1531.01 715.128 1534.23 Q712.026 1537.42 706.378 1543.18 Z\" fill=\"#000000\" fill-rule=\"evenodd\" fill-opacity=\"1\" /><path clip-path=\"url(#clip680)\" d=\"M 0 0 M727.813 1512.56 L746.17 1512.56 L746.17 1516.5 L732.096 1516.5 L732.096 1524.97 Q733.114 1524.62 734.133 1524.46 Q735.151 1524.27 736.17 1524.27 Q741.957 1524.27 745.336 1527.44 Q748.716 1530.62 748.716 1536.03 Q748.716 1541.61 745.244 1544.71 Q741.771 1547.79 735.452 1547.79 Q733.276 1547.79 731.008 1547.42 Q728.762 1547.05 726.355 1546.31 L726.355 1541.61 Q728.438 1542.74 730.66 1543.3 Q732.883 1543.86 735.359 1543.86 Q739.364 1543.86 741.702 1541.75 Q744.04 1539.64 744.04 1536.03 Q744.04 1532.42 741.702 1530.31 Q739.364 1528.21 735.359 1528.21 Q733.484 1528.21 731.609 1528.62 Q729.758 1529.04 727.813 1529.92 L727.813 1512.56 Z\" fill=\"#000000\" fill-rule=\"evenodd\" fill-opacity=\"1\" /><path clip-path=\"url(#clip680)\" d=\"M 0 0 M1223.51 1512.56 L1241.86 1512.56 L1241.86 1516.5 L1227.79 1516.5 L1227.79 1524.97 Q1228.81 1524.62 1229.83 1524.46 Q1230.85 1524.27 1231.86 1524.27 Q1237.65 1524.27 1241.03 1527.44 Q1244.41 1530.62 1244.41 1536.03 Q1244.41 1541.61 1240.94 1544.71 Q1237.47 1547.79 1231.15 1547.79 Q1228.97 1547.79 1226.7 1547.42 Q1224.46 1547.05 1222.05 1546.31 L1222.05 1541.61 Q1224.13 1542.74 1226.36 1543.3 Q1228.58 1543.86 1231.05 1543.86 Q1235.06 1543.86 1237.4 1541.75 Q1239.73 1539.64 1239.73 1536.03 Q1239.73 1532.42 1237.4 1530.31 Q1235.06 1528.21 1231.05 1528.21 Q1229.18 1528.21 1227.3 1528.62 Q1225.45 1529.04 1223.51 1529.92 L1223.51 1512.56 Z\" fill=\"#000000\" fill-rule=\"evenodd\" fill-opacity=\"1\" /><path clip-path=\"url(#clip680)\" d=\"M 0 0 M1259.48 1515.64 Q1255.87 1515.64 1254.04 1519.2 Q1252.23 1522.75 1252.23 1529.87 Q1252.23 1536.98 1254.04 1540.55 Q1255.87 1544.09 1259.48 1544.09 Q1263.11 1544.09 1264.92 1540.55 Q1266.75 1536.98 1266.75 1529.87 Q1266.75 1522.75 1264.92 1519.2 Q1263.11 1515.64 1259.48 1515.64 M1259.48 1511.93 Q1265.29 1511.93 1268.35 1516.54 Q1271.42 1521.12 1271.42 1529.87 Q1271.42 1538.6 1268.35 1543.21 Q1265.29 1547.79 1259.48 1547.79 Q1253.67 1547.79 1250.59 1543.21 Q1247.54 1538.6 1247.54 1529.87 Q1247.54 1521.12 1250.59 1516.54 Q1253.67 1511.93 1259.48 1511.93 Z\" fill=\"#000000\" fill-rule=\"evenodd\" fill-opacity=\"1\" /><path clip-path=\"url(#clip680)\" d=\"M 0 0 M1744.62 1512.56 L1766.84 1512.56 L1766.84 1514.55 L1754.3 1547.12 L1749.41 1547.12 L1761.22 1516.5 L1744.62 1516.5 L1744.62 1512.56 Z\" fill=\"#000000\" fill-rule=\"evenodd\" fill-opacity=\"1\" /><path clip-path=\"url(#clip680)\" d=\"M 0 0 M1771.96 1512.56 L1790.31 1512.56 L1790.31 1516.5 L1776.24 1516.5 L1776.24 1524.97 Q1777.26 1524.62 1778.28 1524.46 Q1779.3 1524.27 1780.31 1524.27 Q1786.1 1524.27 1789.48 1527.44 Q1792.86 1530.62 1792.86 1536.03 Q1792.86 1541.61 1789.39 1544.71 Q1785.92 1547.79 1779.6 1547.79 Q1777.42 1547.79 1775.15 1547.42 Q1772.91 1547.05 1770.5 1546.31 L1770.5 1541.61 Q1772.58 1542.74 1774.8 1543.3 Q1777.03 1543.86 1779.5 1543.86 Q1783.51 1543.86 1785.85 1541.75 Q1788.18 1539.64 1788.18 1536.03 Q1788.18 1532.42 1785.85 1530.31 Q1783.51 1528.21 1779.5 1528.21 Q1777.63 1528.21 1775.75 1528.62 Q1773.9 1529.04 1771.96 1529.92 L1771.96 1512.56 Z\" fill=\"#000000\" fill-rule=\"evenodd\" fill-opacity=\"1\" /><path clip-path=\"url(#clip680)\" d=\"M 0 0 M2254.11 1543.18 L2261.75 1543.18 L2261.75 1516.82 L2253.44 1518.49 L2253.44 1514.23 L2261.7 1512.56 L2266.38 1512.56 L2266.38 1543.18 L2274.02 1543.18 L2274.02 1547.12 L2254.11 1547.12 L2254.11 1543.18 Z\" fill=\"#000000\" fill-rule=\"evenodd\" fill-opacity=\"1\" /><path clip-path=\"url(#clip680)\" d=\"M 0 0 M2289.09 1515.64 Q2285.48 1515.64 2283.65 1519.2 Q2281.84 1522.75 2281.84 1529.87 Q2281.84 1536.98 2283.65 1540.55 Q2285.48 1544.09 2289.09 1544.09 Q2292.72 1544.09 2294.53 1540.55 Q2296.36 1536.98 2296.36 1529.87 Q2296.36 1522.75 2294.53 1519.2 Q2292.72 1515.64 2289.09 1515.64 M2289.09 1511.93 Q2294.9 1511.93 2297.95 1516.54 Q2301.03 1521.12 2301.03 1529.87 Q2301.03 1538.6 2297.95 1543.21 Q2294.9 1547.79 2289.09 1547.79 Q2283.28 1547.79 2280.2 1543.21 Q2277.14 1538.6 2277.14 1529.87 Q2277.14 1521.12 2280.2 1516.54 Q2283.28 1511.93 2289.09 1511.93 Z\" fill=\"#000000\" fill-rule=\"evenodd\" fill-opacity=\"1\" /><path clip-path=\"url(#clip680)\" d=\"M 0 0 M2316.1 1515.64 Q2312.49 1515.64 2310.66 1519.2 Q2308.86 1522.75 2308.86 1529.87 Q2308.86 1536.98 2310.66 1540.55 Q2312.49 1544.09 2316.1 1544.09 Q2319.73 1544.09 2321.54 1540.55 Q2323.37 1536.98 2323.37 1529.87 Q2323.37 1522.75 2321.54 1519.2 Q2319.73 1515.64 2316.1 1515.64 M2316.1 1511.93 Q2321.91 1511.93 2324.97 1516.54 Q2328.05 1521.12 2328.05 1529.87 Q2328.05 1538.6 2324.97 1543.21 Q2321.91 1547.79 2316.1 1547.79 Q2310.29 1547.79 2307.21 1543.21 Q2304.16 1538.6 2304.16 1529.87 Q2304.16 1521.12 2307.21 1516.54 Q2310.29 1511.93 2316.1 1511.93 Z\" fill=\"#000000\" fill-rule=\"evenodd\" fill-opacity=\"1\" /><polyline clip-path=\"url(#clip682)\" style=\"stroke:#000000; stroke-width:2; stroke-opacity:0.1; fill:none\" points=\"\n",
       "  161.598,1460.92 2352.76,1460.92 \n",
       "  \"/>\n",
       "<polyline clip-path=\"url(#clip682)\" style=\"stroke:#000000; stroke-width:2; stroke-opacity:0.1; fill:none\" points=\"\n",
       "  161.598,1134.66 2352.76,1134.66 \n",
       "  \"/>\n",
       "<polyline clip-path=\"url(#clip682)\" style=\"stroke:#000000; stroke-width:2; stroke-opacity:0.1; fill:none\" points=\"\n",
       "  161.598,808.387 2352.76,808.387 \n",
       "  \"/>\n",
       "<polyline clip-path=\"url(#clip682)\" style=\"stroke:#000000; stroke-width:2; stroke-opacity:0.1; fill:none\" points=\"\n",
       "  161.598,482.119 2352.76,482.119 \n",
       "  \"/>\n",
       "<polyline clip-path=\"url(#clip682)\" style=\"stroke:#000000; stroke-width:2; stroke-opacity:0.1; fill:none\" points=\"\n",
       "  161.598,155.85 2352.76,155.85 \n",
       "  \"/>\n",
       "<polyline clip-path=\"url(#clip680)\" style=\"stroke:#000000; stroke-width:4; stroke-opacity:1; fill:none\" points=\"\n",
       "  161.598,1486.45 161.598,123.472 \n",
       "  \"/>\n",
       "<polyline clip-path=\"url(#clip680)\" style=\"stroke:#000000; stroke-width:4; stroke-opacity:1; fill:none\" points=\"\n",
       "  161.598,1460.92 187.892,1460.92 \n",
       "  \"/>\n",
       "<polyline clip-path=\"url(#clip680)\" style=\"stroke:#000000; stroke-width:4; stroke-opacity:1; fill:none\" points=\"\n",
       "  161.598,1134.66 187.892,1134.66 \n",
       "  \"/>\n",
       "<polyline clip-path=\"url(#clip680)\" style=\"stroke:#000000; stroke-width:4; stroke-opacity:1; fill:none\" points=\"\n",
       "  161.598,808.387 187.892,808.387 \n",
       "  \"/>\n",
       "<polyline clip-path=\"url(#clip680)\" style=\"stroke:#000000; stroke-width:4; stroke-opacity:1; fill:none\" points=\"\n",
       "  161.598,482.119 187.892,482.119 \n",
       "  \"/>\n",
       "<polyline clip-path=\"url(#clip680)\" style=\"stroke:#000000; stroke-width:4; stroke-opacity:1; fill:none\" points=\"\n",
       "  161.598,155.85 187.892,155.85 \n",
       "  \"/>\n",
       "<path clip-path=\"url(#clip680)\" d=\"M 0 0 M113.654 1446.72 Q110.043 1446.72 108.214 1450.29 Q106.408 1453.83 106.408 1460.96 Q106.408 1468.06 108.214 1471.63 Q110.043 1475.17 113.654 1475.17 Q117.288 1475.17 119.094 1471.63 Q120.922 1468.06 120.922 1460.96 Q120.922 1453.83 119.094 1450.29 Q117.288 1446.72 113.654 1446.72 M113.654 1443.02 Q119.464 1443.02 122.52 1447.63 Q125.598 1452.21 125.598 1460.96 Q125.598 1469.69 122.52 1474.29 Q119.464 1478.88 113.654 1478.88 Q107.844 1478.88 104.765 1474.29 Q101.709 1469.69 101.709 1460.96 Q101.709 1452.21 104.765 1447.63 Q107.844 1443.02 113.654 1443.02 Z\" fill=\"#000000\" fill-rule=\"evenodd\" fill-opacity=\"1\" /><path clip-path=\"url(#clip680)\" d=\"M 0 0 M83.2605 1148 L99.5798 1148 L99.5798 1151.94 L77.6355 1151.94 L77.6355 1148 Q80.2975 1145.25 84.8808 1140.62 Q89.4873 1135.96 90.6678 1134.62 Q92.9132 1132.1 93.7928 1130.36 Q94.6956 1128.6 94.6956 1126.91 Q94.6956 1124.16 92.7512 1122.42 Q90.8299 1120.69 87.728 1120.69 Q85.529 1120.69 83.0753 1121.45 Q80.6447 1122.21 77.867 1123.76 L77.867 1119.04 Q80.691 1117.91 83.1447 1117.33 Q85.5984 1116.75 87.6354 1116.75 Q93.0058 1116.75 96.2002 1119.44 Q99.3946 1122.12 99.3946 1126.61 Q99.3946 1128.74 98.5845 1130.66 Q97.7974 1132.56 95.691 1135.15 Q95.1123 1135.82 92.0104 1139.04 Q88.9086 1142.24 83.2605 1148 Z\" fill=\"#000000\" fill-rule=\"evenodd\" fill-opacity=\"1\" /><path clip-path=\"url(#clip680)\" d=\"M 0 0 M104.696 1117.38 L123.052 1117.38 L123.052 1121.31 L108.978 1121.31 L108.978 1129.78 Q109.996 1129.44 111.015 1129.27 Q112.033 1129.09 113.052 1129.09 Q118.839 1129.09 122.219 1132.26 Q125.598 1135.43 125.598 1140.85 Q125.598 1146.43 122.126 1149.53 Q118.654 1152.61 112.334 1152.61 Q110.158 1152.61 107.89 1152.24 Q105.645 1151.87 103.237 1151.13 L103.237 1146.43 Q105.321 1147.56 107.543 1148.12 Q109.765 1148.67 112.242 1148.67 Q116.246 1148.67 118.584 1146.57 Q120.922 1144.46 120.922 1140.85 Q120.922 1137.24 118.584 1135.13 Q116.246 1133.02 112.242 1133.02 Q110.367 1133.02 108.492 1133.44 Q106.64 1133.86 104.696 1134.74 L104.696 1117.38 Z\" fill=\"#000000\" fill-rule=\"evenodd\" fill-opacity=\"1\" /><path clip-path=\"url(#clip680)\" d=\"M 0 0 M77.6818 791.107 L96.0382 791.107 L96.0382 795.042 L81.9642 795.042 L81.9642 803.514 Q82.9827 803.167 84.0012 803.005 Q85.0197 802.82 86.0382 802.82 Q91.8252 802.82 95.2049 805.991 Q98.5845 809.163 98.5845 814.579 Q98.5845 820.158 95.1123 823.26 Q91.6401 826.338 85.3206 826.338 Q83.1447 826.338 80.8762 825.968 Q78.6309 825.598 76.2235 824.857 L76.2235 820.158 Q78.3068 821.292 80.529 821.848 Q82.7512 822.403 85.2281 822.403 Q89.2327 822.403 91.5706 820.297 Q93.9086 818.19 93.9086 814.579 Q93.9086 810.968 91.5706 808.862 Q89.2327 806.755 85.2281 806.755 Q83.3531 806.755 81.4781 807.172 Q79.6262 807.588 77.6818 808.468 L77.6818 791.107 Z\" fill=\"#000000\" fill-rule=\"evenodd\" fill-opacity=\"1\" /><path clip-path=\"url(#clip680)\" d=\"M 0 0 M113.654 794.186 Q110.043 794.186 108.214 797.751 Q106.408 801.292 106.408 808.422 Q106.408 815.528 108.214 819.093 Q110.043 822.635 113.654 822.635 Q117.288 822.635 119.094 819.093 Q120.922 815.528 120.922 808.422 Q120.922 801.292 119.094 797.751 Q117.288 794.186 113.654 794.186 M113.654 790.482 Q119.464 790.482 122.52 795.089 Q125.598 799.672 125.598 808.422 Q125.598 817.149 122.52 821.755 Q119.464 826.338 113.654 826.338 Q107.844 826.338 104.765 821.755 Q101.709 817.149 101.709 808.422 Q101.709 799.672 104.765 795.089 Q107.844 790.482 113.654 790.482 Z\" fill=\"#000000\" fill-rule=\"evenodd\" fill-opacity=\"1\" /><path clip-path=\"url(#clip680)\" d=\"M 0 0 M77.3577 464.839 L99.5798 464.839 L99.5798 466.829 L87.0336 499.399 L82.1494 499.399 L93.9549 468.774 L77.3577 468.774 L77.3577 464.839 Z\" fill=\"#000000\" fill-rule=\"evenodd\" fill-opacity=\"1\" /><path clip-path=\"url(#clip680)\" d=\"M 0 0 M104.696 464.839 L123.052 464.839 L123.052 468.774 L108.978 468.774 L108.978 477.246 Q109.996 476.899 111.015 476.737 Q112.033 476.552 113.052 476.552 Q118.839 476.552 122.219 479.723 Q125.598 482.894 125.598 488.311 Q125.598 493.889 122.126 496.991 Q118.654 500.07 112.334 500.07 Q110.158 500.07 107.89 499.7 Q105.645 499.329 103.237 498.588 L103.237 493.889 Q105.321 495.024 107.543 495.579 Q109.765 496.135 112.242 496.135 Q116.246 496.135 118.584 494.028 Q120.922 491.922 120.922 488.311 Q120.922 484.7 118.584 482.593 Q116.246 480.487 112.242 480.487 Q110.367 480.487 108.492 480.903 Q106.64 481.32 104.696 482.2 L104.696 464.839 Z\" fill=\"#000000\" fill-rule=\"evenodd\" fill-opacity=\"1\" /><path clip-path=\"url(#clip680)\" d=\"M 0 0 M51.6634 169.195 L59.3023 169.195 L59.3023 142.83 L50.9921 144.496 L50.9921 140.237 L59.256 138.57 L63.9319 138.57 L63.9319 169.195 L71.5707 169.195 L71.5707 173.13 L51.6634 173.13 L51.6634 169.195 Z\" fill=\"#000000\" fill-rule=\"evenodd\" fill-opacity=\"1\" /><path clip-path=\"url(#clip680)\" d=\"M 0 0 M86.6401 141.649 Q83.029 141.649 81.2003 145.214 Q79.3948 148.755 79.3948 155.885 Q79.3948 162.991 81.2003 166.556 Q83.029 170.098 86.6401 170.098 Q90.2743 170.098 92.0799 166.556 Q93.9086 162.991 93.9086 155.885 Q93.9086 148.755 92.0799 145.214 Q90.2743 141.649 86.6401 141.649 M86.6401 137.945 Q92.4502 137.945 95.5058 142.552 Q98.5845 147.135 98.5845 155.885 Q98.5845 164.612 95.5058 169.218 Q92.4502 173.802 86.6401 173.802 Q80.8299 173.802 77.7512 169.218 Q74.6957 164.612 74.6957 155.885 Q74.6957 147.135 77.7512 142.552 Q80.8299 137.945 86.6401 137.945 Z\" fill=\"#000000\" fill-rule=\"evenodd\" fill-opacity=\"1\" /><path clip-path=\"url(#clip680)\" d=\"M 0 0 M113.654 141.649 Q110.043 141.649 108.214 145.214 Q106.408 148.755 106.408 155.885 Q106.408 162.991 108.214 166.556 Q110.043 170.098 113.654 170.098 Q117.288 170.098 119.094 166.556 Q120.922 162.991 120.922 155.885 Q120.922 148.755 119.094 145.214 Q117.288 141.649 113.654 141.649 M113.654 137.945 Q119.464 137.945 122.52 142.552 Q125.598 147.135 125.598 155.885 Q125.598 164.612 122.52 169.218 Q119.464 173.802 113.654 173.802 Q107.844 173.802 104.765 169.218 Q101.709 164.612 101.709 155.885 Q101.709 147.135 104.765 142.552 Q107.844 137.945 113.654 137.945 Z\" fill=\"#000000\" fill-rule=\"evenodd\" fill-opacity=\"1\" /><path clip-path=\"url(#clip680)\" d=\"M 0 0 M820.287 14.0809 L820.287 22.0612 Q815.628 19.8332 811.497 18.7395 Q807.365 17.6457 803.516 17.6457 Q796.832 17.6457 793.186 20.2383 Q789.581 22.8309 789.581 27.611 Q789.581 31.6214 791.971 33.6873 Q794.402 35.7128 801.126 36.9686 L806.068 37.9813 Q815.223 39.7232 819.558 44.1387 Q823.933 48.5136 823.933 55.8863 Q823.933 64.6767 818.019 69.2137 Q812.145 73.7508 800.762 73.7508 Q796.468 73.7508 791.607 72.7785 Q786.786 71.8063 781.601 69.9024 L781.601 61.4765 Q786.584 64.2716 791.364 65.6895 Q796.144 67.1073 800.762 67.1073 Q807.77 67.1073 811.578 64.3527 Q815.385 61.598 815.385 56.4939 Q815.385 52.0379 812.631 49.5264 Q809.917 47.0148 803.678 45.759 L798.696 44.7868 Q789.541 42.9639 785.449 39.075 Q781.358 35.1862 781.358 28.2591 Q781.358 20.2383 786.989 15.6203 Q792.66 11.0023 802.585 11.0023 Q806.838 11.0023 811.254 11.7719 Q815.669 12.5416 820.287 14.0809 Z\" fill=\"#000000\" fill-rule=\"evenodd\" fill-opacity=\"1\" /><path clip-path=\"url(#clip680)\" d=\"M 0 0 M831.751 27.2059 L839.205 27.2059 L839.205 72.576 L831.751 72.576 L831.751 27.2059 M831.751 9.54393 L839.205 9.54393 L839.205 18.9825 L831.751 18.9825 L831.751 9.54393 Z\" fill=\"#000000\" fill-rule=\"evenodd\" fill-opacity=\"1\" /><path clip-path=\"url(#clip680)\" d=\"M 0 0 M876.878 49.3643 Q876.878 41.2625 873.516 36.8065 Q870.194 32.3505 864.158 32.3505 Q858.163 32.3505 854.801 36.8065 Q851.479 41.2625 851.479 49.3643 Q851.479 57.4256 854.801 61.8816 Q858.163 66.3376 864.158 66.3376 Q870.194 66.3376 873.516 61.8816 Q876.878 57.4256 876.878 49.3643 M884.332 66.9452 Q884.332 78.5308 879.187 84.1616 Q874.043 89.8329 863.429 89.8329 Q859.5 89.8329 856.016 89.2252 Q852.532 88.6581 849.251 87.4428 L849.251 80.1917 Q852.532 81.9741 855.732 82.8248 Q858.933 83.6755 862.254 83.6755 Q869.587 83.6755 873.232 79.8271 Q876.878 76.0193 876.878 68.282 L876.878 64.5957 Q874.569 68.6061 870.964 70.5911 Q867.359 72.576 862.335 72.576 Q853.991 72.576 848.886 66.2161 Q843.782 59.8562 843.782 49.3643 Q843.782 38.832 848.886 32.472 Q853.991 26.1121 862.335 26.1121 Q867.359 26.1121 870.964 28.0971 Q874.569 30.082 876.878 34.0924 L876.878 27.2059 L884.332 27.2059 L884.332 66.9452 Z\" fill=\"#000000\" fill-rule=\"evenodd\" fill-opacity=\"1\" /><path clip-path=\"url(#clip680)\" d=\"M 0 0 M927.474 35.9153 Q930.269 30.8922 934.158 28.5022 Q938.047 26.1121 943.313 26.1121 Q950.402 26.1121 954.25 31.0947 Q958.099 36.0368 958.099 45.1919 L958.099 72.576 L950.605 72.576 L950.605 45.4349 Q950.605 38.913 948.296 35.7533 Q945.987 32.5936 941.247 32.5936 Q935.454 32.5936 932.092 36.4419 Q928.73 40.2903 928.73 46.9338 L928.73 72.576 L921.236 72.576 L921.236 45.4349 Q921.236 38.8725 918.927 35.7533 Q916.618 32.5936 911.797 32.5936 Q906.085 32.5936 902.723 36.4824 Q899.361 40.3308 899.361 46.9338 L899.361 72.576 L891.867 72.576 L891.867 27.2059 L899.361 27.2059 L899.361 34.2544 Q901.913 30.082 905.478 28.0971 Q909.042 26.1121 913.944 26.1121 Q918.886 26.1121 922.329 28.6237 Q925.813 31.1352 927.474 35.9153 Z\" fill=\"#000000\" fill-rule=\"evenodd\" fill-opacity=\"1\" /><path clip-path=\"url(#clip680)\" d=\"M 0 0 M983.498 32.4315 Q977.503 32.4315 974.019 37.1306 Q970.535 41.7891 970.535 49.9314 Q970.535 58.0738 973.978 62.7728 Q977.462 67.4314 983.498 67.4314 Q989.453 67.4314 992.937 62.7323 Q996.42 58.0333 996.42 49.9314 Q996.42 41.8701 992.937 37.1711 Q989.453 32.4315 983.498 32.4315 M983.498 26.1121 Q993.22 26.1121 998.77 32.4315 Q1004.32 38.7509 1004.32 49.9314 Q1004.32 61.0714 998.77 67.4314 Q993.22 73.7508 983.498 73.7508 Q973.735 73.7508 968.186 67.4314 Q962.676 61.0714 962.676 49.9314 Q962.676 38.7509 968.186 32.4315 Q973.735 26.1121 983.498 26.1121 Z\" fill=\"#000000\" fill-rule=\"evenodd\" fill-opacity=\"1\" /><path clip-path=\"url(#clip680)\" d=\"M 0 0 M1012.14 27.2059 L1019.59 27.2059 L1019.59 72.576 L1012.14 72.576 L1012.14 27.2059 M1012.14 9.54393 L1019.59 9.54393 L1019.59 18.9825 L1012.14 18.9825 L1012.14 9.54393 Z\" fill=\"#000000\" fill-rule=\"evenodd\" fill-opacity=\"1\" /><path clip-path=\"url(#clip680)\" d=\"M 0 0 M1057.26 34.0924 L1057.26 9.54393 L1064.72 9.54393 L1064.72 72.576 L1057.26 72.576 L1057.26 65.7705 Q1054.92 69.8214 1051.31 71.8063 Q1047.75 73.7508 1042.72 73.7508 Q1034.5 73.7508 1029.31 67.1883 Q1024.17 60.6258 1024.17 49.9314 Q1024.17 39.2371 1029.31 32.6746 Q1034.5 26.1121 1042.72 26.1121 Q1047.75 26.1121 1051.31 28.0971 Q1054.92 30.0415 1057.26 34.0924 M1031.87 49.9314 Q1031.87 58.1548 1035.23 62.8538 Q1038.63 67.5124 1044.55 67.5124 Q1050.46 67.5124 1053.86 62.8538 Q1057.26 58.1548 1057.26 49.9314 Q1057.26 41.7081 1053.86 37.0496 Q1050.46 32.3505 1044.55 32.3505 Q1038.63 32.3505 1035.23 37.0496 Q1031.87 41.7081 1031.87 49.9314 Z\" fill=\"#000000\" fill-rule=\"evenodd\" fill-opacity=\"1\" /><path clip-path=\"url(#clip680)\" d=\"M 0 0 M1127.83 28.5427 L1127.83 35.5912 Q1124.67 33.9709 1121.27 33.1607 Q1117.87 32.3505 1114.22 32.3505 Q1108.67 32.3505 1105.88 34.0519 Q1103.12 35.7533 1103.12 39.156 Q1103.12 41.7486 1105.11 43.2475 Q1107.09 44.7058 1113.09 46.0426 L1115.64 46.6097 Q1123.58 48.3111 1126.9 51.4303 Q1130.26 54.509 1130.26 60.0587 Q1130.26 66.3781 1125.24 70.0644 Q1120.26 73.7508 1111.51 73.7508 Q1107.86 73.7508 1103.89 73.0216 Q1099.96 72.3329 1095.59 70.9151 L1095.59 63.2184 Q1099.72 65.3654 1103.73 66.4591 Q1107.74 67.5124 1111.67 67.5124 Q1116.93 67.5124 1119.77 65.73 Q1122.61 63.9071 1122.61 60.6258 Q1122.61 57.5877 1120.54 55.9673 Q1118.51 54.3469 1111.59 52.8481 L1108.99 52.2405 Q1102.07 50.7821 1098.99 47.7845 Q1095.91 44.7463 1095.91 39.4801 Q1095.91 33.0797 1100.45 29.5959 Q1104.98 26.1121 1113.33 26.1121 Q1117.46 26.1121 1121.11 26.7198 Q1124.75 27.3274 1127.83 28.5427 Z\" fill=\"#000000\" fill-rule=\"evenodd\" fill-opacity=\"1\" /><path clip-path=\"url(#clip680)\" d=\"M 0 0 M1175.79 45.1919 L1175.79 72.576 L1168.34 72.576 L1168.34 45.4349 Q1168.34 38.994 1165.83 35.7938 Q1163.32 32.5936 1158.29 32.5936 Q1152.26 32.5936 1148.77 36.4419 Q1145.29 40.2903 1145.29 46.9338 L1145.29 72.576 L1137.8 72.576 L1137.8 9.54393 L1145.29 9.54393 L1145.29 34.2544 Q1147.96 30.163 1151.57 28.1376 Q1155.22 26.1121 1159.96 26.1121 Q1167.77 26.1121 1171.78 30.9732 Q1175.79 35.7938 1175.79 45.1919 Z\" fill=\"#000000\" fill-rule=\"evenodd\" fill-opacity=\"1\" /><path clip-path=\"url(#clip680)\" d=\"M 0 0 M1204.23 49.7694 Q1195.2 49.7694 1191.71 51.8354 Q1188.23 53.9013 1188.23 58.8839 Q1188.23 62.8538 1190.82 65.2034 Q1193.46 67.5124 1197.95 67.5124 Q1204.15 67.5124 1207.88 63.1374 Q1211.64 58.7219 1211.64 51.4303 L1211.64 49.7694 L1204.23 49.7694 M1219.1 46.6907 L1219.1 72.576 L1211.64 72.576 L1211.64 65.6895 Q1209.09 69.8214 1205.28 71.8063 Q1201.48 73.7508 1195.97 73.7508 Q1189 73.7508 1184.87 69.8619 Q1180.78 65.9325 1180.78 59.3701 Q1180.78 51.7138 1185.88 47.825 Q1191.03 43.9361 1201.19 43.9361 L1211.64 43.9361 L1211.64 43.2069 Q1211.64 38.0623 1208.24 35.2672 Q1204.88 32.4315 1198.76 32.4315 Q1194.87 32.4315 1191.19 33.3632 Q1187.5 34.295 1184.1 36.1584 L1184.1 29.2718 Q1188.19 27.692 1192.04 26.9223 Q1195.89 26.1121 1199.53 26.1121 Q1209.38 26.1121 1214.24 31.2163 Q1219.1 36.3204 1219.1 46.6907 Z\" fill=\"#000000\" fill-rule=\"evenodd\" fill-opacity=\"1\" /><path clip-path=\"url(#clip680)\" d=\"M 0 0 M1234.13 65.7705 L1234.13 89.8329 L1226.63 89.8329 L1226.63 27.2059 L1234.13 27.2059 L1234.13 34.0924 Q1236.48 30.0415 1240.04 28.0971 Q1243.65 26.1121 1248.63 26.1121 Q1256.89 26.1121 1262.04 32.6746 Q1267.22 39.2371 1267.22 49.9314 Q1267.22 60.6258 1262.04 67.1883 Q1256.89 73.7508 1248.63 73.7508 Q1243.65 73.7508 1240.04 71.8063 Q1236.48 69.8214 1234.13 65.7705 M1259.49 49.9314 Q1259.49 41.7081 1256.08 37.0496 Q1252.72 32.3505 1246.81 32.3505 Q1240.89 32.3505 1237.49 37.0496 Q1234.13 41.7081 1234.13 49.9314 Q1234.13 58.1548 1237.49 62.8538 Q1240.89 67.5124 1246.81 67.5124 Q1252.72 67.5124 1256.08 62.8538 Q1259.49 58.1548 1259.49 49.9314 Z\" fill=\"#000000\" fill-rule=\"evenodd\" fill-opacity=\"1\" /><path clip-path=\"url(#clip680)\" d=\"M 0 0 M1313.85 48.0275 L1313.85 51.6733 L1279.58 51.6733 Q1280.06 59.3701 1284.2 63.421 Q1288.37 67.4314 1295.78 67.4314 Q1300.08 67.4314 1304.09 66.3781 Q1308.14 65.3249 1312.11 63.2184 L1312.11 70.267 Q1308.1 71.9684 1303.88 72.8596 Q1299.67 73.7508 1295.34 73.7508 Q1284.48 73.7508 1278.12 67.4314 Q1271.8 61.1119 1271.8 50.3365 Q1271.8 39.1965 1277.8 32.6746 Q1283.83 26.1121 1294.04 26.1121 Q1303.2 26.1121 1308.5 32.0264 Q1313.85 37.9003 1313.85 48.0275 M1306.4 45.84 Q1306.31 39.7232 1302.95 36.0774 Q1299.63 32.4315 1294.12 32.4315 Q1287.88 32.4315 1284.12 35.9558 Q1280.39 39.4801 1279.82 45.8805 L1306.4 45.84 Z\" fill=\"#000000\" fill-rule=\"evenodd\" fill-opacity=\"1\" /><path clip-path=\"url(#clip680)\" d=\"M 0 0 M1365.94 9.62495 Q1360.52 18.942 1357.88 28.0566 Q1355.25 37.1711 1355.25 46.5287 Q1355.25 55.8863 1357.88 65.0818 Q1360.56 74.2369 1365.94 83.5134 L1359.46 83.5134 Q1353.39 73.9938 1350.35 64.7983 Q1347.35 55.6027 1347.35 46.5287 Q1347.35 37.4952 1350.35 28.3401 Q1353.35 19.1851 1359.46 9.62495 L1365.94 9.62495 Z\" fill=\"#000000\" fill-rule=\"evenodd\" fill-opacity=\"1\" /><path clip-path=\"url(#clip680)\" d=\"M 0 0 M1410.34 14.0809 L1410.34 22.0612 Q1405.68 19.8332 1401.55 18.7395 Q1397.42 17.6457 1393.57 17.6457 Q1386.89 17.6457 1383.24 20.2383 Q1379.64 22.8309 1379.64 27.611 Q1379.64 31.6214 1382.03 33.6873 Q1384.46 35.7128 1391.18 36.9686 L1396.12 37.9813 Q1405.28 39.7232 1409.61 44.1387 Q1413.99 48.5136 1413.99 55.8863 Q1413.99 64.6767 1408.07 69.2137 Q1402.2 73.7508 1390.82 73.7508 Q1386.52 73.7508 1381.66 72.7785 Q1376.84 71.8063 1371.66 69.9024 L1371.66 61.4765 Q1376.64 64.2716 1381.42 65.6895 Q1386.2 67.1073 1390.82 67.1073 Q1397.82 67.1073 1401.63 64.3527 Q1405.44 61.598 1405.44 56.4939 Q1405.44 52.0379 1402.69 49.5264 Q1399.97 47.0148 1393.73 45.759 L1388.75 44.7868 Q1379.6 42.9639 1375.5 39.075 Q1371.41 35.1862 1371.41 28.2591 Q1371.41 20.2383 1377.04 15.6203 Q1382.71 11.0023 1392.64 11.0023 Q1396.89 11.0023 1401.31 11.7719 Q1405.72 12.5416 1410.34 14.0809 Z\" fill=\"#000000\" fill-rule=\"evenodd\" fill-opacity=\"1\" /><path clip-path=\"url(#clip680)\" d=\"M 0 0 M1418.04 46.5287 L1439.87 46.5287 L1439.87 53.1722 L1418.04 53.1722 L1418.04 46.5287 Z\" fill=\"#000000\" fill-rule=\"evenodd\" fill-opacity=\"1\" /><path clip-path=\"url(#clip680)\" d=\"M 0 0 M1476.61 28.5427 L1476.61 35.5912 Q1473.45 33.9709 1470.05 33.1607 Q1466.65 32.3505 1463 32.3505 Q1457.45 32.3505 1454.66 34.0519 Q1451.9 35.7533 1451.9 39.156 Q1451.9 41.7486 1453.89 43.2475 Q1455.87 44.7058 1461.87 46.0426 L1464.42 46.6097 Q1472.36 48.3111 1475.68 51.4303 Q1479.05 54.509 1479.05 60.0587 Q1479.05 66.3781 1474.02 70.0644 Q1469.04 73.7508 1460.29 73.7508 Q1456.64 73.7508 1452.67 73.0216 Q1448.74 72.3329 1444.37 70.9151 L1444.37 63.2184 Q1448.5 65.3654 1452.51 66.4591 Q1456.52 67.5124 1460.45 67.5124 Q1465.72 67.5124 1468.55 65.73 Q1471.39 63.9071 1471.39 60.6258 Q1471.39 57.5877 1469.32 55.9673 Q1467.3 54.3469 1460.37 52.8481 L1457.78 52.2405 Q1450.85 50.7821 1447.77 47.7845 Q1444.69 44.7463 1444.69 39.4801 Q1444.69 33.0797 1449.23 29.5959 Q1453.77 26.1121 1462.11 26.1121 Q1466.24 26.1121 1469.89 26.7198 Q1473.54 27.3274 1476.61 28.5427 Z\" fill=\"#000000\" fill-rule=\"evenodd\" fill-opacity=\"1\" /><path clip-path=\"url(#clip680)\" d=\"M 0 0 M1524.58 45.1919 L1524.58 72.576 L1517.12 72.576 L1517.12 45.4349 Q1517.12 38.994 1514.61 35.7938 Q1512.1 32.5936 1507.08 32.5936 Q1501.04 32.5936 1497.56 36.4419 Q1494.07 40.2903 1494.07 46.9338 L1494.07 72.576 L1486.58 72.576 L1486.58 9.54393 L1494.07 9.54393 L1494.07 34.2544 Q1496.75 30.163 1500.35 28.1376 Q1504 26.1121 1508.74 26.1121 Q1516.56 26.1121 1520.57 30.9732 Q1524.58 35.7938 1524.58 45.1919 Z\" fill=\"#000000\" fill-rule=\"evenodd\" fill-opacity=\"1\" /><path clip-path=\"url(#clip680)\" d=\"M 0 0 M1553.01 49.7694 Q1543.98 49.7694 1540.5 51.8354 Q1537.01 53.9013 1537.01 58.8839 Q1537.01 62.8538 1539.61 65.2034 Q1542.24 67.5124 1546.74 67.5124 Q1552.93 67.5124 1556.66 63.1374 Q1560.43 58.7219 1560.43 51.4303 L1560.43 49.7694 L1553.01 49.7694 M1567.88 46.6907 L1567.88 72.576 L1560.43 72.576 L1560.43 65.6895 Q1557.88 69.8214 1554.07 71.8063 Q1550.26 73.7508 1544.75 73.7508 Q1537.78 73.7508 1533.65 69.8619 Q1529.56 65.9325 1529.56 59.3701 Q1529.56 51.7138 1534.66 47.825 Q1539.81 43.9361 1549.98 43.9361 L1560.43 43.9361 L1560.43 43.2069 Q1560.43 38.0623 1557.02 35.2672 Q1553.66 32.4315 1547.55 32.4315 Q1543.66 32.4315 1539.97 33.3632 Q1536.28 34.295 1532.88 36.1584 L1532.88 29.2718 Q1536.97 27.692 1540.82 26.9223 Q1544.67 26.1121 1548.32 26.1121 Q1558.16 26.1121 1563.02 31.2163 Q1567.88 36.3204 1567.88 46.6907 Z\" fill=\"#000000\" fill-rule=\"evenodd\" fill-opacity=\"1\" /><path clip-path=\"url(#clip680)\" d=\"M 0 0 M1582.91 65.7705 L1582.91 89.8329 L1575.42 89.8329 L1575.42 27.2059 L1582.91 27.2059 L1582.91 34.0924 Q1585.26 30.0415 1588.82 28.0971 Q1592.43 26.1121 1597.41 26.1121 Q1605.68 26.1121 1610.82 32.6746 Q1616.01 39.2371 1616.01 49.9314 Q1616.01 60.6258 1610.82 67.1883 Q1605.68 73.7508 1597.41 73.7508 Q1592.43 73.7508 1588.82 71.8063 Q1585.26 69.8214 1582.91 65.7705 M1608.27 49.9314 Q1608.27 41.7081 1604.87 37.0496 Q1601.5 32.3505 1595.59 32.3505 Q1589.68 32.3505 1586.27 37.0496 Q1582.91 41.7081 1582.91 49.9314 Q1582.91 58.1548 1586.27 62.8538 Q1589.68 67.5124 1595.59 67.5124 Q1601.5 67.5124 1604.87 62.8538 Q1608.27 58.1548 1608.27 49.9314 Z\" fill=\"#000000\" fill-rule=\"evenodd\" fill-opacity=\"1\" /><path clip-path=\"url(#clip680)\" d=\"M 0 0 M1662.63 48.0275 L1662.63 51.6733 L1628.36 51.6733 Q1628.85 59.3701 1632.98 63.421 Q1637.15 67.4314 1644.57 67.4314 Q1648.86 67.4314 1652.87 66.3781 Q1656.92 65.3249 1660.89 63.2184 L1660.89 70.267 Q1656.88 71.9684 1652.67 72.8596 Q1648.45 73.7508 1644.12 73.7508 Q1633.26 73.7508 1626.9 67.4314 Q1620.58 61.1119 1620.58 50.3365 Q1620.58 39.1965 1626.58 32.6746 Q1632.61 26.1121 1642.82 26.1121 Q1651.98 26.1121 1657.28 32.0264 Q1662.63 37.9003 1662.63 48.0275 M1655.18 45.84 Q1655.1 39.7232 1651.74 36.0774 Q1648.41 32.4315 1642.9 32.4315 Q1636.67 32.4315 1632.9 35.9558 Q1629.17 39.4801 1628.6 45.8805 L1655.18 45.84 Z\" fill=\"#000000\" fill-rule=\"evenodd\" fill-opacity=\"1\" /><path clip-path=\"url(#clip680)\" d=\"M 0 0 M1700.31 34.0924 L1700.31 9.54393 L1707.76 9.54393 L1707.76 72.576 L1700.31 72.576 L1700.31 65.7705 Q1697.96 69.8214 1694.35 71.8063 Q1690.79 73.7508 1685.76 73.7508 Q1677.54 73.7508 1672.35 67.1883 Q1667.21 60.6258 1667.21 49.9314 Q1667.21 39.2371 1672.35 32.6746 Q1677.54 26.1121 1685.76 26.1121 Q1690.79 26.1121 1694.35 28.0971 Q1697.96 30.0415 1700.31 34.0924 M1674.91 49.9314 Q1674.91 58.1548 1678.27 62.8538 Q1681.67 67.5124 1687.59 67.5124 Q1693.5 67.5124 1696.9 62.8538 Q1700.31 58.1548 1700.31 49.9314 Q1700.31 41.7081 1696.9 37.0496 Q1693.5 32.3505 1687.59 32.3505 Q1681.67 32.3505 1678.27 37.0496 Q1674.91 41.7081 1674.91 49.9314 Z\" fill=\"#000000\" fill-rule=\"evenodd\" fill-opacity=\"1\" /><path clip-path=\"url(#clip680)\" d=\"M 0 0 M1714.4 9.62495 L1720.88 9.62495 Q1726.96 19.1851 1729.96 28.3401 Q1733 37.4952 1733 46.5287 Q1733 55.6027 1729.96 64.7983 Q1726.96 73.9938 1720.88 83.5134 L1714.4 83.5134 Q1719.79 74.2369 1722.42 65.0818 Q1725.1 55.8863 1725.1 46.5287 Q1725.1 37.1711 1722.42 28.0566 Q1719.79 18.942 1714.4 9.62495 Z\" fill=\"#000000\" fill-rule=\"evenodd\" fill-opacity=\"1\" /><polyline clip-path=\"url(#clip682)\" style=\"stroke:#009af9; stroke-width:4; stroke-opacity:1; fill:none\" points=\"\n",
       "  223.612,1447.87 244.492,1446.58 265.372,1445.16 286.252,1443.61 307.133,1441.9 328.013,1440.02 348.893,1437.96 369.773,1435.71 390.653,1433.24 411.533,1430.53 \n",
       "  432.413,1427.56 453.293,1424.31 474.173,1420.75 495.053,1416.85 515.934,1412.6 536.814,1407.94 557.694,1402.86 578.574,1397.31 599.454,1391.26 620.334,1384.66 \n",
       "  641.214,1377.48 662.094,1369.67 682.974,1361.19 703.854,1351.97 724.735,1341.99 745.615,1331.18 766.495,1319.5 787.375,1306.88 808.255,1293.3 829.135,1278.69 \n",
       "  850.015,1263.01 870.895,1246.22 891.775,1228.28 912.655,1209.17 933.536,1188.85 954.416,1167.31 975.296,1144.56 996.176,1120.59 1017.06,1095.43 1037.94,1069.12 \n",
       "  1058.82,1041.7 1079.7,1013.24 1100.58,983.831 1121.46,953.562 1142.34,922.55 1163.22,890.922 1184.1,858.817 1204.98,826.385 1225.86,793.783 1246.74,761.173 \n",
       "  1267.62,728.717 1288.5,696.576 1309.38,664.907 1330.26,633.858 1351.14,603.565 1372.02,574.153 1392.9,545.73 1413.78,518.389 1434.66,492.206 1455.54,467.24 \n",
       "  1476.42,443.531 1497.3,421.104 1518.18,399.97 1539.06,380.124 1559.94,361.551 1580.82,344.223 1601.7,328.105 1622.58,313.153 1643.46,299.319 1664.34,286.549 \n",
       "  1685.22,274.788 1706.1,263.978 1726.98,254.061 1747.86,244.979 1768.74,236.675 1789.62,229.093 1810.5,222.18 1831.38,215.884 1852.26,210.157 1873.14,204.952 \n",
       "  1894.02,200.227 1914.9,195.94 1935.78,192.054 1956.66,188.534 1977.54,185.348 1998.42,182.465 2019.3,179.857 2040.18,177.501 2061.06,175.372 2081.94,173.449 \n",
       "  2102.82,171.713 2123.7,170.146 2144.58,168.732 2165.46,167.456 2186.34,166.306 2207.22,165.269 2228.1,164.334 2248.98,163.491 2269.86,162.731 2290.74,162.047 \n",
       "  \n",
       "  \"/>\n",
       "<path clip-path=\"url(#clip682)\" d=\"M223.612 1463.87 L212.3 1459.19 L207.612 1447.87 L212.3 1436.56 L223.612 1431.87 L234.924 1436.56 L239.612 1447.87 L234.924 1459.19 Z\" fill=\"#009af9\" fill-rule=\"evenodd\" fill-opacity=\"1\" stroke=\"#000000\" stroke-opacity=\"1\" stroke-width=\"3.2\"/>\n",
       "<path clip-path=\"url(#clip682)\" d=\"M244.492 1462.58 L233.18 1457.89 L228.492 1446.58 L233.18 1435.27 L244.492 1430.58 L255.804 1435.27 L260.492 1446.58 L255.804 1457.89 Z\" fill=\"#009af9\" fill-rule=\"evenodd\" fill-opacity=\"1\" stroke=\"#000000\" stroke-opacity=\"1\" stroke-width=\"3.2\"/>\n",
       "<path clip-path=\"url(#clip682)\" d=\"M265.372 1461.16 L254.06 1456.47 L249.372 1445.16 L254.06 1433.85 L265.372 1429.16 L276.684 1433.85 L281.372 1445.16 L276.684 1456.47 Z\" fill=\"#009af9\" fill-rule=\"evenodd\" fill-opacity=\"1\" stroke=\"#000000\" stroke-opacity=\"1\" stroke-width=\"3.2\"/>\n",
       "<path clip-path=\"url(#clip682)\" d=\"M286.252 1459.61 L274.94 1454.92 L270.252 1443.61 L274.94 1432.29 L286.252 1427.61 L297.564 1432.29 L302.252 1443.61 L297.564 1454.92 Z\" fill=\"#009af9\" fill-rule=\"evenodd\" fill-opacity=\"1\" stroke=\"#000000\" stroke-opacity=\"1\" stroke-width=\"3.2\"/>\n",
       "<path clip-path=\"url(#clip682)\" d=\"M307.133 1457.9 L295.821 1453.21 L291.133 1441.9 L295.821 1430.58 L307.133 1425.9 L318.445 1430.58 L323.133 1441.9 L318.445 1453.21 Z\" fill=\"#009af9\" fill-rule=\"evenodd\" fill-opacity=\"1\" stroke=\"#000000\" stroke-opacity=\"1\" stroke-width=\"3.2\"/>\n",
       "<path clip-path=\"url(#clip682)\" d=\"M328.013 1456.02 L316.701 1451.33 L312.013 1440.02 L316.701 1428.71 L328.013 1424.02 L339.325 1428.71 L344.013 1440.02 L339.325 1451.33 Z\" fill=\"#009af9\" fill-rule=\"evenodd\" fill-opacity=\"1\" stroke=\"#000000\" stroke-opacity=\"1\" stroke-width=\"3.2\"/>\n",
       "<path clip-path=\"url(#clip682)\" d=\"M348.893 1453.96 L337.581 1449.28 L332.893 1437.96 L337.581 1426.65 L348.893 1421.96 L360.205 1426.65 L364.893 1437.96 L360.205 1449.28 Z\" fill=\"#009af9\" fill-rule=\"evenodd\" fill-opacity=\"1\" stroke=\"#000000\" stroke-opacity=\"1\" stroke-width=\"3.2\"/>\n",
       "<path clip-path=\"url(#clip682)\" d=\"M369.773 1451.71 L358.461 1447.02 L353.773 1435.71 L358.461 1424.4 L369.773 1419.71 L381.085 1424.4 L385.773 1435.71 L381.085 1447.02 Z\" fill=\"#009af9\" fill-rule=\"evenodd\" fill-opacity=\"1\" stroke=\"#000000\" stroke-opacity=\"1\" stroke-width=\"3.2\"/>\n",
       "<path clip-path=\"url(#clip682)\" d=\"M390.653 1449.24 L379.341 1444.55 L374.653 1433.24 L379.341 1421.92 L390.653 1417.24 L401.965 1421.92 L406.653 1433.24 L401.965 1444.55 Z\" fill=\"#009af9\" fill-rule=\"evenodd\" fill-opacity=\"1\" stroke=\"#000000\" stroke-opacity=\"1\" stroke-width=\"3.2\"/>\n",
       "<path clip-path=\"url(#clip682)\" d=\"M411.533 1446.53 L400.221 1441.84 L395.533 1430.53 L400.221 1419.21 L411.533 1414.53 L422.845 1419.21 L427.533 1430.53 L422.845 1441.84 Z\" fill=\"#009af9\" fill-rule=\"evenodd\" fill-opacity=\"1\" stroke=\"#000000\" stroke-opacity=\"1\" stroke-width=\"3.2\"/>\n",
       "<path clip-path=\"url(#clip682)\" d=\"M432.413 1443.56 L421.101 1438.87 L416.413 1427.56 L421.101 1416.25 L432.413 1411.56 L443.725 1416.25 L448.413 1427.56 L443.725 1438.87 Z\" fill=\"#009af9\" fill-rule=\"evenodd\" fill-opacity=\"1\" stroke=\"#000000\" stroke-opacity=\"1\" stroke-width=\"3.2\"/>\n",
       "<path clip-path=\"url(#clip682)\" d=\"M453.293 1440.31 L441.981 1435.62 L437.293 1424.31 L441.981 1412.99 L453.293 1408.31 L464.605 1412.99 L469.293 1424.31 L464.605 1435.62 Z\" fill=\"#009af9\" fill-rule=\"evenodd\" fill-opacity=\"1\" stroke=\"#000000\" stroke-opacity=\"1\" stroke-width=\"3.2\"/>\n",
       "<path clip-path=\"url(#clip682)\" d=\"M474.173 1436.75 L462.861 1432.06 L458.173 1420.75 L462.861 1409.44 L474.173 1404.75 L485.485 1409.44 L490.173 1420.75 L485.485 1432.06 Z\" fill=\"#009af9\" fill-rule=\"evenodd\" fill-opacity=\"1\" stroke=\"#000000\" stroke-opacity=\"1\" stroke-width=\"3.2\"/>\n",
       "<path clip-path=\"url(#clip682)\" d=\"M495.053 1432.85 L483.741 1428.17 L479.053 1416.85 L483.741 1405.54 L495.053 1400.85 L506.365 1405.54 L511.053 1416.85 L506.365 1428.17 Z\" fill=\"#009af9\" fill-rule=\"evenodd\" fill-opacity=\"1\" stroke=\"#000000\" stroke-opacity=\"1\" stroke-width=\"3.2\"/>\n",
       "<path clip-path=\"url(#clip682)\" d=\"M515.934 1428.6 L504.622 1423.91 L499.934 1412.6 L504.622 1401.28 L515.934 1396.6 L527.246 1401.28 L531.934 1412.6 L527.246 1423.91 Z\" fill=\"#009af9\" fill-rule=\"evenodd\" fill-opacity=\"1\" stroke=\"#000000\" stroke-opacity=\"1\" stroke-width=\"3.2\"/>\n",
       "<path clip-path=\"url(#clip682)\" d=\"M536.814 1423.94 L525.502 1419.25 L520.814 1407.94 L525.502 1396.63 L536.814 1391.94 L548.126 1396.63 L552.814 1407.94 L548.126 1419.25 Z\" fill=\"#009af9\" fill-rule=\"evenodd\" fill-opacity=\"1\" stroke=\"#000000\" stroke-opacity=\"1\" stroke-width=\"3.2\"/>\n",
       "<path clip-path=\"url(#clip682)\" d=\"M557.694 1418.86 L546.382 1414.17 L541.694 1402.86 L546.382 1391.55 L557.694 1386.86 L569.006 1391.55 L573.694 1402.86 L569.006 1414.17 Z\" fill=\"#009af9\" fill-rule=\"evenodd\" fill-opacity=\"1\" stroke=\"#000000\" stroke-opacity=\"1\" stroke-width=\"3.2\"/>\n",
       "<path clip-path=\"url(#clip682)\" d=\"M578.574 1413.31 L567.262 1408.62 L562.574 1397.31 L567.262 1386 L578.574 1381.31 L589.886 1386 L594.574 1397.31 L589.886 1408.62 Z\" fill=\"#009af9\" fill-rule=\"evenodd\" fill-opacity=\"1\" stroke=\"#000000\" stroke-opacity=\"1\" stroke-width=\"3.2\"/>\n",
       "<path clip-path=\"url(#clip682)\" d=\"M599.454 1407.26 L588.142 1402.57 L583.454 1391.26 L588.142 1379.95 L599.454 1375.26 L610.766 1379.95 L615.454 1391.26 L610.766 1402.57 Z\" fill=\"#009af9\" fill-rule=\"evenodd\" fill-opacity=\"1\" stroke=\"#000000\" stroke-opacity=\"1\" stroke-width=\"3.2\"/>\n",
       "<path clip-path=\"url(#clip682)\" d=\"M620.334 1400.66 L609.022 1395.98 L604.334 1384.66 L609.022 1373.35 L620.334 1368.66 L631.646 1373.35 L636.334 1384.66 L631.646 1395.98 Z\" fill=\"#009af9\" fill-rule=\"evenodd\" fill-opacity=\"1\" stroke=\"#000000\" stroke-opacity=\"1\" stroke-width=\"3.2\"/>\n",
       "<path clip-path=\"url(#clip682)\" d=\"M641.214 1393.48 L629.902 1388.8 L625.214 1377.48 L629.902 1366.17 L641.214 1361.48 L652.526 1366.17 L657.214 1377.48 L652.526 1388.8 Z\" fill=\"#009af9\" fill-rule=\"evenodd\" fill-opacity=\"1\" stroke=\"#000000\" stroke-opacity=\"1\" stroke-width=\"3.2\"/>\n",
       "<path clip-path=\"url(#clip682)\" d=\"M662.094 1385.67 L650.782 1380.99 L646.094 1369.67 L650.782 1358.36 L662.094 1353.67 L673.406 1358.36 L678.094 1369.67 L673.406 1380.99 Z\" fill=\"#009af9\" fill-rule=\"evenodd\" fill-opacity=\"1\" stroke=\"#000000\" stroke-opacity=\"1\" stroke-width=\"3.2\"/>\n",
       "<path clip-path=\"url(#clip682)\" d=\"M682.974 1377.19 L671.662 1372.5 L666.974 1361.19 L671.662 1349.87 L682.974 1345.19 L694.286 1349.87 L698.974 1361.19 L694.286 1372.5 Z\" fill=\"#009af9\" fill-rule=\"evenodd\" fill-opacity=\"1\" stroke=\"#000000\" stroke-opacity=\"1\" stroke-width=\"3.2\"/>\n",
       "<path clip-path=\"url(#clip682)\" d=\"M703.854 1367.97 L692.542 1363.29 L687.854 1351.97 L692.542 1340.66 L703.854 1335.97 L715.166 1340.66 L719.854 1351.97 L715.166 1363.29 Z\" fill=\"#009af9\" fill-rule=\"evenodd\" fill-opacity=\"1\" stroke=\"#000000\" stroke-opacity=\"1\" stroke-width=\"3.2\"/>\n",
       "<path clip-path=\"url(#clip682)\" d=\"M724.735 1357.99 L713.423 1353.3 L708.735 1341.99 L713.423 1330.68 L724.735 1325.99 L736.047 1330.68 L740.735 1341.99 L736.047 1353.3 Z\" fill=\"#009af9\" fill-rule=\"evenodd\" fill-opacity=\"1\" stroke=\"#000000\" stroke-opacity=\"1\" stroke-width=\"3.2\"/>\n",
       "<path clip-path=\"url(#clip682)\" d=\"M745.615 1347.18 L734.303 1342.49 L729.615 1331.18 L734.303 1319.87 L745.615 1315.18 L756.927 1319.87 L761.615 1331.18 L756.927 1342.49 Z\" fill=\"#009af9\" fill-rule=\"evenodd\" fill-opacity=\"1\" stroke=\"#000000\" stroke-opacity=\"1\" stroke-width=\"3.2\"/>\n",
       "<path clip-path=\"url(#clip682)\" d=\"M766.495 1335.5 L755.183 1330.81 L750.495 1319.5 L755.183 1308.18 L766.495 1303.5 L777.807 1308.18 L782.495 1319.5 L777.807 1330.81 Z\" fill=\"#009af9\" fill-rule=\"evenodd\" fill-opacity=\"1\" stroke=\"#000000\" stroke-opacity=\"1\" stroke-width=\"3.2\"/>\n",
       "<path clip-path=\"url(#clip682)\" d=\"M787.375 1322.88 L776.063 1318.2 L771.375 1306.88 L776.063 1295.57 L787.375 1290.88 L798.687 1295.57 L803.375 1306.88 L798.687 1318.2 Z\" fill=\"#009af9\" fill-rule=\"evenodd\" fill-opacity=\"1\" stroke=\"#000000\" stroke-opacity=\"1\" stroke-width=\"3.2\"/>\n",
       "<path clip-path=\"url(#clip682)\" d=\"M808.255 1309.3 L796.943 1304.61 L792.255 1293.3 L796.943 1281.99 L808.255 1277.3 L819.567 1281.99 L824.255 1293.3 L819.567 1304.61 Z\" fill=\"#009af9\" fill-rule=\"evenodd\" fill-opacity=\"1\" stroke=\"#000000\" stroke-opacity=\"1\" stroke-width=\"3.2\"/>\n",
       "<path clip-path=\"url(#clip682)\" d=\"M829.135 1294.69 L817.823 1290 L813.135 1278.69 L817.823 1267.38 L829.135 1262.69 L840.447 1267.38 L845.135 1278.69 L840.447 1290 Z\" fill=\"#009af9\" fill-rule=\"evenodd\" fill-opacity=\"1\" stroke=\"#000000\" stroke-opacity=\"1\" stroke-width=\"3.2\"/>\n",
       "<path clip-path=\"url(#clip682)\" d=\"M850.015 1279.01 L838.703 1274.32 L834.015 1263.01 L838.703 1251.7 L850.015 1247.01 L861.327 1251.7 L866.015 1263.01 L861.327 1274.32 Z\" fill=\"#009af9\" fill-rule=\"evenodd\" fill-opacity=\"1\" stroke=\"#000000\" stroke-opacity=\"1\" stroke-width=\"3.2\"/>\n",
       "<path clip-path=\"url(#clip682)\" d=\"M870.895 1262.22 L859.583 1257.53 L854.895 1246.22 L859.583 1234.91 L870.895 1230.22 L882.207 1234.91 L886.895 1246.22 L882.207 1257.53 Z\" fill=\"#009af9\" fill-rule=\"evenodd\" fill-opacity=\"1\" stroke=\"#000000\" stroke-opacity=\"1\" stroke-width=\"3.2\"/>\n",
       "<path clip-path=\"url(#clip682)\" d=\"M891.775 1244.28 L880.463 1239.59 L875.775 1228.28 L880.463 1216.97 L891.775 1212.28 L903.087 1216.97 L907.775 1228.28 L903.087 1239.59 Z\" fill=\"#009af9\" fill-rule=\"evenodd\" fill-opacity=\"1\" stroke=\"#000000\" stroke-opacity=\"1\" stroke-width=\"3.2\"/>\n",
       "<path clip-path=\"url(#clip682)\" d=\"M912.655 1225.17 L901.343 1220.48 L896.655 1209.17 L901.343 1197.85 L912.655 1193.17 L923.967 1197.85 L928.655 1209.17 L923.967 1220.48 Z\" fill=\"#009af9\" fill-rule=\"evenodd\" fill-opacity=\"1\" stroke=\"#000000\" stroke-opacity=\"1\" stroke-width=\"3.2\"/>\n",
       "<path clip-path=\"url(#clip682)\" d=\"M933.536 1204.85 L922.224 1200.16 L917.536 1188.85 L922.224 1177.53 L933.536 1172.85 L944.848 1177.53 L949.536 1188.85 L944.848 1200.16 Z\" fill=\"#009af9\" fill-rule=\"evenodd\" fill-opacity=\"1\" stroke=\"#000000\" stroke-opacity=\"1\" stroke-width=\"3.2\"/>\n",
       "<path clip-path=\"url(#clip682)\" d=\"M954.416 1183.31 L943.104 1178.62 L938.416 1167.31 L943.104 1156 L954.416 1151.31 L965.728 1156 L970.416 1167.31 L965.728 1178.62 Z\" fill=\"#009af9\" fill-rule=\"evenodd\" fill-opacity=\"1\" stroke=\"#000000\" stroke-opacity=\"1\" stroke-width=\"3.2\"/>\n",
       "<path clip-path=\"url(#clip682)\" d=\"M975.296 1160.56 L963.984 1155.87 L959.296 1144.56 L963.984 1133.24 L975.296 1128.56 L986.608 1133.24 L991.296 1144.56 L986.608 1155.87 Z\" fill=\"#009af9\" fill-rule=\"evenodd\" fill-opacity=\"1\" stroke=\"#000000\" stroke-opacity=\"1\" stroke-width=\"3.2\"/>\n",
       "<path clip-path=\"url(#clip682)\" d=\"M996.176 1136.59 L984.864 1131.9 L980.176 1120.59 L984.864 1109.28 L996.176 1104.59 L1007.49 1109.28 L1012.18 1120.59 L1007.49 1131.9 Z\" fill=\"#009af9\" fill-rule=\"evenodd\" fill-opacity=\"1\" stroke=\"#000000\" stroke-opacity=\"1\" stroke-width=\"3.2\"/>\n",
       "<path clip-path=\"url(#clip682)\" d=\"M1017.06 1111.43 L1005.74 1106.74 L1001.06 1095.43 L1005.74 1084.12 L1017.06 1079.43 L1028.37 1084.12 L1033.06 1095.43 L1028.37 1106.74 Z\" fill=\"#009af9\" fill-rule=\"evenodd\" fill-opacity=\"1\" stroke=\"#000000\" stroke-opacity=\"1\" stroke-width=\"3.2\"/>\n",
       "<path clip-path=\"url(#clip682)\" d=\"M1037.94 1085.12 L1026.62 1080.43 L1021.94 1069.12 L1026.62 1057.8 L1037.94 1053.12 L1049.25 1057.8 L1053.94 1069.12 L1049.25 1080.43 Z\" fill=\"#009af9\" fill-rule=\"evenodd\" fill-opacity=\"1\" stroke=\"#000000\" stroke-opacity=\"1\" stroke-width=\"3.2\"/>\n",
       "<path clip-path=\"url(#clip682)\" d=\"M1058.82 1057.7 L1047.5 1053.01 L1042.82 1041.7 L1047.5 1030.39 L1058.82 1025.7 L1070.13 1030.39 L1074.82 1041.7 L1070.13 1053.01 Z\" fill=\"#009af9\" fill-rule=\"evenodd\" fill-opacity=\"1\" stroke=\"#000000\" stroke-opacity=\"1\" stroke-width=\"3.2\"/>\n",
       "<path clip-path=\"url(#clip682)\" d=\"M1079.7 1029.24 L1068.38 1024.55 L1063.7 1013.24 L1068.38 1001.93 L1079.7 997.242 L1091.01 1001.93 L1095.7 1013.24 L1091.01 1024.55 Z\" fill=\"#009af9\" fill-rule=\"evenodd\" fill-opacity=\"1\" stroke=\"#000000\" stroke-opacity=\"1\" stroke-width=\"3.2\"/>\n",
       "<path clip-path=\"url(#clip682)\" d=\"M1100.58 999.831 L1089.26 995.143 L1084.58 983.831 L1089.26 972.519 L1100.58 967.831 L1111.89 972.519 L1116.58 983.831 L1111.89 995.143 Z\" fill=\"#009af9\" fill-rule=\"evenodd\" fill-opacity=\"1\" stroke=\"#000000\" stroke-opacity=\"1\" stroke-width=\"3.2\"/>\n",
       "<path clip-path=\"url(#clip682)\" d=\"M1121.46 969.562 L1110.14 964.874 L1105.46 953.562 L1110.14 942.25 L1121.46 937.562 L1132.77 942.25 L1137.46 953.562 L1132.77 964.874 Z\" fill=\"#009af9\" fill-rule=\"evenodd\" fill-opacity=\"1\" stroke=\"#000000\" stroke-opacity=\"1\" stroke-width=\"3.2\"/>\n",
       "<path clip-path=\"url(#clip682)\" d=\"M1142.34 938.55 L1131.02 933.862 L1126.34 922.55 L1131.02 911.238 L1142.34 906.55 L1153.65 911.238 L1158.34 922.55 L1153.65 933.862 Z\" fill=\"#009af9\" fill-rule=\"evenodd\" fill-opacity=\"1\" stroke=\"#000000\" stroke-opacity=\"1\" stroke-width=\"3.2\"/>\n",
       "<path clip-path=\"url(#clip682)\" d=\"M1163.22 906.922 L1151.9 902.234 L1147.22 890.922 L1151.9 879.61 L1163.22 874.922 L1174.53 879.61 L1179.22 890.922 L1174.53 902.234 Z\" fill=\"#009af9\" fill-rule=\"evenodd\" fill-opacity=\"1\" stroke=\"#000000\" stroke-opacity=\"1\" stroke-width=\"3.2\"/>\n",
       "<path clip-path=\"url(#clip682)\" d=\"M1184.1 874.817 L1172.78 870.129 L1168.1 858.817 L1172.78 847.505 L1184.1 842.817 L1195.41 847.505 L1200.1 858.817 L1195.41 870.129 Z\" fill=\"#009af9\" fill-rule=\"evenodd\" fill-opacity=\"1\" stroke=\"#000000\" stroke-opacity=\"1\" stroke-width=\"3.2\"/>\n",
       "<path clip-path=\"url(#clip682)\" d=\"M1204.98 842.385 L1193.66 837.697 L1188.98 826.385 L1193.66 815.073 L1204.98 810.385 L1216.29 815.073 L1220.98 826.385 L1216.29 837.697 Z\" fill=\"#009af9\" fill-rule=\"evenodd\" fill-opacity=\"1\" stroke=\"#000000\" stroke-opacity=\"1\" stroke-width=\"3.2\"/>\n",
       "<path clip-path=\"url(#clip682)\" d=\"M1225.86 809.783 L1214.54 805.095 L1209.86 793.783 L1214.54 782.471 L1225.86 777.783 L1237.17 782.471 L1241.86 793.783 L1237.17 805.095 Z\" fill=\"#009af9\" fill-rule=\"evenodd\" fill-opacity=\"1\" stroke=\"#000000\" stroke-opacity=\"1\" stroke-width=\"3.2\"/>\n",
       "<path clip-path=\"url(#clip682)\" d=\"M1246.74 777.173 L1235.43 772.485 L1230.74 761.173 L1235.43 749.861 L1246.74 745.173 L1258.05 749.861 L1262.74 761.173 L1258.05 772.485 Z\" fill=\"#009af9\" fill-rule=\"evenodd\" fill-opacity=\"1\" stroke=\"#000000\" stroke-opacity=\"1\" stroke-width=\"3.2\"/>\n",
       "<path clip-path=\"url(#clip682)\" d=\"M1267.62 744.717 L1256.31 740.029 L1251.62 728.717 L1256.31 717.405 L1267.62 712.717 L1278.93 717.405 L1283.62 728.717 L1278.93 740.029 Z\" fill=\"#009af9\" fill-rule=\"evenodd\" fill-opacity=\"1\" stroke=\"#000000\" stroke-opacity=\"1\" stroke-width=\"3.2\"/>\n",
       "<path clip-path=\"url(#clip682)\" d=\"M1288.5 712.576 L1277.19 707.888 L1272.5 696.576 L1277.19 685.264 L1288.5 680.576 L1299.81 685.264 L1304.5 696.576 L1299.81 707.888 Z\" fill=\"#009af9\" fill-rule=\"evenodd\" fill-opacity=\"1\" stroke=\"#000000\" stroke-opacity=\"1\" stroke-width=\"3.2\"/>\n",
       "<path clip-path=\"url(#clip682)\" d=\"M1309.38 680.907 L1298.07 676.219 L1293.38 664.907 L1298.07 653.595 L1309.38 648.907 L1320.69 653.595 L1325.38 664.907 L1320.69 676.219 Z\" fill=\"#009af9\" fill-rule=\"evenodd\" fill-opacity=\"1\" stroke=\"#000000\" stroke-opacity=\"1\" stroke-width=\"3.2\"/>\n",
       "<path clip-path=\"url(#clip682)\" d=\"M1330.26 649.858 L1318.95 645.17 L1314.26 633.858 L1318.95 622.546 L1330.26 617.858 L1341.57 622.546 L1346.26 633.858 L1341.57 645.17 Z\" fill=\"#009af9\" fill-rule=\"evenodd\" fill-opacity=\"1\" stroke=\"#000000\" stroke-opacity=\"1\" stroke-width=\"3.2\"/>\n",
       "<path clip-path=\"url(#clip682)\" d=\"M1351.14 619.565 L1339.83 614.877 L1335.14 603.565 L1339.83 592.253 L1351.14 587.565 L1362.45 592.253 L1367.14 603.565 L1362.45 614.877 Z\" fill=\"#009af9\" fill-rule=\"evenodd\" fill-opacity=\"1\" stroke=\"#000000\" stroke-opacity=\"1\" stroke-width=\"3.2\"/>\n",
       "<path clip-path=\"url(#clip682)\" d=\"M1372.02 590.153 L1360.71 585.465 L1356.02 574.153 L1360.71 562.841 L1372.02 558.153 L1383.33 562.841 L1388.02 574.153 L1383.33 585.465 Z\" fill=\"#009af9\" fill-rule=\"evenodd\" fill-opacity=\"1\" stroke=\"#000000\" stroke-opacity=\"1\" stroke-width=\"3.2\"/>\n",
       "<path clip-path=\"url(#clip682)\" d=\"M1392.9 561.73 L1381.59 557.042 L1376.9 545.73 L1381.59 534.418 L1392.9 529.73 L1404.21 534.418 L1408.9 545.73 L1404.21 557.042 Z\" fill=\"#009af9\" fill-rule=\"evenodd\" fill-opacity=\"1\" stroke=\"#000000\" stroke-opacity=\"1\" stroke-width=\"3.2\"/>\n",
       "<path clip-path=\"url(#clip682)\" d=\"M1413.78 534.389 L1402.47 529.701 L1397.78 518.389 L1402.47 507.077 L1413.78 502.389 L1425.09 507.077 L1429.78 518.389 L1425.09 529.701 Z\" fill=\"#009af9\" fill-rule=\"evenodd\" fill-opacity=\"1\" stroke=\"#000000\" stroke-opacity=\"1\" stroke-width=\"3.2\"/>\n",
       "<path clip-path=\"url(#clip682)\" d=\"M1434.66 508.206 L1423.35 503.518 L1418.66 492.206 L1423.35 480.894 L1434.66 476.206 L1445.97 480.894 L1450.66 492.206 L1445.97 503.518 Z\" fill=\"#009af9\" fill-rule=\"evenodd\" fill-opacity=\"1\" stroke=\"#000000\" stroke-opacity=\"1\" stroke-width=\"3.2\"/>\n",
       "<path clip-path=\"url(#clip682)\" d=\"M1455.54 483.24 L1444.23 478.552 L1439.54 467.24 L1444.23 455.928 L1455.54 451.24 L1466.85 455.928 L1471.54 467.24 L1466.85 478.552 Z\" fill=\"#009af9\" fill-rule=\"evenodd\" fill-opacity=\"1\" stroke=\"#000000\" stroke-opacity=\"1\" stroke-width=\"3.2\"/>\n",
       "<path clip-path=\"url(#clip682)\" d=\"M1476.42 459.531 L1465.11 454.843 L1460.42 443.531 L1465.11 432.219 L1476.42 427.531 L1487.73 432.219 L1492.42 443.531 L1487.73 454.843 Z\" fill=\"#009af9\" fill-rule=\"evenodd\" fill-opacity=\"1\" stroke=\"#000000\" stroke-opacity=\"1\" stroke-width=\"3.2\"/>\n",
       "<path clip-path=\"url(#clip682)\" d=\"M1497.3 437.104 L1485.99 432.416 L1481.3 421.104 L1485.99 409.792 L1497.3 405.104 L1508.61 409.792 L1513.3 421.104 L1508.61 432.416 Z\" fill=\"#009af9\" fill-rule=\"evenodd\" fill-opacity=\"1\" stroke=\"#000000\" stroke-opacity=\"1\" stroke-width=\"3.2\"/>\n",
       "<path clip-path=\"url(#clip682)\" d=\"M1518.18 415.97 L1506.87 411.282 L1502.18 399.97 L1506.87 388.658 L1518.18 383.97 L1529.49 388.658 L1534.18 399.97 L1529.49 411.282 Z\" fill=\"#009af9\" fill-rule=\"evenodd\" fill-opacity=\"1\" stroke=\"#000000\" stroke-opacity=\"1\" stroke-width=\"3.2\"/>\n",
       "<path clip-path=\"url(#clip682)\" d=\"M1539.06 396.124 L1527.75 391.436 L1523.06 380.124 L1527.75 368.812 L1539.06 364.124 L1550.37 368.812 L1555.06 380.124 L1550.37 391.436 Z\" fill=\"#009af9\" fill-rule=\"evenodd\" fill-opacity=\"1\" stroke=\"#000000\" stroke-opacity=\"1\" stroke-width=\"3.2\"/>\n",
       "<path clip-path=\"url(#clip682)\" d=\"M1559.94 377.551 L1548.63 372.863 L1543.94 361.551 L1548.63 350.239 L1559.94 345.551 L1571.25 350.239 L1575.94 361.551 L1571.25 372.863 Z\" fill=\"#009af9\" fill-rule=\"evenodd\" fill-opacity=\"1\" stroke=\"#000000\" stroke-opacity=\"1\" stroke-width=\"3.2\"/>\n",
       "<path clip-path=\"url(#clip682)\" d=\"M1580.82 360.223 L1569.51 355.535 L1564.82 344.223 L1569.51 332.911 L1580.82 328.223 L1592.13 332.911 L1596.82 344.223 L1592.13 355.535 Z\" fill=\"#009af9\" fill-rule=\"evenodd\" fill-opacity=\"1\" stroke=\"#000000\" stroke-opacity=\"1\" stroke-width=\"3.2\"/>\n",
       "<path clip-path=\"url(#clip682)\" d=\"M1601.7 344.105 L1590.39 339.417 L1585.7 328.105 L1590.39 316.793 L1601.7 312.105 L1613.01 316.793 L1617.7 328.105 L1613.01 339.417 Z\" fill=\"#009af9\" fill-rule=\"evenodd\" fill-opacity=\"1\" stroke=\"#000000\" stroke-opacity=\"1\" stroke-width=\"3.2\"/>\n",
       "<path clip-path=\"url(#clip682)\" d=\"M1622.58 329.153 L1611.27 324.465 L1606.58 313.153 L1611.27 301.841 L1622.58 297.153 L1633.89 301.841 L1638.58 313.153 L1633.89 324.465 Z\" fill=\"#009af9\" fill-rule=\"evenodd\" fill-opacity=\"1\" stroke=\"#000000\" stroke-opacity=\"1\" stroke-width=\"3.2\"/>\n",
       "<path clip-path=\"url(#clip682)\" d=\"M1643.46 315.319 L1632.15 310.631 L1627.46 299.319 L1632.15 288.007 L1643.46 283.319 L1654.77 288.007 L1659.46 299.319 L1654.77 310.631 Z\" fill=\"#009af9\" fill-rule=\"evenodd\" fill-opacity=\"1\" stroke=\"#000000\" stroke-opacity=\"1\" stroke-width=\"3.2\"/>\n",
       "<path clip-path=\"url(#clip682)\" d=\"M1664.34 302.549 L1653.03 297.861 L1648.34 286.549 L1653.03 275.237 L1664.34 270.549 L1675.65 275.237 L1680.34 286.549 L1675.65 297.861 Z\" fill=\"#009af9\" fill-rule=\"evenodd\" fill-opacity=\"1\" stroke=\"#000000\" stroke-opacity=\"1\" stroke-width=\"3.2\"/>\n",
       "<path clip-path=\"url(#clip682)\" d=\"M1685.22 290.788 L1673.91 286.1 L1669.22 274.788 L1673.91 263.476 L1685.22 258.788 L1696.53 263.476 L1701.22 274.788 L1696.53 286.1 Z\" fill=\"#009af9\" fill-rule=\"evenodd\" fill-opacity=\"1\" stroke=\"#000000\" stroke-opacity=\"1\" stroke-width=\"3.2\"/>\n",
       "<path clip-path=\"url(#clip682)\" d=\"M1706.1 279.978 L1694.79 275.29 L1690.1 263.978 L1694.79 252.666 L1706.1 247.978 L1717.41 252.666 L1722.1 263.978 L1717.41 275.29 Z\" fill=\"#009af9\" fill-rule=\"evenodd\" fill-opacity=\"1\" stroke=\"#000000\" stroke-opacity=\"1\" stroke-width=\"3.2\"/>\n",
       "<path clip-path=\"url(#clip682)\" d=\"M1726.98 270.061 L1715.67 265.373 L1710.98 254.061 L1715.67 242.749 L1726.98 238.061 L1738.29 242.749 L1742.98 254.061 L1738.29 265.373 Z\" fill=\"#009af9\" fill-rule=\"evenodd\" fill-opacity=\"1\" stroke=\"#000000\" stroke-opacity=\"1\" stroke-width=\"3.2\"/>\n",
       "<path clip-path=\"url(#clip682)\" d=\"M1747.86 260.979 L1736.55 256.291 L1731.86 244.979 L1736.55 233.667 L1747.86 228.979 L1759.17 233.667 L1763.86 244.979 L1759.17 256.291 Z\" fill=\"#009af9\" fill-rule=\"evenodd\" fill-opacity=\"1\" stroke=\"#000000\" stroke-opacity=\"1\" stroke-width=\"3.2\"/>\n",
       "<path clip-path=\"url(#clip682)\" d=\"M1768.74 252.675 L1757.43 247.987 L1752.74 236.675 L1757.43 225.363 L1768.74 220.675 L1780.05 225.363 L1784.74 236.675 L1780.05 247.987 Z\" fill=\"#009af9\" fill-rule=\"evenodd\" fill-opacity=\"1\" stroke=\"#000000\" stroke-opacity=\"1\" stroke-width=\"3.2\"/>\n",
       "<path clip-path=\"url(#clip682)\" d=\"M1789.62 245.093 L1778.31 240.405 L1773.62 229.093 L1778.31 217.781 L1789.62 213.093 L1800.93 217.781 L1805.62 229.093 L1800.93 240.405 Z\" fill=\"#009af9\" fill-rule=\"evenodd\" fill-opacity=\"1\" stroke=\"#000000\" stroke-opacity=\"1\" stroke-width=\"3.2\"/>\n",
       "<path clip-path=\"url(#clip682)\" d=\"M1810.5 238.18 L1799.19 233.492 L1794.5 222.18 L1799.19 210.868 L1810.5 206.18 L1821.81 210.868 L1826.5 222.18 L1821.81 233.492 Z\" fill=\"#009af9\" fill-rule=\"evenodd\" fill-opacity=\"1\" stroke=\"#000000\" stroke-opacity=\"1\" stroke-width=\"3.2\"/>\n",
       "<path clip-path=\"url(#clip682)\" d=\"M1831.38 231.884 L1820.07 227.196 L1815.38 215.884 L1820.07 204.572 L1831.38 199.884 L1842.69 204.572 L1847.38 215.884 L1842.69 227.196 Z\" fill=\"#009af9\" fill-rule=\"evenodd\" fill-opacity=\"1\" stroke=\"#000000\" stroke-opacity=\"1\" stroke-width=\"3.2\"/>\n",
       "<path clip-path=\"url(#clip682)\" d=\"M1852.26 226.157 L1840.95 221.469 L1836.26 210.157 L1840.95 198.845 L1852.26 194.157 L1863.57 198.845 L1868.26 210.157 L1863.57 221.469 Z\" fill=\"#009af9\" fill-rule=\"evenodd\" fill-opacity=\"1\" stroke=\"#000000\" stroke-opacity=\"1\" stroke-width=\"3.2\"/>\n",
       "<path clip-path=\"url(#clip682)\" d=\"M1873.14 220.952 L1861.83 216.264 L1857.14 204.952 L1861.83 193.64 L1873.14 188.952 L1884.45 193.64 L1889.14 204.952 L1884.45 216.264 Z\" fill=\"#009af9\" fill-rule=\"evenodd\" fill-opacity=\"1\" stroke=\"#000000\" stroke-opacity=\"1\" stroke-width=\"3.2\"/>\n",
       "<path clip-path=\"url(#clip682)\" d=\"M1894.02 216.227 L1882.71 211.539 L1878.02 200.227 L1882.71 188.915 L1894.02 184.227 L1905.33 188.915 L1910.02 200.227 L1905.33 211.539 Z\" fill=\"#009af9\" fill-rule=\"evenodd\" fill-opacity=\"1\" stroke=\"#000000\" stroke-opacity=\"1\" stroke-width=\"3.2\"/>\n",
       "<path clip-path=\"url(#clip682)\" d=\"M1914.9 211.94 L1903.59 207.252 L1898.9 195.94 L1903.59 184.628 L1914.9 179.94 L1926.21 184.628 L1930.9 195.94 L1926.21 207.252 Z\" fill=\"#009af9\" fill-rule=\"evenodd\" fill-opacity=\"1\" stroke=\"#000000\" stroke-opacity=\"1\" stroke-width=\"3.2\"/>\n",
       "<path clip-path=\"url(#clip682)\" d=\"M1935.78 208.054 L1924.47 203.366 L1919.78 192.054 L1924.47 180.742 L1935.78 176.054 L1947.09 180.742 L1951.78 192.054 L1947.09 203.366 Z\" fill=\"#009af9\" fill-rule=\"evenodd\" fill-opacity=\"1\" stroke=\"#000000\" stroke-opacity=\"1\" stroke-width=\"3.2\"/>\n",
       "<path clip-path=\"url(#clip682)\" d=\"M1956.66 204.534 L1945.35 199.846 L1940.66 188.534 L1945.35 177.222 L1956.66 172.534 L1967.97 177.222 L1972.66 188.534 L1967.97 199.846 Z\" fill=\"#009af9\" fill-rule=\"evenodd\" fill-opacity=\"1\" stroke=\"#000000\" stroke-opacity=\"1\" stroke-width=\"3.2\"/>\n",
       "<path clip-path=\"url(#clip682)\" d=\"M1977.54 201.348 L1966.23 196.66 L1961.54 185.348 L1966.23 174.036 L1977.54 169.348 L1988.85 174.036 L1993.54 185.348 L1988.85 196.66 Z\" fill=\"#009af9\" fill-rule=\"evenodd\" fill-opacity=\"1\" stroke=\"#000000\" stroke-opacity=\"1\" stroke-width=\"3.2\"/>\n",
       "<path clip-path=\"url(#clip682)\" d=\"M1998.42 198.465 L1987.11 193.777 L1982.42 182.465 L1987.11 171.153 L1998.42 166.465 L2009.73 171.153 L2014.42 182.465 L2009.73 193.777 Z\" fill=\"#009af9\" fill-rule=\"evenodd\" fill-opacity=\"1\" stroke=\"#000000\" stroke-opacity=\"1\" stroke-width=\"3.2\"/>\n",
       "<path clip-path=\"url(#clip682)\" d=\"M2019.3 195.857 L2007.99 191.169 L2003.3 179.857 L2007.99 168.545 L2019.3 163.857 L2030.61 168.545 L2035.3 179.857 L2030.61 191.169 Z\" fill=\"#009af9\" fill-rule=\"evenodd\" fill-opacity=\"1\" stroke=\"#000000\" stroke-opacity=\"1\" stroke-width=\"3.2\"/>\n",
       "<path clip-path=\"url(#clip682)\" d=\"M2040.18 193.501 L2028.87 188.813 L2024.18 177.501 L2028.87 166.189 L2040.18 161.501 L2051.49 166.189 L2056.18 177.501 L2051.49 188.813 Z\" fill=\"#009af9\" fill-rule=\"evenodd\" fill-opacity=\"1\" stroke=\"#000000\" stroke-opacity=\"1\" stroke-width=\"3.2\"/>\n",
       "<path clip-path=\"url(#clip682)\" d=\"M2061.06 191.372 L2049.75 186.684 L2045.06 175.372 L2049.75 164.06 L2061.06 159.372 L2072.37 164.06 L2077.06 175.372 L2072.37 186.684 Z\" fill=\"#009af9\" fill-rule=\"evenodd\" fill-opacity=\"1\" stroke=\"#000000\" stroke-opacity=\"1\" stroke-width=\"3.2\"/>\n",
       "<path clip-path=\"url(#clip682)\" d=\"M2081.94 189.449 L2070.63 184.761 L2065.94 173.449 L2070.63 162.137 L2081.94 157.449 L2093.25 162.137 L2097.94 173.449 L2093.25 184.761 Z\" fill=\"#009af9\" fill-rule=\"evenodd\" fill-opacity=\"1\" stroke=\"#000000\" stroke-opacity=\"1\" stroke-width=\"3.2\"/>\n",
       "<path clip-path=\"url(#clip682)\" d=\"M2102.82 187.713 L2091.51 183.025 L2086.82 171.713 L2091.51 160.401 L2102.82 155.713 L2114.13 160.401 L2118.82 171.713 L2114.13 183.025 Z\" fill=\"#009af9\" fill-rule=\"evenodd\" fill-opacity=\"1\" stroke=\"#000000\" stroke-opacity=\"1\" stroke-width=\"3.2\"/>\n",
       "<path clip-path=\"url(#clip682)\" d=\"M2123.7 186.146 L2112.39 181.458 L2107.7 170.146 L2112.39 158.834 L2123.7 154.146 L2135.01 158.834 L2139.7 170.146 L2135.01 181.458 Z\" fill=\"#009af9\" fill-rule=\"evenodd\" fill-opacity=\"1\" stroke=\"#000000\" stroke-opacity=\"1\" stroke-width=\"3.2\"/>\n",
       "<path clip-path=\"url(#clip682)\" d=\"M2144.58 184.732 L2133.27 180.044 L2128.58 168.732 L2133.27 157.42 L2144.58 152.732 L2155.89 157.42 L2160.58 168.732 L2155.89 180.044 Z\" fill=\"#009af9\" fill-rule=\"evenodd\" fill-opacity=\"1\" stroke=\"#000000\" stroke-opacity=\"1\" stroke-width=\"3.2\"/>\n",
       "<path clip-path=\"url(#clip682)\" d=\"M2165.46 183.456 L2154.15 178.768 L2149.46 167.456 L2154.15 156.144 L2165.46 151.456 L2176.77 156.144 L2181.46 167.456 L2176.77 178.768 Z\" fill=\"#009af9\" fill-rule=\"evenodd\" fill-opacity=\"1\" stroke=\"#000000\" stroke-opacity=\"1\" stroke-width=\"3.2\"/>\n",
       "<path clip-path=\"url(#clip682)\" d=\"M2186.34 182.306 L2175.03 177.618 L2170.34 166.306 L2175.03 154.994 L2186.34 150.306 L2197.65 154.994 L2202.34 166.306 L2197.65 177.618 Z\" fill=\"#009af9\" fill-rule=\"evenodd\" fill-opacity=\"1\" stroke=\"#000000\" stroke-opacity=\"1\" stroke-width=\"3.2\"/>\n",
       "<path clip-path=\"url(#clip682)\" d=\"M2207.22 181.269 L2195.91 176.581 L2191.22 165.269 L2195.91 153.957 L2207.22 149.269 L2218.53 153.957 L2223.22 165.269 L2218.53 176.581 Z\" fill=\"#009af9\" fill-rule=\"evenodd\" fill-opacity=\"1\" stroke=\"#000000\" stroke-opacity=\"1\" stroke-width=\"3.2\"/>\n",
       "<path clip-path=\"url(#clip682)\" d=\"M2228.1 180.334 L2216.79 175.646 L2212.1 164.334 L2216.79 153.022 L2228.1 148.334 L2239.41 153.022 L2244.1 164.334 L2239.41 175.646 Z\" fill=\"#009af9\" fill-rule=\"evenodd\" fill-opacity=\"1\" stroke=\"#000000\" stroke-opacity=\"1\" stroke-width=\"3.2\"/>\n",
       "<path clip-path=\"url(#clip682)\" d=\"M2248.98 179.491 L2237.67 174.803 L2232.98 163.491 L2237.67 152.179 L2248.98 147.491 L2260.29 152.179 L2264.98 163.491 L2260.29 174.803 Z\" fill=\"#009af9\" fill-rule=\"evenodd\" fill-opacity=\"1\" stroke=\"#000000\" stroke-opacity=\"1\" stroke-width=\"3.2\"/>\n",
       "<path clip-path=\"url(#clip682)\" d=\"M2269.86 178.731 L2258.55 174.043 L2253.86 162.731 L2258.55 151.419 L2269.86 146.731 L2281.17 151.419 L2285.86 162.731 L2281.17 174.043 Z\" fill=\"#009af9\" fill-rule=\"evenodd\" fill-opacity=\"1\" stroke=\"#000000\" stroke-opacity=\"1\" stroke-width=\"3.2\"/>\n",
       "<path clip-path=\"url(#clip682)\" d=\"M2290.74 178.047 L2279.43 173.359 L2274.74 162.047 L2279.43 150.735 L2290.74 146.047 L2302.05 150.735 L2306.74 162.047 L2302.05 173.359 Z\" fill=\"#009af9\" fill-rule=\"evenodd\" fill-opacity=\"1\" stroke=\"#000000\" stroke-opacity=\"1\" stroke-width=\"3.2\"/>\n",
       "<path clip-path=\"url(#clip680)\" d=\"\n",
       "M1985.24 289.865 L2279.72 289.865 L2279.72 168.905 L1985.24 168.905  Z\n",
       "  \" fill=\"#ffffff\" fill-rule=\"evenodd\" fill-opacity=\"1\"/>\n",
       "<polyline clip-path=\"url(#clip680)\" style=\"stroke:#000000; stroke-width:4; stroke-opacity:1; fill:none\" points=\"\n",
       "  1985.24,289.865 2279.72,289.865 2279.72,168.905 1985.24,168.905 1985.24,289.865 \n",
       "  \"/>\n",
       "<polyline clip-path=\"url(#clip680)\" style=\"stroke:#009af9; stroke-width:4; stroke-opacity:1; fill:none\" points=\"\n",
       "  2009.58,229.385 2155.66,229.385 \n",
       "  \"/>\n",
       "<path clip-path=\"url(#clip680)\" d=\"M2082.62 254.985 L2064.52 247.484 L2057.02 229.385 L2064.52 211.285 L2082.62 203.785 L2100.72 211.285 L2108.22 229.385 L2100.72 247.484 Z\" fill=\"#009af9\" fill-rule=\"evenodd\" fill-opacity=\"1\" stroke=\"#000000\" stroke-opacity=\"1\" stroke-width=\"5.12\"/>\n",
       "<path clip-path=\"url(#clip680)\" d=\"M 0 0 M2193.85 249.072 Q2192.04 253.702 2190.33 255.114 Q2188.62 256.526 2185.75 256.526 L2182.34 256.526 L2182.34 252.961 L2184.84 252.961 Q2186.6 252.961 2187.58 252.128 Q2188.55 251.294 2189.73 248.192 L2190.49 246.248 L2180.01 220.739 L2184.52 220.739 L2192.62 241.017 L2200.72 220.739 L2205.24 220.739 L2193.85 249.072 Z\" fill=\"#000000\" fill-rule=\"evenodd\" fill-opacity=\"1\" /><path clip-path=\"url(#clip680)\" d=\"M 0 0 M2211.12 242.729 L2218.76 242.729 L2218.76 216.364 L2210.45 218.031 L2210.45 213.771 L2218.71 212.105 L2223.39 212.105 L2223.39 242.729 L2231.02 242.729 L2231.02 246.665 L2211.12 246.665 L2211.12 242.729 Z\" fill=\"#000000\" fill-rule=\"evenodd\" fill-opacity=\"1\" /></svg>\n"
      ]
     },
     "execution_count": 81,
     "metadata": {},
     "output_type": "execute_result"
    }
   ],
   "source": [
    "p = 0.01\n",
    "α = 0.1\n",
    "N = 100\n",
    "\n",
    "I = run_infection(100)\n",
    "plot(I, m=:o)\n",
    "title!(\"Sigmoid shape (S-shaped)\")"
   ]
  },
  {
   "cell_type": "code",
   "execution_count": 84,
   "metadata": {},
   "outputs": [
    {
     "data": {
      "image/svg+xml": [
       "<?xml version=\"1.0\" encoding=\"utf-8\"?>\n",
       "<svg xmlns=\"http://www.w3.org/2000/svg\" xmlns:xlink=\"http://www.w3.org/1999/xlink\" width=\"600\" height=\"400\" viewBox=\"0 0 2400 1600\">\n",
       "<defs>\n",
       "  <clipPath id=\"clip760\">\n",
       "    <rect x=\"0\" y=\"0\" width=\"2400\" height=\"1600\"/>\n",
       "  </clipPath>\n",
       "</defs>\n",
       "<path clip-path=\"url(#clip760)\" d=\"\n",
       "M0 1600 L2400 1600 L2400 0 L0 0  Z\n",
       "  \" fill=\"#ffffff\" fill-rule=\"evenodd\" fill-opacity=\"1\"/>\n",
       "<defs>\n",
       "  <clipPath id=\"clip761\">\n",
       "    <rect x=\"480\" y=\"0\" width=\"1681\" height=\"1600\"/>\n",
       "  </clipPath>\n",
       "</defs>\n",
       "<path clip-path=\"url(#clip760)\" d=\"\n",
       "M184.03 1486.45 L2352.76 1486.45 L2352.76 123.472 L184.03 123.472  Z\n",
       "  \" fill=\"#ffffff\" fill-rule=\"evenodd\" fill-opacity=\"1\"/>\n",
       "<defs>\n",
       "  <clipPath id=\"clip762\">\n",
       "    <rect x=\"184\" y=\"123\" width=\"2170\" height=\"1364\"/>\n",
       "  </clipPath>\n",
       "</defs>\n",
       "<polyline clip-path=\"url(#clip762)\" style=\"stroke:#000000; stroke-width:2; stroke-opacity:0.1; fill:none\" points=\"\n",
       "  224.743,1486.45 224.743,123.472 \n",
       "  \"/>\n",
       "<polyline clip-path=\"url(#clip762)\" style=\"stroke:#000000; stroke-width:2; stroke-opacity:0.1; fill:none\" points=\"\n",
       "  741.401,1486.45 741.401,123.472 \n",
       "  \"/>\n",
       "<polyline clip-path=\"url(#clip762)\" style=\"stroke:#000000; stroke-width:2; stroke-opacity:0.1; fill:none\" points=\"\n",
       "  1258.06,1486.45 1258.06,123.472 \n",
       "  \"/>\n",
       "<polyline clip-path=\"url(#clip762)\" style=\"stroke:#000000; stroke-width:2; stroke-opacity:0.1; fill:none\" points=\"\n",
       "  1774.72,1486.45 1774.72,123.472 \n",
       "  \"/>\n",
       "<polyline clip-path=\"url(#clip762)\" style=\"stroke:#000000; stroke-width:2; stroke-opacity:0.1; fill:none\" points=\"\n",
       "  2291.38,1486.45 2291.38,123.472 \n",
       "  \"/>\n",
       "<polyline clip-path=\"url(#clip760)\" style=\"stroke:#000000; stroke-width:4; stroke-opacity:1; fill:none\" points=\"\n",
       "  184.03,1486.45 2352.76,1486.45 \n",
       "  \"/>\n",
       "<polyline clip-path=\"url(#clip760)\" style=\"stroke:#000000; stroke-width:4; stroke-opacity:1; fill:none\" points=\"\n",
       "  224.743,1486.45 224.743,1470.09 \n",
       "  \"/>\n",
       "<polyline clip-path=\"url(#clip760)\" style=\"stroke:#000000; stroke-width:4; stroke-opacity:1; fill:none\" points=\"\n",
       "  741.401,1486.45 741.401,1470.09 \n",
       "  \"/>\n",
       "<polyline clip-path=\"url(#clip760)\" style=\"stroke:#000000; stroke-width:4; stroke-opacity:1; fill:none\" points=\"\n",
       "  1258.06,1486.45 1258.06,1470.09 \n",
       "  \"/>\n",
       "<polyline clip-path=\"url(#clip760)\" style=\"stroke:#000000; stroke-width:4; stroke-opacity:1; fill:none\" points=\"\n",
       "  1774.72,1486.45 1774.72,1470.09 \n",
       "  \"/>\n",
       "<polyline clip-path=\"url(#clip760)\" style=\"stroke:#000000; stroke-width:4; stroke-opacity:1; fill:none\" points=\"\n",
       "  2291.38,1486.45 2291.38,1470.09 \n",
       "  \"/>\n",
       "<path clip-path=\"url(#clip760)\" d=\"M 0 0 M224.743 1515.64 Q221.132 1515.64 219.303 1519.2 Q217.497 1522.75 217.497 1529.87 Q217.497 1536.98 219.303 1540.55 Q221.132 1544.09 224.743 1544.09 Q228.377 1544.09 230.183 1540.55 Q232.011 1536.98 232.011 1529.87 Q232.011 1522.75 230.183 1519.2 Q228.377 1515.64 224.743 1515.64 M224.743 1511.93 Q230.553 1511.93 233.608 1516.54 Q236.687 1521.12 236.687 1529.87 Q236.687 1538.6 233.608 1543.21 Q230.553 1547.79 224.743 1547.79 Q218.933 1547.79 215.854 1543.21 Q212.798 1538.6 212.798 1529.87 Q212.798 1521.12 215.854 1516.54 Q218.933 1511.93 224.743 1511.93 Z\" fill=\"#000000\" fill-rule=\"evenodd\" fill-opacity=\"1\" /><path clip-path=\"url(#clip760)\" d=\"M 0 0 M723.045 1543.18 L739.364 1543.18 L739.364 1547.12 L717.42 1547.12 L717.42 1543.18 Q720.082 1540.43 724.665 1535.8 Q729.272 1531.15 730.452 1529.81 Q732.698 1527.28 733.577 1525.55 Q734.48 1523.79 734.48 1522.1 Q734.48 1519.34 732.536 1517.61 Q730.614 1515.87 727.512 1515.87 Q725.313 1515.87 722.86 1516.63 Q720.429 1517.4 717.651 1518.95 L717.651 1514.23 Q720.475 1513.09 722.929 1512.51 Q725.383 1511.93 727.42 1511.93 Q732.79 1511.93 735.985 1514.62 Q739.179 1517.31 739.179 1521.8 Q739.179 1523.93 738.369 1525.85 Q737.582 1527.74 735.475 1530.34 Q734.897 1531.01 731.795 1534.23 Q728.693 1537.42 723.045 1543.18 Z\" fill=\"#000000\" fill-rule=\"evenodd\" fill-opacity=\"1\" /><path clip-path=\"url(#clip760)\" d=\"M 0 0 M744.48 1512.56 L762.836 1512.56 L762.836 1516.5 L748.762 1516.5 L748.762 1524.97 Q749.781 1524.62 750.799 1524.46 Q751.818 1524.27 752.836 1524.27 Q758.623 1524.27 762.003 1527.44 Q765.383 1530.62 765.383 1536.03 Q765.383 1541.61 761.91 1544.71 Q758.438 1547.79 752.119 1547.79 Q749.943 1547.79 747.674 1547.42 Q745.429 1547.05 743.022 1546.31 L743.022 1541.61 Q745.105 1542.74 747.327 1543.3 Q749.549 1543.86 752.026 1543.86 Q756.031 1543.86 758.369 1541.75 Q760.707 1539.64 760.707 1536.03 Q760.707 1532.42 758.369 1530.31 Q756.031 1528.21 752.026 1528.21 Q750.151 1528.21 748.276 1528.62 Q746.424 1529.04 744.48 1529.92 L744.48 1512.56 Z\" fill=\"#000000\" fill-rule=\"evenodd\" fill-opacity=\"1\" /><path clip-path=\"url(#clip760)\" d=\"M 0 0 M1234.83 1512.56 L1253.19 1512.56 L1253.19 1516.5 L1239.11 1516.5 L1239.11 1524.97 Q1240.13 1524.62 1241.15 1524.46 Q1242.17 1524.27 1243.19 1524.27 Q1248.97 1524.27 1252.35 1527.44 Q1255.73 1530.62 1255.73 1536.03 Q1255.73 1541.61 1252.26 1544.71 Q1248.79 1547.79 1242.47 1547.79 Q1240.29 1547.79 1238.03 1547.42 Q1235.78 1547.05 1233.37 1546.31 L1233.37 1541.61 Q1235.46 1542.74 1237.68 1543.3 Q1239.9 1543.86 1242.38 1543.86 Q1246.38 1543.86 1248.72 1541.75 Q1251.06 1539.64 1251.06 1536.03 Q1251.06 1532.42 1248.72 1530.31 Q1246.38 1528.21 1242.38 1528.21 Q1240.5 1528.21 1238.63 1528.62 Q1236.78 1529.04 1234.83 1529.92 L1234.83 1512.56 Z\" fill=\"#000000\" fill-rule=\"evenodd\" fill-opacity=\"1\" /><path clip-path=\"url(#clip760)\" d=\"M 0 0 M1270.8 1515.64 Q1267.19 1515.64 1265.36 1519.2 Q1263.56 1522.75 1263.56 1529.87 Q1263.56 1536.98 1265.36 1540.55 Q1267.19 1544.09 1270.8 1544.09 Q1274.44 1544.09 1276.24 1540.55 Q1278.07 1536.98 1278.07 1529.87 Q1278.07 1522.75 1276.24 1519.2 Q1274.44 1515.64 1270.8 1515.64 M1270.8 1511.93 Q1276.61 1511.93 1279.67 1516.54 Q1282.75 1521.12 1282.75 1529.87 Q1282.75 1538.6 1279.67 1543.21 Q1276.61 1547.79 1270.8 1547.79 Q1264.99 1547.79 1261.91 1543.21 Q1258.86 1538.6 1258.86 1529.87 Q1258.86 1521.12 1261.91 1516.54 Q1264.99 1511.93 1270.8 1511.93 Z\" fill=\"#000000\" fill-rule=\"evenodd\" fill-opacity=\"1\" /><path clip-path=\"url(#clip760)\" d=\"M 0 0 M1750.6 1512.56 L1772.82 1512.56 L1772.82 1514.55 L1760.27 1547.12 L1755.39 1547.12 L1767.2 1516.5 L1750.6 1516.5 L1750.6 1512.56 Z\" fill=\"#000000\" fill-rule=\"evenodd\" fill-opacity=\"1\" /><path clip-path=\"url(#clip760)\" d=\"M 0 0 M1777.94 1512.56 L1796.29 1512.56 L1796.29 1516.5 L1782.22 1516.5 L1782.22 1524.97 Q1783.24 1524.62 1784.26 1524.46 Q1785.27 1524.27 1786.29 1524.27 Q1792.08 1524.27 1795.46 1527.44 Q1798.84 1530.62 1798.84 1536.03 Q1798.84 1541.61 1795.37 1544.71 Q1791.89 1547.79 1785.57 1547.79 Q1783.4 1547.79 1781.13 1547.42 Q1778.88 1547.05 1776.48 1546.31 L1776.48 1541.61 Q1778.56 1542.74 1780.78 1543.3 Q1783.01 1543.86 1785.48 1543.86 Q1789.49 1543.86 1791.82 1541.75 Q1794.16 1539.64 1794.16 1536.03 Q1794.16 1532.42 1791.82 1530.31 Q1789.49 1528.21 1785.48 1528.21 Q1783.61 1528.21 1781.73 1528.62 Q1779.88 1529.04 1777.94 1529.92 L1777.94 1512.56 Z\" fill=\"#000000\" fill-rule=\"evenodd\" fill-opacity=\"1\" /><path clip-path=\"url(#clip760)\" d=\"M 0 0 M2254.75 1543.18 L2262.38 1543.18 L2262.38 1516.82 L2254.07 1518.49 L2254.07 1514.23 L2262.34 1512.56 L2267.01 1512.56 L2267.01 1543.18 L2274.65 1543.18 L2274.65 1547.12 L2254.75 1547.12 L2254.75 1543.18 Z\" fill=\"#000000\" fill-rule=\"evenodd\" fill-opacity=\"1\" /><path clip-path=\"url(#clip760)\" d=\"M 0 0 M2289.72 1515.64 Q2286.11 1515.64 2284.28 1519.2 Q2282.48 1522.75 2282.48 1529.87 Q2282.48 1536.98 2284.28 1540.55 Q2286.11 1544.09 2289.72 1544.09 Q2293.36 1544.09 2295.16 1540.55 Q2296.99 1536.98 2296.99 1529.87 Q2296.99 1522.75 2295.16 1519.2 Q2293.36 1515.64 2289.72 1515.64 M2289.72 1511.93 Q2295.53 1511.93 2298.59 1516.54 Q2301.67 1521.12 2301.67 1529.87 Q2301.67 1538.6 2298.59 1543.21 Q2295.53 1547.79 2289.72 1547.79 Q2283.91 1547.79 2280.83 1543.21 Q2277.78 1538.6 2277.78 1529.87 Q2277.78 1521.12 2280.83 1516.54 Q2283.91 1511.93 2289.72 1511.93 Z\" fill=\"#000000\" fill-rule=\"evenodd\" fill-opacity=\"1\" /><path clip-path=\"url(#clip760)\" d=\"M 0 0 M2316.74 1515.64 Q2313.12 1515.64 2311.3 1519.2 Q2309.49 1522.75 2309.49 1529.87 Q2309.49 1536.98 2311.3 1540.55 Q2313.12 1544.09 2316.74 1544.09 Q2320.37 1544.09 2322.18 1540.55 Q2324 1536.98 2324 1529.87 Q2324 1522.75 2322.18 1519.2 Q2320.37 1515.64 2316.74 1515.64 M2316.74 1511.93 Q2322.55 1511.93 2325.6 1516.54 Q2328.68 1521.12 2328.68 1529.87 Q2328.68 1538.6 2325.6 1543.21 Q2322.55 1547.79 2316.74 1547.79 Q2310.93 1547.79 2307.85 1543.21 Q2304.79 1538.6 2304.79 1529.87 Q2304.79 1521.12 2307.85 1516.54 Q2310.93 1511.93 2316.74 1511.93 Z\" fill=\"#000000\" fill-rule=\"evenodd\" fill-opacity=\"1\" /><polyline clip-path=\"url(#clip762)\" style=\"stroke:#000000; stroke-width:2; stroke-opacity:0.1; fill:none\" points=\"\n",
       "  184.03,1447.87 2352.76,1447.87 \n",
       "  \"/>\n",
       "<polyline clip-path=\"url(#clip762)\" style=\"stroke:#000000; stroke-width:2; stroke-opacity:0.1; fill:none\" points=\"\n",
       "  184.03,1126.08 2352.76,1126.08 \n",
       "  \"/>\n",
       "<polyline clip-path=\"url(#clip762)\" style=\"stroke:#000000; stroke-width:2; stroke-opacity:0.1; fill:none\" points=\"\n",
       "  184.03,804.295 2352.76,804.295 \n",
       "  \"/>\n",
       "<polyline clip-path=\"url(#clip762)\" style=\"stroke:#000000; stroke-width:2; stroke-opacity:0.1; fill:none\" points=\"\n",
       "  184.03,482.506 2352.76,482.506 \n",
       "  \"/>\n",
       "<polyline clip-path=\"url(#clip762)\" style=\"stroke:#000000; stroke-width:2; stroke-opacity:0.1; fill:none\" points=\"\n",
       "  184.03,160.717 2352.76,160.717 \n",
       "  \"/>\n",
       "<polyline clip-path=\"url(#clip760)\" style=\"stroke:#000000; stroke-width:4; stroke-opacity:1; fill:none\" points=\"\n",
       "  184.03,1486.45 184.03,123.472 \n",
       "  \"/>\n",
       "<polyline clip-path=\"url(#clip760)\" style=\"stroke:#000000; stroke-width:4; stroke-opacity:1; fill:none\" points=\"\n",
       "  184.03,1447.87 210.055,1447.87 \n",
       "  \"/>\n",
       "<polyline clip-path=\"url(#clip760)\" style=\"stroke:#000000; stroke-width:4; stroke-opacity:1; fill:none\" points=\"\n",
       "  184.03,1126.08 210.055,1126.08 \n",
       "  \"/>\n",
       "<polyline clip-path=\"url(#clip760)\" style=\"stroke:#000000; stroke-width:4; stroke-opacity:1; fill:none\" points=\"\n",
       "  184.03,804.295 210.055,804.295 \n",
       "  \"/>\n",
       "<polyline clip-path=\"url(#clip760)\" style=\"stroke:#000000; stroke-width:4; stroke-opacity:1; fill:none\" points=\"\n",
       "  184.03,482.506 210.055,482.506 \n",
       "  \"/>\n",
       "<polyline clip-path=\"url(#clip760)\" style=\"stroke:#000000; stroke-width:4; stroke-opacity:1; fill:none\" points=\"\n",
       "  184.03,160.717 210.055,160.717 \n",
       "  \"/>\n",
       "<path clip-path=\"url(#clip760)\" d=\"M 0 0 M51.6634 1467.67 L59.3023 1467.67 L59.3023 1441.3 L50.9921 1442.97 L50.9921 1438.71 L59.256 1437.04 L63.9319 1437.04 L63.9319 1467.67 L71.5707 1467.67 L71.5707 1471.6 L51.6634 1471.6 L51.6634 1467.67 Z\" fill=\"#000000\" fill-rule=\"evenodd\" fill-opacity=\"1\" /><path clip-path=\"url(#clip760)\" d=\"M 0 0 M86.6401 1440.12 Q83.029 1440.12 81.2003 1443.68 Q79.3948 1447.23 79.3948 1454.36 Q79.3948 1461.46 81.2003 1465.03 Q83.029 1468.57 86.6401 1468.57 Q90.2743 1468.57 92.0799 1465.03 Q93.9086 1461.46 93.9086 1454.36 Q93.9086 1447.23 92.0799 1443.68 Q90.2743 1440.12 86.6401 1440.12 M86.6401 1436.42 Q92.4502 1436.42 95.5058 1441.02 Q98.5845 1445.61 98.5845 1454.36 Q98.5845 1463.08 95.5058 1467.69 Q92.4502 1472.27 86.6401 1472.27 Q80.8299 1472.27 77.7512 1467.69 Q74.6957 1463.08 74.6957 1454.36 Q74.6957 1445.61 77.7512 1441.02 Q80.8299 1436.42 86.6401 1436.42 Z\" fill=\"#000000\" fill-rule=\"evenodd\" fill-opacity=\"1\" /><path clip-path=\"url(#clip760)\" d=\"M 0 0 M108.289 1418.61 Q105.355 1418.61 103.869 1421.51 Q102.402 1424.39 102.402 1430.18 Q102.402 1435.95 103.869 1438.85 Q105.355 1441.73 108.289 1441.73 Q111.242 1441.73 112.709 1438.85 Q114.195 1435.95 114.195 1430.18 Q114.195 1424.39 112.709 1421.51 Q111.242 1418.61 108.289 1418.61 M108.289 1415.6 Q113.01 1415.6 115.493 1419.35 Q117.994 1423.07 117.994 1430.18 Q117.994 1437.27 115.493 1441.01 Q113.01 1444.74 108.289 1444.74 Q103.569 1444.74 101.067 1441.01 Q98.5845 1437.27 98.5845 1430.18 Q98.5845 1423.07 101.067 1419.35 Q103.569 1415.6 108.289 1415.6 Z\" fill=\"#000000\" fill-rule=\"evenodd\" fill-opacity=\"1\" /><path clip-path=\"url(#clip760)\" d=\"M 0 0 M122.113 1439.41 L126.081 1439.41 L126.081 1444.19 L122.113 1444.19 L122.113 1439.41 Z\" fill=\"#000000\" fill-rule=\"evenodd\" fill-opacity=\"1\" /><path clip-path=\"url(#clip760)\" d=\"M 0 0 M138.325 1418.61 Q135.391 1418.61 133.905 1421.51 Q132.438 1424.39 132.438 1430.18 Q132.438 1435.95 133.905 1438.85 Q135.391 1441.73 138.325 1441.73 Q141.278 1441.73 142.745 1438.85 Q144.231 1435.95 144.231 1430.18 Q144.231 1424.39 142.745 1421.51 Q141.278 1418.61 138.325 1418.61 M138.325 1415.6 Q143.046 1415.6 145.529 1419.35 Q148.03 1423.07 148.03 1430.18 Q148.03 1437.27 145.529 1441.01 Q143.046 1444.74 138.325 1444.74 Q133.605 1444.74 131.103 1441.01 Q128.62 1437.27 128.62 1430.18 Q128.62 1423.07 131.103 1419.35 Q133.605 1415.6 138.325 1415.6 Z\" fill=\"#000000\" fill-rule=\"evenodd\" fill-opacity=\"1\" /><path clip-path=\"url(#clip760)\" d=\"M 0 0 M52.4722 1145.88 L60.111 1145.88 L60.111 1119.51 L51.8009 1121.18 L51.8009 1116.92 L60.0647 1115.25 L64.7406 1115.25 L64.7406 1145.88 L72.3795 1145.88 L72.3795 1149.81 L52.4722 1149.81 L52.4722 1145.88 Z\" fill=\"#000000\" fill-rule=\"evenodd\" fill-opacity=\"1\" /><path clip-path=\"url(#clip760)\" d=\"M 0 0 M87.4488 1118.33 Q83.8377 1118.33 82.009 1121.9 Q80.2035 1125.44 80.2035 1132.57 Q80.2035 1139.67 82.009 1143.24 Q83.8377 1146.78 87.4488 1146.78 Q91.0831 1146.78 92.8886 1143.24 Q94.7173 1139.67 94.7173 1132.57 Q94.7173 1125.44 92.8886 1121.9 Q91.0831 1118.33 87.4488 1118.33 M87.4488 1114.63 Q93.259 1114.63 96.3145 1119.23 Q99.3932 1123.82 99.3932 1132.57 Q99.3932 1141.29 96.3145 1145.9 Q93.259 1150.48 87.4488 1150.48 Q81.6387 1150.48 78.56 1145.9 Q75.5044 1141.29 75.5044 1132.57 Q75.5044 1123.82 78.56 1119.23 Q81.6387 1114.63 87.4488 1114.63 Z\" fill=\"#000000\" fill-rule=\"evenodd\" fill-opacity=\"1\" /><path clip-path=\"url(#clip760)\" d=\"M 0 0 M109.098 1096.82 Q106.164 1096.82 104.678 1099.72 Q103.211 1102.6 103.211 1108.39 Q103.211 1114.16 104.678 1117.06 Q106.164 1119.94 109.098 1119.94 Q112.051 1119.94 113.518 1117.06 Q115.004 1114.16 115.004 1108.39 Q115.004 1102.6 113.518 1099.72 Q112.051 1096.82 109.098 1096.82 M109.098 1093.81 Q113.819 1093.81 116.301 1097.56 Q118.803 1101.28 118.803 1108.39 Q118.803 1115.48 116.301 1119.22 Q113.819 1122.95 109.098 1122.95 Q104.377 1122.95 101.876 1119.22 Q99.3932 1115.48 99.3932 1108.39 Q99.3932 1101.28 101.876 1097.56 Q104.377 1093.81 109.098 1093.81 Z\" fill=\"#000000\" fill-rule=\"evenodd\" fill-opacity=\"1\" /><path clip-path=\"url(#clip760)\" d=\"M 0 0 M122.922 1117.62 L126.89 1117.62 L126.89 1122.4 L122.922 1122.4 L122.922 1117.62 Z\" fill=\"#000000\" fill-rule=\"evenodd\" fill-opacity=\"1\" /><path clip-path=\"url(#clip760)\" d=\"M 0 0 M131.047 1094.32 L145.961 1094.32 L145.961 1097.52 L134.526 1097.52 L134.526 1104.4 Q135.354 1104.12 136.181 1103.99 Q137.009 1103.84 137.836 1103.84 Q142.538 1103.84 145.284 1106.41 Q148.03 1108.99 148.03 1113.39 Q148.03 1117.92 145.209 1120.45 Q142.388 1122.95 137.253 1122.95 Q135.485 1122.95 133.642 1122.65 Q131.818 1122.34 129.862 1121.74 L129.862 1117.92 Q131.554 1118.85 133.36 1119.3 Q135.166 1119.75 137.178 1119.75 Q140.432 1119.75 142.331 1118.04 Q144.231 1116.33 144.231 1113.39 Q144.231 1110.46 142.331 1108.75 Q140.432 1107.04 137.178 1107.04 Q135.655 1107.04 134.131 1107.37 Q132.627 1107.71 131.047 1108.43 L131.047 1094.32 Z\" fill=\"#000000\" fill-rule=\"evenodd\" fill-opacity=\"1\" /><path clip-path=\"url(#clip760)\" d=\"M 0 0 M54.3529 824.087 L61.9918 824.087 L61.9918 797.722 L53.6816 799.388 L53.6816 795.129 L61.9455 793.462 L66.6214 793.462 L66.6214 824.087 L74.2602 824.087 L74.2602 828.022 L54.3529 828.022 L54.3529 824.087 Z\" fill=\"#000000\" fill-rule=\"evenodd\" fill-opacity=\"1\" /><path clip-path=\"url(#clip760)\" d=\"M 0 0 M89.3296 796.541 Q85.7185 796.541 83.8898 800.106 Q82.0843 803.648 82.0843 810.777 Q82.0843 817.884 83.8898 821.448 Q85.7185 824.99 89.3296 824.99 Q92.9638 824.99 94.7694 821.448 Q96.5981 817.884 96.5981 810.777 Q96.5981 803.648 94.7694 800.106 Q92.9638 796.541 89.3296 796.541 M89.3296 792.837 Q95.1397 792.837 98.1953 797.444 Q101.274 802.027 101.274 810.777 Q101.274 819.504 98.1953 824.11 Q95.1397 828.694 89.3296 828.694 Q83.5194 828.694 80.4408 824.11 Q77.3852 819.504 77.3852 810.777 Q77.3852 802.027 80.4408 797.444 Q83.5194 792.837 89.3296 792.837 Z\" fill=\"#000000\" fill-rule=\"evenodd\" fill-opacity=\"1\" /><path clip-path=\"url(#clip760)\" d=\"M 0 0 M101.819 797.415 L108.026 797.415 L108.026 775.993 L101.274 777.347 L101.274 773.886 L107.988 772.532 L111.788 772.532 L111.788 797.415 L117.994 797.415 L117.994 800.612 L101.819 800.612 L101.819 797.415 Z\" fill=\"#000000\" fill-rule=\"evenodd\" fill-opacity=\"1\" /><path clip-path=\"url(#clip760)\" d=\"M 0 0 M122.113 795.835 L126.081 795.835 L126.081 800.612 L122.113 800.612 L122.113 795.835 Z\" fill=\"#000000\" fill-rule=\"evenodd\" fill-opacity=\"1\" /><path clip-path=\"url(#clip760)\" d=\"M 0 0 M138.325 775.034 Q135.391 775.034 133.905 777.93 Q132.438 780.807 132.438 786.6 Q132.438 792.374 133.905 795.271 Q135.391 798.148 138.325 798.148 Q141.278 798.148 142.745 795.271 Q144.231 792.374 144.231 786.6 Q144.231 780.807 142.745 777.93 Q141.278 775.034 138.325 775.034 M138.325 772.024 Q143.046 772.024 145.529 775.767 Q148.03 779.491 148.03 786.6 Q148.03 793.691 145.529 797.434 Q143.046 801.157 138.325 801.157 Q133.605 801.157 131.103 797.434 Q128.62 793.691 128.62 786.6 Q128.62 779.491 131.103 775.767 Q133.605 772.024 138.325 772.024 Z\" fill=\"#000000\" fill-rule=\"evenodd\" fill-opacity=\"1\" /><path clip-path=\"url(#clip760)\" d=\"M 0 0 M55.1617 502.298 L62.8005 502.298 L62.8005 475.933 L54.4904 477.599 L54.4904 473.34 L62.7542 471.673 L67.4301 471.673 L67.4301 502.298 L75.069 502.298 L75.069 506.233 L55.1617 506.233 L55.1617 502.298 Z\" fill=\"#000000\" fill-rule=\"evenodd\" fill-opacity=\"1\" /><path clip-path=\"url(#clip760)\" d=\"M 0 0 M90.1383 474.752 Q86.5272 474.752 84.6985 478.317 Q82.893 481.858 82.893 488.988 Q82.893 496.095 84.6985 499.659 Q86.5272 503.201 90.1383 503.201 Q93.7726 503.201 95.5781 499.659 Q97.4068 496.095 97.4068 488.988 Q97.4068 481.858 95.5781 478.317 Q93.7726 474.752 90.1383 474.752 M90.1383 471.048 Q95.9485 471.048 99.004 475.655 Q102.083 480.238 102.083 488.988 Q102.083 497.715 99.004 502.321 Q95.9485 506.905 90.1383 506.905 Q84.3282 506.905 81.2495 502.321 Q78.1939 497.715 78.1939 488.988 Q78.1939 480.238 81.2495 475.655 Q84.3282 471.048 90.1383 471.048 Z\" fill=\"#000000\" fill-rule=\"evenodd\" fill-opacity=\"1\" /><path clip-path=\"url(#clip760)\" d=\"M 0 0 M102.628 475.626 L108.835 475.626 L108.835 454.204 L102.083 455.558 L102.083 452.097 L108.797 450.743 L112.596 450.743 L112.596 475.626 L118.803 475.626 L118.803 478.823 L102.628 478.823 L102.628 475.626 Z\" fill=\"#000000\" fill-rule=\"evenodd\" fill-opacity=\"1\" /><path clip-path=\"url(#clip760)\" d=\"M 0 0 M122.922 474.046 L126.89 474.046 L126.89 478.823 L122.922 478.823 L122.922 474.046 Z\" fill=\"#000000\" fill-rule=\"evenodd\" fill-opacity=\"1\" /><path clip-path=\"url(#clip760)\" d=\"M 0 0 M131.047 450.743 L145.961 450.743 L145.961 453.94 L134.526 453.94 L134.526 460.824 Q135.354 460.542 136.181 460.41 Q137.009 460.26 137.836 460.26 Q142.538 460.26 145.284 462.836 Q148.03 465.413 148.03 469.814 Q148.03 474.347 145.209 476.867 Q142.388 479.368 137.253 479.368 Q135.485 479.368 133.642 479.067 Q131.818 478.767 129.862 478.165 L129.862 474.347 Q131.554 475.268 133.36 475.72 Q135.166 476.171 137.178 476.171 Q140.432 476.171 142.331 474.46 Q144.231 472.748 144.231 469.814 Q144.231 466.88 142.331 465.169 Q140.432 463.457 137.178 463.457 Q135.655 463.457 134.131 463.796 Q132.627 464.134 131.047 464.849 L131.047 450.743 Z\" fill=\"#000000\" fill-rule=\"evenodd\" fill-opacity=\"1\" /><path clip-path=\"url(#clip760)\" d=\"M 0 0 M53.2433 180.509 L60.8821 180.509 L60.8821 154.143 L52.572 155.81 L52.572 151.551 L60.8358 149.884 L65.5117 149.884 L65.5117 180.509 L73.1506 180.509 L73.1506 184.444 L53.2433 184.444 L53.2433 180.509 Z\" fill=\"#000000\" fill-rule=\"evenodd\" fill-opacity=\"1\" /><path clip-path=\"url(#clip760)\" d=\"M 0 0 M88.2199 152.963 Q84.6088 152.963 82.7802 156.528 Q80.9746 160.069 80.9746 167.199 Q80.9746 174.305 82.7802 177.87 Q84.6088 181.412 88.2199 181.412 Q91.8542 181.412 93.6597 177.87 Q95.4884 174.305 95.4884 167.199 Q95.4884 160.069 93.6597 156.528 Q91.8542 152.963 88.2199 152.963 M88.2199 149.259 Q94.0301 149.259 97.0856 153.866 Q100.164 158.449 100.164 167.199 Q100.164 175.926 97.0856 180.532 Q94.0301 185.116 88.2199 185.116 Q82.4098 185.116 79.3311 180.532 Q76.2756 175.926 76.2756 167.199 Q76.2756 158.449 79.3311 153.866 Q82.4098 149.259 88.2199 149.259 Z\" fill=\"#000000\" fill-rule=\"evenodd\" fill-opacity=\"1\" /><path clip-path=\"url(#clip760)\" d=\"M 0 0 M104.735 153.837 L117.994 153.837 L117.994 157.034 L100.164 157.034 L100.164 153.837 Q102.327 151.598 106.051 147.837 Q109.794 144.056 110.753 142.966 Q112.577 140.916 113.292 139.505 Q114.026 138.076 114.026 136.703 Q114.026 134.465 112.446 133.054 Q110.885 131.643 108.365 131.643 Q106.578 131.643 104.584 132.264 Q102.609 132.885 100.352 134.145 L100.352 130.308 Q102.647 129.386 104.641 128.916 Q106.634 128.446 108.289 128.446 Q112.653 128.446 115.248 130.628 Q117.844 132.809 117.844 136.458 Q117.844 138.188 117.185 139.75 Q116.546 141.292 114.834 143.398 Q114.364 143.944 111.844 146.558 Q109.324 149.153 104.735 153.837 Z\" fill=\"#000000\" fill-rule=\"evenodd\" fill-opacity=\"1\" /><path clip-path=\"url(#clip760)\" d=\"M 0 0 M122.113 152.257 L126.081 152.257 L126.081 157.034 L122.113 157.034 L122.113 152.257 Z\" fill=\"#000000\" fill-rule=\"evenodd\" fill-opacity=\"1\" /><path clip-path=\"url(#clip760)\" d=\"M 0 0 M138.325 131.455 Q135.391 131.455 133.905 134.352 Q132.438 137.229 132.438 143.022 Q132.438 148.796 133.905 151.692 Q135.391 154.57 138.325 154.57 Q141.278 154.57 142.745 151.692 Q144.231 148.796 144.231 143.022 Q144.231 137.229 142.745 134.352 Q141.278 131.455 138.325 131.455 M138.325 128.446 Q143.046 128.446 145.529 132.189 Q148.03 135.913 148.03 143.022 Q148.03 150.113 145.529 153.855 Q143.046 157.579 138.325 157.579 Q133.605 157.579 131.103 153.855 Q128.62 150.113 128.62 143.022 Q128.62 135.913 131.103 132.189 Q133.605 128.446 138.325 128.446 Z\" fill=\"#000000\" fill-rule=\"evenodd\" fill-opacity=\"1\" /><path clip-path=\"url(#clip760)\" d=\"M 0 0 M890.14 12.096 L898.323 12.096 L898.323 65.6895 L927.773 65.6895 L927.773 72.576 L890.14 72.576 L890.14 12.096 Z\" fill=\"#000000\" fill-rule=\"evenodd\" fill-opacity=\"1\" /><path clip-path=\"url(#clip760)\" d=\"M 0 0 M951.714 32.4315 Q945.718 32.4315 942.234 37.1306 Q938.751 41.7891 938.751 49.9314 Q938.751 58.0738 942.194 62.7728 Q945.678 67.4314 951.714 67.4314 Q957.668 67.4314 961.152 62.7323 Q964.636 58.0333 964.636 49.9314 Q964.636 41.8701 961.152 37.1711 Q957.668 32.4315 951.714 32.4315 M951.714 26.1121 Q961.436 26.1121 966.985 32.4315 Q972.535 38.7509 972.535 49.9314 Q972.535 61.0714 966.985 67.4314 Q961.436 73.7508 951.714 73.7508 Q941.951 73.7508 936.401 67.4314 Q930.892 61.0714 930.892 49.9314 Q930.892 38.7509 936.401 32.4315 Q941.951 26.1121 951.714 26.1121 Z\" fill=\"#000000\" fill-rule=\"evenodd\" fill-opacity=\"1\" /><path clip-path=\"url(#clip760)\" d=\"M 0 0 M1010.21 49.3643 Q1010.21 41.2625 1006.85 36.8065 Q1003.52 32.3505 997.489 32.3505 Q991.493 32.3505 988.131 36.8065 Q984.809 41.2625 984.809 49.3643 Q984.809 57.4256 988.131 61.8816 Q991.493 66.3376 997.489 66.3376 Q1003.52 66.3376 1006.85 61.8816 Q1010.21 57.4256 1010.21 49.3643 M1017.66 66.9452 Q1017.66 78.5308 1012.52 84.1616 Q1007.37 89.8329 996.76 89.8329 Q992.83 89.8329 989.346 89.2252 Q985.863 88.6581 982.581 87.4428 L982.581 80.1917 Q985.863 81.9741 989.063 82.8248 Q992.263 83.6755 995.585 83.6755 Q1002.92 83.6755 1006.56 79.8271 Q1010.21 76.0193 1010.21 68.282 L1010.21 64.5957 Q1007.9 68.6061 1004.29 70.5911 Q1000.69 72.576 995.666 72.576 Q987.321 72.576 982.217 66.2161 Q977.113 59.8562 977.113 49.3643 Q977.113 38.832 982.217 32.472 Q987.321 26.1121 995.666 26.1121 Q1000.69 26.1121 1004.29 28.0971 Q1007.9 30.082 1010.21 34.0924 L1010.21 27.2059 L1017.66 27.2059 L1017.66 66.9452 Z\" fill=\"#000000\" fill-rule=\"evenodd\" fill-opacity=\"1\" /><path clip-path=\"url(#clip760)\" d=\"M 0 0 M1025.48 27.2059 L1032.93 27.2059 L1032.93 72.576 L1025.48 72.576 L1025.48 27.2059 M1025.48 9.54393 L1032.93 9.54393 L1032.93 18.9825 L1025.48 18.9825 L1025.48 9.54393 Z\" fill=\"#000000\" fill-rule=\"evenodd\" fill-opacity=\"1\" /><path clip-path=\"url(#clip760)\" d=\"M 0 0 M1069.68 28.5427 L1069.68 35.5912 Q1066.52 33.9709 1063.11 33.1607 Q1059.71 32.3505 1056.06 32.3505 Q1050.52 32.3505 1047.72 34.0519 Q1044.97 35.7533 1044.97 39.156 Q1044.97 41.7486 1046.95 43.2475 Q1048.94 44.7058 1054.93 46.0426 L1057.48 46.6097 Q1065.42 48.3111 1068.74 51.4303 Q1072.11 54.509 1072.11 60.0587 Q1072.11 66.3781 1067.08 70.0644 Q1062.1 73.7508 1053.35 73.7508 Q1049.7 73.7508 1045.74 73.0216 Q1041.81 72.3329 1037.43 70.9151 L1037.43 63.2184 Q1041.56 65.3654 1045.57 66.4591 Q1049.58 67.5124 1053.51 67.5124 Q1058.78 67.5124 1061.61 65.73 Q1064.45 63.9071 1064.45 60.6258 Q1064.45 57.5877 1062.38 55.9673 Q1060.36 54.3469 1053.43 52.8481 L1050.84 52.2405 Q1043.91 50.7821 1040.83 47.7845 Q1037.75 44.7463 1037.75 39.4801 Q1037.75 33.0797 1042.29 29.5959 Q1046.83 26.1121 1055.17 26.1121 Q1059.31 26.1121 1062.95 26.7198 Q1066.6 27.3274 1069.68 28.5427 Z\" fill=\"#000000\" fill-rule=\"evenodd\" fill-opacity=\"1\" /><path clip-path=\"url(#clip760)\" d=\"M 0 0 M1087.3 14.324 L1087.3 27.2059 L1102.65 27.2059 L1102.65 32.9987 L1087.3 32.9987 L1087.3 57.6282 Q1087.3 63.1779 1088.8 64.7578 Q1090.34 66.3376 1094.99 66.3376 L1102.65 66.3376 L1102.65 72.576 L1094.99 72.576 Q1086.37 72.576 1083.08 69.3758 Q1079.8 66.1351 1079.8 57.6282 L1079.8 32.9987 L1074.33 32.9987 L1074.33 27.2059 L1079.8 27.2059 L1079.8 14.324 L1087.3 14.324 Z\" fill=\"#000000\" fill-rule=\"evenodd\" fill-opacity=\"1\" /><path clip-path=\"url(#clip760)\" d=\"M 0 0 M1110.47 27.2059 L1117.92 27.2059 L1117.92 72.576 L1110.47 72.576 L1110.47 27.2059 M1110.47 9.54393 L1117.92 9.54393 L1117.92 18.9825 L1110.47 18.9825 L1110.47 9.54393 Z\" fill=\"#000000\" fill-rule=\"evenodd\" fill-opacity=\"1\" /><path clip-path=\"url(#clip760)\" d=\"M 0 0 M1158.39 28.9478 L1158.39 35.9153 Q1155.23 34.1734 1152.03 33.3227 Q1148.87 32.4315 1145.63 32.4315 Q1138.38 32.4315 1134.37 37.0496 Q1130.36 41.6271 1130.36 49.9314 Q1130.36 58.2358 1134.37 62.8538 Q1138.38 67.4314 1145.63 67.4314 Q1148.87 67.4314 1152.03 66.5807 Q1155.23 65.6895 1158.39 63.9476 L1158.39 70.8341 Q1155.27 72.2924 1151.91 73.0216 Q1148.59 73.7508 1144.82 73.7508 Q1134.57 73.7508 1128.54 67.3098 Q1122.5 60.8689 1122.5 49.9314 Q1122.5 38.832 1128.58 32.472 Q1134.69 26.1121 1145.31 26.1121 Q1148.75 26.1121 1152.03 26.8413 Q1155.31 27.5299 1158.39 28.9478 Z\" fill=\"#000000\" fill-rule=\"evenodd\" fill-opacity=\"1\" /><path clip-path=\"url(#clip760)\" d=\"M 0 0 M1162.44 46.5287 L1184.28 46.5287 L1184.28 53.1722 L1162.44 53.1722 L1162.44 46.5287 Z\" fill=\"#000000\" fill-rule=\"evenodd\" fill-opacity=\"1\" /><path clip-path=\"url(#clip760)\" d=\"M 0 0 M1199.47 14.324 L1199.47 27.2059 L1214.82 27.2059 L1214.82 32.9987 L1199.47 32.9987 L1199.47 57.6282 Q1199.47 63.1779 1200.97 64.7578 Q1202.51 66.3376 1207.16 66.3376 L1214.82 66.3376 L1214.82 72.576 L1207.16 72.576 Q1198.54 72.576 1195.25 69.3758 Q1191.97 66.1351 1191.97 57.6282 L1191.97 32.9987 L1186.5 32.9987 L1186.5 27.2059 L1191.97 27.2059 L1191.97 14.324 L1199.47 14.324 Z\" fill=\"#000000\" fill-rule=\"evenodd\" fill-opacity=\"1\" /><path clip-path=\"url(#clip760)\" d=\"M 0 0 M1241.52 76.7889 Q1238.36 84.8907 1235.36 87.3618 Q1232.36 89.8329 1227.34 89.8329 L1221.38 89.8329 L1221.38 83.5945 L1225.76 83.5945 Q1228.84 83.5945 1230.54 82.1361 Q1232.24 80.6778 1234.3 75.2496 L1235.64 71.8468 L1217.29 27.2059 L1225.19 27.2059 L1239.37 62.6918 L1253.55 27.2059 L1261.45 27.2059 L1241.52 76.7889 Z\" fill=\"#000000\" fill-rule=\"evenodd\" fill-opacity=\"1\" /><path clip-path=\"url(#clip760)\" d=\"M 0 0 M1276.47 65.7705 L1276.47 89.8329 L1268.98 89.8329 L1268.98 27.2059 L1276.47 27.2059 L1276.47 34.0924 Q1278.82 30.0415 1282.39 28.0971 Q1285.99 26.1121 1290.98 26.1121 Q1299.24 26.1121 1304.39 32.6746 Q1309.57 39.2371 1309.57 49.9314 Q1309.57 60.6258 1304.39 67.1883 Q1299.24 73.7508 1290.98 73.7508 Q1285.99 73.7508 1282.39 71.8063 Q1278.82 69.8214 1276.47 65.7705 M1301.83 49.9314 Q1301.83 41.7081 1298.43 37.0496 Q1295.07 32.3505 1289.15 32.3505 Q1283.24 32.3505 1279.84 37.0496 Q1276.47 41.7081 1276.47 49.9314 Q1276.47 58.1548 1279.84 62.8538 Q1283.24 67.5124 1289.15 67.5124 Q1295.07 67.5124 1298.43 62.8538 Q1301.83 58.1548 1301.83 49.9314 Z\" fill=\"#000000\" fill-rule=\"evenodd\" fill-opacity=\"1\" /><path clip-path=\"url(#clip760)\" d=\"M 0 0 M1356.2 48.0275 L1356.2 51.6733 L1321.93 51.6733 Q1322.41 59.3701 1326.54 63.421 Q1330.72 67.4314 1338.13 67.4314 Q1342.42 67.4314 1346.43 66.3781 Q1350.48 65.3249 1354.45 63.2184 L1354.45 70.267 Q1350.44 71.9684 1346.23 72.8596 Q1342.02 73.7508 1337.68 73.7508 Q1326.83 73.7508 1320.47 67.4314 Q1314.15 61.1119 1314.15 50.3365 Q1314.15 39.1965 1320.14 32.6746 Q1326.18 26.1121 1336.39 26.1121 Q1345.54 26.1121 1350.85 32.0264 Q1356.2 37.9003 1356.2 48.0275 M1348.74 45.84 Q1348.66 39.7232 1345.3 36.0774 Q1341.98 32.4315 1336.47 32.4315 Q1330.23 32.4315 1326.46 35.9558 Q1322.74 39.4801 1322.17 45.8805 L1348.74 45.84 Z\" fill=\"#000000\" fill-rule=\"evenodd\" fill-opacity=\"1\" /><path clip-path=\"url(#clip760)\" d=\"M 0 0 M1420.24 49.3643 Q1420.24 41.2625 1416.88 36.8065 Q1413.56 32.3505 1407.52 32.3505 Q1401.53 32.3505 1398.16 36.8065 Q1394.84 41.2625 1394.84 49.3643 Q1394.84 57.4256 1398.16 61.8816 Q1401.53 66.3376 1407.52 66.3376 Q1413.56 66.3376 1416.88 61.8816 Q1420.24 57.4256 1420.24 49.3643 M1427.69 66.9452 Q1427.69 78.5308 1422.55 84.1616 Q1417.41 89.8329 1406.79 89.8329 Q1402.86 89.8329 1399.38 89.2252 Q1395.9 88.6581 1392.61 87.4428 L1392.61 80.1917 Q1395.9 81.9741 1399.1 82.8248 Q1402.3 83.6755 1405.62 83.6755 Q1412.95 83.6755 1416.6 79.8271 Q1420.24 76.0193 1420.24 68.282 L1420.24 64.5957 Q1417.93 68.6061 1414.33 70.5911 Q1410.72 72.576 1405.7 72.576 Q1397.35 72.576 1392.25 66.2161 Q1387.15 59.8562 1387.15 49.3643 Q1387.15 38.832 1392.25 32.472 Q1397.35 26.1121 1405.7 26.1121 Q1410.72 26.1121 1414.33 28.0971 Q1417.93 30.082 1420.24 34.0924 L1420.24 27.2059 L1427.69 27.2059 L1427.69 66.9452 Z\" fill=\"#000000\" fill-rule=\"evenodd\" fill-opacity=\"1\" /><path clip-path=\"url(#clip760)\" d=\"M 0 0 M1461.8 34.1734 Q1460.55 33.4443 1459.05 33.1202 Q1457.59 32.7556 1455.81 32.7556 Q1449.49 32.7556 1446.09 36.8875 Q1442.72 40.9789 1442.72 48.6757 L1442.72 72.576 L1435.23 72.576 L1435.23 27.2059 L1442.72 27.2059 L1442.72 34.2544 Q1445.07 30.1225 1448.84 28.1376 Q1452.61 26.1121 1458 26.1121 Q1458.77 26.1121 1459.7 26.2337 Q1460.63 26.3147 1461.76 26.5172 L1461.8 34.1734 Z\" fill=\"#000000\" fill-rule=\"evenodd\" fill-opacity=\"1\" /><path clip-path=\"url(#clip760)\" d=\"M 0 0 M1485.38 32.4315 Q1479.38 32.4315 1475.9 37.1306 Q1472.42 41.7891 1472.42 49.9314 Q1472.42 58.0738 1475.86 62.7728 Q1479.34 67.4314 1485.38 67.4314 Q1491.33 67.4314 1494.82 62.7323 Q1498.3 58.0333 1498.3 49.9314 Q1498.3 41.8701 1494.82 37.1711 Q1491.33 32.4315 1485.38 32.4315 M1485.38 26.1121 Q1495.1 26.1121 1500.65 32.4315 Q1506.2 38.7509 1506.2 49.9314 Q1506.2 61.0714 1500.65 67.4314 Q1495.1 73.7508 1485.38 73.7508 Q1475.62 73.7508 1470.07 67.4314 Q1464.56 61.0714 1464.56 49.9314 Q1464.56 38.7509 1470.07 32.4315 Q1475.62 26.1121 1485.38 26.1121 Z\" fill=\"#000000\" fill-rule=\"evenodd\" fill-opacity=\"1\" /><path clip-path=\"url(#clip760)\" d=\"M 0 0 M1509.69 27.2059 L1517.14 27.2059 L1526.46 62.6108 L1535.73 27.2059 L1544.52 27.2059 L1553.84 62.6108 L1563.12 27.2059 L1570.57 27.2059 L1558.7 72.576 L1549.91 72.576 L1540.15 35.3887 L1530.34 72.576 L1521.55 72.576 L1509.69 27.2059 Z\" fill=\"#000000\" fill-rule=\"evenodd\" fill-opacity=\"1\" /><path clip-path=\"url(#clip760)\" d=\"M 0 0 M1585.76 14.324 L1585.76 27.2059 L1601.11 27.2059 L1601.11 32.9987 L1585.76 32.9987 L1585.76 57.6282 Q1585.76 63.1779 1587.26 64.7578 Q1588.8 66.3376 1593.46 66.3376 L1601.11 66.3376 L1601.11 72.576 L1593.46 72.576 Q1584.83 72.576 1581.55 69.3758 Q1578.27 66.1351 1578.27 57.6282 L1578.27 32.9987 L1572.8 32.9987 L1572.8 27.2059 L1578.27 27.2059 L1578.27 14.324 L1585.76 14.324 Z\" fill=\"#000000\" fill-rule=\"evenodd\" fill-opacity=\"1\" /><path clip-path=\"url(#clip760)\" d=\"M 0 0 M1646.65 45.1919 L1646.65 72.576 L1639.19 72.576 L1639.19 45.4349 Q1639.19 38.994 1636.68 35.7938 Q1634.17 32.5936 1629.15 32.5936 Q1623.11 32.5936 1619.63 36.4419 Q1616.14 40.2903 1616.14 46.9338 L1616.14 72.576 L1608.65 72.576 L1608.65 9.54393 L1616.14 9.54393 L1616.14 34.2544 Q1618.82 30.163 1622.42 28.1376 Q1626.07 26.1121 1630.81 26.1121 Q1638.63 26.1121 1642.64 30.9732 Q1646.65 35.7938 1646.65 45.1919 Z\" fill=\"#000000\" fill-rule=\"evenodd\" fill-opacity=\"1\" /><polyline clip-path=\"url(#clip762)\" style=\"stroke:#009af9; stroke-width:4; stroke-opacity:1; fill:none\" points=\"\n",
       "  245.409,1447.87 266.075,1421.49 286.742,1395.13 307.408,1368.8 328.074,1342.49 348.741,1316.22 369.407,1289.99 390.074,1263.8 410.74,1237.65 431.406,1211.55 \n",
       "  452.073,1185.51 472.739,1159.52 493.405,1133.59 514.072,1107.73 534.738,1081.95 555.404,1056.26 576.071,1030.65 596.737,1005.15 617.403,979.747 638.07,954.467 \n",
       "  658.736,929.317 679.402,904.306 700.069,879.449 720.735,854.758 741.401,830.248 762.068,805.934 782.734,781.832 803.4,757.96 824.067,734.336 844.733,710.979 \n",
       "  865.399,687.911 886.066,665.151 906.732,642.724 927.398,620.651 948.065,598.956 968.731,577.665 989.397,556.801 1010.06,536.39 1030.73,516.457 1051.4,497.026 \n",
       "  1072.06,478.121 1092.73,459.765 1113.4,441.981 1134.06,424.788 1154.73,408.205 1175.39,392.25 1196.06,376.934 1216.73,362.271 1237.39,348.267 1258.06,334.928 \n",
       "  1278.73,322.255 1299.39,310.248 1320.06,298.901 1340.73,288.206 1361.39,278.152 1382.06,268.724 1402.72,259.906 1423.39,251.679 1444.06,244.02 1464.72,236.908 \n",
       "  1485.39,230.317 1506.06,224.223 1526.72,218.599 1547.39,213.419 1568.05,208.657 1588.72,204.286 1609.39,200.28 1630.05,196.615 1650.72,193.267 1671.39,190.211 \n",
       "  1692.05,187.425 1712.72,184.89 1733.39,182.584 1754.05,180.488 1774.72,178.586 1795.38,176.86 1816.05,175.296 1836.72,173.879 1857.38,172.596 1878.05,171.436 \n",
       "  1898.72,170.386 1919.38,169.437 1940.05,168.58 1960.72,167.806 1981.38,167.106 2002.05,166.475 2022.71,165.906 2043.38,165.392 2064.05,164.929 2084.71,164.511 \n",
       "  2105.38,164.135 2126.05,163.795 2146.71,163.489 2167.38,163.213 2188.05,162.965 2208.71,162.741 2229.38,162.539 2250.04,162.358 2270.71,162.194 2291.38,162.047 \n",
       "  \n",
       "  \"/>\n",
       "<path clip-path=\"url(#clip762)\" d=\"M245.409 1463.87 L234.097 1459.19 L229.409 1447.87 L234.097 1436.56 L245.409 1431.87 L256.721 1436.56 L261.409 1447.87 L256.721 1459.19 Z\" fill=\"#009af9\" fill-rule=\"evenodd\" fill-opacity=\"1\" stroke=\"#000000\" stroke-opacity=\"1\" stroke-width=\"3.2\"/>\n",
       "<path clip-path=\"url(#clip762)\" d=\"M266.075 1437.49 L254.763 1432.8 L250.075 1421.49 L254.763 1410.18 L266.075 1405.49 L277.387 1410.18 L282.075 1421.49 L277.387 1432.8 Z\" fill=\"#009af9\" fill-rule=\"evenodd\" fill-opacity=\"1\" stroke=\"#000000\" stroke-opacity=\"1\" stroke-width=\"3.2\"/>\n",
       "<path clip-path=\"url(#clip762)\" d=\"M286.742 1411.13 L275.43 1406.44 L270.742 1395.13 L275.43 1383.82 L286.742 1379.13 L298.054 1383.82 L302.742 1395.13 L298.054 1406.44 Z\" fill=\"#009af9\" fill-rule=\"evenodd\" fill-opacity=\"1\" stroke=\"#000000\" stroke-opacity=\"1\" stroke-width=\"3.2\"/>\n",
       "<path clip-path=\"url(#clip762)\" d=\"M307.408 1384.8 L296.096 1380.11 L291.408 1368.8 L296.096 1357.48 L307.408 1352.8 L318.72 1357.48 L323.408 1368.8 L318.72 1380.11 Z\" fill=\"#009af9\" fill-rule=\"evenodd\" fill-opacity=\"1\" stroke=\"#000000\" stroke-opacity=\"1\" stroke-width=\"3.2\"/>\n",
       "<path clip-path=\"url(#clip762)\" d=\"M328.074 1358.49 L316.762 1353.81 L312.074 1342.49 L316.762 1331.18 L328.074 1326.49 L339.386 1331.18 L344.074 1342.49 L339.386 1353.81 Z\" fill=\"#009af9\" fill-rule=\"evenodd\" fill-opacity=\"1\" stroke=\"#000000\" stroke-opacity=\"1\" stroke-width=\"3.2\"/>\n",
       "<path clip-path=\"url(#clip762)\" d=\"M348.741 1332.22 L337.429 1327.54 L332.741 1316.22 L337.429 1304.91 L348.741 1300.22 L360.053 1304.91 L364.741 1316.22 L360.053 1327.54 Z\" fill=\"#009af9\" fill-rule=\"evenodd\" fill-opacity=\"1\" stroke=\"#000000\" stroke-opacity=\"1\" stroke-width=\"3.2\"/>\n",
       "<path clip-path=\"url(#clip762)\" d=\"M369.407 1305.99 L358.095 1301.3 L353.407 1289.99 L358.095 1278.68 L369.407 1273.99 L380.719 1278.68 L385.407 1289.99 L380.719 1301.3 Z\" fill=\"#009af9\" fill-rule=\"evenodd\" fill-opacity=\"1\" stroke=\"#000000\" stroke-opacity=\"1\" stroke-width=\"3.2\"/>\n",
       "<path clip-path=\"url(#clip762)\" d=\"M390.074 1279.8 L378.762 1275.11 L374.074 1263.8 L378.762 1252.49 L390.074 1247.8 L401.386 1252.49 L406.074 1263.8 L401.386 1275.11 Z\" fill=\"#009af9\" fill-rule=\"evenodd\" fill-opacity=\"1\" stroke=\"#000000\" stroke-opacity=\"1\" stroke-width=\"3.2\"/>\n",
       "<path clip-path=\"url(#clip762)\" d=\"M410.74 1253.65 L399.428 1248.96 L394.74 1237.65 L399.428 1226.34 L410.74 1221.65 L422.052 1226.34 L426.74 1237.65 L422.052 1248.96 Z\" fill=\"#009af9\" fill-rule=\"evenodd\" fill-opacity=\"1\" stroke=\"#000000\" stroke-opacity=\"1\" stroke-width=\"3.2\"/>\n",
       "<path clip-path=\"url(#clip762)\" d=\"M431.406 1227.55 L420.094 1222.86 L415.406 1211.55 L420.094 1200.24 L431.406 1195.55 L442.718 1200.24 L447.406 1211.55 L442.718 1222.86 Z\" fill=\"#009af9\" fill-rule=\"evenodd\" fill-opacity=\"1\" stroke=\"#000000\" stroke-opacity=\"1\" stroke-width=\"3.2\"/>\n",
       "<path clip-path=\"url(#clip762)\" d=\"M452.073 1201.51 L440.761 1196.82 L436.073 1185.51 L440.761 1174.19 L452.073 1169.51 L463.385 1174.19 L468.073 1185.51 L463.385 1196.82 Z\" fill=\"#009af9\" fill-rule=\"evenodd\" fill-opacity=\"1\" stroke=\"#000000\" stroke-opacity=\"1\" stroke-width=\"3.2\"/>\n",
       "<path clip-path=\"url(#clip762)\" d=\"M472.739 1175.52 L461.427 1170.83 L456.739 1159.52 L461.427 1148.2 L472.739 1143.52 L484.051 1148.2 L488.739 1159.52 L484.051 1170.83 Z\" fill=\"#009af9\" fill-rule=\"evenodd\" fill-opacity=\"1\" stroke=\"#000000\" stroke-opacity=\"1\" stroke-width=\"3.2\"/>\n",
       "<path clip-path=\"url(#clip762)\" d=\"M493.405 1149.59 L482.093 1144.9 L477.405 1133.59 L482.093 1122.28 L493.405 1117.59 L504.717 1122.28 L509.405 1133.59 L504.717 1144.9 Z\" fill=\"#009af9\" fill-rule=\"evenodd\" fill-opacity=\"1\" stroke=\"#000000\" stroke-opacity=\"1\" stroke-width=\"3.2\"/>\n",
       "<path clip-path=\"url(#clip762)\" d=\"M514.072 1123.73 L502.76 1119.05 L498.072 1107.73 L502.76 1096.42 L514.072 1091.73 L525.384 1096.42 L530.072 1107.73 L525.384 1119.05 Z\" fill=\"#009af9\" fill-rule=\"evenodd\" fill-opacity=\"1\" stroke=\"#000000\" stroke-opacity=\"1\" stroke-width=\"3.2\"/>\n",
       "<path clip-path=\"url(#clip762)\" d=\"M534.738 1097.95 L523.426 1093.27 L518.738 1081.95 L523.426 1070.64 L534.738 1065.95 L546.05 1070.64 L550.738 1081.95 L546.05 1093.27 Z\" fill=\"#009af9\" fill-rule=\"evenodd\" fill-opacity=\"1\" stroke=\"#000000\" stroke-opacity=\"1\" stroke-width=\"3.2\"/>\n",
       "<path clip-path=\"url(#clip762)\" d=\"M555.404 1072.26 L544.092 1067.57 L539.404 1056.26 L544.092 1044.95 L555.404 1040.26 L566.716 1044.95 L571.404 1056.26 L566.716 1067.57 Z\" fill=\"#009af9\" fill-rule=\"evenodd\" fill-opacity=\"1\" stroke=\"#000000\" stroke-opacity=\"1\" stroke-width=\"3.2\"/>\n",
       "<path clip-path=\"url(#clip762)\" d=\"M576.071 1046.65 L564.759 1041.96 L560.071 1030.65 L564.759 1019.34 L576.071 1014.65 L587.383 1019.34 L592.071 1030.65 L587.383 1041.96 Z\" fill=\"#009af9\" fill-rule=\"evenodd\" fill-opacity=\"1\" stroke=\"#000000\" stroke-opacity=\"1\" stroke-width=\"3.2\"/>\n",
       "<path clip-path=\"url(#clip762)\" d=\"M596.737 1021.15 L585.425 1016.46 L580.737 1005.15 L585.425 993.833 L596.737 989.145 L608.049 993.833 L612.737 1005.15 L608.049 1016.46 Z\" fill=\"#009af9\" fill-rule=\"evenodd\" fill-opacity=\"1\" stroke=\"#000000\" stroke-opacity=\"1\" stroke-width=\"3.2\"/>\n",
       "<path clip-path=\"url(#clip762)\" d=\"M617.403 995.747 L606.091 991.059 L601.403 979.747 L606.091 968.435 L617.403 963.747 L628.715 968.435 L633.403 979.747 L628.715 991.059 Z\" fill=\"#009af9\" fill-rule=\"evenodd\" fill-opacity=\"1\" stroke=\"#000000\" stroke-opacity=\"1\" stroke-width=\"3.2\"/>\n",
       "<path clip-path=\"url(#clip762)\" d=\"M638.07 970.467 L626.758 965.779 L622.07 954.467 L626.758 943.155 L638.07 938.467 L649.382 943.155 L654.07 954.467 L649.382 965.779 Z\" fill=\"#009af9\" fill-rule=\"evenodd\" fill-opacity=\"1\" stroke=\"#000000\" stroke-opacity=\"1\" stroke-width=\"3.2\"/>\n",
       "<path clip-path=\"url(#clip762)\" d=\"M658.736 945.317 L647.424 940.629 L642.736 929.317 L647.424 918.005 L658.736 913.317 L670.048 918.005 L674.736 929.317 L670.048 940.629 Z\" fill=\"#009af9\" fill-rule=\"evenodd\" fill-opacity=\"1\" stroke=\"#000000\" stroke-opacity=\"1\" stroke-width=\"3.2\"/>\n",
       "<path clip-path=\"url(#clip762)\" d=\"M679.402 920.306 L668.09 915.618 L663.402 904.306 L668.09 892.994 L679.402 888.306 L690.714 892.994 L695.402 904.306 L690.714 915.618 Z\" fill=\"#009af9\" fill-rule=\"evenodd\" fill-opacity=\"1\" stroke=\"#000000\" stroke-opacity=\"1\" stroke-width=\"3.2\"/>\n",
       "<path clip-path=\"url(#clip762)\" d=\"M700.069 895.449 L688.757 890.761 L684.069 879.449 L688.757 868.137 L700.069 863.449 L711.381 868.137 L716.069 879.449 L711.381 890.761 Z\" fill=\"#009af9\" fill-rule=\"evenodd\" fill-opacity=\"1\" stroke=\"#000000\" stroke-opacity=\"1\" stroke-width=\"3.2\"/>\n",
       "<path clip-path=\"url(#clip762)\" d=\"M720.735 870.758 L709.423 866.07 L704.735 854.758 L709.423 843.446 L720.735 838.758 L732.047 843.446 L736.735 854.758 L732.047 866.07 Z\" fill=\"#009af9\" fill-rule=\"evenodd\" fill-opacity=\"1\" stroke=\"#000000\" stroke-opacity=\"1\" stroke-width=\"3.2\"/>\n",
       "<path clip-path=\"url(#clip762)\" d=\"M741.401 846.248 L730.089 841.56 L725.401 830.248 L730.089 818.936 L741.401 814.248 L752.713 818.936 L757.401 830.248 L752.713 841.56 Z\" fill=\"#009af9\" fill-rule=\"evenodd\" fill-opacity=\"1\" stroke=\"#000000\" stroke-opacity=\"1\" stroke-width=\"3.2\"/>\n",
       "<path clip-path=\"url(#clip762)\" d=\"M762.068 821.934 L750.756 817.246 L746.068 805.934 L750.756 794.622 L762.068 789.934 L773.38 794.622 L778.068 805.934 L773.38 817.246 Z\" fill=\"#009af9\" fill-rule=\"evenodd\" fill-opacity=\"1\" stroke=\"#000000\" stroke-opacity=\"1\" stroke-width=\"3.2\"/>\n",
       "<path clip-path=\"url(#clip762)\" d=\"M782.734 797.832 L771.422 793.144 L766.734 781.832 L771.422 770.52 L782.734 765.832 L794.046 770.52 L798.734 781.832 L794.046 793.144 Z\" fill=\"#009af9\" fill-rule=\"evenodd\" fill-opacity=\"1\" stroke=\"#000000\" stroke-opacity=\"1\" stroke-width=\"3.2\"/>\n",
       "<path clip-path=\"url(#clip762)\" d=\"M803.4 773.96 L792.088 769.272 L787.4 757.96 L792.088 746.648 L803.4 741.96 L814.712 746.648 L819.4 757.96 L814.712 769.272 Z\" fill=\"#009af9\" fill-rule=\"evenodd\" fill-opacity=\"1\" stroke=\"#000000\" stroke-opacity=\"1\" stroke-width=\"3.2\"/>\n",
       "<path clip-path=\"url(#clip762)\" d=\"M824.067 750.336 L812.755 745.648 L808.067 734.336 L812.755 723.024 L824.067 718.336 L835.379 723.024 L840.067 734.336 L835.379 745.648 Z\" fill=\"#009af9\" fill-rule=\"evenodd\" fill-opacity=\"1\" stroke=\"#000000\" stroke-opacity=\"1\" stroke-width=\"3.2\"/>\n",
       "<path clip-path=\"url(#clip762)\" d=\"M844.733 726.979 L833.421 722.291 L828.733 710.979 L833.421 699.667 L844.733 694.979 L856.045 699.667 L860.733 710.979 L856.045 722.291 Z\" fill=\"#009af9\" fill-rule=\"evenodd\" fill-opacity=\"1\" stroke=\"#000000\" stroke-opacity=\"1\" stroke-width=\"3.2\"/>\n",
       "<path clip-path=\"url(#clip762)\" d=\"M865.399 703.911 L854.087 699.223 L849.399 687.911 L854.087 676.599 L865.399 671.911 L876.711 676.599 L881.399 687.911 L876.711 699.223 Z\" fill=\"#009af9\" fill-rule=\"evenodd\" fill-opacity=\"1\" stroke=\"#000000\" stroke-opacity=\"1\" stroke-width=\"3.2\"/>\n",
       "<path clip-path=\"url(#clip762)\" d=\"M886.066 681.151 L874.754 676.463 L870.066 665.151 L874.754 653.839 L886.066 649.151 L897.378 653.839 L902.066 665.151 L897.378 676.463 Z\" fill=\"#009af9\" fill-rule=\"evenodd\" fill-opacity=\"1\" stroke=\"#000000\" stroke-opacity=\"1\" stroke-width=\"3.2\"/>\n",
       "<path clip-path=\"url(#clip762)\" d=\"M906.732 658.724 L895.42 654.036 L890.732 642.724 L895.42 631.412 L906.732 626.724 L918.044 631.412 L922.732 642.724 L918.044 654.036 Z\" fill=\"#009af9\" fill-rule=\"evenodd\" fill-opacity=\"1\" stroke=\"#000000\" stroke-opacity=\"1\" stroke-width=\"3.2\"/>\n",
       "<path clip-path=\"url(#clip762)\" d=\"M927.398 636.651 L916.086 631.963 L911.398 620.651 L916.086 609.339 L927.398 604.651 L938.71 609.339 L943.398 620.651 L938.71 631.963 Z\" fill=\"#009af9\" fill-rule=\"evenodd\" fill-opacity=\"1\" stroke=\"#000000\" stroke-opacity=\"1\" stroke-width=\"3.2\"/>\n",
       "<path clip-path=\"url(#clip762)\" d=\"M948.065 614.956 L936.753 610.268 L932.065 598.956 L936.753 587.644 L948.065 582.956 L959.377 587.644 L964.065 598.956 L959.377 610.268 Z\" fill=\"#009af9\" fill-rule=\"evenodd\" fill-opacity=\"1\" stroke=\"#000000\" stroke-opacity=\"1\" stroke-width=\"3.2\"/>\n",
       "<path clip-path=\"url(#clip762)\" d=\"M968.731 593.665 L957.419 588.977 L952.731 577.665 L957.419 566.353 L968.731 561.665 L980.043 566.353 L984.731 577.665 L980.043 588.977 Z\" fill=\"#009af9\" fill-rule=\"evenodd\" fill-opacity=\"1\" stroke=\"#000000\" stroke-opacity=\"1\" stroke-width=\"3.2\"/>\n",
       "<path clip-path=\"url(#clip762)\" d=\"M989.397 572.801 L978.085 568.113 L973.397 556.801 L978.085 545.489 L989.397 540.801 L1000.71 545.489 L1005.4 556.801 L1000.71 568.113 Z\" fill=\"#009af9\" fill-rule=\"evenodd\" fill-opacity=\"1\" stroke=\"#000000\" stroke-opacity=\"1\" stroke-width=\"3.2\"/>\n",
       "<path clip-path=\"url(#clip762)\" d=\"M1010.06 552.39 L998.752 547.702 L994.064 536.39 L998.752 525.078 L1010.06 520.39 L1021.38 525.078 L1026.06 536.39 L1021.38 547.702 Z\" fill=\"#009af9\" fill-rule=\"evenodd\" fill-opacity=\"1\" stroke=\"#000000\" stroke-opacity=\"1\" stroke-width=\"3.2\"/>\n",
       "<path clip-path=\"url(#clip762)\" d=\"M1030.73 532.457 L1019.42 527.769 L1014.73 516.457 L1019.42 505.145 L1030.73 500.457 L1042.04 505.145 L1046.73 516.457 L1042.04 527.769 Z\" fill=\"#009af9\" fill-rule=\"evenodd\" fill-opacity=\"1\" stroke=\"#000000\" stroke-opacity=\"1\" stroke-width=\"3.2\"/>\n",
       "<path clip-path=\"url(#clip762)\" d=\"M1051.4 513.026 L1040.08 508.338 L1035.4 497.026 L1040.08 485.714 L1051.4 481.026 L1062.71 485.714 L1067.4 497.026 L1062.71 508.338 Z\" fill=\"#009af9\" fill-rule=\"evenodd\" fill-opacity=\"1\" stroke=\"#000000\" stroke-opacity=\"1\" stroke-width=\"3.2\"/>\n",
       "<path clip-path=\"url(#clip762)\" d=\"M1072.06 494.121 L1060.75 489.433 L1056.06 478.121 L1060.75 466.809 L1072.06 462.121 L1083.37 466.809 L1088.06 478.121 L1083.37 489.433 Z\" fill=\"#009af9\" fill-rule=\"evenodd\" fill-opacity=\"1\" stroke=\"#000000\" stroke-opacity=\"1\" stroke-width=\"3.2\"/>\n",
       "<path clip-path=\"url(#clip762)\" d=\"M1092.73 475.765 L1081.42 471.077 L1076.73 459.765 L1081.42 448.453 L1092.73 443.765 L1104.04 448.453 L1108.73 459.765 L1104.04 471.077 Z\" fill=\"#009af9\" fill-rule=\"evenodd\" fill-opacity=\"1\" stroke=\"#000000\" stroke-opacity=\"1\" stroke-width=\"3.2\"/>\n",
       "<path clip-path=\"url(#clip762)\" d=\"M1113.4 457.981 L1102.08 453.293 L1097.4 441.981 L1102.08 430.669 L1113.4 425.981 L1124.71 430.669 L1129.4 441.981 L1124.71 453.293 Z\" fill=\"#009af9\" fill-rule=\"evenodd\" fill-opacity=\"1\" stroke=\"#000000\" stroke-opacity=\"1\" stroke-width=\"3.2\"/>\n",
       "<path clip-path=\"url(#clip762)\" d=\"M1134.06 440.788 L1122.75 436.1 L1118.06 424.788 L1122.75 413.476 L1134.06 408.788 L1145.37 413.476 L1150.06 424.788 L1145.37 436.1 Z\" fill=\"#009af9\" fill-rule=\"evenodd\" fill-opacity=\"1\" stroke=\"#000000\" stroke-opacity=\"1\" stroke-width=\"3.2\"/>\n",
       "<path clip-path=\"url(#clip762)\" d=\"M1154.73 424.205 L1143.42 419.517 L1138.73 408.205 L1143.42 396.893 L1154.73 392.205 L1166.04 396.893 L1170.73 408.205 L1166.04 419.517 Z\" fill=\"#009af9\" fill-rule=\"evenodd\" fill-opacity=\"1\" stroke=\"#000000\" stroke-opacity=\"1\" stroke-width=\"3.2\"/>\n",
       "<path clip-path=\"url(#clip762)\" d=\"M1175.39 408.25 L1164.08 403.562 L1159.39 392.25 L1164.08 380.938 L1175.39 376.25 L1186.71 380.938 L1191.39 392.25 L1186.71 403.562 Z\" fill=\"#009af9\" fill-rule=\"evenodd\" fill-opacity=\"1\" stroke=\"#000000\" stroke-opacity=\"1\" stroke-width=\"3.2\"/>\n",
       "<path clip-path=\"url(#clip762)\" d=\"M1196.06 392.934 L1184.75 388.246 L1180.06 376.934 L1184.75 365.622 L1196.06 360.934 L1207.37 365.622 L1212.06 376.934 L1207.37 388.246 Z\" fill=\"#009af9\" fill-rule=\"evenodd\" fill-opacity=\"1\" stroke=\"#000000\" stroke-opacity=\"1\" stroke-width=\"3.2\"/>\n",
       "<path clip-path=\"url(#clip762)\" d=\"M1216.73 378.271 L1205.42 373.583 L1200.73 362.271 L1205.42 350.959 L1216.73 346.271 L1228.04 350.959 L1232.73 362.271 L1228.04 373.583 Z\" fill=\"#009af9\" fill-rule=\"evenodd\" fill-opacity=\"1\" stroke=\"#000000\" stroke-opacity=\"1\" stroke-width=\"3.2\"/>\n",
       "<path clip-path=\"url(#clip762)\" d=\"M1237.39 364.267 L1226.08 359.579 L1221.39 348.267 L1226.08 336.955 L1237.39 332.267 L1248.71 336.955 L1253.39 348.267 L1248.71 359.579 Z\" fill=\"#009af9\" fill-rule=\"evenodd\" fill-opacity=\"1\" stroke=\"#000000\" stroke-opacity=\"1\" stroke-width=\"3.2\"/>\n",
       "<path clip-path=\"url(#clip762)\" d=\"M1258.06 350.928 L1246.75 346.24 L1242.06 334.928 L1246.75 323.616 L1258.06 318.928 L1269.37 323.616 L1274.06 334.928 L1269.37 346.24 Z\" fill=\"#009af9\" fill-rule=\"evenodd\" fill-opacity=\"1\" stroke=\"#000000\" stroke-opacity=\"1\" stroke-width=\"3.2\"/>\n",
       "<path clip-path=\"url(#clip762)\" d=\"M1278.73 338.255 L1267.41 333.567 L1262.73 322.255 L1267.41 310.943 L1278.73 306.255 L1290.04 310.943 L1294.73 322.255 L1290.04 333.567 Z\" fill=\"#009af9\" fill-rule=\"evenodd\" fill-opacity=\"1\" stroke=\"#000000\" stroke-opacity=\"1\" stroke-width=\"3.2\"/>\n",
       "<path clip-path=\"url(#clip762)\" d=\"M1299.39 326.248 L1288.08 321.56 L1283.39 310.248 L1288.08 298.936 L1299.39 294.248 L1310.7 298.936 L1315.39 310.248 L1310.7 321.56 Z\" fill=\"#009af9\" fill-rule=\"evenodd\" fill-opacity=\"1\" stroke=\"#000000\" stroke-opacity=\"1\" stroke-width=\"3.2\"/>\n",
       "<path clip-path=\"url(#clip762)\" d=\"M1320.06 314.901 L1308.75 310.213 L1304.06 298.901 L1308.75 287.589 L1320.06 282.901 L1331.37 287.589 L1336.06 298.901 L1331.37 310.213 Z\" fill=\"#009af9\" fill-rule=\"evenodd\" fill-opacity=\"1\" stroke=\"#000000\" stroke-opacity=\"1\" stroke-width=\"3.2\"/>\n",
       "<path clip-path=\"url(#clip762)\" d=\"M1340.73 304.206 L1329.41 299.518 L1324.73 288.206 L1329.41 276.894 L1340.73 272.206 L1352.04 276.894 L1356.73 288.206 L1352.04 299.518 Z\" fill=\"#009af9\" fill-rule=\"evenodd\" fill-opacity=\"1\" stroke=\"#000000\" stroke-opacity=\"1\" stroke-width=\"3.2\"/>\n",
       "<path clip-path=\"url(#clip762)\" d=\"M1361.39 294.152 L1350.08 289.464 L1345.39 278.152 L1350.08 266.84 L1361.39 262.152 L1372.7 266.84 L1377.39 278.152 L1372.7 289.464 Z\" fill=\"#009af9\" fill-rule=\"evenodd\" fill-opacity=\"1\" stroke=\"#000000\" stroke-opacity=\"1\" stroke-width=\"3.2\"/>\n",
       "<path clip-path=\"url(#clip762)\" d=\"M1382.06 284.724 L1370.75 280.036 L1366.06 268.724 L1370.75 257.412 L1382.06 252.724 L1393.37 257.412 L1398.06 268.724 L1393.37 280.036 Z\" fill=\"#009af9\" fill-rule=\"evenodd\" fill-opacity=\"1\" stroke=\"#000000\" stroke-opacity=\"1\" stroke-width=\"3.2\"/>\n",
       "<path clip-path=\"url(#clip762)\" d=\"M1402.72 275.906 L1391.41 271.218 L1386.72 259.906 L1391.41 248.594 L1402.72 243.906 L1414.04 248.594 L1418.72 259.906 L1414.04 271.218 Z\" fill=\"#009af9\" fill-rule=\"evenodd\" fill-opacity=\"1\" stroke=\"#000000\" stroke-opacity=\"1\" stroke-width=\"3.2\"/>\n",
       "<path clip-path=\"url(#clip762)\" d=\"M1423.39 267.679 L1412.08 262.991 L1407.39 251.679 L1412.08 240.367 L1423.39 235.679 L1434.7 240.367 L1439.39 251.679 L1434.7 262.991 Z\" fill=\"#009af9\" fill-rule=\"evenodd\" fill-opacity=\"1\" stroke=\"#000000\" stroke-opacity=\"1\" stroke-width=\"3.2\"/>\n",
       "<path clip-path=\"url(#clip762)\" d=\"M1444.06 260.02 L1432.74 255.332 L1428.06 244.02 L1432.74 232.708 L1444.06 228.02 L1455.37 232.708 L1460.06 244.02 L1455.37 255.332 Z\" fill=\"#009af9\" fill-rule=\"evenodd\" fill-opacity=\"1\" stroke=\"#000000\" stroke-opacity=\"1\" stroke-width=\"3.2\"/>\n",
       "<path clip-path=\"url(#clip762)\" d=\"M1464.72 252.908 L1453.41 248.22 L1448.72 236.908 L1453.41 225.596 L1464.72 220.908 L1476.04 225.596 L1480.72 236.908 L1476.04 248.22 Z\" fill=\"#009af9\" fill-rule=\"evenodd\" fill-opacity=\"1\" stroke=\"#000000\" stroke-opacity=\"1\" stroke-width=\"3.2\"/>\n",
       "<path clip-path=\"url(#clip762)\" d=\"M1485.39 246.317 L1474.08 241.629 L1469.39 230.317 L1474.08 219.005 L1485.39 214.317 L1496.7 219.005 L1501.39 230.317 L1496.7 241.629 Z\" fill=\"#009af9\" fill-rule=\"evenodd\" fill-opacity=\"1\" stroke=\"#000000\" stroke-opacity=\"1\" stroke-width=\"3.2\"/>\n",
       "<path clip-path=\"url(#clip762)\" d=\"M1506.06 240.223 L1494.74 235.535 L1490.06 224.223 L1494.74 212.911 L1506.06 208.223 L1517.37 212.911 L1522.06 224.223 L1517.37 235.535 Z\" fill=\"#009af9\" fill-rule=\"evenodd\" fill-opacity=\"1\" stroke=\"#000000\" stroke-opacity=\"1\" stroke-width=\"3.2\"/>\n",
       "<path clip-path=\"url(#clip762)\" d=\"M1526.72 234.599 L1515.41 229.911 L1510.72 218.599 L1515.41 207.287 L1526.72 202.599 L1538.03 207.287 L1542.72 218.599 L1538.03 229.911 Z\" fill=\"#009af9\" fill-rule=\"evenodd\" fill-opacity=\"1\" stroke=\"#000000\" stroke-opacity=\"1\" stroke-width=\"3.2\"/>\n",
       "<path clip-path=\"url(#clip762)\" d=\"M1547.39 229.419 L1536.08 224.731 L1531.39 213.419 L1536.08 202.107 L1547.39 197.419 L1558.7 202.107 L1563.39 213.419 L1558.7 224.731 Z\" fill=\"#009af9\" fill-rule=\"evenodd\" fill-opacity=\"1\" stroke=\"#000000\" stroke-opacity=\"1\" stroke-width=\"3.2\"/>\n",
       "<path clip-path=\"url(#clip762)\" d=\"M1568.05 224.657 L1556.74 219.969 L1552.05 208.657 L1556.74 197.345 L1568.05 192.657 L1579.37 197.345 L1584.05 208.657 L1579.37 219.969 Z\" fill=\"#009af9\" fill-rule=\"evenodd\" fill-opacity=\"1\" stroke=\"#000000\" stroke-opacity=\"1\" stroke-width=\"3.2\"/>\n",
       "<path clip-path=\"url(#clip762)\" d=\"M1588.72 220.286 L1577.41 215.598 L1572.72 204.286 L1577.41 192.974 L1588.72 188.286 L1600.03 192.974 L1604.72 204.286 L1600.03 215.598 Z\" fill=\"#009af9\" fill-rule=\"evenodd\" fill-opacity=\"1\" stroke=\"#000000\" stroke-opacity=\"1\" stroke-width=\"3.2\"/>\n",
       "<path clip-path=\"url(#clip762)\" d=\"M1609.39 216.28 L1598.08 211.592 L1593.39 200.28 L1598.08 188.968 L1609.39 184.28 L1620.7 188.968 L1625.39 200.28 L1620.7 211.592 Z\" fill=\"#009af9\" fill-rule=\"evenodd\" fill-opacity=\"1\" stroke=\"#000000\" stroke-opacity=\"1\" stroke-width=\"3.2\"/>\n",
       "<path clip-path=\"url(#clip762)\" d=\"M1630.05 212.615 L1618.74 207.927 L1614.05 196.615 L1618.74 185.303 L1630.05 180.615 L1641.37 185.303 L1646.05 196.615 L1641.37 207.927 Z\" fill=\"#009af9\" fill-rule=\"evenodd\" fill-opacity=\"1\" stroke=\"#000000\" stroke-opacity=\"1\" stroke-width=\"3.2\"/>\n",
       "<path clip-path=\"url(#clip762)\" d=\"M1650.72 209.267 L1639.41 204.579 L1634.72 193.267 L1639.41 181.955 L1650.72 177.267 L1662.03 181.955 L1666.72 193.267 L1662.03 204.579 Z\" fill=\"#009af9\" fill-rule=\"evenodd\" fill-opacity=\"1\" stroke=\"#000000\" stroke-opacity=\"1\" stroke-width=\"3.2\"/>\n",
       "<path clip-path=\"url(#clip762)\" d=\"M1671.39 206.211 L1660.07 201.523 L1655.39 190.211 L1660.07 178.899 L1671.39 174.211 L1682.7 178.899 L1687.39 190.211 L1682.7 201.523 Z\" fill=\"#009af9\" fill-rule=\"evenodd\" fill-opacity=\"1\" stroke=\"#000000\" stroke-opacity=\"1\" stroke-width=\"3.2\"/>\n",
       "<path clip-path=\"url(#clip762)\" d=\"M1692.05 203.425 L1680.74 198.737 L1676.05 187.425 L1680.74 176.113 L1692.05 171.425 L1703.36 176.113 L1708.05 187.425 L1703.36 198.737 Z\" fill=\"#009af9\" fill-rule=\"evenodd\" fill-opacity=\"1\" stroke=\"#000000\" stroke-opacity=\"1\" stroke-width=\"3.2\"/>\n",
       "<path clip-path=\"url(#clip762)\" d=\"M1712.72 200.89 L1701.41 196.202 L1696.72 184.89 L1701.41 173.578 L1712.72 168.89 L1724.03 173.578 L1728.72 184.89 L1724.03 196.202 Z\" fill=\"#009af9\" fill-rule=\"evenodd\" fill-opacity=\"1\" stroke=\"#000000\" stroke-opacity=\"1\" stroke-width=\"3.2\"/>\n",
       "<path clip-path=\"url(#clip762)\" d=\"M1733.39 198.584 L1722.07 193.896 L1717.39 182.584 L1722.07 171.272 L1733.39 166.584 L1744.7 171.272 L1749.39 182.584 L1744.7 193.896 Z\" fill=\"#009af9\" fill-rule=\"evenodd\" fill-opacity=\"1\" stroke=\"#000000\" stroke-opacity=\"1\" stroke-width=\"3.2\"/>\n",
       "<path clip-path=\"url(#clip762)\" d=\"M1754.05 196.488 L1742.74 191.8 L1738.05 180.488 L1742.74 169.176 L1754.05 164.488 L1765.36 169.176 L1770.05 180.488 L1765.36 191.8 Z\" fill=\"#009af9\" fill-rule=\"evenodd\" fill-opacity=\"1\" stroke=\"#000000\" stroke-opacity=\"1\" stroke-width=\"3.2\"/>\n",
       "<path clip-path=\"url(#clip762)\" d=\"M1774.72 194.586 L1763.41 189.898 L1758.72 178.586 L1763.41 167.274 L1774.72 162.586 L1786.03 167.274 L1790.72 178.586 L1786.03 189.898 Z\" fill=\"#009af9\" fill-rule=\"evenodd\" fill-opacity=\"1\" stroke=\"#000000\" stroke-opacity=\"1\" stroke-width=\"3.2\"/>\n",
       "<path clip-path=\"url(#clip762)\" d=\"M1795.38 192.86 L1784.07 188.172 L1779.38 176.86 L1784.07 165.548 L1795.38 160.86 L1806.7 165.548 L1811.38 176.86 L1806.7 188.172 Z\" fill=\"#009af9\" fill-rule=\"evenodd\" fill-opacity=\"1\" stroke=\"#000000\" stroke-opacity=\"1\" stroke-width=\"3.2\"/>\n",
       "<path clip-path=\"url(#clip762)\" d=\"M1816.05 191.296 L1804.74 186.608 L1800.05 175.296 L1804.74 163.984 L1816.05 159.296 L1827.36 163.984 L1832.05 175.296 L1827.36 186.608 Z\" fill=\"#009af9\" fill-rule=\"evenodd\" fill-opacity=\"1\" stroke=\"#000000\" stroke-opacity=\"1\" stroke-width=\"3.2\"/>\n",
       "<path clip-path=\"url(#clip762)\" d=\"M1836.72 189.879 L1825.41 185.191 L1820.72 173.879 L1825.41 162.567 L1836.72 157.879 L1848.03 162.567 L1852.72 173.879 L1848.03 185.191 Z\" fill=\"#009af9\" fill-rule=\"evenodd\" fill-opacity=\"1\" stroke=\"#000000\" stroke-opacity=\"1\" stroke-width=\"3.2\"/>\n",
       "<path clip-path=\"url(#clip762)\" d=\"M1857.38 188.596 L1846.07 183.908 L1841.38 172.596 L1846.07 161.284 L1857.38 156.596 L1868.7 161.284 L1873.38 172.596 L1868.7 183.908 Z\" fill=\"#009af9\" fill-rule=\"evenodd\" fill-opacity=\"1\" stroke=\"#000000\" stroke-opacity=\"1\" stroke-width=\"3.2\"/>\n",
       "<path clip-path=\"url(#clip762)\" d=\"M1878.05 187.436 L1866.74 182.748 L1862.05 171.436 L1866.74 160.124 L1878.05 155.436 L1889.36 160.124 L1894.05 171.436 L1889.36 182.748 Z\" fill=\"#009af9\" fill-rule=\"evenodd\" fill-opacity=\"1\" stroke=\"#000000\" stroke-opacity=\"1\" stroke-width=\"3.2\"/>\n",
       "<path clip-path=\"url(#clip762)\" d=\"M1898.72 186.386 L1887.4 181.698 L1882.72 170.386 L1887.4 159.074 L1898.72 154.386 L1910.03 159.074 L1914.72 170.386 L1910.03 181.698 Z\" fill=\"#009af9\" fill-rule=\"evenodd\" fill-opacity=\"1\" stroke=\"#000000\" stroke-opacity=\"1\" stroke-width=\"3.2\"/>\n",
       "<path clip-path=\"url(#clip762)\" d=\"M1919.38 185.437 L1908.07 180.749 L1903.38 169.437 L1908.07 158.125 L1919.38 153.437 L1930.69 158.125 L1935.38 169.437 L1930.69 180.749 Z\" fill=\"#009af9\" fill-rule=\"evenodd\" fill-opacity=\"1\" stroke=\"#000000\" stroke-opacity=\"1\" stroke-width=\"3.2\"/>\n",
       "<path clip-path=\"url(#clip762)\" d=\"M1940.05 184.58 L1928.74 179.892 L1924.05 168.58 L1928.74 157.268 L1940.05 152.58 L1951.36 157.268 L1956.05 168.58 L1951.36 179.892 Z\" fill=\"#009af9\" fill-rule=\"evenodd\" fill-opacity=\"1\" stroke=\"#000000\" stroke-opacity=\"1\" stroke-width=\"3.2\"/>\n",
       "<path clip-path=\"url(#clip762)\" d=\"M1960.72 183.806 L1949.4 179.118 L1944.72 167.806 L1949.4 156.494 L1960.72 151.806 L1972.03 156.494 L1976.72 167.806 L1972.03 179.118 Z\" fill=\"#009af9\" fill-rule=\"evenodd\" fill-opacity=\"1\" stroke=\"#000000\" stroke-opacity=\"1\" stroke-width=\"3.2\"/>\n",
       "<path clip-path=\"url(#clip762)\" d=\"M1981.38 183.106 L1970.07 178.418 L1965.38 167.106 L1970.07 155.794 L1981.38 151.106 L1992.69 155.794 L1997.38 167.106 L1992.69 178.418 Z\" fill=\"#009af9\" fill-rule=\"evenodd\" fill-opacity=\"1\" stroke=\"#000000\" stroke-opacity=\"1\" stroke-width=\"3.2\"/>\n",
       "<path clip-path=\"url(#clip762)\" d=\"M2002.05 182.475 L1990.74 177.787 L1986.05 166.475 L1990.74 155.163 L2002.05 150.475 L2013.36 155.163 L2018.05 166.475 L2013.36 177.787 Z\" fill=\"#009af9\" fill-rule=\"evenodd\" fill-opacity=\"1\" stroke=\"#000000\" stroke-opacity=\"1\" stroke-width=\"3.2\"/>\n",
       "<path clip-path=\"url(#clip762)\" d=\"M2022.71 181.906 L2011.4 177.218 L2006.71 165.906 L2011.4 154.594 L2022.71 149.906 L2034.03 154.594 L2038.71 165.906 L2034.03 177.218 Z\" fill=\"#009af9\" fill-rule=\"evenodd\" fill-opacity=\"1\" stroke=\"#000000\" stroke-opacity=\"1\" stroke-width=\"3.2\"/>\n",
       "<path clip-path=\"url(#clip762)\" d=\"M2043.38 181.392 L2032.07 176.704 L2027.38 165.392 L2032.07 154.08 L2043.38 149.392 L2054.69 154.08 L2059.38 165.392 L2054.69 176.704 Z\" fill=\"#009af9\" fill-rule=\"evenodd\" fill-opacity=\"1\" stroke=\"#000000\" stroke-opacity=\"1\" stroke-width=\"3.2\"/>\n",
       "<path clip-path=\"url(#clip762)\" d=\"M2064.05 180.929 L2052.74 176.241 L2048.05 164.929 L2052.74 153.617 L2064.05 148.929 L2075.36 153.617 L2080.05 164.929 L2075.36 176.241 Z\" fill=\"#009af9\" fill-rule=\"evenodd\" fill-opacity=\"1\" stroke=\"#000000\" stroke-opacity=\"1\" stroke-width=\"3.2\"/>\n",
       "<path clip-path=\"url(#clip762)\" d=\"M2084.71 180.511 L2073.4 175.823 L2068.71 164.511 L2073.4 153.199 L2084.71 148.511 L2096.03 153.199 L2100.71 164.511 L2096.03 175.823 Z\" fill=\"#009af9\" fill-rule=\"evenodd\" fill-opacity=\"1\" stroke=\"#000000\" stroke-opacity=\"1\" stroke-width=\"3.2\"/>\n",
       "<path clip-path=\"url(#clip762)\" d=\"M2105.38 180.135 L2094.07 175.447 L2089.38 164.135 L2094.07 152.823 L2105.38 148.135 L2116.69 152.823 L2121.38 164.135 L2116.69 175.447 Z\" fill=\"#009af9\" fill-rule=\"evenodd\" fill-opacity=\"1\" stroke=\"#000000\" stroke-opacity=\"1\" stroke-width=\"3.2\"/>\n",
       "<path clip-path=\"url(#clip762)\" d=\"M2126.05 179.795 L2114.73 175.107 L2110.05 163.795 L2114.73 152.483 L2126.05 147.795 L2137.36 152.483 L2142.05 163.795 L2137.36 175.107 Z\" fill=\"#009af9\" fill-rule=\"evenodd\" fill-opacity=\"1\" stroke=\"#000000\" stroke-opacity=\"1\" stroke-width=\"3.2\"/>\n",
       "<path clip-path=\"url(#clip762)\" d=\"M2146.71 179.489 L2135.4 174.801 L2130.71 163.489 L2135.4 152.177 L2146.71 147.489 L2158.02 152.177 L2162.71 163.489 L2158.02 174.801 Z\" fill=\"#009af9\" fill-rule=\"evenodd\" fill-opacity=\"1\" stroke=\"#000000\" stroke-opacity=\"1\" stroke-width=\"3.2\"/>\n",
       "<path clip-path=\"url(#clip762)\" d=\"M2167.38 179.213 L2156.07 174.525 L2151.38 163.213 L2156.07 151.901 L2167.38 147.213 L2178.69 151.901 L2183.38 163.213 L2178.69 174.525 Z\" fill=\"#009af9\" fill-rule=\"evenodd\" fill-opacity=\"1\" stroke=\"#000000\" stroke-opacity=\"1\" stroke-width=\"3.2\"/>\n",
       "<path clip-path=\"url(#clip762)\" d=\"M2188.05 178.965 L2176.73 174.277 L2172.05 162.965 L2176.73 151.653 L2188.05 146.965 L2199.36 151.653 L2204.05 162.965 L2199.36 174.277 Z\" fill=\"#009af9\" fill-rule=\"evenodd\" fill-opacity=\"1\" stroke=\"#000000\" stroke-opacity=\"1\" stroke-width=\"3.2\"/>\n",
       "<path clip-path=\"url(#clip762)\" d=\"M2208.71 178.741 L2197.4 174.053 L2192.71 162.741 L2197.4 151.429 L2208.71 146.741 L2220.02 151.429 L2224.71 162.741 L2220.02 174.053 Z\" fill=\"#009af9\" fill-rule=\"evenodd\" fill-opacity=\"1\" stroke=\"#000000\" stroke-opacity=\"1\" stroke-width=\"3.2\"/>\n",
       "<path clip-path=\"url(#clip762)\" d=\"M2229.38 178.539 L2218.07 173.851 L2213.38 162.539 L2218.07 151.227 L2229.38 146.539 L2240.69 151.227 L2245.38 162.539 L2240.69 173.851 Z\" fill=\"#009af9\" fill-rule=\"evenodd\" fill-opacity=\"1\" stroke=\"#000000\" stroke-opacity=\"1\" stroke-width=\"3.2\"/>\n",
       "<path clip-path=\"url(#clip762)\" d=\"M2250.04 178.358 L2238.73 173.67 L2234.04 162.358 L2238.73 151.046 L2250.04 146.358 L2261.36 151.046 L2266.04 162.358 L2261.36 173.67 Z\" fill=\"#009af9\" fill-rule=\"evenodd\" fill-opacity=\"1\" stroke=\"#000000\" stroke-opacity=\"1\" stroke-width=\"3.2\"/>\n",
       "<path clip-path=\"url(#clip762)\" d=\"M2270.71 178.194 L2259.4 173.506 L2254.71 162.194 L2259.4 150.882 L2270.71 146.194 L2282.02 150.882 L2286.71 162.194 L2282.02 173.506 Z\" fill=\"#009af9\" fill-rule=\"evenodd\" fill-opacity=\"1\" stroke=\"#000000\" stroke-opacity=\"1\" stroke-width=\"3.2\"/>\n",
       "<path clip-path=\"url(#clip762)\" d=\"M2291.38 178.047 L2280.06 173.359 L2275.38 162.047 L2280.06 150.735 L2291.38 146.047 L2302.69 150.735 L2307.38 162.047 L2302.69 173.359 Z\" fill=\"#009af9\" fill-rule=\"evenodd\" fill-opacity=\"1\" stroke=\"#000000\" stroke-opacity=\"1\" stroke-width=\"3.2\"/>\n",
       "<path clip-path=\"url(#clip760)\" d=\"\n",
       "M1988.48 289.865 L2280.47 289.865 L2280.47 168.905 L1988.48 168.905  Z\n",
       "  \" fill=\"#ffffff\" fill-rule=\"evenodd\" fill-opacity=\"1\"/>\n",
       "<polyline clip-path=\"url(#clip760)\" style=\"stroke:#000000; stroke-width:4; stroke-opacity:1; fill:none\" points=\"\n",
       "  1988.48,289.865 2280.47,289.865 2280.47,168.905 1988.48,168.905 1988.48,289.865 \n",
       "  \"/>\n",
       "<polyline clip-path=\"url(#clip760)\" style=\"stroke:#009af9; stroke-width:4; stroke-opacity:1; fill:none\" points=\"\n",
       "  2012.57,229.385 2157.16,229.385 \n",
       "  \"/>\n",
       "<path clip-path=\"url(#clip760)\" d=\"M2084.87 254.985 L2066.77 247.484 L2059.27 229.385 L2066.77 211.285 L2084.87 203.785 L2102.96 211.285 L2110.47 229.385 L2102.96 247.484 Z\" fill=\"#009af9\" fill-rule=\"evenodd\" fill-opacity=\"1\" stroke=\"#000000\" stroke-opacity=\"1\" stroke-width=\"5.12\"/>\n",
       "<path clip-path=\"url(#clip760)\" d=\"M 0 0 M2195.1 249.072 Q2193.29 253.702 2191.58 255.114 Q2189.86 256.526 2186.99 256.526 L2183.59 256.526 L2183.59 252.961 L2186.09 252.961 Q2187.85 252.961 2188.82 252.128 Q2189.79 251.294 2190.98 248.192 L2191.74 246.248 L2181.25 220.739 L2185.77 220.739 L2193.87 241.017 L2201.97 220.739 L2206.48 220.739 L2195.1 249.072 Z\" fill=\"#000000\" fill-rule=\"evenodd\" fill-opacity=\"1\" /><path clip-path=\"url(#clip760)\" d=\"M 0 0 M2212.36 242.729 L2220 242.729 L2220 216.364 L2211.69 218.031 L2211.69 213.771 L2219.96 212.105 L2224.63 212.105 L2224.63 242.729 L2232.27 242.729 L2232.27 246.665 L2212.36 246.665 L2212.36 242.729 Z\" fill=\"#000000\" fill-rule=\"evenodd\" fill-opacity=\"1\" /></svg>\n"
      ]
     },
     "execution_count": 84,
     "metadata": {},
     "output_type": "execute_result"
    }
   ],
   "source": [
    "plot(I, m=:o, yscale=:log10)\n",
    "title!(\"Logistic-type growth\")"
   ]
  },
  {
   "cell_type": "markdown",
   "metadata": {},
   "source": [
    "## More realism: Heterogeneity of individuals\n",
    "\n",
    "> Idea: Instead of modelling popuylation globally, model each individual\n",
    " \n",
    "- *Patch model*: Local patches where population is **well mixed**\n",
    "- *Network model*: Links between nodes"
   ]
  },
  {
   "cell_type": "markdown",
   "metadata": {},
   "source": [
    "Exponential growth:\n",
    " \n",
    " $I_{n+1} = \\lambda I_n$ &rarr; growth rate changes in time"
   ]
  },
  {
   "cell_type": "markdown",
   "metadata": {},
   "source": [
    "## Random values\n",
    "\n",
    "For real random values go to [random.org](www.random.org)"
   ]
  },
  {
   "cell_type": "markdown",
   "metadata": {},
   "source": [
    "Random numbers between 0 and 1:"
   ]
  },
  {
   "cell_type": "code",
   "execution_count": 91,
   "metadata": {},
   "outputs": [
    {
     "name": "stdout",
     "output_type": "stream",
     "text": [
      "rand() = 0.7259038965677891\n",
      "rand() = 0.6501870687535087\n",
      "rand() = 0.4250024512035022\n",
      "rand() = 0.8201952600359164\n",
      "rand() = 0.14422847444684228\n",
      "rand() = 0.7486822095253662\n",
      "rand() = 0.05867708511376146\n",
      "rand() = 0.7651590399926838\n",
      "rand() = 0.21867639768362301\n",
      "rand() = 0.27539760156985116\n"
     ]
    }
   ],
   "source": [
    "[rand() for i in 1:1]"
   ]
  },
  {
   "cell_type": "markdown",
   "metadata": {},
   "source": [
    "Random numbers from a gaussian distribution:"
   ]
  },
  {
   "cell_type": "code",
   "execution_count": 92,
   "metadata": {},
   "outputs": [
    {
     "name": "stdout",
     "output_type": "stream",
     "text": [
      "randn() = 1.8607960200711762\n",
      "randn() = 0.36272040436406894\n",
      "randn() = -2.440994129674222\n",
      "randn() = 1.0688313947433834\n",
      "randn() = -0.2612847329349688\n",
      "randn() = 1.9830022657950983\n",
      "randn() = -1.1645500710008718\n",
      "randn() = -0.6449180532234828\n",
      "randn() = -0.3731236266186792\n",
      "randn() = -0.8620642627983233\n"
     ]
    }
   ],
   "source": [
    "for i in 1:10\n",
    "    @show randn()\n",
    "end"
   ]
  },
  {
   "cell_type": "markdown",
   "metadata": {},
   "source": [
    "## Add randomness to the infection model"
   ]
  },
  {
   "cell_type": "code",
   "execution_count": 94,
   "metadata": {},
   "outputs": [
    {
     "data": {
      "text/plain": [
       "run_infection (generic function with 3 methods)"
      ]
     },
     "execution_count": 94,
     "metadata": {},
     "output_type": "execute_result"
    }
   ],
   "source": [
    "p = 0.02\n",
    "α = 0.01\n",
    "N = 1000\n",
    "\n",
    "β(I, S) = p * α * S\n",
    "\n",
    "function run_infection(c_average=1.1, T = 20)\n",
    "    \n",
    "    I = zeros(T)\n",
    "    I[1] = I₀\n",
    "    \n",
    "    for n in 1:T-1\n",
    "        c = c_average + 0.1*randn()\n",
    "        I[n+1] = I[n] + c * I[n]\n",
    "    end\n",
    "end"
   ]
  },
  {
   "cell_type": "code",
   "execution_count": 95,
   "metadata": {},
   "outputs": [
    {
     "data": {
      "text/plain": [
       "100-element Vector{Float64}:\n",
       " 1.1547245950261458\n",
       " 1.2324858271933266\n",
       " 1.1517988436659095\n",
       " 1.2568181577499358\n",
       " 1.060598143694681\n",
       " 1.1433696181326287\n",
       " 1.1261045717576434\n",
       " 0.9132395664543387\n",
       " 0.9421478006358643\n",
       " 1.1509613206471978\n",
       " 0.9931987379710914\n",
       " 1.1825585633431606\n",
       " 1.1291055884876235\n",
       " ⋮\n",
       " 1.0608796696100975\n",
       " 1.0217403098937177\n",
       " 1.0731176643563012\n",
       " 1.1603533011096783\n",
       " 1.0728298994546446\n",
       " 1.0671544238307153\n",
       " 1.116109557767238\n",
       " 0.9965900063495665\n",
       " 1.3235901016957947\n",
       " 1.2416965857305857\n",
       " 1.0252650189497001\n",
       " 1.155079705068042"
      ]
     },
     "execution_count": 95,
     "metadata": {},
     "output_type": "execute_result"
    }
   ],
   "source": [
    "c_average = 1.1\n",
    "cs = [c_average + 0.1*randn() for i in 1:100]"
   ]
  },
  {
   "cell_type": "code",
   "execution_count": null,
   "metadata": {},
   "outputs": [],
   "source": []
  }
 ],
 "metadata": {
  "@webio": {
   "lastCommId": "df1c1227-31bd-4432-8183-f4fa5cf8f889",
   "lastKernelId": "4fe35d73-4234-4d9b-9302-78f461ba68d7"
  },
  "kernelspec": {
   "display_name": "Julia 1.6.0",
   "language": "julia",
   "name": "julia-1.6"
  },
  "language_info": {
   "file_extension": ".jl",
   "mimetype": "application/julia",
   "name": "julia",
   "version": "1.6.0"
  }
 },
 "nbformat": 4,
 "nbformat_minor": 4
}
